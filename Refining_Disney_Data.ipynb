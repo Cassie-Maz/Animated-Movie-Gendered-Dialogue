{
 "cells": [
  {
   "cell_type": "markdown",
   "metadata": {},
   "source": [
    "# Refining My Disney Data\n",
    "This code will accomplish several things, including\n",
    "* A clear outline of what the disney script corpus includes\n",
    "* Separating out movies I do not wish to analyze\n",
    "* Identifying song lyrics vs dialogue\n",
    "* Identifying speaker gender\n",
    "* Identifying role: Protagonist or Antagonist\n",
    "* Adding Moana"
   ]
  },
  {
   "cell_type": "code",
   "execution_count": 1,
   "metadata": {},
   "outputs": [],
   "source": [
    "#import necessary modules\n",
    "import numpy as np\n",
    "import pandas as pd"
   ]
  },
  {
   "cell_type": "code",
   "execution_count": 2,
   "metadata": {},
   "outputs": [],
   "source": [
    "#import csv as a dataframe\n",
    "disney = pd.read_csv(r'C:\\Users\\cassi\\Desktop\\Disney_Corpus.csv')"
   ]
  },
  {
   "cell_type": "code",
   "execution_count": 3,
   "metadata": {},
   "outputs": [
    {
     "data": {
      "text/html": [
       "<div>\n",
       "<style scoped>\n",
       "    .dataframe tbody tr th:only-of-type {\n",
       "        vertical-align: middle;\n",
       "    }\n",
       "\n",
       "    .dataframe tbody tr th {\n",
       "        vertical-align: top;\n",
       "    }\n",
       "\n",
       "    .dataframe thead th {\n",
       "        text-align: right;\n",
       "    }\n",
       "</style>\n",
       "<table border=\"1\" class=\"dataframe\">\n",
       "  <thead>\n",
       "    <tr style=\"text-align: right;\">\n",
       "      <th></th>\n",
       "      <th>Disney_Period</th>\n",
       "      <th>Text</th>\n",
       "      <th>Speaker_Status</th>\n",
       "      <th>Movie</th>\n",
       "      <th>Speaker</th>\n",
       "      <th>Year</th>\n",
       "      <th>UTTERANCE_NUMBER</th>\n",
       "    </tr>\n",
       "  </thead>\n",
       "  <tbody>\n",
       "    <tr>\n",
       "      <th>0</th>\n",
       "      <td>EARLY</td>\n",
       "      <td>slave in the magic mirror come from the farthe...</td>\n",
       "      <td>NON-P</td>\n",
       "      <td>Snow White</td>\n",
       "      <td>queen</td>\n",
       "      <td>1937</td>\n",
       "      <td>1</td>\n",
       "    </tr>\n",
       "    <tr>\n",
       "      <th>1</th>\n",
       "      <td>EARLY</td>\n",
       "      <td>what wouldst thou know, my queen ?</td>\n",
       "      <td>NON-P</td>\n",
       "      <td>Snow White</td>\n",
       "      <td>mirror</td>\n",
       "      <td>1937</td>\n",
       "      <td>2</td>\n",
       "    </tr>\n",
       "    <tr>\n",
       "      <th>2</th>\n",
       "      <td>EARLY</td>\n",
       "      <td>magic mirror on the wall, who is the fairest o...</td>\n",
       "      <td>NON-P</td>\n",
       "      <td>Snow White</td>\n",
       "      <td>queen</td>\n",
       "      <td>1937</td>\n",
       "      <td>3</td>\n",
       "    </tr>\n",
       "    <tr>\n",
       "      <th>3</th>\n",
       "      <td>EARLY</td>\n",
       "      <td>famed is thy beauty, majesty. but hold, a love...</td>\n",
       "      <td>NON-P</td>\n",
       "      <td>Snow White</td>\n",
       "      <td>mirror</td>\n",
       "      <td>1937</td>\n",
       "      <td>4</td>\n",
       "    </tr>\n",
       "    <tr>\n",
       "      <th>4</th>\n",
       "      <td>EARLY</td>\n",
       "      <td>alas for her ! reveal her name.</td>\n",
       "      <td>NON-P</td>\n",
       "      <td>Snow White</td>\n",
       "      <td>queen</td>\n",
       "      <td>1937</td>\n",
       "      <td>5</td>\n",
       "    </tr>\n",
       "  </tbody>\n",
       "</table>\n",
       "</div>"
      ],
      "text/plain": [
       "  Disney_Period                                               Text  \\\n",
       "0         EARLY  slave in the magic mirror come from the farthe...   \n",
       "1         EARLY                what wouldst thou know, my queen ?    \n",
       "2         EARLY  magic mirror on the wall, who is the fairest o...   \n",
       "3         EARLY  famed is thy beauty, majesty. but hold, a love...   \n",
       "4         EARLY                   alas for her ! reveal her name.    \n",
       "\n",
       "  Speaker_Status        Movie Speaker  Year  UTTERANCE_NUMBER  \n",
       "0          NON-P  Snow White    queen  1937                 1  \n",
       "1          NON-P  Snow White   mirror  1937                 2  \n",
       "2          NON-P  Snow White    queen  1937                 3  \n",
       "3          NON-P  Snow White   mirror  1937                 4  \n",
       "4          NON-P  Snow White    queen  1937                 5  "
      ]
     },
     "execution_count": 3,
     "metadata": {},
     "output_type": "execute_result"
    }
   ],
   "source": [
    "disney.head()"
   ]
  },
  {
   "cell_type": "code",
   "execution_count": 4,
   "metadata": {},
   "outputs": [
    {
     "data": {
      "text/html": [
       "<div>\n",
       "<style scoped>\n",
       "    .dataframe tbody tr th:only-of-type {\n",
       "        vertical-align: middle;\n",
       "    }\n",
       "\n",
       "    .dataframe tbody tr th {\n",
       "        vertical-align: top;\n",
       "    }\n",
       "\n",
       "    .dataframe thead th {\n",
       "        text-align: right;\n",
       "    }\n",
       "</style>\n",
       "<table border=\"1\" class=\"dataframe\">\n",
       "  <thead>\n",
       "    <tr style=\"text-align: right;\">\n",
       "      <th></th>\n",
       "      <th>Disney_Period</th>\n",
       "      <th>Text</th>\n",
       "      <th>Speaker_Status</th>\n",
       "      <th>Movie</th>\n",
       "      <th>Speaker</th>\n",
       "      <th>Year</th>\n",
       "      <th>UTTERANCE_NUMBER</th>\n",
       "    </tr>\n",
       "  </thead>\n",
       "  <tbody>\n",
       "    <tr>\n",
       "      <th>7743</th>\n",
       "      <td>LATE</td>\n",
       "      <td>we are never closing them again.</td>\n",
       "      <td>PRINCESS</td>\n",
       "      <td>Frozen</td>\n",
       "      <td>elsa</td>\n",
       "      <td>2013</td>\n",
       "      <td>984</td>\n",
       "    </tr>\n",
       "    <tr>\n",
       "      <th>7744</th>\n",
       "      <td>LATE</td>\n",
       "      <td>form on anna's boots.</td>\n",
       "      <td>PRINCESS</td>\n",
       "      <td>Frozen</td>\n",
       "      <td>elsa</td>\n",
       "      <td>2013</td>\n",
       "      <td>985</td>\n",
       "    </tr>\n",
       "    <tr>\n",
       "      <th>7745</th>\n",
       "      <td>LATE</td>\n",
       "      <td>what? oh, elsa, they're beautiful, but you kno...</td>\n",
       "      <td>PRINCESS</td>\n",
       "      <td>Frozen</td>\n",
       "      <td>anna</td>\n",
       "      <td>2013</td>\n",
       "      <td>986</td>\n",
       "    </tr>\n",
       "    <tr>\n",
       "      <th>7746</th>\n",
       "      <td>LATE</td>\n",
       "      <td>look out. reindeer coming through!</td>\n",
       "      <td>NON-P</td>\n",
       "      <td>Frozen</td>\n",
       "      <td>kristoff</td>\n",
       "      <td>2013</td>\n",
       "      <td>987</td>\n",
       "    </tr>\n",
       "    <tr>\n",
       "      <th>7747</th>\n",
       "      <td>LATE</td>\n",
       "      <td>that's it. glide and pivot and glide and pivot.</td>\n",
       "      <td>NON-P</td>\n",
       "      <td>Frozen</td>\n",
       "      <td>olaf</td>\n",
       "      <td>2013</td>\n",
       "      <td>988</td>\n",
       "    </tr>\n",
       "  </tbody>\n",
       "</table>\n",
       "</div>"
      ],
      "text/plain": [
       "     Disney_Period                                               Text  \\\n",
       "7743          LATE                  we are never closing them again.    \n",
       "7744          LATE                              form on anna's boots.   \n",
       "7745          LATE  what? oh, elsa, they're beautiful, but you kno...   \n",
       "7746          LATE                look out. reindeer coming through!    \n",
       "7747          LATE   that's it. glide and pivot and glide and pivot.    \n",
       "\n",
       "     Speaker_Status    Movie    Speaker  Year  UTTERANCE_NUMBER  \n",
       "7743       PRINCESS  Frozen        elsa  2013               984  \n",
       "7744       PRINCESS  Frozen        elsa  2013               985  \n",
       "7745       PRINCESS  Frozen        anna  2013               986  \n",
       "7746          NON-P  Frozen   kristoff   2013               987  \n",
       "7747          NON-P  Frozen       olaf   2013               988  "
      ]
     },
     "execution_count": 4,
     "metadata": {},
     "output_type": "execute_result"
    }
   ],
   "source": [
    "disney.tail()"
   ]
  },
  {
   "cell_type": "code",
   "execution_count": 5,
   "metadata": {},
   "outputs": [
    {
     "name": "stdout",
     "output_type": "stream",
     "text": [
      "<class 'pandas.core.frame.DataFrame'>\n",
      "RangeIndex: 7748 entries, 0 to 7747\n",
      "Data columns (total 7 columns):\n",
      "Disney_Period       7748 non-null object\n",
      "Text                7748 non-null object\n",
      "Speaker_Status      7748 non-null object\n",
      "Movie               7748 non-null object\n",
      "Speaker             7748 non-null object\n",
      "Year                7748 non-null int64\n",
      "UTTERANCE_NUMBER    7748 non-null int64\n",
      "dtypes: int64(2), object(5)\n",
      "memory usage: 272.4+ KB\n"
     ]
    }
   ],
   "source": [
    "disney.info()"
   ]
  },
  {
   "cell_type": "markdown",
   "metadata": {},
   "source": [
    "There are no null objects here! This is good, but I need to double check that there aren't any typos in the categories.\n",
    "\n",
    "1) What Periods are included?"
   ]
  },
  {
   "cell_type": "code",
   "execution_count": 7,
   "metadata": {},
   "outputs": [
    {
     "data": {
      "text/plain": [
       "MID      4155\n",
       "LATE     2268\n",
       "EARLY    1325\n",
       "Name: Disney_Period, dtype: int64"
      ]
     },
     "execution_count": 7,
     "metadata": {},
     "output_type": "execute_result"
    }
   ],
   "source": [
    "disney.Disney_Period.value_counts()"
   ]
  },
  {
   "cell_type": "markdown",
   "metadata": {},
   "source": [
    "Okay, three categories: MID, LATE, EARLY. No typos."
   ]
  },
  {
   "cell_type": "markdown",
   "metadata": {},
   "source": [
    "2) What status can a speaker have?"
   ]
  },
  {
   "cell_type": "code",
   "execution_count": 8,
   "metadata": {},
   "outputs": [
    {
     "data": {
      "text/plain": [
       "NON-P       4925\n",
       "PRINCESS    1793\n",
       "PRINCE      1030\n",
       "Name: Speaker_Status, dtype: int64"
      ]
     },
     "execution_count": 8,
     "metadata": {},
     "output_type": "execute_result"
    }
   ],
   "source": [
    "disney.Speaker_Status.value_counts()"
   ]
  },
  {
   "cell_type": "markdown",
   "metadata": {},
   "source": [
    "Looks like characters can be a princess, prince, or non-princess. This does not account for gender or for role in the story. Gender and Role columns will need to be added."
   ]
  },
  {
   "cell_type": "markdown",
   "metadata": {},
   "source": [
    "3) What speakers are there?"
   ]
  },
  {
   "cell_type": "code",
   "execution_count": 9,
   "metadata": {},
   "outputs": [
    {
     "data": {
      "text/plain": [
       "anna                                    335\n",
       "simba                                   241\n",
       "aladdin                                 238\n",
       "merida                                  181\n",
       "tiana                                   176\n",
       "kristoff                                159\n",
       "belle                                   150\n",
       "pocahontas                              142\n",
       "john smith                              125\n",
       "prince naveen                           125\n",
       "jasmine                                 117\n",
       "mulan                                   116\n",
       "mushu                                   114\n",
       "scar                                    114\n",
       "genie                                   113\n",
       "cinderella                              112\n",
       "timon                                   112\n",
       "elsa                                    111\n",
       "jafar                                   111\n",
       "flora                                   106\n",
       "queen elinor                            103\n",
       "olaf                                     93\n",
       "beast                                    88\n",
       "snow white                               88\n",
       "rapunzel                                 84\n",
       "gaston                                   78\n",
       "cogsworth                                77\n",
       "merryweather                             77\n",
       "hans                                     77\n",
       "ariel                                    74\n",
       "                                       ... \n",
       "irishman                                  1\n",
       "all hyenas                                1\n",
       "travis                                    1\n",
       "lady                                      1\n",
       "sweep again, and by then it's like 7      1\n",
       "lefou,                                    1\n",
       " scar                                     1\n",
       "ariel and flounder                        1\n",
       "townsfolk 4                               1\n",
       "ancestor #7                               1\n",
       "    girls                                 1\n",
       "prince naven                              1\n",
       "soldier #1                                1\n",
       "servants                                  1\n",
       "shun yu                                   1\n",
       "recruit                                   1\n",
       "girl trolls                               1\n",
       " goodbye.                                 1\n",
       "bystanders                                1\n",
       "thug                                      1\n",
       "ancestor #5                               1\n",
       "butterfly                                 1\n",
       "shopkeeper 2                              1\n",
       "bimbette 1                                1\n",
       "shopkeeper 4                              1\n",
       "parade leader                             1\n",
       "offstage singing voice                    1\n",
       "hun                                       1\n",
       "lumiere                                   1\n",
       "geogria                                   1\n",
       "Name: Speaker, Length: 424, dtype: int64"
      ]
     },
     "execution_count": 9,
     "metadata": {},
     "output_type": "execute_result"
    }
   ],
   "source": [
    "disney.Speaker.value_counts()"
   ]
  },
  {
   "cell_type": "code",
   "execution_count": 10,
   "metadata": {},
   "outputs": [
    {
     "data": {
      "text/plain": [
       "count     7748\n",
       "unique     424\n",
       "top       anna\n",
       "freq       335\n",
       "Name: Speaker, dtype: object"
      ]
     },
     "execution_count": 10,
     "metadata": {},
     "output_type": "execute_result"
    }
   ],
   "source": [
    "disney.Speaker.describe()"
   ]
  },
  {
   "cell_type": "markdown",
   "metadata": {},
   "source": [
    "424 unique speakers. Yikes. These might be easier to go through movie by movie, where character names will be easier to parse through. Also, look! A typo! \"Sweep again and by then\" is a lyric Rapunzel sings, not a speaker!"
   ]
  },
  {
   "cell_type": "markdown",
   "metadata": {},
   "source": [
    "4) What Years are inlcuded?"
   ]
  },
  {
   "cell_type": "code",
   "execution_count": 11,
   "metadata": {},
   "outputs": [
    {
     "data": {
      "text/plain": [
       "2013    988\n",
       "1994    952\n",
       "1992    842\n",
       "1991    772\n",
       "2009    676\n",
       "1995    638\n",
       "1998    554\n",
       "1950    497\n",
       "1959    462\n",
       "2012    411\n",
       "1989    397\n",
       "1937    366\n",
       "2010    193\n",
       "Name: Year, dtype: int64"
      ]
     },
     "execution_count": 11,
     "metadata": {},
     "output_type": "execute_result"
    }
   ],
   "source": [
    "disney.Year.value_counts()"
   ]
  },
  {
   "cell_type": "code",
   "execution_count": 12,
   "metadata": {},
   "outputs": [
    {
     "data": {
      "text/plain": [
       "Frozen                        988\n",
       "The Lion King                 952\n",
       "Aladdin                       842\n",
       "Beauty and the Beast          772\n",
       "The Princess and the Frog     676\n",
       "Pocahontas                    638\n",
       "Mulan                         554\n",
       "Cinderella                    497\n",
       "Sleeping Beauty               462\n",
       "Brave                         411\n",
       "The Little Mermaid            397\n",
       "Snow White                    366\n",
       "Tangled                       193\n",
       "Name: Movie, dtype: int64"
      ]
     },
     "execution_count": 12,
     "metadata": {},
     "output_type": "execute_result"
    }
   ],
   "source": [
    "disney.Movie.value_counts()"
   ]
  },
  {
   "cell_type": "markdown",
   "metadata": {},
   "source": [
    "These columns look good, and all their counts line up! Sweet! (These counts should line up with the utterance numbers for each film)"
   ]
  },
  {
   "cell_type": "code",
   "execution_count": 14,
   "metadata": {},
   "outputs": [
    {
     "data": {
      "text/plain": [
       "4      13\n",
       "186    13\n",
       "150    13\n",
       "154    13\n",
       "158    13\n",
       "162    13\n",
       "166    13\n",
       "170    13\n",
       "174    13\n",
       "178    13\n",
       "182    13\n",
       "190    13\n",
       "191    13\n",
       "68     13\n",
       "64     13\n",
       "60     13\n",
       "56     13\n",
       "52     13\n",
       "48     13\n",
       "44     13\n",
       "40     13\n",
       "36     13\n",
       "146    13\n",
       "142    13\n",
       "138    13\n",
       "134    13\n",
       "58     13\n",
       "62     13\n",
       "66     13\n",
       "144    13\n",
       "       ..\n",
       "974     1\n",
       "978     1\n",
       "982     1\n",
       "955     1\n",
       "954     1\n",
       "959     1\n",
       "963     1\n",
       "967     1\n",
       "971     1\n",
       "975     1\n",
       "979     1\n",
       "958     1\n",
       "983     1\n",
       "960     1\n",
       "988     1\n",
       "964     1\n",
       "968     1\n",
       "972     1\n",
       "976     1\n",
       "980     1\n",
       "984     1\n",
       "953     1\n",
       "981     1\n",
       "957     1\n",
       "961     1\n",
       "965     1\n",
       "969     1\n",
       "973     1\n",
       "977     1\n",
       "985     1\n",
       "Name: UTTERANCE_NUMBER, Length: 988, dtype: int64"
      ]
     },
     "execution_count": 14,
     "metadata": {},
     "output_type": "execute_result"
    }
   ],
   "source": [
    "disney.UTTERANCE_NUMBER.value_counts()"
   ]
  },
  {
   "cell_type": "code",
   "execution_count": 25,
   "metadata": {},
   "outputs": [],
   "source": [
    "disney_tangled = disney.loc[disney.Movie == 'Tangled']"
   ]
  },
  {
   "cell_type": "code",
   "execution_count": 26,
   "metadata": {},
   "outputs": [
    {
     "data": {
      "text/html": [
       "<div>\n",
       "<style scoped>\n",
       "    .dataframe tbody tr th:only-of-type {\n",
       "        vertical-align: middle;\n",
       "    }\n",
       "\n",
       "    .dataframe tbody tr th {\n",
       "        vertical-align: top;\n",
       "    }\n",
       "\n",
       "    .dataframe thead th {\n",
       "        text-align: right;\n",
       "    }\n",
       "</style>\n",
       "<table border=\"1\" class=\"dataframe\">\n",
       "  <thead>\n",
       "    <tr style=\"text-align: right;\">\n",
       "      <th></th>\n",
       "      <th>Disney_Period</th>\n",
       "      <th>Text</th>\n",
       "      <th>Speaker_Status</th>\n",
       "      <th>Movie</th>\n",
       "      <th>Speaker</th>\n",
       "      <th>Year</th>\n",
       "      <th>UTTERANCE_NUMBER</th>\n",
       "    </tr>\n",
       "  </thead>\n",
       "  <tbody>\n",
       "  </tbody>\n",
       "</table>\n",
       "</div>"
      ],
      "text/plain": [
       "Empty DataFrame\n",
       "Columns: [Disney_Period, Text, Speaker_Status, Movie, Speaker, Year, UTTERANCE_NUMBER]\n",
       "Index: []"
      ]
     },
     "execution_count": 26,
     "metadata": {},
     "output_type": "execute_result"
    }
   ],
   "source": [
    "disney_tangled.head()"
   ]
  },
  {
   "cell_type": "code",
   "execution_count": 22,
   "metadata": {},
   "outputs": [
    {
     "name": "stdout",
     "output_type": "stream",
     "text": [
      "988\n",
      "952\n",
      "842\n",
      "772\n",
      "676\n",
      "638\n",
      "554\n",
      "497\n",
      "462\n",
      "411\n",
      "397\n",
      "366\n",
      "193\n"
     ]
    }
   ],
   "source": [
    "for m in disney.Movie.value_counts():\n",
    "    print(m)"
   ]
  },
  {
   "cell_type": "code",
   "execution_count": 27,
   "metadata": {},
   "outputs": [
    {
     "data": {
      "text/plain": [
       "Index(['Disney_Period', 'Text', 'Speaker_Status', 'Movie', 'Speaker', 'Year',\n",
       "       'UTTERANCE_NUMBER'],\n",
       "      dtype='object')"
      ]
     },
     "execution_count": 27,
     "metadata": {},
     "output_type": "execute_result"
    }
   ],
   "source": [
    "disney.columns"
   ]
  },
  {
   "cell_type": "code",
   "execution_count": 34,
   "metadata": {},
   "outputs": [
    {
     "name": "stdout",
     "output_type": "stream",
     "text": [
      "hiSnow White hi\n",
      "hiSnow White hi\n",
      "hiSnow White hi\n",
      "hiSnow White hi\n",
      "hiSnow White hi\n",
      "hiSnow White hi\n",
      "hiSnow White hi\n",
      "hiSnow White hi\n",
      "hiSnow White hi\n",
      "hiSnow White hi\n"
     ]
    }
   ],
   "source": [
    "for m in disney.Movie[:10]:\n",
    "    print('hi'+m+'hi')"
   ]
  },
  {
   "cell_type": "markdown",
   "metadata": {},
   "source": [
    "HAHA! So there's a ghost space that's messing things up.(this was actually in all entries, I just didn't want to flash all of it. Okay, let's fix that"
   ]
  },
  {
   "cell_type": "code",
   "execution_count": 43,
   "metadata": {},
   "outputs": [],
   "source": [
    "disney.Movie = disney.Movie.map(lambda x: x.strip())"
   ]
  },
  {
   "cell_type": "code",
   "execution_count": 44,
   "metadata": {},
   "outputs": [
    {
     "name": "stdout",
     "output_type": "stream",
     "text": [
      "hiSnow Whitehi\n",
      "hiSnow Whitehi\n",
      "hiSnow Whitehi\n",
      "hiSnow Whitehi\n",
      "hiSnow Whitehi\n",
      "hiSnow Whitehi\n",
      "hiSnow Whitehi\n",
      "hiSnow Whitehi\n",
      "hiSnow Whitehi\n",
      "hiSnow Whitehi\n"
     ]
    }
   ],
   "source": [
    "for m in disney.Movie[:10]:\n",
    "    print('hi'+m+'hi')"
   ]
  },
  {
   "cell_type": "markdown",
   "metadata": {},
   "source": [
    "Yay! Fixed! (I hope)"
   ]
  },
  {
   "cell_type": "code",
   "execution_count": 45,
   "metadata": {},
   "outputs": [],
   "source": [
    "disney_frozen = disney[disney.Movie == 'Frozen']"
   ]
  },
  {
   "cell_type": "code",
   "execution_count": 46,
   "metadata": {},
   "outputs": [
    {
     "data": {
      "text/html": [
       "<div>\n",
       "<style scoped>\n",
       "    .dataframe tbody tr th:only-of-type {\n",
       "        vertical-align: middle;\n",
       "    }\n",
       "\n",
       "    .dataframe tbody tr th {\n",
       "        vertical-align: top;\n",
       "    }\n",
       "\n",
       "    .dataframe thead th {\n",
       "        text-align: right;\n",
       "    }\n",
       "</style>\n",
       "<table border=\"1\" class=\"dataframe\">\n",
       "  <thead>\n",
       "    <tr style=\"text-align: right;\">\n",
       "      <th></th>\n",
       "      <th>Disney_Period</th>\n",
       "      <th>Text</th>\n",
       "      <th>Speaker_Status</th>\n",
       "      <th>Movie</th>\n",
       "      <th>Speaker</th>\n",
       "      <th>Year</th>\n",
       "      <th>UTTERANCE_NUMBER</th>\n",
       "    </tr>\n",
       "  </thead>\n",
       "  <tbody>\n",
       "    <tr>\n",
       "      <th>6760</th>\n",
       "      <td>LATE</td>\n",
       "      <td>born of cold and winter air and mountain rain ...</td>\n",
       "      <td>NON-P</td>\n",
       "      <td>Frozen</td>\n",
       "      <td>ice harvesters</td>\n",
       "      <td>2013</td>\n",
       "      <td>1</td>\n",
       "    </tr>\n",
       "    <tr>\n",
       "      <th>6761</th>\n",
       "      <td>LATE</td>\n",
       "      <td>, and his reindeer calf, sven, share a carrot ...</td>\n",
       "      <td>NON-P</td>\n",
       "      <td>Frozen</td>\n",
       "      <td>ice harvesters</td>\n",
       "      <td>2013</td>\n",
       "      <td>2</td>\n",
       "    </tr>\n",
       "    <tr>\n",
       "      <th>6762</th>\n",
       "      <td>LATE</td>\n",
       "      <td>ice harvesters hup! ho! watch your step! let i...</td>\n",
       "      <td>NON-P</td>\n",
       "      <td>Frozen</td>\n",
       "      <td>ice harvesters</td>\n",
       "      <td>2013</td>\n",
       "      <td>3</td>\n",
       "    </tr>\n",
       "    <tr>\n",
       "      <th>6763</th>\n",
       "      <td>LATE</td>\n",
       "      <td>ice harvesters stronger than one, stronger tha...</td>\n",
       "      <td>NON-P</td>\n",
       "      <td>Frozen</td>\n",
       "      <td>ice harvesters</td>\n",
       "      <td>2013</td>\n",
       "      <td>4</td>\n",
       "    </tr>\n",
       "    <tr>\n",
       "      <th>6764</th>\n",
       "      <td>LATE</td>\n",
       "      <td>ice harvesters born of cold and winter air and...</td>\n",
       "      <td>NON-P</td>\n",
       "      <td>Frozen</td>\n",
       "      <td>ice harvesters</td>\n",
       "      <td>2013</td>\n",
       "      <td>5</td>\n",
       "    </tr>\n",
       "  </tbody>\n",
       "</table>\n",
       "</div>"
      ],
      "text/plain": [
       "     Disney_Period                                               Text  \\\n",
       "6760          LATE  born of cold and winter air and mountain rain ...   \n",
       "6761          LATE  , and his reindeer calf, sven, share a carrot ...   \n",
       "6762          LATE  ice harvesters hup! ho! watch your step! let i...   \n",
       "6763          LATE  ice harvesters stronger than one, stronger tha...   \n",
       "6764          LATE  ice harvesters born of cold and winter air and...   \n",
       "\n",
       "     Speaker_Status   Movie          Speaker  Year  UTTERANCE_NUMBER  \n",
       "6760          NON-P  Frozen  ice harvesters   2013                 1  \n",
       "6761          NON-P  Frozen  ice harvesters   2013                 2  \n",
       "6762          NON-P  Frozen  ice harvesters   2013                 3  \n",
       "6763          NON-P  Frozen  ice harvesters   2013                 4  \n",
       "6764          NON-P  Frozen  ice harvesters   2013                 5  "
      ]
     },
     "execution_count": 46,
     "metadata": {},
     "output_type": "execute_result"
    }
   ],
   "source": [
    "disney_frozen.head()"
   ]
  },
  {
   "cell_type": "code",
   "execution_count": 47,
   "metadata": {},
   "outputs": [
    {
     "name": "stdout",
     "output_type": "stream",
     "text": [
      "<class 'pandas.core.frame.DataFrame'>\n",
      "Int64Index: 988 entries, 6760 to 7747\n",
      "Data columns (total 7 columns):\n",
      "Disney_Period       988 non-null object\n",
      "Text                988 non-null object\n",
      "Speaker_Status      988 non-null object\n",
      "Movie               988 non-null object\n",
      "Speaker             988 non-null object\n",
      "Year                988 non-null int64\n",
      "UTTERANCE_NUMBER    988 non-null int64\n",
      "dtypes: int64(2), object(5)\n",
      "memory usage: 42.5+ KB\n"
     ]
    }
   ],
   "source": [
    "disney_frozen.info()"
   ]
  },
  {
   "cell_type": "code",
   "execution_count": 56,
   "metadata": {},
   "outputs": [
    {
     "name": "stdout",
     "output_type": "stream",
     "text": [
      "True\n"
     ]
    },
    {
     "ename": "IndexError",
     "evalue": "single positional indexer is out-of-bounds",
     "output_type": "error",
     "traceback": [
      "\u001b[1;31m---------------------------------------------------------------------------\u001b[0m",
      "\u001b[1;31mIndexError\u001b[0m                                Traceback (most recent call last)",
      "\u001b[1;32m<ipython-input-56-f29729f51bbf>\u001b[0m in \u001b[0;36m<module>\u001b[1;34m\u001b[0m\n\u001b[0;32m      5\u001b[0m \u001b[0mordered\u001b[0m \u001b[1;33m=\u001b[0m \u001b[1;33m[\u001b[0m\u001b[1;33m]\u001b[0m\u001b[1;33m\u001b[0m\u001b[0m\n\u001b[0;32m      6\u001b[0m \u001b[1;32mfor\u001b[0m \u001b[0mi\u001b[0m \u001b[1;32min\u001b[0m \u001b[0mdisney_frozen\u001b[0m\u001b[1;33m.\u001b[0m\u001b[0mUTTERANCE_NUMBER\u001b[0m\u001b[1;33m.\u001b[0m\u001b[0miloc\u001b[0m\u001b[1;33m[\u001b[0m\u001b[1;36m1\u001b[0m\u001b[1;33m:\u001b[0m\u001b[1;33m]\u001b[0m\u001b[1;33m:\u001b[0m\u001b[1;33m\u001b[0m\u001b[0m\n\u001b[1;32m----> 7\u001b[1;33m     \u001b[1;32mif\u001b[0m \u001b[0mdisney_frozen\u001b[0m\u001b[1;33m.\u001b[0m\u001b[0mUTTERANCE_NUMBER\u001b[0m\u001b[1;33m.\u001b[0m\u001b[0miloc\u001b[0m\u001b[1;33m[\u001b[0m\u001b[0mi\u001b[0m\u001b[1;33m]\u001b[0m \u001b[1;33m==\u001b[0m \u001b[1;33m(\u001b[0m\u001b[0mdisney_frozen\u001b[0m\u001b[1;33m.\u001b[0m\u001b[0mUTTERANCE_NUMBER\u001b[0m\u001b[1;33m.\u001b[0m\u001b[0miloc\u001b[0m\u001b[1;33m[\u001b[0m\u001b[0mi\u001b[0m\u001b[1;33m-\u001b[0m\u001b[1;36m1\u001b[0m\u001b[1;33m]\u001b[0m \u001b[1;33m+\u001b[0m \u001b[1;36m1\u001b[0m\u001b[1;33m)\u001b[0m\u001b[1;33m:\u001b[0m\u001b[1;33m\u001b[0m\u001b[0m\n\u001b[0m\u001b[0;32m      8\u001b[0m         \u001b[0mordered\u001b[0m\u001b[1;33m.\u001b[0m\u001b[0mappend\u001b[0m\u001b[1;33m(\u001b[0m\u001b[1;32mTrue\u001b[0m\u001b[1;33m)\u001b[0m\u001b[1;33m\u001b[0m\u001b[0m\n\u001b[0;32m      9\u001b[0m     \u001b[1;32melse\u001b[0m\u001b[1;33m:\u001b[0m\u001b[1;33m\u001b[0m\u001b[0m\n",
      "\u001b[1;32mc:\\users\\cassi\\appdata\\local\\programs\\python\\python36-32\\lib\\site-packages\\pandas\\core\\indexing.py\u001b[0m in \u001b[0;36m__getitem__\u001b[1;34m(self, key)\u001b[0m\n\u001b[0;32m   1476\u001b[0m \u001b[1;33m\u001b[0m\u001b[0m\n\u001b[0;32m   1477\u001b[0m             \u001b[0mmaybe_callable\u001b[0m \u001b[1;33m=\u001b[0m \u001b[0mcom\u001b[0m\u001b[1;33m.\u001b[0m\u001b[0m_apply_if_callable\u001b[0m\u001b[1;33m(\u001b[0m\u001b[0mkey\u001b[0m\u001b[1;33m,\u001b[0m \u001b[0mself\u001b[0m\u001b[1;33m.\u001b[0m\u001b[0mobj\u001b[0m\u001b[1;33m)\u001b[0m\u001b[1;33m\u001b[0m\u001b[0m\n\u001b[1;32m-> 1478\u001b[1;33m             \u001b[1;32mreturn\u001b[0m \u001b[0mself\u001b[0m\u001b[1;33m.\u001b[0m\u001b[0m_getitem_axis\u001b[0m\u001b[1;33m(\u001b[0m\u001b[0mmaybe_callable\u001b[0m\u001b[1;33m,\u001b[0m \u001b[0maxis\u001b[0m\u001b[1;33m=\u001b[0m\u001b[0maxis\u001b[0m\u001b[1;33m)\u001b[0m\u001b[1;33m\u001b[0m\u001b[0m\n\u001b[0m\u001b[0;32m   1479\u001b[0m \u001b[1;33m\u001b[0m\u001b[0m\n\u001b[0;32m   1480\u001b[0m     \u001b[1;32mdef\u001b[0m \u001b[0m_is_scalar_access\u001b[0m\u001b[1;33m(\u001b[0m\u001b[0mself\u001b[0m\u001b[1;33m,\u001b[0m \u001b[0mkey\u001b[0m\u001b[1;33m)\u001b[0m\u001b[1;33m:\u001b[0m\u001b[1;33m\u001b[0m\u001b[0m\n",
      "\u001b[1;32mc:\\users\\cassi\\appdata\\local\\programs\\python\\python36-32\\lib\\site-packages\\pandas\\core\\indexing.py\u001b[0m in \u001b[0;36m_getitem_axis\u001b[1;34m(self, key, axis)\u001b[0m\n\u001b[0;32m   2100\u001b[0m \u001b[1;33m\u001b[0m\u001b[0m\n\u001b[0;32m   2101\u001b[0m             \u001b[1;31m# validate the location\u001b[0m\u001b[1;33m\u001b[0m\u001b[1;33m\u001b[0m\u001b[0m\n\u001b[1;32m-> 2102\u001b[1;33m             \u001b[0mself\u001b[0m\u001b[1;33m.\u001b[0m\u001b[0m_validate_integer\u001b[0m\u001b[1;33m(\u001b[0m\u001b[0mkey\u001b[0m\u001b[1;33m,\u001b[0m \u001b[0maxis\u001b[0m\u001b[1;33m)\u001b[0m\u001b[1;33m\u001b[0m\u001b[0m\n\u001b[0m\u001b[0;32m   2103\u001b[0m \u001b[1;33m\u001b[0m\u001b[0m\n\u001b[0;32m   2104\u001b[0m             \u001b[1;32mreturn\u001b[0m \u001b[0mself\u001b[0m\u001b[1;33m.\u001b[0m\u001b[0m_get_loc\u001b[0m\u001b[1;33m(\u001b[0m\u001b[0mkey\u001b[0m\u001b[1;33m,\u001b[0m \u001b[0maxis\u001b[0m\u001b[1;33m=\u001b[0m\u001b[0maxis\u001b[0m\u001b[1;33m)\u001b[0m\u001b[1;33m\u001b[0m\u001b[0m\n",
      "\u001b[1;32mc:\\users\\cassi\\appdata\\local\\programs\\python\\python36-32\\lib\\site-packages\\pandas\\core\\indexing.py\u001b[0m in \u001b[0;36m_validate_integer\u001b[1;34m(self, key, axis)\u001b[0m\n\u001b[0;32m   2007\u001b[0m         \u001b[0ml\u001b[0m \u001b[1;33m=\u001b[0m \u001b[0mlen\u001b[0m\u001b[1;33m(\u001b[0m\u001b[0max\u001b[0m\u001b[1;33m)\u001b[0m\u001b[1;33m\u001b[0m\u001b[0m\n\u001b[0;32m   2008\u001b[0m         \u001b[1;32mif\u001b[0m \u001b[0mkey\u001b[0m \u001b[1;33m>=\u001b[0m \u001b[0ml\u001b[0m \u001b[1;32mor\u001b[0m \u001b[0mkey\u001b[0m \u001b[1;33m<\u001b[0m \u001b[1;33m-\u001b[0m\u001b[0ml\u001b[0m\u001b[1;33m:\u001b[0m\u001b[1;33m\u001b[0m\u001b[0m\n\u001b[1;32m-> 2009\u001b[1;33m             \u001b[1;32mraise\u001b[0m \u001b[0mIndexError\u001b[0m\u001b[1;33m(\u001b[0m\u001b[1;34m\"single positional indexer is out-of-bounds\"\u001b[0m\u001b[1;33m)\u001b[0m\u001b[1;33m\u001b[0m\u001b[0m\n\u001b[0m\u001b[0;32m   2010\u001b[0m \u001b[1;33m\u001b[0m\u001b[0m\n\u001b[0;32m   2011\u001b[0m     \u001b[1;32mdef\u001b[0m \u001b[0m_getitem_tuple\u001b[0m\u001b[1;33m(\u001b[0m\u001b[0mself\u001b[0m\u001b[1;33m,\u001b[0m \u001b[0mtup\u001b[0m\u001b[1;33m)\u001b[0m\u001b[1;33m:\u001b[0m\u001b[1;33m\u001b[0m\u001b[0m\n",
      "\u001b[1;31mIndexError\u001b[0m: single positional indexer is out-of-bounds"
     ]
    }
   ],
   "source": [
    "#Checking that utterance numbers are in order\n",
    "init = 1\n",
    "if disney_frozen.UTTERANCE_NUMBER.iloc[0] == init:\n",
    "    print(True)\n",
    "ordered = []\n",
    "for i in disney_frozen.UTTERANCE_NUMBER.iloc[1:]:\n",
    "    if disney_frozen.UTTERANCE_NUMBER.iloc[i] == (disney_frozen.UTTERANCE_NUMBER.iloc[i-1] + 1):\n",
    "        ordered.append(True)\n",
    "    else:\n",
    "        ordered.append(False)\n"
   ]
  },
  {
   "cell_type": "code",
   "execution_count": 51,
   "metadata": {},
   "outputs": [
    {
     "data": {
      "text/plain": [
       "1"
      ]
     },
     "execution_count": 51,
     "metadata": {},
     "output_type": "execute_result"
    }
   ],
   "source": [
    "disney_frozen.UTTERANCE_NUMBER.iloc[0]"
   ]
  },
  {
   "cell_type": "markdown",
   "metadata": {},
   "source": [
    "## Song Lyrics\n",
    "How are song lyrics treated in this data set? Is there an easy way to separate them out? The opening of Frozen is a song, so let's see what we have there"
   ]
  },
  {
   "cell_type": "code",
   "execution_count": 57,
   "metadata": {},
   "outputs": [
    {
     "data": {
      "text/plain": [
       "6760    born of cold and winter air and mountain rain ...\n",
       "6761    , and his reindeer calf, sven, share a carrot ...\n",
       "6762    ice harvesters hup! ho! watch your step! let i...\n",
       "6763    ice harvesters stronger than one, stronger tha...\n",
       "6764    ice harvesters born of cold and winter air and...\n",
       "6765    ice harvesters this icy force both foul and fa...\n",
       "6766               ext. the kingdom of arendelle — night \n",
       "6767    sleeps in her bed. her little sister anna: (5)...\n",
       "6768    elsa. psst. elsa! psst. elsa doesn't stir. ann...\n",
       "6769                          wake up. wake up. wake up. \n",
       "Name: Text, dtype: object"
      ]
     },
     "execution_count": 57,
     "metadata": {},
     "output_type": "execute_result"
    }
   ],
   "source": [
    "disney_frozen.Text.iloc[:10]"
   ]
  },
  {
   "cell_type": "code",
   "execution_count": 58,
   "metadata": {},
   "outputs": [
    {
     "data": {
      "text/plain": [
       "'born of cold and winter air and mountain rain combining, this icy force both foul and fair has a frozen heart worth mining. the men drag giant ice blocks through channels of water. ice harvesters cut through the heart, cold and clear. strike for love and strike for fear. see the beauty sharp and sheer. split the ice apart! and break the frozen heart. hup! ho! watch your step! let it go! '"
      ]
     },
     "execution_count": 58,
     "metadata": {},
     "output_type": "execute_result"
    }
   ],
   "source": [
    "disney_frozen.Text.iloc[0]"
   ]
  },
  {
   "cell_type": "code",
   "execution_count": 59,
   "metadata": {},
   "outputs": [
    {
     "data": {
      "text/plain": [
       "', and his reindeer calf, sven, share a carrot as they try to keep up with the men.'"
      ]
     },
     "execution_count": 59,
     "metadata": {},
     "output_type": "execute_result"
    }
   ],
   "source": [
    "disney_frozen.Text.iloc[1]"
   ]
  },
  {
   "cell_type": "code",
   "execution_count": 60,
   "metadata": {},
   "outputs": [
    {
     "name": "stdout",
     "output_type": "stream",
     "text": [
      "born of cold and winter air and mountain rain combining, this icy force both foul and fair has a frozen heart worth mining. the men drag giant ice blocks through channels of water. ice harvesters cut through the heart, cold and clear. strike for love and strike for fear. see the beauty sharp and sheer. split the ice apart! and break the frozen heart. hup! ho! watch your step! let it go! \n",
      ", and his reindeer calf, sven, share a carrot as they try to keep up with the men.\n",
      "ice harvesters hup! ho! watch your step! let it go! kristoff struggles to get a block of ice out of the water. he fails, ends up soaked. sven licks his wet cheek. ice harvesters beautiful! powerful! dangerous! cold! ice has a magic can't be controlled. \n",
      "ice harvesters stronger than one, stronger than ten stronger than a hundred men! \n",
      "ice harvesters born of cold and winter air and mountain rain combining \n",
      "ice harvesters this icy force both foul and fair has a frozen heart worth mining. cut through the heart, cold and clear. in the dark, kristoff and sven finally manage to get a single block of ice out of the water. ice harvesters strike for love and strike for fear. there's beauty and there's danger here. split the ice apart! beware the frozen heart. \n",
      "ext. the kingdom of arendelle — night \n",
      "sleeps in her bed. her little sister anna: (5) pops up beside her.\n",
      "elsa. psst. elsa! psst. elsa doesn't stir. anna sits on elsa and bounces. \n",
      "wake up. wake up. wake up. \n"
     ]
    }
   ],
   "source": [
    "for line in disney_frozen.Text[:10]:\n",
    "    print(line)"
   ]
  },
  {
   "cell_type": "markdown",
   "metadata": {},
   "source": [
    "WOW! A closer look at this data very quickly reveals that the utterances aren't really utterances--they're parts of a script, including scene headers!"
   ]
  },
  {
   "cell_type": "code",
   "execution_count": 63,
   "metadata": {},
   "outputs": [],
   "source": [
    "not_line = [i for i in disney_frozen.Text if 'ext.' in i]"
   ]
  },
  {
   "cell_type": "code",
   "execution_count": 64,
   "metadata": {},
   "outputs": [
    {
     "data": {
      "text/plain": [
       "4"
      ]
     },
     "execution_count": 64,
     "metadata": {},
     "output_type": "execute_result"
    }
   ],
   "source": [
    "len(not_line)"
   ]
  },
  {
   "cell_type": "code",
   "execution_count": 66,
   "metadata": {},
   "outputs": [
    {
     "name": "stdout",
     "output_type": "stream",
     "text": [
      "['ext. the kingdom of arendelle — night ', 'faster, sven! ext. the valley of the living rock — night ', 'ext. mountain forest clearing — day', \"olaf oh, look at that. i've been impaled. he laughs it off. ext. steep mountain face — day\"]\n"
     ]
    }
   ],
   "source": [
    "print(not_line)"
   ]
  },
  {
   "cell_type": "markdown",
   "metadata": {},
   "source": [
    "Is this true for all the movies?"
   ]
  },
  {
   "cell_type": "code",
   "execution_count": 67,
   "metadata": {},
   "outputs": [
    {
     "data": {
      "text/html": [
       "<div>\n",
       "<style scoped>\n",
       "    .dataframe tbody tr th:only-of-type {\n",
       "        vertical-align: middle;\n",
       "    }\n",
       "\n",
       "    .dataframe tbody tr th {\n",
       "        vertical-align: top;\n",
       "    }\n",
       "\n",
       "    .dataframe thead th {\n",
       "        text-align: right;\n",
       "    }\n",
       "</style>\n",
       "<table border=\"1\" class=\"dataframe\">\n",
       "  <thead>\n",
       "    <tr style=\"text-align: right;\">\n",
       "      <th></th>\n",
       "      <th>Disney_Period</th>\n",
       "      <th>Text</th>\n",
       "      <th>Speaker_Status</th>\n",
       "      <th>Movie</th>\n",
       "      <th>Speaker</th>\n",
       "      <th>Year</th>\n",
       "      <th>UTTERANCE_NUMBER</th>\n",
       "    </tr>\n",
       "  </thead>\n",
       "  <tbody>\n",
       "    <tr>\n",
       "      <th>863</th>\n",
       "      <td>EARLY</td>\n",
       "      <td>in a far away land, long ago, lived a king and...</td>\n",
       "      <td>NON-P</td>\n",
       "      <td>Sleeping Beauty</td>\n",
       "      <td>narrator</td>\n",
       "      <td>1959</td>\n",
       "      <td>1</td>\n",
       "    </tr>\n",
       "    <tr>\n",
       "      <th>864</th>\n",
       "      <td>EARLY</td>\n",
       "      <td>joyfully now to our princess we come, bringing...</td>\n",
       "      <td>NON-P</td>\n",
       "      <td>Sleeping Beauty</td>\n",
       "      <td>choir</td>\n",
       "      <td>1959</td>\n",
       "      <td>2</td>\n",
       "    </tr>\n",
       "    <tr>\n",
       "      <th>865</th>\n",
       "      <td>EARLY</td>\n",
       "      <td>thus on this great and joyous day did all the ...</td>\n",
       "      <td>NON-P</td>\n",
       "      <td>Sleeping Beauty</td>\n",
       "      <td>narrator</td>\n",
       "      <td>1959</td>\n",
       "      <td>3</td>\n",
       "    </tr>\n",
       "    <tr>\n",
       "      <th>866</th>\n",
       "      <td>EARLY</td>\n",
       "      <td>their royal highnesses, king hubert and prince...</td>\n",
       "      <td>NON-P</td>\n",
       "      <td>Sleeping Beauty</td>\n",
       "      <td>announcer</td>\n",
       "      <td>1959</td>\n",
       "      <td>4</td>\n",
       "    </tr>\n",
       "    <tr>\n",
       "      <th>867</th>\n",
       "      <td>EARLY</td>\n",
       "      <td>fondly had these monarchs dreamed one day thei...</td>\n",
       "      <td>NON-P</td>\n",
       "      <td>Sleeping Beauty</td>\n",
       "      <td>narrator</td>\n",
       "      <td>1959</td>\n",
       "      <td>5</td>\n",
       "    </tr>\n",
       "  </tbody>\n",
       "</table>\n",
       "</div>"
      ],
      "text/plain": [
       "    Disney_Period                                               Text  \\\n",
       "863         EARLY  in a far away land, long ago, lived a king and...   \n",
       "864         EARLY  joyfully now to our princess we come, bringing...   \n",
       "865         EARLY  thus on this great and joyous day did all the ...   \n",
       "866         EARLY  their royal highnesses, king hubert and prince...   \n",
       "867         EARLY  fondly had these monarchs dreamed one day thei...   \n",
       "\n",
       "    Speaker_Status            Movie    Speaker  Year  UTTERANCE_NUMBER  \n",
       "863          NON-P  Sleeping Beauty   narrator  1959                 1  \n",
       "864          NON-P  Sleeping Beauty      choir  1959                 2  \n",
       "865          NON-P  Sleeping Beauty   narrator  1959                 3  \n",
       "866          NON-P  Sleeping Beauty  announcer  1959                 4  \n",
       "867          NON-P  Sleeping Beauty   narrator  1959                 5  "
      ]
     },
     "execution_count": 67,
     "metadata": {},
     "output_type": "execute_result"
    }
   ],
   "source": [
    "disney_sb = disney[disney.Movie == 'Sleeping Beauty']\n",
    "disney_sb.head()"
   ]
  },
  {
   "cell_type": "code",
   "execution_count": 68,
   "metadata": {},
   "outputs": [
    {
     "data": {
      "text/html": [
       "<div>\n",
       "<style scoped>\n",
       "    .dataframe tbody tr th:only-of-type {\n",
       "        vertical-align: middle;\n",
       "    }\n",
       "\n",
       "    .dataframe tbody tr th {\n",
       "        vertical-align: top;\n",
       "    }\n",
       "\n",
       "    .dataframe thead th {\n",
       "        text-align: right;\n",
       "    }\n",
       "</style>\n",
       "<table border=\"1\" class=\"dataframe\">\n",
       "  <thead>\n",
       "    <tr style=\"text-align: right;\">\n",
       "      <th></th>\n",
       "      <th>Disney_Period</th>\n",
       "      <th>Text</th>\n",
       "      <th>Speaker_Status</th>\n",
       "      <th>Movie</th>\n",
       "      <th>Speaker</th>\n",
       "      <th>Year</th>\n",
       "      <th>UTTERANCE_NUMBER</th>\n",
       "    </tr>\n",
       "  </thead>\n",
       "  <tbody>\n",
       "    <tr>\n",
       "      <th>1320</th>\n",
       "      <td>EARLY</td>\n",
       "      <td>i know you, i walked with you once upon a dream</td>\n",
       "      <td>NON-P</td>\n",
       "      <td>Sleeping Beauty</td>\n",
       "      <td>choir</td>\n",
       "      <td>1959</td>\n",
       "      <td>458</td>\n",
       "    </tr>\n",
       "    <tr>\n",
       "      <th>1321</th>\n",
       "      <td>EARLY</td>\n",
       "      <td>blue!</td>\n",
       "      <td>NON-P</td>\n",
       "      <td>Sleeping Beauty</td>\n",
       "      <td>merryweather</td>\n",
       "      <td>1959</td>\n",
       "      <td>459</td>\n",
       "    </tr>\n",
       "    <tr>\n",
       "      <th>1322</th>\n",
       "      <td>EARLY</td>\n",
       "      <td>i know you, the gleam in your eyes is so famil...</td>\n",
       "      <td>NON-P</td>\n",
       "      <td>Sleeping Beauty</td>\n",
       "      <td>choir</td>\n",
       "      <td>1959</td>\n",
       "      <td>460</td>\n",
       "    </tr>\n",
       "    <tr>\n",
       "      <th>1323</th>\n",
       "      <td>EARLY</td>\n",
       "      <td>and i know it's true that visions are seldom a...</td>\n",
       "      <td>NON-P</td>\n",
       "      <td>Sleeping Beauty</td>\n",
       "      <td>choir</td>\n",
       "      <td>1959</td>\n",
       "      <td>461</td>\n",
       "    </tr>\n",
       "    <tr>\n",
       "      <th>1324</th>\n",
       "      <td>EARLY</td>\n",
       "      <td>you'll love me at once the way you did once up...</td>\n",
       "      <td>NON-P</td>\n",
       "      <td>Sleeping Beauty</td>\n",
       "      <td>choir</td>\n",
       "      <td>1959</td>\n",
       "      <td>462</td>\n",
       "    </tr>\n",
       "  </tbody>\n",
       "</table>\n",
       "</div>"
      ],
      "text/plain": [
       "     Disney_Period                                               Text  \\\n",
       "1320         EARLY   i know you, i walked with you once upon a dream    \n",
       "1321         EARLY                                             blue!    \n",
       "1322         EARLY  i know you, the gleam in your eyes is so famil...   \n",
       "1323         EARLY  and i know it's true that visions are seldom a...   \n",
       "1324         EARLY  you'll love me at once the way you did once up...   \n",
       "\n",
       "     Speaker_Status            Movie       Speaker  Year  UTTERANCE_NUMBER  \n",
       "1320          NON-P  Sleeping Beauty         choir  1959               458  \n",
       "1321          NON-P  Sleeping Beauty  merryweather  1959               459  \n",
       "1322          NON-P  Sleeping Beauty         choir  1959               460  \n",
       "1323          NON-P  Sleeping Beauty         choir  1959               461  \n",
       "1324          NON-P  Sleeping Beauty         choir  1959               462  "
      ]
     },
     "execution_count": 68,
     "metadata": {},
     "output_type": "execute_result"
    }
   ],
   "source": [
    "disney_sb.tail()"
   ]
  },
  {
   "cell_type": "code",
   "execution_count": 73,
   "metadata": {},
   "outputs": [
    {
     "data": {
      "text/plain": [
       "1038                               but i wanted it blue. \n",
       "1039           now, dear, we decided pink was her color. \n",
       "1040                                        you decided! \n",
       "1041             two eggs, fold in gently fold? oh well. \n",
       "1042                                    i can't breathe! \n",
       "1043                                     it looks awful. \n",
       "1044                   that's because it's on you, dear. \n",
       "1045                            now yeast, one tsp. tsp? \n",
       "1046                                       one teaspoon! \n",
       "1047                            one teaspoon, of course. \n",
       "1048                oh gracious how the child has grown. \n",
       "1049    oh, it seems only yesterday we brought her here. \n",
       "1050                                   just a tiny baby. \n",
       "1051                                   why merryweather! \n",
       "1052                        whatever's the matter, dear? \n",
       "1053    after the day she'll be a princess, and we won...\n",
       "1054                                           oh flora! \n",
       "1055                   we all knew this day had to come. \n",
       "1056                but why did it have to come so soon? \n",
       "1057         after all, we've had her for sixteen years. \n",
       "1058                            sixteen wonderful years. \n",
       "1059    good gracious, we're acting like a lot of ninn...\n",
       "1060    hear that, samson? beautiful! what is it? come...\n",
       "1061                                               ohhh! \n",
       "1062                                         no carrots! \n",
       "1063    i wonder, i wonder, i wonder why each little b...\n",
       "1064    oh dear, why do they still treat me like a chi...\n",
       "1065                                                who? \n",
       "1066    why, flora and fauna and merryweather. they ne...\n",
       "1067    but you know something? i fooled 'em. i have m...\n",
       "1068                                      who? who? who? \n",
       "1069    oh, a prince. well, he's tall and handsome and...\n",
       "1070    yes, it's only in my dreams. but they say if y...\n",
       "1071    you know samson, there was something strange a...\n",
       "1072                                        there, stop! \n",
       "1073                      oh, why, it's my dream prince! \n",
       "1074    and i know it's true that visions are seldom a...\n",
       "1075    but if i know you i know what you'll do you'll...\n",
       "1076                                     the way you did \n",
       "1077                                   once upon a dream \n",
       "1078                                                 oh? \n",
       "1079                                                 oh! \n",
       "1080    i'm awfully sorry. i didn't mean to frighten y...\n",
       "1081    oh it wasn't that. it's just that you're a, a ...\n",
       "1082                                         a stranger? \n",
       "1083                                             hmmhmm. \n",
       "1084           but don't you remember? we've met before! \n",
       "1085                                        we, we have? \n",
       "1086    of course, you said so yourself, once upon a d...\n",
       "1087    i know you i walked with you once upon a dream...\n",
       "Name: Text, dtype: object"
      ]
     },
     "execution_count": 73,
     "metadata": {},
     "output_type": "execute_result"
    }
   ],
   "source": [
    "disney_sb.Text.iloc[175:225]"
   ]
  },
  {
   "cell_type": "code",
   "execution_count": 74,
   "metadata": {},
   "outputs": [
    {
     "data": {
      "text/plain": [
       "\"good gracious, we're acting like a lot of ninnies! come on, she'll be back before we get started. \""
      ]
     },
     "execution_count": 74,
     "metadata": {},
     "output_type": "execute_result"
    }
   ],
   "source": [
    "disney_sb.Text[1059]"
   ]
  },
  {
   "cell_type": "markdown",
   "metadata": {},
   "source": [
    "At first glance, Sleeping Beauty doesn't appear to have screenplay annotations like Frozen. So this data has VERY varying in accuracy. However, it looks like song lyrics are included! These will have to be marked up."
   ]
  },
  {
   "cell_type": "markdown",
   "metadata": {},
   "source": [
    "# Moana\n",
    "I have to create my own csv file for Moana. I don't need to include Movie, Year, or Disney_Period labels for this one because I can easily add that to a dataframe! But, I will initially include gender, role, and if something is a song or not!"
   ]
  },
  {
   "cell_type": "code",
   "execution_count": 109,
   "metadata": {},
   "outputs": [],
   "source": [
    "moana = pd.read_csv(r'C:\\Users\\cassi\\Desktop\\moana.csv')"
   ]
  },
  {
   "cell_type": "code",
   "execution_count": 110,
   "metadata": {},
   "outputs": [
    {
     "data": {
      "text/html": [
       "<div>\n",
       "<style scoped>\n",
       "    .dataframe tbody tr th:only-of-type {\n",
       "        vertical-align: middle;\n",
       "    }\n",
       "\n",
       "    .dataframe tbody tr th {\n",
       "        vertical-align: top;\n",
       "    }\n",
       "\n",
       "    .dataframe thead th {\n",
       "        text-align: right;\n",
       "    }\n",
       "</style>\n",
       "<table border=\"1\" class=\"dataframe\">\n",
       "  <thead>\n",
       "    <tr style=\"text-align: right;\">\n",
       "      <th></th>\n",
       "      <th>Text</th>\n",
       "      <th>Speaker</th>\n",
       "      <th>Song</th>\n",
       "    </tr>\n",
       "  </thead>\n",
       "  <tbody>\n",
       "    <tr>\n",
       "      <th>0</th>\n",
       "      <td>in the beginning, there was only ocean until t...</td>\n",
       "      <td>tala</td>\n",
       "      <td>D</td>\n",
       "    </tr>\n",
       "    <tr>\n",
       "      <th>1</th>\n",
       "      <td>Whoa, whoa, whoa! mother, that's enough.</td>\n",
       "      <td>tui</td>\n",
       "      <td>D</td>\n",
       "    </tr>\n",
       "    <tr>\n",
       "      <th>2</th>\n",
       "      <td>papa!</td>\n",
       "      <td>young moana</td>\n",
       "      <td>D</td>\n",
       "    </tr>\n",
       "    <tr>\n",
       "      <th>3</th>\n",
       "      <td>No one goes outside the reef. We are safe here...</td>\n",
       "      <td>tui</td>\n",
       "      <td>D</td>\n",
       "    </tr>\n",
       "    <tr>\n",
       "      <th>4</th>\n",
       "      <td>Monsters! Monsters! Monsters!</td>\n",
       "      <td>children</td>\n",
       "      <td>D</td>\n",
       "    </tr>\n",
       "  </tbody>\n",
       "</table>\n",
       "</div>"
      ],
      "text/plain": [
       "                                                Text      Speaker Song\n",
       "0  in the beginning, there was only ocean until t...         tala    D\n",
       "1           Whoa, whoa, whoa! mother, that's enough.          tui    D\n",
       "2                                              papa!  young moana    D\n",
       "3  No one goes outside the reef. We are safe here...          tui    D\n",
       "4                      Monsters! Monsters! Monsters!     children    D"
      ]
     },
     "execution_count": 110,
     "metadata": {},
     "output_type": "execute_result"
    }
   ],
   "source": [
    "moana.head()"
   ]
  },
  {
   "cell_type": "code",
   "execution_count": 111,
   "metadata": {},
   "outputs": [
    {
     "name": "stdout",
     "output_type": "stream",
     "text": [
      "<class 'pandas.core.frame.DataFrame'>\n",
      "RangeIndex: 402 entries, 0 to 401\n",
      "Data columns (total 3 columns):\n",
      "Text       402 non-null object\n",
      "Speaker    382 non-null object\n",
      "Song       382 non-null object\n",
      "dtypes: object(3)\n",
      "memory usage: 4.8+ KB\n"
     ]
    }
   ],
   "source": [
    "moana.info()"
   ]
  },
  {
   "cell_type": "code",
   "execution_count": 112,
   "metadata": {},
   "outputs": [
    {
     "name": "stdout",
     "output_type": "stream",
     "text": [
      "<class 'pandas.core.frame.DataFrame'>\n",
      "Int64Index: 19 entries, 12 to 393\n",
      "Data columns (total 3 columns):\n",
      "Text       19 non-null object\n",
      "Speaker    0 non-null object\n",
      "Song       0 non-null object\n",
      "dtypes: object(3)\n",
      "memory usage: 380.0+ bytes\n"
     ]
    }
   ],
   "source": [
    "moana[moana.Text == 'scene break'].info()"
   ]
  },
  {
   "cell_type": "markdown",
   "metadata": {},
   "source": [
    "I've marked 19 scene breaks in my data, so the 19 missing entries for song/speaker make sense!\n",
    "\n",
    "## Marking Gander, Speaker_Status, and Role\n",
    "### Gender"
   ]
  },
  {
   "cell_type": "code",
   "execution_count": 113,
   "metadata": {},
   "outputs": [
    {
     "data": {
      "text/plain": [
       "count       382\n",
       "unique       20\n",
       "top       moana\n",
       "freq        167\n",
       "Name: Speaker, dtype: object"
      ]
     },
     "execution_count": 113,
     "metadata": {},
     "output_type": "execute_result"
    }
   ],
   "source": [
    "moana.Speaker.describe()"
   ]
  },
  {
   "cell_type": "code",
   "execution_count": 114,
   "metadata": {},
   "outputs": [
    {
     "data": {
      "text/plain": [
       "moana                167\n",
       "maui                 108\n",
       "tui                   36\n",
       "tala                  24\n",
       "tamatoa                9\n",
       "sina                   8\n",
       "young moana            5\n",
       "male villager 3        5\n",
       "chorus                 4\n",
       "children               3\n",
       "female villager 1      2\n",
       "male villager 2        2\n",
       "male villager 1        2\n",
       "male villager 7        1\n",
       "male villager 5        1\n",
       "male villager 6        1\n",
       "male villager 8        1\n",
       "old male villager      1\n",
       "female villager        1\n",
       "male villager 4        1\n",
       "Name: Speaker, dtype: int64"
      ]
     },
     "execution_count": 114,
     "metadata": {},
     "output_type": "execute_result"
    }
   ],
   "source": [
    "moana.Speaker.value_counts()"
   ]
  },
  {
   "cell_type": "code",
   "execution_count": 115,
   "metadata": {},
   "outputs": [
    {
     "data": {
      "text/plain": [
       "20"
      ]
     },
     "execution_count": 115,
     "metadata": {},
     "output_type": "execute_result"
    }
   ],
   "source": [
    "female = ['moana', 'tala', 'sina', 'young moana', 'female villager 1', 'female villager']\n",
    "male = ['maui', 'tui', 'tomatoa', 'male villager 1', 'male villager 2', 'male villager 3', 'male villager 4',\n",
    "       'male villager 5', 'male villager 6', 'male villager 7', 'male villager 8', 'old male villager']\n",
    "neutral = ['children', 'chorus']\n",
    "len(female)+len(male)+len(neutral)"
   ]
  },
  {
   "cell_type": "code",
   "execution_count": 116,
   "metadata": {},
   "outputs": [],
   "source": [
    "#for x in moana.Speaker.values:\n",
    "#    if x in female: moana[\"Gender\"] = 'f'\n",
    "#    elif x in male: moana[\"Gender\"] = 'm'\n",
    "#    else: moana[\"Gender\"] = 'n'\n",
    "def whichgen(name):\n",
    "    if name in female: return 'f'\n",
    "    elif name in male: return 'm'\n",
    "    else: return 'n'\n",
    "moana[\"Gender\"] = moana.Speaker.map(whichgen)"
   ]
  },
  {
   "cell_type": "code",
   "execution_count": 117,
   "metadata": {},
   "outputs": [
    {
     "data": {
      "text/html": [
       "<div>\n",
       "<style scoped>\n",
       "    .dataframe tbody tr th:only-of-type {\n",
       "        vertical-align: middle;\n",
       "    }\n",
       "\n",
       "    .dataframe tbody tr th {\n",
       "        vertical-align: top;\n",
       "    }\n",
       "\n",
       "    .dataframe thead th {\n",
       "        text-align: right;\n",
       "    }\n",
       "</style>\n",
       "<table border=\"1\" class=\"dataframe\">\n",
       "  <thead>\n",
       "    <tr style=\"text-align: right;\">\n",
       "      <th></th>\n",
       "      <th>Text</th>\n",
       "      <th>Speaker</th>\n",
       "      <th>Song</th>\n",
       "      <th>Gender</th>\n",
       "    </tr>\n",
       "  </thead>\n",
       "  <tbody>\n",
       "    <tr>\n",
       "      <th>0</th>\n",
       "      <td>in the beginning, there was only ocean until t...</td>\n",
       "      <td>tala</td>\n",
       "      <td>D</td>\n",
       "      <td>f</td>\n",
       "    </tr>\n",
       "    <tr>\n",
       "      <th>1</th>\n",
       "      <td>Whoa, whoa, whoa! mother, that's enough.</td>\n",
       "      <td>tui</td>\n",
       "      <td>D</td>\n",
       "      <td>m</td>\n",
       "    </tr>\n",
       "    <tr>\n",
       "      <th>2</th>\n",
       "      <td>papa!</td>\n",
       "      <td>young moana</td>\n",
       "      <td>D</td>\n",
       "      <td>f</td>\n",
       "    </tr>\n",
       "    <tr>\n",
       "      <th>3</th>\n",
       "      <td>No one goes outside the reef. We are safe here...</td>\n",
       "      <td>tui</td>\n",
       "      <td>D</td>\n",
       "      <td>m</td>\n",
       "    </tr>\n",
       "    <tr>\n",
       "      <th>4</th>\n",
       "      <td>Monsters! Monsters! Monsters!</td>\n",
       "      <td>children</td>\n",
       "      <td>D</td>\n",
       "      <td>n</td>\n",
       "    </tr>\n",
       "  </tbody>\n",
       "</table>\n",
       "</div>"
      ],
      "text/plain": [
       "                                                Text      Speaker Song Gender\n",
       "0  in the beginning, there was only ocean until t...         tala    D      f\n",
       "1           Whoa, whoa, whoa! mother, that's enough.          tui    D      m\n",
       "2                                              papa!  young moana    D      f\n",
       "3  No one goes outside the reef. We are safe here...          tui    D      m\n",
       "4                      Monsters! Monsters! Monsters!     children    D      n"
      ]
     },
     "execution_count": 117,
     "metadata": {},
     "output_type": "execute_result"
    }
   ],
   "source": [
    "moana.head()"
   ]
  },
  {
   "cell_type": "markdown",
   "metadata": {},
   "source": [
    "### Speaker_Status\n",
    "in this film, the only princess is moana, and everyone else is a NON-P"
   ]
  },
  {
   "cell_type": "code",
   "execution_count": 118,
   "metadata": {},
   "outputs": [],
   "source": [
    "def whichstat(name):\n",
    "    if name == 'moana' or name == 'young moana': return 'PRINCESS'\n",
    "    else: return 'NON-P'\n",
    "\n",
    "moana['Speaker_Status'] = moana.Speaker.map(whichstat)"
   ]
  },
  {
   "cell_type": "code",
   "execution_count": 119,
   "metadata": {},
   "outputs": [
    {
     "data": {
      "text/html": [
       "<div>\n",
       "<style scoped>\n",
       "    .dataframe tbody tr th:only-of-type {\n",
       "        vertical-align: middle;\n",
       "    }\n",
       "\n",
       "    .dataframe tbody tr th {\n",
       "        vertical-align: top;\n",
       "    }\n",
       "\n",
       "    .dataframe thead th {\n",
       "        text-align: right;\n",
       "    }\n",
       "</style>\n",
       "<table border=\"1\" class=\"dataframe\">\n",
       "  <thead>\n",
       "    <tr style=\"text-align: right;\">\n",
       "      <th></th>\n",
       "      <th>Text</th>\n",
       "      <th>Speaker</th>\n",
       "      <th>Song</th>\n",
       "      <th>Gender</th>\n",
       "      <th>Speaker_Status</th>\n",
       "    </tr>\n",
       "  </thead>\n",
       "  <tbody>\n",
       "    <tr>\n",
       "      <th>0</th>\n",
       "      <td>in the beginning, there was only ocean until t...</td>\n",
       "      <td>tala</td>\n",
       "      <td>D</td>\n",
       "      <td>f</td>\n",
       "      <td>NON-P</td>\n",
       "    </tr>\n",
       "    <tr>\n",
       "      <th>1</th>\n",
       "      <td>Whoa, whoa, whoa! mother, that's enough.</td>\n",
       "      <td>tui</td>\n",
       "      <td>D</td>\n",
       "      <td>m</td>\n",
       "      <td>NON-P</td>\n",
       "    </tr>\n",
       "    <tr>\n",
       "      <th>2</th>\n",
       "      <td>papa!</td>\n",
       "      <td>young moana</td>\n",
       "      <td>D</td>\n",
       "      <td>f</td>\n",
       "      <td>PRINCESS</td>\n",
       "    </tr>\n",
       "    <tr>\n",
       "      <th>3</th>\n",
       "      <td>No one goes outside the reef. We are safe here...</td>\n",
       "      <td>tui</td>\n",
       "      <td>D</td>\n",
       "      <td>m</td>\n",
       "      <td>NON-P</td>\n",
       "    </tr>\n",
       "    <tr>\n",
       "      <th>4</th>\n",
       "      <td>Monsters! Monsters! Monsters!</td>\n",
       "      <td>children</td>\n",
       "      <td>D</td>\n",
       "      <td>n</td>\n",
       "      <td>NON-P</td>\n",
       "    </tr>\n",
       "  </tbody>\n",
       "</table>\n",
       "</div>"
      ],
      "text/plain": [
       "                                                Text      Speaker Song Gender  \\\n",
       "0  in the beginning, there was only ocean until t...         tala    D      f   \n",
       "1           Whoa, whoa, whoa! mother, that's enough.          tui    D      m   \n",
       "2                                              papa!  young moana    D      f   \n",
       "3  No one goes outside the reef. We are safe here...          tui    D      m   \n",
       "4                      Monsters! Monsters! Monsters!     children    D      n   \n",
       "\n",
       "  Speaker_Status  \n",
       "0          NON-P  \n",
       "1          NON-P  \n",
       "2       PRINCESS  \n",
       "3          NON-P  \n",
       "4          NON-P  "
      ]
     },
     "execution_count": 119,
     "metadata": {},
     "output_type": "execute_result"
    }
   ],
   "source": [
    "moana.head()"
   ]
  },
  {
   "cell_type": "markdown",
   "metadata": {},
   "source": [
    "### Role\n",
    "Is the speaker a protagonist, antagonist, helper, or neutral. I'm listing Tui, Moana's father, as an antagonist along with tamatoa, since he prevents her from going on her journey at the start of the film. Moana and Maui are going to be listed as protagonists, while tala and sina can be listed as helpers who aid Moana and Maui on their journey. Perhaps later on I may refine this (Maui is arguably a helper, and towards the beginning he acts more like an antagonist). That will be an easy edit, as long as I have editable code down"
   ]
  },
  {
   "cell_type": "code",
   "execution_count": 125,
   "metadata": {},
   "outputs": [],
   "source": [
    "pro = ['young moana','moana', 'maui']\n",
    "ant = ['tui', 'tamatoa']\n",
    "helper = ['sina', 'tala']\n"
   ]
  },
  {
   "cell_type": "code",
   "execution_count": 126,
   "metadata": {},
   "outputs": [],
   "source": [
    "def whichrole(name):\n",
    "    if name in pro: return 'PRO'\n",
    "    if name in ant: return 'ANT'\n",
    "    if name in helper: return 'HELPER'\n",
    "    else: return \"N\" #for neutral"
   ]
  },
  {
   "cell_type": "code",
   "execution_count": 127,
   "metadata": {},
   "outputs": [],
   "source": [
    "moana['Role'] = moana.Speaker.map(whichrole)"
   ]
  },
  {
   "cell_type": "code",
   "execution_count": 128,
   "metadata": {},
   "outputs": [
    {
     "data": {
      "text/html": [
       "<div>\n",
       "<style scoped>\n",
       "    .dataframe tbody tr th:only-of-type {\n",
       "        vertical-align: middle;\n",
       "    }\n",
       "\n",
       "    .dataframe tbody tr th {\n",
       "        vertical-align: top;\n",
       "    }\n",
       "\n",
       "    .dataframe thead th {\n",
       "        text-align: right;\n",
       "    }\n",
       "</style>\n",
       "<table border=\"1\" class=\"dataframe\">\n",
       "  <thead>\n",
       "    <tr style=\"text-align: right;\">\n",
       "      <th></th>\n",
       "      <th>Text</th>\n",
       "      <th>Speaker</th>\n",
       "      <th>Song</th>\n",
       "      <th>Gender</th>\n",
       "      <th>Speaker_Status</th>\n",
       "      <th>Role</th>\n",
       "    </tr>\n",
       "  </thead>\n",
       "  <tbody>\n",
       "    <tr>\n",
       "      <th>0</th>\n",
       "      <td>in the beginning, there was only ocean until t...</td>\n",
       "      <td>tala</td>\n",
       "      <td>D</td>\n",
       "      <td>f</td>\n",
       "      <td>NON-P</td>\n",
       "      <td>HELPER</td>\n",
       "    </tr>\n",
       "    <tr>\n",
       "      <th>1</th>\n",
       "      <td>Whoa, whoa, whoa! mother, that's enough.</td>\n",
       "      <td>tui</td>\n",
       "      <td>D</td>\n",
       "      <td>m</td>\n",
       "      <td>NON-P</td>\n",
       "      <td>ANT</td>\n",
       "    </tr>\n",
       "    <tr>\n",
       "      <th>2</th>\n",
       "      <td>papa!</td>\n",
       "      <td>young moana</td>\n",
       "      <td>D</td>\n",
       "      <td>f</td>\n",
       "      <td>PRINCESS</td>\n",
       "      <td>PRO</td>\n",
       "    </tr>\n",
       "    <tr>\n",
       "      <th>3</th>\n",
       "      <td>No one goes outside the reef. We are safe here...</td>\n",
       "      <td>tui</td>\n",
       "      <td>D</td>\n",
       "      <td>m</td>\n",
       "      <td>NON-P</td>\n",
       "      <td>ANT</td>\n",
       "    </tr>\n",
       "    <tr>\n",
       "      <th>4</th>\n",
       "      <td>Monsters! Monsters! Monsters!</td>\n",
       "      <td>children</td>\n",
       "      <td>D</td>\n",
       "      <td>n</td>\n",
       "      <td>NON-P</td>\n",
       "      <td>N</td>\n",
       "    </tr>\n",
       "  </tbody>\n",
       "</table>\n",
       "</div>"
      ],
      "text/plain": [
       "                                                Text      Speaker Song Gender  \\\n",
       "0  in the beginning, there was only ocean until t...         tala    D      f   \n",
       "1           Whoa, whoa, whoa! mother, that's enough.          tui    D      m   \n",
       "2                                              papa!  young moana    D      f   \n",
       "3  No one goes outside the reef. We are safe here...          tui    D      m   \n",
       "4                      Monsters! Monsters! Monsters!     children    D      n   \n",
       "\n",
       "  Speaker_Status    Role  \n",
       "0          NON-P  HELPER  \n",
       "1          NON-P     ANT  \n",
       "2       PRINCESS     PRO  \n",
       "3          NON-P     ANT  \n",
       "4          NON-P       N  "
      ]
     },
     "execution_count": 128,
     "metadata": {},
     "output_type": "execute_result"
    }
   ],
   "source": [
    "moana.head()"
   ]
  },
  {
   "cell_type": "markdown",
   "metadata": {},
   "source": [
    "## Adding pre-existing columns\n",
    "Cool! Now, let's annotate this Moana data with data from the original corpus!"
   ]
  },
  {
   "cell_type": "code",
   "execution_count": null,
   "metadata": {},
   "outputs": [],
   "source": []
  }
 ],
 "metadata": {
  "kernelspec": {
   "display_name": "Python 3",
   "language": "python",
   "name": "python3"
  },
  "language_info": {
   "codemirror_mode": {
    "name": "ipython",
    "version": 3
   },
   "file_extension": ".py",
   "mimetype": "text/x-python",
   "name": "python",
   "nbconvert_exporter": "python",
   "pygments_lexer": "ipython3",
   "version": "3.6.4"
  }
 },
 "nbformat": 4,
 "nbformat_minor": 2
}
