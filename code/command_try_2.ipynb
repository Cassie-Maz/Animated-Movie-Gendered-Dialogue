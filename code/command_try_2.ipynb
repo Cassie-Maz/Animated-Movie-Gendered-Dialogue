{
 "cells": [
  {
   "cell_type": "markdown",
   "metadata": {},
   "source": [
    "# Commands, Attempt 2!\n",
    "I'm going to try regular expressions this time!"
   ]
  },
  {
   "cell_type": "code",
   "execution_count": 2,
   "metadata": {},
   "outputs": [],
   "source": [
    "import pandas as pd"
   ]
  },
  {
   "cell_type": "code",
   "execution_count": 3,
   "metadata": {},
   "outputs": [],
   "source": [
    "import re"
   ]
  },
  {
   "cell_type": "code",
   "execution_count": 4,
   "metadata": {},
   "outputs": [],
   "source": [
    "movie_df = pd.read_pickle(r\"C:/Users/cassi/Desktop/Data_Science/Animated-Movie-Gendered-Dialogue/private/all_tagged_dialogue.pkl\")"
   ]
  },
  {
   "cell_type": "code",
   "execution_count": 5,
   "metadata": {},
   "outputs": [
    {
     "name": "stdout",
     "output_type": "stream",
     "text": [
      "<class 'pandas.core.frame.DataFrame'>\n",
      "Int64Index: 13442 entries, 0 to 14095\n",
      "Data columns (total 17 columns):\n",
      "Disney_Period       13442 non-null object\n",
      "Gender              13442 non-null object\n",
      "Movie               13442 non-null object\n",
      "Role                13442 non-null object\n",
      "Song                13442 non-null object\n",
      "Speaker             13442 non-null object\n",
      "Speaker_Status      13442 non-null object\n",
      "Text                13442 non-null object\n",
      "UTTERANCE_NUMBER    13442 non-null int64\n",
      "Year                13442 non-null int64\n",
      "Tokens              13442 non-null object\n",
      "Types               13442 non-null object\n",
      "Token_Count         13442 non-null int64\n",
      "Type_Count          13442 non-null int64\n",
      "POS                 13442 non-null object\n",
      "Tag_Freq            13442 non-null object\n",
      "Command_Count       13442 non-null int64\n",
      "dtypes: int64(5), object(12)\n",
      "memory usage: 1.2+ MB\n"
     ]
    }
   ],
   "source": [
    "movie_df.info()"
   ]
  },
  {
   "cell_type": "code",
   "execution_count": 6,
   "metadata": {},
   "outputs": [],
   "source": [
    "#should, shall, will should be in different regex\n",
    "\n",
    "commands_4 = []\n",
    "for line in movie_df.Text:\n",
    "    if re.search(r'you (must|could)(?! be )', line) or re.search(r'you (should|shall|will|have to)', line):\n",
    "        commands_4.append(line)"
   ]
  },
  {
   "cell_type": "code",
   "execution_count": 12,
   "metadata": {},
   "outputs": [
    {
     "data": {
      "text/plain": [
       "192"
      ]
     },
     "execution_count": 12,
     "metadata": {},
     "output_type": "execute_result"
    }
   ],
   "source": [
    "len(commands)"
   ]
  },
  {
   "cell_type": "code",
   "execution_count": 7,
   "metadata": {},
   "outputs": [
    {
     "data": {
      "text/plain": [
       "217"
      ]
     },
     "execution_count": 7,
     "metadata": {},
     "output_type": "execute_result"
    }
   ],
   "source": [
    "len(commands_4)"
   ]
  },
  {
   "cell_type": "code",
   "execution_count": 8,
   "metadata": {},
   "outputs": [
    {
     "name": "stdout",
     "output_type": "stream",
     "text": [
      "Pretty printing has been turned OFF\n"
     ]
    }
   ],
   "source": [
    "%pprint"
   ]
  },
  {
   "cell_type": "code",
   "execution_count": 9,
   "metadata": {},
   "outputs": [
    {
     "data": {
      "text/plain": [
       "['and there, my faithful huntsman, you will kill her ! ', \"you should talk. these beads! i'm sick of looking at them. trash! oh i hate them. oh i don't see why i can't have something new \", \"a dream is a wish your heart makes when you're fast asleep in dreams you will lose your heartaches whatever you wish for, you keep \", 'oh, now, now, now just a moment. you must understand my dear. on the stroke of twelve the spell will be broken and everything will be as it was before. ', \"you will stay right here. see they're not disturbed. and when the boy proposes notify me immediately. \", \"oh, oh no! no please! oh you can't. you just can't! let me out! you must let me out! you can't keep me in here! oh please! \", \"sweet princess, if through this wicked witches trick a spindle should your finger prick, a ray of hope there still may be in this, the gift i give at thee. not in death but just in sleep the fateful prophecy you'll keep, and from this slumber you shall wake when true love's kiss the spell shall break. \", \"i'm sorry, child, but you must never see that man again. \", \"you poor simple fools. thinking you could defeat me, me, the mistress of all evil. well, here's your precious princess. \", \"maybe you could make a little planter out of it or somethin'. \", \"oh, ariel, how many times must we go through this? you could've been seen by one of those barbarians by by one of those humans! \", \"ah, grimsby y'old beanpole, you shouldn't have. \", \". . . and don't you shake your head at me, lady. maybe there's still time. if we could get that witch to give you back your voice, you could go home with all the normal fish, and just be . . . just be . . . just be miserable for the rest of your life. all right, all right. i'll try to help you find that prince. boy. what a softshell i'm turning out to be. \", \"whoa, whoa, careful careful easy. gee, you must have really been through something. don't worry, i'll help you. come on . . . come on, you'll be okay. fade to ariel in bath playing with bubbles. \", 'well you must have at least heard about this girl. ', 'oooohhh! allah forbid you should have any daughters! ', 'if you could just', 'remember, boyfirst fetch me the lamp, and then you shall have your reward. ', 'you have touched the forbidden treasure. ', 'now you will never again see the light of day! ', 'you will order the princess to marry me. ', 'what? what is that? that music! ha ha ha. jafar., you must come and see this! ', 'you should be free to make your own choice. ', 'al? al! kid, snap out of it! you can\\'t cheat on this one! i can\\'t help you unless you make a wish. you have to say \"genie i want you to save my life.\" got it? okay. c\\'mon aladdin!! ', 'you should be, jasmine. i have chosen a husband for you. ', 'you will wed jafar. ', \"ha ha! praise allah! you brilliant boy, i could kiss you! i won'ti'll leave that to my. you two will be wed at once! yes, yes. and you'll be happy and prosperous, and then my boy, you will be sultan! \", \"there's a new order nowmy order! finally, you will bow to me! \", 'if you will not bow before a sultan, then you will cower before a sorcerer! ', \"don't talk back to me, you stupid blue lout! you will do what i order you to do, slave! \", 'you little fool! you thought you could defeat the most powerful being on earth! ', \"yes, you will. and you'll win first prize at the fair tomorrow \", \"phillipe! what are you doing here? where's papa? where is he, phillipe? what happened? oh, we have to find him, you have to take me to him! \", 'no time to explain. you must go...now! ', 'yes, but you must promise to stay here forever. ', 'you will? oh thank you, thank you! ', 'oh, but you must! ', 'oh, you must help her to see past all that. ', 'you must control your temper! ', \"perhaps you could take me. i'm sure you know everything there is to know about the castle. \", 'do you realize what you could have done? ', \"well you shouldn't have been in the west wing! \", 'well you should learn to control your temper! ', 'well then you must tell her. ', 'then...then you must go to him. ', 'you should ask your father about it. ', 'my daughter, kocoumwill make a fine husband. he is loyal and strong and will build you a good house with sturdy walls. with him you will be safe from harm. ', 'well then, perhaps you should venture forth and determine their whereabouts, hmm? ', 'you will. ', 'pocahontas! you should be inside the village. ', \"you shouldn't be out here alone. i'll send for kocoum. \", 'you could belong here. ', 'then you should talk back. ', \"not aiming like that, you couldn't. keep both eyes open when you shoot. you'll see twice as well. \", \"excellent. then you must know the indians' whereabouts. we'll need that information for the battle. \", \"maybe it's not too late to stop this. you have to come with me and talk to my father. \", 'you have to stop them. ', 'you must choose your own path. ', 'no, you have to go back. ', \"mulan. you should already be in town. we're counting on you to ... \", 'this way. now, pour the tea. to please your future inlaws, you must demonstrate a sense of dignity ', 'and refinement. you must also be poised. ', 'you are a disgrace! you may look like a bride, but you will never bring your family honor! ', \"silence! you will do well to teach your daughter to hold her tongue in a man's presence. \", \"you shouldn't have to go! \", 'you must go after her. she could be killed. ', \"you will stay and train the new recruits. when chi fu believes you're ready, you will join us ... captain. \", 'soldiers! you will assemble swiftly and silently, every morning. anyone who does otherwise, will answer to me. ', 'shang, i saw them in the mountains! you have to believe me! ', 'please, you have to help! ', 'then you will kneel ... in pieces! ', \"yeah, c'mon, tiana, you could use a little hand. it's mardi gras. \", 'yes, yes, yes... my mother had the servants read this to me every night. yes, yes...this is exactly the answer! you ...you must kiss me! ', \"you will enjoy it, i guarantee. all women enjoy the kiss... of prince naveen. come, we pucker. that's new. \", 'oh, but you must kiss me. look, besides being unbelievably handsome, i also happened to come from a fabulously wealthy family. surely, i can offer you some type of reward or a wish i could grant perhaps... yes? ', 'you will be so happy together. ', 'you coulda have a cute, little tadpoles. ', 'i did! you have had quite an influence on me. which is amazing because i have dated thousands of women and... no, like two, three... just other women! aand anyway, you could not be more different! you know, you are you are practically, one of the guys! no no no! you are not a guy! let me begin again! uh... ha... i am not myself tonight. tiana! sorry, that was loud. this is a disaster. ', 'it should be elegant. prince naveen you should keep it loose, let it swing ', \"y'all should've taken my deal. now you will spend the rest of your life bein' a slimy little frog! \", 'yeah, more or less. but remember, you must give tiana all the money she requires for her restaurant. because tiana ... she is my evangeline. ', 'but are you willing to pay the price your freedom will cost? ', 'if you could just try to see what i do, i do out of love. ', \"i think you'd see, if you could just. . . \", 'my lords, i am out of sorts at the moment. but you shall have your answer. . . ', \"oh, yes! but first, you must learn where you're meant to be.\", \"come on. there's something i need to show you. i've wanted to bring you here from the moment you opened your eyes. this is a sacred place, a place of chiefs. there will come a time when you will stand on this peak and place a stone on this mountain. like i did. like my father did. and his father, and every chief that has even been. and on that day, when you add your stone, you will raise this whole island higher. you are the future of our people, moana. and they are not out there. they are right here. it's time to be who they need you to be.\", 'nope! our ancestors believed maui lies there, at the bottom of his hook. follow it, and you will find him.', 'you must! the ocean chose you. follow the fish hook--', 'and when you find maui, you grab him by the ear, you say: i am moana of motunui. you will board my boat, sail across the sea, and restore the heart of te fiti.', \"there is nowhere you could go that i won't be with you. go!\", \"i am moana of motunui. you will board my boat, sail across the sea, and restore the heart of te fiti. i am moana…of motu--nui. heihei? it’s okay. it's alright. see? there we go. nice water. the ocean is a friend of mine. heihei? heihei! stay. okay, next stop, maui. i am moana of motunui. you will board my boat, sail across the sea, and restore of te fiti. i am moana of ... board my boat! oh no. no, no, no! uh, ocean? can i get a little help? no, no. please. come on! help me! please!\", 'maui! maui, demigod of the wind and sea, i am moana of motunui! you will board my boat--no, you will board my boat. yeah. i am moana of motunui. you will board…my…', \"you are not my hero! and i'm not here so you can sign my oar. i'm here 'cause you stole the heart of te fiti! and you will board my boat, and sail across the sea and put it back!\", \"um, yeah, it almost sounded like you don't like me, which is impossible because i got stuck here for a thousand years trying to get the heart as a gift for you mortals. so you could have the power to create live itself. yeah, so what i believe you were trying to say is thank you.\", 'no! stop! hey! you have to put back the heart!', 'i am moana of motunui. this is my canoe you will journey to--', 'yes. and you will restore the heart. ah!', \"if you wear a dress and you have an animal sidekick, you're a princess. you are not a wayfinder. you will never be a wayfinder, you will never be a--really? blow dart in my buttcheek? you are a bad person.\", 'maui, you have to restore the heart.', 'i am moana of motunui. you will board my boat--', \"why did you bring me here? i'm not the right person. you have to choose someone else. choose someone else. please. no.\", 'you could come with us, you know. my people are going to need a master wayfinder.', 'the outside world is a dangerous place, filled with horrible, selfish people. you must stay here, where you’re safe. do you understand, flower?', 'lanterns. i knew they weren’t stars. well, tomorrow evening they will light the night sky with these lanterns. you will act as my guide, take me to these lanterns, and return me home safely. then, and only then, will i return your satchel to you. that is my deal.', 'something brought you here, flynn rider. call it what you will: fate, destiny…', 'you can tear this tower apart brick by brick, but without my help, you will never find your precious satchel.', 'she’s growing it out. is that blood in your moustache? goldie, look at this. look at all the blood in his moustache. that, sir, that’s a lot of blood. hey, you don’t look so good, blondie. maybe we should get you a home. call it a day. probably be better off. this is a five star joint after all, and if you can’t handle this place, well, maybe you should be back in your tower.', 'where’s rider? where is he? i know he’s in here somewhere. find him, turn the place upside down if you have to!', 'you should know that this is the strangest thing i’ve ever done!', 'ha! you should see your faces because you look…  ridiculous.', 'well, best day of your life, i figured you should have a decent seat.', 'i promise you. you have to trust me–', 'well, you could imagine what happened next.  the kingdom rejoiced, for the lost princess had now returned. the party lasted an entire week, and honestly i don’t remember much of it.', 'do what you must.', \"it's for the best. listen to me, elsa, your power will only grow. there is beauty in it.  but also great danger.  you must learn to control it. fear will be your enemy.\", 'do you have to go?', 'no. whatever you have to say, you...you can say to both of us.', 'no, you may not. and i...i think you should go. the party is over.  close the gates.', \"look! it's snowing! it's snowing! the queen has cursed this land! she must be stopped! you have to go after her.\", 'do you think you could show us the way?', \"it opened. that's a first.  oh, you should probably wait out here.\", \"no, no. it's okay. you don't have to apologize. but you should probably go, please.\", \"who's this? wait, it doesn't matter. just...you have to go.\", 'how? what power do you have to stop this winter? to stop me?', 'what? i just fell off a cliff! you should see your hair.', \"don't you see, i can't. you have to tell them to let me go.\", 'hans, you have to kiss me.', 'i knew you could do it.', \"you have to! no returns. no exchanges. queen's orders. she's named you the official arendelle ice master and deliverer.\", 'terrific!  you should feel insignificant!', \"and all the time i've known you, you've been grumping and groaning. you should quit making waves.  go with the flow.\", \"you have to help me.  please, weaver. think of all the things i've done for you!\", 'darling, you must encourage the troops -- wave!', 'excuse me.  i seem to be lost, and i was wondering if you could give me --', \"who said you could have a chat  ? you're not a chatter, you're a digger!  so shut up and dig!\", 'now, worker, you shall take me back to the colony, and have your head cut off and stuck on a sharp pole!', 'darling, do you have to talk to any insect from off the street?', 'and me, i guess you could say that i lived happily ever after.', \"what i mean is you're not a king yet. but you can become one. all you have to do is marry a princess.\", 'brave knights. you are the best and brightest in all the land. today one of you shall prove himself...', \"no. oh, no, no! oh, what large teeth you have. i mean white, sparkling teeth. i know you probably hear this all time from your food, but you must bleach, 'cause that is one dazzling smile you got there. do i detect a hint of minty freshness? and you know what else? you're - - you're a girl dragon! oh, sure! i mean, of course you're a girl dragon. you're just reeking of feminine beauty.\", 'hey, wait. what are you doing? you should sweep me off my feet out yonder window and down a rope onto your valiant steed.', 'but we have to savor this moment! you could recite an epic poem for me. a ballad? a sonnet! a limerick? or something!', \"no, it's destiny. oh, you must know how it goes. a princess locked in a tower and beset by a dragon is rescued by a brave knight, and then they share true love's first kiss.\", 'good question. you should ask him that when we get there.', 'put me down, or you will suffer the consequences! this is not dignified! put me down!', \"well, maybe you shouldn't judge people before you get to know them.\", \"all right, all right. i won't tell him. but you should. i just know before this is over, i'm gonna need a whole lot of serious therapy. look at my eye twitchin'.\", \"mabel, remember how you couldn't get your little fat foot into that tiny glass slipper?\", 'shrek, maybe you should just stay and be king.', 'you should be ashamed of yourself.', 'it really is all fun and games, actually. sure, you have to knight a few heroes, launch a ship or two. by the way, make sure you hit the boat just right with the bottle.', 'yeah, and you should think about getting yourself a pair of pants! i feel all exposed and nasty.', 'and you should all care too.', '\"tis i! tis i! upon my regal steed! princess, my love, at last you shall be freed!\"', 'you will not ruin things this time ogre.\\n\\n kill it!', 'i see you like to chew! maybe you should chew on my fist!!', 'you are almost ready to be entrusted with the secret ingredient of my \"secret ingredient soup.\" and then you will fulfill your destiny and take over the restaurant, just as i took it over from my father, who took it over from his father, who won it from a friend in a game of mahjong.', 'wrong! you are not the dragon warrior. you will never be the dragon warrior until you have learned the secret of the dragon scroll.', 'oh, then you must know what happens when i flex my pinky.', \"i mean...you don't belong in the jade palace. you're a disgrace to kung fu, and if you have any respect for who we are and what we do, you will be gone by morning.\", 'and the five... man, you should have seen them, they totally hate me.', \"you actually thought you could learn to do a full split in one night? it takes years to develop one's flexibility and years longer to apply it in combat.\", 'maybe you should take a look at this again.', 'ah, yes. but no matter what you do, that seed will grow to be a peach tree. you may wish for an apple, or an orange... but you will get a peach.', 'no, you just need to believe. promise me, shifu. promise me you will believe.', 'good. my time has come. you must continue your journey without me.', 'you must believe.', \"you should try my dad's secret ingredient soup. he actually knows the secret ingredient.\", 'you will never be the dragon warrior, unless you lose five hundred pounds and brush your teeth!', 'work hard, panda. and maybe, someday... you will have ears like mine.', 'you will beat him because you are the dragon warrior!', \"so you could come back here and strike fear into our hearts. but it won't work!\", 'but you will have the one thing that no one else does.', \"no one knows, but legend says you will be able to hear a butterfly's wing-beat.\", 'yes. and see light in the deepest cave. you will feel the universe in motion around you.', \"no, evacuate the valley. you must protect the villagers from tai lung's rage.\", 'dragon warrior has taken scroll halfway across china by now. you will never see that scroll, tai lung. never. never...', 'but you will kill dragons.', 'behind these doors are just a few of the many species you will learn to fight.', 'your most important piece of equipment is your shield. if you must make a choice between a sword or a shield, take the shield.', \"so anyway i'm moving into my parents' basement. you should come by sometime to work out. you look like you work out--\", \"she's right, you have to be tough on yourselves.\", \"isn't it weird to think that your hand was inside a dragon. like if your mind was still in control of it you could have killed the dragon from the inside by crushing his heart or something.\", \"alright. i'm off to bed. you should be too. tomorrow we get into the big boys. slowly but surely making our way up to the monstrous nightmare. but who'll win the honor of killing it?\", 'just how long did you think you could hide it from me?', 'you have to give me a chance to explain.', \"i'm not listening to anything you have to say!\", \"you must feel horrible. you've lost everything. your father, your tribe, your best friend.\", 'any chance you could give me the time. i don’t want to be late for the opening of the metro man museum.', 'oh, i’m shaking in my custom baby seal leather boots! you will leave metro city or this will be the last you ever hear of, roxanne ritchie! huh?', 'wait, roxy. i’m havin’ a party at my house, gonna be off the hook, or whatever. you should come over. i got a dj, rented a bouncy house, made a gallon of dip. it’s gonna be sick!', 'hal! hal’s the worst possible person you could pick!', 'you should be more like metro man.', 'you should stop comparing me to metro man.', 'warden! warden! listen to me, you have to let me go. titan has to be stopped!', 'yes! and you should look back right now.', \"don't look at me like that, old friend. you must have known this day would come. my nightmares are finally ready. are your guardians?\", 'if man in moon chose you to be a guardian, you must have something very special inside.', \"you should've seen them. they put up such a fight.\", \"you should've seen bunny.\", \"all these years, and the answers were right here. if i find my memories, then i'll know why i'm here. you have to show me.\", 'you will. i feel it, in my belly.', 'it was a dream. you should be happy you still get dreams like that and not...', 'you have to believe in me.', \"if it wasn't a dream and if you are real, then you have to prove it. like right now.\", 'you dare have fun in my presence! i am the boogeyman! and you will fear me!', 'okay. but it won\\'t be as good as grug\\'s. um, once upon a time, there was a beautiful tiger. she lived in a cave with the rest of her family. her father and mother told her, \"you may go anywhere you want but never go near the cliff, for you could fall.\"', 'you have to stop worrying for all of us.', 'ugga, everyone, you have to listen to me.', 'please grug. you have to stop struggling.', \"ha! you should've thought of that before you stole all of our dragons and blasted our fort to bits!\", 'you will never hold on to those dragons, you hear me?! drago is coming for them all!', \"you should've seen their fort. all blown apart and stuck in giant spikes of ice. it was weird.\", \"it's okay though. he got me back. right, bud? you couldn't save all of me, could you? you just had to make it even. so... peg leg!\", 'well, what sign did i have that you could change, stoick? that anyone on berk could?']"
      ]
     },
     "execution_count": 9,
     "metadata": {},
     "output_type": "execute_result"
    }
   ],
   "source": [
    "commands_4"
   ]
  },
  {
   "cell_type": "code",
   "execution_count": 24,
   "metadata": {},
   "outputs": [
    {
     "data": {
      "text/plain": [
       "169"
      ]
     },
     "execution_count": 24,
     "metadata": {},
     "output_type": "execute_result"
    }
   ],
   "source": [
    "len(commands_2)"
   ]
  },
  {
   "cell_type": "code",
   "execution_count": 30,
   "metadata": {},
   "outputs": [
    {
     "data": {
      "text/plain": [
       "182"
      ]
     },
     "execution_count": 30,
     "metadata": {},
     "output_type": "execute_result"
    }
   ],
   "source": [
    "len(commands_3)"
   ]
  },
  {
   "cell_type": "code",
   "execution_count": 13,
   "metadata": {},
   "outputs": [
    {
     "data": {
      "text/plain": [
       "['and there, my faithful huntsman, you will kill her ! ',\n",
       " 'yes, and you must be ',\n",
       " 'oh, you must be grumpy. ',\n",
       " \"you should talk. these beads! i'm sick of looking at them. trash! oh i hate them. oh i don't see why i can't have something new \",\n",
       " \"a dream is a wish your heart makes when you're fast asleep in dreams you will lose your heartaches whatever you wish for, you keep \",\n",
       " 'why, then you must be ',\n",
       " 'oh, now, now, now just a moment. you must understand my dear. on the stroke of twelve the spell will be broken and everything will be as it was before. ',\n",
       " \"you will stay right here. see they're not disturbed. and when the boy proposes notify me immediately. \",\n",
       " \"oh, oh no! no please! oh you can't. you just can't! let me out! you must let me out! you can't keep me in here! oh please! \",\n",
       " 'you must be quite fatigued your grace. may we offer you some tea? ',\n",
       " \"sweet princess, if through this wicked witches trick a spindle should your finger prick, a ray of hope there still may be in this, the gift i give at thee. not in death but just in sleep the fateful prophecy you'll keep, and from this slumber you shall wake when true love's kiss the spell shall break. \",\n",
       " \"i'm sorry, child, but you must never see that man again. \",\n",
       " \"you poor simple fools. thinking you could defeat me, me, the mistress of all evil. well, here's your precious princess. \",\n",
       " \"maybe you could make a little planter out of it or somethin'. \",\n",
       " \"oh, ariel, how many times must we go through this? you could've been seen by one of those barbarians by by one of those humans! \",\n",
       " \"ah, grimsby y'old beanpole, you shouldn't have. \",\n",
       " \". . . and don't you shake your head at me, lady. maybe there's still time. if we could get that witch to give you back your voice, you could go home with all the normal fish, and just be . . . just be . . . just be miserable for the rest of your life. all right, all right. i'll try to help you find that prince. boy. what a softshell i'm turning out to be. \",\n",
       " \"whoa, whoa, careful careful easy. gee, you must have really been through something. don't worry, i'll help you. come on . . . come on, you'll be okay. fade to ariel in bath playing with bubbles. \",\n",
       " 'well you must have at least heard about this girl. ',\n",
       " \"come come come, you must be famished. let me help you my dear. there we go ah quite comfy? uh. it's it's not ofen that we have such a lovely dinner guest, eh eric? \",\n",
       " 'oooohhh! allah forbid you should have any daughters! ',\n",
       " 'oh, you must be hungry. here you go. ',\n",
       " 'if you could just',\n",
       " 'remember, boyfirst fetch me the lamp, and then you shall have your reward. ',\n",
       " 'now you will never again see the light of day! ',\n",
       " 'you will order the princess to marry me. ',\n",
       " 'what? what is that? that music! ha ha ha. jafar., you must come and see this! ',\n",
       " 'you should be free to make your own choice. ',\n",
       " 'you should be, jasmine. i have chosen a husband for you. ',\n",
       " 'you will wed jafar. ',\n",
       " \"ha ha! praise allah! you brilliant boy, i could kiss you! i won'ti'll leave that to my. you two will be wed at once! yes, yes. and you'll be happy and prosperous, and then my boy, you will be sultan! \",\n",
       " \"there's a new order nowmy order! finally, you will bow to me! \",\n",
       " 'if you will not bow before a sultan, then you will cower before a sorcerer! ',\n",
       " \"don't talk back to me, you stupid blue lout! you will do what i order you to do, slave! \",\n",
       " 'you little fool! you thought you could defeat the most powerful being on earth! ',\n",
       " \"yes, you will. and you'll win first prize at the fair tomorrow \",\n",
       " 'no time to explain. you must go...now! ',\n",
       " 'yes, but you must promise to stay here forever. ',\n",
       " 'you will? oh thank you, thank you! ',\n",
       " 'oh, but you must! ',\n",
       " 'oh, you must help her to see past all that. ',\n",
       " 'you must control your temper! ',\n",
       " \"perhaps you could take me. i'm sure you know everything there is to know about the castle. \",\n",
       " 'do you realize what you could have done? ',\n",
       " \"well you shouldn't have been in the west wing! \",\n",
       " 'well you should learn to control your temper! ',\n",
       " \"you don't have time to be timid. you must be bold, daring. \",\n",
       " 'well then you must tell her. ',\n",
       " 'then...then you must go to him. ',\n",
       " 'you should ask your father about it. ',\n",
       " 'my daughter, kocoumwill make a fine husband. he is loyal and strong and will build you a good house with sturdy walls. with him you will be safe from harm. ',\n",
       " 'well then, perhaps you should venture forth and determine their whereabouts, hmm? ',\n",
       " 'you will. ',\n",
       " 'pocahontas! you should be inside the village. ',\n",
       " \"you shouldn't be out here alone. i'll send for kocoum. \",\n",
       " 'you could belong here. ',\n",
       " 'then you should talk back. ',\n",
       " \"not aiming like that, you couldn't. keep both eyes open when you shoot. you'll see twice as well. \",\n",
       " \"excellent. then you must know the indians' whereabouts. we'll need that information for the battle. \",\n",
       " 'you must choose your own path. ',\n",
       " \"mulan. you should already be in town. we're counting on you to ... \",\n",
       " 'this way. now, pour the tea. to please your future inlaws, you must demonstrate a sense of dignity ',\n",
       " 'and refinement. you must also be poised. ',\n",
       " 'you are a disgrace! you may look like a bride, but you will never bring your family honor! ',\n",
       " \"silence! you will do well to teach your daughter to hold her tongue in a man's presence. \",\n",
       " \"you shouldn't have to go! \",\n",
       " 'you must go after her. she could be killed. ',\n",
       " \"you will stay and train the new recruits. when chi fu believes you're ready, you will join us ... captain. \",\n",
       " 'soldiers! you will assemble swiftly and silently, every morning. anyone who does otherwise, will answer to me. ',\n",
       " 'then you will kneel ... in pieces! ',\n",
       " \"yeah, c'mon, tiana, you could use a little hand. it's mardi gras. \",\n",
       " 'yes, yes, yes... my mother had the servants read this to me every night. yes, yes...this is exactly the answer! you ...you must kiss me! ',\n",
       " \"you will enjoy it, i guarantee. all women enjoy the kiss... of prince naveen. come, we pucker. that's new. \",\n",
       " 'oh, but you must kiss me. look, besides being unbelievably handsome, i also happened to come from a fabulously wealthy family. surely, i can offer you some type of reward or a wish i could grant perhaps... yes? ',\n",
       " 'you will be so happy together. ',\n",
       " 'you coulda have a cute, little tadpoles. ',\n",
       " 'i did! you have had quite an influence on me. which is amazing because i have dated thousands of women and... no, like two, three... just other women! aand anyway, you could not be more different! you know, you are you are practically, one of the guys! no no no! you are not a guy! let me begin again! uh... ha... i am not myself tonight. tiana! sorry, that was loud. this is a disaster. ',\n",
       " 'it should be elegant. prince naveen you should keep it loose, let it swing ',\n",
       " \"y'all should've taken my deal. now you will spend the rest of your life bein' a slimy little frog! \",\n",
       " 'yeah, more or less. but remember, you must give tiana all the money she requires for her restaurant. because tiana ... she is my evangeline. ',\n",
       " 'but are you willing to pay the price your freedom will cost? ',\n",
       " 'if you could just try to see what i do, i do out of love. ',\n",
       " \"i think you'd see, if you could just. . . \",\n",
       " 'my lords, i am out of sorts at the moment. but you shall have your answer. . . ',\n",
       " \"oh, yes! but first, you must learn where you're meant to be.\",\n",
       " \"come on. there's something i need to show you. i've wanted to bring you here from the moment you opened your eyes. this is a sacred place, a place of chiefs. there will come a time when you will stand on this peak and place a stone on this mountain. like i did. like my father did. and his father, and every chief that has even been. and on that day, when you add your stone, you will raise this whole island higher. you are the future of our people, moana. and they are not out there. they are right here. it's time to be who they need you to be.\",\n",
       " 'nope! our ancestors believed maui lies there, at the bottom of his hook. follow it, and you will find him.',\n",
       " 'you must! the ocean chose you. follow the fish hook--',\n",
       " 'and when you find maui, you grab him by the ear, you say: i am moana of motunui. you will board my boat, sail across the sea, and restore the heart of te fiti.',\n",
       " \"there is nowhere you could go that i won't be with you. go!\",\n",
       " \"i am moana of motunui. you will board my boat, sail across the sea, and restore the heart of te fiti. i am moana…of motu--nui. heihei? it’s okay. it's alright. see? there we go. nice water. the ocean is a friend of mine. heihei? heihei! stay. okay, next stop, maui. i am moana of motunui. you will board my boat, sail across the sea, and restore of te fiti. i am moana of ... board my boat! oh no. no, no, no! uh, ocean? can i get a little help? no, no. please. come on! help me! please!\",\n",
       " 'maui! maui, demigod of the wind and sea, i am moana of motunui! you will board my boat--no, you will board my boat. yeah. i am moana of motunui. you will board…my…',\n",
       " \"you are not my hero! and i'm not here so you can sign my oar. i'm here 'cause you stole the heart of te fiti! and you will board my boat, and sail across the sea and put it back!\",\n",
       " \"um, yeah, it almost sounded like you don't like me, which is impossible because i got stuck here for a thousand years trying to get the heart as a gift for you mortals. so you could have the power to create live itself. yeah, so what i believe you were trying to say is thank you.\",\n",
       " 'i am moana of motunui. this is my canoe you will journey to--',\n",
       " 'yes. and you will restore the heart. ah!',\n",
       " \"if you wear a dress and you have an animal sidekick, you're a princess. you are not a wayfinder. you will never be a wayfinder, you will never be a--really? blow dart in my buttcheek? you are a bad person.\",\n",
       " 'i am moana of motunui. you will board my boat--',\n",
       " 'you could come with us, you know. my people are going to need a master wayfinder.',\n",
       " 'the outside world is a dangerous place, filled with horrible, selfish people. you must stay here, where you’re safe. do you understand, flower?',\n",
       " 'lanterns. i knew they weren’t stars. well, tomorrow evening they will light the night sky with these lanterns. you will act as my guide, take me to these lanterns, and return me home safely. then, and only then, will i return your satchel to you. that is my deal.',\n",
       " 'something brought you here, flynn rider. call it what you will: fate, destiny…',\n",
       " 'you can tear this tower apart brick by brick, but without my help, you will never find your precious satchel.',\n",
       " 'she’s growing it out. is that blood in your moustache? goldie, look at this. look at all the blood in his moustache. that, sir, that’s a lot of blood. hey, you don’t look so good, blondie. maybe we should get you a home. call it a day. probably be better off. this is a five star joint after all, and if you can’t handle this place, well, maybe you should be back in your tower.',\n",
       " 'you should know that this is the strangest thing i’ve ever done!',\n",
       " 'ha! you should see your faces because you look…  ridiculous.',\n",
       " 'well, best day of your life, i figured you should have a decent seat.',\n",
       " 'well, you could imagine what happened next.  the kingdom rejoiced, for the lost princess had now returned. the party lasted an entire week, and honestly i don’t remember much of it.',\n",
       " 'do what you must.',\n",
       " \"it's for the best. listen to me, elsa, your power will only grow. there is beauty in it.  but also great danger.  you must learn to control it. fear will be your enemy.\",\n",
       " 'no, you may not. and i...i think you should go. the party is over.  close the gates.',\n",
       " 'do you think you could show us the way?',\n",
       " \"it opened. that's a first.  oh, you should probably wait out here.\",\n",
       " \"no, no. it's okay. you don't have to apologize. but you should probably go, please.\",\n",
       " 'what? i just fell off a cliff! you should see your hair.',\n",
       " 'i knew you could do it.',\n",
       " 'terrific!  you should feel insignificant!',\n",
       " \"and all the time i've known you, you've been grumping and groaning. you should quit making waves.  go with the flow.\",\n",
       " 'darling, you must encourage the troops -- wave!',\n",
       " 'excuse me.  i seem to be lost, and i was wondering if you could give me --',\n",
       " \"who said you could have a chat  ? you're not a chatter, you're a digger!  so shut up and dig!\",\n",
       " 'now, worker, you shall take me back to the colony, and have your head cut off and stuck on a sharp pole!',\n",
       " 'and me, i guess you could say that i lived happily ever after.',\n",
       " 'brave knights. you are the best and brightest in all the land. today one of you shall prove himself...',\n",
       " \"no. oh, no, no! oh, what large teeth you have. i mean white, sparkling teeth. i know you probably hear this all time from your food, but you must bleach, 'cause that is one dazzling smile you got there. do i detect a hint of minty freshness? and you know what else? you're - - you're a girl dragon! oh, sure! i mean, of course you're a girl dragon. you're just reeking of feminine beauty.\",\n",
       " 'hey, wait. what are you doing? you should sweep me off my feet out yonder window and down a rope onto your valiant steed.',\n",
       " 'but we have to savor this moment! you could recite an epic poem for me. a ballad? a sonnet! a limerick? or something!',\n",
       " \"no, it's destiny. oh, you must know how it goes. a princess locked in a tower and beset by a dragon is rescued by a brave knight, and then they share true love's first kiss.\",\n",
       " 'good question. you should ask him that when we get there.',\n",
       " 'put me down, or you will suffer the consequences! this is not dignified! put me down!',\n",
       " \"well, maybe you shouldn't judge people before you get to know them.\",\n",
       " \"all right, all right. i won't tell him. but you should. i just know before this is over, i'm gonna need a whole lot of serious therapy. look at my eye twitchin'.\",\n",
       " \"mabel, remember how you couldn't get your little fat foot into that tiny glass slipper?\",\n",
       " 'shrek, maybe you should just stay and be king.',\n",
       " 'you should be ashamed of yourself.',\n",
       " 'yeah, and you should think about getting yourself a pair of pants! i feel all exposed and nasty.',\n",
       " 'and you should all care too.',\n",
       " '\"tis i! tis i! upon my regal steed! princess, my love, at last you shall be freed!\"',\n",
       " 'you will not ruin things this time ogre.\\n\\n kill it!',\n",
       " \"didn't you ever wish you could be something else?\",\n",
       " 'i see you like to chew! maybe you should chew on my fist!!',\n",
       " 'you are almost ready to be entrusted with the secret ingredient of my \"secret ingredient soup.\" and then you will fulfill your destiny and take over the restaurant, just as i took it over from my father, who took it over from his father, who won it from a friend in a game of mahjong.',\n",
       " 'wrong! you are not the dragon warrior. you will never be the dragon warrior until you have learned the secret of the dragon scroll.',\n",
       " 'oh, then you must know what happens when i flex my pinky.',\n",
       " \"i mean...you don't belong in the jade palace. you're a disgrace to kung fu, and if you have any respect for who we are and what we do, you will be gone by morning.\",\n",
       " 'and the five... man, you should have seen them, they totally hate me.',\n",
       " \"you actually thought you could learn to do a full split in one night? it takes years to develop one's flexibility and years longer to apply it in combat.\",\n",
       " 'maybe you should take a look at this again.',\n",
       " 'ah, yes. but no matter what you do, that seed will grow to be a peach tree. you may wish for an apple, or an orange... but you will get a peach.',\n",
       " 'no, you just need to believe. promise me, shifu. promise me you will believe.',\n",
       " 'good. my time has come. you must continue your journey without me.',\n",
       " 'you must believe.',\n",
       " \"you should try my dad's secret ingredient soup. he actually knows the secret ingredient.\",\n",
       " 'you will never be the dragon warrior, unless you lose five hundred pounds and brush your teeth!',\n",
       " 'work hard, panda. and maybe, someday... you will have ears like mine.',\n",
       " 'you will beat him because you are the dragon warrior!',\n",
       " \"so you could come back here and strike fear into our hearts. but it won't work!\",\n",
       " 'but you will have the one thing that no one else does.',\n",
       " \"no one knows, but legend says you will be able to hear a butterfly's wing-beat.\",\n",
       " 'yes. and see light in the deepest cave. you will feel the universe in motion around you.',\n",
       " \"no, evacuate the valley. you must protect the villagers from tai lung's rage.\",\n",
       " 'dragon warrior has taken scroll halfway across china by now. you will never see that scroll, tai lung. never. never...',\n",
       " 'but you will kill dragons.',\n",
       " 'behind these doors are just a few of the many species you will learn to fight.',\n",
       " 'your most important piece of equipment is your shield. if you must make a choice between a sword or a shield, take the shield.',\n",
       " \"so anyway i'm moving into my parents' basement. you should come by sometime to work out. you look like you work out--\",\n",
       " \"isn't it weird to think that your hand was inside a dragon. like if your mind was still in control of it you could have killed the dragon from the inside by crushing his heart or something.\",\n",
       " \"alright. i'm off to bed. you should be too. tomorrow we get into the big boys. slowly but surely making our way up to the monstrous nightmare. but who'll win the honor of killing it?\",\n",
       " 'just how long did you think you could hide it from me?',\n",
       " \"you must feel horrible. you've lost everything. your father, your tribe, your best friend.\",\n",
       " 'any chance you could give me the time. i don’t want to be late for the opening of the metro man museum.',\n",
       " 'oh, i’m shaking in my custom baby seal leather boots! you will leave metro city or this will be the last you ever hear of, roxanne ritchie! huh?',\n",
       " 'wait, roxy. i’m havin’ a party at my house, gonna be off the hook, or whatever. you should come over. i got a dj, rented a bouncy house, made a gallon of dip. it’s gonna be sick!',\n",
       " 'hal! hal’s the worst possible person you could pick!',\n",
       " 'you should be more like metro man.',\n",
       " 'you should stop comparing me to metro man.',\n",
       " 'yes! and you should look back right now.',\n",
       " \"don't look at me like that, old friend. you must have known this day would come. my nightmares are finally ready. are your guardians?\",\n",
       " 'if man in moon chose you to be a guardian, you must have something very special inside.',\n",
       " \"a neutral party. then i'm going to ignore you. but, you must be used to that by now.\",\n",
       " \"you should've seen them. they put up such a fight.\",\n",
       " \"you should've seen bunny.\",\n",
       " 'you will. i feel it, in my belly.',\n",
       " 'it was a dream. you should be happy you still get dreams like that and not...',\n",
       " 'you dare have fun in my presence! i am the boogeyman! and you will fear me!',\n",
       " 'okay. but it won\\'t be as good as grug\\'s. um, once upon a time, there was a beautiful tiger. she lived in a cave with the rest of her family. her father and mother told her, \"you may go anywhere you want but never go near the cliff, for you could fall.\"',\n",
       " \"ha! you should've thought of that before you stole all of our dragons and blasted our fort to bits!\",\n",
       " 'you will never hold on to those dragons, you hear me?! drago is coming for them all!',\n",
       " \"you should've seen their fort. all blown apart and stuck in giant spikes of ice. it was weird.\",\n",
       " \"it's okay though. he got me back. right, bud? you couldn't save all of me, could you? you just had to make it even. so... peg leg!\",\n",
       " 'you must be hungry.',\n",
       " 'well, what sign did i have that you could change, stoick? that anyone on berk could?']"
      ]
     },
     "execution_count": 13,
     "metadata": {},
     "output_type": "execute_result"
    }
   ],
   "source": [
    "commands"
   ]
  },
  {
   "cell_type": "code",
   "execution_count": 25,
   "metadata": {},
   "outputs": [
    {
     "data": {
      "text/plain": [
       "{'\"tis i! tis i! upon my regal steed! princess, my love, at last you shall be freed!\"',\n",
       " \"a neutral party. then i'm going to ignore you. but, you must be used to that by now.\",\n",
       " \"alright. i'm off to bed. you should be too. tomorrow we get into the big boys. slowly but surely making our way up to the monstrous nightmare. but who'll win the honor of killing it?\",\n",
       " \"come come come, you must be famished. let me help you my dear. there we go ah quite comfy? uh. it's it's not ofen that we have such a lovely dinner guest, eh eric? \",\n",
       " \"didn't you ever wish you could be something else?\",\n",
       " \"ha ha! praise allah! you brilliant boy, i could kiss you! i won'ti'll leave that to my. you two will be wed at once! yes, yes. and you'll be happy and prosperous, and then my boy, you will be sultan! \",\n",
       " \"i mean...you don't belong in the jade palace. you're a disgrace to kung fu, and if you have any respect for who we are and what we do, you will be gone by morning.\",\n",
       " 'it was a dream. you should be happy you still get dreams like that and not...',\n",
       " 'my daughter, kocoumwill make a fine husband. he is loyal and strong and will build you a good house with sturdy walls. with him you will be safe from harm. ',\n",
       " \"no one knows, but legend says you will be able to hear a butterfly's wing-beat.\",\n",
       " 'oh, you must be grumpy. ',\n",
       " 'oh, you must be hungry. here you go. ',\n",
       " 'pocahontas! you should be inside the village. ',\n",
       " 'she’s growing it out. is that blood in your moustache? goldie, look at this. look at all the blood in his moustache. that, sir, that’s a lot of blood. hey, you don’t look so good, blondie. maybe we should get you a home. call it a day. probably be better off. this is a five star joint after all, and if you can’t handle this place, well, maybe you should be back in your tower.',\n",
       " 'why, then you must be ',\n",
       " 'yes, and you must be ',\n",
       " \"you don't have time to be timid. you must be bold, daring. \",\n",
       " 'you must be hungry.',\n",
       " 'you must be quite fatigued your grace. may we offer you some tea? ',\n",
       " 'you should be ashamed of yourself.',\n",
       " 'you should be free to make your own choice. ',\n",
       " 'you should be more like metro man.',\n",
       " 'you will be so happy together. '}"
      ]
     },
     "execution_count": 25,
     "metadata": {},
     "output_type": "execute_result"
    }
   ],
   "source": [
    "set(commands) - set(commands_2)"
   ]
  },
  {
   "cell_type": "code",
   "execution_count": 31,
   "metadata": {},
   "outputs": [
    {
     "data": {
      "text/plain": [
       "{'\"tis i! tis i! upon my regal steed! princess, my love, at last you shall be freed!\"',\n",
       " \"alright. i'm off to bed. you should be too. tomorrow we get into the big boys. slowly but surely making our way up to the monstrous nightmare. but who'll win the honor of killing it?\",\n",
       " \"ha ha! praise allah! you brilliant boy, i could kiss you! i won'ti'll leave that to my. you two will be wed at once! yes, yes. and you'll be happy and prosperous, and then my boy, you will be sultan! \",\n",
       " \"i mean...you don't belong in the jade palace. you're a disgrace to kung fu, and if you have any respect for who we are and what we do, you will be gone by morning.\",\n",
       " 'it was a dream. you should be happy you still get dreams like that and not...',\n",
       " 'my daughter, kocoumwill make a fine husband. he is loyal and strong and will build you a good house with sturdy walls. with him you will be safe from harm. ',\n",
       " \"no one knows, but legend says you will be able to hear a butterfly's wing-beat.\",\n",
       " 'pocahontas! you should be inside the village. ',\n",
       " 'she’s growing it out. is that blood in your moustache? goldie, look at this. look at all the blood in his moustache. that, sir, that’s a lot of blood. hey, you don’t look so good, blondie. maybe we should get you a home. call it a day. probably be better off. this is a five star joint after all, and if you can’t handle this place, well, maybe you should be back in your tower.',\n",
       " 'you should be ashamed of yourself.',\n",
       " 'you should be free to make your own choice. ',\n",
       " 'you should be more like metro man.',\n",
       " 'you will be so happy together. '}"
      ]
     },
     "execution_count": 31,
     "metadata": {},
     "output_type": "execute_result"
    }
   ],
   "source": [
    "set(commands_3) - set(commands_2)"
   ]
  },
  {
   "cell_type": "code",
   "execution_count": 32,
   "metadata": {},
   "outputs": [
    {
     "data": {
      "text/plain": [
       "{\"a neutral party. then i'm going to ignore you. but, you must be used to that by now.\",\n",
       " \"come come come, you must be famished. let me help you my dear. there we go ah quite comfy? uh. it's it's not ofen that we have such a lovely dinner guest, eh eric? \",\n",
       " \"didn't you ever wish you could be something else?\",\n",
       " 'oh, you must be grumpy. ',\n",
       " 'oh, you must be hungry. here you go. ',\n",
       " 'why, then you must be ',\n",
       " 'yes, and you must be ',\n",
       " \"you don't have time to be timid. you must be bold, daring. \",\n",
       " 'you must be hungry.',\n",
       " 'you must be quite fatigued your grace. may we offer you some tea? '}"
      ]
     },
     "execution_count": 32,
     "metadata": {},
     "output_type": "execute_result"
    }
   ],
   "source": [
    "set(commands) - set(commands_3) #some \"must be\"'s missed"
   ]
  },
  {
   "cell_type": "code",
   "execution_count": null,
   "metadata": {},
   "outputs": [],
   "source": [
    "#let me\n",
    "#come\n",
    "#look\n",
    "#stop\n",
    "#don't\n",
    "#quiet\n",
    "#shut up\n"
   ]
  }
 ],
 "metadata": {
  "kernelspec": {
   "display_name": "Python 3",
   "language": "python",
   "name": "python3"
  },
  "language_info": {
   "codemirror_mode": {
    "name": "ipython",
    "version": 3
   },
   "file_extension": ".py",
   "mimetype": "text/x-python",
   "name": "python",
   "nbconvert_exporter": "python",
   "pygments_lexer": "ipython3",
   "version": "3.6.4"
  }
 },
 "nbformat": 4,
 "nbformat_minor": 2
}
