{
 "cells": [
  {
   "cell_type": "markdown",
   "metadata": {},
   "source": [
    "# Commands, Attempt 2!\n",
    "I'm going to try regular expressions this time!"
   ]
  },
  {
   "cell_type": "code",
   "execution_count": 2,
   "metadata": {},
   "outputs": [],
   "source": [
    "import pandas as pd"
   ]
  },
  {
   "cell_type": "code",
   "execution_count": 3,
   "metadata": {},
   "outputs": [],
   "source": [
    "import re"
   ]
  },
  {
   "cell_type": "code",
   "execution_count": 4,
   "metadata": {},
   "outputs": [],
   "source": [
    "movie_df = pd.read_pickle(r\"C:/Users/cassi/Desktop/Data_Science/Animated-Movie-Gendered-Dialogue/private/all_tagged_dialogue.pkl\")"
   ]
  },
  {
   "cell_type": "code",
   "execution_count": 5,
   "metadata": {},
   "outputs": [
    {
     "name": "stdout",
     "output_type": "stream",
     "text": [
      "<class 'pandas.core.frame.DataFrame'>\n",
      "Int64Index: 13442 entries, 0 to 14095\n",
      "Data columns (total 17 columns):\n",
      "Disney_Period       13442 non-null object\n",
      "Gender              13442 non-null object\n",
      "Movie               13442 non-null object\n",
      "Role                13442 non-null object\n",
      "Song                13442 non-null object\n",
      "Speaker             13442 non-null object\n",
      "Speaker_Status      13442 non-null object\n",
      "Text                13442 non-null object\n",
      "UTTERANCE_NUMBER    13442 non-null int64\n",
      "Year                13442 non-null int64\n",
      "Tokens              13442 non-null object\n",
      "Types               13442 non-null object\n",
      "Token_Count         13442 non-null int64\n",
      "Type_Count          13442 non-null int64\n",
      "POS                 13442 non-null object\n",
      "Tag_Freq            13442 non-null object\n",
      "Command_Count       13442 non-null int64\n",
      "dtypes: int64(5), object(12)\n",
      "memory usage: 1.2+ MB\n"
     ]
    }
   ],
   "source": [
    "movie_df.info()"
   ]
  },
  {
   "cell_type": "code",
   "execution_count": 6,
   "metadata": {},
   "outputs": [],
   "source": [
    "#should, shall, will should be in different regex\n",
    "\n",
    "commands_4 = []\n",
    "for line in movie_df.Text:\n",
    "    if re.search(r'you (must|could)(?! be )', line) or re.search(r'you (should|shall|will|have to)', line):\n",
    "        commands_4.append(line)"
   ]
  },
  {
   "cell_type": "code",
   "execution_count": 12,
   "metadata": {},
   "outputs": [
    {
     "data": {
      "text/plain": [
       "192"
      ]
     },
     "execution_count": 12,
     "metadata": {},
     "output_type": "execute_result"
    }
   ],
   "source": [
    "len(commands)"
   ]
  },
  {
   "cell_type": "code",
   "execution_count": 7,
   "metadata": {},
   "outputs": [
    {
     "data": {
      "text/plain": [
       "217"
      ]
     },
     "execution_count": 7,
     "metadata": {},
     "output_type": "execute_result"
    }
   ],
   "source": [
    "len(commands_4)"
   ]
  },
  {
   "cell_type": "code",
   "execution_count": 8,
   "metadata": {},
   "outputs": [
    {
     "name": "stdout",
     "output_type": "stream",
     "text": [
      "Pretty printing has been turned OFF\n"
     ]
    }
   ],
   "source": [
    "%pprint"
   ]
  },
  {
   "cell_type": "code",
   "execution_count": 9,
   "metadata": {},
   "outputs": [
    {
     "data": {
      "text/plain": [
       "['and there, my faithful huntsman, you will kill her ! ', \"you should talk. these beads! i'm sick of looking at them. trash! oh i hate them. oh i don't see why i can't have something new \", \"a dream is a wish your heart makes when you're fast asleep in dreams you will lose your heartaches whatever you wish for, you keep \", 'oh, now, now, now just a moment. you must understand my dear. on the stroke of twelve the spell will be broken and everything will be as it was before. ', \"you will stay right here. see they're not disturbed. and when the boy proposes notify me immediately. \", \"oh, oh no! no please! oh you can't. you just can't! let me out! you must let me out! you can't keep me in here! oh please! \", \"sweet princess, if through this wicked witches trick a spindle should your finger prick, a ray of hope there still may be in this, the gift i give at thee. not in death but just in sleep the fateful prophecy you'll keep, and from this slumber you shall wake when true love's kiss the spell shall break. \", \"i'm sorry, child, but you must never see that man again. \", \"you poor simple fools. thinking you could defeat me, me, the mistress of all evil. well, here's your precious princess. \", \"maybe you could make a little planter out of it or somethin'. \", \"oh, ariel, how many times must we go through this? you could've been seen by one of those barbarians by by one of those humans! \", \"ah, grimsby y'old beanpole, you shouldn't have. \", \". . . and don't you shake your head at me, lady. maybe there's still time. if we could get that witch to give you back your voice, you could go home with all the normal fish, and just be . . . just be . . . just be miserable for the rest of your life. all right, all right. i'll try to help you find that prince. boy. what a softshell i'm turning out to be. \", \"whoa, whoa, careful careful easy. gee, you must have really been through something. don't worry, i'll help you. come on . . . come on, you'll be okay. fade to ariel in bath playing with bubbles. \", 'well you must have at least heard about this girl. ', 'oooohhh! allah forbid you should have any daughters! ', 'if you could just', 'remember, boyfirst fetch me the lamp, and then you shall have your reward. ', 'you have touched the forbidden treasure. ', 'now you will never again see the light of day! ', 'you will order the princess to marry me. ', 'what? what is that? that music! ha ha ha. jafar., you must come and see this! ', 'you should be free to make your own choice. ', 'al? al! kid, snap out of it! you can\\'t cheat on this one! i can\\'t help you unless you make a wish. you have to say \"genie i want you to save my life.\" got it? okay. c\\'mon aladdin!! ', 'you should be, jasmine. i have chosen a husband for you. ', 'you will wed jafar. ', \"ha ha! praise allah! you brilliant boy, i could kiss you! i won'ti'll leave that to my. you two will be wed at once! yes, yes. and you'll be happy and prosperous, and then my boy, you will be sultan! \", \"there's a new order nowmy order! finally, you will bow to me! \", 'if you will not bow before a sultan, then you will cower before a sorcerer! ', \"don't talk back to me, you stupid blue lout! you will do what i order you to do, slave! \", 'you little fool! you thought you could defeat the most powerful being on earth! ', \"yes, you will. and you'll win first prize at the fair tomorrow \", \"phillipe! what are you doing here? where's papa? where is he, phillipe? what happened? oh, we have to find him, you have to take me to him! \", 'no time to explain. you must go...now! ', 'yes, but you must promise to stay here forever. ', 'you will? oh thank you, thank you! ', 'oh, but you must! ', 'oh, you must help her to see past all that. ', 'you must control your temper! ', \"perhaps you could take me. i'm sure you know everything there is to know about the castle. \", 'do you realize what you could have done? ', \"well you shouldn't have been in the west wing! \", 'well you should learn to control your temper! ', 'well then you must tell her. ', 'then...then you must go to him. ', 'you should ask your father about it. ', 'my daughter, kocoumwill make a fine husband. he is loyal and strong and will build you a good house with sturdy walls. with him you will be safe from harm. ', 'well then, perhaps you should venture forth and determine their whereabouts, hmm? ', 'you will. ', 'pocahontas! you should be inside the village. ', \"you shouldn't be out here alone. i'll send for kocoum. \", 'you could belong here. ', 'then you should talk back. ', \"not aiming like that, you couldn't. keep both eyes open when you shoot. you'll see twice as well. \", \"excellent. then you must know the indians' whereabouts. we'll need that information for the battle. \", \"maybe it's not too late to stop this. you have to come with me and talk to my father. \", 'you have to stop them. ', 'you must choose your own path. ', 'no, you have to go back. ', \"mulan. you should already be in town. we're counting on you to ... \", 'this way. now, pour the tea. to please your future inlaws, you must demonstrate a sense of dignity ', 'and refinement. you must also be poised. ', 'you are a disgrace! you may look like a bride, but you will never bring your family honor! ', \"silence! you will do well to teach your daughter to hold her tongue in a man's presence. \", \"you shouldn't have to go! \", 'you must go after her. she could be killed. ', \"you will stay and train the new recruits. when chi fu believes you're ready, you will join us ... captain. \", 'soldiers! you will assemble swiftly and silently, every morning. anyone who does otherwise, will answer to me. ', 'shang, i saw them in the mountains! you have to believe me! ', 'please, you have to help! ', 'then you will kneel ... in pieces! ', \"yeah, c'mon, tiana, you could use a little hand. it's mardi gras. \", 'yes, yes, yes... my mother had the servants read this to me every night. yes, yes...this is exactly the answer! you ...you must kiss me! ', \"you will enjoy it, i guarantee. all women enjoy the kiss... of prince naveen. come, we pucker. that's new. \", 'oh, but you must kiss me. look, besides being unbelievably handsome, i also happened to come from a fabulously wealthy family. surely, i can offer you some type of reward or a wish i could grant perhaps... yes? ', 'you will be so happy together. ', 'you coulda have a cute, little tadpoles. ', 'i did! you have had quite an influence on me. which is amazing because i have dated thousands of women and... no, like two, three... just other women! aand anyway, you could not be more different! you know, you are you are practically, one of the guys! no no no! you are not a guy! let me begin again! uh... ha... i am not myself tonight. tiana! sorry, that was loud. this is a disaster. ', 'it should be elegant. prince naveen you should keep it loose, let it swing ', \"y'all should've taken my deal. now you will spend the rest of your life bein' a slimy little frog! \", 'yeah, more or less. but remember, you must give tiana all the money she requires for her restaurant. because tiana ... she is my evangeline. ', 'but are you willing to pay the price your freedom will cost? ', 'if you could just try to see what i do, i do out of love. ', \"i think you'd see, if you could just. . . \", 'my lords, i am out of sorts at the moment. but you shall have your answer. . . ', \"oh, yes! but first, you must learn where you're meant to be.\", \"come on. there's something i need to show you. i've wanted to bring you here from the moment you opened your eyes. this is a sacred place, a place of chiefs. there will come a time when you will stand on this peak and place a stone on this mountain. like i did. like my father did. and his father, and every chief that has even been. and on that day, when you add your stone, you will raise this whole island higher. you are the future of our people, moana. and they are not out there. they are right here. it's time to be who they need you to be.\", 'nope! our ancestors believed maui lies there, at the bottom of his hook. follow it, and you will find him.', 'you must! the ocean chose you. follow the fish hook--', 'and when you find maui, you grab him by the ear, you say: i am moana of motunui. you will board my boat, sail across the sea, and restore the heart of te fiti.', \"there is nowhere you could go that i won't be with you. go!\", \"i am moana of motunui. you will board my boat, sail across the sea, and restore the heart of te fiti. i am moana…of motu--nui. heihei? it’s okay. it's alright. see? there we go. nice water. the ocean is a friend of mine. heihei? heihei! stay. okay, next stop, maui. i am moana of motunui. you will board my boat, sail across the sea, and restore of te fiti. i am moana of ... board my boat! oh no. no, no, no! uh, ocean? can i get a little help? no, no. please. come on! help me! please!\", 'maui! maui, demigod of the wind and sea, i am moana of motunui! you will board my boat--no, you will board my boat. yeah. i am moana of motunui. you will board…my…', \"you are not my hero! and i'm not here so you can sign my oar. i'm here 'cause you stole the heart of te fiti! and you will board my boat, and sail across the sea and put it back!\", \"um, yeah, it almost sounded like you don't like me, which is impossible because i got stuck here for a thousand years trying to get the heart as a gift for you mortals. so you could have the power to create live itself. yeah, so what i believe you were trying to say is thank you.\", 'no! stop! hey! you have to put back the heart!', 'i am moana of motunui. this is my canoe you will journey to--', 'yes. and you will restore the heart. ah!', \"if you wear a dress and you have an animal sidekick, you're a princess. you are not a wayfinder. you will never be a wayfinder, you will never be a--really? blow dart in my buttcheek? you are a bad person.\", 'maui, you have to restore the heart.', 'i am moana of motunui. you will board my boat--', \"why did you bring me here? i'm not the right person. you have to choose someone else. choose someone else. please. no.\", 'you could come with us, you know. my people are going to need a master wayfinder.', 'the outside world is a dangerous place, filled with horrible, selfish people. you must stay here, where you’re safe. do you understand, flower?', 'lanterns. i knew they weren’t stars. well, tomorrow evening they will light the night sky with these lanterns. you will act as my guide, take me to these lanterns, and return me home safely. then, and only then, will i return your satchel to you. that is my deal.', 'something brought you here, flynn rider. call it what you will: fate, destiny…', 'you can tear this tower apart brick by brick, but without my help, you will never find your precious satchel.', 'she’s growing it out. is that blood in your moustache? goldie, look at this. look at all the blood in his moustache. that, sir, that’s a lot of blood. hey, you don’t look so good, blondie. maybe we should get you a home. call it a day. probably be better off. this is a five star joint after all, and if you can’t handle this place, well, maybe you should be back in your tower.', 'where’s rider? where is he? i know he’s in here somewhere. find him, turn the place upside down if you have to!', 'you should know that this is the strangest thing i’ve ever done!', 'ha! you should see your faces because you look…  ridiculous.', 'well, best day of your life, i figured you should have a decent seat.', 'i promise you. you have to trust me–', 'well, you could imagine what happened next.  the kingdom rejoiced, for the lost princess had now returned. the party lasted an entire week, and honestly i don’t remember much of it.', 'do what you must.', \"it's for the best. listen to me, elsa, your power will only grow. there is beauty in it.  but also great danger.  you must learn to control it. fear will be your enemy.\", 'do you have to go?', 'no. whatever you have to say, you...you can say to both of us.', 'no, you may not. and i...i think you should go. the party is over.  close the gates.', \"look! it's snowing! it's snowing! the queen has cursed this land! she must be stopped! you have to go after her.\", 'do you think you could show us the way?', \"it opened. that's a first.  oh, you should probably wait out here.\", \"no, no. it's okay. you don't have to apologize. but you should probably go, please.\", \"who's this? wait, it doesn't matter. just...you have to go.\", 'how? what power do you have to stop this winter? to stop me?', 'what? i just fell off a cliff! you should see your hair.', \"don't you see, i can't. you have to tell them to let me go.\", 'hans, you have to kiss me.', 'i knew you could do it.', \"you have to! no returns. no exchanges. queen's orders. she's named you the official arendelle ice master and deliverer.\", 'terrific!  you should feel insignificant!', \"and all the time i've known you, you've been grumping and groaning. you should quit making waves.  go with the flow.\", \"you have to help me.  please, weaver. think of all the things i've done for you!\", 'darling, you must encourage the troops -- wave!', 'excuse me.  i seem to be lost, and i was wondering if you could give me --', \"who said you could have a chat  ? you're not a chatter, you're a digger!  so shut up and dig!\", 'now, worker, you shall take me back to the colony, and have your head cut off and stuck on a sharp pole!', 'darling, do you have to talk to any insect from off the street?', 'and me, i guess you could say that i lived happily ever after.', \"what i mean is you're not a king yet. but you can become one. all you have to do is marry a princess.\", 'brave knights. you are the best and brightest in all the land. today one of you shall prove himself...', \"no. oh, no, no! oh, what large teeth you have. i mean white, sparkling teeth. i know you probably hear this all time from your food, but you must bleach, 'cause that is one dazzling smile you got there. do i detect a hint of minty freshness? and you know what else? you're - - you're a girl dragon! oh, sure! i mean, of course you're a girl dragon. you're just reeking of feminine beauty.\", 'hey, wait. what are you doing? you should sweep me off my feet out yonder window and down a rope onto your valiant steed.', 'but we have to savor this moment! you could recite an epic poem for me. a ballad? a sonnet! a limerick? or something!', \"no, it's destiny. oh, you must know how it goes. a princess locked in a tower and beset by a dragon is rescued by a brave knight, and then they share true love's first kiss.\", 'good question. you should ask him that when we get there.', 'put me down, or you will suffer the consequences! this is not dignified! put me down!', \"well, maybe you shouldn't judge people before you get to know them.\", \"all right, all right. i won't tell him. but you should. i just know before this is over, i'm gonna need a whole lot of serious therapy. look at my eye twitchin'.\", \"mabel, remember how you couldn't get your little fat foot into that tiny glass slipper?\", 'shrek, maybe you should just stay and be king.', 'you should be ashamed of yourself.', 'it really is all fun and games, actually. sure, you have to knight a few heroes, launch a ship or two. by the way, make sure you hit the boat just right with the bottle.', 'yeah, and you should think about getting yourself a pair of pants! i feel all exposed and nasty.', 'and you should all care too.', '\"tis i! tis i! upon my regal steed! princess, my love, at last you shall be freed!\"', 'you will not ruin things this time ogre.\\n\\n kill it!', 'i see you like to chew! maybe you should chew on my fist!!', 'you are almost ready to be entrusted with the secret ingredient of my \"secret ingredient soup.\" and then you will fulfill your destiny and take over the restaurant, just as i took it over from my father, who took it over from his father, who won it from a friend in a game of mahjong.', 'wrong! you are not the dragon warrior. you will never be the dragon warrior until you have learned the secret of the dragon scroll.', 'oh, then you must know what happens when i flex my pinky.', \"i mean...you don't belong in the jade palace. you're a disgrace to kung fu, and if you have any respect for who we are and what we do, you will be gone by morning.\", 'and the five... man, you should have seen them, they totally hate me.', \"you actually thought you could learn to do a full split in one night? it takes years to develop one's flexibility and years longer to apply it in combat.\", 'maybe you should take a look at this again.', 'ah, yes. but no matter what you do, that seed will grow to be a peach tree. you may wish for an apple, or an orange... but you will get a peach.', 'no, you just need to believe. promise me, shifu. promise me you will believe.', 'good. my time has come. you must continue your journey without me.', 'you must believe.', \"you should try my dad's secret ingredient soup. he actually knows the secret ingredient.\", 'you will never be the dragon warrior, unless you lose five hundred pounds and brush your teeth!', 'work hard, panda. and maybe, someday... you will have ears like mine.', 'you will beat him because you are the dragon warrior!', \"so you could come back here and strike fear into our hearts. but it won't work!\", 'but you will have the one thing that no one else does.', \"no one knows, but legend says you will be able to hear a butterfly's wing-beat.\", 'yes. and see light in the deepest cave. you will feel the universe in motion around you.', \"no, evacuate the valley. you must protect the villagers from tai lung's rage.\", 'dragon warrior has taken scroll halfway across china by now. you will never see that scroll, tai lung. never. never...', 'but you will kill dragons.', 'behind these doors are just a few of the many species you will learn to fight.', 'your most important piece of equipment is your shield. if you must make a choice between a sword or a shield, take the shield.', \"so anyway i'm moving into my parents' basement. you should come by sometime to work out. you look like you work out--\", \"she's right, you have to be tough on yourselves.\", \"isn't it weird to think that your hand was inside a dragon. like if your mind was still in control of it you could have killed the dragon from the inside by crushing his heart or something.\", \"alright. i'm off to bed. you should be too. tomorrow we get into the big boys. slowly but surely making our way up to the monstrous nightmare. but who'll win the honor of killing it?\", 'just how long did you think you could hide it from me?', 'you have to give me a chance to explain.', \"i'm not listening to anything you have to say!\", \"you must feel horrible. you've lost everything. your father, your tribe, your best friend.\", 'any chance you could give me the time. i don’t want to be late for the opening of the metro man museum.', 'oh, i’m shaking in my custom baby seal leather boots! you will leave metro city or this will be the last you ever hear of, roxanne ritchie! huh?', 'wait, roxy. i’m havin’ a party at my house, gonna be off the hook, or whatever. you should come over. i got a dj, rented a bouncy house, made a gallon of dip. it’s gonna be sick!', 'hal! hal’s the worst possible person you could pick!', 'you should be more like metro man.', 'you should stop comparing me to metro man.', 'warden! warden! listen to me, you have to let me go. titan has to be stopped!', 'yes! and you should look back right now.', \"don't look at me like that, old friend. you must have known this day would come. my nightmares are finally ready. are your guardians?\", 'if man in moon chose you to be a guardian, you must have something very special inside.', \"you should've seen them. they put up such a fight.\", \"you should've seen bunny.\", \"all these years, and the answers were right here. if i find my memories, then i'll know why i'm here. you have to show me.\", 'you will. i feel it, in my belly.', 'it was a dream. you should be happy you still get dreams like that and not...', 'you have to believe in me.', \"if it wasn't a dream and if you are real, then you have to prove it. like right now.\", 'you dare have fun in my presence! i am the boogeyman! and you will fear me!', 'okay. but it won\\'t be as good as grug\\'s. um, once upon a time, there was a beautiful tiger. she lived in a cave with the rest of her family. her father and mother told her, \"you may go anywhere you want but never go near the cliff, for you could fall.\"', 'you have to stop worrying for all of us.', 'ugga, everyone, you have to listen to me.', 'please grug. you have to stop struggling.', \"ha! you should've thought of that before you stole all of our dragons and blasted our fort to bits!\", 'you will never hold on to those dragons, you hear me?! drago is coming for them all!', \"you should've seen their fort. all blown apart and stuck in giant spikes of ice. it was weird.\", \"it's okay though. he got me back. right, bud? you couldn't save all of me, could you? you just had to make it even. so... peg leg!\", 'well, what sign did i have that you could change, stoick? that anyone on berk could?']"
      ]
     },
     "execution_count": 9,
     "metadata": {},
     "output_type": "execute_result"
    }
   ],
   "source": [
    "commands_4"
   ]
  },
  {
   "cell_type": "code",
   "execution_count": 24,
   "metadata": {},
   "outputs": [
    {
     "data": {
      "text/plain": [
       "169"
      ]
     },
     "execution_count": 24,
     "metadata": {},
     "output_type": "execute_result"
    }
   ],
   "source": [
    "len(commands_2)"
   ]
  },
  {
   "cell_type": "code",
   "execution_count": 30,
   "metadata": {},
   "outputs": [
    {
     "data": {
      "text/plain": [
       "182"
      ]
     },
     "execution_count": 30,
     "metadata": {},
     "output_type": "execute_result"
    }
   ],
   "source": [
    "len(commands_3)"
   ]
  },
  {
   "cell_type": "code",
   "execution_count": 13,
   "metadata": {},
   "outputs": [
    {
     "data": {
      "text/plain": [
       "['and there, my faithful huntsman, you will kill her ! ',\n",
       " 'yes, and you must be ',\n",
       " 'oh, you must be grumpy. ',\n",
       " \"you should talk. these beads! i'm sick of looking at them. trash! oh i hate them. oh i don't see why i can't have something new \",\n",
       " \"a dream is a wish your heart makes when you're fast asleep in dreams you will lose your heartaches whatever you wish for, you keep \",\n",
       " 'why, then you must be ',\n",
       " 'oh, now, now, now just a moment. you must understand my dear. on the stroke of twelve the spell will be broken and everything will be as it was before. ',\n",
       " \"you will stay right here. see they're not disturbed. and when the boy proposes notify me immediately. \",\n",
       " \"oh, oh no! no please! oh you can't. you just can't! let me out! you must let me out! you can't keep me in here! oh please! \",\n",
       " 'you must be quite fatigued your grace. may we offer you some tea? ',\n",
       " \"sweet princess, if through this wicked witches trick a spindle should your finger prick, a ray of hope there still may be in this, the gift i give at thee. not in death but just in sleep the fateful prophecy you'll keep, and from this slumber you shall wake when true love's kiss the spell shall break. \",\n",
       " \"i'm sorry, child, but you must never see that man again. \",\n",
       " \"you poor simple fools. thinking you could defeat me, me, the mistress of all evil. well, here's your precious princess. \",\n",
       " \"maybe you could make a little planter out of it or somethin'. \",\n",
       " \"oh, ariel, how many times must we go through this? you could've been seen by one of those barbarians by by one of those humans! \",\n",
       " \"ah, grimsby y'old beanpole, you shouldn't have. \",\n",
       " \". . . and don't you shake your head at me, lady. maybe there's still time. if we could get that witch to give you back your voice, you could go home with all the normal fish, and just be . . . just be . . . just be miserable for the rest of your life. all right, all right. i'll try to help you find that prince. boy. what a softshell i'm turning out to be. \",\n",
       " \"whoa, whoa, careful careful easy. gee, you must have really been through something. don't worry, i'll help you. come on . . . come on, you'll be okay. fade to ariel in bath playing with bubbles. \",\n",
       " 'well you must have at least heard about this girl. ',\n",
       " \"come come come, you must be famished. let me help you my dear. there we go ah quite comfy? uh. it's it's not ofen that we have such a lovely dinner guest, eh eric? \",\n",
       " 'oooohhh! allah forbid you should have any daughters! ',\n",
       " 'oh, you must be hungry. here you go. ',\n",
       " 'if you could just',\n",
       " 'remember, boyfirst fetch me the lamp, and then you shall have your reward. ',\n",
       " 'now you will never again see the light of day! ',\n",
       " 'you will order the princess to marry me. ',\n",
       " 'what? what is that? that music! ha ha ha. jafar., you must come and see this! ',\n",
       " 'you should be free to make your own choice. ',\n",
       " 'you should be, jasmine. i have chosen a husband for you. ',\n",
       " 'you will wed jafar. ',\n",
       " \"ha ha! praise allah! you brilliant boy, i could kiss you! i won'ti'll leave that to my. you two will be wed at once! yes, yes. and you'll be happy and prosperous, and then my boy, you will be sultan! \",\n",
       " \"there's a new order nowmy order! finally, you will bow to me! \",\n",
       " 'if you will not bow before a sultan, then you will cower before a sorcerer! ',\n",
       " \"don't talk back to me, you stupid blue lout! you will do what i order you to do, slave! \",\n",
       " 'you little fool! you thought you could defeat the most powerful being on earth! ',\n",
       " \"yes, you will. and you'll win first prize at the fair tomorrow \",\n",
       " 'no time to explain. you must go...now! ',\n",
       " 'yes, but you must promise to stay here forever. ',\n",
       " 'you will? oh thank you, thank you! ',\n",
       " 'oh, but you must! ',\n",
       " 'oh, you must help her to see past all that. ',\n",
       " 'you must control your temper! ',\n",
       " \"perhaps you could take me. i'm sure you know everything there is to know about the castle. \",\n",
       " 'do you realize what you could have done? ',\n",
       " \"well you shouldn't have been in the west wing! \",\n",
       " 'well you should learn to control your temper! ',\n",
       " \"you don't have time to be timid. you must be bold, daring. \",\n",
       " 'well then you must tell her. ',\n",
       " 'then...then you must go to him. ',\n",
       " 'you should ask your father about it. ',\n",
       " 'my daughter, kocoumwill make a fine husband. he is loyal and strong and will build you a good house with sturdy walls. with him you will be safe from harm. ',\n",
       " 'well then, perhaps you should venture forth and determine their whereabouts, hmm? ',\n",
       " 'you will. ',\n",
       " 'pocahontas! you should be inside the village. ',\n",
       " \"you shouldn't be out here alone. i'll send for kocoum. \",\n",
       " 'you could belong here. ',\n",
       " 'then you should talk back. ',\n",
       " \"not aiming like that, you couldn't. keep both eyes open when you shoot. you'll see twice as well. \",\n",
       " \"excellent. then you must know the indians' whereabouts. we'll need that information for the battle. \",\n",
       " 'you must choose your own path. ',\n",
       " \"mulan. you should already be in town. we're counting on you to ... \",\n",
       " 'this way. now, pour the tea. to please your future inlaws, you must demonstrate a sense of dignity ',\n",
       " 'and refinement. you must also be poised. ',\n",
       " 'you are a disgrace! you may look like a bride, but you will never bring your family honor! ',\n",
       " \"silence! you will do well to teach your daughter to hold her tongue in a man's presence. \",\n",
       " \"you shouldn't have to go! \",\n",
       " 'you must go after her. she could be killed. ',\n",
       " \"you will stay and train the new recruits. when chi fu believes you're ready, you will join us ... captain. \",\n",
       " 'soldiers! you will assemble swiftly and silently, every morning. anyone who does otherwise, will answer to me. ',\n",
       " 'then you will kneel ... in pieces! ',\n",
       " \"yeah, c'mon, tiana, you could use a little hand. it's mardi gras. \",\n",
       " 'yes, yes, yes... my mother had the servants read this to me every night. yes, yes...this is exactly the answer! you ...you must kiss me! ',\n",
       " \"you will enjoy it, i guarantee. all women enjoy the kiss... of prince naveen. come, we pucker. that's new. \",\n",
       " 'oh, but you must kiss me. look, besides being unbelievably handsome, i also happened to come from a fabulously wealthy family. surely, i can offer you some type of reward or a wish i could grant perhaps... yes? ',\n",
       " 'you will be so happy together. ',\n",
       " 'you coulda have a cute, little tadpoles. ',\n",
       " 'i did! you have had quite an influence on me. which is amazing because i have dated thousands of women and... no, like two, three... just other women! aand anyway, you could not be more different! you know, you are you are practically, one of the guys! no no no! you are not a guy! let me begin again! uh... ha... i am not myself tonight. tiana! sorry, that was loud. this is a disaster. ',\n",
       " 'it should be elegant. prince naveen you should keep it loose, let it swing ',\n",
       " \"y'all should've taken my deal. now you will spend the rest of your life bein' a slimy little frog! \",\n",
       " 'yeah, more or less. but remember, you must give tiana all the money she requires for her restaurant. because tiana ... she is my evangeline. ',\n",
       " 'but are you willing to pay the price your freedom will cost? ',\n",
       " 'if you could just try to see what i do, i do out of love. ',\n",
       " \"i think you'd see, if you could just. . . \",\n",
       " 'my lords, i am out of sorts at the moment. but you shall have your answer. . . ',\n",
       " \"oh, yes! but first, you must learn where you're meant to be.\",\n",
       " \"come on. there's something i need to show you. i've wanted to bring you here from the moment you opened your eyes. this is a sacred place, a place of chiefs. there will come a time when you will stand on this peak and place a stone on this mountain. like i did. like my father did. and his father, and every chief that has even been. and on that day, when you add your stone, you will raise this whole island higher. you are the future of our people, moana. and they are not out there. they are right here. it's time to be who they need you to be.\",\n",
       " 'nope! our ancestors believed maui lies there, at the bottom of his hook. follow it, and you will find him.',\n",
       " 'you must! the ocean chose you. follow the fish hook--',\n",
       " 'and when you find maui, you grab him by the ear, you say: i am moana of motunui. you will board my boat, sail across the sea, and restore the heart of te fiti.',\n",
       " \"there is nowhere you could go that i won't be with you. go!\",\n",
       " \"i am moana of motunui. you will board my boat, sail across the sea, and restore the heart of te fiti. i am moana…of motu--nui. heihei? it’s okay. it's alright. see? there we go. nice water. the ocean is a friend of mine. heihei? heihei! stay. okay, next stop, maui. i am moana of motunui. you will board my boat, sail across the sea, and restore of te fiti. i am moana of ... board my boat! oh no. no, no, no! uh, ocean? can i get a little help? no, no. please. come on! help me! please!\",\n",
       " 'maui! maui, demigod of the wind and sea, i am moana of motunui! you will board my boat--no, you will board my boat. yeah. i am moana of motunui. you will board…my…',\n",
       " \"you are not my hero! and i'm not here so you can sign my oar. i'm here 'cause you stole the heart of te fiti! and you will board my boat, and sail across the sea and put it back!\",\n",
       " \"um, yeah, it almost sounded like you don't like me, which is impossible because i got stuck here for a thousand years trying to get the heart as a gift for you mortals. so you could have the power to create live itself. yeah, so what i believe you were trying to say is thank you.\",\n",
       " 'i am moana of motunui. this is my canoe you will journey to--',\n",
       " 'yes. and you will restore the heart. ah!',\n",
       " \"if you wear a dress and you have an animal sidekick, you're a princess. you are not a wayfinder. you will never be a wayfinder, you will never be a--really? blow dart in my buttcheek? you are a bad person.\",\n",
       " 'i am moana of motunui. you will board my boat--',\n",
       " 'you could come with us, you know. my people are going to need a master wayfinder.',\n",
       " 'the outside world is a dangerous place, filled with horrible, selfish people. you must stay here, where you’re safe. do you understand, flower?',\n",
       " 'lanterns. i knew they weren’t stars. well, tomorrow evening they will light the night sky with these lanterns. you will act as my guide, take me to these lanterns, and return me home safely. then, and only then, will i return your satchel to you. that is my deal.',\n",
       " 'something brought you here, flynn rider. call it what you will: fate, destiny…',\n",
       " 'you can tear this tower apart brick by brick, but without my help, you will never find your precious satchel.',\n",
       " 'she’s growing it out. is that blood in your moustache? goldie, look at this. look at all the blood in his moustache. that, sir, that’s a lot of blood. hey, you don’t look so good, blondie. maybe we should get you a home. call it a day. probably be better off. this is a five star joint after all, and if you can’t handle this place, well, maybe you should be back in your tower.',\n",
       " 'you should know that this is the strangest thing i’ve ever done!',\n",
       " 'ha! you should see your faces because you look…  ridiculous.',\n",
       " 'well, best day of your life, i figured you should have a decent seat.',\n",
       " 'well, you could imagine what happened next.  the kingdom rejoiced, for the lost princess had now returned. the party lasted an entire week, and honestly i don’t remember much of it.',\n",
       " 'do what you must.',\n",
       " \"it's for the best. listen to me, elsa, your power will only grow. there is beauty in it.  but also great danger.  you must learn to control it. fear will be your enemy.\",\n",
       " 'no, you may not. and i...i think you should go. the party is over.  close the gates.',\n",
       " 'do you think you could show us the way?',\n",
       " \"it opened. that's a first.  oh, you should probably wait out here.\",\n",
       " \"no, no. it's okay. you don't have to apologize. but you should probably go, please.\",\n",
       " 'what? i just fell off a cliff! you should see your hair.',\n",
       " 'i knew you could do it.',\n",
       " 'terrific!  you should feel insignificant!',\n",
       " \"and all the time i've known you, you've been grumping and groaning. you should quit making waves.  go with the flow.\",\n",
       " 'darling, you must encourage the troops -- wave!',\n",
       " 'excuse me.  i seem to be lost, and i was wondering if you could give me --',\n",
       " \"who said you could have a chat  ? you're not a chatter, you're a digger!  so shut up and dig!\",\n",
       " 'now, worker, you shall take me back to the colony, and have your head cut off and stuck on a sharp pole!',\n",
       " 'and me, i guess you could say that i lived happily ever after.',\n",
       " 'brave knights. you are the best and brightest in all the land. today one of you shall prove himself...',\n",
       " \"no. oh, no, no! oh, what large teeth you have. i mean white, sparkling teeth. i know you probably hear this all time from your food, but you must bleach, 'cause that is one dazzling smile you got there. do i detect a hint of minty freshness? and you know what else? you're - - you're a girl dragon! oh, sure! i mean, of course you're a girl dragon. you're just reeking of feminine beauty.\",\n",
       " 'hey, wait. what are you doing? you should sweep me off my feet out yonder window and down a rope onto your valiant steed.',\n",
       " 'but we have to savor this moment! you could recite an epic poem for me. a ballad? a sonnet! a limerick? or something!',\n",
       " \"no, it's destiny. oh, you must know how it goes. a princess locked in a tower and beset by a dragon is rescued by a brave knight, and then they share true love's first kiss.\",\n",
       " 'good question. you should ask him that when we get there.',\n",
       " 'put me down, or you will suffer the consequences! this is not dignified! put me down!',\n",
       " \"well, maybe you shouldn't judge people before you get to know them.\",\n",
       " \"all right, all right. i won't tell him. but you should. i just know before this is over, i'm gonna need a whole lot of serious therapy. look at my eye twitchin'.\",\n",
       " \"mabel, remember how you couldn't get your little fat foot into that tiny glass slipper?\",\n",
       " 'shrek, maybe you should just stay and be king.',\n",
       " 'you should be ashamed of yourself.',\n",
       " 'yeah, and you should think about getting yourself a pair of pants! i feel all exposed and nasty.',\n",
       " 'and you should all care too.',\n",
       " '\"tis i! tis i! upon my regal steed! princess, my love, at last you shall be freed!\"',\n",
       " 'you will not ruin things this time ogre.\\n\\n kill it!',\n",
       " \"didn't you ever wish you could be something else?\",\n",
       " 'i see you like to chew! maybe you should chew on my fist!!',\n",
       " 'you are almost ready to be entrusted with the secret ingredient of my \"secret ingredient soup.\" and then you will fulfill your destiny and take over the restaurant, just as i took it over from my father, who took it over from his father, who won it from a friend in a game of mahjong.',\n",
       " 'wrong! you are not the dragon warrior. you will never be the dragon warrior until you have learned the secret of the dragon scroll.',\n",
       " 'oh, then you must know what happens when i flex my pinky.',\n",
       " \"i mean...you don't belong in the jade palace. you're a disgrace to kung fu, and if you have any respect for who we are and what we do, you will be gone by morning.\",\n",
       " 'and the five... man, you should have seen them, they totally hate me.',\n",
       " \"you actually thought you could learn to do a full split in one night? it takes years to develop one's flexibility and years longer to apply it in combat.\",\n",
       " 'maybe you should take a look at this again.',\n",
       " 'ah, yes. but no matter what you do, that seed will grow to be a peach tree. you may wish for an apple, or an orange... but you will get a peach.',\n",
       " 'no, you just need to believe. promise me, shifu. promise me you will believe.',\n",
       " 'good. my time has come. you must continue your journey without me.',\n",
       " 'you must believe.',\n",
       " \"you should try my dad's secret ingredient soup. he actually knows the secret ingredient.\",\n",
       " 'you will never be the dragon warrior, unless you lose five hundred pounds and brush your teeth!',\n",
       " 'work hard, panda. and maybe, someday... you will have ears like mine.',\n",
       " 'you will beat him because you are the dragon warrior!',\n",
       " \"so you could come back here and strike fear into our hearts. but it won't work!\",\n",
       " 'but you will have the one thing that no one else does.',\n",
       " \"no one knows, but legend says you will be able to hear a butterfly's wing-beat.\",\n",
       " 'yes. and see light in the deepest cave. you will feel the universe in motion around you.',\n",
       " \"no, evacuate the valley. you must protect the villagers from tai lung's rage.\",\n",
       " 'dragon warrior has taken scroll halfway across china by now. you will never see that scroll, tai lung. never. never...',\n",
       " 'but you will kill dragons.',\n",
       " 'behind these doors are just a few of the many species you will learn to fight.',\n",
       " 'your most important piece of equipment is your shield. if you must make a choice between a sword or a shield, take the shield.',\n",
       " \"so anyway i'm moving into my parents' basement. you should come by sometime to work out. you look like you work out--\",\n",
       " \"isn't it weird to think that your hand was inside a dragon. like if your mind was still in control of it you could have killed the dragon from the inside by crushing his heart or something.\",\n",
       " \"alright. i'm off to bed. you should be too. tomorrow we get into the big boys. slowly but surely making our way up to the monstrous nightmare. but who'll win the honor of killing it?\",\n",
       " 'just how long did you think you could hide it from me?',\n",
       " \"you must feel horrible. you've lost everything. your father, your tribe, your best friend.\",\n",
       " 'any chance you could give me the time. i don’t want to be late for the opening of the metro man museum.',\n",
       " 'oh, i’m shaking in my custom baby seal leather boots! you will leave metro city or this will be the last you ever hear of, roxanne ritchie! huh?',\n",
       " 'wait, roxy. i’m havin’ a party at my house, gonna be off the hook, or whatever. you should come over. i got a dj, rented a bouncy house, made a gallon of dip. it’s gonna be sick!',\n",
       " 'hal! hal’s the worst possible person you could pick!',\n",
       " 'you should be more like metro man.',\n",
       " 'you should stop comparing me to metro man.',\n",
       " 'yes! and you should look back right now.',\n",
       " \"don't look at me like that, old friend. you must have known this day would come. my nightmares are finally ready. are your guardians?\",\n",
       " 'if man in moon chose you to be a guardian, you must have something very special inside.',\n",
       " \"a neutral party. then i'm going to ignore you. but, you must be used to that by now.\",\n",
       " \"you should've seen them. they put up such a fight.\",\n",
       " \"you should've seen bunny.\",\n",
       " 'you will. i feel it, in my belly.',\n",
       " 'it was a dream. you should be happy you still get dreams like that and not...',\n",
       " 'you dare have fun in my presence! i am the boogeyman! and you will fear me!',\n",
       " 'okay. but it won\\'t be as good as grug\\'s. um, once upon a time, there was a beautiful tiger. she lived in a cave with the rest of her family. her father and mother told her, \"you may go anywhere you want but never go near the cliff, for you could fall.\"',\n",
       " \"ha! you should've thought of that before you stole all of our dragons and blasted our fort to bits!\",\n",
       " 'you will never hold on to those dragons, you hear me?! drago is coming for them all!',\n",
       " \"you should've seen their fort. all blown apart and stuck in giant spikes of ice. it was weird.\",\n",
       " \"it's okay though. he got me back. right, bud? you couldn't save all of me, could you? you just had to make it even. so... peg leg!\",\n",
       " 'you must be hungry.',\n",
       " 'well, what sign did i have that you could change, stoick? that anyone on berk could?']"
      ]
     },
     "execution_count": 13,
     "metadata": {},
     "output_type": "execute_result"
    }
   ],
   "source": [
    "commands"
   ]
  },
  {
   "cell_type": "code",
   "execution_count": 25,
   "metadata": {},
   "outputs": [
    {
     "data": {
      "text/plain": [
       "{'\"tis i! tis i! upon my regal steed! princess, my love, at last you shall be freed!\"',\n",
       " \"a neutral party. then i'm going to ignore you. but, you must be used to that by now.\",\n",
       " \"alright. i'm off to bed. you should be too. tomorrow we get into the big boys. slowly but surely making our way up to the monstrous nightmare. but who'll win the honor of killing it?\",\n",
       " \"come come come, you must be famished. let me help you my dear. there we go ah quite comfy? uh. it's it's not ofen that we have such a lovely dinner guest, eh eric? \",\n",
       " \"didn't you ever wish you could be something else?\",\n",
       " \"ha ha! praise allah! you brilliant boy, i could kiss you! i won'ti'll leave that to my. you two will be wed at once! yes, yes. and you'll be happy and prosperous, and then my boy, you will be sultan! \",\n",
       " \"i mean...you don't belong in the jade palace. you're a disgrace to kung fu, and if you have any respect for who we are and what we do, you will be gone by morning.\",\n",
       " 'it was a dream. you should be happy you still get dreams like that and not...',\n",
       " 'my daughter, kocoumwill make a fine husband. he is loyal and strong and will build you a good house with sturdy walls. with him you will be safe from harm. ',\n",
       " \"no one knows, but legend says you will be able to hear a butterfly's wing-beat.\",\n",
       " 'oh, you must be grumpy. ',\n",
       " 'oh, you must be hungry. here you go. ',\n",
       " 'pocahontas! you should be inside the village. ',\n",
       " 'she’s growing it out. is that blood in your moustache? goldie, look at this. look at all the blood in his moustache. that, sir, that’s a lot of blood. hey, you don’t look so good, blondie. maybe we should get you a home. call it a day. probably be better off. this is a five star joint after all, and if you can’t handle this place, well, maybe you should be back in your tower.',\n",
       " 'why, then you must be ',\n",
       " 'yes, and you must be ',\n",
       " \"you don't have time to be timid. you must be bold, daring. \",\n",
       " 'you must be hungry.',\n",
       " 'you must be quite fatigued your grace. may we offer you some tea? ',\n",
       " 'you should be ashamed of yourself.',\n",
       " 'you should be free to make your own choice. ',\n",
       " 'you should be more like metro man.',\n",
       " 'you will be so happy together. '}"
      ]
     },
     "execution_count": 25,
     "metadata": {},
     "output_type": "execute_result"
    }
   ],
   "source": [
    "set(commands) - set(commands_2)"
   ]
  },
  {
   "cell_type": "code",
   "execution_count": 31,
   "metadata": {},
   "outputs": [
    {
     "data": {
      "text/plain": [
       "{'\"tis i! tis i! upon my regal steed! princess, my love, at last you shall be freed!\"',\n",
       " \"alright. i'm off to bed. you should be too. tomorrow we get into the big boys. slowly but surely making our way up to the monstrous nightmare. but who'll win the honor of killing it?\",\n",
       " \"ha ha! praise allah! you brilliant boy, i could kiss you! i won'ti'll leave that to my. you two will be wed at once! yes, yes. and you'll be happy and prosperous, and then my boy, you will be sultan! \",\n",
       " \"i mean...you don't belong in the jade palace. you're a disgrace to kung fu, and if you have any respect for who we are and what we do, you will be gone by morning.\",\n",
       " 'it was a dream. you should be happy you still get dreams like that and not...',\n",
       " 'my daughter, kocoumwill make a fine husband. he is loyal and strong and will build you a good house with sturdy walls. with him you will be safe from harm. ',\n",
       " \"no one knows, but legend says you will be able to hear a butterfly's wing-beat.\",\n",
       " 'pocahontas! you should be inside the village. ',\n",
       " 'she’s growing it out. is that blood in your moustache? goldie, look at this. look at all the blood in his moustache. that, sir, that’s a lot of blood. hey, you don’t look so good, blondie. maybe we should get you a home. call it a day. probably be better off. this is a five star joint after all, and if you can’t handle this place, well, maybe you should be back in your tower.',\n",
       " 'you should be ashamed of yourself.',\n",
       " 'you should be free to make your own choice. ',\n",
       " 'you should be more like metro man.',\n",
       " 'you will be so happy together. '}"
      ]
     },
     "execution_count": 31,
     "metadata": {},
     "output_type": "execute_result"
    }
   ],
   "source": [
    "set(commands_3) - set(commands_2)"
   ]
  },
  {
   "cell_type": "code",
   "execution_count": 32,
   "metadata": {},
   "outputs": [
    {
     "data": {
      "text/plain": [
       "{\"a neutral party. then i'm going to ignore you. but, you must be used to that by now.\",\n",
       " \"come come come, you must be famished. let me help you my dear. there we go ah quite comfy? uh. it's it's not ofen that we have such a lovely dinner guest, eh eric? \",\n",
       " \"didn't you ever wish you could be something else?\",\n",
       " 'oh, you must be grumpy. ',\n",
       " 'oh, you must be hungry. here you go. ',\n",
       " 'why, then you must be ',\n",
       " 'yes, and you must be ',\n",
       " \"you don't have time to be timid. you must be bold, daring. \",\n",
       " 'you must be hungry.',\n",
       " 'you must be quite fatigued your grace. may we offer you some tea? '}"
      ]
     },
     "execution_count": 32,
     "metadata": {},
     "output_type": "execute_result"
    }
   ],
   "source": [
    "set(commands) - set(commands_3) #some \"must be\"'s missed"
   ]
  },
  {
   "cell_type": "code",
   "execution_count": 1,
   "metadata": {},
   "outputs": [],
   "source": [
    "#Some commands to try...\n",
    "#let me\n",
    "#come\n",
    "#look\n",
    "#stop\n",
    "#don't\n",
    "#quiet\n",
    "#shut up\n"
   ]
  },
  {
   "cell_type": "code",
   "execution_count": 13,
   "metadata": {},
   "outputs": [],
   "source": [
    "#Modals:\n",
    "#Suggestions: can, could, may, should\n",
    "#Commands: must, should, shall, ought, need, have to\n",
    "#What about: you('d') better\n",
    "\n",
    "commands_5 = []\n",
    "for line in movie_df.Text:\n",
    "    if re.search(r'you must(?! be )', line) or re.search(r'you (shall|will|have to)', line):\n",
    "        commands_5.append(line)"
   ]
  },
  {
   "cell_type": "code",
   "execution_count": 16,
   "metadata": {},
   "outputs": [],
   "source": [
    "#you can seems more like a suggestion...\n",
    "#while you can't is more a command...\n",
    "suggestions_1 = []\n",
    "for line in movie_df.Text:\n",
    "    if re.search(r'you (may|can)(?! be )', line) or re.search(r'you (should|could|better)', line):\n",
    "        suggestions_1.append(line)"
   ]
  },
  {
   "cell_type": "code",
   "execution_count": 14,
   "metadata": {},
   "outputs": [
    {
     "data": {
      "text/plain": [
       "134"
      ]
     },
     "execution_count": 14,
     "metadata": {},
     "output_type": "execute_result"
    }
   ],
   "source": [
    "len(commands_5)"
   ]
  },
  {
   "cell_type": "code",
   "execution_count": 17,
   "metadata": {},
   "outputs": [
    {
     "data": {
      "text/plain": [
       "253"
      ]
     },
     "execution_count": 17,
     "metadata": {},
     "output_type": "execute_result"
    }
   ],
   "source": [
    "len(suggestions_1)"
   ]
  },
  {
   "cell_type": "code",
   "execution_count": 18,
   "metadata": {},
   "outputs": [
    {
     "data": {
      "text/plain": [
       "[\"oh, you can talk. i'm so glad. now, don't tell me who you are. let me guess. i know, you're doc. \",\n",
       " 'oh the poor little thing is scared to death. jaq maybe you better explain things to him. ',\n",
       " \"yes so it does. well i see no reason why you can't goif you get all your work done. \",\n",
       " 'and if you can find something suitable to wear. ',\n",
       " 'follow me gusgus. i know where to go. find the prettypretty. quick as you can, cinderelly be surprised. ',\n",
       " \"you should talk. these beads! i'm sick of looking at them. trash! oh i hate them. oh i don't see why i can't have something new \",\n",
       " \"nonsense child. if you'd lost all your faith i couldn't be here. and here i am. oh come now. dry those tears. you can't go to the ball looking like that. \",\n",
       " \"serves him right i'd say. now, um, where were we? oh goodness yes. you can't go to the ball without aa horse. \",\n",
       " \"yes it's lovely, dear. good heavens child! you can't go in that. now uh, let's see dear. your size and the shade of your eyes. mmhmmm. something simple but daring too. oh! just leave it to me. what a gown this will be. bibbidi, bobbidi, bibbidi, bobbidi, bibbidi, bobbidi, boo! \",\n",
       " \"no, no wait. you can't go now. it's only \",\n",
       " 'now you two. listen to me! there is still a chance that one of you can get him. ',\n",
       " \"oh, oh no! no please! oh you can't. you just can't! let me out! you must let me out! you can't keep me in here! oh please! \",\n",
       " \"but you can't sow, and she's never cooked! \",\n",
       " \"you poor simple fools. thinking you could defeat me, me, the mistress of all evil. well, here's your precious princess. \",\n",
       " \"all right. i'm going inside. you can just stay here and watch for sharks. \",\n",
       " \"maybe you could make a little planter out of it or somethin'. \",\n",
       " \"oh, ariel, how many times must we go through this? you could've been seen by one of those barbarians by by one of those humans! \",\n",
       " \"ah, grimsby y'old beanpole, you shouldn't have. \",\n",
       " \"that's right. . . . but you'll have your man. life's full of tough choices, innit? oh and there is one more thing. we haven't discussed the subject of payment. you can't get something for nothing, you know. \",\n",
       " \". . . and don't you shake your head at me, lady. maybe there's still time. if we could get that witch to give you back your voice, you could go home with all the normal fish, and just be . . . just be . . . just be miserable for the rest of your life. all right, all right. i'll try to help you find that prince. boy. what a softshell i'm turning out to be. \",\n",
       " \"you can't spend all your time moping about, you need to get out. do something, have a life. \",\n",
       " \"you you can talk. you're the one. \",\n",
       " 'oooohhh! allah forbid you should have any daughters! ',\n",
       " 'if you could just',\n",
       " \"hey, wait a minute. don't go. maybe you can help us. \",\n",
       " \"the only way i get outta this is if my master wishes me out. so you can guess how often that's happened. \",\n",
       " 'whatever. you cannot just parade in here uninvited and expect to ',\n",
       " 'you should be free to make your own choice. ',\n",
       " 'al? al! kid, snap out of it! you can\\'t cheat on this one! i can\\'t help you unless you make a wish. you have to say \"genie i want you to save my life.\" got it? okay. c\\'mon aladdin!! ',\n",
       " 'you should be, jasmine. i have chosen a husband for you. ',\n",
       " 'sure you can. you just go \"genie, i wish you free.\" ',\n",
       " 'you little fool! you thought you could defeat the most powerful being on earth! ',\n",
       " \"there's nothing you can do. he's my prisoner. \",\n",
       " 'the castle is your home now, so you can go anywhere you wish, except the west wing. ',\n",
       " 'well, you can start by making yourself more presentable. straighten up, try to act like a gentleman. ',\n",
       " \"you can't stay in there forever! \",\n",
       " 'you can count on me, mon capitan. ',\n",
       " \"perhaps you could take me. i'm sure you know everything there is to know about the castle. \",\n",
       " \"as you can see, the pseudo facade was stripped away to reveal a minimalist rococo design. note the unusual inverted vaulted ceilings. this is yet another example of the neoclassic baroque period, and as i always say, if it's not baroque, don't fix it! ha ha ha. now then, where was i? \",\n",
       " 'do you realize what you could have done? ',\n",
       " \"well you shouldn't have been in the west wing! \",\n",
       " 'well you should learn to control your temper! ',\n",
       " \"no, you can't do this! \",\n",
       " 'take whatever booty you can find, but remember, the beast is mine! ',\n",
       " \"‘course he is, you halfwit. you can't fight indians without john smith. \",\n",
       " \"showoff. pocahontas? pocahontas? are you all right? well, you better be all right because i'm not coming in after you. . .! \",\n",
       " 'you should ask your father about it. ',\n",
       " \"john! you better get down here! the governor's coming ashore! \",\n",
       " 'well then, perhaps you should venture forth and determine their whereabouts, hmm? ',\n",
       " 'pocahontas! you should be inside the village. ',\n",
       " \"you shouldn't be out here alone. i'll send for kocoum. \",\n",
       " \"pocahontas, you can tell me, i promise i won't tell anyone — \",\n",
       " 'you could belong here. ',\n",
       " 'then you should talk back. ',\n",
       " \"not aiming like that, you couldn't. keep both eyes open when you shoot. you'll see twice as well. \",\n",
       " \"no! you can't do that! \",\n",
       " \"mulan. you should already be in town. we're counting on you to ... \",\n",
       " 'you are a disgrace! you may look like a bride, but you will never bring your family honor! ',\n",
       " \"father, you can't go! \",\n",
       " \"you shouldn't have to go! \",\n",
       " 'i hope you can get your money back! ',\n",
       " 'nice, very nice! you can sit by me! ',\n",
       " \"but you can't just ... \",\n",
       " 'very well. you can have his job. ',\n",
       " 'just in that moment, the ugly little frog looked up with his sad, round eyes and pleaded oh, please, dear princess, only a kiss from you can break this terrible spell, that was inflicted on me by a wicked witch. ',\n",
       " 'eudora. you suppose you can web something up like that ? ',\n",
       " \"yes, you wish and you dream with all your little heart. but you remember tiana that, that old star can only take you part of a way. you got to help him with some hard work of your own. and then... yeah you can do anything you said you mind to. just promise your daddy one thing? that you'll never, ever lose sign what is really important. okay? \",\n",
       " \"yeah, c'mon, tiana, you could use a little hand. it's mardi gras. \",\n",
       " 'you can save for your restaurant. i know, i know. girl! all you ever do is work! ',\n",
       " \"lottie, you can't just wish on a star expecting ... \",\n",
       " 'the fella came in offering a full amount of cash. less you can tap his offer by wednesday. you can kiss that place goodbye. ',\n",
       " \"exactly! which is why a little woman of your background ... woulda had a hands full, trying to run a big business like that. you better off where you're at. \",\n",
       " \"ok tiana, you can do this... just a little kiss, just a little kiss. ok! you don't look there much different. but how did you get way up there? and how did i get way down here, in all this! \",\n",
       " \"you can hop ... but you can't hide. we got all night! \",\n",
       " \"watch and learn. louis, that's too bad we can not help you with your dream. if only you were smaller... less toothy. you can play jazz to adoring crowd without scaring them. anyway, enjoy your loneliness, my friend! abenaza. \",\n",
       " 'if i can mince, you can dance. ',\n",
       " \"we so glad we found you mama odie. ray and louis here been tellin' us all about you. we've been travelling quite a long way. and you can't imagine what we've been through. and we... and we heard that you ... \",\n",
       " 'you coulda have a cute, little tadpoles. ',\n",
       " 'i did! you have had quite an influence on me. which is amazing because i have dated thousands of women and... no, like two, three... just other women! aand anyway, you could not be more different! you know, you are you are practically, one of the guys! no no no! you are not a guy! let me begin again! uh... ha... i am not myself tonight. tiana! sorry, that was loud. this is a disaster. ',\n",
       " 'it should be elegant. prince naveen you should keep it loose, let it swing ',\n",
       " \"prince naveen, darlin'. you better hurry up. don't wanna be late for our mardi gras weddin'. \",\n",
       " \"oh, no, this can't be right, darlin'. then how you can still be a frog? mama odie...she's... \",\n",
       " \"you can't let shadow man get this, no matter what. now run girl, run! do not make me light my butt. i got lightin' on me. come here, you! ok, come! ok who's next? \",\n",
       " \"woman of your background, you better off where y'are. \",\n",
       " \"shame on that hard work, didn't amount much more than a busted up, old gumbo pot. and a dream that never get off the back porch. but you ... you can give your poor daddy everything he ever wanted. come on, tiana. you're almost there. \",\n",
       " \"i won't go through with it! you can't force me! \",\n",
       " 'sure you can. ',\n",
       " \"call off the gathering! would that kill them? you're the queen, you can just tell the lords, the princess is not ready for this. in fact, she might not be ever ready for this! so that's that! \",\n",
       " 'if you could just try to see what i do, i do out of love. ',\n",
       " \"i think you'd see, if you could just. . . \",\n",
       " \"mom, you can't go out there! mom! what are you doing! \",\n",
       " 'oh, alright! you can have my deserts for two. . .three weeks! ',\n",
       " \"listen, you can't! it's your wife, elinor! \",\n",
       " \"instead of endangering our people so you can run right back to the water! every time i think you're past this… no one goes beyond the reef!\",\n",
       " \"there is nowhere you could go that i won't be with you. go!\",\n",
       " \"you are not my hero! and i'm not here so you can sign my oar. i'm here 'cause you stole the heart of te fiti! and you will board my boat, and sail across the sea and put it back!\",\n",
       " \"um, yeah, it almost sounded like you don't like me, which is impossible because i got stuck here for a thousand years trying to get the heart as a gift for you mortals. so you could have the power to create live itself. yeah, so what i believe you were trying to say is thank you.\",\n",
       " \"don't! you can't raise you voice like that--\",\n",
       " \"no. i'm gonna get us to te fiti, so you can put it back. thank you. you're welcome!\",\n",
       " \"the ocean doesn't help you, you help yourself! tighten the halyard. bind the stays! you can't sail?\",\n",
       " \"i'm not going on a suicide mission with some mortal. you can't restore the heart without me, and me says no. i'm getting my hook. end of discussion.\",\n",
       " 'if you can talk, you can teach. wayfinding, lesson one. hit it.',\n",
       " 'you can do this. go!',\n",
       " \"the heart of te fiti. you can't run from me! oh, you can. you keep surprising me. there's only so far you can get on those two little legs. the power of creation for a crustacean! where is it? where is it?\",\n",
       " \"it was made by the gods. you can't fix it.\",\n",
       " \"i'm not killing myself so you can prove you're something you're not--\",\n",
       " 'you could come with us, you know. my people are going to need a master wayfinder.',\n",
       " 'we do this job. you can buy your own castle.',\n",
       " 'you can tear this tower apart brick by brick, but without my help, you will never find your precious satchel.',\n",
       " 'she’s growing it out. is that blood in your moustache? goldie, look at this. look at all the blood in his moustache. that, sir, that’s a lot of blood. hey, you don’t look so good, blondie. maybe we should get you a home. call it a day. probably be better off. this is a five star joint after all, and if you can’t handle this place, well, maybe you should be back in your tower.',\n",
       " 'you should know that this is the strangest thing i’ve ever done!',\n",
       " 'ha! you should see your faces because you look…  ridiculous.',\n",
       " 'you can’t tell anyone about this, okay? it could ruin my whole reputation.',\n",
       " 'just for twenty-four hours and then you can chase each other to your heart’s content, okay?',\n",
       " 'well, best day of your life, i figured you should have a decent seat.',\n",
       " 'okay max, let’s see how fast you can run.',\n",
       " 'well, you could imagine what happened next.  the kingdom rejoiced, for the lost princess had now returned. the party lasted an entire week, and honestly i don’t remember much of it.',\n",
       " 'dreams came true all over the place. that guy went on to become the most famous concert pianist in the world, if you can believe it.',\n",
       " 'no. whatever you have to say, you...you can say to both of us.',\n",
       " \"fine. you can't marry a man you just met.\",\n",
       " \"you can if it's true love.\",\n",
       " 'no, you may not. and i...i think you should go. the party is over.  close the gates.',\n",
       " \"are you sure you can trust her? i don't want you getting hurt.\",\n",
       " 'do you think you could show us the way?',\n",
       " \"it opened. that's a first.  oh, you should probably wait out here.\",\n",
       " \"no, no. it's okay. you don't have to apologize. but you should probably go, please.\",\n",
       " \"oh, it's okay. you can just unfreeze it.\",\n",
       " 'what? i just fell off a cliff! you should see your hair.',\n",
       " 'but you can remove it, right?',\n",
       " 'you cannot risk going out there again.',\n",
       " \"please, olaf, you can't stay here, you'll melt.\",\n",
       " \"elsa! you can't run from this!\",\n",
       " 'i knew you could do it.',\n",
       " 'come on, you can do it!',\n",
       " 'terrific!  you should feel insignificant!',\n",
       " \"hello?!  earth to z!  you better snap out of it, or there's gonna be a lot of pissed off ants!\",\n",
       " \"and all the time i've known you, you've been grumping and groaning. you should quit making waves.  go with the flow.\",\n",
       " 'excuse me.  i seem to be lost, and i was wondering if you could give me --',\n",
       " \"hang in there, buddy!  you can make it!  just -- take deep breaths, i'll try and find your body -- it's gotta be around here somewhere!\",\n",
       " \"who said you could have a chat  ? you're not a chatter, you're a digger!  so shut up and dig!\",\n",
       " 'sorry i got you in trouble.  but listen, you can share my rations.',\n",
       " 'listen, \"princess\", you can\\'t order me around.  out here, you\\'re not the boss anymore -- out here, you\\'re just --',\n",
       " 'and only you can become a queen?',\n",
       " \"hey, wait, you're...you're one of those pheremone sniffers, aren't you? maybe you can help me...i'm looking for a friend of mine, princess bala.\",\n",
       " \"but general -- this tunnel is your baby!  you're sure you can't stay ?\",\n",
       " \"folks, you may have survived that flood, but there's no way you're gonna escape from me  .  i'll make you a deal.  hand over the rebel leader z, and you survive.\",\n",
       " 'and me, i guess you could say that i lived happily ever after.',\n",
       " \"right. well, that's good for ten shillings, if you can prove it.\",\n",
       " \"run, run, run, as fast as you can. you can't catch me. i'm the gingerbread man.\",\n",
       " \"what i mean is you're not a king yet. but you can become one. all you have to do is marry a princess.\",\n",
       " \"that champion shall have the honor - - no, no - - the privilege to go forth and rescue the lovely princess fiona from the fiery keep of the dragon. if for any reason the winner is unsuccessful, the first runner-up will take his place and so on and so forth. some of you may die, but it's a sacrifice i am willing to make. let the tournament begin! oh! what is that? it's hideous!\",\n",
       " \"you can't tell me you're afraid of heights.\",\n",
       " 'donkey, two things, okay? shut ... up. now go over there and see if you can find any stairs.',\n",
       " 'hey, wait. what are you doing? you should sweep me off my feet out yonder window and down a rope onto your valiant steed.',\n",
       " 'but we have to savor this moment! you could recite an epic poem for me. a ballad? a sonnet! a limerick? or something!',\n",
       " 'the battle is won. you may remove your helmet, good sir knight.',\n",
       " 'good question. you should ask him that when we get there.',\n",
       " \"i'm sorry, but your job is not my problem. you can tell lord farquaad that if he wants to rescue me properly, i'll be waiting for him right here.\",\n",
       " \"i don't know. there are those who think little of him. fiona: stop it. stop it, both of you. you're just jealous you can never measure up to a great ruler like lord farquaad.\",\n",
       " \"the stars don't tell the future, donkey. they tell stories. look, there's bloodnut, the flatulent. you can guess what he's famous for.\",\n",
       " \"well, maybe you shouldn't judge people before you get to know them.\",\n",
       " \"you can't do this to me, shrek. i'm too young for you to die. keep you legs elevated. turn your head and cough. does anyone know the heimlich?\",\n",
       " \"maybe you can come visit me in the swamp sometime. i'll cook all kind of stuff for you. swamp toad soup, fish eye tartare - - you name it.\",\n",
       " \"no! you can't breathe a word. no one must ever know.\",\n",
       " \"all right, all right. i won't tell him. but you should. i just know before this is over, i'm gonna need a whole lot of serious therapy. look at my eye twitchin'.\",\n",
       " \"but you can't marry him.\",\n",
       " \"mabel, remember how you couldn't get your little fat foot into that tiny glass slipper?\",\n",
       " 'shrek, maybe you should just stay and be king.',\n",
       " 'yeah, you better run, you little punk no good-niks, `cause the days of \"little donkey dumpy drawers\" are over!',\n",
       " 'you should be ashamed of yourself.',\n",
       " \"you! you can't lie. so tell me puppet... where is shrek?!\",\n",
       " \"ahhh.\\n\\n and there ain't nothing you can do to stop him!\",\n",
       " 'mr. merlin please. i know you can                do it-',\n",
       " 'yeah, and you should think about getting yourself a pair of pants! i feel all exposed and nasty.',\n",
       " 'and you should all care too.',\n",
       " '\"so you can gaze upon me!\"',\n",
       " \"didn't you ever wish you could be something else?\",\n",
       " 'i see you like to chew! maybe you should chew on my fist!!',\n",
       " 'the sword of heroes! said to be so sharp you can cut yourself just by looking-- ow!',\n",
       " 'go ahead, panda. show us what you can do.',\n",
       " 'and the five... man, you should have seen them, they totally hate me.',\n",
       " \"you actually thought you could learn to do a full split in one night? it takes years to develop one's flexibility and years longer to apply it in combat.\",\n",
       " 'maybe you should take a look at this again.',\n",
       " 'ah, yes. but no matter what you do, that seed will grow to be a peach tree. you may wish for an apple, or an orange... but you will get a peach.',\n",
       " \"master, you can't leave me!\",\n",
       " \"you should try my dad's secret ingredient soup. he actually knows the secret ingredient.\",\n",
       " 'you cannot leave! a real warrior never quits!',\n",
       " 'good. when you have been trained, you may eat. let us begin.',\n",
       " \"so you could come back here and strike fear into our hearts. but it won't work!\",\n",
       " 'you can defeat him, panda.',\n",
       " \"also, i was thinking, maybe this time we'll have a kitchen you can actually stand up in. hmm? you like that?\",\n",
       " 'if you can.',\n",
       " \"you can't lift a hammer. you can't swing an axe...\",\n",
       " \"... you can't even throw one of these.\",\n",
       " \"you can't stop him, stoick. you can only prepare him. look, i know it seems hopeless. but the truth is you won't always be around to protect him. he's going to get out there again. he's probably out there now.\",\n",
       " \"so anyway i'm moving into my parents' basement. you should come by sometime to work out. you look like you work out--\",\n",
       " 'why read words when you can just kill the stuff the words tell you stuff about?',\n",
       " \"isn't it weird to think that your hand was inside a dragon. like if your mind was still in control of it you could have killed the dragon from the inside by crushing his heart or something.\",\n",
       " \"alright. i'm off to bed. you should be too. tomorrow we get into the big boys. slowly but surely making our way up to the monstrous nightmare. but who'll win the honor of killing it?\",\n",
       " 'just how long did you think you could hide it from me?',\n",
       " \"dad. please. i promise you that you can't win this one.\",\n",
       " 'come on! is that the best you can do!?',\n",
       " 'any chance you could give me the time. i don’t want to be late for the opening of the metro man museum.',\n",
       " 'you can scream all you wish, miss ritchie. i’m afraid no one can hear you.',\n",
       " 'you can’t trap justice. it’s an idea, a belief!',\n",
       " 'of course you can. that is if metro man can withstand the full concentrated power of the sun! fire!',\n",
       " 'good, i’m glad you asked that. imagine the most horrible, terrifying, evil thing you can possibly think of and multiply it…by six! in the meantime, i want you to carry on with the dreary normal things you, normal people do. let’s just have fun with this, come on! and i will get back to you.',\n",
       " 'wait, roxy. i’m havin’ a party at my house, gonna be off the hook, or whatever. you should come over. i got a dj, rented a bouncy house, made a gallon of dip. it’s gonna be sick!',\n",
       " 'hal! hal’s the worst possible person you could pick!',\n",
       " 'you should be more like metro man.',\n",
       " 'but they can wait. you can take me to jail now.',\n",
       " 'you should stop comparing me to metro man.',\n",
       " 'roxanne was kidnapped, i was gonna stop you. my head wasn’t in the game that day. we were kind of goin’ through the motions. so, using my super speed i decided to go clear my head. then i realized, we had done this same silly charade our entire lives. i tried to get my mind off how i was feeling, but i just felt stuck. and i began to realize, despite all my powers, each and every citizen of metro had something i didn’t; a choice. ever since i can remember i’ve always had to be what this city wanted me to be. what about what i wanted to do? then it suddenly hit me, i do have a choice! i can be whatever i wanna be! no one said that this hero thing had to be a life time gig. you can’t just quit either. that’s when i got the brilliant idea to fake my death.',\n",
       " 'megamind, i don’t even know if you’re listening. but if you are, you can’t give up! the megamind i knew would never have run from a fight, even when he knew he had absolutely no chance of winning. it was your best quality. you need to be that guy right now. the city needs you. i need you.',\n",
       " 'yes! and you should look back right now.',\n",
       " \"you can't catch me.\",\n",
       " \"if there's something i'm doing wrong, can you, can you just tell me what it is? because i've tried everything, and no one ever sees me. you put me here, the least you can do is tell me, tell me why.\",\n",
       " 'you see, you can not say no. it is destiny.',\n",
       " \"you should've seen them. they put up such a fight.\",\n",
       " \"you should've seen bunny.\",\n",
       " \"okay, easy! you can't blame me for trying, sandy. you don't know what it's like to be weak and hated. it was stupid of me to mess with your dreams. so i'll tell you what-\",\n",
       " 'you can have `em back!',\n",
       " 'it was a dream. you should be happy you still get dreams like that and not...',\n",
       " \"come on jack, you can't have fun all the time.\",\n",
       " 'none of you can fly?',\n",
       " \"you can't get rid of me! not forever! there will always be fear!\",\n",
       " \"as soon as i get sandy, i'll go back in, and you can give the signal.\",\n",
       " \"what!? you can't keep me inside forever!\",\n",
       " \"that's right! you can't get past this!\",\n",
       " 'come on, you can hold it.',\n",
       " 'okay. but it won\\'t be as good as grug\\'s. um, once upon a time, there was a beautiful tiger. she lived in a cave with the rest of her family. her father and mother told her, \"you may go anywhere you want but never go near the cliff, for you could fall.\"',\n",
       " 'a place with more suns in the sky than you can count.',\n",
       " \"tomorrow isn't a place, you can't see it!\",\n",
       " \"hello? nobody's listening! no one is listening. you cannot walk on those!\",\n",
       " 'okay. now you can look.',\n",
       " 'you can do this.',\n",
       " 'more suns in the sky than you can count.',\n",
       " 'come on. you can do it.',\n",
       " 'because it rhymes with grug. but you can change it if you want.',\n",
       " \"ha! you should've thought of that before you stole all of our dragons and blasted our fort to bits!\",\n",
       " 'you may have an ice-spitting dragon on your side, but we still have a quota to fill. how do you suppose we explain this mess to drago bludvist?',\n",
       " \"ah, he's probably flown off the edge of the world by now. you sure you want that kid running the village? you can still delay your retirement.\",\n",
       " \"you should've seen their fort. all blown apart and stuck in giant spikes of ice. it was weird.\",\n",
       " \"you can't just say something like that and run off! you're my mother?! i mean, what the -- do you grasp how insane it sounds?! i have questions!\",\n",
       " \"it's okay though. he got me back. right, bud? you couldn't save all of me, could you? you just had to make it even. so... peg leg!\",\n",
       " 'now you can make those tight turns.',\n",
       " \"well, as you can see, i'm right on time with a new batch of dragons, just like i promised.\",\n",
       " 'well, what sign did i have that you could change, stoick? that anyone on berk could?',\n",
       " 'ugh. pathetic. you can still jump.',\n",
       " 'you cannot take our dragons! they are controlled by the alpha!',\n",
       " 'val, do you think you can stop them?',\n",
       " \"but your father... he never doubted. he always said you'd become the strongest of them all. and he was right. you have the heart of a chief and the soul of a dragon. only you can bring our worlds together. that is who you are, son.\",\n",
       " \"i was so afraid of becoming my dad. mostly because i thought i never could. how do you become someone that great? that brave? that selfless? i guess you can only try. a chief protects his own. we're going back.\"]"
      ]
     },
     "execution_count": 18,
     "metadata": {},
     "output_type": "execute_result"
    }
   ],
   "source": [
    "suggestions_1"
   ]
  },
  {
   "cell_type": "code",
   "execution_count": 15,
   "metadata": {},
   "outputs": [
    {
     "data": {
      "text/plain": [
       "['and there, my faithful huntsman, you will kill her ! ',\n",
       " \"a dream is a wish your heart makes when you're fast asleep in dreams you will lose your heartaches whatever you wish for, you keep \",\n",
       " 'oh, now, now, now just a moment. you must understand my dear. on the stroke of twelve the spell will be broken and everything will be as it was before. ',\n",
       " \"you will stay right here. see they're not disturbed. and when the boy proposes notify me immediately. \",\n",
       " \"oh, oh no! no please! oh you can't. you just can't! let me out! you must let me out! you can't keep me in here! oh please! \",\n",
       " \"sweet princess, if through this wicked witches trick a spindle should your finger prick, a ray of hope there still may be in this, the gift i give at thee. not in death but just in sleep the fateful prophecy you'll keep, and from this slumber you shall wake when true love's kiss the spell shall break. \",\n",
       " \"i'm sorry, child, but you must never see that man again. \",\n",
       " \"whoa, whoa, careful careful easy. gee, you must have really been through something. don't worry, i'll help you. come on . . . come on, you'll be okay. fade to ariel in bath playing with bubbles. \",\n",
       " 'well you must have at least heard about this girl. ',\n",
       " 'remember, boyfirst fetch me the lamp, and then you shall have your reward. ',\n",
       " 'you have touched the forbidden treasure. ',\n",
       " 'now you will never again see the light of day! ',\n",
       " 'you will order the princess to marry me. ',\n",
       " 'what? what is that? that music! ha ha ha. jafar., you must come and see this! ',\n",
       " 'al? al! kid, snap out of it! you can\\'t cheat on this one! i can\\'t help you unless you make a wish. you have to say \"genie i want you to save my life.\" got it? okay. c\\'mon aladdin!! ',\n",
       " 'you will wed jafar. ',\n",
       " \"ha ha! praise allah! you brilliant boy, i could kiss you! i won'ti'll leave that to my. you two will be wed at once! yes, yes. and you'll be happy and prosperous, and then my boy, you will be sultan! \",\n",
       " \"there's a new order nowmy order! finally, you will bow to me! \",\n",
       " 'if you will not bow before a sultan, then you will cower before a sorcerer! ',\n",
       " \"don't talk back to me, you stupid blue lout! you will do what i order you to do, slave! \",\n",
       " \"yes, you will. and you'll win first prize at the fair tomorrow \",\n",
       " \"phillipe! what are you doing here? where's papa? where is he, phillipe? what happened? oh, we have to find him, you have to take me to him! \",\n",
       " 'no time to explain. you must go...now! ',\n",
       " 'yes, but you must promise to stay here forever. ',\n",
       " 'you will? oh thank you, thank you! ',\n",
       " 'oh, but you must! ',\n",
       " 'oh, you must help her to see past all that. ',\n",
       " 'you must control your temper! ',\n",
       " 'well then you must tell her. ',\n",
       " 'then...then you must go to him. ',\n",
       " 'my daughter, kocoumwill make a fine husband. he is loyal and strong and will build you a good house with sturdy walls. with him you will be safe from harm. ',\n",
       " 'you will. ',\n",
       " \"excellent. then you must know the indians' whereabouts. we'll need that information for the battle. \",\n",
       " \"maybe it's not too late to stop this. you have to come with me and talk to my father. \",\n",
       " 'you have to stop them. ',\n",
       " 'you must choose your own path. ',\n",
       " 'no, you have to go back. ',\n",
       " 'this way. now, pour the tea. to please your future inlaws, you must demonstrate a sense of dignity ',\n",
       " 'and refinement. you must also be poised. ',\n",
       " 'you are a disgrace! you may look like a bride, but you will never bring your family honor! ',\n",
       " \"silence! you will do well to teach your daughter to hold her tongue in a man's presence. \",\n",
       " 'you must go after her. she could be killed. ',\n",
       " \"you will stay and train the new recruits. when chi fu believes you're ready, you will join us ... captain. \",\n",
       " 'soldiers! you will assemble swiftly and silently, every morning. anyone who does otherwise, will answer to me. ',\n",
       " 'shang, i saw them in the mountains! you have to believe me! ',\n",
       " 'please, you have to help! ',\n",
       " 'then you will kneel ... in pieces! ',\n",
       " 'yes, yes, yes... my mother had the servants read this to me every night. yes, yes...this is exactly the answer! you ...you must kiss me! ',\n",
       " \"you will enjoy it, i guarantee. all women enjoy the kiss... of prince naveen. come, we pucker. that's new. \",\n",
       " 'oh, but you must kiss me. look, besides being unbelievably handsome, i also happened to come from a fabulously wealthy family. surely, i can offer you some type of reward or a wish i could grant perhaps... yes? ',\n",
       " 'you will be so happy together. ',\n",
       " \"y'all should've taken my deal. now you will spend the rest of your life bein' a slimy little frog! \",\n",
       " 'yeah, more or less. but remember, you must give tiana all the money she requires for her restaurant. because tiana ... she is my evangeline. ',\n",
       " 'but are you willing to pay the price your freedom will cost? ',\n",
       " 'my lords, i am out of sorts at the moment. but you shall have your answer. . . ',\n",
       " \"oh, yes! but first, you must learn where you're meant to be.\",\n",
       " \"come on. there's something i need to show you. i've wanted to bring you here from the moment you opened your eyes. this is a sacred place, a place of chiefs. there will come a time when you will stand on this peak and place a stone on this mountain. like i did. like my father did. and his father, and every chief that has even been. and on that day, when you add your stone, you will raise this whole island higher. you are the future of our people, moana. and they are not out there. they are right here. it's time to be who they need you to be.\",\n",
       " 'nope! our ancestors believed maui lies there, at the bottom of his hook. follow it, and you will find him.',\n",
       " 'you must! the ocean chose you. follow the fish hook--',\n",
       " 'and when you find maui, you grab him by the ear, you say: i am moana of motunui. you will board my boat, sail across the sea, and restore the heart of te fiti.',\n",
       " \"i am moana of motunui. you will board my boat, sail across the sea, and restore the heart of te fiti. i am moana…of motu--nui. heihei? it’s okay. it's alright. see? there we go. nice water. the ocean is a friend of mine. heihei? heihei! stay. okay, next stop, maui. i am moana of motunui. you will board my boat, sail across the sea, and restore of te fiti. i am moana of ... board my boat! oh no. no, no, no! uh, ocean? can i get a little help? no, no. please. come on! help me! please!\",\n",
       " 'maui! maui, demigod of the wind and sea, i am moana of motunui! you will board my boat--no, you will board my boat. yeah. i am moana of motunui. you will board…my…',\n",
       " \"you are not my hero! and i'm not here so you can sign my oar. i'm here 'cause you stole the heart of te fiti! and you will board my boat, and sail across the sea and put it back!\",\n",
       " 'no! stop! hey! you have to put back the heart!',\n",
       " 'i am moana of motunui. this is my canoe you will journey to--',\n",
       " 'yes. and you will restore the heart. ah!',\n",
       " \"if you wear a dress and you have an animal sidekick, you're a princess. you are not a wayfinder. you will never be a wayfinder, you will never be a--really? blow dart in my buttcheek? you are a bad person.\",\n",
       " 'maui, you have to restore the heart.',\n",
       " 'i am moana of motunui. you will board my boat--',\n",
       " \"why did you bring me here? i'm not the right person. you have to choose someone else. choose someone else. please. no.\",\n",
       " 'the outside world is a dangerous place, filled with horrible, selfish people. you must stay here, where you’re safe. do you understand, flower?',\n",
       " 'lanterns. i knew they weren’t stars. well, tomorrow evening they will light the night sky with these lanterns. you will act as my guide, take me to these lanterns, and return me home safely. then, and only then, will i return your satchel to you. that is my deal.',\n",
       " 'something brought you here, flynn rider. call it what you will: fate, destiny…',\n",
       " 'you can tear this tower apart brick by brick, but without my help, you will never find your precious satchel.',\n",
       " 'where’s rider? where is he? i know he’s in here somewhere. find him, turn the place upside down if you have to!',\n",
       " 'i promise you. you have to trust me–',\n",
       " 'do what you must.',\n",
       " \"it's for the best. listen to me, elsa, your power will only grow. there is beauty in it.  but also great danger.  you must learn to control it. fear will be your enemy.\",\n",
       " 'do you have to go?',\n",
       " 'no. whatever you have to say, you...you can say to both of us.',\n",
       " \"look! it's snowing! it's snowing! the queen has cursed this land! she must be stopped! you have to go after her.\",\n",
       " \"who's this? wait, it doesn't matter. just...you have to go.\",\n",
       " 'how? what power do you have to stop this winter? to stop me?',\n",
       " \"don't you see, i can't. you have to tell them to let me go.\",\n",
       " 'hans, you have to kiss me.',\n",
       " \"you have to! no returns. no exchanges. queen's orders. she's named you the official arendelle ice master and deliverer.\",\n",
       " \"you have to help me.  please, weaver. think of all the things i've done for you!\",\n",
       " 'darling, you must encourage the troops -- wave!',\n",
       " 'now, worker, you shall take me back to the colony, and have your head cut off and stuck on a sharp pole!',\n",
       " 'darling, do you have to talk to any insect from off the street?',\n",
       " \"what i mean is you're not a king yet. but you can become one. all you have to do is marry a princess.\",\n",
       " 'brave knights. you are the best and brightest in all the land. today one of you shall prove himself...',\n",
       " \"no. oh, no, no! oh, what large teeth you have. i mean white, sparkling teeth. i know you probably hear this all time from your food, but you must bleach, 'cause that is one dazzling smile you got there. do i detect a hint of minty freshness? and you know what else? you're - - you're a girl dragon! oh, sure! i mean, of course you're a girl dragon. you're just reeking of feminine beauty.\",\n",
       " \"no, it's destiny. oh, you must know how it goes. a princess locked in a tower and beset by a dragon is rescued by a brave knight, and then they share true love's first kiss.\",\n",
       " 'put me down, or you will suffer the consequences! this is not dignified! put me down!',\n",
       " 'it really is all fun and games, actually. sure, you have to knight a few heroes, launch a ship or two. by the way, make sure you hit the boat just right with the bottle.',\n",
       " '\"tis i! tis i! upon my regal steed! princess, my love, at last you shall be freed!\"',\n",
       " 'you will not ruin things this time ogre.\\n\\n kill it!',\n",
       " 'you are almost ready to be entrusted with the secret ingredient of my \"secret ingredient soup.\" and then you will fulfill your destiny and take over the restaurant, just as i took it over from my father, who took it over from his father, who won it from a friend in a game of mahjong.',\n",
       " 'wrong! you are not the dragon warrior. you will never be the dragon warrior until you have learned the secret of the dragon scroll.',\n",
       " 'oh, then you must know what happens when i flex my pinky.',\n",
       " \"i mean...you don't belong in the jade palace. you're a disgrace to kung fu, and if you have any respect for who we are and what we do, you will be gone by morning.\",\n",
       " 'ah, yes. but no matter what you do, that seed will grow to be a peach tree. you may wish for an apple, or an orange... but you will get a peach.',\n",
       " 'no, you just need to believe. promise me, shifu. promise me you will believe.',\n",
       " 'good. my time has come. you must continue your journey without me.',\n",
       " 'you must believe.',\n",
       " 'you will never be the dragon warrior, unless you lose five hundred pounds and brush your teeth!',\n",
       " 'work hard, panda. and maybe, someday... you will have ears like mine.',\n",
       " 'you will beat him because you are the dragon warrior!',\n",
       " 'but you will have the one thing that no one else does.',\n",
       " \"no one knows, but legend says you will be able to hear a butterfly's wing-beat.\",\n",
       " 'yes. and see light in the deepest cave. you will feel the universe in motion around you.',\n",
       " \"no, evacuate the valley. you must protect the villagers from tai lung's rage.\",\n",
       " 'dragon warrior has taken scroll halfway across china by now. you will never see that scroll, tai lung. never. never...',\n",
       " 'but you will kill dragons.',\n",
       " 'behind these doors are just a few of the many species you will learn to fight.',\n",
       " 'your most important piece of equipment is your shield. if you must make a choice between a sword or a shield, take the shield.',\n",
       " \"she's right, you have to be tough on yourselves.\",\n",
       " 'you have to give me a chance to explain.',\n",
       " \"i'm not listening to anything you have to say!\",\n",
       " \"you must feel horrible. you've lost everything. your father, your tribe, your best friend.\",\n",
       " 'oh, i’m shaking in my custom baby seal leather boots! you will leave metro city or this will be the last you ever hear of, roxanne ritchie! huh?',\n",
       " 'warden! warden! listen to me, you have to let me go. titan has to be stopped!',\n",
       " \"don't look at me like that, old friend. you must have known this day would come. my nightmares are finally ready. are your guardians?\",\n",
       " 'if man in moon chose you to be a guardian, you must have something very special inside.',\n",
       " \"all these years, and the answers were right here. if i find my memories, then i'll know why i'm here. you have to show me.\",\n",
       " 'you will. i feel it, in my belly.',\n",
       " 'you have to believe in me.',\n",
       " \"if it wasn't a dream and if you are real, then you have to prove it. like right now.\",\n",
       " 'you dare have fun in my presence! i am the boogeyman! and you will fear me!',\n",
       " 'you have to stop worrying for all of us.',\n",
       " 'ugga, everyone, you have to listen to me.',\n",
       " 'please grug. you have to stop struggling.',\n",
       " 'you will never hold on to those dragons, you hear me?! drago is coming for them all!']"
      ]
     },
     "execution_count": 15,
     "metadata": {},
     "output_type": "execute_result"
    }
   ],
   "source": [
    "commands_5"
   ]
  },
  {
   "cell_type": "code",
   "execution_count": null,
   "metadata": {},
   "outputs": [],
   "source": []
  }
 ],
 "metadata": {
  "kernelspec": {
   "display_name": "Python 3",
   "language": "python",
   "name": "python3"
  },
  "language_info": {
   "codemirror_mode": {
    "name": "ipython",
    "version": 3
   },
   "file_extension": ".py",
   "mimetype": "text/x-python",
   "name": "python",
   "nbconvert_exporter": "python",
   "pygments_lexer": "ipython3",
   "version": "3.6.4"
  }
 },
 "nbformat": 4,
 "nbformat_minor": 2
}
