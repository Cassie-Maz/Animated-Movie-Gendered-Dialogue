{
 "cells": [
  {
   "cell_type": "markdown",
   "metadata": {},
   "source": [
    "# Dreamworks Films DataFrames\n",
    "In the following code, I will attempt to streamline the method I used for Shrek with the other Dreamworks films. After creating individual dataframes for each movie, I'll combine them into one dataframe. \n",
    "\n",
    "The movies included are:\n",
    "* Antz\n",
    "* The Croods\n",
    "* Megamind\n",
    "* Rise of the Guardians\n",
    "* Shrek the Third"
   ]
  },
  {
   "cell_type": "code",
   "execution_count": 1,
   "metadata": {},
   "outputs": [],
   "source": [
    "import glob\n",
    "import numpy as np\n",
    "import pandas as pd\n",
    "import re"
   ]
  },
  {
   "cell_type": "markdown",
   "metadata": {},
   "source": [
    "First, we need to check the formatting in each file, to see if they match the format of the shrek script, or if we need to modify the code. Let's start off with Antz."
   ]
  },
  {
   "cell_type": "code",
   "execution_count": 2,
   "metadata": {},
   "outputs": [],
   "source": [
    "#importing the file\n",
    "antz = open(r'C:\\Users\\cassi\\Desktop\\Data_Science\\Animated-Movie-Gendered-Dialogue\\private\\imsdb_raw_nov_2015\\Animation\\antz.txt')\n",
    "antz_script = antz.read()\n",
    "antz.close()"
   ]
  },
  {
   "cell_type": "code",
   "execution_count": 3,
   "metadata": {},
   "outputs": [
    {
     "name": "stdout",
     "output_type": "stream",
     "text": [
      "Pretty printing has been turned OFF\n"
     ]
    }
   ],
   "source": [
    "%pprint"
   ]
  },
  {
   "cell_type": "code",
   "execution_count": 52,
   "metadata": {},
   "outputs": [
    {
     "name": "stdout",
     "output_type": "stream",
     "text": [
      "\"Antz\", unknown draft\n",
      "\n",
      "A N T Z\n",
      "\n",
      "CHARACTERS                                            VOICES\n",
      "\n",
      "     \"Z\"...............................................WOODY ALLEN\n",
      "\n",
      "     \"WASP #1\".........................................DAN AYKROYD\n",
      "\n",
      "     \"WASP #2\".........................................JANE CURTIN\n",
      "\n",
      "     \"GEN. FORMICA\"...................................DANNY GLOVER\n",
      "\n",
      "     \"MANDIBLE\".......................................GENE HACKMAN\n",
      "\n",
      "     \"AZTECA\".......................................JENNIFER LOPEZ\n",
      "\n",
      "     \"DRUNK SCOUT\"....................................JOHN MAHONEY\n",
      "\n",
      "     \"WEAVER\"...................................SYLVESTER STALLONE\n",
      "\n",
      "     \"PRINCESS BALA\"..................................SHARON STONE\n",
      "\n",
      "     \"QUEEN\"..........................................MERYL STREEP\n",
      "\n",
      "     \"CARPENTER\"................................CHRISTOPHER WALKEN\n",
      "\n",
      "        \n"
     ]
    }
   ],
   "source": [
    "print(antz_script[:850])"
   ]
  },
  {
   "cell_type": "code",
   "execution_count": 9,
   "metadata": {},
   "outputs": [
    {
     "name": "stdout",
     "output_type": "stream",
     "text": [
      "                 Z (O.S.)\n",
      "\n",
      "                      (over a dark screen)\n",
      "\n",
      "               All my life, I've lived and worked in\n",
      "\n",
      "               the big city...\n",
      "\n",
      "     We see:\n",
      "\n",
      "     EXT. AN ANT MOUND - DAY\n",
      "\n",
      "     The camera swoops towards the entrance, then dives inside,\n",
      "\n",
      "     past a couple of tough-looking soldier ants who stand at the\n",
      "\n",
      "     gates of the ant colony like insect bouncers...into an access\n",
      "\n",
      "     tunnel that snakes this way and that, past a row of ants\n",
      "\n",
      "     plodding along...\n",
      "\n",
      "     ...and into the MAIN CHAMBER of the colony, a huge, teeming\n",
      "\n",
      "     vista that seems to stretch away forever, filled with ants\n",
      "\n",
      "     rushing here and there on their business.  We see -- a\n",
      "\n",
      "     \"traffic cop\" directing foot traffic, waving his arms like\n",
      "\n",
      "     crazy so both sides move at once -- a column of \n",
      "\n",
      "soldier ants\n",
      "\n",
      "     marching along in formation -- a chain of ants letting down\n",
      "\n",
      "     a \n",
      "\n",
      "matchbox\n",
      "\n",
      " elevator filled with workers.\n",
      "\n",
      "                         Z (V.O.)\n",
      "\n",
      "               ...which is kind of a problem, since\n",
      "\n",
      "               I've always felt uncomfortably in\n",
      "\n",
      "               crowds.\n",
      "\n",
      "     INT. MOTIVATIONAL COUNSELLOR'S OFFICE - DAY\n",
      "\n",
      "     We join Z, a worker ant with issues.  He's lying on a couch,\n",
      "\n",
      "     recounting his woes.\n",
      "\n",
      "                         Z\n",
      "\n",
      "               I feel...isolated.  Different.  I've\n",
      "\n",
      "               got abandonment issues.  My father\n",
      "\n",
      "               flew away when I was just a larva.\n",
      "\n",
      "               My mother didn't have much time for\n",
      "\n",
      "               me...when you have five million\n",
      "\n",
      "               siblings, it's difficult to get\n",
      "\n",
      "               attention.\n",
      "\n",
      "                      (pause)\n",
      "\n",
      "               I feel ph\n"
     ]
    }
   ],
   "source": [
    "print(antz_script[850:2500])"
   ]
  },
  {
   "cell_type": "markdown",
   "metadata": {},
   "source": [
    "Interesting...Antz has a character list (for the main characters at least). Also, one of the characters is simply named \"Z\", which poses a problem. In the Shrek script, we could rely on character names being longer than two letters. Let's try what we used with Shrek. But first, we'll need to cut off the beginning of the script."
   ]
  },
  {
   "cell_type": "code",
   "execution_count": 17,
   "metadata": {},
   "outputs": [
    {
     "data": {
      "text/plain": [
       "\"\\n\\n                         Z (O.S.)\\n\\n                      (over a dark screen)\\n\\n               All my life, I've lived and worked in\\n\\n               the big ci\""
      ]
     },
     "execution_count": 17,
     "metadata": {},
     "output_type": "execute_result"
    }
   ],
   "source": [
    "antz_script[840:1000]"
   ]
  },
  {
   "cell_type": "code",
   "execution_count": 21,
   "metadata": {},
   "outputs": [],
   "source": [
    "antz_script2 = antz_script[840:]"
   ]
  },
  {
   "cell_type": "code",
   "execution_count": 23,
   "metadata": {},
   "outputs": [
    {
     "data": {
      "text/plain": [
       "'\\n\\n                         Z (O.S.)\\n\\n                      (over a dark screen)\\n\\n               All '"
      ]
     },
     "execution_count": 23,
     "metadata": {},
     "output_type": "execute_result"
    }
   ],
   "source": [
    "antz_script2[:100]"
   ]
  },
  {
   "cell_type": "markdown",
   "metadata": {},
   "source": [
    "Okay, now let's count the white space and see how it's used."
   ]
  },
  {
   "cell_type": "code",
   "execution_count": 57,
   "metadata": {},
   "outputs": [
    {
     "data": {
      "text/plain": [
       "3376"
      ]
     },
     "execution_count": 57,
     "metadata": {},
     "output_type": "execute_result"
    }
   ],
   "source": [
    "white_space = re.findall(\" {3,}\", antz_script2)\n",
    "len(white_space)"
   ]
  },
  {
   "cell_type": "code",
   "execution_count": 58,
   "metadata": {},
   "outputs": [
    {
     "name": "stdout",
     "output_type": "stream",
     "text": [
      "['                         ', '                      ', '               ', '               ', '     ', '     ', '     ', '     ', '     ', '     ']\n"
     ]
    }
   ],
   "source": [
    "print(white_space[:10])"
   ]
  },
  {
   "cell_type": "code",
   "execution_count": 59,
   "metadata": {},
   "outputs": [
    {
     "name": "stdout",
     "output_type": "stream",
     "text": [
      "[25, 22, 15, 15, 5, 5, 5, 5, 5, 5, 5, 5, 5, 5, 5, 5, 5, 5, 25, 15, 15, 15, 5, 5, 5, 25, 15, 15, 15, 15, 15, 15, 15, 22, 15, 15, 15, 15, 15, 15, 15, 15, 15, 25, 22, 15, 15, 5, 5, 5]\n",
      "{3, 5, 46, 15, 22, 23, 25}\n"
     ]
    }
   ],
   "source": [
    "len_w_s = [len(x) for x in white_space]\n",
    "print(len_w_s[:50])\n",
    "print(set(len_w_s))"
   ]
  },
  {
   "cell_type": "code",
   "execution_count": 122,
   "metadata": {},
   "outputs": [
    {
     "data": {
      "text/plain": [
       "'\\n\\n                         Z (O.S.)\\n\\n                      (over a dark screen)\\n\\n               All my life, I\\'ve lived and worked in\\n\\n               the big city...\\n\\n     We see:\\n\\n     EXT. AN ANT MOUND - DAY\\n\\n     The camera swoops towards the entrance, then dives inside,\\n\\n     past a couple of tough-looking soldier ants who stand at the\\n\\n     gates of the ant colony like insect bouncers...into an access\\n\\n     tunnel that snakes this way and that, past a row of ants\\n\\n     plodding along...\\n\\n     ...and into the MAIN CHAMBER of the colony, a huge, teeming\\n\\n     vista that seems to stretch away forever, filled with ants\\n\\n     rushing here and there on their business.  We see -- a\\n\\n     \"traffic cop\" directing foot traffic, waving his arms like\\n\\n     crazy so both sides move at once -- a column of \\n\\nsoldier ants\\n\\n     marching along in formation -- a chain of ants letting down\\n\\n     a \\n\\nmatchbox\\n\\n elevator filled with workers.\\n\\n                         Z (V.O.)\\n\\n               ...which is kind of a problem, since\\n\\n               I\\'ve always felt uncomfortably in\\n\\n               crowds.\\n\\n     INT. MOTIVATIONAL COUNSELLOR\\'S OFFICE - DAY\\n\\n     We join Z, a worker ant with issues.  He\\'s lying on a couch,\\n\\n     recounting his woes.\\n\\n                         Z\\n\\n               I feel...isolated.  Different.  I\\'ve\\n\\n               got abandonment issues.  My father\\n\\n               flew away when I was just a larva.\\n\\n               My mother didn\\'t have much time for\\n\\n               me...when you have five million\\n\\n               siblings, it\\'s difficult to get\\n\\n               attention.\\n\\n                      (pause)\\n\\n               I feel physically inadequate -- I\\'ve\\n\\n               never been able to lift more than ten\\n\\n               times my own weight.  Sometimes I\\n\\n               think I\\'m just not cut out to be a\\n\\n               worker.  But I don\\'t have any other\\n\\n               options.  I was assigned to trade\\n\\n               school when I was just a \\n\\ngrub\\n\\n.  The\\n\\n               whole system just...makes me\\n\\n               feel...\\n\\ninsignificant\\n\\n.\\n\\n                         MOTIVATIONAL COUNSELLOR\\n\\n                      (enthusiastic)\\n\\n               Terrific!  You \\n\\nshould\\n\\n feel\\n\\n               insignificant!\\n\\n     For the first time, we see the ant MOTIVATIONAL COUNSELLOR.\\n\\n     He\\'s a mixture of Tony Robbins and Ron Popiel (the\\n\\n     hyperactive late-night TV huckster, and founder of \"Ronco\").\\n\\n                         Z\\n\\n               ...I should?\\n\\n                         MOTIVATIONAL COUNSELLOR\\n\\n                      (hopping around\\n\\n                       enthusiastically)\\n\\n               YES!!!  You know, people ask me,\\n\\n               \"Doctor, why are you always happy?\"\\n\\n               And I tell them it\\'s mind over\\n\\n               matter.  I don\\'t \\n\\nmind\\n\\n that I don\\'t\\n\\nmatter\\n\\n!  Do you get it?  Do you get\\n\\n               it?\\n\\n     Z gives a fake smile.\\n\\n                         MOTIVATIONAL COUNSELLOR\\n\\n                      (incredibly \"up\")\\n\\n               Z, we\\'re part of the \\n\\nfastest growing\\n\\nspecies in the whole world\\n\\n!\\n\\n     The counsellor rolls down a chart from the wall.  An arrow\\n\\n     shows ant population going up, up, up.\\n\\n                         MOTIVATIONAL COUNSELLOR\\n\\n               Ask me why we\\'re so successful.\\n\\n                         Z\\n\\n               Why are we so successful?\\n\\n                         MOTIVATIONAL COUNSELLOR\\n\\n               I\\'m glad you asked me that question!\\n\\n     The motivational counsellor opens some blinds...and we see a\\n\\n     vista of the ant-filled chamber below.\\n\\n                         MOTIVATIONAL COUNSELLOR\\n\\n               What do you see out there?\\n\\n                         Z\\n\\n               ...Ants...\\n\\n                         MOTIVATIONAL COUNSELLOR\\n\\n               Right!  Ants!  Millions of creatures,\\n\\n               each with his assigned task, all\\n\\n               pulling together!\\n\\n     Down below, we see a group of ants carrying a boulder up an\\n\\n     incline.  One worker ants slips, and the boulder rolls down,\\n\\n     crushing his leg.  The other ants rush over -- it looks like\\n\\n     they\\'re going to help their fallen comrade, but instead, they\\n\\n     climb right over him, and pick up the boulder, continuing\\n\\n     with their task.\\n\\n                         MOTIVATIONAL COUNSELLOR\\n\\n               You see?  Being an ant is being able\\n\\n               to say, \"Hey -- \\n\\nI\\'m\\n\\n meaningless,\\n\\nyou\\'re\\n\\n meaningless.\"\\n\\n                         Z\\n\\n               But -- but I\\'ve always felt life was\\n\\n               about finding meaning...and then\\n\\n               sharing it with someone special,\\n\\n               someone you love.\\n\\n     The motivational counsellor puts his arm on Z\\'s shoulder...he\\n\\n     seems to understand...\\n\\n                         MOTIVATIONAL COUNSELLOR\\n\\n               Z...you need help.\\n\\n                      (looking at a clock)\\n\\n               Whoops!  We\\'re gonna have to stop\\n\\n               there.  Your minute is up!\\n\\n     '"
      ]
     },
     "execution_count": 122,
     "metadata": {},
     "output_type": "execute_result"
    }
   ],
   "source": [
    "antz_script2[:5000]\n",
    "#25 before a character name\n",
    "#22 after a character name and before a parenthetical\n",
    "#15 after a parenthetical and before a line\n",
    "#15 between lines\n",
    "#5 after a line is done and before scene headers\n",
    "#5 between scene headers\n",
    "#25 before a character's name\n",
    "#15 between between a character's name and their line\n",
    "# 5 after the end of a character's line and before a scene header"
   ]
  },
  {
   "cell_type": "code",
   "execution_count": 130,
   "metadata": {},
   "outputs": [
    {
     "data": {
      "text/plain": [
       "25"
      ]
     },
     "execution_count": 130,
     "metadata": {},
     "output_type": "execute_result"
    }
   ],
   "source": [
    "test_line = \"\\n\\n                         Z\\n\\n\"\n",
    "len(test_line)\n",
    "len(test_line[2:-3])"
   ]
  },
  {
   "cell_type": "code",
   "execution_count": 153,
   "metadata": {},
   "outputs": [],
   "source": [
    "test = re.findall(r\"(\\b[A-Z]['A-Z ]+[0-9]?)+\", antz_script2)"
   ]
  },
  {
   "cell_type": "code",
   "execution_count": 154,
   "metadata": {},
   "outputs": [
    {
     "data": {
      "text/plain": [
       "1346"
      ]
     },
     "execution_count": 154,
     "metadata": {},
     "output_type": "execute_result"
    }
   ],
   "source": [
    "len(test)"
   ]
  },
  {
   "cell_type": "code",
   "execution_count": 136,
   "metadata": {},
   "outputs": [
    {
     "data": {
      "text/plain": [
       "['Z ', \"I'\", 'EXT', 'AN ANT MOUND ', 'DAY\\n', 'MAIN CHAMBER ', 'Z ', \"I'\", 'INT', \"MOTIVATIONAL COUNSELLOR'S OFFICE \", 'DAY\\n', 'I ', \"I'\", 'I ', 'I ', \"I'\", \"I'\", 'I ', 'I ', 'I ']"
      ]
     },
     "execution_count": 136,
     "metadata": {},
     "output_type": "execute_result"
    }
   ],
   "source": [
    "test[:20]"
   ]
  },
  {
   "cell_type": "code",
   "execution_count": 146,
   "metadata": {},
   "outputs": [],
   "source": [
    " #What if we include that extra space ahead of a character's name?\n",
    "test2 = re.findall(r\" {25}(\\b['A-Z ]+[0-9]?)+\", antz_script2)"
   ]
  },
  {
   "cell_type": "code",
   "execution_count": 147,
   "metadata": {},
   "outputs": [
    {
     "data": {
      "text/plain": [
       "659"
      ]
     },
     "execution_count": 147,
     "metadata": {},
     "output_type": "execute_result"
    }
   ],
   "source": [
    "len(test2)"
   ]
  },
  {
   "cell_type": "code",
   "execution_count": 149,
   "metadata": {},
   "outputs": [
    {
     "data": {
      "text/plain": [
       "['Z ', 'Z ', 'Z', 'MOTIVATIONAL COUNSELLOR', 'Z', 'MOTIVATIONAL COUNSELLOR', 'MOTIVATIONAL COUNSELLOR', 'MOTIVATIONAL COUNSELLOR', 'Z', 'MOTIVATIONAL COUNSELLOR', 'MOTIVATIONAL COUNSELLOR', 'Z', 'MOTIVATIONAL COUNSELLOR', 'MOTIVATIONAL COUNSELLOR', 'Z', 'MOTIVATIONAL COUNSELLOR', 'MOTIVATIONAL COUNSELLOR', 'AZTECA', 'Z', 'AZTECA']"
      ]
     },
     "execution_count": 149,
     "metadata": {},
     "output_type": "execute_result"
    }
   ],
   "source": [
    "test2[:20]"
   ]
  },
  {
   "cell_type": "code",
   "execution_count": 148,
   "metadata": {},
   "outputs": [
    {
     "data": {
      "text/plain": [
       "{'WORKER ANTS', 'WORKER ', 'WORKERS', 'BEETLE', 'QUEEN', 'GUARD ANT', 'FADE TO', 'Z', 'MOTIVATIONAL COUNSELLOR', 'BALA ', 'BALA', 'TRACKER ANT', 'COMMANDO ', 'ANT SOLDIERS', 'FORMICA ', 'MAJOR MANDIBLE', 'COMMANDO ANT', 'FOREMAN', 'PRINCESS', 'CUT TO', 'SOLDIER ANTS', 'BARKER', 'MANDIBLE', 'WEAVER', 'FEMALE WASP ', 'LOUD VOICE', 'WORKER', 'SOLDIERS', 'COLONEL', 'OFFICER', 'AZTECA', 'WASP', 'BARBATUS', 'WORKER ANT ', 'MALE WASP', 'SOLDIER ANT', 'EXCITED ANTS', 'Z ', 'FEMALE WASP', 'HANDMAIDEN ', 'COMMANDO ANT ', 'CRICKET', 'ALL', 'LADYBUG', 'BUTTERFLY', 'APHIDS', 'CARPENTER', 'THE WASPS', 'BARTENDER', 'MALE WASP ', 'TOUGH VOICE ', 'FORMICA', 'FLY', 'ANT OFFICER', 'DRUNK SCOUT', 'SOLDIER ', 'SOLDIER', 'BARBATUS ', 'GENERAL FORMICA'}"
      ]
     },
     "execution_count": 148,
     "metadata": {},
     "output_type": "execute_result"
    }
   ],
   "source": [
    "set(test2) \n",
    "#wrong hits: FADE TO, CUT TO"
   ]
  },
  {
   "cell_type": "code",
   "execution_count": 50,
   "metadata": {},
   "outputs": [
    {
     "data": {
      "text/plain": [
       "15"
      ]
     },
     "execution_count": 50,
     "metadata": {},
     "output_type": "execute_result"
    }
   ],
   "source": [
    "test3 = re.findall(r\" {46}([\\s\\S]{,100})\", antz_script2)\n",
    "len(test3)"
   ]
  },
  {
   "cell_type": "code",
   "execution_count": 51,
   "metadata": {},
   "outputs": [
    {
     "data": {
      "text/plain": [
       "[\"CUT TO:\\n\\n     INT. DORMITORY - THE NEXT DAY\\n\\n     Z is talking to Weaver, who's getting ready to go \", 'CUT TO:\\n\\n     INT. EARLY MEGA-TUNNEL - DAY\\n\\n     Weaver is \"passing\" as a worker, working alongside ', 'CUT TO:\\n\\n     INT. TOWN CENTER - DAY\\n\\n     A huge crowd is forming, eager to welcome the army back. ', 'CUT TO:\\n\\n     INT. THRONE ROOM - DAY\\n\\n     Z follows Formica and Carpenter into the throne room.  At', 'CUT TO:\\n\\n     EXT. WEED CLUMP - DAY\\n\\n     Z and Bala dust themselves off.\\n\\n                         ', 'CUT TO:\\n\\n     EXT. INSECTOPIA - NIGHT\\n\\n     The insects are having a \\n\\ncookout\\n\\n, their faces illumi', 'CUT TO:\\n\\n     INT. INSECTOPIA - NIGHT\\n\\n     Z, the termite, the beetle and the fly are happily carry', 'CUT TO:\\n\\n     EXT. SKY ABOVE COLONY - MORNING\\n\\n     The wasp and Z fly high above the colony...\\n\\n   ', 'CUT TO:\\n\\n     INT. ANT MOUND - DAY\\n\\n     Elsewhere in the colony, a column of soldiers marches by, a', 'CUT TO:\\n\\n     EXT. ANT MOUND - DAY\\n\\n     Outside of the colony, where Formica, surrounded by the arm', 'CUT TO:\\n\\n     INT. TOWN CENTER - DAY\\n\\n     The huge main chamber of the colony, where most of the\\n\\n ', 'FADE TO:\\n\\n     CLOSE UP OF Z\\n\\n     As he addresses the audience, stand-up style.\\n\\n                  ', 'CUT TO:\\n\\n     INT. TOWN CENTER - DAY\\n\\n     A HUGE ASSEMBLY OF ANTS applauds as Z who is given a meda', \"CUT TO:\\n\\n     GENERAL FORMICA'S FACE, looking extremely dispeptic.\\n\\n                         Z (V.O.\", \"CUT TO:\\n\\n     WEAVER, in Formica's old office, in a general's uniform, his\\n\\n     feet up on Formica'\"]"
      ]
     },
     "execution_count": 51,
     "metadata": {},
     "output_type": "execute_result"
    }
   ],
   "source": [
    "test3"
   ]
  },
  {
   "cell_type": "code",
   "execution_count": 45,
   "metadata": {},
   "outputs": [
    {
     "data": {
      "text/plain": [
       "'CUT TO:\\n\\n     I'"
      ]
     },
     "execution_count": 45,
     "metadata": {},
     "output_type": "execute_result"
    }
   ],
   "source": [
    "#all the things w/ 46 spaces in front of them are CUT TO:'s and FADE TO:'s\n",
    "test3[0][:15]"
   ]
  },
  {
   "cell_type": "code",
   "execution_count": 150,
   "metadata": {},
   "outputs": [],
   "source": [
    "antz_scr = re.sub(r\"\\n\\n {25}(\\b['A-Z ]+[0-9]?)+\", r'_NEWLINE_\\1_', antz_script2)"
   ]
  },
  {
   "cell_type": "code",
   "execution_count": 151,
   "metadata": {},
   "outputs": [
    {
     "data": {
      "text/plain": [
       "'_NEWLINE_Z _(O.S.)\\n\\n                      (over a dark screen)\\n\\n               All my life, I\\'ve lived and worked in\\n\\n               the big city...\\n\\n     We see:\\n\\n     EXT. AN ANT MOUND - DAY\\n\\n     The camera swoops towards the entrance, then dives inside,\\n\\n     past a couple of tough-looking soldier ants who stand at the\\n\\n     gates of the ant colony like insect bouncers...into an access\\n\\n     tunnel that snakes this way and that, past a row of ants\\n\\n     plodding along...\\n\\n     ...and into the MAIN CHAMBER of the colony, a huge, teeming\\n\\n     vista that seems to stretch away forever, filled with ants\\n\\n     rushing here and there on their business.  We see -- a\\n\\n     \"traffic cop\" directing foot traffic, waving his arms like\\n\\n     crazy so both sides move at once -- a column of \\n\\nsoldier ants\\n\\n     marching along in formation -- a chain of ants letting down\\n\\n     a \\n\\nmatchbox\\n\\n elevator filled with workers._NEWLINE_Z _(V.O.)\\n\\n               ...which is kind of a problem, since\\n\\n               I\\'ve always felt uncomfortably in\\n\\n               crowds.\\n\\n     INT. MOTIVATIONAL COUNSELLOR\\'S OFFICE - DAY\\n\\n     We join Z, a worker ant with issues.  He\\'s lying on a couch,\\n\\n     recounting his woes._NEWLINE_Z_\\n\\n               I feel...isolated.  Different.  I\\'ve\\n\\n               got abandonment issues.  My father\\n\\n               flew away when I was just a larva.\\n\\n               My mother didn\\'t have much time for\\n\\n               me...when you have five million\\n\\n               siblings, it\\'s difficult to get\\n\\n               attention.\\n\\n                      (pause)\\n\\n               I feel physically inadequate -- I\\'ve\\n\\n               never been able to lift more than ten\\n\\n               times my own weight.  Sometimes I\\n\\n               think I\\'m just not cut out to be a\\n\\n               worker.  But I don\\'t have any other\\n\\n               options.  I was assigned to trade\\n\\n               school when I was just a \\n\\ngrub\\n\\n.  The\\n\\n               whole system just...makes me\\n\\n               feel...\\n\\ninsignificant\\n\\n._NEWLINE_MOTIVATIONAL COUNSELLOR_\\n\\n                      (enthusiastic)\\n\\n               Terrific!  You \\n\\nshould\\n\\n feel\\n\\n               insignificant!\\n\\n     For the first time, we see the ant MOTIVATIONAL COUNSELLOR.\\n\\n     He\\'s a mixture of Tony Robbins and Ron Popiel (the\\n\\n     hyperactive late-night TV huckster, and founder of \"Ronco\")._NEWLINE_Z_\\n\\n               ...I should?_NEWLINE_MOTIVATIONAL COUNSELLOR_\\n\\n                      (hopping around\\n\\n                       enthusiastically)\\n\\n               YES!!!  You know, people ask me,\\n\\n               \"Doctor, why are you always happy?\"\\n\\n               And I tell them it\\'s mind over\\n\\n               matter.  I don\\'t \\n\\nmind\\n\\n that I don\\'t\\n\\nmatter\\n\\n!  Do you get it?  Do you get\\n\\n               it?\\n\\n     Z gives a fake smile._NEWLINE_MOTIVATIONAL COUNSELLOR_\\n\\n                      (incredibly \"up\")\\n\\n               Z, we\\'re part of the \\n\\nfastest growing\\n\\nspecies in the whole world\\n\\n!\\n\\n     The counsellor rolls down a chart from the wall.  An arrow\\n\\n     shows ant population going up, up, up._NEWLINE_MOTIVATIONAL COUNSELLOR_\\n\\n               Ask me why we\\'re so successful._NEWLINE_Z_\\n\\n               Why are we so successful?_NEWLINE_MOTIVATIONAL COUNSELLOR_\\n\\n               I\\'m glad you asked me that question!\\n\\n     The motivational counsellor opens some blinds...and we see a\\n\\n     vista of the ant-filled chamber below._NEWLINE_MOTIVATIONAL COUNSELLOR_\\n\\n               What do you see out there?_NEWLINE_Z_\\n\\n               ...Ants..._NEWLINE_MOTIVATIONAL COUNSELLOR_\\n\\n               Right!  Ants!  Millions of creatures,\\n\\n               each with his assigned task, all\\n\\n               pulling together!\\n\\n     Down below, we see a group of ants carrying a boulder up an\\n\\n     incline.  One worker ants slips, and the boulder rolls down,\\n\\n     crushing his leg.  The other ants rush over -- it looks like\\n\\n     they\\'re going to help their fallen comrade, but instead, they\\n\\n     climb right over him, and pick up the boulder, continuing\\n\\n     with their task._NEWLINE_MOTIVATIONAL COUNSELLOR_\\n\\n               You see?  Being an ant is being able\\n\\n               to say, \"Hey -- \\n\\nI\\'m\\n\\n meaningless,\\n\\nyou\\'re\\n\\n meaningless.\"_NEWLINE_Z_\\n\\n               But -- but I\\'ve always felt life was\\n\\n               about finding meaning...and then\\n\\n               sharing it with someone special,\\n\\n               someone you love.\\n\\n     The motivational counsellor puts his arm on Z\\'s shoulder...he\\n\\n     seems to understand..._NEWLINE_MOTIVATIONAL COUNSELLOR_\\n\\n               Z...you need help.\\n\\n                      (looking at a clock)\\n\\n               Whoops!  We\\'re gonna have to stop\\n\\n               there.  Your minute is up!\\n\\n     The counsellor ushers Z out of his seat and towards the door._NEWLINE_MOTIVATIONAL COUNSELLOR_\\n\\n               Now back to work!  We\\'ve made \\n\\nreal\\n\\nprogress\\n\\n!  Remember -- let\\'s be\\n\\n               best superorganism we can be!\\n\\n     INT. EARLY MEGA-TUNNEL - DAY\\n\\n     A '"
      ]
     },
     "execution_count": 151,
     "metadata": {},
     "output_type": "execute_result"
    }
   ],
   "source": [
    "antz_scr[:5000]"
   ]
  },
  {
   "cell_type": "code",
   "execution_count": 152,
   "metadata": {},
   "outputs": [
    {
     "name": "stdout",
     "output_type": "stream",
     "text": [
      "2732\n"
     ]
    }
   ],
   "source": [
    "#reanalyze the spacing:\n",
    "white_space2 = re.findall(\" {3,}\", antz_scr)\n",
    "print(len(white_space2)) #2939 checks out, since we found 659 spaces of 25 or more, and 15 spaces of 46."
   ]
  },
  {
   "cell_type": "code",
   "execution_count": null,
   "metadata": {},
   "outputs": [],
   "source": [
    "#making sure I only found lines\n"
   ]
  },
  {
   "cell_type": "code",
   "execution_count": 155,
   "metadata": {},
   "outputs": [
    {
     "name": "stdout",
     "output_type": "stream",
     "text": [
      "[22, 15, 15, 5, 5, 5, 5, 5, 5, 5, 5, 5, 5, 5, 5, 5, 5, 15, 15, 15, 5, 5, 5, 15, 15, 15, 15, 15, 15, 15, 22, 15, 15, 15, 15, 15, 15, 15, 15, 15, 22, 15, 15, 5, 5, 5, 15, 22, 23, 15]\n",
      "{3, 5, 46, 15, 22, 23}\n"
     ]
    }
   ],
   "source": [
    "len_w_s = [len(x) for x in white_space2]\n",
    "print(len_w_s[:50])\n",
    "print(set(len_w_s))"
   ]
  },
  {
   "cell_type": "code",
   "execution_count": 156,
   "metadata": {},
   "outputs": [],
   "source": [
    "antz_lines = antz_scr.split('_NEWLINE_')"
   ]
  },
  {
   "cell_type": "code",
   "execution_count": 157,
   "metadata": {},
   "outputs": [
    {
     "data": {
      "text/plain": [
       "645"
      ]
     },
     "execution_count": 157,
     "metadata": {},
     "output_type": "execute_result"
    }
   ],
   "source": [
    "len(antz_lines) #659-15 (once the blank entry at the beginning is removed)"
   ]
  },
  {
   "cell_type": "code",
   "execution_count": 158,
   "metadata": {},
   "outputs": [
    {
     "data": {
      "text/plain": [
       "['Z _(O.S.)\\n\\n                      (over a dark screen)\\n\\n               All my life, I\\'ve lived and worked in\\n\\n               the big city...\\n\\n     We see:\\n\\n     EXT. AN ANT MOUND - DAY\\n\\n     The camera swoops towards the entrance, then dives inside,\\n\\n     past a couple of tough-looking soldier ants who stand at the\\n\\n     gates of the ant colony like insect bouncers...into an access\\n\\n     tunnel that snakes this way and that, past a row of ants\\n\\n     plodding along...\\n\\n     ...and into the MAIN CHAMBER of the colony, a huge, teeming\\n\\n     vista that seems to stretch away forever, filled with ants\\n\\n     rushing here and there on their business.  We see -- a\\n\\n     \"traffic cop\" directing foot traffic, waving his arms like\\n\\n     crazy so both sides move at once -- a column of \\n\\nsoldier ants\\n\\n     marching along in formation -- a chain of ants letting down\\n\\n     a \\n\\nmatchbox\\n\\n elevator filled with workers.', \"Z _(V.O.)\\n\\n               ...which is kind of a problem, since\\n\\n               I've always felt uncomfortably in\\n\\n               crowds.\\n\\n     INT. MOTIVATIONAL COUNSELLOR'S OFFICE - DAY\\n\\n     We join Z, a worker ant with issues.  He's lying on a couch,\\n\\n     recounting his woes.\"]"
      ]
     },
     "execution_count": 158,
     "metadata": {},
     "output_type": "execute_result"
    }
   ],
   "source": [
    "antz_lines = antz_lines[1:]\n",
    "antz_lines[0:2]"
   ]
  },
  {
   "cell_type": "code",
   "execution_count": 102,
   "metadata": {},
   "outputs": [
    {
     "data": {
      "text/plain": [
       "['Z _(O.S.)\\n\\n                      (over a dark screen)\\n\\n               All my life, I\\'ve lived and worked in\\n\\n               the big city...\\n\\n     We see:\\n\\n     EXT. AN ANT MOUND - DAY\\n\\n     The camera swoops towards the entrance, then dives inside,\\n\\n     past a couple of tough-looking soldier ants who stand at the\\n\\n     gates of the ant colony like insect bouncers...into an access\\n\\n     tunnel that snakes this way and that, past a row of ants\\n\\n     plodding along...\\n\\n     ...and into the MAIN CHAMBER of the colony, a huge, teeming\\n\\n     vista that seems to stretch away forever, filled with ants\\n\\n     rushing here and there on their business.  We see -- a\\n\\n     \"traffic cop\" directing foot traffic, waving his arms like\\n\\n     crazy so both sides move at once -- a column of \\n\\nsoldier ants\\n\\n     marching along in formation -- a chain of ants letting down\\n\\n     a \\n\\nmatchbox\\n\\n elevator filled with workers.', \"Z _(V.O.)\\n\\n               ...which is kind of a problem, since\\n\\n               I've always felt uncomfortably in\\n\\n               crowds.\\n\\n     INT. MOTIVATIONAL COUNSELLOR'S OFFICE - DAY\\n\\n     We join Z, a worker ant with issues.  He's lying on a couch,\\n\\n     recounting his woes.\\n\\n                         Z\\n\\n               I feel...isolated.  Different.  I've\\n\\n               got abandonment issues.  My father\\n\\n               flew away when I was just a larva.\\n\\n               My mother didn't have much time for\\n\\n               me...when you have five million\\n\\n               siblings, it's difficult to get\\n\\n               attention.\\n\\n                      (pause)\\n\\n               I feel physically inadequate -- I've\\n\\n               never been able to lift more than ten\\n\\n               times my own weight.  Sometimes I\\n\\n               think I'm just not cut out to be a\\n\\n               worker.  But I don't have any other\\n\\n               options.  I was assigned to trade\\n\\n               school when I was just a \\n\\ngrub\\n\\n.  The\\n\\n               whole system just...makes me\\n\\n               feel...\\n\\ninsignificant\\n\\n.\", 'MOTIVATIONAL COUNSELLOR_\\n\\n                      (enthusiastic)\\n\\n               Terrific!  You \\n\\nshould\\n\\n feel\\n\\n               insignificant!\\n\\n     For the first time, we see the ant MOTIVATIONAL COUNSELLOR.\\n\\n     He\\'s a mixture of Tony Robbins and Ron Popiel (the\\n\\n     hyperactive late-night TV huckster, and founder of \"Ronco\").\\n\\n                         Z\\n\\n               ...I should?']"
      ]
     },
     "execution_count": 102,
     "metadata": {},
     "output_type": "execute_result"
    }
   ],
   "source": [
    "antz_lines[0:3]"
   ]
  },
  {
   "cell_type": "code",
   "execution_count": 159,
   "metadata": {},
   "outputs": [],
   "source": [
    "headers = re.findall(r\"\\n\\n {5}\\S+\", antz_lines[0])"
   ]
  },
  {
   "cell_type": "code",
   "execution_count": 160,
   "metadata": {},
   "outputs": [
    {
     "data": {
      "text/plain": [
       "['\\n\\n     We', '\\n\\n     EXT.', '\\n\\n     The', '\\n\\n     past', '\\n\\n     gates', '\\n\\n     tunnel', '\\n\\n     plodding', '\\n\\n     ...and', '\\n\\n     vista', '\\n\\n     rushing', '\\n\\n     \"traffic', '\\n\\n     crazy', '\\n\\n     marching', '\\n\\n     a']"
      ]
     },
     "execution_count": 160,
     "metadata": {},
     "output_type": "execute_result"
    }
   ],
   "source": [
    "headers"
   ]
  },
  {
   "cell_type": "code",
   "execution_count": 105,
   "metadata": {},
   "outputs": [],
   "source": [
    "##antz_lines[0] = re.sub(r\"\\n\\n {5}\\S+\",r\"_HEADER_\", antz_lines[0])"
   ]
  },
  {
   "cell_type": "code",
   "execution_count": 106,
   "metadata": {},
   "outputs": [
    {
     "data": {
      "text/plain": [
       "'Z _(O.S.)\\n\\n                      (over a dark screen)\\n\\n               All my life, I\\'ve lived and worked in\\n\\n               the big city..._HEADER_ see:_HEADER_ AN ANT MOUND - DAY_HEADER_ camera swoops towards the entrance, then dives inside,_HEADER_ a couple of tough-looking soldier ants who stand at the_HEADER_ of the ant colony like insect bouncers...into an access_HEADER_ that snakes this way and that, past a row of ants_HEADER_ along..._HEADER_ into the MAIN CHAMBER of the colony, a huge, teeming_HEADER_ that seems to stretch away forever, filled with ants_HEADER_ here and there on their business.  We see -- a_HEADER_ cop\" directing foot traffic, waving his arms like_HEADER_ so both sides move at once -- a column of \\n\\nsoldier ants_HEADER_ along in formation -- a chain of ants letting down_HEADER_ \\n\\nmatchbox\\n\\n elevator filled with workers.'"
      ]
     },
     "execution_count": 106,
     "metadata": {},
     "output_type": "execute_result"
    }
   ],
   "source": [
    "##antz_lines[0]"
   ]
  },
  {
   "cell_type": "code",
   "execution_count": 161,
   "metadata": {},
   "outputs": [],
   "source": [
    "antz_lines_2 = []\n",
    "for line in antz_lines:\n",
    "    line = re.sub(r\"\\n\\n {5}\\S+\", r\"_HEADER_\", line)\n",
    "    real_line = line.split(\"_HEADER_\")[0]\n",
    "    antz_lines_2.append(real_line)"
   ]
  },
  {
   "cell_type": "code",
   "execution_count": 162,
   "metadata": {},
   "outputs": [
    {
     "data": {
      "text/plain": [
       "644"
      ]
     },
     "execution_count": 162,
     "metadata": {},
     "output_type": "execute_result"
    }
   ],
   "source": [
    "len(antz_lines_2) #should still be 644"
   ]
  },
  {
   "cell_type": "code",
   "execution_count": 163,
   "metadata": {},
   "outputs": [
    {
     "data": {
      "text/plain": [
       "[\"Z _(O.S.)\\n\\n                      (over a dark screen)\\n\\n               All my life, I've lived and worked in\\n\\n               the big city...\", \"Z _(V.O.)\\n\\n               ...which is kind of a problem, since\\n\\n               I've always felt uncomfortably in\\n\\n               crowds.\", \"Z_\\n\\n               I feel...isolated.  Different.  I've\\n\\n               got abandonment issues.  My father\\n\\n               flew away when I was just a larva.\\n\\n               My mother didn't have much time for\\n\\n               me...when you have five million\\n\\n               siblings, it's difficult to get\\n\\n               attention.\\n\\n                      (pause)\\n\\n               I feel physically inadequate -- I've\\n\\n               never been able to lift more than ten\\n\\n               times my own weight.  Sometimes I\\n\\n               think I'm just not cut out to be a\\n\\n               worker.  But I don't have any other\\n\\n               options.  I was assigned to trade\\n\\n               school when I was just a \\n\\ngrub\\n\\n.  The\\n\\n               whole system just...makes me\\n\\n               feel...\\n\\ninsignificant\\n\\n.\", 'MOTIVATIONAL COUNSELLOR_\\n\\n                      (enthusiastic)\\n\\n               Terrific!  You \\n\\nshould\\n\\n feel\\n\\n               insignificant!', 'Z_\\n\\n               ...I should?', 'MOTIVATIONAL COUNSELLOR_\\n\\n                      (hopping around\\n\\n                       enthusiastically)\\n\\n               YES!!!  You know, people ask me,\\n\\n               \"Doctor, why are you always happy?\"\\n\\n               And I tell them it\\'s mind over\\n\\n               matter.  I don\\'t \\n\\nmind\\n\\n that I don\\'t\\n\\nmatter\\n\\n!  Do you get it?  Do you get\\n\\n               it?', 'MOTIVATIONAL COUNSELLOR_\\n\\n                      (incredibly \"up\")\\n\\n               Z, we\\'re part of the \\n\\nfastest growing\\n\\nspecies in the whole world\\n\\n!', \"MOTIVATIONAL COUNSELLOR_\\n\\n               Ask me why we're so successful.\", 'Z_\\n\\n               Why are we so successful?', \"MOTIVATIONAL COUNSELLOR_\\n\\n               I'm glad you asked me that question!\", 'MOTIVATIONAL COUNSELLOR_\\n\\n               What do you see out there?', 'Z_\\n\\n               ...Ants...', 'MOTIVATIONAL COUNSELLOR_\\n\\n               Right!  Ants!  Millions of creatures,\\n\\n               each with his assigned task, all\\n\\n               pulling together!', 'MOTIVATIONAL COUNSELLOR_\\n\\n               You see?  Being an ant is being able\\n\\n               to say, \"Hey -- \\n\\nI\\'m\\n\\n meaningless,\\n\\nyou\\'re\\n\\n meaningless.\"', \"Z_\\n\\n               But -- but I've always felt life was\\n\\n               about finding meaning...and then\\n\\n               sharing it with someone special,\\n\\n               someone you love.\", \"MOTIVATIONAL COUNSELLOR_\\n\\n               Z...you need help.\\n\\n                      (looking at a clock)\\n\\n               Whoops!  We're gonna have to stop\\n\\n               there.  Your minute is up!\", \"MOTIVATIONAL COUNSELLOR_\\n\\n               Now back to work!  We've made \\n\\nreal\\n\\nprogress\\n\\n!  Remember -- let's be\\n\\n               best superorganism we can be!\", \"AZTECA_\\n\\n               Hello?!  Earth to Z!  You better snap\\n\\n               out of it, or there's gonna be a lot\\n\\n               of pissed off ants!\", \"Z_\\n\\n                      (snapping out of it)\\n\\n               Sorry Azteca.  Here you go, fellas!\\n\\n               Fresh dirt!  Alley oop!\\n\\n                      (looking at the dirt)\\n\\n               Shouldn't we be wearing gloves?  I\\n\\n               mean this dirt is very...dirty.\\n\\n               Doesn't anyone think of hygiene?\\n\\n                      (Z's stomach growls)\\n\\n               Boy am I hungry.  I'm so hungry I'm\\n\\n               seeing double.  It looks like there's\\n\\ntwo\\n\\n million ants in here.  When's\\n\\n               lunch?  Tomorrow, or the day after?\", \"AZTECA_\\n\\n                      (sweetly)\\n\\n               Z, old pal...\\n\\n                      (shouts)\\n\\n               SHUT UP!!!  It's bad enough there's\\n\\n               a food shortage without you\\n\\n               complaining about it every day.\", 'Z_\\n\\n               The squeaky wheel gets the oil.', \"AZTECA_\\n\\n               No, Z.  The squeaky wheel gets \\n\\nthrown\\n\\naway\\n\\n, alright?  You're a good ant, Z,\\n\\n               even though you are a pain in my rear-\\n\\n               segment.  I don't wanna see\\n\\n               anything happen to you.  So quit\\n\\n               mouthing off, before you get in\\n\\n               trouble.\", 'Z_\\n\\n               Thank goodness.  Breaktime.', \"AZTECA_\\n\\n                      (resigned)\\n\\n               Break's over.\", 'Z_\\n\\n                      (getting back to work)\\n\\n               This colony needs another tunnel like\\n\\n               a hole in the ground.  Why are we\\n\\n               even digging this thing?', \"AZTECA_\\n\\n               Who cares, Z.  All I know is, we\\n\\n               gotta dig.  We're not the ones in\\n\\n               charge.\", 'GENERAL FORMICA_\\n\\n               STAIRS!', \"GENERAL FORMICA_\\n\\n               Cut the chit-chat down there!\\n\\n                      (turning to Carpenter)\\n\\n               We've spoiled these workers,\\n\\n               Carpenter.  They've never had it so\\n\\n               good, and listen to them -- always\\n\\n               grumbling and complaining...\", 'CARPENTER_\\n\\n               ...Yes, sir.', 'GENERAL FORMICA_\\n\\n               What have they got to complain about?\\n\\n               Three square meals a day...', \"CARPENTER_\\n\\n               Actually, sir, we've cut them down to\\n\\n               three roughly rectangular meals a\\n\\n               week.\", \"FORMICA_\\n\\n               Don't give me statistics, Carpenter.\\n\\n               I know what I'm talking about.  DOORS!\", 'FORMICA_\\n\\n                      (to guard ant, while\\n\\n                       passing)\\n\\n               Oil that, soldier.', 'QUEEN_\\n\\n               Ah!  General Formica.', \"QUEEN_\\n\\n               General, the severe food shortage\\n\\n               that faces the colony...\\n\\npains\\n\\n me.\\n\\n               The thought of any of my children\\n\\n               going hungry...\\n\\n                      (she shudders; then,\\n\\n                       to baby)\\n\\n               Who's the cutest widdle worker?  You\\n\\n               are!  Yes, you!  Don't forget to\\n\\n               brush your teeth!\\n\\n                      (to mid-wife)\\n\\n               Ship 'er out.\\n\\n                      (back to Formica)\\n\\n               What steps are you taking to remedy\\n\\n               the situation?\", 'FORMICA_\\n\\n               We are launching a major offensive to\\n\\n               expand our foraging territory...', 'QUEEN_\\n\\n               Yes, what else?', \"FORMICA_\\n\\n               Please don't worry, your majesty.\\n\\n               Leave the worrying to me.  As you\\n\\n               know, I'm not an ant of half-\\n\\n               measures.  I don't pussyfoot around.\\n\\n               This crisis is my number one\\n\\n               priority, and I promise you it's\\n\\n               being dealt with swiftly, and\\n\\n               decisively.\", 'QUEEN_\\n\\n                      (to baby)\\n\\n               No snacking between meals!  Off you\\n\\n               go!\\n\\n                      (to Formica)\\n\\n               Now -- what were we saying?', 'FORMICA_\\n\\n                      (Oliver North-style)\\n\\n               I do not recollect, your majesty.\\n\\n               Will that be all?', \"QUEEN_\\n\\n               Yes, General Formica.  Carry on, my\\n\\n               good man!  I don't know what we would\\n\\n               do without you.\", 'BALA _(O.S.)\\n\\n               General Formica!', 'CARPENTER_\\n\\n                      (sotto)\\n\\n               Princess Bala, sir.  Your fiancee.', 'FORMICA_\\n\\n               Princess!  You look -- outstanding.\\n\\n               Is there anything I can do for you?', \"BALA_\\n\\n               Well -- I thought -- since we're\\n\\n               getting married...it might be nice if\\n\\n               we...got to know one another.\", 'QUEEN_\\n\\n               Bala has always been a hopeless\\n\\n               romantic, General.', \"BALA_\\n\\n               It's just that -- well, I'm honored\\n\\n               that you selected me, and everything,\\n\\n               I just thought the marriage might go\\n\\n               a little more smoothly if -- we had\\n\\n               a conversation?\", \"FORMICA_\\n\\n                      (uncomfortable)\\n\\n               Conversation...yes...well...\\n\\n                      (to Carpenter)\\n\\n               Wasn't she briefed?\", \"QUEEN_\\n\\n                      (holding up a baby)\\n\\n               Look, General!  A darling baby\\n\\n               soldier!\\n\\n                      (emotionally, to baby)\\n\\n               Don't try to be a hero!  Just make\\n\\n               sure you come back in one piece!\\n\\n                      (handing it off)\\n\\n               Next!\", \"FORMICA_\\n\\n                      (using the\\n\\n                       interruption)\\n\\n               I'll take your suggestion under\\n\\n               advisement, Princess.  In the\\n\\n               meanwhile --\"]"
      ]
     },
     "execution_count": 163,
     "metadata": {},
     "output_type": "execute_result"
    }
   ],
   "source": [
    "antz_lines_2[:50]"
   ]
  },
  {
   "cell_type": "code",
   "execution_count": null,
   "metadata": {},
   "outputs": [],
   "source": []
  },
  {
   "cell_type": "code",
   "execution_count": 168,
   "metadata": {},
   "outputs": [],
   "source": [
    "#now, let's remove all the new line characters and parentheticals\n",
    "antz_lines_final = []\n",
    "for line in antz_lines_2:\n",
    "    line = re.sub(\"\\n\", ' ', line)\n",
    "    line = re.sub(\" {3,}\", ' ', line)\n",
    "    line = re.sub(r\"\\([^\\)]*\\)\", '', line)\n",
    "    antz_lines_final.append(line)"
   ]
  },
  {
   "cell_type": "code",
   "execution_count": 190,
   "metadata": {},
   "outputs": [
    {
     "data": {
      "text/plain": [
       "[\"Z _  All my life, I've lived and worked in the big city...\", \"Z _ ...which is kind of a problem, since I've always felt uncomfortably in crowds.\", \"Z_ I feel...isolated.  Different.  I've got abandonment issues.  My father flew away when I was just a larva. My mother didn't have much time for me...when you have five million siblings, it's difficult to get attention.  I feel physically inadequate -- I've never been able to lift more than ten times my own weight.  Sometimes I think I'm just not cut out to be a worker.  But I don't have any other options.  I was assigned to trade school when I was just a grub  .  The whole system just...makes me feel...  insignificant  .\", 'MOTIVATIONAL COUNSELLOR_  Terrific!  You should feel insignificant!', 'Z_ ...I should?', 'MOTIVATIONAL COUNSELLOR_  YES!!!  You know, people ask me, \"Doctor, why are you always happy?\" And I tell them it\\'s mind over matter.  I don\\'t mind that I don\\'t  matter  !  Do you get it?  Do you get it?', \"MOTIVATIONAL COUNSELLOR_  Z, we're part of the fastest growing  species in the whole world  !\", \"MOTIVATIONAL COUNSELLOR_ Ask me why we're so successful.\", 'Z_ Why are we so successful?', \"MOTIVATIONAL COUNSELLOR_ I'm glad you asked me that question!\", 'MOTIVATIONAL COUNSELLOR_ What do you see out there?', 'Z_ ...Ants...', 'MOTIVATIONAL COUNSELLOR_ Right!  Ants!  Millions of creatures, each with his assigned task, all pulling together!', 'MOTIVATIONAL COUNSELLOR_ You see?  Being an ant is being able to say, \"Hey -- I\\'m meaningless,  you\\'re meaningless.\"', \"Z_ But -- but I've always felt life was about finding meaning...and then sharing it with someone special, someone you love.\", \"MOTIVATIONAL COUNSELLOR_ Z...you need help.  Whoops!  We're gonna have to stop there.  Your minute is up!\", \"MOTIVATIONAL COUNSELLOR_ Now back to work!  We've made real  progress  !  Remember -- let's be best superorganism we can be!\", \"AZTECA_ Hello?!  Earth to Z!  You better snap out of it, or there's gonna be a lot of pissed off ants!\", \"Z_  Sorry Azteca.  Here you go, fellas! Fresh dirt!  Alley oop!  Shouldn't we be wearing gloves?  I mean this dirt is very...dirty. Doesn't anyone think of hygiene?  Boy am I hungry.  I'm so hungry I'm seeing double.  It looks like there's  two million ants in here.  When's lunch?  Tomorrow, or the day after?\", \"AZTECA_  Z, old pal...  SHUT UP!!!  It's bad enough there's a food shortage without you complaining about it every day.\", 'Z_ The squeaky wheel gets the oil.', \"AZTECA_ No, Z.  The squeaky wheel gets thrown  away  , alright?  You're a good ant, Z, even though you are a pain in my rear- segment.  I don't wanna see anything happen to you.  So quit mouthing off, before you get in trouble.\", 'Z_ Thank goodness.  Breaktime.', \"AZTECA_  Break's over.\", 'Z_  This colony needs another tunnel like a hole in the ground.  Why are we even digging this thing?', \"AZTECA_ Who cares, Z.  All I know is, we gotta dig.  We're not the ones in charge.\", 'GENERAL FORMICA_ STAIRS!', \"GENERAL FORMICA_ Cut the chit-chat down there!  We've spoiled these workers, Carpenter.  They've never had it so good, and listen to them -- always grumbling and complaining...\", 'CARPENTER_ ...Yes, sir.', 'GENERAL FORMICA_ What have they got to complain about? Three square meals a day...', \"CARPENTER_ Actually, sir, we've cut them down to three roughly rectangular meals a week.\", \"FORMICA_ Don't give me statistics, Carpenter. I know what I'm talking about.  DOORS!\", 'FORMICA_  Oil that, soldier.', 'QUEEN_ Ah!  General Formica.', \"QUEEN_ General, the severe food shortage that faces the colony...  pains me. The thought of any of my children going hungry...  Who's the cutest widdle worker?  You are!  Yes, you!  Don't forget to brush your teeth!  Ship 'er out.  What steps are you taking to remedy the situation?\", 'FORMICA_ We are launching a major offensive to expand our foraging territory...', 'QUEEN_ Yes, what else?', \"FORMICA_ Please don't worry, your majesty. Leave the worrying to me.  As you know, I'm not an ant of half- measures.  I don't pussyfoot around. This crisis is my number one priority, and I promise you it's being dealt with swiftly, and decisively.\", 'QUEEN_  No snacking between meals!  Off you go!  Now -- what were we saying?', 'FORMICA_  I do not recollect, your majesty. Will that be all?', \"QUEEN_ Yes, General Formica.  Carry on, my good man!  I don't know what we would do without you.\", 'BALA _ General Formica!', 'CARPENTER_  Princess Bala, sir.  Your fiancee.', 'FORMICA_ Princess!  You look -- outstanding. Is there anything I can do for you?', \"BALA_ Well -- I thought -- since we're getting married...it might be nice if we...got to know one another.\", 'QUEEN_ Bala has always been a hopeless romantic, General.', \"BALA_ It's just that -- well, I'm honored that you selected me, and everything, I just thought the marriage might go a little more smoothly if -- we had a conversation?\", \"FORMICA_  Conversation...yes...well...  Wasn't she briefed?\", \"QUEEN_  Look, General!  A darling baby soldier!  Don't try to be a hero!  Just make sure you come back in one piece!  Next!\", \"FORMICA_  I'll take your suggestion under advisement, Princess.  In the meanwhile --\"]"
      ]
     },
     "execution_count": 190,
     "metadata": {},
     "output_type": "execute_result"
    }
   ],
   "source": [
    "antz_lines_final[:50] #Eww, Z's lines are getting swallowed up. How?\n",
    "#Fixed!!!"
   ]
  },
  {
   "cell_type": "code",
   "execution_count": 191,
   "metadata": {},
   "outputs": [],
   "source": [
    "#now, split the lines\n",
    "line_list = []\n",
    "for x in antz_lines_final:\n",
    "    my_list = re.split(\"_ \", x)\n",
    "    my_tu = tuple(my_list)\n",
    "    line_list.append(my_tu) "
   ]
  },
  {
   "cell_type": "code",
   "execution_count": 193,
   "metadata": {},
   "outputs": [
    {
     "data": {
      "text/plain": [
       "644"
      ]
     },
     "execution_count": 193,
     "metadata": {},
     "output_type": "execute_result"
    }
   ],
   "source": [
    "len(line_list)"
   ]
  },
  {
   "cell_type": "code",
   "execution_count": 194,
   "metadata": {},
   "outputs": [],
   "source": [
    "antz_DF = pd.DataFrame(line_list, columns=[\"Speaker\", \"Text\"])"
   ]
  },
  {
   "cell_type": "code",
   "execution_count": 195,
   "metadata": {},
   "outputs": [
    {
     "data": {
      "text/html": [
       "<div>\n",
       "<style scoped>\n",
       "    .dataframe tbody tr th:only-of-type {\n",
       "        vertical-align: middle;\n",
       "    }\n",
       "\n",
       "    .dataframe tbody tr th {\n",
       "        vertical-align: top;\n",
       "    }\n",
       "\n",
       "    .dataframe thead th {\n",
       "        text-align: right;\n",
       "    }\n",
       "</style>\n",
       "<table border=\"1\" class=\"dataframe\">\n",
       "  <thead>\n",
       "    <tr style=\"text-align: right;\">\n",
       "      <th></th>\n",
       "      <th>Speaker</th>\n",
       "      <th>Text</th>\n",
       "    </tr>\n",
       "  </thead>\n",
       "  <tbody>\n",
       "    <tr>\n",
       "      <th>0</th>\n",
       "      <td>Z</td>\n",
       "      <td>All my life, I've lived and worked in the big...</td>\n",
       "    </tr>\n",
       "    <tr>\n",
       "      <th>1</th>\n",
       "      <td>Z</td>\n",
       "      <td>...which is kind of a problem, since I've alwa...</td>\n",
       "    </tr>\n",
       "    <tr>\n",
       "      <th>2</th>\n",
       "      <td>Z</td>\n",
       "      <td>I feel...isolated.  Different.  I've got aband...</td>\n",
       "    </tr>\n",
       "    <tr>\n",
       "      <th>3</th>\n",
       "      <td>MOTIVATIONAL COUNSELLOR</td>\n",
       "      <td>Terrific!  You should feel insignificant!</td>\n",
       "    </tr>\n",
       "    <tr>\n",
       "      <th>4</th>\n",
       "      <td>Z</td>\n",
       "      <td>...I should?</td>\n",
       "    </tr>\n",
       "  </tbody>\n",
       "</table>\n",
       "</div>"
      ],
      "text/plain": [
       "                   Speaker                                               Text\n",
       "0                       Z    All my life, I've lived and worked in the big...\n",
       "1                       Z   ...which is kind of a problem, since I've alwa...\n",
       "2                        Z  I feel...isolated.  Different.  I've got aband...\n",
       "3  MOTIVATIONAL COUNSELLOR          Terrific!  You should feel insignificant!\n",
       "4                        Z                                       ...I should?"
      ]
     },
     "execution_count": 195,
     "metadata": {},
     "output_type": "execute_result"
    }
   ],
   "source": [
    "antz_DF.head()"
   ]
  },
  {
   "cell_type": "code",
   "execution_count": 196,
   "metadata": {},
   "outputs": [],
   "source": [
    "#Let's export this as a pickle file\n",
    "import pickle as pkl"
   ]
  },
  {
   "cell_type": "code",
   "execution_count": 197,
   "metadata": {},
   "outputs": [],
   "source": [
    "antz_DF.to_pickle(r'C:\\Users\\cassi\\Desktop\\Data_Science\\Animated-Movie-Gendered-Dialogue\\private\\antz_lines.pkl')"
   ]
  },
  {
   "cell_type": "markdown",
   "metadata": {},
   "source": [
    "## Onto the next movie: The Croods"
   ]
  },
  {
   "cell_type": "code",
   "execution_count": 398,
   "metadata": {},
   "outputs": [],
   "source": [
    "#getting the script\n",
    "croods = open(r'C:\\Users\\cassi\\Desktop\\Data_Science\\Animated-Movie-Gendered-Dialogue\\private\\imsdb_raw_nov_2015\\Animation\\croodsthe.txt')\n",
    "croods_script = croods.read()\n",
    "croods.close()"
   ]
  },
  {
   "cell_type": "code",
   "execution_count": 399,
   "metadata": {},
   "outputs": [
    {
     "name": "stdout",
     "output_type": "stream",
     "text": [
      "                           THE CROODS\n",
      "\n",
      "                           Written by\n",
      "\n",
      "                 Kirk DeMicco & Chris Sanders\n",
      "\n",
      "                                                       12.12.2012\n",
      "\n",
      "          SEQ. 75 - PROLOGUE\n",
      "\n",
      "                         FADE IN:\n",
      "\n",
      "          A cave painting of the Dreamworks logo. Push past the\n",
      "\n",
      "          moon to the sun. Bright. Beautiful. The sun DISSOLVES\n",
      "\n",
      "                         TO:\n",
      "\n",
      "          Cave paintings of a family of cavemen -- we will come to\n",
      "\n",
      "          know them as The Croods.\n",
      "\n",
      "                          EEP (V.O.)\n",
      "\n",
      "           With every sun comes a new day. A new\n",
      "\n",
      "           beginning. A hope that things will be\n",
      "\n",
      "           better today than they were yesterday.\n",
      "\n",
      "          The Croods scurry out of their cave like mice looking for\n",
      "\n",
      "          food. Scared. Fast.\n",
      "\n",
      "          The Croods are chased by beasts across the desert. They\n",
      "\n",
      "          escape from creatures up trees. They hide behind rocks.\n",
      "\n",
      "                          EEP (V.O.)\n",
      "\n",
      "           But not\n"
     ]
    }
   ],
   "source": [
    "print(croods_script[:1000])"
   ]
  },
  {
   "cell_type": "code",
   "execution_count": 284,
   "metadata": {},
   "outputs": [
    {
     "data": {
      "text/plain": [
       "\"                           THE CROODS\\n\\n                           Written by\\n\\n                 Kirk DeMicco & Chris Sanders\\n\\n                                                       12.12.2012\\n\\n          SEQ. 75 - PROLOGUE\\n\\n                         FADE IN:\\n\\n          A cave painting of the Dreamworks logo. Push past the\\n\\n          moon to the sun. Bright. Beautiful. The sun DISSOLVES\\n\\n                         TO:\\n\\n          Cave paintings of a family of cavemen -- we will come to\\n\\n          know them as The Croods.\\n\\n                          EEP (V.O.)\\n\\n           With every sun comes a new day. A new\\n\\n           beginning. A hope that things will be\\n\\n           better today than they were yesterday.\\n\\n          The Croods scurry out of their cave like mice looking for\\n\\n          food. Scared. Fast.\\n\\n          The Croods are chased by beasts across the desert. They\\n\\n          escape from creatures up trees. They hide behind rocks.\\n\\n                          EEP (V.O.)\\n\\n           But not for me. My name's Eep. This, is\\n\\n           my family, the Croods. If you weren't\\n\\n           clued in already by the animal skins and\\n\\n           sloping foreheads - we're cavemen. Most\\n\\n           days we spend in our cave, in the dark.\\n\\n           Night after night, day after day. Yep.\\n\\n           Home sweet home. When we did go out, we\\n\\n           struggled to find food in a harsh and\\n\\n           hostile world. And I struggled to\\n\\n           survive my family.\\n\\n          The Croods are chased by beasts across the desert. They\\n\\n          escape from creatures up trees. They hide behind rocks.\\n\\n                          EEP (V.O.)\\n\\n           We were the last ones around. There used\\n\\n           to be neighbors. The Gorts, smashed by a\\n\\n           mammoth. The Horks, swallowed by a sand\\n\\n           snake. The Erfs, mosquito bite. Throgs,\\n\\n           common cold. And, the Croods. That's\\n\\n           us. The Croods made it...\\n\\n          Grug protects his family from a GIANT BEAR OWL.\\n\\n                          EEP (V.O.)\\n\\n           Because of my Dad. He was strong... and\\n\\n           he followed the rules.\\n\\n          A shadow falls across their feet and Grug ushers his\\n\\n          family home.\\n\\n          2.\\n\\n                          EEP (V.O.)\\n\\n           ... the ones painted on the cave walls.\\n\\n           Anything new is bad, curiosity is bad,\\n\\n           going out at night is bad. Basically,\\n\\n           anything fun is bad. Welcome to my\\n\\n           world.\\n\\n          They all run back into the cave where Grug slams the rock\\n\\n          door closed.\\n\\n          SLOWLY LIGHT ON CAVE PAINTINGS COMES UP AGAIN. But this\\n\\n          time the light casts an ominous tone.\\n\\n                          EEP (V.O.)\\n\\n           But this is a story about how all that\\n\\n           changed in an instant.\\n\\n          RAPID SHOTS OF THE GREAT SPLIT CUTTING THROUGH THE LAND.\\n\\n          HEADED TOWARDS CROOD VALLEY.\\n\\n          SHOTS OF CATACLYSM. CUT FASTER AND FASTER UNTIL...\\n\\n                          EEP (V.O.)\\n\\n           Because what we didn't know, was that our\\n\\n           world was about to come to an end. And\\n\\n           there were no rules on our cave walls to\\n\\n           prepare us for that.\\n\\n          CAVEMAN HANDS PRESS against the rock wall. They PUSH. A\\n\\n          BLINDING LIGHT FLOODS the screen.\\n\\n                          CUT TO:\\n\\n          SEQ. 100 - MEET THE CROODS\\n\\n          A HUGE CAVEMAN, GRUG, RUSHES forward, screaming,\\n\\n          growling, and throwing handfuls of dirt in a THREAT\\n\\n          DISPLAY. He BLINKS in the bright morning light. He\\n\\n          LIFTS and HURLS a large boulder.\\n\\n                          GRUG\\n\\n           Raaaaar grooooOOOOoooowwwll ERF ERF\\n\\n           Glaaaaaabbbbllllllllthhhh!\\n\\n          As suddenly as he began, Grug stops. Panting, he waits\\n\\n          for the echoes of his outburst to fade.\\n\\n          Grug TURNS to the cave entrance, he prepares to BELLOW a\\n\\n          signal, but before any sound escapes his lips--\\n\\n          A CAVE GIRL, EEP, bursts from the cave.\\n\\n          3.\\n\\n                          GRUG (CONT'D)\\n\\n           You're supposed to wait for my signal\\n\\n           Eep. Eep?\\n\\n          Eep scares a pack of nearby Liyotes away. They pounce on\\n\\n          Grug briefly before scampering off. Eep spreads out on\\n\\n          an overhanging rock. She BASKS IN THE SUN.\\n\\n                          EEP\\n\\n           We've been in that cave forever.\\n\\n                          GRUG\\n\\n           Three days is not forever.\\n\\n                          EEP\\n\\n           It is with this family.\\n\\n                          GRUG\\n\\n           Eep would you come down here? You're\\n\\n           being so dramatic.\\n\\n          A LITTLE GIRL, SANDY, charges out next. Her display is\\n\\n          more terrier-like.\\n\\n                          GRUG (CONT'D)\\n\\n           No, no, no Sandy, come back here.\\n\\n           Remember the signal. Good girls wait for\\n\\n           the signal.\\n\\n          A CAVE WOMAN, UGGA, scrambles out next. She is\""
      ]
     },
     "execution_count": 284,
     "metadata": {},
     "output_type": "execute_result"
    }
   ],
   "source": [
    "croods_script[:5000]"
   ]
  },
  {
   "cell_type": "code",
   "execution_count": 206,
   "metadata": {},
   "outputs": [],
   "source": [
    "seq = re.findall('SEQ', croods_script)"
   ]
  },
  {
   "cell_type": "code",
   "execution_count": 207,
   "metadata": {},
   "outputs": [
    {
     "data": {
      "text/plain": [
       "29"
      ]
     },
     "execution_count": 207,
     "metadata": {},
     "output_type": "execute_result"
    }
   ],
   "source": [
    "len(seq)"
   ]
  },
  {
   "cell_type": "code",
   "execution_count": 208,
   "metadata": {},
   "outputs": [],
   "source": [
    "sequences = croods_script.split('SEQ.')"
   ]
  },
  {
   "cell_type": "code",
   "execution_count": 210,
   "metadata": {},
   "outputs": [
    {
     "data": {
      "text/plain": [
       "\" 100 - MEET THE CROODS\\n\\n          A HUGE CAVEMAN, GRUG, RUSHES forward, screaming,\\n\\n          growling, and throwing handfuls of dirt in a THREAT\\n\\n          DISPLAY. He BLINKS in the bright morning light. He\\n\\n          LIFTS and HURLS a large boulder.\\n\\n                          GRUG\\n\\n           Raaaaar grooooOOOOoooowwwll ERF ERF\\n\\n           Glaaaaaabbbbllllllllthhhh!\\n\\n          As suddenly as he began, Grug stops. Panting, he waits\\n\\n          for the echoes of his outburst to fade.\\n\\n          Grug TURNS to the cave entrance, he prepares to BELLOW a\\n\\n          signal, but before any sound escapes his lips--\\n\\n          A CAVE GIRL, EEP, bursts from the cave.\\n\\n          3.\\n\\n                          GRUG (CONT'D)\\n\\n           You're supposed to wait for my signal\\n\\n           Eep. Eep?\\n\\n          Eep scares a pack of nearby Liyotes away. They pounce on\\n\\n          Grug briefly before scampering off. Eep spreads out on\\n\\n          an overhanging rock. She BASKS IN THE SUN.\\n\\n                          EEP\\n\\n           We've been in that cave forever.\\n\\n                          GRUG\\n\\n           Three days is not forever.\\n\\n                          EEP\\n\\n           It is with this family.\\n\\n                          GRUG\\n\\n           Eep would you come down here? You're\\n\\n           being so dramatic.\\n\\n          A LITTLE GIRL, SANDY, charges out next. Her display is\\n\\n          more terrier-like.\\n\\n                          GRUG (CONT'D)\\n\\n           No, no, no Sandy, come back here.\\n\\n           Remember the signal. Good girls wait for\\n\\n           the signal.\\n\\n          A CAVE WOMAN, UGGA, scrambles out next. She is mostly\\n\\n          focused on catching Sandy, giving only cursory effort to\\n\\n          her display.\\n\\n                          GRUG (CONT'D)\\n\\n           Ugga.\\n\\n                          UGGA\\n\\n           As soon as I get Sandy, I'll go back in,\\n\\n           and you can give the signal.\\n\\n                          GRUG\\n\\n           No, I mean, you're already out now.\\n\\n           THUNK (O.S.)\\n\\n           I am waiting for the signal, dad.\\n\\n          We HEAR the voice of Grug's nine-year-old son from inside\\n\\n          the cave. THUNK is eager to please his dad and emulates\\n\\n          his every move.\\n\\n                          GRUG\\n\\n           Never mind, Thunk. Just, come out.\\n\\n          4.\\n\\n                          THUNK\\n\\n           (not so fast)\\n\\n           Uhh, but if you don't give the signal,\\n\\n           how do I know you're my dad?\\n\\n                          GRUG\\n\\n           The signal isn't so you know it's me,\\n\\n           it's so you know I wasn't eaten by an\\n\\n           animal.\\n\\n          Beat.\\n\\n                          THUNK\\n\\n           Then why is the signal an animal noise?\\n\\n           I mean, doesn't that just confuse things?\\n\\n          Grug sighs.\\n\\n                          THUNK (CONT'D)\\n\\n           I don't know... I'm still waiting for the\\n\\n           signal.\\n\\n                          GRUG\\n\\n           Sigh. Hoo hooooo! Hoo hooooo!\\n\\n          Thunk comes out growling, and barrels into Grug. Thunk\\n\\n          picks up a boulder and throws it. It ricochets off the\\n\\n          cliff wall and careens into Grug. Grug gets plowed over\\n\\n          by the boulder.\\n\\n                          UGGA\\n\\n           Mom, we're ready to leave.\\n\\n                          (BEAT)\\n\\n           Mom!\\n\\n          Grug sits up and smiles.\\n\\n                          GRAN\\n\\n           Still alive!\\n\\n          Grug's face drops.\\n\\n                          GRUG\\n\\n           It's still early.\\n\\n                          GRAN\\n\\n           And you're still fat.\\n\\n                          GRUG\\n\\n           Breakfast formation!\\n\\n          The Croods form up in a flying wedge, with Grug in the\\n\\n          lead.\\n\\n          5.\\n\\n                          GRUG (CONT'D)\\n\\n           I want to see some real caveman action\\n\\n           out there. We do this fast. We do this\\n\\n           loud, we do this as a family and never\\n\\n           not be afraid. Go!\\n\\n                          THUNK\\n\\n           YAY, BREAKFAST!!!!\\n\\n          COMPRESSED TIME - The Croods RUN out of Crood canyon,\\n\\n          across the wide expanses of desert.\\n\\n                          CUT TO:\\n\\n          \""
      ]
     },
     "execution_count": 210,
     "metadata": {},
     "output_type": "execute_result"
    }
   ],
   "source": [
    "sequences[2]"
   ]
  },
  {
   "cell_type": "markdown",
   "metadata": {},
   "source": [
    "This script seems to mark sequences: aka scene breaks. Now that I think about it, Antz did this, too, and I'm beginning to wonder if I shouldn't have just abandoned those, or used them as scene starters. Maybe there's a good way to convert any FADE TO and CUT TO chunks into a single character that would indicate the beginning of a scene. And, if I mark them with \"_ \", I could use that to split the data into tuples of 3, and then create a Start_of_Scene column.\n",
    "\n",
    "For now, let's just worry about getting the lines."
   ]
  },
  {
   "cell_type": "code",
   "execution_count": 400,
   "metadata": {},
   "outputs": [
    {
     "data": {
      "text/plain": [
       "'                           THE CROODS\\n\\n                           Written by\\n\\n                 Kirk DeMicco & Chris Sanders\\n\\n                                                       12.12.2012\\n\\n          SEQ. 75 - PROLOGUE\\n\\n                         FADE IN:\\n\\n          A cave painting of the Dreamworks logo. Push past the\\n\\n          moon to the sun. Bright. Beautiful. The sun DISSOLVES\\n\\n                         TO:\\n\\n          Cave paintings of a family of cavemen -- we will come to\\n\\n          know them as The Croods.'"
      ]
     },
     "execution_count": 400,
     "metadata": {},
     "output_type": "execute_result"
    }
   ],
   "source": [
    "#getting rid of jargon before the script starts\n",
    "croods_script[:519]"
   ]
  },
  {
   "cell_type": "code",
   "execution_count": 401,
   "metadata": {},
   "outputs": [],
   "source": [
    "croods_script = croods_script[519:]"
   ]
  },
  {
   "cell_type": "code",
   "execution_count": 402,
   "metadata": {},
   "outputs": [
    {
     "data": {
      "text/plain": [
       "'\\n'"
      ]
     },
     "execution_count": 402,
     "metadata": {},
     "output_type": "execute_result"
    }
   ],
   "source": [
    "croods_script[0]"
   ]
  },
  {
   "cell_type": "code",
   "execution_count": 236,
   "metadata": {},
   "outputs": [
    {
     "data": {
      "text/plain": [
       "21"
      ]
     },
     "execution_count": 236,
     "metadata": {},
     "output_type": "execute_result"
    }
   ],
   "source": [
    "len_w_s.count(25) #not many of these..."
   ]
  },
  {
   "cell_type": "code",
   "execution_count": 253,
   "metadata": {},
   "outputs": [],
   "source": [
    "ws_25 = re.findall(\"\\n {25}[\\S]+ [\\S]+\", croods_script)"
   ]
  },
  {
   "cell_type": "code",
   "execution_count": 254,
   "metadata": {},
   "outputs": [
    {
     "data": {
      "text/plain": [
       "['\\n                         ON GRAN', '\\n                         ON EEP', '\\n                         ON SANDY', '\\n                         X-DISS TO:', '\\n                         THUNK MOANS', '\\n                         X-DISS TO:', '\\n                         X-DISS TO:', '\\n                         ON GUY', '\\n                         THE LOG', '\\n                         ON THUNK', '\\n                         TREE TOP', '\\n                         ON GRUG', '\\n                         ON UGGA', '\\n                         ON THUNK', '\\n                         ON GRUG', '\\n                         ON GRUG', '\\n                         ON GRUG', '\\n                         ON EEP']"
      ]
     },
     "execution_count": 254,
     "metadata": {},
     "output_type": "execute_result"
    }
   ],
   "source": [
    "ws_25"
   ]
  },
  {
   "cell_type": "markdown",
   "metadata": {},
   "source": [
    "It looks like the 25 spaces come before stage commands."
   ]
  },
  {
   "cell_type": "code",
   "execution_count": 231,
   "metadata": {},
   "outputs": [
    {
     "data": {
      "text/plain": [
       "\"\\n\\n                          EEP (V.O.)\\n\\n           With every sun comes a new day. A new\\n\\n           beginning. A hope that things will be\\n\\n           better today than they were yesterday.\\n\\n          The Croods scurry out of their cave like mice looking for\\n\\n          food. Scared. Fast.\\n\\n          The Croods are chased by beasts across the desert. They\\n\\n          escape from creatures up trees. They hide behind rocks.\\n\\n                          EEP (V.O.)\\n\\n           But not for me. My name's Eep. This, is\\n\\n           my family, the Croods. If you weren't\\n\\n           clued in already by the animal skins and\\n\\n           sloping foreheads - we're cavemen. Most\\n\\n           days we spend in our cave, in the dark.\\n\\n           Night after night, day after day. Yep.\\n\\n           Home sweet home. When we did go out, we\\n\\n           struggled to find food in a harsh and\\n\\n           hostile world. And I struggled to\\n\\n           survive my family.\\n\\n          The Croods are chased by beasts across\""
      ]
     },
     "execution_count": 231,
     "metadata": {},
     "output_type": "execute_result"
    }
   ],
   "source": [
    "#the only large chunks of white space are\n",
    "#10 spaces: after a character's line\n",
    "#11 spaces: between character name and line or between lines\n",
    "#25 spaces: before stage commands\n",
    "#26 spaces: before a character name\n",
    "croods_script[:1000]"
   ]
  },
  {
   "cell_type": "code",
   "execution_count": 403,
   "metadata": {},
   "outputs": [],
   "source": [
    "#Let's just remove parentheticals from the start\n",
    "croods_script = re.sub(r\" \\([^\\)]*\\)\", '', croods_script)"
   ]
  },
  {
   "cell_type": "code",
   "execution_count": 404,
   "metadata": {},
   "outputs": [
    {
     "data": {
      "text/plain": [
       "3391"
      ]
     },
     "execution_count": 404,
     "metadata": {},
     "output_type": "execute_result"
    }
   ],
   "source": [
    "#analyzing white space again\n",
    "w_s = re.findall(\" {3,}\", croods_script)\n",
    "len(w_s)"
   ]
  },
  {
   "cell_type": "code",
   "execution_count": 405,
   "metadata": {},
   "outputs": [
    {
     "name": "stdout",
     "output_type": "stream",
     "text": [
      "[26, 11, 11, 11, 10, 10, 10, 10, 26, 11, 11, 11, 11, 11, 11, 11, 11, 11, 11, 10, 10, 26, 11, 11, 11, 11, 11, 11, 10, 26, 11, 11, 10, 10, 10, 26, 11, 11, 11, 11, 11, 10, 10, 10, 10, 26, 11, 11, 10, 10, 10, 26, 11, 11, 11, 11, 10, 10, 26, 10, 10, 10, 10, 10, 26, 11, 11, 10, 10, 10, 10, 10, 10, 26, 11, 11, 10, 10, 10, 26, 11, 26, 11, 26, 11, 26, 11, 11, 10, 10, 26, 11, 11, 11, 10, 10, 10, 26, 11, 26]\n",
      "{10, 25, 26, 11}\n",
      "136\n",
      "25\n",
      "0\n"
     ]
    }
   ],
   "source": [
    "len_w_s = [len(x) for x in w_s]\n",
    "print(len_w_s[:100])\n",
    "print(set(len_w_s))\n",
    "print(len_w_s.index(25))\n",
    "print(len_w_s[215])\n",
    "print(len_w_s.count(12)) #haha, fixed that shit"
   ]
  },
  {
   "cell_type": "code",
   "execution_count": 275,
   "metadata": {},
   "outputs": [
    {
     "data": {
      "text/plain": [
       "\"\\n\\n                          EEP \\n\\n           With every sun comes a new day. A new\\n\\n           beginning. A hope that things will be\\n\\n           better today than they were yesterday.\\n\\n          The Croods scurry out of their cave like mice looking for\\n\\n          food. Scared. Fast.\\n\\n          The Croods are chased by beasts across the desert. They\\n\\n          escape from creatures up trees. They hide behind rocks.\\n\\n                          EEP \\n\\n           But not for me. My name's Eep. This, is\\n\\n           my family, the Croods. If you weren't\\n\\n           clued in already by the animal skins and\\n\\n           sloping foreheads - we're cavemen. Most\\n\\n           days we spend in our cave, in the dark.\\n\\n           Night after night, day after day. Yep.\\n\\n           Home sweet home. When we did go out, we\\n\\n           struggled to find food in a harsh and\\n\\n           hostile world. And I struggled to\\n\\n           survive my family.\\n\\n          The Croods are chased by beasts across the desert. They\\n\\n          escape from creatures up trees. They hide behind rocks.\\n\\n                          EEP \\n\\n           We were the last ones around. There used\\n\\n           to be neighbors. The Gorts, smashed by a\\n\\n           mammoth. The Horks, swallowed by a sand\\n\\n           snake. The Erfs, mosquito bite. Throgs,\\n\\n           common cold. And, the Croods. That's\\n\\n           us. The Croods made it...\\n\\n          Grug protects his family from a GIANT BEAR OWL.\\n\\n                          EEP \\n\\n           Because of my Dad. He was strong... and\\n\\n           he followed the rules.\\n\\n          A shadow falls across their feet and Grug ushers his\\n\\n          family home.\\n\\n          2.\\n\\n                          EEP \\n\\n           ... the ones painted on the cave walls.\\n\\n           Anything new is bad, curiosity is bad,\\n\\n           going out at night is bad. Basically,\\n\\n           anything fun is bad. Welcome to my\\n\\n           world.\\n\\n          They all run back into the cave where Grug slams the rock\\n\\n          door closed.\\n\\n          SLOWLY LIGHT ON CAVE PAINTINGS COMES UP AGAIN. But this\\n\\n          time the light casts an ominous tone.\\n\\n                          EEP \\n\\n           But this is a story about how all that\\n\\n           changed in an instant.\\n\\n          RAPID SHOTS OF THE GREAT SPLIT CUTTING THROUGH THE LAND.\\n\\n          HEADED TOWARDS CROOD VALLEY.\\n\\n          SHOTS OF CATACLYSM. CUT FASTER AND FASTER UNTIL...\\n\\n                          EEP \\n\\n           Because what we didn't know, was that our\\n\\n           world was about to come to an end. And\\n\\n           there were no rules on our cave walls to\\n\\n           prepare us for that.\\n\\n          CAVEMAN HANDS PRESS against the rock wall. They PUSH. A\\n\\n          BLINDING LIGHT FLOODS the screen.\\n\\n                          CUT TO:\\n\\n          SEQ. 100 - MEET THE CROODS\\n\\n          A HUGE CAVEMAN, GRUG, RUSHES forward, screaming,\\n\\n          growling, and throwing handfuls of dirt in a THREAT\\n\\n          DISPLAY. He BLINKS in the bright morning light. He\\n\\n          LIFTS and HURLS a large boulder.\\n\\n                          GRUG\\n\\n           Raaaaar grooooOOOOoooowwwll ERF ERF\\n\\n           Glaaaaaabbbbllllllllthhhh!\\n\\n          As suddenly as he began, Grug stops. Panting, he waits\\n\\n          for the echoes of his outburst to fade.\\n\\n          Grug TURNS to the cave entrance, he prepares to BELLOW a\\n\\n          signal, but before any sound escapes his lips--\\n\\n          A CAVE GIRL, EEP, bursts from the cave.\\n\\n          3.\\n\\n                          GRUG \\n\\n           You're supposed to wait for my signal\\n\\n           Eep. Eep?\\n\\n          Eep scares a pack of nearby Liyotes away. They pounce on\\n\\n          Grug briefly before scampering off. Eep spreads out on\\n\\n          an overhanging rock. She BASKS IN THE SUN.\\n\\n                          EEP\\n\\n           We've been in that cave forever.\\n\\n                          GRUG\\n\\n           Three days is not forever.\\n\\n                          EEP\\n\\n           It is with this family.\\n\\n                          GRUG\\n\\n           Eep would you come down here? You're\\n\\n           being so dramatic.\\n\\n          A LITTLE GIRL, SANDY, charges out next. Her display is\\n\\n          more terrier-like.\\n\\n                          GRUG \\n\\n           No, no, no Sandy, come back here.\\n\\n           Remember the signal. Good girls wait for\\n\\n           the signal.\\n\\n          A CAVE WOMAN, UGGA, scrambles out next. She is mostly\\n\\n          focused on catching Sandy, giving only cursory effort to\\n\\n          her display.\\n\\n                          GRUG \\n\\n           Ugga.\\n\\n                          UGGA\\n\\n           As soon as I get Sandy, I'll go back in,\\n\\n           and you can give the signal.\\n\\n                          GRUG\\n\\n           No, I mean, you're already out now.\\n\\n           THUNK \\n\\n           I am waiting for the signal, dad.\\n\\n          We HEAR the voice of Grug's nine-year-old son from inside\\n\\n          the cave. THUNK is eager to please his dad and emulates\\n\\n          his ever\""
      ]
     },
     "execution_count": 275,
     "metadata": {},
     "output_type": "execute_result"
    }
   ],
   "source": [
    "croods_script[:5000]"
   ]
  },
  {
   "cell_type": "code",
   "execution_count": 419,
   "metadata": {},
   "outputs": [],
   "source": [
    "new_test = re.findall(r\"\\n\\n {26}(\\b['A-Z ]+)\\n\\n\", croods_script)\n",
    "#this is what i want!!!!!"
   ]
  },
  {
   "cell_type": "code",
   "execution_count": 420,
   "metadata": {},
   "outputs": [
    {
     "data": {
      "text/plain": [
       "760"
      ]
     },
     "execution_count": 420,
     "metadata": {},
     "output_type": "execute_result"
    }
   ],
   "source": [
    "len(new_test)"
   ]
  },
  {
   "cell_type": "code",
   "execution_count": 422,
   "metadata": {},
   "outputs": [
    {
     "name": "stdout",
     "output_type": "stream",
     "text": [
      "14\n"
     ]
    },
    {
     "data": {
      "text/plain": [
       "{'UGA', 'EEP', 'CHUNKY', 'UGGA', 'ERF ERF', 'GUY', 'BELT', 'GRUG', 'SANDY', 'CREATURE', 'MACAWNIVORE', 'CROODS', 'GRAN', 'THUNK'}"
      ]
     },
     "execution_count": 422,
     "metadata": {},
     "output_type": "execute_result"
    }
   ],
   "source": [
    "print(len(set(new_test)))\n",
    "set(new_test)"
   ]
  },
  {
   "cell_type": "code",
   "execution_count": 423,
   "metadata": {},
   "outputs": [],
   "source": [
    "croods_scr_real = re.sub(r\"\\n\\n {26}(\\b['A-Z ]+)\\n\\n\", r'_NEWLINE_\\1_', croods_script)"
   ]
  },
  {
   "cell_type": "code",
   "execution_count": 424,
   "metadata": {},
   "outputs": [
    {
     "data": {
      "text/plain": [
       "\"_NEWLINE_EEP_           With every sun comes a new day. A new\\n\\n           beginning. A hope that things will be\\n\\n           better today than they were yesterday.\\n\\n          The Croods scurry out of their cave like mice looking for\\n\\n          food. Scared. Fast.\\n\\n          The Croods are chased by beasts across the desert. They\\n\\n          escape from creatures up trees. They hide behind rocks._NEWLINE_EEP_           But not for me. My name's Eep. This, is\\n\\n           my family, the Croods. If you weren't\\n\\n           clued in already by the animal skins and\\n\\n           sloping foreheads - we're cavemen. Most\\n\\n           days we spend in our cave, in the dark.\\n\\n           Night after night, day after day. Yep.\\n\\n           Home sweet home. When we did go out, we\\n\\n           struggled to find food in a harsh and\\n\\n           hostile world. And I struggled to\\n\\n           survive my family.\\n\\n          The Croods are chased by beasts across the desert. They\\n\\n          escape from creatures up \""
      ]
     },
     "execution_count": 424,
     "metadata": {},
     "output_type": "execute_result"
    }
   ],
   "source": [
    "croods_scr_real[:1000]"
   ]
  },
  {
   "cell_type": "code",
   "execution_count": 406,
   "metadata": {},
   "outputs": [],
   "source": [
    "croods_scr = re.sub(r\"\\n\\n {26}(\\b['A-Z ]+)\", r'_NEWLINE_\\1_', croods_script)"
   ]
  },
  {
   "cell_type": "code",
   "execution_count": 407,
   "metadata": {},
   "outputs": [
    {
     "data": {
      "text/plain": [
       "\"_NEWLINE_EEP_\\n\\n           With every sun comes a new day. A new\\n\\n           beginning. A hope that things will be\\n\\n           better today than they were yesterday.\\n\\n          The Croods scurry out of their cave like mice looking for\\n\\n          food. Scared. Fast.\\n\\n          The Croods are chased by beasts across the desert. They\\n\\n          escape from creatures up trees. They hide behind rocks._NEWLINE_EEP_\\n\\n           But not for me. My name's Eep. This, is\\n\\n           my family, the Croods. I\""
      ]
     },
     "execution_count": 407,
     "metadata": {},
     "output_type": "execute_result"
    }
   ],
   "source": [
    "croods_scr[:500]"
   ]
  },
  {
   "cell_type": "code",
   "execution_count": 351,
   "metadata": {},
   "outputs": [],
   "source": [
    "testing = re.findall(r\"\\n\\n {26}\\b['A-Z ]+\", croods_script)"
   ]
  },
  {
   "cell_type": "code",
   "execution_count": 352,
   "metadata": {},
   "outputs": [
    {
     "data": {
      "text/plain": [
       "804"
      ]
     },
     "execution_count": 352,
     "metadata": {},
     "output_type": "execute_result"
    }
   ],
   "source": [
    "len(testing)"
   ]
  },
  {
   "cell_type": "code",
   "execution_count": 353,
   "metadata": {},
   "outputs": [
    {
     "data": {
      "text/plain": [
       "30"
      ]
     },
     "execution_count": 353,
     "metadata": {},
     "output_type": "execute_result"
    }
   ],
   "source": [
    "len(set(testing))"
   ]
  },
  {
   "cell_type": "code",
   "execution_count": 354,
   "metadata": {},
   "outputs": [
    {
     "data": {
      "text/plain": [
       "{'\\n\\n                          UGGA', '\\n\\n                          EEP', '\\n\\n                          AWAY', '\\n\\n                          GUY', '\\n\\n                          GRUG', '\\n\\n                          GRAN ', '\\n\\n                          ERF ERF', '\\n\\n                          SIGH ', '\\n\\n                          MACAWNIVORE', '\\n\\n                          SPOTTED', '\\n\\n                          EEP ', '\\n\\n                          CUT TO', '\\n\\n                          THUNK ', '\\n\\n                          SANDY', '\\n\\n                          GRUG ', '\\n\\n                          UGA', '\\n\\n                          THUNK', '\\n\\n                          GASP ', '\\n\\n                          YOU TO', '\\n\\n                          CREATURE', '\\n\\n                          CHUNKY', '\\n\\n                          DISSOLVE TO', '\\n\\n                          GUY ', '\\n\\n                          GRAN', '\\n\\n                          TA', '\\n\\n                          GASPS ', '\\n\\n                          UGGA ', '\\n\\n                          GROAN ', '\\n\\n                          CROODS', '\\n\\n                          BELT'}"
      ]
     },
     "execution_count": 354,
     "metadata": {},
     "output_type": "execute_result"
    }
   ],
   "source": [
    "set(testing)"
   ]
  },
  {
   "cell_type": "code",
   "execution_count": 345,
   "metadata": {},
   "outputs": [
    {
     "data": {
      "text/plain": [
       "['EE', 'EE', 'EE', 'EE', 'EE', 'EE', 'EE', 'CU', 'GR', 'GR']"
      ]
     },
     "execution_count": 345,
     "metadata": {},
     "output_type": "execute_result"
    }
   ],
   "source": [
    "testing[:10]"
   ]
  },
  {
   "cell_type": "markdown",
   "metadata": {},
   "source": [
    "This also includes various stage commands, like CUT TO, AWAY, SIGH, GASP, GASPS, YOU TO, DISSOLVE TO, and whatever TA is (within my research of the movie, TA isn't a character, or anything really."
   ]
  },
  {
   "cell_type": "code",
   "execution_count": 310,
   "metadata": {},
   "outputs": [],
   "source": [
    "testing_2 = re.findall(r\"\\n\\n {26}(\\b['A-Z ]+)+\", croods_script)"
   ]
  },
  {
   "cell_type": "code",
   "execution_count": 311,
   "metadata": {},
   "outputs": [
    {
     "data": {
      "text/plain": [
       "['EEP ', 'EEP ', 'EEP ', 'EEP ', 'EEP ', 'EEP ', 'EEP ', 'CUT TO', 'GRUG', 'GRUG ']"
      ]
     },
     "execution_count": 311,
     "metadata": {},
     "output_type": "execute_result"
    }
   ],
   "source": [
    "testing_2[:10]"
   ]
  },
  {
   "cell_type": "code",
   "execution_count": 312,
   "metadata": {},
   "outputs": [
    {
     "data": {
      "text/plain": [
       "804"
      ]
     },
     "execution_count": 312,
     "metadata": {},
     "output_type": "execute_result"
    }
   ],
   "source": [
    "len(testing_2)"
   ]
  },
  {
   "cell_type": "code",
   "execution_count": 313,
   "metadata": {},
   "outputs": [
    {
     "data": {
      "text/plain": [
       "{'UGA', 'GROAN ', 'SANDY', 'GRUG', 'GUY ', 'CREATURE', 'CROODS', 'UGGA ', 'EEP ', 'UGGA', 'GUY', 'BELT', 'YOU TO', 'CUT TO', 'GRAN', 'AWAY', 'THUNK', 'DISSOLVE TO', 'SIGH ', 'TA', 'EEP', 'MACAWNIVORE', 'GASP ', 'GRUG ', 'CHUNKY', 'ERF ERF', 'GASPS ', 'GRAN ', 'THUNK ', 'SPOTTED'}"
      ]
     },
     "execution_count": 313,
     "metadata": {},
     "output_type": "execute_result"
    }
   ],
   "source": [
    "set(testing_2)"
   ]
  },
  {
   "cell_type": "code",
   "execution_count": 314,
   "metadata": {},
   "outputs": [
    {
     "data": {
      "text/plain": [
       "30"
      ]
     },
     "execution_count": 314,
     "metadata": {},
     "output_type": "execute_result"
    }
   ],
   "source": [
    "len(set(testing_2))"
   ]
  },
  {
   "cell_type": "markdown",
   "metadata": {},
   "source": [
    "Split the script into lines."
   ]
  },
  {
   "cell_type": "code",
   "execution_count": 425,
   "metadata": {},
   "outputs": [],
   "source": [
    "croods_lines = croods_scr_real.split('_NEWLINE_')"
   ]
  },
  {
   "cell_type": "code",
   "execution_count": 426,
   "metadata": {},
   "outputs": [
    {
     "data": {
      "text/plain": [
       "761"
      ]
     },
     "execution_count": 426,
     "metadata": {},
     "output_type": "execute_result"
    }
   ],
   "source": [
    "len(croods_lines)"
   ]
  },
  {
   "cell_type": "code",
   "execution_count": 427,
   "metadata": {},
   "outputs": [
    {
     "data": {
      "text/plain": [
       "''"
      ]
     },
     "execution_count": 427,
     "metadata": {},
     "output_type": "execute_result"
    }
   ],
   "source": [
    "croods_lines[0]"
   ]
  },
  {
   "cell_type": "code",
   "execution_count": 428,
   "metadata": {},
   "outputs": [],
   "source": [
    "croods_lines = croods_lines[1:]"
   ]
  },
  {
   "cell_type": "code",
   "execution_count": 429,
   "metadata": {},
   "outputs": [
    {
     "data": {
      "text/plain": [
       "['EEP_           With every sun comes a new day. A new\\n\\n           beginning. A hope that things will be\\n\\n           better today than they were yesterday.\\n\\n          The Croods scurry out of their cave like mice looking for\\n\\n          food. Scared. Fast.\\n\\n          The Croods are chased by beasts across the desert. They\\n\\n          escape from creatures up trees. They hide behind rocks.', \"EEP_           But not for me. My name's Eep. This, is\\n\\n           my family, the Croods. If you weren't\\n\\n           clued in already by the animal skins and\\n\\n           sloping foreheads - we're cavemen. Most\\n\\n           days we spend in our cave, in the dark.\\n\\n           Night after night, day after day. Yep.\\n\\n           Home sweet home. When we did go out, we\\n\\n           struggled to find food in a harsh and\\n\\n           hostile world. And I struggled to\\n\\n           survive my family.\\n\\n          The Croods are chased by beasts across the desert. They\\n\\n          escape from creatures up trees. They hide behind rocks.\", \"EEP_           We were the last ones around. There used\\n\\n           to be neighbors. The Gorts, smashed by a\\n\\n           mammoth. The Horks, swallowed by a sand\\n\\n           snake. The Erfs, mosquito bite. Throgs,\\n\\n           common cold. And, the Croods. That's\\n\\n           us. The Croods made it...\\n\\n          Grug protects his family from a GIANT BEAR OWL.\", 'EEP_           Because of my Dad. He was strong... and\\n\\n           he followed the rules.\\n\\n          A shadow falls across their feet and Grug ushers his\\n\\n          family home.\\n\\n          2.', 'EEP_           ... the ones painted on the cave walls.\\n\\n           Anything new is bad, curiosity is bad,\\n\\n           going out at night is bad. Basically,\\n\\n           anything fun is bad. Welcome to my\\n\\n           world.\\n\\n          They all run back into the cave where Grug slams the rock\\n\\n          door closed.\\n\\n          SLOWLY LIGHT ON CAVE PAINTINGS COMES UP AGAIN. But this\\n\\n          time the light casts an ominous tone.', 'EEP_           But this is a story about how all that\\n\\n           changed in an instant.\\n\\n          RAPID SHOTS OF THE GREAT SPLIT CUTTING THROUGH THE LAND.\\n\\n          HEADED TOWARDS CROOD VALLEY.\\n\\n          SHOTS OF CATACLYSM. CUT FASTER AND FASTER UNTIL...', \"EEP_           Because what we didn't know, was that our\\n\\n           world was about to come to an end. And\\n\\n           there were no rules on our cave walls to\\n\\n           prepare us for that.\\n\\n          CAVEMAN HANDS PRESS against the rock wall. They PUSH. A\\n\\n          BLINDING LIGHT FLOODS the screen.\\n\\n                          CUT TO:\\n\\n          SEQ. 100 - MEET THE CROODS\\n\\n          A HUGE CAVEMAN, GRUG, RUSHES forward, screaming,\\n\\n          growling, and throwing handfuls of dirt in a THREAT\\n\\n          DISPLAY. He BLINKS in the bright morning light. He\\n\\n          LIFTS and HURLS a large boulder.\", 'GRUG_           Raaaaar grooooOOOOoooowwwll ERF ERF\\n\\n           Glaaaaaabbbbllllllllthhhh!\\n\\n          As suddenly as he began, Grug stops. Panting, he waits\\n\\n          for the echoes of his outburst to fade.\\n\\n          Grug TURNS to the cave entrance, he prepares to BELLOW a\\n\\n          signal, but before any sound escapes his lips--\\n\\n          A CAVE GIRL, EEP, bursts from the cave.\\n\\n          3.', \"GRUG_           You're supposed to wait for my signal\\n\\n           Eep. Eep?\\n\\n          Eep scares a pack of nearby Liyotes away. They pounce on\\n\\n          Grug briefly before scampering off. Eep spreads out on\\n\\n          an overhanging rock. She BASKS IN THE SUN.\", \"EEP_           We've been in that cave forever.\", 'GRUG_           Three days is not forever.', 'EEP_           It is with this family.', \"GRUG_           Eep would you come down here? You're\\n\\n           being so dramatic.\\n\\n          A LITTLE GIRL, SANDY, charges out next. Her display is\\n\\n          more terrier-like.\", 'GRUG_           No, no, no Sandy, come back here.\\n\\n           Remember the signal. Good girls wait for\\n\\n           the signal.\\n\\n          A CAVE WOMAN, UGGA, scrambles out next. She is mostly\\n\\n          focused on catching Sandy, giving only cursory effort to\\n\\n          her display.', 'GRUG_           Ugga.', \"UGGA_           As soon as I get Sandy, I'll go back in,\\n\\n           and you can give the signal.\", \"GRUG_           No, I mean, you're already out now.\\n\\n           THUNK\\n\\n           I am waiting for the signal, dad.\\n\\n          We HEAR the voice of Grug's nine-year-old son from inside\\n\\n          the cave. THUNK is eager to please his dad and emulates\\n\\n          his every move.\", 'GRUG_           Never mind, Thunk. Just, come out.\\n\\n          4.', \"THUNK_          \\n\\n           Uhh, but if you don't give the signal,\\n\\n           how do I know you're my dad?\", \"GRUG_           The signal isn't so you know it's me,\\n\\n           it's so you know I wasn't eaten by an\\n\\n           animal.\\n\\n          Beat.\"]"
      ]
     },
     "execution_count": 429,
     "metadata": {},
     "output_type": "execute_result"
    }
   ],
   "source": [
    "croods_lines[:20]"
   ]
  },
  {
   "cell_type": "code",
   "execution_count": 435,
   "metadata": {},
   "outputs": [
    {
     "data": {
      "text/plain": [
       "10"
      ]
     },
     "execution_count": 435,
     "metadata": {},
     "output_type": "execute_result"
    }
   ],
   "source": [
    "fake_line1 = '\\n\\n          4.'\n",
    "len(fake_line1)\n",
    "len(fake_line1[2:12]) #need to analyze white space again"
   ]
  },
  {
   "cell_type": "code",
   "execution_count": 440,
   "metadata": {},
   "outputs": [
    {
     "data": {
      "text/plain": [
       "3"
      ]
     },
     "execution_count": 440,
     "metadata": {},
     "output_type": "execute_result"
    }
   ],
   "source": [
    "w_s = re.findall(\" {3,}\", croods_lines[18])\n",
    "len(w_s)\n"
   ]
  },
  {
   "cell_type": "code",
   "execution_count": 441,
   "metadata": {},
   "outputs": [
    {
     "name": "stdout",
     "output_type": "stream",
     "text": [
      "[10, 11, 11]\n",
      "{10, 11}\n"
     ]
    }
   ],
   "source": [
    "len_w_s = [len(x) for x in w_s]\n",
    "print(len_w_s[:100])\n",
    "print(set(len_w_s))"
   ]
  },
  {
   "cell_type": "code",
   "execution_count": 443,
   "metadata": {},
   "outputs": [
    {
     "data": {
      "text/plain": [
       "['\\n\\n          B']"
      ]
     },
     "execution_count": 443,
     "metadata": {},
     "output_type": "execute_result"
    }
   ],
   "source": [
    "re.findall(\"\\n\\n {10}[\\S]\", croods_lines[19]) #notlines"
   ]
  },
  {
   "cell_type": "code",
   "execution_count": 482,
   "metadata": {},
   "outputs": [],
   "source": [
    "croods_lines2 = []\n",
    "for line in croods_lines:\n",
    "    line = re.sub(\"\\n\\n {10}[\\S]\", '_HEADER_', line)\n",
    "    real_line = line.split('_HEADER_')[0]\n",
    "    croods_lines2.append(real_line)\n"
   ]
  },
  {
   "cell_type": "code",
   "execution_count": 483,
   "metadata": {},
   "outputs": [
    {
     "data": {
      "text/plain": [
       "['EEP_           With every sun comes a new day. A new\\n\\n           beginning. A hope that things will be\\n\\n           better today than they were yesterday.', \"EEP_           But not for me. My name's Eep. This, is\\n\\n           my family, the Croods. If you weren't\\n\\n           clued in already by the animal skins and\\n\\n           sloping foreheads - we're cavemen. Most\\n\\n           days we spend in our cave, in the dark.\\n\\n           Night after night, day after day. Yep.\\n\\n           Home sweet home. When we did go out, we\\n\\n           struggled to find food in a harsh and\\n\\n           hostile world. And I struggled to\\n\\n           survive my family.\", \"EEP_           We were the last ones around. There used\\n\\n           to be neighbors. The Gorts, smashed by a\\n\\n           mammoth. The Horks, swallowed by a sand\\n\\n           snake. The Erfs, mosquito bite. Throgs,\\n\\n           common cold. And, the Croods. That's\\n\\n           us. The Croods made it...\", 'EEP_           Because of my Dad. He was strong... and\\n\\n           he followed the rules.', 'EEP_           ... the ones painted on the cave walls.\\n\\n           Anything new is bad, curiosity is bad,\\n\\n           going out at night is bad. Basically,\\n\\n           anything fun is bad. Welcome to my\\n\\n           world.', 'EEP_           But this is a story about how all that\\n\\n           changed in an instant.', \"EEP_           Because what we didn't know, was that our\\n\\n           world was about to come to an end. And\\n\\n           there were no rules on our cave walls to\\n\\n           prepare us for that.\", 'GRUG_           Raaaaar grooooOOOOoooowwwll ERF ERF\\n\\n           Glaaaaaabbbbllllllllthhhh!', \"GRUG_           You're supposed to wait for my signal\\n\\n           Eep. Eep?\", \"EEP_           We've been in that cave forever.\", 'GRUG_           Three days is not forever.', 'EEP_           It is with this family.', \"GRUG_           Eep would you come down here? You're\\n\\n           being so dramatic.\", 'GRUG_           No, no, no Sandy, come back here.\\n\\n           Remember the signal. Good girls wait for\\n\\n           the signal.', 'GRUG_           Ugga.', \"UGGA_           As soon as I get Sandy, I'll go back in,\\n\\n           and you can give the signal.\", \"GRUG_           No, I mean, you're already out now.\\n\\n           THUNK\\n\\n           I am waiting for the signal, dad.\", 'GRUG_           Never mind, Thunk. Just, come out.', \"THUNK_          \\n\\n           Uhh, but if you don't give the signal,\\n\\n           how do I know you're my dad?\", \"GRUG_           The signal isn't so you know it's me,\\n\\n           it's so you know I wasn't eaten by an\\n\\n           animal.\"]"
      ]
     },
     "execution_count": 483,
     "metadata": {},
     "output_type": "execute_result"
    }
   ],
   "source": [
    "croods_lines2[:20]"
   ]
  },
  {
   "cell_type": "code",
   "execution_count": 484,
   "metadata": {},
   "outputs": [
    {
     "name": "stdout",
     "output_type": "stream",
     "text": [
      "UGGA_           Mom, we're ready to leave.\n",
      "\n",
      "                         \n",
      "\n",
      "           Mom!\n",
      "END OF LINE\n",
      "THUNK_                         \n",
      "\n",
      "           Yeah... breakfast...\n",
      "END OF LINE\n",
      "UGGA_           Come on Croods. Go, go, go.\n",
      "\n",
      "                          CUT TO:\n",
      "END OF LINE\n",
      "GRAN_                         \n",
      "\n",
      "           Aaaaaaaaaah.\n",
      "END OF LINE\n",
      "GRUG_                         \n",
      "\n",
      "           Eep! Eep?\n",
      "END OF LINE\n",
      "GRUG_                          SIGH \n",
      "\n",
      "                          CUT TO:\n",
      "END OF LINE\n",
      "EEP_                         \n",
      "\n",
      "           I don't know.\n",
      "END OF LINE\n",
      "EEP_                         \n",
      "\n",
      "           What's the point of all this?\n",
      "END OF LINE\n",
      "CROODS_                          GROAN \n",
      "END OF LINE\n",
      "GRUG_                         \n",
      "\n",
      "           That's a good idea ... How about a story,\n",
      "\n",
      "           huh?\n",
      "END OF LINE\n",
      "THUNK_                         \n",
      "\n",
      "           I get it, dad. I get it. I will never\n",
      "\n",
      "           do anything new or different.\n",
      "END OF LINE\n",
      "GUY_                         \n",
      "\n",
      "           Air.\n",
      "END OF LINE\n",
      "GRUG_                         \n",
      "\n",
      "           Eep's gone.\n",
      "END OF LINE\n",
      "GUY_                         \n",
      "\n",
      "           It's not alive.\n",
      "END OF LINE\n",
      "GUY_           I'm calling it...\n",
      "\n",
      "                         \n",
      "\n",
      "           The... End.\n",
      "END OF LINE\n",
      "EEP_                         \n",
      "\n",
      "           You never let me talk.\n",
      "END OF LINE\n",
      "GRUG_           You're grounded.\n",
      "\n",
      "                          CUT TO:\n",
      "END OF LINE\n",
      "EEP_                         \n",
      "\n",
      "           It was beautiful. You want to see\n",
      "\n",
      "           dangerous? Here.\n",
      "END OF LINE\n",
      "GRUG_                         \n",
      "\n",
      "           Six.\n",
      "END OF LINE\n",
      "GRUG_                         \n",
      "\n",
      "           We can't be out in the open like this.\n",
      "\n",
      "           We need a cave. Now step where I step.\n",
      "END OF LINE\n",
      "GRUG_                         \n",
      "\n",
      "           Okay. Stay quiet. Hopefully nothing big\n",
      "\n",
      "           knows we're here yet.\n",
      "END OF LINE\n",
      "THUNK_                         \n",
      "\n",
      "           So Dad, just to be clear, are we looking\n",
      "\n",
      "           for the exact same cave?\n",
      "\n",
      "                         \n",
      "END OF LINE\n",
      "CROODS_                          GASPS \n",
      "END OF LINE\n",
      "THUNK_           Hey look! This cave has a tongue.\n",
      "\n",
      "           Awesome!\n",
      "\n",
      "                          CUT TO:\n",
      "END OF LINE\n",
      "EEP_          \n",
      "\n",
      "           No. It won't help.\n",
      "\n",
      "                         \n",
      "\n",
      "           They're my family.\n",
      "END OF LINE\n",
      "EEP_                         \n",
      "\n",
      "           He made it.\n",
      "END OF LINE\n",
      "GRUG_           Now we'll all sit here, and wait for the\n",
      "\n",
      "           sun to come back. And tomorrow we'll\n",
      "\n",
      "           find a new cave, and pretend today never\n",
      "\n",
      "           happened.\n",
      "\n",
      "                         \n",
      "END OF LINE\n",
      "THUNK_                         \n",
      "\n",
      "           Ow! You're not my friend. Stop, stop\n",
      "\n",
      "           touching me!\n",
      "END OF LINE\n",
      "EEP_           Yeah. But I won't let him.\n",
      "\n",
      "                          CUT TO:\n",
      "END OF LINE\n",
      "CROODS_                         \n",
      "\n",
      "           Hi, Guy.\n",
      "END OF LINE\n",
      "GRUG_           Don't eat it, it's new.\n",
      "\n",
      "                          DISSOLVE TO:\n",
      "END OF LINE\n",
      "GUY_                         \n",
      "\n",
      "           Noooo. That was just the beginning of the\n",
      "\n",
      "           end. The end of the end is still coming.\n",
      "END OF LINE\n",
      "EEP_                         \n",
      "\n",
      "           Not anymore.\n",
      "END OF LINE\n",
      "GUY_                         \n",
      "\n",
      "           Umm... I've got an idea. Let's go to\n",
      "\n",
      "           that mountain.\n",
      "END OF LINE\n",
      "GRUG_                         \n",
      "\n",
      "           It's too far.\n",
      "END OF LINE\n",
      "GRUG_                         \n",
      "\n",
      "           Let's do it.\n",
      "\n",
      "                         \n",
      "\n",
      "           Oh come on, just think. Our whole\n",
      "\n",
      "           family, packed together on a long, slow\n",
      "\n",
      "           trip across country? Days and nights\n",
      "\n",
      "           with just each other. We'll tell\n",
      "\n",
      "           stories. We'll laugh.\n",
      "\n",
      "          \n",
      "\n",
      "           We'll become closer as a family.\n",
      "END OF LINE\n",
      "THUNK_           I don't think so.\n",
      "\n",
      "                         THUNK MOANS\n",
      "END OF LINE\n",
      "THUNK_                         \n",
      "\n",
      "           I gotta go really bad.\n",
      "END OF LINE\n",
      "GRUG_                         \n",
      "\n",
      "           Go behind one of those lumpy things and\n",
      "\n",
      "           make it fast.\n",
      "END OF LINE\n",
      "GRAN_                         \n",
      "\n",
      "           I don't blame it.\n",
      "END OF LINE\n",
      "UGGA_           Maybe we should have stopped for water.\n",
      "\n",
      "                         X-DISS TO:\n",
      "END OF LINE\n",
      "GRUG_           I can do this all day long. No, no, no,\n",
      "\n",
      "           and still no.\n",
      "\n",
      "                         X-DISS TO:\n",
      "END OF LINE\n",
      "GRUG_           Not that. That.\n",
      "\n",
      "                          CUT TO:\n",
      "END OF LINE\n",
      "THUNK_           My feet hurt.\n",
      "\n",
      "                         ON GUY\n",
      "END OF LINE\n",
      "THUNK_                         \n",
      "\n",
      "           You know, we lost him. But when the bird\n",
      "\n",
      "           stepped on me and pushed me into the\n",
      "\n",
      "           ground, the scorpion grabbed a hold of me\n",
      "\n",
      "           and one thing led to another and here we\n",
      "\n",
      "           are eating him. Win win.\n",
      "END OF LINE\n",
      "GUY_                         \n",
      "\n",
      "           Oh, look at that. She's not gonna eat me\n",
      "\n",
      "           right?\n",
      "END OF LINE\n",
      "GUY_                         \n",
      "\n",
      "           Looks like we won't be having any\n",
      "\n",
      "           leftovers.\n",
      "END OF LINE\n",
      "GUY_                         \n",
      "\n",
      "           You know, when you have so much food to\n",
      "\n",
      "           eat you have some, left over.\n",
      "END OF LINE\n",
      "CROODS_                          GASP \n",
      "END OF LINE\n",
      "EEP_                         \n",
      "\n",
      "           Leave this to me.\n",
      "END OF LINE\n",
      "EEP_                         \n",
      "\n",
      "           Oops.\n",
      "END OF LINE\n",
      "GUY_           Whoa. You're really\n",
      "\n",
      "                         \n",
      "\n",
      "           ... heavy.\n",
      "END OF LINE\n",
      "GUY_                         \n",
      "\n",
      "           Okay! She's up. I'm good. We're\n",
      "\n",
      "           good...\n",
      "END OF LINE\n",
      "THUNK_           Good fish. Don't eat my feet.\n",
      "\n",
      "                          CUT TO:\n",
      "END OF LINE\n",
      "THUNK_           Hi dad! Bye dad!\n",
      "\n",
      "                          CUT TO:\n",
      "END OF LINE\n",
      "GRUG_                         \n",
      "\n",
      "           Eep, looks dangerous.\n",
      "END OF LINE\n",
      "GRAN_           Hah, I don't get it.\n",
      "\n",
      "                          CUT TO:\n",
      "END OF LINE\n",
      "GRUG_                         \n",
      "\n",
      "           Hello? Is everyone alright?\n",
      "END OF LINE\n",
      "GRUG_                         \n",
      "\n",
      "           Yeah. Okay.\n",
      "\n",
      "                         ON THUNK\n",
      "END OF LINE\n",
      "BELT_                         \n",
      "\n",
      "           Raaah raaah.\n",
      "END OF LINE\n",
      "GRAN_           I was in love once. He was a hunter, I\n",
      "\n",
      "           was a gatherer. It was quite a scandal.\n",
      "\n",
      "           We fed each other berries. We danced.\n",
      "\n",
      "                         \n",
      "END OF LINE\n",
      "GRUG_                         \n",
      "\n",
      "           Croods! Come get down here!\n",
      "END OF LINE\n",
      "UGGA_                         \n",
      "\n",
      "           I know it was hard for you to bring us\n",
      "\n",
      "           along, but they had the best day of their\n",
      "\n",
      "           lives... Thank you for that.\n",
      "END OF LINE\n",
      "GRUG_                         \n",
      "\n",
      "           No. Not my little girl.\n",
      "END OF LINE\n",
      "GRAN_           Face it! If he actually had an idea of\n",
      "\n",
      "           his own I'd, I'd have a heart attack and\n",
      "\n",
      "           die!\n",
      "\n",
      "                         ON GRUG\n",
      "END OF LINE\n",
      "THUNK_           I wish I had a ride.\n",
      "\n",
      "                         ON THUNK\n",
      "END OF LINE\n",
      "GUY_           Grug. We have to keep moving.\n",
      "\n",
      "                         ON GRUG\n",
      "END OF LINE\n",
      "GRAN_           Hah, no I don't.\n",
      "\n",
      "                          DISSOLVE TO:\n",
      "END OF LINE\n",
      "UGGA_           What are you trying to do Grug?\n",
      "\n",
      "                         ON GRUG\n",
      "END OF LINE\n",
      "UGGA_                         \n",
      "\n",
      "           No more caves, Grug.\n",
      "END OF LINE\n",
      "GUY_                         \n",
      "\n",
      "           Tar.\n",
      "END OF LINE\n",
      "GRUG_                         \n",
      "\n",
      "           I guess I was just busy keeping them all\n",
      "\n",
      "           alive.\n",
      "END OF LINE\n",
      "GUY_           Ow!\n",
      "\n",
      "                         \n",
      "\n",
      "           I've got it!\n",
      "\n",
      "                          CUT TO:\n",
      "END OF LINE\n",
      "BELT_                          TA-DAAAAA\n",
      "END OF LINE\n",
      "GRUG_           Take us to Tomorrow.\n",
      "\n",
      "                          CUT TO:\n",
      "END OF LINE\n",
      "GRUG_           No more dark. No more hiding. No more\n",
      "\n",
      "           caves.\n",
      "\n",
      "                         BEAT\n",
      "END OF LINE\n",
      "GRUG_           What's the point of all this?\n",
      "\n",
      "                         BEAT\n",
      "END OF LINE\n",
      "GRUG_           I was thinking of calling it a Hug.\n",
      "\n",
      "          \n",
      "\n",
      "                         \n",
      "END OF LINE\n",
      "GRUG_                         \n",
      "\n",
      "           Hey, I did it.\n",
      "END OF LINE\n",
      "MACAWNIVORE_           Erm?\n",
      "\n",
      "                          CUT TO:\n",
      "END OF LINE\n",
      "UGGA_           Eep, if your Dad were here, he would tell\n",
      "\n",
      "                          YOU TO--\n",
      "\n",
      "           GRUG\n",
      "\n",
      "           GET OUT OF THE WAY!!!\n",
      "END OF LINE\n",
      "GRUG_           We should go there.\n",
      "\n",
      "                          DISSOLVE TO:\n",
      "END OF LINE\n"
     ]
    }
   ],
   "source": [
    "remaining_w_s = 0\n",
    "for line in croods_lines2:\n",
    "    if \"                         \" in line:\n",
    "        print(line)\n",
    "        print(\"END OF LINE\")\n",
    "        remaining_w_s += 1\n",
    "#    ws = re.findall(\" {15,}\", line)\n",
    "#    remaining_w_s.extend(ws)\n",
    "#len_r_w_s = [len(x) for x in remaining_w_s]\n",
    "#len(len_r_w_s)\n",
    "#cut to:, sigh, dissolve to: (sigh is fine) \n",
    "# (groan is okay i guess) (BEAT) (GASPS) (GASP) (ON THUNK) (ON GRUG) (THUNK MOANS) (X-DISS TO:) (ON GUY)"
   ]
  },
  {
   "cell_type": "code",
   "execution_count": 485,
   "metadata": {},
   "outputs": [
    {
     "data": {
      "text/plain": [
       "82"
      ]
     },
     "execution_count": 485,
     "metadata": {},
     "output_type": "execute_result"
    }
   ],
   "source": [
    "remaining_w_s"
   ]
  },
  {
   "cell_type": "markdown",
   "metadata": {},
   "source": [
    "This section fixes the two lines combined into one."
   ]
  },
  {
   "cell_type": "code",
   "execution_count": 486,
   "metadata": {},
   "outputs": [
    {
     "data": {
      "text/plain": [
       "733"
      ]
     },
     "execution_count": 486,
     "metadata": {},
     "output_type": "execute_result"
    }
   ],
   "source": [
    "croods_lines2.index(\"\"\"UGGA_           Eep, if your Dad were here, he would tell\n",
    "\n",
    "                          YOU TO--\n",
    "\n",
    "           GRUG\n",
    "\n",
    "           GET OUT OF THE WAY!!!\"\"\")"
   ]
  },
  {
   "cell_type": "code",
   "execution_count": 487,
   "metadata": {},
   "outputs": [],
   "source": [
    "croods_lines2[733] = re.sub('GRUG', '_NEWLINE_GRUG_', croods_lines2[733])"
   ]
  },
  {
   "cell_type": "code",
   "execution_count": 488,
   "metadata": {},
   "outputs": [
    {
     "data": {
      "text/plain": [
       "'UGGA_           Eep, if your Dad were here, he would tell\\n\\n                          YOU TO--\\n\\n           _NEWLINE_GRUG_\\n\\n           GET OUT OF THE WAY!!!'"
      ]
     },
     "execution_count": 488,
     "metadata": {},
     "output_type": "execute_result"
    }
   ],
   "source": [
    "croods_lines2[733]"
   ]
  },
  {
   "cell_type": "code",
   "execution_count": 489,
   "metadata": {},
   "outputs": [
    {
     "data": {
      "text/plain": [
       "['UGGA_           Eep, if your Dad were here, he would tell\\n\\n                          YOU TO--\\n\\n           ', 'GRUG_\\n\\n           GET OUT OF THE WAY!!!']"
      ]
     },
     "execution_count": 489,
     "metadata": {},
     "output_type": "execute_result"
    }
   ],
   "source": [
    "fixed_lines = croods_lines2[733].split('_NEWLINE_')\n",
    "fixed_lines"
   ]
  },
  {
   "cell_type": "code",
   "execution_count": 490,
   "metadata": {},
   "outputs": [
    {
     "data": {
      "text/plain": [
       "'UGGA_           Eep, if your Dad were here, he would tell\\n\\n                          YOU TO--\\n\\n           _NEWLINE_GRUG_\\n\\n           GET OUT OF THE WAY!!!'"
      ]
     },
     "execution_count": 490,
     "metadata": {},
     "output_type": "execute_result"
    }
   ],
   "source": [
    "croods_lines2.insert(733, fixed_lines[0])\n",
    "croods_lines2.insert(734, fixed_lines[1])\n",
    "croods_lines2.pop(735)"
   ]
  },
  {
   "cell_type": "code",
   "execution_count": 491,
   "metadata": {},
   "outputs": [
    {
     "data": {
      "text/plain": [
       "'THUNK_           Wow, you sound just like him.'"
      ]
     },
     "execution_count": 491,
     "metadata": {},
     "output_type": "execute_result"
    }
   ],
   "source": [
    "croods_lines2[735]"
   ]
  },
  {
   "cell_type": "markdown",
   "metadata": {},
   "source": [
    "End of section"
   ]
  },
  {
   "cell_type": "code",
   "execution_count": 497,
   "metadata": {},
   "outputs": [],
   "source": [
    "not_lines_idknow = []\n",
    "for line in croods_lines2:\n",
    "    not_line = re.findall(\" {25,}([A-Z]{3,} )+\", line)\n",
    "    not_lines_idknow.extend(not_line)"
   ]
  },
  {
   "cell_type": "code",
   "execution_count": 498,
   "metadata": {},
   "outputs": [
    {
     "data": {
      "text/plain": [
       "['CUT ', 'SIGH ', 'CUT ', 'GROAN ', 'CUT ', 'GASPS ', 'CUT ', 'CUT ', 'DISSOLVE ', 'THUNK ', 'CUT ', 'GASP ', 'CUT ', 'CUT ', 'CUT ', 'DISSOLVE ', 'CUT ', 'CUT ', 'CUT ', 'YOU ', 'DISSOLVE ']"
      ]
     },
     "execution_count": 498,
     "metadata": {},
     "output_type": "execute_result"
    }
   ],
   "source": [
    "not_lines_idknow"
   ]
  },
  {
   "cell_type": "code",
   "execution_count": 505,
   "metadata": {},
   "outputs": [],
   "source": [
    "croods_lines_final = []\n",
    "for line in croods_lines2:\n",
    "    new_line = re.sub(r\" {25,}([A-Z]{3,} )+\", \"_NOTLINE_\", line)\n",
    "    if \"_NOTLINE_\" in new_line:\n",
    "        new_line = new_line.split(\"_NOTLINE_\")\n",
    "        new_line = new_line[0]\n",
    "        croods_lines_final.append(new_line)\n",
    "    else:\n",
    "        croods_lines_final.append(new_line)"
   ]
  },
  {
   "cell_type": "code",
   "execution_count": 506,
   "metadata": {},
   "outputs": [
    {
     "data": {
      "text/plain": [
       "761"
      ]
     },
     "execution_count": 506,
     "metadata": {},
     "output_type": "execute_result"
    }
   ],
   "source": [
    "len(croods_lines_final)"
   ]
  },
  {
   "cell_type": "code",
   "execution_count": 507,
   "metadata": {},
   "outputs": [
    {
     "data": {
      "text/plain": [
       "['EEP_           With every sun comes a new day. A new\\n\\n           beginning. A hope that things will be\\n\\n           better today than they were yesterday.', \"EEP_           But not for me. My name's Eep. This, is\\n\\n           my family, the Croods. If you weren't\\n\\n           clued in already by the animal skins and\\n\\n           sloping foreheads - we're cavemen. Most\\n\\n           days we spend in our cave, in the dark.\\n\\n           Night after night, day after day. Yep.\\n\\n           Home sweet home. When we did go out, we\\n\\n           struggled to find food in a harsh and\\n\\n           hostile world. And I struggled to\\n\\n           survive my family.\", \"EEP_           We were the last ones around. There used\\n\\n           to be neighbors. The Gorts, smashed by a\\n\\n           mammoth. The Horks, swallowed by a sand\\n\\n           snake. The Erfs, mosquito bite. Throgs,\\n\\n           common cold. And, the Croods. That's\\n\\n           us. The Croods made it...\", 'EEP_           Because of my Dad. He was strong... and\\n\\n           he followed the rules.', 'EEP_           ... the ones painted on the cave walls.\\n\\n           Anything new is bad, curiosity is bad,\\n\\n           going out at night is bad. Basically,\\n\\n           anything fun is bad. Welcome to my\\n\\n           world.', 'EEP_           But this is a story about how all that\\n\\n           changed in an instant.', \"EEP_           Because what we didn't know, was that our\\n\\n           world was about to come to an end. And\\n\\n           there were no rules on our cave walls to\\n\\n           prepare us for that.\", 'GRUG_           Raaaaar grooooOOOOoooowwwll ERF ERF\\n\\n           Glaaaaaabbbbllllllllthhhh!', \"GRUG_           You're supposed to wait for my signal\\n\\n           Eep. Eep?\", \"EEP_           We've been in that cave forever.\", 'GRUG_           Three days is not forever.', 'EEP_           It is with this family.', \"GRUG_           Eep would you come down here? You're\\n\\n           being so dramatic.\", 'GRUG_           No, no, no Sandy, come back here.\\n\\n           Remember the signal. Good girls wait for\\n\\n           the signal.', 'GRUG_           Ugga.', \"UGGA_           As soon as I get Sandy, I'll go back in,\\n\\n           and you can give the signal.\", \"GRUG_           No, I mean, you're already out now.\\n\\n           THUNK\\n\\n           I am waiting for the signal, dad.\", 'GRUG_           Never mind, Thunk. Just, come out.', \"THUNK_          \\n\\n           Uhh, but if you don't give the signal,\\n\\n           how do I know you're my dad?\", \"GRUG_           The signal isn't so you know it's me,\\n\\n           it's so you know I wasn't eaten by an\\n\\n           animal.\", \"THUNK_           Then why is the signal an animal noise?\\n\\n           I mean, doesn't that just confuse things?\", \"THUNK_           I don't know... I'm still waiting for the\\n\\n           signal.\", 'GRUG_           Sigh. Hoo hooooo! Hoo hooooo!', \"UGGA_           Mom, we're ready to leave.\\n\\n                         \\n\\n           Mom!\", 'GRAN_           Still alive!', \"GRUG_           It's still early.\", \"GRAN_           And you're still fat.\", 'GRUG_           Breakfast formation!', 'GRUG_           I want to see some real caveman action\\n\\n           out there. We do this fast. We do this\\n\\n           loud, we do this as a family and never\\n\\n           not be afraid. Go!', 'THUNK_           YAY, BREAKFAST!!!!', 'THUNK_                         \\n\\n           Yeah... breakfast...', \"GRUG_           Who's up?\", \"GRUG_           We'll flip for it.\", 'GRUG_           Call her in the air.', 'EEP_           Heads.', \"GRUG_           Tails. Thunk's in.\", 'GRUG_           Positions.', 'GRUG_           Ok. Thunk. Go. Come on Thunk.', 'GRUG_           Hah! Way to go. Take it to the cave!', 'GRUG_           Oooh!', 'GRUG_           Release the baby.', 'UGGA_           Get um Mom! Do it for the Croods!', 'GRAN_           Old lady down! Eep, avenge me.', 'EEP_           Thanks!', 'GRUG_           Eep!', 'EEP_           Heads Up!', 'THUNK_           Oh hey Dad, can we eat now?', 'GRUG_           Just wait till we get home. Eep put on\\n\\n           the brakes.', 'GRUG_           Eep!', \"GRUG_           Who's hungry?\", 'THUNK_           Alright! Good one, dad!', 'GRUG_           Here you go, Thunk. Drink up.', 'THUNK_           Sorry, dad.', 'UGGA_           Looks like fast food tonight!', \"GRUG_           That's alright. I ate last week.\", 'GRAN_           Two knuckle warning.', 'UGGA_           Come on Croods. Go, go, go.\\n\\n', 'GRUG_           Come on, come on. Darkness brings death!\\n\\n           We know this.', 'UGGA_           The moon is full. Bath night.\\n\\n          \\n\\n           You too, Mom.', 'GRAN_           Run for your life.', \"GRAN_           I don't want to lose my protective layer.\", \"UGGA_           Mom, you've got ants.\\n\\n          \", \"UGGA_           See? Sandy doesn't fuss.\", 'GRAN_                         \\n\\n           Aaaaaaaaaah.', 'GRUG_           Is she still out there?', 'UGGA_           You know she hates the cave, Grug.', 'EEP_           Please come back tomorrow.', \"GRUG_           How can she not like the cave? It's so\\n\\n           cozy.\", 'UGGA_           It is a little, dark, Grug.', \"GRUG_           It's not that dark.\", 'GRUG_                         \\n\\n           Eep! Eep?', 'GRUG_           Come on, I gotta close the cave...', 'GRUG_           Eep!', 'EEP_           Okay, okay!', 'GRUG_           Come on.', 'GRUG_           EEP! COME DOWN!!', 'GRUG_', 'GRUG_           That was too close!', 'EEP_           I was watching. I was fine.', 'GRUG_           What were you doing up there, Eep?', \"EEP_           I don't know.\", 'GRUG_           What were you looking for?', 'EEP_           Nothing.', 'GRUG_           Well then why did you go up there?', \"EEP_                         \\n\\n           I don't know.\", \"GRUG_           Why don't you know? Stop looking for\\n\\n           things. Fear keeps us alive Eep. Never\\n\\n           not be afraid.\", \"EEP_                         \\n\\n           What's the point of all this?\", 'GRUG_           Hmmm? What was that?', 'EEP_          \\n\\n           I mean, why are we here? What are we\\n\\n           doing this for?', 'CROODS_', 'GRUG_           No one said survival was fun.', 'EEP_           Nothing is fun.', 'GRUG_           Hmm? Would you come down here. Eep?', 'UGGA_           Grug. Off.', 'GRUG_           Yes.', 'UGGA_           Off!', \"GRUG_           I just don't see why she needs her own\\n\\n           ledge. That's all. That's what this is\\n\\n           about.\", \"UGGA_           She's working through some things and\\n\\n           needs her own space.\", \"GRUG_           What things? How long is this going to\\n\\n           take? Really? I mean she already\\n\\n           doesn't listen to me.\", 'GRUG_           Hey!', \"UGGA_           See? She's listening.\", 'GRUG_           If she wants to survive, she has to\\n\\n           follow our rules.', 'UGGA_           How about a story? Eep loves those.', \"GRUG_                         \\n\\n           That's a good idea ... How about a story,\\n\\n           huh?\", 'THUNK_           Oh yeah, tell us a story.', 'GRUG_           Ok. Can I borrow that? Thank you. Eep!\\n\\n           Your old favorite?', \"EEP_           I haven't played with that thing in\\n\\n           years.\", \"GRUG_           Tonight we'll hear the story of Krispy\\n\\n           Bear.\", 'GRUG_           A long time ago, this little bear was\\n\\n           alive. She was alive because she\\n\\n           listened to her father and lived her life\\n\\n           in routine and darkness and terror. So\\n\\n           she was happy. But Krispy had one,\\n\\n           terrible problem. She was filled with...\\n\\n           curiosity.', 'UGGA_           Grug!', 'GRUG_           Yes. And one day, while she was in a\\n\\n           tree, the curious little bear wanted to\\n\\n           climb to the top.', 'THUNK_           Wha?', 'GRUG_           And no sooner than she climbed to the\\n\\n           top, she saw something new and died.', 'THUNK_           Just like that?', 'GRUG_           Yes! Her last moments of terror still\\n\\n           frozen on her face.', 'GRAN_           Oh, same ending as everyday.', 'THUNK_                         \\n\\n           I get it, dad. I get it. I will never\\n\\n           do anything new or different.', 'GRUG_           Good man, Thunk.', \"UGGA_           Alright, everyone sharpen your teeth and\\n\\n           let's pile up.\", 'CREATURE_           Nuh! Nuh!', 'GUY_           No!', 'EEP_           Augh!', 'GUY_           AAAAAAAUGHHHHHHHH!', 'EEP_           Shhh!', 'EEP_           Ow!', 'GUY_                         \\n\\n           Air.', 'EEP_           ...You talk.', \"GUY_           I'm a person, like you.\", 'GUY_           Sort of... like you.', 'GUY_           Okay, could you not, hee hee hee, that\\n\\n           tickles. Hey!', 'EEP_           Augh!', 'GUY_           OW! Wow. --', \"EEP_           Quiet! I'm not supposed to be out here.\", 'EEP_           OW!', \"GRUG_                         \\n\\n           Eep's gone.\", 'UGGA_           What? Grug!', 'GRUG_           Stay in the cave!', \"GUY_          \\n\\n           Wow. You're really strong.\", \"EEP_           No! It's mine. No, no. I caught it!\", \"GUY_           It's dying. I can fix it!\", 'GUY_           Please. I hate the dark.', 'EEP_           It does what you tell it?', 'GUY_           Well, yeah, sort of.', 'EEP_           The sun?', 'GUY_           No, no. Fire.', 'EEP_          \\n\\n           Hi, fire.', \"GUY_                         \\n\\n           It's not alive.\", 'EEP_           But you said it was dying.', 'GUY_           Uh sorry,--', 'EEP_           It comes from where you come from?', 'GUY_           No. I make it.', 'EEP_           Make some for me.', \"GUY_           Ow. Okay, it doesn't come out of me.\", 'EEP_           Make. MAKE! MAKE IT!', 'GUY_           You do this a lot.', \"EEP_           Are you dead? Can I have your fire if\\n\\n           you're dead?\", 'GUY_           Hey, those are cold!', 'BELT_           Squirf!', 'GUY_           You think? Listening shells, activate.', 'GUY_           I concur. Tiger girl, we need to leave\\n\\n           immediately.', \"EEP_           I don't even know you.\", \"GUY_          \\n\\n           Ow. I'm Guy.\", 'EEP_           Guy?', 'GUY_           And this is Belt. Cook,\\n\\n           conversationalist, navigator, also keeps\\n\\n           my pants up.', 'BELT_           Hhiiyaa! Yaaa!', 'EEP_           What are \"pants up?\"', 'GUY_           Who are you?', 'EEP_           Eep.', 'GUY_          \\n\\n           Let me clarify, Eep. The world is\\n\\n           ending.', 'EEP_           What?', \"GUY_           I'm calling it...\\n\\n                         \\n\\n           The... End.\", 'BELT_           Da da daaaaa.', 'EEP_           How do you know?', \"GUY_           I've seen it. It's coming this way.\\n\\n           First, the Earth is going to shake. Then\\n\\n           it breaks open. Everything falls in.\\n\\n           Fire. Lava. I don't mean to sound too\\n\\n           dramatic, but Aaaaaaaugh. Believe me,\\n\\n           everything we're standing on, all this\\n\\n           right here, will be gone.\", \"GUY_           We've got to get to high ground. I know a\\n\\n           mountain, that way--\", \"GUY_           It's our only chance.\\n\\n          \\n\\n           Come with me.\", \"EEP_           I can't.\", 'GUY_           Okay. Here. If you survive, call me.', 'EEP_           Thank you. Hello? Hey!', 'EEP_           Dad!', 'GRUG_           Are you hurt? What took you?', 'EEP_           Nothing. I left on my own.', 'GRUG_           You... youuuuuuu... ww-what!?', 'EEP_           Dad, let me explain...', 'EEP_                         \\n\\n           You never let me talk.', \"GRUG_           You're grounded.\\n\\n\", 'GRUG_           Hey!', 'UGGA_           Eep!', 'EEP_           Mom!', 'UGGA_           Grug! What happened!?', \"GRUG_           You know what, I am so mad right now,\\n\\n           that I can't talk to her.\", 'UGGA_           Eep?', \"EEP_           You'll never believe it. I found\\n\\n           something new.\", 'CROODS_           New?!!!!', \"GRUG_           New's a big problem!\", 'EEP_           Wait. Wait!', 'UGGA_           Eep. Stay inside the family kill circle.', \"EEP_           It wasn't bad.\", 'GRUG_           New is always bad.', 'EEP_           No. He was nice.', 'GRUG_           What!? Excuse me? He?', 'EEP_           Oh. Well, I thought he was a warthog,\\n\\n           but then he turned into a boy.', \"GRAN_           Strange. Usually it's the reverse.\", \"THUNK_           Eep's got a boy hog! Eep's got a boy\\n\\n           hog!\", \"EEP_           There was a boy. Watch, okay. I'm gonna\\n\\n           call him.\", 'EEP_           What is wrong with you?', 'GRUG_           It was dangerous.', 'EEP_                         \\n\\n           It was beautiful. You want to see\\n\\n           dangerous? Here.', 'THUNK_           Owww! My sniffer!', \"GRUG_           Okay Eep, that's it. We're going back to\\n\\n           the cave and you're going to stay in\\n\\n           there until you're older than... her!\", \"EEP_           What!? You can't keep me inside forever!\", 'EEP_           He said this would happen.', 'GRUG_           Get to the cave! GO!', 'GRUG_           Look out! Stop!', 'GRUG_           Is everyone okay?', \"UGGA_           Yes. Grug, the cave, it's gone.\", 'GRUG_           No.', 'EEP_           You really need to see this...', 'EEP_           We should go there!', 'GRUG_           No. No one is going anywhere.', 'GRUG_           What else did that boy say?', 'UGGA_           Grug?', 'GRUG_           Just go! Go! Go!', 'GRUG_           One, two, three, four, five --', 'GRUG_                         \\n\\n           Six.', 'GRAN_          \\n\\n           Oh... Where are we?', \"GRUG_           I don't know, I'm not sure. Down. In a\\n\\n           lower place. One thing's for sure, we\\n\\n           can't go back the way we came.\", 'SANDY_           Sniff sniff sniff \\n\\n           Grrrrrrrrrrr..... ', 'UGGA_          \\n\\n           Sandy? What is it?', 'GRUG_           No, no! Come back, Sandy!', \"GRUG_                         \\n\\n           We can't be out in the open like this.\\n\\n           We need a cave. Now step where I step.\", \"GRUG_                         \\n\\n           Okay. Stay quiet. Hopefully nothing big\\n\\n           knows we're here yet.\", 'GRUG_           Wait. Okay. Wait. Okay. Wait. Okay.', 'THUNK_                         \\n\\n           So Dad, just to be clear, are we looking\\n\\n           for the exact same cave?\\n\\n                         ', \"THUNK_           If it was me, I'm just throwing this out\\n\\n           there, if it was me choosing the cave, I\\n\\n           would go with a smaller cave.\", 'GRUG_           Wait.', 'THUNK_           Dad?', \"GRUG_           I'll take care of this.\", 'GRUG_           WWAAAAaaarrgghhaarrraaaarrgghhh!!', \"THUNK_           Alright dad, go get `em! Oh, oh, now you\\n\\n           got em-- Now they're really hitting you.\\n\\n           Dad I got it, just stop running into\\n\\n           their fists.\", \"GRAN_           Hah, I'm loving this.\", \"UGGA_           Grug, when you're done, we should get\\n\\n           going.\", \"GRUG_           That's right! You can't get past this!\", 'CHUNKY_           ROOOAR!', 'CROODS_', 'GRUG_           Climb! Climb! Climb!', 'GRUG_           CAVE! GO! GO!', \"GRUG_           Come on! Hurry up, let's go! Come on!\", 'THUNK_           Hey look! This cave has a tongue.\\n\\n           Awesome!\\n\\n', \"GRUG_           Okay, that's one, two, three, four,\\n\\n           five... six...\", \"GRAN_           And seven... if we're counting Chunky the\\n\\n           Death Cat.\", 'CHUNKY_           Grrrrrrrrr.', \"THUNK_           Hah! It's scared of the dark... wait...\\n\\n           we're scared of the dark.\", 'GRUG_           Kill circle!', 'GRUG_           Eep! Eeeep!', 'GUY_           Ta-da.', 'EEP_          ', 'GRUG_           Auughhauhhhgggh!\\n\\n           SMASH CUT TO:', 'CROODS_           Raaarr,\\n\\n           grOooOOOOowwllll,', 'ERF ERF_           GLaaabbbllllellelller!', 'GUY_           Cavies!', 'EEP_           Cavies?', \"GUY_           Cavemen! Stand back! They're\\n\\n           practically animals. See their bony,\\n\\n           sloping foreheads?\", 'EEP_           Oh... yeah!', 'GUY_           The huge primitive teeth?', 'EEP_           Er... yeah...', \"GUY_           The excessive body hair? Oh, that one's\\n\\n           got a tail...\", 'EEP_           Uhhh... yeah...', \"GUY_           Close your eyes. I'm going to have to\\n\\n           take their lives.\", \"EEP_          \\n\\n           No. It won't help.\\n\\n                         \\n\\n           They're my family.\", 'GUY_           What?', 'THUNK_           Ah, the sun is in his hands!', 'EEP_           No. No. It\\'s \"fire.\"', 'UGGA_           Where did it come from?', 'EEP_                         \\n\\n           He made it.', 'GRUG_           Make some for me!', \"EEP_           It doesn't come out of him.\", 'GRUG_           Make. Make it.', \"GUY_           You know, you're a lot like your\\n\\n           daughter.\", \"EEP_           Great, now he's broken.\\n\\n           UGGA\\n\\n           Oh, it's a baby sun.\", \"GRUG_           Whoa! Stay back. We don't know what it\\n\\n           wants.\", \"GRUG_           Now we'll all sit here, and wait for the\\n\\n           sun to come back. And tomorrow we'll\\n\\n           find a new cave, and pretend today never\\n\\n           happened.\\n\\n                         \", \"GRUG_          \\n\\n           Isn't this fun, Eep?\", \"GRUG_           Eep, don't touch him. Goodness knows\\n\\n           where he's been.\", \"THUNK_           Dad, Sandy's hurting fire.\", 'GRUG_           Sandy! No! Fire is not a play thing!', 'UGGA_           Aww, what a cute little guy.', 'GRUG_           Hey, stay back.', 'GRUG_           No, no, no, wait!', \"THUNK_           It likes me!\\n\\n          \\n\\n           Hey! IT'S BITING ME!!\", \"THUNK_                         \\n\\n           Ow! You're not my friend. Stop, stop\\n\\n           touching me!\", 'GRUG_           Thunk! Uh, try hiding from it in the\\n\\n           tall dry grass!', \"THUNK_          \\n\\n           Stop please, please. I'm only nine.\", 'UGGA_           Ooh, more fire babies.', 'EEP_           Hi.', \"GUY_           So, your Dad, he's trying to kill me.\", \"EEP_           Yeah. But I won't let him.\\n\\n\", \"THUNK_           I don't like you anymore!\", 'SANDY_           Weeeee!!!!\\n\\n           Gran, who is still trying to put out her stick, is', 'GRAN_           Get out! Out!\\n\\n           Ugga carries a REDWOOD above her head and then tosses', 'UGGA_           Eat up, babies!', 'GRAN_           Die! Die!', 'GRAN_           I win!', \"EEP_           They're not so scary once you get to know\\n\\n           them.\", 'GUY_           Who are you people?', \"UGGA_           Oh, I'm sorry. We're the Croooooods!\\n\\n           And you are?\", 'GUY_           Uh, Guy.', 'CROODS_                         \\n\\n           Hi, Guy.', 'THUNK_           Wow! Looks like magic. And smells like\\n\\n           food.', \"GRUG_           Don't eat it, it's new.\\n\\n\", 'CROODS_           Still alive!', 'BELT_           Squirf!', 'GUY_           gasping for air \\n\\n          ', \"EEP_           Hey, where's Guy?\", 'GUY_           No!', 'EEP_           Going somewhere?', 'GUY_           The mountain? High ground? End of the\\n\\n           world, remember?', 'EEP_           That already happened. It destroyed our\\n\\n           cave.', 'GUY_                         \\n\\n           Noooo. That was just the beginning of the\\n\\n           end. The end of the end is still coming.', 'GRUG_          \\n\\n           Eep. Drop it.', \"EEP_           We can't let him go! What if we don't\\n\\n           find a cave before sunset? What if it\\n\\n           takes a few days? What if the birds come\\n\\n           back?\", 'GRAN_           We need his fire, dummy!', \"GRUG_           Fine. You're staying with us till we\\n\\n           find a cave.\", \"GUY_           What? No I'm not. Don't make me part of\\n\\n           this. Stay here if you want, but let me\\n\\n           go. I've got a dream, a mission, a\\n\\n           reason to live.\", 'EEP_                         \\n\\n           Not anymore.', \"GUY_                         \\n\\n           Umm... I've got an idea. Let's go to\\n\\n           that mountain.\", \"GRUG_                         \\n\\n           It's too far.\", 'EEP_           Dad really has his heart set on a cave.', 'GUY_           Uh, there, are, caves on that mountain.', 'EEP_           Have you been there?', \"GUY_           It's a mountain. Mountains are safe.\\n\\n           Mountains have caves. And water. And\\n\\n           sticks.\", 'THUNK_           Mom? Did you hear that? I can get my\\n\\n           own stick!', \"GUY_           Yes. Sticks. Caves and sticks. Crazy\\n\\n           sticks. Let's go.\", 'BELT_           Da da daaaaa.', 'THUNK_           Ugh. That thing is weird.', \"EEP_           No no, it's okay Sandy. That's just a\\n\\n           belt.\\n\\n           Grug takes a step back. Turns.\", \"GRUG_           I've made a decision. We're going to,\\n\\n           that mountain! Don't ask me why. It's\\n\\n           just a hunch. It just feels right.\", \"UGGA_           I don't know Grug. We've never really\\n\\n           walked that far.\", \"THUNK_           I don't think my feet can do that.\", \"GRAN_           I'll never live long enough to get there.\", \"GRUG_                         \\n\\n           Let's do it.\\n\\n                         \\n\\n           Oh come on, just think. Our whole\\n\\n           family, packed together on a long, slow\\n\\n           trip across country? Days and nights\\n\\n           with just each other. We'll tell\\n\\n           stories. We'll laugh.\\n\\n          \\n\\n           We'll become closer as a family.\", 'THUNK_           Aaaaaaaaugh. Get her off. Get off.', \"UGGA_           If you're not ready to challenge her,\\n\\n           then don't look her in the eye.\", 'GRAN_           Could you keep your big giant arms on\\n\\n           your side of the trail!', 'UGGA_           No more touching. No more touching.', \"EEP_           Isn't this fun? We're taking our first\\n\\n           trip together.\", 'EEP_           Stop shoving, or I will pull out your\\n\\n           tongue!', 'GRUG_           Do you want me to turn this family\\n\\n           around? Do you?! Because I will turn\\n\\n           this family around so fast!', 'THUNK_           Dad, I gotta go!', 'GRUG_           Come on, you can hold it.', \"THUNK_           I don't think so.\\n\\n\", 'THUNK_                         \\n\\n           I gotta go really bad.', 'GRUG_                         \\n\\n           Go behind one of those lumpy things and\\n\\n           make it fast.', 'THUNK_           Ow! Something bit me!', \"GRAN_                         \\n\\n           I don't blame it.\", 'UGGA_           Maybe we should have stopped for water.\\n\\n                         X-DISS TO:', 'EEP_           Dad, can I take a turn carrying him?', 'GRUG_           No.', 'EEP_           How about now?', 'GRUG_           No.', 'EEP_           Now?', 'GRUG_           No.', 'EEP_           NOW?!?!', 'GRUG_           NO!', 'EEP_           NOW?!?!', 'GRUG_           I can do this all day long. No, no, no,\\n\\n           and still no.\\n\\n                         X-DISS TO:', \"GRAN_           I'm not dying on an empty stomach.\", \"UGGA_           Grug, we're all pretty tired.\", \"THUNK_           I'm pretty dizzy, so I'm just going to\\n\\n           lay down for a minute.\", \"GRUG_           We'll eat when we get there.\", \"GRAN_           It's taking too long! I'm grabbing a\\n\\n           snack.\", \"GUY_           No. No. No. Don't do that. He will cut\\n\\n           you. That's not food, he's a pet. My\\n\\n           pet.\", \"GRAN_           What's a pet?\", \"GUY_           An animal that you don't eat.\", 'GRAN_           We call those children.', \"GRUG_           No man should have a pet. It's weird,\\n\\n           and wrong. It's--\\n\\n          \\n\\n           ...It's food!\", 'GUY_           No, no please!', 'GRUG_           Not that. That.\\n\\n', 'GRUG_           Food fixes everything.', 'GRUG_           Alright, show me your hunting face.', 'THUNK_           Arrgh.', \"GRUG_           Not you! You're still grounded!\", 'GRUG_           Come on, Thunk.', 'THUNK_           My feet hurt.\\n\\n                         ON GUY', 'GUY_           You look tense.', \"EEP_           I'm not tense.\", \"GRAN_           Angry girl wants to be doing what they're\\n\\n           doing.\", \"THUNK_           Ow! I wasn't ready!\", \"GRUG_           Hang on Thunk, I'm coming!\", 'THUNK_           Why are you doing this?', 'GUY_           What are they doing?', 'UGGA_           Hunting.', 'THUNK_           Get it off! You stay away from me.', 'GUY_           No seriously, what are they doing?', \"THUNK_          \\n\\n           You've got a ton of eggs. Just make\\n\\n           another egg!\", \"THUNK_           Now you're just rubbing it in.\", \"GRUG_           There! Who's hungry for scorpion?\", 'GUY_           What happened to the egg and the bird?', 'THUNK_                         \\n\\n           You know, we lost him. But when the bird\\n\\n           stepped on me and pushed me into the\\n\\n           ground, the scorpion grabbed a hold of me\\n\\n           and one thing led to another and here we\\n\\n           are eating him. Win win.', 'GRAN_           Not enough. Not enough. I need more. I\\n\\n           need more!', \"GUY_                         \\n\\n           Oh, look at that. She's not gonna eat me\\n\\n           right?\", \"UGGA_           You're too skinny. If she was gonna eat\\n\\n           anyone it would be--\", 'THUNK_           AAAAAAAAAUUGHHHHHHHH!', \"THUNK_           Owww! She's locked her jaw!\", 'UGGA_           Mom!', 'THUNK_           Someone get a stick! Get her off!', 'THUNK_           Oh you sick old monster! Hurry! Put the\\n\\n           stick in her mouth!', 'GRUG_           Hold her still. Use a rock. Ugga would\\n\\n           you just hit her legs.', 'EEP_           Why are you rolling away?', 'GUY_           Owww! I just want something to eat.', 'EEP_           You have bug for dinner. Plenty of bug!', \"GUY_           Please... I'll let you help me hunt.\", 'EEP_           Really?', \"THUNK_           Ahhh! They're all over me... Tell my\\n\\n           story...\", 'GUY_           Okay.', 'EEP_           What do you call this?', 'GUY_           A trap.', 'EEP_           What does it do?', 'GUY_          \\n\\n           soft whistle Raargh, Thump thump thump,\\n\\n           thubububububub soft whistle poom!\\n\\n           Tadaaaaaa!', 'EEP_           How long have you been alone?', 'EEP_           ... So what do we do?', \"GUY_           How's your acting?\", \"GUY_           Oh, you're good at this.\", 'GUY_           Oh, sorry, I...', \"EEP_           Just move your arm... no, your other arm.\\n\\n           Oh, that one's mine.\", \"EEP_           Uh... It didn't step in your trap-y,\\n\\n           thing.\", 'GUY_           Yeah, I noticed.', \"GRUG_           Where's Eep?\", \"GUY_           She's awesome.\", 'GRUG_           Eep!', 'EEP_           Dad, no!', \"THUNK_           It's an avalanche of flavor.\", \"GUY_                         \\n\\n           Looks like we won't be having any\\n\\n           leftovers.\", 'EEP_           What are \"left-overs?\"', 'GUY_                         \\n\\n           You know, when you have so much food to\\n\\n           eat you have some, left over.', 'EEP_           We never have that much food.', 'UGGA_           Grug, how about a story?', \"GRUG_           That's a good idea. How about a story\\n\\n           huh?\", 'THUNK_           Yeah a story, tell us a story!', \"GRUG_           Once upon a time there was a little tiger\\n\\n           who lived in a cave with her family.\\n\\n           There were a lot of rules, but the big,\\n\\n           simple one was to never leave the cave at\\n\\n           night. And the door was so heavy, you'd\\n\\n           think it would be easy to remember.\", 'THUNK_           So easy to remember!', 'GRUG_           I know! But, while everyone was asleep,\\n\\n           she went out anyway.', 'CROODS_           No!', 'GRUG_           Yes! And no sooner than she did, her\\n\\n           cave was destroyed and everyone had to go\\n\\n           on this long, sucky walk, with some\\n\\n           weirdo they met, and died! The end.', 'GUY_           Whoa! I did not see that coming. Twist\\n\\n           ending. My stories never end like that.', 'THUNK_           Yes! Two stories in one night!', 'GUY_           Okay. But it won\\'t be as good as Grug\\'s.\\n\\n           Um, once upon a time, there was a\\n\\n           beautiful tiger. She lived in a cave\\n\\n           with the rest of her family. Her father\\n\\n           and mother told her, \"You may go anywhere\\n\\n           you want but never go near the cliff, for\\n\\n           you could fall.\"', 'GRUG_           And die. Good story.', 'GUY_           But when no one was looking, she would go\\n\\n           near the cliff, for the closer she came\\n\\n           to the edge, the more she could hear, the\\n\\n           more she could see, the more she could\\n\\n           feel. Finally, she stood at the very\\n\\n           edge, and she saw a light. She leaned\\n\\n           out to touch it, and slipped.', 'GRUG_           And she fell.', 'GUY_           And she flew.', 'CROODS_', 'THUNK_           Where did she fly?', 'GUY_           Tomorrow.', 'EEP_           Tomorrow?', 'GUY_           A place with more suns in the sky than\\n\\n           you can count.', 'THUNK_           It would be so bright.', 'GUY_           A place not like today, or yesterday, a\\n\\n           place where things are better.', \"GRUG_           Tomorrow isn't a place, you can't see it!\", \"GUY_           Oh yes, yes it is. I've seen it. That's\\n\\n           where I'm going.\", \"GRUG_           Well, WE are going to shut our eyes and\\n\\n           sleep. And when we wake up we're going\\n\\n           to find the place that has everything we\\n\\n           want.\", 'EEP_           Tomorrow?!', 'GRUG_           A cave.', 'GRUG_           snoring, tossing and turning ', 'GUY_           AAAAAAAAAAAAAAAAAAAAUGHHHHH.\\n\\n           SMASH CUT TO:', 'GUY_           That was too close. It almost caught us.', 'GRUG_           I was watching. We were fine.', 'GUY_           We\\'ve got to move faster. Do you people\\n\\n           have any other speed aside from \"wander?\"\\n\\n           I\\'ll take a shamble at this point.', 'EEP_           Hey, do you have a minute? How did the\\n\\n           tiger fly?', \"GUY_           I only share when I'm outside the log.\\n\\n           I'm funny that way.\", 'EEP_                         \\n\\n           Leave this to me.', 'EEP_           Hey Thunk, you have a spider on your\\n\\n           face.', 'EEP_                         \\n\\n           Oops.', \"GRUG_           He's loose!\", 'GRUG_           Aaaaahhhhhh! Do not step on those weird,\\n\\n           pointy rocks!', 'THUNK_           You mean these rocks? Ahh owww! Do not\\n\\n           step on these rocks!', 'GRAN_           Step aside, girls!', \"GRUG_           Hello? Nobody's listening! No one is\\n\\n           listening. You cannot walk on those!\", 'GRUG_           Arraughrragh come back here now.', 'GRAN_           Well, there goes our chance for survival.', 'THUNK_           And our log!', 'GRUG_           Okay. Arraugh!', 'GUY_           Ow, ow, ow.', \"THUNK_           Ow! Jumping doesn't help, I mean, just\\n\\n           briefly, but it doesn't get better! Ow!\\n\\n           Do not walk on your hands, the hands do\\n\\n           not help at all.\", 'BELT_           Eeccoomme on!', \"GUY_           I can help you, but we're going to have\\n\\n           to make a few changes around here. The\\n\\n           log ride is over. Drop the log.\", 'GUY_           Now, kick it away.', 'GUY_           Farther.', 'GUY_           Really?!', 'GRUG_           Okay, smart, Guy... now what?', 'THUNK_           Ahhhh! Good fish.', 'GUY_           Okay. Now you can look.', 'EEP_           Aaaaaaaaaaaaaaaaaahhhhhhhhhhh! I love\\n\\n           them! Where are my feet!?', \"GUY_           They're still there!\", 'EEP_           Oh, okay.', \"GUY_           Whoa. You're really\\n\\n                         \\n\\n           ... heavy.\", 'EEP_           Really? Thank you!', 'GRUG_           Hey, wait. Whoa. Whoa. WHOA!!', \"GUY_                         \\n\\n           Okay! She's up. I'm good. We're\\n\\n           good...\", 'GRAN_           These shoes are great! Where do you get\\n\\n           these ideas?', 'GUY_           Ah ha.', \"GUY_           I'm calling it, a brain. I'm pretty sure\\n\\n           it's where ideas come from.\", \"THUNK_           Dad. I don't have a brain.\", \"GRUG_           We've gotten along just fine without\\n\\n           brains till now. Cavemen don't need\\n\\n           brains. We have these. Heeya! Haha!\\n\\n          \\n\\n           That's what I'm talking about! Ideas are\\n\\n           for weaklings.\", \"GRUG_           Now, let's get to that mountain.\", \"THUNK_           Good fish. Don't eat my feet.\\n\\n\", \"EEP_           So... How'd the tiger fly?\", \"GUY_           He jumped on the sun and rode it to\\n\\n           tomorrow.\\n\\n           Grug doesn't like seeing his daughter so close to Guy.\", 'GRUG_           No, no, no!', 'GRUG_           Ooowwwww!', 'THUNK_           Hi dad! Bye dad!\\n\\n', \"GUY_           You've seen rain before... right?\", \"EEP_           We don't get out much.\", 'BELT_           Hmmmmm.', 'GRUG_                         \\n\\n           Eep, looks dangerous.', 'EEP_           Oh dad, you say that about everything.', 'GUY_           Careful.', 'EEP_           Oh really? Okay.', 'GRUG_           Augh! No no no! Not cool. Not cool.\\n\\n           Not cool.', 'GUY_           So the bear says, \"Your cave?\" I\\'ve been\\n\\n           dumping my bones here since last week.', \"GRAN_           Last week, haha. That's a funny story!\", \"GUY_           It's not a story! It's a joke.\", \"GRAN_           What's a joke?\", 'GUY_           You know, just making something up... to\\n\\n           make you laugh.', \"GRAN_           Hah, I don't get it.\\n\\n\", 'GUY_           Here you go, one for you, and this ones\\n\\n           for you.', 'THUNK_           Thanks.', \"GRUG_           Okay. Okay. That's enough. I don't see\\n\\n           why the kids need their own shells.\", 'GUY_           So if anyone gets in trouble, we can call\\n\\n           the others.', \"GRUG_           Wait-- you're saying we should split up?\", \"GUY_           We can try more paths at once. It's the\\n\\n           fastest way through.\", 'GRUG_           Croods stick together.', \"GRUG_           Your way isn't safe.\", 'GUY_           They can handle it.', 'EEP_           We can do it, dad.', \"GRUG_           No no no no no. It's my job to keep you\\n\\n           safe. I'm still in charge and we are not\\n\\n           splitting up.\\n\\n          \\n\\n           Except for you two. And that's final.\", 'GUY_           Oh, hello.', 'GRUG_                         \\n\\n           Hello? Is everyone alright?', \"UGGA_          \\n\\n           We're okay, Grug.\", \"THUNK_           Dad? I'm freaking out a little bit.\\n\\n           Just tell me what to do. Just what do I\\n\\n           do right now?\", \"GRUG_           Stay where you are. I'll find you.\", \"GUY_           No. Too slow. Everybody, keep moving\\n\\n           forward and we'll get out.\", 'THUNK_           Dad?', 'GRUG_                         \\n\\n           Yeah. Okay.\\n\\n                         ON THUNK', \"THUNK_           It's gonna be okay. I'm gonna pass out.\", 'EEP_           You dropped these.', 'GUY_           Come with me.', 'THUNK_           Here boy, catch!', 'THUNK_           Gran?', 'EEP_           Mom?', 'BELT_                         \\n\\n           Raaah raaah.', 'UGGA_           Grug?', \"UGGA_           I'll go get him.\", \"THUNK_           Good boy. Whose my good boy? You need a\\n\\n           name, you want a name? I'm going to call\\n\\n           you - Douglas. Look at him. Can you do\\n\\n           tricks? Roll over. Come on Douglas,\\n\\n           roll over.\", 'THUNK_           Good boy Douglas!', 'GRAN_           I was in love once. He was a hunter, I\\n\\n           was a gatherer. It was quite a scandal.\\n\\n           We fed each other berries. We danced.\\n\\n                         ', 'GRAN_           Then my father smashed him with a rock\\n\\n           and traded me to your Grandfather.\\n\\n           SANDY/THUNK/EEP\\n\\n           Ha ha ha ha ha ha ha!', 'BELT_           Ha ha ha ha.', 'GRUG_                         \\n\\n           Croods! Come get down here!', \"UGGA_           Grug, they're okay. Guy's with them.\", \"GRUG_           Oh, oh, `Guy'. `Guy' is with them. Well\\n\\n           thank you for bringing me that\\n\\n           interesting Guy update!\", \"UGGA_           Oh, okay. I'm gonna go up and why don't\\n\\n           you join us when you stop being a big\\n\\n           drag!\", 'GRUG_           Sleep pile? How about a story, huh?\\n\\n           Anyone?', 'GRAN_           And then Torg said \"Know it? I drew it!\"', 'THUNK_           That makes no sense.', 'UGGA_                         \\n\\n           I know it was hard for you to bring us\\n\\n           along, but they had the best day of their\\n\\n           lives... Thank you for that.', 'GUY_           I want to show you something.', 'THUNK_           More suns in the sky than you can count.', 'GUY_           Every sun that crosses our sky, comes to\\n\\n           rest up there.', 'EEP_           Tomorrow.', \"GUY_           That's where we'll be safe.\", \"EEP_           I'm going with Guy.\", 'GRUG_                         \\n\\n           No. Not my little girl.', 'EEP_           Come with us.', \"UGGA_           I can't go without Grug.\", 'GRAN_           Well, that makes one of us. Count me in!', 'UGGA_           Really Mom? Now?', 'GRAN_           Grug has no idea how to protect us. In\\n\\n           fact, he has no ideas at all.', \"UGGA_           No, that's not true. What about that one\\n\\n           time when he a...\", \"GRAN_           Face it! If he actually had an idea of\\n\\n           his own I'd, I'd have a heart attack and\\n\\n           die!\\n\\n                         ON GRUG\", 'UGGA_           Grug?', 'THUNK_           Dad?', 'EEP_           Dad?', \"GUY_           He's a big guy. How can he just disappear\\n\\n           like that?\", \"THUNK_           Hey wait. Let's ask that ugly lady if\\n\\n           she's seen dad.\", 'UGA_           Yeah.', \"GRUG_           Haven't seen him.\", 'UGGA_           Augh!', 'GRUG_          \\n\\n           Yeah, Wow. Like, I was up all night cuz\\n\\n           like all these, ideas just kept coming to\\n\\n           me.', 'GUY_           Is that a snake?', \"GRUG_           Belt! New and improved! It's even self-\\n\\n           tightening. Ow!\", 'UGGA_           What is that on your head?', \"GRAN_           It's called desperation.\", 'GRUG_          \\n\\n           I call it a \"rug.\" Rhymes with Grug.\\n\\n           And this one. I call it a \"ride.\"\\n\\n           Rhymes with Grug.', \"GUY_           That, doesn't--\", \"GRUG_           It's gonna get us places faster than\\n\\n           shoes.\", 'GRUG_           Yeah. Try to keep up.', 'THUNK_           I wish I had a ride.\\n\\n                         ON THUNK', 'GRUG_           Painting is a thing of the past. I call\\n\\n           this, a \"snap-shot.\"', \"THUNK_           Let's do it again. I think I blinked.\", 'GRUG_           I call them \"shades.\"', \"THUNK_           The sun doesn't hurt my eyes anymore!\\n\\n           Where do you get these great ideas?\", \"GRUG_           Since I don't have a brain, they're\\n\\n           coming from my stomach. Down deep below,\\n\\n           and then up again into my mind.\", 'GUY_           Grug. We have to keep moving.\\n\\n                         ON GRUG', 'GRUG_           See, I got ideas, I got thoughts.', 'GRUG_           Like this. I call it a \"mobile home.\"\\n\\n           Isn\\'t that something?', 'GRUG_           And I\\'m calling this one a \"lifterator.\"', 'EEP_           Mom?', \"UGGA_           I know. It's bad.\", 'GRAN_           I almost feel sorry for him.', \"GRAN_           Hah, no I don't.\\n\\n\", 'UGGA_           What are you trying to do Grug?\\n\\n                         ON GRUG', \"GRUG_           I thought if I could have ideas like Guy,\\n\\n           maybe Eep would listen to me. Maybe she\\n\\n           wouldn't want to go with Guy.\", 'UGGA_           Oh Grug, is that what this is all about?', 'GRUG_           And I also thought it would kill your\\n\\n           mother. So you know? Win win.', \"GUY_           We're here.\", \"GRUG_           Cave! Everyone inside. Come on! Hurry\\n\\n           up, let's go. Go, go.\", 'EEP_           No.', 'UGGA_                         \\n\\n           No more caves, Grug.', 'GRUG_           What?', \"GRAN_           We're gonna jump on the sun and ride it\\n\\n           to Tomorrow with Guy.\", \"GRUG_           Wait, so you're all going to do this?\", 'GRUG_           Thunk?', 'THUNK_           Sorry, dad.', 'EEP_           You have to stop worrying for all of us.', \"GRUG_           It's my job to worry. It's my job to\\n\\n           follow the rules.\", \"EEP_           The rules don't work out here.\", 'GRUG_           They kept us alive.', \"EEP_           That wasn't living, that was just, not\\n\\n           dying. There's a difference.\", 'GRUG_           Ugga, everyone, you have to listen to me.', 'EEP_           We would be dead if we listened you.', 'EEP_           We have to follow Guy now.', 'GRUG_           Guy?', 'UGGA_           Guy, run.', 'GRUG_           AAAAAAAAAAUGHHHHHHHHHHHHH!!!!', \"GUY_           This is pointless. We're running out of\\n\\n           time. Everything is collapsing. You're\\n\\n           being irrational and counterproductive.\", 'GRUG_           Big words anger me. Keep talking.', 'GUY_           Countermeasures.', 'GUY_           Remember how you were this morning? You\\n\\n           changed, remember? Idea man? Modern\\n\\n           man?', 'GRUG_           I... am... a... CAVEMAN.', 'GUY_           No, no, no wait.', 'GRUG_           Hnnnnnngh! No. What is this stuff that\\n\\n           saves you from my punches?', 'GUY_                         \\n\\n           Tar.', 'GUY_           Please Grug. You have to stop struggling.', 'GRUG_           No. I have to get back to them.', 'GUY_           Grug! Stop!', 'GUY_           No one gets out of this. Believe me. I\\n\\n           know.', 'GRUG_           Your...?', 'GUY_           Family. Yeah.', 'GRUG_           Sorry.', 'GUY_           I was little when it happened. The last\\n\\n           thing my parents told me was, \"Don\\'t\\n\\n           hide. Live. Follow the Sun. You\\'ll\\n\\n           make it to Tomorrow.\"', 'GRUG_           You followed the light. My daughter is a\\n\\n           lot like you.', \"GUY_           No. She's like you. She loves you but\\n\\n           always forgets to say it. Just like you\\n\\n           forget to tell her.\", 'GRUG_                         \\n\\n           I guess I was just busy keeping them all\\n\\n           alive.', \"GUY_           It's okay. That's what Dads do.\", \"GRUG_           That's right... but we can't do that from\\n\\n           here. We need one of your ideas.\", 'GRUG_           Come on. You can do it.', 'GUY_           Belt! Emergency Idea Generator,\\n\\n           activate!', \"GUY_           Ow!\\n\\n                         \\n\\n           I've got it!\\n\\n\", 'BELT_                          TA-DAAAAA', 'GRUG_           Wow.', \"GUY_           Yeah, I know. But he's doing the best\\n\\n           with what he has. Let's go.\", 'GUY_           There he is. Belt, I want romance, drama,\\n\\n           sincerity. Move me.', 'GUY_           Okay he sees us!', \"GUY_           That's our cue. Now work it!\", \"GUY_           He's not coming over. I don't think our\\n\\n           puppet looks scared enough.\", \"GRUG_           Scared? I'll show you scared. Hand me\\n\\n           those acting sticks!\", 'GUY_           Hold on!', 'BELT_           Da da daaaaaa...', 'GRUG_           Yes. You did it!', 'UGGA_           Grug.', 'THUNK_           Dad!', \"GUY_           Hey, we're okay!\", \"GUY_           Yeah, we're okay.\", 'GUY_           Grug. Your call.', 'GRUG_           Take us to Tomorrow.\\n\\n', \"GUY_           Hurry! Come on. We're gonna make it!\", 'EEP_           You were right.', 'GUY_           There it is. The sun. We can do it! We\\n\\n           can ride it to Tomorrow.', 'GUY_           Run!', \"GUY_           I don't understand. The sun was right\\n\\n           here. It was right here.\", \"UGGA_           We have to go back to the cave. Hurry,\\n\\n           hurry, stay together. Let's keep moving.\\n\\n           Move, move! Everybody hold my hand.\\n\\n           Thunk let's go. Go! Let's stay\\n\\n           together.\", \"UGGA_           Grug? What's wrong with you? Grug we'll\\n\\n           die if we stay here!\", \"UGGA_          \\n\\n           Grug. Listen to me. We've gotta get\\n\\n           back to that cave.\", 'GRUG_           No more dark. No more hiding. No more\\n\\n           caves.\\n\\n                         BEAT', \"GRUG_           What's the point of all this?\\n\\n                         BEAT\", 'GRUG_           To follow the light.', \"GRUG_           I can't change. I don't have ideas. But\\n\\n           I have my strength. And right now that's\\n\\n           all you need.\", \"UGGA_           No. We don't know what's over there.\\n\\n           Maybe nothing. It's too risky.\", \"GRUG_           It's a chance.\", \"GUY_           I'll take that chance.\", \"GRUG_           You know, I've wanted to throw you away\\n\\n           ever since I met you.\", \"GUY_           Heh. That's a joke, right?\", \"GRUG_           What's a joke?\", 'UGGA_           He made it... He made it...', 'GRUG_           Okay, Thunk. Your turn.', \"THUNK_           You're not coming, are you?\", 'GRUG_           When you make it, so will I.', 'UGGA_           You did good.', 'SANDY_           Daddy.', 'GRUG_           Gran.', 'GRAN_           No mush, just throw me.', 'GRAN_           Wait. You surprised me today. Lunkhead.', 'GRAN_          \\n\\n           Still alive!!!', 'GRUG_           Time to go.', \"EEP_           No. I have too much to say to you. I\\n\\n           need to fix everything and I don't have\\n\\n           time.\", 'GRUG_           I can fix it.', 'EEP_           This works good. What do you call it?', 'GRUG_           I was thinking of calling it a Hug.\\n\\n          \\n\\n                         ', 'GRUG_           Because it rhymes with Grug. But you can\\n\\n           change it if you want.', 'EEP_           No. I like a \"Hug.\"', 'GRUG_           I love you.', 'EEP_           I...', \"EEP_           Dad, I'm scared.\", 'GRUG_           Never be afraid.', 'GUY_           There. I see him!', 'GRUG_                         \\n\\n           Hey, I did it.', 'GRUG_           Ahhhh! Back! Stay back! Stay back!', \"GRUG_           They're in trouble. Hang on! I'm\\n\\n           coming.\", 'GRUG_           How do I get across? Gotta think. What\\n\\n           would Guy do? What would Guy do?', 'GRUG_           What would I do?', 'GRUG_           Hold this.', 'GRUG_           I... have... an... IDEA!', 'MACAWNIVORE_           Erm?\\n\\n', 'GRUG_           Run!', 'GRUG_           Yes!', 'GRUG_           Douglas?', 'GRUG_           Hey, I know that guy.', 'GRUG_           Get up!', 'GRUG_           Hold on.', \"GUY_           It's not safe here.\", \"GRAN_           I'll tell her.\", 'EEP_           I never got to tell him.', 'UGGA_           Eep, if your Dad were here, he would tell\\n\\n', 'GRUG_\\n\\n           GET OUT OF THE WAY!!!', 'THUNK_           Wow, you sound just like him.', 'SANDY_           Daddy!', 'EEP_           He did it!', \"GUY_           He's riding the Sun... but not very well.\\n\\n           Everybody out of the way!\", 'THUNK_           Dad!', 'UGGA_           Grug!', \"GRUG_           Ahhh! Where's the danger? Who blew their\\n\\n           shell?\", 'EEP_           I love you too.', 'GRUG_           One, two, three, four, five, six...', 'GRUG_           ... and seven.', 'BELT_           Eerrghh.', 'GRUG_           And a half.', 'GRUG_           And eight, and nine.', 'THUNK_           Douglas! Dad you saved him!', 'GRUG_           Well, a boys gotta have a pet.', \"GRUG_           Turns out, I'm a cat person.\", 'GRUG_           Uh! No.', 'EEP_           You really need to see this.', 'GRUG_           We should go there.\\n\\n', \"THUNK_           Let's do that again. I think I blinked.\", 'EEP_           Our world is still plenty harsh and\\n\\n           hostile. But now we know the Croods will\\n\\n           make it.', 'EEP_           And because of my dad, who taught us that\\n\\n           anyone can change...', 'GRUG_           Release the baby!', 'EEP_           Well, sort of.', \"EEP_           So from now on we'll stay out here.\", 'EEP_           Where we can follow the light.']"
      ]
     },
     "execution_count": 507,
     "metadata": {},
     "output_type": "execute_result"
    }
   ],
   "source": [
    "croods_lines_final"
   ]
  },
  {
   "cell_type": "code",
   "execution_count": 514,
   "metadata": {},
   "outputs": [],
   "source": [
    "#removing new line characters and white spaces:\n",
    "croods_lines_final2 = []\n",
    "for line in croods_lines_final:\n",
    "    line = re.sub(\"\\n\\n\", ' ', line)\n",
    "    line = re.sub(\" {3,}\", ' ', line)\n",
    "    croods_lines_final2.append(line)"
   ]
  },
  {
   "cell_type": "code",
   "execution_count": 516,
   "metadata": {},
   "outputs": [
    {
     "data": {
      "text/plain": [
       "761"
      ]
     },
     "execution_count": 516,
     "metadata": {},
     "output_type": "execute_result"
    }
   ],
   "source": [
    "len(croods_lines_final2)"
   ]
  },
  {
   "cell_type": "code",
   "execution_count": 518,
   "metadata": {},
   "outputs": [],
   "source": [
    "croods_line_list = []\n",
    "for x in croods_lines_final2:\n",
    "    my_list = re.split(\"_ \", x)\n",
    "    my_tu = tuple(my_list)\n",
    "    croods_line_list.append(my_tu) "
   ]
  },
  {
   "cell_type": "code",
   "execution_count": 519,
   "metadata": {},
   "outputs": [
    {
     "data": {
      "text/plain": [
       "761"
      ]
     },
     "execution_count": 519,
     "metadata": {},
     "output_type": "execute_result"
    }
   ],
   "source": [
    "len(croods_line_list)"
   ]
  },
  {
   "cell_type": "code",
   "execution_count": 520,
   "metadata": {},
   "outputs": [],
   "source": [
    "croods_DF = pd.DataFrame(croods_line_list, columns=[\"Speaker\", \"Text\"])"
   ]
  },
  {
   "cell_type": "code",
   "execution_count": 521,
   "metadata": {},
   "outputs": [
    {
     "data": {
      "text/html": [
       "<div>\n",
       "<style scoped>\n",
       "    .dataframe tbody tr th:only-of-type {\n",
       "        vertical-align: middle;\n",
       "    }\n",
       "\n",
       "    .dataframe tbody tr th {\n",
       "        vertical-align: top;\n",
       "    }\n",
       "\n",
       "    .dataframe thead th {\n",
       "        text-align: right;\n",
       "    }\n",
       "</style>\n",
       "<table border=\"1\" class=\"dataframe\">\n",
       "  <thead>\n",
       "    <tr style=\"text-align: right;\">\n",
       "      <th></th>\n",
       "      <th>Speaker</th>\n",
       "      <th>Text</th>\n",
       "    </tr>\n",
       "  </thead>\n",
       "  <tbody>\n",
       "    <tr>\n",
       "      <th>0</th>\n",
       "      <td>EEP</td>\n",
       "      <td>With every sun comes a new day. A new beginnin...</td>\n",
       "    </tr>\n",
       "    <tr>\n",
       "      <th>1</th>\n",
       "      <td>EEP</td>\n",
       "      <td>But not for me. My name's Eep. This, is my fam...</td>\n",
       "    </tr>\n",
       "    <tr>\n",
       "      <th>2</th>\n",
       "      <td>EEP</td>\n",
       "      <td>We were the last ones around. There used to be...</td>\n",
       "    </tr>\n",
       "    <tr>\n",
       "      <th>3</th>\n",
       "      <td>EEP</td>\n",
       "      <td>Because of my Dad. He was strong... and he fol...</td>\n",
       "    </tr>\n",
       "    <tr>\n",
       "      <th>4</th>\n",
       "      <td>EEP</td>\n",
       "      <td>... the ones painted on the cave walls. Anythi...</td>\n",
       "    </tr>\n",
       "  </tbody>\n",
       "</table>\n",
       "</div>"
      ],
      "text/plain": [
       "  Speaker                                               Text\n",
       "0     EEP  With every sun comes a new day. A new beginnin...\n",
       "1     EEP  But not for me. My name's Eep. This, is my fam...\n",
       "2     EEP  We were the last ones around. There used to be...\n",
       "3     EEP  Because of my Dad. He was strong... and he fol...\n",
       "4     EEP  ... the ones painted on the cave walls. Anythi..."
      ]
     },
     "execution_count": 521,
     "metadata": {},
     "output_type": "execute_result"
    }
   ],
   "source": [
    "croods_DF.head()"
   ]
  },
  {
   "cell_type": "code",
   "execution_count": 522,
   "metadata": {},
   "outputs": [],
   "source": [
    "croods_DF.to_pickle(r'C:\\Users\\cassi\\Desktop\\Data_Science\\Animated-Movie-Gendered-Dialogue\\private\\croods_lines.pkl')"
   ]
  },
  {
   "cell_type": "code",
   "execution_count": null,
   "metadata": {},
   "outputs": [],
   "source": []
  }
 ],
 "metadata": {
  "kernelspec": {
   "display_name": "Python 3",
   "language": "python",
   "name": "python3"
  },
  "language_info": {
   "codemirror_mode": {
    "name": "ipython",
    "version": 3
   },
   "file_extension": ".py",
   "mimetype": "text/x-python",
   "name": "python",
   "nbconvert_exporter": "python",
   "pygments_lexer": "ipython3",
   "version": "3.6.4"
  }
 },
 "nbformat": 4,
 "nbformat_minor": 2
}
