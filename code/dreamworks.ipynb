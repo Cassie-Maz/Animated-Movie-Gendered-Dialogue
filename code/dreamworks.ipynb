{
 "cells": [
  {
   "cell_type": "markdown",
   "metadata": {},
   "source": [
    "# Dreamworks Films DataFrames\n",
    "In the following code, I will attempt to streamline the method I used for Shrek with the other Dreamworks films. After creating individual dataframes for each movie, I'll combine them into one dataframe. \n",
    "\n",
    "The movies included are:\n",
    "* Antz\n",
    "* The Croods\n",
    "* How to Train Your Dragon\n",
    "* How to Train Your Dragon 2\n",
    "* Kung Fu Panda\n",
    "* Megamind\n",
    "* Rise of the Guardians\n",
    "* Shrek the Third"
   ]
  },
  {
   "cell_type": "code",
   "execution_count": 1,
   "metadata": {},
   "outputs": [],
   "source": [
    "import glob\n",
    "import numpy as np\n",
    "import pandas as pd\n",
    "import re"
   ]
  },
  {
   "cell_type": "markdown",
   "metadata": {},
   "source": [
    "First, we need to check the formatting in each file, to see if they match the format of the shrek script, or if we need to modify the code. Let's start off with Antz."
   ]
  },
  {
   "cell_type": "code",
   "execution_count": 2,
   "metadata": {},
   "outputs": [],
   "source": [
    "#importing the file\n",
    "antz = open(r'C:\\Users\\cassi\\Desktop\\Data_Science\\Animated-Movie-Gendered-Dialogue\\private\\imsdb_raw_nov_2015\\Animation\\antz.txt')\n",
    "antz_script = antz.read()\n",
    "antz.close()"
   ]
  },
  {
   "cell_type": "code",
   "execution_count": 3,
   "metadata": {},
   "outputs": [
    {
     "name": "stdout",
     "output_type": "stream",
     "text": [
      "Pretty printing has been turned OFF\n"
     ]
    }
   ],
   "source": [
    "%pprint"
   ]
  },
  {
   "cell_type": "code",
   "execution_count": 52,
   "metadata": {},
   "outputs": [
    {
     "name": "stdout",
     "output_type": "stream",
     "text": [
      "\"Antz\", unknown draft\n",
      "\n",
      "A N T Z\n",
      "\n",
      "CHARACTERS                                            VOICES\n",
      "\n",
      "     \"Z\"...............................................WOODY ALLEN\n",
      "\n",
      "     \"WASP #1\".........................................DAN AYKROYD\n",
      "\n",
      "     \"WASP #2\".........................................JANE CURTIN\n",
      "\n",
      "     \"GEN. FORMICA\"...................................DANNY GLOVER\n",
      "\n",
      "     \"MANDIBLE\".......................................GENE HACKMAN\n",
      "\n",
      "     \"AZTECA\".......................................JENNIFER LOPEZ\n",
      "\n",
      "     \"DRUNK SCOUT\"....................................JOHN MAHONEY\n",
      "\n",
      "     \"WEAVER\"...................................SYLVESTER STALLONE\n",
      "\n",
      "     \"PRINCESS BALA\"..................................SHARON STONE\n",
      "\n",
      "     \"QUEEN\"..........................................MERYL STREEP\n",
      "\n",
      "     \"CARPENTER\"................................CHRISTOPHER WALKEN\n",
      "\n",
      "        \n"
     ]
    }
   ],
   "source": [
    "print(antz_script[:850])"
   ]
  },
  {
   "cell_type": "code",
   "execution_count": 9,
   "metadata": {},
   "outputs": [
    {
     "name": "stdout",
     "output_type": "stream",
     "text": [
      "                 Z (O.S.)\n",
      "\n",
      "                      (over a dark screen)\n",
      "\n",
      "               All my life, I've lived and worked in\n",
      "\n",
      "               the big city...\n",
      "\n",
      "     We see:\n",
      "\n",
      "     EXT. AN ANT MOUND - DAY\n",
      "\n",
      "     The camera swoops towards the entrance, then dives inside,\n",
      "\n",
      "     past a couple of tough-looking soldier ants who stand at the\n",
      "\n",
      "     gates of the ant colony like insect bouncers...into an access\n",
      "\n",
      "     tunnel that snakes this way and that, past a row of ants\n",
      "\n",
      "     plodding along...\n",
      "\n",
      "     ...and into the MAIN CHAMBER of the colony, a huge, teeming\n",
      "\n",
      "     vista that seems to stretch away forever, filled with ants\n",
      "\n",
      "     rushing here and there on their business.  We see -- a\n",
      "\n",
      "     \"traffic cop\" directing foot traffic, waving his arms like\n",
      "\n",
      "     crazy so both sides move at once -- a column of \n",
      "\n",
      "soldier ants\n",
      "\n",
      "     marching along in formation -- a chain of ants letting down\n",
      "\n",
      "     a \n",
      "\n",
      "matchbox\n",
      "\n",
      " elevator filled with workers.\n",
      "\n",
      "                         Z (V.O.)\n",
      "\n",
      "               ...which is kind of a problem, since\n",
      "\n",
      "               I've always felt uncomfortably in\n",
      "\n",
      "               crowds.\n",
      "\n",
      "     INT. MOTIVATIONAL COUNSELLOR'S OFFICE - DAY\n",
      "\n",
      "     We join Z, a worker ant with issues.  He's lying on a couch,\n",
      "\n",
      "     recounting his woes.\n",
      "\n",
      "                         Z\n",
      "\n",
      "               I feel...isolated.  Different.  I've\n",
      "\n",
      "               got abandonment issues.  My father\n",
      "\n",
      "               flew away when I was just a larva.\n",
      "\n",
      "               My mother didn't have much time for\n",
      "\n",
      "               me...when you have five million\n",
      "\n",
      "               siblings, it's difficult to get\n",
      "\n",
      "               attention.\n",
      "\n",
      "                      (pause)\n",
      "\n",
      "               I feel ph\n"
     ]
    }
   ],
   "source": [
    "print(antz_script[850:2500])"
   ]
  },
  {
   "cell_type": "markdown",
   "metadata": {},
   "source": [
    "Interesting...Antz has a character list (for the main characters at least). Also, one of the characters is simply named \"Z\", which poses a problem. In the Shrek script, we could rely on character names being longer than two letters. Let's try what we used with Shrek. But first, we'll need to cut off the beginning of the script."
   ]
  },
  {
   "cell_type": "code",
   "execution_count": 17,
   "metadata": {},
   "outputs": [
    {
     "data": {
      "text/plain": [
       "\"\\n\\n                         Z (O.S.)\\n\\n                      (over a dark screen)\\n\\n               All my life, I've lived and worked in\\n\\n               the big ci\""
      ]
     },
     "execution_count": 17,
     "metadata": {},
     "output_type": "execute_result"
    }
   ],
   "source": [
    "antz_script[840:1000]"
   ]
  },
  {
   "cell_type": "code",
   "execution_count": 21,
   "metadata": {},
   "outputs": [],
   "source": [
    "antz_script2 = antz_script[840:]"
   ]
  },
  {
   "cell_type": "code",
   "execution_count": 23,
   "metadata": {},
   "outputs": [
    {
     "data": {
      "text/plain": [
       "'\\n\\n                         Z (O.S.)\\n\\n                      (over a dark screen)\\n\\n               All '"
      ]
     },
     "execution_count": 23,
     "metadata": {},
     "output_type": "execute_result"
    }
   ],
   "source": [
    "antz_script2[:100]"
   ]
  },
  {
   "cell_type": "markdown",
   "metadata": {},
   "source": [
    "Okay, now let's count the white space and see how it's used."
   ]
  },
  {
   "cell_type": "code",
   "execution_count": 57,
   "metadata": {},
   "outputs": [
    {
     "data": {
      "text/plain": [
       "3376"
      ]
     },
     "execution_count": 57,
     "metadata": {},
     "output_type": "execute_result"
    }
   ],
   "source": [
    "white_space = re.findall(\" {3,}\", antz_script2)\n",
    "len(white_space)"
   ]
  },
  {
   "cell_type": "code",
   "execution_count": 58,
   "metadata": {},
   "outputs": [
    {
     "name": "stdout",
     "output_type": "stream",
     "text": [
      "['                         ', '                      ', '               ', '               ', '     ', '     ', '     ', '     ', '     ', '     ']\n"
     ]
    }
   ],
   "source": [
    "print(white_space[:10])"
   ]
  },
  {
   "cell_type": "code",
   "execution_count": 59,
   "metadata": {},
   "outputs": [
    {
     "name": "stdout",
     "output_type": "stream",
     "text": [
      "[25, 22, 15, 15, 5, 5, 5, 5, 5, 5, 5, 5, 5, 5, 5, 5, 5, 5, 25, 15, 15, 15, 5, 5, 5, 25, 15, 15, 15, 15, 15, 15, 15, 22, 15, 15, 15, 15, 15, 15, 15, 15, 15, 25, 22, 15, 15, 5, 5, 5]\n",
      "{3, 5, 46, 15, 22, 23, 25}\n"
     ]
    }
   ],
   "source": [
    "len_w_s = [len(x) for x in white_space]\n",
    "print(len_w_s[:50])\n",
    "print(set(len_w_s))"
   ]
  },
  {
   "cell_type": "code",
   "execution_count": 122,
   "metadata": {},
   "outputs": [
    {
     "data": {
      "text/plain": [
       "'\\n\\n                         Z (O.S.)\\n\\n                      (over a dark screen)\\n\\n               All my life, I\\'ve lived and worked in\\n\\n               the big city...\\n\\n     We see:\\n\\n     EXT. AN ANT MOUND - DAY\\n\\n     The camera swoops towards the entrance, then dives inside,\\n\\n     past a couple of tough-looking soldier ants who stand at the\\n\\n     gates of the ant colony like insect bouncers...into an access\\n\\n     tunnel that snakes this way and that, past a row of ants\\n\\n     plodding along...\\n\\n     ...and into the MAIN CHAMBER of the colony, a huge, teeming\\n\\n     vista that seems to stretch away forever, filled with ants\\n\\n     rushing here and there on their business.  We see -- a\\n\\n     \"traffic cop\" directing foot traffic, waving his arms like\\n\\n     crazy so both sides move at once -- a column of \\n\\nsoldier ants\\n\\n     marching along in formation -- a chain of ants letting down\\n\\n     a \\n\\nmatchbox\\n\\n elevator filled with workers.\\n\\n                         Z (V.O.)\\n\\n               ...which is kind of a problem, since\\n\\n               I\\'ve always felt uncomfortably in\\n\\n               crowds.\\n\\n     INT. MOTIVATIONAL COUNSELLOR\\'S OFFICE - DAY\\n\\n     We join Z, a worker ant with issues.  He\\'s lying on a couch,\\n\\n     recounting his woes.\\n\\n                         Z\\n\\n               I feel...isolated.  Different.  I\\'ve\\n\\n               got abandonment issues.  My father\\n\\n               flew away when I was just a larva.\\n\\n               My mother didn\\'t have much time for\\n\\n               me...when you have five million\\n\\n               siblings, it\\'s difficult to get\\n\\n               attention.\\n\\n                      (pause)\\n\\n               I feel physically inadequate -- I\\'ve\\n\\n               never been able to lift more than ten\\n\\n               times my own weight.  Sometimes I\\n\\n               think I\\'m just not cut out to be a\\n\\n               worker.  But I don\\'t have any other\\n\\n               options.  I was assigned to trade\\n\\n               school when I was just a \\n\\ngrub\\n\\n.  The\\n\\n               whole system just...makes me\\n\\n               feel...\\n\\ninsignificant\\n\\n.\\n\\n                         MOTIVATIONAL COUNSELLOR\\n\\n                      (enthusiastic)\\n\\n               Terrific!  You \\n\\nshould\\n\\n feel\\n\\n               insignificant!\\n\\n     For the first time, we see the ant MOTIVATIONAL COUNSELLOR.\\n\\n     He\\'s a mixture of Tony Robbins and Ron Popiel (the\\n\\n     hyperactive late-night TV huckster, and founder of \"Ronco\").\\n\\n                         Z\\n\\n               ...I should?\\n\\n                         MOTIVATIONAL COUNSELLOR\\n\\n                      (hopping around\\n\\n                       enthusiastically)\\n\\n               YES!!!  You know, people ask me,\\n\\n               \"Doctor, why are you always happy?\"\\n\\n               And I tell them it\\'s mind over\\n\\n               matter.  I don\\'t \\n\\nmind\\n\\n that I don\\'t\\n\\nmatter\\n\\n!  Do you get it?  Do you get\\n\\n               it?\\n\\n     Z gives a fake smile.\\n\\n                         MOTIVATIONAL COUNSELLOR\\n\\n                      (incredibly \"up\")\\n\\n               Z, we\\'re part of the \\n\\nfastest growing\\n\\nspecies in the whole world\\n\\n!\\n\\n     The counsellor rolls down a chart from the wall.  An arrow\\n\\n     shows ant population going up, up, up.\\n\\n                         MOTIVATIONAL COUNSELLOR\\n\\n               Ask me why we\\'re so successful.\\n\\n                         Z\\n\\n               Why are we so successful?\\n\\n                         MOTIVATIONAL COUNSELLOR\\n\\n               I\\'m glad you asked me that question!\\n\\n     The motivational counsellor opens some blinds...and we see a\\n\\n     vista of the ant-filled chamber below.\\n\\n                         MOTIVATIONAL COUNSELLOR\\n\\n               What do you see out there?\\n\\n                         Z\\n\\n               ...Ants...\\n\\n                         MOTIVATIONAL COUNSELLOR\\n\\n               Right!  Ants!  Millions of creatures,\\n\\n               each with his assigned task, all\\n\\n               pulling together!\\n\\n     Down below, we see a group of ants carrying a boulder up an\\n\\n     incline.  One worker ants slips, and the boulder rolls down,\\n\\n     crushing his leg.  The other ants rush over -- it looks like\\n\\n     they\\'re going to help their fallen comrade, but instead, they\\n\\n     climb right over him, and pick up the boulder, continuing\\n\\n     with their task.\\n\\n                         MOTIVATIONAL COUNSELLOR\\n\\n               You see?  Being an ant is being able\\n\\n               to say, \"Hey -- \\n\\nI\\'m\\n\\n meaningless,\\n\\nyou\\'re\\n\\n meaningless.\"\\n\\n                         Z\\n\\n               But -- but I\\'ve always felt life was\\n\\n               about finding meaning...and then\\n\\n               sharing it with someone special,\\n\\n               someone you love.\\n\\n     The motivational counsellor puts his arm on Z\\'s shoulder...he\\n\\n     seems to understand...\\n\\n                         MOTIVATIONAL COUNSELLOR\\n\\n               Z...you need help.\\n\\n                      (looking at a clock)\\n\\n               Whoops!  We\\'re gonna have to stop\\n\\n               there.  Your minute is up!\\n\\n     '"
      ]
     },
     "execution_count": 122,
     "metadata": {},
     "output_type": "execute_result"
    }
   ],
   "source": [
    "antz_script2[:5000]\n",
    "#25 before a character name\n",
    "#22 after a character name and before a parenthetical\n",
    "#15 after a parenthetical and before a line\n",
    "#15 between lines\n",
    "#5 after a line is done and before scene headers\n",
    "#5 between scene headers\n",
    "#25 before a character's name\n",
    "#15 between between a character's name and their line\n",
    "# 5 after the end of a character's line and before a scene header"
   ]
  },
  {
   "cell_type": "code",
   "execution_count": 130,
   "metadata": {},
   "outputs": [
    {
     "data": {
      "text/plain": [
       "25"
      ]
     },
     "execution_count": 130,
     "metadata": {},
     "output_type": "execute_result"
    }
   ],
   "source": [
    "test_line = \"\\n\\n                         Z\\n\\n\"\n",
    "len(test_line)\n",
    "len(test_line[2:-3])"
   ]
  },
  {
   "cell_type": "code",
   "execution_count": 153,
   "metadata": {},
   "outputs": [],
   "source": [
    "test = re.findall(r\"(\\b[A-Z]['A-Z ]+[0-9]?)+\", antz_script2)"
   ]
  },
  {
   "cell_type": "code",
   "execution_count": 154,
   "metadata": {},
   "outputs": [
    {
     "data": {
      "text/plain": [
       "1346"
      ]
     },
     "execution_count": 154,
     "metadata": {},
     "output_type": "execute_result"
    }
   ],
   "source": [
    "len(test)"
   ]
  },
  {
   "cell_type": "code",
   "execution_count": 136,
   "metadata": {},
   "outputs": [
    {
     "data": {
      "text/plain": [
       "['Z ', \"I'\", 'EXT', 'AN ANT MOUND ', 'DAY\\n', 'MAIN CHAMBER ', 'Z ', \"I'\", 'INT', \"MOTIVATIONAL COUNSELLOR'S OFFICE \", 'DAY\\n', 'I ', \"I'\", 'I ', 'I ', \"I'\", \"I'\", 'I ', 'I ', 'I ']"
      ]
     },
     "execution_count": 136,
     "metadata": {},
     "output_type": "execute_result"
    }
   ],
   "source": [
    "test[:20]"
   ]
  },
  {
   "cell_type": "code",
   "execution_count": 146,
   "metadata": {},
   "outputs": [],
   "source": [
    " #What if we include that extra space ahead of a character's name?\n",
    "test2 = re.findall(r\" {25}(\\b['A-Z ]+[0-9]?)+\", antz_script2)"
   ]
  },
  {
   "cell_type": "code",
   "execution_count": 147,
   "metadata": {},
   "outputs": [
    {
     "data": {
      "text/plain": [
       "659"
      ]
     },
     "execution_count": 147,
     "metadata": {},
     "output_type": "execute_result"
    }
   ],
   "source": [
    "len(test2)"
   ]
  },
  {
   "cell_type": "code",
   "execution_count": 149,
   "metadata": {},
   "outputs": [
    {
     "data": {
      "text/plain": [
       "['Z ', 'Z ', 'Z', 'MOTIVATIONAL COUNSELLOR', 'Z', 'MOTIVATIONAL COUNSELLOR', 'MOTIVATIONAL COUNSELLOR', 'MOTIVATIONAL COUNSELLOR', 'Z', 'MOTIVATIONAL COUNSELLOR', 'MOTIVATIONAL COUNSELLOR', 'Z', 'MOTIVATIONAL COUNSELLOR', 'MOTIVATIONAL COUNSELLOR', 'Z', 'MOTIVATIONAL COUNSELLOR', 'MOTIVATIONAL COUNSELLOR', 'AZTECA', 'Z', 'AZTECA']"
      ]
     },
     "execution_count": 149,
     "metadata": {},
     "output_type": "execute_result"
    }
   ],
   "source": [
    "test2[:20]"
   ]
  },
  {
   "cell_type": "code",
   "execution_count": 148,
   "metadata": {},
   "outputs": [
    {
     "data": {
      "text/plain": [
       "{'WORKER ANTS', 'WORKER ', 'WORKERS', 'BEETLE', 'QUEEN', 'GUARD ANT', 'FADE TO', 'Z', 'MOTIVATIONAL COUNSELLOR', 'BALA ', 'BALA', 'TRACKER ANT', 'COMMANDO ', 'ANT SOLDIERS', 'FORMICA ', 'MAJOR MANDIBLE', 'COMMANDO ANT', 'FOREMAN', 'PRINCESS', 'CUT TO', 'SOLDIER ANTS', 'BARKER', 'MANDIBLE', 'WEAVER', 'FEMALE WASP ', 'LOUD VOICE', 'WORKER', 'SOLDIERS', 'COLONEL', 'OFFICER', 'AZTECA', 'WASP', 'BARBATUS', 'WORKER ANT ', 'MALE WASP', 'SOLDIER ANT', 'EXCITED ANTS', 'Z ', 'FEMALE WASP', 'HANDMAIDEN ', 'COMMANDO ANT ', 'CRICKET', 'ALL', 'LADYBUG', 'BUTTERFLY', 'APHIDS', 'CARPENTER', 'THE WASPS', 'BARTENDER', 'MALE WASP ', 'TOUGH VOICE ', 'FORMICA', 'FLY', 'ANT OFFICER', 'DRUNK SCOUT', 'SOLDIER ', 'SOLDIER', 'BARBATUS ', 'GENERAL FORMICA'}"
      ]
     },
     "execution_count": 148,
     "metadata": {},
     "output_type": "execute_result"
    }
   ],
   "source": [
    "set(test2) \n",
    "#wrong hits: FADE TO, CUT TO"
   ]
  },
  {
   "cell_type": "code",
   "execution_count": 50,
   "metadata": {},
   "outputs": [
    {
     "data": {
      "text/plain": [
       "15"
      ]
     },
     "execution_count": 50,
     "metadata": {},
     "output_type": "execute_result"
    }
   ],
   "source": [
    "test3 = re.findall(r\" {46}([\\s\\S]{,100})\", antz_script2)\n",
    "len(test3)"
   ]
  },
  {
   "cell_type": "code",
   "execution_count": 51,
   "metadata": {},
   "outputs": [
    {
     "data": {
      "text/plain": [
       "[\"CUT TO:\\n\\n     INT. DORMITORY - THE NEXT DAY\\n\\n     Z is talking to Weaver, who's getting ready to go \", 'CUT TO:\\n\\n     INT. EARLY MEGA-TUNNEL - DAY\\n\\n     Weaver is \"passing\" as a worker, working alongside ', 'CUT TO:\\n\\n     INT. TOWN CENTER - DAY\\n\\n     A huge crowd is forming, eager to welcome the army back. ', 'CUT TO:\\n\\n     INT. THRONE ROOM - DAY\\n\\n     Z follows Formica and Carpenter into the throne room.  At', 'CUT TO:\\n\\n     EXT. WEED CLUMP - DAY\\n\\n     Z and Bala dust themselves off.\\n\\n                         ', 'CUT TO:\\n\\n     EXT. INSECTOPIA - NIGHT\\n\\n     The insects are having a \\n\\ncookout\\n\\n, their faces illumi', 'CUT TO:\\n\\n     INT. INSECTOPIA - NIGHT\\n\\n     Z, the termite, the beetle and the fly are happily carry', 'CUT TO:\\n\\n     EXT. SKY ABOVE COLONY - MORNING\\n\\n     The wasp and Z fly high above the colony...\\n\\n   ', 'CUT TO:\\n\\n     INT. ANT MOUND - DAY\\n\\n     Elsewhere in the colony, a column of soldiers marches by, a', 'CUT TO:\\n\\n     EXT. ANT MOUND - DAY\\n\\n     Outside of the colony, where Formica, surrounded by the arm', 'CUT TO:\\n\\n     INT. TOWN CENTER - DAY\\n\\n     The huge main chamber of the colony, where most of the\\n\\n ', 'FADE TO:\\n\\n     CLOSE UP OF Z\\n\\n     As he addresses the audience, stand-up style.\\n\\n                  ', 'CUT TO:\\n\\n     INT. TOWN CENTER - DAY\\n\\n     A HUGE ASSEMBLY OF ANTS applauds as Z who is given a meda', \"CUT TO:\\n\\n     GENERAL FORMICA'S FACE, looking extremely dispeptic.\\n\\n                         Z (V.O.\", \"CUT TO:\\n\\n     WEAVER, in Formica's old office, in a general's uniform, his\\n\\n     feet up on Formica'\"]"
      ]
     },
     "execution_count": 51,
     "metadata": {},
     "output_type": "execute_result"
    }
   ],
   "source": [
    "test3"
   ]
  },
  {
   "cell_type": "code",
   "execution_count": 45,
   "metadata": {},
   "outputs": [
    {
     "data": {
      "text/plain": [
       "'CUT TO:\\n\\n     I'"
      ]
     },
     "execution_count": 45,
     "metadata": {},
     "output_type": "execute_result"
    }
   ],
   "source": [
    "#all the things w/ 46 spaces in front of them are CUT TO:'s and FADE TO:'s\n",
    "test3[0][:15]"
   ]
  },
  {
   "cell_type": "code",
   "execution_count": 150,
   "metadata": {},
   "outputs": [],
   "source": [
    "antz_scr = re.sub(r\"\\n\\n {25}(\\b['A-Z ]+[0-9]?)+\", r'_NEWLINE_\\1_', antz_script2)"
   ]
  },
  {
   "cell_type": "code",
   "execution_count": 151,
   "metadata": {},
   "outputs": [
    {
     "data": {
      "text/plain": [
       "'_NEWLINE_Z _(O.S.)\\n\\n                      (over a dark screen)\\n\\n               All my life, I\\'ve lived and worked in\\n\\n               the big city...\\n\\n     We see:\\n\\n     EXT. AN ANT MOUND - DAY\\n\\n     The camera swoops towards the entrance, then dives inside,\\n\\n     past a couple of tough-looking soldier ants who stand at the\\n\\n     gates of the ant colony like insect bouncers...into an access\\n\\n     tunnel that snakes this way and that, past a row of ants\\n\\n     plodding along...\\n\\n     ...and into the MAIN CHAMBER of the colony, a huge, teeming\\n\\n     vista that seems to stretch away forever, filled with ants\\n\\n     rushing here and there on their business.  We see -- a\\n\\n     \"traffic cop\" directing foot traffic, waving his arms like\\n\\n     crazy so both sides move at once -- a column of \\n\\nsoldier ants\\n\\n     marching along in formation -- a chain of ants letting down\\n\\n     a \\n\\nmatchbox\\n\\n elevator filled with workers._NEWLINE_Z _(V.O.)\\n\\n               ...which is kind of a problem, since\\n\\n               I\\'ve always felt uncomfortably in\\n\\n               crowds.\\n\\n     INT. MOTIVATIONAL COUNSELLOR\\'S OFFICE - DAY\\n\\n     We join Z, a worker ant with issues.  He\\'s lying on a couch,\\n\\n     recounting his woes._NEWLINE_Z_\\n\\n               I feel...isolated.  Different.  I\\'ve\\n\\n               got abandonment issues.  My father\\n\\n               flew away when I was just a larva.\\n\\n               My mother didn\\'t have much time for\\n\\n               me...when you have five million\\n\\n               siblings, it\\'s difficult to get\\n\\n               attention.\\n\\n                      (pause)\\n\\n               I feel physically inadequate -- I\\'ve\\n\\n               never been able to lift more than ten\\n\\n               times my own weight.  Sometimes I\\n\\n               think I\\'m just not cut out to be a\\n\\n               worker.  But I don\\'t have any other\\n\\n               options.  I was assigned to trade\\n\\n               school when I was just a \\n\\ngrub\\n\\n.  The\\n\\n               whole system just...makes me\\n\\n               feel...\\n\\ninsignificant\\n\\n._NEWLINE_MOTIVATIONAL COUNSELLOR_\\n\\n                      (enthusiastic)\\n\\n               Terrific!  You \\n\\nshould\\n\\n feel\\n\\n               insignificant!\\n\\n     For the first time, we see the ant MOTIVATIONAL COUNSELLOR.\\n\\n     He\\'s a mixture of Tony Robbins and Ron Popiel (the\\n\\n     hyperactive late-night TV huckster, and founder of \"Ronco\")._NEWLINE_Z_\\n\\n               ...I should?_NEWLINE_MOTIVATIONAL COUNSELLOR_\\n\\n                      (hopping around\\n\\n                       enthusiastically)\\n\\n               YES!!!  You know, people ask me,\\n\\n               \"Doctor, why are you always happy?\"\\n\\n               And I tell them it\\'s mind over\\n\\n               matter.  I don\\'t \\n\\nmind\\n\\n that I don\\'t\\n\\nmatter\\n\\n!  Do you get it?  Do you get\\n\\n               it?\\n\\n     Z gives a fake smile._NEWLINE_MOTIVATIONAL COUNSELLOR_\\n\\n                      (incredibly \"up\")\\n\\n               Z, we\\'re part of the \\n\\nfastest growing\\n\\nspecies in the whole world\\n\\n!\\n\\n     The counsellor rolls down a chart from the wall.  An arrow\\n\\n     shows ant population going up, up, up._NEWLINE_MOTIVATIONAL COUNSELLOR_\\n\\n               Ask me why we\\'re so successful._NEWLINE_Z_\\n\\n               Why are we so successful?_NEWLINE_MOTIVATIONAL COUNSELLOR_\\n\\n               I\\'m glad you asked me that question!\\n\\n     The motivational counsellor opens some blinds...and we see a\\n\\n     vista of the ant-filled chamber below._NEWLINE_MOTIVATIONAL COUNSELLOR_\\n\\n               What do you see out there?_NEWLINE_Z_\\n\\n               ...Ants..._NEWLINE_MOTIVATIONAL COUNSELLOR_\\n\\n               Right!  Ants!  Millions of creatures,\\n\\n               each with his assigned task, all\\n\\n               pulling together!\\n\\n     Down below, we see a group of ants carrying a boulder up an\\n\\n     incline.  One worker ants slips, and the boulder rolls down,\\n\\n     crushing his leg.  The other ants rush over -- it looks like\\n\\n     they\\'re going to help their fallen comrade, but instead, they\\n\\n     climb right over him, and pick up the boulder, continuing\\n\\n     with their task._NEWLINE_MOTIVATIONAL COUNSELLOR_\\n\\n               You see?  Being an ant is being able\\n\\n               to say, \"Hey -- \\n\\nI\\'m\\n\\n meaningless,\\n\\nyou\\'re\\n\\n meaningless.\"_NEWLINE_Z_\\n\\n               But -- but I\\'ve always felt life was\\n\\n               about finding meaning...and then\\n\\n               sharing it with someone special,\\n\\n               someone you love.\\n\\n     The motivational counsellor puts his arm on Z\\'s shoulder...he\\n\\n     seems to understand..._NEWLINE_MOTIVATIONAL COUNSELLOR_\\n\\n               Z...you need help.\\n\\n                      (looking at a clock)\\n\\n               Whoops!  We\\'re gonna have to stop\\n\\n               there.  Your minute is up!\\n\\n     The counsellor ushers Z out of his seat and towards the door._NEWLINE_MOTIVATIONAL COUNSELLOR_\\n\\n               Now back to work!  We\\'ve made \\n\\nreal\\n\\nprogress\\n\\n!  Remember -- let\\'s be\\n\\n               best superorganism we can be!\\n\\n     INT. EARLY MEGA-TUNNEL - DAY\\n\\n     A '"
      ]
     },
     "execution_count": 151,
     "metadata": {},
     "output_type": "execute_result"
    }
   ],
   "source": [
    "antz_scr[:5000]"
   ]
  },
  {
   "cell_type": "code",
   "execution_count": 152,
   "metadata": {},
   "outputs": [
    {
     "name": "stdout",
     "output_type": "stream",
     "text": [
      "2732\n"
     ]
    }
   ],
   "source": [
    "#reanalyze the spacing:\n",
    "white_space2 = re.findall(\" {3,}\", antz_scr)\n",
    "print(len(white_space2)) #2939 checks out, since we found 659 spaces of 25 or more, and 15 spaces of 46."
   ]
  },
  {
   "cell_type": "code",
   "execution_count": null,
   "metadata": {},
   "outputs": [],
   "source": [
    "#making sure I only found lines\n"
   ]
  },
  {
   "cell_type": "code",
   "execution_count": 155,
   "metadata": {},
   "outputs": [
    {
     "name": "stdout",
     "output_type": "stream",
     "text": [
      "[22, 15, 15, 5, 5, 5, 5, 5, 5, 5, 5, 5, 5, 5, 5, 5, 5, 15, 15, 15, 5, 5, 5, 15, 15, 15, 15, 15, 15, 15, 22, 15, 15, 15, 15, 15, 15, 15, 15, 15, 22, 15, 15, 5, 5, 5, 15, 22, 23, 15]\n",
      "{3, 5, 46, 15, 22, 23}\n"
     ]
    }
   ],
   "source": [
    "len_w_s = [len(x) for x in white_space2]\n",
    "print(len_w_s[:50])\n",
    "print(set(len_w_s))"
   ]
  },
  {
   "cell_type": "code",
   "execution_count": 156,
   "metadata": {},
   "outputs": [],
   "source": [
    "antz_lines = antz_scr.split('_NEWLINE_')"
   ]
  },
  {
   "cell_type": "code",
   "execution_count": 157,
   "metadata": {},
   "outputs": [
    {
     "data": {
      "text/plain": [
       "645"
      ]
     },
     "execution_count": 157,
     "metadata": {},
     "output_type": "execute_result"
    }
   ],
   "source": [
    "len(antz_lines) #659-15 (once the blank entry at the beginning is removed)"
   ]
  },
  {
   "cell_type": "code",
   "execution_count": 158,
   "metadata": {},
   "outputs": [
    {
     "data": {
      "text/plain": [
       "['Z _(O.S.)\\n\\n                      (over a dark screen)\\n\\n               All my life, I\\'ve lived and worked in\\n\\n               the big city...\\n\\n     We see:\\n\\n     EXT. AN ANT MOUND - DAY\\n\\n     The camera swoops towards the entrance, then dives inside,\\n\\n     past a couple of tough-looking soldier ants who stand at the\\n\\n     gates of the ant colony like insect bouncers...into an access\\n\\n     tunnel that snakes this way and that, past a row of ants\\n\\n     plodding along...\\n\\n     ...and into the MAIN CHAMBER of the colony, a huge, teeming\\n\\n     vista that seems to stretch away forever, filled with ants\\n\\n     rushing here and there on their business.  We see -- a\\n\\n     \"traffic cop\" directing foot traffic, waving his arms like\\n\\n     crazy so both sides move at once -- a column of \\n\\nsoldier ants\\n\\n     marching along in formation -- a chain of ants letting down\\n\\n     a \\n\\nmatchbox\\n\\n elevator filled with workers.', \"Z _(V.O.)\\n\\n               ...which is kind of a problem, since\\n\\n               I've always felt uncomfortably in\\n\\n               crowds.\\n\\n     INT. MOTIVATIONAL COUNSELLOR'S OFFICE - DAY\\n\\n     We join Z, a worker ant with issues.  He's lying on a couch,\\n\\n     recounting his woes.\"]"
      ]
     },
     "execution_count": 158,
     "metadata": {},
     "output_type": "execute_result"
    }
   ],
   "source": [
    "antz_lines = antz_lines[1:]\n",
    "antz_lines[0:2]"
   ]
  },
  {
   "cell_type": "code",
   "execution_count": 102,
   "metadata": {},
   "outputs": [
    {
     "data": {
      "text/plain": [
       "['Z _(O.S.)\\n\\n                      (over a dark screen)\\n\\n               All my life, I\\'ve lived and worked in\\n\\n               the big city...\\n\\n     We see:\\n\\n     EXT. AN ANT MOUND - DAY\\n\\n     The camera swoops towards the entrance, then dives inside,\\n\\n     past a couple of tough-looking soldier ants who stand at the\\n\\n     gates of the ant colony like insect bouncers...into an access\\n\\n     tunnel that snakes this way and that, past a row of ants\\n\\n     plodding along...\\n\\n     ...and into the MAIN CHAMBER of the colony, a huge, teeming\\n\\n     vista that seems to stretch away forever, filled with ants\\n\\n     rushing here and there on their business.  We see -- a\\n\\n     \"traffic cop\" directing foot traffic, waving his arms like\\n\\n     crazy so both sides move at once -- a column of \\n\\nsoldier ants\\n\\n     marching along in formation -- a chain of ants letting down\\n\\n     a \\n\\nmatchbox\\n\\n elevator filled with workers.', \"Z _(V.O.)\\n\\n               ...which is kind of a problem, since\\n\\n               I've always felt uncomfortably in\\n\\n               crowds.\\n\\n     INT. MOTIVATIONAL COUNSELLOR'S OFFICE - DAY\\n\\n     We join Z, a worker ant with issues.  He's lying on a couch,\\n\\n     recounting his woes.\\n\\n                         Z\\n\\n               I feel...isolated.  Different.  I've\\n\\n               got abandonment issues.  My father\\n\\n               flew away when I was just a larva.\\n\\n               My mother didn't have much time for\\n\\n               me...when you have five million\\n\\n               siblings, it's difficult to get\\n\\n               attention.\\n\\n                      (pause)\\n\\n               I feel physically inadequate -- I've\\n\\n               never been able to lift more than ten\\n\\n               times my own weight.  Sometimes I\\n\\n               think I'm just not cut out to be a\\n\\n               worker.  But I don't have any other\\n\\n               options.  I was assigned to trade\\n\\n               school when I was just a \\n\\ngrub\\n\\n.  The\\n\\n               whole system just...makes me\\n\\n               feel...\\n\\ninsignificant\\n\\n.\", 'MOTIVATIONAL COUNSELLOR_\\n\\n                      (enthusiastic)\\n\\n               Terrific!  You \\n\\nshould\\n\\n feel\\n\\n               insignificant!\\n\\n     For the first time, we see the ant MOTIVATIONAL COUNSELLOR.\\n\\n     He\\'s a mixture of Tony Robbins and Ron Popiel (the\\n\\n     hyperactive late-night TV huckster, and founder of \"Ronco\").\\n\\n                         Z\\n\\n               ...I should?']"
      ]
     },
     "execution_count": 102,
     "metadata": {},
     "output_type": "execute_result"
    }
   ],
   "source": [
    "antz_lines[0:3]"
   ]
  },
  {
   "cell_type": "code",
   "execution_count": 159,
   "metadata": {},
   "outputs": [],
   "source": [
    "headers = re.findall(r\"\\n\\n {5}\\S+\", antz_lines[0])"
   ]
  },
  {
   "cell_type": "code",
   "execution_count": 160,
   "metadata": {},
   "outputs": [
    {
     "data": {
      "text/plain": [
       "['\\n\\n     We', '\\n\\n     EXT.', '\\n\\n     The', '\\n\\n     past', '\\n\\n     gates', '\\n\\n     tunnel', '\\n\\n     plodding', '\\n\\n     ...and', '\\n\\n     vista', '\\n\\n     rushing', '\\n\\n     \"traffic', '\\n\\n     crazy', '\\n\\n     marching', '\\n\\n     a']"
      ]
     },
     "execution_count": 160,
     "metadata": {},
     "output_type": "execute_result"
    }
   ],
   "source": [
    "headers"
   ]
  },
  {
   "cell_type": "code",
   "execution_count": 105,
   "metadata": {},
   "outputs": [],
   "source": [
    "##antz_lines[0] = re.sub(r\"\\n\\n {5}\\S+\",r\"_HEADER_\", antz_lines[0])"
   ]
  },
  {
   "cell_type": "code",
   "execution_count": 106,
   "metadata": {},
   "outputs": [
    {
     "data": {
      "text/plain": [
       "'Z _(O.S.)\\n\\n                      (over a dark screen)\\n\\n               All my life, I\\'ve lived and worked in\\n\\n               the big city..._HEADER_ see:_HEADER_ AN ANT MOUND - DAY_HEADER_ camera swoops towards the entrance, then dives inside,_HEADER_ a couple of tough-looking soldier ants who stand at the_HEADER_ of the ant colony like insect bouncers...into an access_HEADER_ that snakes this way and that, past a row of ants_HEADER_ along..._HEADER_ into the MAIN CHAMBER of the colony, a huge, teeming_HEADER_ that seems to stretch away forever, filled with ants_HEADER_ here and there on their business.  We see -- a_HEADER_ cop\" directing foot traffic, waving his arms like_HEADER_ so both sides move at once -- a column of \\n\\nsoldier ants_HEADER_ along in formation -- a chain of ants letting down_HEADER_ \\n\\nmatchbox\\n\\n elevator filled with workers.'"
      ]
     },
     "execution_count": 106,
     "metadata": {},
     "output_type": "execute_result"
    }
   ],
   "source": [
    "##antz_lines[0]"
   ]
  },
  {
   "cell_type": "code",
   "execution_count": 161,
   "metadata": {},
   "outputs": [],
   "source": [
    "antz_lines_2 = []\n",
    "for line in antz_lines:\n",
    "    line = re.sub(r\"\\n\\n {5}\\S+\", r\"_HEADER_\", line)\n",
    "    real_line = line.split(\"_HEADER_\")[0]\n",
    "    antz_lines_2.append(real_line)"
   ]
  },
  {
   "cell_type": "code",
   "execution_count": 162,
   "metadata": {},
   "outputs": [
    {
     "data": {
      "text/plain": [
       "644"
      ]
     },
     "execution_count": 162,
     "metadata": {},
     "output_type": "execute_result"
    }
   ],
   "source": [
    "len(antz_lines_2) #should still be 644"
   ]
  },
  {
   "cell_type": "code",
   "execution_count": 163,
   "metadata": {},
   "outputs": [
    {
     "data": {
      "text/plain": [
       "[\"Z _(O.S.)\\n\\n                      (over a dark screen)\\n\\n               All my life, I've lived and worked in\\n\\n               the big city...\", \"Z _(V.O.)\\n\\n               ...which is kind of a problem, since\\n\\n               I've always felt uncomfortably in\\n\\n               crowds.\", \"Z_\\n\\n               I feel...isolated.  Different.  I've\\n\\n               got abandonment issues.  My father\\n\\n               flew away when I was just a larva.\\n\\n               My mother didn't have much time for\\n\\n               me...when you have five million\\n\\n               siblings, it's difficult to get\\n\\n               attention.\\n\\n                      (pause)\\n\\n               I feel physically inadequate -- I've\\n\\n               never been able to lift more than ten\\n\\n               times my own weight.  Sometimes I\\n\\n               think I'm just not cut out to be a\\n\\n               worker.  But I don't have any other\\n\\n               options.  I was assigned to trade\\n\\n               school when I was just a \\n\\ngrub\\n\\n.  The\\n\\n               whole system just...makes me\\n\\n               feel...\\n\\ninsignificant\\n\\n.\", 'MOTIVATIONAL COUNSELLOR_\\n\\n                      (enthusiastic)\\n\\n               Terrific!  You \\n\\nshould\\n\\n feel\\n\\n               insignificant!', 'Z_\\n\\n               ...I should?', 'MOTIVATIONAL COUNSELLOR_\\n\\n                      (hopping around\\n\\n                       enthusiastically)\\n\\n               YES!!!  You know, people ask me,\\n\\n               \"Doctor, why are you always happy?\"\\n\\n               And I tell them it\\'s mind over\\n\\n               matter.  I don\\'t \\n\\nmind\\n\\n that I don\\'t\\n\\nmatter\\n\\n!  Do you get it?  Do you get\\n\\n               it?', 'MOTIVATIONAL COUNSELLOR_\\n\\n                      (incredibly \"up\")\\n\\n               Z, we\\'re part of the \\n\\nfastest growing\\n\\nspecies in the whole world\\n\\n!', \"MOTIVATIONAL COUNSELLOR_\\n\\n               Ask me why we're so successful.\", 'Z_\\n\\n               Why are we so successful?', \"MOTIVATIONAL COUNSELLOR_\\n\\n               I'm glad you asked me that question!\", 'MOTIVATIONAL COUNSELLOR_\\n\\n               What do you see out there?', 'Z_\\n\\n               ...Ants...', 'MOTIVATIONAL COUNSELLOR_\\n\\n               Right!  Ants!  Millions of creatures,\\n\\n               each with his assigned task, all\\n\\n               pulling together!', 'MOTIVATIONAL COUNSELLOR_\\n\\n               You see?  Being an ant is being able\\n\\n               to say, \"Hey -- \\n\\nI\\'m\\n\\n meaningless,\\n\\nyou\\'re\\n\\n meaningless.\"', \"Z_\\n\\n               But -- but I've always felt life was\\n\\n               about finding meaning...and then\\n\\n               sharing it with someone special,\\n\\n               someone you love.\", \"MOTIVATIONAL COUNSELLOR_\\n\\n               Z...you need help.\\n\\n                      (looking at a clock)\\n\\n               Whoops!  We're gonna have to stop\\n\\n               there.  Your minute is up!\", \"MOTIVATIONAL COUNSELLOR_\\n\\n               Now back to work!  We've made \\n\\nreal\\n\\nprogress\\n\\n!  Remember -- let's be\\n\\n               best superorganism we can be!\", \"AZTECA_\\n\\n               Hello?!  Earth to Z!  You better snap\\n\\n               out of it, or there's gonna be a lot\\n\\n               of pissed off ants!\", \"Z_\\n\\n                      (snapping out of it)\\n\\n               Sorry Azteca.  Here you go, fellas!\\n\\n               Fresh dirt!  Alley oop!\\n\\n                      (looking at the dirt)\\n\\n               Shouldn't we be wearing gloves?  I\\n\\n               mean this dirt is very...dirty.\\n\\n               Doesn't anyone think of hygiene?\\n\\n                      (Z's stomach growls)\\n\\n               Boy am I hungry.  I'm so hungry I'm\\n\\n               seeing double.  It looks like there's\\n\\ntwo\\n\\n million ants in here.  When's\\n\\n               lunch?  Tomorrow, or the day after?\", \"AZTECA_\\n\\n                      (sweetly)\\n\\n               Z, old pal...\\n\\n                      (shouts)\\n\\n               SHUT UP!!!  It's bad enough there's\\n\\n               a food shortage without you\\n\\n               complaining about it every day.\", 'Z_\\n\\n               The squeaky wheel gets the oil.', \"AZTECA_\\n\\n               No, Z.  The squeaky wheel gets \\n\\nthrown\\n\\naway\\n\\n, alright?  You're a good ant, Z,\\n\\n               even though you are a pain in my rear-\\n\\n               segment.  I don't wanna see\\n\\n               anything happen to you.  So quit\\n\\n               mouthing off, before you get in\\n\\n               trouble.\", 'Z_\\n\\n               Thank goodness.  Breaktime.', \"AZTECA_\\n\\n                      (resigned)\\n\\n               Break's over.\", 'Z_\\n\\n                      (getting back to work)\\n\\n               This colony needs another tunnel like\\n\\n               a hole in the ground.  Why are we\\n\\n               even digging this thing?', \"AZTECA_\\n\\n               Who cares, Z.  All I know is, we\\n\\n               gotta dig.  We're not the ones in\\n\\n               charge.\", 'GENERAL FORMICA_\\n\\n               STAIRS!', \"GENERAL FORMICA_\\n\\n               Cut the chit-chat down there!\\n\\n                      (turning to Carpenter)\\n\\n               We've spoiled these workers,\\n\\n               Carpenter.  They've never had it so\\n\\n               good, and listen to them -- always\\n\\n               grumbling and complaining...\", 'CARPENTER_\\n\\n               ...Yes, sir.', 'GENERAL FORMICA_\\n\\n               What have they got to complain about?\\n\\n               Three square meals a day...', \"CARPENTER_\\n\\n               Actually, sir, we've cut them down to\\n\\n               three roughly rectangular meals a\\n\\n               week.\", \"FORMICA_\\n\\n               Don't give me statistics, Carpenter.\\n\\n               I know what I'm talking about.  DOORS!\", 'FORMICA_\\n\\n                      (to guard ant, while\\n\\n                       passing)\\n\\n               Oil that, soldier.', 'QUEEN_\\n\\n               Ah!  General Formica.', \"QUEEN_\\n\\n               General, the severe food shortage\\n\\n               that faces the colony...\\n\\npains\\n\\n me.\\n\\n               The thought of any of my children\\n\\n               going hungry...\\n\\n                      (she shudders; then,\\n\\n                       to baby)\\n\\n               Who's the cutest widdle worker?  You\\n\\n               are!  Yes, you!  Don't forget to\\n\\n               brush your teeth!\\n\\n                      (to mid-wife)\\n\\n               Ship 'er out.\\n\\n                      (back to Formica)\\n\\n               What steps are you taking to remedy\\n\\n               the situation?\", 'FORMICA_\\n\\n               We are launching a major offensive to\\n\\n               expand our foraging territory...', 'QUEEN_\\n\\n               Yes, what else?', \"FORMICA_\\n\\n               Please don't worry, your majesty.\\n\\n               Leave the worrying to me.  As you\\n\\n               know, I'm not an ant of half-\\n\\n               measures.  I don't pussyfoot around.\\n\\n               This crisis is my number one\\n\\n               priority, and I promise you it's\\n\\n               being dealt with swiftly, and\\n\\n               decisively.\", 'QUEEN_\\n\\n                      (to baby)\\n\\n               No snacking between meals!  Off you\\n\\n               go!\\n\\n                      (to Formica)\\n\\n               Now -- what were we saying?', 'FORMICA_\\n\\n                      (Oliver North-style)\\n\\n               I do not recollect, your majesty.\\n\\n               Will that be all?', \"QUEEN_\\n\\n               Yes, General Formica.  Carry on, my\\n\\n               good man!  I don't know what we would\\n\\n               do without you.\", 'BALA _(O.S.)\\n\\n               General Formica!', 'CARPENTER_\\n\\n                      (sotto)\\n\\n               Princess Bala, sir.  Your fiancee.', 'FORMICA_\\n\\n               Princess!  You look -- outstanding.\\n\\n               Is there anything I can do for you?', \"BALA_\\n\\n               Well -- I thought -- since we're\\n\\n               getting married...it might be nice if\\n\\n               we...got to know one another.\", 'QUEEN_\\n\\n               Bala has always been a hopeless\\n\\n               romantic, General.', \"BALA_\\n\\n               It's just that -- well, I'm honored\\n\\n               that you selected me, and everything,\\n\\n               I just thought the marriage might go\\n\\n               a little more smoothly if -- we had\\n\\n               a conversation?\", \"FORMICA_\\n\\n                      (uncomfortable)\\n\\n               Conversation...yes...well...\\n\\n                      (to Carpenter)\\n\\n               Wasn't she briefed?\", \"QUEEN_\\n\\n                      (holding up a baby)\\n\\n               Look, General!  A darling baby\\n\\n               soldier!\\n\\n                      (emotionally, to baby)\\n\\n               Don't try to be a hero!  Just make\\n\\n               sure you come back in one piece!\\n\\n                      (handing it off)\\n\\n               Next!\", \"FORMICA_\\n\\n                      (using the\\n\\n                       interruption)\\n\\n               I'll take your suggestion under\\n\\n               advisement, Princess.  In the\\n\\n               meanwhile --\"]"
      ]
     },
     "execution_count": 163,
     "metadata": {},
     "output_type": "execute_result"
    }
   ],
   "source": [
    "antz_lines_2[:50]"
   ]
  },
  {
   "cell_type": "code",
   "execution_count": null,
   "metadata": {},
   "outputs": [],
   "source": []
  },
  {
   "cell_type": "code",
   "execution_count": 168,
   "metadata": {},
   "outputs": [],
   "source": [
    "#now, let's remove all the new line characters and parentheticals\n",
    "antz_lines_final = []\n",
    "for line in antz_lines_2:\n",
    "    line = re.sub(\"\\n\", ' ', line)\n",
    "    line = re.sub(\" {3,}\", ' ', line)\n",
    "    line = re.sub(r\"\\([^\\)]*\\)\", '', line)\n",
    "    antz_lines_final.append(line)"
   ]
  },
  {
   "cell_type": "code",
   "execution_count": 190,
   "metadata": {},
   "outputs": [
    {
     "data": {
      "text/plain": [
       "[\"Z _  All my life, I've lived and worked in the big city...\", \"Z _ ...which is kind of a problem, since I've always felt uncomfortably in crowds.\", \"Z_ I feel...isolated.  Different.  I've got abandonment issues.  My father flew away when I was just a larva. My mother didn't have much time for me...when you have five million siblings, it's difficult to get attention.  I feel physically inadequate -- I've never been able to lift more than ten times my own weight.  Sometimes I think I'm just not cut out to be a worker.  But I don't have any other options.  I was assigned to trade school when I was just a grub  .  The whole system just...makes me feel...  insignificant  .\", 'MOTIVATIONAL COUNSELLOR_  Terrific!  You should feel insignificant!', 'Z_ ...I should?', 'MOTIVATIONAL COUNSELLOR_  YES!!!  You know, people ask me, \"Doctor, why are you always happy?\" And I tell them it\\'s mind over matter.  I don\\'t mind that I don\\'t  matter  !  Do you get it?  Do you get it?', \"MOTIVATIONAL COUNSELLOR_  Z, we're part of the fastest growing  species in the whole world  !\", \"MOTIVATIONAL COUNSELLOR_ Ask me why we're so successful.\", 'Z_ Why are we so successful?', \"MOTIVATIONAL COUNSELLOR_ I'm glad you asked me that question!\", 'MOTIVATIONAL COUNSELLOR_ What do you see out there?', 'Z_ ...Ants...', 'MOTIVATIONAL COUNSELLOR_ Right!  Ants!  Millions of creatures, each with his assigned task, all pulling together!', 'MOTIVATIONAL COUNSELLOR_ You see?  Being an ant is being able to say, \"Hey -- I\\'m meaningless,  you\\'re meaningless.\"', \"Z_ But -- but I've always felt life was about finding meaning...and then sharing it with someone special, someone you love.\", \"MOTIVATIONAL COUNSELLOR_ Z...you need help.  Whoops!  We're gonna have to stop there.  Your minute is up!\", \"MOTIVATIONAL COUNSELLOR_ Now back to work!  We've made real  progress  !  Remember -- let's be best superorganism we can be!\", \"AZTECA_ Hello?!  Earth to Z!  You better snap out of it, or there's gonna be a lot of pissed off ants!\", \"Z_  Sorry Azteca.  Here you go, fellas! Fresh dirt!  Alley oop!  Shouldn't we be wearing gloves?  I mean this dirt is very...dirty. Doesn't anyone think of hygiene?  Boy am I hungry.  I'm so hungry I'm seeing double.  It looks like there's  two million ants in here.  When's lunch?  Tomorrow, or the day after?\", \"AZTECA_  Z, old pal...  SHUT UP!!!  It's bad enough there's a food shortage without you complaining about it every day.\", 'Z_ The squeaky wheel gets the oil.', \"AZTECA_ No, Z.  The squeaky wheel gets thrown  away  , alright?  You're a good ant, Z, even though you are a pain in my rear- segment.  I don't wanna see anything happen to you.  So quit mouthing off, before you get in trouble.\", 'Z_ Thank goodness.  Breaktime.', \"AZTECA_  Break's over.\", 'Z_  This colony needs another tunnel like a hole in the ground.  Why are we even digging this thing?', \"AZTECA_ Who cares, Z.  All I know is, we gotta dig.  We're not the ones in charge.\", 'GENERAL FORMICA_ STAIRS!', \"GENERAL FORMICA_ Cut the chit-chat down there!  We've spoiled these workers, Carpenter.  They've never had it so good, and listen to them -- always grumbling and complaining...\", 'CARPENTER_ ...Yes, sir.', 'GENERAL FORMICA_ What have they got to complain about? Three square meals a day...', \"CARPENTER_ Actually, sir, we've cut them down to three roughly rectangular meals a week.\", \"FORMICA_ Don't give me statistics, Carpenter. I know what I'm talking about.  DOORS!\", 'FORMICA_  Oil that, soldier.', 'QUEEN_ Ah!  General Formica.', \"QUEEN_ General, the severe food shortage that faces the colony...  pains me. The thought of any of my children going hungry...  Who's the cutest widdle worker?  You are!  Yes, you!  Don't forget to brush your teeth!  Ship 'er out.  What steps are you taking to remedy the situation?\", 'FORMICA_ We are launching a major offensive to expand our foraging territory...', 'QUEEN_ Yes, what else?', \"FORMICA_ Please don't worry, your majesty. Leave the worrying to me.  As you know, I'm not an ant of half- measures.  I don't pussyfoot around. This crisis is my number one priority, and I promise you it's being dealt with swiftly, and decisively.\", 'QUEEN_  No snacking between meals!  Off you go!  Now -- what were we saying?', 'FORMICA_  I do not recollect, your majesty. Will that be all?', \"QUEEN_ Yes, General Formica.  Carry on, my good man!  I don't know what we would do without you.\", 'BALA _ General Formica!', 'CARPENTER_  Princess Bala, sir.  Your fiancee.', 'FORMICA_ Princess!  You look -- outstanding. Is there anything I can do for you?', \"BALA_ Well -- I thought -- since we're getting married...it might be nice if we...got to know one another.\", 'QUEEN_ Bala has always been a hopeless romantic, General.', \"BALA_ It's just that -- well, I'm honored that you selected me, and everything, I just thought the marriage might go a little more smoothly if -- we had a conversation?\", \"FORMICA_  Conversation...yes...well...  Wasn't she briefed?\", \"QUEEN_  Look, General!  A darling baby soldier!  Don't try to be a hero!  Just make sure you come back in one piece!  Next!\", \"FORMICA_  I'll take your suggestion under advisement, Princess.  In the meanwhile --\"]"
      ]
     },
     "execution_count": 190,
     "metadata": {},
     "output_type": "execute_result"
    }
   ],
   "source": [
    "antz_lines_final[:50] #Eww, Z's lines are getting swallowed up. How?\n",
    "#Fixed!!!"
   ]
  },
  {
   "cell_type": "code",
   "execution_count": 191,
   "metadata": {},
   "outputs": [],
   "source": [
    "#now, split the lines\n",
    "line_list = []\n",
    "for x in antz_lines_final:\n",
    "    my_list = re.split(\"_ \", x)\n",
    "    my_tu = tuple(my_list)\n",
    "    line_list.append(my_tu) "
   ]
  },
  {
   "cell_type": "code",
   "execution_count": 193,
   "metadata": {},
   "outputs": [
    {
     "data": {
      "text/plain": [
       "644"
      ]
     },
     "execution_count": 193,
     "metadata": {},
     "output_type": "execute_result"
    }
   ],
   "source": [
    "len(line_list)"
   ]
  },
  {
   "cell_type": "code",
   "execution_count": 194,
   "metadata": {},
   "outputs": [],
   "source": [
    "antz_DF = pd.DataFrame(line_list, columns=[\"Speaker\", \"Text\"])"
   ]
  },
  {
   "cell_type": "code",
   "execution_count": 195,
   "metadata": {},
   "outputs": [
    {
     "data": {
      "text/html": [
       "<div>\n",
       "<style scoped>\n",
       "    .dataframe tbody tr th:only-of-type {\n",
       "        vertical-align: middle;\n",
       "    }\n",
       "\n",
       "    .dataframe tbody tr th {\n",
       "        vertical-align: top;\n",
       "    }\n",
       "\n",
       "    .dataframe thead th {\n",
       "        text-align: right;\n",
       "    }\n",
       "</style>\n",
       "<table border=\"1\" class=\"dataframe\">\n",
       "  <thead>\n",
       "    <tr style=\"text-align: right;\">\n",
       "      <th></th>\n",
       "      <th>Speaker</th>\n",
       "      <th>Text</th>\n",
       "    </tr>\n",
       "  </thead>\n",
       "  <tbody>\n",
       "    <tr>\n",
       "      <th>0</th>\n",
       "      <td>Z</td>\n",
       "      <td>All my life, I've lived and worked in the big...</td>\n",
       "    </tr>\n",
       "    <tr>\n",
       "      <th>1</th>\n",
       "      <td>Z</td>\n",
       "      <td>...which is kind of a problem, since I've alwa...</td>\n",
       "    </tr>\n",
       "    <tr>\n",
       "      <th>2</th>\n",
       "      <td>Z</td>\n",
       "      <td>I feel...isolated.  Different.  I've got aband...</td>\n",
       "    </tr>\n",
       "    <tr>\n",
       "      <th>3</th>\n",
       "      <td>MOTIVATIONAL COUNSELLOR</td>\n",
       "      <td>Terrific!  You should feel insignificant!</td>\n",
       "    </tr>\n",
       "    <tr>\n",
       "      <th>4</th>\n",
       "      <td>Z</td>\n",
       "      <td>...I should?</td>\n",
       "    </tr>\n",
       "  </tbody>\n",
       "</table>\n",
       "</div>"
      ],
      "text/plain": [
       "                   Speaker                                               Text\n",
       "0                       Z    All my life, I've lived and worked in the big...\n",
       "1                       Z   ...which is kind of a problem, since I've alwa...\n",
       "2                        Z  I feel...isolated.  Different.  I've got aband...\n",
       "3  MOTIVATIONAL COUNSELLOR          Terrific!  You should feel insignificant!\n",
       "4                        Z                                       ...I should?"
      ]
     },
     "execution_count": 195,
     "metadata": {},
     "output_type": "execute_result"
    }
   ],
   "source": [
    "antz_DF.head()"
   ]
  },
  {
   "cell_type": "code",
   "execution_count": 196,
   "metadata": {},
   "outputs": [],
   "source": [
    "#Let's export this as a pickle file\n",
    "import pickle as pkl"
   ]
  },
  {
   "cell_type": "code",
   "execution_count": 197,
   "metadata": {},
   "outputs": [],
   "source": [
    "antz_DF.to_pickle(r'C:\\Users\\cassi\\Desktop\\Data_Science\\Animated-Movie-Gendered-Dialogue\\private\\antz_lines.pkl')"
   ]
  },
  {
   "cell_type": "markdown",
   "metadata": {},
   "source": [
    "## Onto the next movie: The Croods"
   ]
  },
  {
   "cell_type": "code",
   "execution_count": 282,
   "metadata": {},
   "outputs": [],
   "source": [
    "#getting the script\n",
    "croods = open(r'C:\\Users\\cassi\\Desktop\\Data_Science\\Animated-Movie-Gendered-Dialogue\\private\\imsdb_raw_nov_2015\\Animation\\croodsthe.txt')\n",
    "croods_script = croods.read()\n",
    "croods.close()"
   ]
  },
  {
   "cell_type": "code",
   "execution_count": 283,
   "metadata": {},
   "outputs": [
    {
     "name": "stdout",
     "output_type": "stream",
     "text": [
      "                           THE CROODS\n",
      "\n",
      "                           Written by\n",
      "\n",
      "                 Kirk DeMicco & Chris Sanders\n",
      "\n",
      "                                                       12.12.2012\n",
      "\n",
      "          SEQ. 75 - PROLOGUE\n",
      "\n",
      "                         FADE IN:\n",
      "\n",
      "          A cave painting of the Dreamworks logo. Push past the\n",
      "\n",
      "          moon to the sun. Bright. Beautiful. The sun DISSOLVES\n",
      "\n",
      "                         TO:\n",
      "\n",
      "          Cave paintings of a family of cavemen -- we will come to\n",
      "\n",
      "          know them as The Croods.\n",
      "\n",
      "                          EEP (V.O.)\n",
      "\n",
      "           With every sun comes a new day. A new\n",
      "\n",
      "           beginning. A hope that things will be\n",
      "\n",
      "           better today than they were yesterday.\n",
      "\n",
      "          The Croods scurry out of their cave like mice looking for\n",
      "\n",
      "          food. Scared. Fast.\n",
      "\n",
      "          The Croods are chased by beasts across the desert. They\n",
      "\n",
      "          escape from creatures up trees. They hide behind rocks.\n",
      "\n",
      "                          EEP (V.O.)\n",
      "\n",
      "           But not\n"
     ]
    }
   ],
   "source": [
    "print(croods_script[:1000])"
   ]
  },
  {
   "cell_type": "code",
   "execution_count": 284,
   "metadata": {},
   "outputs": [
    {
     "data": {
      "text/plain": [
       "\"                           THE CROODS\\n\\n                           Written by\\n\\n                 Kirk DeMicco & Chris Sanders\\n\\n                                                       12.12.2012\\n\\n          SEQ. 75 - PROLOGUE\\n\\n                         FADE IN:\\n\\n          A cave painting of the Dreamworks logo. Push past the\\n\\n          moon to the sun. Bright. Beautiful. The sun DISSOLVES\\n\\n                         TO:\\n\\n          Cave paintings of a family of cavemen -- we will come to\\n\\n          know them as The Croods.\\n\\n                          EEP (V.O.)\\n\\n           With every sun comes a new day. A new\\n\\n           beginning. A hope that things will be\\n\\n           better today than they were yesterday.\\n\\n          The Croods scurry out of their cave like mice looking for\\n\\n          food. Scared. Fast.\\n\\n          The Croods are chased by beasts across the desert. They\\n\\n          escape from creatures up trees. They hide behind rocks.\\n\\n                          EEP (V.O.)\\n\\n           But not for me. My name's Eep. This, is\\n\\n           my family, the Croods. If you weren't\\n\\n           clued in already by the animal skins and\\n\\n           sloping foreheads - we're cavemen. Most\\n\\n           days we spend in our cave, in the dark.\\n\\n           Night after night, day after day. Yep.\\n\\n           Home sweet home. When we did go out, we\\n\\n           struggled to find food in a harsh and\\n\\n           hostile world. And I struggled to\\n\\n           survive my family.\\n\\n          The Croods are chased by beasts across the desert. They\\n\\n          escape from creatures up trees. They hide behind rocks.\\n\\n                          EEP (V.O.)\\n\\n           We were the last ones around. There used\\n\\n           to be neighbors. The Gorts, smashed by a\\n\\n           mammoth. The Horks, swallowed by a sand\\n\\n           snake. The Erfs, mosquito bite. Throgs,\\n\\n           common cold. And, the Croods. That's\\n\\n           us. The Croods made it...\\n\\n          Grug protects his family from a GIANT BEAR OWL.\\n\\n                          EEP (V.O.)\\n\\n           Because of my Dad. He was strong... and\\n\\n           he followed the rules.\\n\\n          A shadow falls across their feet and Grug ushers his\\n\\n          family home.\\n\\n          2.\\n\\n                          EEP (V.O.)\\n\\n           ... the ones painted on the cave walls.\\n\\n           Anything new is bad, curiosity is bad,\\n\\n           going out at night is bad. Basically,\\n\\n           anything fun is bad. Welcome to my\\n\\n           world.\\n\\n          They all run back into the cave where Grug slams the rock\\n\\n          door closed.\\n\\n          SLOWLY LIGHT ON CAVE PAINTINGS COMES UP AGAIN. But this\\n\\n          time the light casts an ominous tone.\\n\\n                          EEP (V.O.)\\n\\n           But this is a story about how all that\\n\\n           changed in an instant.\\n\\n          RAPID SHOTS OF THE GREAT SPLIT CUTTING THROUGH THE LAND.\\n\\n          HEADED TOWARDS CROOD VALLEY.\\n\\n          SHOTS OF CATACLYSM. CUT FASTER AND FASTER UNTIL...\\n\\n                          EEP (V.O.)\\n\\n           Because what we didn't know, was that our\\n\\n           world was about to come to an end. And\\n\\n           there were no rules on our cave walls to\\n\\n           prepare us for that.\\n\\n          CAVEMAN HANDS PRESS against the rock wall. They PUSH. A\\n\\n          BLINDING LIGHT FLOODS the screen.\\n\\n                          CUT TO:\\n\\n          SEQ. 100 - MEET THE CROODS\\n\\n          A HUGE CAVEMAN, GRUG, RUSHES forward, screaming,\\n\\n          growling, and throwing handfuls of dirt in a THREAT\\n\\n          DISPLAY. He BLINKS in the bright morning light. He\\n\\n          LIFTS and HURLS a large boulder.\\n\\n                          GRUG\\n\\n           Raaaaar grooooOOOOoooowwwll ERF ERF\\n\\n           Glaaaaaabbbbllllllllthhhh!\\n\\n          As suddenly as he began, Grug stops. Panting, he waits\\n\\n          for the echoes of his outburst to fade.\\n\\n          Grug TURNS to the cave entrance, he prepares to BELLOW a\\n\\n          signal, but before any sound escapes his lips--\\n\\n          A CAVE GIRL, EEP, bursts from the cave.\\n\\n          3.\\n\\n                          GRUG (CONT'D)\\n\\n           You're supposed to wait for my signal\\n\\n           Eep. Eep?\\n\\n          Eep scares a pack of nearby Liyotes away. They pounce on\\n\\n          Grug briefly before scampering off. Eep spreads out on\\n\\n          an overhanging rock. She BASKS IN THE SUN.\\n\\n                          EEP\\n\\n           We've been in that cave forever.\\n\\n                          GRUG\\n\\n           Three days is not forever.\\n\\n                          EEP\\n\\n           It is with this family.\\n\\n                          GRUG\\n\\n           Eep would you come down here? You're\\n\\n           being so dramatic.\\n\\n          A LITTLE GIRL, SANDY, charges out next. Her display is\\n\\n          more terrier-like.\\n\\n                          GRUG (CONT'D)\\n\\n           No, no, no Sandy, come back here.\\n\\n           Remember the signal. Good girls wait for\\n\\n           the signal.\\n\\n          A CAVE WOMAN, UGGA, scrambles out next. She is\""
      ]
     },
     "execution_count": 284,
     "metadata": {},
     "output_type": "execute_result"
    }
   ],
   "source": [
    "croods_script[:5000]"
   ]
  },
  {
   "cell_type": "code",
   "execution_count": 206,
   "metadata": {},
   "outputs": [],
   "source": [
    "seq = re.findall('SEQ', croods_script)"
   ]
  },
  {
   "cell_type": "code",
   "execution_count": 207,
   "metadata": {},
   "outputs": [
    {
     "data": {
      "text/plain": [
       "29"
      ]
     },
     "execution_count": 207,
     "metadata": {},
     "output_type": "execute_result"
    }
   ],
   "source": [
    "len(seq)"
   ]
  },
  {
   "cell_type": "code",
   "execution_count": 208,
   "metadata": {},
   "outputs": [],
   "source": [
    "sequences = croods_script.split('SEQ.')"
   ]
  },
  {
   "cell_type": "code",
   "execution_count": 210,
   "metadata": {},
   "outputs": [
    {
     "data": {
      "text/plain": [
       "\" 100 - MEET THE CROODS\\n\\n          A HUGE CAVEMAN, GRUG, RUSHES forward, screaming,\\n\\n          growling, and throwing handfuls of dirt in a THREAT\\n\\n          DISPLAY. He BLINKS in the bright morning light. He\\n\\n          LIFTS and HURLS a large boulder.\\n\\n                          GRUG\\n\\n           Raaaaar grooooOOOOoooowwwll ERF ERF\\n\\n           Glaaaaaabbbbllllllllthhhh!\\n\\n          As suddenly as he began, Grug stops. Panting, he waits\\n\\n          for the echoes of his outburst to fade.\\n\\n          Grug TURNS to the cave entrance, he prepares to BELLOW a\\n\\n          signal, but before any sound escapes his lips--\\n\\n          A CAVE GIRL, EEP, bursts from the cave.\\n\\n          3.\\n\\n                          GRUG (CONT'D)\\n\\n           You're supposed to wait for my signal\\n\\n           Eep. Eep?\\n\\n          Eep scares a pack of nearby Liyotes away. They pounce on\\n\\n          Grug briefly before scampering off. Eep spreads out on\\n\\n          an overhanging rock. She BASKS IN THE SUN.\\n\\n                          EEP\\n\\n           We've been in that cave forever.\\n\\n                          GRUG\\n\\n           Three days is not forever.\\n\\n                          EEP\\n\\n           It is with this family.\\n\\n                          GRUG\\n\\n           Eep would you come down here? You're\\n\\n           being so dramatic.\\n\\n          A LITTLE GIRL, SANDY, charges out next. Her display is\\n\\n          more terrier-like.\\n\\n                          GRUG (CONT'D)\\n\\n           No, no, no Sandy, come back here.\\n\\n           Remember the signal. Good girls wait for\\n\\n           the signal.\\n\\n          A CAVE WOMAN, UGGA, scrambles out next. She is mostly\\n\\n          focused on catching Sandy, giving only cursory effort to\\n\\n          her display.\\n\\n                          GRUG (CONT'D)\\n\\n           Ugga.\\n\\n                          UGGA\\n\\n           As soon as I get Sandy, I'll go back in,\\n\\n           and you can give the signal.\\n\\n                          GRUG\\n\\n           No, I mean, you're already out now.\\n\\n           THUNK (O.S.)\\n\\n           I am waiting for the signal, dad.\\n\\n          We HEAR the voice of Grug's nine-year-old son from inside\\n\\n          the cave. THUNK is eager to please his dad and emulates\\n\\n          his every move.\\n\\n                          GRUG\\n\\n           Never mind, Thunk. Just, come out.\\n\\n          4.\\n\\n                          THUNK\\n\\n           (not so fast)\\n\\n           Uhh, but if you don't give the signal,\\n\\n           how do I know you're my dad?\\n\\n                          GRUG\\n\\n           The signal isn't so you know it's me,\\n\\n           it's so you know I wasn't eaten by an\\n\\n           animal.\\n\\n          Beat.\\n\\n                          THUNK\\n\\n           Then why is the signal an animal noise?\\n\\n           I mean, doesn't that just confuse things?\\n\\n          Grug sighs.\\n\\n                          THUNK (CONT'D)\\n\\n           I don't know... I'm still waiting for the\\n\\n           signal.\\n\\n                          GRUG\\n\\n           Sigh. Hoo hooooo! Hoo hooooo!\\n\\n          Thunk comes out growling, and barrels into Grug. Thunk\\n\\n          picks up a boulder and throws it. It ricochets off the\\n\\n          cliff wall and careens into Grug. Grug gets plowed over\\n\\n          by the boulder.\\n\\n                          UGGA\\n\\n           Mom, we're ready to leave.\\n\\n                          (BEAT)\\n\\n           Mom!\\n\\n          Grug sits up and smiles.\\n\\n                          GRAN\\n\\n           Still alive!\\n\\n          Grug's face drops.\\n\\n                          GRUG\\n\\n           It's still early.\\n\\n                          GRAN\\n\\n           And you're still fat.\\n\\n                          GRUG\\n\\n           Breakfast formation!\\n\\n          The Croods form up in a flying wedge, with Grug in the\\n\\n          lead.\\n\\n          5.\\n\\n                          GRUG (CONT'D)\\n\\n           I want to see some real caveman action\\n\\n           out there. We do this fast. We do this\\n\\n           loud, we do this as a family and never\\n\\n           not be afraid. Go!\\n\\n                          THUNK\\n\\n           YAY, BREAKFAST!!!!\\n\\n          COMPRESSED TIME - The Croods RUN out of Crood canyon,\\n\\n          across the wide expanses of desert.\\n\\n                          CUT TO:\\n\\n          \""
      ]
     },
     "execution_count": 210,
     "metadata": {},
     "output_type": "execute_result"
    }
   ],
   "source": [
    "sequences[2]"
   ]
  },
  {
   "cell_type": "markdown",
   "metadata": {},
   "source": [
    "This script seems to mark sequences: aka scene breaks. Now that I think about it, Antz did this, too, and I'm beginning to wonder if I shouldn't have just abandoned those, or used them as scene starters. Maybe there's a good way to convert any FADE TO and CUT TO chunks into a single character that would indicate the beginning of a scene. And, if I mark them with \"_ \", I could use that to split the data into tuples of 3, and then create a Start_of_Scene column.\n",
    "\n",
    "For now, let's just worry about getting the lines."
   ]
  },
  {
   "cell_type": "code",
   "execution_count": 285,
   "metadata": {},
   "outputs": [
    {
     "data": {
      "text/plain": [
       "'                           THE CROODS\\n\\n                           Written by\\n\\n                 Kirk DeMicco & Chris Sanders\\n\\n                                                       12.12.2012\\n\\n          SEQ. 75 - PROLOGUE\\n\\n                         FADE IN:\\n\\n          A cave painting of the Dreamworks logo. Push past the\\n\\n          moon to the sun. Bright. Beautiful. The sun DISSOLVES\\n\\n                         TO:\\n\\n          Cave paintings of a family of cavemen -- we will come to\\n\\n          know them as The Croods.'"
      ]
     },
     "execution_count": 285,
     "metadata": {},
     "output_type": "execute_result"
    }
   ],
   "source": [
    "#getting rid of jargon before the script starts\n",
    "croods_script[:519]"
   ]
  },
  {
   "cell_type": "code",
   "execution_count": 286,
   "metadata": {},
   "outputs": [],
   "source": [
    "croods_script = croods_script[519:]"
   ]
  },
  {
   "cell_type": "code",
   "execution_count": 287,
   "metadata": {},
   "outputs": [
    {
     "data": {
      "text/plain": [
       "'\\n'"
      ]
     },
     "execution_count": 287,
     "metadata": {},
     "output_type": "execute_result"
    }
   ],
   "source": [
    "croods_script[0]"
   ]
  },
  {
   "cell_type": "code",
   "execution_count": 236,
   "metadata": {},
   "outputs": [
    {
     "data": {
      "text/plain": [
       "21"
      ]
     },
     "execution_count": 236,
     "metadata": {},
     "output_type": "execute_result"
    }
   ],
   "source": [
    "len_w_s.count(25) #not many of these..."
   ]
  },
  {
   "cell_type": "code",
   "execution_count": 253,
   "metadata": {},
   "outputs": [],
   "source": [
    "ws_25 = re.findall(\"\\n {25}[\\S]+ [\\S]+\", croods_script)"
   ]
  },
  {
   "cell_type": "code",
   "execution_count": 254,
   "metadata": {},
   "outputs": [
    {
     "data": {
      "text/plain": [
       "['\\n                         ON GRAN', '\\n                         ON EEP', '\\n                         ON SANDY', '\\n                         X-DISS TO:', '\\n                         THUNK MOANS', '\\n                         X-DISS TO:', '\\n                         X-DISS TO:', '\\n                         ON GUY', '\\n                         THE LOG', '\\n                         ON THUNK', '\\n                         TREE TOP', '\\n                         ON GRUG', '\\n                         ON UGGA', '\\n                         ON THUNK', '\\n                         ON GRUG', '\\n                         ON GRUG', '\\n                         ON GRUG', '\\n                         ON EEP']"
      ]
     },
     "execution_count": 254,
     "metadata": {},
     "output_type": "execute_result"
    }
   ],
   "source": [
    "ws_25"
   ]
  },
  {
   "cell_type": "markdown",
   "metadata": {},
   "source": [
    "It looks like the 25 spaces come before stage commands."
   ]
  },
  {
   "cell_type": "code",
   "execution_count": 231,
   "metadata": {},
   "outputs": [
    {
     "data": {
      "text/plain": [
       "\"\\n\\n                          EEP (V.O.)\\n\\n           With every sun comes a new day. A new\\n\\n           beginning. A hope that things will be\\n\\n           better today than they were yesterday.\\n\\n          The Croods scurry out of their cave like mice looking for\\n\\n          food. Scared. Fast.\\n\\n          The Croods are chased by beasts across the desert. They\\n\\n          escape from creatures up trees. They hide behind rocks.\\n\\n                          EEP (V.O.)\\n\\n           But not for me. My name's Eep. This, is\\n\\n           my family, the Croods. If you weren't\\n\\n           clued in already by the animal skins and\\n\\n           sloping foreheads - we're cavemen. Most\\n\\n           days we spend in our cave, in the dark.\\n\\n           Night after night, day after day. Yep.\\n\\n           Home sweet home. When we did go out, we\\n\\n           struggled to find food in a harsh and\\n\\n           hostile world. And I struggled to\\n\\n           survive my family.\\n\\n          The Croods are chased by beasts across\""
      ]
     },
     "execution_count": 231,
     "metadata": {},
     "output_type": "execute_result"
    }
   ],
   "source": [
    "#the only large chunks of white space are\n",
    "#10 spaces: after a character's line\n",
    "#11 spaces: between character name and line or between lines\n",
    "#25 spaces: before stage commands\n",
    "#26 spaces: before a character name\n",
    "croods_script[:1000]"
   ]
  },
  {
   "cell_type": "code",
   "execution_count": 274,
   "metadata": {},
   "outputs": [],
   "source": [
    "#Let's just remove parentheticals from the start\n",
    "croods_script = re.sub(r\"\\([^\\)]*\\)\", '', croods_script)"
   ]
  },
  {
   "cell_type": "code",
   "execution_count": 295,
   "metadata": {},
   "outputs": [
    {
     "data": {
      "text/plain": [
       "3396"
      ]
     },
     "execution_count": 295,
     "metadata": {},
     "output_type": "execute_result"
    }
   ],
   "source": [
    "#analyzing white space again\n",
    "w_s = re.findall(\" {3,}\", croods_script)\n",
    "len(w_s)"
   ]
  },
  {
   "cell_type": "code",
   "execution_count": 296,
   "metadata": {},
   "outputs": [
    {
     "name": "stdout",
     "output_type": "stream",
     "text": [
      "[26, 11, 11, 11, 10, 10, 10, 10, 26, 11, 11, 11, 11, 11, 11, 11, 11, 11, 11, 10, 10, 26, 11, 11, 11, 11, 11, 11, 10, 26, 11, 11, 10, 10, 10, 26, 11, 11, 11, 11, 11, 10, 10, 10, 10, 26, 11, 11, 10, 10, 10, 26, 11, 11, 11, 11, 10, 10, 26, 10, 10, 10, 10, 10, 26, 11, 11, 10, 10, 10, 10, 10, 10, 26, 11, 11, 10, 10, 10, 26, 11, 26, 11, 26, 11, 26, 11, 11, 10, 10, 26, 11, 11, 11, 10, 10, 10, 26, 11, 26]\n",
      "{10, 25, 26, 11}\n",
      "215\n",
      "25\n"
     ]
    }
   ],
   "source": [
    "len_w_s = [len(x) for x in w_s]\n",
    "print(len_w_s[:100])\n",
    "print(set(len_w_s))\n",
    "print(len_w_s.index(25))\n",
    "print(len_w_s[215])"
   ]
  },
  {
   "cell_type": "code",
   "execution_count": 275,
   "metadata": {},
   "outputs": [
    {
     "data": {
      "text/plain": [
       "\"\\n\\n                          EEP \\n\\n           With every sun comes a new day. A new\\n\\n           beginning. A hope that things will be\\n\\n           better today than they were yesterday.\\n\\n          The Croods scurry out of their cave like mice looking for\\n\\n          food. Scared. Fast.\\n\\n          The Croods are chased by beasts across the desert. They\\n\\n          escape from creatures up trees. They hide behind rocks.\\n\\n                          EEP \\n\\n           But not for me. My name's Eep. This, is\\n\\n           my family, the Croods. If you weren't\\n\\n           clued in already by the animal skins and\\n\\n           sloping foreheads - we're cavemen. Most\\n\\n           days we spend in our cave, in the dark.\\n\\n           Night after night, day after day. Yep.\\n\\n           Home sweet home. When we did go out, we\\n\\n           struggled to find food in a harsh and\\n\\n           hostile world. And I struggled to\\n\\n           survive my family.\\n\\n          The Croods are chased by beasts across the desert. They\\n\\n          escape from creatures up trees. They hide behind rocks.\\n\\n                          EEP \\n\\n           We were the last ones around. There used\\n\\n           to be neighbors. The Gorts, smashed by a\\n\\n           mammoth. The Horks, swallowed by a sand\\n\\n           snake. The Erfs, mosquito bite. Throgs,\\n\\n           common cold. And, the Croods. That's\\n\\n           us. The Croods made it...\\n\\n          Grug protects his family from a GIANT BEAR OWL.\\n\\n                          EEP \\n\\n           Because of my Dad. He was strong... and\\n\\n           he followed the rules.\\n\\n          A shadow falls across their feet and Grug ushers his\\n\\n          family home.\\n\\n          2.\\n\\n                          EEP \\n\\n           ... the ones painted on the cave walls.\\n\\n           Anything new is bad, curiosity is bad,\\n\\n           going out at night is bad. Basically,\\n\\n           anything fun is bad. Welcome to my\\n\\n           world.\\n\\n          They all run back into the cave where Grug slams the rock\\n\\n          door closed.\\n\\n          SLOWLY LIGHT ON CAVE PAINTINGS COMES UP AGAIN. But this\\n\\n          time the light casts an ominous tone.\\n\\n                          EEP \\n\\n           But this is a story about how all that\\n\\n           changed in an instant.\\n\\n          RAPID SHOTS OF THE GREAT SPLIT CUTTING THROUGH THE LAND.\\n\\n          HEADED TOWARDS CROOD VALLEY.\\n\\n          SHOTS OF CATACLYSM. CUT FASTER AND FASTER UNTIL...\\n\\n                          EEP \\n\\n           Because what we didn't know, was that our\\n\\n           world was about to come to an end. And\\n\\n           there were no rules on our cave walls to\\n\\n           prepare us for that.\\n\\n          CAVEMAN HANDS PRESS against the rock wall. They PUSH. A\\n\\n          BLINDING LIGHT FLOODS the screen.\\n\\n                          CUT TO:\\n\\n          SEQ. 100 - MEET THE CROODS\\n\\n          A HUGE CAVEMAN, GRUG, RUSHES forward, screaming,\\n\\n          growling, and throwing handfuls of dirt in a THREAT\\n\\n          DISPLAY. He BLINKS in the bright morning light. He\\n\\n          LIFTS and HURLS a large boulder.\\n\\n                          GRUG\\n\\n           Raaaaar grooooOOOOoooowwwll ERF ERF\\n\\n           Glaaaaaabbbbllllllllthhhh!\\n\\n          As suddenly as he began, Grug stops. Panting, he waits\\n\\n          for the echoes of his outburst to fade.\\n\\n          Grug TURNS to the cave entrance, he prepares to BELLOW a\\n\\n          signal, but before any sound escapes his lips--\\n\\n          A CAVE GIRL, EEP, bursts from the cave.\\n\\n          3.\\n\\n                          GRUG \\n\\n           You're supposed to wait for my signal\\n\\n           Eep. Eep?\\n\\n          Eep scares a pack of nearby Liyotes away. They pounce on\\n\\n          Grug briefly before scampering off. Eep spreads out on\\n\\n          an overhanging rock. She BASKS IN THE SUN.\\n\\n                          EEP\\n\\n           We've been in that cave forever.\\n\\n                          GRUG\\n\\n           Three days is not forever.\\n\\n                          EEP\\n\\n           It is with this family.\\n\\n                          GRUG\\n\\n           Eep would you come down here? You're\\n\\n           being so dramatic.\\n\\n          A LITTLE GIRL, SANDY, charges out next. Her display is\\n\\n          more terrier-like.\\n\\n                          GRUG \\n\\n           No, no, no Sandy, come back here.\\n\\n           Remember the signal. Good girls wait for\\n\\n           the signal.\\n\\n          A CAVE WOMAN, UGGA, scrambles out next. She is mostly\\n\\n          focused on catching Sandy, giving only cursory effort to\\n\\n          her display.\\n\\n                          GRUG \\n\\n           Ugga.\\n\\n                          UGGA\\n\\n           As soon as I get Sandy, I'll go back in,\\n\\n           and you can give the signal.\\n\\n                          GRUG\\n\\n           No, I mean, you're already out now.\\n\\n           THUNK \\n\\n           I am waiting for the signal, dad.\\n\\n          We HEAR the voice of Grug's nine-year-old son from inside\\n\\n          the cave. THUNK is eager to please his dad and emulates\\n\\n          his ever\""
      ]
     },
     "execution_count": 275,
     "metadata": {},
     "output_type": "execute_result"
    }
   ],
   "source": [
    "croods_script[:5000]"
   ]
  },
  {
   "cell_type": "code",
   "execution_count": 356,
   "metadata": {},
   "outputs": [],
   "source": [
    "croods_scr = re.sub(r\"\\n\\n {26}(\\b['A-Z ]+)\", r'_NEWLINE_\\1_', croods_script)"
   ]
  },
  {
   "cell_type": "code",
   "execution_count": 357,
   "metadata": {},
   "outputs": [
    {
     "data": {
      "text/plain": [
       "\"_NEWLINE_EEP _(V.O.)\\n\\n           With every sun comes a new day. A new\\n\\n           beginning. A hope that things will be\\n\\n           better today than they were yesterday.\\n\\n          The Croods scurry out of their cave like mice looking for\\n\\n          food. Scared. Fast.\\n\\n          The Croods are chased by beasts across the desert. They\\n\\n          escape from creatures up trees. They hide behind rocks._NEWLINE_EEP _(V.O.)\\n\\n           But not for me. My name's Eep. This, is\\n\\n           my family,\""
      ]
     },
     "execution_count": 357,
     "metadata": {},
     "output_type": "execute_result"
    }
   ],
   "source": [
    "croods_scr[:500]"
   ]
  },
  {
   "cell_type": "code",
   "execution_count": 351,
   "metadata": {},
   "outputs": [],
   "source": [
    "testing = re.findall(r\"\\n\\n {26}\\b['A-Z ]+\", croods_script)"
   ]
  },
  {
   "cell_type": "code",
   "execution_count": 352,
   "metadata": {},
   "outputs": [
    {
     "data": {
      "text/plain": [
       "804"
      ]
     },
     "execution_count": 352,
     "metadata": {},
     "output_type": "execute_result"
    }
   ],
   "source": [
    "len(testing)"
   ]
  },
  {
   "cell_type": "code",
   "execution_count": 353,
   "metadata": {},
   "outputs": [
    {
     "data": {
      "text/plain": [
       "30"
      ]
     },
     "execution_count": 353,
     "metadata": {},
     "output_type": "execute_result"
    }
   ],
   "source": [
    "len(set(testing))"
   ]
  },
  {
   "cell_type": "code",
   "execution_count": 354,
   "metadata": {},
   "outputs": [
    {
     "data": {
      "text/plain": [
       "{'\\n\\n                          UGGA', '\\n\\n                          EEP', '\\n\\n                          AWAY', '\\n\\n                          GUY', '\\n\\n                          GRUG', '\\n\\n                          GRAN ', '\\n\\n                          ERF ERF', '\\n\\n                          SIGH ', '\\n\\n                          MACAWNIVORE', '\\n\\n                          SPOTTED', '\\n\\n                          EEP ', '\\n\\n                          CUT TO', '\\n\\n                          THUNK ', '\\n\\n                          SANDY', '\\n\\n                          GRUG ', '\\n\\n                          UGA', '\\n\\n                          THUNK', '\\n\\n                          GASP ', '\\n\\n                          YOU TO', '\\n\\n                          CREATURE', '\\n\\n                          CHUNKY', '\\n\\n                          DISSOLVE TO', '\\n\\n                          GUY ', '\\n\\n                          GRAN', '\\n\\n                          TA', '\\n\\n                          GASPS ', '\\n\\n                          UGGA ', '\\n\\n                          GROAN ', '\\n\\n                          CROODS', '\\n\\n                          BELT'}"
      ]
     },
     "execution_count": 354,
     "metadata": {},
     "output_type": "execute_result"
    }
   ],
   "source": [
    "set(testing)"
   ]
  },
  {
   "cell_type": "code",
   "execution_count": 345,
   "metadata": {},
   "outputs": [
    {
     "data": {
      "text/plain": [
       "['EE', 'EE', 'EE', 'EE', 'EE', 'EE', 'EE', 'CU', 'GR', 'GR']"
      ]
     },
     "execution_count": 345,
     "metadata": {},
     "output_type": "execute_result"
    }
   ],
   "source": [
    "testing[:10]"
   ]
  },
  {
   "cell_type": "markdown",
   "metadata": {},
   "source": [
    "This also includes various stage commands, like CUT TO, AWAY, SIGH, GASP, GASPS, YOU TO, DISSOLVE TO, and whatever TA is (within my research of the movie, TA isn't a character, or anything really."
   ]
  },
  {
   "cell_type": "code",
   "execution_count": 310,
   "metadata": {},
   "outputs": [],
   "source": [
    "testing_2 = re.findall(r\"\\n\\n {26}(\\b['A-Z ]+)+\", croods_script)"
   ]
  },
  {
   "cell_type": "code",
   "execution_count": 311,
   "metadata": {},
   "outputs": [
    {
     "data": {
      "text/plain": [
       "['EEP ', 'EEP ', 'EEP ', 'EEP ', 'EEP ', 'EEP ', 'EEP ', 'CUT TO', 'GRUG', 'GRUG ']"
      ]
     },
     "execution_count": 311,
     "metadata": {},
     "output_type": "execute_result"
    }
   ],
   "source": [
    "testing_2[:10]"
   ]
  },
  {
   "cell_type": "code",
   "execution_count": 312,
   "metadata": {},
   "outputs": [
    {
     "data": {
      "text/plain": [
       "804"
      ]
     },
     "execution_count": 312,
     "metadata": {},
     "output_type": "execute_result"
    }
   ],
   "source": [
    "len(testing_2)"
   ]
  },
  {
   "cell_type": "code",
   "execution_count": 313,
   "metadata": {},
   "outputs": [
    {
     "data": {
      "text/plain": [
       "{'UGA', 'GROAN ', 'SANDY', 'GRUG', 'GUY ', 'CREATURE', 'CROODS', 'UGGA ', 'EEP ', 'UGGA', 'GUY', 'BELT', 'YOU TO', 'CUT TO', 'GRAN', 'AWAY', 'THUNK', 'DISSOLVE TO', 'SIGH ', 'TA', 'EEP', 'MACAWNIVORE', 'GASP ', 'GRUG ', 'CHUNKY', 'ERF ERF', 'GASPS ', 'GRAN ', 'THUNK ', 'SPOTTED'}"
      ]
     },
     "execution_count": 313,
     "metadata": {},
     "output_type": "execute_result"
    }
   ],
   "source": [
    "set(testing_2)"
   ]
  },
  {
   "cell_type": "code",
   "execution_count": 314,
   "metadata": {},
   "outputs": [
    {
     "data": {
      "text/plain": [
       "30"
      ]
     },
     "execution_count": 314,
     "metadata": {},
     "output_type": "execute_result"
    }
   ],
   "source": [
    "len(set(testing_2))"
   ]
  },
  {
   "cell_type": "markdown",
   "metadata": {},
   "source": [
    "Split the script into lines."
   ]
  },
  {
   "cell_type": "code",
   "execution_count": 358,
   "metadata": {},
   "outputs": [],
   "source": [
    "croods_lines = croods_scr.split('_NEWLINE_')"
   ]
  },
  {
   "cell_type": "code",
   "execution_count": 359,
   "metadata": {},
   "outputs": [
    {
     "data": {
      "text/plain": [
       "805"
      ]
     },
     "execution_count": 359,
     "metadata": {},
     "output_type": "execute_result"
    }
   ],
   "source": [
    "len(croods_lines)"
   ]
  },
  {
   "cell_type": "code",
   "execution_count": 360,
   "metadata": {},
   "outputs": [
    {
     "data": {
      "text/plain": [
       "''"
      ]
     },
     "execution_count": 360,
     "metadata": {},
     "output_type": "execute_result"
    }
   ],
   "source": [
    "croods_lines[0]"
   ]
  },
  {
   "cell_type": "code",
   "execution_count": 361,
   "metadata": {},
   "outputs": [],
   "source": [
    "croods_lines = croods_lines[1:]"
   ]
  },
  {
   "cell_type": "code",
   "execution_count": 363,
   "metadata": {},
   "outputs": [
    {
     "data": {
      "text/plain": [
       "['EEP _(V.O.)\\n\\n           With every sun comes a new day. A new\\n\\n           beginning. A hope that things will be\\n\\n           better today than they were yesterday.\\n\\n          The Croods scurry out of their cave like mice looking for\\n\\n          food. Scared. Fast.\\n\\n          The Croods are chased by beasts across the desert. They\\n\\n          escape from creatures up trees. They hide behind rocks.', \"EEP _(V.O.)\\n\\n           But not for me. My name's Eep. This, is\\n\\n           my family, the Croods. If you weren't\\n\\n           clued in already by the animal skins and\\n\\n           sloping foreheads - we're cavemen. Most\\n\\n           days we spend in our cave, in the dark.\\n\\n           Night after night, day after day. Yep.\\n\\n           Home sweet home. When we did go out, we\\n\\n           struggled to find food in a harsh and\\n\\n           hostile world. And I struggled to\\n\\n           survive my family.\\n\\n          The Croods are chased by beasts across the desert. They\\n\\n          escape from creatures up trees. They hide behind rocks.\", \"EEP _(V.O.)\\n\\n           We were the last ones around. There used\\n\\n           to be neighbors. The Gorts, smashed by a\\n\\n           mammoth. The Horks, swallowed by a sand\\n\\n           snake. The Erfs, mosquito bite. Throgs,\\n\\n           common cold. And, the Croods. That's\\n\\n           us. The Croods made it...\\n\\n          Grug protects his family from a GIANT BEAR OWL.\", 'EEP _(V.O.)\\n\\n           Because of my Dad. He was strong... and\\n\\n           he followed the rules.\\n\\n          A shadow falls across their feet and Grug ushers his\\n\\n          family home.\\n\\n          2.', 'EEP _(V.O.)\\n\\n           ... the ones painted on the cave walls.\\n\\n           Anything new is bad, curiosity is bad,\\n\\n           going out at night is bad. Basically,\\n\\n           anything fun is bad. Welcome to my\\n\\n           world.\\n\\n          They all run back into the cave where Grug slams the rock\\n\\n          door closed.\\n\\n          SLOWLY LIGHT ON CAVE PAINTINGS COMES UP AGAIN. But this\\n\\n          time the light casts an ominous tone.', 'EEP _(V.O.)\\n\\n           But this is a story about how all that\\n\\n           changed in an instant.\\n\\n          RAPID SHOTS OF THE GREAT SPLIT CUTTING THROUGH THE LAND.\\n\\n          HEADED TOWARDS CROOD VALLEY.\\n\\n          SHOTS OF CATACLYSM. CUT FASTER AND FASTER UNTIL...', \"EEP _(V.O.)\\n\\n           Because what we didn't know, was that our\\n\\n           world was about to come to an end. And\\n\\n           there were no rules on our cave walls to\\n\\n           prepare us for that.\\n\\n          CAVEMAN HANDS PRESS against the rock wall. They PUSH. A\\n\\n          BLINDING LIGHT FLOODS the screen.\", 'CUT TO_:\\n\\n          SEQ. 100 - MEET THE CROODS\\n\\n          A HUGE CAVEMAN, GRUG, RUSHES forward, screaming,\\n\\n          growling, and throwing handfuls of dirt in a THREAT\\n\\n          DISPLAY. He BLINKS in the bright morning light. He\\n\\n          LIFTS and HURLS a large boulder.', 'GRUG_\\n\\n           Raaaaar grooooOOOOoooowwwll ERF ERF\\n\\n           Glaaaaaabbbbllllllllthhhh!\\n\\n          As suddenly as he began, Grug stops. Panting, he waits\\n\\n          for the echoes of his outburst to fade.\\n\\n          Grug TURNS to the cave entrance, he prepares to BELLOW a\\n\\n          signal, but before any sound escapes his lips--\\n\\n          A CAVE GIRL, EEP, bursts from the cave.\\n\\n          3.', \"GRUG _(CONT'D)\\n\\n           You're supposed to wait for my signal\\n\\n           Eep. Eep?\\n\\n          Eep scares a pack of nearby Liyotes away. They pounce on\\n\\n          Grug briefly before scampering off. Eep spreads out on\\n\\n          an overhanging rock. She BASKS IN THE SUN.\", \"EEP_\\n\\n           We've been in that cave forever.\", 'GRUG_\\n\\n           Three days is not forever.', 'EEP_\\n\\n           It is with this family.', \"GRUG_\\n\\n           Eep would you come down here? You're\\n\\n           being so dramatic.\\n\\n          A LITTLE GIRL, SANDY, charges out next. Her display is\\n\\n          more terrier-like.\", \"GRUG _(CONT'D)\\n\\n           No, no, no Sandy, come back here.\\n\\n           Remember the signal. Good girls wait for\\n\\n           the signal.\\n\\n          A CAVE WOMAN, UGGA, scrambles out next. She is mostly\\n\\n          focused on catching Sandy, giving only cursory effort to\\n\\n          her display.\", \"GRUG _(CONT'D)\\n\\n           Ugga.\", \"UGGA_\\n\\n           As soon as I get Sandy, I'll go back in,\\n\\n           and you can give the signal.\", \"GRUG_\\n\\n           No, I mean, you're already out now.\\n\\n           THUNK (O.S.)\\n\\n           I am waiting for the signal, dad.\\n\\n          We HEAR the voice of Grug's nine-year-old son from inside\\n\\n          the cave. THUNK is eager to please his dad and emulates\\n\\n          his every move.\", 'GRUG_\\n\\n           Never mind, Thunk. Just, come out.\\n\\n          4.', \"THUNK_\\n\\n           (not so fast)\\n\\n           Uhh, but if you don't give the signal,\\n\\n           how do I know you're my dad?\"]"
      ]
     },
     "execution_count": 363,
     "metadata": {},
     "output_type": "execute_result"
    }
   ],
   "source": [
    "croods_lines[:20]"
   ]
  },
  {
   "cell_type": "code",
   "execution_count": 369,
   "metadata": {},
   "outputs": [
    {
     "data": {
      "text/plain": [
       "['\\n\\n          4']"
      ]
     },
     "execution_count": 369,
     "metadata": {},
     "output_type": "execute_result"
    }
   ],
   "source": [
    "re.findall(\"\\n\\n {10}[\\S]\", croods_lines[18]) #notlines"
   ]
  },
  {
   "cell_type": "code",
   "execution_count": 371,
   "metadata": {},
   "outputs": [],
   "source": [
    "croods_lines2 = []\n",
    "for line in croods_lines:\n",
    "    line = re.sub(\"\\n\\n {10}[\\S]\", '_HEADER_', line)\n",
    "    real_line = line.split('_HEADER_')[0]\n",
    "    croods_lines2.append(real_line)\n"
   ]
  },
  {
   "cell_type": "code",
   "execution_count": 373,
   "metadata": {},
   "outputs": [
    {
     "data": {
      "text/plain": [
       "['EEP _(V.O.)\\n\\n           With every sun comes a new day. A new\\n\\n           beginning. A hope that things will be\\n\\n           better today than they were yesterday.', \"EEP _(V.O.)\\n\\n           But not for me. My name's Eep. This, is\\n\\n           my family, the Croods. If you weren't\\n\\n           clued in already by the animal skins and\\n\\n           sloping foreheads - we're cavemen. Most\\n\\n           days we spend in our cave, in the dark.\\n\\n           Night after night, day after day. Yep.\\n\\n           Home sweet home. When we did go out, we\\n\\n           struggled to find food in a harsh and\\n\\n           hostile world. And I struggled to\\n\\n           survive my family.\", \"EEP _(V.O.)\\n\\n           We were the last ones around. There used\\n\\n           to be neighbors. The Gorts, smashed by a\\n\\n           mammoth. The Horks, swallowed by a sand\\n\\n           snake. The Erfs, mosquito bite. Throgs,\\n\\n           common cold. And, the Croods. That's\\n\\n           us. The Croods made it...\", 'EEP _(V.O.)\\n\\n           Because of my Dad. He was strong... and\\n\\n           he followed the rules.', 'EEP _(V.O.)\\n\\n           ... the ones painted on the cave walls.\\n\\n           Anything new is bad, curiosity is bad,\\n\\n           going out at night is bad. Basically,\\n\\n           anything fun is bad. Welcome to my\\n\\n           world.', 'EEP _(V.O.)\\n\\n           But this is a story about how all that\\n\\n           changed in an instant.', \"EEP _(V.O.)\\n\\n           Because what we didn't know, was that our\\n\\n           world was about to come to an end. And\\n\\n           there were no rules on our cave walls to\\n\\n           prepare us for that.\", 'CUT TO_:', 'GRUG_\\n\\n           Raaaaar grooooOOOOoooowwwll ERF ERF\\n\\n           Glaaaaaabbbbllllllllthhhh!', \"GRUG _(CONT'D)\\n\\n           You're supposed to wait for my signal\\n\\n           Eep. Eep?\"]"
      ]
     },
     "execution_count": 373,
     "metadata": {},
     "output_type": "execute_result"
    }
   ],
   "source": [
    "croods_lines2[:10]"
   ]
  },
  {
   "cell_type": "code",
   "execution_count": 374,
   "metadata": {},
   "outputs": [],
   "source": [
    "not_lines = [\"CUT TO\", \"AWAY\", \"SIGH\", \"GASP\", \"GASPS\", \"YOU TO\", \"DISSOLVE TO\", \"TA\"]\n",
    "not_croods_lines = []\n",
    "for x in not_lines:\n",
    "    not_real_lines = [line for line in croods_lines2 if x in line]\n",
    "    not_croods_lines.extend(not_real_lines)\n"
   ]
  },
  {
   "cell_type": "code",
   "execution_count": 375,
   "metadata": {},
   "outputs": [
    {
     "data": {
      "text/plain": [
       "42"
      ]
     },
     "execution_count": 375,
     "metadata": {},
     "output_type": "execute_result"
    }
   ],
   "source": [
    "len(not_croods_lines)"
   ]
  },
  {
   "cell_type": "code",
   "execution_count": 376,
   "metadata": {},
   "outputs": [
    {
     "data": {
      "text/plain": [
       "['CUT TO_:', 'CUT TO_:', 'CUT TO_:', 'CUT TO_:', 'CUT TO_:', 'CUT TO_:', 'CUT TO_:', 'CUT TO_:', 'CUT TO_:', 'CUT TO_:', 'CUT TO_:', 'GRUG_\\n\\n           Auughhauhhhgggh!\\n\\n           SMASH CUT TO:', 'CUT TO_:', 'CUT TO_:', 'CUT TO_:', 'GUY_\\n\\n           AAAAAAAAAAAAAAAAAAAAUGHHHHH.\\n\\n           SMASH CUT TO:', 'CUT TO_:', 'CUT TO_:', 'CUT TO_:', 'CUT TO_:', 'CUT TO_:', 'CUT TO_:', 'CUT TO_:', 'CUT TO_:', 'CUT TO_:', 'CUT TO_:', 'CUT TO_:', 'AWAY_)\\n\\n           You too, Mom.', 'SIGH _', 'GUY_\\n\\n                          (GASPING)\\n\\n           Air.', 'GASPS _', 'GASP _', 'GASPS _', 'YOU TO_--\\n\\n           GRUG (O.S.)\\n\\n           GET OUT OF THE WAY!!!', 'DISSOLVE TO_:', 'DISSOLVE TO_:', 'DISSOLVE TO_:', 'DISSOLVE TO_:', 'DISSOLVE TO_:', 'DISSOLVE TO_:', 'DISSOLVE TO_:', 'TA_-DAAAAA']"
      ]
     },
     "execution_count": 376,
     "metadata": {},
     "output_type": "execute_result"
    }
   ],
   "source": [
    "not_croods_lines"
   ]
  },
  {
   "cell_type": "code",
   "execution_count": 377,
   "metadata": {},
   "outputs": [],
   "source": [
    "#so, some of these ARE parts of lines. Will have to fix"
   ]
  },
  {
   "cell_type": "code",
   "execution_count": null,
   "metadata": {},
   "outputs": [],
   "source": []
  }
 ],
 "metadata": {
  "kernelspec": {
   "display_name": "Python 3",
   "language": "python",
   "name": "python3"
  },
  "language_info": {
   "codemirror_mode": {
    "name": "ipython",
    "version": 3
   },
   "file_extension": ".py",
   "mimetype": "text/x-python",
   "name": "python",
   "nbconvert_exporter": "python",
   "pygments_lexer": "ipython3",
   "version": "3.6.4"
  }
 },
 "nbformat": 4,
 "nbformat_minor": 2
}
