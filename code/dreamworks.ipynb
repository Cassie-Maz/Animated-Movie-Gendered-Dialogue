{
 "cells": [
  {
   "cell_type": "markdown",
   "metadata": {},
   "source": [
    "# Dreamworks Films DataFrames\n",
    "In the following code, I will attempt to streamline the method I used for Shrek with the other Dreamworks films. After creating individual dataframes for each movie, I'll combine them into one dataframe. \n",
    "\n",
    "The movies included are:\n",
    "* Antz\n",
    "* Shrek the Third"
   ]
  },
  {
   "cell_type": "code",
   "execution_count": 1,
   "metadata": {},
   "outputs": [],
   "source": [
    "import glob\n",
    "import numpy as np\n",
    "import pandas as pd\n",
    "import re"
   ]
  },
  {
   "cell_type": "markdown",
   "metadata": {},
   "source": [
    "First, we need to check the formatting in each file, to see if they match the format of the shrek script, or if we need to modify the code. Let's start off with Antz."
   ]
  },
  {
   "cell_type": "code",
   "execution_count": 2,
   "metadata": {},
   "outputs": [],
   "source": [
    "#importing the file\n",
    "antz = open(r'C:\\Users\\cassi\\Desktop\\Data_Science\\Animated-Movie-Gendered-Dialogue\\private\\imsdb_raw_nov_2015\\Animation\\antz.txt')\n",
    "antz_script = antz.read()\n",
    "antz.close()"
   ]
  },
  {
   "cell_type": "code",
   "execution_count": 3,
   "metadata": {},
   "outputs": [
    {
     "name": "stdout",
     "output_type": "stream",
     "text": [
      "Pretty printing has been turned OFF\n"
     ]
    }
   ],
   "source": [
    "%pprint"
   ]
  },
  {
   "cell_type": "code",
   "execution_count": 52,
   "metadata": {},
   "outputs": [
    {
     "name": "stdout",
     "output_type": "stream",
     "text": [
      "\"Antz\", unknown draft\n",
      "\n",
      "A N T Z\n",
      "\n",
      "CHARACTERS                                            VOICES\n",
      "\n",
      "     \"Z\"...............................................WOODY ALLEN\n",
      "\n",
      "     \"WASP #1\".........................................DAN AYKROYD\n",
      "\n",
      "     \"WASP #2\".........................................JANE CURTIN\n",
      "\n",
      "     \"GEN. FORMICA\"...................................DANNY GLOVER\n",
      "\n",
      "     \"MANDIBLE\".......................................GENE HACKMAN\n",
      "\n",
      "     \"AZTECA\".......................................JENNIFER LOPEZ\n",
      "\n",
      "     \"DRUNK SCOUT\"....................................JOHN MAHONEY\n",
      "\n",
      "     \"WEAVER\"...................................SYLVESTER STALLONE\n",
      "\n",
      "     \"PRINCESS BALA\"..................................SHARON STONE\n",
      "\n",
      "     \"QUEEN\"..........................................MERYL STREEP\n",
      "\n",
      "     \"CARPENTER\"................................CHRISTOPHER WALKEN\n",
      "\n",
      "        \n"
     ]
    }
   ],
   "source": [
    "print(antz_script[:850])"
   ]
  },
  {
   "cell_type": "code",
   "execution_count": 9,
   "metadata": {},
   "outputs": [
    {
     "name": "stdout",
     "output_type": "stream",
     "text": [
      "                 Z (O.S.)\n",
      "\n",
      "                      (over a dark screen)\n",
      "\n",
      "               All my life, I've lived and worked in\n",
      "\n",
      "               the big city...\n",
      "\n",
      "     We see:\n",
      "\n",
      "     EXT. AN ANT MOUND - DAY\n",
      "\n",
      "     The camera swoops towards the entrance, then dives inside,\n",
      "\n",
      "     past a couple of tough-looking soldier ants who stand at the\n",
      "\n",
      "     gates of the ant colony like insect bouncers...into an access\n",
      "\n",
      "     tunnel that snakes this way and that, past a row of ants\n",
      "\n",
      "     plodding along...\n",
      "\n",
      "     ...and into the MAIN CHAMBER of the colony, a huge, teeming\n",
      "\n",
      "     vista that seems to stretch away forever, filled with ants\n",
      "\n",
      "     rushing here and there on their business.  We see -- a\n",
      "\n",
      "     \"traffic cop\" directing foot traffic, waving his arms like\n",
      "\n",
      "     crazy so both sides move at once -- a column of \n",
      "\n",
      "soldier ants\n",
      "\n",
      "     marching along in formation -- a chain of ants letting down\n",
      "\n",
      "     a \n",
      "\n",
      "matchbox\n",
      "\n",
      " elevator filled with workers.\n",
      "\n",
      "                         Z (V.O.)\n",
      "\n",
      "               ...which is kind of a problem, since\n",
      "\n",
      "               I've always felt uncomfortably in\n",
      "\n",
      "               crowds.\n",
      "\n",
      "     INT. MOTIVATIONAL COUNSELLOR'S OFFICE - DAY\n",
      "\n",
      "     We join Z, a worker ant with issues.  He's lying on a couch,\n",
      "\n",
      "     recounting his woes.\n",
      "\n",
      "                         Z\n",
      "\n",
      "               I feel...isolated.  Different.  I've\n",
      "\n",
      "               got abandonment issues.  My father\n",
      "\n",
      "               flew away when I was just a larva.\n",
      "\n",
      "               My mother didn't have much time for\n",
      "\n",
      "               me...when you have five million\n",
      "\n",
      "               siblings, it's difficult to get\n",
      "\n",
      "               attention.\n",
      "\n",
      "                      (pause)\n",
      "\n",
      "               I feel ph\n"
     ]
    }
   ],
   "source": [
    "print(antz_script[850:2500])"
   ]
  },
  {
   "cell_type": "markdown",
   "metadata": {},
   "source": [
    "Interesting...Antz has a character list (for the main characters at least). Also, one of the characters is simply named \"Z\", which poses a problem. In the Shrek script, we could rely on character names being longer than two letters. Let's try what we used with Shrek. But first, we'll need to cut off the beginning of the script."
   ]
  },
  {
   "cell_type": "code",
   "execution_count": 17,
   "metadata": {},
   "outputs": [
    {
     "data": {
      "text/plain": [
       "\"\\n\\n                         Z (O.S.)\\n\\n                      (over a dark screen)\\n\\n               All my life, I've lived and worked in\\n\\n               the big ci\""
      ]
     },
     "execution_count": 17,
     "metadata": {},
     "output_type": "execute_result"
    }
   ],
   "source": [
    "antz_script[840:1000]"
   ]
  },
  {
   "cell_type": "code",
   "execution_count": 21,
   "metadata": {},
   "outputs": [],
   "source": [
    "antz_script2 = antz_script[840:]"
   ]
  },
  {
   "cell_type": "code",
   "execution_count": 23,
   "metadata": {},
   "outputs": [
    {
     "data": {
      "text/plain": [
       "'\\n\\n                         Z (O.S.)\\n\\n                      (over a dark screen)\\n\\n               All '"
      ]
     },
     "execution_count": 23,
     "metadata": {},
     "output_type": "execute_result"
    }
   ],
   "source": [
    "antz_script2[:100]"
   ]
  },
  {
   "cell_type": "markdown",
   "metadata": {},
   "source": [
    "Okay, now let's count the white space and see how it's used."
   ]
  },
  {
   "cell_type": "code",
   "execution_count": 57,
   "metadata": {},
   "outputs": [
    {
     "data": {
      "text/plain": [
       "3376"
      ]
     },
     "execution_count": 57,
     "metadata": {},
     "output_type": "execute_result"
    }
   ],
   "source": [
    "white_space = re.findall(\" {3,}\", antz_script2)\n",
    "len(white_space)"
   ]
  },
  {
   "cell_type": "code",
   "execution_count": 58,
   "metadata": {},
   "outputs": [
    {
     "name": "stdout",
     "output_type": "stream",
     "text": [
      "['                         ', '                      ', '               ', '               ', '     ', '     ', '     ', '     ', '     ', '     ']\n"
     ]
    }
   ],
   "source": [
    "print(white_space[:10])"
   ]
  },
  {
   "cell_type": "code",
   "execution_count": 59,
   "metadata": {},
   "outputs": [
    {
     "name": "stdout",
     "output_type": "stream",
     "text": [
      "[25, 22, 15, 15, 5, 5, 5, 5, 5, 5, 5, 5, 5, 5, 5, 5, 5, 5, 25, 15, 15, 15, 5, 5, 5, 25, 15, 15, 15, 15, 15, 15, 15, 22, 15, 15, 15, 15, 15, 15, 15, 15, 15, 25, 22, 15, 15, 5, 5, 5]\n",
      "{3, 5, 46, 15, 22, 23, 25}\n"
     ]
    }
   ],
   "source": [
    "len_w_s = [len(x) for x in white_space]\n",
    "print(len_w_s[:50])\n",
    "print(set(len_w_s))"
   ]
  },
  {
   "cell_type": "code",
   "execution_count": 122,
   "metadata": {},
   "outputs": [
    {
     "data": {
      "text/plain": [
       "'\\n\\n                         Z (O.S.)\\n\\n                      (over a dark screen)\\n\\n               All my life, I\\'ve lived and worked in\\n\\n               the big city...\\n\\n     We see:\\n\\n     EXT. AN ANT MOUND - DAY\\n\\n     The camera swoops towards the entrance, then dives inside,\\n\\n     past a couple of tough-looking soldier ants who stand at the\\n\\n     gates of the ant colony like insect bouncers...into an access\\n\\n     tunnel that snakes this way and that, past a row of ants\\n\\n     plodding along...\\n\\n     ...and into the MAIN CHAMBER of the colony, a huge, teeming\\n\\n     vista that seems to stretch away forever, filled with ants\\n\\n     rushing here and there on their business.  We see -- a\\n\\n     \"traffic cop\" directing foot traffic, waving his arms like\\n\\n     crazy so both sides move at once -- a column of \\n\\nsoldier ants\\n\\n     marching along in formation -- a chain of ants letting down\\n\\n     a \\n\\nmatchbox\\n\\n elevator filled with workers.\\n\\n                         Z (V.O.)\\n\\n               ...which is kind of a problem, since\\n\\n               I\\'ve always felt uncomfortably in\\n\\n               crowds.\\n\\n     INT. MOTIVATIONAL COUNSELLOR\\'S OFFICE - DAY\\n\\n     We join Z, a worker ant with issues.  He\\'s lying on a couch,\\n\\n     recounting his woes.\\n\\n                         Z\\n\\n               I feel...isolated.  Different.  I\\'ve\\n\\n               got abandonment issues.  My father\\n\\n               flew away when I was just a larva.\\n\\n               My mother didn\\'t have much time for\\n\\n               me...when you have five million\\n\\n               siblings, it\\'s difficult to get\\n\\n               attention.\\n\\n                      (pause)\\n\\n               I feel physically inadequate -- I\\'ve\\n\\n               never been able to lift more than ten\\n\\n               times my own weight.  Sometimes I\\n\\n               think I\\'m just not cut out to be a\\n\\n               worker.  But I don\\'t have any other\\n\\n               options.  I was assigned to trade\\n\\n               school when I was just a \\n\\ngrub\\n\\n.  The\\n\\n               whole system just...makes me\\n\\n               feel...\\n\\ninsignificant\\n\\n.\\n\\n                         MOTIVATIONAL COUNSELLOR\\n\\n                      (enthusiastic)\\n\\n               Terrific!  You \\n\\nshould\\n\\n feel\\n\\n               insignificant!\\n\\n     For the first time, we see the ant MOTIVATIONAL COUNSELLOR.\\n\\n     He\\'s a mixture of Tony Robbins and Ron Popiel (the\\n\\n     hyperactive late-night TV huckster, and founder of \"Ronco\").\\n\\n                         Z\\n\\n               ...I should?\\n\\n                         MOTIVATIONAL COUNSELLOR\\n\\n                      (hopping around\\n\\n                       enthusiastically)\\n\\n               YES!!!  You know, people ask me,\\n\\n               \"Doctor, why are you always happy?\"\\n\\n               And I tell them it\\'s mind over\\n\\n               matter.  I don\\'t \\n\\nmind\\n\\n that I don\\'t\\n\\nmatter\\n\\n!  Do you get it?  Do you get\\n\\n               it?\\n\\n     Z gives a fake smile.\\n\\n                         MOTIVATIONAL COUNSELLOR\\n\\n                      (incredibly \"up\")\\n\\n               Z, we\\'re part of the \\n\\nfastest growing\\n\\nspecies in the whole world\\n\\n!\\n\\n     The counsellor rolls down a chart from the wall.  An arrow\\n\\n     shows ant population going up, up, up.\\n\\n                         MOTIVATIONAL COUNSELLOR\\n\\n               Ask me why we\\'re so successful.\\n\\n                         Z\\n\\n               Why are we so successful?\\n\\n                         MOTIVATIONAL COUNSELLOR\\n\\n               I\\'m glad you asked me that question!\\n\\n     The motivational counsellor opens some blinds...and we see a\\n\\n     vista of the ant-filled chamber below.\\n\\n                         MOTIVATIONAL COUNSELLOR\\n\\n               What do you see out there?\\n\\n                         Z\\n\\n               ...Ants...\\n\\n                         MOTIVATIONAL COUNSELLOR\\n\\n               Right!  Ants!  Millions of creatures,\\n\\n               each with his assigned task, all\\n\\n               pulling together!\\n\\n     Down below, we see a group of ants carrying a boulder up an\\n\\n     incline.  One worker ants slips, and the boulder rolls down,\\n\\n     crushing his leg.  The other ants rush over -- it looks like\\n\\n     they\\'re going to help their fallen comrade, but instead, they\\n\\n     climb right over him, and pick up the boulder, continuing\\n\\n     with their task.\\n\\n                         MOTIVATIONAL COUNSELLOR\\n\\n               You see?  Being an ant is being able\\n\\n               to say, \"Hey -- \\n\\nI\\'m\\n\\n meaningless,\\n\\nyou\\'re\\n\\n meaningless.\"\\n\\n                         Z\\n\\n               But -- but I\\'ve always felt life was\\n\\n               about finding meaning...and then\\n\\n               sharing it with someone special,\\n\\n               someone you love.\\n\\n     The motivational counsellor puts his arm on Z\\'s shoulder...he\\n\\n     seems to understand...\\n\\n                         MOTIVATIONAL COUNSELLOR\\n\\n               Z...you need help.\\n\\n                      (looking at a clock)\\n\\n               Whoops!  We\\'re gonna have to stop\\n\\n               there.  Your minute is up!\\n\\n     '"
      ]
     },
     "execution_count": 122,
     "metadata": {},
     "output_type": "execute_result"
    }
   ],
   "source": [
    "antz_script2[:5000]\n",
    "#25 before a character name\n",
    "#22 after a character name and before a parenthetical\n",
    "#15 after a parenthetical and before a line\n",
    "#15 between lines\n",
    "#5 after a line is done and before scene headers\n",
    "#5 between scene headers\n",
    "#25 before a character's name\n",
    "#15 between between a character's name and their line\n",
    "# 5 after the end of a character's line and before a scene header"
   ]
  },
  {
   "cell_type": "code",
   "execution_count": 130,
   "metadata": {},
   "outputs": [
    {
     "data": {
      "text/plain": [
       "25"
      ]
     },
     "execution_count": 130,
     "metadata": {},
     "output_type": "execute_result"
    }
   ],
   "source": [
    "test_line = \"\\n\\n                         Z\\n\\n\"\n",
    "len(test_line)\n",
    "len(test_line[2:-3])"
   ]
  },
  {
   "cell_type": "code",
   "execution_count": 153,
   "metadata": {},
   "outputs": [],
   "source": [
    "test = re.findall(r\"(\\b[A-Z]['A-Z ]+[0-9]?)+\", antz_script2)"
   ]
  },
  {
   "cell_type": "code",
   "execution_count": 154,
   "metadata": {},
   "outputs": [
    {
     "data": {
      "text/plain": [
       "1346"
      ]
     },
     "execution_count": 154,
     "metadata": {},
     "output_type": "execute_result"
    }
   ],
   "source": [
    "len(test)"
   ]
  },
  {
   "cell_type": "code",
   "execution_count": 136,
   "metadata": {},
   "outputs": [
    {
     "data": {
      "text/plain": [
       "['Z ', \"I'\", 'EXT', 'AN ANT MOUND ', 'DAY\\n', 'MAIN CHAMBER ', 'Z ', \"I'\", 'INT', \"MOTIVATIONAL COUNSELLOR'S OFFICE \", 'DAY\\n', 'I ', \"I'\", 'I ', 'I ', \"I'\", \"I'\", 'I ', 'I ', 'I ']"
      ]
     },
     "execution_count": 136,
     "metadata": {},
     "output_type": "execute_result"
    }
   ],
   "source": [
    "test[:20]"
   ]
  },
  {
   "cell_type": "code",
   "execution_count": 146,
   "metadata": {},
   "outputs": [],
   "source": [
    " #What if we include that extra space ahead of a character's name?\n",
    "test2 = re.findall(r\" {25}(\\b['A-Z ]+[0-9]?)+\", antz_script2)"
   ]
  },
  {
   "cell_type": "code",
   "execution_count": 147,
   "metadata": {},
   "outputs": [
    {
     "data": {
      "text/plain": [
       "659"
      ]
     },
     "execution_count": 147,
     "metadata": {},
     "output_type": "execute_result"
    }
   ],
   "source": [
    "len(test2)"
   ]
  },
  {
   "cell_type": "code",
   "execution_count": 149,
   "metadata": {},
   "outputs": [
    {
     "data": {
      "text/plain": [
       "['Z ', 'Z ', 'Z', 'MOTIVATIONAL COUNSELLOR', 'Z', 'MOTIVATIONAL COUNSELLOR', 'MOTIVATIONAL COUNSELLOR', 'MOTIVATIONAL COUNSELLOR', 'Z', 'MOTIVATIONAL COUNSELLOR', 'MOTIVATIONAL COUNSELLOR', 'Z', 'MOTIVATIONAL COUNSELLOR', 'MOTIVATIONAL COUNSELLOR', 'Z', 'MOTIVATIONAL COUNSELLOR', 'MOTIVATIONAL COUNSELLOR', 'AZTECA', 'Z', 'AZTECA']"
      ]
     },
     "execution_count": 149,
     "metadata": {},
     "output_type": "execute_result"
    }
   ],
   "source": [
    "test2[:20]"
   ]
  },
  {
   "cell_type": "code",
   "execution_count": 148,
   "metadata": {},
   "outputs": [
    {
     "data": {
      "text/plain": [
       "{'WORKER ANTS', 'WORKER ', 'WORKERS', 'BEETLE', 'QUEEN', 'GUARD ANT', 'FADE TO', 'Z', 'MOTIVATIONAL COUNSELLOR', 'BALA ', 'BALA', 'TRACKER ANT', 'COMMANDO ', 'ANT SOLDIERS', 'FORMICA ', 'MAJOR MANDIBLE', 'COMMANDO ANT', 'FOREMAN', 'PRINCESS', 'CUT TO', 'SOLDIER ANTS', 'BARKER', 'MANDIBLE', 'WEAVER', 'FEMALE WASP ', 'LOUD VOICE', 'WORKER', 'SOLDIERS', 'COLONEL', 'OFFICER', 'AZTECA', 'WASP', 'BARBATUS', 'WORKER ANT ', 'MALE WASP', 'SOLDIER ANT', 'EXCITED ANTS', 'Z ', 'FEMALE WASP', 'HANDMAIDEN ', 'COMMANDO ANT ', 'CRICKET', 'ALL', 'LADYBUG', 'BUTTERFLY', 'APHIDS', 'CARPENTER', 'THE WASPS', 'BARTENDER', 'MALE WASP ', 'TOUGH VOICE ', 'FORMICA', 'FLY', 'ANT OFFICER', 'DRUNK SCOUT', 'SOLDIER ', 'SOLDIER', 'BARBATUS ', 'GENERAL FORMICA'}"
      ]
     },
     "execution_count": 148,
     "metadata": {},
     "output_type": "execute_result"
    }
   ],
   "source": [
    "set(test2) \n",
    "#wrong hits: FADE TO, CUT TO"
   ]
  },
  {
   "cell_type": "code",
   "execution_count": 50,
   "metadata": {},
   "outputs": [
    {
     "data": {
      "text/plain": [
       "15"
      ]
     },
     "execution_count": 50,
     "metadata": {},
     "output_type": "execute_result"
    }
   ],
   "source": [
    "test3 = re.findall(r\" {46}([\\s\\S]{,100})\", antz_script2)\n",
    "len(test3)"
   ]
  },
  {
   "cell_type": "code",
   "execution_count": 51,
   "metadata": {},
   "outputs": [
    {
     "data": {
      "text/plain": [
       "[\"CUT TO:\\n\\n     INT. DORMITORY - THE NEXT DAY\\n\\n     Z is talking to Weaver, who's getting ready to go \", 'CUT TO:\\n\\n     INT. EARLY MEGA-TUNNEL - DAY\\n\\n     Weaver is \"passing\" as a worker, working alongside ', 'CUT TO:\\n\\n     INT. TOWN CENTER - DAY\\n\\n     A huge crowd is forming, eager to welcome the army back. ', 'CUT TO:\\n\\n     INT. THRONE ROOM - DAY\\n\\n     Z follows Formica and Carpenter into the throne room.  At', 'CUT TO:\\n\\n     EXT. WEED CLUMP - DAY\\n\\n     Z and Bala dust themselves off.\\n\\n                         ', 'CUT TO:\\n\\n     EXT. INSECTOPIA - NIGHT\\n\\n     The insects are having a \\n\\ncookout\\n\\n, their faces illumi', 'CUT TO:\\n\\n     INT. INSECTOPIA - NIGHT\\n\\n     Z, the termite, the beetle and the fly are happily carry', 'CUT TO:\\n\\n     EXT. SKY ABOVE COLONY - MORNING\\n\\n     The wasp and Z fly high above the colony...\\n\\n   ', 'CUT TO:\\n\\n     INT. ANT MOUND - DAY\\n\\n     Elsewhere in the colony, a column of soldiers marches by, a', 'CUT TO:\\n\\n     EXT. ANT MOUND - DAY\\n\\n     Outside of the colony, where Formica, surrounded by the arm', 'CUT TO:\\n\\n     INT. TOWN CENTER - DAY\\n\\n     The huge main chamber of the colony, where most of the\\n\\n ', 'FADE TO:\\n\\n     CLOSE UP OF Z\\n\\n     As he addresses the audience, stand-up style.\\n\\n                  ', 'CUT TO:\\n\\n     INT. TOWN CENTER - DAY\\n\\n     A HUGE ASSEMBLY OF ANTS applauds as Z who is given a meda', \"CUT TO:\\n\\n     GENERAL FORMICA'S FACE, looking extremely dispeptic.\\n\\n                         Z (V.O.\", \"CUT TO:\\n\\n     WEAVER, in Formica's old office, in a general's uniform, his\\n\\n     feet up on Formica'\"]"
      ]
     },
     "execution_count": 51,
     "metadata": {},
     "output_type": "execute_result"
    }
   ],
   "source": [
    "test3"
   ]
  },
  {
   "cell_type": "code",
   "execution_count": 45,
   "metadata": {},
   "outputs": [
    {
     "data": {
      "text/plain": [
       "'CUT TO:\\n\\n     I'"
      ]
     },
     "execution_count": 45,
     "metadata": {},
     "output_type": "execute_result"
    }
   ],
   "source": [
    "#all the things w/ 46 spaces in front of them are CUT TO:'s and FADE TO:'s\n",
    "test3[0][:15]"
   ]
  },
  {
   "cell_type": "code",
   "execution_count": 150,
   "metadata": {},
   "outputs": [],
   "source": [
    "antz_scr = re.sub(r\"\\n\\n {25}(\\b['A-Z ]+[0-9]?)+\", r'_NEWLINE_\\1_', antz_script2)"
   ]
  },
  {
   "cell_type": "code",
   "execution_count": 151,
   "metadata": {},
   "outputs": [
    {
     "data": {
      "text/plain": [
       "'_NEWLINE_Z _(O.S.)\\n\\n                      (over a dark screen)\\n\\n               All my life, I\\'ve lived and worked in\\n\\n               the big city...\\n\\n     We see:\\n\\n     EXT. AN ANT MOUND - DAY\\n\\n     The camera swoops towards the entrance, then dives inside,\\n\\n     past a couple of tough-looking soldier ants who stand at the\\n\\n     gates of the ant colony like insect bouncers...into an access\\n\\n     tunnel that snakes this way and that, past a row of ants\\n\\n     plodding along...\\n\\n     ...and into the MAIN CHAMBER of the colony, a huge, teeming\\n\\n     vista that seems to stretch away forever, filled with ants\\n\\n     rushing here and there on their business.  We see -- a\\n\\n     \"traffic cop\" directing foot traffic, waving his arms like\\n\\n     crazy so both sides move at once -- a column of \\n\\nsoldier ants\\n\\n     marching along in formation -- a chain of ants letting down\\n\\n     a \\n\\nmatchbox\\n\\n elevator filled with workers._NEWLINE_Z _(V.O.)\\n\\n               ...which is kind of a problem, since\\n\\n               I\\'ve always felt uncomfortably in\\n\\n               crowds.\\n\\n     INT. MOTIVATIONAL COUNSELLOR\\'S OFFICE - DAY\\n\\n     We join Z, a worker ant with issues.  He\\'s lying on a couch,\\n\\n     recounting his woes._NEWLINE_Z_\\n\\n               I feel...isolated.  Different.  I\\'ve\\n\\n               got abandonment issues.  My father\\n\\n               flew away when I was just a larva.\\n\\n               My mother didn\\'t have much time for\\n\\n               me...when you have five million\\n\\n               siblings, it\\'s difficult to get\\n\\n               attention.\\n\\n                      (pause)\\n\\n               I feel physically inadequate -- I\\'ve\\n\\n               never been able to lift more than ten\\n\\n               times my own weight.  Sometimes I\\n\\n               think I\\'m just not cut out to be a\\n\\n               worker.  But I don\\'t have any other\\n\\n               options.  I was assigned to trade\\n\\n               school when I was just a \\n\\ngrub\\n\\n.  The\\n\\n               whole system just...makes me\\n\\n               feel...\\n\\ninsignificant\\n\\n._NEWLINE_MOTIVATIONAL COUNSELLOR_\\n\\n                      (enthusiastic)\\n\\n               Terrific!  You \\n\\nshould\\n\\n feel\\n\\n               insignificant!\\n\\n     For the first time, we see the ant MOTIVATIONAL COUNSELLOR.\\n\\n     He\\'s a mixture of Tony Robbins and Ron Popiel (the\\n\\n     hyperactive late-night TV huckster, and founder of \"Ronco\")._NEWLINE_Z_\\n\\n               ...I should?_NEWLINE_MOTIVATIONAL COUNSELLOR_\\n\\n                      (hopping around\\n\\n                       enthusiastically)\\n\\n               YES!!!  You know, people ask me,\\n\\n               \"Doctor, why are you always happy?\"\\n\\n               And I tell them it\\'s mind over\\n\\n               matter.  I don\\'t \\n\\nmind\\n\\n that I don\\'t\\n\\nmatter\\n\\n!  Do you get it?  Do you get\\n\\n               it?\\n\\n     Z gives a fake smile._NEWLINE_MOTIVATIONAL COUNSELLOR_\\n\\n                      (incredibly \"up\")\\n\\n               Z, we\\'re part of the \\n\\nfastest growing\\n\\nspecies in the whole world\\n\\n!\\n\\n     The counsellor rolls down a chart from the wall.  An arrow\\n\\n     shows ant population going up, up, up._NEWLINE_MOTIVATIONAL COUNSELLOR_\\n\\n               Ask me why we\\'re so successful._NEWLINE_Z_\\n\\n               Why are we so successful?_NEWLINE_MOTIVATIONAL COUNSELLOR_\\n\\n               I\\'m glad you asked me that question!\\n\\n     The motivational counsellor opens some blinds...and we see a\\n\\n     vista of the ant-filled chamber below._NEWLINE_MOTIVATIONAL COUNSELLOR_\\n\\n               What do you see out there?_NEWLINE_Z_\\n\\n               ...Ants..._NEWLINE_MOTIVATIONAL COUNSELLOR_\\n\\n               Right!  Ants!  Millions of creatures,\\n\\n               each with his assigned task, all\\n\\n               pulling together!\\n\\n     Down below, we see a group of ants carrying a boulder up an\\n\\n     incline.  One worker ants slips, and the boulder rolls down,\\n\\n     crushing his leg.  The other ants rush over -- it looks like\\n\\n     they\\'re going to help their fallen comrade, but instead, they\\n\\n     climb right over him, and pick up the boulder, continuing\\n\\n     with their task._NEWLINE_MOTIVATIONAL COUNSELLOR_\\n\\n               You see?  Being an ant is being able\\n\\n               to say, \"Hey -- \\n\\nI\\'m\\n\\n meaningless,\\n\\nyou\\'re\\n\\n meaningless.\"_NEWLINE_Z_\\n\\n               But -- but I\\'ve always felt life was\\n\\n               about finding meaning...and then\\n\\n               sharing it with someone special,\\n\\n               someone you love.\\n\\n     The motivational counsellor puts his arm on Z\\'s shoulder...he\\n\\n     seems to understand..._NEWLINE_MOTIVATIONAL COUNSELLOR_\\n\\n               Z...you need help.\\n\\n                      (looking at a clock)\\n\\n               Whoops!  We\\'re gonna have to stop\\n\\n               there.  Your minute is up!\\n\\n     The counsellor ushers Z out of his seat and towards the door._NEWLINE_MOTIVATIONAL COUNSELLOR_\\n\\n               Now back to work!  We\\'ve made \\n\\nreal\\n\\nprogress\\n\\n!  Remember -- let\\'s be\\n\\n               best superorganism we can be!\\n\\n     INT. EARLY MEGA-TUNNEL - DAY\\n\\n     A '"
      ]
     },
     "execution_count": 151,
     "metadata": {},
     "output_type": "execute_result"
    }
   ],
   "source": [
    "antz_scr[:5000]"
   ]
  },
  {
   "cell_type": "code",
   "execution_count": 152,
   "metadata": {},
   "outputs": [
    {
     "name": "stdout",
     "output_type": "stream",
     "text": [
      "2732\n"
     ]
    }
   ],
   "source": [
    "#reanalyze the spacing:\n",
    "white_space2 = re.findall(\" {3,}\", antz_scr)\n",
    "print(len(white_space2)) #2939 checks out, since we found 659 spaces of 25 or more, and 15 spaces of 46."
   ]
  },
  {
   "cell_type": "code",
   "execution_count": null,
   "metadata": {},
   "outputs": [],
   "source": [
    "#making sure I only found lines\n"
   ]
  },
  {
   "cell_type": "code",
   "execution_count": 155,
   "metadata": {},
   "outputs": [
    {
     "name": "stdout",
     "output_type": "stream",
     "text": [
      "[22, 15, 15, 5, 5, 5, 5, 5, 5, 5, 5, 5, 5, 5, 5, 5, 5, 15, 15, 15, 5, 5, 5, 15, 15, 15, 15, 15, 15, 15, 22, 15, 15, 15, 15, 15, 15, 15, 15, 15, 22, 15, 15, 5, 5, 5, 15, 22, 23, 15]\n",
      "{3, 5, 46, 15, 22, 23}\n"
     ]
    }
   ],
   "source": [
    "len_w_s = [len(x) for x in white_space2]\n",
    "print(len_w_s[:50])\n",
    "print(set(len_w_s))"
   ]
  },
  {
   "cell_type": "code",
   "execution_count": 156,
   "metadata": {},
   "outputs": [],
   "source": [
    "antz_lines = antz_scr.split('_NEWLINE_')"
   ]
  },
  {
   "cell_type": "code",
   "execution_count": 157,
   "metadata": {},
   "outputs": [
    {
     "data": {
      "text/plain": [
       "645"
      ]
     },
     "execution_count": 157,
     "metadata": {},
     "output_type": "execute_result"
    }
   ],
   "source": [
    "len(antz_lines) #659-15 (once the blank entry at the beginning is removed)"
   ]
  },
  {
   "cell_type": "code",
   "execution_count": 158,
   "metadata": {},
   "outputs": [
    {
     "data": {
      "text/plain": [
       "['Z _(O.S.)\\n\\n                      (over a dark screen)\\n\\n               All my life, I\\'ve lived and worked in\\n\\n               the big city...\\n\\n     We see:\\n\\n     EXT. AN ANT MOUND - DAY\\n\\n     The camera swoops towards the entrance, then dives inside,\\n\\n     past a couple of tough-looking soldier ants who stand at the\\n\\n     gates of the ant colony like insect bouncers...into an access\\n\\n     tunnel that snakes this way and that, past a row of ants\\n\\n     plodding along...\\n\\n     ...and into the MAIN CHAMBER of the colony, a huge, teeming\\n\\n     vista that seems to stretch away forever, filled with ants\\n\\n     rushing here and there on their business.  We see -- a\\n\\n     \"traffic cop\" directing foot traffic, waving his arms like\\n\\n     crazy so both sides move at once -- a column of \\n\\nsoldier ants\\n\\n     marching along in formation -- a chain of ants letting down\\n\\n     a \\n\\nmatchbox\\n\\n elevator filled with workers.', \"Z _(V.O.)\\n\\n               ...which is kind of a problem, since\\n\\n               I've always felt uncomfortably in\\n\\n               crowds.\\n\\n     INT. MOTIVATIONAL COUNSELLOR'S OFFICE - DAY\\n\\n     We join Z, a worker ant with issues.  He's lying on a couch,\\n\\n     recounting his woes.\"]"
      ]
     },
     "execution_count": 158,
     "metadata": {},
     "output_type": "execute_result"
    }
   ],
   "source": [
    "antz_lines = antz_lines[1:]\n",
    "antz_lines[0:2]"
   ]
  },
  {
   "cell_type": "code",
   "execution_count": 102,
   "metadata": {},
   "outputs": [
    {
     "data": {
      "text/plain": [
       "['Z _(O.S.)\\n\\n                      (over a dark screen)\\n\\n               All my life, I\\'ve lived and worked in\\n\\n               the big city...\\n\\n     We see:\\n\\n     EXT. AN ANT MOUND - DAY\\n\\n     The camera swoops towards the entrance, then dives inside,\\n\\n     past a couple of tough-looking soldier ants who stand at the\\n\\n     gates of the ant colony like insect bouncers...into an access\\n\\n     tunnel that snakes this way and that, past a row of ants\\n\\n     plodding along...\\n\\n     ...and into the MAIN CHAMBER of the colony, a huge, teeming\\n\\n     vista that seems to stretch away forever, filled with ants\\n\\n     rushing here and there on their business.  We see -- a\\n\\n     \"traffic cop\" directing foot traffic, waving his arms like\\n\\n     crazy so both sides move at once -- a column of \\n\\nsoldier ants\\n\\n     marching along in formation -- a chain of ants letting down\\n\\n     a \\n\\nmatchbox\\n\\n elevator filled with workers.', \"Z _(V.O.)\\n\\n               ...which is kind of a problem, since\\n\\n               I've always felt uncomfortably in\\n\\n               crowds.\\n\\n     INT. MOTIVATIONAL COUNSELLOR'S OFFICE - DAY\\n\\n     We join Z, a worker ant with issues.  He's lying on a couch,\\n\\n     recounting his woes.\\n\\n                         Z\\n\\n               I feel...isolated.  Different.  I've\\n\\n               got abandonment issues.  My father\\n\\n               flew away when I was just a larva.\\n\\n               My mother didn't have much time for\\n\\n               me...when you have five million\\n\\n               siblings, it's difficult to get\\n\\n               attention.\\n\\n                      (pause)\\n\\n               I feel physically inadequate -- I've\\n\\n               never been able to lift more than ten\\n\\n               times my own weight.  Sometimes I\\n\\n               think I'm just not cut out to be a\\n\\n               worker.  But I don't have any other\\n\\n               options.  I was assigned to trade\\n\\n               school when I was just a \\n\\ngrub\\n\\n.  The\\n\\n               whole system just...makes me\\n\\n               feel...\\n\\ninsignificant\\n\\n.\", 'MOTIVATIONAL COUNSELLOR_\\n\\n                      (enthusiastic)\\n\\n               Terrific!  You \\n\\nshould\\n\\n feel\\n\\n               insignificant!\\n\\n     For the first time, we see the ant MOTIVATIONAL COUNSELLOR.\\n\\n     He\\'s a mixture of Tony Robbins and Ron Popiel (the\\n\\n     hyperactive late-night TV huckster, and founder of \"Ronco\").\\n\\n                         Z\\n\\n               ...I should?']"
      ]
     },
     "execution_count": 102,
     "metadata": {},
     "output_type": "execute_result"
    }
   ],
   "source": [
    "antz_lines[0:3]"
   ]
  },
  {
   "cell_type": "code",
   "execution_count": 159,
   "metadata": {},
   "outputs": [],
   "source": [
    "headers = re.findall(r\"\\n\\n {5}\\S+\", antz_lines[0])"
   ]
  },
  {
   "cell_type": "code",
   "execution_count": 160,
   "metadata": {},
   "outputs": [
    {
     "data": {
      "text/plain": [
       "['\\n\\n     We', '\\n\\n     EXT.', '\\n\\n     The', '\\n\\n     past', '\\n\\n     gates', '\\n\\n     tunnel', '\\n\\n     plodding', '\\n\\n     ...and', '\\n\\n     vista', '\\n\\n     rushing', '\\n\\n     \"traffic', '\\n\\n     crazy', '\\n\\n     marching', '\\n\\n     a']"
      ]
     },
     "execution_count": 160,
     "metadata": {},
     "output_type": "execute_result"
    }
   ],
   "source": [
    "headers"
   ]
  },
  {
   "cell_type": "code",
   "execution_count": 105,
   "metadata": {},
   "outputs": [],
   "source": [
    "##antz_lines[0] = re.sub(r\"\\n\\n {5}\\S+\",r\"_HEADER_\", antz_lines[0])"
   ]
  },
  {
   "cell_type": "code",
   "execution_count": 106,
   "metadata": {},
   "outputs": [
    {
     "data": {
      "text/plain": [
       "'Z _(O.S.)\\n\\n                      (over a dark screen)\\n\\n               All my life, I\\'ve lived and worked in\\n\\n               the big city..._HEADER_ see:_HEADER_ AN ANT MOUND - DAY_HEADER_ camera swoops towards the entrance, then dives inside,_HEADER_ a couple of tough-looking soldier ants who stand at the_HEADER_ of the ant colony like insect bouncers...into an access_HEADER_ that snakes this way and that, past a row of ants_HEADER_ along..._HEADER_ into the MAIN CHAMBER of the colony, a huge, teeming_HEADER_ that seems to stretch away forever, filled with ants_HEADER_ here and there on their business.  We see -- a_HEADER_ cop\" directing foot traffic, waving his arms like_HEADER_ so both sides move at once -- a column of \\n\\nsoldier ants_HEADER_ along in formation -- a chain of ants letting down_HEADER_ \\n\\nmatchbox\\n\\n elevator filled with workers.'"
      ]
     },
     "execution_count": 106,
     "metadata": {},
     "output_type": "execute_result"
    }
   ],
   "source": [
    "##antz_lines[0]"
   ]
  },
  {
   "cell_type": "code",
   "execution_count": 161,
   "metadata": {},
   "outputs": [],
   "source": [
    "antz_lines_2 = []\n",
    "for line in antz_lines:\n",
    "    line = re.sub(r\"\\n\\n {5}\\S+\", r\"_HEADER_\", line)\n",
    "    real_line = line.split(\"_HEADER_\")[0]\n",
    "    antz_lines_2.append(real_line)"
   ]
  },
  {
   "cell_type": "code",
   "execution_count": 162,
   "metadata": {},
   "outputs": [
    {
     "data": {
      "text/plain": [
       "644"
      ]
     },
     "execution_count": 162,
     "metadata": {},
     "output_type": "execute_result"
    }
   ],
   "source": [
    "len(antz_lines_2) #should still be 644"
   ]
  },
  {
   "cell_type": "code",
   "execution_count": 163,
   "metadata": {},
   "outputs": [
    {
     "data": {
      "text/plain": [
       "[\"Z _(O.S.)\\n\\n                      (over a dark screen)\\n\\n               All my life, I've lived and worked in\\n\\n               the big city...\", \"Z _(V.O.)\\n\\n               ...which is kind of a problem, since\\n\\n               I've always felt uncomfortably in\\n\\n               crowds.\", \"Z_\\n\\n               I feel...isolated.  Different.  I've\\n\\n               got abandonment issues.  My father\\n\\n               flew away when I was just a larva.\\n\\n               My mother didn't have much time for\\n\\n               me...when you have five million\\n\\n               siblings, it's difficult to get\\n\\n               attention.\\n\\n                      (pause)\\n\\n               I feel physically inadequate -- I've\\n\\n               never been able to lift more than ten\\n\\n               times my own weight.  Sometimes I\\n\\n               think I'm just not cut out to be a\\n\\n               worker.  But I don't have any other\\n\\n               options.  I was assigned to trade\\n\\n               school when I was just a \\n\\ngrub\\n\\n.  The\\n\\n               whole system just...makes me\\n\\n               feel...\\n\\ninsignificant\\n\\n.\", 'MOTIVATIONAL COUNSELLOR_\\n\\n                      (enthusiastic)\\n\\n               Terrific!  You \\n\\nshould\\n\\n feel\\n\\n               insignificant!', 'Z_\\n\\n               ...I should?', 'MOTIVATIONAL COUNSELLOR_\\n\\n                      (hopping around\\n\\n                       enthusiastically)\\n\\n               YES!!!  You know, people ask me,\\n\\n               \"Doctor, why are you always happy?\"\\n\\n               And I tell them it\\'s mind over\\n\\n               matter.  I don\\'t \\n\\nmind\\n\\n that I don\\'t\\n\\nmatter\\n\\n!  Do you get it?  Do you get\\n\\n               it?', 'MOTIVATIONAL COUNSELLOR_\\n\\n                      (incredibly \"up\")\\n\\n               Z, we\\'re part of the \\n\\nfastest growing\\n\\nspecies in the whole world\\n\\n!', \"MOTIVATIONAL COUNSELLOR_\\n\\n               Ask me why we're so successful.\", 'Z_\\n\\n               Why are we so successful?', \"MOTIVATIONAL COUNSELLOR_\\n\\n               I'm glad you asked me that question!\", 'MOTIVATIONAL COUNSELLOR_\\n\\n               What do you see out there?', 'Z_\\n\\n               ...Ants...', 'MOTIVATIONAL COUNSELLOR_\\n\\n               Right!  Ants!  Millions of creatures,\\n\\n               each with his assigned task, all\\n\\n               pulling together!', 'MOTIVATIONAL COUNSELLOR_\\n\\n               You see?  Being an ant is being able\\n\\n               to say, \"Hey -- \\n\\nI\\'m\\n\\n meaningless,\\n\\nyou\\'re\\n\\n meaningless.\"', \"Z_\\n\\n               But -- but I've always felt life was\\n\\n               about finding meaning...and then\\n\\n               sharing it with someone special,\\n\\n               someone you love.\", \"MOTIVATIONAL COUNSELLOR_\\n\\n               Z...you need help.\\n\\n                      (looking at a clock)\\n\\n               Whoops!  We're gonna have to stop\\n\\n               there.  Your minute is up!\", \"MOTIVATIONAL COUNSELLOR_\\n\\n               Now back to work!  We've made \\n\\nreal\\n\\nprogress\\n\\n!  Remember -- let's be\\n\\n               best superorganism we can be!\", \"AZTECA_\\n\\n               Hello?!  Earth to Z!  You better snap\\n\\n               out of it, or there's gonna be a lot\\n\\n               of pissed off ants!\", \"Z_\\n\\n                      (snapping out of it)\\n\\n               Sorry Azteca.  Here you go, fellas!\\n\\n               Fresh dirt!  Alley oop!\\n\\n                      (looking at the dirt)\\n\\n               Shouldn't we be wearing gloves?  I\\n\\n               mean this dirt is very...dirty.\\n\\n               Doesn't anyone think of hygiene?\\n\\n                      (Z's stomach growls)\\n\\n               Boy am I hungry.  I'm so hungry I'm\\n\\n               seeing double.  It looks like there's\\n\\ntwo\\n\\n million ants in here.  When's\\n\\n               lunch?  Tomorrow, or the day after?\", \"AZTECA_\\n\\n                      (sweetly)\\n\\n               Z, old pal...\\n\\n                      (shouts)\\n\\n               SHUT UP!!!  It's bad enough there's\\n\\n               a food shortage without you\\n\\n               complaining about it every day.\", 'Z_\\n\\n               The squeaky wheel gets the oil.', \"AZTECA_\\n\\n               No, Z.  The squeaky wheel gets \\n\\nthrown\\n\\naway\\n\\n, alright?  You're a good ant, Z,\\n\\n               even though you are a pain in my rear-\\n\\n               segment.  I don't wanna see\\n\\n               anything happen to you.  So quit\\n\\n               mouthing off, before you get in\\n\\n               trouble.\", 'Z_\\n\\n               Thank goodness.  Breaktime.', \"AZTECA_\\n\\n                      (resigned)\\n\\n               Break's over.\", 'Z_\\n\\n                      (getting back to work)\\n\\n               This colony needs another tunnel like\\n\\n               a hole in the ground.  Why are we\\n\\n               even digging this thing?', \"AZTECA_\\n\\n               Who cares, Z.  All I know is, we\\n\\n               gotta dig.  We're not the ones in\\n\\n               charge.\", 'GENERAL FORMICA_\\n\\n               STAIRS!', \"GENERAL FORMICA_\\n\\n               Cut the chit-chat down there!\\n\\n                      (turning to Carpenter)\\n\\n               We've spoiled these workers,\\n\\n               Carpenter.  They've never had it so\\n\\n               good, and listen to them -- always\\n\\n               grumbling and complaining...\", 'CARPENTER_\\n\\n               ...Yes, sir.', 'GENERAL FORMICA_\\n\\n               What have they got to complain about?\\n\\n               Three square meals a day...', \"CARPENTER_\\n\\n               Actually, sir, we've cut them down to\\n\\n               three roughly rectangular meals a\\n\\n               week.\", \"FORMICA_\\n\\n               Don't give me statistics, Carpenter.\\n\\n               I know what I'm talking about.  DOORS!\", 'FORMICA_\\n\\n                      (to guard ant, while\\n\\n                       passing)\\n\\n               Oil that, soldier.', 'QUEEN_\\n\\n               Ah!  General Formica.', \"QUEEN_\\n\\n               General, the severe food shortage\\n\\n               that faces the colony...\\n\\npains\\n\\n me.\\n\\n               The thought of any of my children\\n\\n               going hungry...\\n\\n                      (she shudders; then,\\n\\n                       to baby)\\n\\n               Who's the cutest widdle worker?  You\\n\\n               are!  Yes, you!  Don't forget to\\n\\n               brush your teeth!\\n\\n                      (to mid-wife)\\n\\n               Ship 'er out.\\n\\n                      (back to Formica)\\n\\n               What steps are you taking to remedy\\n\\n               the situation?\", 'FORMICA_\\n\\n               We are launching a major offensive to\\n\\n               expand our foraging territory...', 'QUEEN_\\n\\n               Yes, what else?', \"FORMICA_\\n\\n               Please don't worry, your majesty.\\n\\n               Leave the worrying to me.  As you\\n\\n               know, I'm not an ant of half-\\n\\n               measures.  I don't pussyfoot around.\\n\\n               This crisis is my number one\\n\\n               priority, and I promise you it's\\n\\n               being dealt with swiftly, and\\n\\n               decisively.\", 'QUEEN_\\n\\n                      (to baby)\\n\\n               No snacking between meals!  Off you\\n\\n               go!\\n\\n                      (to Formica)\\n\\n               Now -- what were we saying?', 'FORMICA_\\n\\n                      (Oliver North-style)\\n\\n               I do not recollect, your majesty.\\n\\n               Will that be all?', \"QUEEN_\\n\\n               Yes, General Formica.  Carry on, my\\n\\n               good man!  I don't know what we would\\n\\n               do without you.\", 'BALA _(O.S.)\\n\\n               General Formica!', 'CARPENTER_\\n\\n                      (sotto)\\n\\n               Princess Bala, sir.  Your fiancee.', 'FORMICA_\\n\\n               Princess!  You look -- outstanding.\\n\\n               Is there anything I can do for you?', \"BALA_\\n\\n               Well -- I thought -- since we're\\n\\n               getting married...it might be nice if\\n\\n               we...got to know one another.\", 'QUEEN_\\n\\n               Bala has always been a hopeless\\n\\n               romantic, General.', \"BALA_\\n\\n               It's just that -- well, I'm honored\\n\\n               that you selected me, and everything,\\n\\n               I just thought the marriage might go\\n\\n               a little more smoothly if -- we had\\n\\n               a conversation?\", \"FORMICA_\\n\\n                      (uncomfortable)\\n\\n               Conversation...yes...well...\\n\\n                      (to Carpenter)\\n\\n               Wasn't she briefed?\", \"QUEEN_\\n\\n                      (holding up a baby)\\n\\n               Look, General!  A darling baby\\n\\n               soldier!\\n\\n                      (emotionally, to baby)\\n\\n               Don't try to be a hero!  Just make\\n\\n               sure you come back in one piece!\\n\\n                      (handing it off)\\n\\n               Next!\", \"FORMICA_\\n\\n                      (using the\\n\\n                       interruption)\\n\\n               I'll take your suggestion under\\n\\n               advisement, Princess.  In the\\n\\n               meanwhile --\"]"
      ]
     },
     "execution_count": 163,
     "metadata": {},
     "output_type": "execute_result"
    }
   ],
   "source": [
    "antz_lines_2[:50]"
   ]
  },
  {
   "cell_type": "code",
   "execution_count": null,
   "metadata": {},
   "outputs": [],
   "source": []
  },
  {
   "cell_type": "code",
   "execution_count": 168,
   "metadata": {},
   "outputs": [],
   "source": [
    "#now, let's remove all the new line characters and parentheticals\n",
    "antz_lines_final = []\n",
    "for line in antz_lines_2:\n",
    "    line = re.sub(\"\\n\", ' ', line)\n",
    "    line = re.sub(\" {3,}\", ' ', line)\n",
    "    line = re.sub(r\"\\([^\\)]*\\)\", '', line)\n",
    "    antz_lines_final.append(line)"
   ]
  },
  {
   "cell_type": "code",
   "execution_count": 190,
   "metadata": {},
   "outputs": [
    {
     "data": {
      "text/plain": [
       "[\"Z _  All my life, I've lived and worked in the big city...\", \"Z _ ...which is kind of a problem, since I've always felt uncomfortably in crowds.\", \"Z_ I feel...isolated.  Different.  I've got abandonment issues.  My father flew away when I was just a larva. My mother didn't have much time for me...when you have five million siblings, it's difficult to get attention.  I feel physically inadequate -- I've never been able to lift more than ten times my own weight.  Sometimes I think I'm just not cut out to be a worker.  But I don't have any other options.  I was assigned to trade school when I was just a grub  .  The whole system just...makes me feel...  insignificant  .\", 'MOTIVATIONAL COUNSELLOR_  Terrific!  You should feel insignificant!', 'Z_ ...I should?', 'MOTIVATIONAL COUNSELLOR_  YES!!!  You know, people ask me, \"Doctor, why are you always happy?\" And I tell them it\\'s mind over matter.  I don\\'t mind that I don\\'t  matter  !  Do you get it?  Do you get it?', \"MOTIVATIONAL COUNSELLOR_  Z, we're part of the fastest growing  species in the whole world  !\", \"MOTIVATIONAL COUNSELLOR_ Ask me why we're so successful.\", 'Z_ Why are we so successful?', \"MOTIVATIONAL COUNSELLOR_ I'm glad you asked me that question!\", 'MOTIVATIONAL COUNSELLOR_ What do you see out there?', 'Z_ ...Ants...', 'MOTIVATIONAL COUNSELLOR_ Right!  Ants!  Millions of creatures, each with his assigned task, all pulling together!', 'MOTIVATIONAL COUNSELLOR_ You see?  Being an ant is being able to say, \"Hey -- I\\'m meaningless,  you\\'re meaningless.\"', \"Z_ But -- but I've always felt life was about finding meaning...and then sharing it with someone special, someone you love.\", \"MOTIVATIONAL COUNSELLOR_ Z...you need help.  Whoops!  We're gonna have to stop there.  Your minute is up!\", \"MOTIVATIONAL COUNSELLOR_ Now back to work!  We've made real  progress  !  Remember -- let's be best superorganism we can be!\", \"AZTECA_ Hello?!  Earth to Z!  You better snap out of it, or there's gonna be a lot of pissed off ants!\", \"Z_  Sorry Azteca.  Here you go, fellas! Fresh dirt!  Alley oop!  Shouldn't we be wearing gloves?  I mean this dirt is very...dirty. Doesn't anyone think of hygiene?  Boy am I hungry.  I'm so hungry I'm seeing double.  It looks like there's  two million ants in here.  When's lunch?  Tomorrow, or the day after?\", \"AZTECA_  Z, old pal...  SHUT UP!!!  It's bad enough there's a food shortage without you complaining about it every day.\", 'Z_ The squeaky wheel gets the oil.', \"AZTECA_ No, Z.  The squeaky wheel gets thrown  away  , alright?  You're a good ant, Z, even though you are a pain in my rear- segment.  I don't wanna see anything happen to you.  So quit mouthing off, before you get in trouble.\", 'Z_ Thank goodness.  Breaktime.', \"AZTECA_  Break's over.\", 'Z_  This colony needs another tunnel like a hole in the ground.  Why are we even digging this thing?', \"AZTECA_ Who cares, Z.  All I know is, we gotta dig.  We're not the ones in charge.\", 'GENERAL FORMICA_ STAIRS!', \"GENERAL FORMICA_ Cut the chit-chat down there!  We've spoiled these workers, Carpenter.  They've never had it so good, and listen to them -- always grumbling and complaining...\", 'CARPENTER_ ...Yes, sir.', 'GENERAL FORMICA_ What have they got to complain about? Three square meals a day...', \"CARPENTER_ Actually, sir, we've cut them down to three roughly rectangular meals a week.\", \"FORMICA_ Don't give me statistics, Carpenter. I know what I'm talking about.  DOORS!\", 'FORMICA_  Oil that, soldier.', 'QUEEN_ Ah!  General Formica.', \"QUEEN_ General, the severe food shortage that faces the colony...  pains me. The thought of any of my children going hungry...  Who's the cutest widdle worker?  You are!  Yes, you!  Don't forget to brush your teeth!  Ship 'er out.  What steps are you taking to remedy the situation?\", 'FORMICA_ We are launching a major offensive to expand our foraging territory...', 'QUEEN_ Yes, what else?', \"FORMICA_ Please don't worry, your majesty. Leave the worrying to me.  As you know, I'm not an ant of half- measures.  I don't pussyfoot around. This crisis is my number one priority, and I promise you it's being dealt with swiftly, and decisively.\", 'QUEEN_  No snacking between meals!  Off you go!  Now -- what were we saying?', 'FORMICA_  I do not recollect, your majesty. Will that be all?', \"QUEEN_ Yes, General Formica.  Carry on, my good man!  I don't know what we would do without you.\", 'BALA _ General Formica!', 'CARPENTER_  Princess Bala, sir.  Your fiancee.', 'FORMICA_ Princess!  You look -- outstanding. Is there anything I can do for you?', \"BALA_ Well -- I thought -- since we're getting married...it might be nice if we...got to know one another.\", 'QUEEN_ Bala has always been a hopeless romantic, General.', \"BALA_ It's just that -- well, I'm honored that you selected me, and everything, I just thought the marriage might go a little more smoothly if -- we had a conversation?\", \"FORMICA_  Conversation...yes...well...  Wasn't she briefed?\", \"QUEEN_  Look, General!  A darling baby soldier!  Don't try to be a hero!  Just make sure you come back in one piece!  Next!\", \"FORMICA_  I'll take your suggestion under advisement, Princess.  In the meanwhile --\"]"
      ]
     },
     "execution_count": 190,
     "metadata": {},
     "output_type": "execute_result"
    }
   ],
   "source": [
    "antz_lines_final[:50] #Eww, Z's lines are getting swallowed up. How?\n",
    "#Fixed!!!"
   ]
  },
  {
   "cell_type": "code",
   "execution_count": 191,
   "metadata": {},
   "outputs": [],
   "source": [
    "#now, split the lines\n",
    "line_list = []\n",
    "for x in antz_lines_final:\n",
    "    my_list = re.split(\"_ \", x)\n",
    "    my_tu = tuple(my_list)\n",
    "    line_list.append(my_tu) "
   ]
  },
  {
   "cell_type": "code",
   "execution_count": 193,
   "metadata": {},
   "outputs": [
    {
     "data": {
      "text/plain": [
       "644"
      ]
     },
     "execution_count": 193,
     "metadata": {},
     "output_type": "execute_result"
    }
   ],
   "source": [
    "len(line_list)"
   ]
  },
  {
   "cell_type": "code",
   "execution_count": 194,
   "metadata": {},
   "outputs": [],
   "source": [
    "antz_DF = pd.DataFrame(line_list, columns=[\"Speaker\", \"Text\"])"
   ]
  },
  {
   "cell_type": "code",
   "execution_count": 195,
   "metadata": {},
   "outputs": [
    {
     "data": {
      "text/html": [
       "<div>\n",
       "<style scoped>\n",
       "    .dataframe tbody tr th:only-of-type {\n",
       "        vertical-align: middle;\n",
       "    }\n",
       "\n",
       "    .dataframe tbody tr th {\n",
       "        vertical-align: top;\n",
       "    }\n",
       "\n",
       "    .dataframe thead th {\n",
       "        text-align: right;\n",
       "    }\n",
       "</style>\n",
       "<table border=\"1\" class=\"dataframe\">\n",
       "  <thead>\n",
       "    <tr style=\"text-align: right;\">\n",
       "      <th></th>\n",
       "      <th>Speaker</th>\n",
       "      <th>Text</th>\n",
       "    </tr>\n",
       "  </thead>\n",
       "  <tbody>\n",
       "    <tr>\n",
       "      <th>0</th>\n",
       "      <td>Z</td>\n",
       "      <td>All my life, I've lived and worked in the big...</td>\n",
       "    </tr>\n",
       "    <tr>\n",
       "      <th>1</th>\n",
       "      <td>Z</td>\n",
       "      <td>...which is kind of a problem, since I've alwa...</td>\n",
       "    </tr>\n",
       "    <tr>\n",
       "      <th>2</th>\n",
       "      <td>Z</td>\n",
       "      <td>I feel...isolated.  Different.  I've got aband...</td>\n",
       "    </tr>\n",
       "    <tr>\n",
       "      <th>3</th>\n",
       "      <td>MOTIVATIONAL COUNSELLOR</td>\n",
       "      <td>Terrific!  You should feel insignificant!</td>\n",
       "    </tr>\n",
       "    <tr>\n",
       "      <th>4</th>\n",
       "      <td>Z</td>\n",
       "      <td>...I should?</td>\n",
       "    </tr>\n",
       "  </tbody>\n",
       "</table>\n",
       "</div>"
      ],
      "text/plain": [
       "                   Speaker                                               Text\n",
       "0                       Z    All my life, I've lived and worked in the big...\n",
       "1                       Z   ...which is kind of a problem, since I've alwa...\n",
       "2                        Z  I feel...isolated.  Different.  I've got aband...\n",
       "3  MOTIVATIONAL COUNSELLOR          Terrific!  You should feel insignificant!\n",
       "4                        Z                                       ...I should?"
      ]
     },
     "execution_count": 195,
     "metadata": {},
     "output_type": "execute_result"
    }
   ],
   "source": [
    "antz_DF.head()"
   ]
  },
  {
   "cell_type": "code",
   "execution_count": 196,
   "metadata": {},
   "outputs": [],
   "source": [
    "#Let's export this as a pickle file\n",
    "import pickle as pkl"
   ]
  },
  {
   "cell_type": "code",
   "execution_count": 197,
   "metadata": {},
   "outputs": [],
   "source": [
    "antz_DF.to_pickle(r'C:\\Users\\cassi\\Desktop\\Data_Science\\Animated-Movie-Gendered-Dialogue\\private\\antz_lines.pkl')"
   ]
  },
  {
   "cell_type": "code",
   "execution_count": null,
   "metadata": {},
   "outputs": [],
   "source": []
  }
 ],
 "metadata": {
  "kernelspec": {
   "display_name": "Python 3",
   "language": "python",
   "name": "python3"
  },
  "language_info": {
   "codemirror_mode": {
    "name": "ipython",
    "version": 3
   },
   "file_extension": ".py",
   "mimetype": "text/x-python",
   "name": "python",
   "nbconvert_exporter": "python",
   "pygments_lexer": "ipython3",
   "version": "3.6.4"
  }
 },
 "nbformat": 4,
 "nbformat_minor": 2
}
