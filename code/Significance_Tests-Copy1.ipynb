{
 "cells": [
  {
   "cell_type": "markdown",
   "metadata": {},
   "source": [
    "# Significance Tests: Token, Type, & TTR\n",
    "After I found all those differences in Token Counts, Type Counts and TTR--do they mean anything for my data?\n",
    "\n",
    "In the code below, I first compare Genders and Roles separately, asking...\n",
    "* In general, is there a difference in male/female or pro/ant stats?\n",
    "* Across Disney eras, is there a difference in male, female, pro, and ant stats?\n",
    "* Within Each Disney Era, is there a difference in male/female or ant/pro stats?\n",
    "* Across the two companies, Disney and Dreamworks, are there differences in male/female and pro/ant stats?\n",
    "* Within each company, is there a difference in male/female and pro/ant stats?\n",
    "\n",
    "Then, I combine role and gender, asking...\n",
    "* Is there a difference between male pros and ants?\n",
    "* Is there a difference between female pros and ants?\n",
    "* Is there a difference between male and female pros?\n",
    "* Is there a difference between male and female ants?\n",
    "\n",
    "Specifically, I will investigate the following stats:\n",
    "* Token Count per Line\n",
    "* Type Count per Line\n",
    "* Total Token Count\n",
    "* Total Type Count\n",
    "* TTR\n",
    "* K-Band"
   ]
  },
  {
   "cell_type": "markdown",
   "metadata": {},
   "source": [
    "# Table of Contents\n",
    "1. [Data Frames/Data](#data)\n",
    "2. [Token/Type Count per Line](#toktypeline)\n",
    "    a. [Gender]\n",
    "    b. [Role]\n",
    "    c. [Gender and Role]\n",
    "3. [Total Token/Type Count per Character](#totaltoktype)\n",
    "    a. [Gender]\n",
    "    b. [Role]\n",
    "    c. [Gender and Role]\n",
    "4. [TTR](#ttr)\n",
    "    a. [Gender]\n",
    "    b. [Role]\n",
    "    c. [Gender and Role]\n",
    "5. [K-Band](#kband)\n",
    "    a. [Gender]\n",
    "    b. [Role]\n",
    "    c. [Gender and Role]"
   ]
  },
  {
   "cell_type": "code",
   "execution_count": 1,
   "metadata": {},
   "outputs": [],
   "source": [
    "import pandas as pd"
   ]
  },
  {
   "cell_type": "code",
   "execution_count": 2,
   "metadata": {},
   "outputs": [],
   "source": [
    "from scipy import stats"
   ]
  },
  {
   "cell_type": "code",
   "execution_count": 3,
   "metadata": {},
   "outputs": [],
   "source": [
    "movie_df = pd.read_pickle(r'C:/Users/cassi/Desktop/Data_Science/Animated-Movie-Gendered-Dialogue/private/all_tagged_dialogue.pkl')"
   ]
  },
  {
   "cell_type": "code",
   "execution_count": 4,
   "metadata": {},
   "outputs": [
    {
     "name": "stdout",
     "output_type": "stream",
     "text": [
      "<class 'pandas.core.frame.DataFrame'>\n",
      "RangeIndex: 13442 entries, 0 to 13441\n",
      "Data columns (total 19 columns):\n",
      "Disney_Period       13442 non-null object\n",
      "Gender              13442 non-null object\n",
      "Movie               13442 non-null object\n",
      "Role                13442 non-null object\n",
      "Song                13442 non-null object\n",
      "Speaker             13442 non-null object\n",
      "Speaker_Status      13442 non-null object\n",
      "Text                13442 non-null object\n",
      "UTTERANCE_NUMBER    13442 non-null int64\n",
      "Year                13442 non-null int64\n",
      "Tokens              13442 non-null object\n",
      "Types               13442 non-null object\n",
      "Token_Count         13442 non-null int64\n",
      "Type_Count          13442 non-null int64\n",
      "POS                 13442 non-null object\n",
      "Tag_Freq            13442 non-null object\n",
      "Adj_Count           13442 non-null int64\n",
      "Adv_Count           13442 non-null int64\n",
      "Adj_over_Tokens     13442 non-null float64\n",
      "dtypes: float64(1), int64(6), object(12)\n",
      "memory usage: 1.3+ MB\n"
     ]
    }
   ],
   "source": [
    "movie_df.info()"
   ]
  },
  {
   "cell_type": "code",
   "execution_count": 5,
   "metadata": {},
   "outputs": [],
   "source": [
    "char_df = pd.read_pickle(r'C:/Users/cassi/Desktop/Data_Science/Animated-Movie-Gendered-Dialogue/private/char_tok_type_TTR.pkl')"
   ]
  },
  {
   "cell_type": "code",
   "execution_count": 6,
   "metadata": {},
   "outputs": [
    {
     "name": "stdout",
     "output_type": "stream",
     "text": [
      "<class 'pandas.core.frame.DataFrame'>\n",
      "RangeIndex: 632 entries, 0 to 631\n",
      "Data columns (total 14 columns):\n",
      "Disney_Period       632 non-null object\n",
      "Gender              632 non-null object\n",
      "Movie               632 non-null object\n",
      "Role                632 non-null object\n",
      "Speaker             632 non-null object\n",
      "Speaker_Status      632 non-null object\n",
      "Total_Tok_Count     632 non-null float64\n",
      "Total_Toks          632 non-null object\n",
      "Total_Type_Count    632 non-null float64\n",
      "Total_Types         632 non-null object\n",
      "Year                632 non-null object\n",
      "TTR                 632 non-null float64\n",
      "G_TTR               632 non-null float64\n",
      "AVG_K_BAND          600 non-null float64\n",
      "dtypes: float64(5), object(9)\n",
      "memory usage: 46.9+ KB\n"
     ]
    }
   ],
   "source": [
    "char_df.info()"
   ]
  },
  {
   "cell_type": "code",
   "execution_count": 7,
   "metadata": {},
   "outputs": [],
   "source": [
    "f_movie_df = movie_df[movie_df.Gender == 'f']\n",
    "m_movie_df = movie_df[movie_df.Gender == 'm']"
   ]
  },
  {
   "cell_type": "code",
   "execution_count": 8,
   "metadata": {},
   "outputs": [],
   "source": [
    "pro_movie_df = movie_df[movie_df.Role == 'PRO']\n",
    "ant_movie_df = movie_df[movie_df.Role == 'ANT']\n",
    "help_movie_df = movie_df[movie_df.Role == 'HELPER']"
   ]
  },
  {
   "cell_type": "markdown",
   "metadata": {},
   "source": [
    "## Token and Type Stats\n",
    "### Average Token and Type Count per Line\n",
    "### Gender\n",
    "#### Overall"
   ]
  },
  {
   "cell_type": "code",
   "execution_count": 9,
   "metadata": {},
   "outputs": [
    {
     "data": {
      "text/plain": [
       "Ttest_indResult(statistic=4.094583947758668, pvalue=4.271602422580622e-05)"
      ]
     },
     "execution_count": 9,
     "metadata": {},
     "output_type": "execute_result"
    }
   ],
   "source": [
    "#Token count per Line M v F\n",
    "stats.ttest_ind(m_movie_df.Token_Count, f_movie_df.Token_Count, equal_var = False)"
   ]
  },
  {
   "cell_type": "code",
   "execution_count": 10,
   "metadata": {},
   "outputs": [
    {
     "data": {
      "text/plain": [
       "Ttest_indResult(statistic=4.923396910028177, pvalue=8.671647557539395e-07)"
      ]
     },
     "execution_count": 10,
     "metadata": {},
     "output_type": "execute_result"
    }
   ],
   "source": [
    "#Type Count per Line M v F\n",
    "stats.ttest_ind(m_movie_df.Type_Count, f_movie_df.Type_Count, equal_var = False)"
   ]
  },
  {
   "cell_type": "markdown",
   "metadata": {},
   "source": [
    "Overall, Token Count per line and Type Count per line between genders are significantly different "
   ]
  },
  {
   "cell_type": "markdown",
   "metadata": {},
   "source": [
    "#### Gender Over Time"
   ]
  },
  {
   "cell_type": "code",
   "execution_count": 11,
   "metadata": {},
   "outputs": [],
   "source": [
    "f_movies_early = f_movie_df[f_movie_df.Disney_Period == 'EARLY']\n",
    "m_movies_early = m_movie_df[m_movie_df.Disney_Period == 'EARLY']\n",
    "\n",
    "f_movies_mid = f_movie_df[f_movie_df.Disney_Period == 'MID']\n",
    "m_movies_mid = m_movie_df[m_movie_df.Disney_Period == 'MID']\n",
    "\n",
    "f_movies_late = f_movie_df[f_movie_df.Disney_Period == 'LATE']\n",
    "m_movies_late = m_movie_df[m_movie_df.Disney_Period == 'LATE']"
   ]
  },
  {
   "cell_type": "code",
   "execution_count": 12,
   "metadata": {},
   "outputs": [
    {
     "data": {
      "text/plain": [
       "F_onewayResult(statistic=7.667236763403715, pvalue=0.0004774701445951512)"
      ]
     },
     "execution_count": 12,
     "metadata": {},
     "output_type": "execute_result"
    }
   ],
   "source": [
    "# Comparing female Token Count over time\n",
    "stats.f_oneway(f_movies_early.Token_Count, f_movies_mid.Token_Count, f_movies_late.Token_Count)"
   ]
  },
  {
   "cell_type": "code",
   "execution_count": 13,
   "metadata": {},
   "outputs": [
    {
     "data": {
      "text/plain": [
       "Ttest_indResult(statistic=3.5171839133852822, pvalue=0.0004530579575576083)"
      ]
     },
     "execution_count": 13,
     "metadata": {},
     "output_type": "execute_result"
    }
   ],
   "source": [
    "stats.ttest_ind(f_movies_early.Token_Count, f_movies_mid.Token_Count, equal_var=False)"
   ]
  },
  {
   "cell_type": "code",
   "execution_count": 14,
   "metadata": {},
   "outputs": [
    {
     "data": {
      "text/plain": [
       "Ttest_indResult(statistic=-0.024549755074654074, pvalue=0.9804174502622016)"
      ]
     },
     "execution_count": 14,
     "metadata": {},
     "output_type": "execute_result"
    }
   ],
   "source": [
    "stats.ttest_ind(f_movies_early.Token_Count, f_movies_late.Token_Count, equal_var=False)"
   ]
  },
  {
   "cell_type": "code",
   "execution_count": 15,
   "metadata": {},
   "outputs": [
    {
     "data": {
      "text/plain": [
       "Ttest_indResult(statistic=-4.340179617140939, pvalue=1.4888114373993228e-05)"
      ]
     },
     "execution_count": 15,
     "metadata": {},
     "output_type": "execute_result"
    }
   ],
   "source": [
    "stats.ttest_ind(f_movies_mid.Token_Count, f_movies_late.Token_Count, equal_var=False)"
   ]
  },
  {
   "cell_type": "markdown",
   "metadata": {},
   "source": [
    "There are significant differences between female token county per line over time.However, to my surprise, female token counts were actually much longer in the early period than in the middle period. Female token counts then went up again in the late period, to a count that isn't very different from the counts in the early period"
   ]
  },
  {
   "cell_type": "code",
   "execution_count": 16,
   "metadata": {},
   "outputs": [
    {
     "data": {
      "text/plain": [
       "F_onewayResult(statistic=10.286719936520177, pvalue=3.504240285911992e-05)"
      ]
     },
     "execution_count": 16,
     "metadata": {},
     "output_type": "execute_result"
    }
   ],
   "source": [
    "# Comparing Male Token Count per Line Over Time\n",
    "stats.f_oneway(m_movies_early.Token_Count, m_movies_mid.Token_Count, m_movies_late.Token_Count)"
   ]
  },
  {
   "cell_type": "code",
   "execution_count": 17,
   "metadata": {},
   "outputs": [
    {
     "data": {
      "text/plain": [
       "Ttest_indResult(statistic=-0.17217560048124253, pvalue=0.8633440525880111)"
      ]
     },
     "execution_count": 17,
     "metadata": {},
     "output_type": "execute_result"
    }
   ],
   "source": [
    "stats.ttest_ind(m_movies_early.Token_Count, m_movies_mid.Token_Count, equal_var=False)"
   ]
  },
  {
   "cell_type": "code",
   "execution_count": 18,
   "metadata": {},
   "outputs": [
    {
     "data": {
      "text/plain": [
       "Ttest_indResult(statistic=-3.093215771492932, pvalue=0.002022707332134338)"
      ]
     },
     "execution_count": 18,
     "metadata": {},
     "output_type": "execute_result"
    }
   ],
   "source": [
    "stats.ttest_ind(m_movies_early.Token_Count, m_movies_late.Token_Count, equal_var=False)"
   ]
  },
  {
   "cell_type": "code",
   "execution_count": 19,
   "metadata": {},
   "outputs": [
    {
     "data": {
      "text/plain": [
       "Ttest_indResult(statistic=-3.9348909201915405, pvalue=8.6114160345075e-05)"
      ]
     },
     "execution_count": 19,
     "metadata": {},
     "output_type": "execute_result"
    }
   ],
   "source": [
    "stats.ttest_ind(m_movies_mid.Token_Count, m_movies_late.Token_Count, equal_var=False)"
   ]
  },
  {
   "cell_type": "markdown",
   "metadata": {},
   "source": [
    "Unlike female token counts per line, male token counts per line have constantly increased with each era. Though the difference in their token counts wasn't significant from the early to mid period, there was a significant increase from the middle to late period."
   ]
  },
  {
   "cell_type": "code",
   "execution_count": 20,
   "metadata": {},
   "outputs": [
    {
     "data": {
      "text/plain": [
       "Ttest_indResult(statistic=-0.46352345106853576, pvalue=0.6430724764804259)"
      ]
     },
     "execution_count": 20,
     "metadata": {},
     "output_type": "execute_result"
    }
   ],
   "source": [
    "#Comparing Male and Female token counts per line w/in each era\n",
    "stats.ttest_ind(m_movies_early.Token_Count, f_movies_early.Token_Count, equal_var=False)"
   ]
  },
  {
   "cell_type": "code",
   "execution_count": 21,
   "metadata": {},
   "outputs": [
    {
     "data": {
      "text/plain": [
       "Ttest_indResult(statistic=4.842783133866519, pvalue=1.3960234471327022e-06)"
      ]
     },
     "execution_count": 21,
     "metadata": {},
     "output_type": "execute_result"
    }
   ],
   "source": [
    "stats.ttest_ind(m_movies_mid.Token_Count, f_movies_mid.Token_Count, equal_var=False)"
   ]
  },
  {
   "cell_type": "code",
   "execution_count": 22,
   "metadata": {},
   "outputs": [
    {
     "data": {
      "text/plain": [
       "Ttest_indResult(statistic=2.8962769649577087, pvalue=0.0038082458130593235)"
      ]
     },
     "execution_count": 22,
     "metadata": {},
     "output_type": "execute_result"
    }
   ],
   "source": [
    "stats.ttest_ind(m_movies_late.Token_Count, f_movies_late.Token_Count, equal_var=False)"
   ]
  },
  {
   "cell_type": "markdown",
   "metadata": {},
   "source": [
    "Again, not the disprecancies that I expected. Women spoke more in the earlier movies, but not significantly, while women spoke significantly fewer tokens per line than men did in the middle and late periods!"
   ]
  },
  {
   "cell_type": "code",
   "execution_count": 23,
   "metadata": {},
   "outputs": [
    {
     "data": {
      "text/plain": [
       "F_onewayResult(statistic=6.726987795175322, pvalue=0.0012169467684094255)"
      ]
     },
     "execution_count": 23,
     "metadata": {},
     "output_type": "execute_result"
    }
   ],
   "source": [
    "# Comparing female Type Count over time\n",
    "stats.f_oneway(f_movies_early.Type_Count, f_movies_mid.Type_Count, f_movies_late.Type_Count)"
   ]
  },
  {
   "cell_type": "code",
   "execution_count": 24,
   "metadata": {},
   "outputs": [
    {
     "data": {
      "text/plain": [
       "Ttest_indResult(statistic=3.314075240683437, pvalue=0.0009464450537746284)"
      ]
     },
     "execution_count": 24,
     "metadata": {},
     "output_type": "execute_result"
    }
   ],
   "source": [
    "stats.ttest_ind(f_movies_early.Type_Count, f_movies_mid.Type_Count, equal_var=False)"
   ]
  },
  {
   "cell_type": "code",
   "execution_count": 25,
   "metadata": {},
   "outputs": [
    {
     "data": {
      "text/plain": [
       "Ttest_indResult(statistic=0.34030078483681353, pvalue=0.733683148770339)"
      ]
     },
     "execution_count": 25,
     "metadata": {},
     "output_type": "execute_result"
    }
   ],
   "source": [
    "stats.ttest_ind(f_movies_early.Type_Count, f_movies_late.Type_Count, equal_var=False)"
   ]
  },
  {
   "cell_type": "code",
   "execution_count": 26,
   "metadata": {},
   "outputs": [
    {
     "data": {
      "text/plain": [
       "Ttest_indResult(statistic=-3.7793897481376506, pvalue=0.0001617232188517916)"
      ]
     },
     "execution_count": 26,
     "metadata": {},
     "output_type": "execute_result"
    }
   ],
   "source": [
    "stats.ttest_ind(f_movies_mid.Type_Count, f_movies_late.Type_Count, equal_var=False)"
   ]
  },
  {
   "cell_type": "markdown",
   "metadata": {},
   "source": [
    "There are significant differences between female type county per line over time. Like token count, we see type count go down in the middle period and then increase again in the late period."
   ]
  },
  {
   "cell_type": "code",
   "execution_count": 27,
   "metadata": {},
   "outputs": [
    {
     "data": {
      "text/plain": [
       "F_onewayResult(statistic=12.606850658324856, pvalue=3.491505269476744e-06)"
      ]
     },
     "execution_count": 27,
     "metadata": {},
     "output_type": "execute_result"
    }
   ],
   "source": [
    "# Comparing Male Type Count per Line Over Time\n",
    "stats.f_oneway(m_movies_early.Type_Count, m_movies_mid.Type_Count, m_movies_late.Type_Count)"
   ]
  },
  {
   "cell_type": "code",
   "execution_count": 28,
   "metadata": {},
   "outputs": [
    {
     "data": {
      "text/plain": [
       "Ttest_indResult(statistic=-1.2548702663157338, pvalue=0.20991401781630908)"
      ]
     },
     "execution_count": 28,
     "metadata": {},
     "output_type": "execute_result"
    }
   ],
   "source": [
    "stats.ttest_ind(m_movies_early.Type_Count, m_movies_mid.Type_Count, equal_var=False)"
   ]
  },
  {
   "cell_type": "code",
   "execution_count": 29,
   "metadata": {},
   "outputs": [
    {
     "data": {
      "text/plain": [
       "Ttest_indResult(statistic=-3.9851329851193587, pvalue=7.154008858080245e-05)"
      ]
     },
     "execution_count": 29,
     "metadata": {},
     "output_type": "execute_result"
    }
   ],
   "source": [
    "stats.ttest_ind(m_movies_early.Type_Count, m_movies_late.Type_Count, equal_var=False)"
   ]
  },
  {
   "cell_type": "code",
   "execution_count": 30,
   "metadata": {},
   "outputs": [
    {
     "data": {
      "text/plain": [
       "Ttest_indResult(statistic=-4.0369948049602735, pvalue=5.6162187196356854e-05)"
      ]
     },
     "execution_count": 30,
     "metadata": {},
     "output_type": "execute_result"
    }
   ],
   "source": [
    "stats.ttest_ind(m_movies_mid.Type_Count, m_movies_late.Type_Count, equal_var=False)"
   ]
  },
  {
   "cell_type": "markdown",
   "metadata": {},
   "source": [
    "Unlike female type counts per line, male type counts per line have constantly increased with each era. Though the difference in their type counts wasn't significant from the early to mid period, there was a significant increase from the middle to late period."
   ]
  },
  {
   "cell_type": "code",
   "execution_count": 31,
   "metadata": {},
   "outputs": [
    {
     "data": {
      "text/plain": [
       "Ttest_indResult(statistic=-0.9816210353750426, pvalue=0.3264854283424139)"
      ]
     },
     "execution_count": 31,
     "metadata": {},
     "output_type": "execute_result"
    }
   ],
   "source": [
    "#Comparing Male and Female type counts per line w/in each era\n",
    "stats.ttest_ind(m_movies_early.Type_Count, f_movies_early.Type_Count, equal_var=False)"
   ]
  },
  {
   "cell_type": "code",
   "execution_count": 32,
   "metadata": {},
   "outputs": [
    {
     "data": {
      "text/plain": [
       "Ttest_indResult(statistic=4.951605339787872, pvalue=8.146538781519938e-07)"
      ]
     },
     "execution_count": 32,
     "metadata": {},
     "output_type": "execute_result"
    }
   ],
   "source": [
    "stats.ttest_ind(m_movies_mid.Type_Count, f_movies_mid.Type_Count, equal_var=False)"
   ]
  },
  {
   "cell_type": "code",
   "execution_count": 33,
   "metadata": {},
   "outputs": [
    {
     "data": {
      "text/plain": [
       "Ttest_indResult(statistic=3.946576602349502, pvalue=8.1477203619039e-05)"
      ]
     },
     "execution_count": 33,
     "metadata": {},
     "output_type": "execute_result"
    }
   ],
   "source": [
    "stats.ttest_ind(m_movies_late.Type_Count, f_movies_late.Type_Count, equal_var=False)"
   ]
  },
  {
   "cell_type": "markdown",
   "metadata": {},
   "source": [
    "Again, no significant difference in the early era of Disney, but men do use more types than women in the middle and late eras of Disney"
   ]
  },
  {
   "cell_type": "markdown",
   "metadata": {},
   "source": [
    "#### Gender Across Companies"
   ]
  },
  {
   "cell_type": "code",
   "execution_count": 34,
   "metadata": {},
   "outputs": [],
   "source": [
    "f_movies_disney = f_movie_df[f_movie_df.Disney_Period != 'DREAMWORKS']\n",
    "f_movies_dw = f_movie_df[f_movie_df.Disney_Period == 'DREAMWORKS']\n",
    "\n",
    "m_movies_disney = m_movie_df[m_movie_df.Disney_Period != 'DREAMWORKS']\n",
    "m_movies_dw = m_movie_df[m_movie_df.Disney_Period == 'DREAMWORKS']"
   ]
  },
  {
   "cell_type": "code",
   "execution_count": 35,
   "metadata": {},
   "outputs": [
    {
     "data": {
      "text/plain": [
       "Ttest_indResult(statistic=2.935244768690959, pvalue=0.0033454199090632865)"
      ]
     },
     "execution_count": 35,
     "metadata": {},
     "output_type": "execute_result"
    }
   ],
   "source": [
    "## Between male and female characters is disney films\n",
    "stats.ttest_ind(m_movies_disney.Token_Count, f_movies_disney.Token_Count, equal_var=False)"
   ]
  },
  {
   "cell_type": "code",
   "execution_count": 36,
   "metadata": {},
   "outputs": [
    {
     "data": {
      "text/plain": [
       "Ttest_indResult(statistic=5.417598704278908, pvalue=6.6336631151626e-08)"
      ]
     },
     "execution_count": 36,
     "metadata": {},
     "output_type": "execute_result"
    }
   ],
   "source": [
    "## Between male and female characters in Dreamworks Films\n",
    "stats.ttest_ind(m_movies_dw.Token_Count, f_movies_dw.Token_Count, equal_var=False)"
   ]
  },
  {
   "cell_type": "markdown",
   "metadata": {},
   "source": [
    "Though in general men have higher token counts per line than women, this difference is much more significant in Dreamworks films"
   ]
  },
  {
   "cell_type": "code",
   "execution_count": 37,
   "metadata": {},
   "outputs": [
    {
     "data": {
      "text/plain": [
       "Ttest_indResult(statistic=3.193562952618235, pvalue=0.0014112565909670273)"
      ]
     },
     "execution_count": 37,
     "metadata": {},
     "output_type": "execute_result"
    }
   ],
   "source": [
    "## Between male characters in Dreamworks and Disney\n",
    "stats.ttest_ind(m_movies_disney.Token_Count, m_movies_dw.Token_Count, equal_var=False)"
   ]
  },
  {
   "cell_type": "code",
   "execution_count": 38,
   "metadata": {},
   "outputs": [
    {
     "data": {
      "text/plain": [
       "Ttest_indResult(statistic=3.9876699186327174, pvalue=6.799745918946658e-05)"
      ]
     },
     "execution_count": 38,
     "metadata": {},
     "output_type": "execute_result"
    }
   ],
   "source": [
    "## Between female characters in Dreamworks and Disney\n",
    "stats.ttest_ind(f_movies_disney.Token_Count, f_movies_dw.Token_Count, equal_var=False)"
   ]
  },
  {
   "cell_type": "markdown",
   "metadata": {},
   "source": [
    "In Disney films, both men and women seem to have higher token counts per line than Dreamworks men and women, but this difference is much more pronounced among female characters."
   ]
  },
  {
   "cell_type": "markdown",
   "metadata": {},
   "source": [
    "### Role\n",
    "#### Overall"
   ]
  },
  {
   "cell_type": "code",
   "execution_count": 39,
   "metadata": {},
   "outputs": [
    {
     "data": {
      "text/plain": [
       "Ttest_indResult(statistic=-3.697383277420495, pvalue=0.00022111887110217427)"
      ]
     },
     "execution_count": 39,
     "metadata": {},
     "output_type": "execute_result"
    }
   ],
   "source": [
    "stats.ttest_ind(pro_movie_df.Token_Count, ant_movie_df.Token_Count, equal_var = False)"
   ]
  },
  {
   "cell_type": "code",
   "execution_count": 40,
   "metadata": {},
   "outputs": [
    {
     "data": {
      "text/plain": [
       "Ttest_indResult(statistic=-5.088952503221761, pvalue=3.794202353395622e-07)"
      ]
     },
     "execution_count": 40,
     "metadata": {},
     "output_type": "execute_result"
    }
   ],
   "source": [
    "stats.ttest_ind(pro_movie_df.Type_Count, ant_movie_df.Type_Count, equal_var = False)"
   ]
  },
  {
   "cell_type": "markdown",
   "metadata": {},
   "source": [
    "Overall, there do seem to be significant differences in token counts and type counts by line based on role, with protagonists having significantly shorter lines\n",
    "\n",
    "#### Role Over Time"
   ]
  },
  {
   "cell_type": "code",
   "execution_count": 41,
   "metadata": {},
   "outputs": [],
   "source": [
    "pro_movies_early = pro_movie_df[pro_movie_df.Disney_Period == 'EARLY']\n",
    "pro_movies_mid = pro_movie_df[pro_movie_df.Disney_Period == 'MID']\n",
    "pro_movies_late = pro_movie_df[pro_movie_df.Disney_Period == 'LATE']\n",
    "\n",
    "ant_movies_early = ant_movie_df[ant_movie_df.Disney_Period == 'EARLY']\n",
    "ant_movies_mid = ant_movie_df[ant_movie_df.Disney_Period == 'MID']\n",
    "ant_movies_late = ant_movie_df[ant_movie_df.Disney_Period == 'LATE']"
   ]
  },
  {
   "cell_type": "code",
   "execution_count": 42,
   "metadata": {},
   "outputs": [
    {
     "data": {
      "text/plain": [
       "F_onewayResult(statistic=19.086710660744, pvalue=5.7882250394582755e-09)"
      ]
     },
     "execution_count": 42,
     "metadata": {},
     "output_type": "execute_result"
    }
   ],
   "source": [
    "# Comparing Protagonist Token Count over time\n",
    "stats.f_oneway(pro_movies_early.Token_Count, pro_movies_mid.Token_Count, pro_movies_late.Token_Count)"
   ]
  },
  {
   "cell_type": "code",
   "execution_count": 43,
   "metadata": {},
   "outputs": [
    {
     "data": {
      "text/plain": [
       "Ttest_indResult(statistic=3.342640325046175, pvalue=0.0009357815220299626)"
      ]
     },
     "execution_count": 43,
     "metadata": {},
     "output_type": "execute_result"
    }
   ],
   "source": [
    "stats.ttest_ind(pro_movies_early.Token_Count, pro_movies_mid.Token_Count, equal_var=False)"
   ]
  },
  {
   "cell_type": "code",
   "execution_count": 44,
   "metadata": {},
   "outputs": [
    {
     "data": {
      "text/plain": [
       "Ttest_indResult(statistic=-0.48186336399539875, pvalue=0.6301653901029498)"
      ]
     },
     "execution_count": 44,
     "metadata": {},
     "output_type": "execute_result"
    }
   ],
   "source": [
    "stats.ttest_ind(pro_movies_early.Token_Count, pro_movies_late.Token_Count, equal_var=False)"
   ]
  },
  {
   "cell_type": "code",
   "execution_count": 45,
   "metadata": {},
   "outputs": [
    {
     "data": {
      "text/plain": [
       "Ttest_indResult(statistic=-6.735013339613751, pvalue=2.0290663308577336e-11)"
      ]
     },
     "execution_count": 45,
     "metadata": {},
     "output_type": "execute_result"
    }
   ],
   "source": [
    "stats.ttest_ind(pro_movies_mid.Token_Count, pro_movies_late.Token_Count, equal_var=False)"
   ]
  },
  {
   "cell_type": "markdown",
   "metadata": {},
   "source": [
    "Protagonists had more tokens per lines in the early and late periods than in the middle period, to a significant degree. However, there's hardly any difference between token count for protagonists in the middle and late periods."
   ]
  },
  {
   "cell_type": "code",
   "execution_count": 46,
   "metadata": {},
   "outputs": [
    {
     "data": {
      "text/plain": [
       "F_onewayResult(statistic=0.7582647676266144, pvalue=0.4687129230091459)"
      ]
     },
     "execution_count": 46,
     "metadata": {},
     "output_type": "execute_result"
    }
   ],
   "source": [
    "# Comparing Antagonist Token Count per Line Over Time\n",
    "stats.f_oneway(ant_movies_early.Token_Count, ant_movies_mid.Token_Count, ant_movies_late.Token_Count)"
   ]
  },
  {
   "cell_type": "code",
   "execution_count": 47,
   "metadata": {},
   "outputs": [
    {
     "data": {
      "text/plain": [
       "Ttest_indResult(statistic=1.0932941002220513, pvalue=0.2751251911959307)"
      ]
     },
     "execution_count": 47,
     "metadata": {},
     "output_type": "execute_result"
    }
   ],
   "source": [
    "stats.ttest_ind(ant_movies_early.Token_Count, ant_movies_mid.Token_Count, equal_var=False)"
   ]
  },
  {
   "cell_type": "code",
   "execution_count": 48,
   "metadata": {},
   "outputs": [
    {
     "data": {
      "text/plain": [
       "Ttest_indResult(statistic=0.7742843723239474, pvalue=0.43924044542440743)"
      ]
     },
     "execution_count": 48,
     "metadata": {},
     "output_type": "execute_result"
    }
   ],
   "source": [
    "stats.ttest_ind(ant_movies_early.Token_Count, ant_movies_late.Token_Count, equal_var=False)"
   ]
  },
  {
   "cell_type": "code",
   "execution_count": 49,
   "metadata": {},
   "outputs": [
    {
     "data": {
      "text/plain": [
       "Ttest_indResult(statistic=-0.3719478211119041, pvalue=0.7100332792278266)"
      ]
     },
     "execution_count": 49,
     "metadata": {},
     "output_type": "execute_result"
    }
   ],
   "source": [
    "stats.ttest_ind(ant_movies_mid.Token_Count, ant_movies_late.Token_Count, equal_var=False)"
   ]
  },
  {
   "cell_type": "markdown",
   "metadata": {},
   "source": [
    "The Token counts per line for antagonists have not changed significantly over time."
   ]
  },
  {
   "cell_type": "code",
   "execution_count": 50,
   "metadata": {},
   "outputs": [
    {
     "data": {
      "text/plain": [
       "Ttest_indResult(statistic=1.5881175499700033, pvalue=0.11308831371455882)"
      ]
     },
     "execution_count": 50,
     "metadata": {},
     "output_type": "execute_result"
    }
   ],
   "source": [
    "#Comparing Pros and Ants token counts per line w/in each era\n",
    "stats.ttest_ind(ant_movies_early.Token_Count, pro_movies_early.Token_Count, equal_var=False)"
   ]
  },
  {
   "cell_type": "code",
   "execution_count": 51,
   "metadata": {},
   "outputs": [
    {
     "data": {
      "text/plain": [
       "Ttest_indResult(statistic=6.112808941855052, pvalue=1.5827217314564946e-09)"
      ]
     },
     "execution_count": 51,
     "metadata": {},
     "output_type": "execute_result"
    }
   ],
   "source": [
    "stats.ttest_ind(ant_movies_mid.Token_Count, pro_movies_mid.Token_Count, equal_var=False)"
   ]
  },
  {
   "cell_type": "code",
   "execution_count": 52,
   "metadata": {},
   "outputs": [
    {
     "data": {
      "text/plain": [
       "Ttest_indResult(statistic=0.8860844606975122, pvalue=0.37588976269590657)"
      ]
     },
     "execution_count": 52,
     "metadata": {},
     "output_type": "execute_result"
    }
   ],
   "source": [
    "stats.ttest_ind(ant_movies_late.Token_Count, pro_movies_late.Token_Count, equal_var=False)"
   ]
  },
  {
   "cell_type": "markdown",
   "metadata": {},
   "source": [
    "In all eras, antagonists have longer lines than protagonists, but this difference is only significant in the middle period."
   ]
  },
  {
   "cell_type": "code",
   "execution_count": 53,
   "metadata": {},
   "outputs": [
    {
     "data": {
      "text/plain": [
       "F_onewayResult(statistic=14.988691970679247, pvalue=3.3303849789524714e-07)"
      ]
     },
     "execution_count": 53,
     "metadata": {},
     "output_type": "execute_result"
    }
   ],
   "source": [
    "# Comparing protagonist Type Count over time\n",
    "stats.f_oneway(pro_movies_early.Type_Count, pro_movies_mid.Type_Count, pro_movies_late.Type_Count)"
   ]
  },
  {
   "cell_type": "code",
   "execution_count": 54,
   "metadata": {},
   "outputs": [
    {
     "data": {
      "text/plain": [
       "Ttest_indResult(statistic=2.69107256948761, pvalue=0.007512767963674296)"
      ]
     },
     "execution_count": 54,
     "metadata": {},
     "output_type": "execute_result"
    }
   ],
   "source": [
    "stats.ttest_ind(pro_movies_early.Type_Count, pro_movies_mid.Type_Count, equal_var=False)"
   ]
  },
  {
   "cell_type": "code",
   "execution_count": 55,
   "metadata": {},
   "outputs": [
    {
     "data": {
      "text/plain": [
       "Ttest_indResult(statistic=-0.40984064622638905, pvalue=0.682163013643241)"
      ]
     },
     "execution_count": 55,
     "metadata": {},
     "output_type": "execute_result"
    }
   ],
   "source": [
    "stats.ttest_ind(pro_movies_early.Type_Count, pro_movies_late.Type_Count, equal_var=False)"
   ]
  },
  {
   "cell_type": "code",
   "execution_count": 56,
   "metadata": {},
   "outputs": [
    {
     "data": {
      "text/plain": [
       "Ttest_indResult(statistic=-5.8617703782441435, pvalue=5.134894151032304e-09)"
      ]
     },
     "execution_count": 56,
     "metadata": {},
     "output_type": "execute_result"
    }
   ],
   "source": [
    "stats.ttest_ind(pro_movies_mid.Type_Count, pro_movies_late.Type_Count, equal_var=False)"
   ]
  },
  {
   "cell_type": "markdown",
   "metadata": {},
   "source": [
    "There are significant differences between protagonist type counts per line over time. Like token count, we see type count go down in the middle period and then increase again in the late period."
   ]
  },
  {
   "cell_type": "code",
   "execution_count": 57,
   "metadata": {},
   "outputs": [
    {
     "data": {
      "text/plain": [
       "F_onewayResult(statistic=0.22470915182497514, pvalue=0.7987835931168682)"
      ]
     },
     "execution_count": 57,
     "metadata": {},
     "output_type": "execute_result"
    }
   ],
   "source": [
    "# Comparing Antagonist Type Count per Line Over Time\n",
    "stats.f_oneway(ant_movies_early.Type_Count, ant_movies_mid.Type_Count, ant_movies_late.Type_Count)"
   ]
  },
  {
   "cell_type": "code",
   "execution_count": 58,
   "metadata": {},
   "outputs": [
    {
     "data": {
      "text/plain": [
       "Ttest_indResult(statistic=0.6046068962467481, pvalue=0.5458629063425532)"
      ]
     },
     "execution_count": 58,
     "metadata": {},
     "output_type": "execute_result"
    }
   ],
   "source": [
    "stats.ttest_ind(ant_movies_early.Type_Count, ant_movies_mid.Type_Count, equal_var=False)"
   ]
  },
  {
   "cell_type": "code",
   "execution_count": 59,
   "metadata": {},
   "outputs": [
    {
     "data": {
      "text/plain": [
       "Ttest_indResult(statistic=0.32822967833693967, pvalue=0.7429124654076498)"
      ]
     },
     "execution_count": 59,
     "metadata": {},
     "output_type": "execute_result"
    }
   ],
   "source": [
    "stats.ttest_ind(ant_movies_early.Type_Count, ant_movies_late.Type_Count, equal_var=False)"
   ]
  },
  {
   "cell_type": "code",
   "execution_count": 60,
   "metadata": {},
   "outputs": [
    {
     "data": {
      "text/plain": [
       "Ttest_indResult(statistic=-0.34853958227562953, pvalue=0.7275260595788151)"
      ]
     },
     "execution_count": 60,
     "metadata": {},
     "output_type": "execute_result"
    }
   ],
   "source": [
    "stats.ttest_ind(ant_movies_mid.Type_Count, ant_movies_late.Type_Count, equal_var=False)"
   ]
  },
  {
   "cell_type": "markdown",
   "metadata": {},
   "source": [
    "Antagonist type counts aren't significantly different over time."
   ]
  },
  {
   "cell_type": "code",
   "execution_count": 61,
   "metadata": {},
   "outputs": [
    {
     "data": {
      "text/plain": [
       "Ttest_indResult(statistic=-1.9103389932092292, pvalue=0.056809278586763594)"
      ]
     },
     "execution_count": 61,
     "metadata": {},
     "output_type": "execute_result"
    }
   ],
   "source": [
    "#Comparing Protagonist and Antagonist type counts per line w/in each era\n",
    "stats.ttest_ind(pro_movies_early.Type_Count, ant_movies_early.Type_Count, equal_var=False)"
   ]
  },
  {
   "cell_type": "code",
   "execution_count": 62,
   "metadata": {},
   "outputs": [
    {
     "data": {
      "text/plain": [
       "Ttest_indResult(statistic=-6.71022923005286, pvalue=3.777126543273302e-11)"
      ]
     },
     "execution_count": 62,
     "metadata": {},
     "output_type": "execute_result"
    }
   ],
   "source": [
    "stats.ttest_ind(pro_movies_mid.Type_Count, ant_movies_mid.Type_Count, equal_var=False)"
   ]
  },
  {
   "cell_type": "code",
   "execution_count": 63,
   "metadata": {},
   "outputs": [
    {
     "data": {
      "text/plain": [
       "Ttest_indResult(statistic=-2.256134803710217, pvalue=0.02441015205671323)"
      ]
     },
     "execution_count": 63,
     "metadata": {},
     "output_type": "execute_result"
    }
   ],
   "source": [
    "stats.ttest_ind(pro_movies_late.Type_Count, ant_movies_late.Type_Count, equal_var=False)"
   ]
  },
  {
   "cell_type": "markdown",
   "metadata": {},
   "source": [
    "We see protagonists speak significantly fewer types per line than antagonists do in the middle period and the late periods. This difference is not strong in the early period.\n",
    "\n",
    "#### Roles Across Companies"
   ]
  },
  {
   "cell_type": "code",
   "execution_count": 64,
   "metadata": {},
   "outputs": [],
   "source": [
    "ant_movies_disney = ant_movie_df[ant_movie_df.Disney_Period != 'DREAMWORKS']\n",
    "ant_movies_dw = ant_movie_df[ant_movie_df.Disney_Period == 'DREAMWORKS']\n",
    "\n",
    "pro_movies_disney = pro_movie_df[pro_movie_df.Disney_Period != 'DREAMWORKS']\n",
    "pro_movies_dw = pro_movie_df[pro_movie_df.Disney_Period == 'DREAMWORKS']"
   ]
  },
  {
   "cell_type": "code",
   "execution_count": 65,
   "metadata": {},
   "outputs": [
    {
     "data": {
      "text/plain": [
       "Ttest_indResult(statistic=3.485318491992578, pvalue=0.0005020874766656302)"
      ]
     },
     "execution_count": 65,
     "metadata": {},
     "output_type": "execute_result"
    }
   ],
   "source": [
    "#Between antagonists in Disney and Dreamworks\n",
    "stats.ttest_ind(ant_movies_disney.Token_Count, ant_movies_dw.Token_Count, equal_var=False)"
   ]
  },
  {
   "cell_type": "code",
   "execution_count": 66,
   "metadata": {},
   "outputs": [
    {
     "data": {
      "text/plain": [
       "Ttest_indResult(statistic=-0.16553304513676656, pvalue=0.868530290732931)"
      ]
     },
     "execution_count": 66,
     "metadata": {},
     "output_type": "execute_result"
    }
   ],
   "source": [
    "#Between protagonists in Disney and Dreamworks\n",
    "stats.ttest_ind(pro_movies_disney.Token_Count, pro_movies_dw.Token_Count, equal_var=False)"
   ]
  },
  {
   "cell_type": "code",
   "execution_count": 67,
   "metadata": {},
   "outputs": [
    {
     "data": {
      "text/plain": [
       "Ttest_indResult(statistic=-4.166800416127634, pvalue=3.2215506266884984e-05)"
      ]
     },
     "execution_count": 67,
     "metadata": {},
     "output_type": "execute_result"
    }
   ],
   "source": [
    "#Between protagonists and antagonists in Disney\n",
    "stats.ttest_ind(pro_movies_disney.Token_Count, ant_movies_disney.Token_Count, equal_var=False)"
   ]
  },
  {
   "cell_type": "code",
   "execution_count": 68,
   "metadata": {},
   "outputs": [
    {
     "data": {
      "text/plain": [
       "Ttest_indResult(statistic=-0.2901875740549527, pvalue=0.7717081950509582)"
      ]
     },
     "execution_count": 68,
     "metadata": {},
     "output_type": "execute_result"
    }
   ],
   "source": [
    "#Between protagonists and antagonists in Dreamworks\n",
    "stats.ttest_ind(pro_movies_dw.Token_Count, ant_movies_dw.Token_Count, equal_var=False)"
   ]
  },
  {
   "cell_type": "markdown",
   "metadata": {},
   "source": [
    "There's a significant difference in how many tokens Disney and Dreamworks antagonists use (disney ones use more). Also, in Disney movies protagonists speak significantly fewer tokens than antagonists. This difference isn't significant in Dreamworks movies."
   ]
  },
  {
   "cell_type": "markdown",
   "metadata": {},
   "source": [
    "### Gender and Role\n",
    "Let's see if token or type count by line differs based on both role and gender"
   ]
  },
  {
   "cell_type": "code",
   "execution_count": 69,
   "metadata": {},
   "outputs": [],
   "source": [
    "movies_gen_role = movie_df[(movie_df.Gender != 'n') & (movie_df.Role != 'N')]"
   ]
  },
  {
   "cell_type": "code",
   "execution_count": 70,
   "metadata": {},
   "outputs": [],
   "source": [
    "pro_f_movies = movies_gen_role[(movies_gen_role.Gender == 'f') & (movies_gen_role.Role == 'PRO')]\n",
    "pro_m_movies = movies_gen_role[(movies_gen_role.Gender == 'm') & (movies_gen_role.Role == 'PRO')]\n",
    "\n",
    "ant_f_movies = movies_gen_role[(movies_gen_role.Gender == 'f') & (movies_gen_role.Role == 'ANT')]\n",
    "ant_m_movies = movies_gen_role[(movies_gen_role.Gender == 'm') & (movies_gen_role.Role == 'ANT')]"
   ]
  },
  {
   "cell_type": "code",
   "execution_count": 71,
   "metadata": {},
   "outputs": [
    {
     "data": {
      "text/plain": [
       "Ttest_indResult(statistic=-4.689197546723727, pvalue=2.8095641549224497e-06)"
      ]
     },
     "execution_count": 71,
     "metadata": {},
     "output_type": "execute_result"
    }
   ],
   "source": [
    "stats.ttest_ind(pro_f_movies.Token_Count, pro_m_movies.Token_Count, equal_var=False)"
   ]
  },
  {
   "cell_type": "code",
   "execution_count": 72,
   "metadata": {},
   "outputs": [
    {
     "data": {
      "text/plain": [
       "Ttest_indResult(statistic=1.9443693139361118, pvalue=0.05233678715267543)"
      ]
     },
     "execution_count": 72,
     "metadata": {},
     "output_type": "execute_result"
    }
   ],
   "source": [
    "stats.ttest_ind(ant_f_movies.Token_Count, ant_m_movies.Token_Count, equal_var=False)"
   ]
  },
  {
   "cell_type": "markdown",
   "metadata": {},
   "source": [
    "Female protagonists have significantly lower token counts per line than their male counterparts, but the same isn't true for female antagonists!"
   ]
  },
  {
   "cell_type": "code",
   "execution_count": 73,
   "metadata": {},
   "outputs": [
    {
     "data": {
      "text/plain": [
       "Ttest_indResult(statistic=-4.135851906611012, pvalue=4.0981566143233455e-05)"
      ]
     },
     "execution_count": 73,
     "metadata": {},
     "output_type": "execute_result"
    }
   ],
   "source": [
    "stats.ttest_ind(pro_f_movies.Token_Count, ant_f_movies.Token_Count, equal_var=False)"
   ]
  },
  {
   "cell_type": "code",
   "execution_count": 74,
   "metadata": {},
   "outputs": [
    {
     "data": {
      "text/plain": [
       "Ttest_indResult(statistic=-0.5338934710479438, pvalue=0.5934489750790087)"
      ]
     },
     "execution_count": 74,
     "metadata": {},
     "output_type": "execute_result"
    }
   ],
   "source": [
    "stats.ttest_ind(pro_m_movies.Token_Count, ant_m_movies.Token_Count, equal_var=False)"
   ]
  },
  {
   "cell_type": "markdown",
   "metadata": {},
   "source": [
    "Also, female protagonists use fewer tokens per line than their antagonist counterparts, but there's no significant difference between token counts per line for male protagonists and antagonists!"
   ]
  },
  {
   "cell_type": "markdown",
   "metadata": {},
   "source": [
    "### Total Token and Type Counts\n",
    "### Gender\n",
    "I decided to also look at these stats over all of the character's dialogue, to account for the short lines. Though a female character may have shorter lines per line, if she has more lines in the movie, this will be reflected by her total token and type counts\n",
    "\n",
    "#### Overall"
   ]
  },
  {
   "cell_type": "code",
   "execution_count": 75,
   "metadata": {},
   "outputs": [],
   "source": [
    "f_chars = char_df[char_df.Gender == 'f']\n",
    "m_chars = char_df[char_df.Gender == 'm']"
   ]
  },
  {
   "cell_type": "code",
   "execution_count": 76,
   "metadata": {},
   "outputs": [
    {
     "data": {
      "text/plain": [
       "Ttest_indResult(statistic=0.5818365410871014, pvalue=0.561135928401851)"
      ]
     },
     "execution_count": 76,
     "metadata": {},
     "output_type": "execute_result"
    }
   ],
   "source": [
    "stats.ttest_ind(f_chars.Total_Tok_Count, m_chars.Total_Tok_Count, equal_var = False)"
   ]
  },
  {
   "cell_type": "code",
   "execution_count": 77,
   "metadata": {},
   "outputs": [
    {
     "data": {
      "text/plain": [
       "Ttest_indResult(statistic=0.6666518458606242, pvalue=0.5055478790046386)"
      ]
     },
     "execution_count": 77,
     "metadata": {},
     "output_type": "execute_result"
    }
   ],
   "source": [
    "stats.ttest_ind(f_chars.Total_Type_Count, m_chars.Total_Type_Count, equal_var = False)"
   ]
  },
  {
   "cell_type": "markdown",
   "metadata": {},
   "source": [
    "#### Gender Over Time"
   ]
  },
  {
   "cell_type": "code",
   "execution_count": 78,
   "metadata": {},
   "outputs": [],
   "source": [
    "f_chars_early = f_chars[f_chars.Disney_Period == 'EARLY']\n",
    "m_chars_early = m_chars[m_chars.Disney_Period == 'EARLY']\n",
    "\n",
    "f_chars_mid = f_chars[f_chars.Disney_Period == 'MID']\n",
    "m_chars_mid = m_chars[m_chars.Disney_Period == 'MID']\n",
    "\n",
    "f_chars_late = f_chars[f_chars.Disney_Period == 'LATE']\n",
    "m_chars_late = m_chars[m_chars.Disney_Period == 'LATE']"
   ]
  },
  {
   "cell_type": "code",
   "execution_count": 79,
   "metadata": {},
   "outputs": [
    {
     "data": {
      "text/plain": [
       "F_onewayResult(statistic=0.7565014558817752, pvalue=0.4726744433906328)"
      ]
     },
     "execution_count": 79,
     "metadata": {},
     "output_type": "execute_result"
    }
   ],
   "source": [
    "# Comparing female Total Token Count over time\n",
    "stats.f_oneway(f_chars_early.Total_Tok_Count, f_chars_mid.Total_Tok_Count, f_chars_late.Total_Tok_Count)"
   ]
  },
  {
   "cell_type": "code",
   "execution_count": 80,
   "metadata": {},
   "outputs": [
    {
     "data": {
      "text/plain": [
       "Ttest_indResult(statistic=1.6710482736104724, pvalue=0.10402612605697355)"
      ]
     },
     "execution_count": 80,
     "metadata": {},
     "output_type": "execute_result"
    }
   ],
   "source": [
    "stats.ttest_ind(f_chars_early.Total_Tok_Count, f_chars_mid.Total_Tok_Count, equal_var=False)"
   ]
  },
  {
   "cell_type": "code",
   "execution_count": 81,
   "metadata": {},
   "outputs": [
    {
     "data": {
      "text/plain": [
       "Ttest_indResult(statistic=0.36220205774072417, pvalue=0.7186796184083162)"
      ]
     },
     "execution_count": 81,
     "metadata": {},
     "output_type": "execute_result"
    }
   ],
   "source": [
    "stats.ttest_ind(f_chars_early.Total_Tok_Count, f_chars_late.Total_Tok_Count, equal_var=False)"
   ]
  },
  {
   "cell_type": "code",
   "execution_count": 82,
   "metadata": {},
   "outputs": [
    {
     "data": {
      "text/plain": [
       "Ttest_indResult(statistic=-1.053741737065515, pvalue=0.296237093244603)"
      ]
     },
     "execution_count": 82,
     "metadata": {},
     "output_type": "execute_result"
    }
   ],
   "source": [
    "stats.ttest_ind(f_chars_mid.Total_Tok_Count, f_chars_late.Total_Tok_Count, equal_var=False)"
   ]
  },
  {
   "cell_type": "markdown",
   "metadata": {},
   "source": [
    "In terms of total token counts, there's no significant different over time for female speakers."
   ]
  },
  {
   "cell_type": "code",
   "execution_count": 83,
   "metadata": {},
   "outputs": [
    {
     "data": {
      "text/plain": [
       "F_onewayResult(statistic=0.4556460162458111, pvalue=0.6346665542997648)"
      ]
     },
     "execution_count": 83,
     "metadata": {},
     "output_type": "execute_result"
    }
   ],
   "source": [
    "# Comparing Male Total Token Count Over Time\n",
    "stats.f_oneway(m_chars_early.Total_Tok_Count, m_chars_mid.Total_Tok_Count, m_chars_late.Total_Tok_Count)"
   ]
  },
  {
   "cell_type": "code",
   "execution_count": 84,
   "metadata": {},
   "outputs": [
    {
     "data": {
      "text/plain": [
       "Ttest_indResult(statistic=-0.9457421468179764, pvalue=0.3467974076518153)"
      ]
     },
     "execution_count": 84,
     "metadata": {},
     "output_type": "execute_result"
    }
   ],
   "source": [
    "stats.ttest_ind(m_chars_early.Total_Tok_Count, m_chars_mid.Total_Tok_Count, equal_var=False)"
   ]
  },
  {
   "cell_type": "code",
   "execution_count": 85,
   "metadata": {},
   "outputs": [
    {
     "data": {
      "text/plain": [
       "Ttest_indResult(statistic=-0.03922467420677105, pvalue=0.96878796152072)"
      ]
     },
     "execution_count": 85,
     "metadata": {},
     "output_type": "execute_result"
    }
   ],
   "source": [
    "stats.ttest_ind(m_chars_early.Total_Tok_Count, m_chars_late.Total_Tok_Count, equal_var=False)"
   ]
  },
  {
   "cell_type": "code",
   "execution_count": 86,
   "metadata": {},
   "outputs": [
    {
     "data": {
      "text/plain": [
       "Ttest_indResult(statistic=0.8212002791912885, pvalue=0.41268728447936076)"
      ]
     },
     "execution_count": 86,
     "metadata": {},
     "output_type": "execute_result"
    }
   ],
   "source": [
    "stats.ttest_ind(m_chars_mid.Total_Tok_Count, m_chars_late.Total_Tok_Count, equal_var=False)"
   ]
  },
  {
   "cell_type": "markdown",
   "metadata": {},
   "source": [
    "Again, no significant difference in total token count over time for men."
   ]
  },
  {
   "cell_type": "code",
   "execution_count": 87,
   "metadata": {},
   "outputs": [
    {
     "data": {
      "text/plain": [
       "Ttest_indResult(statistic=-2.7989846132472493, pvalue=0.010407023906466407)"
      ]
     },
     "execution_count": 87,
     "metadata": {},
     "output_type": "execute_result"
    }
   ],
   "source": [
    "#Comparing Male and Female total token counts w/in each era\n",
    "stats.ttest_ind(m_chars_early.Total_Tok_Count, f_chars_early.Total_Tok_Count, equal_var=False)"
   ]
  },
  {
   "cell_type": "code",
   "execution_count": 88,
   "metadata": {},
   "outputs": [
    {
     "data": {
      "text/plain": [
       "Ttest_indResult(statistic=-0.3940422821058243, pvalue=0.6955651444998084)"
      ]
     },
     "execution_count": 88,
     "metadata": {},
     "output_type": "execute_result"
    }
   ],
   "source": [
    "stats.ttest_ind(m_chars_mid.Total_Tok_Count, f_chars_mid.Total_Tok_Count, equal_var=False)"
   ]
  },
  {
   "cell_type": "code",
   "execution_count": 89,
   "metadata": {},
   "outputs": [
    {
     "data": {
      "text/plain": [
       "Ttest_indResult(statistic=-1.823479812519496, pvalue=0.0740212180895443)"
      ]
     },
     "execution_count": 89,
     "metadata": {},
     "output_type": "execute_result"
    }
   ],
   "source": [
    "stats.ttest_ind(m_chars_late.Total_Tok_Count, f_chars_late.Total_Tok_Count, equal_var=False)"
   ]
  },
  {
   "cell_type": "markdown",
   "metadata": {},
   "source": [
    "In each era, men have fewer total tokens than women, but this difference is only significant in the earliest era."
   ]
  },
  {
   "cell_type": "code",
   "execution_count": 90,
   "metadata": {},
   "outputs": [
    {
     "data": {
      "text/plain": [
       "F_onewayResult(statistic=1.2877171787064285, pvalue=0.2816268170693461)"
      ]
     },
     "execution_count": 90,
     "metadata": {},
     "output_type": "execute_result"
    }
   ],
   "source": [
    "# Comparing female Total Type Count over time\n",
    "stats.f_oneway(f_chars_early.Total_Type_Count, f_chars_mid.Total_Type_Count, f_chars_late.Total_Type_Count)"
   ]
  },
  {
   "cell_type": "code",
   "execution_count": 91,
   "metadata": {},
   "outputs": [
    {
     "data": {
      "text/plain": [
       "Ttest_indResult(statistic=2.0384464207932558, pvalue=0.049488192282371564)"
      ]
     },
     "execution_count": 91,
     "metadata": {},
     "output_type": "execute_result"
    }
   ],
   "source": [
    "stats.ttest_ind(f_chars_early.Total_Type_Count, f_chars_mid.Total_Type_Count, equal_var=False)"
   ]
  },
  {
   "cell_type": "code",
   "execution_count": 92,
   "metadata": {},
   "outputs": [
    {
     "data": {
      "text/plain": [
       "Ttest_indResult(statistic=1.3087484145681199, pvalue=0.19724244472499755)"
      ]
     },
     "execution_count": 92,
     "metadata": {},
     "output_type": "execute_result"
    }
   ],
   "source": [
    "stats.ttest_ind(f_chars_early.Total_Type_Count, f_chars_late.Total_Type_Count, equal_var=False)"
   ]
  },
  {
   "cell_type": "code",
   "execution_count": 93,
   "metadata": {},
   "outputs": [
    {
     "data": {
      "text/plain": [
       "Ttest_indResult(statistic=-0.5741075157578277, pvalue=0.567943133125478)"
      ]
     },
     "execution_count": 93,
     "metadata": {},
     "output_type": "execute_result"
    }
   ],
   "source": [
    "stats.ttest_ind(f_chars_mid.Total_Type_Count, f_chars_late.Total_Type_Count, equal_var=False)"
   ]
  },
  {
   "cell_type": "markdown",
   "metadata": {},
   "source": [
    "Like token count, total female type count isn't significantly different across time except for between the early and mid era."
   ]
  },
  {
   "cell_type": "code",
   "execution_count": 94,
   "metadata": {},
   "outputs": [
    {
     "data": {
      "text/plain": [
       "F_onewayResult(statistic=0.8193868326261027, pvalue=0.4421124083605513)"
      ]
     },
     "execution_count": 94,
     "metadata": {},
     "output_type": "execute_result"
    }
   ],
   "source": [
    "# Comparing Male Total Type Count Over Time\n",
    "stats.f_oneway(m_chars_early.Total_Type_Count, m_chars_mid.Total_Type_Count, m_chars_late.Total_Type_Count)"
   ]
  },
  {
   "cell_type": "code",
   "execution_count": 95,
   "metadata": {},
   "outputs": [
    {
     "data": {
      "text/plain": [
       "Ttest_indResult(statistic=-0.6502045831434937, pvalue=0.517665071901952)"
      ]
     },
     "execution_count": 95,
     "metadata": {},
     "output_type": "execute_result"
    }
   ],
   "source": [
    "stats.ttest_ind(m_chars_early.Total_Type_Count, m_chars_mid.Total_Type_Count, equal_var=False)"
   ]
  },
  {
   "cell_type": "code",
   "execution_count": 96,
   "metadata": {},
   "outputs": [
    {
     "data": {
      "text/plain": [
       "Ttest_indResult(statistic=0.46220112394368235, pvalue=0.6452486919034337)"
      ]
     },
     "execution_count": 96,
     "metadata": {},
     "output_type": "execute_result"
    }
   ],
   "source": [
    "stats.ttest_ind(m_chars_early.Total_Type_Count, m_chars_late.Total_Type_Count, equal_var=False)"
   ]
  },
  {
   "cell_type": "code",
   "execution_count": 97,
   "metadata": {},
   "outputs": [
    {
     "data": {
      "text/plain": [
       "Ttest_indResult(statistic=1.2272732790040868, pvalue=0.22136747154684625)"
      ]
     },
     "execution_count": 97,
     "metadata": {},
     "output_type": "execute_result"
    }
   ],
   "source": [
    "stats.ttest_ind(m_chars_mid.Total_Type_Count, m_chars_late.Total_Type_Count, equal_var=False)"
   ]
  },
  {
   "cell_type": "markdown",
   "metadata": {},
   "source": [
    "No significant difference here either."
   ]
  },
  {
   "cell_type": "code",
   "execution_count": 98,
   "metadata": {},
   "outputs": [
    {
     "data": {
      "text/plain": [
       "Ttest_indResult(statistic=-2.855637599373463, pvalue=0.00824262780343056)"
      ]
     },
     "execution_count": 98,
     "metadata": {},
     "output_type": "execute_result"
    }
   ],
   "source": [
    "#Comparing Male and Female Total type counts w/in each era\n",
    "stats.ttest_ind(m_chars_early.Total_Type_Count, f_chars_early.Total_Type_Count, equal_var=False)"
   ]
  },
  {
   "cell_type": "code",
   "execution_count": 99,
   "metadata": {},
   "outputs": [
    {
     "data": {
      "text/plain": [
       "Ttest_indResult(statistic=-0.25617166334484504, pvalue=0.7990317299283365)"
      ]
     },
     "execution_count": 99,
     "metadata": {},
     "output_type": "execute_result"
    }
   ],
   "source": [
    "stats.ttest_ind(m_chars_mid.Total_Type_Count, f_chars_mid.Total_Type_Count, equal_var=False)"
   ]
  },
  {
   "cell_type": "code",
   "execution_count": 100,
   "metadata": {},
   "outputs": [
    {
     "data": {
      "text/plain": [
       "Ttest_indResult(statistic=-1.5908769966422909, pvalue=0.11717183933557054)"
      ]
     },
     "execution_count": 100,
     "metadata": {},
     "output_type": "execute_result"
    }
   ],
   "source": [
    "stats.ttest_ind(m_chars_late.Total_Type_Count, f_chars_late.Total_Type_Count, equal_var=False)"
   ]
  },
  {
   "cell_type": "markdown",
   "metadata": {},
   "source": [
    "The only significant difference here is in the early era, when men used significantly fewer types than women."
   ]
  },
  {
   "cell_type": "markdown",
   "metadata": {},
   "source": [
    "#### Gender Across Companies"
   ]
  },
  {
   "cell_type": "code",
   "execution_count": 101,
   "metadata": {},
   "outputs": [],
   "source": [
    "f_chars_disney = f_chars[f_chars.Disney_Period != 'DREAMWORKS']\n",
    "f_chars_dw = f_chars[f_chars.Disney_Period == 'DREAMWORKS']\n",
    "\n",
    "m_chars_disney = m_chars[m_chars.Disney_Period != 'DREAMWORKS']\n",
    "m_chars_dw = m_chars[m_chars.Disney_Period == 'DREAMWORKS']"
   ]
  },
  {
   "cell_type": "code",
   "execution_count": 102,
   "metadata": {},
   "outputs": [
    {
     "data": {
      "text/plain": [
       "Ttest_indResult(statistic=-2.500539732650887, pvalue=0.0138384192484122)"
      ]
     },
     "execution_count": 102,
     "metadata": {},
     "output_type": "execute_result"
    }
   ],
   "source": [
    "## Between male and female characters is disney films\n",
    "stats.ttest_ind(m_chars_disney.Total_Tok_Count, f_chars_disney.Total_Tok_Count, equal_var=False)"
   ]
  },
  {
   "cell_type": "code",
   "execution_count": 103,
   "metadata": {},
   "outputs": [
    {
     "data": {
      "text/plain": [
       "Ttest_indResult(statistic=2.22412198514079, pvalue=0.027319709654615342)"
      ]
     },
     "execution_count": 103,
     "metadata": {},
     "output_type": "execute_result"
    }
   ],
   "source": [
    "## Between male and female characters in Dreamworks Films\n",
    "stats.ttest_ind(m_chars_dw.Total_Tok_Count, f_chars_dw.Total_Tok_Count, equal_var=False)"
   ]
  },
  {
   "cell_type": "markdown",
   "metadata": {},
   "source": [
    "While in Disney, men have a significanlty lower total token count, in Dreamworks men have a significantly higher total token count."
   ]
  },
  {
   "cell_type": "code",
   "execution_count": 104,
   "metadata": {},
   "outputs": [
    {
     "data": {
      "text/plain": [
       "Ttest_indResult(statistic=-2.677337304360268, pvalue=0.008055329898577386)"
      ]
     },
     "execution_count": 104,
     "metadata": {},
     "output_type": "execute_result"
    }
   ],
   "source": [
    "## Between male characters in Dreamworks and Disney\n",
    "stats.ttest_ind(m_chars_disney.Total_Tok_Count, m_chars_dw.Total_Tok_Count, equal_var=False)"
   ]
  },
  {
   "cell_type": "code",
   "execution_count": 105,
   "metadata": {},
   "outputs": [
    {
     "data": {
      "text/plain": [
       "Ttest_indResult(statistic=2.0720465303105766, pvalue=0.04014661347462381)"
      ]
     },
     "execution_count": 105,
     "metadata": {},
     "output_type": "execute_result"
    }
   ],
   "source": [
    "## Between female characters in Dreamworks and Disney\n",
    "stats.ttest_ind(f_chars_disney.Total_Tok_Count, f_chars_dw.Total_Tok_Count, equal_var=False)"
   ]
  },
  {
   "cell_type": "markdown",
   "metadata": {},
   "source": [
    "Male disney characters have fewer total tokens than male dreamworks characters, but female disney characters have more total tokens than female dreamworks characters."
   ]
  },
  {
   "cell_type": "markdown",
   "metadata": {},
   "source": [
    "### Role\n",
    "#### Overall"
   ]
  },
  {
   "cell_type": "code",
   "execution_count": 106,
   "metadata": {},
   "outputs": [],
   "source": [
    "pro_chars = char_df[char_df.Role == 'PRO']\n",
    "ant_chars = char_df[char_df.Role == 'ANT']\n",
    "helper_chars = char_df[char_df.Role == 'HELPER']"
   ]
  },
  {
   "cell_type": "code",
   "execution_count": 107,
   "metadata": {},
   "outputs": [
    {
     "data": {
      "text/plain": [
       "Ttest_indResult(statistic=5.5464379433307505, pvalue=4.987476883049536e-07)"
      ]
     },
     "execution_count": 107,
     "metadata": {},
     "output_type": "execute_result"
    }
   ],
   "source": [
    "stats.ttest_ind(pro_chars.Total_Tok_Count, ant_chars.Total_Tok_Count, equal_var = False)"
   ]
  },
  {
   "cell_type": "code",
   "execution_count": 108,
   "metadata": {},
   "outputs": [
    {
     "data": {
      "text/plain": [
       "Ttest_indResult(statistic=4.7940373205004505, pvalue=7.225031831766566e-06)"
      ]
     },
     "execution_count": 108,
     "metadata": {},
     "output_type": "execute_result"
    }
   ],
   "source": [
    "stats.ttest_ind(pro_chars.Total_Type_Count, ant_chars.Total_Type_Count, equal_var = False)"
   ]
  },
  {
   "cell_type": "markdown",
   "metadata": {},
   "source": [
    "Overall, there do seem to be significant differences in total token counts and type counts based on role, with protagonists having significantly shorter lines\n",
    "\n",
    "#### Role Over Time"
   ]
  },
  {
   "cell_type": "code",
   "execution_count": 109,
   "metadata": {},
   "outputs": [],
   "source": [
    "pro_chars_early = pro_chars[pro_chars.Disney_Period == 'EARLY']\n",
    "pro_chars_mid = pro_chars[pro_chars.Disney_Period == 'MID']\n",
    "pro_chars_late = pro_chars[pro_chars.Disney_Period == 'LATE']\n",
    "\n",
    "ant_chars_early = ant_chars[ant_chars.Disney_Period == 'EARLY']\n",
    "ant_chars_mid = ant_chars[ant_chars.Disney_Period == 'MID']\n",
    "ant_chars_late = ant_chars[ant_chars.Disney_Period == 'LATE']"
   ]
  },
  {
   "cell_type": "code",
   "execution_count": 110,
   "metadata": {},
   "outputs": [
    {
     "data": {
      "text/plain": [
       "F_onewayResult(statistic=1.398516240527042, pvalue=0.2616521552658346)"
      ]
     },
     "execution_count": 110,
     "metadata": {},
     "output_type": "execute_result"
    }
   ],
   "source": [
    "# Comparing Protagonist Token Count over time\n",
    "stats.f_oneway(pro_chars_early.Total_Tok_Count, pro_chars_mid.Total_Tok_Count, pro_chars_late.Total_Tok_Count)"
   ]
  },
  {
   "cell_type": "code",
   "execution_count": 111,
   "metadata": {},
   "outputs": [
    {
     "data": {
      "text/plain": [
       "Ttest_indResult(statistic=-1.4143696959464174, pvalue=0.189107798145821)"
      ]
     },
     "execution_count": 111,
     "metadata": {},
     "output_type": "execute_result"
    }
   ],
   "source": [
    "stats.ttest_ind(pro_chars_early.Total_Tok_Count, pro_chars_mid.Total_Tok_Count, equal_var=False)"
   ]
  },
  {
   "cell_type": "code",
   "execution_count": 112,
   "metadata": {},
   "outputs": [
    {
     "data": {
      "text/plain": [
       "Ttest_indResult(statistic=-1.9117645485336412, pvalue=0.07228397238910902)"
      ]
     },
     "execution_count": 112,
     "metadata": {},
     "output_type": "execute_result"
    }
   ],
   "source": [
    "stats.ttest_ind(pro_chars_early.Total_Tok_Count, pro_chars_late.Total_Tok_Count, equal_var=False)"
   ]
  },
  {
   "cell_type": "code",
   "execution_count": 113,
   "metadata": {},
   "outputs": [
    {
     "data": {
      "text/plain": [
       "Ttest_indResult(statistic=-0.9244706698901672, pvalue=0.36432540920568823)"
      ]
     },
     "execution_count": 113,
     "metadata": {},
     "output_type": "execute_result"
    }
   ],
   "source": [
    "stats.ttest_ind(pro_chars_mid.Total_Tok_Count, pro_chars_late.Total_Tok_Count, equal_var=False)"
   ]
  },
  {
   "cell_type": "markdown",
   "metadata": {},
   "source": [
    "Protagonist total token count hasn't changed significantly over time"
   ]
  },
  {
   "cell_type": "code",
   "execution_count": 114,
   "metadata": {},
   "outputs": [
    {
     "data": {
      "text/plain": [
       "F_onewayResult(statistic=1.965322020955908, pvalue=0.1519534577399305)"
      ]
     },
     "execution_count": 114,
     "metadata": {},
     "output_type": "execute_result"
    }
   ],
   "source": [
    "# Comparing Antagonist Total Token Count Over Time\n",
    "stats.f_oneway(ant_chars_early.Total_Tok_Count, ant_chars_mid.Total_Tok_Count, ant_chars_late.Total_Tok_Count)"
   ]
  },
  {
   "cell_type": "code",
   "execution_count": 115,
   "metadata": {},
   "outputs": [
    {
     "data": {
      "text/plain": [
       "Ttest_indResult(statistic=0.7503327647729069, pvalue=0.4656306038134109)"
      ]
     },
     "execution_count": 115,
     "metadata": {},
     "output_type": "execute_result"
    }
   ],
   "source": [
    "stats.ttest_ind(ant_chars_early.Total_Tok_Count, ant_chars_mid.Total_Tok_Count, equal_var=False)"
   ]
  },
  {
   "cell_type": "code",
   "execution_count": 116,
   "metadata": {},
   "outputs": [
    {
     "data": {
      "text/plain": [
       "Ttest_indResult(statistic=-0.9265514121928716, pvalue=0.3664334726074592)"
      ]
     },
     "execution_count": 116,
     "metadata": {},
     "output_type": "execute_result"
    }
   ],
   "source": [
    "stats.ttest_ind(ant_chars_early.Total_Tok_Count, ant_chars_late.Total_Tok_Count, equal_var=False)"
   ]
  },
  {
   "cell_type": "code",
   "execution_count": 117,
   "metadata": {},
   "outputs": [
    {
     "data": {
      "text/plain": [
       "Ttest_indResult(statistic=-1.821989145568108, pvalue=0.08704101024606539)"
      ]
     },
     "execution_count": 117,
     "metadata": {},
     "output_type": "execute_result"
    }
   ],
   "source": [
    "stats.ttest_ind(ant_chars_mid.Total_Tok_Count, ant_chars_late.Total_Tok_Count, equal_var=False)"
   ]
  },
  {
   "cell_type": "markdown",
   "metadata": {},
   "source": [
    "Total token counts have not changed significanlty over time for antagonists."
   ]
  },
  {
   "cell_type": "code",
   "execution_count": 118,
   "metadata": {},
   "outputs": [
    {
     "data": {
      "text/plain": [
       "Ttest_indResult(statistic=-0.6753758994010711, pvalue=0.5202276886839079)"
      ]
     },
     "execution_count": 118,
     "metadata": {},
     "output_type": "execute_result"
    }
   ],
   "source": [
    "#Comparing Pros and Ants token counts w/in each era\n",
    "stats.ttest_ind(ant_chars_early.Total_Tok_Count, pro_chars_early.Total_Tok_Count, equal_var=False)"
   ]
  },
  {
   "cell_type": "code",
   "execution_count": 119,
   "metadata": {},
   "outputs": [
    {
     "data": {
      "text/plain": [
       "Ttest_indResult(statistic=-3.980850068857966, pvalue=0.001204907399219454)"
      ]
     },
     "execution_count": 119,
     "metadata": {},
     "output_type": "execute_result"
    }
   ],
   "source": [
    "stats.ttest_ind(ant_chars_mid.Total_Tok_Count, pro_chars_mid.Total_Tok_Count, equal_var=False)"
   ]
  },
  {
   "cell_type": "code",
   "execution_count": 120,
   "metadata": {},
   "outputs": [
    {
     "data": {
      "text/plain": [
       "Ttest_indResult(statistic=-2.3802152393344005, pvalue=0.026600053559682094)"
      ]
     },
     "execution_count": 120,
     "metadata": {},
     "output_type": "execute_result"
    }
   ],
   "source": [
    "stats.ttest_ind(ant_chars_late.Total_Tok_Count, pro_chars_late.Total_Tok_Count, equal_var=False)"
   ]
  },
  {
   "cell_type": "markdown",
   "metadata": {},
   "source": [
    "In all eras, antagonists have more total tokens than protagonists, but this difference is only significant in the middle and late periods."
   ]
  },
  {
   "cell_type": "code",
   "execution_count": 121,
   "metadata": {},
   "outputs": [
    {
     "data": {
      "text/plain": [
       "F_onewayResult(statistic=1.0127044089686985, pvalue=0.3745812385412033)"
      ]
     },
     "execution_count": 121,
     "metadata": {},
     "output_type": "execute_result"
    }
   ],
   "source": [
    "# Comparing protagonist Total Type Count over time\n",
    "stats.f_oneway(pro_chars_early.Total_Type_Count, pro_chars_mid.Total_Type_Count, pro_chars_late.Total_Type_Count)"
   ]
  },
  {
   "cell_type": "code",
   "execution_count": 122,
   "metadata": {},
   "outputs": [
    {
     "data": {
      "text/plain": [
       "Ttest_indResult(statistic=-1.6311702476684713, pvalue=0.13954133765393995)"
      ]
     },
     "execution_count": 122,
     "metadata": {},
     "output_type": "execute_result"
    }
   ],
   "source": [
    "stats.ttest_ind(pro_chars_early.Total_Type_Count, pro_chars_mid.Total_Type_Count, equal_var=False)"
   ]
  },
  {
   "cell_type": "code",
   "execution_count": 123,
   "metadata": {},
   "outputs": [
    {
     "data": {
      "text/plain": [
       "Ttest_indResult(statistic=-1.6051707473003827, pvalue=0.12728491170541695)"
      ]
     },
     "execution_count": 123,
     "metadata": {},
     "output_type": "execute_result"
    }
   ],
   "source": [
    "stats.ttest_ind(pro_chars_early.Total_Type_Count, pro_chars_late.Total_Type_Count, equal_var=False)"
   ]
  },
  {
   "cell_type": "code",
   "execution_count": 124,
   "metadata": {},
   "outputs": [
    {
     "data": {
      "text/plain": [
       "Ttest_indResult(statistic=-0.4001939965138298, pvalue=0.6926291756780809)"
      ]
     },
     "execution_count": 124,
     "metadata": {},
     "output_type": "execute_result"
    }
   ],
   "source": [
    "stats.ttest_ind(pro_chars_mid.Total_Type_Count, pro_chars_late.Total_Type_Count, equal_var=False)"
   ]
  },
  {
   "cell_type": "markdown",
   "metadata": {},
   "source": [
    "There's no significant difference between protagonist total type count across eras."
   ]
  },
  {
   "cell_type": "code",
   "execution_count": 125,
   "metadata": {},
   "outputs": [
    {
     "data": {
      "text/plain": [
       "F_onewayResult(statistic=2.278641987658419, pvalue=0.11412029570700565)"
      ]
     },
     "execution_count": 125,
     "metadata": {},
     "output_type": "execute_result"
    }
   ],
   "source": [
    "# Comparing Antagonist Total Type Count Over Time\n",
    "stats.f_oneway(ant_chars_early.Total_Type_Count, ant_chars_mid.Total_Type_Count, ant_chars_late.Total_Type_Count)"
   ]
  },
  {
   "cell_type": "code",
   "execution_count": 126,
   "metadata": {},
   "outputs": [
    {
     "data": {
      "text/plain": [
       "Ttest_indResult(statistic=0.8569156141966944, pvalue=0.40686196373696526)"
      ]
     },
     "execution_count": 126,
     "metadata": {},
     "output_type": "execute_result"
    }
   ],
   "source": [
    "stats.ttest_ind(ant_chars_early.Total_Type_Count, ant_chars_mid.Total_Type_Count, equal_var=False)"
   ]
  },
  {
   "cell_type": "code",
   "execution_count": 127,
   "metadata": {},
   "outputs": [
    {
     "data": {
      "text/plain": [
       "Ttest_indResult(statistic=-0.9088485557336637, pvalue=0.37602356135550985)"
      ]
     },
     "execution_count": 127,
     "metadata": {},
     "output_type": "execute_result"
    }
   ],
   "source": [
    "stats.ttest_ind(ant_chars_early.Total_Type_Count, ant_chars_late.Total_Type_Count, equal_var=False)"
   ]
  },
  {
   "cell_type": "code",
   "execution_count": 128,
   "metadata": {},
   "outputs": [
    {
     "data": {
      "text/plain": [
       "Ttest_indResult(statistic=-2.094113391130965, pvalue=0.05076353895724402)"
      ]
     },
     "execution_count": 128,
     "metadata": {},
     "output_type": "execute_result"
    }
   ],
   "source": [
    "stats.ttest_ind(ant_chars_mid.Total_Type_Count, ant_chars_late.Total_Type_Count, equal_var=False)"
   ]
  },
  {
   "cell_type": "markdown",
   "metadata": {},
   "source": [
    "Antagonist total type counts aren't significantly different over time."
   ]
  },
  {
   "cell_type": "code",
   "execution_count": 129,
   "metadata": {},
   "outputs": [
    {
     "data": {
      "text/plain": [
       "Ttest_indResult(statistic=0.1820044756588397, pvalue=0.8593034431524984)"
      ]
     },
     "execution_count": 129,
     "metadata": {},
     "output_type": "execute_result"
    }
   ],
   "source": [
    "#Comparing Protagonist and Antagonist total type counts w/in each era\n",
    "stats.ttest_ind(pro_chars_early.Total_Type_Count, ant_chars_early.Total_Type_Count, equal_var=False)"
   ]
  },
  {
   "cell_type": "code",
   "execution_count": 130,
   "metadata": {},
   "outputs": [
    {
     "data": {
      "text/plain": [
       "Ttest_indResult(statistic=4.03442086377755, pvalue=0.0005782591496875579)"
      ]
     },
     "execution_count": 130,
     "metadata": {},
     "output_type": "execute_result"
    }
   ],
   "source": [
    "stats.ttest_ind(pro_chars_mid.Total_Type_Count, ant_chars_mid.Total_Type_Count, equal_var=False)"
   ]
  },
  {
   "cell_type": "code",
   "execution_count": 131,
   "metadata": {},
   "outputs": [
    {
     "data": {
      "text/plain": [
       "Ttest_indResult(statistic=1.372054322578563, pvalue=0.18261046281460055)"
      ]
     },
     "execution_count": 131,
     "metadata": {},
     "output_type": "execute_result"
    }
   ],
   "source": [
    "stats.ttest_ind(pro_chars_late.Total_Type_Count, ant_chars_late.Total_Type_Count, equal_var=False)"
   ]
  },
  {
   "cell_type": "markdown",
   "metadata": {},
   "source": [
    "We see protagonists speak significantly fewer types per line than antagonists do in the middle period. This difference is not strong in other periods.\n",
    "\n",
    "#### Roles Across Companies"
   ]
  },
  {
   "cell_type": "code",
   "execution_count": 132,
   "metadata": {},
   "outputs": [],
   "source": [
    "ant_chars_disney = ant_chars[ant_chars.Disney_Period != 'DREAMWORKS']\n",
    "ant_chars_dw = ant_chars[ant_chars.Disney_Period == 'DREAMWORKS']\n",
    "\n",
    "pro_chars_disney = pro_chars[pro_chars.Disney_Period != 'DREAMWORKS']\n",
    "pro_chars_dw = pro_chars[pro_chars.Disney_Period == 'DREAMWORKS']"
   ]
  },
  {
   "cell_type": "code",
   "execution_count": 133,
   "metadata": {},
   "outputs": [
    {
     "data": {
      "text/plain": [
       "Ttest_indResult(statistic=-1.319365341370763, pvalue=0.20050283315545955)"
      ]
     },
     "execution_count": 133,
     "metadata": {},
     "output_type": "execute_result"
    }
   ],
   "source": [
    "#Between antagonists in Disney and Dreamworks\n",
    "stats.ttest_ind(ant_chars_disney.Total_Tok_Count, ant_chars_dw.Total_Tok_Count, equal_var=False)"
   ]
  },
  {
   "cell_type": "code",
   "execution_count": 134,
   "metadata": {},
   "outputs": [
    {
     "data": {
      "text/plain": [
       "Ttest_indResult(statistic=-2.4066727724213672, pvalue=0.023034529483623306)"
      ]
     },
     "execution_count": 134,
     "metadata": {},
     "output_type": "execute_result"
    }
   ],
   "source": [
    "#Between protagonists in Disney and Dreamworks\n",
    "stats.ttest_ind(pro_chars_disney.Total_Tok_Count, pro_chars_dw.Total_Tok_Count, equal_var=False)"
   ]
  },
  {
   "cell_type": "code",
   "execution_count": 135,
   "metadata": {},
   "outputs": [
    {
     "data": {
      "text/plain": [
       "Ttest_indResult(statistic=4.163468947239521, pvalue=0.0001513498117997193)"
      ]
     },
     "execution_count": 135,
     "metadata": {},
     "output_type": "execute_result"
    }
   ],
   "source": [
    "#Between protagonists and antagonists in Disney\n",
    "stats.ttest_ind(pro_chars_disney.Total_Tok_Count, ant_chars_disney.Total_Tok_Count, equal_var=False)"
   ]
  },
  {
   "cell_type": "code",
   "execution_count": 136,
   "metadata": {},
   "outputs": [
    {
     "data": {
      "text/plain": [
       "Ttest_indResult(statistic=3.8163881880334496, pvalue=0.0007154369960454306)"
      ]
     },
     "execution_count": 136,
     "metadata": {},
     "output_type": "execute_result"
    }
   ],
   "source": [
    "#Between protagonists and antagonists in Dreamworks\n",
    "stats.ttest_ind(pro_chars_dw.Total_Tok_Count, ant_chars_dw.Total_Tok_Count, equal_var=False)"
   ]
  },
  {
   "cell_type": "markdown",
   "metadata": {},
   "source": [
    "There isn't a significant difference in how many total tokens Disney and Dreamworks antagonists use, but there is for protagonists (with disney protagonists speaking less). Also, in Disney and Dreamworks movies protagonists speak significantly more total tokens than antagonists."
   ]
  },
  {
   "cell_type": "markdown",
   "metadata": {},
   "source": [
    "### Gender and Role\n",
    "Let's see if token or type count by line differs based on both role and gender"
   ]
  },
  {
   "cell_type": "code",
   "execution_count": 137,
   "metadata": {},
   "outputs": [],
   "source": [
    "chars_gen_role = char_df[(char_df.Gender != 'n') & (char_df.Role != 'N')]"
   ]
  },
  {
   "cell_type": "code",
   "execution_count": 138,
   "metadata": {},
   "outputs": [],
   "source": [
    "pro_f_chars = chars_gen_role[(chars_gen_role.Gender == 'f') & (chars_gen_role.Role == 'PRO')]\n",
    "pro_m_chars = chars_gen_role[(chars_gen_role.Gender == 'm') & (chars_gen_role.Role == 'PRO')]\n",
    "\n",
    "ant_f_chars = chars_gen_role[(chars_gen_role.Gender == 'f') & (chars_gen_role.Role == 'ANT')]\n",
    "ant_m_chars = chars_gen_role[(chars_gen_role.Gender == 'm') & (chars_gen_role.Role == 'ANT')]"
   ]
  },
  {
   "cell_type": "code",
   "execution_count": 139,
   "metadata": {},
   "outputs": [
    {
     "data": {
      "text/plain": [
       "Ttest_indResult(statistic=-2.3036127017888, pvalue=0.026241552523793867)"
      ]
     },
     "execution_count": 139,
     "metadata": {},
     "output_type": "execute_result"
    }
   ],
   "source": [
    "stats.ttest_ind(pro_f_chars.Total_Tok_Count, pro_m_chars.Total_Tok_Count, equal_var=False)"
   ]
  },
  {
   "cell_type": "code",
   "execution_count": 140,
   "metadata": {},
   "outputs": [
    {
     "data": {
      "text/plain": [
       "Ttest_indResult(statistic=1.1952359203652967, pvalue=0.24708253417281606)"
      ]
     },
     "execution_count": 140,
     "metadata": {},
     "output_type": "execute_result"
    }
   ],
   "source": [
    "stats.ttest_ind(ant_f_chars.Total_Tok_Count, ant_m_chars.Total_Tok_Count, equal_var=False)"
   ]
  },
  {
   "cell_type": "markdown",
   "metadata": {},
   "source": [
    "Female protagonists have significantly lower total token counts than their male counterparts, but the same isn't true for female antagonists!"
   ]
  },
  {
   "cell_type": "code",
   "execution_count": 141,
   "metadata": {},
   "outputs": [
    {
     "data": {
      "text/plain": [
       "Ttest_indResult(statistic=2.206418621224415, pvalue=0.03382223433757088)"
      ]
     },
     "execution_count": 141,
     "metadata": {},
     "output_type": "execute_result"
    }
   ],
   "source": [
    "stats.ttest_ind(pro_f_chars.Total_Tok_Count, ant_f_chars.Total_Tok_Count, equal_var=False)"
   ]
  },
  {
   "cell_type": "code",
   "execution_count": 142,
   "metadata": {},
   "outputs": [
    {
     "data": {
      "text/plain": [
       "Ttest_indResult(statistic=5.105537679404112, pvalue=2.0838970182158358e-05)"
      ]
     },
     "execution_count": 142,
     "metadata": {},
     "output_type": "execute_result"
    }
   ],
   "source": [
    "stats.ttest_ind(pro_m_chars.Total_Tok_Count, ant_m_chars.Total_Tok_Count, equal_var=False)"
   ]
  },
  {
   "cell_type": "markdown",
   "metadata": {},
   "source": [
    "Also, female and male protagonists use fewer tokens per line than their antagonist counterparts."
   ]
  },
  {
   "cell_type": "markdown",
   "metadata": {},
   "source": [
    "## TTR (Total Type Count/Total Token Count)\n",
    "Because TTR is so sensitive to text length, I decided to look at TTR for Total Type Counts / Total Token Counts. \n",
    "### Gender\n",
    "#### Overall"
   ]
  },
  {
   "cell_type": "code",
   "execution_count": 143,
   "metadata": {},
   "outputs": [
    {
     "data": {
      "text/plain": [
       "Ttest_indResult(statistic=-0.9967546797195583, pvalue=0.31987931875373893)"
      ]
     },
     "execution_count": 143,
     "metadata": {},
     "output_type": "execute_result"
    }
   ],
   "source": [
    "stats.ttest_ind(f_chars.TTR, m_chars.TTR, equal_var = False)"
   ]
  },
  {
   "cell_type": "markdown",
   "metadata": {},
   "source": [
    "In terms of Total Token Count, Type Count, and TTR, there's no significant difference between genders. This suggests that while men may speak in longer spurts than women, the amount overall their speech variety doesn't differ much.\n",
    "\n",
    "#### Gender Over Time"
   ]
  },
  {
   "cell_type": "code",
   "execution_count": 144,
   "metadata": {},
   "outputs": [
    {
     "data": {
      "text/plain": [
       "F_onewayResult(statistic=3.4968329357799712, pvalue=0.03506265614065239)"
      ]
     },
     "execution_count": 144,
     "metadata": {},
     "output_type": "execute_result"
    }
   ],
   "source": [
    "# Comparing female TTR over time\n",
    "stats.f_oneway(f_chars_early.TTR, f_chars_mid.TTR, f_chars_late.TTR)"
   ]
  },
  {
   "cell_type": "code",
   "execution_count": 145,
   "metadata": {},
   "outputs": [
    {
     "data": {
      "text/plain": [
       "Ttest_indResult(statistic=-2.459117418560822, pvalue=0.018470036291041714)"
      ]
     },
     "execution_count": 145,
     "metadata": {},
     "output_type": "execute_result"
    }
   ],
   "source": [
    "stats.ttest_ind(f_chars_early.TTR, f_chars_mid.TTR, equal_var=False)"
   ]
  },
  {
   "cell_type": "code",
   "execution_count": 146,
   "metadata": {},
   "outputs": [
    {
     "data": {
      "text/plain": [
       "Ttest_indResult(statistic=-2.857913574828898, pvalue=0.006705283618760464)"
      ]
     },
     "execution_count": 146,
     "metadata": {},
     "output_type": "execute_result"
    }
   ],
   "source": [
    "stats.ttest_ind(f_chars_early.TTR, f_chars_late.TTR, equal_var=False)"
   ]
  },
  {
   "cell_type": "code",
   "execution_count": 147,
   "metadata": {},
   "outputs": [
    {
     "data": {
      "text/plain": [
       "Ttest_indResult(statistic=-0.258104078500633, pvalue=0.7972602335168293)"
      ]
     },
     "execution_count": 147,
     "metadata": {},
     "output_type": "execute_result"
    }
   ],
   "source": [
    "stats.ttest_ind(f_chars_mid.TTR, f_chars_late.TTR, equal_var=False)"
   ]
  },
  {
   "cell_type": "markdown",
   "metadata": {},
   "source": [
    "Overall, female ttr has consistently increased over time, but not always significantly. The middle era and late era aren't significantly different."
   ]
  },
  {
   "cell_type": "code",
   "execution_count": 148,
   "metadata": {},
   "outputs": [
    {
     "data": {
      "text/plain": [
       "F_onewayResult(statistic=5.82835310707887, pvalue=0.003442284009815076)"
      ]
     },
     "execution_count": 148,
     "metadata": {},
     "output_type": "execute_result"
    }
   ],
   "source": [
    "# Comparing male TTR over time\n",
    "stats.f_oneway(m_chars_early.TTR, m_chars_mid.TTR, m_chars_late.TTR)"
   ]
  },
  {
   "cell_type": "code",
   "execution_count": 149,
   "metadata": {},
   "outputs": [
    {
     "data": {
      "text/plain": [
       "Ttest_indResult(statistic=-1.410113236483718, pvalue=0.16412009997815027)"
      ]
     },
     "execution_count": 149,
     "metadata": {},
     "output_type": "execute_result"
    }
   ],
   "source": [
    "stats.ttest_ind(m_chars_early.TTR, m_chars_mid.TTR, equal_var=False)"
   ]
  },
  {
   "cell_type": "code",
   "execution_count": 150,
   "metadata": {},
   "outputs": [
    {
     "data": {
      "text/plain": [
       "Ttest_indResult(statistic=-3.2587796654324026, pvalue=0.0018959747320116576)"
      ]
     },
     "execution_count": 150,
     "metadata": {},
     "output_type": "execute_result"
    }
   ],
   "source": [
    "stats.ttest_ind(m_chars_early.TTR, m_chars_late.TTR, equal_var=False)"
   ]
  },
  {
   "cell_type": "code",
   "execution_count": 151,
   "metadata": {},
   "outputs": [
    {
     "data": {
      "text/plain": [
       "Ttest_indResult(statistic=-2.47232123889799, pvalue=0.01436628327530204)"
      ]
     },
     "execution_count": 151,
     "metadata": {},
     "output_type": "execute_result"
    }
   ],
   "source": [
    "stats.ttest_ind(m_chars_mid.TTR, m_chars_late.TTR, equal_var=False)"
   ]
  },
  {
   "cell_type": "markdown",
   "metadata": {},
   "source": [
    "Overall, male TTR has also increased with each era. But this time, the jump between the early era and the mid era is not significant"
   ]
  },
  {
   "cell_type": "code",
   "execution_count": 152,
   "metadata": {},
   "outputs": [
    {
     "data": {
      "text/plain": [
       "Ttest_indResult(statistic=1.8884068553046045, pvalue=0.06773956895602941)"
      ]
     },
     "execution_count": 152,
     "metadata": {},
     "output_type": "execute_result"
    }
   ],
   "source": [
    "#Comparing Male and Female ttr w/in each era\n",
    "stats.ttest_ind(m_chars_early.TTR, f_chars_early.TTR, equal_var=False)"
   ]
  },
  {
   "cell_type": "code",
   "execution_count": 153,
   "metadata": {},
   "outputs": [
    {
     "data": {
      "text/plain": [
       "Ttest_indResult(statistic=0.10439755290356918, pvalue=0.9174256477392705)"
      ]
     },
     "execution_count": 153,
     "metadata": {},
     "output_type": "execute_result"
    }
   ],
   "source": [
    "stats.ttest_ind(m_chars_mid.TTR, f_chars_mid.TTR, equal_var=False)"
   ]
  },
  {
   "cell_type": "code",
   "execution_count": 154,
   "metadata": {},
   "outputs": [
    {
     "data": {
      "text/plain": [
       "Ttest_indResult(statistic=1.4071864483279044, pvalue=0.16444134895688622)"
      ]
     },
     "execution_count": 154,
     "metadata": {},
     "output_type": "execute_result"
    }
   ],
   "source": [
    "stats.ttest_ind(m_chars_late.TTR, f_chars_late.TTR, equal_var=False)"
   ]
  },
  {
   "cell_type": "markdown",
   "metadata": {},
   "source": [
    "Within each era, there is no significant difference between male and female TTR (though it appears to be closest to significant in the early period)"
   ]
  },
  {
   "cell_type": "markdown",
   "metadata": {},
   "source": [
    "#### Gender Across Companies"
   ]
  },
  {
   "cell_type": "code",
   "execution_count": 155,
   "metadata": {},
   "outputs": [
    {
     "data": {
      "text/plain": [
       "Ttest_indResult(statistic=1.738372169581285, pvalue=0.08452149169924421)"
      ]
     },
     "execution_count": 155,
     "metadata": {},
     "output_type": "execute_result"
    }
   ],
   "source": [
    "## Between male and female characters is disney films\n",
    "stats.ttest_ind(m_chars_disney.TTR, f_chars_disney.TTR, equal_var=False)"
   ]
  },
  {
   "cell_type": "code",
   "execution_count": 156,
   "metadata": {},
   "outputs": [
    {
     "data": {
      "text/plain": [
       "Ttest_indResult(statistic=-0.7209148983122594, pvalue=0.4724125836363494)"
      ]
     },
     "execution_count": 156,
     "metadata": {},
     "output_type": "execute_result"
    }
   ],
   "source": [
    "## Between male and female characters in Dreamworks Films\n",
    "stats.ttest_ind(m_chars_dw.TTR, f_chars_dw.TTR, equal_var=False)"
   ]
  },
  {
   "cell_type": "markdown",
   "metadata": {},
   "source": [
    "Female characters actually have higher TTR's in Dreamworks, but this difference is not significant. In fact, the TTRs for each gender in each company aren't signficantly different"
   ]
  },
  {
   "cell_type": "code",
   "execution_count": 157,
   "metadata": {},
   "outputs": [
    {
     "data": {
      "text/plain": [
       "Ttest_indResult(statistic=1.7820311936138562, pvalue=0.07579093929932226)"
      ]
     },
     "execution_count": 157,
     "metadata": {},
     "output_type": "execute_result"
    }
   ],
   "source": [
    "## Between male characters in Dreamworks and Disney\n",
    "stats.ttest_ind(m_chars_disney.TTR, m_chars_dw.TTR, equal_var=False)"
   ]
  },
  {
   "cell_type": "code",
   "execution_count": 158,
   "metadata": {},
   "outputs": [
    {
     "data": {
      "text/plain": [
       "Ttest_indResult(statistic=-0.9136619447139693, pvalue=0.3625361194432649)"
      ]
     },
     "execution_count": 158,
     "metadata": {},
     "output_type": "execute_result"
    }
   ],
   "source": [
    "## Between female characters in Dreamworks and Disney\n",
    "stats.ttest_ind(f_chars_disney.TTR, f_chars_dw.TTR, equal_var=False)"
   ]
  },
  {
   "cell_type": "markdown",
   "metadata": {},
   "source": [
    "There's also no significant difference between male or female lines depending on which company they're from."
   ]
  },
  {
   "cell_type": "markdown",
   "metadata": {},
   "source": [
    "### Role\n",
    "#### Overall"
   ]
  },
  {
   "cell_type": "code",
   "execution_count": 159,
   "metadata": {},
   "outputs": [
    {
     "data": {
      "text/plain": [
       "Ttest_indResult(statistic=-4.3639708178868295, pvalue=2.8550625202274174e-05)"
      ]
     },
     "execution_count": 159,
     "metadata": {},
     "output_type": "execute_result"
    }
   ],
   "source": [
    "stats.ttest_ind(pro_chars.TTR, ant_chars.TTR, equal_var = False)\n",
    "#definite difference here!!"
   ]
  },
  {
   "cell_type": "markdown",
   "metadata": {},
   "source": [
    "The overall difference in TTR between male and female characters isn't significant, but this difference is signficant between roles. This suggests that villains speak for longer spurts AND speak a wider variety of words over all."
   ]
  },
  {
   "cell_type": "markdown",
   "metadata": {},
   "source": [
    "#### Role Over Time"
   ]
  },
  {
   "cell_type": "code",
   "execution_count": 160,
   "metadata": {},
   "outputs": [
    {
     "data": {
      "text/plain": [
       "F_onewayResult(statistic=1.0149771898372846, pvalue=0.3737814831647466)"
      ]
     },
     "execution_count": 160,
     "metadata": {},
     "output_type": "execute_result"
    }
   ],
   "source": [
    "# Comparing protagonist TTR over time\n",
    "stats.f_oneway(pro_chars_early.TTR, pro_chars_mid.TTR, pro_chars_late.TTR)"
   ]
  },
  {
   "cell_type": "code",
   "execution_count": 161,
   "metadata": {},
   "outputs": [
    {
     "data": {
      "text/plain": [
       "Ttest_indResult(statistic=1.2268967836893614, pvalue=0.2636442324651084)"
      ]
     },
     "execution_count": 161,
     "metadata": {},
     "output_type": "execute_result"
    }
   ],
   "source": [
    "stats.ttest_ind(pro_chars_early.TTR, pro_chars_mid.TTR, equal_var=False)"
   ]
  },
  {
   "cell_type": "code",
   "execution_count": 162,
   "metadata": {},
   "outputs": [
    {
     "data": {
      "text/plain": [
       "Ttest_indResult(statistic=0.2868374487924252, pvalue=0.7807674688491074)"
      ]
     },
     "execution_count": 162,
     "metadata": {},
     "output_type": "execute_result"
    }
   ],
   "source": [
    "stats.ttest_ind(pro_chars_early.TTR, pro_chars_late.TTR, equal_var=False)"
   ]
  },
  {
   "cell_type": "code",
   "execution_count": 163,
   "metadata": {},
   "outputs": [
    {
     "data": {
      "text/plain": [
       "Ttest_indResult(statistic=-1.377998038581648, pvalue=0.18053833358472451)"
      ]
     },
     "execution_count": 163,
     "metadata": {},
     "output_type": "execute_result"
    }
   ],
   "source": [
    "stats.ttest_ind(pro_chars_mid.TTR, pro_chars_late.TTR, equal_var=False)"
   ]
  },
  {
   "cell_type": "markdown",
   "metadata": {},
   "source": [
    "Overall, protagonist ttr has not changed significantly over time."
   ]
  },
  {
   "cell_type": "code",
   "execution_count": 164,
   "metadata": {},
   "outputs": [
    {
     "data": {
      "text/plain": [
       "F_onewayResult(statistic=3.269206179120879, pvalue=0.047242541211229325)"
      ]
     },
     "execution_count": 164,
     "metadata": {},
     "output_type": "execute_result"
    }
   ],
   "source": [
    "# Comparing antagonist TTR over time\n",
    "stats.f_oneway(ant_chars_early.TTR, ant_chars_mid.TTR, ant_chars_late.TTR)"
   ]
  },
  {
   "cell_type": "code",
   "execution_count": 165,
   "metadata": {},
   "outputs": [
    {
     "data": {
      "text/plain": [
       "Ttest_indResult(statistic=-1.7201220815865133, pvalue=0.10516315962438427)"
      ]
     },
     "execution_count": 165,
     "metadata": {},
     "output_type": "execute_result"
    }
   ],
   "source": [
    "stats.ttest_ind(ant_chars_early.TTR, ant_chars_mid.TTR, equal_var=False)"
   ]
  },
  {
   "cell_type": "code",
   "execution_count": 166,
   "metadata": {},
   "outputs": [
    {
     "data": {
      "text/plain": [
       "Ttest_indResult(statistic=0.4894873762823616, pvalue=0.630807487691796)"
      ]
     },
     "execution_count": 166,
     "metadata": {},
     "output_type": "execute_result"
    }
   ],
   "source": [
    "stats.ttest_ind(ant_chars_early.TTR, ant_chars_late.TTR, equal_var=False)"
   ]
  },
  {
   "cell_type": "code",
   "execution_count": 167,
   "metadata": {},
   "outputs": [
    {
     "data": {
      "text/plain": [
       "Ttest_indResult(statistic=2.4948346357229516, pvalue=0.02046301415775284)"
      ]
     },
     "execution_count": 167,
     "metadata": {},
     "output_type": "execute_result"
    }
   ],
   "source": [
    "stats.ttest_ind(ant_chars_mid.TTR, ant_chars_late.TTR, equal_var=False)"
   ]
  },
  {
   "cell_type": "markdown",
   "metadata": {},
   "source": [
    "Overall, antagonist TTR has not changed consistently with each era, but the difference is significant. The only two eras with a significant difference are the middle and late era, in which the antagonist TTR drops."
   ]
  },
  {
   "cell_type": "code",
   "execution_count": 168,
   "metadata": {},
   "outputs": [
    {
     "data": {
      "text/plain": [
       "Ttest_indResult(statistic=-0.35232507387561846, pvalue=0.7329443287112759)"
      ]
     },
     "execution_count": 168,
     "metadata": {},
     "output_type": "execute_result"
    }
   ],
   "source": [
    "#Comparing pro and ant ttr w/in each era\n",
    "stats.ttest_ind(pro_chars_early.TTR, ant_chars_early.TTR, equal_var=False)"
   ]
  },
  {
   "cell_type": "code",
   "execution_count": 169,
   "metadata": {},
   "outputs": [
    {
     "data": {
      "text/plain": [
       "Ttest_indResult(statistic=-5.514977956471588, pvalue=3.5378751555015488e-06)"
      ]
     },
     "execution_count": 169,
     "metadata": {},
     "output_type": "execute_result"
    }
   ],
   "source": [
    "stats.ttest_ind(pro_chars_mid.TTR, ant_chars_mid.TTR, equal_var=False)"
   ]
  },
  {
   "cell_type": "code",
   "execution_count": 170,
   "metadata": {},
   "outputs": [
    {
     "data": {
      "text/plain": [
       "Ttest_indResult(statistic=-0.43593148828609407, pvalue=0.6665238247248573)"
      ]
     },
     "execution_count": 170,
     "metadata": {},
     "output_type": "execute_result"
    }
   ],
   "source": [
    "stats.ttest_ind(pro_chars_late.TTR, ant_chars_late.TTR, equal_var=False)"
   ]
  },
  {
   "cell_type": "markdown",
   "metadata": {},
   "source": [
    "Protagonists have significantly lower TTR's than antagonists in the middle era! But this difference isn't significant in any other era"
   ]
  },
  {
   "cell_type": "markdown",
   "metadata": {},
   "source": [
    "#### Role Across Companies"
   ]
  },
  {
   "cell_type": "code",
   "execution_count": 171,
   "metadata": {},
   "outputs": [
    {
     "data": {
      "text/plain": [
       "Ttest_indResult(statistic=-3.5363873123988214, pvalue=0.0007091891629031381)"
      ]
     },
     "execution_count": 171,
     "metadata": {},
     "output_type": "execute_result"
    }
   ],
   "source": [
    "## Between pro and ant characters is disney films\n",
    "stats.ttest_ind(pro_chars_disney.TTR, ant_chars_disney.TTR, equal_var=False)"
   ]
  },
  {
   "cell_type": "code",
   "execution_count": 172,
   "metadata": {},
   "outputs": [
    {
     "data": {
      "text/plain": [
       "Ttest_indResult(statistic=-2.381271556663255, pvalue=0.022824811395266955)"
      ]
     },
     "execution_count": 172,
     "metadata": {},
     "output_type": "execute_result"
    }
   ],
   "source": [
    "## Between pro and ant characters in Dreamworks Films\n",
    "stats.ttest_ind(pro_chars_dw.TTR, ant_chars_dw.TTR, equal_var=False)"
   ]
  },
  {
   "cell_type": "markdown",
   "metadata": {},
   "source": [
    "In both companies, the protagonists' TTR is significantly less than the antagonists' TTR (though this difference is more pronounced in Disney)"
   ]
  },
  {
   "cell_type": "code",
   "execution_count": 173,
   "metadata": {},
   "outputs": [
    {
     "data": {
      "text/plain": [
       "Ttest_indResult(statistic=0.9802699115501557, pvalue=0.33381354005183883)"
      ]
     },
     "execution_count": 173,
     "metadata": {},
     "output_type": "execute_result"
    }
   ],
   "source": [
    "## Between pro characters in Dreamworks and Disney\n",
    "stats.ttest_ind(pro_chars_disney.TTR, pro_chars_dw.TTR, equal_var=False)"
   ]
  },
  {
   "cell_type": "code",
   "execution_count": 174,
   "metadata": {},
   "outputs": [
    {
     "data": {
      "text/plain": [
       "Ttest_indResult(statistic=0.9206752516740735, pvalue=0.3642994840174262)"
      ]
     },
     "execution_count": 174,
     "metadata": {},
     "output_type": "execute_result"
    }
   ],
   "source": [
    "## Between ant characters in Dreamworks and Disney\n",
    "stats.ttest_ind(ant_chars_disney.TTR, ant_chars_dw.TTR, equal_var=False)"
   ]
  },
  {
   "cell_type": "markdown",
   "metadata": {},
   "source": [
    "There's also no significant difference between protagonist or antagonist TTR depending on which company they're from."
   ]
  },
  {
   "cell_type": "markdown",
   "metadata": {},
   "source": [
    "### Gender and Role"
   ]
  },
  {
   "cell_type": "code",
   "execution_count": 175,
   "metadata": {},
   "outputs": [
    {
     "data": {
      "text/plain": [
       "Ttest_indResult(statistic=1.08651965020638, pvalue=0.2826315416739064)"
      ]
     },
     "execution_count": 175,
     "metadata": {},
     "output_type": "execute_result"
    }
   ],
   "source": [
    "stats.ttest_ind(pro_f_chars.TTR, pro_m_chars.TTR, equal_var=False)"
   ]
  },
  {
   "cell_type": "code",
   "execution_count": 176,
   "metadata": {},
   "outputs": [
    {
     "data": {
      "text/plain": [
       "Ttest_indResult(statistic=-2.687410158585391, pvalue=0.01180458098250379)"
      ]
     },
     "execution_count": 176,
     "metadata": {},
     "output_type": "execute_result"
    }
   ],
   "source": [
    "stats.ttest_ind(ant_f_chars.TTR, ant_m_chars.TTR, equal_var=False)"
   ]
  },
  {
   "cell_type": "markdown",
   "metadata": {},
   "source": [
    "Female antagonists have a significantly lower TTR than male antagonists."
   ]
  },
  {
   "cell_type": "code",
   "execution_count": 177,
   "metadata": {},
   "outputs": [
    {
     "data": {
      "text/plain": [
       "Ttest_indResult(statistic=-0.7943175495401144, pvalue=0.43236641767734063)"
      ]
     },
     "execution_count": 177,
     "metadata": {},
     "output_type": "execute_result"
    }
   ],
   "source": [
    "stats.ttest_ind(pro_f_chars.TTR, ant_f_chars.TTR, equal_var=False)"
   ]
  },
  {
   "cell_type": "code",
   "execution_count": 178,
   "metadata": {},
   "outputs": [
    {
     "data": {
      "text/plain": [
       "Ttest_indResult(statistic=-5.034559650067808, pvalue=4.816235332807276e-06)"
      ]
     },
     "execution_count": 178,
     "metadata": {},
     "output_type": "execute_result"
    }
   ],
   "source": [
    "stats.ttest_ind(pro_m_chars.TTR, ant_m_chars.TTR, equal_var=False)"
   ]
  },
  {
   "cell_type": "markdown",
   "metadata": {},
   "source": [
    "Male protagonists have significantly lower TTR's than male antagonists. "
   ]
  },
  {
   "cell_type": "markdown",
   "metadata": {},
   "source": [
    "## K-Band\n",
    "K-bands are another way to measure vocabulary sophistication. Before we can measure this, we need to get rid of NaN values (32 of them)"
   ]
  },
  {
   "cell_type": "code",
   "execution_count": 179,
   "metadata": {},
   "outputs": [],
   "source": [
    "char_df = char_df[char_df.AVG_K_BAND.notnull()]"
   ]
  },
  {
   "cell_type": "code",
   "execution_count": 180,
   "metadata": {},
   "outputs": [
    {
     "name": "stdout",
     "output_type": "stream",
     "text": [
      "<class 'pandas.core.frame.DataFrame'>\n",
      "Int64Index: 600 entries, 0 to 631\n",
      "Data columns (total 14 columns):\n",
      "Disney_Period       600 non-null object\n",
      "Gender              600 non-null object\n",
      "Movie               600 non-null object\n",
      "Role                600 non-null object\n",
      "Speaker             600 non-null object\n",
      "Speaker_Status      600 non-null object\n",
      "Total_Tok_Count     600 non-null float64\n",
      "Total_Toks          600 non-null object\n",
      "Total_Type_Count    600 non-null float64\n",
      "Total_Types         600 non-null object\n",
      "Year                600 non-null object\n",
      "TTR                 600 non-null float64\n",
      "G_TTR               600 non-null float64\n",
      "AVG_K_BAND          600 non-null float64\n",
      "dtypes: float64(5), object(9)\n",
      "memory usage: 49.2+ KB\n"
     ]
    }
   ],
   "source": [
    "char_df.info()"
   ]
  },
  {
   "cell_type": "code",
   "execution_count": 181,
   "metadata": {},
   "outputs": [
    {
     "data": {
      "text/plain": [
       "count    600.000000\n",
       "mean       2.597918\n",
       "std        1.667153\n",
       "min        1.000000\n",
       "25%        1.810462\n",
       "50%        2.235572\n",
       "75%        2.825013\n",
       "max       20.000000\n",
       "Name: AVG_K_BAND, dtype: float64"
      ]
     },
     "execution_count": 181,
     "metadata": {},
     "output_type": "execute_result"
    }
   ],
   "source": [
    "char_df.AVG_K_BAND.describe()"
   ]
  },
  {
   "cell_type": "code",
   "execution_count": 182,
   "metadata": {},
   "outputs": [],
   "source": [
    "f_chars = char_df[char_df.Gender == 'f']\n",
    "m_chars = char_df[char_df.Gender == 'm']\n",
    "\n",
    "pro_chars = char_df[char_df.Role == 'PRO']\n",
    "ant_chars = char_df[char_df.Role == 'ANT']\n",
    "helper_chars = char_df[char_df.Role == 'HELPER']"
   ]
  },
  {
   "cell_type": "code",
   "execution_count": 183,
   "metadata": {},
   "outputs": [],
   "source": [
    "f_chars_early = f_chars[f_chars.Disney_Period == 'EARLY']\n",
    "m_chars_early = m_chars[m_chars.Disney_Period == 'EARLY']\n",
    "\n",
    "f_chars_mid = f_chars[f_chars.Disney_Period == 'MID']\n",
    "m_chars_mid = m_chars[m_chars.Disney_Period == 'MID']\n",
    "\n",
    "f_chars_late = f_chars[f_chars.Disney_Period == 'LATE']\n",
    "m_chars_late = m_chars[m_chars.Disney_Period == 'LATE']"
   ]
  },
  {
   "cell_type": "code",
   "execution_count": 184,
   "metadata": {},
   "outputs": [],
   "source": [
    "f_chars_disney = f_chars[f_chars.Disney_Period != 'DREAMWORKS']\n",
    "f_chars_dw = f_chars[f_chars.Disney_Period == 'DREAMWORKS']\n",
    "\n",
    "m_chars_disney = m_chars[m_chars.Disney_Period != 'DREAMWORKS']\n",
    "m_chars_dw = m_chars[m_chars.Disney_Period == 'DREAMWORKS']"
   ]
  },
  {
   "cell_type": "code",
   "execution_count": 185,
   "metadata": {},
   "outputs": [],
   "source": [
    "pro_chars_early = pro_chars[pro_chars.Disney_Period == 'EARLY']\n",
    "pro_chars_mid = pro_chars[pro_chars.Disney_Period == 'MID']\n",
    "pro_chars_late = pro_chars[pro_chars.Disney_Period == 'LATE']\n",
    "\n",
    "ant_chars_early = ant_chars[ant_chars.Disney_Period == 'EARLY']\n",
    "ant_chars_mid = ant_chars[ant_chars.Disney_Period == 'MID']\n",
    "ant_chars_late = ant_chars[ant_chars.Disney_Period == 'LATE']\n",
    "\n",
    "ant_chars_disney = ant_chars[ant_chars.Disney_Period != 'DREAMWORKS']\n",
    "ant_chars_dw = ant_chars[ant_chars.Disney_Period == 'DREAMWORKS']\n",
    "\n",
    "pro_chars_disney = pro_chars[pro_chars.Disney_Period != 'DREAMWORKS']\n",
    "pro_chars_dw = pro_chars[pro_chars.Disney_Period == 'DREAMWORKS']"
   ]
  },
  {
   "cell_type": "code",
   "execution_count": 186,
   "metadata": {},
   "outputs": [],
   "source": [
    "chars_gen_role = char_df[(char_df.Gender != 'n') & (char_df.Role != 'N')]"
   ]
  },
  {
   "cell_type": "code",
   "execution_count": 187,
   "metadata": {},
   "outputs": [],
   "source": [
    "pro_f_chars = chars_gen_role[(chars_gen_role.Gender == 'f') & (chars_gen_role.Role == 'PRO')]\n",
    "pro_m_chars = chars_gen_role[(chars_gen_role.Gender == 'm') & (chars_gen_role.Role == 'PRO')]\n",
    "\n",
    "ant_f_chars = chars_gen_role[(chars_gen_role.Gender == 'f') & (chars_gen_role.Role == 'ANT')]\n",
    "ant_m_chars = chars_gen_role[(chars_gen_role.Gender == 'm') & (chars_gen_role.Role == 'ANT')]"
   ]
  },
  {
   "cell_type": "markdown",
   "metadata": {},
   "source": [
    "### Gender\n",
    "#### Overall"
   ]
  },
  {
   "cell_type": "code",
   "execution_count": 188,
   "metadata": {},
   "outputs": [
    {
     "data": {
      "text/plain": [
       "Ttest_indResult(statistic=-1.5214685800338528, pvalue=0.12915173695384446)"
      ]
     },
     "execution_count": 188,
     "metadata": {},
     "output_type": "execute_result"
    }
   ],
   "source": [
    "stats.ttest_ind(f_chars.AVG_K_BAND, m_chars.AVG_K_BAND, equal_var = False)"
   ]
  },
  {
   "cell_type": "markdown",
   "metadata": {},
   "source": [
    "A difference, but not significant.\n",
    "\n",
    "#### Gender Over Time"
   ]
  },
  {
   "cell_type": "code",
   "execution_count": 189,
   "metadata": {},
   "outputs": [
    {
     "data": {
      "text/plain": [
       "F_onewayResult(statistic=0.5550447488889522, pvalue=0.5763259908527979)"
      ]
     },
     "execution_count": 189,
     "metadata": {},
     "output_type": "execute_result"
    }
   ],
   "source": [
    "# Comparing female k-bands over time\n",
    "stats.f_oneway(f_chars_early.AVG_K_BAND, f_chars_mid.AVG_K_BAND, f_chars_late.AVG_K_BAND)"
   ]
  },
  {
   "cell_type": "code",
   "execution_count": 190,
   "metadata": {},
   "outputs": [
    {
     "data": {
      "text/plain": [
       "Ttest_indResult(statistic=1.2624659995110097, pvalue=0.21671137414910116)"
      ]
     },
     "execution_count": 190,
     "metadata": {},
     "output_type": "execute_result"
    }
   ],
   "source": [
    "stats.ttest_ind(f_chars_early.AVG_K_BAND, f_chars_mid.AVG_K_BAND, equal_var=False)"
   ]
  },
  {
   "cell_type": "code",
   "execution_count": 191,
   "metadata": {},
   "outputs": [
    {
     "data": {
      "text/plain": [
       "Ttest_indResult(statistic=0.4352872140743068, pvalue=0.6655490643381015)"
      ]
     },
     "execution_count": 191,
     "metadata": {},
     "output_type": "execute_result"
    }
   ],
   "source": [
    "stats.ttest_ind(f_chars_early.AVG_K_BAND, f_chars_late.AVG_K_BAND, equal_var=False)"
   ]
  },
  {
   "cell_type": "code",
   "execution_count": 192,
   "metadata": {},
   "outputs": [
    {
     "data": {
      "text/plain": [
       "Ttest_indResult(statistic=-0.7856604955881593, pvalue=0.43520109428216813)"
      ]
     },
     "execution_count": 192,
     "metadata": {},
     "output_type": "execute_result"
    }
   ],
   "source": [
    "stats.ttest_ind(f_chars_mid.AVG_K_BAND, f_chars_late.AVG_K_BAND, equal_var=False)"
   ]
  },
  {
   "cell_type": "markdown",
   "metadata": {},
   "source": [
    "Between each era, there's no significant difference between k-band for female characters."
   ]
  },
  {
   "cell_type": "code",
   "execution_count": 193,
   "metadata": {},
   "outputs": [
    {
     "data": {
      "text/plain": [
       "F_onewayResult(statistic=1.5721235645385327, pvalue=0.21012081406469596)"
      ]
     },
     "execution_count": 193,
     "metadata": {},
     "output_type": "execute_result"
    }
   ],
   "source": [
    "# Comparing male k-bands over time\n",
    "stats.f_oneway(m_chars_early.AVG_K_BAND, m_chars_mid.AVG_K_BAND, m_chars_late.AVG_K_BAND)"
   ]
  },
  {
   "cell_type": "code",
   "execution_count": 194,
   "metadata": {},
   "outputs": [
    {
     "data": {
      "text/plain": [
       "Ttest_indResult(statistic=-0.8763342592370738, pvalue=0.3829134296971871)"
      ]
     },
     "execution_count": 194,
     "metadata": {},
     "output_type": "execute_result"
    }
   ],
   "source": [
    "stats.ttest_ind(m_chars_early.AVG_K_BAND, m_chars_mid.AVG_K_BAND, equal_var=False)"
   ]
  },
  {
   "cell_type": "code",
   "execution_count": 195,
   "metadata": {},
   "outputs": [
    {
     "data": {
      "text/plain": [
       "Ttest_indResult(statistic=0.9316593728992122, pvalue=0.3541216555969938)"
      ]
     },
     "execution_count": 195,
     "metadata": {},
     "output_type": "execute_result"
    }
   ],
   "source": [
    "stats.ttest_ind(m_chars_early.AVG_K_BAND, m_chars_late.AVG_K_BAND, equal_var=False)"
   ]
  },
  {
   "cell_type": "code",
   "execution_count": 196,
   "metadata": {},
   "outputs": [
    {
     "data": {
      "text/plain": [
       "Ttest_indResult(statistic=1.695411524679044, pvalue=0.09178577905498049)"
      ]
     },
     "execution_count": 196,
     "metadata": {},
     "output_type": "execute_result"
    }
   ],
   "source": [
    "stats.ttest_ind(m_chars_mid.AVG_K_BAND, m_chars_late.AVG_K_BAND, equal_var=False)"
   ]
  },
  {
   "cell_type": "markdown",
   "metadata": {},
   "source": [
    "There's no significant difference between male k-bands either."
   ]
  },
  {
   "cell_type": "code",
   "execution_count": 197,
   "metadata": {},
   "outputs": [
    {
     "data": {
      "text/plain": [
       "Ttest_indResult(statistic=0.5588404692572434, pvalue=0.5801201372747906)"
      ]
     },
     "execution_count": 197,
     "metadata": {},
     "output_type": "execute_result"
    }
   ],
   "source": [
    "#Comparing Male and Female k-band w/in each era\n",
    "stats.ttest_ind(m_chars_early.AVG_K_BAND, f_chars_early.AVG_K_BAND, equal_var=False)"
   ]
  },
  {
   "cell_type": "code",
   "execution_count": 198,
   "metadata": {},
   "outputs": [
    {
     "data": {
      "text/plain": [
       "Ttest_indResult(statistic=2.889049534067202, pvalue=0.00469035893209242)"
      ]
     },
     "execution_count": 198,
     "metadata": {},
     "output_type": "execute_result"
    }
   ],
   "source": [
    "stats.ttest_ind(m_chars_mid.AVG_K_BAND, f_chars_mid.AVG_K_BAND, equal_var=False)"
   ]
  },
  {
   "cell_type": "code",
   "execution_count": 199,
   "metadata": {},
   "outputs": [
    {
     "data": {
      "text/plain": [
       "Ttest_indResult(statistic=0.24591397143813828, pvalue=0.8063531699999992)"
      ]
     },
     "execution_count": 199,
     "metadata": {},
     "output_type": "execute_result"
    }
   ],
   "source": [
    "stats.ttest_ind(m_chars_late.AVG_K_BAND, f_chars_late.AVG_K_BAND, equal_var=False)"
   ]
  },
  {
   "cell_type": "markdown",
   "metadata": {},
   "source": [
    "Within each era, male characters have higher k-bands than female characters, but the only significant difference between male and female k-band is in the middle era."
   ]
  },
  {
   "cell_type": "markdown",
   "metadata": {},
   "source": [
    "#### Gender Across Companies"
   ]
  },
  {
   "cell_type": "code",
   "execution_count": 200,
   "metadata": {},
   "outputs": [
    {
     "data": {
      "text/plain": [
       "Ttest_indResult(statistic=2.017418424661412, pvalue=0.04483148616005847)"
      ]
     },
     "execution_count": 200,
     "metadata": {},
     "output_type": "execute_result"
    }
   ],
   "source": [
    "## Between male and female characters is disney films\n",
    "stats.ttest_ind(m_chars_disney.AVG_K_BAND, f_chars_disney.AVG_K_BAND, equal_var=False)"
   ]
  },
  {
   "cell_type": "code",
   "execution_count": 201,
   "metadata": {},
   "outputs": [
    {
     "data": {
      "text/plain": [
       "Ttest_indResult(statistic=0.134804929154227, pvalue=0.8930338538260596)"
      ]
     },
     "execution_count": 201,
     "metadata": {},
     "output_type": "execute_result"
    }
   ],
   "source": [
    "## Between male and female characters in Dreamworks Films\n",
    "stats.ttest_ind(m_chars_dw.AVG_K_BAND, f_chars_dw.AVG_K_BAND, equal_var=False)"
   ]
  },
  {
   "cell_type": "markdown",
   "metadata": {},
   "source": [
    "In both companies, male characters have higher k-bands, but this difference is only significant in Disney movies."
   ]
  },
  {
   "cell_type": "code",
   "execution_count": 202,
   "metadata": {},
   "outputs": [
    {
     "data": {
      "text/plain": [
       "Ttest_indResult(statistic=0.2960567231712937, pvalue=0.7673859718130868)"
      ]
     },
     "execution_count": 202,
     "metadata": {},
     "output_type": "execute_result"
    }
   ],
   "source": [
    "## Between male characters in Dreamworks and Disney\n",
    "stats.ttest_ind(m_chars_disney.AVG_K_BAND, m_chars_dw.AVG_K_BAND, equal_var=False)"
   ]
  },
  {
   "cell_type": "code",
   "execution_count": 203,
   "metadata": {},
   "outputs": [
    {
     "data": {
      "text/plain": [
       "Ttest_indResult(statistic=-1.0623278021471434, pvalue=0.29095151838251404)"
      ]
     },
     "execution_count": 203,
     "metadata": {},
     "output_type": "execute_result"
    }
   ],
   "source": [
    "## Between female characters in Dreamworks and Disney\n",
    "stats.ttest_ind(f_chars_disney.AVG_K_BAND, f_chars_dw.AVG_K_BAND, equal_var=False)"
   ]
  },
  {
   "cell_type": "markdown",
   "metadata": {},
   "source": [
    "There's also no significant difference between male or female k-bands depending on which company they're from."
   ]
  },
  {
   "cell_type": "markdown",
   "metadata": {},
   "source": [
    "### Role\n",
    "#### Overall"
   ]
  },
  {
   "cell_type": "code",
   "execution_count": 204,
   "metadata": {},
   "outputs": [
    {
     "data": {
      "text/plain": [
       "Ttest_indResult(statistic=0.45162026995458937, pvalue=0.6525834608516885)"
      ]
     },
     "execution_count": 204,
     "metadata": {},
     "output_type": "execute_result"
    }
   ],
   "source": [
    "stats.ttest_ind(pro_chars.AVG_K_BAND, ant_chars.AVG_K_BAND, equal_var = False)"
   ]
  },
  {
   "cell_type": "markdown",
   "metadata": {},
   "source": [
    "The overall difference in k-band between protagonists and antagonists isn't significant."
   ]
  },
  {
   "cell_type": "markdown",
   "metadata": {},
   "source": [
    "#### Role Over Time"
   ]
  },
  {
   "cell_type": "code",
   "execution_count": 205,
   "metadata": {},
   "outputs": [
    {
     "data": {
      "text/plain": [
       "F_onewayResult(statistic=1.9305376251574389, pvalue=0.16159456052400611)"
      ]
     },
     "execution_count": 205,
     "metadata": {},
     "output_type": "execute_result"
    }
   ],
   "source": [
    "# Comparing protagonist k-band over time\n",
    "stats.f_oneway(pro_chars_early.AVG_K_BAND, pro_chars_mid.AVG_K_BAND, pro_chars_late.AVG_K_BAND)"
   ]
  },
  {
   "cell_type": "code",
   "execution_count": 206,
   "metadata": {},
   "outputs": [
    {
     "data": {
      "text/plain": [
       "Ttest_indResult(statistic=-1.0865872563918046, pvalue=0.3043142432813455)"
      ]
     },
     "execution_count": 206,
     "metadata": {},
     "output_type": "execute_result"
    }
   ],
   "source": [
    "stats.ttest_ind(pro_chars_early.AVG_K_BAND, pro_chars_mid.AVG_K_BAND, equal_var=False)"
   ]
  },
  {
   "cell_type": "code",
   "execution_count": 207,
   "metadata": {},
   "outputs": [
    {
     "data": {
      "text/plain": [
       "Ttest_indResult(statistic=-2.126040235119834, pvalue=0.04670118626074485)"
      ]
     },
     "execution_count": 207,
     "metadata": {},
     "output_type": "execute_result"
    }
   ],
   "source": [
    "stats.ttest_ind(pro_chars_early.AVG_K_BAND, pro_chars_late.AVG_K_BAND, equal_var=False)"
   ]
  },
  {
   "cell_type": "code",
   "execution_count": 208,
   "metadata": {},
   "outputs": [
    {
     "data": {
      "text/plain": [
       "Ttest_indResult(statistic=-1.7565482811389581, pvalue=0.09637230583616663)"
      ]
     },
     "execution_count": 208,
     "metadata": {},
     "output_type": "execute_result"
    }
   ],
   "source": [
    "stats.ttest_ind(pro_chars_mid.AVG_K_BAND, pro_chars_late.AVG_K_BAND, equal_var=False)"
   ]
  },
  {
   "cell_type": "markdown",
   "metadata": {},
   "source": [
    "Overall, protagonist k-band has gone up over time, but only increased significantly between the early and late periods."
   ]
  },
  {
   "cell_type": "code",
   "execution_count": 209,
   "metadata": {},
   "outputs": [
    {
     "data": {
      "text/plain": [
       "F_onewayResult(statistic=1.2934913819917113, pvalue=0.2845365325582649)"
      ]
     },
     "execution_count": 209,
     "metadata": {},
     "output_type": "execute_result"
    }
   ],
   "source": [
    "# Comparing antagonist k-band over time\n",
    "stats.f_oneway(ant_chars_early.AVG_K_BAND, ant_chars_mid.AVG_K_BAND, ant_chars_late.AVG_K_BAND)"
   ]
  },
  {
   "cell_type": "code",
   "execution_count": 210,
   "metadata": {},
   "outputs": [
    {
     "data": {
      "text/plain": [
       "Ttest_indResult(statistic=-0.3556024751029952, pvalue=0.724931342155765)"
      ]
     },
     "execution_count": 210,
     "metadata": {},
     "output_type": "execute_result"
    }
   ],
   "source": [
    "stats.ttest_ind(ant_chars_early.AVG_K_BAND, ant_chars_mid.AVG_K_BAND, equal_var=False)"
   ]
  },
  {
   "cell_type": "code",
   "execution_count": 211,
   "metadata": {},
   "outputs": [
    {
     "data": {
      "text/plain": [
       "Ttest_indResult(statistic=2.2035911805753288, pvalue=0.05592876469781373)"
      ]
     },
     "execution_count": 211,
     "metadata": {},
     "output_type": "execute_result"
    }
   ],
   "source": [
    "stats.ttest_ind(ant_chars_early.AVG_K_BAND, ant_chars_late.AVG_K_BAND, equal_var=False)"
   ]
  },
  {
   "cell_type": "code",
   "execution_count": 212,
   "metadata": {},
   "outputs": [
    {
     "data": {
      "text/plain": [
       "Ttest_indResult(statistic=2.3403136089156553, pvalue=0.025816632560621153)"
      ]
     },
     "execution_count": 212,
     "metadata": {},
     "output_type": "execute_result"
    }
   ],
   "source": [
    "stats.ttest_ind(ant_chars_mid.AVG_K_BAND, ant_chars_late.AVG_K_BAND, equal_var=False)"
   ]
  },
  {
   "cell_type": "markdown",
   "metadata": {},
   "source": [
    "Overall, antagonist k-band has not changed consistently with each era, but the difference between the mid and late period is significant--antagonists' k-bands have gone down between these two periods."
   ]
  },
  {
   "cell_type": "code",
   "execution_count": 213,
   "metadata": {},
   "outputs": [
    {
     "data": {
      "text/plain": [
       "Ttest_indResult(statistic=-2.302191356233655, pvalue=0.045407813161706334)"
      ]
     },
     "execution_count": 213,
     "metadata": {},
     "output_type": "execute_result"
    }
   ],
   "source": [
    "#Comparing pro and ant k-band w/in each era\n",
    "stats.ttest_ind(pro_chars_early.AVG_K_BAND, ant_chars_early.AVG_K_BAND, equal_var=False)"
   ]
  },
  {
   "cell_type": "code",
   "execution_count": 214,
   "metadata": {},
   "outputs": [
    {
     "data": {
      "text/plain": [
       "Ttest_indResult(statistic=-2.0498917471898546, pvalue=0.049190264549699964)"
      ]
     },
     "execution_count": 214,
     "metadata": {},
     "output_type": "execute_result"
    }
   ],
   "source": [
    "stats.ttest_ind(pro_chars_mid.AVG_K_BAND, ant_chars_mid.AVG_K_BAND, equal_var=False)"
   ]
  },
  {
   "cell_type": "code",
   "execution_count": 215,
   "metadata": {},
   "outputs": [
    {
     "data": {
      "text/plain": [
       "Ttest_indResult(statistic=2.0320509917553653, pvalue=0.0569016067040367)"
      ]
     },
     "execution_count": 215,
     "metadata": {},
     "output_type": "execute_result"
    }
   ],
   "source": [
    "stats.ttest_ind(pro_chars_late.AVG_K_BAND, ant_chars_late.AVG_K_BAND, equal_var=False)"
   ]
  },
  {
   "cell_type": "markdown",
   "metadata": {},
   "source": [
    "Protagonists have significantly lower k-bands in the early and middle period. Though they have higher k-bands than antagonists in the late period, this difference is not significant. "
   ]
  },
  {
   "cell_type": "markdown",
   "metadata": {},
   "source": [
    "#### Role Across Companies"
   ]
  },
  {
   "cell_type": "code",
   "execution_count": 216,
   "metadata": {},
   "outputs": [
    {
     "data": {
      "text/plain": [
       "Ttest_indResult(statistic=-0.7123319965577875, pvalue=0.47833352294552167)"
      ]
     },
     "execution_count": 216,
     "metadata": {},
     "output_type": "execute_result"
    }
   ],
   "source": [
    "## Between pro and ant characters is disney films\n",
    "stats.ttest_ind(pro_chars_disney.AVG_K_BAND, ant_chars_disney.AVG_K_BAND, equal_var=False)"
   ]
  },
  {
   "cell_type": "code",
   "execution_count": 217,
   "metadata": {},
   "outputs": [
    {
     "data": {
      "text/plain": [
       "Ttest_indResult(statistic=1.4419215026164018, pvalue=0.16584992104633853)"
      ]
     },
     "execution_count": 217,
     "metadata": {},
     "output_type": "execute_result"
    }
   ],
   "source": [
    "## Between pro and ant characters in Dreamworks Films\n",
    "stats.ttest_ind(pro_chars_dw.AVG_K_BAND, ant_chars_dw.AVG_K_BAND, equal_var=False)"
   ]
  },
  {
   "cell_type": "markdown",
   "metadata": {},
   "source": [
    "In both companies, the difference between protagonist and antagonist k-bands is not signficant."
   ]
  },
  {
   "cell_type": "code",
   "execution_count": 218,
   "metadata": {},
   "outputs": [
    {
     "data": {
      "text/plain": [
       "Ttest_indResult(statistic=-0.8128334727767533, pvalue=0.4257691390935556)"
      ]
     },
     "execution_count": 218,
     "metadata": {},
     "output_type": "execute_result"
    }
   ],
   "source": [
    "## Between pro characters in Dreamworks and Disney\n",
    "stats.ttest_ind(pro_chars_disney.AVG_K_BAND, pro_chars_dw.AVG_K_BAND, equal_var=False)"
   ]
  },
  {
   "cell_type": "code",
   "execution_count": 219,
   "metadata": {},
   "outputs": [
    {
     "data": {
      "text/plain": [
       "Ttest_indResult(statistic=2.3208894309533283, pvalue=0.023624771660884124)"
      ]
     },
     "execution_count": 219,
     "metadata": {},
     "output_type": "execute_result"
    }
   ],
   "source": [
    "## Between ant characters in Dreamworks and Disney\n",
    "stats.ttest_ind(ant_chars_disney.AVG_K_BAND, ant_chars_dw.AVG_K_BAND, equal_var=False)"
   ]
  },
  {
   "cell_type": "markdown",
   "metadata": {},
   "source": [
    "There's a signficant difference between antagonists across companies--Disney antagonists are more likely to have a higher k-band."
   ]
  },
  {
   "cell_type": "markdown",
   "metadata": {},
   "source": [
    "### Gender and Role"
   ]
  },
  {
   "cell_type": "code",
   "execution_count": 220,
   "metadata": {},
   "outputs": [
    {
     "data": {
      "text/plain": [
       "Ttest_indResult(statistic=0.3014119565517507, pvalue=0.7645438754926193)"
      ]
     },
     "execution_count": 220,
     "metadata": {},
     "output_type": "execute_result"
    }
   ],
   "source": [
    "stats.ttest_ind(pro_f_chars.AVG_K_BAND, pro_m_chars.AVG_K_BAND, equal_var=False)"
   ]
  },
  {
   "cell_type": "code",
   "execution_count": 221,
   "metadata": {},
   "outputs": [
    {
     "data": {
      "text/plain": [
       "Ttest_indResult(statistic=-0.13147818133675276, pvalue=0.8961701948870642)"
      ]
     },
     "execution_count": 221,
     "metadata": {},
     "output_type": "execute_result"
    }
   ],
   "source": [
    "stats.ttest_ind(ant_f_chars.AVG_K_BAND, ant_m_chars.AVG_K_BAND, equal_var=False)"
   ]
  },
  {
   "cell_type": "markdown",
   "metadata": {},
   "source": [
    "There is no significant difference here."
   ]
  },
  {
   "cell_type": "code",
   "execution_count": 222,
   "metadata": {},
   "outputs": [
    {
     "data": {
      "text/plain": [
       "Ttest_indResult(statistic=0.026228542209657403, pvalue=0.9792793645428122)"
      ]
     },
     "execution_count": 222,
     "metadata": {},
     "output_type": "execute_result"
    }
   ],
   "source": [
    "stats.ttest_ind(pro_f_chars.AVG_K_BAND, ant_f_chars.AVG_K_BAND, equal_var=False)"
   ]
  },
  {
   "cell_type": "code",
   "execution_count": 223,
   "metadata": {},
   "outputs": [
    {
     "data": {
      "text/plain": [
       "Ttest_indResult(statistic=-0.3819223985057784, pvalue=0.7039886227359056)"
      ]
     },
     "execution_count": 223,
     "metadata": {},
     "output_type": "execute_result"
    }
   ],
   "source": [
    "stats.ttest_ind(pro_m_chars.AVG_K_BAND, ant_m_chars.AVG_K_BAND, equal_var=False)"
   ]
  },
  {
   "cell_type": "markdown",
   "metadata": {},
   "source": [
    "And no significant difference here either."
   ]
  },
  {
   "cell_type": "markdown",
   "metadata": {},
   "source": [
    "## A Quick Peek at TTR by Line"
   ]
  },
  {
   "cell_type": "code",
   "execution_count": 224,
   "metadata": {},
   "outputs": [],
   "source": [
    "movie_df['TTR'] = movie_df.Type_Count / movie_df.Token_Count"
   ]
  },
  {
   "cell_type": "code",
   "execution_count": 225,
   "metadata": {},
   "outputs": [],
   "source": [
    "f_movie_df = movie_df[movie_df.Gender == 'f']\n",
    "m_movie_df = movie_df[movie_df.Gender == 'm']"
   ]
  },
  {
   "cell_type": "code",
   "execution_count": 226,
   "metadata": {},
   "outputs": [
    {
     "data": {
      "text/plain": [
       "Ttest_indResult(statistic=5.747565438307308, pvalue=9.365973396130048e-09)"
      ]
     },
     "execution_count": 226,
     "metadata": {},
     "output_type": "execute_result"
    }
   ],
   "source": [
    "stats.ttest_ind(f_movie_df.TTR, m_movie_df.TTR, equal_var = False)"
   ]
  },
  {
   "cell_type": "code",
   "execution_count": 227,
   "metadata": {},
   "outputs": [
    {
     "data": {
      "text/html": [
       "<div>\n",
       "<style scoped>\n",
       "    .dataframe tbody tr th:only-of-type {\n",
       "        vertical-align: middle;\n",
       "    }\n",
       "\n",
       "    .dataframe tbody tr th {\n",
       "        vertical-align: top;\n",
       "    }\n",
       "\n",
       "    .dataframe thead th {\n",
       "        text-align: right;\n",
       "    }\n",
       "</style>\n",
       "<table border=\"1\" class=\"dataframe\">\n",
       "  <thead>\n",
       "    <tr style=\"text-align: right;\">\n",
       "      <th></th>\n",
       "      <th>count</th>\n",
       "      <th>mean</th>\n",
       "      <th>std</th>\n",
       "      <th>min</th>\n",
       "      <th>25%</th>\n",
       "      <th>50%</th>\n",
       "      <th>75%</th>\n",
       "      <th>max</th>\n",
       "    </tr>\n",
       "    <tr>\n",
       "      <th>Gender</th>\n",
       "      <th></th>\n",
       "      <th></th>\n",
       "      <th></th>\n",
       "      <th></th>\n",
       "      <th></th>\n",
       "      <th></th>\n",
       "      <th></th>\n",
       "      <th></th>\n",
       "    </tr>\n",
       "  </thead>\n",
       "  <tbody>\n",
       "    <tr>\n",
       "      <th>f</th>\n",
       "      <td>4216.0</td>\n",
       "      <td>0.916061</td>\n",
       "      <td>0.126405</td>\n",
       "      <td>0.238095</td>\n",
       "      <td>0.857143</td>\n",
       "      <td>1.0</td>\n",
       "      <td>1.0</td>\n",
       "      <td>1.0</td>\n",
       "    </tr>\n",
       "    <tr>\n",
       "      <th>m</th>\n",
       "      <td>8914.0</td>\n",
       "      <td>0.902342</td>\n",
       "      <td>0.130396</td>\n",
       "      <td>0.214286</td>\n",
       "      <td>0.833333</td>\n",
       "      <td>1.0</td>\n",
       "      <td>1.0</td>\n",
       "      <td>1.0</td>\n",
       "    </tr>\n",
       "    <tr>\n",
       "      <th>n</th>\n",
       "      <td>312.0</td>\n",
       "      <td>0.887080</td>\n",
       "      <td>0.174888</td>\n",
       "      <td>0.166667</td>\n",
       "      <td>0.833333</td>\n",
       "      <td>1.0</td>\n",
       "      <td>1.0</td>\n",
       "      <td>1.0</td>\n",
       "    </tr>\n",
       "  </tbody>\n",
       "</table>\n",
       "</div>"
      ],
      "text/plain": [
       "         count      mean       std       min       25%  50%  75%  max\n",
       "Gender                                                               \n",
       "f       4216.0  0.916061  0.126405  0.238095  0.857143  1.0  1.0  1.0\n",
       "m       8914.0  0.902342  0.130396  0.214286  0.833333  1.0  1.0  1.0\n",
       "n        312.0  0.887080  0.174888  0.166667  0.833333  1.0  1.0  1.0"
      ]
     },
     "execution_count": 227,
     "metadata": {},
     "output_type": "execute_result"
    }
   ],
   "source": [
    "movie_df.groupby('Gender')['TTR'].describe()"
   ]
  },
  {
   "cell_type": "markdown",
   "metadata": {},
   "source": [
    "Wow! This makes the difference seem extremely significant! But recall from earlier that females have significantly shorter lines. The caveat of TTR is that as line length goes up, you're more likely to get a lower TTR. The difference above is worth noting, but I don't think that it tells the whole story."
   ]
  },
  {
   "cell_type": "code",
   "execution_count": 228,
   "metadata": {},
   "outputs": [],
   "source": [
    "#TTR by line for Role\n",
    "ant_movie_df = movie_df[movie_df.Role == 'ANT']\n",
    "pro_movie_df = movie_df[movie_df.Role == 'PRO']"
   ]
  },
  {
   "cell_type": "code",
   "execution_count": 229,
   "metadata": {},
   "outputs": [
    {
     "data": {
      "text/html": [
       "<div>\n",
       "<style scoped>\n",
       "    .dataframe tbody tr th:only-of-type {\n",
       "        vertical-align: middle;\n",
       "    }\n",
       "\n",
       "    .dataframe tbody tr th {\n",
       "        vertical-align: top;\n",
       "    }\n",
       "\n",
       "    .dataframe thead th {\n",
       "        text-align: right;\n",
       "    }\n",
       "</style>\n",
       "<table border=\"1\" class=\"dataframe\">\n",
       "  <thead>\n",
       "    <tr style=\"text-align: right;\">\n",
       "      <th></th>\n",
       "      <th>count</th>\n",
       "      <th>mean</th>\n",
       "      <th>std</th>\n",
       "      <th>min</th>\n",
       "      <th>25%</th>\n",
       "      <th>50%</th>\n",
       "      <th>75%</th>\n",
       "      <th>max</th>\n",
       "    </tr>\n",
       "    <tr>\n",
       "      <th>Role</th>\n",
       "      <th></th>\n",
       "      <th></th>\n",
       "      <th></th>\n",
       "      <th></th>\n",
       "      <th></th>\n",
       "      <th></th>\n",
       "      <th></th>\n",
       "      <th></th>\n",
       "    </tr>\n",
       "  </thead>\n",
       "  <tbody>\n",
       "    <tr>\n",
       "      <th>ANT</th>\n",
       "      <td>2037.0</td>\n",
       "      <td>0.907082</td>\n",
       "      <td>0.124392</td>\n",
       "      <td>0.214286</td>\n",
       "      <td>0.846154</td>\n",
       "      <td>0.952381</td>\n",
       "      <td>1.0</td>\n",
       "      <td>1.0</td>\n",
       "    </tr>\n",
       "    <tr>\n",
       "      <th>HELPER</th>\n",
       "      <td>3549.0</td>\n",
       "      <td>0.898836</td>\n",
       "      <td>0.135681</td>\n",
       "      <td>0.166667</td>\n",
       "      <td>0.833333</td>\n",
       "      <td>1.000000</td>\n",
       "      <td>1.0</td>\n",
       "      <td>1.0</td>\n",
       "    </tr>\n",
       "    <tr>\n",
       "      <th>N</th>\n",
       "      <td>2094.0</td>\n",
       "      <td>0.912681</td>\n",
       "      <td>0.131447</td>\n",
       "      <td>0.250000</td>\n",
       "      <td>0.857143</td>\n",
       "      <td>1.000000</td>\n",
       "      <td>1.0</td>\n",
       "      <td>1.0</td>\n",
       "    </tr>\n",
       "    <tr>\n",
       "      <th>PRO</th>\n",
       "      <td>5762.0</td>\n",
       "      <td>0.908279</td>\n",
       "      <td>0.128937</td>\n",
       "      <td>0.238095</td>\n",
       "      <td>0.833333</td>\n",
       "      <td>1.000000</td>\n",
       "      <td>1.0</td>\n",
       "      <td>1.0</td>\n",
       "    </tr>\n",
       "  </tbody>\n",
       "</table>\n",
       "</div>"
      ],
      "text/plain": [
       "         count      mean       std       min       25%       50%  75%  max\n",
       "Role                                                                      \n",
       "ANT     2037.0  0.907082  0.124392  0.214286  0.846154  0.952381  1.0  1.0\n",
       "HELPER  3549.0  0.898836  0.135681  0.166667  0.833333  1.000000  1.0  1.0\n",
       "N       2094.0  0.912681  0.131447  0.250000  0.857143  1.000000  1.0  1.0\n",
       "PRO     5762.0  0.908279  0.128937  0.238095  0.833333  1.000000  1.0  1.0"
      ]
     },
     "execution_count": 229,
     "metadata": {},
     "output_type": "execute_result"
    }
   ],
   "source": [
    "movie_df.groupby('Role')['TTR'].describe()"
   ]
  },
  {
   "cell_type": "code",
   "execution_count": 230,
   "metadata": {},
   "outputs": [
    {
     "data": {
      "text/plain": [
       "Ttest_indResult(statistic=-0.3698928762036763, pvalue=0.7114835463019438)"
      ]
     },
     "execution_count": 230,
     "metadata": {},
     "output_type": "execute_result"
    }
   ],
   "source": [
    "stats.ttest_ind(ant_movie_df.TTR, pro_movie_df.TTR, equal_var = False)"
   ]
  },
  {
   "cell_type": "markdown",
   "metadata": {},
   "source": [
    "And here for role, line by line, there seems to be no significant difference at all in TTR. Maybe line by line, protagonists are just as sophisticated as antagonists, but their vocabulary doesn't vary much across lines."
   ]
  },
  {
   "cell_type": "markdown",
   "metadata": {},
   "source": [
    "# Summary: What have we Observed?"
   ]
  },
  {
   "cell_type": "code",
   "execution_count": null,
   "metadata": {},
   "outputs": [],
   "source": []
  },
  {
   "cell_type": "code",
   "execution_count": null,
   "metadata": {},
   "outputs": [],
   "source": []
  }
 ],
 "metadata": {
  "kernelspec": {
   "display_name": "Python 3",
   "language": "python",
   "name": "python3"
  },
  "language_info": {
   "codemirror_mode": {
    "name": "ipython",
    "version": 3
   },
   "file_extension": ".py",
   "mimetype": "text/x-python",
   "name": "python",
   "nbconvert_exporter": "python",
   "pygments_lexer": "ipython3",
   "version": "3.6.4"
  }
 },
 "nbformat": 4,
 "nbformat_minor": 2
}
