{
 "cells": [
  {
   "cell_type": "markdown",
   "metadata": {},
   "source": [
    "# Commands\n",
    "Do female characters to use fewer commands than male characters? Does this depend on their role in the story? And do the TYPES of commands they use differ?\n",
    "\n",
    "Below, I use regular expressions to capture 3 types of commands:\n",
    "* Imperative Forms (ex: Stay here!)\n",
    "* Modal Forms (ex: You must stay.)\n",
    "* Suggestions (ex: You should stay.)\n",
    "\n",
    "The lasts one, suggestion, isn't quite a command, but if we assume that female speech tends to be collaborative and noncombative, female speakers may lean more toward suggestion than male characters do."
   ]
  },
  {
   "cell_type": "code",
   "execution_count": 1,
   "metadata": {},
   "outputs": [],
   "source": [
    "import pandas as pd\n",
    "import re"
   ]
  },
  {
   "cell_type": "code",
   "execution_count": 2,
   "metadata": {},
   "outputs": [],
   "source": [
    "from matplotlib import pyplot as plt"
   ]
  },
  {
   "cell_type": "code",
   "execution_count": 3,
   "metadata": {},
   "outputs": [],
   "source": [
    "from scipy import stats"
   ]
  },
  {
   "cell_type": "code",
   "execution_count": 4,
   "metadata": {},
   "outputs": [],
   "source": [
    "movies_df = pd.read_pickle(r\"C:/Users/cassi/Desktop/Data_Science/Animated-Movie-Gendered-Dialogue/private/all_tagged_dialogue.pkl\")"
   ]
  },
  {
   "cell_type": "code",
   "execution_count": 5,
   "metadata": {},
   "outputs": [
    {
     "name": "stdout",
     "output_type": "stream",
     "text": [
      "<class 'pandas.core.frame.DataFrame'>\n",
      "RangeIndex: 13442 entries, 0 to 13441\n",
      "Data columns (total 19 columns):\n",
      "Disney_Period       13442 non-null object\n",
      "Gender              13442 non-null object\n",
      "Movie               13442 non-null object\n",
      "Role                13442 non-null object\n",
      "Song                13442 non-null object\n",
      "Speaker             13442 non-null object\n",
      "Speaker_Status      13442 non-null object\n",
      "Text                13442 non-null object\n",
      "UTTERANCE_NUMBER    13442 non-null int64\n",
      "Year                13442 non-null int64\n",
      "Tokens              13442 non-null object\n",
      "Types               13442 non-null object\n",
      "Token_Count         13442 non-null int64\n",
      "Type_Count          13442 non-null int64\n",
      "POS                 13442 non-null object\n",
      "Tag_Freq            13442 non-null object\n",
      "Adj_Count           13442 non-null int64\n",
      "Adv_Count           13442 non-null int64\n",
      "Adj_over_Tokens     13442 non-null float64\n",
      "dtypes: float64(1), int64(6), object(12)\n",
      "memory usage: 1.3+ MB\n"
     ]
    }
   ],
   "source": [
    "movies_df.info()"
   ]
  },
  {
   "cell_type": "markdown",
   "metadata": {},
   "source": [
    "## Finding Commands\n",
    "\n",
    "### 1. Imperatives\n",
    "The following function is based on the idea that commands come at the beginning of a sentence, and imperative commands are in the verb's base form ('VB' in my POS tags). So, first it checks if the first word is a base form verb, then it goes through the line and checks for a 'VB' after punctuation or a conjunction (so if someone says somethine like \"Clean this up and do your homework\", both commands will be captured)."
   ]
  },
  {
   "cell_type": "code",
   "execution_count": 6,
   "metadata": {},
   "outputs": [],
   "source": [
    "def find_commands(tagged_sent):\n",
    "    commands_count = 0\n",
    "    if tagged_sent[0][1] == 'VB':\n",
    "        commands_count += 1\n",
    "    for x in tagged_sent[1:]:\n",
    "        if x[1] == 'VB':\n",
    "            place = tagged_sent.index(x)\n",
    "            if tagged_sent[place-1][1] == \".\" or tagged_sent[place-1][1] == \",\" or tagged_sent[place-1][1] == 'CC':\n",
    "                commands_count += 1\n",
    "    return commands_count"
   ]
  },
  {
   "cell_type": "code",
   "execution_count": 7,
   "metadata": {},
   "outputs": [],
   "source": [
    "movies_df[\"Imp_Command_Count\"] = movies_df.POS.map(find_commands)"
   ]
  },
  {
   "cell_type": "code",
   "execution_count": 8,
   "metadata": {},
   "outputs": [
    {
     "data": {
      "text/plain": [
       "count    13442.000000\n",
       "mean         0.198482\n",
       "std          0.525834\n",
       "min          0.000000\n",
       "25%          0.000000\n",
       "50%          0.000000\n",
       "75%          0.000000\n",
       "max         10.000000\n",
       "Name: Imp_Command_Count, dtype: float64"
      ]
     },
     "execution_count": 8,
     "metadata": {},
     "output_type": "execute_result"
    }
   ],
   "source": [
    "movies_df.Imp_Command_Count.describe() #most lines aren't commmands at all!"
   ]
  },
  {
   "cell_type": "code",
   "execution_count": 9,
   "metadata": {},
   "outputs": [
    {
     "data": {
      "text/plain": [
       "(2111, 20)"
      ]
     },
     "execution_count": 9,
     "metadata": {},
     "output_type": "execute_result"
    }
   ],
   "source": [
    "movies_df[movies_df.Imp_Command_Count >=1].shape"
   ]
  },
  {
   "cell_type": "markdown",
   "metadata": {},
   "source": [
    "### 2. Modal Commands\n",
    "Here, I look for modals addressed toward the second person. I exclude stuff like \"You've gotta be kidding me\"."
   ]
  },
  {
   "cell_type": "code",
   "execution_count": 10,
   "metadata": {},
   "outputs": [],
   "source": [
    "def find_modal_commands(sent):\n",
    "    m_commands_1 = re.findall(r\"you( must| got to|'ve got to| gotta|'ve gotta)(?! be )\", sent)\n",
    "    m_commands_2 = re.findall(r\"you (shall|will|have to|ought|need to|may not|can't|cannot|won't)\", sent)\n",
    "    m_commands_count = len(m_commands_1) + len(m_commands_2)\n",
    "    return m_commands_count"
   ]
  },
  {
   "cell_type": "code",
   "execution_count": 11,
   "metadata": {},
   "outputs": [],
   "source": [
    "movies_df['Modal_Command_Count'] = movies_df.Text.map(find_modal_commands)"
   ]
  },
  {
   "cell_type": "code",
   "execution_count": 12,
   "metadata": {},
   "outputs": [
    {
     "data": {
      "text/plain": [
       "count    13442.000000\n",
       "mean         0.018822\n",
       "std          0.145931\n",
       "min          0.000000\n",
       "25%          0.000000\n",
       "50%          0.000000\n",
       "75%          0.000000\n",
       "max          3.000000\n",
       "Name: Modal_Command_Count, dtype: float64"
      ]
     },
     "execution_count": 12,
     "metadata": {},
     "output_type": "execute_result"
    }
   ],
   "source": [
    "movies_df['Modal_Command_Count'].describe() #not many...."
   ]
  },
  {
   "cell_type": "code",
   "execution_count": 13,
   "metadata": {},
   "outputs": [
    {
     "data": {
      "text/plain": [
       "(237, 21)"
      ]
     },
     "execution_count": 13,
     "metadata": {},
     "output_type": "execute_result"
    }
   ],
   "source": [
    "movies_df[movies_df.Modal_Command_Count >=1].shape"
   ]
  },
  {
   "cell_type": "markdown",
   "metadata": {},
   "source": [
    "### 3. Suggestions\n",
    "Here, I look for modals that imply suggestion. Notice how \"you can come over\" is more suggestive than \"you can't come over\", which sounds more like a blatant command."
   ]
  },
  {
   "cell_type": "code",
   "execution_count": 14,
   "metadata": {},
   "outputs": [],
   "source": [
    "def find_suggestion(sent):\n",
    "    sug_1 = re.findall(r'you may (?!be )', sent)\n",
    "    sug_2 = re.findall(r'you (should|could|better|can )', sent)\n",
    "    sug_count = len(sug_1) + len(sug_2)\n",
    "    return sug_count"
   ]
  },
  {
   "cell_type": "code",
   "execution_count": 15,
   "metadata": {},
   "outputs": [],
   "source": [
    "movies_df['Suggestion_Count'] = movies_df.Text.map(find_suggestion)"
   ]
  },
  {
   "cell_type": "code",
   "execution_count": 16,
   "metadata": {},
   "outputs": [
    {
     "data": {
      "text/plain": [
       "count    13442.000000\n",
       "mean         0.014804\n",
       "std          0.123213\n",
       "min          0.000000\n",
       "25%          0.000000\n",
       "50%          0.000000\n",
       "75%          0.000000\n",
       "max          2.000000\n",
       "Name: Suggestion_Count, dtype: float64"
      ]
     },
     "execution_count": 16,
     "metadata": {},
     "output_type": "execute_result"
    }
   ],
   "source": [
    "movies_df.Suggestion_Count.describe() #again, not many..."
   ]
  },
  {
   "cell_type": "code",
   "execution_count": 17,
   "metadata": {},
   "outputs": [
    {
     "data": {
      "text/plain": [
       "(195, 22)"
      ]
     },
     "execution_count": 17,
     "metadata": {},
     "output_type": "execute_result"
    }
   ],
   "source": [
    "movies_df[movies_df.Suggestion_Count >=1].shape"
   ]
  },
  {
   "cell_type": "markdown",
   "metadata": {},
   "source": [
    "Overall, modal commands and suggestions are much less frequent than imperative commands. So, how do they compare?"
   ]
  },
  {
   "cell_type": "markdown",
   "metadata": {},
   "source": [
    "### 4. Summing Them All Up\n",
    "Let's add all these values to get a cumulative command count!"
   ]
  },
  {
   "cell_type": "code",
   "execution_count": 18,
   "metadata": {},
   "outputs": [],
   "source": [
    "movies_df['Total_Command_Count'] = movies_df.Imp_Command_Count + movies_df.Modal_Command_Count + movies_df.Suggestion_Count"
   ]
  },
  {
   "cell_type": "code",
   "execution_count": 19,
   "metadata": {},
   "outputs": [
    {
     "data": {
      "text/plain": [
       "count    13442.000000\n",
       "mean         0.232108\n",
       "std          0.572789\n",
       "min          0.000000\n",
       "25%          0.000000\n",
       "50%          0.000000\n",
       "75%          0.000000\n",
       "max         12.000000\n",
       "Name: Total_Command_Count, dtype: float64"
      ]
     },
     "execution_count": 19,
     "metadata": {},
     "output_type": "execute_result"
    }
   ],
   "source": [
    "movies_df.Total_Command_Count.describe()"
   ]
  },
  {
   "cell_type": "code",
   "execution_count": 20,
   "metadata": {},
   "outputs": [
    {
     "data": {
      "text/plain": [
       "\"i am moana of motunui. you will board my boat, sail across the sea, and restore the heart of te fiti. i am moana…of motu--nui. heihei? it’s okay. it's alright. see? there we go. nice water. the ocean is a friend of mine. heihei? heihei! stay. okay, next stop, maui. i am moana of motunui. you will board my boat, sail across the sea, and restore of te fiti. i am moana of ... board my boat! oh no. no, no, no! uh, ocean? can i get a little help? no, no. please. come on! help me! please!\""
      ]
     },
     "execution_count": 20,
     "metadata": {},
     "output_type": "execute_result"
    }
   ],
   "source": [
    "movies_df[movies_df.Total_Command_Count == 12].iloc[0].Text"
   ]
  },
  {
   "cell_type": "markdown",
   "metadata": {},
   "source": [
    "## Visualizations\n",
    "### Gender"
   ]
  },
  {
   "cell_type": "code",
   "execution_count": 21,
   "metadata": {},
   "outputs": [],
   "source": [
    "movies_gen_df = movies_df[movies_df.Gender != 'n']"
   ]
  },
  {
   "cell_type": "code",
   "execution_count": 22,
   "metadata": {},
   "outputs": [
    {
     "data": {
      "text/plain": [
       "Text(0, 0.5, 'Command Count')"
      ]
     },
     "execution_count": 22,
     "metadata": {},
     "output_type": "execute_result"
    },
    {
     "data": {
      "image/png": "[encoded data removed]",
      "text/plain": [
       "<Figure size 432x288 with 1 Axes>"
      ]
     },
     "metadata": {
      "needs_background": "light"
     },
     "output_type": "display_data"
    }
   ],
   "source": [
    "imp_command_by_gen = movies_gen_df.groupby('Gender')['Imp_Command_Count'].describe()['mean']\n",
    "imp_command_by_gen.plot.bar(color=['magenta', 'blue'])\n",
    "plt.title('Avg Imperative Commands per Line by Gender')\n",
    "plt.ylabel('Command Count')"
   ]
  },
  {
   "cell_type": "code",
   "execution_count": 23,
   "metadata": {},
   "outputs": [
    {
     "data": {
      "text/plain": [
       "Text(0, 0.5, 'Command Count')"
      ]
     },
     "execution_count": 23,
     "metadata": {},
     "output_type": "execute_result"
    },
    {
     "data": {
      "image/png": "[encoded data removed]",
      "text/plain": [
       "<Figure size 432x288 with 1 Axes>"
      ]
     },
     "metadata": {
      "needs_background": "light"
     },
     "output_type": "display_data"
    }
   ],
   "source": [
    "mod_command_by_gen = movies_gen_df.groupby('Gender')['Modal_Command_Count'].describe()['mean']\n",
    "mod_command_by_gen.plot.bar(color=['magenta', 'blue'])\n",
    "plt.title('Avg Modal Commands per Line by Gender')\n",
    "plt.ylabel('Command Count')"
   ]
  },
  {
   "cell_type": "code",
   "execution_count": 24,
   "metadata": {},
   "outputs": [
    {
     "data": {
      "text/plain": [
       "Text(0, 0.5, 'Suggestion Count')"
      ]
     },
     "execution_count": 24,
     "metadata": {},
     "output_type": "execute_result"
    },
    {
     "data": {
      "image/png": "[encoded data removed]",
      "text/plain": [
       "<Figure size 432x288 with 1 Axes>"
      ]
     },
     "metadata": {
      "needs_background": "light"
     },
     "output_type": "display_data"
    }
   ],
   "source": [
    "sug_by_gen = movies_gen_df.groupby('Gender')['Suggestion_Count'].describe()['mean']\n",
    "sug_by_gen.plot.bar(color=['magenta', 'blue'])\n",
    "plt.title('Avg Suggestions per Line by Gender')\n",
    "plt.ylabel('Suggestion Count')"
   ]
  },
  {
   "cell_type": "markdown",
   "metadata": {},
   "source": [
    "It looks like males use more imperatives, while females are more inclined to use modals or suggestion!"
   ]
  },
  {
   "cell_type": "code",
   "execution_count": 39,
   "metadata": {},
   "outputs": [
    {
     "data": {
      "text/plain": [
       "Text(0, 0.5, 'Command Count')"
      ]
     },
     "execution_count": 39,
     "metadata": {},
     "output_type": "execute_result"
    },
    {
     "data": {
      "image/png": "[encoded data removed]",
      "text/plain": [
       "<Figure size 432x288 with 1 Axes>"
      ]
     },
     "metadata": {
      "needs_background": "light"
     },
     "output_type": "display_data"
    }
   ],
   "source": [
    "com_by_gen = movies_gen_df.groupby('Gender')['Total_Command_Count'].describe()['mean']\n",
    "com_by_gen.plot.bar(color=['magenta', 'blue'])\n",
    "plt.title('Avg Commands per Line by Gender')\n",
    "plt.ylabel('Command Count')"
   ]
  },
  {
   "cell_type": "code",
   "execution_count": 25,
   "metadata": {},
   "outputs": [
    {
     "data": {
      "text/plain": [
       "Text(0.5, 1.0, 'Avg Imperative Command Counts Over Time by Gender')"
      ]
     },
     "execution_count": 25,
     "metadata": {},
     "output_type": "execute_result"
    },
    {
     "data": {
      "image/png": "[encoded data removed]",
      "text/plain": [
       "<Figure size 1080x432 with 1 Axes>"
      ]
     },
     "metadata": {
      "needs_background": "light"
     },
     "output_type": "display_data"
    }
   ],
   "source": [
    "imp_com_by_gen_era = movies_gen_df.groupby(['Disney_Period','Gender'], sort=False)['Imp_Command_Count'].describe()['mean']\n",
    "imp_com_by_gen_era.unstack().plot.bar(color=['magenta', 'blue'], figsize=(15,6))\n",
    "plt.xlabel('Era')\n",
    "plt.ylabel('Command Count')\n",
    "plt.title('Avg Imperative Command Counts Over Time by Gender')"
   ]
  },
  {
   "cell_type": "markdown",
   "metadata": {},
   "source": [
    "Males consistently have more imperative commands in each era."
   ]
  },
  {
   "cell_type": "code",
   "execution_count": 26,
   "metadata": {},
   "outputs": [
    {
     "data": {
      "text/plain": [
       "Text(0.5, 1.0, 'Avg Modal Command Counts Over Time by Gender')"
      ]
     },
     "execution_count": 26,
     "metadata": {},
     "output_type": "execute_result"
    },
    {
     "data": {
      "image/png": "[encoded data removed]",
      "text/plain": [
       "<Figure size 1080x432 with 1 Axes>"
      ]
     },
     "metadata": {
      "needs_background": "light"
     },
     "output_type": "display_data"
    }
   ],
   "source": [
    "mod_com_by_gen_era = movies_gen_df.groupby(['Disney_Period','Gender'], sort=False)['Modal_Command_Count'].describe()['mean']\n",
    "mod_com_by_gen_era.unstack().plot.bar(color=['magenta', 'blue'], figsize=(15,6))\n",
    "plt.xlabel('Era')\n",
    "plt.ylabel('Command Count')\n",
    "plt.title('Avg Modal Command Counts Over Time by Gender')"
   ]
  },
  {
   "cell_type": "markdown",
   "metadata": {},
   "source": [
    "In every era (save dreamworks), females use more modal commands than males, and both genders have increased their modal command count"
   ]
  },
  {
   "cell_type": "code",
   "execution_count": 27,
   "metadata": {},
   "outputs": [
    {
     "data": {
      "text/plain": [
       "Text(0.5, 1.0, 'Avg Suggestion Counts Over Time by Gender')"
      ]
     },
     "execution_count": 27,
     "metadata": {},
     "output_type": "execute_result"
    },
    {
     "data": {
      "image/png": "[encoded data removed]",
      "text/plain": [
       "<Figure size 1080x432 with 1 Axes>"
      ]
     },
     "metadata": {
      "needs_background": "light"
     },
     "output_type": "display_data"
    }
   ],
   "source": [
    "sug_by_gen_era = movies_gen_df.groupby(['Disney_Period','Gender'], sort=False)['Suggestion_Count'].describe()['mean']\n",
    "sug_by_gen_era.unstack().plot.bar(color=['magenta', 'blue'], figsize=(15,6))\n",
    "plt.xlabel('Era')\n",
    "plt.ylabel('Suggestion Count')\n",
    "plt.title('Avg Suggestion Counts Over Time by Gender')"
   ]
  },
  {
   "cell_type": "markdown",
   "metadata": {},
   "source": [
    "No male characters make suggestions in the early period! This may be a reflection of my regular expressions..."
   ]
  },
  {
   "cell_type": "code",
   "execution_count": 40,
   "metadata": {},
   "outputs": [
    {
     "data": {
      "text/plain": [
       "Text(0.5, 1.0, 'Avg Total Command Counts Over Time by Gender')"
      ]
     },
     "execution_count": 40,
     "metadata": {},
     "output_type": "execute_result"
    },
    {
     "data": {
      "image/png": "[encoded data removed]",
      "text/plain": [
       "<Figure size 1080x432 with 1 Axes>"
      ]
     },
     "metadata": {
      "needs_background": "light"
     },
     "output_type": "display_data"
    }
   ],
   "source": [
    "com_by_gen_era = movies_gen_df.groupby(['Disney_Period','Gender'], sort=False)['Total_Command_Count'].describe()['mean']\n",
    "com_by_gen_era.unstack().plot.bar(color=['magenta', 'blue'], figsize=(15,6))\n",
    "plt.xlabel('Era')\n",
    "plt.ylabel('Command Count')\n",
    "plt.title('Avg Total Command Counts Over Time by Gender')"
   ]
  },
  {
   "cell_type": "markdown",
   "metadata": {},
   "source": [
    "### Role"
   ]
  },
  {
   "cell_type": "code",
   "execution_count": 28,
   "metadata": {},
   "outputs": [],
   "source": [
    "movies_role_df = movies_df[movies_df.Role != 'N']"
   ]
  },
  {
   "cell_type": "code",
   "execution_count": 29,
   "metadata": {},
   "outputs": [
    {
     "data": {
      "text/plain": [
       "Text(0, 0.5, 'Command Count')"
      ]
     },
     "execution_count": 29,
     "metadata": {},
     "output_type": "execute_result"
    },
    {
     "data": {
      "image/png": "[encoded data removed]",
      "text/plain": [
       "<Figure size 432x288 with 1 Axes>"
      ]
     },
     "metadata": {
      "needs_background": "light"
     },
     "output_type": "display_data"
    }
   ],
   "source": [
    "imp_command_by_role = movies_role_df.groupby('Role')['Imp_Command_Count'].describe()['mean']\n",
    "imp_command_by_role.plot.bar(color=['red', 'purple', 'blue'])\n",
    "plt.title('Avg Imperative Commands per Line by Role')\n",
    "plt.ylabel('Command Count')"
   ]
  },
  {
   "cell_type": "code",
   "execution_count": 30,
   "metadata": {},
   "outputs": [
    {
     "data": {
      "text/plain": [
       "Text(0, 0.5, 'Command Count')"
      ]
     },
     "execution_count": 30,
     "metadata": {},
     "output_type": "execute_result"
    },
    {
     "data": {
      "image/png": "[encoded data removed]",
      "text/plain": [
       "<Figure size 432x288 with 1 Axes>"
      ]
     },
     "metadata": {
      "needs_background": "light"
     },
     "output_type": "display_data"
    }
   ],
   "source": [
    "mod_command_by_role = movies_role_df.groupby('Role')['Modal_Command_Count'].describe()['mean']\n",
    "mod_command_by_role.plot.bar(color=['red', 'purple', 'blue'])\n",
    "plt.title('Avg Modal Commands per Line by Role')\n",
    "plt.ylabel('Command Count')"
   ]
  },
  {
   "cell_type": "code",
   "execution_count": 31,
   "metadata": {},
   "outputs": [
    {
     "data": {
      "text/plain": [
       "Text(0, 0.5, 'Suggestion Count')"
      ]
     },
     "execution_count": 31,
     "metadata": {},
     "output_type": "execute_result"
    },
    {
     "data": {
      "image/png": "[encoded data removed]",
      "text/plain": [
       "<Figure size 432x288 with 1 Axes>"
      ]
     },
     "metadata": {
      "needs_background": "light"
     },
     "output_type": "display_data"
    }
   ],
   "source": [
    "sug_by_role = movies_role_df.groupby('Role')['Suggestion_Count'].describe()['mean']\n",
    "sug_by_role.plot.bar(color=['red', 'purple', 'blue'])\n",
    "plt.title('Avg Suggestions per Line by Role')\n",
    "plt.ylabel('Suggestion Count')"
   ]
  },
  {
   "cell_type": "markdown",
   "metadata": {},
   "source": [
    "Antagonists seem to make more suggestions and commands!"
   ]
  },
  {
   "cell_type": "code",
   "execution_count": 41,
   "metadata": {},
   "outputs": [
    {
     "data": {
      "text/plain": [
       "Text(0, 0.5, 'Command Count')"
      ]
     },
     "execution_count": 41,
     "metadata": {},
     "output_type": "execute_result"
    },
    {
     "data": {
      "image/png": "[encoded data removed]",
      "text/plain": [
       "<Figure size 432x288 with 1 Axes>"
      ]
     },
     "metadata": {
      "needs_background": "light"
     },
     "output_type": "display_data"
    }
   ],
   "source": [
    "com_by_role = movies_role_df.groupby('Role')['Total_Command_Count'].describe()['mean']\n",
    "com_by_role.plot.bar(color=['red', 'purple', 'blue'])\n",
    "plt.title('Avg Total Commands per Line by Role')\n",
    "plt.ylabel('Command Count')"
   ]
  },
  {
   "cell_type": "code",
   "execution_count": 32,
   "metadata": {},
   "outputs": [
    {
     "data": {
      "text/plain": [
       "Text(0, 0.5, 'Command Count')"
      ]
     },
     "execution_count": 32,
     "metadata": {},
     "output_type": "execute_result"
    },
    {
     "data": {
      "image/png": "[encoded data removed]",
      "text/plain": [
       "<Figure size 1080x432 with 1 Axes>"
      ]
     },
     "metadata": {
      "needs_background": "light"
     },
     "output_type": "display_data"
    }
   ],
   "source": [
    "imp_com_by_role_era = movies_role_df.groupby(['Disney_Period','Role'], sort=False)['Imp_Command_Count'].describe()['mean']\n",
    "imp_com_by_role_era.unstack().plot.bar(color=['red', 'blue', 'purple'], figsize=(15,6))\n",
    "plt.title('Avg Imperative Command Counts over Time by Role')\n",
    "plt.xlabel('Era')\n",
    "plt.ylabel('Command Count')"
   ]
  },
  {
   "cell_type": "markdown",
   "metadata": {},
   "source": [
    "This is pretty mixed..."
   ]
  },
  {
   "cell_type": "code",
   "execution_count": 33,
   "metadata": {},
   "outputs": [
    {
     "data": {
      "text/plain": [
       "Text(0, 0.5, 'Command Count')"
      ]
     },
     "execution_count": 33,
     "metadata": {},
     "output_type": "execute_result"
    },
    {
     "data": {
      "image/png": "[encoded data removed]",
      "text/plain": [
       "<Figure size 1080x432 with 1 Axes>"
      ]
     },
     "metadata": {
      "needs_background": "light"
     },
     "output_type": "display_data"
    }
   ],
   "source": [
    "mod_com_by_role_era = movies_role_df.groupby(['Disney_Period','Role'], sort=False)['Modal_Command_Count'].describe()['mean']\n",
    "mod_com_by_role_era.unstack().plot.bar(color=['red', 'blue', 'purple'], figsize=(15,6))\n",
    "plt.title('Avg Modal Command Counts over Time by Role')\n",
    "plt.xlabel('Era')\n",
    "plt.ylabel('Command Count')"
   ]
  },
  {
   "cell_type": "markdown",
   "metadata": {},
   "source": [
    "As time goes on, both protagonists and antagonists tend to use more modal commands"
   ]
  },
  {
   "cell_type": "code",
   "execution_count": 34,
   "metadata": {},
   "outputs": [
    {
     "data": {
      "text/plain": [
       "Text(0, 0.5, 'Suggestion Count')"
      ]
     },
     "execution_count": 34,
     "metadata": {},
     "output_type": "execute_result"
    },
    {
     "data": {
      "image/png": "[encoded data removed]",
      "text/plain": [
       "<Figure size 1080x432 with 1 Axes>"
      ]
     },
     "metadata": {
      "needs_background": "light"
     },
     "output_type": "display_data"
    }
   ],
   "source": [
    "sug_by_role_era = movies_role_df.groupby(['Disney_Period','Role'], sort=False)['Suggestion_Count'].describe()['mean']\n",
    "sug_by_role_era.unstack().plot.bar(color=['red', 'blue', 'purple'], figsize=(15,6))\n",
    "plt.title('Avg Suggestion Counts over Time by Role')\n",
    "plt.xlabel('Era')\n",
    "plt.ylabel('Suggestion Count')"
   ]
  },
  {
   "cell_type": "markdown",
   "metadata": {},
   "source": [
    "In each era, antagonists are making more suggestions--perhaps as a form of trickery? Protagonists have also increased suggestion counts over time"
   ]
  },
  {
   "cell_type": "code",
   "execution_count": 42,
   "metadata": {},
   "outputs": [
    {
     "data": {
      "text/plain": [
       "Text(0, 0.5, 'Command Count')"
      ]
     },
     "execution_count": 42,
     "metadata": {},
     "output_type": "execute_result"
    },
    {
     "data": {
      "image/png": "[encoded data removed]",
      "text/plain": [
       "<Figure size 1080x432 with 1 Axes>"
      ]
     },
     "metadata": {
      "needs_background": "light"
     },
     "output_type": "display_data"
    }
   ],
   "source": [
    "com_by_role_era = movies_role_df.groupby(['Disney_Period','Role'], sort=False)['Total_Command_Count'].describe()['mean']\n",
    "com_by_role_era.unstack().plot.bar(color=['red', 'blue', 'purple'], figsize=(15,6))\n",
    "plt.title('Avg Total Command Counts over Time by Role')\n",
    "plt.xlabel('Era')\n",
    "plt.ylabel('Command Count')"
   ]
  },
  {
   "cell_type": "markdown",
   "metadata": {},
   "source": [
    "### Role and Gender\n"
   ]
  },
  {
   "cell_type": "code",
   "execution_count": 35,
   "metadata": {},
   "outputs": [],
   "source": [
    "movies_role_gen_df = movies_df[(movies_df.Gender != 'n') & (movies_df.Role != 'N')]"
   ]
  },
  {
   "cell_type": "code",
   "execution_count": 36,
   "metadata": {},
   "outputs": [
    {
     "data": {
      "text/plain": [
       "Text(0, 0.5, 'Command Count')"
      ]
     },
     "execution_count": 36,
     "metadata": {},
     "output_type": "execute_result"
    },
    {
     "data": {
      "image/png": "[encoded data removed]",
      "text/plain": [
       "<Figure size 1080x432 with 1 Axes>"
      ]
     },
     "metadata": {
      "needs_background": "light"
     },
     "output_type": "display_data"
    }
   ],
   "source": [
    "imp_com_gen_role = movies_role_gen_df.groupby(['Gender','Role'], sort=False)['Imp_Command_Count'].describe()['mean']\n",
    "imp_com_gen_role.unstack().plot.bar(color=['red', 'blue', 'purple'], figsize=(15,6))\n",
    "plt.title('Avg Imperative Commmand Counts by Gender & Role')\n",
    "plt.xlabel('Gender')\n",
    "plt.ylabel('Command Count')"
   ]
  },
  {
   "cell_type": "markdown",
   "metadata": {},
   "source": [
    "Female antagonists use more commands than female protagonists and male antagonists. Male protagonists only use slightly more commands than female protagonists."
   ]
  },
  {
   "cell_type": "code",
   "execution_count": 37,
   "metadata": {},
   "outputs": [
    {
     "data": {
      "text/plain": [
       "Text(0, 0.5, 'Command Count')"
      ]
     },
     "execution_count": 37,
     "metadata": {},
     "output_type": "execute_result"
    },
    {
     "data": {
      "image/png": "[encoded data removed]",
      "text/plain": [
       "<Figure size 1080x432 with 1 Axes>"
      ]
     },
     "metadata": {
      "needs_background": "light"
     },
     "output_type": "display_data"
    }
   ],
   "source": [
    "mod_com_gen_role = movies_role_gen_df.groupby(['Gender','Role'], sort=False)['Modal_Command_Count'].describe()['mean']\n",
    "mod_com_gen_role.unstack().plot.bar(color=['red', 'blue', 'purple'], figsize=(15,6))\n",
    "plt.title('Avg Modal Commmand Counts by Gender & Role')\n",
    "plt.xlabel('Gender')\n",
    "plt.ylabel('Command Count')"
   ]
  },
  {
   "cell_type": "markdown",
   "metadata": {},
   "source": [
    "Female protagonists use more modal commands than male protagonists and female antagonists!"
   ]
  },
  {
   "cell_type": "code",
   "execution_count": 38,
   "metadata": {},
   "outputs": [
    {
     "data": {
      "text/plain": [
       "Text(0, 0.5, 'Suggestion Count')"
      ]
     },
     "execution_count": 38,
     "metadata": {},
     "output_type": "execute_result"
    },
    {
     "data": {
      "image/png": "[encoded data removed]",
      "text/plain": [
       "<Figure size 1080x432 with 1 Axes>"
      ]
     },
     "metadata": {
      "needs_background": "light"
     },
     "output_type": "display_data"
    }
   ],
   "source": [
    "sug_gen_role = movies_role_gen_df.groupby(['Gender','Role'], sort=False)['Suggestion_Count'].describe()['mean']\n",
    "sug_gen_role.unstack().plot.bar(color=['red', 'blue', 'purple'], figsize=(15,6))\n",
    "plt.title('Avg Suggestion Counts by Gender & Role')\n",
    "plt.xlabel('Gender')\n",
    "plt.ylabel('Suggestion Count')"
   ]
  },
  {
   "cell_type": "markdown",
   "metadata": {},
   "source": [
    "Wow, nearly no differences between female pros and ants or male pros and female pros. But male antagonists tend to use them."
   ]
  },
  {
   "cell_type": "markdown",
   "metadata": {},
   "source": [
    "## Significance Tests"
   ]
  },
  {
   "cell_type": "code",
   "execution_count": 43,
   "metadata": {},
   "outputs": [],
   "source": [
    "#Gender overall\n",
    "f_movies = movies_df[movies_df.Gender == 'f']\n",
    "m_movies = movies_df[movies_df.Gender == 'm']\n",
    "\n",
    "#Gender over time\n",
    "f_movies_early = f_movies[f_movies.Disney_Period == 'EARLY']\n",
    "m_movies_early = m_movies[m_movies.Disney_Period == 'EARLY']\n",
    "\n",
    "f_movies_mid = f_movies[f_movies.Disney_Period == 'MID']\n",
    "m_movies_mid = m_movies[m_movies.Disney_Period == 'MID']\n",
    "\n",
    "f_movies_late = f_movies[f_movies.Disney_Period == 'LATE']\n",
    "m_movies_late = m_movies[m_movies.Disney_Period == 'LATE']\n",
    "\n",
    "#Gender Across Companies\n",
    "f_movies_disney = f_movies[f_movies.Disney_Period != 'DREAMWORKS']\n",
    "f_movies_dw = f_movies[f_movies.Disney_Period == 'DREAMWORKS']\n",
    "\n",
    "m_movies_disney = m_movies[m_movies.Disney_Period != 'DREAMWORKS']\n",
    "m_movies_dw = m_movies[m_movies.Disney_Period == 'DREAMWORKS']\n",
    "\n",
    "#Role Overall\n",
    "pro_movies = movies_df[movies_df.Role == 'PRO']\n",
    "ant_movies = movies_df[movies_df.Role == 'ANT']\n",
    "helper_movies = movies_df[movies_df.Role == 'HELPER']\n",
    "\n",
    "#Role Over Time\n",
    "pro_movies_early = pro_movies[pro_movies.Disney_Period == 'EARLY']\n",
    "pro_movies_mid = pro_movies[pro_movies.Disney_Period == 'MID']\n",
    "pro_movies_late = pro_movies[pro_movies.Disney_Period == 'LATE']\n",
    "\n",
    "ant_movies_early = ant_movies[ant_movies.Disney_Period == 'EARLY']\n",
    "ant_movies_mid = ant_movies[ant_movies.Disney_Period == 'MID']\n",
    "ant_movies_late = ant_movies[ant_movies.Disney_Period == 'LATE']\n",
    "\n",
    "#Role by Company\n",
    "ant_movies_disney = ant_movies[ant_movies.Disney_Period != 'DREAMWORKS']\n",
    "ant_movies_dw = ant_movies[ant_movies.Disney_Period == 'DREAMWORKS']\n",
    "\n",
    "pro_movies_disney = pro_movies[pro_movies.Disney_Period != 'DREAMWORKS']\n",
    "pro_movies_dw = pro_movies[pro_movies.Disney_Period == 'DREAMWORKS']\n",
    "\n",
    "#Role and Gender\n",
    "movies_gen_role = movies_df[(movies_df.Gender != 'n') & (movies_df.Role != 'N')]\n",
    "\n",
    "pro_f_movies = movies_gen_role[(movies_gen_role.Gender == 'f') & (movies_gen_role.Role == 'PRO')]\n",
    "pro_m_movies = movies_gen_role[(movies_gen_role.Gender == 'm') & (movies_gen_role.Role == 'PRO')]\n",
    "\n",
    "ant_f_movies = movies_gen_role[(movies_gen_role.Gender == 'f') & (movies_gen_role.Role == 'ANT')]\n",
    "ant_m_movies = movies_gen_role[(movies_gen_role.Gender == 'm') & (movies_gen_role.Role == 'ANT')]"
   ]
  },
  {
   "cell_type": "markdown",
   "metadata": {},
   "source": [
    "### Gender\n",
    "#### Gender Overall"
   ]
  },
  {
   "cell_type": "code",
   "execution_count": 47,
   "metadata": {},
   "outputs": [
    {
     "name": "stdout",
     "output_type": "stream",
     "text": [
      "Overall Gender Differences (Male vs Female)\n",
      "Imp_Command_Count\n",
      "Ttest_indResult(statistic=2.659776627954855, pvalue=0.007833837143633273)\n",
      "\n",
      "\n",
      "Modal_Command_Count\n",
      "Ttest_indResult(statistic=-0.7551096511463004, pvalue=0.4502058802815313)\n",
      "\n",
      "\n",
      "Suggestion_Count\n",
      "Ttest_indResult(statistic=-0.21147132614904182, pvalue=0.8325248644262484)\n",
      "\n",
      "\n",
      "Total_Command_Count\n",
      "Ttest_indResult(statistic=2.168885120953673, pvalue=0.03011967418309977)\n",
      "\n",
      "\n"
     ]
    }
   ],
   "source": [
    "print('Overall Gender Differences (Male vs Female)')\n",
    "for x in ['Imp_Command_Count', 'Modal_Command_Count', 'Suggestion_Count', 'Total_Command_Count']:\n",
    "    print(x)\n",
    "    print(stats.ttest_ind(m_movies[x], f_movies[x], equal_var=False))\n",
    "    print('\\n')"
   ]
  },
  {
   "cell_type": "markdown",
   "metadata": {},
   "source": [
    "Male characters use significantly more imperative commands, and overall use significantly more commands!"
   ]
  },
  {
   "cell_type": "markdown",
   "metadata": {},
   "source": [
    "#### Gender Over Time"
   ]
  },
  {
   "cell_type": "code",
   "execution_count": 49,
   "metadata": {},
   "outputs": [
    {
     "name": "stdout",
     "output_type": "stream",
     "text": [
      "Gender Differences over Time\n",
      "Imp_Command_Count\n",
      "Female\n",
      "ANOVA\n",
      "F_onewayResult(statistic=6.387505120178484, pvalue=0.0017062489042872536)\n",
      "EARLY V MID\n",
      "Ttest_indResult(statistic=3.266450050253298, pvalue=0.0011199546136580738)\n",
      "EARLY V LATE\n",
      "Ttest_indResult(statistic=0.2647782333926759, pvalue=0.7912196596899268)\n",
      "MID V LATE\n",
      "Ttest_indResult(statistic=-3.7618623549373935, pvalue=0.00017325747212869179)\n",
      "\n",
      "Male\n",
      "ANOVA\n",
      "F_onewayResult(statistic=2.433715765861305, pvalue=0.08784712516585397)\n",
      "EARLY V MID\n",
      "Ttest_indResult(statistic=1.6745958556601315, pvalue=0.09447495553114171)\n",
      "EARLY V LATE\n",
      "Ttest_indResult(statistic=0.6446255700278695, pvalue=0.5193406741324429)\n",
      "MID V LATE\n",
      "Ttest_indResult(statistic=-1.5503026004885, pvalue=0.12120721837985186)\n",
      "\n",
      "\n",
      "Modal_Command_Count\n",
      "Female\n",
      "ANOVA\n",
      "F_onewayResult(statistic=0.6539322556171047, pvalue=0.5200737561752198)\n",
      "EARLY V MID\n",
      "Ttest_indResult(statistic=-0.5795859621970315, pvalue=0.562285384866317)\n",
      "EARLY V LATE\n",
      "Ttest_indResult(statistic=-1.1288172491216308, pvalue=0.2591539134741814)\n",
      "MID V LATE\n",
      "Ttest_indResult(statistic=-0.5585445738777677, pvalue=0.5765411142476983)\n",
      "\n",
      "Male\n",
      "ANOVA\n",
      "F_onewayResult(statistic=1.9465241980511205, pvalue=0.14291188920862774)\n",
      "EARLY V MID\n",
      "Ttest_indResult(statistic=-2.096877915932432, pvalue=0.03621970226721535)\n",
      "EARLY V LATE\n",
      "Ttest_indResult(statistic=-2.384464503237682, pvalue=0.01723492043875722)\n",
      "MID V LATE\n",
      "Ttest_indResult(statistic=-0.5772952846256891, pvalue=0.563790983190464)\n",
      "\n",
      "\n",
      "Suggestion_Count\n",
      "Female\n",
      "ANOVA\n",
      "F_onewayResult(statistic=1.4559142494966197, pvalue=0.23335770131032404)\n",
      "EARLY V MID\n",
      "Ttest_indResult(statistic=-0.9536571349935568, pvalue=0.3404161745673605)\n",
      "EARLY V LATE\n",
      "Ttest_indResult(statistic=-1.887525224097852, pvalue=0.05923799647480975)\n",
      "MID V LATE\n",
      "Ttest_indResult(statistic=-0.8010220321860835, pvalue=0.42322127387533215)\n",
      "\n",
      "Male\n",
      "ANOVA\n",
      "F_onewayResult(statistic=6.0758695442755375, pvalue=0.002320047137797293)\n",
      "EARLY V MID\n",
      "Ttest_indResult(statistic=-5.422104146239234, pvalue=6.580237554317234e-08)\n",
      "EARLY V LATE\n",
      "Ttest_indResult(statistic=-5.064374326996738, pvalue=4.7315122739688266e-07)\n",
      "MID V LATE\n",
      "Ttest_indResult(statistic=-1.602046728005205, pvalue=0.10929847290326763)\n",
      "\n",
      "\n",
      "Total_Command_Count\n",
      "Female\n",
      "ANOVA\n",
      "F_onewayResult(statistic=5.460304642898176, pvalue=0.0042961532828016385)\n",
      "EARLY V MID\n",
      "Ttest_indResult(statistic=2.6422509363179336, pvalue=0.008339524488301749)\n",
      "EARLY V LATE\n",
      "Ttest_indResult(statistic=-0.38237673321722127, pvalue=0.7022376859435964)\n",
      "MID V LATE\n",
      "Ttest_indResult(statistic=-3.6710486652181826, pvalue=0.00024756685050607947)\n",
      "\n",
      "Male\n",
      "ANOVA\n",
      "F_onewayResult(statistic=1.961973425831486, pvalue=0.1407232139832661)\n",
      "EARLY V MID\n",
      "Ttest_indResult(statistic=0.8196278248448395, pvalue=0.4127050312591328)\n",
      "EARLY V LATE\n",
      "Ttest_indResult(statistic=-0.44928246360171253, pvalue=0.653333366341754)\n",
      "MID V LATE\n",
      "Ttest_indResult(statistic=-1.9253190346835436, pvalue=0.05431317357737325)\n",
      "\n",
      "\n"
     ]
    }
   ],
   "source": [
    "print('Gender Differences over Time')\n",
    "for x in ['Imp_Command_Count', 'Modal_Command_Count', 'Suggestion_Count', 'Total_Command_Count']:\n",
    "    print(x)\n",
    "    print('Female')\n",
    "    print('ANOVA')\n",
    "    print(stats.f_oneway(f_movies_early[x], f_movies_mid[x], f_movies_late[x]))\n",
    "    print('EARLY V MID')\n",
    "    print(stats.ttest_ind(f_movies_early[x], f_movies_mid[x], equal_var=False))\n",
    "    print('EARLY V LATE')\n",
    "    print(stats.ttest_ind(f_movies_early[x], f_movies_late[x], equal_var=False))\n",
    "    print('MID V LATE')\n",
    "    print(stats.ttest_ind(f_movies_mid[x], f_movies_late[x], equal_var=False))\n",
    "    print('\\nMale')\n",
    "    print('ANOVA')\n",
    "    print(stats.f_oneway(m_movies_early[x], m_movies_mid[x], m_movies_late[x]))\n",
    "    print('EARLY V MID')\n",
    "    print(stats.ttest_ind(m_movies_early[x], m_movies_mid[x], equal_var=False))\n",
    "    print('EARLY V LATE')\n",
    "    print(stats.ttest_ind(m_movies_early[x], m_movies_late[x], equal_var=False))\n",
    "    print('MID V LATE')\n",
    "    print(stats.ttest_ind(m_movies_mid[x], m_movies_late[x], equal_var=False))\n",
    "    print('\\n')"
   ]
  },
  {
   "cell_type": "code",
   "execution_count": 50,
   "metadata": {},
   "outputs": [
    {
     "name": "stdout",
     "output_type": "stream",
     "text": [
      "Gender Differences w/in Each Era (M v F)\n",
      "Imp_Command_Count\n",
      "EARLY\n",
      "Ttest_indResult(statistic=1.1824477999601386, pvalue=0.2373008733205311)\n",
      "MID\n",
      "Ttest_indResult(statistic=4.2673199582663095, pvalue=2.0813593295663377e-05)\n",
      "LATE\n",
      "Ttest_indResult(statistic=1.2768584324593766, pvalue=0.2017671248574724)\n",
      "\n",
      "\n",
      "Modal_Command_Count\n",
      "EARLY\n",
      "Ttest_indResult(statistic=-1.1226275492974946, pvalue=0.26181701799177354)\n",
      "MID\n",
      "Ttest_indResult(statistic=-0.0808050192999737, pvalue=0.9356074478133607)\n",
      "LATE\n",
      "Ttest_indResult(statistic=-0.14847095063452137, pvalue=0.8819825826813525)\n",
      "\n",
      "\n",
      "Suggestion_Count\n",
      "EARLY\n",
      "Ttest_indResult(statistic=-2.657163663003932, pvalue=0.008059808199985991)\n",
      "MID\n",
      "Ttest_indResult(statistic=-0.28845501921600103, pvalue=0.7730435806940852)\n",
      "LATE\n",
      "Ttest_indResult(statistic=0.3178041599284992, pvalue=0.7506594035271016)\n",
      "\n",
      "\n",
      "Total_Command_Count\n",
      "EARLY\n",
      "Ttest_indResult(statistic=0.6624075817464954, pvalue=0.5078528235352169)\n",
      "MID\n",
      "Ttest_indResult(statistic=3.7074927019000046, pvalue=0.00021588452308422788)\n",
      "LATE\n",
      "Ttest_indResult(statistic=1.1773713883821655, pvalue=0.23915492338240896)\n",
      "\n",
      "\n"
     ]
    }
   ],
   "source": [
    "print('Gender Differences w/in Each Era (M v F)')\n",
    "for x in ['Imp_Command_Count', 'Modal_Command_Count', 'Suggestion_Count', 'Total_Command_Count']:\n",
    "    print(x)\n",
    "    print('EARLY')\n",
    "    print(stats.ttest_ind(m_movies_early[x], f_movies_early[x], equal_var=False))\n",
    "    print('MID')\n",
    "    print(stats.ttest_ind(m_movies_mid[x], f_movies_mid[x], equal_var=False))\n",
    "    print('LATE')\n",
    "    print(stats.ttest_ind(m_movies_late[x], f_movies_late[x], equal_var=False))\n",
    "    print('\\n')"
   ]
  },
  {
   "cell_type": "markdown",
   "metadata": {},
   "source": [
    "#### Gender Across Companies"
   ]
  },
  {
   "cell_type": "code",
   "execution_count": 53,
   "metadata": {},
   "outputs": [
    {
     "name": "stdout",
     "output_type": "stream",
     "text": [
      "Gender Differences Across Companies\n",
      "Imp_Command_Count\n",
      "M v F: DISNEY\n",
      "Ttest_indResult(statistic=2.538852499553593, pvalue=0.011145435964832725)\n",
      "M v F: DREAMWORKS\n",
      "Ttest_indResult(statistic=4.063189998417468, pvalue=4.988722404684792e-05)\n",
      "Disney v Dreamworks: M\n",
      "Ttest_indResult(statistic=4.879315773288723, pvalue=1.0865496345531275e-06)\n",
      "Disney v Dreamworks: F\n",
      "Ttest_indResult(statistic=4.911616883812411, pvalue=9.445829517853623e-07)\n",
      "\n",
      "\n",
      "Modal_Command_Count\n",
      "M v F: DISNEY\n",
      "Ttest_indResult(statistic=-0.4968769182630477, pvalue=0.6192936131911158)\n",
      "M v F: DREAMWORKS\n",
      "Ttest_indResult(statistic=0.8165049829664607, pvalue=0.4142971834618523)\n",
      "Disney v Dreamworks: M\n",
      "Ttest_indResult(statistic=1.954702820790155, pvalue=0.05065815328784088)\n",
      "Disney v Dreamworks: F\n",
      "Ttest_indResult(statistic=2.546290585174702, pvalue=0.010928348305454007)\n",
      "\n",
      "\n",
      "Suggestion_Count\n",
      "M v F: DISNEY\n",
      "Ttest_indResult(statistic=-0.5741325960763118, pvalue=0.5658997209483554)\n",
      "M v F: DREAMWORKS\n",
      "Ttest_indResult(statistic=0.6038839611723288, pvalue=0.5459831608111217)\n",
      "Disney v Dreamworks: M\n",
      "Ttest_indResult(statistic=-0.12144139701758934, pvalue=0.9033444014545612)\n",
      "Disney v Dreamworks: F\n",
      "Ttest_indResult(statistic=0.9187548471592122, pvalue=0.3582986369560287)\n",
      "\n",
      "\n",
      "Total_Command_Count\n",
      "M v F: DISNEY\n",
      "Ttest_indResult(statistic=2.0524527807503916, pvalue=0.04016740310608063)\n",
      "M v F: DREAMWORKS\n",
      "Ttest_indResult(statistic=4.104728794069871, pvalue=4.1781858392647495e-05)\n",
      "Disney v Dreamworks: M\n",
      "Ttest_indResult(statistic=4.987290921587603, pvalue=6.261515310666599e-07)\n",
      "Disney v Dreamworks: F\n",
      "Ttest_indResult(statistic=5.347806751962026, pvalue=9.460475103196065e-08)\n",
      "\n",
      "\n"
     ]
    }
   ],
   "source": [
    "print('Gender Differences Across Companies')\n",
    "for x in ['Imp_Command_Count', 'Modal_Command_Count', 'Suggestion_Count', 'Total_Command_Count']:\n",
    "    print(x)\n",
    "    print('M v F: DISNEY')\n",
    "    print(stats.ttest_ind(m_movies_disney[x], f_movies_disney[x], equal_var=False))\n",
    "    print('M v F: DREAMWORKS')\n",
    "    print(stats.ttest_ind(m_movies_dw[x], f_movies_dw[x], equal_var=False))\n",
    "    print('Disney v Dreamworks: M')\n",
    "    print(stats.ttest_ind(m_movies_disney[x], m_movies_dw[x], equal_var=False))\n",
    "    print('Disney v Dreamworks: F')\n",
    "    print(stats.ttest_ind(f_movies_disney[x], f_movies_dw[x], equal_var=False))\n",
    "    print('\\n')"
   ]
  },
  {
   "cell_type": "markdown",
   "metadata": {},
   "source": [
    "### Role\n",
    "#### Role Overall"
   ]
  },
  {
   "cell_type": "code",
   "execution_count": 54,
   "metadata": {},
   "outputs": [
    {
     "name": "stdout",
     "output_type": "stream",
     "text": [
      "Overall Role Differences (Pro vs Ant)\n",
      "Imp_Command_Count\n",
      "Ttest_indResult(statistic=-2.5431922598497247, pvalue=0.01102680650394242)\n",
      "\n",
      "\n",
      "Modal_Command_Count\n",
      "Ttest_indResult(statistic=-1.4989521569558875, pvalue=0.13398281572648457)\n",
      "\n",
      "\n",
      "Suggestion_Count\n",
      "Ttest_indResult(statistic=-0.9151634547975789, pvalue=0.36017219737193973)\n",
      "\n",
      "\n",
      "Total_Command_Count\n",
      "Ttest_indResult(statistic=-2.945848615521399, pvalue=0.0032414921126683663)\n",
      "\n",
      "\n"
     ]
    }
   ],
   "source": [
    "print('Overall Role Differences (Pro vs Ant)')\n",
    "for x in ['Imp_Command_Count', 'Modal_Command_Count', 'Suggestion_Count', 'Total_Command_Count']:\n",
    "    print(x)\n",
    "    print(stats.ttest_ind(pro_movies[x], ant_movies[x], equal_var=False))\n",
    "    print('\\n')"
   ]
  },
  {
   "cell_type": "markdown",
   "metadata": {},
   "source": [
    "#### Role Over Time"
   ]
  },
  {
   "cell_type": "code",
   "execution_count": 55,
   "metadata": {},
   "outputs": [
    {
     "name": "stdout",
     "output_type": "stream",
     "text": [
      "Role Differences over Time\n",
      "Imp_Command_Count\n",
      "Pro\n",
      "ANOVA\n",
      "F_onewayResult(statistic=4.908611803101062, pvalue=0.007441563134009212)\n",
      "EARLY V MID\n",
      "Ttest_indResult(statistic=2.404258714223578, pvalue=0.01681789056393896)\n",
      "EARLY V LATE\n",
      "Ttest_indResult(statistic=1.4997879374106007, pvalue=0.1346965904390756)\n",
      "MID V LATE\n",
      "Ttest_indResult(statistic=-2.1256354852937176, pvalue=0.03362211121787978)\n",
      "\n",
      "Ant\n",
      "ANOVA\n",
      "F_onewayResult(statistic=2.9071498015858106, pvalue=0.055033181365760596)\n",
      "EARLY V MID\n",
      "Ttest_indResult(statistic=1.943121980979198, pvalue=0.05287318020330978)\n",
      "EARLY V LATE\n",
      "Ttest_indResult(statistic=1.875170594705113, pvalue=0.061640573331500956)\n",
      "MID V LATE\n",
      "Ttest_indResult(statistic=-0.06537844140937257, pvalue=0.9478872610269209)\n",
      "\n",
      "\n",
      "Modal_Command_Count\n",
      "Pro\n",
      "ANOVA\n",
      "F_onewayResult(statistic=1.786157041254613, pvalue=0.1677795106903329)\n",
      "EARLY V MID\n",
      "Ttest_indResult(statistic=-0.05018911529405475, pvalue=0.9600052034652975)\n",
      "EARLY V LATE\n",
      "Ttest_indResult(statistic=-0.8950696340129953, pvalue=0.371419855613799)\n",
      "MID V LATE\n",
      "Ttest_indResult(statistic=-1.913952068035366, pvalue=0.05572898719067836)\n",
      "\n",
      "Ant\n",
      "ANOVA\n",
      "F_onewayResult(statistic=1.2842184148607323, pvalue=0.27726398824285675)\n",
      "EARLY V MID\n",
      "Ttest_indResult(statistic=-2.0231615479525478, pvalue=0.04343938476221817)\n",
      "EARLY V LATE\n",
      "Ttest_indResult(statistic=-1.8112348922427106, pvalue=0.07059077708559039)\n",
      "MID V LATE\n",
      "Ttest_indResult(statistic=0.026172291918516007, pvalue=0.9791259768716742)\n",
      "\n",
      "\n",
      "Suggestion_Count\n",
      "Pro\n",
      "ANOVA\n",
      "F_onewayResult(statistic=2.214516069774907, pvalue=0.10938313026227235)\n",
      "EARLY V MID\n",
      "Ttest_indResult(statistic=-0.7835720349333724, pvalue=0.4337018542659191)\n",
      "EARLY V LATE\n",
      "Ttest_indResult(statistic=-2.101390539844006, pvalue=0.03607714088063772)\n",
      "MID V LATE\n",
      "Ttest_indResult(statistic=-1.796180722880538, pvalue=0.0725745108645091)\n",
      "\n",
      "Ant\n",
      "ANOVA\n",
      "F_onewayResult(statistic=0.5839591144888392, pvalue=0.5578514735502411)\n",
      "EARLY V MID\n",
      "Ttest_indResult(statistic=0.1592549246209953, pvalue=0.8735529143315692)\n",
      "EARLY V LATE\n",
      "Ttest_indResult(statistic=-0.6747340160299532, pvalue=0.5001318822099321)\n",
      "MID V LATE\n",
      "Ttest_indResult(statistic=-0.989643040644447, pvalue=0.3226883934385182)\n",
      "\n",
      "\n",
      "Total_Command_Count\n",
      "Pro\n",
      "ANOVA\n",
      "F_onewayResult(statistic=4.929269288244715, pvalue=0.007289903557250178)\n",
      "EARLY V MID\n",
      "Ttest_indResult(statistic=2.1274749674093223, pvalue=0.034201991129791394)\n",
      "EARLY V LATE\n",
      "Ttest_indResult(statistic=0.903604565787164, pvalue=0.3668993653334892)\n",
      "MID V LATE\n",
      "Ttest_indResult(statistic=-2.7980000190752943, pvalue=0.005177510566310832)\n",
      "\n",
      "Ant\n",
      "ANOVA\n",
      "F_onewayResult(statistic=1.455471075841545, pvalue=0.23372022534253453)\n",
      "EARLY V MID\n",
      "Ttest_indResult(statistic=1.4997943031527432, pvalue=0.13460097234789706)\n",
      "EARLY V LATE\n",
      "Ttest_indResult(statistic=1.2420448142837537, pvalue=0.21502777560724887)\n",
      "MID V LATE\n",
      "Ttest_indResult(statistic=-0.3305222216390698, pvalue=0.7410836551335556)\n",
      "\n",
      "\n"
     ]
    }
   ],
   "source": [
    "print('Role Differences over Time')\n",
    "for x in ['Imp_Command_Count', 'Modal_Command_Count', 'Suggestion_Count', 'Total_Command_Count']:\n",
    "    print(x)\n",
    "    print('Pro')\n",
    "    print('ANOVA')\n",
    "    print(stats.f_oneway(pro_movies_early[x], pro_movies_mid[x], pro_movies_late[x]))\n",
    "    print('EARLY V MID')\n",
    "    print(stats.ttest_ind(pro_movies_early[x], pro_movies_mid[x], equal_var=False))\n",
    "    print('EARLY V LATE')\n",
    "    print(stats.ttest_ind(pro_movies_early[x], pro_movies_late[x], equal_var=False))\n",
    "    print('MID V LATE')\n",
    "    print(stats.ttest_ind(pro_movies_mid[x], pro_movies_late[x], equal_var=False))\n",
    "    print('\\nAnt')\n",
    "    print('ANOVA')\n",
    "    print(stats.f_oneway(ant_movies_early[x], ant_movies_mid[x], ant_movies_late[x]))\n",
    "    print('EARLY V MID')\n",
    "    print(stats.ttest_ind(ant_movies_early[x], ant_movies_mid[x], equal_var=False))\n",
    "    print('EARLY V LATE')\n",
    "    print(stats.ttest_ind(ant_movies_early[x], ant_movies_late[x], equal_var=False))\n",
    "    print('MID V LATE')\n",
    "    print(stats.ttest_ind(ant_movies_mid[x], ant_movies_late[x], equal_var=False))\n",
    "    print('\\n')"
   ]
  },
  {
   "cell_type": "code",
   "execution_count": 56,
   "metadata": {},
   "outputs": [
    {
     "name": "stdout",
     "output_type": "stream",
     "text": [
      "Role Differences w/in Each Era (Pro v Ant)\n",
      "Imp_Command_Count\n",
      "EARLY\n",
      "Ttest_indResult(statistic=-0.03993935867198671, pvalue=0.9681586079767261)\n",
      "MID\n",
      "Ttest_indResult(statistic=-0.8656581835824684, pvalue=0.3868942896044665)\n",
      "LATE\n",
      "Ttest_indResult(statistic=0.6733678058917931, pvalue=0.5009148658184166)\n",
      "\n",
      "\n",
      "Modal_Command_Count\n",
      "EARLY\n",
      "Ttest_indResult(statistic=0.46142859020158056, pvalue=0.6447575126976508)\n",
      "MID\n",
      "Ttest_indResult(statistic=-1.556522977236283, pvalue=0.11998802009210013)\n",
      "LATE\n",
      "Ttest_indResult(statistic=-0.19700214274129563, pvalue=0.8438910830299138)\n",
      "\n",
      "\n",
      "Suggestion_Count\n",
      "EARLY\n",
      "Ttest_indResult(statistic=-0.9915384503418707, pvalue=0.3220921763082948)\n",
      "MID\n",
      "Ttest_indResult(statistic=-0.5974736461433966, pvalue=0.5503374576804048)\n",
      "LATE\n",
      "Ttest_indResult(statistic=-0.5265268277400478, pvalue=0.5987284817391306)\n",
      "\n",
      "\n",
      "Total_Command_Count\n",
      "EARLY\n",
      "Ttest_indResult(statistic=-0.0982961361339693, pvalue=0.9217394123166054)\n",
      "MID\n",
      "Ttest_indResult(statistic=-1.3887864025121297, pvalue=0.16522519952731377)\n",
      "LATE\n",
      "Ttest_indResult(statistic=0.3728166493362976, pvalue=0.709388129643964)\n",
      "\n",
      "\n"
     ]
    }
   ],
   "source": [
    "print('Role Differences w/in Each Era (Pro v Ant)')\n",
    "for x in ['Imp_Command_Count', 'Modal_Command_Count', 'Suggestion_Count', 'Total_Command_Count']:\n",
    "    print(x)\n",
    "    print('EARLY')\n",
    "    print(stats.ttest_ind(pro_movies_early[x], ant_movies_early[x], equal_var=False))\n",
    "    print('MID')\n",
    "    print(stats.ttest_ind(pro_movies_mid[x], ant_movies_mid[x], equal_var=False))\n",
    "    print('LATE')\n",
    "    print(stats.ttest_ind(pro_movies_late[x], ant_movies_late[x], equal_var=False))\n",
    "    print('\\n')"
   ]
  },
  {
   "cell_type": "code",
   "execution_count": 57,
   "metadata": {},
   "outputs": [
    {
     "name": "stdout",
     "output_type": "stream",
     "text": [
      "Role Differences Across Companies\n",
      "Imp_Command_Count\n",
      "Pro v Ant: DISNEY\n",
      "Ttest_indResult(statistic=-0.44285834602333196, pvalue=0.6579109844751362)\n",
      "Pro v Ant: DREAMWORKS\n",
      "Ttest_indResult(statistic=-3.1806544110507726, pvalue=0.0015030819840995834)\n",
      "Disney v Dreamworks: Pro\n",
      "Ttest_indResult(statistic=3.812762922685316, pvalue=0.00013886817125913597)\n",
      "Disney v Dreamworks: Ant\n",
      "Ttest_indResult(statistic=3.812762922685316, pvalue=0.00013886817125913597)\n",
      "\n",
      "\n",
      "Modal_Command_Count\n",
      "Pro v Ant: DISNEY\n",
      "Ttest_indResult(statistic=-0.619587012399368, pvalue=0.5355994355975828)\n",
      "Pro v Ant: DREAMWORKS\n",
      "Ttest_indResult(statistic=-1.5575313381473512, pvalue=0.11959890354413923)\n",
      "Disney v Dreamworks: Pro\n",
      "Ttest_indResult(statistic=3.0604963530782086, pvalue=0.002220917845462288)\n",
      "Disney v Dreamworks: Ant\n",
      "Ttest_indResult(statistic=3.0604963530782086, pvalue=0.002220917845462288)\n",
      "\n",
      "\n",
      "Suggestion_Count\n",
      "Pro v Ant: DISNEY\n",
      "Ttest_indResult(statistic=-0.6662015131893593, pvalue=0.5053621879657855)\n",
      "Pro v Ant: DREAMWORKS\n",
      "Ttest_indResult(statistic=-0.5531319812514669, pvalue=0.5802598507202987)\n",
      "Disney v Dreamworks: Pro\n",
      "Ttest_indResult(statistic=1.2864392532107407, pvalue=0.1983416062239516)\n",
      "Disney v Dreamworks: Ant\n",
      "Ttest_indResult(statistic=1.2864392532107407, pvalue=0.1983416062239516)\n",
      "\n",
      "\n",
      "Total_Command_Count\n",
      "Pro v Ant: DISNEY\n",
      "Ttest_indResult(statistic=-0.7358380612341405, pvalue=0.4619051018198743)\n",
      "Pro v Ant: DREAMWORKS\n",
      "Ttest_indResult(statistic=-3.4623143090817545, pvalue=0.0005523429064696926)\n",
      "Disney v Dreamworks: Pro\n",
      "Ttest_indResult(statistic=4.489575404749443, pvalue=7.277903121512267e-06)\n",
      "Disney v Dreamworks: Ant\n",
      "Ttest_indResult(statistic=4.489575404749443, pvalue=7.277903121512267e-06)\n",
      "\n",
      "\n"
     ]
    }
   ],
   "source": [
    "print('Role Differences Across Companies')\n",
    "for x in ['Imp_Command_Count', 'Modal_Command_Count', 'Suggestion_Count', 'Total_Command_Count']:\n",
    "    print(x)\n",
    "    print('Pro v Ant: DISNEY')\n",
    "    print(stats.ttest_ind(pro_movies_disney[x], ant_movies_disney[x], equal_var=False))\n",
    "    print('Pro v Ant: DREAMWORKS')\n",
    "    print(stats.ttest_ind(pro_movies_dw[x], ant_movies_dw[x], equal_var=False))\n",
    "    print('Disney v Dreamworks: Pro')\n",
    "    print(stats.ttest_ind(pro_movies_disney[x], pro_movies_dw[x], equal_var=False))\n",
    "    print('Disney v Dreamworks: Ant')\n",
    "    print(stats.ttest_ind(pro_movies_disney[x], pro_movies_dw[x], equal_var=False))\n",
    "    print('\\n')"
   ]
  },
  {
   "cell_type": "markdown",
   "metadata": {},
   "source": [
    "### Gender and Role"
   ]
  },
  {
   "cell_type": "code",
   "execution_count": 58,
   "metadata": {},
   "outputs": [
    {
     "name": "stdout",
     "output_type": "stream",
     "text": [
      "Role and Gender Differences\n",
      "Imp_Command_Count\n",
      "Female PRO v Male PRO\n",
      "Ttest_indResult(statistic=-1.4365061373196406, pvalue=0.15091832551591916)\n",
      "Female ANT v Male ANT\n",
      "Ttest_indResult(statistic=1.0519433779315956, pvalue=0.2931792856214876)\n",
      "Female PRO v Female ANT\n",
      "Ttest_indResult(statistic=-2.5446015319188207, pvalue=0.011181019758248902)\n",
      "Male PRO v Male ANT\n",
      "Ttest_indResult(statistic=-1.2184887263469861, pvalue=0.223131993238681)\n",
      "\n",
      "\n",
      "Modal_Command_Count\n",
      "Female PRO v Male PRO\n",
      "Ttest_indResult(statistic=2.1641255445274745, pvalue=0.030510853632501847)\n",
      "Female ANT v Male ANT\n",
      "Ttest_indResult(statistic=-0.5111963889040982, pvalue=0.6093518652374705)\n",
      "Female PRO v Female ANT\n",
      "Ttest_indResult(statistic=0.279298599279462, pvalue=0.7800982302531387)\n",
      "Male PRO v Male ANT\n",
      "Ttest_indResult(statistic=-2.288814095726704, pvalue=0.022175506889531935)\n",
      "\n",
      "\n",
      "Suggestion_Count\n",
      "Female PRO v Male PRO\n",
      "Ttest_indResult(statistic=0.04096317998494099, pvalue=0.9673268331321608)\n",
      "Female ANT v Male ANT\n",
      "Ttest_indResult(statistic=-0.5821171722305313, pvalue=0.5606479104786501)\n",
      "Female PRO v Female ANT\n",
      "Ttest_indResult(statistic=-0.004111780141663784, pvalue=0.9967205551710991)\n",
      "Male PRO v Male ANT\n",
      "Ttest_indResult(statistic=-0.9896445048414036, pvalue=0.32243375578534583)\n",
      "\n",
      "\n",
      "Total_Command_Count\n",
      "Female PRO v Male PRO\n",
      "Ttest_indResult(statistic=-0.755740061643749, pvalue=0.4498403157875973)\n",
      "Female ANT v Male ANT\n",
      "Ttest_indResult(statistic=0.730916255896195, pvalue=0.4650646091411733)\n",
      "Female PRO v Female ANT\n",
      "Ttest_indResult(statistic=-2.304260439891586, pvalue=0.021524658573900797)\n",
      "Male PRO v Male ANT\n",
      "Ttest_indResult(statistic=-1.9434676772387005, pvalue=0.05205216957771259)\n",
      "\n",
      "\n"
     ]
    }
   ],
   "source": [
    "print('Role and Gender Differences')\n",
    "for x in ['Imp_Command_Count', 'Modal_Command_Count', 'Suggestion_Count', 'Total_Command_Count']:\n",
    "    print(x)\n",
    "    print('Female PRO v Male PRO')\n",
    "    print(stats.ttest_ind(pro_f_movies[x], pro_m_movies[x], equal_var=False))\n",
    "    print('Female ANT v Male ANT')\n",
    "    print(stats.ttest_ind(ant_f_movies[x], ant_m_movies[x], equal_var=False))\n",
    "    print('Female PRO v Female ANT')\n",
    "    print(stats.ttest_ind(pro_f_movies[x], ant_f_movies[x], equal_var=False))\n",
    "    print('Male PRO v Male ANT')\n",
    "    print(stats.ttest_ind(pro_m_movies[x], ant_m_movies[x], equal_var=False))\n",
    "    print('\\n')"
   ]
  },
  {
   "cell_type": "code",
   "execution_count": null,
   "metadata": {},
   "outputs": [],
   "source": []
  }
 ],
 "metadata": {
  "kernelspec": {
   "display_name": "Python 3",
   "language": "python",
   "name": "python3"
  },
  "language_info": {
   "codemirror_mode": {
    "name": "ipython",
    "version": 3
   },
   "file_extension": ".py",
   "mimetype": "text/x-python",
   "name": "python",
   "nbconvert_exporter": "python",
   "pygments_lexer": "ipython3",
   "version": "3.6.4"
  }
 },
 "nbformat": 4,
 "nbformat_minor": 2
}
