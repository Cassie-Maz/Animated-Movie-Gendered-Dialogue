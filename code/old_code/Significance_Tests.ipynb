{
 "cells": [
  {
   "cell_type": "markdown",
   "metadata": {},
   "source": [
    "# Significance Tests\n",
    "After I found all those differences in Token Counts, Type Counts, TTR, K-Bands, and Adjective Counts, etc.--do they mean anything?"
   ]
  },
  {
   "cell_type": "code",
   "execution_count": 72,
   "metadata": {},
   "outputs": [],
   "source": [
    "import pandas as pd\n",
    "import scipy"
   ]
  },
  {
   "cell_type": "code",
   "execution_count": 73,
   "metadata": {},
   "outputs": [],
   "source": [
    "movie_df = pd.read_pickle(r'C:/Users/cassi/Desktop/Data_Science/Animated-Movie-Gendered-Dialogue/private/all_tagged_dialogue.pkl')"
   ]
  },
  {
   "cell_type": "code",
   "execution_count": 74,
   "metadata": {},
   "outputs": [
    {
     "name": "stdout",
     "output_type": "stream",
     "text": [
      "<class 'pandas.core.frame.DataFrame'>\n",
      "RangeIndex: 13442 entries, 0 to 13441\n",
      "Data columns (total 19 columns):\n",
      "Disney_Period       13442 non-null object\n",
      "Gender              13442 non-null object\n",
      "Movie               13442 non-null object\n",
      "Role                13442 non-null object\n",
      "Song                13442 non-null object\n",
      "Speaker             13442 non-null object\n",
      "Speaker_Status      13442 non-null object\n",
      "Text                13442 non-null object\n",
      "UTTERANCE_NUMBER    13442 non-null int64\n",
      "Year                13442 non-null int64\n",
      "Tokens              13442 non-null object\n",
      "Types               13442 non-null object\n",
      "Token_Count         13442 non-null int64\n",
      "Type_Count          13442 non-null int64\n",
      "POS                 13442 non-null object\n",
      "Tag_Freq            13442 non-null object\n",
      "Adj_Count           13442 non-null int64\n",
      "Adv_Count           13442 non-null int64\n",
      "Adj_over_Tokens     13442 non-null float64\n",
      "dtypes: float64(1), int64(6), object(12)\n",
      "memory usage: 1.3+ MB\n"
     ]
    }
   ],
   "source": [
    "movie_df.info()"
   ]
  },
  {
   "cell_type": "code",
   "execution_count": 76,
   "metadata": {},
   "outputs": [],
   "source": [
    "char_df = pd.read_pickle(r'C:/Users/cassi/Desktop/Data_Science/Animated-Movie-Gendered-Dialogue/private/char_tok_type_TTR.pkl')"
   ]
  },
  {
   "cell_type": "code",
   "execution_count": 77,
   "metadata": {},
   "outputs": [
    {
     "name": "stdout",
     "output_type": "stream",
     "text": [
      "<class 'pandas.core.frame.DataFrame'>\n",
      "RangeIndex: 632 entries, 0 to 631\n",
      "Data columns (total 14 columns):\n",
      "Disney_Period       632 non-null object\n",
      "Gender              632 non-null object\n",
      "Movie               632 non-null object\n",
      "Role                632 non-null object\n",
      "Speaker             632 non-null object\n",
      "Speaker_Status      632 non-null object\n",
      "Total_Tok_Count     632 non-null float64\n",
      "Total_Toks          632 non-null object\n",
      "Total_Type_Count    632 non-null float64\n",
      "Total_Types         632 non-null object\n",
      "Year                632 non-null object\n",
      "TTR                 632 non-null float64\n",
      "G_TTR               632 non-null float64\n",
      "AVG_K_BAND          600 non-null float64\n",
      "dtypes: float64(5), object(9)\n",
      "memory usage: 46.9+ KB\n"
     ]
    }
   ],
   "source": [
    "char_df.info()"
   ]
  },
  {
   "cell_type": "code",
   "execution_count": 4,
   "metadata": {},
   "outputs": [],
   "source": [
    "f_movie_df = movie_df[movie_df.Gender == 'f']\n",
    "m_movie_df = movie_df[movie_df.Gender == 'm']"
   ]
  },
  {
   "cell_type": "code",
   "execution_count": 14,
   "metadata": {},
   "outputs": [],
   "source": [
    "pro_movie_df = movie_df[movie_df.Role == 'PRO']\n",
    "ant_movie_df = movie_df[movie_df.Role == 'ANT']\n",
    "help_movie_df = movie_df[movie_df.Role == 'HELPER']"
   ]
  },
  {
   "cell_type": "markdown",
   "metadata": {},
   "source": [
    "## Token and Type Stats\n",
    "### Gender"
   ]
  },
  {
   "cell_type": "code",
   "execution_count": 8,
   "metadata": {},
   "outputs": [
    {
     "data": {
      "text/plain": [
       "Ttest_indResult(statistic=-4.094583947758668, pvalue=4.271602422580622e-05)"
      ]
     },
     "execution_count": 8,
     "metadata": {},
     "output_type": "execute_result"
    }
   ],
   "source": [
    "scipy.stats.ttest_ind(f_movie_df.Token_Count, m_movie_df.Token_Count, equal_var = False)"
   ]
  },
  {
   "cell_type": "code",
   "execution_count": 9,
   "metadata": {},
   "outputs": [],
   "source": [
    "#Wow, that's a super small p value...BUT, could this be influenced by my sample size?"
   ]
  },
  {
   "cell_type": "code",
   "execution_count": 10,
   "metadata": {},
   "outputs": [
    {
     "data": {
      "text/plain": [
       "Ttest_indResult(statistic=-4.923396910028177, pvalue=8.671647557539395e-07)"
      ]
     },
     "execution_count": 10,
     "metadata": {},
     "output_type": "execute_result"
    }
   ],
   "source": [
    "scipy.stats.ttest_ind(f_movie_df.Type_Count, m_movie_df.Type_Count, equal_var = False)"
   ]
  },
  {
   "cell_type": "code",
   "execution_count": 11,
   "metadata": {},
   "outputs": [],
   "source": [
    "#An even smaller p-value"
   ]
  },
  {
   "cell_type": "markdown",
   "metadata": {},
   "source": [
    "### Role"
   ]
  },
  {
   "cell_type": "code",
   "execution_count": 15,
   "metadata": {},
   "outputs": [
    {
     "data": {
      "text/plain": [
       "Ttest_indResult(statistic=-3.697383277420495, pvalue=0.00022111887110217427)"
      ]
     },
     "execution_count": 15,
     "metadata": {},
     "output_type": "execute_result"
    }
   ],
   "source": [
    "scipy.stats.ttest_ind(pro_movie_df.Token_Count, ant_movie_df.Token_Count, equal_var = False)"
   ]
  },
  {
   "cell_type": "code",
   "execution_count": null,
   "metadata": {},
   "outputs": [],
   "source": [
    "#not as big a difference compared to gender, but still significant (if you take p=0.05 to be the threshold)"
   ]
  },
  {
   "cell_type": "code",
   "execution_count": 16,
   "metadata": {},
   "outputs": [
    {
     "data": {
      "text/plain": [
       "Ttest_indResult(statistic=-4.923396910028177, pvalue=8.671647557539395e-07)"
      ]
     },
     "execution_count": 16,
     "metadata": {},
     "output_type": "execute_result"
    }
   ],
   "source": [
    "scipy.stats.ttest_ind(f_movie_df.Type_Count, m_movie_df.Type_Count, equal_var = False)"
   ]
  },
  {
   "cell_type": "code",
   "execution_count": null,
   "metadata": {},
   "outputs": [],
   "source": [
    "#big difference here..."
   ]
  },
  {
   "cell_type": "code",
   "execution_count": 17,
   "metadata": {},
   "outputs": [
    {
     "data": {
      "text/plain": [
       "Ttest_indResult(statistic=-3.279047799658298, pvalue=0.0010518100913076266)"
      ]
     },
     "execution_count": 17,
     "metadata": {},
     "output_type": "execute_result"
    }
   ],
   "source": [
    "scipy.stats.ttest_ind(pro_movie_df.Command_Count, ant_movie_df.Command_Count, equal_var = False)"
   ]
  },
  {
   "cell_type": "code",
   "execution_count": 13,
   "metadata": {},
   "outputs": [],
   "source": [
    "#not that significant...but this may change when I modify my command stats"
   ]
  },
  {
   "cell_type": "markdown",
   "metadata": {},
   "source": [
    "#### What about Total Token and Type Counts"
   ]
  },
  {
   "cell_type": "code",
   "execution_count": 30,
   "metadata": {},
   "outputs": [],
   "source": [
    "f_chars = char_df[char_df.Gender == 'f']\n",
    "m_chars = char_df[char_df.Gender == 'm']"
   ]
  },
  {
   "cell_type": "code",
   "execution_count": 31,
   "metadata": {},
   "outputs": [
    {
     "data": {
      "text/plain": [
       "Ttest_indResult(statistic=0.5818365410871014, pvalue=0.561135928401851)"
      ]
     },
     "execution_count": 31,
     "metadata": {},
     "output_type": "execute_result"
    }
   ],
   "source": [
    "scipy.stats.ttest_ind(f_chars.Total_Tok_Count, m_chars.Total_Tok_Count, equal_var = False)"
   ]
  },
  {
   "cell_type": "code",
   "execution_count": 32,
   "metadata": {},
   "outputs": [],
   "source": [
    "#no significant difference here"
   ]
  },
  {
   "cell_type": "code",
   "execution_count": 33,
   "metadata": {},
   "outputs": [
    {
     "data": {
      "text/plain": [
       "Ttest_indResult(statistic=0.6666518458606242, pvalue=0.5055478790046386)"
      ]
     },
     "execution_count": 33,
     "metadata": {},
     "output_type": "execute_result"
    }
   ],
   "source": [
    "scipy.stats.ttest_ind(f_chars.Total_Type_Count, m_chars.Total_Type_Count, equal_var = False)"
   ]
  },
  {
   "cell_type": "code",
   "execution_count": 35,
   "metadata": {},
   "outputs": [
    {
     "data": {
      "text/plain": [
       "Ttest_indResult(statistic=-0.9967546797195583, pvalue=0.31987931875373893)"
      ]
     },
     "execution_count": 35,
     "metadata": {},
     "output_type": "execute_result"
    }
   ],
   "source": [
    "scipy.stats.ttest_ind(f_chars.TTR, m_chars.TTR, equal_var = False)"
   ]
  },
  {
   "cell_type": "code",
   "execution_count": 36,
   "metadata": {},
   "outputs": [],
   "source": [
    "#nope, no significant difference. what about by role?\n",
    "pro_chars = char_df[char_df.Role == 'PRO']\n",
    "ant_chars = char_df[char_df.Role == 'ANT']\n",
    "helper_chars = char_df[char_df.Role == 'HELPER']"
   ]
  },
  {
   "cell_type": "code",
   "execution_count": 37,
   "metadata": {},
   "outputs": [
    {
     "data": {
      "text/plain": [
       "Ttest_indResult(statistic=-4.3639708178868295, pvalue=2.8550625202274174e-05)"
      ]
     },
     "execution_count": 37,
     "metadata": {},
     "output_type": "execute_result"
    }
   ],
   "source": [
    "scipy.stats.ttest_ind(pro_chars.TTR, ant_chars.TTR, equal_var = False)\n",
    "#definite difference here!!"
   ]
  },
  {
   "cell_type": "markdown",
   "metadata": {},
   "source": [
    "The overall difference in TTR between male and female characters isn't significant, but this difference is signficant between roles."
   ]
  },
  {
   "cell_type": "code",
   "execution_count": 57,
   "metadata": {},
   "outputs": [],
   "source": [
    "import math"
   ]
  },
  {
   "cell_type": "code",
   "execution_count": 59,
   "metadata": {},
   "outputs": [],
   "source": [
    "movie_df['G_TTR'] = movie_df.Type_Count / movie_df.Token_Count.map(lambda x: math.sqrt(x))"
   ]
  },
  {
   "cell_type": "code",
   "execution_count": 64,
   "metadata": {},
   "outputs": [],
   "source": [
    "f_movie_df = movie_df[movie_df.Gender == 'f']\n",
    "m_movie_df = movie_df[movie_df.Gender == 'm']"
   ]
  },
  {
   "cell_type": "code",
   "execution_count": 61,
   "metadata": {},
   "outputs": [
    {
     "data": {
      "text/plain": [
       "Ttest_indResult(statistic=-5.876688918155282, pvalue=4.345523540998084e-09)"
      ]
     },
     "execution_count": 61,
     "metadata": {},
     "output_type": "execute_result"
    }
   ],
   "source": [
    "scipy.stats.ttest_ind(f_movie_df.G_TTR, m_movie_df.G_TTR, equal_var = False)"
   ]
  },
  {
   "cell_type": "code",
   "execution_count": 62,
   "metadata": {},
   "outputs": [],
   "source": [
    "movie_df['TTR'] = movie_df.Type_Count / movie_df.Token_Count"
   ]
  },
  {
   "cell_type": "code",
   "execution_count": 65,
   "metadata": {},
   "outputs": [
    {
     "data": {
      "text/plain": [
       "Ttest_indResult(statistic=5.747565438307308, pvalue=9.365973396130048e-09)"
      ]
     },
     "execution_count": 65,
     "metadata": {},
     "output_type": "execute_result"
    }
   ],
   "source": [
    "scipy.stats.ttest_ind(f_movie_df.TTR, m_movie_df.TTR, equal_var = False)"
   ]
  },
  {
   "cell_type": "code",
   "execution_count": 67,
   "metadata": {},
   "outputs": [
    {
     "data": {
      "text/html": [
       "<div>\n",
       "<style scoped>\n",
       "    .dataframe tbody tr th:only-of-type {\n",
       "        vertical-align: middle;\n",
       "    }\n",
       "\n",
       "    .dataframe tbody tr th {\n",
       "        vertical-align: top;\n",
       "    }\n",
       "\n",
       "    .dataframe thead th {\n",
       "        text-align: right;\n",
       "    }\n",
       "</style>\n",
       "<table border=\"1\" class=\"dataframe\">\n",
       "  <thead>\n",
       "    <tr style=\"text-align: right;\">\n",
       "      <th></th>\n",
       "      <th>count</th>\n",
       "      <th>mean</th>\n",
       "      <th>std</th>\n",
       "      <th>min</th>\n",
       "      <th>25%</th>\n",
       "      <th>50%</th>\n",
       "      <th>75%</th>\n",
       "      <th>max</th>\n",
       "    </tr>\n",
       "    <tr>\n",
       "      <th>Gender</th>\n",
       "      <th></th>\n",
       "      <th></th>\n",
       "      <th></th>\n",
       "      <th></th>\n",
       "      <th></th>\n",
       "      <th></th>\n",
       "      <th></th>\n",
       "      <th></th>\n",
       "    </tr>\n",
       "  </thead>\n",
       "  <tbody>\n",
       "    <tr>\n",
       "      <th>f</th>\n",
       "      <td>4216.0</td>\n",
       "      <td>0.916061</td>\n",
       "      <td>0.126405</td>\n",
       "      <td>0.238095</td>\n",
       "      <td>0.857143</td>\n",
       "      <td>1.0</td>\n",
       "      <td>1.0</td>\n",
       "      <td>1.0</td>\n",
       "    </tr>\n",
       "    <tr>\n",
       "      <th>m</th>\n",
       "      <td>8914.0</td>\n",
       "      <td>0.902342</td>\n",
       "      <td>0.130396</td>\n",
       "      <td>0.214286</td>\n",
       "      <td>0.833333</td>\n",
       "      <td>1.0</td>\n",
       "      <td>1.0</td>\n",
       "      <td>1.0</td>\n",
       "    </tr>\n",
       "    <tr>\n",
       "      <th>n</th>\n",
       "      <td>312.0</td>\n",
       "      <td>0.887080</td>\n",
       "      <td>0.174888</td>\n",
       "      <td>0.166667</td>\n",
       "      <td>0.833333</td>\n",
       "      <td>1.0</td>\n",
       "      <td>1.0</td>\n",
       "      <td>1.0</td>\n",
       "    </tr>\n",
       "  </tbody>\n",
       "</table>\n",
       "</div>"
      ],
      "text/plain": [
       "         count      mean       std       min       25%  50%  75%  max\n",
       "Gender                                                               \n",
       "f       4216.0  0.916061  0.126405  0.238095  0.857143  1.0  1.0  1.0\n",
       "m       8914.0  0.902342  0.130396  0.214286  0.833333  1.0  1.0  1.0\n",
       "n        312.0  0.887080  0.174888  0.166667  0.833333  1.0  1.0  1.0"
      ]
     },
     "execution_count": 67,
     "metadata": {},
     "output_type": "execute_result"
    }
   ],
   "source": [
    "movie_df.groupby('Gender')['TTR'].describe()"
   ]
  },
  {
   "cell_type": "code",
   "execution_count": 68,
   "metadata": {},
   "outputs": [
    {
     "data": {
      "text/html": [
       "<div>\n",
       "<style scoped>\n",
       "    .dataframe tbody tr th:only-of-type {\n",
       "        vertical-align: middle;\n",
       "    }\n",
       "\n",
       "    .dataframe tbody tr th {\n",
       "        vertical-align: top;\n",
       "    }\n",
       "\n",
       "    .dataframe thead th {\n",
       "        text-align: right;\n",
       "    }\n",
       "</style>\n",
       "<table border=\"1\" class=\"dataframe\">\n",
       "  <thead>\n",
       "    <tr style=\"text-align: right;\">\n",
       "      <th></th>\n",
       "      <th>count</th>\n",
       "      <th>mean</th>\n",
       "      <th>std</th>\n",
       "      <th>min</th>\n",
       "      <th>25%</th>\n",
       "      <th>50%</th>\n",
       "      <th>75%</th>\n",
       "      <th>max</th>\n",
       "    </tr>\n",
       "    <tr>\n",
       "      <th>Gender</th>\n",
       "      <th></th>\n",
       "      <th></th>\n",
       "      <th></th>\n",
       "      <th></th>\n",
       "      <th></th>\n",
       "      <th></th>\n",
       "      <th></th>\n",
       "      <th></th>\n",
       "    </tr>\n",
       "  </thead>\n",
       "  <tbody>\n",
       "    <tr>\n",
       "      <th>f</th>\n",
       "      <td>4216.0</td>\n",
       "      <td>2.713648</td>\n",
       "      <td>1.007615</td>\n",
       "      <td>0.707107</td>\n",
       "      <td>2.000000</td>\n",
       "      <td>2.645751</td>\n",
       "      <td>3.316625</td>\n",
       "      <td>8.899438</td>\n",
       "    </tr>\n",
       "    <tr>\n",
       "      <th>m</th>\n",
       "      <td>8914.0</td>\n",
       "      <td>2.824860</td>\n",
       "      <td>1.022590</td>\n",
       "      <td>0.666667</td>\n",
       "      <td>2.000000</td>\n",
       "      <td>2.672612</td>\n",
       "      <td>3.464102</td>\n",
       "      <td>8.103639</td>\n",
       "    </tr>\n",
       "    <tr>\n",
       "      <th>n</th>\n",
       "      <td>312.0</td>\n",
       "      <td>2.439437</td>\n",
       "      <td>0.964550</td>\n",
       "      <td>0.707107</td>\n",
       "      <td>1.632993</td>\n",
       "      <td>2.267787</td>\n",
       "      <td>3.015113</td>\n",
       "      <td>5.353307</td>\n",
       "    </tr>\n",
       "  </tbody>\n",
       "</table>\n",
       "</div>"
      ],
      "text/plain": [
       "         count      mean       std       min       25%       50%       75%  \\\n",
       "Gender                                                                       \n",
       "f       4216.0  2.713648  1.007615  0.707107  2.000000  2.645751  3.316625   \n",
       "m       8914.0  2.824860  1.022590  0.666667  2.000000  2.672612  3.464102   \n",
       "n        312.0  2.439437  0.964550  0.707107  1.632993  2.267787  3.015113   \n",
       "\n",
       "             max  \n",
       "Gender            \n",
       "f       8.899438  \n",
       "m       8.103639  \n",
       "n       5.353307  "
      ]
     },
     "execution_count": 68,
     "metadata": {},
     "output_type": "execute_result"
    }
   ],
   "source": [
    "movie_df.groupby('Gender')['G_TTR'].describe()"
   ]
  },
  {
   "cell_type": "markdown",
   "metadata": {},
   "source": [
    "I need to look into whether G_TTR or TTR is best for line by line analysis...\n",
    "\n",
    "A look at role..."
   ]
  },
  {
   "cell_type": "code",
   "execution_count": 69,
   "metadata": {},
   "outputs": [],
   "source": [
    "ant_movie_df = movie_df[movie_df.Role == 'ANT']\n",
    "pro_movie_df = movie_df[movie_df.Role == 'PRO']"
   ]
  },
  {
   "cell_type": "code",
   "execution_count": 70,
   "metadata": {},
   "outputs": [
    {
     "data": {
      "text/plain": [
       "Ttest_indResult(statistic=-0.3698928762036763, pvalue=0.7114835463019438)"
      ]
     },
     "execution_count": 70,
     "metadata": {},
     "output_type": "execute_result"
    }
   ],
   "source": [
    "scipy.stats.ttest_ind(ant_movie_df.TTR, pro_movie_df.TTR, equal_var = False)"
   ]
  },
  {
   "cell_type": "code",
   "execution_count": 71,
   "metadata": {},
   "outputs": [
    {
     "data": {
      "text/plain": [
       "Ttest_indResult(statistic=6.744458564810289, pvalue=1.7929077873139688e-11)"
      ]
     },
     "execution_count": 71,
     "metadata": {},
     "output_type": "execute_result"
    }
   ],
   "source": [
    "scipy.stats.ttest_ind(ant_movie_df.G_TTR, pro_movie_df.G_TTR, equal_var = False)"
   ]
  },
  {
   "cell_type": "markdown",
   "metadata": {},
   "source": [
    "And here for role, line by line, there seems to be no significant difference at all in TTR, but a huge one for G_TTR..."
   ]
  },
  {
   "cell_type": "markdown",
   "metadata": {},
   "source": [
    "## Adjective Counts"
   ]
  },
  {
   "cell_type": "code",
   "execution_count": 39,
   "metadata": {},
   "outputs": [],
   "source": [
    "f_movie_df = movie_df[movie_df.Gender == 'f']\n",
    "m_movie_df = movie_df[movie_df.Gender == 'm']"
   ]
  },
  {
   "cell_type": "code",
   "execution_count": 40,
   "metadata": {},
   "outputs": [],
   "source": [
    "pro_movie_df = movie_df[movie_df.Role == 'PRO']\n",
    "ant_movie_df = movie_df[movie_df.Role == 'ANT']\n",
    "help_movie_df = movie_df[movie_df.Role == 'HELPER']"
   ]
  },
  {
   "cell_type": "code",
   "execution_count": 41,
   "metadata": {},
   "outputs": [
    {
     "data": {
      "text/plain": [
       "0    3\n",
       "1    0\n",
       "2    2\n",
       "3    3\n",
       "4    0\n",
       "Name: Adj_Count, dtype: int64"
      ]
     },
     "execution_count": 41,
     "metadata": {},
     "output_type": "execute_result"
    }
   ],
   "source": [
    "movie_df.Adj_Count.iloc[0:5]"
   ]
  },
  {
   "cell_type": "code",
   "execution_count": 42,
   "metadata": {},
   "outputs": [
    {
     "data": {
      "text/plain": [
       "Ttest_indResult(statistic=-4.543244469115594, pvalue=5.616147420570722e-06)"
      ]
     },
     "execution_count": 42,
     "metadata": {},
     "output_type": "execute_result"
    }
   ],
   "source": [
    "scipy.stats.ttest_ind(f_movie_df.Adj_Count, m_movie_df.Adj_Count, equal_var = False)\n",
    "#seems like there's a pretty significant difference here. But how to know this isn't liked to token count?"
   ]
  },
  {
   "cell_type": "code",
   "execution_count": 54,
   "metadata": {},
   "outputs": [
    {
     "data": {
      "text/plain": [
       "Ttest_indResult(statistic=-3.677489820665925, pvalue=0.00023915590690473518)"
      ]
     },
     "execution_count": 54,
     "metadata": {},
     "output_type": "execute_result"
    }
   ],
   "source": [
    "scipy.stats.ttest_ind(pro_movie_df.Adj_Count, ant_movie_df.Adj_Count, equal_var = False)"
   ]
  },
  {
   "cell_type": "code",
   "execution_count": null,
   "metadata": {},
   "outputs": [],
   "source": [
    "#But there IS a significant difference when it comes to role!"
   ]
  },
  {
   "cell_type": "markdown",
   "metadata": {},
   "source": [
    "Since there isn't a significant difference between total token counts between female and male characters, why don't we compare total adjective counts?"
   ]
  }
 ],
 "metadata": {
  "kernelspec": {
   "display_name": "Python 3",
   "language": "python",
   "name": "python3"
  },
  "language_info": {
   "codemirror_mode": {
    "name": "ipython",
    "version": 3
   },
   "file_extension": ".py",
   "mimetype": "text/x-python",
   "name": "python",
   "nbconvert_exporter": "python",
   "pygments_lexer": "ipython3",
   "version": "3.6.4"
  }
 },
 "nbformat": 4,
 "nbformat_minor": 2
}
