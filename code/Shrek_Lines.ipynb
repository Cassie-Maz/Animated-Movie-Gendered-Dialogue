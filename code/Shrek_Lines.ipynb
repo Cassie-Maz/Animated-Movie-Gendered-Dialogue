{
 "cells": [
  {
   "cell_type": "markdown",
   "metadata": {},
   "source": [
    "# Testing out the data to use\n",
    "## Cornell's movie-dialogs corpus\n",
    "### Movie titles metadata text file\n",
    "Seeing what animated movies are in this corpus."
   ]
  },
  {
   "cell_type": "markdown",
   "metadata": {},
   "source": [
    "## Film Corpus 2.0\n",
    "Found here: https://nlds.soe.ucsc.edu/fc2\n",
    "\n",
    "This corpus has 35 animated movie. Let's see how the text files are formatted using their script for Shrek"
   ]
  },
  {
   "cell_type": "code",
   "execution_count": 1,
   "metadata": {},
   "outputs": [],
   "source": [
    "shrek = open(r'C:\\Users\\cassi\\Desktop\\Data_Science\\Animated-Movie-Gendered-Dialogue\\private\\imsdb_raw_nov_2015\\Animation\\shrek.txt')"
   ]
  },
  {
   "cell_type": "code",
   "execution_count": 2,
   "metadata": {},
   "outputs": [],
   "source": [
    "shrek_script = shrek.read()"
   ]
  },
  {
   "cell_type": "code",
   "execution_count": 3,
   "metadata": {},
   "outputs": [],
   "source": [
    "shrek.close()"
   ]
  },
  {
   "cell_type": "code",
   "execution_count": 4,
   "metadata": {},
   "outputs": [
    {
     "data": {
      "text/plain": [
       "145246"
      ]
     },
     "execution_count": 4,
     "metadata": {},
     "output_type": "execute_result"
    }
   ],
   "source": [
    "len(shrek_script)"
   ]
  },
  {
   "cell_type": "code",
   "execution_count": 5,
   "metadata": {},
   "outputs": [
    {
     "data": {
      "text/plain": [
       "\"                                          SHREK\\n\\n                                       Written by\\n\\n                                William Steig & Ted Elliott\\n\\n                                     SHREK\\n\\n                         Once upon a time there was a lovely \\n\\n                         princess. But she had an enchantment \\n\\n                         upon her of a fearful sort which could \\n\\n                         only be broken by love's first kiss. \\n\\n                         She was locke\""
      ]
     },
     "execution_count": 5,
     "metadata": {},
     "output_type": "execute_result"
    }
   ],
   "source": [
    "shrek_script[:500]"
   ]
  },
  {
   "cell_type": "code",
   "execution_count": 6,
   "metadata": {},
   "outputs": [
    {
     "name": "stdout",
     "output_type": "stream",
     "text": [
      "                                          SHREK\n",
      "\n",
      "                                       Written by\n",
      "\n",
      "                                William Steig & Ted Elliott\n",
      "\n",
      "                                     SHREK\n",
      "\n",
      "                         Once upon a time there was a lovely \n",
      "\n",
      "                         princess. But she had an enchantment \n",
      "\n",
      "                         upon her of a fearful sort which could \n",
      "\n",
      "                         only be broken by love's first kiss. \n",
      "\n",
      "                         She was locked away in a castle guarded \n",
      "\n",
      "                         by a terrible fire-breathing dragon. \n",
      "\n",
      "                         Many brave knights had attempted to \n",
      "\n",
      "                         free her from this dreadful prison, \n",
      "\n",
      "                         but non prevailed. She waited in the \n",
      "\n",
      "                         dragon's keep in the highest room of \n",
      "\n",
      "                         the tallest tower for her true love \n",
      "\n",
      "                         and true love's first kiss. (laughs) \n",
      "\n",
      "                         Like that's ever gonna happen. What \n",
      "\n",
      "                         a load of - (toilet flush)\n",
      "\n",
      "               Allstar - by Smashmouth begins to play. Shrek goes about his \n",
      "\n",
      "               day. While in a nearby town, the villagers get together to go \n",
      "\n",
      "               after the ogre.\n",
      "\n",
      "               NIGHT - NEAR SHREK'S HOME\n",
      "\n",
      "                                     MAN1\n",
      "\n",
      "                         Think it's in there?\n",
      "\n",
      "                                     MAN2\n",
      "\n",
      "                         All right. Let's get it!\n",
      "\n",
      "                                     MAN1\n",
      "\n",
      "                         Whoa. Hold on. Do you know what that \n",
      "\n",
      "                         thing can do to you?\n",
      "\n",
      "                                     MAN3\n",
      "\n",
      "                         Yeah, it'll grind your bones for it's \n",
      "\n",
      "                         bread.\n",
      "\n",
      "               Shrek sneaks up behind them and laughs.\n",
      "\n",
      "                                     SHREK\n",
      "\n",
      "                         Yes, well, actually, that would be a \n",
      "\n",
      "                         giant. Now,\n"
     ]
    }
   ],
   "source": [
    "print(shrek_script[:2000])"
   ]
  },
  {
   "cell_type": "code",
   "execution_count": 30,
   "metadata": {},
   "outputs": [
    {
     "name": "stdout",
     "output_type": "stream",
     "text": [
      "Pretty printing has been turned OFF\n"
     ]
    }
   ],
   "source": [
    "%pprint"
   ]
  },
  {
   "cell_type": "code",
   "execution_count": 7,
   "metadata": {},
   "outputs": [
    {
     "data": {
      "text/plain": [
       "\"                                          SHREK\\n\\n                                       Written by\\n\\n                                William Steig & Ted Elliott\\n\\n                                     SHREK\\n\\n                         Once upon a time there was a lovely \\n\\n                         princess. But she had an enchantment \\n\\n                         upon her of a fearful sort which could \\n\\n                         only be broken by love's first kiss. \\n\\n                         She was locked away in a castle guarded \\n\\n                         by a terrible fire-breathing dragon. \\n\\n                         Many brave knights had attempted to \\n\\n                         free her from this dreadful prison, \\n\\n                         but non prevailed. She waited in the \\n\\n                         dragon's keep in the highest room of \\n\\n                         the tallest tower for her true love \\n\\n                         and true love's first kiss. (laughs) \\n\\n                         Like that's ever gonna happen. What \\n\\n                         a load of - (toilet flush)\\n\\n               Allstar - by Smashmouth begins to play. Shrek goes about his \\n\\n               day. While in a nearby town, the villagers get together to go \\n\\n               after the ogre.\\n\\n               NIGHT - NEAR SHREK'S HOME\\n\\n                                     MAN1\\n\\n                         Think it's in there?\\n\\n                                     MAN2\\n\\n                         All right. Let's get it!\\n\\n                                     MAN1\\n\\n                         Whoa. Hold on. Do you know what that \\n\\n                         thing can do to you?\\n\\n                                     MAN3\\n\\n                         Yeah, it'll grind your bones for it's \\n\\n                         bread.\\n\\n               Shrek sneaks up behind them and laughs.\\n\\n                                     SHREK\\n\\n                         Yes, well, actually, that would be a \\n\\n                         giant. Now,\""
      ]
     },
     "execution_count": 7,
     "metadata": {},
     "output_type": "execute_result"
    }
   ],
   "source": [
    "shrek_script[:2000]"
   ]
  },
  {
   "cell_type": "markdown",
   "metadata": {},
   "source": [
    "This script is formatted beautifully if a human wants to read it. Too bad my computer doesn't care about this beautiful formatting! Let's see what can be done. It looks like character utterances are identifiable by all caps and two new line characters."
   ]
  },
  {
   "cell_type": "code",
   "execution_count": 12,
   "metadata": {},
   "outputs": [
    {
     "data": {
      "text/plain": [
       "248"
      ]
     },
     "execution_count": 12,
     "metadata": {},
     "output_type": "execute_result"
    }
   ],
   "source": [
    "shrek_script.count('SHREK\\n\\n') #how many lines does shrek seemingly have?"
   ]
  },
  {
   "cell_type": "code",
   "execution_count": 15,
   "metadata": {},
   "outputs": [],
   "source": [
    "import re"
   ]
  },
  {
   "cell_type": "code",
   "execution_count": 22,
   "metadata": {},
   "outputs": [
    {
     "data": {
      "text/plain": [
       "'SHREK\\n\\n'"
      ]
     },
     "execution_count": 22,
     "metadata": {},
     "output_type": "execute_result"
    }
   ],
   "source": [
    "shrek_lines = re.findall('SHREK\\n\\n', shrek_script)\n",
    "shrek_lines[2] #goodness, this is ugly"
   ]
  },
  {
   "cell_type": "markdown",
   "metadata": {},
   "source": [
    "This calls for regular expressions! Maybe I can split the text file into individual lines."
   ]
  },
  {
   "cell_type": "code",
   "execution_count": 23,
   "metadata": {},
   "outputs": [],
   "source": [
    "import re"
   ]
  },
  {
   "cell_type": "code",
   "execution_count": 24,
   "metadata": {},
   "outputs": [],
   "source": [
    "shrek_script = shrek_script[198:] #First, I need to get rid of the title/screenwriter info"
   ]
  },
  {
   "cell_type": "code",
   "execution_count": 25,
   "metadata": {},
   "outputs": [
    {
     "data": {
      "text/plain": [
       "'SHREK\\n\\n                         Once upon a time there was a lovely \\n\\n                         princ'"
      ]
     },
     "execution_count": 25,
     "metadata": {},
     "output_type": "execute_result"
    }
   ],
   "source": [
    "shrek_script[:100] #looks good!"
   ]
  },
  {
   "cell_type": "code",
   "execution_count": 26,
   "metadata": {},
   "outputs": [],
   "source": [
    "x = re.findall(\"[A-Z]{2,}[0-9]?\", shrek_script) #this splits up characters with a 2 word name--not good!"
   ]
  },
  {
   "cell_type": "code",
   "execution_count": 27,
   "metadata": {},
   "outputs": [
    {
     "data": {
      "text/plain": [
       "['SHREK',\n",
       " 'NIGHT',\n",
       " 'NEAR',\n",
       " 'SHREK',\n",
       " 'HOME',\n",
       " 'MAN1',\n",
       " 'MAN2',\n",
       " 'MAN1',\n",
       " 'MAN3',\n",
       " 'SHREK',\n",
       " 'MEN',\n",
       " 'SHREK',\n",
       " 'MAN1',\n",
       " 'SHREK',\n",
       " 'THE',\n",
       " 'NEXT',\n",
       " 'DAY',\n",
       " 'GUARD',\n",
       " 'HEAD',\n",
       " 'GUARD']"
      ]
     },
     "execution_count": 27,
     "metadata": {},
     "output_type": "execute_result"
    }
   ],
   "source": [
    "x[:20] #See how HEAD GUARD is split into HEAD, GUARD?"
   ]
  },
  {
   "cell_type": "markdown",
   "metadata": {},
   "source": [
    "Attempting to split data by capitalized words"
   ]
  },
  {
   "cell_type": "code",
   "execution_count": 96,
   "metadata": {},
   "outputs": [],
   "source": [
    "y = re.findall('([A-Z]{2,}[0-9]?)+', shrek_script)"
   ]
  },
  {
   "cell_type": "code",
   "execution_count": 97,
   "metadata": {},
   "outputs": [
    {
     "data": {
      "text/plain": [
       "844"
      ]
     },
     "execution_count": 97,
     "metadata": {},
     "output_type": "execute_result"
    }
   ],
   "source": [
    "len(y)"
   ]
  },
  {
   "cell_type": "code",
   "execution_count": 98,
   "metadata": {},
   "outputs": [
    {
     "data": {
      "text/plain": [
       "['SHREK', 'NIGHT', 'NEAR', 'SHREK', 'HOME', 'MAN1', 'MAN2', 'MAN1', 'MAN3', 'SHREK', 'MEN', 'SHREK', 'MAN1', 'SHREK', 'THE', 'NEXT', 'DAY', 'GUARD', 'HEAD', 'GUARD', 'GUARD', 'HEAD', 'GUARD', 'GUARD', 'HEAD', 'GUARD', 'LITTLE', 'BEAR', 'DONKEY', 'OLD', 'WOMAN', 'DONKEY', 'HEAD', 'GUARD', 'GIPETTO', 'PINOCCHIO', 'HEAD', 'GUARD', 'PINOCCHIO', 'HEAD', 'GUARD', 'OLD', 'WOMAN', 'HEAD', 'GUARD', 'OLD', 'WOMAN', 'HEAD', 'GUARD', 'OLD', 'WOMAN', 'HEAD', 'GUARD', 'OLD', 'WOMAN', 'HEAD', 'GUARD', 'OLD', 'WOMAN', 'DONKEY', 'PETER', 'PAN', 'LITTLE', 'PIGS', 'HEAD', 'GUARD', 'DONKEY', 'HEAD', 'GUARD', 'GUARDS', 'HEAD', 'GUARD', 'SHREK', 'HEAD', 'GUARD', 'SHREK', 'DONKEY', 'SHREK', 'DONKEY', 'SHREK', 'DONKEY', 'SHREK', 'DONKEY', 'DONKEY', 'SHREK', 'DONKEY', 'SHREK', 'DONKEY', 'SHREK', 'DONKEY', 'SHREK', 'DONKEY', 'SHREK', 'DONKEY', 'SHREK', 'DONKEY', 'SHREK', 'DONKEY', 'SHREK', 'DONKEY']"
      ]
     },
     "execution_count": 98,
     "metadata": {},
     "output_type": "execute_result"
    }
   ],
   "source": [
    "y[:100]"
   ]
  },
  {
   "cell_type": "code",
   "execution_count": 136,
   "metadata": {},
   "outputs": [],
   "source": [
    "x = re.findall(\"[A-Z]['A-Z ]{2,} *[A-Z]{2,}[0-9]*\", shrek_script)"
   ]
  },
  {
   "cell_type": "code",
   "execution_count": 220,
   "metadata": {},
   "outputs": [],
   "source": [
    "v = re.findall(r\"(\\b[A-Z]['A-Z ]{2,}[0-9]?)+\", shrek_script)"
   ]
  },
  {
   "cell_type": "code",
   "execution_count": 222,
   "metadata": {},
   "outputs": [
    {
     "name": "stdout",
     "output_type": "stream",
     "text": [
      "761\n",
      "6\n",
      "['NIGHT ', \"SHREK'S COTTAGE \", 'DULOC ', 'SHREK ', 'DULOC ', 'ARE ']\n"
     ]
    }
   ],
   "source": [
    "print(len(v))\n",
    "t = [phrase for phrase in v if phrase not in z_new]\n",
    "print(len(t))\n",
    "print(t)"
   ]
  },
  {
   "cell_type": "code",
   "execution_count": 226,
   "metadata": {},
   "outputs": [
    {
     "name": "stdout",
     "output_type": "stream",
     "text": [
      "True\n",
      "True\n",
      "True\n"
     ]
    }
   ],
   "source": [
    "print('DULOC' in z_new)\n",
    "print(\"SHREK'S COTTAGE\" in z_new)\n",
    "print(\"ARE\" in z_new) #These are all in the stripped version without space behind it. I think I've found my regular expression!\n",
    "#It's v! (I can deal with stripping those spaces later)"
   ]
  },
  {
   "cell_type": "code",
   "execution_count": 221,
   "metadata": {},
   "outputs": [
    {
     "data": {
      "text/plain": [
       "['SHREK', 'NIGHT ', \"NEAR SHREK'S HOME\", 'MAN1', 'MAN2', 'MAN1', 'MAN3', 'SHREK', 'MEN', 'SHREK', 'MAN1', 'SHREK', 'THE NEXT DAY', 'GUARD', 'HEAD GUARD', 'GUARD', 'HEAD GUARD', 'GUARD', 'HEAD GUARD', 'LITTLE BEAR', 'DONKEY', 'OLD WOMAN', 'DONKEY', 'HEAD GUARD', 'GIPETTO', 'PINOCCHIO', 'HEAD GUARD', 'PINOCCHIO', 'HEAD GUARD', 'OLD WOMAN', 'HEAD GUARD', 'OLD WOMAN', 'HEAD GUARD', 'OLD WOMAN', 'HEAD GUARD', 'OLD WOMAN', 'HEAD GUARD', 'OLD WOMAN', 'DONKEY', 'PETER PAN', 'LITTLE PIGS', 'HEAD GUARD', 'DONKEY', 'HEAD GUARD', 'GUARDS', 'HEAD GUARD', 'SHREK', 'HEAD GUARD', 'SHREK', 'DONKEY', 'SHREK', 'DONKEY', 'SHREK', 'DONKEY', 'SHREK', 'DONKEY', 'DONKEY', 'SHREK', 'DONKEY', 'SHREK', 'DONKEY', 'SHREK', 'DONKEY', 'SHREK', 'DONKEY', 'SHREK', 'DONKEY', 'SHREK', 'DONKEY', 'SHREK', 'DONKEY', 'SHREK', 'DONKEY', 'SHREK', 'DONKEY', 'SHREK', 'DONKEY', 'SHREK', 'DONKEY', 'SHREK', 'DONKEY', 'SHREK', 'DONKEY', 'SHREK', 'DONKEY', 'SHREK', 'DONKEY', 'SHREK', 'DONKEY', \"SHREK'S COTTAGE \", 'NIGHT', 'SHREK', 'DONKEY', 'BLIND MOUSE1', 'BLIND MOUSE2', 'GORDO', 'SHREK', 'GORDO', 'SHREK', 'GORDO']"
      ]
     },
     "execution_count": 221,
     "metadata": {},
     "output_type": "execute_result"
    }
   ],
   "source": [
    "v[:100]"
   ]
  },
  {
   "cell_type": "code",
   "execution_count": 139,
   "metadata": {},
   "outputs": [],
   "source": [
    "z = re.findall(\"['A-Z ]{2,} *[A-Z]{2,}[0-9]*\", shrek_script)"
   ]
  },
  {
   "cell_type": "code",
   "execution_count": 144,
   "metadata": {},
   "outputs": [
    {
     "name": "stdout",
     "output_type": "stream",
     "text": [
      "752\n",
      "761\n",
      "60\n",
      "66\n"
     ]
    }
   ],
   "source": [
    "print(len(x))\n",
    "print(len(z))\n",
    "z_new = [phrase.strip() for phrase in z]\n",
    "print(len(set(x)))\n",
    "print(len(set(z_new)))"
   ]
  },
  {
   "cell_type": "code",
   "execution_count": 224,
   "metadata": {},
   "outputs": [
    {
     "name": "stdout",
     "output_type": "stream",
     "text": [
      "['SHREK', 'NIGHT', \"NEAR SHREK'S HOME\", 'SHREK', 'SHREK', 'SHREK', 'THE NEXT DAY', 'GUARD', 'HEAD GUARD', 'GUARD']\n",
      "['SHREK', '               NIGHT', \" NEAR SHREK'S HOME\", '                                     MAN1', '                                     MAN2', '                                     MAN1', '                                     MAN3', '                                     SHREK', '                                     MEN', '                                     SHREK']\n",
      "['SHREK', 'NIGHT', \"NEAR SHREK'S HOME\", 'MAN1', 'MAN2', 'MAN1', 'MAN3', 'SHREK', 'MEN', 'SHREK']\n",
      "['SHREK', 'NIGHT ', \"NEAR SHREK'S HOME\", 'MAN1', 'MAN2', 'MAN1', 'MAN3', 'SHREK', 'MEN', 'SHREK']\n"
     ]
    }
   ],
   "source": [
    "print(x[:10])\n",
    "print(z[:10])\n",
    "print(z_new[:10])\n",
    "print(v[:10])\n"
   ]
  },
  {
   "cell_type": "code",
   "execution_count": 223,
   "metadata": {},
   "outputs": [
    {
     "name": "stdout",
     "output_type": "stream",
     "text": [
      "2\n",
      "[\"SHREK'S COTTAGE\", 'ARE']\n"
     ]
    }
   ],
   "source": [
    "w = [phrase for phrase in z_new if phrase not in v]\n",
    "print(len(w))\n",
    "print(w)"
   ]
  },
  {
   "cell_type": "code",
   "execution_count": 138,
   "metadata": {},
   "outputs": [
    {
     "data": {
      "text/plain": [
       "['SHREK', 'NIGHT', \"NEAR SHREK'S HOME\", 'SHREK', 'SHREK', 'SHREK', 'THE NEXT DAY', 'GUARD', 'HEAD GUARD', 'GUARD', 'HEAD GUARD', 'GUARD', 'HEAD GUARD', 'LITTLE BEAR', 'DONKEY', 'OLD WOMAN', 'DONKEY', 'HEAD GUARD', 'GIPETTO', 'PINOCCHIO', 'HEAD GUARD', 'PINOCCHIO', 'HEAD GUARD', 'OLD WOMAN', 'HEAD GUARD', 'OLD WOMAN', 'HEAD GUARD', 'OLD WOMAN', 'HEAD GUARD', 'OLD WOMAN', 'HEAD GUARD', 'OLD WOMAN', 'DONKEY', 'PETER PAN', 'LITTLE PIGS', 'HEAD GUARD', 'DONKEY', 'HEAD GUARD', 'GUARDS', 'HEAD GUARD', 'SHREK', 'HEAD GUARD', 'SHREK', 'DONKEY', 'SHREK', 'DONKEY', 'SHREK', 'DONKEY', 'SHREK', 'DONKEY', 'DONKEY', 'SHREK', 'DONKEY', 'SHREK', 'DONKEY', 'SHREK', 'DONKEY', 'SHREK', 'DONKEY', 'SHREK', 'DONKEY', 'SHREK', 'DONKEY', 'SHREK', 'DONKEY', 'SHREK', 'DONKEY', 'SHREK', 'DONKEY', 'SHREK', 'DONKEY', 'SHREK', 'DONKEY', 'SHREK', 'DONKEY', 'SHREK', 'DONKEY', 'SHREK', 'DONKEY', 'SHREK', 'DONKEY', 'SHREK', 'DONKEY', \"SHREK'S COTTAGE\", 'NIGHT', 'SHREK', 'DONKEY', 'BLIND MOUSE1', 'BLIND MOUSE2', 'GORDO', 'SHREK', 'GORDO', 'SHREK', 'GORDO', 'BLIND MOUSE1', 'GORDO', 'SHREK', 'DWARF', 'SHREK', 'BIG BAD WOLF', 'TIME LAPSE', 'SHREK', 'SHREK', 'SHREK', 'DONKEY', 'PINOCCHIO', 'SHREK', 'PINOCCHIO', 'SHREK', 'LITTLE PIG', 'SHREK', 'DONKEY', 'SHREK', 'DONKEY', 'SHREK', 'DONKEY', 'SHREK', 'DONKEY', 'DONKEY', 'SHREK', 'DONKEY', 'SHREK', 'DONKEY', 'SHREK', 'DULOC', 'KITCHEN', 'FARQUAAD', 'FARQUAAD', 'GINGERBREAD MAN', 'FARQUAAD', 'GINGERBREAD MAN', 'FARQUAAD', 'GINGERBREAD MAN', 'FARQUAAD', 'GINGERBREAD MAN', 'FARQUAAD', 'GINGERBREAD MAN', 'FARQUAAD', 'GINGERBREAD MAN', 'FARQUAAD', 'GINGERBREAD MAN', 'FARQUAAD', 'HEAD GUARD', 'FARQUAAD', 'GINGERBREAD MAN', 'FARQUAAD', 'GINGERBREAD MAN', 'FARQUAAD', 'MIRROR', 'FARQUAAD', 'MIRROR', 'FARQUAAD', 'MIRROR', 'GUARDS', 'FARQUAAD', 'THELONIUS', 'FARQUAAD', 'MIRROR', 'FARQUAAD', 'MIRROR', 'FARQUAAD', 'MIRROR', 'FARQUAAD', 'DONKEY', 'SHREK', 'DONKEY', 'SHREK', 'DONKEY', 'SHREK', 'DULOC', 'SHREK', 'DONKEY', 'WOODEN PEOPLE', 'DONKEY', 'SHREK', 'FARQUAAD', 'SHREK', 'DONKEY', 'FARQUAAD', 'SHREK', 'FARQUAAD', 'SHREK', 'CROWD', 'SHREK', 'CROWD', 'SHREK', 'DONKEY', 'SHREK', 'WOMAN', 'SHREK', 'HEAD GUARD', 'FARQUAAD', 'SHREK', 'FARQUAAD', 'SHREK', 'FARQUAAD', 'SHREK', 'FARQUAAD', 'SHREK', 'FARQUAAD', 'SHREK', 'FARQUAAD', 'SHREK', 'DONKEY', 'SHREK', 'DONKEY', 'SHREK', 'DONKEY', 'SHREK', 'DONKEY', 'SHREK', 'DONKEY', 'SHREK', 'DONKEY', 'SHREK', 'DONKEY', 'SHREK', 'DONKEY', 'SHREK', 'DONKEY', 'SHREK', 'DONKEY', 'SHREK', 'DONKEY', \"DRAGON'S KEEP\", 'DONKEY', 'SHREK', 'DONKEY', 'SHREK', 'DONKEY', 'SHREK', 'DONKEY', 'SHREK', 'DONKEY', 'SHREK', 'DONKEY', 'SHREK', 'DONKEY', 'SHREK', 'DONKEY', 'SHREK', 'DONKEY', 'SHREK', 'DONKEY', 'SHREK', 'DONKEY', 'SHREK', 'DONKEY', 'SHREK', 'DONKEY', 'SHREK', 'DONKEY', 'SHREK', 'DONKEY', 'SHREK', 'DONKEY', 'SHREK', 'DONKEY', 'INSIDE THE CASTLE', 'DONKEY', 'SHREK', 'DONKEY', 'SHREK', 'DONKEY', 'SHREK', 'DONKEY', 'SHREK', 'DONKEY', 'SHREK', 'DONKEY', 'EMPTY ROOM', 'DONKEY', 'ELSEWHERE', 'SHREK', 'DONKEY', 'SHREK', 'DONKEY', 'DONKEY', \"FIONA'S ROOM\", 'FIONA', 'SHREK', 'FIONA', 'SHREK', 'FIONA', 'SHREK', 'FIONA', 'SHREK', 'FIONA', 'SHREK', 'FIONA', 'FIONA', 'SHREK', 'FIONA', 'SHREK', 'FIONA', 'SHREK', 'FIONA', 'SHREK', 'FIONA', 'SHREK', 'FIONA', 'SHREK', 'FIONA', 'SHREK', 'DONKEY', 'DONKEY', 'FIONA', 'SHREK', 'SHREK', 'SHREK', 'SHREK', 'FIONA', 'DONKEY', 'FIONA', 'SHREK', 'FIONA', 'SHREK', 'FIONA', 'SHREK', 'FIONA', 'SHREK', 'DONKEY', 'FIONA', 'DONKEY', 'FIONA', 'DONKEY', 'FIONA', 'SHREK', 'SHREK', 'FIONA', 'SHREK', 'FIONA', 'SHREK', 'FIONA', 'SHREK', 'FIONA', 'SHREK', 'FIONA', 'SHREK', 'FIONA', 'SHREK', 'FIONA', 'DONKEY', 'SHREK', 'FIONA', 'SHREK', 'FIONA', 'SHREK', 'DONKEY', 'FIONA', 'WOODS', 'DONKEY', 'FIONA', 'DONKEY', 'FIONA', 'SHREK', 'DONKEY', 'SHREK', 'FIONA', 'SHREK', 'FIONA', 'DONKEY', 'SHREK', 'FIONA', 'MOUNTAIN CLIFF', 'SHREK', 'DONKEY', 'FIONA', 'SHREK', 'FIONA', 'DONKEY', 'FIONA', 'DONKEY', 'SHREK', 'LATER THAT NIGHT', 'SHREK', 'DONKEY', 'SHREK', 'DONKEY', 'SHREK', 'DONKEY', 'SHREK', 'DONKEY', 'SHREK', 'DONKEY', 'SHREK', 'DONKEY', 'SHREK', 'DONKEY', 'SHREK', 'DONKEY', 'SHREK', 'DONKEY', 'SHREK', 'DONKEY', 'SHREK', 'DONKEY', 'SHREK', 'DONKEY', 'SHREK', 'DONKEY', 'SHREK', 'DONKEY', 'SHREK', 'DONKEY', 'SHREK', 'DONKEY', 'SHREK', 'DONKEY', 'SHREK', 'DONKEY', 'FARQUAAD', 'MIRROR', 'FARQUAAD', 'MORNING', 'DONKEY', 'SHREK', 'DONKEY', 'SHREK', 'DONKEY', 'FIONA', 'DONKEY', 'SHREK', 'FIONA', 'SHREK', 'FIONA', 'LATER', 'DONKEY', 'SHREK', 'DONKEY', 'FIONA', 'DONKEY', 'SHREK', 'FIONA', 'ROBIN HOOD', 'SHREK', 'FIONA', 'ROBIN HOOD', 'SHREK', 'ROBIN HOOD', 'FIONA', 'ROBIN HOOD', 'MERRY MEN', 'ROBIN HOOD', 'MERRY MEN', 'ROBIN HOOD', 'MERRY MEN', 'ROBIN HOOD', 'MERRY MEN', 'ROBIN HOOD', 'MERRY MEN', 'ROBIN HOOD', 'MERRY MEN', 'ROBIN HOOD', 'FIONA', 'MERRY MAN', 'FIONA', 'SHREK', 'FIONA', 'SHREK', 'FIONA', 'SHREK', 'FIONA', 'DONKEY', 'FIONA', 'DONKEY', 'SHREK', 'DONKEY', 'FIONA', 'DONKEY', 'SHREK', 'FIONA', 'DONKEY', 'SHREK', 'FIONA', 'SHREK', 'FIONA', 'SHREK', 'FIONA', 'SHREK', 'FIONA', 'SHREK', 'FIONA', 'SHREK', 'FIONA', 'ELSEWHERE', 'DONKEY', 'SHREK', 'DONKEY', 'THE FOREST PATH', 'SHREK', 'FIONA', 'SHREK', 'DONKEY', 'SHREK', 'DONKEY', 'SHREK', 'DONKEY', 'WINDMILL', 'SHREK', 'FIONA', 'DONKEY', 'SHREK', 'FIONA', 'SHREK', 'FIONA', 'DONKEY', 'FIONA', 'SHREK', 'FIONA', 'DONKEY', 'SHREK', 'FIONA', 'DONKEY', 'SUNSET', 'FIONA', 'SHREK', 'FIONA', 'SHREK', 'FIONA', 'SHREK', 'FIONA', 'SHREK', 'FIONA', 'SHREK', 'DONKEY', 'FIONA', 'SHREK', 'DONKEY', 'FIONA', 'DONKEY', 'FIONA', 'SHREK', 'DONKEY', 'SHREK', 'DONKEY', 'SHREK', 'DONKEY', 'SHREK', 'DONKEY', 'SHREK', 'DONKEY', 'SHREK', 'TIME LAPSE', 'DONKEY', 'DONKEY', 'DONKEY', 'FIONA', 'DONKEY', 'FIONA', 'DONKEY', 'FIONA', 'DONKEY', 'FIONA', 'DONKEY', 'FIONA', 'DONKEY', 'FIONA', 'DONKEY', 'FIONA', 'DONKEY', 'FIONA', 'DONKEY', 'FIONA', 'DONKEY', 'FIONA', 'DONKEY', 'FIONA', 'DONKEY', 'FIONA', 'DONKEY', 'FIONA', 'DONKEY', 'FIONA', 'DONKEY', 'FIONA', 'DONKEY', 'FIONA', 'OUTSIDE', 'SHREK', 'FIONA', 'FIONA', 'INSIDE', 'FIONA', 'DONKEY', 'FIONA', 'DONKEY', 'FIONA', 'DONKEY', 'MORNING', 'FIONA', 'FIONA', 'SHREK', 'FIONA', 'SHREK', 'FIONA', 'SHREK', 'FIONA', 'SHREK', 'FIONA', 'SHREK', 'DONKEY', 'FARQUAAD', 'SHREK', 'FARQUAAD', 'FIONA', 'FARQUAAD', 'FIONA', 'FARQUAAD', 'FIONA', 'FARQUAAD', 'FIONA', 'FARQUAAD', 'FIONA', 'DONKEY', 'SHREK', 'DONKEY', 'SHREK', 'DONKEY', 'SHREK', 'DONKEY', 'SHREK', 'DONKEY', \"SHREK'S HOME\", 'SHREK', 'DONKEY', 'SHREK', 'DONKEY', 'SHREK', 'DONKEY', 'SHREK', 'DONKEY', 'SHREK', 'DONKEY', 'SHREK', 'DONKEY', 'SHREK', 'DONKEY', 'SHREK', 'DONKEY', 'SHREK', 'DONKEY', 'SHREK', 'DONKEY', 'SHREK', 'DONKEY', 'SHREK', 'DONKEY', 'SHREK', 'DONKEY', 'SHREK', 'DONKEY', 'SHREK', 'DONKEY', 'SHREK', 'DONKEY', 'SHREK', 'DONKEY', 'SHREK', 'DONKEY', 'SHREK', 'DONKEY', 'SHREK', 'DONKEY', 'SHREK', 'DONKEY', 'DULOC', 'CHURCH', 'PRIEST', 'FIONA', 'PRIEST', 'FIONA', 'FARQUAAD', 'COURTYARD', 'DONKEY', 'HAVE SOME FUN', 'SHREK', 'DONKEY', 'SHREK', 'DONKEY', 'SHREK', 'DONKEY', 'SHREK', 'DONKEY', 'SHREK', 'DONKEY', 'SHREK', 'DONKEY', 'INSIDE CHURCH', 'PRIEST', 'SHREK', 'DONKEY', 'PRIEST', 'DONKEY', 'PRIEST', 'DONKEY', 'SHREK', 'INSIDE CHURCH', 'SHREK', 'FIONA', 'FARQUAAD', 'SHREK', 'FIONA', 'SHREK', 'SHREK', 'FIONA', 'SHREK', 'FIONA', 'SHREK', 'FARQUAAD', 'SHREK', 'FIONA', 'SHREK', 'FARQUAAD', 'FARQUAAD', 'FIONA', 'FARQUAAD', 'FIONA', 'SHREK', 'FARQUAAD', 'SHREK', 'FIONA', 'FARQUAAD', 'FIONA', 'SHREK', 'FARQUAAD', 'SHREK', 'FARQUAAD', 'FIONA', 'FARQUAAD', 'SHREK', 'FARQUAAD', 'FARQUAAD', 'DONKEY', 'DONKEY', 'DONKEY', 'SHREK', 'FIONA', 'SHREK', 'FIONA', 'SHREK', 'FIONA', 'CONGREGATION', 'WHISPERS', 'SHREK', 'FIONA', 'SHREK', 'DONKEY', 'THE SWAMP', 'GINGERBREAD MAN', 'DONKEY', 'THE END']"
      ]
     },
     "execution_count": 138,
     "metadata": {},
     "output_type": "execute_result"
    }
   ],
   "source": [
    "x"
   ]
  },
  {
   "cell_type": "markdown",
   "metadata": {},
   "source": [
    "Some scene headers, like locations, ie \"NEAR SHREK HOME\" and time \"NIGHT\" are still included. These will be filtered out later."
   ]
  },
  {
   "cell_type": "code",
   "execution_count": 123,
   "metadata": {},
   "outputs": [],
   "source": [
    "shr_scr = re.sub(\"(['A-Z ]{3,} *[A-Z]{2,}[0-9]*)\", r'_NEWLINE_\\1', shrek_script)"
   ]
  },
  {
   "cell_type": "code",
   "execution_count": 126,
   "metadata": {},
   "outputs": [
    {
     "data": {
      "text/plain": [
       "\"_NEWLINE_SHREK\\n\\n                         Once upon a time there was a lovely \\n\\n                         princess. But she had an enchantment \\n\\n                         upon her of a fearful sort which could \\n\\n                         only be broken by love's first kiss. \\n\\n                         She was locked away in a castle guarded \\n\\n                         by a terrible fire-breathing dragon. \\n\\n                         Many brave knights had attempted to \\n\\n                         free her from this dreadful prison, \\n\\n                         but non prevailed. She waited in the \\n\\n                         dragon's keep in the highest room of \\n\\n                         the tallest tower for her true love \\n\\n                         and true love's first kiss. (laughs) \\n\\n                         Like that's ever gonna happen. What \\n\\n                         a load of - (toilet flush)\\n\\n               Allstar - by Smashmouth begins to play. Shrek goes about his \\n\\n               day. While in a nearby town, the villagers get together to go \\n\\n               after the ogre.\\n\\n_NEWLINE_               NIGHT -_NEWLINE_ NEAR SHREK'S HOME\\n\\n_NEWLINE_                                     MAN1\\n\\n                         Think it's in there?\\n\\n_NEWLINE_                                     MAN2\\n\\n                         All right. Let's get it!\\n\\n_NEWLINE_                                     MAN1\\n\\n                         Whoa. Hold on. Do you know what that \\n\\n                         thing can do to you?\\n\\n_NEWLINE_                                     MAN3\\n\\n                         Yeah, it'll grind your bones for it's \\n\\n                         bread.\\n\\n               Shrek sneaks up behind them and laughs.\\n\\n_NEWLINE_                                     SHREK\\n\\n                         Yes, well, actually, that would be a \\n\\n                         giant. Now, ogres, oh they're much worse. \\n\\n                         They'll make a suit from your freshly \\n\\n                         pee\""
      ]
     },
     "execution_count": 126,
     "metadata": {},
     "output_type": "execute_result"
    }
   ],
   "source": [
    "shr_scr[:2000]"
   ]
  },
  {
   "cell_type": "code",
   "execution_count": 129,
   "metadata": {},
   "outputs": [],
   "source": [
    "y = re.findall('_NEWLINE_ *[A-Z]*', shr_scr)"
   ]
  },
  {
   "cell_type": "code",
   "execution_count": 131,
   "metadata": {},
   "outputs": [
    {
     "data": {
      "text/plain": [
       "760"
      ]
     },
     "execution_count": 131,
     "metadata": {},
     "output_type": "execute_result"
    }
   ],
   "source": [
    "len(y) #matches earlier"
   ]
  },
  {
   "cell_type": "code",
   "execution_count": 132,
   "metadata": {},
   "outputs": [
    {
     "data": {
      "text/plain": [
       "['_NEWLINE_S', '_NEWLINE_               N', '_NEWLINE_ N', '_NEWLINE_                                     M', '_NEWLINE_                                     M', '_NEWLINE_                                     M', '_NEWLINE_                                     M', '_NEWLINE_                                     S', '_NEWLINE_                                     M', '_NEWLINE_                                     S', '_NEWLINE_                                     M', '_NEWLINE_                                     S', '_NEWLINE_               T', '_NEWLINE_                                     G', '_NEWLINE_                                     H', '_NEWLINE_                                     G', '_NEWLINE_                                     H', '_NEWLINE_                                     G', '_NEWLINE_                                     H', '_NEWLINE_                                     L', '_NEWLINE_                                     D', '_NEWLINE_                                     O', '_NEWLINE_                                     D', '_NEWLINE_                                     H', '_NEWLINE_                                     G', '_NEWLINE_                                     P', '_NEWLINE_                                     H', '_NEWLINE_                                     P', '_NEWLINE_                                     H', '_NEWLINE_                                     O', '_NEWLINE_                                     H', '_NEWLINE_                                     O', '_NEWLINE_                                     H', '_NEWLINE_                                     O', '_NEWLINE_                                     H', '_NEWLINE_                                     O', '_NEWLINE_                                     H', '_NEWLINE_                                     O', '_NEWLINE_                                     D', '_NEWLINE_                                     P', '_NEWLINE_ L', '_NEWLINE_                                     H', '_NEWLINE_                                     D', '_NEWLINE_                                     H', '_NEWLINE_                                     G', '_NEWLINE_                                     H', '_NEWLINE_                                     S', '_NEWLINE_                                     H', '_NEWLINE_                                     S', '_NEWLINE_                                     D', '_NEWLINE_                                     S', '_NEWLINE_                                     D', '_NEWLINE_                                     S', '_NEWLINE_                                     D', '_NEWLINE_                                     S', '_NEWLINE_                                     D', '_NEWLINE_                                     D', '_NEWLINE_                                     S', '_NEWLINE_                                     D', '_NEWLINE_                                     S', '_NEWLINE_                                     D', '_NEWLINE_                                     S', '_NEWLINE_                                     D', '_NEWLINE_                                     S', '_NEWLINE_                                     D', '_NEWLINE_                                     S', '_NEWLINE_                                     D', '_NEWLINE_                                     S', '_NEWLINE_                                     D', '_NEWLINE_                                     S', '_NEWLINE_                                     D', '_NEWLINE_                                     S', '_NEWLINE_                                     D', '_NEWLINE_                                     S', '_NEWLINE_                                     D', '_NEWLINE_                                     S', '_NEWLINE_                                     D', '_NEWLINE_                                     S', '_NEWLINE_                                     D', '_NEWLINE_                                     S', '_NEWLINE_                                     D', '_NEWLINE_                                     S', '_NEWLINE_                                     D', '_NEWLINE_                                     S', '_NEWLINE_                                     D', '_NEWLINE_                                     S', '_NEWLINE_                                     D', '_NEWLINE_                                     S', '_NEWLINE_                                     D', '_NEWLINE_               S', '_NEWLINE_ N', '_NEWLINE_                                     S', '_NEWLINE_                                     D', '_NEWLINE_                                     B', '_NEWLINE_                                     B', '_NEWLINE_                                     G', '_NEWLINE_                                     S', '_NEWLINE_                                     G', '_NEWLINE_                                     S', '_NEWLINE_                                     G']"
      ]
     },
     "execution_count": 132,
     "metadata": {},
     "output_type": "execute_result"
    }
   ],
   "source": [
    "y[:100]"
   ]
  },
  {
   "cell_type": "code",
   "execution_count": 231,
   "metadata": {},
   "outputs": [
    {
     "ename": "TypeError",
     "evalue": "sub() missing 2 required positional arguments: 'repl' and 'string'",
     "output_type": "error",
     "traceback": [
      "\u001b[1;31m---------------------------------------------------------------------------\u001b[0m",
      "\u001b[1;31mTypeError\u001b[0m                                 Traceback (most recent call last)",
      "\u001b[1;32m<ipython-input-231-55e3407e3e1f>\u001b[0m in \u001b[0;36m<module>\u001b[1;34m\u001b[0m\n\u001b[1;32m----> 1\u001b[1;33m \u001b[0mshr_scr2\u001b[0m \u001b[1;33m=\u001b[0m \u001b[0mre\u001b[0m\u001b[1;33m.\u001b[0m\u001b[0msub\u001b[0m\u001b[1;33m(\u001b[0m\u001b[1;34m''\u001b[0m\u001b[1;33m)\u001b[0m\u001b[1;33m\u001b[0m\u001b[0m\n\u001b[0m",
      "\u001b[1;31mTypeError\u001b[0m: sub() missing 2 required positional arguments: 'repl' and 'string'"
     ]
    }
   ],
   "source": [
    "shr_scr2 = re.sub('')"
   ]
  },
  {
   "cell_type": "code",
   "execution_count": 127,
   "metadata": {},
   "outputs": [
    {
     "data": {
      "text/plain": [
       "'                         O'"
      ]
     },
     "execution_count": 127,
     "metadata": {},
     "output_type": "execute_result"
    }
   ],
   "source": [
    "shr_scr[16:42]"
   ]
  },
  {
   "cell_type": "code",
   "execution_count": 227,
   "metadata": {},
   "outputs": [
    {
     "data": {
      "text/plain": [
       "26"
      ]
     },
     "execution_count": 227,
     "metadata": {},
     "output_type": "execute_result"
    }
   ],
   "source": [
    "len(shr_scr[16:42]) #number of white spaces between '\\n and O' (O is a line of dialogue)"
   ]
  },
  {
   "cell_type": "code",
   "execution_count": 228,
   "metadata": {},
   "outputs": [
    {
     "data": {
      "text/plain": [
       "' \\n\\n                         a load of - (toilet flush)\\n\\n               Allstar - by Smashmouth begins to '"
      ]
     },
     "execution_count": 228,
     "metadata": {},
     "output_type": "execute_result"
    }
   ],
   "source": [
    "shr_scr[845:950]"
   ]
  },
  {
   "cell_type": "code",
   "execution_count": 229,
   "metadata": {},
   "outputs": [
    {
     "data": {
      "text/plain": [
       "'               '"
      ]
     },
     "execution_count": 229,
     "metadata": {},
     "output_type": "execute_result"
    }
   ],
   "source": [
    "shr_scr[901:916]"
   ]
  },
  {
   "cell_type": "code",
   "execution_count": 230,
   "metadata": {},
   "outputs": [
    {
     "data": {
      "text/plain": [
       "15"
      ]
     },
     "execution_count": 230,
     "metadata": {},
     "output_type": "execute_result"
    }
   ],
   "source": [
    "len(shr_scr[901:916]) #number of white spacecs between \\n and A (A is not a line of dialogue)"
   ]
  },
  {
   "cell_type": "markdown",
   "metadata": {},
   "source": [
    "Substitute all wide gaps by a single white space. This will help group lines vs scene headings."
   ]
  },
  {
   "cell_type": "code",
   "execution_count": 232,
   "metadata": {},
   "outputs": [],
   "source": [
    "shr_scr2 = re.sub(\" {20,}\", \" \", shrek_script)"
   ]
  },
  {
   "cell_type": "code",
   "execution_count": 233,
   "metadata": {},
   "outputs": [
    {
     "data": {
      "text/plain": [
       "\"SHREK\\n\\n Once upon a time there was a lovely \\n\\n princess. But she had an enchantment \\n\\n upon her of a fearful sort which could \\n\\n only be broken by love's first kiss. \\n\\n She was locked away in a castle guarded \\n\\n by a terrible fire-breathing dragon. \\n\\n Many brave knights had attempted to \\n\\n free her from this dreadful prison, \\n\\n but non prevailed. She waited in the \\n\\n dragon's keep in the highest room of \\n\\n the tallest tower for her true love \\n\\n and true love's first kiss. (laughs) \\n\\n Like that's ever gonna happen. What \\n\\n a load of - (toilet flush)\\n\\n               Allstar - by Smashmouth begin\""
      ]
     },
     "execution_count": 233,
     "metadata": {},
     "output_type": "execute_result"
    }
   ],
   "source": [
    "shr_scr2[:600]"
   ]
  },
  {
   "cell_type": "code",
   "execution_count": 234,
   "metadata": {},
   "outputs": [],
   "source": [
    "lines = re.sub('([A-Z]{2,} *[A-Z]{2,}[0-9]*)', r'_NEWLINE_\\1', shr_scr2) #marking beginning of a line of dialogue"
   ]
  },
  {
   "cell_type": "code",
   "execution_count": 243,
   "metadata": {},
   "outputs": [
    {
     "name": "stdout",
     "output_type": "stream",
     "text": [
      "_NEWLINE_SHREK                          Once upon a time there was a lovely                           princess. But she had an enchantment                           upon her of a fearful sort which could                           only be broken by love's first kiss.                           She was locked away in a castle guarded                           by a terrible fire-breathing dragon.                           Many brave knights had attempted to                           free her from this dreadful prison,                           but non prevailed. She waited in the                           dragon's keep in the highest room of                           the tallest tower for her true love                           and true love's first kiss. (laughs)                           Like that's ever gonna happen. What                           a load of - (toilet flush)                Allstar - by Smashmouth begins to play. Shrek goes about his                 day. While in a nearby town, the villagers get together to go                 after the ogre. _NEWLINE_               NIGHT -_NEWLINE_ NEAR SHREK'S HOME _NEWLINE_                                     MAN1                          Think it's in there? _NEWLINE_                                     MAN2                          All right. Let's get it! _NEWLINE_                                     MAN1                          Whoa. Hold on. Do you know what that                           thing can do to you? _NEWLINE_                                     MAN3                          Yeah, it'll grind your bones for it's                           bread.                Shrek sneaks up behind them and laughs. _NEWLINE_                                     SHREK                          Yes, well, actually, that would be a                           giant. Now, ogres, oh they're much worse.                           They'll make a suit from your freshly                           peeled skin. _NEWLINE_               \n"
     ]
    }
   ],
   "source": [
    "shr_scr3 = re.sub('\\n\\n', ' ', shr_scr)\n",
    "print(shr_scr3[:2000])"
   ]
  },
  {
   "cell_type": "code",
   "execution_count": 244,
   "metadata": {},
   "outputs": [],
   "source": [
    "white_space = re.findall(\" {3,}\", shr_scr3)"
   ]
  },
  {
   "cell_type": "code",
   "execution_count": 245,
   "metadata": {},
   "outputs": [
    {
     "data": {
      "text/plain": [
       "2661"
      ]
     },
     "execution_count": 245,
     "metadata": {},
     "output_type": "execute_result"
    }
   ],
   "source": [
    "len(white_space)"
   ]
  },
  {
   "cell_type": "code",
   "execution_count": 246,
   "metadata": {},
   "outputs": [
    {
     "name": "stdout",
     "output_type": "stream",
     "text": [
      "['                          ', '                           ', '                           ', '                           ', '                           ', '                           ', '                           ', '                           ', '                           ', '                           ']\n",
      "[26, 27, 27, 27, 27, 27, 27, 27, 27, 27, 27, 27, 27, 27, 16, 17, 17, 15, 37, 26, 37, 26, 37, 26, 27, 37, 26, 27, 16, 37, 26, 27, 27, 27, 37, 26, 37, 26, 27, 27, 37, 26, 27, 16, 17, 17, 17, 37, 26, 27, 27, 27, 27, 27, 15, 16, 17, 17, 17, 17, 17, 37, 26, 27, 37, 26, 37, 26, 27, 27, 37, 26, 27, 37, 26, 37, 26, 37, 26, 37, 26, 27, 27, 37, 26, 37, 26, 37, 26, 37, 26, 37, 26, 27, 37, 26, 27, 37, 26, 27]\n",
      "{37, 38, 15, 16, 17, 26, 27}\n"
     ]
    }
   ],
   "source": [
    "print(white_space[:10])\n",
    "len_wh_space = [len(x) for x in white_space]\n",
    "print(len_wh_space[:100])\n",
    "print(set(len_wh_space)) #all chunks of white space\n",
    "# are either 25, 37, or 15 spaces long"
   ]
  },
  {
   "cell_type": "code",
   "execution_count": 235,
   "metadata": {},
   "outputs": [
    {
     "data": {
      "text/plain": [
       "\"_NEWLINE_SHREK\\n\\n Once upon a time there was a lovely \\n\\n princess. But she had an enchantment \\n\\n upon her of a fearful sort which could \\n\\n only be broken by love's first kiss. \\n\\n She was locked away in a castle guarded \\n\\n by a terrible fire-breathing dragon. \\n\\n Many brave knights had attempted to \\n\\n free her from this dreadful prison, \\n\\n but non prevailed. She waited in the \\n\\n dragon's keep in the highest room of \\n\\n the tallest tower for her true love \\n\\n and true love's first kiss. (laughs) \\n\\n Like that's ever gonna happen. What \\n\\n a load of - (toilet flush)\\n\\n               Allstar - by Smashmouth begins to play. Shrek goes about his \\n\\n               day. While in a nearby town, the villagers get together to go \\n\\n               after the ogre.\\n\\n               _NEWLINE_NIGHT - _NEWLINE_NEAR SHREK'S _NEWLINE_HOME\\n\\n MAN1\\n\\n Think it's in there?\\n\\n MAN2\\n\\n All right. Let's get it!\\n\\n MAN1\\n\\n Whoa. Hold on. Do you know what that \\n\\n thing can do to you?\\n\\n MAN3\\n\\n Yeah, it'll grind your bones for it\""
      ]
     },
     "execution_count": 235,
     "metadata": {},
     "output_type": "execute_result"
    }
   ],
   "source": [
    "lines[:1000]"
   ]
  },
  {
   "cell_type": "code",
   "execution_count": null,
   "metadata": {},
   "outputs": [],
   "source": [
    "shrek_list = lines.split('_NEWLINE_')"
   ]
  },
  {
   "cell_type": "code",
   "execution_count": null,
   "metadata": {},
   "outputs": [],
   "source": [
    "shrek_list[:10]"
   ]
  },
  {
   "cell_type": "code",
   "execution_count": null,
   "metadata": {},
   "outputs": [],
   "source": [
    "shrek_list = shrek_list[1:] #get rid of that first empty string!"
   ]
  },
  {
   "cell_type": "code",
   "execution_count": null,
   "metadata": {},
   "outputs": [],
   "source": [
    "shrek_list[:10]"
   ]
  },
  {
   "cell_type": "markdown",
   "metadata": {},
   "source": [
    "Notice that there are still scene headers included, but they are marked by a big white space!"
   ]
  },
  {
   "cell_type": "code",
   "execution_count": null,
   "metadata": {},
   "outputs": [],
   "source": [
    "x = re.findall(' {5,}.+\\n\\n', shrek_list[0]) #identifying scene headers!"
   ]
  },
  {
   "cell_type": "code",
   "execution_count": null,
   "metadata": {},
   "outputs": [],
   "source": [
    "x"
   ]
  },
  {
   "cell_type": "code",
   "execution_count": null,
   "metadata": {},
   "outputs": [],
   "source": [
    "x = re.findall(' {5,}.*\\n\\n', shrek_list[7])"
   ]
  },
  {
   "cell_type": "code",
   "execution_count": null,
   "metadata": {},
   "outputs": [],
   "source": [
    "x"
   ]
  },
  {
   "cell_type": "code",
   "execution_count": null,
   "metadata": {},
   "outputs": [],
   "source": [
    "shrek_list[7] #this entire entry is a scene header! But it can potentially be filtered out\n",
    "# with the right expression"
   ]
  },
  {
   "cell_type": "code",
   "execution_count": null,
   "metadata": {},
   "outputs": [],
   "source": [
    "shrek_list[:10]"
   ]
  },
  {
   "cell_type": "code",
   "execution_count": null,
   "metadata": {},
   "outputs": [],
   "source": [
    "shrek_lines = []\n",
    "for line in shrek_list:\n",
    "    shrek_lines.append(re.sub(r' {5,}.*(\\n\\n)?', ' ', line))"
   ]
  },
  {
   "cell_type": "code",
   "execution_count": null,
   "metadata": {},
   "outputs": [],
   "source": [
    "shrek_lines[:10]"
   ]
  },
  {
   "cell_type": "code",
   "execution_count": null,
   "metadata": {},
   "outputs": [],
   "source": [
    "shrek_lines[4]"
   ]
  },
  {
   "cell_type": "markdown",
   "metadata": {},
   "source": [
    "Looking at this, it seems that I missed some stuff earlier with the white space problem! For very short lines of dialogue, a larger gap appears between utterances. So when I shrunk the wide gaps that I thought indicated a single utterance, I lumped some lines of dialogue together in the process!"
   ]
  },
  {
   "cell_type": "markdown",
   "metadata": {},
   "source": [
    "Though I've made some headway on where to go with Shrek dialogue, there's still a long way to go here."
   ]
  },
  {
   "cell_type": "code",
   "execution_count": null,
   "metadata": {},
   "outputs": [],
   "source": []
  }
 ],
 "metadata": {
  "kernelspec": {
   "display_name": "Python 3",
   "language": "python",
   "name": "python3"
  },
  "language_info": {
   "codemirror_mode": {
    "name": "ipython",
    "version": 3
   },
   "file_extension": ".py",
   "mimetype": "text/x-python",
   "name": "python",
   "nbconvert_exporter": "python",
   "pygments_lexer": "ipython3",
   "version": "3.6.4"
  }
 },
 "nbformat": 4,
 "nbformat_minor": 2
}
