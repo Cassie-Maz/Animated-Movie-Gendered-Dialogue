{
 "cells": [
  {
   "cell_type": "markdown",
   "metadata": {},
   "source": [
    "# Testing out the data to use\n",
    "## Cornell's movie-dialogs corpus\n",
    "### Movie titles metadata text file\n",
    "Seeing what animated movies are in this corpus."
   ]
  },
  {
   "cell_type": "markdown",
   "metadata": {},
   "source": [
    "## Film Corpus 2.0\n",
    "Found here: https://nlds.soe.ucsc.edu/fc2\n",
    "\n",
    "This corpus has 35 animated movie. Let's see how the text files are formatted using their script for Shrek"
   ]
  },
  {
   "cell_type": "code",
   "execution_count": 1,
   "metadata": {},
   "outputs": [],
   "source": [
    "shrek = open(r'C:\\Users\\cassi\\Desktop\\Data_Science\\Animated-Movie-Gendered-Dialogue\\private\\imsdb_raw_nov_2015\\Animation\\shrek.txt')"
   ]
  },
  {
   "cell_type": "code",
   "execution_count": 2,
   "metadata": {},
   "outputs": [],
   "source": [
    "shrek_script = shrek.read()"
   ]
  },
  {
   "cell_type": "code",
   "execution_count": 3,
   "metadata": {},
   "outputs": [],
   "source": [
    "shrek.close()"
   ]
  },
  {
   "cell_type": "code",
   "execution_count": 4,
   "metadata": {},
   "outputs": [
    {
     "data": {
      "text/plain": [
       "145246"
      ]
     },
     "execution_count": 4,
     "metadata": {},
     "output_type": "execute_result"
    }
   ],
   "source": [
    "len(shrek_script)"
   ]
  },
  {
   "cell_type": "code",
   "execution_count": 5,
   "metadata": {},
   "outputs": [
    {
     "data": {
      "text/plain": [
       "\"                                          SHREK\\n\\n                                       Written by\\n\\n                                William Steig & Ted Elliott\\n\\n                                     SHREK\\n\\n                         Once upon a time there was a lovely \\n\\n                         princess. But she had an enchantment \\n\\n                         upon her of a fearful sort which could \\n\\n                         only be broken by love's first kiss. \\n\\n                         She was locke\""
      ]
     },
     "execution_count": 5,
     "metadata": {},
     "output_type": "execute_result"
    }
   ],
   "source": [
    "shrek_script[:500]"
   ]
  },
  {
   "cell_type": "code",
   "execution_count": 6,
   "metadata": {},
   "outputs": [
    {
     "name": "stdout",
     "output_type": "stream",
     "text": [
      "                                          SHREK\n",
      "\n",
      "                                       Written by\n",
      "\n",
      "                                William Steig & Ted Elliott\n",
      "\n",
      "                                     SHREK\n",
      "\n",
      "                         Once upon a time there was a lovely \n",
      "\n",
      "                         princess. But she had an enchantment \n",
      "\n",
      "                         upon her of a fearful sort which could \n",
      "\n",
      "                         only be broken by love's first kiss. \n",
      "\n",
      "                         She was locked away in a castle guarded \n",
      "\n",
      "                         by a terrible fire-breathing dragon. \n",
      "\n",
      "                         Many brave knights had attempted to \n",
      "\n",
      "                         free her from this dreadful prison, \n",
      "\n",
      "                         but non prevailed. She waited in the \n",
      "\n",
      "                         dragon's keep in the highest room of \n",
      "\n",
      "                         the tallest tower for her true love \n",
      "\n",
      "                         and true love's first kiss. (laughs) \n",
      "\n",
      "                         Like that's ever gonna happen. What \n",
      "\n",
      "                         a load of - (toilet flush)\n",
      "\n",
      "               Allstar - by Smashmouth begins to play. Shrek goes about his \n",
      "\n",
      "               day. While in a nearby town, the villagers get together to go \n",
      "\n",
      "               after the ogre.\n",
      "\n",
      "               NIGHT - NEAR SHREK'S HOME\n",
      "\n",
      "                                     MAN1\n",
      "\n",
      "                         Think it's in there?\n",
      "\n",
      "                                     MAN2\n",
      "\n",
      "                         All right. Let's get it!\n",
      "\n",
      "                                     MAN1\n",
      "\n",
      "                         Whoa. Hold on. Do you know what that \n",
      "\n",
      "                         thing can do to you?\n",
      "\n",
      "                                     MAN3\n",
      "\n",
      "                         Yeah, it'll grind your bones for it's \n",
      "\n",
      "                         bread.\n",
      "\n",
      "               Shrek sneaks up behind them and laughs.\n",
      "\n",
      "                                     SHREK\n",
      "\n",
      "                         Yes, well, actually, that would be a \n",
      "\n",
      "                         giant. Now,\n"
     ]
    }
   ],
   "source": [
    "print(shrek_script[:2000])"
   ]
  },
  {
   "cell_type": "code",
   "execution_count": 71,
   "metadata": {},
   "outputs": [
    {
     "data": {
      "text/plain": [
       "\"SHREK\\n\\n                         Once upon a time there was a lovely \\n\\n                         princess. But she had an enchantment \\n\\n                         upon her of a fearful sort which could \\n\\n                         only be broken by love's first kiss. \\n\\n                         She was locked away in a castle guarded \\n\\n                         by a terrible fire-breathing dragon. \\n\\n                         Many brave knights had attempted to \\n\\n                         free her from this dreadful prison, \\n\\n                         but non prevailed. She waited in the \\n\\n                         dragon's keep in the highest room of \\n\\n                         the tallest tower for her true love \\n\\n                         and true love's first kiss. (laughs) \\n\\n                         Like that's ever gonna happen. What \\n\\n                         a load of - (toilet flush)\\n\\n               Allstar - by Smashmouth begins to play. Shrek goes about his \\n\\n               day. While in a nearby town, the villagers get together to go \\n\\n               after the ogre.\\n\\n               NIGHT - NEAR SHREK'S HOME\\n\\n                                     MAN1\\n\\n                         Think it's in there?\\n\\n                                     MAN2\\n\\n                         All right. Let's get it!\\n\\n                                     MAN1\\n\\n                         Whoa. Hold on. Do you know what that \\n\\n                         thing can do to you?\\n\\n                                     MAN3\\n\\n                         Yeah, it'll grind your bones for it's \\n\\n                         bread.\\n\\n               Shrek sneaks up behind them and laughs.\\n\\n                                     SHREK\\n\\n                         Yes, well, actually, that would be a \\n\\n                         giant. Now, ogres, oh they're much worse. \\n\\n                         They'll make a suit from your freshly \\n\\n                         peeled skin.\\n\\n                                     MEN\\n\\n                   \""
      ]
     },
     "execution_count": 71,
     "metadata": {},
     "output_type": "execute_result"
    }
   ],
   "source": [
    "shrek_script[:2000]"
   ]
  },
  {
   "cell_type": "markdown",
   "metadata": {},
   "source": [
    "This script is formatted beautifully if a human wants to read it. Too bad my computer doesn't care about this beautiful formatting! Let's see what can be done. It looks like character utterances are identifiable by all caps and two new line characters."
   ]
  },
  {
   "cell_type": "code",
   "execution_count": 8,
   "metadata": {},
   "outputs": [
    {
     "data": {
      "text/plain": [
       "248"
      ]
     },
     "execution_count": 8,
     "metadata": {},
     "output_type": "execute_result"
    }
   ],
   "source": [
    "shrek_script.count('SHREK\\n\\n') #how many lines does shrek seemingly have?"
   ]
  },
  {
   "cell_type": "code",
   "execution_count": 67,
   "metadata": {},
   "outputs": [
    {
     "data": {
      "text/plain": [
       "\"                         Once upon a time there was a lovely \\n\\n                         princess. But she had an enchantment \\n\\n                         upon her of a fearful sort which could \\n\\n                         only be broken by love's first kiss. \\n\\n                         She was locked away in a castle guarded \\n\\n                         by a terrible fire-breathing dragon. \\n\\n                         Many brave knights had attempted to \\n\\n                         free her from this dreadful prison, \\n\\n                         but non prevailed. She waited in the \\n\\n                         dragon's keep in the highest room of \\n\\n                         the tallest tower for her true love \\n\\n                         and true love's first kiss. (laughs) \\n\\n                         Like that's ever gonna happen. What \\n\\n                         a load of - (toilet flush)\\n\\n               Allstar - by Smashmouth begins to play. Shrek goes about his \\n\\n               day. While in a nearby town, the villagers get together to go \\n\\n               after the ogre.\\n\\n               NIGHT - NEAR SHREK'S HOME\\n\\n                                     MAN1\\n\\n                         Think it's in there?\\n\\n                                     MAN2\\n\\n                         All right. Let's get it!\\n\\n                                     MAN1\\n\\n                         Whoa. Hold on. Do you know what that \\n\\n                         thing can do to you?\\n\\n                                     MAN3\\n\\n                         Yeah, it'll grind your bones for it's \\n\\n                         bread.\\n\\n               Shrek sneaks up behind them and laughs.\\n\\n                                     \""
      ]
     },
     "execution_count": 67,
     "metadata": {},
     "output_type": "execute_result"
    }
   ],
   "source": [
    "shrek_lines[2] #goodness, this is ugly"
   ]
  },
  {
   "cell_type": "markdown",
   "metadata": {},
   "source": [
    "This calls for regular expressions! Maybe I can split the text file into individual lines."
   ]
  },
  {
   "cell_type": "code",
   "execution_count": 7,
   "metadata": {},
   "outputs": [],
   "source": [
    "import re"
   ]
  },
  {
   "cell_type": "code",
   "execution_count": 8,
   "metadata": {},
   "outputs": [],
   "source": [
    "shrek_script = shrek_script[198:] #First, I need to get rid of the title/screenwriter info"
   ]
  },
  {
   "cell_type": "code",
   "execution_count": 10,
   "metadata": {},
   "outputs": [
    {
     "data": {
      "text/plain": [
       "'SHREK\\n\\n                         Once upon a time there was a lovely \\n\\n                         princ'"
      ]
     },
     "execution_count": 10,
     "metadata": {},
     "output_type": "execute_result"
    }
   ],
   "source": [
    "shrek_script[:100] #looks good!"
   ]
  },
  {
   "cell_type": "code",
   "execution_count": 11,
   "metadata": {},
   "outputs": [],
   "source": [
    "x = re.findall(\"[A-Z]{2,}[0-9]?\", shrek_script) #this splits up characters with a 2 word name--not good!"
   ]
  },
  {
   "cell_type": "code",
   "execution_count": 12,
   "metadata": {},
   "outputs": [
    {
     "data": {
      "text/plain": [
       "['SHREK',\n",
       " 'NIGHT',\n",
       " 'NEAR',\n",
       " 'SHREK',\n",
       " 'HOME',\n",
       " 'MAN1',\n",
       " 'MAN2',\n",
       " 'MAN1',\n",
       " 'MAN3',\n",
       " 'SHREK',\n",
       " 'MEN',\n",
       " 'SHREK',\n",
       " 'MAN1',\n",
       " 'SHREK',\n",
       " 'THE',\n",
       " 'NEXT',\n",
       " 'DAY',\n",
       " 'GUARD',\n",
       " 'HEAD',\n",
       " 'GUARD']"
      ]
     },
     "execution_count": 12,
     "metadata": {},
     "output_type": "execute_result"
    }
   ],
   "source": [
    "x[:20] #See how HEAD GUARD is split into HEAD, GUARD?"
   ]
  },
  {
   "cell_type": "markdown",
   "metadata": {},
   "source": [
    "Attempting to split data by capitalized words"
   ]
  },
  {
   "cell_type": "code",
   "execution_count": 16,
   "metadata": {},
   "outputs": [],
   "source": [
    "x = re.findall('[A-Z]{2,} *[A-Z]{2,}[0-9]*', shrek_script)"
   ]
  },
  {
   "cell_type": "code",
   "execution_count": 17,
   "metadata": {},
   "outputs": [
    {
     "data": {
      "text/plain": [
       "761"
      ]
     },
     "execution_count": 17,
     "metadata": {},
     "output_type": "execute_result"
    }
   ],
   "source": [
    "len(x)"
   ]
  },
  {
   "cell_type": "code",
   "execution_count": 19,
   "metadata": {},
   "outputs": [
    {
     "name": "stdout",
     "output_type": "stream",
     "text": [
      "Pretty printing has been turned OFF\n"
     ]
    }
   ],
   "source": [
    "%pprint"
   ]
  },
  {
   "cell_type": "code",
   "execution_count": 20,
   "metadata": {},
   "outputs": [
    {
     "data": {
      "text/plain": [
       "['SHREK', 'NIGHT', 'NEAR SHREK', 'HOME', 'SHREK', 'SHREK', 'SHREK', 'THE NEXT', 'GUARD', 'HEAD GUARD', 'GUARD', 'HEAD GUARD', 'GUARD', 'HEAD GUARD', 'LITTLE BEAR', 'DONKEY', 'OLD WOMAN', 'DONKEY', 'HEAD GUARD', 'GIPETTO', 'PINOCCHIO', 'HEAD GUARD', 'PINOCCHIO', 'HEAD GUARD', 'OLD WOMAN', 'HEAD GUARD', 'OLD WOMAN', 'HEAD GUARD', 'OLD WOMAN', 'HEAD GUARD', 'OLD WOMAN', 'HEAD GUARD', 'OLD WOMAN', 'DONKEY', 'PETER PAN', 'LITTLE PIGS', 'HEAD GUARD', 'DONKEY', 'HEAD GUARD', 'GUARDS', 'HEAD GUARD', 'SHREK', 'HEAD GUARD', 'SHREK', 'DONKEY', 'SHREK', 'DONKEY', 'SHREK', 'DONKEY', 'SHREK', 'DONKEY', 'DONKEY', 'SHREK', 'DONKEY', 'SHREK', 'DONKEY', 'SHREK', 'DONKEY', 'SHREK', 'DONKEY', 'SHREK', 'DONKEY', 'SHREK', 'DONKEY', 'SHREK', 'DONKEY', 'SHREK', 'DONKEY', 'SHREK', 'DONKEY', 'SHREK', 'DONKEY', 'SHREK', 'DONKEY', 'SHREK', 'DONKEY', 'SHREK', 'DONKEY', 'SHREK', 'DONKEY', 'SHREK', 'DONKEY', 'SHREK', 'DONKEY', 'SHREK', 'COTTAGE', 'NIGHT', 'SHREK', 'DONKEY', 'BLIND MOUSE1', 'BLIND MOUSE2', 'GORDO', 'SHREK', 'GORDO', 'SHREK', 'GORDO', 'BLIND MOUSE1', 'GORDO', 'SHREK', 'DWARF']"
      ]
     },
     "execution_count": 20,
     "metadata": {},
     "output_type": "execute_result"
    }
   ],
   "source": [
    "x[:100]"
   ]
  },
  {
   "cell_type": "markdown",
   "metadata": {},
   "source": [
    "Some scene headers, like locations, ie \"NEAR SHREK HOME\" and time \"NIGHT\" are still included. These will be filtered out later."
   ]
  },
  {
   "cell_type": "code",
   "execution_count": 21,
   "metadata": {},
   "outputs": [],
   "source": [
    "shr_scr = re.sub('([A-Z]{2,} *[A-Z]{2,}[0-9]*)', r'_NEWLINE_\\1', shrek_script)"
   ]
  },
  {
   "cell_type": "code",
   "execution_count": 22,
   "metadata": {},
   "outputs": [
    {
     "data": {
      "text/plain": [
       "\"_NEWLINE_SHREK\\n\\n                         Once upon a time there was a lovely \\n\\n                         princess. But she had an enchantment \\n\\n                         upon her of a fearful sort which could \\n\\n                         only be broken by love's first kiss. \\n\\n                         She was locked away in a castle guarded \\n\\n                         by a terrible fire-breathing dragon. \\n\\n                         Many brave knights had attempted to \\n\\n                         free her\""
      ]
     },
     "execution_count": 22,
     "metadata": {},
     "output_type": "execute_result"
    }
   ],
   "source": [
    "shr_scr[:500]"
   ]
  },
  {
   "cell_type": "code",
   "execution_count": 23,
   "metadata": {},
   "outputs": [
    {
     "data": {
      "text/plain": [
       "'                         O'"
      ]
     },
     "execution_count": 23,
     "metadata": {},
     "output_type": "execute_result"
    }
   ],
   "source": [
    "shr_scr[16:42]"
   ]
  },
  {
   "cell_type": "code",
   "execution_count": 24,
   "metadata": {},
   "outputs": [
    {
     "data": {
      "text/plain": [
       "26"
      ]
     },
     "execution_count": 24,
     "metadata": {},
     "output_type": "execute_result"
    }
   ],
   "source": [
    "len(shr_scr[16:42]) #number of white spaces between '\\n and O' (O is a line of dialogue)"
   ]
  },
  {
   "cell_type": "code",
   "execution_count": 25,
   "metadata": {},
   "outputs": [
    {
     "data": {
      "text/plain": [
       "' \\n\\n                         a load of - (toilet flush)\\n\\n               Allstar - by Smashmouth begins to '"
      ]
     },
     "execution_count": 25,
     "metadata": {},
     "output_type": "execute_result"
    }
   ],
   "source": [
    "shr_scr[845:950]"
   ]
  },
  {
   "cell_type": "code",
   "execution_count": 26,
   "metadata": {},
   "outputs": [
    {
     "data": {
      "text/plain": [
       "'               '"
      ]
     },
     "execution_count": 26,
     "metadata": {},
     "output_type": "execute_result"
    }
   ],
   "source": [
    "shr_scr[901:916]"
   ]
  },
  {
   "cell_type": "code",
   "execution_count": 27,
   "metadata": {},
   "outputs": [
    {
     "data": {
      "text/plain": [
       "15"
      ]
     },
     "execution_count": 27,
     "metadata": {},
     "output_type": "execute_result"
    }
   ],
   "source": [
    "len(shr_scr[901:916]) #number of white spacecs between \\n and A (A is not a line of dialogue)"
   ]
  },
  {
   "cell_type": "markdown",
   "metadata": {},
   "source": [
    "Substitute all wide gaps by a single white space. This will help group lines vs scene headings."
   ]
  },
  {
   "cell_type": "code",
   "execution_count": 28,
   "metadata": {},
   "outputs": [],
   "source": [
    "shr_scr2 = re.sub(\" {20,}\", \" \", shrek_script)"
   ]
  },
  {
   "cell_type": "code",
   "execution_count": 29,
   "metadata": {},
   "outputs": [
    {
     "data": {
      "text/plain": [
       "\"SHREK\\n\\n Once upon a time there was a lovely \\n\\n princess. But she had an enchantment \\n\\n upon her of a fearful sort which could \\n\\n only be broken by love's first kiss. \\n\\n She was locked away in a castle guarded \\n\\n by a terrible fire-breathing dragon. \\n\\n Many brave knights had attempted to \\n\\n free her from this dreadful prison, \\n\\n but non prevailed. She waited in the \\n\\n dragon's keep in the highest room of \\n\\n the tallest tower for her true love \\n\\n and true love's first kiss. (laughs) \\n\\n Like that's ever gonna happen. What \\n\\n a load of - (toilet flush)\\n\\n               Allstar - by Smashmouth begin\""
      ]
     },
     "execution_count": 29,
     "metadata": {},
     "output_type": "execute_result"
    }
   ],
   "source": [
    "shr_scr2[:600]"
   ]
  },
  {
   "cell_type": "code",
   "execution_count": 30,
   "metadata": {},
   "outputs": [],
   "source": [
    "lines = re.sub('([A-Z]{2,} *[A-Z]{2,}[0-9]*)', r'_NEWLINE_\\1', shr_scr2) #marking beginning of a line of dialogue"
   ]
  },
  {
   "cell_type": "code",
   "execution_count": 31,
   "metadata": {},
   "outputs": [
    {
     "data": {
      "text/plain": [
       "\"_NEWLINE_SHREK\\n\\n Once upon a time there was a lovely \\n\\n princess. But she had an enchantment \\n\\n upon her of a fearful sort which could \\n\\n only be broken by love's first kiss. \\n\\n She was locked away in a castle guarded \\n\\n by a terrible fire-breathing dragon. \\n\\n Many brave knights had attempted to \\n\\n free her from this dreadful prison, \\n\\n but non prevailed. She waited in the \\n\\n dragon's keep in the highest room of \\n\\n the tallest tower for her true love \\n\\n and true love's first kiss. (laughs) \\n\\n Like that's ever gonna happen. What \\n\\n a load of - (toilet flush)\\n\\n               Allstar - by Smashmouth begins to play. Shrek goes about his \\n\\n               day. While in a nearby town, the villagers get together to go \\n\\n               after the ogre.\\n\\n               _NEWLINE_NIGHT - _NEWLINE_NEAR SHREK'S _NEWLINE_HOME\\n\\n MAN1\\n\\n Think it's in there?\\n\\n MAN2\\n\\n All right. Let's get it!\\n\\n MAN1\\n\\n Whoa. Hold on. Do you know what that \\n\\n thing can do to you?\\n\\n MAN3\\n\\n Yeah, it'll grind your bones for it\""
      ]
     },
     "execution_count": 31,
     "metadata": {},
     "output_type": "execute_result"
    }
   ],
   "source": [
    "lines[:1000]"
   ]
  },
  {
   "cell_type": "code",
   "execution_count": 32,
   "metadata": {},
   "outputs": [],
   "source": [
    "shrek_list = lines.split('_NEWLINE_')"
   ]
  },
  {
   "cell_type": "code",
   "execution_count": 33,
   "metadata": {},
   "outputs": [
    {
     "data": {
      "text/plain": [
       "['', \"SHREK\\n\\n Once upon a time there was a lovely \\n\\n princess. But she had an enchantment \\n\\n upon her of a fearful sort which could \\n\\n only be broken by love's first kiss. \\n\\n She was locked away in a castle guarded \\n\\n by a terrible fire-breathing dragon. \\n\\n Many brave knights had attempted to \\n\\n free her from this dreadful prison, \\n\\n but non prevailed. She waited in the \\n\\n dragon's keep in the highest room of \\n\\n the tallest tower for her true love \\n\\n and true love's first kiss. (laughs) \\n\\n Like that's ever gonna happen. What \\n\\n a load of - (toilet flush)\\n\\n               Allstar - by Smashmouth begins to play. Shrek goes about his \\n\\n               day. While in a nearby town, the villagers get together to go \\n\\n               after the ogre.\\n\\n               \", 'NIGHT - ', \"NEAR SHREK'S \", \"HOME\\n\\n MAN1\\n\\n Think it's in there?\\n\\n MAN2\\n\\n All right. Let's get it!\\n\\n MAN1\\n\\n Whoa. Hold on. Do you know what that \\n\\n thing can do to you?\\n\\n MAN3\\n\\n Yeah, it'll grind your bones for it's \\n\\n bread.\\n\\n               Shrek sneaks up behind them and laughs.\\n\\n \", \"SHREK\\n\\n Yes, well, actually, that would be a \\n\\n giant. Now, ogres, oh they're much worse. \\n\\n They'll make a suit from your freshly \\n\\n peeled skin.\\n\\n MEN\\n\\n No!\\n\\n \", \"SHREK\\n\\n They'll shave your liver. Squeeze the \\n\\n jelly from your eyes! Actually, it's \\n\\n quite good on toast.\\n\\n MAN1\\n\\n Back! Back, beast! Back! I warn ya! \\n\\n (waves the torch at Shrek.)\\n\\n               Shrek calmly licks his fingers and extinguishes the torch. The \\n\\n               men shrink back away from him. Shrek roars very loudly and long \\n\\n               and his breath extinguishes all the remaining torches until the \\n\\n               men are in the dark.\\n\\n \", 'SHREK\\n\\n This is the part where you run away. \\n\\n (The men scramble to get away. He laughs.) \\n\\n And stay out! (looks down and picks \\n\\n up a piece of paper. Reads.) \"Wanted. \\n\\n Fairy tale creatures.\"(He sighs and \\n\\n throws the paper over his shoulder.)\\n\\n               ', \"THE NEXT DAY\\n\\n               There is a line of fairy tale creatures. The head of the guard \\n\\n               sits at a table paying people for bringing the fairy tale creatures \\n\\n               to him. There are cages all around. Some of the people in line \\n\\n               are Peter Pan, who is carrying Tinkerbell in a cage, Gipetto \\n\\n               who's carrying Pinocchio, and a farmer who is carrying the three \\n\\n               little pigs.\\n\\n \", \"GUARD\\n\\n All right. This one's full. Take it \\n\\n away! Move it along. Come on! Get up!\\n\\n \"]"
      ]
     },
     "execution_count": 33,
     "metadata": {},
     "output_type": "execute_result"
    }
   ],
   "source": [
    "shrek_list[:10]"
   ]
  },
  {
   "cell_type": "code",
   "execution_count": 36,
   "metadata": {},
   "outputs": [],
   "source": [
    "shrek_list = shrek_list[1:] #get rid of that first empty string!"
   ]
  },
  {
   "cell_type": "code",
   "execution_count": 37,
   "metadata": {},
   "outputs": [
    {
     "data": {
      "text/plain": [
       "[\"SHREK\\n\\n Once upon a time there was a lovely \\n\\n princess. But she had an enchantment \\n\\n upon her of a fearful sort which could \\n\\n only be broken by love's first kiss. \\n\\n She was locked away in a castle guarded \\n\\n by a terrible fire-breathing dragon. \\n\\n Many brave knights had attempted to \\n\\n free her from this dreadful prison, \\n\\n but non prevailed. She waited in the \\n\\n dragon's keep in the highest room of \\n\\n the tallest tower for her true love \\n\\n and true love's first kiss. (laughs) \\n\\n Like that's ever gonna happen. What \\n\\n a load of - (toilet flush)\\n\\n               Allstar - by Smashmouth begins to play. Shrek goes about his \\n\\n               day. While in a nearby town, the villagers get together to go \\n\\n               after the ogre.\\n\\n               \", 'NIGHT - ', \"NEAR SHREK'S \", \"HOME\\n\\n MAN1\\n\\n Think it's in there?\\n\\n MAN2\\n\\n All right. Let's get it!\\n\\n MAN1\\n\\n Whoa. Hold on. Do you know what that \\n\\n thing can do to you?\\n\\n MAN3\\n\\n Yeah, it'll grind your bones for it's \\n\\n bread.\\n\\n               Shrek sneaks up behind them and laughs.\\n\\n \", \"SHREK\\n\\n Yes, well, actually, that would be a \\n\\n giant. Now, ogres, oh they're much worse. \\n\\n They'll make a suit from your freshly \\n\\n peeled skin.\\n\\n MEN\\n\\n No!\\n\\n \", \"SHREK\\n\\n They'll shave your liver. Squeeze the \\n\\n jelly from your eyes! Actually, it's \\n\\n quite good on toast.\\n\\n MAN1\\n\\n Back! Back, beast! Back! I warn ya! \\n\\n (waves the torch at Shrek.)\\n\\n               Shrek calmly licks his fingers and extinguishes the torch. The \\n\\n               men shrink back away from him. Shrek roars very loudly and long \\n\\n               and his breath extinguishes all the remaining torches until the \\n\\n               men are in the dark.\\n\\n \", 'SHREK\\n\\n This is the part where you run away. \\n\\n (The men scramble to get away. He laughs.) \\n\\n And stay out! (looks down and picks \\n\\n up a piece of paper. Reads.) \"Wanted. \\n\\n Fairy tale creatures.\"(He sighs and \\n\\n throws the paper over his shoulder.)\\n\\n               ', \"THE NEXT DAY\\n\\n               There is a line of fairy tale creatures. The head of the guard \\n\\n               sits at a table paying people for bringing the fairy tale creatures \\n\\n               to him. There are cages all around. Some of the people in line \\n\\n               are Peter Pan, who is carrying Tinkerbell in a cage, Gipetto \\n\\n               who's carrying Pinocchio, and a farmer who is carrying the three \\n\\n               little pigs.\\n\\n \", \"GUARD\\n\\n All right. This one's full. Take it \\n\\n away! Move it along. Come on! Get up!\\n\\n \", 'HEAD GUARD\\n\\n Next!\\n\\n ']"
      ]
     },
     "execution_count": 37,
     "metadata": {},
     "output_type": "execute_result"
    }
   ],
   "source": [
    "shrek_list[:10]"
   ]
  },
  {
   "cell_type": "markdown",
   "metadata": {},
   "source": [
    "Notice that there are still scene headers included, but they are marked by a big white space!"
   ]
  },
  {
   "cell_type": "code",
   "execution_count": 45,
   "metadata": {},
   "outputs": [],
   "source": [
    "x = re.findall(' {5,}.+\\n\\n', shrek_list[0]) #identifying scene headers!"
   ]
  },
  {
   "cell_type": "code",
   "execution_count": 46,
   "metadata": {},
   "outputs": [
    {
     "data": {
      "text/plain": [
       "['               Allstar - by Smashmouth begins to play. Shrek goes about his \\n\\n', '               day. While in a nearby town, the villagers get together to go \\n\\n', '               after the ogre.\\n\\n']"
      ]
     },
     "execution_count": 46,
     "metadata": {},
     "output_type": "execute_result"
    }
   ],
   "source": [
    "x"
   ]
  },
  {
   "cell_type": "code",
   "execution_count": 49,
   "metadata": {},
   "outputs": [],
   "source": [
    "x = re.findall(' {5,}.*\\n\\n', shrek_list[7])"
   ]
  },
  {
   "cell_type": "code",
   "execution_count": 50,
   "metadata": {},
   "outputs": [
    {
     "data": {
      "text/plain": [
       "['               There is a line of fairy tale creatures. The head of the guard \\n\\n', '               sits at a table paying people for bringing the fairy tale creatures \\n\\n', '               to him. There are cages all around. Some of the people in line \\n\\n', '               are Peter Pan, who is carrying Tinkerbell in a cage, Gipetto \\n\\n', \"               who's carrying Pinocchio, and a farmer who is carrying the three \\n\\n\", '               little pigs.\\n\\n']"
      ]
     },
     "execution_count": 50,
     "metadata": {},
     "output_type": "execute_result"
    }
   ],
   "source": [
    "x"
   ]
  },
  {
   "cell_type": "code",
   "execution_count": 51,
   "metadata": {},
   "outputs": [
    {
     "data": {
      "text/plain": [
       "\"THE NEXT DAY\\n\\n               There is a line of fairy tale creatures. The head of the guard \\n\\n               sits at a table paying people for bringing the fairy tale creatures \\n\\n               to him. There are cages all around. Some of the people in line \\n\\n               are Peter Pan, who is carrying Tinkerbell in a cage, Gipetto \\n\\n               who's carrying Pinocchio, and a farmer who is carrying the three \\n\\n               little pigs.\\n\\n \""
      ]
     },
     "execution_count": 51,
     "metadata": {},
     "output_type": "execute_result"
    }
   ],
   "source": [
    "shrek_list[7] #this entire entry is a scene header! But it can potentially be filtered out\n",
    "# with the right expression"
   ]
  },
  {
   "cell_type": "code",
   "execution_count": 59,
   "metadata": {},
   "outputs": [
    {
     "data": {
      "text/plain": [
       "[\"SHREK\\n\\n Once upon a time there was a lovely \\n\\n princess. But she had an enchantment \\n\\n upon her of a fearful sort which could \\n\\n only be broken by love's first kiss. \\n\\n She was locked away in a castle guarded \\n\\n by a terrible fire-breathing dragon. \\n\\n Many brave knights had attempted to \\n\\n free her from this dreadful prison, \\n\\n but non prevailed. She waited in the \\n\\n dragon's keep in the highest room of \\n\\n the tallest tower for her true love \\n\\n and true love's first kiss. (laughs) \\n\\n Like that's ever gonna happen. What \\n\\n a load of - (toilet flush)\\n\\n               Allstar - by Smashmouth begins to play. Shrek goes about his \\n\\n               day. While in a nearby town, the villagers get together to go \\n\\n               after the ogre.\\n\\n               \", 'NIGHT - ', \"NEAR SHREK'S \", \"HOME\\n\\n MAN1\\n\\n Think it's in there?\\n\\n MAN2\\n\\n All right. Let's get it!\\n\\n MAN1\\n\\n Whoa. Hold on. Do you know what that \\n\\n thing can do to you?\\n\\n MAN3\\n\\n Yeah, it'll grind your bones for it's \\n\\n bread.\\n\\n               Shrek sneaks up behind them and laughs.\\n\\n \", \"SHREK\\n\\n Yes, well, actually, that would be a \\n\\n giant. Now, ogres, oh they're much worse. \\n\\n They'll make a suit from your freshly \\n\\n peeled skin.\\n\\n MEN\\n\\n No!\\n\\n \", \"SHREK\\n\\n They'll shave your liver. Squeeze the \\n\\n jelly from your eyes! Actually, it's \\n\\n quite good on toast.\\n\\n MAN1\\n\\n Back! Back, beast! Back! I warn ya! \\n\\n (waves the torch at Shrek.)\\n\\n               Shrek calmly licks his fingers and extinguishes the torch. The \\n\\n               men shrink back away from him. Shrek roars very loudly and long \\n\\n               and his breath extinguishes all the remaining torches until the \\n\\n               men are in the dark.\\n\\n \", 'SHREK\\n\\n This is the part where you run away. \\n\\n (The men scramble to get away. He laughs.) \\n\\n And stay out! (looks down and picks \\n\\n up a piece of paper. Reads.) \"Wanted. \\n\\n Fairy tale creatures.\"(He sighs and \\n\\n throws the paper over his shoulder.)\\n\\n               ', \"THE NEXT DAY\\n\\n               There is a line of fairy tale creatures. The head of the guard \\n\\n               sits at a table paying people for bringing the fairy tale creatures \\n\\n               to him. There are cages all around. Some of the people in line \\n\\n               are Peter Pan, who is carrying Tinkerbell in a cage, Gipetto \\n\\n               who's carrying Pinocchio, and a farmer who is carrying the three \\n\\n               little pigs.\\n\\n \", \"GUARD\\n\\n All right. This one's full. Take it \\n\\n away! Move it along. Come on! Get up!\\n\\n \", 'HEAD GUARD\\n\\n Next!\\n\\n ']"
      ]
     },
     "execution_count": 59,
     "metadata": {},
     "output_type": "execute_result"
    }
   ],
   "source": [
    "shrek_list[:10]"
   ]
  },
  {
   "cell_type": "code",
   "execution_count": 69,
   "metadata": {},
   "outputs": [],
   "source": [
    "shrek_lines = []\n",
    "for line in shrek_list:\n",
    "    shrek_lines.append(re.sub(r' {5,}.*(\\n\\n)?', ' ', line))"
   ]
  },
  {
   "cell_type": "code",
   "execution_count": 70,
   "metadata": {},
   "outputs": [
    {
     "data": {
      "text/plain": [
       "[\"SHREK\\n\\n Once upon a time there was a lovely \\n\\n princess. But she had an enchantment \\n\\n upon her of a fearful sort which could \\n\\n only be broken by love's first kiss. \\n\\n She was locked away in a castle guarded \\n\\n by a terrible fire-breathing dragon. \\n\\n Many brave knights had attempted to \\n\\n free her from this dreadful prison, \\n\\n but non prevailed. She waited in the \\n\\n dragon's keep in the highest room of \\n\\n the tallest tower for her true love \\n\\n and true love's first kiss. (laughs) \\n\\n Like that's ever gonna happen. What \\n\\n a load of - (toilet flush)\\n\\n    \", 'NIGHT - ', \"NEAR SHREK'S \", \"HOME\\n\\n MAN1\\n\\n Think it's in there?\\n\\n MAN2\\n\\n All right. Let's get it!\\n\\n MAN1\\n\\n Whoa. Hold on. Do you know what that \\n\\n thing can do to you?\\n\\n MAN3\\n\\n Yeah, it'll grind your bones for it's \\n\\n bread.\\n\\n  \", \"SHREK\\n\\n Yes, well, actually, that would be a \\n\\n giant. Now, ogres, oh they're much worse. \\n\\n They'll make a suit from your freshly \\n\\n peeled skin.\\n\\n MEN\\n\\n No!\\n\\n \", \"SHREK\\n\\n They'll shave your liver. Squeeze the \\n\\n jelly from your eyes! Actually, it's \\n\\n quite good on toast.\\n\\n MAN1\\n\\n Back! Back, beast! Back! I warn ya! \\n\\n (waves the torch at Shrek.)\\n\\n     \", 'SHREK\\n\\n This is the part where you run away. \\n\\n (The men scramble to get away. He laughs.) \\n\\n And stay out! (looks down and picks \\n\\n up a piece of paper. Reads.) \"Wanted. \\n\\n Fairy tale creatures.\"(He sighs and \\n\\n throws the paper over his shoulder.)\\n\\n ', 'THE NEXT DAY\\n\\n       ', \"GUARD\\n\\n All right. This one's full. Take it \\n\\n away! Move it along. Come on! Get up!\\n\\n \", 'HEAD GUARD\\n\\n Next!\\n\\n ']"
      ]
     },
     "execution_count": 70,
     "metadata": {},
     "output_type": "execute_result"
    }
   ],
   "source": [
    "shrek_lines[:10]"
   ]
  },
  {
   "cell_type": "code",
   "execution_count": 68,
   "metadata": {},
   "outputs": [
    {
     "data": {
      "text/plain": [
       "\"SHREK\\n\\n Yes, well, actually, that would be a giant. Now, ogres, oh they're much worse. They'll make a suit from your freshly peeled skin.\\n\\n MEN\\n\\n No!\\n\\n \""
      ]
     },
     "execution_count": 68,
     "metadata": {},
     "output_type": "execute_result"
    }
   ],
   "source": [
    "shrek_lines[4]"
   ]
  },
  {
   "cell_type": "markdown",
   "metadata": {},
   "source": [
    "Looking at this, it seems that I missed some stuff earlier with the white space problem! For very short lines of dialogue, a larger gap appears between utterances. So when I shrunk the wide gaps that I thought indicated a single utterance, I lumped some lines of dialogue together in the process!"
   ]
  },
  {
   "cell_type": "markdown",
   "metadata": {},
   "source": [
    "Though I've made some headway on where to go with Shrek dialogue, there's still a long way to go here."
   ]
  },
  {
   "cell_type": "code",
   "execution_count": null,
   "metadata": {},
   "outputs": [],
   "source": []
  }
 ],
 "metadata": {
  "kernelspec": {
   "display_name": "Python 3",
   "language": "python",
   "name": "python3"
  },
  "language_info": {
   "codemirror_mode": {
    "name": "ipython",
    "version": 3
   },
   "file_extension": ".py",
   "mimetype": "text/x-python",
   "name": "python",
   "nbconvert_exporter": "python",
   "pygments_lexer": "ipython3",
   "version": "3.6.4"
  }
 },
 "nbformat": 4,
 "nbformat_minor": 2
}
