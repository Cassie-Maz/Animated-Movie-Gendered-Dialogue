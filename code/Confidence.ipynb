{
 "cells": [
  {
   "cell_type": "markdown",
   "metadata": {},
   "source": [
    "# Confidence Revisited\n",
    "At first, I tried to use exclamations as a mark of confidence. While I got results in line with my hypothesis, there's no way to tell the difference between an exclamation mark behind \"Wahoo!\" and \"AAHHH!\"\n",
    "\n",
    "Because of this, I'm trying to use a different approach with regular expressions to better capture confident expressions.\n",
    "\n",
    "Instead of exclamations, I'm using positive vs negative expressions: I can vs I can't. "
   ]
  },
  {
   "cell_type": "code",
   "execution_count": 1,
   "metadata": {},
   "outputs": [],
   "source": [
    "import pandas as pd\n",
    "import re"
   ]
  },
  {
   "cell_type": "code",
   "execution_count": 2,
   "metadata": {},
   "outputs": [],
   "source": [
    "movies_df = pd.read_pickle(r\"C:/Users/cassi/Desktop/Data_Science/Animated-Movie-Gendered-Dialogue/private/all_tagged_movies_2.pkl\")"
   ]
  },
  {
   "cell_type": "code",
   "execution_count": 8,
   "metadata": {},
   "outputs": [],
   "source": [
    "i_can = []\n",
    "for line in movies_df.Text:\n",
    "    if re.search(r\"i (will|can )(?!not)\", line):\n",
    "        i_can.append(line)"
   ]
  },
  {
   "cell_type": "code",
   "execution_count": 9,
   "metadata": {},
   "outputs": [
    {
     "data": {
      "text/plain": [
       "129"
      ]
     },
     "execution_count": 9,
     "metadata": {},
     "output_type": "execute_result"
    }
   ],
   "source": [
    "len(i_can)"
   ]
  },
  {
   "cell_type": "code",
   "execution_count": 10,
   "metadata": {},
   "outputs": [
    {
     "data": {
      "text/plain": [
       "[\"i can't sleep in the ground like you. or in a tree the way you do. and i'm sure no nest would possibly be big enough for me. maybe you know where i can stay. in the woods somewhere ? \",\n",
       " 'why that means i can go too. ',\n",
       " 'oh i will. i promise. ',\n",
       " \"we just gotta forget this whole thing ever happened. the sea king will never know. you won't tell him, i won't tell him. i will stay in one piece. \",\n",
       " 'now then, perhaps i can divine a solution to this thorny problem. ',\n",
       " 'soon, i will be sultan, not that addlepated twit. ',\n",
       " 'please, if you let me go to the palace, i can get some from the sultan. ',\n",
       " 'believe me, i will. ',\n",
       " 'at least some good will come of my being forced to marry. when i am queen, i will have the power to get rid of you. ',\n",
       " \"i will have the power to get rid of you! d'oh! to thinkwe gotta keep kissing up to that chump, and his chump daughter for the rest of our lives... \",\n",
       " 'just let her meet me. i will win your daughter! ',\n",
       " 'i can show you the world shining, shimmering, splendid. tell me princess, now when did you last let your heart decide? ',\n",
       " 'i can open your eyes take you wonder by wonder over, sideways, and under on a magic carpet ride ',\n",
       " 'i will never marry you. ',\n",
       " \"a snake, am i? perhaps you'd like to see how snakelike i can be! \",\n",
       " \"oh, i don't know. it's just i'm not sure i fit in here. there's no one i can really talk to. \",\n",
       " \"dismissed. rejected. publicly humiliated. why, it's more than i can bear. \",\n",
       " \"i'm not sure i can do this. \",\n",
       " \"my father's not crazy and i can prove it! \",\n",
       " 'great powhatan. i will lead our warriors to the river and attack. we will destroy these invaders the way we destroyed the massawomecks. ',\n",
       " \"i will serve the emperor in my father's place. \",\n",
       " \"i will die doing what's right. \",\n",
       " \"well, y'all don't think i can do it! watch this here! \",\n",
       " 'uh, yes, i just woke up! um, i am the great stone dragon! good morning! i will go forth and fetch mulan! diddid i mention that i am the great stone dragon? ',\n",
       " \"don't even worry about it. i will not lose face. \",\n",
       " \"i don't think i can do this ... \",\n",
       " 'the huns have struck here, here, and here. i will take the main troops up to the tung chow pass and stop shan yu before he destroys this village. ',\n",
       " \"oh i will! i won't let you down! this is... i mean... yes sir. \",\n",
       " \"i can see why. the boy's an absolute lunatic! \",\n",
       " 'oh yeah? well, i think ping and i can take you! ',\n",
       " 'i can explain! ',\n",
       " \"let me shine this up for you. i can see you, lookit you, you look so pretty! the truth is, we're both frauds. your ancestors didn't send me; they don't even like me. i mean, you risked your life to help people you love. i risked your life to help myself. at least you had good intentions. \",\n",
       " 'your majesty, i can explain! ',\n",
       " 'oh, but you must kiss me. look, besides being unbelievably handsome, i also happened to come from a fabulously wealthy family. surely, i can offer you some type of reward or a wish i could grant perhaps... yes? ',\n",
       " \"i will play a little louder. how about a little less pickin'' and a ... \",\n",
       " \"what? oh, there's pesky mosquitoes... everywhere. please, miss charlotte, i can no longer ignore the throbbing of my... heart. even though our time together's been brief, it's been heavenly. \",\n",
       " 'oh, take a look at that two jumpers. i can taste the frog legs already... with a sauce picante, right pa? ',\n",
       " 'look at his big frog legs. i will make some corn bread with this one! ',\n",
       " 'if i can mince, you can dance. ',\n",
       " \"what about me, mama? i want to be human too, so i can play jazz with the big boys. i want fingers, and toes, and a belly button, not the kind that sticks out, but the kind that goes in. . . jabber jaws, you dig little deeper, you'll find everythin' you need. c'mon, c'mon, c'mon... there's a lotta river between here and n'orleans. y'all best get to swimmin'. \",\n",
       " \"i'll catch up with you later. oh, evangeline ... why i can't just look tiana in the eyes and say i will do whatever it takes to make all your dreams come true, because ... because i love you. \",\n",
       " \"whoa, whoa, whoa, cap'. you are makin' googoo eyes on my girl? got you! i will make some shoes out of you. \",\n",
       " 'i will find another way to get tiana a restaurant. ',\n",
       " 'tiana, i love ... the way you light up when you talk about your dream. a dream that it is so beautiful i ... i promise ... i will do whatever it takes to make it come true. ',\n",
       " \"some say our destiny is tied to the land, as much a part of us as we are of it. others say fate is woven together like a cloth, so that one's destiny intertwines with many others. it's the one thing we search for, or fight to change. some never find it. but there are some who are led. the story of how my father lost a leg to the demon bear mor'du became a legend. i became a sister with 3 new brothers, the princes hamish, hubert, and harris. wee devils more like. they get away with murder. i can never get away from anything! \",\n",
       " 'and rides offno lessons, no expectations. a day when anything can happen. a day i can change my fate. ',\n",
       " \"i swear, angus, this isn't going to happen. not if i can help it. \",\n",
       " 'i will never be like you! ',\n",
       " 'see what else i can do! lalalalala. . .. ',\n",
       " \"of course, i understand you have reason for concern. i will talk to the council. i'm sure we can--\",\n",
       " \"we're okay, pua. i can do this. there's more fish beyond the reef. there's more beyond the reef. not so bad. pua!\",\n",
       " \"hey, hey, hey! i'm a demigod, okay? stop that! i will smite you! you wanna get smote…smotten? listen, that thing doesn't give you the power to create life. it's a homing beacon of death. if you don't put it away, bad things are gonna come for it.\",\n",
       " 'are you just trying to get me to talk about myself? because if you are, i will gladly do so!',\n",
       " \"why? are you gonna give me a speech? tell me i can beat te ka because i'm maui? take a hike, tiny.\",\n",
       " \"it's not your fault. i never should have put so much on your shoulders. if you are ready to go home, i will be with you. why do you hesitate?\",\n",
       " \"i am moana of motunui. aboard my boat, i will sail across the sea and restore the heart of te fiti. te ka can't follow us into the water. we make it past the barrier island, we make it to te fiti… none of which you understand because you are a chicken. no! heihei! no, no, no, no! nice work! te fiti. maui! you came back! but your hook... one more hit and...\",\n",
       " 'i will use this.',\n",
       " 'i will.',\n",
       " 'i will!',\n",
       " 'no! you were wrong about the world. and you were wrong about me. and i will never let you use my hair again!',\n",
       " 'no! i won’t stop. for every minute of the rest of my life i will fight! i will never stop trying to get away from you!  but, if you let me save him, i will go with you.',\n",
       " 'i’ll never run, i’ll never try to escape. just let me heal him, and you and i will be together. forever, just like you want. everything will be the way it was. i promise.',\n",
       " \"still forty. but i will throw in a visit to oaken's sauna.  hoo-hoo! hi, family.\",\n",
       " \"i'm sorry about this violence. i will add a quart of lutefisk, so we'll have good feelings. just the outfit and boots, yah?\",\n",
       " \"of course i don't wanna help her anymore. in fact, this whole thing has ruined me for helping anyone ever again.  but she'll die on her own!  i can live with that.   sometimes i really don't like you.  hold up! we're coming.\",\n",
       " 'do not question the princess. she left me in charge, and i will not hesitate to protect arendelle from treason.',\n",
       " 'no, anna. i belong here. alone. where i can be who i am without hurting anybody.',\n",
       " 'i will do what i can.',\n",
       " 'i will!  hello!',\n",
       " 'i will return this scoundrel to his country. we shall see what his twelve big brothers think of his behavior.',\n",
       " 'princess!  you look -- outstanding. is there anything i can do for you?',\n",
       " \"no -- i can see it in your eyes.  i'm a goner.  it's alright, z.  in this ant's army, a soldier's life ain't worth a sack of fungus.  i can't feel my legs...\",\n",
       " 'cut me down a soft leaf so i can take a nap.',\n",
       " \"please, don't turn me in. i'll never be stubborn again. i can change. please! give me another chance!\",\n",
       " \"no, no, he talks! he does. i can talk. i love to talk. i'm the talkingest damn thing you ever saw.\",\n",
       " 'hey! i can fly!',\n",
       " \"silence! i will make this princess fiona my queen, and duloc will finally have the perfect king! captain, assemble your finest men. we're going to have a tournament.\",\n",
       " 'you want me to read you a bedtime story? i will.',\n",
       " 'okay. okay. i can nearly see the head.',\n",
       " \"no. i - - i've been this way as long as i can remember.\",\n",
       " 'i will have order! i will have perfection! i will have - - aaaah! aah!',\n",
       " 'i am the rightful king of far far away and i promise you this mother. i will restore dignity to my throne!',\n",
       " 'i will see what i can do.',\n",
       " \"i don't know how much longer i can keep this up fiona.\",\n",
       " \"it's out of my hands senorita, the winds of fate have blown on my destiny. but i will never forget you. you are the love of my life.\",\n",
       " 'i know you\\'re busy \"not fitting in\" but can either of you tell me where i can find arthur?',\n",
       " '\"fear thee not honey lamb! i will slice this thing up like a ham!\"',\n",
       " 'no. if the panda has not quit by morning, then i will have failed you.',\n",
       " \"don't stand that close...i can smell your breath.\",\n",
       " \"oh, okay. well-- i don't know if i can do all of those moves.\",\n",
       " 'hey! maybe i can start with that.',\n",
       " \"but a real warrior never quits. don't worry, master, i will never quit!\",\n",
       " 'i can control when the fruit will fall.',\n",
       " 'and i can control--',\n",
       " 'i... i will try.',\n",
       " 'but i can change you! i can turn you into the dragon warrior! and i will!',\n",
       " 'i will fight him.',\n",
       " 'i can hold him off long enough for everyone to escape.',\n",
       " 'then i will finally have paid for my mistake.',\n",
       " \"i can almost smell them. they're close. steady.\",\n",
       " 'well, i can show my face in public again.',\n",
       " \"i will. just promise me it won't go wrong.\",\n",
       " 'i can buy them a few minutes if i give that thing someone to hunt.',\n",
       " 'then i can double that time.',\n",
       " 'good, i’m glad you asked that. imagine the most horrible, terrifying, evil thing you can possibly think of and multiply it…by six! in the meantime, i want you to carry on with the dreary normal things you, normal people do. let’s just have fun with this, come on! and i will get back to you.',\n",
       " 'just a few alterations, sir, and i will be done with your most terrifying cape yet! i’m calling it mambaaaaa…!',\n",
       " 'i will!',\n",
       " 'i can explain.',\n",
       " 'roxanne was kidnapped, i was gonna stop you. my head wasn’t in the game that day. we were kind of goin’ through the motions. so, using my super speed i decided to go clear my head. then i realized, we had done this same silly charade our entire lives. i tried to get my mind off how i was feeling, but i just felt stuck. and i began to realize, despite all my powers, each and every citizen of metro had something i didn’t; a choice. ever since i can remember i’ve always had to be what this city wanted me to be. what about what i wanted to do? then it suddenly hit me, i do have a choice! i can be whatever i wanna be! no one said that this hero thing had to be a life time gig. you can’t just quit either. that’s when i got the brilliant idea to fake my death.',\n",
       " 'that way i can keep my logo.',\n",
       " 'but i can do it this time! you wanna help me, soph? we can hide and see the tooth fairy!',\n",
       " 'as i can --',\n",
       " 'sorry, all i can do is keep you cold.',\n",
       " 'i will.',\n",
       " 'i will.',\n",
       " 'i will.',\n",
       " 'i will.',\n",
       " 'i get it, dad. i get it. i will never do anything new or different.',\n",
       " \"it's dying. i can fix it!\",\n",
       " 'mom? did you hear that? i can get my own stick!',\n",
       " 'stop shoving, or i will pull out your tongue!',\n",
       " 'do you want me to turn this family around? do you?! because i will turn this family around so fast!',\n",
       " 'i can do this all day long. no, no, no, and still no. x-diss to:',\n",
       " \"i can help you, but we're going to have to make a few changes around here. the log ride is over. drop the log.\",\n",
       " 'i can fix it.',\n",
       " 'i can change yours. right here. right now.',\n",
       " \"this is what i'm good at. and if i could change your mind... i can change his, too. come on.\",\n",
       " \"i can teach you all i've learned, these past twenty years. like...\",\n",
       " 'this is so great! now you and i can go talk to drago -- together!']"
      ]
     },
     "execution_count": 10,
     "metadata": {},
     "output_type": "execute_result"
    }
   ],
   "source": [
    "i_can"
   ]
  },
  {
   "cell_type": "code",
   "execution_count": 11,
   "metadata": {},
   "outputs": [],
   "source": [
    "i_cant = []\n",
    "for line in movies_df.Text:\n",
    "    if re.search(r\"i (can't|cannot|can not)\", line):\n",
    "        i_cant.append(line)"
   ]
  },
  {
   "cell_type": "code",
   "execution_count": 12,
   "metadata": {},
   "outputs": [
    {
     "data": {
      "text/plain": [
       "111"
      ]
     },
     "execution_count": 12,
     "metadata": {},
     "output_type": "execute_result"
    }
   ],
   "source": [
    "len(i_cant)"
   ]
  },
  {
   "cell_type": "code",
   "execution_count": 13,
   "metadata": {},
   "outputs": [
    {
     "data": {
      "text/plain": [
       "[\"i can't ! i can't do it ! forgive me. i beg of your highness, forgive me. \",\n",
       " \"i can't sleep in the ground like you. or in a tree the way you do. and i'm sure no nest would possibly be big enough for me. maybe you know where i can stay. in the woods somewhere ? \",\n",
       " \"don't do it. take them away. my nose ! my hay fever ! you know i can't stand it. i can't i oh ! \",\n",
       " \"i couldn't help it. i can't tell. when you gotta, you gotta. iii gotta. iit's comin'. ahah \",\n",
       " \"yodel holalaeeay holalaeeay holalaeeayeela eeayeeleeay holalaeeay holalaeeay holalaeeayeela leeayleeoleeay i'd like to dance and tap my feet, but they won't keep in rhythm you see, i washed 'em both today and i can't do nothin' with 'em hohum, the tune is dumb the words don't mean a thing isn't this a silly song for anyone to sing i oh, ggosh ! i chased a polecat up a tree way out upon a limb and when he got the best of me i got the worst of him hohum, the tune is dumb the words don't mean a thing isn't this a silly song for anyone to sing ahhh \",\n",
       " \"you should talk. these beads! i'm sick of looking at them. trash! oh i hate them. oh i don't see why i can't have something new \",\n",
       " \"i can't believe, not any more. \",\n",
       " \"i can't understand it. there must be at least one who'd make a suitable mother! \",\n",
       " \"oh well it may be a trifle snug today. you know how it isdancing all night. i can't understand why. it's always fit perfectly before. i don't think you're half trying. mother, can you \",\n",
       " \"i can't breathe! \",\n",
       " \"hmm? oh, my name. why, it's, it's ... oh no, no, i can't, i ... goodbye! \",\n",
       " \"but, but i can't! he's coming here tonight, i promised to meet him. \",\n",
       " \"oh, no, no! i can't believe it. no, no! \",\n",
       " \"you know i can't swim that fast. \",\n",
       " \"ariel . . . i can't . . . i meanariel help! \",\n",
       " \"oh, no, no, no, no, no, no. i can't stand it it's too easy. the child is in love with a human. and not just any human a prince! her daddy'll love that. king triton's headstrong, lovesick girl would make a charming addition to my little garden. \",\n",
       " \"that voice. i can't get it out of my head. i've looked everywhere, max where could she be? \",\n",
       " \"well, look at what the catfish dragged in! look at ya! look at ya! there's something different. don't tell me i got it. it's your hairdo, right? you've been using the dinglehopper, right? no? no huh, well let me see. new . . . seashells? no new seashells. i gotta admit i can't put my foot on it right now, but if i just stand here long enough i know that i'll \",\n",
       " \"move over move your big feathers. i can't see a thing. \",\n",
       " \"i can't believe it. i just don't believe it. we're never gonna get a hold of that stupid lamp! just forget it. look at this. look at this. i'm so ticked off that i'm molting! \",\n",
       " \"i can't take it anymore! if i gotta choke down on one more of those moldy, disgusting crackers...bam! whack! \",\n",
       " \"oh, i'm sorry, rajah. but i can't stay here and have my life lived for me. i'll miss you.\",\n",
       " \"i can't breathe, jafar! \",\n",
       " \"i can't hold on. give me your hand. \",\n",
       " \"ah, rule number one i can't kill anybody. \",\n",
       " \"so don't ask. rule two, i can't make anyone fall in love with anyone else. \",\n",
       " \"rule three, i can't bring people back from the dead. it's not a pretty picture, \",\n",
       " \"wrong! i can't make anybody fall in love, remember? \",\n",
       " \"i can't believe iti'm losing to a rug. \",\n",
       " \"i'm like a shooting star, i've come so far i can't go back to where i used to be! \",\n",
       " 'al? al! kid, snap out of it! you can\\'t cheat on this one! i can\\'t help you unless you make a wish. you have to say \"genie i want you to save my life.\" got it? okay. c\\'mon aladdin!! ',\n",
       " \"genie...i can't. \",\n",
       " \"what if jasmine finds out? i'll lose her. genie, i can't keep this up on my own. i can't wish you free. \",\n",
       " \"al, i can't help youi work for senor psychopath, now. \",\n",
       " \"ooh, hairball! well, i can't do any more damage around this popsicle stand. i'm outta here! bye, bye, you two crazy lovebirds. hey, rugman, ciao! i'm history! no, i'm mythology! no, i don't care what i ami'm free! \",\n",
       " \"please, gaston. i can't. i have to get home and help my father. \",\n",
       " \"promise or no promise, i can't stay here another minute! \",\n",
       " \"i can't believe it. i've never seen so many books in all my life! \",\n",
       " \"yes, i i conno, i can't. \",\n",
       " \"well, if they're anything like the savages i've fought before, it's nothing i can't handle. \",\n",
       " \"i can't. \",\n",
       " \"i can't leave you. \",\n",
       " \"i can't. \",\n",
       " \"but i can't leave you. \",\n",
       " \"i can't run, i'm a frog. \",\n",
       " \"i can't see a thing. \",\n",
       " \"the poor dear frog was scarfing , so i loosened the lid, and.... how do i ever get tangled up in all this voodoo madness? i can't get through with this. you wear this ...this ghostly flinger! \",\n",
       " \"i can't hear you, i'm sorry. what? \",\n",
       " \"i can't believe this, got to do everythin' around here. \",\n",
       " \"i'll catch up with you later. oh, evangeline ... why i can't just look tiana in the eyes and say i will do whatever it takes to make all your dreams come true, because ... because i love you. \",\n",
       " \"i can't no longer marry miss charlotte la bouff. \",\n",
       " \"i can't wait to tell her. \",\n",
       " \"i can't hear you, i'm gonna get you out of this box. \",\n",
       " \"i can't do this! \",\n",
       " \"i. . .i can't breath! \",\n",
       " \"i can't move! it's too tight! \",\n",
       " \"i can't believe it! i found it! \",\n",
       " \"not now. i can't.\",\n",
       " \"i--i can't leave you.\",\n",
       " \"ooh, hoo, hoo, what have we here? it's a sparkly, shiny…wait a minute. ugh! it's a human! what are you doing here in the realm of the--just pick an eye, babe. i can't concentrate if you keep--yeah, pick one, pick one! you're a funny-looking little thing, aren't you?\",\n",
       " \"is it why your hook's not working? if you don't wanna talk, don't talk. you wanna throw me off the boat, throw me off. you wanna tell me i don't know what i'm doing, i know i don't. i have no idea why the ocean chose me. you're right. but my island is dying, so i am here. it's just me and you. and i want to help. but i can't if you don't let me.\",\n",
       " \"i can't believe they're finally opening up the gates!\",\n",
       " \"elsa, please! please! i can't live like this anymore.\",\n",
       " \"no, i can't. i...i don't know how!\",\n",
       " \"i can't feel my legs! i can't feel my legs!\",\n",
       " \"now what?  now what?! oooh! what am i gonna do? she threw me out. i can't go back to arendelle with the weather like this. and then there's your ice business and we...\",\n",
       " \"i cannot. i'm sorry, kristoff. if it was her head that would be easy, but only an act of true love can thaw a frozen heart.\",\n",
       " \"don't you see, i can't. you have to tell them to let me go.\",\n",
       " \"no. i-i can't accept this.\",\n",
       " \"i can't help it.  i have a thing about drinking from the anus of another creature.  call me crazy.\",\n",
       " \"i can't think of any.\",\n",
       " \"no -- i can see it in your eyes.  i'm a goner.  it's alright, z.  in this ant's army, a soldier's life ain't worth a sack of fungus.  i can't feel my legs...\",\n",
       " \"i can't dance with a worker!\",\n",
       " \"she's been kidnapped?!  but i can't live without her!\",\n",
       " \"i know it's crazy, but -- i can't just leave.  don't argue with me.  if i've learned anything, it's that the problems of two people don't add up to a hill of ants in this world.  or beans.  something like that.  anyway, i've got to warn the others  .\",\n",
       " \"please...i...i can't swim...help me...\",\n",
       " \"on the road again. sing it with me, shrek. i can't wait to get on the road again.\",\n",
       " \"okay, don't look down. don't look down. don't look down. keep on moving. don't look down. shrek! i'm lookin' down! oh, god, i can't do this! just let me off, please!\",\n",
       " \"hey, where you goin'? oh, man, i can't feel my toes! i don't have any toes! i think i need a hug.\",\n",
       " 'i can\\'t just marry whoever i want. take a good look at me, donkey. i mean, really, who can ever love a beast so hideous and ugly? \"princess\" and \"ugly\" don\\'t go together. that\\'s why i can\\'t stay here with shrek.',\n",
       " \"oh, that's funny. oh. oh. i can't breathe. i can't breathe.\",\n",
       " \"oh, you're right. i can't let this happen. i can't.\",\n",
       " \"oh, my butt is itching up a storm and i can't reach it in this monkey suit!\",\n",
       " \"oh... i can't believe i'm going to be a father.\",\n",
       " \"you're too kind, snow, but i can't accept this.\",\n",
       " \"i can't believe it... me a king? i...i mean i knew i came from royalty and all, but i just figured everyone forgot about me.\",\n",
       " \"i know you want me to be king, but i can't. i'm not cut out for it and i never will be, alright?\",\n",
       " \"good. i can't wait to get started.\",\n",
       " 'yeah. look at this tree, shifu. i cannot make it blossom when it suits me, nor make it bear fruit before its time.',\n",
       " \"come on! how am i supposed to beat tai lung? i can't even beat you to the stairs.\",\n",
       " 'but perhaps that is my fault. i cannot train you the way i have trained the five. i now see that the way to get through to you is with this!',\n",
       " \"i don't know, dad. honestly, sometimes i can't believe i'm actually your son.\",\n",
       " \"i can't stop myself. i see a dragon and i have to just... kill it, you know? it's who i am, dad.\",\n",
       " \"rephrase. dad i can't kill dragons.\",\n",
       " \"heh, heh. oh yeah! yes! i can't wait. i am so...\",\n",
       " \"i can't miss!\",\n",
       " \"i can't believe that worked.\",\n",
       " \"i can't feel my feet! i can't feel my feet!\",\n",
       " \"let's go...i'm cooold! my ears are freezing. i can't feel my toes. ah, it's hot cocoa time.\",\n",
       " \"i...i can't, jack. pitch has them.\",\n",
       " \"i can't believe it.\",\n",
       " \"i can't believe this.\",\n",
       " \"he's stronger. i can't beat him.\",\n",
       " \"i can't tell you how happy it makes me to see you all like this. you look awful.\",\n",
       " \"what if we stop believing again? if i can't see you --\",\n",
       " \"i can't keep my eyes open. i think i gotta go home. let's go home. what time is it? i'm sleepy.\",\n",
       " \"i can't.\",\n",
       " \"you know what, i am so mad right now, that i can't talk to her.\",\n",
       " \"i can't go without grug.\",\n",
       " \"i can't change. i don't have ideas. but i have my strength. and right now that's all you need.\",\n",
       " \"there isn't a dragon alive that i can't wrangle!\"]"
      ]
     },
     "execution_count": 13,
     "metadata": {},
     "output_type": "execute_result"
    }
   ],
   "source": [
    "i_cant"
   ]
  },
  {
   "cell_type": "markdown",
   "metadata": {},
   "source": [
    "## Different Approach to exclamations\n",
    "Maybe I can try to avoid any Ah's and oh's..."
   ]
  },
  {
   "cell_type": "code",
   "execution_count": 62,
   "metadata": {},
   "outputs": [],
   "source": [
    "exclam_2 = []\n",
    "for line in movies_df.Text:\n",
    "    if re.search(r\"o+h+ *!\", line):\n",
    "        exclam_2.append(line)"
   ]
  },
  {
   "cell_type": "code",
   "execution_count": 61,
   "metadata": {},
   "outputs": [
    {
     "data": {
      "text/plain": [
       "4817"
      ]
     },
     "execution_count": 61,
     "metadata": {},
     "output_type": "execute_result"
    }
   ],
   "source": [
    "len(exclam_1)"
   ]
  },
  {
   "cell_type": "code",
   "execution_count": 63,
   "metadata": {},
   "outputs": [
    {
     "data": {
      "text/plain": [
       "123"
      ]
     },
     "execution_count": 63,
     "metadata": {},
     "output_type": "execute_result"
    }
   ],
   "source": [
    "len(exclam_2)"
   ]
  },
  {
   "cell_type": "code",
   "execution_count": 64,
   "metadata": {},
   "outputs": [
    {
     "data": {
      "text/plain": [
       "['oh ! ',\n",
       " \"oh! please, don't run away. i won't hurt you. i'm awfully sorry. i didn't mean to frighten you. but you don't know what i've been through. and all because i was afraid. i'm so ashamed of the fuss i've made. what do you do when things go wrong ? \",\n",
       " \"hello ? may i come in ? shh. oh! what a cute little chair. why, there's seven little chairs. must be seven little children. and from the look of this table, seven untidy little children. a pickax. a stocking too. \",\n",
       " \"don't do it. take them away. my nose ! my hay fever ! you know i can't stand it. i can't i oh ! \",\n",
       " \"oh, dear ! i wonder if the children are oh ! whywhy, you're little men. how do you do ? i said, how do you do ? \",\n",
       " 'worse than i thought. faoh ! ',\n",
       " \"oh ! steady, men ! we'll get him there. \",\n",
       " \"well... all right. but that's the last oh ! go on. run along. \",\n",
       " 'oh ! my heart ! oh, mymy poor heart. take me into the house and let me rest. a drink of water, please. ',\n",
       " 'oh ! i feel strange. ',\n",
       " 'ohhh! mother! oh mother! mother! ',\n",
       " 'oh! ',\n",
       " \"oh well, what's a royal ball? after all i suppose it would be frightfully dull andand boring and completelycompletely wonderful. oh! why, it's my \",\n",
       " \"yes it's lovely, dear. good heavens child! you can't go in that. now uh, let's see dear. your size and the shade of your eyes. mmhmmm. something simple but daring too. oh! just leave it to me. what a gown this will be. bibbidi, bobbidi, bibbidi, bobbidi, bibbidi, bobbidi, boo! \",\n",
       " 'oh! ',\n",
       " 'ohhh! ',\n",
       " 'oh! ',\n",
       " 'oh! ',\n",
       " 'oh! ',\n",
       " 'oh! ariel . . . ',\n",
       " 'uhoh! ',\n",
       " 'oooohhh! allah forbid you should have any daughters! ',\n",
       " 'uh oh! ',\n",
       " 'uh oh! ',\n",
       " \"i will have the power to get rid of you! d'oh! to thinkwe gotta keep kissing up to that chump, and his chump daughter for the rest of our lives... \",\n",
       " 'oh! wait a minute! wait a minute! jafar? what if you were the chump husband? ',\n",
       " 'oh!marry the shrew? i become sultan. the idea has merit! ',\n",
       " 'uh oh! ',\n",
       " \"this can't be right. where have you taken us, phillipe? we'd better turn around...and...whoa...whoa boy, whoa phillipe. oh, oh! look out! \",\n",
       " 'oh!!!! ',\n",
       " 'oh! hello! ',\n",
       " 'uh oh! ',\n",
       " 'oh! how embarrassing. here we are. ',\n",
       " \"who? oh! the girl. yes, the, ah, girl. well, actually, she's in the process of, ah, um, circumstances being what they are, ah... she's not coming. \",\n",
       " 'oh! would you like a tour? ',\n",
       " 'oh! ',\n",
       " 'why, you clumsy! ... oh! ah! woo! ',\n",
       " 'oh! this is an enormous responsibility, general! perhaps a soldier with more experience? ',\n",
       " 'oh! this is so unfair! ',\n",
       " 'oh! yes! and made off with an especially attractive mahogany cheese board. ',\n",
       " 'oh! oh! what was that thing about the spell? ',\n",
       " 'oh! ',\n",
       " \"oh! suddenly i'm not well. \",\n",
       " 'oh! ',\n",
       " 'woh! woh! woh! ',\n",
       " 'ooh! um. . .dear? ',\n",
       " 'do you really think our ancestors stayed within the reef? oooh!',\n",
       " 'ya, haha! –ooh!',\n",
       " 'oh!',\n",
       " 'oh! sorry, yes. just, em, lost in thought, i guess.',\n",
       " 'wooh!',\n",
       " 'oh!',\n",
       " \"elsa! elsa! elsa, it's me, anna. your sister who didn't mean to make you freeze the summer. i'm sorry. it's...it's all my f-f-fault.  of course, none of it would have happened if she'd just told me her secret.  she's a stinker.  oh, no. no, no, no. come back. no, no, no, no! oookay.   snow, it had to be snow, she couldn't have had tropical magic that covered the fjords in white sand and warm...  fire!  cold, cold, cold, cold, cold, cold, cold, cold.  wandering oaken's trading post.  ooh! and sauna.\",\n",
       " 'okay. okay, i...  ow! woh!',\n",
       " 'woh! woh, woh, woh! get your feet down. this is fresh lacquer. seriously, were you raised in a barn?',\n",
       " 'woh! back at ya!',\n",
       " 'oh! thank you!',\n",
       " 'it was like my whole life got upside down.  wooh!',\n",
       " \"are you kidding me? i am wonderful! i've always wanted a nose.  so cute. it's like a little baby unicorn.  what? hey! woh!  oh, i love it even more! hah. alright, let's start this thing over. hi everyone. i'm olaf. and i like warm hugs.\",\n",
       " \"oh! they're...oh, okay. makes things easier for me.  ha! aw, look at him trying to kiss my nose.  i like you, too!\",\n",
       " 'woh! woh! woh, boy. easy. easy.',\n",
       " 'woh!',\n",
       " \"ah! ooh! uh...it uh...it's fine. uh...i'm good. uh...i've got a thick skull.\",\n",
       " \"now what?  now what?! oooh! what am i gonna do? she threw me out. i can't go back to arendelle with the weather like this. and then there's your ice business and we...\",\n",
       " \"whoa! so this is heat. i love it.  ooh! but don't touch it!  so, where's hans? what happened to your kiss?\",\n",
       " \"i got it. i got it.  ooh! i don't got it! i don't got it!\",\n",
       " 'oh!',\n",
       " 'no, no! i swear! oh! he can talk!',\n",
       " \"oh! and it is lovely! just beautiful. you know you are quite a decorator. it's amazing what you've done with such a modest budget. i like that boulder. that is a nice boulder. i guess you don't entertain much, do you?\",\n",
       " 'oh!',\n",
       " \"all right, get out of here. all of you, move it! come on! let's go! hapaya! hapaya! hey! quickly. come on! no, no! no, no. not there. not there. oh!\",\n",
       " 'oh! oh, pick me! oh, i know! i know! me, me!',\n",
       " \"okay, fine. attention, all fairy tale things. do not get comfortable. your welcome is officially worn out. in fact, i'm gonna see this guy farquaad right now and get you all off my land and back where you came from! oh! you! you're comin' with me.\",\n",
       " \"that champion shall have the honor - - no, no - - the privilege to go forth and rescue the lovely princess fiona from the fiery keep of the dragon. if for any reason the winner is unsuccessful, the first runner-up will take his place and so on and so forth. some of you may die, but it's a sacrifice i am willing to make. let the tournament begin! oh! what is that? it's hideous!\",\n",
       " 'ohh! shrek! did you do that? you gotta warn somebody before you just crack one off. my mouth was open and everything.',\n",
       " \"i'm gonna die. i'm gonna die. shrek, i'm gonna die. oh!\",\n",
       " 'oh! aah! aah!',\n",
       " 'oh! oh!',\n",
       " \"that's not the point. oh! wait. where are you going? the exit's over there.\",\n",
       " \"slow down. slow down, baby, please. i believe it's healthy to get to know someone over a long period of time. just call me old-fashioned. i don't want to rush into a physical relationship. i'm not emotionally ready for a commitment of, uh, this - - magnitude really is the word i'm looking for. magnitude- - hey, that is unwanted physical contact. hey, what are you doing? okay, okay. let's just back up a little and take this one step at a time. we really should get to know each other first as friends or pen pals. i'm on the road a lot, but i just love receiving cards - - i'd really love to stay, but - - don't do that! that's my tail! that's my personal tail. you're gonna tear it off. i don't give permission - - what are you gonna do with that? hey, now. no way. no! no! no, no! no. no, no, no. no! oh!\",\n",
       " 'oh!',\n",
       " 'oh! for the love of pete!',\n",
       " 'oh! of course! oh, how rude. please let me introduce myself. oh, merry men.',\n",
       " 'hold the phone. oh! whoa, whoa, whoa. hold on now. where did that come from?',\n",
       " 'ow! ohh!',\n",
       " \"ohh! now i really see what's goin' on here.\",\n",
       " 'oh! your half. hmm.',\n",
       " \"ohh! you're so wrapped up in layers, onion boy, you're afraid of your own feelings.\",\n",
       " 'oh!',\n",
       " 'oh! shrimp! my favorite.',\n",
       " 'oohh! they must be expecting us.',\n",
       " 'oh!',\n",
       " \"oooh! it's present time!\",\n",
       " 'oh! festering sores! hey, you are one funny kitty cat.',\n",
       " 'shrek attacks me, i pretend to be afraid.\\n\\n ooh!!!',\n",
       " \"oh! it just doesn't feel real enough yet!\",\n",
       " 'oooooooh!',\n",
       " 'oh! come back!',\n",
       " 'oooh! aaahh!',\n",
       " 'nooo! ohhhh!',\n",
       " 'ow, those are hard! ooh! i think i...',\n",
       " 'oh! okay.',\n",
       " 'oh! that is it!',\n",
       " 'ooh! master shifu!',\n",
       " \"oh! i've read it like, seven times. there's this water dragon that sprays boiling water at your face. and there's this other one that buries itself for like a week...\",\n",
       " 'oooh! love on the battlefield!',\n",
       " \"get it off! get it off! oh! i'm hurt, i am very much hurt!\",\n",
       " 'oh, potato, tomato, potato. oh!',\n",
       " 'oooh! i’ve never had a view before. metro city, minion. it’s all mine. if my parents could see me now.',\n",
       " 'oh! woow! it’s just you, bernard.',\n",
       " 'oh! if only the world had a rest button.',\n",
       " 'aaaah! oh! i’m too close! i’m genuinely scared right now! oh! i don’t know if i’ve seen this! aah!',\n",
       " 'oh! you inspired me too.',\n",
       " 'oh! oh, really?',\n",
       " 'ooh! ow!',\n",
       " 'you! ooh!',\n",
       " 'ooh!',\n",
       " 'woh, woh, woh! this isn’t how you play the game.',\n",
       " 'woh! i…i thought you were dead!',\n",
       " 'oh!',\n",
       " 'oh!',\n",
       " 'ooooh!',\n",
       " 'oooh!']"
      ]
     },
     "execution_count": 64,
     "metadata": {},
     "output_type": "execute_result"
    }
   ],
   "source": [
    "exclam_2"
   ]
  },
  {
   "cell_type": "code",
   "execution_count": null,
   "metadata": {},
   "outputs": [],
   "source": []
  }
 ],
 "metadata": {
  "kernelspec": {
   "display_name": "Python 3",
   "language": "python",
   "name": "python3"
  },
  "language_info": {
   "codemirror_mode": {
    "name": "ipython",
    "version": 3
   },
   "file_extension": ".py",
   "mimetype": "text/x-python",
   "name": "python",
   "nbconvert_exporter": "python",
   "pygments_lexer": "ipython3",
   "version": "3.6.4"
  }
 },
 "nbformat": 4,
 "nbformat_minor": 2
}
