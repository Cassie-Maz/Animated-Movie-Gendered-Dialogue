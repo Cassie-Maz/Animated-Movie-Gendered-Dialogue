{
 "cells": [
  {
   "cell_type": "markdown",
   "metadata": {},
   "source": [
    "# Tag Questions\n",
    "Tag questions are a form of collaborative dialogue. They encourage the other speaker to engage in the conversation, and ellicite the other speaker's opinion. Because female speakers are traditionally thought to be more collaborative, I hypothesize that female speakers will use more tag questions than male speakers. Also, I believe antagonists will use these less than protagonists--antagonists don't want anyone else's opinion!\n",
    "\n",
    "Note: The regular expressions below cannot capture sarcasm. They simply capture questions that would elicit a response from another speaker. This includes questions that end in personal pronouns and certain phrases, like \"yes\", \"no\", or \"right\". Consequently, my regular expression captures questions like \"Are you all right?\" and \"What do you think?\". Those these aren't technically tag questions like \"You get it, right?\" or \"Huh, you think?\", they still encourage the other person in the conversation to respond, and so are a collaborative way of speaking. \n",
    "\n",
    "Permission questions will also be captured, like \"Can I?\" or \"May I?\" along with anything along the lines of \"Oh, I can, can I?\". Again, these are both elliciting a response, but hard to differentiate with regular expressions."
   ]
  },
  {
   "cell_type": "markdown",
   "metadata": {},
   "source": [
    "# Table of Contents\n",
    "1. [Getting Tag Count](#code)\n",
    "2. [Visualizations](#visuals)\n",
    "3. [Significance Tests](#sigtests)"
   ]
  },
  {
   "cell_type": "markdown",
   "metadata": {},
   "source": [
    "## Getting Tag Count <a name='code'></a>"
   ]
  },
  {
   "cell_type": "code",
   "execution_count": 1,
   "metadata": {},
   "outputs": [],
   "source": [
    "import pandas as pd\n",
    "import re"
   ]
  },
  {
   "cell_type": "code",
   "execution_count": 2,
   "metadata": {},
   "outputs": [],
   "source": [
    "movies_df = pd.read_pickle(r\"C:/Users/cassi/Desktop/Data_Science/Animated-Movie-Gendered-Dialogue/private/all_tagged_movies_2.pkl\")"
   ]
  },
  {
   "cell_type": "code",
   "execution_count": 3,
   "metadata": {},
   "outputs": [
    {
     "name": "stdout",
     "output_type": "stream",
     "text": [
      "<class 'pandas.core.frame.DataFrame'>\n",
      "RangeIndex: 13442 entries, 0 to 13441\n",
      "Data columns (total 22 columns):\n",
      "Disney_Period         13442 non-null object\n",
      "Gender                13442 non-null object\n",
      "Movie                 13442 non-null object\n",
      "Role                  13442 non-null object\n",
      "Song                  13442 non-null object\n",
      "Speaker               13442 non-null object\n",
      "Speaker_Status        13442 non-null object\n",
      "Text                  13442 non-null object\n",
      "UTTERANCE_NUMBER      13442 non-null int64\n",
      "Year                  13442 non-null int64\n",
      "Tokens                13442 non-null object\n",
      "Types                 13442 non-null object\n",
      "Token_Count           13442 non-null int64\n",
      "Type_Count            13442 non-null int64\n",
      "POS                   13442 non-null object\n",
      "Tag_Freq              13442 non-null object\n",
      "Command_Count         13442 non-null int64\n",
      "Top_Tag               13442 non-null object\n",
      "Adj_Count             13442 non-null int64\n",
      "Adj_over_Tokens       13442 non-null float64\n",
      "Interjection_Count    13442 non-null int64\n",
      "Inter_over_Tokens     13442 non-null float64\n",
      "dtypes: float64(2), int64(7), object(13)\n",
      "memory usage: 1.6+ MB\n"
     ]
    }
   ],
   "source": [
    "movies_df.info()"
   ]
  },
  {
   "cell_type": "code",
   "execution_count": 4,
   "metadata": {},
   "outputs": [],
   "source": [
    "#this function captures all questions in each line ending in words typical of tag questions, like\n",
    "## aren't you?, \"are you?\", \"is he?\", \"right?\", etc...\n",
    "## then adds the number of tag questions found in each line to the Tag Column\n",
    "\n",
    "def find_tags(line):\n",
    "    tags = re.findall(r\" (you|he|she|we|i|it|think|suppose|think so|suppose so|yes|no|right|correct|alright|okay) *\\?\", line)\n",
    "    num_tags = len(tags)\n",
    "    return num_tags"
   ]
  },
  {
   "cell_type": "code",
   "execution_count": 5,
   "metadata": {},
   "outputs": [],
   "source": [
    "movies_df['Tags'] = movies_df.Text.map(find_tags)"
   ]
  },
  {
   "cell_type": "code",
   "execution_count": 6,
   "metadata": {},
   "outputs": [
    {
     "data": {
      "text/plain": [
       "count    13442.000000\n",
       "mean         0.034221\n",
       "std          0.194075\n",
       "min          0.000000\n",
       "25%          0.000000\n",
       "50%          0.000000\n",
       "75%          0.000000\n",
       "max          5.000000\n",
       "Name: Tags, dtype: float64"
      ]
     },
     "execution_count": 6,
     "metadata": {},
     "output_type": "execute_result"
    }
   ],
   "source": [
    "movies_df.Tags.describe()"
   ]
  },
  {
   "cell_type": "code",
   "execution_count": 7,
   "metadata": {},
   "outputs": [
    {
     "data": {
      "text/html": [
       "<div>\n",
       "<style scoped>\n",
       "    .dataframe tbody tr th:only-of-type {\n",
       "        vertical-align: middle;\n",
       "    }\n",
       "\n",
       "    .dataframe tbody tr th {\n",
       "        vertical-align: top;\n",
       "    }\n",
       "\n",
       "    .dataframe thead th {\n",
       "        text-align: right;\n",
       "    }\n",
       "</style>\n",
       "<table border=\"1\" class=\"dataframe\">\n",
       "  <thead>\n",
       "    <tr style=\"text-align: right;\">\n",
       "      <th></th>\n",
       "      <th>Disney_Period</th>\n",
       "      <th>Gender</th>\n",
       "      <th>Movie</th>\n",
       "      <th>Role</th>\n",
       "      <th>Song</th>\n",
       "      <th>Speaker</th>\n",
       "      <th>Speaker_Status</th>\n",
       "      <th>Text</th>\n",
       "      <th>UTTERANCE_NUMBER</th>\n",
       "      <th>Year</th>\n",
       "      <th>...</th>\n",
       "      <th>Type_Count</th>\n",
       "      <th>POS</th>\n",
       "      <th>Tag_Freq</th>\n",
       "      <th>Command_Count</th>\n",
       "      <th>Top_Tag</th>\n",
       "      <th>Adj_Count</th>\n",
       "      <th>Adj_over_Tokens</th>\n",
       "      <th>Interjection_Count</th>\n",
       "      <th>Inter_over_Tokens</th>\n",
       "      <th>Tags</th>\n",
       "    </tr>\n",
       "  </thead>\n",
       "  <tbody>\n",
       "    <tr>\n",
       "      <th>4761</th>\n",
       "      <td>LATE</td>\n",
       "      <td>f</td>\n",
       "      <td>Brave</td>\n",
       "      <td>PRO</td>\n",
       "      <td>D</td>\n",
       "      <td>merida</td>\n",
       "      <td>NON-P</td>\n",
       "      <td>can i? can i? can i? can i? please, can i?</td>\n",
       "      <td>7</td>\n",
       "      <td>2012</td>\n",
       "      <td>...</td>\n",
       "      <td>5</td>\n",
       "      <td>[(can, MD), (i, VB), (?, .), (can, MD), (i, VB...</td>\n",
       "      <td>{'MD': 5, 'VB': 5, '.': 5, 'NN': 1, ',': 1}</td>\n",
       "      <td>5</td>\n",
       "      <td>MD</td>\n",
       "      <td>0</td>\n",
       "      <td>0.0</td>\n",
       "      <td>0</td>\n",
       "      <td>0.0</td>\n",
       "      <td>5</td>\n",
       "    </tr>\n",
       "  </tbody>\n",
       "</table>\n",
       "<p>1 rows × 23 columns</p>\n",
       "</div>"
      ],
      "text/plain": [
       "     Disney_Period Gender  Movie Role Song Speaker Speaker_Status  \\\n",
       "4761          LATE      f  Brave  PRO    D  merida          NON-P   \n",
       "\n",
       "                                             Text  UTTERANCE_NUMBER  Year  \\\n",
       "4761  can i? can i? can i? can i? please, can i?                  7  2012   \n",
       "\n",
       "      ...  Type_Count                                                POS  \\\n",
       "4761  ...           5  [(can, MD), (i, VB), (?, .), (can, MD), (i, VB...   \n",
       "\n",
       "                                         Tag_Freq  Command_Count Top_Tag  \\\n",
       "4761  {'MD': 5, 'VB': 5, '.': 5, 'NN': 1, ',': 1}              5      MD   \n",
       "\n",
       "     Adj_Count  Adj_over_Tokens Interjection_Count  Inter_over_Tokens  Tags  \n",
       "4761         0              0.0                  0                0.0     5  \n",
       "\n",
       "[1 rows x 23 columns]"
      ]
     },
     "execution_count": 7,
     "metadata": {},
     "output_type": "execute_result"
    }
   ],
   "source": [
    "movies_df[movies_df.Tags == 5] #Merida"
   ]
  },
  {
   "cell_type": "code",
   "execution_count": 8,
   "metadata": {},
   "outputs": [
    {
     "data": {
      "text/html": [
       "<div>\n",
       "<style scoped>\n",
       "    .dataframe tbody tr th:only-of-type {\n",
       "        vertical-align: middle;\n",
       "    }\n",
       "\n",
       "    .dataframe tbody tr th {\n",
       "        vertical-align: top;\n",
       "    }\n",
       "\n",
       "    .dataframe thead th {\n",
       "        text-align: right;\n",
       "    }\n",
       "</style>\n",
       "<table border=\"1\" class=\"dataframe\">\n",
       "  <thead>\n",
       "    <tr style=\"text-align: right;\">\n",
       "      <th></th>\n",
       "      <th>count</th>\n",
       "      <th>mean</th>\n",
       "      <th>std</th>\n",
       "      <th>min</th>\n",
       "      <th>25%</th>\n",
       "      <th>50%</th>\n",
       "      <th>75%</th>\n",
       "      <th>max</th>\n",
       "    </tr>\n",
       "    <tr>\n",
       "      <th>Gender</th>\n",
       "      <th></th>\n",
       "      <th></th>\n",
       "      <th></th>\n",
       "      <th></th>\n",
       "      <th></th>\n",
       "      <th></th>\n",
       "      <th></th>\n",
       "      <th></th>\n",
       "    </tr>\n",
       "  </thead>\n",
       "  <tbody>\n",
       "    <tr>\n",
       "      <th>f</th>\n",
       "      <td>4216.0</td>\n",
       "      <td>0.034867</td>\n",
       "      <td>0.199569</td>\n",
       "      <td>0.0</td>\n",
       "      <td>0.0</td>\n",
       "      <td>0.0</td>\n",
       "      <td>0.0</td>\n",
       "      <td>5.0</td>\n",
       "    </tr>\n",
       "    <tr>\n",
       "      <th>m</th>\n",
       "      <td>8914.0</td>\n",
       "      <td>0.034440</td>\n",
       "      <td>0.192542</td>\n",
       "      <td>0.0</td>\n",
       "      <td>0.0</td>\n",
       "      <td>0.0</td>\n",
       "      <td>0.0</td>\n",
       "      <td>3.0</td>\n",
       "    </tr>\n",
       "    <tr>\n",
       "      <th>n</th>\n",
       "      <td>312.0</td>\n",
       "      <td>0.019231</td>\n",
       "      <td>0.159225</td>\n",
       "      <td>0.0</td>\n",
       "      <td>0.0</td>\n",
       "      <td>0.0</td>\n",
       "      <td>0.0</td>\n",
       "      <td>2.0</td>\n",
       "    </tr>\n",
       "  </tbody>\n",
       "</table>\n",
       "</div>"
      ],
      "text/plain": [
       "         count      mean       std  min  25%  50%  75%  max\n",
       "Gender                                                     \n",
       "f       4216.0  0.034867  0.199569  0.0  0.0  0.0  0.0  5.0\n",
       "m       8914.0  0.034440  0.192542  0.0  0.0  0.0  0.0  3.0\n",
       "n        312.0  0.019231  0.159225  0.0  0.0  0.0  0.0  2.0"
      ]
     },
     "execution_count": 8,
     "metadata": {},
     "output_type": "execute_result"
    }
   ],
   "source": [
    "movies_df.groupby('Gender')['Tags'].describe()"
   ]
  },
  {
   "cell_type": "code",
   "execution_count": 9,
   "metadata": {},
   "outputs": [
    {
     "data": {
      "text/html": [
       "<div>\n",
       "<style scoped>\n",
       "    .dataframe tbody tr th:only-of-type {\n",
       "        vertical-align: middle;\n",
       "    }\n",
       "\n",
       "    .dataframe tbody tr th {\n",
       "        vertical-align: top;\n",
       "    }\n",
       "\n",
       "    .dataframe thead th {\n",
       "        text-align: right;\n",
       "    }\n",
       "</style>\n",
       "<table border=\"1\" class=\"dataframe\">\n",
       "  <thead>\n",
       "    <tr style=\"text-align: right;\">\n",
       "      <th></th>\n",
       "      <th>count</th>\n",
       "      <th>mean</th>\n",
       "      <th>std</th>\n",
       "      <th>min</th>\n",
       "      <th>25%</th>\n",
       "      <th>50%</th>\n",
       "      <th>75%</th>\n",
       "      <th>max</th>\n",
       "    </tr>\n",
       "    <tr>\n",
       "      <th>Role</th>\n",
       "      <th></th>\n",
       "      <th></th>\n",
       "      <th></th>\n",
       "      <th></th>\n",
       "      <th></th>\n",
       "      <th></th>\n",
       "      <th></th>\n",
       "      <th></th>\n",
       "    </tr>\n",
       "  </thead>\n",
       "  <tbody>\n",
       "    <tr>\n",
       "      <th>ANT</th>\n",
       "      <td>2037.0</td>\n",
       "      <td>0.027982</td>\n",
       "      <td>0.173665</td>\n",
       "      <td>0.0</td>\n",
       "      <td>0.0</td>\n",
       "      <td>0.0</td>\n",
       "      <td>0.0</td>\n",
       "      <td>2.0</td>\n",
       "    </tr>\n",
       "    <tr>\n",
       "      <th>HELPER</th>\n",
       "      <td>3549.0</td>\n",
       "      <td>0.033249</td>\n",
       "      <td>0.195839</td>\n",
       "      <td>0.0</td>\n",
       "      <td>0.0</td>\n",
       "      <td>0.0</td>\n",
       "      <td>0.0</td>\n",
       "      <td>3.0</td>\n",
       "    </tr>\n",
       "    <tr>\n",
       "      <th>N</th>\n",
       "      <td>2094.0</td>\n",
       "      <td>0.026743</td>\n",
       "      <td>0.170021</td>\n",
       "      <td>0.0</td>\n",
       "      <td>0.0</td>\n",
       "      <td>0.0</td>\n",
       "      <td>0.0</td>\n",
       "      <td>2.0</td>\n",
       "    </tr>\n",
       "    <tr>\n",
       "      <th>PRO</th>\n",
       "      <td>5762.0</td>\n",
       "      <td>0.039743</td>\n",
       "      <td>0.207438</td>\n",
       "      <td>0.0</td>\n",
       "      <td>0.0</td>\n",
       "      <td>0.0</td>\n",
       "      <td>0.0</td>\n",
       "      <td>5.0</td>\n",
       "    </tr>\n",
       "  </tbody>\n",
       "</table>\n",
       "</div>"
      ],
      "text/plain": [
       "         count      mean       std  min  25%  50%  75%  max\n",
       "Role                                                       \n",
       "ANT     2037.0  0.027982  0.173665  0.0  0.0  0.0  0.0  2.0\n",
       "HELPER  3549.0  0.033249  0.195839  0.0  0.0  0.0  0.0  3.0\n",
       "N       2094.0  0.026743  0.170021  0.0  0.0  0.0  0.0  2.0\n",
       "PRO     5762.0  0.039743  0.207438  0.0  0.0  0.0  0.0  5.0"
      ]
     },
     "execution_count": 9,
     "metadata": {},
     "output_type": "execute_result"
    }
   ],
   "source": [
    "movies_df.groupby('Role')['Tags'].describe()"
   ]
  },
  {
   "cell_type": "code",
   "execution_count": 10,
   "metadata": {},
   "outputs": [],
   "source": [
    "#no tests run yet, but it's looking like there's a pretty big diff between antagonists and protagonists using tags..."
   ]
  },
  {
   "cell_type": "markdown",
   "metadata": {},
   "source": [
    "## Visualizations <a name='visuals'></a>\n",
    "### Gender"
   ]
  },
  {
   "cell_type": "code",
   "execution_count": 11,
   "metadata": {},
   "outputs": [],
   "source": [
    "from matplotlib import pyplot as plt"
   ]
  },
  {
   "cell_type": "code",
   "execution_count": 12,
   "metadata": {},
   "outputs": [],
   "source": [
    "movies_gen_df = movies_df[movies_df.Gender != 'n']"
   ]
  },
  {
   "cell_type": "code",
   "execution_count": 13,
   "metadata": {},
   "outputs": [
    {
     "data": {
      "text/plain": [
       "<matplotlib.axes._subplots.AxesSubplot at 0x10e7f5f0>"
      ]
     },
     "execution_count": 13,
     "metadata": {},
     "output_type": "execute_result"
    },
    {
     "data": {
      "image/png": "[encoded data removed]",
      "text/plain": [
       "<Figure size 432x288 with 1 Axes>"
      ]
     },
     "metadata": {
      "needs_background": "light"
     },
     "output_type": "display_data"
    }
   ],
   "source": [
    "tag_by_gen = movies_gen_df.groupby('Gender')['Tags'].describe()['mean']\n",
    "tag_by_gen.plot.bar(color=['magenta', 'blue'])"
   ]
  },
  {
   "cell_type": "markdown",
   "metadata": {},
   "source": [
    "No big difference here... What about over time?"
   ]
  },
  {
   "cell_type": "code",
   "execution_count": 14,
   "metadata": {},
   "outputs": [
    {
     "data": {
      "text/plain": [
       "<matplotlib.axes._subplots.AxesSubplot at 0x120860b0>"
      ]
     },
     "execution_count": 14,
     "metadata": {},
     "output_type": "execute_result"
    },
    {
     "data": {
      "image/png": "[encoded data removed]",
      "text/plain": [
       "<Figure size 1080x432 with 1 Axes>"
      ]
     },
     "metadata": {
      "needs_background": "light"
     },
     "output_type": "display_data"
    }
   ],
   "source": [
    "tag_by_gen_era = movies_gen_df.groupby(['Disney_Period','Gender'], sort=False)['Tags'].describe()['mean']\n",
    "tag_by_gen_era.unstack().plot.bar(color=['magenta', 'blue'], figsize=(15,6))"
   ]
  },
  {
   "cell_type": "markdown",
   "metadata": {},
   "source": [
    "Interesting. The number of tags used by each gender isn't consistent over time. While I expected females to use more tags in earlier periods, men actually use more tags than women do in the earliest period, and again in the late period."
   ]
  },
  {
   "cell_type": "code",
   "execution_count": 15,
   "metadata": {},
   "outputs": [
    {
     "data": {
      "text/plain": [
       "<matplotlib.axes._subplots.AxesSubplot at 0x122c9970>"
      ]
     },
     "execution_count": 15,
     "metadata": {},
     "output_type": "execute_result"
    },
    {
     "data": {
      "image/png": "[encoded data removed]",
      "text/plain": [
       "<Figure size 1080x432 with 1 Axes>"
      ]
     },
     "metadata": {
      "needs_background": "light"
     },
     "output_type": "display_data"
    }
   ],
   "source": [
    "tag_by_gen_movie = movies_gen_df.groupby(['Year', 'Movie','Gender'])['Tags'].describe()['mean']\n",
    "tag_by_gen_movie.unstack().plot.bar(color=['magenta', 'blue'], figsize=(15,6))"
   ]
  },
  {
   "cell_type": "markdown",
   "metadata": {},
   "source": [
    "### Role"
   ]
  },
  {
   "cell_type": "code",
   "execution_count": 16,
   "metadata": {},
   "outputs": [],
   "source": [
    "movies_role_df = movies_df[movies_df.Role != 'N']"
   ]
  },
  {
   "cell_type": "code",
   "execution_count": 17,
   "metadata": {},
   "outputs": [
    {
     "data": {
      "text/plain": [
       "<matplotlib.axes._subplots.AxesSubplot at 0x1214d350>"
      ]
     },
     "execution_count": 17,
     "metadata": {},
     "output_type": "execute_result"
    },
    {
     "data": {
      "image/png": "[encoded data removed]",
      "text/plain": [
       "<Figure size 432x288 with 1 Axes>"
      ]
     },
     "metadata": {
      "needs_background": "light"
     },
     "output_type": "display_data"
    }
   ],
   "source": [
    "tag_by_role = movies_role_df.groupby('Role')['Tags'].describe()['mean']\n",
    "tag_by_role.plot.bar(color=['red', 'blue', 'purple'])"
   ]
  },
  {
   "cell_type": "code",
   "execution_count": 18,
   "metadata": {},
   "outputs": [
    {
     "data": {
      "text/plain": [
       "<matplotlib.axes._subplots.AxesSubplot at 0x122e9910>"
      ]
     },
     "execution_count": 18,
     "metadata": {},
     "output_type": "execute_result"
    },
    {
     "data": {
      "image/png": "[encoded data removed]",
      "text/plain": [
       "<Figure size 1080x432 with 1 Axes>"
      ]
     },
     "metadata": {
      "needs_background": "light"
     },
     "output_type": "display_data"
    }
   ],
   "source": [
    "tag_by_role_era = movies_role_df.groupby(['Disney_Period','Role'], sort=False)['Tags'].describe()['mean']\n",
    "tag_by_role_era.unstack().plot.bar(color=['red', 'blue', 'purple'], figsize=(15,6))"
   ]
  },
  {
   "cell_type": "code",
   "execution_count": 19,
   "metadata": {},
   "outputs": [],
   "source": [
    "#in the middle era, this is pretty even...could this be due to more female villains in the mid era?"
   ]
  },
  {
   "cell_type": "code",
   "execution_count": 20,
   "metadata": {},
   "outputs": [
    {
     "data": {
      "text/plain": [
       "array(['triton', 'ursula', 'flotsam', 'jetsam', 'flotsam and jetsam',\n",
       "       'vanessa', 'jafar', 'iago', 'guard', 'guard 1', 'guard 2',\n",
       "       'proprietor', 'old man', 'lefou', 'gaston', 'crony 1', 'crony 2',\n",
       "       'crony 3', \"d'arque\", 'ratcliffe', 'powhatan', 'shan yu',\n",
       "       'fa zhou', 'matchmaker', 'hun', 'hun #1', 'hun #2', 'hun #3'],\n",
       "      dtype=object)"
      ]
     },
     "execution_count": 20,
     "metadata": {},
     "output_type": "execute_result"
    }
   ],
   "source": [
    "movies_role_df[(movies_role_df.Role == 'ANT') & (movies_role_df.Disney_Period == 'MID')].Speaker.unique()"
   ]
  },
  {
   "cell_type": "code",
   "execution_count": 21,
   "metadata": {},
   "outputs": [
    {
     "data": {
      "text/plain": [
       "<matplotlib.axes._subplots.AxesSubplot at 0x124e6990>"
      ]
     },
     "execution_count": 21,
     "metadata": {},
     "output_type": "execute_result"
    },
    {
     "data": {
      "image/png": "[encoded data removed]",
      "text/plain": [
       "<Figure size 1152x432 with 1 Axes>"
      ]
     },
     "metadata": {
      "needs_background": "light"
     },
     "output_type": "display_data"
    }
   ],
   "source": [
    "tag_by_role_movie = movies_role_df.groupby(['Year', 'Movie','Role'])['Tags'].describe()['mean']\n",
    "tag_by_role_movie.unstack().plot.bar(color=['red', 'purple', 'blue'], figsize=(16,6))"
   ]
  },
  {
   "cell_type": "markdown",
   "metadata": {},
   "source": [
    "Wow, in some Disney movies, like Snow White, Sleeping Beauty, and Mulan, villains aren't using any tag questions whatsoever. Also, seems like Dreamworks villains are more likely to use tag questions..."
   ]
  },
  {
   "cell_type": "markdown",
   "metadata": {},
   "source": [
    "### Gender and Role"
   ]
  },
  {
   "cell_type": "code",
   "execution_count": 22,
   "metadata": {},
   "outputs": [],
   "source": [
    "movies_role_gen_df = movies_df[(movies_df.Gender != 'n') & (movies_df.Role != 'N')]"
   ]
  },
  {
   "cell_type": "code",
   "execution_count": 23,
   "metadata": {},
   "outputs": [
    {
     "data": {
      "text/plain": [
       "<matplotlib.axes._subplots.AxesSubplot at 0x125aac10>"
      ]
     },
     "execution_count": 23,
     "metadata": {},
     "output_type": "execute_result"
    },
    {
     "data": {
      "image/png": "[encoded data removed]",
      "text/plain": [
       "<Figure size 1080x432 with 1 Axes>"
      ]
     },
     "metadata": {
      "needs_background": "light"
     },
     "output_type": "display_data"
    }
   ],
   "source": [
    "tag_by_gen_role = movies_role_gen_df.groupby(['Gender','Role'])['Tags'].describe()['mean']\n",
    "tag_by_gen_role.unstack().plot.bar(color=['red', 'purple', 'blue'], figsize=(15,6))"
   ]
  },
  {
   "cell_type": "markdown",
   "metadata": {},
   "source": [
    "Sure enough, villains use fewer tags overall than protagonists! And, females actually use fewer tags than men regardless on whether they are a villain or protagonists. Interestingly, female helpers seem more inclined to use tags than male helpers. Honestly, I expected helpers to use the most tags because their goals in the movie are to encourage the protagonists on their journeys, but the helper tag counts don't seem consistent across genders..."
   ]
  },
  {
   "cell_type": "markdown",
   "metadata": {},
   "source": [
    "## Significance Tests <a name='sigtests'></a>\n",
    "So, we've observed some differences, but how many are actually significantly different, indicating that these stats differ because of something other than chance?\n",
    "\n",
    "As with all other significance tests in this project, we will take the significance threshold to be p=0.05. Anything above this indicates that differences observed are likely due to chance."
   ]
  },
  {
   "cell_type": "code",
   "execution_count": 24,
   "metadata": {},
   "outputs": [],
   "source": [
    "from scipy import stats"
   ]
  },
  {
   "cell_type": "markdown",
   "metadata": {},
   "source": [
    "### Gender"
   ]
  },
  {
   "cell_type": "code",
   "execution_count": 25,
   "metadata": {},
   "outputs": [],
   "source": [
    "f_movies = movies_df[movies_df.Gender == 'f']\n",
    "m_movies = movies_df[movies_df.Gender == 'm']"
   ]
  },
  {
   "cell_type": "code",
   "execution_count": 26,
   "metadata": {},
   "outputs": [
    {
     "data": {
      "text/plain": [
       "Ttest_indResult(statistic=-0.11575303918709369, pvalue=0.9078511715114785)"
      ]
     },
     "execution_count": 26,
     "metadata": {},
     "output_type": "execute_result"
    }
   ],
   "source": [
    "stats.ttest_ind(m_movies.Tags, f_movies.Tags, equal_var=False)"
   ]
  },
  {
   "cell_type": "markdown",
   "metadata": {},
   "source": [
    "With a p value of almost 1, there's no significant difference in how male and female characters use tags overall\n",
    "\n",
    "#### Gender Over Time"
   ]
  },
  {
   "cell_type": "code",
   "execution_count": 27,
   "metadata": {},
   "outputs": [],
   "source": [
    "# Gender over Time\n",
    "f_movies_early = f_movies[f_movies.Disney_Period == 'EARLY']\n",
    "m_movies_early = m_movies[m_movies.Disney_Period == 'EARLY']\n",
    "\n",
    "f_movies_mid = f_movies[f_movies.Disney_Period == 'MID']\n",
    "m_movies_mid = m_movies[m_movies.Disney_Period == 'MID']\n",
    "\n",
    "f_movies_late = f_movies[f_movies.Disney_Period == 'LATE']\n",
    "m_movies_late = m_movies[m_movies.Disney_Period == 'LATE']"
   ]
  },
  {
   "cell_type": "code",
   "execution_count": 28,
   "metadata": {},
   "outputs": [
    {
     "data": {
      "text/plain": [
       "F_onewayResult(statistic=1.3466776015997723, pvalue=0.2602658248417642)"
      ]
     },
     "execution_count": 28,
     "metadata": {},
     "output_type": "execute_result"
    }
   ],
   "source": [
    "## comparing female tags over time\n",
    "stats.f_oneway(f_movies_early.Tags, f_movies_mid.Tags, f_movies_late.Tags)\n",
    "#Overall, no significant difference"
   ]
  },
  {
   "cell_type": "code",
   "execution_count": 29,
   "metadata": {},
   "outputs": [
    {
     "data": {
      "text/plain": [
       "Ttest_indResult(statistic=-1.7254854256187984, pvalue=0.08465157211303734)"
      ]
     },
     "execution_count": 29,
     "metadata": {},
     "output_type": "execute_result"
    }
   ],
   "source": [
    "stats.ttest_ind(f_movies_early.Tags, f_movies_mid.Tags, equal_var=False)"
   ]
  },
  {
   "cell_type": "code",
   "execution_count": 30,
   "metadata": {},
   "outputs": [
    {
     "data": {
      "text/plain": [
       "Ttest_indResult(statistic=-0.6763694276532125, pvalue=0.49889699924972464)"
      ]
     },
     "execution_count": 30,
     "metadata": {},
     "output_type": "execute_result"
    }
   ],
   "source": [
    "stats.ttest_ind(f_movies_early.Tags, f_movies_late.Tags, equal_var=False)"
   ]
  },
  {
   "cell_type": "code",
   "execution_count": 31,
   "metadata": {},
   "outputs": [
    {
     "data": {
      "text/plain": [
       "Ttest_indResult(statistic=1.1827012743460064, pvalue=0.23709681039399297)"
      ]
     },
     "execution_count": 31,
     "metadata": {},
     "output_type": "execute_result"
    }
   ],
   "source": [
    "stats.ttest_ind(f_movies_mid.Tags, f_movies_late.Tags, equal_var=False)"
   ]
  },
  {
   "cell_type": "markdown",
   "metadata": {},
   "source": [
    "There is no significant difference between how females from difference eras of Disney use tag questions."
   ]
  },
  {
   "cell_type": "code",
   "execution_count": 32,
   "metadata": {},
   "outputs": [
    {
     "data": {
      "text/plain": [
       "F_onewayResult(statistic=1.574287759552286, pvalue=0.2072902282030134)"
      ]
     },
     "execution_count": 32,
     "metadata": {},
     "output_type": "execute_result"
    }
   ],
   "source": [
    "## comparing male tags over time\n",
    "stats.f_oneway(m_movies_early.Tags, m_movies_mid.Tags, m_movies_late.Tags)\n",
    "#Overall, no significant difference"
   ]
  },
  {
   "cell_type": "code",
   "execution_count": 33,
   "metadata": {},
   "outputs": [
    {
     "data": {
      "text/plain": [
       "Ttest_indResult(statistic=0.8193666605536073, pvalue=0.4128492860145422)"
      ]
     },
     "execution_count": 33,
     "metadata": {},
     "output_type": "execute_result"
    }
   ],
   "source": [
    "stats.ttest_ind(m_movies_early.Tags, m_movies_mid.Tags, equal_var=False)"
   ]
  },
  {
   "cell_type": "code",
   "execution_count": 34,
   "metadata": {},
   "outputs": [
    {
     "data": {
      "text/plain": [
       "Ttest_indResult(statistic=-0.3571012859144104, pvalue=0.721090867746075)"
      ]
     },
     "execution_count": 34,
     "metadata": {},
     "output_type": "execute_result"
    }
   ],
   "source": [
    "stats.ttest_ind(m_movies_early.Tags, m_movies_late.Tags, equal_var=False)"
   ]
  },
  {
   "cell_type": "code",
   "execution_count": 35,
   "metadata": {},
   "outputs": [
    {
     "data": {
      "text/plain": [
       "Ttest_indResult(statistic=-1.666436256346894, pvalue=0.09577089578548673)"
      ]
     },
     "execution_count": 35,
     "metadata": {},
     "output_type": "execute_result"
    }
   ],
   "source": [
    "stats.ttest_ind(m_movies_mid.Tags, m_movies_late.Tags, equal_var=False)"
   ]
  },
  {
   "cell_type": "markdown",
   "metadata": {},
   "source": [
    "Similarly, there's no significant difference between how male characters use tags across Disney Eras."
   ]
  },
  {
   "cell_type": "code",
   "execution_count": 36,
   "metadata": {},
   "outputs": [
    {
     "data": {
      "text/plain": [
       "Ttest_indResult(statistic=-1.117667210499106, pvalue=0.2639948125370026)"
      ]
     },
     "execution_count": 36,
     "metadata": {},
     "output_type": "execute_result"
    }
   ],
   "source": [
    "### Male vs Female comparisons within each Era\n",
    "stats.ttest_ind(f_movies_early.Tags, m_movies_early.Tags, equal_var=False)"
   ]
  },
  {
   "cell_type": "code",
   "execution_count": 37,
   "metadata": {},
   "outputs": [
    {
     "data": {
      "text/plain": [
       "Ttest_indResult(statistic=1.479646310363167, pvalue=0.13921296516716758)"
      ]
     },
     "execution_count": 37,
     "metadata": {},
     "output_type": "execute_result"
    }
   ],
   "source": [
    "stats.ttest_ind(f_movies_mid.Tags, m_movies_mid.Tags, equal_var=False)"
   ]
  },
  {
   "cell_type": "code",
   "execution_count": 38,
   "metadata": {},
   "outputs": [
    {
     "data": {
      "text/plain": [
       "Ttest_indResult(statistic=-1.3147384632169103, pvalue=0.1887171259364743)"
      ]
     },
     "execution_count": 38,
     "metadata": {},
     "output_type": "execute_result"
    }
   ],
   "source": [
    "stats.ttest_ind(f_movies_late.Tags, m_movies_late.Tags, equal_var=False)"
   ]
  },
  {
   "cell_type": "markdown",
   "metadata": {},
   "source": [
    "Within each era, there is no significant difference between how male and female characters use tag questions.\n",
    "\n",
    "#### Gender Across Companies"
   ]
  },
  {
   "cell_type": "code",
   "execution_count": 39,
   "metadata": {},
   "outputs": [],
   "source": [
    "## Across companies\n",
    "f_movies_disney = f_movies[f_movies.Disney_Period != 'DREAMWORKS']\n",
    "f_movies_dw = f_movies[f_movies.Disney_Period == 'DREAMWORKS']\n",
    "\n",
    "m_movies_disney = m_movies[m_movies.Disney_Period != 'DREAMWORKS']\n",
    "m_movies_dw = m_movies[m_movies.Disney_Period == 'DREAMWORKS']"
   ]
  },
  {
   "cell_type": "code",
   "execution_count": 40,
   "metadata": {},
   "outputs": [
    {
     "data": {
      "text/plain": [
       "Ttest_indResult(statistic=0.46369198086342445, pvalue=0.6428845056068442)"
      ]
     },
     "execution_count": 40,
     "metadata": {},
     "output_type": "execute_result"
    }
   ],
   "source": [
    "## Between male and female characters is disney films\n",
    "stats.ttest_ind(m_movies_disney.Tags, f_movies_disney.Tags, equal_var=False)"
   ]
  },
  {
   "cell_type": "code",
   "execution_count": 41,
   "metadata": {},
   "outputs": [
    {
     "data": {
      "text/plain": [
       "Ttest_indResult(statistic=-0.5221524265381164, pvalue=0.6016226714025474)"
      ]
     },
     "execution_count": 41,
     "metadata": {},
     "output_type": "execute_result"
    }
   ],
   "source": [
    "## Between male and female characters in Dreamworks Films\n",
    "stats.ttest_ind(m_movies_dw.Tags, f_movies_dw.Tags, equal_var=False)"
   ]
  },
  {
   "cell_type": "code",
   "execution_count": 42,
   "metadata": {},
   "outputs": [
    {
     "data": {
      "text/plain": [
       "Ttest_indResult(statistic=0.9954742201317947, pvalue=0.319537644936342)"
      ]
     },
     "execution_count": 42,
     "metadata": {},
     "output_type": "execute_result"
    }
   ],
   "source": [
    "## Between male characters in Dreamworks and Disney\n",
    "stats.ttest_ind(m_movies_disney.Tags, m_movies_dw.Tags, equal_var=False)"
   ]
  },
  {
   "cell_type": "code",
   "execution_count": 43,
   "metadata": {},
   "outputs": [
    {
     "data": {
      "text/plain": [
       "Ttest_indResult(statistic=-0.18477356342909054, pvalue=0.8534204124922113)"
      ]
     },
     "execution_count": 43,
     "metadata": {},
     "output_type": "execute_result"
    }
   ],
   "source": [
    "## Between female charactres in Dreamworks and Disney\n",
    "stats.ttest_ind(f_movies_disney.Tags, f_movies_dw.Tags, equal_var=False)"
   ]
  },
  {
   "cell_type": "markdown",
   "metadata": {},
   "source": [
    "No significant differences across production companies. "
   ]
  },
  {
   "cell_type": "markdown",
   "metadata": {},
   "source": [
    "### Role"
   ]
  },
  {
   "cell_type": "code",
   "execution_count": 44,
   "metadata": {},
   "outputs": [],
   "source": [
    "pro_movies = movies_df[movies_df.Role == 'PRO']\n",
    "ant_movies = movies_df[movies_df.Role == 'ANT']\n",
    "helper_movies = movies_df[movies_df.Role == 'HELPER']"
   ]
  },
  {
   "cell_type": "code",
   "execution_count": 45,
   "metadata": {},
   "outputs": [
    {
     "data": {
      "text/plain": [
       "F_onewayResult(statistic=3.0150996343016065, pvalue=0.04908024774749462)"
      ]
     },
     "execution_count": 45,
     "metadata": {},
     "output_type": "execute_result"
    }
   ],
   "source": [
    "stats.f_oneway(pro_movies.Tags, ant_movies.Tags, helper_movies.Tags)"
   ]
  },
  {
   "cell_type": "markdown",
   "metadata": {},
   "source": [
    "With a p-value of 0.049, this just meets our threshold of significance."
   ]
  },
  {
   "cell_type": "code",
   "execution_count": 46,
   "metadata": {},
   "outputs": [
    {
     "data": {
      "text/plain": [
       "Ttest_indResult(statistic=2.4919509821322685, pvalue=0.012742378998886484)"
      ]
     },
     "execution_count": 46,
     "metadata": {},
     "output_type": "execute_result"
    }
   ],
   "source": [
    "stats.ttest_ind(pro_movies.Tags, ant_movies.Tags, equal_var=False)"
   ]
  },
  {
   "cell_type": "code",
   "execution_count": 47,
   "metadata": {},
   "outputs": [
    {
     "data": {
      "text/plain": [
       "Ttest_indResult(statistic=1.5191826294849557, pvalue=0.12875685516289267)"
      ]
     },
     "execution_count": 47,
     "metadata": {},
     "output_type": "execute_result"
    }
   ],
   "source": [
    "stats.ttest_ind(pro_movies.Tags, helper_movies.Tags, equal_var=False)"
   ]
  },
  {
   "cell_type": "code",
   "execution_count": 48,
   "metadata": {},
   "outputs": [
    {
     "data": {
      "text/plain": [
       "Ttest_indResult(statistic=1.0406219976429807, pvalue=0.29810493157644463)"
      ]
     },
     "execution_count": 48,
     "metadata": {},
     "output_type": "execute_result"
    }
   ],
   "source": [
    "stats.ttest_ind(helper_movies.Tags, ant_movies.Tags, equal_var=False)"
   ]
  },
  {
   "cell_type": "markdown",
   "metadata": {},
   "source": [
    "While there's no significant difference between helper characters' and other characters' use of tags, there is a significant difference between how protagonists and antagonists use tags. With a p-value of 0.01, protagonists use significantly more tags than villains"
   ]
  },
  {
   "cell_type": "markdown",
   "metadata": {},
   "source": [
    "### Role over Time"
   ]
  },
  {
   "cell_type": "code",
   "execution_count": 49,
   "metadata": {},
   "outputs": [],
   "source": [
    "pro_movies_early = pro_movies[pro_movies.Disney_Period == 'EARLY']\n",
    "pro_movies_mid = pro_movies[pro_movies.Disney_Period == 'MID']\n",
    "pro_movies_late = pro_movies[pro_movies.Disney_Period == 'LATE']\n",
    "\n",
    "ant_movies_early = ant_movies[ant_movies.Disney_Period == 'EARLY']\n",
    "ant_movies_mid = ant_movies[ant_movies.Disney_Period == 'MID']\n",
    "ant_movies_late = ant_movies[ant_movies.Disney_Period == 'LATE']"
   ]
  },
  {
   "cell_type": "code",
   "execution_count": 50,
   "metadata": {},
   "outputs": [
    {
     "data": {
      "text/plain": [
       "F_onewayResult(statistic=0.5489796378740532, pvalue=0.5775962613387216)"
      ]
     },
     "execution_count": 50,
     "metadata": {},
     "output_type": "execute_result"
    }
   ],
   "source": [
    "## Protagonists over Time\n",
    "stats.f_oneway(pro_movies_early.Tags, pro_movies_mid.Tags, pro_movies_late.Tags)"
   ]
  },
  {
   "cell_type": "code",
   "execution_count": 51,
   "metadata": {},
   "outputs": [
    {
     "data": {
      "text/plain": [
       "Ttest_indResult(statistic=-1.0307132077652381, pvalue=0.30326275494210103)"
      ]
     },
     "execution_count": 51,
     "metadata": {},
     "output_type": "execute_result"
    }
   ],
   "source": [
    "stats.ttest_ind(pro_movies_early.Tags, pro_movies_mid.Tags, equal_var=False)"
   ]
  },
  {
   "cell_type": "code",
   "execution_count": 52,
   "metadata": {},
   "outputs": [
    {
     "data": {
      "text/plain": [
       "Ttest_indResult(statistic=-0.38658738078381427, pvalue=0.699091829092769)"
      ]
     },
     "execution_count": 52,
     "metadata": {},
     "output_type": "execute_result"
    }
   ],
   "source": [
    "stats.ttest_ind(pro_movies_mid.Tags, pro_movies_late.Tags, equal_var=False)"
   ]
  },
  {
   "cell_type": "code",
   "execution_count": 53,
   "metadata": {},
   "outputs": [
    {
     "data": {
      "text/plain": [
       "Ttest_indResult(statistic=-1.289694932877078, pvalue=0.19782985431874164)"
      ]
     },
     "execution_count": 53,
     "metadata": {},
     "output_type": "execute_result"
    }
   ],
   "source": [
    "stats.ttest_ind(pro_movies_early.Tags, pro_movies_late.Tags, equal_var=False)"
   ]
  },
  {
   "cell_type": "markdown",
   "metadata": {},
   "source": [
    "There's no significant difference in how protagonists use hedges over time"
   ]
  },
  {
   "cell_type": "code",
   "execution_count": 54,
   "metadata": {},
   "outputs": [
    {
     "data": {
      "text/plain": [
       "F_onewayResult(statistic=1.5978665095256384, pvalue=0.20277697794859678)"
      ]
     },
     "execution_count": 54,
     "metadata": {},
     "output_type": "execute_result"
    }
   ],
   "source": [
    "## Antagonists over Time\n",
    "stats.f_oneway(ant_movies_early.Tags, ant_movies_mid.Tags, ant_movies_late.Tags)"
   ]
  },
  {
   "cell_type": "code",
   "execution_count": 55,
   "metadata": {},
   "outputs": [
    {
     "data": {
      "text/plain": [
       "Ttest_indResult(statistic=-2.3177442991806214, pvalue=0.020745995306482575)"
      ]
     },
     "execution_count": 55,
     "metadata": {},
     "output_type": "execute_result"
    }
   ],
   "source": [
    "stats.ttest_ind(ant_movies_early.Tags, ant_movies_mid.Tags, equal_var=False)"
   ]
  },
  {
   "cell_type": "code",
   "execution_count": 56,
   "metadata": {},
   "outputs": [
    {
     "data": {
      "text/plain": [
       "Ttest_indResult(statistic=-0.06651665763154112, pvalue=0.946982601503761)"
      ]
     },
     "execution_count": 56,
     "metadata": {},
     "output_type": "execute_result"
    }
   ],
   "source": [
    "stats.ttest_ind(ant_movies_mid.Tags, ant_movies_late.Tags, equal_var=False)"
   ]
  },
  {
   "cell_type": "code",
   "execution_count": 57,
   "metadata": {},
   "outputs": [
    {
     "data": {
      "text/plain": [
       "Ttest_indResult(statistic=-2.0654991700664764, pvalue=0.03929966784787628)"
      ]
     },
     "execution_count": 57,
     "metadata": {},
     "output_type": "execute_result"
    }
   ],
   "source": [
    "stats.ttest_ind(ant_movies_early.Tags, ant_movies_late.Tags, equal_var=False)"
   ]
  },
  {
   "cell_type": "markdown",
   "metadata": {},
   "source": [
    "While over all three eras there is no significant difference, early antagonists use significantly fewer tags than later antagonists. This is pretty interesting, considering the antagonists in Snow White, Cinderella, and Sleeping Beauty are all female. "
   ]
  },
  {
   "cell_type": "code",
   "execution_count": 58,
   "metadata": {},
   "outputs": [
    {
     "data": {
      "text/plain": [
       "Ttest_indResult(statistic=1.5004489299496062, pvalue=0.13425579229093898)"
      ]
     },
     "execution_count": 58,
     "metadata": {},
     "output_type": "execute_result"
    }
   ],
   "source": [
    "## Protagonists vs Antagonists w/in each Era\n",
    "stats.ttest_ind(pro_movies_early.Tags, ant_movies_early.Tags, equal_var=False)"
   ]
  },
  {
   "cell_type": "code",
   "execution_count": 59,
   "metadata": {},
   "outputs": [
    {
     "data": {
      "text/plain": [
       "Ttest_indResult(statistic=0.604261117008597, pvalue=0.5457995192020235)"
      ]
     },
     "execution_count": 59,
     "metadata": {},
     "output_type": "execute_result"
    }
   ],
   "source": [
    "stats.ttest_ind(pro_movies_mid.Tags, ant_movies_mid.Tags, equal_var=False)"
   ]
  },
  {
   "cell_type": "code",
   "execution_count": 60,
   "metadata": {},
   "outputs": [
    {
     "data": {
      "text/plain": [
       "Ttest_indResult(statistic=0.7030056918494003, pvalue=0.4822864766593814)"
      ]
     },
     "execution_count": 60,
     "metadata": {},
     "output_type": "execute_result"
    }
   ],
   "source": [
    "stats.ttest_ind(pro_movies_late.Tags, ant_movies_late.Tags, equal_var=False)"
   ]
  },
  {
   "cell_type": "markdown",
   "metadata": {},
   "source": [
    "Within each era, protagonists tend to use more tags than antagonists, but this difference is not significant"
   ]
  },
  {
   "cell_type": "markdown",
   "metadata": {},
   "source": [
    "### Role Across Companies"
   ]
  },
  {
   "cell_type": "code",
   "execution_count": 61,
   "metadata": {},
   "outputs": [],
   "source": [
    "ant_movies_disney = ant_movies[ant_movies.Disney_Period != 'DREAMWORKS']\n",
    "ant_movies_dw = ant_movies[ant_movies.Disney_Period == 'DREAMWORKS']\n",
    "\n",
    "pro_movies_disney = pro_movies[pro_movies.Disney_Period != 'DREAMWORKS']\n",
    "pro_movies_dw = pro_movies[pro_movies.Disney_Period == 'DREAMWORKS']"
   ]
  },
  {
   "cell_type": "code",
   "execution_count": 62,
   "metadata": {},
   "outputs": [
    {
     "data": {
      "text/plain": [
       "Ttest_indResult(statistic=0.46269983730454667, pvalue=0.6436297043052974)"
      ]
     },
     "execution_count": 62,
     "metadata": {},
     "output_type": "execute_result"
    }
   ],
   "source": [
    "## Antagonists across Companies\n",
    "stats.ttest_ind(ant_movies_disney.Tags, ant_movies_dw.Tags, equal_var=False)"
   ]
  },
  {
   "cell_type": "code",
   "execution_count": 63,
   "metadata": {},
   "outputs": [
    {
     "data": {
      "text/plain": [
       "Ttest_indResult(statistic=0.3199139945234323, pvalue=0.7490451378002192)"
      ]
     },
     "execution_count": 63,
     "metadata": {},
     "output_type": "execute_result"
    }
   ],
   "source": [
    "## Protagonists across Companies\n",
    "stats.ttest_ind(pro_movies_disney.Tags, pro_movies_dw.Tags, equal_var=False)"
   ]
  },
  {
   "cell_type": "code",
   "execution_count": 64,
   "metadata": {},
   "outputs": [
    {
     "data": {
      "text/plain": [
       "Ttest_indResult(statistic=1.642310602959358, pvalue=0.10065356181300432)"
      ]
     },
     "execution_count": 64,
     "metadata": {},
     "output_type": "execute_result"
    }
   ],
   "source": [
    "## Antagonists vs Protagonists in Disney\n",
    "stats.ttest_ind(pro_movies_disney.Tags, ant_movies_disney.Tags, equal_var=False)"
   ]
  },
  {
   "cell_type": "code",
   "execution_count": 65,
   "metadata": {},
   "outputs": [
    {
     "data": {
      "text/plain": [
       "Ttest_indResult(statistic=1.9738424199920575, pvalue=0.04855260490865823)"
      ]
     },
     "execution_count": 65,
     "metadata": {},
     "output_type": "execute_result"
    }
   ],
   "source": [
    "## Antagonists vs Protagonists in DreamWorks\n",
    "stats.ttest_ind(pro_movies_dw.Tags, ant_movies_dw.Tags, equal_var=False)"
   ]
  },
  {
   "cell_type": "markdown",
   "metadata": {},
   "source": [
    "Across companies, there's no significant difference between how antagonists use tags or how protagonists use tags. Within Diseny, there's no signficant difference between how antagonists and protagonists use tags, though protagonists use more. In Dreamworks, protagonists also use more tags, and this difference is just under our p-value threshold of 0.05."
   ]
  },
  {
   "cell_type": "markdown",
   "metadata": {},
   "source": [
    "### Gender and Role"
   ]
  },
  {
   "cell_type": "code",
   "execution_count": 66,
   "metadata": {},
   "outputs": [],
   "source": [
    "movies_gen_role = movies_df[(movies_df.Gender != 'n') & (movies_df.Role != 'N')]"
   ]
  },
  {
   "cell_type": "code",
   "execution_count": 67,
   "metadata": {},
   "outputs": [],
   "source": [
    "pro_f_movies = movies_gen_role[(movies_gen_role.Gender == 'f') & (movies_gen_role.Role == 'PRO')]\n",
    "pro_m_movies = movies_gen_role[(movies_gen_role.Gender == 'm') & (movies_gen_role.Role == 'PRO')]\n",
    "\n",
    "ant_f_movies = movies_gen_role[(movies_gen_role.Gender == 'f') & (movies_gen_role.Role == 'ANT')]\n",
    "ant_m_movies = movies_gen_role[(movies_gen_role.Gender == 'm') & (movies_gen_role.Role == 'ANT')]"
   ]
  },
  {
   "cell_type": "code",
   "execution_count": 68,
   "metadata": {},
   "outputs": [
    {
     "data": {
      "text/plain": [
       "Ttest_indResult(statistic=-1.1885086459864735, pvalue=0.2346870165094008)"
      ]
     },
     "execution_count": 68,
     "metadata": {},
     "output_type": "execute_result"
    }
   ],
   "source": [
    "stats.ttest_ind(pro_f_movies.Tags, pro_m_movies.Tags, equal_var=False)"
   ]
  },
  {
   "cell_type": "code",
   "execution_count": 69,
   "metadata": {},
   "outputs": [
    {
     "data": {
      "text/plain": [
       "Ttest_indResult(statistic=-0.5326600627532287, pvalue=0.5944130590293075)"
      ]
     },
     "execution_count": 69,
     "metadata": {},
     "output_type": "execute_result"
    }
   ],
   "source": [
    "stats.ttest_ind(ant_f_movies.Tags, ant_m_movies.Tags, equal_var=False)"
   ]
  },
  {
   "cell_type": "code",
   "execution_count": 70,
   "metadata": {},
   "outputs": [
    {
     "data": {
      "text/plain": [
       "Ttest_indResult(statistic=1.3673096453078295, pvalue=0.1719195237477547)"
      ]
     },
     "execution_count": 70,
     "metadata": {},
     "output_type": "execute_result"
    }
   ],
   "source": [
    "stats.ttest_ind(pro_f_movies.Tags, ant_f_movies.Tags, equal_var=False)"
   ]
  },
  {
   "cell_type": "code",
   "execution_count": 71,
   "metadata": {},
   "outputs": [
    {
     "data": {
      "text/plain": [
       "Ttest_indResult(statistic=2.357622852543814, pvalue=0.01844622485308393)"
      ]
     },
     "execution_count": 71,
     "metadata": {},
     "output_type": "execute_result"
    }
   ],
   "source": [
    "stats.ttest_ind(pro_m_movies.Tags, ant_m_movies.Tags, equal_var=False)"
   ]
  },
  {
   "cell_type": "markdown",
   "metadata": {},
   "source": [
    "The only significant difference here is how male protagonists and male antagonists use tags. Notice that while female protagonists use more tags than female antagonists, this is not a significant difference. Also, notice that while female protagonists use fewer tags than male protagonists, this is also not significant."
   ]
  },
  {
   "cell_type": "code",
   "execution_count": null,
   "metadata": {},
   "outputs": [],
   "source": []
  }
 ],
 "metadata": {
  "kernelspec": {
   "display_name": "Python 3",
   "language": "python",
   "name": "python3"
  },
  "language_info": {
   "codemirror_mode": {
    "name": "ipython",
    "version": 3
   },
   "file_extension": ".py",
   "mimetype": "text/x-python",
   "name": "python",
   "nbconvert_exporter": "python",
   "pygments_lexer": "ipython3",
   "version": "3.6.4"
  }
 },
 "nbformat": 4,
 "nbformat_minor": 2
}
