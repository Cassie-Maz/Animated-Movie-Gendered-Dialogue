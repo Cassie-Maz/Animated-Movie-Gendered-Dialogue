{
 "cells": [
  {
   "cell_type": "markdown",
   "metadata": {},
   "source": [
    "# Significance Tests\n",
    "After I found all those differences in TTR, Adjective Counts, etc.--do they mean anything?"
   ]
  },
  {
   "cell_type": "code",
   "execution_count": 1,
   "metadata": {},
   "outputs": [],
   "source": [
    "import pandas as pd\n",
    "import scipy"
   ]
  },
  {
   "cell_type": "code",
   "execution_count": 2,
   "metadata": {},
   "outputs": [],
   "source": [
    "movie_df = pd.read_pickle(r'C:/Users/cassi/Desktop/Data_Science/Animated-Movie-Gendered-Dialogue/private/all_tagged_dialogue.pkl')"
   ]
  },
  {
   "cell_type": "code",
   "execution_count": 3,
   "metadata": {},
   "outputs": [
    {
     "name": "stdout",
     "output_type": "stream",
     "text": [
      "<class 'pandas.core.frame.DataFrame'>\n",
      "Int64Index: 13442 entries, 0 to 14095\n",
      "Data columns (total 17 columns):\n",
      "Disney_Period       13442 non-null object\n",
      "Gender              13442 non-null object\n",
      "Movie               13442 non-null object\n",
      "Role                13442 non-null object\n",
      "Song                13442 non-null object\n",
      "Speaker             13442 non-null object\n",
      "Speaker_Status      13442 non-null object\n",
      "Text                13442 non-null object\n",
      "UTTERANCE_NUMBER    13442 non-null int64\n",
      "Year                13442 non-null int64\n",
      "Tokens              13442 non-null object\n",
      "Types               13442 non-null object\n",
      "Token_Count         13442 non-null int64\n",
      "Type_Count          13442 non-null int64\n",
      "POS                 13442 non-null object\n",
      "Tag_Freq            13442 non-null object\n",
      "Command_Count       13442 non-null int64\n",
      "dtypes: int64(5), object(12)\n",
      "memory usage: 1.2+ MB\n"
     ]
    }
   ],
   "source": [
    "movie_df.info()"
   ]
  },
  {
   "cell_type": "code",
   "execution_count": 4,
   "metadata": {},
   "outputs": [],
   "source": [
    "f_movie_df = movie_df[movie_df.Gender == 'f']\n",
    "m_movie_df = movie_df[movie_df.Gender == 'm']"
   ]
  },
  {
   "cell_type": "code",
   "execution_count": 14,
   "metadata": {},
   "outputs": [],
   "source": [
    "pro_movie_df = movie_df[movie_df.Role == 'PRO']\n",
    "ant_movie_df = movie_df[movie_df.Role == 'ANT']\n",
    "help_movie_df = movie_df[movie_df.Role == 'HELPER']"
   ]
  },
  {
   "cell_type": "markdown",
   "metadata": {},
   "source": [
    "## Token and Type Stats\n",
    "and randomly commands, too\n",
    "### Gender"
   ]
  },
  {
   "cell_type": "code",
   "execution_count": 8,
   "metadata": {},
   "outputs": [
    {
     "data": {
      "text/plain": [
       "Ttest_indResult(statistic=-4.094583947758668, pvalue=4.271602422580622e-05)"
      ]
     },
     "execution_count": 8,
     "metadata": {},
     "output_type": "execute_result"
    }
   ],
   "source": [
    "scipy.stats.ttest_ind(f_movie_df.Token_Count, m_movie_df.Token_Count, equal_var = False)"
   ]
  },
  {
   "cell_type": "code",
   "execution_count": 9,
   "metadata": {},
   "outputs": [],
   "source": [
    "#Wow, that's a super small p value...BUT, could this be influenced by my sample size?"
   ]
  },
  {
   "cell_type": "code",
   "execution_count": 10,
   "metadata": {},
   "outputs": [
    {
     "data": {
      "text/plain": [
       "Ttest_indResult(statistic=-4.923396910028177, pvalue=8.671647557539395e-07)"
      ]
     },
     "execution_count": 10,
     "metadata": {},
     "output_type": "execute_result"
    }
   ],
   "source": [
    "scipy.stats.ttest_ind(f_movie_df.Type_Count, m_movie_df.Type_Count, equal_var = False)"
   ]
  },
  {
   "cell_type": "code",
   "execution_count": 11,
   "metadata": {},
   "outputs": [],
   "source": [
    "#An even smaller p-value"
   ]
  },
  {
   "cell_type": "markdown",
   "metadata": {},
   "source": [
    "### Role"
   ]
  },
  {
   "cell_type": "code",
   "execution_count": 15,
   "metadata": {},
   "outputs": [
    {
     "data": {
      "text/plain": [
       "Ttest_indResult(statistic=-3.697383277420495, pvalue=0.00022111887110217427)"
      ]
     },
     "execution_count": 15,
     "metadata": {},
     "output_type": "execute_result"
    }
   ],
   "source": [
    "scipy.stats.ttest_ind(pro_movie_df.Token_Count, ant_movie_df.Token_Count, equal_var = False)"
   ]
  },
  {
   "cell_type": "code",
   "execution_count": null,
   "metadata": {},
   "outputs": [],
   "source": [
    "#not as big a difference compared to gender, but still significant (if you take p=0.05 to be the threshold)"
   ]
  },
  {
   "cell_type": "code",
   "execution_count": 16,
   "metadata": {},
   "outputs": [
    {
     "data": {
      "text/plain": [
       "Ttest_indResult(statistic=-4.923396910028177, pvalue=8.671647557539395e-07)"
      ]
     },
     "execution_count": 16,
     "metadata": {},
     "output_type": "execute_result"
    }
   ],
   "source": [
    "scipy.stats.ttest_ind(f_movie_df.Type_Count, m_movie_df.Type_Count, equal_var = False)"
   ]
  },
  {
   "cell_type": "code",
   "execution_count": null,
   "metadata": {},
   "outputs": [],
   "source": [
    "#big difference here..."
   ]
  },
  {
   "cell_type": "code",
   "execution_count": 17,
   "metadata": {},
   "outputs": [
    {
     "data": {
      "text/plain": [
       "Ttest_indResult(statistic=-3.279047799658298, pvalue=0.0010518100913076266)"
      ]
     },
     "execution_count": 17,
     "metadata": {},
     "output_type": "execute_result"
    }
   ],
   "source": [
    "scipy.stats.ttest_ind(pro_movie_df.Command_Count, ant_movie_df.Command_Count, equal_var = False)"
   ]
  },
  {
   "cell_type": "code",
   "execution_count": 13,
   "metadata": {},
   "outputs": [],
   "source": [
    "#not that significant...but this may change when I modify my command stats"
   ]
  },
  {
   "cell_type": "markdown",
   "metadata": {},
   "source": [
    "#### What about Total Token and Type Counts"
   ]
  },
  {
   "cell_type": "code",
   "execution_count": 18,
   "metadata": {},
   "outputs": [],
   "source": [
    "char_df = pd.read_pickle(r'C:/Users/cassi/Desktop/Data_Science/Animated-Movie-Gendered-Dialogue/private/char_toks.pkl')"
   ]
  },
  {
   "cell_type": "code",
   "execution_count": 28,
   "metadata": {},
   "outputs": [],
   "source": [
    "#no significant difference here either\n",
    "char_df['TTR'] = char_df.Total_Type_Count / char_df.Total_Tok_Count"
   ]
  },
  {
   "cell_type": "code",
   "execution_count": 29,
   "metadata": {},
   "outputs": [
    {
     "name": "stdout",
     "output_type": "stream",
     "text": [
      "<class 'pandas.core.frame.DataFrame'>\n",
      "RangeIndex: 632 entries, 0 to 631\n",
      "Data columns (total 12 columns):\n",
      "Disney_Period       632 non-null object\n",
      "Gender              632 non-null object\n",
      "Movie               632 non-null object\n",
      "Role                632 non-null object\n",
      "Speaker             632 non-null object\n",
      "Speaker_Status      632 non-null object\n",
      "Total_Tok_Count     632 non-null float64\n",
      "Total_Toks          632 non-null object\n",
      "Total_Type_Count    632 non-null float64\n",
      "Total_Types         632 non-null object\n",
      "Year                632 non-null object\n",
      "TTR                 632 non-null float64\n",
      "dtypes: float64(3), object(9)\n",
      "memory usage: 37.1+ KB\n"
     ]
    }
   ],
   "source": [
    "char_df.info()"
   ]
  },
  {
   "cell_type": "code",
   "execution_count": 30,
   "metadata": {},
   "outputs": [],
   "source": [
    "f_chars = char_df[char_df.Gender == 'f']\n",
    "m_chars = char_df[char_df.Gender == 'm']"
   ]
  },
  {
   "cell_type": "code",
   "execution_count": 31,
   "metadata": {},
   "outputs": [
    {
     "data": {
      "text/plain": [
       "Ttest_indResult(statistic=0.5818365410871014, pvalue=0.561135928401851)"
      ]
     },
     "execution_count": 31,
     "metadata": {},
     "output_type": "execute_result"
    }
   ],
   "source": [
    "scipy.stats.ttest_ind(f_chars.Total_Tok_Count, m_chars.Total_Tok_Count, equal_var = False)"
   ]
  },
  {
   "cell_type": "code",
   "execution_count": 32,
   "metadata": {},
   "outputs": [],
   "source": [
    "#no significant difference here"
   ]
  },
  {
   "cell_type": "code",
   "execution_count": 33,
   "metadata": {},
   "outputs": [
    {
     "data": {
      "text/plain": [
       "Ttest_indResult(statistic=0.6666518458606242, pvalue=0.5055478790046386)"
      ]
     },
     "execution_count": 33,
     "metadata": {},
     "output_type": "execute_result"
    }
   ],
   "source": [
    "scipy.stats.ttest_ind(f_chars.Total_Type_Count, m_chars.Total_Type_Count, equal_var = False)"
   ]
  },
  {
   "cell_type": "code",
   "execution_count": 35,
   "metadata": {},
   "outputs": [
    {
     "data": {
      "text/plain": [
       "Ttest_indResult(statistic=-0.9967546797195583, pvalue=0.31987931875373893)"
      ]
     },
     "execution_count": 35,
     "metadata": {},
     "output_type": "execute_result"
    }
   ],
   "source": [
    "scipy.stats.ttest_ind(f_chars.TTR, m_chars.TTR, equal_var = False)"
   ]
  },
  {
   "cell_type": "code",
   "execution_count": 36,
   "metadata": {},
   "outputs": [],
   "source": [
    "#nope, no significant difference. what about by role?\n",
    "pro_chars = char_df[char_df.Role == 'PRO']\n",
    "ant_chars = char_df[char_df.Role == 'ANT']\n",
    "helper_chars = char_df[char_df.Role == 'HELPER']"
   ]
  },
  {
   "cell_type": "code",
   "execution_count": 37,
   "metadata": {},
   "outputs": [
    {
     "data": {
      "text/plain": [
       "Ttest_indResult(statistic=-4.3639708178868295, pvalue=2.8550625202274174e-05)"
      ]
     },
     "execution_count": 37,
     "metadata": {},
     "output_type": "execute_result"
    }
   ],
   "source": [
    "scipy.stats.ttest_ind(pro_chars.TTR, ant_chars.TTR, equal_var = False)\n",
    "#definite difference here!!"
   ]
  },
  {
   "cell_type": "markdown",
   "metadata": {},
   "source": [
    "## Adjective Counts"
   ]
  },
  {
   "cell_type": "code",
   "execution_count": 38,
   "metadata": {},
   "outputs": [],
   "source": [
    "movie_df['Adj_Count'] = movie_df['Tag_Freq'].map(lambda x: x['JJ']+x['JJR']+x['JJS'])"
   ]
  },
  {
   "cell_type": "code",
   "execution_count": 39,
   "metadata": {},
   "outputs": [],
   "source": [
    "f_movie_df = movie_df[movie_df.Gender == 'f']\n",
    "m_movie_df = movie_df[movie_df.Gender == 'm']"
   ]
  },
  {
   "cell_type": "code",
   "execution_count": 40,
   "metadata": {},
   "outputs": [],
   "source": [
    "pro_movie_df = movie_df[movie_df.Role == 'PRO']\n",
    "ant_movie_df = movie_df[movie_df.Role == 'ANT']\n",
    "help_movie_df = movie_df[movie_df.Role == 'HELPER']"
   ]
  },
  {
   "cell_type": "code",
   "execution_count": 41,
   "metadata": {},
   "outputs": [
    {
     "data": {
      "text/plain": [
       "0    3\n",
       "1    0\n",
       "2    2\n",
       "3    3\n",
       "4    0\n",
       "Name: Adj_Count, dtype: int64"
      ]
     },
     "execution_count": 41,
     "metadata": {},
     "output_type": "execute_result"
    }
   ],
   "source": [
    "movie_df.Adj_Count.iloc[0:5]"
   ]
  },
  {
   "cell_type": "code",
   "execution_count": 42,
   "metadata": {},
   "outputs": [
    {
     "data": {
      "text/plain": [
       "Ttest_indResult(statistic=-4.543244469115594, pvalue=5.616147420570722e-06)"
      ]
     },
     "execution_count": 42,
     "metadata": {},
     "output_type": "execute_result"
    }
   ],
   "source": [
    "scipy.stats.ttest_ind(f_movie_df.Adj_Count, m_movie_df.Adj_Count, equal_var = False)\n",
    "#seems like there's a pretty significant difference here. But how to know this isn't liked to token count?"
   ]
  },
  {
   "cell_type": "code",
   "execution_count": 54,
   "metadata": {},
   "outputs": [
    {
     "data": {
      "text/plain": [
       "Ttest_indResult(statistic=-3.677489820665925, pvalue=0.00023915590690473518)"
      ]
     },
     "execution_count": 54,
     "metadata": {},
     "output_type": "execute_result"
    }
   ],
   "source": [
    "scipy.stats.ttest_ind(pro_movie_df.Adj_Count, ant_movie_df.Adj_Count, equal_var = False)"
   ]
  },
  {
   "cell_type": "code",
   "execution_count": null,
   "metadata": {},
   "outputs": [],
   "source": [
    "#But there IS a significant difference when it comes to role!"
   ]
  },
  {
   "cell_type": "markdown",
   "metadata": {},
   "source": [
    "Since there isn't a significant difference between total token counts between female and male characters, why don't we compare total adjective counts?"
   ]
  },
  {
   "cell_type": "code",
   "execution_count": 43,
   "metadata": {},
   "outputs": [],
   "source": [
    "import nltk"
   ]
  },
  {
   "cell_type": "code",
   "execution_count": 44,
   "metadata": {},
   "outputs": [],
   "source": [
    "char_df['POS'] = char_df[\"Total_Toks\"].map(nltk.pos_tag)"
   ]
  },
  {
   "cell_type": "code",
   "execution_count": 45,
   "metadata": {},
   "outputs": [
    {
     "data": {
      "text/html": [
       "<div>\n",
       "<style scoped>\n",
       "    .dataframe tbody tr th:only-of-type {\n",
       "        vertical-align: middle;\n",
       "    }\n",
       "\n",
       "    .dataframe tbody tr th {\n",
       "        vertical-align: top;\n",
       "    }\n",
       "\n",
       "    .dataframe thead th {\n",
       "        text-align: right;\n",
       "    }\n",
       "</style>\n",
       "<table border=\"1\" class=\"dataframe\">\n",
       "  <thead>\n",
       "    <tr style=\"text-align: right;\">\n",
       "      <th></th>\n",
       "      <th>Disney_Period</th>\n",
       "      <th>Gender</th>\n",
       "      <th>Movie</th>\n",
       "      <th>Role</th>\n",
       "      <th>Speaker</th>\n",
       "      <th>Speaker_Status</th>\n",
       "      <th>Total_Tok_Count</th>\n",
       "      <th>Total_Toks</th>\n",
       "      <th>Total_Type_Count</th>\n",
       "      <th>Total_Types</th>\n",
       "      <th>Year</th>\n",
       "      <th>TTR</th>\n",
       "      <th>POS</th>\n",
       "    </tr>\n",
       "  </thead>\n",
       "  <tbody>\n",
       "    <tr>\n",
       "      <th>0</th>\n",
       "      <td>EARLY</td>\n",
       "      <td>f</td>\n",
       "      <td>Snow White</td>\n",
       "      <td>ANT</td>\n",
       "      <td>queen</td>\n",
       "      <td>NON-P</td>\n",
       "      <td>940.0</td>\n",
       "      <td>[slave, in, the, magic, mirror, come, from, th...</td>\n",
       "      <td>314.0</td>\n",
       "      <td>{menfolks, lies, only, suspect, desires, age, ...</td>\n",
       "      <td>1937</td>\n",
       "      <td>0.334043</td>\n",
       "      <td>[(slave, NN), (in, IN), (the, DT), (magic, JJ)...</td>\n",
       "    </tr>\n",
       "    <tr>\n",
       "      <th>1</th>\n",
       "      <td>EARLY</td>\n",
       "      <td>m</td>\n",
       "      <td>Snow White</td>\n",
       "      <td>ANT</td>\n",
       "      <td>mirror</td>\n",
       "      <td>NON-P</td>\n",
       "      <td>81.0</td>\n",
       "      <td>[what, wouldst, thou, know, ,, my, queen, ?, f...</td>\n",
       "      <td>57.0</td>\n",
       "      <td>{hold, ?, than, ebony, she, thou, my, hide, a,...</td>\n",
       "      <td>1937</td>\n",
       "      <td>0.703704</td>\n",
       "      <td>[(what, WP), (wouldst, VBZ), (thou, NN), (know...</td>\n",
       "    </tr>\n",
       "    <tr>\n",
       "      <th>2</th>\n",
       "      <td>EARLY</td>\n",
       "      <td>m</td>\n",
       "      <td>Snow White</td>\n",
       "      <td>PRO</td>\n",
       "      <td>prince</td>\n",
       "      <td>PRINCE</td>\n",
       "      <td>5.0</td>\n",
       "      <td>[today, hello, ., one, song]</td>\n",
       "      <td>5.0</td>\n",
       "      <td>{today, one, ., hello, song}</td>\n",
       "      <td>1937</td>\n",
       "      <td>1.000000</td>\n",
       "      <td>[(today, NN), (hello, NN), (., .), (one, CD), ...</td>\n",
       "    </tr>\n",
       "    <tr>\n",
       "      <th>3</th>\n",
       "      <td>EARLY</td>\n",
       "      <td>f</td>\n",
       "      <td>Snow White</td>\n",
       "      <td>PRO</td>\n",
       "      <td>snow white</td>\n",
       "      <td>PRINCESS</td>\n",
       "      <td>1231.0</td>\n",
       "      <td>[oh, !, oh, ., hello, there, ., what, 's, the,...</td>\n",
       "      <td>311.0</td>\n",
       "      <td>{why, only, shocking, after, fuss, pickax, uh,...</td>\n",
       "      <td>1937</td>\n",
       "      <td>0.252640</td>\n",
       "      <td>[(oh, UH), (!, .), (oh, UH), (., .), (hello, N...</td>\n",
       "    </tr>\n",
       "    <tr>\n",
       "      <th>4</th>\n",
       "      <td>EARLY</td>\n",
       "      <td>m</td>\n",
       "      <td>Snow White</td>\n",
       "      <td>ANT</td>\n",
       "      <td>guard</td>\n",
       "      <td>NON-P</td>\n",
       "      <td>95.0</td>\n",
       "      <td>[yes, ,, your, majesty, ., but, ,, your, majes...</td>\n",
       "      <td>43.0</td>\n",
       "      <td>{stop, she, hide, queen, !, you, now, n't, 'll...</td>\n",
       "      <td>1937</td>\n",
       "      <td>0.452632</td>\n",
       "      <td>[(yes, UH), (,, ,), (your, PRP$), (majesty, NN...</td>\n",
       "    </tr>\n",
       "  </tbody>\n",
       "</table>\n",
       "</div>"
      ],
      "text/plain": [
       "  Disney_Period Gender       Movie Role     Speaker Speaker_Status  \\\n",
       "0         EARLY      f  Snow White  ANT       queen          NON-P   \n",
       "1         EARLY      m  Snow White  ANT      mirror          NON-P   \n",
       "2         EARLY      m  Snow White  PRO      prince         PRINCE   \n",
       "3         EARLY      f  Snow White  PRO  snow white       PRINCESS   \n",
       "4         EARLY      m  Snow White  ANT       guard          NON-P   \n",
       "\n",
       "   Total_Tok_Count                                         Total_Toks  \\\n",
       "0            940.0  [slave, in, the, magic, mirror, come, from, th...   \n",
       "1             81.0  [what, wouldst, thou, know, ,, my, queen, ?, f...   \n",
       "2              5.0                       [today, hello, ., one, song]   \n",
       "3           1231.0  [oh, !, oh, ., hello, there, ., what, 's, the,...   \n",
       "4             95.0  [yes, ,, your, majesty, ., but, ,, your, majes...   \n",
       "\n",
       "   Total_Type_Count                                        Total_Types  Year  \\\n",
       "0             314.0  {menfolks, lies, only, suspect, desires, age, ...  1937   \n",
       "1              57.0  {hold, ?, than, ebony, she, thou, my, hide, a,...  1937   \n",
       "2               5.0                       {today, one, ., hello, song}  1937   \n",
       "3             311.0  {why, only, shocking, after, fuss, pickax, uh,...  1937   \n",
       "4              43.0  {stop, she, hide, queen, !, you, now, n't, 'll...  1937   \n",
       "\n",
       "        TTR                                                POS  \n",
       "0  0.334043  [(slave, NN), (in, IN), (the, DT), (magic, JJ)...  \n",
       "1  0.703704  [(what, WP), (wouldst, VBZ), (thou, NN), (know...  \n",
       "2  1.000000  [(today, NN), (hello, NN), (., .), (one, CD), ...  \n",
       "3  0.252640  [(oh, UH), (!, .), (oh, UH), (., .), (hello, N...  \n",
       "4  0.452632  [(yes, UH), (,, ,), (your, PRP$), (majesty, NN...  "
      ]
     },
     "execution_count": 45,
     "metadata": {},
     "output_type": "execute_result"
    }
   ],
   "source": [
    "char_df.head()"
   ]
  },
  {
   "cell_type": "code",
   "execution_count": 46,
   "metadata": {},
   "outputs": [],
   "source": [
    "char_df['Tag_Freq'] = char_df['POS'].map(lambda x: nltk.FreqDist(tag for (word, tag) in x))"
   ]
  },
  {
   "cell_type": "code",
   "execution_count": 47,
   "metadata": {},
   "outputs": [],
   "source": [
    "char_df['Adj_Count'] = char_df['Tag_Freq'].map(lambda x: x['JJ']+x['JJR']+x['JJS'])"
   ]
  },
  {
   "cell_type": "code",
   "execution_count": 48,
   "metadata": {},
   "outputs": [
    {
     "data": {
      "text/html": [
       "<div>\n",
       "<style scoped>\n",
       "    .dataframe tbody tr th:only-of-type {\n",
       "        vertical-align: middle;\n",
       "    }\n",
       "\n",
       "    .dataframe tbody tr th {\n",
       "        vertical-align: top;\n",
       "    }\n",
       "\n",
       "    .dataframe thead th {\n",
       "        text-align: right;\n",
       "    }\n",
       "</style>\n",
       "<table border=\"1\" class=\"dataframe\">\n",
       "  <thead>\n",
       "    <tr style=\"text-align: right;\">\n",
       "      <th></th>\n",
       "      <th>Disney_Period</th>\n",
       "      <th>Gender</th>\n",
       "      <th>Movie</th>\n",
       "      <th>Role</th>\n",
       "      <th>Speaker</th>\n",
       "      <th>Speaker_Status</th>\n",
       "      <th>Total_Tok_Count</th>\n",
       "      <th>Total_Toks</th>\n",
       "      <th>Total_Type_Count</th>\n",
       "      <th>Total_Types</th>\n",
       "      <th>Year</th>\n",
       "      <th>TTR</th>\n",
       "      <th>POS</th>\n",
       "      <th>Tag_Freq</th>\n",
       "      <th>Adj_Count</th>\n",
       "    </tr>\n",
       "  </thead>\n",
       "  <tbody>\n",
       "    <tr>\n",
       "      <th>0</th>\n",
       "      <td>EARLY</td>\n",
       "      <td>f</td>\n",
       "      <td>Snow White</td>\n",
       "      <td>ANT</td>\n",
       "      <td>queen</td>\n",
       "      <td>NON-P</td>\n",
       "      <td>940.0</td>\n",
       "      <td>[slave, in, the, magic, mirror, come, from, th...</td>\n",
       "      <td>314.0</td>\n",
       "      <td>{menfolks, lies, only, suspect, desires, age, ...</td>\n",
       "      <td>1937</td>\n",
       "      <td>0.334043</td>\n",
       "      <td>[(slave, NN), (in, IN), (the, DT), (magic, JJ)...</td>\n",
       "      <td>{'NN': 177, 'IN': 62, 'DT': 96, 'JJ': 71, 'VBN...</td>\n",
       "      <td>79</td>\n",
       "    </tr>\n",
       "    <tr>\n",
       "      <th>1</th>\n",
       "      <td>EARLY</td>\n",
       "      <td>m</td>\n",
       "      <td>Snow White</td>\n",
       "      <td>ANT</td>\n",
       "      <td>mirror</td>\n",
       "      <td>NON-P</td>\n",
       "      <td>81.0</td>\n",
       "      <td>[what, wouldst, thou, know, ,, my, queen, ?, f...</td>\n",
       "      <td>57.0</td>\n",
       "      <td>{hold, ?, than, ebony, she, thou, my, hide, a,...</td>\n",
       "      <td>1937</td>\n",
       "      <td>0.703704</td>\n",
       "      <td>[(what, WP), (wouldst, VBZ), (thou, NN), (know...</td>\n",
       "      <td>{'WP': 1, 'VBZ': 5, 'NN': 15, ',': 5, 'PRP$': ...</td>\n",
       "      <td>11</td>\n",
       "    </tr>\n",
       "    <tr>\n",
       "      <th>2</th>\n",
       "      <td>EARLY</td>\n",
       "      <td>m</td>\n",
       "      <td>Snow White</td>\n",
       "      <td>PRO</td>\n",
       "      <td>prince</td>\n",
       "      <td>PRINCE</td>\n",
       "      <td>5.0</td>\n",
       "      <td>[today, hello, ., one, song]</td>\n",
       "      <td>5.0</td>\n",
       "      <td>{today, one, ., hello, song}</td>\n",
       "      <td>1937</td>\n",
       "      <td>1.000000</td>\n",
       "      <td>[(today, NN), (hello, NN), (., .), (one, CD), ...</td>\n",
       "      <td>{'NN': 3, '.': 1, 'CD': 1}</td>\n",
       "      <td>0</td>\n",
       "    </tr>\n",
       "    <tr>\n",
       "      <th>3</th>\n",
       "      <td>EARLY</td>\n",
       "      <td>f</td>\n",
       "      <td>Snow White</td>\n",
       "      <td>PRO</td>\n",
       "      <td>snow white</td>\n",
       "      <td>PRINCESS</td>\n",
       "      <td>1231.0</td>\n",
       "      <td>[oh, !, oh, ., hello, there, ., what, 's, the,...</td>\n",
       "      <td>311.0</td>\n",
       "      <td>{why, only, shocking, after, fuss, pickax, uh,...</td>\n",
       "      <td>1937</td>\n",
       "      <td>0.252640</td>\n",
       "      <td>[(oh, UH), (!, .), (oh, UH), (., .), (hello, N...</td>\n",
       "      <td>{'UH': 35, '.': 183, 'NN': 152, 'RB': 84, 'WP'...</td>\n",
       "      <td>79</td>\n",
       "    </tr>\n",
       "    <tr>\n",
       "      <th>4</th>\n",
       "      <td>EARLY</td>\n",
       "      <td>m</td>\n",
       "      <td>Snow White</td>\n",
       "      <td>ANT</td>\n",
       "      <td>guard</td>\n",
       "      <td>NON-P</td>\n",
       "      <td>95.0</td>\n",
       "      <td>[yes, ,, your, majesty, ., but, ,, your, majes...</td>\n",
       "      <td>43.0</td>\n",
       "      <td>{stop, she, hide, queen, !, you, now, n't, 'll...</td>\n",
       "      <td>1937</td>\n",
       "      <td>0.452632</td>\n",
       "      <td>[(yes, UH), (,, ,), (your, PRP$), (majesty, NN...</td>\n",
       "      <td>{'UH': 2, ',': 10, 'PRP$': 4, 'NN': 14, '.': 2...</td>\n",
       "      <td>7</td>\n",
       "    </tr>\n",
       "  </tbody>\n",
       "</table>\n",
       "</div>"
      ],
      "text/plain": [
       "  Disney_Period Gender       Movie Role     Speaker Speaker_Status  \\\n",
       "0         EARLY      f  Snow White  ANT       queen          NON-P   \n",
       "1         EARLY      m  Snow White  ANT      mirror          NON-P   \n",
       "2         EARLY      m  Snow White  PRO      prince         PRINCE   \n",
       "3         EARLY      f  Snow White  PRO  snow white       PRINCESS   \n",
       "4         EARLY      m  Snow White  ANT       guard          NON-P   \n",
       "\n",
       "   Total_Tok_Count                                         Total_Toks  \\\n",
       "0            940.0  [slave, in, the, magic, mirror, come, from, th...   \n",
       "1             81.0  [what, wouldst, thou, know, ,, my, queen, ?, f...   \n",
       "2              5.0                       [today, hello, ., one, song]   \n",
       "3           1231.0  [oh, !, oh, ., hello, there, ., what, 's, the,...   \n",
       "4             95.0  [yes, ,, your, majesty, ., but, ,, your, majes...   \n",
       "\n",
       "   Total_Type_Count                                        Total_Types  Year  \\\n",
       "0             314.0  {menfolks, lies, only, suspect, desires, age, ...  1937   \n",
       "1              57.0  {hold, ?, than, ebony, she, thou, my, hide, a,...  1937   \n",
       "2               5.0                       {today, one, ., hello, song}  1937   \n",
       "3             311.0  {why, only, shocking, after, fuss, pickax, uh,...  1937   \n",
       "4              43.0  {stop, she, hide, queen, !, you, now, n't, 'll...  1937   \n",
       "\n",
       "        TTR                                                POS  \\\n",
       "0  0.334043  [(slave, NN), (in, IN), (the, DT), (magic, JJ)...   \n",
       "1  0.703704  [(what, WP), (wouldst, VBZ), (thou, NN), (know...   \n",
       "2  1.000000  [(today, NN), (hello, NN), (., .), (one, CD), ...   \n",
       "3  0.252640  [(oh, UH), (!, .), (oh, UH), (., .), (hello, N...   \n",
       "4  0.452632  [(yes, UH), (,, ,), (your, PRP$), (majesty, NN...   \n",
       "\n",
       "                                            Tag_Freq  Adj_Count  \n",
       "0  {'NN': 177, 'IN': 62, 'DT': 96, 'JJ': 71, 'VBN...         79  \n",
       "1  {'WP': 1, 'VBZ': 5, 'NN': 15, ',': 5, 'PRP$': ...         11  \n",
       "2                         {'NN': 3, '.': 1, 'CD': 1}          0  \n",
       "3  {'UH': 35, '.': 183, 'NN': 152, 'RB': 84, 'WP'...         79  \n",
       "4  {'UH': 2, ',': 10, 'PRP$': 4, 'NN': 14, '.': 2...          7  "
      ]
     },
     "execution_count": 48,
     "metadata": {},
     "output_type": "execute_result"
    }
   ],
   "source": [
    "char_df.head()"
   ]
  },
  {
   "cell_type": "code",
   "execution_count": 49,
   "metadata": {},
   "outputs": [],
   "source": [
    "f_chars = char_df[char_df.Gender == 'f']\n",
    "m_chars = char_df[char_df.Gender == 'm']"
   ]
  },
  {
   "cell_type": "code",
   "execution_count": 50,
   "metadata": {},
   "outputs": [],
   "source": [
    "pro_chars = char_df[char_df.Role == 'PRO']\n",
    "ant_chars = char_df[char_df.Role == 'ANT']\n",
    "helper_chars = char_df[char_df.Role == 'HELPER']"
   ]
  },
  {
   "cell_type": "code",
   "execution_count": 51,
   "metadata": {},
   "outputs": [
    {
     "data": {
      "text/plain": [
       "Ttest_indResult(statistic=0.2630061479429573, pvalue=0.7927195167366103)"
      ]
     },
     "execution_count": 51,
     "metadata": {},
     "output_type": "execute_result"
    }
   ],
   "source": [
    "scipy.stats.ttest_ind(f_chars.Adj_Count, m_chars.Adj_Count, equal_var = False)"
   ]
  },
  {
   "cell_type": "code",
   "execution_count": 52,
   "metadata": {},
   "outputs": [],
   "source": [
    "#definitely no difference...although if I 'm interpreting this correctly, overall female characters use more adjectives?"
   ]
  },
  {
   "cell_type": "code",
   "execution_count": 53,
   "metadata": {},
   "outputs": [
    {
     "data": {
      "text/plain": [
       "Ttest_indResult(statistic=4.571422094364574, pvalue=2.2244715567126324e-05)"
      ]
     },
     "execution_count": 53,
     "metadata": {},
     "output_type": "execute_result"
    }
   ],
   "source": [
    "scipy.stats.ttest_ind(pro_chars.Adj_Count, ant_chars.Adj_Count, equal_var = False)\n",
    "#there's a significant difference, but this is probably due to the fact that overall protagonists have more lines"
   ]
  },
  {
   "cell_type": "code",
   "execution_count": null,
   "metadata": {},
   "outputs": [],
   "source": []
  }
 ],
 "metadata": {
  "kernelspec": {
   "display_name": "Python 3",
   "language": "python",
   "name": "python3"
  },
  "language_info": {
   "codemirror_mode": {
    "name": "ipython",
    "version": 3
   },
   "file_extension": ".py",
   "mimetype": "text/x-python",
   "name": "python",
   "nbconvert_exporter": "python",
   "pygments_lexer": "ipython3",
   "version": "3.6.4"
  }
 },
 "nbformat": 4,
 "nbformat_minor": 2
}
