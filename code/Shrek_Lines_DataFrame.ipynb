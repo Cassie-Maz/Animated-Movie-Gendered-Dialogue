{
 "cells": [
  {
   "cell_type": "markdown",
   "metadata": {},
   "source": [
    "# Creating a DataFrame of Shrek Lines\n",
    "Here, I'll split up the script text file into a data frame of lines uttered by each character using regular expressions"
   ]
  },
  {
   "cell_type": "code",
   "execution_count": 1,
   "metadata": {},
   "outputs": [],
   "source": [
    "#reading in the file\n",
    "shrek = open(r'C:\\Users\\cassi\\Desktop\\Data_Science\\Animated-Movie-Gendered-Dialogue\\private\\imsdb_raw_nov_2015\\Animation\\shrek.txt')\n",
    "shrek_script = shrek.read()\n",
    "shrek.close()"
   ]
  },
  {
   "cell_type": "code",
   "execution_count": 2,
   "metadata": {},
   "outputs": [
    {
     "name": "stdout",
     "output_type": "stream",
     "text": [
      "Pretty printing has been turned OFF\n"
     ]
    }
   ],
   "source": [
    "%pprint"
   ]
  },
  {
   "cell_type": "code",
   "execution_count": 3,
   "metadata": {},
   "outputs": [],
   "source": [
    "#importing regualar expressions\n",
    "import re"
   ]
  },
  {
   "cell_type": "code",
   "execution_count": 4,
   "metadata": {},
   "outputs": [],
   "source": [
    "shrek_script = shrek_script[198:] #First, I need to get rid of the title/screenwriter info"
   ]
  },
  {
   "cell_type": "code",
   "execution_count": 5,
   "metadata": {},
   "outputs": [
    {
     "data": {
      "text/plain": [
       "'SHREK\\n\\n                         Once upon a time there was a lovely \\n\\n                         princ'"
      ]
     },
     "execution_count": 5,
     "metadata": {},
     "output_type": "execute_result"
    }
   ],
   "source": [
    "shrek_script[:100] #Yep, string begins with first line now"
   ]
  },
  {
   "cell_type": "code",
   "execution_count": 6,
   "metadata": {},
   "outputs": [],
   "source": [
    "v = re.findall(r\"(\\b[A-Z]['A-Z ]{2,}[0-9]?)+\", shrek_script)"
   ]
  },
  {
   "cell_type": "code",
   "execution_count": 7,
   "metadata": {},
   "outputs": [
    {
     "name": "stdout",
     "output_type": "stream",
     "text": [
      "761\n",
      "['SHREK', 'NIGHT ', \"NEAR SHREK'S HOME\", 'MAN1', 'MAN2', 'MAN1', 'MAN3', 'SHREK', 'MEN', 'SHREK', 'MAN1', 'SHREK', 'THE NEXT DAY', 'GUARD', 'HEAD GUARD', 'GUARD', 'HEAD GUARD', 'GUARD', 'HEAD GUARD', 'LITTLE BEAR', 'DONKEY', 'OLD WOMAN', 'DONKEY', 'HEAD GUARD', 'GIPETTO', 'PINOCCHIO', 'HEAD GUARD', 'PINOCCHIO', 'HEAD GUARD', 'OLD WOMAN', 'HEAD GUARD', 'OLD WOMAN', 'HEAD GUARD', 'OLD WOMAN', 'HEAD GUARD', 'OLD WOMAN', 'HEAD GUARD', 'OLD WOMAN', 'DONKEY', 'PETER PAN', 'LITTLE PIGS', 'HEAD GUARD', 'DONKEY', 'HEAD GUARD', 'GUARDS', 'HEAD GUARD', 'SHREK', 'HEAD GUARD', 'SHREK', 'DONKEY', 'SHREK', 'DONKEY', 'SHREK', 'DONKEY', 'SHREK', 'DONKEY', 'DONKEY', 'SHREK', 'DONKEY', 'SHREK', 'DONKEY', 'SHREK', 'DONKEY', 'SHREK', 'DONKEY', 'SHREK', 'DONKEY', 'SHREK', 'DONKEY', 'SHREK', 'DONKEY', 'SHREK', 'DONKEY', 'SHREK', 'DONKEY', 'SHREK', 'DONKEY', 'SHREK', 'DONKEY', 'SHREK', 'DONKEY', 'SHREK', 'DONKEY', 'SHREK', 'DONKEY', 'SHREK', 'DONKEY', 'SHREK', 'DONKEY', \"SHREK'S COTTAGE \", 'NIGHT', 'SHREK', 'DONKEY', 'BLIND MOUSE1', 'BLIND MOUSE2', 'GORDO', 'SHREK', 'GORDO', 'SHREK', 'GORDO']\n"
     ]
    }
   ],
   "source": [
    "print(len(v))\n",
    "print(v[:100])"
   ]
  },
  {
   "cell_type": "markdown",
   "metadata": {},
   "source": [
    "This has some scene headings, like \"NEAR SHREK'S HOME\" and \"THE NEXT DAY\". I'll filter these guys out later."
   ]
  },
  {
   "cell_type": "code",
   "execution_count": 8,
   "metadata": {},
   "outputs": [
    {
     "name": "stdout",
     "output_type": "stream",
     "text": [
      "69\n",
      "['ARE ', 'BIG BAD WOLF', 'BLIND MOUSE1', 'BLIND MOUSE2', 'CHURCH', 'CONGREGATION', 'COURTYARD', 'CROWD', 'DONKEY', \"DRAGON'S KEEP\", 'DULOC', 'DULOC ', 'DWARF', 'ELSEWHERE', 'EMPTY ROOM', 'FARQUAAD', 'FIONA', \"FIONA'S ROOM\", 'GINGERBREAD MAN', 'GIPETTO', 'GORDO', 'GUARD', 'GUARDS', 'HAVE SOME FUN', 'HEAD GUARD', 'INSIDE', 'INSIDE CHURCH', 'INSIDE THE CASTLE', 'KITCHEN', 'LATER', 'LATER THAT NIGHT', 'LITTLE BEAR', 'LITTLE PIG', 'LITTLE PIGS', 'MAN', 'MAN1', 'MAN2', 'MAN3', 'MEN', 'MERRY MAN', 'MERRY MEN', 'MIRROR', 'MORNING', 'MOUNTAIN CLIFF', \"NEAR SHREK'S HOME\", 'NIGHT', 'NIGHT ', 'OLD WOMAN', 'OUTSIDE', 'PETER PAN', 'PINOCCHIO', 'PRIEST', 'ROBIN HOOD', 'SHREK', 'SHREK ', \"SHREK'S COTTAGE \", \"SHREK'S HOME\", 'SUNSET', 'THE END', 'THE FOREST PATH', 'THE NEXT DAY', 'THE SWAMP', 'THELONIUS', 'TIME LAPSE', 'WHISPERS', 'WINDMILL', 'WOMAN', 'WOODEN PEOPLE', 'WOODS']\n"
     ]
    }
   ],
   "source": [
    "char_list = list(set(v))\n",
    "print(len(char_list))\n",
    "print(sorted(char_list))"
   ]
  },
  {
   "cell_type": "code",
   "execution_count": 9,
   "metadata": {},
   "outputs": [],
   "source": [
    "#Marking each new line\n",
    "shr_scr = re.sub(r\"(\\b[A-Z]['A-Z ]{2,}[0-9]?)+\", r'_NEWLINE_\\1_', shrek_script)"
   ]
  },
  {
   "cell_type": "code",
   "execution_count": 10,
   "metadata": {},
   "outputs": [
    {
     "data": {
      "text/plain": [
       "\"_NEWLINE_SHREK_\\n\\n                         Once upon a time there was a lovely \\n\\n                         princess. But she had an enchantment \\n\\n                         upon her of a fearful sort which could \\n\\n                         only be broken by love's first kiss. \\n\\n                         She was locked away in a castle guarded \\n\\n                         by a terrible fire-breathing dragon. \\n\\n                         Many brave knights had attempted to \\n\\n                         free her from this dreadful prison, \\n\\n                         but non prevailed. She waited in the \\n\\n                         dragon's keep in the highest room of \\n\\n                         the tallest tower for her true love \\n\\n                         and true love's first kiss. (laughs) \\n\\n                         Like that's ever gonna happen. What \\n\\n                         a load of - (toilet flush)\\n\\n               Allstar - by Smashmouth begins to play. Shrek goes about his \\n\\n               day. While in a nearby town, the villagers get together to go \\n\\n               after the ogre.\\n\\n               _NEWLINE_NIGHT _- _NEWLINE_NEAR SHREK'S HOME_\\n\\n                                     _NEWLINE_MAN1_\\n\\n                         Think it's in there?\\n\\n                                     _NEWLINE_MAN2_\\n\\n                         All right. Let's get it!\\n\\n                                     _NEWLINE_MAN1_\\n\\n                         Whoa. Hold on. Do you know what that \\n\\n                         thing can do to you?\\n\\n                                     _NEWLINE_MAN3_\\n\\n                         Yeah, it'll grind your bones for it's \\n\\n                         bread.\\n\\n               Shrek sneaks up behind them and laughs.\\n\\n                                     _NEWLINE_SHREK_\\n\\n                         Yes, well, actually, that would be a \\n\\n                         giant. Now, ogres, oh they're much worse. \\n\\n                         They'll make a suit from your freshly \\n\\n                    \""
      ]
     },
     "execution_count": 10,
     "metadata": {},
     "output_type": "execute_result"
    }
   ],
   "source": [
    "shr_scr[:2000]"
   ]
  },
  {
   "cell_type": "code",
   "execution_count": 11,
   "metadata": {},
   "outputs": [],
   "source": [
    "#remove all these annoying new line characters\n",
    "shr_scr = re.sub('\\n\\n', ' ', shr_scr)\n",
    "#change this from ^_ to just \\n\\n"
   ]
  },
  {
   "cell_type": "code",
   "execution_count": 12,
   "metadata": {},
   "outputs": [
    {
     "name": "stdout",
     "output_type": "stream",
     "text": [
      "_NEWLINE_SHREK_                          Once upon a time there was a lovely                           princess. But she had an enchantment                           upon her of a fearful sort which could                           only be broken by love's first kiss.                           She was locked away in a castle guarded                           by a terrible fire-breathing dragon.                           Many brave knights had attempted to                           free her from this dreadful prison,                           but non prevailed. She waited in the                           dragon's keep in the highest room of                           the tallest tower for her true love                           and true love's first kiss. (laughs)                           Like that's ever gonna happen. What                           a load of - (toilet flush)                Allstar - by Smashmouth begins to play. Shrek goes about his                 day. While in a nearby town, the villagers get together to go                 after the ogre.                _NEWLINE_NIGHT _- _NEWLINE_NEAR SHREK'S HOME_                                      _NEWLINE_MAN1_                          Think it's in there?                                      _NEWLINE_MAN2_                          All right. Let's get it!                                      _NEWLINE_MAN1_                          Whoa. Hold on. Do you know what that                           thing can do to you?                                      _NEWLINE_MAN3_                          Yeah, it'll grind your bones for it's                           bread.                Shrek sneaks up behind them and laughs.                                      _NEWLINE_SHREK_                          Yes, well, actually, that would be a                           giant. Now, ogres, oh they're much worse.                           They'll make a suit from your freshly                           peeled skin.                 \n"
     ]
    }
   ],
   "source": [
    "print(shr_scr[:2000])"
   ]
  },
  {
   "cell_type": "code",
   "execution_count": 13,
   "metadata": {},
   "outputs": [
    {
     "data": {
      "text/plain": [
       "\"_NEWLINE_SHREK_                          Once upon a time there was a lovely                           princess. But she had an enchantment                           upon her of a fearful sort which could                           only be broken by love's first kiss.                           She was locked away in a castle guarded                           by a terrible fire-breathing dragon.                           Many brave knights had attempted to                           free her from this dreadful prison,                           but non prevailed. She waited in the                           dragon's keep in the highest room of                           the tallest tower for her true love                           and true love's first kiss. (laughs)                           Like that's ever gonna happen. What                           a load of - (toilet flush)                Allstar - by Smashmouth begins to play. Shrek goes about his                 day. While in a nearby town, the villagers get together to go                 after the ogre.                _NEWLINE_NIGHT _- _NEWLINE_NEAR SHREK'S HOME_                                      _NEWLINE_MAN1_                          Think it's in there?                                      _NEWLINE_MAN2_                          All right. Let's get it!                                      _NEWLINE_MAN1_                          Whoa. Hold on. Do you know what that                           thing can do to you?                                      _NEWLINE_MAN3_                          Yeah, it'll grind your bones for it's                           bread.                Shrek sneaks up behind them and laughs.                                      _NEWLINE_SHREK_                          Yes, well, actually, that would be a                           giant. Now, ogres, oh they're much worse.                           They'll make a suit from your freshly                           peeled skin.                 \""
      ]
     },
     "execution_count": 13,
     "metadata": {},
     "output_type": "execute_result"
    }
   ],
   "source": [
    "shr_scr[:2000]"
   ]
  },
  {
   "cell_type": "code",
   "execution_count": 14,
   "metadata": {},
   "outputs": [
    {
     "data": {
      "text/plain": [
       "2661"
      ]
     },
     "execution_count": 14,
     "metadata": {},
     "output_type": "execute_result"
    }
   ],
   "source": [
    "#let's analyze how this whitespace works\n",
    "white_space = re.findall(\" {3,}\", shr_scr)\n",
    "len(white_space)"
   ]
  },
  {
   "cell_type": "code",
   "execution_count": 15,
   "metadata": {},
   "outputs": [
    {
     "name": "stdout",
     "output_type": "stream",
     "text": [
      "['                          ', '                           ', '                           ', '                           ', '                           ', '                           ', '                           ', '                           ', '                           ', '                           ']\n",
      "[26, 27, 27, 27, 27, 27, 27, 27, 27, 27, 27, 27, 27, 27, 16, 17, 17, 16, 38, 26, 38, 26, 38, 26, 27, 38, 26, 27, 16, 38, 26, 27, 27, 27, 38, 26, 38, 26, 27, 27, 38, 26, 27, 16, 17, 17, 17, 38, 26, 27]\n",
      "{38, 16, 17, 26, 27}\n"
     ]
    }
   ],
   "source": [
    "print(white_space[:10])\n",
    "#measuring how long each chunk of white space is\n",
    "len_white_space = [len(x) for x in white_space]\n",
    "print(len_white_space[:50])\n",
    "print(set(len_white_space))"
   ]
  },
  {
   "cell_type": "markdown",
   "metadata": {},
   "source": [
    "All chunks of white space are either 16, 17, 26, 27, or 38 spaces long. From looking at the patterns above, we can see that \n",
    "* 26 or 27 is between a character's own dialogue\n",
    "* 16 or 17 is between, or at the beginning/end of a scene heading\n",
    "* 38 is between a scene heading and a new line of dialogue"
   ]
  },
  {
   "cell_type": "code",
   "execution_count": 16,
   "metadata": {},
   "outputs": [],
   "source": [
    "shr_scr = re.sub(\" {26,27}\", \" \", shr_scr)"
   ]
  },
  {
   "cell_type": "code",
   "execution_count": 17,
   "metadata": {},
   "outputs": [
    {
     "data": {
      "text/plain": [
       "'_NEWLINE_SHREK_ Once upon a time there was a lovely princess. But she had an enchantment upon her of a fearful sort which could only be broken by love\\'s first kiss. She was locked away in a castle guarded by a terrible fire-breathing dragon. Many brave knights had attempted to free her from this dreadful prison, but non prevailed. She waited in the dragon\\'s keep in the highest room of the tallest tower for her true love and true love\\'s first kiss. (laughs) Like that\\'s ever gonna happen. What a load of - (toilet flush)                Allstar - by Smashmouth begins to play. Shrek goes about his                 day. While in a nearby town, the villagers get together to go                 after the ogre.                _NEWLINE_NIGHT _- _NEWLINE_NEAR SHREK\\'S HOME_            _NEWLINE_MAN1_ Think it\\'s in there?            _NEWLINE_MAN2_ All right. Let\\'s get it!            _NEWLINE_MAN1_ Whoa. Hold on. Do you know what that thing can do to you?            _NEWLINE_MAN3_ Yeah, it\\'ll grind your bones for it\\'s bread.                Shrek sneaks up behind them and laughs.            _NEWLINE_SHREK_ Yes, well, actually, that would be a giant. Now, ogres, oh they\\'re much worse. They\\'ll make a suit from your freshly peeled skin.            _NEWLINE_MEN_ No!            _NEWLINE_SHREK_ They\\'ll shave your liver. Squeeze the jelly from your eyes! Actually, it\\'s quite good on toast.            _NEWLINE_MAN1_ Back! Back, beast! Back! I warn ya! (waves the torch at Shrek.)                Shrek calmly licks his fingers and extinguishes the torch. The                 men shrink back away from him. Shrek roars very loudly and long                 and his breath extinguishes all the remaining torches until the                 men are in the dark.            _NEWLINE_SHREK_ This is the part where you run away. (The men scramble to get away. He laughs.) And stay out! (looks down and picks up a piece of paper. Reads.) \"Wanted. Fairy tale creatures.\"(He sighs and throws the paper over his shou'"
      ]
     },
     "execution_count": 17,
     "metadata": {},
     "output_type": "execute_result"
    }
   ],
   "source": [
    "shr_scr[:2000]"
   ]
  },
  {
   "cell_type": "code",
   "execution_count": 18,
   "metadata": {},
   "outputs": [
    {
     "data": {
      "text/plain": [
       "1079"
      ]
     },
     "execution_count": 18,
     "metadata": {},
     "output_type": "execute_result"
    }
   ],
   "source": [
    "#let's analyze how this whitespace works\n",
    "white_space = re.findall(\" {3,}\", shr_scr)\n",
    "len(white_space)"
   ]
  },
  {
   "cell_type": "code",
   "execution_count": 19,
   "metadata": {},
   "outputs": [
    {
     "name": "stdout",
     "output_type": "stream",
     "text": [
      "['                ', '                 ', '                 ', '                ', '            ', '            ', '            ', '            ', '                ', '            ']\n",
      "[16, 17, 17, 16, 12, 12, 12, 12, 16, 12, 12, 12, 12, 16, 17, 17, 17, 12, 16, 16, 17, 17, 17, 17, 17, 12, 12, 12, 12, 12, 12, 12, 12, 12, 12, 12, 12, 12, 12, 12, 16, 17, 12, 12, 12, 12, 16, 12, 12, 12]\n",
      "{16, 17, 12}\n"
     ]
    }
   ],
   "source": [
    "print(white_space[:10])\n",
    "#measuring how long each chunk of white space is\n",
    "len_white_space = [len(x) for x in white_space]\n",
    "print(len_white_space[:50])\n",
    "print(set(len_white_space))"
   ]
  },
  {
   "cell_type": "code",
   "execution_count": 20,
   "metadata": {},
   "outputs": [],
   "source": [
    "#This changed all the 38's into 12 space chunks\n",
    "scene_headings = re.findall(\" {16,17}[A-Za-z,'\\-\\. ]+\", shr_scr)"
   ]
  },
  {
   "cell_type": "code",
   "execution_count": 21,
   "metadata": {},
   "outputs": [
    {
     "data": {
      "text/plain": [
       "127"
      ]
     },
     "execution_count": 21,
     "metadata": {},
     "output_type": "execute_result"
    }
   ],
   "source": [
    "len(scene_headings) #should be 145\n",
    "#nope, now its 127 (with using 16,17)"
   ]
  },
  {
   "cell_type": "code",
   "execution_count": 26,
   "metadata": {},
   "outputs": [],
   "source": [
    "shr_scr2 = re.sub(\" {16,17}[A-Za-z,'\\-\\. ]+\", '',shr_scr)"
   ]
  },
  {
   "cell_type": "code",
   "execution_count": 27,
   "metadata": {},
   "outputs": [
    {
     "data": {
      "text/plain": [
       "'_NEWLINE_SHREK_ Once upon a time there was a lovely princess. But she had an enchantment upon her of a fearful sort which could only be broken by love\\'s first kiss. She was locked away in a castle guarded by a terrible fire-breathing dragon. Many brave knights had attempted to free her from this dreadful prison, but non prevailed. She waited in the dragon\\'s keep in the highest room of the tallest tower for her true love and true love\\'s first kiss. (laughs) Like that\\'s ever gonna happen. What a load of - (toilet flush)_NEWLINE_NIGHT _- _NEWLINE_NEAR SHREK\\'S HOME_            _NEWLINE_MAN1_ Think it\\'s in there?            _NEWLINE_MAN2_ All right. Let\\'s get it!            _NEWLINE_MAN1_ Whoa. Hold on. Do you know what that thing can do to you?            _NEWLINE_MAN3_ Yeah, it\\'ll grind your bones for it\\'s bread._NEWLINE_SHREK_ Yes, well, actually, that would be a giant. Now, ogres, oh they\\'re much worse. They\\'ll make a suit from your freshly peeled skin.            _NEWLINE_MEN_ No!            _NEWLINE_SHREK_ They\\'ll shave your liver. Squeeze the jelly from your eyes! Actually, it\\'s quite good on toast.            _NEWLINE_MAN1_ Back! Back, beast! Back! I warn ya! (waves the torch at Shrek.)_NEWLINE_SHREK_ This is the part where you run away. (The men scramble to get away. He laughs.) And stay out! (looks down and picks up a piece of paper. Reads.) \"Wanted. Fairy tale creatures.\"(He sighs and throws the paper over his shoulder.)                _NEWLINE_THE NEXT DAY__NEWLINE_GUARD_ All right. This one\\'s full. Take it away! Move it along. Come on! Get up!            _NEWLINE_HEAD GUARD_ Next!            _NEWLINE_GUARD_ (taking the witch\\'s broom) Give me that! Your flying days are over. (breaks the broom in half)            _NEWLINE_HEAD GUARD_ That\\'s 20 pieces of silver for the witch. Next!            _NEWLINE_GUARD_ Get up! Come on!            _NEWLINE_HEAD GUARD_ Twenty pieces.            _NEWLINE_LITTLE BEAR_ (crying) This cage is too small.            _NEWLINE_DONKE'"
      ]
     },
     "execution_count": 27,
     "metadata": {},
     "output_type": "execute_result"
    }
   ],
   "source": [
    "shr_scr2[:2000]"
   ]
  },
  {
   "cell_type": "code",
   "execution_count": 22,
   "metadata": {},
   "outputs": [
    {
     "data": {
      "text/plain": [
       "['                Allstar - by Smashmouth begins to play. Shrek goes about his                 day. While in a nearby town, the villagers get together to go                 after the ogre.                ', '                Shrek sneaks up behind them and laughs.            ', '                Shrek calmly licks his fingers and extinguishes the torch. The                 men shrink back away from him. Shrek roars very loudly and long                 and his breath extinguishes all the remaining torches until the                 men are in the dark.            ', \"                There is a line of fairy tale creatures. The head of the guard                 sits at a table paying people for bringing the fairy tale creatures                 to him. There are cages all around. Some of the people in line                 are Peter Pan, who is carrying Tinkerbell in a cage, Gipetto                 who's carrying Pinocchio, and a farmer who is carrying the three                 little pigs.            \", '                Gipetto takes the money and walks off. The old woman steps up                 to the table.            ', '                Donkey just looks up at her.            ', \"                The guards grab the old woman and she struggles with them. One                 of her legs flies out and kicks Tinkerbell out of Peter Pan's                 hands, and her cage drops on Donkey's head. He gets sprinkled                 with fairy dust and he's able to fly.            \", '                He hits the ground with a thud.            ', '                Donkey keeps running and he eventually runs into Shrek. Literally.                 Shrek turns around to see who bumped into him. Donkey looks scared                 for a moment then he spots the guards coming up the path. He                 quickly hides behind Shrek.            ', '                He looks behind the guard and the guard turns to look as well                 and we see that the other men have run off. The guard tucks tail                 and runs off. Shrek laughs and goes back about his business and                 begins walking back to his cottage.            ', '                Shrek turns and regards Donkey for a moment before roaring very                 loudly.            ', '                Shrek is getting ready for dinner. He sits himself down and lights                 a candle made out of earwax. He begins to eat when he hears a                 noise. He stands up with a huff.            ', '                There is another noise and Shrek turns to find the person that                 made the noise. He sees several shadows moving. He finally turns                 and spots ', '                Shrek marches over to the bedroom and throws back the curtain.                 The Big Bad Wolf is sitting in the bed. The wolf just looks at                 him.            ', '                Shrek now has the Big Bad Wolf by the collar and is dragging                 him to the front door.            ', '                The ', '                 pipe and the rats are all running to him, some elves are directing                 flight traffic so that the fairies and witches can land...etc.            ', '                Gasps are heard all around. The ', '                 tent.            ', '                Everyone looks around at each other but no one answers.            ', \"                Donkey begins to hum 'On the Road Again'.                \", \"                A masked man is torturing the Gingerbread Man. He's continually                 dunking him in a glass of milk. Lord Farquaad walks in.            \", '                The Gingerbread Man is pulled out of the milk and slammed down                 onto a cookie sheet. Farquaad laughs as he walks over to the                 table. However when he reaches the table we see that it goes                 up to his eyes. He clears his throat and the table is lowered.            ', '                The door opens and the Head Guard walks in.            ', '                More guards enter carrying something that is covered by a sheet.                 They hang up whatever it is and remove the sheet. It is the Magic                 Mirror.            ', '                DuLoc Parking Lot - Lancelot Section                Shrek and Donkey come out of the field that is right by the parking                 lot. The castle itself is about ', '                They look around but all is quiet.            ', \"                Donkey runs over and pulls a lever that is attached to a box                 marked 'Information'. The music winds up and then the box doors                 open up. There are little wooden people inside and they begin                 to sing.            \", \"                Here we have some rules                Let us lay them down                Don't make waves, stay in line                And we'll get along fine                DuLoc is perfect place                Please keep off of the grass                Shine your shoes, wipe your... face                DuLoc is, DuLoc is                DuLoc is perfect place.                Suddenly a camera takes Donkey and Shrek's picture.            \", '                They hear a trumpet fanfare and head over to the arena.            ', '                As Shrek and Donkey walk down the tunnel to get into the arena                 Donkey is humming the DuLoc theme song.            ', \"                He takes the mug and smashes the spigot off the large barrel                 of beer behind him. The beer comes rushing out drenching the                 other men and wetting the ground. It's like mud now. Shrek slides                 past the men and picks up a spear that one of the men dropped.                 As Shrek begins to fight Donkey hops up onto one of the larger                 beer barrels. It breaks free of it's ropes and begins to roll.                 Donkey manages to squish two men into the mud. There is so much                 fighting going on here I'm not going to go into detail. Suffice                 to say that Shrek kicks butt.            \", \"                Shrek comes over and bangs a man's head up against Donkeys. Shrek                 gets up on the ropes and interacts with the crowd.            \", '                A man tries to sneak up behind Shrek, but Shrek turns in time                 and sees him.            ', '                Shrek smashes a chair over the guys back. Finally all the men                 are down. Donkey kicks one of them in the helmet, and the ding                 sounds the end of the match. The audience goes wild.            ', '                The laughter stops as all of the guards turn their weapons on                 Shrek.            ', '                Time Lapse - Donkey and Shrek are now walking through the field                 heading away from DuLoc. Shrek is munching on an onion.            ', '                They head off. There is a montage of their journey. Walking through                 a field at sunset. Sleeping beneath a bright moon. Shrek trying                 to put the campfire out the next day and having a bit of a problem,                 so Donkey pees on the fire to put it out.                ', \"                Shrek and Donkey are walking up to the keep that's supposed to                 house Princess Fiona. It appears to look like a giant volcano.            \", '                They climb up the side of the volcano', '                 is a small piece of rock right in the center and that is where                 the castle is. It is surrounded by boiling lava. It looks very                 foreboding.            ', '                Donkey is still talking to himself as he looks around the room.            ', '                Shrek spots a light in the tallest tower window.            ', '                Donkey gasps and takes off running as the dragon roars again.                 Shrek manages to grab Donkey out of the way just as the dragon                 breathes fire.            ', \"                The dragon gets irritated at this and flicks it's tail and Shrek                 goes flying through the air and crashes through the roof of the                 tallest tower. Fiona wakes up with a jerk and looks at him lying                 on the floor.            \", \"                Donkey get cornered as the Dragon knocks away all but a small                 part of the bridge he's on.            \", '                Shrek groans as he gets up off the floor. His back is to Fiona                 so she straightens her dress and lays back down on the bed. She                 then quickly reaches over and gets the bouquet of flowers off                 the side table. She then lays back down and appears to be asleep.                 Shrek turns and goes over to her. He looks down at Fiona for                 a moment and she puckers her lips. Shrek takes her by the shoulders                 and shakes her away.            ', '                Shrek breaks the lock on her door and pulls her out and down                 the hallway.            ', '                Suddenly they hear the dragon roar.            ', \"                Shrek grabs a chain that's connected to the chandelier and swings                 toward the dragon. He misses and he swings back again. He looks                 up and spots that the chandelier is right above the dragons head.                 He pulls on the chain and it releases and he falls down and bumps                 Donkey out of the way right as the dragon is about to kiss him.                 Instead the dragon kisses Shreks' butt. She opens her eyes and                 roars. Shrek lets go of the chain and the chandelier falls onto                 her head, but it's too big and it goes over her head and forms                 a sort of collar for her. She roars again and Shrek and Donkey                 take off running. Very 'Matrix' style. Shrek grabs Donkey and                 then grabs Princess Fiona as he runs past her.            \", '                They all start screaming as the dragon gains on them. Shrek spots                 a descending slide and jumps on. But unfortunately there is a                 crack in the stone and it hits Shrek right in the groin. His                 eyes cross and as he reaches the bottom of the slide he stumbles                 off and walks lightly.            ', '                Shrek gets them close to the exit and sets down Donkey and Fiona.            ', '                Shrek grabs a sword and heads back toward the interior of the                 castle. He throws the sword down in between several overlapping                 chain links. The chain links are attached to the chandelier that                 is still around the dragons neck.            ', \"                They all take off running for the exit with the dragon in hot                 pursuit. They make it to the bridge and head across. The dragons                 breathes fire and the bridge begins to burn. They all hang on                 for dear life as the ropes holding the bridge up collapse. They                 are swung to the other side. As they hang upside down they look                 in horror as the dragon makes to fly over the boiling lava to                 get them. But suddenly the chandelier with the chain jerk the                 dragon back and she's unable to get to them. Our gang climbs                 quickly to safety as the dragon looks angry and then gives a                 sad whimper as she watches Donkey walk away.            \", '                Both Donkey and Shrek burst out laughing.            ', '                A little time has passed and Fiona has calmed down. She just                 hangs there limply while Shrek carries her.            ', '                Shrek then proceeds to splash water onto his face to wash off                 the dust and grime.            ', \"                Both Donkey and Shrek's ears lower as they shrink away from her.                \", '                Shrek has found a cave that appears to be in good order. He shoves                 a stone boulder out of the way to reveal the cave.            ', '                Shrek looks at Donkey for a second and then goes to move the                 boulder back in front of the entrance to the cave with Fiona                 still inside.            ', '                Shrek and Donkey are sitting around a campfire. They are staring                 up into the sky as Shrek points out certain star constellations                 to Donkey.            ', \"                At this point Fiona pulls the 'door' away from the entrance to                 the cave and peaks out. Neither of the guys see her.            \", '                Fiona puts the door back.            ', \"                DuLoc - Farquaad's Bedroom                The camera pans over a lot of wedding stuff. Soft music plays                 in the background. Farquaad is in bed, watching as the Magic                 Mirror shows him Princess Fiona.            \", '                The Mirror rewinds and begins to play again from the beginning.            ', '                Farquaad looks down at his bare chest and pulls the sheet up                 to cover himself as though Fiona could see him as he gazes sheepishly                 at her image in the mirror.                ', \"                Fiona walks out of the cave. She glances at Shrek and Donkey                 who are still sleeping. She wanders off into the woods and comes                 across a blue bird. She begins to sing. The bird sings along                 with her. She hits higher and higher notes and the bird struggles                 to keep up with her. Suddenly the pressure of the note is too                 big and the bird explodes. Fiona looks a little sheepish, but                 she eyes the eggs that the bird left behind. Time lapse, Fiona                 is now cooking the eggs for breakfast. Shrek and Donkey are still                 sleeping. Shrek wakes up and looks at Fiona. Donkey's talking                 in his sleep.            \", '                Fiona gets up and sets the eggs down in front of them.            ', '                Donkey sniffs the eggs and licks his lips.            ', '                They are once again on their way. They are walking through the                 forest. Shrek belches.            ', '                Fiona belches            ', '                She smiles and then continues walking, singing softly. Suddenly                 from out of nowhere, a man swings down and swoops Fiona up into                 a tree.            ', \"                Suddenly an accordion begins to play and the Merry men pop out                 from the bushes. They begin to sing Robin's theme song.            \", '                There is a grunt as Fiona swings down from the tree limb and                 knocks Robin Hood unconscious.            ', '                Shrek looks at her in admiration.            ', \"                The arrow flies toward Donkey who jumps into Shrek's arms to                 get out of the way. The arrow proceeds to just bounce off a tree.                Another fight sequence begins and Fiona gives a karate yell and                 then proceeds to beat the crap out of the Merry Men. There is                 a very interesting 'Matrix' moment here when Fiona pauses in                 mid-air to fix her hair. Finally all of the Merry Men are down,                 and Fiona begins walking away.            \", '                As they continue to talk Fiona keeps going after the arrow and                 Shrek keeps dodging her hands.            ', '                Donkey is still looking for the special flower.            ', \"                Donkey faints. Shrek walks over and picks him up as they continue                 on their way.                There is a montage of scenes as the group heads back to DuLoc.                 Shrek crawling up to the top of a tree to make it fall over a                 small brook so that Fiona won't get wet. Shrek then gets up as                 Donkey is just about to cross the tree and the tree swings back                 into it's upright position and Donkey flies off. Shrek swatting                 and a bunch of flies and mosquitoes. Fiona grabs a nearby spiderweb                 that's on a tree branch and runs through the field swinging it                 around to catch the bugs. She then hands it to Shrek who begins                 eating like it's a treat. As he walks off she licks her fingers.                 Shrek catching a toad and blowing it up like a balloon and presenting                 it to Fiona. Fiona catching a snake, blowing it up, fashioning                 it into a balloon animal and presenting it to Shrek. The group                 arriving at a windmill that is near DuLoc.                \", '                Shrek has built a fire and is cooking the rest of dinner while                 Fiona eats.            ', '                Fiona looks at DuLoc and sighs.            ', '                They smiles at each other.            ', '                Shrek sighs            ', '                Fiona goes inside the windmill and closes the door. Donkey looks                 at Shrek with a new eye.            ', '                Donkey looks over at the large pile of firewood there already                 is.                ', '                Donkey opens the door to the Windmill and walks in. Fiona is                 nowhere to be seen.            ', \"                Fiona looks at Donkey from the shadows, but we can't see her.            \", \"                Suddenly Fiona falls from the railing. She gets up only she doesn't                 look like herself. She looks like an ogre and Donkey starts freaking                 out.            \", '                Donkey looks into her eyes as she pets his muzzle, and he quiets                 down.            ', '                Shrek is walking towards the windmill with a sunflower in his                 hand.            ', '                He walks up to the door and pauses outside when he hears Donkey                 and Fiona talking.            ', '                Shrek steps back in shock.            ', '                Shrek heaves a deep sigh. He throws the flower down and walks                 away.                ', '                Fiona comes out the door and watches him walk away. She looks                 down and spots the sunflower. She picks it up before going back                 inside the windmill.                ', '                Donkey is asleep. Shrek is nowhere to be seen. Fiona is still                 awake. She is plucking petals from the sunflower.            ', '                Just as she looks back at the sun she sees Shrek stomping towards                 her.            ', \"                Farquaad has arrived with a group of his men. He looks very regal                 sitting up on his horse. You would never guess that he's only                 like \", '                 march by.            ', '                Donkey watches this exchange with a curious look on his face.            ', \"                Farquaad's whole party begins to head back to DuLoc. Donkey watches                 them go.            \", '                Montage of different scenes. Shrek arriving back home. Fiona                 being fitted for the wedding dress. Donkey at a stream running                 into the dragon. Shrek cleaning up his house. Fiona eating dinner                 alone. Shrek eating dinner alone.                ', '                Shrek is eating dinner when he hears a sound outside. He goes                 outside to investigate.            ', '                Suddenly the dragon arrives overhead and flies low enough so                 they can climb on.            ', '                They both laugh.            ', '                They climb aboard the dragon and she takes off for DuLoc.                ', \"                Fiona and Farquaad are getting married. The whole town is there.                 The prompter card guy holds up a card that says 'Revered Silence'.            \", '                Some guards are milling around. Suddenly the dragon lands with                 a boom. The guards all take off running.            ', \"                As the priest talks we see Donkey's shadow through one of the                 windows Shrek tosses him up so he can see.            \", '                Outside            ', '                Inside            ', '                Outside            ', '                Inside            ', '                Outside            ', '                He runs inside without catching Donkey, who hits the ground hard.                ', '                The whole congregation gasps as they see Shrek.            ', \"                The prompter card guy holds up a card that says 'Laugh'. The                 whole congregation laughs.            \", '                She backs up and as the sun sets she changes into her ogre self.                 She gives Shrek a sheepish smile.            ', '                The guards run in and separate Fiona and Shrek. Shrek fights                 them.            ', '                Shrek manages to get a hand free and he whistles.            ', \"                The dragon belches and Farquaad's crown flies out of her mouth                 and falls to the ground.            \", '                The congregation cheers.            ', \"                Shrek and Fiona kiss. Thelonius takes one of the cards and writes                 'Awwww' on the back and then shows it to the congregation.            \", \"                Suddenly the magic of the spell pulls Fiona away. She's lifted                 up into the air and she hovers there while the magic works around                 her.            \", \"                Suddenly Fiona's eyes open wide. She's consumed by the spell                 and then is slowly lowered to the ground.            \", '                They smile at each other.            ', '                Shrek and Fiona kiss...and the kiss fades into...                ', \"                ...their wedding kiss. Shrek and Fiona are now married. 'I'm                 a Believer' by Smashmouth is played in the background. Shrek                 and Fiona break apart and run through the crowd to their awaiting                 carriage. Which is made of a giant onion. Fiona tosses her bouquet                 which both Cinderella and Snow White try to catch. But they end                 up getting into a cat fight and so the dragon catches the bouquet                 instead. The Gingerbread man has been mended somewhat and now                 has one leg and walks with a candy cane cane. Shrek and Fiona                 walk off as the rest of the guests party and Donkey takes over                 singing the song.            \"]"
      ]
     },
     "execution_count": 22,
     "metadata": {},
     "output_type": "execute_result"
    }
   ],
   "source": [
    "scene_headings"
   ]
  },
  {
   "cell_type": "code",
   "execution_count": 23,
   "metadata": {},
   "outputs": [],
   "source": [
    "shr_lines = re.split(\" {12}\", shr_scr)"
   ]
  },
  {
   "cell_type": "code",
   "execution_count": 24,
   "metadata": {},
   "outputs": [
    {
     "data": {
      "text/plain": [
       "1080"
      ]
     },
     "execution_count": 24,
     "metadata": {},
     "output_type": "execute_result"
    }
   ],
   "source": [
    "len(shr_lines) #should be 1080"
   ]
  },
  {
   "cell_type": "code",
   "execution_count": 25,
   "metadata": {},
   "outputs": [
    {
     "name": "stdout",
     "output_type": "stream",
     "text": [
      "[\"_NEWLINE_SHREK_ Once upon a time there was a lovely princess. But she had an enchantment upon her of a fearful sort which could only be broken by love's first kiss. She was locked away in a castle guarded by a terrible fire-breathing dragon. Many brave knights had attempted to free her from this dreadful prison, but non prevailed. She waited in the dragon's keep in the highest room of the tallest tower for her true love and true love's first kiss. (laughs) Like that's ever gonna happen. What a load of - (toilet flush)\", '    Allstar - by Smashmouth begins to play. Shrek goes about his', '     day. While in a nearby town, the villagers get together to go', '     after the ogre.', \"    _NEWLINE_NIGHT _- _NEWLINE_NEAR SHREK'S HOME_\", \"_NEWLINE_MAN1_ Think it's in there?\", \"_NEWLINE_MAN2_ All right. Let's get it!\", '_NEWLINE_MAN1_ Whoa. Hold on. Do you know what that thing can do to you?', \"_NEWLINE_MAN3_ Yeah, it'll grind your bones for it's bread.\", '    Shrek sneaks up behind them and laughs.']\n"
     ]
    }
   ],
   "source": [
    "print(shr_lines[:10])"
   ]
  },
  {
   "cell_type": "code",
   "execution_count": 28,
   "metadata": {},
   "outputs": [],
   "source": [
    "#Note: there is a flaw in this code. For some reason, it does not remove each instance of this chunk all at once. \n",
    "# Perhaps adding r'' to the beginning of the string will help, but idk\n",
    "all_w_sp = []\n",
    "num_lines = 0\n",
    "bad_lines = []\n",
    "for x in shr_lines:\n",
    "    white_space = re.findall(\" {3,}\", x)\n",
    "    if len(white_space) >= 1:\n",
    "        num_lines += 1\n",
    "        bad_lines.append(x)"
   ]
  },
  {
   "cell_type": "code",
   "execution_count": 30,
   "metadata": {},
   "outputs": [
    {
     "name": "stdout",
     "output_type": "stream",
     "text": [
      "0\n",
      "357\n",
      "357\n"
     ]
    }
   ],
   "source": [
    "print(len(all_w_sp))\n",
    "print(num_lines) #357 lines\n",
    "print(len(bad_lines)) #357 not actual lines"
   ]
  },
  {
   "cell_type": "code",
   "execution_count": null,
   "metadata": {},
   "outputs": [],
   "source": [
    "1080-357 #723 is our target number"
   ]
  },
  {
   "cell_type": "code",
   "execution_count": 32,
   "metadata": {},
   "outputs": [
    {
     "name": "stdout",
     "output_type": "stream",
     "text": [
      "723\n"
     ]
    }
   ],
   "source": [
    "for x in bad_lines:\n",
    "    shr_lines.remove(x)\n",
    "print(len(shr_lines)) #WOOHOOO, finally!"
   ]
  },
  {
   "cell_type": "code",
   "execution_count": 33,
   "metadata": {},
   "outputs": [
    {
     "data": {
      "text/plain": [
       "[\"_NEWLINE_SHREK_ Once upon a time there was a lovely princess. But she had an enchantment upon her of a fearful sort which could only be broken by love's first kiss. She was locked away in a castle guarded by a terrible fire-breathing dragon. Many brave knights had attempted to free her from this dreadful prison, but non prevailed. She waited in the dragon's keep in the highest room of the tallest tower for her true love and true love's first kiss. (laughs) Like that's ever gonna happen. What a load of - (toilet flush)\", \"_NEWLINE_MAN1_ Think it's in there?\", \"_NEWLINE_MAN2_ All right. Let's get it!\", '_NEWLINE_MAN1_ Whoa. Hold on. Do you know what that thing can do to you?', \"_NEWLINE_MAN3_ Yeah, it'll grind your bones for it's bread.\", \"_NEWLINE_SHREK_ Yes, well, actually, that would be a giant. Now, ogres, oh they're much worse. They'll make a suit from your freshly peeled skin.\", '_NEWLINE_MEN_ No!', \"_NEWLINE_SHREK_ They'll shave your liver. Squeeze the jelly from your eyes! Actually, it's quite good on toast.\", '_NEWLINE_MAN1_ Back! Back, beast! Back! I warn ya! (waves the torch at Shrek.)', '_NEWLINE_SHREK_ This is the part where you run away. (The men scramble to get away. He laughs.) And stay out! (looks down and picks up a piece of paper. Reads.) \"Wanted. Fairy tale creatures.\"(He sighs and throws the paper over his shoulder.)']"
      ]
     },
     "execution_count": 33,
     "metadata": {},
     "output_type": "execute_result"
    }
   ],
   "source": [
    "shr_lines[:10]"
   ]
  },
  {
   "cell_type": "code",
   "execution_count": null,
   "metadata": {},
   "outputs": [],
   "source": [
    "set(all_w_sp)"
   ]
  },
  {
   "cell_type": "markdown",
   "metadata": {},
   "source": [
    "Now, we have to split this according to the utterer and their following line"
   ]
  },
  {
   "cell_type": "code",
   "execution_count": 36,
   "metadata": {},
   "outputs": [
    {
     "data": {
      "text/plain": [
       "<_sre.SRE_Match object; span=(0, 9), match='_NEWLINE_'>"
      ]
     },
     "execution_count": 36,
     "metadata": {},
     "output_type": "execute_result"
    }
   ],
   "source": [
    "re.search(\"_NEWLINE_\", shr_lines[0])"
   ]
  },
  {
   "cell_type": "code",
   "execution_count": 35,
   "metadata": {},
   "outputs": [
    {
     "data": {
      "text/plain": [
       "[\"_NEWLINE_SHREK_ Once upon a time there was a lovely princess. But she had an enchantment upon her of a fearful sort which could only be broken by love's first kiss. She was locked away in a castle guarded by a terrible fire-breathing dragon. Many brave knights had attempted to free her from this dreadful prison, but non prevailed. She waited in the dragon's keep in the highest room of the tallest tower for her true love and true love's first kiss. (laughs) Like that's ever gonna happen. What a load of - (toilet flush)\", \"_NEWLINE_MAN1_ Think it's in there?\", \"_NEWLINE_MAN2_ All right. Let's get it!\", '_NEWLINE_MAN1_ Whoa. Hold on. Do you know what that thing can do to you?', \"_NEWLINE_MAN3_ Yeah, it'll grind your bones for it's bread.\", \"_NEWLINE_SHREK_ Yes, well, actually, that would be a giant. Now, ogres, oh they're much worse. They'll make a suit from your freshly peeled skin.\", '_NEWLINE_MEN_ No!', \"_NEWLINE_SHREK_ They'll shave your liver. Squeeze the jelly from your eyes! Actually, it's quite good on toast.\", '_NEWLINE_MAN1_ Back! Back, beast! Back! I warn ya! (waves the torch at Shrek.)', '_NEWLINE_SHREK_ This is the part where you run away. (The men scramble to get away. He laughs.) And stay out! (looks down and picks up a piece of paper. Reads.) \"Wanted. Fairy tale creatures.\"(He sighs and throws the paper over his shoulder.)']"
      ]
     },
     "execution_count": 35,
     "metadata": {},
     "output_type": "execute_result"
    }
   ],
   "source": [
    "shr_lines[:10]"
   ]
  },
  {
   "cell_type": "code",
   "execution_count": 41,
   "metadata": {},
   "outputs": [
    {
     "name": "stdout",
     "output_type": "stream",
     "text": [
      "['_NEWLINE_SHREK', \"Once upon a time there was a lovely princess. But she had an enchantment upon her of a fearful sort which could only be broken by love's first kiss. She was locked away in a castle guarded by a terrible fire-breathing dragon. Many brave knights had attempted to free her from this dreadful prison, but non prevailed. She waited in the dragon's keep in the highest room of the tallest tower for her true love and true love's first kiss. (laughs) Like that's ever gonna happen. What a load of - (toilet flush)\"]\n",
      "['_NEWLINE_MAN1', \"Think it's in there?\"]\n",
      "['_NEWLINE_MAN2', \"All right. Let's get it!\"]\n",
      "['_NEWLINE_MAN1', 'Whoa. Hold on. Do you know what that thing can do to you?']\n",
      "['_NEWLINE_MAN3', \"Yeah, it'll grind your bones for it's bread.\"]\n",
      "['_NEWLINE_SHREK', \"Yes, well, actually, that would be a giant. Now, ogres, oh they're much worse. They'll make a suit from your freshly peeled skin.\"]\n",
      "['_NEWLINE_MEN', 'No!']\n",
      "['_NEWLINE_SHREK', \"They'll shave your liver. Squeeze the jelly from your eyes! Actually, it's quite good on toast.\"]\n",
      "['_NEWLINE_MAN1', 'Back! Back, beast! Back! I warn ya! (waves the torch at Shrek.)']\n",
      "['_NEWLINE_SHREK', 'This is the part where you run away. (The men scramble to get away. He laughs.) And stay out! (looks down and picks up a piece of paper. Reads.) \"Wanted. Fairy tale creatures.\"(He sighs and throws the paper over his shoulder.)']\n",
      "['_NEWLINE_GUARD', \"All right. This one's full. Take it away! Move it along. Come on! Get up!\"]\n",
      "['_NEWLINE_HEAD GUARD', 'Next!']\n",
      "['_NEWLINE_GUARD', \"(taking the witch's broom) Give me that! Your flying days are over. (breaks the broom in half)\"]\n",
      "['_NEWLINE_HEAD GUARD', \"That's 20 pieces of silver for the witch. Next!\"]\n",
      "['_NEWLINE_GUARD', 'Get up! Come on!']\n",
      "['_NEWLINE_HEAD GUARD', 'Twenty pieces.']\n",
      "['_NEWLINE_LITTLE BEAR', '(crying) This cage is too small.']\n",
      "['_NEWLINE_DONKEY', \"Please, don't turn me in. I'll never be stubborn again. I can change. Please! Give me another chance!\"]\n",
      "['_NEWLINE_OLD WOMAN', 'Oh, shut up. (jerks his rope)']\n",
      "['_NEWLINE_DONKEY', 'Oh!']\n",
      "['_NEWLINE_HEAD GUARD', 'Next! What have you got?']\n",
      "['_NEWLINE_GIPETTO', 'This little wooden puppet.']\n",
      "['_NEWLINE_PINOCCHIO', \"I'm not a puppet. I'm a real boy. (his nose grows)\"]\n",
      "['_NEWLINE_HEAD GUARD', 'Five shillings for the possessed toy. Take it away.']\n",
      "['_NEWLINE_PINOCCHIO', \"Father, please! Don't let them do this! Help me!\"]\n",
      "['_NEWLINE_HEAD GUARD', 'Next! What have you got?']\n",
      "['_NEWLINE_OLD WOMAN', \"Well, I've got a talking donkey.\"]\n",
      "['_NEWLINE_HEAD GUARD', \"Right. Well, that's good for ten shillings, if you can prove it.\"]\n",
      "['_NEWLINE_OLD WOMAN', 'Oh, go ahead, little fella.']\n",
      "['_NEWLINE_HEAD GUARD', 'Well?']\n",
      "['_NEWLINE_OLD WOMAN', \"Oh, oh, he's just...he's just a little nervous. He's really quite a chatterbox. Talk, you boneheaded dolt...\"]\n",
      "['_NEWLINE_HEAD GUARD', \"That's it. I've heard enough. Guards!\"]\n",
      "['_NEWLINE_OLD WOMAN', \"No, no, he talks! He does. (pretends to be Donkey) I can talk. I love to talk. I'm the talkingest damn thing you ever saw.\"]\n",
      "['_NEWLINE_HEAD GUARD', 'Get her out of my sight.']\n",
      "['_NEWLINE_OLD WOMAN', 'No, no! I swear! Oh! He can talk!']\n",
      "['_NEWLINE_DONKEY', 'Hey! I can fly!']\n",
      "['_NEWLINE_PETER PAN', 'He can fly!']\n",
      "['3 _NEWLINE_LITTLE PIGS', 'He can fly!']\n",
      "['_NEWLINE_HEAD GUARD', 'He can talk!']\n",
      "['_NEWLINE_DONKEY', \"Ha, ha! That's right, fool! Now I'm a flying, talking donkey. You might have seen a housefly, maybe even a superfly but I bet you ain't never seen a donkey fly. Ha, ha! (the pixie dust begins to wear off) Uh-oh. (he begins to sink to the ground.)\"]\n",
      "['_NEWLINE_HEAD GUARD', 'Seize him! (Donkey takes of running.) After him!']\n",
      "['_NEWLINE_GUARDS', \"He's getting away! Get him! This way! Turn!\"]\n",
      "['_NEWLINE_HEAD GUARD', 'You there. Ogre!']\n",
      "['_NEWLINE_SHREK', 'Aye?']\n",
      "['_NEWLINE_HEAD GUARD', 'By the order of Lord Farquaad I am authorized to place you both under arrest and transport you to a designated resettlement facility.']\n",
      "['_NEWLINE_SHREK', 'Oh, really? You and what army?']\n",
      "['_NEWLINE_DONKEY', \"Can I say something to you? Listen, you was really, really, really somethin' back here. Incredible!\"]\n",
      "['_NEWLINE_SHREK', \"Are you talkin' to...(he turns around and Donkey is gone) me? (he turns back around and Donkey is right in front of him.) Whoa!\"]\n",
      "['_NEWLINE_DONKEY', \"Yes. I was talkin' to you. Can I tell you that you that you was great back here? Those guards! They thought they was all of that. Then you showed up, and bam! They was trippin' over themselves like babes in the woods. That really made me feel good to see that.\"]\n",
      "['_NEWLINE_SHREK', \"Oh, that's great. Really.\"]\n",
      "['_NEWLINE_DONKEY', \"Man, it's good to be free.\"]\n",
      "['_NEWLINE_SHREK', \"Now, why don't you go celebrate your freedom with your own friends? Hmm?\"]\n",
      "['_NEWLINE_DONKEY', \"But, uh, I don't have any friends. And I'm not goin' out there by myself. Hey, wait a minute! I got a great idea! I'll stick with you. You're mean, green, fightin' machine. Together we'll scare the spit out of anybody that crosses us.\"]\n",
      "['_NEWLINE_DONKEY', \"Oh, wow! That was really scary. If you don't mind me sayin', if that don't work, your breath certainly will get the job done, 'cause you definitely need some Tic Tacs or something, 'cause you breath stinks! You almost burned the hair outta my nose, just like the time...(Shrek covers his mouth but Donkey continues to talk, so Shrek removes his hand.) ...then I ate some rotten berries. I had strong gases leaking out of my butt that day.\"]\n",
      "['_NEWLINE_SHREK', 'Why are you following me?']\n",
      "['_NEWLINE_DONKEY', \"I'll tell you why. (singing) 'Cause I'm all alone, There's no one here beside me, My problems have all gone, There's no one to deride me, But you gotta have faith...\"]\n",
      "['_NEWLINE_SHREK', \"Stop singing! It's no wonder you don't have any friends.\"]\n",
      "['_NEWLINE_DONKEY', 'Wow. Only a true friend would be that cruelly honest.']\n",
      "['_NEWLINE_SHREK', 'Listen, little donkey. Take a look at me. What am I?']\n",
      "['_NEWLINE_DONKEY', '(looks all the way up at Shrek) Uh ...really tall?']\n",
      "['_NEWLINE_SHREK', 'No! I\\'m an ogre! You know. \"Grab your torch and pitchforks.\" Doesn\\'t that bother you?']\n",
      "['_NEWLINE_DONKEY', 'Nope.']\n",
      "['_NEWLINE_SHREK', 'Really?']\n",
      "['_NEWLINE_DONKEY', 'Really, really.']\n",
      "['_NEWLINE_SHREK', 'Oh.']\n",
      "['_NEWLINE_DONKEY', \"Man, I like you. What's you name?\"]\n",
      "['_NEWLINE_SHREK', 'Uh, Shrek.']\n",
      "['_NEWLINE_DONKEY', \"Shrek? Well, you know what I like about you, Shrek? You got that kind of I-don't-care-what-nobody-thinks-of-me thing. I like that. I respect that, Shrek. You all right. (They come over a hill and you can see Shrek's cottage.) Whoa! Look at that. Who'd want to live in place like that?\"]\n",
      "['_NEWLINE_SHREK', 'That would be my home.']\n",
      "['_NEWLINE_DONKEY', \"Oh! And it is lovely! Just beautiful. You know you are quite a decorator. It's amazing what you've done with such a modest budget. I like that boulder. That is a nice boulder. I guess you don't entertain much, do you?\"]\n",
      "['_NEWLINE_SHREK', 'I like my privacy.']\n",
      "['_NEWLINE_DONKEY', \"You know, I do too. That's another thing we have in common. Like I hate it when you got somebody in your face. You've trying to give them a hint, and they won't leave. There's that awkward silence. (awkward silence) Can I stay with you?\"]\n",
      "['_NEWLINE_SHREK', 'Uh, what?']\n",
      "['_NEWLINE_DONKEY', 'Can I stay with you, please?']\n",
      "['_NEWLINE_SHREK', '(sarcastically) Of course!']\n",
      "['_NEWLINE_DONKEY', 'Really?']\n",
      "['_NEWLINE_SHREK', 'No.']\n",
      "['_NEWLINE_DONKEY', \"Please! I don't wanna go back there! You don't know what it's like to be considered a freak. (pause while he looks at Shrek) Well, maybe you do. But that's why we gotta stick together. You gotta let me stay! Please! Please!\"]\n",
      "['_NEWLINE_SHREK', 'Okay! Okay! But one night only.']\n",
      "['_NEWLINE_DONKEY', 'Ah! Thank you! (he runs inside the cottage)']\n",
      "['_NEWLINE_SHREK', 'What are you...? (Donkey hops up onto a chair.) No! No!']\n",
      "['_NEWLINE_DONKEY', \"This is gonna be fun! We can stay up late, swappin' manly stories, and in the mornin' I'm makin' waffles.\"]\n",
      "['_NEWLINE_SHREK', 'Oh!']\n",
      "['_NEWLINE_DONKEY', 'Where do, uh, I sleep?']\n",
      "['_NEWLINE_SHREK', '(irritated) Outside!']\n",
      "['_NEWLINE_DONKEY', \"Oh, well, I guess that's cool. I mean, I don't know you, and you don't know me, so I guess outside is best, you know. Here I go. Good night. (Shrek slams the door.) (sigh) I mean, I do like the outdoors. I'm a donkey. I was born outside. I'll just be sitting by myself outside, I guess, you know. By myself, outside. I'm all alone...there's no one here beside me...\"]\n",
      "['_NEWLINE_SHREK', '(to Donkey) I thought I told you to stay outside.']\n",
      "['_NEWLINE_DONKEY', '(from the window) I am outside.']\n",
      "['_NEWLINE_BLIND MOUSE1', \"Well, gents, it's a far cry from the farm, but what choice do we have?\"]\n",
      "['_NEWLINE_BLIND MOUSE2', \"It's not home, but it'll do just fine.\"]\n",
      "['_NEWLINE_GORDO', '(bouncing on a slug) What a lovely bed.']\n",
      "['_NEWLINE_SHREK', 'Got ya. (Grabs a mouse, but it escapes and lands on his shoulder.)']\n",
      "['_NEWLINE_GORDO', \"I found some cheese. (bites Shrek's ear)\"]\n",
      "['_NEWLINE_SHREK', 'Ow!']\n",
      "['_NEWLINE_GORDO', 'Blah! Awful stuff.']\n",
      "['_NEWLINE_BLIND MOUSE1', 'Is that you, Gordo?']\n",
      "['_NEWLINE_GORDO', 'How did you know?']\n",
      "['_NEWLINE_SHREK', 'Enough! (he grabs the 3 mice) What are you doing in my house? (He gets bumped from behind and he drops the mice.) Hey! (he turns and sees the Seven Dwarves with Snow White on the table.) Oh, no, no, no. Dead broad off the table.']\n",
      "['_NEWLINE_DWARF', \"Where are we supposed to put her? The bed's taken.\"]\n",
      "['_NEWLINE_SHREK', 'Huh?']\n",
      "['_NEWLINE_BIG BAD WOLF', 'What?']\n",
      "['_NEWLINE_SHREK', \"I live in a swamp. I put up signs. I'm a terrifying ogre! What do I have to do get a little privacy? (He opens the front door to throw the Wolf out and he sees that all the collected Fairy Tale Creatures are on his land.) Oh, no. No! No!\"]\n",
      "['_NEWLINE_SHREK', 'What are you doing in my swamp? (this echoes and everyone falls silent.)']\n",
      "['_NEWLINE_SHREK', \"All right, get out of here. All of you, move it! Come on! Let's go! Hapaya! Hapaya! Hey! Quickly. Come on! (more dwarves run inside the house) No, no! No, no. Not there. Not there. (they shut the door on him) Oh! (turns to look at Donkey)\"]\n",
      "['_NEWLINE_DONKEY', \"Hey, don't look at me. I didn't invite them.\"]\n",
      "['_NEWLINE_PINOCCHIO', 'Oh, gosh, no one invited us.']\n",
      "['_NEWLINE_SHREK', 'What?']\n",
      "['_NEWLINE_PINOCCHIO', 'We were forced to come here.']\n",
      "['_NEWLINE_SHREK', '(flabbergasted) By who?']\n",
      "['_NEWLINE_LITTLE PIG', 'Lord Farquaad. He huffed and he puffed and he...signed an eviction notice.']\n",
      "['_NEWLINE_SHREK', '(heavy sigh) All right. Who knows where this Farquaad guy is?']\n",
      "['_NEWLINE_DONKEY', 'Oh, I do. I know where he is.']\n",
      "['_NEWLINE_SHREK', 'Does anyone else know where to find him? Anyone at all?']\n",
      "['_NEWLINE_DONKEY', 'Me! Me!']\n",
      "['_NEWLINE_SHREK', 'Anyone?']\n",
      "['_NEWLINE_DONKEY', 'Oh! Oh, pick me! Oh, I know! I know! Me, me!']\n",
      "['_NEWLINE_SHREK', \"(sigh) Okay, fine. Attention, all fairy tale things. Do not get comfortable. Your welcome is officially worn out. In fact, I'm gonna see this guy Farquaad right now and get you all off my land and back where you came from! (Pause. Then the crowd goes wild.) Oh! (to Donkey) You! You're comin' with me.\"]\n",
      "['_NEWLINE_DONKEY', \"All right, that's what I like to hear, man. Shrek and Donkey, two stalwart friends, off on a whirlwind big-city adventure. I love it!\"]\n",
      "['_NEWLINE_DONKEY', \"(singing) On the road again. Sing it with me, Shrek. I can't wait to get on the road again.\"]\n",
      "['_NEWLINE_SHREK', 'What did I say about singing?']\n",
      "['_NEWLINE_DONKEY', 'Can I whistle?']\n",
      "['_NEWLINE_SHREK', 'No.']\n",
      "['_NEWLINE_DONKEY', 'Can I hum it?']\n",
      "['_NEWLINE_SHREK', 'All right, hum it.']\n",
      "['_NEWLINE_FARQUAAD', \"That's enough. He's ready to talk.\"]\n",
      "['_NEWLINE_FARQUAAD', \"(he picks up the Gingerbread Man's legs and plays with them) Run, run, run, as fast as you can. You can't catch me. I'm the gingerbread man.\"]\n",
      "['_NEWLINE_GINGERBREAD MAN', 'You are a monster.']\n",
      "['_NEWLINE_FARQUAAD', \"I'm not the monster here. You are. You and the rest of that fairy tale trash, poisoning my perfect world. Now, tell me! Where are the others?\"]\n",
      "['_NEWLINE_GINGERBREAD MAN', \"Eat me! (He spits milk into Farquaad's eye.)\"]\n",
      "['_NEWLINE_FARQUAAD', \"I've tried to be fair to you creatures. Now my patience has reached its end! Tell me or I'll...(he makes as if to pull off the Gingerbread Man's buttons)\"]\n",
      "['_NEWLINE_GINGERBREAD MAN', 'No, no, not the buttons. Not my gumdrop buttons.']\n",
      "['_NEWLINE_FARQUAAD', \"All right then. Who's hiding them?\"]\n",
      "['_NEWLINE_GINGERBREAD MAN', \"Okay, I'll tell you. Do you know the muffin man?\"]\n",
      "['_NEWLINE_FARQUAAD', 'The muffin man?']\n",
      "['_NEWLINE_GINGERBREAD MAN', 'The muffin man.']\n",
      "['_NEWLINE_FARQUAAD', 'Yes, I know the muffin man, who lives on Drury Lane?']\n",
      "['_NEWLINE_GINGERBREAD MAN', \"Well, she's married to the muffin man.\"]\n",
      "['_NEWLINE_FARQUAAD', 'The muffin man?']\n",
      "['_NEWLINE_GINGERBREAD MAN', 'The muffin man!']\n",
      "['_NEWLINE_FARQUAAD', \"She's married to the muffin man.\"]\n",
      "['_NEWLINE_HEAD GUARD', 'My lord! We found it.']\n",
      "['_NEWLINE_FARQUAAD', 'Then what are you waiting for? Bring it in.']\n",
      "['_NEWLINE_GINGERBREAD MAN', '(in awe) Ohhhh...']\n",
      "['_NEWLINE_FARQUAAD', 'Magic mirror...']\n",
      "['_NEWLINE_GINGERBREAD MAN', \"Don't tell him anything! (Farquaad picks him up and dumps him into a trash can with a lid.) No!\"]\n",
      "['_NEWLINE_FARQUAAD', 'Evening. Mirror, mirror on the wall. Is this not the most perfect kingdom of them all?']\n",
      "['_NEWLINE_MIRROR', \"Well, technically you're not a king.\"]\n",
      "['_NEWLINE_FARQUAAD', 'Uh, Thelonius. (Thelonius holds up a hand mirror and smashes it with his fist.) You were saying?']\n",
      "['_NEWLINE_MIRROR', \"What I mean is you're not a king yet. But you can become one. All you have to do is marry a princess.\"]\n",
      "['_NEWLINE_FARQUAAD', 'Go on.']\n",
      "['_NEWLINE_MIRROR', \"(chuckles nervously) So, just sit back and relax, my lord, because it's time for you to meet today's eligible bachelorettes. And here they are! Bachelorette number one is a mentally abused shut-in from a kingdom far, far away. She likes sushi and hot tubbing anytime. Her hobbies include cooking and cleaning for her two evil sisters. Please welcome Cinderella. (shows picture of Cinderella) Bachelorette number two is a cape-wearing girl from the land of fancy. Although she lives with seven other men, she's not easy. Just kiss her dead, frozen lips and find out what a live wire she is. Come on. Give it up for Snow White! (shows picture of Snow White) And last, but certainly not last, bachelorette number three is a fiery redhead from a dragon-guarded castle surrounded by hot boiling lava! But don't let that cool you off. She's a loaded pistol who likes pina colads and getting caught in the rain. Yours for the rescuing, Princess Fiona! (Shows picture of Princess Fiona) So will it be bachelorette number one, bachelorette number two or bachelorette number three?\"]\n",
      "['_NEWLINE_GUARDS', 'Two! Two! Three! Three! Two! Two! Three!']\n",
      "['_NEWLINE_FARQUAAD', 'Three? One? Three?']\n",
      "['_NEWLINE_THELONIUS', 'Three! (holds up 2 fingers) Pick number three, my lord!']\n",
      "['_NEWLINE_FARQUAAD', 'Okay, okay, uh, number three!']\n",
      "['_NEWLINE_MIRROR', \"Lord Farquaad, you've chosen Princess Fiona.\"]\n",
      "['_NEWLINE_FARQUAAD', \"Princess Fiona. She's perfect. All I have to do is just find someone who can go...\"]\n",
      "['_NEWLINE_MIRROR', 'But I probably should mention the little thing that happens at night.']\n",
      "['_NEWLINE_FARQUAAD', \"I'll do it.\"]\n",
      "['_NEWLINE_MIRROR', 'Yes, but after sunset...']\n",
      "['_NEWLINE_FARQUAAD', \"Silence! I will make this Princess Fiona my queen, and DuLoc will finally have the perfect king! Captain, assemble your finest men. We're going to have a tournament. (smiles evilly)\"]\n",
      "['_NEWLINE_DONKEY', \"But that's it. That's it right there. That's DuLoc. I told ya I'd find it.\"]\n",
      "['_NEWLINE_SHREK', \"So, that must be Lord Farquaad's castle.\"]\n",
      "['_NEWLINE_DONKEY', \"Uh-huh. That's the place.\"]\n",
      "['_NEWLINE_SHREK', \"Do you think maybe he's compensating for something? (He laughs, but then groans as Donkey doesn't get the joke. He continues walking through the parking lot.)\"]\n",
      "['_NEWLINE_DONKEY', 'Hey, wait. Wait up, Shrek.']\n",
      "['_NEWLINE_MAN', \"Hurry, darling. We're late. Hurry.\"]\n",
      "['_NEWLINE_SHREK', \"Hey, you! (The attendant, who is wearing a giant head that looks like Lord Farquaad, screams and begins running through the rows of rope to get to the front gate to get away from Shrek.) Wait a second. Look, I'm not gonna eat you. I just - - I just - - (He sighs and then begins walking straight through the rows. The attendant runs into a wall and falls down. Shrek and Donkey look at him then continue on into DuLoc.)\"]\n",
      "['_NEWLINE_SHREK', \"It's quiet. Too quiet. Where is everybody?\"]\n",
      "['_NEWLINE_DONKEY', 'Hey, look at this!']\n",
      "['_NEWLINE_WOODEN PEOPLE', 'Welcome to DuLoc such a perfect town']\n",
      "['_NEWLINE_DONKEY', \"Wow! Let's do that again! (makes ready to run over and pull the lever again)\"]\n",
      "['_NEWLINE_SHREK', \"(grabs Donkey's tail and holds him still) No. No. No, no, no! No.\"]\n",
      "['_NEWLINE_FARQUAAD', 'Brave knights. You are the best and brightest in all the land. Today one of you shall prove himself...']\n",
      "['_NEWLINE_SHREK', \"All right. You're going the right way for a smacked bottom.\"]\n",
      "['_NEWLINE_DONKEY', 'Sorry about that.']\n",
      "['_NEWLINE_FARQUAAD', \"That champion shall have the honor - - no, no - - the privilege to go forth and rescue the lovely Princess Fiona from the fiery keep of the dragon. If for any reason the winner is unsuccessful, the first runner-up will take his place and so on and so forth. Some of you may die, but it's a sacrifice I am willing to make. (cheers) Let the tournament begin! (He notices Shrek) Oh! What is that? It's hideous!\"]\n",
      "['_NEWLINE_SHREK', \"(turns to look at Donkey and then back at Farquaad) Ah, that's not very nice. It's just a donkey.\"]\n",
      "['_NEWLINE_FARQUAAD', 'Indeed. Knights, new plan! The one who kills the ogre will be named champion! Have it him!']\n",
      "['_NEWLINE_MEN', 'Get him!']\n",
      "['_NEWLINE_SHREK', 'Oh, hey! Now come on! Hang on now. (bumps into a table where there are mugs of beer)']\n",
      "['_NEWLINE_CROWD', 'Go ahead! Get him!']\n",
      "['_NEWLINE_SHREK', \"(holds up a mug of beer) Can't we just settle this over a pint?\"]\n",
      "['_NEWLINE_CROWD', 'Kill the beast!']\n",
      "['_NEWLINE_SHREK', 'No? All right then. (drinks the beer) Come on!']\n",
      "['_NEWLINE_DONKEY', 'Hey, Shrek, tag me! Tag me!']\n",
      "['_NEWLINE_SHREK', 'Yeah!']\n",
      "['_NEWLINE_WOMAN', 'The chair! Give him the chair!']\n",
      "['_NEWLINE_SHREK', \"Oh, yeah! Ah! Ah! Thank you! Thank you very much! I'm here till Thursday. Try the veal! Ha, ha! (laughs)\"]\n",
      "['_NEWLINE_HEAD GUARD', 'Shall I give the order, sir?']\n",
      "['_NEWLINE_FARQUAAD', 'No, I have a better idea. People of DuLoc, I give you our champion!']\n",
      "['_NEWLINE_SHREK', 'What?']\n",
      "['_NEWLINE_FARQUAAD', \"Congratulations, ogre. You're won the honor of embarking on a great and noble quest.\"]\n",
      "['_NEWLINE_SHREK', \"Quest? I'm already in a quest, a quest to get my swamp back.\"]\n",
      "['_NEWLINE_FARQUAAD', 'Your swamp?']\n",
      "['_NEWLINE_SHREK', 'Yeah, my swamp! Where you dumped those fairy tale creatures!']\n",
      "['_NEWLINE_FARQUAAD', \"Indeed. All right, ogre. I'll make you a deal. Go on this quest for me, and I'll give you your swamp back.\"]\n",
      "['_NEWLINE_SHREK', 'Exactly the way it was?']\n",
      "['_NEWLINE_FARQUAAD', 'Down to the last slime-covered toadstool.']\n",
      "['_NEWLINE_SHREK', 'And the squatters?']\n",
      "['_NEWLINE_FARQUAAD', 'As good as gone.']\n",
      "['_NEWLINE_SHREK', 'What kind of quest?']\n",
      "['_NEWLINE_DONKEY', \"Let me get this straight. You're gonna go fight a dragon and rescue a princess just so Farquaad will give you back a swamp which you only don't have because he filled it full of freaks in the first place. Is that about right?\"]\n",
      "['_NEWLINE_SHREK', \"You know, maybe there's a good reason donkeys shouldn't talk.\"]\n",
      "['_NEWLINE_DONKEY', \"I don't get it. Why don't you just pull some of that ogre stuff on him? Throttle him, lay siege to his fortress, grinds his bones to make your bread, the whole ogre trip.\"]\n",
      "['_NEWLINE_SHREK', 'Oh, I know what. Maybe I could have decapitated an entire village and put their heads on a pike, gotten a knife, cut open their spleen and drink their fluids. Does that sound good to you?']\n",
      "['_NEWLINE_DONKEY', 'Uh, no, not really, no.']\n",
      "['_NEWLINE_SHREK', \"For your information, there's a lot more to ogres than people think.\"]\n",
      "['_NEWLINE_DONKEY', 'Example?']\n",
      "['_NEWLINE_SHREK', 'Example? Okay, um, ogres are like onions. (he holds out his onion)']\n",
      "['_NEWLINE_DONKEY', '(sniffs the onion) They stink?']\n",
      "['_NEWLINE_SHREK', 'Yes - - No!']\n",
      "['_NEWLINE_DONKEY', 'They make you cry?']\n",
      "['_NEWLINE_SHREK', 'No!']\n",
      "['_NEWLINE_DONKEY', \"You leave them in the sun, they get all brown, start sproutin' little white hairs.\"]\n",
      "['_NEWLINE_SHREK', 'No! Layers! Onions have layers. Ogres have layers! Onions have layers. You get it? We both have layers. (he heaves a sigh and then walks off)']\n",
      "['_NEWLINE_DONKEY', '(trailing after Shrek) Oh, you both have layers. Oh. {Sniffs} You know, not everybody likes onions. Cake! Everybody loves cakes! Cakes have layers.']\n",
      "['_NEWLINE_SHREK', \"I don't care... what everyone likes. Ogres are not like cakes.\"]\n",
      "['_NEWLINE_DONKEY', 'You know what else everybody likes? Parfaits. Have you ever met a person, you say, \"Let\\'s get some parfait,\" they say, \"Hell no, I don\\'t like no parfait\"? Parfaits are delicious.']\n",
      "['_NEWLINE_SHREK', 'No! You dense, irritating, miniature beast of burden! Ogres are like onions! And of story. Bye-bye. See ya later.']\n",
      "['_NEWLINE_DONKEY', 'Parfaits may be the most delicious thing on the whole damn planet.']\n",
      "['_NEWLINE_SHREK', 'You know, I think I preferred your humming.']\n",
      "['_NEWLINE_DONKEY', \"Do you have a tissue or something? I'm making a mess. Just the word parfait make me start slobbering.\"]\n",
      "['_NEWLINE_DONKEY', '(sniffs) Ohh! Shrek! Did you do that? You gotta warn somebody before you just crack one off. My mouth was open and everything.']\n",
      "['_NEWLINE_SHREK', \"Believe me, Donkey, if it was me, you'd be dead. (sniffs) It's brimstone. We must be getting close.\"]\n",
      "['_NEWLINE_DONKEY', \"Yeah, right, brimstone. Don't be talking about it's the brimstone. I know what I smell. It wasn't no brimstone. It didn't come off no stone neither.\"]\n",
      "['_NEWLINE_SHREK', \"Sure, it's big enough, but look at the location. (laughs...then the laugh turns into a groan)\"]\n",
      "['_NEWLINE_DONKEY', 'Uh, Shrek? Uh, remember when you said ogres have layers?']\n",
      "['_NEWLINE_SHREK', 'Oh, aye.']\n",
      "['_NEWLINE_DONKEY', \"Well, I have a bit of a confession to make. Donkeys don't have layers. We wear our fear right out there on our sleeves.\"]\n",
      "['_NEWLINE_SHREK', \"Wait a second. Donkeys don't have sleeves.\"]\n",
      "['_NEWLINE_DONKEY', 'You know what I mean.']\n",
      "['_NEWLINE_SHREK', \"You can't tell me you're afraid of heights.\"]\n",
      "['_NEWLINE_DONKEY', \"No, I'm just a little uncomfortable about being on a rickety bridge over a boiling like of lava!\"]\n",
      "['_NEWLINE_SHREK', \"Come on, Donkey. I'm right here beside ya, okay? For emotional support., we'll just tackle this thing together one little baby step at a time.\"]\n",
      "['_NEWLINE_DONKEY', 'Really?']\n",
      "['_NEWLINE_SHREK', 'Really, really.']\n",
      "['_NEWLINE_DONKEY', 'Okay, that makes me feel so much better.']\n",
      "['_NEWLINE_SHREK', \"Just keep moving. And don't look down.\"]\n",
      "['_NEWLINE_DONKEY', \"Okay, don't look down. Don't look down. Don't look down. Keep on moving. Don't look down. (he steps through a rotting board and ends up looking straight down into the lava) Shrek! I'm lookin' down! Oh, God, I can't do this! Just let me off, please!\"]\n",
      "['_NEWLINE_SHREK', \"But you're already halfway.\"]\n",
      "['_NEWLINE_DONKEY', 'But I know that half is safe!']\n",
      "['_NEWLINE_SHREK', \"Okay, fine. I don't have time for this. You go back.\"]\n",
      "['_NEWLINE_DONKEY', 'Shrek, no! Wait!']\n",
      "['_NEWLINE_SHREK', \"Just, Donkey - - Let's have a dance then, shall me? (bounces and sways the bridge)\"]\n",
      "['_NEWLINE_DONKEY', \"Don't do that!\"]\n",
      "['_NEWLINE_SHREK', \"Oh, I'm sorry. Do what? Oh, this? (bounces the bridge again)\"]\n",
      "['_NEWLINE_DONKEY', 'Yes, that!']\n",
      "['_NEWLINE_SHREK', 'Yes? Yes, do it. Okay. (continues to bounce and sway as he backs Donkey across the bridge)']\n",
      "['_NEWLINE_DONKEY', 'No, Shrek! No! Stop it!']\n",
      "['_NEWLINE_SHREK', \"You said do it! I'm doin' it.\"]\n",
      "['_NEWLINE_DONKEY', \"I'm gonna die. I'm gonna die. Shrek, I'm gonna die. (steps onto solid ground) Oh!\"]\n",
      "['_NEWLINE_SHREK', \"That'll do, Donkey. That'll do. (walks towards the castle)\"]\n",
      "['_NEWLINE_DONKEY', 'Cool. So where is this fire-breathing pain-in-the-neck anyway?']\n",
      "['_NEWLINE_SHREK', 'Inside, waiting for us to rescue her. (chuckles)']\n",
      "['_NEWLINE_DONKEY', \"I was talkin' about the dragon, Shrek.\"]\n",
      "['_NEWLINE_DONKEY', 'You afraid?']\n",
      "['_NEWLINE_SHREK', 'No.']\n",
      "['_NEWLINE_DONKEY', 'But...']\n",
      "['_NEWLINE_SHREK', 'Shh.']\n",
      "['_NEWLINE_DONKEY', \"Oh, good. Me neither. (sees a skeleton and gasps) 'Cause there's nothin' wrong with bein' afraid. Fear's a sensible response to an unfamiliar situation. Unfamiliar dangerous situation, I might add. With a dragon that breathes fire and eats knights and breathes fire, it sure doesn't mean you're a coward if you're a little scared. I sure as heck ain't no coward. I know that.\"]\n",
      "['_NEWLINE_SHREK', 'Donkey, two things, okay? Shut ... up. Now go over there and see if you can find any stairs.']\n",
      "['_NEWLINE_DONKEY', \"Stairs? I thought we was lookin' for the princess.\"]\n",
      "['_NEWLINE_SHREK', '(putting on a helmet) The princess will be up the stairs in the highest room in the tallest tower.']\n",
      "['_NEWLINE_DONKEY', \"What makes you think she'll be there?\"]\n",
      "['_NEWLINE_SHREK', 'I read it in a book once. (walks off)']\n",
      "['_NEWLINE_DONKEY', \"Cool. You handle the dragon. I'll handle the stairs. I'll find those stairs. I'll whip their butt too. Those stairs won't know which way they're goin'. (walks off)\"]\n",
      "['_NEWLINE_DONKEY', \"I'm gonna take drastic steps. Kick it to the curb. Don't mess with me. I'm the stair master. I've mastered the stairs. I wish I had a step right here. I'd step all over it.\"]\n",
      "['_NEWLINE_SHREK', \"Well, at least we know where the princess is, but where's the...\"]\n",
      "['_NEWLINE_DONKEY', '(os) Dragon!']\n",
      "['_NEWLINE_SHREK', 'Donkey, look out! (he manages to get a hold of the dragons tail and holds on) Got ya!']\n",
      "['_NEWLINE_DONKEY', 'Oh! Aah! Aah!']\n",
      "['_NEWLINE_DONKEY', \"No. Oh, no, No! (the dragon roars) Oh, what large teeth you have. (the dragon growls) I mean white, sparkling teeth. I know you probably hear this all time from your food, but you must bleach, 'cause that is one dazzling smile you got there. Do I detect a hint of minty freshness? And you know what else? You're - - You're a girl dragon! Oh, sure! I mean, of course you're a girl dragon. You're just reeking of feminine beauty. (the dragon begins fluttering her eyes at him) What's the matter with you? You got something in your eye? Ohh. Oh. Oh. Man, I'd really love to stay, but you know, I'm, uh...(the dragon blows a smoke ring in the shape of a heart right at him, and he coughs) I'm an asthmatic, and I don't know if it'd work out if you're gonna blow smoke rings. Shrek! (the dragon picks him up with her teeth and carries him off) No! Shrek! Shrek! Shrek!\"]\n",
      "['_NEWLINE_FIONA', 'Oh! Oh!']\n",
      "['_NEWLINE_SHREK', 'Wake up!']\n",
      "['_NEWLINE_FIONA', 'What?']\n",
      "['_NEWLINE_SHREK', 'Are you Princess Fiona?']\n",
      "['_NEWLINE_FIONA', 'I am, awaiting a knight so bold as to rescue me.']\n",
      "['_NEWLINE_SHREK', \"Oh, that's nice. Now let's go!\"]\n",
      "['_NEWLINE_FIONA', 'But wait, Sir Knight. This be-ith our first meeting. Should it not be a wonderful, romantic moment?']\n",
      "['_NEWLINE_SHREK', \"Yeah, sorry, lady. There's no time.\"]\n",
      "['_NEWLINE_FIONA', 'Hey, wait. What are you doing? You should sweep me off my feet out yonder window and down a rope onto your valiant steed.']\n",
      "['_NEWLINE_SHREK', \"You've had a lot of time to plan this, haven't you?\"]\n",
      "['_NEWLINE_FIONA', '(smiles) Mm-hmm.']\n",
      "['_NEWLINE_FIONA', 'But we have to savor this moment! You could recite an epic poem for me. A ballad? A sonnet! A limerick? Or something!']\n",
      "['_NEWLINE_SHREK', \"I don't think so.\"]\n",
      "['_NEWLINE_FIONA', 'Can I at least know the name of my champion?']\n",
      "['_NEWLINE_SHREK', 'Uh, Shrek.']\n",
      "['_NEWLINE_FIONA', 'Sir Shrek. (clears throat and holds out a handkerchief) I pray that you take this favor as a token of my gratitude.']\n",
      "['_NEWLINE_SHREK', 'Thanks!']\n",
      "['_NEWLINE_FIONA', \"(surprised)You didn't slay the dragon?\"]\n",
      "['_NEWLINE_SHREK', \"It's on my to-do list. Now come on! (takes off running and drags Fiona behind him.)\"]\n",
      "['_NEWLINE_FIONA', \"But this isn't right! You were meant to charge in, sword drawn, banner flying. That's what all the other knights did.\"]\n",
      "['_NEWLINE_SHREK', 'Yeah, right before they burst into flame.']\n",
      "['_NEWLINE_FIONA', \"That's not the point. (Shrek suddenly stops and she runs into him.) Oh! (Shrek ignores her and heads for a wooden door off to the side.) Wait. Where are you going? The exit's over there.\"]\n",
      "['_NEWLINE_SHREK', 'Well, I have to save my ass.']\n",
      "['_NEWLINE_FIONA', 'What kind of knight are you?']\n",
      "['_NEWLINE_SHREK', 'One of a kind. (opens the door into the throne room)']\n",
      "['_NEWLINE_DONKEY', \"(os) Slow down. Slow down, baby, please. I believe it's healthy to get to know someone over a long period of time. Just call me old-fashioned. (laughs worriedly) (we see him up close and from a distance as Shrek sneaks into the room) I don't want to rush into a physical relationship. I'm not emotionally ready for a commitment of, uh, this - - Magnitude really is the word I'm looking for. Magnitude- - Hey, that is unwanted physical contact. Hey, what are you doing? Okay, okay. Let's just back up a little and take this one step at a time. We really should get to know each other first as friends or pen pals. I'm on the road a lot, but I just love receiving cards - - I'd really love to stay, but - - Don't do that! That's my tail! That's my personal tail. You're gonna tear it off. I don't give permission - - What are you gonna do with that? Hey, now. No way. No! No! No, no! No. No, no, no. No! Oh!\"]\n",
      "['_NEWLINE_DONKEY', 'Hi, Princess!']\n",
      "['_NEWLINE_FIONA', 'It talks!']\n",
      "['_NEWLINE_SHREK', \"Yeah, it's getting him to shut up that's the trick.\"]\n",
      "['_NEWLINE_SHREK', 'Oh!']\n",
      "['_NEWLINE_SHREK', \"Okay, you two, heard for the exit! I'll take care of the dragon.\"]\n",
      "['_NEWLINE_SHREK', '(echoing) Run!']\n",
      "['_NEWLINE_FIONA', \"(sliding down the 'volcano' hill) You did it! You rescued me! You're amazing. (behind her Donkey falls down the hill) You're - - You're wonderful. You're... (turns and sees Shrek fall down the hill and bump into Donkey) a little unorthodox I'll admit. But thy deed is great, and thy heart is pure. I am eternally in your debt. (Donkey clears his throat.) And where would a brave knight be without his noble steed?\"]\n",
      "['_NEWLINE_DONKEY', \"I hope you heard that. She called me a noble steed. She think I'm a steed.\"]\n",
      "['_NEWLINE_FIONA', 'The battle is won. You may remove your helmet, good Sir Knight.']\n",
      "['_NEWLINE_SHREK', 'Uh, no.']\n",
      "['_NEWLINE_FIONA', 'Why not?']\n",
      "['_NEWLINE_SHREK', 'I have helmet hair.']\n",
      "['_NEWLINE_FIONA', \"Please. I would'st look upon the face of my rescuer.\"]\n",
      "['_NEWLINE_SHREK', \"No, no, you wouldn't - - 'st.\"]\n",
      "['_NEWLINE_FIONA', 'But how will you kiss me?']\n",
      "['_NEWLINE_SHREK', \"What? (to Donkey) That wasn't in the job description.\"]\n",
      "['_NEWLINE_DONKEY', \"Maybe it's a perk.\"]\n",
      "['_NEWLINE_FIONA', \"No, it's destiny. Oh, you must know how it goes. A princess locked in a tower and beset by a dragon is rescued by a brave knight, and then they share true love's first kiss.\"]\n",
      "['_NEWLINE_DONKEY', 'Hmm? With Shrek? You think- - Wait. Wait. You think that Shrek is you true love?']\n",
      "['_NEWLINE_FIONA', 'Well, yes.']\n",
      "['_NEWLINE_DONKEY', 'You think Shrek is your true love!']\n",
      "['_NEWLINE_FIONA', 'What is so funny?']\n",
      "['_NEWLINE_SHREK', \"Let's just say I'm not your type, okay?Fiona: Of course, you are. You're my rescuer. Now - - Now remove your helmet.\"]\n",
      "['_NEWLINE_SHREK', \"Look. I really don't think this is a good idea.\"]\n",
      "['_NEWLINE_FIONA', 'Just take off the helmet.']\n",
      "['_NEWLINE_SHREK', \"I'm not going to.\"]\n",
      "['_NEWLINE_FIONA', 'Take it off.']\n",
      "['_NEWLINE_SHREK', 'No!']\n",
      "['_NEWLINE_FIONA', 'Now!']\n",
      "['_NEWLINE_SHREK', 'Okay! Easy. As you command. Your Highness. (takes off his helmet)']\n",
      "['_NEWLINE_FIONA', \"You- - You're a- - an ogre.\"]\n",
      "['_NEWLINE_SHREK', 'Oh, you were expecting Prince Charming.']\n",
      "['_NEWLINE_FIONA', \"Well, yes, actually. Oh, no. This is all wrong. You're not supposed to be an ogre.\"]\n",
      "['_NEWLINE_SHREK', 'Princess, I was sent to rescue you by Lord Farquaad, okay? He is the one who wants to marry you.']\n",
      "['_NEWLINE_FIONA', \"Then why didn't he come rescue me?\"]\n",
      "['_NEWLINE_SHREK', 'Good question. You should ask him that when we get there.']\n",
      "['_NEWLINE_FIONA', 'But I have to be rescued by my true love, not by some ogre and his- - his pet.']\n",
      "['_NEWLINE_DONKEY', 'Well, so much for noble steed.']\n",
      "['_NEWLINE_SHREK', \"You're not making my job any easier.\"]\n",
      "['_NEWLINE_FIONA', \"I'm sorry, but your job is not my problem. You can tell Lord Farquaad that if he wants to rescue me properly, I'll be waiting for him right here.\"]\n",
      "['_NEWLINE_SHREK', \"Hey! I'm no one's messenger boy, all right? (ominous) I'm a delivery boy. (he swiftly picks her up and swings her over his shoulder like she was a sack of potatoes)\"]\n",
      "['_NEWLINE_FIONA', \"You wouldn't dare. Put me down!\"]\n",
      "['_NEWLINE_SHREK', \"Ya comin', Donkey?\"]\n",
      "['_NEWLINE_DONKEY', \"I'm right behind ya.\"]\n",
      "['_NEWLINE_FIONA', 'Put me down, or you will suffer the consequences! This is not dignified! Put me down!']\n",
      "['_NEWLINE_DONKEY', \"Okay, so here's another question. Say there's a woman that digs you, right, but you don't really like her that way. How do you let her down real easy so her feelings aren't hurt, but you don't get burned to a crisp and eaten?\"]\n",
      "['_NEWLINE_FIONA', \"You just tell her she's not your true love. Everyone knows what happens when you find your...(Shrek drops her on the ground) Hey! The sooner we get to DuLoc the better.\"]\n",
      "['_NEWLINE_DONKEY', \"You're gonna love it there, Princess. It's beautiful!\"]\n",
      "['_NEWLINE_FIONA', \"And what of my groom-to-be? Lord Farquaad? What's he like?\"]\n",
      "['_NEWLINE_SHREK', \"Let me put it this way, Princess. Men of Farquaad's stature are in short supply. (he and Donkey laugh)\"]\n",
      "['_NEWLINE_DONKEY', \"I don't know. There are those who think little of him. (they laugh again) Fiona: Stop it. Stop it, both of you. You're just jealous you can never measure up to a great ruler like Lord Farquaad.\"]\n",
      "['_NEWLINE_SHREK', 'Yeah, well, maybe you\\'re right, Princess. But I\\'ll let you do the \"measuring\" when you see him tomorrow.']\n",
      "['_NEWLINE_FIONA', \"(looks at the setting sun) Tomorrow? It'll take that long? Shouldn't we stop to make camp?\"]\n",
      "['_NEWLINE_SHREK', \"No, that'll take longer. We can keep going.\"]\n",
      "['_NEWLINE_FIONA', \"But there's robbers in the woods.\"]\n",
      "['_NEWLINE_DONKEY', 'Whoa! Time out, Shrek! Camp is starting to sound good.']\n",
      "['_NEWLINE_SHREK', \"Hey, come on. I'm scarier than anything we're going to see in this forest.\"]\n",
      "['_NEWLINE_FIONA', 'I need to find somewhere to camp now!']\n",
      "['_NEWLINE_SHREK', 'Hey! Over here.']\n",
      "['_NEWLINE_DONKEY', \"Shrek, we can do better than that. I don't think this is fit for a princess.\"]\n",
      "['_NEWLINE_FIONA', \"No, no, it's perfect. It just needs a few homey touches.\"]\n",
      "['_NEWLINE_SHREK', 'Homey touches? Like what? (he hears a tearing noise and looks over at Fiona who has torn the bark off of a tree.)']\n",
      "['_NEWLINE_FIONA', 'A door? Well, gentlemen, I bid thee good night. (goes into the cave and puts the bark door up behind her)']\n",
      "['_NEWLINE_DONKEY', 'You want me to read you a bedtime story? I will.']\n",
      "['_NEWLINE_FIONA', '(os) I said good night!']\n",
      "['_NEWLINE_DONKEY', 'Shrek, What are you doing?']\n",
      "['_NEWLINE_SHREK', '(laughs) I just- - You know - - Oh, come on. I was just kidding.']\n",
      "['_NEWLINE_SHREK', \"And, uh, that one, that's Throwback, the only ogre to ever spit over three wheat fields.\"]\n",
      "['_NEWLINE_DONKEY', 'Right. Yeah. Hey, can you tell my future from these stars?']\n",
      "['_NEWLINE_SHREK', \"The stars don't tell the future, Donkey. They tell stories. Look, there's Bloodnut, the Flatulent. You can guess what he's famous for.\"]\n",
      "['_NEWLINE_DONKEY', \"I know you're making this up.\"]\n",
      "['_NEWLINE_SHREK', \"No, look. There he is, and there's the group of hunters running away from his stench.\"]\n",
      "['_NEWLINE_DONKEY', \"That ain't nothin' but a bunch of little dots.\"]\n",
      "['_NEWLINE_SHREK', 'You know, Donkey, sometimes things are more than they appear. Hmm? Forget it.']\n",
      "['_NEWLINE_DONKEY', '(heaves a big sigh) Hey, Shrek, what we gonna do when we get our swamp anyway?']\n",
      "['_NEWLINE_SHREK', 'Our swamp?']\n",
      "['_NEWLINE_DONKEY', \"You know, when we're through rescuing the princess.\"]\n",
      "['_NEWLINE_SHREK', 'We? Donkey, there\\'s no \"we\". There\\'s no \"our\". There\\'s just me and my swamp. The first thing I\\'m gonna do is build a ten-foot wall around my land.']\n",
      "['_NEWLINE_DONKEY', 'You cut me deep, Shrek. You cut me real deep just now. You know what I think? I think this whole wall thing is just a way to keep somebody out.']\n",
      "['_NEWLINE_SHREK', 'No, do ya think?']\n",
      "['_NEWLINE_DONKEY', \"Are you hidin' something?\"]\n",
      "['_NEWLINE_SHREK', 'Never mind, Donkey.']\n",
      "['_NEWLINE_DONKEY', \"Oh, this is another one of those onion things, isn't it?\"]\n",
      "['_NEWLINE_SHREK', 'No, this is one of those drop-it and leave-it alone things.']\n",
      "['_NEWLINE_DONKEY', \"Why don't you want to talk about it?\"]\n",
      "['_NEWLINE_SHREK', 'Why do you want to talk about it?']\n",
      "['_NEWLINE_DONKEY', 'Why are you blocking?']\n",
      "['_NEWLINE_SHREK', \"I'm not blocking.\"]\n",
      "['_NEWLINE_DONKEY', 'Oh, yes, you are.']\n",
      "['_NEWLINE_SHREK', \"Donkey, I'm warning you.\"]\n",
      "['_NEWLINE_DONKEY', 'Who you trying to keep out?']\n",
      "['_NEWLINE_SHREK', 'Everyone! Okay?']\n",
      "['_NEWLINE_DONKEY', \"(pause) Oh, now we're gettin' somewhere. (grins)\"]\n",
      "['_NEWLINE_SHREK', 'Oh! For the love of Pete! (gets up and walks over to the edge of the cliff and sits down)']\n",
      "['_NEWLINE_DONKEY', \"What's your problem? What you got against the whole world anyway?\"]\n",
      "['_NEWLINE_SHREK', 'Look, I\\'m not the one with the problem, okay? It\\'s the world that seems to have a problem with me. People take one look at me and go. \"Aah! Help! Run! A big, stupid, ugly ogre!\" They judge me before they even know me. That\\'s why I\\'m better off alone.']\n",
      "['_NEWLINE_DONKEY', \"You know what? When we met, I didn't think you was just a big, stupid, ugly ogre.\"]\n",
      "['_NEWLINE_SHREK', 'Yeah, I know.']\n",
      "['_NEWLINE_DONKEY', 'So, uh, are there any donkeys up there?']\n",
      "['_NEWLINE_SHREK', \"Well, there's, um, Gabby, the Small and Annoying.\"]\n",
      "['_NEWLINE_DONKEY', 'Okay, okay, I see it now. The big shiny one, right there. That one there?']\n",
      "['_NEWLINE_SHREK', \"That's the moon.\"]\n",
      "['_NEWLINE_DONKEY', 'Oh, okay.']\n",
      "['_NEWLINE_FARQUAAD', 'Again, show me again. Mirror, mirror, show her to me. Show me the princess.']\n",
      "['_NEWLINE_MIRROR', 'Hmph.']\n",
      "['_NEWLINE_FARQUAAD', 'Ah. Perfect.']\n",
      "['_NEWLINE_DONKEY', '(quietly) Mmm, yeah, you know I like it like that. Come on, baby. I said I like it.']\n",
      "['_NEWLINE_SHREK', 'Donkey, wake up. (shakes him)']\n",
      "['_NEWLINE_DONKEY', 'Huh? What?']\n",
      "['_NEWLINE_SHREK', 'Wake up.']\n",
      "['_NEWLINE_DONKEY', 'What? (stretches and yawns)']\n",
      "['_NEWLINE_FIONA', 'Good morning. Hm, how do you like your eggs?']\n",
      "['_NEWLINE_DONKEY', 'Oh, good morning, Princess!']\n",
      "['_NEWLINE_SHREK', \"What's all this about?\"]\n",
      "['_NEWLINE_FIONA', 'You know, we kind of got off to a bad start yesterday. I wanted to make it up to you. I mean, after all, you did rescue me.']\n",
      "['_NEWLINE_SHREK', 'Uh, thanks.']\n",
      "['_NEWLINE_FIONA', \"Well, eat up. We've got a big day ahead of us. (walks off)\"]\n",
      "['_NEWLINE_DONKEY', 'Shrek!']\n",
      "['_NEWLINE_SHREK', \"What? It's a compliment. Better out than in, I always say. (laughs)\"]\n",
      "['_NEWLINE_DONKEY', \"Well, it's no way to behave in front of a princess.\"]\n",
      "['_NEWLINE_FIONA', 'Thanks.']\n",
      "['_NEWLINE_DONKEY', \"She's as nasty as you are.\"]\n",
      "['_NEWLINE_SHREK', \"(chuckles) You know, you're not exactly what I expected.\"]\n",
      "['_NEWLINE_FIONA', \"Well, maybe you shouldn't judge people before you get to know them.\"]\n",
      "['_NEWLINE_ROBIN HOOD', 'La liberte! Hey!']\n",
      "['_NEWLINE_SHREK', 'Princess!']\n",
      "['_NEWLINE_FIONA', '(to Robin Hood) What are you doing?']\n",
      "['_NEWLINE_ROBIN HOOD', 'Be still, mon cherie, for I am you savior! And I am rescuing you from this green...(kisses up her arm while Fiona pulls back in disgust)...beast.']\n",
      "['_NEWLINE_SHREK', \"Hey! That's my princess! Go find you own!\"]\n",
      "['_NEWLINE_ROBIN HOOD', \"Please, monster! Can't you see I'm a little busy here?\"]\n",
      "['_NEWLINE_FIONA', \"(getting fed up) Look, pal, I don't know who you think you are!\"]\n",
      "['_NEWLINE_ROBIN HOOD', 'Oh! Of course! Oh, how rude. Please let me introduce myself. Oh, Merry Men. (laughs)']\n",
      "['_NEWLINE_MERRY MEN', 'Ta, dah, dah, dah, whoo.']\n",
      "['_NEWLINE_ROBIN HOOD', 'I steal from the rich and give to the needy.']\n",
      "['_NEWLINE_MERRY MEN', 'He takes a wee percentage,']\n",
      "['_NEWLINE_ROBIN HOOD', \"But I'm not greedy. I rescue pretty damsels, man, I'm good.\"]\n",
      "['_NEWLINE_MERRY MEN', 'What a guy, Monsieur Hood.']\n",
      "['_NEWLINE_ROBIN HOOD', 'Break it down. I like an honest fight and a saucy little maid...']\n",
      "['_NEWLINE_MERRY MEN', \"What he's basically saying is he likes to get...\"]\n",
      "['_NEWLINE_ROBIN HOOD', \"Paid. So...When an ogre in the bush grabs a lady by the tush. That's bad.\"]\n",
      "['_NEWLINE_MERRY MEN', \"That's bad.\"]\n",
      "['_NEWLINE_ROBIN HOOD', \"When a beauty's with a beast it makes me awfully mad.\"]\n",
      "['_NEWLINE_MERRY MEN', \"He's mad, he's really, really mad.\"]\n",
      "['_NEWLINE_ROBIN HOOD', \"I'll take my blade and ram it through your heart, keep your eyes on me, boys 'cause I'm about to start...\"]\n",
      "['_NEWLINE_FIONA', 'Man, that was annoying!']\n",
      "['_NEWLINE_MERRY MAN', 'Oh, you little- - (shoots an arrow at Fiona but she ducks out of the way)']\n",
      "['_NEWLINE_FIONA', 'Uh, shall we?']\n",
      "['_NEWLINE_SHREK', 'Hold the phone. (drops Donkey and begins walking after Fiona) Oh! Whoa, whoa, whoa. Hold on now. Where did that come from?']\n",
      "['_NEWLINE_FIONA', 'What?']\n",
      "['_NEWLINE_SHREK', 'That! Back there. That was amazing! Where did you learn that?']\n",
      "['_NEWLINE_FIONA', \"Well...(laughs) when one lives alone, uh, one has to learn these things in case there's a...(gasps and points) there's an arrow in your butt!\"]\n",
      "['_NEWLINE_SHREK', \"What? (turns and looks) Oh, would you look at that? (he goes to pull it out but flinches because it's tender)\"]\n",
      "['_NEWLINE_FIONA', \"Oh, no. This is all my fault. I'm so sorry.\"]\n",
      "['_NEWLINE_DONKEY', \"(walking up) Why? What's wrong?\"]\n",
      "['_NEWLINE_FIONA', \"Shrek's hurt.\"]\n",
      "['_NEWLINE_DONKEY', \"Shrek's hurt. Shrek's hurt? Oh, no, Shrek's gonna die.\"]\n",
      "['_NEWLINE_SHREK', \"Donkey, I'm okay.\"]\n",
      "['_NEWLINE_DONKEY', \"You can't do this to me, Shrek. I'm too young for you to die. Keep you legs elevated. Turn your head and cough. Does anyone know the Heimlich?\"]\n",
      "['_NEWLINE_FIONA', 'Donkey! Calm down. If you want to help Shrek, run into the woods and find me a blue flower with red thorns.']\n",
      "['_NEWLINE_DONKEY', \"Blue flower, red thorns. Okay, I'm on it. Blue flower, red thorns. Don't die Shrek. If you see a long tunnel, stay away from the light!\"]\n",
      "['_NEWLINE_SHREK _& _NEWLINE_FIONA', 'Donkey!']\n",
      "['_NEWLINE_DONKEY', 'Oh, yeah. Right. Blue flower, red thorns. (runs off)']\n",
      "['_NEWLINE_SHREK', 'What are the flowers for?']\n",
      "['_NEWLINE_FIONA', \"(like it's obvious) For getting rid of Donkey.\"]\n",
      "['_NEWLINE_SHREK', 'Ah.']\n",
      "['_NEWLINE_FIONA', \"Now you hold still, and I'll yank this thing out. (gives the arrow a little pull)\"]\n",
      "['_NEWLINE_SHREK', \"(jumps away) Ow! Hey! Easy with the yankin'.\"]\n",
      "['_NEWLINE_FIONA', \"I'm sorry, but it has to come out.\"]\n",
      "['_NEWLINE_SHREK', \"No, it's tender.\"]\n",
      "['_NEWLINE_FIONA', 'Now, hold on.']\n",
      "['_NEWLINE_SHREK', \"What you're doing is the opposite of help.\"]\n",
      "['_NEWLINE_FIONA', \"Don't move.\"]\n",
      "['_NEWLINE_SHREK', 'Look, time out.']\n",
      "['_NEWLINE_FIONA', 'Would you...(grunts as Shrek puts his hand over her face to stop her from getting at the arrow) Okay. What do you propose we do?']\n",
      "['_NEWLINE_DONKEY', \"Blue flower, red thorns. Blue flower, red thorns. Blue flower, red thorns. This would be so much easier if I wasn't color-blind! Blue flower, red thorns.\"]\n",
      "['_NEWLINE_SHREK', '(os) Ow!']\n",
      "['_NEWLINE_DONKEY', \"Hold on, Shrek! I'm comin'! (rips a flower off a nearby bush that just happens to be a blue flower with red thorns)\"]\n",
      "['_NEWLINE_SHREK', 'Ow! Not good.']\n",
      "['_NEWLINE_FIONA', \"Okay. Okay. I can nearly see the head. (Shrek grunts as she pulls) It's just about...\"]\n",
      "['_NEWLINE_SHREK', 'Ow! Ohh! (he jerks and manages to fall over with Fiona on top of him)']\n",
      "['_NEWLINE_DONKEY', 'Ahem.']\n",
      "['_NEWLINE_SHREK', '(throwing Fiona off of him) Nothing happend. We were just, uh - -']\n",
      "['_NEWLINE_DONKEY', 'Look, if you wanted to be alone, all you had to do was ask. Okay?']\n",
      "['_NEWLINE_SHREK', \"Oh, come on! That's the last thing on my mind. The princess here was just- - (Fiona pulls the arrow out) Ugh! (he turns to look at Fiona who holds up the arrow with a smile) Ow!\"]\n",
      "['_NEWLINE_DONKEY', \"Hey, what's that? (nervous chuckle) That's...is that blood?\"]\n",
      "['_NEWLINE_SHREK', 'There it is, Princess. Your future awaits you.']\n",
      "['_NEWLINE_FIONA', \"That's DuLoc?\"]\n",
      "['_NEWLINE_DONKEY', \"Yeah, I know. You know, Shrek thinks Lord Farquaad's compensating for something, which I think means he has a really...(Shrek steps on his hoof) Ow!\"]\n",
      "['_NEWLINE_SHREK', 'Um, I, uh- - I guess we better move on.']\n",
      "['_NEWLINE_FIONA', \"Sure. But, Shrek? I'm - - I'm worried about Donkey.\"]\n",
      "['_NEWLINE_SHREK', 'What?']\n",
      "['_NEWLINE_FIONA', \"I mean, look at him. He doesn't look so good.\"]\n",
      "['_NEWLINE_DONKEY', \"What are you talking about? I'm fine.\"]\n",
      "['_NEWLINE_FIONA', \"(kneels to look him in the eyes) That's what they always say, and then next thing you know, you're on your back. (pause) Dead.\"]\n",
      "['_NEWLINE_SHREK', \"You know, she's right. You look awful. Do you want to sit down?\"]\n",
      "['_NEWLINE_FIONA', \"Uh, you know, I'll make you some tea.\"]\n",
      "['_NEWLINE_DONKEY', \"I didn't want to say nothin', but I got this twinge in my neck, and when I turn my head like this, look, (turns his neck in a very sharp way until his head is completely sideways) Ow! See?\"]\n",
      "['_NEWLINE_SHREK', \"Who's hungry? I'll find us some dinner.\"]\n",
      "['_NEWLINE_FIONA', \"I'll get the firewood.\"]\n",
      "['_NEWLINE_DONKEY', \"Hey, where you goin'? Oh, man, I can't feel my toes! (looks down and yelps) I don't have any toes! I think I need a hug.\"]\n",
      "['_NEWLINE_FIONA', 'Mmm. This is good. This is really good. What is this?']\n",
      "['_NEWLINE_SHREK', 'Uh, weed rat. Rotisserie style.']\n",
      "['_NEWLINE_FIONA', 'No kidding. Well, this is delicious.']\n",
      "['_NEWLINE_SHREK', \"Well, they're also great in stews. Now, I don't mean to brag, but I make a mean weed rat stew. (chuckles)\"]\n",
      "['_NEWLINE_FIONA', \"I guess I'll be dining a little differently tomorrow night.\"]\n",
      "['_NEWLINE_SHREK', \"Maybe you can come visit me in the swamp sometime. I'll cook all kind of stuff for you. Swamp toad soup, fish eye tartare - - you name it.\"]\n",
      "['_NEWLINE_FIONA', \"(smiles) I'd like that.\"]\n",
      "['_NEWLINE_SHREK', 'Um, Princess?']\n",
      "['_NEWLINE_FIONA', 'Yes, Shrek?']\n",
      "['_NEWLINE_SHREK', 'I, um, I was wondering...are you...(sighs) Are you gonna eat that?']\n",
      "['_NEWLINE_DONKEY', \"(chuckles) Man, isn't this romantic? Just look at that sunset.\"]\n",
      "['_NEWLINE_FIONA', \"(jumps up) Sunset? Oh, no! I mean, it's late. I-It's very late.\"]\n",
      "['_NEWLINE_SHREK', 'What?']\n",
      "['_NEWLINE_DONKEY', \"Wait a minute. I see what's goin' on here. You're afraid of the dark, aren't you?\"]\n",
      "['_NEWLINE_FIONA', \"Yes! Yes, that's it. I'm terrified. You know, I'd better go inside.\"]\n",
      "['_NEWLINE_DONKEY', \"Don't feel bad, Princess. I used to be afraid of the dark, too, until - - Hey, no, wait. I'm still afraid of the dark.\"]\n",
      "['_NEWLINE_FIONA', 'Good night.']\n",
      "['_NEWLINE_SHREK', 'Good night.']\n",
      "['_NEWLINE_DONKEY', \"Ohh! Now I really see what's goin' on here.\"]\n",
      "['_NEWLINE_SHREK', \"Oh, what are you talkin' about?\"]\n",
      "['_NEWLINE_DONKEY', \"I don't even wanna hear it. Look, I'm an animal, and I got instincts. And I know you two were diggin' on each other. I could feel it.\"]\n",
      "['_NEWLINE_SHREK', \"You're crazy. I'm just bringing her back to Farquaad.\"]\n",
      "['_NEWLINE_DONKEY', 'Oh, come on, Shrek. Wake up and smell the pheromones. Just go on in and tell her how you feel.']\n",
      "['_NEWLINE_SHREK', \"I- - There's nothing to tell. Besides, even if I did tell her that, well, you know - - and I'm not sayin' I do 'cause I don't - - she's a princess, and I'm - -\"]\n",
      "['_NEWLINE_DONKEY', 'An ogre?']\n",
      "['_NEWLINE_SHREK', 'Yeah. An ogre.']\n",
      "['_NEWLINE_DONKEY', \"Hey, where you goin'?\"]\n",
      "['_NEWLINE_SHREK', 'To get... move firewood. (sighs)']\n",
      "['_NEWLINE_DONKEY', 'Princess? Princess Fiona? Princess, where are you? Princess?']\n",
      "['_NEWLINE_DONKEY', \"It's very spooky in here. I ain't playing no games.\"]\n",
      "['_NEWLINE_DONKEY', 'Aah!']\n",
      "['_NEWLINE_FIONA', 'Oh, no!']\n",
      "['_NEWLINE_DONKEY', 'No, help!']\n",
      "['_NEWLINE_FIONA', 'Shh!']\n",
      "['_NEWLINE_DONKEY', 'Shrek! Shrek! Shrek!']\n",
      "['_NEWLINE_FIONA', \"No, it's okay. It's okay.\"]\n",
      "['_NEWLINE_DONKEY', 'What did you do with the princess?']\n",
      "['_NEWLINE_FIONA', \"Donkey, I'm the princess.\"]\n",
      "['_NEWLINE_DONKEY', 'Aah!']\n",
      "['_NEWLINE_FIONA', \"It's me, in this body.\"]\n",
      "['_NEWLINE_DONKEY', 'Oh, my God! You ate the princess. (to her stomach) Can you hear me?']\n",
      "['_NEWLINE_FIONA', 'Donkey!']\n",
      "['_NEWLINE_DONKEY', \"(still aimed at her stomach) Listen, keep breathing! I'll get you out of there!\"]\n",
      "['_NEWLINE_FIONA', 'No!']\n",
      "['_NEWLINE_DONKEY', 'Shrek! Shrek! Shrek!']\n",
      "['_NEWLINE_FIONA', 'Shh.']\n",
      "['_NEWLINE_DONKEY', 'Shrek!']\n",
      "['_NEWLINE_FIONA', 'This is me.']\n",
      "['_NEWLINE_DONKEY', \"Princess? What happened to you? You're, uh, uh, uh, different.\"]\n",
      "['_NEWLINE_FIONA', \"I'm ugly, okay?\"]\n",
      "['_NEWLINE_DONKEY', \"Well, yeah! Was it something you ate? 'Cause I told Shrek those rats was a bad idea. You are what you eat, I said. Now - -\"]\n",
      "['_NEWLINE_FIONA', \"No. I - - I've been this way as long as I can remember.\"]\n",
      "['_NEWLINE_DONKEY', \"What do you mean? Look, I ain't never seen you like this before.\"]\n",
      "['_NEWLINE_FIONA', 'It only happens when sun goes down. \"By night one way, by day another. This shall be the norm... until you find true love\\'s first kiss... and then take love\\'s true form.\"']\n",
      "['_NEWLINE_DONKEY', \"Ah, that's beautiful. I didn't know you wrote poetry.\"]\n",
      "['_NEWLINE_FIONA', \"It's a spell. (sigh) When I was a little girl, a witch cast a spell on me. Every night I become this. This horrible, ugly beast! I was placed in a tower to await the day my true love would rescue me. That's why I have to marry Lord Farquaad tomorrow before the sun sets and he sees me like this. (begins to cry)\"]\n",
      "['_NEWLINE_DONKEY', \"All right, all right. Calm down. Look, it's not that bad. You're not that ugly. Well, I ain't gonna lie. You are ugly. But you only look like this at night. Shrek's ugly 24-7.\"]\n",
      "['_NEWLINE_FIONA', \"But Donkey, I'm a princess, and this is not how a princess is meant to look.\"]\n",
      "['_NEWLINE_DONKEY', \"Princess, how 'bout if you don't marry Farquaad?\"]\n",
      "['_NEWLINE_FIONA', \"I have to. Only my true love's kiss can break the spell.\"]\n",
      "['_NEWLINE_DONKEY', \"But, you know, um, you're kind of an orge, and Shrek - - well, you got a lot in common.\"]\n",
      "['_NEWLINE_FIONA', 'Shrek?']\n",
      "['_NEWLINE_SHREK', \"(to himself) Princess, I - - Uh, how's it going, first of all? Good? Um, good for me too. I'm okay. I saw this flower and thought of you because it's pretty and - - well, I don't really like it, but I thought you might like it 'cause you're pretty. But I like you anyway. I'd - - uh, uh...(sighs) I'm in trouble. Okay, here we go.\"]\n",
      "['_NEWLINE_FIONA', '(os) I can\\'t just marry whoever I want. Take a good look at me, Donkey. I mean, really, who can ever love a beast so hideous and ugly? \"Princess\" and \"ugly\" don\\'t go together. That\\'s why I can\\'t stay here with Shrek.']\n",
      "['_NEWLINE_FIONA', '(os) My only chance to live happily ever after is to marry my true love.']\n",
      "['_NEWLINE_FIONA', \"Don't you see, Donkey? That's just how it has to be. It's the only way to break the spell.\"]\n",
      "['_NEWLINE_DONKEY', 'You at least gotta tell Shrek the truth.']\n",
      "['_NEWLINE_FIONA', \"No! You can't breathe a word. No one must ever know.\"]\n",
      "['_NEWLINE_DONKEY', \"What's the point of being able to talk if you gotta keep secrets?\"]\n",
      "['_NEWLINE_FIONA', \"Promise you won't tell. Promise!\"]\n",
      "['_NEWLINE_DONKEY', \"All right, all right. I won't tell him. But you should. (goes outside) I just know before this is over, I'm gonna need a whole lot of serious therapy. Look at my eye twitchin'.\"]\n",
      "['_NEWLINE_FIONA', \"I tell him, I tell him not. I tell him, I tell him not. I tell him. (she quickly runs to the door and goes outside) Shrek! Shrek, there's something I want...(she looks and sees the rising sun, and as the sun crests the sky she turns back into a human.)\"]\n",
      "['_NEWLINE_FIONA', 'Shrek. Are you all right?']\n",
      "['_NEWLINE_SHREK', 'Perfect! Never been better.']\n",
      "['_NEWLINE_FIONA', \"I - - I don't - - There's something I have to tell you.\"]\n",
      "['_NEWLINE_SHREK', \"You don't have to tell me anything, Princess. I heard enough last night.\"]\n",
      "['_NEWLINE_FIONA', 'You heard what I said?']\n",
      "['_NEWLINE_SHREK', 'Every word.']\n",
      "['_NEWLINE_FIONA', \"I thought you'd understand.\"]\n",
      "['_NEWLINE_SHREK', 'Oh, I understand. Like you said, \"Who could love a hideous, ugly beast?\"']\n",
      "['_NEWLINE_FIONA', \"But I thought that wouldn't matter to you.\"]\n",
      "['_NEWLINE_SHREK', \"Yeah? Well, it does. (Fiona looks at him in shock. He looks past her and spots a group approaching.) Ah, right on time. Princess, I've brought you a little something.\"]\n",
      "['_NEWLINE_DONKEY', \"What'd I miss? What'd I miss? (spots the soldiers) (muffled) Who said that? Couldn't have been the donkey.\"]\n",
      "['_NEWLINE_FARQUAAD', 'Princess Fiona.']\n",
      "['_NEWLINE_SHREK', 'As promised. Now hand it over.']\n",
      "['_NEWLINE_FARQUAAD', \"Very well, ogre. (holds out a piece of paper) The deed to your swamp, cleared out, as agreed. Take it and go before I change my mind. (Shrek takes the paper) Forgive me, Princess, for startling you, but you startled me, for I have never seen such a radiant beauty before. I'm Lord Farquaad.\"]\n",
      "['_NEWLINE_FIONA', 'Lord Farquaad? Oh, no, no. (Farquaad snaps his fingers) Forgive me, my lord, for I was just saying a short... (Watches as Farquaad is lifted off his horse and set down in front of her. He comes to her waist.) farewell.']\n",
      "['_NEWLINE_FARQUAAD', \"Oh, that is so sweet. You don't have to waste good manners on the ogre. It's not like it has feelings.\"]\n",
      "['_NEWLINE_FIONA', \"No, you're right. It doesn't.\"]\n",
      "['_NEWLINE_FARQUAAD', 'Princess Fiona, beautiful, fair, flawless Fiona. I ask your hand in marriage. Will you be the perfect bride for the perfect groom?']\n",
      "['_NEWLINE_FIONA', 'Lord Farquaad, I accept. Nothing would make - -']\n",
      "['_NEWLINE_FARQUAAD', \"(interrupting) Excellent! I'll start the plans, for tomorrow we wed!\"]\n",
      "['_NEWLINE_FIONA', \"No! I mean, uh, why wait? Let's get married today before the sun sets.\"]\n",
      "['_NEWLINE_FARQUAAD', \"Oh, anxious, are you? You're right. The sooner, the better. There's so much to do! There's the caterer, the cake, the band, the guest list. Captain, round up some guests! (a guard puts Fiona on the back of his horse)\"]\n",
      "['_NEWLINE_FIONA', 'Fare-thee-well, ogre.']\n",
      "['_NEWLINE_DONKEY', \"Shrek, what are you doing? You're letting her get away.\"]\n",
      "['_NEWLINE_SHREK', 'Yeah? So what?']\n",
      "['_NEWLINE_DONKEY', \"Shrek, there's something about her you don't know. Look, I talked to her last night, She's - -\"]\n",
      "['_NEWLINE_SHREK', \"I know you talked to her last night. You're great pals, aren't ya? Now, if you two are such good friends, why don't you follow her home?\"]\n",
      "['_NEWLINE_DONKEY', 'Shrek, I - - I wanna go with you.']\n",
      "['_NEWLINE_SHREK', \"I told you, didn't I? You're not coming home with me. I live alone! My swamp! Me! Nobody else! Understand? Nobody! Especially useless, pathetic, annoying, talking donkeys!\"]\n",
      "['_NEWLINE_DONKEY', 'But I thought - -']\n",
      "['_NEWLINE_SHREK', 'Yeah. You know what? You thought wrong! (stomps off)']\n",
      "['_NEWLINE_DONKEY', 'Shrek.']\n",
      "['_NEWLINE_SHREK', \"Donkey? (Donkey ignores him and continues with what he's doing.) What are you doing?\"]\n",
      "['_NEWLINE_DONKEY', 'I would think, of all people, you would recognize a wall when you see one.']\n",
      "['_NEWLINE_SHREK', \"Well, yeah. But the wall's supposed to go around my swamp, not through it.\"]\n",
      "['_NEWLINE_DONKEY', \"It is around your half. See that's your half, and this is my half.\"]\n",
      "['_NEWLINE_SHREK', 'Oh! Your half. Hmm.']\n",
      "['_NEWLINE_DONKEY', 'Yes, my half. I helped rescue the princess. I did half the work. I get half the booty. Now hand me that big old rock, the one that looks like your head.']\n",
      "['_NEWLINE_SHREK', 'Back off!']\n",
      "['_NEWLINE_DONKEY', 'No, you back off.']\n",
      "['_NEWLINE_SHREK', 'This is my swamp!']\n",
      "['_NEWLINE_DONKEY', 'Our swamp.']\n",
      "['_NEWLINE_SHREK', '(grabs the tree branch Donkey is working with) Let go, Donkey!']\n",
      "['_NEWLINE_DONKEY', 'You let go.']\n",
      "['_NEWLINE_SHREK', 'Stubborn jackass!']\n",
      "['_NEWLINE_DONKEY', 'Smelly ogre.']\n",
      "['_NEWLINE_SHREK', 'Fine! (drops the tree branch and walks away)']\n",
      "['_NEWLINE_DONKEY', \"Hey, hey, come back here. I'm not through with you yet.\"]\n",
      "['_NEWLINE_SHREK', \"Well, I'm through with you.\"]\n",
      "['_NEWLINE_DONKEY', 'Uh-uh. You know, with you it\\'s always, \"Me, me, me!\" Well, guess what! Now it\\'s my turn! So you just shut up and pay attention! You are mean to me. You insult me and you don\\'t appreciate anything that I do! You\\'re always pushing me around or pushing me away.']\n",
      "['_NEWLINE_SHREK', 'Oh, yeah? Well, if I treated you so bad, how come you came back?']\n",
      "['_NEWLINE_DONKEY', \"Because that's what friends do! They forgive each other!\"]\n",
      "['_NEWLINE_SHREK', \"Oh, yeah. You're right, Donkey. I forgive you... for stabbin' me in the back! (goes into the outhouse and slams the door)\"]\n",
      "['_NEWLINE_DONKEY', \"Ohh! You're so wrapped up in layers, onion boy, you're afraid of your own feelings.\"]\n",
      "['_NEWLINE_SHREK', '(os) Go away!']\n",
      "['_NEWLINE_DONKEY', 'There you are , doing it again just like you did to Fiona. All she ever do was like you, maybe even love you.']\n",
      "['_NEWLINE_SHREK', '(os) Love me? She said I was ugly, a hideous creature. I heard the two of you talking.']\n",
      "['_NEWLINE_DONKEY', \"She wasn't talkin' about you. She was talkin' about, uh, somebody else.\"]\n",
      "['_NEWLINE_SHREK', \"(opens the door and comes out) She wasn't talking about me? Well, then who was she talking about?\"]\n",
      "['_NEWLINE_DONKEY', \"Uh-uh, no way. I ain't saying anything. You don't wanna listen to me. Right? Right?\"]\n",
      "['_NEWLINE_SHREK', 'Donkey!']\n",
      "['_NEWLINE_DONKEY', 'No!']\n",
      "['_NEWLINE_SHREK', \"Okay, look. I'm sorry, all right? (sigh) I'm sorry. I guess I am just a big, stupid, ugly ogre. Can you forgive me?\"]\n",
      "['_NEWLINE_DONKEY', \"Hey, that's what friends are for, right?\"]\n",
      "['_NEWLINE_SHREK', 'Right. Friends?']\n",
      "['_NEWLINE_DONKEY', 'Friends.']\n",
      "['_NEWLINE_SHREK', 'So, um, what did Fiona say about me?']\n",
      "['_NEWLINE_DONKEY', \"What are you asking me for? Why don't you just go ask her?\"]\n",
      "['_NEWLINE_SHREK', \"The wedding! We'll never make it in time.\"]\n",
      "['_NEWLINE_DONKEY', \"Ha-ha-ha! Never fear, for where, there's a will, there's a way and I have a way. (whistles)\"]\n",
      "['_NEWLINE_SHREK', 'Donkey?']\n",
      "['_NEWLINE_DONKEY', \"I guess it's just my animal magnetism.\"]\n",
      "['_NEWLINE_SHREK', 'Aw, come here, you. (gives Donkey a noogie)']\n",
      "['_NEWLINE_DONKEY', \"All right, all right. Don't get all slobbery. No one likes a kiss ass. All right, hop on and hold on tight. I haven't had a chance to install the seat belts yet.\"]\n",
      "['_NEWLINE_PRIEST', 'People of DuLoc, we gather here today to bear witness to the union....']\n",
      "['_NEWLINE_FIONA', '(eyeing the setting sun) Um-']\n",
      "['_NEWLINE_PRIEST', '...of our new king...']\n",
      "['_NEWLINE_FIONA', 'Excuse me. Could we just skip ahead to the \"I do\\'s\"?']\n",
      "['_NEWLINE_FARQUAAD', '(chuckles and then motions to the priest to indulge Fiona) Go on.']\n",
      "['_NEWLINE_DONKEY', \"(to Dragon) Go ahead, _NEWLINE_HAVE SOME FUN_. If we need you, I'll whistle. How about that? (she nods and goes after the guards) Shrek, wait, wait! Wait a minute! You wanna do this right, don't you?\"]\n",
      "['_NEWLINE_SHREK', '(at the Church door) What are you talking about?']\n",
      "['_NEWLINE_DONKEY', 'There\\'s a line you gotta wait for. The preacher\\'s gonna say, \"Speak now or forever hold your peace.\" That\\'s when you say, \"I object!\"']\n",
      "['_NEWLINE_SHREK', \"I don't have time for this!\"]\n",
      "['_NEWLINE_DONKEY', \"Hey, wait. What are you doing? Listen to me! Look, you love this woman, don't you?\"]\n",
      "['_NEWLINE_SHREK', 'Yes.']\n",
      "['_NEWLINE_DONKEY', 'You wanna hold her?']\n",
      "['_NEWLINE_SHREK', 'Yes.']\n",
      "['_NEWLINE_DONKEY', 'Please her?']\n",
      "['_NEWLINE_SHREK', 'Yes!']\n",
      "['_NEWLINE_DONKEY', '(singing James Brown style) Then you got to, got to try a little tenderness. (normal) The chicks love that romantic crap!']\n",
      "['_NEWLINE_SHREK', 'All right! Cut it out. When does this guy say the line?']\n",
      "['_NEWLINE_DONKEY', 'We gotta check it out.']\n",
      "['_NEWLINE_PRIEST', 'And so, by the power vested in me...']\n",
      "['_NEWLINE_SHREK', 'What do you see?']\n",
      "['_NEWLINE_DONKEY', \"The whole town's in there.\"]\n",
      "['_NEWLINE_PRIEST', 'I now pronounce you husband and wife...']\n",
      "['_NEWLINE_DONKEY', \"They're at the altar.\"]\n",
      "['_NEWLINE_PRIEST', '...king and queen.']\n",
      "['_NEWLINE_DONKEY', 'Mother Fletcher! He already said it.']\n",
      "['_NEWLINE_SHREK', 'Oh, for the love of Pete!']\n",
      "['_NEWLINE_SHREK', '(running toward the alter) I object!']\n",
      "['_NEWLINE_FIONA', 'Shrek?']\n",
      "['_NEWLINE_FARQUAAD', 'Oh, now what does he want?']\n",
      "['_NEWLINE_SHREK', \"(to congregation as he reaches the front of the Church) Hi, everyone. Havin' a good time, are ya? I love DuLoc, first of all. Very clean.\"]\n",
      "['_NEWLINE_FIONA', 'What are you doing here?']\n",
      "['_NEWLINE_SHREK', \"Really, it's rude enough being alive when no one wants you, but showing up uninvited to a wedding...\"]\n",
      "['_NEWLINE_SHREK', 'Fiona! I need to talk to you.']\n",
      "['_NEWLINE_FIONA', \"Oh, now you wanna talk? It's a little late for that, so if you'll excuse me - -\"]\n",
      "['_NEWLINE_SHREK', \"But you can't marry him.\"]\n",
      "['_NEWLINE_FIONA', 'And why not?']\n",
      "['_NEWLINE_SHREK', \"Because- - Because he's just marring you so he can be king.\"]\n",
      "['_NEWLINE_FARQUAAD', \"Outrageous! Fiona, don't listen to him.\"]\n",
      "['_NEWLINE_SHREK', \"He's not your true love.\"]\n",
      "['_NEWLINE_FIONA', 'And what do you know about true love?']\n",
      "['_NEWLINE_SHREK', 'Well, I - - Uh - - I mean - -']\n",
      "['_NEWLINE_FARQUAAD', 'Oh, this is precious. The ogee has fallen in love with the princess! Oh, good Lord. (laughs)']\n",
      "['_NEWLINE_FARQUAAD', 'An ogre and a princess!']\n",
      "['_NEWLINE_FIONA', 'Shrek, is this true?']\n",
      "['_NEWLINE_FARQUAAD', 'Who cares? It\\'s preposterous! Fiona, my love, we\\'re but a kiss away from our \"happily ever after.\" Now kiss me! (puckers his lips and leans toward her, but she pulls back.)']\n",
      "['_NEWLINE_FIONA', '(looking at the setting sun) \"By night one way, by day another.\" (to Shrek) I wanted to show you before.']\n",
      "['_NEWLINE_SHREK', 'Well, uh, that explains a lot. (Fiona smiles)']\n",
      "['_NEWLINE_FARQUAAD', \"Ugh! It's disgusting! Guards! Guards! I order you to get that out of my sight now! Get them! Get them both!\"]\n",
      "['_NEWLINE_SHREK', 'No, no!']\n",
      "['_NEWLINE_FIONA', 'Shrek!']\n",
      "['_NEWLINE_FARQUAAD', 'This hocus-pocus alters nothing. This marriage is binding, and that makes me king! See? See?']\n",
      "['_NEWLINE_FIONA', 'No, let go of me! Shrek!']\n",
      "['_NEWLINE_SHREK', 'No!']\n",
      "['_NEWLINE_FARQUAAD', \"Don't just stand there, you morons.\"]\n",
      "['_NEWLINE_SHREK', 'Get out of my way! Fiona! Arrgh!']\n",
      "['_NEWLINE_FARQUAAD', \"I'll make you regret the day we met. I'll see you drawn and quartered! You'll beg for death to save you!\"]\n",
      "['_NEWLINE_FIONA', 'No, Shrek!']\n",
      "['_NEWLINE_FARQUAAD', \"(hold a dagger to Fiona's throat) And as for you, my wife...\"]\n",
      "['_NEWLINE_SHREK', 'Fiona!']\n",
      "['_NEWLINE_FARQUAAD', \"I'll have you locked back in that tower for the rest of your days! I'm king!\"]\n",
      "['_NEWLINE_FARQUAAD', 'I will have order! I will have perfection! I will have - - (Donkey and the dragon show up and the dragon leans down and eats Farquaad) Aaaah! Aah!']\n",
      "['_NEWLINE_DONKEY', \"All right. Nobody move. I got a dragon here, and I'm not afraid to use it. (The dragon roars.) I'm a donkey on the edge!\"]\n",
      "['_NEWLINE_DONKEY', 'Celebrity marriages. They never last, do they?']\n",
      "['_NEWLINE_DONKEY', 'Go ahead, Shrek.']\n",
      "['_NEWLINE_SHREK', 'Uh, Fiona?']\n",
      "['_NEWLINE_FIONA', 'Yes, Shrek?']\n",
      "['_NEWLINE_SHREK', 'I - - I love you.']\n",
      "['_NEWLINE_FIONA', 'Really?']\n",
      "['_NEWLINE_SHREK', 'Really, really.']\n",
      "['_NEWLINE_FIONA', '(smiles) I love you too.']\n",
      "['_NEWLINE_CONGREGATION', 'Aawww!']\n",
      "['_NEWLINE_WHISPERS', '\"Until you find true love\\'s first kiss and then take love\\'s true form. Take love\\'s true form. Take love\\'s true form.\"']\n",
      "['_NEWLINE_SHREK', '(going over to her) Fiona? Fiona. Are you all right?']\n",
      "['_NEWLINE_FIONA', \"(standing up, she's still an ogre) Well, yes. But I don't understand. I'm supposed to be beautiful.\"]\n",
      "['_NEWLINE_SHREK', 'But you _NEWLINE_ARE _beautiful.']\n",
      "['_NEWLINE_DONKEY', '(chuckles) I was hoping this would be a happy ending.']\n",
      "['_NEWLINE_GINGERBREAD MAN', 'God bless us, every one.']\n",
      "['_NEWLINE_DONKEY', \"(as he's done singing and we fade to black) Oh, that's funny. Oh. Oh. I can't breathe. I can't breathe.\"]\n"
     ]
    }
   ],
   "source": [
    "line_dict = {}\n",
    "for x in shr_lines:\n",
    "    my_list = re.split(\"_ \", x)\n",
    "    print(my_list)\n",
    "    line_dict[my_list[0]] = my_list[1]\n",
    "#this replaces all the old shrek lines! Also not good!  \n"
   ]
  },
  {
   "cell_type": "code",
   "execution_count": 40,
   "metadata": {},
   "outputs": [
    {
     "data": {
      "text/plain": [
       "'But you _NEWLINE_ARE _beautiful.'"
      ]
     },
     "execution_count": 40,
     "metadata": {},
     "output_type": "execute_result"
    }
   ],
   "source": [
    "line_dict['_NEWLINE_SHREK']"
   ]
  },
  {
   "cell_type": "code",
   "execution_count": null,
   "metadata": {},
   "outputs": [],
   "source": []
  }
 ],
 "metadata": {
  "kernelspec": {
   "display_name": "Python 3",
   "language": "python",
   "name": "python3"
  },
  "language_info": {
   "codemirror_mode": {
    "name": "ipython",
    "version": 3
   },
   "file_extension": ".py",
   "mimetype": "text/x-python",
   "name": "python",
   "nbconvert_exporter": "python",
   "pygments_lexer": "ipython3",
   "version": "3.6.4"
  }
 },
 "nbformat": 4,
 "nbformat_minor": 2
}
