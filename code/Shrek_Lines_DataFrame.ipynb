{
 "cells": [
  {
   "cell_type": "markdown",
   "metadata": {},
   "source": [
    "# Creating a DataFrame of Shrek Lines\n",
    "Here, I'll split up the script text file into a data frame of lines uttered by each character using regular expressions"
   ]
  },
  {
   "cell_type": "code",
   "execution_count": 1,
   "metadata": {},
   "outputs": [],
   "source": [
    "#reading in the file\n",
    "shrek = open(r'C:\\Users\\cassi\\Desktop\\Data_Science\\Animated-Movie-Gendered-Dialogue\\private\\imsdb_raw_nov_2015\\Animation\\shrek.txt')\n",
    "shrek_script = shrek.read()\n",
    "shrek.close()"
   ]
  },
  {
   "cell_type": "code",
   "execution_count": 2,
   "metadata": {},
   "outputs": [
    {
     "name": "stdout",
     "output_type": "stream",
     "text": [
      "Pretty printing has been turned OFF\n"
     ]
    }
   ],
   "source": [
    "%pprint"
   ]
  },
  {
   "cell_type": "code",
   "execution_count": 3,
   "metadata": {},
   "outputs": [],
   "source": [
    "#importing regualar expressions\n",
    "import re"
   ]
  },
  {
   "cell_type": "code",
   "execution_count": 4,
   "metadata": {},
   "outputs": [],
   "source": [
    "shrek_script = shrek_script[198:] #First, I need to get rid of the title/screenwriter info"
   ]
  },
  {
   "cell_type": "code",
   "execution_count": 5,
   "metadata": {},
   "outputs": [
    {
     "data": {
      "text/plain": [
       "'SHREK\\n\\n                         Once upon a time there was a lovely \\n\\n                         princ'"
      ]
     },
     "execution_count": 5,
     "metadata": {},
     "output_type": "execute_result"
    }
   ],
   "source": [
    "shrek_script[:100] #Yep, string begins with first line now"
   ]
  },
  {
   "cell_type": "code",
   "execution_count": 6,
   "metadata": {},
   "outputs": [],
   "source": [
    "v = re.findall(r\"(\\b[A-Z]['A-Z ]{2,}[0-9]?)+\", shrek_script)"
   ]
  },
  {
   "cell_type": "code",
   "execution_count": 7,
   "metadata": {},
   "outputs": [
    {
     "name": "stdout",
     "output_type": "stream",
     "text": [
      "761\n",
      "['SHREK', 'NIGHT ', \"NEAR SHREK'S HOME\", 'MAN1', 'MAN2', 'MAN1', 'MAN3', 'SHREK', 'MEN', 'SHREK', 'MAN1', 'SHREK', 'THE NEXT DAY', 'GUARD', 'HEAD GUARD', 'GUARD', 'HEAD GUARD', 'GUARD', 'HEAD GUARD', 'LITTLE BEAR', 'DONKEY', 'OLD WOMAN', 'DONKEY', 'HEAD GUARD', 'GIPETTO', 'PINOCCHIO', 'HEAD GUARD', 'PINOCCHIO', 'HEAD GUARD', 'OLD WOMAN', 'HEAD GUARD', 'OLD WOMAN', 'HEAD GUARD', 'OLD WOMAN', 'HEAD GUARD', 'OLD WOMAN', 'HEAD GUARD', 'OLD WOMAN', 'DONKEY', 'PETER PAN', 'LITTLE PIGS', 'HEAD GUARD', 'DONKEY', 'HEAD GUARD', 'GUARDS', 'HEAD GUARD', 'SHREK', 'HEAD GUARD', 'SHREK', 'DONKEY', 'SHREK', 'DONKEY', 'SHREK', 'DONKEY', 'SHREK', 'DONKEY', 'DONKEY', 'SHREK', 'DONKEY', 'SHREK', 'DONKEY', 'SHREK', 'DONKEY', 'SHREK', 'DONKEY', 'SHREK', 'DONKEY', 'SHREK', 'DONKEY', 'SHREK', 'DONKEY', 'SHREK', 'DONKEY', 'SHREK', 'DONKEY', 'SHREK', 'DONKEY', 'SHREK', 'DONKEY', 'SHREK', 'DONKEY', 'SHREK', 'DONKEY', 'SHREK', 'DONKEY', 'SHREK', 'DONKEY', 'SHREK', 'DONKEY', \"SHREK'S COTTAGE \", 'NIGHT', 'SHREK', 'DONKEY', 'BLIND MOUSE1', 'BLIND MOUSE2', 'GORDO', 'SHREK', 'GORDO', 'SHREK', 'GORDO']\n"
     ]
    }
   ],
   "source": [
    "print(len(v))\n",
    "print(v[:100])"
   ]
  },
  {
   "cell_type": "markdown",
   "metadata": {},
   "source": [
    "This has some scene headings, like \"NEAR SHREK'S HOME\" and \"THE NEXT DAY\". I'll filter these guys out later."
   ]
  },
  {
   "cell_type": "code",
   "execution_count": 8,
   "metadata": {},
   "outputs": [
    {
     "name": "stdout",
     "output_type": "stream",
     "text": [
      "69\n",
      "['ARE ', 'BIG BAD WOLF', 'BLIND MOUSE1', 'BLIND MOUSE2', 'CHURCH', 'CONGREGATION', 'COURTYARD', 'CROWD', 'DONKEY', \"DRAGON'S KEEP\", 'DULOC', 'DULOC ', 'DWARF', 'ELSEWHERE', 'EMPTY ROOM', 'FARQUAAD', 'FIONA', \"FIONA'S ROOM\", 'GINGERBREAD MAN', 'GIPETTO', 'GORDO', 'GUARD', 'GUARDS', 'HAVE SOME FUN', 'HEAD GUARD', 'INSIDE', 'INSIDE CHURCH', 'INSIDE THE CASTLE', 'KITCHEN', 'LATER', 'LATER THAT NIGHT', 'LITTLE BEAR', 'LITTLE PIG', 'LITTLE PIGS', 'MAN', 'MAN1', 'MAN2', 'MAN3', 'MEN', 'MERRY MAN', 'MERRY MEN', 'MIRROR', 'MORNING', 'MOUNTAIN CLIFF', \"NEAR SHREK'S HOME\", 'NIGHT', 'NIGHT ', 'OLD WOMAN', 'OUTSIDE', 'PETER PAN', 'PINOCCHIO', 'PRIEST', 'ROBIN HOOD', 'SHREK', 'SHREK ', \"SHREK'S COTTAGE \", \"SHREK'S HOME\", 'SUNSET', 'THE END', 'THE FOREST PATH', 'THE NEXT DAY', 'THE SWAMP', 'THELONIUS', 'TIME LAPSE', 'WHISPERS', 'WINDMILL', 'WOMAN', 'WOODEN PEOPLE', 'WOODS']\n"
     ]
    }
   ],
   "source": [
    "char_list = list(set(v))\n",
    "print(len(char_list))\n",
    "print(sorted(char_list))"
   ]
  },
  {
   "cell_type": "code",
   "execution_count": 9,
   "metadata": {},
   "outputs": [],
   "source": [
    "#Marking each new line\n",
    "shr_scr = re.sub(r\"(\\b[A-Z]['A-Z ]{2,}[0-9]?)+\", r'_NEWLINE_\\1_', shrek_script)"
   ]
  },
  {
   "cell_type": "code",
   "execution_count": 10,
   "metadata": {},
   "outputs": [
    {
     "data": {
      "text/plain": [
       "\"_NEWLINE_SHREK_\\n\\n                         Once upon a time there was a lovely \\n\\n                         princess. But she had an enchantment \\n\\n                         upon her of a fearful sort which could \\n\\n                         only be broken by love's first kiss. \\n\\n                         She was locked away in a castle guarded \\n\\n                         by a terrible fire-breathing dragon. \\n\\n                         Many brave knights had attempted to \\n\\n                         free her from this dreadful prison, \\n\\n                         but non prevailed. She waited in the \\n\\n                         dragon's keep in the highest room of \\n\\n                         the tallest tower for her true love \\n\\n                         and true love's first kiss. (laughs) \\n\\n                         Like that's ever gonna happen. What \\n\\n                         a load of - (toilet flush)\\n\\n               Allstar - by Smashmouth begins to play. Shrek goes about his \\n\\n               day. While in a nearby town, the villagers get together to go \\n\\n               after the ogre.\\n\\n               _NEWLINE_NIGHT _- _NEWLINE_NEAR SHREK'S HOME_\\n\\n                                     _NEWLINE_MAN1_\\n\\n                         Think it's in there?\\n\\n                                     _NEWLINE_MAN2_\\n\\n                         All right. Let's get it!\\n\\n                                     _NEWLINE_MAN1_\\n\\n                         Whoa. Hold on. Do you know what that \\n\\n                         thing can do to you?\\n\\n                                     _NEWLINE_MAN3_\\n\\n                         Yeah, it'll grind your bones for it's \\n\\n                         bread.\\n\\n               Shrek sneaks up behind them and laughs.\\n\\n                                     _NEWLINE_SHREK_\\n\\n                         Yes, well, actually, that would be a \\n\\n                         giant. Now, ogres, oh they're much worse. \\n\\n                         They'll make a suit from your freshly \\n\\n                    \""
      ]
     },
     "execution_count": 10,
     "metadata": {},
     "output_type": "execute_result"
    }
   ],
   "source": [
    "shr_scr[:2000]"
   ]
  },
  {
   "cell_type": "code",
   "execution_count": 11,
   "metadata": {},
   "outputs": [],
   "source": [
    "#remove all these annoying new line characters\n",
    "shr_scr = re.sub('\\n\\n', ' ', shr_scr)\n",
    "#change this from ^_ to just \\n\\n"
   ]
  },
  {
   "cell_type": "code",
   "execution_count": 12,
   "metadata": {},
   "outputs": [
    {
     "name": "stdout",
     "output_type": "stream",
     "text": [
      "_NEWLINE_SHREK_                          Once upon a time there was a lovely                           princess. But she had an enchantment                           upon her of a fearful sort which could                           only be broken by love's first kiss.                           She was locked away in a castle guarded                           by a terrible fire-breathing dragon.                           Many brave knights had attempted to                           free her from this dreadful prison,                           but non prevailed. She waited in the                           dragon's keep in the highest room of                           the tallest tower for her true love                           and true love's first kiss. (laughs)                           Like that's ever gonna happen. What                           a load of - (toilet flush)                Allstar - by Smashmouth begins to play. Shrek goes about his                 day. While in a nearby town, the villagers get together to go                 after the ogre.                _NEWLINE_NIGHT _- _NEWLINE_NEAR SHREK'S HOME_                                      _NEWLINE_MAN1_                          Think it's in there?                                      _NEWLINE_MAN2_                          All right. Let's get it!                                      _NEWLINE_MAN1_                          Whoa. Hold on. Do you know what that                           thing can do to you?                                      _NEWLINE_MAN3_                          Yeah, it'll grind your bones for it's                           bread.                Shrek sneaks up behind them and laughs.                                      _NEWLINE_SHREK_                          Yes, well, actually, that would be a                           giant. Now, ogres, oh they're much worse.                           They'll make a suit from your freshly                           peeled skin.                 \n"
     ]
    }
   ],
   "source": [
    "print(shr_scr[:2000])"
   ]
  },
  {
   "cell_type": "code",
   "execution_count": 13,
   "metadata": {},
   "outputs": [
    {
     "data": {
      "text/plain": [
       "\"_NEWLINE_SHREK_                          Once upon a time there was a lovely                           princess. But she had an enchantment                           upon her of a fearful sort which could                           only be broken by love's first kiss.                           She was locked away in a castle guarded                           by a terrible fire-breathing dragon.                           Many brave knights had attempted to                           free her from this dreadful prison,                           but non prevailed. She waited in the                           dragon's keep in the highest room of                           the tallest tower for her true love                           and true love's first kiss. (laughs)                           Like that's ever gonna happen. What                           a load of - (toilet flush)                Allstar - by Smashmouth begins to play. Shrek goes about his                 day. While in a nearby town, the villagers get together to go                 after the ogre.                _NEWLINE_NIGHT _- _NEWLINE_NEAR SHREK'S HOME_                                      _NEWLINE_MAN1_                          Think it's in there?                                      _NEWLINE_MAN2_                          All right. Let's get it!                                      _NEWLINE_MAN1_                          Whoa. Hold on. Do you know what that                           thing can do to you?                                      _NEWLINE_MAN3_                          Yeah, it'll grind your bones for it's                           bread.                Shrek sneaks up behind them and laughs.                                      _NEWLINE_SHREK_                          Yes, well, actually, that would be a                           giant. Now, ogres, oh they're much worse.                           They'll make a suit from your freshly                           peeled skin.                 \""
      ]
     },
     "execution_count": 13,
     "metadata": {},
     "output_type": "execute_result"
    }
   ],
   "source": [
    "shr_scr[:2000]"
   ]
  },
  {
   "cell_type": "code",
   "execution_count": 14,
   "metadata": {},
   "outputs": [
    {
     "data": {
      "text/plain": [
       "2661"
      ]
     },
     "execution_count": 14,
     "metadata": {},
     "output_type": "execute_result"
    }
   ],
   "source": [
    "#let's analyze how this whitespace works\n",
    "white_space = re.findall(\" {3,}\", shr_scr)\n",
    "len(white_space)"
   ]
  },
  {
   "cell_type": "code",
   "execution_count": 15,
   "metadata": {},
   "outputs": [
    {
     "name": "stdout",
     "output_type": "stream",
     "text": [
      "['                          ', '                           ', '                           ', '                           ', '                           ', '                           ', '                           ', '                           ', '                           ', '                           ']\n",
      "[26, 27, 27, 27, 27, 27, 27, 27, 27, 27, 27, 27, 27, 27, 16, 17, 17, 16, 38, 26, 38, 26, 38, 26, 27, 38, 26, 27, 16, 38, 26, 27, 27, 27, 38, 26, 38, 26, 27, 27, 38, 26, 27, 16, 17, 17, 17, 38, 26, 27]\n",
      "{38, 16, 17, 26, 27}\n"
     ]
    }
   ],
   "source": [
    "print(white_space[:10])\n",
    "#measuring how long each chunk of white space is\n",
    "len_white_space = [len(x) for x in white_space]\n",
    "print(len_white_space[:50])\n",
    "print(set(len_white_space))"
   ]
  },
  {
   "cell_type": "markdown",
   "metadata": {},
   "source": [
    "All chunks of white space are either 16, 17, 26, 27, or 38 spaces long. From looking at the patterns above, we can see that \n",
    "* 26 or 27 is between a character's own dialogue\n",
    "* 16 or 17 is between, or at the beginning/end of a scene heading\n",
    "* 38 is between a scene heading and a new line of dialogue"
   ]
  },
  {
   "cell_type": "code",
   "execution_count": 16,
   "metadata": {},
   "outputs": [],
   "source": [
    "shr_scr = re.sub(\" {26,27}\", \" \", shr_scr)"
   ]
  },
  {
   "cell_type": "code",
   "execution_count": 17,
   "metadata": {},
   "outputs": [
    {
     "data": {
      "text/plain": [
       "'_NEWLINE_SHREK_ Once upon a time there was a lovely princess. But she had an enchantment upon her of a fearful sort which could only be broken by love\\'s first kiss. She was locked away in a castle guarded by a terrible fire-breathing dragon. Many brave knights had attempted to free her from this dreadful prison, but non prevailed. She waited in the dragon\\'s keep in the highest room of the tallest tower for her true love and true love\\'s first kiss. (laughs) Like that\\'s ever gonna happen. What a load of - (toilet flush)                Allstar - by Smashmouth begins to play. Shrek goes about his                 day. While in a nearby town, the villagers get together to go                 after the ogre.                _NEWLINE_NIGHT _- _NEWLINE_NEAR SHREK\\'S HOME_            _NEWLINE_MAN1_ Think it\\'s in there?            _NEWLINE_MAN2_ All right. Let\\'s get it!            _NEWLINE_MAN1_ Whoa. Hold on. Do you know what that thing can do to you?            _NEWLINE_MAN3_ Yeah, it\\'ll grind your bones for it\\'s bread.                Shrek sneaks up behind them and laughs.            _NEWLINE_SHREK_ Yes, well, actually, that would be a giant. Now, ogres, oh they\\'re much worse. They\\'ll make a suit from your freshly peeled skin.            _NEWLINE_MEN_ No!            _NEWLINE_SHREK_ They\\'ll shave your liver. Squeeze the jelly from your eyes! Actually, it\\'s quite good on toast.            _NEWLINE_MAN1_ Back! Back, beast! Back! I warn ya! (waves the torch at Shrek.)                Shrek calmly licks his fingers and extinguishes the torch. The                 men shrink back away from him. Shrek roars very loudly and long                 and his breath extinguishes all the remaining torches until the                 men are in the dark.            _NEWLINE_SHREK_ This is the part where you run away. (The men scramble to get away. He laughs.) And stay out! (looks down and picks up a piece of paper. Reads.) \"Wanted. Fairy tale creatures.\"(He sighs and throws the paper over his shou'"
      ]
     },
     "execution_count": 17,
     "metadata": {},
     "output_type": "execute_result"
    }
   ],
   "source": [
    "shr_scr[:2000]"
   ]
  },
  {
   "cell_type": "code",
   "execution_count": 18,
   "metadata": {},
   "outputs": [
    {
     "data": {
      "text/plain": [
       "1079"
      ]
     },
     "execution_count": 18,
     "metadata": {},
     "output_type": "execute_result"
    }
   ],
   "source": [
    "#let's analyze how this whitespace works\n",
    "white_space = re.findall(\" {3,}\", shr_scr)\n",
    "len(white_space)"
   ]
  },
  {
   "cell_type": "code",
   "execution_count": 19,
   "metadata": {},
   "outputs": [
    {
     "name": "stdout",
     "output_type": "stream",
     "text": [
      "['                ', '                 ', '                 ', '                ', '            ', '            ', '            ', '            ', '                ', '            ']\n",
      "[16, 17, 17, 16, 12, 12, 12, 12, 16, 12, 12, 12, 12, 16, 17, 17, 17, 12, 16, 16, 17, 17, 17, 17, 17, 12, 12, 12, 12, 12, 12, 12, 12, 12, 12, 12, 12, 12, 12, 12, 16, 17, 12, 12, 12, 12, 16, 12, 12, 12]\n",
      "{16, 17, 12}\n"
     ]
    }
   ],
   "source": [
    "print(white_space[:10])\n",
    "#measuring how long each chunk of white space is\n",
    "len_white_space = [len(x) for x in white_space]\n",
    "print(len_white_space[:50])\n",
    "print(set(len_white_space))"
   ]
  },
  {
   "cell_type": "code",
   "execution_count": 20,
   "metadata": {},
   "outputs": [],
   "source": [
    "#This changed all the 38's into 12 space chunks\n",
    "scene_headings = re.findall(\" {16,17}[A-Za-z,'\\-\\. ]+\", shr_scr)"
   ]
  },
  {
   "cell_type": "code",
   "execution_count": 21,
   "metadata": {},
   "outputs": [
    {
     "data": {
      "text/plain": [
       "127"
      ]
     },
     "execution_count": 21,
     "metadata": {},
     "output_type": "execute_result"
    }
   ],
   "source": [
    "len(scene_headings) #should be 145\n",
    "#nope, now its 127 (with using 16,17)"
   ]
  },
  {
   "cell_type": "code",
   "execution_count": 26,
   "metadata": {},
   "outputs": [],
   "source": [
    "shr_scr2 = re.sub(\" {16,17}[A-Za-z,'\\-\\. ]+\", '',shr_scr)"
   ]
  },
  {
   "cell_type": "code",
   "execution_count": 27,
   "metadata": {},
   "outputs": [
    {
     "data": {
      "text/plain": [
       "'_NEWLINE_SHREK_ Once upon a time there was a lovely princess. But she had an enchantment upon her of a fearful sort which could only be broken by love\\'s first kiss. She was locked away in a castle guarded by a terrible fire-breathing dragon. Many brave knights had attempted to free her from this dreadful prison, but non prevailed. She waited in the dragon\\'s keep in the highest room of the tallest tower for her true love and true love\\'s first kiss. (laughs) Like that\\'s ever gonna happen. What a load of - (toilet flush)_NEWLINE_NIGHT _- _NEWLINE_NEAR SHREK\\'S HOME_            _NEWLINE_MAN1_ Think it\\'s in there?            _NEWLINE_MAN2_ All right. Let\\'s get it!            _NEWLINE_MAN1_ Whoa. Hold on. Do you know what that thing can do to you?            _NEWLINE_MAN3_ Yeah, it\\'ll grind your bones for it\\'s bread._NEWLINE_SHREK_ Yes, well, actually, that would be a giant. Now, ogres, oh they\\'re much worse. They\\'ll make a suit from your freshly peeled skin.            _NEWLINE_MEN_ No!            _NEWLINE_SHREK_ They\\'ll shave your liver. Squeeze the jelly from your eyes! Actually, it\\'s quite good on toast.            _NEWLINE_MAN1_ Back! Back, beast! Back! I warn ya! (waves the torch at Shrek.)_NEWLINE_SHREK_ This is the part where you run away. (The men scramble to get away. He laughs.) And stay out! (looks down and picks up a piece of paper. Reads.) \"Wanted. Fairy tale creatures.\"(He sighs and throws the paper over his shoulder.)                _NEWLINE_THE NEXT DAY__NEWLINE_GUARD_ All right. This one\\'s full. Take it away! Move it along. Come on! Get up!            _NEWLINE_HEAD GUARD_ Next!            _NEWLINE_GUARD_ (taking the witch\\'s broom) Give me that! Your flying days are over. (breaks the broom in half)            _NEWLINE_HEAD GUARD_ That\\'s 20 pieces of silver for the witch. Next!            _NEWLINE_GUARD_ Get up! Come on!            _NEWLINE_HEAD GUARD_ Twenty pieces.            _NEWLINE_LITTLE BEAR_ (crying) This cage is too small.            _NEWLINE_DONKE'"
      ]
     },
     "execution_count": 27,
     "metadata": {},
     "output_type": "execute_result"
    }
   ],
   "source": [
    "shr_scr2[:2000]"
   ]
  },
  {
   "cell_type": "code",
   "execution_count": 22,
   "metadata": {},
   "outputs": [
    {
     "data": {
      "text/plain": [
       "['                Allstar - by Smashmouth begins to play. Shrek goes about his                 day. While in a nearby town, the villagers get together to go                 after the ogre.                ', '                Shrek sneaks up behind them and laughs.            ', '                Shrek calmly licks his fingers and extinguishes the torch. The                 men shrink back away from him. Shrek roars very loudly and long                 and his breath extinguishes all the remaining torches until the                 men are in the dark.            ', \"                There is a line of fairy tale creatures. The head of the guard                 sits at a table paying people for bringing the fairy tale creatures                 to him. There are cages all around. Some of the people in line                 are Peter Pan, who is carrying Tinkerbell in a cage, Gipetto                 who's carrying Pinocchio, and a farmer who is carrying the three                 little pigs.            \", '                Gipetto takes the money and walks off. The old woman steps up                 to the table.            ', '                Donkey just looks up at her.            ', \"                The guards grab the old woman and she struggles with them. One                 of her legs flies out and kicks Tinkerbell out of Peter Pan's                 hands, and her cage drops on Donkey's head. He gets sprinkled                 with fairy dust and he's able to fly.            \", '                He hits the ground with a thud.            ', '                Donkey keeps running and he eventually runs into Shrek. Literally.                 Shrek turns around to see who bumped into him. Donkey looks scared                 for a moment then he spots the guards coming up the path. He                 quickly hides behind Shrek.            ', '                He looks behind the guard and the guard turns to look as well                 and we see that the other men have run off. The guard tucks tail                 and runs off. Shrek laughs and goes back about his business and                 begins walking back to his cottage.            ', '                Shrek turns and regards Donkey for a moment before roaring very                 loudly.            ', '                Shrek is getting ready for dinner. He sits himself down and lights                 a candle made out of earwax. He begins to eat when he hears a                 noise. He stands up with a huff.            ', '                There is another noise and Shrek turns to find the person that                 made the noise. He sees several shadows moving. He finally turns                 and spots ', '                Shrek marches over to the bedroom and throws back the curtain.                 The Big Bad Wolf is sitting in the bed. The wolf just looks at                 him.            ', '                Shrek now has the Big Bad Wolf by the collar and is dragging                 him to the front door.            ', '                The ', '                 pipe and the rats are all running to him, some elves are directing                 flight traffic so that the fairies and witches can land...etc.            ', '                Gasps are heard all around. The ', '                 tent.            ', '                Everyone looks around at each other but no one answers.            ', \"                Donkey begins to hum 'On the Road Again'.                \", \"                A masked man is torturing the Gingerbread Man. He's continually                 dunking him in a glass of milk. Lord Farquaad walks in.            \", '                The Gingerbread Man is pulled out of the milk and slammed down                 onto a cookie sheet. Farquaad laughs as he walks over to the                 table. However when he reaches the table we see that it goes                 up to his eyes. He clears his throat and the table is lowered.            ', '                The door opens and the Head Guard walks in.            ', '                More guards enter carrying something that is covered by a sheet.                 They hang up whatever it is and remove the sheet. It is the Magic                 Mirror.            ', '                DuLoc Parking Lot - Lancelot Section                Shrek and Donkey come out of the field that is right by the parking                 lot. The castle itself is about ', '                They look around but all is quiet.            ', \"                Donkey runs over and pulls a lever that is attached to a box                 marked 'Information'. The music winds up and then the box doors                 open up. There are little wooden people inside and they begin                 to sing.            \", \"                Here we have some rules                Let us lay them down                Don't make waves, stay in line                And we'll get along fine                DuLoc is perfect place                Please keep off of the grass                Shine your shoes, wipe your... face                DuLoc is, DuLoc is                DuLoc is perfect place.                Suddenly a camera takes Donkey and Shrek's picture.            \", '                They hear a trumpet fanfare and head over to the arena.            ', '                As Shrek and Donkey walk down the tunnel to get into the arena                 Donkey is humming the DuLoc theme song.            ', \"                He takes the mug and smashes the spigot off the large barrel                 of beer behind him. The beer comes rushing out drenching the                 other men and wetting the ground. It's like mud now. Shrek slides                 past the men and picks up a spear that one of the men dropped.                 As Shrek begins to fight Donkey hops up onto one of the larger                 beer barrels. It breaks free of it's ropes and begins to roll.                 Donkey manages to squish two men into the mud. There is so much                 fighting going on here I'm not going to go into detail. Suffice                 to say that Shrek kicks butt.            \", \"                Shrek comes over and bangs a man's head up against Donkeys. Shrek                 gets up on the ropes and interacts with the crowd.            \", '                A man tries to sneak up behind Shrek, but Shrek turns in time                 and sees him.            ', '                Shrek smashes a chair over the guys back. Finally all the men                 are down. Donkey kicks one of them in the helmet, and the ding                 sounds the end of the match. The audience goes wild.            ', '                The laughter stops as all of the guards turn their weapons on                 Shrek.            ', '                Time Lapse - Donkey and Shrek are now walking through the field                 heading away from DuLoc. Shrek is munching on an onion.            ', '                They head off. There is a montage of their journey. Walking through                 a field at sunset. Sleeping beneath a bright moon. Shrek trying                 to put the campfire out the next day and having a bit of a problem,                 so Donkey pees on the fire to put it out.                ', \"                Shrek and Donkey are walking up to the keep that's supposed to                 house Princess Fiona. It appears to look like a giant volcano.            \", '                They climb up the side of the volcano', '                 is a small piece of rock right in the center and that is where                 the castle is. It is surrounded by boiling lava. It looks very                 foreboding.            ', '                Donkey is still talking to himself as he looks around the room.            ', '                Shrek spots a light in the tallest tower window.            ', '                Donkey gasps and takes off running as the dragon roars again.                 Shrek manages to grab Donkey out of the way just as the dragon                 breathes fire.            ', \"                The dragon gets irritated at this and flicks it's tail and Shrek                 goes flying through the air and crashes through the roof of the                 tallest tower. Fiona wakes up with a jerk and looks at him lying                 on the floor.            \", \"                Donkey get cornered as the Dragon knocks away all but a small                 part of the bridge he's on.            \", '                Shrek groans as he gets up off the floor. His back is to Fiona                 so she straightens her dress and lays back down on the bed. She                 then quickly reaches over and gets the bouquet of flowers off                 the side table. She then lays back down and appears to be asleep.                 Shrek turns and goes over to her. He looks down at Fiona for                 a moment and she puckers her lips. Shrek takes her by the shoulders                 and shakes her away.            ', '                Shrek breaks the lock on her door and pulls her out and down                 the hallway.            ', '                Suddenly they hear the dragon roar.            ', \"                Shrek grabs a chain that's connected to the chandelier and swings                 toward the dragon. He misses and he swings back again. He looks                 up and spots that the chandelier is right above the dragons head.                 He pulls on the chain and it releases and he falls down and bumps                 Donkey out of the way right as the dragon is about to kiss him.                 Instead the dragon kisses Shreks' butt. She opens her eyes and                 roars. Shrek lets go of the chain and the chandelier falls onto                 her head, but it's too big and it goes over her head and forms                 a sort of collar for her. She roars again and Shrek and Donkey                 take off running. Very 'Matrix' style. Shrek grabs Donkey and                 then grabs Princess Fiona as he runs past her.            \", '                They all start screaming as the dragon gains on them. Shrek spots                 a descending slide and jumps on. But unfortunately there is a                 crack in the stone and it hits Shrek right in the groin. His                 eyes cross and as he reaches the bottom of the slide he stumbles                 off and walks lightly.            ', '                Shrek gets them close to the exit and sets down Donkey and Fiona.            ', '                Shrek grabs a sword and heads back toward the interior of the                 castle. He throws the sword down in between several overlapping                 chain links. The chain links are attached to the chandelier that                 is still around the dragons neck.            ', \"                They all take off running for the exit with the dragon in hot                 pursuit. They make it to the bridge and head across. The dragons                 breathes fire and the bridge begins to burn. They all hang on                 for dear life as the ropes holding the bridge up collapse. They                 are swung to the other side. As they hang upside down they look                 in horror as the dragon makes to fly over the boiling lava to                 get them. But suddenly the chandelier with the chain jerk the                 dragon back and she's unable to get to them. Our gang climbs                 quickly to safety as the dragon looks angry and then gives a                 sad whimper as she watches Donkey walk away.            \", '                Both Donkey and Shrek burst out laughing.            ', '                A little time has passed and Fiona has calmed down. She just                 hangs there limply while Shrek carries her.            ', '                Shrek then proceeds to splash water onto his face to wash off                 the dust and grime.            ', \"                Both Donkey and Shrek's ears lower as they shrink away from her.                \", '                Shrek has found a cave that appears to be in good order. He shoves                 a stone boulder out of the way to reveal the cave.            ', '                Shrek looks at Donkey for a second and then goes to move the                 boulder back in front of the entrance to the cave with Fiona                 still inside.            ', '                Shrek and Donkey are sitting around a campfire. They are staring                 up into the sky as Shrek points out certain star constellations                 to Donkey.            ', \"                At this point Fiona pulls the 'door' away from the entrance to                 the cave and peaks out. Neither of the guys see her.            \", '                Fiona puts the door back.            ', \"                DuLoc - Farquaad's Bedroom                The camera pans over a lot of wedding stuff. Soft music plays                 in the background. Farquaad is in bed, watching as the Magic                 Mirror shows him Princess Fiona.            \", '                The Mirror rewinds and begins to play again from the beginning.            ', '                Farquaad looks down at his bare chest and pulls the sheet up                 to cover himself as though Fiona could see him as he gazes sheepishly                 at her image in the mirror.                ', \"                Fiona walks out of the cave. She glances at Shrek and Donkey                 who are still sleeping. She wanders off into the woods and comes                 across a blue bird. She begins to sing. The bird sings along                 with her. She hits higher and higher notes and the bird struggles                 to keep up with her. Suddenly the pressure of the note is too                 big and the bird explodes. Fiona looks a little sheepish, but                 she eyes the eggs that the bird left behind. Time lapse, Fiona                 is now cooking the eggs for breakfast. Shrek and Donkey are still                 sleeping. Shrek wakes up and looks at Fiona. Donkey's talking                 in his sleep.            \", '                Fiona gets up and sets the eggs down in front of them.            ', '                Donkey sniffs the eggs and licks his lips.            ', '                They are once again on their way. They are walking through the                 forest. Shrek belches.            ', '                Fiona belches            ', '                She smiles and then continues walking, singing softly. Suddenly                 from out of nowhere, a man swings down and swoops Fiona up into                 a tree.            ', \"                Suddenly an accordion begins to play and the Merry men pop out                 from the bushes. They begin to sing Robin's theme song.            \", '                There is a grunt as Fiona swings down from the tree limb and                 knocks Robin Hood unconscious.            ', '                Shrek looks at her in admiration.            ', \"                The arrow flies toward Donkey who jumps into Shrek's arms to                 get out of the way. The arrow proceeds to just bounce off a tree.                Another fight sequence begins and Fiona gives a karate yell and                 then proceeds to beat the crap out of the Merry Men. There is                 a very interesting 'Matrix' moment here when Fiona pauses in                 mid-air to fix her hair. Finally all of the Merry Men are down,                 and Fiona begins walking away.            \", '                As they continue to talk Fiona keeps going after the arrow and                 Shrek keeps dodging her hands.            ', '                Donkey is still looking for the special flower.            ', \"                Donkey faints. Shrek walks over and picks him up as they continue                 on their way.                There is a montage of scenes as the group heads back to DuLoc.                 Shrek crawling up to the top of a tree to make it fall over a                 small brook so that Fiona won't get wet. Shrek then gets up as                 Donkey is just about to cross the tree and the tree swings back                 into it's upright position and Donkey flies off. Shrek swatting                 and a bunch of flies and mosquitoes. Fiona grabs a nearby spiderweb                 that's on a tree branch and runs through the field swinging it                 around to catch the bugs. She then hands it to Shrek who begins                 eating like it's a treat. As he walks off she licks her fingers.                 Shrek catching a toad and blowing it up like a balloon and presenting                 it to Fiona. Fiona catching a snake, blowing it up, fashioning                 it into a balloon animal and presenting it to Shrek. The group                 arriving at a windmill that is near DuLoc.                \", '                Shrek has built a fire and is cooking the rest of dinner while                 Fiona eats.            ', '                Fiona looks at DuLoc and sighs.            ', '                They smiles at each other.            ', '                Shrek sighs            ', '                Fiona goes inside the windmill and closes the door. Donkey looks                 at Shrek with a new eye.            ', '                Donkey looks over at the large pile of firewood there already                 is.                ', '                Donkey opens the door to the Windmill and walks in. Fiona is                 nowhere to be seen.            ', \"                Fiona looks at Donkey from the shadows, but we can't see her.            \", \"                Suddenly Fiona falls from the railing. She gets up only she doesn't                 look like herself. She looks like an ogre and Donkey starts freaking                 out.            \", '                Donkey looks into her eyes as she pets his muzzle, and he quiets                 down.            ', '                Shrek is walking towards the windmill with a sunflower in his                 hand.            ', '                He walks up to the door and pauses outside when he hears Donkey                 and Fiona talking.            ', '                Shrek steps back in shock.            ', '                Shrek heaves a deep sigh. He throws the flower down and walks                 away.                ', '                Fiona comes out the door and watches him walk away. She looks                 down and spots the sunflower. She picks it up before going back                 inside the windmill.                ', '                Donkey is asleep. Shrek is nowhere to be seen. Fiona is still                 awake. She is plucking petals from the sunflower.            ', '                Just as she looks back at the sun she sees Shrek stomping towards                 her.            ', \"                Farquaad has arrived with a group of his men. He looks very regal                 sitting up on his horse. You would never guess that he's only                 like \", '                 march by.            ', '                Donkey watches this exchange with a curious look on his face.            ', \"                Farquaad's whole party begins to head back to DuLoc. Donkey watches                 them go.            \", '                Montage of different scenes. Shrek arriving back home. Fiona                 being fitted for the wedding dress. Donkey at a stream running                 into the dragon. Shrek cleaning up his house. Fiona eating dinner                 alone. Shrek eating dinner alone.                ', '                Shrek is eating dinner when he hears a sound outside. He goes                 outside to investigate.            ', '                Suddenly the dragon arrives overhead and flies low enough so                 they can climb on.            ', '                They both laugh.            ', '                They climb aboard the dragon and she takes off for DuLoc.                ', \"                Fiona and Farquaad are getting married. The whole town is there.                 The prompter card guy holds up a card that says 'Revered Silence'.            \", '                Some guards are milling around. Suddenly the dragon lands with                 a boom. The guards all take off running.            ', \"                As the priest talks we see Donkey's shadow through one of the                 windows Shrek tosses him up so he can see.            \", '                Outside            ', '                Inside            ', '                Outside            ', '                Inside            ', '                Outside            ', '                He runs inside without catching Donkey, who hits the ground hard.                ', '                The whole congregation gasps as they see Shrek.            ', \"                The prompter card guy holds up a card that says 'Laugh'. The                 whole congregation laughs.            \", '                She backs up and as the sun sets she changes into her ogre self.                 She gives Shrek a sheepish smile.            ', '                The guards run in and separate Fiona and Shrek. Shrek fights                 them.            ', '                Shrek manages to get a hand free and he whistles.            ', \"                The dragon belches and Farquaad's crown flies out of her mouth                 and falls to the ground.            \", '                The congregation cheers.            ', \"                Shrek and Fiona kiss. Thelonius takes one of the cards and writes                 'Awwww' on the back and then shows it to the congregation.            \", \"                Suddenly the magic of the spell pulls Fiona away. She's lifted                 up into the air and she hovers there while the magic works around                 her.            \", \"                Suddenly Fiona's eyes open wide. She's consumed by the spell                 and then is slowly lowered to the ground.            \", '                They smile at each other.            ', '                Shrek and Fiona kiss...and the kiss fades into...                ', \"                ...their wedding kiss. Shrek and Fiona are now married. 'I'm                 a Believer' by Smashmouth is played in the background. Shrek                 and Fiona break apart and run through the crowd to their awaiting                 carriage. Which is made of a giant onion. Fiona tosses her bouquet                 which both Cinderella and Snow White try to catch. But they end                 up getting into a cat fight and so the dragon catches the bouquet                 instead. The Gingerbread man has been mended somewhat and now                 has one leg and walks with a candy cane cane. Shrek and Fiona                 walk off as the rest of the guests party and Donkey takes over                 singing the song.            \"]"
      ]
     },
     "execution_count": 22,
     "metadata": {},
     "output_type": "execute_result"
    }
   ],
   "source": [
    "scene_headings"
   ]
  },
  {
   "cell_type": "code",
   "execution_count": 23,
   "metadata": {},
   "outputs": [],
   "source": [
    "shr_lines = re.split(\" {12}\", shr_scr)"
   ]
  },
  {
   "cell_type": "code",
   "execution_count": 24,
   "metadata": {},
   "outputs": [
    {
     "data": {
      "text/plain": [
       "1080"
      ]
     },
     "execution_count": 24,
     "metadata": {},
     "output_type": "execute_result"
    }
   ],
   "source": [
    "len(shr_lines) #should be 1080"
   ]
  },
  {
   "cell_type": "code",
   "execution_count": 25,
   "metadata": {},
   "outputs": [
    {
     "name": "stdout",
     "output_type": "stream",
     "text": [
      "[\"_NEWLINE_SHREK_ Once upon a time there was a lovely princess. But she had an enchantment upon her of a fearful sort which could only be broken by love's first kiss. She was locked away in a castle guarded by a terrible fire-breathing dragon. Many brave knights had attempted to free her from this dreadful prison, but non prevailed. She waited in the dragon's keep in the highest room of the tallest tower for her true love and true love's first kiss. (laughs) Like that's ever gonna happen. What a load of - (toilet flush)\", '    Allstar - by Smashmouth begins to play. Shrek goes about his', '     day. While in a nearby town, the villagers get together to go', '     after the ogre.', \"    _NEWLINE_NIGHT _- _NEWLINE_NEAR SHREK'S HOME_\", \"_NEWLINE_MAN1_ Think it's in there?\", \"_NEWLINE_MAN2_ All right. Let's get it!\", '_NEWLINE_MAN1_ Whoa. Hold on. Do you know what that thing can do to you?', \"_NEWLINE_MAN3_ Yeah, it'll grind your bones for it's bread.\", '    Shrek sneaks up behind them and laughs.']\n"
     ]
    }
   ],
   "source": [
    "print(shr_lines[:10])"
   ]
  },
  {
   "cell_type": "code",
   "execution_count": 28,
   "metadata": {},
   "outputs": [],
   "source": [
    "#Note: there is a flaw in this code. For some reason, it does not remove each instance of this chunk all at once. \n",
    "# Perhaps adding r'' to the beginning of the string will help, but idk\n",
    "all_w_sp = []\n",
    "num_lines = 0\n",
    "bad_lines = []\n",
    "for x in shr_lines:\n",
    "    white_space = re.findall(\" {3,}\", x)\n",
    "    if len(white_space) >= 1:\n",
    "        num_lines += 1\n",
    "        bad_lines.append(x)"
   ]
  },
  {
   "cell_type": "code",
   "execution_count": 30,
   "metadata": {},
   "outputs": [
    {
     "name": "stdout",
     "output_type": "stream",
     "text": [
      "0\n",
      "357\n",
      "357\n"
     ]
    }
   ],
   "source": [
    "print(len(all_w_sp))\n",
    "print(num_lines) #357 lines\n",
    "print(len(bad_lines)) #357 not actual lines"
   ]
  },
  {
   "cell_type": "code",
   "execution_count": null,
   "metadata": {},
   "outputs": [],
   "source": [
    "1080-357 #723 is our target number"
   ]
  },
  {
   "cell_type": "code",
   "execution_count": 32,
   "metadata": {},
   "outputs": [
    {
     "name": "stdout",
     "output_type": "stream",
     "text": [
      "723\n"
     ]
    }
   ],
   "source": [
    "for x in bad_lines:\n",
    "    shr_lines.remove(x)\n",
    "print(len(shr_lines)) #WOOHOOO, finally!"
   ]
  },
  {
   "cell_type": "code",
   "execution_count": 33,
   "metadata": {},
   "outputs": [
    {
     "data": {
      "text/plain": [
       "[\"_NEWLINE_SHREK_ Once upon a time there was a lovely princess. But she had an enchantment upon her of a fearful sort which could only be broken by love's first kiss. She was locked away in a castle guarded by a terrible fire-breathing dragon. Many brave knights had attempted to free her from this dreadful prison, but non prevailed. She waited in the dragon's keep in the highest room of the tallest tower for her true love and true love's first kiss. (laughs) Like that's ever gonna happen. What a load of - (toilet flush)\", \"_NEWLINE_MAN1_ Think it's in there?\", \"_NEWLINE_MAN2_ All right. Let's get it!\", '_NEWLINE_MAN1_ Whoa. Hold on. Do you know what that thing can do to you?', \"_NEWLINE_MAN3_ Yeah, it'll grind your bones for it's bread.\", \"_NEWLINE_SHREK_ Yes, well, actually, that would be a giant. Now, ogres, oh they're much worse. They'll make a suit from your freshly peeled skin.\", '_NEWLINE_MEN_ No!', \"_NEWLINE_SHREK_ They'll shave your liver. Squeeze the jelly from your eyes! Actually, it's quite good on toast.\", '_NEWLINE_MAN1_ Back! Back, beast! Back! I warn ya! (waves the torch at Shrek.)', '_NEWLINE_SHREK_ This is the part where you run away. (The men scramble to get away. He laughs.) And stay out! (looks down and picks up a piece of paper. Reads.) \"Wanted. Fairy tale creatures.\"(He sighs and throws the paper over his shoulder.)']"
      ]
     },
     "execution_count": 33,
     "metadata": {},
     "output_type": "execute_result"
    }
   ],
   "source": [
    "shr_lines[:10]"
   ]
  },
  {
   "cell_type": "code",
   "execution_count": null,
   "metadata": {},
   "outputs": [],
   "source": [
    "set(all_w_sp)"
   ]
  },
  {
   "cell_type": "markdown",
   "metadata": {},
   "source": [
    "Now, we have to split this according to the utterer and their following line"
   ]
  },
  {
   "cell_type": "code",
   "execution_count": 36,
   "metadata": {},
   "outputs": [
    {
     "data": {
      "text/plain": [
       "<_sre.SRE_Match object; span=(0, 9), match='_NEWLINE_'>"
      ]
     },
     "execution_count": 36,
     "metadata": {},
     "output_type": "execute_result"
    }
   ],
   "source": [
    "re.search(\"_NEWLINE_\", shr_lines[0])"
   ]
  },
  {
   "cell_type": "code",
   "execution_count": 35,
   "metadata": {},
   "outputs": [
    {
     "data": {
      "text/plain": [
       "[\"_NEWLINE_SHREK_ Once upon a time there was a lovely princess. But she had an enchantment upon her of a fearful sort which could only be broken by love's first kiss. She was locked away in a castle guarded by a terrible fire-breathing dragon. Many brave knights had attempted to free her from this dreadful prison, but non prevailed. She waited in the dragon's keep in the highest room of the tallest tower for her true love and true love's first kiss. (laughs) Like that's ever gonna happen. What a load of - (toilet flush)\", \"_NEWLINE_MAN1_ Think it's in there?\", \"_NEWLINE_MAN2_ All right. Let's get it!\", '_NEWLINE_MAN1_ Whoa. Hold on. Do you know what that thing can do to you?', \"_NEWLINE_MAN3_ Yeah, it'll grind your bones for it's bread.\", \"_NEWLINE_SHREK_ Yes, well, actually, that would be a giant. Now, ogres, oh they're much worse. They'll make a suit from your freshly peeled skin.\", '_NEWLINE_MEN_ No!', \"_NEWLINE_SHREK_ They'll shave your liver. Squeeze the jelly from your eyes! Actually, it's quite good on toast.\", '_NEWLINE_MAN1_ Back! Back, beast! Back! I warn ya! (waves the torch at Shrek.)', '_NEWLINE_SHREK_ This is the part where you run away. (The men scramble to get away. He laughs.) And stay out! (looks down and picks up a piece of paper. Reads.) \"Wanted. Fairy tale creatures.\"(He sighs and throws the paper over his shoulder.)']"
      ]
     },
     "execution_count": 35,
     "metadata": {},
     "output_type": "execute_result"
    }
   ],
   "source": [
    "shr_lines[:10]"
   ]
  },
  {
   "cell_type": "code",
   "execution_count": 46,
   "metadata": {},
   "outputs": [],
   "source": [
    "line_list = []\n",
    "for x in shr_lines:\n",
    "    x = x.replace(\"_NEWLINE_\", \"\")\n",
    "    my_list = re.split(\"_ \", x)\n",
    "    my_tu = tuple(my_list)\n",
    "    line_list.append(my_tu)  \n"
   ]
  },
  {
   "cell_type": "code",
   "execution_count": 47,
   "metadata": {},
   "outputs": [
    {
     "data": {
      "text/plain": [
       "[('SHREK', \"Once upon a time there was a lovely princess. But she had an enchantment upon her of a fearful sort which could only be broken by love's first kiss. She was locked away in a castle guarded by a terrible fire-breathing dragon. Many brave knights had attempted to free her from this dreadful prison, but non prevailed. She waited in the dragon's keep in the highest room of the tallest tower for her true love and true love's first kiss. (laughs) Like that's ever gonna happen. What a load of - (toilet flush)\"), ('MAN1', \"Think it's in there?\"), ('MAN2', \"All right. Let's get it!\"), ('MAN1', 'Whoa. Hold on. Do you know what that thing can do to you?'), ('MAN3', \"Yeah, it'll grind your bones for it's bread.\"), ('SHREK', \"Yes, well, actually, that would be a giant. Now, ogres, oh they're much worse. They'll make a suit from your freshly peeled skin.\"), ('MEN', 'No!'), ('SHREK', \"They'll shave your liver. Squeeze the jelly from your eyes! Actually, it's quite good on toast.\"), ('MAN1', 'Back! Back, beast! Back! I warn ya! (waves the torch at Shrek.)'), ('SHREK', 'This is the part where you run away. (The men scramble to get away. He laughs.) And stay out! (looks down and picks up a piece of paper. Reads.) \"Wanted. Fairy tale creatures.\"(He sighs and throws the paper over his shoulder.)')]"
      ]
     },
     "execution_count": 47,
     "metadata": {},
     "output_type": "execute_result"
    }
   ],
   "source": [
    "line_list[:10]"
   ]
  },
  {
   "cell_type": "code",
   "execution_count": 48,
   "metadata": {},
   "outputs": [],
   "source": [
    "import numpy as np\n",
    "import pandas as pd"
   ]
  },
  {
   "cell_type": "code",
   "execution_count": 49,
   "metadata": {},
   "outputs": [],
   "source": [
    "line_list = np.array(line_list)"
   ]
  },
  {
   "cell_type": "code",
   "execution_count": 52,
   "metadata": {},
   "outputs": [],
   "source": [
    "DF = pd.DataFrame(line_list, columns=[\"Speaker\", \"Text\"])"
   ]
  },
  {
   "cell_type": "code",
   "execution_count": 53,
   "metadata": {},
   "outputs": [
    {
     "data": {
      "text/html": [
       "<div>\n",
       "<style scoped>\n",
       "    .dataframe tbody tr th:only-of-type {\n",
       "        vertical-align: middle;\n",
       "    }\n",
       "\n",
       "    .dataframe tbody tr th {\n",
       "        vertical-align: top;\n",
       "    }\n",
       "\n",
       "    .dataframe thead th {\n",
       "        text-align: right;\n",
       "    }\n",
       "</style>\n",
       "<table border=\"1\" class=\"dataframe\">\n",
       "  <thead>\n",
       "    <tr style=\"text-align: right;\">\n",
       "      <th></th>\n",
       "      <th>Speaker</th>\n",
       "      <th>Text</th>\n",
       "    </tr>\n",
       "  </thead>\n",
       "  <tbody>\n",
       "    <tr>\n",
       "      <th>0</th>\n",
       "      <td>SHREK</td>\n",
       "      <td>Once upon a time there was a lovely princess. ...</td>\n",
       "    </tr>\n",
       "    <tr>\n",
       "      <th>1</th>\n",
       "      <td>MAN1</td>\n",
       "      <td>Think it's in there?</td>\n",
       "    </tr>\n",
       "    <tr>\n",
       "      <th>2</th>\n",
       "      <td>MAN2</td>\n",
       "      <td>All right. Let's get it!</td>\n",
       "    </tr>\n",
       "    <tr>\n",
       "      <th>3</th>\n",
       "      <td>MAN1</td>\n",
       "      <td>Whoa. Hold on. Do you know what that thing can...</td>\n",
       "    </tr>\n",
       "    <tr>\n",
       "      <th>4</th>\n",
       "      <td>MAN3</td>\n",
       "      <td>Yeah, it'll grind your bones for it's bread.</td>\n",
       "    </tr>\n",
       "  </tbody>\n",
       "</table>\n",
       "</div>"
      ],
      "text/plain": [
       "  Speaker                                               Text\n",
       "0   SHREK  Once upon a time there was a lovely princess. ...\n",
       "1    MAN1                               Think it's in there?\n",
       "2    MAN2                           All right. Let's get it!\n",
       "3    MAN1  Whoa. Hold on. Do you know what that thing can...\n",
       "4    MAN3       Yeah, it'll grind your bones for it's bread."
      ]
     },
     "execution_count": 53,
     "metadata": {},
     "output_type": "execute_result"
    }
   ],
   "source": [
    "DF.head()"
   ]
  },
  {
   "cell_type": "code",
   "execution_count": 54,
   "metadata": {},
   "outputs": [
    {
     "data": {
      "text/html": [
       "<div>\n",
       "<style scoped>\n",
       "    .dataframe tbody tr th:only-of-type {\n",
       "        vertical-align: middle;\n",
       "    }\n",
       "\n",
       "    .dataframe tbody tr th {\n",
       "        vertical-align: top;\n",
       "    }\n",
       "\n",
       "    .dataframe thead th {\n",
       "        text-align: right;\n",
       "    }\n",
       "</style>\n",
       "<table border=\"1\" class=\"dataframe\">\n",
       "  <thead>\n",
       "    <tr style=\"text-align: right;\">\n",
       "      <th></th>\n",
       "      <th>Speaker</th>\n",
       "      <th>Text</th>\n",
       "    </tr>\n",
       "  </thead>\n",
       "  <tbody>\n",
       "    <tr>\n",
       "      <th>718</th>\n",
       "      <td>FIONA</td>\n",
       "      <td>(standing up, she's still an ogre) Well, yes. ...</td>\n",
       "    </tr>\n",
       "    <tr>\n",
       "      <th>719</th>\n",
       "      <td>SHREK</td>\n",
       "      <td>But you ARE _beautiful.</td>\n",
       "    </tr>\n",
       "    <tr>\n",
       "      <th>720</th>\n",
       "      <td>DONKEY</td>\n",
       "      <td>(chuckles) I was hoping this would be a happy ...</td>\n",
       "    </tr>\n",
       "    <tr>\n",
       "      <th>721</th>\n",
       "      <td>GINGERBREAD MAN</td>\n",
       "      <td>God bless us, every one.</td>\n",
       "    </tr>\n",
       "    <tr>\n",
       "      <th>722</th>\n",
       "      <td>DONKEY</td>\n",
       "      <td>(as he's done singing and we fade to black) Oh...</td>\n",
       "    </tr>\n",
       "  </tbody>\n",
       "</table>\n",
       "</div>"
      ],
      "text/plain": [
       "             Speaker                                               Text\n",
       "718            FIONA  (standing up, she's still an ogre) Well, yes. ...\n",
       "719            SHREK                            But you ARE _beautiful.\n",
       "720           DONKEY  (chuckles) I was hoping this would be a happy ...\n",
       "721  GINGERBREAD MAN                           God bless us, every one.\n",
       "722           DONKEY  (as he's done singing and we fade to black) Oh..."
      ]
     },
     "execution_count": 54,
     "metadata": {},
     "output_type": "execute_result"
    }
   ],
   "source": [
    "DF.tail()"
   ]
  },
  {
   "cell_type": "markdown",
   "metadata": {},
   "source": [
    "Oh man, oh man, that took a long time. Some things to consider about this code:\n",
    "* Can it be refined and streamlined for other movies?\n",
    "* Is there a way to insert starts of scenes into here easily? Perhaps something to do with where scene headers are located??\n",
    "* Need to remove parentheticals, since these aren't lines. This can easily be done with through regex when the list is being built, or through the data frame itself."
   ]
  },
  {
   "cell_type": "code",
   "execution_count": 55,
   "metadata": {},
   "outputs": [],
   "source": [
    "#saving the data frame\n",
    "import pickle as pkl"
   ]
  },
  {
   "cell_type": "code",
   "execution_count": 56,
   "metadata": {},
   "outputs": [],
   "source": [
    "DF.to_pickle(r'C:\\Users\\cassi\\Desktop\\Data_Science\\Animated-Movie-Gendered-Dialogue\\private\\shrek_lines.pkl')"
   ]
  },
  {
   "cell_type": "code",
   "execution_count": null,
   "metadata": {},
   "outputs": [],
   "source": []
  }
 ],
 "metadata": {
  "kernelspec": {
   "display_name": "Python 3",
   "language": "python",
   "name": "python3"
  },
  "language_info": {
   "codemirror_mode": {
    "name": "ipython",
    "version": 3
   },
   "file_extension": ".py",
   "mimetype": "text/x-python",
   "name": "python",
   "nbconvert_exporter": "python",
   "pygments_lexer": "ipython3",
   "version": "3.6.4"
  }
 },
 "nbformat": 4,
 "nbformat_minor": 2
}
