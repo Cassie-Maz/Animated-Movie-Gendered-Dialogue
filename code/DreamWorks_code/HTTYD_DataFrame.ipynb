{
 "cells": [
  {
   "cell_type": "markdown",
   "metadata": {},
   "source": [
    "# How to Train Your Dragon DataFrame\n",
    "This script is weird...it only has 25 or 10 white spaces anywhere, which means filtering out scene headers/description may be more difficult. I think for this one, I'll find all capitalized chunks, and THEN filter out anything that isn't a speaker's name"
   ]
  },
  {
   "cell_type": "code",
   "execution_count": 1,
   "metadata": {},
   "outputs": [
    {
     "name": "stdout",
     "output_type": "stream",
     "text": [
      "Pretty printing has been turned OFF\n"
     ]
    }
   ],
   "source": [
    "%pprint"
   ]
  },
  {
   "cell_type": "code",
   "execution_count": 2,
   "metadata": {},
   "outputs": [],
   "source": [
    "import pandas\n",
    "import re"
   ]
  },
  {
   "cell_type": "code",
   "execution_count": 3,
   "metadata": {},
   "outputs": [],
   "source": [
    "httyd = open(r'C:\\Users\\cassi\\Desktop\\Data_Science\\Animated-Movie-Gendered-Dialogue\\private\\imsdb_raw_nov_2015\\Animation\\howtotrainyourdragon.txt')\n",
    "httyd_script = httyd.read()\n",
    "httyd.close()"
   ]
  },
  {
   "cell_type": "code",
   "execution_count": 4,
   "metadata": {},
   "outputs": [
    {
     "data": {
      "text/plain": [
       "\"                            HOW TO TRAIN YOUR DRAGON\\n\\n                                   Written by\\n\\n                         Dean DeBlois & Chris Sanders\\n\\n                                                           Final Draft\\n\\n                                                     February 13, 2010\\n\\n                         FADE IN:\\n\\n          EXT. NORTH SEA/VILLAGE - NIGHT\\n\\n          We skim above a dark, wild ocean. The camera turns toward a\\n\\n          lone island, Berk. It is a gigantic shard of rock jutting\\n\\n          straight out of the water.\\n\\n          HICCUP (V.O.)\\n\\n          This, is Berk. It's twelve days\\n\\n          North of hopeless, and a few\\n\\n          degrees South of freezing to death.\\n\\n          It's located solidly on the\\n\\n \""
      ]
     },
     "execution_count": 4,
     "metadata": {},
     "output_type": "execute_result"
    }
   ],
   "source": [
    "httyd_script[:750]"
   ]
  },
  {
   "cell_type": "code",
   "execution_count": 5,
   "metadata": {},
   "outputs": [
    {
     "data": {
      "text/plain": [
       "\"\\n\\n          EXT. NORTH SEA/VILLAGE - NIGHT\\n\\n          We skim above a dark, wild ocean. The camera turns toward a\\n\\n          lone island, Berk. It is a gigantic shard of rock jutting\\n\\n          straight out of the water.\\n\\n          HICCUP (V.O.)\\n\\n          This, is Berk. It's twelve days\\n\\n          North of hopeless, and a few\\n\\n          degrees South of freezing to death.\\n\\n          It's located solidly on the\\n\\n \""
      ]
     },
     "execution_count": 5,
     "metadata": {},
     "output_type": "execute_result"
    }
   ],
   "source": [
    "httyd_script[333:750]"
   ]
  },
  {
   "cell_type": "code",
   "execution_count": 6,
   "metadata": {},
   "outputs": [],
   "source": [
    "httyd_script = httyd_script[333:]"
   ]
  },
  {
   "cell_type": "code",
   "execution_count": 7,
   "metadata": {},
   "outputs": [],
   "source": [
    "def white_space_count(script_name):\n",
    "    white_space = re.findall(\" {3,}\", script_name)\n",
    "    len_w_s = [len(x) for x in white_space]\n",
    "    print(len_w_s[:100])\n",
    "    print(set(len_w_s))\n",
    "    for num in set(len_w_s):\n",
    "        print(num, \"white spaces appear\", len_w_s.count(num), \"times\")"
   ]
  },
  {
   "cell_type": "markdown",
   "metadata": {},
   "source": [
    "Okay, so the script doesn't differentiate between descriptions of action and Hiccup's lines in any way...which is bad."
   ]
  },
  {
   "cell_type": "code",
   "execution_count": 8,
   "metadata": {},
   "outputs": [],
   "source": [
    "# Let's just remove () while we're here...\n",
    "def no_parentheses(script):\n",
    "    new_script = re.sub(r\" *\\([^\\)]*\\)\", '', script)\n",
    "    return new_script"
   ]
  },
  {
   "cell_type": "code",
   "execution_count": 9,
   "metadata": {},
   "outputs": [],
   "source": [
    "httyd_script = no_parentheses(httyd_script)"
   ]
  },
  {
   "cell_type": "code",
   "execution_count": 10,
   "metadata": {},
   "outputs": [
    {
     "data": {
      "text/plain": [
       "'\\n\\n          EXT. NORTH SEA/VILLAGE - NIGHT\\n\\n          We skim above a dark, wild ocean. The camera turns toward a\\n\\n          lone island, Berk. It is a gigantic shard of rock jutting\\n\\n          straight out of the water.\\n\\n          HICCUP\\n\\n          This, is Berk. It\\'s twelve days\\n\\n          North of hopeless, and a few\\n\\n          degrees South of freezing to death.\\n\\n          It\\'s located solidly on the\\n\\n          meridian of misery.\\n\\n          The camera drifts over rolling hills to reveal a small\\n\\n          village nestled on an outcropping of sea mounts.\\n\\n          HICCUP\\n\\n          My village. In a word, sturdy.\\n\\n          And it\\'s been here for seven\\n\\n          generations, but every single\\n\\n          building is new.\\n\\n          The camera drifts closer, circling.\\n\\n          HICCUP\\n\\n          We have fishing, hunting, and a\\n\\n          charming view of the sunsets. The\\n\\n          only problems are the pests. You\\n\\n          see, most places have mice or\\n\\n          mosquitos. We have...\\n\\n          Sheep graze peacefully on a hillside. Suddenly one is\\n\\n          snatched.\\n\\n                         CUT TO:\\n\\n          INT. STOICK\\'S HOUSE - CONTINUOUS\\n\\n          A door is pulled open... as a DRAGON swoops directly toward\\n\\n          it, BLASTING FIRE. The door is SLAMMED. The fire shoots\\n\\n          through the slats of wood, illuminating HICCUP, a gangly\\n\\n          teenage Viking.\\n\\n                         HICCUP\\n\\n          ...dragons.\\n\\n          EXT. STOICK\\'S HOUSE\\n\\n          He reopens the sizzling door, as leaps off of the front\\n\\n          porch. He weaves through the erupting mayhem as Vikings pour\\n\\n          out of the buildings, ready for a fight.\\n\\n          \"Dragon\" DeBlois/Sanders Final Draft 02-13-2010 2.\\n\\n          More dragons swarm in, setting rooftops alight and hauling\\n\\n          off sheep.\\n\\n          HICCUP\\n\\n          Most people would leave. Not us.\\n\\n          We\\'re Vikings. We have stubbornness\\n\\n          issues.\\n\\n          Vikings sound the alarm. Vi'"
      ]
     },
     "execution_count": 10,
     "metadata": {},
     "output_type": "execute_result"
    }
   ],
   "source": [
    "httyd_script[:2000]"
   ]
  },
  {
   "cell_type": "code",
   "execution_count": 11,
   "metadata": {},
   "outputs": [],
   "source": [
    "titles = re.findall(r\"\"\"\\n\\n          \"Dragon\" DeBlois/Sanders Final Draft 02-13-2010 [0-9]+\\.\"\"\", httyd_script)"
   ]
  },
  {
   "cell_type": "code",
   "execution_count": 12,
   "metadata": {},
   "outputs": [
    {
     "data": {
      "text/plain": [
       "104"
      ]
     },
     "execution_count": 12,
     "metadata": {},
     "output_type": "execute_result"
    }
   ],
   "source": [
    "len(titles)"
   ]
  },
  {
   "cell_type": "code",
   "execution_count": 13,
   "metadata": {},
   "outputs": [],
   "source": [
    "httyd_script = re.sub(r\"\"\"\\n\\n          \"Dragon\" DeBlois/Sanders Final Draft 02-13-2010 [0-9]+\\.\"\"\", '', httyd_script)"
   ]
  },
  {
   "cell_type": "code",
   "execution_count": 14,
   "metadata": {},
   "outputs": [
    {
     "name": "stdout",
     "output_type": "stream",
     "text": [
      "[10, 10, 10, 10, 10, 10, 10, 10, 10, 10, 10, 10, 10, 10, 10, 10, 10, 10, 10, 10, 10, 10, 10, 10, 10, 10, 25, 10, 10, 10, 10, 10, 25, 10, 10, 10, 10, 10, 10, 10, 10, 10, 10, 10, 10, 10, 10, 10, 10, 10, 10, 10, 10, 10, 10, 10, 10, 10, 25, 10, 10, 10, 10, 10, 10, 10, 25, 10, 25, 10, 25, 10, 25, 10, 10, 10, 25, 10, 10, 10, 10, 10, 10, 25, 10, 10, 10, 10, 10, 10, 10, 10, 10, 10, 10, 10, 10, 10, 10, 10]\n",
      "{25, 10}\n",
      "25 white spaces appear 532 times\n",
      "10 white spaces appear 3278 times\n"
     ]
    }
   ],
   "source": [
    "white_space_count(httyd_script)"
   ]
  },
  {
   "cell_type": "code",
   "execution_count": 15,
   "metadata": {},
   "outputs": [],
   "source": [
    "all_caps_25 = re.findall(r\"\\n\\n {25}(\\b[A-Z]['A-Z ]{1,})+\\n\\n\", httyd_script)"
   ]
  },
  {
   "cell_type": "code",
   "execution_count": 16,
   "metadata": {},
   "outputs": [],
   "source": [
    "all_caps_10 = re.findall(r\"\\n\\n {10}(\\b[A-Z]['A-Z ]{1,})+\\n\\n\", httyd_script)"
   ]
  },
  {
   "cell_type": "code",
   "execution_count": 17,
   "metadata": {},
   "outputs": [],
   "source": [
    "all_caps = re.findall(r\"\\n\\n {10,}(\\b[A-Z]['A-Z0-9#:\\-\\. ]{1,})+\\n\\n\", httyd_script)"
   ]
  },
  {
   "cell_type": "code",
   "execution_count": 18,
   "metadata": {},
   "outputs": [
    {
     "name": "stdout",
     "output_type": "stream",
     "text": [
      "498\n",
      "258\n",
      "835\n"
     ]
    }
   ],
   "source": [
    "print(len(all_caps_25))\n",
    "print(len(all_caps_10))\n",
    "print(len(all_caps))"
   ]
  },
  {
   "cell_type": "code",
   "execution_count": 19,
   "metadata": {},
   "outputs": [
    {
     "data": {
      "text/plain": [
       "['A BEAT', 'A BEAT.', 'ASTRID', 'BACK TO ASTRID', 'BACK TO SNOTLOUT', 'BEGIN MUSIC MONTAGE', 'BOMBARDING HIM WITH QUESTIONS.', 'BURNTHAIR', 'CATAPULT OPERATOR', 'CLOSE ON', 'CUT BACK TO REVEAL...', 'CUT TO:', 'DISSOLVE TO:', 'EXT. BERK - NIGHT', 'EXT. BLACK SAND BEACH - SUNSET', 'EXT. COVE - CONTINUOUS', 'EXT. COVE - DAY', 'EXT. COVE - LATER', 'EXT. DOCKS - DAWN', 'EXT. DRAGON ISLAND - DAY', 'EXT. FOGGY SEA - DAY', 'EXT. GREAT HALL - CONTINUOUS', 'EXT. HIDDEN COVE - DAWN', 'EXT. HIDDEN COVE - DUSK', 'EXT. HIDDEN COVE - NIGHT - LATER', 'EXT. SKY - MOMENTS LATER', \"EXT. STOICK'S HOUSE\", 'EXT. TRAINING GROUNDS - AFTERNOON', 'EXT. TRAINING GROUNDS - CONTINUOUS', 'EXT. TRAINING GROUNDS - DAY', 'EXT. TRAINING GROUNDS - LATER', 'EXT. TRAINING GROUNDS - MORNING', 'EXT. TRAINING GROUNDS - RING - DAY', 'EXT. VILLAGE - CATAPULT - CONTINUOUS', 'EXT. VILLAGE - CONTINUOUS', 'EXT. VILLAGE - LOWER PLAINS - CONTINUOUS', 'EXT. VILLAGE - MOMENTS LATER', 'EXT. VILLAGE - NIGHT', 'EXT. VILLAGE - UPPER PLAZA - CONTINUOUS', 'EXT. WOODS - AFTERNOON', 'EXT. WOODS - DAY', 'EXT. WOODS - MOMENTS LATER', 'FADE TO WHITE', 'FISHLEGS', 'GOBBER', 'HICCUP', 'HICCUP STOICK', 'HICCUP.', 'HOARK', 'IN THE AIR', 'IN THE PLAZA', 'IN THE STALL', 'INT. BLACKSMITH STALL - CONTINUOUS', \"INT. BLACKSMITH STALL - HICCUP'S CLOSET - NIGHT\", 'INT. BLAKCSMITH STALL - LATER', 'INT. GREAT HALL - DAY', 'INT. GREAT HALL - LATE NIGHT', 'INT. MEADE HALL - CONTINUOUS', \"INT. STOICK'S HOUSE - CONTINUOUS\", \"INT. STOICK'S HOUSE - DAY\", 'LAUGHTER AND APPLAUSE', 'MATCH CUT TO:', 'ON HICCUP', 'ON HICCUP AND ASTRID', \"ON HICCUP'S FACE\", 'ON SNOTLOUT AND FISHLEGS', 'ON SNOTLOUT AND TUFFNUT', 'ON THE BARE FLOOR', 'ON THE GROUND', 'ON THE PLAIN ABOVE', 'ON THE PLAIN BELOW', 'ON THE TEENS', 'PHLEGMA THE FIERCE', 'REPAIR VIKINGS--', 'RUFFNUT', 'SEE YOU--', 'SIGH.', 'SNOTLOUT', 'SPITELOUT', 'STOICK', 'STOICK HICCUP', 'TEENS', 'TOWER.', 'TUFFNUT', 'TUFFNUT RUFFNUT', 'UNDERWATER', 'VIKING', 'VIKING #1', 'VIKING #2', 'VIKING #3', 'VIKING #4', 'VIKING #5', 'VIKING #6', 'VIKING #7', 'VIKING IN CROWD', 'VIKINGS', 'WITH DRAGONS.', 'WOULD YOU PLEASE JUST LISTEN TO', 'WOULD--']"
      ]
     },
     "execution_count": 19,
     "metadata": {},
     "output_type": "execute_result"
    }
   ],
   "source": [
    "sorted(set(all_caps))"
   ]
  },
  {
   "cell_type": "code",
   "execution_count": 20,
   "metadata": {},
   "outputs": [],
   "source": [
    "httyd_script = re.sub(r\"WOULD\", r\"would\", httyd_script)"
   ]
  },
  {
   "cell_type": "code",
   "execution_count": 21,
   "metadata": {},
   "outputs": [],
   "source": [
    "all_caps = re.findall(r\"\\n\\n {10,}(\\b[A-Z]['A-Z0-9#:\\-\\./ ]{1,})+\\n\\n\", httyd_script)"
   ]
  },
  {
   "cell_type": "code",
   "execution_count": 22,
   "metadata": {},
   "outputs": [
    {
     "data": {
      "text/plain": [
       "['EXT. NORTH SEA/VILLAGE - NIGHT', 'HICCUP', 'HICCUP', 'HICCUP', 'CUT TO:', 'HICCUP', \"EXT. STOICK'S HOUSE\", 'HICCUP', 'HICCUP', 'VIKING']"
      ]
     },
     "execution_count": 22,
     "metadata": {},
     "output_type": "execute_result"
    }
   ],
   "source": [
    "all_caps[:10]"
   ]
  },
  {
   "cell_type": "code",
   "execution_count": 23,
   "metadata": {},
   "outputs": [
    {
     "data": {
      "text/plain": [
       "['A BEAT', 'A BEAT.', 'ASTRID', 'BACK TO ASTRID', 'BACK TO SNOTLOUT', 'BOMBARDING HIM WITH QUESTIONS.', 'BURNTHAIR', 'CATAPULT OPERATOR', 'CLOSE ON', 'CUT BACK TO REVEAL...', 'CUT TO:', 'DISSOLVE TO:', 'EXT. BERK - NIGHT', 'EXT. BLACK SAND BEACH - SUNSET', 'EXT. COVE - CONTINUOUS', 'EXT. COVE - DAY', 'EXT. COVE - LATER', 'EXT. DOCKS - DAWN', 'EXT. DOCKS/OPEN SEA - DAY', 'EXT. DRAGON ISLAND - DAY', 'EXT. FOGGY SEA - DAY', 'EXT. GREAT HALL - CONTINUOUS', 'EXT. HIDDEN COVE - DAWN', 'EXT. HIDDEN COVE - DUSK', 'EXT. HIDDEN COVE - NIGHT - LATER', 'EXT. NORTH SEA/VILLAGE - NIGHT', 'EXT. OPEN SEA/DRAGON ISLAND - DAY', 'EXT. SKY - MOMENTS LATER', 'EXT. SKY/FIELD - DAWN', \"EXT. STOICK'S HOUSE\", 'EXT. TRAINING GROUNDS - AFTERNOON', 'EXT. TRAINING GROUNDS - CONTINUOUS', 'EXT. TRAINING GROUNDS - DAY', 'EXT. TRAINING GROUNDS - LATER', 'EXT. TRAINING GROUNDS - MORNING', 'EXT. TRAINING GROUNDS - RING - DAY', 'EXT. VILLAGE - CATAPULT - CONTINUOUS', 'EXT. VILLAGE - CONTINUOUS', 'EXT. VILLAGE - LOWER PLAINS - CONTINUOUS', 'EXT. VILLAGE - MOMENTS LATER', 'EXT. VILLAGE - NIGHT', 'EXT. VILLAGE - UPPER PLAZA - CONTINUOUS', 'EXT. WOODS - AFTERNOON', 'EXT. WOODS - DAY', 'EXT. WOODS - MOMENTS LATER', 'EXT. WOODS/COVE - SUNSET', 'EXT. WOODS/HIDDEN COVE - DUSK', 'FADE TO WHITE', 'FISHLEGS', 'GOBBER', 'HICCUP', 'HICCUP STOICK', 'HICCUP.', 'HOARK', 'IN THE AIR', 'IN THE PLAZA', 'IN THE STALL', 'INT. BLACKSMITH STALL - CONTINUOUS', \"INT. BLACKSMITH STALL - HICCUP'S CLOSET - CONTINUOUS\", \"INT. BLACKSMITH STALL - HICCUP'S CLOSET - NIGHT\", 'INT. BLAKCSMITH STALL - LATER', 'INT. GREAT HALL - DAY', 'INT. GREAT HALL - LATE NIGHT', 'INT. MEADE HALL - CONTINUOUS', \"INT. STOICK'S HOUSE - CONTINUOUS\", \"INT. STOICK'S HOUSE - DAY\", 'LAUGHTER AND APPLAUSE', 'MATCH CUT TO:', 'ON HICCUP', 'ON HICCUP AND ASTRID', \"ON HICCUP'S FACE\", 'ON SNOTLOUT AND FISHLEGS', 'ON SNOTLOUT AND TUFFNUT', 'ON THE BARE FLOOR', 'ON THE GROUND', 'ON THE PLAIN ABOVE', 'ON THE PLAIN BELOW', 'ON THE TEENS', 'PHLEGMA THE FIERCE', 'REPAIR VIKINGS--', 'RUFFNUT', 'SEE YOU--', 'SIGH.', 'SNOTLOUT', 'SPITELOUT', 'STOICK', 'STOICK HICCUP', 'TEENS', 'TOWER.', 'TUFFNUT', 'TUFFNUT RUFFNUT', 'UNDERWATER', 'VIKING', 'VIKING #1', 'VIKING #2', 'VIKING #3', 'VIKING #4', 'VIKING #5', 'VIKING #6', 'VIKING #7', 'VIKING IN CROWD', 'VIKINGS', 'WITH DRAGONS.']"
      ]
     },
     "execution_count": 23,
     "metadata": {},
     "output_type": "execute_result"
    }
   ],
   "source": [
    "sorted(set(all_caps))"
   ]
  },
  {
   "cell_type": "code",
   "execution_count": 24,
   "metadata": {},
   "outputs": [],
   "source": [
    "chars = [\"ASTRID\", 'BURNTHAIR', 'CATAPULT OPERATOR', 'FISHLEGS', 'GOBBER', 'HICCUP', 'HICCUP STOICK', 'HOARK', \n",
    "        'PHLEGMA THE FIERCE', 'RUFFNUT', 'SNOTLOUT', 'SPITELOUT', 'STOICK', 'STOICK HICCUP', 'TEENS', 'TUFFNUT',\n",
    "         'TUFFNUT RUFFNUT',\n",
    "        'VIKING', 'VIKING #1', 'VIKING #2', 'VIKING #3', 'VIKING #4', 'VIKING #5', \"VIKING #6\", \"VIKING #7\",\n",
    "         'VIKING IN CROWD', 'VIKINGS']"
   ]
  },
  {
   "cell_type": "code",
   "execution_count": 25,
   "metadata": {},
   "outputs": [],
   "source": [
    "httyd_script_marked = re.sub(r\"\\n\\n {10,}(\\b[A-Z]['A-Z0-9#:\\-\\./ ]{1,})+\\n\\n\", r\"_NEWLINE_\\1_\", httyd_script)"
   ]
  },
  {
   "cell_type": "code",
   "execution_count": 26,
   "metadata": {},
   "outputs": [
    {
     "data": {
      "text/plain": [
       "\"_NEWLINE_EXT. NORTH SEA/VILLAGE - NIGHT_          We skim above a dark, wild ocean. The camera turns toward a\\n\\n          lone island, Berk. It is a gigantic shard of rock jutting\\n\\n          straight out of the water._NEWLINE_HICCUP_          This, is Berk. It's twelve days\\n\\n          North of hopeless, and a few\\n\\n          degrees South of freezing to death.\\n\\n          It's located solidly on the\\n\\n          meridian of misery.\\n\\n          The camera drifts over rolling hills to reveal a small\\n\\n  \""
      ]
     },
     "execution_count": 26,
     "metadata": {},
     "output_type": "execute_result"
    }
   ],
   "source": [
    "httyd_script_marked[:500]"
   ]
  },
  {
   "cell_type": "code",
   "execution_count": 27,
   "metadata": {},
   "outputs": [],
   "source": [
    "httyd_script_split = httyd_script_marked.split(\"_NEWLINE_\")"
   ]
  },
  {
   "cell_type": "markdown",
   "metadata": {},
   "source": [
    "a quick attempt here to see if there was an easier way to filter out scene descriptors."
   ]
  },
  {
   "cell_type": "code",
   "execution_count": 28,
   "metadata": {},
   "outputs": [
    {
     "data": {
      "text/plain": [
       "['\\n\\n          The camera drifts over rolling hills to reveal a small', '\\n\\n          The camera drifts closer, circling._NEWLINE_HICCUP_          We have fishing, hunting, and a']"
      ]
     },
     "execution_count": 28,
     "metadata": {},
     "output_type": "execute_result"
    }
   ],
   "source": [
    "re.findall(r\"\\n\\n.*camera.*\", httyd_script_marked)"
   ]
  },
  {
   "cell_type": "code",
   "execution_count": 29,
   "metadata": {},
   "outputs": [
    {
     "data": {
      "text/plain": [
       "['\\n\\n          safety. Stoick follows up the rear as, overhead, a dragon', '\\n\\n          Suddenly, a LOUD BALLISTIC MOANING streaks overhead. The', '\\n\\n          overhead to see a steaming pit in the solid stone wall._NEWLINE_EXT. WOODS/HIDDEN COVE - DUSK_          HICCUP, battered after another disastrous day in the ring. He', \"\\n\\n          works by candlelight. An overhead shot reveals what he's\"]"
      ]
     },
     "execution_count": 29,
     "metadata": {},
     "output_type": "execute_result"
    }
   ],
   "source": [
    "re.findall(r\"\\n\\n.*overhead.*\", httyd_script_marked)"
   ]
  },
  {
   "cell_type": "code",
   "execution_count": 30,
   "metadata": {},
   "outputs": [
    {
     "data": {
      "text/plain": [
       "['\\n\\n          Toothless runs off as Hiccup chases him down._NEWLINE_HICCUP_          Hey!_NEWLINE_EXT. COVE - DAY_          Toothless and Hiccup are zooming over the ocean. The tail']"
      ]
     },
     "execution_count": 30,
     "metadata": {},
     "output_type": "execute_result"
    }
   ],
   "source": [
    "re.findall(r\"\\n\\n.*zoom.*\", httyd_script_marked)"
   ]
  },
  {
   "cell_type": "code",
   "execution_count": 31,
   "metadata": {},
   "outputs": [
    {
     "data": {
      "text/plain": [
       "840"
      ]
     },
     "execution_count": 31,
     "metadata": {},
     "output_type": "execute_result"
    }
   ],
   "source": [
    "len(httyd_script_split)"
   ]
  },
  {
   "cell_type": "code",
   "execution_count": 32,
   "metadata": {},
   "outputs": [
    {
     "data": {
      "text/plain": [
       "['', 'EXT. NORTH SEA/VILLAGE - NIGHT_          We skim above a dark, wild ocean. The camera turns toward a\\n\\n          lone island, Berk. It is a gigantic shard of rock jutting\\n\\n          straight out of the water.', \"HICCUP_          This, is Berk. It's twelve days\\n\\n          North of hopeless, and a few\\n\\n          degrees South of freezing to death.\\n\\n          It's located solidly on the\\n\\n          meridian of misery.\\n\\n          The camera drifts over rolling hills to reveal a small\\n\\n          village nestled on an outcropping of sea mounts.\", \"HICCUP_          My village. In a word, sturdy.\\n\\n          And it's been here for seven\\n\\n          generations, but every single\\n\\n          building is new.\\n\\n          The camera drifts closer, circling.\", 'HICCUP_          We have fishing, hunting, and a\\n\\n          charming view of the sunsets. The\\n\\n          only problems are the pests. You\\n\\n          see, most places have mice or\\n\\n          mosquitos. We have...\\n\\n          Sheep graze peacefully on a hillside. Suddenly one is\\n\\n          snatched.', \"CUT TO:_          INT. STOICK'S HOUSE - CONTINUOUS\\n\\n          A door is pulled open... as a DRAGON swoops directly toward\\n\\n          it, BLASTING FIRE. The door is SLAMMED. The fire shoots\\n\\n          through the slats of wood, illuminating HICCUP, a gangly\\n\\n          teenage Viking.\", 'HICCUP_          ...dragons.', \"EXT. STOICK'S HOUSE_          He reopens the sizzling door, as leaps off of the front\\n\\n          porch. He weaves through the erupting mayhem as Vikings pour\\n\\n          out of the buildings, ready for a fight.\\n\\n          More dragons swarm in, setting rooftops alight and hauling\\n\\n          off sheep.\", \"HICCUP_          Most people would leave. Not us.\\n\\n          We're Vikings. We have stubbornness\\n\\n          issues.\\n\\n          Vikings sound the alarm. Viking men and women pour out into\\n\\n          the streets, axes in hand.\\n\\n          ON HICCUP darting through alleys, staying under eaves, making\\n\\n          his way through the battle.\", \"HICCUP_          My name's Hiccup. Great name, I\\n\\n          know. But it's not the worst.\\n\\n          Parents believe a hideous name will\\n\\n          frighten off gnomes and trolls.\\n\\n          Like our charming Viking demeanor\\n\\n          wouldn't do that.\\n\\n          Dragons sweep back and forth, dodging axes and blasting the\\n\\n          Vikings who throw them. A burly warrior gets tossed in an\\n\\n          explosion, knocking Hiccup to the ground.\"]"
      ]
     },
     "execution_count": 32,
     "metadata": {},
     "output_type": "execute_result"
    }
   ],
   "source": [
    "httyd_script_split[:10]"
   ]
  },
  {
   "cell_type": "code",
   "execution_count": 33,
   "metadata": {},
   "outputs": [],
   "source": [
    "httyd_script_split = httyd_script_split[1:]"
   ]
  },
  {
   "cell_type": "code",
   "execution_count": 34,
   "metadata": {},
   "outputs": [
    {
     "data": {
      "text/plain": [
       "['EXT. NORTH SEA/VILLAGE - NIGHT_          We skim above a dark, wild ocean. The camera turns toward a\\n\\n          lone island, Berk. It is a gigantic shard of rock jutting\\n\\n          straight out of the water.', \"HICCUP_          This, is Berk. It's twelve days\\n\\n          North of hopeless, and a few\\n\\n          degrees South of freezing to death.\\n\\n          It's located solidly on the\\n\\n          meridian of misery.\\n\\n          The camera drifts over rolling hills to reveal a small\\n\\n          village nestled on an outcropping of sea mounts.\", \"HICCUP_          My village. In a word, sturdy.\\n\\n          And it's been here for seven\\n\\n          generations, but every single\\n\\n          building is new.\\n\\n          The camera drifts closer, circling.\", 'HICCUP_          We have fishing, hunting, and a\\n\\n          charming view of the sunsets. The\\n\\n          only problems are the pests. You\\n\\n          see, most places have mice or\\n\\n          mosquitos. We have...\\n\\n          Sheep graze peacefully on a hillside. Suddenly one is\\n\\n          snatched.', \"CUT TO:_          INT. STOICK'S HOUSE - CONTINUOUS\\n\\n          A door is pulled open... as a DRAGON swoops directly toward\\n\\n          it, BLASTING FIRE. The door is SLAMMED. The fire shoots\\n\\n          through the slats of wood, illuminating HICCUP, a gangly\\n\\n          teenage Viking.\", 'HICCUP_          ...dragons.', \"EXT. STOICK'S HOUSE_          He reopens the sizzling door, as leaps off of the front\\n\\n          porch. He weaves through the erupting mayhem as Vikings pour\\n\\n          out of the buildings, ready for a fight.\\n\\n          More dragons swarm in, setting rooftops alight and hauling\\n\\n          off sheep.\", \"HICCUP_          Most people would leave. Not us.\\n\\n          We're Vikings. We have stubbornness\\n\\n          issues.\\n\\n          Vikings sound the alarm. Viking men and women pour out into\\n\\n          the streets, axes in hand.\\n\\n          ON HICCUP darting through alleys, staying under eaves, making\\n\\n          his way through the battle.\", \"HICCUP_          My name's Hiccup. Great name, I\\n\\n          know. But it's not the worst.\\n\\n          Parents believe a hideous name will\\n\\n          frighten off gnomes and trolls.\\n\\n          Like our charming Viking demeanor\\n\\n          wouldn't do that.\\n\\n          Dragons sweep back and forth, dodging axes and blasting the\\n\\n          Vikings who throw them. A burly warrior gets tossed in an\\n\\n          explosion, knocking Hiccup to the ground.\", \"VIKING_\\n\\n          Arggghhhhh!\\n\\n\\n\\n          Mornin'!\\n\\n          Hiccup gets to his feet and continues to rush past gigantic\\n\\n          men and women.\"]"
      ]
     },
     "execution_count": 34,
     "metadata": {},
     "output_type": "execute_result"
    }
   ],
   "source": [
    "httyd_script_split[:10]"
   ]
  },
  {
   "cell_type": "code",
   "execution_count": 35,
   "metadata": {},
   "outputs": [],
   "source": [
    "real_lines = []\n",
    "for line in httyd_script_split:\n",
    "    for character in chars:\n",
    "        if line.startswith(character):\n",
    "            real_lines.append(line)"
   ]
  },
  {
   "cell_type": "code",
   "execution_count": 36,
   "metadata": {},
   "outputs": [
    {
     "data": {
      "text/plain": [
       "748"
      ]
     },
     "execution_count": 36,
     "metadata": {},
     "output_type": "execute_result"
    }
   ],
   "source": [
    "len(real_lines) #no _"
   ]
  },
  {
   "cell_type": "code",
   "execution_count": 37,
   "metadata": {},
   "outputs": [],
   "source": [
    "speaker_text = []\n",
    "for line in real_lines:\n",
    "    line = re.sub(r\"\\n+ {10}\", ' ', line)\n",
    "    tup = line.split(\"_\")\n",
    "    tup[0] = tup[0].strip().lower()\n",
    "    tup[1] = tup[1].strip().lower()\n",
    "    speaker_text.append(tuple(tup))"
   ]
  },
  {
   "cell_type": "code",
   "execution_count": 38,
   "metadata": {},
   "outputs": [
    {
     "data": {
      "text/plain": [
       "748"
      ]
     },
     "execution_count": 38,
     "metadata": {},
     "output_type": "execute_result"
    }
   ],
   "source": [
    "len(speaker_text)"
   ]
  },
  {
   "cell_type": "code",
   "execution_count": 39,
   "metadata": {},
   "outputs": [
    {
     "data": {
      "text/plain": [
       "[('hiccup', \"this, is berk. it's twelve days north of hopeless, and a few degrees south of freezing to death. it's located solidly on the meridian of misery. the camera drifts over rolling hills to reveal a small village nestled on an outcropping of sea mounts.\"), ('hiccup', \"my village. in a word, sturdy. and it's been here for seven generations, but every single building is new. the camera drifts closer, circling.\"), ('hiccup', 'we have fishing, hunting, and a charming view of the sunsets. the only problems are the pests. you see, most places have mice or mosquitos. we have... sheep graze peacefully on a hillside. suddenly one is snatched.'), ('hiccup', '...dragons.'), ('hiccup', \"most people would leave. not us. we're vikings. we have stubbornness issues. vikings sound the alarm. viking men and women pour out into the streets, axes in hand. on hiccup darting through alleys, staying under eaves, making his way through the battle.\"), ('hiccup', \"my name's hiccup. great name, i know. but it's not the worst. parents believe a hideous name will frighten off gnomes and trolls. like our charming viking demeanor wouldn't do that. dragons sweep back and forth, dodging axes and blasting the vikings who throw them. a burly warrior gets tossed in an explosion, knocking hiccup to the ground.\"), ('viking', \"arggghhhhh! mornin'! hiccup gets to his feet and continues to rush past gigantic men and women.\"), ('hiccup', 'meet the neighbors. hoark the haggard...'), ('hoark', 'what are you doing out!?'), ('hiccup', '... burnthair the broad...')]"
      ]
     },
     "execution_count": 39,
     "metadata": {},
     "output_type": "execute_result"
    }
   ],
   "source": [
    "speaker_text[:10]"
   ]
  },
  {
   "cell_type": "code",
   "execution_count": 40,
   "metadata": {},
   "outputs": [],
   "source": [
    "httyd = pandas.DataFrame(speaker_text, columns=[\"Speaker\", \"Text\"])"
   ]
  },
  {
   "cell_type": "code",
   "execution_count": 41,
   "metadata": {},
   "outputs": [
    {
     "data": {
      "text/plain": [
       "748"
      ]
     },
     "execution_count": 41,
     "metadata": {},
     "output_type": "execute_result"
    }
   ],
   "source": [
    "len(httyd)"
   ]
  },
  {
   "cell_type": "code",
   "execution_count": 42,
   "metadata": {},
   "outputs": [
    {
     "data": {
      "text/html": [
       "<div>\n",
       "<style scoped>\n",
       "    .dataframe tbody tr th:only-of-type {\n",
       "        vertical-align: middle;\n",
       "    }\n",
       "\n",
       "    .dataframe tbody tr th {\n",
       "        vertical-align: top;\n",
       "    }\n",
       "\n",
       "    .dataframe thead th {\n",
       "        text-align: right;\n",
       "    }\n",
       "</style>\n",
       "<table border=\"1\" class=\"dataframe\">\n",
       "  <thead>\n",
       "    <tr style=\"text-align: right;\">\n",
       "      <th></th>\n",
       "      <th>Speaker</th>\n",
       "      <th>Text</th>\n",
       "    </tr>\n",
       "  </thead>\n",
       "  <tbody>\n",
       "    <tr>\n",
       "      <th>0</th>\n",
       "      <td>hiccup</td>\n",
       "      <td>this, is berk. it's twelve days north of hopel...</td>\n",
       "    </tr>\n",
       "    <tr>\n",
       "      <th>1</th>\n",
       "      <td>hiccup</td>\n",
       "      <td>my village. in a word, sturdy. and it's been h...</td>\n",
       "    </tr>\n",
       "    <tr>\n",
       "      <th>2</th>\n",
       "      <td>hiccup</td>\n",
       "      <td>we have fishing, hunting, and a charming view ...</td>\n",
       "    </tr>\n",
       "    <tr>\n",
       "      <th>3</th>\n",
       "      <td>hiccup</td>\n",
       "      <td>...dragons.</td>\n",
       "    </tr>\n",
       "    <tr>\n",
       "      <th>4</th>\n",
       "      <td>hiccup</td>\n",
       "      <td>most people would leave. not us. we're vikings...</td>\n",
       "    </tr>\n",
       "  </tbody>\n",
       "</table>\n",
       "</div>"
      ],
      "text/plain": [
       "  Speaker                                               Text\n",
       "0  hiccup  this, is berk. it's twelve days north of hopel...\n",
       "1  hiccup  my village. in a word, sturdy. and it's been h...\n",
       "2  hiccup  we have fishing, hunting, and a charming view ...\n",
       "3  hiccup                                        ...dragons.\n",
       "4  hiccup  most people would leave. not us. we're vikings..."
      ]
     },
     "execution_count": 42,
     "metadata": {},
     "output_type": "execute_result"
    }
   ],
   "source": [
    "httyd.head()"
   ]
  },
  {
   "cell_type": "code",
   "execution_count": 43,
   "metadata": {},
   "outputs": [
    {
     "data": {
      "text/html": [
       "<div>\n",
       "<style scoped>\n",
       "    .dataframe tbody tr th:only-of-type {\n",
       "        vertical-align: middle;\n",
       "    }\n",
       "\n",
       "    .dataframe tbody tr th {\n",
       "        vertical-align: top;\n",
       "    }\n",
       "\n",
       "    .dataframe thead th {\n",
       "        text-align: right;\n",
       "    }\n",
       "</style>\n",
       "<table border=\"1\" class=\"dataframe\">\n",
       "  <thead>\n",
       "    <tr style=\"text-align: right;\">\n",
       "      <th></th>\n",
       "      <th>Speaker</th>\n",
       "      <th>Text</th>\n",
       "    </tr>\n",
       "  </thead>\n",
       "  <tbody>\n",
       "    <tr>\n",
       "      <th>743</th>\n",
       "      <td>hiccup</td>\n",
       "      <td>you ready? toothless snorts an excited 'yes!' ...</td>\n",
       "    </tr>\n",
       "    <tr>\n",
       "      <th>744</th>\n",
       "      <td>hiccup</td>\n",
       "      <td>this... is berk. it snows nine months of the y...</td>\n",
       "    </tr>\n",
       "    <tr>\n",
       "      <th>745</th>\n",
       "      <td>hiccup</td>\n",
       "      <td>any food that grows here is tough and tasteles...</td>\n",
       "    </tr>\n",
       "    <tr>\n",
       "      <th>746</th>\n",
       "      <td>hiccup</td>\n",
       "      <td>the only upsides are the pets. while other pla...</td>\n",
       "    </tr>\n",
       "    <tr>\n",
       "      <th>747</th>\n",
       "      <td>hiccup</td>\n",
       "      <td>... dragons.</td>\n",
       "    </tr>\n",
       "  </tbody>\n",
       "</table>\n",
       "</div>"
      ],
      "text/plain": [
       "    Speaker                                               Text\n",
       "743  hiccup  you ready? toothless snorts an excited 'yes!' ...\n",
       "744  hiccup  this... is berk. it snows nine months of the y...\n",
       "745  hiccup  any food that grows here is tough and tasteles...\n",
       "746  hiccup  the only upsides are the pets. while other pla...\n",
       "747  hiccup                                       ... dragons."
      ]
     },
     "execution_count": 43,
     "metadata": {},
     "output_type": "execute_result"
    }
   ],
   "source": [
    "httyd.tail()"
   ]
  },
  {
   "cell_type": "code",
   "execution_count": 44,
   "metadata": {},
   "outputs": [
    {
     "data": {
      "text/plain": [
       "['astrid', 'burnthair', 'catapult operator', 'fishlegs', 'gobber', 'hiccup', 'hiccup stoick', 'hiccup.', 'hoark', 'phlegma the fierce', 'ruffnut', 'snotlout', 'spitelout', 'stoick', 'stoick hiccup', 'teens', 'tuffnut', 'tuffnut ruffnut', 'viking', 'viking #1', 'viking #2', 'viking #3', 'viking #4', 'viking #5', 'viking #6', 'viking #7', 'viking in crowd', 'vikings']"
      ]
     },
     "execution_count": 44,
     "metadata": {},
     "output_type": "execute_result"
    }
   ],
   "source": [
    "sorted(httyd.Speaker.unique())"
   ]
  },
  {
   "cell_type": "code",
   "execution_count": 45,
   "metadata": {},
   "outputs": [],
   "source": [
    "#need to replace that hiccup. with hiccup\n",
    "#need to manually take out non-lines"
   ]
  },
  {
   "cell_type": "markdown",
   "metadata": {},
   "source": [
    "With no good way to automatically filter out non-lines, I think the best thing to do is create a csv, manually edit it, and then create a pickle file of the final result"
   ]
  },
  {
   "cell_type": "code",
   "execution_count": 47,
   "metadata": {},
   "outputs": [],
   "source": [
    "httyd.to_csv(r\"C:\\Users\\cassi\\Desktop\\Data_Science\\Animated-Movie-Gendered-Dialogue\\private\\httyd_lines.csv\")"
   ]
  },
  {
   "cell_type": "code",
   "execution_count": 55,
   "metadata": {},
   "outputs": [
    {
     "ename": "UnicodeDecodeError",
     "evalue": "'utf-8' codec can't decode byte 0x85 in position 147: invalid start byte",
     "output_type": "error",
     "traceback": [
      "\u001b[1;31m---------------------------------------------------------------------------\u001b[0m",
      "\u001b[1;31mUnicodeDecodeError\u001b[0m                        Traceback (most recent call last)",
      "\u001b[1;32mpandas\\_libs\\parsers.pyx\u001b[0m in \u001b[0;36mpandas._libs.parsers.TextReader._convert_tokens\u001b[1;34m()\u001b[0m\n",
      "\u001b[1;32mpandas\\_libs\\parsers.pyx\u001b[0m in \u001b[0;36mpandas._libs.parsers.TextReader._convert_with_dtype\u001b[1;34m()\u001b[0m\n",
      "\u001b[1;32mpandas\\_libs\\parsers.pyx\u001b[0m in \u001b[0;36mpandas._libs.parsers.TextReader._string_convert\u001b[1;34m()\u001b[0m\n",
      "\u001b[1;32mpandas\\_libs\\parsers.pyx\u001b[0m in \u001b[0;36mpandas._libs.parsers._string_box_utf8\u001b[1;34m()\u001b[0m\n",
      "\u001b[1;31mUnicodeDecodeError\u001b[0m: 'utf-8' codec can't decode byte 0x85 in position 147: invalid start byte",
      "\nDuring handling of the above exception, another exception occurred:\n",
      "\u001b[1;31mUnicodeDecodeError\u001b[0m                        Traceback (most recent call last)",
      "\u001b[1;32m<ipython-input-55-a18a3451be98>\u001b[0m in \u001b[0;36m<module>\u001b[1;34m\u001b[0m\n\u001b[1;32m----> 1\u001b[1;33m \u001b[0mhttyd_updates\u001b[0m \u001b[1;33m=\u001b[0m \u001b[0mpandas\u001b[0m\u001b[1;33m.\u001b[0m\u001b[0mread_csv\u001b[0m\u001b[1;33m(\u001b[0m\u001b[1;34mr\"C:\\Users\\cassi\\Desktop\\Data_Science\\Animated-Movie-Gendered-Dialogue\\private\\httyd_lines_updated.csv\"\u001b[0m\u001b[1;33m)\u001b[0m\u001b[1;33m\u001b[0m\u001b[0m\n\u001b[0m",
      "\u001b[1;32mc:\\users\\cassi\\appdata\\local\\programs\\python\\python36-32\\lib\\site-packages\\pandas\\io\\parsers.py\u001b[0m in \u001b[0;36mparser_f\u001b[1;34m(filepath_or_buffer, sep, delimiter, header, names, index_col, usecols, squeeze, prefix, mangle_dupe_cols, dtype, engine, converters, true_values, false_values, skipinitialspace, skiprows, nrows, na_values, keep_default_na, na_filter, verbose, skip_blank_lines, parse_dates, infer_datetime_format, keep_date_col, date_parser, dayfirst, iterator, chunksize, compression, thousands, decimal, lineterminator, quotechar, quoting, escapechar, comment, encoding, dialect, tupleize_cols, error_bad_lines, warn_bad_lines, skipfooter, doublequote, delim_whitespace, low_memory, memory_map, float_precision)\u001b[0m\n\u001b[0;32m    676\u001b[0m                     skip_blank_lines=skip_blank_lines)\n\u001b[0;32m    677\u001b[0m \u001b[1;33m\u001b[0m\u001b[0m\n\u001b[1;32m--> 678\u001b[1;33m         \u001b[1;32mreturn\u001b[0m \u001b[0m_read\u001b[0m\u001b[1;33m(\u001b[0m\u001b[0mfilepath_or_buffer\u001b[0m\u001b[1;33m,\u001b[0m \u001b[0mkwds\u001b[0m\u001b[1;33m)\u001b[0m\u001b[1;33m\u001b[0m\u001b[0m\n\u001b[0m\u001b[0;32m    679\u001b[0m \u001b[1;33m\u001b[0m\u001b[0m\n\u001b[0;32m    680\u001b[0m     \u001b[0mparser_f\u001b[0m\u001b[1;33m.\u001b[0m\u001b[0m__name__\u001b[0m \u001b[1;33m=\u001b[0m \u001b[0mname\u001b[0m\u001b[1;33m\u001b[0m\u001b[0m\n",
      "\u001b[1;32mc:\\users\\cassi\\appdata\\local\\programs\\python\\python36-32\\lib\\site-packages\\pandas\\io\\parsers.py\u001b[0m in \u001b[0;36m_read\u001b[1;34m(filepath_or_buffer, kwds)\u001b[0m\n\u001b[0;32m    444\u001b[0m \u001b[1;33m\u001b[0m\u001b[0m\n\u001b[0;32m    445\u001b[0m     \u001b[1;32mtry\u001b[0m\u001b[1;33m:\u001b[0m\u001b[1;33m\u001b[0m\u001b[0m\n\u001b[1;32m--> 446\u001b[1;33m         \u001b[0mdata\u001b[0m \u001b[1;33m=\u001b[0m \u001b[0mparser\u001b[0m\u001b[1;33m.\u001b[0m\u001b[0mread\u001b[0m\u001b[1;33m(\u001b[0m\u001b[0mnrows\u001b[0m\u001b[1;33m)\u001b[0m\u001b[1;33m\u001b[0m\u001b[0m\n\u001b[0m\u001b[0;32m    447\u001b[0m     \u001b[1;32mfinally\u001b[0m\u001b[1;33m:\u001b[0m\u001b[1;33m\u001b[0m\u001b[0m\n\u001b[0;32m    448\u001b[0m         \u001b[0mparser\u001b[0m\u001b[1;33m.\u001b[0m\u001b[0mclose\u001b[0m\u001b[1;33m(\u001b[0m\u001b[1;33m)\u001b[0m\u001b[1;33m\u001b[0m\u001b[0m\n",
      "\u001b[1;32mc:\\users\\cassi\\appdata\\local\\programs\\python\\python36-32\\lib\\site-packages\\pandas\\io\\parsers.py\u001b[0m in \u001b[0;36mread\u001b[1;34m(self, nrows)\u001b[0m\n\u001b[0;32m   1034\u001b[0m                 \u001b[1;32mraise\u001b[0m \u001b[0mValueError\u001b[0m\u001b[1;33m(\u001b[0m\u001b[1;34m'skipfooter not supported for iteration'\u001b[0m\u001b[1;33m)\u001b[0m\u001b[1;33m\u001b[0m\u001b[0m\n\u001b[0;32m   1035\u001b[0m \u001b[1;33m\u001b[0m\u001b[0m\n\u001b[1;32m-> 1036\u001b[1;33m         \u001b[0mret\u001b[0m \u001b[1;33m=\u001b[0m \u001b[0mself\u001b[0m\u001b[1;33m.\u001b[0m\u001b[0m_engine\u001b[0m\u001b[1;33m.\u001b[0m\u001b[0mread\u001b[0m\u001b[1;33m(\u001b[0m\u001b[0mnrows\u001b[0m\u001b[1;33m)\u001b[0m\u001b[1;33m\u001b[0m\u001b[0m\n\u001b[0m\u001b[0;32m   1037\u001b[0m \u001b[1;33m\u001b[0m\u001b[0m\n\u001b[0;32m   1038\u001b[0m         \u001b[1;31m# May alter columns / col_dict\u001b[0m\u001b[1;33m\u001b[0m\u001b[1;33m\u001b[0m\u001b[0m\n",
      "\u001b[1;32mc:\\users\\cassi\\appdata\\local\\programs\\python\\python36-32\\lib\\site-packages\\pandas\\io\\parsers.py\u001b[0m in \u001b[0;36mread\u001b[1;34m(self, nrows)\u001b[0m\n\u001b[0;32m   1846\u001b[0m     \u001b[1;32mdef\u001b[0m \u001b[0mread\u001b[0m\u001b[1;33m(\u001b[0m\u001b[0mself\u001b[0m\u001b[1;33m,\u001b[0m \u001b[0mnrows\u001b[0m\u001b[1;33m=\u001b[0m\u001b[1;32mNone\u001b[0m\u001b[1;33m)\u001b[0m\u001b[1;33m:\u001b[0m\u001b[1;33m\u001b[0m\u001b[0m\n\u001b[0;32m   1847\u001b[0m         \u001b[1;32mtry\u001b[0m\u001b[1;33m:\u001b[0m\u001b[1;33m\u001b[0m\u001b[0m\n\u001b[1;32m-> 1848\u001b[1;33m             \u001b[0mdata\u001b[0m \u001b[1;33m=\u001b[0m \u001b[0mself\u001b[0m\u001b[1;33m.\u001b[0m\u001b[0m_reader\u001b[0m\u001b[1;33m.\u001b[0m\u001b[0mread\u001b[0m\u001b[1;33m(\u001b[0m\u001b[0mnrows\u001b[0m\u001b[1;33m)\u001b[0m\u001b[1;33m\u001b[0m\u001b[0m\n\u001b[0m\u001b[0;32m   1849\u001b[0m         \u001b[1;32mexcept\u001b[0m \u001b[0mStopIteration\u001b[0m\u001b[1;33m:\u001b[0m\u001b[1;33m\u001b[0m\u001b[0m\n\u001b[0;32m   1850\u001b[0m             \u001b[1;32mif\u001b[0m \u001b[0mself\u001b[0m\u001b[1;33m.\u001b[0m\u001b[0m_first_chunk\u001b[0m\u001b[1;33m:\u001b[0m\u001b[1;33m\u001b[0m\u001b[0m\n",
      "\u001b[1;32mpandas\\_libs\\parsers.pyx\u001b[0m in \u001b[0;36mpandas._libs.parsers.TextReader.read\u001b[1;34m()\u001b[0m\n",
      "\u001b[1;32mpandas\\_libs\\parsers.pyx\u001b[0m in \u001b[0;36mpandas._libs.parsers.TextReader._read_low_memory\u001b[1;34m()\u001b[0m\n",
      "\u001b[1;32mpandas\\_libs\\parsers.pyx\u001b[0m in \u001b[0;36mpandas._libs.parsers.TextReader._read_rows\u001b[1;34m()\u001b[0m\n",
      "\u001b[1;32mpandas\\_libs\\parsers.pyx\u001b[0m in \u001b[0;36mpandas._libs.parsers.TextReader._convert_column_data\u001b[1;34m()\u001b[0m\n",
      "\u001b[1;32mpandas\\_libs\\parsers.pyx\u001b[0m in \u001b[0;36mpandas._libs.parsers.TextReader._convert_tokens\u001b[1;34m()\u001b[0m\n",
      "\u001b[1;32mpandas\\_libs\\parsers.pyx\u001b[0m in \u001b[0;36mpandas._libs.parsers.TextReader._convert_with_dtype\u001b[1;34m()\u001b[0m\n",
      "\u001b[1;32mpandas\\_libs\\parsers.pyx\u001b[0m in \u001b[0;36mpandas._libs.parsers.TextReader._string_convert\u001b[1;34m()\u001b[0m\n",
      "\u001b[1;32mpandas\\_libs\\parsers.pyx\u001b[0m in \u001b[0;36mpandas._libs.parsers._string_box_utf8\u001b[1;34m()\u001b[0m\n",
      "\u001b[1;31mUnicodeDecodeError\u001b[0m: 'utf-8' codec can't decode byte 0x85 in position 147: invalid start byte"
     ]
    }
   ],
   "source": [
    "httyd_updates = pandas.read_csv(r\"C:\\Users\\cassi\\Desktop\\Data_Science\\Animated-Movie-Gendered-Dialogue\\private\\httyd_lines_updated.csv\")"
   ]
  },
  {
   "cell_type": "code",
   "execution_count": null,
   "metadata": {},
   "outputs": [],
   "source": []
  }
 ],
 "metadata": {
  "kernelspec": {
   "display_name": "Python 3",
   "language": "python",
   "name": "python3"
  },
  "language_info": {
   "codemirror_mode": {
    "name": "ipython",
    "version": 3
   },
   "file_extension": ".py",
   "mimetype": "text/x-python",
   "name": "python",
   "nbconvert_exporter": "python",
   "pygments_lexer": "ipython3",
   "version": "3.6.4"
  }
 },
 "nbformat": 4,
 "nbformat_minor": 2
}
