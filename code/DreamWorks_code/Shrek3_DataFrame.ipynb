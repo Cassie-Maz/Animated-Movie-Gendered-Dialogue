{
 "cells": [
  {
   "cell_type": "markdown",
   "metadata": {},
   "source": [
    "# Shrek the Third DataFrame\n",
    "Recall from the [Analyzing White Space code](https://github.com/Data-Science-for-Linguists-2019/Animated-Movie-Gendered-Dialogue/blob/master/code/DreamWorks_code/Analyzing_White_Space.ipynb) that this movie only has three types of white space: 10, 11, or 26 spaces. This means it doesn't fit well into out streamline. Let's look at this case by itself."
   ]
  },
  {
   "cell_type": "code",
   "execution_count": 2,
   "metadata": {},
   "outputs": [],
   "source": [
    "shrek3 = open(r'C:\\Users\\cassi\\Desktop\\Data_Science\\Animated-Movie-Gendered-Dialogue\\private\\imsdb_raw_nov_2015\\Animation\\shrekthethird.txt')\n",
    "shrek3_script = shrek3.read()\n",
    "shrek3.close()"
   ]
  },
  {
   "cell_type": "code",
   "execution_count": 3,
   "metadata": {},
   "outputs": [],
   "source": [
    "import re"
   ]
  },
  {
   "cell_type": "code",
   "execution_count": 4,
   "metadata": {},
   "outputs": [],
   "source": [
    "import pandas as pd"
   ]
  },
  {
   "cell_type": "code",
   "execution_count": 11,
   "metadata": {},
   "outputs": [
    {
     "data": {
      "text/plain": [
       "'                                SHREK THE THIRD\\n\\n                                   Written by\\n\\n            Peter Seaman, Jeffrey Price, Chris Miller & Aron Warner\\n\\n                                               Final Screening Script\\n\\n          INT. MEDIEVAL TIMES THEATER - NIGHT\\n\\n          A familiar beam of light shines down. The beam of light\\n\\n          descends onto a stage. Lightning flashes to reveal Prince\\n\\n          Charming riding his valiant steed Chauncey across the open\\n\\n          p'"
      ]
     },
     "execution_count": 11,
     "metadata": {},
     "output_type": "execute_result"
    }
   ],
   "source": [
    "shrek3_script[:500]"
   ]
  },
  {
   "cell_type": "code",
   "execution_count": 18,
   "metadata": {},
   "outputs": [
    {
     "data": {
      "text/plain": [
       "'INT. MEDIEVAL TIMES THEATER - NIGHT\\n\\n          A famil'"
      ]
     },
     "execution_count": 18,
     "metadata": {},
     "output_type": "execute_result"
    }
   ],
   "source": [
    "shrek3_script[246:300]"
   ]
  },
  {
   "cell_type": "code",
   "execution_count": 19,
   "metadata": {},
   "outputs": [],
   "source": [
    "shrek3_script = shrek3_script[246:]"
   ]
  },
  {
   "cell_type": "code",
   "execution_count": 21,
   "metadata": {},
   "outputs": [],
   "source": [
    "def white_space_count(script_name):\n",
    "    white_space = re.findall(\" {3,}\", script_name)\n",
    "    len_w_s = [len(x) for x in white_space]\n",
    "    print(len_w_s[:100])\n",
    "    #print(len_w_s.index(25))\n",
    "    print(set(len_w_s))\n",
    "    for num in set(len_w_s):\n",
    "        print(num, \"white spaces appear\", len_w_s.count(num), \"times\")"
   ]
  },
  {
   "cell_type": "code",
   "execution_count": 22,
   "metadata": {},
   "outputs": [
    {
     "name": "stdout",
     "output_type": "stream",
     "text": [
      "[10, 10, 10, 10, 26, 11, 11, 11, 11, 10, 10, 10, 10, 10, 10, 10, 10, 10, 10, 10, 26, 11, 11, 26, 11, 10, 10, 26, 11, 10, 10, 10, 26, 11, 11, 10, 11, 26, 11, 11, 11, 10, 26, 11, 11, 10, 10, 10, 26, 11, 10, 10, 26, 26, 11, 26, 11, 10, 10, 10, 26, 11, 11, 11, 10, 26, 26, 11, 26, 11, 10, 10, 26, 11, 11, 10, 10, 10, 26, 26, 11, 10, 10, 10, 10, 10, 10, 26, 11, 11, 26, 11, 11, 10, 10, 26, 11, 10, 10, 10]\n",
      "4365\n",
      "{11, 25, 10, 26}\n",
      "11 white spaces appear 1783 times\n",
      "25 white spaces appear 1 times\n",
      "10 white spaces appear 1554 times\n",
      "26 white spaces appear 1028 times\n"
     ]
    }
   ],
   "source": [
    "white_space_count(shrek3_script)"
   ]
  },
  {
   "cell_type": "markdown",
   "metadata": {},
   "source": [
    "Hmmm, one random grouping of 25 white spaces...."
   ]
  },
  {
   "cell_type": "code",
   "execution_count": 24,
   "metadata": {},
   "outputs": [
    {
     "data": {
      "text/plain": [
       "\"INT. MEDIEVAL TIMES THEATER - NIGHT\\n\\n          A familiar beam of light shines down. The beam of light\\n\\n          descends onto a stage. Lightning flashes to reveal Prince\\n\\n          Charming riding his valiant steed Chauncey across the open\\n\\n          plains. The wind blows back his golden mane.\\n\\n                          PRINCE CHARMING\\n\\n           Onward Chauncey, to the highest\\n\\n           room of the tallest tower! Where\\n\\n           my princess awaits rescue from her\\n\\n           handsome Prince Charming.\\n\\n          Lightning cracks. Thunder booms. Charming straddles a\\n\\n          wooden hobby horse and gallops in place. A stage hand uses a\\n\\n          bellow to blow air into Prince Charming's face. Another\\n\\n          stage hand turns a crank that creates the moving background.\\n\\n          In the orchestra, a man uses coconuts to create the sound\\n\\n          effects of a galloping horse. Two more stage hands back\\n\\n          stage create the cheap sound effects of thunder and\\n\\n          lightning. A crudely constructed castle tower sits in front\\n\\n          of a cheaply painted backdrop.\\n\\n          The Fairytale Creatures are sitting at a table in the\\n\\n          audience.\\n\\n                          GINGERBREAD MAN\\n\\n           This is worse than Love Letters! I\\n\\n           hate dinner theatre.\\n\\n                          PINOCCHIO\\n\\n           Me too.\\n\\n          Pinocchio's nose grows as he is caught in the lie.\\n\\n          Prince Charming rides to the base of the tower.\\n\\n                          PRINCE CHARMING\\n\\n           Whoa there, Chauncey!\\n\\n          He dismounts and sets his hobby horse on the ground. He\\n\\n          strikes a dramatic pose.\\n\\n          A Princess leans from a tower window.\\n\\n                          ACTRESS\\n\\n           Hark! The brave Prince Charming\\n\\n           approach-ith.\\n\\n          Prince Charming puffs his chest out.\\n\\n           Shrek the Third - Final Screening Script 2.\\n\\n                          PRINCE CHARMING\\n\\n           Fear not fair mai\""
      ]
     },
     "execution_count": 24,
     "metadata": {},
     "output_type": "execute_result"
    }
   ],
   "source": [
    "shrek3_script[:2000]"
   ]
  },
  {
   "cell_type": "code",
   "execution_count": 57,
   "metadata": {},
   "outputs": [
    {
     "data": {
      "text/plain": [
       "'laughs at the embarrassed Prince Charming. He shakes\\n\\n          his mangled sword at the audience.\\n\\n                          PRINCE CHARMING\\n\\n           (shaking his sword again)\\n\\n           Someday you\\'ll be sorry.\\n\\n                          HECKLER\\n\\n           (O.S.)\\n\\n           We already are!\\n\\n          They laugh again. Prince Charming throws down his sword,\\n\\n          picks up his hobby horse and exits.\\n\\n                          OGRE\\n\\n           Grrrrrrr!\\n\\n          The song and the laughter follow Prince Charming backstage.\\n\\n          INT. BACKSTAGE DRESSING ROOM - MOMENTS LATER\\n\\n          Prince Charming walks through a tunnel backstage that leads\\n\\n          to a door. The door has a star with his name written on it.\\n\\n          He opens it.\\n\\n          EXT. MEDIEVAL TIMES RESTAURANT - CONTINUOUS\\n\\n          Prince Charming sits at his broken vanity and sobs. His make-\\n\\n          shift dressing room is in an alley way next to the theater.\\n\\n          Horses whinny as a carriage passes by. The castle of Far Far\\n\\n          Away can be seen on the hill in the background. Prince\\n\\n          Charming breaks down and cries.\\n\\n          He looks up and sees a picture of the Fairy Godmother taped\\n\\n          to the vanity. \"Don\\'t stop believing! Mommy\\'s Little Angel\"\\n\\n          is written on the picture.\\n\\n                          PRINCE CHARMING\\n\\n                          (HEAVY SOBS)\\n\\n           Oh mommy.\\n\\n          He weeps again and then looks back at the picture. A\\n\\n          determined change grows across his face.\\n\\n                          PRINCE CHARMING\\n\\n           Oh, you\\'re right. I can\\'t let this\\n\\n           happen. I can\\'t.\\n\\n          Prince Charming looks at the castle on the hill. His\\n\\n          expression hardens. He stands and faces the castle. He\\n\\n          holds his chin up high.\\n\\n                          PRINCE CHARMING\\n\\n           I am the rightful King of Far Far\\n\\n           Away and I promise you this mother.\\n\\n           I will restore dignity to'"
      ]
     },
     "execution_count": 57,
     "metadata": {},
     "output_type": "execute_result"
    }
   ],
   "source": [
    "shrek3_script[4000:6000]"
   ]
  },
  {
   "cell_type": "code",
   "execution_count": 25,
   "metadata": {},
   "outputs": [],
   "source": [
    "#10 after scene header\n",
    "#10 between scene header descriptions\n",
    "#26 before prince charming\n",
    "#11 between all his lines\n",
    "#10 after his last line and new scene description begins\n",
    "#11 before those pesky final screening script lines"
   ]
  },
  {
   "cell_type": "code",
   "execution_count": 26,
   "metadata": {},
   "outputs": [],
   "source": [
    "#removing those final screening script lines"
   ]
  },
  {
   "cell_type": "code",
   "execution_count": 35,
   "metadata": {},
   "outputs": [],
   "source": [
    "titles = re.findall(r\"\\n\\n {1,}Shrek the Third - Final Screening Script [0-9]+\\.\", shrek3_script)"
   ]
  },
  {
   "cell_type": "code",
   "execution_count": 36,
   "metadata": {},
   "outputs": [
    {
     "data": {
      "text/plain": [
       "117"
      ]
     },
     "execution_count": 36,
     "metadata": {},
     "output_type": "execute_result"
    }
   ],
   "source": [
    "len(titles)"
   ]
  },
  {
   "cell_type": "code",
   "execution_count": 37,
   "metadata": {},
   "outputs": [],
   "source": [
    "shrek3_script = re.sub(r\"\\n\\n {1,}Shrek the Third - Final Screening Script [0-9]+\\.\", '', shrek3_script)"
   ]
  },
  {
   "cell_type": "code",
   "execution_count": 38,
   "metadata": {},
   "outputs": [
    {
     "name": "stdout",
     "output_type": "stream",
     "text": [
      "[10, 10, 10, 10, 26, 11, 11, 11, 11, 10, 10, 10, 10, 10, 10, 10, 10, 10, 10, 10, 26, 11, 11, 26, 11, 10, 10, 26, 11, 10, 10, 10, 26, 11, 11, 10, 26, 11, 11, 11, 10, 26, 11, 11, 10, 10, 10, 26, 11, 10, 10, 26, 26, 11, 26, 11, 10, 10, 10, 26, 11, 11, 11, 10, 26, 26, 11, 26, 11, 10, 10, 26, 11, 10, 10, 10, 26, 26, 11, 10, 10, 10, 10, 10, 10, 26, 11, 11, 26, 11, 11, 10, 10, 26, 11, 10, 10, 10, 10, 10]\n",
      "4248\n",
      "{11, 25, 10, 26}\n",
      "11 white spaces appear 1668 times\n",
      "25 white spaces appear 1 times\n",
      "10 white spaces appear 1552 times\n",
      "26 white spaces appear 1028 times\n"
     ]
    }
   ],
   "source": [
    "white_space_count(shrek3_script)"
   ]
  },
  {
   "cell_type": "code",
   "execution_count": 49,
   "metadata": {},
   "outputs": [
    {
     "data": {
      "text/plain": [
       "4249"
      ]
     },
     "execution_count": 49,
     "metadata": {},
     "output_type": "execute_result"
    }
   ],
   "source": [
    "1668+1+1552+1028"
   ]
  },
  {
   "cell_type": "markdown",
   "metadata": {},
   "source": [
    "Removing parentheticals off the bat"
   ]
  },
  {
   "cell_type": "code",
   "execution_count": 40,
   "metadata": {},
   "outputs": [],
   "source": [
    "def no_parentheses(script):\n",
    "    new_script = re.sub(r\" *\\([^\\)]*\\)\", '', script)\n",
    "    return new_script"
   ]
  },
  {
   "cell_type": "code",
   "execution_count": 45,
   "metadata": {},
   "outputs": [],
   "source": [
    "par = re.findall(r\" *\\([^\\)]*\\)\", shrek3_script)"
   ]
  },
  {
   "cell_type": "code",
   "execution_count": 46,
   "metadata": {},
   "outputs": [
    {
     "data": {
      "text/plain": [
       "233"
      ]
     },
     "execution_count": 46,
     "metadata": {},
     "output_type": "execute_result"
    }
   ],
   "source": [
    "len(par)"
   ]
  },
  {
   "cell_type": "code",
   "execution_count": 41,
   "metadata": {},
   "outputs": [],
   "source": [
    "shrek3_script_2 = no_parentheses(shrek3_script)"
   ]
  },
  {
   "cell_type": "code",
   "execution_count": 42,
   "metadata": {},
   "outputs": [
    {
     "data": {
      "text/plain": [
       "182271"
      ]
     },
     "execution_count": 42,
     "metadata": {},
     "output_type": "execute_result"
    }
   ],
   "source": [
    "len(shrek3_script)"
   ]
  },
  {
   "cell_type": "code",
   "execution_count": 43,
   "metadata": {},
   "outputs": [
    {
     "data": {
      "text/plain": [
       "175549"
      ]
     },
     "execution_count": 43,
     "metadata": {},
     "output_type": "execute_result"
    }
   ],
   "source": [
    "len(shrek3_script_2)"
   ]
  },
  {
   "cell_type": "code",
   "execution_count": 44,
   "metadata": {},
   "outputs": [
    {
     "name": "stdout",
     "output_type": "stream",
     "text": [
      "[10, 10, 10, 10, 26, 11, 11, 11, 11, 10, 10, 10, 10, 10, 10, 10, 10, 10, 10, 10, 26, 11, 11, 26, 11, 10, 10, 26, 11, 10, 10, 10, 26, 11, 11, 10, 26, 11, 11, 11, 10, 26, 11, 10, 10, 10, 26, 11, 10, 10, 26, 11, 26, 11, 10, 10, 10, 26, 11, 11, 11, 10, 26, 11, 26, 11, 10, 10, 26, 11, 10, 10, 10, 26, 11, 10, 10, 10, 10, 10, 10, 26, 11, 26, 11, 10, 10, 26, 11, 10, 10, 10, 10, 10, 10, 10, 10, 10, 10, 10]\n",
      "4070\n",
      "{11, 25, 10, 26}\n",
      "11 white spaces appear 1602 times\n",
      "25 white spaces appear 1 times\n",
      "10 white spaces appear 1541 times\n",
      "26 white spaces appear 927 times\n"
     ]
    }
   ],
   "source": [
    "white_space_count(shrek3_script_2)"
   ]
  },
  {
   "cell_type": "code",
   "execution_count": 48,
   "metadata": {},
   "outputs": [
    {
     "data": {
      "text/plain": [
       "4071"
      ]
     },
     "execution_count": 48,
     "metadata": {},
     "output_type": "execute_result"
    }
   ],
   "source": [
    "1602+1+1541+927"
   ]
  },
  {
   "cell_type": "code",
   "execution_count": 50,
   "metadata": {},
   "outputs": [
    {
     "data": {
      "text/plain": [
       "178"
      ]
     },
     "execution_count": 50,
     "metadata": {},
     "output_type": "execute_result"
    }
   ],
   "source": [
    "4249 - 4071 # I feel like this doesn't add up, but okay\n",
    "#since some items in par actually have multiple lone white spaces, but the new white space count isn't as low as that number"
   ]
  },
  {
   "cell_type": "code",
   "execution_count": 52,
   "metadata": {},
   "outputs": [],
   "source": [
    "#par"
   ]
  },
  {
   "cell_type": "markdown",
   "metadata": {},
   "source": [
    "### Attempting to Find actual lines"
   ]
  },
  {
   "cell_type": "code",
   "execution_count": 77,
   "metadata": {},
   "outputs": [],
   "source": [
    "id_lines = re.findall(r\"\\n\\n {25,}(\\b[A-Z]['A-Z ]{1,})+\\n\\n\", shrek3_script_2)"
   ]
  },
  {
   "cell_type": "code",
   "execution_count": 78,
   "metadata": {},
   "outputs": [
    {
     "data": {
      "text/plain": [
       "856"
      ]
     },
     "execution_count": 78,
     "metadata": {},
     "output_type": "execute_result"
    }
   ],
   "source": [
    "len(id_lines)"
   ]
  },
  {
   "cell_type": "code",
   "execution_count": 79,
   "metadata": {},
   "outputs": [
    {
     "data": {
      "text/plain": [
       "['ACTRESS', 'ALL', 'ANNOUNCER', 'ARTIE', 'AUDIENCE', 'BOHORT', 'CAPTAIN HOOK', 'CHEERLEADERS', 'CINDERELLA', 'CYCLOPS', 'DONKEY', 'DORIS', 'DRAGON', 'EVIL DWARFS', 'EVIL QUEEN', 'EVIL TREES', 'EVIL WITCHES', 'FAIRYTALE CREATURES', 'FIDDLESWORTH', 'FIONA', 'GARY', 'GINGERBREAD MAN', 'GUINEVERRE', 'HALL MONITOR', 'HEADLESS HORSEMAN', 'HECKLER', 'HOOK', 'JOCKS', 'KING HAROLD', 'KNIGHT', 'LANCELOT', 'MABEL', 'MERLIN', 'MOTHER', 'MUFFIN MAN', 'NANNY DWARF', 'OGRE', 'OGRE BABIES', 'OGRE BABY', 'OLD LADY', 'OTHER PIRATES', 'PIGS', 'PINOCCHIO', 'PIRATES', 'PRINCE CHARMING', 'PRINCESSES', 'PRINCIPAL PYNCHLEY', 'PUPPET MASTER', 'PUSS', 'QUEEN', 'RAPUNZEL', 'RAUL', 'RUMPLESTILTSKIN', 'SHIP CAPTAIN', 'SHREK', 'SLEEPING BEAUTY', 'SNOW WHITE', 'STUDENTS', 'TEACHER', 'TEENAGER', 'THE END', 'TIFFANY', 'VAN STUDENT', 'VILLAINS', 'WAITER', 'WOLF', 'WOMAN', 'XAVIER']"
      ]
     },
     "execution_count": 79,
     "metadata": {},
     "output_type": "execute_result"
    }
   ],
   "source": [
    "sorted(set(id_lines))"
   ]
  },
  {
   "cell_type": "code",
   "execution_count": 58,
   "metadata": {},
   "outputs": [
    {
     "name": "stdout",
     "output_type": "stream",
     "text": [
      "Pretty printing has been turned OFF\n"
     ]
    }
   ],
   "source": [
    "%pprint"
   ]
  },
  {
   "cell_type": "markdown",
   "metadata": {},
   "source": [
    "Wow! This captured almost everything on the first try! The scene headers in this script aren't capitalized except for INT. or EXT., which contain punctuation (not included in my regular expression!). There is just one problem -- when Artie has an all capitalized line that extends over line breaks (which means the middle of it has no punctuation and is caught by my regular expression. This can be fixed by lowering that line (which will be done eventually anyway)"
   ]
  },
  {
   "cell_type": "code",
   "execution_count": 86,
   "metadata": {},
   "outputs": [],
   "source": [
    "new_scene = re.findall(r\"\\n\\n {10,}(\\b[A-Z]['A-Z ]{1,})+\\n\\n\", shrek3_script_2)"
   ]
  },
  {
   "cell_type": "code",
   "execution_count": 87,
   "metadata": {},
   "outputs": [
    {
     "data": {
      "text/plain": [
       "872"
      ]
     },
     "execution_count": 87,
     "metadata": {},
     "output_type": "execute_result"
    }
   ],
   "source": [
    "len(new_scene)"
   ]
  },
  {
   "cell_type": "code",
   "execution_count": 89,
   "metadata": {},
   "outputs": [
    {
     "data": {
      "text/plain": [
       "['ACTRESS', 'ALL', 'ANNOUNCER', 'ARTIE', 'AUDIENCE', 'BOHORT', 'BY A MONSTER TRYING TO RELATE TO', 'CAPTAIN HOOK', 'CHEERLEADERS', 'CINDERELLA', 'CYCLOPS', 'DONKEY', 'DORIS', 'DRAGON', 'DRIVERS ED INSTRUCTOR', 'EVIL DWARFS', 'EVIL QUEEN', 'EVIL TREES', 'EVIL WITCHES', 'FAIRYTALE CREATURES', 'FIDDLESWORTH', 'FIONA', 'GARY', 'GINGERBREAD MAN', 'GUINEVERRE', 'HALL MONITOR', 'HEADLESS HORSEMAN', 'HECKLER', 'HOOK', 'JOCKS', 'KING HAROLD', 'KNIGHT', 'LANCELOT', 'MABEL', 'MASTER OF CEREMONIES', 'MERLIN', 'MOTHER', 'MUFFIN MAN', 'NANNY DWARF', 'OGRE', 'OGRE BABIES', 'OGRE BABY', 'OLD LADY', 'OTHER PIRATES', 'PIGS', 'PINOCCHIO', 'PIRATES', 'PRINCE CHARMING', 'PRINCESSES', 'PRINCIPAL PYNCHLEY', 'PUPPET MASTER', 'PUSS', 'QUEEN', 'RAPUNZEL', 'RAUL', 'RUMPLESTILTSKIN', 'SHIP CAPTAIN', 'SHREK', 'SLEEPING BEAUTY', 'SNOW WHITE', 'STUDENTS', 'TEACHER', 'TEENAGER', 'THE END', 'TIFFANY', 'VAN STUDENT', 'VILLAINS', 'WAITER', 'WIZARD HEAD', 'WOLF', 'WOMAN', 'XAVIER']"
      ]
     },
     "execution_count": 89,
     "metadata": {},
     "output_type": "execute_result"
    }
   ],
   "source": [
    "sorted(set(new_scene))"
   ]
  },
  {
   "cell_type": "code",
   "execution_count": 100,
   "metadata": {},
   "outputs": [],
   "source": [
    "new_scene_2 = re.findall(r\"\\n\\n {10,}(\\b[A-Z]['A-Z ]{1,})+\\n\\n\", shrek3_script_2)"
   ]
  },
  {
   "cell_type": "code",
   "execution_count": 101,
   "metadata": {},
   "outputs": [
    {
     "data": {
      "text/plain": [
       "872"
      ]
     },
     "execution_count": 101,
     "metadata": {},
     "output_type": "execute_result"
    }
   ],
   "source": [
    "len(new_scene_2)"
   ]
  },
  {
   "cell_type": "code",
   "execution_count": 99,
   "metadata": {},
   "outputs": [
    {
     "data": {
      "text/plain": [
       "['ACTRESS', 'ALL', 'ANNOUNCER', 'ARTIE', 'AUDIENCE', 'BOHORT', 'BY A MONSTER TRYING TO RELATE TO', 'CAPTAIN HOOK', 'CHEERLEADERS', 'CINDERELLA', 'CYCLOPS', 'DONKEY', 'DORIS', 'DRAGON', 'DRIVERS ED INSTRUCTOR', 'EVIL DWARFS', 'EVIL QUEEN', 'EVIL TREES', 'EVIL WITCHES', 'FAIRYTALE CREATURES', 'FIDDLESWORTH', 'FIONA', 'GARY', 'GINGERBREAD MAN', 'GUINEVERRE', 'HALL MONITOR', 'HEADLESS HORSEMAN', 'HECKLER', 'HOOK', 'JOCKS', 'KING HAROLD', 'KNIGHT', 'LANCELOT', 'MABEL', 'MASTER OF CEREMONIES', 'MERLIN', 'MOTHER', 'MUFFIN MAN', 'NANNY DWARF', 'OGRE', 'OGRE BABIES', 'OGRE BABY', 'OLD LADY', 'OTHER PIRATES', 'PIGS', 'PINOCCHIO', 'PIRATES', 'PRINCE CHARMING', 'PRINCESSES', 'PRINCIPAL PYNCHLEY', 'PUPPET MASTER', 'PUSS', 'QUEEN', 'RAPUNZEL', 'RAUL', 'RUMPLESTILTSKIN', 'SHIP CAPTAIN', 'SHREK', 'SLEEPING BEAUTY', 'SNOW WHITE', 'STUDENTS', 'TEACHER', 'TEENAGER', 'THE END', 'TIFFANY', 'VAN STUDENT', 'VILLAINS', 'WAITER', 'WIZARD HEAD', 'WOLF', 'WOMAN', 'XAVIER']"
      ]
     },
     "execution_count": 99,
     "metadata": {},
     "output_type": "execute_result"
    }
   ],
   "source": [
    "sorted(set(new_scene_2))"
   ]
  },
  {
   "cell_type": "code",
   "execution_count": 94,
   "metadata": {},
   "outputs": [],
   "source": [
    "shrek3_script_3 = re.sub('BY A MONSTER TRYING TO RELATE TO', 'by a monster trying to relate to', shrek3_script_2)"
   ]
  },
  {
   "cell_type": "code",
   "execution_count": 102,
   "metadata": {},
   "outputs": [],
   "source": [
    "new_line = re.findall(r\"\\n\\n {10,}(\\b[A-Z]['A-Z ]{1,})+\\n\\n\", shrek3_script_3)"
   ]
  },
  {
   "cell_type": "code",
   "execution_count": 103,
   "metadata": {},
   "outputs": [
    {
     "data": {
      "text/plain": [
       "71"
      ]
     },
     "execution_count": 103,
     "metadata": {},
     "output_type": "execute_result"
    }
   ],
   "source": [
    "len(sorted(set(new_line)))"
   ]
  },
  {
   "cell_type": "code",
   "execution_count": 105,
   "metadata": {},
   "outputs": [],
   "source": [
    "shrek3_script_marked = re.sub(r\"\\n\\n {10,}(\\b[A-Z]['A-Z ]{1,})+\\n\\n\", r\"_NEWLINE_\\1_\", shrek3_script_3)"
   ]
  },
  {
   "cell_type": "code",
   "execution_count": 106,
   "metadata": {},
   "outputs": [
    {
     "data": {
      "text/plain": [
       "\"INT. MEDIEVAL TIMES THEATER - NIGHT\\n\\n          A familiar beam of light shines down. The beam of light\\n\\n          descends onto a stage. Lightning flashes to reveal Prince\\n\\n          Charming riding his valiant steed Chauncey across the open\\n\\n          plains. The wind blows back his golden mane._NEWLINE_PRINCE CHARMING_           Onward Chauncey, to the highest\\n\\n           room of the tallest tower! Where\\n\\n           my princess awaits rescue from her\\n\\n           handsome Prince Charming.\\n\\n          Lightning cracks. Thunder booms. Charming straddles a\\n\\n          wooden hobby horse and gallops in place. A stage hand uses a\\n\\n          bellow to blow air into Prince Charming's face. Another\\n\\n          stage hand turns a crank that creates the moving background.\\n\\n          In the orchestra, a man uses coconuts to create the sound\\n\\n          effects of a galloping horse. Two more stage hands back\\n\\n          stage create the cheap sound effects of thunder and\\n\\n          lightning. A crudel\""
      ]
     },
     "execution_count": 106,
     "metadata": {},
     "output_type": "execute_result"
    }
   ],
   "source": [
    "shrek3_script_marked[:1000]"
   ]
  },
  {
   "cell_type": "code",
   "execution_count": 161,
   "metadata": {},
   "outputs": [],
   "source": [
    "cuts = re.findall(r\"\\n\\n {10,}(\\b[A-Z]['A-Z ]{1,})+:\", shrek3_script_marked)"
   ]
  },
  {
   "cell_type": "code",
   "execution_count": 162,
   "metadata": {},
   "outputs": [
    {
     "data": {
      "text/plain": [
       "45"
      ]
     },
     "execution_count": 162,
     "metadata": {},
     "output_type": "execute_result"
    }
   ],
   "source": [
    "len(cuts)"
   ]
  },
  {
   "cell_type": "code",
   "execution_count": 163,
   "metadata": {},
   "outputs": [
    {
     "data": {
      "text/plain": [
       "['CUT TO', 'CUT TO', 'CUT TO', 'REVEAL', 'CUT TO BLACK', 'CUT TO', 'DISSOLVE TO', 'DISSOLVE TO', 'DISSOLVE TO', 'CUT TO', 'CUT TO', 'CUT TO', 'CUT TO', 'CUT TO', 'CUT TO', 'CUT TO', 'CUT TO', 'CUT TO', 'CUT TO', 'CUT TO', 'CUT TO', 'CUT BACK TO', 'CUT TO', 'CUT TO', 'CUT TO', 'CUT TO', 'CUT TO', 'TIME CUT TO', 'CUT TO', 'CUT TO', 'CUT TO', 'CUT TO', 'CUT TO', 'CUT TO', 'CUT TO', 'CUT TO', 'CUT TO', 'CUT TO', 'CUT TO', 'CUT TO', 'DISSOLVE TO', 'CUT TO', 'CUT TO', 'CUT TO', 'DISSOLVE TO']"
      ]
     },
     "execution_count": 163,
     "metadata": {},
     "output_type": "execute_result"
    }
   ],
   "source": [
    "cuts"
   ]
  },
  {
   "cell_type": "code",
   "execution_count": 164,
   "metadata": {},
   "outputs": [],
   "source": [
    "shrek_3_script_marked = re.sub(r\"\\n\\n {10,}(\\b[A-Z]['A-Z ]{1,})+:\", '', shrek3_script_marked)"
   ]
  },
  {
   "cell_type": "code",
   "execution_count": 165,
   "metadata": {},
   "outputs": [],
   "source": [
    "#Now let's split it!"
   ]
  },
  {
   "cell_type": "code",
   "execution_count": 174,
   "metadata": {},
   "outputs": [],
   "source": [
    "script_lines = shrek_3_script_marked.split(\"_NEWLINE_\")"
   ]
  },
  {
   "cell_type": "code",
   "execution_count": 175,
   "metadata": {},
   "outputs": [
    {
     "data": {
      "text/plain": [
       "872"
      ]
     },
     "execution_count": 175,
     "metadata": {},
     "output_type": "execute_result"
    }
   ],
   "source": [
    "len(script_lines)"
   ]
  },
  {
   "cell_type": "code",
   "execution_count": 176,
   "metadata": {},
   "outputs": [],
   "source": [
    "script_lines = script_lines[1:]"
   ]
  },
  {
   "cell_type": "code",
   "execution_count": 177,
   "metadata": {},
   "outputs": [
    {
     "data": {
      "text/plain": [
       "[\"PRINCE CHARMING_           Onward Chauncey, to the highest\\n\\n           room of the tallest tower! Where\\n\\n           my princess awaits rescue from her\\n\\n           handsome Prince Charming.\\n\\n          Lightning cracks. Thunder booms. Charming straddles a\\n\\n          wooden hobby horse and gallops in place. A stage hand uses a\\n\\n          bellow to blow air into Prince Charming's face. Another\\n\\n          stage hand turns a crank that creates the moving background.\\n\\n          In the orchestra, a man uses coconuts to create the sound\\n\\n          effects of a galloping horse. Two more stage hands back\\n\\n          stage create the cheap sound effects of thunder and\\n\\n          lightning. A crudely constructed castle tower sits in front\\n\\n          of a cheaply painted backdrop.\\n\\n          The Fairytale Creatures are sitting at a table in the\\n\\n          audience.\", 'GINGERBREAD MAN_           This is worse than Love Letters! I\\n\\n           hate dinner theatre.', \"PINOCCHIO_           Me too.\\n\\n          Pinocchio's nose grows as he is caught in the lie.\\n\\n          Prince Charming rides to the base of the tower.\", 'PRINCE CHARMING_           Whoa there, Chauncey!\\n\\n          He dismounts and sets his hobby horse on the ground. He\\n\\n          strikes a dramatic pose.\\n\\n          A Princess leans from a tower window.', 'ACTRESS_           Hark! The brave Prince Charming\\n\\n           approach-ith.\\n\\n          Prince Charming puffs his chest out.', 'PRINCE CHARMING_           Fear not fair maiden! I shall slay\\n\\n           the monster that guards you and\\n\\n           take my place as rightful King.\\n\\n          An old couple at a table look confused.', 'OLD LADY_\\n\\n           What did she say?\\n\\n          Prince Charming glares as the bored audience largely ignores\\n\\n          him.\\n\\n          A man in a bad ogre costume comes onto the stage.', 'OGRE_           Grrrrrrr!\\n\\n          The crowd erupts into applause. The Fairytale Creatures\\n\\n          cheer.', 'FAIRYTALE CREATURES_\\n\\n           Woooo hoooo!!!', 'GINGERBREAD MAN_           Yea! Shrek!\\n\\n          At first, Prince Charming is put off by the cheers for the\\n\\n          Shrek-like beast. He pulls his sword and confronts the\\n\\n          monster.']"
      ]
     },
     "execution_count": 177,
     "metadata": {},
     "output_type": "execute_result"
    }
   ],
   "source": [
    "script_lines[:10]"
   ]
  },
  {
   "cell_type": "code",
   "execution_count": 178,
   "metadata": {},
   "outputs": [],
   "source": [
    "testing = script_lines[:50]"
   ]
  },
  {
   "cell_type": "code",
   "execution_count": 179,
   "metadata": {},
   "outputs": [],
   "source": [
    "testing_list = []\n",
    "line_test = []\n",
    "for line in testing:\n",
    "    testing_list.extend(re.findall(r\"\\n\\n {10}\\w\", line))\n",
    "    marker = re.sub(r\"\\n\\n {10}\\w\", '_ENDLINE_', line)\n",
    "    line_test.append(marker)\n",
    "keep_lines = []\n",
    "for line in line_test:\n",
    "    real_line = line.split('_ENDLINE_')\n",
    "    keep_lines.append(real_line[0])"
   ]
  },
  {
   "cell_type": "code",
   "execution_count": 180,
   "metadata": {},
   "outputs": [
    {
     "data": {
      "text/plain": [
       "['\\n\\n          L', '\\n\\n          w', '\\n\\n          b', '\\n\\n          s', '\\n\\n          I', '\\n\\n          e', '\\n\\n          s', '\\n\\n          l', '\\n\\n          o', '\\n\\n          T', '\\n\\n          a', '\\n\\n          P', '\\n\\n          P', '\\n\\n          H', '\\n\\n          s', '\\n\\n          A', '\\n\\n          P', '\\n\\n          A', '\\n\\n          P', '\\n\\n          h', '\\n\\n          A', '\\n\\n          T', '\\n\\n          c', '\\n\\n          A', '\\n\\n          S', '\\n\\n          m', '\\n\\n          H', '\\n\\n          P', '\\n\\n          s', '\\n\\n          T', '\\n\\n          t', '\\n\\n          T', '\\n\\n          P', '\\n\\n          f', '\\n\\n          T', '\\n\\n          u', '\\n\\n          c', '\\n\\n          h', '\\n\\n          T', '\\n\\n          p', '\\n\\n          T', '\\n\\n          I', '\\n\\n          P', '\\n\\n          t', '\\n\\n          H', '\\n\\n          E', '\\n\\n          P', '\\n\\n          s', '\\n\\n          H', '\\n\\n          A', '\\n\\n          C', '\\n\\n          H', '\\n\\n          t', '\\n\\n          i', '\\n\\n          H', '\\n\\n          d', '\\n\\n          P', '\\n\\n          e', '\\n\\n          h', '\\n\\n          A', '\\n\\n          H', '\\n\\n          a', '\\n\\n          I', '\\n\\n          c', '\\n\\n          P', '\\n\\n          E', '\\n\\n          T', '\\n\\n          r', '\\n\\n          I', '\\n\\n          T', '\\n\\n          o', '\\n\\n          S', '\\n\\n          T', '\\n\\n          i', '\\n\\n          c', '\\n\\n          S', '\\n\\n          e', '\\n\\n          D', '\\n\\n          a', '\\n\\n          T', '\\n\\n          t', '\\n\\n          S', '\\n\\n          l', '\\n\\n          P', '\\n\\n          S', '\\n\\n          s', '\\n\\n          D', '\\n\\n          s', '\\n\\n          S', '\\n\\n          I', '\\n\\n          T', '\\n\\n          t', '\\n\\n          A', '\\n\\n          w', '\\n\\n          S', '\\n\\n          S', '\\n\\n          w', '\\n\\n          i', '\\n\\n          s', '\\n\\n          S', '\\n\\n          T', '\\n\\n          E', '\\n\\n          S', '\\n\\n          N', '\\n\\n          S', '\\n\\n          b', '\\n\\n          t', '\\n\\n          s', '\\n\\n          S', '\\n\\n          h', '\\n\\n          I', '\\n\\n          R', '\\n\\n          S', '\\n\\n          t', '\\n\\n          R', '\\n\\n          H', '\\n\\n          S', '\\n\\n          A', '\\n\\n          c', '\\n\\n          t', '\\n\\n          a', '\\n\\n          W', '\\n\\n          f', '\\n\\n          F', '\\n\\n          L', '\\n\\n          r', '\\n\\n          A', '\\n\\n          s', '\\n\\n          t', '\\n\\n          A', '\\n\\n          S', '\\n\\n          A', '\\n\\n          t', '\\n\\n          A', '\\n\\n          b', '\\n\\n          I', '\\n\\n          R', '\\n\\n          D', '\\n\\n          P', '\\n\\n          F', '\\n\\n          O', '\\n\\n          a', '\\n\\n          F', '\\n\\n          S']"
      ]
     },
     "execution_count": 180,
     "metadata": {},
     "output_type": "execute_result"
    }
   ],
   "source": [
    "testing_list"
   ]
  },
  {
   "cell_type": "code",
   "execution_count": 181,
   "metadata": {},
   "outputs": [
    {
     "name": "stdout",
     "output_type": "stream",
     "text": [
      "PRINCE CHARMING_           Onward Chauncey, to the highest\n",
      "\n",
      "           room of the tallest tower! Where\n",
      "\n",
      "           my princess awaits rescue from her\n",
      "\n",
      "           handsome Prince Charming._ENDLINE_ightning cracks. Thunder booms. Charming straddles a_ENDLINE_ooden hobby horse and gallops in place. A stage hand uses a_ENDLINE_ellow to blow air into Prince Charming's face. Another_ENDLINE_tage hand turns a crank that creates the moving background._ENDLINE_n the orchestra, a man uses coconuts to create the sound_ENDLINE_ffects of a galloping horse. Two more stage hands back_ENDLINE_tage create the cheap sound effects of thunder and_ENDLINE_ightning. A crudely constructed castle tower sits in front_ENDLINE_f a cheaply painted backdrop._ENDLINE_he Fairytale Creatures are sitting at a table in the_ENDLINE_udience.\n",
      "GINGERBREAD MAN_           This is worse than Love Letters! I\n",
      "\n",
      "           hate dinner theatre.\n",
      "PINOCCHIO_           Me too._ENDLINE_inocchio's nose grows as he is caught in the lie._ENDLINE_rince Charming rides to the base of the tower.\n",
      "PRINCE CHARMING_           Whoa there, Chauncey!_ENDLINE_e dismounts and sets his hobby horse on the ground. He_ENDLINE_trikes a dramatic pose._ENDLINE_ Princess leans from a tower window.\n",
      "ACTRESS_           Hark! The brave Prince Charming\n",
      "\n",
      "           approach-ith._ENDLINE_rince Charming puffs his chest out.\n",
      "PRINCE CHARMING_           Fear not fair maiden! I shall slay\n",
      "\n",
      "           the monster that guards you and\n",
      "\n",
      "           take my place as rightful King._ENDLINE_n old couple at a table look confused.\n",
      "OLD LADY_\n",
      "\n",
      "           What did she say?_ENDLINE_rince Charming glares as the bored audience largely ignores_ENDLINE_im._ENDLINE_ man in a bad ogre costume comes onto the stage.\n",
      "OGRE_           Grrrrrrr!_ENDLINE_he crowd erupts into applause. The Fairytale Creatures_ENDLINE_heer.\n",
      "FAIRYTALE CREATURES_\n",
      "\n",
      "           Woooo hoooo!!!\n",
      "GINGERBREAD MAN_           Yea! Shrek!_ENDLINE_t first, Prince Charming is put off by the cheers for the_ENDLINE_hrek-like beast. He pulls his sword and confronts the_ENDLINE_onster.\n",
      "PRINCE CHARMING_           Prepare foul beast to enter into a\n",
      "\n",
      "           world of pain with which you are\n",
      "\n",
      "           not familiar!_ENDLINE_e is cut off as a waiter enters with a birthday cake.\n",
      "WAITER_\n",
      "\n",
      "           Happy Birthday to thee.\n",
      "PRINCE CHARMING_           Do you mind?_ENDLINE_rince Charming hops out of the way when a chair lands on_ENDLINE_tage. It slides past him and bumps into the tower facade.\n",
      "GINGERBREAD MAN_           Do you mind? Bo-ring!_ENDLINE_he audience laughs. Prince Charming glares at them and then_ENDLINE_ries to recover. He points his sword at the monster again._ENDLINE_he tower facade starts to topple.\n",
      "PRINCE CHARMING_\n",
      "\n",
      "           Prepare foul beast-_ENDLINE_rince Charming looks over his shoulder and sees the facade_ENDLINE_alling. He cringes._ENDLINE_he scenery slams against the stage, but Prince Charming is_ENDLINE_nharmed, perfectly framed in the princesses' window. The_ENDLINE_rowd laughs at the embarrassed Prince Charming. He shakes_ENDLINE_is mangled sword at the audience.\n",
      "PRINCE CHARMING_\n",
      "\n",
      "           Someday you'll be sorry.\n",
      "HECKLER_\n",
      "\n",
      "           We already are!_ENDLINE_hey laugh again. Prince Charming throws down his sword,_ENDLINE_icks up his hobby horse and exits.\n",
      "OGRE_           Grrrrrrr!_ENDLINE_he song and the laughter follow Prince Charming backstage._ENDLINE_NT. BACKSTAGE DRESSING ROOM - MOMENTS LATER_ENDLINE_rince Charming walks through a tunnel backstage that leads_ENDLINE_o a door. The door has a star with his name written on it._ENDLINE_e opens it._ENDLINE_XT. MEDIEVAL TIMES RESTAURANT - CONTINUOUS_ENDLINE_rince Charming sits at his broken vanity and sobs. His make-_ENDLINE_hift dressing room is in an alley way next to the theater._ENDLINE_orses whinny as a carriage passes by. The castle of Far Far_ENDLINE_way can be seen on the hill in the background. Prince_ENDLINE_harming breaks down and cries._ENDLINE_e looks up and sees a picture of the Fairy Godmother taped_ENDLINE_o the vanity. \"Don't stop believing! Mommy's Little Angel\"_ENDLINE_s written on the picture.\n",
      "PRINCE CHARMING_\n",
      "\n",
      "           Oh mommy._ENDLINE_e weeps again and then looks back at the picture. A_ENDLINE_etermined change grows across his face.\n",
      "PRINCE CHARMING_           Oh, you're right. I can't let this\n",
      "\n",
      "           happen. I can't._ENDLINE_rince Charming looks at the castle on the hill. His_ENDLINE_xpression hardens. He stands and faces the castle. He_ENDLINE_olds his chin up high.\n",
      "PRINCE CHARMING_           I am the rightful King of Far Far\n",
      "\n",
      "           Away and I promise you this mother.\n",
      "\n",
      "           I will restore dignity to my\n",
      "\n",
      "           throne!_ENDLINE_ big gust of wind blows a newspaper page across his face._ENDLINE_e peels it off and looks at the headline. His eyes tense_ENDLINE_nd narrow.\n",
      "PRINCE CHARMING_           And this time, no one will stand in\n",
      "\n",
      "           my way!_ENDLINE_n the newspaper is a picture of Shrek and Fiona waving to a_ENDLINE_rowd._ENDLINE_rince Charming crumples up the newspaper in his fists._ENDLINE_XT. CASTLE - MORNING_ENDLINE_he camera booms down from the Far Far Away sign. The sun_ENDLINE_ises and the birds sing._ENDLINE_NT. SHREK AND FIONA'S BEDROOM - CONTINUOUS_ENDLINE_he sun shines through the bedroom window as the camera pans_ENDLINE_ver to Shrek and Fiona waking up.\n",
      "SHREK_           Good morning.\n",
      "FIONA_           Good morning.\n",
      "\n",
      "\n",
      "\n",
      "           Oh... morning breath..._ENDLINE_hrek breathes in and smiles.\n",
      "SHREK_\n",
      "\n",
      "           I know. Isn't it wonderful?_ENDLINE_he bedroom doors fly open and Donkey and the Dronkeys rush_ENDLINE_n. The Dronkeys head right for Shrek and Fiona. Shrek_ENDLINE_owers beneath the bedclothes.\n",
      "DONKEY_\n",
      "\n",
      "           \"Good morning! Good morning!\"_ENDLINE_hrek sinks further into the blankets as the Dronkeys_ENDLINE_xuberantly lick him. Fiona is amused._ENDLINE_onkey starts to sing \"Good Morning\" from Singin' in the Rain_ENDLINE_s he enters the room.\n",
      "DONKEY_\n",
      "\n",
      "           \"The sun is shining through! Good\n",
      "\n",
      "           morning! Good morning.\n",
      "\n",
      "\n",
      "\n",
      "           \"To you!\"\n",
      "\n",
      "\n",
      "\n",
      "           \"And you!\"\n",
      "\n",
      "\n",
      "\n",
      "           And you!_ENDLINE_he Dronkeys fly out of the room, knocking down everything in_ENDLINE_heir path.\n",
      "DONKEY_           Oh, they grow up so fast._ENDLINE_hrek, greatly annoyed, lifts his hand and snuffs out a_ENDLINE_ittle fire on the bed left behind by the Dronkeys.\n",
      "SHREK_           Not fast enough._ENDLINE_uss leaps onto the bed.\n",
      "PUSS_           Okay. You have a very full day\n",
      "\n",
      "           filling in for the King and Queen.\n",
      "\n",
      "           There are several functions that\n",
      "\n",
      "           require your attendance, sir.\n",
      "SHREK_           Great! Let's get started._ENDLINE_hrek immediately pulls the covers up over his head and_ENDLINE_tarts to snore.\n",
      "DONKEY_           C'mon, lazy bones, time to get\n",
      "\n",
      "           movin'!_ENDLINE_onkey yanks the sheets off of Fiona and Shrek. He is_ENDLINE_urprised to see Shrek's bare legs.\n",
      "DONKEY_           Aaahhh! You know you really need\n",
      "\n",
      "           to get yourself a pair of jammies._ENDLINE_hrek sighs._ENDLINE_NT. KNIGHTING CEREMONY - DAY_ENDLINE_he camera pans down from a stained glass window. The song\n",
      "\n",
      "          \"Royal Pain\" by the Eels plays in the background as the_ENDLINE_itle: \"Shrek The Third\" is superimposed._ENDLINE_ large crowd has gathered to watch the knighting. Shrek_ENDLINE_alks down the aisle of the church._ENDLINE_hrek walks up to the knight who seems a bit nervous._ENDLINE_hrek takes a sword from Puss, but he doesn't have any idea_ENDLINE_hat he is supposed to do with it. Shrek looks at Puss, who_ENDLINE_ndicates how to knight a person with his own sword. Shrek_ENDLINE_tarts to knight the knight.\n",
      "SHREK_           I knight thee..._ENDLINE_hrek accidentally stabs the knight.\n",
      "SHREK_           He-he. Ooh._ENDLINE_he crowd, Fiona, Puss and Donkey look on, shocked._ENDLINE_XT. BOAT DOCKS - DAY_ENDLINE_hrek and Fiona officiate at a boat christening for the Royal_ENDLINE_avy._ENDLINE_hrek is holding a bottle of champagne. He leans on the_ENDLINE_oat, accidentally pushing it down the ramp. Shrek throws_ENDLINE_he bottle at the boat and it punches an enormous hole in the_ENDLINE_ide of the hull. The boat quickly sinks._ENDLINE_hrek turns to find the patrons of Far Far Away shaking their_ENDLINE_eads as they leave._ENDLINE_NT. DRESSING ROOM - DAY_ENDLINE_aul, the make-up specialist, tightens some aprons around_ENDLINE_hrek and Fiona. Donkey, Puss and Raul stand in front of_ENDLINE_hem.\n",
      "DONKEY_           Well, since you're filling in for\n",
      "\n",
      "           one, you might as well look like a\n",
      "\n",
      "           real King. Can somebody come in\n",
      "\n",
      "           here and work on Shrek please?_ENDLINE_aul stares at Shrek. Shrek raises his eyebrow.\n",
      "RAUL_\n",
      "\n",
      "           I will see what I can do._ENDLINE_e unrolls a satchel full of different gardening tools._ENDLINE_uddenly Shrek's arms and legs are strapped into a chair._ENDLINE_ man stands with his back to the camera and pulls on a rip_ENDLINE_ord as if he's holding a chain saw. VROOM! VROOM! He_ENDLINE_urns around to reveal a circular sander and starts to grind_ENDLINE_way at Shrek's gruesome toenails. Shrek cringes._ENDLINE_e see a close-up of Shrek's eye. A mascara brush comes into_ENDLINE_rame and pulls at Shrek's eyelash._ENDLINE_iona gets her nose hairs plucked.\n",
      "FIONA_           Ow!_ENDLINE_ipstick is applied to some lips. The camera pulls back to_ENDLINE_eveal that the lips are Shrek's._ENDLINE_ hand tries to tighten a zipper on Shrek's back. It keeps_ENDLINE_nagging on the skin until they finally rip it past and_ENDLINE_ighten up the zipper all the way._ENDLINE_ small sock is placed onto Shrek's foot. With a shoe horn,_ENDLINE_hrek's foot is shoved into a small shoe. POP!_ENDLINE_ collar is placed around Fiona's neck and her corset is_ENDLINE_ightened._ENDLINE_ drill comes into frame and tightens the rivet on Shrek's_ENDLINE_elt. A mole is placed on his cheek._ENDLINE_NT. BACKSTAGE - LATER Shrek and Fiona standing awkwardly in outrageous_ENDLINE_enaissance outfits._ENDLINE_onkey gasps.\n",
      "DONKEY_           Oh!_ENDLINE_uss rolls his eyes.\n",
      "PUSS_           Yeah, wow._ENDLINE_iona is uncomfortable.\n",
      "FIONA_           Uh, is this really necessary?\n",
      "RAUL_\n",
      "\n",
      "           Ho, ho. Quite necessary, Fiona.\n",
      "SHREK_           I'm Shrek, you twit.\n",
      "RAUL_           Whatever.\n",
      "PUSS_           Okay peoples! This isn't a\n",
      "\n",
      "           rehearsal. Let's see some hustle.\n",
      "DONKEY_           Smiles everyone, smiles!_ENDLINE_ff-screen, the Master of Ceremonies announces the couples_ENDLINE_rriving at the party._ENDLINE_iona turns to Shrek and sees he is not in a good mood.\n",
      "SHREK_           I don't know how much longer I can\n",
      "\n",
      "           keep this up Fiona.\n",
      "FIONA_           I'm sorry Shrek, but can you please\n",
      "\n",
      "           just try to grin and bear it? It's\n",
      "\n",
      "           just until Dad gets better._ENDLINE_hrek lets out another frustrated sigh.\n",
      "FIONA_           Shrek?\n",
      "SHREK_           Yeah.\n"
     ]
    }
   ],
   "source": [
    "for line in line_test:\n",
    "    print(line)"
   ]
  },
  {
   "cell_type": "code",
   "execution_count": 182,
   "metadata": {},
   "outputs": [
    {
     "data": {
      "text/plain": [
       "['PRINCE CHARMING_           Onward Chauncey, to the highest\\n\\n           room of the tallest tower! Where\\n\\n           my princess awaits rescue from her\\n\\n           handsome Prince Charming.', 'GINGERBREAD MAN_           This is worse than Love Letters! I\\n\\n           hate dinner theatre.', 'PINOCCHIO_           Me too.', 'PRINCE CHARMING_           Whoa there, Chauncey!', 'ACTRESS_           Hark! The brave Prince Charming\\n\\n           approach-ith.', 'PRINCE CHARMING_           Fear not fair maiden! I shall slay\\n\\n           the monster that guards you and\\n\\n           take my place as rightful King.', 'OLD LADY_\\n\\n           What did she say?', 'OGRE_           Grrrrrrr!', 'FAIRYTALE CREATURES_\\n\\n           Woooo hoooo!!!', 'GINGERBREAD MAN_           Yea! Shrek!', 'PRINCE CHARMING_           Prepare foul beast to enter into a\\n\\n           world of pain with which you are\\n\\n           not familiar!', 'WAITER_\\n\\n           Happy Birthday to thee.', 'PRINCE CHARMING_           Do you mind?', 'GINGERBREAD MAN_           Do you mind? Bo-ring!', 'PRINCE CHARMING_\\n\\n           Prepare foul beast-', \"PRINCE CHARMING_\\n\\n           Someday you'll be sorry.\", 'HECKLER_\\n\\n           We already are!', 'OGRE_           Grrrrrrr!', 'PRINCE CHARMING_\\n\\n           Oh mommy.', \"PRINCE CHARMING_           Oh, you're right. I can't let this\\n\\n           happen. I can't.\", 'PRINCE CHARMING_           I am the rightful King of Far Far\\n\\n           Away and I promise you this mother.\\n\\n           I will restore dignity to my\\n\\n           throne!', 'PRINCE CHARMING_           And this time, no one will stand in\\n\\n           my way!', 'SHREK_           Good morning.', 'FIONA_           Good morning.\\n\\n\\n\\n           Oh... morning breath...', \"SHREK_\\n\\n           I know. Isn't it wonderful?\", 'DONKEY_\\n\\n           \"Good morning! Good morning!\"', 'DONKEY_\\n\\n           \"The sun is shining through! Good\\n\\n           morning! Good morning.\\n\\n\\n\\n           \"To you!\"\\n\\n\\n\\n           \"And you!\"\\n\\n\\n\\n           And you!', 'DONKEY_           Oh, they grow up so fast.', 'SHREK_           Not fast enough.', 'PUSS_           Okay. You have a very full day\\n\\n           filling in for the King and Queen.\\n\\n           There are several functions that\\n\\n           require your attendance, sir.', \"SHREK_           Great! Let's get started.\", \"DONKEY_           C'mon, lazy bones, time to get\\n\\n           movin'!\", 'DONKEY_           Aaahhh! You know you really need\\n\\n           to get yourself a pair of jammies.', 'SHREK_           I knight thee...', 'SHREK_           He-he. Ooh.', \"DONKEY_           Well, since you're filling in for\\n\\n           one, you might as well look like a\\n\\n           real King. Can somebody come in\\n\\n           here and work on Shrek please?\", 'RAUL_\\n\\n           I will see what I can do.', 'FIONA_           Ow!', 'DONKEY_           Oh!', 'PUSS_           Yeah, wow.', 'FIONA_           Uh, is this really necessary?', 'RAUL_\\n\\n           Ho, ho. Quite necessary, Fiona.', \"SHREK_           I'm Shrek, you twit.\", 'RAUL_           Whatever.', \"PUSS_           Okay peoples! This isn't a\\n\\n           rehearsal. Let's see some hustle.\", 'DONKEY_           Smiles everyone, smiles!', \"SHREK_           I don't know how much longer I can\\n\\n           keep this up Fiona.\", \"FIONA_           I'm sorry Shrek, but can you please\\n\\n           just try to grin and bear it? It's\\n\\n           just until Dad gets better.\", 'FIONA_           Shrek?', 'SHREK_           Yeah.']"
      ]
     },
     "execution_count": 182,
     "metadata": {},
     "output_type": "execute_result"
    }
   ],
   "source": [
    "keep_lines"
   ]
  },
  {
   "cell_type": "code",
   "execution_count": 183,
   "metadata": {},
   "outputs": [
    {
     "data": {
      "text/plain": [
       "[\"PRINCE CHARMING_           Onward Chauncey, to the highest\\n\\n           room of the tallest tower! Where\\n\\n           my princess awaits rescue from her\\n\\n           handsome Prince Charming.\\n\\n          Lightning cracks. Thunder booms. Charming straddles a\\n\\n          wooden hobby horse and gallops in place. A stage hand uses a\\n\\n          bellow to blow air into Prince Charming's face. Another\\n\\n          stage hand turns a crank that creates the moving background.\\n\\n          In the orchestra, a man uses coconuts to create the sound\\n\\n          effects of a galloping horse. Two more stage hands back\\n\\n          stage create the cheap sound effects of thunder and\\n\\n          lightning. A crudely constructed castle tower sits in front\\n\\n          of a cheaply painted backdrop.\\n\\n          The Fairytale Creatures are sitting at a table in the\\n\\n          audience.\", 'GINGERBREAD MAN_           This is worse than Love Letters! I\\n\\n           hate dinner theatre.', \"PINOCCHIO_           Me too.\\n\\n          Pinocchio's nose grows as he is caught in the lie.\\n\\n          Prince Charming rides to the base of the tower.\", 'PRINCE CHARMING_           Whoa there, Chauncey!\\n\\n          He dismounts and sets his hobby horse on the ground. He\\n\\n          strikes a dramatic pose.\\n\\n          A Princess leans from a tower window.', 'ACTRESS_           Hark! The brave Prince Charming\\n\\n           approach-ith.\\n\\n          Prince Charming puffs his chest out.', 'PRINCE CHARMING_           Fear not fair maiden! I shall slay\\n\\n           the monster that guards you and\\n\\n           take my place as rightful King.\\n\\n          An old couple at a table look confused.', 'OLD LADY_\\n\\n           What did she say?\\n\\n          Prince Charming glares as the bored audience largely ignores\\n\\n          him.\\n\\n          A man in a bad ogre costume comes onto the stage.', 'OGRE_           Grrrrrrr!\\n\\n          The crowd erupts into applause. The Fairytale Creatures\\n\\n          cheer.', 'FAIRYTALE CREATURES_\\n\\n           Woooo hoooo!!!', 'GINGERBREAD MAN_           Yea! Shrek!\\n\\n          At first, Prince Charming is put off by the cheers for the\\n\\n          Shrek-like beast. He pulls his sword and confronts the\\n\\n          monster.', 'PRINCE CHARMING_           Prepare foul beast to enter into a\\n\\n           world of pain with which you are\\n\\n           not familiar!\\n\\n          He is cut off as a waiter enters with a birthday cake.', 'WAITER_\\n\\n           Happy Birthday to thee.', 'PRINCE CHARMING_           Do you mind?\\n\\n          Prince Charming hops out of the way when a chair lands on\\n\\n          stage. It slides past him and bumps into the tower facade.', 'GINGERBREAD MAN_           Do you mind? Bo-ring!\\n\\n          The audience laughs. Prince Charming glares at them and then\\n\\n          tries to recover. He points his sword at the monster again.\\n\\n          The tower facade starts to topple.', \"PRINCE CHARMING_\\n\\n           Prepare foul beast-\\n\\n          Prince Charming looks over his shoulder and sees the facade\\n\\n          falling. He cringes.\\n\\n          The scenery slams against the stage, but Prince Charming is\\n\\n          unharmed, perfectly framed in the princesses' window. The\\n\\n          crowd laughs at the embarrassed Prince Charming. He shakes\\n\\n          his mangled sword at the audience.\", \"PRINCE CHARMING_\\n\\n           Someday you'll be sorry.\", 'HECKLER_\\n\\n           We already are!\\n\\n          They laugh again. Prince Charming throws down his sword,\\n\\n          picks up his hobby horse and exits.', 'OGRE_           Grrrrrrr!\\n\\n          The song and the laughter follow Prince Charming backstage.\\n\\n          INT. BACKSTAGE DRESSING ROOM - MOMENTS LATER\\n\\n          Prince Charming walks through a tunnel backstage that leads\\n\\n          to a door. The door has a star with his name written on it.\\n\\n          He opens it.\\n\\n          EXT. MEDIEVAL TIMES RESTAURANT - CONTINUOUS\\n\\n          Prince Charming sits at his broken vanity and sobs. His make-\\n\\n          shift dressing room is in an alley way next to the theater.\\n\\n          Horses whinny as a carriage passes by. The castle of Far Far\\n\\n          Away can be seen on the hill in the background. Prince\\n\\n          Charming breaks down and cries.\\n\\n          He looks up and sees a picture of the Fairy Godmother taped\\n\\n          to the vanity. \"Don\\'t stop believing! Mommy\\'s Little Angel\"\\n\\n          is written on the picture.', 'PRINCE CHARMING_\\n\\n           Oh mommy.\\n\\n          He weeps again and then looks back at the picture. A\\n\\n          determined change grows across his face.', \"PRINCE CHARMING_           Oh, you're right. I can't let this\\n\\n           happen. I can't.\\n\\n          Prince Charming looks at the castle on the hill. His\\n\\n          expression hardens. He stands and faces the castle. He\\n\\n          holds his chin up high.\", 'PRINCE CHARMING_           I am the rightful King of Far Far\\n\\n           Away and I promise you this mother.\\n\\n           I will restore dignity to my\\n\\n           throne!\\n\\n          A big gust of wind blows a newspaper page across his face.\\n\\n          He peels it off and looks at the headline. His eyes tense\\n\\n          and narrow.', \"PRINCE CHARMING_           And this time, no one will stand in\\n\\n           my way!\\n\\n          In the newspaper is a picture of Shrek and Fiona waving to a\\n\\n          crowd.\\n\\n          Prince Charming crumples up the newspaper in his fists.\\n\\n          EXT. CASTLE - MORNING\\n\\n          The camera booms down from the Far Far Away sign. The sun\\n\\n          rises and the birds sing.\\n\\n          INT. SHREK AND FIONA'S BEDROOM - CONTINUOUS\\n\\n          The sun shines through the bedroom window as the camera pans\\n\\n          over to Shrek and Fiona waking up.\", 'SHREK_           Good morning.', 'FIONA_           Good morning.\\n\\n\\n\\n           Oh... morning breath...\\n\\n          Shrek breathes in and smiles.', \"SHREK_\\n\\n           I know. Isn't it wonderful?\\n\\n          The bedroom doors fly open and Donkey and the Dronkeys rush\\n\\n          in. The Dronkeys head right for Shrek and Fiona. Shrek\\n\\n          cowers beneath the bedclothes.\", 'DONKEY_\\n\\n           \"Good morning! Good morning!\"\\n\\n          Shrek sinks further into the blankets as the Dronkeys\\n\\n          exuberantly lick him. Fiona is amused.\\n\\n          Donkey starts to sing \"Good Morning\" from Singin\\' in the Rain\\n\\n          as he enters the room.', 'DONKEY_\\n\\n           \"The sun is shining through! Good\\n\\n           morning! Good morning.\\n\\n\\n\\n           \"To you!\"\\n\\n\\n\\n           \"And you!\"\\n\\n\\n\\n           And you!\\n\\n          The Dronkeys fly out of the room, knocking down everything in\\n\\n          their path.', 'DONKEY_           Oh, they grow up so fast.\\n\\n          Shrek, greatly annoyed, lifts his hand and snuffs out a\\n\\n          little fire on the bed left behind by the Dronkeys.', 'SHREK_           Not fast enough.\\n\\n          Puss leaps onto the bed.', 'PUSS_           Okay. You have a very full day\\n\\n           filling in for the King and Queen.\\n\\n           There are several functions that\\n\\n           require your attendance, sir.', \"SHREK_           Great! Let's get started.\\n\\n          Shrek immediately pulls the covers up over his head and\\n\\n          starts to snore.\", \"DONKEY_           C'mon, lazy bones, time to get\\n\\n           movin'!\\n\\n          Donkey yanks the sheets off of Fiona and Shrek. He is\\n\\n          surprised to see Shrek's bare legs.\", 'DONKEY_           Aaahhh! You know you really need\\n\\n           to get yourself a pair of jammies.\\n\\n          Shrek sighs.\\n\\n          INT. KNIGHTING CEREMONY - DAY\\n\\n          The camera pans down from a stained glass window. The song\\n\\n          \"Royal Pain\" by the Eels plays in the background as the\\n\\n          title: \"Shrek The Third\" is superimposed.\\n\\n          A large crowd has gathered to watch the knighting. Shrek\\n\\n          walks down the aisle of the church.\\n\\n          Shrek walks up to the knight who seems a bit nervous.\\n\\n          Shrek takes a sword from Puss, but he doesn\\'t have any idea\\n\\n          what he is supposed to do with it. Shrek looks at Puss, who\\n\\n          indicates how to knight a person with his own sword. Shrek\\n\\n          starts to knight the knight.', 'SHREK_           I knight thee...\\n\\n          Shrek accidentally stabs the knight.', 'SHREK_           He-he. Ooh.\\n\\n          The crowd, Fiona, Puss and Donkey look on, shocked.\\n\\n          EXT. BOAT DOCKS - DAY\\n\\n          Shrek and Fiona officiate at a boat christening for the Royal\\n\\n          Navy.\\n\\n          Shrek is holding a bottle of champagne. He leans on the\\n\\n          boat, accidentally pushing it down the ramp. Shrek throws\\n\\n          the bottle at the boat and it punches an enormous hole in the\\n\\n          side of the hull. The boat quickly sinks.\\n\\n          Shrek turns to find the patrons of Far Far Away shaking their\\n\\n          heads as they leave.\\n\\n          INT. DRESSING ROOM - DAY\\n\\n          Raul, the make-up specialist, tightens some aprons around\\n\\n          Shrek and Fiona. Donkey, Puss and Raul stand in front of\\n\\n          them.', \"DONKEY_           Well, since you're filling in for\\n\\n           one, you might as well look like a\\n\\n           real King. Can somebody come in\\n\\n           here and work on Shrek please?\\n\\n          Raul stares at Shrek. Shrek raises his eyebrow.\", \"RAUL_\\n\\n           I will see what I can do.\\n\\n          He unrolls a satchel full of different gardening tools.\\n\\n          Suddenly Shrek's arms and legs are strapped into a chair.\\n\\n          A man stands with his back to the camera and pulls on a rip\\n\\n          cord as if he's holding a chain saw. VROOM! VROOM! He\\n\\n          turns around to reveal a circular sander and starts to grind\\n\\n          away at Shrek's gruesome toenails. Shrek cringes.\\n\\n          We see a close-up of Shrek's eye. A mascara brush comes into\\n\\n          frame and pulls at Shrek's eyelash.\\n\\n          Fiona gets her nose hairs plucked.\", \"FIONA_           Ow!\\n\\n          Lipstick is applied to some lips. The camera pulls back to\\n\\n          reveal that the lips are Shrek's.\\n\\n          A hand tries to tighten a zipper on Shrek's back. It keeps\\n\\n          snagging on the skin until they finally rip it past and\\n\\n          tighten up the zipper all the way.\\n\\n          A small sock is placed onto Shrek's foot. With a shoe horn,\\n\\n          Shrek's foot is shoved into a small shoe. POP!\\n\\n          A collar is placed around Fiona's neck and her corset is\\n\\n          tightened.\\n\\n          A drill comes into frame and tightens the rivet on Shrek's\\n\\n          belt. A mole is placed on his cheek.\\n\\n          INT. BACKSTAGE - LATER Shrek and Fiona standing awkwardly in outrageous\\n\\n          Renaissance outfits.\\n\\n          Donkey gasps.\", 'DONKEY_           Oh!\\n\\n          Puss rolls his eyes.', 'PUSS_           Yeah, wow.\\n\\n          Fiona is uncomfortable.', 'FIONA_           Uh, is this really necessary?', 'RAUL_\\n\\n           Ho, ho. Quite necessary, Fiona.', \"SHREK_           I'm Shrek, you twit.\", 'RAUL_           Whatever.', \"PUSS_           Okay peoples! This isn't a\\n\\n           rehearsal. Let's see some hustle.\", 'DONKEY_           Smiles everyone, smiles!\\n\\n          Off-screen, the Master of Ceremonies announces the couples\\n\\n          arriving at the party.\\n\\n          Fiona turns to Shrek and sees he is not in a good mood.', \"SHREK_           I don't know how much longer I can\\n\\n           keep this up Fiona.\", \"FIONA_           I'm sorry Shrek, but can you please\\n\\n           just try to grin and bear it? It's\\n\\n           just until Dad gets better.\\n\\n          Shrek lets out another frustrated sigh.\", 'FIONA_           Shrek?', 'SHREK_           Yeah.']"
      ]
     },
     "execution_count": 183,
     "metadata": {},
     "output_type": "execute_result"
    }
   ],
   "source": [
    "testing"
   ]
  },
  {
   "cell_type": "code",
   "execution_count": 131,
   "metadata": {},
   "outputs": [],
   "source": [
    "## Seems to have worked! Let's generalize it to whole script!"
   ]
  },
  {
   "cell_type": "code",
   "execution_count": 184,
   "metadata": {},
   "outputs": [],
   "source": [
    "line_id = []\n",
    "for line in script_lines:\n",
    "    marker = re.sub(r\"\\n\\n {10}\\w\", '_ENDLINE_', line)\n",
    "    line_id.append(marker)\n",
    "real_script_lines = []\n",
    "for line in line_id:\n",
    "    real_line = line.split('_ENDLINE_')\n",
    "    real_script_lines.append(real_line[0])"
   ]
  },
  {
   "cell_type": "code",
   "execution_count": 185,
   "metadata": {},
   "outputs": [
    {
     "data": {
      "text/plain": [
       "871"
      ]
     },
     "execution_count": 185,
     "metadata": {},
     "output_type": "execute_result"
    }
   ],
   "source": [
    "len(real_script_lines) #should be 871!"
   ]
  },
  {
   "cell_type": "code",
   "execution_count": 186,
   "metadata": {},
   "outputs": [
    {
     "data": {
      "text/plain": [
       "['PRINCE CHARMING_           Onward Chauncey, to the highest\\n\\n           room of the tallest tower! Where\\n\\n           my princess awaits rescue from her\\n\\n           handsome Prince Charming.', 'GINGERBREAD MAN_           This is worse than Love Letters! I\\n\\n           hate dinner theatre.', 'PINOCCHIO_           Me too.', 'PRINCE CHARMING_           Whoa there, Chauncey!', 'ACTRESS_           Hark! The brave Prince Charming\\n\\n           approach-ith.', 'PRINCE CHARMING_           Fear not fair maiden! I shall slay\\n\\n           the monster that guards you and\\n\\n           take my place as rightful King.', 'OLD LADY_\\n\\n           What did she say?', 'OGRE_           Grrrrrrr!', 'FAIRYTALE CREATURES_\\n\\n           Woooo hoooo!!!', 'GINGERBREAD MAN_           Yea! Shrek!']"
      ]
     },
     "execution_count": 186,
     "metadata": {},
     "output_type": "execute_result"
    }
   ],
   "source": [
    "real_script_lines[:10]"
   ]
  },
  {
   "cell_type": "code",
   "execution_count": 187,
   "metadata": {},
   "outputs": [
    {
     "data": {
      "text/plain": [
       "['SHREK_           Ah, finally.', 'OGRE BABIES_           Da da.', 'DONKEY_           Hey! I smell Shrek Jr.', 'DONKEY_           Peek-a-boo. Peek-a-boo.', 'QUEEN_           Bouncy, bouncy, bouncy boy.', 'DONKEY_           Hey.', \"NANNY DWARF_           Where's the baby?\", 'SHREK_           Well, what shall we do now?', 'SHREK_\\n\\n           I got it.', 'THE END_']"
      ]
     },
     "execution_count": 187,
     "metadata": {},
     "output_type": "execute_result"
    }
   ],
   "source": [
    "real_script_lines[-10:]"
   ]
  },
  {
   "cell_type": "code",
   "execution_count": 188,
   "metadata": {},
   "outputs": [
    {
     "data": {
      "text/plain": [
       "26"
      ]
     },
     "execution_count": 188,
     "metadata": {},
     "output_type": "execute_result"
    }
   ],
   "source": [
    "len(\"                          \")"
   ]
  },
  {
   "cell_type": "code",
   "execution_count": 189,
   "metadata": {},
   "outputs": [
    {
     "data": {
      "text/plain": [
       "['PRINCE CHARMING_           Onward Chauncey, to the highest\\n\\n           room of the tallest tower! Where\\n\\n           my princess awaits rescue from her\\n\\n           handsome Prince Charming.', 'GINGERBREAD MAN_           This is worse than Love Letters! I\\n\\n           hate dinner theatre.', 'PINOCCHIO_           Me too.', 'PRINCE CHARMING_           Whoa there, Chauncey!', 'ACTRESS_           Hark! The brave Prince Charming\\n\\n           approach-ith.', 'PRINCE CHARMING_           Fear not fair maiden! I shall slay\\n\\n           the monster that guards you and\\n\\n           take my place as rightful King.', 'OLD LADY_\\n\\n           What did she say?', 'OGRE_           Grrrrrrr!', 'FAIRYTALE CREATURES_\\n\\n           Woooo hoooo!!!', 'GINGERBREAD MAN_           Yea! Shrek!', 'PRINCE CHARMING_           Prepare foul beast to enter into a\\n\\n           world of pain with which you are\\n\\n           not familiar!', 'WAITER_\\n\\n           Happy Birthday to thee.', 'PRINCE CHARMING_           Do you mind?', 'GINGERBREAD MAN_           Do you mind? Bo-ring!', 'PRINCE CHARMING_\\n\\n           Prepare foul beast-', \"PRINCE CHARMING_\\n\\n           Someday you'll be sorry.\", 'HECKLER_\\n\\n           We already are!', 'OGRE_           Grrrrrrr!', 'PRINCE CHARMING_\\n\\n           Oh mommy.', \"PRINCE CHARMING_           Oh, you're right. I can't let this\\n\\n           happen. I can't.\", 'PRINCE CHARMING_           I am the rightful King of Far Far\\n\\n           Away and I promise you this mother.\\n\\n           I will restore dignity to my\\n\\n           throne!', 'PRINCE CHARMING_           And this time, no one will stand in\\n\\n           my way!', 'SHREK_           Good morning.', 'FIONA_           Good morning.\\n\\n\\n\\n           Oh... morning breath...', \"SHREK_\\n\\n           I know. Isn't it wonderful?\", 'DONKEY_\\n\\n           \"Good morning! Good morning!\"', 'DONKEY_\\n\\n           \"The sun is shining through! Good\\n\\n           morning! Good morning.\\n\\n\\n\\n           \"To you!\"\\n\\n\\n\\n           \"And you!\"\\n\\n\\n\\n           And you!', 'DONKEY_           Oh, they grow up so fast.', 'SHREK_           Not fast enough.', 'PUSS_           Okay. You have a very full day\\n\\n           filling in for the King and Queen.\\n\\n           There are several functions that\\n\\n           require your attendance, sir.', \"SHREK_           Great! Let's get started.\", \"DONKEY_           C'mon, lazy bones, time to get\\n\\n           movin'!\", 'DONKEY_           Aaahhh! You know you really need\\n\\n           to get yourself a pair of jammies.', 'SHREK_           I knight thee...', 'SHREK_           He-he. Ooh.', \"DONKEY_           Well, since you're filling in for\\n\\n           one, you might as well look like a\\n\\n           real King. Can somebody come in\\n\\n           here and work on Shrek please?\", 'RAUL_\\n\\n           I will see what I can do.', 'FIONA_           Ow!', 'DONKEY_           Oh!', 'PUSS_           Yeah, wow.', 'FIONA_           Uh, is this really necessary?', 'RAUL_\\n\\n           Ho, ho. Quite necessary, Fiona.', \"SHREK_           I'm Shrek, you twit.\", 'RAUL_           Whatever.', \"PUSS_           Okay peoples! This isn't a\\n\\n           rehearsal. Let's see some hustle.\", 'DONKEY_           Smiles everyone, smiles!', \"SHREK_           I don't know how much longer I can\\n\\n           keep this up Fiona.\", \"FIONA_           I'm sorry Shrek, but can you please\\n\\n           just try to grin and bear it? It's\\n\\n           just until Dad gets better.\", 'FIONA_           Shrek?', 'SHREK_           Yeah.', 'FIONA_           You look handsome.', 'SHREK_           Ah. Come here, you.', \"SHREK_           Oh, my butt is itching up a storm\\n\\n           and I can't reach it in this monkey\\n\\n           suit!\", 'SHREK_           Oh.\\n\\n\\n\\n           Hey you. Come here!', \"SHREK_           What's your name?\", 'FIDDLESWORTH_           Eh, Fiddlesworth, sir.', 'SHREK_           Hoo hoo hooo. Perfect.', 'MASTER OF CEREMONIES_           Ladies and gentlemen, Princess\\n\\n           Fiona and Sir Shrek!', \"SHREK_           You've done it. Oh, a little over\\n\\n           to the left, yeah. That's great.\", 'FIONA_           Uh Shrek?', \"SHREK_           Ahh! All right, you got it...Oh\\n\\n           yeah, you're on it. Oh that's it!\\n\\n           Oh that's good!\", 'FIONA_           Shrek...', \"SHREK_           Oh yeah! Scratch that thing! You\\n\\n           got it. You're on it. That's\\n\\n           great!\", 'FIONA_           SHREK!', 'DONKEY_           Ow!! My eye! My eye!', 'WOMAN_           What are you doing?', 'SHREK_           Fiona!', 'FIDDLESWORTH_           Uhhh...\\n\\n', 'SHREK_           Are you okay?', \"FIONA_           Yeah. I'm fine.\", 'FIDDLESWORTH_           Ahhhh!', 'DONKEY_           Oh! Shrimp! My favorite.', \"SHREK_           That's it! We're leaving!\", 'FIONA_           Honey, please calm down...', \"SHREK_           Calm down? Who do you think we're\\n\\n           kidding? I am an ogre! I'm not cut\\n\\n           out for this, Fiona and I never\\n\\n           will be.\", 'DONKEY_           I think that went pretty well.', 'SHREK_           Donkey!', 'DONKEY_           Aww, come on now Shrek!', \"PUSS_           Some people just don't understand\\n\\n           boundaries.\", \"FIONA_           Just think... a couple more days,\\n\\n           and we'll be back home in our\\n\\n           vermin-filled shack, strewn with\\n\\n           fungus, filled with the rotting\\n\\n           stench of mud and neglect.\", 'SHREK_           Oh, you had me at \"vermin-filled.\"', 'FIONA_           And, uh... maybe even the pitter-\\n\\n           patter of little feet on the\\n\\n           floor...?', \"SHREK_\\n\\n           That's right. The swamp rats will\\n\\n           be spawning.\", 'FIONA_           Uh, no... you know, what I was\\n\\n           thinking of is a little bit bigger\\n\\n           than a swamp rat.', 'SHREK_           Donkey?', 'FIONA_           No, Shrek. Um... what if -\\n\\n                          THEORETICALLY -', 'SHREK_           Yeah?', 'FIONA_           They were little ogre feet?', 'SHREK_           Oh.\\n\\n', \"SHREK_           Honey? Let's try and be rational\\n\\n           about this. Have you seen a baby\\n\\n           lately? They just eat and poop and\\n\\n           they cry and then they cry when\\n\\n           they poop and they poop when they\\n\\n           cry...Now, imagine an ogre baby.\\n\\n           They extra cry and they extra poop.\", 'FIONA_           Shrek.', \"FIONA_           Don't you ever think about having a\\n\\n           family?\", \"SHREK_           Right now, you're my family.\", 'SHREK_           Well, somebody better be dying.', \"KING HAROLD_           I'm dying.\", 'QUEEN_           Harold.', \"KING HAROLD_           Don't forget to pay the gardener,\\n\\n           Lillian.\", 'QUEEN_           Of course darling.', 'KING HAROLD_           Fiona...', 'FIONA_           Yes Daddy?', \"KING HAROLD_           I know I've made many mistakes with\\n\\n           you.\", \"FIONA_           It's okay.\", 'KING HAROLD_           But your love for Shrek has taught\\n\\n           me so much.', 'KING HAROLD_           My dear boy, I am proud to call you\\n\\n           my son.', \"SHREK_           And I'm proud to call you my\\n\\n           Frog... King Dad in-law.\", 'KING HAROLD_           Now, there is a matter of business\\n\\n           to attend tooo...', 'PUSS_           The Frog King is dead.', 'DONKEY_\\n\\n           Put your hat back on, fool.', 'KING HAROLD_           Shrek, please come hither.', 'SHREK_           Yeah, Dad?', 'KING HAROLD_           This Kingdom needs a new king. You\\n\\n           and Fiona are next in line for the\\n\\n           throne.', \"SHREK_           Ooo. Next in line. Now you see\\n\\n           Dad, that's why people love you.\\n\\n           Even on your deathbed you're still\\n\\n           making jokes.\", \"SHREK_           Oh, come on Dad...an Ogre as King?\\n\\n           I don't think that's such a good\\n\\n           idea. There's got to be somebody\\n\\n           else. Anybody?\", 'KING HAROLD_           Aside from you there is only one\\n\\n           remaining heir.', 'SHREK_           Really!? Who is he, Dad?', 'KING HAROLD_           His name is... is... is...', \"SHREK_           What's his name? What's his name?\", 'KING HAROLD_           ...is ...', 'FIONA_           Daddy!', 'KING HAROLD_\\n\\n           His name is Arthur.', 'SHREK_           Arthur?', \"KING HAROLD_\\n\\n           I know you'll do what's...\\n\\n\\n\\n           riiiight...\", 'QUEEN_           Harold!?', 'SHREK_           Dad? Dad? Dad?', 'DONKEY_           Do your thing, man.', 'PRINCE CHARMING_           What does a Prince have to do to\\n\\n           get a drink around here?', \"PRINCE CHARMING_           Ah Mabel, why they call you an ugly\\n\\n           stepsister I'll never know.\", \"PRINCE CHARMING_           Where's Doris, taking the night\\n\\n           off?\", \"MABEL_           She's not welcome here and neither\\n\\n           are you.\", 'MABEL_           What do you want, Charming?', 'PRINCE CHARMING_           Oh not much, just a chance at\\n\\n           redemption...\\n\\n\\n\\n           And a Fuzzy Navel.', 'PRINCE CHARMING_           And Fuzzy Navels for all my\\n\\n           friends!', \"CAPTAIN HOOK_           We're not your friends.\", 'PRINCE CHARMING_           Ahh!', \"CAPTAIN HOOK_           You don't belong here.\", \"PRINCE CHARMING_           You're right; oh, I mean you're\\n\\n           absolutely right, but I mean, do\\n\\n           any of us?\", 'CYCLOPS_           Do a number on his face!', 'PRINCE CHARMING_           No, no, wait, wait, wait! We are\\n\\n           more alike than you think.', 'PRINCE CHARMING_           Wicked Witch. The Seven Dwarves\\n\\n           saved Snow White and then what\\n\\n           happened?', \"EVIL QUEEN_           Oh, what's it to you?\", 'PRINCE CHARMING_           They left you the un-fairest of\\n\\n           them all. And now here you are,\\n\\n           hustling pool to get your next\\n\\n           meal. How does that feel?', 'EVIL QUEEN_           Pretty unfair.', 'PRINCE CHARMING_           And you? Your star puppet abandons\\n\\n           the show to go and find his father.', 'PUPPET MASTER_           I hate that little wooden puppet.', 'PRINCE CHARMING_           And Hook...', 'PRINCE CHARMING_           ... Need I say more?', 'PRINCE CHARMING_           And you! Frumpypigskin.', 'RUMPLESTILTSKIN_           Rumplestiltskin.', \"PRINCE CHARMING_           Where's that first-born you were\\n\\n           promised, hey?\", \"PRINCE CHARMING_           Mabel, remember how you couldn't\\n\\n           get your little fat foot into that\\n\\n           tiny glass slipper?\", 'PRINCE CHARMING_           Cinderella is in Far Far Away right\\n\\n           now, eating Bon Bons, cavorting\\n\\n           with every little last Fairy-tale\\n\\n           Creature that has ever done you\\n\\n           wrong.', 'PRINCE CHARMING_           Once upon a time, someone decided\\n\\n           that we were the losers. But there\\n\\n           are two sides to every story. And\\n\\n           our side has not been told.', 'PRINCE CHARMING_           So who will join me? Who wants to\\n\\n           come out on top for once? Who\\n\\n           wants their happily ever after?!', \"PUSS_           It's out of my hands senorita, the\\n\\n           winds of fate have blown on my\\n\\n           destiny. But I will never forget\\n\\n           you. You are the love of my life.\", 'PUSS_           As are you...', 'PUSS_           And you.', \"PUSS_           And, uh... hi. I don't know you,\\n\\n           but I'd like to. I gotta go.\", \"DONKEY_           I know, I know... I don't want to\\n\\n           leave you either baby, but you know\\n\\n           how Shrek is. The dude's lost\\n\\n           without me.\", \"DONKEY_           But don't worry. I'll send you\\n\\n           airmail kisses everyday!\", \"DONKEY_           Alright, be strong babies! Be\\n\\n           strong. Now, Coco, Peanut, you\\n\\n           listen to Mama, alright? And\\n\\n           Bananas, no more roastin'\\n\\n           marshmallows on your sister's head.\", \"DONKEY_           Ah, that's my special boy. Oh,\\n\\n           come over here, all of you. Give\\n\\n           your Daddy a big hug!\", 'FIONA_           Shrek, maybe you should just stay\\n\\n           and be King.', \"SHREK_           Oh, c'mon, there's no way I could\\n\\n           ever run a kingdom. That's why your\\n\\n           cousin Arthur's the perfect choice.\", \"FIONA_           It's not that. No. It's, you\\n\\n           see...\", \"SHREK_           And if he gives me any trouble,\\n\\n           I've always got persuasion and\\n\\n           reason.\\n\\n\\n\\n           Here's persuasion,\\n\\n\\n\\n           and here's reason.\", \"SHREK_           Fiona, soon it's just gonna be you\\n\\n           and me and our swamp.\", \"FIONA_\\n\\n           It's not going to be just you and\\n\\n           me.\", 'SHIP CAPTAIN_           All aboard!', 'SHREK_           It will be. I promise. I love\\n\\n           you.', \"FAIRYTALE CREATURES_           Awwwwwwwww!\\n\\n                          PIG #1\\n\\n           That's lovely.\", 'DONKEY_           Bye bye babies!', 'FIONA_           Shrek!', 'SHREK_           Yeah?', 'FIONA_           Wait!', 'SHREK_           What is it?', \"FIONA_           I'm, I'm-\", 'SHREK_\\n\\n           I love you too honey!', \"FIONA_           No... No, I said I'm pr-\", \"SHREK_           You're what?!\", \"FIONA_           I said I'm pregnant!\", 'SHREK_\\n\\n           Uh... what was that?', \"FIONA_           You're going to be a father!\", \"SHREK_\\n\\n           That's great.\", \"FIONA_           Really? I'm glad you think so! I\\n\\n           love you.\", 'SHREK_           Yeah...\\n\\n\\n\\n           Me too... you...', \"DONKEY_           I'm gonna be an Uncle. I'm gonna\\n\\n           be an Uncle! I'm gonna be an\\n\\n           Uncle!\", 'PUSS_           Oh, and you my friend are royally--', 'SHREK_           Ahhh. Home.', 'SHREK_           Woohoo!', 'SHREK_           Ahh.', 'FIONA_           Shrek!?', 'SHREK_           Ooo.\\n\\n', 'SHREK_           Fiona!', 'SHREK_           Fiona?', 'SHREK_           Huh? Oh no.', 'SHREK_\\n\\n           Better out than in, I always say.\\n\\n           Ha ha!', 'OGRE BABY_           Hiccup!', \"SHREK_           No, no, no, no, no, no. Ha, ha.\\n\\n           It's okay. It's gonna be alright.\", 'OGRE BABY_           Da-Da!', 'SHREK_           Hey! Hey, hey, wait! Would ya?\\n\\n           No, no. Stop! Hey, hey, hey. No.', 'SHREK_           Huh?', 'OGRE BABY_           Bubabatoo?', 'SHREK_           Ahhhh! Oh, Donkey! Donkey, wake-\\n\\n           up!', 'DONKEY_\\n\\n           Da-da!', 'SHREK_           Ahhhh!', 'DONKEY_           Shrek. Shrek, are you okay?', \"SHREK_           Oh... I can't believe I'm going to\\n\\n           be a father.\", 'SHREK_           How did this happen?', 'PUSS_           Allow me to explain. You see, when\\n\\n           a man has certain feelings for a\\n\\n           woman, a powerful urge sweeps over\\n\\n           him...', \"SHREK_           I know how it happened. I just\\n\\n           can't believe it.\", 'DONKEY_           How does it happen?', \"DONKEY_\\n\\n           And the cat's in the cradle and the\\n\\n           silver spoon,\\n\\n\", 'DONKEY_           Little boy blue and the man in the\\n\\n           moon.', 'DONKEY_           \"When you coming home, son?\" \"I\\n\\n           don\\'t know when,\\n\\n           But we\\'ll get together then, Dad-\"', \"SHREK_           Donkey, can you just cut to the\\n\\n           part where you're supposed to make\\n\\n           me feel better?\", \"PUSS_           You know I love Fiona, Boss.\\n\\n           Right?\\n\\n\\n\\n           But what I'm talking about here is\\n\\n           you, me, my cousin's boat, an ice-\\n\\n           cold pitcher of mojitos, and two\\n\\n           weeks of nothing but fishing.\", \"DONKEY_           Man, don't you listen to him.\\n\\n           Having a baby is not going to ruin\\n\\n           your life.\", \"SHREK_           It's not my life I'm worried about\\n\\n           ruining. It's the kid's.\", 'SHREK_           I mean...when have you ever heard\\n\\n           the phrase \"as sweet as an...ogre\"\\n\\n           or \"as nurturing as...an ogre\" Or\\n\\n           how `bout...\"you\\'re gonna\\' love my\\n\\n           dad...he\\'s a real ogre.\"', 'DONKEY_           Okay, okay I get it! Nobody said\\n\\n           it was going to be easy. But at\\n\\n           least you got us to help you out.', \"SHREK_           That's true.\", \"SHREK_           I'm doomed.\", \"DONKEY_           You'll be fine.\", \"SHIP CAPTAIN_           You're finished.\", 'SHIP CAPTAIN_           Uh, with your journey.', 'DONKEY_           Wor-ces-ter-shireee. Now that\\n\\n           sounds fancy.', \"SHREK_           It's Worcestershire.\", \"DONKEY_           Like the sauce!? Mmmm... It's\\n\\n           spicy!\", 'DONKEY_           Oohh! They must be expecting us.', 'DONKEY_           What in the shista-shire kind of\\n\\n           place is this?', 'SHREK_           Well, my stomach aches and my palms\\n\\n           just got sweaty. Must be a high\\n\\n           school.', 'DONKEY_           High school?!', 'CHEERLEADERS_           Ready?! Okay! Where for art thou\\n\\n           headed, to the top? Yeah we think\\n\\n           so, we think so! And dost thou\\n\\n           thinkest thine can be stopped? Nay\\n\\n           we thinks not! We thinks not!', 'DRIVERS ED INSTRUCTOR_           All right Mr. Percival, just ease\\n\\n           up on the reigns-', \"VAN STUDENT_\\n\\n           For lo bro, don't burn all my\\n\\n           frankincense and myrrh.\", \"DONKEY_           I'm already starting to feel\\n\\n           nauseous from memories of wedgies\\n\\n           and swirlies!\", 'PUSS_           But how did you receive the wedgies\\n\\n           when you are clearly not the wearer\\n\\n           of the underpants?', \"DONKEY_           Let's just say some things are\\n\\n           better left unsaid and leave it at\\n\\n           that.\", 'GUINEVERRE_           So then I was all like \"I\\'d rather\\n\\n           get the black plague and lock\\n\\n           myself in an iron maiden than go\\n\\n           out with you.\"', 'TIFFANY_           Eh, totally.', 'SHREK_           Pardon me...', 'GUINEVERRE_           Eh! Totally ew-th!', 'TIFFANY_           Yeah, totally!', 'GARY_           Yes! I just altered my character\\n\\n           level to plus three superbability.', \"SHREK_           Hi, we're looking for someone named-\", 'GARY_           Gee, who rolled a plus nine \"dork\"\\n\\n           spell and summoned the beast and\\n\\n           his quadrupeds.', 'XAVIER_           Ha! Ha!\\n\\n\\n\\n           Ah!', 'SHREK_           I know you\\'re busy \"not fitting in\"\\n\\n           but can either of you tell me where\\n\\n           I can find Arthur?', \"GARY_           He's over there.\", 'KNIGHT_           Ha ha! There is no sweeter taste\\n\\n           on thy tongue than victory!', 'JOCKS_           Oy! Right! Ooo! Ooo! Ooo!', 'SHREK_           Strong, handsome, face of a leader.\\n\\n           Does Arthur look like a King or\\n\\n           what?', 'TEENAGER_           Ow.', 'SHREK_           Oh. Sorry.', 'TEENAGER_           Did you just say you were looking\\n\\n           for Arthur?', 'PUSS_           That information is on a need to\\n\\n           know basis.', \"DONKEY_           It's top secret, hushity hush.\", \"KNIGHT_           Now gentlemen let's away... to the\\n\\n           showers!\", 'JOCKS_           Oy! Right! Ooo! Ooo!', 'SHREK_           Greetings your majesty. This is\\n\\n           your lucky day.', 'KNIGHT_           So what for like are you supposed\\n\\n           to be? Some kind of giant mutant\\n\\n           leprechaun or something?', 'SHREK_           Oh, ho, ho, ho. Giant mutant\\n\\n           leprechaun... You made a funny.', 'KNIGHT_           Unhand me, monster!', 'SHREK_           Stop squirming, Arthur.', \"KNIGHT_           I'm not Arthur!\", 'LANCELOT_           I am Lancelot.', 'LANCELOT_           That dork over there is Arthur!', 'SHREK_           Hey!', 'LANCELOT_           Aaah.', 'GUINEVERRE_           Ahem! This is like totally\\n\\n           embarrassing, but my friend Tiffany\\n\\n           thinkest thou vex her so soothly...', 'GUINEVERRE_           And she thought perchance thou\\n\\n           would wanna ask her to the\\n\\n           Homecoming Dance or something...', 'SHREK_           Uh, excuse me?', \"GUINEVERRE_           It's like whatever. She's just\\n\\n           totally into college guys and\\n\\n           mythical creatures and stuff.\", 'SHREK_           Oh Arthur! Come out, come out\\n\\n           wherever you are...', 'DONKEY_           Yeah, you better run, you little\\n\\n           punk no good-niks, `cause the days\\n\\n           of \"Little Donkey Dumpy Drawers\"\\n\\n           are over!', 'HALL MONITOR_           Hold it...', \"SHREK_\\n\\n           We're here for the Mascot Contest\\n\\n           too.\", 'HALL MONITOR_\\n\\n           This is a costume?', 'SHREK_\\n\\n           Aaaiyyyy... worked on it all night\\n\\n           long!', 'HALL MONITOR_           Looks pretty real to me.', 'PUSS_           If it were real could I do this?', 'DONKEY_           Or this?', \"SHREK_\\n\\n           He's right! If it were real that\\n\\n           would have been agonizingly\\n\\n           painful!\", 'DONKEY_           Now watch this....', \"SHREK_\\n\\n           That's quite enough boys.\", 'PRINCIPAL PYNCHLEY_           Thank you to Professor Primbottom\\n\\n           for his invigorating lecture on how\\n\\n           to just say \"nay\".', 'PRINCIPAL PYNCHLEY_           And now, without further ado, let\\'s\\n\\n           give a warm Worcestershire-hoozah\\n\\n           to the winner of our \"New Mascot\"\\n\\n           contest... the--', 'PRINCIPAL PYNCHLEY_           --ogre?', \"SHREK_           That's right. I'm the new mascot.\\n\\n           So let's really try and beat the\\n\\n           other guys... at whatever it is\\n\\n           they're doing.\", 'PRINCIPAL PYNCHLEY_           This is indeed all a bit\\n\\n           unorthodox.', 'SHREK_           Now, where can I find Arthur\\n\\n           Pendragon?', 'LANCELOT_           Classic.', 'DONKEY_           You should be ashamed of yourself.', \"LANCELOT_           I didn't do it. They did.\", \"ARTIE_           Please don't eat me.\", 'STUDENTS_\\n\\n           Eat him! Eat him!', 'PRINCIPAL PYNCHLEY_           Eat him!', \"SHREK_           I'm not here to eat him.\", 'STUDENTS_           AWWW.', \"SHREK_           It's time to pack up your\\n\\n           toothbrush and jammies. You're the\\n\\n           new King of Far Far Away.\", 'ARTIE_           What?', 'LANCELOT_           Artie a King? More like the Mayor\\n\\n           of Loserville.', 'BOHORT_           Nice one Lance!', 'LANCELOT_           Burn.', 'ARTIE_           Is this for real?', \"SHREK_           Absolutely. Now clean out your\\n\\n           locker, kid. You've got a kingdom\\n\\n           to run.\", \"ARTIE_           So wait, I'm really the only heir?\", 'SHREK_           The one and only.', 'ARTIE_           Give me just a second.', \"ARTIE_           My good people, I think there's a\\n\\n           lesson here for all of us. Maybe\\n\\n           the next time you're about to dunk\\n\\n           a kid's head in a chamber pot,\\n\\n           you'll stop and think, hey, maybe\\n\\n           this guy has feelings. Maybe I\\n\\n           should cut him some slack. Because\\n\\n           maybe, just maybe... this guy's\\n\\n           gonna turn out to be, uh...I\\n\\n           dunno...a King! And maybe his\\n\\n           first royal decree will be to\\n\\n           banish everyone who ever picked on\\n\\n           him -- that's right, I'm looking at\\n\\n           you, jousting team.\", \"ARTIE_           And Gwen... oh Gwen. I've always\\n\\n           loved you.\", 'GUINEVERRE_           Ew.', 'ARTIE_           Well good friends, it breaks my\\n\\n           heart, but, enjoy your stay here in\\n\\n           prison while I rule the free world\\n\\n           baby!', \"SHREK_           Alright, let's not overdo it.\", \"ARTIE_           I'm building my city people! On\\n\\n           Rock and Roll!\", 'SHREK_           You just overdid it.', 'ARTIE_           Ow!', 'PRINCESSES_\\n\\n           Oh!', 'SNOW WHITE_           Look at you!', 'RAPUNZEL_           Wow!', 'SNOW WHITE_           You look darling!', 'SLEEPING BEAUTY_           Just precious! Look at her!', \"RAPUNZEL_           So, have you had any cravings since\\n\\n           you've been pregnant?\", 'FIONA_\\n\\n           No, no, not at all.', 'FIONA_           Do you smell ham?', \"SNOW WHITE_\\n\\n           Oooh! It's present time!\", \"CINDERELLA_           Oh, Fiona, won't you please open\\n\\n           mine first? It's the one in front.\", 'FIONA_\\n\\n           \"Congratulations on your new mess\\n\\n           maker...\" Oh, `mess maker.\\'\\n\\n\\n\\n           \"Hopefully this helps. Love,\\n\\n           Cinderella.\"', 'PRINCESSES_           Oooo! Aaaah!', 'DORIS_           Will you look at that!', 'SLEEPING BEAUTY_           What is it?', \"CINDERELLA_           It's for the poopies.\", 'SLEEPING BEAUTY_           Eww. Wait, babies poop?', 'RAPUNZEL_           Everyone poops Beauty.', 'PIGS_           Yah!', 'PRINCESSES_           Oooh.', \"GINGERBREAD MAN_           You know the baby's gonna love it\\n\\n           because I do!\", \"FIONA_           Oh, you guys, that's so sweet.\\n\\n           Thank you.\", \"FIONA_           Who's this one from?\", 'SNOW WHITE_           I got you the biggest one because I\\n\\n           love you the most.', 'FIONA_\\n\\n           \"Have one on me, love Snow White\"', 'FIONA_\\n\\n           Umm... what is it?', \"SNOW WHITE_           Ha, haaa! He's a live-in baby-\\n\\n           sitter.\", \"NANNY DWARF_           Where's the baby?\", \"FIONA_           You're too kind, Snow, but I can't\\n\\n           accept this.\", \"SNOW WHITE_           Think nothing of it. I've got six\\n\\n           more at home.\", 'FIONA_           What does he do?', 'CINDERELLA_           The cleaning.', 'SNOW WHITE_           The feeding.', 'NANNY DWARF_           The burping.', 'FIONA_           So what are Shrek and I supposed to\\n\\n           do?', \"RAPUNZEL_           Well, now you'll have plenty of\\n\\n           time to work on your marriage.\", \"FIONA_           Gee thanks Rapunzel, and what's\\n\\n           that supposed to mean?\", 'RAPUNZEL_           Oh, come on now, Fiona. You know\\n\\n           what happens.', \"SLEEPING BEAUTY_\\n\\n           Huh? You're tired all the time...\", \"SNOW WHITE_           You'll start letting yourself go...\", 'GINGERBREAD MAN_           Stretch marks!', 'RAPUNZEL_           Say goodbye to romance.', 'DRAGON_           Yort.', 'FIONA_           Um sorry... but how many of you\\n\\n           have kids?', \"DORIS_           She's right. A baby is only gonna\\n\\n           strengthen the love that Shrek and\\n\\n           Fiona have. How did Shrek react\\n\\n           when you told him? Tell me!\", 'FIONA_           Well, when he first found\\n\\n           out...Shrek said-', 'DRAGON_           Roarrr!', 'PRINCE CHARMING_\\n\\n           Onward my new friends.\\n\\n', 'PRINCE CHARMING_           To our happily ever afters! Ha ha\\n\\n           ha ha ha!', 'PRINCE CHARMING_           Gaa! Gulp! Ahhhh!', 'PRINCE CHARMING_           Now, bombs away!', 'EVIL TREES_           Ha ha ha ha ha ha!', \"CAPTAIN HOOK_           Well, well, well. If it isn't\\n\\n           Peter Pan.\", \"MOTHER_           His name's not Peter!\", 'CAPTAIN HOOK_           Shut it, Wendy!', 'MOTHER_           Ahhh!', 'CYCLOPS_           Ha, ha, ha, ha!', 'PRINCE CHARMING_           Enough pillaging! To the castle!', 'DRAGON_           Roarrrr!', 'GINGERBREAD MAN_\\n\\n           You go and take care of the baby!', \"SNOW WHITE_           Everybody stay calm. We're all\\n\\n           going to die!\", 'SNOW WHITE_', 'FIONA_           Everyone in! Now.', \"PRINCE CHARMING_           C'mon. Put some back into it\\n\\n           people!\", 'CYCLOPS_           Yee-haw! Ow.', \"FIONA_           We don't have time. Now go!\", 'QUEEN_           Quickly ladies!', \"GINGERBREAD MAN_           We'll hold them off as long as we\\n\\n           can!\", 'PRINCE CHARMING_           Where are Shrek and Fiona?', \"GINGERBREAD MAN_           Name doesn't ring a bell.\\n\\n                          PIG #1\\n\\n           Yah!\\n\\n                          PIG #2\\n\\n           No bell!\", 'PRINCE CHARMING_           I suggest you freaks cooperate with\\n\\n           the new King of Far Far Away.', 'GINGERBREAD MAN_           The only thing you\\'re ever gonna be\\n\\n           King of is \"King of the Stupids.\"', 'PRINCE CHARMING_           Hook!', 'CAPTAIN HOOK_           Right!', 'CAPTAIN HOOK_           Avast, ye cookie!', \"CAPTAIN HOOK_           Start talkin'!\", 'MUFFIN MAN_           Gingy!', 'GINGERBREAD MAN_           Papa!', 'TEACHER_           Settle down, now.', 'GINGERBREAD MAN_\\n\\n           \"On the Good Ship Lollypop,\\n\\n           It\\'s a sweet trip,\\n\\n           To the candy shop,\\n\\n           Where the Bon Bons play,\\n\\n           On the sunny beach of Peppermint\\n\\n           Bay..\"', \"PRINCE CHARMING_           You! You can't lie. So tell me\\n\\n           puppet... Where is Shrek?!\", \"PINOCCHIO_\\n\\n           Well, I don't know where he's not.\", \"PRINCE CHARMING_           You're telling me you don't know\\n\\n           where Shrek is?\", \"PINOCCHIO_           It wouldn't be inaccurate to assume\\n\\n           that I couldn't exactly not say\\n\\n           that is or isn't almost partially\\n\\n           incorrect.\", 'PRINCE CHARMING_           So you do know where he is!', \"PINOCCHIO_           On the contrary, I'm possibly more\\n\\n           or less, not definitely rejecting\\n\\n           the idea, that in no way, with any\\n\\n           amount of uncertainty that...\", 'PRINCE CHARMING_           Stop it.', \"PINOCCHIO_           ...I undeniably do or do not know\\n\\n           where he shouldn't probably be.\", \"PINOCCHIO_           If that indeed wasn't where he\\n\\n           isn't. Even if he wasn't not where\\n\\n           I knew he was could mean that I\\n\\n           wouldn't completely not know where\\n\\n           he wasn't.\", \"PRINCE CHARMING_           He's bringing back the next heir?\", 'PINOCCHIO_           No!', 'PRINCE CHARMING_           Hook! Get rid of this new \"King.\"', 'CAPTAIN HOOK_           Right!', 'PRINCE CHARMING_           But bring Shrek to me. I have\\n\\n           something special in mind for him.', \"PINOCCHIO_           He'll never fall for your tricks!\", 'WOLF_           Oh boy.', \"ARTIE_           I can't believe it... me a King?\\n\\n           I...I mean I knew I came from\\n\\n           royalty and all, but I just figured\\n\\n           everyone forgot about me.\", 'SHREK_           Oh no, in fact, the King asked for\\n\\n           you personally.', \"ARTIE_           Really? Wow! Look, I know it's not\\n\\n           all gonna be fun and games.\", 'SHREK_           It really is all fun and games,\\n\\n           actually. Sure, you have to knight\\n\\n           a few heroes, launch a ship or two.\\n\\n           By the way, make sure you hit the\\n\\n           boat just right with the bottle.', 'ARTIE_           Boat with the bottle? Any idiot\\n\\n           can hit a boat with a bottle.', \"SHREK_           Well, I've heard it's harder than\\n\\n           it looks.\", 'ARTIE_           Whoa!! This is gonna be huge.\\n\\n           Parties, princesses, castles...\\n\\n           princesses.', \"DONKEY_           It's gonna be great, Artie. You'll\\n\\n           be living in the lap of luxury.\\n\\n           They got the finest chefs around\\n\\n           waiting for you to place your\\n\\n           order.\", \"PUSS_           And fortunately you'll have the\\n\\n           royal food tasters.\", 'ARTIE_)\\n\\n           Oh yeah? What do they do?', \"PUSS_           They taste the food before the King\\n\\n           eats, to make sure it's not\\n\\n           poisoned.\", 'ARTIE_           Poisoned?', 'SHREK_           Or too salty!', \"DONKEY_\\n\\n           Don't worry about it. You'll be\\n\\n           safe and sound with the help of\\n\\n           your body guards.\", 'ARTIE_           Body guards?', \"PUSS_           All of them, willing at a moment's\\n\\n           notice to lay down their own lives\\n\\n           out of devotion to you.\", 'ARTIE_           Really?', 'PUSS_           Si, and the whole kingdom will look\\n\\n           to you for wisdom and guidance.', \"DONKEY_           Just make sure they don't die of\\n\\n           famine.\", 'PUSS_           Or plague.', 'DONKEY_           Oh, plague is bad.', 'PUSS_           The coughing, the groaning, the\\n\\n           festering sores.', 'SHREK_           Oh! Festering sores! Hey, you are\\n\\n           one funny kitty cat.', 'PUSS_           What did I say?', \"SHREK_           We don't want Artie here getting\\n\\n           the wrong idea.\", 'SHREK_           Uh, Artie?', 'ALL_           Whoa!', 'SHIP CAPTAIN_           Whoa! Oh, there goes my hip.', 'SHREK_           Artie!', 'SHREK_           What are you doing?!', 'ARTIE_           What does it look like?!', \"SHREK_           This really isn't up to you!\", \"ARTIE_           But I don't know anything about\\n\\n           being King!\", \"SHREK_           You'll learn on the job!\", 'DONKEY_           Whoaaa!', \"ARTIE_           Sorry to disappoint you, but I'm\\n\\n           going back!\", 'SHREK_           Back to what? Being a loser?!', 'SHREK_           Now look what you did!', \"ARTIE_           Look what I did? Who's holding the\\n\\n           wheel chief?\", 'DONKEY_\\n\\n           Shrek!', 'SHIP CAPTAIN_           Land ho!', 'PUSS_           How humiliating...', 'SHREK_           Oh, nice going, Your Highness.', 'ARTIE_           Oh, so now it\\'s \"Your highness?\"\\n\\n           What happened to \"loser?\" Huh?', \"SHREK_           Hey, if you think this is getting\\n\\n           you out of anything, well it isn't.\\n\\n           We're heading back to Far Far Away\\n\\n           one way or another, and you're\\n\\n           gonna be a father!\", 'ARTIE_           What?', 'DONKEY_\\n\\n           A-hem. You just said father...', \"SHREK_           You're... I said king. You're\\n\\n           gonna be King!\", 'ARTIE_\\n\\n           \"You\\'re gonna be King!\" Yeah\\n\\n           right.', \"SHREK_           Where do you think you're going?\", 'ARTIE_           Far Far Away... from you!', 'SHREK_           You get back here young man and I\\n\\n           mean it!', \"PUSS_           Uh boss, I don't think he's coming\\n\\n           back and maybe it's for the best.\\n\\n           He is not exactly king material.\", 'DONKEY_           When were you planning on telling\\n\\n           him that you were really supposed\\n\\n           to be King?', \"SHREK_           Oh c'mon, now why would I do that?\\n\\n           Besides, he'll be ten times better\\n\\n           at it than me.\", \"DONKEY_           Hey, woah ho ho, Shrek. Then\\n\\n           you're gonna have to change your\\n\\n           tactics if you want to get anywhere\\n\\n           with this kid.\", \"SHREK_           You're right, Donkey.\", 'SHREK_           What about this?', 'DONKEY_           Shrek!', \"SHREK_           Oh c'mon. It's just a joke.\\n\\n\\n\\n           Still...\", 'SHREK_           Listen Artie...', \"SHREK_           If you think this whole mad scene\\n\\n           ain't dope, I feel you dude. I\\n\\n           mean, I'm not trying to get up in\\n\\n           your grill or raise your roof or\\n\\n           whatever, but what I am screaming\\n\\n           is, yo, check out this kazing\\n\\n           thazing bazaby.\", \"SHREK_           I mean, if it doesn't groove or\\n\\n           what I'm saying ain't straight\\n\\n           trippin', just say, oh no you\\n\\n           didn't, you know, you're gettin' on\\n\\n           my last nerve. And then I'll know\\n\\n           it's... then I'll know it's whack--\", \"ARTIE_           SOMEBODY HELP! I'VE BEEN KIDNAPPED\\n\\n           by a monster trying to relate to\\n\\n           ME!\", 'SHREK_           Artie! Wait!', \"ARTIE_           C'mon! C'mon! Help! Help!\\n\\n           Hello?\", 'DONKEY_           AHHHH!', 'WIZARD HEAD_           Greetings cosmic children of the\\n\\n           universe, and welcome to my\\n\\n           serenity circle!', 'WIZARD HEAD_           Please leave any bad vibes outside\\n\\n           the healing vortex. And now\\n\\n           prepare ...', 'MERLIN_           I knew I should of gotten that\\n\\n           warranty!', 'MERLIN_           AHH! Ow, ow, ow, ow, ow.', 'ARTIE_           Mr. Merlin?', 'SHREK_           You know this guy?', \"ARTIE_           Yeah. He was the school's magic\\n\\n           teacher until he had his nervous\\n\\n           breakdown.\", 'MERLIN_           Uh, technically I was merely a\\n\\n           victim of a level three fatigue,\\n\\n           and at the request of my therapist\\n\\n           and the school authorities, I have\\n\\n           retired to the tranquility of\\n\\n           nature to discover my divine\\n\\n           purpose.', 'MERLIN_           Now, can I interest anyone in a\\n\\n           snack or beverage?', 'SHREK_           Uh, no.', \"MERLIN_           Sure you don't wanna try my famous\\n\\n           rock au-gratin?\", \"MERLIN_           It's organic!\", 'SHREK_           Oh, thanks, I just ate a boulder on\\n\\n           the way in. What we need are\\n\\n           directions back to Far Far Away.', 'ARTIE_           What\\'s with the \"we\"? Who said I\\n\\n           was going with you?', \"SHREK_           Oh, I did. Cause there's a lot of\\n\\n           people counting on you so don't try\\n\\n           and weasel out of it.\", \"ARTIE_           If it's such a great job, why don't\\n\\n           you do it?\", \"SHREK_           Understand this kid, it's no more\\n\\n           Mr. Nice Guy from here on out!\", 'ARTIE_           Oh, so that was your \"Mr. Nice\\n\\n           Guy?\"', \"SHREK_           I know, and I'm gonna miss him.\", \"ARTIE_           You know what? Why don't you go\\n\\n           terrorize a village and leave me\\n\\n           alone?\", 'SHREK_           Oh, is that some kind of crack\\n\\n           about ogres? You get your royal\\n\\n           highness to Far Far Away before I\\n\\n           kick it there.\\n\\n\\n\\n           Now which way am I kicking?', \"MERLIN_           Oh, I could tell you. But since\\n\\n           you're in the midst of self-\\n\\n           destructive rage spiral it would be\\n\\n           karmic-ly irresponsible.\", 'SHREK_           Self-destructive ra...\\n\\n\\n\\n           Look, are you gonna help us or not?', 'MERLIN_           Most definitely, but only after you\\n\\n           take the journey to your soul.', \"SHREK_           Yeah, I don't think so.\", \"MERLIN_           Look pal, it's either that or some\\n\\n           primal scream therapy.\\n\\n           Ahhhhhhhhhh!\", 'SHREK_           Alright, alright... journey to the\\n\\n           soul...', 'MERLIN_           Now all of you, look into the \"Fire\\n\\n           of Truth\" and tell me what you see!\\n\\n           Yah! Ha!\\n\\n\\n\\n           Woo-looo-looo-looo!', 'DONKEY_           Ooo! Charades! Okay, I see a\\n\\n           dutch fudge torte with cinnamon\\n\\n           swirls.', 'MERLIN_           Okay. Monster, go for it.', 'SHREK_           I see a rainbow pony.', 'MERLIN_           Excellent work!\\n\\n\\n\\n           Now! The boy!', 'ARTIE_           This is lame.', 'ARTIE_           Ow!', \"MERLIN_           You're lame! Now just go for it.\", \"ARTIE_           Okay. There's a baby bird and a\\n\\n           father bird sitting in a nest.\", 'MERLIN_           Yes! Stay with it! Stay with it!', 'ARTIE_           Wait, the dad just flew away. Why\\n\\n           did he leave the little bird all\\n\\n           alone?', \"ARTIE_           It's trying to fly, but it doesn't\\n\\n           know how to. It.. it's gonna fall!\", \"MERLIN_           Whew, proper head case you are,\\n\\n           aren't you? Really messed up.\\n\\n           Whoa.\", \"ARTIE_           Yeah, yeah, okay. I get it. The\\n\\n           bird's me. My dad left. So what?\", 'SHREK_\\n\\n           Look Artie...um-', \"MERLIN_\\n\\n           Just thought I might help set the\\n\\n           mood! Y'know for your big heart to\\n\\n           heart chat!\", \"SHREK_           I know what it's like to not feel\\n\\n           ready for something.\", 'SHREK_           Even ogres get scared...you know,\\n\\n           once in a while.', \"ARTIE_           I know you want me to be king, but\\n\\n           I can't. I'm not cut out for it and\\n\\n           I never will be, alright?\", \"ARTIE_           Even my own dad knew I wasn't worth\\n\\n           the trouble. He dumped me at that\\n\\n           school the first chance he got and\\n\\n           I never heard from him again.\", \"SHREK_           My dad wasn't really the fatherly\\n\\n           type either.\", 'ARTIE_           Well, I doubt he was worse than\\n\\n           mine.', 'SHREK_           Oh yeah? My father was an ogre.\\n\\n           He tried to eat me.', 'SHREK_           Now, I guess I should have seen it\\n\\n           coming. He used to give me a bath\\n\\n           in barbecue sauce and put me to bed\\n\\n           with an apple in my mouth.', \"ARTIE_           Okay... I guess that's... pretty\\n\\n           bad.\", 'SHREK_           You know, it may be hard to believe\\n\\n           what with my obvious charm and good\\n\\n           looks, but people used to think\\n\\n           that I was a monster. And for a\\n\\n           long time, I believed them.', 'SHREK_           But after awhile, you learn to\\n\\n           ignore the names that people call\\n\\n           you and you just trust who you are.', \"ARTIE_           You know, you're okay, Shrek.\", 'ARTIE_           You just need to do a little less\\n\\n           yelling and use a little more soap.', 'SHREK_           Thanks Artie.', \"ARTIE_           The soap's because you stink.\\n\\n           Really bad.\", 'SHREK_           Yeah. I got that.', 'CINDERELLA_           Oh this place is filthy. I feel\\n\\n           like a hobo.', \"SNOW WHITE_           I'm sorry but this just isn't\\n\\n           working for me.\", \"SLEEPING BEAUTY_           Everything's always about you,\\n\\n           isn't it? It's not like your\\n\\n           attitude is helping, Snow.\", 'SNOW WHITE_           Well maybe it just bothers you that\\n\\n           I was voted fairest in the land.', 'RAPUNZEL_           You mean in that rigged election?', 'SNOW WHITE_           Oh, give me a break.\\n\\n\\n\\n', 'SNOW WHITE_           \"Rapunzel, Rapunzel, let down thy\\n\\n           golden extensions!\"', \"QUEEN_           Ladies, let go of your petty\\n\\n           complaints and let's work together.\", 'SNOW WHITE_           So I guess the plan is we just\\n\\n           wander aimlessly in this stink hole\\n\\n           until we rot.', \"FIONA_           No, we're gonna get inside and find\\n\\n           out what Charming's up to.\", \"DORIS_           I know he's a jerk and everything,\\n\\n           but I gotta admit, that Charming\\n\\n           makes me hotter than July.\", 'SLEEPING BEAUTY_           Ew!', 'RAPUNZEL_           Ugh.', \"FIONA_           That's it!\", 'RAPUNZEL_           Come on, this way!', 'FIONA_           Rapunzel. Wait!', 'FIONA_           Charming, let go of her.', 'PRINCE CHARMING_           But why would I want to do that?', 'RAPUNZEL_           Grrrr!', 'PRINCE CHARMING_           Woof!', 'FIONA_           What?', 'PRINCE CHARMING_           Say hello ladies, to the new Queen\\n\\n           of Far Far Away.', 'CINDERELLA_           Yaaaaaaaaay!', 'FIONA_           Rapunzel, how could you?', 'RAPUNZEL_           Jealous much?', \"PRINCE CHARMING_           Soon you'll be back where you\\n\\n           started... scrubbing floors or\\n\\n           locked away in towers; that is, if\\n\\n           I let you last the week.\", \"RAPUNZEL_           But Pooky, you promised you\\n\\n           wouldn't hurt them!\", 'PRINCE CHARMING_           Not here, \"kitten whiskers.\" Daddy\\n\\n           will discuss it later. Now forgive\\n\\n           us, we have a show to put on.', \"FIONA_           Shrek will be back soon Charming,\\n\\n           and you'll be sorry.\", \"PRINCE CHARMING_           Sorry? Don't you realize --once\\n\\n           Shrek sets foot in Far Far Away\\n\\n           he's doomed?\", 'ARTIE_           Ow!', 'DONKEY_           Ahhh!', \"DONKEY_           Look out! They've got a piano!\", 'CAPTAIN HOOK_           Kill `em all. Except the fat one.', 'CAPTAIN HOOK_           King Charming has something special\\n\\n           in mind for you, ogre.', 'SHREK_           \"King Charming?\"', 'CAPTAIN HOOK_           Attack!', 'PIRATES_           AAAARGH!', 'SHREK_           Artie, Duck!', 'DONKEY_           Ahhh!', 'CAPTAIN HOOK_           Ha-ha! Argh!', 'PIRATES_           Argh! Argh!', 'CAPTAIN HOOK_           Ready the plank!', 'DONKEY_           Shrek!', 'ARTIE_           Help!', 'CAPTAIN HOOK_           Ya cowards!', 'SHREK_           What has Charming done with Fiona?', \"CAPTAIN HOOK_           She's gonna get what's coming to\\n\\n           her.\", \"CAPTAIN HOOK_           Ahhh.\\n\\n\\n\\n           And there ain't nothing you can do\\n\\n           to stop him!\", \"PUSS_           We've got to save her!\", \"DONKEY_           But she's so far far away!\", 'SHREK_           Get yourself back to\\n\\n           Worcestershire, kid.', \"ARTIE_           No, Shrek. Hold on a second. I've\\n\\n           got an idea.\", \"MERLIN_\\n\\n           I'm a buzzing bee, buzz, buzz,\\n\\n           buzz...\", 'ARTIE_           Mr. Merlin, they need a spell to\\n\\n           get them...I mean, us, back to Far\\n\\n           Far Away.', \"MERLIN_\\n\\n           Forget it. I don't have that kind\\n\\n           of magic in me anymore, kid. How\\n\\n           about a hug instead? Hmm? That's\\n\\n           the best kind of magic.\", 'ARTIE_           Mr. Merlin please. I know you can\\n\\n                          DO IT-', 'MERLIN_           I said, forget it!', 'ARTIE_                          BUT-', 'MERLIN_           Mumble, grumble, interrupt my\\n\\n           healing. Mumble, mumble.', \"MERLIN_           Oh. What, what's with you?\", \"ARTIE_           It's just so hard. You know? They\\n\\n           really need to get back `cause\\n\\n           their kingdom's in trouble `cause\\n\\n           there's a really bad man and it's\\n\\n           just so hard...\", \"MERLIN_           C'mon, take it easy.\", \"ARTIE_           No! I don't think you understand!\\n\\n           There's a mean person doing mean\\n\\n           things to good people-\", 'SHREK_           Oh, have a heart old man!', \"ARTIE_           And they really need your help to\\n\\n           get them back! So why won't you\\n\\n           help them?\", 'MERLIN_           Oh.', \"MERLIN_           Uh, Okay... I'll go and get my\\n\\n           things.\", 'ARTIE_           Piece of cake.', 'SHREK_           Well, well, well. You want some\\n\\n           eggs with that ham?', 'MERLIN_           Now, I am a little rusty, so there\\n\\n           could be some side effects.', 'DONKEY_           Side effects!?', \"MERLIN_           Don't worry, whatever it is, no\\n\\n           matter how excruciatingly painful\\n\\n           it may be, it'll wear off\\n\\n           eventually... I think.\", 'DONKEY_           Ah!', 'MERLIN_           Oops.', 'DONKEY_           Are you sure this is a good idea?', \"SHREK_           Look, if Artie trusts him, that's\\n\\n           good enough for me. Even if his\\n\\n           robe doesn't quite cover his-\", \"MERLIN_           Alacraticious expeditious, a zoomy\\n\\n           zoom zoom. Let's help our friends\\n\\n           get back, um... soon!\", 'MERLIN_           Woah! It worked!', 'DONKEY_', \"DONKEY_\\n\\n           Oh man, I haven't been on a trip\\n\\n           like that since college.\", 'SHREK_           Donkey?', 'DONKEY_\\n\\n           What? Is there something in my\\n\\n           teeth?', 'DONKEY_\\n\\n           Huh? What the?\\n\\n\\n\\n           Oh no!', \"DONKEY_\\n\\n           I've been abracadabra'd into a\\n\\n           fancy feasting second rate\\n\\n           sidekick.\", \"PUSS_\\n\\n           At least you don't look like some\\n\\n           kind of bloated roadside pinata.\\n\\n           You really should think about going\\n\\n           on a diet!\", 'DONKEY_\\n\\n           Yeah, and you should think about\\n\\n           getting yourself a pair of pants!\\n\\n           I feel all exposed and nasty.', 'DONKEY_\\n\\n           Oh, so you two think this is funny?', \"ARTIE_\\n\\n           I'm really sorry guys.\", \"SHREK_           Don't be! You got us back kid.\", 'DONKEY_\\n\\n           Ow, ow, ow, ow, ow. How in the\\n\\n           Hans Christian Andersen am I\\n\\n           supposed to parade around in these\\n\\n           goofy boots?', 'PUSS_           Be very careful with those - HEE\\n\\n           HAW!', 'PUSS_           They were made in Madrid by the\\n\\n           finest- HEE HAW!', \"DONKEY_\\n\\n           Oh, you'll learn to control that.\", 'DONKEY_           Seriously man, you need some\\n\\n           comfort inserts or arch supports or\\n\\n           something.\\n\\n\\n\\n           Woah!', 'EVIL WITCHES_           Woohoo!!', 'SHREK_           Pinocchio?', 'PINOCCHIO_           Shrek!', 'SHREK_           Pinocchio!', 'PINOCCHIO_           Help me!', \"SHREK_           What's happened?\", \"PINOCCHIO_           Charming and the Villains have\\n\\n           taken over everything! They\\n\\n           attacked us but Fiona and the\\n\\n           Princesses got away. And now she's-\\n\\n                          -\", \"SHREK_           She's what?! She's what!?\", 'SHREK_\\n\\n           Puss, loan me five bucks!', \"DONKEY_           C'mon Puss, you heard the man, help\\n\\n           a brother out.\", 'PUSS_\\n\\n           Do you see any pockets on me?', 'DONKEY_\\n\\n           Hold on a second.', 'DONKEY_\\n\\n           Aha!', 'PUSS_\\n\\n           I had no idea ...really ...I swear.', 'SHREK_           Quick, Pinocchio. Where is Fiona?', \"PINOCCHIO_           Charming's got her locked away some\\n\\n           place secret. You gotta find him!\\n\\n           He's probably getting ready for the\\n\\n                          SHOWWWW---\", 'SHREK_           Wait, wait, wait! Pinocchio! What\\n\\n           show?', \"PUSS_\\n\\n           It's A Happily Ever After, After\\n\\n           All!\", \"SHREK_           Shrek's final performance.\", \"DONKEY_\\n\\n           Whoa, Shrek! You didn't tell us\\n\\n           you were in a play.\", \"SHREK_           Well I guess I've been so busy I\\n\\n           forgot to mention it!\\n\\n           GUARD #1\\n\\n           It's the ogre! Get him!\", \"PUSS_\\n\\n           Don't worry, Jefe. I got this.\", \"ARTIE_           Look, don't you know who he thinks\\n\\n           he is? How dare you?\", \"SHREK_           Donkey, we're dealing with\\n\\n           amateurs.\", \"ARTIE_           He's a star people! Hello?! I'm so\\n\\n           sorry about this Mr. Shrek.\", \"SHREK_           I'm gonna lose it!\", 'ARTIE_           I assume you have everything ready\\n\\n           for tonight! You did get the list\\n\\n           for the dressing room?', 'DONKEY_\\n\\n           Yeah, the breakfast croissants\\n\\n           stuffed with seared sashimi tuna.\\n\\n           Oh, and please tell me you at least\\n\\n           have the saffron corn with the\\n\\n           jalapeno honey butter cause our\\n\\n           client cannot get into his proper\\n\\n           emotional state without his\\n\\n           jalapeno honey butter.', 'SHREK_           I just lost it!\\n\\n                          GUARD #1\\n\\n           Uh...Maybe they should talk to\\n\\n           Nancy in Human Resources.', \"PUSS_\\n\\n           Oh, we'll have much to say to\\n\\n           Nancy, I promise!\", 'PRINCE CHARMING_\\n\\n           With this sword, I do- No.', 'PRINCE CHARMING_           With this sword, I do smote thee!', 'PRINCE CHARMING_ )\\n\\n           Is that the right word? \"Smote?\"\\n\\n           \"Smooote.\" Is that even a word\\n\\n           actually? Maybe I should just\\n\\n           smite him.', \"PRINCE CHARMING_           Let's try this again. Now...\", 'PRINCE CHARMING_\\n\\n           Shrek attacks me, I pretend to be\\n\\n           afraid.\\n\\n\\n\\n           Ooh!!!', 'PRINCE CHARMING_           I say...\\n\\n\\n\\n           \"Finally the Kingdom will get the\\n\\n           happily ever after they deserve,\\n\\n           die Ogre\", blah, blah, blah...', \"PRINCE CHARMING_           Oh! It just doesn't feel real\\n\\n           enough yet!\", 'PRINCE CHARMING_           Who told you to stop dancing?!', 'CYCLOPS_           Uh... Wink and turn, wink and turn.', 'PRINCE CHARMING_           And what are you laying around for?\\n\\n           Get up! Honestly.', \"PRINCE CHARMING_           Our happily ever after is nearly\\n\\n           complete, mummy. And I assure you,\\n\\n           the people of this kingdom will pay\\n\\n           dearly for every second we've had\\n\\n           to wait.\", 'SHREK_           Break a leg. Or, on second\\n\\n           thought, let me break it for you.', \"PRINCE CHARMING_           Thank goodness you're here. I was\\n\\n           beginning to think you might not\\n\\n           make it back in... time.\", \"SHREK_           Where's Fiona?\", \"PRINCE CHARMING_           Don't worry. She and the others\\n\\n           are safe. For now.\", 'ARTIE_           Ow.', 'PRINCE CHARMING_           Let me guess... Arthur?', \"ARTIE_           It's Artie, actually.\", 'PRINCE CHARMING_           This boy is supposed to be the new\\n\\n           King of Far Far Away?', \"PRINCE CHARMING_           How pathetic! Now, stand still so I\\n\\n           won't make a mess.\", \"SHREK_           Charming, stop! I'm here now, you\\n\\n           got what you wanted. This isn't\\n\\n           about him.\", \"ARTIE_           Then who's it about? I'm supposed\\n\\n           to be King, right?\", \"SHREK_           You weren't really next in line for\\n\\n           the throne, okay? I was.\", 'ARTIE_           But you said the King asked for me\\n\\n           personally.', 'SHREK_           Not exactly.', \"ARTIE_           What's that supposed to mean?\", \"SHREK_           Look, I said whatever I had to say,\\n\\n           alright! I wasn't right for the\\n\\n           job, I just needed some fool to\\n\\n           replace me, and you fit the bill.\\n\\n           So just go!\", 'ARTIE_           You were playing me the whole time.', \"SHREK_           You catch on real fast kid... Maybe\\n\\n           you're not as big of a loser as I\\n\\n           thought.\", 'ARTIE_           You know, for a minute there, I\\n\\n           actually thought you -', \"PRINCE CHARMING_           What? That he cared about you? He's\\n\\n           an ogre. What did you expect?\", 'PRINCE CHARMING_           You really do have a way with\\n\\n           children, Shrek.', 'SNOW WHITE_           Had we just stayed put like I\\n\\n           suggested, we could be sipping tea\\n\\n           out of little heart-shaped cups...', 'CINDERELLA_           Yeah... yeah, heart shaped cups.', 'SNOW WHITE_           Eating crumpets smothered with\\n\\n           loganberries.', 'CINDERELLA_           Yeah... loganberries.', 'SNOW WHITE_           Shut up Cindy.', 'CINDERELLA_           Yeah, shut up.', 'CINDERELLA_           No! You shut up!', 'CINDERELLA_           Just stay out of this!', \"SNOW WHITE_           Who cares who's running the kingdom\\n\\n           anyway?\", 'FIONA_           I care.', 'QUEEN_           And you should all care too.', 'PUSS_\\n\\n           Hey, hey, hey, hey.', 'DONKEY_\\n\\n           Yeah, and I have your badge number,\\n\\n                          \"TIN CAN-\"', 'FIONA_           Donkey?!', 'DONKEY_\\n\\n           Princess?!', 'FIONA_           Puss?!', 'PUSS_\\n\\n           Lo siento, Princessa, but I am\\n\\n           Puss, stuck here inside this\\n\\n           hideous body.', \"DONKEY_\\n\\n           And I'm me!\", \"FIONA_                          BUT YOU'RE-\", 'DONKEY_\\n\\n           I know, I know. Everything\\'s a\\n\\n           little fruity in the loops right\\n\\n           now. But what happened is, we went\\n\\n           to high school, the boat crashed,\\n\\n           and we got \"bippity-bopity-booped\"\\n\\n           by the \"Magic Man.\"', 'DORIS_           You poor sweet things.', \"CINDERELLA_           I don't get it.\", \"SNOW WHITE_           The cat turned into a little horse\\n\\n           that smells like feet. What's to\\n\\n           get?\", 'SLEEPING BEAUTY_\\n\\n           Huh? Who dat?', \"FIONA_           Where's Shrek?\", \"DONKEY_           Charming's got him, Princess. And\\n\\n           he plans on killing Shrek tonight\\n\\n           in front of the whole kingdom.\", 'FIONA_           Alright everyone, we need to find a\\n\\n           way out, now.', \"SNOW WHITE_           You're right.\\n\\n\\n\\n           Ladies, assume the position!\", 'FIONA_           What are you doing?', 'SLEEPING BEAUTY_           Waiting to be rescued.', 'FIONA_           You have got to be kidding me.', \"SNOW WHITE_           Well, what do you expect us to do?\\n\\n           We're just four...\\n\\n\\n\\n           I mean, three, super hot\\n\\n           princesses, two circus freaks, a\\n\\n           pregnant ogre and an old lady.\", 'QUEEN_           Hmmm. Excuse me. Old lady coming\\n\\n           through.', 'QUEEN_           Hiiiyyyiiiaaaah!', 'FIONA_           Mom!?', \"QUEEN_           Well, you didn't actually think you\\n\\n           got your fighting skills from your\\n\\n           father, did you?\", \"SNOW WHITE_           Excuse me, I think there's still\\n\\n           one more.\", 'QUEEN_           Hmmmm.', 'QUEEN_           Hiiiiyah!', \"FIONA_           Why don't you just lie down?\", \"FIONA_           Okay girls, from here on out, we're\\n\\n           gonna take care of business\\n\\n           ourselves.\", 'ANNOUNCER_           Ladies and gentlemen. The Far Far\\n\\n           Away Theatre at the Charming\\n\\n           Pavilion is proud to present: \"It\\'s\\n\\n           a Happily Ever After, After All.\"', 'SHREK_           Oww, easy.', 'CYCLOPS_           Sorry. I guess I was just showing\\n\\n           off for the little one.', 'SHREK_           Huh?', 'CYCLOPS_           It\\'s \"Bring your kids to work day.\"\\n\\n           C\\'mere beautiful.', \"SHREK_           Well... she's got your eye.\", 'CYCLOPS_           Who woulda thought a monster like\\n\\n           me deserves something as special as\\n\\n           you?', 'SNOW WHITE_\\n\\n           \"Ahh ha ha ha ha haa.\"', 'SNOW WHITE_\\n\\n           \"Ahh ha ha ha haa.\"', 'SNOW WHITE_\\n\\n           \"Ha ha ha ha haaaa.\\n\\n           Little birdies take wing,\\n\\n           flitting down from the trees they\\n\\n           appear, and to chirp in my ear.\"', 'SNOW WHITE_\\n\\n           \"All because I sing.\\n\\n           Ahh ha ha ha ha haaa.\"', 'SNOW WHITE_\\n\\n           \"Ahh ha ha ha ha haaa.\"', 'SNOW WHITE_\\n\\n           \"Ha ha ha ha ha haaaaaaa!\"', 'SNOW WHITE_           Ahhaha!! Ahhaha!!!', 'FIONA_           Move it! Go! Go! Go!', 'DONKEY_\\n\\n           My babies!', 'PUSS_\\n\\n           Help! Ow!', 'DONKEY_\\n\\n           Hey!', \"DORIS_           Hey. How's it going?\", 'PUSS_\\n\\n           \"O\" to the \"K.\" The coast has\\n\\n           cleared.', \"DONKEY_\\n\\n           All right people, let's do this\\n\\n           thing! Go Team Dy-No-Mite!!\", 'PINOCCHIO_           I thought we agreed we would go by\\n\\n           the name of \"Team Super Cool.\"', 'GINGERBREAD MAN_           As I recall it was \"Team Awesome.\"', 'WOLF_           I voted for \"Team Alpha Wolf\\n\\n           Squadron.\"', 'DONKEY_           Alright! Alright! Alright! From\\n\\n           henceforth we are to be known as\\n\\n           \"Team Alpha Super Awesome Cool\\n\\n           Dynomite Wolf Squadron.\"', 'DONKEY_\\n\\n           Artie!', 'PUSS_\\n\\n           Wait, wait, wait, wait wait. Hey!\\n\\n           Where is the fire, Senor?', \"ARTIE_           Oh please, don't act so innocent.\\n\\n           You both knew what was going on the\\n\\n           whole time and you kept it to\\n\\n           yourself.\", \"DONKEY_\\n\\n           Artie, it's not like it seems.\", \"ARTIE_           It's not? I think it seems pretty\\n\\n           clear. He was using me. That's\\n\\n           all there is to it.\", \"DONKEY_\\n\\n           Using you? Man, you really don't\\n\\n           get it!\", 'PUSS_\\n\\n           Shrek only said those things to\\n\\n           protect you!', 'DONKEY_\\n\\n           Charming was going to kill you\\n\\n           Artie. Shrek saved your life.', 'RUMPLESTILTSKIN_           Cue the spot!', 'RAPUNZEL_\\n\\n           \"I wait alone up here.\\n\\n           I\\'m trapped another day.\\n\\n           Locked up here - please set me\\n\\n           free.\\n\\n           My new life I almost see,\\n\\n           A castle, you and me.\\n\\n           Yes, a castle you and me...\"', 'RUMPLESTILTSKIN_           Cherubs!', 'PRINCE CHARMING_\\n\\n           \"Tis I! Tis I!\\n\\n           Upon my regal steed!\\n\\n           Princess, my love,\\n\\n           at last you shall be freed!\"', 'PRINCE CHARMING_\\n\\n           \"I\\'m strong and brave,\\n\\n           and dashing my way there!\\n\\n           With speed! With might!\\n\\n           With soft and bouncy hair!\"', 'PRINCE CHARMING_\\n\\n           \"Through the blistering desert...\"', 'EVIL TREES_\\n\\n           \"Hot!\"', 'PRINCE CHARMING_\\n\\n           \"Across the stormiest sea.\"', 'EVIL DWARFS_\\n\\n           \"Wet!\"', 'PRINCE CHARMING_\\n\\n           \"Facing creatures so vile!\"\\n\\n                          FAIRY-TALE VILLAINS\\n\\n\\n\\n           \"Foul!\"', 'PRINCE CHARMING_\\n\\n           \"So you can gaze upon me!\"', 'RAPUNZEL_\\n\\n           \"I knew you\\'d come for me.\\n\\n           And now we finally meet.\"', 'PRINCE CHARMING_\\n\\n           \"I knew you\\'d wait.\\n\\n           And from my plate of love you\\'d\\n\\n           eat.\"', 'MABEL_           Roar! Roar!', 'PRINCE CHARMING_\\n\\n           \"Who is this terrible ugly fiend\\n\\n           who so rudely intervened?\"', 'RAPUNZEL_\\n\\n           \"Oh please, rescue me!\"\\n\\n                          FAIRY-TALE VILLAINS\\n\\n\\n\\n           \"From this monstrosity!\"', 'PRINCE CHARMING_\\n\\n           \"Fear thee not Honey Lamb!\\n\\n           I will slice this thing up like a\\n\\n           HAM!\"', 'SHREK_           Oh boy.', 'PRINCE CHARMING_           You are about to enter\\n\\n           a world of pain with which you are\\n\\n                          NOT-\\n\\n\\n\\n           \"FamiliaAAAAAAR!\"', \"SHREK_           Well it can't be anymore painful\\n\\n           than the lousy performance you're\\n\\n           giving.\", 'RUMPLESTILTSKIN_           \"Prepare foul beast.\"', 'PRINCE CHARMING_\\n\\n           \"Prepare foul beast, your time is\\n\\n           done.\"', \"SHREK_           Oooh, if you don't mind could you\\n\\n           kill me, and then sing?\", 'PRINCE CHARMING_           Be quiet!', \"SHREK_           Oh, come on, I'm just havin' fun\\n\\n           with ya. That's actually a very\\n\\n           nice leotard.\", 'PRINCE CHARMING_           Thank you.', \"SHREK_           Do they come in men's sizes?\", 'HOOK_           He, he. Now that be funny.', 'PRINCE CHARMING_           ENOUGH!', \"PRINCE CHARMING_           Now you'll finally know what it's\\n\\n           like to have everything you've\\n\\n           worked for, everything that's\\n\\n           precious to you taken away.\", \"PRINCE CHARMING_           Now you'll know how I felt.\", 'PRINCE CHARMING_           Ahhhhh!', 'DRAGON_           Roar!', 'WOLF_           Arg.', 'DONKEY_\\n\\n           Pray for mercy from...', 'PUSS_\\n\\n           ...Puss!', 'DONKEY_\\n\\n           And Donkey!', 'PINOCCHIO_\\n\\n           Hey.', \"FIONA_           Hi honey! Sorry we're late. You\\n\\n           okay?\", \"SHREK_           Much better, now that you're here.\", 'AUDIENCE_           Awwwwwww!', 'SHREK_           So Charming, you wanna let me out\\n\\n           of these so we can settle this ogre\\n\\n           to man?', 'PRINCE CHARMING_           Oooh, that sounds fun. But I have\\n\\n           a better idea!', 'SHREK_           Fiona!', 'FIONA_           No! Let go of me!', 'PRINCE CHARMING_           You will not ruin things this time\\n\\n           ogre.\\n\\n\\n\\n           Kill it!', 'ARTIE_           Everybody stop!', 'PRINCE CHARMING_\\n\\n           Oh, what is it now?', 'SHREK_           Artie?', 'ARTIE_           Who really thinks we need to settle\\n\\n           things this way?', \"ARTIE_           You're telling me you just want to\\n\\n           be Villains your whole lives?\", \"CAPTAIN HOOK_           But we are Villains. It's the only\\n\\n           thing we know.\", \"ARTIE_           Didn't you ever wish you could be\\n\\n           something else?\", \"PRINCE CHARMING_           You morons! Don't listen to him!\\n\\n                          ATTACK THEM-\", \"ARTIE_           Okay, fair enough. You're right.\\n\\n           I'm not a talking tree. But, ya\\n\\n           know, a good friend of mine once\\n\\n           told me that just because people\\n\\n           treat you like a villain, or an\\n\\n           ogre...\", 'ARTIE_           ... or just some loser...', \"ARTIE_           ...it doesn't mean you are one.\", 'ARTIE_           The thing that matters most is what\\n\\n           you think of yourself.', \"ARTIE_           If there's something you really\\n\\n           want, or there's someone you really\\n\\n           want to be, then the only person\\n\\n           standing in your way ...is you.\", 'RUMPLESTILTSKIN_           Me?', 'OTHER PIRATES_           Get `im lads!', 'ARTIE_           No, no, no! What I mean is: each\\n\\n           of you is standing in your own way!', 'VILLAINS_           Oooooooh!', \"HEADLESS HORSEMAN_           I've always wanted to play the\\n\\n           flute.\", 'EVIL QUEEN_           I`d like to open up a spa in\\n\\n           France.', 'CAPTAIN HOOK_           I grow daffodils!', \"CAPTAIN HOOK_           And they're beautiful!\", 'PRINCE CHARMING_           Aaaahhhh!', 'PRINCE CHARMING_           A new era finally begins!', 'PRINCE CHARMING_           Now, all of you, bow before your\\n\\n           king!', 'SHREK_           Ah-hem.', 'SHREK_           You need to work on your aim.', 'PRINCE CHARMING_           This was supposed to be my happily\\n\\n           ever after.', 'SHREK_           Well I guess you need to keep\\n\\n           looking...', \"SHREK_           ...cause I'm not giving up mine.\", 'PRINCE CHARMING_           Mommy?', \"SHREK_           It's yours if you want it, you\\n\\n           know, but this time it's your\\n\\n           choice.\", 'ALL_           Ar-tie! Ar-tie! Ar-tie! Ar-tie!', \"MERLIN_           Uh, excuse me, that's my seat.\", 'PUSS_\\n\\n           Okay, senor hocus-y pocus-y. The\\n\\n           time has come to rectify some\\n\\n           wrongs!', 'DONKEY_\\n\\n           Although I have been enjoying these\\n\\n           \"cat baths.\"', \"PUSS_\\n\\n           Please say you didn't.\", 'MERLIN_           Uh... alright, alright...look..', \"MERLIN_           You're gonna feel a little pinch,\\n\\n           and possibly some lower intestinal\\n\\n           discomfort, but this should do the\\n\\n           trick.\", 'PUSS_           Are you..?', \"DONKEY_           I'm me again!\", 'PUSS_           And I am not you!', 'DONKEY_           Alright!', 'MERLIN_           Oops. Ah, never mind.', \"SHREK_           What'd I tell ya? I think the\\n\\n           kid's going to be a great King.\", \"FIONA_           Well, for what it's worth, you\\n\\n           would have too.\", 'SHREK_           I have something much more\\n\\n           important in mind.', 'SHREK_           Ah, finally.', 'OGRE BABIES_           Da da.', 'DONKEY_           Hey! I smell Shrek Jr.', 'DONKEY_           Peek-a-boo. Peek-a-boo.', 'QUEEN_           Bouncy, bouncy, bouncy boy.', 'DONKEY_           Hey.', \"NANNY DWARF_           Where's the baby?\", 'SHREK_           Well, what shall we do now?', 'SHREK_\\n\\n           I got it.', 'THE END_']"
      ]
     },
     "execution_count": 189,
     "metadata": {},
     "output_type": "execute_result"
    }
   ],
   "source": [
    "real_script_lines"
   ]
  },
  {
   "cell_type": "code",
   "execution_count": 195,
   "metadata": {},
   "outputs": [],
   "source": [
    "##removing white space\n",
    "## Remember, all the white space here is 11 spaces long!\n",
    "white_space = []\n",
    "for line in real_script_lines:\n",
    "    white_space.extend(re.findall(r\"\\n\\n {11}\", line))"
   ]
  },
  {
   "cell_type": "code",
   "execution_count": 196,
   "metadata": {},
   "outputs": [
    {
     "data": {
      "text/plain": [
       "819"
      ]
     },
     "execution_count": 196,
     "metadata": {},
     "output_type": "execute_result"
    }
   ],
   "source": [
    "len(white_space)"
   ]
  },
  {
   "cell_type": "markdown",
   "metadata": {},
   "source": [
    "### Splitting Speaker/Text and creating a dataframe"
   ]
  },
  {
   "cell_type": "code",
   "execution_count": 202,
   "metadata": {},
   "outputs": [],
   "source": [
    "speaker_text = []\n",
    "for line in real_script_lines:\n",
    "    line_no_space = re.sub(r\"\\n\\n {11}\", ' ', line)\n",
    "    line_tup = line_no_space.split('_')\n",
    "    line_tup[0] = line_tup[0].lower().strip()\n",
    "    line_tup[1] = line_tup[1].lower().strip()\n",
    "    speaker_text.append(tuple(line_tup))"
   ]
  },
  {
   "cell_type": "code",
   "execution_count": 203,
   "metadata": {},
   "outputs": [
    {
     "data": {
      "text/plain": [
       "871"
      ]
     },
     "execution_count": 203,
     "metadata": {},
     "output_type": "execute_result"
    }
   ],
   "source": [
    "len(speaker_text)"
   ]
  },
  {
   "cell_type": "code",
   "execution_count": 207,
   "metadata": {},
   "outputs": [
    {
     "data": {
      "text/plain": [
       "[('prince charming', 'onward chauncey, to the highest room of the tallest tower! where my princess awaits rescue from her handsome prince charming.'), ('gingerbread man', 'this is worse than love letters! i hate dinner theatre.'), ('pinocchio', 'me too.'), ('prince charming', 'whoa there, chauncey!'), ('actress', 'hark! the brave prince charming approach-ith.'), ('prince charming', 'fear not fair maiden! i shall slay the monster that guards you and take my place as rightful king.'), ('old lady', 'what did she say?'), ('ogre', 'grrrrrrr!'), ('fairytale creatures', 'woooo hoooo!!!'), ('gingerbread man', 'yea! shrek!')]"
      ]
     },
     "execution_count": 207,
     "metadata": {},
     "output_type": "execute_result"
    }
   ],
   "source": [
    "speaker_text[:10]"
   ]
  },
  {
   "cell_type": "code",
   "execution_count": 208,
   "metadata": {},
   "outputs": [
    {
     "data": {
      "text/plain": [
       "[('shrek', 'i have something much more important in mind.'), ('shrek', 'ah, finally.'), ('ogre babies', 'da da.'), ('donkey', 'hey! i smell shrek jr.'), ('donkey', 'peek-a-boo. peek-a-boo.'), ('queen', 'bouncy, bouncy, bouncy boy.'), ('donkey', 'hey.'), ('nanny dwarf', \"where's the baby?\"), ('shrek', 'well, what shall we do now?'), ('shrek', 'i got it.')]"
      ]
     },
     "execution_count": 208,
     "metadata": {},
     "output_type": "execute_result"
    }
   ],
   "source": [
    "speaker_text[-10:]"
   ]
  },
  {
   "cell_type": "code",
   "execution_count": 205,
   "metadata": {},
   "outputs": [],
   "source": [
    "#We don't need \"The End\"\n",
    "speaker_text = speaker_text[:-1]"
   ]
  },
  {
   "cell_type": "code",
   "execution_count": 206,
   "metadata": {},
   "outputs": [
    {
     "data": {
      "text/plain": [
       "[('shrek', 'i have something much more important in mind.'), ('shrek', 'ah, finally.'), ('ogre babies', 'da da.'), ('donkey', 'hey! i smell shrek jr.'), ('donkey', 'peek-a-boo. peek-a-boo.'), ('queen', 'bouncy, bouncy, bouncy boy.'), ('donkey', 'hey.'), ('nanny dwarf', \"where's the baby?\"), ('shrek', 'well, what shall we do now?'), ('shrek', 'i got it.')]"
      ]
     },
     "execution_count": 206,
     "metadata": {},
     "output_type": "execute_result"
    }
   ],
   "source": [
    "speaker_text[-10:]"
   ]
  },
  {
   "cell_type": "markdown",
   "metadata": {},
   "source": [
    "### Data Frame Time!"
   ]
  },
  {
   "cell_type": "code",
   "execution_count": 209,
   "metadata": {},
   "outputs": [],
   "source": [
    "shrek_the_third = pd.DataFrame(speaker_text, columns=[\"Speaker\", \"Text\"])"
   ]
  },
  {
   "cell_type": "code",
   "execution_count": 210,
   "metadata": {},
   "outputs": [
    {
     "data": {
      "text/html": [
       "<div>\n",
       "<style scoped>\n",
       "    .dataframe tbody tr th:only-of-type {\n",
       "        vertical-align: middle;\n",
       "    }\n",
       "\n",
       "    .dataframe tbody tr th {\n",
       "        vertical-align: top;\n",
       "    }\n",
       "\n",
       "    .dataframe thead th {\n",
       "        text-align: right;\n",
       "    }\n",
       "</style>\n",
       "<table border=\"1\" class=\"dataframe\">\n",
       "  <thead>\n",
       "    <tr style=\"text-align: right;\">\n",
       "      <th></th>\n",
       "      <th>Speaker</th>\n",
       "      <th>Text</th>\n",
       "    </tr>\n",
       "  </thead>\n",
       "  <tbody>\n",
       "    <tr>\n",
       "      <th>0</th>\n",
       "      <td>prince charming</td>\n",
       "      <td>onward chauncey, to the highest room of the ta...</td>\n",
       "    </tr>\n",
       "    <tr>\n",
       "      <th>1</th>\n",
       "      <td>gingerbread man</td>\n",
       "      <td>this is worse than love letters! i hate dinner...</td>\n",
       "    </tr>\n",
       "    <tr>\n",
       "      <th>2</th>\n",
       "      <td>pinocchio</td>\n",
       "      <td>me too.</td>\n",
       "    </tr>\n",
       "    <tr>\n",
       "      <th>3</th>\n",
       "      <td>prince charming</td>\n",
       "      <td>whoa there, chauncey!</td>\n",
       "    </tr>\n",
       "    <tr>\n",
       "      <th>4</th>\n",
       "      <td>actress</td>\n",
       "      <td>hark! the brave prince charming approach-ith.</td>\n",
       "    </tr>\n",
       "  </tbody>\n",
       "</table>\n",
       "</div>"
      ],
      "text/plain": [
       "           Speaker                                               Text\n",
       "0  prince charming  onward chauncey, to the highest room of the ta...\n",
       "1  gingerbread man  this is worse than love letters! i hate dinner...\n",
       "2        pinocchio                                            me too.\n",
       "3  prince charming                              whoa there, chauncey!\n",
       "4          actress      hark! the brave prince charming approach-ith."
      ]
     },
     "execution_count": 210,
     "metadata": {},
     "output_type": "execute_result"
    }
   ],
   "source": [
    "shrek_the_third.head()"
   ]
  },
  {
   "cell_type": "code",
   "execution_count": 212,
   "metadata": {},
   "outputs": [],
   "source": [
    "shrek_the_third.to_pickle(r'..\\..\\..\\Animated-Movie-Gendered-Dialogue\\private\\shrek3_lines.pkl')"
   ]
  },
  {
   "cell_type": "code",
   "execution_count": null,
   "metadata": {},
   "outputs": [],
   "source": []
  }
 ],
 "metadata": {
  "kernelspec": {
   "display_name": "Python 3",
   "language": "python",
   "name": "python3"
  },
  "language_info": {
   "codemirror_mode": {
    "name": "ipython",
    "version": 3
   },
   "file_extension": ".py",
   "mimetype": "text/x-python",
   "name": "python",
   "nbconvert_exporter": "python",
   "pygments_lexer": "ipython3",
   "version": "3.6.4"
  }
 },
 "nbformat": 4,
 "nbformat_minor": 2
}
