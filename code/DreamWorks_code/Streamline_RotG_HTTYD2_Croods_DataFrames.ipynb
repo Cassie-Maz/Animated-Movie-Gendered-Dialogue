{
 "cells": [
  {
   "cell_type": "markdown",
   "metadata": {},
   "source": [
    "# Creating a Streamline for 3 Dreamworks Films\n",
    "From my analysis of white space, I know that three movies are formatted the same way. My messy work can be found [here](LINK!!!) Here is my ordered work for Rise of the Guardians, The Croods, and How to Train Your Dragon 2"
   ]
  },
  {
   "cell_type": "code",
   "execution_count": 1,
   "metadata": {},
   "outputs": [],
   "source": [
    "import pandas as pd\n",
    "import re\n",
    "import pickle"
   ]
  },
  {
   "cell_type": "code",
   "execution_count": 4,
   "metadata": {},
   "outputs": [
    {
     "name": "stdout",
     "output_type": "stream",
     "text": [
      "Pretty printing has been turned OFF\n"
     ]
    }
   ],
   "source": [
    "%pprint"
   ]
  },
  {
   "cell_type": "markdown",
   "metadata": {},
   "source": [
    "## 1) Import the Scripts"
   ]
  },
  {
   "cell_type": "code",
   "execution_count": 3,
   "metadata": {},
   "outputs": [],
   "source": [
    "httyd2 = open(r'C:\\Users\\cassi\\Desktop\\Data_Science\\Animated-Movie-Gendered-Dialogue\\private\\imsdb_raw_nov_2015\\Animation\\howtotrainyourdragon2.txt')\n",
    "httyd2_script = httyd2.read()\n",
    "httyd2.close()\n",
    "\n",
    "rotg = open(r'C:\\Users\\cassi\\Desktop\\Data_Science\\Animated-Movie-Gendered-Dialogue\\private\\imsdb_raw_nov_2015\\Animation\\riseoftheguardians.txt')\n",
    "rotg_script = rotg.read()\n",
    "rotg.close()\n",
    "\n",
    "croods = open(r'C:\\Users\\cassi\\Desktop\\Data_Science\\Animated-Movie-Gendered-Dialogue\\private\\imsdb_raw_nov_2015\\Animation\\croodsthe.txt')\n",
    "croods_script = croods.read()\n",
    "croods.close()"
   ]
  },
  {
   "cell_type": "markdown",
   "metadata": {},
   "source": [
    "Shaving off excess at the beginning of each script, so they begin with the actual plot"
   ]
  },
  {
   "cell_type": "code",
   "execution_count": 5,
   "metadata": {},
   "outputs": [],
   "source": [
    "httyd2_script = httyd2_script[351:]\n",
    "rotg_script = rotg_script[222:]\n",
    "croods_script = croods_script[190:]"
   ]
  },
  {
   "cell_type": "markdown",
   "metadata": {},
   "source": [
    "## 2) Analyzing White Space/Tidying UP"
   ]
  },
  {
   "cell_type": "code",
   "execution_count": 6,
   "metadata": {},
   "outputs": [],
   "source": [
    "# A general function for white space analysis\n",
    "def white_space_count(script_name):\n",
    "    white_space = re.findall(\" {3,}\", script_name)\n",
    "    len_w_s = [len(x) for x in white_space]\n",
    "    print(len_w_s[:100])\n",
    "    print(set(len_w_s))\n",
    "    for num in set(len_w_s):\n",
    "        print(num, \"white spaces appear\", len_w_s.count(num), \"times\")"
   ]
  },
  {
   "cell_type": "markdown",
   "metadata": {},
   "source": [
    "### HTTYD2 Clean up"
   ]
  },
  {
   "cell_type": "code",
   "execution_count": 8,
   "metadata": {},
   "outputs": [
    {
     "name": "stdout",
     "output_type": "stream",
     "text": [
      "[11, 11, 25, 11, 11, 11, 11, 11, 11, 11, 11, 11, 11, 11, 10, 10, 10, 10, 11, 11, 11, 11, 11, 11, 10, 10, 10, 10, 11, 11, 10, 10, 10, 10, 10, 10, 10, 11, 26, 11, 11, 26, 11, 10, 10, 26, 11, 10, 10, 26, 11, 11, 26, 11, 11, 10, 10, 26, 11, 11, 10, 10, 10, 10, 10, 10, 10, 26, 11, 11, 11, 10, 10, 26, 11, 11, 11, 26, 11, 11, 10, 10, 10, 10, 26, 11, 11, 26, 11, 11, 26, 11, 11, 26, 11, 10, 11, 11, 11, 11]\n",
      "{26, 25, 10, 11}\n",
      "26 white spaces appear 760 times\n",
      "25 white spaces appear 9 times\n",
      "10 white spaces appear 1571 times\n",
      "11 white spaces appear 1440 times\n"
     ]
    }
   ],
   "source": [
    "white_space_count(httyd2_script)"
   ]
  },
  {
   "cell_type": "code",
   "execution_count": 10,
   "metadata": {},
   "outputs": [
    {
     "data": {
      "text/plain": [
       "'\\n\\n           EXT. OPEN SEA - DAY\\n\\n           Hiccup and Toothless BLUR PAST, leaving a wake that leads...                         \\n\\n           EXT. BERK - DAY\\n\\n           (Sequence 0200 - New Berk)\\n\\n           To the island village of Berk, festively adorned with flags\\n\\n           and banners. Major new additions alter its familiar skyline.\\n\\n           HICCUP (V.O.)\\n\\n           This... is Berk. The best kept\\n\\n           secret this side of, well,\\n\\n           anywhere. Granted, it may not look\\n\\n '"
      ]
     },
     "execution_count": 10,
     "metadata": {},
     "output_type": "execute_result"
    }
   ],
   "source": [
    "httyd2_script[:500]"
   ]
  },
  {
   "cell_type": "markdown",
   "metadata": {},
   "source": [
    "Except for the first line, only speaker names seem to follow 11 white spaces or 26 white spaces.\n",
    "\n",
    "10 white spaces or 25 white spaces mark scene headers/descriptions.\n",
    "\n",
    "This script also has pesky \"FINAL DRAFT\" lines scattered throughout, each preceded by 11 lines. Let's get rid of them."
   ]
  },
  {
   "cell_type": "code",
   "execution_count": 12,
   "metadata": {},
   "outputs": [
    {
     "name": "stdout",
     "output_type": "stream",
     "text": [
      "97\n",
      "['\\n\\n           HTTYD 2 (D. DeBlois) - FINAL DRAFT - 05/05/14 2.', '\\n\\n           HTTYD 2 (D. DeBlois) - FINAL DRAFT - 05/05/14 3.', '\\n\\n           HTTYD 2 (D. DeBlois) - FINAL DRAFT - 05/05/14 4.']\n"
     ]
    }
   ],
   "source": [
    "httyd2_titles = re.findall(r\"\\n\\n           HTTYD 2 \\(D. DeBlois\\) - FINAL DRAFT - 05/05/14 [0-9]+\\.\", httyd2_script)\n",
    "print(len(httyd2_titles))\n",
    "print(httyd2_titles[:3])"
   ]
  },
  {
   "cell_type": "code",
   "execution_count": 13,
   "metadata": {},
   "outputs": [],
   "source": [
    "httyd2_script = re.sub(r\"\\n\\n           HTTYD 2 \\(D. DeBlois\\) - FINAL DRAFT - 05/05/14 [0-9]+\\.\",'', httyd2_script)"
   ]
  },
  {
   "cell_type": "code",
   "execution_count": 14,
   "metadata": {},
   "outputs": [
    {
     "name": "stdout",
     "output_type": "stream",
     "text": [
      "[11, 11, 25, 11, 11, 11, 11, 11, 11, 11, 11, 11, 11, 11, 10, 10, 10, 10, 11, 11, 11, 11, 11, 11, 10, 10, 10, 10, 11, 11, 10, 10, 10, 10, 10, 10, 10, 26, 11, 11, 26, 11, 10, 10, 26, 11, 10, 10, 26, 11, 11, 26, 11, 11, 10, 10, 26, 11, 11, 10, 10, 10, 10, 10, 10, 10, 26, 11, 11, 11, 10, 10, 26, 11, 11, 26, 11, 11, 10, 10, 10, 10, 26, 11, 11, 26, 11, 11, 26, 11, 11, 26, 11, 10, 11, 11, 11, 11, 11, 10]\n",
      "{26, 25, 10, 11}\n",
      "26 white spaces appear 760 times\n",
      "25 white spaces appear 9 times\n",
      "10 white spaces appear 1571 times\n",
      "11 white spaces appear 1343 times\n"
     ]
    }
   ],
   "source": [
    "#reanalyze white space\n",
    "white_space_count(httyd2_script)"
   ]
  },
  {
   "cell_type": "code",
   "execution_count": 15,
   "metadata": {},
   "outputs": [
    {
     "name": "stdout",
     "output_type": "stream",
     "text": [
      "97\n"
     ]
    }
   ],
   "source": [
    "print(1440-1343) #should be 97\n",
    "#to match what we took out"
   ]
  },
  {
   "cell_type": "markdown",
   "metadata": {},
   "source": [
    "### ROTG"
   ]
  },
  {
   "cell_type": "code",
   "execution_count": 17,
   "metadata": {},
   "outputs": [
    {
     "name": "stdout",
     "output_type": "stream",
     "text": [
      "[10, 25, 11, 11, 11, 11, 10, 10, 10, 10, 10, 10, 10, 10, 10, 10, 10, 11, 11, 11, 11, 11, 11, 10, 10, 11, 11, 11, 11, 11, 10, 10, 10, 10, 10, 10, 11, 10, 10, 10, 10, 10, 10, 10, 10, 10, 10, 10, 10, 10, 10, 10, 10, 26, 11, 11, 11, 26, 11, 10, 10, 26, 11, 11, 10, 10, 10, 26, 11, 10, 10, 11, 11, 11, 11, 11, 11, 10, 10, 26, 10, 10, 10, 10, 10, 10, 10, 10, 10, 10, 10, 10, 10, 10, 11, 11, 10, 10, 10, 10]\n",
      "{26, 25, 10, 11}\n",
      "26 white spaces appear 1075 times\n",
      "25 white spaces appear 39 times\n",
      "10 white spaces appear 2125 times\n",
      "11 white spaces appear 1873 times\n"
     ]
    }
   ],
   "source": [
    "white_space_count(rotg_script)"
   ]
  },
  {
   "cell_type": "code",
   "execution_count": 18,
   "metadata": {},
   "outputs": [
    {
     "data": {
      "text/plain": [
       "\"\\n\\n          SEQ. 125 - ALONE IN THE WORLD\\n\\n                         DARKNESS\\n\\n           JACK (V.O.)\\n\\n           Darkness. That's the first thing I\\n\\n           remember. It was dark, and it was\\n\\n           cold. And I was scared.\\n\\n          The silhouette of a body appears as it drifts into a ray of\\n\\n          light, refracted through water, which turns into...\\n\\n          A MOON - SEEN IN REFLECTION ON A SHEET OF ICE\\n\\n          The moonlight intensifies almost magically, and the ice above\\n\\n     \""
      ]
     },
     "execution_count": 18,
     "metadata": {},
     "output_type": "execute_result"
    }
   ],
   "source": [
    "rotg_script[:500]"
   ]
  },
  {
   "cell_type": "markdown",
   "metadata": {},
   "source": [
    "This appears to be formatted in the same way as httyd2. It ALSO has pesky markers that need to be removed."
   ]
  },
  {
   "cell_type": "code",
   "execution_count": 19,
   "metadata": {},
   "outputs": [
    {
     "name": "stdout",
     "output_type": "stream",
     "text": [
      "134\n",
      "['\\n\\n           Guardians Screening Script 9/6/12 Avid 2.', '\\n\\n           Guardians Screening Script 9/6/12 Avid 3.', '\\n\\n           Guardians Screening Script 9/6/12 Avid 4.']\n"
     ]
    }
   ],
   "source": [
    "titles = re.findall(r\"\\n\\n           Guardians Screening Script 9/6/12 Avid [0-9]+\\.\", rotg_script)\n",
    "print(len(titles))\n",
    "print(titles[:3])"
   ]
  },
  {
   "cell_type": "code",
   "execution_count": 20,
   "metadata": {},
   "outputs": [],
   "source": [
    "rotg_script = re.sub(r\"\\n\\n           Guardians Screening Script 9/6/12 Avid [0-9]+\\.\", '', rotg_script)"
   ]
  },
  {
   "cell_type": "code",
   "execution_count": 21,
   "metadata": {},
   "outputs": [
    {
     "name": "stdout",
     "output_type": "stream",
     "text": [
      "[10, 25, 11, 11, 11, 11, 10, 10, 10, 10, 10, 10, 10, 10, 10, 10, 10, 11, 11, 11, 11, 11, 11, 10, 10, 11, 11, 11, 11, 11, 10, 10, 10, 10, 10, 10, 10, 10, 10, 10, 10, 10, 10, 10, 10, 10, 10, 10, 10, 10, 10, 10, 26, 11, 11, 11, 26, 11, 10, 10, 26, 11, 11, 10, 10, 10, 26, 11, 10, 10, 11, 11, 11, 11, 11, 10, 10, 26, 10, 10, 10, 10, 10, 10, 10, 10, 10, 10, 10, 10, 10, 10, 11, 11, 10, 10, 10, 10, 10, 10]\n",
      "{26, 25, 10, 11}\n",
      "26 white spaces appear 1075 times\n",
      "25 white spaces appear 39 times\n",
      "10 white spaces appear 2125 times\n",
      "11 white spaces appear 1739 times\n"
     ]
    }
   ],
   "source": [
    "#reanalyze white space\n",
    "white_space_count(rotg_script)"
   ]
  },
  {
   "cell_type": "code",
   "execution_count": 22,
   "metadata": {},
   "outputs": [
    {
     "name": "stdout",
     "output_type": "stream",
     "text": [
      "134\n"
     ]
    }
   ],
   "source": [
    "print(1873-1739) #matches the 134 lines we took out"
   ]
  },
  {
   "cell_type": "markdown",
   "metadata": {},
   "source": [
    "### Croods"
   ]
  },
  {
   "cell_type": "code",
   "execution_count": 23,
   "metadata": {},
   "outputs": [
    {
     "name": "stdout",
     "output_type": "stream",
     "text": [
      "[10, 25, 10, 10, 25, 10, 10, 26, 11, 11, 11, 10, 10, 10, 10, 26, 11, 11, 11, 11, 11, 11, 11, 11, 11, 11, 10, 10, 26, 11, 11, 11, 11, 11, 11, 10, 26, 11, 11, 10, 10, 10, 26, 11, 11, 11, 11, 11, 10, 10, 10, 10, 26, 11, 11, 10, 10, 10, 26, 11, 11, 11, 11, 10, 10, 26, 10, 10, 10, 10, 10, 26, 11, 11, 10, 10, 10, 10, 10, 10, 26, 11, 11, 10, 10, 10, 26, 11, 26, 11, 26, 11, 26, 11, 11, 10, 10, 26, 11, 11]\n",
      "{11, 25, 10, 26}\n",
      "11 white spaces appear 1156 times\n",
      "25 white spaces appear 23 times\n",
      "10 white spaces appear 1364 times\n",
      "26 white spaces appear 860 times\n"
     ]
    }
   ],
   "source": [
    "white_space_count(croods_script)"
   ]
  },
  {
   "cell_type": "code",
   "execution_count": 24,
   "metadata": {},
   "outputs": [
    {
     "data": {
      "text/plain": [
       "'\\n\\n          SEQ. 75 - PROLOGUE\\n\\n                         FADE IN:\\n\\n          A cave painting of the Dreamworks logo. Push past the\\n\\n          moon to the sun. Bright. Beautiful. The sun DISSOLVES\\n\\n                         TO:\\n\\n          Cave paintings of a family of cavemen -- we will come to\\n\\n          know them as The Croods.\\n\\n                          EEP (V.O.)\\n\\n           With every sun comes a new day. A new\\n\\n           beginning. A hope that things will be\\n\\n           better today than th'"
      ]
     },
     "execution_count": 24,
     "metadata": {},
     "output_type": "execute_result"
    }
   ],
   "source": [
    "croods_script[:500]"
   ]
  },
  {
   "cell_type": "markdown",
   "metadata": {},
   "source": [
    "In all these scripts,\n",
    "* 11 or 26 spaces mark a speaker's name\n",
    "* 10 or 25 spaces mark a scene header/description\n",
    "\n",
    "Knowing this, let's streamline this!\n",
    "\n",
    "WARNING: these aren't perfectly formatted, and some weird lines WILL pop up"
   ]
  },
  {
   "cell_type": "markdown",
   "metadata": {},
   "source": [
    "## 3) The Method\n",
    "In this code we,\n",
    "1) Remove parentheticals (which aren't spoken dialogue)\n",
    "2) Mark the start of lines\n",
    "3) Remove fake lines\n",
    "4) Create a dataframe"
   ]
  },
  {
   "cell_type": "code",
   "execution_count": 25,
   "metadata": {},
   "outputs": [],
   "source": [
    "# A function to take out parentheticals of the scripts:\n",
    "def no_parentheses(script):\n",
    "    new_script = re.sub(r\" *\\([^\\)]*\\)\", '', script)\n",
    "    return new_script"
   ]
  },
  {
   "cell_type": "code",
   "execution_count": 26,
   "metadata": {},
   "outputs": [],
   "source": [
    "#creating a function to mark actual lines:\n",
    "def create_lines(script):\n",
    "    id_lines = re.sub(r\"\\n\\n {26}(\\b[A-Z]['A-Z ]{1,})+\\n\\n\", r\"_NEWLINE_\\1_\", script)\n",
    "    id_more_lines = re.sub(r\"\\n\\n {11}([A-Z]['A-Z]{1,}[ ]?){1,4}\\n\\n\", r\"_NEWLINE_\\1_\", id_lines)\n",
    "    script_lines = id_more_lines.split(\"_NEWLINE_\")\n",
    "    return script_lines"
   ]
  },
  {
   "cell_type": "code",
   "execution_count": 27,
   "metadata": {},
   "outputs": [],
   "source": [
    "#removes fake lines embedded in actual lines\n",
    "def remove_not_lines(script_lines):\n",
    "    new_script_lines = []\n",
    "    for line in script_lines:\n",
    "        new_line = re.sub(r\" {25}([A-Z]{3,} )+\", r\"_NOTLINE_\", line)\n",
    "        if \"_NOTLINE_\" in new_line:\n",
    "            new_line = new_line.split(\"_NOTLINE_\")\n",
    "            new_line = new_line[0]\n",
    "            new_script_lines.append(new_line)\n",
    "        else:\n",
    "            new_script_lines.append(new_line)\n",
    "    new_new_script_lines = []\n",
    "    for line in new_script_lines:\n",
    "        new_line = re.sub(\"\\n\\n {10}[\\S]\", '_HEADER_', line)\n",
    "        real_line = new_line.split('_HEADER_')[0]\n",
    "        real_line = re.sub(\"\\n\\n\", ' ', real_line)\n",
    "        final_line = re.sub(\" {3,}\", ' ', real_line)\n",
    "        new_new_script_lines.append(final_line)\n",
    "    final_lines = new_new_script_lines[1:]\n",
    "    return final_lines\n"
   ]
  },
  {
   "cell_type": "code",
   "execution_count": 28,
   "metadata": {},
   "outputs": [],
   "source": [
    "#create the dataframe!\n",
    "def create_DF(final_lines):\n",
    "    lines_list = []\n",
    "    for line in final_lines:\n",
    "        speaker_text_tu = tuple(re.split('_ ', line))\n",
    "        lines_list.append(speaker_text_tu)\n",
    "    script_DF = pd.DataFrame(lines_list, columns=[\"Speaker\", \"Text\"])\n",
    "    return script_DF"
   ]
  },
  {
   "cell_type": "markdown",
   "metadata": {},
   "source": [
    "### Processing HTTYD2"
   ]
  },
  {
   "cell_type": "code",
   "execution_count": 29,
   "metadata": {},
   "outputs": [],
   "source": [
    "httyd2_no_par = no_parentheses(httyd2_script)"
   ]
  },
  {
   "cell_type": "code",
   "execution_count": 30,
   "metadata": {},
   "outputs": [],
   "source": [
    "httyd2_lines = create_lines(httyd2_no_par)"
   ]
  },
  {
   "cell_type": "code",
   "execution_count": 32,
   "metadata": {},
   "outputs": [],
   "source": [
    "httyd2_final_lines = remove_not_lines(httyd2_lines)"
   ]
  },
  {
   "cell_type": "code",
   "execution_count": 33,
   "metadata": {},
   "outputs": [],
   "source": [
    "httyd2_DF = create_DF(httyd2_final_lines)"
   ]
  },
  {
   "cell_type": "code",
   "execution_count": 34,
   "metadata": {},
   "outputs": [
    {
     "data": {
      "text/html": [
       "<div>\n",
       "<style scoped>\n",
       "    .dataframe tbody tr th:only-of-type {\n",
       "        vertical-align: middle;\n",
       "    }\n",
       "\n",
       "    .dataframe tbody tr th {\n",
       "        vertical-align: top;\n",
       "    }\n",
       "\n",
       "    .dataframe thead th {\n",
       "        text-align: right;\n",
       "    }\n",
       "</style>\n",
       "<table border=\"1\" class=\"dataframe\">\n",
       "  <thead>\n",
       "    <tr style=\"text-align: right;\">\n",
       "      <th></th>\n",
       "      <th>Speaker</th>\n",
       "      <th>Text</th>\n",
       "    </tr>\n",
       "  </thead>\n",
       "  <tbody>\n",
       "    <tr>\n",
       "      <th>0</th>\n",
       "      <td>HICCUP</td>\n",
       "      <td>This... is Berk. The best kept secret this sid...</td>\n",
       "    </tr>\n",
       "    <tr>\n",
       "      <th>1</th>\n",
       "      <td>HICCUP</td>\n",
       "      <td>Life here is amazing, just not for the faint o...</td>\n",
       "    </tr>\n",
       "    <tr>\n",
       "      <th>2</th>\n",
       "      <td>HICCUP</td>\n",
       "      <td>DRAGON RACING!</td>\n",
       "    </tr>\n",
       "    <tr>\n",
       "      <th>3</th>\n",
       "      <td>SNOTLOUT</td>\n",
       "      <td>Oh, I'm sorry, Fishlegs! Did you want that?</td>\n",
       "    </tr>\n",
       "    <tr>\n",
       "      <th>4</th>\n",
       "      <td>FISHLEGS</td>\n",
       "      <td>Snotlout! That's mine!</td>\n",
       "    </tr>\n",
       "  </tbody>\n",
       "</table>\n",
       "</div>"
      ],
      "text/plain": [
       "    Speaker                                               Text\n",
       "0    HICCUP  This... is Berk. The best kept secret this sid...\n",
       "1    HICCUP  Life here is amazing, just not for the faint o...\n",
       "2    HICCUP                                     DRAGON RACING!\n",
       "3  SNOTLOUT        Oh, I'm sorry, Fishlegs! Did you want that?\n",
       "4  FISHLEGS                             Snotlout! That's mine!"
      ]
     },
     "execution_count": 34,
     "metadata": {},
     "output_type": "execute_result"
    }
   ],
   "source": [
    "httyd2_DF.head()"
   ]
  },
  {
   "cell_type": "markdown",
   "metadata": {},
   "source": [
    "### Processing Rise of the Guardians"
   ]
  },
  {
   "cell_type": "code",
   "execution_count": 35,
   "metadata": {},
   "outputs": [],
   "source": [
    "rotg_no_par = no_parentheses(rotg_script)"
   ]
  },
  {
   "cell_type": "code",
   "execution_count": 36,
   "metadata": {},
   "outputs": [],
   "source": [
    "rotg_lines = create_lines(rotg_no_par)"
   ]
  },
  {
   "cell_type": "code",
   "execution_count": 37,
   "metadata": {},
   "outputs": [],
   "source": [
    "rotg_final_lines = remove_not_lines(rotg_lines)"
   ]
  },
  {
   "cell_type": "code",
   "execution_count": 38,
   "metadata": {},
   "outputs": [],
   "source": [
    "rotg_DF = create_DF(rotg_final_lines)"
   ]
  },
  {
   "cell_type": "code",
   "execution_count": 39,
   "metadata": {},
   "outputs": [
    {
     "data": {
      "text/html": [
       "<div>\n",
       "<style scoped>\n",
       "    .dataframe tbody tr th:only-of-type {\n",
       "        vertical-align: middle;\n",
       "    }\n",
       "\n",
       "    .dataframe tbody tr th {\n",
       "        vertical-align: top;\n",
       "    }\n",
       "\n",
       "    .dataframe thead th {\n",
       "        text-align: right;\n",
       "    }\n",
       "</style>\n",
       "<table border=\"1\" class=\"dataframe\">\n",
       "  <thead>\n",
       "    <tr style=\"text-align: right;\">\n",
       "      <th></th>\n",
       "      <th>Speaker</th>\n",
       "      <th>Text</th>\n",
       "    </tr>\n",
       "  </thead>\n",
       "  <tbody>\n",
       "    <tr>\n",
       "      <th>0</th>\n",
       "      <td>JACK</td>\n",
       "      <td>Darkness. That's the first thing I remember. I...</td>\n",
       "    </tr>\n",
       "    <tr>\n",
       "      <th>1</th>\n",
       "      <td>JACK</td>\n",
       "      <td>But then...then I saw the moon. It was so big ...</td>\n",
       "    </tr>\n",
       "    <tr>\n",
       "      <th>2</th>\n",
       "      <td>JACK</td>\n",
       "      <td>Why I was there, and what I was meant to do - ...</td>\n",
       "    </tr>\n",
       "    <tr>\n",
       "      <th>3</th>\n",
       "      <td>JACK</td>\n",
       "      <td>Hello. Hello. Good evening, ma'am. Ma'am?</td>\n",
       "    </tr>\n",
       "    <tr>\n",
       "      <th>4</th>\n",
       "      <td>JACK</td>\n",
       "      <td>Oh, ah, excuse me, can you tell me where I am?</td>\n",
       "    </tr>\n",
       "  </tbody>\n",
       "</table>\n",
       "</div>"
      ],
      "text/plain": [
       "  Speaker                                               Text\n",
       "0    JACK  Darkness. That's the first thing I remember. I...\n",
       "1    JACK  But then...then I saw the moon. It was so big ...\n",
       "2    JACK  Why I was there, and what I was meant to do - ...\n",
       "3    JACK          Hello. Hello. Good evening, ma'am. Ma'am?\n",
       "4    JACK     Oh, ah, excuse me, can you tell me where I am?"
      ]
     },
     "execution_count": 39,
     "metadata": {},
     "output_type": "execute_result"
    }
   ],
   "source": [
    "rotg_DF.head()"
   ]
  },
  {
   "cell_type": "code",
   "execution_count": 40,
   "metadata": {},
   "outputs": [
    {
     "data": {
      "text/html": [
       "<div>\n",
       "<style scoped>\n",
       "    .dataframe tbody tr th:only-of-type {\n",
       "        vertical-align: middle;\n",
       "    }\n",
       "\n",
       "    .dataframe tbody tr th {\n",
       "        vertical-align: top;\n",
       "    }\n",
       "\n",
       "    .dataframe thead th {\n",
       "        text-align: right;\n",
       "    }\n",
       "</style>\n",
       "<table border=\"1\" class=\"dataframe\">\n",
       "  <thead>\n",
       "    <tr style=\"text-align: right;\">\n",
       "      <th></th>\n",
       "      <th>Speaker</th>\n",
       "      <th>Text</th>\n",
       "    </tr>\n",
       "  </thead>\n",
       "  <tbody>\n",
       "    <tr>\n",
       "      <th>925</th>\n",
       "      <td>JAMIE</td>\n",
       "      <td>Jack!</td>\n",
       "    </tr>\n",
       "    <tr>\n",
       "      <th>926</th>\n",
       "      <td>NORTH</td>\n",
       "      <td>Hyah!</td>\n",
       "    </tr>\n",
       "    <tr>\n",
       "      <th>927</th>\n",
       "      <td>KIDS</td>\n",
       "      <td>Woooo! Yeah! Yay! IN SLEIGH</td>\n",
       "    </tr>\n",
       "    <tr>\n",
       "      <th>928</th>\n",
       "      <td>JACK</td>\n",
       "      <td>My name is Jack Frost. And I'm a Guardian. How...</td>\n",
       "    </tr>\n",
       "    <tr>\n",
       "      <th>929</th>\n",
       "      <td>WHITE_</td>\n",
       "      <td>None</td>\n",
       "    </tr>\n",
       "  </tbody>\n",
       "</table>\n",
       "</div>"
      ],
      "text/plain": [
       "    Speaker                                               Text\n",
       "925   JAMIE                                              Jack!\n",
       "926   NORTH                                              Hyah!\n",
       "927    KIDS                        Woooo! Yeah! Yay! IN SLEIGH\n",
       "928    JACK  My name is Jack Frost. And I'm a Guardian. How...\n",
       "929  WHITE_                                               None"
      ]
     },
     "execution_count": 40,
     "metadata": {},
     "output_type": "execute_result"
    }
   ],
   "source": [
    "rotg_DF.tail()"
   ]
  },
  {
   "cell_type": "code",
   "execution_count": 44,
   "metadata": {},
   "outputs": [
    {
     "data": {
      "text/plain": [
       "'WHITE_'"
      ]
     },
     "execution_count": 44,
     "metadata": {},
     "output_type": "execute_result"
    }
   ],
   "source": [
    "#notice that WHITE_ isn't a line: it's from FADE TO WHITE\n",
    "rotg_DF[\"Speaker\"][929]"
   ]
  },
  {
   "cell_type": "markdown",
   "metadata": {},
   "source": [
    "### Processing The Croods"
   ]
  },
  {
   "cell_type": "code",
   "execution_count": 45,
   "metadata": {},
   "outputs": [],
   "source": [
    "croods_no_par = no_parentheses(croods_script)"
   ]
  },
  {
   "cell_type": "code",
   "execution_count": 46,
   "metadata": {},
   "outputs": [],
   "source": [
    "croods_lines = create_lines(croods_no_par)"
   ]
  },
  {
   "cell_type": "code",
   "execution_count": 47,
   "metadata": {},
   "outputs": [],
   "source": [
    "croods_final_lines = remove_not_lines(croods_lines)"
   ]
  },
  {
   "cell_type": "code",
   "execution_count": 48,
   "metadata": {},
   "outputs": [],
   "source": [
    "croods_DF = create_DF(croods_final_lines)"
   ]
  },
  {
   "cell_type": "code",
   "execution_count": 49,
   "metadata": {},
   "outputs": [
    {
     "data": {
      "text/html": [
       "<div>\n",
       "<style scoped>\n",
       "    .dataframe tbody tr th:only-of-type {\n",
       "        vertical-align: middle;\n",
       "    }\n",
       "\n",
       "    .dataframe tbody tr th {\n",
       "        vertical-align: top;\n",
       "    }\n",
       "\n",
       "    .dataframe thead th {\n",
       "        text-align: right;\n",
       "    }\n",
       "</style>\n",
       "<table border=\"1\" class=\"dataframe\">\n",
       "  <thead>\n",
       "    <tr style=\"text-align: right;\">\n",
       "      <th></th>\n",
       "      <th>Speaker</th>\n",
       "      <th>Text</th>\n",
       "    </tr>\n",
       "  </thead>\n",
       "  <tbody>\n",
       "    <tr>\n",
       "      <th>0</th>\n",
       "      <td>EEP</td>\n",
       "      <td>With every sun comes a new day. A new beginnin...</td>\n",
       "    </tr>\n",
       "    <tr>\n",
       "      <th>1</th>\n",
       "      <td>EEP</td>\n",
       "      <td>But not for me. My name's Eep. This, is my fam...</td>\n",
       "    </tr>\n",
       "    <tr>\n",
       "      <th>2</th>\n",
       "      <td>EEP</td>\n",
       "      <td>We were the last ones around. There used to be...</td>\n",
       "    </tr>\n",
       "    <tr>\n",
       "      <th>3</th>\n",
       "      <td>EEP</td>\n",
       "      <td>Because of my Dad. He was strong... and he fol...</td>\n",
       "    </tr>\n",
       "    <tr>\n",
       "      <th>4</th>\n",
       "      <td>EEP</td>\n",
       "      <td>... the ones painted on the cave walls. Anythi...</td>\n",
       "    </tr>\n",
       "  </tbody>\n",
       "</table>\n",
       "</div>"
      ],
      "text/plain": [
       "  Speaker                                               Text\n",
       "0     EEP  With every sun comes a new day. A new beginnin...\n",
       "1     EEP  But not for me. My name's Eep. This, is my fam...\n",
       "2     EEP  We were the last ones around. There used to be...\n",
       "3     EEP  Because of my Dad. He was strong... and he fol...\n",
       "4     EEP  ... the ones painted on the cave walls. Anythi..."
      ]
     },
     "execution_count": 49,
     "metadata": {},
     "output_type": "execute_result"
    }
   ],
   "source": [
    "croods_DF.head()"
   ]
  },
  {
   "cell_type": "code",
   "execution_count": 50,
   "metadata": {},
   "outputs": [
    {
     "data": {
      "text/html": [
       "<div>\n",
       "<style scoped>\n",
       "    .dataframe tbody tr th:only-of-type {\n",
       "        vertical-align: middle;\n",
       "    }\n",
       "\n",
       "    .dataframe tbody tr th {\n",
       "        vertical-align: top;\n",
       "    }\n",
       "\n",
       "    .dataframe thead th {\n",
       "        text-align: right;\n",
       "    }\n",
       "</style>\n",
       "<table border=\"1\" class=\"dataframe\">\n",
       "  <thead>\n",
       "    <tr style=\"text-align: right;\">\n",
       "      <th></th>\n",
       "      <th>Speaker</th>\n",
       "      <th>Text</th>\n",
       "    </tr>\n",
       "  </thead>\n",
       "  <tbody>\n",
       "    <tr>\n",
       "      <th>767</th>\n",
       "      <td>EEP</td>\n",
       "      <td>And because of my dad, who taught us that anyo...</td>\n",
       "    </tr>\n",
       "    <tr>\n",
       "      <th>768</th>\n",
       "      <td>GRUG</td>\n",
       "      <td>Release the baby!</td>\n",
       "    </tr>\n",
       "    <tr>\n",
       "      <th>769</th>\n",
       "      <td>EEP</td>\n",
       "      <td>Well, sort of.</td>\n",
       "    </tr>\n",
       "    <tr>\n",
       "      <th>770</th>\n",
       "      <td>EEP</td>\n",
       "      <td>So from now on we'll stay out here.</td>\n",
       "    </tr>\n",
       "    <tr>\n",
       "      <th>771</th>\n",
       "      <td>EEP</td>\n",
       "      <td>Where we can follow the light.</td>\n",
       "    </tr>\n",
       "  </tbody>\n",
       "</table>\n",
       "</div>"
      ],
      "text/plain": [
       "    Speaker                                               Text\n",
       "767     EEP  And because of my dad, who taught us that anyo...\n",
       "768    GRUG                                  Release the baby!\n",
       "769     EEP                                     Well, sort of.\n",
       "770     EEP                So from now on we'll stay out here.\n",
       "771     EEP                     Where we can follow the light."
      ]
     },
     "execution_count": 50,
     "metadata": {},
     "output_type": "execute_result"
    }
   ],
   "source": [
    "croods_DF.tail()"
   ]
  },
  {
   "cell_type": "markdown",
   "metadata": {},
   "source": [
    "## 4) Pickling the DataFrames"
   ]
  },
  {
   "cell_type": "code",
   "execution_count": 51,
   "metadata": {},
   "outputs": [],
   "source": [
    "croods_DF.to_pickle(r\"C:\\Users\\cassi\\Desktop\\Data_Science\\Animated-Movie-Gendered-Dialogue\\private\\croods_lines.pkl\")"
   ]
  },
  {
   "cell_type": "code",
   "execution_count": 52,
   "metadata": {},
   "outputs": [],
   "source": [
    "httyd2_DF.to_pickle(r\"C:\\Users\\cassi\\Desktop\\Data_Science\\Animated-Movie-Gendered-Dialogue\\private\\httyd2_lines.pkl\")"
   ]
  },
  {
   "cell_type": "code",
   "execution_count": 53,
   "metadata": {},
   "outputs": [],
   "source": [
    "rotg_DF.to_pickle(r\"C:\\Users\\cassi\\Desktop\\Data_Science\\Animated-Movie-Gendered-Dialogue\\private\\rotg_lines.pkl\")"
   ]
  },
  {
   "cell_type": "code",
   "execution_count": null,
   "metadata": {},
   "outputs": [],
   "source": []
  }
 ],
 "metadata": {
  "kernelspec": {
   "display_name": "Python 3",
   "language": "python",
   "name": "python3"
  },
  "language_info": {
   "codemirror_mode": {
    "name": "ipython",
    "version": 3
   },
   "file_extension": ".py",
   "mimetype": "text/x-python",
   "name": "python",
   "nbconvert_exporter": "python",
   "pygments_lexer": "ipython3",
   "version": "3.6.4"
  }
 },
 "nbformat": 4,
 "nbformat_minor": 2
}
