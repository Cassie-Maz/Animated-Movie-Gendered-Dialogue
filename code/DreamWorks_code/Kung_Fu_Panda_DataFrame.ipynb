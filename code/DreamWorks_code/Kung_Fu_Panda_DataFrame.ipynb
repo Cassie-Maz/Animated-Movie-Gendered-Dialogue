{
 "cells": [
  {
   "cell_type": "markdown",
   "metadata": {},
   "source": [
    "# Kung Fu Panda DataFrame\n",
    "Welcome to the unconventional Kung Fu Panda script! Let's see how this is organized."
   ]
  },
  {
   "cell_type": "code",
   "execution_count": 1,
   "metadata": {},
   "outputs": [],
   "source": [
    "import pandas as pd\n",
    "import re"
   ]
  },
  {
   "cell_type": "code",
   "execution_count": 2,
   "metadata": {},
   "outputs": [],
   "source": [
    "kfp = open(r'C:\\Users\\cassi\\Desktop\\Data_Science\\Animated-Movie-Gendered-Dialogue\\private\\imsdb_raw_nov_2015\\Animation\\kungfupanda.txt')\n",
    "kfp_script = kfp.read()\n",
    "kfp.close()"
   ]
  },
  {
   "cell_type": "code",
   "execution_count": 3,
   "metadata": {},
   "outputs": [
    {
     "name": "stdout",
     "output_type": "stream",
     "text": [
      "Pretty printing has been turned OFF\n"
     ]
    }
   ],
   "source": [
    "%pprint"
   ]
  },
  {
   "cell_type": "markdown",
   "metadata": {},
   "source": [
    "Lol, I hate this so much. It looks like the most lines are divided by 10, 20, or 30 white spaces"
   ]
  },
  {
   "cell_type": "code",
   "execution_count": 4,
   "metadata": {},
   "outputs": [
    {
     "data": {
      "text/plain": [
       "\"                             KUNG FU PANDA\\n\\n                              Written By\\n\\n                     Jonathan Aibel & Glenn Berger\\n\\n          FINAL DRAFT\\n\\n          June 3, 2008\\n\\n                                                                    1.\\n\\n          EXT. VALLEY -- DAY\\n\\n          A MYSTERIOUS WARRIOR treks across the rugged landscape.\\n\\n                                NARRATOR (V.O.)\\n\\n                     Legend tells of a legendary warrior\\n\\n                     whose Kung Fu skills were the stuff\\n\\n                     of legend.\\n\\n          The warrior, his identity hidden beneath his flowing robe and\\n\\n          wide-brimmed hat, gnaws on a staff of bamboo.\\n\\n                               NARRATOR (V.O.) (CONT'D)\\n\\n                     He traveled the land in search of\\n\\n                     worthy foes.\\n\\n                                                            CUT TO:\\n\\n          INT. BAR\\n\\n          The warrior sits at a table drinking tea and gnawing on his\\n\\n          \""
      ]
     },
     "execution_count": 4,
     "metadata": {},
     "output_type": "execute_result"
    }
   ],
   "source": [
    "kfp_script[:1000]"
   ]
  },
  {
   "cell_type": "code",
   "execution_count": 5,
   "metadata": {},
   "outputs": [
    {
     "data": {
      "text/plain": [
       "\"\\n\\n          EXT. VALLEY -- DAY\\n\\n          A MYSTERIOUS WARRIOR treks across the rugged landscape.\\n\\n                                NARRATOR (V.O.)\\n\\n                     Legend tells of a legendary warrior\\n\\n                     whose Kung Fu skills were the stuff\\n\\n                     of legend.\\n\\n          The warrior, his identity hidden beneath his flowing robe and\\n\\n          wide-brimmed hat, gnaws on a staff of bamboo.\\n\\n                               NARRATOR (V.O.) (CONT'D)\\n\\n                     He traveled the land in search of\\n\\n                     worthy foes.\\n\\n                                                            CUT TO:\\n\\n          INT. BAR\\n\\n          The warrior sits at a table drinking tea and gnawing on his\\n\\n          \""
      ]
     },
     "execution_count": 5,
     "metadata": {},
     "output_type": "execute_result"
    }
   ],
   "source": [
    "kfp_script[255:1000]"
   ]
  },
  {
   "cell_type": "code",
   "execution_count": 6,
   "metadata": {},
   "outputs": [],
   "source": [
    "kfp_script = kfp_script[255:]"
   ]
  },
  {
   "cell_type": "code",
   "execution_count": 7,
   "metadata": {},
   "outputs": [],
   "source": [
    "def no_parentheses(script):\n",
    "    new_script = re.sub(r\" *\\([^\\)]*\\)\", '', script)\n",
    "    return new_script"
   ]
  },
  {
   "cell_type": "code",
   "execution_count": 8,
   "metadata": {},
   "outputs": [],
   "source": [
    "kfp_script = no_parentheses(kfp_script)"
   ]
  },
  {
   "cell_type": "code",
   "execution_count": 9,
   "metadata": {},
   "outputs": [],
   "source": [
    "def white_space_count(script_name):\n",
    "    white_space = re.findall(\" {3,}\", script_name)\n",
    "    len_w_s = [len(x) for x in white_space]\n",
    "    print(len_w_s[:100])\n",
    "    print(set(len_w_s))\n",
    "    for num in set(len_w_s):\n",
    "        print(num, \"white spaces appear\", len_w_s.count(num), \"times\")"
   ]
  },
  {
   "cell_type": "code",
   "execution_count": 10,
   "metadata": {},
   "outputs": [
    {
     "name": "stdout",
     "output_type": "stream",
     "text": [
      "[10, 10, 32, 21, 21, 21, 10, 10, 31, 21, 21, 60, 10, 10, 10, 10, 32, 21, 21, 10, 31, 21, 21, 10, 31, 21, 31, 21, 21, 10, 10, 31, 21, 21, 21, 67, 10, 32, 20, 30, 20, 10, 30, 20, 30, 20, 30, 20, 20, 10, 60, 10, 10, 32, 20, 60, 10, 10, 10, 30, 20, 20, 20, 10, 10, 10, 10, 30, 20, 20, 67, 32, 22, 22, 22, 32, 22, 33, 22, 10, 10, 10, 10, 32, 22, 22, 22, 22, 22, 10, 32, 22, 32, 22, 33, 22, 10, 10, 10, 32]\n",
      "{3, 10, 20, 21, 22, 23, 30, 31, 32, 33, 34, 35, 36, 38, 55, 56, 57, 58, 60, 62, 65, 66, 67, 68, 69, 70}\n",
      "3 white spaces appear 2 times\n",
      "10 white spaces appear 996 times\n",
      "20 white spaces appear 1123 times\n",
      "21 white spaces appear 27 times\n",
      "22 white spaces appear 53 times\n",
      "23 white spaces appear 43 times\n",
      "30 white spaces appear 536 times\n",
      "31 white spaces appear 56 times\n",
      "32 white spaces appear 45 times\n",
      "33 white spaces appear 42 times\n",
      "34 white spaces appear 5 times\n",
      "35 white spaces appear 2 times\n",
      "36 white spaces appear 3 times\n",
      "38 white spaces appear 1 times\n",
      "55 white spaces appear 1 times\n",
      "56 white spaces appear 1 times\n",
      "57 white spaces appear 1 times\n",
      "58 white spaces appear 2 times\n",
      "60 white spaces appear 17 times\n",
      "62 white spaces appear 1 times\n",
      "65 white spaces appear 17 times\n",
      "66 white spaces appear 30 times\n",
      "67 white spaces appear 17 times\n",
      "68 white spaces appear 7 times\n",
      "69 white spaces appear 6 times\n",
      "70 white spaces appear 4 times\n"
     ]
    }
   ],
   "source": [
    "white_space_count(kfp_script)"
   ]
  },
  {
   "cell_type": "code",
   "execution_count": 11,
   "metadata": {},
   "outputs": [
    {
     "data": {
      "text/plain": [
       "\"\\n\\n          EXT. VALLEY -- DAY\\n\\n          A MYSTERIOUS WARRIOR treks across the rugged landscape.\\n\\n                                NARRATOR\\n\\n                     Legend tells of a legendary warrior\\n\\n                     whose Kung Fu skills were the stuff\\n\\n                     of legend.\\n\\n          The warrior, his identity hidden beneath his flowing robe and\\n\\n          wide-brimmed hat, gnaws on a staff of bamboo.\\n\\n                               NARRATOR\\n\\n                     He traveled the land in search of\\n\\n                     worthy foes.\\n\\n                                                            CUT TO:\\n\\n          INT. BAR\\n\\n          The warrior sits at a table drinking tea and gnawing on his\\n\\n          bamboo. The door BLASTS open. The MANCHU GANG rushes in and\\n\\n          surrounds him.\\n\\n                                GANG BOSS\\n\\n\\n\\n                     I see you like to CHEW!\\n\\n\\n\\n                     Maybe you should chew on my FIST!!\\n\\n          The Boss punches the table.\\n\\n                               NARRATOR\\n\\n                     The warrior said nothing for his\\n\\n                     mouth was full. Then, he swallowed.\\n\\n          He swallows.\\n\\n                               NARRATOR\\n\\n                     And then, he spoke.\\n\\n                               WARRIOR\\n\\n\\n\\n                     Enough talk. Let's FIGHT!\\n\\n                     SHASHABOOEY!\\n\\n          WHAM! The warrior delivers a punch and the whole gang goes\\n\\n          flying.\\n\\n                               NARRATOR\\n\\n                     He was so deadly in fact that his\\n\\n                     enemies would go blind from\\n\\n                     overexposure to pure awesomeness.\\n\\n                                                                   2.\\n\\n          The gang members blindly flail about.\\n\\n                                NINJA CAT\\n\\n                    MY EYES!\\n\\n                              GATOR\\n\\n                    HE'S TOO AWESOME!\\n\\n          ONLOOKERS swoon.\\n\\n                              SMITTEN BUNNY\\n\\n                    And ATTRACTIVE!\\n\\n                              GRATEFUL BUNNY\\n\\n                    How can we repay you??\\n\\n                              WARRIOR\\n\\n                    There is no charge for awesomeness,\\n\\n                    or attractiveness.\\n\\n          ONE HUNDRED ASSASSINS appear and surround the warrior.\\n\\n                                                            CUT TO:\\n\\n          EXT. BAR - CONTINUOUS\\n\\n          The entire bar swells, packed to the rafters with ninjas.\\n\\n                                WARRIOR\\n\\n                    KABLOOEY!\\n\\n                                                            CUT TO:\\n\\n          EXT. BAR - CONTINUOUS\\n\\n          The roof EXPLODES and a cloud of ninjas erupts into the sky.\\n\\n          Like a tornado, the warrior spins and knocks them all down.\\n\\n                              NARRATOR\\n\\n                    It mattered not how many foes he\\n\\n                    faced. They were no match for his\\n\\n                    bodacity.\\n\\n          The warrior beats up a thousand ninjas, delivering his final\\n\\n          blow while doing a split between two trees.\\n\\n          The warrior stands amongst a field of vanquished foes as god-\\n\\n          rays shine down upon him.\\n\\n                              NARRATOR\\n\\n                    Never before had a panda been so\\n\\n                    feared... and so loved.\\n\\n\\n\\n                                                                   3.\\n\\n                                NARRATOR\\n\\n                      Even the most heroic heroes in all\\n\\n                      of China, the Furious Five, bowed\\n\\n                      in respect to this great master.\\n\\n                                MONKEY\\n\\n                      We should hang out.\\n\\n                                 WARRIOR\\n\\n                      Agreed.\\n\\n          As the Five salute the warrior, he turns to see more bandits\\n\\n          approaching. The Five strike an attack pose. The warrior\\n\\n          brandishes a shiny green sword and leaps off the mountain\\n\\n          into the sea of bandits.\\n\\n                                NARRATOR\\n\\n                      But hanging out would have to wait.\\n\\n                      `Cause when you're facing the ten\\n\\n                      thousand demons of Demon Mountain,\\n\\n                      there's only one thing that\\n\\n                      matters. And that's--\\n\\n          In mid air, the Five talk to the warrior in a strange voice.\\n\\n                                MONKEY\\n\\n                      Po! Get up!\\n\\n                                TIGRESS\\n\\n                      You'll be late for work!\\n\\n                                 PO\\n\\n                      Whu?\\n\\n          INT. PO'S ROOM - DAY\\n\\n          Po lands hard on the floor. He tries to clear his head and\\n\\n          wake up.\\n\\n                                PO'S DAD\\n\\n                      Po! Get up!\\n\\n          We see his room is filled with various kung fu posters\\n\\n and souvenirs,\\n\\n          and a wooden vers\""
      ]
     },
     "execution_count": 11,
     "metadata": {},
     "output_type": "execute_result"
    }
   ],
   "source": [
    "kfp_script[:5000]"
   ]
  },
  {
   "cell_type": "code",
   "execution_count": 12,
   "metadata": {},
   "outputs": [],
   "source": [
    "# 10 before scene header\n",
    "# 10 after scene header/before new scene header\n",
    "# 32 before speaker\n",
    "# 21 between header and lines\n",
    "# 10 before each scene description\n",
    "# 31 before speaker\n",
    "# 21 between speaker and lines\n",
    "# 60 before cut-to"
   ]
  },
  {
   "cell_type": "markdown",
   "metadata": {},
   "source": [
    "So, my theory is that anything in the 30-38 range is a new line, and anything betweeen 20-23 is a set of lines, and anything 50+ indicates a new scene/cut"
   ]
  },
  {
   "cell_type": "code",
   "execution_count": 13,
   "metadata": {},
   "outputs": [],
   "source": [
    "all_caps_50 = re.findall(r\"\\n\\n {50,}(\\b[A-Z]['A-Z0-9#:\\.\\-/ ]{1,})+\", kfp_script)"
   ]
  },
  {
   "cell_type": "code",
   "execution_count": 14,
   "metadata": {},
   "outputs": [
    {
     "data": {
      "text/plain": [
       "22"
      ]
     },
     "execution_count": 14,
     "metadata": {},
     "output_type": "execute_result"
    }
   ],
   "source": [
    "len(all_caps_50)"
   ]
  },
  {
   "cell_type": "code",
   "execution_count": 15,
   "metadata": {},
   "outputs": [
    {
     "data": {
      "text/plain": [
       "['CUT TO:', 'CUT TO:', 'CUT TO:', 'DISSOLVE TO:', 'QUICK CUTS:', 'CUT TO:', 'CUT TO:', 'CUT TO:', 'CUT TO:', 'CUT TO:', 'CUT TO:', 'DISSOLVE TO:', 'CUT TO:', 'CUT TO:', 'CUT TO:', 'CUT TO:', 'CUT TO:', 'CUT TO:', 'CUT TO:', 'CUT TO:', 'DISSOLVE TO:', 'IRIS OUT.']"
      ]
     },
     "execution_count": 15,
     "metadata": {},
     "output_type": "execute_result"
    }
   ],
   "source": [
    "all_caps_50 #yep, these are all cuts"
   ]
  },
  {
   "cell_type": "code",
   "execution_count": 16,
   "metadata": {},
   "outputs": [],
   "source": [
    "all_caps_30s = re.findall(r\"\\n\\n {30,40}(\\b[A-Z]['A-Z0-9#:\\.\\-/ ]{1,})+\\n\\n\", kfp_script)"
   ]
  },
  {
   "cell_type": "code",
   "execution_count": 17,
   "metadata": {},
   "outputs": [
    {
     "data": {
      "text/plain": [
       "690"
      ]
     },
     "execution_count": 17,
     "metadata": {},
     "output_type": "execute_result"
    }
   ],
   "source": [
    "len(all_caps_30s)"
   ]
  },
  {
   "cell_type": "code",
   "execution_count": 18,
   "metadata": {},
   "outputs": [
    {
     "data": {
      "text/plain": [
       "['ANGRY PATRON', 'ANNOUNCER', 'BUNNY FAN #1', 'BUNNY FAN #2', 'COMMANDER', 'CRANE', 'CROWD', 'DISGUSTED PATRON', 'FURIOUS FIVE', 'GANG BOSS', 'GATOR', 'GRATEFUL BUNNY', 'JR SHAW', 'KG SHAW', 'MANTIS', 'MONKEY', 'NARRATOR', 'NINJA CAT', 'OOGWAY', 'PIG FAN', 'PO', \"PO'S DAD\", 'RHINO GUARD #1', 'SHIFU', 'SMITTEN BUNNY', 'TAI LUNG', 'THE END', 'TIGRESS', 'VIPER', 'WARRIOR', 'ZENG']"
      ]
     },
     "execution_count": 18,
     "metadata": {},
     "output_type": "execute_result"
    }
   ],
   "source": [
    "sorted(set(all_caps_30s)) #Besides, the end, all characters!!!"
   ]
  },
  {
   "cell_type": "code",
   "execution_count": 19,
   "metadata": {},
   "outputs": [],
   "source": [
    "all_caps_20s = re.findall(r\"\\n\\n {20,29}(\\b[A-Z]['A-Z0-9#:\\.\\-/ ]{1,})+\\n\\n\", kfp_script)"
   ]
  },
  {
   "cell_type": "code",
   "execution_count": 20,
   "metadata": {},
   "outputs": [
    {
     "data": {
      "text/plain": [
       "2"
      ]
     },
     "execution_count": 20,
     "metadata": {},
     "output_type": "execute_result"
    }
   ],
   "source": [
    "len(all_caps_20s)"
   ]
  },
  {
   "cell_type": "code",
   "execution_count": 21,
   "metadata": {},
   "outputs": [
    {
     "data": {
      "text/plain": [
       "['I...', 'WHO DROVE ME TO TRAIN UNTIL MY']"
      ]
     },
     "execution_count": 21,
     "metadata": {},
     "output_type": "execute_result"
    }
   ],
   "source": [
    "all_caps_20s #just lines"
   ]
  },
  {
   "cell_type": "code",
   "execution_count": 22,
   "metadata": {},
   "outputs": [],
   "source": [
    "all_caps_10s = re.findall(r\"\\n\\n {10}(\\b[A-Z]['A-Z0-9#:\\.\\-/ ]{1,})+\\n\\n\", kfp_script)"
   ]
  },
  {
   "cell_type": "code",
   "execution_count": 23,
   "metadata": {},
   "outputs": [
    {
     "data": {
      "text/plain": [
       "69"
      ]
     },
     "execution_count": 23,
     "metadata": {},
     "output_type": "execute_result"
    }
   ],
   "source": [
    "len(all_caps_10s)"
   ]
  },
  {
   "cell_type": "code",
   "execution_count": 24,
   "metadata": {},
   "outputs": [
    {
     "data": {
      "text/plain": [
       "['AT DOORS -', 'AT THE ELEVATOR', 'BACK ON PO', 'CHEERS.', 'CREAK.', 'EXT. BAR - CONTINUOUS', 'EXT. BUNKHOUSE  DAY', 'EXT. BUNKHOUSE - MORNING', 'EXT. BUNKHOUSE - NIGHT', 'EXT. CLEARING - A MOMENT LATER', 'EXT. FIELD - LATER', 'EXT. JADE PALACE - ARENA PLATFORM', 'EXT. JADE PALACE - DAWN', 'EXT. JADE PALACE - DAY', 'EXT. JADE PALACE - EVENING', 'EXT. JADE PALACE - NIGHT', 'EXT. JADE PALACE GROUNDS - EVENING', 'EXT. MOUNTAIN PASS', 'EXT. MOUNTAINS - DAWN', 'EXT. MOUNTAINS - LATER', 'EXT. PRISON', 'EXT. PRISON -- NIGHT', 'EXT. TOP OF STAIRS - DAY', 'EXT. TOURNAMENT RING - DAY', 'EXT. TRAINING HALL', 'EXT. TRAINING HALL - CONTINUOUS', 'EXT. TRAINING HALL - EVENING', 'EXT. TRAINING HALL - MOMENTS LATER', 'EXT. VALLEY', 'EXT. VALLEY -- DAY', 'EXT. VALLEY OF PEACE', 'EXT. VALLEY SQUARE - A LITTLE LATER', 'EXT. VALLEY SQUARE - DAY', 'EXT. VALLEY SQUARE - LATER', 'FLASHBACK - INT. SCROLL ROOM', 'INT. ARENA', 'INT. BAR', 'INT. BUNKHOUSE', 'INT. BUNKHOUSE - CONTINUOUS', 'INT. BUNKHOUSE - EVENING', 'INT. HALLWAY', 'INT. JADE PALACE - HALLWAY', 'INT. JADE PALACE - MOMENTS LATER', 'INT. KITCHEN - DAWN', 'INT. KITCHEN - DAY', 'INT. KITCHEN -- NIGHT', 'INT. NOODLE SHOP - DAY', 'INT. PALACE - MOMENTS LATER', 'INT. PALACE ARENA - CONTINUOUS', \"INT. PO'S ROOM - DAY\", 'INT. PRISON -- A MOMENT LATER', 'INT. PRISON -- NIGHT', 'INT. SCROLL ROOM - DAY', 'INT. SCROLL ROOM - MOMENTS LATER', 'INT. TOURNAMENT RING - DAY', 'INT. TRAINING HALL', 'INT. TRAINING HALL - DAWN', 'INT. TRAINING HALL - NIGHT', 'MONTAGE', 'MONTAGE:', 'ON A BRIDGE', 'PRESENT - INT. SCROLL ROOM']"
      ]
     },
     "execution_count": 24,
     "metadata": {},
     "output_type": "execute_result"
    }
   ],
   "source": [
    "sorted(set(all_caps_10s)) #all scene/setting headers"
   ]
  },
  {
   "cell_type": "code",
   "execution_count": 25,
   "metadata": {},
   "outputs": [],
   "source": [
    "all_caps_3s = re.findall(r\"\\S {3}\\S\", kfp_script)"
   ]
  },
  {
   "cell_type": "code",
   "execution_count": 26,
   "metadata": {},
   "outputs": [
    {
     "data": {
      "text/plain": [
       "2"
      ]
     },
     "execution_count": 26,
     "metadata": {},
     "output_type": "execute_result"
    }
   ],
   "source": [
    "len(all_caps_3s)"
   ]
  },
  {
   "cell_type": "code",
   "execution_count": 27,
   "metadata": {},
   "outputs": [
    {
     "data": {
      "text/plain": [
       "['?   A', '.   H']"
      ]
     },
     "execution_count": 27,
     "metadata": {},
     "output_type": "execute_result"
    }
   ],
   "source": [
    "all_caps_3s[:10] #just some weird spaces."
   ]
  },
  {
   "cell_type": "markdown",
   "metadata": {},
   "source": [
    "## Splitting the Script"
   ]
  },
  {
   "cell_type": "code",
   "execution_count": 28,
   "metadata": {},
   "outputs": [],
   "source": [
    "id_lines = re.sub(r\"\\n\\n {30,40}(\\b[A-Z]['A-Z0-9#:\\.\\-/ ]{1,})+\\n\\n\", r\"_NEWLINE_\\1_\", kfp_script)\n",
    "no_headers = re.sub(r\"\\n\\n {10}[\\w0-9]+\", r\"_NOTLINE_\", id_lines)\n",
    "no_cuts = re.sub(r\"\\n\\n {50,}[A-Z0-9]\", r\"_NOTLINE_\", no_headers)"
   ]
  },
  {
   "cell_type": "code",
   "execution_count": 29,
   "metadata": {},
   "outputs": [
    {
     "data": {
      "text/plain": [
       "'_NOTLINE_. VALLEY -- DAY_NOTLINE_ MYSTERIOUS WARRIOR treks across the rugged landscape._NEWLINE_NARRATOR_                     Legend tells of a legendary warrior\\n\\n                     whose Kung Fu skills were the stuff\\n\\n                     of legend._NOTLINE_ warrior, his identity hidden beneath his flowing robe and_NOTLINE_-brimmed hat, gnaws on a staff of bamboo._NEWLINE_NARRATOR_                     He traveled the land in search of\\n\\n                     worthy foes._NOTLINE_UT TO:_NOTLINE_. BAR_NOTLINE_ warrior sits at a table drinking tea and gnawing on his_NOTLINE_. The door BLASTS open. The MANCHU GANG rushes in and_NOTLINE_ him._NEWLINE_GANG BOSS_\\n\\n                     I see you like to CHEW!\\n\\n\\n\\n                     Maybe you should chew on my FIST!!_NOTLINE_ Boss punches the table._NEWLINE_NARRATOR_                     The warrior said nothing for his\\n\\n                     mouth was full. Then, he swallowed._NOTLINE_ swallows._NEWLINE_NARRATOR_                     And then, '"
      ]
     },
     "execution_count": 29,
     "metadata": {},
     "output_type": "execute_result"
    }
   ],
   "source": [
    "no_cuts[:1000]"
   ]
  },
  {
   "cell_type": "code",
   "execution_count": 30,
   "metadata": {},
   "outputs": [],
   "source": [
    "headers = re.findall(r\"\\n\\n {10}[\\w0-9]+\", id_lines)"
   ]
  },
  {
   "cell_type": "code",
   "execution_count": 31,
   "metadata": {},
   "outputs": [
    {
     "data": {
      "text/plain": [
       "['\\n\\n          EXT', '\\n\\n          A', '\\n\\n          The', '\\n\\n          wide', '\\n\\n          INT', '\\n\\n          The', '\\n\\n          bamboo', '\\n\\n          surrounds', '\\n\\n          The', '\\n\\n          He', '\\n\\n          WHAM', '\\n\\n          flying', '\\n\\n          The', '\\n\\n          ONLOOKERS', '\\n\\n          ONE', '\\n\\n          EXT', '\\n\\n          The', '\\n\\n          EXT', '\\n\\n          The', '\\n\\n          Like', '\\n\\n          The', '\\n\\n          blow', '\\n\\n          The', '\\n\\n          rays', '\\n\\n          As', '\\n\\n          approaching', '\\n\\n          brandishes', '\\n\\n          into', '\\n\\n          In', '\\n\\n          INT', '\\n\\n          Po', '\\n\\n          wake', '\\n\\n          We', '\\n\\n          and', '\\n\\n          Po', '\\n\\n          He', '\\n\\n          is', '\\n\\n          Po', '\\n\\n          OUTSIDE', '\\n\\n          watering', '\\n\\n          then', '\\n\\n          He', '\\n\\n          wall', '\\n\\n          He', '\\n\\n          it', '\\n\\n          the', '\\n\\n          INT', '\\n\\n          Po', '\\n\\n          shaped', '\\n\\n          Reveal', '\\n\\n          carried', '\\n\\n          which', '\\n\\n          panda', '\\n\\n          He', '\\n\\n          Push', '\\n\\n          throwing', '\\n\\n          THOK', '\\n\\n          Po', '\\n\\n          throwing', '\\n\\n          He', '\\n\\n          When', '\\n\\n          apron', '\\n\\n          Po', '\\n\\n          into', '\\n\\n          Po', '\\n\\n          Dad', '\\n\\n          He', '\\n\\n          A', '\\n\\n          distant', '\\n\\n          EXT', '\\n\\n          SLAM', '\\n\\n          End', '\\n\\n          FLUTE', '\\n\\n          between', '\\n\\n          Wider', '\\n\\n          shapes', '\\n\\n          Back', '\\n\\n          Five', '\\n\\n          diving', '\\n\\n          Shifu', '\\n\\n          staff', '\\n\\n          go', '\\n\\n          They', '\\n\\n          is', '\\n\\n          He', '\\n\\n          Each', '\\n\\n          mentioned', '\\n\\n          Shifu', '\\n\\n          Shifu', '\\n\\n          INT', '\\n\\n          Shifu', '\\n\\n          with', '\\n\\n          INT', '\\n\\n          Candles', '\\n\\n          open', '\\n\\n          He', '\\n\\n          Reveal', '\\n\\n          Shifu', '\\n\\n          blows', '\\n\\n          Finally', '\\n\\n          smiles', '\\n\\n          Shifu', '\\n\\n          FLASHBACK', '\\n\\n          Quick', '\\n\\n          shadowy', '\\n\\n          PRESENT', '\\n\\n          Shifu', '\\n\\n          the', '\\n\\n          composure', '\\n\\n          Shifu', '\\n\\n          He', '\\n\\n          The', '\\n\\n          is', '\\n\\n          Shifu', '\\n\\n          Oogway', '\\n\\n          Shifu', '\\n\\n          water', '\\n\\n          dragon', '\\n\\n          Dramatic', '\\n\\n          INT', '\\n\\n          Po', '\\n\\n          tables', '\\n\\n          He', '\\n\\n          with', '\\n\\n          A', '\\n\\n          palace', '\\n\\n          rushes', '\\n\\n          Customers', '\\n\\n          Po', '\\n\\n          Customers', '\\n\\n          Other', '\\n\\n          One', '\\n\\n          on', '\\n\\n          He', '\\n\\n          Po', '\\n\\n          Po', '\\n\\n          EXT', '\\n\\n          Throngs', '\\n\\n          BUNNY', '\\n\\n          Where', '\\n\\n          PAN', '\\n\\n          at', '\\n\\n          daunting', '\\n\\n          Po', '\\n\\n          The', '\\n\\n          Climbing', '\\n\\n          EXT', '\\n\\n          Po', '\\n\\n          He', '\\n\\n          WIDEN', '\\n\\n          Two', '\\n\\n          Po', '\\n\\n          is', '\\n\\n          Po', '\\n\\n          stairs', '\\n\\n          EXT', '\\n\\n          Oogway', '\\n\\n          Pig', '\\n\\n          As', '\\n\\n          walking', '\\n\\n          the', '\\n\\n          EXT', '\\n\\n          Throngs', '\\n\\n          EXT', '\\n\\n          Po', '\\n\\n          laughing', '\\n\\n          The', '\\n\\n          Po', '\\n\\n          DRUMS', '\\n\\n          Inside', '\\n\\n          Po', '\\n\\n          weakly', '\\n\\n          Po', '\\n\\n          INT', '\\n\\n          The', '\\n\\n          Po', '\\n\\n          knocks', '\\n\\n          Po', '\\n\\n          Inside', '\\n\\n          his', '\\n\\n          One', '\\n\\n          view', '\\n\\n          Po', '\\n\\n          accidentally', '\\n\\n          Po', '\\n\\n          MONTAGE', '\\n\\n          Po', '\\n\\n          slumps', '\\n\\n          Po', '\\n\\n          whips', '\\n\\n          Po', '\\n\\n          CHEERS', '\\n\\n          Po', '\\n\\n          Po', '\\n\\n          Po', '\\n\\n          Tigress', '\\n\\n          Po', '\\n\\n          Tigress', '\\n\\n          Po', '\\n\\n          INT', '\\n\\n          Oogway', '\\n\\n          hushes', '\\n\\n          Shifu', '\\n\\n          ring', '\\n\\n          EXT', '\\n\\n          Po', '\\n\\n          He', '\\n\\n          INT', '\\n\\n          Oogway', '\\n\\n          DRUMS', '\\n\\n          EXT', '\\n\\n          Po', '\\n\\n          has', '\\n\\n          lights', '\\n\\n          Po', '\\n\\n          Po', '\\n\\n          He', '\\n\\n          chair', '\\n\\n          liftoff', '\\n\\n          Po', '\\n\\n          He', '\\n\\n          first', '\\n\\n          holds', '\\n\\n          Po', '\\n\\n          rockets', '\\n\\n          Po', '\\n\\n          fireworks', '\\n\\n          Po', '\\n\\n          loses', '\\n\\n          Oogway', '\\n\\n          falls', '\\n\\n          The', '\\n\\n          picked', '\\n\\n          Po', '\\n\\n          INT', '\\n\\n          PO', '\\n\\n          comes', '\\n\\n          sees', '\\n\\n          He', '\\n\\n          He', '\\n\\n          He', '\\n\\n          apologies', '\\n\\n          Po', '\\n\\n          keeps', '\\n\\n          Oogway', '\\n\\n          The', '\\n\\n          The', '\\n\\n          A', '\\n\\n          Po', '\\n\\n          is', '\\n\\n          Cut', '\\n\\n          Po', '\\n\\n          carried', '\\n\\n          thronging', '\\n\\n          Oogway', '\\n\\n          The', '\\n\\n          under', '\\n\\n          Shifu', '\\n\\n          A', '\\n\\n          and', '\\n\\n          Jade', '\\n\\n          Behind', '\\n\\n          Shifu', '\\n\\n          Confetti', '\\n\\n          continues', '\\n\\n          EXT', '\\n\\n          A', '\\n\\n          Fifteen', '\\n\\n          locked', '\\n\\n          patrol', '\\n\\n          Zeng', '\\n\\n          spots', '\\n\\n          crashing', '\\n\\n          CLANG', '\\n\\n          INT', '\\n\\n          The', '\\n\\n          staring', '\\n\\n          ON', '\\n\\n          The', '\\n\\n          The', '\\n\\n          a', '\\n\\n          A', '\\n\\n          AT', '\\n\\n          Several', '\\n\\n          The', '\\n\\n          to', '\\n\\n          The', '\\n\\n          sending', '\\n\\n          AT', '\\n\\n          A', '\\n\\n          drawbridge', '\\n\\n          He', '\\n\\n          They', '\\n\\n          in', '\\n\\n          barely', '\\n\\n          to', '\\n\\n          The', '\\n\\n          The', '\\n\\n          The', '\\n\\n          Tai', '\\n\\n          The', '\\n\\n          hurries', '\\n\\n          The', '\\n\\n          feather', '\\n\\n          HIS', '\\n\\n          INT', '\\n\\n          The', '\\n\\n          of', '\\n\\n          Po', '\\n\\n          back', '\\n\\n          Po', '\\n\\n          He', '\\n\\n          He', '\\n\\n          He', '\\n\\n          He', '\\n\\n          Po', '\\n\\n          artifacts', '\\n\\n          He', '\\n\\n          Po', '\\n\\n          Po', '\\n\\n          Po', '\\n\\n          Po', '\\n\\n          The', '\\n\\n          Po', '\\n\\n          Shifu', '\\n\\n          He', '\\n\\n          its', '\\n\\n          Shifu', '\\n\\n          Shifu', '\\n\\n          Shifu', '\\n\\n          Shifu', '\\n\\n          Shifu', '\\n\\n          Po', '\\n\\n          quickly', '\\n\\n          INT', '\\n\\n          The', '\\n\\n          Shifu', '\\n\\n          Five', '\\n\\n          training', '\\n\\n          wood', '\\n\\n          his', '\\n\\n          Shifu', '\\n\\n          He', '\\n\\n          Shifu', '\\n\\n          Po', '\\n\\n          Relieved', '\\n\\n          Mantis', '\\n\\n          Po', '\\n\\n          Shifu', '\\n\\n          Po', '\\n\\n          Po', '\\n\\n          turns', '\\n\\n          WHAP', '\\n\\n          Po', '\\n\\n          The', '\\n\\n          holds', '\\n\\n          BACK', '\\n\\n          A', '\\n\\n          exercise', '\\n\\n          Back', '\\n\\n          The', '\\n\\n          wooden', '\\n\\n          The', '\\n\\n          still', '\\n\\n          He', '\\n\\n          out', '\\n\\n          again', '\\n\\n          finds', '\\n\\n          flame', '\\n\\n          gets', '\\n\\n          EXT', '\\n\\n          The', '\\n\\n          hill', '\\n\\n          As', '\\n\\n          has', '\\n\\n          everything', '\\n\\n          He', '\\n\\n          up', '\\n\\n          over', '\\n\\n          He', '\\n\\n          INT', '\\n\\n          Po', '\\n\\n          He', '\\n\\n          SQUEAK', '\\n\\n          Po', '\\n\\n          through', '\\n\\n          THUNK', '\\n\\n          door', '\\n\\n          Crane', '\\n\\n          Crane', '\\n\\n          Po', '\\n\\n          reveal', '\\n\\n          Po', '\\n\\n          Crane', '\\n\\n          Po', '\\n\\n          Po', '\\n\\n          enters', '\\n\\n          Po', '\\n\\n          Po', '\\n\\n          CREAK', '\\n\\n          Tigress', '\\n\\n          She', '\\n\\n          EXT', '\\n\\n          A', '\\n\\n          Oogway', '\\n\\n          Po', '\\n\\n          Po', '\\n\\n          Po', '\\n\\n          Oogway', '\\n\\n          peach', '\\n\\n          INT', '\\n\\n          Using', '\\n\\n          free', '\\n\\n          An', '\\n\\n          The', '\\n\\n          The', '\\n\\n          of', '\\n\\n          Tai', '\\n\\n          Tai', '\\n\\n          then', '\\n\\n          creating', '\\n\\n          The', '\\n\\n          The', '\\n\\n          guard', '\\n\\n          Leaping', '\\n\\n          the', '\\n\\n          The', '\\n\\n          the', '\\n\\n          Tai', '\\n\\n          catches', '\\n\\n          over', '\\n\\n          next', '\\n\\n          Tai', '\\n\\n          reaching', '\\n\\n          Rhino', '\\n\\n          The', '\\n\\n          Archers', '\\n\\n          crash', '\\n\\n          across', '\\n\\n          towards', '\\n\\n          sparking', '\\n\\n          maniacally', '\\n\\n          On', '\\n\\n          down', '\\n\\n          raining', '\\n\\n          Grabbing', '\\n\\n          ahead', '\\n\\n          EXT', '\\n\\n          KA', '\\n\\n          everywhere', '\\n\\n          WHUMP', '\\n\\n          prosthetic', '\\n\\n          Tai', '\\n\\n          With', '\\n\\n          ruffled', '\\n\\n          Tai', '\\n\\n          Lightning', '\\n\\n          EXT', '\\n\\n          CLOSE', '\\n\\n          INT', '\\n\\n          Shifu', '\\n\\n          of', '\\n\\n          One', '\\n\\n          He', '\\n\\n          EXT', '\\n\\n          Shifu', '\\n\\n          INT', '\\n\\n          Shifu', '\\n\\n          face', '\\n\\n          Reveal', '\\n\\n          apart', '\\n\\n          Five', '\\n\\n          Crane', '\\n\\n          Crane', '\\n\\n          up', '\\n\\n          Crane', '\\n\\n          Shifu', '\\n\\n          leaps', '\\n\\n          As', '\\n\\n          Po', '\\n\\n          Po', '\\n\\n          notices', '\\n\\n          He', '\\n\\n          MONTAGE', '\\n\\n          Shifu', '\\n\\n          Viper', '\\n\\n          back', '\\n\\n          down', '\\n\\n          Shifu', '\\n\\n          Monkey', '\\n\\n          comical', '\\n\\n          Shifu', '\\n\\n          Po', '\\n\\n          falls', '\\n\\n          Shifu', '\\n\\n          We', '\\n\\n          hands', '\\n\\n          Mantis', '\\n\\n          Shifu', '\\n\\n          has', '\\n\\n          Po', '\\n\\n          The', '\\n\\n          Po', '\\n\\n          and', '\\n\\n          Shifu', '\\n\\n          Again', '\\n\\n          Po', '\\n\\n          At', '\\n\\n          leaps', '\\n\\n          EXT', '\\n\\n          Po', '\\n\\n          The', '\\n\\n          Cut', '\\n\\n          INT', '\\n\\n          Close', '\\n\\n          Mantis', '\\n\\n          and', '\\n\\n          Po', '\\n\\n          needle', '\\n\\n          Viper', '\\n\\n          Quick', '\\n\\n          calligraphy', '\\n\\n          Po', '\\n\\n          awkwardly', '\\n\\n          He', '\\n\\n          Cut', '\\n\\n          Tigress', '\\n\\n          Crane', '\\n\\n          Tigress', '\\n\\n          Tigress', '\\n\\n          Tigress', '\\n\\n          EXT', '\\n\\n          FLASHBACK', '\\n\\n          baby', '\\n\\n          Baby', '\\n\\n          Baby', '\\n\\n          Shifu', '\\n\\n          Hard', '\\n\\n          dummy', '\\n\\n          Tai', '\\n\\n          He', '\\n\\n          and', '\\n\\n          Shifu', '\\n\\n          Seeing', '\\n\\n          his', '\\n\\n          and', '\\n\\n          Tai', '\\n\\n          strikes', '\\n\\n          heap', '\\n\\n          Young', '\\n\\n          same', '\\n\\n          more', '\\n\\n          The', '\\n\\n          INT', '\\n\\n          Everyone', '\\n\\n          Po', '\\n\\n          Mantis', '\\n\\n          Po', '\\n\\n          covered', '\\n\\n          INT', '\\n\\n          Shifu', '\\n\\n          He', '\\n\\n          Satisfied', '\\n\\n          meditation', '\\n\\n          BOOM', '\\n\\n          EXT', '\\n\\n          Oogway', '\\n\\n          rushes', '\\n\\n          He', '\\n\\n          Shifu', '\\n\\n          A', '\\n\\n          the', '\\n\\n          Shifu', '\\n\\n          in', '\\n\\n          Oogway', '\\n\\n          Oogway', '\\n\\n          Shifu', '\\n\\n          He', '\\n\\n          Oogway', '\\n\\n          The', '\\n\\n          Shifu', '\\n\\n          As', '\\n\\n          of', '\\n\\n          Oogway', '\\n\\n          We', '\\n\\n          INT', '\\n\\n          Reveal', '\\n\\n          air', '\\n\\n          Po', '\\n\\n          ladles', '\\n\\n          Po', '\\n\\n          in', '\\n\\n          The', '\\n\\n          Tigress', '\\n\\n          On', '\\n\\n          Po', '\\n\\n          he', '\\n\\n          it', '\\n\\n          The', '\\n\\n          moustache', '\\n\\n          The', '\\n\\n          The', '\\n\\n          bowls', '\\n\\n          As', '\\n\\n          smell', '\\n\\n          up', '\\n\\n          Reveal', '\\n\\n          staff', '\\n\\n          Po', '\\n\\n          He', '\\n\\n          Embarrassed', '\\n\\n          bra', '\\n\\n          Po', '\\n\\n          snicker', '\\n\\n          The', '\\n\\n          to', '\\n\\n          Shifu', '\\n\\n          They', '\\n\\n          means', '\\n\\n          He', '\\n\\n          Shifu', '\\n\\n          EXT', '\\n\\n          Super', '\\n\\n          he', '\\n\\n          back', '\\n\\n          He', '\\n\\n          He', '\\n\\n          Shifu', '\\n\\n          back', '\\n\\n          Po', '\\n\\n          Po', '\\n\\n          In', '\\n\\n          Shifu', '\\n\\n          EXT', '\\n\\n          Tigress', '\\n\\n          seen', '\\n\\n          She', '\\n\\n          She', '\\n\\n          the', '\\n\\n          She', '\\n\\n          The', '\\n\\n          She', '\\n\\n          The', '\\n\\n          Then', '\\n\\n          into', '\\n\\n          EXT', '\\n\\n          Night', '\\n\\n          stirs', '\\n\\n          to', '\\n\\n          INT', '\\n\\n          Shifu', '\\n\\n          somewhere', '\\n\\n          INT', '\\n\\n          As', '\\n\\n          some', '\\n\\n          Entering', '\\n\\n          with', '\\n\\n          In', '\\n\\n          broken', '\\n\\n          Shifu', '\\n\\n          Shifu', '\\n\\n          waiting', '\\n\\n          KLUMP', '\\n\\n          perched', '\\n\\n          mouth', '\\n\\n          He', '\\n\\n          wise', '\\n\\n          He', '\\n\\n          He', '\\n\\n          slips', '\\n\\n          to', '\\n\\n          EXT', '\\n\\n          Shifu', '\\n\\n          Shifu', '\\n\\n          EXT', '\\n\\n          Shifu', '\\n\\n          slowly', '\\n\\n          Po', '\\n\\n          morning', '\\n\\n          Po', '\\n\\n          Po', '\\n\\n          The', '\\n\\n          shapes', '\\n\\n          As', '\\n\\n          vision', '\\n\\n          FLASH', '\\n\\n          down', '\\n\\n          Tears', '\\n\\n          Po', '\\n\\n          EXT', '\\n\\n          Shifu', '\\n\\n          Po', '\\n\\n          Shifu', '\\n\\n          EXT', '\\n\\n          Po', '\\n\\n          tests', '\\n\\n          never', '\\n\\n          EXT', '\\n\\n          Shifu', '\\n\\n          Po', '\\n\\n          Po', '\\n\\n          Po', '\\n\\n          the', '\\n\\n          Po', '\\n\\n          the', '\\n\\n          Shifu', '\\n\\n          Po', '\\n\\n          sends', '\\n\\n          Shifu', '\\n\\n          left', '\\n\\n          Shifu', '\\n\\n          hides', '\\n\\n          as', '\\n\\n          his', '\\n\\n          But', '\\n\\n          dumpling', '\\n\\n          Shifu', '\\n\\n          But', '\\n\\n          Master', '\\n\\n          EXT', '\\n\\n          The', '\\n\\n          peaks', '\\n\\n          Tai', '\\n\\n          races', '\\n\\n          The', '\\n\\n          mountain', '\\n\\n          final', '\\n\\n          herself', '\\n\\n          bridge', '\\n\\n          Five', '\\n\\n          Tai', '\\n\\n          The', '\\n\\n          The', '\\n\\n          Tigress', '\\n\\n          Tai', '\\n\\n          with', '\\n\\n          the', '\\n\\n          bridge', '\\n\\n          Viper', '\\n\\n          ropes', '\\n\\n          manages', '\\n\\n          his', '\\n\\n          ANGLE', '\\n\\n          rope', '\\n\\n          Monkey', '\\n\\n          sending', '\\n\\n          back', '\\n\\n          strand', '\\n\\n          Mantis', '\\n\\n          shooting', '\\n\\n          and', '\\n\\n          Working', '\\n\\n          way', '\\n\\n          Lung', '\\n\\n          Mantis', '\\n\\n          safely', '\\n\\n          The', '\\n\\n          Tigress', '\\n\\n          the', '\\n\\n          whips', '\\n\\n          With', '\\n\\n          Tai', '\\n\\n          Tai', '\\n\\n          EXT', '\\n\\n          Shifu', '\\n\\n          easy', '\\n\\n          He', '\\n\\n          Shifu', '\\n\\n          After', '\\n\\n          And', '\\n\\n          they', '\\n\\n          them', '\\n\\n          Crane', '\\n\\n          heap', '\\n\\n          Po', '\\n\\n          Crane', '\\n\\n          His', '\\n\\n          Shifu', '\\n\\n          Monkey', '\\n\\n          He', '\\n\\n          realizes', '\\n\\n          Shifu', '\\n\\n          INT', '\\n\\n          CLOSE', '\\n\\n          looks', '\\n\\n          They', '\\n\\n          Oogway', '\\n\\n          and', '\\n\\n          reflecting', '\\n\\n          closed', '\\n\\n          others', '\\n\\n          flickering', '\\n\\n          tornado', '\\n\\n          Dragon', '\\n\\n          mouth', '\\n\\n          with', '\\n\\n          to', '\\n\\n          Po', '\\n\\n          pull', '\\n\\n          He', '\\n\\n          Shifu', '\\n\\n          Shifu', '\\n\\n          He', '\\n\\n          the', '\\n\\n          light', '\\n\\n          excited', '\\n\\n          On', '\\n\\n          Then', '\\n\\n          Shifu', '\\n\\n          utterly', '\\n\\n          Po', '\\n\\n          turns', '\\n\\n          But', '\\n\\n          off', '\\n\\n          and', '\\n\\n          Shifu', '\\n\\n          Po', '\\n\\n          The', '\\n\\n          Shifu', '\\n\\n          looks', '\\n\\n          The', '\\n\\n          Shifu', '\\n\\n          steps', '\\n\\n          Po', '\\n\\n          EXT', '\\n\\n          The', '\\n\\n          Monkey', '\\n\\n          They', '\\n\\n          left', '\\n\\n          He', '\\n\\n          Po', '\\n\\n          Seeing', '\\n\\n          his', '\\n\\n          pulls', '\\n\\n          Po', '\\n\\n          Dad', '\\n\\n          He', '\\n\\n          sympathetically', '\\n\\n          Po', '\\n\\n          Dad', '\\n\\n          Dad', '\\n\\n          Po', '\\n\\n          Po', '\\n\\n          the', '\\n\\n          For', '\\n\\n          he', '\\n\\n          Po', '\\n\\n          EXT', '\\n\\n          At', '\\n\\n          awaiting', '\\n\\n          before', '\\n\\n          They', '\\n\\n          doors', '\\n\\n          Tai', '\\n\\n          Dissolve', '\\n\\n          A', '\\n\\n          Tai', '\\n\\n          dissolves', '\\n\\n          Shifu', '\\n\\n          Enraged', '\\n\\n          throws', '\\n\\n          Shifu', '\\n\\n          Tai', '\\n\\n          They', '\\n\\n          They', '\\n\\n          into', '\\n\\n          flutter', '\\n\\n          gets', '\\n\\n          Shifu', '\\n\\n          sends', '\\n\\n          Lightning', '\\n\\n          Grappling', '\\n\\n          throat', '\\n\\n          They', '\\n\\n          Tai', '\\n\\n          floor', '\\n\\n          charges', '\\n\\n          THOOM', '\\n\\n          and', '\\n\\n          extinguish', '\\n\\n          Tai', '\\n\\n          expression', '\\n\\n          He', '\\n\\n          bristles', '\\n\\n          Tai', '\\n\\n          Tai', '\\n\\n          Suddenly', '\\n\\n          Tai', '\\n\\n          Tai', '\\n\\n          Po', '\\n\\n          From', '\\n\\n          the', '\\n\\n          Po', '\\n\\n          sending', '\\n\\n          strikes', '\\n\\n          run', '\\n\\n          Tai', '\\n\\n          steps', '\\n\\n          Po', '\\n\\n          him', '\\n\\n          Po', '\\n\\n          smash', '\\n\\n          right', '\\n\\n          Down', '\\n\\n          scroll', '\\n\\n          stairs', '\\n\\n          on', '\\n\\n          scroll', '\\n\\n          snatches', '\\n\\n          towards', '\\n\\n          but', '\\n\\n          which', '\\n\\n          noodle', '\\n\\n          Up', '\\n\\n          and', '\\n\\n          street', '\\n\\n          As', '\\n\\n          of', '\\n\\n          to', '\\n\\n          Tai', '\\n\\n          uses', '\\n\\n          out', '\\n\\n          rolls', '\\n\\n          Po', '\\n\\n          down', '\\n\\n          fireworks', '\\n\\n          Po', '\\n\\n          scroll', '\\n\\n          ornamental', '\\n\\n          sees', '\\n\\n          vision', '\\n\\n          shocked', '\\n\\n          He', '\\n\\n          shockwave', '\\n\\n          Amazingly', '\\n\\n          the', '\\n\\n          unleashes', '\\n\\n          ground', '\\n\\n          punch', '\\n\\n          As', '\\n\\n          impact', '\\n\\n          Tai', '\\n\\n          Po', '\\n\\n          Po', '\\n\\n          Tai', '\\n\\n          Tai', '\\n\\n          Tai', '\\n\\n          delivers', '\\n\\n          The', '\\n\\n          come', '\\n\\n          back', '\\n\\n          he', '\\n\\n          Tai', '\\n\\n          strikes', '\\n\\n          getting', '\\n\\n          Lung', '\\n\\n          Lung', '\\n\\n          prepares', '\\n\\n          He', '\\n\\n          finally', '\\n\\n          ground', '\\n\\n          Tai', '\\n\\n          SCHWING', '\\n\\n          Po', '\\n\\n          He', '\\n\\n          KA', '\\n\\n          EXT', '\\n\\n          A', '\\n\\n          Furious', '\\n\\n          EXT', '\\n\\n          Villagers', '\\n\\n          looking', '\\n\\n          As', '\\n\\n          his', '\\n\\n          Villagers', '\\n\\n          crowd', '\\n\\n          Po', '\\n\\n          ground', '\\n\\n          of', '\\n\\n          Tigress', '\\n\\n          Po', '\\n\\n          more', '\\n\\n          INT', '\\n\\n          Po', '\\n\\n          lying', '\\n\\n          side', '\\n\\n          Shifu', '\\n\\n          Shifu', '\\n\\n          Shifu', '\\n\\n          Po', '\\n\\n          pupil', '\\n\\n          away', '\\n\\n          He', '\\n\\n          for']"
      ]
     },
     "execution_count": 31,
     "metadata": {},
     "output_type": "execute_result"
    }
   ],
   "source": [
    "headers"
   ]
  },
  {
   "cell_type": "code",
   "execution_count": 32,
   "metadata": {},
   "outputs": [],
   "source": [
    "kfp_lines = no_cuts.split(\"_NEWLINE_\")"
   ]
  },
  {
   "cell_type": "code",
   "execution_count": 33,
   "metadata": {},
   "outputs": [
    {
     "data": {
      "text/plain": [
       "691"
      ]
     },
     "execution_count": 33,
     "metadata": {},
     "output_type": "execute_result"
    }
   ],
   "source": [
    "len(kfp_lines)"
   ]
  },
  {
   "cell_type": "code",
   "execution_count": 34,
   "metadata": {},
   "outputs": [],
   "source": [
    "kfp_lines = kfp_lines[1:]"
   ]
  },
  {
   "cell_type": "code",
   "execution_count": 35,
   "metadata": {},
   "outputs": [
    {
     "data": {
      "text/plain": [
       "['NARRATOR_                     Legend tells of a legendary warrior\\n\\n                     whose Kung Fu skills were the stuff\\n\\n                     of legend._NOTLINE_ warrior, his identity hidden beneath his flowing robe and_NOTLINE_-brimmed hat, gnaws on a staff of bamboo.', 'NARRATOR_                     He traveled the land in search of\\n\\n                     worthy foes._NOTLINE_UT TO:_NOTLINE_. BAR_NOTLINE_ warrior sits at a table drinking tea and gnawing on his_NOTLINE_. The door BLASTS open. The MANCHU GANG rushes in and_NOTLINE_ him.', 'GANG BOSS_\\n\\n                     I see you like to CHEW!\\n\\n\\n\\n                     Maybe you should chew on my FIST!!_NOTLINE_ Boss punches the table.', 'NARRATOR_                     The warrior said nothing for his\\n\\n                     mouth was full. Then, he swallowed._NOTLINE_ swallows.', 'NARRATOR_                     And then, he spoke.', \"WARRIOR_\\n\\n                     Enough talk. Let's FIGHT!\\n\\n                     SHASHABOOEY!_NOTLINE_! The warrior delivers a punch and the whole gang goes_NOTLINE_.\", 'NARRATOR_                     He was so deadly in fact that his\\n\\n                     enemies would go blind from\\n\\n                     overexposure to pure awesomeness._NOTLINE_._NOTLINE_ gang members blindly flail about.', 'NINJA CAT_                    MY EYES!', \"GATOR_                    HE'S TOO AWESOME!_NOTLINE_ swoon.\", 'SMITTEN BUNNY_                    And ATTRACTIVE!']"
      ]
     },
     "execution_count": 35,
     "metadata": {},
     "output_type": "execute_result"
    }
   ],
   "source": [
    "kfp_lines[:10]"
   ]
  },
  {
   "cell_type": "code",
   "execution_count": 36,
   "metadata": {},
   "outputs": [],
   "source": [
    "real_kfp_lines = []\n",
    "for line in kfp_lines:\n",
    "    real_line = line.split(\"_NOTLINE_\")[0]\n",
    "    real_kfp_lines.append(real_line)"
   ]
  },
  {
   "cell_type": "code",
   "execution_count": 37,
   "metadata": {},
   "outputs": [
    {
     "data": {
      "text/plain": [
       "690"
      ]
     },
     "execution_count": 37,
     "metadata": {},
     "output_type": "execute_result"
    }
   ],
   "source": [
    "len(real_kfp_lines) #good"
   ]
  },
  {
   "cell_type": "code",
   "execution_count": 38,
   "metadata": {},
   "outputs": [
    {
     "data": {
      "text/plain": [
       "['NARRATOR_                     Legend tells of a legendary warrior\\n\\n                     whose Kung Fu skills were the stuff\\n\\n                     of legend.', 'NARRATOR_                     He traveled the land in search of\\n\\n                     worthy foes.', 'GANG BOSS_\\n\\n                     I see you like to CHEW!\\n\\n\\n\\n                     Maybe you should chew on my FIST!!', 'NARRATOR_                     The warrior said nothing for his\\n\\n                     mouth was full. Then, he swallowed.', 'NARRATOR_                     And then, he spoke.', \"WARRIOR_\\n\\n                     Enough talk. Let's FIGHT!\\n\\n                     SHASHABOOEY!\", 'NARRATOR_                     He was so deadly in fact that his\\n\\n                     enemies would go blind from\\n\\n                     overexposure to pure awesomeness.', 'NINJA CAT_                    MY EYES!', \"GATOR_                    HE'S TOO AWESOME!\", 'SMITTEN BUNNY_                    And ATTRACTIVE!']"
      ]
     },
     "execution_count": 38,
     "metadata": {},
     "output_type": "execute_result"
    }
   ],
   "source": [
    "real_kfp_lines[:10]"
   ]
  },
  {
   "cell_type": "code",
   "execution_count": 39,
   "metadata": {},
   "outputs": [],
   "source": [
    "##Splitting Speaker/Text\n",
    "speaker_text = []\n",
    "for line in real_kfp_lines:\n",
    "    line = line.replace(\"\\n\", '')\n",
    "    line = re.sub(r\" {3,}\", ' ', line)\n",
    "    tup = line.split(\"_\")\n",
    "    tup[0] = tup[0].lower().strip()\n",
    "    tup[1] = tup[1].lower().strip()\n",
    "    speaker_text.append(tuple(tup))"
   ]
  },
  {
   "cell_type": "code",
   "execution_count": 40,
   "metadata": {},
   "outputs": [
    {
     "data": {
      "text/plain": [
       "690"
      ]
     },
     "execution_count": 40,
     "metadata": {},
     "output_type": "execute_result"
    }
   ],
   "source": [
    "len(speaker_text)"
   ]
  },
  {
   "cell_type": "code",
   "execution_count": 41,
   "metadata": {},
   "outputs": [
    {
     "data": {
      "text/plain": [
       "[('po', \"no, master, i didn't die. i defeated tai lung!\"), ('shifu', 'you did?!'), ('shifu', 'wow. it is as oogway foretold -- you are the dragon warrior. you have brought peace to this valley. and to me. thank you. thank you, po. thank you...'), ('po', \"no! master! no no no! don't die, shifu. please...\"), ('shifu', \"i'm not dying, you idiot-- ah, dragon warrior. i'm simply at peace. finally.\"), ('po', 'oh. so, um, i should...stop talking?'), ('shifu', 'if you can.'), ('po', 'want to get something to eat?'), ('shifu', 'yeah.'), ('the end', '')]"
      ]
     },
     "execution_count": 41,
     "metadata": {},
     "output_type": "execute_result"
    }
   ],
   "source": [
    "speaker_text[-10:]"
   ]
  },
  {
   "cell_type": "code",
   "execution_count": 42,
   "metadata": {},
   "outputs": [],
   "source": [
    "speaker_text = speaker_text[:-1]"
   ]
  },
  {
   "cell_type": "code",
   "execution_count": 43,
   "metadata": {},
   "outputs": [
    {
     "data": {
      "text/plain": [
       "[('shifu', \"po! you're alive! or we're both dead.\"), ('po', \"no, master, i didn't die. i defeated tai lung!\"), ('shifu', 'you did?!'), ('shifu', 'wow. it is as oogway foretold -- you are the dragon warrior. you have brought peace to this valley. and to me. thank you. thank you, po. thank you...'), ('po', \"no! master! no no no! don't die, shifu. please...\"), ('shifu', \"i'm not dying, you idiot-- ah, dragon warrior. i'm simply at peace. finally.\"), ('po', 'oh. so, um, i should...stop talking?'), ('shifu', 'if you can.'), ('po', 'want to get something to eat?'), ('shifu', 'yeah.')]"
      ]
     },
     "execution_count": 43,
     "metadata": {},
     "output_type": "execute_result"
    }
   ],
   "source": [
    "speaker_text[-10:]"
   ]
  },
  {
   "cell_type": "code",
   "execution_count": 44,
   "metadata": {},
   "outputs": [],
   "source": [
    "kfp = pd.DataFrame(speaker_text, columns=[\"Speaker\", \"Text\"])"
   ]
  },
  {
   "cell_type": "code",
   "execution_count": 45,
   "metadata": {},
   "outputs": [
    {
     "data": {
      "text/html": [
       "<div>\n",
       "<style scoped>\n",
       "    .dataframe tbody tr th:only-of-type {\n",
       "        vertical-align: middle;\n",
       "    }\n",
       "\n",
       "    .dataframe tbody tr th {\n",
       "        vertical-align: top;\n",
       "    }\n",
       "\n",
       "    .dataframe thead th {\n",
       "        text-align: right;\n",
       "    }\n",
       "</style>\n",
       "<table border=\"1\" class=\"dataframe\">\n",
       "  <thead>\n",
       "    <tr style=\"text-align: right;\">\n",
       "      <th></th>\n",
       "      <th>Speaker</th>\n",
       "      <th>Text</th>\n",
       "    </tr>\n",
       "  </thead>\n",
       "  <tbody>\n",
       "    <tr>\n",
       "      <th>0</th>\n",
       "      <td>narrator</td>\n",
       "      <td>legend tells of a legendary warrior whose kung...</td>\n",
       "    </tr>\n",
       "    <tr>\n",
       "      <th>1</th>\n",
       "      <td>narrator</td>\n",
       "      <td>he traveled the land in search of worthy foes.</td>\n",
       "    </tr>\n",
       "    <tr>\n",
       "      <th>2</th>\n",
       "      <td>gang boss</td>\n",
       "      <td>i see you like to chew! maybe you should chew ...</td>\n",
       "    </tr>\n",
       "    <tr>\n",
       "      <th>3</th>\n",
       "      <td>narrator</td>\n",
       "      <td>the warrior said nothing for his mouth was ful...</td>\n",
       "    </tr>\n",
       "    <tr>\n",
       "      <th>4</th>\n",
       "      <td>narrator</td>\n",
       "      <td>and then, he spoke.</td>\n",
       "    </tr>\n",
       "  </tbody>\n",
       "</table>\n",
       "</div>"
      ],
      "text/plain": [
       "     Speaker                                               Text\n",
       "0   narrator  legend tells of a legendary warrior whose kung...\n",
       "1   narrator     he traveled the land in search of worthy foes.\n",
       "2  gang boss  i see you like to chew! maybe you should chew ...\n",
       "3   narrator  the warrior said nothing for his mouth was ful...\n",
       "4   narrator                                and then, he spoke."
      ]
     },
     "execution_count": 45,
     "metadata": {},
     "output_type": "execute_result"
    }
   ],
   "source": [
    "kfp.head()"
   ]
  },
  {
   "cell_type": "code",
   "execution_count": 46,
   "metadata": {},
   "outputs": [
    {
     "data": {
      "text/html": [
       "<div>\n",
       "<style scoped>\n",
       "    .dataframe tbody tr th:only-of-type {\n",
       "        vertical-align: middle;\n",
       "    }\n",
       "\n",
       "    .dataframe tbody tr th {\n",
       "        vertical-align: top;\n",
       "    }\n",
       "\n",
       "    .dataframe thead th {\n",
       "        text-align: right;\n",
       "    }\n",
       "</style>\n",
       "<table border=\"1\" class=\"dataframe\">\n",
       "  <thead>\n",
       "    <tr style=\"text-align: right;\">\n",
       "      <th></th>\n",
       "      <th>Speaker</th>\n",
       "      <th>Text</th>\n",
       "    </tr>\n",
       "  </thead>\n",
       "  <tbody>\n",
       "    <tr>\n",
       "      <th>684</th>\n",
       "      <td>shifu</td>\n",
       "      <td>i'm not dying, you idiot-- ah, dragon warrior....</td>\n",
       "    </tr>\n",
       "    <tr>\n",
       "      <th>685</th>\n",
       "      <td>po</td>\n",
       "      <td>oh. so, um, i should...stop talking?</td>\n",
       "    </tr>\n",
       "    <tr>\n",
       "      <th>686</th>\n",
       "      <td>shifu</td>\n",
       "      <td>if you can.</td>\n",
       "    </tr>\n",
       "    <tr>\n",
       "      <th>687</th>\n",
       "      <td>po</td>\n",
       "      <td>want to get something to eat?</td>\n",
       "    </tr>\n",
       "    <tr>\n",
       "      <th>688</th>\n",
       "      <td>shifu</td>\n",
       "      <td>yeah.</td>\n",
       "    </tr>\n",
       "  </tbody>\n",
       "</table>\n",
       "</div>"
      ],
      "text/plain": [
       "    Speaker                                               Text\n",
       "684   shifu  i'm not dying, you idiot-- ah, dragon warrior....\n",
       "685      po               oh. so, um, i should...stop talking?\n",
       "686   shifu                                        if you can.\n",
       "687      po                      want to get something to eat?\n",
       "688   shifu                                              yeah."
      ]
     },
     "execution_count": 46,
     "metadata": {},
     "output_type": "execute_result"
    }
   ],
   "source": [
    "kfp.tail()"
   ]
  },
  {
   "cell_type": "code",
   "execution_count": 49,
   "metadata": {},
   "outputs": [],
   "source": [
    "kfp.to_pickle(r\"C:\\Users\\cassi\\Desktop\\Data_Science\\Animated-Movie-Gendered-Dialogue\\private\\kfp_lines_2.pkl\")"
   ]
  },
  {
   "cell_type": "code",
   "execution_count": null,
   "metadata": {},
   "outputs": [],
   "source": [
    "#had to save this as a csv file because for some reason my pickle didn't work"
   ]
  },
  {
   "cell_type": "code",
   "execution_count": 50,
   "metadata": {},
   "outputs": [],
   "source": [
    "kfp.to_csv(r\"C:\\Users\\cassi\\Desktop\\Data_Science\\Animated-Movie-Gendered-Dialogue\\private\\kfp_lines.csv\")"
   ]
  },
  {
   "cell_type": "code",
   "execution_count": null,
   "metadata": {},
   "outputs": [],
   "source": []
  }
 ],
 "metadata": {
  "kernelspec": {
   "display_name": "Python 3",
   "language": "python",
   "name": "python3"
  },
  "language_info": {
   "codemirror_mode": {
    "name": "ipython",
    "version": 3
   },
   "file_extension": ".py",
   "mimetype": "text/x-python",
   "name": "python",
   "nbconvert_exporter": "python",
   "pygments_lexer": "ipython3",
   "version": "3.6.4"
  }
 },
 "nbformat": 4,
 "nbformat_minor": 2
}
