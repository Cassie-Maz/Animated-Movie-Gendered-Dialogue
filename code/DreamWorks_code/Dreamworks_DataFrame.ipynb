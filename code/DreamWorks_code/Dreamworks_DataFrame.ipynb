{
 "cells": [
  {
   "cell_type": "markdown",
   "metadata": {},
   "source": [
    "# Building the Dreamworks Data Frame\n",
    "This code is very similar to the code in my Disney dataframe notebooke, found [here](https://github.com/Data-Science-for-Linguists-2019/Animated-Movie-Gendered-Dialogue/blob/master/code/Disney_code/Disney_Data_Complete_Edits_Good.ipynb).\n",
    "\n",
    "I will be labeling gender and roles in each Dreamworks movie. Because the Dreamworks films widely don't feature singing. The song function will be used rarely, if at all. The nine movies dataframes to annotate are: Antz, Shrek, Shrek the Third, How to Train Your Dragon, How to Train Your Dragon 2, The Croods, Rise of the Guardians, Kung Fu Panda, and Megamind. I'll need to add...\n",
    "* Gender\n",
    "* Role\n",
    "* Speaker Status (princess, prince, or neither)\n",
    "* Dialogue Labels\n",
    "\n",
    "After adding all this, I'll add\n",
    "* Movie name\n",
    "* Year of release\n",
    "* Utterance Numbers\n",
    "\n",
    "Finally, I concatenate all these together, and add a Disney_Period column. However, instead of adding a period, I'll simply label \"Dreamworks\", so I can easily split Disney and Dreamworks data later."
   ]
  },
  {
   "cell_type": "markdown",
   "metadata": {},
   "source": [
    "## Necessary Functions"
   ]
  },
  {
   "cell_type": "code",
   "execution_count": 1,
   "metadata": {},
   "outputs": [],
   "source": [
    "#Gender Label\n",
    "def whichgen(name, female, male):\n",
    "    if name in female: return 'f'\n",
    "    elif name in male: return 'm'\n",
    "    else: return 'n'\n",
    "\n",
    "#Role Label\n",
    "def whichrole(name, pro, ant, helper):\n",
    "    if name in pro: return 'PRO'\n",
    "    if name in ant: return 'ANT'\n",
    "    if name in helper: return 'HELPER'\n",
    "    else: return \"N\" #for neutral\n",
    "\n",
    "#Dialogue Label\n",
    "def is_dialogue(line, song):\n",
    "    if line in song: return 'S'\n",
    "    else: return 'D'\n",
    "    \n",
    "#Status Label\n",
    "def status(name, princess, prince):\n",
    "    if name in princess: return 'PRINCESS'\n",
    "    if name in prince: return 'PRINCE'\n",
    "    else: return 'NON-P'"
   ]
  },
  {
   "cell_type": "code",
   "execution_count": 2,
   "metadata": {},
   "outputs": [],
   "source": [
    "import functools\n",
    "from functools import partial"
   ]
  },
  {
   "cell_type": "code",
   "execution_count": 3,
   "metadata": {},
   "outputs": [],
   "source": [
    "import pandas as pd"
   ]
  },
  {
   "cell_type": "code",
   "execution_count": 4,
   "metadata": {},
   "outputs": [
    {
     "name": "stdout",
     "output_type": "stream",
     "text": [
      "Pretty printing has been turned OFF\n"
     ]
    }
   ],
   "source": [
    "%pprint"
   ]
  },
  {
   "cell_type": "markdown",
   "metadata": {},
   "source": [
    "## Antz"
   ]
  },
  {
   "cell_type": "code",
   "execution_count": 5,
   "metadata": {},
   "outputs": [],
   "source": [
    "antz_df = pd.read_pickle(r\"C:/Users/cassi/Desktop/Data_Science/Animated-Movie-Gendered-Dialogue/private/antz_lines.pkl\")"
   ]
  },
  {
   "cell_type": "code",
   "execution_count": 6,
   "metadata": {},
   "outputs": [
    {
     "data": {
      "text/html": [
       "<div>\n",
       "<style scoped>\n",
       "    .dataframe tbody tr th:only-of-type {\n",
       "        vertical-align: middle;\n",
       "    }\n",
       "\n",
       "    .dataframe tbody tr th {\n",
       "        vertical-align: top;\n",
       "    }\n",
       "\n",
       "    .dataframe thead th {\n",
       "        text-align: right;\n",
       "    }\n",
       "</style>\n",
       "<table border=\"1\" class=\"dataframe\">\n",
       "  <thead>\n",
       "    <tr style=\"text-align: right;\">\n",
       "      <th></th>\n",
       "      <th>Speaker</th>\n",
       "      <th>Text</th>\n",
       "    </tr>\n",
       "  </thead>\n",
       "  <tbody>\n",
       "    <tr>\n",
       "      <th>0</th>\n",
       "      <td>Z</td>\n",
       "      <td>All my life, I've lived and worked in the big...</td>\n",
       "    </tr>\n",
       "    <tr>\n",
       "      <th>1</th>\n",
       "      <td>Z</td>\n",
       "      <td>...which is kind of a problem, since I've alwa...</td>\n",
       "    </tr>\n",
       "    <tr>\n",
       "      <th>2</th>\n",
       "      <td>Z</td>\n",
       "      <td>I feel...isolated.  Different.  I've got aband...</td>\n",
       "    </tr>\n",
       "    <tr>\n",
       "      <th>3</th>\n",
       "      <td>MOTIVATIONAL COUNSELLOR</td>\n",
       "      <td>Terrific!  You should feel insignificant!</td>\n",
       "    </tr>\n",
       "    <tr>\n",
       "      <th>4</th>\n",
       "      <td>Z</td>\n",
       "      <td>...I should?</td>\n",
       "    </tr>\n",
       "  </tbody>\n",
       "</table>\n",
       "</div>"
      ],
      "text/plain": [
       "                   Speaker                                               Text\n",
       "0                       Z    All my life, I've lived and worked in the big...\n",
       "1                       Z   ...which is kind of a problem, since I've alwa...\n",
       "2                        Z  I feel...isolated.  Different.  I've got aband...\n",
       "3  MOTIVATIONAL COUNSELLOR          Terrific!  You should feel insignificant!\n",
       "4                        Z                                       ...I should?"
      ]
     },
     "execution_count": 6,
     "metadata": {},
     "output_type": "execute_result"
    }
   ],
   "source": [
    "antz_df.head()"
   ]
  },
  {
   "cell_type": "code",
   "execution_count": 7,
   "metadata": {},
   "outputs": [],
   "source": [
    "# Need to lower all entries\n",
    "antz_df.Speaker = antz_df.Speaker.str.lower().str.strip()"
   ]
  },
  {
   "cell_type": "code",
   "execution_count": 8,
   "metadata": {},
   "outputs": [],
   "source": [
    "antz_df.Text = antz_df.Text.str.lower().str.strip()"
   ]
  },
  {
   "cell_type": "code",
   "execution_count": 9,
   "metadata": {},
   "outputs": [
    {
     "data": {
      "text/html": [
       "<div>\n",
       "<style scoped>\n",
       "    .dataframe tbody tr th:only-of-type {\n",
       "        vertical-align: middle;\n",
       "    }\n",
       "\n",
       "    .dataframe tbody tr th {\n",
       "        vertical-align: top;\n",
       "    }\n",
       "\n",
       "    .dataframe thead th {\n",
       "        text-align: right;\n",
       "    }\n",
       "</style>\n",
       "<table border=\"1\" class=\"dataframe\">\n",
       "  <thead>\n",
       "    <tr style=\"text-align: right;\">\n",
       "      <th></th>\n",
       "      <th>Speaker</th>\n",
       "      <th>Text</th>\n",
       "    </tr>\n",
       "  </thead>\n",
       "  <tbody>\n",
       "    <tr>\n",
       "      <th>0</th>\n",
       "      <td>z</td>\n",
       "      <td>all my life, i've lived and worked in the big ...</td>\n",
       "    </tr>\n",
       "    <tr>\n",
       "      <th>1</th>\n",
       "      <td>z</td>\n",
       "      <td>...which is kind of a problem, since i've alwa...</td>\n",
       "    </tr>\n",
       "    <tr>\n",
       "      <th>2</th>\n",
       "      <td>z</td>\n",
       "      <td>i feel...isolated.  different.  i've got aband...</td>\n",
       "    </tr>\n",
       "    <tr>\n",
       "      <th>3</th>\n",
       "      <td>motivational counsellor</td>\n",
       "      <td>terrific!  you should feel insignificant!</td>\n",
       "    </tr>\n",
       "    <tr>\n",
       "      <th>4</th>\n",
       "      <td>z</td>\n",
       "      <td>...i should?</td>\n",
       "    </tr>\n",
       "  </tbody>\n",
       "</table>\n",
       "</div>"
      ],
      "text/plain": [
       "                   Speaker                                               Text\n",
       "0                        z  all my life, i've lived and worked in the big ...\n",
       "1                        z  ...which is kind of a problem, since i've alwa...\n",
       "2                        z  i feel...isolated.  different.  i've got aband...\n",
       "3  motivational counsellor          terrific!  you should feel insignificant!\n",
       "4                        z                                       ...i should?"
      ]
     },
     "execution_count": 9,
     "metadata": {},
     "output_type": "execute_result"
    }
   ],
   "source": [
    "antz_df.head()"
   ]
  },
  {
   "cell_type": "code",
   "execution_count": 10,
   "metadata": {},
   "outputs": [
    {
     "data": {
      "text/plain": [
       "['all', 'ant officer', 'ant soldiers', 'aphids', 'azteca', 'bala', 'barbatus', 'barker', 'bartender', 'beetle', 'butterfly', 'carpenter', 'colonel', 'commando #1', 'commando ant', 'commando ant #1', 'commando ant #3', 'cricket', 'drunk scout', 'excited ants', 'female wasp', 'fly', 'foreman', 'formica', 'general formica', 'guard ant', 'handmaiden #1', 'handmaiden #2', 'ladybug', 'loud voice', 'major mandible', 'male wasp', 'mandible', 'motivational counsellor', 'officer', 'princess', 'queen', 'soldier', 'soldier #2', 'soldier ant', 'soldier ants', 'soldiers', 'the wasps', 'tough voice', 'tracker ant', 'wasp', 'weaver', 'worker', 'worker #1', 'worker #2', 'worker #3', 'worker #4', 'worker ant #1', 'worker ants', 'workers', 'z']"
      ]
     },
     "execution_count": 10,
     "metadata": {},
     "output_type": "execute_result"
    }
   ],
   "source": [
    "sorted(antz_df.Speaker.unique())"
   ]
  },
  {
   "cell_type": "markdown",
   "metadata": {},
   "source": [
    "### Gender"
   ]
  },
  {
   "cell_type": "code",
   "execution_count": 11,
   "metadata": {},
   "outputs": [],
   "source": [
    "antz_female = ['azteca', 'bala', 'female wasp', 'handmaiden #1', 'handmaiden #2', 'princess', 'queen']\n",
    "antz_male = ['z', 'motivational counsellor', 'ant soldiers', 'barbatus', 'major mandible', 'male wasp', 'mandible', 'weaver',\n",
    "         'drunk scout', 'foreman', 'formica', 'general formica', 'bartender']\n",
    "#the genders of several other characters are ambiguous"
   ]
  },
  {
   "cell_type": "code",
   "execution_count": 12,
   "metadata": {},
   "outputs": [],
   "source": [
    "gender_func = partial(whichgen, female = antz_female, male= antz_male)\n",
    "antz_df[\"Gender\"] = antz_df.Speaker.map(gender_func)"
   ]
  },
  {
   "cell_type": "markdown",
   "metadata": {},
   "source": [
    "### Role"
   ]
  },
  {
   "cell_type": "code",
   "execution_count": 13,
   "metadata": {},
   "outputs": [],
   "source": [
    "antz_pro = ['z', 'bala', 'princess']\n",
    "antz_ant = ['mandible', 'major mandible']\n",
    "antz_helper = ['weaver', 'azteca', 'barbatus', 'formica', 'general formica']"
   ]
  },
  {
   "cell_type": "code",
   "execution_count": 14,
   "metadata": {},
   "outputs": [],
   "source": [
    "role_func = partial(whichrole, pro = antz_pro, ant=antz_ant, helper = antz_helper)\n",
    "antz_df[\"Role\"] = antz_df.Speaker.map(role_func)"
   ]
  },
  {
   "cell_type": "markdown",
   "metadata": {},
   "source": [
    "### Status"
   ]
  },
  {
   "cell_type": "code",
   "execution_count": 15,
   "metadata": {},
   "outputs": [],
   "source": [
    "antz_princess = ['bala, princess']\n",
    "antz_prince = []"
   ]
  },
  {
   "cell_type": "code",
   "execution_count": 16,
   "metadata": {},
   "outputs": [],
   "source": [
    "status_func = partial(status, princess = antz_princess, prince = antz_prince)\n",
    "antz_df['Speaker_Status'] = antz_df.Speaker.map(status_func)"
   ]
  },
  {
   "cell_type": "markdown",
   "metadata": {},
   "source": [
    "### Song\n",
    "Z sings Almost Like Being in Love at one point in the movie, but it doesn't seem to be in the script."
   ]
  },
  {
   "cell_type": "code",
   "execution_count": 17,
   "metadata": {},
   "outputs": [
    {
     "name": "stdout",
     "output_type": "stream",
     "text": [
      "in love\n",
      "     Speaker                                               Text\n",
      "260        z                          so...you two are in love?\n",
      "261  formica  in love?  i'm just a plain old soldier at hear...\n",
      "\n",
      "\n",
      "almost like\n",
      "Empty DataFrame\n",
      "Columns: [Speaker, Text]\n",
      "Index: []\n",
      "\n",
      "\n"
     ]
    }
   ],
   "source": [
    "antz_song_words = ['in love', 'almost like']\n",
    "for line in antz_song_words:\n",
    "    print(line)\n",
    "    print(antz_df[[\"Speaker\", \"Text\"]][antz_df.Text.str.contains(line, regex = False)])\n",
    "    print('\\n')"
   ]
  },
  {
   "cell_type": "markdown",
   "metadata": {},
   "source": [
    "### Song/Movie/Year/Utterance Number"
   ]
  },
  {
   "cell_type": "code",
   "execution_count": 18,
   "metadata": {},
   "outputs": [],
   "source": [
    "antz_df['Song'] = 'D'\n",
    "antz_df['Movie'] = 'Antz'\n",
    "antz_df['Year'] = 1998\n",
    "antz_df['UTTERANCE_NUMBER'] = antz_df.Text.index + 1"
   ]
  },
  {
   "cell_type": "code",
   "execution_count": 19,
   "metadata": {},
   "outputs": [
    {
     "name": "stdout",
     "output_type": "stream",
     "text": [
      "<class 'pandas.core.frame.DataFrame'>\n",
      "RangeIndex: 644 entries, 0 to 643\n",
      "Data columns (total 9 columns):\n",
      "Speaker             644 non-null object\n",
      "Text                644 non-null object\n",
      "Gender              644 non-null object\n",
      "Role                644 non-null object\n",
      "Speaker_Status      644 non-null object\n",
      "Song                644 non-null object\n",
      "Movie               644 non-null object\n",
      "Year                644 non-null int64\n",
      "UTTERANCE_NUMBER    644 non-null int64\n",
      "dtypes: int64(2), object(7)\n",
      "memory usage: 27.7+ KB\n"
     ]
    }
   ],
   "source": [
    "antz_df.info()"
   ]
  },
  {
   "cell_type": "code",
   "execution_count": 20,
   "metadata": {},
   "outputs": [
    {
     "data": {
      "text/html": [
       "<div>\n",
       "<style scoped>\n",
       "    .dataframe tbody tr th:only-of-type {\n",
       "        vertical-align: middle;\n",
       "    }\n",
       "\n",
       "    .dataframe tbody tr th {\n",
       "        vertical-align: top;\n",
       "    }\n",
       "\n",
       "    .dataframe thead th {\n",
       "        text-align: right;\n",
       "    }\n",
       "</style>\n",
       "<table border=\"1\" class=\"dataframe\">\n",
       "  <thead>\n",
       "    <tr style=\"text-align: right;\">\n",
       "      <th></th>\n",
       "      <th>Speaker</th>\n",
       "      <th>Text</th>\n",
       "      <th>Gender</th>\n",
       "      <th>Role</th>\n",
       "      <th>Speaker_Status</th>\n",
       "      <th>Song</th>\n",
       "      <th>Movie</th>\n",
       "      <th>Year</th>\n",
       "      <th>UTTERANCE_NUMBER</th>\n",
       "    </tr>\n",
       "  </thead>\n",
       "  <tbody>\n",
       "    <tr>\n",
       "      <th>101</th>\n",
       "      <td>bala</td>\n",
       "      <td>i'm just a common worker, cooling off after a ...</td>\n",
       "      <td>f</td>\n",
       "      <td>PRO</td>\n",
       "      <td>NON-P</td>\n",
       "      <td>D</td>\n",
       "      <td>Antz</td>\n",
       "      <td>1998</td>\n",
       "      <td>102</td>\n",
       "    </tr>\n",
       "    <tr>\n",
       "      <th>553</th>\n",
       "      <td>bala</td>\n",
       "      <td>z!  you came back!</td>\n",
       "      <td>f</td>\n",
       "      <td>PRO</td>\n",
       "      <td>NON-P</td>\n",
       "      <td>D</td>\n",
       "      <td>Antz</td>\n",
       "      <td>1998</td>\n",
       "      <td>554</td>\n",
       "    </tr>\n",
       "    <tr>\n",
       "      <th>393</th>\n",
       "      <td>formica</td>\n",
       "      <td>no one should have to.  have him brought to me.</td>\n",
       "      <td>m</td>\n",
       "      <td>HELPER</td>\n",
       "      <td>NON-P</td>\n",
       "      <td>D</td>\n",
       "      <td>Antz</td>\n",
       "      <td>1998</td>\n",
       "      <td>394</td>\n",
       "    </tr>\n",
       "    <tr>\n",
       "      <th>239</th>\n",
       "      <td>azteca</td>\n",
       "      <td>are you asking me out to dinner?</td>\n",
       "      <td>f</td>\n",
       "      <td>HELPER</td>\n",
       "      <td>NON-P</td>\n",
       "      <td>D</td>\n",
       "      <td>Antz</td>\n",
       "      <td>1998</td>\n",
       "      <td>240</td>\n",
       "    </tr>\n",
       "    <tr>\n",
       "      <th>45</th>\n",
       "      <td>queen</td>\n",
       "      <td>bala has always been a hopeless romantic, gene...</td>\n",
       "      <td>f</td>\n",
       "      <td>N</td>\n",
       "      <td>NON-P</td>\n",
       "      <td>D</td>\n",
       "      <td>Antz</td>\n",
       "      <td>1998</td>\n",
       "      <td>46</td>\n",
       "    </tr>\n",
       "  </tbody>\n",
       "</table>\n",
       "</div>"
      ],
      "text/plain": [
       "     Speaker                                               Text Gender  \\\n",
       "101     bala  i'm just a common worker, cooling off after a ...      f   \n",
       "553     bala                                 z!  you came back!      f   \n",
       "393  formica    no one should have to.  have him brought to me.      m   \n",
       "239   azteca                   are you asking me out to dinner?      f   \n",
       "45     queen  bala has always been a hopeless romantic, gene...      f   \n",
       "\n",
       "       Role Speaker_Status Song Movie  Year  UTTERANCE_NUMBER  \n",
       "101     PRO          NON-P    D  Antz  1998               102  \n",
       "553     PRO          NON-P    D  Antz  1998               554  \n",
       "393  HELPER          NON-P    D  Antz  1998               394  \n",
       "239  HELPER          NON-P    D  Antz  1998               240  \n",
       "45        N          NON-P    D  Antz  1998                46  "
      ]
     },
     "execution_count": 20,
     "metadata": {},
     "output_type": "execute_result"
    }
   ],
   "source": [
    "antz_df.sample(5)"
   ]
  },
  {
   "cell_type": "markdown",
   "metadata": {},
   "source": [
    "## Shrek"
   ]
  },
  {
   "cell_type": "code",
   "execution_count": 21,
   "metadata": {},
   "outputs": [],
   "source": [
    "shrek_df = pd.read_pickle(r\"C:/Users/cassi/Desktop/Data_Science/Animated-Movie-Gendered-Dialogue/private/shrek_lines.pkl\")"
   ]
  },
  {
   "cell_type": "code",
   "execution_count": 22,
   "metadata": {},
   "outputs": [
    {
     "data": {
      "text/html": [
       "<div>\n",
       "<style scoped>\n",
       "    .dataframe tbody tr th:only-of-type {\n",
       "        vertical-align: middle;\n",
       "    }\n",
       "\n",
       "    .dataframe tbody tr th {\n",
       "        vertical-align: top;\n",
       "    }\n",
       "\n",
       "    .dataframe thead th {\n",
       "        text-align: right;\n",
       "    }\n",
       "</style>\n",
       "<table border=\"1\" class=\"dataframe\">\n",
       "  <thead>\n",
       "    <tr style=\"text-align: right;\">\n",
       "      <th></th>\n",
       "      <th>Speaker</th>\n",
       "      <th>Text</th>\n",
       "      <th>Speaker_Status</th>\n",
       "      <th>Movie</th>\n",
       "      <th>Year</th>\n",
       "      <th>UTTERANCE_NUMBER</th>\n",
       "    </tr>\n",
       "  </thead>\n",
       "  <tbody>\n",
       "    <tr>\n",
       "      <th>0</th>\n",
       "      <td>shrek</td>\n",
       "      <td>once upon a time there was a lovely princess. ...</td>\n",
       "      <td>NON-P</td>\n",
       "      <td>Shrek</td>\n",
       "      <td>2001</td>\n",
       "      <td>1</td>\n",
       "    </tr>\n",
       "    <tr>\n",
       "      <th>1</th>\n",
       "      <td>man1</td>\n",
       "      <td>think it's in there?</td>\n",
       "      <td>NON-P</td>\n",
       "      <td>Shrek</td>\n",
       "      <td>2001</td>\n",
       "      <td>2</td>\n",
       "    </tr>\n",
       "    <tr>\n",
       "      <th>2</th>\n",
       "      <td>man2</td>\n",
       "      <td>all right. let's get it!</td>\n",
       "      <td>NON-P</td>\n",
       "      <td>Shrek</td>\n",
       "      <td>2001</td>\n",
       "      <td>3</td>\n",
       "    </tr>\n",
       "    <tr>\n",
       "      <th>3</th>\n",
       "      <td>man1</td>\n",
       "      <td>whoa. hold on. do you know what that thing can...</td>\n",
       "      <td>NON-P</td>\n",
       "      <td>Shrek</td>\n",
       "      <td>2001</td>\n",
       "      <td>4</td>\n",
       "    </tr>\n",
       "    <tr>\n",
       "      <th>4</th>\n",
       "      <td>man3</td>\n",
       "      <td>yeah, it'll grind your bones for it's bread.</td>\n",
       "      <td>NON-P</td>\n",
       "      <td>Shrek</td>\n",
       "      <td>2001</td>\n",
       "      <td>5</td>\n",
       "    </tr>\n",
       "  </tbody>\n",
       "</table>\n",
       "</div>"
      ],
      "text/plain": [
       "  Speaker                                               Text Speaker_Status  \\\n",
       "0   shrek  once upon a time there was a lovely princess. ...          NON-P   \n",
       "1    man1                               think it's in there?          NON-P   \n",
       "2    man2                           all right. let's get it!          NON-P   \n",
       "3    man1  whoa. hold on. do you know what that thing can...          NON-P   \n",
       "4    man3       yeah, it'll grind your bones for it's bread.          NON-P   \n",
       "\n",
       "   Movie  Year  UTTERANCE_NUMBER  \n",
       "0  Shrek  2001                 1  \n",
       "1  Shrek  2001                 2  \n",
       "2  Shrek  2001                 3  \n",
       "3  Shrek  2001                 4  \n",
       "4  Shrek  2001                 5  "
      ]
     },
     "execution_count": 22,
     "metadata": {},
     "output_type": "execute_result"
    }
   ],
   "source": [
    "shrek_df.head()"
   ]
  },
  {
   "cell_type": "code",
   "execution_count": 23,
   "metadata": {},
   "outputs": [
    {
     "data": {
      "text/plain": [
       "['big bad wolf', 'blind mouse1', 'blind mouse2', 'congregation', 'crowd', 'donkey', 'dwarf', 'farquaad', 'fiona', 'gingerbread man', 'gipetto', 'gordo', 'guard', 'guards', 'head guard', 'little bear', 'little pig', 'man', 'man1', 'man2', 'man3', 'men', 'merry man', 'merry men', 'mirror', 'old woman', 'peter pan', 'pinocchio', 'priest', 'robin hood', 'shrek', 'shrek & fiona', 'thelonius', 'whispers', 'woman', 'wooden people']"
      ]
     },
     "execution_count": 23,
     "metadata": {},
     "output_type": "execute_result"
    }
   ],
   "source": [
    "sorted(shrek_df.Speaker.unique())"
   ]
  },
  {
   "cell_type": "markdown",
   "metadata": {},
   "source": [
    "### Gender"
   ]
  },
  {
   "cell_type": "code",
   "execution_count": 24,
   "metadata": {},
   "outputs": [],
   "source": [
    "shrek_male = ['big bad wolf', 'blind mouse1', 'blind mouse2', 'donkey', 'dwarf', 'farquaad', 'gingerbread man',\n",
    "             'gipetto', 'gordo', 'guard', 'guards', 'head guard', 'little bear', 'little pig', 'man', 'man1', 'man2',\n",
    "             'man3', 'men', 'merry man', 'merry men', 'mirror', 'peter pan', 'pinocchio', 'priest', 'robin hood', 'shrek',\n",
    "             'thelonius']\n",
    "shrek_female = ['fiona', 'old woman', 'woman']\n"
   ]
  },
  {
   "cell_type": "code",
   "execution_count": 25,
   "metadata": {},
   "outputs": [],
   "source": [
    "gender_func = partial(whichgen, female = shrek_female, male= shrek_male)\n",
    "shrek_df[\"Gender\"] = shrek_df.Speaker.map(gender_func)"
   ]
  },
  {
   "cell_type": "markdown",
   "metadata": {},
   "source": [
    "## Role"
   ]
  },
  {
   "cell_type": "code",
   "execution_count": 26,
   "metadata": {},
   "outputs": [],
   "source": [
    "shrek_pro = ['shrek', 'fiona', 'shrek & fiona']\n",
    "shrek_ant = ['farquaad', 'thelonius', 'head guard', 'guard', 'guards']\n",
    "shrek_helper = ['donkey']"
   ]
  },
  {
   "cell_type": "code",
   "execution_count": 27,
   "metadata": {},
   "outputs": [],
   "source": [
    "role_func = partial(whichrole, pro = shrek_pro, ant=shrek_ant, helper = shrek_helper)\n",
    "shrek_df[\"Role\"] = shrek_df.Speaker.map(role_func)"
   ]
  },
  {
   "cell_type": "markdown",
   "metadata": {},
   "source": [
    "### Song\n",
    "There's a part where Fiona sings (and a bird explodes lol) but the script doesn't include it. What about the 'wooden people'?"
   ]
  },
  {
   "cell_type": "code",
   "execution_count": 28,
   "metadata": {},
   "outputs": [
    {
     "data": {
      "text/html": [
       "<div>\n",
       "<style scoped>\n",
       "    .dataframe tbody tr th:only-of-type {\n",
       "        vertical-align: middle;\n",
       "    }\n",
       "\n",
       "    .dataframe tbody tr th {\n",
       "        vertical-align: top;\n",
       "    }\n",
       "\n",
       "    .dataframe thead th {\n",
       "        text-align: right;\n",
       "    }\n",
       "</style>\n",
       "<table border=\"1\" class=\"dataframe\">\n",
       "  <thead>\n",
       "    <tr style=\"text-align: right;\">\n",
       "      <th></th>\n",
       "      <th>Speaker</th>\n",
       "      <th>Text</th>\n",
       "      <th>Speaker_Status</th>\n",
       "      <th>Movie</th>\n",
       "      <th>Year</th>\n",
       "      <th>UTTERANCE_NUMBER</th>\n",
       "      <th>Gender</th>\n",
       "      <th>Role</th>\n",
       "    </tr>\n",
       "  </thead>\n",
       "  <tbody>\n",
       "    <tr>\n",
       "      <th>169</th>\n",
       "      <td>wooden people</td>\n",
       "      <td>welcome to duloc such a perfect town</td>\n",
       "      <td>NON-P</td>\n",
       "      <td>Shrek</td>\n",
       "      <td>2001</td>\n",
       "      <td>170</td>\n",
       "      <td>n</td>\n",
       "      <td>N</td>\n",
       "    </tr>\n",
       "  </tbody>\n",
       "</table>\n",
       "</div>"
      ],
      "text/plain": [
       "           Speaker                                  Text Speaker_Status  \\\n",
       "169  wooden people  welcome to duloc such a perfect town          NON-P   \n",
       "\n",
       "     Movie  Year  UTTERANCE_NUMBER Gender Role  \n",
       "169  Shrek  2001               170      n    N  "
      ]
     },
     "execution_count": 28,
     "metadata": {},
     "output_type": "execute_result"
    }
   ],
   "source": [
    "shrek_df[shrek_df.Speaker == 'wooden people']"
   ]
  },
  {
   "cell_type": "code",
   "execution_count": 29,
   "metadata": {},
   "outputs": [
    {
     "data": {
      "text/html": [
       "<div>\n",
       "<style scoped>\n",
       "    .dataframe tbody tr th:only-of-type {\n",
       "        vertical-align: middle;\n",
       "    }\n",
       "\n",
       "    .dataframe tbody tr th {\n",
       "        vertical-align: top;\n",
       "    }\n",
       "\n",
       "    .dataframe thead th {\n",
       "        text-align: right;\n",
       "    }\n",
       "</style>\n",
       "<table border=\"1\" class=\"dataframe\">\n",
       "  <thead>\n",
       "    <tr style=\"text-align: right;\">\n",
       "      <th></th>\n",
       "      <th>Speaker</th>\n",
       "      <th>Text</th>\n",
       "      <th>Speaker_Status</th>\n",
       "      <th>Movie</th>\n",
       "      <th>Year</th>\n",
       "      <th>UTTERANCE_NUMBER</th>\n",
       "      <th>Gender</th>\n",
       "      <th>Role</th>\n",
       "    </tr>\n",
       "  </thead>\n",
       "  <tbody>\n",
       "    <tr>\n",
       "      <th>168</th>\n",
       "      <td>donkey</td>\n",
       "      <td>hey, look at this!</td>\n",
       "      <td>NON-P</td>\n",
       "      <td>Shrek</td>\n",
       "      <td>2001</td>\n",
       "      <td>169</td>\n",
       "      <td>m</td>\n",
       "      <td>HELPER</td>\n",
       "    </tr>\n",
       "    <tr>\n",
       "      <th>169</th>\n",
       "      <td>wooden people</td>\n",
       "      <td>welcome to duloc such a perfect town</td>\n",
       "      <td>NON-P</td>\n",
       "      <td>Shrek</td>\n",
       "      <td>2001</td>\n",
       "      <td>170</td>\n",
       "      <td>n</td>\n",
       "      <td>N</td>\n",
       "    </tr>\n",
       "    <tr>\n",
       "      <th>170</th>\n",
       "      <td>donkey</td>\n",
       "      <td>wow! let's do that again!</td>\n",
       "      <td>NON-P</td>\n",
       "      <td>Shrek</td>\n",
       "      <td>2001</td>\n",
       "      <td>171</td>\n",
       "      <td>m</td>\n",
       "      <td>HELPER</td>\n",
       "    </tr>\n",
       "    <tr>\n",
       "      <th>171</th>\n",
       "      <td>shrek</td>\n",
       "      <td>no. no. no, no, no! no.</td>\n",
       "      <td>NON-P</td>\n",
       "      <td>Shrek</td>\n",
       "      <td>2001</td>\n",
       "      <td>172</td>\n",
       "      <td>m</td>\n",
       "      <td>PRO</td>\n",
       "    </tr>\n",
       "    <tr>\n",
       "      <th>172</th>\n",
       "      <td>farquaad</td>\n",
       "      <td>brave knights. you are the best and brightest ...</td>\n",
       "      <td>PRINCE</td>\n",
       "      <td>Shrek</td>\n",
       "      <td>2001</td>\n",
       "      <td>173</td>\n",
       "      <td>m</td>\n",
       "      <td>ANT</td>\n",
       "    </tr>\n",
       "    <tr>\n",
       "      <th>173</th>\n",
       "      <td>shrek</td>\n",
       "      <td>all right. you're going the right way for a sm...</td>\n",
       "      <td>NON-P</td>\n",
       "      <td>Shrek</td>\n",
       "      <td>2001</td>\n",
       "      <td>174</td>\n",
       "      <td>m</td>\n",
       "      <td>PRO</td>\n",
       "    </tr>\n",
       "    <tr>\n",
       "      <th>174</th>\n",
       "      <td>donkey</td>\n",
       "      <td>sorry about that.</td>\n",
       "      <td>NON-P</td>\n",
       "      <td>Shrek</td>\n",
       "      <td>2001</td>\n",
       "      <td>175</td>\n",
       "      <td>m</td>\n",
       "      <td>HELPER</td>\n",
       "    </tr>\n",
       "  </tbody>\n",
       "</table>\n",
       "</div>"
      ],
      "text/plain": [
       "           Speaker                                               Text  \\\n",
       "168         donkey                                 hey, look at this!   \n",
       "169  wooden people               welcome to duloc such a perfect town   \n",
       "170         donkey                          wow! let's do that again!   \n",
       "171          shrek                            no. no. no, no, no! no.   \n",
       "172       farquaad  brave knights. you are the best and brightest ...   \n",
       "173          shrek  all right. you're going the right way for a sm...   \n",
       "174         donkey                                  sorry about that.   \n",
       "\n",
       "    Speaker_Status  Movie  Year  UTTERANCE_NUMBER Gender    Role  \n",
       "168          NON-P  Shrek  2001               169      m  HELPER  \n",
       "169          NON-P  Shrek  2001               170      n       N  \n",
       "170          NON-P  Shrek  2001               171      m  HELPER  \n",
       "171          NON-P  Shrek  2001               172      m     PRO  \n",
       "172         PRINCE  Shrek  2001               173      m     ANT  \n",
       "173          NON-P  Shrek  2001               174      m     PRO  \n",
       "174          NON-P  Shrek  2001               175      m  HELPER  "
      ]
     },
     "execution_count": 29,
     "metadata": {},
     "output_type": "execute_result"
    }
   ],
   "source": [
    "shrek_df.iloc[168:175] # it's just the beginning of their song, so no need to mark."
   ]
  },
  {
   "cell_type": "code",
   "execution_count": 30,
   "metadata": {},
   "outputs": [],
   "source": [
    "shrek_df['Song'] = 'D'"
   ]
  },
  {
   "cell_type": "code",
   "execution_count": 31,
   "metadata": {},
   "outputs": [
    {
     "name": "stdout",
     "output_type": "stream",
     "text": [
      "<class 'pandas.core.frame.DataFrame'>\n",
      "RangeIndex: 722 entries, 0 to 721\n",
      "Data columns (total 9 columns):\n",
      "Speaker             722 non-null object\n",
      "Text                722 non-null object\n",
      "Speaker_Status      722 non-null object\n",
      "Movie               722 non-null object\n",
      "Year                722 non-null int64\n",
      "UTTERANCE_NUMBER    722 non-null int64\n",
      "Gender              722 non-null object\n",
      "Role                722 non-null object\n",
      "Song                722 non-null object\n",
      "dtypes: int64(2), object(7)\n",
      "memory usage: 31.1+ KB\n"
     ]
    }
   ],
   "source": [
    "shrek_df.info()"
   ]
  },
  {
   "cell_type": "markdown",
   "metadata": {},
   "source": [
    "## Shrek The Third"
   ]
  },
  {
   "cell_type": "code",
   "execution_count": 32,
   "metadata": {},
   "outputs": [],
   "source": [
    "shrek3_df = pd.read_pickle(r\"C:/Users/cassi/Desktop/Data_Science/Animated-Movie-Gendered-Dialogue/private/shrek3_lines.pkl\")"
   ]
  },
  {
   "cell_type": "code",
   "execution_count": 33,
   "metadata": {},
   "outputs": [
    {
     "name": "stdout",
     "output_type": "stream",
     "text": [
      "<class 'pandas.core.frame.DataFrame'>\n",
      "RangeIndex: 870 entries, 0 to 869\n",
      "Data columns (total 2 columns):\n",
      "Speaker    870 non-null object\n",
      "Text       870 non-null object\n",
      "dtypes: object(2)\n",
      "memory usage: 6.8+ KB\n"
     ]
    }
   ],
   "source": [
    "shrek3_df.info()"
   ]
  },
  {
   "cell_type": "code",
   "execution_count": 34,
   "metadata": {},
   "outputs": [
    {
     "data": {
      "text/html": [
       "<div>\n",
       "<style scoped>\n",
       "    .dataframe tbody tr th:only-of-type {\n",
       "        vertical-align: middle;\n",
       "    }\n",
       "\n",
       "    .dataframe tbody tr th {\n",
       "        vertical-align: top;\n",
       "    }\n",
       "\n",
       "    .dataframe thead th {\n",
       "        text-align: right;\n",
       "    }\n",
       "</style>\n",
       "<table border=\"1\" class=\"dataframe\">\n",
       "  <thead>\n",
       "    <tr style=\"text-align: right;\">\n",
       "      <th></th>\n",
       "      <th>Speaker</th>\n",
       "      <th>Text</th>\n",
       "    </tr>\n",
       "  </thead>\n",
       "  <tbody>\n",
       "    <tr>\n",
       "      <th>0</th>\n",
       "      <td>prince charming</td>\n",
       "      <td>onward chauncey, to the highest room of the ta...</td>\n",
       "    </tr>\n",
       "    <tr>\n",
       "      <th>1</th>\n",
       "      <td>gingerbread man</td>\n",
       "      <td>this is worse than love letters! i hate dinner...</td>\n",
       "    </tr>\n",
       "    <tr>\n",
       "      <th>2</th>\n",
       "      <td>pinocchio</td>\n",
       "      <td>me too.</td>\n",
       "    </tr>\n",
       "    <tr>\n",
       "      <th>3</th>\n",
       "      <td>prince charming</td>\n",
       "      <td>whoa there, chauncey!</td>\n",
       "    </tr>\n",
       "    <tr>\n",
       "      <th>4</th>\n",
       "      <td>actress</td>\n",
       "      <td>hark! the brave prince charming approach-ith.</td>\n",
       "    </tr>\n",
       "  </tbody>\n",
       "</table>\n",
       "</div>"
      ],
      "text/plain": [
       "           Speaker                                               Text\n",
       "0  prince charming  onward chauncey, to the highest room of the ta...\n",
       "1  gingerbread man  this is worse than love letters! i hate dinner...\n",
       "2        pinocchio                                            me too.\n",
       "3  prince charming                              whoa there, chauncey!\n",
       "4          actress      hark! the brave prince charming approach-ith."
      ]
     },
     "execution_count": 34,
     "metadata": {},
     "output_type": "execute_result"
    }
   ],
   "source": [
    "shrek3_df.head()"
   ]
  },
  {
   "cell_type": "markdown",
   "metadata": {},
   "source": [
    "### Gender"
   ]
  },
  {
   "cell_type": "code",
   "execution_count": 35,
   "metadata": {},
   "outputs": [
    {
     "data": {
      "text/plain": [
       "['actress', 'all', 'announcer', 'artie', 'audience', 'bohort', 'captain hook', 'cheerleaders', 'cinderella', 'cyclops', 'donkey', 'doris', 'dragon', 'drivers ed instructor', 'evil dwarfs', 'evil queen', 'evil trees', 'evil witches', 'fairytale creatures', 'fiddlesworth', 'fiona', 'gary', 'gingerbread man', 'guineverre', 'hall monitor', 'headless horseman', 'heckler', 'hook', 'jocks', 'king harold', 'knight', 'lancelot', 'mabel', 'master of ceremonies', 'merlin', 'mother', 'muffin man', 'nanny dwarf', 'ogre', 'ogre babies', 'ogre baby', 'old lady', 'other pirates', 'pigs', 'pinocchio', 'pirates', 'prince charming', 'princesses', 'principal pynchley', 'puppet master', 'puss', 'queen', 'rapunzel', 'raul', 'rumplestiltskin', 'ship captain', 'shrek', 'sleeping beauty', 'snow white', 'students', 'teacher', 'teenager', 'tiffany', 'van student', 'villains', 'waiter', 'wizard head', 'wolf', 'woman', 'xavier']"
      ]
     },
     "execution_count": 35,
     "metadata": {},
     "output_type": "execute_result"
    }
   ],
   "source": [
    "sorted(shrek3_df.Speaker.unique())"
   ]
  },
  {
   "cell_type": "code",
   "execution_count": 36,
   "metadata": {},
   "outputs": [],
   "source": [
    "shrek3_female = ['actress', 'cheerleaders', 'cinderella', 'doris', 'dragon', 'evil queen', 'evil witches', 'fiona',\n",
    "                'guineverre', 'mabel', 'mother', 'old lady', 'princesses', 'queen', 'rapunzel', 'sleeping beauty', \n",
    "                'snow white', 'tiffany', 'woman']\n",
    "shrek3_male = ['artie', 'bohort', 'captain hook', 'cyclops', 'donkey', 'evil dwarfs', 'evil trees', 'fiddlesworth',\n",
    "              'gary', 'gingerbread man', 'hall monitor', 'headless horseman', 'hook', 'jocks', 'king harold', 'knight',\n",
    "              'lancelot', 'master of ceremonies', 'merlin', 'muffin man', 'nanny dwarf', 'pigs', 'pinocchio', \n",
    "              'prince charming', 'principal pynchley', 'puppet master', 'puss', 'raul', 'rumplestiltskin', 'ship captain',\n",
    "              'shrek', 'wizard head', 'wolf', 'xavier']"
   ]
  },
  {
   "cell_type": "code",
   "execution_count": 37,
   "metadata": {},
   "outputs": [],
   "source": [
    "gender_func = partial(whichgen, female = shrek3_female, male= shrek3_male)\n",
    "shrek3_df[\"Gender\"] = shrek3_df.Speaker.map(gender_func)"
   ]
  },
  {
   "cell_type": "markdown",
   "metadata": {},
   "source": [
    "## Role\n",
    "Why do I list so many more helpers? These characters play bigger roles in this film (the first movie doesn't feature the pigs or pinocchio, etc.., much besides in the beginning"
   ]
  },
  {
   "cell_type": "code",
   "execution_count": 38,
   "metadata": {},
   "outputs": [],
   "source": [
    "shrek3_pro = ['shrek', 'fiona', 'artie']\n",
    "shrek3_ant = ['prince charming', 'rapunzel']\n",
    "shrek3_helper = ['donkey', 'cinderella', 'doris', 'dragon', 'gingerbread man', 'merlin', 'pigs', 'pinocchio', 'puss',\n",
    "                'sleeping beauty', 'snow white', 'wolf', 'princesses']"
   ]
  },
  {
   "cell_type": "code",
   "execution_count": 39,
   "metadata": {},
   "outputs": [],
   "source": [
    "role_func = partial(whichrole, pro = shrek3_pro, ant=shrek3_ant, helper = shrek3_helper)\n",
    "shrek3_df[\"Role\"] = shrek3_df.Speaker.map(role_func)"
   ]
  },
  {
   "cell_type": "markdown",
   "metadata": {},
   "source": [
    "### Speaker Status"
   ]
  },
  {
   "cell_type": "code",
   "execution_count": 40,
   "metadata": {},
   "outputs": [],
   "source": [
    "shrek3_princess  = ['cinderella', 'fiona','rapunzel','snow white', 'sleeping beauty', 'princesses']\n",
    "shrek3_prince = ['prince charming', 'artie']"
   ]
  },
  {
   "cell_type": "code",
   "execution_count": 41,
   "metadata": {},
   "outputs": [],
   "source": [
    "status_func = partial(status, princess = shrek3_princess, prince = shrek3_prince)\n",
    "shrek3_df['Speaker_Status'] = shrek3_df.Speaker.map(status_func)"
   ]
  },
  {
   "cell_type": "markdown",
   "metadata": {},
   "source": [
    "### Song/Movie/Year/Utterance Number"
   ]
  },
  {
   "cell_type": "code",
   "execution_count": 42,
   "metadata": {},
   "outputs": [],
   "source": [
    "shrek3_df['Song'] = 'D'"
   ]
  },
  {
   "cell_type": "code",
   "execution_count": 43,
   "metadata": {},
   "outputs": [],
   "source": [
    "shrek3_df['Movie'] = 'Shrek 3'"
   ]
  },
  {
   "cell_type": "code",
   "execution_count": 44,
   "metadata": {},
   "outputs": [],
   "source": [
    "shrek3_df['Year'] = 2007"
   ]
  },
  {
   "cell_type": "code",
   "execution_count": 45,
   "metadata": {},
   "outputs": [],
   "source": [
    "shrek3_df['UTTERANCE_NUMBER'] = shrek3_df.Text.index + 1"
   ]
  },
  {
   "cell_type": "code",
   "execution_count": 46,
   "metadata": {},
   "outputs": [
    {
     "data": {
      "text/html": [
       "<div>\n",
       "<style scoped>\n",
       "    .dataframe tbody tr th:only-of-type {\n",
       "        vertical-align: middle;\n",
       "    }\n",
       "\n",
       "    .dataframe tbody tr th {\n",
       "        vertical-align: top;\n",
       "    }\n",
       "\n",
       "    .dataframe thead th {\n",
       "        text-align: right;\n",
       "    }\n",
       "</style>\n",
       "<table border=\"1\" class=\"dataframe\">\n",
       "  <thead>\n",
       "    <tr style=\"text-align: right;\">\n",
       "      <th></th>\n",
       "      <th>Speaker</th>\n",
       "      <th>Text</th>\n",
       "      <th>Gender</th>\n",
       "      <th>Role</th>\n",
       "      <th>Speaker_Status</th>\n",
       "      <th>Song</th>\n",
       "      <th>Movie</th>\n",
       "      <th>Year</th>\n",
       "      <th>UTTERANCE_NUMBER</th>\n",
       "    </tr>\n",
       "  </thead>\n",
       "  <tbody>\n",
       "    <tr>\n",
       "      <th>0</th>\n",
       "      <td>prince charming</td>\n",
       "      <td>onward chauncey, to the highest room of the ta...</td>\n",
       "      <td>m</td>\n",
       "      <td>ANT</td>\n",
       "      <td>PRINCE</td>\n",
       "      <td>D</td>\n",
       "      <td>Shrek 3</td>\n",
       "      <td>2007</td>\n",
       "      <td>1</td>\n",
       "    </tr>\n",
       "    <tr>\n",
       "      <th>1</th>\n",
       "      <td>gingerbread man</td>\n",
       "      <td>this is worse than love letters! i hate dinner...</td>\n",
       "      <td>m</td>\n",
       "      <td>HELPER</td>\n",
       "      <td>NON-P</td>\n",
       "      <td>D</td>\n",
       "      <td>Shrek 3</td>\n",
       "      <td>2007</td>\n",
       "      <td>2</td>\n",
       "    </tr>\n",
       "    <tr>\n",
       "      <th>2</th>\n",
       "      <td>pinocchio</td>\n",
       "      <td>me too.</td>\n",
       "      <td>m</td>\n",
       "      <td>HELPER</td>\n",
       "      <td>NON-P</td>\n",
       "      <td>D</td>\n",
       "      <td>Shrek 3</td>\n",
       "      <td>2007</td>\n",
       "      <td>3</td>\n",
       "    </tr>\n",
       "    <tr>\n",
       "      <th>3</th>\n",
       "      <td>prince charming</td>\n",
       "      <td>whoa there, chauncey!</td>\n",
       "      <td>m</td>\n",
       "      <td>ANT</td>\n",
       "      <td>PRINCE</td>\n",
       "      <td>D</td>\n",
       "      <td>Shrek 3</td>\n",
       "      <td>2007</td>\n",
       "      <td>4</td>\n",
       "    </tr>\n",
       "    <tr>\n",
       "      <th>4</th>\n",
       "      <td>actress</td>\n",
       "      <td>hark! the brave prince charming approach-ith.</td>\n",
       "      <td>f</td>\n",
       "      <td>N</td>\n",
       "      <td>NON-P</td>\n",
       "      <td>D</td>\n",
       "      <td>Shrek 3</td>\n",
       "      <td>2007</td>\n",
       "      <td>5</td>\n",
       "    </tr>\n",
       "  </tbody>\n",
       "</table>\n",
       "</div>"
      ],
      "text/plain": [
       "           Speaker                                               Text Gender  \\\n",
       "0  prince charming  onward chauncey, to the highest room of the ta...      m   \n",
       "1  gingerbread man  this is worse than love letters! i hate dinner...      m   \n",
       "2        pinocchio                                            me too.      m   \n",
       "3  prince charming                              whoa there, chauncey!      m   \n",
       "4          actress      hark! the brave prince charming approach-ith.      f   \n",
       "\n",
       "     Role Speaker_Status Song    Movie  Year  UTTERANCE_NUMBER  \n",
       "0     ANT         PRINCE    D  Shrek 3  2007                 1  \n",
       "1  HELPER          NON-P    D  Shrek 3  2007                 2  \n",
       "2  HELPER          NON-P    D  Shrek 3  2007                 3  \n",
       "3     ANT         PRINCE    D  Shrek 3  2007                 4  \n",
       "4       N          NON-P    D  Shrek 3  2007                 5  "
      ]
     },
     "execution_count": 46,
     "metadata": {},
     "output_type": "execute_result"
    }
   ],
   "source": [
    "shrek3_df.head()"
   ]
  },
  {
   "cell_type": "markdown",
   "metadata": {},
   "source": [
    "## How to Train Your Dragon"
   ]
  },
  {
   "cell_type": "code",
   "execution_count": 47,
   "metadata": {},
   "outputs": [],
   "source": [
    "httyd_df = pd.read_pickle(r\"C:/Users/cassi/Desktop/Data_Science/Animated-Movie-Gendered-Dialogue/private/httyd_lines.pkl\")"
   ]
  },
  {
   "cell_type": "code",
   "execution_count": 48,
   "metadata": {},
   "outputs": [
    {
     "data": {
      "text/html": [
       "<div>\n",
       "<style scoped>\n",
       "    .dataframe tbody tr th:only-of-type {\n",
       "        vertical-align: middle;\n",
       "    }\n",
       "\n",
       "    .dataframe tbody tr th {\n",
       "        vertical-align: top;\n",
       "    }\n",
       "\n",
       "    .dataframe thead th {\n",
       "        text-align: right;\n",
       "    }\n",
       "</style>\n",
       "<table border=\"1\" class=\"dataframe\">\n",
       "  <thead>\n",
       "    <tr style=\"text-align: right;\">\n",
       "      <th></th>\n",
       "      <th>Unnamed: 0</th>\n",
       "      <th>Speaker</th>\n",
       "      <th>Text</th>\n",
       "    </tr>\n",
       "  </thead>\n",
       "  <tbody>\n",
       "    <tr>\n",
       "      <th>0</th>\n",
       "      <td>0</td>\n",
       "      <td>hiccup</td>\n",
       "      <td>this, is berk. it's twelve days north of hopel...</td>\n",
       "    </tr>\n",
       "    <tr>\n",
       "      <th>1</th>\n",
       "      <td>1</td>\n",
       "      <td>hiccup</td>\n",
       "      <td>my village. in a word, sturdy. and it's been h...</td>\n",
       "    </tr>\n",
       "    <tr>\n",
       "      <th>2</th>\n",
       "      <td>2</td>\n",
       "      <td>hiccup</td>\n",
       "      <td>we have fishing, hunting, and a charming view ...</td>\n",
       "    </tr>\n",
       "    <tr>\n",
       "      <th>3</th>\n",
       "      <td>3</td>\n",
       "      <td>hiccup</td>\n",
       "      <td>...dragons.</td>\n",
       "    </tr>\n",
       "    <tr>\n",
       "      <th>4</th>\n",
       "      <td>4</td>\n",
       "      <td>hiccup</td>\n",
       "      <td>most people would leave. not us. we're vikings...</td>\n",
       "    </tr>\n",
       "  </tbody>\n",
       "</table>\n",
       "</div>"
      ],
      "text/plain": [
       "   Unnamed: 0 Speaker                                               Text\n",
       "0           0  hiccup  this, is berk. it's twelve days north of hopel...\n",
       "1           1  hiccup  my village. in a word, sturdy. and it's been h...\n",
       "2           2  hiccup  we have fishing, hunting, and a charming view ...\n",
       "3           3  hiccup                                        ...dragons.\n",
       "4           4  hiccup  most people would leave. not us. we're vikings..."
      ]
     },
     "execution_count": 48,
     "metadata": {},
     "output_type": "execute_result"
    }
   ],
   "source": [
    "httyd_df.head()"
   ]
  },
  {
   "cell_type": "code",
   "execution_count": 49,
   "metadata": {},
   "outputs": [],
   "source": [
    "httyd_df = httyd_df.drop(columns=\"Unnamed: 0\")"
   ]
  },
  {
   "cell_type": "code",
   "execution_count": 50,
   "metadata": {},
   "outputs": [
    {
     "data": {
      "text/html": [
       "<div>\n",
       "<style scoped>\n",
       "    .dataframe tbody tr th:only-of-type {\n",
       "        vertical-align: middle;\n",
       "    }\n",
       "\n",
       "    .dataframe tbody tr th {\n",
       "        vertical-align: top;\n",
       "    }\n",
       "\n",
       "    .dataframe thead th {\n",
       "        text-align: right;\n",
       "    }\n",
       "</style>\n",
       "<table border=\"1\" class=\"dataframe\">\n",
       "  <thead>\n",
       "    <tr style=\"text-align: right;\">\n",
       "      <th></th>\n",
       "      <th>Speaker</th>\n",
       "      <th>Text</th>\n",
       "    </tr>\n",
       "  </thead>\n",
       "  <tbody>\n",
       "    <tr>\n",
       "      <th>0</th>\n",
       "      <td>hiccup</td>\n",
       "      <td>this, is berk. it's twelve days north of hopel...</td>\n",
       "    </tr>\n",
       "    <tr>\n",
       "      <th>1</th>\n",
       "      <td>hiccup</td>\n",
       "      <td>my village. in a word, sturdy. and it's been h...</td>\n",
       "    </tr>\n",
       "    <tr>\n",
       "      <th>2</th>\n",
       "      <td>hiccup</td>\n",
       "      <td>we have fishing, hunting, and a charming view ...</td>\n",
       "    </tr>\n",
       "    <tr>\n",
       "      <th>3</th>\n",
       "      <td>hiccup</td>\n",
       "      <td>...dragons.</td>\n",
       "    </tr>\n",
       "    <tr>\n",
       "      <th>4</th>\n",
       "      <td>hiccup</td>\n",
       "      <td>most people would leave. not us. we're vikings...</td>\n",
       "    </tr>\n",
       "  </tbody>\n",
       "</table>\n",
       "</div>"
      ],
      "text/plain": [
       "  Speaker                                               Text\n",
       "0  hiccup  this, is berk. it's twelve days north of hopel...\n",
       "1  hiccup  my village. in a word, sturdy. and it's been h...\n",
       "2  hiccup  we have fishing, hunting, and a charming view ...\n",
       "3  hiccup                                        ...dragons.\n",
       "4  hiccup  most people would leave. not us. we're vikings..."
      ]
     },
     "execution_count": 50,
     "metadata": {},
     "output_type": "execute_result"
    }
   ],
   "source": [
    "httyd_df.head()"
   ]
  },
  {
   "cell_type": "markdown",
   "metadata": {},
   "source": [
    "### Gender"
   ]
  },
  {
   "cell_type": "code",
   "execution_count": 51,
   "metadata": {},
   "outputs": [
    {
     "data": {
      "text/plain": [
       "['astrid', 'burnthair', 'catapult operator', 'fishlegs', 'gobber', 'hiccup', 'hiccup stoick', 'hoark', 'phlegma the fierce', 'ruffnut', 'snotlout', 'spitelout', 'stoick', 'stoick hiccup', 'teens', 'tuffnut', 'tuffnut ruffnut', 'viking', 'viking #1', 'viking #2', 'viking #3', 'viking #4', 'viking #5', 'viking #6', 'viking #7', 'viking in crowd', 'vikings']"
      ]
     },
     "execution_count": 51,
     "metadata": {},
     "output_type": "execute_result"
    }
   ],
   "source": [
    "sorted(httyd_df.Speaker.unique())"
   ]
  },
  {
   "cell_type": "code",
   "execution_count": 52,
   "metadata": {},
   "outputs": [],
   "source": [
    "httyd_female = ['astrid', 'phlegma the fierce', 'ruffnut']\n",
    "httyd_male = ['burnthair', 'fishlegs', 'gobber', 'hiccup', 'hiccup stoick', 'hoark', 'snotlout', 'spitelout', 'stoick',\n",
    "             'stoick hiccup', 'tuffnut']"
   ]
  },
  {
   "cell_type": "code",
   "execution_count": 53,
   "metadata": {},
   "outputs": [],
   "source": [
    "gender_func = partial(whichgen, female = httyd_female, male= httyd_male)\n",
    "httyd_df[\"Gender\"] = httyd_df.Speaker.map(gender_func)"
   ]
  },
  {
   "cell_type": "markdown",
   "metadata": {},
   "source": [
    "### Role"
   ]
  },
  {
   "cell_type": "code",
   "execution_count": 54,
   "metadata": {},
   "outputs": [],
   "source": [
    "httyd_pro = ['hiccup', 'astrid']\n",
    "httyd_ant = ['stoick']\n",
    "httyd_helper = ['fishlegs', 'snotlout', 'tuffnut', 'ruffnut', 'tuffnut ruffnut', 'teens']"
   ]
  },
  {
   "cell_type": "code",
   "execution_count": 55,
   "metadata": {},
   "outputs": [],
   "source": [
    "role_func = partial(whichrole, pro = httyd_pro, ant=httyd_ant, helper = httyd_helper)\n",
    "httyd_df[\"Role\"] = httyd_df.Speaker.map(role_func)"
   ]
  },
  {
   "cell_type": "markdown",
   "metadata": {},
   "source": [
    "### Status\n",
    "No royalty here!"
   ]
  },
  {
   "cell_type": "code",
   "execution_count": 56,
   "metadata": {},
   "outputs": [],
   "source": [
    "httyd_df['Speaker_Status'] = 'NON-P'"
   ]
  },
  {
   "cell_type": "markdown",
   "metadata": {},
   "source": [
    "### Song/Movie/Year/Utterance Number\n",
    "No songs!"
   ]
  },
  {
   "cell_type": "code",
   "execution_count": 57,
   "metadata": {},
   "outputs": [],
   "source": [
    "httyd_df['Song'] = 'D'"
   ]
  },
  {
   "cell_type": "code",
   "execution_count": 58,
   "metadata": {},
   "outputs": [],
   "source": [
    "httyd_df['Movie'] = 'How to Train Your Dragon'"
   ]
  },
  {
   "cell_type": "code",
   "execution_count": 59,
   "metadata": {},
   "outputs": [],
   "source": [
    "httyd_df['Year'] = 2010"
   ]
  },
  {
   "cell_type": "code",
   "execution_count": 60,
   "metadata": {},
   "outputs": [],
   "source": [
    "httyd_df.reset_index(drop = True, inplace=True)"
   ]
  },
  {
   "cell_type": "code",
   "execution_count": 61,
   "metadata": {},
   "outputs": [],
   "source": [
    "httyd_df['UTTERANCE_NUMBER'] = httyd_df.Text.index + 1"
   ]
  },
  {
   "cell_type": "code",
   "execution_count": 62,
   "metadata": {},
   "outputs": [
    {
     "data": {
      "text/html": [
       "<div>\n",
       "<style scoped>\n",
       "    .dataframe tbody tr th:only-of-type {\n",
       "        vertical-align: middle;\n",
       "    }\n",
       "\n",
       "    .dataframe tbody tr th {\n",
       "        vertical-align: top;\n",
       "    }\n",
       "\n",
       "    .dataframe thead th {\n",
       "        text-align: right;\n",
       "    }\n",
       "</style>\n",
       "<table border=\"1\" class=\"dataframe\">\n",
       "  <thead>\n",
       "    <tr style=\"text-align: right;\">\n",
       "      <th></th>\n",
       "      <th>Speaker</th>\n",
       "      <th>Text</th>\n",
       "      <th>Gender</th>\n",
       "      <th>Role</th>\n",
       "      <th>Speaker_Status</th>\n",
       "      <th>Song</th>\n",
       "      <th>Movie</th>\n",
       "      <th>Year</th>\n",
       "      <th>UTTERANCE_NUMBER</th>\n",
       "    </tr>\n",
       "  </thead>\n",
       "  <tbody>\n",
       "    <tr>\n",
       "      <th>0</th>\n",
       "      <td>hiccup</td>\n",
       "      <td>this, is berk. it's twelve days north of hopel...</td>\n",
       "      <td>m</td>\n",
       "      <td>PRO</td>\n",
       "      <td>NON-P</td>\n",
       "      <td>D</td>\n",
       "      <td>How to Train Your Dragon</td>\n",
       "      <td>2010</td>\n",
       "      <td>1</td>\n",
       "    </tr>\n",
       "    <tr>\n",
       "      <th>1</th>\n",
       "      <td>hiccup</td>\n",
       "      <td>my village. in a word, sturdy. and it's been h...</td>\n",
       "      <td>m</td>\n",
       "      <td>PRO</td>\n",
       "      <td>NON-P</td>\n",
       "      <td>D</td>\n",
       "      <td>How to Train Your Dragon</td>\n",
       "      <td>2010</td>\n",
       "      <td>2</td>\n",
       "    </tr>\n",
       "    <tr>\n",
       "      <th>2</th>\n",
       "      <td>hiccup</td>\n",
       "      <td>we have fishing, hunting, and a charming view ...</td>\n",
       "      <td>m</td>\n",
       "      <td>PRO</td>\n",
       "      <td>NON-P</td>\n",
       "      <td>D</td>\n",
       "      <td>How to Train Your Dragon</td>\n",
       "      <td>2010</td>\n",
       "      <td>3</td>\n",
       "    </tr>\n",
       "    <tr>\n",
       "      <th>3</th>\n",
       "      <td>hiccup</td>\n",
       "      <td>...dragons.</td>\n",
       "      <td>m</td>\n",
       "      <td>PRO</td>\n",
       "      <td>NON-P</td>\n",
       "      <td>D</td>\n",
       "      <td>How to Train Your Dragon</td>\n",
       "      <td>2010</td>\n",
       "      <td>4</td>\n",
       "    </tr>\n",
       "    <tr>\n",
       "      <th>4</th>\n",
       "      <td>hiccup</td>\n",
       "      <td>most people would leave. not us. we're vikings...</td>\n",
       "      <td>m</td>\n",
       "      <td>PRO</td>\n",
       "      <td>NON-P</td>\n",
       "      <td>D</td>\n",
       "      <td>How to Train Your Dragon</td>\n",
       "      <td>2010</td>\n",
       "      <td>5</td>\n",
       "    </tr>\n",
       "  </tbody>\n",
       "</table>\n",
       "</div>"
      ],
      "text/plain": [
       "  Speaker                                               Text Gender Role  \\\n",
       "0  hiccup  this, is berk. it's twelve days north of hopel...      m  PRO   \n",
       "1  hiccup  my village. in a word, sturdy. and it's been h...      m  PRO   \n",
       "2  hiccup  we have fishing, hunting, and a charming view ...      m  PRO   \n",
       "3  hiccup                                        ...dragons.      m  PRO   \n",
       "4  hiccup  most people would leave. not us. we're vikings...      m  PRO   \n",
       "\n",
       "  Speaker_Status Song                     Movie  Year  UTTERANCE_NUMBER  \n",
       "0          NON-P    D  How to Train Your Dragon  2010                 1  \n",
       "1          NON-P    D  How to Train Your Dragon  2010                 2  \n",
       "2          NON-P    D  How to Train Your Dragon  2010                 3  \n",
       "3          NON-P    D  How to Train Your Dragon  2010                 4  \n",
       "4          NON-P    D  How to Train Your Dragon  2010                 5  "
      ]
     },
     "execution_count": 62,
     "metadata": {},
     "output_type": "execute_result"
    }
   ],
   "source": [
    "httyd_df.head()"
   ]
  },
  {
   "cell_type": "code",
   "execution_count": 63,
   "metadata": {},
   "outputs": [
    {
     "name": "stdout",
     "output_type": "stream",
     "text": [
      "<class 'pandas.core.frame.DataFrame'>\n",
      "RangeIndex: 726 entries, 0 to 725\n",
      "Data columns (total 9 columns):\n",
      "Speaker             726 non-null object\n",
      "Text                726 non-null object\n",
      "Gender              726 non-null object\n",
      "Role                726 non-null object\n",
      "Speaker_Status      726 non-null object\n",
      "Song                726 non-null object\n",
      "Movie               726 non-null object\n",
      "Year                726 non-null int64\n",
      "UTTERANCE_NUMBER    726 non-null int64\n",
      "dtypes: int64(2), object(7)\n",
      "memory usage: 31.2+ KB\n"
     ]
    }
   ],
   "source": [
    "httyd_df.info()"
   ]
  },
  {
   "cell_type": "markdown",
   "metadata": {},
   "source": [
    "## How to Train Your Dragon 2"
   ]
  },
  {
   "cell_type": "code",
   "execution_count": 64,
   "metadata": {},
   "outputs": [],
   "source": [
    "httyd2_df = pd.read_pickle(r\"C:/Users/cassi/Desktop/Data_Science/Animated-Movie-Gendered-Dialogue/private/httyd2_lines.pkl\")"
   ]
  },
  {
   "cell_type": "code",
   "execution_count": 65,
   "metadata": {},
   "outputs": [
    {
     "data": {
      "text/html": [
       "<div>\n",
       "<style scoped>\n",
       "    .dataframe tbody tr th:only-of-type {\n",
       "        vertical-align: middle;\n",
       "    }\n",
       "\n",
       "    .dataframe tbody tr th {\n",
       "        vertical-align: top;\n",
       "    }\n",
       "\n",
       "    .dataframe thead th {\n",
       "        text-align: right;\n",
       "    }\n",
       "</style>\n",
       "<table border=\"1\" class=\"dataframe\">\n",
       "  <thead>\n",
       "    <tr style=\"text-align: right;\">\n",
       "      <th></th>\n",
       "      <th>Speaker</th>\n",
       "      <th>Text</th>\n",
       "    </tr>\n",
       "  </thead>\n",
       "  <tbody>\n",
       "    <tr>\n",
       "      <th>0</th>\n",
       "      <td>HICCUP</td>\n",
       "      <td>This... is Berk. The best kept secret this sid...</td>\n",
       "    </tr>\n",
       "    <tr>\n",
       "      <th>1</th>\n",
       "      <td>HICCUP</td>\n",
       "      <td>Life here is amazing, just not for the faint o...</td>\n",
       "    </tr>\n",
       "    <tr>\n",
       "      <th>2</th>\n",
       "      <td>HICCUP</td>\n",
       "      <td>DRAGON RACING!</td>\n",
       "    </tr>\n",
       "    <tr>\n",
       "      <th>3</th>\n",
       "      <td>SNOTLOUT</td>\n",
       "      <td>Oh, I'm sorry, Fishlegs! Did you want that?</td>\n",
       "    </tr>\n",
       "    <tr>\n",
       "      <th>4</th>\n",
       "      <td>FISHLEGS</td>\n",
       "      <td>Snotlout! That's mine!</td>\n",
       "    </tr>\n",
       "  </tbody>\n",
       "</table>\n",
       "</div>"
      ],
      "text/plain": [
       "    Speaker                                               Text\n",
       "0    HICCUP  This... is Berk. The best kept secret this sid...\n",
       "1    HICCUP  Life here is amazing, just not for the faint o...\n",
       "2    HICCUP                                     DRAGON RACING!\n",
       "3  SNOTLOUT        Oh, I'm sorry, Fishlegs! Did you want that?\n",
       "4  FISHLEGS                             Snotlout! That's mine!"
      ]
     },
     "execution_count": 65,
     "metadata": {},
     "output_type": "execute_result"
    }
   ],
   "source": [
    "httyd2_df.head()"
   ]
  },
  {
   "cell_type": "code",
   "execution_count": 66,
   "metadata": {},
   "outputs": [],
   "source": [
    "httyd2_df.Speaker = httyd2_df.Speaker.str.lower().str.strip()"
   ]
  },
  {
   "cell_type": "code",
   "execution_count": 67,
   "metadata": {},
   "outputs": [],
   "source": [
    "httyd2_df.Text = httyd2_df.Text.str.lower().str.strip()"
   ]
  },
  {
   "cell_type": "code",
   "execution_count": 68,
   "metadata": {},
   "outputs": [
    {
     "data": {
      "text/html": [
       "<div>\n",
       "<style scoped>\n",
       "    .dataframe tbody tr th:only-of-type {\n",
       "        vertical-align: middle;\n",
       "    }\n",
       "\n",
       "    .dataframe tbody tr th {\n",
       "        vertical-align: top;\n",
       "    }\n",
       "\n",
       "    .dataframe thead th {\n",
       "        text-align: right;\n",
       "    }\n",
       "</style>\n",
       "<table border=\"1\" class=\"dataframe\">\n",
       "  <thead>\n",
       "    <tr style=\"text-align: right;\">\n",
       "      <th></th>\n",
       "      <th>Speaker</th>\n",
       "      <th>Text</th>\n",
       "    </tr>\n",
       "  </thead>\n",
       "  <tbody>\n",
       "    <tr>\n",
       "      <th>0</th>\n",
       "      <td>hiccup</td>\n",
       "      <td>this... is berk. the best kept secret this sid...</td>\n",
       "    </tr>\n",
       "    <tr>\n",
       "      <th>1</th>\n",
       "      <td>hiccup</td>\n",
       "      <td>life here is amazing, just not for the faint o...</td>\n",
       "    </tr>\n",
       "    <tr>\n",
       "      <th>2</th>\n",
       "      <td>hiccup</td>\n",
       "      <td>dragon racing!</td>\n",
       "    </tr>\n",
       "    <tr>\n",
       "      <th>3</th>\n",
       "      <td>snotlout</td>\n",
       "      <td>oh, i'm sorry, fishlegs! did you want that?</td>\n",
       "    </tr>\n",
       "    <tr>\n",
       "      <th>4</th>\n",
       "      <td>fishlegs</td>\n",
       "      <td>snotlout! that's mine!</td>\n",
       "    </tr>\n",
       "  </tbody>\n",
       "</table>\n",
       "</div>"
      ],
      "text/plain": [
       "    Speaker                                               Text\n",
       "0    hiccup  this... is berk. the best kept secret this sid...\n",
       "1    hiccup  life here is amazing, just not for the faint o...\n",
       "2    hiccup                                     dragon racing!\n",
       "3  snotlout        oh, i'm sorry, fishlegs! did you want that?\n",
       "4  fishlegs                             snotlout! that's mine!"
      ]
     },
     "execution_count": 68,
     "metadata": {},
     "output_type": "execute_result"
    }
   ],
   "source": [
    "httyd2_df.head()"
   ]
  },
  {
   "cell_type": "markdown",
   "metadata": {},
   "source": [
    "### Gender"
   ]
  },
  {
   "cell_type": "code",
   "execution_count": 69,
   "metadata": {},
   "outputs": [
    {
     "data": {
      "text/plain": [
       "['archer', 'astrid', 'drago', 'eret', 'fishlegs', 'gobber', 'hiccup', 'hoark', 'ruffnut', 'snotlout', 'soldier', 'starkard', 'stoick', 'teeny', 'tuffnut', 'tuffnut ruffnut', 'ug', 'valka', 'warrior']"
      ]
     },
     "execution_count": 69,
     "metadata": {},
     "output_type": "execute_result"
    }
   ],
   "source": [
    "sorted(httyd2_df.Speaker.unique())"
   ]
  },
  {
   "cell_type": "code",
   "execution_count": 70,
   "metadata": {},
   "outputs": [],
   "source": [
    "httyd2_female = ['astrid', 'valka', 'ruffnut']\n",
    "httyd2_male = ['drago', 'eret', 'fishlegs', 'gobber', 'hiccup', 'hoark', 'snotlout', 'starkard', 'stoick', \n",
    "               'teeny', 'tuffnut','ug']"
   ]
  },
  {
   "cell_type": "code",
   "execution_count": 71,
   "metadata": {},
   "outputs": [],
   "source": [
    "gender_func = partial(whichgen, female = httyd2_female, male= httyd2_male)\n",
    "httyd2_df[\"Gender\"] = httyd2_df.Speaker.map(gender_func)"
   ]
  },
  {
   "cell_type": "markdown",
   "metadata": {},
   "source": [
    "### Role\n",
    "In this film, stoick supports hiccup, and the villagers who were apathetic towards him are supportive"
   ]
  },
  {
   "cell_type": "code",
   "execution_count": 72,
   "metadata": {},
   "outputs": [],
   "source": [
    "httyd2_pro = ['hiccup', 'astrid']\n",
    "httyd2_ant = ['drago', 'eret', 'ug']\n",
    "httyd2_helper = ['fishlegs', 'gobber', 'hoark', 'ruffnut', 'snotlout', 'stoick', 'tuffnut', 'tuffnut ruffnut', 'valka']"
   ]
  },
  {
   "cell_type": "code",
   "execution_count": 73,
   "metadata": {},
   "outputs": [],
   "source": [
    "role_func = partial(whichrole, pro = httyd2_pro, ant=httyd2_ant, helper = httyd2_helper)\n",
    "httyd2_df[\"Role\"] = httyd2_df.Speaker.map(role_func)"
   ]
  },
  {
   "cell_type": "markdown",
   "metadata": {},
   "source": [
    "### Status\n",
    "again, no royalty!"
   ]
  },
  {
   "cell_type": "code",
   "execution_count": 74,
   "metadata": {},
   "outputs": [],
   "source": [
    "httyd2_df['Speaker_Status'] = 'NON-P'"
   ]
  },
  {
   "cell_type": "markdown",
   "metadata": {},
   "source": [
    "### Song\n",
    "There is a song in this script, called \"For the Dancing and Dreaming\". Valka and Stoick sing it"
   ]
  },
  {
   "cell_type": "code",
   "execution_count": 75,
   "metadata": {},
   "outputs": [
    {
     "name": "stdout",
     "output_type": "stream",
     "text": [
      "scorching sun\n",
      "    Speaker                                 Text\n",
      "485  stoick  no scorching sun, nor freezing cold\n",
      "\n",
      "\n",
      "stop me on\n",
      "    Speaker                                   Text\n",
      "486  gobber  -- will stop me on my journey! sorry.\n",
      "\n",
      "\n",
      "promise me your heart\n",
      "    Speaker                                  Text\n",
      "487  stoick  if you will promise me your heart...\n",
      "\n",
      "\n",
      "love me for eternity\n",
      "    Speaker                       Text\n",
      "489   valka  and love me for eternity.\n",
      "\n",
      "\n",
      "my darling dear\n",
      "    Speaker                                               Text\n",
      "490   valka  my dearest one, my darling dear, you mighty wo...\n",
      "\n",
      "\n",
      "rings of gold\n",
      "    Speaker                                               Text\n",
      "491  stoick  but i would bring you rings of gold. i'd even ...\n",
      "493   valka  i have no use for rings of gold. i care not fo...\n",
      "\n",
      "\n",
      "from all harm\n",
      "    Speaker                                               Text\n",
      "492  stoick  and i would keep you from all harm, if you'd s...\n",
      "\n",
      "\n",
      "dancing and the dreaming\n",
      "    Speaker                                               Text\n",
      "494  gobber  c'mon, hiccup! valka, stoick, & gobber to love...\n",
      "\n",
      "\n",
      "swim and sail\n",
      "    Speaker                                               Text\n",
      "484  stoick  i'll swim and sail on savage seas, with ne'er ...\n",
      "\n",
      "\n"
     ]
    }
   ],
   "source": [
    "httyd2_song_words = ['scorching sun', 'stop me on', 'promise me your heart', 'love me for eternity', 'my darling dear',\n",
    "                    'rings of gold', 'from all harm', 'dancing and the dreaming', 'swim and sail']\n",
    "for line in httyd2_song_words:\n",
    "    print(line)\n",
    "    print(httyd2_df[[\"Speaker\", \"Text\"]][httyd2_df.Text.str.contains(line, regex = False)])\n",
    "    print('\\n')"
   ]
  },
  {
   "cell_type": "code",
   "execution_count": 76,
   "metadata": {},
   "outputs": [
    {
     "data": {
      "text/plain": [
       "482                                 oh, i love this one!\n",
       "483                              remember our song, val?\n",
       "484    i'll swim and sail on savage seas, with ne'er ...\n",
       "485                  no scorching sun, nor freezing cold\n",
       "486                -- will stop me on my journey! sorry.\n",
       "487                 if you will promise me your heart...\n",
       "488                                          and love...\n",
       "489                            and love me for eternity.\n",
       "490    my dearest one, my darling dear, you mighty wo...\n",
       "491    but i would bring you rings of gold. i'd even ...\n",
       "492    and i would keep you from all harm, if you'd s...\n",
       "493    i have no use for rings of gold. i care not fo...\n",
       "494    c'mon, hiccup! valka, stoick, & gobber to love...\n",
       "495                                   i'm still going...\n",
       "Name: Text, dtype: object"
      ]
     },
     "execution_count": 76,
     "metadata": {},
     "output_type": "execute_result"
    }
   ],
   "source": [
    "httyd2_df.Text.iloc[482:496]"
   ]
  },
  {
   "cell_type": "code",
   "execution_count": 77,
   "metadata": {},
   "outputs": [],
   "source": [
    "httyd2_song_list = list(range(484,495))"
   ]
  },
  {
   "cell_type": "code",
   "execution_count": 78,
   "metadata": {},
   "outputs": [],
   "source": [
    "song_func = partial(is_dialogue, song = httyd2_song_list)\n",
    "httyd2_df[\"Song\"] = httyd2_df.index.map(song_func)"
   ]
  },
  {
   "cell_type": "markdown",
   "metadata": {},
   "source": [
    "### Movie/Year/Utterance Number"
   ]
  },
  {
   "cell_type": "code",
   "execution_count": 79,
   "metadata": {},
   "outputs": [],
   "source": [
    "httyd2_df['Movie'] = 'How to Train Your Dragon 2'\n",
    "httyd2_df['Year'] = 2014\n",
    "httyd2_df['UTTERANCE_NUMBER'] = httyd2_df.Text.index + 1"
   ]
  },
  {
   "cell_type": "code",
   "execution_count": 80,
   "metadata": {},
   "outputs": [
    {
     "name": "stdout",
     "output_type": "stream",
     "text": [
      "<class 'pandas.core.frame.DataFrame'>\n",
      "RangeIndex: 708 entries, 0 to 707\n",
      "Data columns (total 9 columns):\n",
      "Speaker             708 non-null object\n",
      "Text                708 non-null object\n",
      "Gender              708 non-null object\n",
      "Role                708 non-null object\n",
      "Speaker_Status      708 non-null object\n",
      "Song                708 non-null object\n",
      "Movie               708 non-null object\n",
      "Year                708 non-null int64\n",
      "UTTERANCE_NUMBER    708 non-null int64\n",
      "dtypes: int64(2), object(7)\n",
      "memory usage: 30.5+ KB\n"
     ]
    }
   ],
   "source": [
    "httyd2_df.info()"
   ]
  },
  {
   "cell_type": "code",
   "execution_count": 81,
   "metadata": {},
   "outputs": [
    {
     "data": {
      "text/html": [
       "<div>\n",
       "<style scoped>\n",
       "    .dataframe tbody tr th:only-of-type {\n",
       "        vertical-align: middle;\n",
       "    }\n",
       "\n",
       "    .dataframe tbody tr th {\n",
       "        vertical-align: top;\n",
       "    }\n",
       "\n",
       "    .dataframe thead th {\n",
       "        text-align: right;\n",
       "    }\n",
       "</style>\n",
       "<table border=\"1\" class=\"dataframe\">\n",
       "  <thead>\n",
       "    <tr style=\"text-align: right;\">\n",
       "      <th></th>\n",
       "      <th>Speaker</th>\n",
       "      <th>Text</th>\n",
       "      <th>Gender</th>\n",
       "      <th>Role</th>\n",
       "      <th>Speaker_Status</th>\n",
       "      <th>Song</th>\n",
       "      <th>Movie</th>\n",
       "      <th>Year</th>\n",
       "      <th>UTTERANCE_NUMBER</th>\n",
       "    </tr>\n",
       "  </thead>\n",
       "  <tbody>\n",
       "    <tr>\n",
       "      <th>0</th>\n",
       "      <td>hiccup</td>\n",
       "      <td>this... is berk. the best kept secret this sid...</td>\n",
       "      <td>m</td>\n",
       "      <td>PRO</td>\n",
       "      <td>NON-P</td>\n",
       "      <td>D</td>\n",
       "      <td>How to Train Your Dragon 2</td>\n",
       "      <td>2014</td>\n",
       "      <td>1</td>\n",
       "    </tr>\n",
       "    <tr>\n",
       "      <th>1</th>\n",
       "      <td>hiccup</td>\n",
       "      <td>life here is amazing, just not for the faint o...</td>\n",
       "      <td>m</td>\n",
       "      <td>PRO</td>\n",
       "      <td>NON-P</td>\n",
       "      <td>D</td>\n",
       "      <td>How to Train Your Dragon 2</td>\n",
       "      <td>2014</td>\n",
       "      <td>2</td>\n",
       "    </tr>\n",
       "    <tr>\n",
       "      <th>2</th>\n",
       "      <td>hiccup</td>\n",
       "      <td>dragon racing!</td>\n",
       "      <td>m</td>\n",
       "      <td>PRO</td>\n",
       "      <td>NON-P</td>\n",
       "      <td>D</td>\n",
       "      <td>How to Train Your Dragon 2</td>\n",
       "      <td>2014</td>\n",
       "      <td>3</td>\n",
       "    </tr>\n",
       "    <tr>\n",
       "      <th>3</th>\n",
       "      <td>snotlout</td>\n",
       "      <td>oh, i'm sorry, fishlegs! did you want that?</td>\n",
       "      <td>m</td>\n",
       "      <td>HELPER</td>\n",
       "      <td>NON-P</td>\n",
       "      <td>D</td>\n",
       "      <td>How to Train Your Dragon 2</td>\n",
       "      <td>2014</td>\n",
       "      <td>4</td>\n",
       "    </tr>\n",
       "    <tr>\n",
       "      <th>4</th>\n",
       "      <td>fishlegs</td>\n",
       "      <td>snotlout! that's mine!</td>\n",
       "      <td>m</td>\n",
       "      <td>HELPER</td>\n",
       "      <td>NON-P</td>\n",
       "      <td>D</td>\n",
       "      <td>How to Train Your Dragon 2</td>\n",
       "      <td>2014</td>\n",
       "      <td>5</td>\n",
       "    </tr>\n",
       "  </tbody>\n",
       "</table>\n",
       "</div>"
      ],
      "text/plain": [
       "    Speaker                                               Text Gender    Role  \\\n",
       "0    hiccup  this... is berk. the best kept secret this sid...      m     PRO   \n",
       "1    hiccup  life here is amazing, just not for the faint o...      m     PRO   \n",
       "2    hiccup                                     dragon racing!      m     PRO   \n",
       "3  snotlout        oh, i'm sorry, fishlegs! did you want that?      m  HELPER   \n",
       "4  fishlegs                             snotlout! that's mine!      m  HELPER   \n",
       "\n",
       "  Speaker_Status Song                       Movie  Year  UTTERANCE_NUMBER  \n",
       "0          NON-P    D  How to Train Your Dragon 2  2014                 1  \n",
       "1          NON-P    D  How to Train Your Dragon 2  2014                 2  \n",
       "2          NON-P    D  How to Train Your Dragon 2  2014                 3  \n",
       "3          NON-P    D  How to Train Your Dragon 2  2014                 4  \n",
       "4          NON-P    D  How to Train Your Dragon 2  2014                 5  "
      ]
     },
     "execution_count": 81,
     "metadata": {},
     "output_type": "execute_result"
    }
   ],
   "source": [
    "httyd2_df.head()"
   ]
  },
  {
   "cell_type": "markdown",
   "metadata": {},
   "source": [
    "## The Croods"
   ]
  },
  {
   "cell_type": "code",
   "execution_count": 82,
   "metadata": {},
   "outputs": [],
   "source": [
    "croods_df = pd.read_pickle(r\"C:/Users/cassi/Desktop/Data_Science/Animated-Movie-Gendered-Dialogue/private/croods_lines.pkl\")"
   ]
  },
  {
   "cell_type": "code",
   "execution_count": 83,
   "metadata": {},
   "outputs": [
    {
     "name": "stdout",
     "output_type": "stream",
     "text": [
      "<class 'pandas.core.frame.DataFrame'>\n",
      "RangeIndex: 772 entries, 0 to 771\n",
      "Data columns (total 2 columns):\n",
      "Speaker    772 non-null object\n",
      "Text       771 non-null object\n",
      "dtypes: object(2)\n",
      "memory usage: 6.1+ KB\n"
     ]
    }
   ],
   "source": [
    "croods_df.info()"
   ]
  },
  {
   "cell_type": "code",
   "execution_count": 84,
   "metadata": {},
   "outputs": [
    {
     "data": {
      "text/html": [
       "<div>\n",
       "<style scoped>\n",
       "    .dataframe tbody tr th:only-of-type {\n",
       "        vertical-align: middle;\n",
       "    }\n",
       "\n",
       "    .dataframe tbody tr th {\n",
       "        vertical-align: top;\n",
       "    }\n",
       "\n",
       "    .dataframe thead th {\n",
       "        text-align: right;\n",
       "    }\n",
       "</style>\n",
       "<table border=\"1\" class=\"dataframe\">\n",
       "  <thead>\n",
       "    <tr style=\"text-align: right;\">\n",
       "      <th></th>\n",
       "      <th>Speaker</th>\n",
       "      <th>Text</th>\n",
       "    </tr>\n",
       "  </thead>\n",
       "  <tbody>\n",
       "    <tr>\n",
       "      <th>257</th>\n",
       "      <td>EEP_</td>\n",
       "      <td>None</td>\n",
       "    </tr>\n",
       "  </tbody>\n",
       "</table>\n",
       "</div>"
      ],
      "text/plain": [
       "    Speaker  Text\n",
       "257    EEP_  None"
      ]
     },
     "execution_count": 84,
     "metadata": {},
     "output_type": "execute_result"
    }
   ],
   "source": [
    "croods_df[croods_df.Text.isnull()]"
   ]
  },
  {
   "cell_type": "code",
   "execution_count": 85,
   "metadata": {},
   "outputs": [],
   "source": [
    "croods_df.dropna(axis = 0, inplace = True)"
   ]
  },
  {
   "cell_type": "code",
   "execution_count": 86,
   "metadata": {},
   "outputs": [],
   "source": [
    "croods_df.reset_index(drop=True, inplace=True)"
   ]
  },
  {
   "cell_type": "code",
   "execution_count": 87,
   "metadata": {},
   "outputs": [
    {
     "name": "stdout",
     "output_type": "stream",
     "text": [
      "<class 'pandas.core.frame.DataFrame'>\n",
      "RangeIndex: 771 entries, 0 to 770\n",
      "Data columns (total 2 columns):\n",
      "Speaker    771 non-null object\n",
      "Text       771 non-null object\n",
      "dtypes: object(2)\n",
      "memory usage: 6.1+ KB\n"
     ]
    }
   ],
   "source": [
    "croods_df.info()"
   ]
  },
  {
   "cell_type": "markdown",
   "metadata": {},
   "source": [
    "### Gender"
   ]
  },
  {
   "cell_type": "code",
   "execution_count": 88,
   "metadata": {},
   "outputs": [
    {
     "data": {
      "text/plain": [
       "['BELT', 'CHUNKY', 'CREATURE', 'CROODS', 'EEP', 'ERF ERF', 'GRAN', 'GRUG', 'GUY', 'MACAWNIVORE', 'SANDY', 'THUNK', 'UGA', 'UGGA']"
      ]
     },
     "execution_count": 88,
     "metadata": {},
     "output_type": "execute_result"
    }
   ],
   "source": [
    "sorted(croods_df.Speaker.unique())"
   ]
  },
  {
   "cell_type": "code",
   "execution_count": 89,
   "metadata": {},
   "outputs": [],
   "source": [
    "croods_df.Speaker = croods_df.Speaker.str.lower().str.strip()\n",
    "croods_df.Text = croods_df.Text.str.lower().str.strip()"
   ]
  },
  {
   "cell_type": "code",
   "execution_count": 90,
   "metadata": {},
   "outputs": [
    {
     "data": {
      "text/html": [
       "<div>\n",
       "<style scoped>\n",
       "    .dataframe tbody tr th:only-of-type {\n",
       "        vertical-align: middle;\n",
       "    }\n",
       "\n",
       "    .dataframe tbody tr th {\n",
       "        vertical-align: top;\n",
       "    }\n",
       "\n",
       "    .dataframe thead th {\n",
       "        text-align: right;\n",
       "    }\n",
       "</style>\n",
       "<table border=\"1\" class=\"dataframe\">\n",
       "  <thead>\n",
       "    <tr style=\"text-align: right;\">\n",
       "      <th></th>\n",
       "      <th>Speaker</th>\n",
       "      <th>Text</th>\n",
       "    </tr>\n",
       "  </thead>\n",
       "  <tbody>\n",
       "    <tr>\n",
       "      <th>0</th>\n",
       "      <td>eep</td>\n",
       "      <td>with every sun comes a new day. a new beginnin...</td>\n",
       "    </tr>\n",
       "    <tr>\n",
       "      <th>1</th>\n",
       "      <td>eep</td>\n",
       "      <td>but not for me. my name's eep. this, is my fam...</td>\n",
       "    </tr>\n",
       "    <tr>\n",
       "      <th>2</th>\n",
       "      <td>eep</td>\n",
       "      <td>we were the last ones around. there used to be...</td>\n",
       "    </tr>\n",
       "    <tr>\n",
       "      <th>3</th>\n",
       "      <td>eep</td>\n",
       "      <td>because of my dad. he was strong... and he fol...</td>\n",
       "    </tr>\n",
       "    <tr>\n",
       "      <th>4</th>\n",
       "      <td>eep</td>\n",
       "      <td>... the ones painted on the cave walls. anythi...</td>\n",
       "    </tr>\n",
       "  </tbody>\n",
       "</table>\n",
       "</div>"
      ],
      "text/plain": [
       "  Speaker                                               Text\n",
       "0     eep  with every sun comes a new day. a new beginnin...\n",
       "1     eep  but not for me. my name's eep. this, is my fam...\n",
       "2     eep  we were the last ones around. there used to be...\n",
       "3     eep  because of my dad. he was strong... and he fol...\n",
       "4     eep  ... the ones painted on the cave walls. anythi..."
      ]
     },
     "execution_count": 90,
     "metadata": {},
     "output_type": "execute_result"
    }
   ],
   "source": [
    "croods_df.head()"
   ]
  },
  {
   "cell_type": "code",
   "execution_count": 91,
   "metadata": {},
   "outputs": [
    {
     "data": {
      "text/plain": [
       "['belt', 'chunky', 'creature', 'croods', 'eep', 'erf erf', 'gran', 'grug', 'guy', 'macawnivore', 'sandy', 'thunk', 'uga', 'ugga']"
      ]
     },
     "execution_count": 91,
     "metadata": {},
     "output_type": "execute_result"
    }
   ],
   "source": [
    "sorted(croods_df.Speaker.unique())"
   ]
  },
  {
   "cell_type": "code",
   "execution_count": 92,
   "metadata": {},
   "outputs": [],
   "source": [
    "## uga is a typo of ugga\n",
    "croods_df.Speaker.replace(\"uga\", \"ugga\", inplace = True)"
   ]
  },
  {
   "cell_type": "code",
   "execution_count": 93,
   "metadata": {},
   "outputs": [
    {
     "data": {
      "text/plain": [
       "['belt', 'chunky', 'creature', 'croods', 'eep', 'erf erf', 'gran', 'grug', 'guy', 'macawnivore', 'sandy', 'thunk', 'ugga']"
      ]
     },
     "execution_count": 93,
     "metadata": {},
     "output_type": "execute_result"
    }
   ],
   "source": [
    "sorted(croods_df.Speaker.unique())"
   ]
  },
  {
   "cell_type": "code",
   "execution_count": 94,
   "metadata": {},
   "outputs": [
    {
     "data": {
      "text/html": [
       "<div>\n",
       "<style scoped>\n",
       "    .dataframe tbody tr th:only-of-type {\n",
       "        vertical-align: middle;\n",
       "    }\n",
       "\n",
       "    .dataframe tbody tr th {\n",
       "        vertical-align: top;\n",
       "    }\n",
       "\n",
       "    .dataframe thead th {\n",
       "        text-align: right;\n",
       "    }\n",
       "</style>\n",
       "<table border=\"1\" class=\"dataframe\">\n",
       "  <thead>\n",
       "    <tr style=\"text-align: right;\">\n",
       "      <th></th>\n",
       "      <th>Speaker</th>\n",
       "      <th>Text</th>\n",
       "    </tr>\n",
       "  </thead>\n",
       "  <tbody>\n",
       "    <tr>\n",
       "      <th>259</th>\n",
       "      <td>erf erf</td>\n",
       "      <td>glaaabbbllllellelller!</td>\n",
       "    </tr>\n",
       "  </tbody>\n",
       "</table>\n",
       "</div>"
      ],
      "text/plain": [
       "     Speaker                    Text\n",
       "259  erf erf  glaaabbbllllellelller!"
      ]
     },
     "execution_count": 94,
     "metadata": {},
     "output_type": "execute_result"
    }
   ],
   "source": [
    "croods_df[croods_df.Speaker == 'erf erf']"
   ]
  },
  {
   "cell_type": "code",
   "execution_count": 95,
   "metadata": {},
   "outputs": [
    {
     "data": {
      "text/plain": [
       "Speaker                   erf erf\n",
       "Text       glaaabbbllllellelller!\n",
       "Name: 259, dtype: object"
      ]
     },
     "execution_count": 95,
     "metadata": {},
     "output_type": "execute_result"
    }
   ],
   "source": [
    "croods_df.iloc[259]"
   ]
  },
  {
   "cell_type": "code",
   "execution_count": 96,
   "metadata": {},
   "outputs": [],
   "source": [
    "croods_df.drop(index = 259, inplace = True)"
   ]
  },
  {
   "cell_type": "code",
   "execution_count": 97,
   "metadata": {},
   "outputs": [],
   "source": [
    "croods_df.reset_index(drop=True, inplace = True)"
   ]
  },
  {
   "cell_type": "code",
   "execution_count": 98,
   "metadata": {},
   "outputs": [
    {
     "name": "stdout",
     "output_type": "stream",
     "text": [
      "<class 'pandas.core.frame.DataFrame'>\n",
      "RangeIndex: 770 entries, 0 to 769\n",
      "Data columns (total 2 columns):\n",
      "Speaker    770 non-null object\n",
      "Text       770 non-null object\n",
      "dtypes: object(2)\n",
      "memory usage: 6.1+ KB\n"
     ]
    }
   ],
   "source": [
    "croods_df.info()"
   ]
  },
  {
   "cell_type": "code",
   "execution_count": 99,
   "metadata": {},
   "outputs": [
    {
     "data": {
      "text/plain": [
       "['belt', 'chunky', 'creature', 'croods', 'eep', 'gran', 'grug', 'guy', 'macawnivore', 'sandy', 'thunk', 'ugga']"
      ]
     },
     "execution_count": 99,
     "metadata": {},
     "output_type": "execute_result"
    }
   ],
   "source": [
    "sorted(croods_df.Speaker.unique())"
   ]
  },
  {
   "cell_type": "code",
   "execution_count": 100,
   "metadata": {},
   "outputs": [],
   "source": [
    "croods_female = ['eep', 'gran', 'ugga', 'sandy']\n",
    "croods_male = ['belt', 'grug', 'guy', 'thunk', 'chunky']"
   ]
  },
  {
   "cell_type": "code",
   "execution_count": 101,
   "metadata": {},
   "outputs": [],
   "source": [
    "gender_func = partial(whichgen, female = croods_female, male= croods_male)\n",
    "croods_df[\"Gender\"] = croods_df.Speaker.map(gender_func)"
   ]
  },
  {
   "cell_type": "markdown",
   "metadata": {},
   "source": [
    "### Role\n",
    "another movie in which a daughter rebels against her dad...making the antagonist/protagnist line very blurry."
   ]
  },
  {
   "cell_type": "code",
   "execution_count": 102,
   "metadata": {},
   "outputs": [],
   "source": [
    "croods_pro = ['eep', 'guy']\n",
    "croods_ant = ['grug', 'chunky', 'macawnivore']\n",
    "croods_helper = ['belt', 'thunk', 'gran', 'ugga', 'sandy']"
   ]
  },
  {
   "cell_type": "code",
   "execution_count": 103,
   "metadata": {},
   "outputs": [],
   "source": [
    "role_func = partial(whichrole, pro = croods_pro, ant=croods_ant, helper = croods_helper)\n",
    "croods_df[\"Role\"] = croods_df.Speaker.map(role_func)"
   ]
  },
  {
   "cell_type": "markdown",
   "metadata": {},
   "source": [
    "### Status/Song/Movie/Year/Utterance number"
   ]
  },
  {
   "cell_type": "code",
   "execution_count": 104,
   "metadata": {},
   "outputs": [],
   "source": [
    "croods_df['Speaker_Status'] = 'NON-P'\n",
    "croods_df['Song'] = 'D'\n",
    "croods_df['Movie'] = 'The Croods'\n",
    "croods_df['Year'] = 2013\n",
    "croods_df['UTTERANCE_NUMBER'] = croods_df.Text.index + 1"
   ]
  },
  {
   "cell_type": "code",
   "execution_count": 105,
   "metadata": {},
   "outputs": [
    {
     "name": "stdout",
     "output_type": "stream",
     "text": [
      "<class 'pandas.core.frame.DataFrame'>\n",
      "RangeIndex: 770 entries, 0 to 769\n",
      "Data columns (total 9 columns):\n",
      "Speaker             770 non-null object\n",
      "Text                770 non-null object\n",
      "Gender              770 non-null object\n",
      "Role                770 non-null object\n",
      "Speaker_Status      770 non-null object\n",
      "Song                770 non-null object\n",
      "Movie               770 non-null object\n",
      "Year                770 non-null int64\n",
      "UTTERANCE_NUMBER    770 non-null int64\n",
      "dtypes: int64(2), object(7)\n",
      "memory usage: 33.1+ KB\n"
     ]
    }
   ],
   "source": [
    "croods_df.info()"
   ]
  },
  {
   "cell_type": "code",
   "execution_count": 106,
   "metadata": {},
   "outputs": [
    {
     "data": {
      "text/html": [
       "<div>\n",
       "<style scoped>\n",
       "    .dataframe tbody tr th:only-of-type {\n",
       "        vertical-align: middle;\n",
       "    }\n",
       "\n",
       "    .dataframe tbody tr th {\n",
       "        vertical-align: top;\n",
       "    }\n",
       "\n",
       "    .dataframe thead th {\n",
       "        text-align: right;\n",
       "    }\n",
       "</style>\n",
       "<table border=\"1\" class=\"dataframe\">\n",
       "  <thead>\n",
       "    <tr style=\"text-align: right;\">\n",
       "      <th></th>\n",
       "      <th>Speaker</th>\n",
       "      <th>Text</th>\n",
       "      <th>Gender</th>\n",
       "      <th>Role</th>\n",
       "      <th>Speaker_Status</th>\n",
       "      <th>Song</th>\n",
       "      <th>Movie</th>\n",
       "      <th>Year</th>\n",
       "      <th>UTTERANCE_NUMBER</th>\n",
       "    </tr>\n",
       "  </thead>\n",
       "  <tbody>\n",
       "    <tr>\n",
       "      <th>356</th>\n",
       "      <td>gran</td>\n",
       "      <td>i don't blame it.</td>\n",
       "      <td>f</td>\n",
       "      <td>HELPER</td>\n",
       "      <td>NON-P</td>\n",
       "      <td>D</td>\n",
       "      <td>The Croods</td>\n",
       "      <td>2013</td>\n",
       "      <td>357</td>\n",
       "    </tr>\n",
       "    <tr>\n",
       "      <th>355</th>\n",
       "      <td>thunk</td>\n",
       "      <td>ow! something bit me!</td>\n",
       "      <td>m</td>\n",
       "      <td>HELPER</td>\n",
       "      <td>NON-P</td>\n",
       "      <td>D</td>\n",
       "      <td>The Croods</td>\n",
       "      <td>2013</td>\n",
       "      <td>356</td>\n",
       "    </tr>\n",
       "    <tr>\n",
       "      <th>140</th>\n",
       "      <td>guy</td>\n",
       "      <td>it's dying. i can fix it!</td>\n",
       "      <td>m</td>\n",
       "      <td>PRO</td>\n",
       "      <td>NON-P</td>\n",
       "      <td>D</td>\n",
       "      <td>The Croods</td>\n",
       "      <td>2013</td>\n",
       "      <td>141</td>\n",
       "    </tr>\n",
       "    <tr>\n",
       "      <th>299</th>\n",
       "      <td>sandy</td>\n",
       "      <td>weeeee!!!! gran, who is still trying to put ou...</td>\n",
       "      <td>f</td>\n",
       "      <td>HELPER</td>\n",
       "      <td>NON-P</td>\n",
       "      <td>D</td>\n",
       "      <td>The Croods</td>\n",
       "      <td>2013</td>\n",
       "      <td>300</td>\n",
       "    </tr>\n",
       "    <tr>\n",
       "      <th>277</th>\n",
       "      <td>guy</td>\n",
       "      <td>you know, you're a lot like your daughter.</td>\n",
       "      <td>m</td>\n",
       "      <td>PRO</td>\n",
       "      <td>NON-P</td>\n",
       "      <td>D</td>\n",
       "      <td>The Croods</td>\n",
       "      <td>2013</td>\n",
       "      <td>278</td>\n",
       "    </tr>\n",
       "  </tbody>\n",
       "</table>\n",
       "</div>"
      ],
      "text/plain": [
       "    Speaker                                               Text Gender    Role  \\\n",
       "356    gran                                  i don't blame it.      f  HELPER   \n",
       "355   thunk                              ow! something bit me!      m  HELPER   \n",
       "140     guy                          it's dying. i can fix it!      m     PRO   \n",
       "299   sandy  weeeee!!!! gran, who is still trying to put ou...      f  HELPER   \n",
       "277     guy         you know, you're a lot like your daughter.      m     PRO   \n",
       "\n",
       "    Speaker_Status Song       Movie  Year  UTTERANCE_NUMBER  \n",
       "356          NON-P    D  The Croods  2013               357  \n",
       "355          NON-P    D  The Croods  2013               356  \n",
       "140          NON-P    D  The Croods  2013               141  \n",
       "299          NON-P    D  The Croods  2013               300  \n",
       "277          NON-P    D  The Croods  2013               278  "
      ]
     },
     "execution_count": 106,
     "metadata": {},
     "output_type": "execute_result"
    }
   ],
   "source": [
    "croods_df.sample(5)"
   ]
  },
  {
   "cell_type": "markdown",
   "metadata": {},
   "source": [
    "## Rise of the Guardians"
   ]
  },
  {
   "cell_type": "code",
   "execution_count": 107,
   "metadata": {},
   "outputs": [],
   "source": [
    "rotg_df = pd.read_pickle(r\"C:/Users/cassi/Desktop/Data_Science/Animated-Movie-Gendered-Dialogue/private/rotg_lines.pkl\")"
   ]
  },
  {
   "cell_type": "code",
   "execution_count": 108,
   "metadata": {},
   "outputs": [
    {
     "data": {
      "text/html": [
       "<div>\n",
       "<style scoped>\n",
       "    .dataframe tbody tr th:only-of-type {\n",
       "        vertical-align: middle;\n",
       "    }\n",
       "\n",
       "    .dataframe tbody tr th {\n",
       "        vertical-align: top;\n",
       "    }\n",
       "\n",
       "    .dataframe thead th {\n",
       "        text-align: right;\n",
       "    }\n",
       "</style>\n",
       "<table border=\"1\" class=\"dataframe\">\n",
       "  <thead>\n",
       "    <tr style=\"text-align: right;\">\n",
       "      <th></th>\n",
       "      <th>Speaker</th>\n",
       "      <th>Text</th>\n",
       "    </tr>\n",
       "  </thead>\n",
       "  <tbody>\n",
       "    <tr>\n",
       "      <th>0</th>\n",
       "      <td>JACK</td>\n",
       "      <td>Darkness. That's the first thing I remember. I...</td>\n",
       "    </tr>\n",
       "    <tr>\n",
       "      <th>1</th>\n",
       "      <td>JACK</td>\n",
       "      <td>But then...then I saw the moon. It was so big ...</td>\n",
       "    </tr>\n",
       "    <tr>\n",
       "      <th>2</th>\n",
       "      <td>JACK</td>\n",
       "      <td>Why I was there, and what I was meant to do - ...</td>\n",
       "    </tr>\n",
       "    <tr>\n",
       "      <th>3</th>\n",
       "      <td>JACK</td>\n",
       "      <td>Hello. Hello. Good evening, ma'am. Ma'am?</td>\n",
       "    </tr>\n",
       "    <tr>\n",
       "      <th>4</th>\n",
       "      <td>JACK</td>\n",
       "      <td>Oh, ah, excuse me, can you tell me where I am?</td>\n",
       "    </tr>\n",
       "  </tbody>\n",
       "</table>\n",
       "</div>"
      ],
      "text/plain": [
       "  Speaker                                               Text\n",
       "0    JACK  Darkness. That's the first thing I remember. I...\n",
       "1    JACK  But then...then I saw the moon. It was so big ...\n",
       "2    JACK  Why I was there, and what I was meant to do - ...\n",
       "3    JACK          Hello. Hello. Good evening, ma'am. Ma'am?\n",
       "4    JACK     Oh, ah, excuse me, can you tell me where I am?"
      ]
     },
     "execution_count": 108,
     "metadata": {},
     "output_type": "execute_result"
    }
   ],
   "source": [
    "rotg_df.head()"
   ]
  },
  {
   "cell_type": "code",
   "execution_count": 109,
   "metadata": {},
   "outputs": [],
   "source": [
    "rotg_df.Speaker = rotg_df.Speaker.str.lower().str.strip()\n",
    "rotg_df.Text = rotg_df.Text.str.lower().str.strip()"
   ]
  },
  {
   "cell_type": "code",
   "execution_count": 110,
   "metadata": {},
   "outputs": [
    {
     "data": {
      "text/html": [
       "<div>\n",
       "<style scoped>\n",
       "    .dataframe tbody tr th:only-of-type {\n",
       "        vertical-align: middle;\n",
       "    }\n",
       "\n",
       "    .dataframe tbody tr th {\n",
       "        vertical-align: top;\n",
       "    }\n",
       "\n",
       "    .dataframe thead th {\n",
       "        text-align: right;\n",
       "    }\n",
       "</style>\n",
       "<table border=\"1\" class=\"dataframe\">\n",
       "  <thead>\n",
       "    <tr style=\"text-align: right;\">\n",
       "      <th></th>\n",
       "      <th>Speaker</th>\n",
       "      <th>Text</th>\n",
       "    </tr>\n",
       "  </thead>\n",
       "  <tbody>\n",
       "    <tr>\n",
       "      <th>0</th>\n",
       "      <td>jack</td>\n",
       "      <td>darkness. that's the first thing i remember. i...</td>\n",
       "    </tr>\n",
       "    <tr>\n",
       "      <th>1</th>\n",
       "      <td>jack</td>\n",
       "      <td>but then...then i saw the moon. it was so big ...</td>\n",
       "    </tr>\n",
       "    <tr>\n",
       "      <th>2</th>\n",
       "      <td>jack</td>\n",
       "      <td>why i was there, and what i was meant to do - ...</td>\n",
       "    </tr>\n",
       "    <tr>\n",
       "      <th>3</th>\n",
       "      <td>jack</td>\n",
       "      <td>hello. hello. good evening, ma'am. ma'am?</td>\n",
       "    </tr>\n",
       "    <tr>\n",
       "      <th>4</th>\n",
       "      <td>jack</td>\n",
       "      <td>oh, ah, excuse me, can you tell me where i am?</td>\n",
       "    </tr>\n",
       "  </tbody>\n",
       "</table>\n",
       "</div>"
      ],
      "text/plain": [
       "  Speaker                                               Text\n",
       "0    jack  darkness. that's the first thing i remember. i...\n",
       "1    jack  but then...then i saw the moon. it was so big ...\n",
       "2    jack  why i was there, and what i was meant to do - ...\n",
       "3    jack          hello. hello. good evening, ma'am. ma'am?\n",
       "4    jack     oh, ah, excuse me, can you tell me where i am?"
      ]
     },
     "execution_count": 110,
     "metadata": {},
     "output_type": "execute_result"
    }
   ],
   "source": [
    "rotg_df.head()"
   ]
  },
  {
   "cell_type": "code",
   "execution_count": 111,
   "metadata": {},
   "outputs": [
    {
     "name": "stdout",
     "output_type": "stream",
     "text": [
      "<class 'pandas.core.frame.DataFrame'>\n",
      "RangeIndex: 930 entries, 0 to 929\n",
      "Data columns (total 2 columns):\n",
      "Speaker    930 non-null object\n",
      "Text       928 non-null object\n",
      "dtypes: object(2)\n",
      "memory usage: 7.3+ KB\n"
     ]
    }
   ],
   "source": [
    "rotg_df.info()"
   ]
  },
  {
   "cell_type": "code",
   "execution_count": 112,
   "metadata": {},
   "outputs": [
    {
     "data": {
      "text/html": [
       "<div>\n",
       "<style scoped>\n",
       "    .dataframe tbody tr th:only-of-type {\n",
       "        vertical-align: middle;\n",
       "    }\n",
       "\n",
       "    .dataframe tbody tr th {\n",
       "        vertical-align: top;\n",
       "    }\n",
       "\n",
       "    .dataframe thead th {\n",
       "        text-align: right;\n",
       "    }\n",
       "</style>\n",
       "<table border=\"1\" class=\"dataframe\">\n",
       "  <thead>\n",
       "    <tr style=\"text-align: right;\">\n",
       "      <th></th>\n",
       "      <th>Speaker</th>\n",
       "      <th>Text</th>\n",
       "    </tr>\n",
       "  </thead>\n",
       "  <tbody>\n",
       "    <tr>\n",
       "      <th>686</th>\n",
       "      <td>baby tooth_</td>\n",
       "      <td>None</td>\n",
       "    </tr>\n",
       "    <tr>\n",
       "      <th>929</th>\n",
       "      <td>white_</td>\n",
       "      <td>None</td>\n",
       "    </tr>\n",
       "  </tbody>\n",
       "</table>\n",
       "</div>"
      ],
      "text/plain": [
       "         Speaker  Text\n",
       "686  baby tooth_  None\n",
       "929       white_  None"
      ]
     },
     "execution_count": 112,
     "metadata": {},
     "output_type": "execute_result"
    }
   ],
   "source": [
    "rotg_df[rotg_df.Text.isnull()]"
   ]
  },
  {
   "cell_type": "code",
   "execution_count": 113,
   "metadata": {},
   "outputs": [],
   "source": [
    "rotg_df.dropna(axis=0, inplace=True)"
   ]
  },
  {
   "cell_type": "code",
   "execution_count": 114,
   "metadata": {},
   "outputs": [],
   "source": [
    "rotg_df.reset_index(drop=True, inplace=True)"
   ]
  },
  {
   "cell_type": "code",
   "execution_count": 115,
   "metadata": {},
   "outputs": [
    {
     "name": "stdout",
     "output_type": "stream",
     "text": [
      "<class 'pandas.core.frame.DataFrame'>\n",
      "RangeIndex: 928 entries, 0 to 927\n",
      "Data columns (total 2 columns):\n",
      "Speaker    928 non-null object\n",
      "Text       928 non-null object\n",
      "dtypes: object(2)\n",
      "memory usage: 7.3+ KB\n"
     ]
    }
   ],
   "source": [
    "rotg_df.info()"
   ]
  },
  {
   "cell_type": "markdown",
   "metadata": {},
   "source": [
    "### Gender"
   ]
  },
  {
   "cell_type": "code",
   "execution_count": 116,
   "metadata": {},
   "outputs": [
    {
     "data": {
      "text/plain": [
       "['boy', 'british boy', 'british girl', 'british kids', 'bunny', 'bunnymund', 'caleb', 'claude', 'cupcake', 'jack', \"jack's mother\", \"jack's sister\", 'jamie', \"jamie's mom\", 'kids', 'mom', 'monty', 'north', 'pippa', 'pitch', 'residents', 'russian boy', 'sister', 'sophie', 'tooth', 'walker', 'yeti', 'yetis']"
      ]
     },
     "execution_count": 116,
     "metadata": {},
     "output_type": "execute_result"
    }
   ],
   "source": [
    "sorted(rotg_df.Speaker.unique())"
   ]
  },
  {
   "cell_type": "code",
   "execution_count": 117,
   "metadata": {},
   "outputs": [],
   "source": [
    "rotg_female = ['british girl', 'cupcake', \"jack's mother\", \"jack's sister\", \"jamie's mom\", 'mom', 'pippa', 'sister',\n",
    "              'sophie', 'tooth']\n",
    "rotg_male = ['boy', 'british boy', 'bunny', 'bunnymund', 'caleb', 'claude', 'jack', 'jamie', 'monty', 'north', 'pitch',\n",
    "            'russian boy', 'walker', 'yeti']"
   ]
  },
  {
   "cell_type": "code",
   "execution_count": 118,
   "metadata": {},
   "outputs": [],
   "source": [
    "gender_func = partial(whichgen, female = rotg_female, male= rotg_male)\n",
    "rotg_df[\"Gender\"] = rotg_df.Speaker.map(gender_func)"
   ]
  },
  {
   "cell_type": "markdown",
   "metadata": {},
   "source": [
    "### Role"
   ]
  },
  {
   "cell_type": "code",
   "execution_count": 119,
   "metadata": {},
   "outputs": [],
   "source": [
    "rotg_pro = ['jack']\n",
    "rotg_ant = ['pitch']\n",
    "rotg_helper = ['bunny', 'bunnymund', 'north', 'tooth']"
   ]
  },
  {
   "cell_type": "code",
   "execution_count": 120,
   "metadata": {},
   "outputs": [],
   "source": [
    "role_func = partial(whichrole, pro = rotg_pro, ant=rotg_ant, helper = rotg_helper)\n",
    "rotg_df[\"Role\"] = rotg_df.Speaker.map(role_func)"
   ]
  },
  {
   "cell_type": "markdown",
   "metadata": {},
   "source": [
    "### Status/Song/Movie/Year/Utterance Number\n",
    "No royalty, and no songs!"
   ]
  },
  {
   "cell_type": "code",
   "execution_count": 121,
   "metadata": {},
   "outputs": [],
   "source": [
    "rotg_df['Speaker_Status'] = 'NON-P'\n",
    "rotg_df['Song'] = 'D'\n",
    "rotg_df['Movie'] = 'Rise of the Guardians'\n",
    "rotg_df['Year'] = 2012\n",
    "rotg_df['UTTERANCE_NUMBER'] = rotg_df.Text.index + 1"
   ]
  },
  {
   "cell_type": "code",
   "execution_count": 122,
   "metadata": {},
   "outputs": [
    {
     "name": "stdout",
     "output_type": "stream",
     "text": [
      "<class 'pandas.core.frame.DataFrame'>\n",
      "RangeIndex: 928 entries, 0 to 927\n",
      "Data columns (total 9 columns):\n",
      "Speaker             928 non-null object\n",
      "Text                928 non-null object\n",
      "Gender              928 non-null object\n",
      "Role                928 non-null object\n",
      "Speaker_Status      928 non-null object\n",
      "Song                928 non-null object\n",
      "Movie               928 non-null object\n",
      "Year                928 non-null int64\n",
      "UTTERANCE_NUMBER    928 non-null int64\n",
      "dtypes: int64(2), object(7)\n",
      "memory usage: 39.9+ KB\n"
     ]
    }
   ],
   "source": [
    "rotg_df.info()"
   ]
  },
  {
   "cell_type": "code",
   "execution_count": 123,
   "metadata": {},
   "outputs": [
    {
     "data": {
      "text/html": [
       "<div>\n",
       "<style scoped>\n",
       "    .dataframe tbody tr th:only-of-type {\n",
       "        vertical-align: middle;\n",
       "    }\n",
       "\n",
       "    .dataframe tbody tr th {\n",
       "        vertical-align: top;\n",
       "    }\n",
       "\n",
       "    .dataframe thead th {\n",
       "        text-align: right;\n",
       "    }\n",
       "</style>\n",
       "<table border=\"1\" class=\"dataframe\">\n",
       "  <thead>\n",
       "    <tr style=\"text-align: right;\">\n",
       "      <th></th>\n",
       "      <th>Speaker</th>\n",
       "      <th>Text</th>\n",
       "      <th>Gender</th>\n",
       "      <th>Role</th>\n",
       "      <th>Speaker_Status</th>\n",
       "      <th>Song</th>\n",
       "      <th>Movie</th>\n",
       "      <th>Year</th>\n",
       "      <th>UTTERANCE_NUMBER</th>\n",
       "    </tr>\n",
       "  </thead>\n",
       "  <tbody>\n",
       "    <tr>\n",
       "      <th>305</th>\n",
       "      <td>north</td>\n",
       "      <td>out of the way!</td>\n",
       "      <td>m</td>\n",
       "      <td>HELPER</td>\n",
       "      <td>NON-P</td>\n",
       "      <td>D</td>\n",
       "      <td>Rise of the Guardians</td>\n",
       "      <td>2012</td>\n",
       "      <td>306</td>\n",
       "    </tr>\n",
       "    <tr>\n",
       "      <th>125</th>\n",
       "      <td>monty</td>\n",
       "      <td>no.</td>\n",
       "      <td>m</td>\n",
       "      <td>N</td>\n",
       "      <td>NON-P</td>\n",
       "      <td>D</td>\n",
       "      <td>Rise of the Guardians</td>\n",
       "      <td>2012</td>\n",
       "      <td>126</td>\n",
       "    </tr>\n",
       "    <tr>\n",
       "      <th>660</th>\n",
       "      <td>caleb</td>\n",
       "      <td>it was a dream. you should be happy you still ...</td>\n",
       "      <td>m</td>\n",
       "      <td>N</td>\n",
       "      <td>NON-P</td>\n",
       "      <td>D</td>\n",
       "      <td>Rise of the Guardians</td>\n",
       "      <td>2012</td>\n",
       "      <td>661</td>\n",
       "    </tr>\n",
       "    <tr>\n",
       "      <th>343</th>\n",
       "      <td>north</td>\n",
       "      <td>why are you doing this?</td>\n",
       "      <td>m</td>\n",
       "      <td>HELPER</td>\n",
       "      <td>NON-P</td>\n",
       "      <td>D</td>\n",
       "      <td>Rise of the Guardians</td>\n",
       "      <td>2012</td>\n",
       "      <td>344</td>\n",
       "    </tr>\n",
       "    <tr>\n",
       "      <th>566</th>\n",
       "      <td>jack</td>\n",
       "      <td>uh, how much time do we have?</td>\n",
       "      <td>m</td>\n",
       "      <td>PRO</td>\n",
       "      <td>NON-P</td>\n",
       "      <td>D</td>\n",
       "      <td>Rise of the Guardians</td>\n",
       "      <td>2012</td>\n",
       "      <td>567</td>\n",
       "    </tr>\n",
       "  </tbody>\n",
       "</table>\n",
       "</div>"
      ],
      "text/plain": [
       "    Speaker                                               Text Gender    Role  \\\n",
       "305   north                                    out of the way!      m  HELPER   \n",
       "125   monty                                                no.      m       N   \n",
       "660   caleb  it was a dream. you should be happy you still ...      m       N   \n",
       "343   north                            why are you doing this?      m  HELPER   \n",
       "566    jack                      uh, how much time do we have?      m     PRO   \n",
       "\n",
       "    Speaker_Status Song                  Movie  Year  UTTERANCE_NUMBER  \n",
       "305          NON-P    D  Rise of the Guardians  2012               306  \n",
       "125          NON-P    D  Rise of the Guardians  2012               126  \n",
       "660          NON-P    D  Rise of the Guardians  2012               661  \n",
       "343          NON-P    D  Rise of the Guardians  2012               344  \n",
       "566          NON-P    D  Rise of the Guardians  2012               567  "
      ]
     },
     "execution_count": 123,
     "metadata": {},
     "output_type": "execute_result"
    }
   ],
   "source": [
    "rotg_df.sample(5)"
   ]
  },
  {
   "cell_type": "markdown",
   "metadata": {},
   "source": [
    "## Kung Fu Panda"
   ]
  },
  {
   "cell_type": "code",
   "execution_count": 124,
   "metadata": {},
   "outputs": [
    {
     "ename": "FileNotFoundError",
     "evalue": "[Errno 2] No such file or directory: 'C:\\\\Users\\\\cassi\\\\Desktop\\\\Data_Science\\\\Animated-Movie-Gendered-Dialogue\\\\privatę̨\\\\kfp_lines.pkl'",
     "output_type": "error",
     "traceback": [
      "\u001b[1;31m---------------------------------------------------------------------------\u001b[0m",
      "\u001b[1;31mFileNotFoundError\u001b[0m                         Traceback (most recent call last)",
      "\u001b[1;32mc:\\users\\cassi\\appdata\\local\\programs\\python\\python36-32\\lib\\site-packages\\pandas\\io\\pickle.py\u001b[0m in \u001b[0;36mtry_read\u001b[1;34m(path, encoding)\u001b[0m\n\u001b[0;32m    165\u001b[0m                 \u001b[1;31m# We want to silencce any warnings about, e.g. moved modules.\u001b[0m\u001b[1;33m\u001b[0m\u001b[1;33m\u001b[0m\u001b[0m\n\u001b[1;32m--> 166\u001b[1;33m                 \u001b[1;32mreturn\u001b[0m \u001b[0mread_wrapper\u001b[0m\u001b[1;33m(\u001b[0m\u001b[1;32mlambda\u001b[0m \u001b[0mf\u001b[0m\u001b[1;33m:\u001b[0m \u001b[0mpkl\u001b[0m\u001b[1;33m.\u001b[0m\u001b[0mload\u001b[0m\u001b[1;33m(\u001b[0m\u001b[0mf\u001b[0m\u001b[1;33m)\u001b[0m\u001b[1;33m)\u001b[0m\u001b[1;33m\u001b[0m\u001b[0m\n\u001b[0m\u001b[0;32m    167\u001b[0m         \u001b[1;32mexcept\u001b[0m \u001b[0mException\u001b[0m\u001b[1;33m:\u001b[0m\u001b[1;33m\u001b[0m\u001b[0m\n",
      "\u001b[1;32mc:\\users\\cassi\\appdata\\local\\programs\\python\\python36-32\\lib\\site-packages\\pandas\\io\\pickle.py\u001b[0m in \u001b[0;36mread_wrapper\u001b[1;34m(func)\u001b[0m\n\u001b[0;32m    146\u001b[0m                             \u001b[0mcompression\u001b[0m\u001b[1;33m=\u001b[0m\u001b[0minferred_compression\u001b[0m\u001b[1;33m,\u001b[0m\u001b[1;33m\u001b[0m\u001b[0m\n\u001b[1;32m--> 147\u001b[1;33m                             is_text=False)\n\u001b[0m\u001b[0;32m    148\u001b[0m         \u001b[1;32mtry\u001b[0m\u001b[1;33m:\u001b[0m\u001b[1;33m\u001b[0m\u001b[0m\n",
      "\u001b[1;32mc:\\users\\cassi\\appdata\\local\\programs\\python\\python36-32\\lib\\site-packages\\pandas\\io\\common.py\u001b[0m in \u001b[0;36m_get_handle\u001b[1;34m(path_or_buf, mode, encoding, compression, memory_map, is_text)\u001b[0m\n\u001b[0;32m    405\u001b[0m             \u001b[1;31m# Python 3 and binary mode\u001b[0m\u001b[1;33m\u001b[0m\u001b[1;33m\u001b[0m\u001b[0m\n\u001b[1;32m--> 406\u001b[1;33m             \u001b[0mf\u001b[0m \u001b[1;33m=\u001b[0m \u001b[0mopen\u001b[0m\u001b[1;33m(\u001b[0m\u001b[0mpath_or_buf\u001b[0m\u001b[1;33m,\u001b[0m \u001b[0mmode\u001b[0m\u001b[1;33m)\u001b[0m\u001b[1;33m\u001b[0m\u001b[0m\n\u001b[0m\u001b[0;32m    407\u001b[0m         \u001b[0mhandles\u001b[0m\u001b[1;33m.\u001b[0m\u001b[0mappend\u001b[0m\u001b[1;33m(\u001b[0m\u001b[0mf\u001b[0m\u001b[1;33m)\u001b[0m\u001b[1;33m\u001b[0m\u001b[0m\n",
      "\u001b[1;31mFileNotFoundError\u001b[0m: [Errno 2] No such file or directory: 'C:\\\\Users\\\\cassi\\\\Desktop\\\\Data_Science\\\\Animated-Movie-Gendered-Dialogue\\\\privatę̨\\\\kfp_lines.pkl'",
      "\nDuring handling of the above exception, another exception occurred:\n",
      "\u001b[1;31mFileNotFoundError\u001b[0m                         Traceback (most recent call last)",
      "\u001b[1;32mc:\\users\\cassi\\appdata\\local\\programs\\python\\python36-32\\lib\\site-packages\\pandas\\io\\pickle.py\u001b[0m in \u001b[0;36mtry_read\u001b[1;34m(path, encoding)\u001b[0m\n\u001b[0;32m    170\u001b[0m                 return read_wrapper(\n\u001b[1;32m--> 171\u001b[1;33m                     lambda f: pc.load(f, encoding=encoding, compat=False))\n\u001b[0m\u001b[0;32m    172\u001b[0m             \u001b[1;31m# compat pickle\u001b[0m\u001b[1;33m\u001b[0m\u001b[1;33m\u001b[0m\u001b[0m\n",
      "\u001b[1;32mc:\\users\\cassi\\appdata\\local\\programs\\python\\python36-32\\lib\\site-packages\\pandas\\io\\pickle.py\u001b[0m in \u001b[0;36mread_wrapper\u001b[1;34m(func)\u001b[0m\n\u001b[0;32m    146\u001b[0m                             \u001b[0mcompression\u001b[0m\u001b[1;33m=\u001b[0m\u001b[0minferred_compression\u001b[0m\u001b[1;33m,\u001b[0m\u001b[1;33m\u001b[0m\u001b[0m\n\u001b[1;32m--> 147\u001b[1;33m                             is_text=False)\n\u001b[0m\u001b[0;32m    148\u001b[0m         \u001b[1;32mtry\u001b[0m\u001b[1;33m:\u001b[0m\u001b[1;33m\u001b[0m\u001b[0m\n",
      "\u001b[1;32mc:\\users\\cassi\\appdata\\local\\programs\\python\\python36-32\\lib\\site-packages\\pandas\\io\\common.py\u001b[0m in \u001b[0;36m_get_handle\u001b[1;34m(path_or_buf, mode, encoding, compression, memory_map, is_text)\u001b[0m\n\u001b[0;32m    405\u001b[0m             \u001b[1;31m# Python 3 and binary mode\u001b[0m\u001b[1;33m\u001b[0m\u001b[1;33m\u001b[0m\u001b[0m\n\u001b[1;32m--> 406\u001b[1;33m             \u001b[0mf\u001b[0m \u001b[1;33m=\u001b[0m \u001b[0mopen\u001b[0m\u001b[1;33m(\u001b[0m\u001b[0mpath_or_buf\u001b[0m\u001b[1;33m,\u001b[0m \u001b[0mmode\u001b[0m\u001b[1;33m)\u001b[0m\u001b[1;33m\u001b[0m\u001b[0m\n\u001b[0m\u001b[0;32m    407\u001b[0m         \u001b[0mhandles\u001b[0m\u001b[1;33m.\u001b[0m\u001b[0mappend\u001b[0m\u001b[1;33m(\u001b[0m\u001b[0mf\u001b[0m\u001b[1;33m)\u001b[0m\u001b[1;33m\u001b[0m\u001b[0m\n",
      "\u001b[1;31mFileNotFoundError\u001b[0m: [Errno 2] No such file or directory: 'C:\\\\Users\\\\cassi\\\\Desktop\\\\Data_Science\\\\Animated-Movie-Gendered-Dialogue\\\\privatę̨\\\\kfp_lines.pkl'",
      "\nDuring handling of the above exception, another exception occurred:\n",
      "\u001b[1;31mFileNotFoundError\u001b[0m                         Traceback (most recent call last)",
      "\u001b[1;32mc:\\users\\cassi\\appdata\\local\\programs\\python\\python36-32\\lib\\site-packages\\pandas\\io\\pickle.py\u001b[0m in \u001b[0;36mread_pickle\u001b[1;34m(path, compression)\u001b[0m\n\u001b[0;32m    176\u001b[0m     \u001b[1;32mtry\u001b[0m\u001b[1;33m:\u001b[0m\u001b[1;33m\u001b[0m\u001b[0m\n\u001b[1;32m--> 177\u001b[1;33m         \u001b[1;32mreturn\u001b[0m \u001b[0mtry_read\u001b[0m\u001b[1;33m(\u001b[0m\u001b[0mpath\u001b[0m\u001b[1;33m)\u001b[0m\u001b[1;33m\u001b[0m\u001b[0m\n\u001b[0m\u001b[0;32m    178\u001b[0m     \u001b[1;32mexcept\u001b[0m\u001b[1;33m:\u001b[0m\u001b[1;33m\u001b[0m\u001b[0m\n",
      "\u001b[1;32mc:\\users\\cassi\\appdata\\local\\programs\\python\\python36-32\\lib\\site-packages\\pandas\\io\\pickle.py\u001b[0m in \u001b[0;36mtry_read\u001b[1;34m(path, encoding)\u001b[0m\n\u001b[0;32m    174\u001b[0m                 return read_wrapper(\n\u001b[1;32m--> 175\u001b[1;33m                     lambda f: pc.load(f, encoding=encoding, compat=True))\n\u001b[0m\u001b[0;32m    176\u001b[0m     \u001b[1;32mtry\u001b[0m\u001b[1;33m:\u001b[0m\u001b[1;33m\u001b[0m\u001b[0m\n",
      "\u001b[1;32mc:\\users\\cassi\\appdata\\local\\programs\\python\\python36-32\\lib\\site-packages\\pandas\\io\\pickle.py\u001b[0m in \u001b[0;36mread_wrapper\u001b[1;34m(func)\u001b[0m\n\u001b[0;32m    146\u001b[0m                             \u001b[0mcompression\u001b[0m\u001b[1;33m=\u001b[0m\u001b[0minferred_compression\u001b[0m\u001b[1;33m,\u001b[0m\u001b[1;33m\u001b[0m\u001b[0m\n\u001b[1;32m--> 147\u001b[1;33m                             is_text=False)\n\u001b[0m\u001b[0;32m    148\u001b[0m         \u001b[1;32mtry\u001b[0m\u001b[1;33m:\u001b[0m\u001b[1;33m\u001b[0m\u001b[0m\n",
      "\u001b[1;32mc:\\users\\cassi\\appdata\\local\\programs\\python\\python36-32\\lib\\site-packages\\pandas\\io\\common.py\u001b[0m in \u001b[0;36m_get_handle\u001b[1;34m(path_or_buf, mode, encoding, compression, memory_map, is_text)\u001b[0m\n\u001b[0;32m    405\u001b[0m             \u001b[1;31m# Python 3 and binary mode\u001b[0m\u001b[1;33m\u001b[0m\u001b[1;33m\u001b[0m\u001b[0m\n\u001b[1;32m--> 406\u001b[1;33m             \u001b[0mf\u001b[0m \u001b[1;33m=\u001b[0m \u001b[0mopen\u001b[0m\u001b[1;33m(\u001b[0m\u001b[0mpath_or_buf\u001b[0m\u001b[1;33m,\u001b[0m \u001b[0mmode\u001b[0m\u001b[1;33m)\u001b[0m\u001b[1;33m\u001b[0m\u001b[0m\n\u001b[0m\u001b[0;32m    407\u001b[0m         \u001b[0mhandles\u001b[0m\u001b[1;33m.\u001b[0m\u001b[0mappend\u001b[0m\u001b[1;33m(\u001b[0m\u001b[0mf\u001b[0m\u001b[1;33m)\u001b[0m\u001b[1;33m\u001b[0m\u001b[0m\n",
      "\u001b[1;31mFileNotFoundError\u001b[0m: [Errno 2] No such file or directory: 'C:\\\\Users\\\\cassi\\\\Desktop\\\\Data_Science\\\\Animated-Movie-Gendered-Dialogue\\\\privatę̨\\\\kfp_lines.pkl'",
      "\nDuring handling of the above exception, another exception occurred:\n",
      "\u001b[1;31mFileNotFoundError\u001b[0m                         Traceback (most recent call last)",
      "\u001b[1;32mc:\\users\\cassi\\appdata\\local\\programs\\python\\python36-32\\lib\\site-packages\\pandas\\io\\pickle.py\u001b[0m in \u001b[0;36mtry_read\u001b[1;34m(path, encoding)\u001b[0m\n\u001b[0;32m    165\u001b[0m                 \u001b[1;31m# We want to silencce any warnings about, e.g. moved modules.\u001b[0m\u001b[1;33m\u001b[0m\u001b[1;33m\u001b[0m\u001b[0m\n\u001b[1;32m--> 166\u001b[1;33m                 \u001b[1;32mreturn\u001b[0m \u001b[0mread_wrapper\u001b[0m\u001b[1;33m(\u001b[0m\u001b[1;32mlambda\u001b[0m \u001b[0mf\u001b[0m\u001b[1;33m:\u001b[0m \u001b[0mpkl\u001b[0m\u001b[1;33m.\u001b[0m\u001b[0mload\u001b[0m\u001b[1;33m(\u001b[0m\u001b[0mf\u001b[0m\u001b[1;33m)\u001b[0m\u001b[1;33m)\u001b[0m\u001b[1;33m\u001b[0m\u001b[0m\n\u001b[0m\u001b[0;32m    167\u001b[0m         \u001b[1;32mexcept\u001b[0m \u001b[0mException\u001b[0m\u001b[1;33m:\u001b[0m\u001b[1;33m\u001b[0m\u001b[0m\n",
      "\u001b[1;32mc:\\users\\cassi\\appdata\\local\\programs\\python\\python36-32\\lib\\site-packages\\pandas\\io\\pickle.py\u001b[0m in \u001b[0;36mread_wrapper\u001b[1;34m(func)\u001b[0m\n\u001b[0;32m    146\u001b[0m                             \u001b[0mcompression\u001b[0m\u001b[1;33m=\u001b[0m\u001b[0minferred_compression\u001b[0m\u001b[1;33m,\u001b[0m\u001b[1;33m\u001b[0m\u001b[0m\n\u001b[1;32m--> 147\u001b[1;33m                             is_text=False)\n\u001b[0m\u001b[0;32m    148\u001b[0m         \u001b[1;32mtry\u001b[0m\u001b[1;33m:\u001b[0m\u001b[1;33m\u001b[0m\u001b[0m\n",
      "\u001b[1;32mc:\\users\\cassi\\appdata\\local\\programs\\python\\python36-32\\lib\\site-packages\\pandas\\io\\common.py\u001b[0m in \u001b[0;36m_get_handle\u001b[1;34m(path_or_buf, mode, encoding, compression, memory_map, is_text)\u001b[0m\n\u001b[0;32m    405\u001b[0m             \u001b[1;31m# Python 3 and binary mode\u001b[0m\u001b[1;33m\u001b[0m\u001b[1;33m\u001b[0m\u001b[0m\n\u001b[1;32m--> 406\u001b[1;33m             \u001b[0mf\u001b[0m \u001b[1;33m=\u001b[0m \u001b[0mopen\u001b[0m\u001b[1;33m(\u001b[0m\u001b[0mpath_or_buf\u001b[0m\u001b[1;33m,\u001b[0m \u001b[0mmode\u001b[0m\u001b[1;33m)\u001b[0m\u001b[1;33m\u001b[0m\u001b[0m\n\u001b[0m\u001b[0;32m    407\u001b[0m         \u001b[0mhandles\u001b[0m\u001b[1;33m.\u001b[0m\u001b[0mappend\u001b[0m\u001b[1;33m(\u001b[0m\u001b[0mf\u001b[0m\u001b[1;33m)\u001b[0m\u001b[1;33m\u001b[0m\u001b[0m\n",
      "\u001b[1;31mFileNotFoundError\u001b[0m: [Errno 2] No such file or directory: 'C:\\\\Users\\\\cassi\\\\Desktop\\\\Data_Science\\\\Animated-Movie-Gendered-Dialogue\\\\privatę̨\\\\kfp_lines.pkl'",
      "\nDuring handling of the above exception, another exception occurred:\n",
      "\u001b[1;31mFileNotFoundError\u001b[0m                         Traceback (most recent call last)",
      "\u001b[1;32mc:\\users\\cassi\\appdata\\local\\programs\\python\\python36-32\\lib\\site-packages\\pandas\\io\\pickle.py\u001b[0m in \u001b[0;36mtry_read\u001b[1;34m(path, encoding)\u001b[0m\n\u001b[0;32m    170\u001b[0m                 return read_wrapper(\n\u001b[1;32m--> 171\u001b[1;33m                     lambda f: pc.load(f, encoding=encoding, compat=False))\n\u001b[0m\u001b[0;32m    172\u001b[0m             \u001b[1;31m# compat pickle\u001b[0m\u001b[1;33m\u001b[0m\u001b[1;33m\u001b[0m\u001b[0m\n",
      "\u001b[1;32mc:\\users\\cassi\\appdata\\local\\programs\\python\\python36-32\\lib\\site-packages\\pandas\\io\\pickle.py\u001b[0m in \u001b[0;36mread_wrapper\u001b[1;34m(func)\u001b[0m\n\u001b[0;32m    146\u001b[0m                             \u001b[0mcompression\u001b[0m\u001b[1;33m=\u001b[0m\u001b[0minferred_compression\u001b[0m\u001b[1;33m,\u001b[0m\u001b[1;33m\u001b[0m\u001b[0m\n\u001b[1;32m--> 147\u001b[1;33m                             is_text=False)\n\u001b[0m\u001b[0;32m    148\u001b[0m         \u001b[1;32mtry\u001b[0m\u001b[1;33m:\u001b[0m\u001b[1;33m\u001b[0m\u001b[0m\n",
      "\u001b[1;32mc:\\users\\cassi\\appdata\\local\\programs\\python\\python36-32\\lib\\site-packages\\pandas\\io\\common.py\u001b[0m in \u001b[0;36m_get_handle\u001b[1;34m(path_or_buf, mode, encoding, compression, memory_map, is_text)\u001b[0m\n\u001b[0;32m    405\u001b[0m             \u001b[1;31m# Python 3 and binary mode\u001b[0m\u001b[1;33m\u001b[0m\u001b[1;33m\u001b[0m\u001b[0m\n\u001b[1;32m--> 406\u001b[1;33m             \u001b[0mf\u001b[0m \u001b[1;33m=\u001b[0m \u001b[0mopen\u001b[0m\u001b[1;33m(\u001b[0m\u001b[0mpath_or_buf\u001b[0m\u001b[1;33m,\u001b[0m \u001b[0mmode\u001b[0m\u001b[1;33m)\u001b[0m\u001b[1;33m\u001b[0m\u001b[0m\n\u001b[0m\u001b[0;32m    407\u001b[0m         \u001b[0mhandles\u001b[0m\u001b[1;33m.\u001b[0m\u001b[0mappend\u001b[0m\u001b[1;33m(\u001b[0m\u001b[0mf\u001b[0m\u001b[1;33m)\u001b[0m\u001b[1;33m\u001b[0m\u001b[0m\n",
      "\u001b[1;31mFileNotFoundError\u001b[0m: [Errno 2] No such file or directory: 'C:\\\\Users\\\\cassi\\\\Desktop\\\\Data_Science\\\\Animated-Movie-Gendered-Dialogue\\\\privatę̨\\\\kfp_lines.pkl'",
      "\nDuring handling of the above exception, another exception occurred:\n",
      "\u001b[1;31mFileNotFoundError\u001b[0m                         Traceback (most recent call last)",
      "\u001b[1;32m<ipython-input-124-0ea6eece470b>\u001b[0m in \u001b[0;36m<module>\u001b[1;34m\u001b[0m\n\u001b[1;32m----> 1\u001b[1;33m \u001b[0mkfp_df\u001b[0m \u001b[1;33m=\u001b[0m \u001b[0mpd\u001b[0m\u001b[1;33m.\u001b[0m\u001b[0mread_pickle\u001b[0m\u001b[1;33m(\u001b[0m\u001b[1;34mr\"C:\\Users\\cassi\\Desktop\\Data_Science\\Animated-Movie-Gendered-Dialogue\\privatę̨\\kfp_lines.pkl\"\u001b[0m\u001b[1;33m)\u001b[0m\u001b[1;33m\u001b[0m\u001b[0m\n\u001b[0m",
      "\u001b[1;32mc:\\users\\cassi\\appdata\\local\\programs\\python\\python36-32\\lib\\site-packages\\pandas\\io\\pickle.py\u001b[0m in \u001b[0;36mread_pickle\u001b[1;34m(path, compression)\u001b[0m\n\u001b[0;32m    178\u001b[0m     \u001b[1;32mexcept\u001b[0m\u001b[1;33m:\u001b[0m\u001b[1;33m\u001b[0m\u001b[0m\n\u001b[0;32m    179\u001b[0m         \u001b[1;32mif\u001b[0m \u001b[0mPY3\u001b[0m\u001b[1;33m:\u001b[0m\u001b[1;33m\u001b[0m\u001b[0m\n\u001b[1;32m--> 180\u001b[1;33m             \u001b[1;32mreturn\u001b[0m \u001b[0mtry_read\u001b[0m\u001b[1;33m(\u001b[0m\u001b[0mpath\u001b[0m\u001b[1;33m,\u001b[0m \u001b[0mencoding\u001b[0m\u001b[1;33m=\u001b[0m\u001b[1;34m'latin1'\u001b[0m\u001b[1;33m)\u001b[0m\u001b[1;33m\u001b[0m\u001b[0m\n\u001b[0m\u001b[0;32m    181\u001b[0m         \u001b[1;32mraise\u001b[0m\u001b[1;33m\u001b[0m\u001b[0m\n\u001b[0;32m    182\u001b[0m \u001b[1;33m\u001b[0m\u001b[0m\n",
      "\u001b[1;32mc:\\users\\cassi\\appdata\\local\\programs\\python\\python36-32\\lib\\site-packages\\pandas\\io\\pickle.py\u001b[0m in \u001b[0;36mtry_read\u001b[1;34m(path, encoding)\u001b[0m\n\u001b[0;32m    173\u001b[0m             \u001b[1;32mexcept\u001b[0m\u001b[1;33m:\u001b[0m\u001b[1;33m\u001b[0m\u001b[0m\n\u001b[0;32m    174\u001b[0m                 return read_wrapper(\n\u001b[1;32m--> 175\u001b[1;33m                     lambda f: pc.load(f, encoding=encoding, compat=True))\n\u001b[0m\u001b[0;32m    176\u001b[0m     \u001b[1;32mtry\u001b[0m\u001b[1;33m:\u001b[0m\u001b[1;33m\u001b[0m\u001b[0m\n\u001b[0;32m    177\u001b[0m         \u001b[1;32mreturn\u001b[0m \u001b[0mtry_read\u001b[0m\u001b[1;33m(\u001b[0m\u001b[0mpath\u001b[0m\u001b[1;33m)\u001b[0m\u001b[1;33m\u001b[0m\u001b[0m\n",
      "\u001b[1;32mc:\\users\\cassi\\appdata\\local\\programs\\python\\python36-32\\lib\\site-packages\\pandas\\io\\pickle.py\u001b[0m in \u001b[0;36mread_wrapper\u001b[1;34m(func)\u001b[0m\n\u001b[0;32m    145\u001b[0m         f, fh = _get_handle(path, 'rb',\n\u001b[0;32m    146\u001b[0m                             \u001b[0mcompression\u001b[0m\u001b[1;33m=\u001b[0m\u001b[0minferred_compression\u001b[0m\u001b[1;33m,\u001b[0m\u001b[1;33m\u001b[0m\u001b[0m\n\u001b[1;32m--> 147\u001b[1;33m                             is_text=False)\n\u001b[0m\u001b[0;32m    148\u001b[0m         \u001b[1;32mtry\u001b[0m\u001b[1;33m:\u001b[0m\u001b[1;33m\u001b[0m\u001b[0m\n\u001b[0;32m    149\u001b[0m             \u001b[1;32mreturn\u001b[0m \u001b[0mfunc\u001b[0m\u001b[1;33m(\u001b[0m\u001b[0mf\u001b[0m\u001b[1;33m)\u001b[0m\u001b[1;33m\u001b[0m\u001b[0m\n",
      "\u001b[1;32mc:\\users\\cassi\\appdata\\local\\programs\\python\\python36-32\\lib\\site-packages\\pandas\\io\\common.py\u001b[0m in \u001b[0;36m_get_handle\u001b[1;34m(path_or_buf, mode, encoding, compression, memory_map, is_text)\u001b[0m\n\u001b[0;32m    404\u001b[0m         \u001b[1;32melse\u001b[0m\u001b[1;33m:\u001b[0m\u001b[1;33m\u001b[0m\u001b[0m\n\u001b[0;32m    405\u001b[0m             \u001b[1;31m# Python 3 and binary mode\u001b[0m\u001b[1;33m\u001b[0m\u001b[1;33m\u001b[0m\u001b[0m\n\u001b[1;32m--> 406\u001b[1;33m             \u001b[0mf\u001b[0m \u001b[1;33m=\u001b[0m \u001b[0mopen\u001b[0m\u001b[1;33m(\u001b[0m\u001b[0mpath_or_buf\u001b[0m\u001b[1;33m,\u001b[0m \u001b[0mmode\u001b[0m\u001b[1;33m)\u001b[0m\u001b[1;33m\u001b[0m\u001b[0m\n\u001b[0m\u001b[0;32m    407\u001b[0m         \u001b[0mhandles\u001b[0m\u001b[1;33m.\u001b[0m\u001b[0mappend\u001b[0m\u001b[1;33m(\u001b[0m\u001b[0mf\u001b[0m\u001b[1;33m)\u001b[0m\u001b[1;33m\u001b[0m\u001b[0m\n\u001b[0;32m    408\u001b[0m \u001b[1;33m\u001b[0m\u001b[0m\n",
      "\u001b[1;31mFileNotFoundError\u001b[0m: [Errno 2] No such file or directory: 'C:\\\\Users\\\\cassi\\\\Desktop\\\\Data_Science\\\\Animated-Movie-Gendered-Dialogue\\\\privatę̨\\\\kfp_lines.pkl'"
     ]
    }
   ],
   "source": [
    "kfp_df = pd.read_pickle(r\"C:\\Users\\cassi\\Desktop\\Data_Science\\Animated-Movie-Gendered-Dialogue\\privatę̨\\kfp_lines.pkl\")"
   ]
  },
  {
   "cell_type": "code",
   "execution_count": 125,
   "metadata": {},
   "outputs": [],
   "source": [
    "#Hmmm, my pickle file isn't being read in....\n",
    "kfp_df = pd.read_csv(r\"C:\\Users\\cassi\\Desktop\\Data_Science\\Animated-Movie-Gendered-Dialogue\\private\\kfp_lines.csv\")"
   ]
  },
  {
   "cell_type": "code",
   "execution_count": 126,
   "metadata": {},
   "outputs": [
    {
     "data": {
      "text/html": [
       "<div>\n",
       "<style scoped>\n",
       "    .dataframe tbody tr th:only-of-type {\n",
       "        vertical-align: middle;\n",
       "    }\n",
       "\n",
       "    .dataframe tbody tr th {\n",
       "        vertical-align: top;\n",
       "    }\n",
       "\n",
       "    .dataframe thead th {\n",
       "        text-align: right;\n",
       "    }\n",
       "</style>\n",
       "<table border=\"1\" class=\"dataframe\">\n",
       "  <thead>\n",
       "    <tr style=\"text-align: right;\">\n",
       "      <th></th>\n",
       "      <th>Unnamed: 0</th>\n",
       "      <th>Speaker</th>\n",
       "      <th>Text</th>\n",
       "    </tr>\n",
       "  </thead>\n",
       "  <tbody>\n",
       "    <tr>\n",
       "      <th>0</th>\n",
       "      <td>0</td>\n",
       "      <td>narrator</td>\n",
       "      <td>legend tells of a legendary warrior whose kung...</td>\n",
       "    </tr>\n",
       "    <tr>\n",
       "      <th>1</th>\n",
       "      <td>1</td>\n",
       "      <td>narrator</td>\n",
       "      <td>he traveled the land in search of worthy foes.</td>\n",
       "    </tr>\n",
       "    <tr>\n",
       "      <th>2</th>\n",
       "      <td>2</td>\n",
       "      <td>gang boss</td>\n",
       "      <td>i see you like to chew! maybe you should chew ...</td>\n",
       "    </tr>\n",
       "    <tr>\n",
       "      <th>3</th>\n",
       "      <td>3</td>\n",
       "      <td>narrator</td>\n",
       "      <td>the warrior said nothing for his mouth was ful...</td>\n",
       "    </tr>\n",
       "    <tr>\n",
       "      <th>4</th>\n",
       "      <td>4</td>\n",
       "      <td>narrator</td>\n",
       "      <td>and then, he spoke.</td>\n",
       "    </tr>\n",
       "  </tbody>\n",
       "</table>\n",
       "</div>"
      ],
      "text/plain": [
       "   Unnamed: 0    Speaker                                               Text\n",
       "0           0   narrator  legend tells of a legendary warrior whose kung...\n",
       "1           1   narrator     he traveled the land in search of worthy foes.\n",
       "2           2  gang boss  i see you like to chew! maybe you should chew ...\n",
       "3           3   narrator  the warrior said nothing for his mouth was ful...\n",
       "4           4   narrator                                and then, he spoke."
      ]
     },
     "execution_count": 126,
     "metadata": {},
     "output_type": "execute_result"
    }
   ],
   "source": [
    "kfp_df.head()"
   ]
  },
  {
   "cell_type": "code",
   "execution_count": 127,
   "metadata": {},
   "outputs": [],
   "source": [
    "kfp_df.drop(columns=\"Unnamed: 0\", inplace=True)"
   ]
  },
  {
   "cell_type": "code",
   "execution_count": 128,
   "metadata": {},
   "outputs": [
    {
     "data": {
      "text/html": [
       "<div>\n",
       "<style scoped>\n",
       "    .dataframe tbody tr th:only-of-type {\n",
       "        vertical-align: middle;\n",
       "    }\n",
       "\n",
       "    .dataframe tbody tr th {\n",
       "        vertical-align: top;\n",
       "    }\n",
       "\n",
       "    .dataframe thead th {\n",
       "        text-align: right;\n",
       "    }\n",
       "</style>\n",
       "<table border=\"1\" class=\"dataframe\">\n",
       "  <thead>\n",
       "    <tr style=\"text-align: right;\">\n",
       "      <th></th>\n",
       "      <th>Speaker</th>\n",
       "      <th>Text</th>\n",
       "    </tr>\n",
       "  </thead>\n",
       "  <tbody>\n",
       "    <tr>\n",
       "      <th>0</th>\n",
       "      <td>narrator</td>\n",
       "      <td>legend tells of a legendary warrior whose kung...</td>\n",
       "    </tr>\n",
       "    <tr>\n",
       "      <th>1</th>\n",
       "      <td>narrator</td>\n",
       "      <td>he traveled the land in search of worthy foes.</td>\n",
       "    </tr>\n",
       "    <tr>\n",
       "      <th>2</th>\n",
       "      <td>gang boss</td>\n",
       "      <td>i see you like to chew! maybe you should chew ...</td>\n",
       "    </tr>\n",
       "    <tr>\n",
       "      <th>3</th>\n",
       "      <td>narrator</td>\n",
       "      <td>the warrior said nothing for his mouth was ful...</td>\n",
       "    </tr>\n",
       "    <tr>\n",
       "      <th>4</th>\n",
       "      <td>narrator</td>\n",
       "      <td>and then, he spoke.</td>\n",
       "    </tr>\n",
       "  </tbody>\n",
       "</table>\n",
       "</div>"
      ],
      "text/plain": [
       "     Speaker                                               Text\n",
       "0   narrator  legend tells of a legendary warrior whose kung...\n",
       "1   narrator     he traveled the land in search of worthy foes.\n",
       "2  gang boss  i see you like to chew! maybe you should chew ...\n",
       "3   narrator  the warrior said nothing for his mouth was ful...\n",
       "4   narrator                                and then, he spoke."
      ]
     },
     "execution_count": 128,
     "metadata": {},
     "output_type": "execute_result"
    }
   ],
   "source": [
    "kfp_df.head()"
   ]
  },
  {
   "cell_type": "code",
   "execution_count": 129,
   "metadata": {},
   "outputs": [
    {
     "name": "stdout",
     "output_type": "stream",
     "text": [
      "<class 'pandas.core.frame.DataFrame'>\n",
      "RangeIndex: 689 entries, 0 to 688\n",
      "Data columns (total 2 columns):\n",
      "Speaker    689 non-null object\n",
      "Text       689 non-null object\n",
      "dtypes: object(2)\n",
      "memory usage: 5.4+ KB\n"
     ]
    }
   ],
   "source": [
    "kfp_df.info()"
   ]
  },
  {
   "cell_type": "markdown",
   "metadata": {},
   "source": [
    "### Gender"
   ]
  },
  {
   "cell_type": "code",
   "execution_count": 130,
   "metadata": {},
   "outputs": [
    {
     "data": {
      "text/plain": [
       "['angry patron', 'announcer', 'bunny fan #1', 'bunny fan #2', 'commander', 'crane', 'crowd', 'disgusted patron', 'furious five', 'gang boss', 'gator', 'grateful bunny', 'jr shaw', 'kg shaw', 'mantis', 'monkey', 'narrator', 'ninja cat', 'oogway', 'pig fan', 'po', \"po's dad\", 'rhino guard #1', 'shifu', 'smitten bunny', 'tai lung', 'tigress', 'viper', 'warrior', 'zeng']"
      ]
     },
     "execution_count": 130,
     "metadata": {},
     "output_type": "execute_result"
    }
   ],
   "source": [
    "sorted(kfp_df.Speaker.unique())"
   ]
  },
  {
   "cell_type": "code",
   "execution_count": 131,
   "metadata": {},
   "outputs": [],
   "source": [
    "kfp_female = ['bunny fan #1', 'bunny fan #2', 'smitten bunny', 'tigress', 'viper', 'ninja cat']\n",
    "kfp_male = ['commander', 'crane', 'gang boss', 'gator', 'grateful bunny', 'jr shaw', 'kg shaw', 'mantis', 'monkey', 'oogway', 'po', \"po's dad\",\n",
    "            'rhino guard #1', 'shifu', 'tai lung','zeng']"
   ]
  },
  {
   "cell_type": "code",
   "execution_count": 132,
   "metadata": {},
   "outputs": [],
   "source": [
    "gender_func = partial(whichgen, female = kfp_female, male= kfp_male)\n",
    "kfp_df[\"Gender\"] = kfp_df.Speaker.map(gender_func)"
   ]
  },
  {
   "cell_type": "markdown",
   "metadata": {},
   "source": [
    "### Role"
   ]
  },
  {
   "cell_type": "code",
   "execution_count": 133,
   "metadata": {},
   "outputs": [],
   "source": [
    "kfp_pro = ['po']\n",
    "kfp_ant = ['tai lung']\n",
    "kfp_helper = ['oogway', 'shifu', 'crane', 'furious five', 'mantis', 'monkey', 'tigress', 'viper']"
   ]
  },
  {
   "cell_type": "code",
   "execution_count": 134,
   "metadata": {},
   "outputs": [],
   "source": [
    "role_func = partial(whichrole, pro = kfp_pro, ant=kfp_ant, helper = kfp_helper)\n",
    "kfp_df[\"Role\"] = kfp_df.Speaker.map(role_func)"
   ]
  },
  {
   "cell_type": "markdown",
   "metadata": {},
   "source": [
    "### Status/Song/Movie/Year/Utterance number"
   ]
  },
  {
   "cell_type": "code",
   "execution_count": 135,
   "metadata": {},
   "outputs": [],
   "source": [
    "kfp_df['Speaker_Status'] = 'NON-P'\n",
    "kfp_df['Song'] = 'D'\n",
    "kfp_df['Movie'] = 'Kung Fu Panda'\n",
    "kfp_df['Year'] = 2008\n",
    "kfp_df['UTTERANCE_NUMBER'] = kfp_df.Text.index + 1"
   ]
  },
  {
   "cell_type": "code",
   "execution_count": 136,
   "metadata": {},
   "outputs": [
    {
     "name": "stdout",
     "output_type": "stream",
     "text": [
      "<class 'pandas.core.frame.DataFrame'>\n",
      "RangeIndex: 689 entries, 0 to 688\n",
      "Data columns (total 9 columns):\n",
      "Speaker             689 non-null object\n",
      "Text                689 non-null object\n",
      "Gender              689 non-null object\n",
      "Role                689 non-null object\n",
      "Speaker_Status      689 non-null object\n",
      "Song                689 non-null object\n",
      "Movie               689 non-null object\n",
      "Year                689 non-null int64\n",
      "UTTERANCE_NUMBER    689 non-null int64\n",
      "dtypes: int64(2), object(7)\n",
      "memory usage: 29.6+ KB\n"
     ]
    }
   ],
   "source": [
    "kfp_df.info()"
   ]
  },
  {
   "cell_type": "code",
   "execution_count": 137,
   "metadata": {},
   "outputs": [
    {
     "data": {
      "text/html": [
       "<div>\n",
       "<style scoped>\n",
       "    .dataframe tbody tr th:only-of-type {\n",
       "        vertical-align: middle;\n",
       "    }\n",
       "\n",
       "    .dataframe tbody tr th {\n",
       "        vertical-align: top;\n",
       "    }\n",
       "\n",
       "    .dataframe thead th {\n",
       "        text-align: right;\n",
       "    }\n",
       "</style>\n",
       "<table border=\"1\" class=\"dataframe\">\n",
       "  <thead>\n",
       "    <tr style=\"text-align: right;\">\n",
       "      <th></th>\n",
       "      <th>Speaker</th>\n",
       "      <th>Text</th>\n",
       "      <th>Gender</th>\n",
       "      <th>Role</th>\n",
       "      <th>Speaker_Status</th>\n",
       "      <th>Song</th>\n",
       "      <th>Movie</th>\n",
       "      <th>Year</th>\n",
       "      <th>UTTERANCE_NUMBER</th>\n",
       "    </tr>\n",
       "  </thead>\n",
       "  <tbody>\n",
       "    <tr>\n",
       "      <th>269</th>\n",
       "      <td>crane</td>\n",
       "      <td>he is so mighty! the dragon warrior fell out o...</td>\n",
       "      <td>m</td>\n",
       "      <td>HELPER</td>\n",
       "      <td>NON-P</td>\n",
       "      <td>D</td>\n",
       "      <td>Kung Fu Panda</td>\n",
       "      <td>2008</td>\n",
       "      <td>270</td>\n",
       "    </tr>\n",
       "    <tr>\n",
       "      <th>160</th>\n",
       "      <td>shifu</td>\n",
       "      <td>master oogway, wait! that flabby panda can't p...</td>\n",
       "      <td>m</td>\n",
       "      <td>HELPER</td>\n",
       "      <td>NON-P</td>\n",
       "      <td>D</td>\n",
       "      <td>Kung Fu Panda</td>\n",
       "      <td>2008</td>\n",
       "      <td>161</td>\n",
       "    </tr>\n",
       "    <tr>\n",
       "      <th>177</th>\n",
       "      <td>zeng</td>\n",
       "      <td>oh my...</td>\n",
       "      <td>m</td>\n",
       "      <td>N</td>\n",
       "      <td>NON-P</td>\n",
       "      <td>D</td>\n",
       "      <td>Kung Fu Panda</td>\n",
       "      <td>2008</td>\n",
       "      <td>178</td>\n",
       "    </tr>\n",
       "    <tr>\n",
       "      <th>294</th>\n",
       "      <td>po</td>\n",
       "      <td>okay. alright. goodnight. sleep well.</td>\n",
       "      <td>m</td>\n",
       "      <td>PRO</td>\n",
       "      <td>NON-P</td>\n",
       "      <td>D</td>\n",
       "      <td>Kung Fu Panda</td>\n",
       "      <td>2008</td>\n",
       "      <td>295</td>\n",
       "    </tr>\n",
       "    <tr>\n",
       "      <th>667</th>\n",
       "      <td>po</td>\n",
       "      <td>oh, you know this hold?</td>\n",
       "      <td>m</td>\n",
       "      <td>PRO</td>\n",
       "      <td>NON-P</td>\n",
       "      <td>D</td>\n",
       "      <td>Kung Fu Panda</td>\n",
       "      <td>2008</td>\n",
       "      <td>668</td>\n",
       "    </tr>\n",
       "  </tbody>\n",
       "</table>\n",
       "</div>"
      ],
      "text/plain": [
       "    Speaker                                               Text Gender    Role  \\\n",
       "269   crane  he is so mighty! the dragon warrior fell out o...      m  HELPER   \n",
       "160   shifu  master oogway, wait! that flabby panda can't p...      m  HELPER   \n",
       "177    zeng                                           oh my...      m       N   \n",
       "294      po              okay. alright. goodnight. sleep well.      m     PRO   \n",
       "667      po                            oh, you know this hold?      m     PRO   \n",
       "\n",
       "    Speaker_Status Song          Movie  Year  UTTERANCE_NUMBER  \n",
       "269          NON-P    D  Kung Fu Panda  2008               270  \n",
       "160          NON-P    D  Kung Fu Panda  2008               161  \n",
       "177          NON-P    D  Kung Fu Panda  2008               178  \n",
       "294          NON-P    D  Kung Fu Panda  2008               295  \n",
       "667          NON-P    D  Kung Fu Panda  2008               668  "
      ]
     },
     "execution_count": 137,
     "metadata": {},
     "output_type": "execute_result"
    }
   ],
   "source": [
    "kfp_df.sample(5)"
   ]
  },
  {
   "cell_type": "markdown",
   "metadata": {},
   "source": [
    "## Megamind"
   ]
  },
  {
   "cell_type": "code",
   "execution_count": 138,
   "metadata": {},
   "outputs": [],
   "source": [
    "mega_df = pd.read_pickle(r\"C:/Users/cassi/Desktop/Data_Science/Animated-Movie-Gendered-Dialogue/private/megamind_lines.pkl\")"
   ]
  },
  {
   "cell_type": "code",
   "execution_count": 139,
   "metadata": {},
   "outputs": [
    {
     "name": "stdout",
     "output_type": "stream",
     "text": [
      "<class 'pandas.core.frame.DataFrame'>\n",
      "RangeIndex: 617 entries, 0 to 616\n",
      "Data columns (total 2 columns):\n",
      "Speaker    617 non-null object\n",
      "Text       617 non-null object\n",
      "dtypes: object(2)\n",
      "memory usage: 4.9+ KB\n"
     ]
    }
   ],
   "source": [
    "mega_df.info()"
   ]
  },
  {
   "cell_type": "code",
   "execution_count": 140,
   "metadata": {},
   "outputs": [
    {
     "data": {
      "text/html": [
       "<div>\n",
       "<style scoped>\n",
       "    .dataframe tbody tr th:only-of-type {\n",
       "        vertical-align: middle;\n",
       "    }\n",
       "\n",
       "    .dataframe tbody tr th {\n",
       "        vertical-align: top;\n",
       "    }\n",
       "\n",
       "    .dataframe thead th {\n",
       "        text-align: right;\n",
       "    }\n",
       "</style>\n",
       "<table border=\"1\" class=\"dataframe\">\n",
       "  <thead>\n",
       "    <tr style=\"text-align: right;\">\n",
       "      <th></th>\n",
       "      <th>Speaker</th>\n",
       "      <th>Text</th>\n",
       "    </tr>\n",
       "  </thead>\n",
       "  <tbody>\n",
       "    <tr>\n",
       "      <th>0</th>\n",
       "      <td>megamind</td>\n",
       "      <td>here’s my day so far; went to jail, lost the g...</td>\n",
       "    </tr>\n",
       "    <tr>\n",
       "      <th>1</th>\n",
       "      <td>megamind’s mother</td>\n",
       "      <td>here is your minion, he will take care of you.</td>\n",
       "    </tr>\n",
       "    <tr>\n",
       "      <th>2</th>\n",
       "      <td>megamind’s father</td>\n",
       "      <td>and here is you binky.</td>\n",
       "    </tr>\n",
       "    <tr>\n",
       "      <th>3</th>\n",
       "      <td>megamind’s father</td>\n",
       "      <td>you are destined….</td>\n",
       "    </tr>\n",
       "    <tr>\n",
       "      <th>4</th>\n",
       "      <td>megamind</td>\n",
       "      <td>i didn’t quite here that last part, but it sou...</td>\n",
       "    </tr>\n",
       "  </tbody>\n",
       "</table>\n",
       "</div>"
      ],
      "text/plain": [
       "             Speaker                                               Text\n",
       "0           megamind  here’s my day so far; went to jail, lost the g...\n",
       "1  megamind’s mother     here is your minion, he will take care of you.\n",
       "2  megamind’s father                             and here is you binky.\n",
       "3  megamind’s father                                 you are destined….\n",
       "4           megamind  i didn’t quite here that last part, but it sou..."
      ]
     },
     "execution_count": 140,
     "metadata": {},
     "output_type": "execute_result"
    }
   ],
   "source": [
    "mega_df.head()"
   ]
  },
  {
   "cell_type": "markdown",
   "metadata": {},
   "source": [
    "### Gender"
   ]
  },
  {
   "cell_type": "code",
   "execution_count": 141,
   "metadata": {},
   "outputs": [
    {
     "data": {
      "text/plain": [
       "['bernard', 'hal', 'lady scott', 'lord scott', 'mayor', 'megamind', 'megamind’s father', 'megamind’s mother', 'metro man', 'minion', 'prisoner', 'roxanne ritchie', 'voice from crowd', 'warden']"
      ]
     },
     "execution_count": 141,
     "metadata": {},
     "output_type": "execute_result"
    }
   ],
   "source": [
    "sorted(mega_df.Speaker.unique())"
   ]
  },
  {
   "cell_type": "code",
   "execution_count": 142,
   "metadata": {},
   "outputs": [],
   "source": [
    "mega_female = ['lady scott', \"megamind's mother\", 'roxanne ritchie']\n",
    "mega_male = ['bernard', 'hal', 'lord scott', 'mayor', 'megamind', \"megamind's father\", 'metro man', 'minion',\n",
    "            'prisoner', 'warden']"
   ]
  },
  {
   "cell_type": "code",
   "execution_count": 143,
   "metadata": {},
   "outputs": [],
   "source": [
    "gender_func = partial(whichgen, female = mega_female, male= mega_male)\n",
    "mega_df[\"Gender\"] = mega_df.Speaker.map(gender_func)"
   ]
  },
  {
   "cell_type": "markdown",
   "metadata": {},
   "source": [
    "### Role\n",
    "So...this one is interesting. The protagonist of the story is a villain. The hero metro man isn't exactly an antagonist, just a washed up super hero."
   ]
  },
  {
   "cell_type": "code",
   "execution_count": 144,
   "metadata": {},
   "outputs": [],
   "source": [
    "mega_pro = ['megamind']\n",
    "mega_ant = ['hal']\n",
    "mega_helper = ['roxanee ritchie', 'minion']"
   ]
  },
  {
   "cell_type": "code",
   "execution_count": 145,
   "metadata": {},
   "outputs": [],
   "source": [
    "role_func = partial(whichrole, pro = mega_pro, ant=mega_ant, helper = mega_helper)\n",
    "mega_df[\"Role\"] = mega_df.Speaker.map(role_func)"
   ]
  },
  {
   "cell_type": "markdown",
   "metadata": {},
   "source": [
    "### Status/Song/Movie/Year/Utterance Number"
   ]
  },
  {
   "cell_type": "code",
   "execution_count": 146,
   "metadata": {},
   "outputs": [],
   "source": [
    "mega_df['Speaker_Status'] = 'NON-P'\n",
    "mega_df['Song'] = 'D'\n",
    "mega_df['Movie'] = 'Megamind'\n",
    "mega_df['Year'] = 2010\n",
    "mega_df['UTTERANCE_NUMBER'] = mega_df.Text.index + 1"
   ]
  },
  {
   "cell_type": "code",
   "execution_count": 147,
   "metadata": {},
   "outputs": [
    {
     "name": "stdout",
     "output_type": "stream",
     "text": [
      "<class 'pandas.core.frame.DataFrame'>\n",
      "RangeIndex: 617 entries, 0 to 616\n",
      "Data columns (total 9 columns):\n",
      "Speaker             617 non-null object\n",
      "Text                617 non-null object\n",
      "Gender              617 non-null object\n",
      "Role                617 non-null object\n",
      "Speaker_Status      617 non-null object\n",
      "Song                617 non-null object\n",
      "Movie               617 non-null object\n",
      "Year                617 non-null int64\n",
      "UTTERANCE_NUMBER    617 non-null int64\n",
      "dtypes: int64(2), object(7)\n",
      "memory usage: 26.6+ KB\n"
     ]
    }
   ],
   "source": [
    "mega_df.info()"
   ]
  },
  {
   "cell_type": "markdown",
   "metadata": {},
   "source": [
    "# Concatenating all the Data Frames\n",
    "Let's concatenate these in chronological order\n"
   ]
  },
  {
   "cell_type": "code",
   "execution_count": 148,
   "metadata": {},
   "outputs": [],
   "source": [
    "dreamworks_df = pd.concat([antz_df, shrek_df, shrek3_df, kfp_df, httyd_df, mega_df, rotg_df, croods_df, httyd2_df],\n",
    "                          axis=0, sort=True, ignore_index = True)"
   ]
  },
  {
   "cell_type": "code",
   "execution_count": 150,
   "metadata": {},
   "outputs": [
    {
     "data": {
      "text/plain": [
       "(6674, 9)"
      ]
     },
     "execution_count": 150,
     "metadata": {},
     "output_type": "execute_result"
    }
   ],
   "source": [
    "dreamworks_df.shape"
   ]
  },
  {
   "cell_type": "code",
   "execution_count": 151,
   "metadata": {},
   "outputs": [
    {
     "name": "stdout",
     "output_type": "stream",
     "text": [
      "<class 'pandas.core.frame.DataFrame'>\n",
      "RangeIndex: 6674 entries, 0 to 6673\n",
      "Data columns (total 9 columns):\n",
      "Gender              6674 non-null object\n",
      "Movie               6674 non-null object\n",
      "Role                6674 non-null object\n",
      "Song                6674 non-null object\n",
      "Speaker             6674 non-null object\n",
      "Speaker_Status      6674 non-null object\n",
      "Text                6674 non-null object\n",
      "UTTERANCE_NUMBER    6674 non-null int64\n",
      "Year                6674 non-null int64\n",
      "dtypes: int64(2), object(7)\n",
      "memory usage: 286.8+ KB\n"
     ]
    }
   ],
   "source": [
    "dreamworks_df.info()"
   ]
  },
  {
   "cell_type": "code",
   "execution_count": 153,
   "metadata": {},
   "outputs": [],
   "source": [
    "#Adding the period column, which will act as a Dreamworks Marker\n",
    "dreamworks_df['Disney_Period'] = 'DREAMWORKS'"
   ]
  },
  {
   "cell_type": "code",
   "execution_count": 154,
   "metadata": {},
   "outputs": [],
   "source": [
    "disney_df = pd.read_pickle(r\"C:/Users/cassi/Desktop/Data_Science/Animated-Movie-Gendered-Dialogue/private/all_disney_annotated.pkl\")"
   ]
  },
  {
   "cell_type": "code",
   "execution_count": 155,
   "metadata": {},
   "outputs": [
    {
     "name": "stdout",
     "output_type": "stream",
     "text": [
      "<class 'pandas.core.frame.DataFrame'>\n",
      "RangeIndex: 7422 entries, 0 to 7421\n",
      "Data columns (total 10 columns):\n",
      "Disney_Period       7422 non-null object\n",
      "Gender              7422 non-null object\n",
      "Movie               7422 non-null object\n",
      "Role                7422 non-null object\n",
      "Song                7422 non-null object\n",
      "Speaker             7422 non-null object\n",
      "Speaker_Status      7422 non-null object\n",
      "Text                7422 non-null object\n",
      "UTTERANCE_NUMBER    7422 non-null int64\n",
      "Year                7422 non-null int64\n",
      "dtypes: int64(2), object(8)\n",
      "memory usage: 347.9+ KB\n"
     ]
    }
   ],
   "source": [
    "disney_df.info()"
   ]
  },
  {
   "cell_type": "code",
   "execution_count": 156,
   "metadata": {},
   "outputs": [],
   "source": [
    "animated_movies_df = pd.concat([disney_df, dreamworks_df], axis=0, sort=True, ignore_index = True)"
   ]
  },
  {
   "cell_type": "code",
   "execution_count": 158,
   "metadata": {},
   "outputs": [
    {
     "name": "stdout",
     "output_type": "stream",
     "text": [
      "<class 'pandas.core.frame.DataFrame'>\n",
      "RangeIndex: 14096 entries, 0 to 14095\n",
      "Data columns (total 10 columns):\n",
      "Disney_Period       14096 non-null object\n",
      "Gender              14096 non-null object\n",
      "Movie               14096 non-null object\n",
      "Role                14096 non-null object\n",
      "Song                14096 non-null object\n",
      "Speaker             14096 non-null object\n",
      "Speaker_Status      14096 non-null object\n",
      "Text                14096 non-null object\n",
      "UTTERANCE_NUMBER    14096 non-null int64\n",
      "Year                14096 non-null int64\n",
      "dtypes: int64(2), object(8)\n",
      "memory usage: 660.8+ KB\n"
     ]
    }
   ],
   "source": [
    "animated_movies_df.info()"
   ]
  },
  {
   "cell_type": "code",
   "execution_count": 160,
   "metadata": {},
   "outputs": [
    {
     "data": {
      "text/html": [
       "<div>\n",
       "<style scoped>\n",
       "    .dataframe tbody tr th:only-of-type {\n",
       "        vertical-align: middle;\n",
       "    }\n",
       "\n",
       "    .dataframe tbody tr th {\n",
       "        vertical-align: top;\n",
       "    }\n",
       "\n",
       "    .dataframe thead th {\n",
       "        text-align: right;\n",
       "    }\n",
       "</style>\n",
       "<table border=\"1\" class=\"dataframe\">\n",
       "  <thead>\n",
       "    <tr style=\"text-align: right;\">\n",
       "      <th></th>\n",
       "      <th>Disney_Period</th>\n",
       "      <th>Gender</th>\n",
       "      <th>Movie</th>\n",
       "      <th>Role</th>\n",
       "      <th>Song</th>\n",
       "      <th>Speaker</th>\n",
       "      <th>Speaker_Status</th>\n",
       "      <th>Text</th>\n",
       "      <th>UTTERANCE_NUMBER</th>\n",
       "      <th>Year</th>\n",
       "    </tr>\n",
       "  </thead>\n",
       "  <tbody>\n",
       "    <tr>\n",
       "      <th>14091</th>\n",
       "      <td>DREAMWORKS</td>\n",
       "      <td>m</td>\n",
       "      <td>How to Train Your Dragon 2</td>\n",
       "      <td>PRO</td>\n",
       "      <td>D</td>\n",
       "      <td>hiccup</td>\n",
       "      <td>NON-P</td>\n",
       "      <td>we may be small in numbers, but we stand for s...</td>\n",
       "      <td>704</td>\n",
       "      <td>2014</td>\n",
       "    </tr>\n",
       "    <tr>\n",
       "      <th>14092</th>\n",
       "      <td>DREAMWORKS</td>\n",
       "      <td>m</td>\n",
       "      <td>How to Train Your Dragon 2</td>\n",
       "      <td>PRO</td>\n",
       "      <td>D</td>\n",
       "      <td>hiccup</td>\n",
       "      <td>NON-P</td>\n",
       "      <td>we are the voice of peace. and bit by bit, we ...</td>\n",
       "      <td>705</td>\n",
       "      <td>2014</td>\n",
       "    </tr>\n",
       "    <tr>\n",
       "      <th>14093</th>\n",
       "      <td>DREAMWORKS</td>\n",
       "      <td>m</td>\n",
       "      <td>How to Train Your Dragon 2</td>\n",
       "      <td>PRO</td>\n",
       "      <td>D</td>\n",
       "      <td>hiccup</td>\n",
       "      <td>NON-P</td>\n",
       "      <td>you see, we have something they don't. oh sure...</td>\n",
       "      <td>706</td>\n",
       "      <td>2014</td>\n",
       "    </tr>\n",
       "    <tr>\n",
       "      <th>14094</th>\n",
       "      <td>DREAMWORKS</td>\n",
       "      <td>m</td>\n",
       "      <td>How to Train Your Dragon 2</td>\n",
       "      <td>PRO</td>\n",
       "      <td>D</td>\n",
       "      <td>hiccup</td>\n",
       "      <td>NON-P</td>\n",
       "      <td>but we... we have...</td>\n",
       "      <td>707</td>\n",
       "      <td>2014</td>\n",
       "    </tr>\n",
       "    <tr>\n",
       "      <th>14095</th>\n",
       "      <td>DREAMWORKS</td>\n",
       "      <td>m</td>\n",
       "      <td>How to Train Your Dragon 2</td>\n",
       "      <td>PRO</td>\n",
       "      <td>D</td>\n",
       "      <td>hiccup</td>\n",
       "      <td>NON-P</td>\n",
       "      <td>our dragons!</td>\n",
       "      <td>708</td>\n",
       "      <td>2014</td>\n",
       "    </tr>\n",
       "  </tbody>\n",
       "</table>\n",
       "</div>"
      ],
      "text/plain": [
       "      Disney_Period Gender                       Movie Role Song Speaker  \\\n",
       "14091    DREAMWORKS      m  How to Train Your Dragon 2  PRO    D  hiccup   \n",
       "14092    DREAMWORKS      m  How to Train Your Dragon 2  PRO    D  hiccup   \n",
       "14093    DREAMWORKS      m  How to Train Your Dragon 2  PRO    D  hiccup   \n",
       "14094    DREAMWORKS      m  How to Train Your Dragon 2  PRO    D  hiccup   \n",
       "14095    DREAMWORKS      m  How to Train Your Dragon 2  PRO    D  hiccup   \n",
       "\n",
       "      Speaker_Status                                               Text  \\\n",
       "14091          NON-P  we may be small in numbers, but we stand for s...   \n",
       "14092          NON-P  we are the voice of peace. and bit by bit, we ...   \n",
       "14093          NON-P  you see, we have something they don't. oh sure...   \n",
       "14094          NON-P                               but we... we have...   \n",
       "14095          NON-P                                       our dragons!   \n",
       "\n",
       "       UTTERANCE_NUMBER  Year  \n",
       "14091               704  2014  \n",
       "14092               705  2014  \n",
       "14093               706  2014  \n",
       "14094               707  2014  \n",
       "14095               708  2014  "
      ]
     },
     "execution_count": 160,
     "metadata": {},
     "output_type": "execute_result"
    }
   ],
   "source": [
    "animated_movies_df.tail()"
   ]
  },
  {
   "cell_type": "code",
   "execution_count": 161,
   "metadata": {},
   "outputs": [],
   "source": [
    "data_sample = animated_movies_df.sample(200)"
   ]
  },
  {
   "cell_type": "code",
   "execution_count": 162,
   "metadata": {},
   "outputs": [],
   "source": [
    "data_sample.to_csv(r\"C:\\Users\\cassi\\Desktop\\Data_Science\\Animated-Movie-Gendered-Dialogue\\data_sample\\all_movies_200.csv\")"
   ]
  },
  {
   "cell_type": "code",
   "execution_count": 163,
   "metadata": {},
   "outputs": [],
   "source": [
    "animated_movies_df.to_pickle(r\"C:\\Users\\cassi\\Desktop\\Data_Science\\Animated-Movie-Gendered-Dialogue\\private\\all_movies.pkl\")"
   ]
  },
  {
   "cell_type": "code",
   "execution_count": null,
   "metadata": {},
   "outputs": [],
   "source": []
  }
 ],
 "metadata": {
  "kernelspec": {
   "display_name": "Python 3",
   "language": "python",
   "name": "python3"
  },
  "language_info": {
   "codemirror_mode": {
    "name": "ipython",
    "version": 3
   },
   "file_extension": ".py",
   "mimetype": "text/x-python",
   "name": "python",
   "nbconvert_exporter": "python",
   "pygments_lexer": "ipython3",
   "version": "3.6.4"
  }
 },
 "nbformat": 4,
 "nbformat_minor": 2
}
