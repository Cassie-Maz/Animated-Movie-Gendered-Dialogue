{
 "cells": [
  {
   "cell_type": "markdown",
   "metadata": {},
   "source": [
    "# Megamind DataFrame\n",
    "I originally thought this code would be similar to my Kung Fu Panda code, since they both have a lot of variation when it comes to white space. But a closer look reveals that this...isn't a kids movie, and definitely NOT the final script for Megamind. Still, I want to have a solid number of Dreamworks movies, so I scraped this one."
   ]
  },
  {
   "cell_type": "code",
   "execution_count": 1,
   "metadata": {},
   "outputs": [],
   "source": [
    "import pandas as pd\n",
    "import re"
   ]
  },
  {
   "cell_type": "code",
   "execution_count": 2,
   "metadata": {},
   "outputs": [],
   "source": [
    "mega = open(r'..\\..\\..\\Animated-Movie-Gendered-Dialogue\\private\\imsdb_raw_nov_2015\\Animation\\megamind.txt')\n",
    "mega_script = mega.read()\n",
    "mega.close()"
   ]
  },
  {
   "cell_type": "code",
   "execution_count": 3,
   "metadata": {},
   "outputs": [
    {
     "data": {
      "text/plain": [
       "206021"
      ]
     },
     "execution_count": 3,
     "metadata": {},
     "output_type": "execute_result"
    }
   ],
   "source": [
    "len(mega_script)"
   ]
  },
  {
   "cell_type": "code",
   "execution_count": 4,
   "metadata": {},
   "outputs": [
    {
     "data": {
      "text/plain": [
       "'                               MEGAMIND\\n\\n                              Written by\\n\\n                    Alan Schoolcraft & Brent Simons\\n\\n      CREDITS SEQUENCE\\n\\n      NEWSPAPER HEADLINE MONTAGE:\\n\\n      HEADLINES flash before us, displaying their accompanying\\n\\n      photographs.\\n\\n      \"UBERMAN - METRO CITY\\'S HERO AFTER DEFEATING MASTER MIND!\\n\\n      PHOTO: A chiseled, statuesque man wearing the COOLEST SUPER\\n\\n      HERO SUIT IMAGINABLE, COMPLETE WITH FLOWING CAPE, shines a\\n\\n      confident smile a'"
      ]
     },
     "execution_count": 4,
     "metadata": {},
     "output_type": "execute_result"
    }
   ],
   "source": [
    "mega_script[:500]"
   ]
  },
  {
   "cell_type": "code",
   "execution_count": 5,
   "metadata": {},
   "outputs": [
    {
     "data": {
      "text/plain": [
       "'\\n\\n      NEWSPAPER HEADLINE MONTAGE:\\n\\n      HEADLINES flash before us, displaying their accompanying\\n\\n      photographs.\\n\\n      \"UBERMAN - METRO CITY\\'S HERO AFTER DEFEATING MASTER MIND!\\n\\n      PHOTO: A chiseled, statuesque man wearing the COOLEST SUPER\\n\\n      HERO SUIT IMAGINABLE, COMPLETE WITH FLOWING CAPE, shines a\\n\\n      confident smile a'"
      ]
     },
     "execution_count": 5,
     "metadata": {},
     "output_type": "execute_result"
    }
   ],
   "source": [
    "mega_script[158:500]"
   ]
  },
  {
   "cell_type": "code",
   "execution_count": 6,
   "metadata": {},
   "outputs": [],
   "source": [
    "mega_script = mega_script[158:]"
   ]
  },
  {
   "cell_type": "code",
   "execution_count": 7,
   "metadata": {},
   "outputs": [],
   "source": [
    "def no_parentheses(script):\n",
    "    new_script = re.sub(r\" *\\([^\\)]*\\)\", '', script)\n",
    "    return new_script"
   ]
  },
  {
   "cell_type": "code",
   "execution_count": 8,
   "metadata": {},
   "outputs": [],
   "source": [
    "mega_script = no_parentheses(mega_script)"
   ]
  },
  {
   "cell_type": "code",
   "execution_count": 9,
   "metadata": {},
   "outputs": [
    {
     "data": {
      "text/plain": [
       "201465"
      ]
     },
     "execution_count": 9,
     "metadata": {},
     "output_type": "execute_result"
    }
   ],
   "source": [
    "len(mega_script)"
   ]
  },
  {
   "cell_type": "code",
   "execution_count": 10,
   "metadata": {},
   "outputs": [],
   "source": [
    "def white_space_count(script_name):\n",
    "    white_space = re.findall(\" {3,}\", script_name)\n",
    "    len_w_s = [len(x) for x in white_space]\n",
    "    print(len_w_s[:100])\n",
    "    print(set(len_w_s))\n",
    "    for num in set(len_w_s):\n",
    "        print(num, \"white spaces appear\", len_w_s.count(num), \"times\")"
   ]
  },
  {
   "cell_type": "code",
   "execution_count": 11,
   "metadata": {},
   "outputs": [
    {
     "data": {
      "text/plain": [
       "'\\n\\n      NEWSPAPER HEADLINE MONTAGE:\\n\\n      HEADLINES flash before us, displaying their accompanying\\n\\n      photographs.\\n\\n      \"UBERMAN - METRO CITY\\'S HERO AFTER DEFEATING MASTER MIND!\\n\\n      PHOTO: A chiseled, statuesque man wearing the COOLEST SUPER\\n\\n      HERO SUIT IMAGINABLE, COMPLETE WITH FLOWING CAPE, shines a\\n\\n      confident smile at the lens. This is UBERMAN, champion of\\n\\n      METRO CITY.\\n\\n      \"UBERMAN DEFEATS MASTER MIND\\'S GIANT ROBOT!\"\\n\\n      PHOTO: Wide-shot of Uberman in mid-flight lifting the GIANT\\n\\n      ROBOT in the sky above the city buildings.\\n\\n      \"MASTER MIND ALL WET AFTER UBERMAN FOILS AQUARIUM HEIST!\"\\n\\n      PHOTO: Uberman stands knee-deep in water. He has his enemy by\\n\\n      the collar. The villain blocks his face from the shot with a\\n\\n      METALLIC GAUNTLET.\\n\\n      The images start to flash by even quicker, each showing the\\n\\n      MYSTERIOUS VILLAIN in various stages of humiliation. In each\\n\\n      photograph he successfully blocks his face with his armored\\n\\n      glove.\\n\\n      We ZOOM IN to the last headline.\\n\\n      \"MASTER MIND BEHIND BARS ONCE AGAIN - THANKS TO UBERMAN!\"\\n\\n      PHOTO: Uberman stands in a gallant pose with his fists on his\\n\\n      hips, obviously trying to accentuate the \"U\" insignia on his\\n\\n      chest.\\n\\n      END OF CREDITS SEQUENCE\\n\\n      EXT. BUILDING - DAY\\n\\n      We DISSOLVE from the photograph to Uberman standing in the\\n\\n      exact same position.\\n\\n      WE PULL BACK showing him atop a BUILDING overlooking the city\\n\\n      below. A perfect view for our guardian hero.\\n\\n      He watches the thriving metropolis, bristling with life as\\n\\n      people happily go about their day.\\n\\n      Yet, we can\\'t help but detect a hint of sadness in Uberman\\'s\\n\\n      expression.\\n\\n                                                               2.\\n\\n                          UBERMAN\\n\\n                You look so peaceful from up here.\\n\\n      His serenity is suddenly interrupted by a loud BEEPING SOUND\\n\\n      coming from his wrist.\\n\\n      He looks down at a BRACELET on his right arm.\\n\\n      It\\'s a silver band with a FLASHING red letter \"U\".\\n\\n                          UBERMAN\\n\\n                Looks like Roxanne\\'s in trouble\\n\\n                again.\\n\\n      Uberman leaps off the building and into the air. His cape\\n\\n      gracefully flows in the breeze behind him as he shoots off\\n\\n      into the distance like a speeding bullet.\\n\\n      EXT. OBSERVATORY HIDEOUT - ESTABLISHING SHOT\\n\\n      Grime and moss decorate the outside of this long abandoned\\n\\n      building overlooking the COAST. Once a place of knowledge and\\n\\n      wonder - now home to a great evil.\\n\\n      INT. OBSERVATORY HIDEOUT - DAY\\n\\n      The inside is in complete contrast to the exterior. The huge\\n\\n      hall with a GIANT TELESCOPE teems with advanced ELECTRONIC\\n\\n      EQUIPMENT. Computers, monitors and machines which do not have\\n\\n      an obvious function FLASH and HUM.\\n\\n      A STEEL DOOR slides open, revealing the subject of our story\\n\\n      MASTER MIND - a villain'"
      ]
     },
     "execution_count": 11,
     "metadata": {},
     "output_type": "execute_result"
    }
   ],
   "source": [
    "mega_script[:3000]"
   ]
  },
  {
   "cell_type": "code",
   "execution_count": 12,
   "metadata": {},
   "outputs": [
    {
     "data": {
      "text/plain": [
       "\"ender.\\n\\n                          THUG #1\\n\\n                Four against one. For a Master\\n\\n                Mind, you're really bad at math.\\n\\n      Master Mind throws a hand signal up in the air.\\n\\n      Suddenly a giant robotic foot crashes down on the two men\\n\\n      behind him.\\n\\n      Thug #1 and Thug #2 drop their knives and raise their hands\\n\\n      in the air.\\n\\n      Master Mind looks up and waves.\\n\\n                          MASTER MIND\\n\\n                Way to take out those two goons,\\n\\n                guys!\\n\\n      We see Da Vinci and Plato at the wheel of a gigantic robot.\\n\\n                          DA VINCI\\n\\n                What two goons?\\n\\n      The giant robot lifts its foot to check the bottom of it's\\n\\n      sole. It KNOCKS OVER WATER TOWER in the process.\\n\\n      The woman looks at Master Mind, horrified.\\n\\n                                            120.\\n\\n                          MASTER MIND\\n\\n\\n\\n                Sorry, we're new at this.\\n\\n                                THE END\\n\\n\""
      ]
     },
     "execution_count": 12,
     "metadata": {},
     "output_type": "execute_result"
    }
   ],
   "source": [
    "mega_script[-1000:]"
   ]
  },
  {
   "cell_type": "code",
   "execution_count": 13,
   "metadata": {},
   "outputs": [],
   "source": [
    "all_caps_10s = re.findall(r\"\\n\\n {10,20}(\\b[A-Z]['A-Z0-9#:\\.\\-/ ]{1,})+\", mega_script)"
   ]
  },
  {
   "cell_type": "code",
   "execution_count": 14,
   "metadata": {},
   "outputs": [
    {
     "data": {
      "text/plain": [
       "182"
      ]
     },
     "execution_count": 14,
     "metadata": {},
     "output_type": "execute_result"
    }
   ],
   "source": [
    "len(all_caps_10s)"
   ]
  },
  {
   "cell_type": "code",
   "execution_count": 15,
   "metadata": {},
   "outputs": [
    {
     "data": {
      "text/plain": [
       "['I ',\n",
       " 'I ',\n",
       " 'MY ',\n",
       " 'I ',\n",
       " 'ME ',\n",
       " \"I'\",\n",
       " 'POWER OF THE SUN',\n",
       " 'SON OF A BITCH',\n",
       " 'I ',\n",
       " 'I KNEW IT']"
      ]
     },
     "execution_count": 15,
     "metadata": {},
     "output_type": "execute_result"
    }
   ],
   "source": [
    "all_caps_10s[:10] #Just lines...also...isn't this a kid's movie...?"
   ]
  },
  {
   "cell_type": "markdown",
   "metadata": {},
   "source": [
    "Okay, so a quick look at this script actually shows that this isn't Megamind...at least, not the version that was used for the kid's movie. I only  flashed a bit of these lines, but other included more profanity than this, and the character names don't line up with the movie's imdb page. Sure enough, when I looked at video sources, the lines/characters in this script did NOT add up. So, scraping!!"
   ]
  },
  {
   "cell_type": "markdown",
   "metadata": {},
   "source": [
    "# Scraping MegaMind"
   ]
  },
  {
   "cell_type": "code",
   "execution_count": 16,
   "metadata": {},
   "outputs": [],
   "source": [
    "from bs4 import BeautifulSoup\n",
    "import requests"
   ]
  },
  {
   "cell_type": "code",
   "execution_count": 17,
   "metadata": {},
   "outputs": [
    {
     "name": "stdout",
     "output_type": "stream",
     "text": [
      "Pretty printing has been turned OFF\n"
     ]
    }
   ],
   "source": [
    "%pprint"
   ]
  },
  {
   "cell_type": "code",
   "execution_count": 18,
   "metadata": {},
   "outputs": [],
   "source": [
    "link = \"https://transcripts.fandom.com/wiki/Megamind\""
   ]
  },
  {
   "cell_type": "code",
   "execution_count": 19,
   "metadata": {},
   "outputs": [],
   "source": [
    "page_response = requests.get(link, timeout=5)"
   ]
  },
  {
   "cell_type": "code",
   "execution_count": 20,
   "metadata": {},
   "outputs": [],
   "source": [
    "page_content = BeautifulSoup(page_response.content, \"html.parser\")"
   ]
  },
  {
   "cell_type": "code",
   "execution_count": 21,
   "metadata": {},
   "outputs": [],
   "source": [
    "#page_content"
   ]
  },
  {
   "cell_type": "code",
   "execution_count": 22,
   "metadata": {},
   "outputs": [],
   "source": [
    "script = page_content.find(\"div\", {\"class\": \"mw-content-ltr mw-content-text\"})"
   ]
  },
  {
   "cell_type": "code",
   "execution_count": 23,
   "metadata": {},
   "outputs": [],
   "source": [
    "#script"
   ]
  },
  {
   "cell_type": "code",
   "execution_count": 24,
   "metadata": {},
   "outputs": [],
   "source": [
    "megamind_script = script.ul #actual lines"
   ]
  },
  {
   "cell_type": "code",
   "execution_count": 25,
   "metadata": {},
   "outputs": [],
   "source": [
    "just_lines_list = []\n",
    "counter=0\n",
    "for line in megamind_script.next_elements:\n",
    "    line_str = str(line)\n",
    "    if line_str.startswith(\"<li>\") and \":\" in line_str: #all lines formatted like this\n",
    "        counter+=1\n",
    "        line_str = line_str.replace(\"</li>\", '').replace(\"<li>\", '')\n",
    "        line_str_real = re.sub(r\"\\[[^\\]]*\\]\", '', line_str)\n",
    "        speaker_line = line_str_real.split(\":\")\n",
    "        speaker_line[0] = speaker_line[0].strip().lower()\n",
    "        speaker_line[1] = speaker_line[1].strip().lower()   \n",
    "        just_lines_list.append(tuple(speaker_line))"
   ]
  },
  {
   "cell_type": "code",
   "execution_count": 26,
   "metadata": {},
   "outputs": [
    {
     "data": {
      "text/plain": [
       "617"
      ]
     },
     "execution_count": 26,
     "metadata": {},
     "output_type": "execute_result"
    }
   ],
   "source": [
    "counter"
   ]
  },
  {
   "cell_type": "code",
   "execution_count": 27,
   "metadata": {},
   "outputs": [
    {
     "data": {
      "text/plain": [
       "617"
      ]
     },
     "execution_count": 27,
     "metadata": {},
     "output_type": "execute_result"
    }
   ],
   "source": [
    "len(just_lines_list)"
   ]
  },
  {
   "cell_type": "code",
   "execution_count": 28,
   "metadata": {},
   "outputs": [
    {
     "data": {
      "text/plain": [
       "[('megamind', 'here’s my day so far; went to jail, lost the girl of my dreams and got my butt kicked pretty good. still, things could be a lot worse. oh, that’s right…i’m falling to my death. guess they can’t. how did it all come to this you ask. my end starts at the beginning, the very beginning! i had a fairly standard childhood. i came from what you might call a broken home, literally broken. i was eight days old and still living with my parents. how sad is that?! clearly it was time to move on.'), ('megamind’s mother', 'here is your minion, he will take care of you.'), ('megamind’s father', 'and here is you binky.'), ('megamind’s father', 'you are destined….'), ('megamind', 'i didn’t quite here that last part, but it sounded important. destined for…what? i set out to find my destiny. it turns out a kid from the gloarpunked quadrant had the exact same idea. that was the day i met mr. goody-two-shoes. and our glorious rivalry was born!'), ('megamind', 'could this be what i was destined for? a dream life filled with luxury?'), ('megamind', 'apparently not! even fate has it’s favorites. no big deal. a much different fate awaited me.'), ('lady scott', 'a baby! how thoughtful.'), ('lord scott', 'oh, yes, yes. i saw and thought of you.'), ('megamind', 'luckily i found a lovely little place to call home.')]"
      ]
     },
     "execution_count": 28,
     "metadata": {},
     "output_type": "execute_result"
    }
   ],
   "source": [
    "just_lines_list[:10]"
   ]
  },
  {
   "cell_type": "code",
   "execution_count": 29,
   "metadata": {},
   "outputs": [],
   "source": [
    "megamind = pd.DataFrame(just_lines_list, columns=[\"Speaker\", \"Text\"])"
   ]
  },
  {
   "cell_type": "code",
   "execution_count": 30,
   "metadata": {},
   "outputs": [
    {
     "data": {
      "text/html": [
       "<div>\n",
       "<style scoped>\n",
       "    .dataframe tbody tr th:only-of-type {\n",
       "        vertical-align: middle;\n",
       "    }\n",
       "\n",
       "    .dataframe tbody tr th {\n",
       "        vertical-align: top;\n",
       "    }\n",
       "\n",
       "    .dataframe thead th {\n",
       "        text-align: right;\n",
       "    }\n",
       "</style>\n",
       "<table border=\"1\" class=\"dataframe\">\n",
       "  <thead>\n",
       "    <tr style=\"text-align: right;\">\n",
       "      <th></th>\n",
       "      <th>Speaker</th>\n",
       "      <th>Text</th>\n",
       "    </tr>\n",
       "  </thead>\n",
       "  <tbody>\n",
       "    <tr>\n",
       "      <th>0</th>\n",
       "      <td>megamind</td>\n",
       "      <td>here’s my day so far; went to jail, lost the g...</td>\n",
       "    </tr>\n",
       "    <tr>\n",
       "      <th>1</th>\n",
       "      <td>megamind’s mother</td>\n",
       "      <td>here is your minion, he will take care of you.</td>\n",
       "    </tr>\n",
       "    <tr>\n",
       "      <th>2</th>\n",
       "      <td>megamind’s father</td>\n",
       "      <td>and here is you binky.</td>\n",
       "    </tr>\n",
       "    <tr>\n",
       "      <th>3</th>\n",
       "      <td>megamind’s father</td>\n",
       "      <td>you are destined….</td>\n",
       "    </tr>\n",
       "    <tr>\n",
       "      <th>4</th>\n",
       "      <td>megamind</td>\n",
       "      <td>i didn’t quite here that last part, but it sou...</td>\n",
       "    </tr>\n",
       "  </tbody>\n",
       "</table>\n",
       "</div>"
      ],
      "text/plain": [
       "             Speaker                                               Text\n",
       "0           megamind  here’s my day so far; went to jail, lost the g...\n",
       "1  megamind’s mother     here is your minion, he will take care of you.\n",
       "2  megamind’s father                             and here is you binky.\n",
       "3  megamind’s father                                 you are destined….\n",
       "4           megamind  i didn’t quite here that last part, but it sou..."
      ]
     },
     "execution_count": 30,
     "metadata": {},
     "output_type": "execute_result"
    }
   ],
   "source": [
    "megamind.head()"
   ]
  },
  {
   "cell_type": "code",
   "execution_count": 31,
   "metadata": {},
   "outputs": [
    {
     "data": {
      "text/html": [
       "<div>\n",
       "<style scoped>\n",
       "    .dataframe tbody tr th:only-of-type {\n",
       "        vertical-align: middle;\n",
       "    }\n",
       "\n",
       "    .dataframe tbody tr th {\n",
       "        vertical-align: top;\n",
       "    }\n",
       "\n",
       "    .dataframe thead th {\n",
       "        text-align: right;\n",
       "    }\n",
       "</style>\n",
       "<table border=\"1\" class=\"dataframe\">\n",
       "  <thead>\n",
       "    <tr style=\"text-align: right;\">\n",
       "      <th></th>\n",
       "      <th>Speaker</th>\n",
       "      <th>Text</th>\n",
       "    </tr>\n",
       "  </thead>\n",
       "  <tbody>\n",
       "    <tr>\n",
       "      <th>612</th>\n",
       "      <td>megamind</td>\n",
       "      <td>i have to admit, being good has it’s perks.</td>\n",
       "    </tr>\n",
       "    <tr>\n",
       "      <th>613</th>\n",
       "      <td>roxanne ritchie</td>\n",
       "      <td>you know, you look pretty good in white.</td>\n",
       "    </tr>\n",
       "    <tr>\n",
       "      <th>614</th>\n",
       "      <td>mayor</td>\n",
       "      <td>ladies and gentlemen. megamind, defender of me...</td>\n",
       "    </tr>\n",
       "    <tr>\n",
       "      <th>615</th>\n",
       "      <td>megamind</td>\n",
       "      <td>you know, i like the sound of that.</td>\n",
       "    </tr>\n",
       "    <tr>\n",
       "      <th>616</th>\n",
       "      <td>megamind</td>\n",
       "      <td>hit it!</td>\n",
       "    </tr>\n",
       "  </tbody>\n",
       "</table>\n",
       "</div>"
      ],
      "text/plain": [
       "             Speaker                                               Text\n",
       "612         megamind        i have to admit, being good has it’s perks.\n",
       "613  roxanne ritchie           you know, you look pretty good in white.\n",
       "614            mayor  ladies and gentlemen. megamind, defender of me...\n",
       "615         megamind                you know, i like the sound of that.\n",
       "616         megamind                                            hit it!"
      ]
     },
     "execution_count": 31,
     "metadata": {},
     "output_type": "execute_result"
    }
   ],
   "source": [
    "megamind.tail()"
   ]
  },
  {
   "cell_type": "code",
   "execution_count": 32,
   "metadata": {},
   "outputs": [
    {
     "data": {
      "text/plain": [
       "array(['megamind', 'megamind’s mother', 'megamind’s father', 'lady scott',\n",
       "       'lord scott', 'prisoner', 'warden', 'roxanne ritchie', 'hal',\n",
       "       'minion', 'metro man', 'voice from crowd', 'bernard', 'mayor'],\n",
       "      dtype=object)"
      ]
     },
     "execution_count": 32,
     "metadata": {},
     "output_type": "execute_result"
    }
   ],
   "source": [
    "megamind.Speaker.unique()"
   ]
  },
  {
   "cell_type": "code",
   "execution_count": 33,
   "metadata": {},
   "outputs": [],
   "source": [
    "megamind.to_pickle(r\"C:\\Users\\cassi\\Desktop\\Data_Science\\Animated-Movie-Gendered-Dialogue\\private\\megamind_lines.pkl\")"
   ]
  }
 ],
 "metadata": {
  "kernelspec": {
   "display_name": "Python 3",
   "language": "python",
   "name": "python3"
  },
  "language_info": {
   "codemirror_mode": {
    "name": "ipython",
    "version": 3
   },
   "file_extension": ".py",
   "mimetype": "text/x-python",
   "name": "python",
   "nbconvert_exporter": "python",
   "pygments_lexer": "ipython3",
   "version": "3.6.4"
  }
 },
 "nbformat": 4,
 "nbformat_minor": 2
}
