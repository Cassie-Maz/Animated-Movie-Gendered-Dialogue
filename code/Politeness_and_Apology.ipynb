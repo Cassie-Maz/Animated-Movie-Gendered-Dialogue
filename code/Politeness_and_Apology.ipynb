{
 "cells": [
  {
   "cell_type": "markdown",
   "metadata": {},
   "source": [
    "# Politeness/Apology\n",
    "How often do speakers use polite forms and apologize?"
   ]
  },
  {
   "cell_type": "code",
   "execution_count": 1,
   "metadata": {},
   "outputs": [],
   "source": [
    "import pandas as pd\n",
    "from scipy import stats"
   ]
  },
  {
   "cell_type": "code",
   "execution_count": 2,
   "metadata": {},
   "outputs": [],
   "source": [
    "movies_df = pd.read_pickle(r'C:/Users/cassi/Desktop/Data_Science/Animated-Movie-Gendered-Dialogue/private/all_tagged_dialogue.pkl')"
   ]
  },
  {
   "cell_type": "code",
   "execution_count": 3,
   "metadata": {},
   "outputs": [
    {
     "name": "stdout",
     "output_type": "stream",
     "text": [
      "<class 'pandas.core.frame.DataFrame'>\n",
      "RangeIndex: 13442 entries, 0 to 13441\n",
      "Data columns (total 19 columns):\n",
      "Disney_Period       13442 non-null object\n",
      "Gender              13442 non-null object\n",
      "Movie               13442 non-null object\n",
      "Role                13442 non-null object\n",
      "Song                13442 non-null object\n",
      "Speaker             13442 non-null object\n",
      "Speaker_Status      13442 non-null object\n",
      "Text                13442 non-null object\n",
      "UTTERANCE_NUMBER    13442 non-null int64\n",
      "Year                13442 non-null int64\n",
      "Tokens              13442 non-null object\n",
      "Types               13442 non-null object\n",
      "Token_Count         13442 non-null int64\n",
      "Type_Count          13442 non-null int64\n",
      "POS                 13442 non-null object\n",
      "Tag_Freq            13442 non-null object\n",
      "Adj_Count           13442 non-null int64\n",
      "Adv_Count           13442 non-null int64\n",
      "Adj_over_Tokens     13442 non-null float64\n",
      "dtypes: float64(1), int64(6), object(12)\n",
      "memory usage: 1.3+ MB\n"
     ]
    }
   ],
   "source": [
    "movies_df.info()"
   ]
  },
  {
   "cell_type": "code",
   "execution_count": 4,
   "metadata": {},
   "outputs": [],
   "source": [
    "#list of polite forms\n",
    "polite = ['please', 'thank you', 'thanks', 'excuse me', 'pardon me']\n",
    "#list of apologies\n",
    "apology = ['sorry', 'apologies', 'my bad', 'forgive me']"
   ]
  },
  {
   "cell_type": "code",
   "execution_count": 5,
   "metadata": {},
   "outputs": [],
   "source": [
    "movies_df['Polite_Count'] = movies_df.Text.map(lambda x: sum([x.count(y) for y in polite]))"
   ]
  },
  {
   "cell_type": "code",
   "execution_count": 6,
   "metadata": {},
   "outputs": [],
   "source": [
    "movies_df['Apology_Count'] = movies_df.Text.map(lambda x: sum([x.count(y) for y in apology]))"
   ]
  },
  {
   "cell_type": "code",
   "execution_count": 7,
   "metadata": {},
   "outputs": [
    {
     "data": {
      "text/plain": [
       "count    13442.000000\n",
       "mean         0.028270\n",
       "std          0.191178\n",
       "min          0.000000\n",
       "25%          0.000000\n",
       "50%          0.000000\n",
       "75%          0.000000\n",
       "max          5.000000\n",
       "Name: Polite_Count, dtype: float64"
      ]
     },
     "execution_count": 7,
     "metadata": {},
     "output_type": "execute_result"
    }
   ],
   "source": [
    "movies_df['Polite_Count'].describe()"
   ]
  },
  {
   "cell_type": "code",
   "execution_count": 8,
   "metadata": {},
   "outputs": [
    {
     "data": {
      "text/plain": [
       "count    13442.000000\n",
       "mean         0.012945\n",
       "std          0.125514\n",
       "min          0.000000\n",
       "25%          0.000000\n",
       "50%          0.000000\n",
       "75%          0.000000\n",
       "max          4.000000\n",
       "Name: Apology_Count, dtype: float64"
      ]
     },
     "execution_count": 8,
     "metadata": {},
     "output_type": "execute_result"
    }
   ],
   "source": [
    "movies_df['Apology_Count'].describe()"
   ]
  },
  {
   "cell_type": "code",
   "execution_count": 9,
   "metadata": {},
   "outputs": [
    {
     "data": {
      "text/plain": [
       "(335, 21)"
      ]
     },
     "execution_count": 9,
     "metadata": {},
     "output_type": "execute_result"
    }
   ],
   "source": [
    "movies_df[movies_df.Polite_Count >=1].shape #only 335 polite lines..."
   ]
  },
  {
   "cell_type": "code",
   "execution_count": 10,
   "metadata": {},
   "outputs": [
    {
     "data": {
      "text/plain": [
       "(160, 21)"
      ]
     },
     "execution_count": 10,
     "metadata": {},
     "output_type": "execute_result"
    }
   ],
   "source": [
    "movies_df[movies_df.Apology_Count >=1].shape #only 160 apology lines..."
   ]
  },
  {
   "cell_type": "code",
   "execution_count": 11,
   "metadata": {},
   "outputs": [
    {
     "data": {
      "text/plain": [
       "(142, 21)"
      ]
     },
     "execution_count": 11,
     "metadata": {},
     "output_type": "execute_result"
    }
   ],
   "source": [
    "#female polite utterances\n",
    "movies_df[(movies_df.Polite_Count >=1) & (movies_df.Gender == 'f')].shape"
   ]
  },
  {
   "cell_type": "code",
   "execution_count": 12,
   "metadata": {},
   "outputs": [
    {
     "data": {
      "text/plain": [
       "(192, 21)"
      ]
     },
     "execution_count": 12,
     "metadata": {},
     "output_type": "execute_result"
    }
   ],
   "source": [
    "#male polite utterances\n",
    "movies_df[(movies_df.Polite_Count >=1) & (movies_df.Gender == 'm')].shape"
   ]
  },
  {
   "cell_type": "code",
   "execution_count": 13,
   "metadata": {},
   "outputs": [
    {
     "data": {
      "text/plain": [
       "(211, 21)"
      ]
     },
     "execution_count": 13,
     "metadata": {},
     "output_type": "execute_result"
    }
   ],
   "source": [
    "#protagonist polite utterances\n",
    "movies_df[(movies_df.Polite_Count >=1) & (movies_df.Role == 'PRO')].shape"
   ]
  },
  {
   "cell_type": "code",
   "execution_count": 14,
   "metadata": {},
   "outputs": [
    {
     "data": {
      "text/plain": [
       "(32, 21)"
      ]
     },
     "execution_count": 14,
     "metadata": {},
     "output_type": "execute_result"
    }
   ],
   "source": [
    "#antagonist polite utterances\n",
    "movies_df[(movies_df.Polite_Count >=1) & (movies_df.Role == 'ANT')].shape"
   ]
  },
  {
   "cell_type": "code",
   "execution_count": 15,
   "metadata": {},
   "outputs": [
    {
     "data": {
      "text/plain": [
       "(57, 21)"
      ]
     },
     "execution_count": 15,
     "metadata": {},
     "output_type": "execute_result"
    }
   ],
   "source": [
    "#helper polite utterances\n",
    "movies_df[(movies_df.Polite_Count >=1) & (movies_df.Role == 'HELPER')].shape"
   ]
  },
  {
   "cell_type": "markdown",
   "metadata": {},
   "source": [
    "# Politeness\n",
    "\n",
    "\n",
    "## Visualizations"
   ]
  },
  {
   "cell_type": "code",
   "execution_count": 16,
   "metadata": {},
   "outputs": [],
   "source": [
    "from matplotlib import pyplot as plt"
   ]
  },
  {
   "cell_type": "code",
   "execution_count": 17,
   "metadata": {},
   "outputs": [],
   "source": [
    "movies_gender_df = movies_df[movies_df.Gender != 'n']"
   ]
  },
  {
   "cell_type": "code",
   "execution_count": 18,
   "metadata": {},
   "outputs": [
    {
     "data": {
      "text/plain": [
       "Gender\n",
       "f    0.038899\n",
       "m    0.024119\n",
       "Name: mean, dtype: float64"
      ]
     },
     "execution_count": 18,
     "metadata": {},
     "output_type": "execute_result"
    }
   ],
   "source": [
    "politeness_by_gender = movies_gender_df.groupby('Gender')['Polite_Count'].describe()['mean']\n",
    "politeness_by_gender"
   ]
  },
  {
   "cell_type": "code",
   "execution_count": 19,
   "metadata": {},
   "outputs": [
    {
     "data": {
      "text/html": [
       "<div>\n",
       "<style scoped>\n",
       "    .dataframe tbody tr th:only-of-type {\n",
       "        vertical-align: middle;\n",
       "    }\n",
       "\n",
       "    .dataframe tbody tr th {\n",
       "        vertical-align: top;\n",
       "    }\n",
       "\n",
       "    .dataframe thead th {\n",
       "        text-align: right;\n",
       "    }\n",
       "</style>\n",
       "<table border=\"1\" class=\"dataframe\">\n",
       "  <thead>\n",
       "    <tr style=\"text-align: right;\">\n",
       "      <th></th>\n",
       "      <th>count</th>\n",
       "      <th>mean</th>\n",
       "      <th>std</th>\n",
       "      <th>min</th>\n",
       "      <th>25%</th>\n",
       "      <th>50%</th>\n",
       "      <th>75%</th>\n",
       "      <th>max</th>\n",
       "    </tr>\n",
       "    <tr>\n",
       "      <th>Gender</th>\n",
       "      <th></th>\n",
       "      <th></th>\n",
       "      <th></th>\n",
       "      <th></th>\n",
       "      <th></th>\n",
       "      <th></th>\n",
       "      <th></th>\n",
       "      <th></th>\n",
       "    </tr>\n",
       "  </thead>\n",
       "  <tbody>\n",
       "    <tr>\n",
       "      <th>f</th>\n",
       "      <td>4216.0</td>\n",
       "      <td>0.038899</td>\n",
       "      <td>0.232384</td>\n",
       "      <td>0.0</td>\n",
       "      <td>0.0</td>\n",
       "      <td>0.0</td>\n",
       "      <td>0.0</td>\n",
       "      <td>5.0</td>\n",
       "    </tr>\n",
       "    <tr>\n",
       "      <th>m</th>\n",
       "      <td>8914.0</td>\n",
       "      <td>0.024119</td>\n",
       "      <td>0.171390</td>\n",
       "      <td>0.0</td>\n",
       "      <td>0.0</td>\n",
       "      <td>0.0</td>\n",
       "      <td>0.0</td>\n",
       "      <td>3.0</td>\n",
       "    </tr>\n",
       "  </tbody>\n",
       "</table>\n",
       "</div>"
      ],
      "text/plain": [
       "         count      mean       std  min  25%  50%  75%  max\n",
       "Gender                                                     \n",
       "f       4216.0  0.038899  0.232384  0.0  0.0  0.0  0.0  5.0\n",
       "m       8914.0  0.024119  0.171390  0.0  0.0  0.0  0.0  3.0"
      ]
     },
     "execution_count": 19,
     "metadata": {},
     "output_type": "execute_result"
    }
   ],
   "source": [
    "movies_gender_df.groupby('Gender')['Polite_Count'].describe()"
   ]
  },
  {
   "cell_type": "markdown",
   "metadata": {},
   "source": [
    "Most lines aren't apologies at all. But the mean for female characters is still higher. This average means that most female characters use 0.038 polite forms per line! Let's look at how the distribution looks inside a dataframe only containing polite forms"
   ]
  },
  {
   "cell_type": "code",
   "execution_count": 20,
   "metadata": {},
   "outputs": [],
   "source": [
    "polite_df = movies_df[(movies_df.Polite_Count >= 1) & (movies_df.Gender != 'n')]"
   ]
  },
  {
   "cell_type": "code",
   "execution_count": 21,
   "metadata": {},
   "outputs": [
    {
     "data": {
      "text/html": [
       "<div>\n",
       "<style scoped>\n",
       "    .dataframe tbody tr th:only-of-type {\n",
       "        vertical-align: middle;\n",
       "    }\n",
       "\n",
       "    .dataframe tbody tr th {\n",
       "        vertical-align: top;\n",
       "    }\n",
       "\n",
       "    .dataframe thead th {\n",
       "        text-align: right;\n",
       "    }\n",
       "</style>\n",
       "<table border=\"1\" class=\"dataframe\">\n",
       "  <thead>\n",
       "    <tr style=\"text-align: right;\">\n",
       "      <th></th>\n",
       "      <th>count</th>\n",
       "      <th>mean</th>\n",
       "      <th>std</th>\n",
       "      <th>min</th>\n",
       "      <th>25%</th>\n",
       "      <th>50%</th>\n",
       "      <th>75%</th>\n",
       "      <th>max</th>\n",
       "    </tr>\n",
       "    <tr>\n",
       "      <th>Gender</th>\n",
       "      <th></th>\n",
       "      <th></th>\n",
       "      <th></th>\n",
       "      <th></th>\n",
       "      <th></th>\n",
       "      <th></th>\n",
       "      <th></th>\n",
       "      <th></th>\n",
       "    </tr>\n",
       "  </thead>\n",
       "  <tbody>\n",
       "    <tr>\n",
       "      <th>f</th>\n",
       "      <td>142.0</td>\n",
       "      <td>1.154930</td>\n",
       "      <td>0.562363</td>\n",
       "      <td>1.0</td>\n",
       "      <td>1.0</td>\n",
       "      <td>1.0</td>\n",
       "      <td>1.0</td>\n",
       "      <td>5.0</td>\n",
       "    </tr>\n",
       "    <tr>\n",
       "      <th>m</th>\n",
       "      <td>192.0</td>\n",
       "      <td>1.119792</td>\n",
       "      <td>0.370685</td>\n",
       "      <td>1.0</td>\n",
       "      <td>1.0</td>\n",
       "      <td>1.0</td>\n",
       "      <td>1.0</td>\n",
       "      <td>3.0</td>\n",
       "    </tr>\n",
       "  </tbody>\n",
       "</table>\n",
       "</div>"
      ],
      "text/plain": [
       "        count      mean       std  min  25%  50%  75%  max\n",
       "Gender                                                    \n",
       "f       142.0  1.154930  0.562363  1.0  1.0  1.0  1.0  5.0\n",
       "m       192.0  1.119792  0.370685  1.0  1.0  1.0  1.0  3.0"
      ]
     },
     "execution_count": 21,
     "metadata": {},
     "output_type": "execute_result"
    }
   ],
   "source": [
    "polite_df.groupby('Gender')['Polite_Count'].describe()"
   ]
  },
  {
   "cell_type": "code",
   "execution_count": 22,
   "metadata": {},
   "outputs": [
    {
     "data": {
      "text/plain": [
       "(33, 21)"
      ]
     },
     "execution_count": 22,
     "metadata": {},
     "output_type": "execute_result"
    }
   ],
   "source": [
    "polite_df[polite_df.Polite_Count >=2].shape #how many have over 1 polite word in their utterance?"
   ]
  },
  {
   "cell_type": "code",
   "execution_count": 23,
   "metadata": {},
   "outputs": [
    {
     "data": {
      "text/plain": [
       "<matplotlib.axes._subplots.AxesSubplot at 0x11182130>"
      ]
     },
     "execution_count": 23,
     "metadata": {},
     "output_type": "execute_result"
    },
    {
     "data": {
      "image/png": "[encoded data removed]",
      "text/plain": [
       "<Figure size 1080x432 with 1 Axes>"
      ]
     },
     "metadata": {
      "needs_background": "light"
     },
     "output_type": "display_data"
    }
   ],
   "source": [
    "politeness_by_gender.plot.bar(color = ['magenta', 'blue'], figsize = (15,6))"
   ]
  },
  {
   "cell_type": "markdown",
   "metadata": {},
   "source": [
    "It looks like overall, female characters use polite forms much more often than male characters do."
   ]
  },
  {
   "cell_type": "markdown",
   "metadata": {},
   "source": [
    "## Analysis by Role"
   ]
  },
  {
   "cell_type": "code",
   "execution_count": 24,
   "metadata": {},
   "outputs": [],
   "source": [
    "movies_role_df = movies_df[movies_df.Role != 'N']"
   ]
  },
  {
   "cell_type": "code",
   "execution_count": 25,
   "metadata": {},
   "outputs": [],
   "source": [
    "polite_df_2 = movies_df[(movies_df.Polite_Count >= 1) & (movies_df.Gender != 'n')]"
   ]
  },
  {
   "cell_type": "code",
   "execution_count": 26,
   "metadata": {},
   "outputs": [
    {
     "data": {
      "text/plain": [
       "<matplotlib.axes._subplots.AxesSubplot at 0x123d84d0>"
      ]
     },
     "execution_count": 26,
     "metadata": {},
     "output_type": "execute_result"
    },
    {
     "data": {
      "image/png": "[encoded data removed]",
      "text/plain": [
       "<Figure size 1080x432 with 1 Axes>"
      ]
     },
     "metadata": {
      "needs_background": "light"
     },
     "output_type": "display_data"
    }
   ],
   "source": [
    "politeness_by_role = movies_role_df.groupby('Role')['Polite_Count'].describe()['mean']\n",
    "politeness_by_role.plot.bar(color = ['red', 'purple', 'blue'], figsize = (15,6))"
   ]
  },
  {
   "cell_type": "markdown",
   "metadata": {},
   "source": [
    "Protagonists use polite forms over twice as often as antagonists!"
   ]
  },
  {
   "cell_type": "code",
   "execution_count": 27,
   "metadata": {},
   "outputs": [
    {
     "data": {
      "text/plain": [
       "m    7498\n",
       "f    3822\n",
       "n      28\n",
       "Name: Gender, dtype: int64"
      ]
     },
     "execution_count": 27,
     "metadata": {},
     "output_type": "execute_result"
    }
   ],
   "source": [
    "movies_role_df.Gender.value_counts()"
   ]
  },
  {
   "cell_type": "code",
   "execution_count": 28,
   "metadata": {},
   "outputs": [],
   "source": [
    "movies_role_gen_df = movies_df[(movies_df.Gender != 'n') & (movies_df.Role != 'N')]"
   ]
  },
  {
   "cell_type": "code",
   "execution_count": 29,
   "metadata": {},
   "outputs": [
    {
     "name": "stdout",
     "output_type": "stream",
     "text": [
      "<class 'pandas.core.frame.DataFrame'>\n",
      "Int64Index: 11320 entries, 0 to 13441\n",
      "Data columns (total 21 columns):\n",
      "Disney_Period       11320 non-null object\n",
      "Gender              11320 non-null object\n",
      "Movie               11320 non-null object\n",
      "Role                11320 non-null object\n",
      "Song                11320 non-null object\n",
      "Speaker             11320 non-null object\n",
      "Speaker_Status      11320 non-null object\n",
      "Text                11320 non-null object\n",
      "UTTERANCE_NUMBER    11320 non-null int64\n",
      "Year                11320 non-null int64\n",
      "Tokens              11320 non-null object\n",
      "Types               11320 non-null object\n",
      "Token_Count         11320 non-null int64\n",
      "Type_Count          11320 non-null int64\n",
      "POS                 11320 non-null object\n",
      "Tag_Freq            11320 non-null object\n",
      "Adj_Count           11320 non-null int64\n",
      "Adv_Count           11320 non-null int64\n",
      "Adj_over_Tokens     11320 non-null float64\n",
      "Polite_Count        11320 non-null int64\n",
      "Apology_Count       11320 non-null int64\n",
      "dtypes: float64(1), int64(8), object(12)\n",
      "memory usage: 1.4+ MB\n"
     ]
    }
   ],
   "source": [
    "movies_role_gen_df.info()"
   ]
  },
  {
   "cell_type": "code",
   "execution_count": 30,
   "metadata": {},
   "outputs": [
    {
     "data": {
      "text/plain": [
       "<matplotlib.axes._subplots.AxesSubplot at 0x12402c70>"
      ]
     },
     "execution_count": 30,
     "metadata": {},
     "output_type": "execute_result"
    },
    {
     "data": {
      "image/png": "[encoded data removed]",
      "text/plain": [
       "<Figure size 720x432 with 1 Axes>"
      ]
     },
     "metadata": {
      "needs_background": "light"
     },
     "output_type": "display_data"
    }
   ],
   "source": [
    "politeness_by_gen_role = movies_role_gen_df.groupby(['Gender', 'Role'], sort=False)['Polite_Count'].describe()['mean']\n",
    "politeness_by_gen_role.unstack().plot.bar(color = ['red', 'blue', 'purple'], figsize = (10,6))"
   ]
  },
  {
   "cell_type": "code",
   "execution_count": 31,
   "metadata": {},
   "outputs": [
    {
     "data": {
      "text/plain": [
       "Gender  Role  \n",
       "f       ANT       0.022222\n",
       "        PRO       0.051492\n",
       "        HELPER    0.020541\n",
       "m       ANT       0.014502\n",
       "        PRO       0.033494\n",
       "        HELPER    0.021170\n",
       "Name: mean, dtype: float64"
      ]
     },
     "execution_count": 31,
     "metadata": {},
     "output_type": "execute_result"
    }
   ],
   "source": [
    "politeness_by_gen_role"
   ]
  },
  {
   "cell_type": "markdown",
   "metadata": {},
   "source": [
    "In both genders, protagonists apologize over twice as often as antagonists. Even so, female protagonists and antagonists still apologize more than their male counterparts."
   ]
  },
  {
   "cell_type": "code",
   "execution_count": 32,
   "metadata": {},
   "outputs": [
    {
     "data": {
      "text/plain": [
       "<matplotlib.axes._subplots.AxesSubplot at 0x1267ba90>"
      ]
     },
     "execution_count": 32,
     "metadata": {},
     "output_type": "execute_result"
    },
    {
     "data": {
      "image/png": "[encoded data removed]",
      "text/plain": [
       "<Figure size 720x432 with 1 Axes>"
      ]
     },
     "metadata": {
      "needs_background": "light"
     },
     "output_type": "display_data"
    }
   ],
   "source": [
    "politeness_by_gen_era = movies_role_gen_df.groupby(['Disney_Period', 'Gender'], sort=False)['Polite_Count'].describe()['mean']\n",
    "politeness_by_gen_era.unstack().plot.bar(color = ['magenta', 'blue'], figsize = (10,6))"
   ]
  },
  {
   "cell_type": "markdown",
   "metadata": {},
   "source": [
    "Interesting. Polite forms have become more frequent over time in Disney movies for both male and female characters. Even so, in each era, women use polite forms much more often. It seems like the difference has shrunk over time though.\n",
    "\n",
    "Also, suprisingly, male dreamworks characters actually use more polite forms than female dreamworks characters!!!"
   ]
  },
  {
   "cell_type": "code",
   "execution_count": 33,
   "metadata": {},
   "outputs": [
    {
     "data": {
      "text/plain": [
       "Disney_Period  Gender\n",
       "EARLY          f         0.035868\n",
       "               m         0.009063\n",
       "MID            f         0.048544\n",
       "               m         0.030285\n",
       "LATE           f         0.054653\n",
       "               m         0.034627\n",
       "DREAMWORKS     f         0.020000\n",
       "               m         0.022517\n",
       "Name: mean, dtype: float64"
      ]
     },
     "execution_count": 33,
     "metadata": {},
     "output_type": "execute_result"
    }
   ],
   "source": [
    "politeness_by_gen_era"
   ]
  },
  {
   "cell_type": "code",
   "execution_count": 34,
   "metadata": {},
   "outputs": [],
   "source": [
    "disney_role_gen_df = movies_role_gen_df[movies_role_gen_df.Disney_Period != 'DREAMWORKS']"
   ]
  },
  {
   "cell_type": "code",
   "execution_count": 35,
   "metadata": {},
   "outputs": [
    {
     "data": {
      "text/plain": [
       "<matplotlib.axes._subplots.AxesSubplot at 0x126cfcf0>"
      ]
     },
     "execution_count": 35,
     "metadata": {},
     "output_type": "execute_result"
    },
    {
     "data": {
      "image/png": "[encoded data removed]",
      "text/plain": [
       "<Figure size 720x432 with 1 Axes>"
      ]
     },
     "metadata": {
      "needs_background": "light"
     },
     "output_type": "display_data"
    }
   ],
   "source": [
    "politeness_by_gen_era = disney_role_gen_df.groupby(['Gender'], sort=False)['Polite_Count'].describe()['mean']\n",
    "politeness_by_gen_era.plot.bar(color = ['magenta', 'blue'], figsize = (10,6))"
   ]
  },
  {
   "cell_type": "code",
   "execution_count": 36,
   "metadata": {},
   "outputs": [
    {
     "data": {
      "text/plain": [
       "<matplotlib.axes._subplots.AxesSubplot at 0x12708a10>"
      ]
     },
     "execution_count": 36,
     "metadata": {},
     "output_type": "execute_result"
    },
    {
     "data": {
      "image/png": "[encoded data removed]",
      "text/plain": [
       "<Figure size 720x432 with 1 Axes>"
      ]
     },
     "metadata": {
      "needs_background": "light"
     },
     "output_type": "display_data"
    }
   ],
   "source": [
    "politeness_by_gen_era = movies_role_gen_df.groupby(['Disney_Period', 'Role'], sort=False)['Polite_Count'].describe()['mean']\n",
    "politeness_by_gen_era.unstack().plot.bar(color = ['red', 'blue', 'purple'], figsize = (10,6))"
   ]
  },
  {
   "cell_type": "code",
   "execution_count": 37,
   "metadata": {},
   "outputs": [
    {
     "data": {
      "text/plain": [
       "<matplotlib.axes._subplots.AxesSubplot at 0x128ed570>"
      ]
     },
     "execution_count": 37,
     "metadata": {},
     "output_type": "execute_result"
    },
    {
     "data": {
      "image/png": "[encoded data removed]",
      "text/plain": [
       "<Figure size 720x432 with 1 Axes>"
      ]
     },
     "metadata": {
      "needs_background": "light"
     },
     "output_type": "display_data"
    }
   ],
   "source": [
    "politeness_by_gen_era = movies_role_gen_df.groupby(['Disney_Period','Gender', 'Role'], sort=False)['Polite_Count'].describe()['mean']\n",
    "politeness_by_gen_era.unstack().plot.bar(color = ['red', 'blue', 'purple'], figsize = (10,6))"
   ]
  },
  {
   "cell_type": "code",
   "execution_count": 38,
   "metadata": {},
   "outputs": [
    {
     "data": {
      "text/plain": [
       "array(['rapunzel'], dtype=object)"
      ]
     },
     "execution_count": 38,
     "metadata": {},
     "output_type": "execute_result"
    }
   ],
   "source": [
    "movies_df[(movies_df.Role == 'ANT') & (movies_df.Gender == 'f') & (movies_df.Disney_Period == 'DREAMWORKS')].Speaker.unique()"
   ]
  },
  {
   "cell_type": "code",
   "execution_count": 39,
   "metadata": {},
   "outputs": [],
   "source": [
    "#Finally, let's look at subplots of gender by role for each era\n",
    "movies_early_df = movies_role_gen_df[movies_role_gen_df.Disney_Period == 'EARLY']\n",
    "movies_mid_df = movies_role_gen_df[movies_role_gen_df.Disney_Period == 'MID']\n",
    "movies_late_df = movies_role_gen_df[movies_role_gen_df.Disney_Period == 'LATE']\n",
    "movies_dw_df = movies_role_gen_df[movies_role_gen_df.Disney_Period == 'DREAMWORKS']\n",
    "\n",
    "politeness_early = movies_early_df.groupby(['Disney_Period','Gender', 'Role'])['Polite_Count'].describe()['mean']\n",
    "politeness_mid = movies_mid_df.groupby(['Disney_Period','Gender', 'Role'])['Polite_Count'].describe()['mean']\n",
    "politeness_late = movies_late_df.groupby(['Disney_Period','Gender', 'Role'])['Polite_Count'].describe()['mean']\n",
    "politeness_dw = movies_dw_df.groupby(['Disney_Period','Gender', 'Role'])['Polite_Count'].describe()['mean']\n"
   ]
  },
  {
   "cell_type": "code",
   "execution_count": 40,
   "metadata": {},
   "outputs": [
    {
     "data": {
      "text/plain": [
       "<matplotlib.axes._subplots.AxesSubplot at 0x129a9310>"
      ]
     },
     "execution_count": 40,
     "metadata": {},
     "output_type": "execute_result"
    },
    {
     "data": {
      "image/png": "[encoded data removed]",
      "text/plain": [
       "<Figure size 1080x1152 with 4 Axes>"
      ]
     },
     "metadata": {
      "needs_background": "light"
     },
     "output_type": "display_data"
    }
   ],
   "source": [
    "fig, axes = plt.subplots(nrows=2, ncols=2, figsize=(15,16))\n",
    "politeness_early.unstack().plot.bar(color = ['red', 'blue', 'purple'], ax=axes[0,0])\n",
    "politeness_mid.unstack().plot.bar(color = ['red', 'blue', 'purple'], ax=axes[0,1])\n",
    "politeness_late.unstack().plot.bar(color = ['red', 'blue', 'purple'], ax=axes[1,0])\n",
    "politeness_dw.unstack().plot.bar(color = ['red', 'blue', 'purple'], ax=axes[1,1])"
   ]
  },
  {
   "cell_type": "markdown",
   "metadata": {},
   "source": [
    "# Apology\n",
    "## Visualizations"
   ]
  },
  {
   "cell_type": "code",
   "execution_count": 41,
   "metadata": {},
   "outputs": [
    {
     "data": {
      "text/plain": [
       "<matplotlib.axes._subplots.AxesSubplot at 0x12d3bc90>"
      ]
     },
     "execution_count": 41,
     "metadata": {},
     "output_type": "execute_result"
    },
    {
     "data": {
      "image/png": "[encoded data removed]",
      "text/plain": [
       "<Figure size 1080x432 with 1 Axes>"
      ]
     },
     "metadata": {
      "needs_background": "light"
     },
     "output_type": "display_data"
    }
   ],
   "source": [
    "apology_by_gender = movies_gender_df.groupby('Gender')['Apology_Count'].describe()['mean']\n",
    "apology_by_gender.plot.bar(color = ['magenta', 'blue'], figsize = (15,6))"
   ]
  },
  {
   "cell_type": "code",
   "execution_count": 42,
   "metadata": {},
   "outputs": [
    {
     "data": {
      "text/plain": [
       "<matplotlib.axes._subplots.AxesSubplot at 0x12d8bbd0>"
      ]
     },
     "execution_count": 42,
     "metadata": {},
     "output_type": "execute_result"
    },
    {
     "data": {
      "image/png": "[encoded data removed]",
      "text/plain": [
       "<Figure size 1080x432 with 1 Axes>"
      ]
     },
     "metadata": {
      "needs_background": "light"
     },
     "output_type": "display_data"
    }
   ],
   "source": [
    "apology_by_role = movies_role_df.groupby('Role')['Apology_Count'].describe()['mean']\n",
    "apology_by_role.plot.bar(color = ['red', 'purple', 'blue'], figsize = (15,6))"
   ]
  },
  {
   "cell_type": "code",
   "execution_count": 43,
   "metadata": {},
   "outputs": [
    {
     "data": {
      "text/plain": [
       "<matplotlib.axes._subplots.AxesSubplot at 0x12dc1ab0>"
      ]
     },
     "execution_count": 43,
     "metadata": {},
     "output_type": "execute_result"
    },
    {
     "data": {
      "image/png": "[encoded data removed]",
      "text/plain": [
       "<Figure size 720x432 with 1 Axes>"
      ]
     },
     "metadata": {
      "needs_background": "light"
     },
     "output_type": "display_data"
    }
   ],
   "source": [
    "apology_by_gen_role = movies_role_gen_df.groupby(['Gender', 'Role'], sort=False)['Apology_Count'].describe()['mean']\n",
    "apology_by_gen_role.unstack().plot.bar(color = ['red', 'blue', 'purple'], figsize = (10,6))"
   ]
  },
  {
   "cell_type": "code",
   "execution_count": 44,
   "metadata": {},
   "outputs": [
    {
     "data": {
      "text/plain": [
       "<matplotlib.axes._subplots.AxesSubplot at 0x13053330>"
      ]
     },
     "execution_count": 44,
     "metadata": {},
     "output_type": "execute_result"
    },
    {
     "data": {
      "image/png": "[encoded data removed]",
      "text/plain": [
       "<Figure size 720x432 with 1 Axes>"
      ]
     },
     "metadata": {
      "needs_background": "light"
     },
     "output_type": "display_data"
    }
   ],
   "source": [
    "apology_by_gen_era = movies_role_gen_df.groupby(['Disney_Period', 'Role'], sort=False)['Apology_Count'].describe()['mean']\n",
    "apology_by_gen_era.unstack().plot.bar(color = ['red', 'blue', 'purple'], figsize = (10,6))"
   ]
  },
  {
   "cell_type": "code",
   "execution_count": 45,
   "metadata": {},
   "outputs": [
    {
     "data": {
      "text/plain": [
       "<matplotlib.axes._subplots.AxesSubplot at 0x127190d0>"
      ]
     },
     "execution_count": 45,
     "metadata": {},
     "output_type": "execute_result"
    },
    {
     "data": {
      "image/png": "[encoded data removed]",
      "text/plain": [
       "<Figure size 720x432 with 1 Axes>"
      ]
     },
     "metadata": {
      "needs_background": "light"
     },
     "output_type": "display_data"
    }
   ],
   "source": [
    "apology_by_gen_era = movies_role_gen_df.groupby(['Disney_Period', 'Gender'], sort=False)['Apology_Count'].describe()['mean']\n",
    "apology_by_gen_era.unstack().plot.bar(color = ['magenta', 'blue'], figsize = (10,6))"
   ]
  },
  {
   "cell_type": "code",
   "execution_count": 46,
   "metadata": {},
   "outputs": [],
   "source": [
    "apology_early = movies_early_df.groupby(['Disney_Period','Gender', 'Role'])['Apology_Count'].describe()['mean']\n",
    "apology_mid = movies_mid_df.groupby(['Disney_Period','Gender', 'Role'])['Apology_Count'].describe()['mean']\n",
    "apology_late = movies_late_df.groupby(['Disney_Period','Gender', 'Role'])['Apology_Count'].describe()['mean']\n",
    "apology_dw = movies_dw_df.groupby(['Disney_Period','Gender', 'Role'])['Apology_Count'].describe()['mean']"
   ]
  },
  {
   "cell_type": "code",
   "execution_count": 47,
   "metadata": {},
   "outputs": [
    {
     "data": {
      "text/plain": [
       "<matplotlib.axes._subplots.AxesSubplot at 0x13127530>"
      ]
     },
     "execution_count": 47,
     "metadata": {},
     "output_type": "execute_result"
    },
    {
     "data": {
      "image/png": "[encoded data removed]",
      "text/plain": [
       "<Figure size 1080x1152 with 4 Axes>"
      ]
     },
     "metadata": {
      "needs_background": "light"
     },
     "output_type": "display_data"
    }
   ],
   "source": [
    "fig, axes = plt.subplots(nrows=2, ncols=2, figsize=(15,16))\n",
    "politeness_early.unstack().plot.bar(color = ['red', 'blue', 'purple'], ax=axes[0,0])\n",
    "politeness_mid.unstack().plot.bar(color = ['red', 'blue', 'purple'], ax=axes[0,1])\n",
    "politeness_late.unstack().plot.bar(color = ['red', 'blue', 'purple'], ax=axes[1,0])\n",
    "politeness_dw.unstack().plot.bar(color = ['red', 'blue', 'purple'], ax=axes[1,1])"
   ]
  },
  {
   "cell_type": "markdown",
   "metadata": {},
   "source": [
    "# Significance Tests\n",
    "Are any of these differences significant? Specifically, we'll look at:\n",
    "* Overall, do women use polite words more than men?\n",
    "* Overall, do pros use polite words more than ants?\n",
    "* Within each era, is there a significant difference btw how men and women use politeness?\n",
    "* Across eras, do apology counts change for each gender and role?\n",
    "* Within each company, is there a significant difference btw how men and women use politeness?\n",
    "* Across companies, do politeness/apology counts change for each gender and role?\n",
    "* Overall, do female pros use polite words more than female ants?\n",
    "* Overall, do male pros use polite words more than male ants?"
   ]
  },
  {
   "cell_type": "markdown",
   "metadata": {},
   "source": [
    "## Politeness\n",
    "\n",
    "### Gender\n",
    "#### Gender Overall"
   ]
  },
  {
   "cell_type": "code",
   "execution_count": null,
   "metadata": {},
   "outputs": [],
   "source": []
  }
 ],
 "metadata": {
  "kernelspec": {
   "display_name": "Python 3",
   "language": "python",
   "name": "python3"
  },
  "language_info": {
   "codemirror_mode": {
    "name": "ipython",
    "version": 3
   },
   "file_extension": ".py",
   "mimetype": "text/x-python",
   "name": "python",
   "nbconvert_exporter": "python",
   "pygments_lexer": "ipython3",
   "version": "3.6.4"
  }
 },
 "nbformat": 4,
 "nbformat_minor": 2
}
