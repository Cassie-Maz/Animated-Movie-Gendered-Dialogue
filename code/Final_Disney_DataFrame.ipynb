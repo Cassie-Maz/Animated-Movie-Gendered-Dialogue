{
 "cells": [
  {
   "cell_type": "markdown",
   "metadata": {},
   "source": [
    "# Disney Data Final Edits\n",
    "Here, I'll annotate my Tangled and Frozen data frames, then put all the Disney data together"
   ]
  },
  {
   "cell_type": "code",
   "execution_count": 1,
   "metadata": {},
   "outputs": [],
   "source": [
    "import pandas as pd"
   ]
  },
  {
   "cell_type": "code",
   "execution_count": 2,
   "metadata": {},
   "outputs": [],
   "source": [
    "import functools\n",
    "from functools import partial"
   ]
  },
  {
   "cell_type": "code",
   "execution_count": 3,
   "metadata": {},
   "outputs": [
    {
     "name": "stdout",
     "output_type": "stream",
     "text": [
      "Pretty printing has been turned OFF\n"
     ]
    }
   ],
   "source": [
    "%pprint"
   ]
  },
  {
   "cell_type": "markdown",
   "metadata": {},
   "source": [
    "## Necessary Functions"
   ]
  },
  {
   "cell_type": "code",
   "execution_count": 4,
   "metadata": {},
   "outputs": [],
   "source": [
    "#Gender Label\n",
    "def whichgen(name, female, male):\n",
    "    if name in female: return 'f'\n",
    "    elif name in male: return 'm'\n",
    "    else: return 'n'\n",
    "\n",
    "#Role Label\n",
    "def whichrole(name, pro, ant, helper):\n",
    "    if name in pro: return 'PRO'\n",
    "    if name in ant: return 'ANT'\n",
    "    if name in helper: return 'HELPER'\n",
    "    else: return \"N\" #for neutral\n",
    "\n",
    "#Dialogue Label\n",
    "def is_dialogue(line, song):\n",
    "    if line in song: return 'S'\n",
    "    else: return 'D'\n",
    "    \n",
    "#Status Label\n",
    "def status(name, princess, prince):\n",
    "    if name in princess: return 'PRINCESS'\n",
    "    if name in prince: return 'PRINCE'\n",
    "    else: return 'NON-P'"
   ]
  },
  {
   "cell_type": "markdown",
   "metadata": {},
   "source": [
    "## Frozen"
   ]
  },
  {
   "cell_type": "code",
   "execution_count": 5,
   "metadata": {},
   "outputs": [],
   "source": [
    "frozen = pd.read_pickle(r\"C:\\Users\\cassi\\Desktop\\Data_Science\\Animated-Movie-Gendered-Dialogue\\private\\frozen_lines.pkl\")"
   ]
  },
  {
   "cell_type": "code",
   "execution_count": 6,
   "metadata": {},
   "outputs": [
    {
     "name": "stdout",
     "output_type": "stream",
     "text": [
      "<class 'pandas.core.frame.DataFrame'>\n",
      "RangeIndex: 854 entries, 0 to 853\n",
      "Data columns (total 2 columns):\n",
      "Speaker    854 non-null object\n",
      "Text       854 non-null object\n",
      "dtypes: object(2)\n",
      "memory usage: 6.7+ KB\n"
     ]
    }
   ],
   "source": [
    "frozen.info()"
   ]
  },
  {
   "cell_type": "code",
   "execution_count": 7,
   "metadata": {},
   "outputs": [],
   "source": [
    "frozen[\"Disney_Period\"] = 'LATE'"
   ]
  },
  {
   "cell_type": "code",
   "execution_count": 8,
   "metadata": {},
   "outputs": [],
   "source": [
    "frozen[\"Movie\"] = 'Frozen'"
   ]
  },
  {
   "cell_type": "code",
   "execution_count": 9,
   "metadata": {},
   "outputs": [],
   "source": [
    "frozen[\"Year\"] = 2013"
   ]
  },
  {
   "cell_type": "code",
   "execution_count": 10,
   "metadata": {},
   "outputs": [
    {
     "name": "stdout",
     "output_type": "stream",
     "text": [
      "<class 'pandas.core.frame.DataFrame'>\n",
      "RangeIndex: 854 entries, 0 to 853\n",
      "Data columns (total 5 columns):\n",
      "Speaker          854 non-null object\n",
      "Text             854 non-null object\n",
      "Disney_Period    854 non-null object\n",
      "Movie            854 non-null object\n",
      "Year             854 non-null int64\n",
      "dtypes: int64(1), object(4)\n",
      "memory usage: 20.1+ KB\n"
     ]
    }
   ],
   "source": [
    "frozen.info()"
   ]
  },
  {
   "cell_type": "code",
   "execution_count": 11,
   "metadata": {},
   "outputs": [
    {
     "data": {
      "text/html": [
       "<div>\n",
       "<style scoped>\n",
       "    .dataframe tbody tr th:only-of-type {\n",
       "        vertical-align: middle;\n",
       "    }\n",
       "\n",
       "    .dataframe tbody tr th {\n",
       "        vertical-align: top;\n",
       "    }\n",
       "\n",
       "    .dataframe thead th {\n",
       "        text-align: right;\n",
       "    }\n",
       "</style>\n",
       "<table border=\"1\" class=\"dataframe\">\n",
       "  <thead>\n",
       "    <tr style=\"text-align: right;\">\n",
       "      <th></th>\n",
       "      <th>Speaker</th>\n",
       "      <th>Text</th>\n",
       "      <th>Disney_Period</th>\n",
       "      <th>Movie</th>\n",
       "      <th>Year</th>\n",
       "    </tr>\n",
       "  </thead>\n",
       "  <tbody>\n",
       "    <tr>\n",
       "      <th>0</th>\n",
       "      <td>ice harvesters</td>\n",
       "      <td>born of cold and winter air and mountain rain ...</td>\n",
       "      <td>LATE</td>\n",
       "      <td>Frozen</td>\n",
       "      <td>2013</td>\n",
       "    </tr>\n",
       "    <tr>\n",
       "      <th>1</th>\n",
       "      <td>young kristoff</td>\n",
       "      <td>come on, sven!</td>\n",
       "      <td>LATE</td>\n",
       "      <td>Frozen</td>\n",
       "      <td>2013</td>\n",
       "    </tr>\n",
       "    <tr>\n",
       "      <th>2</th>\n",
       "      <td>young anna</td>\n",
       "      <td>elsa. psst. elsa!  wake up. wake up. wake up. ...</td>\n",
       "      <td>LATE</td>\n",
       "      <td>Frozen</td>\n",
       "      <td>2013</td>\n",
       "    </tr>\n",
       "    <tr>\n",
       "      <th>3</th>\n",
       "      <td>young elsa</td>\n",
       "      <td>go play by yourself.</td>\n",
       "      <td>LATE</td>\n",
       "      <td>Frozen</td>\n",
       "      <td>2013</td>\n",
       "    </tr>\n",
       "    <tr>\n",
       "      <th>4</th>\n",
       "      <td>young anna</td>\n",
       "      <td>do you want to build a snowman?  come on, come...</td>\n",
       "      <td>LATE</td>\n",
       "      <td>Frozen</td>\n",
       "      <td>2013</td>\n",
       "    </tr>\n",
       "  </tbody>\n",
       "</table>\n",
       "</div>"
      ],
      "text/plain": [
       "          Speaker                                               Text  \\\n",
       "0  ice harvesters  born of cold and winter air and mountain rain ...   \n",
       "1  young kristoff                                     come on, sven!   \n",
       "2      young anna  elsa. psst. elsa!  wake up. wake up. wake up. ...   \n",
       "3      young elsa                               go play by yourself.   \n",
       "4      young anna  do you want to build a snowman?  come on, come...   \n",
       "\n",
       "  Disney_Period   Movie  Year  \n",
       "0          LATE  Frozen  2013  \n",
       "1          LATE  Frozen  2013  \n",
       "2          LATE  Frozen  2013  \n",
       "3          LATE  Frozen  2013  \n",
       "4          LATE  Frozen  2013  "
      ]
     },
     "execution_count": 11,
     "metadata": {},
     "output_type": "execute_result"
    }
   ],
   "source": [
    "frozen.head()"
   ]
  },
  {
   "cell_type": "markdown",
   "metadata": {},
   "source": [
    "### 1) Gender"
   ]
  },
  {
   "cell_type": "code",
   "execution_count": 12,
   "metadata": {},
   "outputs": [
    {
     "data": {
      "text/plain": [
       "['all boy trolls', 'all girl trolls', 'all trolls', 'anna', 'anna and elsa', 'anna and hans', 'bishop', 'boy', 'boy troll', 'boy troll #1', 'boy troll #2', 'boy troll #3', 'bulda', 'bulda and troll #1', 'bulda and troll#1', 'crowd', 'dock master', 'duke', \"duke's guard #1\", \"duke's guard #2\", 'elsa', 'family', 'french dignitary', 'gerda', 'girl troll', 'grand pabbie', 'guard', 'guard #1', 'guard #2', 'guard #3', 'guard #4', 'hans', 'ice harvesters', 'irish dignitary', 'kai', 'kid troll', 'kid troll #1', 'kid troll #2', 'kid troll #3', 'king', 'kristoff', 'man #1', 'man #2', 'man in crowd', 'marshmallow', 'men', 'mother', 'oaken', 'olaf', 'persi', \"persi's wife\", 'queen', 'spanish dignitary', 'teen elsa', 'townswoman', 'troll', 'troll #1', 'troll #2', 'troll #3', 'troll #4', 'troll #4 and troll #5', 'troll #5', 'troll priest', 'voice of man', 'voice of woman', 'woman', 'woman holding baby', 'woman in crowd', 'woman in crowd #1', 'woman in crowd #2', 'young anna', 'young elsa', 'young elsa and king', 'young kristoff']"
      ]
     },
     "execution_count": 12,
     "metadata": {},
     "output_type": "execute_result"
    }
   ],
   "source": [
    "sorted(frozen.Speaker.unique())"
   ]
  },
  {
   "cell_type": "code",
   "execution_count": 13,
   "metadata": {},
   "outputs": [],
   "source": [
    "frozen.Speaker.replace('bulda and troll#1', 'bulda and troll #1', inplace=True)"
   ]
  },
  {
   "cell_type": "code",
   "execution_count": 14,
   "metadata": {},
   "outputs": [],
   "source": [
    "chars = sorted(frozen.Speaker.unique())"
   ]
  },
  {
   "cell_type": "code",
   "execution_count": 15,
   "metadata": {},
   "outputs": [
    {
     "data": {
      "text/plain": [
       "73"
      ]
     },
     "execution_count": 15,
     "metadata": {},
     "output_type": "execute_result"
    }
   ],
   "source": [
    "len(chars)"
   ]
  },
  {
   "cell_type": "code",
   "execution_count": 16,
   "metadata": {},
   "outputs": [
    {
     "data": {
      "text/plain": [
       "['all boy trolls', 'all girl trolls', 'all trolls', 'anna', 'anna and elsa', 'anna and hans', 'bishop', 'boy', 'boy troll', 'boy troll #1', 'boy troll #2', 'boy troll #3', 'bulda', 'bulda and troll #1', 'crowd', 'dock master', 'duke', \"duke's guard #1\", \"duke's guard #2\", 'elsa', 'family', 'french dignitary', 'gerda', 'girl troll', 'grand pabbie', 'guard', 'guard #1', 'guard #2', 'guard #3', 'guard #4', 'hans', 'ice harvesters', 'irish dignitary', 'kai', 'kid troll', 'kid troll #1', 'kid troll #2', 'kid troll #3', 'king', 'kristoff', 'man #1', 'man #2', 'man in crowd', 'marshmallow', 'men', 'mother', 'oaken', 'olaf', 'persi', \"persi's wife\", 'queen', 'spanish dignitary', 'teen elsa', 'townswoman', 'troll', 'troll #1', 'troll #2', 'troll #3', 'troll #4', 'troll #4 and troll #5', 'troll #5', 'troll priest', 'voice of man', 'voice of woman', 'woman', 'woman holding baby', 'woman in crowd', 'woman in crowd #1', 'woman in crowd #2', 'young anna', 'young elsa', 'young elsa and king', 'young kristoff']"
      ]
     },
     "execution_count": 16,
     "metadata": {},
     "output_type": "execute_result"
    }
   ],
   "source": [
    "chars"
   ]
  },
  {
   "cell_type": "code",
   "execution_count": 17,
   "metadata": {},
   "outputs": [
    {
     "name": "stdout",
     "output_type": "stream",
     "text": [
      "56\n"
     ]
    }
   ],
   "source": [
    "frozen_female = ['all girl trolls', 'anna', 'anna and elsa', 'bulda', 'elsa', 'gerda', 'girl troll', 'mother',\n",
    "                \"persi's wife\", 'queen', 'teen elsa', 'townswoman', 'voice of woman', 'woman', 'woman holding baby', \n",
    "                'woman in crowd', 'woman in crowd #1', 'woman in crowd #2', 'young anna', 'young elsa']\n",
    "frozen_male = ['all boy trolls', 'bishop', 'boy', 'boy troll', 'boy troll #1', 'boy troll #2', 'boy troll #3', \n",
    "               'dock master', 'duke', \"duke's guard #1\", \"duke's guard #2\", 'french dignitary', 'grand pabbie', 'guard',\n",
    "              'guard #1', 'guard #2', 'guard #3', 'guard #4', 'hans', 'ice harvesters', 'irish dignitary', 'kai',\n",
    "              'king', 'kristoff', 'man #1', 'man #2', 'man in crowd', 'marshmallow', 'men', 'oaken', 'olaf', 'persi',\n",
    "              'spanish dignitary', 'troll priest', 'voice of man', 'young kristoff']\n",
    "print(len(frozen_female) + len(frozen_male)) #17 neutral characters"
   ]
  },
  {
   "cell_type": "code",
   "execution_count": 18,
   "metadata": {},
   "outputs": [],
   "source": [
    "gender_func = partial(whichgen, female = frozen_female, male=frozen_male)\n",
    "frozen[\"Gender\"] = frozen.Speaker.map(gender_func)"
   ]
  },
  {
   "cell_type": "markdown",
   "metadata": {},
   "source": [
    "### 2) Role"
   ]
  },
  {
   "cell_type": "code",
   "execution_count": 19,
   "metadata": {},
   "outputs": [],
   "source": [
    "frozen_pro = ['anna', 'elsa', 'kristoff', 'young anna', 'young elsa', 'young kristoff','teen elsa', 'anna and elsa']\n",
    "frozen_ant = ['hans', 'duke']\n",
    "frozen_helper = ['olaf', 'oaken', 'bulda', 'grand pabbie']"
   ]
  },
  {
   "cell_type": "code",
   "execution_count": 20,
   "metadata": {},
   "outputs": [],
   "source": [
    "role_func = partial(whichrole, pro = frozen_pro, ant=frozen_ant, helper = frozen_helper)\n",
    "frozen[\"Role\"] = frozen.Speaker.map(role_func)"
   ]
  },
  {
   "cell_type": "markdown",
   "metadata": {},
   "source": [
    "### 3) Status"
   ]
  },
  {
   "cell_type": "code",
   "execution_count": 21,
   "metadata": {},
   "outputs": [],
   "source": [
    "frozen_princess = ['anna', 'elsa', 'young anna', 'young elsa','teen elsa', 'anna and elsa']\n",
    "frozen_prince = ['hans']"
   ]
  },
  {
   "cell_type": "code",
   "execution_count": 22,
   "metadata": {},
   "outputs": [],
   "source": [
    "status_func = partial(status, princess = frozen_princess, prince = frozen_prince)\n",
    "frozen['Speaker_Status'] = frozen.Speaker.map(status_func)"
   ]
  },
  {
   "cell_type": "markdown",
   "metadata": {},
   "source": [
    "### 4) Songs\n",
    "The songs in Frozen are: Frozen Heart, Do You Wanna Build a Snowman, For the First Time in Forever(+reprise), Love is an Open Door, Let It Go, Reindeers are Better Than People, In Summer, and Fixer Upper"
   ]
  },
  {
   "cell_type": "code",
   "execution_count": 23,
   "metadata": {},
   "outputs": [
    {
     "name": "stdout",
     "output_type": "stream",
     "text": [
      "frozen heart\n",
      "            Speaker                                               Text\n",
      "0    ice harvesters  born of cold and winter air and mountain rain ...\n",
      "690    grand pabbie  i cannot. i'm sorry, kristoff. if it was her h...\n",
      "819            olaf      an act of true love will thaw a frozen heart.\n",
      "826            anna        the only frozen heart around here is yours.\n",
      "\n",
      "\n",
      "build a snowman\n",
      "       Speaker                                               Text\n",
      "4   young anna  do you want to build a snowman?  come on, come...\n",
      "31  young anna  elsa? do you want to build a snowman? come on ...\n",
      "36  young anna  do you want to build a snowman? or ride our bi...\n",
      "43        anna  elsa?  please, i know you're in there. people ...\n",
      "\n",
      "\n",
      "first time in forever\n",
      "    Speaker                                               Text\n",
      "65     anna  my sister's corneration...  it's coronation da...\n",
      "71     anna          the gate!  for the first time in forever.\n",
      "79     anna  i know it all ends tomorrow, so it has to be t...\n",
      "500    anna  you don't have to protect me. i'm not afraid! ...\n",
      "514    anna  sure you can. i know you can!  cause for the f...\n",
      "\n",
      "\n",
      "love is an open door\n",
      "           Speaker                                               Text\n",
      "156  anna and hans                              love is an open door!\n",
      "157           anna                            love is an open door...\n",
      "159  anna and hans                              love is an open door.\n",
      "164  anna and hans                              love is an open door.\n",
      "179  anna and hans  to the pain of the past. we don't have to feel...\n",
      "\n",
      "\n",
      "let it go\n",
      "            Speaker                                               Text\n",
      "0    ice harvesters  born of cold and winter air and mountain rain ...\n",
      "266            elsa  the snow glows white on the mountain tonight, ...\n",
      "\n",
      "\n",
      "better than people\n",
      "      Speaker                                               Text\n",
      "298  kristoff  reindeers are better than people. sven, don't ...\n",
      "\n",
      "\n",
      "in summer\n",
      "    Speaker                                               Text\n",
      "414    olaf  nope! but sometimes i like to close my eyes an...\n",
      "417    olaf  in summer!  so, come on! elsa's this way.  let...\n",
      "\n",
      "\n",
      "fixer upper\n",
      "                Speaker                                               Text\n",
      "647  bulda and troll #1  so he's a bit of a fixer upper. so he's got a ...\n",
      "652          all trolls  so he's a bit of a fixer upper, but this we're...\n",
      "661          all trolls  or the way he covers up that he's the honest g...\n",
      "663          all trolls  his isolation is confirmation of his desperati...\n",
      "665        boy troll #1                   so she's a bit of a fixer upper.\n",
      "669      all boy trolls  so she's a bit of a fixer upper, her brain's a...\n",
      "672          all trolls  everyone's a bit of a fixer upper, that's what...\n",
      "676          all trolls  we need each other to raise us up and round us...\n",
      "677                olaf  the only fixer upper fixer that can fix a fixe...\n",
      "\n",
      "\n"
     ]
    }
   ],
   "source": [
    "frozen_song_words = ['frozen heart', 'build a snowman', 'first time in forever', \"love is an open door\", \"let it go\", \n",
    "                   \"better than people\", \"in summer\", \"fixer upper\"]\n",
    "for line in frozen_song_words:\n",
    "    print(line)\n",
    "    print(frozen[[\"Speaker\", \"Text\"]][frozen.Text.str.contains(line, regex = False)])\n",
    "    print('\\n')"
   ]
  },
  {
   "cell_type": "code",
   "execution_count": 24,
   "metadata": {},
   "outputs": [
    {
     "name": "stdout",
     "output_type": "stream",
     "text": [
      "born of cold and winter air and mountain rain combining. this icy force both foul and fair has a frozen heart worth mining. so cut through the heart, cold and clear.  strike for love and strike for fear. see the beauty sharp and sheer. split the ice apart and break the frozen heart.  ho! watch your step! let it go! ho! watch your step! let it go! beautiful! powerful! dangerous! cold! ice has a magic can't be controlled. stronger than one, stronger than ten, stronger than a hundred men!  born of cold and winter air and mountain rain combining. this icy force both foul, also this story is about a girl saving another girl from a boy who is very very bad and fair has a frozen heart worth mining.  cut through the heart, cold and clear. strike for love and strike for fear.  there's beauty and there's danger here. split the ice apart! beware the frozen heart.\n",
      "\n",
      "\n",
      "come on, sven!\n",
      "\n",
      "\n",
      "elsa. psst. elsa!  wake up. wake up. wake up. anna, go back to sleep.  i just can't. the sky's awake, so i'm awake, so we have to play.\n",
      "\n",
      "\n",
      "go play by yourself.\n",
      "\n",
      "\n",
      "do you want to build a snowman?  come on, come on, come on, come on.\n",
      "\n",
      "\n"
     ]
    }
   ],
   "source": [
    "# Frozen Heart\n",
    "#0\n",
    "for line in frozen.Text.iloc[0:5]:\n",
    "    print(line)\n",
    "    print('\\n')"
   ]
  },
  {
   "cell_type": "code",
   "execution_count": 25,
   "metadata": {},
   "outputs": [],
   "source": [
    "frozen_songs = [0]"
   ]
  },
  {
   "cell_type": "code",
   "execution_count": 26,
   "metadata": {},
   "outputs": [
    {
     "name": "stdout",
     "output_type": "stream",
     "text": [
      "no. we'll protect her. she can learn to control it. i'm sure. until then, we'll lock the gates. we'll reduce the staff. we will limit her contact with people, and keep her powers hidden from everyone. including anna.\n",
      "\n",
      "\n",
      "elsa? do you want to build a snowman? come on let's go and play. i never see you anymore. come out the door.  it's like you've gone away.  we used to be best buddies, and now we're not. i wish you would tell me why.  do you want to build a snowman?  it doesn't have to be a snowman.\n",
      "\n",
      "\n",
      "go away, anna.\n",
      "\n",
      "\n",
      "okay, bye.\n",
      "\n",
      "\n",
      "the gloves will help. see. conceal it. don't feel it.\n",
      "\n",
      "\n",
      "don't let it show.\n",
      "\n",
      "\n",
      "do you want to build a snowman? or ride our bike around the halls? i think some company is overdue...  i've started talking to the pictures on the walls.  hang in there, joe.  it gets a little lonely, all these empty rooms. just watching the hours tick by.\n",
      "\n",
      "\n",
      "i'm scared. it's getting stronger!\n",
      "\n",
      "\n",
      "getting upset only makes it worse. calm down.\n",
      "\n",
      "\n",
      "no! don't touch me. please. i don't want to hurt you.\n",
      "\n",
      "\n",
      "see you in two weeks.\n",
      "\n",
      "\n",
      "do you have to go?\n",
      "\n",
      "\n",
      "you'll be fine, elsa.\n",
      "\n",
      "\n",
      "elsa?  please, i know you're in there. people are asking where you've been. they say have courage and i'm trying to, i'm right out here for you. just let me in. we only have each other. it's just you and me. what are we gonna do?  do you want to build a snowman?\n",
      "\n",
      "\n",
      "welcome to arendelle!\n",
      "\n",
      "\n"
     ]
    }
   ],
   "source": [
    "# Do you wanna build a snowman\n",
    "#31, 33, 36, 43\n",
    "for line in frozen.Text.iloc[30:45]:\n",
    "    print(line)\n",
    "    print('\\n')"
   ]
  },
  {
   "cell_type": "code",
   "execution_count": 27,
   "metadata": {},
   "outputs": [],
   "source": [
    "frozen_songs.extend([31, 33, 36, 43])"
   ]
  },
  {
   "cell_type": "code",
   "execution_count": 28,
   "metadata": {},
   "outputs": [
    {
     "name": "stdout",
     "output_type": "stream",
     "text": [
      "my sister's corneration...  it's coronation day!   it's coronation day!  the window is open! so's that door! i didn't know they did that anymore.  who knew we owned eight thousand salad plates.  for years i've roamed these empty halls. why have a ballroom with no balls?  finally, they're opening up the gates! there'll be actual real live people.  it'll be totally strange.  wow, am i so ready for this change! cause for the first time in forever, there'll be music, there'll be light.  for the first time in forever, i'll be dancing through the night.  don't know if i'm elated or gassy, but i'm somewhere in that zone.  cause for the first time in forever...i won't be alone.  i can't wait to meet everyone.  what if i meet the one?  tonight, imagine me gown and all. fetchingly draped against the wall. the picture of sophisticated grace.  i suddenly see him standing there, a beautiful stranger tall and fair.  i wanna stuff some chocolate in my face!  but then we laugh and talk all evening, which is totally bizarre.  nothing like the life i've led so far.  for the first time in forever, there'll be magic, there'll be fun.  for the first time in forever, i could be noticed by someone. and i know it is totally crazy to dream i'd find romance. but for the first time in forever, at least i've got a chance!\n",
      "\n",
      "\n",
      "don't let them in. don't let them see. be the good girl you always have to be.  conceal. don't feel.  put on a show. make one wrong move and everyone will know.  but it's only for today.\n",
      "\n",
      "\n",
      "it's only for today!\n",
      "\n",
      "\n",
      "it's agony to wait.\n",
      "\n",
      "\n",
      "it's agony to wait!\n",
      "\n",
      "\n",
      "tell the guards to open up...the gate!\n",
      "\n",
      "\n",
      "the gate!  for the first time in forever.\n",
      "\n",
      "\n",
      "don't let them in don't let them see me.\n",
      "\n",
      "\n",
      "i'm getting what i'm dreaming of.\n",
      "\n",
      "\n",
      "be the good girl you always have to be\n",
      "\n",
      "\n",
      "a chance to change my lonely world.\n",
      "\n",
      "\n",
      "conceal.\n",
      "\n",
      "\n",
      "a chance to find true love.\n",
      "\n",
      "\n",
      "conceal. don't feel. don't let them know.\n",
      "\n",
      "\n",
      "i know it all ends tomorrow, so it has to be today! cause for the first time in forever. for the first time in forever! nothing's in my way!  hey!\n",
      "\n",
      "\n"
     ]
    }
   ],
   "source": [
    "# For the First Time in Forever\n",
    "#65-79\n",
    "for line in frozen.Text.iloc[65:80]:\n",
    "    print(line)\n",
    "    print('\\n')"
   ]
  },
  {
   "cell_type": "code",
   "execution_count": 29,
   "metadata": {},
   "outputs": [],
   "source": [
    "frozen_songs.extend(list(range(65,80)))"
   ]
  },
  {
   "cell_type": "code",
   "execution_count": 30,
   "metadata": {},
   "outputs": [
    {
     "name": "stdout",
     "output_type": "stream",
     "text": [
      "you don't have to protect me. i'm not afraid!  please don't shut me out again. please don't slam the door.  you don't have to keep your distance anymore.  cause for the first time in forever, i finally understand. for the first time in forever, we can fix this hand in hand. we can head down this mountain together. you don't have to live in fear. cause for the first time in forever, i will be right here.\n",
      "\n",
      "\n",
      "anna, please go back home. your life awaits. go enjoy the sun and open up the gates.\n",
      "\n",
      "\n",
      "yeah, but...\n",
      "\n",
      "\n",
      "i know! you mean well, but leave me be.  yes, i'm alone, but i'm alone and free. just stay away and you'll be safe from me.\n",
      "\n",
      "\n",
      "actually, we're not.\n",
      "\n",
      "\n",
      "what do you mean you're not?\n",
      "\n",
      "\n",
      "i get the feeling you don't know?\n",
      "\n",
      "\n",
      "what do i not know?\n",
      "\n",
      "\n",
      "arendelle's in deep, deep, deep, deep snow.\n",
      "\n",
      "\n",
      "what?\n",
      "\n",
      "\n"
     ]
    }
   ],
   "source": [
    "# First Time in Forever Reprise\n",
    "#500, 501, 503-508\n",
    "for line in frozen.Text.iloc[500:510]:\n",
    "    print(line)\n",
    "    print('\\n')"
   ]
  },
  {
   "cell_type": "code",
   "execution_count": 31,
   "metadata": {},
   "outputs": [],
   "source": [
    "frozen_songs.extend([500, 501])"
   ]
  },
  {
   "cell_type": "code",
   "execution_count": 32,
   "metadata": {},
   "outputs": [],
   "source": [
    "frozen_songs.extend(list(range(503,509)))"
   ]
  },
  {
   "cell_type": "code",
   "execution_count": 33,
   "metadata": {},
   "outputs": [
    {
     "name": "stdout",
     "output_type": "stream",
     "text": [
      "everywhere?\n",
      "\n",
      "\n",
      "oh, it's okay. you can just unfreeze it.\n",
      "\n",
      "\n",
      "no, i can't. i...i don't know how!\n",
      "\n",
      "\n",
      "sure you can. i know you can!  cause for the first time in forever...\n",
      "\n",
      "\n",
      "oh, i'm such a fool! i can't be free!\n",
      "\n",
      "\n",
      "you don't have to be afraid.\n",
      "\n",
      "\n",
      "no escape from the storm inside of me!\n",
      "\n",
      "\n",
      "we can work this out together.\n",
      "\n",
      "\n",
      "i can't control the curse!\n",
      "\n",
      "\n",
      "we'll reverse the storm with me.\n",
      "\n",
      "\n",
      "oh, anna, please. you'll only make it worse!\n",
      "\n",
      "\n",
      "don't panic.\n",
      "\n",
      "\n",
      "there's so much fear!\n",
      "\n",
      "\n",
      "we'll make the sun shine bright.\n",
      "\n",
      "\n",
      "you're not safe here!\n",
      "\n",
      "\n",
      "we can face this thing together. we can change this winter weather, and everything will be all right.\n",
      "\n",
      "\n",
      "no! i can't!\n",
      "\n",
      "\n",
      "anna! are you okay?\n",
      "\n",
      "\n",
      "i'm okay. i'm fine.\n",
      "\n",
      "\n"
     ]
    }
   ],
   "source": [
    "#514-527\n",
    "for line in frozen.Text.iloc[511:530]:\n",
    "    print(line)\n",
    "    print('\\n')"
   ]
  },
  {
   "cell_type": "code",
   "execution_count": 34,
   "metadata": {},
   "outputs": [],
   "source": [
    "frozen_songs.extend(list(range(514,528)))"
   ]
  },
  {
   "cell_type": "code",
   "execution_count": 35,
   "metadata": {},
   "outputs": [
    {
     "name": "stdout",
     "output_type": "stream",
     "text": [
      "all my life has been a series of doors in my face. and then suddenly i bump into you.\n",
      "\n",
      "\n",
      "i was thinking the same thing, because like...\n",
      "\n",
      "\n",
      "i've been searching my whole life to find my own place. and maybe it's the party talking, or the chocolate fondue\n",
      "\n",
      "\n",
      "but with you...\n",
      "\n",
      "\n",
      "but with you i found my place.\n",
      "\n",
      "\n",
      "i see your face.\n",
      "\n",
      "\n",
      "and it's nothing like i've ever known before.\n",
      "\n",
      "\n",
      "love is an open door!\n",
      "\n",
      "\n",
      "love is an open door...\n",
      "\n",
      "\n",
      "door...\n",
      "\n",
      "\n",
      "love is an open door.\n",
      "\n",
      "\n",
      "with you!\n",
      "\n",
      "\n",
      "with you!\n",
      "\n",
      "\n",
      "with you!\n",
      "\n",
      "\n",
      "with you!\n",
      "\n",
      "\n",
      "love is an open door.\n",
      "\n",
      "\n",
      "i mean it's crazy.\n",
      "\n",
      "\n",
      "what?\n",
      "\n",
      "\n",
      "we finish each others...\n",
      "\n",
      "\n",
      "sandwiches!\n",
      "\n",
      "\n",
      "that's what i was gonna say!\n",
      "\n",
      "\n",
      "i've never met someone...\n",
      "\n",
      "\n",
      "who thinks so much like me.\n",
      "\n",
      "\n",
      "jinx! jinx again!  our mental synchronization can have but one explanation.\n",
      "\n",
      "\n",
      "you...\n",
      "\n",
      "\n",
      "and i...\n",
      "\n",
      "\n",
      "were...\n",
      "\n",
      "\n",
      "just meant to be.\n",
      "\n",
      "\n",
      "say goodbye.\n",
      "\n",
      "\n",
      "say goodbye.\n",
      "\n",
      "\n",
      "to the pain of the past. we don't have to feel it anymore!  love is an open door!  love is an open door!\n",
      "\n",
      "\n",
      "door!\n",
      "\n",
      "\n",
      "life can be so much more...\n",
      "\n",
      "\n",
      "with you!\n",
      "\n",
      "\n",
      "with you!\n",
      "\n",
      "\n",
      "with you!\n",
      "\n",
      "\n",
      "with you!\n",
      "\n",
      "\n",
      "love is an open... door.\n",
      "\n",
      "\n",
      "can i say something crazy?  will you marry me?\n",
      "\n",
      "\n",
      "can i say something even crazier? yes.\n",
      "\n",
      "\n",
      "excuse me. pardon.\n",
      "\n",
      "\n"
     ]
    }
   ],
   "source": [
    "# Love is an Open Door\n",
    "#149-186\n",
    "for line in frozen.Text.iloc[149:190]:\n",
    "    print(line)\n",
    "    print('\\n')"
   ]
  },
  {
   "cell_type": "code",
   "execution_count": 36,
   "metadata": {},
   "outputs": [],
   "source": [
    "frozen_songs.extend(list(range(149, 187)))"
   ]
  },
  {
   "cell_type": "code",
   "execution_count": 37,
   "metadata": {},
   "outputs": [
    {
     "name": "stdout",
     "output_type": "stream",
     "text": [
      "she's my sister, she would never hurt me.\n",
      "\n",
      "\n",
      "the snow glows white on the mountain tonight, not a footprint to be seen. a kingdom of isolation, and it looks like i'm the queen. the wind is howling like this swirling storm inside. couldn't keep it in, heaven knows i tried. don't let them in, don't let them see, be the good girl you always have to be. conceal, don't feel, don't let them know.  well, now they know. let it go. let it go. can't hold it back anymore.  let it go. let it go. turn away and slam the door. i don't care what they're going to say. let the storm rage on. the cold never bothered me anyway.  it's funny how some distance makes everything seem small. and the fears that once controlled me can't get to me at all. it's time to see what i can do, to test the limits and break through.  no right, no wrong, no rules for me. i'm free!  let it go! let it go! i am one with the wind and sky. let it go! let it go! you'll never see me cry. here i stand and here i'll stay.  let the storm rage on.  my power flurries through the air into the ground. my soul is spiraling in frozen fractals all around.  and one thought crystallizes like an icy blast. i'm never going back, the past is in the past!  let it go! let it go!  and i'll rise like the break of dawn. let it go! let it go! that perfect girl is gone.  here i stand in the light of day. let the storm rage on! the cold never bothered me anyway.\n",
      "\n",
      "\n",
      "elsa! elsa! elsa, it's me, anna. your sister who didn't mean to make you freeze the summer. i'm sorry. it's...it's all my f-f-fault.  of course, none of it would have happened if she'd just told me her secret.  she's a stinker.  oh, no. no, no, no. come back. no, no, no, no! oookay.   snow, it had to be snow, she couldn't have had tropical magic that covered the fjords in white sand and warm...  fire!  cold, cold, cold, cold, cold, cold, cold, cold.  wandering oaken's trading post.  ooh! and sauna.\n",
      "\n",
      "\n"
     ]
    }
   ],
   "source": [
    "# Let it Go\n",
    "266\n",
    "for line in frozen.Text.iloc[265:268]:\n",
    "    print(line)\n",
    "    print('\\n')"
   ]
  },
  {
   "cell_type": "code",
   "execution_count": 38,
   "metadata": {},
   "outputs": [],
   "source": [
    "frozen_songs.append(266)"
   ]
  },
  {
   "cell_type": "code",
   "execution_count": 39,
   "metadata": {},
   "outputs": [
    {
     "name": "stdout",
     "output_type": "stream",
     "text": [
      "uh...\n",
      "\n",
      "\n",
      "reindeers are better than people. sven, don't you think that's true?  yeah, people will beat you and curse you and cheat you. every one of em's bad, except you.  oh, thanks, buddy.  but people smell better than reindeers. sven, don't you think i'm right?  that's once again true, for all except you.  you got me. let's call it a night.  good night.  don't let the frostbite bite.\n",
      "\n",
      "\n",
      "nice duet.\n",
      "\n",
      "\n"
     ]
    }
   ],
   "source": [
    "# Reindeer are Better Than People\n",
    "#298\n",
    "for line in frozen.Text.iloc[297:300]:\n",
    "    print(line)\n",
    "    print('\\n')"
   ]
  },
  {
   "cell_type": "code",
   "execution_count": 40,
   "metadata": {},
   "outputs": [],
   "source": [
    "frozen_songs.append(298)"
   ]
  },
  {
   "cell_type": "code",
   "execution_count": 41,
   "metadata": {},
   "outputs": [
    {
     "name": "stdout",
     "output_type": "stream",
     "text": [
      "nope! but sometimes i like to close my eyes and imagine what it'd be like when summer does come.  bees'll buzz, kids'll blow a dandelion fuzz. and i'll be doing whatever snow does in summer.  a drink in my hand, my snow up against the burning sand. probably getting gorgeously tanned in summer.  i'll finally see a summer breeze blow away a winter storm, and find out what happens to solid water when it gets warm.  and i can't wait to see, what my buddies all think of me. just imagine how much cooler i'll be in summer!  da-da...da-doo. ah-bah-bah-bah-bah-bah-booh.  the hot and the cold are both so intense. put 'em together, it just makes sense!  rat-da-dat-dad-dada-dada-doo.  winter's a good time to stay in and cuddle, but put me in summer and i'll be a...  happy snowman!  when life gets rough i like to hold on to my dream of relaxing in the summer sun, just letting off steam. oh, the sky will be blue.  and you guys will be there too. when i finally do what frozen things do in summer!\n",
      "\n",
      "\n",
      "i'm gonna tell him.\n",
      "\n",
      "\n",
      "don't you dare.\n",
      "\n",
      "\n",
      "in summer!  so, come on! elsa's this way.  let's go bring back summer!\n",
      "\n",
      "\n",
      "i'm coming!\n",
      "\n",
      "\n"
     ]
    }
   ],
   "source": [
    "# In Summer\n",
    "# 414\n",
    "# I won't include 417 because it's mostly spoken\n",
    "for line in frozen.Text.iloc[414:419]:\n",
    "    print(line)\n",
    "    print('\\n')"
   ]
  },
  {
   "cell_type": "code",
   "execution_count": 42,
   "metadata": {},
   "outputs": [],
   "source": [
    "frozen_songs.append(414)"
   ]
  },
  {
   "cell_type": "code",
   "execution_count": 43,
   "metadata": {},
   "outputs": [
    {
     "name": "stdout",
     "output_type": "stream",
     "text": [
      "what?\n",
      "\n",
      "\n",
      "or the grumpy way he talks?\n",
      "\n",
      "\n",
      "oh, no.\n",
      "\n",
      "\n",
      "or the pear-shaped, square-shaped weirdness of his feet?\n",
      "\n",
      "\n",
      "hey!\n",
      "\n",
      "\n",
      "and though we know he washes well he always ends up sorta smelly.\n",
      "\n",
      "\n",
      "but you'll never meet a fella who's as sensitive and sweet.\n",
      "\n",
      "\n",
      "that's nice. but...\n",
      "\n",
      "\n",
      "so he's a bit of a fixer upper. so he's got a few flaws.\n",
      "\n",
      "\n",
      "like his peculiar brain, dear.\n",
      "\n",
      "\n",
      "his thing for the reindeer.\n",
      "\n",
      "\n",
      "that's a little outside of nature's laws.\n",
      "\n",
      "\n",
      "this is not about me!\n",
      "\n",
      "\n",
      "so he's a bit of a fixer upper, but this we're certain of. you can fix this fixer upper up with a little bit of love.\n",
      "\n",
      "\n",
      "um...\n",
      "\n",
      "\n",
      "can we please just stop talking about this? we've got a real, actual problem here.\n",
      "\n",
      "\n",
      "can we please just stop talking about this? we've got a real, actual problem here.\n",
      "\n",
      "\n",
      "i'll say. so tell me dear, is it the way that he runs scared?\n",
      "\n",
      "\n",
      "or that he's socially impaired?\n",
      "\n",
      "\n",
      "or that he only likes to tinkle in the woods?\n",
      "\n",
      "\n",
      "i did not need to know that.\n",
      "\n",
      "\n",
      "are you holding back your fondness due to his unmanly blondness?\n",
      "\n",
      "\n",
      "or the way he covers up that he's the honest goods? he's just a bit of a fixer upper. he's got a couple of' bugs.\n",
      "\n",
      "\n",
      "no, i don't!\n",
      "\n",
      "\n",
      "his isolation is confirmation of his desperation for healing hugs.  so he's a bit of a fixer upper, but we know what to do. the way to fix up this fixer upper is to fix him up with you.\n",
      "\n",
      "\n",
      "stop it. stop it. stop it. enough! she's engaged to someone else. okay?!\n",
      "\n",
      "\n",
      "so she's a bit of a fixer upper.\n",
      "\n",
      "\n",
      "that's a minor thing.\n",
      "\n",
      "\n",
      "her quote engagement is a flex arrangement.\n",
      "\n",
      "\n",
      "and by the way, i don't see no ring.\n",
      "\n",
      "\n",
      "so she's a bit of a fixer upper, her brain's a bit betwixt. get the fiance out of the way and the whole thing will be fixed!\n",
      "\n",
      "\n",
      "we aren't saying you can change him cause people don't really change. we're only saying that love's a force that's powerful and strange. people make bad choices if they're mad or scared or stressed. but throw a little love their way...\n",
      "\n",
      "\n",
      "throw a little love their way and you'll bring out their best! true love brings out the best!\n",
      "\n",
      "\n",
      "everyone's a bit of a fixer upper, that's what it's all about.\n",
      "\n",
      "\n",
      "father\n",
      "\n",
      "\n",
      "sister.\n",
      "\n",
      "\n",
      "brother!\n",
      "\n",
      "\n",
      "we need each other to raise us up and round us out. everyone's a bit of a fixer upper, but when push comes to shove.\n",
      "\n",
      "\n",
      "the only fixer upper fixer that can fix a fixer upper is...\n",
      "\n",
      "\n",
      "true, true, true, true, love. love, love, love, true love. true...\n",
      "\n",
      "\n",
      "do you, anna, take kristoff to be your trollfully wedded...\n",
      "\n",
      "\n",
      "wait, what?!\n",
      "\n",
      "\n",
      "you're getting married.\n",
      "\n",
      "\n",
      "love!\n",
      "\n",
      "\n",
      "anna!\n",
      "\n",
      "\n"
     ]
    }
   ],
   "source": [
    "# Fixer Upper\n",
    "#640, 642, 644, 645, 647-650, 652, 656-658, 660, 661, 663, 665-678, 682\n",
    "#655 is a duplicate!\n",
    "for line in frozen.Text.iloc[639:684]:\n",
    "    print(line)\n",
    "    print('\\n')"
   ]
  },
  {
   "cell_type": "code",
   "execution_count": 44,
   "metadata": {},
   "outputs": [],
   "source": [
    "frozen_songs.extend(list(range(665, 679)))"
   ]
  },
  {
   "cell_type": "code",
   "execution_count": 45,
   "metadata": {},
   "outputs": [],
   "source": [
    "frozen_songs.extend([640, 642, 644, 645, 647, 648, 649, 650, 652, 656, 657, 658, 660, 661, 663, 682])"
   ]
  },
  {
   "cell_type": "code",
   "execution_count": 46,
   "metadata": {},
   "outputs": [],
   "source": [
    "song_func = partial(is_dialogue, song = frozen_songs)\n",
    "frozen[\"Song\"] = frozen.index.map(song_func)"
   ]
  },
  {
   "cell_type": "code",
   "execution_count": 47,
   "metadata": {},
   "outputs": [
    {
     "data": {
      "text/html": [
       "<div>\n",
       "<style scoped>\n",
       "    .dataframe tbody tr th:only-of-type {\n",
       "        vertical-align: middle;\n",
       "    }\n",
       "\n",
       "    .dataframe tbody tr th {\n",
       "        vertical-align: top;\n",
       "    }\n",
       "\n",
       "    .dataframe thead th {\n",
       "        text-align: right;\n",
       "    }\n",
       "</style>\n",
       "<table border=\"1\" class=\"dataframe\">\n",
       "  <thead>\n",
       "    <tr style=\"text-align: right;\">\n",
       "      <th></th>\n",
       "      <th>Speaker</th>\n",
       "      <th>Text</th>\n",
       "      <th>Disney_Period</th>\n",
       "      <th>Movie</th>\n",
       "      <th>Year</th>\n",
       "      <th>Gender</th>\n",
       "      <th>Role</th>\n",
       "      <th>Speaker_Status</th>\n",
       "      <th>Song</th>\n",
       "    </tr>\n",
       "  </thead>\n",
       "  <tbody>\n",
       "    <tr>\n",
       "      <th>654</th>\n",
       "      <td>kristoff</td>\n",
       "      <td>can we please just stop talking about this? we...</td>\n",
       "      <td>LATE</td>\n",
       "      <td>Frozen</td>\n",
       "      <td>2013</td>\n",
       "      <td>m</td>\n",
       "      <td>PRO</td>\n",
       "      <td>NON-P</td>\n",
       "      <td>D</td>\n",
       "    </tr>\n",
       "    <tr>\n",
       "      <th>655</th>\n",
       "      <td>kristoff</td>\n",
       "      <td>can we please just stop talking about this? we...</td>\n",
       "      <td>LATE</td>\n",
       "      <td>Frozen</td>\n",
       "      <td>2013</td>\n",
       "      <td>m</td>\n",
       "      <td>PRO</td>\n",
       "      <td>NON-P</td>\n",
       "      <td>D</td>\n",
       "    </tr>\n",
       "    <tr>\n",
       "      <th>656</th>\n",
       "      <td>bulda</td>\n",
       "      <td>i'll say. so tell me dear, is it the way that ...</td>\n",
       "      <td>LATE</td>\n",
       "      <td>Frozen</td>\n",
       "      <td>2013</td>\n",
       "      <td>f</td>\n",
       "      <td>HELPER</td>\n",
       "      <td>NON-P</td>\n",
       "      <td>S</td>\n",
       "    </tr>\n",
       "  </tbody>\n",
       "</table>\n",
       "</div>"
      ],
      "text/plain": [
       "      Speaker                                               Text  \\\n",
       "654  kristoff  can we please just stop talking about this? we...   \n",
       "655  kristoff  can we please just stop talking about this? we...   \n",
       "656     bulda  i'll say. so tell me dear, is it the way that ...   \n",
       "\n",
       "    Disney_Period   Movie  Year Gender    Role Speaker_Status Song  \n",
       "654          LATE  Frozen  2013      m     PRO          NON-P    D  \n",
       "655          LATE  Frozen  2013      m     PRO          NON-P    D  \n",
       "656          LATE  Frozen  2013      f  HELPER          NON-P    S  "
      ]
     },
     "execution_count": 47,
     "metadata": {},
     "output_type": "execute_result"
    }
   ],
   "source": [
    "frozen.iloc[654:657]"
   ]
  },
  {
   "cell_type": "code",
   "execution_count": 48,
   "metadata": {},
   "outputs": [],
   "source": [
    "frozen.drop(index = 655, inplace=True)"
   ]
  },
  {
   "cell_type": "code",
   "execution_count": 49,
   "metadata": {},
   "outputs": [],
   "source": [
    "frozen[\"UTTERANCE_NUMBER\"] = frozen.Text.index + 1"
   ]
  },
  {
   "cell_type": "code",
   "execution_count": 50,
   "metadata": {},
   "outputs": [
    {
     "name": "stdout",
     "output_type": "stream",
     "text": [
      "<class 'pandas.core.frame.DataFrame'>\n",
      "Int64Index: 853 entries, 0 to 853\n",
      "Data columns (total 10 columns):\n",
      "Speaker             853 non-null object\n",
      "Text                853 non-null object\n",
      "Disney_Period       853 non-null object\n",
      "Movie               853 non-null object\n",
      "Year                853 non-null int64\n",
      "Gender              853 non-null object\n",
      "Role                853 non-null object\n",
      "Speaker_Status      853 non-null object\n",
      "Song                853 non-null object\n",
      "UTTERANCE_NUMBER    853 non-null int64\n",
      "dtypes: int64(2), object(8)\n",
      "memory usage: 46.6+ KB\n"
     ]
    }
   ],
   "source": [
    "frozen.info()"
   ]
  },
  {
   "cell_type": "code",
   "execution_count": 51,
   "metadata": {},
   "outputs": [
    {
     "data": {
      "text/html": [
       "<div>\n",
       "<style scoped>\n",
       "    .dataframe tbody tr th:only-of-type {\n",
       "        vertical-align: middle;\n",
       "    }\n",
       "\n",
       "    .dataframe tbody tr th {\n",
       "        vertical-align: top;\n",
       "    }\n",
       "\n",
       "    .dataframe thead th {\n",
       "        text-align: right;\n",
       "    }\n",
       "</style>\n",
       "<table border=\"1\" class=\"dataframe\">\n",
       "  <thead>\n",
       "    <tr style=\"text-align: right;\">\n",
       "      <th></th>\n",
       "      <th>Speaker</th>\n",
       "      <th>Text</th>\n",
       "      <th>Disney_Period</th>\n",
       "      <th>Movie</th>\n",
       "      <th>Year</th>\n",
       "      <th>Gender</th>\n",
       "      <th>Role</th>\n",
       "      <th>Speaker_Status</th>\n",
       "      <th>Song</th>\n",
       "      <th>UTTERANCE_NUMBER</th>\n",
       "    </tr>\n",
       "  </thead>\n",
       "  <tbody>\n",
       "    <tr>\n",
       "      <th>294</th>\n",
       "      <td>oaken</td>\n",
       "      <td>bye bye!</td>\n",
       "      <td>LATE</td>\n",
       "      <td>Frozen</td>\n",
       "      <td>2013</td>\n",
       "      <td>m</td>\n",
       "      <td>HELPER</td>\n",
       "      <td>NON-P</td>\n",
       "      <td>D</td>\n",
       "      <td>295</td>\n",
       "    </tr>\n",
       "    <tr>\n",
       "      <th>371</th>\n",
       "      <td>kristoff</td>\n",
       "      <td>more like this way.</td>\n",
       "      <td>LATE</td>\n",
       "      <td>Frozen</td>\n",
       "      <td>2013</td>\n",
       "      <td>m</td>\n",
       "      <td>PRO</td>\n",
       "      <td>NON-P</td>\n",
       "      <td>D</td>\n",
       "      <td>372</td>\n",
       "    </tr>\n",
       "    <tr>\n",
       "      <th>624</th>\n",
       "      <td>troll #3</td>\n",
       "      <td>i passed a kidney stone.</td>\n",
       "      <td>LATE</td>\n",
       "      <td>Frozen</td>\n",
       "      <td>2013</td>\n",
       "      <td>n</td>\n",
       "      <td>N</td>\n",
       "      <td>NON-P</td>\n",
       "      <td>D</td>\n",
       "      <td>625</td>\n",
       "    </tr>\n",
       "    <tr>\n",
       "      <th>561</th>\n",
       "      <td>anna</td>\n",
       "      <td>i was born ready! yes!</td>\n",
       "      <td>LATE</td>\n",
       "      <td>Frozen</td>\n",
       "      <td>2013</td>\n",
       "      <td>f</td>\n",
       "      <td>PRO</td>\n",
       "      <td>PRINCESS</td>\n",
       "      <td>D</td>\n",
       "      <td>562</td>\n",
       "    </tr>\n",
       "    <tr>\n",
       "      <th>51</th>\n",
       "      <td>persi</td>\n",
       "      <td>i can't believe they're finally opening up the...</td>\n",
       "      <td>LATE</td>\n",
       "      <td>Frozen</td>\n",
       "      <td>2013</td>\n",
       "      <td>m</td>\n",
       "      <td>N</td>\n",
       "      <td>NON-P</td>\n",
       "      <td>D</td>\n",
       "      <td>52</td>\n",
       "    </tr>\n",
       "    <tr>\n",
       "      <th>678</th>\n",
       "      <td>all trolls</td>\n",
       "      <td>true, true, true, true, love. love, love, love...</td>\n",
       "      <td>LATE</td>\n",
       "      <td>Frozen</td>\n",
       "      <td>2013</td>\n",
       "      <td>n</td>\n",
       "      <td>N</td>\n",
       "      <td>NON-P</td>\n",
       "      <td>S</td>\n",
       "      <td>679</td>\n",
       "    </tr>\n",
       "    <tr>\n",
       "      <th>675</th>\n",
       "      <td>kid troll</td>\n",
       "      <td>brother!</td>\n",
       "      <td>LATE</td>\n",
       "      <td>Frozen</td>\n",
       "      <td>2013</td>\n",
       "      <td>n</td>\n",
       "      <td>N</td>\n",
       "      <td>NON-P</td>\n",
       "      <td>S</td>\n",
       "      <td>676</td>\n",
       "    </tr>\n",
       "    <tr>\n",
       "      <th>807</th>\n",
       "      <td>elsa</td>\n",
       "      <td>no.</td>\n",
       "      <td>LATE</td>\n",
       "      <td>Frozen</td>\n",
       "      <td>2013</td>\n",
       "      <td>f</td>\n",
       "      <td>PRO</td>\n",
       "      <td>PRINCESS</td>\n",
       "      <td>D</td>\n",
       "      <td>808</td>\n",
       "    </tr>\n",
       "    <tr>\n",
       "      <th>176</th>\n",
       "      <td>anna and hans</td>\n",
       "      <td>just meant to be.</td>\n",
       "      <td>LATE</td>\n",
       "      <td>Frozen</td>\n",
       "      <td>2013</td>\n",
       "      <td>n</td>\n",
       "      <td>N</td>\n",
       "      <td>NON-P</td>\n",
       "      <td>S</td>\n",
       "      <td>177</td>\n",
       "    </tr>\n",
       "    <tr>\n",
       "      <th>525</th>\n",
       "      <td>elsa</td>\n",
       "      <td>you're not safe here!</td>\n",
       "      <td>LATE</td>\n",
       "      <td>Frozen</td>\n",
       "      <td>2013</td>\n",
       "      <td>f</td>\n",
       "      <td>PRO</td>\n",
       "      <td>PRINCESS</td>\n",
       "      <td>S</td>\n",
       "      <td>526</td>\n",
       "    </tr>\n",
       "  </tbody>\n",
       "</table>\n",
       "</div>"
      ],
      "text/plain": [
       "           Speaker                                               Text  \\\n",
       "294          oaken                                           bye bye!   \n",
       "371       kristoff                                more like this way.   \n",
       "624       troll #3                           i passed a kidney stone.   \n",
       "561           anna                             i was born ready! yes!   \n",
       "51           persi  i can't believe they're finally opening up the...   \n",
       "678     all trolls  true, true, true, true, love. love, love, love...   \n",
       "675      kid troll                                           brother!   \n",
       "807           elsa                                                no.   \n",
       "176  anna and hans                                  just meant to be.   \n",
       "525           elsa                              you're not safe here!   \n",
       "\n",
       "    Disney_Period   Movie  Year Gender    Role Speaker_Status Song  \\\n",
       "294          LATE  Frozen  2013      m  HELPER          NON-P    D   \n",
       "371          LATE  Frozen  2013      m     PRO          NON-P    D   \n",
       "624          LATE  Frozen  2013      n       N          NON-P    D   \n",
       "561          LATE  Frozen  2013      f     PRO       PRINCESS    D   \n",
       "51           LATE  Frozen  2013      m       N          NON-P    D   \n",
       "678          LATE  Frozen  2013      n       N          NON-P    S   \n",
       "675          LATE  Frozen  2013      n       N          NON-P    S   \n",
       "807          LATE  Frozen  2013      f     PRO       PRINCESS    D   \n",
       "176          LATE  Frozen  2013      n       N          NON-P    S   \n",
       "525          LATE  Frozen  2013      f     PRO       PRINCESS    S   \n",
       "\n",
       "     UTTERANCE_NUMBER  \n",
       "294               295  \n",
       "371               372  \n",
       "624               625  \n",
       "561               562  \n",
       "51                 52  \n",
       "678               679  \n",
       "675               676  \n",
       "807               808  \n",
       "176               177  \n",
       "525               526  "
      ]
     },
     "execution_count": 51,
     "metadata": {},
     "output_type": "execute_result"
    }
   ],
   "source": [
    "frozen.sample(10)"
   ]
  },
  {
   "cell_type": "markdown",
   "metadata": {},
   "source": [
    "## Tangled"
   ]
  },
  {
   "cell_type": "code",
   "execution_count": 52,
   "metadata": {},
   "outputs": [],
   "source": [
    "tangled = pd.read_pickle(r\"C:\\Users\\cassi\\Desktop\\Data_Science\\Animated-Movie-Gendered-Dialogue\\private\\tangled_lines.pkl\")"
   ]
  },
  {
   "cell_type": "code",
   "execution_count": 53,
   "metadata": {},
   "outputs": [
    {
     "name": "stdout",
     "output_type": "stream",
     "text": [
      "<class 'pandas.core.frame.DataFrame'>\n",
      "RangeIndex: 581 entries, 0 to 580\n",
      "Data columns (total 2 columns):\n",
      "Speaker    581 non-null object\n",
      "Text       581 non-null object\n",
      "dtypes: object(2)\n",
      "memory usage: 4.6+ KB\n"
     ]
    }
   ],
   "source": [
    "tangled.info()"
   ]
  },
  {
   "cell_type": "code",
   "execution_count": 54,
   "metadata": {},
   "outputs": [],
   "source": [
    "tangled[\"Disney_Period\"] = 'LATE'"
   ]
  },
  {
   "cell_type": "code",
   "execution_count": 55,
   "metadata": {},
   "outputs": [],
   "source": [
    "tangled[\"Movie\"] = 'Tangled'"
   ]
  },
  {
   "cell_type": "code",
   "execution_count": 56,
   "metadata": {},
   "outputs": [],
   "source": [
    "tangled[\"Year\"] = 2010"
   ]
  },
  {
   "cell_type": "code",
   "execution_count": 57,
   "metadata": {},
   "outputs": [],
   "source": [
    "tangled[\"UTTERANCE_NUMBER\"] = tangled.Text.index + 1"
   ]
  },
  {
   "cell_type": "code",
   "execution_count": 58,
   "metadata": {},
   "outputs": [
    {
     "name": "stdout",
     "output_type": "stream",
     "text": [
      "<class 'pandas.core.frame.DataFrame'>\n",
      "Int64Index: 853 entries, 0 to 853\n",
      "Data columns (total 10 columns):\n",
      "Speaker             853 non-null object\n",
      "Text                853 non-null object\n",
      "Disney_Period       853 non-null object\n",
      "Movie               853 non-null object\n",
      "Year                853 non-null int64\n",
      "Gender              853 non-null object\n",
      "Role                853 non-null object\n",
      "Speaker_Status      853 non-null object\n",
      "Song                853 non-null object\n",
      "UTTERANCE_NUMBER    853 non-null int64\n",
      "dtypes: int64(2), object(8)\n",
      "memory usage: 46.6+ KB\n"
     ]
    }
   ],
   "source": [
    "frozen.info()"
   ]
  },
  {
   "cell_type": "markdown",
   "metadata": {},
   "source": [
    "### 1) Gender"
   ]
  },
  {
   "cell_type": "code",
   "execution_count": 59,
   "metadata": {},
   "outputs": [
    {
     "data": {
      "text/plain": [
       "array(['flynn', 'gothel', 'guards', 'young rapunzel', 'rapunzel',\n",
       "       'stabbington brothers', 'guard', 'capt', 'thug', 'vlad', 'hook',\n",
       "       'attila', 'thugs', 'big', 'thug chorus', 'all', 'greno', 'shorty',\n",
       "       'girl', 'citizen'], dtype=object)"
      ]
     },
     "execution_count": 59,
     "metadata": {},
     "output_type": "execute_result"
    }
   ],
   "source": [
    "tangled.Speaker.unique()"
   ]
  },
  {
   "cell_type": "code",
   "execution_count": 60,
   "metadata": {},
   "outputs": [
    {
     "data": {
      "text/plain": [
       "20"
      ]
     },
     "execution_count": 60,
     "metadata": {},
     "output_type": "execute_result"
    }
   ],
   "source": [
    "len(tangled.Speaker.unique())"
   ]
  },
  {
   "cell_type": "code",
   "execution_count": 61,
   "metadata": {},
   "outputs": [
    {
     "name": "stdout",
     "output_type": "stream",
     "text": [
      "19\n"
     ]
    }
   ],
   "source": [
    "tangled_female = ['gothel', 'young rapunzel', 'rapunzel', 'girl']\n",
    "tangled_male = ['flynn', 'guards', 'stabbington brothers', 'guard', 'capt', 'thug', 'vlad', 'hook', \n",
    "               'attila', 'thugs', 'big', 'thug chorus', 'greno', 'shorty', 'citizen']\n",
    "print(len(tangled_female) + len(tangled_male))"
   ]
  },
  {
   "cell_type": "code",
   "execution_count": 62,
   "metadata": {},
   "outputs": [],
   "source": [
    "gender_func = partial(whichgen, female = tangled_female, male=tangled_male)\n",
    "tangled[\"Gender\"] = tangled.Speaker.map(gender_func)"
   ]
  },
  {
   "cell_type": "markdown",
   "metadata": {},
   "source": [
    "### 2) Role"
   ]
  },
  {
   "cell_type": "code",
   "execution_count": 63,
   "metadata": {},
   "outputs": [],
   "source": [
    "tangled_pro = ['young rapunzel', 'rapunzel', 'flynn']\n",
    "tangled_ant = ['gothel', 'stabbington brothers']\n",
    "tangled_helper = ['vlad', 'hook', 'attila']"
   ]
  },
  {
   "cell_type": "code",
   "execution_count": 64,
   "metadata": {},
   "outputs": [],
   "source": [
    "role_func = partial(whichrole, pro = tangled_pro, ant=tangled_ant, helper = tangled_helper)\n",
    "tangled[\"Role\"] = tangled.Speaker.map(role_func)"
   ]
  },
  {
   "cell_type": "markdown",
   "metadata": {},
   "source": [
    "### 3) Status"
   ]
  },
  {
   "cell_type": "code",
   "execution_count": 65,
   "metadata": {},
   "outputs": [],
   "source": [
    "tangled_princess = ['rapunzel']\n",
    "tangled_prince = []"
   ]
  },
  {
   "cell_type": "code",
   "execution_count": 66,
   "metadata": {},
   "outputs": [],
   "source": [
    "status_func = partial(status, princess = tangled_princess, prince = tangled_prince)\n",
    "tangled['Speaker_Status'] = tangled.Speaker.map(status_func)"
   ]
  },
  {
   "cell_type": "markdown",
   "metadata": {},
   "source": [
    "### 4) Songs\n",
    "The songs in Tangled are: Healing Incantation, When Will My Life Begin (+reprise), Mother Knows Best (+reprise), I've got a dream, and I See the light"
   ]
  },
  {
   "cell_type": "code",
   "execution_count": 67,
   "metadata": {},
   "outputs": [
    {
     "name": "stdout",
     "output_type": "stream",
     "text": [
      "flower gleam\n",
      "      Speaker                                               Text\n",
      "324  rapunzel  i have magic hair that glows when i sing! flow...\n",
      "558  rapunzel  oh. look at me, look at me, i’m right here, do...\n",
      "\n",
      "\n",
      "shine\n",
      "      Speaker                                               Text\n",
      "1      gothel  flower, gleam and glow let your power shine ma...\n",
      "5      gothel  flower, gleam and glow let your power shine ma...\n",
      "17   rapunzel  oh come on pascal, it’s not so bad in there…  ...\n",
      "38   rapunzel  oh! of course, mother.   flower, gleam and glo...\n",
      "324  rapunzel  i have magic hair that glows when i sing! flow...\n",
      "346  rapunzel  sorry.  just don’t… don’t freak out.  flower, ...\n",
      "472    gothel  huh. i really did try, rapunzel. i tried to wa...\n",
      "558  rapunzel  oh. look at me, look at me, i’m right here, do...\n",
      "\n",
      "\n",
      "when will\n",
      "     Speaker                                               Text\n",
      "17  rapunzel  oh come on pascal, it’s not so bad in there…  ...\n",
      "\n",
      "\n",
      "begins\n",
      "      Speaker                                               Text\n",
      "185  rapunzel  look at the world so close, and i’m halfway to...\n",
      "\n",
      "\n",
      "knows best\n",
      "    Speaker                                               Text\n",
      "58   gothel               shh! trust me, pet mother knows best\n",
      "59   gothel            mother knows best listen to your mother\n",
      "61   gothel  it’s a scary world out there mother knows best...\n",
      "67   gothel  men with pointy teeth, and stop, no more, you’...\n",
      "73   gothel  i love you most.  don’t forget it, you’ll regr...\n",
      "381  gothel  no?! oh. i see how it is. rapunzel knows best ...\n",
      "385  gothel  trust me, my dear that’s how fast he’ll leave ...\n",
      "387  gothel  if he’s lying, don’t come crying, ‘mother know...\n",
      "\n",
      "\n",
      "got a dream\n",
      "         Speaker                                               Text\n",
      "239         hook  i’m malicious, mean and scary my sneer could c...\n",
      "240        thugs                he’s got a dream! he’s got a dream!\n",
      "241         hook  see, i ain’t as cruel and vicious as i seem! t...\n",
      "242          big  i’ve got scars and lumps and bruises plus some...\n",
      "243        thugs                                  he’s got a dream!\n",
      "244          big                                  i’ve got a dream!\n",
      "245        thugs  he’s got a dream! and i know one day romance w...\n",
      "251     rapunzel                                  i’ve got a dream!\n",
      "252        thugs                                 she’s got a dream!\n",
      "253     rapunzel                                  i’ve got a dream!\n",
      "254        thugs                                 she’s got a dream!\n",
      "258     rapunzel  i’m so glad i left my tower like all you lovel...\n",
      "259        thugs  she’s got a dream! he’s got a dream! they’ve g...\n",
      "262        thugs     ‘cause way down deep inside we’ve got a dream!\n",
      "263         hook                                  i’ve got a dream!\n",
      "264          big                                  i’ve got a dream!\n",
      "265  thug chorus  i’ve got a dream! i’ve got a dream! i’ve got a...\n",
      "266     rapunzel                                  i’ve got a dream!\n",
      "268          all  yes way down deep inside, i’ve got a dream! ye...\n",
      "282       shorty  i got a dream, i got some dream, i… oooooh, so...\n",
      "\n",
      "\n",
      "see the light\n",
      "      Speaker                                               Text\n",
      "433  rapunzel  all those days watching from the windows all t...\n",
      "436     flynn  all those days chasing down a daydream all tho...\n",
      "437     flynn  and it’s like the fog has lifted f, r: and at ...\n",
      "\n",
      "\n"
     ]
    }
   ],
   "source": [
    "tangled_song_words = ['flower gleam', 'shine', 'when will', 'begins', \"knows best\", \"got a dream\", \n",
    "                   \"see the light\"]\n",
    "for line in tangled_song_words:\n",
    "    print(line)\n",
    "    print(tangled[[\"Speaker\", \"Text\"]][tangled.Text.str.contains(line, regex = False)])\n",
    "    print('\\n')"
   ]
  },
  {
   "cell_type": "code",
   "execution_count": 68,
   "metadata": {},
   "outputs": [
    {
     "name": "stdout",
     "output_type": "stream",
     "text": [
      "flower, gleam and glow let your power shine make the clock reverse bring back what once was mine what once was mine\n",
      "\n",
      "\n",
      "all right, you get the gist. she sings to it, she turns young, creepy, right?\n",
      "\n",
      "\n",
      "we’ve found it!\n",
      "\n",
      "\n",
      "the magic of the golden flower healed the queen. a healthy baby girl, a princess was born, with beautiful golden hair. i’ll give you a hint: that’s rapunzel. to celebrate her birth, the king and queen launched a flying lantern into the sky. and for that one moment, everything was perfect.  and then that moment ended.\n",
      "\n",
      "\n",
      "flower, gleam and glow let your power shine make the clock re-\n",
      "\n",
      "\n",
      "gothel broke into the castle, stole the child and just like that– gone.  the kingdom searched and searched but they could not find the princess. for deep within the forest, in a hidden tower, gothel raised the child as her own.\n",
      "\n",
      "\n",
      "(heal what has been hurt) (change the fate’s design) save what has been lost bring back what once was mine what once was mine\n",
      "\n",
      "\n",
      "gothel had found her new magic flower, but this time she was determined to keep it hidden.\n",
      "\n",
      "\n",
      "why can’t i go outside?\n",
      "\n",
      "\n"
     ]
    }
   ],
   "source": [
    "#Healing Incantation\n",
    "# 1, 5, 7\n",
    "for line in tangled.Text.iloc[1:10]:\n",
    "    print(line)\n",
    "    print('\\n')"
   ]
  },
  {
   "cell_type": "code",
   "execution_count": 69,
   "metadata": {},
   "outputs": [],
   "source": [
    "tangled_songs = [1,5,7]"
   ]
  },
  {
   "cell_type": "code",
   "execution_count": 70,
   "metadata": {},
   "outputs": [
    {
     "name": "stdout",
     "output_type": "stream",
     "text": [
      "rapunzel, mother’s feeling a little run-down. would you sing for me, dear? that’ll do.\n",
      "\n",
      "\n",
      "oh! of course, mother.   flower, gleam and glow let your power shine make the clock reverse\n",
      "\n",
      "\n",
      "–wait!–\n",
      "\n",
      "\n",
      "bring back what once was mine\n",
      "\n",
      "\n",
      "–wait!–\n",
      "\n",
      "\n",
      "heal what has been hurt change the fate’s design\n",
      "\n",
      "\n",
      "save what has been lost bring back what once was mine\n",
      "\n",
      "\n",
      "rapunzel!\n",
      "\n",
      "\n"
     ]
    }
   ],
   "source": [
    "#38, 40, 42, 43\n",
    "for line in tangled.Text.iloc[37:45]:\n",
    "    print(line)\n",
    "    print('\\n')"
   ]
  },
  {
   "cell_type": "code",
   "execution_count": 71,
   "metadata": {},
   "outputs": [],
   "source": [
    "tangled_songs.extend([38, 40, 42, 43])"
   ]
  },
  {
   "cell_type": "code",
   "execution_count": 72,
   "metadata": {},
   "outputs": [
    {
     "name": "stdout",
     "output_type": "stream",
     "text": [
      "what?\n",
      "\n",
      "\n",
      "i have magic hair that glows when i sing! flower gleam and glow, let your power shine…\n",
      "\n",
      "\n",
      "whoa!\n",
      "\n",
      "\n",
      "we made it.\n",
      "\n",
      "\n"
     ]
    }
   ],
   "source": [
    "#324 isn't long enough (half and half speaking/singing)\n",
    "for line in tangled.Text.iloc[323:327]:\n",
    "    print(line)\n",
    "    print('\\n')"
   ]
  },
  {
   "cell_type": "code",
   "execution_count": 73,
   "metadata": {},
   "outputs": [
    {
     "name": "stdout",
     "output_type": "stream",
     "text": [
      "so you’re being strangely cryptic as you wrap your magic hair around my injured hand. agh!\n",
      "\n",
      "\n",
      "sorry.  just don’t… don’t freak out.  flower, gleam and glow let your power shine make the clock reverse bring back what once was mine  heal what has been hurt change the fate’s design save what has been lost bring back what once was mine  what once was mine\n",
      "\n",
      "\n",
      "\n",
      "\n",
      "\n",
      "(please) don’t freak out!\n",
      "\n",
      "\n",
      "arrrr. i’m-not-freaking-out-are-you-freaking-out-no-i’m-just-very-interested-in-your-hair-and-the-magical-qualities-that-it-posesses-how long has it been doing that exactly?\n",
      "\n",
      "\n"
     ]
    }
   ],
   "source": [
    "#346\n",
    "for line in tangled.Text.iloc[345:350]:\n",
    "    print(line)\n",
    "    print('\\n')"
   ]
  },
  {
   "cell_type": "code",
   "execution_count": 74,
   "metadata": {},
   "outputs": [
    {
     "name": "stdout",
     "output_type": "stream",
     "text": [
      "oh. —\n",
      "\n",
      "\n",
      "there. it never happened. now, wash up for dinner. i’m making hazelnut soup.\n",
      "\n",
      "\n",
      "huh. i really did try, rapunzel. i tried to warn you what was out there. the world is dark and selfish and cruel. if it finds even the slightest ray of sunshine, it destroys it.\n",
      "\n",
      "\n",
      "agh!  —\n",
      "\n",
      "\n"
     ]
    }
   ],
   "source": [
    "#not song\n",
    "for line in tangled.Text.iloc[470:474]:\n",
    "    print(line)\n",
    "    print('\\n')"
   ]
  },
  {
   "cell_type": "code",
   "execution_count": 75,
   "metadata": {},
   "outputs": [
    {
     "name": "stdout",
     "output_type": "stream",
     "text": [
      "no, no, no, no, no, eugene.\n",
      "\n",
      "\n",
      "oh. look at me, look at me, i’m right here, don’t go, stay with me, eugene–flower gleam and glow, let your power shine, make the clock reverse, bring back what once was mine–\n",
      "\n",
      "\n",
      "–rapunzel.\n",
      "\n",
      "\n"
     ]
    }
   ],
   "source": [
    "#again, the line is half and half, so I don't want to label it as song\n",
    "for line in tangled.Text.iloc[557:560]:\n",
    "    print(line)\n",
    "    print('\\n')"
   ]
  },
  {
   "cell_type": "code",
   "execution_count": 76,
   "metadata": {},
   "outputs": [],
   "source": [
    "tangled_songs.append(346)"
   ]
  },
  {
   "cell_type": "code",
   "execution_count": 77,
   "metadata": {},
   "outputs": [
    {
     "name": "stdout",
     "output_type": "stream",
     "text": [
      "yeah, i don’t think so. i like it in here and so do you.\n",
      "\n",
      "\n",
      "oh come on pascal, it’s not so bad in there…  seven a.m., the usual morning lineup start up the chores and sweep till the floor’s all clean polish and wax, do laundry, and mop and shine up sweep again, and by then it’s, like, seven-fifteen and so i’ll read a book or maybe two or three i’ll add a few new paintings to my gallery i’ll play guitar and knit and cook and basically just wonder when will my life begin?  then after lunch it’s puzzles and darts and baking papier-mache, a bit of ballet and chess pottery and ventriloquy, candle-making then i’ll stretch, maybe sketch, take a climb, sew a dress! and i’ll re-read the books if i have time to spare i’ll paint the walls some more, i’m sure there’s room somewhere and then i’ll brush and brush and brush and brush my hair stuck in the same place i’ve always been and i’ll keep wondering and wondering and wondering and wondering when will my life begin?  tomorrow night, the lights will appear just like they do on my birthday each year what is it like out there where they glow? now that i’m older, mother might just let me go… —\n",
      "\n",
      "\n",
      "wow! i could get used to a view like this.\n",
      "\n",
      "\n",
      "rider! c’mon!\n",
      "\n",
      "\n"
     ]
    }
   ],
   "source": [
    "#When will my life begin\n",
    "# 17\n",
    "for line in tangled.Text.iloc[16:20]:\n",
    "    print(line)\n",
    "    print('\\n')"
   ]
  },
  {
   "cell_type": "code",
   "execution_count": 78,
   "metadata": {},
   "outputs": [
    {
     "name": "stdout",
     "output_type": "stream",
     "text": [
      "you broke my ‘smoulder’.\n",
      "\n",
      "\n",
      "you comin’, blondie?\n",
      "\n",
      "\n",
      "look at the world so close, and i’m halfway to it! look at it all so big, do i even dare? look at me, there at last! i just have to do it should i? no. here i go…  just smell the grass! the dirt! just like i dreamed they’d be! just feel that summer breeze, the way it’s calling me for like the first time ever, i’m completely free! i could go running, and racing, and dancing, and chasing and leaping, and bounding, hair flying, heart pounding and splashing, and reeling, and finally feeling that’s when my life begins!  i can’t believe i did this. *i can’t believe i did this.* i can’t believe i did this! haha. *mother would be so furious.* that’s okay! i mean, what she doesn’t know won’t kill her, right? *oh my gosh, this would kill her.* this is so fun! *i am a horrible daughter. i’m going back.* i am never going back! woo-hoo! *i am a despicable human being.* woo-hoo! best. day. ever!\n",
      "\n",
      "\n",
      "hmm-mm-m. you know, i can’t help but notice you seem a little at war with yourself here.\n",
      "\n",
      "\n",
      "what?\n",
      "\n",
      "\n",
      "now, i’m only picking up bits and pieces, of course. overprotective mother, forbidden road trip. i mean, this is serious stuff. but let me ease your conscience. this is part of growing up. a little rebellion, a little adventure–that’s good, healthy even!\n",
      "\n",
      "\n",
      "you think?\n",
      "\n",
      "\n"
     ]
    }
   ],
   "source": [
    "# song embedded in the line, and doesn't take up enough to warrant a song label\n",
    "for line in tangled.Text.iloc[183:190]:\n",
    "    print(line)\n",
    "    print('\\n')"
   ]
  },
  {
   "cell_type": "code",
   "execution_count": 79,
   "metadata": {},
   "outputs": [],
   "source": [
    "tangled_songs.append(17)"
   ]
  },
  {
   "cell_type": "code",
   "execution_count": 80,
   "metadata": {},
   "outputs": [
    {
     "name": "stdout",
     "output_type": "stream",
     "text": [
      "that’s the thing. i’ve charted stars and they’re always constant–but these–they appear every year on my birthday, mother–only on my birthday. and i can’t help but feel like they’re… they’re meant for me. i need to see them, mother, and not just from my window. in person. i have to know what they are.\n",
      "\n",
      "\n",
      "you want to go outside? why, rapunzel! look at you, as fragile as a flower still a little sapling, just a sprout you know why we stay up in this tower\n",
      "\n",
      "\n",
      "i know but…\n",
      "\n",
      "\n",
      "that’s right, to keep you safe and sound, dear guess i always knew this day was coming knew that soon you’d want to leave the nest soon, but not yet\n",
      "\n",
      "\n",
      "but–\n",
      "\n",
      "\n",
      "shh! trust me, pet mother knows best\n",
      "\n",
      "\n",
      "mother knows best listen to your mother\n",
      "\n",
      "\n",
      "agh!\n",
      "\n",
      "\n",
      "it’s a scary world out there mother knows best one way or another something will go wrong, i swear ruffians, thugs, poison ivy, quicksand cannibals and snakes… the plague!\n",
      "\n",
      "\n",
      "no!\n",
      "\n",
      "\n",
      "yes!\n",
      "\n",
      "\n",
      "but–\n",
      "\n",
      "\n",
      "also large bugs\n",
      "\n",
      "\n",
      "agh!\n",
      "\n",
      "\n",
      "men with pointy teeth, and stop, no more, you’ll just upset me mother’s right here, mother will protect you darling here’s what i suggest skip the drama, stay with mama mother knows best ah, hahahaha… mother knows best take it from your mumsy on your own, you won’t survive sloppy, underdressed, immature, clumsy please, they’ll eat you up alive gullible, naive, positively grubby ditzy and a bit, well, hmm vague plus, i believe, gettin’ kinda chubby i’m just saying ’cause i wuv you mother understands, mother’s here to help you all i have is one request rapunzel?\n",
      "\n",
      "\n",
      "yes?\n",
      "\n",
      "\n",
      "don’t ever ask to leave this tower again.\n",
      "\n",
      "\n",
      "yes, mother.\n",
      "\n",
      "\n",
      "uh, i love you very much, dear.\n",
      "\n",
      "\n",
      "i love you more.\n",
      "\n",
      "\n",
      "i love you most.  don’t forget it, you’ll regret it mother knows best!\n",
      "\n",
      "\n",
      "rapunzel! i’ll see you in a bit, my flower.\n",
      "\n",
      "\n",
      "i’ll be here. —\n",
      "\n",
      "\n",
      "uh, uh… agh! oh no. no no no no no no no no no no, this is bad, this is very very bad, this is really bad… they just can’t get my nose right!\n",
      "\n",
      "\n",
      "who cares?\n",
      "\n",
      "\n"
     ]
    }
   ],
   "source": [
    "#Mother Knows Best\n",
    "# 54, 56, 58, 59, 61, 65, 67, 73\n",
    "for line in tangled.Text.iloc[53:78]:\n",
    "    print(line)\n",
    "    print('\\n')"
   ]
  },
  {
   "cell_type": "code",
   "execution_count": 81,
   "metadata": {},
   "outputs": [],
   "source": [
    "tangled_songs.extend([54, 56, 58, 59, 61, 65, 67, 73])"
   ]
  },
  {
   "cell_type": "code",
   "execution_count": 82,
   "metadata": {},
   "outputs": [
    {
     "name": "stdout",
     "output_type": "stream",
     "text": [
      "mother, wait. i think… i think he likes me.\n",
      "\n",
      "\n",
      "likes you? please, rapunzel, that’s demented.\n",
      "\n",
      "\n",
      "but mother, i… this is why you never should have left  dear, this whole romance that you’ve invented just proves you’re too naive to be here why would he like you? come on now, really. look at you! you think that he’s impressed? don’t be a dummy, come with mummy mother…\n",
      "\n",
      "\n",
      "no!\n",
      "\n",
      "\n",
      "no?! oh. i see how it is. rapunzel knows best rapunzel’s so mature now such a clever grown-up miss rapunzel knows best fine, if you’re so sure now go ahead, then give him this!\n",
      "\n",
      "\n",
      "how did you…?\n",
      "\n",
      "\n",
      "this  is why he’s here! don’t let him deceive you! give it to him, watch, you’ll see!\n",
      "\n",
      "\n",
      "i will!\n",
      "\n",
      "\n",
      "trust me, my dear that’s how fast he’ll leave you i won’t say i told you so! no, rapunzel knows best! so if he’s such a dreamboat go and put him to the test\n",
      "\n",
      "\n",
      "mother, wait–\n",
      "\n",
      "\n",
      "if he’s lying, don’t come crying, ‘mother knows best’!\n",
      "\n",
      "\n",
      "so…\n",
      "\n",
      "\n",
      "hey uh… can i ask you something? is there any chance that i’m gonna get super strength in my hand because i’m not gonna lie. that would be stupendous.  hey, you all right?\n",
      "\n",
      "\n"
     ]
    }
   ],
   "source": [
    "#379 possibly mislabeled\n",
    "#381, 383, 385, 387\n",
    "for line in tangled.Text.iloc[377:390]:\n",
    "    print(line)\n",
    "    print('\\n')"
   ]
  },
  {
   "cell_type": "code",
   "execution_count": 83,
   "metadata": {},
   "outputs": [],
   "source": [
    "tangled_songs.extend([381, 383, 385, 387])"
   ]
  },
  {
   "cell_type": "code",
   "execution_count": 84,
   "metadata": {},
   "outputs": [
    {
     "name": "stdout",
     "output_type": "stream",
     "text": [
      "i had a dream… once.\n",
      "\n",
      "\n",
      "i’m malicious, mean and scary my sneer could curdle dairy and violence-wise, my hands are not the cleanest but despite my evil look and my temper and my hook i’ve always yearned to be a concert pianist  can’tcha see me on the stage performin’ mozart? tickling the ivories ’til they gleam? yep, i’d rather be called deadly for my killer show-tune medley –thank you! ‘cause way down deep inside i’ve got a dream\n",
      "\n",
      "\n",
      "he’s got a dream! he’s got a dream!\n",
      "\n",
      "\n",
      "see, i ain’t as cruel and vicious as i seem! though i do like breaking femurs, you can count me with the dreamers like everybody else, i’ve got a dream!\n",
      "\n",
      "\n",
      "i’ve got scars and lumps and bruises plus something here that oozes and let’s not even mention my complexion but despite my extra toes and my goiter and my nose i really want to make a love connection  can’t you see me with a special little lady rowing in a rowboat down the stream? though i’m one disgusting blighter, i’m a lover, not a fighter ‘cause way down deep inside i’ve got a dream!  i’ve got a dream!\n",
      "\n",
      "\n",
      "he’s got a dream!\n",
      "\n",
      "\n",
      "i’ve got a dream!\n",
      "\n",
      "\n",
      "he’s got a dream! and i know one day romance will reign supreme! though my face leaves people screaming there’s a child behind it dreaming like everybody else, i’ve got a dream\n",
      "\n",
      "\n",
      "tor would like to quit and be a florist gunther does interior design ulf is into mime, attila’s cupcakes are sublime bruiser knits, killer sews, fang does little puppet shows\n",
      "\n",
      "\n",
      "and vladimir collects ceramic unicorns  what about you?\n",
      "\n",
      "\n",
      "i’m sorry, me?\n",
      "\n",
      "\n",
      "what’s your dream?\n",
      "\n",
      "\n"
     ]
    }
   ],
   "source": [
    "# I've got a dream\n",
    "#239-247\n",
    "\n",
    "for line in tangled.Text.iloc[238:250]:\n",
    "    print(line)\n",
    "    print('\\n')"
   ]
  },
  {
   "cell_type": "code",
   "execution_count": 85,
   "metadata": {},
   "outputs": [
    {
     "name": "stdout",
     "output_type": "stream",
     "text": [
      "what’s your dream?\n",
      "\n",
      "\n",
      "no, no, no. sorry boys, i don’t sing.  i have dreams, like you, no, really just much less touchy-feely they mainly happen somewhere warm and sunny on an island that i own, tanned and rested and alone surrounded by enormous piles of money\n",
      "\n",
      "\n",
      "i’ve got a dream!\n",
      "\n",
      "\n",
      "she’s got a dream!\n",
      "\n",
      "\n",
      "i’ve got a dream!\n",
      "\n",
      "\n",
      "she’s got a dream!\n",
      "\n",
      "\n",
      "i just want to see the floating lanterns gleam!\n",
      "\n",
      "\n",
      "yeahh!\n",
      "\n",
      "\n",
      "and with every passing hour\n",
      "\n",
      "\n",
      "i’m so glad i left my tower like all you lovely folks, i’ve got a dream\n",
      "\n",
      "\n",
      "she’s got a dream! he’s got a dream! they’ve got a dream! we’ve got a dream! so our diff’rences ain’t really that extreme–we’re one big team– call us brutal, sick\n",
      "\n",
      "\n",
      "sadistic\n",
      "\n",
      "\n",
      "and grotesquely optimistic\n",
      "\n",
      "\n",
      "‘cause way down deep inside we’ve got a dream!\n",
      "\n",
      "\n",
      "i’ve got a dream!\n",
      "\n",
      "\n",
      "i’ve got a dream!\n",
      "\n",
      "\n",
      "i’ve got a dream! i’ve got a dream! i’ve got a dream!\n",
      "\n",
      "\n",
      "i’ve got a dream!\n",
      "\n",
      "\n",
      "whoo-hoo-hoo-hoo!\n",
      "\n",
      "\n",
      "yes way down deep inside, i’ve got a dream! yeahh!\n",
      "\n",
      "\n",
      "i found the guards.\n",
      "\n",
      "\n"
     ]
    }
   ],
   "source": [
    "#250-269\n",
    "for line in tangled.Text.iloc[249:270]:\n",
    "    print(line)\n",
    "    print('\\n')"
   ]
  },
  {
   "cell_type": "code",
   "execution_count": 86,
   "metadata": {},
   "outputs": [],
   "source": [
    "tangled_songs.extend(list(range(239,248)))"
   ]
  },
  {
   "cell_type": "code",
   "execution_count": 87,
   "metadata": {},
   "outputs": [],
   "source": [
    "tangled_songs.extend(list(range(250,270)))"
   ]
  },
  {
   "cell_type": "code",
   "execution_count": 88,
   "metadata": {},
   "outputs": [
    {
     "name": "stdout",
     "output_type": "stream",
     "text": [
      "hmm. and what if it is? what do i do then?\n",
      "\n",
      "\n",
      "well, that’s the good part i guess. you get to go find a new dream.\n",
      "\n",
      "\n",
      "hmm.\n",
      "\n",
      "\n",
      "all those days watching from the windows all those years outside looking in all that time never even knowing just how blind i’ve been now i’m here, blinking in the starlight now i’m here, suddenly i see standing here, it’s all so clear i’m where i’m meant to be and at last i see the light and it’s like the fog has lifted and at last i see the light and it’s like the sky is new and it’s warm and real and bright and the world has somehow shifted all at once everything looks different now that i see you\n",
      "\n",
      "\n",
      "hmm. i have something for you, too.  i should have given it to you before, but i was just scared. and the thing is, i’m not scared anymore. you know what i mean?\n",
      "\n",
      "\n",
      "i’m starting to.\n",
      "\n",
      "\n",
      "all those days chasing down a daydream all those years living in a blur all that time never truly seeing things the way they were now she’s here, shining in the starlight now she’s here, suddenly i know if she’s here, it’s crystal clear i’m where i meant to go  f, r: and at last, i see the light\n",
      "\n",
      "\n",
      "and it’s like the fog has lifted f, r: and at last, i see the light\n",
      "\n",
      "\n",
      "and it’s like the sky is new f, r: and it’s warm and real and bright and the world has somehow shifted all at once, everything is different now that i see you  f, r: now that i see you.\n",
      "\n",
      "\n",
      "is everything okay?\n",
      "\n",
      "\n"
     ]
    }
   ],
   "source": [
    "# I see the Light\n",
    "#433, 436-438\n",
    "#edit 437, 438\n",
    "for line in tangled.Text.iloc[430:440]:\n",
    "    print(line)\n",
    "    print('\\n')"
   ]
  },
  {
   "cell_type": "code",
   "execution_count": 89,
   "metadata": {},
   "outputs": [],
   "source": [
    "tangled_songs.extend([433, 436, 437, 438])"
   ]
  },
  {
   "cell_type": "code",
   "execution_count": 90,
   "metadata": {},
   "outputs": [
    {
     "data": {
      "text/plain": [
       "[1, 5, 7, 38, 40, 42, 43, 346, 17, 54, 56, 58, 59, 61, 65, 67, 73, 381, 383, 385, 387, 239, 240, 241, 242, 243, 244, 245, 246, 247, 250, 251, 252, 253, 254, 255, 256, 257, 258, 259, 260, 261, 262, 263, 264, 265, 266, 267, 268, 269, 433, 436, 437, 438]"
      ]
     },
     "execution_count": 90,
     "metadata": {},
     "output_type": "execute_result"
    }
   ],
   "source": [
    "tangled_songs"
   ]
  },
  {
   "cell_type": "code",
   "execution_count": 91,
   "metadata": {},
   "outputs": [],
   "source": [
    "song_func = partial(is_dialogue, song = tangled_songs)\n",
    "tangled[\"Song\"] = tangled.index.map(song_func)"
   ]
  },
  {
   "cell_type": "code",
   "execution_count": 92,
   "metadata": {},
   "outputs": [
    {
     "data": {
      "text/html": [
       "<div>\n",
       "<style scoped>\n",
       "    .dataframe tbody tr th:only-of-type {\n",
       "        vertical-align: middle;\n",
       "    }\n",
       "\n",
       "    .dataframe tbody tr th {\n",
       "        vertical-align: top;\n",
       "    }\n",
       "\n",
       "    .dataframe thead th {\n",
       "        text-align: right;\n",
       "    }\n",
       "</style>\n",
       "<table border=\"1\" class=\"dataframe\">\n",
       "  <thead>\n",
       "    <tr style=\"text-align: right;\">\n",
       "      <th></th>\n",
       "      <th>Speaker</th>\n",
       "      <th>Text</th>\n",
       "    </tr>\n",
       "  </thead>\n",
       "  <tbody>\n",
       "    <tr>\n",
       "      <th>378</th>\n",
       "      <td>gothel</td>\n",
       "      <td>likes you? please, rapunzel, that’s demented.</td>\n",
       "    </tr>\n",
       "    <tr>\n",
       "      <th>379</th>\n",
       "      <td>rapunzel</td>\n",
       "      <td>but mother, i… this is why you never should ha...</td>\n",
       "    </tr>\n",
       "    <tr>\n",
       "      <th>380</th>\n",
       "      <td>rapunzel</td>\n",
       "      <td>no!</td>\n",
       "    </tr>\n",
       "    <tr>\n",
       "      <th>381</th>\n",
       "      <td>gothel</td>\n",
       "      <td>no?! oh. i see how it is. rapunzel knows best ...</td>\n",
       "    </tr>\n",
       "  </tbody>\n",
       "</table>\n",
       "</div>"
      ],
      "text/plain": [
       "      Speaker                                               Text\n",
       "378    gothel      likes you? please, rapunzel, that’s demented.\n",
       "379  rapunzel  but mother, i… this is why you never should ha...\n",
       "380  rapunzel                                                no!\n",
       "381    gothel  no?! oh. i see how it is. rapunzel knows best ..."
      ]
     },
     "execution_count": 92,
     "metadata": {},
     "output_type": "execute_result"
    }
   ],
   "source": [
    "#Some last edits\n",
    "#437, 438, 379\n",
    "tangled[[\"Speaker\", \"Text\"]].iloc[378:382]"
   ]
  },
  {
   "cell_type": "code",
   "execution_count": 93,
   "metadata": {},
   "outputs": [
    {
     "name": "stderr",
     "output_type": "stream",
     "text": [
      "c:\\users\\cassi\\appdata\\local\\programs\\python\\python36-32\\lib\\site-packages\\pandas\\core\\indexing.py:189: SettingWithCopyWarning: \n",
      "A value is trying to be set on a copy of a slice from a DataFrame\n",
      "\n",
      "See the caveats in the documentation: http://pandas.pydata.org/pandas-docs/stable/indexing.html#indexing-view-versus-copy\n",
      "  self._setitem_with_indexer(indexer, value)\n"
     ]
    }
   ],
   "source": [
    "tangled.Speaker.iloc[379] = 'gothel'\n",
    "tangled.Text.iloc[379] = \"this is why you never should have left  dear, this whole romance that you’ve invented just proves you’re too naive to be here why would he like you? come on now, really. look at you! you think that he’s impressed? don’t be a dummy, come with mummy mother…\""
   ]
  },
  {
   "cell_type": "code",
   "execution_count": 94,
   "metadata": {},
   "outputs": [
    {
     "data": {
      "text/html": [
       "<div>\n",
       "<style scoped>\n",
       "    .dataframe tbody tr th:only-of-type {\n",
       "        vertical-align: middle;\n",
       "    }\n",
       "\n",
       "    .dataframe tbody tr th {\n",
       "        vertical-align: top;\n",
       "    }\n",
       "\n",
       "    .dataframe thead th {\n",
       "        text-align: right;\n",
       "    }\n",
       "</style>\n",
       "<table border=\"1\" class=\"dataframe\">\n",
       "  <thead>\n",
       "    <tr style=\"text-align: right;\">\n",
       "      <th></th>\n",
       "      <th>Speaker</th>\n",
       "      <th>Text</th>\n",
       "    </tr>\n",
       "  </thead>\n",
       "  <tbody>\n",
       "    <tr>\n",
       "      <th>378</th>\n",
       "      <td>gothel</td>\n",
       "      <td>likes you? please, rapunzel, that’s demented.</td>\n",
       "    </tr>\n",
       "    <tr>\n",
       "      <th>379</th>\n",
       "      <td>gothel</td>\n",
       "      <td>this is why you never should have left  dear, ...</td>\n",
       "    </tr>\n",
       "    <tr>\n",
       "      <th>380</th>\n",
       "      <td>rapunzel</td>\n",
       "      <td>no!</td>\n",
       "    </tr>\n",
       "    <tr>\n",
       "      <th>381</th>\n",
       "      <td>gothel</td>\n",
       "      <td>no?! oh. i see how it is. rapunzel knows best ...</td>\n",
       "    </tr>\n",
       "  </tbody>\n",
       "</table>\n",
       "</div>"
      ],
      "text/plain": [
       "      Speaker                                               Text\n",
       "378    gothel      likes you? please, rapunzel, that’s demented.\n",
       "379    gothel  this is why you never should have left  dear, ...\n",
       "380  rapunzel                                                no!\n",
       "381    gothel  no?! oh. i see how it is. rapunzel knows best ..."
      ]
     },
     "execution_count": 94,
     "metadata": {},
     "output_type": "execute_result"
    }
   ],
   "source": [
    "tangled[[\"Speaker\", \"Text\"]].iloc[378:382]"
   ]
  },
  {
   "cell_type": "code",
   "execution_count": 95,
   "metadata": {},
   "outputs": [],
   "source": [
    "tangled.Text.iloc[437] = \"and it’s like the fog has lifted. and at last, i see the light\"\n",
    "tangled.Text.iloc[438] = \"and it’s like the sky is new. and it’s warm and real and bright and the world has somehow shifted all at once, everything is different now that i see you. now that i see you.\""
   ]
  },
  {
   "cell_type": "code",
   "execution_count": 96,
   "metadata": {},
   "outputs": [
    {
     "name": "stdout",
     "output_type": "stream",
     "text": [
      "<class 'pandas.core.frame.DataFrame'>\n",
      "RangeIndex: 581 entries, 0 to 580\n",
      "Data columns (total 10 columns):\n",
      "Speaker             581 non-null object\n",
      "Text                581 non-null object\n",
      "Disney_Period       581 non-null object\n",
      "Movie               581 non-null object\n",
      "Year                581 non-null int64\n",
      "UTTERANCE_NUMBER    581 non-null int64\n",
      "Gender              581 non-null object\n",
      "Role                581 non-null object\n",
      "Speaker_Status      581 non-null object\n",
      "Song                581 non-null object\n",
      "dtypes: int64(2), object(8)\n",
      "memory usage: 27.3+ KB\n"
     ]
    }
   ],
   "source": [
    "tangled.info()"
   ]
  },
  {
   "cell_type": "markdown",
   "metadata": {},
   "source": [
    "# Combining all Disney Movies\n"
   ]
  },
  {
   "cell_type": "code",
   "execution_count": 97,
   "metadata": {},
   "outputs": [],
   "source": [
    "disney_films = pd.read_pickle(r\"C:\\Users\\cassi\\Desktop\\Data_Science\\Animated-Movie-Gendered-Dialogue\\private\\disney_annotated.pkl\")"
   ]
  },
  {
   "cell_type": "code",
   "execution_count": 98,
   "metadata": {},
   "outputs": [
    {
     "name": "stdout",
     "output_type": "stream",
     "text": [
      "<class 'pandas.core.frame.DataFrame'>\n",
      "RangeIndex: 5988 entries, 0 to 5987\n",
      "Data columns (total 11 columns):\n",
      "Disney_Period       5988 non-null object\n",
      "Gender              5988 non-null object\n",
      "Movie               5988 non-null object\n",
      "Role                5988 non-null object\n",
      "Song                5988 non-null object\n",
      "Speaker             5988 non-null object\n",
      "Speaker_Status      5988 non-null object\n",
      "Start_Scene         21 non-null object\n",
      "Text                5988 non-null object\n",
      "UTTERANCE_NUMBER    5988 non-null int64\n",
      "Year                5988 non-null int64\n",
      "dtypes: int64(2), object(9)\n",
      "memory usage: 304.1+ KB\n"
     ]
    }
   ],
   "source": [
    "disney_films.info()"
   ]
  },
  {
   "cell_type": "code",
   "execution_count": 99,
   "metadata": {},
   "outputs": [],
   "source": [
    "disney_films.drop(columns = 'Start_Scene', inplace=True)"
   ]
  },
  {
   "cell_type": "code",
   "execution_count": 100,
   "metadata": {},
   "outputs": [
    {
     "name": "stdout",
     "output_type": "stream",
     "text": [
      "<class 'pandas.core.frame.DataFrame'>\n",
      "RangeIndex: 5988 entries, 0 to 5987\n",
      "Data columns (total 10 columns):\n",
      "Disney_Period       5988 non-null object\n",
      "Gender              5988 non-null object\n",
      "Movie               5988 non-null object\n",
      "Role                5988 non-null object\n",
      "Song                5988 non-null object\n",
      "Speaker             5988 non-null object\n",
      "Speaker_Status      5988 non-null object\n",
      "Text                5988 non-null object\n",
      "UTTERANCE_NUMBER    5988 non-null int64\n",
      "Year                5988 non-null int64\n",
      "dtypes: int64(2), object(8)\n",
      "memory usage: 280.7+ KB\n"
     ]
    }
   ],
   "source": [
    "disney_films.info()"
   ]
  },
  {
   "cell_type": "code",
   "execution_count": 101,
   "metadata": {},
   "outputs": [],
   "source": [
    "all_disney_films = pd.concat([disney_films, tangled, frozen], axis=0, sort=True, ignore_index = True)"
   ]
  },
  {
   "cell_type": "code",
   "execution_count": 102,
   "metadata": {},
   "outputs": [
    {
     "name": "stdout",
     "output_type": "stream",
     "text": [
      "<class 'pandas.core.frame.DataFrame'>\n",
      "RangeIndex: 7422 entries, 0 to 7421\n",
      "Data columns (total 10 columns):\n",
      "Disney_Period       7422 non-null object\n",
      "Gender              7422 non-null object\n",
      "Movie               7422 non-null object\n",
      "Role                7422 non-null object\n",
      "Song                7422 non-null object\n",
      "Speaker             7422 non-null object\n",
      "Speaker_Status      7422 non-null object\n",
      "Text                7422 non-null object\n",
      "UTTERANCE_NUMBER    7422 non-null int64\n",
      "Year                7422 non-null int64\n",
      "dtypes: int64(2), object(8)\n",
      "memory usage: 347.9+ KB\n"
     ]
    }
   ],
   "source": [
    "all_disney_films.info()"
   ]
  },
  {
   "cell_type": "code",
   "execution_count": 103,
   "metadata": {},
   "outputs": [
    {
     "data": {
      "text/html": [
       "<div>\n",
       "<style scoped>\n",
       "    .dataframe tbody tr th:only-of-type {\n",
       "        vertical-align: middle;\n",
       "    }\n",
       "\n",
       "    .dataframe tbody tr th {\n",
       "        vertical-align: top;\n",
       "    }\n",
       "\n",
       "    .dataframe thead th {\n",
       "        text-align: right;\n",
       "    }\n",
       "</style>\n",
       "<table border=\"1\" class=\"dataframe\">\n",
       "  <thead>\n",
       "    <tr style=\"text-align: right;\">\n",
       "      <th></th>\n",
       "      <th>Disney_Period</th>\n",
       "      <th>Gender</th>\n",
       "      <th>Movie</th>\n",
       "      <th>Role</th>\n",
       "      <th>Song</th>\n",
       "      <th>Speaker</th>\n",
       "      <th>Speaker_Status</th>\n",
       "      <th>Text</th>\n",
       "      <th>UTTERANCE_NUMBER</th>\n",
       "      <th>Year</th>\n",
       "    </tr>\n",
       "  </thead>\n",
       "  <tbody>\n",
       "    <tr>\n",
       "      <th>3040</th>\n",
       "      <td>MID</td>\n",
       "      <td>m</td>\n",
       "      <td>Beauty and the Beast</td>\n",
       "      <td>HELPER</td>\n",
       "      <td>D</td>\n",
       "      <td>lumiere</td>\n",
       "      <td>NON-P</td>\n",
       "      <td>oh! would you like a tour?</td>\n",
       "      <td>484</td>\n",
       "      <td>1991</td>\n",
       "    </tr>\n",
       "    <tr>\n",
       "      <th>151</th>\n",
       "      <td>EARLY</td>\n",
       "      <td>f</td>\n",
       "      <td>Snow White</td>\n",
       "      <td>PRO</td>\n",
       "      <td>D</td>\n",
       "      <td>snow white</td>\n",
       "      <td>PRINCESS</td>\n",
       "      <td>oh, how silly of me. i'm snow white.</td>\n",
       "      <td>152</td>\n",
       "      <td>1937</td>\n",
       "    </tr>\n",
       "    <tr>\n",
       "      <th>5678</th>\n",
       "      <td>LATE</td>\n",
       "      <td>m</td>\n",
       "      <td>Moana</td>\n",
       "      <td>ANT</td>\n",
       "      <td>D</td>\n",
       "      <td>tui</td>\n",
       "      <td>NON-P</td>\n",
       "      <td>instead of endangering our people so you can r...</td>\n",
       "      <td>73</td>\n",
       "      <td>2016</td>\n",
       "    </tr>\n",
       "    <tr>\n",
       "      <th>1009</th>\n",
       "      <td>EARLY</td>\n",
       "      <td>f</td>\n",
       "      <td>Sleeping Beauty</td>\n",
       "      <td>HELPER</td>\n",
       "      <td>D</td>\n",
       "      <td>flora</td>\n",
       "      <td>NON-P</td>\n",
       "      <td>yes, and a dress a princess can be proud of.</td>\n",
       "      <td>150</td>\n",
       "      <td>1959</td>\n",
       "    </tr>\n",
       "    <tr>\n",
       "      <th>3826</th>\n",
       "      <td>MID</td>\n",
       "      <td>f</td>\n",
       "      <td>Pocahontas</td>\n",
       "      <td>PRO</td>\n",
       "      <td>D</td>\n",
       "      <td>pocahontas</td>\n",
       "      <td>PRINCESS</td>\n",
       "      <td>kocoum, stop!</td>\n",
       "      <td>499</td>\n",
       "      <td>1995</td>\n",
       "    </tr>\n",
       "    <tr>\n",
       "      <th>3995</th>\n",
       "      <td>MID</td>\n",
       "      <td>f</td>\n",
       "      <td>Mulan</td>\n",
       "      <td>N</td>\n",
       "      <td>D</td>\n",
       "      <td>woman #1</td>\n",
       "      <td>NON-P</td>\n",
       "      <td>fa li, where is your daughter? the matchmaker ...</td>\n",
       "      <td>30</td>\n",
       "      <td>1998</td>\n",
       "    </tr>\n",
       "    <tr>\n",
       "      <th>3916</th>\n",
       "      <td>MID</td>\n",
       "      <td>f</td>\n",
       "      <td>Pocahontas</td>\n",
       "      <td>PRO</td>\n",
       "      <td>S</td>\n",
       "      <td>pocahontas</td>\n",
       "      <td>PRINCESS</td>\n",
       "      <td>please don't let it be too late english &amp; nati...</td>\n",
       "      <td>589</td>\n",
       "      <td>1995</td>\n",
       "    </tr>\n",
       "    <tr>\n",
       "      <th>5119</th>\n",
       "      <td>LATE</td>\n",
       "      <td>m</td>\n",
       "      <td>The Princess and the Frog</td>\n",
       "      <td>HELPER</td>\n",
       "      <td>D</td>\n",
       "      <td>louis</td>\n",
       "      <td>NON-P</td>\n",
       "      <td>ray?</td>\n",
       "      <td>600</td>\n",
       "      <td>2009</td>\n",
       "    </tr>\n",
       "    <tr>\n",
       "      <th>631</th>\n",
       "      <td>EARLY</td>\n",
       "      <td>f</td>\n",
       "      <td>Cinderella</td>\n",
       "      <td>PRO</td>\n",
       "      <td>D</td>\n",
       "      <td>cinderella</td>\n",
       "      <td>PRINCESS</td>\n",
       "      <td>oh poor lucifer.</td>\n",
       "      <td>269</td>\n",
       "      <td>1950</td>\n",
       "    </tr>\n",
       "    <tr>\n",
       "      <th>2255</th>\n",
       "      <td>MID</td>\n",
       "      <td>m</td>\n",
       "      <td>Aladdin</td>\n",
       "      <td>HELPER</td>\n",
       "      <td>D</td>\n",
       "      <td>bee</td>\n",
       "      <td>NON-P</td>\n",
       "      <td>nice recovery.</td>\n",
       "      <td>540</td>\n",
       "      <td>1992</td>\n",
       "    </tr>\n",
       "    <tr>\n",
       "      <th>994</th>\n",
       "      <td>EARLY</td>\n",
       "      <td>f</td>\n",
       "      <td>Sleeping Beauty</td>\n",
       "      <td>PRO</td>\n",
       "      <td>D</td>\n",
       "      <td>briar rose</td>\n",
       "      <td>PRINCESS</td>\n",
       "      <td>but i picked berries yesterday.</td>\n",
       "      <td>135</td>\n",
       "      <td>1959</td>\n",
       "    </tr>\n",
       "    <tr>\n",
       "      <th>795</th>\n",
       "      <td>EARLY</td>\n",
       "      <td>f</td>\n",
       "      <td>Cinderella</td>\n",
       "      <td>ANT</td>\n",
       "      <td>D</td>\n",
       "      <td>stepmother</td>\n",
       "      <td>NON-P</td>\n",
       "      <td>girls! now remember. this is your last chance....</td>\n",
       "      <td>433</td>\n",
       "      <td>1950</td>\n",
       "    </tr>\n",
       "    <tr>\n",
       "      <th>2006</th>\n",
       "      <td>MID</td>\n",
       "      <td>m</td>\n",
       "      <td>Aladdin</td>\n",
       "      <td>HELPER</td>\n",
       "      <td>D</td>\n",
       "      <td>abu</td>\n",
       "      <td>NON-P</td>\n",
       "      <td>aladdin! aladdin!</td>\n",
       "      <td>291</td>\n",
       "      <td>1992</td>\n",
       "    </tr>\n",
       "    <tr>\n",
       "      <th>3789</th>\n",
       "      <td>MID</td>\n",
       "      <td>m</td>\n",
       "      <td>Pocahontas</td>\n",
       "      <td>N</td>\n",
       "      <td>D</td>\n",
       "      <td>lon</td>\n",
       "      <td>NON-P</td>\n",
       "      <td>but what if smith is right? what if there is n...</td>\n",
       "      <td>462</td>\n",
       "      <td>1995</td>\n",
       "    </tr>\n",
       "    <tr>\n",
       "      <th>6719</th>\n",
       "      <td>LATE</td>\n",
       "      <td>m</td>\n",
       "      <td>Frozen</td>\n",
       "      <td>ANT</td>\n",
       "      <td>S</td>\n",
       "      <td>hans</td>\n",
       "      <td>PRINCE</td>\n",
       "      <td>i was thinking the same thing, because like...</td>\n",
       "      <td>151</td>\n",
       "      <td>2013</td>\n",
       "    </tr>\n",
       "    <tr>\n",
       "      <th>857</th>\n",
       "      <td>EARLY</td>\n",
       "      <td>m</td>\n",
       "      <td>Cinderella</td>\n",
       "      <td>N</td>\n",
       "      <td>D</td>\n",
       "      <td>grand duke</td>\n",
       "      <td>NON-P</td>\n",
       "      <td>no, no, nothing can help now.</td>\n",
       "      <td>495</td>\n",
       "      <td>1950</td>\n",
       "    </tr>\n",
       "    <tr>\n",
       "      <th>5580</th>\n",
       "      <td>LATE</td>\n",
       "      <td>m</td>\n",
       "      <td>Brave</td>\n",
       "      <td>N</td>\n",
       "      <td>D</td>\n",
       "      <td>king fergus</td>\n",
       "      <td>NON-P</td>\n",
       "      <td>are you out of your mind, lass?</td>\n",
       "      <td>386</td>\n",
       "      <td>2012</td>\n",
       "    </tr>\n",
       "    <tr>\n",
       "      <th>5027</th>\n",
       "      <td>LATE</td>\n",
       "      <td>m</td>\n",
       "      <td>The Princess and the Frog</td>\n",
       "      <td>HELPER</td>\n",
       "      <td>D</td>\n",
       "      <td>louis</td>\n",
       "      <td>NON-P</td>\n",
       "      <td>wait... i've got a better idea.</td>\n",
       "      <td>508</td>\n",
       "      <td>2009</td>\n",
       "    </tr>\n",
       "    <tr>\n",
       "      <th>1882</th>\n",
       "      <td>MID</td>\n",
       "      <td>m</td>\n",
       "      <td>Aladdin</td>\n",
       "      <td>ANT</td>\n",
       "      <td>D</td>\n",
       "      <td>iago</td>\n",
       "      <td>NON-P</td>\n",
       "      <td>with all due respect, your rottenness, couldn'...</td>\n",
       "      <td>167</td>\n",
       "      <td>1992</td>\n",
       "    </tr>\n",
       "    <tr>\n",
       "      <th>1178</th>\n",
       "      <td>EARLY</td>\n",
       "      <td>m</td>\n",
       "      <td>Sleeping Beauty</td>\n",
       "      <td>N</td>\n",
       "      <td>S</td>\n",
       "      <td>hubert</td>\n",
       "      <td>NON-P</td>\n",
       "      <td>let me fill up your glass, that glass was all ...</td>\n",
       "      <td>319</td>\n",
       "      <td>1959</td>\n",
       "    </tr>\n",
       "  </tbody>\n",
       "</table>\n",
       "</div>"
      ],
      "text/plain": [
       "     Disney_Period Gender                      Movie    Role Song  \\\n",
       "3040           MID      m       Beauty and the Beast  HELPER    D   \n",
       "151          EARLY      f                 Snow White     PRO    D   \n",
       "5678          LATE      m                      Moana     ANT    D   \n",
       "1009         EARLY      f            Sleeping Beauty  HELPER    D   \n",
       "3826           MID      f                 Pocahontas     PRO    D   \n",
       "3995           MID      f                      Mulan       N    D   \n",
       "3916           MID      f                 Pocahontas     PRO    S   \n",
       "5119          LATE      m  The Princess and the Frog  HELPER    D   \n",
       "631          EARLY      f                 Cinderella     PRO    D   \n",
       "2255           MID      m                    Aladdin  HELPER    D   \n",
       "994          EARLY      f            Sleeping Beauty     PRO    D   \n",
       "795          EARLY      f                 Cinderella     ANT    D   \n",
       "2006           MID      m                    Aladdin  HELPER    D   \n",
       "3789           MID      m                 Pocahontas       N    D   \n",
       "6719          LATE      m                     Frozen     ANT    S   \n",
       "857          EARLY      m                 Cinderella       N    D   \n",
       "5580          LATE      m                      Brave       N    D   \n",
       "5027          LATE      m  The Princess and the Frog  HELPER    D   \n",
       "1882           MID      m                    Aladdin     ANT    D   \n",
       "1178         EARLY      m            Sleeping Beauty       N    S   \n",
       "\n",
       "          Speaker Speaker_Status  \\\n",
       "3040      lumiere          NON-P   \n",
       "151    snow white       PRINCESS   \n",
       "5678          tui          NON-P   \n",
       "1009        flora          NON-P   \n",
       "3826   pocahontas       PRINCESS   \n",
       "3995     woman #1          NON-P   \n",
       "3916   pocahontas       PRINCESS   \n",
       "5119        louis          NON-P   \n",
       "631    cinderella       PRINCESS   \n",
       "2255          bee          NON-P   \n",
       "994    briar rose       PRINCESS   \n",
       "795    stepmother          NON-P   \n",
       "2006          abu          NON-P   \n",
       "3789          lon          NON-P   \n",
       "6719         hans         PRINCE   \n",
       "857    grand duke          NON-P   \n",
       "5580  king fergus          NON-P   \n",
       "5027        louis          NON-P   \n",
       "1882         iago          NON-P   \n",
       "1178       hubert          NON-P   \n",
       "\n",
       "                                                   Text  UTTERANCE_NUMBER  \\\n",
       "3040                        oh! would you like a tour?                484   \n",
       "151               oh, how silly of me. i'm snow white.                152   \n",
       "5678  instead of endangering our people so you can r...                73   \n",
       "1009      yes, and a dress a princess can be proud of.                150   \n",
       "3826                                     kocoum, stop!                499   \n",
       "3995  fa li, where is your daughter? the matchmaker ...                30   \n",
       "3916  please don't let it be too late english & nati...               589   \n",
       "5119                                              ray?                600   \n",
       "631                                   oh poor lucifer.                269   \n",
       "2255                                    nice recovery.                540   \n",
       "994                    but i picked berries yesterday.                135   \n",
       "795   girls! now remember. this is your last chance....               433   \n",
       "2006                                 aladdin! aladdin!                291   \n",
       "3789  but what if smith is right? what if there is n...               462   \n",
       "6719     i was thinking the same thing, because like...               151   \n",
       "857                      no, no, nothing can help now.                495   \n",
       "5580                   are you out of your mind, lass?                386   \n",
       "5027                   wait... i've got a better idea.                508   \n",
       "1882  with all due respect, your rottenness, couldn'...               167   \n",
       "1178  let me fill up your glass, that glass was all ...               319   \n",
       "\n",
       "      Year  \n",
       "3040  1991  \n",
       "151   1937  \n",
       "5678  2016  \n",
       "1009  1959  \n",
       "3826  1995  \n",
       "3995  1998  \n",
       "3916  1995  \n",
       "5119  2009  \n",
       "631   1950  \n",
       "2255  1992  \n",
       "994   1959  \n",
       "795   1950  \n",
       "2006  1992  \n",
       "3789  1995  \n",
       "6719  2013  \n",
       "857   1950  \n",
       "5580  2012  \n",
       "5027  2009  \n",
       "1882  1992  \n",
       "1178  1959  "
      ]
     },
     "execution_count": 103,
     "metadata": {},
     "output_type": "execute_result"
    }
   ],
   "source": [
    "all_disney_films.sample(20)"
   ]
  },
  {
   "cell_type": "code",
   "execution_count": 104,
   "metadata": {},
   "outputs": [
    {
     "data": {
      "text/html": [
       "<div>\n",
       "<style scoped>\n",
       "    .dataframe tbody tr th:only-of-type {\n",
       "        vertical-align: middle;\n",
       "    }\n",
       "\n",
       "    .dataframe tbody tr th {\n",
       "        vertical-align: top;\n",
       "    }\n",
       "\n",
       "    .dataframe thead th {\n",
       "        text-align: right;\n",
       "    }\n",
       "</style>\n",
       "<table border=\"1\" class=\"dataframe\">\n",
       "  <thead>\n",
       "    <tr style=\"text-align: right;\">\n",
       "      <th></th>\n",
       "      <th>Disney_Period</th>\n",
       "      <th>Gender</th>\n",
       "      <th>Movie</th>\n",
       "      <th>Role</th>\n",
       "      <th>Song</th>\n",
       "      <th>Speaker</th>\n",
       "      <th>Speaker_Status</th>\n",
       "      <th>Text</th>\n",
       "      <th>UTTERANCE_NUMBER</th>\n",
       "      <th>Year</th>\n",
       "    </tr>\n",
       "  </thead>\n",
       "  <tbody>\n",
       "    <tr>\n",
       "      <th>7417</th>\n",
       "      <td>LATE</td>\n",
       "      <td>m</td>\n",
       "      <td>Frozen</td>\n",
       "      <td>PRO</td>\n",
       "      <td>D</td>\n",
       "      <td>kristoff</td>\n",
       "      <td>NON-P</td>\n",
       "      <td>look out, reindeer coming through!</td>\n",
       "      <td>850</td>\n",
       "      <td>2013</td>\n",
       "    </tr>\n",
       "    <tr>\n",
       "      <th>7418</th>\n",
       "      <td>LATE</td>\n",
       "      <td>f</td>\n",
       "      <td>Frozen</td>\n",
       "      <td>PRO</td>\n",
       "      <td>D</td>\n",
       "      <td>anna</td>\n",
       "      <td>PRINCESS</td>\n",
       "      <td>i got it. i got it.  ooh! i don't got it! i do...</td>\n",
       "      <td>851</td>\n",
       "      <td>2013</td>\n",
       "    </tr>\n",
       "    <tr>\n",
       "      <th>7419</th>\n",
       "      <td>LATE</td>\n",
       "      <td>m</td>\n",
       "      <td>Frozen</td>\n",
       "      <td>HELPER</td>\n",
       "      <td>D</td>\n",
       "      <td>olaf</td>\n",
       "      <td>NON-P</td>\n",
       "      <td>hey, guys.</td>\n",
       "      <td>852</td>\n",
       "      <td>2013</td>\n",
       "    </tr>\n",
       "    <tr>\n",
       "      <th>7420</th>\n",
       "      <td>LATE</td>\n",
       "      <td>f</td>\n",
       "      <td>Frozen</td>\n",
       "      <td>PRO</td>\n",
       "      <td>D</td>\n",
       "      <td>elsa</td>\n",
       "      <td>PRINCESS</td>\n",
       "      <td>that's it, olaf.</td>\n",
       "      <td>853</td>\n",
       "      <td>2013</td>\n",
       "    </tr>\n",
       "    <tr>\n",
       "      <th>7421</th>\n",
       "      <td>LATE</td>\n",
       "      <td>m</td>\n",
       "      <td>Frozen</td>\n",
       "      <td>HELPER</td>\n",
       "      <td>D</td>\n",
       "      <td>olaf</td>\n",
       "      <td>NON-P</td>\n",
       "      <td>glide and pivot and glide and pivot...</td>\n",
       "      <td>854</td>\n",
       "      <td>2013</td>\n",
       "    </tr>\n",
       "  </tbody>\n",
       "</table>\n",
       "</div>"
      ],
      "text/plain": [
       "     Disney_Period Gender   Movie    Role Song   Speaker Speaker_Status  \\\n",
       "7417          LATE      m  Frozen     PRO    D  kristoff          NON-P   \n",
       "7418          LATE      f  Frozen     PRO    D      anna       PRINCESS   \n",
       "7419          LATE      m  Frozen  HELPER    D      olaf          NON-P   \n",
       "7420          LATE      f  Frozen     PRO    D      elsa       PRINCESS   \n",
       "7421          LATE      m  Frozen  HELPER    D      olaf          NON-P   \n",
       "\n",
       "                                                   Text  UTTERANCE_NUMBER  \\\n",
       "7417                 look out, reindeer coming through!               850   \n",
       "7418  i got it. i got it.  ooh! i don't got it! i do...               851   \n",
       "7419                                         hey, guys.               852   \n",
       "7420                                   that's it, olaf.               853   \n",
       "7421             glide and pivot and glide and pivot...               854   \n",
       "\n",
       "      Year  \n",
       "7417  2013  \n",
       "7418  2013  \n",
       "7419  2013  \n",
       "7420  2013  \n",
       "7421  2013  "
      ]
     },
     "execution_count": 104,
     "metadata": {},
     "output_type": "execute_result"
    }
   ],
   "source": [
    "all_disney_films.tail()"
   ]
  },
  {
   "cell_type": "code",
   "execution_count": 105,
   "metadata": {},
   "outputs": [],
   "source": [
    "#pickle it!\n",
    "all_disney_films.to_pickle(r\"C:\\Users\\cassi\\Desktop\\Data_Science\\Animated-Movie-Gendered-Dialogue\\private\\all_disney_annotated.pkl\")"
   ]
  },
  {
   "cell_type": "code",
   "execution_count": null,
   "metadata": {},
   "outputs": [],
   "source": []
  }
 ],
 "metadata": {
  "kernelspec": {
   "display_name": "Python 3",
   "language": "python",
   "name": "python3"
  },
  "language_info": {
   "codemirror_mode": {
    "name": "ipython",
    "version": 3
   },
   "file_extension": ".py",
   "mimetype": "text/x-python",
   "name": "python",
   "nbconvert_exporter": "python",
   "pygments_lexer": "ipython3",
   "version": "3.6.4"
  }
 },
 "nbformat": 4,
 "nbformat_minor": 2
}
