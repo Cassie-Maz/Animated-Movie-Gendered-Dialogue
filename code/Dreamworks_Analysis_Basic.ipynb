{
 "cells": [
  {
   "cell_type": "markdown",
   "metadata": {},
   "source": [
    "# DreamWorks Analsyis: The Basics\n",
    "To begin looking at how gender affects dialogue in these movies let's get some basic stats first. Specifically:\n",
    "* Token count per line\n",
    "* Type count per line\n",
    "\n",
    "How do these vary based on gender? Later on I hope to look at these character by character:\n",
    "* Token count per character\n",
    "* Type counter per character\n",
    "* TTR per character\n",
    "\n",
    "I'm not doing TTR line by line, because some of these lines are incredibly short, creating huge TTRs. It's best to look at a character's overall TTR"
   ]
  },
  {
   "cell_type": "markdown",
   "metadata": {},
   "source": [
    "## 1) Token count"
   ]
  },
  {
   "cell_type": "code",
   "execution_count": 1,
   "metadata": {},
   "outputs": [],
   "source": [
    "import nltk"
   ]
  },
  {
   "cell_type": "code",
   "execution_count": 2,
   "metadata": {},
   "outputs": [],
   "source": [
    "import pandas as pd"
   ]
  },
  {
   "cell_type": "code",
   "execution_count": 3,
   "metadata": {},
   "outputs": [],
   "source": [
    "dw_df = pd.read_pickle(r\"C:/Users/cassi/Desktop/Data_Science/Animated-Movie-Gendered-Dialogue/private/all_dreamworks.pkl\")"
   ]
  },
  {
   "cell_type": "code",
   "execution_count": 4,
   "metadata": {},
   "outputs": [
    {
     "name": "stdout",
     "output_type": "stream",
     "text": [
      "<class 'pandas.core.frame.DataFrame'>\n",
      "RangeIndex: 6674 entries, 0 to 6673\n",
      "Data columns (total 10 columns):\n",
      "Gender              6674 non-null object\n",
      "Movie               6674 non-null object\n",
      "Role                6674 non-null object\n",
      "Song                6674 non-null object\n",
      "Speaker             6674 non-null object\n",
      "Speaker_Status      6674 non-null object\n",
      "Text                6674 non-null object\n",
      "UTTERANCE_NUMBER    6674 non-null int64\n",
      "Year                6674 non-null int64\n",
      "Disney_Period       6674 non-null object\n",
      "dtypes: int64(2), object(8)\n",
      "memory usage: 312.9+ KB\n"
     ]
    }
   ],
   "source": [
    "dw_df.info()"
   ]
  },
  {
   "cell_type": "code",
   "execution_count": 6,
   "metadata": {},
   "outputs": [],
   "source": [
    "dw_df[\"Tokens\"] = dw_df.Text.map(nltk.word_tokenize)"
   ]
  },
  {
   "cell_type": "code",
   "execution_count": 7,
   "metadata": {},
   "outputs": [
    {
     "data": {
      "text/html": [
       "<div>\n",
       "<style scoped>\n",
       "    .dataframe tbody tr th:only-of-type {\n",
       "        vertical-align: middle;\n",
       "    }\n",
       "\n",
       "    .dataframe tbody tr th {\n",
       "        vertical-align: top;\n",
       "    }\n",
       "\n",
       "    .dataframe thead th {\n",
       "        text-align: right;\n",
       "    }\n",
       "</style>\n",
       "<table border=\"1\" class=\"dataframe\">\n",
       "  <thead>\n",
       "    <tr style=\"text-align: right;\">\n",
       "      <th></th>\n",
       "      <th>Gender</th>\n",
       "      <th>Movie</th>\n",
       "      <th>Role</th>\n",
       "      <th>Song</th>\n",
       "      <th>Speaker</th>\n",
       "      <th>Speaker_Status</th>\n",
       "      <th>Text</th>\n",
       "      <th>UTTERANCE_NUMBER</th>\n",
       "      <th>Year</th>\n",
       "      <th>Disney_Period</th>\n",
       "      <th>Tokens</th>\n",
       "    </tr>\n",
       "  </thead>\n",
       "  <tbody>\n",
       "    <tr>\n",
       "      <th>0</th>\n",
       "      <td>m</td>\n",
       "      <td>Antz</td>\n",
       "      <td>PRO</td>\n",
       "      <td>D</td>\n",
       "      <td>z</td>\n",
       "      <td>NON-P</td>\n",
       "      <td>all my life, i've lived and worked in the big ...</td>\n",
       "      <td>1</td>\n",
       "      <td>1998</td>\n",
       "      <td>DREAMWORKS</td>\n",
       "      <td>[all, my, life, ,, i, 've, lived, and, worked,...</td>\n",
       "    </tr>\n",
       "    <tr>\n",
       "      <th>1</th>\n",
       "      <td>m</td>\n",
       "      <td>Antz</td>\n",
       "      <td>PRO</td>\n",
       "      <td>D</td>\n",
       "      <td>z</td>\n",
       "      <td>NON-P</td>\n",
       "      <td>...which is kind of a problem, since i've alwa...</td>\n",
       "      <td>2</td>\n",
       "      <td>1998</td>\n",
       "      <td>DREAMWORKS</td>\n",
       "      <td>[..., which, is, kind, of, a, problem, ,, sinc...</td>\n",
       "    </tr>\n",
       "    <tr>\n",
       "      <th>2</th>\n",
       "      <td>m</td>\n",
       "      <td>Antz</td>\n",
       "      <td>PRO</td>\n",
       "      <td>D</td>\n",
       "      <td>z</td>\n",
       "      <td>NON-P</td>\n",
       "      <td>i feel...isolated.  different.  i've got aband...</td>\n",
       "      <td>3</td>\n",
       "      <td>1998</td>\n",
       "      <td>DREAMWORKS</td>\n",
       "      <td>[i, feel, ..., isolated, ., different, ., i, '...</td>\n",
       "    </tr>\n",
       "    <tr>\n",
       "      <th>3</th>\n",
       "      <td>m</td>\n",
       "      <td>Antz</td>\n",
       "      <td>N</td>\n",
       "      <td>D</td>\n",
       "      <td>motivational counsellor</td>\n",
       "      <td>NON-P</td>\n",
       "      <td>terrific!  you should feel insignificant!</td>\n",
       "      <td>4</td>\n",
       "      <td>1998</td>\n",
       "      <td>DREAMWORKS</td>\n",
       "      <td>[terrific, !, you, should, feel, insignificant...</td>\n",
       "    </tr>\n",
       "    <tr>\n",
       "      <th>4</th>\n",
       "      <td>m</td>\n",
       "      <td>Antz</td>\n",
       "      <td>PRO</td>\n",
       "      <td>D</td>\n",
       "      <td>z</td>\n",
       "      <td>NON-P</td>\n",
       "      <td>...i should?</td>\n",
       "      <td>5</td>\n",
       "      <td>1998</td>\n",
       "      <td>DREAMWORKS</td>\n",
       "      <td>[..., i, should, ?]</td>\n",
       "    </tr>\n",
       "  </tbody>\n",
       "</table>\n",
       "</div>"
      ],
      "text/plain": [
       "  Gender Movie Role Song                  Speaker Speaker_Status  \\\n",
       "0      m  Antz  PRO    D                        z          NON-P   \n",
       "1      m  Antz  PRO    D                        z          NON-P   \n",
       "2      m  Antz  PRO    D                        z          NON-P   \n",
       "3      m  Antz    N    D  motivational counsellor          NON-P   \n",
       "4      m  Antz  PRO    D                        z          NON-P   \n",
       "\n",
       "                                                Text  UTTERANCE_NUMBER  Year  \\\n",
       "0  all my life, i've lived and worked in the big ...                 1  1998   \n",
       "1  ...which is kind of a problem, since i've alwa...                 2  1998   \n",
       "2  i feel...isolated.  different.  i've got aband...                 3  1998   \n",
       "3          terrific!  you should feel insignificant!                 4  1998   \n",
       "4                                       ...i should?                 5  1998   \n",
       "\n",
       "  Disney_Period                                             Tokens  \n",
       "0    DREAMWORKS  [all, my, life, ,, i, 've, lived, and, worked,...  \n",
       "1    DREAMWORKS  [..., which, is, kind, of, a, problem, ,, sinc...  \n",
       "2    DREAMWORKS  [i, feel, ..., isolated, ., different, ., i, '...  \n",
       "3    DREAMWORKS  [terrific, !, you, should, feel, insignificant...  \n",
       "4    DREAMWORKS                                [..., i, should, ?]  "
      ]
     },
     "execution_count": 7,
     "metadata": {},
     "output_type": "execute_result"
    }
   ],
   "source": [
    "dw_df.head()"
   ]
  },
  {
   "cell_type": "code",
   "execution_count": 8,
   "metadata": {},
   "outputs": [],
   "source": [
    "dw_df[\"Types\"] = dw_df.Tokens.map(set)"
   ]
  },
  {
   "cell_type": "code",
   "execution_count": 9,
   "metadata": {},
   "outputs": [
    {
     "data": {
      "text/html": [
       "<div>\n",
       "<style scoped>\n",
       "    .dataframe tbody tr th:only-of-type {\n",
       "        vertical-align: middle;\n",
       "    }\n",
       "\n",
       "    .dataframe tbody tr th {\n",
       "        vertical-align: top;\n",
       "    }\n",
       "\n",
       "    .dataframe thead th {\n",
       "        text-align: right;\n",
       "    }\n",
       "</style>\n",
       "<table border=\"1\" class=\"dataframe\">\n",
       "  <thead>\n",
       "    <tr style=\"text-align: right;\">\n",
       "      <th></th>\n",
       "      <th>Gender</th>\n",
       "      <th>Movie</th>\n",
       "      <th>Role</th>\n",
       "      <th>Song</th>\n",
       "      <th>Speaker</th>\n",
       "      <th>Speaker_Status</th>\n",
       "      <th>Text</th>\n",
       "      <th>UTTERANCE_NUMBER</th>\n",
       "      <th>Year</th>\n",
       "      <th>Disney_Period</th>\n",
       "      <th>Tokens</th>\n",
       "      <th>Types</th>\n",
       "    </tr>\n",
       "  </thead>\n",
       "  <tbody>\n",
       "    <tr>\n",
       "      <th>0</th>\n",
       "      <td>m</td>\n",
       "      <td>Antz</td>\n",
       "      <td>PRO</td>\n",
       "      <td>D</td>\n",
       "      <td>z</td>\n",
       "      <td>NON-P</td>\n",
       "      <td>all my life, i've lived and worked in the big ...</td>\n",
       "      <td>1</td>\n",
       "      <td>1998</td>\n",
       "      <td>DREAMWORKS</td>\n",
       "      <td>[all, my, life, ,, i, 've, lived, and, worked,...</td>\n",
       "      <td>{i, 've, lived, life, city, worked, ..., ,, an...</td>\n",
       "    </tr>\n",
       "    <tr>\n",
       "      <th>1</th>\n",
       "      <td>m</td>\n",
       "      <td>Antz</td>\n",
       "      <td>PRO</td>\n",
       "      <td>D</td>\n",
       "      <td>z</td>\n",
       "      <td>NON-P</td>\n",
       "      <td>...which is kind of a problem, since i've alwa...</td>\n",
       "      <td>2</td>\n",
       "      <td>1998</td>\n",
       "      <td>DREAMWORKS</td>\n",
       "      <td>[..., which, is, kind, of, a, problem, ,, sinc...</td>\n",
       "      <td>{i, 've, uncomfortably, crowds, a, kind, probl...</td>\n",
       "    </tr>\n",
       "    <tr>\n",
       "      <th>2</th>\n",
       "      <td>m</td>\n",
       "      <td>Antz</td>\n",
       "      <td>PRO</td>\n",
       "      <td>D</td>\n",
       "      <td>z</td>\n",
       "      <td>NON-P</td>\n",
       "      <td>i feel...isolated.  different.  i've got aband...</td>\n",
       "      <td>3</td>\n",
       "      <td>1998</td>\n",
       "      <td>DREAMWORKS</td>\n",
       "      <td>[i, feel, ..., isolated, ., different, ., i, '...</td>\n",
       "      <td>{do, assigned, insignificant, time, just, work...</td>\n",
       "    </tr>\n",
       "    <tr>\n",
       "      <th>3</th>\n",
       "      <td>m</td>\n",
       "      <td>Antz</td>\n",
       "      <td>N</td>\n",
       "      <td>D</td>\n",
       "      <td>motivational counsellor</td>\n",
       "      <td>NON-P</td>\n",
       "      <td>terrific!  you should feel insignificant!</td>\n",
       "      <td>4</td>\n",
       "      <td>1998</td>\n",
       "      <td>DREAMWORKS</td>\n",
       "      <td>[terrific, !, you, should, feel, insignificant...</td>\n",
       "      <td>{!, insignificant, you, feel, terrific, should}</td>\n",
       "    </tr>\n",
       "    <tr>\n",
       "      <th>4</th>\n",
       "      <td>m</td>\n",
       "      <td>Antz</td>\n",
       "      <td>PRO</td>\n",
       "      <td>D</td>\n",
       "      <td>z</td>\n",
       "      <td>NON-P</td>\n",
       "      <td>...i should?</td>\n",
       "      <td>5</td>\n",
       "      <td>1998</td>\n",
       "      <td>DREAMWORKS</td>\n",
       "      <td>[..., i, should, ?]</td>\n",
       "      <td>{i, ..., should, ?}</td>\n",
       "    </tr>\n",
       "  </tbody>\n",
       "</table>\n",
       "</div>"
      ],
      "text/plain": [
       "  Gender Movie Role Song                  Speaker Speaker_Status  \\\n",
       "0      m  Antz  PRO    D                        z          NON-P   \n",
       "1      m  Antz  PRO    D                        z          NON-P   \n",
       "2      m  Antz  PRO    D                        z          NON-P   \n",
       "3      m  Antz    N    D  motivational counsellor          NON-P   \n",
       "4      m  Antz  PRO    D                        z          NON-P   \n",
       "\n",
       "                                                Text  UTTERANCE_NUMBER  Year  \\\n",
       "0  all my life, i've lived and worked in the big ...                 1  1998   \n",
       "1  ...which is kind of a problem, since i've alwa...                 2  1998   \n",
       "2  i feel...isolated.  different.  i've got aband...                 3  1998   \n",
       "3          terrific!  you should feel insignificant!                 4  1998   \n",
       "4                                       ...i should?                 5  1998   \n",
       "\n",
       "  Disney_Period                                             Tokens  \\\n",
       "0    DREAMWORKS  [all, my, life, ,, i, 've, lived, and, worked,...   \n",
       "1    DREAMWORKS  [..., which, is, kind, of, a, problem, ,, sinc...   \n",
       "2    DREAMWORKS  [i, feel, ..., isolated, ., different, ., i, '...   \n",
       "3    DREAMWORKS  [terrific, !, you, should, feel, insignificant...   \n",
       "4    DREAMWORKS                                [..., i, should, ?]   \n",
       "\n",
       "                                               Types  \n",
       "0  {i, 've, lived, life, city, worked, ..., ,, an...  \n",
       "1  {i, 've, uncomfortably, crowds, a, kind, probl...  \n",
       "2  {do, assigned, insignificant, time, just, work...  \n",
       "3    {!, insignificant, you, feel, terrific, should}  \n",
       "4                                {i, ..., should, ?}  "
      ]
     },
     "execution_count": 9,
     "metadata": {},
     "output_type": "execute_result"
    }
   ],
   "source": [
    "dw_df.head()"
   ]
  },
  {
   "cell_type": "code",
   "execution_count": 10,
   "metadata": {},
   "outputs": [],
   "source": [
    "dw_df[\"Token_Count\"] = dw_df.Tokens.map(len)"
   ]
  },
  {
   "cell_type": "code",
   "execution_count": 11,
   "metadata": {},
   "outputs": [],
   "source": [
    "dw_df[\"Type_Count\"] = dw_df.Types.map(len)"
   ]
  },
  {
   "cell_type": "code",
   "execution_count": 13,
   "metadata": {},
   "outputs": [
    {
     "data": {
      "text/html": [
       "<div>\n",
       "<style scoped>\n",
       "    .dataframe tbody tr th:only-of-type {\n",
       "        vertical-align: middle;\n",
       "    }\n",
       "\n",
       "    .dataframe tbody tr th {\n",
       "        vertical-align: top;\n",
       "    }\n",
       "\n",
       "    .dataframe thead th {\n",
       "        text-align: right;\n",
       "    }\n",
       "</style>\n",
       "<table border=\"1\" class=\"dataframe\">\n",
       "  <thead>\n",
       "    <tr style=\"text-align: right;\">\n",
       "      <th></th>\n",
       "      <th>Gender</th>\n",
       "      <th>Movie</th>\n",
       "      <th>Role</th>\n",
       "      <th>Song</th>\n",
       "      <th>Speaker</th>\n",
       "      <th>Speaker_Status</th>\n",
       "      <th>Text</th>\n",
       "      <th>UTTERANCE_NUMBER</th>\n",
       "      <th>Year</th>\n",
       "      <th>Disney_Period</th>\n",
       "      <th>Tokens</th>\n",
       "      <th>Types</th>\n",
       "      <th>Token_Count</th>\n",
       "      <th>Type_Count</th>\n",
       "    </tr>\n",
       "  </thead>\n",
       "  <tbody>\n",
       "    <tr>\n",
       "      <th>0</th>\n",
       "      <td>m</td>\n",
       "      <td>Antz</td>\n",
       "      <td>PRO</td>\n",
       "      <td>D</td>\n",
       "      <td>z</td>\n",
       "      <td>NON-P</td>\n",
       "      <td>all my life, i've lived and worked in the big ...</td>\n",
       "      <td>1</td>\n",
       "      <td>1998</td>\n",
       "      <td>DREAMWORKS</td>\n",
       "      <td>[all, my, life, ,, i, 've, lived, and, worked,...</td>\n",
       "      <td>{i, 've, lived, life, city, worked, ..., ,, an...</td>\n",
       "      <td>14</td>\n",
       "      <td>14</td>\n",
       "    </tr>\n",
       "    <tr>\n",
       "      <th>1</th>\n",
       "      <td>m</td>\n",
       "      <td>Antz</td>\n",
       "      <td>PRO</td>\n",
       "      <td>D</td>\n",
       "      <td>z</td>\n",
       "      <td>NON-P</td>\n",
       "      <td>...which is kind of a problem, since i've alwa...</td>\n",
       "      <td>2</td>\n",
       "      <td>1998</td>\n",
       "      <td>DREAMWORKS</td>\n",
       "      <td>[..., which, is, kind, of, a, problem, ,, sinc...</td>\n",
       "      <td>{i, 've, uncomfortably, crowds, a, kind, probl...</td>\n",
       "      <td>17</td>\n",
       "      <td>17</td>\n",
       "    </tr>\n",
       "    <tr>\n",
       "      <th>2</th>\n",
       "      <td>m</td>\n",
       "      <td>Antz</td>\n",
       "      <td>PRO</td>\n",
       "      <td>D</td>\n",
       "      <td>z</td>\n",
       "      <td>NON-P</td>\n",
       "      <td>i feel...isolated.  different.  i've got aband...</td>\n",
       "      <td>3</td>\n",
       "      <td>1998</td>\n",
       "      <td>DREAMWORKS</td>\n",
       "      <td>[i, feel, ..., isolated, ., different, ., i, '...</td>\n",
       "      <td>{do, assigned, insignificant, time, just, work...</td>\n",
       "      <td>115</td>\n",
       "      <td>73</td>\n",
       "    </tr>\n",
       "    <tr>\n",
       "      <th>3</th>\n",
       "      <td>m</td>\n",
       "      <td>Antz</td>\n",
       "      <td>N</td>\n",
       "      <td>D</td>\n",
       "      <td>motivational counsellor</td>\n",
       "      <td>NON-P</td>\n",
       "      <td>terrific!  you should feel insignificant!</td>\n",
       "      <td>4</td>\n",
       "      <td>1998</td>\n",
       "      <td>DREAMWORKS</td>\n",
       "      <td>[terrific, !, you, should, feel, insignificant...</td>\n",
       "      <td>{!, insignificant, you, feel, terrific, should}</td>\n",
       "      <td>7</td>\n",
       "      <td>6</td>\n",
       "    </tr>\n",
       "    <tr>\n",
       "      <th>4</th>\n",
       "      <td>m</td>\n",
       "      <td>Antz</td>\n",
       "      <td>PRO</td>\n",
       "      <td>D</td>\n",
       "      <td>z</td>\n",
       "      <td>NON-P</td>\n",
       "      <td>...i should?</td>\n",
       "      <td>5</td>\n",
       "      <td>1998</td>\n",
       "      <td>DREAMWORKS</td>\n",
       "      <td>[..., i, should, ?]</td>\n",
       "      <td>{i, ..., should, ?}</td>\n",
       "      <td>4</td>\n",
       "      <td>4</td>\n",
       "    </tr>\n",
       "  </tbody>\n",
       "</table>\n",
       "</div>"
      ],
      "text/plain": [
       "  Gender Movie Role Song                  Speaker Speaker_Status  \\\n",
       "0      m  Antz  PRO    D                        z          NON-P   \n",
       "1      m  Antz  PRO    D                        z          NON-P   \n",
       "2      m  Antz  PRO    D                        z          NON-P   \n",
       "3      m  Antz    N    D  motivational counsellor          NON-P   \n",
       "4      m  Antz  PRO    D                        z          NON-P   \n",
       "\n",
       "                                                Text  UTTERANCE_NUMBER  Year  \\\n",
       "0  all my life, i've lived and worked in the big ...                 1  1998   \n",
       "1  ...which is kind of a problem, since i've alwa...                 2  1998   \n",
       "2  i feel...isolated.  different.  i've got aband...                 3  1998   \n",
       "3          terrific!  you should feel insignificant!                 4  1998   \n",
       "4                                       ...i should?                 5  1998   \n",
       "\n",
       "  Disney_Period                                             Tokens  \\\n",
       "0    DREAMWORKS  [all, my, life, ,, i, 've, lived, and, worked,...   \n",
       "1    DREAMWORKS  [..., which, is, kind, of, a, problem, ,, sinc...   \n",
       "2    DREAMWORKS  [i, feel, ..., isolated, ., different, ., i, '...   \n",
       "3    DREAMWORKS  [terrific, !, you, should, feel, insignificant...   \n",
       "4    DREAMWORKS                                [..., i, should, ?]   \n",
       "\n",
       "                                               Types  Token_Count  Type_Count  \n",
       "0  {i, 've, lived, life, city, worked, ..., ,, an...           14          14  \n",
       "1  {i, 've, uncomfortably, crowds, a, kind, probl...           17          17  \n",
       "2  {do, assigned, insignificant, time, just, work...          115          73  \n",
       "3    {!, insignificant, you, feel, terrific, should}            7           6  \n",
       "4                                {i, ..., should, ?}            4           4  "
      ]
     },
     "execution_count": 13,
     "metadata": {},
     "output_type": "execute_result"
    }
   ],
   "source": [
    "dw_df.head()"
   ]
  },
  {
   "cell_type": "code",
   "execution_count": 14,
   "metadata": {},
   "outputs": [
    {
     "data": {
      "text/html": [
       "<div>\n",
       "<style scoped>\n",
       "    .dataframe tbody tr th:only-of-type {\n",
       "        vertical-align: middle;\n",
       "    }\n",
       "\n",
       "    .dataframe tbody tr th {\n",
       "        vertical-align: top;\n",
       "    }\n",
       "\n",
       "    .dataframe thead th {\n",
       "        text-align: right;\n",
       "    }\n",
       "</style>\n",
       "<table border=\"1\" class=\"dataframe\">\n",
       "  <thead>\n",
       "    <tr style=\"text-align: right;\">\n",
       "      <th></th>\n",
       "      <th>Token_Count</th>\n",
       "      <th>Type_Count</th>\n",
       "    </tr>\n",
       "  </thead>\n",
       "  <tbody>\n",
       "    <tr>\n",
       "      <th>count</th>\n",
       "      <td>6674.000000</td>\n",
       "      <td>6674.000000</td>\n",
       "    </tr>\n",
       "    <tr>\n",
       "      <th>mean</th>\n",
       "      <td>11.684447</td>\n",
       "      <td>9.932874</td>\n",
       "    </tr>\n",
       "    <tr>\n",
       "      <th>std</th>\n",
       "      <td>11.301579</td>\n",
       "      <td>8.124259</td>\n",
       "    </tr>\n",
       "    <tr>\n",
       "      <th>min</th>\n",
       "      <td>0.000000</td>\n",
       "      <td>0.000000</td>\n",
       "    </tr>\n",
       "    <tr>\n",
       "      <th>25%</th>\n",
       "      <td>5.000000</td>\n",
       "      <td>4.000000</td>\n",
       "    </tr>\n",
       "    <tr>\n",
       "      <th>50%</th>\n",
       "      <td>8.000000</td>\n",
       "      <td>8.000000</td>\n",
       "    </tr>\n",
       "    <tr>\n",
       "      <th>75%</th>\n",
       "      <td>15.000000</td>\n",
       "      <td>13.000000</td>\n",
       "    </tr>\n",
       "    <tr>\n",
       "      <th>max</th>\n",
       "      <td>213.000000</td>\n",
       "      <td>109.000000</td>\n",
       "    </tr>\n",
       "  </tbody>\n",
       "</table>\n",
       "</div>"
      ],
      "text/plain": [
       "       Token_Count   Type_Count\n",
       "count  6674.000000  6674.000000\n",
       "mean     11.684447     9.932874\n",
       "std      11.301579     8.124259\n",
       "min       0.000000     0.000000\n",
       "25%       5.000000     4.000000\n",
       "50%       8.000000     8.000000\n",
       "75%      15.000000    13.000000\n",
       "max     213.000000   109.000000"
      ]
     },
     "execution_count": 14,
     "metadata": {},
     "output_type": "execute_result"
    }
   ],
   "source": [
    "dw_df[[\"Token_Count\", \"Type_Count\"]].describe()"
   ]
  },
  {
   "cell_type": "markdown",
   "metadata": {},
   "source": [
    "Average token count per line is about 11.68, average type count is almost 10. Somewhat large standard deviations"
   ]
  },
  {
   "cell_type": "code",
   "execution_count": 15,
   "metadata": {},
   "outputs": [
    {
     "data": {
      "text/html": [
       "<div>\n",
       "<style scoped>\n",
       "    .dataframe tbody tr th:only-of-type {\n",
       "        vertical-align: middle;\n",
       "    }\n",
       "\n",
       "    .dataframe tbody tr th {\n",
       "        vertical-align: top;\n",
       "    }\n",
       "\n",
       "    .dataframe thead th {\n",
       "        text-align: right;\n",
       "    }\n",
       "</style>\n",
       "<table border=\"1\" class=\"dataframe\">\n",
       "  <thead>\n",
       "    <tr style=\"text-align: right;\">\n",
       "      <th></th>\n",
       "      <th>Gender</th>\n",
       "      <th>Movie</th>\n",
       "      <th>Role</th>\n",
       "      <th>Song</th>\n",
       "      <th>Speaker</th>\n",
       "      <th>Speaker_Status</th>\n",
       "      <th>Text</th>\n",
       "      <th>UTTERANCE_NUMBER</th>\n",
       "      <th>Year</th>\n",
       "      <th>Disney_Period</th>\n",
       "      <th>Tokens</th>\n",
       "      <th>Types</th>\n",
       "      <th>Token_Count</th>\n",
       "      <th>Type_Count</th>\n",
       "    </tr>\n",
       "  </thead>\n",
       "  <tbody>\n",
       "    <tr>\n",
       "      <th>1743</th>\n",
       "      <td>f</td>\n",
       "      <td>Shrek 3</td>\n",
       "      <td>HELPER</td>\n",
       "      <td>D</td>\n",
       "      <td>snow white</td>\n",
       "      <td>PRINCESS</td>\n",
       "      <td></td>\n",
       "      <td>378</td>\n",
       "      <td>2007</td>\n",
       "      <td>DREAMWORKS</td>\n",
       "      <td>[]</td>\n",
       "      <td>{}</td>\n",
       "      <td>0</td>\n",
       "      <td>0</td>\n",
       "    </tr>\n",
       "    <tr>\n",
       "      <th>1983</th>\n",
       "      <td>m</td>\n",
       "      <td>Shrek 3</td>\n",
       "      <td>HELPER</td>\n",
       "      <td>D</td>\n",
       "      <td>donkey</td>\n",
       "      <td>NON-P</td>\n",
       "      <td></td>\n",
       "      <td>618</td>\n",
       "      <td>2007</td>\n",
       "      <td>DREAMWORKS</td>\n",
       "      <td>[]</td>\n",
       "      <td>{}</td>\n",
       "      <td>0</td>\n",
       "      <td>0</td>\n",
       "    </tr>\n",
       "    <tr>\n",
       "      <th>5273</th>\n",
       "      <td>m</td>\n",
       "      <td>The Croods</td>\n",
       "      <td>ANT</td>\n",
       "      <td>D</td>\n",
       "      <td>grug</td>\n",
       "      <td>NON-P</td>\n",
       "      <td></td>\n",
       "      <td>78</td>\n",
       "      <td>2013</td>\n",
       "      <td>DREAMWORKS</td>\n",
       "      <td>[]</td>\n",
       "      <td>{}</td>\n",
       "      <td>0</td>\n",
       "      <td>0</td>\n",
       "    </tr>\n",
       "    <tr>\n",
       "      <th>5286</th>\n",
       "      <td>n</td>\n",
       "      <td>The Croods</td>\n",
       "      <td>N</td>\n",
       "      <td>D</td>\n",
       "      <td>croods</td>\n",
       "      <td>NON-P</td>\n",
       "      <td></td>\n",
       "      <td>91</td>\n",
       "      <td>2013</td>\n",
       "      <td>DREAMWORKS</td>\n",
       "      <td>[]</td>\n",
       "      <td>{}</td>\n",
       "      <td>0</td>\n",
       "      <td>0</td>\n",
       "    </tr>\n",
       "    <tr>\n",
       "      <th>5441</th>\n",
       "      <td>n</td>\n",
       "      <td>The Croods</td>\n",
       "      <td>N</td>\n",
       "      <td>D</td>\n",
       "      <td>croods</td>\n",
       "      <td>NON-P</td>\n",
       "      <td></td>\n",
       "      <td>246</td>\n",
       "      <td>2013</td>\n",
       "      <td>DREAMWORKS</td>\n",
       "      <td>[]</td>\n",
       "      <td>{}</td>\n",
       "      <td>0</td>\n",
       "      <td>0</td>\n",
       "    </tr>\n",
       "    <tr>\n",
       "      <th>5649</th>\n",
       "      <td>n</td>\n",
       "      <td>The Croods</td>\n",
       "      <td>N</td>\n",
       "      <td>D</td>\n",
       "      <td>croods</td>\n",
       "      <td>NON-P</td>\n",
       "      <td></td>\n",
       "      <td>454</td>\n",
       "      <td>2013</td>\n",
       "      <td>DREAMWORKS</td>\n",
       "      <td>[]</td>\n",
       "      <td>{}</td>\n",
       "      <td>0</td>\n",
       "      <td>0</td>\n",
       "    </tr>\n",
       "    <tr>\n",
       "      <th>6115</th>\n",
       "      <td>m</td>\n",
       "      <td>How to Train Your Dragon 2</td>\n",
       "      <td>PRO</td>\n",
       "      <td>D</td>\n",
       "      <td>hiccup</td>\n",
       "      <td>NON-P</td>\n",
       "      <td></td>\n",
       "      <td>150</td>\n",
       "      <td>2014</td>\n",
       "      <td>DREAMWORKS</td>\n",
       "      <td>[]</td>\n",
       "      <td>{}</td>\n",
       "      <td>0</td>\n",
       "      <td>0</td>\n",
       "    </tr>\n",
       "  </tbody>\n",
       "</table>\n",
       "</div>"
      ],
      "text/plain": [
       "     Gender                       Movie    Role Song     Speaker  \\\n",
       "1743      f                     Shrek 3  HELPER    D  snow white   \n",
       "1983      m                     Shrek 3  HELPER    D      donkey   \n",
       "5273      m                  The Croods     ANT    D        grug   \n",
       "5286      n                  The Croods       N    D      croods   \n",
       "5441      n                  The Croods       N    D      croods   \n",
       "5649      n                  The Croods       N    D      croods   \n",
       "6115      m  How to Train Your Dragon 2     PRO    D      hiccup   \n",
       "\n",
       "     Speaker_Status Text  UTTERANCE_NUMBER  Year Disney_Period Tokens Types  \\\n",
       "1743       PRINCESS                    378  2007    DREAMWORKS     []    {}   \n",
       "1983          NON-P                    618  2007    DREAMWORKS     []    {}   \n",
       "5273          NON-P                     78  2013    DREAMWORKS     []    {}   \n",
       "5286          NON-P                     91  2013    DREAMWORKS     []    {}   \n",
       "5441          NON-P                    246  2013    DREAMWORKS     []    {}   \n",
       "5649          NON-P                    454  2013    DREAMWORKS     []    {}   \n",
       "6115          NON-P                    150  2014    DREAMWORKS     []    {}   \n",
       "\n",
       "      Token_Count  Type_Count  \n",
       "1743            0           0  \n",
       "1983            0           0  \n",
       "5273            0           0  \n",
       "5286            0           0  \n",
       "5441            0           0  \n",
       "5649            0           0  \n",
       "6115            0           0  "
      ]
     },
     "execution_count": 15,
     "metadata": {},
     "output_type": "execute_result"
    }
   ],
   "source": [
    "dw_df[dw_df.Token_Count == 0] # definitely more blank lines than there were in Disney data"
   ]
  },
  {
   "cell_type": "code",
   "execution_count": 16,
   "metadata": {},
   "outputs": [
    {
     "data": {
      "text/html": [
       "<div>\n",
       "<style scoped>\n",
       "    .dataframe tbody tr th:only-of-type {\n",
       "        vertical-align: middle;\n",
       "    }\n",
       "\n",
       "    .dataframe tbody tr th {\n",
       "        vertical-align: top;\n",
       "    }\n",
       "\n",
       "    .dataframe thead th {\n",
       "        text-align: right;\n",
       "    }\n",
       "</style>\n",
       "<table border=\"1\" class=\"dataframe\">\n",
       "  <thead>\n",
       "    <tr style=\"text-align: right;\">\n",
       "      <th></th>\n",
       "      <th>Gender</th>\n",
       "      <th>Movie</th>\n",
       "      <th>Role</th>\n",
       "      <th>Song</th>\n",
       "      <th>Speaker</th>\n",
       "      <th>Speaker_Status</th>\n",
       "      <th>Text</th>\n",
       "      <th>UTTERANCE_NUMBER</th>\n",
       "      <th>Year</th>\n",
       "      <th>Disney_Period</th>\n",
       "      <th>Tokens</th>\n",
       "      <th>Types</th>\n",
       "      <th>Token_Count</th>\n",
       "      <th>Type_Count</th>\n",
       "    </tr>\n",
       "  </thead>\n",
       "  <tbody>\n",
       "    <tr>\n",
       "      <th>941</th>\n",
       "      <td>m</td>\n",
       "      <td>Shrek</td>\n",
       "      <td>HELPER</td>\n",
       "      <td>D</td>\n",
       "      <td>donkey</td>\n",
       "      <td>NON-P</td>\n",
       "      <td>slow down. slow down, baby, please. i believe ...</td>\n",
       "      <td>298</td>\n",
       "      <td>2001</td>\n",
       "      <td>DREAMWORKS</td>\n",
       "      <td>[slow, down, ., slow, down, ,, baby, ,, please...</td>\n",
       "      <td>{do, ?, now, just, that, the, my, okay, each, ...</td>\n",
       "      <td>213</td>\n",
       "      <td>102</td>\n",
       "    </tr>\n",
       "  </tbody>\n",
       "</table>\n",
       "</div>"
      ],
      "text/plain": [
       "    Gender  Movie    Role Song Speaker Speaker_Status  \\\n",
       "941      m  Shrek  HELPER    D  donkey          NON-P   \n",
       "\n",
       "                                                  Text  UTTERANCE_NUMBER  \\\n",
       "941  slow down. slow down, baby, please. i believe ...               298   \n",
       "\n",
       "     Year Disney_Period                                             Tokens  \\\n",
       "941  2001    DREAMWORKS  [slow, down, ., slow, down, ,, baby, ,, please...   \n",
       "\n",
       "                                                 Types  Token_Count  \\\n",
       "941  {do, ?, now, just, that, the, my, okay, each, ...          213   \n",
       "\n",
       "     Type_Count  \n",
       "941         102  "
      ]
     },
     "execution_count": 16,
     "metadata": {},
     "output_type": "execute_result"
    }
   ],
   "source": [
    "dw_df[dw_df.Token_Count == 213] #ay, donkey"
   ]
  },
  {
   "cell_type": "markdown",
   "metadata": {},
   "source": [
    "The large standard deviation could be due to song lyrics being included (though I imagine this affect will be much smaller for this Dreamworks data). Let's create a new dataframe, with just dialogue."
   ]
  },
  {
   "cell_type": "code",
   "execution_count": 17,
   "metadata": {},
   "outputs": [],
   "source": [
    "dw_df_dialogue = dw_df[dw_df.Song == 'D']"
   ]
  },
  {
   "cell_type": "code",
   "execution_count": 18,
   "metadata": {},
   "outputs": [],
   "source": [
    "dw_df_dialogue.reset_index(drop=True, inplace=True)"
   ]
  },
  {
   "cell_type": "code",
   "execution_count": 19,
   "metadata": {},
   "outputs": [
    {
     "data": {
      "text/html": [
       "<div>\n",
       "<style scoped>\n",
       "    .dataframe tbody tr th:only-of-type {\n",
       "        vertical-align: middle;\n",
       "    }\n",
       "\n",
       "    .dataframe tbody tr th {\n",
       "        vertical-align: top;\n",
       "    }\n",
       "\n",
       "    .dataframe thead th {\n",
       "        text-align: right;\n",
       "    }\n",
       "</style>\n",
       "<table border=\"1\" class=\"dataframe\">\n",
       "  <thead>\n",
       "    <tr style=\"text-align: right;\">\n",
       "      <th></th>\n",
       "      <th>Gender</th>\n",
       "      <th>Movie</th>\n",
       "      <th>Role</th>\n",
       "      <th>Song</th>\n",
       "      <th>Speaker</th>\n",
       "      <th>Speaker_Status</th>\n",
       "      <th>Text</th>\n",
       "      <th>UTTERANCE_NUMBER</th>\n",
       "      <th>Year</th>\n",
       "      <th>Disney_Period</th>\n",
       "      <th>Tokens</th>\n",
       "      <th>Types</th>\n",
       "      <th>Token_Count</th>\n",
       "      <th>Type_Count</th>\n",
       "    </tr>\n",
       "  </thead>\n",
       "  <tbody>\n",
       "    <tr>\n",
       "      <th>0</th>\n",
       "      <td>m</td>\n",
       "      <td>Antz</td>\n",
       "      <td>PRO</td>\n",
       "      <td>D</td>\n",
       "      <td>z</td>\n",
       "      <td>NON-P</td>\n",
       "      <td>all my life, i've lived and worked in the big ...</td>\n",
       "      <td>1</td>\n",
       "      <td>1998</td>\n",
       "      <td>DREAMWORKS</td>\n",
       "      <td>[all, my, life, ,, i, 've, lived, and, worked,...</td>\n",
       "      <td>{i, 've, lived, life, city, worked, ..., ,, an...</td>\n",
       "      <td>14</td>\n",
       "      <td>14</td>\n",
       "    </tr>\n",
       "    <tr>\n",
       "      <th>1</th>\n",
       "      <td>m</td>\n",
       "      <td>Antz</td>\n",
       "      <td>PRO</td>\n",
       "      <td>D</td>\n",
       "      <td>z</td>\n",
       "      <td>NON-P</td>\n",
       "      <td>...which is kind of a problem, since i've alwa...</td>\n",
       "      <td>2</td>\n",
       "      <td>1998</td>\n",
       "      <td>DREAMWORKS</td>\n",
       "      <td>[..., which, is, kind, of, a, problem, ,, sinc...</td>\n",
       "      <td>{i, 've, uncomfortably, crowds, a, kind, probl...</td>\n",
       "      <td>17</td>\n",
       "      <td>17</td>\n",
       "    </tr>\n",
       "    <tr>\n",
       "      <th>2</th>\n",
       "      <td>m</td>\n",
       "      <td>Antz</td>\n",
       "      <td>PRO</td>\n",
       "      <td>D</td>\n",
       "      <td>z</td>\n",
       "      <td>NON-P</td>\n",
       "      <td>i feel...isolated.  different.  i've got aband...</td>\n",
       "      <td>3</td>\n",
       "      <td>1998</td>\n",
       "      <td>DREAMWORKS</td>\n",
       "      <td>[i, feel, ..., isolated, ., different, ., i, '...</td>\n",
       "      <td>{do, assigned, insignificant, time, just, work...</td>\n",
       "      <td>115</td>\n",
       "      <td>73</td>\n",
       "    </tr>\n",
       "    <tr>\n",
       "      <th>3</th>\n",
       "      <td>m</td>\n",
       "      <td>Antz</td>\n",
       "      <td>N</td>\n",
       "      <td>D</td>\n",
       "      <td>motivational counsellor</td>\n",
       "      <td>NON-P</td>\n",
       "      <td>terrific!  you should feel insignificant!</td>\n",
       "      <td>4</td>\n",
       "      <td>1998</td>\n",
       "      <td>DREAMWORKS</td>\n",
       "      <td>[terrific, !, you, should, feel, insignificant...</td>\n",
       "      <td>{!, insignificant, you, feel, terrific, should}</td>\n",
       "      <td>7</td>\n",
       "      <td>6</td>\n",
       "    </tr>\n",
       "    <tr>\n",
       "      <th>4</th>\n",
       "      <td>m</td>\n",
       "      <td>Antz</td>\n",
       "      <td>PRO</td>\n",
       "      <td>D</td>\n",
       "      <td>z</td>\n",
       "      <td>NON-P</td>\n",
       "      <td>...i should?</td>\n",
       "      <td>5</td>\n",
       "      <td>1998</td>\n",
       "      <td>DREAMWORKS</td>\n",
       "      <td>[..., i, should, ?]</td>\n",
       "      <td>{i, ..., should, ?}</td>\n",
       "      <td>4</td>\n",
       "      <td>4</td>\n",
       "    </tr>\n",
       "  </tbody>\n",
       "</table>\n",
       "</div>"
      ],
      "text/plain": [
       "  Gender Movie Role Song                  Speaker Speaker_Status  \\\n",
       "0      m  Antz  PRO    D                        z          NON-P   \n",
       "1      m  Antz  PRO    D                        z          NON-P   \n",
       "2      m  Antz  PRO    D                        z          NON-P   \n",
       "3      m  Antz    N    D  motivational counsellor          NON-P   \n",
       "4      m  Antz  PRO    D                        z          NON-P   \n",
       "\n",
       "                                                Text  UTTERANCE_NUMBER  Year  \\\n",
       "0  all my life, i've lived and worked in the big ...                 1  1998   \n",
       "1  ...which is kind of a problem, since i've alwa...                 2  1998   \n",
       "2  i feel...isolated.  different.  i've got aband...                 3  1998   \n",
       "3          terrific!  you should feel insignificant!                 4  1998   \n",
       "4                                       ...i should?                 5  1998   \n",
       "\n",
       "  Disney_Period                                             Tokens  \\\n",
       "0    DREAMWORKS  [all, my, life, ,, i, 've, lived, and, worked,...   \n",
       "1    DREAMWORKS  [..., which, is, kind, of, a, problem, ,, sinc...   \n",
       "2    DREAMWORKS  [i, feel, ..., isolated, ., different, ., i, '...   \n",
       "3    DREAMWORKS  [terrific, !, you, should, feel, insignificant...   \n",
       "4    DREAMWORKS                                [..., i, should, ?]   \n",
       "\n",
       "                                               Types  Token_Count  Type_Count  \n",
       "0  {i, 've, lived, life, city, worked, ..., ,, an...           14          14  \n",
       "1  {i, 've, uncomfortably, crowds, a, kind, probl...           17          17  \n",
       "2  {do, assigned, insignificant, time, just, work...          115          73  \n",
       "3    {!, insignificant, you, feel, terrific, should}            7           6  \n",
       "4                                {i, ..., should, ?}            4           4  "
      ]
     },
     "execution_count": 19,
     "metadata": {},
     "output_type": "execute_result"
    }
   ],
   "source": [
    "dw_df_dialogue.head()"
   ]
  },
  {
   "cell_type": "code",
   "execution_count": 20,
   "metadata": {},
   "outputs": [
    {
     "name": "stdout",
     "output_type": "stream",
     "text": [
      "Rise of the Guardians         928\n",
      "Shrek 3                       870\n",
      "The Croods                    770\n",
      "How to Train Your Dragon      726\n",
      "Shrek                         722\n",
      "How to Train Your Dragon 2    708\n",
      "Kung Fu Panda                 689\n",
      "Antz                          644\n",
      "Megamind                      617\n",
      "Name: Movie, dtype: int64\n",
      "Rise of the Guardians         928\n",
      "Shrek 3                       870\n",
      "The Croods                    770\n",
      "How to Train Your Dragon      726\n",
      "Shrek                         722\n",
      "How to Train Your Dragon 2    697\n",
      "Kung Fu Panda                 689\n",
      "Antz                          644\n",
      "Megamind                      617\n",
      "Name: Movie, dtype: int64\n"
     ]
    }
   ],
   "source": [
    "print(dw_df.Movie.value_counts()) #lines in each movie w/ songs\n",
    "print(dw_df_dialogue.Movie.value_counts()) #lines in each movie w/o songs\n",
    "#only change is in HTTYD2"
   ]
  },
  {
   "cell_type": "code",
   "execution_count": 21,
   "metadata": {},
   "outputs": [
    {
     "name": "stdout",
     "output_type": "stream",
     "text": [
      "count      9.000000\n",
      "mean     741.555556\n",
      "std      101.002613\n",
      "min      617.000000\n",
      "25%      689.000000\n",
      "50%      722.000000\n",
      "75%      770.000000\n",
      "max      928.000000\n",
      "Name: Movie, dtype: float64\n",
      "count      9.000000\n",
      "mean     740.333333\n",
      "std      101.524628\n",
      "min      617.000000\n",
      "25%      689.000000\n",
      "50%      722.000000\n",
      "75%      770.000000\n",
      "max      928.000000\n",
      "Name: Movie, dtype: float64\n"
     ]
    }
   ],
   "source": [
    "print(dw_df.Movie.value_counts().describe()) # shows average number of lines in each movie w/ songs\n",
    "print(dw_df_dialogue.Movie.value_counts().describe()) # shows average number of line in each movie w/o songs"
   ]
  },
  {
   "cell_type": "code",
   "execution_count": 22,
   "metadata": {},
   "outputs": [
    {
     "name": "stdout",
     "output_type": "stream",
     "text": [
      "       Token_Count   Type_Count\n",
      "count  6674.000000  6674.000000\n",
      "mean     11.684447     9.932874\n",
      "std      11.301579     8.124259\n",
      "min       0.000000     0.000000\n",
      "25%       5.000000     4.000000\n",
      "50%       8.000000     8.000000\n",
      "75%      15.000000    13.000000\n",
      "max     213.000000   109.000000\n",
      "\n",
      "\n",
      "       Token_Count   Type_Count\n",
      "count  6663.000000  6663.000000\n",
      "mean     11.673570     9.924508\n",
      "std      11.296335     8.120389\n",
      "min       0.000000     0.000000\n",
      "25%       5.000000     4.000000\n",
      "50%       8.000000     8.000000\n",
      "75%      15.000000    13.000000\n",
      "max     213.000000   109.000000\n"
     ]
    }
   ],
   "source": [
    "print(dw_df[[\"Token_Count\", \"Type_Count\"]].describe()) #token/type counts in song df\n",
    "print('\\n')\n",
    "print(dw_df_dialogue[[\"Token_Count\", \"Type_Count\"]].describe()) #token/type counts in dialogue df"
   ]
  },
  {
   "cell_type": "markdown",
   "metadata": {},
   "source": [
    "Now, the average token count is 11.67, and the average type count is 9.9 (basically the same as before). The standard deviations is lower though!\n",
    "\n",
    "Let's look at the overall stats for each movie!"
   ]
  },
  {
   "cell_type": "code",
   "execution_count": 23,
   "metadata": {
    "scrolled": true
   },
   "outputs": [
    {
     "data": {
      "text/html": [
       "<div>\n",
       "<style scoped>\n",
       "    .dataframe tbody tr th:only-of-type {\n",
       "        vertical-align: middle;\n",
       "    }\n",
       "\n",
       "    .dataframe tbody tr th {\n",
       "        vertical-align: top;\n",
       "    }\n",
       "\n",
       "    .dataframe thead tr th {\n",
       "        text-align: left;\n",
       "    }\n",
       "\n",
       "    .dataframe thead tr:last-of-type th {\n",
       "        text-align: right;\n",
       "    }\n",
       "</style>\n",
       "<table border=\"1\" class=\"dataframe\">\n",
       "  <thead>\n",
       "    <tr>\n",
       "      <th></th>\n",
       "      <th></th>\n",
       "      <th colspan=\"8\" halign=\"left\">Token_Count</th>\n",
       "      <th colspan=\"8\" halign=\"left\">Type_Count</th>\n",
       "    </tr>\n",
       "    <tr>\n",
       "      <th></th>\n",
       "      <th></th>\n",
       "      <th>count</th>\n",
       "      <th>mean</th>\n",
       "      <th>std</th>\n",
       "      <th>min</th>\n",
       "      <th>25%</th>\n",
       "      <th>50%</th>\n",
       "      <th>75%</th>\n",
       "      <th>max</th>\n",
       "      <th>count</th>\n",
       "      <th>mean</th>\n",
       "      <th>std</th>\n",
       "      <th>min</th>\n",
       "      <th>25%</th>\n",
       "      <th>50%</th>\n",
       "      <th>75%</th>\n",
       "      <th>max</th>\n",
       "    </tr>\n",
       "    <tr>\n",
       "      <th>Year</th>\n",
       "      <th>Movie</th>\n",
       "      <th></th>\n",
       "      <th></th>\n",
       "      <th></th>\n",
       "      <th></th>\n",
       "      <th></th>\n",
       "      <th></th>\n",
       "      <th></th>\n",
       "      <th></th>\n",
       "      <th></th>\n",
       "      <th></th>\n",
       "      <th></th>\n",
       "      <th></th>\n",
       "      <th></th>\n",
       "      <th></th>\n",
       "      <th></th>\n",
       "      <th></th>\n",
       "    </tr>\n",
       "  </thead>\n",
       "  <tbody>\n",
       "    <tr>\n",
       "      <th>1998</th>\n",
       "      <th>Antz</th>\n",
       "      <td>644.0</td>\n",
       "      <td>14.251553</td>\n",
       "      <td>12.394955</td>\n",
       "      <td>2.0</td>\n",
       "      <td>6.0</td>\n",
       "      <td>10.0</td>\n",
       "      <td>18.0</td>\n",
       "      <td>115.0</td>\n",
       "      <td>644.0</td>\n",
       "      <td>11.936335</td>\n",
       "      <td>9.179427</td>\n",
       "      <td>2.0</td>\n",
       "      <td>5.0</td>\n",
       "      <td>10.0</td>\n",
       "      <td>16.0</td>\n",
       "      <td>73.0</td>\n",
       "    </tr>\n",
       "    <tr>\n",
       "      <th>2001</th>\n",
       "      <th>Shrek</th>\n",
       "      <td>722.0</td>\n",
       "      <td>14.448753</td>\n",
       "      <td>15.970960</td>\n",
       "      <td>1.0</td>\n",
       "      <td>5.0</td>\n",
       "      <td>10.0</td>\n",
       "      <td>18.0</td>\n",
       "      <td>213.0</td>\n",
       "      <td>722.0</td>\n",
       "      <td>11.533241</td>\n",
       "      <td>10.139232</td>\n",
       "      <td>1.0</td>\n",
       "      <td>5.0</td>\n",
       "      <td>9.0</td>\n",
       "      <td>15.0</td>\n",
       "      <td>102.0</td>\n",
       "    </tr>\n",
       "    <tr>\n",
       "      <th>2007</th>\n",
       "      <th>Shrek 3</th>\n",
       "      <td>870.0</td>\n",
       "      <td>10.864368</td>\n",
       "      <td>9.435505</td>\n",
       "      <td>0.0</td>\n",
       "      <td>4.0</td>\n",
       "      <td>8.0</td>\n",
       "      <td>14.0</td>\n",
       "      <td>110.0</td>\n",
       "      <td>870.0</td>\n",
       "      <td>9.508046</td>\n",
       "      <td>7.412663</td>\n",
       "      <td>0.0</td>\n",
       "      <td>4.0</td>\n",
       "      <td>8.0</td>\n",
       "      <td>13.0</td>\n",
       "      <td>74.0</td>\n",
       "    </tr>\n",
       "    <tr>\n",
       "      <th>2008</th>\n",
       "      <th>Kung Fu Panda</th>\n",
       "      <td>689.0</td>\n",
       "      <td>11.121916</td>\n",
       "      <td>9.335616</td>\n",
       "      <td>2.0</td>\n",
       "      <td>5.0</td>\n",
       "      <td>9.0</td>\n",
       "      <td>15.0</td>\n",
       "      <td>90.0</td>\n",
       "      <td>689.0</td>\n",
       "      <td>9.568940</td>\n",
       "      <td>7.089028</td>\n",
       "      <td>2.0</td>\n",
       "      <td>4.0</td>\n",
       "      <td>8.0</td>\n",
       "      <td>13.0</td>\n",
       "      <td>52.0</td>\n",
       "    </tr>\n",
       "    <tr>\n",
       "      <th rowspan=\"2\" valign=\"top\">2010</th>\n",
       "      <th>How to Train Your Dragon</th>\n",
       "      <td>726.0</td>\n",
       "      <td>10.954545</td>\n",
       "      <td>9.551133</td>\n",
       "      <td>2.0</td>\n",
       "      <td>5.0</td>\n",
       "      <td>8.0</td>\n",
       "      <td>14.0</td>\n",
       "      <td>70.0</td>\n",
       "      <td>726.0</td>\n",
       "      <td>9.420110</td>\n",
       "      <td>7.200849</td>\n",
       "      <td>2.0</td>\n",
       "      <td>5.0</td>\n",
       "      <td>7.0</td>\n",
       "      <td>12.0</td>\n",
       "      <td>49.0</td>\n",
       "    </tr>\n",
       "    <tr>\n",
       "      <th>Megamind</th>\n",
       "      <td>617.0</td>\n",
       "      <td>13.811994</td>\n",
       "      <td>15.617287</td>\n",
       "      <td>2.0</td>\n",
       "      <td>5.0</td>\n",
       "      <td>10.0</td>\n",
       "      <td>16.0</td>\n",
       "      <td>192.0</td>\n",
       "      <td>617.0</td>\n",
       "      <td>11.619125</td>\n",
       "      <td>10.412553</td>\n",
       "      <td>2.0</td>\n",
       "      <td>5.0</td>\n",
       "      <td>9.0</td>\n",
       "      <td>14.0</td>\n",
       "      <td>109.0</td>\n",
       "    </tr>\n",
       "    <tr>\n",
       "      <th>2012</th>\n",
       "      <th>Rise of the Guardians</th>\n",
       "      <td>928.0</td>\n",
       "      <td>10.103448</td>\n",
       "      <td>8.596434</td>\n",
       "      <td>2.0</td>\n",
       "      <td>4.0</td>\n",
       "      <td>8.0</td>\n",
       "      <td>13.0</td>\n",
       "      <td>61.0</td>\n",
       "      <td>928.0</td>\n",
       "      <td>8.690733</td>\n",
       "      <td>6.583153</td>\n",
       "      <td>2.0</td>\n",
       "      <td>4.0</td>\n",
       "      <td>7.0</td>\n",
       "      <td>12.0</td>\n",
       "      <td>41.0</td>\n",
       "    </tr>\n",
       "    <tr>\n",
       "      <th>2013</th>\n",
       "      <th>The Croods</th>\n",
       "      <td>770.0</td>\n",
       "      <td>9.719481</td>\n",
       "      <td>9.091030</td>\n",
       "      <td>0.0</td>\n",
       "      <td>4.0</td>\n",
       "      <td>7.0</td>\n",
       "      <td>12.0</td>\n",
       "      <td>90.0</td>\n",
       "      <td>770.0</td>\n",
       "      <td>8.233766</td>\n",
       "      <td>6.607511</td>\n",
       "      <td>0.0</td>\n",
       "      <td>4.0</td>\n",
       "      <td>6.0</td>\n",
       "      <td>11.0</td>\n",
       "      <td>58.0</td>\n",
       "    </tr>\n",
       "    <tr>\n",
       "      <th>2014</th>\n",
       "      <th>How to Train Your Dragon 2</th>\n",
       "      <td>708.0</td>\n",
       "      <td>11.189266</td>\n",
       "      <td>9.562024</td>\n",
       "      <td>0.0</td>\n",
       "      <td>5.0</td>\n",
       "      <td>8.0</td>\n",
       "      <td>15.0</td>\n",
       "      <td>69.0</td>\n",
       "      <td>708.0</td>\n",
       "      <td>9.887006</td>\n",
       "      <td>7.652547</td>\n",
       "      <td>0.0</td>\n",
       "      <td>4.0</td>\n",
       "      <td>8.0</td>\n",
       "      <td>13.0</td>\n",
       "      <td>44.0</td>\n",
       "    </tr>\n",
       "  </tbody>\n",
       "</table>\n",
       "</div>"
      ],
      "text/plain": [
       "                                Token_Count                                  \\\n",
       "                                      count       mean        std  min  25%   \n",
       "Year Movie                                                                    \n",
       "1998 Antz                             644.0  14.251553  12.394955  2.0  6.0   \n",
       "2001 Shrek                            722.0  14.448753  15.970960  1.0  5.0   \n",
       "2007 Shrek 3                          870.0  10.864368   9.435505  0.0  4.0   \n",
       "2008 Kung Fu Panda                    689.0  11.121916   9.335616  2.0  5.0   \n",
       "2010 How to Train Your Dragon         726.0  10.954545   9.551133  2.0  5.0   \n",
       "     Megamind                         617.0  13.811994  15.617287  2.0  5.0   \n",
       "2012 Rise of the Guardians            928.0  10.103448   8.596434  2.0  4.0   \n",
       "2013 The Croods                       770.0   9.719481   9.091030  0.0  4.0   \n",
       "2014 How to Train Your Dragon 2       708.0  11.189266   9.562024  0.0  5.0   \n",
       "\n",
       "                                                   Type_Count             \\\n",
       "                                  50%   75%    max      count       mean   \n",
       "Year Movie                                                                 \n",
       "1998 Antz                        10.0  18.0  115.0      644.0  11.936335   \n",
       "2001 Shrek                       10.0  18.0  213.0      722.0  11.533241   \n",
       "2007 Shrek 3                      8.0  14.0  110.0      870.0   9.508046   \n",
       "2008 Kung Fu Panda                9.0  15.0   90.0      689.0   9.568940   \n",
       "2010 How to Train Your Dragon     8.0  14.0   70.0      726.0   9.420110   \n",
       "     Megamind                    10.0  16.0  192.0      617.0  11.619125   \n",
       "2012 Rise of the Guardians        8.0  13.0   61.0      928.0   8.690733   \n",
       "2013 The Croods                   7.0  12.0   90.0      770.0   8.233766   \n",
       "2014 How to Train Your Dragon 2   8.0  15.0   69.0      708.0   9.887006   \n",
       "\n",
       "                                                                         \n",
       "                                       std  min  25%   50%   75%    max  \n",
       "Year Movie                                                               \n",
       "1998 Antz                         9.179427  2.0  5.0  10.0  16.0   73.0  \n",
       "2001 Shrek                       10.139232  1.0  5.0   9.0  15.0  102.0  \n",
       "2007 Shrek 3                      7.412663  0.0  4.0   8.0  13.0   74.0  \n",
       "2008 Kung Fu Panda                7.089028  2.0  4.0   8.0  13.0   52.0  \n",
       "2010 How to Train Your Dragon     7.200849  2.0  5.0   7.0  12.0   49.0  \n",
       "     Megamind                    10.412553  2.0  5.0   9.0  14.0  109.0  \n",
       "2012 Rise of the Guardians        6.583153  2.0  4.0   7.0  12.0   41.0  \n",
       "2013 The Croods                   6.607511  0.0  4.0   6.0  11.0   58.0  \n",
       "2014 How to Train Your Dragon 2   7.652547  0.0  4.0   8.0  13.0   44.0  "
      ]
     },
     "execution_count": 23,
     "metadata": {},
     "output_type": "execute_result"
    }
   ],
   "source": [
    "dw_df.groupby(['Year', 'Movie'], sort = 'False')[[\"Token_Count\", \"Type_Count\"]].describe()"
   ]
  },
  {
   "cell_type": "markdown",
   "metadata": {},
   "source": [
    "Now that we have the overall averages, let's see how these differ depending on certain filters."
   ]
  },
  {
   "cell_type": "markdown",
   "metadata": {},
   "source": [
    "## Speaker Gender?"
   ]
  },
  {
   "cell_type": "code",
   "execution_count": 24,
   "metadata": {},
   "outputs": [
    {
     "data": {
      "text/html": [
       "<div>\n",
       "<style scoped>\n",
       "    .dataframe tbody tr th:only-of-type {\n",
       "        vertical-align: middle;\n",
       "    }\n",
       "\n",
       "    .dataframe tbody tr th {\n",
       "        vertical-align: top;\n",
       "    }\n",
       "\n",
       "    .dataframe thead tr th {\n",
       "        text-align: left;\n",
       "    }\n",
       "\n",
       "    .dataframe thead tr:last-of-type th {\n",
       "        text-align: right;\n",
       "    }\n",
       "</style>\n",
       "<table border=\"1\" class=\"dataframe\">\n",
       "  <thead>\n",
       "    <tr>\n",
       "      <th></th>\n",
       "      <th colspan=\"8\" halign=\"left\">Token_Count</th>\n",
       "      <th colspan=\"8\" halign=\"left\">Type_Count</th>\n",
       "    </tr>\n",
       "    <tr>\n",
       "      <th></th>\n",
       "      <th>count</th>\n",
       "      <th>mean</th>\n",
       "      <th>std</th>\n",
       "      <th>min</th>\n",
       "      <th>25%</th>\n",
       "      <th>50%</th>\n",
       "      <th>75%</th>\n",
       "      <th>max</th>\n",
       "      <th>count</th>\n",
       "      <th>mean</th>\n",
       "      <th>std</th>\n",
       "      <th>min</th>\n",
       "      <th>25%</th>\n",
       "      <th>50%</th>\n",
       "      <th>75%</th>\n",
       "      <th>max</th>\n",
       "    </tr>\n",
       "    <tr>\n",
       "      <th>Gender</th>\n",
       "      <th></th>\n",
       "      <th></th>\n",
       "      <th></th>\n",
       "      <th></th>\n",
       "      <th></th>\n",
       "      <th></th>\n",
       "      <th></th>\n",
       "      <th></th>\n",
       "      <th></th>\n",
       "      <th></th>\n",
       "      <th></th>\n",
       "      <th></th>\n",
       "      <th></th>\n",
       "      <th></th>\n",
       "      <th></th>\n",
       "      <th></th>\n",
       "    </tr>\n",
       "  </thead>\n",
       "  <tbody>\n",
       "    <tr>\n",
       "      <th>m</th>\n",
       "      <td>5117.0</td>\n",
       "      <td>12.091069</td>\n",
       "      <td>11.769379</td>\n",
       "      <td>0.0</td>\n",
       "      <td>5.0</td>\n",
       "      <td>9.0</td>\n",
       "      <td>15.0</td>\n",
       "      <td>213.0</td>\n",
       "      <td>5117.0</td>\n",
       "      <td>10.221810</td>\n",
       "      <td>8.358481</td>\n",
       "      <td>0.0</td>\n",
       "      <td>5.0</td>\n",
       "      <td>8.0</td>\n",
       "      <td>13.0</td>\n",
       "      <td>109.0</td>\n",
       "    </tr>\n",
       "    <tr>\n",
       "      <th>f</th>\n",
       "      <td>1318.0</td>\n",
       "      <td>10.400607</td>\n",
       "      <td>9.614928</td>\n",
       "      <td>0.0</td>\n",
       "      <td>4.0</td>\n",
       "      <td>7.5</td>\n",
       "      <td>13.0</td>\n",
       "      <td>97.0</td>\n",
       "      <td>1318.0</td>\n",
       "      <td>9.094841</td>\n",
       "      <td>7.304482</td>\n",
       "      <td>0.0</td>\n",
       "      <td>4.0</td>\n",
       "      <td>7.0</td>\n",
       "      <td>12.0</td>\n",
       "      <td>58.0</td>\n",
       "    </tr>\n",
       "    <tr>\n",
       "      <th>n</th>\n",
       "      <td>228.0</td>\n",
       "      <td>9.662281</td>\n",
       "      <td>8.331511</td>\n",
       "      <td>0.0</td>\n",
       "      <td>4.0</td>\n",
       "      <td>7.0</td>\n",
       "      <td>13.0</td>\n",
       "      <td>48.0</td>\n",
       "      <td>228.0</td>\n",
       "      <td>8.048246</td>\n",
       "      <td>6.448874</td>\n",
       "      <td>0.0</td>\n",
       "      <td>3.0</td>\n",
       "      <td>6.0</td>\n",
       "      <td>11.0</td>\n",
       "      <td>37.0</td>\n",
       "    </tr>\n",
       "  </tbody>\n",
       "</table>\n",
       "</div>"
      ],
      "text/plain": [
       "       Token_Count                                                    \\\n",
       "             count       mean        std  min  25%  50%   75%    max   \n",
       "Gender                                                                 \n",
       "m           5117.0  12.091069  11.769379  0.0  5.0  9.0  15.0  213.0   \n",
       "f           1318.0  10.400607   9.614928  0.0  4.0  7.5  13.0   97.0   \n",
       "n            228.0   9.662281   8.331511  0.0  4.0  7.0  13.0   48.0   \n",
       "\n",
       "       Type_Count                                                   \n",
       "            count       mean       std  min  25%  50%   75%    max  \n",
       "Gender                                                              \n",
       "m          5117.0  10.221810  8.358481  0.0  5.0  8.0  13.0  109.0  \n",
       "f          1318.0   9.094841  7.304482  0.0  4.0  7.0  12.0   58.0  \n",
       "n           228.0   8.048246  6.448874  0.0  3.0  6.0  11.0   37.0  "
      ]
     },
     "execution_count": 24,
     "metadata": {},
     "output_type": "execute_result"
    }
   ],
   "source": [
    "dw_df_dialogue.groupby('Gender', sort = False)[[\"Token_Count\", \"Type_Count\"]].describe()"
   ]
  },
  {
   "cell_type": "markdown",
   "metadata": {},
   "source": [
    "Male speakers average 1.5 more tokens than female speakers, and 1 more type than female speakers"
   ]
  },
  {
   "cell_type": "markdown",
   "metadata": {},
   "source": [
    "# Visualizations"
   ]
  },
  {
   "cell_type": "code",
   "execution_count": 25,
   "metadata": {},
   "outputs": [],
   "source": [
    "from matplotlib import pyplot as plt"
   ]
  },
  {
   "cell_type": "code",
   "execution_count": 27,
   "metadata": {},
   "outputs": [
    {
     "name": "stdout",
     "output_type": "stream",
     "text": [
      "Year\n",
      "1998    12.520468\n",
      "2001    12.784615\n",
      "2007     8.865169\n",
      "2008    10.611111\n",
      "2010    10.394619\n",
      "2012     9.882812\n",
      "2013     8.920755\n",
      "2014    10.692308\n",
      "Name: mean, dtype: float64\n",
      "Year\n",
      "1998    10.678363\n",
      "2001    10.807692\n",
      "2007     7.977528\n",
      "2008     9.277778\n",
      "2010     9.143498\n",
      "2012     8.765625\n",
      "2013     7.822642\n",
      "2014     9.473373\n",
      "Name: mean, dtype: float64\n"
     ]
    }
   ],
   "source": [
    "f_lines = dw_df_dialogue[dw_df_dialogue.Gender == 'f']\n",
    "m_lines = dw_df_dialogue[dw_df_dialogue.Gender == 'm']\n",
    "f_in_year = f_lines.groupby('Year')['Speaker'].describe()['unique']\n",
    "m_in_year = m_lines.groupby('Year')['Speaker'].describe()['unique']\n",
    "\n",
    "f_tok_by_year = f_lines.groupby('Year')[\"Token_Count\"].describe()[\"mean\"]\n",
    "tok_per_f_by_year = f_tok_by_year / f_in_year\n",
    "\n",
    "f_type_by_year = f_lines.groupby('Year')[\"Type_Count\"].describe()[\"mean\"]\n",
    "print(f_tok_by_year)\n",
    "print(f_type_by_year)"
   ]
  },
  {
   "cell_type": "markdown",
   "metadata": {},
   "source": [
    "## Average Token Count per Line in Each Movie by Gender"
   ]
  },
  {
   "cell_type": "code",
   "execution_count": 28,
   "metadata": {},
   "outputs": [
    {
     "data": {
      "image/png": "[encoded data removed]",
      "text/plain": [
       "<Figure size 1080x432 with 1 Axes>"
      ]
     },
     "metadata": {
      "needs_background": "light"
     },
     "output_type": "display_data"
    }
   ],
   "source": [
    "f_lines = dw_df_dialogue[dw_df_dialogue.Gender == 'f']\n",
    "m_lines = dw_df_dialogue[dw_df_dialogue.Gender == 'm']\n",
    "\n",
    "f_tok_by_year = f_lines.groupby('Year')[\"Token_Count\"].describe()[\"mean\"]\n",
    "\n",
    "m_tok_by_year = m_lines.groupby('Year')[\"Token_Count\"].describe()[\"mean\"]  \n",
    "\n",
    "f_tok_by_year.plot(figsize = (15,6))\n",
    "m_tok_by_year.plot(figsize = (15,6))\n",
    "plt.legend(['female', 'male'])\n",
    "plt.show()                                                                           "
   ]
  },
  {
   "cell_type": "markdown",
   "metadata": {},
   "source": [
    "Interesting! Overall it seems that overtime lines have gotten shorter, and males always have longer lines than females, but the gap has definitely decreased!"
   ]
  },
  {
   "cell_type": "markdown",
   "metadata": {},
   "source": [
    "## Average Type Count per Line in Each Movie By Gender"
   ]
  },
  {
   "cell_type": "code",
   "execution_count": 29,
   "metadata": {},
   "outputs": [
    {
     "data": {
      "image/png": "[encoded data removed]",
      "text/plain": [
       "<Figure size 1080x432 with 1 Axes>"
      ]
     },
     "metadata": {
      "needs_background": "light"
     },
     "output_type": "display_data"
    }
   ],
   "source": [
    "#type counts?\n",
    "f_lines = dw_df_dialogue[dw_df_dialogue.Gender == 'f']\n",
    "m_lines = dw_df_dialogue[dw_df_dialogue.Gender == 'm']\n",
    "\n",
    "f_type_by_year = f_lines.groupby('Movie', sort=False)[\"Type_Count\"].describe()['mean']\n",
    "m_type_by_year = m_lines.groupby('Movie', sort=False)[\"Type_Count\"].describe()['mean']  \n",
    "\n",
    "#FIND A WAY TO GET LABELS ON AXES!!!\n",
    "\n",
    "f_type_by_year.plot(figsize = (15, 6))\n",
    "m_type_by_year.plot(figsize = (15, 6))\n",
    "plt.legend(['female', 'male'])\n",
    "plt.show()"
   ]
  },
  {
   "cell_type": "markdown",
   "metadata": {},
   "source": [
    "Looks like a similar trend...and in one movie the female speakers actually have higher type counts! I wish I could figure out how to get those dang labels on this graph...."
   ]
  },
  {
   "cell_type": "markdown",
   "metadata": {},
   "source": [
    "## Average Token Count/Line by Gender in Each Movie"
   ]
  },
  {
   "cell_type": "code",
   "execution_count": 32,
   "metadata": {},
   "outputs": [
    {
     "data": {
      "text/plain": [
       "<matplotlib.axes._subplots.AxesSubplot at 0x11a65d30>"
      ]
     },
     "execution_count": 32,
     "metadata": {},
     "output_type": "execute_result"
    },
    {
     "data": {
      "image/png": "[encoded data removed]",
      "text/plain": [
       "<Figure size 1080x432 with 1 Axes>"
      ]
     },
     "metadata": {
      "needs_background": "light"
     },
     "output_type": "display_data"
    }
   ],
   "source": [
    "subgroup_2 = dw_df_dialogue.groupby(['Movie','Gender'], sort = False)[\"Token_Count\"].describe()['mean']\n",
    "subgroup_2.unstack().plot.bar(color=['blue', 'magenta', 'green'], figsize = (15,6))"
   ]
  },
  {
   "cell_type": "markdown",
   "metadata": {},
   "source": [
    "At first glance, the average token counts between genders aren't nearly as different as they were for some Disney films..."
   ]
  },
  {
   "cell_type": "markdown",
   "metadata": {},
   "source": [
    "P.S. The graph above of average token count by gender in each film. (A different visualization of the same stats found in the line plots above)"
   ]
  },
  {
   "cell_type": "markdown",
   "metadata": {},
   "source": [
    "## Average Type Count/Line by Gender in Each Movie"
   ]
  },
  {
   "cell_type": "code",
   "execution_count": 33,
   "metadata": {},
   "outputs": [
    {
     "data": {
      "text/plain": [
       "<matplotlib.axes._subplots.AxesSubplot at 0x11ad44f0>"
      ]
     },
     "execution_count": 33,
     "metadata": {},
     "output_type": "execute_result"
    },
    {
     "data": {
      "image/png": "[encoded data removed]",
      "text/plain": [
       "<Figure size 1080x432 with 1 Axes>"
      ]
     },
     "metadata": {
      "needs_background": "light"
     },
     "output_type": "display_data"
    }
   ],
   "source": [
    "subgroup_3 = dw_df_dialogue.groupby(['Movie','Gender'], sort = False)[\"Type_Count\"].describe()['mean']\n",
    "subgroup_3.unstack().plot.bar(color = ['blue', 'magenta', 'green'], figsize = (15,6))"
   ]
  },
  {
   "cell_type": "markdown",
   "metadata": {},
   "source": [
    "The average type count is higher for female speakers in guardians!!"
   ]
  },
  {
   "cell_type": "code",
   "execution_count": 34,
   "metadata": {},
   "outputs": [
    {
     "data": {
      "text/plain": [
       "Movie                       Gender\n",
       "Antz                        m         387\n",
       "                            f         171\n",
       "                            n          86\n",
       "Shrek                       m         586\n",
       "                            f         130\n",
       "                            n           6\n",
       "Shrek 3                     m         667\n",
       "                            f         178\n",
       "                            n          25\n",
       "Kung Fu Panda               m         613\n",
       "                            f          54\n",
       "                            n          22\n",
       "How to Train Your Dragon    m         593\n",
       "                            f          92\n",
       "                            n          41\n",
       "Megamind                    m         482\n",
       "                            f         131\n",
       "                            n           4\n",
       "Rise of the Guardians       m         771\n",
       "                            f         128\n",
       "                            n          29\n",
       "The Croods                  m         495\n",
       "                            f         265\n",
       "                            n          10\n",
       "How to Train Your Dragon 2  m         523\n",
       "                            f         169\n",
       "                            n           5\n",
       "Name: Gender, dtype: int64"
      ]
     },
     "execution_count": 34,
     "metadata": {},
     "output_type": "execute_result"
    }
   ],
   "source": [
    "#Seeing number of lines by gender for each movie\n",
    "#aka, total number of lines per gender in each movie\n",
    "total_lines_per_gen = dw_df_dialogue.groupby(['Movie'], sort=False)['Gender'].value_counts()\n",
    "total_lines_per_gen"
   ]
  },
  {
   "cell_type": "code",
   "execution_count": 35,
   "metadata": {},
   "outputs": [],
   "source": [
    "#The total number of female/male characters per movie\n",
    "num_char_per_gen = dw_df_dialogue.groupby(['Movie', 'Gender'], sort=False)[\"Speaker\"].unique().map(len)"
   ]
  },
  {
   "cell_type": "code",
   "execution_count": 36,
   "metadata": {},
   "outputs": [
    {
     "data": {
      "text/plain": [
       "Movie                       Gender\n",
       "Antz                        m         13\n",
       "                            f          7\n",
       "                            n         36\n",
       "Shrek                       m         28\n",
       "                            f          3\n",
       "                            n          5\n",
       "Shrek 3                     m         34\n",
       "                            f         19\n",
       "                            n         17\n",
       "Kung Fu Panda               n          8\n",
       "                            m         16\n",
       "                            f          6\n",
       "How to Train Your Dragon    m         11\n",
       "                            n         13\n",
       "                            f          3\n",
       "Megamind                    m          9\n",
       "                            n          3\n",
       "                            f          2\n",
       "Rise of the Guardians       m         14\n",
       "                            f         10\n",
       "                            n          4\n",
       "The Croods                  f          4\n",
       "                            m          5\n",
       "                            n          3\n",
       "How to Train Your Dragon 2  m         12\n",
       "                            f          3\n",
       "                            n          4\n",
       "Name: Speaker, dtype: int64"
      ]
     },
     "execution_count": 36,
     "metadata": {},
     "output_type": "execute_result"
    }
   ],
   "source": [
    "num_char_per_gen"
   ]
  },
  {
   "cell_type": "code",
   "execution_count": 37,
   "metadata": {},
   "outputs": [],
   "source": [
    "#total number of lines / total number of characters\n",
    "avg_lines_per_gen = total_lines_per_gen.divide(num_char_per_gen)\n",
    "# This returns movies in alphabetical order, not chronological order. Need to reindex"
   ]
  },
  {
   "cell_type": "code",
   "execution_count": 38,
   "metadata": {},
   "outputs": [
    {
     "data": {
      "text/plain": [
       "Movie                       Gender\n",
       "Antz                        m         29.769231\n",
       "                            f         24.428571\n",
       "                            n          2.388889\n",
       "Shrek                       m         20.928571\n",
       "                            f         43.333333\n",
       "                            n          1.200000\n",
       "Shrek 3                     m         19.617647\n",
       "                            f          9.368421\n",
       "                            n          1.470588\n",
       "Kung Fu Panda               m         38.312500\n",
       "                            f          9.000000\n",
       "                            n          2.750000\n",
       "How to Train Your Dragon    m         53.909091\n",
       "                            f         30.666667\n",
       "                            n          3.153846\n",
       "Megamind                    m         53.555556\n",
       "                            f         65.500000\n",
       "                            n          1.333333\n",
       "Rise of the Guardians       m         55.071429\n",
       "                            f         12.800000\n",
       "                            n          7.250000\n",
       "The Croods                  m         99.000000\n",
       "                            f         66.250000\n",
       "                            n          3.333333\n",
       "How to Train Your Dragon 2  m         43.583333\n",
       "                            f         56.333333\n",
       "                            n          1.250000\n",
       "dtype: float64"
      ]
     },
     "execution_count": 38,
     "metadata": {},
     "output_type": "execute_result"
    }
   ],
   "source": [
    "avg_lines_per_gen = avg_lines_per_gen.reindex(index = total_lines_per_gen.index)\n",
    "avg_lines_per_gen"
   ]
  },
  {
   "cell_type": "markdown",
   "metadata": {},
   "source": [
    "## Total Lines per Gender in Each Movie"
   ]
  },
  {
   "cell_type": "code",
   "execution_count": 39,
   "metadata": {},
   "outputs": [
    {
     "data": {
      "text/plain": [
       "<matplotlib.axes._subplots.AxesSubplot at 0x11b46210>"
      ]
     },
     "execution_count": 39,
     "metadata": {},
     "output_type": "execute_result"
    },
    {
     "data": {
      "image/png": "[encoded data removed]",
      "text/plain": [
       "<Figure size 1080x432 with 1 Axes>"
      ]
     },
     "metadata": {
      "needs_background": "light"
     },
     "output_type": "display_data"
    }
   ],
   "source": [
    "total_lines_per_gen.unstack().plot.bar(color = ['magenta', 'blue', 'green'], figsize = (15, 6))"
   ]
  },
  {
   "cell_type": "markdown",
   "metadata": {},
   "source": [
    "Wow, a MUCH bigger overall difference in Dreamworks than in Disney"
   ]
  },
  {
   "cell_type": "markdown",
   "metadata": {},
   "source": [
    "## Average Number of Lines per Gender in Each Movie\n",
    "Here, I divide the total number of lines per gender by the number of male and female characters in each movie, to get the average number of lines uttered by men and women in each movie"
   ]
  },
  {
   "cell_type": "code",
   "execution_count": 40,
   "metadata": {},
   "outputs": [
    {
     "data": {
      "text/plain": [
       "<matplotlib.axes._subplots.AxesSubplot at 0x11bd6750>"
      ]
     },
     "execution_count": 40,
     "metadata": {},
     "output_type": "execute_result"
    },
    {
     "data": {
      "image/png": "[encoded data removed]",
      "text/plain": [
       "<Figure size 1080x432 with 1 Axes>"
      ]
     },
     "metadata": {
      "needs_background": "light"
     },
     "output_type": "display_data"
    }
   ],
   "source": [
    "### Oh...interesting....\n",
    "avg_lines_per_gen.unstack().plot.bar(color = ['magenta', 'blue', 'green'], figsize=(15,6))"
   ]
  },
  {
   "cell_type": "markdown",
   "metadata": {},
   "source": [
    "When you take the number of male and female characters into account, you find that for a few Dreamworks movies, on average female characters tend to have more lines. This makes sense for movies like Shrek and HTTYD, which have one main female character with a lot of lines. Rise of the guardians, on the other hand, consists of several minor female characters."
   ]
  },
  {
   "cell_type": "code",
   "execution_count": null,
   "metadata": {},
   "outputs": [],
   "source": []
  }
 ],
 "metadata": {
  "kernelspec": {
   "display_name": "Python 3",
   "language": "python",
   "name": "python3"
  },
  "language_info": {
   "codemirror_mode": {
    "name": "ipython",
    "version": 3
   },
   "file_extension": ".py",
   "mimetype": "text/x-python",
   "name": "python",
   "nbconvert_exporter": "python",
   "pygments_lexer": "ipython3",
   "version": "3.6.4"
  }
 },
 "nbformat": 4,
 "nbformat_minor": 2
}
