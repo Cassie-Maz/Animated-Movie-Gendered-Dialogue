{
 "cells": [
  {
   "cell_type": "markdown",
   "metadata": {},
   "source": [
    "# Hedges\n",
    "Do female characters use more hedges? Let's find out!"
   ]
  },
  {
   "cell_type": "code",
   "execution_count": 1,
   "metadata": {},
   "outputs": [],
   "source": [
    "import pandas as pd"
   ]
  },
  {
   "cell_type": "code",
   "execution_count": 2,
   "metadata": {},
   "outputs": [],
   "source": [
    "movies_df = pd.read_pickle(r\"C:/Users/cassi/Desktop/Data_Science/Animated-Movie-Gendered-Dialogue/private/all_tagged_movies_2.pkl\")"
   ]
  },
  {
   "cell_type": "code",
   "execution_count": 3,
   "metadata": {},
   "outputs": [
    {
     "name": "stdout",
     "output_type": "stream",
     "text": [
      "<class 'pandas.core.frame.DataFrame'>\n",
      "RangeIndex: 13442 entries, 0 to 13441\n",
      "Data columns (total 22 columns):\n",
      "Disney_Period         13442 non-null object\n",
      "Gender                13442 non-null object\n",
      "Movie                 13442 non-null object\n",
      "Role                  13442 non-null object\n",
      "Song                  13442 non-null object\n",
      "Speaker               13442 non-null object\n",
      "Speaker_Status        13442 non-null object\n",
      "Text                  13442 non-null object\n",
      "UTTERANCE_NUMBER      13442 non-null int64\n",
      "Year                  13442 non-null int64\n",
      "Tokens                13442 non-null object\n",
      "Types                 13442 non-null object\n",
      "Token_Count           13442 non-null int64\n",
      "Type_Count            13442 non-null int64\n",
      "POS                   13442 non-null object\n",
      "Tag_Freq              13442 non-null object\n",
      "Command_Count         13442 non-null int64\n",
      "Top_Tag               13442 non-null object\n",
      "Adj_Count             13442 non-null int64\n",
      "Adj_over_Tokens       13442 non-null float64\n",
      "Interjection_Count    13442 non-null int64\n",
      "Inter_over_Tokens     13442 non-null float64\n",
      "dtypes: float64(2), int64(7), object(13)\n",
      "memory usage: 1.6+ MB\n"
     ]
    }
   ],
   "source": [
    "movies_df.info()"
   ]
  },
  {
   "cell_type": "code",
   "execution_count": 4,
   "metadata": {},
   "outputs": [],
   "source": [
    "#First, make a list of hedges\n",
    "hedge_list = ['i believe', 'i guess', 'i suppose', 'maybe', 'might', 'may', \n",
    "         'possibly', 'perhaps', \"i don't know\",\"i do not know\",\n",
    "         \"i'm not sure\", \"i am not sure\", \"i think\",\"i don't think\", \"i do not think\", 'seems', 'kind of',\n",
    "        'in my opinion', 'sort of', 'would', 'could', 'well', 'a bit',\n",
    "             'a little', 'almost', 'actually', 'apparently', 'somewhat']"
   ]
  },
  {
   "cell_type": "code",
   "execution_count": 5,
   "metadata": {},
   "outputs": [],
   "source": [
    "hedge_lines = []\n",
    "for line in movies_df.Text:\n",
    "    for hedge in hedge_list:\n",
    "        if hedge in line:\n",
    "            hedge_lines.append(line)"
   ]
  },
  {
   "cell_type": "code",
   "execution_count": 6,
   "metadata": {},
   "outputs": [],
   "source": [
    "well_lines = []\n",
    "for line in movies_df.Text:\n",
    "    if 'well' in line:\n",
    "        well_lines.append(line)"
   ]
  },
  {
   "cell_type": "code",
   "execution_count": 7,
   "metadata": {},
   "outputs": [
    {
     "data": {
      "text/plain": [
       "1814"
      ]
     },
     "execution_count": 7,
     "metadata": {},
     "output_type": "execute_result"
    }
   ],
   "source": [
    "len(hedge_lines) #1570"
   ]
  },
  {
   "cell_type": "code",
   "execution_count": 8,
   "metadata": {},
   "outputs": [
    {
     "data": {
      "text/plain": [
       "474"
      ]
     },
     "execution_count": 8,
     "metadata": {},
     "output_type": "execute_result"
    }
   ],
   "source": [
    "len(well_lines)"
   ]
  },
  {
   "cell_type": "code",
   "execution_count": 9,
   "metadata": {},
   "outputs": [
    {
     "data": {
      "text/plain": [
       "['well, uh, uh ',\n",
       " \"well, my dear quincess uh, princess. we're, uhwe're honored. yes, we're \",\n",
       " \"well, aren't you going to wash ? what's the matter ? cat got your tongue ? \",\n",
       " \"well, iit'll please the princess. \",\n",
       " \"now scrub good and hard it can't be denied that he'll look mighty cute as soon as he's dried well, it's good for the soul and it's good for the hide \",\n",
       " 'magic mirror on the wall, who now is the fairest one of all ? over the seven jewelled hills, beyond the seventh fall, in the cottage of the seven dwarfs, dwells snow white, fairest one of all. ',\n",
       " \"a blast of wind... to fan my hate ! a thunderbolt... to mix it well. now... begin thy magic spell. look ! my hands ! my voice ! my voice ! a perfect disguise. and now, a special... sort of death for one so fair. what shall it be ? ah ! a poisoned apple ! sleeping death. one taste of the poisoned apple... and the victim's eyes will close forever... in the sleeping death. \",\n",
       " 'well, what shall i do ? ',\n",
       " 'well, once there was a princess. ',\n",
       " 'well, if you insist. good night. ',\n",
       " 'oh, yes, very comfortable. snow white well, pleasant dreams. ',\n",
       " 'oh, oh, yes. well, uh, come on, men. ',\n",
       " \"well... all right. but that's the last oh ! go on. run along. \",\n",
       " 'well, there is someone. ',\n",
       " 'well, try again. okay wake up, wake up. cinderella wake up! ',\n",
       " \"well serves you right spoiling people's best dreams. yes i know it's a lovely morning but it was a lovely dream too sighs. \",\n",
       " \"oh a visitor. well, she'll need a dress... \",\n",
       " \"where? in a trap? well, why you didn't you say do? \",\n",
       " \"well that's better. hmm. well let's just slip it on for size. uh, huh. it is a little snug but it'll have to do. now for a name i've got one. octavious. but for short we'll call you gus. \",\n",
       " \"that's bad. supposed they heard you upstairs. you know the orders, so if you don't want to lose a nice warm bed you'd better get rid of those dreams. know how? just learn to like cats. no i mean it. lucifer has his good points too. for one thing, hethinking well, sometimes hehmm. there must be something good about him. \",\n",
       " 'hmmm. no gusgus. well guess he got away. ',\n",
       " 'good morning drizella. sleep well? ',\n",
       " \"well! it's about time! don't forget the mending! don't be all day getting it done, either. \",\n",
       " 'well, come in, child. come in! ',\n",
       " 'well, what could be more natural than a ball to celebrate his return? ',\n",
       " 'yyyes sinno sire. very well sire. i shall arrange the ball for ',\n",
       " \"i'll read it. well! there's to be a ball. \",\n",
       " \"well, why not? after all i'm still a member of the family. and it says by royal command every eligible maiden is to attend. \",\n",
       " \"yes so it does. well i see no reason why you can't goif you get all your work done. \",\n",
       " \"well maybe it's a little oldfashioned, butoh i'll fix that. gus uh, uh how you do it, huh? \",\n",
       " 'oh well. guess my dress will just have to wait. ',\n",
       " 'very well. ',\n",
       " \"oh well, what's a royal ball? after all i suppose it would be frightfully dull andand boring and completelycompletely wonderful. oh! why, it's my \",\n",
       " \"well i never dreamed. it's such a surprise! oh how can i everoh thank you so much. \",\n",
       " \"yes my child, but like all dreams well, i'm afraid this can't last forever. you'll have only till midnight and then \",\n",
       " 'well, if i may say so your majesty i did try to warn you but you sire are incurably romantic no doubt you saw the whole pretty picture in detail, the prince bowing to the assembly. suddenly he stops. he looks up, for to there she stands, the girl of his dreams. who she is or whence she came he knows not, nor does he care. for his heart tell him that here, here is the maid predestined to be his bride chuckling a pretty plot for fairy tales, sire but in real life oh no. no, hohoho. it was foredoomed to failure. ',\n",
       " \"well now for a good night's sleep. \",\n",
       " \"well the prince certainly seems to. but i know i've never seen her. \",\n",
       " \"well, iioh the prince. i haven't met the prince. \",\n",
       " \"i'm sorry i guess i forgot about everything. even the time, but but it was so wonderful. and he was so handsome and when we danced. oh i'm sure that even the prince himself couldn't have been more, moresighs oh well, it's over and \",\n",
       " 'well, come in. come in! ',\n",
       " 'well sire ',\n",
       " \"well i didn't get a chance \",\n",
       " \"oh well don't just stand there. bring up the breakfast trays at once. and hurry. \",\n",
       " \"well i like that! iit's my slipper! \",\n",
       " \"oh well it may be a trifle snug today. you know how it isdancing all night. i can't understand why. it's always fit perfectly before. i don't think you're half trying. mother, can you \",\n",
       " 'well, quite a glittering assemblage, king stefan. royalty, nobility, the gentry, and, how quaint, even the rebel. ',\n",
       " \"not wa...? oh dear, what an awkward situation. i had hoped it was merely due to some oversight. well, in that event i'd best be on my way. \",\n",
       " 'listen well, all of you! the princess shall indeed grow in grace and beauty, beloved by all who know her. but, before the sun sets on her sixteenth birthday, she shall prick her finger on the spindle of a spinning wheel and die. ',\n",
       " \"well, a bonfire won't stop maleficent. \",\n",
       " 'well, perhaps if we reason with her. ',\n",
       " \"well, she can't be all bad. \",\n",
       " 'well, that would make me happy. ',\n",
       " 'well, yes, yes, but will we have to feed it? ',\n",
       " \"and so for sixteen long years the whereabouts of the princess remained a mystery, while deep in the forest, in a woodcutter's cottage, the good fairies carried out their welllaid plan. living like mortals, they had reared the child as their own and called her briar rose. \",\n",
       " 'well, and what are you three dears up to? ',\n",
       " 'eh, eh, eh, we, we, well, we, we ... ',\n",
       " 'well, ... ',\n",
       " 'well, i still say we ought to use magic. ',\n",
       " \"well, it's got to have a hole in the bottom. \",\n",
       " 'two eggs, fold in gently fold? oh well. ',\n",
       " \"oh, a prince. well, he's tall and handsome and ... and so romantic. oh we walked together, and talked together, and just before we say goodbye, he takes me in his arms, and then ... i wake up. \",\n",
       " 'well, maybe someday. ',\n",
       " 'well, what do you think of it? ',\n",
       " \"well, it's not exactly the way it is in the book, is it? \",\n",
       " 'well, i improved a bit! but perhaps if i added few more ruffolds? what do you think? ',\n",
       " \"clean the room, dear, and i'll make the dress. well, hurry! \",\n",
       " 'well, i suppose in time ... ',\n",
       " 'well? ',\n",
       " 'well, it may come as quite a shock ... ',\n",
       " 'well, i have met her, father. ',\n",
       " \"well, why don't we? \",\n",
       " \"you poor simple fools. thinking you could defeat me, me, the mistress of all evil. well, here's your precious princess. \",\n",
       " 'well, send for him immediately! ',\n",
       " \"well, just been talking to phillip. seems he's fallen in love with some peasant girl. \",\n",
       " 'well, this is a pleasant surprise. i set my trap for a peasant, and lo! i catch a prince! ',\n",
       " 'for the first time in sixteen years i shall sleep well. ',\n",
       " \"a forest of thorn shall be his tomb. born through the skies on a fog of doom. now go with the curse and serve me well, round stefan's castle cast by spell! \",\n",
       " 'i was? oh yes, well, after all, stefan, this is the fourteenth century. ',\n",
       " \"well, to come right to the point, my son phillip says he's going to marry ... \",\n",
       " \"yeeeeeees, hurry home, princess. we wouldn't want to miss old daddy's celebration, now, would we? huh! celebration indeed. bah! in my day, we had fantastical feasts when i lived in the palace. and now, look at me wasted away to practically nothing banished and exiled and practically starving, while he and his flimsy fishfolk celebrate. well, i'll give 'em something to celebrate soon enough. flotsam! jetsam! i want you to keep an extra close watch on this pretty little daughter of his. she may be the key to triton's undoing. . . . fade to the palace throne room where ariel is being admonished. \",\n",
       " \"well, it was ruined! that's all. completely destroyed! this concert was to be the pinnacle of my distinguished career. now thanks to you i am the laughing stock of the entire kingdom! \",\n",
       " \"but it wasn't her fault! ah well first, ahh, this shark chased us yeah yeah! and we tried to but we couldn't and grrrrrrrrr and and we whoooaaaaaa oh, and then we were safe. but then this seagull came, and it was this is this, and that is that, and \",\n",
       " \"well, she's out there somewhere. i just i just haven't found her yet. \",\n",
       " \"well, perhaps you haven't been looking hard enough. \",\n",
       " 'oh well, i ',\n",
       " \"come in. come in, my child. we mustn't lurk in doorways it's rude. one might question your upbringing. . . . now, then. you're here because you have a thing for this human. this, er, prince fellow. not that i blame you he is quite a catch, isn't he? well, angel fish, the solution to your problem is simple. the only way to get what you want is to become a human yourself. \",\n",
       " \"well, look at what the catfish dragged in! look at ya! look at ya! there's something different. don't tell me i got it. it's your hairdo, right? you've been using the dinglehopper, right? no? no huh, well let me see. new . . . seashells? no new seashells. i gotta admit i can't put my foot on it right now, but if i just stand here long enough i know that i'll \",\n",
       " 'well you must have at least heard about this girl. ',\n",
       " 'well, gretchen says . . . ',\n",
       " \"well i i was just er, er, i'm sorry, madame. cut back to dining room. \",\n",
       " \"it's not a bad idea. if she's interested. well whaddaya say? would you like to join me on a tour of my kingdom tomorrow? ariel nods vigorously, leaning heavily on her plate's cover. \",\n",
       " \"well, keep looking. leave no shell unturned, no coral unexplored. let no one in this kingdom sleep until she's safe at home. \",\n",
       " \"hmm. well they they better get crackin'. \",\n",
       " \"ariel? ariel? well, that's kinda pretty. o.k. ariel. . . \",\n",
       " \"nice work, boys. that was a close one. too close. the little tramp! oh, she's better than i thought. at this rate, he'll be kissing her by sunset for sure. well, it's time ursula took matters into her own tentacles! triton's daughter will be mine and then i'll make him writhe. i'll see him wriggle like a worm on a hook! \",\n",
       " 'well, uh err, eric. iit appears that i was mistaken. this mystery maiden of yours does in fact exist. and and she is lovely. congratulations, my dear. ',\n",
       " 'oh, oh very well, eric as you wish. ',\n",
       " \"well, it's like i always say, your majesty. children got to be free to lead their own lives. \",\n",
       " 'well, blah blah blah blah. ',\n",
       " 'swell. ',\n",
       " 'well, you do kinda stand out. ',\n",
       " \"well, it's not much, \",\n",
       " 'well, uh, he wishes there was something he could do to help. ',\n",
       " \"well, i would, princess, but my orders come from jafar. you'll have to take it up with him. \",\n",
       " 'i think she took it rather well. ',\n",
       " 'my most abject and humblest apologies to you as well, princess. ',\n",
       " 'well, now. how about that, mr. doubting mustafa? ',\n",
       " \"well, don't i feel just sheepish? all right, you baaaaad boy, but no more freebies. \",\n",
       " \"me? no one's ever asked me that before. well, in my case, ah, forget it. \",\n",
       " \"well, here's hopin'. \",\n",
       " \"well, there's this girl \",\n",
       " 'this is a very impressive youth. and a prince as well. ',\n",
       " \"well, you know, um...royalty going out into the city in disguise, it sounds a little strange, don't you think? \",\n",
       " 'sleep well, princess. ',\n",
       " \"well, that's itwe're dead, forget about it. just dig a grave for both of us. we're dead. \",\n",
       " 'well, here goes. ',\n",
       " \"oh, yeah? well, we'll just see about that! \",\n",
       " \"you're tall, well dressed... \",\n",
       " 'well, i guess...this... is goodbye? ',\n",
       " 'well, am i sultan or am i sultan? from this day forth, the princess shall marry whomever she deems worthy. ',\n",
       " \"ooh, hairball! well, i can't do any more damage around this popsicle stand. i'm outta here! bye, bye, you two crazy lovebirds. hey, rugman, ciao! i'm history! no, i'm mythology! no, i don't care what i ami'm free! \",\n",
       " \"well it's my favorite! \",\n",
       " \"well, if you like it all that much, it's yours! \",\n",
       " 'well thank you. thank you very much! ',\n",
       " 'well of course, i mean you do, but i mean... ',\n",
       " 'well, some people use their imaginations. ',\n",
       " \"well, what are we waiting for. i'll have this thing fixed in no time. \",\n",
       " \"well, don't you worry, cause this invention's going to be the start of a new life for us. \",\n",
       " \"well, now you've done it, lumiere. splendid, just peachyaaarrrgghh! \",\n",
       " 'well, hello there, boy. ',\n",
       " \"well now, what shall we dress you in for dinner? let's see what i've got in my drawers. \",\n",
       " \"it's no use. she's so beautiful, and i'm so...well, look at me! \",\n",
       " 'well, you can start by making yourself more presentable. straighten up, try to act like a gentleman. ',\n",
       " 'well, where is she? ',\n",
       " \"who? oh! the girl. yes, the, ah, girl. well, actually, she's in the process of, ah, um, circumstances being what they are, ah... she's not coming. \",\n",
       " \"that didn't go very well at all, did it. \",\n",
       " 'well, i guess we better go downstairs and start cleaning up. ',\n",
       " \"well, if you ask me, she was just being stubborn. after all, the master did say 'please.' \",\n",
       " 'well keep it down. if the master finds out about this, it will be our necks! ',\n",
       " 'well, actually, ah yes, i do! ',\n",
       " \"well if you hadn't run away, this wouldn't have happened! \",\n",
       " \"well if you hadn't frightened me, i wouldn't have run away! \",\n",
       " \"well you shouldn't have been in the west wing! \",\n",
       " 'well you should learn to control your temper! ',\n",
       " \"oh, well, i guess it's not gonna work after all. \",\n",
       " \"well, there's the usual thingsflowers, chocolates, promises you don't intend to keep... \",\n",
       " 'well then you must tell her. ',\n",
       " 'well, your highness. i must say everything is going just peachy. i knew you had it in you. ',\n",
       " \"well, he was...that is...enormous. i'd say at least eight, no more like ten feet. \",\n",
       " \"well, you don't get much crazier than that. \",\n",
       " 'well, lumiere, old friend. shall we let bygones be bygones? ',\n",
       " 'well, that was refreshing. ',\n",
       " 'well done, smith. ',\n",
       " \"thank heavens he's been successfully retrieved. well done, smith. \",\n",
       " \"showoff. pocahontas? pocahontas? are you all right? well, you better be all right because i'm not coming in after you. . .! \",\n",
       " \"well, i'm running through the woods and then right there in front of me is an arrow. as i look at it, it starts to spin. \",\n",
       " 'hmm. well, seems to me this spinning arrow is pointing you down your path. ',\n",
       " 'very well, then. give the order. ',\n",
       " \"well, if they're anything like the savages i've fought before, it's nothing i can't handle. \",\n",
       " \"i'm very well aware that this is my last chance for glory. but mark my words, wiggins, when king james see the gold these peasants unearth success will be mine, at last. \",\n",
       " \"hey! well, you're a strangelooking fellow. you hungry? here you go, it's a biscuit. it's food. . . well, sort of. you like it, eh? well, try eating it for four months straight. you got a friend back there? \",\n",
       " 'well then, perhaps you should venture forth and determine their whereabouts, hmm? ',\n",
       " \"well, how do you do, meeko? it's all right, it's just a handshake. here, let me show you. \",\n",
       " \"well, it's got streets filled with carriages and bridges over the rivers and buildings as tall as trees. \",\n",
       " 'well, when i say uncivilised, what i mean is – is. . . ',\n",
       " \"it's the gold! they have it and they don't want us to take it from them. well, i'll just have to take it by force then, won't i? \",\n",
       " \"well, he's. . . gone! \",\n",
       " \"well, then go get him, for heaven's sake! \",\n",
       " 'but she is still with us. whenever the wind blows through the trees, i feel her presence. our people looked to her for wisdom and strength. someday, they will look to you as well. ',\n",
       " \"well, it's not like i have much of a home to go back to. i've never really belonged anywhere. \",\n",
       " \"aye, well, if you spot one, don't ask questions. just shoot. \",\n",
       " \"well, i haven't had this much excitement in 200 years. \",\n",
       " \"not aiming like that, you couldn't. keep both eyes open when you shoot. you'll see twice as well. \",\n",
       " 'and gag him as well. ',\n",
       " \"well, let's hope the wind is with him. \",\n",
       " 'well? ',\n",
       " \"i think it's going well, don't you? \",\n",
       " \"silence! you will do well to teach your daughter to hold her tongue in a man's presence. \",\n",
       " \"well, we can't all be acupuncturists! \",\n",
       " \"well, y'all don't think i can do it! watch this here! \",\n",
       " \"stop me! he invited me. by building his wall, he challenged my strength. well, i'm here to play his game. go! tell your emperor to send his strongest armies. i'm ready. \",\n",
       " 'oh yeah? well, i think ping and i can take you! ',\n",
       " 'i knew we could do it! you the man! well, sort of. ',\n",
       " 'very well. you can have his job. ',\n",
       " \"honorable fa zhou, imulan! uhhhh ... you forgot your helmet. well, actually it's your helmet, isn't it, i mean ... \",\n",
       " \"well, sweetheart ... this is the... the best gumbo i've ever tasted. come here. eudora, our little girl's got a gift. \",\n",
       " \"well miss tiana rough night for tips but every little penny counts. don't you worry, daddy ... we'll be there soon. \",\n",
       " \"well, keep 'em comin' 'til i pass out. \",\n",
       " 'well, i invited ... ',\n",
       " \"oh, lottie, that's swell. a little word of advice my mom always said that the quicks way to a man's heart is through his stomach. \",\n",
       " \"oh, tia, you are bonafide genius. i'm gonna need about five hundred of your mancatching beignets for my ball tonight. let's get it daddy. will this many cover it? well? \",\n",
       " 'i know. i miss him too. well now... hurry up and open the door. ',\n",
       " \"oh, you poor dear. oh, prince naveen, we will be right back, sugar. i got just the dress for you. oh, tia, honey, did you see the way he danced with me? a marriage proposal, can't be far behind. thank you, evening star! you know, i was taught to think that wishing on stars was just for... babies an' crazy people. look at you! aren't you just as pretty as a magnolia in may? seems like only yesterday we were ... both little girls, dreaming our fairy tales dreams. and tonight they're finally coming true! well...back into the fray! wish me luck. oh, naveen ... \",\n",
       " \"please, please, please... ah, oh well...allow me to introduce myself, i'm prince naveen. ... of maldonia. \",\n",
       " 'a waitress? well no wonder the kiss did not work! you lied to me! ',\n",
       " 'oh, oh yes, oh ye? well, the egg is on your face, alright, because i do not have any riches! ',\n",
       " 'well, waitress, looks like we going to be here for a while. so we may as well get ... comfortable. ',\n",
       " \"well, the bajou's is the best jazz school in the world. all the greats play the riverboats. oh, louis give anything to be up there jammin' with the big boys. \",\n",
       " \"oh, i tried once. it didn't end well. \",\n",
       " \"well, when you're next in line for the throne, you're poised like a panther, ready to expect the unexpected. \",\n",
       " 'well, lookee here! girl, i guess you and your boyfriend got a little carried away, am i right, am i right? ',\n",
       " \"well, there you go. tiana and we are on a way to mama odie's, we think maybe she could... \",\n",
       " 'friends, i know i\\'m in hack to you all pretty deep already, but it seems or little froggy prince lost his way. and i need your generous assistance getting him back. hahaha, i hear you. now, what\\'s in it for you? well... as soon as i dispose of \"big daddy\" la bouff, then i\\'m gonna run this town. i\\'ll have the entire city of new orleans in the palm of my hand. and you\\'ll have all the wayward souls your dark little hearts desire. y\\'all love that, don\\'t you? so, we got ourselves a deal? hahaha! now we\\'re cooking! we\\'re gonna find ourselves a frog.  search everywhere the bayou, the quarter... bring him to me alive. i need his heart pumping... for now. allez, tout de suite! ',\n",
       " 'wwell i was... ',\n",
       " \"well hey ... you've got the makings of a decent mushroom mincer! \",\n",
       " 'well! thank you! ',\n",
       " \"well now, that's too bad. this is a special candy. woulda turn y'all human. \",\n",
       " 'taste it. well? ',\n",
       " \"well, if y'all are set on bein' human there's only one way. gumbo, gumbo in the pot, we need a princess. whatcha got? \",\n",
       " \"well, if captain say nothing i ain't gonna say nothing. because old ray sealed up tight as a drum you ain't got nothin' out of me, no! \",\n",
       " 'well, i waited this long. ',\n",
       " 'well, go and fetch it, then. ',\n",
       " \"well, he should, because that's true. \",\n",
       " \"i'm the princess. i'm the example. i've got duties, responsibilities, expectations. my whole life is planned out, for the day i become, well, my mother! she's in charge of every single day of my life. sigh \",\n",
       " \"i take it the talk didn't go too well. \",\n",
       " 'well done! well done! ',\n",
       " \"you were never there for me! this whole marriage is what you want! do you ever bother to ask what i want? no! you walk around telling me what to do, what not to do! trying to make me be like you! well, i'm not going to be like you! \",\n",
       " \"well, you're home now. so that's the end of it. \",\n",
       " \"oh! suddenly i'm not well. \",\n",
       " \"well, since you've obviously made up your minds about this, i have one thing to say. this is. . . \",\n",
       " \"well, that's it. let these lads try win her heart before they win her hand, if they can! \",\n",
       " \"well don't just stare! do something! \",\n",
       " 'well…we should clear the diseased trees, and we will start a new grove…there.',\n",
       " \"well, it's not like you said it in front of your dad. standing on a boat.\",\n",
       " 'okay! well, then head on back. put that stone up there.',\n",
       " \"and he sticks the landing. huh? what? dum-dum, she's not even here. no mortal's gonna jump into the realm of--huh? well, she's dead. okay, let's get my hook.\",\n",
       " 'you two must get along swell.',\n",
       " \"well, hook, no hook…i'm maui.\",\n",
       " 'this is the story of how i died. don’t worry, this is actually a very fun story and the truth is, it isn’t even mine. this is the story of a girl named rapunzel and it starts with the sun.  now, once upon a time, a single drop of sunlight fell from the heavens and from this small drop of sun, grew a magic, golden flower. it had the ability to heal the sick and injured. oh, you see that old woman over there? you might want to remember her. she’s kind of important.  well, centuries passed, and a hop skip and a boat ride away there grew a kingdom. the kingdom was ruled by a beloved king and queen. and the queen, (well,) she was about to have a baby. she got sick. really, sick. she was running out of time, and that’s when people usually start to look for a miracle. or in this case, a magic golden flower.  ah, i told you she’d be important. you see, instead of sharing the sun’s gift, this woman, mother gothel, hoarded its healing power and used it to keep herself young for hundreds of years, and all she had to do was sing a special song.',\n",
       " 'ha! hmm. well, i guess pascal’s not hiding out here…',\n",
       " 'okay, well, what do you wanna do?',\n",
       " 'oh. well, i was hoping you would take me to see the floating lights.',\n",
       " 'well it’s easy for you to say! you guys look amazing.',\n",
       " 'okay, okay, okay, i’ve got a person in my closet. i’ve got a person in my closet. i’ve got a person in my closet! haha! uh! too weak to handle myself out there, huh, mother? well… hmm-hmm…tell that to my frying pan–  huh?',\n",
       " 'well mother, there’s something i want to tell you.',\n",
       " 'well, that is a very long trip, rapunzel. almost three days’ time.',\n",
       " 'lanterns. i knew they weren’t stars. well, tomorrow evening they will light the night sky with these lanterns. you will act as my guide, take me to these lanterns, and return me home safely. then, and only then, will i return your satchel to you. that is my deal.',\n",
       " 'well, i do like duckling.',\n",
       " 'she’s growing it out. is that blood in your moustache? goldie, look at this. look at all the blood in his moustache. that, sir, that’s a lot of blood. hey, you don’t look so good, blondie. maybe we should get you a home. call it a day. probably be better off. this is a five star joint after all, and if you can’t handle this place, well, maybe you should be back in your tower.',\n",
       " 'well, i’ve got to say, didn’t know you had that in you back there. that was pretty impressive.',\n",
       " 'uh. huh, well… uh, flynn… flynn…',\n",
       " 'my real name is eugene fitzherbert. someone might as well know.',\n",
       " 'well, if that’s all that you desire then be on your way. i was going to offer you something worth one thousand crowns, would have made you rich beyond belief and that wasn’t even the best part, hoho, oh well, c’est la vie. enjoy your crown.',\n",
       " 'uh, yeah. well. i’ll spare you the sob story of poor orphan eugene fitzherbert, it’s a little bit of a… that’s a little bit of a downer.',\n",
       " 'uh… well, no. actually, he had enough money to do anything that he wanted to do. he could go anywhere that he wanted to go. and, and, and for a kid with nothing, i don’t know, i… just seemed like a better option.',\n",
       " 'well, a fake reputation is all a man has.',\n",
       " 'ahem. well, i should, um… i, i should… i should get some more firewood.',\n",
       " 'well, then you’d be the first… but thank you.',\n",
       " 'well! i thought he’d never leave!',\n",
       " 'well, i hope you’re here to apologize. aghhhh…!  no, no, no, put me down! let me go! let–me–go–!',\n",
       " 'well, best day of your life, i figured you should have a decent seat.',\n",
       " 'well, that’s the good part i guess. you get to go find a new dream.',\n",
       " 'well, you could imagine what happened next.  the kingdom rejoiced, for the lost princess had now returned. the party lasted an entire week, and honestly i don’t remember much of it.',\n",
       " 'and this guy? well, he eventually found true love.',\n",
       " 'as for this guy, well, i assume he’s happy. he’s never told me otherwise.',\n",
       " 'at last, rapunzel was home and she finally had a real family. she was a princess worth waiting for. beloved by all, she led her kingdom with all the grace and wisdom that her parents did before her. and as for me, well, i started going by eugene again. stopped thieving and basically turned it all around, but i know what the big question is, hah. did rapunzel and i ever get married? well i am pleased to tell you that after years and years of asking, and asking, and asking, i finally said yes.',\n",
       " 'well, he was sprightly.',\n",
       " \"well, we haven't worked out all the details ourselves. we'll need a few days to plan the ceremony. of course, we'll have soup, roast, and ice cream. and then...  wait. would we live here?\",\n",
       " \"oh well, it was all my fault. i...i got engaged, but then she freaked out because i'd only just met him, you know, that day. and she said she wouldn't bless the marriage, and...\",\n",
       " 'well, almost.',\n",
       " \"so, uh...about my friends. well, i say friends, they're more like family. anyway, when i was a kid, it was just me and sven until they, you know, kind of took us in.\",\n",
       " \"yeah. i don't want to scare you, they can be a little bit inappropriate. and loud, very loud. they're also stubborn at times, and a little overbearing, and heavy. really, really heavy. which you'll...but you know, you'll get it. they're fine. they mean well.\",\n",
       " \"uh...okay. well, i'm gonna go.\",\n",
       " \"well -- i thought -- since we're getting married...it might be nice if we...got to know one another.\",\n",
       " \"it's just that -- well, i'm honored that you selected me, and everything, i just thought the marriage might go a little more smoothly if -- we had a conversation?\",\n",
       " \"conversation...yes...well...  wasn't she briefed?\",\n",
       " 'very well.  carpenter, is there a convenient time to talk vis-a-vis: relationship?',\n",
       " 'well...  i declared war!',\n",
       " 'well, you just sit here and be a party-pooper.',\n",
       " \"well, actually, uh -- i'm sort of making it up --\",\n",
       " \"well i'm gonna start doing things for you...\",\n",
       " \"now i've heard a lot of scuttlebutt about a food shortage  .  well you boys are gonna be taken care of.  but in the meantime we're gonna eat the enemy for breakfast  , we are gonna eat the enemy for lunch  , and we are gonna eat the enemy for dinner  !\",\n",
       " \"excuse me, guys -- that's my date. well, it's been fun.  have a great war!\",\n",
       " \"yeah.  well -- no.  she's kind of playing hard to get.  as a matter of fact, she's playing completely unattainable.  so, what's on the schedule?  a brisk walk?  a foraging expedition?\",\n",
       " 'well, what exactly does our platoon do?  serve beverages?  process paperwork?',\n",
       " \"you  too?  well just for that, you lose your day's rations!  now get back to work!\",\n",
       " \"well, i generally just make belittling comments and snicker behind death's back.  so, tell me, fellow war-monger...do you think princess bala likes men in uniform?\",\n",
       " \"well she better -- she's engaged to one. me  !\",\n",
       " 'well i, i don\\'t think \"living it up\" is the right term -- how about \"working themselves to death\"?',\n",
       " 'well, if single-handedly vanquishing the enemy and slaughtering a whole nestful of termites makes someone a hero, yes i am.',\n",
       " \"ah, yes.  well, charmed, i'm sure.  so, princess, have you ever danced with a hero?\",\n",
       " \"oh...oh well then, one more won't matter.\",\n",
       " \"well it wasn't a masquerade, really, it was more what i'd call a clever ruse --\",\n",
       " 'well i guess that makes us even.',\n",
       " \"well, that's an appealing offer, but...considering the options...  you go back.  me, i'm going to insectopia.\",\n",
       " 'yeah, well i have it on a reliable source...  that it exists.  now you follow the yellow egg...   that direction.',\n",
       " \"well, because he's more than a worker...he's a...what did he call it, azteca...\",\n",
       " \"well, it's...someone with his own point of view...someone who does what he wants, not whatever he's told to do!\",\n",
       " \"well i'll be.\",\n",
       " 'well...no, but --',\n",
       " 'well...i am the oldest.',\n",
       " \"i've never seen anything like it, general, they're they're...well, look!\",\n",
       " 'well, uh, who notices workers, sir?',\n",
       " \"yeah...i mean...well...i don't know, really, sir.\",\n",
       " \"well now you haven't fallen for this silly idea of individuality, have you?\",\n",
       " \"habla ingles  ?  well i really don't know who they are.\",\n",
       " \"well -- like my father used to say -- there's no such thing as a free meal!\",\n",
       " 'yeah, well, i make it a practice not to trust anyone who shoots acid out of their forehead.',\n",
       " 'well, \"trouble\" is my middle name. actually, my  middle name is .985, but i don\\'t tell people.  hey, bala, i...i actually have something of yours...you left it at the bar that night.',\n",
       " \"well, i...i know it's a little strange, but...i thought it might come in handy if i...needed a scarf someday.  well, to be honest, i just liked having it.\",\n",
       " \"well you'll never be able to hurt him where he is now.  i miss him already.\",\n",
       " 'well...if you insist...',\n",
       " 'you \"smell\" me?  well look, i -- i\\'ve been out in the wilderness for a while, and --',\n",
       " \"head for the surface, bala.  if i don't make it, well...we'll always have insectopia.\",\n",
       " 'very well, general -- i know you -- all work and no play!',\n",
       " \"well, so nothing's perfect.  but you know?  i wouldn't change a thing.\",\n",
       " \"yes, well, actually, that would be a giant. now, ogres, oh they're much worse. they'll make a suit from your freshly peeled skin.\",\n",
       " \"well, i've got a talking donkey.\",\n",
       " \"right. well, that's good for ten shillings, if you can prove it.\",\n",
       " 'well?',\n",
       " \"shrek? well, you know what i like about you, shrek? you got that kind of i-don't-care-what-nobody-thinks-of-me thing. i like that. i respect that, shrek. you all right. whoa! look at that. who'd want to live in place like that?\",\n",
       " \"please! i don't wanna go back there! you don't know what it's like to be considered a freak. well, maybe you do. but that's why we gotta stick together. you gotta let me stay! please! please!\",\n",
       " \"oh, well, i guess that's cool. i mean, i don't know you, and you don't know me, so i guess outside is best, you know. here i go. good night. i mean, i do like the outdoors. i'm a donkey. i was born outside. i'll just be sitting by myself outside, i guess, you know. by myself, outside. i'm all alone...there's no one here beside me...\",\n",
       " \"well, gents, it's a far cry from the farm, but what choice do we have?\",\n",
       " \"well, she's married to the muffin man.\",\n",
       " \"well, technically you're not a king.\",\n",
       " \"well, i have a bit of a confession to make. donkeys don't have layers. we wear our fear right out there on our sleeves.\",\n",
       " \"well, at least we know where the princess is, but where's the...\",\n",
       " 'well, i have to save my ass.',\n",
       " 'well, yes.',\n",
       " \"well, yes, actually. oh, no. this is all wrong. you're not supposed to be an ogre.\",\n",
       " 'well, so much for noble steed.',\n",
       " 'yeah, well, maybe you\\'re right, princess. but i\\'ll let you do the \"measuring\" when you see him tomorrow.',\n",
       " 'a door? well, gentlemen, i bid thee good night.',\n",
       " \"well, there's, um, gabby, the small and annoying.\",\n",
       " \"well, eat up. we've got a big day ahead of us.\",\n",
       " \"well, it's no way to behave in front of a princess.\",\n",
       " \"well, maybe you shouldn't judge people before you get to know them.\",\n",
       " \"well... when one lives alone, uh, one has to learn these things in case there's a... there's an arrow in your butt!\",\n",
       " 'no kidding. well, this is delicious.',\n",
       " \"well, they're also great in stews. now, i don't mean to brag, but i make a mean weed rat stew.\",\n",
       " \"i- - there's nothing to tell. besides, even if i did tell her that, well, you know - - and i'm not sayin' i do 'cause i don't - - she's a princess, and i'm - -\",\n",
       " \"well, yeah! was it something you ate? 'cause i told shrek those rats was a bad idea. you are what you eat, i said. now - -\",\n",
       " \"all right, all right. calm down. look, it's not that bad. you're not that ugly. well, i ain't gonna lie. you are ugly. but you only look like this at night. shrek's ugly 24-7.\",\n",
       " \"but, you know, um, you're kind of an orge, and shrek - - well, you got a lot in common.\",\n",
       " \"princess, i - - uh, how's it going, first of all? good? um, good for me too. i'm okay. i saw this flower and thought of you because it's pretty and - - well, i don't really like it, but i thought you might like it 'cause you're pretty. but i like you anyway. i'd - - uh, uh... i'm in trouble. okay, here we go.\",\n",
       " \"yeah? well, it does. ah, right on time. princess, i've brought you a little something.\",\n",
       " \"very well, ogre. the deed to your swamp, cleared out, as agreed. take it and go before i change my mind. forgive me, princess, for startling you, but you startled me, for i have never seen such a radiant beauty before. i'm lord farquaad.\",\n",
       " 'lord farquaad? oh, no, no. forgive me, my lord, for i was just saying a short... farewell.',\n",
       " 'fare-thee-well, ogre.',\n",
       " \"well, yeah. but the wall's supposed to go around my swamp, not through it.\",\n",
       " \"well, i'm through with you.\",\n",
       " 'uh-uh. you know, with you it\\'s always, \"me, me, me!\" well, guess what! now it\\'s my turn! so you just shut up and pay attention! you are mean to me. you insult me and you don\\'t appreciate anything that i do! you\\'re always pushing me around or pushing me away.',\n",
       " 'oh, yeah? well, if i treated you so bad, how come you came back?',\n",
       " \"she wasn't talking about me? well, then who was she talking about?\",\n",
       " 'well, i - - uh - - i mean - -',\n",
       " 'well, uh, that explains a lot.',\n",
       " \"well, yes. but i don't understand. i'm supposed to be beautiful.\",\n",
       " \"well, since you're filling in for one, you might as well look like a real king. can somebody come in here and work on shrek please?\",\n",
       " 'i think that went pretty well.',\n",
       " 'well, somebody better be dying.',\n",
       " 'well, my stomach aches and my palms just got sweaty. must be a high school.',\n",
       " 'well good friends, it breaks my heart, but, enjoy your stay here in prison while i rule the free world baby!',\n",
       " \"well, now you'll have plenty of time to work on your marriage.\",\n",
       " 'well, when he first found out...shrek said-',\n",
       " \"well, well, well. if it isn't peter pan.\",\n",
       " \"well, i don't know where he's not.\",\n",
       " \"well, i've heard it's harder than it looks.\",\n",
       " \"hey, if you think this is getting you out of anything, well it isn't. we're heading back to far far away one way or another, and you're gonna be a father!\",\n",
       " 'well, i doubt he was worse than mine.',\n",
       " 'well maybe it just bothers you that i was voted fairest in the land.',\n",
       " 'well, well, well. you want some eggs with that ham?',\n",
       " \"well i guess i've been so busy i forgot to mention it! guard #1 it's the ogre! get him!\",\n",
       " \"well, what do you expect us to do? we're just four...\\n\\n i mean, three, super hot princesses, two circus freaks, a pregnant ogre and an old lady.\",\n",
       " \"well, you didn't actually think you got your fighting skills from your father, did you?\",\n",
       " \"well... she's got your eye.\",\n",
       " \"well it can't be anymore painful than the lousy performance you're giving.\",\n",
       " 'well i guess you need to keep looking...',\n",
       " \"well, for what it's worth, you would have too.\",\n",
       " 'well, what shall we do now?',\n",
       " 'well done, students... if you were trying to disappoint me.',\n",
       " \"well, i didn't say that.\",\n",
       " \"oh. well, i mean, it's not like you were going anywhere.\",\n",
       " \"oh, okay. well-- i don't know if i can do all of those moves.\",\n",
       " \"well, if we don't try, we'll never know will we?\",\n",
       " \"well, ya know...i'm not a master, but uh, let's just start at zero, level zero.\",\n",
       " 'okay. alright. goodnight. sleep well.',\n",
       " \"well, if he's going to stay here, he should know.\",\n",
       " 'well, that was no accident either.',\n",
       " 'shifu taught you well...',\n",
       " 'you have done well, panda.',\n",
       " \"done well? done well?! i've done awesome!\",\n",
       " \"the meathead with attitude and interchangeable hands is gobber. i've been his apprentice ever since i was little. well...littler.\",\n",
       " 'well, it runs in the family.',\n",
       " 'well this was stupid.',\n",
       " 'well done, astrid.',\n",
       " \"i normally don't care what people do, but you're acting weird. well, weirder.\",\n",
       " 'well, i trust you found the nest at least?',\n",
       " 'well, if by success, you mean that your parenting troubles are over with, then... yes.',\n",
       " 'ahhhhh. with you doing so well in the ring, we finally have something to talk about.',\n",
       " 'well..uh..good night.',\n",
       " 'well, i can show my face in public again.',\n",
       " \"listen... stoick... i was overhearing some of the men just now and, well, some of them are wondering what it is we're up to here -- not me of course, i know you're always the man with the plan -- but some, not me, are wondering if there is in fact a plan at all, what it might be?\",\n",
       " 'well, he can fly.',\n",
       " 'well, you know... most of him.',\n",
       " 'well. most of you.',\n",
       " 'well, hello good looking. need a lift?',\n",
       " 'i’ll tell ya. the greatest honor you’ve given me is letting me serve you. the helpless people of metro city. at the end of every day, well, i often ask myself; who would i be without you.',\n",
       " 'well, i think your warranty’s about to expire!',\n",
       " 'well, let’s not get our hopes up just yet.',\n",
       " 'i know. funny. always thirsty, never satisfied. i understand you, little well dressed bird. purposeless, emptiness. it’s a vacuum, isn’t it? it’s…what’s your vacuum like?',\n",
       " 'uh, well, you did it, sir. yes, you’ve made that perfectly clear.',\n",
       " 'oh, well, uh…what if tomorrow we could go kidnap roxanne ritchie? that always seems to lift your spirits.',\n",
       " 'well, thank you for letting me stay.',\n",
       " 'well, i uh, i happen to be speed walking nearby when you called.',\n",
       " 'well, look partner, i’m her partner. she doesn’t know what she’s saying, she’s been through a traumatic experience.',\n",
       " 'well sir, his name is hal stewart. he is twenty eight years old, no criminal record, actually no records at all. apparently this man hasn’t accomplished anything.',\n",
       " 'well, use the forget-me stick.',\n",
       " 'well, in shh…school none of the other kids really liked me. i was always the last one picked for everything.',\n",
       " 'well you seem in a very good mood tonight, sir.',\n",
       " 'well, i don’t need you to look after me.',\n",
       " 'well, good luck on your date!',\n",
       " 'oh, oh, right! well, prepare to have your mind blown little lady.  ta-da.',\n",
       " 'well, that seems kind of betty. don’t you think?',\n",
       " 'well, let’s take a look at the content then, shall we? you destroyed metro man, you took over the city, and then you actually got me to care about you! why are you so evil? tricking me! what could you possibly hoped to gain?',\n",
       " 'ooh, you don’t like that, huh? well, there’s more.',\n",
       " 'oh, well done! i thought that battle went really, really well. i mean, i have a few notes…',\n",
       " 'well there is one place i know.',\n",
       " 'well, that made one of us!',\n",
       " 'well, it mostly involves not dying!',\n",
       " 'well, i did look back.',\n",
       " 'well, i finally had a reason to win. you!',\n",
       " 'well, ah, not exactly...',\n",
       " \"well, i've got a serious situation with some eggs.\",\n",
       " 'well, ah, as long he helps to ah...to protect the children, right?',\n",
       " \"well, wasn't bigfoot kiddo.\",\n",
       " 'i hope the yetis treated you well?',\n",
       " 'yes! when pitch threatens us, he threatens them as well.',\n",
       " 'here. this is how you see me, no? very big, intimidating. but if you get to know me a little-- well, go on.',\n",
       " \"well that's all about to change.\",\n",
       " \"yeah, well, look let's just get you taken care of. then it's pitch's turn, huh?\",\n",
       " 'well fear not, for the answer to that...',\n",
       " \"you're afraid of disappointing them. well let me ease your mind about one thing. they'll never accept you. not really.\",\n",
       " 'maybe he just hid them really well this year.',\n",
       " 'very well. you want to be left alone? done. but first...',\n",
       " \"well, alright. well, not, not this time. i promise. i promise, you're gonna be...you're gonna be fine.\",\n",
       " 'very well. there are other ways to snuff out a light.',\n",
       " 'okay, well do you stop believing in the sun when clouds block it out?',\n",
       " 'well then why did you go up there?',\n",
       " 'well, yeah, sort of.',\n",
       " 'oh. well, i thought he was a warthog, but then he turned into a boy.',\n",
       " \"well, we are going to shut our eyes and sleep. and when we wake up we're going to find the place that has everything we want.\",\n",
       " 'well, there goes our chance for survival.',\n",
       " \"oh, oh, `guy'. `guy' is with them. well thank you for bringing me that interesting guy update!\",\n",
       " 'well, that makes one of us. count me in!',\n",
       " \"he's riding the sun... but not very well. everybody out of the way!\",\n",
       " 'well, a boys gotta have a pet.',\n",
       " 'well, sort of.',\n",
       " 'this... is berk. the best kept secret this side of, well, anywhere. granted, it may not look like much, but this wet heap of rock packs more than a few surprises.',\n",
       " \"well played! hahaha! that's my future daughter-in-law!\",\n",
       " \"oh, what? do you want an apology? is that why you're pouting, big baby boo? well... try this on!\",\n",
       " \"well, it's a lot of responsibility. the map will have to wait for sure, and i'll need to fly toothless, since you'll be too busy...\",\n",
       " \"he's expecting a new shipment of dragons for his army by tomorrow. no-name and drago don't take well to excuses.\",\n",
       " 'see how well i protect and provide?',\n",
       " \"well, didn't you just pick the wrong ship, eh? i am eret, son of --\",\n",
       " 'until he wrapped himself in his cloak and cried out, \"then see how well you do without me!\"',\n",
       " \"ah, he's just twenty. and a viking. i mean, could there be a worse combination? ha! when i think of how stubborn and senseless you were back in the day... well, not much has changed, actually.\",\n",
       " 'incredible. he might very well be the last of his kind.',\n",
       " \"and look, he's your age! no wonder you get along so well.\",\n",
       " \"heh. well, crazy thing is... i'm actually the one who shot him down.\",\n",
       " \"he didn't take it all that well.\",\n",
       " '-- believe me, i tried, as well. but people are not capable of change, hiccup. some of us... were just born different.',\n",
       " \"it's all well and good to call yourself a dragon.\",\n",
       " 'well, not bad yourself.',\n",
       " \"large diameter bubbles, massive lungs, cold water deep dweller, i'm thinking class five leviathan, maybe six.\",\n",
       " \"well, as you can see, i'm right on time with a new batch of dragons, just like i promised.\",\n",
       " \"well, bud, we can't wait around for drago to attack this place. we've gotta find him first. let's go.\",\n",
       " 'well, what sign did i have that you could change, stoick? that anyone on berk could?',\n",
       " \"our son's changed berk for the better. i think we did well with this one, val.\",\n",
       " \"well, y'know... i didn't marry you for your cooking.\",\n",
       " 'well, now you know where i get my dramatic flair.',\n",
       " 'well, you need dragons to conquer other dragons.',\n",
       " \"well, it's a good thing that i never listen.\"]"
      ]
     },
     "execution_count": 9,
     "metadata": {},
     "output_type": "execute_result"
    }
   ],
   "source": [
    "well_lines"
   ]
  },
  {
   "cell_type": "code",
   "execution_count": 10,
   "metadata": {},
   "outputs": [
    {
     "data": {
      "text/plain": [
       "['what wouldst thou know, my queen ? ',\n",
       " \"hello there. what's the matter ? where's your mama and papa ? why, i believe you're lost. oh, please, don't cry. come on. perk up. won't you smile for me ? that's better. your mama and papa can't be far. there they are. can you fly ? goodbye. goodbye ! \",\n",
       " \"i can't sleep in the ground like you. or in a tree the way you do. and i'm sure no nest would possibly be big enough for me. maybe you know where i can stay. in the woods somewhere ? \",\n",
       " \"i can't sleep in the ground like you. or in a tree the way you do. and i'm sure no nest would possibly be big enough for me. maybe you know where i can stay. in the woods somewhere ? \",\n",
       " \"i can't sleep in the ground like you. or in a tree the way you do. and i'm sure no nest would possibly be big enough for me. maybe you know where i can stay. in the woods somewhere ? \",\n",
       " \"i can't sleep in the ground like you. or in a tree the way you do. and i'm sure no nest would possibly be big enough for me. maybe you know where i can stay. in the woods somewhere ? \",\n",
       " \"hello ? may i come in ? shh. oh! what a cute little chair. why, there's seven little chairs. must be seven little children. and from the look of this table, seven untidy little children. a pickax. a stocking too. \",\n",
       " \"and just look at that broom. tsk, tsk, tsk ! tsk, tsk, tsk ! why, they've never swept this room. you'd think their mother would \",\n",
       " \"maybe they have no mother. then, they're orphans. that's too bad. i know. we'll clean the house and surprise them. then, maybe they'll let me stay. \",\n",
       " \"maybe they have no mother. then, they're orphans. that's too bad. i know. we'll clean the house and surprise them. then, maybe they'll let me stay. \",\n",
       " \"what funny names for children. grumpy, bashful and sleepy. i'm a little sleepy myself. oh, oh. \",\n",
       " \"jiminy crickets. the door is open. the chimney's smokin'. something's in there. maybe a ghost. or a goblin. a demon. or a dragon. grumpy; mark my words, there's trouble abrewin'. felt it comin' all day. my corns hurt. \",\n",
       " \"jiminy crickets. the door is open. the chimney's smokin'. something's in there. maybe a ghost. or a goblin. a demon. or a dragon. grumpy; mark my words, there's trouble abrewin'. felt it comin' all day. my corns hurt. \",\n",
       " \"don't touch it, you fools ! might be poison. \",\n",
       " \"i couldn't help it. i can't tell. when you gotta, you gotta. iii gotta. iit's comin'. ahah \",\n",
       " 'well, uh, uh ',\n",
       " \"she's mighty pretty. \",\n",
       " \"i don't know, but i'm agin'em. \",\n",
       " \"well, my dear quincess uh, princess. we're, uhwe're honored. yes, we're \",\n",
       " \"she's mighty mean. \",\n",
       " \"she don't, huh ? she knows everything. she's full of black magic. she can even make herself invisible. pfft ! might be in this room right now. \",\n",
       " 'oh, perhaps you have washed. ',\n",
       " 'perhaps we yes, perhaps we have. but when ? when ? uh, when ? uh, you said, when ? why, last weekuh, monthyearwhy, recently. ',\n",
       " \"how shocking. tsk, tsk, tsk ! goodness me, this will never do. march straight outside and wash, or you'll not get a bite to eat. \",\n",
       " \"well, aren't you going to wash ? what's the matter ? cat got your tongue ? \",\n",
       " \"well, iit'll please the princess. \",\n",
       " \"you may be cold and wet when you're done but ya gotta admit it's good and clean fun so splash all ya like 'tain't any trick as soon as you're through you'll feel mighty slick bunch of old nanny goats ya make me sick going \",\n",
       " \"you may be cold and wet when you're done but ya gotta admit it's good and clean fun so splash all ya like 'tain't any trick as soon as you're through you'll feel mighty slick bunch of old nanny goats ya make me sick going \",\n",
       " \"now scrub good and hard it can't be denied that he'll look mighty cute as soon as he's dried well, it's good for the soul and it's good for the hide \",\n",
       " \"now scrub good and hard it can't be denied that he'll look mighty cute as soon as he's dried well, it's good for the soul and it's good for the hide \",\n",
       " 'magic mirror on the wall, who now is the fairest one of all ? over the seven jewelled hills, beyond the seventh fall, in the cottage of the seven dwarfs, dwells snow white, fairest one of all. ',\n",
       " \"a blast of wind... to fan my hate ! a thunderbolt... to mix it well. now... begin thy magic spell. look ! my hands ! my voice ! my voice ! a perfect disguise. and now, a special... sort of death for one so fair. what shall it be ? ah ! a poisoned apple ! sleeping death. one taste of the poisoned apple... and the victim's eyes will close forever... in the sleeping death. \",\n",
       " \"a blast of wind... to fan my hate ! a thunderbolt... to mix it well. now... begin thy magic spell. look ! my hands ! my voice ! my voice ! a perfect disguise. and now, a special... sort of death for one so fair. what shall it be ? ah ! a poisoned apple ! sleeping death. one taste of the poisoned apple... and the victim's eyes will close forever... in the sleeping death. \",\n",
       " 'well, what shall i do ? ',\n",
       " 'well, once there was a princess. ',\n",
       " 'oh, it was very easy. anyone could see that the prince was charming. the only one for me. ',\n",
       " \"he was so romantic i could not resist some day my prince will come some day we'll meet again and away to his castle we'll go to be happy forever i know \",\n",
       " 'oh, yes, mighty comfortable. ',\n",
       " 'well, if you insist. good night. ',\n",
       " 'oh, yes, very comfortable. snow white well, pleasant dreams. ',\n",
       " 'bless the seven little men... who have been so kind to me. and may my dreams come true. amen. oh, yes, and please make grumpy like me. ',\n",
       " 'dip the apple in the brew. let the sleeping death seep through. look ! on the skin ! the symbol of what lies within. now, turn red to tempt snow white. to make her hunger for a bite. ',\n",
       " 'have a bite ? ',\n",
       " \"but wait ! there may be an antidote. nothing must be overlooked. ah ! here it is ! the victim of the sleeping death... can be revived only by love's first kiss. love's first kiss! bah ! no fear of that. the dwarfs will think she's dead. she'll be buried alive ! \",\n",
       " 'oh, oh, yes. well, uh, come on, men. ',\n",
       " \"be awful careful, 'cause if anything would happen to you, \",\n",
       " \"well... all right. but that's the last oh ! go on. run along. \",\n",
       " 'go on. go on, have a bite. ',\n",
       " 'yes, girlie ! now, make a wish and take a bite. ',\n",
       " \"maybe the old queen's got snow white. \",\n",
       " \"maybe the old queen's got snow white. \",\n",
       " \"there must be something your little heart desires. perhaps there's someone you love. \",\n",
       " 'well, there is someone. ',\n",
       " \"fine ! fine ! now, take a bite. don't let the wish grow cold ! \",\n",
       " \"once upon a time in a faraway land there was a tiny kingdom, peaceful, prosperous and rich in romance and tradition. here in a stately chateau there lived a widowed gentleman and his little daughter cinderella. although he was a kind and devoted father and gave his beloved child every luxury and comfort still he felt she needed a mother's care. and so he married again choosing for his second wife a woman of good family with two daughters just cinderella's age by name anastasia and drizella. it was upon the untimely death of this good man, however, that the stepmother's true nature was revealed. cold, cruel and bitterly jealous of cinderella's charm and beauty, she was grimly determined to forward the interests of her own two awkward daughters. thus, as time went by the chateau fell into disrepair, for the family fortunes were squandered upon the vain and selfish stepsisters while cinderella was abused, humiliated and finally forced to become a servant in her own house. and yet through it all cinderella remained ever gentle and kind for with each dawn she found new hope that someday her dreams of happiness would come true. cinderella wake up! \",\n",
       " 'well, try again. okay wake up, wake up. cinderella wake up! ',\n",
       " \"well serves you right spoiling people's best dreams. yes i know it's a lovely morning but it was a lovely dream too sighs. \",\n",
       " 'what kind of dream? ',\n",
       " \"what kind of dream? hmmm. can't tell. \",\n",
       " \"oh a visitor. well, she'll need a dress... \",\n",
       " \"where? in a trap? well, why you didn't you say do? \",\n",
       " 'oh the poor little thing is scared to death. jaq maybe you better explain things to him. ',\n",
       " 'oh the poor little thing is scared to death. jaq maybe you better explain things to him. ',\n",
       " \"well that's better. hmm. well let's just slip it on for size. uh, huh. it is a little snug but it'll have to do. now for a name i've got one. octavious. but for short we'll call you gus. \",\n",
       " \"well that's better. hmm. well let's just slip it on for size. uh, huh. it is a little snug but it'll have to do. now for a name i've got one. octavious. but for short we'll call you gus. \",\n",
       " \"that's bad. supposed they heard you upstairs. you know the orders, so if you don't want to lose a nice warm bed you'd better get rid of those dreams. know how? just learn to like cats. no i mean it. lucifer has his good points too. for one thing, hethinking well, sometimes hehmm. there must be something good about him. \",\n",
       " 'hmmm. no gusgus. well guess he got away. ',\n",
       " 'good morning drizella. sleep well? ',\n",
       " \"well! it's about time! don't forget the mending! don't be all day getting it done, either. \",\n",
       " 'well, come in, child. come in! ',\n",
       " 'hold your tongue! it seems we have time on our hands. ',\n",
       " \"silence! time for vicious practical jokes. perhaps we can it to better use. now let me see. there's the large carpet in the main hall. clean it! and the windows, upstairs and down. wash them! oh yes, and the tapestries and the draperies. \",\n",
       " 'now, now your majesty. perhaps if we just let him alone. ',\n",
       " 'well, what could be more natural than a ball to celebrate his return? ',\n",
       " 'well, what could be more natural than a ball to celebrate his return? ',\n",
       " \"the moment he doeshaha! soft lights, romantic music, all the trimmings! it' can't possibly fail can it? \",\n",
       " 'yyyes sinno sire. very well sire. i shall arrange the ball for ',\n",
       " \"i don't know. he said it's urgent \",\n",
       " 'maybe i should interrupt the, uh, music lesson. ',\n",
       " 'maybe i should interrupt the, uh, music lesson. ',\n",
       " \"i'll read it. well! there's to be a ball. \",\n",
       " \"i'd be honoured. your highness, would you mind holding my broom? \",\n",
       " \"well, why not? after all i'm still a member of the family. and it says by royal command every eligible maiden is to attend. \",\n",
       " \"yes so it does. well i see no reason why you can't goif you get all your work done. \",\n",
       " \"well maybe it's a little oldfashioned, butoh i'll fix that. gus uh, uh how you do it, huh? \",\n",
       " \"well maybe it's a little oldfashioned, butoh i'll fix that. gus uh, uh how you do it, huh? \",\n",
       " \"well maybe it's a little oldfashioned, butoh i'll fix that. gus uh, uh how you do it, huh? \",\n",
       " \"well maybe it's a little oldfashioned, butoh i'll fix that. gus uh, uh how you do it, huh? \",\n",
       " 'oh well. guess my dress will just have to wait. ',\n",
       " 'very well. ',\n",
       " \"mother i don't see why everybody else seems to have such nice things to wear and i always end up in these old rags. this sash. why i wouldn't be seen dead in it. \",\n",
       " \"mother i don't see why everybody else seems to have such nice things to wear and i always end up in these old rags. this sash. why i wouldn't be seen dead in it. \",\n",
       " \"oh well, what's a royal ball? after all i suppose it would be frightfully dull andand boring and completelycompletely wonderful. oh! why, it's my \",\n",
       " \"oh well, what's a royal ball? after all i suppose it would be frightfully dull andand boring and completelycompletely wonderful. oh! why, it's my \",\n",
       " \"oh well, what's a royal ball? after all i suppose it would be frightfully dull andand boring and completelycompletely wonderful. oh! why, it's my \",\n",
       " \"well i never dreamed. it's such a surprise! oh how can i everoh thank you so much. \",\n",
       " \"cinderella! you wouldn't! \",\n",
       " \"no i don't! i think shegasps why you little thief. they're my beads! give them here! \",\n",
       " \"nonsense child. if you'd lost all your faith i couldn't be here. and here i am. oh come now. dry those tears. you can't go to the ball looking like that. \",\n",
       " \"of course you are but we'll have to hurry because even miracles take a little time. \"]"
      ]
     },
     "execution_count": 10,
     "metadata": {},
     "output_type": "execute_result"
    }
   ],
   "source": [
    "hedge_lines[:100]"
   ]
  },
  {
   "cell_type": "code",
   "execution_count": 11,
   "metadata": {},
   "outputs": [],
   "source": [
    "def find_hedges(line):\n",
    "    hedge_count = 0\n",
    "    for hedge in hedge_list:\n",
    "        if hedge in line:\n",
    "            hedge_count += 1\n",
    "    return hedge_count"
   ]
  },
  {
   "cell_type": "code",
   "execution_count": 12,
   "metadata": {},
   "outputs": [],
   "source": [
    "movies_df['Hedges'] = movies_df.Text.map(lambda x: find_hedges(x))"
   ]
  },
  {
   "cell_type": "code",
   "execution_count": 13,
   "metadata": {},
   "outputs": [
    {
     "data": {
      "text/plain": [
       "count    13442.00000\n",
       "mean         0.13495\n",
       "std          0.42861\n",
       "min          0.00000\n",
       "25%          0.00000\n",
       "50%          0.00000\n",
       "75%          0.00000\n",
       "max          4.00000\n",
       "Name: Hedges, dtype: float64"
      ]
     },
     "execution_count": 13,
     "metadata": {},
     "output_type": "execute_result"
    }
   ],
   "source": [
    "movies_df.Hedges.describe()"
   ]
  },
  {
   "cell_type": "code",
   "execution_count": 14,
   "metadata": {},
   "outputs": [
    {
     "data": {
      "text/html": [
       "<div>\n",
       "<style scoped>\n",
       "    .dataframe tbody tr th:only-of-type {\n",
       "        vertical-align: middle;\n",
       "    }\n",
       "\n",
       "    .dataframe tbody tr th {\n",
       "        vertical-align: top;\n",
       "    }\n",
       "\n",
       "    .dataframe thead th {\n",
       "        text-align: right;\n",
       "    }\n",
       "</style>\n",
       "<table border=\"1\" class=\"dataframe\">\n",
       "  <thead>\n",
       "    <tr style=\"text-align: right;\">\n",
       "      <th></th>\n",
       "      <th>count</th>\n",
       "      <th>mean</th>\n",
       "      <th>std</th>\n",
       "      <th>min</th>\n",
       "      <th>25%</th>\n",
       "      <th>50%</th>\n",
       "      <th>75%</th>\n",
       "      <th>max</th>\n",
       "    </tr>\n",
       "    <tr>\n",
       "      <th>Gender</th>\n",
       "      <th></th>\n",
       "      <th></th>\n",
       "      <th></th>\n",
       "      <th></th>\n",
       "      <th></th>\n",
       "      <th></th>\n",
       "      <th></th>\n",
       "      <th></th>\n",
       "    </tr>\n",
       "  </thead>\n",
       "  <tbody>\n",
       "    <tr>\n",
       "      <th>f</th>\n",
       "      <td>4216.0</td>\n",
       "      <td>0.135436</td>\n",
       "      <td>0.429534</td>\n",
       "      <td>0.0</td>\n",
       "      <td>0.0</td>\n",
       "      <td>0.0</td>\n",
       "      <td>0.0</td>\n",
       "      <td>4.0</td>\n",
       "    </tr>\n",
       "    <tr>\n",
       "      <th>m</th>\n",
       "      <td>8914.0</td>\n",
       "      <td>0.137424</td>\n",
       "      <td>0.432944</td>\n",
       "      <td>0.0</td>\n",
       "      <td>0.0</td>\n",
       "      <td>0.0</td>\n",
       "      <td>0.0</td>\n",
       "      <td>4.0</td>\n",
       "    </tr>\n",
       "    <tr>\n",
       "      <th>n</th>\n",
       "      <td>312.0</td>\n",
       "      <td>0.057692</td>\n",
       "      <td>0.246920</td>\n",
       "      <td>0.0</td>\n",
       "      <td>0.0</td>\n",
       "      <td>0.0</td>\n",
       "      <td>0.0</td>\n",
       "      <td>2.0</td>\n",
       "    </tr>\n",
       "  </tbody>\n",
       "</table>\n",
       "</div>"
      ],
      "text/plain": [
       "         count      mean       std  min  25%  50%  75%  max\n",
       "Gender                                                     \n",
       "f       4216.0  0.135436  0.429534  0.0  0.0  0.0  0.0  4.0\n",
       "m       8914.0  0.137424  0.432944  0.0  0.0  0.0  0.0  4.0\n",
       "n        312.0  0.057692  0.246920  0.0  0.0  0.0  0.0  2.0"
      ]
     },
     "execution_count": 14,
     "metadata": {},
     "output_type": "execute_result"
    }
   ],
   "source": [
    "movies_df.groupby('Gender')['Hedges'].describe()"
   ]
  },
  {
   "cell_type": "markdown",
   "metadata": {},
   "source": [
    "## Graphs"
   ]
  },
  {
   "cell_type": "code",
   "execution_count": 15,
   "metadata": {},
   "outputs": [],
   "source": [
    "from matplotlib import pyplot as plt"
   ]
  },
  {
   "cell_type": "code",
   "execution_count": 16,
   "metadata": {},
   "outputs": [],
   "source": [
    "#only comparing male female, pro, ant, and helpers\n",
    "movies_gen_df = movies_df[movies_df.Gender != 'n']\n",
    "movies_role_df = movies_df[movies_df.Role != 'N']"
   ]
  },
  {
   "cell_type": "code",
   "execution_count": 17,
   "metadata": {},
   "outputs": [],
   "source": [
    "movies_gen_role_df = movies_df[(movies_df.Gender != 'n') & (movies_df.Role != 'N')]"
   ]
  },
  {
   "cell_type": "code",
   "execution_count": 18,
   "metadata": {},
   "outputs": [
    {
     "data": {
      "text/plain": [
       "<matplotlib.axes._subplots.AxesSubplot at 0x10d26af0>"
      ]
     },
     "execution_count": 18,
     "metadata": {},
     "output_type": "execute_result"
    },
    {
     "data": {
      "image/png": "[encoded data removed]",
      "text/plain": [
       "<Figure size 432x288 with 1 Axes>"
      ]
     },
     "metadata": {
      "needs_background": "light"
     },
     "output_type": "display_data"
    }
   ],
   "source": [
    "hedge_by_gen = movies_gen_df.groupby('Gender')['Hedges'].describe()['mean']\n",
    "hedge_by_gen.plot.bar(color=['magenta', 'blue'])"
   ]
  },
  {
   "cell_type": "code",
   "execution_count": 19,
   "metadata": {},
   "outputs": [
    {
     "data": {
      "text/plain": [
       "<matplotlib.axes._subplots.AxesSubplot at 0x12206610>"
      ]
     },
     "execution_count": 19,
     "metadata": {},
     "output_type": "execute_result"
    },
    {
     "data": {
      "image/png": "[encoded data removed]",
      "text/plain": [
       "<Figure size 432x288 with 1 Axes>"
      ]
     },
     "metadata": {
      "needs_background": "light"
     },
     "output_type": "display_data"
    }
   ],
   "source": [
    "hedge_by_role = movies_role_df.groupby('Role')['Hedges'].describe()['mean']\n",
    "hedge_by_role.plot.bar(color=['red', 'purple', 'blue'])"
   ]
  },
  {
   "cell_type": "code",
   "execution_count": 20,
   "metadata": {},
   "outputs": [
    {
     "data": {
      "text/plain": [
       "<matplotlib.axes._subplots.AxesSubplot at 0x122476f0>"
      ]
     },
     "execution_count": 20,
     "metadata": {},
     "output_type": "execute_result"
    },
    {
     "data": {
      "image/png": "[encoded data removed]",
      "text/plain": [
       "<Figure size 1080x432 with 1 Axes>"
      ]
     },
     "metadata": {
      "needs_background": "light"
     },
     "output_type": "display_data"
    }
   ],
   "source": [
    "hedge_by_role_gen = movies_gen_role_df.groupby(['Gender', 'Role'])['Hedges'].describe()['mean']\n",
    "hedge_by_role_gen.unstack().plot.bar(color = ['red', 'purple', 'blue'], figsize=(15,6))"
   ]
  },
  {
   "cell_type": "code",
   "execution_count": 21,
   "metadata": {},
   "outputs": [
    {
     "data": {
      "text/plain": [
       "<matplotlib.axes._subplots.AxesSubplot at 0x122a6f10>"
      ]
     },
     "execution_count": 21,
     "metadata": {},
     "output_type": "execute_result"
    },
    {
     "data": {
      "image/png": "[encoded data removed]",
      "text/plain": [
       "<Figure size 1080x432 with 1 Axes>"
      ]
     },
     "metadata": {
      "needs_background": "light"
     },
     "output_type": "display_data"
    }
   ],
   "source": [
    "hedge_by_role_gen = movies_gen_role_df.groupby(['Disney_Period','Gender', 'Role'], sort=False)['Hedges'].describe()['mean']\n",
    "hedge_by_role_gen.unstack().plot.bar(color = ['red', 'blue', 'purple'], figsize = (15, 6))"
   ]
  },
  {
   "cell_type": "code",
   "execution_count": 22,
   "metadata": {},
   "outputs": [
    {
     "data": {
      "text/plain": [
       "<matplotlib.axes._subplots.AxesSubplot at 0x122fd4d0>"
      ]
     },
     "execution_count": 22,
     "metadata": {},
     "output_type": "execute_result"
    },
    {
     "data": {
      "image/png": "[encoded data removed]",
      "text/plain": [
       "<Figure size 1080x432 with 1 Axes>"
      ]
     },
     "metadata": {
      "needs_background": "light"
     },
     "output_type": "display_data"
    }
   ],
   "source": [
    "hedge_by_era_gen = movies_gen_role_df.groupby(['Disney_Period','Gender'], sort=False)['Hedges'].describe()['mean']\n",
    "hedge_by_era_gen.unstack().plot.bar(color = ['magenta', 'blue'], figsize = (15, 6))"
   ]
  },
  {
   "cell_type": "code",
   "execution_count": 23,
   "metadata": {},
   "outputs": [
    {
     "data": {
      "text/plain": [
       "<matplotlib.axes._subplots.AxesSubplot at 0x1234cd70>"
      ]
     },
     "execution_count": 23,
     "metadata": {},
     "output_type": "execute_result"
    },
    {
     "data": {
      "image/png": "[encoded data removed]",
      "text/plain": [
       "<Figure size 1080x432 with 1 Axes>"
      ]
     },
     "metadata": {
      "needs_background": "light"
     },
     "output_type": "display_data"
    }
   ],
   "source": [
    "hedge_by_era_role = movies_gen_role_df.groupby(['Disney_Period','Role'], sort=False)['Hedges'].describe()['mean']\n",
    "hedge_by_era_role.unstack().plot.bar(color = ['red', 'blue', 'purple'], figsize = (15, 6))"
   ]
  },
  {
   "cell_type": "markdown",
   "metadata": {},
   "source": [
    "## Statistical Tests"
   ]
  },
  {
   "cell_type": "code",
   "execution_count": 24,
   "metadata": {},
   "outputs": [],
   "source": [
    "from scipy import stats"
   ]
  },
  {
   "cell_type": "code",
   "execution_count": 25,
   "metadata": {},
   "outputs": [],
   "source": [
    "f_movies = movies_df[movies_df.Gender == 'f']\n",
    "m_movies = movies_df[movies_df.Gender == 'm']"
   ]
  },
  {
   "cell_type": "code",
   "execution_count": 26,
   "metadata": {},
   "outputs": [],
   "source": [
    "pro_movies = movies_df[movies_df.Role == 'PRO']\n",
    "ant_movies = movies_df[movies_df.Role == 'ANT']\n",
    "helper_movies = movies_df[movies_df.Role == 'HELPER']"
   ]
  },
  {
   "cell_type": "markdown",
   "metadata": {},
   "source": [
    "### Gender\n",
    "#### Overall"
   ]
  },
  {
   "cell_type": "code",
   "execution_count": 27,
   "metadata": {},
   "outputs": [
    {
     "data": {
      "text/plain": [
       "Ttest_indResult(statistic=0.2469620927809358, pvalue=0.8049436474853342)"
      ]
     },
     "execution_count": 27,
     "metadata": {},
     "output_type": "execute_result"
    }
   ],
   "source": [
    "#Between male and female characters overall\n",
    "stats.ttest_ind(m_movies.Hedges, f_movies.Hedges, equal_var=False) #no significant difference!"
   ]
  },
  {
   "cell_type": "markdown",
   "metadata": {},
   "source": [
    "Overall, female speakers actually use slightly fewer hedges than male characters, but this difference isn't signficant."
   ]
  },
  {
   "cell_type": "code",
   "execution_count": 28,
   "metadata": {},
   "outputs": [],
   "source": [
    "#female lines in each era\n",
    "f_movies_early = f_movies[f_movies.Disney_Period == 'EARLY']\n",
    "f_movies_mid = f_movies[f_movies.Disney_Period == 'MID']\n",
    "f_movies_late = f_movies[f_movies.Disney_Period == 'LATE']"
   ]
  },
  {
   "cell_type": "code",
   "execution_count": 29,
   "metadata": {},
   "outputs": [],
   "source": [
    "#male lines in each era\n",
    "m_movies_early = m_movies[m_movies.Disney_Period == 'EARLY']\n",
    "m_movies_mid = m_movies[m_movies.Disney_Period == 'MID']\n",
    "m_movies_late = m_movies[m_movies.Disney_Period == 'LATE']"
   ]
  },
  {
   "cell_type": "markdown",
   "metadata": {},
   "source": [
    "#### Female Hedges over Time"
   ]
  },
  {
   "cell_type": "code",
   "execution_count": 30,
   "metadata": {},
   "outputs": [
    {
     "data": {
      "text/plain": [
       "F_onewayResult(statistic=5.6595407963416315, pvalue=0.003522764212710435)"
      ]
     },
     "execution_count": 30,
     "metadata": {},
     "output_type": "execute_result"
    }
   ],
   "source": [
    "stats.f_oneway(f_movies_early.Hedges, f_movies_mid.Hedges, f_movies_late.Hedges)"
   ]
  },
  {
   "cell_type": "code",
   "execution_count": 31,
   "metadata": {},
   "outputs": [
    {
     "data": {
      "text/plain": [
       "Ttest_indResult(statistic=2.2384771375980987, pvalue=0.025353734146271602)"
      ]
     },
     "execution_count": 31,
     "metadata": {},
     "output_type": "execute_result"
    }
   ],
   "source": [
    "stats.ttest_ind(f_movies_early.Hedges, f_movies_mid.Hedges, equal_var=False)"
   ]
  },
  {
   "cell_type": "code",
   "execution_count": 32,
   "metadata": {},
   "outputs": [
    {
     "data": {
      "text/plain": [
       "Ttest_indResult(statistic=3.016712773628267, pvalue=0.002611403475179962)"
      ]
     },
     "execution_count": 32,
     "metadata": {},
     "output_type": "execute_result"
    }
   ],
   "source": [
    "stats.ttest_ind(f_movies_early.Hedges, f_movies_late.Hedges, equal_var=False)"
   ]
  },
  {
   "cell_type": "code",
   "execution_count": 33,
   "metadata": {},
   "outputs": [
    {
     "data": {
      "text/plain": [
       "Ttest_indResult(statistic=0.6795108932552569, pvalue=0.4969138536364116)"
      ]
     },
     "execution_count": 33,
     "metadata": {},
     "output_type": "execute_result"
    }
   ],
   "source": [
    "stats.ttest_ind(f_movies_mid.Hedges, f_movies_late.Hedges, equal_var=False)"
   ]
  },
  {
   "cell_type": "markdown",
   "metadata": {},
   "source": [
    "Overall, there appears to be a significant difference between hedge counts over time (saving between the middle era and the late era). In all two-way comparisons, the previous era's women used more hedges than the next era's women. This difference is signifcant between the early and late eras, and between the early and mid eras."
   ]
  },
  {
   "cell_type": "markdown",
   "metadata": {},
   "source": [
    "#### Male Hedges over Time"
   ]
  },
  {
   "cell_type": "code",
   "execution_count": 34,
   "metadata": {},
   "outputs": [
    {
     "data": {
      "text/plain": [
       "F_onewayResult(statistic=0.2221677266945154, pvalue=0.80079144959515)"
      ]
     },
     "execution_count": 34,
     "metadata": {},
     "output_type": "execute_result"
    }
   ],
   "source": [
    "stats.f_oneway(m_movies_early.Hedges, m_movies_mid.Hedges, m_movies_late.Hedges)"
   ]
  },
  {
   "cell_type": "markdown",
   "metadata": {},
   "source": [
    "No siginificant three way difference. Let's narrow this."
   ]
  },
  {
   "cell_type": "code",
   "execution_count": 35,
   "metadata": {},
   "outputs": [
    {
     "data": {
      "text/plain": [
       "Ttest_indResult(statistic=-0.7072785026779612, pvalue=0.4795860133720917)"
      ]
     },
     "execution_count": 35,
     "metadata": {},
     "output_type": "execute_result"
    }
   ],
   "source": [
    "stats.ttest_ind(m_movies_early.Hedges, m_movies_mid.Hedges, equal_var=False)"
   ]
  },
  {
   "cell_type": "code",
   "execution_count": 36,
   "metadata": {},
   "outputs": [
    {
     "data": {
      "text/plain": [
       "Ttest_indResult(statistic=-0.5958435607406146, pvalue=0.5513981572426254)"
      ]
     },
     "execution_count": 36,
     "metadata": {},
     "output_type": "execute_result"
    }
   ],
   "source": [
    "stats.ttest_ind(m_movies_early.Hedges, m_movies_late.Hedges, equal_var=False)"
   ]
  },
  {
   "cell_type": "code",
   "execution_count": 37,
   "metadata": {},
   "outputs": [
    {
     "data": {
      "text/plain": [
       "Ttest_indResult(statistic=0.059293316253933206, pvalue=0.9527234295015778)"
      ]
     },
     "execution_count": 37,
     "metadata": {},
     "output_type": "execute_result"
    }
   ],
   "source": [
    "stats.ttest_ind(m_movies_mid.Hedges, m_movies_late.Hedges, equal_var=False)"
   ]
  },
  {
   "cell_type": "markdown",
   "metadata": {},
   "source": [
    "So, there is a significant difference between female hedge counts overtime, but not between male hedges over time."
   ]
  },
  {
   "cell_type": "markdown",
   "metadata": {},
   "source": [
    "#### Male vs Female Hedges Over Time"
   ]
  },
  {
   "cell_type": "code",
   "execution_count": 38,
   "metadata": {},
   "outputs": [
    {
     "data": {
      "text/plain": [
       "Ttest_indResult(statistic=-2.7253914583319436, pvalue=0.006514319527192338)"
      ]
     },
     "execution_count": 38,
     "metadata": {},
     "output_type": "execute_result"
    }
   ],
   "source": [
    "stats.ttest_ind(m_movies_early.Hedges, f_movies_early.Hedges, equal_var=False)"
   ]
  },
  {
   "cell_type": "code",
   "execution_count": 39,
   "metadata": {},
   "outputs": [
    {
     "data": {
      "text/plain": [
       "Ttest_indResult(statistic=-0.09928578156072795, pvalue=0.9209256989829391)"
      ]
     },
     "execution_count": 39,
     "metadata": {},
     "output_type": "execute_result"
    }
   ],
   "source": [
    "stats.ttest_ind(m_movies_mid.Hedges, f_movies_mid.Hedges, equal_var=False)"
   ]
  },
  {
   "cell_type": "code",
   "execution_count": 40,
   "metadata": {},
   "outputs": [
    {
     "data": {
      "text/plain": [
       "Ttest_indResult(statistic=0.5861560626639634, pvalue=0.5578236553283782)"
      ]
     },
     "execution_count": 40,
     "metadata": {},
     "output_type": "execute_result"
    }
   ],
   "source": [
    "stats.ttest_ind(m_movies_late.Hedges, f_movies_late.Hedges, equal_var=False)"
   ]
  },
  {
   "cell_type": "markdown",
   "metadata": {},
   "source": [
    "Here, we see that the difference between how genders use hedges has changed over time. While men used signficantly fewer hedges than women in Disney's early period, this difference isn't significant in the mid and late periods."
   ]
  },
  {
   "cell_type": "markdown",
   "metadata": {},
   "source": [
    "### Role\n",
    "#### Role Overall"
   ]
  },
  {
   "cell_type": "code",
   "execution_count": 41,
   "metadata": {},
   "outputs": [
    {
     "data": {
      "text/plain": [
       "F_onewayResult(statistic=3.6756230461575, pvalue=0.025363790083959573)"
      ]
     },
     "execution_count": 41,
     "metadata": {},
     "output_type": "execute_result"
    }
   ],
   "source": [
    "stats.f_oneway(pro_movies.Hedges, ant_movies.Hedges, helper_movies.Hedges) #hardly"
   ]
  },
  {
   "cell_type": "code",
   "execution_count": 42,
   "metadata": {},
   "outputs": [
    {
     "data": {
      "text/plain": [
       "F_onewayResult(statistic=7.307846028743817, pvalue=0.006880299468160047)"
      ]
     },
     "execution_count": 42,
     "metadata": {},
     "output_type": "execute_result"
    }
   ],
   "source": [
    "stats.f_oneway(pro_movies.Hedges, ant_movies.Hedges) #yep!"
   ]
  },
  {
   "cell_type": "code",
   "execution_count": 43,
   "metadata": {},
   "outputs": [
    {
     "data": {
      "text/plain": [
       "F_onewayResult(statistic=0.16605292893885215, pvalue=0.6836531567434658)"
      ]
     },
     "execution_count": 43,
     "metadata": {},
     "output_type": "execute_result"
    }
   ],
   "source": [
    "stats.f_oneway(pro_movies.Hedges, helper_movies.Hedges) #nope!"
   ]
  },
  {
   "cell_type": "code",
   "execution_count": 44,
   "metadata": {},
   "outputs": [
    {
     "data": {
      "text/plain": [
       "F_onewayResult(statistic=5.004835701407097, pvalue=0.025315906624021504)"
      ]
     },
     "execution_count": 44,
     "metadata": {},
     "output_type": "execute_result"
    }
   ],
   "source": [
    "stats.f_oneway(helper_movies.Hedges, ant_movies.Hedges) #hardly"
   ]
  },
  {
   "cell_type": "markdown",
   "metadata": {},
   "source": [
    "Overall, it seems that a characters role DOES factor into how hedges are used. This difference is most significant between protagonists and antagonists. Protagonists use WAY more hedges than antagonists do. There's a slight significant difference between how helpers and antagonists use hedges."
   ]
  },
  {
   "cell_type": "markdown",
   "metadata": {},
   "source": [
    "#### Antagonist Hedges Over Time"
   ]
  },
  {
   "cell_type": "code",
   "execution_count": 45,
   "metadata": {},
   "outputs": [],
   "source": [
    "ant_movies_early = ant_movies[ant_movies.Disney_Period == 'EARLY']\n",
    "ant_movies_mid = ant_movies[ant_movies.Disney_Period == 'MID']\n",
    "ant_movies_late = ant_movies[ant_movies.Disney_Period == 'LATE']\n",
    "\n",
    "pro_movies_early = pro_movies[pro_movies.Disney_Period == 'EARLY']\n",
    "pro_movies_mid = pro_movies[pro_movies.Disney_Period == 'MID']\n",
    "pro_movies_late = pro_movies[pro_movies.Disney_Period == 'LATE']"
   ]
  },
  {
   "cell_type": "code",
   "execution_count": 46,
   "metadata": {},
   "outputs": [
    {
     "data": {
      "text/plain": [
       "F_onewayResult(statistic=3.094019776389704, pvalue=0.04569721091887875)"
      ]
     },
     "execution_count": 46,
     "metadata": {},
     "output_type": "execute_result"
    }
   ],
   "source": [
    "stats.f_oneway(ant_movies_early.Hedges, ant_movies_mid.Hedges, ant_movies_late.Hedges) #hardly"
   ]
  },
  {
   "cell_type": "markdown",
   "metadata": {},
   "source": [
    "A barely siginificant three way difference. Let's narrow this."
   ]
  },
  {
   "cell_type": "code",
   "execution_count": 47,
   "metadata": {},
   "outputs": [
    {
     "data": {
      "text/plain": [
       "Ttest_indResult(statistic=1.9028693774936443, pvalue=0.05793014637492616)"
      ]
     },
     "execution_count": 47,
     "metadata": {},
     "output_type": "execute_result"
    }
   ],
   "source": [
    "stats.ttest_ind(ant_movies_early.Hedges, ant_movies_mid.Hedges, equal_var=False) #nope"
   ]
  },
  {
   "cell_type": "code",
   "execution_count": 48,
   "metadata": {},
   "outputs": [
    {
     "data": {
      "text/plain": [
       "Ttest_indResult(statistic=2.117931681012448, pvalue=0.03488583820111598)"
      ]
     },
     "execution_count": 48,
     "metadata": {},
     "output_type": "execute_result"
    }
   ],
   "source": [
    "stats.ttest_ind(ant_movies_early.Hedges, ant_movies_late.Hedges, equal_var=False) #hardly"
   ]
  },
  {
   "cell_type": "code",
   "execution_count": 49,
   "metadata": {},
   "outputs": [
    {
     "data": {
      "text/plain": [
       "Ttest_indResult(statistic=0.3877004825746063, pvalue=0.6983308660519401)"
      ]
     },
     "execution_count": 49,
     "metadata": {},
     "output_type": "execute_result"
    }
   ],
   "source": [
    "stats.ttest_ind(ant_movies_mid.Hedges, ant_movies_late.Hedges, equal_var=False)"
   ]
  },
  {
   "cell_type": "markdown",
   "metadata": {},
   "source": [
    "The only significant difference here is between the early and late periods. Between the early and late Disney Eras, an antagonist's use of hedges has gone down."
   ]
  },
  {
   "cell_type": "markdown",
   "metadata": {},
   "source": [
    "#### Protagonist Hedges Over Time"
   ]
  },
  {
   "cell_type": "code",
   "execution_count": 50,
   "metadata": {},
   "outputs": [
    {
     "data": {
      "text/plain": [
       "F_onewayResult(statistic=9.444192562649363, pvalue=8.150321171548169e-05)"
      ]
     },
     "execution_count": 50,
     "metadata": {},
     "output_type": "execute_result"
    }
   ],
   "source": [
    "stats.f_oneway(pro_movies_early.Hedges, pro_movies_mid.Hedges, pro_movies_late.Hedges) #way more significant"
   ]
  },
  {
   "cell_type": "markdown",
   "metadata": {},
   "source": [
    "Looks like in general, there's a significant difference between how protagonists use hedges over time"
   ]
  },
  {
   "cell_type": "code",
   "execution_count": 51,
   "metadata": {},
   "outputs": [
    {
     "data": {
      "text/plain": [
       "Ttest_indResult(statistic=3.0252979699324833, pvalue=0.002699377171164294)"
      ]
     },
     "execution_count": 51,
     "metadata": {},
     "output_type": "execute_result"
    }
   ],
   "source": [
    "stats.ttest_ind(pro_movies_early.Hedges, pro_movies_mid.Hedges, equal_var=False) #yep!"
   ]
  },
  {
   "cell_type": "code",
   "execution_count": 52,
   "metadata": {},
   "outputs": [
    {
     "data": {
      "text/plain": [
       "Ttest_indResult(statistic=3.0646434604844344, pvalue=0.002385066649681018)"
      ]
     },
     "execution_count": 52,
     "metadata": {},
     "output_type": "execute_result"
    }
   ],
   "source": [
    "stats.ttest_ind(pro_movies_early.Hedges, pro_movies_late.Hedges, equal_var=False) #yep!"
   ]
  },
  {
   "cell_type": "code",
   "execution_count": 53,
   "metadata": {},
   "outputs": [
    {
     "data": {
      "text/plain": [
       "Ttest_indResult(statistic=0.030737401891905363, pvalue=0.9754813625233696)"
      ]
     },
     "execution_count": 53,
     "metadata": {},
     "output_type": "execute_result"
    }
   ],
   "source": [
    "stats.ttest_ind(pro_movies_mid.Hedges, pro_movies_late.Hedges, equal_var=False) #NOPE!"
   ]
  },
  {
   "cell_type": "markdown",
   "metadata": {},
   "source": [
    "While protagonists' use of hedges over time has decreased, there's no significant difference between the mid and late periods."
   ]
  },
  {
   "cell_type": "markdown",
   "metadata": {},
   "source": [
    "#### Antagonists vs Protagonists Over Time"
   ]
  },
  {
   "cell_type": "code",
   "execution_count": 54,
   "metadata": {},
   "outputs": [
    {
     "data": {
      "text/plain": [
       "Ttest_indResult(statistic=1.3772703300759517, pvalue=0.1691056541760526)"
      ]
     },
     "execution_count": 54,
     "metadata": {},
     "output_type": "execute_result"
    }
   ],
   "source": [
    "stats.ttest_ind(pro_movies_early.Hedges, ant_movies_early.Hedges, equal_var=False) #nope"
   ]
  },
  {
   "cell_type": "code",
   "execution_count": 55,
   "metadata": {},
   "outputs": [
    {
     "data": {
      "text/plain": [
       "Ttest_indResult(statistic=0.5404663225220979, pvalue=0.5889807618852014)"
      ]
     },
     "execution_count": 55,
     "metadata": {},
     "output_type": "execute_result"
    }
   ],
   "source": [
    "stats.ttest_ind(pro_movies_mid.Hedges, ant_movies_mid.Hedges, equal_var=False) #nope"
   ]
  },
  {
   "cell_type": "code",
   "execution_count": 56,
   "metadata": {},
   "outputs": [
    {
     "data": {
      "text/plain": [
       "Ttest_indResult(statistic=0.9488262147956816, pvalue=0.3430218543787952)"
      ]
     },
     "execution_count": 56,
     "metadata": {},
     "output_type": "execute_result"
    }
   ],
   "source": [
    "stats.ttest_ind(pro_movies_late.Hedges, ant_movies_late.Hedges, equal_var=False) #nope"
   ]
  },
  {
   "cell_type": "markdown",
   "metadata": {},
   "source": [
    "Within each period, there is no significant difference between how often protagonists and antagonists use hedges."
   ]
  },
  {
   "cell_type": "markdown",
   "metadata": {},
   "source": [
    "#### By Gender and Role Overall"
   ]
  },
  {
   "cell_type": "code",
   "execution_count": 57,
   "metadata": {},
   "outputs": [],
   "source": [
    "pro_f = movies_gen_role_df[(movies_gen_role_df.Gender == 'f') & (movies_gen_role_df.Role == 'PRO')]\n",
    "pro_m = movies_gen_role_df[(movies_gen_role_df.Gender == 'm') & (movies_gen_role_df.Role == 'PRO')]\n",
    "ant_f = movies_gen_role_df[(movies_gen_role_df.Gender == 'f') & (movies_gen_role_df.Role == 'ANT')]\n",
    "ant_m = movies_gen_role_df[(movies_gen_role_df.Gender == 'm') & (movies_gen_role_df.Role == 'ANT')]"
   ]
  },
  {
   "cell_type": "code",
   "execution_count": 58,
   "metadata": {},
   "outputs": [
    {
     "data": {
      "text/plain": [
       "Ttest_indResult(statistic=-2.657857935520071, pvalue=0.00788654862209923)"
      ]
     },
     "execution_count": 58,
     "metadata": {},
     "output_type": "execute_result"
    }
   ],
   "source": [
    "stats.ttest_ind(pro_f.Hedges, pro_m.Hedges, equal_var=False) \n",
    "#female protagonists actually significantly fewer hedges than male protagonists"
   ]
  },
  {
   "cell_type": "code",
   "execution_count": 59,
   "metadata": {},
   "outputs": [
    {
     "data": {
      "text/plain": [
       "Ttest_indResult(statistic=2.8235126674682194, pvalue=0.004906077892619274)"
      ]
     },
     "execution_count": 59,
     "metadata": {},
     "output_type": "execute_result"
    }
   ],
   "source": [
    "stats.ttest_ind(ant_f.Hedges, ant_m.Hedges, equal_var=False)\n",
    "#female antagonists use significantly more hedges than male antagonists"
   ]
  },
  {
   "cell_type": "code",
   "execution_count": 60,
   "metadata": {},
   "outputs": [
    {
     "data": {
      "text/plain": [
       "Ttest_indResult(statistic=-1.6810711203041597, pvalue=0.09326552118381613)"
      ]
     },
     "execution_count": 60,
     "metadata": {},
     "output_type": "execute_result"
    }
   ],
   "source": [
    "stats.ttest_ind(pro_f.Hedges, ant_f.Hedges, equal_var=False)"
   ]
  },
  {
   "cell_type": "code",
   "execution_count": 61,
   "metadata": {},
   "outputs": [
    {
     "data": {
      "text/plain": [
       "Ttest_indResult(statistic=4.852799960275065, pvalue=1.2626701770944547e-06)"
      ]
     },
     "execution_count": 61,
     "metadata": {},
     "output_type": "execute_result"
    }
   ],
   "source": [
    "stats.ttest_ind(pro_m.Hedges, ant_m.Hedges, equal_var=False)"
   ]
  },
  {
   "cell_type": "markdown",
   "metadata": {},
   "source": [
    "The most significant difference here is between male protagonists and antagonists, with male protagonists using significantly more hedges than male antagonists. Unlike what I predicted, female protagonists use fewer hedges than male protagonists, but female antagonists use more hedges than male antagonists. "
   ]
  },
  {
   "cell_type": "markdown",
   "metadata": {},
   "source": [
    "#### Across Companies"
   ]
  },
  {
   "cell_type": "code",
   "execution_count": 62,
   "metadata": {},
   "outputs": [],
   "source": [
    "#### Across Companies\n",
    "disney_f = movies_gen_df[(movies_gen_df.Gender == 'f') & (movies_gen_df.Disney_Period != 'DREAMWORKS')]\n",
    "disney_m = movies_gen_df[(movies_gen_df.Gender == 'm') & (movies_gen_df.Disney_Period != 'DREAMWORKS')]\n",
    "dw_f = movies_gen_df[(movies_gen_df.Gender == 'f') & (movies_gen_df.Disney_Period == 'DREAMWORKS')]\n",
    "dw_m = movies_gen_df[(movies_gen_df.Gender == 'm') & (movies_gen_df.Disney_Period == 'DREAMWORKS')]"
   ]
  },
  {
   "cell_type": "code",
   "execution_count": 63,
   "metadata": {},
   "outputs": [
    {
     "data": {
      "text/plain": [
       "Ttest_indResult(statistic=-1.0317972731113227, pvalue=0.30220807795419546)"
      ]
     },
     "execution_count": 63,
     "metadata": {},
     "output_type": "execute_result"
    }
   ],
   "source": [
    "stats.ttest_ind(disney_m.Hedges, disney_f.Hedges, equal_var=False) # no significant difference"
   ]
  },
  {
   "cell_type": "code",
   "execution_count": 64,
   "metadata": {},
   "outputs": [
    {
     "data": {
      "text/plain": [
       "Ttest_indResult(statistic=1.7994150694838413, pvalue=0.0720606462571984)"
      ]
     },
     "execution_count": 64,
     "metadata": {},
     "output_type": "execute_result"
    }
   ],
   "source": [
    "stats.ttest_ind(disney_f.Hedges, dw_f.Hedges, equal_var=False) #nope"
   ]
  },
  {
   "cell_type": "code",
   "execution_count": 65,
   "metadata": {},
   "outputs": [
    {
     "data": {
      "text/plain": [
       "Ttest_indResult(statistic=-1.0057762192837578, pvalue=0.3145523594115714)"
      ]
     },
     "execution_count": 65,
     "metadata": {},
     "output_type": "execute_result"
    }
   ],
   "source": [
    "stats.ttest_ind(disney_m.Hedges, dw_m.Hedges, equal_var=False) #nope"
   ]
  },
  {
   "cell_type": "code",
   "execution_count": 66,
   "metadata": {},
   "outputs": [
    {
     "data": {
      "text/plain": [
       "Ttest_indResult(statistic=1.8193724786492282, pvalue=0.06898961209844319)"
      ]
     },
     "execution_count": 66,
     "metadata": {},
     "output_type": "execute_result"
    }
   ],
   "source": [
    "stats.ttest_ind(dw_m.Hedges, dw_f.Hedges, equal_var=False) #nope (but closer)\n",
    "#slightly fewer hedges for female Dreamworks characters"
   ]
  },
  {
   "cell_type": "markdown",
   "metadata": {},
   "source": [
    "There are no significant differences based on gender across companies. What about role across companies?"
   ]
  },
  {
   "cell_type": "code",
   "execution_count": 67,
   "metadata": {},
   "outputs": [],
   "source": [
    "disney_pro = movies_role_df[(movies_role_df.Role == 'PRO') & (movies_role_df.Disney_Period != 'DREAMWORKS')]\n",
    "disney_ant = movies_role_df[(movies_role_df.Role == 'ANT') & (movies_role_df.Disney_Period != 'DREAMWORKS')]\n",
    "dw_pro = movies_role_df[(movies_role_df.Role == 'PRO') & (movies_role_df.Disney_Period == 'DREAMWORKS')]\n",
    "dw_ant = movies_role_df[(movies_role_df.Role == 'ANT') & (movies_role_df.Disney_Period == 'DREAMWORKS')]"
   ]
  },
  {
   "cell_type": "code",
   "execution_count": 68,
   "metadata": {},
   "outputs": [
    {
     "data": {
      "text/plain": [
       "Ttest_indResult(statistic=0.8490117171303687, pvalue=0.39595950024822624)"
      ]
     },
     "execution_count": 68,
     "metadata": {},
     "output_type": "execute_result"
    }
   ],
   "source": [
    "stats.ttest_ind(disney_pro.Hedges, disney_ant.Hedges, equal_var=False) # no significant difference"
   ]
  },
  {
   "cell_type": "code",
   "execution_count": 69,
   "metadata": {},
   "outputs": [
    {
     "data": {
      "text/plain": [
       "Ttest_indResult(statistic=-1.5261224931344504, pvalue=0.12703518983467532)"
      ]
     },
     "execution_count": 69,
     "metadata": {},
     "output_type": "execute_result"
    }
   ],
   "source": [
    "stats.ttest_ind(disney_pro.Hedges, dw_pro.Hedges, equal_var=False) #nope"
   ]
  },
  {
   "cell_type": "code",
   "execution_count": 70,
   "metadata": {},
   "outputs": [
    {
     "data": {
      "text/plain": [
       "Ttest_indResult(statistic=1.3526068416036885, pvalue=0.1763372836862861)"
      ]
     },
     "execution_count": 70,
     "metadata": {},
     "output_type": "execute_result"
    }
   ],
   "source": [
    "stats.ttest_ind(disney_ant.Hedges, dw_ant.Hedges, equal_var=False) #nope"
   ]
  },
  {
   "cell_type": "code",
   "execution_count": 71,
   "metadata": {},
   "outputs": [
    {
     "data": {
      "text/plain": [
       "Ttest_indResult(statistic=3.5173173882639257, pvalue=0.0004461956874139189)"
      ]
     },
     "execution_count": 71,
     "metadata": {},
     "output_type": "execute_result"
    }
   ],
   "source": [
    "stats.ttest_ind(dw_pro.Hedges, dw_ant.Hedges, equal_var=False) #YES!\n",
    "#Dreamworks antagonists use fewer hedges than Dreamworks protagonists"
   ]
  },
  {
   "cell_type": "markdown",
   "metadata": {},
   "source": [
    "Overall, disney antagonists use fewer hedges than dreamworks protagonists!"
   ]
  },
  {
   "cell_type": "markdown",
   "metadata": {},
   "source": [
    "#### Gender and Role Over Time?"
   ]
  },
  {
   "cell_type": "code",
   "execution_count": 72,
   "metadata": {},
   "outputs": [],
   "source": [
    "early_pro_f = pro_f[pro_f.Disney_Period == 'EARLY']\n",
    "early_pro_m = pro_m[pro_m.Disney_Period == 'EARLY']\n",
    "early_ant_f = ant_f[ant_f.Disney_Period == 'EARLY']\n",
    "early_ant_m = ant_m[ant_m.Disney_Period == 'EARLY']\n",
    "mid_pro_f = pro_f[pro_f.Disney_Period == 'MID']\n",
    "mid_pro_m = pro_m[pro_m.Disney_Period == 'MID']\n",
    "mid_ant_f = ant_f[ant_f.Disney_Period == 'MID']\n",
    "mid_ant_m = ant_m[ant_m.Disney_Period == 'MID']\n",
    "late_pro_f = pro_f[pro_f.Disney_Period == 'LATE']\n",
    "late_pro_m = pro_m[pro_m.Disney_Period == 'LATE']\n",
    "late_ant_f = ant_f[ant_f.Disney_Period == 'LATE']\n",
    "late_ant_m = ant_m[ant_m.Disney_Period == 'LATE']"
   ]
  },
  {
   "cell_type": "code",
   "execution_count": 73,
   "metadata": {},
   "outputs": [
    {
     "data": {
      "text/plain": [
       "F_onewayResult(statistic=12.652822801092597, pvalue=3.484117574777012e-06)"
      ]
     },
     "execution_count": 73,
     "metadata": {},
     "output_type": "execute_result"
    }
   ],
   "source": [
    "#Female protagonists over time\n",
    "stats.f_oneway(early_pro_f.Hedges, mid_pro_f.Hedges, late_pro_f.Hedges) #BIG DIFF!"
   ]
  },
  {
   "cell_type": "code",
   "execution_count": 74,
   "metadata": {},
   "outputs": [
    {
     "data": {
      "text/plain": [
       "Ttest_indResult(statistic=3.0121236492995873, pvalue=0.0028262890432808204)"
      ]
     },
     "execution_count": 74,
     "metadata": {},
     "output_type": "execute_result"
    }
   ],
   "source": [
    "stats.ttest_ind(early_pro_f.Hedges, mid_pro_f.Hedges, equal_var=False) #yep!"
   ]
  },
  {
   "cell_type": "code",
   "execution_count": 75,
   "metadata": {},
   "outputs": [
    {
     "data": {
      "text/plain": [
       "Ttest_indResult(statistic=3.5239181720715123, pvalue=0.0005048151598806205)"
      ]
     },
     "execution_count": 75,
     "metadata": {},
     "output_type": "execute_result"
    }
   ],
   "source": [
    "stats.ttest_ind(early_pro_f.Hedges, late_pro_f.Hedges, equal_var=False) #yep!"
   ]
  },
  {
   "cell_type": "code",
   "execution_count": 76,
   "metadata": {},
   "outputs": [
    {
     "data": {
      "text/plain": [
       "Ttest_indResult(statistic=0.9029935180295494, pvalue=0.3667234514687845)"
      ]
     },
     "execution_count": 76,
     "metadata": {},
     "output_type": "execute_result"
    }
   ],
   "source": [
    "stats.ttest_ind(mid_pro_f.Hedges, late_pro_f.Hedges, equal_var=False) #no significant difference"
   ]
  },
  {
   "cell_type": "markdown",
   "metadata": {},
   "source": [
    "Female protagonists have used fewer hedges over time"
   ]
  },
  {
   "cell_type": "code",
   "execution_count": 77,
   "metadata": {},
   "outputs": [
    {
     "data": {
      "text/plain": [
       "F_onewayResult(statistic=0.8258404676582642, pvalue=0.4381216813491221)"
      ]
     },
     "execution_count": 77,
     "metadata": {},
     "output_type": "execute_result"
    }
   ],
   "source": [
    "#Now looking at Male Protagonists over Time\n",
    "stats.f_oneway(early_pro_m.Hedges, mid_pro_m.Hedges, late_pro_m.Hedges) #nope!"
   ]
  },
  {
   "cell_type": "code",
   "execution_count": 78,
   "metadata": {},
   "outputs": [
    {
     "data": {
      "text/plain": [
       "Ttest_indResult(statistic=0.2472625465275367, pvalue=0.8061697898537192)"
      ]
     },
     "execution_count": 78,
     "metadata": {},
     "output_type": "execute_result"
    }
   ],
   "source": [
    "stats.ttest_ind(early_pro_m.Hedges, mid_pro_m.Hedges, equal_var=False) #nope!"
   ]
  },
  {
   "cell_type": "code",
   "execution_count": 79,
   "metadata": {},
   "outputs": [
    {
     "data": {
      "text/plain": [
       "Ttest_indResult(statistic=-0.14346358227971812, pvalue=0.8867271246350118)"
      ]
     },
     "execution_count": 79,
     "metadata": {},
     "output_type": "execute_result"
    }
   ],
   "source": [
    "stats.ttest_ind(early_pro_m.Hedges, late_pro_m.Hedges, equal_var=False) #nope!"
   ]
  },
  {
   "cell_type": "code",
   "execution_count": 80,
   "metadata": {},
   "outputs": [
    {
     "data": {
      "text/plain": [
       "Ttest_indResult(statistic=-1.2802018327567484, pvalue=0.20074947382480068)"
      ]
     },
     "execution_count": 80,
     "metadata": {},
     "output_type": "execute_result"
    }
   ],
   "source": [
    "stats.ttest_ind(mid_pro_m.Hedges, late_pro_m.Hedges, equal_var=False) #nope!"
   ]
  },
  {
   "cell_type": "markdown",
   "metadata": {},
   "source": [
    "Male protagonists have not changed how often they use hedges over time"
   ]
  },
  {
   "cell_type": "code",
   "execution_count": 81,
   "metadata": {},
   "outputs": [
    {
     "data": {
      "text/plain": [
       "Ttest_indResult(statistic=1.2250333335790506, pvalue=0.2263169199387521)"
      ]
     },
     "execution_count": 81,
     "metadata": {},
     "output_type": "execute_result"
    }
   ],
   "source": [
    "#Between male and female protagonists in each era!\n",
    "stats.ttest_ind(early_pro_f.Hedges, early_pro_m.Hedges, equal_var=False) #nope!"
   ]
  },
  {
   "cell_type": "code",
   "execution_count": 82,
   "metadata": {},
   "outputs": [
    {
     "data": {
      "text/plain": [
       "Ttest_indResult(statistic=-0.011337807706137355, pvalue=0.990955895187666)"
      ]
     },
     "execution_count": 82,
     "metadata": {},
     "output_type": "execute_result"
    }
   ],
   "source": [
    "stats.ttest_ind(mid_pro_f.Hedges, mid_pro_m.Hedges, equal_var=False) #nope!"
   ]
  },
  {
   "cell_type": "code",
   "execution_count": 83,
   "metadata": {},
   "outputs": [
    {
     "data": {
      "text/plain": [
       "Ttest_indResult(statistic=-2.216523936380611, pvalue=0.026902136906228856)"
      ]
     },
     "execution_count": 83,
     "metadata": {},
     "output_type": "execute_result"
    }
   ],
   "source": [
    "stats.ttest_ind(late_pro_f.Hedges, late_pro_m.Hedges, equal_var=False) #yep!"
   ]
  },
  {
   "cell_type": "markdown",
   "metadata": {},
   "source": [
    "Within each era, whether the protagonists are male or female makes no significant difference in their use of hedges EXCEPT for the late era! In the late era, female protagonists use significantly fewer hedges than male protagonists"
   ]
  },
  {
   "cell_type": "markdown",
   "metadata": {},
   "source": [
    "Between Female Antagonists over Time"
   ]
  },
  {
   "cell_type": "code",
   "execution_count": 84,
   "metadata": {},
   "outputs": [
    {
     "data": {
      "text/plain": [
       "F_onewayResult(statistic=1.3037643965792944, pvalue=0.2725739208439333)"
      ]
     },
     "execution_count": 84,
     "metadata": {},
     "output_type": "execute_result"
    }
   ],
   "source": [
    "#Female antagonists over time\n",
    "stats.f_oneway(early_ant_f.Hedges, mid_ant_f.Hedges, late_ant_f.Hedges) #NO DIFF!"
   ]
  },
  {
   "cell_type": "code",
   "execution_count": 85,
   "metadata": {},
   "outputs": [
    {
     "data": {
      "text/plain": [
       "Ttest_indResult(statistic=-0.31595171401140276, pvalue=0.7531958604556679)"
      ]
     },
     "execution_count": 85,
     "metadata": {},
     "output_type": "execute_result"
    }
   ],
   "source": [
    "stats.ttest_ind(early_ant_f.Hedges, mid_ant_f.Hedges, equal_var=False) #NO!"
   ]
  },
  {
   "cell_type": "code",
   "execution_count": 86,
   "metadata": {},
   "outputs": [
    {
     "data": {
      "text/plain": [
       "Ttest_indResult(statistic=1.4474993879594127, pvalue=0.14857302364450664)"
      ]
     },
     "execution_count": 86,
     "metadata": {},
     "output_type": "execute_result"
    }
   ],
   "source": [
    "stats.ttest_ind(early_ant_f.Hedges, late_ant_f.Hedges, equal_var=False) #NO!"
   ]
  },
  {
   "cell_type": "code",
   "execution_count": 87,
   "metadata": {},
   "outputs": [
    {
     "data": {
      "text/plain": [
       "Ttest_indResult(statistic=1.00076203073948, pvalue=0.3214449536053082)"
      ]
     },
     "execution_count": 87,
     "metadata": {},
     "output_type": "execute_result"
    }
   ],
   "source": [
    "stats.ttest_ind(mid_ant_f.Hedges, late_ant_f.Hedges, equal_var=False) #no significant difference"
   ]
  },
  {
   "cell_type": "markdown",
   "metadata": {},
   "source": [
    "Between Male Antagonists over Time"
   ]
  },
  {
   "cell_type": "code",
   "execution_count": 88,
   "metadata": {},
   "outputs": [
    {
     "data": {
      "text/plain": [
       "F_onewayResult(statistic=0.20189019254829482, pvalue=0.8172312898153247)"
      ]
     },
     "execution_count": 88,
     "metadata": {},
     "output_type": "execute_result"
    }
   ],
   "source": [
    "#Male protagonists over time\n",
    "stats.f_oneway(early_ant_m.Hedges, mid_ant_m.Hedges, late_ant_m.Hedges) #NO DIFF!"
   ]
  },
  {
   "cell_type": "code",
   "execution_count": 89,
   "metadata": {},
   "outputs": [
    {
     "data": {
      "text/plain": [
       "Ttest_indResult(statistic=-0.29815205178739274, pvalue=0.7707822031695627)"
      ]
     },
     "execution_count": 89,
     "metadata": {},
     "output_type": "execute_result"
    }
   ],
   "source": [
    "stats.ttest_ind(early_ant_m.Hedges, mid_ant_m.Hedges, equal_var=False) #NO!"
   ]
  },
  {
   "cell_type": "code",
   "execution_count": 90,
   "metadata": {},
   "outputs": [
    {
     "data": {
      "text/plain": [
       "Ttest_indResult(statistic=-0.10255770838011026, pvalue=0.9199351442931645)"
      ]
     },
     "execution_count": 90,
     "metadata": {},
     "output_type": "execute_result"
    }
   ],
   "source": [
    "stats.ttest_ind(early_ant_m.Hedges, late_ant_m.Hedges, equal_var=False) #NO!"
   ]
  },
  {
   "cell_type": "code",
   "execution_count": 91,
   "metadata": {},
   "outputs": [
    {
     "data": {
      "text/plain": [
       "Ttest_indResult(statistic=0.61545953202014, pvalue=0.5385684922465015)"
      ]
     },
     "execution_count": 91,
     "metadata": {},
     "output_type": "execute_result"
    }
   ],
   "source": [
    "stats.ttest_ind(mid_ant_m.Hedges, late_ant_m.Hedges, equal_var=False) #no significant difference"
   ]
  },
  {
   "cell_type": "markdown",
   "metadata": {},
   "source": [
    "Between Male Antagonists and Protagonists over Time"
   ]
  },
  {
   "cell_type": "code",
   "execution_count": 92,
   "metadata": {},
   "outputs": [
    {
     "data": {
      "text/plain": [
       "Ttest_indResult(statistic=0.5614045753966249, pvalue=0.578140304076032)"
      ]
     },
     "execution_count": 92,
     "metadata": {},
     "output_type": "execute_result"
    }
   ],
   "source": [
    "#Differences in Hedge Use by Male Role Over Time\n",
    "stats.ttest_ind(early_pro_m.Hedges, early_ant_m.Hedges, equal_var=False) #NO DIFF!"
   ]
  },
  {
   "cell_type": "code",
   "execution_count": 93,
   "metadata": {},
   "outputs": [
    {
     "data": {
      "text/plain": [
       "Ttest_indResult(statistic=0.8862176418871234, pvalue=0.37569871882651207)"
      ]
     },
     "execution_count": 93,
     "metadata": {},
     "output_type": "execute_result"
    }
   ],
   "source": [
    "stats.ttest_ind(mid_pro_m.Hedges, mid_ant_m.Hedges, equal_var=False) #NO!"
   ]
  },
  {
   "cell_type": "code",
   "execution_count": 94,
   "metadata": {},
   "outputs": [
    {
     "data": {
      "text/plain": [
       "Ttest_indResult(statistic=2.3719856463463365, pvalue=0.018000706458107793)"
      ]
     },
     "execution_count": 94,
     "metadata": {},
     "output_type": "execute_result"
    }
   ],
   "source": [
    "stats.ttest_ind(late_pro_m.Hedges, late_ant_m.Hedges, equal_var=False) #yep!"
   ]
  },
  {
   "cell_type": "markdown",
   "metadata": {},
   "source": [
    "Male protagonists are hedging way more than male antagonists in the late period"
   ]
  },
  {
   "cell_type": "markdown",
   "metadata": {},
   "source": [
    "Between Female Antagonists and Protagonists Over Time"
   ]
  },
  {
   "cell_type": "code",
   "execution_count": 95,
   "metadata": {},
   "outputs": [
    {
     "data": {
      "text/plain": [
       "Ttest_indResult(statistic=1.4490076617766339, pvalue=0.14812366167355862)"
      ]
     },
     "execution_count": 95,
     "metadata": {},
     "output_type": "execute_result"
    }
   ],
   "source": [
    "#Differences in Hedge Use by Female Role Over Time\n",
    "stats.ttest_ind(early_pro_f.Hedges, early_ant_f.Hedges, equal_var=False) #NO DIFF!"
   ]
  },
  {
   "cell_type": "code",
   "execution_count": 96,
   "metadata": {},
   "outputs": [
    {
     "data": {
      "text/plain": [
       "Ttest_indResult(statistic=-1.0259178734335812, pvalue=0.31015000881579863)"
      ]
     },
     "execution_count": 96,
     "metadata": {},
     "output_type": "execute_result"
    }
   ],
   "source": [
    "stats.ttest_ind(mid_pro_f.Hedges, mid_ant_f.Hedges, equal_var=False) #NO!"
   ]
  },
  {
   "cell_type": "code",
   "execution_count": 97,
   "metadata": {},
   "outputs": [
    {
     "data": {
      "text/plain": [
       "Ttest_indResult(statistic=-0.5844555435884148, pvalue=0.55942973446435)"
      ]
     },
     "execution_count": 97,
     "metadata": {},
     "output_type": "execute_result"
    }
   ],
   "source": [
    "stats.ttest_ind(late_pro_f.Hedges, late_ant_f.Hedges, equal_var=False) #NO!"
   ]
  },
  {
   "cell_type": "markdown",
   "metadata": {},
   "source": [
    "Between Female Antagonists and Male Antagonists over Time:"
   ]
  },
  {
   "cell_type": "code",
   "execution_count": 98,
   "metadata": {},
   "outputs": [
    {
     "data": {
      "text/plain": [
       "Ttest_indResult(statistic=1.2121514634083763, pvalue=0.24448107546200057)"
      ]
     },
     "execution_count": 98,
     "metadata": {},
     "output_type": "execute_result"
    }
   ],
   "source": [
    "#Between male and female antagonists in each era!\n",
    "stats.ttest_ind(early_ant_f.Hedges, early_ant_m.Hedges, equal_var=False) #nope!"
   ]
  },
  {
   "cell_type": "code",
   "execution_count": 99,
   "metadata": {},
   "outputs": [
    {
     "data": {
      "text/plain": [
       "Ttest_indResult(statistic=1.2539533031171692, pvalue=0.21610027210517013)"
      ]
     },
     "execution_count": 99,
     "metadata": {},
     "output_type": "execute_result"
    }
   ],
   "source": [
    "stats.ttest_ind(mid_ant_f.Hedges, mid_ant_m.Hedges, equal_var=False) #nope!"
   ]
  },
  {
   "cell_type": "code",
   "execution_count": 100,
   "metadata": {},
   "outputs": [
    {
     "data": {
      "text/plain": [
       "Ttest_indResult(statistic=1.0017480871923357, pvalue=0.3171419240973086)"
      ]
     },
     "execution_count": 100,
     "metadata": {},
     "output_type": "execute_result"
    }
   ],
   "source": [
    "stats.ttest_ind(late_ant_f.Hedges, late_ant_m.Hedges, equal_var=False) #NOPE!"
   ]
  },
  {
   "cell_type": "markdown",
   "metadata": {},
   "source": [
    "Within each era, whether the antagonist is male or female makes no difference in hedge use."
   ]
  },
  {
   "cell_type": "code",
   "execution_count": null,
   "metadata": {},
   "outputs": [],
   "source": []
  }
 ],
 "metadata": {
  "kernelspec": {
   "display_name": "Python 3",
   "language": "python",
   "name": "python3"
  },
  "language_info": {
   "codemirror_mode": {
    "name": "ipython",
    "version": 3
   },
   "file_extension": ".py",
   "mimetype": "text/x-python",
   "name": "python",
   "nbconvert_exporter": "python",
   "pygments_lexer": "ipython3",
   "version": "3.6.4"
  }
 },
 "nbformat": 4,
 "nbformat_minor": 2
}
