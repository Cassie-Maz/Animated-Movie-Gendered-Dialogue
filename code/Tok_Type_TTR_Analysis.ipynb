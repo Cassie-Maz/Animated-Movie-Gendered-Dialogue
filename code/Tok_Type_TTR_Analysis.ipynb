{
 "cells": [
  {
   "cell_type": "markdown",
   "metadata": {},
   "source": [
    "# Cumulative Token, Type, and TTR analysis\n",
    "One of the supposed features of feminine language is a more complex vocabulary. Is this generally true? Is it true for specific production companies?\n"
   ]
  },
  {
   "cell_type": "code",
   "execution_count": 1,
   "metadata": {},
   "outputs": [],
   "source": [
    "import pandas as pd"
   ]
  },
  {
   "cell_type": "code",
   "execution_count": 2,
   "metadata": {},
   "outputs": [],
   "source": [
    "all_movies_df = pd.read_pickle(r\"C:\\Users\\cassi\\Desktop\\Data_Science\\Animated-Movie-Gendered-Dialogue\\private\\char_toks.pkl\")"
   ]
  },
  {
   "cell_type": "code",
   "execution_count": 3,
   "metadata": {},
   "outputs": [
    {
     "name": "stdout",
     "output_type": "stream",
     "text": [
      "<class 'pandas.core.frame.DataFrame'>\n",
      "RangeIndex: 632 entries, 0 to 631\n",
      "Data columns (total 11 columns):\n",
      "Disney_Period       632 non-null object\n",
      "Gender              632 non-null object\n",
      "Movie               632 non-null object\n",
      "Role                632 non-null object\n",
      "Speaker             632 non-null object\n",
      "Speaker_Status      632 non-null object\n",
      "Total_Tok_Count     632 non-null float64\n",
      "Total_Toks          632 non-null object\n",
      "Total_Type_Count    632 non-null float64\n",
      "Total_Types         632 non-null object\n",
      "Year                632 non-null object\n",
      "dtypes: float64(2), object(9)\n",
      "memory usage: 32.1+ KB\n"
     ]
    }
   ],
   "source": [
    "all_movies_df.info()"
   ]
  },
  {
   "cell_type": "code",
   "execution_count": 4,
   "metadata": {},
   "outputs": [
    {
     "data": {
      "text/html": [
       "<div>\n",
       "<style scoped>\n",
       "    .dataframe tbody tr th:only-of-type {\n",
       "        vertical-align: middle;\n",
       "    }\n",
       "\n",
       "    .dataframe tbody tr th {\n",
       "        vertical-align: top;\n",
       "    }\n",
       "\n",
       "    .dataframe thead th {\n",
       "        text-align: right;\n",
       "    }\n",
       "</style>\n",
       "<table border=\"1\" class=\"dataframe\">\n",
       "  <thead>\n",
       "    <tr style=\"text-align: right;\">\n",
       "      <th></th>\n",
       "      <th>count</th>\n",
       "      <th>mean</th>\n",
       "      <th>std</th>\n",
       "      <th>min</th>\n",
       "      <th>25%</th>\n",
       "      <th>50%</th>\n",
       "      <th>75%</th>\n",
       "      <th>max</th>\n",
       "    </tr>\n",
       "    <tr>\n",
       "      <th>Gender</th>\n",
       "      <th></th>\n",
       "      <th></th>\n",
       "      <th></th>\n",
       "      <th></th>\n",
       "      <th></th>\n",
       "      <th></th>\n",
       "      <th></th>\n",
       "      <th></th>\n",
       "    </tr>\n",
       "  </thead>\n",
       "  <tbody>\n",
       "    <tr>\n",
       "      <th>f</th>\n",
       "      <td>139.0</td>\n",
       "      <td>347.848921</td>\n",
       "      <td>554.563700</td>\n",
       "      <td>2.0</td>\n",
       "      <td>10.5</td>\n",
       "      <td>63.0</td>\n",
       "      <td>446.5</td>\n",
       "      <td>2540.0</td>\n",
       "    </tr>\n",
       "    <tr>\n",
       "      <th>m</th>\n",
       "      <td>354.0</td>\n",
       "      <td>314.223164</td>\n",
       "      <td>631.755182</td>\n",
       "      <td>2.0</td>\n",
       "      <td>10.0</td>\n",
       "      <td>45.0</td>\n",
       "      <td>269.5</td>\n",
       "      <td>3941.0</td>\n",
       "    </tr>\n",
       "    <tr>\n",
       "      <th>n</th>\n",
       "      <td>139.0</td>\n",
       "      <td>20.949640</td>\n",
       "      <td>40.650387</td>\n",
       "      <td>1.0</td>\n",
       "      <td>6.0</td>\n",
       "      <td>10.0</td>\n",
       "      <td>23.0</td>\n",
       "      <td>412.0</td>\n",
       "    </tr>\n",
       "  </tbody>\n",
       "</table>\n",
       "</div>"
      ],
      "text/plain": [
       "        count        mean         std  min   25%   50%    75%     max\n",
       "Gender                                                               \n",
       "f       139.0  347.848921  554.563700  2.0  10.5  63.0  446.5  2540.0\n",
       "m       354.0  314.223164  631.755182  2.0  10.0  45.0  269.5  3941.0\n",
       "n       139.0   20.949640   40.650387  1.0   6.0  10.0   23.0   412.0"
      ]
     },
     "execution_count": 4,
     "metadata": {},
     "output_type": "execute_result"
    }
   ],
   "source": [
    "all_movies_df.groupby('Gender')['Total_Tok_Count'].describe()"
   ]
  },
  {
   "cell_type": "code",
   "execution_count": null,
   "metadata": {},
   "outputs": [],
   "source": []
  }
 ],
 "metadata": {
  "kernelspec": {
   "display_name": "Python 3",
   "language": "python",
   "name": "python3"
  },
  "language_info": {
   "codemirror_mode": {
    "name": "ipython",
    "version": 3
   },
   "file_extension": ".py",
   "mimetype": "text/x-python",
   "name": "python",
   "nbconvert_exporter": "python",
   "pygments_lexer": "ipython3",
   "version": "3.6.4"
  }
 },
 "nbformat": 4,
 "nbformat_minor": 2
}
