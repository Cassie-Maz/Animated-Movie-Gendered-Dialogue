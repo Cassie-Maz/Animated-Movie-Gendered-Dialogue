{
 "cells": [
  {
   "cell_type": "markdown",
   "metadata": {},
   "source": [
    "# Cleaning Up the Disney Data\n",
    "In the code below, I\n",
    "* Check the formatting of each film. If the formatting generally looks okay, I will continue with adding information. If the data appears heavily inaccurate, I will set these aside to work on later.\n",
    "* Label gender and role(protagonist, antagonist, helper, or neutral)\n",
    "* Label songs\n",
    "\n",
    "I will be looking at the 12 films in the data frame that aren't fully annotated: \n",
    "\n",
    "Throughout this process, if I find minor, easily fixable issues in the well-formatted data, I will address these.\n",
    "\n",
    "Also, though it was easy to construct Start_Scene for Moana because I built that data myself, there's no uniform way to mark the beginning of a scene in the Disney data or the Dreamworks data. Therefore, this information may not be used in future analysis."
   ]
  },
  {
   "cell_type": "code",
   "execution_count": 1,
   "metadata": {},
   "outputs": [],
   "source": [
    "import numpy as np\n",
    "import pandas as pd"
   ]
  },
  {
   "cell_type": "code",
   "execution_count": 2,
   "metadata": {},
   "outputs": [],
   "source": [
    "disney = pd.read_csv(r\"C:\\Users\\cassi\\Desktop\\Data_Science\\Animated-Movie-Gendered-Dialogue\\private\\Disney_1938_2016.csv\")"
   ]
  },
  {
   "cell_type": "code",
   "execution_count": 3,
   "metadata": {},
   "outputs": [
    {
     "data": {
      "text/html": [
       "<div>\n",
       "<style scoped>\n",
       "    .dataframe tbody tr th:only-of-type {\n",
       "        vertical-align: middle;\n",
       "    }\n",
       "\n",
       "    .dataframe tbody tr th {\n",
       "        vertical-align: top;\n",
       "    }\n",
       "\n",
       "    .dataframe thead th {\n",
       "        text-align: right;\n",
       "    }\n",
       "</style>\n",
       "<table border=\"1\" class=\"dataframe\">\n",
       "  <thead>\n",
       "    <tr style=\"text-align: right;\">\n",
       "      <th></th>\n",
       "      <th>Unnamed: 0</th>\n",
       "      <th>Disney_Period</th>\n",
       "      <th>Gender</th>\n",
       "      <th>Movie</th>\n",
       "      <th>Role</th>\n",
       "      <th>Song</th>\n",
       "      <th>Speaker</th>\n",
       "      <th>Speaker_Status</th>\n",
       "      <th>Start_Scene</th>\n",
       "      <th>Text</th>\n",
       "      <th>UTTERANCE_NUMBER</th>\n",
       "      <th>Year</th>\n",
       "    </tr>\n",
       "  </thead>\n",
       "  <tbody>\n",
       "    <tr>\n",
       "      <th>0</th>\n",
       "      <td>0</td>\n",
       "      <td>EARLY</td>\n",
       "      <td>NaN</td>\n",
       "      <td>Snow White</td>\n",
       "      <td>NaN</td>\n",
       "      <td>NaN</td>\n",
       "      <td>queen</td>\n",
       "      <td>NON-P</td>\n",
       "      <td>NaN</td>\n",
       "      <td>slave in the magic mirror come from the farthe...</td>\n",
       "      <td>1</td>\n",
       "      <td>1937</td>\n",
       "    </tr>\n",
       "    <tr>\n",
       "      <th>1</th>\n",
       "      <td>1</td>\n",
       "      <td>EARLY</td>\n",
       "      <td>NaN</td>\n",
       "      <td>Snow White</td>\n",
       "      <td>NaN</td>\n",
       "      <td>NaN</td>\n",
       "      <td>mirror</td>\n",
       "      <td>NON-P</td>\n",
       "      <td>NaN</td>\n",
       "      <td>what wouldst thou know, my queen ?</td>\n",
       "      <td>2</td>\n",
       "      <td>1937</td>\n",
       "    </tr>\n",
       "    <tr>\n",
       "      <th>2</th>\n",
       "      <td>2</td>\n",
       "      <td>EARLY</td>\n",
       "      <td>NaN</td>\n",
       "      <td>Snow White</td>\n",
       "      <td>NaN</td>\n",
       "      <td>NaN</td>\n",
       "      <td>queen</td>\n",
       "      <td>NON-P</td>\n",
       "      <td>NaN</td>\n",
       "      <td>magic mirror on the wall, who is the fairest o...</td>\n",
       "      <td>3</td>\n",
       "      <td>1937</td>\n",
       "    </tr>\n",
       "    <tr>\n",
       "      <th>3</th>\n",
       "      <td>3</td>\n",
       "      <td>EARLY</td>\n",
       "      <td>NaN</td>\n",
       "      <td>Snow White</td>\n",
       "      <td>NaN</td>\n",
       "      <td>NaN</td>\n",
       "      <td>mirror</td>\n",
       "      <td>NON-P</td>\n",
       "      <td>NaN</td>\n",
       "      <td>famed is thy beauty, majesty. but hold, a love...</td>\n",
       "      <td>4</td>\n",
       "      <td>1937</td>\n",
       "    </tr>\n",
       "    <tr>\n",
       "      <th>4</th>\n",
       "      <td>4</td>\n",
       "      <td>EARLY</td>\n",
       "      <td>NaN</td>\n",
       "      <td>Snow White</td>\n",
       "      <td>NaN</td>\n",
       "      <td>NaN</td>\n",
       "      <td>queen</td>\n",
       "      <td>NON-P</td>\n",
       "      <td>NaN</td>\n",
       "      <td>alas for her ! reveal her name.</td>\n",
       "      <td>5</td>\n",
       "      <td>1937</td>\n",
       "    </tr>\n",
       "  </tbody>\n",
       "</table>\n",
       "</div>"
      ],
      "text/plain": [
       "   Unnamed: 0 Disney_Period Gender       Movie Role Song Speaker  \\\n",
       "0           0         EARLY    NaN  Snow White  NaN  NaN   queen   \n",
       "1           1         EARLY    NaN  Snow White  NaN  NaN  mirror   \n",
       "2           2         EARLY    NaN  Snow White  NaN  NaN   queen   \n",
       "3           3         EARLY    NaN  Snow White  NaN  NaN  mirror   \n",
       "4           4         EARLY    NaN  Snow White  NaN  NaN   queen   \n",
       "\n",
       "  Speaker_Status Start_Scene  \\\n",
       "0          NON-P         NaN   \n",
       "1          NON-P         NaN   \n",
       "2          NON-P         NaN   \n",
       "3          NON-P         NaN   \n",
       "4          NON-P         NaN   \n",
       "\n",
       "                                                Text  UTTERANCE_NUMBER  Year  \n",
       "0  slave in the magic mirror come from the farthe...                 1  1937  \n",
       "1                what wouldst thou know, my queen ?                  2  1937  \n",
       "2  magic mirror on the wall, who is the fairest o...                 3  1937  \n",
       "3  famed is thy beauty, majesty. but hold, a love...                 4  1937  \n",
       "4                   alas for her ! reveal her name.                  5  1937  "
      ]
     },
     "execution_count": 3,
     "metadata": {},
     "output_type": "execute_result"
    }
   ],
   "source": [
    "disney.head()"
   ]
  },
  {
   "cell_type": "code",
   "execution_count": 4,
   "metadata": {},
   "outputs": [],
   "source": [
    "disney = disney.drop(columns=\"Unnamed: 0\")"
   ]
  },
  {
   "cell_type": "code",
   "execution_count": 5,
   "metadata": {},
   "outputs": [
    {
     "data": {
      "text/html": [
       "<div>\n",
       "<style scoped>\n",
       "    .dataframe tbody tr th:only-of-type {\n",
       "        vertical-align: middle;\n",
       "    }\n",
       "\n",
       "    .dataframe tbody tr th {\n",
       "        vertical-align: top;\n",
       "    }\n",
       "\n",
       "    .dataframe thead th {\n",
       "        text-align: right;\n",
       "    }\n",
       "</style>\n",
       "<table border=\"1\" class=\"dataframe\">\n",
       "  <thead>\n",
       "    <tr style=\"text-align: right;\">\n",
       "      <th></th>\n",
       "      <th>Disney_Period</th>\n",
       "      <th>Gender</th>\n",
       "      <th>Movie</th>\n",
       "      <th>Role</th>\n",
       "      <th>Song</th>\n",
       "      <th>Speaker</th>\n",
       "      <th>Speaker_Status</th>\n",
       "      <th>Start_Scene</th>\n",
       "      <th>Text</th>\n",
       "      <th>UTTERANCE_NUMBER</th>\n",
       "      <th>Year</th>\n",
       "    </tr>\n",
       "  </thead>\n",
       "  <tbody>\n",
       "    <tr>\n",
       "      <th>0</th>\n",
       "      <td>EARLY</td>\n",
       "      <td>NaN</td>\n",
       "      <td>Snow White</td>\n",
       "      <td>NaN</td>\n",
       "      <td>NaN</td>\n",
       "      <td>queen</td>\n",
       "      <td>NON-P</td>\n",
       "      <td>NaN</td>\n",
       "      <td>slave in the magic mirror come from the farthe...</td>\n",
       "      <td>1</td>\n",
       "      <td>1937</td>\n",
       "    </tr>\n",
       "    <tr>\n",
       "      <th>1</th>\n",
       "      <td>EARLY</td>\n",
       "      <td>NaN</td>\n",
       "      <td>Snow White</td>\n",
       "      <td>NaN</td>\n",
       "      <td>NaN</td>\n",
       "      <td>mirror</td>\n",
       "      <td>NON-P</td>\n",
       "      <td>NaN</td>\n",
       "      <td>what wouldst thou know, my queen ?</td>\n",
       "      <td>2</td>\n",
       "      <td>1937</td>\n",
       "    </tr>\n",
       "    <tr>\n",
       "      <th>2</th>\n",
       "      <td>EARLY</td>\n",
       "      <td>NaN</td>\n",
       "      <td>Snow White</td>\n",
       "      <td>NaN</td>\n",
       "      <td>NaN</td>\n",
       "      <td>queen</td>\n",
       "      <td>NON-P</td>\n",
       "      <td>NaN</td>\n",
       "      <td>magic mirror on the wall, who is the fairest o...</td>\n",
       "      <td>3</td>\n",
       "      <td>1937</td>\n",
       "    </tr>\n",
       "    <tr>\n",
       "      <th>3</th>\n",
       "      <td>EARLY</td>\n",
       "      <td>NaN</td>\n",
       "      <td>Snow White</td>\n",
       "      <td>NaN</td>\n",
       "      <td>NaN</td>\n",
       "      <td>mirror</td>\n",
       "      <td>NON-P</td>\n",
       "      <td>NaN</td>\n",
       "      <td>famed is thy beauty, majesty. but hold, a love...</td>\n",
       "      <td>4</td>\n",
       "      <td>1937</td>\n",
       "    </tr>\n",
       "    <tr>\n",
       "      <th>4</th>\n",
       "      <td>EARLY</td>\n",
       "      <td>NaN</td>\n",
       "      <td>Snow White</td>\n",
       "      <td>NaN</td>\n",
       "      <td>NaN</td>\n",
       "      <td>queen</td>\n",
       "      <td>NON-P</td>\n",
       "      <td>NaN</td>\n",
       "      <td>alas for her ! reveal her name.</td>\n",
       "      <td>5</td>\n",
       "      <td>1937</td>\n",
       "    </tr>\n",
       "  </tbody>\n",
       "</table>\n",
       "</div>"
      ],
      "text/plain": [
       "  Disney_Period Gender       Movie Role Song Speaker Speaker_Status  \\\n",
       "0         EARLY    NaN  Snow White  NaN  NaN   queen          NON-P   \n",
       "1         EARLY    NaN  Snow White  NaN  NaN  mirror          NON-P   \n",
       "2         EARLY    NaN  Snow White  NaN  NaN   queen          NON-P   \n",
       "3         EARLY    NaN  Snow White  NaN  NaN  mirror          NON-P   \n",
       "4         EARLY    NaN  Snow White  NaN  NaN   queen          NON-P   \n",
       "\n",
       "  Start_Scene                                               Text  \\\n",
       "0         NaN  slave in the magic mirror come from the farthe...   \n",
       "1         NaN                what wouldst thou know, my queen ?    \n",
       "2         NaN  magic mirror on the wall, who is the fairest o...   \n",
       "3         NaN  famed is thy beauty, majesty. but hold, a love...   \n",
       "4         NaN                   alas for her ! reveal her name.    \n",
       "\n",
       "   UTTERANCE_NUMBER  Year  \n",
       "0                 1  1937  \n",
       "1                 2  1937  \n",
       "2                 3  1937  \n",
       "3                 4  1937  \n",
       "4                 5  1937  "
      ]
     },
     "execution_count": 5,
     "metadata": {},
     "output_type": "execute_result"
    }
   ],
   "source": [
    "disney.head()"
   ]
  },
  {
   "cell_type": "code",
   "execution_count": 7,
   "metadata": {},
   "outputs": [
    {
     "data": {
      "text/plain": [
       "array(['Snow White', 'Cinderella', 'Sleeping Beauty',\n",
       "       'The Little Mermaid', 'Beauty and the Beast', 'Aladdin',\n",
       "       'Pocahontas', 'Mulan', 'The Princess and the Frog', 'Tangled',\n",
       "       'Brave', 'Frozen', 'Moana'], dtype=object)"
      ]
     },
     "execution_count": 7,
     "metadata": {},
     "output_type": "execute_result"
    }
   ],
   "source": [
    "disney[\"Movie\"].unique() #13 movies, 12 to look at"
   ]
  },
  {
   "cell_type": "code",
   "execution_count": 11,
   "metadata": {},
   "outputs": [
    {
     "data": {
      "text/plain": [
       "Frozen                       988\n",
       "Aladdin                      842\n",
       "Beauty and the Beast         772\n",
       "The Princess and the Frog    676\n",
       "Pocahontas                   638\n",
       "Mulan                        554\n",
       "Cinderella                   497\n",
       "Sleeping Beauty              462\n",
       "Brave                        411\n",
       "The Little Mermaid           397\n",
       "Moana                        382\n",
       "Snow White                   366\n",
       "Tangled                      193\n",
       "Name: Movie, dtype: int64"
      ]
     },
     "execution_count": 11,
     "metadata": {},
     "output_type": "execute_result"
    }
   ],
   "source": [
    "disney[\"Movie\"].value_counts()"
   ]
  },
  {
   "cell_type": "markdown",
   "metadata": {},
   "source": [
    "### Defining Functions to Use Throughout"
   ]
  },
  {
   "cell_type": "code",
   "execution_count": 6,
   "metadata": {},
   "outputs": [],
   "source": [
    "#Gender Label\n",
    "def whichgen(name, female, male):\n",
    "    if name in female: return 'f'\n",
    "    elif name in male: return 'm'\n",
    "    else: return 'n'"
   ]
  },
  {
   "cell_type": "code",
   "execution_count": 7,
   "metadata": {},
   "outputs": [],
   "source": [
    "#Role Label\n",
    "def whichrole(name, pro, ant, helper):\n",
    "    if name in pro: return 'PRO'\n",
    "    if name in ant: return 'ANT'\n",
    "    if name in helper: return 'HELPER'\n",
    "    else: return \"N\" #for neutral"
   ]
  },
  {
   "cell_type": "code",
   "execution_count": 8,
   "metadata": {},
   "outputs": [],
   "source": [
    "#Dialogue Label\n",
    "def is_dialogue(line, song):\n",
    "    if line in song: return 'S'\n",
    "    else: return 'D'"
   ]
  },
  {
   "cell_type": "markdown",
   "metadata": {},
   "source": [
    "## Snow White\n",
    "\n",
    "1) Data cleanup"
   ]
  },
  {
   "cell_type": "code",
   "execution_count": 80,
   "metadata": {},
   "outputs": [],
   "source": [
    "snow_white = disney[disney.Movie == \"Snow White\"]"
   ]
  },
  {
   "cell_type": "code",
   "execution_count": 81,
   "metadata": {},
   "outputs": [
    {
     "name": "stdout",
     "output_type": "stream",
     "text": [
      "<class 'pandas.core.frame.DataFrame'>\n",
      "Int64Index: 366 entries, 0 to 365\n",
      "Data columns (total 11 columns):\n",
      "Disney_Period       366 non-null object\n",
      "Gender              0 non-null object\n",
      "Movie               366 non-null object\n",
      "Role                0 non-null object\n",
      "Song                0 non-null object\n",
      "Speaker             366 non-null object\n",
      "Speaker_Status      366 non-null object\n",
      "Start_Scene         0 non-null object\n",
      "Text                366 non-null object\n",
      "UTTERANCE_NUMBER    366 non-null int64\n",
      "Year                366 non-null int64\n",
      "dtypes: int64(2), object(9)\n",
      "memory usage: 21.4+ KB\n"
     ]
    }
   ],
   "source": [
    "snow_white.info()"
   ]
  },
  {
   "cell_type": "code",
   "execution_count": 82,
   "metadata": {},
   "outputs": [
    {
     "data": {
      "text/html": [
       "<div>\n",
       "<style scoped>\n",
       "    .dataframe tbody tr th:only-of-type {\n",
       "        vertical-align: middle;\n",
       "    }\n",
       "\n",
       "    .dataframe tbody tr th {\n",
       "        vertical-align: top;\n",
       "    }\n",
       "\n",
       "    .dataframe thead th {\n",
       "        text-align: right;\n",
       "    }\n",
       "</style>\n",
       "<table border=\"1\" class=\"dataframe\">\n",
       "  <thead>\n",
       "    <tr style=\"text-align: right;\">\n",
       "      <th></th>\n",
       "      <th>Speaker</th>\n",
       "      <th>Text</th>\n",
       "    </tr>\n",
       "  </thead>\n",
       "  <tbody>\n",
       "    <tr>\n",
       "      <th>0</th>\n",
       "      <td>queen</td>\n",
       "      <td>slave in the magic mirror come from the farthe...</td>\n",
       "    </tr>\n",
       "    <tr>\n",
       "      <th>1</th>\n",
       "      <td>mirror</td>\n",
       "      <td>what wouldst thou know, my queen ?</td>\n",
       "    </tr>\n",
       "    <tr>\n",
       "      <th>2</th>\n",
       "      <td>queen</td>\n",
       "      <td>magic mirror on the wall, who is the fairest o...</td>\n",
       "    </tr>\n",
       "    <tr>\n",
       "      <th>3</th>\n",
       "      <td>mirror</td>\n",
       "      <td>famed is thy beauty, majesty. but hold, a love...</td>\n",
       "    </tr>\n",
       "    <tr>\n",
       "      <th>4</th>\n",
       "      <td>queen</td>\n",
       "      <td>alas for her ! reveal her name.</td>\n",
       "    </tr>\n",
       "    <tr>\n",
       "      <th>5</th>\n",
       "      <td>mirror</td>\n",
       "      <td>lips red as the rose. hair black as ebony. ski...</td>\n",
       "    </tr>\n",
       "    <tr>\n",
       "      <th>6</th>\n",
       "      <td>queen</td>\n",
       "      <td>snow white !</td>\n",
       "    </tr>\n",
       "    <tr>\n",
       "      <th>7</th>\n",
       "      <td>snow white</td>\n",
       "      <td>want to know a secret ? promise not to tell ? ...</td>\n",
       "    </tr>\n",
       "    <tr>\n",
       "      <th>8</th>\n",
       "      <td>prince</td>\n",
       "      <td>today</td>\n",
       "    </tr>\n",
       "    <tr>\n",
       "      <th>9</th>\n",
       "      <td>snow white</td>\n",
       "      <td>oh !</td>\n",
       "    </tr>\n",
       "    <tr>\n",
       "      <th>10</th>\n",
       "      <td>prince</td>\n",
       "      <td>hello.</td>\n",
       "    </tr>\n",
       "    <tr>\n",
       "      <th>11</th>\n",
       "      <td>snow white</td>\n",
       "      <td>oh.</td>\n",
       "    </tr>\n",
       "    <tr>\n",
       "      <th>12</th>\n",
       "      <td>prince</td>\n",
       "      <td>did i frighten you ? wait. wait, please. don't...</td>\n",
       "    </tr>\n",
       "    <tr>\n",
       "      <th>13</th>\n",
       "      <td>queen</td>\n",
       "      <td>take her far into the forest. find some seclud...</td>\n",
       "    </tr>\n",
       "    <tr>\n",
       "      <th>14</th>\n",
       "      <td>guard</td>\n",
       "      <td>yes, your majesty.</td>\n",
       "    </tr>\n",
       "    <tr>\n",
       "      <th>15</th>\n",
       "      <td>queen</td>\n",
       "      <td>and there, my faithful huntsman, you will kill...</td>\n",
       "    </tr>\n",
       "    <tr>\n",
       "      <th>16</th>\n",
       "      <td>guard</td>\n",
       "      <td>but, your majesty, the little princess !</td>\n",
       "    </tr>\n",
       "    <tr>\n",
       "      <th>17</th>\n",
       "      <td>queen</td>\n",
       "      <td>silence ! you know the penalty if you fail.</td>\n",
       "    </tr>\n",
       "    <tr>\n",
       "      <th>18</th>\n",
       "      <td>guard</td>\n",
       "      <td>yes, your majesty.</td>\n",
       "    </tr>\n",
       "    <tr>\n",
       "      <th>19</th>\n",
       "      <td>queen</td>\n",
       "      <td>but to make doubly sure... you do not fail, br...</td>\n",
       "    </tr>\n",
       "    <tr>\n",
       "      <th>20</th>\n",
       "      <td>snow white</td>\n",
       "      <td>one song i have but one song</td>\n",
       "    </tr>\n",
       "    <tr>\n",
       "      <th>21</th>\n",
       "      <td>snow white</td>\n",
       "      <td>hello there. what's the matter ? where's your ...</td>\n",
       "    </tr>\n",
       "    <tr>\n",
       "      <th>22</th>\n",
       "      <td>guard</td>\n",
       "      <td>i can't ! i can't do it ! forgive me. i beg of...</td>\n",
       "    </tr>\n",
       "    <tr>\n",
       "      <th>23</th>\n",
       "      <td>snow white</td>\n",
       "      <td>i don't understand.</td>\n",
       "    </tr>\n",
       "    <tr>\n",
       "      <th>24</th>\n",
       "      <td>guard</td>\n",
       "      <td>she's mad! jealous of you! she'll stop at noth...</td>\n",
       "    </tr>\n",
       "    <tr>\n",
       "      <th>25</th>\n",
       "      <td>snow white</td>\n",
       "      <td>butbut who ?</td>\n",
       "    </tr>\n",
       "    <tr>\n",
       "      <th>26</th>\n",
       "      <td>guard</td>\n",
       "      <td>the queen!</td>\n",
       "    </tr>\n",
       "    <tr>\n",
       "      <th>27</th>\n",
       "      <td>snow white</td>\n",
       "      <td>the queen ?</td>\n",
       "    </tr>\n",
       "    <tr>\n",
       "      <th>28</th>\n",
       "      <td>guard</td>\n",
       "      <td>now, quick, child, run! run away, hide! in the...</td>\n",
       "    </tr>\n",
       "    <tr>\n",
       "      <th>29</th>\n",
       "      <td>snow white</td>\n",
       "      <td>oh! please, don't run away. i won't hurt you. ...</td>\n",
       "    </tr>\n",
       "    <tr>\n",
       "      <th>...</th>\n",
       "      <td>...</td>\n",
       "      <td>...</td>\n",
       "    </tr>\n",
       "    <tr>\n",
       "      <th>336</th>\n",
       "      <td>sleepy</td>\n",
       "      <td>maybe the old queen's got snow white.</td>\n",
       "    </tr>\n",
       "    <tr>\n",
       "      <th>337</th>\n",
       "      <td>doc</td>\n",
       "      <td>the queen !</td>\n",
       "    </tr>\n",
       "    <tr>\n",
       "      <th>338</th>\n",
       "      <td>all dwarfs</td>\n",
       "      <td>snow white !</td>\n",
       "    </tr>\n",
       "    <tr>\n",
       "      <th>339</th>\n",
       "      <td>grumpy</td>\n",
       "      <td>the queen will kill her ! we gotta save her !</td>\n",
       "    </tr>\n",
       "    <tr>\n",
       "      <th>340</th>\n",
       "      <td>doc</td>\n",
       "      <td>yes, yes, wewe gotta save her !</td>\n",
       "    </tr>\n",
       "    <tr>\n",
       "      <th>341</th>\n",
       "      <td>happy</td>\n",
       "      <td>what'll we do ?</td>\n",
       "    </tr>\n",
       "    <tr>\n",
       "      <th>342</th>\n",
       "      <td>doc</td>\n",
       "      <td>yes, wwhat'll we do ?</td>\n",
       "    </tr>\n",
       "    <tr>\n",
       "      <th>343</th>\n",
       "      <td>grumpy</td>\n",
       "      <td>come on ! giddap !</td>\n",
       "    </tr>\n",
       "    <tr>\n",
       "      <th>344</th>\n",
       "      <td>doc</td>\n",
       "      <td>wait for me !</td>\n",
       "    </tr>\n",
       "    <tr>\n",
       "      <th>345</th>\n",
       "      <td>queen</td>\n",
       "      <td>there must be something your little heart desi...</td>\n",
       "    </tr>\n",
       "    <tr>\n",
       "      <th>346</th>\n",
       "      <td>snow white</td>\n",
       "      <td>well, there is someone.</td>\n",
       "    </tr>\n",
       "    <tr>\n",
       "      <th>347</th>\n",
       "      <td>queen</td>\n",
       "      <td>i thought so. i thought so. old granny knows a...</td>\n",
       "    </tr>\n",
       "    <tr>\n",
       "      <th>348</th>\n",
       "      <td>snow white</td>\n",
       "      <td>i wish i wish</td>\n",
       "    </tr>\n",
       "    <tr>\n",
       "      <th>349</th>\n",
       "      <td>queen</td>\n",
       "      <td>that's it. go on. go on.</td>\n",
       "    </tr>\n",
       "    <tr>\n",
       "      <th>350</th>\n",
       "      <td>snow white</td>\n",
       "      <td>...and that he will carry me away to his castl...</td>\n",
       "    </tr>\n",
       "    <tr>\n",
       "      <th>351</th>\n",
       "      <td>queen</td>\n",
       "      <td>fine ! fine ! now, take a bite. don't let the ...</td>\n",
       "    </tr>\n",
       "    <tr>\n",
       "      <th>352</th>\n",
       "      <td>snow white</td>\n",
       "      <td>oh ! i feel strange.</td>\n",
       "    </tr>\n",
       "    <tr>\n",
       "      <th>353</th>\n",
       "      <td>queen</td>\n",
       "      <td>her breath will still.</td>\n",
       "    </tr>\n",
       "    <tr>\n",
       "      <th>354</th>\n",
       "      <td>snow white</td>\n",
       "      <td>oh.</td>\n",
       "    </tr>\n",
       "    <tr>\n",
       "      <th>355</th>\n",
       "      <td>queen</td>\n",
       "      <td>her blood congeal.</td>\n",
       "    </tr>\n",
       "    <tr>\n",
       "      <th>356</th>\n",
       "      <td>snow white</td>\n",
       "      <td>oh.</td>\n",
       "    </tr>\n",
       "    <tr>\n",
       "      <th>357</th>\n",
       "      <td>queen</td>\n",
       "      <td>now i'll be fairest in the land !</td>\n",
       "    </tr>\n",
       "    <tr>\n",
       "      <th>358</th>\n",
       "      <td>grumpy</td>\n",
       "      <td>hurry, hurry ! there she goes ! after her !</td>\n",
       "    </tr>\n",
       "    <tr>\n",
       "      <th>359</th>\n",
       "      <td>queen</td>\n",
       "      <td>i'm trapped. what will i do ? the meddling lit...</td>\n",
       "    </tr>\n",
       "    <tr>\n",
       "      <th>360</th>\n",
       "      <td>doc</td>\n",
       "      <td>look out !</td>\n",
       "    </tr>\n",
       "    <tr>\n",
       "      <th>361</th>\n",
       "      <td>prince</td>\n",
       "      <td>one song</td>\n",
       "    </tr>\n",
       "    <tr>\n",
       "      <th>362</th>\n",
       "      <td>chorus</td>\n",
       "      <td>one song, i have but one song one song, only f...</td>\n",
       "    </tr>\n",
       "    <tr>\n",
       "      <th>363</th>\n",
       "      <td>snow white</td>\n",
       "      <td>goodbye. goodbye, grumpy.</td>\n",
       "    </tr>\n",
       "    <tr>\n",
       "      <th>364</th>\n",
       "      <td>goodbye.</td>\n",
       "      <td>oh, dopey. goodbye !</td>\n",
       "    </tr>\n",
       "    <tr>\n",
       "      <th>365</th>\n",
       "      <td>chorus</td>\n",
       "      <td>some day when spring is here we'll find our lo...</td>\n",
       "    </tr>\n",
       "  </tbody>\n",
       "</table>\n",
       "<p>366 rows × 2 columns</p>\n",
       "</div>"
      ],
      "text/plain": [
       "        Speaker                                               Text\n",
       "0         queen  slave in the magic mirror come from the farthe...\n",
       "1        mirror                what wouldst thou know, my queen ? \n",
       "2         queen  magic mirror on the wall, who is the fairest o...\n",
       "3        mirror  famed is thy beauty, majesty. but hold, a love...\n",
       "4         queen                   alas for her ! reveal her name. \n",
       "5        mirror  lips red as the rose. hair black as ebony. ski...\n",
       "6         queen                                      snow white ! \n",
       "7    snow white  want to know a secret ? promise not to tell ? ...\n",
       "8        prince                                             today \n",
       "9    snow white                                              oh ! \n",
       "10       prince                                            hello. \n",
       "11   snow white                                               oh. \n",
       "12       prince  did i frighten you ? wait. wait, please. don't...\n",
       "13        queen  take her far into the forest. find some seclud...\n",
       "14        guard                                yes, your majesty. \n",
       "15        queen  and there, my faithful huntsman, you will kill...\n",
       "16        guard          but, your majesty, the little princess ! \n",
       "17        queen       silence ! you know the penalty if you fail. \n",
       "18        guard                                yes, your majesty. \n",
       "19        queen  but to make doubly sure... you do not fail, br...\n",
       "20   snow white                      one song i have but one song \n",
       "21   snow white  hello there. what's the matter ? where's your ...\n",
       "22        guard  i can't ! i can't do it ! forgive me. i beg of...\n",
       "23   snow white                               i don't understand. \n",
       "24        guard  she's mad! jealous of you! she'll stop at noth...\n",
       "25   snow white                                      butbut who ? \n",
       "26        guard                                        the queen! \n",
       "27   snow white                                       the queen ? \n",
       "28        guard  now, quick, child, run! run away, hide! in the...\n",
       "29   snow white  oh! please, don't run away. i won't hurt you. ...\n",
       "..          ...                                                ...\n",
       "336      sleepy             maybe the old queen's got snow white. \n",
       "337         doc                                       the queen ! \n",
       "338  all dwarfs                                      snow white ! \n",
       "339      grumpy     the queen will kill her ! we gotta save her ! \n",
       "340         doc                   yes, yes, wewe gotta save her ! \n",
       "341       happy                                   what'll we do ? \n",
       "342         doc                             yes, wwhat'll we do ? \n",
       "343      grumpy                                come on ! giddap ! \n",
       "344         doc                                     wait for me ! \n",
       "345       queen  there must be something your little heart desi...\n",
       "346  snow white                           well, there is someone. \n",
       "347       queen  i thought so. i thought so. old granny knows a...\n",
       "348  snow white                                     i wish i wish \n",
       "349       queen                          that's it. go on. go on. \n",
       "350  snow white  ...and that he will carry me away to his castl...\n",
       "351       queen  fine ! fine ! now, take a bite. don't let the ...\n",
       "352  snow white                              oh ! i feel strange. \n",
       "353       queen                            her breath will still. \n",
       "354  snow white                                               oh. \n",
       "355       queen                                her blood congeal. \n",
       "356  snow white                                               oh. \n",
       "357       queen                 now i'll be fairest in the land ! \n",
       "358      grumpy       hurry, hurry ! there she goes ! after her ! \n",
       "359       queen  i'm trapped. what will i do ? the meddling lit...\n",
       "360         doc                                        look out ! \n",
       "361      prince                                          one song \n",
       "362      chorus  one song, i have but one song one song, only f...\n",
       "363  snow white                         goodbye. goodbye, grumpy. \n",
       "364   goodbye.                               oh, dopey. goodbye ! \n",
       "365      chorus  some day when spring is here we'll find our lo...\n",
       "\n",
       "[366 rows x 2 columns]"
      ]
     },
     "execution_count": 82,
     "metadata": {},
     "output_type": "execute_result"
    }
   ],
   "source": [
    "snow_white[[\"Speaker\", \"Text\"]]"
   ]
  },
  {
   "cell_type": "code",
   "execution_count": 83,
   "metadata": {},
   "outputs": [
    {
     "data": {
      "text/plain": [
       "array(['queen', 'mirror', 'snow white', 'prince', 'guard', 'all dwarfs',\n",
       "       'doc', 'happy', 'bashful', 'dopey', 'grumpy', 'sneey', 'sneezy',\n",
       "       \"i can't \", 'various dwarfs', 'sleepy', 'grumpy & sneezy',\n",
       "       ' ahch ', 'chorus', ' goodbye. '], dtype=object)"
      ]
     },
     "execution_count": 83,
     "metadata": {},
     "output_type": "execute_result"
    }
   ],
   "source": [
    "snow_white[\"Speaker\"].unique()"
   ]
  },
  {
   "cell_type": "code",
   "execution_count": 84,
   "metadata": {},
   "outputs": [
    {
     "data": {
      "text/plain": [
       "87    i can't \n",
       "Name: Speaker, dtype: object"
      ]
     },
     "execution_count": 84,
     "metadata": {},
     "output_type": "execute_result"
    }
   ],
   "source": [
    "# \"i can't and ' ahch ' and ' goodbye' are not lines\n",
    "snow_white[\"Speaker\"][snow_white.Speaker == \"i can't \"]"
   ]
  },
  {
   "cell_type": "code",
   "execution_count": 85,
   "metadata": {},
   "outputs": [
    {
     "data": {
      "text/html": [
       "<div>\n",
       "<style scoped>\n",
       "    .dataframe tbody tr th:only-of-type {\n",
       "        vertical-align: middle;\n",
       "    }\n",
       "\n",
       "    .dataframe tbody tr th {\n",
       "        vertical-align: top;\n",
       "    }\n",
       "\n",
       "    .dataframe thead th {\n",
       "        text-align: right;\n",
       "    }\n",
       "</style>\n",
       "<table border=\"1\" class=\"dataframe\">\n",
       "  <thead>\n",
       "    <tr style=\"text-align: right;\">\n",
       "      <th></th>\n",
       "      <th>Speaker</th>\n",
       "      <th>Text</th>\n",
       "    </tr>\n",
       "  </thead>\n",
       "  <tbody>\n",
       "    <tr>\n",
       "      <th>85</th>\n",
       "      <td>bashful</td>\n",
       "      <td>huh ? look, goldenrod.</td>\n",
       "    </tr>\n",
       "    <tr>\n",
       "      <th>86</th>\n",
       "      <td>sneezy</td>\n",
       "      <td>don't do it. take them away. my nose ! my hay ...</td>\n",
       "    </tr>\n",
       "    <tr>\n",
       "      <th>87</th>\n",
       "      <td>i can't</td>\n",
       "      <td>i can't i oh !</td>\n",
       "    </tr>\n",
       "    <tr>\n",
       "      <th>88</th>\n",
       "      <td>all dwarfs</td>\n",
       "      <td>shh !</td>\n",
       "    </tr>\n",
       "  </tbody>\n",
       "</table>\n",
       "</div>"
      ],
      "text/plain": [
       "       Speaker                                               Text\n",
       "85     bashful                            huh ? look, goldenrod. \n",
       "86      sneezy  don't do it. take them away. my nose ! my hay ...\n",
       "87    i can't                                     i can't i oh ! \n",
       "88  all dwarfs                                             shh ! "
      ]
     },
     "execution_count": 85,
     "metadata": {},
     "output_type": "execute_result"
    }
   ],
   "source": [
    "snow_white[[\"Speaker\", \"Text\"]].iloc[85:89]"
   ]
  },
  {
   "cell_type": "code",
   "execution_count": 86,
   "metadata": {},
   "outputs": [
    {
     "name": "stdout",
     "output_type": "stream",
     "text": [
      "don't do it. take them away. my nose ! my hay fever ! you know i can't stand it. \n"
     ]
    }
   ],
   "source": [
    "line_86 = snow_white[\"Text\"].iloc[86]\n",
    "print(line_86)"
   ]
  },
  {
   "cell_type": "code",
   "execution_count": 87,
   "metadata": {},
   "outputs": [
    {
     "data": {
      "text/plain": [
       "\"i can't i oh ! \""
      ]
     },
     "execution_count": 87,
     "metadata": {},
     "output_type": "execute_result"
    }
   ],
   "source": [
    "line_87 = snow_white[\"Text\"].iloc[87]\n",
    "line_87"
   ]
  },
  {
   "cell_type": "code",
   "execution_count": 88,
   "metadata": {},
   "outputs": [
    {
     "name": "stderr",
     "output_type": "stream",
     "text": [
      "c:\\users\\cassi\\appdata\\local\\programs\\python\\python36-32\\lib\\site-packages\\ipykernel_launcher.py:1: SettingWithCopyWarning: \n",
      "A value is trying to be set on a copy of a slice from a DataFrame\n",
      "\n",
      "See the caveats in the documentation: http://pandas.pydata.org/pandas-docs/stable/indexing.html#indexing-view-versus-copy\n",
      "  \"\"\"Entry point for launching an IPython kernel.\n"
     ]
    }
   ],
   "source": [
    "snow_white[\"Text\"].iloc[86] = line_86 + line_87"
   ]
  },
  {
   "cell_type": "code",
   "execution_count": 89,
   "metadata": {},
   "outputs": [
    {
     "data": {
      "text/plain": [
       "\"don't do it. take them away. my nose ! my hay fever ! you know i can't stand it. i can't i oh ! \""
      ]
     },
     "execution_count": 89,
     "metadata": {},
     "output_type": "execute_result"
    }
   ],
   "source": [
    "snow_white[\"Text\"].iloc[86]"
   ]
  },
  {
   "cell_type": "code",
   "execution_count": 90,
   "metadata": {},
   "outputs": [],
   "source": [
    "snow_white = snow_white.drop(index = 87)"
   ]
  },
  {
   "cell_type": "code",
   "execution_count": 100,
   "metadata": {},
   "outputs": [],
   "source": [
    "snow_white.reset_index(inplace=True)"
   ]
  },
  {
   "cell_type": "code",
   "execution_count": 101,
   "metadata": {},
   "outputs": [
    {
     "name": "stdout",
     "output_type": "stream",
     "text": [
      "<class 'pandas.core.frame.DataFrame'>\n",
      "RangeIndex: 365 entries, 0 to 364\n",
      "Data columns (total 12 columns):\n",
      "index               365 non-null int64\n",
      "Disney_Period       365 non-null object\n",
      "Gender              0 non-null object\n",
      "Movie               365 non-null object\n",
      "Role                0 non-null object\n",
      "Song                0 non-null object\n",
      "Speaker             365 non-null object\n",
      "Speaker_Status      365 non-null object\n",
      "Start_Scene         0 non-null object\n",
      "Text                365 non-null object\n",
      "UTTERANCE_NUMBER    365 non-null int64\n",
      "Year                365 non-null int64\n",
      "dtypes: int64(3), object(9)\n",
      "memory usage: 21.4+ KB\n"
     ]
    }
   ],
   "source": [
    "snow_white.info()"
   ]
  },
  {
   "cell_type": "code",
   "execution_count": 102,
   "metadata": {},
   "outputs": [
    {
     "data": {
      "text/html": [
       "<div>\n",
       "<style scoped>\n",
       "    .dataframe tbody tr th:only-of-type {\n",
       "        vertical-align: middle;\n",
       "    }\n",
       "\n",
       "    .dataframe tbody tr th {\n",
       "        vertical-align: top;\n",
       "    }\n",
       "\n",
       "    .dataframe thead th {\n",
       "        text-align: right;\n",
       "    }\n",
       "</style>\n",
       "<table border=\"1\" class=\"dataframe\">\n",
       "  <thead>\n",
       "    <tr style=\"text-align: right;\">\n",
       "      <th></th>\n",
       "      <th>index</th>\n",
       "      <th>Disney_Period</th>\n",
       "      <th>Gender</th>\n",
       "      <th>Movie</th>\n",
       "      <th>Role</th>\n",
       "      <th>Song</th>\n",
       "      <th>Speaker</th>\n",
       "      <th>Speaker_Status</th>\n",
       "      <th>Start_Scene</th>\n",
       "      <th>Text</th>\n",
       "      <th>UTTERANCE_NUMBER</th>\n",
       "      <th>Year</th>\n",
       "    </tr>\n",
       "  </thead>\n",
       "  <tbody>\n",
       "    <tr>\n",
       "      <th>85</th>\n",
       "      <td>85</td>\n",
       "      <td>EARLY</td>\n",
       "      <td>NaN</td>\n",
       "      <td>Snow White</td>\n",
       "      <td>NaN</td>\n",
       "      <td>NaN</td>\n",
       "      <td>bashful</td>\n",
       "      <td>NON-P</td>\n",
       "      <td>NaN</td>\n",
       "      <td>huh ? look, goldenrod.</td>\n",
       "      <td>86</td>\n",
       "      <td>1937</td>\n",
       "    </tr>\n",
       "    <tr>\n",
       "      <th>86</th>\n",
       "      <td>86</td>\n",
       "      <td>EARLY</td>\n",
       "      <td>NaN</td>\n",
       "      <td>Snow White</td>\n",
       "      <td>NaN</td>\n",
       "      <td>NaN</td>\n",
       "      <td>sneezy</td>\n",
       "      <td>NON-P</td>\n",
       "      <td>NaN</td>\n",
       "      <td>don't do it. take them away. my nose ! my hay ...</td>\n",
       "      <td>87</td>\n",
       "      <td>1937</td>\n",
       "    </tr>\n",
       "    <tr>\n",
       "      <th>87</th>\n",
       "      <td>88</td>\n",
       "      <td>EARLY</td>\n",
       "      <td>NaN</td>\n",
       "      <td>Snow White</td>\n",
       "      <td>NaN</td>\n",
       "      <td>NaN</td>\n",
       "      <td>all dwarfs</td>\n",
       "      <td>NON-P</td>\n",
       "      <td>NaN</td>\n",
       "      <td>shh !</td>\n",
       "      <td>89</td>\n",
       "      <td>1937</td>\n",
       "    </tr>\n",
       "    <tr>\n",
       "      <th>88</th>\n",
       "      <td>89</td>\n",
       "      <td>EARLY</td>\n",
       "      <td>NaN</td>\n",
       "      <td>Snow White</td>\n",
       "      <td>NaN</td>\n",
       "      <td>NaN</td>\n",
       "      <td>grumpy</td>\n",
       "      <td>NON-P</td>\n",
       "      <td>NaN</td>\n",
       "      <td>ya crazy fool ! fine time ya picked to sneeze !</td>\n",
       "      <td>90</td>\n",
       "      <td>1937</td>\n",
       "    </tr>\n",
       "  </tbody>\n",
       "</table>\n",
       "</div>"
      ],
      "text/plain": [
       "    index Disney_Period Gender       Movie Role Song     Speaker  \\\n",
       "85     85         EARLY    NaN  Snow White  NaN  NaN     bashful   \n",
       "86     86         EARLY    NaN  Snow White  NaN  NaN      sneezy   \n",
       "87     88         EARLY    NaN  Snow White  NaN  NaN  all dwarfs   \n",
       "88     89         EARLY    NaN  Snow White  NaN  NaN      grumpy   \n",
       "\n",
       "   Speaker_Status Start_Scene  \\\n",
       "85          NON-P         NaN   \n",
       "86          NON-P         NaN   \n",
       "87          NON-P         NaN   \n",
       "88          NON-P         NaN   \n",
       "\n",
       "                                                 Text  UTTERANCE_NUMBER  Year  \n",
       "85                            huh ? look, goldenrod.                 86  1937  \n",
       "86  don't do it. take them away. my nose ! my hay ...                87  1937  \n",
       "87                                             shh !                 89  1937  \n",
       "88   ya crazy fool ! fine time ya picked to sneeze !                 90  1937  "
      ]
     },
     "execution_count": 102,
     "metadata": {},
     "output_type": "execute_result"
    }
   ],
   "source": [
    "snow_white.iloc[85:89] #utterance numbers must be revised"
   ]
  },
  {
   "cell_type": "code",
   "execution_count": 103,
   "metadata": {},
   "outputs": [
    {
     "data": {
      "text/plain": [
       "295     ahch \n",
       "Name: Speaker, dtype: object"
      ]
     },
     "execution_count": 103,
     "metadata": {},
     "output_type": "execute_result"
    }
   ],
   "source": [
    "snow_white[\"Speaker\"][snow_white.Speaker == \" ahch \"]"
   ]
  },
  {
   "cell_type": "code",
   "execution_count": 105,
   "metadata": {},
   "outputs": [
    {
     "data": {
      "text/html": [
       "<div>\n",
       "<style scoped>\n",
       "    .dataframe tbody tr th:only-of-type {\n",
       "        vertical-align: middle;\n",
       "    }\n",
       "\n",
       "    .dataframe tbody tr th {\n",
       "        vertical-align: top;\n",
       "    }\n",
       "\n",
       "    .dataframe thead th {\n",
       "        text-align: right;\n",
       "    }\n",
       "</style>\n",
       "<table border=\"1\" class=\"dataframe\">\n",
       "  <thead>\n",
       "    <tr style=\"text-align: right;\">\n",
       "      <th></th>\n",
       "      <th>Speaker</th>\n",
       "      <th>Text</th>\n",
       "    </tr>\n",
       "  </thead>\n",
       "  <tbody>\n",
       "    <tr>\n",
       "      <th>293</th>\n",
       "      <td>grumpy</td>\n",
       "      <td>hah ! disgustin' !</td>\n",
       "    </tr>\n",
       "    <tr>\n",
       "      <th>294</th>\n",
       "      <td>sneezy</td>\n",
       "      <td>and be sure to watch outto wato wa to wawatch ...</td>\n",
       "    </tr>\n",
       "    <tr>\n",
       "      <th>295</th>\n",
       "      <td>ahch</td>\n",
       "      <td>ahchooooo !</td>\n",
       "    </tr>\n",
       "    <tr>\n",
       "      <th>296</th>\n",
       "      <td>snow white</td>\n",
       "      <td>well... all right. but that's the last oh ! go...</td>\n",
       "    </tr>\n",
       "    <tr>\n",
       "      <th>297</th>\n",
       "      <td>snow white</td>\n",
       "      <td>heighho, heighho it's off to work we go heighho</td>\n",
       "    </tr>\n",
       "  </tbody>\n",
       "</table>\n",
       "</div>"
      ],
      "text/plain": [
       "        Speaker                                               Text\n",
       "293      grumpy                                hah ! disgustin' ! \n",
       "294      sneezy  and be sure to watch outto wato wa to wawatch ...\n",
       "295       ahch                                        ahchooooo ! \n",
       "296  snow white  well... all right. but that's the last oh ! go...\n",
       "297  snow white   heighho, heighho it's off to work we go heighho "
      ]
     },
     "execution_count": 105,
     "metadata": {},
     "output_type": "execute_result"
    }
   ],
   "source": [
    "snow_white[[\"Speaker\", \"Text\"]].iloc[293:298]"
   ]
  },
  {
   "cell_type": "code",
   "execution_count": 106,
   "metadata": {},
   "outputs": [],
   "source": [
    "#goshdarn it, sneezy!\n",
    "line_294 = snow_white[\"Text\"].iloc[294]\n",
    "line_295 = snow_white[\"Text\"].iloc[295]\n",
    "snow_white[\"Text\"].iloc[294] = line_294 + line_295"
   ]
  },
  {
   "cell_type": "code",
   "execution_count": 108,
   "metadata": {},
   "outputs": [
    {
     "data": {
      "text/plain": [
       "'and be sure to watch outto wato wa to wawatch out ! ahchooooo ! '"
      ]
     },
     "execution_count": 108,
     "metadata": {},
     "output_type": "execute_result"
    }
   ],
   "source": [
    "snow_white[\"Text\"].iloc[294]"
   ]
  },
  {
   "cell_type": "code",
   "execution_count": 109,
   "metadata": {},
   "outputs": [
    {
     "data": {
      "text/plain": [
       "'ahchooooo ! '"
      ]
     },
     "execution_count": 109,
     "metadata": {},
     "output_type": "execute_result"
    }
   ],
   "source": [
    "snow_white[\"Text\"].iloc[295]"
   ]
  },
  {
   "cell_type": "code",
   "execution_count": 110,
   "metadata": {},
   "outputs": [
    {
     "data": {
      "text/plain": [
       "293                                  hah ! disgustin' ! \n",
       "294    and be sure to watch outto wato wa to wawatch ...\n",
       "295    well... all right. but that's the last oh ! go...\n",
       "296     heighho, heighho it's off to work we go heighho \n",
       "297                                  goodbye. goodbye ! \n",
       "Name: Text, dtype: object"
      ]
     },
     "execution_count": 110,
     "metadata": {},
     "output_type": "execute_result"
    }
   ],
   "source": [
    "snow_white.drop(index = 295, inplace=True)\n",
    "snow_white.reset_index(inplace=True)\n",
    "snow_white[\"Text\"].iloc[293:298]"
   ]
  },
  {
   "cell_type": "code",
   "execution_count": 114,
   "metadata": {},
   "outputs": [
    {
     "data": {
      "text/plain": [
       "362     goodbye. \n",
       "Name: Speaker, dtype: object"
      ]
     },
     "execution_count": 114,
     "metadata": {},
     "output_type": "execute_result"
    }
   ],
   "source": [
    "snow_white[\"Speaker\"][snow_white.Speaker == \" goodbye. \"]"
   ]
  },
  {
   "cell_type": "code",
   "execution_count": 115,
   "metadata": {},
   "outputs": [
    {
     "data": {
      "text/html": [
       "<div>\n",
       "<style scoped>\n",
       "    .dataframe tbody tr th:only-of-type {\n",
       "        vertical-align: middle;\n",
       "    }\n",
       "\n",
       "    .dataframe tbody tr th {\n",
       "        vertical-align: top;\n",
       "    }\n",
       "\n",
       "    .dataframe thead th {\n",
       "        text-align: right;\n",
       "    }\n",
       "</style>\n",
       "<table border=\"1\" class=\"dataframe\">\n",
       "  <thead>\n",
       "    <tr style=\"text-align: right;\">\n",
       "      <th></th>\n",
       "      <th>Speaker</th>\n",
       "      <th>Text</th>\n",
       "    </tr>\n",
       "  </thead>\n",
       "  <tbody>\n",
       "    <tr>\n",
       "      <th>360</th>\n",
       "      <td>chorus</td>\n",
       "      <td>one song, i have but one song one song, only f...</td>\n",
       "    </tr>\n",
       "    <tr>\n",
       "      <th>361</th>\n",
       "      <td>snow white</td>\n",
       "      <td>goodbye. goodbye, grumpy.</td>\n",
       "    </tr>\n",
       "    <tr>\n",
       "      <th>362</th>\n",
       "      <td>goodbye.</td>\n",
       "      <td>oh, dopey. goodbye !</td>\n",
       "    </tr>\n",
       "    <tr>\n",
       "      <th>363</th>\n",
       "      <td>chorus</td>\n",
       "      <td>some day when spring is here we'll find our lo...</td>\n",
       "    </tr>\n",
       "  </tbody>\n",
       "</table>\n",
       "</div>"
      ],
      "text/plain": [
       "        Speaker                                               Text\n",
       "360      chorus  one song, i have but one song one song, only f...\n",
       "361  snow white                         goodbye. goodbye, grumpy. \n",
       "362   goodbye.                               oh, dopey. goodbye ! \n",
       "363      chorus  some day when spring is here we'll find our lo..."
      ]
     },
     "execution_count": 115,
     "metadata": {},
     "output_type": "execute_result"
    }
   ],
   "source": [
    "snow_white[[\"Speaker\", \"Text\"]].iloc[360:364]"
   ]
  },
  {
   "cell_type": "code",
   "execution_count": 118,
   "metadata": {},
   "outputs": [],
   "source": [
    "line_361 = snow_white[\"Text\"].iloc[361]\n",
    "line_362a = snow_white[\"Speaker\"].iloc[362]\n",
    "line_362 = snow_white[\"Text\"].iloc[362]\n",
    "snow_white[\"Text\"].iloc[361] = line_361 + line_362a + line_362"
   ]
  },
  {
   "cell_type": "code",
   "execution_count": 119,
   "metadata": {},
   "outputs": [
    {
     "data": {
      "text/plain": [
       "'goodbye. goodbye, grumpy.  goodbye. oh, dopey. goodbye ! '"
      ]
     },
     "execution_count": 119,
     "metadata": {},
     "output_type": "execute_result"
    }
   ],
   "source": [
    "snow_white[\"Text\"].iloc[361]"
   ]
  },
  {
   "cell_type": "code",
   "execution_count": 123,
   "metadata": {},
   "outputs": [
    {
     "data": {
      "text/plain": [
       "level_0                                                           362\n",
       "index                                                             363\n",
       "Disney_Period                                                   EARLY\n",
       "Gender                                                            NaN\n",
       "Movie                                                      Snow White\n",
       "Role                                                              NaN\n",
       "Song                                                              NaN\n",
       "Speaker                                                    snow white\n",
       "Speaker_Status                                               PRINCESS\n",
       "Start_Scene                                                       NaN\n",
       "Text                goodbye. goodbye, grumpy.  goodbye. oh, dopey....\n",
       "UTTERANCE_NUMBER                                                  364\n",
       "Year                                                             1937\n",
       "Name: 361, dtype: object"
      ]
     },
     "execution_count": 123,
     "metadata": {},
     "output_type": "execute_result"
    }
   ],
   "source": [
    "snow_white.iloc[361]"
   ]
  },
  {
   "cell_type": "code",
   "execution_count": 124,
   "metadata": {},
   "outputs": [
    {
     "data": {
      "text/plain": [
       "360    one song, i have but one song one song, only f...\n",
       "361    goodbye. goodbye, grumpy.  goodbye. oh, dopey....\n",
       "363    some day when spring is here we'll find our lo...\n",
       "Name: Text, dtype: object"
      ]
     },
     "execution_count": 124,
     "metadata": {},
     "output_type": "execute_result"
    }
   ],
   "source": [
    "snow_white.drop(index = 362, inplace = True)"
   ]
  },
  {
   "cell_type": "code",
   "execution_count": 126,
   "metadata": {},
   "outputs": [
    {
     "data": {
      "text/plain": [
       "360    one song, i have but one song one song, only f...\n",
       "361    goodbye. goodbye, grumpy.  goodbye. oh, dopey....\n",
       "362    some day when spring is here we'll find our lo...\n",
       "Name: Text, dtype: object"
      ]
     },
     "execution_count": 126,
     "metadata": {},
     "output_type": "execute_result"
    }
   ],
   "source": [
    "snow_white.reset_index(drop=True,inplace = True)\n",
    "snow_white[\"Text\"].iloc[360:]"
   ]
  },
  {
   "cell_type": "markdown",
   "metadata": {},
   "source": [
    "2) Adding columns\n",
    "\n",
    "Gender"
   ]
  },
  {
   "cell_type": "code",
   "execution_count": 132,
   "metadata": {},
   "outputs": [
    {
     "data": {
      "text/plain": [
       "array(['queen', 'mirror', 'snow white', 'prince', 'guard', 'all dwarfs',\n",
       "       'doc', 'happy', 'bashful', 'dopey', 'grumpy', 'sneey', 'sneezy',\n",
       "       'various dwarfs', 'sleepy', 'grumpy & sneezy', 'chorus'],\n",
       "      dtype=object)"
      ]
     },
     "execution_count": 132,
     "metadata": {},
     "output_type": "execute_result"
    }
   ],
   "source": [
    "#characters list:\n",
    "snow_white[\"Speaker\"].unique()"
   ]
  },
  {
   "cell_type": "code",
   "execution_count": 133,
   "metadata": {},
   "outputs": [
    {
     "name": "stdout",
     "output_type": "stream",
     "text": [
      "queen\n",
      "mirror\n",
      "snow white\n",
      "prince\n",
      "guard\n",
      "all dwarfs\n",
      "doc\n",
      "happy\n",
      "bashful\n",
      "dopey\n",
      "grumpy\n",
      "sneey\n",
      "sneezy\n",
      "various dwarfs\n",
      "sleepy\n",
      "grumpy & sneezy\n",
      "chorus\n"
     ]
    }
   ],
   "source": [
    "for person in snow_white[\"Speaker\"].unique():\n",
    "    print(person)"
   ]
  },
  {
   "cell_type": "markdown",
   "metadata": {},
   "source": [
    "there's a typo in the characters: 'sneey' should be 'sneezy'"
   ]
  },
  {
   "cell_type": "code",
   "execution_count": 136,
   "metadata": {},
   "outputs": [
    {
     "name": "stdout",
     "output_type": "stream",
     "text": [
      "77    sneey\n",
      "Name: Speaker, dtype: object\n"
     ]
    }
   ],
   "source": [
    "for speaker in snow_white[\"Speaker\"]:\n",
    "    if speaker == 'sneey':\n",
    "        print(snow_white[\"Speaker\"][snow_white.Speaker == \"sneey\"])"
   ]
  },
  {
   "cell_type": "code",
   "execution_count": 138,
   "metadata": {},
   "outputs": [],
   "source": [
    "snow_white[\"Speaker\"].iloc[77] = 'sneezy'"
   ]
  },
  {
   "cell_type": "code",
   "execution_count": 139,
   "metadata": {},
   "outputs": [
    {
     "data": {
      "text/plain": [
       "'sneezy'"
      ]
     },
     "execution_count": 139,
     "metadata": {},
     "output_type": "execute_result"
    }
   ],
   "source": [
    "snow_white[\"Speaker\"].iloc[77]"
   ]
  },
  {
   "cell_type": "code",
   "execution_count": 141,
   "metadata": {},
   "outputs": [
    {
     "data": {
      "text/plain": [
       "array(['queen', 'mirror', 'snow white', 'prince', 'guard', 'all dwarfs',\n",
       "       'doc', 'happy', 'bashful', 'dopey', 'grumpy', 'sneezy',\n",
       "       'various dwarfs', 'sleepy', 'grumpy & sneezy', 'chorus'],\n",
       "      dtype=object)"
      ]
     },
     "execution_count": 141,
     "metadata": {},
     "output_type": "execute_result"
    }
   ],
   "source": [
    "snow_white[\"Speaker\"].unique()"
   ]
  },
  {
   "cell_type": "code",
   "execution_count": 76,
   "metadata": {},
   "outputs": [],
   "source": [
    "import functools"
   ]
  },
  {
   "cell_type": "code",
   "execution_count": 77,
   "metadata": {},
   "outputs": [],
   "source": [
    "from functools import partial\n",
    "#this allows me to map a column to the whichgen function\n",
    "#and use predetermined fixed arguments for male/female character lists"
   ]
  },
  {
   "cell_type": "code",
   "execution_count": 148,
   "metadata": {},
   "outputs": [],
   "source": [
    "# Making Gender Lists\n",
    "sw_female = ['queen', 'snow white']\n",
    "sw_male = ['mirror', 'prince', 'guard', 'all dwarfs', 'doc', 'happy', 'bashful', 'dopey', \n",
    "           'grumpy', 'sneezy', 'various dwarfs', 'sleepy', 'grumpy & sneezy']\n",
    "gender_func = partial(whichgen, female = sw_female, male=sw_male)\n",
    "snow_white[\"Gender\"] = snow_white.Speaker.map(gender_func)"
   ]
  },
  {
   "cell_type": "code",
   "execution_count": 149,
   "metadata": {},
   "outputs": [
    {
     "data": {
      "text/html": [
       "<div>\n",
       "<style scoped>\n",
       "    .dataframe tbody tr th:only-of-type {\n",
       "        vertical-align: middle;\n",
       "    }\n",
       "\n",
       "    .dataframe tbody tr th {\n",
       "        vertical-align: top;\n",
       "    }\n",
       "\n",
       "    .dataframe thead th {\n",
       "        text-align: right;\n",
       "    }\n",
       "</style>\n",
       "<table border=\"1\" class=\"dataframe\">\n",
       "  <thead>\n",
       "    <tr style=\"text-align: right;\">\n",
       "      <th></th>\n",
       "      <th>level_0</th>\n",
       "      <th>index</th>\n",
       "      <th>Disney_Period</th>\n",
       "      <th>Gender</th>\n",
       "      <th>Movie</th>\n",
       "      <th>Role</th>\n",
       "      <th>Song</th>\n",
       "      <th>Speaker</th>\n",
       "      <th>Speaker_Status</th>\n",
       "      <th>Start_Scene</th>\n",
       "      <th>Text</th>\n",
       "      <th>UTTERANCE_NUMBER</th>\n",
       "      <th>Year</th>\n",
       "    </tr>\n",
       "  </thead>\n",
       "  <tbody>\n",
       "    <tr>\n",
       "      <th>0</th>\n",
       "      <td>0</td>\n",
       "      <td>0</td>\n",
       "      <td>EARLY</td>\n",
       "      <td>f</td>\n",
       "      <td>Snow White</td>\n",
       "      <td>NaN</td>\n",
       "      <td>NaN</td>\n",
       "      <td>queen</td>\n",
       "      <td>NON-P</td>\n",
       "      <td>NaN</td>\n",
       "      <td>slave in the magic mirror come from the farthe...</td>\n",
       "      <td>1</td>\n",
       "      <td>1937</td>\n",
       "    </tr>\n",
       "    <tr>\n",
       "      <th>1</th>\n",
       "      <td>1</td>\n",
       "      <td>1</td>\n",
       "      <td>EARLY</td>\n",
       "      <td>m</td>\n",
       "      <td>Snow White</td>\n",
       "      <td>NaN</td>\n",
       "      <td>NaN</td>\n",
       "      <td>mirror</td>\n",
       "      <td>NON-P</td>\n",
       "      <td>NaN</td>\n",
       "      <td>what wouldst thou know, my queen ?</td>\n",
       "      <td>2</td>\n",
       "      <td>1937</td>\n",
       "    </tr>\n",
       "    <tr>\n",
       "      <th>2</th>\n",
       "      <td>2</td>\n",
       "      <td>2</td>\n",
       "      <td>EARLY</td>\n",
       "      <td>f</td>\n",
       "      <td>Snow White</td>\n",
       "      <td>NaN</td>\n",
       "      <td>NaN</td>\n",
       "      <td>queen</td>\n",
       "      <td>NON-P</td>\n",
       "      <td>NaN</td>\n",
       "      <td>magic mirror on the wall, who is the fairest o...</td>\n",
       "      <td>3</td>\n",
       "      <td>1937</td>\n",
       "    </tr>\n",
       "    <tr>\n",
       "      <th>3</th>\n",
       "      <td>3</td>\n",
       "      <td>3</td>\n",
       "      <td>EARLY</td>\n",
       "      <td>m</td>\n",
       "      <td>Snow White</td>\n",
       "      <td>NaN</td>\n",
       "      <td>NaN</td>\n",
       "      <td>mirror</td>\n",
       "      <td>NON-P</td>\n",
       "      <td>NaN</td>\n",
       "      <td>famed is thy beauty, majesty. but hold, a love...</td>\n",
       "      <td>4</td>\n",
       "      <td>1937</td>\n",
       "    </tr>\n",
       "    <tr>\n",
       "      <th>4</th>\n",
       "      <td>4</td>\n",
       "      <td>4</td>\n",
       "      <td>EARLY</td>\n",
       "      <td>f</td>\n",
       "      <td>Snow White</td>\n",
       "      <td>NaN</td>\n",
       "      <td>NaN</td>\n",
       "      <td>queen</td>\n",
       "      <td>NON-P</td>\n",
       "      <td>NaN</td>\n",
       "      <td>alas for her ! reveal her name.</td>\n",
       "      <td>5</td>\n",
       "      <td>1937</td>\n",
       "    </tr>\n",
       "  </tbody>\n",
       "</table>\n",
       "</div>"
      ],
      "text/plain": [
       "   level_0  index Disney_Period Gender       Movie Role Song Speaker  \\\n",
       "0        0      0         EARLY      f  Snow White  NaN  NaN   queen   \n",
       "1        1      1         EARLY      m  Snow White  NaN  NaN  mirror   \n",
       "2        2      2         EARLY      f  Snow White  NaN  NaN   queen   \n",
       "3        3      3         EARLY      m  Snow White  NaN  NaN  mirror   \n",
       "4        4      4         EARLY      f  Snow White  NaN  NaN   queen   \n",
       "\n",
       "  Speaker_Status Start_Scene  \\\n",
       "0          NON-P         NaN   \n",
       "1          NON-P         NaN   \n",
       "2          NON-P         NaN   \n",
       "3          NON-P         NaN   \n",
       "4          NON-P         NaN   \n",
       "\n",
       "                                                Text  UTTERANCE_NUMBER  Year  \n",
       "0  slave in the magic mirror come from the farthe...                 1  1937  \n",
       "1                what wouldst thou know, my queen ?                  2  1937  \n",
       "2  magic mirror on the wall, who is the fairest o...                 3  1937  \n",
       "3  famed is thy beauty, majesty. but hold, a love...                 4  1937  \n",
       "4                   alas for her ! reveal her name.                  5  1937  "
      ]
     },
     "execution_count": 149,
     "metadata": {},
     "output_type": "execute_result"
    }
   ],
   "source": [
    "snow_white.head()"
   ]
  },
  {
   "cell_type": "code",
   "execution_count": 150,
   "metadata": {},
   "outputs": [],
   "source": [
    "snow_white.drop(columns=['level_0', 'index'], inplace=True)"
   ]
  },
  {
   "cell_type": "code",
   "execution_count": 151,
   "metadata": {},
   "outputs": [
    {
     "data": {
      "text/html": [
       "<div>\n",
       "<style scoped>\n",
       "    .dataframe tbody tr th:only-of-type {\n",
       "        vertical-align: middle;\n",
       "    }\n",
       "\n",
       "    .dataframe tbody tr th {\n",
       "        vertical-align: top;\n",
       "    }\n",
       "\n",
       "    .dataframe thead th {\n",
       "        text-align: right;\n",
       "    }\n",
       "</style>\n",
       "<table border=\"1\" class=\"dataframe\">\n",
       "  <thead>\n",
       "    <tr style=\"text-align: right;\">\n",
       "      <th></th>\n",
       "      <th>Disney_Period</th>\n",
       "      <th>Gender</th>\n",
       "      <th>Movie</th>\n",
       "      <th>Role</th>\n",
       "      <th>Song</th>\n",
       "      <th>Speaker</th>\n",
       "      <th>Speaker_Status</th>\n",
       "      <th>Start_Scene</th>\n",
       "      <th>Text</th>\n",
       "      <th>UTTERANCE_NUMBER</th>\n",
       "      <th>Year</th>\n",
       "    </tr>\n",
       "  </thead>\n",
       "  <tbody>\n",
       "    <tr>\n",
       "      <th>0</th>\n",
       "      <td>EARLY</td>\n",
       "      <td>f</td>\n",
       "      <td>Snow White</td>\n",
       "      <td>NaN</td>\n",
       "      <td>NaN</td>\n",
       "      <td>queen</td>\n",
       "      <td>NON-P</td>\n",
       "      <td>NaN</td>\n",
       "      <td>slave in the magic mirror come from the farthe...</td>\n",
       "      <td>1</td>\n",
       "      <td>1937</td>\n",
       "    </tr>\n",
       "    <tr>\n",
       "      <th>1</th>\n",
       "      <td>EARLY</td>\n",
       "      <td>m</td>\n",
       "      <td>Snow White</td>\n",
       "      <td>NaN</td>\n",
       "      <td>NaN</td>\n",
       "      <td>mirror</td>\n",
       "      <td>NON-P</td>\n",
       "      <td>NaN</td>\n",
       "      <td>what wouldst thou know, my queen ?</td>\n",
       "      <td>2</td>\n",
       "      <td>1937</td>\n",
       "    </tr>\n",
       "    <tr>\n",
       "      <th>2</th>\n",
       "      <td>EARLY</td>\n",
       "      <td>f</td>\n",
       "      <td>Snow White</td>\n",
       "      <td>NaN</td>\n",
       "      <td>NaN</td>\n",
       "      <td>queen</td>\n",
       "      <td>NON-P</td>\n",
       "      <td>NaN</td>\n",
       "      <td>magic mirror on the wall, who is the fairest o...</td>\n",
       "      <td>3</td>\n",
       "      <td>1937</td>\n",
       "    </tr>\n",
       "    <tr>\n",
       "      <th>3</th>\n",
       "      <td>EARLY</td>\n",
       "      <td>m</td>\n",
       "      <td>Snow White</td>\n",
       "      <td>NaN</td>\n",
       "      <td>NaN</td>\n",
       "      <td>mirror</td>\n",
       "      <td>NON-P</td>\n",
       "      <td>NaN</td>\n",
       "      <td>famed is thy beauty, majesty. but hold, a love...</td>\n",
       "      <td>4</td>\n",
       "      <td>1937</td>\n",
       "    </tr>\n",
       "    <tr>\n",
       "      <th>4</th>\n",
       "      <td>EARLY</td>\n",
       "      <td>f</td>\n",
       "      <td>Snow White</td>\n",
       "      <td>NaN</td>\n",
       "      <td>NaN</td>\n",
       "      <td>queen</td>\n",
       "      <td>NON-P</td>\n",
       "      <td>NaN</td>\n",
       "      <td>alas for her ! reveal her name.</td>\n",
       "      <td>5</td>\n",
       "      <td>1937</td>\n",
       "    </tr>\n",
       "  </tbody>\n",
       "</table>\n",
       "</div>"
      ],
      "text/plain": [
       "  Disney_Period Gender       Movie Role Song Speaker Speaker_Status  \\\n",
       "0         EARLY      f  Snow White  NaN  NaN   queen          NON-P   \n",
       "1         EARLY      m  Snow White  NaN  NaN  mirror          NON-P   \n",
       "2         EARLY      f  Snow White  NaN  NaN   queen          NON-P   \n",
       "3         EARLY      m  Snow White  NaN  NaN  mirror          NON-P   \n",
       "4         EARLY      f  Snow White  NaN  NaN   queen          NON-P   \n",
       "\n",
       "  Start_Scene                                               Text  \\\n",
       "0         NaN  slave in the magic mirror come from the farthe...   \n",
       "1         NaN                what wouldst thou know, my queen ?    \n",
       "2         NaN  magic mirror on the wall, who is the fairest o...   \n",
       "3         NaN  famed is thy beauty, majesty. but hold, a love...   \n",
       "4         NaN                   alas for her ! reveal her name.    \n",
       "\n",
       "   UTTERANCE_NUMBER  Year  \n",
       "0                 1  1937  \n",
       "1                 2  1937  \n",
       "2                 3  1937  \n",
       "3                 4  1937  \n",
       "4                 5  1937  "
      ]
     },
     "execution_count": 151,
     "metadata": {},
     "output_type": "execute_result"
    }
   ],
   "source": [
    "snow_white.head()"
   ]
  },
  {
   "cell_type": "code",
   "execution_count": 152,
   "metadata": {},
   "outputs": [],
   "source": [
    "#check no null values in Gender"
   ]
  },
  {
   "cell_type": "code",
   "execution_count": 153,
   "metadata": {},
   "outputs": [
    {
     "name": "stdout",
     "output_type": "stream",
     "text": [
      "<class 'pandas.core.frame.DataFrame'>\n",
      "RangeIndex: 363 entries, 0 to 362\n",
      "Data columns (total 11 columns):\n",
      "Disney_Period       363 non-null object\n",
      "Gender              363 non-null object\n",
      "Movie               363 non-null object\n",
      "Role                0 non-null object\n",
      "Song                0 non-null object\n",
      "Speaker             363 non-null object\n",
      "Speaker_Status      363 non-null object\n",
      "Start_Scene         0 non-null object\n",
      "Text                363 non-null object\n",
      "UTTERANCE_NUMBER    363 non-null int64\n",
      "Year                363 non-null int64\n",
      "dtypes: int64(2), object(9)\n",
      "memory usage: 18.5+ KB\n"
     ]
    }
   ],
   "source": [
    "snow_white.info()"
   ]
  },
  {
   "cell_type": "markdown",
   "metadata": {},
   "source": [
    "Roles"
   ]
  },
  {
   "cell_type": "code",
   "execution_count": 155,
   "metadata": {},
   "outputs": [
    {
     "data": {
      "text/plain": [
       "array(['queen', 'mirror', 'snow white', 'prince', 'guard', 'all dwarfs',\n",
       "       'doc', 'happy', 'bashful', 'dopey', 'grumpy', 'sneezy',\n",
       "       'various dwarfs', 'sleepy', 'grumpy & sneezy', 'chorus'],\n",
       "      dtype=object)"
      ]
     },
     "execution_count": 155,
     "metadata": {},
     "output_type": "execute_result"
    }
   ],
   "source": [
    "snow_white.Speaker.unique()"
   ]
  },
  {
   "cell_type": "code",
   "execution_count": 156,
   "metadata": {},
   "outputs": [],
   "source": [
    "#Make Roles lists\n",
    "sw_pro = ['snow white', 'prince']\n",
    "sw_ant = ['queen', 'mirror', 'guard']\n",
    "sw_helper = ['all dwarfs', 'doc', 'happy', 'bashful', 'dopey', 'grumpy', 'sneezy', 'various dwarfs', \n",
    "             'sleepy', 'grumpy & sneezy']"
   ]
  },
  {
   "cell_type": "code",
   "execution_count": 157,
   "metadata": {},
   "outputs": [],
   "source": [
    "role_func = partial(whichrole, pro = sw_pro, ant = sw_ant, helper = sw_helper)\n",
    "snow_white[\"Role\"] = snow_white.Speaker.map(role_func)"
   ]
  },
  {
   "cell_type": "code",
   "execution_count": 158,
   "metadata": {},
   "outputs": [
    {
     "name": "stdout",
     "output_type": "stream",
     "text": [
      "<class 'pandas.core.frame.DataFrame'>\n",
      "RangeIndex: 363 entries, 0 to 362\n",
      "Data columns (total 11 columns):\n",
      "Disney_Period       363 non-null object\n",
      "Gender              363 non-null object\n",
      "Movie               363 non-null object\n",
      "Role                363 non-null object\n",
      "Song                0 non-null object\n",
      "Speaker             363 non-null object\n",
      "Speaker_Status      363 non-null object\n",
      "Start_Scene         0 non-null object\n",
      "Text                363 non-null object\n",
      "UTTERANCE_NUMBER    363 non-null int64\n",
      "Year                363 non-null int64\n",
      "dtypes: int64(2), object(9)\n",
      "memory usage: 18.5+ KB\n"
     ]
    }
   ],
   "source": [
    "snow_white.info()"
   ]
  },
  {
   "cell_type": "code",
   "execution_count": 162,
   "metadata": {},
   "outputs": [
    {
     "data": {
      "text/html": [
       "<div>\n",
       "<style scoped>\n",
       "    .dataframe tbody tr th:only-of-type {\n",
       "        vertical-align: middle;\n",
       "    }\n",
       "\n",
       "    .dataframe tbody tr th {\n",
       "        vertical-align: top;\n",
       "    }\n",
       "\n",
       "    .dataframe thead th {\n",
       "        text-align: right;\n",
       "    }\n",
       "</style>\n",
       "<table border=\"1\" class=\"dataframe\">\n",
       "  <thead>\n",
       "    <tr style=\"text-align: right;\">\n",
       "      <th></th>\n",
       "      <th>Disney_Period</th>\n",
       "      <th>Gender</th>\n",
       "      <th>Movie</th>\n",
       "      <th>Role</th>\n",
       "      <th>Song</th>\n",
       "      <th>Speaker</th>\n",
       "      <th>Speaker_Status</th>\n",
       "      <th>Start_Scene</th>\n",
       "      <th>Text</th>\n",
       "      <th>UTTERANCE_NUMBER</th>\n",
       "      <th>Year</th>\n",
       "    </tr>\n",
       "  </thead>\n",
       "  <tbody>\n",
       "    <tr>\n",
       "      <th>315</th>\n",
       "      <td>EARLY</td>\n",
       "      <td>f</td>\n",
       "      <td>Snow White</td>\n",
       "      <td>PRO</td>\n",
       "      <td>NaN</td>\n",
       "      <td>snow white</td>\n",
       "      <td>PRINCESS</td>\n",
       "      <td>NaN</td>\n",
       "      <td>hmm ?</td>\n",
       "      <td>318</td>\n",
       "      <td>1937</td>\n",
       "    </tr>\n",
       "    <tr>\n",
       "      <th>28</th>\n",
       "      <td>EARLY</td>\n",
       "      <td>m</td>\n",
       "      <td>Snow White</td>\n",
       "      <td>ANT</td>\n",
       "      <td>NaN</td>\n",
       "      <td>guard</td>\n",
       "      <td>NON-P</td>\n",
       "      <td>NaN</td>\n",
       "      <td>now, quick, child, run! run away, hide! in the...</td>\n",
       "      <td>29</td>\n",
       "      <td>1937</td>\n",
       "    </tr>\n",
       "    <tr>\n",
       "      <th>238</th>\n",
       "      <td>EARLY</td>\n",
       "      <td>m</td>\n",
       "      <td>Snow White</td>\n",
       "      <td>HELPER</td>\n",
       "      <td>NaN</td>\n",
       "      <td>sneezy</td>\n",
       "      <td>NON-P</td>\n",
       "      <td>NaN</td>\n",
       "      <td>be careful. watch out. bebe carewatch it ! wat...</td>\n",
       "      <td>240</td>\n",
       "      <td>1937</td>\n",
       "    </tr>\n",
       "    <tr>\n",
       "      <th>247</th>\n",
       "      <td>EARLY</td>\n",
       "      <td>m</td>\n",
       "      <td>Snow White</td>\n",
       "      <td>HELPER</td>\n",
       "      <td>NaN</td>\n",
       "      <td>bashful</td>\n",
       "      <td>NON-P</td>\n",
       "      <td>NaN</td>\n",
       "      <td>a love story.</td>\n",
       "      <td>249</td>\n",
       "      <td>1937</td>\n",
       "    </tr>\n",
       "    <tr>\n",
       "      <th>264</th>\n",
       "      <td>EARLY</td>\n",
       "      <td>m</td>\n",
       "      <td>Snow White</td>\n",
       "      <td>HELPER</td>\n",
       "      <td>NaN</td>\n",
       "      <td>doc</td>\n",
       "      <td>NON-P</td>\n",
       "      <td>NaN</td>\n",
       "      <td>oh, we'll be quite comfortable down here... in...</td>\n",
       "      <td>266</td>\n",
       "      <td>1937</td>\n",
       "    </tr>\n",
       "  </tbody>\n",
       "</table>\n",
       "</div>"
      ],
      "text/plain": [
       "    Disney_Period Gender       Movie    Role Song     Speaker Speaker_Status  \\\n",
       "315         EARLY      f  Snow White     PRO  NaN  snow white       PRINCESS   \n",
       "28          EARLY      m  Snow White     ANT  NaN       guard          NON-P   \n",
       "238         EARLY      m  Snow White  HELPER  NaN      sneezy          NON-P   \n",
       "247         EARLY      m  Snow White  HELPER  NaN     bashful          NON-P   \n",
       "264         EARLY      m  Snow White  HELPER  NaN         doc          NON-P   \n",
       "\n",
       "    Start_Scene                                               Text  \\\n",
       "315         NaN                                             hmm ?    \n",
       "28          NaN  now, quick, child, run! run away, hide! in the...   \n",
       "238         NaN  be careful. watch out. bebe carewatch it ! wat...   \n",
       "247         NaN                                     a love story.    \n",
       "264         NaN  oh, we'll be quite comfortable down here... in...   \n",
       "\n",
       "     UTTERANCE_NUMBER  Year  \n",
       "315               318  1937  \n",
       "28                 29  1937  \n",
       "238               240  1937  \n",
       "247               249  1937  \n",
       "264               266  1937  "
      ]
     },
     "execution_count": 162,
     "metadata": {},
     "output_type": "execute_result"
    }
   ],
   "source": [
    "snow_white.sample(5)"
   ]
  },
  {
   "cell_type": "markdown",
   "metadata": {},
   "source": [
    "Finding songs:\n",
    "\n",
    "Anything uttered by 'chorus' will be a song, but snow white, the dwarfs, and the prince also sing"
   ]
  },
  {
   "cell_type": "code",
   "execution_count": 164,
   "metadata": {},
   "outputs": [
    {
     "data": {
      "text/html": [
       "<div>\n",
       "<style scoped>\n",
       "    .dataframe tbody tr th:only-of-type {\n",
       "        vertical-align: middle;\n",
       "    }\n",
       "\n",
       "    .dataframe tbody tr th {\n",
       "        vertical-align: top;\n",
       "    }\n",
       "\n",
       "    .dataframe thead th {\n",
       "        text-align: right;\n",
       "    }\n",
       "</style>\n",
       "<table border=\"1\" class=\"dataframe\">\n",
       "  <thead>\n",
       "    <tr style=\"text-align: right;\">\n",
       "      <th></th>\n",
       "      <th>Speaker</th>\n",
       "      <th>Text</th>\n",
       "    </tr>\n",
       "  </thead>\n",
       "  <tbody>\n",
       "    <tr>\n",
       "      <th>360</th>\n",
       "      <td>chorus</td>\n",
       "      <td>one song, i have but one song one song, only f...</td>\n",
       "    </tr>\n",
       "    <tr>\n",
       "      <th>362</th>\n",
       "      <td>chorus</td>\n",
       "      <td>some day when spring is here we'll find our lo...</td>\n",
       "    </tr>\n",
       "  </tbody>\n",
       "</table>\n",
       "</div>"
      ],
      "text/plain": [
       "    Speaker                                               Text\n",
       "360  chorus  one song, i have but one song one song, only f...\n",
       "362  chorus  some day when spring is here we'll find our lo..."
      ]
     },
     "execution_count": 164,
     "metadata": {},
     "output_type": "execute_result"
    }
   ],
   "source": [
    "snow_white[[\"Speaker\", \"Text\"]][snow_white.Speaker == 'chorus']"
   ]
  },
  {
   "cell_type": "code",
   "execution_count": 188,
   "metadata": {},
   "outputs": [
    {
     "name": "stdout",
     "output_type": "stream",
     "text": [
      "Empty DataFrame\n",
      "Columns: [Speaker, Text]\n",
      "Index: []\n",
      "      Speaker                                               Text\n",
      "7  snow white  want to know a secret ? promise not to tell ? ...\n",
      "        Speaker                                               Text\n",
      "258       happy  he was so romantic i could not resist some day...\n",
      "260  snow white  some day when spring is here we'll find our lo...\n",
      "304  snow white  some day my prince will come some day we'll me...\n",
      "362      chorus  some day when spring is here we'll find our lo...\n",
      "       Speaker                                               Text\n",
      "30  snow white  oh ! you sing a song ! ahahahahahh with a smil...\n",
      "31  snow white  with a smile and a song all the world seems to...\n",
      "33  snow white                           with a smile and a song \n",
      "        Speaker                                               Text\n",
      "12       prince  did i frighten you ? wait. wait, please. don't...\n",
      "20   snow white                      one song i have but one song \n",
      "359      prince                                          one song \n",
      "360      chorus  one song, i have but one song one song, only f...\n",
      "       Speaker                                               Text\n",
      "44  all dwarfs  we dig, dig, dig, dig dig, dig, dig in our min...\n",
      "47  all dwarfs         shine we dig, dig, dig, dig dig, dig, dig \n",
      "49  all dwarfs  we dig, dig, dig, dig dig, dig, dig up everyth...\n",
      "50  all dwarfs  a thousand rubies sometimes more though we don...\n",
      "51  all dwarfs  we dig, dig digadig, dig heighho, heighho, hei...\n",
      "        Speaker                                               Text\n",
      "51   all dwarfs  we dig, dig digadig, dig heighho, heighho, hei...\n",
      "52   all dwarfs  heighho, heighho heighho, heighho, heighho, he...\n",
      "53   all dwarfs  heighho, heighho, heighho, heighho, heighho it...\n",
      "57   all dwarfs  heighho, heighho heighho, heighho heighho, hei...\n",
      "58   all dwarfs  heighho, heighho heighho, heighho, heighho it'...\n",
      "59   all dwarfs  heighho, heighho heighho, heighho, heighho it'...\n",
      "60   all dwarfs  heighho, heighho heighho, heighho it's home fr...\n",
      "61   all dwarfs                            heighho, heighho heigh \n",
      "296  snow white   heighho, heighho it's off to work we go heighho \n",
      "321       queen  heighho, heighho heighho, heighho it's off to ...\n",
      "Empty DataFrame\n",
      "Columns: [Speaker, Text]\n",
      "Index: []\n"
     ]
    }
   ],
   "source": [
    "#searching for some song key words in snow white\n",
    "song_lines = ['one day', 'wishing well', 'some day', 'smile and a song', 'one song', 'dig', 'heighho', 'whistle']\n",
    "for line in song_lines:\n",
    "    print(snow_white[[\"Speaker\", \"Text\"]][snow_white.Text.str.contains(line, regex = False)])"
   ]
  },
  {
   "cell_type": "code",
   "execution_count": 194,
   "metadata": {},
   "outputs": [
    {
     "data": {
      "text/html": [
       "<div>\n",
       "<style scoped>\n",
       "    .dataframe tbody tr th:only-of-type {\n",
       "        vertical-align: middle;\n",
       "    }\n",
       "\n",
       "    .dataframe tbody tr th {\n",
       "        vertical-align: top;\n",
       "    }\n",
       "\n",
       "    .dataframe thead th {\n",
       "        text-align: right;\n",
       "    }\n",
       "</style>\n",
       "<table border=\"1\" class=\"dataframe\">\n",
       "  <thead>\n",
       "    <tr style=\"text-align: right;\">\n",
       "      <th></th>\n",
       "      <th>Speaker</th>\n",
       "      <th>Text</th>\n",
       "    </tr>\n",
       "  </thead>\n",
       "  <tbody>\n",
       "    <tr>\n",
       "      <th>295</th>\n",
       "      <td>snow white</td>\n",
       "      <td>well... all right. but that's the last oh ! go...</td>\n",
       "    </tr>\n",
       "    <tr>\n",
       "      <th>296</th>\n",
       "      <td>snow white</td>\n",
       "      <td>heighho, heighho it's off to work we go heighho</td>\n",
       "    </tr>\n",
       "    <tr>\n",
       "      <th>297</th>\n",
       "      <td>snow white</td>\n",
       "      <td>goodbye. goodbye !</td>\n",
       "    </tr>\n",
       "    <tr>\n",
       "      <th>298</th>\n",
       "      <td>grumpy</td>\n",
       "      <td>now, i'm warnin' ya. don't let nobody or nothi...</td>\n",
       "    </tr>\n",
       "    <tr>\n",
       "      <th>299</th>\n",
       "      <td>snow white</td>\n",
       "      <td>why, grumpy, you do care.</td>\n",
       "    </tr>\n",
       "    <tr>\n",
       "      <th>300</th>\n",
       "      <td>grumpy</td>\n",
       "      <td>huh !</td>\n",
       "    </tr>\n",
       "    <tr>\n",
       "      <th>301</th>\n",
       "      <td>snow white</td>\n",
       "      <td>goodbye, grumpy !</td>\n",
       "    </tr>\n",
       "    <tr>\n",
       "      <th>302</th>\n",
       "      <td>queen</td>\n",
       "      <td>the little men will be away... and she'll be a...</td>\n",
       "    </tr>\n",
       "    <tr>\n",
       "      <th>303</th>\n",
       "      <td>queen</td>\n",
       "      <td>a harmless old peddler woman.</td>\n",
       "    </tr>\n",
       "    <tr>\n",
       "      <th>304</th>\n",
       "      <td>snow white</td>\n",
       "      <td>some day my prince will come some day we'll me...</td>\n",
       "    </tr>\n",
       "    <tr>\n",
       "      <th>305</th>\n",
       "      <td>queen</td>\n",
       "      <td>all alone, my pet ?</td>\n",
       "    </tr>\n",
       "    <tr>\n",
       "      <th>306</th>\n",
       "      <td>snow white</td>\n",
       "      <td>whywhy, yes, i am, but</td>\n",
       "    </tr>\n",
       "    <tr>\n",
       "      <th>307</th>\n",
       "      <td>queen</td>\n",
       "      <td>the... little men are not here ?</td>\n",
       "    </tr>\n",
       "    <tr>\n",
       "      <th>308</th>\n",
       "      <td>snow white</td>\n",
       "      <td>no, they're not, butmmhmm.</td>\n",
       "    </tr>\n",
       "    <tr>\n",
       "      <th>309</th>\n",
       "      <td>queen</td>\n",
       "      <td>makin' pies ?</td>\n",
       "    </tr>\n",
       "    <tr>\n",
       "      <th>310</th>\n",
       "      <td>snow white</td>\n",
       "      <td>yes, gooseberry pie.</td>\n",
       "    </tr>\n",
       "    <tr>\n",
       "      <th>311</th>\n",
       "      <td>queen</td>\n",
       "      <td>it's apple pies that makes the menfolks' mouth...</td>\n",
       "    </tr>\n",
       "    <tr>\n",
       "      <th>312</th>\n",
       "      <td>snow white</td>\n",
       "      <td>oh, they do look delicious.</td>\n",
       "    </tr>\n",
       "    <tr>\n",
       "      <th>313</th>\n",
       "      <td>queen</td>\n",
       "      <td>yes ! but wait 'til you taste one, dearie.</td>\n",
       "    </tr>\n",
       "    <tr>\n",
       "      <th>314</th>\n",
       "      <td>queen</td>\n",
       "      <td>like to try one ?</td>\n",
       "    </tr>\n",
       "    <tr>\n",
       "      <th>315</th>\n",
       "      <td>snow white</td>\n",
       "      <td>hmm ?</td>\n",
       "    </tr>\n",
       "    <tr>\n",
       "      <th>316</th>\n",
       "      <td>queen</td>\n",
       "      <td>go on. go on, have a bite.</td>\n",
       "    </tr>\n",
       "    <tr>\n",
       "      <th>317</th>\n",
       "      <td>queen</td>\n",
       "      <td>ah ! ah !</td>\n",
       "    </tr>\n",
       "    <tr>\n",
       "      <th>318</th>\n",
       "      <td>snow white</td>\n",
       "      <td>stop it, stop it. go away, go away. shame on y...</td>\n",
       "    </tr>\n",
       "    <tr>\n",
       "      <th>319</th>\n",
       "      <td>snow white</td>\n",
       "      <td>oh, i thought i lost it. there, there. i'm sor...</td>\n",
       "    </tr>\n",
       "    <tr>\n",
       "      <th>320</th>\n",
       "      <td>queen</td>\n",
       "      <td>oh ! my heart ! oh, mymy poor heart. take me i...</td>\n",
       "    </tr>\n",
       "    <tr>\n",
       "      <th>321</th>\n",
       "      <td>queen</td>\n",
       "      <td>heighho, heighho heighho, heighho it's off to ...</td>\n",
       "    </tr>\n",
       "    <tr>\n",
       "      <th>322</th>\n",
       "      <td>doc</td>\n",
       "      <td>hey, look !</td>\n",
       "    </tr>\n",
       "    <tr>\n",
       "      <th>323</th>\n",
       "      <td>various dwarfs</td>\n",
       "      <td>stop that. get away ! get away ! go on, shoo !</td>\n",
       "    </tr>\n",
       "    <tr>\n",
       "      <th>324</th>\n",
       "      <td>grumpy</td>\n",
       "      <td>go on, get outta here !</td>\n",
       "    </tr>\n",
       "    <tr>\n",
       "      <th>...</th>\n",
       "      <td>...</td>\n",
       "      <td>...</td>\n",
       "    </tr>\n",
       "    <tr>\n",
       "      <th>333</th>\n",
       "      <td>grumpy</td>\n",
       "      <td>'tain't natural. there's something wrong ! the...</td>\n",
       "    </tr>\n",
       "    <tr>\n",
       "      <th>334</th>\n",
       "      <td>sleepy</td>\n",
       "      <td>maybe the old queen's got snow white.</td>\n",
       "    </tr>\n",
       "    <tr>\n",
       "      <th>335</th>\n",
       "      <td>doc</td>\n",
       "      <td>the queen !</td>\n",
       "    </tr>\n",
       "    <tr>\n",
       "      <th>336</th>\n",
       "      <td>all dwarfs</td>\n",
       "      <td>snow white !</td>\n",
       "    </tr>\n",
       "    <tr>\n",
       "      <th>337</th>\n",
       "      <td>grumpy</td>\n",
       "      <td>the queen will kill her ! we gotta save her !</td>\n",
       "    </tr>\n",
       "    <tr>\n",
       "      <th>338</th>\n",
       "      <td>doc</td>\n",
       "      <td>yes, yes, wewe gotta save her !</td>\n",
       "    </tr>\n",
       "    <tr>\n",
       "      <th>339</th>\n",
       "      <td>happy</td>\n",
       "      <td>what'll we do ?</td>\n",
       "    </tr>\n",
       "    <tr>\n",
       "      <th>340</th>\n",
       "      <td>doc</td>\n",
       "      <td>yes, wwhat'll we do ?</td>\n",
       "    </tr>\n",
       "    <tr>\n",
       "      <th>341</th>\n",
       "      <td>grumpy</td>\n",
       "      <td>come on ! giddap !</td>\n",
       "    </tr>\n",
       "    <tr>\n",
       "      <th>342</th>\n",
       "      <td>doc</td>\n",
       "      <td>wait for me !</td>\n",
       "    </tr>\n",
       "    <tr>\n",
       "      <th>343</th>\n",
       "      <td>queen</td>\n",
       "      <td>there must be something your little heart desi...</td>\n",
       "    </tr>\n",
       "    <tr>\n",
       "      <th>344</th>\n",
       "      <td>snow white</td>\n",
       "      <td>well, there is someone.</td>\n",
       "    </tr>\n",
       "    <tr>\n",
       "      <th>345</th>\n",
       "      <td>queen</td>\n",
       "      <td>i thought so. i thought so. old granny knows a...</td>\n",
       "    </tr>\n",
       "    <tr>\n",
       "      <th>346</th>\n",
       "      <td>snow white</td>\n",
       "      <td>i wish i wish</td>\n",
       "    </tr>\n",
       "    <tr>\n",
       "      <th>347</th>\n",
       "      <td>queen</td>\n",
       "      <td>that's it. go on. go on.</td>\n",
       "    </tr>\n",
       "    <tr>\n",
       "      <th>348</th>\n",
       "      <td>snow white</td>\n",
       "      <td>...and that he will carry me away to his castl...</td>\n",
       "    </tr>\n",
       "    <tr>\n",
       "      <th>349</th>\n",
       "      <td>queen</td>\n",
       "      <td>fine ! fine ! now, take a bite. don't let the ...</td>\n",
       "    </tr>\n",
       "    <tr>\n",
       "      <th>350</th>\n",
       "      <td>snow white</td>\n",
       "      <td>oh ! i feel strange.</td>\n",
       "    </tr>\n",
       "    <tr>\n",
       "      <th>351</th>\n",
       "      <td>queen</td>\n",
       "      <td>her breath will still.</td>\n",
       "    </tr>\n",
       "    <tr>\n",
       "      <th>352</th>\n",
       "      <td>snow white</td>\n",
       "      <td>oh.</td>\n",
       "    </tr>\n",
       "    <tr>\n",
       "      <th>353</th>\n",
       "      <td>queen</td>\n",
       "      <td>her blood congeal.</td>\n",
       "    </tr>\n",
       "    <tr>\n",
       "      <th>354</th>\n",
       "      <td>snow white</td>\n",
       "      <td>oh.</td>\n",
       "    </tr>\n",
       "    <tr>\n",
       "      <th>355</th>\n",
       "      <td>queen</td>\n",
       "      <td>now i'll be fairest in the land !</td>\n",
       "    </tr>\n",
       "    <tr>\n",
       "      <th>356</th>\n",
       "      <td>grumpy</td>\n",
       "      <td>hurry, hurry ! there she goes ! after her !</td>\n",
       "    </tr>\n",
       "    <tr>\n",
       "      <th>357</th>\n",
       "      <td>queen</td>\n",
       "      <td>i'm trapped. what will i do ? the meddling lit...</td>\n",
       "    </tr>\n",
       "    <tr>\n",
       "      <th>358</th>\n",
       "      <td>doc</td>\n",
       "      <td>look out !</td>\n",
       "    </tr>\n",
       "    <tr>\n",
       "      <th>359</th>\n",
       "      <td>prince</td>\n",
       "      <td>one song</td>\n",
       "    </tr>\n",
       "    <tr>\n",
       "      <th>360</th>\n",
       "      <td>chorus</td>\n",
       "      <td>one song, i have but one song one song, only f...</td>\n",
       "    </tr>\n",
       "    <tr>\n",
       "      <th>361</th>\n",
       "      <td>snow white</td>\n",
       "      <td>goodbye. goodbye, grumpy.  goodbye. oh, dopey....</td>\n",
       "    </tr>\n",
       "    <tr>\n",
       "      <th>362</th>\n",
       "      <td>chorus</td>\n",
       "      <td>some day when spring is here we'll find our lo...</td>\n",
       "    </tr>\n",
       "  </tbody>\n",
       "</table>\n",
       "<p>68 rows × 2 columns</p>\n",
       "</div>"
      ],
      "text/plain": [
       "            Speaker                                               Text\n",
       "295      snow white  well... all right. but that's the last oh ! go...\n",
       "296      snow white   heighho, heighho it's off to work we go heighho \n",
       "297      snow white                                goodbye. goodbye ! \n",
       "298          grumpy  now, i'm warnin' ya. don't let nobody or nothi...\n",
       "299      snow white                         why, grumpy, you do care. \n",
       "300          grumpy                                             huh ! \n",
       "301      snow white                                 goodbye, grumpy ! \n",
       "302           queen  the little men will be away... and she'll be a...\n",
       "303           queen                     a harmless old peddler woman. \n",
       "304      snow white  some day my prince will come some day we'll me...\n",
       "305           queen                               all alone, my pet ? \n",
       "306      snow white                            whywhy, yes, i am, but \n",
       "307           queen                  the... little men are not here ? \n",
       "308      snow white                        no, they're not, butmmhmm. \n",
       "309           queen                                     makin' pies ? \n",
       "310      snow white                              yes, gooseberry pie. \n",
       "311           queen  it's apple pies that makes the menfolks' mouth...\n",
       "312      snow white                       oh, they do look delicious. \n",
       "313           queen        yes ! but wait 'til you taste one, dearie. \n",
       "314           queen                                 like to try one ? \n",
       "315      snow white                                             hmm ? \n",
       "316           queen                        go on. go on, have a bite. \n",
       "317           queen                                         ah ! ah ! \n",
       "318      snow white  stop it, stop it. go away, go away. shame on y...\n",
       "319      snow white  oh, i thought i lost it. there, there. i'm sor...\n",
       "320           queen  oh ! my heart ! oh, mymy poor heart. take me i...\n",
       "321           queen  heighho, heighho heighho, heighho it's off to ...\n",
       "322             doc                                       hey, look ! \n",
       "323  various dwarfs    stop that. get away ! get away ! go on, shoo ! \n",
       "324          grumpy                           go on, get outta here ! \n",
       "..              ...                                                ...\n",
       "333          grumpy  'tain't natural. there's something wrong ! the...\n",
       "334          sleepy             maybe the old queen's got snow white. \n",
       "335             doc                                       the queen ! \n",
       "336      all dwarfs                                      snow white ! \n",
       "337          grumpy     the queen will kill her ! we gotta save her ! \n",
       "338             doc                   yes, yes, wewe gotta save her ! \n",
       "339           happy                                   what'll we do ? \n",
       "340             doc                             yes, wwhat'll we do ? \n",
       "341          grumpy                                come on ! giddap ! \n",
       "342             doc                                     wait for me ! \n",
       "343           queen  there must be something your little heart desi...\n",
       "344      snow white                           well, there is someone. \n",
       "345           queen  i thought so. i thought so. old granny knows a...\n",
       "346      snow white                                     i wish i wish \n",
       "347           queen                          that's it. go on. go on. \n",
       "348      snow white  ...and that he will carry me away to his castl...\n",
       "349           queen  fine ! fine ! now, take a bite. don't let the ...\n",
       "350      snow white                              oh ! i feel strange. \n",
       "351           queen                            her breath will still. \n",
       "352      snow white                                               oh. \n",
       "353           queen                                her blood congeal. \n",
       "354      snow white                                               oh. \n",
       "355           queen                 now i'll be fairest in the land ! \n",
       "356          grumpy       hurry, hurry ! there she goes ! after her ! \n",
       "357           queen  i'm trapped. what will i do ? the meddling lit...\n",
       "358             doc                                        look out ! \n",
       "359          prince                                          one song \n",
       "360          chorus  one song, i have but one song one song, only f...\n",
       "361      snow white  goodbye. goodbye, grumpy.  goodbye. oh, dopey....\n",
       "362          chorus  some day when spring is here we'll find our lo...\n",
       "\n",
       "[68 rows x 2 columns]"
      ]
     },
     "execution_count": 194,
     "metadata": {},
     "output_type": "execute_result"
    }
   ],
   "source": [
    "snow_white[[\"Speaker\",\"Text\"]].iloc[295:]"
   ]
  },
  {
   "cell_type": "code",
   "execution_count": 202,
   "metadata": {},
   "outputs": [
    {
     "data": {
      "text/plain": [
       "Speaker                                                guard\n",
       "Text       now, quick, child, run! run away, hide! in the...\n",
       "Name: 28, dtype: object"
      ]
     },
     "execution_count": 202,
     "metadata": {},
     "output_type": "execute_result"
    }
   ],
   "source": [
    "snow_white[[\"Speaker\", \"Text\"]].iloc[28]"
   ]
  },
  {
   "cell_type": "code",
   "execution_count": 199,
   "metadata": {},
   "outputs": [
    {
     "data": {
      "text/plain": [
       "\"heighho, heighho heighho, heighho it's off to work we go \""
      ]
     },
     "execution_count": 199,
     "metadata": {},
     "output_type": "execute_result"
    }
   ],
   "source": [
    "snow_white[\"Text\"].iloc[321]"
   ]
  },
  {
   "cell_type": "code",
   "execution_count": 175,
   "metadata": {},
   "outputs": [
    {
     "data": {
      "text/plain": [
       "\"did i frighten you ? wait. wait, please. don't run away. now that i've found you hear what i have to say one song i have but one song one song only for you one heart tenderly beating ever entreating constant and true one love that has possessed me one love thrilling me through one song my heart keeps singing of one love only for you \""
      ]
     },
     "execution_count": 175,
     "metadata": {},
     "output_type": "execute_result"
    }
   ],
   "source": [
    "snow_white[\"Text\"].iloc[12] #not all song"
   ]
  },
  {
   "cell_type": "code",
   "execution_count": 183,
   "metadata": {},
   "outputs": [
    {
     "name": "stdout",
     "output_type": "stream",
     "text": [
      "did i frighten you ? wait. wait, please. don't run away. now that i've found you hear what i have to say one song i have but one song one song only for you one heart tenderly beating ever entreating constant and true one love that has possessed me one love thrilling me through one song my heart keeps singing of one love only for you \n",
      "\n",
      "\n",
      "take her far into the forest. find some secluded glade where she can pick wildflowers. \n",
      "\n",
      "\n",
      "yes, your majesty. \n",
      "\n",
      "\n",
      "and there, my faithful huntsman, you will kill her ! \n",
      "\n",
      "\n",
      "but, your majesty, the little princess ! \n",
      "\n",
      "\n",
      "silence ! you know the penalty if you fail. \n",
      "\n",
      "\n",
      "yes, your majesty. \n",
      "\n",
      "\n",
      "but to make doubly sure... you do not fail, bring back her heart... \n",
      "\n",
      "\n",
      "one song i have but one song \n",
      "\n",
      "\n",
      "hello there. what's the matter ? where's your mama and papa ? why, i believe you're lost. oh, please, don't cry. come on. perk up. won't you smile for me ? that's better. your mama and papa can't be far. there they are. can you fly ? goodbye. goodbye ! \n",
      "\n",
      "\n",
      "i can't ! i can't do it ! forgive me. i beg of your highness, forgive me. \n",
      "\n",
      "\n",
      "i don't understand. \n",
      "\n",
      "\n",
      "she's mad! jealous of you! she'll stop at nothing ! \n",
      "\n",
      "\n"
     ]
    }
   ],
   "source": [
    "for line in snow_white[\"Text\"].iloc[12:25]:\n",
    "    print(line)\n",
    "    print('\\n')"
   ]
  },
  {
   "cell_type": "code",
   "execution_count": 176,
   "metadata": {},
   "outputs": [
    {
     "data": {
      "text/plain": [
       "\"want to know a secret ? promise not to tell ? we are standing by a wishing well make a wish into the well that's all you have to do and if you hear it echoing your wish will soon come true i'm wishing i'm wishing for the one i love to find me to find me today today i'm hoping i'm hoping and i'm dreaming of the nice things the nice things he'll say he'll say ahahahahahh ahahahahahh ahahahahahh ah, ah, ah, ah, ahh i'm wishing i'm wishing for the one i love to find me to find me today \""
      ]
     },
     "execution_count": 176,
     "metadata": {},
     "output_type": "execute_result"
    }
   ],
   "source": [
    "snow_white[\"Text\"].iloc[7]"
   ]
  },
  {
   "cell_type": "code",
   "execution_count": 182,
   "metadata": {},
   "outputs": [
    {
     "name": "stdout",
     "output_type": "stream",
     "text": [
      "oh! please, don't run away. i won't hurt you. i'm awfully sorry. i didn't mean to frighten you. but you don't know what i've been through. and all because i was afraid. i'm so ashamed of the fuss i've made. what do you do when things go wrong ? \n",
      "\n",
      "\n",
      "oh ! you sing a song ! ahahahahahh with a smile and a song life is just like a bright, sunny day your cares fade away and your heart is \n",
      "\n",
      "\n",
      "with a smile and a song all the world seems to waken anew rejoicing with you as the song is sung there's no use in grumbling when raindrops come tumbling \n",
      "\n",
      "\n",
      "remember you're the one who can fill the world with sunshine when you smile and you sing everything is in tune and it's spring and life flows along \n",
      "\n",
      "\n",
      "with a smile and a song \n",
      "\n",
      "\n",
      "i really feel quite happy now. i'm sure i'll get along somehow. everything's going to be all right. but i do need a place to sleep at night. \n",
      "\n",
      "\n"
     ]
    }
   ],
   "source": [
    "for line in snow_white[\"Text\"].iloc[29:35]:\n",
    "    print(line)\n",
    "    print('\\n')"
   ]
  },
  {
   "cell_type": "code",
   "execution_count": 197,
   "metadata": {},
   "outputs": [],
   "source": [
    "# 30-33 are songs\n",
    "# 7 is a song\n",
    "# 12 is kind of song? The second half is\n",
    "# 20 is song\n",
    "# 44-53, 57-61\n",
    "# 296, 321 (but labeled incorrectly)\n",
    "song_indices = [7, 12, 20, 30, 31, 32, 33, 44, 45, 46, 47, 48, 49, 50, 51, 52, 53, 57, 58, 59, 60, 61, 296, 321]"
   ]
  },
  {
   "cell_type": "code",
   "execution_count": 205,
   "metadata": {},
   "outputs": [],
   "source": [
    "song_func = partial(is_dialogue, song=song_indices)\n",
    "snow_white[\"Song\"] = snow_white.index.map(song_func)"
   ]
  },
  {
   "cell_type": "code",
   "execution_count": 206,
   "metadata": {},
   "outputs": [
    {
     "name": "stdout",
     "output_type": "stream",
     "text": [
      "<class 'pandas.core.frame.DataFrame'>\n",
      "RangeIndex: 363 entries, 0 to 362\n",
      "Data columns (total 11 columns):\n",
      "Disney_Period       363 non-null object\n",
      "Gender              363 non-null object\n",
      "Movie               363 non-null object\n",
      "Role                363 non-null object\n",
      "Song                363 non-null object\n",
      "Speaker             363 non-null object\n",
      "Speaker_Status      363 non-null object\n",
      "Start_Scene         0 non-null object\n",
      "Text                363 non-null object\n",
      "UTTERANCE_NUMBER    363 non-null int64\n",
      "Year                363 non-null int64\n",
      "dtypes: int64(2), object(9)\n",
      "memory usage: 18.5+ KB\n"
     ]
    }
   ],
   "source": [
    "snow_white.info()"
   ]
  },
  {
   "cell_type": "code",
   "execution_count": 207,
   "metadata": {},
   "outputs": [
    {
     "data": {
      "text/html": [
       "<div>\n",
       "<style scoped>\n",
       "    .dataframe tbody tr th:only-of-type {\n",
       "        vertical-align: middle;\n",
       "    }\n",
       "\n",
       "    .dataframe tbody tr th {\n",
       "        vertical-align: top;\n",
       "    }\n",
       "\n",
       "    .dataframe thead th {\n",
       "        text-align: right;\n",
       "    }\n",
       "</style>\n",
       "<table border=\"1\" class=\"dataframe\">\n",
       "  <thead>\n",
       "    <tr style=\"text-align: right;\">\n",
       "      <th></th>\n",
       "      <th>Disney_Period</th>\n",
       "      <th>Gender</th>\n",
       "      <th>Movie</th>\n",
       "      <th>Role</th>\n",
       "      <th>Song</th>\n",
       "      <th>Speaker</th>\n",
       "      <th>Speaker_Status</th>\n",
       "      <th>Start_Scene</th>\n",
       "      <th>Text</th>\n",
       "      <th>UTTERANCE_NUMBER</th>\n",
       "      <th>Year</th>\n",
       "    </tr>\n",
       "  </thead>\n",
       "  <tbody>\n",
       "    <tr>\n",
       "      <th>0</th>\n",
       "      <td>EARLY</td>\n",
       "      <td>f</td>\n",
       "      <td>Snow White</td>\n",
       "      <td>ANT</td>\n",
       "      <td>D</td>\n",
       "      <td>queen</td>\n",
       "      <td>NON-P</td>\n",
       "      <td>NaN</td>\n",
       "      <td>slave in the magic mirror come from the farthe...</td>\n",
       "      <td>1</td>\n",
       "      <td>1937</td>\n",
       "    </tr>\n",
       "    <tr>\n",
       "      <th>1</th>\n",
       "      <td>EARLY</td>\n",
       "      <td>m</td>\n",
       "      <td>Snow White</td>\n",
       "      <td>ANT</td>\n",
       "      <td>D</td>\n",
       "      <td>mirror</td>\n",
       "      <td>NON-P</td>\n",
       "      <td>NaN</td>\n",
       "      <td>what wouldst thou know, my queen ?</td>\n",
       "      <td>2</td>\n",
       "      <td>1937</td>\n",
       "    </tr>\n",
       "    <tr>\n",
       "      <th>2</th>\n",
       "      <td>EARLY</td>\n",
       "      <td>f</td>\n",
       "      <td>Snow White</td>\n",
       "      <td>ANT</td>\n",
       "      <td>D</td>\n",
       "      <td>queen</td>\n",
       "      <td>NON-P</td>\n",
       "      <td>NaN</td>\n",
       "      <td>magic mirror on the wall, who is the fairest o...</td>\n",
       "      <td>3</td>\n",
       "      <td>1937</td>\n",
       "    </tr>\n",
       "    <tr>\n",
       "      <th>3</th>\n",
       "      <td>EARLY</td>\n",
       "      <td>m</td>\n",
       "      <td>Snow White</td>\n",
       "      <td>ANT</td>\n",
       "      <td>D</td>\n",
       "      <td>mirror</td>\n",
       "      <td>NON-P</td>\n",
       "      <td>NaN</td>\n",
       "      <td>famed is thy beauty, majesty. but hold, a love...</td>\n",
       "      <td>4</td>\n",
       "      <td>1937</td>\n",
       "    </tr>\n",
       "    <tr>\n",
       "      <th>4</th>\n",
       "      <td>EARLY</td>\n",
       "      <td>f</td>\n",
       "      <td>Snow White</td>\n",
       "      <td>ANT</td>\n",
       "      <td>D</td>\n",
       "      <td>queen</td>\n",
       "      <td>NON-P</td>\n",
       "      <td>NaN</td>\n",
       "      <td>alas for her ! reveal her name.</td>\n",
       "      <td>5</td>\n",
       "      <td>1937</td>\n",
       "    </tr>\n",
       "    <tr>\n",
       "      <th>5</th>\n",
       "      <td>EARLY</td>\n",
       "      <td>m</td>\n",
       "      <td>Snow White</td>\n",
       "      <td>ANT</td>\n",
       "      <td>D</td>\n",
       "      <td>mirror</td>\n",
       "      <td>NON-P</td>\n",
       "      <td>NaN</td>\n",
       "      <td>lips red as the rose. hair black as ebony. ski...</td>\n",
       "      <td>6</td>\n",
       "      <td>1937</td>\n",
       "    </tr>\n",
       "    <tr>\n",
       "      <th>6</th>\n",
       "      <td>EARLY</td>\n",
       "      <td>f</td>\n",
       "      <td>Snow White</td>\n",
       "      <td>ANT</td>\n",
       "      <td>D</td>\n",
       "      <td>queen</td>\n",
       "      <td>NON-P</td>\n",
       "      <td>NaN</td>\n",
       "      <td>snow white !</td>\n",
       "      <td>7</td>\n",
       "      <td>1937</td>\n",
       "    </tr>\n",
       "    <tr>\n",
       "      <th>7</th>\n",
       "      <td>EARLY</td>\n",
       "      <td>f</td>\n",
       "      <td>Snow White</td>\n",
       "      <td>PRO</td>\n",
       "      <td>S</td>\n",
       "      <td>snow white</td>\n",
       "      <td>PRINCESS</td>\n",
       "      <td>NaN</td>\n",
       "      <td>want to know a secret ? promise not to tell ? ...</td>\n",
       "      <td>8</td>\n",
       "      <td>1937</td>\n",
       "    </tr>\n",
       "    <tr>\n",
       "      <th>8</th>\n",
       "      <td>EARLY</td>\n",
       "      <td>m</td>\n",
       "      <td>Snow White</td>\n",
       "      <td>PRO</td>\n",
       "      <td>D</td>\n",
       "      <td>prince</td>\n",
       "      <td>PRINCE</td>\n",
       "      <td>NaN</td>\n",
       "      <td>today</td>\n",
       "      <td>9</td>\n",
       "      <td>1937</td>\n",
       "    </tr>\n",
       "    <tr>\n",
       "      <th>9</th>\n",
       "      <td>EARLY</td>\n",
       "      <td>f</td>\n",
       "      <td>Snow White</td>\n",
       "      <td>PRO</td>\n",
       "      <td>D</td>\n",
       "      <td>snow white</td>\n",
       "      <td>PRINCESS</td>\n",
       "      <td>NaN</td>\n",
       "      <td>oh !</td>\n",
       "      <td>10</td>\n",
       "      <td>1937</td>\n",
       "    </tr>\n",
       "  </tbody>\n",
       "</table>\n",
       "</div>"
      ],
      "text/plain": [
       "  Disney_Period Gender       Movie Role Song     Speaker Speaker_Status  \\\n",
       "0         EARLY      f  Snow White  ANT    D       queen          NON-P   \n",
       "1         EARLY      m  Snow White  ANT    D      mirror          NON-P   \n",
       "2         EARLY      f  Snow White  ANT    D       queen          NON-P   \n",
       "3         EARLY      m  Snow White  ANT    D      mirror          NON-P   \n",
       "4         EARLY      f  Snow White  ANT    D       queen          NON-P   \n",
       "5         EARLY      m  Snow White  ANT    D      mirror          NON-P   \n",
       "6         EARLY      f  Snow White  ANT    D       queen          NON-P   \n",
       "7         EARLY      f  Snow White  PRO    S  snow white       PRINCESS   \n",
       "8         EARLY      m  Snow White  PRO    D      prince         PRINCE   \n",
       "9         EARLY      f  Snow White  PRO    D  snow white       PRINCESS   \n",
       "\n",
       "  Start_Scene                                               Text  \\\n",
       "0         NaN  slave in the magic mirror come from the farthe...   \n",
       "1         NaN                what wouldst thou know, my queen ?    \n",
       "2         NaN  magic mirror on the wall, who is the fairest o...   \n",
       "3         NaN  famed is thy beauty, majesty. but hold, a love...   \n",
       "4         NaN                   alas for her ! reveal her name.    \n",
       "5         NaN  lips red as the rose. hair black as ebony. ski...   \n",
       "6         NaN                                      snow white !    \n",
       "7         NaN  want to know a secret ? promise not to tell ? ...   \n",
       "8         NaN                                             today    \n",
       "9         NaN                                              oh !    \n",
       "\n",
       "   UTTERANCE_NUMBER  Year  \n",
       "0                 1  1937  \n",
       "1                 2  1937  \n",
       "2                 3  1937  \n",
       "3                 4  1937  \n",
       "4                 5  1937  \n",
       "5                 6  1937  \n",
       "6                 7  1937  \n",
       "7                 8  1937  \n",
       "8                 9  1937  \n",
       "9                10  1937  "
      ]
     },
     "execution_count": 207,
     "metadata": {},
     "output_type": "execute_result"
    }
   ],
   "source": [
    "snow_white.head(10)"
   ]
  },
  {
   "cell_type": "code",
   "execution_count": 200,
   "metadata": {},
   "outputs": [],
   "source": [
    "snow_white[\"Speaker\"].iloc[296] = 'all dwarfs'\n",
    "snow_white[\"Speaker\"].iloc[321] = 'all dwarfs'"
   ]
  },
  {
   "cell_type": "code",
   "execution_count": 195,
   "metadata": {},
   "outputs": [
    {
     "name": "stdout",
     "output_type": "stream",
     "text": [
      "now, you wash the dishes. you tidy up the room. you clean the fireplace. and i'll use the broom. \n",
      "\n",
      "\n",
      "we dig, dig, dig, dig dig, dig, dig in our mine the whole day through to dig, dig, dig, dig dig, dig, dig is what we like to do it ain't no trick to get rich quick if ya dig, dig, dig with a shovel or a pick in a mine \n",
      "\n",
      "\n",
      "in a mine in a mine \n",
      "\n",
      "\n",
      "in a mine where a million diamonds \n",
      "\n",
      "\n",
      "shine we dig, dig, dig, dig dig, dig, dig \n",
      "\n",
      "\n",
      "from early morn 'til night \n",
      "\n",
      "\n",
      "we dig, dig, dig, dig dig, dig, dig up everything in sight we dig up diamonds by the score \n",
      "\n",
      "\n",
      "a thousand rubies sometimes more though we don't know what we dig 'em for \n",
      "\n",
      "\n",
      "we dig, dig digadig, dig heighho, heighho, heighho, heighho, heighho, heighho, heighho it's home from work we go heighho, heighho, heighho, heighho, heighho it's home from work we go \n",
      "\n",
      "\n",
      "heighho, heighho heighho, heighho, heighho, heighho heighho, heighho, heighhohum heighho, heighho it's home from work we go \n",
      "\n",
      "\n",
      "heighho, heighho, heighho, heighho, heighho it's home from work we go heighho, heighho, heighho, heighho, heighho it's home from work we go heighho, heighho, heighho, heighho \n",
      "\n",
      "\n",
      "let's see what's upstairs. \n",
      "\n",
      "\n",
      "oh, what adorable little beds. and look, they have their names carved on them. doc, happy, sneezy, dopey \n",
      "\n",
      "\n",
      "what funny names for children. grumpy, bashful and sleepy. i'm a little sleepy myself. oh, oh. \n",
      "\n",
      "\n",
      "heighho, heighho heighho, heighho heighho, heighho it's home from work we go \n",
      "\n",
      "\n",
      "heighho, heighho heighho, heighho, heighho it's home from work we go \n",
      "\n",
      "\n",
      "heighho, heighho heighho, heighho, heighho it's home from work we go \n",
      "\n",
      "\n",
      "heighho, heighho heighho, heighho it's home from work we go \n",
      "\n",
      "\n",
      "heighho, heighho heigh \n",
      "\n",
      "\n",
      "look ! our house ! the lit's lightuh, the light's lit. \n",
      "\n",
      "\n",
      "jiminy crickets. the door is open. the chimney's smokin'. something's in there. maybe a ghost. or a goblin. a demon. or a dragon. grumpy; mark my words, there's trouble abrewin'. felt it comin' all day. my corns hurt. \n",
      "\n",
      "\n",
      "gosh. \n",
      "\n",
      "\n"
     ]
    }
   ],
   "source": [
    "for line in snow_white[\"Text\"].iloc[43:65]:\n",
    "    print(line)\n",
    "    print('\\n')"
   ]
  },
  {
   "cell_type": "markdown",
   "metadata": {},
   "source": [
    "## Cinderella\n",
    "### 1) Gender"
   ]
  },
  {
   "cell_type": "code",
   "execution_count": 208,
   "metadata": {},
   "outputs": [
    {
     "name": "stdout",
     "output_type": "stream",
     "text": [
      "<class 'pandas.core.frame.DataFrame'>\n",
      "Int64Index: 497 entries, 366 to 862\n",
      "Data columns (total 11 columns):\n",
      "Disney_Period       497 non-null object\n",
      "Gender              0 non-null object\n",
      "Movie               497 non-null object\n",
      "Role                0 non-null object\n",
      "Song                0 non-null object\n",
      "Speaker             497 non-null object\n",
      "Speaker_Status      497 non-null object\n",
      "Start_Scene         0 non-null object\n",
      "Text                497 non-null object\n",
      "UTTERANCE_NUMBER    497 non-null int64\n",
      "Year                497 non-null int64\n",
      "dtypes: int64(2), object(9)\n",
      "memory usage: 29.1+ KB\n"
     ]
    }
   ],
   "source": [
    "cinderella = disney[disney.Movie == \"Cinderella\"]\n",
    "cinderella.info()"
   ]
  },
  {
   "cell_type": "code",
   "execution_count": 212,
   "metadata": {},
   "outputs": [
    {
     "data": {
      "text/plain": [
       "array(['offstage singing voice', 'narrator', 'cinderella', 'birds',\n",
       "       'birds chirping', 'cinderella ', 'jaq', 'mice', 'gus', 'lucifer',\n",
       "       'mouse', 'anastasia', 'drizella', 'anastasia and drizella',\n",
       "       'stepmother', 'king', 'grand duke', 'royal postman',\n",
       "       'jaq and mice', 'perla and mice', 'offscreen singing',\n",
       "       'fairy godmother', 'horse', 'herald', 'prince', 'both', 'ladies',\n",
       "       'jaq and gus', 'coachman', 'singing'], dtype=object)"
      ]
     },
     "execution_count": 212,
     "metadata": {},
     "output_type": "execute_result"
    }
   ],
   "source": [
    "cinderella.Speaker.unique()"
   ]
  },
  {
   "cell_type": "code",
   "execution_count": 213,
   "metadata": {},
   "outputs": [
    {
     "name": "stderr",
     "output_type": "stream",
     "text": [
      "c:\\users\\cassi\\appdata\\local\\programs\\python\\python36-32\\lib\\site-packages\\pandas\\core\\generic.py:4405: SettingWithCopyWarning: \n",
      "A value is trying to be set on a copy of a slice from a DataFrame.\n",
      "Try using .loc[row_indexer,col_indexer] = value instead\n",
      "\n",
      "See the caveats in the documentation: http://pandas.pydata.org/pandas-docs/stable/indexing.html#indexing-view-versus-copy\n",
      "  self[name] = value\n"
     ]
    }
   ],
   "source": [
    "#fixing typo's with white space\n",
    "cinderella.Speaker = cinderella.Speaker.map(lambda x: x.strip())"
   ]
  },
  {
   "cell_type": "code",
   "execution_count": 214,
   "metadata": {},
   "outputs": [
    {
     "data": {
      "text/plain": [
       "29"
      ]
     },
     "execution_count": 214,
     "metadata": {},
     "output_type": "execute_result"
    }
   ],
   "source": [
    "len(cinderella.Speaker.unique())"
   ]
  },
  {
   "cell_type": "code",
   "execution_count": 217,
   "metadata": {},
   "outputs": [],
   "source": [
    "c_female = ['cinderella', 'anastasia', 'drizella', 'anastasia and drizella', 'stepmother', 'fairy godmother', 'ladies',\n",
    "           'narrator', 'perla and mice']\n",
    "c_male = ['jaq', 'gus', 'lucifer', 'king', 'grand duke', 'royal postman', 'jaq and mice', 'jaq and gus', 'herald', 'prince', 'coachman']\n"
   ]
  },
  {
   "cell_type": "code",
   "execution_count": 218,
   "metadata": {},
   "outputs": [
    {
     "data": {
      "text/plain": [
       "20"
      ]
     },
     "execution_count": 218,
     "metadata": {},
     "output_type": "execute_result"
    }
   ],
   "source": [
    "len(c_female) + len(c_male)"
   ]
  },
  {
   "cell_type": "code",
   "execution_count": 219,
   "metadata": {},
   "outputs": [
    {
     "name": "stderr",
     "output_type": "stream",
     "text": [
      "c:\\users\\cassi\\appdata\\local\\programs\\python\\python36-32\\lib\\site-packages\\ipykernel_launcher.py:2: SettingWithCopyWarning: \n",
      "A value is trying to be set on a copy of a slice from a DataFrame.\n",
      "Try using .loc[row_indexer,col_indexer] = value instead\n",
      "\n",
      "See the caveats in the documentation: http://pandas.pydata.org/pandas-docs/stable/indexing.html#indexing-view-versus-copy\n",
      "  \n"
     ]
    }
   ],
   "source": [
    "gender_func = partial(whichgen, female = c_female, male=c_male)\n",
    "cinderella[\"Gender\"] = cinderella.Speaker.map(gender_func)"
   ]
  },
  {
   "cell_type": "code",
   "execution_count": 220,
   "metadata": {},
   "outputs": [
    {
     "data": {
      "text/html": [
       "<div>\n",
       "<style scoped>\n",
       "    .dataframe tbody tr th:only-of-type {\n",
       "        vertical-align: middle;\n",
       "    }\n",
       "\n",
       "    .dataframe tbody tr th {\n",
       "        vertical-align: top;\n",
       "    }\n",
       "\n",
       "    .dataframe thead th {\n",
       "        text-align: right;\n",
       "    }\n",
       "</style>\n",
       "<table border=\"1\" class=\"dataframe\">\n",
       "  <thead>\n",
       "    <tr style=\"text-align: right;\">\n",
       "      <th></th>\n",
       "      <th>Disney_Period</th>\n",
       "      <th>Gender</th>\n",
       "      <th>Movie</th>\n",
       "      <th>Role</th>\n",
       "      <th>Song</th>\n",
       "      <th>Speaker</th>\n",
       "      <th>Speaker_Status</th>\n",
       "      <th>Start_Scene</th>\n",
       "      <th>Text</th>\n",
       "      <th>UTTERANCE_NUMBER</th>\n",
       "      <th>Year</th>\n",
       "    </tr>\n",
       "  </thead>\n",
       "  <tbody>\n",
       "    <tr>\n",
       "      <th>366</th>\n",
       "      <td>EARLY</td>\n",
       "      <td>n</td>\n",
       "      <td>Cinderella</td>\n",
       "      <td>NaN</td>\n",
       "      <td>NaN</td>\n",
       "      <td>offstage singing voice</td>\n",
       "      <td>NON-P</td>\n",
       "      <td>NaN</td>\n",
       "      <td>cinderella, you're as lovely as your name cind...</td>\n",
       "      <td>1</td>\n",
       "      <td>1950</td>\n",
       "    </tr>\n",
       "    <tr>\n",
       "      <th>367</th>\n",
       "      <td>EARLY</td>\n",
       "      <td>f</td>\n",
       "      <td>Cinderella</td>\n",
       "      <td>NaN</td>\n",
       "      <td>NaN</td>\n",
       "      <td>narrator</td>\n",
       "      <td>NON-P</td>\n",
       "      <td>NaN</td>\n",
       "      <td>once upon a time in a faraway land there was a...</td>\n",
       "      <td>2</td>\n",
       "      <td>1950</td>\n",
       "    </tr>\n",
       "    <tr>\n",
       "      <th>368</th>\n",
       "      <td>EARLY</td>\n",
       "      <td>f</td>\n",
       "      <td>Cinderella</td>\n",
       "      <td>NaN</td>\n",
       "      <td>NaN</td>\n",
       "      <td>narrator</td>\n",
       "      <td>NON-P</td>\n",
       "      <td>NaN</td>\n",
       "      <td>well, try again. okay wake up, wake up. cinder...</td>\n",
       "      <td>3</td>\n",
       "      <td>1950</td>\n",
       "    </tr>\n",
       "    <tr>\n",
       "      <th>369</th>\n",
       "      <td>EARLY</td>\n",
       "      <td>f</td>\n",
       "      <td>Cinderella</td>\n",
       "      <td>NaN</td>\n",
       "      <td>NaN</td>\n",
       "      <td>cinderella</td>\n",
       "      <td>PRINCESS</td>\n",
       "      <td>NaN</td>\n",
       "      <td>well serves you right spoiling people's best d...</td>\n",
       "      <td>4</td>\n",
       "      <td>1950</td>\n",
       "    </tr>\n",
       "    <tr>\n",
       "      <th>370</th>\n",
       "      <td>EARLY</td>\n",
       "      <td>n</td>\n",
       "      <td>Cinderella</td>\n",
       "      <td>NaN</td>\n",
       "      <td>NaN</td>\n",
       "      <td>birds</td>\n",
       "      <td>NON-P</td>\n",
       "      <td>NaN</td>\n",
       "      <td>what kind of dream?</td>\n",
       "      <td>5</td>\n",
       "      <td>1950</td>\n",
       "    </tr>\n",
       "  </tbody>\n",
       "</table>\n",
       "</div>"
      ],
      "text/plain": [
       "    Disney_Period Gender       Movie Role Song                 Speaker  \\\n",
       "366         EARLY      n  Cinderella  NaN  NaN  offstage singing voice   \n",
       "367         EARLY      f  Cinderella  NaN  NaN                narrator   \n",
       "368         EARLY      f  Cinderella  NaN  NaN                narrator   \n",
       "369         EARLY      f  Cinderella  NaN  NaN              cinderella   \n",
       "370         EARLY      n  Cinderella  NaN  NaN                   birds   \n",
       "\n",
       "    Speaker_Status Start_Scene  \\\n",
       "366          NON-P         NaN   \n",
       "367          NON-P         NaN   \n",
       "368          NON-P         NaN   \n",
       "369       PRINCESS         NaN   \n",
       "370          NON-P         NaN   \n",
       "\n",
       "                                                  Text  UTTERANCE_NUMBER  Year  \n",
       "366  cinderella, you're as lovely as your name cind...                 1  1950  \n",
       "367  once upon a time in a faraway land there was a...                 2  1950  \n",
       "368  well, try again. okay wake up, wake up. cinder...                 3  1950  \n",
       "369  well serves you right spoiling people's best d...                 4  1950  \n",
       "370                               what kind of dream?                  5  1950  "
      ]
     },
     "execution_count": 220,
     "metadata": {},
     "output_type": "execute_result"
    }
   ],
   "source": [
    "cinderella.head()"
   ]
  },
  {
   "cell_type": "code",
   "execution_count": 221,
   "metadata": {},
   "outputs": [
    {
     "data": {
      "text/plain": [
       "'yyyes your majesty. '"
      ]
     },
     "execution_count": 221,
     "metadata": {},
     "output_type": "execute_result"
    }
   ],
   "source": [
    "cinderella.Text.iloc[368] #this doesn't match the index I wanted. Will reindex"
   ]
  },
  {
   "cell_type": "code",
   "execution_count": 222,
   "metadata": {},
   "outputs": [],
   "source": [
    "cinderella.reset_index(drop=True, inplace=True)"
   ]
  },
  {
   "cell_type": "code",
   "execution_count": 223,
   "metadata": {},
   "outputs": [
    {
     "data": {
      "text/html": [
       "<div>\n",
       "<style scoped>\n",
       "    .dataframe tbody tr th:only-of-type {\n",
       "        vertical-align: middle;\n",
       "    }\n",
       "\n",
       "    .dataframe tbody tr th {\n",
       "        vertical-align: top;\n",
       "    }\n",
       "\n",
       "    .dataframe thead th {\n",
       "        text-align: right;\n",
       "    }\n",
       "</style>\n",
       "<table border=\"1\" class=\"dataframe\">\n",
       "  <thead>\n",
       "    <tr style=\"text-align: right;\">\n",
       "      <th></th>\n",
       "      <th>Disney_Period</th>\n",
       "      <th>Gender</th>\n",
       "      <th>Movie</th>\n",
       "      <th>Role</th>\n",
       "      <th>Song</th>\n",
       "      <th>Speaker</th>\n",
       "      <th>Speaker_Status</th>\n",
       "      <th>Start_Scene</th>\n",
       "      <th>Text</th>\n",
       "      <th>UTTERANCE_NUMBER</th>\n",
       "      <th>Year</th>\n",
       "    </tr>\n",
       "  </thead>\n",
       "  <tbody>\n",
       "    <tr>\n",
       "      <th>0</th>\n",
       "      <td>EARLY</td>\n",
       "      <td>n</td>\n",
       "      <td>Cinderella</td>\n",
       "      <td>NaN</td>\n",
       "      <td>NaN</td>\n",
       "      <td>offstage singing voice</td>\n",
       "      <td>NON-P</td>\n",
       "      <td>NaN</td>\n",
       "      <td>cinderella, you're as lovely as your name cind...</td>\n",
       "      <td>1</td>\n",
       "      <td>1950</td>\n",
       "    </tr>\n",
       "    <tr>\n",
       "      <th>1</th>\n",
       "      <td>EARLY</td>\n",
       "      <td>f</td>\n",
       "      <td>Cinderella</td>\n",
       "      <td>NaN</td>\n",
       "      <td>NaN</td>\n",
       "      <td>narrator</td>\n",
       "      <td>NON-P</td>\n",
       "      <td>NaN</td>\n",
       "      <td>once upon a time in a faraway land there was a...</td>\n",
       "      <td>2</td>\n",
       "      <td>1950</td>\n",
       "    </tr>\n",
       "    <tr>\n",
       "      <th>2</th>\n",
       "      <td>EARLY</td>\n",
       "      <td>f</td>\n",
       "      <td>Cinderella</td>\n",
       "      <td>NaN</td>\n",
       "      <td>NaN</td>\n",
       "      <td>narrator</td>\n",
       "      <td>NON-P</td>\n",
       "      <td>NaN</td>\n",
       "      <td>well, try again. okay wake up, wake up. cinder...</td>\n",
       "      <td>3</td>\n",
       "      <td>1950</td>\n",
       "    </tr>\n",
       "    <tr>\n",
       "      <th>3</th>\n",
       "      <td>EARLY</td>\n",
       "      <td>f</td>\n",
       "      <td>Cinderella</td>\n",
       "      <td>NaN</td>\n",
       "      <td>NaN</td>\n",
       "      <td>cinderella</td>\n",
       "      <td>PRINCESS</td>\n",
       "      <td>NaN</td>\n",
       "      <td>well serves you right spoiling people's best d...</td>\n",
       "      <td>4</td>\n",
       "      <td>1950</td>\n",
       "    </tr>\n",
       "    <tr>\n",
       "      <th>4</th>\n",
       "      <td>EARLY</td>\n",
       "      <td>n</td>\n",
       "      <td>Cinderella</td>\n",
       "      <td>NaN</td>\n",
       "      <td>NaN</td>\n",
       "      <td>birds</td>\n",
       "      <td>NON-P</td>\n",
       "      <td>NaN</td>\n",
       "      <td>what kind of dream?</td>\n",
       "      <td>5</td>\n",
       "      <td>1950</td>\n",
       "    </tr>\n",
       "  </tbody>\n",
       "</table>\n",
       "</div>"
      ],
      "text/plain": [
       "  Disney_Period Gender       Movie Role Song                 Speaker  \\\n",
       "0         EARLY      n  Cinderella  NaN  NaN  offstage singing voice   \n",
       "1         EARLY      f  Cinderella  NaN  NaN                narrator   \n",
       "2         EARLY      f  Cinderella  NaN  NaN                narrator   \n",
       "3         EARLY      f  Cinderella  NaN  NaN              cinderella   \n",
       "4         EARLY      n  Cinderella  NaN  NaN                   birds   \n",
       "\n",
       "  Speaker_Status Start_Scene  \\\n",
       "0          NON-P         NaN   \n",
       "1          NON-P         NaN   \n",
       "2          NON-P         NaN   \n",
       "3       PRINCESS         NaN   \n",
       "4          NON-P         NaN   \n",
       "\n",
       "                                                Text  UTTERANCE_NUMBER  Year  \n",
       "0  cinderella, you're as lovely as your name cind...                 1  1950  \n",
       "1  once upon a time in a faraway land there was a...                 2  1950  \n",
       "2  well, try again. okay wake up, wake up. cinder...                 3  1950  \n",
       "3  well serves you right spoiling people's best d...                 4  1950  \n",
       "4                               what kind of dream?                  5  1950  "
      ]
     },
     "execution_count": 223,
     "metadata": {},
     "output_type": "execute_result"
    }
   ],
   "source": [
    "cinderella.head()"
   ]
  },
  {
   "cell_type": "code",
   "execution_count": 226,
   "metadata": {},
   "outputs": [
    {
     "name": "stderr",
     "output_type": "stream",
     "text": [
      "c:\\users\\cassi\\appdata\\local\\programs\\python\\python36-32\\lib\\site-packages\\pandas\\core\\indexing.py:189: SettingWithCopyWarning: \n",
      "A value is trying to be set on a copy of a slice from a DataFrame\n",
      "\n",
      "See the caveats in the documentation: http://pandas.pydata.org/pandas-docs/stable/indexing.html#indexing-view-versus-copy\n",
      "  self._setitem_with_indexer(indexer, value)\n",
      "c:\\users\\cassi\\appdata\\local\\programs\\python\\python36-32\\lib\\site-packages\\ipykernel_launcher.py:1: SettingWithCopyWarning: \n",
      "A value is trying to be set on a copy of a slice from a DataFrame\n",
      "\n",
      "See the caveats in the documentation: http://pandas.pydata.org/pandas-docs/stable/indexing.html#indexing-view-versus-copy\n",
      "  \"\"\"Entry point for launching an IPython kernel.\n"
     ]
    }
   ],
   "source": [
    "cinderella.Speaker.iloc[2] = 'cinderella'\n",
    "#I understand why the warning below shows up, but I'm not sure how to improve this"
   ]
  },
  {
   "cell_type": "code",
   "execution_count": 227,
   "metadata": {},
   "outputs": [
    {
     "data": {
      "text/html": [
       "<div>\n",
       "<style scoped>\n",
       "    .dataframe tbody tr th:only-of-type {\n",
       "        vertical-align: middle;\n",
       "    }\n",
       "\n",
       "    .dataframe tbody tr th {\n",
       "        vertical-align: top;\n",
       "    }\n",
       "\n",
       "    .dataframe thead th {\n",
       "        text-align: right;\n",
       "    }\n",
       "</style>\n",
       "<table border=\"1\" class=\"dataframe\">\n",
       "  <thead>\n",
       "    <tr style=\"text-align: right;\">\n",
       "      <th></th>\n",
       "      <th>Disney_Period</th>\n",
       "      <th>Gender</th>\n",
       "      <th>Movie</th>\n",
       "      <th>Role</th>\n",
       "      <th>Song</th>\n",
       "      <th>Speaker</th>\n",
       "      <th>Speaker_Status</th>\n",
       "      <th>Start_Scene</th>\n",
       "      <th>Text</th>\n",
       "      <th>UTTERANCE_NUMBER</th>\n",
       "      <th>Year</th>\n",
       "    </tr>\n",
       "  </thead>\n",
       "  <tbody>\n",
       "    <tr>\n",
       "      <th>0</th>\n",
       "      <td>EARLY</td>\n",
       "      <td>n</td>\n",
       "      <td>Cinderella</td>\n",
       "      <td>NaN</td>\n",
       "      <td>NaN</td>\n",
       "      <td>offstage singing voice</td>\n",
       "      <td>NON-P</td>\n",
       "      <td>NaN</td>\n",
       "      <td>cinderella, you're as lovely as your name cind...</td>\n",
       "      <td>1</td>\n",
       "      <td>1950</td>\n",
       "    </tr>\n",
       "    <tr>\n",
       "      <th>1</th>\n",
       "      <td>EARLY</td>\n",
       "      <td>f</td>\n",
       "      <td>Cinderella</td>\n",
       "      <td>NaN</td>\n",
       "      <td>NaN</td>\n",
       "      <td>narrator</td>\n",
       "      <td>NON-P</td>\n",
       "      <td>NaN</td>\n",
       "      <td>once upon a time in a faraway land there was a...</td>\n",
       "      <td>2</td>\n",
       "      <td>1950</td>\n",
       "    </tr>\n",
       "    <tr>\n",
       "      <th>2</th>\n",
       "      <td>EARLY</td>\n",
       "      <td>f</td>\n",
       "      <td>Cinderella</td>\n",
       "      <td>NaN</td>\n",
       "      <td>NaN</td>\n",
       "      <td>cinderella</td>\n",
       "      <td>NON-P</td>\n",
       "      <td>NaN</td>\n",
       "      <td>well, try again. okay wake up, wake up. cinder...</td>\n",
       "      <td>3</td>\n",
       "      <td>1950</td>\n",
       "    </tr>\n",
       "    <tr>\n",
       "      <th>3</th>\n",
       "      <td>EARLY</td>\n",
       "      <td>f</td>\n",
       "      <td>Cinderella</td>\n",
       "      <td>NaN</td>\n",
       "      <td>NaN</td>\n",
       "      <td>cinderella</td>\n",
       "      <td>PRINCESS</td>\n",
       "      <td>NaN</td>\n",
       "      <td>well serves you right spoiling people's best d...</td>\n",
       "      <td>4</td>\n",
       "      <td>1950</td>\n",
       "    </tr>\n",
       "    <tr>\n",
       "      <th>4</th>\n",
       "      <td>EARLY</td>\n",
       "      <td>n</td>\n",
       "      <td>Cinderella</td>\n",
       "      <td>NaN</td>\n",
       "      <td>NaN</td>\n",
       "      <td>birds</td>\n",
       "      <td>NON-P</td>\n",
       "      <td>NaN</td>\n",
       "      <td>what kind of dream?</td>\n",
       "      <td>5</td>\n",
       "      <td>1950</td>\n",
       "    </tr>\n",
       "  </tbody>\n",
       "</table>\n",
       "</div>"
      ],
      "text/plain": [
       "  Disney_Period Gender       Movie Role Song                 Speaker  \\\n",
       "0         EARLY      n  Cinderella  NaN  NaN  offstage singing voice   \n",
       "1         EARLY      f  Cinderella  NaN  NaN                narrator   \n",
       "2         EARLY      f  Cinderella  NaN  NaN              cinderella   \n",
       "3         EARLY      f  Cinderella  NaN  NaN              cinderella   \n",
       "4         EARLY      n  Cinderella  NaN  NaN                   birds   \n",
       "\n",
       "  Speaker_Status Start_Scene  \\\n",
       "0          NON-P         NaN   \n",
       "1          NON-P         NaN   \n",
       "2          NON-P         NaN   \n",
       "3       PRINCESS         NaN   \n",
       "4          NON-P         NaN   \n",
       "\n",
       "                                                Text  UTTERANCE_NUMBER  Year  \n",
       "0  cinderella, you're as lovely as your name cind...                 1  1950  \n",
       "1  once upon a time in a faraway land there was a...                 2  1950  \n",
       "2  well, try again. okay wake up, wake up. cinder...                 3  1950  \n",
       "3  well serves you right spoiling people's best d...                 4  1950  \n",
       "4                               what kind of dream?                  5  1950  "
      ]
     },
     "execution_count": 227,
     "metadata": {},
     "output_type": "execute_result"
    }
   ],
   "source": [
    "cinderella.head()"
   ]
  },
  {
   "cell_type": "markdown",
   "metadata": {},
   "source": [
    "### 2) Role"
   ]
  },
  {
   "cell_type": "code",
   "execution_count": 228,
   "metadata": {},
   "outputs": [
    {
     "data": {
      "text/plain": [
       "array(['offstage singing voice', 'narrator', 'cinderella', 'birds',\n",
       "       'birds chirping', 'jaq', 'mice', 'gus', 'lucifer', 'mouse',\n",
       "       'anastasia', 'drizella', 'anastasia and drizella', 'stepmother',\n",
       "       'king', 'grand duke', 'royal postman', 'jaq and mice',\n",
       "       'perla and mice', 'offscreen singing', 'fairy godmother', 'horse',\n",
       "       'herald', 'prince', 'both', 'ladies', 'jaq and gus', 'coachman',\n",
       "       'singing'], dtype=object)"
      ]
     },
     "execution_count": 228,
     "metadata": {},
     "output_type": "execute_result"
    }
   ],
   "source": [
    "cinderella.Speaker.unique()"
   ]
  },
  {
   "cell_type": "code",
   "execution_count": 229,
   "metadata": {},
   "outputs": [],
   "source": [
    "c_pro = ['cinderella', 'prince']\n",
    "c_ant = ['lucifer', 'anastasia', 'drizella', 'anastasia and drizella', 'stepmother']\n",
    "c_helper = ['birds', 'jaq', 'mice', 'gus', 'mouse', 'jaq and mice', 'perla and mice', 'fairy godmother', \n",
    "           'jaq and gus']"
   ]
  },
  {
   "cell_type": "code",
   "execution_count": 230,
   "metadata": {},
   "outputs": [
    {
     "data": {
      "text/plain": [
       "16"
      ]
     },
     "execution_count": 230,
     "metadata": {},
     "output_type": "execute_result"
    }
   ],
   "source": [
    "len(c_pro) + len(c_ant) + len(c_helper)"
   ]
  },
  {
   "cell_type": "code",
   "execution_count": 231,
   "metadata": {},
   "outputs": [
    {
     "name": "stderr",
     "output_type": "stream",
     "text": [
      "c:\\users\\cassi\\appdata\\local\\programs\\python\\python36-32\\lib\\site-packages\\ipykernel_launcher.py:2: SettingWithCopyWarning: \n",
      "A value is trying to be set on a copy of a slice from a DataFrame.\n",
      "Try using .loc[row_indexer,col_indexer] = value instead\n",
      "\n",
      "See the caveats in the documentation: http://pandas.pydata.org/pandas-docs/stable/indexing.html#indexing-view-versus-copy\n",
      "  \n"
     ]
    }
   ],
   "source": [
    "role_func = partial(whichrole, pro = c_pro, ant = c_ant, helper = c_helper)\n",
    "cinderella[\"Role\"] = cinderella.Speaker.map(role_func)"
   ]
  },
  {
   "cell_type": "code",
   "execution_count": 232,
   "metadata": {},
   "outputs": [
    {
     "data": {
      "text/html": [
       "<div>\n",
       "<style scoped>\n",
       "    .dataframe tbody tr th:only-of-type {\n",
       "        vertical-align: middle;\n",
       "    }\n",
       "\n",
       "    .dataframe tbody tr th {\n",
       "        vertical-align: top;\n",
       "    }\n",
       "\n",
       "    .dataframe thead th {\n",
       "        text-align: right;\n",
       "    }\n",
       "</style>\n",
       "<table border=\"1\" class=\"dataframe\">\n",
       "  <thead>\n",
       "    <tr style=\"text-align: right;\">\n",
       "      <th></th>\n",
       "      <th>Disney_Period</th>\n",
       "      <th>Gender</th>\n",
       "      <th>Movie</th>\n",
       "      <th>Role</th>\n",
       "      <th>Song</th>\n",
       "      <th>Speaker</th>\n",
       "      <th>Speaker_Status</th>\n",
       "      <th>Start_Scene</th>\n",
       "      <th>Text</th>\n",
       "      <th>UTTERANCE_NUMBER</th>\n",
       "      <th>Year</th>\n",
       "    </tr>\n",
       "  </thead>\n",
       "  <tbody>\n",
       "    <tr>\n",
       "      <th>0</th>\n",
       "      <td>EARLY</td>\n",
       "      <td>n</td>\n",
       "      <td>Cinderella</td>\n",
       "      <td>N</td>\n",
       "      <td>NaN</td>\n",
       "      <td>offstage singing voice</td>\n",
       "      <td>NON-P</td>\n",
       "      <td>NaN</td>\n",
       "      <td>cinderella, you're as lovely as your name cind...</td>\n",
       "      <td>1</td>\n",
       "      <td>1950</td>\n",
       "    </tr>\n",
       "    <tr>\n",
       "      <th>1</th>\n",
       "      <td>EARLY</td>\n",
       "      <td>f</td>\n",
       "      <td>Cinderella</td>\n",
       "      <td>N</td>\n",
       "      <td>NaN</td>\n",
       "      <td>narrator</td>\n",
       "      <td>NON-P</td>\n",
       "      <td>NaN</td>\n",
       "      <td>once upon a time in a faraway land there was a...</td>\n",
       "      <td>2</td>\n",
       "      <td>1950</td>\n",
       "    </tr>\n",
       "    <tr>\n",
       "      <th>2</th>\n",
       "      <td>EARLY</td>\n",
       "      <td>f</td>\n",
       "      <td>Cinderella</td>\n",
       "      <td>PRO</td>\n",
       "      <td>NaN</td>\n",
       "      <td>cinderella</td>\n",
       "      <td>NON-P</td>\n",
       "      <td>NaN</td>\n",
       "      <td>well, try again. okay wake up, wake up. cinder...</td>\n",
       "      <td>3</td>\n",
       "      <td>1950</td>\n",
       "    </tr>\n",
       "    <tr>\n",
       "      <th>3</th>\n",
       "      <td>EARLY</td>\n",
       "      <td>f</td>\n",
       "      <td>Cinderella</td>\n",
       "      <td>PRO</td>\n",
       "      <td>NaN</td>\n",
       "      <td>cinderella</td>\n",
       "      <td>PRINCESS</td>\n",
       "      <td>NaN</td>\n",
       "      <td>well serves you right spoiling people's best d...</td>\n",
       "      <td>4</td>\n",
       "      <td>1950</td>\n",
       "    </tr>\n",
       "    <tr>\n",
       "      <th>4</th>\n",
       "      <td>EARLY</td>\n",
       "      <td>n</td>\n",
       "      <td>Cinderella</td>\n",
       "      <td>HELPER</td>\n",
       "      <td>NaN</td>\n",
       "      <td>birds</td>\n",
       "      <td>NON-P</td>\n",
       "      <td>NaN</td>\n",
       "      <td>what kind of dream?</td>\n",
       "      <td>5</td>\n",
       "      <td>1950</td>\n",
       "    </tr>\n",
       "  </tbody>\n",
       "</table>\n",
       "</div>"
      ],
      "text/plain": [
       "  Disney_Period Gender       Movie    Role Song                 Speaker  \\\n",
       "0         EARLY      n  Cinderella       N  NaN  offstage singing voice   \n",
       "1         EARLY      f  Cinderella       N  NaN                narrator   \n",
       "2         EARLY      f  Cinderella     PRO  NaN              cinderella   \n",
       "3         EARLY      f  Cinderella     PRO  NaN              cinderella   \n",
       "4         EARLY      n  Cinderella  HELPER  NaN                   birds   \n",
       "\n",
       "  Speaker_Status Start_Scene  \\\n",
       "0          NON-P         NaN   \n",
       "1          NON-P         NaN   \n",
       "2          NON-P         NaN   \n",
       "3       PRINCESS         NaN   \n",
       "4          NON-P         NaN   \n",
       "\n",
       "                                                Text  UTTERANCE_NUMBER  Year  \n",
       "0  cinderella, you're as lovely as your name cind...                 1  1950  \n",
       "1  once upon a time in a faraway land there was a...                 2  1950  \n",
       "2  well, try again. okay wake up, wake up. cinder...                 3  1950  \n",
       "3  well serves you right spoiling people's best d...                 4  1950  \n",
       "4                               what kind of dream?                  5  1950  "
      ]
     },
     "execution_count": 232,
     "metadata": {},
     "output_type": "execute_result"
    }
   ],
   "source": [
    "cinderella.head()"
   ]
  },
  {
   "cell_type": "markdown",
   "metadata": {},
   "source": [
    "### 3) Songs"
   ]
  },
  {
   "cell_type": "code",
   "execution_count": 246,
   "metadata": {},
   "outputs": [
    {
     "name": "stdout",
     "output_type": "stream",
     "text": [
      "        Speaker                                               Text\n",
      "8    cinderella  a dream is a wish your heart makes when you're...\n",
      "201         jaq  a dream is a wish your heart makes when you're...\n",
      "        Speaker                                               Text\n",
      "126    drizella  sing sweet nightingale sing sweet nightingale ...\n",
      "127  cinderella  hiiiigh above oh, sing sweet nightingale sing ...\n",
      "134    drizella  sing sweet nightingale sing sweet nightingale ...\n",
      "            Speaker                                               Text\n",
      "21              jaq  zukzuk cinderelly, zukzuk. now, now, now, look...\n",
      "59             mice                           cinderelly, cinderelly. \n",
      "130             jaq          from the king. what's it say cinderelly? \n",
      "174             jaq  poor cinderelly. every time she finds a minute...\n",
      "176    jaq and mice  cinderelly, cinderelly night and day it's cind...\n",
      "177             jaq  yeah. keep a busy. you know what? cinderelly's...\n",
      "180             gus                                 ppoor cinderelly. \n",
      "181  perla and mice  hey we can do it! we can do it!, we can do it!...\n",
      "182             jaq  follow me gusgus. i know where to go. find the...\n",
      "183             gus  surprise, surprise. pretty surprise for cinder...\n",
      "330             jaq        cinderelly, look, look, look! the slipper! \n",
      "332     jaq and gus            your slipper cinderelly, your slipper! \n",
      "396             gus                we do! we do! cinderelly! cinderell\n",
      "414             jaq                                       cinderelly! \n",
      "415             gus                                       cinderelly! \n",
      "420             gus  no, no. she can't do it! she can't lock up cin...\n",
      "443             gus        no, no, no! cinderelly's slipper! cinderell\n",
      "467             jaq  gusgus! gusgus! oh come on. look, look. just u...\n",
      "            Speaker                                               Text\n",
      "181  perla and mice  hey we can do it! we can do it!, we can do it!...\n",
      "        Speaker                                               Text\n",
      "306  cinderella                              so this is love, mmm \n",
      "307      prince                                   so this is love \n",
      "308        both  so this is what makes life divine i'm all aglo...\n",
      "410  cinderella  ladadada so this is love lada dadadadum ladada...\n",
      "             Speaker                                               Text\n",
      "260  fairy godmother  salagadoolamenchikaboola bibbidibobbidiboo put...\n",
      "267  fairy godmother  oh this is really as nice. why we'll have a co...\n",
      "271  fairy godmother  but tonight for a change you'll handle the rei...\n",
      "275  fairy godmother  yes it's lovely, dear. good heavens child! you...\n",
      "281  fairy godmother  bless you my child. igoodness me! it's getting...\n"
     ]
    }
   ],
   "source": [
    "c_song_words = ['dream is a wish', 'nightingale','cinderelly','we can do it','so this is love', 'bibbidi']\n",
    "for line in c_song_words:\n",
    "    print(cinderella[[\"Speaker\", \"Text\"]][cinderella.Text.str.contains(line, regex = False)])"
   ]
  },
  {
   "cell_type": "code",
   "execution_count": 239,
   "metadata": {},
   "outputs": [
    {
     "name": "stdout",
     "output_type": "stream",
     "text": [
      "'cause if you tell a wish it won't come true and after all \n",
      "\n",
      "\n",
      "a dream is a wish your heart makes when you're fast asleep in dreams you will lose your heartaches whatever you wish for, you keep have faith in your dreams and someday your rainbow will come smiling through no matter how your heart is grieving if you keep on believing the dream that you wish will come true oh that clock! old killjoy i hear you! \"come on. get up, you say time to start another day\". even he orders me around. well there's one thing they can't order me to stop dreaming and perhaps someday ...the dreams that i wish will come true \n",
      "\n",
      "\n",
      "shoo, shoo get in there. la, la, da, da, di da, diddelydo lalalalalalalala ladi dadada dadahmm no matter how your heart is grieving if you keep on believing the dream that you wish will come true \n",
      "\n",
      "\n",
      "wait a minute, wait a minute. one at a time, please. now jaq what's all the fuss about? \n",
      "\n",
      "\n",
      "new mouse in the house. brand new. never saw before. visitor, visitor. \n",
      "\n",
      "\n"
     ]
    }
   ],
   "source": [
    "for line in cinderella.Text.iloc[7:12]:\n",
    "    print(line)\n",
    "    print('\\n')"
   ]
  },
  {
   "cell_type": "code",
   "execution_count": 240,
   "metadata": {},
   "outputs": [],
   "source": [
    "#8 and 9 are song"
   ]
  },
  {
   "cell_type": "code",
   "execution_count": 261,
   "metadata": {},
   "outputs": [
    {
     "data": {
      "text/html": [
       "<div>\n",
       "<style scoped>\n",
       "    .dataframe tbody tr th:only-of-type {\n",
       "        vertical-align: middle;\n",
       "    }\n",
       "\n",
       "    .dataframe tbody tr th {\n",
       "        vertical-align: top;\n",
       "    }\n",
       "\n",
       "    .dataframe thead th {\n",
       "        text-align: right;\n",
       "    }\n",
       "</style>\n",
       "<table border=\"1\" class=\"dataframe\">\n",
       "  <thead>\n",
       "    <tr style=\"text-align: right;\">\n",
       "      <th></th>\n",
       "      <th>Speaker</th>\n",
       "      <th>Text</th>\n",
       "    </tr>\n",
       "  </thead>\n",
       "  <tbody>\n",
       "    <tr>\n",
       "      <th>200</th>\n",
       "      <td>jaq</td>\n",
       "      <td>shh!</td>\n",
       "    </tr>\n",
       "    <tr>\n",
       "      <th>201</th>\n",
       "      <td>jaq</td>\n",
       "      <td>a dream is a wish your heart makes when you're...</td>\n",
       "    </tr>\n",
       "    <tr>\n",
       "      <th>202</th>\n",
       "      <td>mouse</td>\n",
       "      <td>oh!</td>\n",
       "    </tr>\n",
       "  </tbody>\n",
       "</table>\n",
       "</div>"
      ],
      "text/plain": [
       "    Speaker                                               Text\n",
       "200     jaq                                              shh! \n",
       "201     jaq  a dream is a wish your heart makes when you're...\n",
       "202   mouse                                               oh! "
      ]
     },
     "execution_count": 261,
     "metadata": {},
     "output_type": "execute_result"
    }
   ],
   "source": [
    "cinderella[[\"Speaker\", \"Text\"]].iloc[200:203]"
   ]
  },
  {
   "cell_type": "code",
   "execution_count": 262,
   "metadata": {},
   "outputs": [
    {
     "name": "stderr",
     "output_type": "stream",
     "text": [
      "c:\\users\\cassi\\appdata\\local\\programs\\python\\python36-32\\lib\\site-packages\\ipykernel_launcher.py:1: SettingWithCopyWarning: \n",
      "A value is trying to be set on a copy of a slice from a DataFrame\n",
      "\n",
      "See the caveats in the documentation: http://pandas.pydata.org/pandas-docs/stable/indexing.html#indexing-view-versus-copy\n",
      "  \"\"\"Entry point for launching an IPython kernel.\n"
     ]
    }
   ],
   "source": [
    "#fixing this line\n",
    "cinderella.Speaker.iloc[201] = 'cinderella'"
   ]
  },
  {
   "cell_type": "code",
   "execution_count": 244,
   "metadata": {},
   "outputs": [
    {
     "name": "stdout",
     "output_type": "stream",
     "text": [
      "yes your majesty. \n",
      "\n",
      "\n",
      "sing sweet nightingale sing sweet nightingale hiiiigh above me oh sing sweet nightingale sing sweet nightingale \n",
      "\n",
      "\n",
      "hiiiigh above oh, sing sweet nightingale sing sweet nightingale high oh, sing sweet nightingale sing sweet nightingale oh, sing sweet nightingale sing sweet oh, sing sweet nightingale, sing oh sing sweet nightingale oh, sing sweet oh, sing oh lucifer! you mean old thing! i'm just going to have to teach you a lesson. \n",
      "\n",
      "\n",
      "open in the name of the king. an urgent message from his imperial majesty. \n",
      "\n",
      "\n",
      "thank you. \n",
      "\n",
      "\n",
      "from the king. what's it say cinderelly? \n",
      "\n",
      "\n",
      "uh, uh, uh what's it say? huh? \n",
      "\n",
      "\n",
      "i don't know. he said it's urgent \n",
      "\n",
      "\n",
      "maybe i should interrupt the, uh, music lesson. \n",
      "\n",
      "\n",
      "sing sweet nightingale sing sweet nightingale hiiiigh iiiiii you clumsyyou did it on purpose \n",
      "\n",
      "\n",
      "you're always spoiling my \n",
      "\n",
      "\n",
      "girls, girls! remember above all, selfcontrol. \n",
      "\n",
      "\n",
      "yes! cinderella i've warned you never to interrupt \n",
      "\n",
      "\n",
      "but this just arrived from the palace. \n",
      "\n",
      "\n",
      "from the palace! \n",
      "\n",
      "\n"
     ]
    }
   ],
   "source": [
    "for line in cinderella.Text.iloc[125:140]:\n",
    "    print(line)\n",
    "    print('\\n')"
   ]
  },
  {
   "cell_type": "code",
   "execution_count": 247,
   "metadata": {},
   "outputs": [],
   "source": [
    "#126, 127, 134 are songs (though 127 and 134 all end in spoken words)"
   ]
  },
  {
   "cell_type": "code",
   "execution_count": 250,
   "metadata": {},
   "outputs": [
    {
     "name": "stdout",
     "output_type": "stream",
     "text": [
      "poor cinderelly. every time she finds a minute that's time when they begin it. cinderelly, cinderelly. \n",
      "\n",
      "\n",
      "cinderella! \n",
      "\n",
      "\n",
      "cinderelly, cinderelly night and day it's cinderelly make the fire fix the breakfast wash the dishes do the mopping and the sweeping and the dusting they always keep her hopping she go around in circles till she very, very dizzy still they holler keep a busy cinderelly \n",
      "\n",
      "\n",
      "yeah. keep a busy. you know what? cinderelly's not going to the ball. \n",
      "\n",
      "\n",
      "what? not going? what did you say? \n",
      "\n",
      "\n",
      "you'll see they fix her. work, work, work. she'll never get her dress done. \n",
      "\n",
      "\n",
      "ppoor cinderelly. \n",
      "\n",
      "\n",
      "hey we can do it! we can do it!, we can do it! we can help our cinderelly we can make the dress so pretty there's nothing to it, really we'll tie a sash around it put a ribbon thru it when dancing at the ball she'll be more beautiful than all in the lovely dress we'll make for cinderelly hurry!, hurry! hurry! hurry! gonna help our cinderelly got no time to dilly, dally we gotta get a goin' i'll cut with these scissors and i can do the sewing leave the sewing to the women you go get some trimmin' and we'll make a lovely dress for cinderelly we'll make a lovely dress for cinderelly \n",
      "\n",
      "\n",
      "follow me gusgus. i know where to go. find the prettypretty. quick as you can, cinderelly be surprised. \n",
      "\n",
      "\n",
      "surprise, surprise. pretty surprise for cinderelly. \n",
      "\n",
      "\n",
      "and this too, cinderella. my slippers. now don't forget \n",
      "\n",
      "\n",
      "cinderella take my dress. \n",
      "\n",
      "\n",
      "here mend the buttonholes. \n",
      "\n",
      "\n",
      "and press my skirt too and mind the ruffles. \n",
      "\n",
      "\n",
      "and cinderella \n",
      "\n",
      "\n",
      "yes? \n",
      "\n",
      "\n"
     ]
    }
   ],
   "source": [
    "for line in cinderella.Text.iloc[174:190]:\n",
    "    print(line)\n",
    "    print('\\n')"
   ]
  },
  {
   "cell_type": "code",
   "execution_count": 251,
   "metadata": {},
   "outputs": [],
   "source": [
    "#176, 181 are songs"
   ]
  },
  {
   "cell_type": "code",
   "execution_count": 252,
   "metadata": {},
   "outputs": [
    {
     "name": "stdout",
     "output_type": "stream",
     "text": [
      "ahem. \n",
      "\n",
      "\n",
      "so this is love, mmm \n",
      "\n",
      "\n",
      "so this is love \n",
      "\n",
      "\n",
      "so this is what makes life divine i'm all aglow, mmm and now i know and now i know the key to all heaven is mine my heart has wings, mmm and i can fly i'll touch every star in the sky so this is the miracle that i've been dreaming of mmm, mmm so this is love \n",
      "\n",
      "\n",
      "oh my goodness! \n",
      "\n",
      "\n",
      "what's the matter? \n",
      "\n",
      "\n",
      "it's midnight. \n",
      "\n",
      "\n",
      "yes so it is but why \n",
      "\n",
      "\n",
      "goodbye \n",
      "\n",
      "\n",
      "no, no wait. you can't go now. it's only \n",
      "\n",
      "\n"
     ]
    }
   ],
   "source": [
    "for line in cinderella.Text.iloc[305:315]:\n",
    "    print(line)\n",
    "    print('\\n')"
   ]
  },
  {
   "cell_type": "code",
   "execution_count": 256,
   "metadata": {},
   "outputs": [
    {
     "name": "stdout",
     "output_type": "stream",
     "text": [
      "are you going to let her walk \n",
      "\n",
      "\n",
      "quiet! \n",
      "\n",
      "\n",
      "ladadada so this is love lada dadadadum ladadadum \n",
      "\n",
      "\n",
      "what's she gonna do? \n",
      "\n",
      "\n",
      "shhh. i don't know. gotta watch her. come on! \n",
      "\n",
      "\n",
      "ladatadadada \n",
      "\n",
      "\n",
      "cinderelly! \n",
      "\n",
      "\n",
      "cinderelly! \n",
      "\n",
      "\n",
      "so this is the miracle that i've been dreaming of \n",
      "\n",
      "\n",
      "look out! look out!. behind you! behind you! \n",
      "\n",
      "\n",
      "what? \n",
      "\n",
      "\n",
      "oh, oh no! no please! oh you can't. you just can't! let me out! you must let me out! you can't keep me in here! oh please! \n",
      "\n",
      "\n"
     ]
    }
   ],
   "source": [
    "#306, 307, 308\n",
    "for line in cinderella.Text.iloc[408:420]:\n",
    "    print(line)\n",
    "    print('\\n')"
   ]
  },
  {
   "cell_type": "code",
   "execution_count": 257,
   "metadata": {},
   "outputs": [
    {
     "name": "stdout",
     "output_type": "stream",
     "text": [
      "look what she did! \n",
      "\n",
      "\n",
      "uhm duh, duh how she do it? \n",
      "\n",
      "\n",
      "now let's see. hmm. i'd say the first thing you need is aa pumpkin. \n",
      "\n",
      "\n",
      "a pumpkin? \n",
      "\n",
      "\n",
      "hmmhmmm. now hu now the magic words. uhoh ahem! \n",
      "\n",
      "\n",
      "salagadoolamenchikaboola bibbidibobbidiboo put'em together and what have you got bibbidibobbidiboo salagadoolamenchikaboola bibbidibobbidiboo it'll do magic believe it or not bibbidibobbidiboo now salagadoola means menchika booleroo but the thina a mabob that does the job is bibbidibobbidiboo salagadoolamenchikaboola bibbidibobbidiboo put'em together and what have you got bibbidibobbidi bibbidibobbidi bibbidibobbidiboo \n",
      "\n",
      "\n",
      "oh lookee, lookee! isn't it wonderfee? isn't it huh? \n",
      "\n",
      "\n",
      "oh it's beautiful! \n",
      "\n",
      "\n",
      "yes isn't it?. now with an elegant coach like that of course we'll simply have to have, uh.... \n",
      "\n",
      "\n",
      "ahem \n",
      "\n",
      "\n",
      "mice. \n",
      "\n",
      "\n",
      "uh, uh mice? \n",
      "\n",
      "\n",
      "oh this is really as nice. why we'll have a coach and four when we're through. just a wave of my stick and to finish the trick, bibbidi, bobbidi, boo gus runs away gracious, what did i do? i was sure there were four of them. there should be one more... there you are, bibbidi, bobbidi, boo! \n",
      "\n",
      "\n",
      "oh poor lucifer. \n",
      "\n",
      "\n",
      "serves him right i'd say. now, um, where were we? oh goodness yes. you can't go to the ball without aa horse. \n",
      "\n",
      "\n",
      "another one? \n",
      "\n",
      "\n",
      "but tonight for a change you'll handle the reins and sit in the driver's seat too. for instead of a horse you're the coachman of course. bibbidi, bobbidi, boo!. well that does it. i guess except foroh yes the finishing touch. and that's you. yes bruno that's right. you'll be footman tonight. bibbidi, bobbidi, boo! well, well hop in my dear. we can't waste time. \n",
      "\n",
      "\n",
      "but uh \n",
      "\n",
      "\n",
      "oh now, now, now. don't try to thank me. \n",
      "\n",
      "\n",
      "oh i wasn't. ii mean, i do butbut don't you think my dress \n",
      "\n",
      "\n",
      "yes it's lovely, dear. good heavens child! you can't go in that. now uh, let's see dear. your size and the shade of your eyes. mmhmmm. something simple but daring too. oh! just leave it to me. what a gown this will be. bibbidi, bobbidi, bibbidi, bobbidi, bibbidi, bobbidi, boo! \n",
      "\n",
      "\n",
      "oh it's a beautiful dress. did you ever see such a beautiful dress? and look glass slippers. why it's like a dream. a wonderful dream come true. \n",
      "\n",
      "\n",
      "yes my child, but like all dreams well, i'm afraid this can't last forever. you'll have only till midnight and then \n",
      "\n",
      "\n",
      "midnight? oh thank you. \n",
      "\n",
      "\n",
      "oh, now, now, now just a moment. you must understand my dear. on the stroke of twelve the spell will be broken and everything will be as it was before. \n",
      "\n",
      "\n",
      "oh i understand but it's more than i ever hoped for. \n",
      "\n",
      "\n",
      "bless you my child. igoodness me! it's getting late! hurry up dear. the ball can't wait. have a good time. dance! be gay! now off you go. you're on your way. with a bibbidibobbidi bibbidi, bobbidi bibbidibobbidiboo \n",
      "\n",
      "\n",
      "the princess federica eugenie de la fontaine. m'amselle augustine dubois, the daughter of general pierre dubois. \n",
      "\n",
      "\n",
      "bah! the boy isn't cooperating. \n",
      "\n",
      "\n",
      "m'amselle leonore mercedes de la torre, daughter of colonel and madam de la torre. \n",
      "\n",
      "\n"
     ]
    }
   ],
   "source": [
    "#410, 413, 416 are songs\n",
    "for line in cinderella.Text.iloc[255:285]:\n",
    "    print(line)\n",
    "    print('\\n')"
   ]
  },
  {
   "cell_type": "code",
   "execution_count": 258,
   "metadata": {},
   "outputs": [],
   "source": [
    "#260, 267, 271 are songs (i left out other lines w/ bibbidi in them because they are mostly spoken)"
   ]
  },
  {
   "cell_type": "code",
   "execution_count": 263,
   "metadata": {},
   "outputs": [
    {
     "data": {
      "text/plain": [
       "array(['offstage singing voice', 'narrator', 'cinderella', 'birds',\n",
       "       'birds chirping', 'jaq', 'mice', 'gus', 'lucifer', 'mouse',\n",
       "       'anastasia', 'drizella', 'anastasia and drizella', 'stepmother',\n",
       "       'king', 'grand duke', 'royal postman', 'jaq and mice',\n",
       "       'perla and mice', 'offscreen singing', 'fairy godmother', 'horse',\n",
       "       'herald', 'prince', 'both', 'ladies', 'jaq and gus', 'coachman',\n",
       "       'singing'], dtype=object)"
      ]
     },
     "execution_count": 263,
     "metadata": {},
     "output_type": "execute_result"
    }
   ],
   "source": [
    "#Finally, looking at chorus and singing voice lines\n",
    "cinderella.Speaker.unique()"
   ]
  },
  {
   "cell_type": "code",
   "execution_count": 268,
   "metadata": {},
   "outputs": [
    {
     "data": {
      "text/html": [
       "<div>\n",
       "<style scoped>\n",
       "    .dataframe tbody tr th:only-of-type {\n",
       "        vertical-align: middle;\n",
       "    }\n",
       "\n",
       "    .dataframe tbody tr th {\n",
       "        vertical-align: top;\n",
       "    }\n",
       "\n",
       "    .dataframe thead th {\n",
       "        text-align: right;\n",
       "    }\n",
       "</style>\n",
       "<table border=\"1\" class=\"dataframe\">\n",
       "  <thead>\n",
       "    <tr style=\"text-align: right;\">\n",
       "      <th></th>\n",
       "      <th>Speaker</th>\n",
       "      <th>Text</th>\n",
       "    </tr>\n",
       "  </thead>\n",
       "  <tbody>\n",
       "    <tr>\n",
       "      <th>0</th>\n",
       "      <td>offstage singing voice</td>\n",
       "      <td>cinderella, you're as lovely as your name cind...</td>\n",
       "    </tr>\n",
       "  </tbody>\n",
       "</table>\n",
       "</div>"
      ],
      "text/plain": [
       "                  Speaker                                               Text\n",
       "0  offstage singing voice  cinderella, you're as lovely as your name cind..."
      ]
     },
     "execution_count": 268,
     "metadata": {},
     "output_type": "execute_result"
    }
   ],
   "source": [
    "cinderella[[\"Speaker\", \"Text\"]][cinderella.Speaker == 'offstage singing voice']"
   ]
  },
  {
   "cell_type": "code",
   "execution_count": 269,
   "metadata": {},
   "outputs": [
    {
     "data": {
      "text/html": [
       "<div>\n",
       "<style scoped>\n",
       "    .dataframe tbody tr th:only-of-type {\n",
       "        vertical-align: middle;\n",
       "    }\n",
       "\n",
       "    .dataframe tbody tr th {\n",
       "        vertical-align: top;\n",
       "    }\n",
       "\n",
       "    .dataframe thead th {\n",
       "        text-align: right;\n",
       "    }\n",
       "</style>\n",
       "<table border=\"1\" class=\"dataframe\">\n",
       "  <thead>\n",
       "    <tr style=\"text-align: right;\">\n",
       "      <th></th>\n",
       "      <th>Speaker</th>\n",
       "      <th>Text</th>\n",
       "    </tr>\n",
       "  </thead>\n",
       "  <tbody>\n",
       "    <tr>\n",
       "      <th>234</th>\n",
       "      <td>offscreen singing</td>\n",
       "      <td>in dreams you will lose your heartaches whatev...</td>\n",
       "    </tr>\n",
       "    <tr>\n",
       "      <th>236</th>\n",
       "      <td>offscreen singing</td>\n",
       "      <td>have faith in your dreams and someday</td>\n",
       "    </tr>\n",
       "    <tr>\n",
       "      <th>238</th>\n",
       "      <td>offscreen singing</td>\n",
       "      <td>your rainbow will come smiling through</td>\n",
       "    </tr>\n",
       "    <tr>\n",
       "      <th>240</th>\n",
       "      <td>offscreen singing</td>\n",
       "      <td>no matter how your heart is grieving if you ke...</td>\n",
       "    </tr>\n",
       "    <tr>\n",
       "      <th>242</th>\n",
       "      <td>offscreen singing</td>\n",
       "      <td>the dream that you wish will come true</td>\n",
       "    </tr>\n",
       "  </tbody>\n",
       "</table>\n",
       "</div>"
      ],
      "text/plain": [
       "               Speaker                                               Text\n",
       "234  offscreen singing  in dreams you will lose your heartaches whatev...\n",
       "236  offscreen singing             have faith in your dreams and someday \n",
       "238  offscreen singing            your rainbow will come smiling through \n",
       "240  offscreen singing  no matter how your heart is grieving if you ke...\n",
       "242  offscreen singing            the dream that you wish will come true "
      ]
     },
     "execution_count": 269,
     "metadata": {},
     "output_type": "execute_result"
    }
   ],
   "source": [
    "cinderella[[\"Speaker\", \"Text\"]][cinderella.Speaker == 'offscreen singing']"
   ]
  },
  {
   "cell_type": "code",
   "execution_count": 270,
   "metadata": {},
   "outputs": [
    {
     "data": {
      "text/html": [
       "<div>\n",
       "<style scoped>\n",
       "    .dataframe tbody tr th:only-of-type {\n",
       "        vertical-align: middle;\n",
       "    }\n",
       "\n",
       "    .dataframe tbody tr th {\n",
       "        vertical-align: top;\n",
       "    }\n",
       "\n",
       "    .dataframe thead th {\n",
       "        text-align: right;\n",
       "    }\n",
       "</style>\n",
       "<table border=\"1\" class=\"dataframe\">\n",
       "  <thead>\n",
       "    <tr style=\"text-align: right;\">\n",
       "      <th></th>\n",
       "      <th>Speaker</th>\n",
       "      <th>Text</th>\n",
       "    </tr>\n",
       "  </thead>\n",
       "  <tbody>\n",
       "    <tr>\n",
       "      <th>496</th>\n",
       "      <td>singing</td>\n",
       "      <td>have faith in dreams and someday your rainbow ...</td>\n",
       "    </tr>\n",
       "  </tbody>\n",
       "</table>\n",
       "</div>"
      ],
      "text/plain": [
       "     Speaker                                               Text\n",
       "496  singing  have faith in dreams and someday your rainbow ..."
      ]
     },
     "execution_count": 270,
     "metadata": {},
     "output_type": "execute_result"
    }
   ],
   "source": [
    "cinderella[[\"Speaker\", \"Text\"]][cinderella.Speaker == 'singing']"
   ]
  },
  {
   "cell_type": "code",
   "execution_count": 273,
   "metadata": {},
   "outputs": [
    {
     "name": "stderr",
     "output_type": "stream",
     "text": [
      "c:\\users\\cassi\\appdata\\local\\programs\\python\\python36-32\\lib\\site-packages\\ipykernel_launcher.py:3: SettingWithCopyWarning: \n",
      "A value is trying to be set on a copy of a slice from a DataFrame.\n",
      "Try using .loc[row_indexer,col_indexer] = value instead\n",
      "\n",
      "See the caveats in the documentation: http://pandas.pydata.org/pandas-docs/stable/indexing.html#indexing-view-versus-copy\n",
      "  This is separate from the ipykernel package so we can avoid doing imports until\n"
     ]
    }
   ],
   "source": [
    "c_songs = [0, 8,9, 126, 127, 134, 176, 181, 234, 236, 238, 240, 242, 260, 267, 271, 306, 307, 308, 410, 413, 416]\n",
    "song_func = partial(is_dialogue, song=c_songs)\n",
    "cinderella[\"Song\"] = cinderella.index.map(song_func)"
   ]
  },
  {
   "cell_type": "code",
   "execution_count": 274,
   "metadata": {},
   "outputs": [
    {
     "data": {
      "text/html": [
       "<div>\n",
       "<style scoped>\n",
       "    .dataframe tbody tr th:only-of-type {\n",
       "        vertical-align: middle;\n",
       "    }\n",
       "\n",
       "    .dataframe tbody tr th {\n",
       "        vertical-align: top;\n",
       "    }\n",
       "\n",
       "    .dataframe thead th {\n",
       "        text-align: right;\n",
       "    }\n",
       "</style>\n",
       "<table border=\"1\" class=\"dataframe\">\n",
       "  <thead>\n",
       "    <tr style=\"text-align: right;\">\n",
       "      <th></th>\n",
       "      <th>Disney_Period</th>\n",
       "      <th>Gender</th>\n",
       "      <th>Movie</th>\n",
       "      <th>Role</th>\n",
       "      <th>Song</th>\n",
       "      <th>Speaker</th>\n",
       "      <th>Speaker_Status</th>\n",
       "      <th>Start_Scene</th>\n",
       "      <th>Text</th>\n",
       "      <th>UTTERANCE_NUMBER</th>\n",
       "      <th>Year</th>\n",
       "    </tr>\n",
       "  </thead>\n",
       "  <tbody>\n",
       "    <tr>\n",
       "      <th>0</th>\n",
       "      <td>EARLY</td>\n",
       "      <td>n</td>\n",
       "      <td>Cinderella</td>\n",
       "      <td>N</td>\n",
       "      <td>S</td>\n",
       "      <td>offstage singing voice</td>\n",
       "      <td>NON-P</td>\n",
       "      <td>NaN</td>\n",
       "      <td>cinderella, you're as lovely as your name cind...</td>\n",
       "      <td>1</td>\n",
       "      <td>1950</td>\n",
       "    </tr>\n",
       "    <tr>\n",
       "      <th>1</th>\n",
       "      <td>EARLY</td>\n",
       "      <td>f</td>\n",
       "      <td>Cinderella</td>\n",
       "      <td>N</td>\n",
       "      <td>D</td>\n",
       "      <td>narrator</td>\n",
       "      <td>NON-P</td>\n",
       "      <td>NaN</td>\n",
       "      <td>once upon a time in a faraway land there was a...</td>\n",
       "      <td>2</td>\n",
       "      <td>1950</td>\n",
       "    </tr>\n",
       "    <tr>\n",
       "      <th>2</th>\n",
       "      <td>EARLY</td>\n",
       "      <td>f</td>\n",
       "      <td>Cinderella</td>\n",
       "      <td>PRO</td>\n",
       "      <td>D</td>\n",
       "      <td>cinderella</td>\n",
       "      <td>NON-P</td>\n",
       "      <td>NaN</td>\n",
       "      <td>well, try again. okay wake up, wake up. cinder...</td>\n",
       "      <td>3</td>\n",
       "      <td>1950</td>\n",
       "    </tr>\n",
       "    <tr>\n",
       "      <th>3</th>\n",
       "      <td>EARLY</td>\n",
       "      <td>f</td>\n",
       "      <td>Cinderella</td>\n",
       "      <td>PRO</td>\n",
       "      <td>D</td>\n",
       "      <td>cinderella</td>\n",
       "      <td>PRINCESS</td>\n",
       "      <td>NaN</td>\n",
       "      <td>well serves you right spoiling people's best d...</td>\n",
       "      <td>4</td>\n",
       "      <td>1950</td>\n",
       "    </tr>\n",
       "    <tr>\n",
       "      <th>4</th>\n",
       "      <td>EARLY</td>\n",
       "      <td>n</td>\n",
       "      <td>Cinderella</td>\n",
       "      <td>HELPER</td>\n",
       "      <td>D</td>\n",
       "      <td>birds</td>\n",
       "      <td>NON-P</td>\n",
       "      <td>NaN</td>\n",
       "      <td>what kind of dream?</td>\n",
       "      <td>5</td>\n",
       "      <td>1950</td>\n",
       "    </tr>\n",
       "  </tbody>\n",
       "</table>\n",
       "</div>"
      ],
      "text/plain": [
       "  Disney_Period Gender       Movie    Role Song                 Speaker  \\\n",
       "0         EARLY      n  Cinderella       N    S  offstage singing voice   \n",
       "1         EARLY      f  Cinderella       N    D                narrator   \n",
       "2         EARLY      f  Cinderella     PRO    D              cinderella   \n",
       "3         EARLY      f  Cinderella     PRO    D              cinderella   \n",
       "4         EARLY      n  Cinderella  HELPER    D                   birds   \n",
       "\n",
       "  Speaker_Status Start_Scene  \\\n",
       "0          NON-P         NaN   \n",
       "1          NON-P         NaN   \n",
       "2          NON-P         NaN   \n",
       "3       PRINCESS         NaN   \n",
       "4          NON-P         NaN   \n",
       "\n",
       "                                                Text  UTTERANCE_NUMBER  Year  \n",
       "0  cinderella, you're as lovely as your name cind...                 1  1950  \n",
       "1  once upon a time in a faraway land there was a...                 2  1950  \n",
       "2  well, try again. okay wake up, wake up. cinder...                 3  1950  \n",
       "3  well serves you right spoiling people's best d...                 4  1950  \n",
       "4                               what kind of dream?                  5  1950  "
      ]
     },
     "execution_count": 274,
     "metadata": {},
     "output_type": "execute_result"
    }
   ],
   "source": [
    "cinderella.head()"
   ]
  },
  {
   "cell_type": "markdown",
   "metadata": {},
   "source": [
    "## Sleeping Beauty\n",
    "### 1) Gender"
   ]
  },
  {
   "cell_type": "code",
   "execution_count": 277,
   "metadata": {},
   "outputs": [],
   "source": [
    "s_b = disney[disney.Movie == 'Sleeping Beauty']"
   ]
  },
  {
   "cell_type": "code",
   "execution_count": 278,
   "metadata": {},
   "outputs": [
    {
     "data": {
      "text/html": [
       "<div>\n",
       "<style scoped>\n",
       "    .dataframe tbody tr th:only-of-type {\n",
       "        vertical-align: middle;\n",
       "    }\n",
       "\n",
       "    .dataframe tbody tr th {\n",
       "        vertical-align: top;\n",
       "    }\n",
       "\n",
       "    .dataframe thead th {\n",
       "        text-align: right;\n",
       "    }\n",
       "</style>\n",
       "<table border=\"1\" class=\"dataframe\">\n",
       "  <thead>\n",
       "    <tr style=\"text-align: right;\">\n",
       "      <th></th>\n",
       "      <th>Disney_Period</th>\n",
       "      <th>Gender</th>\n",
       "      <th>Movie</th>\n",
       "      <th>Role</th>\n",
       "      <th>Song</th>\n",
       "      <th>Speaker</th>\n",
       "      <th>Speaker_Status</th>\n",
       "      <th>Start_Scene</th>\n",
       "      <th>Text</th>\n",
       "      <th>UTTERANCE_NUMBER</th>\n",
       "      <th>Year</th>\n",
       "    </tr>\n",
       "  </thead>\n",
       "  <tbody>\n",
       "    <tr>\n",
       "      <th>863</th>\n",
       "      <td>EARLY</td>\n",
       "      <td>NaN</td>\n",
       "      <td>Sleeping Beauty</td>\n",
       "      <td>NaN</td>\n",
       "      <td>NaN</td>\n",
       "      <td>narrator</td>\n",
       "      <td>NON-P</td>\n",
       "      <td>NaN</td>\n",
       "      <td>in a far away land, long ago, lived a king and...</td>\n",
       "      <td>1</td>\n",
       "      <td>1959</td>\n",
       "    </tr>\n",
       "    <tr>\n",
       "      <th>864</th>\n",
       "      <td>EARLY</td>\n",
       "      <td>NaN</td>\n",
       "      <td>Sleeping Beauty</td>\n",
       "      <td>NaN</td>\n",
       "      <td>NaN</td>\n",
       "      <td>choir</td>\n",
       "      <td>NON-P</td>\n",
       "      <td>NaN</td>\n",
       "      <td>joyfully now to our princess we come, bringing...</td>\n",
       "      <td>2</td>\n",
       "      <td>1959</td>\n",
       "    </tr>\n",
       "    <tr>\n",
       "      <th>865</th>\n",
       "      <td>EARLY</td>\n",
       "      <td>NaN</td>\n",
       "      <td>Sleeping Beauty</td>\n",
       "      <td>NaN</td>\n",
       "      <td>NaN</td>\n",
       "      <td>narrator</td>\n",
       "      <td>NON-P</td>\n",
       "      <td>NaN</td>\n",
       "      <td>thus on this great and joyous day did all the ...</td>\n",
       "      <td>3</td>\n",
       "      <td>1959</td>\n",
       "    </tr>\n",
       "    <tr>\n",
       "      <th>866</th>\n",
       "      <td>EARLY</td>\n",
       "      <td>NaN</td>\n",
       "      <td>Sleeping Beauty</td>\n",
       "      <td>NaN</td>\n",
       "      <td>NaN</td>\n",
       "      <td>announcer</td>\n",
       "      <td>NON-P</td>\n",
       "      <td>NaN</td>\n",
       "      <td>their royal highnesses, king hubert and prince...</td>\n",
       "      <td>4</td>\n",
       "      <td>1959</td>\n",
       "    </tr>\n",
       "    <tr>\n",
       "      <th>867</th>\n",
       "      <td>EARLY</td>\n",
       "      <td>NaN</td>\n",
       "      <td>Sleeping Beauty</td>\n",
       "      <td>NaN</td>\n",
       "      <td>NaN</td>\n",
       "      <td>narrator</td>\n",
       "      <td>NON-P</td>\n",
       "      <td>NaN</td>\n",
       "      <td>fondly had these monarchs dreamed one day thei...</td>\n",
       "      <td>5</td>\n",
       "      <td>1959</td>\n",
       "    </tr>\n",
       "  </tbody>\n",
       "</table>\n",
       "</div>"
      ],
      "text/plain": [
       "    Disney_Period Gender            Movie Role Song    Speaker Speaker_Status  \\\n",
       "863         EARLY    NaN  Sleeping Beauty  NaN  NaN   narrator          NON-P   \n",
       "864         EARLY    NaN  Sleeping Beauty  NaN  NaN      choir          NON-P   \n",
       "865         EARLY    NaN  Sleeping Beauty  NaN  NaN   narrator          NON-P   \n",
       "866         EARLY    NaN  Sleeping Beauty  NaN  NaN  announcer          NON-P   \n",
       "867         EARLY    NaN  Sleeping Beauty  NaN  NaN   narrator          NON-P   \n",
       "\n",
       "    Start_Scene                                               Text  \\\n",
       "863         NaN  in a far away land, long ago, lived a king and...   \n",
       "864         NaN  joyfully now to our princess we come, bringing...   \n",
       "865         NaN  thus on this great and joyous day did all the ...   \n",
       "866         NaN  their royal highnesses, king hubert and prince...   \n",
       "867         NaN  fondly had these monarchs dreamed one day thei...   \n",
       "\n",
       "     UTTERANCE_NUMBER  Year  \n",
       "863                 1  1959  \n",
       "864                 2  1959  \n",
       "865                 3  1959  \n",
       "866                 4  1959  \n",
       "867                 5  1959  "
      ]
     },
     "execution_count": 278,
     "metadata": {},
     "output_type": "execute_result"
    }
   ],
   "source": [
    "s_b.head()"
   ]
  },
  {
   "cell_type": "code",
   "execution_count": 279,
   "metadata": {},
   "outputs": [
    {
     "name": "stdout",
     "output_type": "stream",
     "text": [
      "<class 'pandas.core.frame.DataFrame'>\n",
      "Int64Index: 462 entries, 863 to 1324\n",
      "Data columns (total 11 columns):\n",
      "Disney_Period       462 non-null object\n",
      "Gender              0 non-null object\n",
      "Movie               462 non-null object\n",
      "Role                0 non-null object\n",
      "Song                0 non-null object\n",
      "Speaker             462 non-null object\n",
      "Speaker_Status      462 non-null object\n",
      "Start_Scene         0 non-null object\n",
      "Text                462 non-null object\n",
      "UTTERANCE_NUMBER    462 non-null int64\n",
      "Year                462 non-null int64\n",
      "dtypes: int64(2), object(9)\n",
      "memory usage: 27.1+ KB\n"
     ]
    }
   ],
   "source": [
    "s_b.info()"
   ]
  },
  {
   "cell_type": "code",
   "execution_count": 280,
   "metadata": {},
   "outputs": [
    {
     "data": {
      "text/plain": [
       "array(['narrator', 'choir', 'announcer', 'fairies', 'flora', 'fauna',\n",
       "       'merryweather', 'maleficent', 'queen', 'stefan', '1st servant',\n",
       "       '2nd servant', 'servants', 'briar rose', 'phillip', 'owl', 'both',\n",
       "       'hubert'], dtype=object)"
      ]
     },
     "execution_count": 280,
     "metadata": {},
     "output_type": "execute_result"
    }
   ],
   "source": [
    "s_b.Speaker.unique()"
   ]
  },
  {
   "cell_type": "code",
   "execution_count": 284,
   "metadata": {},
   "outputs": [
    {
     "data": {
      "text/plain": [
       "18"
      ]
     },
     "execution_count": 284,
     "metadata": {},
     "output_type": "execute_result"
    }
   ],
   "source": [
    "len(s_b.Speaker.unique())"
   ]
  },
  {
   "cell_type": "code",
   "execution_count": 285,
   "metadata": {},
   "outputs": [],
   "source": [
    "s_b_female = ['fairies', 'flora', 'fauna', 'merryweather', 'maleficent', 'queen', 'briar rose']\n",
    "s_b_male = ['narrator', 'announcer', 'stefan', '1st servant', 'servants', '2nd servant', 'phillip', 'hubert']\n"
   ]
  },
  {
   "cell_type": "code",
   "execution_count": 286,
   "metadata": {},
   "outputs": [
    {
     "data": {
      "text/plain": [
       "15"
      ]
     },
     "execution_count": 286,
     "metadata": {},
     "output_type": "execute_result"
    }
   ],
   "source": [
    "len(s_b_female) + len(s_b_male)"
   ]
  },
  {
   "cell_type": "code",
   "execution_count": 287,
   "metadata": {},
   "outputs": [
    {
     "name": "stderr",
     "output_type": "stream",
     "text": [
      "c:\\users\\cassi\\appdata\\local\\programs\\python\\python36-32\\lib\\site-packages\\ipykernel_launcher.py:2: SettingWithCopyWarning: \n",
      "A value is trying to be set on a copy of a slice from a DataFrame.\n",
      "Try using .loc[row_indexer,col_indexer] = value instead\n",
      "\n",
      "See the caveats in the documentation: http://pandas.pydata.org/pandas-docs/stable/indexing.html#indexing-view-versus-copy\n",
      "  \n"
     ]
    }
   ],
   "source": [
    "gender_func = partial(whichgen, female = s_b_female, male=s_b_male)\n",
    "s_b[\"Gender\"] = s_b.Speaker.map(gender_func)"
   ]
  },
  {
   "cell_type": "code",
   "execution_count": 288,
   "metadata": {},
   "outputs": [
    {
     "data": {
      "text/html": [
       "<div>\n",
       "<style scoped>\n",
       "    .dataframe tbody tr th:only-of-type {\n",
       "        vertical-align: middle;\n",
       "    }\n",
       "\n",
       "    .dataframe tbody tr th {\n",
       "        vertical-align: top;\n",
       "    }\n",
       "\n",
       "    .dataframe thead th {\n",
       "        text-align: right;\n",
       "    }\n",
       "</style>\n",
       "<table border=\"1\" class=\"dataframe\">\n",
       "  <thead>\n",
       "    <tr style=\"text-align: right;\">\n",
       "      <th></th>\n",
       "      <th>Disney_Period</th>\n",
       "      <th>Gender</th>\n",
       "      <th>Movie</th>\n",
       "      <th>Role</th>\n",
       "      <th>Song</th>\n",
       "      <th>Speaker</th>\n",
       "      <th>Speaker_Status</th>\n",
       "      <th>Start_Scene</th>\n",
       "      <th>Text</th>\n",
       "      <th>UTTERANCE_NUMBER</th>\n",
       "      <th>Year</th>\n",
       "    </tr>\n",
       "  </thead>\n",
       "  <tbody>\n",
       "    <tr>\n",
       "      <th>863</th>\n",
       "      <td>EARLY</td>\n",
       "      <td>m</td>\n",
       "      <td>Sleeping Beauty</td>\n",
       "      <td>NaN</td>\n",
       "      <td>NaN</td>\n",
       "      <td>narrator</td>\n",
       "      <td>NON-P</td>\n",
       "      <td>NaN</td>\n",
       "      <td>in a far away land, long ago, lived a king and...</td>\n",
       "      <td>1</td>\n",
       "      <td>1959</td>\n",
       "    </tr>\n",
       "    <tr>\n",
       "      <th>864</th>\n",
       "      <td>EARLY</td>\n",
       "      <td>n</td>\n",
       "      <td>Sleeping Beauty</td>\n",
       "      <td>NaN</td>\n",
       "      <td>NaN</td>\n",
       "      <td>choir</td>\n",
       "      <td>NON-P</td>\n",
       "      <td>NaN</td>\n",
       "      <td>joyfully now to our princess we come, bringing...</td>\n",
       "      <td>2</td>\n",
       "      <td>1959</td>\n",
       "    </tr>\n",
       "    <tr>\n",
       "      <th>865</th>\n",
       "      <td>EARLY</td>\n",
       "      <td>m</td>\n",
       "      <td>Sleeping Beauty</td>\n",
       "      <td>NaN</td>\n",
       "      <td>NaN</td>\n",
       "      <td>narrator</td>\n",
       "      <td>NON-P</td>\n",
       "      <td>NaN</td>\n",
       "      <td>thus on this great and joyous day did all the ...</td>\n",
       "      <td>3</td>\n",
       "      <td>1959</td>\n",
       "    </tr>\n",
       "    <tr>\n",
       "      <th>866</th>\n",
       "      <td>EARLY</td>\n",
       "      <td>m</td>\n",
       "      <td>Sleeping Beauty</td>\n",
       "      <td>NaN</td>\n",
       "      <td>NaN</td>\n",
       "      <td>announcer</td>\n",
       "      <td>NON-P</td>\n",
       "      <td>NaN</td>\n",
       "      <td>their royal highnesses, king hubert and prince...</td>\n",
       "      <td>4</td>\n",
       "      <td>1959</td>\n",
       "    </tr>\n",
       "    <tr>\n",
       "      <th>867</th>\n",
       "      <td>EARLY</td>\n",
       "      <td>m</td>\n",
       "      <td>Sleeping Beauty</td>\n",
       "      <td>NaN</td>\n",
       "      <td>NaN</td>\n",
       "      <td>narrator</td>\n",
       "      <td>NON-P</td>\n",
       "      <td>NaN</td>\n",
       "      <td>fondly had these monarchs dreamed one day thei...</td>\n",
       "      <td>5</td>\n",
       "      <td>1959</td>\n",
       "    </tr>\n",
       "  </tbody>\n",
       "</table>\n",
       "</div>"
      ],
      "text/plain": [
       "    Disney_Period Gender            Movie Role Song    Speaker Speaker_Status  \\\n",
       "863         EARLY      m  Sleeping Beauty  NaN  NaN   narrator          NON-P   \n",
       "864         EARLY      n  Sleeping Beauty  NaN  NaN      choir          NON-P   \n",
       "865         EARLY      m  Sleeping Beauty  NaN  NaN   narrator          NON-P   \n",
       "866         EARLY      m  Sleeping Beauty  NaN  NaN  announcer          NON-P   \n",
       "867         EARLY      m  Sleeping Beauty  NaN  NaN   narrator          NON-P   \n",
       "\n",
       "    Start_Scene                                               Text  \\\n",
       "863         NaN  in a far away land, long ago, lived a king and...   \n",
       "864         NaN  joyfully now to our princess we come, bringing...   \n",
       "865         NaN  thus on this great and joyous day did all the ...   \n",
       "866         NaN  their royal highnesses, king hubert and prince...   \n",
       "867         NaN  fondly had these monarchs dreamed one day thei...   \n",
       "\n",
       "     UTTERANCE_NUMBER  Year  \n",
       "863                 1  1959  \n",
       "864                 2  1959  \n",
       "865                 3  1959  \n",
       "866                 4  1959  \n",
       "867                 5  1959  "
      ]
     },
     "execution_count": 288,
     "metadata": {},
     "output_type": "execute_result"
    }
   ],
   "source": [
    "s_b.head()"
   ]
  },
  {
   "cell_type": "markdown",
   "metadata": {},
   "source": [
    "### 2) Role"
   ]
  },
  {
   "cell_type": "code",
   "execution_count": 289,
   "metadata": {},
   "outputs": [],
   "source": [
    "s_b_pro = ['briar rose', 'phillip']\n",
    "s_b_ant = ['maleficent']\n",
    "s_b_helper = ['fairies', 'flora', 'fauna', 'merryweather']"
   ]
  },
  {
   "cell_type": "code",
   "execution_count": 290,
   "metadata": {},
   "outputs": [
    {
     "name": "stderr",
     "output_type": "stream",
     "text": [
      "c:\\users\\cassi\\appdata\\local\\programs\\python\\python36-32\\lib\\site-packages\\ipykernel_launcher.py:2: SettingWithCopyWarning: \n",
      "A value is trying to be set on a copy of a slice from a DataFrame.\n",
      "Try using .loc[row_indexer,col_indexer] = value instead\n",
      "\n",
      "See the caveats in the documentation: http://pandas.pydata.org/pandas-docs/stable/indexing.html#indexing-view-versus-copy\n",
      "  \n"
     ]
    }
   ],
   "source": [
    "role_func = partial(whichrole, pro = s_b_pro, ant = s_b_ant, helper = s_b_helper)\n",
    "s_b[\"Role\"] = s_b.Speaker.map(role_func)"
   ]
  },
  {
   "cell_type": "code",
   "execution_count": 292,
   "metadata": {},
   "outputs": [
    {
     "data": {
      "text/html": [
       "<div>\n",
       "<style scoped>\n",
       "    .dataframe tbody tr th:only-of-type {\n",
       "        vertical-align: middle;\n",
       "    }\n",
       "\n",
       "    .dataframe tbody tr th {\n",
       "        vertical-align: top;\n",
       "    }\n",
       "\n",
       "    .dataframe thead th {\n",
       "        text-align: right;\n",
       "    }\n",
       "</style>\n",
       "<table border=\"1\" class=\"dataframe\">\n",
       "  <thead>\n",
       "    <tr style=\"text-align: right;\">\n",
       "      <th></th>\n",
       "      <th>Disney_Period</th>\n",
       "      <th>Gender</th>\n",
       "      <th>Movie</th>\n",
       "      <th>Role</th>\n",
       "      <th>Song</th>\n",
       "      <th>Speaker</th>\n",
       "      <th>Speaker_Status</th>\n",
       "      <th>Start_Scene</th>\n",
       "      <th>Text</th>\n",
       "      <th>UTTERANCE_NUMBER</th>\n",
       "      <th>Year</th>\n",
       "    </tr>\n",
       "  </thead>\n",
       "  <tbody>\n",
       "    <tr>\n",
       "      <th>1220</th>\n",
       "      <td>EARLY</td>\n",
       "      <td>m</td>\n",
       "      <td>Sleeping Beauty</td>\n",
       "      <td>N</td>\n",
       "      <td>NaN</td>\n",
       "      <td>hubert</td>\n",
       "      <td>NON-P</td>\n",
       "      <td>NaN</td>\n",
       "      <td>you have? where?</td>\n",
       "      <td>358</td>\n",
       "      <td>1959</td>\n",
       "    </tr>\n",
       "    <tr>\n",
       "      <th>1129</th>\n",
       "      <td>EARLY</td>\n",
       "      <td>f</td>\n",
       "      <td>Sleeping Beauty</td>\n",
       "      <td>HELPER</td>\n",
       "      <td>NaN</td>\n",
       "      <td>flora</td>\n",
       "      <td>NON-P</td>\n",
       "      <td>NaN</td>\n",
       "      <td>good gracious, who left the mob running?</td>\n",
       "      <td>267</td>\n",
       "      <td>1959</td>\n",
       "    </tr>\n",
       "    <tr>\n",
       "      <th>886</th>\n",
       "      <td>EARLY</td>\n",
       "      <td>f</td>\n",
       "      <td>Sleeping Beauty</td>\n",
       "      <td>N</td>\n",
       "      <td>NaN</td>\n",
       "      <td>queen</td>\n",
       "      <td>NON-P</td>\n",
       "      <td>NaN</td>\n",
       "      <td>oh no!</td>\n",
       "      <td>24</td>\n",
       "      <td>1959</td>\n",
       "    </tr>\n",
       "    <tr>\n",
       "      <th>1215</th>\n",
       "      <td>EARLY</td>\n",
       "      <td>m</td>\n",
       "      <td>Sleeping Beauty</td>\n",
       "      <td>N</td>\n",
       "      <td>NaN</td>\n",
       "      <td>announcer</td>\n",
       "      <td>NON-P</td>\n",
       "      <td>NaN</td>\n",
       "      <td>his royal highness, prince phillip</td>\n",
       "      <td>353</td>\n",
       "      <td>1959</td>\n",
       "    </tr>\n",
       "    <tr>\n",
       "      <th>1251</th>\n",
       "      <td>EARLY</td>\n",
       "      <td>f</td>\n",
       "      <td>Sleeping Beauty</td>\n",
       "      <td>HELPER</td>\n",
       "      <td>NaN</td>\n",
       "      <td>fairies</td>\n",
       "      <td>NON-P</td>\n",
       "      <td>NaN</td>\n",
       "      <td>rose, rose! where are you? rose!</td>\n",
       "      <td>389</td>\n",
       "      <td>1959</td>\n",
       "    </tr>\n",
       "  </tbody>\n",
       "</table>\n",
       "</div>"
      ],
      "text/plain": [
       "     Disney_Period Gender            Movie    Role Song    Speaker  \\\n",
       "1220         EARLY      m  Sleeping Beauty       N  NaN     hubert   \n",
       "1129         EARLY      f  Sleeping Beauty  HELPER  NaN      flora   \n",
       "886          EARLY      f  Sleeping Beauty       N  NaN      queen   \n",
       "1215         EARLY      m  Sleeping Beauty       N  NaN  announcer   \n",
       "1251         EARLY      f  Sleeping Beauty  HELPER  NaN    fairies   \n",
       "\n",
       "     Speaker_Status Start_Scene                                       Text  \\\n",
       "1220          NON-P         NaN                          you have? where?    \n",
       "1129          NON-P         NaN  good gracious, who left the mob running?    \n",
       "886           NON-P         NaN                                    oh no!    \n",
       "1215          NON-P         NaN        his royal highness, prince phillip    \n",
       "1251          NON-P         NaN          rose, rose! where are you? rose!    \n",
       "\n",
       "      UTTERANCE_NUMBER  Year  \n",
       "1220               358  1959  \n",
       "1129               267  1959  \n",
       "886                 24  1959  \n",
       "1215               353  1959  \n",
       "1251               389  1959  "
      ]
     },
     "execution_count": 292,
     "metadata": {},
     "output_type": "execute_result"
    }
   ],
   "source": [
    "s_b.sample(5)"
   ]
  },
  {
   "cell_type": "markdown",
   "metadata": {},
   "source": [
    "### 3) Song"
   ]
  },
  {
   "cell_type": "code",
   "execution_count": 294,
   "metadata": {},
   "outputs": [],
   "source": [
    "#First, reset index\n",
    "s_b.reset_index(drop=True, inplace = True)"
   ]
  },
  {
   "cell_type": "code",
   "execution_count": 295,
   "metadata": {},
   "outputs": [
    {
     "name": "stdout",
     "output_type": "stream",
     "text": [
      "          Speaker                                               Text\n",
      "1           choir  joyfully now to our princess we come, bringing...\n",
      "4        narrator  fondly had these monarchs dreamed one day thei...\n",
      "7           flora  each of us the child may bless with a single g...\n",
      "8           flora  little princess, my gift shall be the gift of ...\n",
      "9           choir  one gift, beauty rare full of sunshine in her ...\n",
      "10          fauna  tiny princess, my gift shall be the gift of so...\n",
      "11          choir  one gift, the gift of song melody her whole li...\n",
      "12   merryweather              sweet princess, my gift shall be ... \n",
      "21     maleficent  why no, your majesty. and to show i bear no il...\n",
      "27          flora  don't despair, your majesties. merryweather st...\n",
      "35   merryweather  sweet princess, if through this wicked witches...\n",
      "375         flora  lock the door, merryweather! fauna, pull the d...\n",
      "          Speaker                                               Text\n",
      "145  merryweather                         i wonder if she suspects. \n",
      "195  merryweather                          sixteen wonderful years. \n",
      "200    briar rose  i wonder, i wonder, i wonder why each little b...\n",
      "272    briar rose  oh you darlings, this is the happiest day of m...\n",
      "        Speaker                                               Text\n",
      "211  briar rose  and i know it's true that visions are seldom a...\n",
      "214     phillip                                 once upon a dream \n",
      "223     phillip  of course, you said so yourself, once upon a d...\n",
      "224     phillip  i know you i walked with you once upon a dream...\n",
      "225       choir  and i know it's true that visions are seldom a...\n",
      "279  briar rose                                once upon a dream! \n",
      "280  briar rose  i know you i walked with you once upon a dream...\n",
      "358     phillip                                once upon a dream. \n",
      "414      hubert                                once upon a dream. \n",
      "415       flora           once upon a dr... rose! prince phillip! \n",
      "457       choir   i know you, i walked with you once upon a dream \n",
      "461       choir  you'll love me at once the way you did once up...\n",
      "    Speaker                                               Text\n",
      "305  hubert                                           skumps! \n",
      "306  stefan                                            skumps \n",
      "310    both  our children will marry our kingdoms unite sku...\n",
      "315  hubert                   of course. to the home! skumps! \n",
      "316  stefan                                           skumps! \n",
      "320    both                           skumps, skumps, skumps! \n"
     ]
    }
   ],
   "source": [
    "s_b_song_words = ['gift', 'wonder', 'once upon', 'skumps']\n",
    "for line in s_b_song_words:\n",
    "    print(s_b[[\"Speaker\", \"Text\"]][s_b.Text.str.contains(line, regex = False)])"
   ]
  },
  {
   "cell_type": "code",
   "execution_count": 297,
   "metadata": {},
   "outputs": [
    {
     "data": {
      "text/plain": [
       "198                                               ohhh! \n",
       "199                                         no carrots! \n",
       "200    i wonder, i wonder, i wonder why each little b...\n",
       "201    oh dear, why do they still treat me like a chi...\n",
       "202                                                who? \n",
       "203    why, flora and fauna and merryweather. they ne...\n",
       "204    but you know something? i fooled 'em. i have m...\n",
       "Name: Text, dtype: object"
      ]
     },
     "execution_count": 297,
     "metadata": {},
     "output_type": "execute_result"
    }
   ],
   "source": [
    "s_b.Text.iloc[198:205]"
   ]
  },
  {
   "cell_type": "code",
   "execution_count": 300,
   "metadata": {},
   "outputs": [
    {
     "name": "stdout",
     "output_type": "stream",
     "text": [
      "who? who? who? \n",
      "\n",
      "\n",
      "oh, a prince. well, he's tall and handsome and ... and so romantic. oh we walked together, and talked together, and just before we say goodbye, he takes me in his arms, and then ... i wake up. \n",
      "\n",
      "\n",
      "yes, it's only in my dreams. but they say if you dream a thing more than once, it's sure to come true. and i've seen him so many times! \n",
      "\n",
      "\n",
      "you know samson, there was something strange about that voice. too beautiful to be real. maybe it was a mysterious being, a wood sprite ... \n",
      "\n",
      "\n",
      "there, stop! \n",
      "\n",
      "\n",
      "oh, why, it's my dream prince! \n",
      "\n",
      "\n",
      "and i know it's true that visions are seldom all they seem but if i know you i know what you'll do you'll love me at once the way you did once upon a dream \n",
      "\n",
      "\n",
      "but if i know you i know what you'll do you'll love me at once \n",
      "\n",
      "\n",
      "the way you did \n",
      "\n",
      "\n",
      "once upon a dream \n",
      "\n",
      "\n",
      "oh? \n",
      "\n",
      "\n",
      "oh! \n",
      "\n",
      "\n",
      "i'm awfully sorry. i didn't mean to frighten you. \n",
      "\n",
      "\n",
      "oh it wasn't that. it's just that you're a, a ... \n",
      "\n",
      "\n",
      "a stranger? \n",
      "\n",
      "\n",
      "hmmhmm. \n",
      "\n",
      "\n",
      "but don't you remember? we've met before! \n",
      "\n",
      "\n",
      "we, we have? \n",
      "\n",
      "\n",
      "of course, you said so yourself, once upon a dream! \n",
      "\n",
      "\n",
      "i know you i walked with you once upon a dream i know you the gleam in your eyes is so familiar a gleam \n",
      "\n",
      "\n",
      "and i know it's true that visions are seldom all they seem but if i know you i know what you'll do you'll love me at once the way you did once upon a dream \n",
      "\n",
      "\n",
      "who are you, what's your name? \n",
      "\n",
      "\n",
      "hmm? oh, my name. why, it's, it's ... oh no, no, i can't, i ... goodbye! \n",
      "\n",
      "\n",
      "but when will i see you again? \n",
      "\n",
      "\n",
      "oh never, never! \n",
      "\n",
      "\n"
     ]
    }
   ],
   "source": [
    "#200, 211, 212, 213, 214, 224, 225(which is part of choir lines)\n",
    "for line in s_b.Text.iloc[205:230]:\n",
    "    print(line)\n",
    "    print('\\n')"
   ]
  },
  {
   "cell_type": "code",
   "execution_count": 301,
   "metadata": {},
   "outputs": [
    {
     "name": "stdout",
     "output_type": "stream",
     "text": [
      "ah, excellent bird! \n",
      "\n",
      "\n",
      "i'm sorry, hubert, but after sixteen years of worrying, never knowing ... \n",
      "\n",
      "\n",
      "the past, all in the past. \n",
      "\n",
      "\n",
      "arrives with a bottle of wine\n",
      "\n",
      "\n",
      "right, hubert, to the future! \n",
      "\n",
      "\n",
      "skumps! \n",
      "\n",
      "\n",
      "skumps \n",
      "\n",
      "\n",
      "a toast to this knight \n",
      "\n",
      "\n",
      "the outlook is rosy \n",
      "\n",
      "\n",
      "the future is bright \n",
      "\n",
      "\n",
      "our children will marry our kingdoms unite skumps, skumps, skumps! \n",
      "\n",
      "\n",
      "ah, excellent vintage. and now, to the new home, ey? \n",
      "\n",
      "\n",
      "new home? \n",
      "\n",
      "\n",
      "children need a nest of their own, what? place to raise their little brood, ey? \n",
      "\n",
      "\n",
      "well, i suppose in time ... \n",
      "\n",
      "\n",
      "of course. to the home! skumps! \n",
      "\n",
      "\n",
      "skumps! \n",
      "\n",
      "\n",
      "a toast to the home \n",
      "\n",
      "\n",
      "one grander by far than a palace in rome \n",
      "\n",
      "\n",
      "let me fill up your glass, that glass was all foam. \n",
      "\n",
      "\n",
      "skumps, skumps, skumps! \n",
      "\n",
      "\n",
      "the plans! \n",
      "\n",
      "\n",
      "you mean, you're building it already? \n",
      "\n",
      "\n",
      "built man! finished. the lovebirds can move in tomorrow. \n",
      "\n",
      "\n",
      "tomorrow? but hubert, they're not even married yet. \n",
      "\n",
      "\n",
      "take care of that tonight. to the wedding! \n",
      "\n",
      "\n",
      "now hold on, hubert. i haven't even seen my daughter yet, and you're taking her away from me. \n",
      "\n",
      "\n",
      "getting my phillip aren't you? \n",
      "\n",
      "\n",
      "yes, but ... \n",
      "\n",
      "\n",
      "want to see our grandchildren, don't we? \n",
      "\n",
      "\n"
     ]
    }
   ],
   "source": [
    "#305-310, 315-320\n",
    "for line in s_b.Text.iloc[300:330]:\n",
    "    print(line)\n",
    "    print('\\n')\n",
    "#303 is a typo"
   ]
  },
  {
   "cell_type": "code",
   "execution_count": 302,
   "metadata": {},
   "outputs": [
    {
     "data": {
      "text/html": [
       "<div>\n",
       "<style scoped>\n",
       "    .dataframe tbody tr th:only-of-type {\n",
       "        vertical-align: middle;\n",
       "    }\n",
       "\n",
       "    .dataframe tbody tr th {\n",
       "        vertical-align: top;\n",
       "    }\n",
       "\n",
       "    .dataframe thead th {\n",
       "        text-align: right;\n",
       "    }\n",
       "</style>\n",
       "<table border=\"1\" class=\"dataframe\">\n",
       "  <thead>\n",
       "    <tr style=\"text-align: right;\">\n",
       "      <th></th>\n",
       "      <th>Speaker</th>\n",
       "      <th>Text</th>\n",
       "    </tr>\n",
       "  </thead>\n",
       "  <tbody>\n",
       "    <tr>\n",
       "      <th>1</th>\n",
       "      <td>choir</td>\n",
       "      <td>joyfully now to our princess we come, bringing...</td>\n",
       "    </tr>\n",
       "    <tr>\n",
       "      <th>9</th>\n",
       "      <td>choir</td>\n",
       "      <td>one gift, beauty rare full of sunshine in her ...</td>\n",
       "    </tr>\n",
       "    <tr>\n",
       "      <th>11</th>\n",
       "      <td>choir</td>\n",
       "      <td>one gift, the gift of song melody her whole li...</td>\n",
       "    </tr>\n",
       "    <tr>\n",
       "      <th>36</th>\n",
       "      <td>choir</td>\n",
       "      <td>for true love conquers all</td>\n",
       "    </tr>\n",
       "    <tr>\n",
       "      <th>225</th>\n",
       "      <td>choir</td>\n",
       "      <td>and i know it's true that visions are seldom a...</td>\n",
       "    </tr>\n",
       "    <tr>\n",
       "      <th>457</th>\n",
       "      <td>choir</td>\n",
       "      <td>i know you, i walked with you once upon a dream</td>\n",
       "    </tr>\n",
       "    <tr>\n",
       "      <th>459</th>\n",
       "      <td>choir</td>\n",
       "      <td>i know you, the gleam in your eyes is so famil...</td>\n",
       "    </tr>\n",
       "    <tr>\n",
       "      <th>460</th>\n",
       "      <td>choir</td>\n",
       "      <td>and i know it's true that visions are seldom a...</td>\n",
       "    </tr>\n",
       "    <tr>\n",
       "      <th>461</th>\n",
       "      <td>choir</td>\n",
       "      <td>you'll love me at once the way you did once up...</td>\n",
       "    </tr>\n",
       "  </tbody>\n",
       "</table>\n",
       "</div>"
      ],
      "text/plain": [
       "    Speaker                                               Text\n",
       "1     choir  joyfully now to our princess we come, bringing...\n",
       "9     choir  one gift, beauty rare full of sunshine in her ...\n",
       "11    choir  one gift, the gift of song melody her whole li...\n",
       "36    choir                        for true love conquers all \n",
       "225   choir  and i know it's true that visions are seldom a...\n",
       "457   choir   i know you, i walked with you once upon a dream \n",
       "459   choir  i know you, the gleam in your eyes is so famil...\n",
       "460   choir  and i know it's true that visions are seldom a...\n",
       "461   choir  you'll love me at once the way you did once up..."
      ]
     },
     "execution_count": 302,
     "metadata": {},
     "output_type": "execute_result"
    }
   ],
   "source": [
    "#find choir lines\n",
    "s_b[[\"Speaker\", \"Text\"]][s_b.Speaker == 'choir']"
   ]
  },
  {
   "cell_type": "code",
   "execution_count": 304,
   "metadata": {},
   "outputs": [],
   "source": [
    "#1, 9, 11, 36, 225, 457, 459, 460, 461\n",
    "#305-310, 315-320\n",
    "#200, 211, 212, 213, 214, 224,\n",
    "s_b_songs = [1,9,11,36,200, 211, 212, 213, 214, 224, 225, 305, 306, 307, 308, 309, 310, 315, 316, 317, 318, 319, 320,\n",
    "            457, 459, 460, 461]"
   ]
  },
  {
   "cell_type": "code",
   "execution_count": 305,
   "metadata": {},
   "outputs": [
    {
     "name": "stderr",
     "output_type": "stream",
     "text": [
      "c:\\users\\cassi\\appdata\\local\\programs\\python\\python36-32\\lib\\site-packages\\ipykernel_launcher.py:2: SettingWithCopyWarning: \n",
      "A value is trying to be set on a copy of a slice from a DataFrame.\n",
      "Try using .loc[row_indexer,col_indexer] = value instead\n",
      "\n",
      "See the caveats in the documentation: http://pandas.pydata.org/pandas-docs/stable/indexing.html#indexing-view-versus-copy\n",
      "  \n"
     ]
    }
   ],
   "source": [
    "song_func = partial(is_dialogue, song=s_b_songs)\n",
    "s_b[\"Song\"] = s_b.index.map(song_func)"
   ]
  },
  {
   "cell_type": "code",
   "execution_count": 306,
   "metadata": {},
   "outputs": [
    {
     "data": {
      "text/html": [
       "<div>\n",
       "<style scoped>\n",
       "    .dataframe tbody tr th:only-of-type {\n",
       "        vertical-align: middle;\n",
       "    }\n",
       "\n",
       "    .dataframe tbody tr th {\n",
       "        vertical-align: top;\n",
       "    }\n",
       "\n",
       "    .dataframe thead th {\n",
       "        text-align: right;\n",
       "    }\n",
       "</style>\n",
       "<table border=\"1\" class=\"dataframe\">\n",
       "  <thead>\n",
       "    <tr style=\"text-align: right;\">\n",
       "      <th></th>\n",
       "      <th>Disney_Period</th>\n",
       "      <th>Gender</th>\n",
       "      <th>Movie</th>\n",
       "      <th>Role</th>\n",
       "      <th>Song</th>\n",
       "      <th>Speaker</th>\n",
       "      <th>Speaker_Status</th>\n",
       "      <th>Start_Scene</th>\n",
       "      <th>Text</th>\n",
       "      <th>UTTERANCE_NUMBER</th>\n",
       "      <th>Year</th>\n",
       "    </tr>\n",
       "  </thead>\n",
       "  <tbody>\n",
       "    <tr>\n",
       "      <th>0</th>\n",
       "      <td>EARLY</td>\n",
       "      <td>m</td>\n",
       "      <td>Sleeping Beauty</td>\n",
       "      <td>N</td>\n",
       "      <td>D</td>\n",
       "      <td>narrator</td>\n",
       "      <td>NON-P</td>\n",
       "      <td>NaN</td>\n",
       "      <td>in a far away land, long ago, lived a king and...</td>\n",
       "      <td>1</td>\n",
       "      <td>1959</td>\n",
       "    </tr>\n",
       "    <tr>\n",
       "      <th>1</th>\n",
       "      <td>EARLY</td>\n",
       "      <td>n</td>\n",
       "      <td>Sleeping Beauty</td>\n",
       "      <td>N</td>\n",
       "      <td>S</td>\n",
       "      <td>choir</td>\n",
       "      <td>NON-P</td>\n",
       "      <td>NaN</td>\n",
       "      <td>joyfully now to our princess we come, bringing...</td>\n",
       "      <td>2</td>\n",
       "      <td>1959</td>\n",
       "    </tr>\n",
       "    <tr>\n",
       "      <th>2</th>\n",
       "      <td>EARLY</td>\n",
       "      <td>m</td>\n",
       "      <td>Sleeping Beauty</td>\n",
       "      <td>N</td>\n",
       "      <td>D</td>\n",
       "      <td>narrator</td>\n",
       "      <td>NON-P</td>\n",
       "      <td>NaN</td>\n",
       "      <td>thus on this great and joyous day did all the ...</td>\n",
       "      <td>3</td>\n",
       "      <td>1959</td>\n",
       "    </tr>\n",
       "    <tr>\n",
       "      <th>3</th>\n",
       "      <td>EARLY</td>\n",
       "      <td>m</td>\n",
       "      <td>Sleeping Beauty</td>\n",
       "      <td>N</td>\n",
       "      <td>D</td>\n",
       "      <td>announcer</td>\n",
       "      <td>NON-P</td>\n",
       "      <td>NaN</td>\n",
       "      <td>their royal highnesses, king hubert and prince...</td>\n",
       "      <td>4</td>\n",
       "      <td>1959</td>\n",
       "    </tr>\n",
       "    <tr>\n",
       "      <th>4</th>\n",
       "      <td>EARLY</td>\n",
       "      <td>m</td>\n",
       "      <td>Sleeping Beauty</td>\n",
       "      <td>N</td>\n",
       "      <td>D</td>\n",
       "      <td>narrator</td>\n",
       "      <td>NON-P</td>\n",
       "      <td>NaN</td>\n",
       "      <td>fondly had these monarchs dreamed one day thei...</td>\n",
       "      <td>5</td>\n",
       "      <td>1959</td>\n",
       "    </tr>\n",
       "  </tbody>\n",
       "</table>\n",
       "</div>"
      ],
      "text/plain": [
       "  Disney_Period Gender            Movie Role Song    Speaker Speaker_Status  \\\n",
       "0         EARLY      m  Sleeping Beauty    N    D   narrator          NON-P   \n",
       "1         EARLY      n  Sleeping Beauty    N    S      choir          NON-P   \n",
       "2         EARLY      m  Sleeping Beauty    N    D   narrator          NON-P   \n",
       "3         EARLY      m  Sleeping Beauty    N    D  announcer          NON-P   \n",
       "4         EARLY      m  Sleeping Beauty    N    D   narrator          NON-P   \n",
       "\n",
       "  Start_Scene                                               Text  \\\n",
       "0         NaN  in a far away land, long ago, lived a king and...   \n",
       "1         NaN  joyfully now to our princess we come, bringing...   \n",
       "2         NaN  thus on this great and joyous day did all the ...   \n",
       "3         NaN  their royal highnesses, king hubert and prince...   \n",
       "4         NaN  fondly had these monarchs dreamed one day thei...   \n",
       "\n",
       "   UTTERANCE_NUMBER  Year  \n",
       "0                 1  1959  \n",
       "1                 2  1959  \n",
       "2                 3  1959  \n",
       "3                 4  1959  \n",
       "4                 5  1959  "
      ]
     },
     "execution_count": 306,
     "metadata": {},
     "output_type": "execute_result"
    }
   ],
   "source": [
    "s_b.head()"
   ]
  },
  {
   "cell_type": "code",
   "execution_count": 307,
   "metadata": {},
   "outputs": [
    {
     "name": "stdout",
     "output_type": "stream",
     "text": [
      "<class 'pandas.core.frame.DataFrame'>\n",
      "RangeIndex: 462 entries, 0 to 461\n",
      "Data columns (total 11 columns):\n",
      "Disney_Period       462 non-null object\n",
      "Gender              462 non-null object\n",
      "Movie               462 non-null object\n",
      "Role                462 non-null object\n",
      "Song                462 non-null object\n",
      "Speaker             462 non-null object\n",
      "Speaker_Status      462 non-null object\n",
      "Start_Scene         0 non-null object\n",
      "Text                462 non-null object\n",
      "UTTERANCE_NUMBER    462 non-null int64\n",
      "Year                462 non-null int64\n",
      "dtypes: int64(2), object(9)\n",
      "memory usage: 23.5+ KB\n"
     ]
    }
   ],
   "source": [
    "s_b.info()"
   ]
  },
  {
   "cell_type": "code",
   "execution_count": 308,
   "metadata": {},
   "outputs": [
    {
     "data": {
      "text/plain": [
       "Disney_Period                               EARLY\n",
       "Gender                                          m\n",
       "Movie                             Sleeping Beauty\n",
       "Role                                            N\n",
       "Song                                            D\n",
       "Speaker                                    hubert\n",
       "Speaker_Status                              NON-P\n",
       "Start_Scene                                   NaN\n",
       "Text                arrives with a bottle of wine\n",
       "UTTERANCE_NUMBER                              304\n",
       "Year                                         1959\n",
       "Name: 303, dtype: object"
      ]
     },
     "execution_count": 308,
     "metadata": {},
     "output_type": "execute_result"
    }
   ],
   "source": [
    "#quickly fixing 303\n",
    "s_b.iloc[303]"
   ]
  },
  {
   "cell_type": "code",
   "execution_count": 309,
   "metadata": {},
   "outputs": [
    {
     "name": "stderr",
     "output_type": "stream",
     "text": [
      "c:\\users\\cassi\\appdata\\local\\programs\\python\\python36-32\\lib\\site-packages\\pandas\\core\\frame.py:3697: SettingWithCopyWarning: \n",
      "A value is trying to be set on a copy of a slice from a DataFrame\n",
      "\n",
      "See the caveats in the documentation: http://pandas.pydata.org/pandas-docs/stable/indexing.html#indexing-view-versus-copy\n",
      "  errors=errors)\n"
     ]
    }
   ],
   "source": [
    "s_b.drop(index =303, inplace=True)"
   ]
  },
  {
   "cell_type": "code",
   "execution_count": 310,
   "metadata": {},
   "outputs": [
    {
     "name": "stdout",
     "output_type": "stream",
     "text": [
      "<class 'pandas.core.frame.DataFrame'>\n",
      "Int64Index: 461 entries, 0 to 461\n",
      "Data columns (total 11 columns):\n",
      "Disney_Period       461 non-null object\n",
      "Gender              461 non-null object\n",
      "Movie               461 non-null object\n",
      "Role                461 non-null object\n",
      "Song                461 non-null object\n",
      "Speaker             461 non-null object\n",
      "Speaker_Status      461 non-null object\n",
      "Start_Scene         0 non-null object\n",
      "Text                461 non-null object\n",
      "UTTERANCE_NUMBER    461 non-null int64\n",
      "Year                461 non-null int64\n",
      "dtypes: int64(2), object(9)\n",
      "memory usage: 27.0+ KB\n"
     ]
    }
   ],
   "source": [
    "s_b.info()"
   ]
  },
  {
   "cell_type": "code",
   "execution_count": 311,
   "metadata": {},
   "outputs": [],
   "source": [
    "s_b.reset_index(drop=True, inplace = True)"
   ]
  },
  {
   "cell_type": "code",
   "execution_count": 312,
   "metadata": {},
   "outputs": [
    {
     "data": {
      "text/plain": [
       "Disney_Period                                EARLY\n",
       "Gender                                           m\n",
       "Movie                              Sleeping Beauty\n",
       "Role                                             N\n",
       "Song                                             D\n",
       "Speaker                                     stefan\n",
       "Speaker_Status                               NON-P\n",
       "Start_Scene                                    NaN\n",
       "Text                right, hubert, to the future! \n",
       "UTTERANCE_NUMBER                               305\n",
       "Year                                          1959\n",
       "Name: 303, dtype: object"
      ]
     },
     "execution_count": 312,
     "metadata": {},
     "output_type": "execute_result"
    }
   ],
   "source": [
    "s_b.iloc[303]"
   ]
  },
  {
   "cell_type": "markdown",
   "metadata": {},
   "source": [
    "## Little Mermaid\n",
    "### 1) Gender"
   ]
  },
  {
   "cell_type": "code",
   "execution_count": 313,
   "metadata": {},
   "outputs": [],
   "source": [
    "l_m = disney[disney.Movie == 'The Little Mermaid']"
   ]
  },
  {
   "cell_type": "code",
   "execution_count": 314,
   "metadata": {},
   "outputs": [
    {
     "data": {
      "text/html": [
       "<div>\n",
       "<style scoped>\n",
       "    .dataframe tbody tr th:only-of-type {\n",
       "        vertical-align: middle;\n",
       "    }\n",
       "\n",
       "    .dataframe tbody tr th {\n",
       "        vertical-align: top;\n",
       "    }\n",
       "\n",
       "    .dataframe thead th {\n",
       "        text-align: right;\n",
       "    }\n",
       "</style>\n",
       "<table border=\"1\" class=\"dataframe\">\n",
       "  <thead>\n",
       "    <tr style=\"text-align: right;\">\n",
       "      <th></th>\n",
       "      <th>Disney_Period</th>\n",
       "      <th>Gender</th>\n",
       "      <th>Movie</th>\n",
       "      <th>Role</th>\n",
       "      <th>Song</th>\n",
       "      <th>Speaker</th>\n",
       "      <th>Speaker_Status</th>\n",
       "      <th>Start_Scene</th>\n",
       "      <th>Text</th>\n",
       "      <th>UTTERANCE_NUMBER</th>\n",
       "      <th>Year</th>\n",
       "    </tr>\n",
       "  </thead>\n",
       "  <tbody>\n",
       "    <tr>\n",
       "      <th>1325</th>\n",
       "      <td>MID</td>\n",
       "      <td>NaN</td>\n",
       "      <td>The Little Mermaid</td>\n",
       "      <td>NaN</td>\n",
       "      <td>NaN</td>\n",
       "      <td>sailors</td>\n",
       "      <td>NON-P</td>\n",
       "      <td>NaN</td>\n",
       "      <td>i'll tell you a tale of the bottomless blue an...</td>\n",
       "      <td>1</td>\n",
       "      <td>1989</td>\n",
       "    </tr>\n",
       "    <tr>\n",
       "      <th>1326</th>\n",
       "      <td>MID</td>\n",
       "      <td>NaN</td>\n",
       "      <td>The Little Mermaid</td>\n",
       "      <td>NaN</td>\n",
       "      <td>NaN</td>\n",
       "      <td>eric</td>\n",
       "      <td>PRINCE</td>\n",
       "      <td>NaN</td>\n",
       "      <td>isn't this great? the salty sea air, the wind ...</td>\n",
       "      <td>2</td>\n",
       "      <td>1989</td>\n",
       "    </tr>\n",
       "    <tr>\n",
       "      <th>1327</th>\n",
       "      <td>MID</td>\n",
       "      <td>NaN</td>\n",
       "      <td>The Little Mermaid</td>\n",
       "      <td>NaN</td>\n",
       "      <td>NaN</td>\n",
       "      <td>grimsby</td>\n",
       "      <td>NON-P</td>\n",
       "      <td>NaN</td>\n",
       "      <td>oh yes . . . delightful . . . .</td>\n",
       "      <td>3</td>\n",
       "      <td>1989</td>\n",
       "    </tr>\n",
       "    <tr>\n",
       "      <th>1328</th>\n",
       "      <td>MID</td>\n",
       "      <td>NaN</td>\n",
       "      <td>The Little Mermaid</td>\n",
       "      <td>NaN</td>\n",
       "      <td>NaN</td>\n",
       "      <td>sailor 1</td>\n",
       "      <td>NON-P</td>\n",
       "      <td>NaN</td>\n",
       "      <td>a fine strong wind and a following sea. king t...</td>\n",
       "      <td>4</td>\n",
       "      <td>1989</td>\n",
       "    </tr>\n",
       "    <tr>\n",
       "      <th>1329</th>\n",
       "      <td>MID</td>\n",
       "      <td>NaN</td>\n",
       "      <td>The Little Mermaid</td>\n",
       "      <td>NaN</td>\n",
       "      <td>NaN</td>\n",
       "      <td>eric</td>\n",
       "      <td>PRINCE</td>\n",
       "      <td>NaN</td>\n",
       "      <td>king triton?</td>\n",
       "      <td>5</td>\n",
       "      <td>1989</td>\n",
       "    </tr>\n",
       "  </tbody>\n",
       "</table>\n",
       "</div>"
      ],
      "text/plain": [
       "     Disney_Period Gender               Movie Role Song   Speaker  \\\n",
       "1325           MID    NaN  The Little Mermaid  NaN  NaN   sailors   \n",
       "1326           MID    NaN  The Little Mermaid  NaN  NaN      eric   \n",
       "1327           MID    NaN  The Little Mermaid  NaN  NaN   grimsby   \n",
       "1328           MID    NaN  The Little Mermaid  NaN  NaN  sailor 1   \n",
       "1329           MID    NaN  The Little Mermaid  NaN  NaN      eric   \n",
       "\n",
       "     Speaker_Status Start_Scene  \\\n",
       "1325          NON-P         NaN   \n",
       "1326         PRINCE         NaN   \n",
       "1327          NON-P         NaN   \n",
       "1328          NON-P         NaN   \n",
       "1329         PRINCE         NaN   \n",
       "\n",
       "                                                   Text  UTTERANCE_NUMBER  \\\n",
       "1325  i'll tell you a tale of the bottomless blue an...                 1   \n",
       "1326  isn't this great? the salty sea air, the wind ...                 2   \n",
       "1327                   oh yes . . . delightful . . . .                  3   \n",
       "1328  a fine strong wind and a following sea. king t...                 4   \n",
       "1329                                      king triton?                  5   \n",
       "\n",
       "      Year  \n",
       "1325  1989  \n",
       "1326  1989  \n",
       "1327  1989  \n",
       "1328  1989  \n",
       "1329  1989  "
      ]
     },
     "execution_count": 314,
     "metadata": {},
     "output_type": "execute_result"
    }
   ],
   "source": [
    "l_m.head()"
   ]
  },
  {
   "cell_type": "code",
   "execution_count": 315,
   "metadata": {},
   "outputs": [
    {
     "data": {
      "text/plain": [
       "array(['sailors', 'eric', 'grimsby', 'sailor 1', 'sailor 2', 'seahorse',\n",
       "       'triton', 'sebastian', \"triton's daughters\", 'flounder', 'ariel',\n",
       "       'scuttle', 'ariel and flounder', 'ursula', 'sailor', 'andrina',\n",
       "       'atina', 'flotsam', 'jetsam', 'flotsam and jetsam', 'carlotta',\n",
       "       'woman 1', 'woman 2', 'louis', 'vanessa', 'priest', 'all'],\n",
       "      dtype=object)"
      ]
     },
     "execution_count": 315,
     "metadata": {},
     "output_type": "execute_result"
    }
   ],
   "source": [
    "l_m.Speaker.unique()"
   ]
  },
  {
   "cell_type": "code",
   "execution_count": 318,
   "metadata": {},
   "outputs": [
    {
     "data": {
      "text/plain": [
       "27"
      ]
     },
     "execution_count": 318,
     "metadata": {},
     "output_type": "execute_result"
    }
   ],
   "source": [
    "len(l_m.Speaker.unique())"
   ]
  },
  {
   "cell_type": "code",
   "execution_count": 316,
   "metadata": {},
   "outputs": [],
   "source": [
    "l_m_female = [\"triton's daughters\", 'ariel', 'ursula', 'andrina', 'atina', 'carlotta', 'woman 1', 'woman 2', 'vanessa']\n",
    "l_m_male = ['sailors', 'eric', 'grimsby', 'sailor 1', 'sailor 2', 'seahorse', 'triton', 'sebastian', 'flounder', 'scuttle',\n",
    "           'sailor', 'flotsam', 'jetsam', 'flotsam and jetsam', 'louis', 'priest']"
   ]
  },
  {
   "cell_type": "code",
   "execution_count": 317,
   "metadata": {},
   "outputs": [
    {
     "data": {
      "text/plain": [
       "25"
      ]
     },
     "execution_count": 317,
     "metadata": {},
     "output_type": "execute_result"
    }
   ],
   "source": [
    "len(l_m_female) + len(l_m_male) #'ariel and flounder' and 'all' are neutral"
   ]
  },
  {
   "cell_type": "code",
   "execution_count": 319,
   "metadata": {},
   "outputs": [
    {
     "name": "stderr",
     "output_type": "stream",
     "text": [
      "c:\\users\\cassi\\appdata\\local\\programs\\python\\python36-32\\lib\\site-packages\\ipykernel_launcher.py:2: SettingWithCopyWarning: \n",
      "A value is trying to be set on a copy of a slice from a DataFrame.\n",
      "Try using .loc[row_indexer,col_indexer] = value instead\n",
      "\n",
      "See the caveats in the documentation: http://pandas.pydata.org/pandas-docs/stable/indexing.html#indexing-view-versus-copy\n",
      "  \n"
     ]
    }
   ],
   "source": [
    "gender_func = partial(whichgen, female = l_m_female, male=l_m_male)\n",
    "l_m[\"Gender\"] = l_m.Speaker.map(gender_func)"
   ]
  },
  {
   "cell_type": "code",
   "execution_count": 321,
   "metadata": {},
   "outputs": [
    {
     "data": {
      "text/html": [
       "<div>\n",
       "<style scoped>\n",
       "    .dataframe tbody tr th:only-of-type {\n",
       "        vertical-align: middle;\n",
       "    }\n",
       "\n",
       "    .dataframe tbody tr th {\n",
       "        vertical-align: top;\n",
       "    }\n",
       "\n",
       "    .dataframe thead th {\n",
       "        text-align: right;\n",
       "    }\n",
       "</style>\n",
       "<table border=\"1\" class=\"dataframe\">\n",
       "  <thead>\n",
       "    <tr style=\"text-align: right;\">\n",
       "      <th></th>\n",
       "      <th>Disney_Period</th>\n",
       "      <th>Gender</th>\n",
       "      <th>Movie</th>\n",
       "      <th>Role</th>\n",
       "      <th>Song</th>\n",
       "      <th>Speaker</th>\n",
       "      <th>Speaker_Status</th>\n",
       "      <th>Start_Scene</th>\n",
       "      <th>Text</th>\n",
       "      <th>UTTERANCE_NUMBER</th>\n",
       "      <th>Year</th>\n",
       "    </tr>\n",
       "  </thead>\n",
       "  <tbody>\n",
       "    <tr>\n",
       "      <th>1423</th>\n",
       "      <td>MID</td>\n",
       "      <td>f</td>\n",
       "      <td>The Little Mermaid</td>\n",
       "      <td>NaN</td>\n",
       "      <td>NaN</td>\n",
       "      <td>ariel</td>\n",
       "      <td>PRINCESS</td>\n",
       "      <td>NaN</td>\n",
       "      <td>street up where they walk up where they run up...</td>\n",
       "      <td>99</td>\n",
       "      <td>1989</td>\n",
       "    </tr>\n",
       "    <tr>\n",
       "      <th>1473</th>\n",
       "      <td>MID</td>\n",
       "      <td>f</td>\n",
       "      <td>The Little Mermaid</td>\n",
       "      <td>NaN</td>\n",
       "      <td>NaN</td>\n",
       "      <td>andrina</td>\n",
       "      <td>NON-P</td>\n",
       "      <td>NaN</td>\n",
       "      <td>isn't it obvious, daddy? ariel's in love.</td>\n",
       "      <td>149</td>\n",
       "      <td>1989</td>\n",
       "    </tr>\n",
       "    <tr>\n",
       "      <th>1550</th>\n",
       "      <td>MID</td>\n",
       "      <td>m</td>\n",
       "      <td>The Little Mermaid</td>\n",
       "      <td>NaN</td>\n",
       "      <td>NaN</td>\n",
       "      <td>sebastian</td>\n",
       "      <td>NON-P</td>\n",
       "      <td>NaN</td>\n",
       "      <td>come on.</td>\n",
       "      <td>226</td>\n",
       "      <td>1989</td>\n",
       "    </tr>\n",
       "    <tr>\n",
       "      <th>1499</th>\n",
       "      <td>MID</td>\n",
       "      <td>m</td>\n",
       "      <td>The Little Mermaid</td>\n",
       "      <td>NaN</td>\n",
       "      <td>NaN</td>\n",
       "      <td>triton</td>\n",
       "      <td>NON-P</td>\n",
       "      <td>NaN</td>\n",
       "      <td>about ariel?</td>\n",
       "      <td>175</td>\n",
       "      <td>1989</td>\n",
       "    </tr>\n",
       "    <tr>\n",
       "      <th>1685</th>\n",
       "      <td>MID</td>\n",
       "      <td>f</td>\n",
       "      <td>The Little Mermaid</td>\n",
       "      <td>NaN</td>\n",
       "      <td>NaN</td>\n",
       "      <td>ursula</td>\n",
       "      <td>NON-P</td>\n",
       "      <td>NaN</td>\n",
       "      <td>why, king triton! ha ha ha how are you?</td>\n",
       "      <td>361</td>\n",
       "      <td>1989</td>\n",
       "    </tr>\n",
       "  </tbody>\n",
       "</table>\n",
       "</div>"
      ],
      "text/plain": [
       "     Disney_Period Gender               Movie Role Song    Speaker  \\\n",
       "1423           MID      f  The Little Mermaid  NaN  NaN      ariel   \n",
       "1473           MID      f  The Little Mermaid  NaN  NaN    andrina   \n",
       "1550           MID      m  The Little Mermaid  NaN  NaN  sebastian   \n",
       "1499           MID      m  The Little Mermaid  NaN  NaN     triton   \n",
       "1685           MID      f  The Little Mermaid  NaN  NaN     ursula   \n",
       "\n",
       "     Speaker_Status Start_Scene  \\\n",
       "1423       PRINCESS         NaN   \n",
       "1473          NON-P         NaN   \n",
       "1550          NON-P         NaN   \n",
       "1499          NON-P         NaN   \n",
       "1685          NON-P         NaN   \n",
       "\n",
       "                                                   Text  UTTERANCE_NUMBER  \\\n",
       "1423  street up where they walk up where they run up...                99   \n",
       "1473         isn't it obvious, daddy? ariel's in love.                149   \n",
       "1550                                          come on.                226   \n",
       "1499                                      about ariel?                175   \n",
       "1685           why, king triton! ha ha ha how are you?                361   \n",
       "\n",
       "      Year  \n",
       "1423  1989  \n",
       "1473  1989  \n",
       "1550  1989  \n",
       "1499  1989  \n",
       "1685  1989  "
      ]
     },
     "execution_count": 321,
     "metadata": {},
     "output_type": "execute_result"
    }
   ],
   "source": [
    "l_m.sample(5)"
   ]
  },
  {
   "cell_type": "markdown",
   "metadata": {},
   "source": [
    "### 2) Role\n",
    "Note: King Triton tries to prevent Ariel from pursuing her goals in the first half of the movie. He doesn't play as big a role later on in the movie. I may change his role to neutral later in my analysis."
   ]
  },
  {
   "cell_type": "code",
   "execution_count": 324,
   "metadata": {},
   "outputs": [],
   "source": [
    "l_m.reset_index(drop = True, inplace = True)"
   ]
  },
  {
   "cell_type": "code",
   "execution_count": 322,
   "metadata": {},
   "outputs": [],
   "source": [
    "l_m_pro = ['ariel', 'eric']\n",
    "l_m_ant = ['ursula', 'flotsam', 'jetsam', 'flotsam and jetsam', 'vanessa', 'triton']\n",
    "l_m_helper = ['flounder', 'sebastian', 'scuttle', 'grimsby']"
   ]
  },
  {
   "cell_type": "code",
   "execution_count": 326,
   "metadata": {},
   "outputs": [
    {
     "name": "stderr",
     "output_type": "stream",
     "text": [
      "c:\\users\\cassi\\appdata\\local\\programs\\python\\python36-32\\lib\\site-packages\\ipykernel_launcher.py:2: SettingWithCopyWarning: \n",
      "A value is trying to be set on a copy of a slice from a DataFrame.\n",
      "Try using .loc[row_indexer,col_indexer] = value instead\n",
      "\n",
      "See the caveats in the documentation: http://pandas.pydata.org/pandas-docs/stable/indexing.html#indexing-view-versus-copy\n",
      "  \n"
     ]
    }
   ],
   "source": [
    "role_func = partial(whichrole, pro = l_m_pro, ant = l_m_ant, helper = l_m_helper)\n",
    "l_m[\"Role\"] = l_m.Speaker.map(role_func)"
   ]
  },
  {
   "cell_type": "markdown",
   "metadata": {},
   "source": [
    "### 3) Songs"
   ]
  },
  {
   "cell_type": "code",
   "execution_count": 327,
   "metadata": {},
   "outputs": [],
   "source": [
    "#finding commong words in the songs: Fathoms Below, Daughters of Triton, Part of Your World, Under the Sea, Poor Unfortunate Souls,\n",
    "# Kiss the Girl\n",
    "l_m_song_words = ['fathoms', 'musical', 'world', 'under the sea', 'unfortunate','poissons', 'kiss the girl' ]"
   ]
  },
  {
   "cell_type": "code",
   "execution_count": 330,
   "metadata": {},
   "outputs": [
    {
     "name": "stdout",
     "output_type": "stream",
     "text": [
      "fathoms\n",
      "   Speaker                                               Text\n",
      "0  sailors  i'll tell you a tale of the bottomless blue an...\n",
      "8  sailors  heave. ho. heave, ho. in mysterious fathoms be...\n",
      "\n",
      "\n",
      "musical\n",
      "               Speaker                                               Text\n",
      "16  triton's daughters  ah, we are the daughters of triton. great fath...\n",
      "\n",
      "\n",
      "world\n",
      "       Speaker                                               Text\n",
      "95       ariel  if only i could make him understand. i just do...\n",
      "98       ariel  street up where they walk up where they run up...\n",
      "136      ariel  what would i give to live where you are? what ...\n",
      "141      ariel  i don't know when i don't know how but i know ...\n",
      "156  sebastian  down here is your home! ariel listen to me. th...\n",
      "157  sebastian  the seaweed is always greener in somebody else...\n",
      "187     triton  contact between the human world and the merwor...\n",
      "396        all  now we can walk, now we can run, now we can st...\n",
      "\n",
      "\n",
      "under the sea\n",
      "       Speaker                                               Text\n",
      "156  sebastian  down here is your home! ariel listen to me. th...\n",
      "157  sebastian  the seaweed is always greener in somebody else...\n",
      "\n",
      "\n",
      "unfortunate\n",
      "    Speaker                                               Text\n",
      "229  ursula  my dear, sweet child. that's what i do it's wh...\n",
      "231  ursula  poor unfortunate souls in pain in need this on...\n",
      "242  ursula  the men up there don't like a lot of blabber t...\n",
      "\n",
      "\n",
      "poissons\n",
      "    Speaker                                               Text\n",
      "278   louis  les poissons les poissons how i love les poiss...\n",
      "\n",
      "\n",
      "kiss the girl\n",
      "       Speaker                                               Text\n",
      "310  sebastian  there you see her sitting there across the way...\n",
      "312  sebastian  yes, you want her look at her, you know you do...\n",
      "316  sebastian  now's your moment floating in a blue lagoon bo...\n",
      "\n",
      "\n"
     ]
    }
   ],
   "source": [
    "for line in l_m_song_words:\n",
    "    print(line)\n",
    "    print(l_m[[\"Speaker\", \"Text\"]][l_m.Text.str.contains(line, regex = False)])\n",
    "    print('\\n')"
   ]
  },
  {
   "cell_type": "code",
   "execution_count": 331,
   "metadata": {},
   "outputs": [
    {
     "name": "stdout",
     "output_type": "stream",
     "text": [
      "i'll tell you a tale of the bottomless blue and it's hey to the starboard, heave ho look out, lad, a mermaid be waitin' for you in mysterious fathoms below. \n",
      "\n",
      "\n",
      "isn't this great? the salty sea air, the wind blowing in your face . . . a perfect day to be at sea! \n",
      "\n",
      "\n",
      "oh yes . . . delightful . . . . \n",
      "\n",
      "\n",
      "a fine strong wind and a following sea. king triton must be in a friendlytype mood. \n",
      "\n",
      "\n",
      "king triton? \n",
      "\n",
      "\n",
      "why, ruler of the merpeople, lad. thought every good sailor knew about him. \n",
      "\n",
      "\n",
      "merpeople! eric, pay no attention to this nautical nonsense. \n",
      "\n",
      "\n",
      "but it ain't nonsense, it's the truth! i'm tellin' you, down in the depths o' the ocean they live. \n",
      "\n",
      "\n",
      "heave. ho. heave, ho. in mysterious fathoms below. \n",
      "\n",
      "\n",
      "ahem . . . his royal highness, king triton! \n",
      "\n",
      "\n"
     ]
    }
   ],
   "source": [
    "#Fathoms Below\n",
    "#just lines 0 and 8\n",
    "for line in l_m.Text.iloc[:10]:\n",
    "    print(line)\n",
    "    print('\\n')"
   ]
  },
  {
   "cell_type": "code",
   "execution_count": 332,
   "metadata": {},
   "outputs": [],
   "source": [
    "l_m_songs = [0,8]"
   ]
  },
  {
   "cell_type": "code",
   "execution_count": 333,
   "metadata": {},
   "outputs": [
    {
     "name": "stdout",
     "output_type": "stream",
     "text": [
      "yes, yes, she has the most beautiful voice. . . . \n",
      "\n",
      "\n",
      "if only she'd show up for rehearsals once in a while. . . . \n",
      "\n",
      "\n",
      "ah, we are the daughters of triton. great father who loves us and named us well aquata, andrina, arista, atina, adella, allana. and then there is the est in her musical debut, our seventh little sister, we're presenting her to you, to sing a song sebastian wrote, her voice is like a bell, she's our sister, ari . . . shell opens to reveal that ariel is absent. \n",
      "\n",
      "\n",
      "ariel!! cut to ariel looking at sunken ship. \n",
      "\n",
      "\n"
     ]
    }
   ],
   "source": [
    "#Daughters of Triton\n",
    "# 16\n",
    "for line in l_m.Text.iloc[14:18]:\n",
    "    print(line)\n",
    "    print('\\n')"
   ]
  },
  {
   "cell_type": "code",
   "execution_count": 334,
   "metadata": {},
   "outputs": [],
   "source": [
    "l_m_songs.append(16)"
   ]
  },
  {
   "cell_type": "code",
   "execution_count": 335,
   "metadata": {},
   "outputs": [
    {
     "name": "stderr",
     "output_type": "stream",
     "text": [
      "c:\\users\\cassi\\appdata\\local\\programs\\python\\python36-32\\lib\\site-packages\\pandas\\core\\indexing.py:189: SettingWithCopyWarning: \n",
      "A value is trying to be set on a copy of a slice from a DataFrame\n",
      "\n",
      "See the caveats in the documentation: http://pandas.pydata.org/pandas-docs/stable/indexing.html#indexing-view-versus-copy\n",
      "  self._setitem_with_indexer(indexer, value)\n",
      "c:\\users\\cassi\\appdata\\local\\programs\\python\\python36-32\\lib\\site-packages\\ipykernel_launcher.py:2: SettingWithCopyWarning: \n",
      "A value is trying to be set on a copy of a slice from a DataFrame\n",
      "\n",
      "See the caveats in the documentation: http://pandas.pydata.org/pandas-docs/stable/indexing.html#indexing-view-versus-copy\n",
      "  \n",
      "c:\\users\\cassi\\appdata\\local\\programs\\python\\python36-32\\lib\\site-packages\\ipykernel_launcher.py:3: SettingWithCopyWarning: \n",
      "A value is trying to be set on a copy of a slice from a DataFrame\n",
      "\n",
      "See the caveats in the documentation: http://pandas.pydata.org/pandas-docs/stable/indexing.html#indexing-view-versus-copy\n",
      "  This is separate from the ipykernel package so we can avoid doing imports until\n"
     ]
    }
   ],
   "source": [
    "#quick edit of these lines\n",
    "l_m.Text.iloc[16] = \"ah, we are the daughters of triton. great father who loves us and named us well aquata, andrina, arista, atina, adella, allana. and then there is the est in her musical debut, our seventh little sister, we're presenting her to you, to sing a song sebastian wrote, her voice is like a bell, she's our sister, ari . . .\"\n",
    "l_m.Text.iloc[17] = 'ariel!!'"
   ]
  },
  {
   "cell_type": "code",
   "execution_count": 339,
   "metadata": {},
   "outputs": [
    {
     "name": "stdout",
     "output_type": "stream",
     "text": [
      "ariel, are you okay? \n",
      "\n",
      "\n",
      "if only i could make him understand. i just don't see things the way he does. i don't see how a world that makes such wonderful things could be bad. \n",
      "\n",
      "\n",
      "look at this stuff isn't it neat? wouldn't you think my collection's complete? wouldn't you think i'm the girl the girl who has ev'rything? look at this trove treasures untold how many wonders can one cavern hold? lookin' around here you'd think sure, she's got everything i've got gadgets and gizmos aplenty i've got whozits and whatzits galore you want thingamabobs? i got twenty but who cares? no big deal i want more i wanna be where the people are i wanna see wanna see 'em dancin' walkin' around on those \n",
      "\n",
      "\n",
      "flippin' your fins you don't get too far legs are required for jumpin', dancin' strollin' along down a \n",
      "\n",
      "\n",
      "street up where they walk up where they run up where they stay all day in the sun wanderin' free wish i could be part of that world what would i give if i could live outta these waters? what would i pay to spend a day warm on the sand? betcha on land they understand bet they don't reprimand their daughters bright women sick o' swimmin' ready to stand and ready to know what the people know ask 'em my questions and get some answers what's a fire and why does it what's the word? burn? when's it my turn? wouldn't i love love to explore that shore above? out of the sea wish i could be part of that world sebastian has been struggling around and now comes crashing down making a lot of noise. \n",
      "\n",
      "\n",
      "sebastian!? \n",
      "\n",
      "\n"
     ]
    }
   ],
   "source": [
    "# Part of Your World\n",
    "#96, 97, 98\n",
    "for line in l_m.Text.iloc[94:100]:\n",
    "    print(line)\n",
    "    print('\\n')"
   ]
  },
  {
   "cell_type": "code",
   "execution_count": 341,
   "metadata": {},
   "outputs": [
    {
     "name": "stderr",
     "output_type": "stream",
     "text": [
      "c:\\users\\cassi\\appdata\\local\\programs\\python\\python36-32\\lib\\site-packages\\ipykernel_launcher.py:2: SettingWithCopyWarning: \n",
      "A value is trying to be set on a copy of a slice from a DataFrame\n",
      "\n",
      "See the caveats in the documentation: http://pandas.pydata.org/pandas-docs/stable/indexing.html#indexing-view-versus-copy\n",
      "  \n"
     ]
    }
   ],
   "source": [
    "#quick edit of 98\n",
    "l_m.Text.iloc[98] = \"street up where they walk up where they run up where they stay all day in the sun wanderin' free wish i could be part of that world what would i give if i could live outta these waters? what would i pay to spend a day warm on the sand? betcha on land they understand bet they don't reprimand their daughters bright women sick o' swimmin' ready to stand and ready to know what the people know ask 'em my questions and get some answers what's a fire and why does it what's the word? burn? when's it my turn? wouldn't i love love to explore that shore above? out of the sea wish i could be part of that world.\""
   ]
  },
  {
   "cell_type": "code",
   "execution_count": 342,
   "metadata": {},
   "outputs": [],
   "source": [
    "l_m_songs.extend([96, 97, 98])"
   ]
  },
  {
   "cell_type": "code",
   "execution_count": 344,
   "metadata": {},
   "outputs": [
    {
     "name": "stdout",
     "output_type": "stream",
     "text": [
      "is he dead? \n",
      "\n",
      "\n",
      "it's hard to say. \n",
      "\n",
      "\n",
      "no, look! he's breathing. he's so, beautiful. \n",
      "\n",
      "\n",
      "what would i give to live where you are? what would i pay to stay here beside you? what would i do to see you smiling at me? where would we walk? where would we run? if we could stay all day in the sun? just you and me and i could be part of your world sebastian and flounder have washed up and are watching scene. max and grimsby approach. ariel hurries away. \n",
      "\n",
      "\n",
      "eric! oh, eric. you really delight in these sadistic strains on my blood pressure, don't you? \n",
      "\n",
      "\n",
      "a girl rescued me. . . . she was singing . . . she had the most beautiful voice. \n",
      "\n",
      "\n",
      "ah, eric, i think you've swallowed a bit too much seawater. off we go. come on, max. \n",
      "\n",
      "\n",
      "we just gotta forget this whole thing ever happened. the sea king will never know. you won't tell him, i won't tell him. i will stay in one piece. \n",
      "\n",
      "\n",
      "i don't know when i don't know how but i know something's starting right now watch and you'll see some day i'll be part of your world \n",
      "\n",
      "\n",
      "oh, no, no, no, no, no, no. i can't stand it it's too easy. the child is in love with a human. and not just any human a prince! her daddy'll love that. king triton's headstrong, lovesick girl would make a charming addition to my little garden. \n",
      "\n",
      "\n",
      "ariel, dear, time to come out. you've been in there all morning. \n",
      "\n",
      "\n",
      "what is with her lately? \n",
      "\n",
      "\n",
      "morning, daddy. \n",
      "\n",
      "\n",
      "oh, she's got it bad. \n",
      "\n",
      "\n",
      "what? what has she got? \n",
      "\n",
      "\n",
      "isn't it obvious, daddy? ariel's in love. \n",
      "\n",
      "\n",
      "ariel? in love? \n",
      "\n",
      "\n"
     ]
    }
   ],
   "source": [
    "#Part of Your World Reprise\n",
    "#136, 141\n",
    "for line in l_m.Text.iloc[133:150]:\n",
    "    print(line)\n",
    "    print('\\n')"
   ]
  },
  {
   "cell_type": "code",
   "execution_count": 346,
   "metadata": {},
   "outputs": [
    {
     "name": "stderr",
     "output_type": "stream",
     "text": [
      "c:\\users\\cassi\\appdata\\local\\programs\\python\\python36-32\\lib\\site-packages\\pandas\\core\\indexing.py:189: SettingWithCopyWarning: \n",
      "A value is trying to be set on a copy of a slice from a DataFrame\n",
      "\n",
      "See the caveats in the documentation: http://pandas.pydata.org/pandas-docs/stable/indexing.html#indexing-view-versus-copy\n",
      "  self._setitem_with_indexer(indexer, value)\n",
      "c:\\users\\cassi\\appdata\\local\\programs\\python\\python36-32\\lib\\site-packages\\ipykernel_launcher.py:2: SettingWithCopyWarning: \n",
      "A value is trying to be set on a copy of a slice from a DataFrame\n",
      "\n",
      "See the caveats in the documentation: http://pandas.pydata.org/pandas-docs/stable/indexing.html#indexing-view-versus-copy\n",
      "  \n"
     ]
    }
   ],
   "source": [
    "#quick edit to 136\n",
    "l_m.Text.iloc[136] = \"what would i give to live where you are? what would i pay to stay here beside you? what would i do to see you smiling at me? where would we walk? where would we run? if we could stay all day in the sun? just you and me and i could be part of your world.\""
   ]
  },
  {
   "cell_type": "code",
   "execution_count": 347,
   "metadata": {},
   "outputs": [],
   "source": [
    "l_m_songs.extend([136, 141])"
   ]
  },
  {
   "cell_type": "code",
   "execution_count": 349,
   "metadata": {},
   "outputs": [
    {
     "name": "stdout",
     "output_type": "stream",
     "text": [
      "i'll swim up to his castle. then flounder will splash around to get his attention, and then with \n",
      "\n",
      "\n",
      "down here is your home! ariel listen to me. the human world it's a mess. life under the sea is better than anything they got up there. \n",
      "\n",
      "\n",
      "the seaweed is always greener in somebody else's lake you dream about going up there but that is a big mistake just look at the world around you right here on the ocean floor such wonderful things surround you what more is you lookin' for? under the sea under the sea darling it's better down where it's wetter take it from me up on the shore they work all day out in the sun they slave away while we devotin' full time to floatin' under the sea down here all the fish is happy as off through the waves they roll the fish on the land ain't happy they sad 'cause they in their bowl but fish in the bowl is lucky they in for a worser fate one day when the boss get hungry guess who's gon' be on the plate under the sea under the sea nobody beat us fry us and eat us in fricassee we what the land folks loves to cook under the sea we off the hook we got no troubles life is the bubbles under the sea under the sea since life is sweet here we got the beat here naturally even the sturgeon an' the ray they get the urge 'n' start to play we got the spirit you got to hear it under the sea the newt play the flute the carp play the harp the plaice play the bass and they soundin' sharp the bass play the brass the chub play the tub the fluke is the duke of soul yeah the ray he can play the lings on the strings the trout rockin' out the blackfish she sings the smelt and the sprat they know where it's at an' oh that blowfish blow under the sea under the sea when the sardine begin the beguine it's music to me what do they got? a lot of sand we got a hot crustacean band each little clam here know how to jam here under the sea each little slug here cuttin' a rug here under the sea each little snail here know how to wail here that's why it's hotter under the water ya we in luck here down in the muck here under the sea \n",
      "\n",
      "\n",
      "ariel? ariel? oh . . . somebody's got to nail that girl's fins to the floor. \n",
      "\n",
      "\n",
      "sebastian! sebastian, i've been looking all over for you. i've got an urgent message from the sea king. \n",
      "\n",
      "\n"
     ]
    }
   ],
   "source": [
    "#Under the Sea\n",
    "#157\n",
    "for line in l_m.Text.iloc[155:160]:\n",
    "    print(line)\n",
    "    print('\\n')"
   ]
  },
  {
   "cell_type": "code",
   "execution_count": 350,
   "metadata": {},
   "outputs": [],
   "source": [
    "l_m_songs.append(157)"
   ]
  },
  {
   "cell_type": "code",
   "execution_count": 353,
   "metadata": {},
   "outputs": [
    {
     "name": "stdout",
     "output_type": "stream",
     "text": [
      "can you do that? \n",
      "\n",
      "\n",
      "my dear, sweet child. that's what i do it's what i live for. to help unfortunate merfolk like yourself. poor souls with no one else to turn to. \n",
      "\n",
      "\n",
      "i admit that in the past i've been a nasty they weren't kidding when they called me, well, a witch but you'll find that nowadays i've mended all my ways repented, seen the light and made a switch true? yes and i fortunately know a little magic it's a talent that i always have possessed and here lately, please don't laugh i use it on behalf of the miserable, lonely and depressed \n",
      "\n",
      "\n",
      "poor unfortunate souls in pain in need this one longing to be thinner that one wants to get the girl and do i help them? yes, indeed those poor unfortunate souls so sad so true they come flocking to my cauldron crying, \"spells, ursula please!\" and i help them? yes, i do now it's happened once or twice someone couldn't pay the price and i'm afraid i had to rake 'em 'cross the coals yes, i've had the odd complaint but on the whole i've been a saint to those poor unfortunate souls now, here's the deal. i will make you a potion that will turn you into a human for three days. got that? three days. now listen, this is important. before the sun sets on the third day, you've got to get dear ol' princey to fall in love with you. that is, he's got to kiss you. not just any kiss the kiss of true love. if he does kiss you before the sun sets on the third day, you'll remain human, permanently, but if he doesn't, you turn back into a mermaid, and you belong to me. \n",
      "\n",
      "\n",
      "no ariel! \n",
      "\n",
      "\n",
      "have we got a deal? \n",
      "\n",
      "\n",
      "if i become human, i'll never be with my father or sisters again. \n",
      "\n",
      "\n",
      "that's right. . . . but you'll have your man. life's full of tough choices, innit? oh and there is one more thing. we haven't discussed the subject of payment. you can't get something for nothing, you know. \n",
      "\n",
      "\n",
      "but i don't have any \n",
      "\n",
      "\n",
      "i'm not asking much. just a token, really, a trifle. you'll never even miss it. what i want from you is . . . your voice. \n",
      "\n",
      "\n",
      "my voice? \n",
      "\n",
      "\n",
      "you've got it, sweetcakes. no more talking, singing, zip. \n",
      "\n",
      "\n",
      "but without my voice, how can i \n",
      "\n",
      "\n",
      "you'll have your looks! your pretty face! and don't underestimate the importance of body language! ha! \n",
      "\n",
      "\n",
      "the men up there don't like a lot of blabber they think a girl who gossips is a bore yes, on land it's much preferred for ladies not to say a word and after all, dear, what is idle prattle for? come on, they're not all that impressed with conversation true gentlemen avoid it when they can but they dote and swoon and fawn on a lady who's withdrawn it's she who holds her tongue who gets her man come on, you poor unfortunate soul go ahead! make your choice! i'm a very busy woman and i haven't got all day it won't cost much just your voice! you poor unfortunate soul it's sad but true if you want to cross a bridge, my sweet you've got to pay the toll take a gulp and take a breath and go ahead and sign the scroll! flotsam, jetsam, now i've got her, boys the boss is on a roll this poor unfortunate soul. \n",
      "\n",
      "\n",
      "paluga, sarruga, come winds of the caspian sea. now rings us glossitis and max laryngitis, la voce to me! now . . . sing! \n",
      "\n",
      "\n",
      "keep singing! \n",
      "\n",
      "\n",
      "fade to beach. eric and max are walking near castle. \n",
      "\n",
      "\n"
     ]
    }
   ],
   "source": [
    "#Poor Unfortunate Souls\n",
    "#230, 231, 242, 243\n",
    "for line in l_m.Text.iloc[228:246]:\n",
    "    print(line)\n",
    "    print('\\n')"
   ]
  },
  {
   "cell_type": "code",
   "execution_count": 355,
   "metadata": {},
   "outputs": [],
   "source": [
    "l_m_songs.extend([230, 231, 242, 243])"
   ]
  },
  {
   "cell_type": "code",
   "execution_count": 358,
   "metadata": {},
   "outputs": [
    {
     "name": "stdout",
     "output_type": "stream",
     "text": [
      "oooh, you're gonna love it. chef's been fixing his specialty, stuffed crab. \n",
      "\n",
      "\n",
      "les poissons les poissons how i love les poissons love to chop and to serve little fish first i cut off their heads then i pull out the bones ah mais oui ca c'est toujours delish les poissons les poissons hee hee hee hah hah hah with the cleaver i hack them in two i pull out what's inside and i serve it up fried god, i love little fishes don't you? here's something for tempting the palate prepared in the classic technique first you pound the fish flat with a mallet then you slash through the skin give the belly a slice then you rub some salt in 'cause that makes it taste nice zut alors, i have missed one! sacre bleu what is this? how on earth could i miss such a sweet little succulent crab? quel dommage what a loss here we go in the sauce now some flour, i think just a dab now i stuff you with bread it don't hurt 'cause you're dead and you're certainly lucky you are 'cause it's gonna be hot in my big silver pot toodle loo mon poisson au revoir! \n",
      "\n",
      "\n",
      "what is this? \n",
      "\n",
      "\n",
      "cut to dining room. huge crash is heard. \n",
      "\n",
      "\n",
      "i think i'd better go see what louis is up to. back to kitchen. louis is trashing the place. \n",
      "\n",
      "\n",
      "come out you little pipsqueak and fight like a man! \n",
      "\n",
      "\n"
     ]
    }
   ],
   "source": [
    "#Les Poissons\n",
    "#278\n",
    "for line in l_m.Text.iloc[277:283]:\n",
    "    print(line)\n",
    "    print('\\n')"
   ]
  },
  {
   "cell_type": "code",
   "execution_count": 360,
   "metadata": {},
   "outputs": [],
   "source": [
    "l_m_songs.append(278)"
   ]
  },
  {
   "cell_type": "code",
   "execution_count": 365,
   "metadata": {},
   "outputs": [
    {
     "name": "stderr",
     "output_type": "stream",
     "text": [
      "c:\\users\\cassi\\appdata\\local\\programs\\python\\python36-32\\lib\\site-packages\\ipykernel_launcher.py:1: SettingWithCopyWarning: \n",
      "A value is trying to be set on a copy of a slice from a DataFrame\n",
      "\n",
      "See the caveats in the documentation: http://pandas.pydata.org/pandas-docs/stable/indexing.html#indexing-view-versus-copy\n",
      "  \"\"\"Entry point for launching an IPython kernel.\n"
     ]
    }
   ],
   "source": [
    "l_m.Text.iloc[281] = \"i think i'd better go see what louis is up to.\""
   ]
  },
  {
   "cell_type": "code",
   "execution_count": 366,
   "metadata": {},
   "outputs": [
    {
     "name": "stdout",
     "output_type": "stream",
     "text": [
      "jeez, man, i'm surrounded by amateurs! you want something done, you've got to do it yourself. first, we got to create the mood. percussion. . . . strings. . . . winds. . . . words. . . . \n",
      "\n",
      "\n",
      "there you see her sitting there across the way she don't got a lot to say but there's something about her and you don't know why but you're dying to try you wanna kiss the girl \n",
      "\n",
      "\n",
      "did you hear something? \n",
      "\n",
      "\n",
      "yes, you want her look at her, you know you do possible she wants you too there is one way to ask her it don't take a word not a single word go on and kiss the girl sha la la la la la my oh my look like the boy too shy ain't gonna kiss the girl sha la la la la la ain't that sad? ain't it a shame? too bad, he gonna miss the girl \n",
      "\n",
      "\n",
      "you know, i feel really bad not knowing your name. heh maybe i could guess. is it, err, mildred? o.k., no. how 'bout diana? rachel? \n",
      "\n",
      "\n",
      "ariel. her name is ariel. \n",
      "\n",
      "\n",
      "ariel? ariel? well, that's kinda pretty. o.k. ariel. . . \n",
      "\n",
      "\n",
      "now's your moment floating in a blue lagoon boy you better do it soon no time will be better she don't say a word and she won't say a word until you kiss the girl sha la la la la la don't be scared you got the mood prepared go on and kiss the girl sha la la la la la don't stop now don't try to hide it how you want to kiss the girl sha la la la la la float along and listen to the song the song say kiss the girl sha la la la la the music play do what the music say you got to kiss the girl you've got to kiss the girl you wanna kiss the girl you've gotta kiss the girl go on and kiss the girl the boat tips over. \n",
      "\n",
      "\n",
      "whoa, hang on i've gotcha. \n",
      "\n",
      "\n"
     ]
    }
   ],
   "source": [
    "#Kiss the Girl\n",
    "#310, 312, 316\n",
    "for line in l_m.Text.iloc[309:318]:\n",
    "    print(line)\n",
    "    print('\\n')"
   ]
  },
  {
   "cell_type": "code",
   "execution_count": 367,
   "metadata": {},
   "outputs": [],
   "source": [
    "l_m_songs.extend([310, 312, 316])"
   ]
  },
  {
   "cell_type": "code",
   "execution_count": 369,
   "metadata": {},
   "outputs": [
    {
     "name": "stderr",
     "output_type": "stream",
     "text": [
      "c:\\users\\cassi\\appdata\\local\\programs\\python\\python36-32\\lib\\site-packages\\ipykernel_launcher.py:1: SettingWithCopyWarning: \n",
      "A value is trying to be set on a copy of a slice from a DataFrame\n",
      "\n",
      "See the caveats in the documentation: http://pandas.pydata.org/pandas-docs/stable/indexing.html#indexing-view-versus-copy\n",
      "  \"\"\"Entry point for launching an IPython kernel.\n"
     ]
    }
   ],
   "source": [
    "l_m.Text.iloc[316] = \"now's your moment floating in a blue lagoon boy you better do it soon no time will be better she don't say a word and she won't say a word until you kiss the girl sha la la la la la don't be scared you got the mood prepared go on and kiss the girl sha la la la la la don't stop now don't try to hide it how you want to kiss the girl sha la la la la la float along and listen to the song the song say kiss the girl sha la la la la the music play do what the music say you got to kiss the girl you've got to kiss the girl you wanna kiss the girl you've gotta kiss the girl go on and kiss the girl.\""
   ]
  },
  {
   "cell_type": "code",
   "execution_count": 370,
   "metadata": {},
   "outputs": [
    {
     "data": {
      "text/html": [
       "<div>\n",
       "<style scoped>\n",
       "    .dataframe tbody tr th:only-of-type {\n",
       "        vertical-align: middle;\n",
       "    }\n",
       "\n",
       "    .dataframe tbody tr th {\n",
       "        vertical-align: top;\n",
       "    }\n",
       "\n",
       "    .dataframe thead th {\n",
       "        text-align: right;\n",
       "    }\n",
       "</style>\n",
       "<table border=\"1\" class=\"dataframe\">\n",
       "  <thead>\n",
       "    <tr style=\"text-align: right;\">\n",
       "      <th></th>\n",
       "      <th>Speaker</th>\n",
       "      <th>Text</th>\n",
       "    </tr>\n",
       "  </thead>\n",
       "  <tbody>\n",
       "    <tr>\n",
       "      <th>396</th>\n",
       "      <td>all</td>\n",
       "      <td>now we can walk, now we can run, now we can st...</td>\n",
       "    </tr>\n",
       "  </tbody>\n",
       "</table>\n",
       "</div>"
      ],
      "text/plain": [
       "    Speaker                                               Text\n",
       "396     all  now we can walk, now we can run, now we can st..."
      ]
     },
     "execution_count": 370,
     "metadata": {},
     "output_type": "execute_result"
    }
   ],
   "source": [
    "# Final reprise: earlier, you can see it's sung by \"all\"\n",
    "l_m[[\"Speaker\", \"Text\"]][l_m.Speaker == 'all']"
   ]
  },
  {
   "cell_type": "code",
   "execution_count": 371,
   "metadata": {},
   "outputs": [
    {
     "data": {
      "text/plain": [
       "'now we can walk, now we can run, now we can stay all day in the sun. just you and me, and i can be, part of your world. '"
      ]
     },
     "execution_count": 371,
     "metadata": {},
     "output_type": "execute_result"
    }
   ],
   "source": [
    "l_m.Text[396]"
   ]
  },
  {
   "cell_type": "code",
   "execution_count": 372,
   "metadata": {},
   "outputs": [],
   "source": [
    "l_m_songs.append(396)"
   ]
  },
  {
   "cell_type": "code",
   "execution_count": 374,
   "metadata": {},
   "outputs": [
    {
     "name": "stdout",
     "output_type": "stream",
     "text": [
      "Pretty printing has been turned OFF\n"
     ]
    }
   ],
   "source": [
    "%pprint"
   ]
  },
  {
   "cell_type": "code",
   "execution_count": 375,
   "metadata": {},
   "outputs": [
    {
     "data": {
      "text/plain": [
       "[0, 8, 16, 96, 97, 98, 136, 141, 157, 230, 231, 242, 243, 278, 310, 312, 316, 396]"
      ]
     },
     "execution_count": 375,
     "metadata": {},
     "output_type": "execute_result"
    }
   ],
   "source": [
    "#labeling songs\n",
    "l_m_songs"
   ]
  },
  {
   "cell_type": "code",
   "execution_count": 376,
   "metadata": {},
   "outputs": [
    {
     "name": "stderr",
     "output_type": "stream",
     "text": [
      "c:\\users\\cassi\\appdata\\local\\programs\\python\\python36-32\\lib\\site-packages\\ipykernel_launcher.py:2: SettingWithCopyWarning: \n",
      "A value is trying to be set on a copy of a slice from a DataFrame.\n",
      "Try using .loc[row_indexer,col_indexer] = value instead\n",
      "\n",
      "See the caveats in the documentation: http://pandas.pydata.org/pandas-docs/stable/indexing.html#indexing-view-versus-copy\n",
      "  \n"
     ]
    }
   ],
   "source": [
    "song_func = partial(is_dialogue, song=l_m_songs)\n",
    "l_m[\"Song\"] = l_m.index.map(song_func)"
   ]
  },
  {
   "cell_type": "code",
   "execution_count": 377,
   "metadata": {},
   "outputs": [
    {
     "name": "stdout",
     "output_type": "stream",
     "text": [
      "<class 'pandas.core.frame.DataFrame'>\n",
      "RangeIndex: 397 entries, 0 to 396\n",
      "Data columns (total 11 columns):\n",
      "Disney_Period       397 non-null object\n",
      "Gender              397 non-null object\n",
      "Movie               397 non-null object\n",
      "Role                397 non-null object\n",
      "Song                397 non-null object\n",
      "Speaker             397 non-null object\n",
      "Speaker_Status      397 non-null object\n",
      "Start_Scene         0 non-null object\n",
      "Text                397 non-null object\n",
      "UTTERANCE_NUMBER    397 non-null int64\n",
      "Year                397 non-null int64\n",
      "dtypes: int64(2), object(9)\n",
      "memory usage: 20.2+ KB\n"
     ]
    }
   ],
   "source": [
    "l_m.info() #no null's in the categories we modified"
   ]
  },
  {
   "cell_type": "code",
   "execution_count": 378,
   "metadata": {},
   "outputs": [
    {
     "data": {
      "text/html": [
       "<div>\n",
       "<style scoped>\n",
       "    .dataframe tbody tr th:only-of-type {\n",
       "        vertical-align: middle;\n",
       "    }\n",
       "\n",
       "    .dataframe tbody tr th {\n",
       "        vertical-align: top;\n",
       "    }\n",
       "\n",
       "    .dataframe thead th {\n",
       "        text-align: right;\n",
       "    }\n",
       "</style>\n",
       "<table border=\"1\" class=\"dataframe\">\n",
       "  <thead>\n",
       "    <tr style=\"text-align: right;\">\n",
       "      <th></th>\n",
       "      <th>Disney_Period</th>\n",
       "      <th>Gender</th>\n",
       "      <th>Movie</th>\n",
       "      <th>Role</th>\n",
       "      <th>Song</th>\n",
       "      <th>Speaker</th>\n",
       "      <th>Speaker_Status</th>\n",
       "      <th>Start_Scene</th>\n",
       "      <th>Text</th>\n",
       "      <th>UTTERANCE_NUMBER</th>\n",
       "      <th>Year</th>\n",
       "    </tr>\n",
       "  </thead>\n",
       "  <tbody>\n",
       "    <tr>\n",
       "      <th>212</th>\n",
       "      <td>MID</td>\n",
       "      <td>m</td>\n",
       "      <td>The Little Mermaid</td>\n",
       "      <td>ANT</td>\n",
       "      <td>D</td>\n",
       "      <td>jetsam</td>\n",
       "      <td>NON-P</td>\n",
       "      <td>NaN</td>\n",
       "      <td>ursula has great powers</td>\n",
       "      <td>213</td>\n",
       "      <td>1989</td>\n",
       "    </tr>\n",
       "    <tr>\n",
       "      <th>194</th>\n",
       "      <td>MID</td>\n",
       "      <td>f</td>\n",
       "      <td>The Little Mermaid</td>\n",
       "      <td>PRO</td>\n",
       "      <td>D</td>\n",
       "      <td>ariel</td>\n",
       "      <td>PRINCESS</td>\n",
       "      <td>NaN</td>\n",
       "      <td>i don't care.</td>\n",
       "      <td>195</td>\n",
       "      <td>1989</td>\n",
       "    </tr>\n",
       "    <tr>\n",
       "      <th>219</th>\n",
       "      <td>MID</td>\n",
       "      <td>m</td>\n",
       "      <td>The Little Mermaid</td>\n",
       "      <td>HELPER</td>\n",
       "      <td>D</td>\n",
       "      <td>sebastian</td>\n",
       "      <td>NON-P</td>\n",
       "      <td>NaN</td>\n",
       "      <td>i didn't mean to tell, it was an accident.</td>\n",
       "      <td>220</td>\n",
       "      <td>1989</td>\n",
       "    </tr>\n",
       "    <tr>\n",
       "      <th>30</th>\n",
       "      <td>MID</td>\n",
       "      <td>f</td>\n",
       "      <td>The Little Mermaid</td>\n",
       "      <td>PRO</td>\n",
       "      <td>D</td>\n",
       "      <td>ariel</td>\n",
       "      <td>PRINCESS</td>\n",
       "      <td>NaN</td>\n",
       "      <td>flounder, don't be such a guppy.</td>\n",
       "      <td>31</td>\n",
       "      <td>1989</td>\n",
       "    </tr>\n",
       "    <tr>\n",
       "      <th>335</th>\n",
       "      <td>MID</td>\n",
       "      <td>m</td>\n",
       "      <td>The Little Mermaid</td>\n",
       "      <td>HELPER</td>\n",
       "      <td>D</td>\n",
       "      <td>sebastian</td>\n",
       "      <td>NON-P</td>\n",
       "      <td>NaN</td>\n",
       "      <td>ariel, grab on to that. flounder, get her to t...</td>\n",
       "      <td>336</td>\n",
       "      <td>1989</td>\n",
       "    </tr>\n",
       "  </tbody>\n",
       "</table>\n",
       "</div>"
      ],
      "text/plain": [
       "    Disney_Period Gender               Movie    Role Song    Speaker  \\\n",
       "212           MID      m  The Little Mermaid     ANT    D     jetsam   \n",
       "194           MID      f  The Little Mermaid     PRO    D      ariel   \n",
       "219           MID      m  The Little Mermaid  HELPER    D  sebastian   \n",
       "30            MID      f  The Little Mermaid     PRO    D      ariel   \n",
       "335           MID      m  The Little Mermaid  HELPER    D  sebastian   \n",
       "\n",
       "    Speaker_Status Start_Scene  \\\n",
       "212          NON-P         NaN   \n",
       "194       PRINCESS         NaN   \n",
       "219          NON-P         NaN   \n",
       "30        PRINCESS         NaN   \n",
       "335          NON-P         NaN   \n",
       "\n",
       "                                                  Text  UTTERANCE_NUMBER  Year  \n",
       "212                           ursula has great powers                213  1989  \n",
       "194                                     i don't care.                195  1989  \n",
       "219        i didn't mean to tell, it was an accident.                220  1989  \n",
       "30                   flounder, don't be such a guppy.                 31  1989  \n",
       "335  ariel, grab on to that. flounder, get her to t...               336  1989  "
      ]
     },
     "execution_count": 378,
     "metadata": {},
     "output_type": "execute_result"
    }
   ],
   "source": [
    "l_m.sample(5)"
   ]
  },
  {
   "cell_type": "code",
   "execution_count": 379,
   "metadata": {},
   "outputs": [
    {
     "data": {
      "text/plain": [
       "'fade to beach. eric and max are walking near castle. '"
      ]
     },
     "execution_count": 379,
     "metadata": {},
     "output_type": "execute_result"
    }
   ],
   "source": [
    "#Some fake lines: 245, 280\n",
    "l_m.Text.iloc[245]"
   ]
  },
  {
   "cell_type": "code",
   "execution_count": 380,
   "metadata": {},
   "outputs": [],
   "source": [
    "def cut_line(dataframe, index_num):\n",
    "    dataframe.drop(index = index_num, inplace = True)"
   ]
  },
  {
   "cell_type": "code",
   "execution_count": 382,
   "metadata": {},
   "outputs": [
    {
     "name": "stderr",
     "output_type": "stream",
     "text": [
      "c:\\users\\cassi\\appdata\\local\\programs\\python\\python36-32\\lib\\site-packages\\pandas\\core\\frame.py:3697: SettingWithCopyWarning: \n",
      "A value is trying to be set on a copy of a slice from a DataFrame\n",
      "\n",
      "See the caveats in the documentation: http://pandas.pydata.org/pandas-docs/stable/indexing.html#indexing-view-versus-copy\n",
      "  errors=errors)\n"
     ]
    }
   ],
   "source": [
    "cut_line(l_m, 245)"
   ]
  },
  {
   "cell_type": "code",
   "execution_count": 383,
   "metadata": {},
   "outputs": [
    {
     "data": {
      "text/html": [
       "<div>\n",
       "<style scoped>\n",
       "    .dataframe tbody tr th:only-of-type {\n",
       "        vertical-align: middle;\n",
       "    }\n",
       "\n",
       "    .dataframe tbody tr th {\n",
       "        vertical-align: top;\n",
       "    }\n",
       "\n",
       "    .dataframe thead th {\n",
       "        text-align: right;\n",
       "    }\n",
       "</style>\n",
       "<table border=\"1\" class=\"dataframe\">\n",
       "  <thead>\n",
       "    <tr style=\"text-align: right;\">\n",
       "      <th></th>\n",
       "      <th>Speaker</th>\n",
       "      <th>Text</th>\n",
       "    </tr>\n",
       "  </thead>\n",
       "  <tbody>\n",
       "    <tr>\n",
       "      <th>244</th>\n",
       "      <td>ursula</td>\n",
       "      <td>keep singing!</td>\n",
       "    </tr>\n",
       "    <tr>\n",
       "      <th>246</th>\n",
       "      <td>eric</td>\n",
       "      <td>that voice. i can't get it out of my head. i'v...</td>\n",
       "    </tr>\n",
       "    <tr>\n",
       "      <th>247</th>\n",
       "      <td>scuttle</td>\n",
       "      <td>well, look at what the catfish dragged in! loo...</td>\n",
       "    </tr>\n",
       "  </tbody>\n",
       "</table>\n",
       "</div>"
      ],
      "text/plain": [
       "     Speaker                                               Text\n",
       "244   ursula                                     keep singing! \n",
       "246     eric  that voice. i can't get it out of my head. i'v...\n",
       "247  scuttle  well, look at what the catfish dragged in! loo..."
      ]
     },
     "execution_count": 383,
     "metadata": {},
     "output_type": "execute_result"
    }
   ],
   "source": [
    "l_m[[\"Speaker\", \"Text\"]].iloc[244:247]"
   ]
  },
  {
   "cell_type": "code",
   "execution_count": 384,
   "metadata": {},
   "outputs": [],
   "source": [
    "cut_line(l_m, 280)"
   ]
  },
  {
   "cell_type": "code",
   "execution_count": 386,
   "metadata": {},
   "outputs": [
    {
     "data": {
      "text/html": [
       "<div>\n",
       "<style scoped>\n",
       "    .dataframe tbody tr th:only-of-type {\n",
       "        vertical-align: middle;\n",
       "    }\n",
       "\n",
       "    .dataframe tbody tr th {\n",
       "        vertical-align: top;\n",
       "    }\n",
       "\n",
       "    .dataframe thead th {\n",
       "        text-align: right;\n",
       "    }\n",
       "</style>\n",
       "<table border=\"1\" class=\"dataframe\">\n",
       "  <thead>\n",
       "    <tr style=\"text-align: right;\">\n",
       "      <th></th>\n",
       "      <th>Speaker</th>\n",
       "      <th>Text</th>\n",
       "    </tr>\n",
       "  </thead>\n",
       "  <tbody>\n",
       "    <tr>\n",
       "      <th>279</th>\n",
       "      <td>louis</td>\n",
       "      <td>what is this?</td>\n",
       "    </tr>\n",
       "    <tr>\n",
       "      <th>281</th>\n",
       "      <td>carlotta</td>\n",
       "      <td>i think i'd better go see what louis is up to.</td>\n",
       "    </tr>\n",
       "    <tr>\n",
       "      <th>282</th>\n",
       "      <td>louis</td>\n",
       "      <td>come out you little pipsqueak and fight like a...</td>\n",
       "    </tr>\n",
       "    <tr>\n",
       "      <th>283</th>\n",
       "      <td>carlotta</td>\n",
       "      <td>louis! what are you doing?</td>\n",
       "    </tr>\n",
       "  </tbody>\n",
       "</table>\n",
       "</div>"
      ],
      "text/plain": [
       "      Speaker                                               Text\n",
       "279     louis                                     what is this? \n",
       "281  carlotta     i think i'd better go see what louis is up to.\n",
       "282     louis  come out you little pipsqueak and fight like a...\n",
       "283  carlotta                        louis! what are you doing? "
      ]
     },
     "execution_count": 386,
     "metadata": {},
     "output_type": "execute_result"
    }
   ],
   "source": [
    "l_m[[\"Speaker\", \"Text\"]].iloc[278:282]"
   ]
  },
  {
   "cell_type": "code",
   "execution_count": 387,
   "metadata": {},
   "outputs": [],
   "source": [
    "l_m.reset_index(drop=True, inplace=True)"
   ]
  },
  {
   "cell_type": "markdown",
   "metadata": {},
   "source": [
    "## Aladdin\n",
    "### 1) Gender\n"
   ]
  },
  {
   "cell_type": "code",
   "execution_count": 388,
   "metadata": {},
   "outputs": [
    {
     "data": {
      "text/html": [
       "<div>\n",
       "<style scoped>\n",
       "    .dataframe tbody tr th:only-of-type {\n",
       "        vertical-align: middle;\n",
       "    }\n",
       "\n",
       "    .dataframe tbody tr th {\n",
       "        vertical-align: top;\n",
       "    }\n",
       "\n",
       "    .dataframe thead th {\n",
       "        text-align: right;\n",
       "    }\n",
       "</style>\n",
       "<table border=\"1\" class=\"dataframe\">\n",
       "  <thead>\n",
       "    <tr style=\"text-align: right;\">\n",
       "      <th></th>\n",
       "      <th>Disney_Period</th>\n",
       "      <th>Gender</th>\n",
       "      <th>Movie</th>\n",
       "      <th>Role</th>\n",
       "      <th>Song</th>\n",
       "      <th>Speaker</th>\n",
       "      <th>Speaker_Status</th>\n",
       "      <th>Start_Scene</th>\n",
       "      <th>Text</th>\n",
       "      <th>UTTERANCE_NUMBER</th>\n",
       "      <th>Year</th>\n",
       "    </tr>\n",
       "  </thead>\n",
       "  <tbody>\n",
       "    <tr>\n",
       "      <th>2494</th>\n",
       "      <td>MID</td>\n",
       "      <td>NaN</td>\n",
       "      <td>Aladdin</td>\n",
       "      <td>NaN</td>\n",
       "      <td>NaN</td>\n",
       "      <td>peddler</td>\n",
       "      <td>NON-P</td>\n",
       "      <td>NaN</td>\n",
       "      <td>oh i come from a land from a faraway place whe...</td>\n",
       "      <td>1</td>\n",
       "      <td>1992</td>\n",
       "    </tr>\n",
       "    <tr>\n",
       "      <th>2495</th>\n",
       "      <td>MID</td>\n",
       "      <td>NaN</td>\n",
       "      <td>Aladdin</td>\n",
       "      <td>NaN</td>\n",
       "      <td>NaN</td>\n",
       "      <td>jafar</td>\n",
       "      <td>NON-P</td>\n",
       "      <td>NaN</td>\n",
       "      <td>you...are late.</td>\n",
       "      <td>2</td>\n",
       "      <td>1992</td>\n",
       "    </tr>\n",
       "    <tr>\n",
       "      <th>2496</th>\n",
       "      <td>MID</td>\n",
       "      <td>NaN</td>\n",
       "      <td>Aladdin</td>\n",
       "      <td>NaN</td>\n",
       "      <td>NaN</td>\n",
       "      <td>gazeem</td>\n",
       "      <td>NON-P</td>\n",
       "      <td>NaN</td>\n",
       "      <td>a thousand apologies, o patient one.</td>\n",
       "      <td>3</td>\n",
       "      <td>1992</td>\n",
       "    </tr>\n",
       "    <tr>\n",
       "      <th>2497</th>\n",
       "      <td>MID</td>\n",
       "      <td>NaN</td>\n",
       "      <td>Aladdin</td>\n",
       "      <td>NaN</td>\n",
       "      <td>NaN</td>\n",
       "      <td>jafar</td>\n",
       "      <td>NON-P</td>\n",
       "      <td>NaN</td>\n",
       "      <td>you have it, then?</td>\n",
       "      <td>4</td>\n",
       "      <td>1992</td>\n",
       "    </tr>\n",
       "    <tr>\n",
       "      <th>2498</th>\n",
       "      <td>MID</td>\n",
       "      <td>NaN</td>\n",
       "      <td>Aladdin</td>\n",
       "      <td>NaN</td>\n",
       "      <td>NaN</td>\n",
       "      <td>gazeem</td>\n",
       "      <td>NON-P</td>\n",
       "      <td>NaN</td>\n",
       "      <td>i had to slit a few throats to get it.</td>\n",
       "      <td>5</td>\n",
       "      <td>1992</td>\n",
       "    </tr>\n",
       "  </tbody>\n",
       "</table>\n",
       "</div>"
      ],
      "text/plain": [
       "     Disney_Period Gender    Movie Role Song  Speaker Speaker_Status  \\\n",
       "2494           MID    NaN  Aladdin  NaN  NaN  peddler          NON-P   \n",
       "2495           MID    NaN  Aladdin  NaN  NaN    jafar          NON-P   \n",
       "2496           MID    NaN  Aladdin  NaN  NaN   gazeem          NON-P   \n",
       "2497           MID    NaN  Aladdin  NaN  NaN    jafar          NON-P   \n",
       "2498           MID    NaN  Aladdin  NaN  NaN   gazeem          NON-P   \n",
       "\n",
       "     Start_Scene                                               Text  \\\n",
       "2494         NaN  oh i come from a land from a faraway place whe...   \n",
       "2495         NaN                                   you...are late.    \n",
       "2496         NaN              a thousand apologies, o patient one.    \n",
       "2497         NaN                                you have it, then?    \n",
       "2498         NaN            i had to slit a few throats to get it.    \n",
       "\n",
       "      UTTERANCE_NUMBER  Year  \n",
       "2494                 1  1992  \n",
       "2495                 2  1992  \n",
       "2496                 3  1992  \n",
       "2497                 4  1992  \n",
       "2498                 5  1992  "
      ]
     },
     "execution_count": 388,
     "metadata": {},
     "output_type": "execute_result"
    }
   ],
   "source": [
    "al = disney[disney.Movie == 'Aladdin']\n",
    "al.head()"
   ]
  },
  {
   "cell_type": "code",
   "execution_count": 389,
   "metadata": {},
   "outputs": [
    {
     "name": "stdout",
     "output_type": "stream",
     "text": [
      "<class 'pandas.core.frame.DataFrame'>\n",
      "Int64Index: 842 entries, 2494 to 3335\n",
      "Data columns (total 11 columns):\n",
      "Disney_Period       842 non-null object\n",
      "Gender              0 non-null object\n",
      "Movie               842 non-null object\n",
      "Role                0 non-null object\n",
      "Song                0 non-null object\n",
      "Speaker             842 non-null object\n",
      "Speaker_Status      842 non-null object\n",
      "Start_Scene         0 non-null object\n",
      "Text                842 non-null object\n",
      "UTTERANCE_NUMBER    842 non-null int64\n",
      "Year                842 non-null int64\n",
      "dtypes: int64(2), object(9)\n",
      "memory usage: 49.3+ KB\n"
     ]
    }
   ],
   "source": [
    "al.info()"
   ]
  },
  {
   "cell_type": "code",
   "execution_count": 391,
   "metadata": {},
   "outputs": [
    {
     "data": {
      "text/plain": [
       "array(['peddler', 'jafar', 'gazeem', 'iago', 'cave', 'guard', 'aladdin',\n",
       "       'guard 1', 'guard 2', 'woman 1', 'abu', 'guards', 'women', 'woman',\n",
       "       'crowd', 'lady', 'bystander 1', 'bystander 2', 'prince', 'sultan',\n",
       "       'jasmine', 'both', 'proprietor', 'shopkeeper 1', 'shopkeeper 2',\n",
       "       'shopkeeper 3', 'shopkeeper 4', 'aladdin and jasmine', 'old man',\n",
       "       'cave voice', 'genie', 'dup. genies', 'marchers', 'swordsmen',\n",
       "       'major', 'chorus of men', 'harry', 'chorus of women', 'june',\n",
       "       '    girls', 'chorus', 'bee', 'flamingo', \"men's chorus\"],\n",
       "      dtype=object)"
      ]
     },
     "execution_count": 391,
     "metadata": {},
     "output_type": "execute_result"
    }
   ],
   "source": [
    "al.Speaker.unique()"
   ]
  },
  {
   "cell_type": "code",
   "execution_count": 394,
   "metadata": {},
   "outputs": [
    {
     "name": "stderr",
     "output_type": "stream",
     "text": [
      "c:\\users\\cassi\\appdata\\local\\programs\\python\\python36-32\\lib\\site-packages\\pandas\\core\\generic.py:4405: SettingWithCopyWarning: \n",
      "A value is trying to be set on a copy of a slice from a DataFrame.\n",
      "Try using .loc[row_indexer,col_indexer] = value instead\n",
      "\n",
      "See the caveats in the documentation: http://pandas.pydata.org/pandas-docs/stable/indexing.html#indexing-view-versus-copy\n",
      "  self[name] = value\n"
     ]
    }
   ],
   "source": [
    "al.Speaker = al.Speaker.map(lambda x: x.strip())"
   ]
  },
  {
   "cell_type": "code",
   "execution_count": 395,
   "metadata": {},
   "outputs": [
    {
     "name": "stdout",
     "output_type": "stream",
     "text": [
      "44\n"
     ]
    },
    {
     "data": {
      "text/plain": [
       "array(['peddler', 'jafar', 'gazeem', 'iago', 'cave', 'guard', 'aladdin',\n",
       "       'guard 1', 'guard 2', 'woman 1', 'abu', 'guards', 'women', 'woman',\n",
       "       'crowd', 'lady', 'bystander 1', 'bystander 2', 'prince', 'sultan',\n",
       "       'jasmine', 'both', 'proprietor', 'shopkeeper 1', 'shopkeeper 2',\n",
       "       'shopkeeper 3', 'shopkeeper 4', 'aladdin and jasmine', 'old man',\n",
       "       'cave voice', 'genie', 'dup. genies', 'marchers', 'swordsmen',\n",
       "       'major', 'chorus of men', 'harry', 'chorus of women', 'june',\n",
       "       'girls', 'chorus', 'bee', 'flamingo', \"men's chorus\"], dtype=object)"
      ]
     },
     "execution_count": 395,
     "metadata": {},
     "output_type": "execute_result"
    }
   ],
   "source": [
    "print(len(al.Speaker.unique()))\n",
    "al.Speaker.unique()\n"
   ]
  },
  {
   "cell_type": "code",
   "execution_count": 409,
   "metadata": {},
   "outputs": [
    {
     "name": "stdout",
     "output_type": "stream",
     "text": [
      "39\n"
     ]
    }
   ],
   "source": [
    "al_female = ['woman 1', 'women', 'woman', 'lady', 'jasmine', 'chorus of women', 'girls', 'june']\n",
    "al_male = ['peddler', 'jafar', 'gazeem', 'iago', 'guard', 'cave', 'aladdin', 'guard 1', 'guard 2', 'abu', 'guards',\n",
    "          'prince', 'sultan', 'bystander 1', 'bystander 2', 'proprietor', 'shopkeeper 1', 'shopkeeper 2', 'shopkeeper 3',\n",
    "           'shopkeeper 4', 'old man', 'cave voice', 'genie', 'dup. genie', 'swordsmen', 'major',\n",
    "           'chorus of men', 'harry', 'bee', \"men's chorus\", 'marchers']\n",
    "#neutral: crowd, both, aladdin and jasmine, chorus, flamingo\n",
    "print(len(al_female)+len(al_male))"
   ]
  },
  {
   "cell_type": "code",
   "execution_count": 410,
   "metadata": {},
   "outputs": [
    {
     "name": "stderr",
     "output_type": "stream",
     "text": [
      "c:\\users\\cassi\\appdata\\local\\programs\\python\\python36-32\\lib\\site-packages\\ipykernel_launcher.py:2: SettingWithCopyWarning: \n",
      "A value is trying to be set on a copy of a slice from a DataFrame.\n",
      "Try using .loc[row_indexer,col_indexer] = value instead\n",
      "\n",
      "See the caveats in the documentation: http://pandas.pydata.org/pandas-docs/stable/indexing.html#indexing-view-versus-copy\n",
      "  \n"
     ]
    }
   ],
   "source": [
    "gender_func = partial(whichgen, female = al_female, male=al_male)\n",
    "al[\"Gender\"] = al.Speaker.map(gender_func)"
   ]
  },
  {
   "cell_type": "code",
   "execution_count": 412,
   "metadata": {},
   "outputs": [
    {
     "data": {
      "text/html": [
       "<div>\n",
       "<style scoped>\n",
       "    .dataframe tbody tr th:only-of-type {\n",
       "        vertical-align: middle;\n",
       "    }\n",
       "\n",
       "    .dataframe tbody tr th {\n",
       "        vertical-align: top;\n",
       "    }\n",
       "\n",
       "    .dataframe thead th {\n",
       "        text-align: right;\n",
       "    }\n",
       "</style>\n",
       "<table border=\"1\" class=\"dataframe\">\n",
       "  <thead>\n",
       "    <tr style=\"text-align: right;\">\n",
       "      <th></th>\n",
       "      <th>Disney_Period</th>\n",
       "      <th>Gender</th>\n",
       "      <th>Movie</th>\n",
       "      <th>Role</th>\n",
       "      <th>Song</th>\n",
       "      <th>Speaker</th>\n",
       "      <th>Speaker_Status</th>\n",
       "      <th>Start_Scene</th>\n",
       "      <th>Text</th>\n",
       "      <th>UTTERANCE_NUMBER</th>\n",
       "      <th>Year</th>\n",
       "    </tr>\n",
       "  </thead>\n",
       "  <tbody>\n",
       "    <tr>\n",
       "      <th>3331</th>\n",
       "      <td>MID</td>\n",
       "      <td>m</td>\n",
       "      <td>Aladdin</td>\n",
       "      <td>NaN</td>\n",
       "      <td>NaN</td>\n",
       "      <td>aladdin</td>\n",
       "      <td>PRINCE</td>\n",
       "      <td>NaN</td>\n",
       "      <td>a whole new world</td>\n",
       "      <td>838</td>\n",
       "      <td>1992</td>\n",
       "    </tr>\n",
       "    <tr>\n",
       "      <th>3332</th>\n",
       "      <td>MID</td>\n",
       "      <td>f</td>\n",
       "      <td>Aladdin</td>\n",
       "      <td>NaN</td>\n",
       "      <td>NaN</td>\n",
       "      <td>jasmine</td>\n",
       "      <td>PRINCESS</td>\n",
       "      <td>NaN</td>\n",
       "      <td>a whole new life</td>\n",
       "      <td>839</td>\n",
       "      <td>1992</td>\n",
       "    </tr>\n",
       "    <tr>\n",
       "      <th>3333</th>\n",
       "      <td>MID</td>\n",
       "      <td>n</td>\n",
       "      <td>Aladdin</td>\n",
       "      <td>NaN</td>\n",
       "      <td>NaN</td>\n",
       "      <td>both</td>\n",
       "      <td>NON-P</td>\n",
       "      <td>NaN</td>\n",
       "      <td>for you and me!</td>\n",
       "      <td>840</td>\n",
       "      <td>1992</td>\n",
       "    </tr>\n",
       "    <tr>\n",
       "      <th>3334</th>\n",
       "      <td>MID</td>\n",
       "      <td>m</td>\n",
       "      <td>Aladdin</td>\n",
       "      <td>NaN</td>\n",
       "      <td>NaN</td>\n",
       "      <td>men's chorus</td>\n",
       "      <td>NON-P</td>\n",
       "      <td>NaN</td>\n",
       "      <td>a whole new world!</td>\n",
       "      <td>841</td>\n",
       "      <td>1992</td>\n",
       "    </tr>\n",
       "    <tr>\n",
       "      <th>3335</th>\n",
       "      <td>MID</td>\n",
       "      <td>m</td>\n",
       "      <td>Aladdin</td>\n",
       "      <td>NaN</td>\n",
       "      <td>NaN</td>\n",
       "      <td>genie</td>\n",
       "      <td>NON-P</td>\n",
       "      <td>NaN</td>\n",
       "      <td>made ya look!</td>\n",
       "      <td>842</td>\n",
       "      <td>1992</td>\n",
       "    </tr>\n",
       "  </tbody>\n",
       "</table>\n",
       "</div>"
      ],
      "text/plain": [
       "     Disney_Period Gender    Movie Role Song       Speaker Speaker_Status  \\\n",
       "3331           MID      m  Aladdin  NaN  NaN       aladdin         PRINCE   \n",
       "3332           MID      f  Aladdin  NaN  NaN       jasmine       PRINCESS   \n",
       "3333           MID      n  Aladdin  NaN  NaN          both          NON-P   \n",
       "3334           MID      m  Aladdin  NaN  NaN  men's chorus          NON-P   \n",
       "3335           MID      m  Aladdin  NaN  NaN         genie          NON-P   \n",
       "\n",
       "     Start_Scene                 Text  UTTERANCE_NUMBER  Year  \n",
       "3331         NaN   a whole new world                838  1992  \n",
       "3332         NaN    a whole new life                839  1992  \n",
       "3333         NaN     for you and me!                840  1992  \n",
       "3334         NaN  a whole new world!                841  1992  \n",
       "3335         NaN       made ya look!                842  1992  "
      ]
     },
     "execution_count": 412,
     "metadata": {},
     "output_type": "execute_result"
    }
   ],
   "source": [
    "al.tail()"
   ]
  },
  {
   "cell_type": "code",
   "execution_count": 415,
   "metadata": {},
   "outputs": [
    {
     "data": {
      "text/plain": [
       "2952    don't they look lovely, june? \n",
       "Name: Text, dtype: object"
      ]
     },
     "execution_count": 415,
     "metadata": {},
     "output_type": "execute_result"
    }
   ],
   "source": [
    "al.Text[al.Speaker == 'harry']"
   ]
  },
  {
   "cell_type": "markdown",
   "metadata": {},
   "source": [
    "### 2) Role\n",
    "Some of these speakers, like bee and old man, are other names from pre-established characters, and will be included in their relevent list"
   ]
  },
  {
   "cell_type": "code",
   "execution_count": 414,
   "metadata": {},
   "outputs": [
    {
     "data": {
      "text/plain": [
       "array(['peddler', 'jafar', 'gazeem', 'iago', 'cave', 'guard', 'aladdin',\n",
       "       'guard 1', 'guard 2', 'woman 1', 'abu', 'guards', 'women', 'woman',\n",
       "       'crowd', 'lady', 'bystander 1', 'bystander 2', 'prince', 'sultan',\n",
       "       'jasmine', 'both', 'proprietor', 'shopkeeper 1', 'shopkeeper 2',\n",
       "       'shopkeeper 3', 'shopkeeper 4', 'aladdin and jasmine', 'old man',\n",
       "       'cave voice', 'genie', 'dup. genies', 'marchers', 'swordsmen',\n",
       "       'major', 'chorus of men', 'harry', 'chorus of women', 'june',\n",
       "       'girls', 'chorus', 'bee', 'flamingo', \"men's chorus\"], dtype=object)"
      ]
     },
     "execution_count": 414,
     "metadata": {},
     "output_type": "execute_result"
    }
   ],
   "source": [
    "al.Speaker.unique()"
   ]
  },
  {
   "cell_type": "code",
   "execution_count": 418,
   "metadata": {},
   "outputs": [],
   "source": [
    "al_pro = ['aladdin', 'jasmine']\n",
    "al_ant = ['jafar', 'iago', 'old man', 'guard', 'guard 1', 'guard 2', 'guards', 'proprietor']\n",
    "al_helper = ['abu','genie', 'dup. genies', 'bee', 'june', 'major', 'harry']"
   ]
  },
  {
   "cell_type": "code",
   "execution_count": 419,
   "metadata": {},
   "outputs": [
    {
     "name": "stderr",
     "output_type": "stream",
     "text": [
      "c:\\users\\cassi\\appdata\\local\\programs\\python\\python36-32\\lib\\site-packages\\ipykernel_launcher.py:2: SettingWithCopyWarning: \n",
      "A value is trying to be set on a copy of a slice from a DataFrame.\n",
      "Try using .loc[row_indexer,col_indexer] = value instead\n",
      "\n",
      "See the caveats in the documentation: http://pandas.pydata.org/pandas-docs/stable/indexing.html#indexing-view-versus-copy\n",
      "  \n"
     ]
    }
   ],
   "source": [
    "role_func = partial(whichrole, pro = al_pro, ant = al_ant, helper = al_helper)\n",
    "al[\"Role\"] = al.Speaker.map(role_func)"
   ]
  },
  {
   "cell_type": "code",
   "execution_count": 420,
   "metadata": {},
   "outputs": [
    {
     "data": {
      "text/html": [
       "<div>\n",
       "<style scoped>\n",
       "    .dataframe tbody tr th:only-of-type {\n",
       "        vertical-align: middle;\n",
       "    }\n",
       "\n",
       "    .dataframe tbody tr th {\n",
       "        vertical-align: top;\n",
       "    }\n",
       "\n",
       "    .dataframe thead th {\n",
       "        text-align: right;\n",
       "    }\n",
       "</style>\n",
       "<table border=\"1\" class=\"dataframe\">\n",
       "  <thead>\n",
       "    <tr style=\"text-align: right;\">\n",
       "      <th></th>\n",
       "      <th>Disney_Period</th>\n",
       "      <th>Gender</th>\n",
       "      <th>Movie</th>\n",
       "      <th>Role</th>\n",
       "      <th>Song</th>\n",
       "      <th>Speaker</th>\n",
       "      <th>Speaker_Status</th>\n",
       "      <th>Start_Scene</th>\n",
       "      <th>Text</th>\n",
       "      <th>UTTERANCE_NUMBER</th>\n",
       "      <th>Year</th>\n",
       "    </tr>\n",
       "  </thead>\n",
       "  <tbody>\n",
       "    <tr>\n",
       "      <th>2973</th>\n",
       "      <td>MID</td>\n",
       "      <td>m</td>\n",
       "      <td>Aladdin</td>\n",
       "      <td>N</td>\n",
       "      <td>NaN</td>\n",
       "      <td>sultan</td>\n",
       "      <td>NON-P</td>\n",
       "      <td>NaN</td>\n",
       "      <td>oh, button up, jafar. learn to have a little f...</td>\n",
       "      <td>480</td>\n",
       "      <td>1992</td>\n",
       "    </tr>\n",
       "    <tr>\n",
       "      <th>2536</th>\n",
       "      <td>MID</td>\n",
       "      <td>m</td>\n",
       "      <td>Aladdin</td>\n",
       "      <td>ANT</td>\n",
       "      <td>NaN</td>\n",
       "      <td>guards</td>\n",
       "      <td>NON-P</td>\n",
       "      <td>NaN</td>\n",
       "      <td>rip him open, take it back guys!</td>\n",
       "      <td>43</td>\n",
       "      <td>1992</td>\n",
       "    </tr>\n",
       "    <tr>\n",
       "      <th>2623</th>\n",
       "      <td>MID</td>\n",
       "      <td>m</td>\n",
       "      <td>Aladdin</td>\n",
       "      <td>ANT</td>\n",
       "      <td>NaN</td>\n",
       "      <td>proprietor</td>\n",
       "      <td>NON-P</td>\n",
       "      <td>NaN</td>\n",
       "      <td>try this, your taste buds will dance and sing.</td>\n",
       "      <td>130</td>\n",
       "      <td>1992</td>\n",
       "    </tr>\n",
       "    <tr>\n",
       "      <th>3122</th>\n",
       "      <td>MID</td>\n",
       "      <td>m</td>\n",
       "      <td>Aladdin</td>\n",
       "      <td>N</td>\n",
       "      <td>NaN</td>\n",
       "      <td>sultan</td>\n",
       "      <td>NON-P</td>\n",
       "      <td>NaN</td>\n",
       "      <td>you will wed jafar.</td>\n",
       "      <td>629</td>\n",
       "      <td>1992</td>\n",
       "    </tr>\n",
       "    <tr>\n",
       "      <th>3186</th>\n",
       "      <td>MID</td>\n",
       "      <td>m</td>\n",
       "      <td>Aladdin</td>\n",
       "      <td>ANT</td>\n",
       "      <td>NaN</td>\n",
       "      <td>iago</td>\n",
       "      <td>NON-P</td>\n",
       "      <td>NaN</td>\n",
       "      <td>ah, jafaryou're too kind. i'm embarrassed, i'm...</td>\n",
       "      <td>693</td>\n",
       "      <td>1992</td>\n",
       "    </tr>\n",
       "  </tbody>\n",
       "</table>\n",
       "</div>"
      ],
      "text/plain": [
       "     Disney_Period Gender    Movie Role Song     Speaker Speaker_Status  \\\n",
       "2973           MID      m  Aladdin    N  NaN      sultan          NON-P   \n",
       "2536           MID      m  Aladdin  ANT  NaN      guards          NON-P   \n",
       "2623           MID      m  Aladdin  ANT  NaN  proprietor          NON-P   \n",
       "3122           MID      m  Aladdin    N  NaN      sultan          NON-P   \n",
       "3186           MID      m  Aladdin  ANT  NaN        iago          NON-P   \n",
       "\n",
       "     Start_Scene                                               Text  \\\n",
       "2973         NaN  oh, button up, jafar. learn to have a little f...   \n",
       "2536         NaN                  rip him open, take it back guys!    \n",
       "2623         NaN    try this, your taste buds will dance and sing.    \n",
       "3122         NaN                               you will wed jafar.    \n",
       "3186         NaN  ah, jafaryou're too kind. i'm embarrassed, i'm...   \n",
       "\n",
       "      UTTERANCE_NUMBER  Year  \n",
       "2973               480  1992  \n",
       "2536                43  1992  \n",
       "2623               130  1992  \n",
       "3122               629  1992  \n",
       "3186               693  1992  "
      ]
     },
     "execution_count": 420,
     "metadata": {},
     "output_type": "execute_result"
    }
   ],
   "source": [
    "al.sample(5)"
   ]
  },
  {
   "cell_type": "markdown",
   "metadata": {},
   "source": [
    "### 3) Songs\n",
    "Songs in this movie include: Arabian Nights, One Jump Ahead (+reprise), Friend Like Me, Prince Ali (+Reprise), A Whole New World"
   ]
  },
  {
   "cell_type": "code",
   "execution_count": 423,
   "metadata": {},
   "outputs": [],
   "source": [
    "al.reset_index(drop=True, inplace=True)"
   ]
  },
  {
   "cell_type": "code",
   "execution_count": 425,
   "metadata": {},
   "outputs": [
    {
     "name": "stdout",
     "output_type": "stream",
     "text": [
      "arabian\n",
      "   Speaker                                               Text\n",
      "0  peddler  oh i come from a land from a faraway place whe...\n",
      "\n",
      "\n",
      "one jump\n",
      "    Speaker                                               Text\n",
      "38  aladdin  come on, let's get outta here! gotta keep...on...\n",
      "39  aladdin  one jump ahead of the lawmen that's all, and t...\n",
      "48  aladdin  one jump ahead of the slowpokes one skip ahead...\n",
      "56  aladdin                  one jump ahead of the hoofbeats! \n",
      "\n",
      "\n",
      "riff\n",
      "    Speaker                                               Text\n",
      "40   guards       riffraff! street rat! scoundrel! take that! \n",
      "77  aladdin  riffraff, street rat. i don't buy that. if onl...\n",
      "\n",
      "\n",
      "friend like\n",
      "    Speaker                                               Text\n",
      "348   genie  mister aladdin sir what will your pleasure be?...\n",
      "349   genie  life is your restaurant and i'm your maitre' d...\n",
      "\n",
      "\n",
      "make way\n",
      "      Speaker                                               Text\n",
      "450  marchers                          make way for prince ali! \n",
      "452     major  hey, clear the way in the old bazaar, hey you,...\n",
      "467     genie  prince ali! amorous he! ali ababwa heard your ...\n",
      "\n",
      "\n",
      "whole new world\n",
      "          Speaker                                               Text\n",
      "571       aladdin  a whole new world! a new fantastic point of vi...\n",
      "572       jasmine  a whole new world a dazzling place i never kne...\n",
      "573       aladdin            now i'm in a whole new world with you! \n",
      "575       jasmine                                a whole new world! \n",
      "580       aladdin                                a whole new world! \n",
      "584          both  i'll chase them anywhere there's time to spare...\n",
      "837       aladdin                                 a whole new world \n",
      "840  men's chorus                                a whole new world! \n",
      "\n",
      "\n",
      "precious\n",
      "    Speaker                                               Text\n",
      "730   jafar  yes, meet a blast from your past whose lies we...\n",
      "\n",
      "\n"
     ]
    }
   ],
   "source": [
    "al_song_words = ['arabian', 'one jump', 'riff', 'friend like', 'make way', 'whole new world', 'precious']\n",
    "for line in al_song_words:\n",
    "    print(line)\n",
    "    print(al[[\"Speaker\", \"Text\"]][al.Text.str.contains(line, regex = False)])\n",
    "    print('\\n')"
   ]
  },
  {
   "cell_type": "code",
   "execution_count": 426,
   "metadata": {},
   "outputs": [
    {
     "name": "stdout",
     "output_type": "stream",
     "text": [
      "oh i come from a land from a faraway place where the caravan camels roam where they cut off your ear /where it's flat and immense if they don't like your face /and the heat is intense it's barbaric, but heyit's home! when the wind's at your back and the sun's from the west and the sand in the glass is right come on down, stop on by hop a carpet and fly to another arabian night! arabian nights like arabian days more often than not are hotter than hot in a lot of good ways arabian nights 'neath arabian moons a fool off his guard could fall and fall hard out there on the dunes. ah, salaam and good evening to you worthy friend. please, please, come closer\n",
      "\n",
      "\n",
      "you...are late. \n",
      "\n",
      "\n",
      "a thousand apologies, o patient one. \n",
      "\n",
      "\n",
      "you have it, then? \n",
      "\n",
      "\n",
      "i had to slit a few throats to get it. \n",
      "\n",
      "\n"
     ]
    }
   ],
   "source": [
    "#Arabian Nights\n",
    "for line in al.Text.iloc[:5]:\n",
    "    print(line)\n",
    "    print('\\n')"
   ]
  },
  {
   "cell_type": "code",
   "execution_count": 427,
   "metadata": {},
   "outputs": [],
   "source": [
    "al_songs = [0]"
   ]
  },
  {
   "cell_type": "code",
   "execution_count": 428,
   "metadata": {},
   "outputs": [
    {
     "name": "stdout",
     "output_type": "stream",
     "text": [
      "hello! \n",
      "\n",
      "\n",
      "come on, let's get outta here! gotta keep...one jump ahead of the breadline one swing ahead of the sword i steal only what i can't afford that's everything! \n",
      "\n",
      "\n",
      "one jump ahead of the lawmen that's all, and that's no joke these guys don't appreciate i'm broke! \n",
      "\n",
      "\n",
      "riffraff! street rat! scoundrel! take that! \n",
      "\n",
      "\n",
      "just a little snack, guys! \n",
      "\n",
      "\n",
      "rip him open, take it back guys! \n",
      "\n",
      "\n",
      "i can take a hint, gotta face the facts you're my only friend, abu! \n",
      "\n",
      "\n",
      "who?!? \n",
      "\n",
      "\n",
      "oh, it's sad aladdin's hit the bottom he's become a oneman rise in crime \n",
      "\n",
      "\n",
      "i'd blame parents, except he hasn't got 'em! \n",
      "\n",
      "\n",
      "gotta eat to live, gotta steal to eat tell you all about it when i got the time! \n",
      "\n",
      "\n",
      "one jump ahead of the slowpokes one skip ahead of my doom next time gonna use a nom de plume. one jump ahead of the hitmen one hit ahead of the flock i think i'll take a stroll around the block. \n",
      "\n",
      "\n",
      "stop, thief! vandal! outrage! scandal! \n",
      "\n",
      "\n",
      "let's not be too hasty \n",
      "\n",
      "\n",
      "still i think he's rather tasty \n",
      "\n",
      "\n",
      "gotta eat to live, gotta steal to eat otherwise we'd get along! \n",
      "\n",
      "\n",
      "wrong! \n",
      "\n",
      "\n",
      "he's got a sword! \n",
      "\n",
      "\n"
     ]
    }
   ],
   "source": [
    "#One Jump Ahead\n",
    "#37 - 54\n",
    "for line in al.Text.iloc[37:55]:\n",
    "    print(line)\n",
    "    print('\\n')"
   ]
  },
  {
   "cell_type": "code",
   "execution_count": 433,
   "metadata": {},
   "outputs": [],
   "source": [
    "al_songs.extend(list(range(37,55)))"
   ]
  },
  {
   "cell_type": "code",
   "execution_count": 436,
   "metadata": {},
   "outputs": [
    {
     "name": "stdout",
     "output_type": "stream",
     "text": [
      "he's got a sword! \n",
      "\n",
      "\n",
      "you idiotwe've all got swords!! \n",
      "\n",
      "\n",
      "one jump ahead of the hoofbeats! \n",
      "\n",
      "\n",
      "vandal! \n",
      "\n",
      "\n",
      "one hop ahead of the hump! \n",
      "\n",
      "\n",
      "street rat! \n",
      "\n",
      "\n",
      "one trick ahead of disaster \n",
      "\n",
      "\n",
      "scoundrel! \n",
      "\n",
      "\n",
      "they're quickbut i'm much faster \n",
      "\n",
      "\n",
      "take that! \n",
      "\n",
      "\n",
      "here goes, better throw my hand in wish me happy landin' all i gotta do is jump! \n",
      "\n",
      "\n",
      "and now, esteemed effendi, we feast! all right! \n",
      "\n",
      "\n"
     ]
    }
   ],
   "source": [
    "#56-64\n",
    "for line in al.Text.iloc[54:66]:\n",
    "    print(line)\n",
    "    print('\\n')"
   ]
  },
  {
   "cell_type": "code",
   "execution_count": 439,
   "metadata": {},
   "outputs": [],
   "source": [
    "al_songs.extend(list(range(56,65)))"
   ]
  },
  {
   "cell_type": "code",
   "execution_count": 441,
   "metadata": {},
   "outputs": [
    {
     "name": "stdout",
     "output_type": "stream",
     "text": [
      "i'm not worthless. and i don't have fleas. come on, abu. let's go home. \n",
      "\n",
      "\n",
      "riffraff, street rat. i don't buy that. if only they'd look closer would they see a poor boy? no siree. they'd find out, there's so much more to me. \n",
      "\n",
      "\n",
      "someday, abu, things are gonna change. we'll be rich, live in a palace, and never have any problems at all. \n",
      "\n",
      "\n",
      "i've never been so insulted! \n",
      "\n",
      "\n"
     ]
    }
   ],
   "source": [
    "#One Jump Ahead Reprise\n",
    "#77\n",
    "for line in al.Text.iloc[76:80]:\n",
    "    print(line)\n",
    "    print('\\n')"
   ]
  },
  {
   "cell_type": "code",
   "execution_count": 442,
   "metadata": {},
   "outputs": [],
   "source": [
    "al_songs.append(77)"
   ]
  },
  {
   "cell_type": "code",
   "execution_count": 443,
   "metadata": {},
   "outputs": [
    {
     "name": "stdout",
     "output_type": "stream",
     "text": [
      "master, i don't think you quite realize what you've got here! so why don't you just ruminate, whilst i illuminate the possibilities. \n",
      "\n",
      "\n",
      "well ali baba had them forty thieves scheherazadie had a thousand tales but master you in luck 'cause up your sleeve you got a brand of magic never fails! \n",
      "\n",
      "\n",
      "you got some power in your corner now some heavy ammunition in your camp you got some punch, pizzazz, yahoo and how see all you gotta do is rub that lamp and i'll say \n",
      "\n",
      "\n",
      "mister aladdin sir what will your pleasure be? let me take your order, jot it down you ain't never had a friend like me no no no! \n",
      "\n",
      "\n",
      "life is your restaurant and i'm your maitre' d! c'mon whisper what it is you want you ain't never had a friend like me. \n",
      "\n",
      "\n",
      "yes sir, we pride ourselves on service you're the boss, the king, the shah! say what you wish, it's yours! true dish how about a little more baklava? \n",
      "\n",
      "\n",
      "so what'll it be, master? \n",
      "\n",
      "\n",
      "you're gonna grant me any three wishes i want? \n",
      "\n",
      "\n",
      "ah, almost. there are a few provisos, a couple of quid pro quos \n",
      "\n",
      "\n",
      "like? \n",
      "\n",
      "\n",
      "ah, rule number one i can't kill anybody. \n",
      "\n",
      "\n",
      "so don't ask. rule two, i can't make anyone fall in love with anyone else. \n",
      "\n",
      "\n",
      "you little punim, there. \n",
      "\n",
      "\n",
      "rule three, i can't bring people back from the dead. it's not a pretty picture, \n",
      "\n",
      "\n",
      "ah, provisos? you mean limitations? on wishes? \n",
      "\n",
      "\n"
     ]
    }
   ],
   "source": [
    "#Friend Like Me\n",
    "#346-349\n",
    "for line in al.Text.iloc[345:360]:\n",
    "    print(line)\n",
    "    print('\\n')"
   ]
  },
  {
   "cell_type": "code",
   "execution_count": 444,
   "metadata": {},
   "outputs": [],
   "source": [
    "al_songs.extend([346, 347, 348, 349])"
   ]
  },
  {
   "cell_type": "code",
   "execution_count": 445,
   "metadata": {},
   "outputs": [
    {
     "name": "stdout",
     "output_type": "stream",
     "text": [
      "what? what is that? that music! ha ha ha. jafar., you must come and see this! \n",
      "\n",
      "\n",
      "make way for prince ali! \n",
      "\n",
      "\n",
      "say hey! it's prince ali! \n",
      "\n",
      "\n",
      "hey, clear the way in the old bazaar, hey you, let us through, it's a bright new star, now come, be the first on your block to meet his eye! make way, here he comes, ring bells, bang the drums. you're gonna love this guy \n",
      "\n",
      "\n",
      "prince ali, fabulous he, ali ababwa! genuflect, show some respect down on one knee \n",
      "\n",
      "\n",
      "on his back. now try your best to stay calm brush up your sunday salaam and come and meet his spectacular coterie. \n",
      "\n",
      "\n",
      "prince ali, mighty is he, ali ababwa! strong as ten regular men, definitely he faced the galloping hordes a hundred bad guys with swords who sent those goons to their lords, why prince ali! \n",
      "\n",
      "\n",
      "brand lightning bolt zaps the pile and he ends up holding them all up in an acrobatic wheel formation. the genie turns into an old man, then a child and speaks the last two lines to the crowd.\n",
      "\n",
      "\n",
      "he's got seventyfive golden camels! \n",
      "\n",
      "\n",
      "don't they look lovely, june? \n",
      "\n",
      "\n",
      "purple peacocks, he's got fiftythree! \n",
      "\n",
      "\n",
      "fabulous, harry, i love the feathers! \n",
      "\n",
      "\n",
      "when it comes to exotic type mammals has he got a zoo, i'm telling you it's a world class menagerie! \n",
      "\n",
      "\n",
      "prince ali, handsome is he, ali ababwa there's no question this ali's alluring that physique, how can i speak never ordinary, never boring weak at the knee everything about the man just plain impresses well, get on out in that square he's a wonder, he's a whiz, a wonder adjust your veil and prepare he's about to pull my heart asunder to gawk and grovel and stare at prince ali! and i absolutely love the way he dresses! \n",
      "\n",
      "\n",
      "he's got ninetyfive white persian monkeys! \n",
      "\n",
      "\n",
      "and to view them, he charges no fee! \n",
      "\n",
      "\n",
      "he's got slaves, he's got servants and flunkies! \n",
      "\n",
      "\n",
      "they bow to his whim, love serving him they're just lousy with loyalty to ali! prince ali! \n",
      "\n",
      "\n",
      "prince ali! amorous he! ali ababwa heard your princess was a sight lovely to see! and that,good people, is why he got dolled up and dropped by with sixty elephants, llamas galore with his bears and lions a brass band and more with his forty fakirs, his cooks, his bakers his birds that warble on key make way for prince ali! \n",
      "\n",
      "\n",
      "splendid, absolutely marvelous. \n",
      "\n",
      "\n",
      "ahem. your majesty, i have journeyed from afar to seek your daughter's hand. \n",
      "\n",
      "\n"
     ]
    }
   ],
   "source": [
    "#Prince Ali\n",
    "#450-467\n",
    "for line in al.Text.iloc[449:470]:\n",
    "    print(line)\n",
    "    print('\\n')"
   ]
  },
  {
   "cell_type": "code",
   "execution_count": 447,
   "metadata": {},
   "outputs": [],
   "source": [
    "al_songs.extend(list(range(450,468)))"
   ]
  },
  {
   "cell_type": "code",
   "execution_count": 448,
   "metadata": {},
   "outputs": [
    {
     "data": {
      "text/plain": [
       "[0, 37, 38, 39, 40, 41, 42, 43, 44, 45, 46, 47, 48, 49, 50, 51, 52, 53, 54, 56, 57, 58, 59, 60, 61, 62, 63, 64, 77, 346, 347, 348, 349, 450, 451, 452, 453, 454, 455, 456, 457, 458, 459, 460, 461, 462, 463, 464, 465, 466, 467]"
      ]
     },
     "execution_count": 448,
     "metadata": {},
     "output_type": "execute_result"
    }
   ],
   "source": [
    "al_songs"
   ]
  },
  {
   "cell_type": "code",
   "execution_count": 453,
   "metadata": {},
   "outputs": [
    {
     "name": "stdout",
     "output_type": "stream",
     "text": [
      "yes. \n",
      "\n",
      "\n",
      "i can show you the world shining, shimmering, splendid. tell me princess, now when did you last let your heart decide? \n",
      "\n",
      "\n",
      "i can open your eyes take you wonder by wonder over, sideways, and under on a magic carpet ride \n",
      "\n",
      "\n",
      "a whole new world! a new fantastic point of view no one to tell us no or where to go or say we're only dreaming \n",
      "\n",
      "\n",
      "a whole new world a dazzling place i never knew but when i'm way up here it's crystal clear that now i'm in a whole new world with you! \n",
      "\n",
      "\n",
      "now i'm in a whole new world with you! \n",
      "\n",
      "\n",
      "unbelievable sights indescribable feeling soaring, tumbling, freewheeling through an endless diamond sky \n",
      "\n",
      "\n",
      "a whole new world! \n",
      "\n",
      "\n",
      "don't you dare close your eyes \n",
      "\n",
      "\n",
      "an hundred thousand things to see \n",
      "\n",
      "\n",
      "hold your breathit gets better! \n",
      "\n",
      "\n",
      "i'm like a shooting star, i've come so far i can't go back to where i used to be! \n",
      "\n",
      "\n",
      "a whole new world! \n",
      "\n",
      "\n",
      "every turn a surprise \n",
      "\n",
      "\n",
      "with new horizons to pursue \n",
      "\n",
      "\n",
      "every moment, redletter \n",
      "\n",
      "\n",
      "i'll chase them anywhere there's time to spare let me share this whole new world with you a whole new world that's where we'll be \n",
      "\n",
      "\n",
      "a thrilling chase \n",
      "\n",
      "\n",
      "a wondrous place \n",
      "\n",
      "\n",
      "for you and me! \n",
      "\n",
      "\n",
      "it's all so magical. \n",
      "\n",
      "\n"
     ]
    }
   ],
   "source": [
    "#A Whole New World\n",
    "#569-587\n",
    "for line in al.Text.iloc[568:589]:\n",
    "    print(line)\n",
    "    print('\\n')"
   ]
  },
  {
   "cell_type": "code",
   "execution_count": 454,
   "metadata": {},
   "outputs": [],
   "source": [
    "al_songs.extend(list(range(569-588)))"
   ]
  },
  {
   "cell_type": "code",
   "execution_count": 456,
   "metadata": {},
   "outputs": [
    {
     "name": "stdout",
     "output_type": "stream",
     "text": [
      "genie, my second wishi wish to be the most powerful sorcerer in the world! \n",
      "\n",
      "\n",
      "ladies and gentlemen, a warm agrabah welcome for sorcerer jafar! \n",
      "\n",
      "\n",
      "now where were we? ah, yesabject humiliation! \n",
      "\n",
      "\n",
      "jafar! get your hands off her! \n",
      "\n",
      "\n",
      "prince ali yes, it is he, but not as you know him. read my lips and come to grips with reality \n",
      "\n",
      "\n",
      "yes, meet a blast from your past whose lies were too good to last say hello to your precious prince ali! \n",
      "\n",
      "\n",
      "or should we say aladdin? \n",
      "\n",
      "\n",
      "jasmine, i tried to tell you. \n",
      "\n",
      "\n",
      "so ali turns out to be merely aladdin just a con, need i go on? take it from me his personality flaws give me adequate cause to send him packing on a oneway trip so his prospects take a terminal dip his assets frozen, the venue chosen is the ends of the earth, whoopee! so long, \n",
      "\n",
      "\n",
      "good bye, see ya! \n",
      "\n",
      "\n",
      "exprince ali! \n",
      "\n",
      "\n",
      "abu? abu! \n",
      "\n",
      "\n",
      "oh, this is all my faulti should have freed the genie when i had the chance. \n",
      "\n",
      "\n"
     ]
    }
   ],
   "source": [
    "#Prince Ali reprise\n",
    "#729, 730, 733, 735\n",
    "for line in al.Text.iloc[725:738]:\n",
    "    print(line)\n",
    "    print('\\n')"
   ]
  },
  {
   "cell_type": "code",
   "execution_count": 457,
   "metadata": {},
   "outputs": [],
   "source": [
    "al_songs.extend([729, 730, 733, 735])"
   ]
  },
  {
   "cell_type": "code",
   "execution_count": 458,
   "metadata": {},
   "outputs": [
    {
     "data": {
      "text/html": [
       "<div>\n",
       "<style scoped>\n",
       "    .dataframe tbody tr th:only-of-type {\n",
       "        vertical-align: middle;\n",
       "    }\n",
       "\n",
       "    .dataframe tbody tr th {\n",
       "        vertical-align: top;\n",
       "    }\n",
       "\n",
       "    .dataframe thead th {\n",
       "        text-align: right;\n",
       "    }\n",
       "</style>\n",
       "<table border=\"1\" class=\"dataframe\">\n",
       "  <thead>\n",
       "    <tr style=\"text-align: right;\">\n",
       "      <th></th>\n",
       "      <th>Speaker</th>\n",
       "      <th>Text</th>\n",
       "    </tr>\n",
       "  </thead>\n",
       "  <tbody>\n",
       "    <tr>\n",
       "      <th>457</th>\n",
       "      <td>chorus of men</td>\n",
       "      <td>he's got seventyfive golden camels!</td>\n",
       "    </tr>\n",
       "  </tbody>\n",
       "</table>\n",
       "</div>"
      ],
      "text/plain": [
       "           Speaker                                  Text\n",
       "457  chorus of men  he's got seventyfive golden camels! "
      ]
     },
     "execution_count": 458,
     "metadata": {},
     "output_type": "execute_result"
    }
   ],
   "source": [
    "#Finally, looking at chorus stuff\n",
    "al[[\"Speaker\", \"Text\"]][al.Speaker == 'chorus of men'] #in list already"
   ]
  },
  {
   "cell_type": "code",
   "execution_count": 459,
   "metadata": {},
   "outputs": [
    {
     "data": {
      "text/html": [
       "<div>\n",
       "<style scoped>\n",
       "    .dataframe tbody tr th:only-of-type {\n",
       "        vertical-align: middle;\n",
       "    }\n",
       "\n",
       "    .dataframe tbody tr th {\n",
       "        vertical-align: top;\n",
       "    }\n",
       "\n",
       "    .dataframe thead th {\n",
       "        text-align: right;\n",
       "    }\n",
       "</style>\n",
       "<table border=\"1\" class=\"dataframe\">\n",
       "  <thead>\n",
       "    <tr style=\"text-align: right;\">\n",
       "      <th></th>\n",
       "      <th>Speaker</th>\n",
       "      <th>Text</th>\n",
       "    </tr>\n",
       "  </thead>\n",
       "  <tbody>\n",
       "    <tr>\n",
       "      <th>459</th>\n",
       "      <td>chorus of women</td>\n",
       "      <td>purple peacocks, he's got fiftythree!</td>\n",
       "    </tr>\n",
       "  </tbody>\n",
       "</table>\n",
       "</div>"
      ],
      "text/plain": [
       "             Speaker                                    Text\n",
       "459  chorus of women  purple peacocks, he's got fiftythree! "
      ]
     },
     "execution_count": 459,
     "metadata": {},
     "output_type": "execute_result"
    }
   ],
   "source": [
    "al[[\"Speaker\", \"Text\"]][al.Speaker == 'chorus of women'] #in list already"
   ]
  },
  {
   "cell_type": "code",
   "execution_count": 460,
   "metadata": {},
   "outputs": [
    {
     "data": {
      "text/html": [
       "<div>\n",
       "<style scoped>\n",
       "    .dataframe tbody tr th:only-of-type {\n",
       "        vertical-align: middle;\n",
       "    }\n",
       "\n",
       "    .dataframe tbody tr th {\n",
       "        vertical-align: top;\n",
       "    }\n",
       "\n",
       "    .dataframe thead th {\n",
       "        text-align: right;\n",
       "    }\n",
       "</style>\n",
       "<table border=\"1\" class=\"dataframe\">\n",
       "  <thead>\n",
       "    <tr style=\"text-align: right;\">\n",
       "      <th></th>\n",
       "      <th>Speaker</th>\n",
       "      <th>Text</th>\n",
       "    </tr>\n",
       "  </thead>\n",
       "  <tbody>\n",
       "    <tr>\n",
       "      <th>463</th>\n",
       "      <td>chorus</td>\n",
       "      <td>he's got ninetyfive white persian monkeys!</td>\n",
       "    </tr>\n",
       "    <tr>\n",
       "      <th>464</th>\n",
       "      <td>chorus</td>\n",
       "      <td>and to view them, he charges no fee!</td>\n",
       "    </tr>\n",
       "    <tr>\n",
       "      <th>465</th>\n",
       "      <td>chorus</td>\n",
       "      <td>he's got slaves, he's got servants and flunkies!</td>\n",
       "    </tr>\n",
       "    <tr>\n",
       "      <th>466</th>\n",
       "      <td>chorus</td>\n",
       "      <td>they bow to his whim, love serving him they're...</td>\n",
       "    </tr>\n",
       "  </tbody>\n",
       "</table>\n",
       "</div>"
      ],
      "text/plain": [
       "    Speaker                                               Text\n",
       "463  chorus        he's got ninetyfive white persian monkeys! \n",
       "464  chorus              and to view them, he charges no fee! \n",
       "465  chorus  he's got slaves, he's got servants and flunkies! \n",
       "466  chorus  they bow to his whim, love serving him they're..."
      ]
     },
     "execution_count": 460,
     "metadata": {},
     "output_type": "execute_result"
    }
   ],
   "source": [
    "al[[\"Speaker\", \"Text\"]][al.Speaker == 'chorus'] #in list already"
   ]
  },
  {
   "cell_type": "code",
   "execution_count": 461,
   "metadata": {},
   "outputs": [
    {
     "data": {
      "text/html": [
       "<div>\n",
       "<style scoped>\n",
       "    .dataframe tbody tr th:only-of-type {\n",
       "        vertical-align: middle;\n",
       "    }\n",
       "\n",
       "    .dataframe tbody tr th {\n",
       "        vertical-align: top;\n",
       "    }\n",
       "\n",
       "    .dataframe thead th {\n",
       "        text-align: right;\n",
       "    }\n",
       "</style>\n",
       "<table border=\"1\" class=\"dataframe\">\n",
       "  <thead>\n",
       "    <tr style=\"text-align: right;\">\n",
       "      <th></th>\n",
       "      <th>Speaker</th>\n",
       "      <th>Text</th>\n",
       "    </tr>\n",
       "  </thead>\n",
       "  <tbody>\n",
       "    <tr>\n",
       "      <th>840</th>\n",
       "      <td>men's chorus</td>\n",
       "      <td>a whole new world!</td>\n",
       "    </tr>\n",
       "  </tbody>\n",
       "</table>\n",
       "</div>"
      ],
      "text/plain": [
       "          Speaker                 Text\n",
       "840  men's chorus  a whole new world! "
      ]
     },
     "execution_count": 461,
     "metadata": {},
     "output_type": "execute_result"
    }
   ],
   "source": [
    "al[[\"Speaker\", \"Text\"]][al.Speaker == \"men's chorus\"]"
   ]
  },
  {
   "cell_type": "code",
   "execution_count": 463,
   "metadata": {},
   "outputs": [],
   "source": [
    "al_songs.append(840)"
   ]
  },
  {
   "cell_type": "code",
   "execution_count": 464,
   "metadata": {},
   "outputs": [
    {
     "name": "stderr",
     "output_type": "stream",
     "text": [
      "c:\\users\\cassi\\appdata\\local\\programs\\python\\python36-32\\lib\\site-packages\\ipykernel_launcher.py:2: SettingWithCopyWarning: \n",
      "A value is trying to be set on a copy of a slice from a DataFrame.\n",
      "Try using .loc[row_indexer,col_indexer] = value instead\n",
      "\n",
      "See the caveats in the documentation: http://pandas.pydata.org/pandas-docs/stable/indexing.html#indexing-view-versus-copy\n",
      "  \n"
     ]
    }
   ],
   "source": [
    "song_func = partial(is_dialogue, song=al_songs)\n",
    "al[\"Song\"] = al.index.map(song_func)"
   ]
  },
  {
   "cell_type": "code",
   "execution_count": 465,
   "metadata": {},
   "outputs": [
    {
     "data": {
      "text/html": [
       "<div>\n",
       "<style scoped>\n",
       "    .dataframe tbody tr th:only-of-type {\n",
       "        vertical-align: middle;\n",
       "    }\n",
       "\n",
       "    .dataframe tbody tr th {\n",
       "        vertical-align: top;\n",
       "    }\n",
       "\n",
       "    .dataframe thead th {\n",
       "        text-align: right;\n",
       "    }\n",
       "</style>\n",
       "<table border=\"1\" class=\"dataframe\">\n",
       "  <thead>\n",
       "    <tr style=\"text-align: right;\">\n",
       "      <th></th>\n",
       "      <th>Disney_Period</th>\n",
       "      <th>Gender</th>\n",
       "      <th>Movie</th>\n",
       "      <th>Role</th>\n",
       "      <th>Song</th>\n",
       "      <th>Speaker</th>\n",
       "      <th>Speaker_Status</th>\n",
       "      <th>Start_Scene</th>\n",
       "      <th>Text</th>\n",
       "      <th>UTTERANCE_NUMBER</th>\n",
       "      <th>Year</th>\n",
       "    </tr>\n",
       "  </thead>\n",
       "  <tbody>\n",
       "    <tr>\n",
       "      <th>0</th>\n",
       "      <td>MID</td>\n",
       "      <td>m</td>\n",
       "      <td>Aladdin</td>\n",
       "      <td>N</td>\n",
       "      <td>S</td>\n",
       "      <td>peddler</td>\n",
       "      <td>NON-P</td>\n",
       "      <td>NaN</td>\n",
       "      <td>oh i come from a land from a faraway place whe...</td>\n",
       "      <td>1</td>\n",
       "      <td>1992</td>\n",
       "    </tr>\n",
       "    <tr>\n",
       "      <th>1</th>\n",
       "      <td>MID</td>\n",
       "      <td>m</td>\n",
       "      <td>Aladdin</td>\n",
       "      <td>ANT</td>\n",
       "      <td>D</td>\n",
       "      <td>jafar</td>\n",
       "      <td>NON-P</td>\n",
       "      <td>NaN</td>\n",
       "      <td>you...are late.</td>\n",
       "      <td>2</td>\n",
       "      <td>1992</td>\n",
       "    </tr>\n",
       "    <tr>\n",
       "      <th>2</th>\n",
       "      <td>MID</td>\n",
       "      <td>m</td>\n",
       "      <td>Aladdin</td>\n",
       "      <td>N</td>\n",
       "      <td>D</td>\n",
       "      <td>gazeem</td>\n",
       "      <td>NON-P</td>\n",
       "      <td>NaN</td>\n",
       "      <td>a thousand apologies, o patient one.</td>\n",
       "      <td>3</td>\n",
       "      <td>1992</td>\n",
       "    </tr>\n",
       "    <tr>\n",
       "      <th>3</th>\n",
       "      <td>MID</td>\n",
       "      <td>m</td>\n",
       "      <td>Aladdin</td>\n",
       "      <td>ANT</td>\n",
       "      <td>D</td>\n",
       "      <td>jafar</td>\n",
       "      <td>NON-P</td>\n",
       "      <td>NaN</td>\n",
       "      <td>you have it, then?</td>\n",
       "      <td>4</td>\n",
       "      <td>1992</td>\n",
       "    </tr>\n",
       "    <tr>\n",
       "      <th>4</th>\n",
       "      <td>MID</td>\n",
       "      <td>m</td>\n",
       "      <td>Aladdin</td>\n",
       "      <td>N</td>\n",
       "      <td>D</td>\n",
       "      <td>gazeem</td>\n",
       "      <td>NON-P</td>\n",
       "      <td>NaN</td>\n",
       "      <td>i had to slit a few throats to get it.</td>\n",
       "      <td>5</td>\n",
       "      <td>1992</td>\n",
       "    </tr>\n",
       "  </tbody>\n",
       "</table>\n",
       "</div>"
      ],
      "text/plain": [
       "  Disney_Period Gender    Movie Role Song  Speaker Speaker_Status Start_Scene  \\\n",
       "0           MID      m  Aladdin    N    S  peddler          NON-P         NaN   \n",
       "1           MID      m  Aladdin  ANT    D    jafar          NON-P         NaN   \n",
       "2           MID      m  Aladdin    N    D   gazeem          NON-P         NaN   \n",
       "3           MID      m  Aladdin  ANT    D    jafar          NON-P         NaN   \n",
       "4           MID      m  Aladdin    N    D   gazeem          NON-P         NaN   \n",
       "\n",
       "                                                Text  UTTERANCE_NUMBER  Year  \n",
       "0  oh i come from a land from a faraway place whe...                 1  1992  \n",
       "1                                   you...are late.                  2  1992  \n",
       "2              a thousand apologies, o patient one.                  3  1992  \n",
       "3                                you have it, then?                  4  1992  \n",
       "4            i had to slit a few throats to get it.                  5  1992  "
      ]
     },
     "execution_count": 465,
     "metadata": {},
     "output_type": "execute_result"
    }
   ],
   "source": [
    "al.head()"
   ]
  },
  {
   "cell_type": "code",
   "execution_count": 467,
   "metadata": {},
   "outputs": [
    {
     "name": "stdout",
     "output_type": "stream",
     "text": [
      "<class 'pandas.core.frame.DataFrame'>\n",
      "RangeIndex: 842 entries, 0 to 841\n",
      "Data columns (total 11 columns):\n",
      "Disney_Period       842 non-null object\n",
      "Gender              842 non-null object\n",
      "Movie               842 non-null object\n",
      "Role                842 non-null object\n",
      "Song                842 non-null object\n",
      "Speaker             842 non-null object\n",
      "Speaker_Status      842 non-null object\n",
      "Start_Scene         0 non-null object\n",
      "Text                842 non-null object\n",
      "UTTERANCE_NUMBER    842 non-null int64\n",
      "Year                842 non-null int64\n",
      "dtypes: int64(2), object(9)\n",
      "memory usage: 42.8+ KB\n"
     ]
    }
   ],
   "source": [
    "al.info()"
   ]
  },
  {
   "cell_type": "markdown",
   "metadata": {},
   "source": [
    "## Beauty and the Beast"
   ]
  },
  {
   "cell_type": "code",
   "execution_count": 466,
   "metadata": {},
   "outputs": [],
   "source": [
    "b_b = disney[disney.Movie == \"Beauty and the Beast\"]"
   ]
  },
  {
   "cell_type": "code",
   "execution_count": 468,
   "metadata": {},
   "outputs": [
    {
     "name": "stdout",
     "output_type": "stream",
     "text": [
      "<class 'pandas.core.frame.DataFrame'>\n",
      "Int64Index: 772 entries, 1722 to 2493\n",
      "Data columns (total 11 columns):\n",
      "Disney_Period       772 non-null object\n",
      "Gender              0 non-null object\n",
      "Movie               772 non-null object\n",
      "Role                0 non-null object\n",
      "Song                0 non-null object\n",
      "Speaker             772 non-null object\n",
      "Speaker_Status      772 non-null object\n",
      "Start_Scene         0 non-null object\n",
      "Text                772 non-null object\n",
      "UTTERANCE_NUMBER    772 non-null int64\n",
      "Year                772 non-null int64\n",
      "dtypes: int64(2), object(9)\n",
      "memory usage: 45.2+ KB\n"
     ]
    }
   ],
   "source": [
    "b_b.info()"
   ]
  },
  {
   "cell_type": "code",
   "execution_count": 469,
   "metadata": {},
   "outputs": [
    {
     "data": {
      "text/html": [
       "<div>\n",
       "<style scoped>\n",
       "    .dataframe tbody tr th:only-of-type {\n",
       "        vertical-align: middle;\n",
       "    }\n",
       "\n",
       "    .dataframe tbody tr th {\n",
       "        vertical-align: top;\n",
       "    }\n",
       "\n",
       "    .dataframe thead th {\n",
       "        text-align: right;\n",
       "    }\n",
       "</style>\n",
       "<table border=\"1\" class=\"dataframe\">\n",
       "  <thead>\n",
       "    <tr style=\"text-align: right;\">\n",
       "      <th></th>\n",
       "      <th>Disney_Period</th>\n",
       "      <th>Gender</th>\n",
       "      <th>Movie</th>\n",
       "      <th>Role</th>\n",
       "      <th>Song</th>\n",
       "      <th>Speaker</th>\n",
       "      <th>Speaker_Status</th>\n",
       "      <th>Start_Scene</th>\n",
       "      <th>Text</th>\n",
       "      <th>UTTERANCE_NUMBER</th>\n",
       "      <th>Year</th>\n",
       "    </tr>\n",
       "  </thead>\n",
       "  <tbody>\n",
       "    <tr>\n",
       "      <th>1722</th>\n",
       "      <td>MID</td>\n",
       "      <td>NaN</td>\n",
       "      <td>Beauty and the Beast</td>\n",
       "      <td>NaN</td>\n",
       "      <td>NaN</td>\n",
       "      <td>narrator</td>\n",
       "      <td>NON-P</td>\n",
       "      <td>NaN</td>\n",
       "      <td>once upon a time, in a faraway land, a prince ...</td>\n",
       "      <td>1</td>\n",
       "      <td>1991</td>\n",
       "    </tr>\n",
       "    <tr>\n",
       "      <th>1723</th>\n",
       "      <td>MID</td>\n",
       "      <td>NaN</td>\n",
       "      <td>Beauty and the Beast</td>\n",
       "      <td>NaN</td>\n",
       "      <td>NaN</td>\n",
       "      <td>belle</td>\n",
       "      <td>PRINCESS</td>\n",
       "      <td>NaN</td>\n",
       "      <td>little town, it's a quiet village every day, l...</td>\n",
       "      <td>2</td>\n",
       "      <td>1991</td>\n",
       "    </tr>\n",
       "    <tr>\n",
       "      <th>1724</th>\n",
       "      <td>MID</td>\n",
       "      <td>NaN</td>\n",
       "      <td>Beauty and the Beast</td>\n",
       "      <td>NaN</td>\n",
       "      <td>NaN</td>\n",
       "      <td>townsfolk 1</td>\n",
       "      <td>NON-P</td>\n",
       "      <td>NaN</td>\n",
       "      <td>bonjour!</td>\n",
       "      <td>3</td>\n",
       "      <td>1991</td>\n",
       "    </tr>\n",
       "    <tr>\n",
       "      <th>1725</th>\n",
       "      <td>MID</td>\n",
       "      <td>NaN</td>\n",
       "      <td>Beauty and the Beast</td>\n",
       "      <td>NaN</td>\n",
       "      <td>NaN</td>\n",
       "      <td>townsfolk 2</td>\n",
       "      <td>NON-P</td>\n",
       "      <td>NaN</td>\n",
       "      <td>bonjour!</td>\n",
       "      <td>4</td>\n",
       "      <td>1991</td>\n",
       "    </tr>\n",
       "    <tr>\n",
       "      <th>1726</th>\n",
       "      <td>MID</td>\n",
       "      <td>NaN</td>\n",
       "      <td>Beauty and the Beast</td>\n",
       "      <td>NaN</td>\n",
       "      <td>NaN</td>\n",
       "      <td>townsfolk 3</td>\n",
       "      <td>NON-P</td>\n",
       "      <td>NaN</td>\n",
       "      <td>bonjour!</td>\n",
       "      <td>5</td>\n",
       "      <td>1991</td>\n",
       "    </tr>\n",
       "  </tbody>\n",
       "</table>\n",
       "</div>"
      ],
      "text/plain": [
       "     Disney_Period Gender                 Movie Role Song      Speaker  \\\n",
       "1722           MID    NaN  Beauty and the Beast  NaN  NaN     narrator   \n",
       "1723           MID    NaN  Beauty and the Beast  NaN  NaN        belle   \n",
       "1724           MID    NaN  Beauty and the Beast  NaN  NaN  townsfolk 1   \n",
       "1725           MID    NaN  Beauty and the Beast  NaN  NaN  townsfolk 2   \n",
       "1726           MID    NaN  Beauty and the Beast  NaN  NaN  townsfolk 3   \n",
       "\n",
       "     Speaker_Status Start_Scene  \\\n",
       "1722          NON-P         NaN   \n",
       "1723       PRINCESS         NaN   \n",
       "1724          NON-P         NaN   \n",
       "1725          NON-P         NaN   \n",
       "1726          NON-P         NaN   \n",
       "\n",
       "                                                   Text  UTTERANCE_NUMBER  \\\n",
       "1722  once upon a time, in a faraway land, a prince ...                 1   \n",
       "1723  little town, it's a quiet village every day, l...                 2   \n",
       "1724                                          bonjour!                  3   \n",
       "1725                                          bonjour!                  4   \n",
       "1726                                          bonjour!                  5   \n",
       "\n",
       "      Year  \n",
       "1722  1991  \n",
       "1723  1991  \n",
       "1724  1991  \n",
       "1725  1991  \n",
       "1726  1991  "
      ]
     },
     "execution_count": 469,
     "metadata": {},
     "output_type": "execute_result"
    }
   ],
   "source": [
    "b_b.head()"
   ]
  },
  {
   "cell_type": "markdown",
   "metadata": {},
   "source": [
    "### 1) Gender"
   ]
  },
  {
   "cell_type": "code",
   "execution_count": 475,
   "metadata": {},
   "outputs": [],
   "source": [
    "b_b.reset_index(drop=True, inplace = True)"
   ]
  },
  {
   "cell_type": "code",
   "execution_count": 476,
   "metadata": {},
   "outputs": [
    {
     "data": {
      "text/plain": [
       "array(['narrator', 'belle', 'townsfolk 1', 'townsfolk 2', 'townsfolk 3',\n",
       "       'townsfolk 4', 'townsfolk 5', 'baker', 'townsfolk', 'woman 1',\n",
       "       'barber', 'driver', 'woman 2', 'woman 3', 'merchant', 'woman 4',\n",
       "       'man 1', 'bookseller', 'men', 'women', 'woman 5', 'all', 'lefou',\n",
       "       'gaston', 'bimbettes', 'man 2', 'man 3', 'man 4', 'man 5', 'man 6',\n",
       "       'group 1', 'group 2', 'bimbette 1', 'bimbette 2', 'bimbette 3',\n",
       "       'maurice', 'lumiere', 'cogsworth', 'mrs. potts', 'chip', 'beast',\n",
       "       'lefou, ', 'pierre', 'featherduster', 'old cronies', 'wrestler',\n",
       "       'old man', 'crony 1', 'crony 2', 'crony 3', 'both', 'wardrobe',\n",
       "       'stove', 'mugs', 'lumiere ', \"d'arque\", 'bystanders', 'mob',\n",
       "       'objects', 'prince', 'chorus'], dtype=object)"
      ]
     },
     "execution_count": 476,
     "metadata": {},
     "output_type": "execute_result"
    }
   ],
   "source": [
    "b_b.Speaker.unique()"
   ]
  },
  {
   "cell_type": "code",
   "execution_count": 477,
   "metadata": {},
   "outputs": [
    {
     "data": {
      "text/plain": [
       "61"
      ]
     },
     "execution_count": 477,
     "metadata": {},
     "output_type": "execute_result"
    }
   ],
   "source": [
    "len(b_b.Speaker.unique())"
   ]
  },
  {
   "cell_type": "code",
   "execution_count": 478,
   "metadata": {},
   "outputs": [
    {
     "name": "stdout",
     "output_type": "stream",
     "text": [
      "207    lefou, \n",
      "Name: Speaker, dtype: object\n"
     ]
    }
   ],
   "source": [
    "for speaker in b_b[\"Speaker\"]:\n",
    "    if speaker == 'lefou, ':\n",
    "        print(b_b[\"Speaker\"][b_b.Speaker == \"lefou, \"])"
   ]
  },
  {
   "cell_type": "code",
   "execution_count": 480,
   "metadata": {},
   "outputs": [
    {
     "name": "stderr",
     "output_type": "stream",
     "text": [
      "c:\\users\\cassi\\appdata\\local\\programs\\python\\python36-32\\lib\\site-packages\\pandas\\core\\indexing.py:189: SettingWithCopyWarning: \n",
      "A value is trying to be set on a copy of a slice from a DataFrame\n",
      "\n",
      "See the caveats in the documentation: http://pandas.pydata.org/pandas-docs/stable/indexing.html#indexing-view-versus-copy\n",
      "  self._setitem_with_indexer(indexer, value)\n",
      "c:\\users\\cassi\\appdata\\local\\programs\\python\\python36-32\\lib\\site-packages\\ipykernel_launcher.py:1: SettingWithCopyWarning: \n",
      "A value is trying to be set on a copy of a slice from a DataFrame\n",
      "\n",
      "See the caveats in the documentation: http://pandas.pydata.org/pandas-docs/stable/indexing.html#indexing-view-versus-copy\n",
      "  \"\"\"Entry point for launching an IPython kernel.\n"
     ]
    }
   ],
   "source": [
    "b_b.Speaker.iloc[207] = 'lefou'"
   ]
  },
  {
   "cell_type": "code",
   "execution_count": 481,
   "metadata": {},
   "outputs": [
    {
     "data": {
      "text/plain": [
       "'lefou'"
      ]
     },
     "execution_count": 481,
     "metadata": {},
     "output_type": "execute_result"
    }
   ],
   "source": [
    "b_b.Speaker.iloc[207]"
   ]
  },
  {
   "cell_type": "code",
   "execution_count": 482,
   "metadata": {},
   "outputs": [
    {
     "name": "stderr",
     "output_type": "stream",
     "text": [
      "c:\\users\\cassi\\appdata\\local\\programs\\python\\python36-32\\lib\\site-packages\\pandas\\core\\generic.py:4405: SettingWithCopyWarning: \n",
      "A value is trying to be set on a copy of a slice from a DataFrame.\n",
      "Try using .loc[row_indexer,col_indexer] = value instead\n",
      "\n",
      "See the caveats in the documentation: http://pandas.pydata.org/pandas-docs/stable/indexing.html#indexing-view-versus-copy\n",
      "  self[name] = value\n"
     ]
    }
   ],
   "source": [
    "b_b.Speaker = b_b.Speaker.map(lambda x: x.strip())"
   ]
  },
  {
   "cell_type": "code",
   "execution_count": 483,
   "metadata": {},
   "outputs": [
    {
     "name": "stdout",
     "output_type": "stream",
     "text": [
      "59\n"
     ]
    },
    {
     "data": {
      "text/plain": [
       "array(['narrator', 'belle', 'townsfolk 1', 'townsfolk 2', 'townsfolk 3',\n",
       "       'townsfolk 4', 'townsfolk 5', 'baker', 'townsfolk', 'woman 1',\n",
       "       'barber', 'driver', 'woman 2', 'woman 3', 'merchant', 'woman 4',\n",
       "       'man 1', 'bookseller', 'men', 'women', 'woman 5', 'all', 'lefou',\n",
       "       'gaston', 'bimbettes', 'man 2', 'man 3', 'man 4', 'man 5', 'man 6',\n",
       "       'group 1', 'group 2', 'bimbette 1', 'bimbette 2', 'bimbette 3',\n",
       "       'maurice', 'lumiere', 'cogsworth', 'mrs. potts', 'chip', 'beast',\n",
       "       'pierre', 'featherduster', 'old cronies', 'wrestler', 'old man',\n",
       "       'crony 1', 'crony 2', 'crony 3', 'both', 'wardrobe', 'stove',\n",
       "       'mugs', \"d'arque\", 'bystanders', 'mob', 'objects', 'prince',\n",
       "       'chorus'], dtype=object)"
      ]
     },
     "execution_count": 483,
     "metadata": {},
     "output_type": "execute_result"
    }
   ],
   "source": [
    "print(len(b_b.Speaker.unique()))\n",
    "b_b.Speaker.unique()"
   ]
  },
  {
   "cell_type": "code",
   "execution_count": 484,
   "metadata": {},
   "outputs": [
    {
     "name": "stdout",
     "output_type": "stream",
     "text": [
      "44\n"
     ]
    }
   ],
   "source": [
    "b_b_female = ['belle', 'woman 1', 'woman 2', 'woman 3', 'woman 4', 'women', 'woman 5', 'bimbettes', 'bimbette 1',\n",
    "             'bimbette 2', 'bimbette 3', 'mrs. potts', 'featherduster', 'wardrobe']\n",
    "b_b_male = ['narrator', 'baker', 'barber', 'driver', 'merchant', 'man 1', 'bookseller', 'men', 'lefou', 'gaston',\n",
    "           'man 2', 'man 3', 'man 4', 'man 5', 'man 6', 'maurice', 'lumiere', 'cogsworth', 'chip', 'beast', 'pierre',\n",
    "           'old cronies', 'wrestler', 'old man', 'crony 1', 'crony 2', 'crony 3', 'stove', \"d'arque\", 'prince']\n",
    "# neutral: townsfolk 1-5, townsfolk, all, group 1, group 2, both, mugs, bystanders, mob, objects, chorus\n",
    "print(len(b_b_female)+len(b_b_male))"
   ]
  },
  {
   "cell_type": "code",
   "execution_count": 485,
   "metadata": {},
   "outputs": [
    {
     "name": "stderr",
     "output_type": "stream",
     "text": [
      "c:\\users\\cassi\\appdata\\local\\programs\\python\\python36-32\\lib\\site-packages\\ipykernel_launcher.py:2: SettingWithCopyWarning: \n",
      "A value is trying to be set on a copy of a slice from a DataFrame.\n",
      "Try using .loc[row_indexer,col_indexer] = value instead\n",
      "\n",
      "See the caveats in the documentation: http://pandas.pydata.org/pandas-docs/stable/indexing.html#indexing-view-versus-copy\n",
      "  \n"
     ]
    }
   ],
   "source": [
    "gender_func = partial(whichgen, female = b_b_female, male=b_b_male)\n",
    "b_b[\"Gender\"] = b_b.Speaker.map(gender_func)"
   ]
  },
  {
   "cell_type": "code",
   "execution_count": 486,
   "metadata": {},
   "outputs": [
    {
     "data": {
      "text/html": [
       "<div>\n",
       "<style scoped>\n",
       "    .dataframe tbody tr th:only-of-type {\n",
       "        vertical-align: middle;\n",
       "    }\n",
       "\n",
       "    .dataframe tbody tr th {\n",
       "        vertical-align: top;\n",
       "    }\n",
       "\n",
       "    .dataframe thead th {\n",
       "        text-align: right;\n",
       "    }\n",
       "</style>\n",
       "<table border=\"1\" class=\"dataframe\">\n",
       "  <thead>\n",
       "    <tr style=\"text-align: right;\">\n",
       "      <th></th>\n",
       "      <th>Disney_Period</th>\n",
       "      <th>Gender</th>\n",
       "      <th>Movie</th>\n",
       "      <th>Role</th>\n",
       "      <th>Song</th>\n",
       "      <th>Speaker</th>\n",
       "      <th>Speaker_Status</th>\n",
       "      <th>Start_Scene</th>\n",
       "      <th>Text</th>\n",
       "      <th>UTTERANCE_NUMBER</th>\n",
       "      <th>Year</th>\n",
       "    </tr>\n",
       "  </thead>\n",
       "  <tbody>\n",
       "    <tr>\n",
       "      <th>0</th>\n",
       "      <td>MID</td>\n",
       "      <td>m</td>\n",
       "      <td>Beauty and the Beast</td>\n",
       "      <td>NaN</td>\n",
       "      <td>NaN</td>\n",
       "      <td>narrator</td>\n",
       "      <td>NON-P</td>\n",
       "      <td>NaN</td>\n",
       "      <td>once upon a time, in a faraway land, a prince ...</td>\n",
       "      <td>1</td>\n",
       "      <td>1991</td>\n",
       "    </tr>\n",
       "    <tr>\n",
       "      <th>1</th>\n",
       "      <td>MID</td>\n",
       "      <td>f</td>\n",
       "      <td>Beauty and the Beast</td>\n",
       "      <td>NaN</td>\n",
       "      <td>NaN</td>\n",
       "      <td>belle</td>\n",
       "      <td>PRINCESS</td>\n",
       "      <td>NaN</td>\n",
       "      <td>little town, it's a quiet village every day, l...</td>\n",
       "      <td>2</td>\n",
       "      <td>1991</td>\n",
       "    </tr>\n",
       "    <tr>\n",
       "      <th>2</th>\n",
       "      <td>MID</td>\n",
       "      <td>n</td>\n",
       "      <td>Beauty and the Beast</td>\n",
       "      <td>NaN</td>\n",
       "      <td>NaN</td>\n",
       "      <td>townsfolk 1</td>\n",
       "      <td>NON-P</td>\n",
       "      <td>NaN</td>\n",
       "      <td>bonjour!</td>\n",
       "      <td>3</td>\n",
       "      <td>1991</td>\n",
       "    </tr>\n",
       "    <tr>\n",
       "      <th>3</th>\n",
       "      <td>MID</td>\n",
       "      <td>n</td>\n",
       "      <td>Beauty and the Beast</td>\n",
       "      <td>NaN</td>\n",
       "      <td>NaN</td>\n",
       "      <td>townsfolk 2</td>\n",
       "      <td>NON-P</td>\n",
       "      <td>NaN</td>\n",
       "      <td>bonjour!</td>\n",
       "      <td>4</td>\n",
       "      <td>1991</td>\n",
       "    </tr>\n",
       "    <tr>\n",
       "      <th>4</th>\n",
       "      <td>MID</td>\n",
       "      <td>n</td>\n",
       "      <td>Beauty and the Beast</td>\n",
       "      <td>NaN</td>\n",
       "      <td>NaN</td>\n",
       "      <td>townsfolk 3</td>\n",
       "      <td>NON-P</td>\n",
       "      <td>NaN</td>\n",
       "      <td>bonjour!</td>\n",
       "      <td>5</td>\n",
       "      <td>1991</td>\n",
       "    </tr>\n",
       "  </tbody>\n",
       "</table>\n",
       "</div>"
      ],
      "text/plain": [
       "  Disney_Period Gender                 Movie Role Song      Speaker  \\\n",
       "0           MID      m  Beauty and the Beast  NaN  NaN     narrator   \n",
       "1           MID      f  Beauty and the Beast  NaN  NaN        belle   \n",
       "2           MID      n  Beauty and the Beast  NaN  NaN  townsfolk 1   \n",
       "3           MID      n  Beauty and the Beast  NaN  NaN  townsfolk 2   \n",
       "4           MID      n  Beauty and the Beast  NaN  NaN  townsfolk 3   \n",
       "\n",
       "  Speaker_Status Start_Scene  \\\n",
       "0          NON-P         NaN   \n",
       "1       PRINCESS         NaN   \n",
       "2          NON-P         NaN   \n",
       "3          NON-P         NaN   \n",
       "4          NON-P         NaN   \n",
       "\n",
       "                                                Text  UTTERANCE_NUMBER  Year  \n",
       "0  once upon a time, in a faraway land, a prince ...                 1  1991  \n",
       "1  little town, it's a quiet village every day, l...                 2  1991  \n",
       "2                                          bonjour!                  3  1991  \n",
       "3                                          bonjour!                  4  1991  \n",
       "4                                          bonjour!                  5  1991  "
      ]
     },
     "execution_count": 486,
     "metadata": {},
     "output_type": "execute_result"
    }
   ],
   "source": [
    "b_b.head()"
   ]
  },
  {
   "cell_type": "markdown",
   "metadata": {},
   "source": [
    "### 2) Roles"
   ]
  },
  {
   "cell_type": "code",
   "execution_count": 487,
   "metadata": {},
   "outputs": [
    {
     "data": {
      "text/plain": [
       "array(['narrator', 'belle', 'townsfolk 1', 'townsfolk 2', 'townsfolk 3',\n",
       "       'townsfolk 4', 'townsfolk 5', 'baker', 'townsfolk', 'woman 1',\n",
       "       'barber', 'driver', 'woman 2', 'woman 3', 'merchant', 'woman 4',\n",
       "       'man 1', 'bookseller', 'men', 'women', 'woman 5', 'all', 'lefou',\n",
       "       'gaston', 'bimbettes', 'man 2', 'man 3', 'man 4', 'man 5', 'man 6',\n",
       "       'group 1', 'group 2', 'bimbette 1', 'bimbette 2', 'bimbette 3',\n",
       "       'maurice', 'lumiere', 'cogsworth', 'mrs. potts', 'chip', 'beast',\n",
       "       'pierre', 'featherduster', 'old cronies', 'wrestler', 'old man',\n",
       "       'crony 1', 'crony 2', 'crony 3', 'both', 'wardrobe', 'stove',\n",
       "       'mugs', \"d'arque\", 'bystanders', 'mob', 'objects', 'prince',\n",
       "       'chorus'], dtype=object)"
      ]
     },
     "execution_count": 487,
     "metadata": {},
     "output_type": "execute_result"
    }
   ],
   "source": [
    "b_b.Speaker.unique()"
   ]
  },
  {
   "cell_type": "markdown",
   "metadata": {},
   "source": [
    "I'm conflicted about how to label the Beast. At the beginning of the story, he's most definitely antagonist. But the story is about him changing? I have him as a protagonist for now."
   ]
  },
  {
   "cell_type": "code",
   "execution_count": 492,
   "metadata": {},
   "outputs": [],
   "source": [
    "b_b_pro= ['belle', 'prince', 'beast', 'maurice']\n",
    "b_b_ant = ['lefou', 'gaston', \"d'arque\", 'mob', 'old cronies', 'crony 1', 'crony 2', 'crony 3']\n",
    "b_b_helper = ['lumiere', 'cogsworth', 'mrs. potts', 'chip', 'wardrobe']"
   ]
  },
  {
   "cell_type": "code",
   "execution_count": 493,
   "metadata": {},
   "outputs": [
    {
     "name": "stderr",
     "output_type": "stream",
     "text": [
      "c:\\users\\cassi\\appdata\\local\\programs\\python\\python36-32\\lib\\site-packages\\ipykernel_launcher.py:2: SettingWithCopyWarning: \n",
      "A value is trying to be set on a copy of a slice from a DataFrame.\n",
      "Try using .loc[row_indexer,col_indexer] = value instead\n",
      "\n",
      "See the caveats in the documentation: http://pandas.pydata.org/pandas-docs/stable/indexing.html#indexing-view-versus-copy\n",
      "  \n"
     ]
    }
   ],
   "source": [
    "role_func = partial(whichrole, pro = b_b_pro, ant = b_b_ant, helper = b_b_helper)\n",
    "b_b[\"Role\"] = b_b.Speaker.map(role_func)"
   ]
  },
  {
   "cell_type": "code",
   "execution_count": 494,
   "metadata": {},
   "outputs": [
    {
     "data": {
      "text/html": [
       "<div>\n",
       "<style scoped>\n",
       "    .dataframe tbody tr th:only-of-type {\n",
       "        vertical-align: middle;\n",
       "    }\n",
       "\n",
       "    .dataframe tbody tr th {\n",
       "        vertical-align: top;\n",
       "    }\n",
       "\n",
       "    .dataframe thead th {\n",
       "        text-align: right;\n",
       "    }\n",
       "</style>\n",
       "<table border=\"1\" class=\"dataframe\">\n",
       "  <thead>\n",
       "    <tr style=\"text-align: right;\">\n",
       "      <th></th>\n",
       "      <th>Disney_Period</th>\n",
       "      <th>Gender</th>\n",
       "      <th>Movie</th>\n",
       "      <th>Role</th>\n",
       "      <th>Song</th>\n",
       "      <th>Speaker</th>\n",
       "      <th>Speaker_Status</th>\n",
       "      <th>Start_Scene</th>\n",
       "      <th>Text</th>\n",
       "      <th>UTTERANCE_NUMBER</th>\n",
       "      <th>Year</th>\n",
       "    </tr>\n",
       "  </thead>\n",
       "  <tbody>\n",
       "    <tr>\n",
       "      <th>0</th>\n",
       "      <td>MID</td>\n",
       "      <td>m</td>\n",
       "      <td>Beauty and the Beast</td>\n",
       "      <td>N</td>\n",
       "      <td>NaN</td>\n",
       "      <td>narrator</td>\n",
       "      <td>NON-P</td>\n",
       "      <td>NaN</td>\n",
       "      <td>once upon a time, in a faraway land, a prince ...</td>\n",
       "      <td>1</td>\n",
       "      <td>1991</td>\n",
       "    </tr>\n",
       "    <tr>\n",
       "      <th>1</th>\n",
       "      <td>MID</td>\n",
       "      <td>f</td>\n",
       "      <td>Beauty and the Beast</td>\n",
       "      <td>PRO</td>\n",
       "      <td>NaN</td>\n",
       "      <td>belle</td>\n",
       "      <td>PRINCESS</td>\n",
       "      <td>NaN</td>\n",
       "      <td>little town, it's a quiet village every day, l...</td>\n",
       "      <td>2</td>\n",
       "      <td>1991</td>\n",
       "    </tr>\n",
       "    <tr>\n",
       "      <th>2</th>\n",
       "      <td>MID</td>\n",
       "      <td>n</td>\n",
       "      <td>Beauty and the Beast</td>\n",
       "      <td>N</td>\n",
       "      <td>NaN</td>\n",
       "      <td>townsfolk 1</td>\n",
       "      <td>NON-P</td>\n",
       "      <td>NaN</td>\n",
       "      <td>bonjour!</td>\n",
       "      <td>3</td>\n",
       "      <td>1991</td>\n",
       "    </tr>\n",
       "    <tr>\n",
       "      <th>3</th>\n",
       "      <td>MID</td>\n",
       "      <td>n</td>\n",
       "      <td>Beauty and the Beast</td>\n",
       "      <td>N</td>\n",
       "      <td>NaN</td>\n",
       "      <td>townsfolk 2</td>\n",
       "      <td>NON-P</td>\n",
       "      <td>NaN</td>\n",
       "      <td>bonjour!</td>\n",
       "      <td>4</td>\n",
       "      <td>1991</td>\n",
       "    </tr>\n",
       "    <tr>\n",
       "      <th>4</th>\n",
       "      <td>MID</td>\n",
       "      <td>n</td>\n",
       "      <td>Beauty and the Beast</td>\n",
       "      <td>N</td>\n",
       "      <td>NaN</td>\n",
       "      <td>townsfolk 3</td>\n",
       "      <td>NON-P</td>\n",
       "      <td>NaN</td>\n",
       "      <td>bonjour!</td>\n",
       "      <td>5</td>\n",
       "      <td>1991</td>\n",
       "    </tr>\n",
       "  </tbody>\n",
       "</table>\n",
       "</div>"
      ],
      "text/plain": [
       "  Disney_Period Gender                 Movie Role Song      Speaker  \\\n",
       "0           MID      m  Beauty and the Beast    N  NaN     narrator   \n",
       "1           MID      f  Beauty and the Beast  PRO  NaN        belle   \n",
       "2           MID      n  Beauty and the Beast    N  NaN  townsfolk 1   \n",
       "3           MID      n  Beauty and the Beast    N  NaN  townsfolk 2   \n",
       "4           MID      n  Beauty and the Beast    N  NaN  townsfolk 3   \n",
       "\n",
       "  Speaker_Status Start_Scene  \\\n",
       "0          NON-P         NaN   \n",
       "1       PRINCESS         NaN   \n",
       "2          NON-P         NaN   \n",
       "3          NON-P         NaN   \n",
       "4          NON-P         NaN   \n",
       "\n",
       "                                                Text  UTTERANCE_NUMBER  Year  \n",
       "0  once upon a time, in a faraway land, a prince ...                 1  1991  \n",
       "1  little town, it's a quiet village every day, l...                 2  1991  \n",
       "2                                          bonjour!                  3  1991  \n",
       "3                                          bonjour!                  4  1991  \n",
       "4                                          bonjour!                  5  1991  "
      ]
     },
     "execution_count": 494,
     "metadata": {},
     "output_type": "execute_result"
    }
   ],
   "source": [
    "b_b.head()"
   ]
  },
  {
   "cell_type": "markdown",
   "metadata": {},
   "source": [
    "### 3) Songs\n",
    "The songs included in this movie are: Belle (+reprise), Gaston (+reprise), Be Our Guest, Something There, Beauty and the Beast (+reprise), and Mob Song"
   ]
  },
  {
   "cell_type": "code",
   "execution_count": 540,
   "metadata": {},
   "outputs": [
    {
     "name": "stdout",
     "output_type": "stream",
     "text": [
      "bonjour\n",
      "        Speaker              Text\n",
      "2   townsfolk 1         bonjour! \n",
      "3   townsfolk 2         bonjour! \n",
      "4   townsfolk 3         bonjour! \n",
      "5   townsfolk 4         bonjour! \n",
      "6   townsfolk 5         bonjour! \n",
      "17       driver         bonjour! \n",
      "20      woman 3         bonjour! \n",
      "60        man 1         bonjour! \n",
      "85        belle  bonjour gaston. \n",
      "\n",
      "\n",
      "adventure\n",
      "    Speaker                                               Text\n",
      "213   belle  i want adventure in the great wide somewhere i...\n",
      "\n",
      "\n",
      "no one.*like\n",
      "         Speaker                                               Text\n",
      "297  old cronies  no one's been like gaston, a kingpin like gaston \n",
      "298        lefou  no one's got a swell cleft in his chin like ga...\n",
      "303          all  no one fights like gaston, no one bites like g...\n",
      "309  old cronies  no one hits like gaston, matches wits like gas...\n",
      "314          all  no one shoots like gaston, makes those beauts ...\n",
      "344         both  no one plots like gaston, takes cheap shots li...\n",
      "\n",
      "\n",
      " be our guest\n",
      "     Speaker                                               Text\n",
      "458  lumiere  ma chere, mademoiselle. it is with deepest ple...\n",
      "460      all  come on and lift your glass, you've won your o...\n",
      "462      all         be our guest, be our guest, be our guest! \n",
      "473      all  she's our guest! be our guest! be our guest! o...\n",
      "474  lumiere  course, by course one by one 'til you shout \"e...\n",
      "\n",
      "\n",
      "something there\n",
      "        Speaker                                               Text\n",
      "580         all  we'll wait and see a few days more there may b...\n",
      "581   cogsworth  yes, perhaps there's something there that wasn...\n",
      "583  mrs. potts  there may be something there that wasn't there...\n",
      "\n",
      "\n",
      "tale as old as time\n",
      "        Speaker                                               Text\n",
      "599  mrs. potts  tale as old as time true as it can be barely e...\n",
      "600  mrs. potts  ever just the same ever a surprise ever as bef...\n",
      "770      chorus  certain as the sun rising in the east tale as ...\n",
      "\n",
      "\n",
      "kill the beast\n",
      "    Speaker                                               Text\n",
      "683  gaston  we're not safe 'til his head is mounted on my ...\n",
      "691  gaston  hear him roar, see him foam, but we're not com...\n",
      "705     mob  we don't like, what we don't understand, it fr...\n",
      "717     mob  raise the flag, sing the song here we come, we...\n",
      "721     mob                   kill the beast, kill the beast! \n",
      "725     mob                   kill the beast, kill the beast! \n",
      "728     mob  kill the beast, kill the beast, kill the beast!! \n",
      "\n",
      "\n"
     ]
    }
   ],
   "source": [
    "bb_song_words = ['bonjour', 'adventure', 'no one.*like', ' be our guest', 'something there', 'tale as old as time', 'kill the beast']\n",
    "for line in bb_song_words:\n",
    "    print(line)\n",
    "    print(b_b[[\"Speaker\", \"Text\"]][b_b.Text.str.contains(line, regex = True)])\n",
    "    print('\\n')"
   ]
  },
  {
   "cell_type": "code",
   "execution_count": 500,
   "metadata": {},
   "outputs": [
    {
     "name": "stdout",
     "output_type": "stream",
     "text": [
      "little town, it's a quiet village every day, like the one before little town, full of little people waking up to say... \n",
      "\n",
      "\n",
      "bonjour! \n",
      "\n",
      "\n",
      "bonjour! \n",
      "\n",
      "\n",
      "bonjour! \n",
      "\n",
      "\n",
      "bonjour! \n",
      "\n",
      "\n",
      "bonjour! \n",
      "\n",
      "\n",
      "there goes the baker with his tray like always the same old bread and rolls to sell ev'ry morning just the same since the morning that we came to this poor provincial town... \n",
      "\n",
      "\n",
      "good morning, belle! \n",
      "\n",
      "\n",
      "morning monsieur! \n",
      "\n",
      "\n",
      "where are you off to? \n",
      "\n",
      "\n",
      "the bookshop! i just finished the most wonderful story, about a beanstalk and an ogre and... \n",
      "\n",
      "\n",
      "that's nice...marie, the baguettes! hurry up!! \n",
      "\n",
      "\n",
      "look there she goes, that girl is strange no question dazed and distracted, can't you tell? \n",
      "\n",
      "\n",
      "never part of any crowd \n",
      "\n",
      "\n",
      "cause her head's up on some cloud \n",
      "\n",
      "\n",
      "no denying she's a funny girl, that belle! \n",
      "\n",
      "\n",
      "bonjour! \n",
      "\n",
      "\n",
      "good day! \n",
      "\n",
      "\n",
      "how is your family? \n",
      "\n",
      "\n",
      "bonjour! \n",
      "\n",
      "\n",
      "good day! \n",
      "\n",
      "\n",
      "how is your wife? \n",
      "\n",
      "\n",
      "i need six eggs! \n",
      "\n",
      "\n",
      "that's too expensive! \n",
      "\n",
      "\n",
      "there must be more than this provincial life! \n",
      "\n",
      "\n",
      "ah, belle! \n",
      "\n",
      "\n",
      "good morning. i've come to return the book i borrowed. \n",
      "\n",
      "\n",
      "finished already? \n",
      "\n",
      "\n",
      "oh, i couldn't put it down! have you got anything new? \n",
      "\n",
      "\n"
     ]
    }
   ],
   "source": [
    "#Belle\n",
    "#1-7, 13-25, \n",
    "for line in b_b.Text.iloc[1:30]:\n",
    "    print(line)\n",
    "    print('\\n')"
   ]
  },
  {
   "cell_type": "code",
   "execution_count": 517,
   "metadata": {},
   "outputs": [],
   "source": [
    "bb_songs = list(range(1,8))"
   ]
  },
  {
   "cell_type": "code",
   "execution_count": 518,
   "metadata": {},
   "outputs": [],
   "source": [
    "bb_songs.extend(list(range(13,26)))"
   ]
  },
  {
   "cell_type": "code",
   "execution_count": 519,
   "metadata": {},
   "outputs": [
    {
     "data": {
      "text/plain": [
       "[1, 2, 3, 4, 5, 6, 7, 13, 14, 15, 16, 17, 18, 19, 20, 21, 22, 23, 24, 25]"
      ]
     },
     "execution_count": 519,
     "metadata": {},
     "output_type": "execute_result"
    }
   ],
   "source": [
    "bb_songs"
   ]
  },
  {
   "cell_type": "code",
   "execution_count": 510,
   "metadata": {},
   "outputs": [
    {
     "name": "stdout",
     "output_type": "stream",
     "text": [
      "well thank you. thank you very much! \n",
      "\n",
      "\n",
      "look there she goes that girl is so peculiar! i wonder if she's feeling well! \n",
      "\n",
      "\n",
      "with a dreamy faroff look! \n",
      "\n",
      "\n",
      "and her nose stuck in a book! all what a puzzle to the rest of us is belle! \n",
      "\n",
      "\n",
      "oh! isn't this amazing! it's my favorite part because, you'll see! here's where she meets prince charming but she won't discover that it's him 'til chapter three! \n",
      "\n",
      "\n",
      "now it's no wonder that her name means 'beauty' her looks have got no parallel! \n",
      "\n",
      "\n",
      "but behind that fair facade i'm afraid she's rather odd very different from the rest of us... \n",
      "\n",
      "\n",
      "she's nothing like the rest of us yes different from the rest of us is belle \n",
      "\n",
      "\n",
      "wow! you didn't miss a shot, gaston! you're the greatest hunter in the whole world! \n",
      "\n",
      "\n"
     ]
    }
   ],
   "source": [
    "#39-45\n",
    "for line in b_b.Text.iloc[38:47]:\n",
    "    print(line)\n",
    "    print('\\n')"
   ]
  },
  {
   "cell_type": "code",
   "execution_count": 520,
   "metadata": {},
   "outputs": [],
   "source": [
    "bb_songs.extend(list(range(39, 46)))"
   ]
  },
  {
   "cell_type": "code",
   "execution_count": 516,
   "metadata": {},
   "outputs": [
    {
     "name": "stdout",
     "output_type": "stream",
     "text": [
      "and that makes her the best. and don't i deserve the best? \n",
      "\n",
      "\n",
      "well of course, i mean you do, but i mean... \n",
      "\n",
      "\n",
      "right from the moment when i met her, saw her i said she's gorgeous and i fell here in town there's only she \n",
      "\n",
      "\n",
      "who is beautiful as me so i'm making plans to woo and marry belle \n",
      "\n",
      "\n",
      "look there he goes, isn't he dreamy monsieur gaston, oh he's so cute be still my heart, i'm hardly breathing he's such a tall, dark, strong and handsome brute \n",
      "\n",
      "\n",
      "bonjour! \n",
      "\n",
      "\n",
      "pardon! \n",
      "\n",
      "\n",
      "good day! \n",
      "\n",
      "\n",
      "mais oui! \n",
      "\n",
      "\n",
      "you call this bacon? \n",
      "\n",
      "\n",
      "what lovely grapes! \n",
      "\n",
      "\n",
      "some cheese! \n",
      "\n",
      "\n",
      "ten yards! \n",
      "\n",
      "\n",
      "one pound \n",
      "\n",
      "\n",
      "'xcuse me! \n",
      "\n",
      "\n",
      "i'll get the knife! \n",
      "\n",
      "\n",
      "please let me through! \n",
      "\n",
      "\n",
      "this bread! \n",
      "\n",
      "\n",
      "those fish! \n",
      "\n",
      "\n",
      "it's stale! \n",
      "\n",
      "\n",
      "they smell! \n",
      "\n",
      "\n",
      "madame's mistaken! \n",
      "\n",
      "\n",
      "there must be more than this provincial life! \n",
      "\n",
      "\n",
      "well maybe so... \n",
      "\n",
      "\n",
      "just watch i'm going to make belle my wife! \n",
      "\n",
      "\n",
      "look there she goes a girl who's strange but special a most peculiar mademoiselle it's a pity and a sin she doesn't quite fit in! \n",
      "\n",
      "\n",
      "but she really is a funny girl \n",
      "\n",
      "\n",
      "a beauty but a funny girl \n",
      "\n",
      "\n",
      "she really is a funny girl! that belle! \n",
      "\n",
      "\n",
      "hello, belle. \n",
      "\n",
      "\n",
      "bonjour gaston. \n",
      "\n",
      "\n"
     ]
    }
   ],
   "source": [
    "#57-83\n",
    "for line in b_b.Text.iloc[55:86]:\n",
    "    print(line)\n",
    "    print('\\n')"
   ]
  },
  {
   "cell_type": "code",
   "execution_count": 521,
   "metadata": {},
   "outputs": [],
   "source": [
    "bb_songs.extend(list(range(57, 84)))"
   ]
  },
  {
   "cell_type": "code",
   "execution_count": 522,
   "metadata": {},
   "outputs": [
    {
     "name": "stdout",
     "output_type": "stream",
     "text": [
      "touchy! \n",
      "\n",
      "\n",
      "grunt grunt. \n",
      "\n",
      "\n",
      "is he gone? can you imagine, he asked me to marry him. me, the wife of that boorish, brainless... madame gaston, can't you just see it madame gaston, his little wife not me, no sir, i guarantee it i want much more than this provincial life... \n",
      "\n",
      "\n",
      "i want adventure in the great wide somewhere i want it more than i can tell and for once it might be grand to have someone understand i want so much more than they've got planned \n",
      "\n",
      "\n",
      "phillipe! what are you doing here? where's papa? where is he, phillipe? what happened? oh, we have to find him, you have to take me to him! \n",
      "\n",
      "\n",
      "what is this place? \n",
      "\n",
      "\n"
     ]
    }
   ],
   "source": [
    "#Belle reprise\n",
    "#second half of 212 is song\n",
    "#213\n",
    "for line in b_b.Text.iloc[210:216]:\n",
    "    print(line)\n",
    "    print('\\n')"
   ]
  },
  {
   "cell_type": "code",
   "execution_count": 523,
   "metadata": {},
   "outputs": [],
   "source": [
    "bb_songs.append(213)"
   ]
  },
  {
   "cell_type": "code",
   "execution_count": 529,
   "metadata": {},
   "outputs": [
    {
     "name": "stdout",
     "output_type": "stream",
     "text": [
      "what for? nothing helps. i'm disgraced. \n",
      "\n",
      "\n",
      "who, you? never. gaston, you've got to pull yourself together. gosh it disturbs me to see you, gaston looking so down in the dumps every guy here'd love to be you, gaston \n",
      "\n",
      "\n",
      "even when taking your lumps there's no man in town as admired as you you're everyone's favorite guy everyone's awed and inspired by you \n",
      "\n",
      "\n",
      "and it's not very hard to see why! no one's slick as gaston, no one's quick as gaston no one's next as incredibly thick as gaston for there's no man in town half as manly perfect, a pure paragon! you can ask any tom, dick, or stanley and they'll tell you who's team they'd prefer to be on! \n",
      "\n",
      "\n",
      "no one's been like gaston, a kingpin like gaston \n",
      "\n",
      "\n",
      "no one's got a swell cleft in his chin like gaston \n",
      "\n",
      "\n",
      "as a specimen, yes, i'm intimidating! \n",
      "\n",
      "\n",
      "my, what a guy that gaston! \n",
      "\n",
      "\n",
      "give five hurrahs, give twelve hiphips \n",
      "\n",
      "\n",
      "gaston is the best and the rest is all drips! \n",
      "\n",
      "\n",
      "no one fights like gaston, no one bites like gaston \n",
      "\n",
      "\n",
      "in a wrestling match, nobody bites like gaston \n",
      "\n",
      "\n",
      "for there's no one as burly and brawny \n",
      "\n",
      "\n",
      "as you see i've got biceps to spare \n",
      "\n",
      "\n",
      "not a bit of him scraggly or scrawny \n",
      "\n",
      "\n",
      "that's right! and every last bit of me's covered with hair! \n",
      "\n",
      "\n",
      "no one hits like gaston, matches wits like gaston \n",
      "\n",
      "\n",
      "in a spitting match, nobody spits like gaston! \n",
      "\n",
      "\n",
      "i'm especially good at expectorating! ptooey! \n",
      "\n",
      "\n",
      "ten points for gaston! \n",
      "\n",
      "\n",
      "when i was a lad i ate four dozen eggs every morning to help me get large! and now that i'm grown, i eat five dozen eggs so i'm roughly the size of a barge! \n",
      "\n",
      "\n",
      "no one shoots like gaston, makes those beauts like gaston \n",
      "\n",
      "\n",
      "then goes tromping around wearing boots like gaston \n",
      "\n",
      "\n",
      "i use antlers in all of my decorating! \n",
      "\n",
      "\n",
      "my what a guy! gaston!!!!!!! \n",
      "\n",
      "\n",
      "help! someone help me! \n",
      "\n",
      "\n",
      "maurice? \n",
      "\n",
      "\n"
     ]
    }
   ],
   "source": [
    "#Gaston (+reprise)\n",
    "#294-317\n",
    "for line in b_b.Text.iloc[293:320]:\n",
    "    print(line)\n",
    "    print('\\n')"
   ]
  },
  {
   "cell_type": "code",
   "execution_count": 530,
   "metadata": {},
   "outputs": [],
   "source": [
    "bb_songs.extend(list(range(294-318)))"
   ]
  },
  {
   "cell_type": "code",
   "execution_count": 546,
   "metadata": {},
   "outputs": [
    {
     "name": "stdout",
     "output_type": "stream",
     "text": [
      "crazy old maurice, hmm? crazy old maurice. hmmm? lefou, i'm afraid i've been thinking. \n",
      "\n",
      "\n",
      "a dangerous pastime \n",
      "\n",
      "\n",
      "i know, but that wacky old coot is belle's father and his sanity's only soso now the wheels in my head have been turning since i looked at that loony old man see i promised myself i'd be married to belle, and right now i'm evolving a plan! \n",
      "\n",
      "\n",
      "if i...\n",
      "\n",
      "\n",
      "yes? \n",
      "\n",
      "\n",
      "then i...\n",
      "\n",
      "\n",
      "no, would she? \n",
      "\n",
      "\n",
      "...guess! \n",
      "\n",
      "\n",
      "now i get it! \n",
      "\n",
      "\n",
      "let's go! \n",
      "\n",
      "\n",
      "no one plots like gaston, takes cheap shots like gaston \n",
      "\n",
      "\n",
      "plans to persecute harmless crackpots like gaston \n",
      "\n",
      "\n",
      "so his marriage we soon'll be celebrating! my what a guy, gaston!!! \n",
      "\n",
      "\n",
      "will no one help me? \n",
      "\n",
      "\n",
      "who is it? \n",
      "\n",
      "\n",
      "mrs. potts, dear. \n",
      "\n",
      "\n"
     ]
    }
   ],
   "source": [
    "#336, 344-346\n",
    "for line in b_b.Text.iloc[334:350]:\n",
    "    print(line)\n",
    "    print('\\n')"
   ]
  },
  {
   "cell_type": "code",
   "execution_count": 548,
   "metadata": {},
   "outputs": [],
   "source": [
    "bb_songs.extend([336, 344, 345, 346])"
   ]
  },
  {
   "cell_type": "code",
   "execution_count": 550,
   "metadata": {},
   "outputs": [
    {
     "name": "stdout",
     "output_type": "stream",
     "text": [
      "of course, of course. but what is dinner without a little music? \n",
      "\n",
      "\n",
      "music!?! \n",
      "\n",
      "\n",
      "ma chere, mademoiselle. it is with deepest pleasure and greatest pride that i welcome you tonight. and now, we invite you to relax. let us pull up a chair as the dining room proudly presents...your dinner. be our guest, be our guest put our service to the test, tie your napkin 'round your neck, cherie and we provide the rest! \n",
      "\n",
      "\n",
      "and it's all in perfect taste that you can bet!!! \n",
      "\n",
      "\n",
      "come on and lift your glass, you've won your own free pass to be our guest, be our guest, be our guest! \n",
      "\n",
      "\n",
      "if you're stressed, it's fine dining we suggest! \n",
      "\n",
      "\n",
      "be our guest, be our guest, be our guest! \n",
      "\n",
      "\n",
      "enters and holds him there.\n",
      "\n",
      "\n",
      "life is so unnerving, for a servant who's not serving! he's not whole without a soul to wait upon \n",
      "\n",
      "\n",
      "get off! \n",
      "\n",
      "\n",
      "ah, those good old days when we were useful suddenly, those good old days are gone. \n",
      "\n",
      "\n",
      "ten years we've been rusting needing so much more than dusting needing exercise, a chance to use our skills! \n",
      "\n",
      "\n",
      "most days just lay around the castle, flabby fat and lazy you walked in, and oopsadaisie! \n",
      "\n",
      "\n",
      "it's a guest, it's a guest! sakes alive, well i'll be blessed! wine's been poured and thank the lord i've had the napkins freshly pressed! \n",
      "\n",
      "\n",
      "with dessert, she'll want tea, and my dear, that's fine with me! while the cups do their soft shoeing, i'll be bubbling, i'll be brewing! i'll get warm, piping hot heaven's sake, is that a spot? clean it up, we want the company impressed! we've got a lot to do is it one lump or two? for you our guest! \n",
      "\n",
      "\n",
      "she's our guest! \n",
      "\n",
      "\n",
      "she's our guest! \n",
      "\n",
      "\n",
      "she's our guest! be our guest! be our guest! our command is your request! it's ten years since we had anybody here and we're obsessed! with your meal, with your ease, yes indeed, we aim to please while the candlelight's still glowing let us help you, we'll keep going \n",
      "\n",
      "\n",
      "course, by course one by one 'til you shout \"enough, i'm done!\" then we'll sing you off to sleep as you digest tonight you'll prop your feet up, but for let's eat up be our guest! be our guest! be our guest! please be our guest!! \n",
      "\n",
      "\n",
      "bravo! that was wonderful! \n",
      "\n",
      "\n"
     ]
    }
   ],
   "source": [
    "#Be Our Guest\n",
    "#458 - 462, 464, 466-474\n",
    "for line in b_b.Text.iloc[456:476]:\n",
    "    print(line)\n",
    "    print('\\n')"
   ]
  },
  {
   "cell_type": "code",
   "execution_count": 551,
   "metadata": {},
   "outputs": [],
   "source": [
    "bb_songs.extend(list(range(458,463)))\n",
    "bb_songs.append(464)\n",
    "bb_songs.extend(list(range(466, 475)))"
   ]
  },
  {
   "cell_type": "code",
   "execution_count": 558,
   "metadata": {},
   "outputs": [
    {
     "name": "stdout",
     "output_type": "stream",
     "text": [
      "but what are they talking about? what's going on? \n",
      "\n",
      "\n",
      "there's something sweet and almost kind but he was mean and he was coarse and unrefined. but now he's dear and so unsure, i wonder why i didn't see it there before. \n",
      "\n",
      "\n",
      "she glanced this way i thought i saw and when we touched she didn't shudder at my paw no it can't be i'll just ignore but then she's never looked at me that way before. \n",
      "\n",
      "\n",
      "new, and a bit alarming who'd have ever thought that this could be? true, that he's no prince charming but there's something in him that i simply didn't see. \n",
      "\n",
      "\n",
      "well who'd have thought? \n",
      "\n",
      "\n",
      "well bless my soul. \n",
      "\n",
      "\n",
      "and who'd have known? \n",
      "\n",
      "\n",
      "well who indeed? \n",
      "\n",
      "\n",
      "and who'd have guessed they'd come together on their own? \n",
      "\n",
      "\n",
      "it's so peculiar \n",
      "\n",
      "\n",
      "we'll wait and see a few days more there may be something there that wasn't there before \n",
      "\n",
      "\n",
      "yes, perhaps there's something there that wasn't there before. \n",
      "\n",
      "\n",
      "what? \n",
      "\n",
      "\n",
      "there may be something there that wasn't there before. \n",
      "\n",
      "\n",
      "what's there, mama? \n",
      "\n",
      "\n"
     ]
    }
   ],
   "source": [
    "#Something There\n",
    "#571-581 , 583\n",
    "for line in b_b.Text.iloc[570:585]:\n",
    "    print(line)\n",
    "    print('\\n')"
   ]
  },
  {
   "cell_type": "code",
   "execution_count": 559,
   "metadata": {},
   "outputs": [],
   "source": [
    "bb_songs.extend(list(range(571, 582)))\n",
    "bb_songs.append(583)"
   ]
  },
  {
   "cell_type": "code",
   "execution_count": 560,
   "metadata": {},
   "outputs": [
    {
     "name": "stdout",
     "output_type": "stream",
     "text": [
      "ahem ahem ahem. your lady awaits. \n",
      "\n",
      "\n",
      "tale as old as time true as it can be barely even friends then somebody bends unexpectedly. just a little change small to say the least both a little scared neither one prepared, beauty and the beast. \n",
      "\n",
      "\n",
      "ever just the same ever a surprise ever as before, ever just as sure as the sun will rise tale as old as time tune as old as song bittersweet and strange, finding you can change, learning you were wrong certain as the sun rising in the east tale as old as time, song as old as rhyme, beauty and the beast. tale as old as time, song as old as rhyme, beauty and the beast. \n",
      "\n",
      "\n",
      "off to the cupboard with you now, chip. it's past your bedtime. good night, love. \n",
      "\n",
      "\n"
     ]
    }
   ],
   "source": [
    "#Beauty and the Beast (+reprise)\n",
    "#599, 600\n",
    "for line in b_b.Text.iloc[598:602]:\n",
    "    print(line)\n",
    "    print('\\n')"
   ]
  },
  {
   "cell_type": "code",
   "execution_count": 561,
   "metadata": {},
   "outputs": [],
   "source": [
    "bb_songs.extend([599, 600])"
   ]
  },
  {
   "cell_type": "code",
   "execution_count": 563,
   "metadata": {},
   "outputs": [
    {
     "name": "stdout",
     "output_type": "stream",
     "text": [
      "do i still have to sleep in the cupboard? \n",
      "\n",
      "\n",
      "certain as the sun rising in the east tale as old as time, song as old as rhyme beauty and the beast! tale as old as time, song as old as rhyme beauty and the beast! \n",
      "\n",
      "\n",
      "</pre> \n",
      "\n",
      "\n"
     ]
    }
   ],
   "source": [
    "for line in b_b.Text.iloc[769:]:\n",
    "    print(line)\n",
    "    print('\\n')"
   ]
  },
  {
   "cell_type": "code",
   "execution_count": 565,
   "metadata": {},
   "outputs": [
    {
     "name": "stderr",
     "output_type": "stream",
     "text": [
      "c:\\users\\cassi\\appdata\\local\\programs\\python\\python36-32\\lib\\site-packages\\pandas\\core\\frame.py:3697: SettingWithCopyWarning: \n",
      "A value is trying to be set on a copy of a slice from a DataFrame\n",
      "\n",
      "See the caveats in the documentation: http://pandas.pydata.org/pandas-docs/stable/indexing.html#indexing-view-versus-copy\n",
      "  errors=errors)\n"
     ]
    }
   ],
   "source": [
    "#getting rid of blank last line\n",
    "b_b.drop(index = 771, inplace = True)"
   ]
  },
  {
   "cell_type": "code",
   "execution_count": 566,
   "metadata": {},
   "outputs": [],
   "source": [
    "bb_songs.append(770)"
   ]
  },
  {
   "cell_type": "code",
   "execution_count": 569,
   "metadata": {},
   "outputs": [
    {
     "name": "stdout",
     "output_type": "stream",
     "text": [
      "we're not safe 'til his head is mounted on my wall! i say we kill the beast! \n",
      "\n",
      "\n",
      "we're not safe until he's dead, \n",
      "\n",
      "\n",
      "he'll come stalking us at night! \n",
      "\n",
      "\n",
      "set to sacrifice our children to his monstrous appetite! \n",
      "\n",
      "\n",
      "he'll wreak havoc on our village if we let him wander free \n",
      "\n",
      "\n",
      "so it's time to take some action, boys it's time to follow me! \n",
      "\n",
      "\n",
      "through the mist, through the woods through the darkness and the shadows it's a nightmare but it's one exciting ride. say a prayer, then we're there at the drawbridge of a castle, and there's something truly terrible inside. \n",
      "\n",
      "\n",
      "it's a beast, he's got fangs, razor sharp ones massive paws, killer claws for the feast \n",
      "\n",
      "\n",
      "hear him roar, see him foam, but we're not coming home, 'til he's dead, good and dead, kill the beast! \n",
      "\n",
      "\n",
      "no, i won't let you do this. \n",
      "\n",
      "\n",
      "if you're not with us, you're against us. bring the old man. \n",
      "\n",
      "\n",
      "get your hands off me! \n",
      "\n",
      "\n"
     ]
    }
   ],
   "source": [
    "#Mob Song\n",
    "#684-691\n",
    "for line in b_b.Text.iloc[683:695]:\n",
    "    print(line)\n",
    "    print('\\n')"
   ]
  },
  {
   "cell_type": "code",
   "execution_count": 570,
   "metadata": {},
   "outputs": [],
   "source": [
    "bb_songs.extend(list(range(684, 692)))"
   ]
  },
  {
   "cell_type": "code",
   "execution_count": 573,
   "metadata": {},
   "outputs": [
    {
     "name": "stdout",
     "output_type": "stream",
     "text": [
      "let us out! \n",
      "\n",
      "\n",
      "we'll rid the village of this beast. who's with me? \n",
      "\n",
      "\n",
      "light your torch, mount your horse! \n",
      "\n",
      "\n",
      "screw your courage to the sticking place \n",
      "\n",
      "\n",
      "we're counting on gaston to lead the way! through a mist, to a wood, where within a haunted castle, something's lurking that you don't see every day! \n",
      "\n",
      "\n",
      "it's a beast, one as tall as a mountain! we won't rest 'til he's good and deceased! sally forth, tally ho, grab your sword, grab your bow praise the lord and here we go! \n",
      "\n",
      "\n",
      "we'll lay siege to his castle and bring back his head! \n",
      "\n",
      "\n",
      "i have to warn the beast. this is all my fault. oh, papa. what are we going to do? \n",
      "\n",
      "\n",
      "now, now. we'll think of something. \n",
      "\n",
      "\n",
      "we don't like, what we don't understand, it frankly scares us and this monster is mysterious at least! bring your guns, bring your knives, save your children and your wives, we'll save our village and our lives, we'll kill the beast! \n",
      "\n",
      "\n",
      "i knew it, i knew it was foolish to get our hopes up. \n",
      "\n",
      "\n"
     ]
    }
   ],
   "source": [
    "#698-701, 705\n",
    "for line in b_b.Text.iloc[696:707]:\n",
    "    print(line)\n",
    "    print('\\n')"
   ]
  },
  {
   "cell_type": "code",
   "execution_count": 579,
   "metadata": {},
   "outputs": [
    {
     "name": "stdout",
     "output_type": "stream",
     "text": [
      "who's with me? aahh! \n",
      "\n",
      "\n",
      "take whatever booty you can find, but remember, the beast is mine! \n",
      "\n",
      "\n",
      "hearts ablaze, banners high! we go marching into battle, unafraid, although the danger just increased! \n",
      "\n",
      "\n",
      "raise the flag, sing the song here we come, we're fifty strong and fifty frenchmen can't be wrong, let's kill the beast! \n",
      "\n",
      "\n",
      "pardon me, master. \n",
      "\n",
      "\n",
      "leave me in peace. \n",
      "\n",
      "\n",
      "but sir, the castle is under attack! \n",
      "\n",
      "\n",
      "kill the beast, kill the beast! \n",
      "\n",
      "\n",
      "this isn't working! \n",
      "\n",
      "\n",
      "oh, lumiere! we must do something! \n",
      "\n",
      "\n",
      "wait! i know! \n",
      "\n",
      "\n",
      "kill the beast, kill the beast! \n",
      "\n",
      "\n",
      "what shall we do, master? \n",
      "\n",
      "\n",
      "it doesn't matter now. just let them come. \n",
      "\n",
      "\n",
      "kill the beast, kill the beast, kill the beast!! \n",
      "\n",
      "\n",
      "now!!! \n",
      "\n",
      "\n"
     ]
    }
   ],
   "source": [
    "#716, 717, 721,725, 728\n",
    "for line in b_b.Text.iloc[714:730]:\n",
    "    print(line)\n",
    "    print('\\n')"
   ]
  },
  {
   "cell_type": "code",
   "execution_count": 580,
   "metadata": {},
   "outputs": [],
   "source": [
    "bb_songs.extend([716, 717, 721, 725, 728])"
   ]
  },
  {
   "cell_type": "code",
   "execution_count": 581,
   "metadata": {},
   "outputs": [
    {
     "data": {
      "text/plain": [
       "[1, 2, 3, 4, 5, 6, 7, 13, 14, 15, 16, 17, 18, 19, 20, 21, 22, 23, 24, 25, 39, 40, 41, 42, 43, 44, 45, 57, 58, 59, 60, 61, 62, 63, 64, 65, 66, 67, 68, 69, 70, 71, 72, 73, 74, 75, 76, 77, 78, 79, 80, 81, 82, 83, 213, 336, 344, 345, 346, 458, 459, 460, 461, 462, 464, 466, 467, 468, 469, 470, 471, 472, 473, 474, 571, 572, 573, 574, 575, 576, 577, 578, 579, 580, 581, 583, 599, 600, 770, 684, 685, 686, 687, 688, 689, 690, 691, 716, 717, 721, 725, 728]"
      ]
     },
     "execution_count": 581,
     "metadata": {},
     "output_type": "execute_result"
    }
   ],
   "source": [
    "bb_songs"
   ]
  },
  {
   "cell_type": "code",
   "execution_count": 582,
   "metadata": {},
   "outputs": [
    {
     "name": "stderr",
     "output_type": "stream",
     "text": [
      "c:\\users\\cassi\\appdata\\local\\programs\\python\\python36-32\\lib\\site-packages\\ipykernel_launcher.py:2: SettingWithCopyWarning: \n",
      "A value is trying to be set on a copy of a slice from a DataFrame.\n",
      "Try using .loc[row_indexer,col_indexer] = value instead\n",
      "\n",
      "See the caveats in the documentation: http://pandas.pydata.org/pandas-docs/stable/indexing.html#indexing-view-versus-copy\n",
      "  \n"
     ]
    }
   ],
   "source": [
    "song_func = partial(is_dialogue, song=bb_songs)\n",
    "b_b[\"Song\"] = b_b.index.map(song_func)"
   ]
  },
  {
   "cell_type": "code",
   "execution_count": 583,
   "metadata": {
    "scrolled": true
   },
   "outputs": [
    {
     "data": {
      "text/html": [
       "<div>\n",
       "<style scoped>\n",
       "    .dataframe tbody tr th:only-of-type {\n",
       "        vertical-align: middle;\n",
       "    }\n",
       "\n",
       "    .dataframe tbody tr th {\n",
       "        vertical-align: top;\n",
       "    }\n",
       "\n",
       "    .dataframe thead th {\n",
       "        text-align: right;\n",
       "    }\n",
       "</style>\n",
       "<table border=\"1\" class=\"dataframe\">\n",
       "  <thead>\n",
       "    <tr style=\"text-align: right;\">\n",
       "      <th></th>\n",
       "      <th>Disney_Period</th>\n",
       "      <th>Gender</th>\n",
       "      <th>Movie</th>\n",
       "      <th>Role</th>\n",
       "      <th>Song</th>\n",
       "      <th>Speaker</th>\n",
       "      <th>Speaker_Status</th>\n",
       "      <th>Start_Scene</th>\n",
       "      <th>Text</th>\n",
       "      <th>UTTERANCE_NUMBER</th>\n",
       "      <th>Year</th>\n",
       "    </tr>\n",
       "  </thead>\n",
       "  <tbody>\n",
       "    <tr>\n",
       "      <th>699</th>\n",
       "      <td>MID</td>\n",
       "      <td>m</td>\n",
       "      <td>Beauty and the Beast</td>\n",
       "      <td>ANT</td>\n",
       "      <td>D</td>\n",
       "      <td>gaston</td>\n",
       "      <td>NON-P</td>\n",
       "      <td>NaN</td>\n",
       "      <td>screw your courage to the sticking place</td>\n",
       "      <td>700</td>\n",
       "      <td>1991</td>\n",
       "    </tr>\n",
       "    <tr>\n",
       "      <th>740</th>\n",
       "      <td>MID</td>\n",
       "      <td>m</td>\n",
       "      <td>Beauty and the Beast</td>\n",
       "      <td>ANT</td>\n",
       "      <td>D</td>\n",
       "      <td>gaston</td>\n",
       "      <td>NON-P</td>\n",
       "      <td>NaN</td>\n",
       "      <td>come on out and fight! were you in love with h...</td>\n",
       "      <td>741</td>\n",
       "      <td>1991</td>\n",
       "    </tr>\n",
       "    <tr>\n",
       "      <th>278</th>\n",
       "      <td>MID</td>\n",
       "      <td>f</td>\n",
       "      <td>Beauty and the Beast</td>\n",
       "      <td>PRO</td>\n",
       "      <td>D</td>\n",
       "      <td>belle</td>\n",
       "      <td>PRINCESS</td>\n",
       "      <td>NaN</td>\n",
       "      <td>no.</td>\n",
       "      <td>279</td>\n",
       "      <td>1991</td>\n",
       "    </tr>\n",
       "    <tr>\n",
       "      <th>250</th>\n",
       "      <td>MID</td>\n",
       "      <td>m</td>\n",
       "      <td>Beauty and the Beast</td>\n",
       "      <td>PRO</td>\n",
       "      <td>D</td>\n",
       "      <td>beast</td>\n",
       "      <td>PRINCE</td>\n",
       "      <td>NaN</td>\n",
       "      <td>then he shouldn't have trespassed here.</td>\n",
       "      <td>251</td>\n",
       "      <td>1991</td>\n",
       "    </tr>\n",
       "    <tr>\n",
       "      <th>174</th>\n",
       "      <td>MID</td>\n",
       "      <td>m</td>\n",
       "      <td>Beauty and the Beast</td>\n",
       "      <td>PRO</td>\n",
       "      <td>D</td>\n",
       "      <td>beast</td>\n",
       "      <td>PRINCE</td>\n",
       "      <td>NaN</td>\n",
       "      <td>who are you! what are you doing here?</td>\n",
       "      <td>175</td>\n",
       "      <td>1991</td>\n",
       "    </tr>\n",
       "  </tbody>\n",
       "</table>\n",
       "</div>"
      ],
      "text/plain": [
       "    Disney_Period Gender                 Movie Role Song Speaker  \\\n",
       "699           MID      m  Beauty and the Beast  ANT    D  gaston   \n",
       "740           MID      m  Beauty and the Beast  ANT    D  gaston   \n",
       "278           MID      f  Beauty and the Beast  PRO    D   belle   \n",
       "250           MID      m  Beauty and the Beast  PRO    D   beast   \n",
       "174           MID      m  Beauty and the Beast  PRO    D   beast   \n",
       "\n",
       "    Speaker_Status Start_Scene  \\\n",
       "699          NON-P         NaN   \n",
       "740          NON-P         NaN   \n",
       "278       PRINCESS         NaN   \n",
       "250         PRINCE         NaN   \n",
       "174         PRINCE         NaN   \n",
       "\n",
       "                                                  Text  UTTERANCE_NUMBER  Year  \n",
       "699          screw your courage to the sticking place                700  1991  \n",
       "740  come on out and fight! were you in love with h...               741  1991  \n",
       "278                                               no.                279  1991  \n",
       "250           then he shouldn't have trespassed here.                251  1991  \n",
       "174             who are you! what are you doing here?                175  1991  "
      ]
     },
     "execution_count": 583,
     "metadata": {},
     "output_type": "execute_result"
    }
   ],
   "source": [
    "b_b.sample(5)"
   ]
  },
  {
   "cell_type": "code",
   "execution_count": 584,
   "metadata": {},
   "outputs": [
    {
     "name": "stdout",
     "output_type": "stream",
     "text": [
      "<class 'pandas.core.frame.DataFrame'>\n",
      "Int64Index: 771 entries, 0 to 770\n",
      "Data columns (total 11 columns):\n",
      "Disney_Period       771 non-null object\n",
      "Gender              771 non-null object\n",
      "Movie               771 non-null object\n",
      "Role                771 non-null object\n",
      "Song                771 non-null object\n",
      "Speaker             771 non-null object\n",
      "Speaker_Status      771 non-null object\n",
      "Start_Scene         0 non-null object\n",
      "Text                771 non-null object\n",
      "UTTERANCE_NUMBER    771 non-null int64\n",
      "Year                771 non-null int64\n",
      "dtypes: int64(2), object(9)\n",
      "memory usage: 45.2+ KB\n"
     ]
    }
   ],
   "source": [
    "b_b.info()"
   ]
  },
  {
   "cell_type": "code",
   "execution_count": 585,
   "metadata": {},
   "outputs": [],
   "source": [
    "b_b.reset_index(drop = True, inplace = True)"
   ]
  },
  {
   "cell_type": "markdown",
   "metadata": {},
   "source": [
    "## Pocahontas"
   ]
  },
  {
   "cell_type": "code",
   "execution_count": 586,
   "metadata": {},
   "outputs": [],
   "source": [
    "poc = disney[disney.Movie == 'Pocahontas']"
   ]
  },
  {
   "cell_type": "code",
   "execution_count": 587,
   "metadata": {},
   "outputs": [
    {
     "name": "stdout",
     "output_type": "stream",
     "text": [
      "<class 'pandas.core.frame.DataFrame'>\n",
      "Int64Index: 638 entries, 3336 to 3973\n",
      "Data columns (total 11 columns):\n",
      "Disney_Period       638 non-null object\n",
      "Gender              0 non-null object\n",
      "Movie               638 non-null object\n",
      "Role                0 non-null object\n",
      "Song                0 non-null object\n",
      "Speaker             638 non-null object\n",
      "Speaker_Status      638 non-null object\n",
      "Start_Scene         0 non-null object\n",
      "Text                638 non-null object\n",
      "UTTERANCE_NUMBER    638 non-null int64\n",
      "Year                638 non-null int64\n",
      "dtypes: int64(2), object(9)\n",
      "memory usage: 37.4+ KB\n"
     ]
    }
   ],
   "source": [
    "poc.info()"
   ]
  },
  {
   "cell_type": "code",
   "execution_count": 589,
   "metadata": {},
   "outputs": [],
   "source": [
    "poc.reset_index(drop = True, inplace = True)"
   ]
  },
  {
   "cell_type": "code",
   "execution_count": 590,
   "metadata": {},
   "outputs": [
    {
     "data": {
      "text/html": [
       "<div>\n",
       "<style scoped>\n",
       "    .dataframe tbody tr th:only-of-type {\n",
       "        vertical-align: middle;\n",
       "    }\n",
       "\n",
       "    .dataframe tbody tr th {\n",
       "        vertical-align: top;\n",
       "    }\n",
       "\n",
       "    .dataframe thead th {\n",
       "        text-align: right;\n",
       "    }\n",
       "</style>\n",
       "<table border=\"1\" class=\"dataframe\">\n",
       "  <thead>\n",
       "    <tr style=\"text-align: right;\">\n",
       "      <th></th>\n",
       "      <th>Disney_Period</th>\n",
       "      <th>Gender</th>\n",
       "      <th>Movie</th>\n",
       "      <th>Role</th>\n",
       "      <th>Song</th>\n",
       "      <th>Speaker</th>\n",
       "      <th>Speaker_Status</th>\n",
       "      <th>Start_Scene</th>\n",
       "      <th>Text</th>\n",
       "      <th>UTTERANCE_NUMBER</th>\n",
       "      <th>Year</th>\n",
       "    </tr>\n",
       "  </thead>\n",
       "  <tbody>\n",
       "    <tr>\n",
       "      <th>0</th>\n",
       "      <td>MID</td>\n",
       "      <td>NaN</td>\n",
       "      <td>Pocahontas</td>\n",
       "      <td>NaN</td>\n",
       "      <td>NaN</td>\n",
       "      <td>english chorus</td>\n",
       "      <td>NON-P</td>\n",
       "      <td>NaN</td>\n",
       "      <td>in sixteen hundred seven we sail the open sea ...</td>\n",
       "      <td>1</td>\n",
       "      <td>1995</td>\n",
       "    </tr>\n",
       "    <tr>\n",
       "      <th>1</th>\n",
       "      <td>MID</td>\n",
       "      <td>NaN</td>\n",
       "      <td>Pocahontas</td>\n",
       "      <td>NaN</td>\n",
       "      <td>NaN</td>\n",
       "      <td>englishman</td>\n",
       "      <td>NON-P</td>\n",
       "      <td>NaN</td>\n",
       "      <td>ready to hoist the cannon?</td>\n",
       "      <td>2</td>\n",
       "      <td>1995</td>\n",
       "    </tr>\n",
       "    <tr>\n",
       "      <th>2</th>\n",
       "      <td>MID</td>\n",
       "      <td>NaN</td>\n",
       "      <td>Pocahontas</td>\n",
       "      <td>NaN</td>\n",
       "      <td>NaN</td>\n",
       "      <td>englishman</td>\n",
       "      <td>NON-P</td>\n",
       "      <td>NaN</td>\n",
       "      <td>aye!</td>\n",
       "      <td>3</td>\n",
       "      <td>1995</td>\n",
       "    </tr>\n",
       "    <tr>\n",
       "      <th>3</th>\n",
       "      <td>MID</td>\n",
       "      <td>NaN</td>\n",
       "      <td>Pocahontas</td>\n",
       "      <td>NaN</td>\n",
       "      <td>NaN</td>\n",
       "      <td>lon</td>\n",
       "      <td>NON-P</td>\n",
       "      <td>NaN</td>\n",
       "      <td>hey, look! is that smith?</td>\n",
       "      <td>4</td>\n",
       "      <td>1995</td>\n",
       "    </tr>\n",
       "    <tr>\n",
       "      <th>4</th>\n",
       "      <td>MID</td>\n",
       "      <td>NaN</td>\n",
       "      <td>Pocahontas</td>\n",
       "      <td>NaN</td>\n",
       "      <td>NaN</td>\n",
       "      <td>ben</td>\n",
       "      <td>NON-P</td>\n",
       "      <td>NaN</td>\n",
       "      <td>that's him, all right, the old sea dog.</td>\n",
       "      <td>5</td>\n",
       "      <td>1995</td>\n",
       "    </tr>\n",
       "  </tbody>\n",
       "</table>\n",
       "</div>"
      ],
      "text/plain": [
       "  Disney_Period Gender       Movie Role Song         Speaker Speaker_Status  \\\n",
       "0           MID    NaN  Pocahontas  NaN  NaN  english chorus          NON-P   \n",
       "1           MID    NaN  Pocahontas  NaN  NaN      englishman          NON-P   \n",
       "2           MID    NaN  Pocahontas  NaN  NaN      englishman          NON-P   \n",
       "3           MID    NaN  Pocahontas  NaN  NaN             lon          NON-P   \n",
       "4           MID    NaN  Pocahontas  NaN  NaN             ben          NON-P   \n",
       "\n",
       "  Start_Scene                                               Text  \\\n",
       "0         NaN  in sixteen hundred seven we sail the open sea ...   \n",
       "1         NaN                        ready to hoist the cannon?    \n",
       "2         NaN                                              aye!    \n",
       "3         NaN                         hey, look! is that smith?    \n",
       "4         NaN           that's him, all right, the old sea dog.    \n",
       "\n",
       "   UTTERANCE_NUMBER  Year  \n",
       "0                 1  1995  \n",
       "1                 2  1995  \n",
       "2                 3  1995  \n",
       "3                 4  1995  \n",
       "4                 5  1995  "
      ]
     },
     "execution_count": 590,
     "metadata": {},
     "output_type": "execute_result"
    }
   ],
   "source": [
    "poc.head()"
   ]
  },
  {
   "cell_type": "markdown",
   "metadata": {},
   "source": [
    "### 1) Gender\n"
   ]
  },
  {
   "cell_type": "code",
   "execution_count": 592,
   "metadata": {},
   "outputs": [
    {
     "name": "stdout",
     "output_type": "stream",
     "text": [
      "27\n"
     ]
    },
    {
     "data": {
      "text/plain": [
       "array(['english chorus', 'englishman', 'lon', 'ben', 'thomas',\n",
       "       'john smith', 'english chorus ', 'englishman ', 'thomas ', 'ben ',\n",
       "       'lon ', 'ratcliffe  ', 'wiggins ', 'englishmen  ',\n",
       "       'englishmen & john smith', 'kekata ', 'powhatan ', 'nakoma ',\n",
       "       'pocahontas', 'grandmother willow', 'ratcliffe ', 'kocoum ',\n",
       "       'ben& lon ', 'all  ', 'wind spirit ', 'namontack  ',\n",
       "       'native americans '], dtype=object)"
      ]
     },
     "execution_count": 592,
     "metadata": {},
     "output_type": "execute_result"
    }
   ],
   "source": [
    "print(len(poc.Speaker.unique()))\n",
    "poc.Speaker.unique()"
   ]
  },
  {
   "cell_type": "code",
   "execution_count": 593,
   "metadata": {},
   "outputs": [
    {
     "name": "stderr",
     "output_type": "stream",
     "text": [
      "c:\\users\\cassi\\appdata\\local\\programs\\python\\python36-32\\lib\\site-packages\\pandas\\core\\generic.py:4405: SettingWithCopyWarning: \n",
      "A value is trying to be set on a copy of a slice from a DataFrame.\n",
      "Try using .loc[row_indexer,col_indexer] = value instead\n",
      "\n",
      "See the caveats in the documentation: http://pandas.pydata.org/pandas-docs/stable/indexing.html#indexing-view-versus-copy\n",
      "  self[name] = value\n"
     ]
    }
   ],
   "source": [
    "poc.Speaker = poc.Speaker.map(lambda x: x.strip())"
   ]
  },
  {
   "cell_type": "code",
   "execution_count": 594,
   "metadata": {},
   "outputs": [
    {
     "name": "stdout",
     "output_type": "stream",
     "text": [
      "21\n"
     ]
    },
    {
     "data": {
      "text/plain": [
       "array(['english chorus', 'englishman', 'lon', 'ben', 'thomas',\n",
       "       'john smith', 'ratcliffe', 'wiggins', 'englishmen',\n",
       "       'englishmen & john smith', 'kekata', 'powhatan', 'nakoma',\n",
       "       'pocahontas', 'grandmother willow', 'kocoum', 'ben& lon', 'all',\n",
       "       'wind spirit', 'namontack', 'native americans'], dtype=object)"
      ]
     },
     "execution_count": 594,
     "metadata": {},
     "output_type": "execute_result"
    }
   ],
   "source": [
    "print(len(poc.Speaker.unique()))\n",
    "poc.Speaker.unique()"
   ]
  },
  {
   "cell_type": "code",
   "execution_count": 597,
   "metadata": {},
   "outputs": [
    {
     "name": "stdout",
     "output_type": "stream",
     "text": [
      "18\n"
     ]
    }
   ],
   "source": [
    "poc_female = ['nakoma', 'pocahontas', 'grandmother willow']\n",
    "poc_male = ['english chorus', 'englishman', 'lon', 'ben', 'thomas', 'john smith', 'ratcliffe', 'wiggins',\n",
    "           'englishmen', 'englishmen & john smith', 'kekata', 'powhatan', 'kocoum', 'ben& lon', 'namontack']\n",
    "#neutral: all, wind spirit, native americans\n",
    "print(len(poc_female)+len(poc_male))"
   ]
  },
  {
   "cell_type": "code",
   "execution_count": 600,
   "metadata": {},
   "outputs": [
    {
     "name": "stderr",
     "output_type": "stream",
     "text": [
      "c:\\users\\cassi\\appdata\\local\\programs\\python\\python36-32\\lib\\site-packages\\ipykernel_launcher.py:2: SettingWithCopyWarning: \n",
      "A value is trying to be set on a copy of a slice from a DataFrame.\n",
      "Try using .loc[row_indexer,col_indexer] = value instead\n",
      "\n",
      "See the caveats in the documentation: http://pandas.pydata.org/pandas-docs/stable/indexing.html#indexing-view-versus-copy\n",
      "  \n"
     ]
    }
   ],
   "source": [
    "gender_func = partial(whichgen, female = poc_female, male=poc_male)\n",
    "poc[\"Gender\"] = poc.Speaker.map(gender_func)"
   ]
  },
  {
   "cell_type": "markdown",
   "metadata": {},
   "source": [
    "### 2) Roles\n",
    "Again, I'm conflicted here. Powhatan can be seen as both a protagonist and an antagonist from pocahontas' perspective"
   ]
  },
  {
   "cell_type": "code",
   "execution_count": 603,
   "metadata": {},
   "outputs": [
    {
     "data": {
      "text/plain": [
       "array(['english chorus', 'englishman', 'lon', 'ben', 'thomas',\n",
       "       'john smith', 'ratcliffe', 'wiggins', 'englishmen',\n",
       "       'englishmen & john smith', 'kekata', 'powhatan', 'nakoma',\n",
       "       'pocahontas', 'grandmother willow', 'kocoum', 'ben& lon', 'all',\n",
       "       'wind spirit', 'namontack', 'native americans'], dtype=object)"
      ]
     },
     "execution_count": 603,
     "metadata": {},
     "output_type": "execute_result"
    }
   ],
   "source": [
    "poc.Speaker.unique()"
   ]
  },
  {
   "cell_type": "code",
   "execution_count": 604,
   "metadata": {},
   "outputs": [],
   "source": [
    "poc_pro = ['pocahontas', 'john smith']\n",
    "poc_ant = ['ratcliffe', 'powhatan']\n",
    "poc_helper = ['nakoma', 'grandmother willow']"
   ]
  },
  {
   "cell_type": "code",
   "execution_count": 605,
   "metadata": {},
   "outputs": [
    {
     "name": "stderr",
     "output_type": "stream",
     "text": [
      "c:\\users\\cassi\\appdata\\local\\programs\\python\\python36-32\\lib\\site-packages\\ipykernel_launcher.py:2: SettingWithCopyWarning: \n",
      "A value is trying to be set on a copy of a slice from a DataFrame.\n",
      "Try using .loc[row_indexer,col_indexer] = value instead\n",
      "\n",
      "See the caveats in the documentation: http://pandas.pydata.org/pandas-docs/stable/indexing.html#indexing-view-versus-copy\n",
      "  \n"
     ]
    }
   ],
   "source": [
    "role_func = partial(whichrole, pro = poc_pro, ant = poc_ant, helper = poc_helper)\n",
    "poc[\"Role\"] = poc.Speaker.map(role_func)"
   ]
  },
  {
   "cell_type": "markdown",
   "metadata": {},
   "source": [
    "### 3) Songs\n",
    "Songs in this movie include: Virginia Company, Steady as the Beating Drum, Just Around the River Bend, Mine Mine Mine, Colors of the Wind, Listen with your Heart, Savages, If I Never Knew You"
   ]
  },
  {
   "cell_type": "code",
   "execution_count": 655,
   "metadata": {},
   "outputs": [
    {
     "name": "stdout",
     "output_type": "stream",
     "text": [
      "virginia\n",
      "                     Speaker  \\\n",
      "0             english chorus   \n",
      "9             english chorus   \n",
      "60   englishmen & john smith   \n",
      "63                englishmen   \n",
      "172                ratcliffe   \n",
      "\n",
      "                                                  Text  \n",
      "0    in sixteen hundred seven we sail the open sea ...  \n",
      "9    on the beaches of virginny there's diamonds li...  \n",
      "60   we're stalwart men and bold of the virginia co...  \n",
      "63   it's glory, god and gold and the virginia comp...  \n",
      "172  why, of course! let's not forget what the span...  \n",
      "\n",
      "\n",
      "steady\n",
      "        Speaker                                               Text\n",
      "19   john smith  steady on the course. it's all right, thomas. ...\n",
      "102    powhatan  pocahontas, come with me. you are the daughter...\n",
      "103  pocahontas  he wants me to be steady. . . like the river. ...\n",
      "151         ben  keep it taut, lads, keep it taut! steady, stea...\n",
      "297         lon                                   steady, steady! \n",
      "\n",
      "\n",
      "just around\n",
      "        Speaker                                               Text\n",
      "103  pocahontas  he wants me to be steady. . . like the river. ...\n",
      "\n",
      "\n",
      "mine, mine\n",
      "       Speaker                                               Text\n",
      "172  ratcliffe  why, of course! let's not forget what the span...\n",
      "179  ratcliffe  there'll be heaps of it and i'll be on top of ...\n",
      "\n",
      "\n",
      "of the wind\n",
      "        Speaker                                               Text\n",
      "287  pocahontas  what you mean is, not like you. you think i'm ...\n",
      "\n",
      "\n",
      "listen with your heart\n",
      "                Speaker                                               Text\n",
      "124  grandmother willow  que que natora you will understand listen with...\n",
      "126  grandmother willow  listen with your heart you will understand win...\n",
      "206  grandmother willow  listen with your heart you will understand let...\n",
      "208  grandmother willow        listen with your heart you will understand \n",
      "\n",
      "\n",
      "savages, savages\n",
      "              Speaker                                               Text\n",
      "555        englishmen                                  savages, savages \n",
      "557        englishmen                                  savages, savages \n",
      "559        englishmen  they're savages, savages dirty shrieking devil...\n",
      "561            kekata  beneath that milky hide there's emptiness insi...\n",
      "562          powhatan  barely even human native americans savages, sa...\n",
      "566  native americans  they're savages, savages first we deal with th...\n",
      "567               all                                  savages, savages \n",
      "569               all                                  savages, savages \n",
      "571               all  savages, savages barely even human now we soun...\n",
      "588        pocahontas  please don't let it be too late english & nati...\n",
      "589        pocahontas  how loud are the drums of war english & native...\n",
      "\n",
      "\n",
      "if i never knew\n",
      "        Speaker                                               Text\n",
      "524  john smith  pocahontas, look at me. i'd rather die tomorro...\n",
      "525  pocahontas  i thought our love would be so beautiful someh...\n",
      "527  pocahontas                         if i never knew this love \n",
      "538  pocahontas      & john smithlost forever if i never knew you \n",
      "\n",
      "\n"
     ]
    }
   ],
   "source": [
    "poc_song_words = ['virginia','steady', 'just around', 'mine, mine','of the wind', 'listen with your heart','savages, savages',\n",
    "                 'if i never knew']\n",
    "for line in poc_song_words:\n",
    "    print(line)\n",
    "    print(poc[[\"Speaker\", \"Text\"]][poc.Text.str.contains(line, regex = False)])\n",
    "    print('\\n')"
   ]
  },
  {
   "cell_type": "code",
   "execution_count": 614,
   "metadata": {},
   "outputs": [
    {
     "name": "stdout",
     "output_type": "stream",
     "text": [
      "in sixteen hundred seven we sail the open sea for glory, god and gold and the virginia company for the new world is like heaven and we'll all be rich and free or so we have been told by the virginia company so we have been told by the virginia company for glory, god and gold and the virginia company \n",
      "\n",
      "\n",
      "ready to hoist the cannon? \n",
      "\n",
      "\n",
      "aye! \n",
      "\n",
      "\n",
      "hey, look! is that smith? \n",
      "\n",
      "\n",
      "that's him, all right, the old sea dog. \n",
      "\n",
      "\n",
      "captain john smith! i've heard some amazing stories about him. \n",
      "\n",
      "\n",
      "are you coming on this voyage, too? \n",
      "\n",
      "\n",
      "‘course he is, you halfwit. you can't fight indians without john smith. \n",
      "\n",
      "\n",
      "that's right. i'm not about to let you boys have all the fun. \n",
      "\n",
      "\n",
      "on the beaches of virginny there's diamonds like debris there's silver rivers flow and gold you pick right off a tree with a nugget for my winnie and another one for me and all the rest'll go to the virginia company it's glory, god and gold and the virginia company \n",
      "\n",
      "\n"
     ]
    }
   ],
   "source": [
    "#Virginia Company\n",
    "#0, 9\n",
    "for line in poc.Text.iloc[:10]:\n",
    "    print(line)\n",
    "    print('\\n')"
   ]
  },
  {
   "cell_type": "code",
   "execution_count": 617,
   "metadata": {},
   "outputs": [
    {
     "name": "stdout",
     "output_type": "stream",
     "text": [
      "we'll kill ourselves an injun \n",
      "\n",
      "\n",
      "or maybe two or three \n",
      "\n",
      "\n",
      "we're stalwart men and bold of the virginia company \n",
      "\n",
      "\n",
      "what do you suppose the new world will look like? \n",
      "\n",
      "\n",
      "like all the others, i suppose. i've seen hundreds of new worlds, thomas. what could possibly be different about this one? \n",
      "\n",
      "\n",
      "it's glory, god and gold and the virginia company \n",
      "\n",
      "\n",
      "kama wingapo powhatan. \n",
      "\n",
      "\n"
     ]
    }
   ],
   "source": [
    "#58-60, 63\n",
    "for line in poc.Text.iloc[58:65]:\n",
    "    print(line)\n",
    "    print('\\n')"
   ]
  },
  {
   "cell_type": "code",
   "execution_count": 618,
   "metadata": {},
   "outputs": [],
   "source": [
    "poc_songs = [0, 9, 58, 59, 60, 63]"
   ]
  },
  {
   "cell_type": "code",
   "execution_count": 625,
   "metadata": {},
   "outputs": [],
   "source": [
    "#Steady as the Beating Drum\n",
    "#turns out, the song isn't in this dataframe"
   ]
  },
  {
   "cell_type": "code",
   "execution_count": 626,
   "metadata": {},
   "outputs": [
    {
     "name": "stdout",
     "output_type": "stream",
     "text": [
      "pocahontas, come with me. you are the daughter of the chief. it is time to take your place among our people. even the wild mountain stream must someday join the big river. as the river cuts his path though the river's proud and strong he will choose the smoothest course that's why rivers live so long they're steady as the steady beating drum your mother wore this for our wedding. it was her dream to see you wear it at your own. it suits you. \n",
      "\n",
      "\n",
      "he wants me to be steady. . . like the river. but it's not steady at all. what i love most about rivers is you can't step in the same river twice the water's always changing, always flowing but people, i guess, can't live like that we all must pay a price to be safe we lose our chance of ever knowing what's around the riverbend waiting just around the riverbend i look once more just about the riverbend beyond the shore where the gulls fly free don't know what for what i dream the day might send just around the riverbend for me coming for me i feel it there beyond those trees or right behind these waterfalls can i ignore that sound of distant drumming? for a handsome, sturdy husband who builds handsome, sturdy walls and never dreams that something might be coming just around the riverbend just around the riverbend i look once more just around the riverbend beyond the shore somewhere past the sea don't know what for why do all my dreams extend just around the riverbend just around the riverbend should i choose the smoothest course? steady as the beating drum should i marry kocoum? is all my dreaming at an end? or do you still wait for me, dream giver just around the riverbend? \n",
      "\n",
      "\n",
      "is that my pocahontas? \n",
      "\n",
      "\n"
     ]
    }
   ],
   "source": [
    "#Just Around the River Bend\n",
    "#102 is partially sung, but not enough to deem it a song line\n",
    "#103\n",
    "for line in poc.Text.iloc[102:105]:\n",
    "    print(line)\n",
    "    print('\\n')"
   ]
  },
  {
   "cell_type": "code",
   "execution_count": 628,
   "metadata": {},
   "outputs": [],
   "source": [
    "poc_songs.append(103)"
   ]
  },
  {
   "cell_type": "code",
   "execution_count": 630,
   "metadata": {},
   "outputs": [
    {
     "name": "stdout",
     "output_type": "stream",
     "text": [
      "well, when i say uncivilised, what i mean is – is. . . \n",
      "\n",
      "\n",
      "what you mean is, not like you. you think i'm an ignorant savage and you've been so many places, i guess it must be so but still i cannot see if the savage one is me how can there be so much that you don't know? you don't know you think you own whatever land you land on the earth is just a dead thing you can claim but i know every rock and tree and creature has a life, has a spirit, has a name you think the only people who are people are the people who look and think like you but if you walk the footsteps of a stranger you'll learn things you never knew you never knew have you ever heard the wolf cry to the bluecorn moon? or asked the grinning bobcat why he grinned? can you sing with all the voices of the mountain? can you paint with all the colours of the wind? can you paint with all the colours of the wind? come run the hidden pine trails of the forest come taste the sunsweet berries of the earth come roll in all the riches all around you and for once, never wonder what they're worth the rainstorm and the river are my brothers the heron and the otter are my friends and we are all connected to each other in a circle, in a hoop that never ends how high does the sycamore grow? if you cut it down, then you'll never know and you'll never hear the wolf cry to the bluecorn moon for whether we are white or copperskinned we need to sing with all the voices of the mountain we need to paint with all the colours of the wind you can own the earth and still all you'll own is earth until you can paint with all the colours of the wind \n",
      "\n",
      "\n",
      "what is it? \n",
      "\n",
      "\n"
     ]
    }
   ],
   "source": [
    "#Colors of the Wind\n",
    "#287\n",
    "for line in poc.Text.iloc[286:289]:\n",
    "    print(line)\n",
    "    print('\\n')"
   ]
  },
  {
   "cell_type": "code",
   "execution_count": 631,
   "metadata": {},
   "outputs": [],
   "source": [
    "poc_songs.append(287)"
   ]
  },
  {
   "cell_type": "code",
   "execution_count": 633,
   "metadata": {},
   "outputs": [
    {
     "name": "stdout",
     "output_type": "stream",
     "text": [
      "i don't understand. \n",
      "\n",
      "\n",
      "que que natora you will understand listen with your heart you will understand let it break upon you like a wave upon the sand \n",
      "\n",
      "\n",
      "it's saying something's coming! strange clouds? \n",
      "\n",
      "\n",
      "listen with your heart you will understand wind spirits you will understand \n",
      "\n",
      "\n",
      "what do you see? \n",
      "\n",
      "\n",
      "clouds. strange clouds. \n",
      "\n",
      "\n",
      "look at it, wiggins. an entire new world chock full of gold, just waiting for me. \n",
      "\n",
      "\n"
     ]
    }
   ],
   "source": [
    "#Listen with your Heart\n",
    "#124, 126\n",
    "for line in poc.Text.iloc[123:130]:\n",
    "    print(line)\n",
    "    print('\\n')"
   ]
  },
  {
   "cell_type": "code",
   "execution_count": 636,
   "metadata": {},
   "outputs": [
    {
     "name": "stdout",
     "output_type": "stream",
     "text": [
      "mattaque natorath. \n",
      "\n",
      "\n",
      "you don't understand a word i'm saying, do you? it's all right. \n",
      "\n",
      "\n",
      "ay ay ay na ay ay na \n",
      "\n",
      "\n",
      "listen with your heart you will understand let it break upon you like a wave upon the sand \n",
      "\n",
      "\n",
      "who are you? \n",
      "\n",
      "\n",
      "listen with your heart you will understand \n",
      "\n",
      "\n",
      "pocahontas. \n",
      "\n",
      "\n"
     ]
    }
   ],
   "source": [
    "#205, 206, 208\n",
    "for line in poc.Text.iloc[203:210]:\n",
    "    print(line)\n",
    "    print('\\n')"
   ]
  },
  {
   "cell_type": "code",
   "execution_count": 638,
   "metadata": {},
   "outputs": [
    {
     "data": {
      "text/plain": [
       "205         ay ay ay na ay ay na \n",
       "366    ay ay ay na ay ay na. . . \n",
       "Name: Text, dtype: object"
      ]
     },
     "execution_count": 638,
     "metadata": {},
     "output_type": "execute_result"
    }
   ],
   "source": [
    "#the wind spirit only vocalizes\n",
    "poc.Text[poc.Speaker == 'wind spirit']"
   ]
  },
  {
   "cell_type": "code",
   "execution_count": 639,
   "metadata": {},
   "outputs": [],
   "source": [
    "poc_songs.extend([124, 126, 205, 206, 208, 266])"
   ]
  },
  {
   "cell_type": "code",
   "execution_count": 642,
   "metadata": {},
   "outputs": [
    {
     "name": "stdout",
     "output_type": "stream",
     "text": [
      "filthy beasts! \n",
      "\n",
      "\n",
      "it's perfect, wiggins! i couldn't have planned this better myself. the gold is as good as mine! \n",
      "\n",
      "\n",
      "we've got to save him! he'd do the same for any of us. \n",
      "\n",
      "\n",
      "thomasis right! we've got to do something. \n",
      "\n",
      "\n",
      "and so we shall! i told you those savages couldn't be trusted. smith tried to befriend them, and look what they've done to him. but now i say it's time to rescue our courageous comrade. at daybreak, we attack! what can you expect from filthy little heathens here's what you get when races are diverse their skin's a hellish red they're only good when dead they're vermin as they said and worse they're \n",
      "\n",
      "\n",
      "savages, savages \n",
      "\n",
      "\n",
      "barely even human \n",
      "\n",
      "\n",
      "savages, savages \n",
      "\n",
      "\n",
      "drive them to our shore they're not like you and me which means they must be evil we must sound the drums of war \n",
      "\n",
      "\n",
      "they're savages, savages dirty shrieking devils now we sound the drums of war \n",
      "\n",
      "\n",
      "this is what we feared the paleface is a demon the only thing they feel at all is greed \n",
      "\n",
      "\n",
      "beneath that milky hide there's emptiness inside native american warriors i wonder if they even bleed native americans they're savages, savages \n",
      "\n",
      "\n",
      "barely even human native americans savages, savages \n",
      "\n",
      "\n",
      "killers at the core \n",
      "\n",
      "\n",
      "they're different from us which means they can't be trusted \n",
      "\n",
      "\n",
      "we must sound the drums of war \n",
      "\n",
      "\n",
      "they're savages, savages first we deal with this one then we sound the drums of war \n",
      "\n",
      "\n",
      "savages, savages \n",
      "\n",
      "\n",
      "let's go get a few men \n",
      "\n",
      "\n",
      "savages, savages \n",
      "\n",
      "\n",
      "now it's up to you, men \n",
      "\n",
      "\n",
      "savages, savages barely even human now we sound the drums of war \n",
      "\n",
      "\n",
      "they're going to kill him at sunrise, grandmother willow. \n",
      "\n",
      "\n",
      "you have to stop them. \n",
      "\n",
      "\n",
      "i can't. \n",
      "\n",
      "\n"
     ]
    }
   ],
   "source": [
    "#Savages\n",
    "#554-571\n",
    "for line in poc.Text.iloc[550:575]:\n",
    "    print(line)\n",
    "    print('\\n')"
   ]
  },
  {
   "cell_type": "code",
   "execution_count": 646,
   "metadata": {},
   "outputs": [],
   "source": [
    "poc_songs.extend(list(range(554, 572)))"
   ]
  },
  {
   "cell_type": "code",
   "execution_count": 645,
   "metadata": {},
   "outputs": [
    {
     "name": "stdout",
     "output_type": "stream",
     "text": [
      "sunrise! \n",
      "\n",
      "\n",
      "it's not too late, child. let the spirits of the earth guide you! you know your path, child. . . now follow it! \n",
      "\n",
      "\n",
      "this will be the day let's go, men! \n",
      "\n",
      "\n",
      "this will be the morning bring out the prisoner! english & native americans we will see them dying in the dust \n",
      "\n",
      "\n",
      "i don't know what i can do still i know i've got to try english & native americans now we make them pay \n",
      "\n",
      "\n",
      "eagle help my feet to fly english & native americans now without a warning \n",
      "\n",
      "\n",
      "mountain, help my heart be great english & native americans now we leave them blood and bone and dust \n",
      "\n",
      "\n",
      "spirits of the earth and sky english & native americans it's them or us \n",
      "\n",
      "\n",
      "please don't let it be too late english & native americans they're just a bunch of filthy, stinking savages, savages demons, devils, kill them savages, savages what are we waiting for? destroy their evil race until there's not a trace left \n",
      "\n",
      "\n",
      "how loud are the drums of war english & native americans we will sound the drums of war savages, savages now we sound the drums of war now we see what comes of trying to be chums \n",
      "\n",
      "\n",
      "is the death of all i love carried in the drumming of english & native americans war \n",
      "\n",
      "\n",
      "no! if you kill him you'll have to kill me, too. \n",
      "\n",
      "\n",
      "daughter, stand back! \n",
      "\n",
      "\n"
     ]
    }
   ],
   "source": [
    "#582 - 590\n",
    "for line in poc.Text.iloc[580:593]:\n",
    "    print(line)\n",
    "    print('\\n')"
   ]
  },
  {
   "cell_type": "code",
   "execution_count": 647,
   "metadata": {},
   "outputs": [],
   "source": [
    "poc_songs.extend(list(range(582, 591)))"
   ]
  },
  {
   "cell_type": "code",
   "execution_count": 648,
   "metadata": {},
   "outputs": [
    {
     "name": "stdout",
     "output_type": "stream",
     "text": [
      "it would've been better if we'd never met, none of this would've happened. \n",
      "\n",
      "\n",
      "pocahontas, look at me. i'd rather die tomorrow than live a hundred years without knowing you. if i never knew you if i never felt this love i would have no inkling of how precious life can be if i never held you i would never have a clue how at last i'd find in you the missing part of me in this world so full of fear full of rage and lies i can see the truth so clear in your eyes so dry your eyes and i'm so grateful to you i'd have lived my whole life through lost forever, if i never knew you \n",
      "\n",
      "\n",
      "i thought our love would be so beautiful somehow we'd make the whole world bright i never knew that fear and hate could be so strong all they'd leave us were these whispers in the night but still my heart is saying we were right for if i never knew you \n",
      "\n",
      "\n",
      "there's no moment i regret \n",
      "\n",
      "\n",
      "if i never knew this love \n",
      "\n",
      "\n",
      "since the moment that we met \n",
      "\n",
      "\n",
      "i would have no inkling of \n",
      "\n",
      "\n",
      "if our time has gone too fast \n",
      "\n",
      "\n",
      "how precious life can be \n",
      "\n",
      "\n",
      "i've lived at last \n",
      "\n",
      "\n",
      "pocahontas? \n",
      "\n",
      "\n",
      "i can't leave you. \n",
      "\n",
      "\n",
      "you never will. no matter what happens to me, i'll always be with you. forever. \n",
      "\n",
      "\n",
      "and i'm so grateful to you i'd have lived my whole life through empty as the sky \n",
      "\n",
      "\n",
      "never knowing why \n",
      "\n",
      "\n",
      "& john smithlost forever if i never knew you \n",
      "\n",
      "\n",
      "help! somebody, help! help! help! \n",
      "\n",
      "\n",
      "easy, lad. what is it? \n",
      "\n",
      "\n"
     ]
    }
   ],
   "source": [
    "#If I never knew you\n",
    "#524-532, 536-538\n",
    "for line in poc.Text.iloc[523:541]:\n",
    "    print(line)\n",
    "    print('\\n')"
   ]
  },
  {
   "cell_type": "code",
   "execution_count": 650,
   "metadata": {},
   "outputs": [],
   "source": [
    "poc_songs.extend(list(range(524,533)))"
   ]
  },
  {
   "cell_type": "code",
   "execution_count": 651,
   "metadata": {},
   "outputs": [],
   "source": [
    "poc_songs.extend([536, 537, 538])"
   ]
  },
  {
   "cell_type": "code",
   "execution_count": 660,
   "metadata": {},
   "outputs": [
    {
     "name": "stdout",
     "output_type": "stream",
     "text": [
      "you men build the fort. the rest of you. . . break out the shovels! it's time to start digging. \n",
      "\n",
      "\n",
      "digging? \n",
      "\n",
      "\n",
      "why, of course! let's not forget what the spanish found when they came to the new world. gold, mountains of it. why, for years they've been ravaging the new world of its most precious resources but now. . . it's our turn. the gold of cortéz the jewels of pizarro will seem like mere trinkets by this time tomorrow the gold we find here will dwarf them by far oh, with all ya got in ya, boys dig up virginia, boys mine, boys, mine, every mountain and dig, boys, dig ‘til ya drop grab a pick, boys quick, boys shove in a shovel uncover those lovely pebbles that sparkle and shine it's gold and it's mine, mine, mine \n",
      "\n",
      "\n",
      "dig and dig and dig and diggety dig and dig and dig and diggetydig. . . \n",
      "\n",
      "\n",
      "hey nonny nonny ho nonny nonny \n",
      "\n",
      "\n",
      "ooh, how i love it \n",
      "\n",
      "\n",
      "hey nonny nonny ho nonny nonny \n",
      "\n",
      "\n",
      "riches for cheap \n",
      "\n",
      "\n",
      "hey nonny nonny ho nonny nonny \n",
      "\n",
      "\n",
      "there'll be heaps of it and i'll be on top of the heap my rivals back home it's not that i'm bitter but think how they'll squirm when they see how i glitter the ladies in court will be all atwitter the king will reward me he'll knight me no! lord me it's mine, mine, mine for the taking it's mine, boys mine me that gold with those nuggets dug it's glory they'll give me my dear friend king jimmy will probably build me a shrine when all of the gold is mine \n",
      "\n",
      "\n",
      "dig and dig and dig and diggety dig and dig and dig and diggetydig \n",
      "\n",
      "\n",
      "all of my life i have searched for land like this one a wilder more challenging country i couldn't design hundreds of dangers await and i don't plan to miss one in a land i can claim, a land i can tame the greatest adventure is mine \n",
      "\n",
      "\n",
      "keep on working, lads \n",
      "\n",
      "\n",
      "mine \n",
      "\n",
      "\n",
      "don't be shirking, lads mine, boys, mine mine me that gold \n",
      "\n",
      "\n",
      "dig, dig, and diggety \n",
      "\n",
      "\n",
      "beautiful gold \n",
      "\n",
      "\n",
      "dig, dig, for that gold make this island my land \n",
      "\n",
      "\n",
      "make the mounds big, boys i'd help you to dig, boys but i've got this crick in me spine \n",
      "\n",
      "\n",
      "this land we behold \n",
      "\n",
      "\n",
      "this beauty untold \n",
      "\n",
      "\n",
      "a man can be bold \n",
      "\n",
      "\n",
      "it all can be sold \n",
      "\n",
      "\n",
      "so go for the gold we know which is here \n",
      "\n",
      "\n",
      "is \n",
      "\n",
      "\n",
      "all the riches here \n",
      "\n",
      "\n",
      "mine \n",
      "\n",
      "\n",
      "from this minute \n",
      "\n",
      "\n",
      "mine \n",
      "\n",
      "\n",
      "this land and what's in it is \n",
      "\n",
      "\n",
      "mine \n",
      "\n",
      "\n",
      "dig and dig and diggetydig hey nonny nonny, it's mine \n",
      "\n",
      "\n",
      "no, wait! please! please! don't run off. it's all right, i'm not gonna hurt you. here, let me help you out of there. \n",
      "\n",
      "\n",
      "mattaque natorath. \n",
      "\n",
      "\n",
      "you don't understand a word i'm saying, do you? it's all right. \n",
      "\n",
      "\n"
     ]
    }
   ],
   "source": [
    "#Mine, Mine, Mine\n",
    "#172-200\n",
    "for line in poc.Text.iloc[170:205]:\n",
    "    print(line)\n",
    "    print('\\n')"
   ]
  },
  {
   "cell_type": "code",
   "execution_count": 665,
   "metadata": {},
   "outputs": [],
   "source": [
    "poc_songs.extend(list(range(172,201)))"
   ]
  },
  {
   "cell_type": "code",
   "execution_count": 666,
   "metadata": {},
   "outputs": [
    {
     "data": {
      "text/plain": [
       "[0, 9, 58, 59, 60, 63, 103, 287, 124, 126, 205, 206, 208, 266, 554, 555, 556, 557, 558, 559, 560, 561, 562, 563, 564, 565, 566, 567, 568, 569, 570, 571, 582, 583, 584, 585, 586, 587, 588, 589, 590, 524, 525, 526, 527, 528, 529, 530, 531, 532, 536, 537, 538, 172, 173, 174, 175, 176, 177, 178, 179, 180, 181, 182, 183, 184, 185, 186, 187, 188, 189, 190, 191, 192, 193, 194, 195, 196, 197, 198, 199, 200]"
      ]
     },
     "execution_count": 666,
     "metadata": {},
     "output_type": "execute_result"
    }
   ],
   "source": [
    "poc_songs"
   ]
  },
  {
   "cell_type": "code",
   "execution_count": 667,
   "metadata": {},
   "outputs": [
    {
     "name": "stderr",
     "output_type": "stream",
     "text": [
      "c:\\users\\cassi\\appdata\\local\\programs\\python\\python36-32\\lib\\site-packages\\ipykernel_launcher.py:2: SettingWithCopyWarning: \n",
      "A value is trying to be set on a copy of a slice from a DataFrame.\n",
      "Try using .loc[row_indexer,col_indexer] = value instead\n",
      "\n",
      "See the caveats in the documentation: http://pandas.pydata.org/pandas-docs/stable/indexing.html#indexing-view-versus-copy\n",
      "  \n"
     ]
    }
   ],
   "source": [
    "song_func = partial(is_dialogue, song = poc_songs)\n",
    "poc[\"Song\"] = poc.index.map(song_func)"
   ]
  },
  {
   "cell_type": "code",
   "execution_count": 668,
   "metadata": {},
   "outputs": [
    {
     "name": "stdout",
     "output_type": "stream",
     "text": [
      "<class 'pandas.core.frame.DataFrame'>\n",
      "RangeIndex: 638 entries, 0 to 637\n",
      "Data columns (total 11 columns):\n",
      "Disney_Period       638 non-null object\n",
      "Gender              638 non-null object\n",
      "Movie               638 non-null object\n",
      "Role                638 non-null object\n",
      "Song                638 non-null object\n",
      "Speaker             638 non-null object\n",
      "Speaker_Status      638 non-null object\n",
      "Start_Scene         0 non-null object\n",
      "Text                638 non-null object\n",
      "UTTERANCE_NUMBER    638 non-null int64\n",
      "Year                638 non-null int64\n",
      "dtypes: int64(2), object(9)\n",
      "memory usage: 32.4+ KB\n"
     ]
    }
   ],
   "source": [
    "poc.info()"
   ]
  },
  {
   "cell_type": "code",
   "execution_count": 669,
   "metadata": {},
   "outputs": [
    {
     "data": {
      "text/html": [
       "<div>\n",
       "<style scoped>\n",
       "    .dataframe tbody tr th:only-of-type {\n",
       "        vertical-align: middle;\n",
       "    }\n",
       "\n",
       "    .dataframe tbody tr th {\n",
       "        vertical-align: top;\n",
       "    }\n",
       "\n",
       "    .dataframe thead th {\n",
       "        text-align: right;\n",
       "    }\n",
       "</style>\n",
       "<table border=\"1\" class=\"dataframe\">\n",
       "  <thead>\n",
       "    <tr style=\"text-align: right;\">\n",
       "      <th></th>\n",
       "      <th>Disney_Period</th>\n",
       "      <th>Gender</th>\n",
       "      <th>Movie</th>\n",
       "      <th>Role</th>\n",
       "      <th>Song</th>\n",
       "      <th>Speaker</th>\n",
       "      <th>Speaker_Status</th>\n",
       "      <th>Start_Scene</th>\n",
       "      <th>Text</th>\n",
       "      <th>UTTERANCE_NUMBER</th>\n",
       "      <th>Year</th>\n",
       "    </tr>\n",
       "  </thead>\n",
       "  <tbody>\n",
       "    <tr>\n",
       "      <th>0</th>\n",
       "      <td>MID</td>\n",
       "      <td>m</td>\n",
       "      <td>Pocahontas</td>\n",
       "      <td>N</td>\n",
       "      <td>S</td>\n",
       "      <td>english chorus</td>\n",
       "      <td>NON-P</td>\n",
       "      <td>NaN</td>\n",
       "      <td>in sixteen hundred seven we sail the open sea ...</td>\n",
       "      <td>1</td>\n",
       "      <td>1995</td>\n",
       "    </tr>\n",
       "    <tr>\n",
       "      <th>1</th>\n",
       "      <td>MID</td>\n",
       "      <td>m</td>\n",
       "      <td>Pocahontas</td>\n",
       "      <td>N</td>\n",
       "      <td>D</td>\n",
       "      <td>englishman</td>\n",
       "      <td>NON-P</td>\n",
       "      <td>NaN</td>\n",
       "      <td>ready to hoist the cannon?</td>\n",
       "      <td>2</td>\n",
       "      <td>1995</td>\n",
       "    </tr>\n",
       "    <tr>\n",
       "      <th>2</th>\n",
       "      <td>MID</td>\n",
       "      <td>m</td>\n",
       "      <td>Pocahontas</td>\n",
       "      <td>N</td>\n",
       "      <td>D</td>\n",
       "      <td>englishman</td>\n",
       "      <td>NON-P</td>\n",
       "      <td>NaN</td>\n",
       "      <td>aye!</td>\n",
       "      <td>3</td>\n",
       "      <td>1995</td>\n",
       "    </tr>\n",
       "    <tr>\n",
       "      <th>3</th>\n",
       "      <td>MID</td>\n",
       "      <td>m</td>\n",
       "      <td>Pocahontas</td>\n",
       "      <td>N</td>\n",
       "      <td>D</td>\n",
       "      <td>lon</td>\n",
       "      <td>NON-P</td>\n",
       "      <td>NaN</td>\n",
       "      <td>hey, look! is that smith?</td>\n",
       "      <td>4</td>\n",
       "      <td>1995</td>\n",
       "    </tr>\n",
       "    <tr>\n",
       "      <th>4</th>\n",
       "      <td>MID</td>\n",
       "      <td>m</td>\n",
       "      <td>Pocahontas</td>\n",
       "      <td>N</td>\n",
       "      <td>D</td>\n",
       "      <td>ben</td>\n",
       "      <td>NON-P</td>\n",
       "      <td>NaN</td>\n",
       "      <td>that's him, all right, the old sea dog.</td>\n",
       "      <td>5</td>\n",
       "      <td>1995</td>\n",
       "    </tr>\n",
       "  </tbody>\n",
       "</table>\n",
       "</div>"
      ],
      "text/plain": [
       "  Disney_Period Gender       Movie Role Song         Speaker Speaker_Status  \\\n",
       "0           MID      m  Pocahontas    N    S  english chorus          NON-P   \n",
       "1           MID      m  Pocahontas    N    D      englishman          NON-P   \n",
       "2           MID      m  Pocahontas    N    D      englishman          NON-P   \n",
       "3           MID      m  Pocahontas    N    D             lon          NON-P   \n",
       "4           MID      m  Pocahontas    N    D             ben          NON-P   \n",
       "\n",
       "  Start_Scene                                               Text  \\\n",
       "0         NaN  in sixteen hundred seven we sail the open sea ...   \n",
       "1         NaN                        ready to hoist the cannon?    \n",
       "2         NaN                                              aye!    \n",
       "3         NaN                         hey, look! is that smith?    \n",
       "4         NaN           that's him, all right, the old sea dog.    \n",
       "\n",
       "   UTTERANCE_NUMBER  Year  \n",
       "0                 1  1995  \n",
       "1                 2  1995  \n",
       "2                 3  1995  \n",
       "3                 4  1995  \n",
       "4                 5  1995  "
      ]
     },
     "execution_count": 669,
     "metadata": {},
     "output_type": "execute_result"
    }
   ],
   "source": [
    "poc.head()"
   ]
  },
  {
   "cell_type": "markdown",
   "metadata": {},
   "source": [
    "## Mulan"
   ]
  },
  {
   "cell_type": "code",
   "execution_count": 15,
   "metadata": {},
   "outputs": [],
   "source": [
    "mulan = disney[disney.Movie == \"Mulan\"]"
   ]
  },
  {
   "cell_type": "code",
   "execution_count": 16,
   "metadata": {},
   "outputs": [
    {
     "data": {
      "text/html": [
       "<div>\n",
       "<style scoped>\n",
       "    .dataframe tbody tr th:only-of-type {\n",
       "        vertical-align: middle;\n",
       "    }\n",
       "\n",
       "    .dataframe tbody tr th {\n",
       "        vertical-align: top;\n",
       "    }\n",
       "\n",
       "    .dataframe thead th {\n",
       "        text-align: right;\n",
       "    }\n",
       "</style>\n",
       "<table border=\"1\" class=\"dataframe\">\n",
       "  <thead>\n",
       "    <tr style=\"text-align: right;\">\n",
       "      <th></th>\n",
       "      <th>Disney_Period</th>\n",
       "      <th>Gender</th>\n",
       "      <th>Movie</th>\n",
       "      <th>Role</th>\n",
       "      <th>Song</th>\n",
       "      <th>Speaker</th>\n",
       "      <th>Speaker_Status</th>\n",
       "      <th>Start_Scene</th>\n",
       "      <th>Text</th>\n",
       "      <th>UTTERANCE_NUMBER</th>\n",
       "      <th>Year</th>\n",
       "    </tr>\n",
       "  </thead>\n",
       "  <tbody>\n",
       "    <tr>\n",
       "      <th>3974</th>\n",
       "      <td>MID</td>\n",
       "      <td>NaN</td>\n",
       "      <td>Mulan</td>\n",
       "      <td>NaN</td>\n",
       "      <td>NaN</td>\n",
       "      <td>soldier</td>\n",
       "      <td>NON-P</td>\n",
       "      <td>NaN</td>\n",
       "      <td>ah!</td>\n",
       "      <td>1</td>\n",
       "      <td>1998</td>\n",
       "    </tr>\n",
       "    <tr>\n",
       "      <th>3975</th>\n",
       "      <td>MID</td>\n",
       "      <td>NaN</td>\n",
       "      <td>Mulan</td>\n",
       "      <td>NaN</td>\n",
       "      <td>NaN</td>\n",
       "      <td>soldier</td>\n",
       "      <td>NON-P</td>\n",
       "      <td>NaN</td>\n",
       "      <td>we're under attack! light the signal! the door...</td>\n",
       "      <td>2</td>\n",
       "      <td>1998</td>\n",
       "    </tr>\n",
       "    <tr>\n",
       "      <th>3976</th>\n",
       "      <td>MID</td>\n",
       "      <td>NaN</td>\n",
       "      <td>Mulan</td>\n",
       "      <td>NaN</td>\n",
       "      <td>NaN</td>\n",
       "      <td>soldier</td>\n",
       "      <td>NON-P</td>\n",
       "      <td>NaN</td>\n",
       "      <td>now all of china knows you're here.</td>\n",
       "      <td>3</td>\n",
       "      <td>1998</td>\n",
       "    </tr>\n",
       "    <tr>\n",
       "      <th>3977</th>\n",
       "      <td>MID</td>\n",
       "      <td>NaN</td>\n",
       "      <td>Mulan</td>\n",
       "      <td>NaN</td>\n",
       "      <td>NaN</td>\n",
       "      <td>shan yu</td>\n",
       "      <td>NON-P</td>\n",
       "      <td>NaN</td>\n",
       "      <td>perfect.</td>\n",
       "      <td>4</td>\n",
       "      <td>1998</td>\n",
       "    </tr>\n",
       "    <tr>\n",
       "      <th>3978</th>\n",
       "      <td>MID</td>\n",
       "      <td>NaN</td>\n",
       "      <td>Mulan</td>\n",
       "      <td>NaN</td>\n",
       "      <td>NaN</td>\n",
       "      <td>general</td>\n",
       "      <td>NON-P</td>\n",
       "      <td>NaN</td>\n",
       "      <td>your majesty, the huns have crossed our northe...</td>\n",
       "      <td>5</td>\n",
       "      <td>1998</td>\n",
       "    </tr>\n",
       "  </tbody>\n",
       "</table>\n",
       "</div>"
      ],
      "text/plain": [
       "     Disney_Period Gender  Movie Role Song  Speaker Speaker_Status  \\\n",
       "3974           MID    NaN  Mulan  NaN  NaN  soldier          NON-P   \n",
       "3975           MID    NaN  Mulan  NaN  NaN  soldier          NON-P   \n",
       "3976           MID    NaN  Mulan  NaN  NaN  soldier          NON-P   \n",
       "3977           MID    NaN  Mulan  NaN  NaN  shan yu          NON-P   \n",
       "3978           MID    NaN  Mulan  NaN  NaN  general          NON-P   \n",
       "\n",
       "     Start_Scene                                               Text  \\\n",
       "3974         NaN                                               ah!    \n",
       "3975         NaN  we're under attack! light the signal! the door...   \n",
       "3976         NaN               now all of china knows you're here.    \n",
       "3977         NaN                                          perfect.    \n",
       "3978         NaN  your majesty, the huns have crossed our northe...   \n",
       "\n",
       "      UTTERANCE_NUMBER  Year  \n",
       "3974                 1  1998  \n",
       "3975                 2  1998  \n",
       "3976                 3  1998  \n",
       "3977                 4  1998  \n",
       "3978                 5  1998  "
      ]
     },
     "execution_count": 16,
     "metadata": {},
     "output_type": "execute_result"
    }
   ],
   "source": [
    "mulan.head()"
   ]
  },
  {
   "cell_type": "markdown",
   "metadata": {},
   "source": [
    "### 1) Gender"
   ]
  },
  {
   "cell_type": "code",
   "execution_count": 27,
   "metadata": {},
   "outputs": [
    {
     "data": {
      "text/plain": [
       "array(['soldier', 'shan yu', 'general', 'chi fu', 'emperor', 'mulan',\n",
       "       'fa zu', 'woman #1', 'fa li', 'granny fa', 'woman #2', 'woman #3',\n",
       "       'both', 'woman #4', 'woman #5', 'all', 'woman #6', 'matchmaker',\n",
       "       'son', 'chi fhou', 'fa zhou', 'great ancestor', 'mushu',\n",
       "       'ancestor #1', 'ancestor #2', 'ancestor #3', 'ancestor #4',\n",
       "       'ancestor #5', 'ancestor #6', 'ancestor #7', 'ancestor #8',\n",
       "       'fa thang', 'crickee', 'hun', 'soldier #1', 'soldier #2',\n",
       "       'hun archer', 'recruit', 'yow', 'ling', 'chien po', 'yao', 'shang',\n",
       "       'soldiers', 'chorus', 'hun #1', 'hun #2', 'hun #3', 'men singing',\n",
       "       'chienpo', 'parade leader', 'man', 'guard', 'guard #2', 'shun yu',\n",
       "       'citizen'], dtype=object)"
      ]
     },
     "execution_count": 27,
     "metadata": {},
     "output_type": "execute_result"
    }
   ],
   "source": [
    "char = mulan.Speaker.unique()"
   ]
  },
  {
   "cell_type": "code",
   "execution_count": 65,
   "metadata": {},
   "outputs": [
    {
     "data": {
      "text/plain": [
       "56"
      ]
     },
     "execution_count": 65,
     "metadata": {},
     "output_type": "execute_result"
    }
   ],
   "source": [
    "len(char)"
   ]
  },
  {
   "cell_type": "code",
   "execution_count": 28,
   "metadata": {},
   "outputs": [
    {
     "data": {
      "text/plain": [
       "array(['all', 'ancestor #1', 'ancestor #2', 'ancestor #3', 'ancestor #4',\n",
       "       'ancestor #5', 'ancestor #6', 'ancestor #7', 'ancestor #8', 'both',\n",
       "       'chi fhou', 'chi fu', 'chien po', 'chienpo', 'chorus', 'citizen',\n",
       "       'crickee', 'emperor', 'fa li', 'fa thang', 'fa zhou', 'fa zu',\n",
       "       'general', 'granny fa', 'great ancestor', 'guard', 'guard #2',\n",
       "       'hun', 'hun #1', 'hun #2', 'hun #3', 'hun archer', 'ling', 'man',\n",
       "       'matchmaker', 'men singing', 'mulan', 'mushu', 'parade leader',\n",
       "       'recruit', 'shan yu', 'shang', 'shun yu', 'soldier', 'soldier #1',\n",
       "       'soldier #2', 'soldiers', 'son', 'woman #1', 'woman #2',\n",
       "       'woman #3', 'woman #4', 'woman #5', 'woman #6', 'yao', 'yow'],\n",
       "      dtype=object)"
      ]
     },
     "execution_count": 28,
     "metadata": {},
     "output_type": "execute_result"
    }
   ],
   "source": [
    "np.sort(char)"
   ]
  },
  {
   "cell_type": "markdown",
   "metadata": {},
   "source": [
    "Looks like there are some serious misspellings here. Let's verify that these are all the same character. I'll look at:\n",
    "* fa zu vs. fa zhou\n",
    "* chi fhou vs chi fu\n",
    "* shan yu vs. shun yu\n",
    "* yow vs. yao\n",
    "* chienpo vs chien po"
   ]
  },
  {
   "cell_type": "code",
   "execution_count": 12,
   "metadata": {},
   "outputs": [
    {
     "data": {
      "text/html": [
       "<div>\n",
       "<style scoped>\n",
       "    .dataframe tbody tr th:only-of-type {\n",
       "        vertical-align: middle;\n",
       "    }\n",
       "\n",
       "    .dataframe tbody tr th {\n",
       "        vertical-align: top;\n",
       "    }\n",
       "\n",
       "    .dataframe thead th {\n",
       "        text-align: right;\n",
       "    }\n",
       "</style>\n",
       "<table border=\"1\" class=\"dataframe\">\n",
       "  <thead>\n",
       "    <tr style=\"text-align: right;\">\n",
       "      <th></th>\n",
       "      <th>Disney_Period</th>\n",
       "      <th>Gender</th>\n",
       "      <th>Movie</th>\n",
       "      <th>Role</th>\n",
       "      <th>Song</th>\n",
       "      <th>Speaker</th>\n",
       "      <th>Speaker_Status</th>\n",
       "      <th>Start_Scene</th>\n",
       "      <th>Text</th>\n",
       "      <th>UTTERANCE_NUMBER</th>\n",
       "      <th>Year</th>\n",
       "    </tr>\n",
       "  </thead>\n",
       "  <tbody>\n",
       "    <tr>\n",
       "      <th>3992</th>\n",
       "      <td>MID</td>\n",
       "      <td>NaN</td>\n",
       "      <td>Mulan</td>\n",
       "      <td>NaN</td>\n",
       "      <td>NaN</td>\n",
       "      <td>fa zu</td>\n",
       "      <td>NON-P</td>\n",
       "      <td>NaN</td>\n",
       "      <td>honorable ancestors ... please help mulan impr...</td>\n",
       "      <td>19</td>\n",
       "      <td>1998</td>\n",
       "    </tr>\n",
       "    <tr>\n",
       "      <th>3994</th>\n",
       "      <td>MID</td>\n",
       "      <td>NaN</td>\n",
       "      <td>Mulan</td>\n",
       "      <td>NaN</td>\n",
       "      <td>NaN</td>\n",
       "      <td>fa zu</td>\n",
       "      <td>NON-P</td>\n",
       "      <td>NaN</td>\n",
       "      <td>mulan ...</td>\n",
       "      <td>21</td>\n",
       "      <td>1998</td>\n",
       "    </tr>\n",
       "    <tr>\n",
       "      <th>3996</th>\n",
       "      <td>MID</td>\n",
       "      <td>NaN</td>\n",
       "      <td>Mulan</td>\n",
       "      <td>NaN</td>\n",
       "      <td>NaN</td>\n",
       "      <td>fa zu</td>\n",
       "      <td>NON-P</td>\n",
       "      <td>NaN</td>\n",
       "      <td>mulan ...</td>\n",
       "      <td>23</td>\n",
       "      <td>1998</td>\n",
       "    </tr>\n",
       "    <tr>\n",
       "      <th>3998</th>\n",
       "      <td>MID</td>\n",
       "      <td>NaN</td>\n",
       "      <td>Mulan</td>\n",
       "      <td>NaN</td>\n",
       "      <td>NaN</td>\n",
       "      <td>fa zu</td>\n",
       "      <td>NON-P</td>\n",
       "      <td>NaN</td>\n",
       "      <td>mulan.</td>\n",
       "      <td>25</td>\n",
       "      <td>1998</td>\n",
       "    </tr>\n",
       "    <tr>\n",
       "      <th>4000</th>\n",
       "      <td>MID</td>\n",
       "      <td>NaN</td>\n",
       "      <td>Mulan</td>\n",
       "      <td>NaN</td>\n",
       "      <td>NaN</td>\n",
       "      <td>fa zu</td>\n",
       "      <td>NON-P</td>\n",
       "      <td>NaN</td>\n",
       "      <td>mulan. you should already be in town. we're co...</td>\n",
       "      <td>27</td>\n",
       "      <td>1998</td>\n",
       "    </tr>\n",
       "    <tr>\n",
       "      <th>4002</th>\n",
       "      <td>MID</td>\n",
       "      <td>NaN</td>\n",
       "      <td>Mulan</td>\n",
       "      <td>NaN</td>\n",
       "      <td>NaN</td>\n",
       "      <td>fa zu</td>\n",
       "      <td>NON-P</td>\n",
       "      <td>NaN</td>\n",
       "      <td>hurry! i'm going to ... pray some more.</td>\n",
       "      <td>29</td>\n",
       "      <td>1998</td>\n",
       "    </tr>\n",
       "    <tr>\n",
       "      <th>4060</th>\n",
       "      <td>MID</td>\n",
       "      <td>NaN</td>\n",
       "      <td>Mulan</td>\n",
       "      <td>NaN</td>\n",
       "      <td>NaN</td>\n",
       "      <td>fa zu</td>\n",
       "      <td>NON-P</td>\n",
       "      <td>NaN</td>\n",
       "      <td>my, my, what beautiful blossoms we have this y...</td>\n",
       "      <td>87</td>\n",
       "      <td>1998</td>\n",
       "    </tr>\n",
       "  </tbody>\n",
       "</table>\n",
       "</div>"
      ],
      "text/plain": [
       "     Disney_Period Gender  Movie Role Song Speaker Speaker_Status Start_Scene  \\\n",
       "3992           MID    NaN  Mulan  NaN  NaN   fa zu          NON-P         NaN   \n",
       "3994           MID    NaN  Mulan  NaN  NaN   fa zu          NON-P         NaN   \n",
       "3996           MID    NaN  Mulan  NaN  NaN   fa zu          NON-P         NaN   \n",
       "3998           MID    NaN  Mulan  NaN  NaN   fa zu          NON-P         NaN   \n",
       "4000           MID    NaN  Mulan  NaN  NaN   fa zu          NON-P         NaN   \n",
       "4002           MID    NaN  Mulan  NaN  NaN   fa zu          NON-P         NaN   \n",
       "4060           MID    NaN  Mulan  NaN  NaN   fa zu          NON-P         NaN   \n",
       "\n",
       "                                                   Text  UTTERANCE_NUMBER  \\\n",
       "3992  honorable ancestors ... please help mulan impr...                19   \n",
       "3994                                         mulan ...                 21   \n",
       "3996                                         mulan ...                 23   \n",
       "3998                                            mulan.                 25   \n",
       "4000  mulan. you should already be in town. we're co...                27   \n",
       "4002           hurry! i'm going to ... pray some more.                 29   \n",
       "4060  my, my, what beautiful blossoms we have this y...                87   \n",
       "\n",
       "      Year  \n",
       "3992  1998  \n",
       "3994  1998  \n",
       "3996  1998  \n",
       "3998  1998  \n",
       "4000  1998  \n",
       "4002  1998  \n",
       "4060  1998  "
      ]
     },
     "execution_count": 12,
     "metadata": {},
     "output_type": "execute_result"
    }
   ],
   "source": [
    "mulan[mulan.Speaker == \"fa zu\"] #Mulan's dad"
   ]
  },
  {
   "cell_type": "code",
   "execution_count": 29,
   "metadata": {},
   "outputs": [
    {
     "data": {
      "text/html": [
       "<div>\n",
       "<style scoped>\n",
       "    .dataframe tbody tr th:only-of-type {\n",
       "        vertical-align: middle;\n",
       "    }\n",
       "\n",
       "    .dataframe tbody tr th {\n",
       "        vertical-align: top;\n",
       "    }\n",
       "\n",
       "    .dataframe thead th {\n",
       "        text-align: right;\n",
       "    }\n",
       "</style>\n",
       "<table border=\"1\" class=\"dataframe\">\n",
       "  <thead>\n",
       "    <tr style=\"text-align: right;\">\n",
       "      <th></th>\n",
       "      <th>Disney_Period</th>\n",
       "      <th>Gender</th>\n",
       "      <th>Movie</th>\n",
       "      <th>Role</th>\n",
       "      <th>Song</th>\n",
       "      <th>Speaker</th>\n",
       "      <th>Speaker_Status</th>\n",
       "      <th>Start_Scene</th>\n",
       "      <th>Text</th>\n",
       "      <th>UTTERANCE_NUMBER</th>\n",
       "      <th>Year</th>\n",
       "    </tr>\n",
       "  </thead>\n",
       "  <tbody>\n",
       "    <tr>\n",
       "      <th>4069</th>\n",
       "      <td>MID</td>\n",
       "      <td>NaN</td>\n",
       "      <td>Mulan</td>\n",
       "      <td>NaN</td>\n",
       "      <td>NaN</td>\n",
       "      <td>fa zhou</td>\n",
       "      <td>NON-P</td>\n",
       "      <td>NaN</td>\n",
       "      <td>i am ready to serve the emperor.</td>\n",
       "      <td>96</td>\n",
       "      <td>1998</td>\n",
       "    </tr>\n",
       "    <tr>\n",
       "      <th>4071</th>\n",
       "      <td>MID</td>\n",
       "      <td>NaN</td>\n",
       "      <td>Mulan</td>\n",
       "      <td>NaN</td>\n",
       "      <td>NaN</td>\n",
       "      <td>fa zhou</td>\n",
       "      <td>NON-P</td>\n",
       "      <td>NaN</td>\n",
       "      <td>mulan!</td>\n",
       "      <td>98</td>\n",
       "      <td>1998</td>\n",
       "    </tr>\n",
       "    <tr>\n",
       "      <th>4074</th>\n",
       "      <td>MID</td>\n",
       "      <td>NaN</td>\n",
       "      <td>Mulan</td>\n",
       "      <td>NaN</td>\n",
       "      <td>NaN</td>\n",
       "      <td>fa zhou</td>\n",
       "      <td>NON-P</td>\n",
       "      <td>NaN</td>\n",
       "      <td>mulan. you dishonor me.</td>\n",
       "      <td>101</td>\n",
       "      <td>1998</td>\n",
       "    </tr>\n",
       "    <tr>\n",
       "      <th>4076</th>\n",
       "      <td>MID</td>\n",
       "      <td>NaN</td>\n",
       "      <td>Mulan</td>\n",
       "      <td>NaN</td>\n",
       "      <td>NaN</td>\n",
       "      <td>fa zhou</td>\n",
       "      <td>NON-P</td>\n",
       "      <td>NaN</td>\n",
       "      <td>yes, sir.</td>\n",
       "      <td>103</td>\n",
       "      <td>1998</td>\n",
       "    </tr>\n",
       "    <tr>\n",
       "      <th>4082</th>\n",
       "      <td>MID</td>\n",
       "      <td>NaN</td>\n",
       "      <td>Mulan</td>\n",
       "      <td>NaN</td>\n",
       "      <td>NaN</td>\n",
       "      <td>fa zhou</td>\n",
       "      <td>NON-P</td>\n",
       "      <td>NaN</td>\n",
       "      <td>it is an honor to protect my country and my fa...</td>\n",
       "      <td>109</td>\n",
       "      <td>1998</td>\n",
       "    </tr>\n",
       "    <tr>\n",
       "      <th>4084</th>\n",
       "      <td>MID</td>\n",
       "      <td>NaN</td>\n",
       "      <td>Mulan</td>\n",
       "      <td>NaN</td>\n",
       "      <td>NaN</td>\n",
       "      <td>fa zhou</td>\n",
       "      <td>NON-P</td>\n",
       "      <td>NaN</td>\n",
       "      <td>i will die doing what's right.</td>\n",
       "      <td>111</td>\n",
       "      <td>1998</td>\n",
       "    </tr>\n",
       "    <tr>\n",
       "      <th>4086</th>\n",
       "      <td>MID</td>\n",
       "      <td>NaN</td>\n",
       "      <td>Mulan</td>\n",
       "      <td>NaN</td>\n",
       "      <td>NaN</td>\n",
       "      <td>fa zhou</td>\n",
       "      <td>NON-P</td>\n",
       "      <td>NaN</td>\n",
       "      <td>i know my place. it is time you learned yours.</td>\n",
       "      <td>113</td>\n",
       "      <td>1998</td>\n",
       "    </tr>\n",
       "    <tr>\n",
       "      <th>4088</th>\n",
       "      <td>MID</td>\n",
       "      <td>NaN</td>\n",
       "      <td>Mulan</td>\n",
       "      <td>NaN</td>\n",
       "      <td>NaN</td>\n",
       "      <td>fa zhou</td>\n",
       "      <td>NON-P</td>\n",
       "      <td>NaN</td>\n",
       "      <td>what? it can't be ...</td>\n",
       "      <td>115</td>\n",
       "      <td>1998</td>\n",
       "    </tr>\n",
       "    <tr>\n",
       "      <th>4089</th>\n",
       "      <td>MID</td>\n",
       "      <td>NaN</td>\n",
       "      <td>Mulan</td>\n",
       "      <td>NaN</td>\n",
       "      <td>NaN</td>\n",
       "      <td>fa zhou</td>\n",
       "      <td>NON-P</td>\n",
       "      <td>NaN</td>\n",
       "      <td>mulan! no ...</td>\n",
       "      <td>116</td>\n",
       "      <td>1998</td>\n",
       "    </tr>\n",
       "    <tr>\n",
       "      <th>4091</th>\n",
       "      <td>MID</td>\n",
       "      <td>NaN</td>\n",
       "      <td>Mulan</td>\n",
       "      <td>NaN</td>\n",
       "      <td>NaN</td>\n",
       "      <td>fa zhou</td>\n",
       "      <td>NON-P</td>\n",
       "      <td>NaN</td>\n",
       "      <td>if i reveal her, she will be.</td>\n",
       "      <td>118</td>\n",
       "      <td>1998</td>\n",
       "    </tr>\n",
       "    <tr>\n",
       "      <th>4509</th>\n",
       "      <td>MID</td>\n",
       "      <td>NaN</td>\n",
       "      <td>Mulan</td>\n",
       "      <td>NaN</td>\n",
       "      <td>NaN</td>\n",
       "      <td>fa zhou</td>\n",
       "      <td>NON-P</td>\n",
       "      <td>NaN</td>\n",
       "      <td>mulan!</td>\n",
       "      <td>536</td>\n",
       "      <td>1998</td>\n",
       "    </tr>\n",
       "    <tr>\n",
       "      <th>4511</th>\n",
       "      <td>MID</td>\n",
       "      <td>NaN</td>\n",
       "      <td>Mulan</td>\n",
       "      <td>NaN</td>\n",
       "      <td>NaN</td>\n",
       "      <td>fa zhou</td>\n",
       "      <td>NON-P</td>\n",
       "      <td>NaN</td>\n",
       "      <td>the greatest gift in honor is having you for a...</td>\n",
       "      <td>538</td>\n",
       "      <td>1998</td>\n",
       "    </tr>\n",
       "  </tbody>\n",
       "</table>\n",
       "</div>"
      ],
      "text/plain": [
       "     Disney_Period Gender  Movie Role Song  Speaker Speaker_Status  \\\n",
       "4069           MID    NaN  Mulan  NaN  NaN  fa zhou          NON-P   \n",
       "4071           MID    NaN  Mulan  NaN  NaN  fa zhou          NON-P   \n",
       "4074           MID    NaN  Mulan  NaN  NaN  fa zhou          NON-P   \n",
       "4076           MID    NaN  Mulan  NaN  NaN  fa zhou          NON-P   \n",
       "4082           MID    NaN  Mulan  NaN  NaN  fa zhou          NON-P   \n",
       "4084           MID    NaN  Mulan  NaN  NaN  fa zhou          NON-P   \n",
       "4086           MID    NaN  Mulan  NaN  NaN  fa zhou          NON-P   \n",
       "4088           MID    NaN  Mulan  NaN  NaN  fa zhou          NON-P   \n",
       "4089           MID    NaN  Mulan  NaN  NaN  fa zhou          NON-P   \n",
       "4091           MID    NaN  Mulan  NaN  NaN  fa zhou          NON-P   \n",
       "4509           MID    NaN  Mulan  NaN  NaN  fa zhou          NON-P   \n",
       "4511           MID    NaN  Mulan  NaN  NaN  fa zhou          NON-P   \n",
       "\n",
       "     Start_Scene                                               Text  \\\n",
       "4069         NaN                  i am ready to serve the emperor.    \n",
       "4071         NaN                                            mulan!    \n",
       "4074         NaN                           mulan. you dishonor me.    \n",
       "4076         NaN                                         yes, sir.    \n",
       "4082         NaN  it is an honor to protect my country and my fa...   \n",
       "4084         NaN                    i will die doing what's right.    \n",
       "4086         NaN    i know my place. it is time you learned yours.    \n",
       "4088         NaN                             what? it can't be ...    \n",
       "4089         NaN                                     mulan! no ...    \n",
       "4091         NaN                     if i reveal her, she will be.    \n",
       "4509         NaN                                            mulan!    \n",
       "4511         NaN  the greatest gift in honor is having you for a...   \n",
       "\n",
       "      UTTERANCE_NUMBER  Year  \n",
       "4069                96  1998  \n",
       "4071                98  1998  \n",
       "4074               101  1998  \n",
       "4076               103  1998  \n",
       "4082               109  1998  \n",
       "4084               111  1998  \n",
       "4086               113  1998  \n",
       "4088               115  1998  \n",
       "4089               116  1998  \n",
       "4091               118  1998  \n",
       "4509               536  1998  \n",
       "4511               538  1998  "
      ]
     },
     "execution_count": 29,
     "metadata": {},
     "output_type": "execute_result"
    }
   ],
   "source": [
    "mulan[mulan.Speaker == 'fa zhou'] #also Mulan's dad"
   ]
  },
  {
   "cell_type": "code",
   "execution_count": 32,
   "metadata": {},
   "outputs": [
    {
     "name": "stdout",
     "output_type": "stream",
     "text": [
      "12\n",
      "7\n"
     ]
    }
   ],
   "source": [
    "print(len(mulan[mulan.Speaker == 'fa zhou']))\n",
    "print(len(mulan[mulan.Speaker == \"fa zu\"]))"
   ]
  },
  {
   "cell_type": "code",
   "execution_count": 31,
   "metadata": {},
   "outputs": [
    {
     "name": "stdout",
     "output_type": "stream",
     "text": [
      "This is really fa zhou\n",
      "This is really fa zhou\n",
      "This is really fa zhou\n",
      "This is really fa zhou\n",
      "This is really fa zhou\n",
      "This is really fa zhou\n",
      "This is really fa zhou\n"
     ]
    }
   ],
   "source": [
    "# replace fa zu with fa zhou\n",
    "for x in mulan.Speaker:\n",
    "    if x == 'fa zu':\n",
    "        mulan"
   ]
  },
  {
   "cell_type": "code",
   "execution_count": 33,
   "metadata": {},
   "outputs": [
    {
     "name": "stderr",
     "output_type": "stream",
     "text": [
      "c:\\users\\cassi\\appdata\\local\\programs\\python\\python36-32\\lib\\site-packages\\pandas\\core\\generic.py:5890: SettingWithCopyWarning: \n",
      "A value is trying to be set on a copy of a slice from a DataFrame\n",
      "\n",
      "See the caveats in the documentation: http://pandas.pydata.org/pandas-docs/stable/indexing.html#indexing-view-versus-copy\n",
      "  self._update_inplace(new_data)\n"
     ]
    }
   ],
   "source": [
    "mulan.Speaker.replace(\"fa zu\", \"fa zhou\", inplace = True)"
   ]
  },
  {
   "cell_type": "code",
   "execution_count": 34,
   "metadata": {},
   "outputs": [
    {
     "name": "stdout",
     "output_type": "stream",
     "text": [
      "19\n"
     ]
    }
   ],
   "source": [
    "#Should be 19\n",
    "print(len(mulan[mulan.Speaker == 'fa zhou']))"
   ]
  },
  {
   "cell_type": "code",
   "execution_count": 35,
   "metadata": {},
   "outputs": [
    {
     "data": {
      "text/html": [
       "<div>\n",
       "<style scoped>\n",
       "    .dataframe tbody tr th:only-of-type {\n",
       "        vertical-align: middle;\n",
       "    }\n",
       "\n",
       "    .dataframe tbody tr th {\n",
       "        vertical-align: top;\n",
       "    }\n",
       "\n",
       "    .dataframe thead th {\n",
       "        text-align: right;\n",
       "    }\n",
       "</style>\n",
       "<table border=\"1\" class=\"dataframe\">\n",
       "  <thead>\n",
       "    <tr style=\"text-align: right;\">\n",
       "      <th></th>\n",
       "      <th>Disney_Period</th>\n",
       "      <th>Gender</th>\n",
       "      <th>Movie</th>\n",
       "      <th>Role</th>\n",
       "      <th>Song</th>\n",
       "      <th>Speaker</th>\n",
       "      <th>Speaker_Status</th>\n",
       "      <th>Start_Scene</th>\n",
       "      <th>Text</th>\n",
       "      <th>UTTERANCE_NUMBER</th>\n",
       "      <th>Year</th>\n",
       "    </tr>\n",
       "  </thead>\n",
       "  <tbody>\n",
       "    <tr>\n",
       "      <th>4067</th>\n",
       "      <td>MID</td>\n",
       "      <td>NaN</td>\n",
       "      <td>Mulan</td>\n",
       "      <td>NaN</td>\n",
       "      <td>NaN</td>\n",
       "      <td>chi fhou</td>\n",
       "      <td>NON-P</td>\n",
       "      <td>NaN</td>\n",
       "      <td>the fa family!</td>\n",
       "      <td>94</td>\n",
       "      <td>1998</td>\n",
       "    </tr>\n",
       "  </tbody>\n",
       "</table>\n",
       "</div>"
      ],
      "text/plain": [
       "     Disney_Period Gender  Movie Role Song   Speaker Speaker_Status  \\\n",
       "4067           MID    NaN  Mulan  NaN  NaN  chi fhou          NON-P   \n",
       "\n",
       "     Start_Scene             Text  UTTERANCE_NUMBER  Year  \n",
       "4067         NaN  the fa family!                 94  1998  "
      ]
     },
     "execution_count": 35,
     "metadata": {},
     "output_type": "execute_result"
    }
   ],
   "source": [
    "mulan[mulan.Speaker == 'chi fhou'] #The emperor's advisor"
   ]
  },
  {
   "cell_type": "code",
   "execution_count": 37,
   "metadata": {},
   "outputs": [
    {
     "data": {
      "text/html": [
       "<div>\n",
       "<style scoped>\n",
       "    .dataframe tbody tr th:only-of-type {\n",
       "        vertical-align: middle;\n",
       "    }\n",
       "\n",
       "    .dataframe tbody tr th {\n",
       "        vertical-align: top;\n",
       "    }\n",
       "\n",
       "    .dataframe thead th {\n",
       "        text-align: right;\n",
       "    }\n",
       "</style>\n",
       "<table border=\"1\" class=\"dataframe\">\n",
       "  <thead>\n",
       "    <tr style=\"text-align: right;\">\n",
       "      <th></th>\n",
       "      <th>Disney_Period</th>\n",
       "      <th>Gender</th>\n",
       "      <th>Movie</th>\n",
       "      <th>Role</th>\n",
       "      <th>Song</th>\n",
       "      <th>Speaker</th>\n",
       "      <th>Speaker_Status</th>\n",
       "      <th>Start_Scene</th>\n",
       "      <th>Text</th>\n",
       "      <th>UTTERANCE_NUMBER</th>\n",
       "      <th>Year</th>\n",
       "    </tr>\n",
       "  </thead>\n",
       "  <tbody>\n",
       "    <tr>\n",
       "      <th>3979</th>\n",
       "      <td>MID</td>\n",
       "      <td>NaN</td>\n",
       "      <td>Mulan</td>\n",
       "      <td>NaN</td>\n",
       "      <td>NaN</td>\n",
       "      <td>chi fu</td>\n",
       "      <td>NON-P</td>\n",
       "      <td>NaN</td>\n",
       "      <td>impossible! no one can get through the great w...</td>\n",
       "      <td>6</td>\n",
       "      <td>1998</td>\n",
       "    </tr>\n",
       "    <tr>\n",
       "      <th>3983</th>\n",
       "      <td>MID</td>\n",
       "      <td>NaN</td>\n",
       "      <td>Mulan</td>\n",
       "      <td>NaN</td>\n",
       "      <td>NaN</td>\n",
       "      <td>chi fu</td>\n",
       "      <td>NON-P</td>\n",
       "      <td>NaN</td>\n",
       "      <td>yes, your highness.</td>\n",
       "      <td>10</td>\n",
       "      <td>1998</td>\n",
       "    </tr>\n",
       "    <tr>\n",
       "      <th>4064</th>\n",
       "      <td>MID</td>\n",
       "      <td>NaN</td>\n",
       "      <td>Mulan</td>\n",
       "      <td>NaN</td>\n",
       "      <td>NaN</td>\n",
       "      <td>chi fu</td>\n",
       "      <td>NON-P</td>\n",
       "      <td>NaN</td>\n",
       "      <td>citizens! i bring a proclamation from the impe...</td>\n",
       "      <td>91</td>\n",
       "      <td>1998</td>\n",
       "    </tr>\n",
       "    <tr>\n",
       "      <th>4065</th>\n",
       "      <td>MID</td>\n",
       "      <td>NaN</td>\n",
       "      <td>Mulan</td>\n",
       "      <td>NaN</td>\n",
       "      <td>NaN</td>\n",
       "      <td>chi fu</td>\n",
       "      <td>NON-P</td>\n",
       "      <td>NaN</td>\n",
       "      <td>the chow family! the yee family!</td>\n",
       "      <td>92</td>\n",
       "      <td>1998</td>\n",
       "    </tr>\n",
       "    <tr>\n",
       "      <th>4073</th>\n",
       "      <td>MID</td>\n",
       "      <td>NaN</td>\n",
       "      <td>Mulan</td>\n",
       "      <td>NaN</td>\n",
       "      <td>NaN</td>\n",
       "      <td>chi fu</td>\n",
       "      <td>NON-P</td>\n",
       "      <td>NaN</td>\n",
       "      <td>silence! you will do well to teach your daught...</td>\n",
       "      <td>100</td>\n",
       "      <td>1998</td>\n",
       "    </tr>\n",
       "  </tbody>\n",
       "</table>\n",
       "</div>"
      ],
      "text/plain": [
       "     Disney_Period Gender  Movie Role Song Speaker Speaker_Status Start_Scene  \\\n",
       "3979           MID    NaN  Mulan  NaN  NaN  chi fu          NON-P         NaN   \n",
       "3983           MID    NaN  Mulan  NaN  NaN  chi fu          NON-P         NaN   \n",
       "4064           MID    NaN  Mulan  NaN  NaN  chi fu          NON-P         NaN   \n",
       "4065           MID    NaN  Mulan  NaN  NaN  chi fu          NON-P         NaN   \n",
       "4073           MID    NaN  Mulan  NaN  NaN  chi fu          NON-P         NaN   \n",
       "\n",
       "                                                   Text  UTTERANCE_NUMBER  \\\n",
       "3979  impossible! no one can get through the great w...                 6   \n",
       "3983                               yes, your highness.                 10   \n",
       "4064  citizens! i bring a proclamation from the impe...                91   \n",
       "4065                  the chow family! the yee family!                 92   \n",
       "4073  silence! you will do well to teach your daught...               100   \n",
       "\n",
       "      Year  \n",
       "3979  1998  \n",
       "3983  1998  \n",
       "4064  1998  \n",
       "4065  1998  \n",
       "4073  1998  "
      ]
     },
     "execution_count": 37,
     "metadata": {},
     "output_type": "execute_result"
    }
   ],
   "source": [
    "mulan[mulan.Speaker == 'chi fu'].head() #The correct spelling"
   ]
  },
  {
   "cell_type": "code",
   "execution_count": 38,
   "metadata": {},
   "outputs": [
    {
     "name": "stdout",
     "output_type": "stream",
     "text": [
      "38\n",
      "1\n"
     ]
    }
   ],
   "source": [
    "print(len(mulan[mulan.Speaker == 'chi fu']))\n",
    "print(len(mulan[mulan.Speaker == 'chi fhou']))"
   ]
  },
  {
   "cell_type": "code",
   "execution_count": 40,
   "metadata": {},
   "outputs": [],
   "source": [
    "mulan.Speaker.replace(\"chi fhou\", \"chi fu\", inplace = True)"
   ]
  },
  {
   "cell_type": "code",
   "execution_count": 43,
   "metadata": {},
   "outputs": [
    {
     "name": "stdout",
     "output_type": "stream",
     "text": [
      "Empty DataFrame\n",
      "Columns: [Disney_Period, Gender, Movie, Role, Song, Speaker, Speaker_Status, Start_Scene, Text, UTTERANCE_NUMBER, Year]\n",
      "Index: []\n",
      "39\n"
     ]
    }
   ],
   "source": [
    "print(mulan[mulan.Speaker == 'chi fhou']) #empty! It worked!\n",
    "print(len(mulan[mulan.Speaker == 'chi fu'])) #and now this is 39!"
   ]
  },
  {
   "cell_type": "code",
   "execution_count": 51,
   "metadata": {},
   "outputs": [
    {
     "data": {
      "text/html": [
       "<div>\n",
       "<style scoped>\n",
       "    .dataframe tbody tr th:only-of-type {\n",
       "        vertical-align: middle;\n",
       "    }\n",
       "\n",
       "    .dataframe tbody tr th {\n",
       "        vertical-align: top;\n",
       "    }\n",
       "\n",
       "    .dataframe thead th {\n",
       "        text-align: right;\n",
       "    }\n",
       "</style>\n",
       "<table border=\"1\" class=\"dataframe\">\n",
       "  <thead>\n",
       "    <tr style=\"text-align: right;\">\n",
       "      <th></th>\n",
       "      <th>Disney_Period</th>\n",
       "      <th>Gender</th>\n",
       "      <th>Movie</th>\n",
       "      <th>Role</th>\n",
       "      <th>Song</th>\n",
       "      <th>Speaker</th>\n",
       "      <th>Speaker_Status</th>\n",
       "      <th>Start_Scene</th>\n",
       "      <th>Text</th>\n",
       "      <th>UTTERANCE_NUMBER</th>\n",
       "      <th>Year</th>\n",
       "    </tr>\n",
       "  </thead>\n",
       "  <tbody>\n",
       "    <tr>\n",
       "      <th>3</th>\n",
       "      <td>MID</td>\n",
       "      <td>NaN</td>\n",
       "      <td>Mulan</td>\n",
       "      <td>NaN</td>\n",
       "      <td>NaN</td>\n",
       "      <td>shan yu</td>\n",
       "      <td>NON-P</td>\n",
       "      <td>NaN</td>\n",
       "      <td>perfect.</td>\n",
       "      <td>4</td>\n",
       "      <td>1998</td>\n",
       "    </tr>\n",
       "    <tr>\n",
       "      <th>172</th>\n",
       "      <td>MID</td>\n",
       "      <td>NaN</td>\n",
       "      <td>Mulan</td>\n",
       "      <td>NaN</td>\n",
       "      <td>NaN</td>\n",
       "      <td>shan yu</td>\n",
       "      <td>NON-P</td>\n",
       "      <td>NaN</td>\n",
       "      <td>nice work, gentlemen. you've found the hun arm...</td>\n",
       "      <td>173</td>\n",
       "      <td>1998</td>\n",
       "    </tr>\n",
       "    <tr>\n",
       "      <th>174</th>\n",
       "      <td>MID</td>\n",
       "      <td>NaN</td>\n",
       "      <td>Mulan</td>\n",
       "      <td>NaN</td>\n",
       "      <td>NaN</td>\n",
       "      <td>shan yu</td>\n",
       "      <td>NON-P</td>\n",
       "      <td>NaN</td>\n",
       "      <td>stop me! he invited me. by building his wall, ...</td>\n",
       "      <td>175</td>\n",
       "      <td>1998</td>\n",
       "    </tr>\n",
       "    <tr>\n",
       "      <th>175</th>\n",
       "      <td>MID</td>\n",
       "      <td>NaN</td>\n",
       "      <td>Mulan</td>\n",
       "      <td>NaN</td>\n",
       "      <td>NaN</td>\n",
       "      <td>shan yu</td>\n",
       "      <td>NON-P</td>\n",
       "      <td>NaN</td>\n",
       "      <td>how many men does it take to deliver a message?</td>\n",
       "      <td>176</td>\n",
       "      <td>1998</td>\n",
       "    </tr>\n",
       "    <tr>\n",
       "      <th>319</th>\n",
       "      <td>MID</td>\n",
       "      <td>NaN</td>\n",
       "      <td>Mulan</td>\n",
       "      <td>NaN</td>\n",
       "      <td>NaN</td>\n",
       "      <td>shan yu</td>\n",
       "      <td>NON-P</td>\n",
       "      <td>NaN</td>\n",
       "      <td>what do you see?</td>\n",
       "      <td>320</td>\n",
       "      <td>1998</td>\n",
       "    </tr>\n",
       "  </tbody>\n",
       "</table>\n",
       "</div>"
      ],
      "text/plain": [
       "    Disney_Period Gender  Movie Role Song  Speaker Speaker_Status Start_Scene  \\\n",
       "3             MID    NaN  Mulan  NaN  NaN  shan yu          NON-P         NaN   \n",
       "172           MID    NaN  Mulan  NaN  NaN  shan yu          NON-P         NaN   \n",
       "174           MID    NaN  Mulan  NaN  NaN  shan yu          NON-P         NaN   \n",
       "175           MID    NaN  Mulan  NaN  NaN  shan yu          NON-P         NaN   \n",
       "319           MID    NaN  Mulan  NaN  NaN  shan yu          NON-P         NaN   \n",
       "\n",
       "                                                  Text  UTTERANCE_NUMBER  Year  \n",
       "3                                            perfect.                  4  1998  \n",
       "172  nice work, gentlemen. you've found the hun arm...               173  1998  \n",
       "174  stop me! he invited me. by building his wall, ...               175  1998  \n",
       "175   how many men does it take to deliver a message?                176  1998  \n",
       "319                                  what do you see?                320  1998  "
      ]
     },
     "execution_count": 51,
     "metadata": {},
     "output_type": "execute_result"
    }
   ],
   "source": [
    "mulan[mulan.Speaker == \"shan yu\"].head() #the villain"
   ]
  },
  {
   "cell_type": "code",
   "execution_count": 47,
   "metadata": {},
   "outputs": [],
   "source": [
    "mulan.reset_index(drop=True, inplace=True)"
   ]
  },
  {
   "cell_type": "code",
   "execution_count": 48,
   "metadata": {},
   "outputs": [
    {
     "data": {
      "text/html": [
       "<div>\n",
       "<style scoped>\n",
       "    .dataframe tbody tr th:only-of-type {\n",
       "        vertical-align: middle;\n",
       "    }\n",
       "\n",
       "    .dataframe tbody tr th {\n",
       "        vertical-align: top;\n",
       "    }\n",
       "\n",
       "    .dataframe thead th {\n",
       "        text-align: right;\n",
       "    }\n",
       "</style>\n",
       "<table border=\"1\" class=\"dataframe\">\n",
       "  <thead>\n",
       "    <tr style=\"text-align: right;\">\n",
       "      <th></th>\n",
       "      <th>Disney_Period</th>\n",
       "      <th>Gender</th>\n",
       "      <th>Movie</th>\n",
       "      <th>Role</th>\n",
       "      <th>Song</th>\n",
       "      <th>Speaker</th>\n",
       "      <th>Speaker_Status</th>\n",
       "      <th>Start_Scene</th>\n",
       "      <th>Text</th>\n",
       "      <th>UTTERANCE_NUMBER</th>\n",
       "      <th>Year</th>\n",
       "    </tr>\n",
       "  </thead>\n",
       "  <tbody>\n",
       "    <tr>\n",
       "      <th>488</th>\n",
       "      <td>MID</td>\n",
       "      <td>NaN</td>\n",
       "      <td>Mulan</td>\n",
       "      <td>NaN</td>\n",
       "      <td>NaN</td>\n",
       "      <td>shun yu</td>\n",
       "      <td>NON-P</td>\n",
       "      <td>NaN</td>\n",
       "      <td>no!</td>\n",
       "      <td>489</td>\n",
       "      <td>1998</td>\n",
       "    </tr>\n",
       "  </tbody>\n",
       "</table>\n",
       "</div>"
      ],
      "text/plain": [
       "    Disney_Period Gender  Movie Role Song  Speaker Speaker_Status Start_Scene  \\\n",
       "488           MID    NaN  Mulan  NaN  NaN  shun yu          NON-P         NaN   \n",
       "\n",
       "     Text  UTTERANCE_NUMBER  Year  \n",
       "488  no!                489  1998  "
      ]
     },
     "execution_count": 48,
     "metadata": {},
     "output_type": "execute_result"
    }
   ],
   "source": [
    "mulan[mulan.Speaker == \"shun yu\"] #shan yu potentially misspelled"
   ]
  },
  {
   "cell_type": "code",
   "execution_count": 50,
   "metadata": {},
   "outputs": [
    {
     "data": {
      "text/html": [
       "<div>\n",
       "<style scoped>\n",
       "    .dataframe tbody tr th:only-of-type {\n",
       "        vertical-align: middle;\n",
       "    }\n",
       "\n",
       "    .dataframe tbody tr th {\n",
       "        vertical-align: top;\n",
       "    }\n",
       "\n",
       "    .dataframe thead th {\n",
       "        text-align: right;\n",
       "    }\n",
       "</style>\n",
       "<table border=\"1\" class=\"dataframe\">\n",
       "  <thead>\n",
       "    <tr style=\"text-align: right;\">\n",
       "      <th></th>\n",
       "      <th>Disney_Period</th>\n",
       "      <th>Gender</th>\n",
       "      <th>Movie</th>\n",
       "      <th>Role</th>\n",
       "      <th>Song</th>\n",
       "      <th>Speaker</th>\n",
       "      <th>Speaker_Status</th>\n",
       "      <th>Start_Scene</th>\n",
       "      <th>Text</th>\n",
       "      <th>UTTERANCE_NUMBER</th>\n",
       "      <th>Year</th>\n",
       "    </tr>\n",
       "  </thead>\n",
       "  <tbody>\n",
       "    <tr>\n",
       "      <th>485</th>\n",
       "      <td>MID</td>\n",
       "      <td>NaN</td>\n",
       "      <td>Mulan</td>\n",
       "      <td>NaN</td>\n",
       "      <td>NaN</td>\n",
       "      <td>shan yu</td>\n",
       "      <td>NON-P</td>\n",
       "      <td>NaN</td>\n",
       "      <td>then you will kneel ... in pieces!</td>\n",
       "      <td>486</td>\n",
       "      <td>1998</td>\n",
       "    </tr>\n",
       "    <tr>\n",
       "      <th>486</th>\n",
       "      <td>MID</td>\n",
       "      <td>NaN</td>\n",
       "      <td>Mulan</td>\n",
       "      <td>NaN</td>\n",
       "      <td>NaN</td>\n",
       "      <td>mulan</td>\n",
       "      <td>PRINCESS</td>\n",
       "      <td>NaN</td>\n",
       "      <td>chienpo, get the emperor!</td>\n",
       "      <td>487</td>\n",
       "      <td>1998</td>\n",
       "    </tr>\n",
       "    <tr>\n",
       "      <th>487</th>\n",
       "      <td>MID</td>\n",
       "      <td>NaN</td>\n",
       "      <td>Mulan</td>\n",
       "      <td>NaN</td>\n",
       "      <td>NaN</td>\n",
       "      <td>chienpo</td>\n",
       "      <td>NON-P</td>\n",
       "      <td>NaN</td>\n",
       "      <td>sorry, your majesty.</td>\n",
       "      <td>488</td>\n",
       "      <td>1998</td>\n",
       "    </tr>\n",
       "    <tr>\n",
       "      <th>488</th>\n",
       "      <td>MID</td>\n",
       "      <td>NaN</td>\n",
       "      <td>Mulan</td>\n",
       "      <td>NaN</td>\n",
       "      <td>NaN</td>\n",
       "      <td>shun yu</td>\n",
       "      <td>NON-P</td>\n",
       "      <td>NaN</td>\n",
       "      <td>no!</td>\n",
       "      <td>489</td>\n",
       "      <td>1998</td>\n",
       "    </tr>\n",
       "    <tr>\n",
       "      <th>489</th>\n",
       "      <td>MID</td>\n",
       "      <td>NaN</td>\n",
       "      <td>Mulan</td>\n",
       "      <td>NaN</td>\n",
       "      <td>NaN</td>\n",
       "      <td>yao</td>\n",
       "      <td>NON-P</td>\n",
       "      <td>NaN</td>\n",
       "      <td>come on!</td>\n",
       "      <td>490</td>\n",
       "      <td>1998</td>\n",
       "    </tr>\n",
       "  </tbody>\n",
       "</table>\n",
       "</div>"
      ],
      "text/plain": [
       "    Disney_Period Gender  Movie Role Song  Speaker Speaker_Status Start_Scene  \\\n",
       "485           MID    NaN  Mulan  NaN  NaN  shan yu          NON-P         NaN   \n",
       "486           MID    NaN  Mulan  NaN  NaN    mulan       PRINCESS         NaN   \n",
       "487           MID    NaN  Mulan  NaN  NaN  chienpo          NON-P         NaN   \n",
       "488           MID    NaN  Mulan  NaN  NaN  shun yu          NON-P         NaN   \n",
       "489           MID    NaN  Mulan  NaN  NaN      yao          NON-P         NaN   \n",
       "\n",
       "                                    Text  UTTERANCE_NUMBER  Year  \n",
       "485  then you will kneel ... in pieces!                486  1998  \n",
       "486           chienpo, get the emperor!                487  1998  \n",
       "487                sorry, your majesty.                488  1998  \n",
       "488                                 no!                489  1998  \n",
       "489                            come on!                490  1998  "
      ]
     },
     "execution_count": 50,
     "metadata": {},
     "output_type": "execute_result"
    }
   ],
   "source": [
    "#not too informative. I'm pretty sure this is shan yu, but let's look at the context just the make sure\n",
    "mulan.iloc[485:490] #yep, that's shan yu"
   ]
  },
  {
   "cell_type": "code",
   "execution_count": 53,
   "metadata": {},
   "outputs": [
    {
     "name": "stdout",
     "output_type": "stream",
     "text": [
      "14\n",
      "1\n"
     ]
    }
   ],
   "source": [
    "print(len(mulan[mulan.Speaker == 'shan yu']))\n",
    "print(len(mulan[mulan.Speaker == 'shun yu']))"
   ]
  },
  {
   "cell_type": "code",
   "execution_count": 55,
   "metadata": {},
   "outputs": [
    {
     "name": "stdout",
     "output_type": "stream",
     "text": [
      "15\n"
     ]
    }
   ],
   "source": [
    "mulan.Speaker.replace(\"shun yu\", \"shan yu\", inplace = True)\n",
    "print(len(mulan[mulan.Speaker == 'shan yu'])) #Awesome!"
   ]
  },
  {
   "cell_type": "code",
   "execution_count": 56,
   "metadata": {},
   "outputs": [
    {
     "data": {
      "text/html": [
       "<div>\n",
       "<style scoped>\n",
       "    .dataframe tbody tr th:only-of-type {\n",
       "        vertical-align: middle;\n",
       "    }\n",
       "\n",
       "    .dataframe tbody tr th {\n",
       "        vertical-align: top;\n",
       "    }\n",
       "\n",
       "    .dataframe thead th {\n",
       "        text-align: right;\n",
       "    }\n",
       "</style>\n",
       "<table border=\"1\" class=\"dataframe\">\n",
       "  <thead>\n",
       "    <tr style=\"text-align: right;\">\n",
       "      <th></th>\n",
       "      <th>Disney_Period</th>\n",
       "      <th>Gender</th>\n",
       "      <th>Movie</th>\n",
       "      <th>Role</th>\n",
       "      <th>Song</th>\n",
       "      <th>Speaker</th>\n",
       "      <th>Speaker_Status</th>\n",
       "      <th>Start_Scene</th>\n",
       "      <th>Text</th>\n",
       "      <th>UTTERANCE_NUMBER</th>\n",
       "      <th>Year</th>\n",
       "    </tr>\n",
       "  </thead>\n",
       "  <tbody>\n",
       "    <tr>\n",
       "      <th>203</th>\n",
       "      <td>MID</td>\n",
       "      <td>NaN</td>\n",
       "      <td>Mulan</td>\n",
       "      <td>NaN</td>\n",
       "      <td>NaN</td>\n",
       "      <td>yow</td>\n",
       "      <td>NON-P</td>\n",
       "      <td>NaN</td>\n",
       "      <td>hmmm ...</td>\n",
       "      <td>204</td>\n",
       "      <td>1998</td>\n",
       "    </tr>\n",
       "    <tr>\n",
       "      <th>207</th>\n",
       "      <td>MID</td>\n",
       "      <td>NaN</td>\n",
       "      <td>Mulan</td>\n",
       "      <td>NaN</td>\n",
       "      <td>NaN</td>\n",
       "      <td>yow</td>\n",
       "      <td>NON-P</td>\n",
       "      <td>NaN</td>\n",
       "      <td>what are you looking at?</td>\n",
       "      <td>208</td>\n",
       "      <td>1998</td>\n",
       "    </tr>\n",
       "  </tbody>\n",
       "</table>\n",
       "</div>"
      ],
      "text/plain": [
       "    Disney_Period Gender  Movie Role Song Speaker Speaker_Status Start_Scene  \\\n",
       "203           MID    NaN  Mulan  NaN  NaN     yow          NON-P         NaN   \n",
       "207           MID    NaN  Mulan  NaN  NaN     yow          NON-P         NaN   \n",
       "\n",
       "                          Text  UTTERANCE_NUMBER  Year  \n",
       "203                  hmmm ...                204  1998  \n",
       "207  what are you looking at?                208  1998  "
      ]
     },
     "execution_count": 56,
     "metadata": {},
     "output_type": "execute_result"
    }
   ],
   "source": [
    "mulan[mulan.Speaker == 'yow'].head()"
   ]
  },
  {
   "cell_type": "code",
   "execution_count": 58,
   "metadata": {},
   "outputs": [
    {
     "data": {
      "text/html": [
       "<div>\n",
       "<style scoped>\n",
       "    .dataframe tbody tr th:only-of-type {\n",
       "        vertical-align: middle;\n",
       "    }\n",
       "\n",
       "    .dataframe tbody tr th {\n",
       "        vertical-align: top;\n",
       "    }\n",
       "\n",
       "    .dataframe thead th {\n",
       "        text-align: right;\n",
       "    }\n",
       "</style>\n",
       "<table border=\"1\" class=\"dataframe\">\n",
       "  <thead>\n",
       "    <tr style=\"text-align: right;\">\n",
       "      <th></th>\n",
       "      <th>Disney_Period</th>\n",
       "      <th>Gender</th>\n",
       "      <th>Movie</th>\n",
       "      <th>Role</th>\n",
       "      <th>Song</th>\n",
       "      <th>Speaker</th>\n",
       "      <th>Speaker_Status</th>\n",
       "      <th>Start_Scene</th>\n",
       "      <th>Text</th>\n",
       "      <th>UTTERANCE_NUMBER</th>\n",
       "      <th>Year</th>\n",
       "    </tr>\n",
       "  </thead>\n",
       "  <tbody>\n",
       "    <tr>\n",
       "      <th>200</th>\n",
       "      <td>MID</td>\n",
       "      <td>NaN</td>\n",
       "      <td>Mulan</td>\n",
       "      <td>NaN</td>\n",
       "      <td>NaN</td>\n",
       "      <td>mulan</td>\n",
       "      <td>PRINCESS</td>\n",
       "      <td>NaN</td>\n",
       "      <td>they're disgusting.</td>\n",
       "      <td>201</td>\n",
       "      <td>1998</td>\n",
       "    </tr>\n",
       "    <tr>\n",
       "      <th>201</th>\n",
       "      <td>MID</td>\n",
       "      <td>NaN</td>\n",
       "      <td>Mulan</td>\n",
       "      <td>NaN</td>\n",
       "      <td>NaN</td>\n",
       "      <td>mushu</td>\n",
       "      <td>NON-P</td>\n",
       "      <td>NaN</td>\n",
       "      <td>no, they're men. and you're gonna have to act ...</td>\n",
       "      <td>202</td>\n",
       "      <td>1998</td>\n",
       "    </tr>\n",
       "    <tr>\n",
       "      <th>202</th>\n",
       "      <td>MID</td>\n",
       "      <td>NaN</td>\n",
       "      <td>Mulan</td>\n",
       "      <td>NaN</td>\n",
       "      <td>NaN</td>\n",
       "      <td>recruit</td>\n",
       "      <td>NON-P</td>\n",
       "      <td>NaN</td>\n",
       "      <td>look! this tattoo will protect me from harm!</td>\n",
       "      <td>203</td>\n",
       "      <td>1998</td>\n",
       "    </tr>\n",
       "    <tr>\n",
       "      <th>203</th>\n",
       "      <td>MID</td>\n",
       "      <td>NaN</td>\n",
       "      <td>Mulan</td>\n",
       "      <td>NaN</td>\n",
       "      <td>NaN</td>\n",
       "      <td>yow</td>\n",
       "      <td>NON-P</td>\n",
       "      <td>NaN</td>\n",
       "      <td>hmmm ...</td>\n",
       "      <td>204</td>\n",
       "      <td>1998</td>\n",
       "    </tr>\n",
       "    <tr>\n",
       "      <th>204</th>\n",
       "      <td>MID</td>\n",
       "      <td>NaN</td>\n",
       "      <td>Mulan</td>\n",
       "      <td>NaN</td>\n",
       "      <td>NaN</td>\n",
       "      <td>ling</td>\n",
       "      <td>NON-P</td>\n",
       "      <td>NaN</td>\n",
       "      <td>i hope you can get your money back!</td>\n",
       "      <td>205</td>\n",
       "      <td>1998</td>\n",
       "    </tr>\n",
       "    <tr>\n",
       "      <th>205</th>\n",
       "      <td>MID</td>\n",
       "      <td>NaN</td>\n",
       "      <td>Mulan</td>\n",
       "      <td>NaN</td>\n",
       "      <td>NaN</td>\n",
       "      <td>mulan</td>\n",
       "      <td>PRINCESS</td>\n",
       "      <td>NaN</td>\n",
       "      <td>i don't think i can do this ...</td>\n",
       "      <td>206</td>\n",
       "      <td>1998</td>\n",
       "    </tr>\n",
       "    <tr>\n",
       "      <th>206</th>\n",
       "      <td>MID</td>\n",
       "      <td>NaN</td>\n",
       "      <td>Mulan</td>\n",
       "      <td>NaN</td>\n",
       "      <td>NaN</td>\n",
       "      <td>mushu</td>\n",
       "      <td>NON-P</td>\n",
       "      <td>NaN</td>\n",
       "      <td>it's all attitude! be tough, like this guy here!</td>\n",
       "      <td>207</td>\n",
       "      <td>1998</td>\n",
       "    </tr>\n",
       "    <tr>\n",
       "      <th>207</th>\n",
       "      <td>MID</td>\n",
       "      <td>NaN</td>\n",
       "      <td>Mulan</td>\n",
       "      <td>NaN</td>\n",
       "      <td>NaN</td>\n",
       "      <td>yow</td>\n",
       "      <td>NON-P</td>\n",
       "      <td>NaN</td>\n",
       "      <td>what are you looking at?</td>\n",
       "      <td>208</td>\n",
       "      <td>1998</td>\n",
       "    </tr>\n",
       "    <tr>\n",
       "      <th>208</th>\n",
       "      <td>MID</td>\n",
       "      <td>NaN</td>\n",
       "      <td>Mulan</td>\n",
       "      <td>NaN</td>\n",
       "      <td>NaN</td>\n",
       "      <td>mushu</td>\n",
       "      <td>NON-P</td>\n",
       "      <td>NaN</td>\n",
       "      <td>punch him. it's how men say hello.</td>\n",
       "      <td>209</td>\n",
       "      <td>1998</td>\n",
       "    </tr>\n",
       "    <tr>\n",
       "      <th>209</th>\n",
       "      <td>MID</td>\n",
       "      <td>NaN</td>\n",
       "      <td>Mulan</td>\n",
       "      <td>NaN</td>\n",
       "      <td>NaN</td>\n",
       "      <td>chien po</td>\n",
       "      <td>NON-P</td>\n",
       "      <td>NaN</td>\n",
       "      <td>oh, yow! you've made a friend!</td>\n",
       "      <td>210</td>\n",
       "      <td>1998</td>\n",
       "    </tr>\n",
       "  </tbody>\n",
       "</table>\n",
       "</div>"
      ],
      "text/plain": [
       "    Disney_Period Gender  Movie Role Song   Speaker Speaker_Status  \\\n",
       "200           MID    NaN  Mulan  NaN  NaN     mulan       PRINCESS   \n",
       "201           MID    NaN  Mulan  NaN  NaN     mushu          NON-P   \n",
       "202           MID    NaN  Mulan  NaN  NaN   recruit          NON-P   \n",
       "203           MID    NaN  Mulan  NaN  NaN       yow          NON-P   \n",
       "204           MID    NaN  Mulan  NaN  NaN      ling          NON-P   \n",
       "205           MID    NaN  Mulan  NaN  NaN     mulan       PRINCESS   \n",
       "206           MID    NaN  Mulan  NaN  NaN     mushu          NON-P   \n",
       "207           MID    NaN  Mulan  NaN  NaN       yow          NON-P   \n",
       "208           MID    NaN  Mulan  NaN  NaN     mushu          NON-P   \n",
       "209           MID    NaN  Mulan  NaN  NaN  chien po          NON-P   \n",
       "\n",
       "    Start_Scene                                               Text  \\\n",
       "200         NaN                               they're disgusting.    \n",
       "201         NaN  no, they're men. and you're gonna have to act ...   \n",
       "202         NaN      look! this tattoo will protect me from harm!    \n",
       "203         NaN                                          hmmm ...    \n",
       "204         NaN               i hope you can get your money back!    \n",
       "205         NaN                   i don't think i can do this ...    \n",
       "206         NaN  it's all attitude! be tough, like this guy here!    \n",
       "207         NaN                          what are you looking at?    \n",
       "208         NaN                punch him. it's how men say hello.    \n",
       "209         NaN                    oh, yow! you've made a friend!    \n",
       "\n",
       "     UTTERANCE_NUMBER  Year  \n",
       "200               201  1998  \n",
       "201               202  1998  \n",
       "202               203  1998  \n",
       "203               204  1998  \n",
       "204               205  1998  \n",
       "205               206  1998  \n",
       "206               207  1998  \n",
       "207               208  1998  \n",
       "208               209  1998  \n",
       "209               210  1998  "
      ]
     },
     "execution_count": 58,
     "metadata": {},
     "output_type": "execute_result"
    }
   ],
   "source": [
    "mulan.iloc[200:210] #yep that's supposed to be yao"
   ]
  },
  {
   "cell_type": "code",
   "execution_count": 57,
   "metadata": {},
   "outputs": [
    {
     "data": {
      "text/html": [
       "<div>\n",
       "<style scoped>\n",
       "    .dataframe tbody tr th:only-of-type {\n",
       "        vertical-align: middle;\n",
       "    }\n",
       "\n",
       "    .dataframe tbody tr th {\n",
       "        vertical-align: top;\n",
       "    }\n",
       "\n",
       "    .dataframe thead th {\n",
       "        text-align: right;\n",
       "    }\n",
       "</style>\n",
       "<table border=\"1\" class=\"dataframe\">\n",
       "  <thead>\n",
       "    <tr style=\"text-align: right;\">\n",
       "      <th></th>\n",
       "      <th>Disney_Period</th>\n",
       "      <th>Gender</th>\n",
       "      <th>Movie</th>\n",
       "      <th>Role</th>\n",
       "      <th>Song</th>\n",
       "      <th>Speaker</th>\n",
       "      <th>Speaker_Status</th>\n",
       "      <th>Start_Scene</th>\n",
       "      <th>Text</th>\n",
       "      <th>UTTERANCE_NUMBER</th>\n",
       "      <th>Year</th>\n",
       "    </tr>\n",
       "  </thead>\n",
       "  <tbody>\n",
       "    <tr>\n",
       "      <th>211</th>\n",
       "      <td>MID</td>\n",
       "      <td>NaN</td>\n",
       "      <td>Mulan</td>\n",
       "      <td>NaN</td>\n",
       "      <td>NaN</td>\n",
       "      <td>yao</td>\n",
       "      <td>NON-P</td>\n",
       "      <td>NaN</td>\n",
       "      <td>woo hoo ... i'm gonna hit you so hard, it'll m...</td>\n",
       "      <td>212</td>\n",
       "      <td>1998</td>\n",
       "    </tr>\n",
       "    <tr>\n",
       "      <th>213</th>\n",
       "      <td>MID</td>\n",
       "      <td>NaN</td>\n",
       "      <td>Mulan</td>\n",
       "      <td>NaN</td>\n",
       "      <td>NaN</td>\n",
       "      <td>yao</td>\n",
       "      <td>NON-P</td>\n",
       "      <td>NaN</td>\n",
       "      <td>errrrrgh ....</td>\n",
       "      <td>214</td>\n",
       "      <td>1998</td>\n",
       "    </tr>\n",
       "    <tr>\n",
       "      <th>215</th>\n",
       "      <td>MID</td>\n",
       "      <td>NaN</td>\n",
       "      <td>Mulan</td>\n",
       "      <td>NaN</td>\n",
       "      <td>NaN</td>\n",
       "      <td>yao</td>\n",
       "      <td>NON-P</td>\n",
       "      <td>NaN</td>\n",
       "      <td>nonuamitofudah.</td>\n",
       "      <td>216</td>\n",
       "      <td>1998</td>\n",
       "    </tr>\n",
       "    <tr>\n",
       "      <th>217</th>\n",
       "      <td>MID</td>\n",
       "      <td>NaN</td>\n",
       "      <td>Mulan</td>\n",
       "      <td>NaN</td>\n",
       "      <td>NaN</td>\n",
       "      <td>yao</td>\n",
       "      <td>NON-P</td>\n",
       "      <td>NaN</td>\n",
       "      <td>nrrgh. ah, you ain't worth my time. chicken boy.</td>\n",
       "      <td>218</td>\n",
       "      <td>1998</td>\n",
       "    </tr>\n",
       "    <tr>\n",
       "      <th>219</th>\n",
       "      <td>MID</td>\n",
       "      <td>NaN</td>\n",
       "      <td>Mulan</td>\n",
       "      <td>NaN</td>\n",
       "      <td>NaN</td>\n",
       "      <td>yao</td>\n",
       "      <td>NON-P</td>\n",
       "      <td>NaN</td>\n",
       "      <td>rrraaaaghhh!</td>\n",
       "      <td>220</td>\n",
       "      <td>1998</td>\n",
       "    </tr>\n",
       "  </tbody>\n",
       "</table>\n",
       "</div>"
      ],
      "text/plain": [
       "    Disney_Period Gender  Movie Role Song Speaker Speaker_Status Start_Scene  \\\n",
       "211           MID    NaN  Mulan  NaN  NaN     yao          NON-P         NaN   \n",
       "213           MID    NaN  Mulan  NaN  NaN     yao          NON-P         NaN   \n",
       "215           MID    NaN  Mulan  NaN  NaN     yao          NON-P         NaN   \n",
       "217           MID    NaN  Mulan  NaN  NaN     yao          NON-P         NaN   \n",
       "219           MID    NaN  Mulan  NaN  NaN     yao          NON-P         NaN   \n",
       "\n",
       "                                                  Text  UTTERANCE_NUMBER  Year  \n",
       "211  woo hoo ... i'm gonna hit you so hard, it'll m...               212  1998  \n",
       "213                                     errrrrgh ....                214  1998  \n",
       "215                                   nonuamitofudah.                216  1998  \n",
       "217  nrrgh. ah, you ain't worth my time. chicken boy.                218  1998  \n",
       "219                                      rrraaaaghhh!                220  1998  "
      ]
     },
     "execution_count": 57,
     "metadata": {},
     "output_type": "execute_result"
    }
   ],
   "source": [
    "mulan[mulan.Speaker == 'yao'].head()"
   ]
  },
  {
   "cell_type": "code",
   "execution_count": 59,
   "metadata": {},
   "outputs": [
    {
     "name": "stdout",
     "output_type": "stream",
     "text": [
      "2\n",
      "23\n"
     ]
    }
   ],
   "source": [
    "print(len(mulan[mulan.Speaker == 'yow']))\n",
    "print(len(mulan[mulan.Speaker == 'yao']))"
   ]
  },
  {
   "cell_type": "code",
   "execution_count": 60,
   "metadata": {},
   "outputs": [
    {
     "name": "stdout",
     "output_type": "stream",
     "text": [
      "25\n"
     ]
    }
   ],
   "source": [
    "mulan.Speaker.replace(\"yow\", \"yao\", inplace = True)\n",
    "print(len(mulan[mulan.Speaker == 'yao'])) #Awesome!"
   ]
  },
  {
   "cell_type": "code",
   "execution_count": 61,
   "metadata": {},
   "outputs": [
    {
     "data": {
      "text/html": [
       "<div>\n",
       "<style scoped>\n",
       "    .dataframe tbody tr th:only-of-type {\n",
       "        vertical-align: middle;\n",
       "    }\n",
       "\n",
       "    .dataframe tbody tr th {\n",
       "        vertical-align: top;\n",
       "    }\n",
       "\n",
       "    .dataframe thead th {\n",
       "        text-align: right;\n",
       "    }\n",
       "</style>\n",
       "<table border=\"1\" class=\"dataframe\">\n",
       "  <thead>\n",
       "    <tr style=\"text-align: right;\">\n",
       "      <th></th>\n",
       "      <th>Disney_Period</th>\n",
       "      <th>Gender</th>\n",
       "      <th>Movie</th>\n",
       "      <th>Role</th>\n",
       "      <th>Song</th>\n",
       "      <th>Speaker</th>\n",
       "      <th>Speaker_Status</th>\n",
       "      <th>Start_Scene</th>\n",
       "      <th>Text</th>\n",
       "      <th>UTTERANCE_NUMBER</th>\n",
       "      <th>Year</th>\n",
       "    </tr>\n",
       "  </thead>\n",
       "  <tbody>\n",
       "    <tr>\n",
       "      <th>385</th>\n",
       "      <td>MID</td>\n",
       "      <td>NaN</td>\n",
       "      <td>Mulan</td>\n",
       "      <td>NaN</td>\n",
       "      <td>NaN</td>\n",
       "      <td>chienpo</td>\n",
       "      <td>NON-P</td>\n",
       "      <td>NaN</td>\n",
       "      <td>the ... general.</td>\n",
       "      <td>386</td>\n",
       "      <td>1998</td>\n",
       "    </tr>\n",
       "    <tr>\n",
       "      <th>403</th>\n",
       "      <td>MID</td>\n",
       "      <td>NaN</td>\n",
       "      <td>Mulan</td>\n",
       "      <td>NaN</td>\n",
       "      <td>NaN</td>\n",
       "      <td>chienpo</td>\n",
       "      <td>NON-P</td>\n",
       "      <td>NaN</td>\n",
       "      <td>do you see them?</td>\n",
       "      <td>404</td>\n",
       "      <td>1998</td>\n",
       "    </tr>\n",
       "    <tr>\n",
       "      <th>487</th>\n",
       "      <td>MID</td>\n",
       "      <td>NaN</td>\n",
       "      <td>Mulan</td>\n",
       "      <td>NaN</td>\n",
       "      <td>NaN</td>\n",
       "      <td>chienpo</td>\n",
       "      <td>NON-P</td>\n",
       "      <td>NaN</td>\n",
       "      <td>sorry, your majesty.</td>\n",
       "      <td>488</td>\n",
       "      <td>1998</td>\n",
       "    </tr>\n",
       "  </tbody>\n",
       "</table>\n",
       "</div>"
      ],
      "text/plain": [
       "    Disney_Period Gender  Movie Role Song  Speaker Speaker_Status Start_Scene  \\\n",
       "385           MID    NaN  Mulan  NaN  NaN  chienpo          NON-P         NaN   \n",
       "403           MID    NaN  Mulan  NaN  NaN  chienpo          NON-P         NaN   \n",
       "487           MID    NaN  Mulan  NaN  NaN  chienpo          NON-P         NaN   \n",
       "\n",
       "                      Text  UTTERANCE_NUMBER  Year  \n",
       "385      the ... general.                386  1998  \n",
       "403      do you see them?                404  1998  \n",
       "487  sorry, your majesty.                488  1998  "
      ]
     },
     "execution_count": 61,
     "metadata": {},
     "output_type": "execute_result"
    }
   ],
   "source": [
    "mulan[mulan.Speaker == 'chienpo'] #typo"
   ]
  },
  {
   "cell_type": "code",
   "execution_count": 62,
   "metadata": {},
   "outputs": [
    {
     "data": {
      "text/html": [
       "<div>\n",
       "<style scoped>\n",
       "    .dataframe tbody tr th:only-of-type {\n",
       "        vertical-align: middle;\n",
       "    }\n",
       "\n",
       "    .dataframe tbody tr th {\n",
       "        vertical-align: top;\n",
       "    }\n",
       "\n",
       "    .dataframe thead th {\n",
       "        text-align: right;\n",
       "    }\n",
       "</style>\n",
       "<table border=\"1\" class=\"dataframe\">\n",
       "  <thead>\n",
       "    <tr style=\"text-align: right;\">\n",
       "      <th></th>\n",
       "      <th>Disney_Period</th>\n",
       "      <th>Gender</th>\n",
       "      <th>Movie</th>\n",
       "      <th>Role</th>\n",
       "      <th>Song</th>\n",
       "      <th>Speaker</th>\n",
       "      <th>Speaker_Status</th>\n",
       "      <th>Start_Scene</th>\n",
       "      <th>Text</th>\n",
       "      <th>UTTERANCE_NUMBER</th>\n",
       "      <th>Year</th>\n",
       "    </tr>\n",
       "  </thead>\n",
       "  <tbody>\n",
       "    <tr>\n",
       "      <th>209</th>\n",
       "      <td>MID</td>\n",
       "      <td>NaN</td>\n",
       "      <td>Mulan</td>\n",
       "      <td>NaN</td>\n",
       "      <td>NaN</td>\n",
       "      <td>chien po</td>\n",
       "      <td>NON-P</td>\n",
       "      <td>NaN</td>\n",
       "      <td>oh, yow! you've made a friend!</td>\n",
       "      <td>210</td>\n",
       "      <td>1998</td>\n",
       "    </tr>\n",
       "    <tr>\n",
       "      <th>212</th>\n",
       "      <td>MID</td>\n",
       "      <td>NaN</td>\n",
       "      <td>Mulan</td>\n",
       "      <td>NaN</td>\n",
       "      <td>NaN</td>\n",
       "      <td>chien po</td>\n",
       "      <td>NON-P</td>\n",
       "      <td>NaN</td>\n",
       "      <td>yow, relax and chant with me.</td>\n",
       "      <td>213</td>\n",
       "      <td>1998</td>\n",
       "    </tr>\n",
       "    <tr>\n",
       "      <th>214</th>\n",
       "      <td>MID</td>\n",
       "      <td>NaN</td>\n",
       "      <td>Mulan</td>\n",
       "      <td>NaN</td>\n",
       "      <td>NaN</td>\n",
       "      <td>chien po</td>\n",
       "      <td>NON-P</td>\n",
       "      <td>NaN</td>\n",
       "      <td>nanuami tofu dah ...</td>\n",
       "      <td>215</td>\n",
       "      <td>1998</td>\n",
       "    </tr>\n",
       "    <tr>\n",
       "      <th>216</th>\n",
       "      <td>MID</td>\n",
       "      <td>NaN</td>\n",
       "      <td>Mulan</td>\n",
       "      <td>NaN</td>\n",
       "      <td>NaN</td>\n",
       "      <td>chien po</td>\n",
       "      <td>NON-P</td>\n",
       "      <td>NaN</td>\n",
       "      <td>feel better?</td>\n",
       "      <td>217</td>\n",
       "      <td>1998</td>\n",
       "    </tr>\n",
       "    <tr>\n",
       "      <th>284</th>\n",
       "      <td>MID</td>\n",
       "      <td>NaN</td>\n",
       "      <td>Mulan</td>\n",
       "      <td>NaN</td>\n",
       "      <td>NaN</td>\n",
       "      <td>chien po</td>\n",
       "      <td>NON-P</td>\n",
       "      <td>NaN</td>\n",
       "      <td>sweet and pungent shrimp.</td>\n",
       "      <td>285</td>\n",
       "      <td>1998</td>\n",
       "    </tr>\n",
       "    <tr>\n",
       "      <th>296</th>\n",
       "      <td>MID</td>\n",
       "      <td>NaN</td>\n",
       "      <td>Mulan</td>\n",
       "      <td>NaN</td>\n",
       "      <td>NaN</td>\n",
       "      <td>chien po</td>\n",
       "      <td>NON-P</td>\n",
       "      <td>NaN</td>\n",
       "      <td>i'm never gonna catch my breath</td>\n",
       "      <td>297</td>\n",
       "      <td>1998</td>\n",
       "    </tr>\n",
       "    <tr>\n",
       "      <th>301</th>\n",
       "      <td>MID</td>\n",
       "      <td>NaN</td>\n",
       "      <td>Mulan</td>\n",
       "      <td>NaN</td>\n",
       "      <td>NaN</td>\n",
       "      <td>chien po</td>\n",
       "      <td>NON-P</td>\n",
       "      <td>NaN</td>\n",
       "      <td>now i really wish that i knew how to swim</td>\n",
       "      <td>302</td>\n",
       "      <td>1998</td>\n",
       "    </tr>\n",
       "    <tr>\n",
       "      <th>338</th>\n",
       "      <td>MID</td>\n",
       "      <td>NaN</td>\n",
       "      <td>Mulan</td>\n",
       "      <td>NaN</td>\n",
       "      <td>NaN</td>\n",
       "      <td>chien po</td>\n",
       "      <td>NON-P</td>\n",
       "      <td>NaN</td>\n",
       "      <td>and i'm chienpo.</td>\n",
       "      <td>339</td>\n",
       "      <td>1998</td>\n",
       "    </tr>\n",
       "  </tbody>\n",
       "</table>\n",
       "</div>"
      ],
      "text/plain": [
       "    Disney_Period Gender  Movie Role Song   Speaker Speaker_Status  \\\n",
       "209           MID    NaN  Mulan  NaN  NaN  chien po          NON-P   \n",
       "212           MID    NaN  Mulan  NaN  NaN  chien po          NON-P   \n",
       "214           MID    NaN  Mulan  NaN  NaN  chien po          NON-P   \n",
       "216           MID    NaN  Mulan  NaN  NaN  chien po          NON-P   \n",
       "284           MID    NaN  Mulan  NaN  NaN  chien po          NON-P   \n",
       "296           MID    NaN  Mulan  NaN  NaN  chien po          NON-P   \n",
       "301           MID    NaN  Mulan  NaN  NaN  chien po          NON-P   \n",
       "338           MID    NaN  Mulan  NaN  NaN  chien po          NON-P   \n",
       "\n",
       "    Start_Scene                                        Text  UTTERANCE_NUMBER  \\\n",
       "209         NaN             oh, yow! you've made a friend!                210   \n",
       "212         NaN              yow, relax and chant with me.                213   \n",
       "214         NaN                       nanuami tofu dah ...                215   \n",
       "216         NaN                               feel better?                217   \n",
       "284         NaN                  sweet and pungent shrimp.                285   \n",
       "296         NaN            i'm never gonna catch my breath                297   \n",
       "301         NaN  now i really wish that i knew how to swim                302   \n",
       "338         NaN                           and i'm chienpo.                339   \n",
       "\n",
       "     Year  \n",
       "209  1998  \n",
       "212  1998  \n",
       "214  1998  \n",
       "216  1998  \n",
       "284  1998  \n",
       "296  1998  \n",
       "301  1998  \n",
       "338  1998  "
      ]
     },
     "execution_count": 62,
     "metadata": {},
     "output_type": "execute_result"
    }
   ],
   "source": [
    "mulan[mulan.Speaker == 'chien po'] #correct spelling"
   ]
  },
  {
   "cell_type": "code",
   "execution_count": 63,
   "metadata": {},
   "outputs": [
    {
     "name": "stdout",
     "output_type": "stream",
     "text": [
      "3\n",
      "8\n"
     ]
    }
   ],
   "source": [
    "print(len(mulan[mulan.Speaker == 'chienpo']))\n",
    "print(len(mulan[mulan.Speaker == 'chien po']))"
   ]
  },
  {
   "cell_type": "code",
   "execution_count": 64,
   "metadata": {},
   "outputs": [
    {
     "name": "stdout",
     "output_type": "stream",
     "text": [
      "11\n"
     ]
    }
   ],
   "source": [
    "mulan.Speaker.replace(\"chienpo\", \"chien po\", inplace = True)\n",
    "print(len(mulan[mulan.Speaker == 'chien po'])) #Awesome!"
   ]
  },
  {
   "cell_type": "markdown",
   "metadata": {},
   "source": [
    "One more thing before we label characters. Who in the heck is 'fa thang'?"
   ]
  },
  {
   "cell_type": "code",
   "execution_count": 67,
   "metadata": {},
   "outputs": [
    {
     "data": {
      "text/html": [
       "<div>\n",
       "<style scoped>\n",
       "    .dataframe tbody tr th:only-of-type {\n",
       "        vertical-align: middle;\n",
       "    }\n",
       "\n",
       "    .dataframe tbody tr th {\n",
       "        vertical-align: top;\n",
       "    }\n",
       "\n",
       "    .dataframe thead th {\n",
       "        text-align: right;\n",
       "    }\n",
       "</style>\n",
       "<table border=\"1\" class=\"dataframe\">\n",
       "  <thead>\n",
       "    <tr style=\"text-align: right;\">\n",
       "      <th></th>\n",
       "      <th>Disney_Period</th>\n",
       "      <th>Gender</th>\n",
       "      <th>Movie</th>\n",
       "      <th>Role</th>\n",
       "      <th>Song</th>\n",
       "      <th>Speaker</th>\n",
       "      <th>Speaker_Status</th>\n",
       "      <th>Start_Scene</th>\n",
       "      <th>Text</th>\n",
       "      <th>UTTERANCE_NUMBER</th>\n",
       "      <th>Year</th>\n",
       "    </tr>\n",
       "  </thead>\n",
       "  <tbody>\n",
       "    <tr>\n",
       "      <th>147</th>\n",
       "      <td>MID</td>\n",
       "      <td>NaN</td>\n",
       "      <td>Mulan</td>\n",
       "      <td>NaN</td>\n",
       "      <td>NaN</td>\n",
       "      <td>fa thang</td>\n",
       "      <td>NON-P</td>\n",
       "      <td>NaN</td>\n",
       "      <td>yeah, thanks a lot.</td>\n",
       "      <td>148</td>\n",
       "      <td>1998</td>\n",
       "    </tr>\n",
       "  </tbody>\n",
       "</table>\n",
       "</div>"
      ],
      "text/plain": [
       "    Disney_Period Gender  Movie Role Song   Speaker Speaker_Status  \\\n",
       "147           MID    NaN  Mulan  NaN  NaN  fa thang          NON-P   \n",
       "\n",
       "    Start_Scene                  Text  UTTERANCE_NUMBER  Year  \n",
       "147         NaN  yeah, thanks a lot.                148  1998  "
      ]
     },
     "execution_count": 67,
     "metadata": {},
     "output_type": "execute_result"
    }
   ],
   "source": [
    "mulan[mulan.Speaker == 'fa thang']"
   ]
  },
  {
   "cell_type": "code",
   "execution_count": 68,
   "metadata": {},
   "outputs": [
    {
     "data": {
      "text/html": [
       "<div>\n",
       "<style scoped>\n",
       "    .dataframe tbody tr th:only-of-type {\n",
       "        vertical-align: middle;\n",
       "    }\n",
       "\n",
       "    .dataframe tbody tr th {\n",
       "        vertical-align: top;\n",
       "    }\n",
       "\n",
       "    .dataframe thead th {\n",
       "        text-align: right;\n",
       "    }\n",
       "</style>\n",
       "<table border=\"1\" class=\"dataframe\">\n",
       "  <thead>\n",
       "    <tr style=\"text-align: right;\">\n",
       "      <th></th>\n",
       "      <th>Disney_Period</th>\n",
       "      <th>Gender</th>\n",
       "      <th>Movie</th>\n",
       "      <th>Role</th>\n",
       "      <th>Song</th>\n",
       "      <th>Speaker</th>\n",
       "      <th>Speaker_Status</th>\n",
       "      <th>Start_Scene</th>\n",
       "      <th>Text</th>\n",
       "      <th>UTTERANCE_NUMBER</th>\n",
       "      <th>Year</th>\n",
       "    </tr>\n",
       "  </thead>\n",
       "  <tbody>\n",
       "    <tr>\n",
       "      <th>143</th>\n",
       "      <td>MID</td>\n",
       "      <td>NaN</td>\n",
       "      <td>Mulan</td>\n",
       "      <td>NaN</td>\n",
       "      <td>NaN</td>\n",
       "      <td>mushu</td>\n",
       "      <td>NON-P</td>\n",
       "      <td>NaN</td>\n",
       "      <td>well, y'all don't think i can do it! watch thi...</td>\n",
       "      <td>144</td>\n",
       "      <td>1998</td>\n",
       "    </tr>\n",
       "    <tr>\n",
       "      <th>144</th>\n",
       "      <td>MID</td>\n",
       "      <td>NaN</td>\n",
       "      <td>Mulan</td>\n",
       "      <td>NaN</td>\n",
       "      <td>NaN</td>\n",
       "      <td>mushu</td>\n",
       "      <td>NON-P</td>\n",
       "      <td>NaN</td>\n",
       "      <td>ahhah! jump back, i'm pretty hot. but i don't ...</td>\n",
       "      <td>145</td>\n",
       "      <td>1998</td>\n",
       "    </tr>\n",
       "    <tr>\n",
       "      <th>145</th>\n",
       "      <td>MID</td>\n",
       "      <td>NaN</td>\n",
       "      <td>Mulan</td>\n",
       "      <td>NaN</td>\n",
       "      <td>NaN</td>\n",
       "      <td>great ancestor</td>\n",
       "      <td>NON-P</td>\n",
       "      <td>NaN</td>\n",
       "      <td>you had your chance to protect the fa family.</td>\n",
       "      <td>146</td>\n",
       "      <td>1998</td>\n",
       "    </tr>\n",
       "    <tr>\n",
       "      <th>146</th>\n",
       "      <td>MID</td>\n",
       "      <td>NaN</td>\n",
       "      <td>Mulan</td>\n",
       "      <td>NaN</td>\n",
       "      <td>NaN</td>\n",
       "      <td>ancestor #6</td>\n",
       "      <td>NON-P</td>\n",
       "      <td>NaN</td>\n",
       "      <td>your misguidance led fa thang to disaster!</td>\n",
       "      <td>147</td>\n",
       "      <td>1998</td>\n",
       "    </tr>\n",
       "    <tr>\n",
       "      <th>147</th>\n",
       "      <td>MID</td>\n",
       "      <td>NaN</td>\n",
       "      <td>Mulan</td>\n",
       "      <td>NaN</td>\n",
       "      <td>NaN</td>\n",
       "      <td>fa thang</td>\n",
       "      <td>NON-P</td>\n",
       "      <td>NaN</td>\n",
       "      <td>yeah, thanks a lot.</td>\n",
       "      <td>148</td>\n",
       "      <td>1998</td>\n",
       "    </tr>\n",
       "    <tr>\n",
       "      <th>148</th>\n",
       "      <td>MID</td>\n",
       "      <td>NaN</td>\n",
       "      <td>Mulan</td>\n",
       "      <td>NaN</td>\n",
       "      <td>NaN</td>\n",
       "      <td>mushu</td>\n",
       "      <td>NON-P</td>\n",
       "      <td>NaN</td>\n",
       "      <td>and your point is?</td>\n",
       "      <td>149</td>\n",
       "      <td>1998</td>\n",
       "    </tr>\n",
       "    <tr>\n",
       "      <th>149</th>\n",
       "      <td>MID</td>\n",
       "      <td>NaN</td>\n",
       "      <td>Mulan</td>\n",
       "      <td>NaN</td>\n",
       "      <td>NaN</td>\n",
       "      <td>great ancestor</td>\n",
       "      <td>NON-P</td>\n",
       "      <td>NaN</td>\n",
       "      <td>the point is, we will be sending a real dragon...</td>\n",
       "      <td>150</td>\n",
       "      <td>1998</td>\n",
       "    </tr>\n",
       "  </tbody>\n",
       "</table>\n",
       "</div>"
      ],
      "text/plain": [
       "    Disney_Period Gender  Movie Role Song         Speaker Speaker_Status  \\\n",
       "143           MID    NaN  Mulan  NaN  NaN           mushu          NON-P   \n",
       "144           MID    NaN  Mulan  NaN  NaN           mushu          NON-P   \n",
       "145           MID    NaN  Mulan  NaN  NaN  great ancestor          NON-P   \n",
       "146           MID    NaN  Mulan  NaN  NaN     ancestor #6          NON-P   \n",
       "147           MID    NaN  Mulan  NaN  NaN        fa thang          NON-P   \n",
       "148           MID    NaN  Mulan  NaN  NaN           mushu          NON-P   \n",
       "149           MID    NaN  Mulan  NaN  NaN  great ancestor          NON-P   \n",
       "\n",
       "    Start_Scene                                               Text  \\\n",
       "143         NaN  well, y'all don't think i can do it! watch thi...   \n",
       "144         NaN  ahhah! jump back, i'm pretty hot. but i don't ...   \n",
       "145         NaN     you had your chance to protect the fa family.    \n",
       "146         NaN        your misguidance led fa thang to disaster!    \n",
       "147         NaN                               yeah, thanks a lot.    \n",
       "148         NaN                                and your point is?    \n",
       "149         NaN  the point is, we will be sending a real dragon...   \n",
       "\n",
       "     UTTERANCE_NUMBER  Year  \n",
       "143               144  1998  \n",
       "144               145  1998  \n",
       "145               146  1998  \n",
       "146               147  1998  \n",
       "147               148  1998  \n",
       "148               149  1998  \n",
       "149               150  1998  "
      ]
     },
     "execution_count": 68,
     "metadata": {},
     "output_type": "execute_result"
    }
   ],
   "source": [
    "mulan.iloc[143:150] #lol, he's the decapitated ancestor. "
   ]
  },
  {
   "cell_type": "markdown",
   "metadata": {},
   "source": [
    "Cool. Now Let's get back to character labeling. First, let's check that the length of the character list is 5 entries shorter (was originally 56 entries long)"
   ]
  },
  {
   "cell_type": "code",
   "execution_count": 66,
   "metadata": {},
   "outputs": [
    {
     "name": "stdout",
     "output_type": "stream",
     "text": [
      "51\n"
     ]
    },
    {
     "data": {
      "text/plain": [
       "array(['soldier', 'shan yu', 'general', 'chi fu', 'emperor', 'mulan',\n",
       "       'fa zhou', 'woman #1', 'fa li', 'granny fa', 'woman #2',\n",
       "       'woman #3', 'both', 'woman #4', 'woman #5', 'all', 'woman #6',\n",
       "       'matchmaker', 'son', 'great ancestor', 'mushu', 'ancestor #1',\n",
       "       'ancestor #2', 'ancestor #3', 'ancestor #4', 'ancestor #5',\n",
       "       'ancestor #6', 'ancestor #7', 'ancestor #8', 'fa thang', 'crickee',\n",
       "       'hun', 'soldier #1', 'soldier #2', 'hun archer', 'recruit', 'yao',\n",
       "       'ling', 'chien po', 'shang', 'soldiers', 'chorus', 'hun #1',\n",
       "       'hun #2', 'hun #3', 'men singing', 'parade leader', 'man', 'guard',\n",
       "       'guard #2', 'citizen'], dtype=object)"
      ]
     },
     "execution_count": 66,
     "metadata": {},
     "output_type": "execute_result"
    }
   ],
   "source": [
    "print(len(mulan.Speaker.unique())) #51!\n",
    "mulan.Speaker.unique()"
   ]
  },
  {
   "cell_type": "code",
   "execution_count": 74,
   "metadata": {},
   "outputs": [
    {
     "name": "stdout",
     "output_type": "stream",
     "text": [
      "40\n"
     ]
    }
   ],
   "source": [
    "#making gender lists\n",
    "m_female = ['mulan', 'woman #1', 'fa li', 'granny fa', 'woman #2', 'woman #3', 'woman #4', 'woman #5', 'woman #6',\n",
    "          'matchmaker']\n",
    "m_male = ['soldier', 'shan yu', 'general', 'chi fu', 'emperor', 'fa zhou', 'son', 'great ancestor', 'mushu', 'fa thang',\n",
    "        'hun', 'solider #1', 'soldier #2', 'hun archer', 'recruit', 'yao', 'ling', 'chien po', 'shang', 'soldiers',\n",
    "        'hun #1', 'hun #2', 'hun #3', 'men singing', 'parade leader', 'man', 'guard', 'guard #2', 'citizen', 'crickee']\n",
    "print(len(female) + len(male)) #both, all, ancestor #, chorus (11) are all neutral"
   ]
  },
  {
   "cell_type": "code",
   "execution_count": 79,
   "metadata": {},
   "outputs": [
    {
     "name": "stderr",
     "output_type": "stream",
     "text": [
      "c:\\users\\cassi\\appdata\\local\\programs\\python\\python36-32\\lib\\site-packages\\ipykernel_launcher.py:2: SettingWithCopyWarning: \n",
      "A value is trying to be set on a copy of a slice from a DataFrame.\n",
      "Try using .loc[row_indexer,col_indexer] = value instead\n",
      "\n",
      "See the caveats in the documentation: http://pandas.pydata.org/pandas-docs/stable/indexing.html#indexing-view-versus-copy\n",
      "  \n"
     ]
    }
   ],
   "source": [
    "gender_func = partial(whichgen, female = m_female, male=m_male)\n",
    "mulan[\"Gender\"] = mulan.Speaker.map(gender_func)"
   ]
  },
  {
   "cell_type": "code",
   "execution_count": 81,
   "metadata": {},
   "outputs": [
    {
     "data": {
      "text/html": [
       "<div>\n",
       "<style scoped>\n",
       "    .dataframe tbody tr th:only-of-type {\n",
       "        vertical-align: middle;\n",
       "    }\n",
       "\n",
       "    .dataframe tbody tr th {\n",
       "        vertical-align: top;\n",
       "    }\n",
       "\n",
       "    .dataframe thead th {\n",
       "        text-align: right;\n",
       "    }\n",
       "</style>\n",
       "<table border=\"1\" class=\"dataframe\">\n",
       "  <thead>\n",
       "    <tr style=\"text-align: right;\">\n",
       "      <th></th>\n",
       "      <th>Disney_Period</th>\n",
       "      <th>Gender</th>\n",
       "      <th>Movie</th>\n",
       "      <th>Role</th>\n",
       "      <th>Song</th>\n",
       "      <th>Speaker</th>\n",
       "      <th>Speaker_Status</th>\n",
       "      <th>Start_Scene</th>\n",
       "      <th>Text</th>\n",
       "      <th>UTTERANCE_NUMBER</th>\n",
       "      <th>Year</th>\n",
       "    </tr>\n",
       "  </thead>\n",
       "  <tbody>\n",
       "    <tr>\n",
       "      <th>535</th>\n",
       "      <td>MID</td>\n",
       "      <td>m</td>\n",
       "      <td>Mulan</td>\n",
       "      <td>NaN</td>\n",
       "      <td>NaN</td>\n",
       "      <td>fa zhou</td>\n",
       "      <td>NON-P</td>\n",
       "      <td>NaN</td>\n",
       "      <td>mulan!</td>\n",
       "      <td>536</td>\n",
       "      <td>1998</td>\n",
       "    </tr>\n",
       "    <tr>\n",
       "      <th>40</th>\n",
       "      <td>MID</td>\n",
       "      <td>f</td>\n",
       "      <td>Mulan</td>\n",
       "      <td>NaN</td>\n",
       "      <td>NaN</td>\n",
       "      <td>fa li</td>\n",
       "      <td>NON-P</td>\n",
       "      <td>NaN</td>\n",
       "      <td>it would've been warm, if you were here on time.</td>\n",
       "      <td>41</td>\n",
       "      <td>1998</td>\n",
       "    </tr>\n",
       "    <tr>\n",
       "      <th>544</th>\n",
       "      <td>MID</td>\n",
       "      <td>f</td>\n",
       "      <td>Mulan</td>\n",
       "      <td>NaN</td>\n",
       "      <td>NaN</td>\n",
       "      <td>mulan</td>\n",
       "      <td>PRINCESS</td>\n",
       "      <td>NaN</td>\n",
       "      <td>would you like to stay for dinner?</td>\n",
       "      <td>545</td>\n",
       "      <td>1998</td>\n",
       "    </tr>\n",
       "    <tr>\n",
       "      <th>186</th>\n",
       "      <td>MID</td>\n",
       "      <td>m</td>\n",
       "      <td>Mulan</td>\n",
       "      <td>NaN</td>\n",
       "      <td>NaN</td>\n",
       "      <td>mushu</td>\n",
       "      <td>NON-P</td>\n",
       "      <td>NaN</td>\n",
       "      <td>who am i? who am i? i am the guardian of lost ...</td>\n",
       "      <td>187</td>\n",
       "      <td>1998</td>\n",
       "    </tr>\n",
       "    <tr>\n",
       "      <th>527</th>\n",
       "      <td>MID</td>\n",
       "      <td>m</td>\n",
       "      <td>Mulan</td>\n",
       "      <td>NaN</td>\n",
       "      <td>NaN</td>\n",
       "      <td>emperor</td>\n",
       "      <td>NON-P</td>\n",
       "      <td>NaN</td>\n",
       "      <td>, so your family will know what you have done ...</td>\n",
       "      <td>528</td>\n",
       "      <td>1998</td>\n",
       "    </tr>\n",
       "  </tbody>\n",
       "</table>\n",
       "</div>"
      ],
      "text/plain": [
       "    Disney_Period Gender  Movie Role Song  Speaker Speaker_Status Start_Scene  \\\n",
       "535           MID      m  Mulan  NaN  NaN  fa zhou          NON-P         NaN   \n",
       "40            MID      f  Mulan  NaN  NaN    fa li          NON-P         NaN   \n",
       "544           MID      f  Mulan  NaN  NaN    mulan       PRINCESS         NaN   \n",
       "186           MID      m  Mulan  NaN  NaN    mushu          NON-P         NaN   \n",
       "527           MID      m  Mulan  NaN  NaN  emperor          NON-P         NaN   \n",
       "\n",
       "                                                  Text  UTTERANCE_NUMBER  Year  \n",
       "535                                            mulan!                536  1998  \n",
       "40   it would've been warm, if you were here on time.                 41  1998  \n",
       "544                would you like to stay for dinner?                545  1998  \n",
       "186  who am i? who am i? i am the guardian of lost ...               187  1998  \n",
       "527  , so your family will know what you have done ...               528  1998  "
      ]
     },
     "execution_count": 81,
     "metadata": {},
     "output_type": "execute_result"
    }
   ],
   "source": [
    "mulan.sample(5)"
   ]
  },
  {
   "cell_type": "markdown",
   "metadata": {},
   "source": [
    "### 2) Role\n",
    "I'm listing mulan and shang as protagonists, their friends as helpers, and shan yu/any huns as antagonists\n",
    "Once again, Disney's love of making rebellious daughters and uptight dads makes it hard to decide if Fa Zhou should be listed as an antagonist. Too keep things consistent, I'll list him as an antagonist. (Sorry, Disney dads)"
   ]
  },
  {
   "cell_type": "code",
   "execution_count": 82,
   "metadata": {},
   "outputs": [
    {
     "data": {
      "text/plain": [
       "array(['soldier', 'shan yu', 'general', 'chi fu', 'emperor', 'mulan',\n",
       "       'fa zhou', 'woman #1', 'fa li', 'granny fa', 'woman #2',\n",
       "       'woman #3', 'both', 'woman #4', 'woman #5', 'all', 'woman #6',\n",
       "       'matchmaker', 'son', 'great ancestor', 'mushu', 'ancestor #1',\n",
       "       'ancestor #2', 'ancestor #3', 'ancestor #4', 'ancestor #5',\n",
       "       'ancestor #6', 'ancestor #7', 'ancestor #8', 'fa thang', 'crickee',\n",
       "       'hun', 'soldier #1', 'soldier #2', 'hun archer', 'recruit', 'yao',\n",
       "       'ling', 'chien po', 'shang', 'soldiers', 'chorus', 'hun #1',\n",
       "       'hun #2', 'hun #3', 'men singing', 'parade leader', 'man', 'guard',\n",
       "       'guard #2', 'citizen'], dtype=object)"
      ]
     },
     "execution_count": 82,
     "metadata": {},
     "output_type": "execute_result"
    }
   ],
   "source": [
    "mulan.Speaker.unique()"
   ]
  },
  {
   "cell_type": "code",
   "execution_count": 83,
   "metadata": {},
   "outputs": [],
   "source": [
    "#note: should I include minor antagonists? What about minor helpers, like granny fa?\n",
    "m_pro = ['mulan', 'shang']\n",
    "m_ant = ['fa zhou', 'matchmaker', 'hun', 'hun #1', 'hun #2', 'hun #3', 'shan yu']\n",
    "m_helper = ['mushu', 'crickee', 'yao', 'ling', 'chien po']"
   ]
  },
  {
   "cell_type": "code",
   "execution_count": 84,
   "metadata": {},
   "outputs": [
    {
     "name": "stderr",
     "output_type": "stream",
     "text": [
      "c:\\users\\cassi\\appdata\\local\\programs\\python\\python36-32\\lib\\site-packages\\ipykernel_launcher.py:2: SettingWithCopyWarning: \n",
      "A value is trying to be set on a copy of a slice from a DataFrame.\n",
      "Try using .loc[row_indexer,col_indexer] = value instead\n",
      "\n",
      "See the caveats in the documentation: http://pandas.pydata.org/pandas-docs/stable/indexing.html#indexing-view-versus-copy\n",
      "  \n"
     ]
    }
   ],
   "source": [
    "role_func = partial(whichrole, pro = m_pro, ant = m_ant, helper = m_helper)\n",
    "mulan[\"Role\"] = mulan.Speaker.map(role_func)"
   ]
  },
  {
   "cell_type": "code",
   "execution_count": 85,
   "metadata": {},
   "outputs": [
    {
     "data": {
      "text/html": [
       "<div>\n",
       "<style scoped>\n",
       "    .dataframe tbody tr th:only-of-type {\n",
       "        vertical-align: middle;\n",
       "    }\n",
       "\n",
       "    .dataframe tbody tr th {\n",
       "        vertical-align: top;\n",
       "    }\n",
       "\n",
       "    .dataframe thead th {\n",
       "        text-align: right;\n",
       "    }\n",
       "</style>\n",
       "<table border=\"1\" class=\"dataframe\">\n",
       "  <thead>\n",
       "    <tr style=\"text-align: right;\">\n",
       "      <th></th>\n",
       "      <th>Disney_Period</th>\n",
       "      <th>Gender</th>\n",
       "      <th>Movie</th>\n",
       "      <th>Role</th>\n",
       "      <th>Song</th>\n",
       "      <th>Speaker</th>\n",
       "      <th>Speaker_Status</th>\n",
       "      <th>Start_Scene</th>\n",
       "      <th>Text</th>\n",
       "      <th>UTTERANCE_NUMBER</th>\n",
       "      <th>Year</th>\n",
       "    </tr>\n",
       "  </thead>\n",
       "  <tbody>\n",
       "    <tr>\n",
       "      <th>14</th>\n",
       "      <td>MID</td>\n",
       "      <td>f</td>\n",
       "      <td>Mulan</td>\n",
       "      <td>PRO</td>\n",
       "      <td>NaN</td>\n",
       "      <td>mulan</td>\n",
       "      <td>PRINCESS</td>\n",
       "      <td>NaN</td>\n",
       "      <td>... punctual!</td>\n",
       "      <td>15</td>\n",
       "      <td>1998</td>\n",
       "    </tr>\n",
       "    <tr>\n",
       "      <th>193</th>\n",
       "      <td>MID</td>\n",
       "      <td>m</td>\n",
       "      <td>Mulan</td>\n",
       "      <td>HELPER</td>\n",
       "      <td>NaN</td>\n",
       "      <td>mushu</td>\n",
       "      <td>NON-P</td>\n",
       "      <td>NaN</td>\n",
       "      <td>of course! i am travelsized, for your convenie...</td>\n",
       "      <td>194</td>\n",
       "      <td>1998</td>\n",
       "    </tr>\n",
       "    <tr>\n",
       "      <th>404</th>\n",
       "      <td>MID</td>\n",
       "      <td>m</td>\n",
       "      <td>Mulan</td>\n",
       "      <td>HELPER</td>\n",
       "      <td>NaN</td>\n",
       "      <td>yao</td>\n",
       "      <td>NON-P</td>\n",
       "      <td>NaN</td>\n",
       "      <td>yes!</td>\n",
       "      <td>405</td>\n",
       "      <td>1998</td>\n",
       "    </tr>\n",
       "    <tr>\n",
       "      <th>534</th>\n",
       "      <td>MID</td>\n",
       "      <td>m</td>\n",
       "      <td>Mulan</td>\n",
       "      <td>N</td>\n",
       "      <td>NaN</td>\n",
       "      <td>emperor</td>\n",
       "      <td>NON-P</td>\n",
       "      <td>NaN</td>\n",
       "      <td>you don't meet a girl like that every dynasty!</td>\n",
       "      <td>535</td>\n",
       "      <td>1998</td>\n",
       "    </tr>\n",
       "    <tr>\n",
       "      <th>203</th>\n",
       "      <td>MID</td>\n",
       "      <td>m</td>\n",
       "      <td>Mulan</td>\n",
       "      <td>HELPER</td>\n",
       "      <td>NaN</td>\n",
       "      <td>yao</td>\n",
       "      <td>NON-P</td>\n",
       "      <td>NaN</td>\n",
       "      <td>hmmm ...</td>\n",
       "      <td>204</td>\n",
       "      <td>1998</td>\n",
       "    </tr>\n",
       "  </tbody>\n",
       "</table>\n",
       "</div>"
      ],
      "text/plain": [
       "    Disney_Period Gender  Movie    Role Song  Speaker Speaker_Status  \\\n",
       "14            MID      f  Mulan     PRO  NaN    mulan       PRINCESS   \n",
       "193           MID      m  Mulan  HELPER  NaN    mushu          NON-P   \n",
       "404           MID      m  Mulan  HELPER  NaN      yao          NON-P   \n",
       "534           MID      m  Mulan       N  NaN  emperor          NON-P   \n",
       "203           MID      m  Mulan  HELPER  NaN      yao          NON-P   \n",
       "\n",
       "    Start_Scene                                               Text  \\\n",
       "14          NaN                                     ... punctual!    \n",
       "193         NaN  of course! i am travelsized, for your convenie...   \n",
       "404         NaN                                              yes!    \n",
       "534         NaN    you don't meet a girl like that every dynasty!    \n",
       "203         NaN                                          hmmm ...    \n",
       "\n",
       "     UTTERANCE_NUMBER  Year  \n",
       "14                 15  1998  \n",
       "193               194  1998  \n",
       "404               405  1998  \n",
       "534               535  1998  \n",
       "203               204  1998  "
      ]
     },
     "execution_count": 85,
     "metadata": {},
     "output_type": "execute_result"
    }
   ],
   "source": [
    "mulan.sample(5)"
   ]
  },
  {
   "cell_type": "markdown",
   "metadata": {},
   "source": [
    "### 3) Songs\n",
    "The songs in this movie include: Honor to Us All, Reflection, I'll Make a Man Out of You, and A Girl Worth Fighting For"
   ]
  },
  {
   "cell_type": "markdown",
   "metadata": {},
   "source": [
    "## Princess and the Frog"
   ]
  },
  {
   "cell_type": "markdown",
   "metadata": {},
   "source": [
    "## Tangled"
   ]
  },
  {
   "cell_type": "markdown",
   "metadata": {},
   "source": [
    "## Brave"
   ]
  },
  {
   "cell_type": "markdown",
   "metadata": {},
   "source": [
    "## Frozen"
   ]
  },
  {
   "cell_type": "code",
   "execution_count": null,
   "metadata": {},
   "outputs": [],
   "source": []
  }
 ],
 "metadata": {
  "kernelspec": {
   "display_name": "Python 3",
   "language": "python",
   "name": "python3"
  },
  "language_info": {
   "codemirror_mode": {
    "name": "ipython",
    "version": 3
   },
   "file_extension": ".py",
   "mimetype": "text/x-python",
   "name": "python",
   "nbconvert_exporter": "python",
   "pygments_lexer": "ipython3",
   "version": "3.6.4"
  }
 },
 "nbformat": 4,
 "nbformat_minor": 2
}
