{
 "cells": [
  {
   "cell_type": "markdown",
   "metadata": {},
   "source": [
    "# Cleaning Up the Disney Data\n",
    "In the code below, I\n",
    "* Check the formatting of each film. If the formatting generally looks okay, I will continue with adding information. If the data appears heavily inaccurate, I will set these aside to work on later.\n",
    "* Label gender and role(protagonist, antagonist, helper, or neutral)\n",
    "* Label songs\n",
    "\n",
    "I will be looking at the 12 films in the data frame that aren't fully annotated: \n",
    "\n",
    "Throughout this process, if I find minor, easily fixable issues in the well-formatted data, I will address these.\n",
    "\n",
    "Also, though it was easy to construct Start_Scene for Moana because I built that data myself, there's no uniform way to mark the beginning of a scene in the Disney data or the Dreamworks data. Therefore, this information may not be used in future analysis."
   ]
  },
  {
   "cell_type": "code",
   "execution_count": 1,
   "metadata": {},
   "outputs": [],
   "source": [
    "import numpy as np\n",
    "import pandas as pd"
   ]
  },
  {
   "cell_type": "code",
   "execution_count": 3,
   "metadata": {},
   "outputs": [],
   "source": [
    "disney = pd.read_csv(r\"C:\\Users\\cassi\\Desktop\\Data_Science\\Animated-Movie-Gendered-Dialogue\\private\\Disney_1938_2016.csv\")"
   ]
  },
  {
   "cell_type": "code",
   "execution_count": 4,
   "metadata": {},
   "outputs": [
    {
     "data": {
      "text/html": [
       "<div>\n",
       "<style scoped>\n",
       "    .dataframe tbody tr th:only-of-type {\n",
       "        vertical-align: middle;\n",
       "    }\n",
       "\n",
       "    .dataframe tbody tr th {\n",
       "        vertical-align: top;\n",
       "    }\n",
       "\n",
       "    .dataframe thead th {\n",
       "        text-align: right;\n",
       "    }\n",
       "</style>\n",
       "<table border=\"1\" class=\"dataframe\">\n",
       "  <thead>\n",
       "    <tr style=\"text-align: right;\">\n",
       "      <th></th>\n",
       "      <th>Unnamed: 0</th>\n",
       "      <th>Disney_Period</th>\n",
       "      <th>Gender</th>\n",
       "      <th>Movie</th>\n",
       "      <th>Role</th>\n",
       "      <th>Song</th>\n",
       "      <th>Speaker</th>\n",
       "      <th>Speaker_Status</th>\n",
       "      <th>Start_Scene</th>\n",
       "      <th>Text</th>\n",
       "      <th>UTTERANCE_NUMBER</th>\n",
       "      <th>Year</th>\n",
       "    </tr>\n",
       "  </thead>\n",
       "  <tbody>\n",
       "    <tr>\n",
       "      <th>0</th>\n",
       "      <td>0</td>\n",
       "      <td>EARLY</td>\n",
       "      <td>NaN</td>\n",
       "      <td>Snow White</td>\n",
       "      <td>NaN</td>\n",
       "      <td>NaN</td>\n",
       "      <td>queen</td>\n",
       "      <td>NON-P</td>\n",
       "      <td>NaN</td>\n",
       "      <td>slave in the magic mirror come from the farthe...</td>\n",
       "      <td>1</td>\n",
       "      <td>1937</td>\n",
       "    </tr>\n",
       "    <tr>\n",
       "      <th>1</th>\n",
       "      <td>1</td>\n",
       "      <td>EARLY</td>\n",
       "      <td>NaN</td>\n",
       "      <td>Snow White</td>\n",
       "      <td>NaN</td>\n",
       "      <td>NaN</td>\n",
       "      <td>mirror</td>\n",
       "      <td>NON-P</td>\n",
       "      <td>NaN</td>\n",
       "      <td>what wouldst thou know, my queen ?</td>\n",
       "      <td>2</td>\n",
       "      <td>1937</td>\n",
       "    </tr>\n",
       "    <tr>\n",
       "      <th>2</th>\n",
       "      <td>2</td>\n",
       "      <td>EARLY</td>\n",
       "      <td>NaN</td>\n",
       "      <td>Snow White</td>\n",
       "      <td>NaN</td>\n",
       "      <td>NaN</td>\n",
       "      <td>queen</td>\n",
       "      <td>NON-P</td>\n",
       "      <td>NaN</td>\n",
       "      <td>magic mirror on the wall, who is the fairest o...</td>\n",
       "      <td>3</td>\n",
       "      <td>1937</td>\n",
       "    </tr>\n",
       "    <tr>\n",
       "      <th>3</th>\n",
       "      <td>3</td>\n",
       "      <td>EARLY</td>\n",
       "      <td>NaN</td>\n",
       "      <td>Snow White</td>\n",
       "      <td>NaN</td>\n",
       "      <td>NaN</td>\n",
       "      <td>mirror</td>\n",
       "      <td>NON-P</td>\n",
       "      <td>NaN</td>\n",
       "      <td>famed is thy beauty, majesty. but hold, a love...</td>\n",
       "      <td>4</td>\n",
       "      <td>1937</td>\n",
       "    </tr>\n",
       "    <tr>\n",
       "      <th>4</th>\n",
       "      <td>4</td>\n",
       "      <td>EARLY</td>\n",
       "      <td>NaN</td>\n",
       "      <td>Snow White</td>\n",
       "      <td>NaN</td>\n",
       "      <td>NaN</td>\n",
       "      <td>queen</td>\n",
       "      <td>NON-P</td>\n",
       "      <td>NaN</td>\n",
       "      <td>alas for her ! reveal her name.</td>\n",
       "      <td>5</td>\n",
       "      <td>1937</td>\n",
       "    </tr>\n",
       "  </tbody>\n",
       "</table>\n",
       "</div>"
      ],
      "text/plain": [
       "   Unnamed: 0 Disney_Period Gender       Movie Role Song Speaker  \\\n",
       "0           0         EARLY    NaN  Snow White  NaN  NaN   queen   \n",
       "1           1         EARLY    NaN  Snow White  NaN  NaN  mirror   \n",
       "2           2         EARLY    NaN  Snow White  NaN  NaN   queen   \n",
       "3           3         EARLY    NaN  Snow White  NaN  NaN  mirror   \n",
       "4           4         EARLY    NaN  Snow White  NaN  NaN   queen   \n",
       "\n",
       "  Speaker_Status Start_Scene  \\\n",
       "0          NON-P         NaN   \n",
       "1          NON-P         NaN   \n",
       "2          NON-P         NaN   \n",
       "3          NON-P         NaN   \n",
       "4          NON-P         NaN   \n",
       "\n",
       "                                                Text  UTTERANCE_NUMBER  Year  \n",
       "0  slave in the magic mirror come from the farthe...                 1  1937  \n",
       "1                what wouldst thou know, my queen ?                  2  1937  \n",
       "2  magic mirror on the wall, who is the fairest o...                 3  1937  \n",
       "3  famed is thy beauty, majesty. but hold, a love...                 4  1937  \n",
       "4                   alas for her ! reveal her name.                  5  1937  "
      ]
     },
     "execution_count": 4,
     "metadata": {},
     "output_type": "execute_result"
    }
   ],
   "source": [
    "disney.head()"
   ]
  },
  {
   "cell_type": "code",
   "execution_count": 5,
   "metadata": {},
   "outputs": [],
   "source": [
    "disney = disney.drop(columns=\"Unnamed: 0\")"
   ]
  },
  {
   "cell_type": "code",
   "execution_count": 6,
   "metadata": {},
   "outputs": [
    {
     "data": {
      "text/html": [
       "<div>\n",
       "<style scoped>\n",
       "    .dataframe tbody tr th:only-of-type {\n",
       "        vertical-align: middle;\n",
       "    }\n",
       "\n",
       "    .dataframe tbody tr th {\n",
       "        vertical-align: top;\n",
       "    }\n",
       "\n",
       "    .dataframe thead th {\n",
       "        text-align: right;\n",
       "    }\n",
       "</style>\n",
       "<table border=\"1\" class=\"dataframe\">\n",
       "  <thead>\n",
       "    <tr style=\"text-align: right;\">\n",
       "      <th></th>\n",
       "      <th>Disney_Period</th>\n",
       "      <th>Gender</th>\n",
       "      <th>Movie</th>\n",
       "      <th>Role</th>\n",
       "      <th>Song</th>\n",
       "      <th>Speaker</th>\n",
       "      <th>Speaker_Status</th>\n",
       "      <th>Start_Scene</th>\n",
       "      <th>Text</th>\n",
       "      <th>UTTERANCE_NUMBER</th>\n",
       "      <th>Year</th>\n",
       "    </tr>\n",
       "  </thead>\n",
       "  <tbody>\n",
       "    <tr>\n",
       "      <th>0</th>\n",
       "      <td>EARLY</td>\n",
       "      <td>NaN</td>\n",
       "      <td>Snow White</td>\n",
       "      <td>NaN</td>\n",
       "      <td>NaN</td>\n",
       "      <td>queen</td>\n",
       "      <td>NON-P</td>\n",
       "      <td>NaN</td>\n",
       "      <td>slave in the magic mirror come from the farthe...</td>\n",
       "      <td>1</td>\n",
       "      <td>1937</td>\n",
       "    </tr>\n",
       "    <tr>\n",
       "      <th>1</th>\n",
       "      <td>EARLY</td>\n",
       "      <td>NaN</td>\n",
       "      <td>Snow White</td>\n",
       "      <td>NaN</td>\n",
       "      <td>NaN</td>\n",
       "      <td>mirror</td>\n",
       "      <td>NON-P</td>\n",
       "      <td>NaN</td>\n",
       "      <td>what wouldst thou know, my queen ?</td>\n",
       "      <td>2</td>\n",
       "      <td>1937</td>\n",
       "    </tr>\n",
       "    <tr>\n",
       "      <th>2</th>\n",
       "      <td>EARLY</td>\n",
       "      <td>NaN</td>\n",
       "      <td>Snow White</td>\n",
       "      <td>NaN</td>\n",
       "      <td>NaN</td>\n",
       "      <td>queen</td>\n",
       "      <td>NON-P</td>\n",
       "      <td>NaN</td>\n",
       "      <td>magic mirror on the wall, who is the fairest o...</td>\n",
       "      <td>3</td>\n",
       "      <td>1937</td>\n",
       "    </tr>\n",
       "    <tr>\n",
       "      <th>3</th>\n",
       "      <td>EARLY</td>\n",
       "      <td>NaN</td>\n",
       "      <td>Snow White</td>\n",
       "      <td>NaN</td>\n",
       "      <td>NaN</td>\n",
       "      <td>mirror</td>\n",
       "      <td>NON-P</td>\n",
       "      <td>NaN</td>\n",
       "      <td>famed is thy beauty, majesty. but hold, a love...</td>\n",
       "      <td>4</td>\n",
       "      <td>1937</td>\n",
       "    </tr>\n",
       "    <tr>\n",
       "      <th>4</th>\n",
       "      <td>EARLY</td>\n",
       "      <td>NaN</td>\n",
       "      <td>Snow White</td>\n",
       "      <td>NaN</td>\n",
       "      <td>NaN</td>\n",
       "      <td>queen</td>\n",
       "      <td>NON-P</td>\n",
       "      <td>NaN</td>\n",
       "      <td>alas for her ! reveal her name.</td>\n",
       "      <td>5</td>\n",
       "      <td>1937</td>\n",
       "    </tr>\n",
       "  </tbody>\n",
       "</table>\n",
       "</div>"
      ],
      "text/plain": [
       "  Disney_Period Gender       Movie Role Song Speaker Speaker_Status  \\\n",
       "0         EARLY    NaN  Snow White  NaN  NaN   queen          NON-P   \n",
       "1         EARLY    NaN  Snow White  NaN  NaN  mirror          NON-P   \n",
       "2         EARLY    NaN  Snow White  NaN  NaN   queen          NON-P   \n",
       "3         EARLY    NaN  Snow White  NaN  NaN  mirror          NON-P   \n",
       "4         EARLY    NaN  Snow White  NaN  NaN   queen          NON-P   \n",
       "\n",
       "  Start_Scene                                               Text  \\\n",
       "0         NaN  slave in the magic mirror come from the farthe...   \n",
       "1         NaN                what wouldst thou know, my queen ?    \n",
       "2         NaN  magic mirror on the wall, who is the fairest o...   \n",
       "3         NaN  famed is thy beauty, majesty. but hold, a love...   \n",
       "4         NaN                   alas for her ! reveal her name.    \n",
       "\n",
       "   UTTERANCE_NUMBER  Year  \n",
       "0                 1  1937  \n",
       "1                 2  1937  \n",
       "2                 3  1937  \n",
       "3                 4  1937  \n",
       "4                 5  1937  "
      ]
     },
     "execution_count": 6,
     "metadata": {},
     "output_type": "execute_result"
    }
   ],
   "source": [
    "disney.head()"
   ]
  },
  {
   "cell_type": "code",
   "execution_count": 7,
   "metadata": {},
   "outputs": [
    {
     "data": {
      "text/plain": [
       "array(['Snow White', 'Cinderella', 'Sleeping Beauty',\n",
       "       'The Little Mermaid', 'Beauty and the Beast', 'Aladdin',\n",
       "       'Pocahontas', 'Mulan', 'The Princess and the Frog', 'Tangled',\n",
       "       'Brave', 'Frozen', 'Moana'], dtype=object)"
      ]
     },
     "execution_count": 7,
     "metadata": {},
     "output_type": "execute_result"
    }
   ],
   "source": [
    "disney[\"Movie\"].unique() #13 movies, 12 to look at"
   ]
  },
  {
   "cell_type": "code",
   "execution_count": 11,
   "metadata": {},
   "outputs": [
    {
     "data": {
      "text/plain": [
       "Frozen                       988\n",
       "Aladdin                      842\n",
       "Beauty and the Beast         772\n",
       "The Princess and the Frog    676\n",
       "Pocahontas                   638\n",
       "Mulan                        554\n",
       "Cinderella                   497\n",
       "Sleeping Beauty              462\n",
       "Brave                        411\n",
       "The Little Mermaid           397\n",
       "Moana                        382\n",
       "Snow White                   366\n",
       "Tangled                      193\n",
       "Name: Movie, dtype: int64"
      ]
     },
     "execution_count": 11,
     "metadata": {},
     "output_type": "execute_result"
    }
   ],
   "source": [
    "disney[\"Movie\"].value_counts()"
   ]
  },
  {
   "cell_type": "markdown",
   "metadata": {},
   "source": [
    "### Defining Functions to Use Throughout"
   ]
  },
  {
   "cell_type": "code",
   "execution_count": 129,
   "metadata": {},
   "outputs": [],
   "source": [
    "#Gender Label\n",
    "def whichgen(name, female, male):\n",
    "    if name in female: return 'f'\n",
    "    elif name in male: return 'm'\n",
    "    else: return 'n'"
   ]
  },
  {
   "cell_type": "code",
   "execution_count": 130,
   "metadata": {},
   "outputs": [],
   "source": [
    "#Role Label\n",
    "def whichrole(name, pro, ant, helper):\n",
    "    if name in pro: return 'PRO'\n",
    "    if name in ant: return 'ANT'\n",
    "    if name in helper: return 'HELPER'\n",
    "    else: return \"N\" #for neutral"
   ]
  },
  {
   "cell_type": "code",
   "execution_count": 131,
   "metadata": {},
   "outputs": [],
   "source": [
    "#Dialogue Label\n",
    "def is_dialogue(line, song):\n",
    "    if line in song: return 'S'\n",
    "    else: return 'D'"
   ]
  },
  {
   "cell_type": "markdown",
   "metadata": {},
   "source": [
    "## Snow White\n",
    "\n",
    "1) Data cleanup"
   ]
  },
  {
   "cell_type": "code",
   "execution_count": 80,
   "metadata": {},
   "outputs": [],
   "source": [
    "snow_white = disney[disney.Movie == \"Snow White\"]"
   ]
  },
  {
   "cell_type": "code",
   "execution_count": 81,
   "metadata": {},
   "outputs": [
    {
     "name": "stdout",
     "output_type": "stream",
     "text": [
      "<class 'pandas.core.frame.DataFrame'>\n",
      "Int64Index: 366 entries, 0 to 365\n",
      "Data columns (total 11 columns):\n",
      "Disney_Period       366 non-null object\n",
      "Gender              0 non-null object\n",
      "Movie               366 non-null object\n",
      "Role                0 non-null object\n",
      "Song                0 non-null object\n",
      "Speaker             366 non-null object\n",
      "Speaker_Status      366 non-null object\n",
      "Start_Scene         0 non-null object\n",
      "Text                366 non-null object\n",
      "UTTERANCE_NUMBER    366 non-null int64\n",
      "Year                366 non-null int64\n",
      "dtypes: int64(2), object(9)\n",
      "memory usage: 21.4+ KB\n"
     ]
    }
   ],
   "source": [
    "snow_white.info()"
   ]
  },
  {
   "cell_type": "code",
   "execution_count": 82,
   "metadata": {},
   "outputs": [
    {
     "data": {
      "text/html": [
       "<div>\n",
       "<style scoped>\n",
       "    .dataframe tbody tr th:only-of-type {\n",
       "        vertical-align: middle;\n",
       "    }\n",
       "\n",
       "    .dataframe tbody tr th {\n",
       "        vertical-align: top;\n",
       "    }\n",
       "\n",
       "    .dataframe thead th {\n",
       "        text-align: right;\n",
       "    }\n",
       "</style>\n",
       "<table border=\"1\" class=\"dataframe\">\n",
       "  <thead>\n",
       "    <tr style=\"text-align: right;\">\n",
       "      <th></th>\n",
       "      <th>Speaker</th>\n",
       "      <th>Text</th>\n",
       "    </tr>\n",
       "  </thead>\n",
       "  <tbody>\n",
       "    <tr>\n",
       "      <th>0</th>\n",
       "      <td>queen</td>\n",
       "      <td>slave in the magic mirror come from the farthe...</td>\n",
       "    </tr>\n",
       "    <tr>\n",
       "      <th>1</th>\n",
       "      <td>mirror</td>\n",
       "      <td>what wouldst thou know, my queen ?</td>\n",
       "    </tr>\n",
       "    <tr>\n",
       "      <th>2</th>\n",
       "      <td>queen</td>\n",
       "      <td>magic mirror on the wall, who is the fairest o...</td>\n",
       "    </tr>\n",
       "    <tr>\n",
       "      <th>3</th>\n",
       "      <td>mirror</td>\n",
       "      <td>famed is thy beauty, majesty. but hold, a love...</td>\n",
       "    </tr>\n",
       "    <tr>\n",
       "      <th>4</th>\n",
       "      <td>queen</td>\n",
       "      <td>alas for her ! reveal her name.</td>\n",
       "    </tr>\n",
       "    <tr>\n",
       "      <th>5</th>\n",
       "      <td>mirror</td>\n",
       "      <td>lips red as the rose. hair black as ebony. ski...</td>\n",
       "    </tr>\n",
       "    <tr>\n",
       "      <th>6</th>\n",
       "      <td>queen</td>\n",
       "      <td>snow white !</td>\n",
       "    </tr>\n",
       "    <tr>\n",
       "      <th>7</th>\n",
       "      <td>snow white</td>\n",
       "      <td>want to know a secret ? promise not to tell ? ...</td>\n",
       "    </tr>\n",
       "    <tr>\n",
       "      <th>8</th>\n",
       "      <td>prince</td>\n",
       "      <td>today</td>\n",
       "    </tr>\n",
       "    <tr>\n",
       "      <th>9</th>\n",
       "      <td>snow white</td>\n",
       "      <td>oh !</td>\n",
       "    </tr>\n",
       "    <tr>\n",
       "      <th>10</th>\n",
       "      <td>prince</td>\n",
       "      <td>hello.</td>\n",
       "    </tr>\n",
       "    <tr>\n",
       "      <th>11</th>\n",
       "      <td>snow white</td>\n",
       "      <td>oh.</td>\n",
       "    </tr>\n",
       "    <tr>\n",
       "      <th>12</th>\n",
       "      <td>prince</td>\n",
       "      <td>did i frighten you ? wait. wait, please. don't...</td>\n",
       "    </tr>\n",
       "    <tr>\n",
       "      <th>13</th>\n",
       "      <td>queen</td>\n",
       "      <td>take her far into the forest. find some seclud...</td>\n",
       "    </tr>\n",
       "    <tr>\n",
       "      <th>14</th>\n",
       "      <td>guard</td>\n",
       "      <td>yes, your majesty.</td>\n",
       "    </tr>\n",
       "    <tr>\n",
       "      <th>15</th>\n",
       "      <td>queen</td>\n",
       "      <td>and there, my faithful huntsman, you will kill...</td>\n",
       "    </tr>\n",
       "    <tr>\n",
       "      <th>16</th>\n",
       "      <td>guard</td>\n",
       "      <td>but, your majesty, the little princess !</td>\n",
       "    </tr>\n",
       "    <tr>\n",
       "      <th>17</th>\n",
       "      <td>queen</td>\n",
       "      <td>silence ! you know the penalty if you fail.</td>\n",
       "    </tr>\n",
       "    <tr>\n",
       "      <th>18</th>\n",
       "      <td>guard</td>\n",
       "      <td>yes, your majesty.</td>\n",
       "    </tr>\n",
       "    <tr>\n",
       "      <th>19</th>\n",
       "      <td>queen</td>\n",
       "      <td>but to make doubly sure... you do not fail, br...</td>\n",
       "    </tr>\n",
       "    <tr>\n",
       "      <th>20</th>\n",
       "      <td>snow white</td>\n",
       "      <td>one song i have but one song</td>\n",
       "    </tr>\n",
       "    <tr>\n",
       "      <th>21</th>\n",
       "      <td>snow white</td>\n",
       "      <td>hello there. what's the matter ? where's your ...</td>\n",
       "    </tr>\n",
       "    <tr>\n",
       "      <th>22</th>\n",
       "      <td>guard</td>\n",
       "      <td>i can't ! i can't do it ! forgive me. i beg of...</td>\n",
       "    </tr>\n",
       "    <tr>\n",
       "      <th>23</th>\n",
       "      <td>snow white</td>\n",
       "      <td>i don't understand.</td>\n",
       "    </tr>\n",
       "    <tr>\n",
       "      <th>24</th>\n",
       "      <td>guard</td>\n",
       "      <td>she's mad! jealous of you! she'll stop at noth...</td>\n",
       "    </tr>\n",
       "    <tr>\n",
       "      <th>25</th>\n",
       "      <td>snow white</td>\n",
       "      <td>butbut who ?</td>\n",
       "    </tr>\n",
       "    <tr>\n",
       "      <th>26</th>\n",
       "      <td>guard</td>\n",
       "      <td>the queen!</td>\n",
       "    </tr>\n",
       "    <tr>\n",
       "      <th>27</th>\n",
       "      <td>snow white</td>\n",
       "      <td>the queen ?</td>\n",
       "    </tr>\n",
       "    <tr>\n",
       "      <th>28</th>\n",
       "      <td>guard</td>\n",
       "      <td>now, quick, child, run! run away, hide! in the...</td>\n",
       "    </tr>\n",
       "    <tr>\n",
       "      <th>29</th>\n",
       "      <td>snow white</td>\n",
       "      <td>oh! please, don't run away. i won't hurt you. ...</td>\n",
       "    </tr>\n",
       "    <tr>\n",
       "      <th>...</th>\n",
       "      <td>...</td>\n",
       "      <td>...</td>\n",
       "    </tr>\n",
       "    <tr>\n",
       "      <th>336</th>\n",
       "      <td>sleepy</td>\n",
       "      <td>maybe the old queen's got snow white.</td>\n",
       "    </tr>\n",
       "    <tr>\n",
       "      <th>337</th>\n",
       "      <td>doc</td>\n",
       "      <td>the queen !</td>\n",
       "    </tr>\n",
       "    <tr>\n",
       "      <th>338</th>\n",
       "      <td>all dwarfs</td>\n",
       "      <td>snow white !</td>\n",
       "    </tr>\n",
       "    <tr>\n",
       "      <th>339</th>\n",
       "      <td>grumpy</td>\n",
       "      <td>the queen will kill her ! we gotta save her !</td>\n",
       "    </tr>\n",
       "    <tr>\n",
       "      <th>340</th>\n",
       "      <td>doc</td>\n",
       "      <td>yes, yes, wewe gotta save her !</td>\n",
       "    </tr>\n",
       "    <tr>\n",
       "      <th>341</th>\n",
       "      <td>happy</td>\n",
       "      <td>what'll we do ?</td>\n",
       "    </tr>\n",
       "    <tr>\n",
       "      <th>342</th>\n",
       "      <td>doc</td>\n",
       "      <td>yes, wwhat'll we do ?</td>\n",
       "    </tr>\n",
       "    <tr>\n",
       "      <th>343</th>\n",
       "      <td>grumpy</td>\n",
       "      <td>come on ! giddap !</td>\n",
       "    </tr>\n",
       "    <tr>\n",
       "      <th>344</th>\n",
       "      <td>doc</td>\n",
       "      <td>wait for me !</td>\n",
       "    </tr>\n",
       "    <tr>\n",
       "      <th>345</th>\n",
       "      <td>queen</td>\n",
       "      <td>there must be something your little heart desi...</td>\n",
       "    </tr>\n",
       "    <tr>\n",
       "      <th>346</th>\n",
       "      <td>snow white</td>\n",
       "      <td>well, there is someone.</td>\n",
       "    </tr>\n",
       "    <tr>\n",
       "      <th>347</th>\n",
       "      <td>queen</td>\n",
       "      <td>i thought so. i thought so. old granny knows a...</td>\n",
       "    </tr>\n",
       "    <tr>\n",
       "      <th>348</th>\n",
       "      <td>snow white</td>\n",
       "      <td>i wish i wish</td>\n",
       "    </tr>\n",
       "    <tr>\n",
       "      <th>349</th>\n",
       "      <td>queen</td>\n",
       "      <td>that's it. go on. go on.</td>\n",
       "    </tr>\n",
       "    <tr>\n",
       "      <th>350</th>\n",
       "      <td>snow white</td>\n",
       "      <td>...and that he will carry me away to his castl...</td>\n",
       "    </tr>\n",
       "    <tr>\n",
       "      <th>351</th>\n",
       "      <td>queen</td>\n",
       "      <td>fine ! fine ! now, take a bite. don't let the ...</td>\n",
       "    </tr>\n",
       "    <tr>\n",
       "      <th>352</th>\n",
       "      <td>snow white</td>\n",
       "      <td>oh ! i feel strange.</td>\n",
       "    </tr>\n",
       "    <tr>\n",
       "      <th>353</th>\n",
       "      <td>queen</td>\n",
       "      <td>her breath will still.</td>\n",
       "    </tr>\n",
       "    <tr>\n",
       "      <th>354</th>\n",
       "      <td>snow white</td>\n",
       "      <td>oh.</td>\n",
       "    </tr>\n",
       "    <tr>\n",
       "      <th>355</th>\n",
       "      <td>queen</td>\n",
       "      <td>her blood congeal.</td>\n",
       "    </tr>\n",
       "    <tr>\n",
       "      <th>356</th>\n",
       "      <td>snow white</td>\n",
       "      <td>oh.</td>\n",
       "    </tr>\n",
       "    <tr>\n",
       "      <th>357</th>\n",
       "      <td>queen</td>\n",
       "      <td>now i'll be fairest in the land !</td>\n",
       "    </tr>\n",
       "    <tr>\n",
       "      <th>358</th>\n",
       "      <td>grumpy</td>\n",
       "      <td>hurry, hurry ! there she goes ! after her !</td>\n",
       "    </tr>\n",
       "    <tr>\n",
       "      <th>359</th>\n",
       "      <td>queen</td>\n",
       "      <td>i'm trapped. what will i do ? the meddling lit...</td>\n",
       "    </tr>\n",
       "    <tr>\n",
       "      <th>360</th>\n",
       "      <td>doc</td>\n",
       "      <td>look out !</td>\n",
       "    </tr>\n",
       "    <tr>\n",
       "      <th>361</th>\n",
       "      <td>prince</td>\n",
       "      <td>one song</td>\n",
       "    </tr>\n",
       "    <tr>\n",
       "      <th>362</th>\n",
       "      <td>chorus</td>\n",
       "      <td>one song, i have but one song one song, only f...</td>\n",
       "    </tr>\n",
       "    <tr>\n",
       "      <th>363</th>\n",
       "      <td>snow white</td>\n",
       "      <td>goodbye. goodbye, grumpy.</td>\n",
       "    </tr>\n",
       "    <tr>\n",
       "      <th>364</th>\n",
       "      <td>goodbye.</td>\n",
       "      <td>oh, dopey. goodbye !</td>\n",
       "    </tr>\n",
       "    <tr>\n",
       "      <th>365</th>\n",
       "      <td>chorus</td>\n",
       "      <td>some day when spring is here we'll find our lo...</td>\n",
       "    </tr>\n",
       "  </tbody>\n",
       "</table>\n",
       "<p>366 rows × 2 columns</p>\n",
       "</div>"
      ],
      "text/plain": [
       "        Speaker                                               Text\n",
       "0         queen  slave in the magic mirror come from the farthe...\n",
       "1        mirror                what wouldst thou know, my queen ? \n",
       "2         queen  magic mirror on the wall, who is the fairest o...\n",
       "3        mirror  famed is thy beauty, majesty. but hold, a love...\n",
       "4         queen                   alas for her ! reveal her name. \n",
       "5        mirror  lips red as the rose. hair black as ebony. ski...\n",
       "6         queen                                      snow white ! \n",
       "7    snow white  want to know a secret ? promise not to tell ? ...\n",
       "8        prince                                             today \n",
       "9    snow white                                              oh ! \n",
       "10       prince                                            hello. \n",
       "11   snow white                                               oh. \n",
       "12       prince  did i frighten you ? wait. wait, please. don't...\n",
       "13        queen  take her far into the forest. find some seclud...\n",
       "14        guard                                yes, your majesty. \n",
       "15        queen  and there, my faithful huntsman, you will kill...\n",
       "16        guard          but, your majesty, the little princess ! \n",
       "17        queen       silence ! you know the penalty if you fail. \n",
       "18        guard                                yes, your majesty. \n",
       "19        queen  but to make doubly sure... you do not fail, br...\n",
       "20   snow white                      one song i have but one song \n",
       "21   snow white  hello there. what's the matter ? where's your ...\n",
       "22        guard  i can't ! i can't do it ! forgive me. i beg of...\n",
       "23   snow white                               i don't understand. \n",
       "24        guard  she's mad! jealous of you! she'll stop at noth...\n",
       "25   snow white                                      butbut who ? \n",
       "26        guard                                        the queen! \n",
       "27   snow white                                       the queen ? \n",
       "28        guard  now, quick, child, run! run away, hide! in the...\n",
       "29   snow white  oh! please, don't run away. i won't hurt you. ...\n",
       "..          ...                                                ...\n",
       "336      sleepy             maybe the old queen's got snow white. \n",
       "337         doc                                       the queen ! \n",
       "338  all dwarfs                                      snow white ! \n",
       "339      grumpy     the queen will kill her ! we gotta save her ! \n",
       "340         doc                   yes, yes, wewe gotta save her ! \n",
       "341       happy                                   what'll we do ? \n",
       "342         doc                             yes, wwhat'll we do ? \n",
       "343      grumpy                                come on ! giddap ! \n",
       "344         doc                                     wait for me ! \n",
       "345       queen  there must be something your little heart desi...\n",
       "346  snow white                           well, there is someone. \n",
       "347       queen  i thought so. i thought so. old granny knows a...\n",
       "348  snow white                                     i wish i wish \n",
       "349       queen                          that's it. go on. go on. \n",
       "350  snow white  ...and that he will carry me away to his castl...\n",
       "351       queen  fine ! fine ! now, take a bite. don't let the ...\n",
       "352  snow white                              oh ! i feel strange. \n",
       "353       queen                            her breath will still. \n",
       "354  snow white                                               oh. \n",
       "355       queen                                her blood congeal. \n",
       "356  snow white                                               oh. \n",
       "357       queen                 now i'll be fairest in the land ! \n",
       "358      grumpy       hurry, hurry ! there she goes ! after her ! \n",
       "359       queen  i'm trapped. what will i do ? the meddling lit...\n",
       "360         doc                                        look out ! \n",
       "361      prince                                          one song \n",
       "362      chorus  one song, i have but one song one song, only f...\n",
       "363  snow white                         goodbye. goodbye, grumpy. \n",
       "364   goodbye.                               oh, dopey. goodbye ! \n",
       "365      chorus  some day when spring is here we'll find our lo...\n",
       "\n",
       "[366 rows x 2 columns]"
      ]
     },
     "execution_count": 82,
     "metadata": {},
     "output_type": "execute_result"
    }
   ],
   "source": [
    "snow_white[[\"Speaker\", \"Text\"]]"
   ]
  },
  {
   "cell_type": "code",
   "execution_count": 83,
   "metadata": {},
   "outputs": [
    {
     "data": {
      "text/plain": [
       "array(['queen', 'mirror', 'snow white', 'prince', 'guard', 'all dwarfs',\n",
       "       'doc', 'happy', 'bashful', 'dopey', 'grumpy', 'sneey', 'sneezy',\n",
       "       \"i can't \", 'various dwarfs', 'sleepy', 'grumpy & sneezy',\n",
       "       ' ahch ', 'chorus', ' goodbye. '], dtype=object)"
      ]
     },
     "execution_count": 83,
     "metadata": {},
     "output_type": "execute_result"
    }
   ],
   "source": [
    "snow_white[\"Speaker\"].unique()"
   ]
  },
  {
   "cell_type": "code",
   "execution_count": 84,
   "metadata": {},
   "outputs": [
    {
     "data": {
      "text/plain": [
       "87    i can't \n",
       "Name: Speaker, dtype: object"
      ]
     },
     "execution_count": 84,
     "metadata": {},
     "output_type": "execute_result"
    }
   ],
   "source": [
    "# \"i can't and ' ahch ' and ' goodbye' are not lines\n",
    "snow_white[\"Speaker\"][snow_white.Speaker == \"i can't \"]"
   ]
  },
  {
   "cell_type": "code",
   "execution_count": 85,
   "metadata": {},
   "outputs": [
    {
     "data": {
      "text/html": [
       "<div>\n",
       "<style scoped>\n",
       "    .dataframe tbody tr th:only-of-type {\n",
       "        vertical-align: middle;\n",
       "    }\n",
       "\n",
       "    .dataframe tbody tr th {\n",
       "        vertical-align: top;\n",
       "    }\n",
       "\n",
       "    .dataframe thead th {\n",
       "        text-align: right;\n",
       "    }\n",
       "</style>\n",
       "<table border=\"1\" class=\"dataframe\">\n",
       "  <thead>\n",
       "    <tr style=\"text-align: right;\">\n",
       "      <th></th>\n",
       "      <th>Speaker</th>\n",
       "      <th>Text</th>\n",
       "    </tr>\n",
       "  </thead>\n",
       "  <tbody>\n",
       "    <tr>\n",
       "      <th>85</th>\n",
       "      <td>bashful</td>\n",
       "      <td>huh ? look, goldenrod.</td>\n",
       "    </tr>\n",
       "    <tr>\n",
       "      <th>86</th>\n",
       "      <td>sneezy</td>\n",
       "      <td>don't do it. take them away. my nose ! my hay ...</td>\n",
       "    </tr>\n",
       "    <tr>\n",
       "      <th>87</th>\n",
       "      <td>i can't</td>\n",
       "      <td>i can't i oh !</td>\n",
       "    </tr>\n",
       "    <tr>\n",
       "      <th>88</th>\n",
       "      <td>all dwarfs</td>\n",
       "      <td>shh !</td>\n",
       "    </tr>\n",
       "  </tbody>\n",
       "</table>\n",
       "</div>"
      ],
      "text/plain": [
       "       Speaker                                               Text\n",
       "85     bashful                            huh ? look, goldenrod. \n",
       "86      sneezy  don't do it. take them away. my nose ! my hay ...\n",
       "87    i can't                                     i can't i oh ! \n",
       "88  all dwarfs                                             shh ! "
      ]
     },
     "execution_count": 85,
     "metadata": {},
     "output_type": "execute_result"
    }
   ],
   "source": [
    "snow_white[[\"Speaker\", \"Text\"]].iloc[85:89]"
   ]
  },
  {
   "cell_type": "code",
   "execution_count": 86,
   "metadata": {},
   "outputs": [
    {
     "name": "stdout",
     "output_type": "stream",
     "text": [
      "don't do it. take them away. my nose ! my hay fever ! you know i can't stand it. \n"
     ]
    }
   ],
   "source": [
    "line_86 = snow_white[\"Text\"].iloc[86]\n",
    "print(line_86)"
   ]
  },
  {
   "cell_type": "code",
   "execution_count": 87,
   "metadata": {},
   "outputs": [
    {
     "data": {
      "text/plain": [
       "\"i can't i oh ! \""
      ]
     },
     "execution_count": 87,
     "metadata": {},
     "output_type": "execute_result"
    }
   ],
   "source": [
    "line_87 = snow_white[\"Text\"].iloc[87]\n",
    "line_87"
   ]
  },
  {
   "cell_type": "code",
   "execution_count": 88,
   "metadata": {},
   "outputs": [
    {
     "name": "stderr",
     "output_type": "stream",
     "text": [
      "c:\\users\\cassi\\appdata\\local\\programs\\python\\python36-32\\lib\\site-packages\\ipykernel_launcher.py:1: SettingWithCopyWarning: \n",
      "A value is trying to be set on a copy of a slice from a DataFrame\n",
      "\n",
      "See the caveats in the documentation: http://pandas.pydata.org/pandas-docs/stable/indexing.html#indexing-view-versus-copy\n",
      "  \"\"\"Entry point for launching an IPython kernel.\n"
     ]
    }
   ],
   "source": [
    "snow_white[\"Text\"].iloc[86] = line_86 + line_87"
   ]
  },
  {
   "cell_type": "code",
   "execution_count": 89,
   "metadata": {},
   "outputs": [
    {
     "data": {
      "text/plain": [
       "\"don't do it. take them away. my nose ! my hay fever ! you know i can't stand it. i can't i oh ! \""
      ]
     },
     "execution_count": 89,
     "metadata": {},
     "output_type": "execute_result"
    }
   ],
   "source": [
    "snow_white[\"Text\"].iloc[86]"
   ]
  },
  {
   "cell_type": "code",
   "execution_count": 90,
   "metadata": {},
   "outputs": [],
   "source": [
    "snow_white = snow_white.drop(index = 87)"
   ]
  },
  {
   "cell_type": "code",
   "execution_count": 100,
   "metadata": {},
   "outputs": [],
   "source": [
    "snow_white.reset_index(inplace=True)"
   ]
  },
  {
   "cell_type": "code",
   "execution_count": 101,
   "metadata": {},
   "outputs": [
    {
     "name": "stdout",
     "output_type": "stream",
     "text": [
      "<class 'pandas.core.frame.DataFrame'>\n",
      "RangeIndex: 365 entries, 0 to 364\n",
      "Data columns (total 12 columns):\n",
      "index               365 non-null int64\n",
      "Disney_Period       365 non-null object\n",
      "Gender              0 non-null object\n",
      "Movie               365 non-null object\n",
      "Role                0 non-null object\n",
      "Song                0 non-null object\n",
      "Speaker             365 non-null object\n",
      "Speaker_Status      365 non-null object\n",
      "Start_Scene         0 non-null object\n",
      "Text                365 non-null object\n",
      "UTTERANCE_NUMBER    365 non-null int64\n",
      "Year                365 non-null int64\n",
      "dtypes: int64(3), object(9)\n",
      "memory usage: 21.4+ KB\n"
     ]
    }
   ],
   "source": [
    "snow_white.info()"
   ]
  },
  {
   "cell_type": "code",
   "execution_count": 102,
   "metadata": {},
   "outputs": [
    {
     "data": {
      "text/html": [
       "<div>\n",
       "<style scoped>\n",
       "    .dataframe tbody tr th:only-of-type {\n",
       "        vertical-align: middle;\n",
       "    }\n",
       "\n",
       "    .dataframe tbody tr th {\n",
       "        vertical-align: top;\n",
       "    }\n",
       "\n",
       "    .dataframe thead th {\n",
       "        text-align: right;\n",
       "    }\n",
       "</style>\n",
       "<table border=\"1\" class=\"dataframe\">\n",
       "  <thead>\n",
       "    <tr style=\"text-align: right;\">\n",
       "      <th></th>\n",
       "      <th>index</th>\n",
       "      <th>Disney_Period</th>\n",
       "      <th>Gender</th>\n",
       "      <th>Movie</th>\n",
       "      <th>Role</th>\n",
       "      <th>Song</th>\n",
       "      <th>Speaker</th>\n",
       "      <th>Speaker_Status</th>\n",
       "      <th>Start_Scene</th>\n",
       "      <th>Text</th>\n",
       "      <th>UTTERANCE_NUMBER</th>\n",
       "      <th>Year</th>\n",
       "    </tr>\n",
       "  </thead>\n",
       "  <tbody>\n",
       "    <tr>\n",
       "      <th>85</th>\n",
       "      <td>85</td>\n",
       "      <td>EARLY</td>\n",
       "      <td>NaN</td>\n",
       "      <td>Snow White</td>\n",
       "      <td>NaN</td>\n",
       "      <td>NaN</td>\n",
       "      <td>bashful</td>\n",
       "      <td>NON-P</td>\n",
       "      <td>NaN</td>\n",
       "      <td>huh ? look, goldenrod.</td>\n",
       "      <td>86</td>\n",
       "      <td>1937</td>\n",
       "    </tr>\n",
       "    <tr>\n",
       "      <th>86</th>\n",
       "      <td>86</td>\n",
       "      <td>EARLY</td>\n",
       "      <td>NaN</td>\n",
       "      <td>Snow White</td>\n",
       "      <td>NaN</td>\n",
       "      <td>NaN</td>\n",
       "      <td>sneezy</td>\n",
       "      <td>NON-P</td>\n",
       "      <td>NaN</td>\n",
       "      <td>don't do it. take them away. my nose ! my hay ...</td>\n",
       "      <td>87</td>\n",
       "      <td>1937</td>\n",
       "    </tr>\n",
       "    <tr>\n",
       "      <th>87</th>\n",
       "      <td>88</td>\n",
       "      <td>EARLY</td>\n",
       "      <td>NaN</td>\n",
       "      <td>Snow White</td>\n",
       "      <td>NaN</td>\n",
       "      <td>NaN</td>\n",
       "      <td>all dwarfs</td>\n",
       "      <td>NON-P</td>\n",
       "      <td>NaN</td>\n",
       "      <td>shh !</td>\n",
       "      <td>89</td>\n",
       "      <td>1937</td>\n",
       "    </tr>\n",
       "    <tr>\n",
       "      <th>88</th>\n",
       "      <td>89</td>\n",
       "      <td>EARLY</td>\n",
       "      <td>NaN</td>\n",
       "      <td>Snow White</td>\n",
       "      <td>NaN</td>\n",
       "      <td>NaN</td>\n",
       "      <td>grumpy</td>\n",
       "      <td>NON-P</td>\n",
       "      <td>NaN</td>\n",
       "      <td>ya crazy fool ! fine time ya picked to sneeze !</td>\n",
       "      <td>90</td>\n",
       "      <td>1937</td>\n",
       "    </tr>\n",
       "  </tbody>\n",
       "</table>\n",
       "</div>"
      ],
      "text/plain": [
       "    index Disney_Period Gender       Movie Role Song     Speaker  \\\n",
       "85     85         EARLY    NaN  Snow White  NaN  NaN     bashful   \n",
       "86     86         EARLY    NaN  Snow White  NaN  NaN      sneezy   \n",
       "87     88         EARLY    NaN  Snow White  NaN  NaN  all dwarfs   \n",
       "88     89         EARLY    NaN  Snow White  NaN  NaN      grumpy   \n",
       "\n",
       "   Speaker_Status Start_Scene  \\\n",
       "85          NON-P         NaN   \n",
       "86          NON-P         NaN   \n",
       "87          NON-P         NaN   \n",
       "88          NON-P         NaN   \n",
       "\n",
       "                                                 Text  UTTERANCE_NUMBER  Year  \n",
       "85                            huh ? look, goldenrod.                 86  1937  \n",
       "86  don't do it. take them away. my nose ! my hay ...                87  1937  \n",
       "87                                             shh !                 89  1937  \n",
       "88   ya crazy fool ! fine time ya picked to sneeze !                 90  1937  "
      ]
     },
     "execution_count": 102,
     "metadata": {},
     "output_type": "execute_result"
    }
   ],
   "source": [
    "snow_white.iloc[85:89] #utterance numbers must be revised"
   ]
  },
  {
   "cell_type": "code",
   "execution_count": 103,
   "metadata": {},
   "outputs": [
    {
     "data": {
      "text/plain": [
       "295     ahch \n",
       "Name: Speaker, dtype: object"
      ]
     },
     "execution_count": 103,
     "metadata": {},
     "output_type": "execute_result"
    }
   ],
   "source": [
    "snow_white[\"Speaker\"][snow_white.Speaker == \" ahch \"]"
   ]
  },
  {
   "cell_type": "code",
   "execution_count": 105,
   "metadata": {},
   "outputs": [
    {
     "data": {
      "text/html": [
       "<div>\n",
       "<style scoped>\n",
       "    .dataframe tbody tr th:only-of-type {\n",
       "        vertical-align: middle;\n",
       "    }\n",
       "\n",
       "    .dataframe tbody tr th {\n",
       "        vertical-align: top;\n",
       "    }\n",
       "\n",
       "    .dataframe thead th {\n",
       "        text-align: right;\n",
       "    }\n",
       "</style>\n",
       "<table border=\"1\" class=\"dataframe\">\n",
       "  <thead>\n",
       "    <tr style=\"text-align: right;\">\n",
       "      <th></th>\n",
       "      <th>Speaker</th>\n",
       "      <th>Text</th>\n",
       "    </tr>\n",
       "  </thead>\n",
       "  <tbody>\n",
       "    <tr>\n",
       "      <th>293</th>\n",
       "      <td>grumpy</td>\n",
       "      <td>hah ! disgustin' !</td>\n",
       "    </tr>\n",
       "    <tr>\n",
       "      <th>294</th>\n",
       "      <td>sneezy</td>\n",
       "      <td>and be sure to watch outto wato wa to wawatch ...</td>\n",
       "    </tr>\n",
       "    <tr>\n",
       "      <th>295</th>\n",
       "      <td>ahch</td>\n",
       "      <td>ahchooooo !</td>\n",
       "    </tr>\n",
       "    <tr>\n",
       "      <th>296</th>\n",
       "      <td>snow white</td>\n",
       "      <td>well... all right. but that's the last oh ! go...</td>\n",
       "    </tr>\n",
       "    <tr>\n",
       "      <th>297</th>\n",
       "      <td>snow white</td>\n",
       "      <td>heighho, heighho it's off to work we go heighho</td>\n",
       "    </tr>\n",
       "  </tbody>\n",
       "</table>\n",
       "</div>"
      ],
      "text/plain": [
       "        Speaker                                               Text\n",
       "293      grumpy                                hah ! disgustin' ! \n",
       "294      sneezy  and be sure to watch outto wato wa to wawatch ...\n",
       "295       ahch                                        ahchooooo ! \n",
       "296  snow white  well... all right. but that's the last oh ! go...\n",
       "297  snow white   heighho, heighho it's off to work we go heighho "
      ]
     },
     "execution_count": 105,
     "metadata": {},
     "output_type": "execute_result"
    }
   ],
   "source": [
    "snow_white[[\"Speaker\", \"Text\"]].iloc[293:298]"
   ]
  },
  {
   "cell_type": "code",
   "execution_count": 106,
   "metadata": {},
   "outputs": [],
   "source": [
    "#goshdarn it, sneezy!\n",
    "line_294 = snow_white[\"Text\"].iloc[294]\n",
    "line_295 = snow_white[\"Text\"].iloc[295]\n",
    "snow_white[\"Text\"].iloc[294] = line_294 + line_295"
   ]
  },
  {
   "cell_type": "code",
   "execution_count": 108,
   "metadata": {},
   "outputs": [
    {
     "data": {
      "text/plain": [
       "'and be sure to watch outto wato wa to wawatch out ! ahchooooo ! '"
      ]
     },
     "execution_count": 108,
     "metadata": {},
     "output_type": "execute_result"
    }
   ],
   "source": [
    "snow_white[\"Text\"].iloc[294]"
   ]
  },
  {
   "cell_type": "code",
   "execution_count": 109,
   "metadata": {},
   "outputs": [
    {
     "data": {
      "text/plain": [
       "'ahchooooo ! '"
      ]
     },
     "execution_count": 109,
     "metadata": {},
     "output_type": "execute_result"
    }
   ],
   "source": [
    "snow_white[\"Text\"].iloc[295]"
   ]
  },
  {
   "cell_type": "code",
   "execution_count": 110,
   "metadata": {},
   "outputs": [
    {
     "data": {
      "text/plain": [
       "293                                  hah ! disgustin' ! \n",
       "294    and be sure to watch outto wato wa to wawatch ...\n",
       "295    well... all right. but that's the last oh ! go...\n",
       "296     heighho, heighho it's off to work we go heighho \n",
       "297                                  goodbye. goodbye ! \n",
       "Name: Text, dtype: object"
      ]
     },
     "execution_count": 110,
     "metadata": {},
     "output_type": "execute_result"
    }
   ],
   "source": [
    "snow_white.drop(index = 295, inplace=True)\n",
    "snow_white.reset_index(inplace=True)\n",
    "snow_white[\"Text\"].iloc[293:298]"
   ]
  },
  {
   "cell_type": "code",
   "execution_count": 114,
   "metadata": {},
   "outputs": [
    {
     "data": {
      "text/plain": [
       "362     goodbye. \n",
       "Name: Speaker, dtype: object"
      ]
     },
     "execution_count": 114,
     "metadata": {},
     "output_type": "execute_result"
    }
   ],
   "source": [
    "snow_white[\"Speaker\"][snow_white.Speaker == \" goodbye. \"]"
   ]
  },
  {
   "cell_type": "code",
   "execution_count": 115,
   "metadata": {},
   "outputs": [
    {
     "data": {
      "text/html": [
       "<div>\n",
       "<style scoped>\n",
       "    .dataframe tbody tr th:only-of-type {\n",
       "        vertical-align: middle;\n",
       "    }\n",
       "\n",
       "    .dataframe tbody tr th {\n",
       "        vertical-align: top;\n",
       "    }\n",
       "\n",
       "    .dataframe thead th {\n",
       "        text-align: right;\n",
       "    }\n",
       "</style>\n",
       "<table border=\"1\" class=\"dataframe\">\n",
       "  <thead>\n",
       "    <tr style=\"text-align: right;\">\n",
       "      <th></th>\n",
       "      <th>Speaker</th>\n",
       "      <th>Text</th>\n",
       "    </tr>\n",
       "  </thead>\n",
       "  <tbody>\n",
       "    <tr>\n",
       "      <th>360</th>\n",
       "      <td>chorus</td>\n",
       "      <td>one song, i have but one song one song, only f...</td>\n",
       "    </tr>\n",
       "    <tr>\n",
       "      <th>361</th>\n",
       "      <td>snow white</td>\n",
       "      <td>goodbye. goodbye, grumpy.</td>\n",
       "    </tr>\n",
       "    <tr>\n",
       "      <th>362</th>\n",
       "      <td>goodbye.</td>\n",
       "      <td>oh, dopey. goodbye !</td>\n",
       "    </tr>\n",
       "    <tr>\n",
       "      <th>363</th>\n",
       "      <td>chorus</td>\n",
       "      <td>some day when spring is here we'll find our lo...</td>\n",
       "    </tr>\n",
       "  </tbody>\n",
       "</table>\n",
       "</div>"
      ],
      "text/plain": [
       "        Speaker                                               Text\n",
       "360      chorus  one song, i have but one song one song, only f...\n",
       "361  snow white                         goodbye. goodbye, grumpy. \n",
       "362   goodbye.                               oh, dopey. goodbye ! \n",
       "363      chorus  some day when spring is here we'll find our lo..."
      ]
     },
     "execution_count": 115,
     "metadata": {},
     "output_type": "execute_result"
    }
   ],
   "source": [
    "snow_white[[\"Speaker\", \"Text\"]].iloc[360:364]"
   ]
  },
  {
   "cell_type": "code",
   "execution_count": 118,
   "metadata": {},
   "outputs": [],
   "source": [
    "line_361 = snow_white[\"Text\"].iloc[361]\n",
    "line_362a = snow_white[\"Speaker\"].iloc[362]\n",
    "line_362 = snow_white[\"Text\"].iloc[362]\n",
    "snow_white[\"Text\"].iloc[361] = line_361 + line_362a + line_362"
   ]
  },
  {
   "cell_type": "code",
   "execution_count": 119,
   "metadata": {},
   "outputs": [
    {
     "data": {
      "text/plain": [
       "'goodbye. goodbye, grumpy.  goodbye. oh, dopey. goodbye ! '"
      ]
     },
     "execution_count": 119,
     "metadata": {},
     "output_type": "execute_result"
    }
   ],
   "source": [
    "snow_white[\"Text\"].iloc[361]"
   ]
  },
  {
   "cell_type": "code",
   "execution_count": 123,
   "metadata": {},
   "outputs": [
    {
     "data": {
      "text/plain": [
       "level_0                                                           362\n",
       "index                                                             363\n",
       "Disney_Period                                                   EARLY\n",
       "Gender                                                            NaN\n",
       "Movie                                                      Snow White\n",
       "Role                                                              NaN\n",
       "Song                                                              NaN\n",
       "Speaker                                                    snow white\n",
       "Speaker_Status                                               PRINCESS\n",
       "Start_Scene                                                       NaN\n",
       "Text                goodbye. goodbye, grumpy.  goodbye. oh, dopey....\n",
       "UTTERANCE_NUMBER                                                  364\n",
       "Year                                                             1937\n",
       "Name: 361, dtype: object"
      ]
     },
     "execution_count": 123,
     "metadata": {},
     "output_type": "execute_result"
    }
   ],
   "source": [
    "snow_white.iloc[361]"
   ]
  },
  {
   "cell_type": "code",
   "execution_count": 124,
   "metadata": {},
   "outputs": [
    {
     "data": {
      "text/plain": [
       "360    one song, i have but one song one song, only f...\n",
       "361    goodbye. goodbye, grumpy.  goodbye. oh, dopey....\n",
       "363    some day when spring is here we'll find our lo...\n",
       "Name: Text, dtype: object"
      ]
     },
     "execution_count": 124,
     "metadata": {},
     "output_type": "execute_result"
    }
   ],
   "source": [
    "snow_white.drop(index = 362, inplace = True)"
   ]
  },
  {
   "cell_type": "code",
   "execution_count": 126,
   "metadata": {},
   "outputs": [
    {
     "data": {
      "text/plain": [
       "360    one song, i have but one song one song, only f...\n",
       "361    goodbye. goodbye, grumpy.  goodbye. oh, dopey....\n",
       "362    some day when spring is here we'll find our lo...\n",
       "Name: Text, dtype: object"
      ]
     },
     "execution_count": 126,
     "metadata": {},
     "output_type": "execute_result"
    }
   ],
   "source": [
    "snow_white.reset_index(drop=True,inplace = True)\n",
    "snow_white[\"Text\"].iloc[360:]"
   ]
  },
  {
   "cell_type": "markdown",
   "metadata": {},
   "source": [
    "2) Adding columns\n",
    "\n",
    "Gender"
   ]
  },
  {
   "cell_type": "code",
   "execution_count": 132,
   "metadata": {},
   "outputs": [
    {
     "data": {
      "text/plain": [
       "array(['queen', 'mirror', 'snow white', 'prince', 'guard', 'all dwarfs',\n",
       "       'doc', 'happy', 'bashful', 'dopey', 'grumpy', 'sneey', 'sneezy',\n",
       "       'various dwarfs', 'sleepy', 'grumpy & sneezy', 'chorus'],\n",
       "      dtype=object)"
      ]
     },
     "execution_count": 132,
     "metadata": {},
     "output_type": "execute_result"
    }
   ],
   "source": [
    "#characters list:\n",
    "snow_white[\"Speaker\"].unique()"
   ]
  },
  {
   "cell_type": "code",
   "execution_count": 133,
   "metadata": {},
   "outputs": [
    {
     "name": "stdout",
     "output_type": "stream",
     "text": [
      "queen\n",
      "mirror\n",
      "snow white\n",
      "prince\n",
      "guard\n",
      "all dwarfs\n",
      "doc\n",
      "happy\n",
      "bashful\n",
      "dopey\n",
      "grumpy\n",
      "sneey\n",
      "sneezy\n",
      "various dwarfs\n",
      "sleepy\n",
      "grumpy & sneezy\n",
      "chorus\n"
     ]
    }
   ],
   "source": [
    "for person in snow_white[\"Speaker\"].unique():\n",
    "    print(person)"
   ]
  },
  {
   "cell_type": "markdown",
   "metadata": {},
   "source": [
    "there's a typo in the characters: 'sneey' should be 'sneezy'"
   ]
  },
  {
   "cell_type": "code",
   "execution_count": 136,
   "metadata": {},
   "outputs": [
    {
     "name": "stdout",
     "output_type": "stream",
     "text": [
      "77    sneey\n",
      "Name: Speaker, dtype: object\n"
     ]
    }
   ],
   "source": [
    "for speaker in snow_white[\"Speaker\"]:\n",
    "    if speaker == 'sneey':\n",
    "        print(snow_white[\"Speaker\"][snow_white.Speaker == \"sneey\"])"
   ]
  },
  {
   "cell_type": "code",
   "execution_count": 138,
   "metadata": {},
   "outputs": [],
   "source": [
    "snow_white[\"Speaker\"].iloc[77] = 'sneezy'"
   ]
  },
  {
   "cell_type": "code",
   "execution_count": 139,
   "metadata": {},
   "outputs": [
    {
     "data": {
      "text/plain": [
       "'sneezy'"
      ]
     },
     "execution_count": 139,
     "metadata": {},
     "output_type": "execute_result"
    }
   ],
   "source": [
    "snow_white[\"Speaker\"].iloc[77]"
   ]
  },
  {
   "cell_type": "code",
   "execution_count": 141,
   "metadata": {},
   "outputs": [
    {
     "data": {
      "text/plain": [
       "array(['queen', 'mirror', 'snow white', 'prince', 'guard', 'all dwarfs',\n",
       "       'doc', 'happy', 'bashful', 'dopey', 'grumpy', 'sneezy',\n",
       "       'various dwarfs', 'sleepy', 'grumpy & sneezy', 'chorus'],\n",
       "      dtype=object)"
      ]
     },
     "execution_count": 141,
     "metadata": {},
     "output_type": "execute_result"
    }
   ],
   "source": [
    "snow_white[\"Speaker\"].unique()"
   ]
  },
  {
   "cell_type": "code",
   "execution_count": 143,
   "metadata": {},
   "outputs": [],
   "source": [
    "import functools"
   ]
  },
  {
   "cell_type": "code",
   "execution_count": 145,
   "metadata": {},
   "outputs": [],
   "source": [
    "from functools import partial\n",
    "#this allows me to map a column to the whichgen function\n",
    "#and use predetermined fixed arguments for male/female character lists"
   ]
  },
  {
   "cell_type": "code",
   "execution_count": 148,
   "metadata": {},
   "outputs": [],
   "source": [
    "# Making Gender Lists\n",
    "sw_female = ['queen', 'snow white']\n",
    "sw_male = ['mirror', 'prince', 'guard', 'all dwarfs', 'doc', 'happy', 'bashful', 'dopey', \n",
    "           'grumpy', 'sneezy', 'various dwarfs', 'sleepy', 'grumpy & sneezy']\n",
    "gender_func = partial(whichgen, female = sw_female, male=sw_male)\n",
    "snow_white[\"Gender\"] = snow_white.Speaker.map(gender_func)"
   ]
  },
  {
   "cell_type": "code",
   "execution_count": 149,
   "metadata": {},
   "outputs": [
    {
     "data": {
      "text/html": [
       "<div>\n",
       "<style scoped>\n",
       "    .dataframe tbody tr th:only-of-type {\n",
       "        vertical-align: middle;\n",
       "    }\n",
       "\n",
       "    .dataframe tbody tr th {\n",
       "        vertical-align: top;\n",
       "    }\n",
       "\n",
       "    .dataframe thead th {\n",
       "        text-align: right;\n",
       "    }\n",
       "</style>\n",
       "<table border=\"1\" class=\"dataframe\">\n",
       "  <thead>\n",
       "    <tr style=\"text-align: right;\">\n",
       "      <th></th>\n",
       "      <th>level_0</th>\n",
       "      <th>index</th>\n",
       "      <th>Disney_Period</th>\n",
       "      <th>Gender</th>\n",
       "      <th>Movie</th>\n",
       "      <th>Role</th>\n",
       "      <th>Song</th>\n",
       "      <th>Speaker</th>\n",
       "      <th>Speaker_Status</th>\n",
       "      <th>Start_Scene</th>\n",
       "      <th>Text</th>\n",
       "      <th>UTTERANCE_NUMBER</th>\n",
       "      <th>Year</th>\n",
       "    </tr>\n",
       "  </thead>\n",
       "  <tbody>\n",
       "    <tr>\n",
       "      <th>0</th>\n",
       "      <td>0</td>\n",
       "      <td>0</td>\n",
       "      <td>EARLY</td>\n",
       "      <td>f</td>\n",
       "      <td>Snow White</td>\n",
       "      <td>NaN</td>\n",
       "      <td>NaN</td>\n",
       "      <td>queen</td>\n",
       "      <td>NON-P</td>\n",
       "      <td>NaN</td>\n",
       "      <td>slave in the magic mirror come from the farthe...</td>\n",
       "      <td>1</td>\n",
       "      <td>1937</td>\n",
       "    </tr>\n",
       "    <tr>\n",
       "      <th>1</th>\n",
       "      <td>1</td>\n",
       "      <td>1</td>\n",
       "      <td>EARLY</td>\n",
       "      <td>m</td>\n",
       "      <td>Snow White</td>\n",
       "      <td>NaN</td>\n",
       "      <td>NaN</td>\n",
       "      <td>mirror</td>\n",
       "      <td>NON-P</td>\n",
       "      <td>NaN</td>\n",
       "      <td>what wouldst thou know, my queen ?</td>\n",
       "      <td>2</td>\n",
       "      <td>1937</td>\n",
       "    </tr>\n",
       "    <tr>\n",
       "      <th>2</th>\n",
       "      <td>2</td>\n",
       "      <td>2</td>\n",
       "      <td>EARLY</td>\n",
       "      <td>f</td>\n",
       "      <td>Snow White</td>\n",
       "      <td>NaN</td>\n",
       "      <td>NaN</td>\n",
       "      <td>queen</td>\n",
       "      <td>NON-P</td>\n",
       "      <td>NaN</td>\n",
       "      <td>magic mirror on the wall, who is the fairest o...</td>\n",
       "      <td>3</td>\n",
       "      <td>1937</td>\n",
       "    </tr>\n",
       "    <tr>\n",
       "      <th>3</th>\n",
       "      <td>3</td>\n",
       "      <td>3</td>\n",
       "      <td>EARLY</td>\n",
       "      <td>m</td>\n",
       "      <td>Snow White</td>\n",
       "      <td>NaN</td>\n",
       "      <td>NaN</td>\n",
       "      <td>mirror</td>\n",
       "      <td>NON-P</td>\n",
       "      <td>NaN</td>\n",
       "      <td>famed is thy beauty, majesty. but hold, a love...</td>\n",
       "      <td>4</td>\n",
       "      <td>1937</td>\n",
       "    </tr>\n",
       "    <tr>\n",
       "      <th>4</th>\n",
       "      <td>4</td>\n",
       "      <td>4</td>\n",
       "      <td>EARLY</td>\n",
       "      <td>f</td>\n",
       "      <td>Snow White</td>\n",
       "      <td>NaN</td>\n",
       "      <td>NaN</td>\n",
       "      <td>queen</td>\n",
       "      <td>NON-P</td>\n",
       "      <td>NaN</td>\n",
       "      <td>alas for her ! reveal her name.</td>\n",
       "      <td>5</td>\n",
       "      <td>1937</td>\n",
       "    </tr>\n",
       "  </tbody>\n",
       "</table>\n",
       "</div>"
      ],
      "text/plain": [
       "   level_0  index Disney_Period Gender       Movie Role Song Speaker  \\\n",
       "0        0      0         EARLY      f  Snow White  NaN  NaN   queen   \n",
       "1        1      1         EARLY      m  Snow White  NaN  NaN  mirror   \n",
       "2        2      2         EARLY      f  Snow White  NaN  NaN   queen   \n",
       "3        3      3         EARLY      m  Snow White  NaN  NaN  mirror   \n",
       "4        4      4         EARLY      f  Snow White  NaN  NaN   queen   \n",
       "\n",
       "  Speaker_Status Start_Scene  \\\n",
       "0          NON-P         NaN   \n",
       "1          NON-P         NaN   \n",
       "2          NON-P         NaN   \n",
       "3          NON-P         NaN   \n",
       "4          NON-P         NaN   \n",
       "\n",
       "                                                Text  UTTERANCE_NUMBER  Year  \n",
       "0  slave in the magic mirror come from the farthe...                 1  1937  \n",
       "1                what wouldst thou know, my queen ?                  2  1937  \n",
       "2  magic mirror on the wall, who is the fairest o...                 3  1937  \n",
       "3  famed is thy beauty, majesty. but hold, a love...                 4  1937  \n",
       "4                   alas for her ! reveal her name.                  5  1937  "
      ]
     },
     "execution_count": 149,
     "metadata": {},
     "output_type": "execute_result"
    }
   ],
   "source": [
    "snow_white.head()"
   ]
  },
  {
   "cell_type": "code",
   "execution_count": 150,
   "metadata": {},
   "outputs": [],
   "source": [
    "snow_white.drop(columns=['level_0', 'index'], inplace=True)"
   ]
  },
  {
   "cell_type": "code",
   "execution_count": 151,
   "metadata": {},
   "outputs": [
    {
     "data": {
      "text/html": [
       "<div>\n",
       "<style scoped>\n",
       "    .dataframe tbody tr th:only-of-type {\n",
       "        vertical-align: middle;\n",
       "    }\n",
       "\n",
       "    .dataframe tbody tr th {\n",
       "        vertical-align: top;\n",
       "    }\n",
       "\n",
       "    .dataframe thead th {\n",
       "        text-align: right;\n",
       "    }\n",
       "</style>\n",
       "<table border=\"1\" class=\"dataframe\">\n",
       "  <thead>\n",
       "    <tr style=\"text-align: right;\">\n",
       "      <th></th>\n",
       "      <th>Disney_Period</th>\n",
       "      <th>Gender</th>\n",
       "      <th>Movie</th>\n",
       "      <th>Role</th>\n",
       "      <th>Song</th>\n",
       "      <th>Speaker</th>\n",
       "      <th>Speaker_Status</th>\n",
       "      <th>Start_Scene</th>\n",
       "      <th>Text</th>\n",
       "      <th>UTTERANCE_NUMBER</th>\n",
       "      <th>Year</th>\n",
       "    </tr>\n",
       "  </thead>\n",
       "  <tbody>\n",
       "    <tr>\n",
       "      <th>0</th>\n",
       "      <td>EARLY</td>\n",
       "      <td>f</td>\n",
       "      <td>Snow White</td>\n",
       "      <td>NaN</td>\n",
       "      <td>NaN</td>\n",
       "      <td>queen</td>\n",
       "      <td>NON-P</td>\n",
       "      <td>NaN</td>\n",
       "      <td>slave in the magic mirror come from the farthe...</td>\n",
       "      <td>1</td>\n",
       "      <td>1937</td>\n",
       "    </tr>\n",
       "    <tr>\n",
       "      <th>1</th>\n",
       "      <td>EARLY</td>\n",
       "      <td>m</td>\n",
       "      <td>Snow White</td>\n",
       "      <td>NaN</td>\n",
       "      <td>NaN</td>\n",
       "      <td>mirror</td>\n",
       "      <td>NON-P</td>\n",
       "      <td>NaN</td>\n",
       "      <td>what wouldst thou know, my queen ?</td>\n",
       "      <td>2</td>\n",
       "      <td>1937</td>\n",
       "    </tr>\n",
       "    <tr>\n",
       "      <th>2</th>\n",
       "      <td>EARLY</td>\n",
       "      <td>f</td>\n",
       "      <td>Snow White</td>\n",
       "      <td>NaN</td>\n",
       "      <td>NaN</td>\n",
       "      <td>queen</td>\n",
       "      <td>NON-P</td>\n",
       "      <td>NaN</td>\n",
       "      <td>magic mirror on the wall, who is the fairest o...</td>\n",
       "      <td>3</td>\n",
       "      <td>1937</td>\n",
       "    </tr>\n",
       "    <tr>\n",
       "      <th>3</th>\n",
       "      <td>EARLY</td>\n",
       "      <td>m</td>\n",
       "      <td>Snow White</td>\n",
       "      <td>NaN</td>\n",
       "      <td>NaN</td>\n",
       "      <td>mirror</td>\n",
       "      <td>NON-P</td>\n",
       "      <td>NaN</td>\n",
       "      <td>famed is thy beauty, majesty. but hold, a love...</td>\n",
       "      <td>4</td>\n",
       "      <td>1937</td>\n",
       "    </tr>\n",
       "    <tr>\n",
       "      <th>4</th>\n",
       "      <td>EARLY</td>\n",
       "      <td>f</td>\n",
       "      <td>Snow White</td>\n",
       "      <td>NaN</td>\n",
       "      <td>NaN</td>\n",
       "      <td>queen</td>\n",
       "      <td>NON-P</td>\n",
       "      <td>NaN</td>\n",
       "      <td>alas for her ! reveal her name.</td>\n",
       "      <td>5</td>\n",
       "      <td>1937</td>\n",
       "    </tr>\n",
       "  </tbody>\n",
       "</table>\n",
       "</div>"
      ],
      "text/plain": [
       "  Disney_Period Gender       Movie Role Song Speaker Speaker_Status  \\\n",
       "0         EARLY      f  Snow White  NaN  NaN   queen          NON-P   \n",
       "1         EARLY      m  Snow White  NaN  NaN  mirror          NON-P   \n",
       "2         EARLY      f  Snow White  NaN  NaN   queen          NON-P   \n",
       "3         EARLY      m  Snow White  NaN  NaN  mirror          NON-P   \n",
       "4         EARLY      f  Snow White  NaN  NaN   queen          NON-P   \n",
       "\n",
       "  Start_Scene                                               Text  \\\n",
       "0         NaN  slave in the magic mirror come from the farthe...   \n",
       "1         NaN                what wouldst thou know, my queen ?    \n",
       "2         NaN  magic mirror on the wall, who is the fairest o...   \n",
       "3         NaN  famed is thy beauty, majesty. but hold, a love...   \n",
       "4         NaN                   alas for her ! reveal her name.    \n",
       "\n",
       "   UTTERANCE_NUMBER  Year  \n",
       "0                 1  1937  \n",
       "1                 2  1937  \n",
       "2                 3  1937  \n",
       "3                 4  1937  \n",
       "4                 5  1937  "
      ]
     },
     "execution_count": 151,
     "metadata": {},
     "output_type": "execute_result"
    }
   ],
   "source": [
    "snow_white.head()"
   ]
  },
  {
   "cell_type": "code",
   "execution_count": 152,
   "metadata": {},
   "outputs": [],
   "source": [
    "#check no null values in Gender"
   ]
  },
  {
   "cell_type": "code",
   "execution_count": 153,
   "metadata": {},
   "outputs": [
    {
     "name": "stdout",
     "output_type": "stream",
     "text": [
      "<class 'pandas.core.frame.DataFrame'>\n",
      "RangeIndex: 363 entries, 0 to 362\n",
      "Data columns (total 11 columns):\n",
      "Disney_Period       363 non-null object\n",
      "Gender              363 non-null object\n",
      "Movie               363 non-null object\n",
      "Role                0 non-null object\n",
      "Song                0 non-null object\n",
      "Speaker             363 non-null object\n",
      "Speaker_Status      363 non-null object\n",
      "Start_Scene         0 non-null object\n",
      "Text                363 non-null object\n",
      "UTTERANCE_NUMBER    363 non-null int64\n",
      "Year                363 non-null int64\n",
      "dtypes: int64(2), object(9)\n",
      "memory usage: 18.5+ KB\n"
     ]
    }
   ],
   "source": [
    "snow_white.info()"
   ]
  },
  {
   "cell_type": "markdown",
   "metadata": {},
   "source": [
    "Roles"
   ]
  },
  {
   "cell_type": "code",
   "execution_count": 155,
   "metadata": {},
   "outputs": [
    {
     "data": {
      "text/plain": [
       "array(['queen', 'mirror', 'snow white', 'prince', 'guard', 'all dwarfs',\n",
       "       'doc', 'happy', 'bashful', 'dopey', 'grumpy', 'sneezy',\n",
       "       'various dwarfs', 'sleepy', 'grumpy & sneezy', 'chorus'],\n",
       "      dtype=object)"
      ]
     },
     "execution_count": 155,
     "metadata": {},
     "output_type": "execute_result"
    }
   ],
   "source": [
    "snow_white.Speaker.unique()"
   ]
  },
  {
   "cell_type": "code",
   "execution_count": 156,
   "metadata": {},
   "outputs": [],
   "source": [
    "#Make Roles lists\n",
    "sw_pro = ['snow white', 'prince']\n",
    "sw_ant = ['queen', 'mirror', 'guard']\n",
    "sw_helper = ['all dwarfs', 'doc', 'happy', 'bashful', 'dopey', 'grumpy', 'sneezy', 'various dwarfs', \n",
    "             'sleepy', 'grumpy & sneezy']"
   ]
  },
  {
   "cell_type": "code",
   "execution_count": 157,
   "metadata": {},
   "outputs": [],
   "source": [
    "role_func = partial(whichrole, pro = sw_pro, ant = sw_ant, helper = sw_helper)\n",
    "snow_white[\"Role\"] = snow_white.Speaker.map(role_func)"
   ]
  },
  {
   "cell_type": "code",
   "execution_count": 158,
   "metadata": {},
   "outputs": [
    {
     "name": "stdout",
     "output_type": "stream",
     "text": [
      "<class 'pandas.core.frame.DataFrame'>\n",
      "RangeIndex: 363 entries, 0 to 362\n",
      "Data columns (total 11 columns):\n",
      "Disney_Period       363 non-null object\n",
      "Gender              363 non-null object\n",
      "Movie               363 non-null object\n",
      "Role                363 non-null object\n",
      "Song                0 non-null object\n",
      "Speaker             363 non-null object\n",
      "Speaker_Status      363 non-null object\n",
      "Start_Scene         0 non-null object\n",
      "Text                363 non-null object\n",
      "UTTERANCE_NUMBER    363 non-null int64\n",
      "Year                363 non-null int64\n",
      "dtypes: int64(2), object(9)\n",
      "memory usage: 18.5+ KB\n"
     ]
    }
   ],
   "source": [
    "snow_white.info()"
   ]
  },
  {
   "cell_type": "code",
   "execution_count": 162,
   "metadata": {},
   "outputs": [
    {
     "data": {
      "text/html": [
       "<div>\n",
       "<style scoped>\n",
       "    .dataframe tbody tr th:only-of-type {\n",
       "        vertical-align: middle;\n",
       "    }\n",
       "\n",
       "    .dataframe tbody tr th {\n",
       "        vertical-align: top;\n",
       "    }\n",
       "\n",
       "    .dataframe thead th {\n",
       "        text-align: right;\n",
       "    }\n",
       "</style>\n",
       "<table border=\"1\" class=\"dataframe\">\n",
       "  <thead>\n",
       "    <tr style=\"text-align: right;\">\n",
       "      <th></th>\n",
       "      <th>Disney_Period</th>\n",
       "      <th>Gender</th>\n",
       "      <th>Movie</th>\n",
       "      <th>Role</th>\n",
       "      <th>Song</th>\n",
       "      <th>Speaker</th>\n",
       "      <th>Speaker_Status</th>\n",
       "      <th>Start_Scene</th>\n",
       "      <th>Text</th>\n",
       "      <th>UTTERANCE_NUMBER</th>\n",
       "      <th>Year</th>\n",
       "    </tr>\n",
       "  </thead>\n",
       "  <tbody>\n",
       "    <tr>\n",
       "      <th>315</th>\n",
       "      <td>EARLY</td>\n",
       "      <td>f</td>\n",
       "      <td>Snow White</td>\n",
       "      <td>PRO</td>\n",
       "      <td>NaN</td>\n",
       "      <td>snow white</td>\n",
       "      <td>PRINCESS</td>\n",
       "      <td>NaN</td>\n",
       "      <td>hmm ?</td>\n",
       "      <td>318</td>\n",
       "      <td>1937</td>\n",
       "    </tr>\n",
       "    <tr>\n",
       "      <th>28</th>\n",
       "      <td>EARLY</td>\n",
       "      <td>m</td>\n",
       "      <td>Snow White</td>\n",
       "      <td>ANT</td>\n",
       "      <td>NaN</td>\n",
       "      <td>guard</td>\n",
       "      <td>NON-P</td>\n",
       "      <td>NaN</td>\n",
       "      <td>now, quick, child, run! run away, hide! in the...</td>\n",
       "      <td>29</td>\n",
       "      <td>1937</td>\n",
       "    </tr>\n",
       "    <tr>\n",
       "      <th>238</th>\n",
       "      <td>EARLY</td>\n",
       "      <td>m</td>\n",
       "      <td>Snow White</td>\n",
       "      <td>HELPER</td>\n",
       "      <td>NaN</td>\n",
       "      <td>sneezy</td>\n",
       "      <td>NON-P</td>\n",
       "      <td>NaN</td>\n",
       "      <td>be careful. watch out. bebe carewatch it ! wat...</td>\n",
       "      <td>240</td>\n",
       "      <td>1937</td>\n",
       "    </tr>\n",
       "    <tr>\n",
       "      <th>247</th>\n",
       "      <td>EARLY</td>\n",
       "      <td>m</td>\n",
       "      <td>Snow White</td>\n",
       "      <td>HELPER</td>\n",
       "      <td>NaN</td>\n",
       "      <td>bashful</td>\n",
       "      <td>NON-P</td>\n",
       "      <td>NaN</td>\n",
       "      <td>a love story.</td>\n",
       "      <td>249</td>\n",
       "      <td>1937</td>\n",
       "    </tr>\n",
       "    <tr>\n",
       "      <th>264</th>\n",
       "      <td>EARLY</td>\n",
       "      <td>m</td>\n",
       "      <td>Snow White</td>\n",
       "      <td>HELPER</td>\n",
       "      <td>NaN</td>\n",
       "      <td>doc</td>\n",
       "      <td>NON-P</td>\n",
       "      <td>NaN</td>\n",
       "      <td>oh, we'll be quite comfortable down here... in...</td>\n",
       "      <td>266</td>\n",
       "      <td>1937</td>\n",
       "    </tr>\n",
       "  </tbody>\n",
       "</table>\n",
       "</div>"
      ],
      "text/plain": [
       "    Disney_Period Gender       Movie    Role Song     Speaker Speaker_Status  \\\n",
       "315         EARLY      f  Snow White     PRO  NaN  snow white       PRINCESS   \n",
       "28          EARLY      m  Snow White     ANT  NaN       guard          NON-P   \n",
       "238         EARLY      m  Snow White  HELPER  NaN      sneezy          NON-P   \n",
       "247         EARLY      m  Snow White  HELPER  NaN     bashful          NON-P   \n",
       "264         EARLY      m  Snow White  HELPER  NaN         doc          NON-P   \n",
       "\n",
       "    Start_Scene                                               Text  \\\n",
       "315         NaN                                             hmm ?    \n",
       "28          NaN  now, quick, child, run! run away, hide! in the...   \n",
       "238         NaN  be careful. watch out. bebe carewatch it ! wat...   \n",
       "247         NaN                                     a love story.    \n",
       "264         NaN  oh, we'll be quite comfortable down here... in...   \n",
       "\n",
       "     UTTERANCE_NUMBER  Year  \n",
       "315               318  1937  \n",
       "28                 29  1937  \n",
       "238               240  1937  \n",
       "247               249  1937  \n",
       "264               266  1937  "
      ]
     },
     "execution_count": 162,
     "metadata": {},
     "output_type": "execute_result"
    }
   ],
   "source": [
    "snow_white.sample(5)"
   ]
  },
  {
   "cell_type": "markdown",
   "metadata": {},
   "source": [
    "Finding songs:\n",
    "\n",
    "Anything uttered by 'chorus' will be a song, but snow white, the dwarfs, and the prince also sing"
   ]
  },
  {
   "cell_type": "code",
   "execution_count": 164,
   "metadata": {},
   "outputs": [
    {
     "data": {
      "text/html": [
       "<div>\n",
       "<style scoped>\n",
       "    .dataframe tbody tr th:only-of-type {\n",
       "        vertical-align: middle;\n",
       "    }\n",
       "\n",
       "    .dataframe tbody tr th {\n",
       "        vertical-align: top;\n",
       "    }\n",
       "\n",
       "    .dataframe thead th {\n",
       "        text-align: right;\n",
       "    }\n",
       "</style>\n",
       "<table border=\"1\" class=\"dataframe\">\n",
       "  <thead>\n",
       "    <tr style=\"text-align: right;\">\n",
       "      <th></th>\n",
       "      <th>Speaker</th>\n",
       "      <th>Text</th>\n",
       "    </tr>\n",
       "  </thead>\n",
       "  <tbody>\n",
       "    <tr>\n",
       "      <th>360</th>\n",
       "      <td>chorus</td>\n",
       "      <td>one song, i have but one song one song, only f...</td>\n",
       "    </tr>\n",
       "    <tr>\n",
       "      <th>362</th>\n",
       "      <td>chorus</td>\n",
       "      <td>some day when spring is here we'll find our lo...</td>\n",
       "    </tr>\n",
       "  </tbody>\n",
       "</table>\n",
       "</div>"
      ],
      "text/plain": [
       "    Speaker                                               Text\n",
       "360  chorus  one song, i have but one song one song, only f...\n",
       "362  chorus  some day when spring is here we'll find our lo..."
      ]
     },
     "execution_count": 164,
     "metadata": {},
     "output_type": "execute_result"
    }
   ],
   "source": [
    "snow_white[[\"Speaker\", \"Text\"]][snow_white.Speaker == 'chorus']"
   ]
  },
  {
   "cell_type": "code",
   "execution_count": 188,
   "metadata": {},
   "outputs": [
    {
     "name": "stdout",
     "output_type": "stream",
     "text": [
      "Empty DataFrame\n",
      "Columns: [Speaker, Text]\n",
      "Index: []\n",
      "      Speaker                                               Text\n",
      "7  snow white  want to know a secret ? promise not to tell ? ...\n",
      "        Speaker                                               Text\n",
      "258       happy  he was so romantic i could not resist some day...\n",
      "260  snow white  some day when spring is here we'll find our lo...\n",
      "304  snow white  some day my prince will come some day we'll me...\n",
      "362      chorus  some day when spring is here we'll find our lo...\n",
      "       Speaker                                               Text\n",
      "30  snow white  oh ! you sing a song ! ahahahahahh with a smil...\n",
      "31  snow white  with a smile and a song all the world seems to...\n",
      "33  snow white                           with a smile and a song \n",
      "        Speaker                                               Text\n",
      "12       prince  did i frighten you ? wait. wait, please. don't...\n",
      "20   snow white                      one song i have but one song \n",
      "359      prince                                          one song \n",
      "360      chorus  one song, i have but one song one song, only f...\n",
      "       Speaker                                               Text\n",
      "44  all dwarfs  we dig, dig, dig, dig dig, dig, dig in our min...\n",
      "47  all dwarfs         shine we dig, dig, dig, dig dig, dig, dig \n",
      "49  all dwarfs  we dig, dig, dig, dig dig, dig, dig up everyth...\n",
      "50  all dwarfs  a thousand rubies sometimes more though we don...\n",
      "51  all dwarfs  we dig, dig digadig, dig heighho, heighho, hei...\n",
      "        Speaker                                               Text\n",
      "51   all dwarfs  we dig, dig digadig, dig heighho, heighho, hei...\n",
      "52   all dwarfs  heighho, heighho heighho, heighho, heighho, he...\n",
      "53   all dwarfs  heighho, heighho, heighho, heighho, heighho it...\n",
      "57   all dwarfs  heighho, heighho heighho, heighho heighho, hei...\n",
      "58   all dwarfs  heighho, heighho heighho, heighho, heighho it'...\n",
      "59   all dwarfs  heighho, heighho heighho, heighho, heighho it'...\n",
      "60   all dwarfs  heighho, heighho heighho, heighho it's home fr...\n",
      "61   all dwarfs                            heighho, heighho heigh \n",
      "296  snow white   heighho, heighho it's off to work we go heighho \n",
      "321       queen  heighho, heighho heighho, heighho it's off to ...\n",
      "Empty DataFrame\n",
      "Columns: [Speaker, Text]\n",
      "Index: []\n"
     ]
    }
   ],
   "source": [
    "#searching for some song key words in snow white\n",
    "song_lines = ['one day', 'wishing well', 'some day', 'smile and a song', 'one song', 'dig', 'heighho', 'whistle']\n",
    "for line in song_lines:\n",
    "    print(snow_white[[\"Speaker\", \"Text\"]][snow_white.Text.str.contains(line, regex = False)])"
   ]
  },
  {
   "cell_type": "code",
   "execution_count": 194,
   "metadata": {},
   "outputs": [
    {
     "data": {
      "text/html": [
       "<div>\n",
       "<style scoped>\n",
       "    .dataframe tbody tr th:only-of-type {\n",
       "        vertical-align: middle;\n",
       "    }\n",
       "\n",
       "    .dataframe tbody tr th {\n",
       "        vertical-align: top;\n",
       "    }\n",
       "\n",
       "    .dataframe thead th {\n",
       "        text-align: right;\n",
       "    }\n",
       "</style>\n",
       "<table border=\"1\" class=\"dataframe\">\n",
       "  <thead>\n",
       "    <tr style=\"text-align: right;\">\n",
       "      <th></th>\n",
       "      <th>Speaker</th>\n",
       "      <th>Text</th>\n",
       "    </tr>\n",
       "  </thead>\n",
       "  <tbody>\n",
       "    <tr>\n",
       "      <th>295</th>\n",
       "      <td>snow white</td>\n",
       "      <td>well... all right. but that's the last oh ! go...</td>\n",
       "    </tr>\n",
       "    <tr>\n",
       "      <th>296</th>\n",
       "      <td>snow white</td>\n",
       "      <td>heighho, heighho it's off to work we go heighho</td>\n",
       "    </tr>\n",
       "    <tr>\n",
       "      <th>297</th>\n",
       "      <td>snow white</td>\n",
       "      <td>goodbye. goodbye !</td>\n",
       "    </tr>\n",
       "    <tr>\n",
       "      <th>298</th>\n",
       "      <td>grumpy</td>\n",
       "      <td>now, i'm warnin' ya. don't let nobody or nothi...</td>\n",
       "    </tr>\n",
       "    <tr>\n",
       "      <th>299</th>\n",
       "      <td>snow white</td>\n",
       "      <td>why, grumpy, you do care.</td>\n",
       "    </tr>\n",
       "    <tr>\n",
       "      <th>300</th>\n",
       "      <td>grumpy</td>\n",
       "      <td>huh !</td>\n",
       "    </tr>\n",
       "    <tr>\n",
       "      <th>301</th>\n",
       "      <td>snow white</td>\n",
       "      <td>goodbye, grumpy !</td>\n",
       "    </tr>\n",
       "    <tr>\n",
       "      <th>302</th>\n",
       "      <td>queen</td>\n",
       "      <td>the little men will be away... and she'll be a...</td>\n",
       "    </tr>\n",
       "    <tr>\n",
       "      <th>303</th>\n",
       "      <td>queen</td>\n",
       "      <td>a harmless old peddler woman.</td>\n",
       "    </tr>\n",
       "    <tr>\n",
       "      <th>304</th>\n",
       "      <td>snow white</td>\n",
       "      <td>some day my prince will come some day we'll me...</td>\n",
       "    </tr>\n",
       "    <tr>\n",
       "      <th>305</th>\n",
       "      <td>queen</td>\n",
       "      <td>all alone, my pet ?</td>\n",
       "    </tr>\n",
       "    <tr>\n",
       "      <th>306</th>\n",
       "      <td>snow white</td>\n",
       "      <td>whywhy, yes, i am, but</td>\n",
       "    </tr>\n",
       "    <tr>\n",
       "      <th>307</th>\n",
       "      <td>queen</td>\n",
       "      <td>the... little men are not here ?</td>\n",
       "    </tr>\n",
       "    <tr>\n",
       "      <th>308</th>\n",
       "      <td>snow white</td>\n",
       "      <td>no, they're not, butmmhmm.</td>\n",
       "    </tr>\n",
       "    <tr>\n",
       "      <th>309</th>\n",
       "      <td>queen</td>\n",
       "      <td>makin' pies ?</td>\n",
       "    </tr>\n",
       "    <tr>\n",
       "      <th>310</th>\n",
       "      <td>snow white</td>\n",
       "      <td>yes, gooseberry pie.</td>\n",
       "    </tr>\n",
       "    <tr>\n",
       "      <th>311</th>\n",
       "      <td>queen</td>\n",
       "      <td>it's apple pies that makes the menfolks' mouth...</td>\n",
       "    </tr>\n",
       "    <tr>\n",
       "      <th>312</th>\n",
       "      <td>snow white</td>\n",
       "      <td>oh, they do look delicious.</td>\n",
       "    </tr>\n",
       "    <tr>\n",
       "      <th>313</th>\n",
       "      <td>queen</td>\n",
       "      <td>yes ! but wait 'til you taste one, dearie.</td>\n",
       "    </tr>\n",
       "    <tr>\n",
       "      <th>314</th>\n",
       "      <td>queen</td>\n",
       "      <td>like to try one ?</td>\n",
       "    </tr>\n",
       "    <tr>\n",
       "      <th>315</th>\n",
       "      <td>snow white</td>\n",
       "      <td>hmm ?</td>\n",
       "    </tr>\n",
       "    <tr>\n",
       "      <th>316</th>\n",
       "      <td>queen</td>\n",
       "      <td>go on. go on, have a bite.</td>\n",
       "    </tr>\n",
       "    <tr>\n",
       "      <th>317</th>\n",
       "      <td>queen</td>\n",
       "      <td>ah ! ah !</td>\n",
       "    </tr>\n",
       "    <tr>\n",
       "      <th>318</th>\n",
       "      <td>snow white</td>\n",
       "      <td>stop it, stop it. go away, go away. shame on y...</td>\n",
       "    </tr>\n",
       "    <tr>\n",
       "      <th>319</th>\n",
       "      <td>snow white</td>\n",
       "      <td>oh, i thought i lost it. there, there. i'm sor...</td>\n",
       "    </tr>\n",
       "    <tr>\n",
       "      <th>320</th>\n",
       "      <td>queen</td>\n",
       "      <td>oh ! my heart ! oh, mymy poor heart. take me i...</td>\n",
       "    </tr>\n",
       "    <tr>\n",
       "      <th>321</th>\n",
       "      <td>queen</td>\n",
       "      <td>heighho, heighho heighho, heighho it's off to ...</td>\n",
       "    </tr>\n",
       "    <tr>\n",
       "      <th>322</th>\n",
       "      <td>doc</td>\n",
       "      <td>hey, look !</td>\n",
       "    </tr>\n",
       "    <tr>\n",
       "      <th>323</th>\n",
       "      <td>various dwarfs</td>\n",
       "      <td>stop that. get away ! get away ! go on, shoo !</td>\n",
       "    </tr>\n",
       "    <tr>\n",
       "      <th>324</th>\n",
       "      <td>grumpy</td>\n",
       "      <td>go on, get outta here !</td>\n",
       "    </tr>\n",
       "    <tr>\n",
       "      <th>...</th>\n",
       "      <td>...</td>\n",
       "      <td>...</td>\n",
       "    </tr>\n",
       "    <tr>\n",
       "      <th>333</th>\n",
       "      <td>grumpy</td>\n",
       "      <td>'tain't natural. there's something wrong ! the...</td>\n",
       "    </tr>\n",
       "    <tr>\n",
       "      <th>334</th>\n",
       "      <td>sleepy</td>\n",
       "      <td>maybe the old queen's got snow white.</td>\n",
       "    </tr>\n",
       "    <tr>\n",
       "      <th>335</th>\n",
       "      <td>doc</td>\n",
       "      <td>the queen !</td>\n",
       "    </tr>\n",
       "    <tr>\n",
       "      <th>336</th>\n",
       "      <td>all dwarfs</td>\n",
       "      <td>snow white !</td>\n",
       "    </tr>\n",
       "    <tr>\n",
       "      <th>337</th>\n",
       "      <td>grumpy</td>\n",
       "      <td>the queen will kill her ! we gotta save her !</td>\n",
       "    </tr>\n",
       "    <tr>\n",
       "      <th>338</th>\n",
       "      <td>doc</td>\n",
       "      <td>yes, yes, wewe gotta save her !</td>\n",
       "    </tr>\n",
       "    <tr>\n",
       "      <th>339</th>\n",
       "      <td>happy</td>\n",
       "      <td>what'll we do ?</td>\n",
       "    </tr>\n",
       "    <tr>\n",
       "      <th>340</th>\n",
       "      <td>doc</td>\n",
       "      <td>yes, wwhat'll we do ?</td>\n",
       "    </tr>\n",
       "    <tr>\n",
       "      <th>341</th>\n",
       "      <td>grumpy</td>\n",
       "      <td>come on ! giddap !</td>\n",
       "    </tr>\n",
       "    <tr>\n",
       "      <th>342</th>\n",
       "      <td>doc</td>\n",
       "      <td>wait for me !</td>\n",
       "    </tr>\n",
       "    <tr>\n",
       "      <th>343</th>\n",
       "      <td>queen</td>\n",
       "      <td>there must be something your little heart desi...</td>\n",
       "    </tr>\n",
       "    <tr>\n",
       "      <th>344</th>\n",
       "      <td>snow white</td>\n",
       "      <td>well, there is someone.</td>\n",
       "    </tr>\n",
       "    <tr>\n",
       "      <th>345</th>\n",
       "      <td>queen</td>\n",
       "      <td>i thought so. i thought so. old granny knows a...</td>\n",
       "    </tr>\n",
       "    <tr>\n",
       "      <th>346</th>\n",
       "      <td>snow white</td>\n",
       "      <td>i wish i wish</td>\n",
       "    </tr>\n",
       "    <tr>\n",
       "      <th>347</th>\n",
       "      <td>queen</td>\n",
       "      <td>that's it. go on. go on.</td>\n",
       "    </tr>\n",
       "    <tr>\n",
       "      <th>348</th>\n",
       "      <td>snow white</td>\n",
       "      <td>...and that he will carry me away to his castl...</td>\n",
       "    </tr>\n",
       "    <tr>\n",
       "      <th>349</th>\n",
       "      <td>queen</td>\n",
       "      <td>fine ! fine ! now, take a bite. don't let the ...</td>\n",
       "    </tr>\n",
       "    <tr>\n",
       "      <th>350</th>\n",
       "      <td>snow white</td>\n",
       "      <td>oh ! i feel strange.</td>\n",
       "    </tr>\n",
       "    <tr>\n",
       "      <th>351</th>\n",
       "      <td>queen</td>\n",
       "      <td>her breath will still.</td>\n",
       "    </tr>\n",
       "    <tr>\n",
       "      <th>352</th>\n",
       "      <td>snow white</td>\n",
       "      <td>oh.</td>\n",
       "    </tr>\n",
       "    <tr>\n",
       "      <th>353</th>\n",
       "      <td>queen</td>\n",
       "      <td>her blood congeal.</td>\n",
       "    </tr>\n",
       "    <tr>\n",
       "      <th>354</th>\n",
       "      <td>snow white</td>\n",
       "      <td>oh.</td>\n",
       "    </tr>\n",
       "    <tr>\n",
       "      <th>355</th>\n",
       "      <td>queen</td>\n",
       "      <td>now i'll be fairest in the land !</td>\n",
       "    </tr>\n",
       "    <tr>\n",
       "      <th>356</th>\n",
       "      <td>grumpy</td>\n",
       "      <td>hurry, hurry ! there she goes ! after her !</td>\n",
       "    </tr>\n",
       "    <tr>\n",
       "      <th>357</th>\n",
       "      <td>queen</td>\n",
       "      <td>i'm trapped. what will i do ? the meddling lit...</td>\n",
       "    </tr>\n",
       "    <tr>\n",
       "      <th>358</th>\n",
       "      <td>doc</td>\n",
       "      <td>look out !</td>\n",
       "    </tr>\n",
       "    <tr>\n",
       "      <th>359</th>\n",
       "      <td>prince</td>\n",
       "      <td>one song</td>\n",
       "    </tr>\n",
       "    <tr>\n",
       "      <th>360</th>\n",
       "      <td>chorus</td>\n",
       "      <td>one song, i have but one song one song, only f...</td>\n",
       "    </tr>\n",
       "    <tr>\n",
       "      <th>361</th>\n",
       "      <td>snow white</td>\n",
       "      <td>goodbye. goodbye, grumpy.  goodbye. oh, dopey....</td>\n",
       "    </tr>\n",
       "    <tr>\n",
       "      <th>362</th>\n",
       "      <td>chorus</td>\n",
       "      <td>some day when spring is here we'll find our lo...</td>\n",
       "    </tr>\n",
       "  </tbody>\n",
       "</table>\n",
       "<p>68 rows × 2 columns</p>\n",
       "</div>"
      ],
      "text/plain": [
       "            Speaker                                               Text\n",
       "295      snow white  well... all right. but that's the last oh ! go...\n",
       "296      snow white   heighho, heighho it's off to work we go heighho \n",
       "297      snow white                                goodbye. goodbye ! \n",
       "298          grumpy  now, i'm warnin' ya. don't let nobody or nothi...\n",
       "299      snow white                         why, grumpy, you do care. \n",
       "300          grumpy                                             huh ! \n",
       "301      snow white                                 goodbye, grumpy ! \n",
       "302           queen  the little men will be away... and she'll be a...\n",
       "303           queen                     a harmless old peddler woman. \n",
       "304      snow white  some day my prince will come some day we'll me...\n",
       "305           queen                               all alone, my pet ? \n",
       "306      snow white                            whywhy, yes, i am, but \n",
       "307           queen                  the... little men are not here ? \n",
       "308      snow white                        no, they're not, butmmhmm. \n",
       "309           queen                                     makin' pies ? \n",
       "310      snow white                              yes, gooseberry pie. \n",
       "311           queen  it's apple pies that makes the menfolks' mouth...\n",
       "312      snow white                       oh, they do look delicious. \n",
       "313           queen        yes ! but wait 'til you taste one, dearie. \n",
       "314           queen                                 like to try one ? \n",
       "315      snow white                                             hmm ? \n",
       "316           queen                        go on. go on, have a bite. \n",
       "317           queen                                         ah ! ah ! \n",
       "318      snow white  stop it, stop it. go away, go away. shame on y...\n",
       "319      snow white  oh, i thought i lost it. there, there. i'm sor...\n",
       "320           queen  oh ! my heart ! oh, mymy poor heart. take me i...\n",
       "321           queen  heighho, heighho heighho, heighho it's off to ...\n",
       "322             doc                                       hey, look ! \n",
       "323  various dwarfs    stop that. get away ! get away ! go on, shoo ! \n",
       "324          grumpy                           go on, get outta here ! \n",
       "..              ...                                                ...\n",
       "333          grumpy  'tain't natural. there's something wrong ! the...\n",
       "334          sleepy             maybe the old queen's got snow white. \n",
       "335             doc                                       the queen ! \n",
       "336      all dwarfs                                      snow white ! \n",
       "337          grumpy     the queen will kill her ! we gotta save her ! \n",
       "338             doc                   yes, yes, wewe gotta save her ! \n",
       "339           happy                                   what'll we do ? \n",
       "340             doc                             yes, wwhat'll we do ? \n",
       "341          grumpy                                come on ! giddap ! \n",
       "342             doc                                     wait for me ! \n",
       "343           queen  there must be something your little heart desi...\n",
       "344      snow white                           well, there is someone. \n",
       "345           queen  i thought so. i thought so. old granny knows a...\n",
       "346      snow white                                     i wish i wish \n",
       "347           queen                          that's it. go on. go on. \n",
       "348      snow white  ...and that he will carry me away to his castl...\n",
       "349           queen  fine ! fine ! now, take a bite. don't let the ...\n",
       "350      snow white                              oh ! i feel strange. \n",
       "351           queen                            her breath will still. \n",
       "352      snow white                                               oh. \n",
       "353           queen                                her blood congeal. \n",
       "354      snow white                                               oh. \n",
       "355           queen                 now i'll be fairest in the land ! \n",
       "356          grumpy       hurry, hurry ! there she goes ! after her ! \n",
       "357           queen  i'm trapped. what will i do ? the meddling lit...\n",
       "358             doc                                        look out ! \n",
       "359          prince                                          one song \n",
       "360          chorus  one song, i have but one song one song, only f...\n",
       "361      snow white  goodbye. goodbye, grumpy.  goodbye. oh, dopey....\n",
       "362          chorus  some day when spring is here we'll find our lo...\n",
       "\n",
       "[68 rows x 2 columns]"
      ]
     },
     "execution_count": 194,
     "metadata": {},
     "output_type": "execute_result"
    }
   ],
   "source": [
    "snow_white[[\"Speaker\",\"Text\"]].iloc[295:]"
   ]
  },
  {
   "cell_type": "code",
   "execution_count": 202,
   "metadata": {},
   "outputs": [
    {
     "data": {
      "text/plain": [
       "Speaker                                                guard\n",
       "Text       now, quick, child, run! run away, hide! in the...\n",
       "Name: 28, dtype: object"
      ]
     },
     "execution_count": 202,
     "metadata": {},
     "output_type": "execute_result"
    }
   ],
   "source": [
    "snow_white[[\"Speaker\", \"Text\"]].iloc[28]"
   ]
  },
  {
   "cell_type": "code",
   "execution_count": 199,
   "metadata": {},
   "outputs": [
    {
     "data": {
      "text/plain": [
       "\"heighho, heighho heighho, heighho it's off to work we go \""
      ]
     },
     "execution_count": 199,
     "metadata": {},
     "output_type": "execute_result"
    }
   ],
   "source": [
    "snow_white[\"Text\"].iloc[321]"
   ]
  },
  {
   "cell_type": "code",
   "execution_count": 175,
   "metadata": {},
   "outputs": [
    {
     "data": {
      "text/plain": [
       "\"did i frighten you ? wait. wait, please. don't run away. now that i've found you hear what i have to say one song i have but one song one song only for you one heart tenderly beating ever entreating constant and true one love that has possessed me one love thrilling me through one song my heart keeps singing of one love only for you \""
      ]
     },
     "execution_count": 175,
     "metadata": {},
     "output_type": "execute_result"
    }
   ],
   "source": [
    "snow_white[\"Text\"].iloc[12] #not all song"
   ]
  },
  {
   "cell_type": "code",
   "execution_count": 183,
   "metadata": {},
   "outputs": [
    {
     "name": "stdout",
     "output_type": "stream",
     "text": [
      "did i frighten you ? wait. wait, please. don't run away. now that i've found you hear what i have to say one song i have but one song one song only for you one heart tenderly beating ever entreating constant and true one love that has possessed me one love thrilling me through one song my heart keeps singing of one love only for you \n",
      "\n",
      "\n",
      "take her far into the forest. find some secluded glade where she can pick wildflowers. \n",
      "\n",
      "\n",
      "yes, your majesty. \n",
      "\n",
      "\n",
      "and there, my faithful huntsman, you will kill her ! \n",
      "\n",
      "\n",
      "but, your majesty, the little princess ! \n",
      "\n",
      "\n",
      "silence ! you know the penalty if you fail. \n",
      "\n",
      "\n",
      "yes, your majesty. \n",
      "\n",
      "\n",
      "but to make doubly sure... you do not fail, bring back her heart... \n",
      "\n",
      "\n",
      "one song i have but one song \n",
      "\n",
      "\n",
      "hello there. what's the matter ? where's your mama and papa ? why, i believe you're lost. oh, please, don't cry. come on. perk up. won't you smile for me ? that's better. your mama and papa can't be far. there they are. can you fly ? goodbye. goodbye ! \n",
      "\n",
      "\n",
      "i can't ! i can't do it ! forgive me. i beg of your highness, forgive me. \n",
      "\n",
      "\n",
      "i don't understand. \n",
      "\n",
      "\n",
      "she's mad! jealous of you! she'll stop at nothing ! \n",
      "\n",
      "\n"
     ]
    }
   ],
   "source": [
    "for line in snow_white[\"Text\"].iloc[12:25]:\n",
    "    print(line)\n",
    "    print('\\n')"
   ]
  },
  {
   "cell_type": "code",
   "execution_count": 176,
   "metadata": {},
   "outputs": [
    {
     "data": {
      "text/plain": [
       "\"want to know a secret ? promise not to tell ? we are standing by a wishing well make a wish into the well that's all you have to do and if you hear it echoing your wish will soon come true i'm wishing i'm wishing for the one i love to find me to find me today today i'm hoping i'm hoping and i'm dreaming of the nice things the nice things he'll say he'll say ahahahahahh ahahahahahh ahahahahahh ah, ah, ah, ah, ahh i'm wishing i'm wishing for the one i love to find me to find me today \""
      ]
     },
     "execution_count": 176,
     "metadata": {},
     "output_type": "execute_result"
    }
   ],
   "source": [
    "snow_white[\"Text\"].iloc[7]"
   ]
  },
  {
   "cell_type": "code",
   "execution_count": 182,
   "metadata": {},
   "outputs": [
    {
     "name": "stdout",
     "output_type": "stream",
     "text": [
      "oh! please, don't run away. i won't hurt you. i'm awfully sorry. i didn't mean to frighten you. but you don't know what i've been through. and all because i was afraid. i'm so ashamed of the fuss i've made. what do you do when things go wrong ? \n",
      "\n",
      "\n",
      "oh ! you sing a song ! ahahahahahh with a smile and a song life is just like a bright, sunny day your cares fade away and your heart is \n",
      "\n",
      "\n",
      "with a smile and a song all the world seems to waken anew rejoicing with you as the song is sung there's no use in grumbling when raindrops come tumbling \n",
      "\n",
      "\n",
      "remember you're the one who can fill the world with sunshine when you smile and you sing everything is in tune and it's spring and life flows along \n",
      "\n",
      "\n",
      "with a smile and a song \n",
      "\n",
      "\n",
      "i really feel quite happy now. i'm sure i'll get along somehow. everything's going to be all right. but i do need a place to sleep at night. \n",
      "\n",
      "\n"
     ]
    }
   ],
   "source": [
    "for line in snow_white[\"Text\"].iloc[29:35]:\n",
    "    print(line)\n",
    "    print('\\n')"
   ]
  },
  {
   "cell_type": "code",
   "execution_count": 197,
   "metadata": {},
   "outputs": [],
   "source": [
    "# 30-33 are songs\n",
    "# 7 is a song\n",
    "# 12 is kind of song? The second half is\n",
    "# 20 is song\n",
    "# 44-53, 57-61\n",
    "# 296, 321 (but labeled incorrectly)\n",
    "song_indices = [7, 12, 20, 30, 31, 32, 33, 44, 45, 46, 47, 48, 49, 50, 51, 52, 53, 57, 58, 59, 60, 61, 296, 321]"
   ]
  },
  {
   "cell_type": "code",
   "execution_count": 205,
   "metadata": {},
   "outputs": [],
   "source": [
    "song_func = partial(is_dialogue, song=song_indices)\n",
    "snow_white[\"Song\"] = snow_white.index.map(song_func)"
   ]
  },
  {
   "cell_type": "code",
   "execution_count": 206,
   "metadata": {},
   "outputs": [
    {
     "name": "stdout",
     "output_type": "stream",
     "text": [
      "<class 'pandas.core.frame.DataFrame'>\n",
      "RangeIndex: 363 entries, 0 to 362\n",
      "Data columns (total 11 columns):\n",
      "Disney_Period       363 non-null object\n",
      "Gender              363 non-null object\n",
      "Movie               363 non-null object\n",
      "Role                363 non-null object\n",
      "Song                363 non-null object\n",
      "Speaker             363 non-null object\n",
      "Speaker_Status      363 non-null object\n",
      "Start_Scene         0 non-null object\n",
      "Text                363 non-null object\n",
      "UTTERANCE_NUMBER    363 non-null int64\n",
      "Year                363 non-null int64\n",
      "dtypes: int64(2), object(9)\n",
      "memory usage: 18.5+ KB\n"
     ]
    }
   ],
   "source": [
    "snow_white.info()"
   ]
  },
  {
   "cell_type": "code",
   "execution_count": 207,
   "metadata": {},
   "outputs": [
    {
     "data": {
      "text/html": [
       "<div>\n",
       "<style scoped>\n",
       "    .dataframe tbody tr th:only-of-type {\n",
       "        vertical-align: middle;\n",
       "    }\n",
       "\n",
       "    .dataframe tbody tr th {\n",
       "        vertical-align: top;\n",
       "    }\n",
       "\n",
       "    .dataframe thead th {\n",
       "        text-align: right;\n",
       "    }\n",
       "</style>\n",
       "<table border=\"1\" class=\"dataframe\">\n",
       "  <thead>\n",
       "    <tr style=\"text-align: right;\">\n",
       "      <th></th>\n",
       "      <th>Disney_Period</th>\n",
       "      <th>Gender</th>\n",
       "      <th>Movie</th>\n",
       "      <th>Role</th>\n",
       "      <th>Song</th>\n",
       "      <th>Speaker</th>\n",
       "      <th>Speaker_Status</th>\n",
       "      <th>Start_Scene</th>\n",
       "      <th>Text</th>\n",
       "      <th>UTTERANCE_NUMBER</th>\n",
       "      <th>Year</th>\n",
       "    </tr>\n",
       "  </thead>\n",
       "  <tbody>\n",
       "    <tr>\n",
       "      <th>0</th>\n",
       "      <td>EARLY</td>\n",
       "      <td>f</td>\n",
       "      <td>Snow White</td>\n",
       "      <td>ANT</td>\n",
       "      <td>D</td>\n",
       "      <td>queen</td>\n",
       "      <td>NON-P</td>\n",
       "      <td>NaN</td>\n",
       "      <td>slave in the magic mirror come from the farthe...</td>\n",
       "      <td>1</td>\n",
       "      <td>1937</td>\n",
       "    </tr>\n",
       "    <tr>\n",
       "      <th>1</th>\n",
       "      <td>EARLY</td>\n",
       "      <td>m</td>\n",
       "      <td>Snow White</td>\n",
       "      <td>ANT</td>\n",
       "      <td>D</td>\n",
       "      <td>mirror</td>\n",
       "      <td>NON-P</td>\n",
       "      <td>NaN</td>\n",
       "      <td>what wouldst thou know, my queen ?</td>\n",
       "      <td>2</td>\n",
       "      <td>1937</td>\n",
       "    </tr>\n",
       "    <tr>\n",
       "      <th>2</th>\n",
       "      <td>EARLY</td>\n",
       "      <td>f</td>\n",
       "      <td>Snow White</td>\n",
       "      <td>ANT</td>\n",
       "      <td>D</td>\n",
       "      <td>queen</td>\n",
       "      <td>NON-P</td>\n",
       "      <td>NaN</td>\n",
       "      <td>magic mirror on the wall, who is the fairest o...</td>\n",
       "      <td>3</td>\n",
       "      <td>1937</td>\n",
       "    </tr>\n",
       "    <tr>\n",
       "      <th>3</th>\n",
       "      <td>EARLY</td>\n",
       "      <td>m</td>\n",
       "      <td>Snow White</td>\n",
       "      <td>ANT</td>\n",
       "      <td>D</td>\n",
       "      <td>mirror</td>\n",
       "      <td>NON-P</td>\n",
       "      <td>NaN</td>\n",
       "      <td>famed is thy beauty, majesty. but hold, a love...</td>\n",
       "      <td>4</td>\n",
       "      <td>1937</td>\n",
       "    </tr>\n",
       "    <tr>\n",
       "      <th>4</th>\n",
       "      <td>EARLY</td>\n",
       "      <td>f</td>\n",
       "      <td>Snow White</td>\n",
       "      <td>ANT</td>\n",
       "      <td>D</td>\n",
       "      <td>queen</td>\n",
       "      <td>NON-P</td>\n",
       "      <td>NaN</td>\n",
       "      <td>alas for her ! reveal her name.</td>\n",
       "      <td>5</td>\n",
       "      <td>1937</td>\n",
       "    </tr>\n",
       "    <tr>\n",
       "      <th>5</th>\n",
       "      <td>EARLY</td>\n",
       "      <td>m</td>\n",
       "      <td>Snow White</td>\n",
       "      <td>ANT</td>\n",
       "      <td>D</td>\n",
       "      <td>mirror</td>\n",
       "      <td>NON-P</td>\n",
       "      <td>NaN</td>\n",
       "      <td>lips red as the rose. hair black as ebony. ski...</td>\n",
       "      <td>6</td>\n",
       "      <td>1937</td>\n",
       "    </tr>\n",
       "    <tr>\n",
       "      <th>6</th>\n",
       "      <td>EARLY</td>\n",
       "      <td>f</td>\n",
       "      <td>Snow White</td>\n",
       "      <td>ANT</td>\n",
       "      <td>D</td>\n",
       "      <td>queen</td>\n",
       "      <td>NON-P</td>\n",
       "      <td>NaN</td>\n",
       "      <td>snow white !</td>\n",
       "      <td>7</td>\n",
       "      <td>1937</td>\n",
       "    </tr>\n",
       "    <tr>\n",
       "      <th>7</th>\n",
       "      <td>EARLY</td>\n",
       "      <td>f</td>\n",
       "      <td>Snow White</td>\n",
       "      <td>PRO</td>\n",
       "      <td>S</td>\n",
       "      <td>snow white</td>\n",
       "      <td>PRINCESS</td>\n",
       "      <td>NaN</td>\n",
       "      <td>want to know a secret ? promise not to tell ? ...</td>\n",
       "      <td>8</td>\n",
       "      <td>1937</td>\n",
       "    </tr>\n",
       "    <tr>\n",
       "      <th>8</th>\n",
       "      <td>EARLY</td>\n",
       "      <td>m</td>\n",
       "      <td>Snow White</td>\n",
       "      <td>PRO</td>\n",
       "      <td>D</td>\n",
       "      <td>prince</td>\n",
       "      <td>PRINCE</td>\n",
       "      <td>NaN</td>\n",
       "      <td>today</td>\n",
       "      <td>9</td>\n",
       "      <td>1937</td>\n",
       "    </tr>\n",
       "    <tr>\n",
       "      <th>9</th>\n",
       "      <td>EARLY</td>\n",
       "      <td>f</td>\n",
       "      <td>Snow White</td>\n",
       "      <td>PRO</td>\n",
       "      <td>D</td>\n",
       "      <td>snow white</td>\n",
       "      <td>PRINCESS</td>\n",
       "      <td>NaN</td>\n",
       "      <td>oh !</td>\n",
       "      <td>10</td>\n",
       "      <td>1937</td>\n",
       "    </tr>\n",
       "  </tbody>\n",
       "</table>\n",
       "</div>"
      ],
      "text/plain": [
       "  Disney_Period Gender       Movie Role Song     Speaker Speaker_Status  \\\n",
       "0         EARLY      f  Snow White  ANT    D       queen          NON-P   \n",
       "1         EARLY      m  Snow White  ANT    D      mirror          NON-P   \n",
       "2         EARLY      f  Snow White  ANT    D       queen          NON-P   \n",
       "3         EARLY      m  Snow White  ANT    D      mirror          NON-P   \n",
       "4         EARLY      f  Snow White  ANT    D       queen          NON-P   \n",
       "5         EARLY      m  Snow White  ANT    D      mirror          NON-P   \n",
       "6         EARLY      f  Snow White  ANT    D       queen          NON-P   \n",
       "7         EARLY      f  Snow White  PRO    S  snow white       PRINCESS   \n",
       "8         EARLY      m  Snow White  PRO    D      prince         PRINCE   \n",
       "9         EARLY      f  Snow White  PRO    D  snow white       PRINCESS   \n",
       "\n",
       "  Start_Scene                                               Text  \\\n",
       "0         NaN  slave in the magic mirror come from the farthe...   \n",
       "1         NaN                what wouldst thou know, my queen ?    \n",
       "2         NaN  magic mirror on the wall, who is the fairest o...   \n",
       "3         NaN  famed is thy beauty, majesty. but hold, a love...   \n",
       "4         NaN                   alas for her ! reveal her name.    \n",
       "5         NaN  lips red as the rose. hair black as ebony. ski...   \n",
       "6         NaN                                      snow white !    \n",
       "7         NaN  want to know a secret ? promise not to tell ? ...   \n",
       "8         NaN                                             today    \n",
       "9         NaN                                              oh !    \n",
       "\n",
       "   UTTERANCE_NUMBER  Year  \n",
       "0                 1  1937  \n",
       "1                 2  1937  \n",
       "2                 3  1937  \n",
       "3                 4  1937  \n",
       "4                 5  1937  \n",
       "5                 6  1937  \n",
       "6                 7  1937  \n",
       "7                 8  1937  \n",
       "8                 9  1937  \n",
       "9                10  1937  "
      ]
     },
     "execution_count": 207,
     "metadata": {},
     "output_type": "execute_result"
    }
   ],
   "source": [
    "snow_white.head(10)"
   ]
  },
  {
   "cell_type": "code",
   "execution_count": 200,
   "metadata": {},
   "outputs": [],
   "source": [
    "snow_white[\"Speaker\"].iloc[296] = 'all dwarfs'\n",
    "snow_white[\"Speaker\"].iloc[321] = 'all dwarfs'"
   ]
  },
  {
   "cell_type": "code",
   "execution_count": 195,
   "metadata": {},
   "outputs": [
    {
     "name": "stdout",
     "output_type": "stream",
     "text": [
      "now, you wash the dishes. you tidy up the room. you clean the fireplace. and i'll use the broom. \n",
      "\n",
      "\n",
      "we dig, dig, dig, dig dig, dig, dig in our mine the whole day through to dig, dig, dig, dig dig, dig, dig is what we like to do it ain't no trick to get rich quick if ya dig, dig, dig with a shovel or a pick in a mine \n",
      "\n",
      "\n",
      "in a mine in a mine \n",
      "\n",
      "\n",
      "in a mine where a million diamonds \n",
      "\n",
      "\n",
      "shine we dig, dig, dig, dig dig, dig, dig \n",
      "\n",
      "\n",
      "from early morn 'til night \n",
      "\n",
      "\n",
      "we dig, dig, dig, dig dig, dig, dig up everything in sight we dig up diamonds by the score \n",
      "\n",
      "\n",
      "a thousand rubies sometimes more though we don't know what we dig 'em for \n",
      "\n",
      "\n",
      "we dig, dig digadig, dig heighho, heighho, heighho, heighho, heighho, heighho, heighho it's home from work we go heighho, heighho, heighho, heighho, heighho it's home from work we go \n",
      "\n",
      "\n",
      "heighho, heighho heighho, heighho, heighho, heighho heighho, heighho, heighhohum heighho, heighho it's home from work we go \n",
      "\n",
      "\n",
      "heighho, heighho, heighho, heighho, heighho it's home from work we go heighho, heighho, heighho, heighho, heighho it's home from work we go heighho, heighho, heighho, heighho \n",
      "\n",
      "\n",
      "let's see what's upstairs. \n",
      "\n",
      "\n",
      "oh, what adorable little beds. and look, they have their names carved on them. doc, happy, sneezy, dopey \n",
      "\n",
      "\n",
      "what funny names for children. grumpy, bashful and sleepy. i'm a little sleepy myself. oh, oh. \n",
      "\n",
      "\n",
      "heighho, heighho heighho, heighho heighho, heighho it's home from work we go \n",
      "\n",
      "\n",
      "heighho, heighho heighho, heighho, heighho it's home from work we go \n",
      "\n",
      "\n",
      "heighho, heighho heighho, heighho, heighho it's home from work we go \n",
      "\n",
      "\n",
      "heighho, heighho heighho, heighho it's home from work we go \n",
      "\n",
      "\n",
      "heighho, heighho heigh \n",
      "\n",
      "\n",
      "look ! our house ! the lit's lightuh, the light's lit. \n",
      "\n",
      "\n",
      "jiminy crickets. the door is open. the chimney's smokin'. something's in there. maybe a ghost. or a goblin. a demon. or a dragon. grumpy; mark my words, there's trouble abrewin'. felt it comin' all day. my corns hurt. \n",
      "\n",
      "\n",
      "gosh. \n",
      "\n",
      "\n"
     ]
    }
   ],
   "source": [
    "for line in snow_white[\"Text\"].iloc[43:65]:\n",
    "    print(line)\n",
    "    print('\\n')"
   ]
  },
  {
   "cell_type": "markdown",
   "metadata": {},
   "source": [
    "## Cinderella\n",
    "### 1) Gender"
   ]
  },
  {
   "cell_type": "code",
   "execution_count": 208,
   "metadata": {},
   "outputs": [
    {
     "name": "stdout",
     "output_type": "stream",
     "text": [
      "<class 'pandas.core.frame.DataFrame'>\n",
      "Int64Index: 497 entries, 366 to 862\n",
      "Data columns (total 11 columns):\n",
      "Disney_Period       497 non-null object\n",
      "Gender              0 non-null object\n",
      "Movie               497 non-null object\n",
      "Role                0 non-null object\n",
      "Song                0 non-null object\n",
      "Speaker             497 non-null object\n",
      "Speaker_Status      497 non-null object\n",
      "Start_Scene         0 non-null object\n",
      "Text                497 non-null object\n",
      "UTTERANCE_NUMBER    497 non-null int64\n",
      "Year                497 non-null int64\n",
      "dtypes: int64(2), object(9)\n",
      "memory usage: 29.1+ KB\n"
     ]
    }
   ],
   "source": [
    "cinderella = disney[disney.Movie == \"Cinderella\"]\n",
    "cinderella.info()"
   ]
  },
  {
   "cell_type": "code",
   "execution_count": 212,
   "metadata": {},
   "outputs": [
    {
     "data": {
      "text/plain": [
       "array(['offstage singing voice', 'narrator', 'cinderella', 'birds',\n",
       "       'birds chirping', 'cinderella ', 'jaq', 'mice', 'gus', 'lucifer',\n",
       "       'mouse', 'anastasia', 'drizella', 'anastasia and drizella',\n",
       "       'stepmother', 'king', 'grand duke', 'royal postman',\n",
       "       'jaq and mice', 'perla and mice', 'offscreen singing',\n",
       "       'fairy godmother', 'horse', 'herald', 'prince', 'both', 'ladies',\n",
       "       'jaq and gus', 'coachman', 'singing'], dtype=object)"
      ]
     },
     "execution_count": 212,
     "metadata": {},
     "output_type": "execute_result"
    }
   ],
   "source": [
    "cinderella.Speaker.unique()"
   ]
  },
  {
   "cell_type": "code",
   "execution_count": 213,
   "metadata": {},
   "outputs": [
    {
     "name": "stderr",
     "output_type": "stream",
     "text": [
      "c:\\users\\cassi\\appdata\\local\\programs\\python\\python36-32\\lib\\site-packages\\pandas\\core\\generic.py:4405: SettingWithCopyWarning: \n",
      "A value is trying to be set on a copy of a slice from a DataFrame.\n",
      "Try using .loc[row_indexer,col_indexer] = value instead\n",
      "\n",
      "See the caveats in the documentation: http://pandas.pydata.org/pandas-docs/stable/indexing.html#indexing-view-versus-copy\n",
      "  self[name] = value\n"
     ]
    }
   ],
   "source": [
    "#fixing typo's with white space\n",
    "cinderella.Speaker = cinderella.Speaker.map(lambda x: x.strip())"
   ]
  },
  {
   "cell_type": "code",
   "execution_count": 214,
   "metadata": {},
   "outputs": [
    {
     "data": {
      "text/plain": [
       "29"
      ]
     },
     "execution_count": 214,
     "metadata": {},
     "output_type": "execute_result"
    }
   ],
   "source": [
    "len(cinderella.Speaker.unique())"
   ]
  },
  {
   "cell_type": "code",
   "execution_count": 217,
   "metadata": {},
   "outputs": [],
   "source": [
    "c_female = ['cinderella', 'anastasia', 'drizella', 'anastasia and drizella', 'stepmother', 'fairy godmother', 'ladies',\n",
    "           'narrator', 'perla and mice']\n",
    "c_male = ['jaq', 'gus', 'lucifer', 'king', 'grand duke', 'royal postman', 'jaq and mice', 'jaq and gus', 'herald', 'prince', 'coachman']\n"
   ]
  },
  {
   "cell_type": "code",
   "execution_count": 218,
   "metadata": {},
   "outputs": [
    {
     "data": {
      "text/plain": [
       "20"
      ]
     },
     "execution_count": 218,
     "metadata": {},
     "output_type": "execute_result"
    }
   ],
   "source": [
    "len(c_female) + len(c_male)"
   ]
  },
  {
   "cell_type": "code",
   "execution_count": 219,
   "metadata": {},
   "outputs": [
    {
     "name": "stderr",
     "output_type": "stream",
     "text": [
      "c:\\users\\cassi\\appdata\\local\\programs\\python\\python36-32\\lib\\site-packages\\ipykernel_launcher.py:2: SettingWithCopyWarning: \n",
      "A value is trying to be set on a copy of a slice from a DataFrame.\n",
      "Try using .loc[row_indexer,col_indexer] = value instead\n",
      "\n",
      "See the caveats in the documentation: http://pandas.pydata.org/pandas-docs/stable/indexing.html#indexing-view-versus-copy\n",
      "  \n"
     ]
    }
   ],
   "source": [
    "gender_func = partial(whichgen, female = c_female, male=c_male)\n",
    "cinderella[\"Gender\"] = cinderella.Speaker.map(gender_func)"
   ]
  },
  {
   "cell_type": "code",
   "execution_count": 220,
   "metadata": {},
   "outputs": [
    {
     "data": {
      "text/html": [
       "<div>\n",
       "<style scoped>\n",
       "    .dataframe tbody tr th:only-of-type {\n",
       "        vertical-align: middle;\n",
       "    }\n",
       "\n",
       "    .dataframe tbody tr th {\n",
       "        vertical-align: top;\n",
       "    }\n",
       "\n",
       "    .dataframe thead th {\n",
       "        text-align: right;\n",
       "    }\n",
       "</style>\n",
       "<table border=\"1\" class=\"dataframe\">\n",
       "  <thead>\n",
       "    <tr style=\"text-align: right;\">\n",
       "      <th></th>\n",
       "      <th>Disney_Period</th>\n",
       "      <th>Gender</th>\n",
       "      <th>Movie</th>\n",
       "      <th>Role</th>\n",
       "      <th>Song</th>\n",
       "      <th>Speaker</th>\n",
       "      <th>Speaker_Status</th>\n",
       "      <th>Start_Scene</th>\n",
       "      <th>Text</th>\n",
       "      <th>UTTERANCE_NUMBER</th>\n",
       "      <th>Year</th>\n",
       "    </tr>\n",
       "  </thead>\n",
       "  <tbody>\n",
       "    <tr>\n",
       "      <th>366</th>\n",
       "      <td>EARLY</td>\n",
       "      <td>n</td>\n",
       "      <td>Cinderella</td>\n",
       "      <td>NaN</td>\n",
       "      <td>NaN</td>\n",
       "      <td>offstage singing voice</td>\n",
       "      <td>NON-P</td>\n",
       "      <td>NaN</td>\n",
       "      <td>cinderella, you're as lovely as your name cind...</td>\n",
       "      <td>1</td>\n",
       "      <td>1950</td>\n",
       "    </tr>\n",
       "    <tr>\n",
       "      <th>367</th>\n",
       "      <td>EARLY</td>\n",
       "      <td>f</td>\n",
       "      <td>Cinderella</td>\n",
       "      <td>NaN</td>\n",
       "      <td>NaN</td>\n",
       "      <td>narrator</td>\n",
       "      <td>NON-P</td>\n",
       "      <td>NaN</td>\n",
       "      <td>once upon a time in a faraway land there was a...</td>\n",
       "      <td>2</td>\n",
       "      <td>1950</td>\n",
       "    </tr>\n",
       "    <tr>\n",
       "      <th>368</th>\n",
       "      <td>EARLY</td>\n",
       "      <td>f</td>\n",
       "      <td>Cinderella</td>\n",
       "      <td>NaN</td>\n",
       "      <td>NaN</td>\n",
       "      <td>narrator</td>\n",
       "      <td>NON-P</td>\n",
       "      <td>NaN</td>\n",
       "      <td>well, try again. okay wake up, wake up. cinder...</td>\n",
       "      <td>3</td>\n",
       "      <td>1950</td>\n",
       "    </tr>\n",
       "    <tr>\n",
       "      <th>369</th>\n",
       "      <td>EARLY</td>\n",
       "      <td>f</td>\n",
       "      <td>Cinderella</td>\n",
       "      <td>NaN</td>\n",
       "      <td>NaN</td>\n",
       "      <td>cinderella</td>\n",
       "      <td>PRINCESS</td>\n",
       "      <td>NaN</td>\n",
       "      <td>well serves you right spoiling people's best d...</td>\n",
       "      <td>4</td>\n",
       "      <td>1950</td>\n",
       "    </tr>\n",
       "    <tr>\n",
       "      <th>370</th>\n",
       "      <td>EARLY</td>\n",
       "      <td>n</td>\n",
       "      <td>Cinderella</td>\n",
       "      <td>NaN</td>\n",
       "      <td>NaN</td>\n",
       "      <td>birds</td>\n",
       "      <td>NON-P</td>\n",
       "      <td>NaN</td>\n",
       "      <td>what kind of dream?</td>\n",
       "      <td>5</td>\n",
       "      <td>1950</td>\n",
       "    </tr>\n",
       "  </tbody>\n",
       "</table>\n",
       "</div>"
      ],
      "text/plain": [
       "    Disney_Period Gender       Movie Role Song                 Speaker  \\\n",
       "366         EARLY      n  Cinderella  NaN  NaN  offstage singing voice   \n",
       "367         EARLY      f  Cinderella  NaN  NaN                narrator   \n",
       "368         EARLY      f  Cinderella  NaN  NaN                narrator   \n",
       "369         EARLY      f  Cinderella  NaN  NaN              cinderella   \n",
       "370         EARLY      n  Cinderella  NaN  NaN                   birds   \n",
       "\n",
       "    Speaker_Status Start_Scene  \\\n",
       "366          NON-P         NaN   \n",
       "367          NON-P         NaN   \n",
       "368          NON-P         NaN   \n",
       "369       PRINCESS         NaN   \n",
       "370          NON-P         NaN   \n",
       "\n",
       "                                                  Text  UTTERANCE_NUMBER  Year  \n",
       "366  cinderella, you're as lovely as your name cind...                 1  1950  \n",
       "367  once upon a time in a faraway land there was a...                 2  1950  \n",
       "368  well, try again. okay wake up, wake up. cinder...                 3  1950  \n",
       "369  well serves you right spoiling people's best d...                 4  1950  \n",
       "370                               what kind of dream?                  5  1950  "
      ]
     },
     "execution_count": 220,
     "metadata": {},
     "output_type": "execute_result"
    }
   ],
   "source": [
    "cinderella.head()"
   ]
  },
  {
   "cell_type": "code",
   "execution_count": 221,
   "metadata": {},
   "outputs": [
    {
     "data": {
      "text/plain": [
       "'yyyes your majesty. '"
      ]
     },
     "execution_count": 221,
     "metadata": {},
     "output_type": "execute_result"
    }
   ],
   "source": [
    "cinderella.Text.iloc[368] #this doesn't match the index I wanted. Will reindex"
   ]
  },
  {
   "cell_type": "code",
   "execution_count": 222,
   "metadata": {},
   "outputs": [],
   "source": [
    "cinderella.reset_index(drop=True, inplace=True)"
   ]
  },
  {
   "cell_type": "code",
   "execution_count": 223,
   "metadata": {},
   "outputs": [
    {
     "data": {
      "text/html": [
       "<div>\n",
       "<style scoped>\n",
       "    .dataframe tbody tr th:only-of-type {\n",
       "        vertical-align: middle;\n",
       "    }\n",
       "\n",
       "    .dataframe tbody tr th {\n",
       "        vertical-align: top;\n",
       "    }\n",
       "\n",
       "    .dataframe thead th {\n",
       "        text-align: right;\n",
       "    }\n",
       "</style>\n",
       "<table border=\"1\" class=\"dataframe\">\n",
       "  <thead>\n",
       "    <tr style=\"text-align: right;\">\n",
       "      <th></th>\n",
       "      <th>Disney_Period</th>\n",
       "      <th>Gender</th>\n",
       "      <th>Movie</th>\n",
       "      <th>Role</th>\n",
       "      <th>Song</th>\n",
       "      <th>Speaker</th>\n",
       "      <th>Speaker_Status</th>\n",
       "      <th>Start_Scene</th>\n",
       "      <th>Text</th>\n",
       "      <th>UTTERANCE_NUMBER</th>\n",
       "      <th>Year</th>\n",
       "    </tr>\n",
       "  </thead>\n",
       "  <tbody>\n",
       "    <tr>\n",
       "      <th>0</th>\n",
       "      <td>EARLY</td>\n",
       "      <td>n</td>\n",
       "      <td>Cinderella</td>\n",
       "      <td>NaN</td>\n",
       "      <td>NaN</td>\n",
       "      <td>offstage singing voice</td>\n",
       "      <td>NON-P</td>\n",
       "      <td>NaN</td>\n",
       "      <td>cinderella, you're as lovely as your name cind...</td>\n",
       "      <td>1</td>\n",
       "      <td>1950</td>\n",
       "    </tr>\n",
       "    <tr>\n",
       "      <th>1</th>\n",
       "      <td>EARLY</td>\n",
       "      <td>f</td>\n",
       "      <td>Cinderella</td>\n",
       "      <td>NaN</td>\n",
       "      <td>NaN</td>\n",
       "      <td>narrator</td>\n",
       "      <td>NON-P</td>\n",
       "      <td>NaN</td>\n",
       "      <td>once upon a time in a faraway land there was a...</td>\n",
       "      <td>2</td>\n",
       "      <td>1950</td>\n",
       "    </tr>\n",
       "    <tr>\n",
       "      <th>2</th>\n",
       "      <td>EARLY</td>\n",
       "      <td>f</td>\n",
       "      <td>Cinderella</td>\n",
       "      <td>NaN</td>\n",
       "      <td>NaN</td>\n",
       "      <td>narrator</td>\n",
       "      <td>NON-P</td>\n",
       "      <td>NaN</td>\n",
       "      <td>well, try again. okay wake up, wake up. cinder...</td>\n",
       "      <td>3</td>\n",
       "      <td>1950</td>\n",
       "    </tr>\n",
       "    <tr>\n",
       "      <th>3</th>\n",
       "      <td>EARLY</td>\n",
       "      <td>f</td>\n",
       "      <td>Cinderella</td>\n",
       "      <td>NaN</td>\n",
       "      <td>NaN</td>\n",
       "      <td>cinderella</td>\n",
       "      <td>PRINCESS</td>\n",
       "      <td>NaN</td>\n",
       "      <td>well serves you right spoiling people's best d...</td>\n",
       "      <td>4</td>\n",
       "      <td>1950</td>\n",
       "    </tr>\n",
       "    <tr>\n",
       "      <th>4</th>\n",
       "      <td>EARLY</td>\n",
       "      <td>n</td>\n",
       "      <td>Cinderella</td>\n",
       "      <td>NaN</td>\n",
       "      <td>NaN</td>\n",
       "      <td>birds</td>\n",
       "      <td>NON-P</td>\n",
       "      <td>NaN</td>\n",
       "      <td>what kind of dream?</td>\n",
       "      <td>5</td>\n",
       "      <td>1950</td>\n",
       "    </tr>\n",
       "  </tbody>\n",
       "</table>\n",
       "</div>"
      ],
      "text/plain": [
       "  Disney_Period Gender       Movie Role Song                 Speaker  \\\n",
       "0         EARLY      n  Cinderella  NaN  NaN  offstage singing voice   \n",
       "1         EARLY      f  Cinderella  NaN  NaN                narrator   \n",
       "2         EARLY      f  Cinderella  NaN  NaN                narrator   \n",
       "3         EARLY      f  Cinderella  NaN  NaN              cinderella   \n",
       "4         EARLY      n  Cinderella  NaN  NaN                   birds   \n",
       "\n",
       "  Speaker_Status Start_Scene  \\\n",
       "0          NON-P         NaN   \n",
       "1          NON-P         NaN   \n",
       "2          NON-P         NaN   \n",
       "3       PRINCESS         NaN   \n",
       "4          NON-P         NaN   \n",
       "\n",
       "                                                Text  UTTERANCE_NUMBER  Year  \n",
       "0  cinderella, you're as lovely as your name cind...                 1  1950  \n",
       "1  once upon a time in a faraway land there was a...                 2  1950  \n",
       "2  well, try again. okay wake up, wake up. cinder...                 3  1950  \n",
       "3  well serves you right spoiling people's best d...                 4  1950  \n",
       "4                               what kind of dream?                  5  1950  "
      ]
     },
     "execution_count": 223,
     "metadata": {},
     "output_type": "execute_result"
    }
   ],
   "source": [
    "cinderella.head()"
   ]
  },
  {
   "cell_type": "code",
   "execution_count": 226,
   "metadata": {},
   "outputs": [
    {
     "name": "stderr",
     "output_type": "stream",
     "text": [
      "c:\\users\\cassi\\appdata\\local\\programs\\python\\python36-32\\lib\\site-packages\\pandas\\core\\indexing.py:189: SettingWithCopyWarning: \n",
      "A value is trying to be set on a copy of a slice from a DataFrame\n",
      "\n",
      "See the caveats in the documentation: http://pandas.pydata.org/pandas-docs/stable/indexing.html#indexing-view-versus-copy\n",
      "  self._setitem_with_indexer(indexer, value)\n",
      "c:\\users\\cassi\\appdata\\local\\programs\\python\\python36-32\\lib\\site-packages\\ipykernel_launcher.py:1: SettingWithCopyWarning: \n",
      "A value is trying to be set on a copy of a slice from a DataFrame\n",
      "\n",
      "See the caveats in the documentation: http://pandas.pydata.org/pandas-docs/stable/indexing.html#indexing-view-versus-copy\n",
      "  \"\"\"Entry point for launching an IPython kernel.\n"
     ]
    }
   ],
   "source": [
    "cinderella.Speaker.iloc[2] = 'cinderella'\n",
    "#I understand why the warning below shows up, but I'm not sure how to improve this"
   ]
  },
  {
   "cell_type": "code",
   "execution_count": 227,
   "metadata": {},
   "outputs": [
    {
     "data": {
      "text/html": [
       "<div>\n",
       "<style scoped>\n",
       "    .dataframe tbody tr th:only-of-type {\n",
       "        vertical-align: middle;\n",
       "    }\n",
       "\n",
       "    .dataframe tbody tr th {\n",
       "        vertical-align: top;\n",
       "    }\n",
       "\n",
       "    .dataframe thead th {\n",
       "        text-align: right;\n",
       "    }\n",
       "</style>\n",
       "<table border=\"1\" class=\"dataframe\">\n",
       "  <thead>\n",
       "    <tr style=\"text-align: right;\">\n",
       "      <th></th>\n",
       "      <th>Disney_Period</th>\n",
       "      <th>Gender</th>\n",
       "      <th>Movie</th>\n",
       "      <th>Role</th>\n",
       "      <th>Song</th>\n",
       "      <th>Speaker</th>\n",
       "      <th>Speaker_Status</th>\n",
       "      <th>Start_Scene</th>\n",
       "      <th>Text</th>\n",
       "      <th>UTTERANCE_NUMBER</th>\n",
       "      <th>Year</th>\n",
       "    </tr>\n",
       "  </thead>\n",
       "  <tbody>\n",
       "    <tr>\n",
       "      <th>0</th>\n",
       "      <td>EARLY</td>\n",
       "      <td>n</td>\n",
       "      <td>Cinderella</td>\n",
       "      <td>NaN</td>\n",
       "      <td>NaN</td>\n",
       "      <td>offstage singing voice</td>\n",
       "      <td>NON-P</td>\n",
       "      <td>NaN</td>\n",
       "      <td>cinderella, you're as lovely as your name cind...</td>\n",
       "      <td>1</td>\n",
       "      <td>1950</td>\n",
       "    </tr>\n",
       "    <tr>\n",
       "      <th>1</th>\n",
       "      <td>EARLY</td>\n",
       "      <td>f</td>\n",
       "      <td>Cinderella</td>\n",
       "      <td>NaN</td>\n",
       "      <td>NaN</td>\n",
       "      <td>narrator</td>\n",
       "      <td>NON-P</td>\n",
       "      <td>NaN</td>\n",
       "      <td>once upon a time in a faraway land there was a...</td>\n",
       "      <td>2</td>\n",
       "      <td>1950</td>\n",
       "    </tr>\n",
       "    <tr>\n",
       "      <th>2</th>\n",
       "      <td>EARLY</td>\n",
       "      <td>f</td>\n",
       "      <td>Cinderella</td>\n",
       "      <td>NaN</td>\n",
       "      <td>NaN</td>\n",
       "      <td>cinderella</td>\n",
       "      <td>NON-P</td>\n",
       "      <td>NaN</td>\n",
       "      <td>well, try again. okay wake up, wake up. cinder...</td>\n",
       "      <td>3</td>\n",
       "      <td>1950</td>\n",
       "    </tr>\n",
       "    <tr>\n",
       "      <th>3</th>\n",
       "      <td>EARLY</td>\n",
       "      <td>f</td>\n",
       "      <td>Cinderella</td>\n",
       "      <td>NaN</td>\n",
       "      <td>NaN</td>\n",
       "      <td>cinderella</td>\n",
       "      <td>PRINCESS</td>\n",
       "      <td>NaN</td>\n",
       "      <td>well serves you right spoiling people's best d...</td>\n",
       "      <td>4</td>\n",
       "      <td>1950</td>\n",
       "    </tr>\n",
       "    <tr>\n",
       "      <th>4</th>\n",
       "      <td>EARLY</td>\n",
       "      <td>n</td>\n",
       "      <td>Cinderella</td>\n",
       "      <td>NaN</td>\n",
       "      <td>NaN</td>\n",
       "      <td>birds</td>\n",
       "      <td>NON-P</td>\n",
       "      <td>NaN</td>\n",
       "      <td>what kind of dream?</td>\n",
       "      <td>5</td>\n",
       "      <td>1950</td>\n",
       "    </tr>\n",
       "  </tbody>\n",
       "</table>\n",
       "</div>"
      ],
      "text/plain": [
       "  Disney_Period Gender       Movie Role Song                 Speaker  \\\n",
       "0         EARLY      n  Cinderella  NaN  NaN  offstage singing voice   \n",
       "1         EARLY      f  Cinderella  NaN  NaN                narrator   \n",
       "2         EARLY      f  Cinderella  NaN  NaN              cinderella   \n",
       "3         EARLY      f  Cinderella  NaN  NaN              cinderella   \n",
       "4         EARLY      n  Cinderella  NaN  NaN                   birds   \n",
       "\n",
       "  Speaker_Status Start_Scene  \\\n",
       "0          NON-P         NaN   \n",
       "1          NON-P         NaN   \n",
       "2          NON-P         NaN   \n",
       "3       PRINCESS         NaN   \n",
       "4          NON-P         NaN   \n",
       "\n",
       "                                                Text  UTTERANCE_NUMBER  Year  \n",
       "0  cinderella, you're as lovely as your name cind...                 1  1950  \n",
       "1  once upon a time in a faraway land there was a...                 2  1950  \n",
       "2  well, try again. okay wake up, wake up. cinder...                 3  1950  \n",
       "3  well serves you right spoiling people's best d...                 4  1950  \n",
       "4                               what kind of dream?                  5  1950  "
      ]
     },
     "execution_count": 227,
     "metadata": {},
     "output_type": "execute_result"
    }
   ],
   "source": [
    "cinderella.head()"
   ]
  },
  {
   "cell_type": "markdown",
   "metadata": {},
   "source": [
    "### 2) Role"
   ]
  },
  {
   "cell_type": "code",
   "execution_count": 228,
   "metadata": {},
   "outputs": [
    {
     "data": {
      "text/plain": [
       "array(['offstage singing voice', 'narrator', 'cinderella', 'birds',\n",
       "       'birds chirping', 'jaq', 'mice', 'gus', 'lucifer', 'mouse',\n",
       "       'anastasia', 'drizella', 'anastasia and drizella', 'stepmother',\n",
       "       'king', 'grand duke', 'royal postman', 'jaq and mice',\n",
       "       'perla and mice', 'offscreen singing', 'fairy godmother', 'horse',\n",
       "       'herald', 'prince', 'both', 'ladies', 'jaq and gus', 'coachman',\n",
       "       'singing'], dtype=object)"
      ]
     },
     "execution_count": 228,
     "metadata": {},
     "output_type": "execute_result"
    }
   ],
   "source": [
    "cinderella.Speaker.unique()"
   ]
  },
  {
   "cell_type": "code",
   "execution_count": 229,
   "metadata": {},
   "outputs": [],
   "source": [
    "c_pro = ['cinderella', 'prince']\n",
    "c_ant = ['lucifer', 'anastasia', 'drizella', 'anastasia and drizella', 'stepmother']\n",
    "c_helper = ['birds', 'jaq', 'mice', 'gus', 'mouse', 'jaq and mice', 'perla and mice', 'fairy godmother', \n",
    "           'jaq and gus']"
   ]
  },
  {
   "cell_type": "code",
   "execution_count": 230,
   "metadata": {},
   "outputs": [
    {
     "data": {
      "text/plain": [
       "16"
      ]
     },
     "execution_count": 230,
     "metadata": {},
     "output_type": "execute_result"
    }
   ],
   "source": [
    "len(c_pro) + len(c_ant) + len(c_helper)"
   ]
  },
  {
   "cell_type": "code",
   "execution_count": 231,
   "metadata": {},
   "outputs": [
    {
     "name": "stderr",
     "output_type": "stream",
     "text": [
      "c:\\users\\cassi\\appdata\\local\\programs\\python\\python36-32\\lib\\site-packages\\ipykernel_launcher.py:2: SettingWithCopyWarning: \n",
      "A value is trying to be set on a copy of a slice from a DataFrame.\n",
      "Try using .loc[row_indexer,col_indexer] = value instead\n",
      "\n",
      "See the caveats in the documentation: http://pandas.pydata.org/pandas-docs/stable/indexing.html#indexing-view-versus-copy\n",
      "  \n"
     ]
    }
   ],
   "source": [
    "role_func = partial(whichrole, pro = c_pro, ant = c_ant, helper = c_helper)\n",
    "cinderella[\"Role\"] = cinderella.Speaker.map(role_func)"
   ]
  },
  {
   "cell_type": "code",
   "execution_count": 232,
   "metadata": {},
   "outputs": [
    {
     "data": {
      "text/html": [
       "<div>\n",
       "<style scoped>\n",
       "    .dataframe tbody tr th:only-of-type {\n",
       "        vertical-align: middle;\n",
       "    }\n",
       "\n",
       "    .dataframe tbody tr th {\n",
       "        vertical-align: top;\n",
       "    }\n",
       "\n",
       "    .dataframe thead th {\n",
       "        text-align: right;\n",
       "    }\n",
       "</style>\n",
       "<table border=\"1\" class=\"dataframe\">\n",
       "  <thead>\n",
       "    <tr style=\"text-align: right;\">\n",
       "      <th></th>\n",
       "      <th>Disney_Period</th>\n",
       "      <th>Gender</th>\n",
       "      <th>Movie</th>\n",
       "      <th>Role</th>\n",
       "      <th>Song</th>\n",
       "      <th>Speaker</th>\n",
       "      <th>Speaker_Status</th>\n",
       "      <th>Start_Scene</th>\n",
       "      <th>Text</th>\n",
       "      <th>UTTERANCE_NUMBER</th>\n",
       "      <th>Year</th>\n",
       "    </tr>\n",
       "  </thead>\n",
       "  <tbody>\n",
       "    <tr>\n",
       "      <th>0</th>\n",
       "      <td>EARLY</td>\n",
       "      <td>n</td>\n",
       "      <td>Cinderella</td>\n",
       "      <td>N</td>\n",
       "      <td>NaN</td>\n",
       "      <td>offstage singing voice</td>\n",
       "      <td>NON-P</td>\n",
       "      <td>NaN</td>\n",
       "      <td>cinderella, you're as lovely as your name cind...</td>\n",
       "      <td>1</td>\n",
       "      <td>1950</td>\n",
       "    </tr>\n",
       "    <tr>\n",
       "      <th>1</th>\n",
       "      <td>EARLY</td>\n",
       "      <td>f</td>\n",
       "      <td>Cinderella</td>\n",
       "      <td>N</td>\n",
       "      <td>NaN</td>\n",
       "      <td>narrator</td>\n",
       "      <td>NON-P</td>\n",
       "      <td>NaN</td>\n",
       "      <td>once upon a time in a faraway land there was a...</td>\n",
       "      <td>2</td>\n",
       "      <td>1950</td>\n",
       "    </tr>\n",
       "    <tr>\n",
       "      <th>2</th>\n",
       "      <td>EARLY</td>\n",
       "      <td>f</td>\n",
       "      <td>Cinderella</td>\n",
       "      <td>PRO</td>\n",
       "      <td>NaN</td>\n",
       "      <td>cinderella</td>\n",
       "      <td>NON-P</td>\n",
       "      <td>NaN</td>\n",
       "      <td>well, try again. okay wake up, wake up. cinder...</td>\n",
       "      <td>3</td>\n",
       "      <td>1950</td>\n",
       "    </tr>\n",
       "    <tr>\n",
       "      <th>3</th>\n",
       "      <td>EARLY</td>\n",
       "      <td>f</td>\n",
       "      <td>Cinderella</td>\n",
       "      <td>PRO</td>\n",
       "      <td>NaN</td>\n",
       "      <td>cinderella</td>\n",
       "      <td>PRINCESS</td>\n",
       "      <td>NaN</td>\n",
       "      <td>well serves you right spoiling people's best d...</td>\n",
       "      <td>4</td>\n",
       "      <td>1950</td>\n",
       "    </tr>\n",
       "    <tr>\n",
       "      <th>4</th>\n",
       "      <td>EARLY</td>\n",
       "      <td>n</td>\n",
       "      <td>Cinderella</td>\n",
       "      <td>HELPER</td>\n",
       "      <td>NaN</td>\n",
       "      <td>birds</td>\n",
       "      <td>NON-P</td>\n",
       "      <td>NaN</td>\n",
       "      <td>what kind of dream?</td>\n",
       "      <td>5</td>\n",
       "      <td>1950</td>\n",
       "    </tr>\n",
       "  </tbody>\n",
       "</table>\n",
       "</div>"
      ],
      "text/plain": [
       "  Disney_Period Gender       Movie    Role Song                 Speaker  \\\n",
       "0         EARLY      n  Cinderella       N  NaN  offstage singing voice   \n",
       "1         EARLY      f  Cinderella       N  NaN                narrator   \n",
       "2         EARLY      f  Cinderella     PRO  NaN              cinderella   \n",
       "3         EARLY      f  Cinderella     PRO  NaN              cinderella   \n",
       "4         EARLY      n  Cinderella  HELPER  NaN                   birds   \n",
       "\n",
       "  Speaker_Status Start_Scene  \\\n",
       "0          NON-P         NaN   \n",
       "1          NON-P         NaN   \n",
       "2          NON-P         NaN   \n",
       "3       PRINCESS         NaN   \n",
       "4          NON-P         NaN   \n",
       "\n",
       "                                                Text  UTTERANCE_NUMBER  Year  \n",
       "0  cinderella, you're as lovely as your name cind...                 1  1950  \n",
       "1  once upon a time in a faraway land there was a...                 2  1950  \n",
       "2  well, try again. okay wake up, wake up. cinder...                 3  1950  \n",
       "3  well serves you right spoiling people's best d...                 4  1950  \n",
       "4                               what kind of dream?                  5  1950  "
      ]
     },
     "execution_count": 232,
     "metadata": {},
     "output_type": "execute_result"
    }
   ],
   "source": [
    "cinderella.head()"
   ]
  },
  {
   "cell_type": "markdown",
   "metadata": {},
   "source": [
    "### 3) Songs"
   ]
  },
  {
   "cell_type": "code",
   "execution_count": 246,
   "metadata": {},
   "outputs": [
    {
     "name": "stdout",
     "output_type": "stream",
     "text": [
      "        Speaker                                               Text\n",
      "8    cinderella  a dream is a wish your heart makes when you're...\n",
      "201         jaq  a dream is a wish your heart makes when you're...\n",
      "        Speaker                                               Text\n",
      "126    drizella  sing sweet nightingale sing sweet nightingale ...\n",
      "127  cinderella  hiiiigh above oh, sing sweet nightingale sing ...\n",
      "134    drizella  sing sweet nightingale sing sweet nightingale ...\n",
      "            Speaker                                               Text\n",
      "21              jaq  zukzuk cinderelly, zukzuk. now, now, now, look...\n",
      "59             mice                           cinderelly, cinderelly. \n",
      "130             jaq          from the king. what's it say cinderelly? \n",
      "174             jaq  poor cinderelly. every time she finds a minute...\n",
      "176    jaq and mice  cinderelly, cinderelly night and day it's cind...\n",
      "177             jaq  yeah. keep a busy. you know what? cinderelly's...\n",
      "180             gus                                 ppoor cinderelly. \n",
      "181  perla and mice  hey we can do it! we can do it!, we can do it!...\n",
      "182             jaq  follow me gusgus. i know where to go. find the...\n",
      "183             gus  surprise, surprise. pretty surprise for cinder...\n",
      "330             jaq        cinderelly, look, look, look! the slipper! \n",
      "332     jaq and gus            your slipper cinderelly, your slipper! \n",
      "396             gus                we do! we do! cinderelly! cinderell\n",
      "414             jaq                                       cinderelly! \n",
      "415             gus                                       cinderelly! \n",
      "420             gus  no, no. she can't do it! she can't lock up cin...\n",
      "443             gus        no, no, no! cinderelly's slipper! cinderell\n",
      "467             jaq  gusgus! gusgus! oh come on. look, look. just u...\n",
      "            Speaker                                               Text\n",
      "181  perla and mice  hey we can do it! we can do it!, we can do it!...\n",
      "        Speaker                                               Text\n",
      "306  cinderella                              so this is love, mmm \n",
      "307      prince                                   so this is love \n",
      "308        both  so this is what makes life divine i'm all aglo...\n",
      "410  cinderella  ladadada so this is love lada dadadadum ladada...\n",
      "             Speaker                                               Text\n",
      "260  fairy godmother  salagadoolamenchikaboola bibbidibobbidiboo put...\n",
      "267  fairy godmother  oh this is really as nice. why we'll have a co...\n",
      "271  fairy godmother  but tonight for a change you'll handle the rei...\n",
      "275  fairy godmother  yes it's lovely, dear. good heavens child! you...\n",
      "281  fairy godmother  bless you my child. igoodness me! it's getting...\n"
     ]
    }
   ],
   "source": [
    "c_song_words = ['dream is a wish', 'nightingale','cinderelly','we can do it','so this is love', 'bibbidi']\n",
    "for line in c_song_words:\n",
    "    print(cinderella[[\"Speaker\", \"Text\"]][cinderella.Text.str.contains(line, regex = False)])"
   ]
  },
  {
   "cell_type": "code",
   "execution_count": 239,
   "metadata": {},
   "outputs": [
    {
     "name": "stdout",
     "output_type": "stream",
     "text": [
      "'cause if you tell a wish it won't come true and after all \n",
      "\n",
      "\n",
      "a dream is a wish your heart makes when you're fast asleep in dreams you will lose your heartaches whatever you wish for, you keep have faith in your dreams and someday your rainbow will come smiling through no matter how your heart is grieving if you keep on believing the dream that you wish will come true oh that clock! old killjoy i hear you! \"come on. get up, you say time to start another day\". even he orders me around. well there's one thing they can't order me to stop dreaming and perhaps someday ...the dreams that i wish will come true \n",
      "\n",
      "\n",
      "shoo, shoo get in there. la, la, da, da, di da, diddelydo lalalalalalalala ladi dadada dadahmm no matter how your heart is grieving if you keep on believing the dream that you wish will come true \n",
      "\n",
      "\n",
      "wait a minute, wait a minute. one at a time, please. now jaq what's all the fuss about? \n",
      "\n",
      "\n",
      "new mouse in the house. brand new. never saw before. visitor, visitor. \n",
      "\n",
      "\n"
     ]
    }
   ],
   "source": [
    "for line in cinderella.Text.iloc[7:12]:\n",
    "    print(line)\n",
    "    print('\\n')"
   ]
  },
  {
   "cell_type": "code",
   "execution_count": 240,
   "metadata": {},
   "outputs": [],
   "source": [
    "#8 and 9 are song"
   ]
  },
  {
   "cell_type": "code",
   "execution_count": 261,
   "metadata": {},
   "outputs": [
    {
     "data": {
      "text/html": [
       "<div>\n",
       "<style scoped>\n",
       "    .dataframe tbody tr th:only-of-type {\n",
       "        vertical-align: middle;\n",
       "    }\n",
       "\n",
       "    .dataframe tbody tr th {\n",
       "        vertical-align: top;\n",
       "    }\n",
       "\n",
       "    .dataframe thead th {\n",
       "        text-align: right;\n",
       "    }\n",
       "</style>\n",
       "<table border=\"1\" class=\"dataframe\">\n",
       "  <thead>\n",
       "    <tr style=\"text-align: right;\">\n",
       "      <th></th>\n",
       "      <th>Speaker</th>\n",
       "      <th>Text</th>\n",
       "    </tr>\n",
       "  </thead>\n",
       "  <tbody>\n",
       "    <tr>\n",
       "      <th>200</th>\n",
       "      <td>jaq</td>\n",
       "      <td>shh!</td>\n",
       "    </tr>\n",
       "    <tr>\n",
       "      <th>201</th>\n",
       "      <td>jaq</td>\n",
       "      <td>a dream is a wish your heart makes when you're...</td>\n",
       "    </tr>\n",
       "    <tr>\n",
       "      <th>202</th>\n",
       "      <td>mouse</td>\n",
       "      <td>oh!</td>\n",
       "    </tr>\n",
       "  </tbody>\n",
       "</table>\n",
       "</div>"
      ],
      "text/plain": [
       "    Speaker                                               Text\n",
       "200     jaq                                              shh! \n",
       "201     jaq  a dream is a wish your heart makes when you're...\n",
       "202   mouse                                               oh! "
      ]
     },
     "execution_count": 261,
     "metadata": {},
     "output_type": "execute_result"
    }
   ],
   "source": [
    "cinderella[[\"Speaker\", \"Text\"]].iloc[200:203]"
   ]
  },
  {
   "cell_type": "code",
   "execution_count": 262,
   "metadata": {},
   "outputs": [
    {
     "name": "stderr",
     "output_type": "stream",
     "text": [
      "c:\\users\\cassi\\appdata\\local\\programs\\python\\python36-32\\lib\\site-packages\\ipykernel_launcher.py:1: SettingWithCopyWarning: \n",
      "A value is trying to be set on a copy of a slice from a DataFrame\n",
      "\n",
      "See the caveats in the documentation: http://pandas.pydata.org/pandas-docs/stable/indexing.html#indexing-view-versus-copy\n",
      "  \"\"\"Entry point for launching an IPython kernel.\n"
     ]
    }
   ],
   "source": [
    "#fixing this line\n",
    "cinderella.Speaker.iloc[201] = 'cinderella'"
   ]
  },
  {
   "cell_type": "code",
   "execution_count": 244,
   "metadata": {},
   "outputs": [
    {
     "name": "stdout",
     "output_type": "stream",
     "text": [
      "yes your majesty. \n",
      "\n",
      "\n",
      "sing sweet nightingale sing sweet nightingale hiiiigh above me oh sing sweet nightingale sing sweet nightingale \n",
      "\n",
      "\n",
      "hiiiigh above oh, sing sweet nightingale sing sweet nightingale high oh, sing sweet nightingale sing sweet nightingale oh, sing sweet nightingale sing sweet oh, sing sweet nightingale, sing oh sing sweet nightingale oh, sing sweet oh, sing oh lucifer! you mean old thing! i'm just going to have to teach you a lesson. \n",
      "\n",
      "\n",
      "open in the name of the king. an urgent message from his imperial majesty. \n",
      "\n",
      "\n",
      "thank you. \n",
      "\n",
      "\n",
      "from the king. what's it say cinderelly? \n",
      "\n",
      "\n",
      "uh, uh, uh what's it say? huh? \n",
      "\n",
      "\n",
      "i don't know. he said it's urgent \n",
      "\n",
      "\n",
      "maybe i should interrupt the, uh, music lesson. \n",
      "\n",
      "\n",
      "sing sweet nightingale sing sweet nightingale hiiiigh iiiiii you clumsyyou did it on purpose \n",
      "\n",
      "\n",
      "you're always spoiling my \n",
      "\n",
      "\n",
      "girls, girls! remember above all, selfcontrol. \n",
      "\n",
      "\n",
      "yes! cinderella i've warned you never to interrupt \n",
      "\n",
      "\n",
      "but this just arrived from the palace. \n",
      "\n",
      "\n",
      "from the palace! \n",
      "\n",
      "\n"
     ]
    }
   ],
   "source": [
    "for line in cinderella.Text.iloc[125:140]:\n",
    "    print(line)\n",
    "    print('\\n')"
   ]
  },
  {
   "cell_type": "code",
   "execution_count": 247,
   "metadata": {},
   "outputs": [],
   "source": [
    "#126, 127, 134 are songs (though 127 and 134 all end in spoken words)"
   ]
  },
  {
   "cell_type": "code",
   "execution_count": 250,
   "metadata": {},
   "outputs": [
    {
     "name": "stdout",
     "output_type": "stream",
     "text": [
      "poor cinderelly. every time she finds a minute that's time when they begin it. cinderelly, cinderelly. \n",
      "\n",
      "\n",
      "cinderella! \n",
      "\n",
      "\n",
      "cinderelly, cinderelly night and day it's cinderelly make the fire fix the breakfast wash the dishes do the mopping and the sweeping and the dusting they always keep her hopping she go around in circles till she very, very dizzy still they holler keep a busy cinderelly \n",
      "\n",
      "\n",
      "yeah. keep a busy. you know what? cinderelly's not going to the ball. \n",
      "\n",
      "\n",
      "what? not going? what did you say? \n",
      "\n",
      "\n",
      "you'll see they fix her. work, work, work. she'll never get her dress done. \n",
      "\n",
      "\n",
      "ppoor cinderelly. \n",
      "\n",
      "\n",
      "hey we can do it! we can do it!, we can do it! we can help our cinderelly we can make the dress so pretty there's nothing to it, really we'll tie a sash around it put a ribbon thru it when dancing at the ball she'll be more beautiful than all in the lovely dress we'll make for cinderelly hurry!, hurry! hurry! hurry! gonna help our cinderelly got no time to dilly, dally we gotta get a goin' i'll cut with these scissors and i can do the sewing leave the sewing to the women you go get some trimmin' and we'll make a lovely dress for cinderelly we'll make a lovely dress for cinderelly \n",
      "\n",
      "\n",
      "follow me gusgus. i know where to go. find the prettypretty. quick as you can, cinderelly be surprised. \n",
      "\n",
      "\n",
      "surprise, surprise. pretty surprise for cinderelly. \n",
      "\n",
      "\n",
      "and this too, cinderella. my slippers. now don't forget \n",
      "\n",
      "\n",
      "cinderella take my dress. \n",
      "\n",
      "\n",
      "here mend the buttonholes. \n",
      "\n",
      "\n",
      "and press my skirt too and mind the ruffles. \n",
      "\n",
      "\n",
      "and cinderella \n",
      "\n",
      "\n",
      "yes? \n",
      "\n",
      "\n"
     ]
    }
   ],
   "source": [
    "for line in cinderella.Text.iloc[174:190]:\n",
    "    print(line)\n",
    "    print('\\n')"
   ]
  },
  {
   "cell_type": "code",
   "execution_count": 251,
   "metadata": {},
   "outputs": [],
   "source": [
    "#176, 181 are songs"
   ]
  },
  {
   "cell_type": "code",
   "execution_count": 252,
   "metadata": {},
   "outputs": [
    {
     "name": "stdout",
     "output_type": "stream",
     "text": [
      "ahem. \n",
      "\n",
      "\n",
      "so this is love, mmm \n",
      "\n",
      "\n",
      "so this is love \n",
      "\n",
      "\n",
      "so this is what makes life divine i'm all aglow, mmm and now i know and now i know the key to all heaven is mine my heart has wings, mmm and i can fly i'll touch every star in the sky so this is the miracle that i've been dreaming of mmm, mmm so this is love \n",
      "\n",
      "\n",
      "oh my goodness! \n",
      "\n",
      "\n",
      "what's the matter? \n",
      "\n",
      "\n",
      "it's midnight. \n",
      "\n",
      "\n",
      "yes so it is but why \n",
      "\n",
      "\n",
      "goodbye \n",
      "\n",
      "\n",
      "no, no wait. you can't go now. it's only \n",
      "\n",
      "\n"
     ]
    }
   ],
   "source": [
    "for line in cinderella.Text.iloc[305:315]:\n",
    "    print(line)\n",
    "    print('\\n')"
   ]
  },
  {
   "cell_type": "code",
   "execution_count": 256,
   "metadata": {},
   "outputs": [
    {
     "name": "stdout",
     "output_type": "stream",
     "text": [
      "are you going to let her walk \n",
      "\n",
      "\n",
      "quiet! \n",
      "\n",
      "\n",
      "ladadada so this is love lada dadadadum ladadadum \n",
      "\n",
      "\n",
      "what's she gonna do? \n",
      "\n",
      "\n",
      "shhh. i don't know. gotta watch her. come on! \n",
      "\n",
      "\n",
      "ladatadadada \n",
      "\n",
      "\n",
      "cinderelly! \n",
      "\n",
      "\n",
      "cinderelly! \n",
      "\n",
      "\n",
      "so this is the miracle that i've been dreaming of \n",
      "\n",
      "\n",
      "look out! look out!. behind you! behind you! \n",
      "\n",
      "\n",
      "what? \n",
      "\n",
      "\n",
      "oh, oh no! no please! oh you can't. you just can't! let me out! you must let me out! you can't keep me in here! oh please! \n",
      "\n",
      "\n"
     ]
    }
   ],
   "source": [
    "#306, 307, 308\n",
    "for line in cinderella.Text.iloc[408:420]:\n",
    "    print(line)\n",
    "    print('\\n')"
   ]
  },
  {
   "cell_type": "code",
   "execution_count": 257,
   "metadata": {},
   "outputs": [
    {
     "name": "stdout",
     "output_type": "stream",
     "text": [
      "look what she did! \n",
      "\n",
      "\n",
      "uhm duh, duh how she do it? \n",
      "\n",
      "\n",
      "now let's see. hmm. i'd say the first thing you need is aa pumpkin. \n",
      "\n",
      "\n",
      "a pumpkin? \n",
      "\n",
      "\n",
      "hmmhmmm. now hu now the magic words. uhoh ahem! \n",
      "\n",
      "\n",
      "salagadoolamenchikaboola bibbidibobbidiboo put'em together and what have you got bibbidibobbidiboo salagadoolamenchikaboola bibbidibobbidiboo it'll do magic believe it or not bibbidibobbidiboo now salagadoola means menchika booleroo but the thina a mabob that does the job is bibbidibobbidiboo salagadoolamenchikaboola bibbidibobbidiboo put'em together and what have you got bibbidibobbidi bibbidibobbidi bibbidibobbidiboo \n",
      "\n",
      "\n",
      "oh lookee, lookee! isn't it wonderfee? isn't it huh? \n",
      "\n",
      "\n",
      "oh it's beautiful! \n",
      "\n",
      "\n",
      "yes isn't it?. now with an elegant coach like that of course we'll simply have to have, uh.... \n",
      "\n",
      "\n",
      "ahem \n",
      "\n",
      "\n",
      "mice. \n",
      "\n",
      "\n",
      "uh, uh mice? \n",
      "\n",
      "\n",
      "oh this is really as nice. why we'll have a coach and four when we're through. just a wave of my stick and to finish the trick, bibbidi, bobbidi, boo gus runs away gracious, what did i do? i was sure there were four of them. there should be one more... there you are, bibbidi, bobbidi, boo! \n",
      "\n",
      "\n",
      "oh poor lucifer. \n",
      "\n",
      "\n",
      "serves him right i'd say. now, um, where were we? oh goodness yes. you can't go to the ball without aa horse. \n",
      "\n",
      "\n",
      "another one? \n",
      "\n",
      "\n",
      "but tonight for a change you'll handle the reins and sit in the driver's seat too. for instead of a horse you're the coachman of course. bibbidi, bobbidi, boo!. well that does it. i guess except foroh yes the finishing touch. and that's you. yes bruno that's right. you'll be footman tonight. bibbidi, bobbidi, boo! well, well hop in my dear. we can't waste time. \n",
      "\n",
      "\n",
      "but uh \n",
      "\n",
      "\n",
      "oh now, now, now. don't try to thank me. \n",
      "\n",
      "\n",
      "oh i wasn't. ii mean, i do butbut don't you think my dress \n",
      "\n",
      "\n",
      "yes it's lovely, dear. good heavens child! you can't go in that. now uh, let's see dear. your size and the shade of your eyes. mmhmmm. something simple but daring too. oh! just leave it to me. what a gown this will be. bibbidi, bobbidi, bibbidi, bobbidi, bibbidi, bobbidi, boo! \n",
      "\n",
      "\n",
      "oh it's a beautiful dress. did you ever see such a beautiful dress? and look glass slippers. why it's like a dream. a wonderful dream come true. \n",
      "\n",
      "\n",
      "yes my child, but like all dreams well, i'm afraid this can't last forever. you'll have only till midnight and then \n",
      "\n",
      "\n",
      "midnight? oh thank you. \n",
      "\n",
      "\n",
      "oh, now, now, now just a moment. you must understand my dear. on the stroke of twelve the spell will be broken and everything will be as it was before. \n",
      "\n",
      "\n",
      "oh i understand but it's more than i ever hoped for. \n",
      "\n",
      "\n",
      "bless you my child. igoodness me! it's getting late! hurry up dear. the ball can't wait. have a good time. dance! be gay! now off you go. you're on your way. with a bibbidibobbidi bibbidi, bobbidi bibbidibobbidiboo \n",
      "\n",
      "\n",
      "the princess federica eugenie de la fontaine. m'amselle augustine dubois, the daughter of general pierre dubois. \n",
      "\n",
      "\n",
      "bah! the boy isn't cooperating. \n",
      "\n",
      "\n",
      "m'amselle leonore mercedes de la torre, daughter of colonel and madam de la torre. \n",
      "\n",
      "\n"
     ]
    }
   ],
   "source": [
    "#410, 413, 416 are songs\n",
    "for line in cinderella.Text.iloc[255:285]:\n",
    "    print(line)\n",
    "    print('\\n')"
   ]
  },
  {
   "cell_type": "code",
   "execution_count": 258,
   "metadata": {},
   "outputs": [],
   "source": [
    "#260, 267, 271 are songs (i left out other lines w/ bibbidi in them because they are mostly spoken)"
   ]
  },
  {
   "cell_type": "code",
   "execution_count": 263,
   "metadata": {},
   "outputs": [
    {
     "data": {
      "text/plain": [
       "array(['offstage singing voice', 'narrator', 'cinderella', 'birds',\n",
       "       'birds chirping', 'jaq', 'mice', 'gus', 'lucifer', 'mouse',\n",
       "       'anastasia', 'drizella', 'anastasia and drizella', 'stepmother',\n",
       "       'king', 'grand duke', 'royal postman', 'jaq and mice',\n",
       "       'perla and mice', 'offscreen singing', 'fairy godmother', 'horse',\n",
       "       'herald', 'prince', 'both', 'ladies', 'jaq and gus', 'coachman',\n",
       "       'singing'], dtype=object)"
      ]
     },
     "execution_count": 263,
     "metadata": {},
     "output_type": "execute_result"
    }
   ],
   "source": [
    "#Finally, looking at chorus and singing voice lines\n",
    "cinderella.Speaker.unique()"
   ]
  },
  {
   "cell_type": "code",
   "execution_count": 268,
   "metadata": {},
   "outputs": [
    {
     "data": {
      "text/html": [
       "<div>\n",
       "<style scoped>\n",
       "    .dataframe tbody tr th:only-of-type {\n",
       "        vertical-align: middle;\n",
       "    }\n",
       "\n",
       "    .dataframe tbody tr th {\n",
       "        vertical-align: top;\n",
       "    }\n",
       "\n",
       "    .dataframe thead th {\n",
       "        text-align: right;\n",
       "    }\n",
       "</style>\n",
       "<table border=\"1\" class=\"dataframe\">\n",
       "  <thead>\n",
       "    <tr style=\"text-align: right;\">\n",
       "      <th></th>\n",
       "      <th>Speaker</th>\n",
       "      <th>Text</th>\n",
       "    </tr>\n",
       "  </thead>\n",
       "  <tbody>\n",
       "    <tr>\n",
       "      <th>0</th>\n",
       "      <td>offstage singing voice</td>\n",
       "      <td>cinderella, you're as lovely as your name cind...</td>\n",
       "    </tr>\n",
       "  </tbody>\n",
       "</table>\n",
       "</div>"
      ],
      "text/plain": [
       "                  Speaker                                               Text\n",
       "0  offstage singing voice  cinderella, you're as lovely as your name cind..."
      ]
     },
     "execution_count": 268,
     "metadata": {},
     "output_type": "execute_result"
    }
   ],
   "source": [
    "cinderella[[\"Speaker\", \"Text\"]][cinderella.Speaker == 'offstage singing voice']"
   ]
  },
  {
   "cell_type": "code",
   "execution_count": 269,
   "metadata": {},
   "outputs": [
    {
     "data": {
      "text/html": [
       "<div>\n",
       "<style scoped>\n",
       "    .dataframe tbody tr th:only-of-type {\n",
       "        vertical-align: middle;\n",
       "    }\n",
       "\n",
       "    .dataframe tbody tr th {\n",
       "        vertical-align: top;\n",
       "    }\n",
       "\n",
       "    .dataframe thead th {\n",
       "        text-align: right;\n",
       "    }\n",
       "</style>\n",
       "<table border=\"1\" class=\"dataframe\">\n",
       "  <thead>\n",
       "    <tr style=\"text-align: right;\">\n",
       "      <th></th>\n",
       "      <th>Speaker</th>\n",
       "      <th>Text</th>\n",
       "    </tr>\n",
       "  </thead>\n",
       "  <tbody>\n",
       "    <tr>\n",
       "      <th>234</th>\n",
       "      <td>offscreen singing</td>\n",
       "      <td>in dreams you will lose your heartaches whatev...</td>\n",
       "    </tr>\n",
       "    <tr>\n",
       "      <th>236</th>\n",
       "      <td>offscreen singing</td>\n",
       "      <td>have faith in your dreams and someday</td>\n",
       "    </tr>\n",
       "    <tr>\n",
       "      <th>238</th>\n",
       "      <td>offscreen singing</td>\n",
       "      <td>your rainbow will come smiling through</td>\n",
       "    </tr>\n",
       "    <tr>\n",
       "      <th>240</th>\n",
       "      <td>offscreen singing</td>\n",
       "      <td>no matter how your heart is grieving if you ke...</td>\n",
       "    </tr>\n",
       "    <tr>\n",
       "      <th>242</th>\n",
       "      <td>offscreen singing</td>\n",
       "      <td>the dream that you wish will come true</td>\n",
       "    </tr>\n",
       "  </tbody>\n",
       "</table>\n",
       "</div>"
      ],
      "text/plain": [
       "               Speaker                                               Text\n",
       "234  offscreen singing  in dreams you will lose your heartaches whatev...\n",
       "236  offscreen singing             have faith in your dreams and someday \n",
       "238  offscreen singing            your rainbow will come smiling through \n",
       "240  offscreen singing  no matter how your heart is grieving if you ke...\n",
       "242  offscreen singing            the dream that you wish will come true "
      ]
     },
     "execution_count": 269,
     "metadata": {},
     "output_type": "execute_result"
    }
   ],
   "source": [
    "cinderella[[\"Speaker\", \"Text\"]][cinderella.Speaker == 'offscreen singing']"
   ]
  },
  {
   "cell_type": "code",
   "execution_count": 270,
   "metadata": {},
   "outputs": [
    {
     "data": {
      "text/html": [
       "<div>\n",
       "<style scoped>\n",
       "    .dataframe tbody tr th:only-of-type {\n",
       "        vertical-align: middle;\n",
       "    }\n",
       "\n",
       "    .dataframe tbody tr th {\n",
       "        vertical-align: top;\n",
       "    }\n",
       "\n",
       "    .dataframe thead th {\n",
       "        text-align: right;\n",
       "    }\n",
       "</style>\n",
       "<table border=\"1\" class=\"dataframe\">\n",
       "  <thead>\n",
       "    <tr style=\"text-align: right;\">\n",
       "      <th></th>\n",
       "      <th>Speaker</th>\n",
       "      <th>Text</th>\n",
       "    </tr>\n",
       "  </thead>\n",
       "  <tbody>\n",
       "    <tr>\n",
       "      <th>496</th>\n",
       "      <td>singing</td>\n",
       "      <td>have faith in dreams and someday your rainbow ...</td>\n",
       "    </tr>\n",
       "  </tbody>\n",
       "</table>\n",
       "</div>"
      ],
      "text/plain": [
       "     Speaker                                               Text\n",
       "496  singing  have faith in dreams and someday your rainbow ..."
      ]
     },
     "execution_count": 270,
     "metadata": {},
     "output_type": "execute_result"
    }
   ],
   "source": [
    "cinderella[[\"Speaker\", \"Text\"]][cinderella.Speaker == 'singing']"
   ]
  },
  {
   "cell_type": "code",
   "execution_count": 273,
   "metadata": {},
   "outputs": [
    {
     "name": "stderr",
     "output_type": "stream",
     "text": [
      "c:\\users\\cassi\\appdata\\local\\programs\\python\\python36-32\\lib\\site-packages\\ipykernel_launcher.py:3: SettingWithCopyWarning: \n",
      "A value is trying to be set on a copy of a slice from a DataFrame.\n",
      "Try using .loc[row_indexer,col_indexer] = value instead\n",
      "\n",
      "See the caveats in the documentation: http://pandas.pydata.org/pandas-docs/stable/indexing.html#indexing-view-versus-copy\n",
      "  This is separate from the ipykernel package so we can avoid doing imports until\n"
     ]
    }
   ],
   "source": [
    "c_songs = [0, 8,9, 126, 127, 134, 176, 181, 234, 236, 238, 240, 242, 260, 267, 271, 306, 307, 308, 410, 413, 416]\n",
    "song_func = partial(is_dialogue, song=c_songs)\n",
    "cinderella[\"Song\"] = cinderella.index.map(song_func)"
   ]
  },
  {
   "cell_type": "code",
   "execution_count": 274,
   "metadata": {},
   "outputs": [
    {
     "data": {
      "text/html": [
       "<div>\n",
       "<style scoped>\n",
       "    .dataframe tbody tr th:only-of-type {\n",
       "        vertical-align: middle;\n",
       "    }\n",
       "\n",
       "    .dataframe tbody tr th {\n",
       "        vertical-align: top;\n",
       "    }\n",
       "\n",
       "    .dataframe thead th {\n",
       "        text-align: right;\n",
       "    }\n",
       "</style>\n",
       "<table border=\"1\" class=\"dataframe\">\n",
       "  <thead>\n",
       "    <tr style=\"text-align: right;\">\n",
       "      <th></th>\n",
       "      <th>Disney_Period</th>\n",
       "      <th>Gender</th>\n",
       "      <th>Movie</th>\n",
       "      <th>Role</th>\n",
       "      <th>Song</th>\n",
       "      <th>Speaker</th>\n",
       "      <th>Speaker_Status</th>\n",
       "      <th>Start_Scene</th>\n",
       "      <th>Text</th>\n",
       "      <th>UTTERANCE_NUMBER</th>\n",
       "      <th>Year</th>\n",
       "    </tr>\n",
       "  </thead>\n",
       "  <tbody>\n",
       "    <tr>\n",
       "      <th>0</th>\n",
       "      <td>EARLY</td>\n",
       "      <td>n</td>\n",
       "      <td>Cinderella</td>\n",
       "      <td>N</td>\n",
       "      <td>S</td>\n",
       "      <td>offstage singing voice</td>\n",
       "      <td>NON-P</td>\n",
       "      <td>NaN</td>\n",
       "      <td>cinderella, you're as lovely as your name cind...</td>\n",
       "      <td>1</td>\n",
       "      <td>1950</td>\n",
       "    </tr>\n",
       "    <tr>\n",
       "      <th>1</th>\n",
       "      <td>EARLY</td>\n",
       "      <td>f</td>\n",
       "      <td>Cinderella</td>\n",
       "      <td>N</td>\n",
       "      <td>D</td>\n",
       "      <td>narrator</td>\n",
       "      <td>NON-P</td>\n",
       "      <td>NaN</td>\n",
       "      <td>once upon a time in a faraway land there was a...</td>\n",
       "      <td>2</td>\n",
       "      <td>1950</td>\n",
       "    </tr>\n",
       "    <tr>\n",
       "      <th>2</th>\n",
       "      <td>EARLY</td>\n",
       "      <td>f</td>\n",
       "      <td>Cinderella</td>\n",
       "      <td>PRO</td>\n",
       "      <td>D</td>\n",
       "      <td>cinderella</td>\n",
       "      <td>NON-P</td>\n",
       "      <td>NaN</td>\n",
       "      <td>well, try again. okay wake up, wake up. cinder...</td>\n",
       "      <td>3</td>\n",
       "      <td>1950</td>\n",
       "    </tr>\n",
       "    <tr>\n",
       "      <th>3</th>\n",
       "      <td>EARLY</td>\n",
       "      <td>f</td>\n",
       "      <td>Cinderella</td>\n",
       "      <td>PRO</td>\n",
       "      <td>D</td>\n",
       "      <td>cinderella</td>\n",
       "      <td>PRINCESS</td>\n",
       "      <td>NaN</td>\n",
       "      <td>well serves you right spoiling people's best d...</td>\n",
       "      <td>4</td>\n",
       "      <td>1950</td>\n",
       "    </tr>\n",
       "    <tr>\n",
       "      <th>4</th>\n",
       "      <td>EARLY</td>\n",
       "      <td>n</td>\n",
       "      <td>Cinderella</td>\n",
       "      <td>HELPER</td>\n",
       "      <td>D</td>\n",
       "      <td>birds</td>\n",
       "      <td>NON-P</td>\n",
       "      <td>NaN</td>\n",
       "      <td>what kind of dream?</td>\n",
       "      <td>5</td>\n",
       "      <td>1950</td>\n",
       "    </tr>\n",
       "  </tbody>\n",
       "</table>\n",
       "</div>"
      ],
      "text/plain": [
       "  Disney_Period Gender       Movie    Role Song                 Speaker  \\\n",
       "0         EARLY      n  Cinderella       N    S  offstage singing voice   \n",
       "1         EARLY      f  Cinderella       N    D                narrator   \n",
       "2         EARLY      f  Cinderella     PRO    D              cinderella   \n",
       "3         EARLY      f  Cinderella     PRO    D              cinderella   \n",
       "4         EARLY      n  Cinderella  HELPER    D                   birds   \n",
       "\n",
       "  Speaker_Status Start_Scene  \\\n",
       "0          NON-P         NaN   \n",
       "1          NON-P         NaN   \n",
       "2          NON-P         NaN   \n",
       "3       PRINCESS         NaN   \n",
       "4          NON-P         NaN   \n",
       "\n",
       "                                                Text  UTTERANCE_NUMBER  Year  \n",
       "0  cinderella, you're as lovely as your name cind...                 1  1950  \n",
       "1  once upon a time in a faraway land there was a...                 2  1950  \n",
       "2  well, try again. okay wake up, wake up. cinder...                 3  1950  \n",
       "3  well serves you right spoiling people's best d...                 4  1950  \n",
       "4                               what kind of dream?                  5  1950  "
      ]
     },
     "execution_count": 274,
     "metadata": {},
     "output_type": "execute_result"
    }
   ],
   "source": [
    "cinderella.head()"
   ]
  },
  {
   "cell_type": "markdown",
   "metadata": {},
   "source": [
    "## Sleeping Beauty\n",
    "### 1) Gender"
   ]
  },
  {
   "cell_type": "code",
   "execution_count": 277,
   "metadata": {},
   "outputs": [],
   "source": [
    "s_b = disney[disney.Movie == 'Sleeping Beauty']"
   ]
  },
  {
   "cell_type": "code",
   "execution_count": 278,
   "metadata": {},
   "outputs": [
    {
     "data": {
      "text/html": [
       "<div>\n",
       "<style scoped>\n",
       "    .dataframe tbody tr th:only-of-type {\n",
       "        vertical-align: middle;\n",
       "    }\n",
       "\n",
       "    .dataframe tbody tr th {\n",
       "        vertical-align: top;\n",
       "    }\n",
       "\n",
       "    .dataframe thead th {\n",
       "        text-align: right;\n",
       "    }\n",
       "</style>\n",
       "<table border=\"1\" class=\"dataframe\">\n",
       "  <thead>\n",
       "    <tr style=\"text-align: right;\">\n",
       "      <th></th>\n",
       "      <th>Disney_Period</th>\n",
       "      <th>Gender</th>\n",
       "      <th>Movie</th>\n",
       "      <th>Role</th>\n",
       "      <th>Song</th>\n",
       "      <th>Speaker</th>\n",
       "      <th>Speaker_Status</th>\n",
       "      <th>Start_Scene</th>\n",
       "      <th>Text</th>\n",
       "      <th>UTTERANCE_NUMBER</th>\n",
       "      <th>Year</th>\n",
       "    </tr>\n",
       "  </thead>\n",
       "  <tbody>\n",
       "    <tr>\n",
       "      <th>863</th>\n",
       "      <td>EARLY</td>\n",
       "      <td>NaN</td>\n",
       "      <td>Sleeping Beauty</td>\n",
       "      <td>NaN</td>\n",
       "      <td>NaN</td>\n",
       "      <td>narrator</td>\n",
       "      <td>NON-P</td>\n",
       "      <td>NaN</td>\n",
       "      <td>in a far away land, long ago, lived a king and...</td>\n",
       "      <td>1</td>\n",
       "      <td>1959</td>\n",
       "    </tr>\n",
       "    <tr>\n",
       "      <th>864</th>\n",
       "      <td>EARLY</td>\n",
       "      <td>NaN</td>\n",
       "      <td>Sleeping Beauty</td>\n",
       "      <td>NaN</td>\n",
       "      <td>NaN</td>\n",
       "      <td>choir</td>\n",
       "      <td>NON-P</td>\n",
       "      <td>NaN</td>\n",
       "      <td>joyfully now to our princess we come, bringing...</td>\n",
       "      <td>2</td>\n",
       "      <td>1959</td>\n",
       "    </tr>\n",
       "    <tr>\n",
       "      <th>865</th>\n",
       "      <td>EARLY</td>\n",
       "      <td>NaN</td>\n",
       "      <td>Sleeping Beauty</td>\n",
       "      <td>NaN</td>\n",
       "      <td>NaN</td>\n",
       "      <td>narrator</td>\n",
       "      <td>NON-P</td>\n",
       "      <td>NaN</td>\n",
       "      <td>thus on this great and joyous day did all the ...</td>\n",
       "      <td>3</td>\n",
       "      <td>1959</td>\n",
       "    </tr>\n",
       "    <tr>\n",
       "      <th>866</th>\n",
       "      <td>EARLY</td>\n",
       "      <td>NaN</td>\n",
       "      <td>Sleeping Beauty</td>\n",
       "      <td>NaN</td>\n",
       "      <td>NaN</td>\n",
       "      <td>announcer</td>\n",
       "      <td>NON-P</td>\n",
       "      <td>NaN</td>\n",
       "      <td>their royal highnesses, king hubert and prince...</td>\n",
       "      <td>4</td>\n",
       "      <td>1959</td>\n",
       "    </tr>\n",
       "    <tr>\n",
       "      <th>867</th>\n",
       "      <td>EARLY</td>\n",
       "      <td>NaN</td>\n",
       "      <td>Sleeping Beauty</td>\n",
       "      <td>NaN</td>\n",
       "      <td>NaN</td>\n",
       "      <td>narrator</td>\n",
       "      <td>NON-P</td>\n",
       "      <td>NaN</td>\n",
       "      <td>fondly had these monarchs dreamed one day thei...</td>\n",
       "      <td>5</td>\n",
       "      <td>1959</td>\n",
       "    </tr>\n",
       "  </tbody>\n",
       "</table>\n",
       "</div>"
      ],
      "text/plain": [
       "    Disney_Period Gender            Movie Role Song    Speaker Speaker_Status  \\\n",
       "863         EARLY    NaN  Sleeping Beauty  NaN  NaN   narrator          NON-P   \n",
       "864         EARLY    NaN  Sleeping Beauty  NaN  NaN      choir          NON-P   \n",
       "865         EARLY    NaN  Sleeping Beauty  NaN  NaN   narrator          NON-P   \n",
       "866         EARLY    NaN  Sleeping Beauty  NaN  NaN  announcer          NON-P   \n",
       "867         EARLY    NaN  Sleeping Beauty  NaN  NaN   narrator          NON-P   \n",
       "\n",
       "    Start_Scene                                               Text  \\\n",
       "863         NaN  in a far away land, long ago, lived a king and...   \n",
       "864         NaN  joyfully now to our princess we come, bringing...   \n",
       "865         NaN  thus on this great and joyous day did all the ...   \n",
       "866         NaN  their royal highnesses, king hubert and prince...   \n",
       "867         NaN  fondly had these monarchs dreamed one day thei...   \n",
       "\n",
       "     UTTERANCE_NUMBER  Year  \n",
       "863                 1  1959  \n",
       "864                 2  1959  \n",
       "865                 3  1959  \n",
       "866                 4  1959  \n",
       "867                 5  1959  "
      ]
     },
     "execution_count": 278,
     "metadata": {},
     "output_type": "execute_result"
    }
   ],
   "source": [
    "s_b.head()"
   ]
  },
  {
   "cell_type": "code",
   "execution_count": 279,
   "metadata": {},
   "outputs": [
    {
     "name": "stdout",
     "output_type": "stream",
     "text": [
      "<class 'pandas.core.frame.DataFrame'>\n",
      "Int64Index: 462 entries, 863 to 1324\n",
      "Data columns (total 11 columns):\n",
      "Disney_Period       462 non-null object\n",
      "Gender              0 non-null object\n",
      "Movie               462 non-null object\n",
      "Role                0 non-null object\n",
      "Song                0 non-null object\n",
      "Speaker             462 non-null object\n",
      "Speaker_Status      462 non-null object\n",
      "Start_Scene         0 non-null object\n",
      "Text                462 non-null object\n",
      "UTTERANCE_NUMBER    462 non-null int64\n",
      "Year                462 non-null int64\n",
      "dtypes: int64(2), object(9)\n",
      "memory usage: 27.1+ KB\n"
     ]
    }
   ],
   "source": [
    "s_b.info()"
   ]
  },
  {
   "cell_type": "code",
   "execution_count": 280,
   "metadata": {},
   "outputs": [
    {
     "data": {
      "text/plain": [
       "array(['narrator', 'choir', 'announcer', 'fairies', 'flora', 'fauna',\n",
       "       'merryweather', 'maleficent', 'queen', 'stefan', '1st servant',\n",
       "       '2nd servant', 'servants', 'briar rose', 'phillip', 'owl', 'both',\n",
       "       'hubert'], dtype=object)"
      ]
     },
     "execution_count": 280,
     "metadata": {},
     "output_type": "execute_result"
    }
   ],
   "source": [
    "s_b.Speaker.unique()"
   ]
  },
  {
   "cell_type": "code",
   "execution_count": 284,
   "metadata": {},
   "outputs": [
    {
     "data": {
      "text/plain": [
       "18"
      ]
     },
     "execution_count": 284,
     "metadata": {},
     "output_type": "execute_result"
    }
   ],
   "source": [
    "len(s_b.Speaker.unique())"
   ]
  },
  {
   "cell_type": "code",
   "execution_count": 285,
   "metadata": {},
   "outputs": [],
   "source": [
    "s_b_female = ['fairies', 'flora', 'fauna', 'merryweather', 'maleficent', 'queen', 'briar rose']\n",
    "s_b_male = ['narrator', 'announcer', 'stefan', '1st servant', 'servants', '2nd servant', 'phillip', 'hubert']\n"
   ]
  },
  {
   "cell_type": "code",
   "execution_count": 286,
   "metadata": {},
   "outputs": [
    {
     "data": {
      "text/plain": [
       "15"
      ]
     },
     "execution_count": 286,
     "metadata": {},
     "output_type": "execute_result"
    }
   ],
   "source": [
    "len(s_b_female) + len(s_b_male)"
   ]
  },
  {
   "cell_type": "code",
   "execution_count": 287,
   "metadata": {},
   "outputs": [
    {
     "name": "stderr",
     "output_type": "stream",
     "text": [
      "c:\\users\\cassi\\appdata\\local\\programs\\python\\python36-32\\lib\\site-packages\\ipykernel_launcher.py:2: SettingWithCopyWarning: \n",
      "A value is trying to be set on a copy of a slice from a DataFrame.\n",
      "Try using .loc[row_indexer,col_indexer] = value instead\n",
      "\n",
      "See the caveats in the documentation: http://pandas.pydata.org/pandas-docs/stable/indexing.html#indexing-view-versus-copy\n",
      "  \n"
     ]
    }
   ],
   "source": [
    "gender_func = partial(whichgen, female = s_b_female, male=s_b_male)\n",
    "s_b[\"Gender\"] = s_b.Speaker.map(gender_func)"
   ]
  },
  {
   "cell_type": "code",
   "execution_count": 288,
   "metadata": {},
   "outputs": [
    {
     "data": {
      "text/html": [
       "<div>\n",
       "<style scoped>\n",
       "    .dataframe tbody tr th:only-of-type {\n",
       "        vertical-align: middle;\n",
       "    }\n",
       "\n",
       "    .dataframe tbody tr th {\n",
       "        vertical-align: top;\n",
       "    }\n",
       "\n",
       "    .dataframe thead th {\n",
       "        text-align: right;\n",
       "    }\n",
       "</style>\n",
       "<table border=\"1\" class=\"dataframe\">\n",
       "  <thead>\n",
       "    <tr style=\"text-align: right;\">\n",
       "      <th></th>\n",
       "      <th>Disney_Period</th>\n",
       "      <th>Gender</th>\n",
       "      <th>Movie</th>\n",
       "      <th>Role</th>\n",
       "      <th>Song</th>\n",
       "      <th>Speaker</th>\n",
       "      <th>Speaker_Status</th>\n",
       "      <th>Start_Scene</th>\n",
       "      <th>Text</th>\n",
       "      <th>UTTERANCE_NUMBER</th>\n",
       "      <th>Year</th>\n",
       "    </tr>\n",
       "  </thead>\n",
       "  <tbody>\n",
       "    <tr>\n",
       "      <th>863</th>\n",
       "      <td>EARLY</td>\n",
       "      <td>m</td>\n",
       "      <td>Sleeping Beauty</td>\n",
       "      <td>NaN</td>\n",
       "      <td>NaN</td>\n",
       "      <td>narrator</td>\n",
       "      <td>NON-P</td>\n",
       "      <td>NaN</td>\n",
       "      <td>in a far away land, long ago, lived a king and...</td>\n",
       "      <td>1</td>\n",
       "      <td>1959</td>\n",
       "    </tr>\n",
       "    <tr>\n",
       "      <th>864</th>\n",
       "      <td>EARLY</td>\n",
       "      <td>n</td>\n",
       "      <td>Sleeping Beauty</td>\n",
       "      <td>NaN</td>\n",
       "      <td>NaN</td>\n",
       "      <td>choir</td>\n",
       "      <td>NON-P</td>\n",
       "      <td>NaN</td>\n",
       "      <td>joyfully now to our princess we come, bringing...</td>\n",
       "      <td>2</td>\n",
       "      <td>1959</td>\n",
       "    </tr>\n",
       "    <tr>\n",
       "      <th>865</th>\n",
       "      <td>EARLY</td>\n",
       "      <td>m</td>\n",
       "      <td>Sleeping Beauty</td>\n",
       "      <td>NaN</td>\n",
       "      <td>NaN</td>\n",
       "      <td>narrator</td>\n",
       "      <td>NON-P</td>\n",
       "      <td>NaN</td>\n",
       "      <td>thus on this great and joyous day did all the ...</td>\n",
       "      <td>3</td>\n",
       "      <td>1959</td>\n",
       "    </tr>\n",
       "    <tr>\n",
       "      <th>866</th>\n",
       "      <td>EARLY</td>\n",
       "      <td>m</td>\n",
       "      <td>Sleeping Beauty</td>\n",
       "      <td>NaN</td>\n",
       "      <td>NaN</td>\n",
       "      <td>announcer</td>\n",
       "      <td>NON-P</td>\n",
       "      <td>NaN</td>\n",
       "      <td>their royal highnesses, king hubert and prince...</td>\n",
       "      <td>4</td>\n",
       "      <td>1959</td>\n",
       "    </tr>\n",
       "    <tr>\n",
       "      <th>867</th>\n",
       "      <td>EARLY</td>\n",
       "      <td>m</td>\n",
       "      <td>Sleeping Beauty</td>\n",
       "      <td>NaN</td>\n",
       "      <td>NaN</td>\n",
       "      <td>narrator</td>\n",
       "      <td>NON-P</td>\n",
       "      <td>NaN</td>\n",
       "      <td>fondly had these monarchs dreamed one day thei...</td>\n",
       "      <td>5</td>\n",
       "      <td>1959</td>\n",
       "    </tr>\n",
       "  </tbody>\n",
       "</table>\n",
       "</div>"
      ],
      "text/plain": [
       "    Disney_Period Gender            Movie Role Song    Speaker Speaker_Status  \\\n",
       "863         EARLY      m  Sleeping Beauty  NaN  NaN   narrator          NON-P   \n",
       "864         EARLY      n  Sleeping Beauty  NaN  NaN      choir          NON-P   \n",
       "865         EARLY      m  Sleeping Beauty  NaN  NaN   narrator          NON-P   \n",
       "866         EARLY      m  Sleeping Beauty  NaN  NaN  announcer          NON-P   \n",
       "867         EARLY      m  Sleeping Beauty  NaN  NaN   narrator          NON-P   \n",
       "\n",
       "    Start_Scene                                               Text  \\\n",
       "863         NaN  in a far away land, long ago, lived a king and...   \n",
       "864         NaN  joyfully now to our princess we come, bringing...   \n",
       "865         NaN  thus on this great and joyous day did all the ...   \n",
       "866         NaN  their royal highnesses, king hubert and prince...   \n",
       "867         NaN  fondly had these monarchs dreamed one day thei...   \n",
       "\n",
       "     UTTERANCE_NUMBER  Year  \n",
       "863                 1  1959  \n",
       "864                 2  1959  \n",
       "865                 3  1959  \n",
       "866                 4  1959  \n",
       "867                 5  1959  "
      ]
     },
     "execution_count": 288,
     "metadata": {},
     "output_type": "execute_result"
    }
   ],
   "source": [
    "s_b.head()"
   ]
  },
  {
   "cell_type": "markdown",
   "metadata": {},
   "source": [
    "### 2) Role"
   ]
  },
  {
   "cell_type": "code",
   "execution_count": 289,
   "metadata": {},
   "outputs": [],
   "source": [
    "s_b_pro = ['briar rose', 'phillip']\n",
    "s_b_ant = ['maleficent']\n",
    "s_b_helper = ['fairies', 'flora', 'fauna', 'merryweather']"
   ]
  },
  {
   "cell_type": "code",
   "execution_count": 290,
   "metadata": {},
   "outputs": [
    {
     "name": "stderr",
     "output_type": "stream",
     "text": [
      "c:\\users\\cassi\\appdata\\local\\programs\\python\\python36-32\\lib\\site-packages\\ipykernel_launcher.py:2: SettingWithCopyWarning: \n",
      "A value is trying to be set on a copy of a slice from a DataFrame.\n",
      "Try using .loc[row_indexer,col_indexer] = value instead\n",
      "\n",
      "See the caveats in the documentation: http://pandas.pydata.org/pandas-docs/stable/indexing.html#indexing-view-versus-copy\n",
      "  \n"
     ]
    }
   ],
   "source": [
    "role_func = partial(whichrole, pro = s_b_pro, ant = s_b_ant, helper = s_b_helper)\n",
    "s_b[\"Role\"] = s_b.Speaker.map(role_func)"
   ]
  },
  {
   "cell_type": "code",
   "execution_count": 292,
   "metadata": {},
   "outputs": [
    {
     "data": {
      "text/html": [
       "<div>\n",
       "<style scoped>\n",
       "    .dataframe tbody tr th:only-of-type {\n",
       "        vertical-align: middle;\n",
       "    }\n",
       "\n",
       "    .dataframe tbody tr th {\n",
       "        vertical-align: top;\n",
       "    }\n",
       "\n",
       "    .dataframe thead th {\n",
       "        text-align: right;\n",
       "    }\n",
       "</style>\n",
       "<table border=\"1\" class=\"dataframe\">\n",
       "  <thead>\n",
       "    <tr style=\"text-align: right;\">\n",
       "      <th></th>\n",
       "      <th>Disney_Period</th>\n",
       "      <th>Gender</th>\n",
       "      <th>Movie</th>\n",
       "      <th>Role</th>\n",
       "      <th>Song</th>\n",
       "      <th>Speaker</th>\n",
       "      <th>Speaker_Status</th>\n",
       "      <th>Start_Scene</th>\n",
       "      <th>Text</th>\n",
       "      <th>UTTERANCE_NUMBER</th>\n",
       "      <th>Year</th>\n",
       "    </tr>\n",
       "  </thead>\n",
       "  <tbody>\n",
       "    <tr>\n",
       "      <th>1220</th>\n",
       "      <td>EARLY</td>\n",
       "      <td>m</td>\n",
       "      <td>Sleeping Beauty</td>\n",
       "      <td>N</td>\n",
       "      <td>NaN</td>\n",
       "      <td>hubert</td>\n",
       "      <td>NON-P</td>\n",
       "      <td>NaN</td>\n",
       "      <td>you have? where?</td>\n",
       "      <td>358</td>\n",
       "      <td>1959</td>\n",
       "    </tr>\n",
       "    <tr>\n",
       "      <th>1129</th>\n",
       "      <td>EARLY</td>\n",
       "      <td>f</td>\n",
       "      <td>Sleeping Beauty</td>\n",
       "      <td>HELPER</td>\n",
       "      <td>NaN</td>\n",
       "      <td>flora</td>\n",
       "      <td>NON-P</td>\n",
       "      <td>NaN</td>\n",
       "      <td>good gracious, who left the mob running?</td>\n",
       "      <td>267</td>\n",
       "      <td>1959</td>\n",
       "    </tr>\n",
       "    <tr>\n",
       "      <th>886</th>\n",
       "      <td>EARLY</td>\n",
       "      <td>f</td>\n",
       "      <td>Sleeping Beauty</td>\n",
       "      <td>N</td>\n",
       "      <td>NaN</td>\n",
       "      <td>queen</td>\n",
       "      <td>NON-P</td>\n",
       "      <td>NaN</td>\n",
       "      <td>oh no!</td>\n",
       "      <td>24</td>\n",
       "      <td>1959</td>\n",
       "    </tr>\n",
       "    <tr>\n",
       "      <th>1215</th>\n",
       "      <td>EARLY</td>\n",
       "      <td>m</td>\n",
       "      <td>Sleeping Beauty</td>\n",
       "      <td>N</td>\n",
       "      <td>NaN</td>\n",
       "      <td>announcer</td>\n",
       "      <td>NON-P</td>\n",
       "      <td>NaN</td>\n",
       "      <td>his royal highness, prince phillip</td>\n",
       "      <td>353</td>\n",
       "      <td>1959</td>\n",
       "    </tr>\n",
       "    <tr>\n",
       "      <th>1251</th>\n",
       "      <td>EARLY</td>\n",
       "      <td>f</td>\n",
       "      <td>Sleeping Beauty</td>\n",
       "      <td>HELPER</td>\n",
       "      <td>NaN</td>\n",
       "      <td>fairies</td>\n",
       "      <td>NON-P</td>\n",
       "      <td>NaN</td>\n",
       "      <td>rose, rose! where are you? rose!</td>\n",
       "      <td>389</td>\n",
       "      <td>1959</td>\n",
       "    </tr>\n",
       "  </tbody>\n",
       "</table>\n",
       "</div>"
      ],
      "text/plain": [
       "     Disney_Period Gender            Movie    Role Song    Speaker  \\\n",
       "1220         EARLY      m  Sleeping Beauty       N  NaN     hubert   \n",
       "1129         EARLY      f  Sleeping Beauty  HELPER  NaN      flora   \n",
       "886          EARLY      f  Sleeping Beauty       N  NaN      queen   \n",
       "1215         EARLY      m  Sleeping Beauty       N  NaN  announcer   \n",
       "1251         EARLY      f  Sleeping Beauty  HELPER  NaN    fairies   \n",
       "\n",
       "     Speaker_Status Start_Scene                                       Text  \\\n",
       "1220          NON-P         NaN                          you have? where?    \n",
       "1129          NON-P         NaN  good gracious, who left the mob running?    \n",
       "886           NON-P         NaN                                    oh no!    \n",
       "1215          NON-P         NaN        his royal highness, prince phillip    \n",
       "1251          NON-P         NaN          rose, rose! where are you? rose!    \n",
       "\n",
       "      UTTERANCE_NUMBER  Year  \n",
       "1220               358  1959  \n",
       "1129               267  1959  \n",
       "886                 24  1959  \n",
       "1215               353  1959  \n",
       "1251               389  1959  "
      ]
     },
     "execution_count": 292,
     "metadata": {},
     "output_type": "execute_result"
    }
   ],
   "source": [
    "s_b.sample(5)"
   ]
  },
  {
   "cell_type": "markdown",
   "metadata": {},
   "source": [
    "### 3) Song"
   ]
  },
  {
   "cell_type": "code",
   "execution_count": 294,
   "metadata": {},
   "outputs": [],
   "source": [
    "#First, reset index\n",
    "s_b.reset_index(drop=True, inplace = True)"
   ]
  },
  {
   "cell_type": "code",
   "execution_count": 295,
   "metadata": {},
   "outputs": [
    {
     "name": "stdout",
     "output_type": "stream",
     "text": [
      "          Speaker                                               Text\n",
      "1           choir  joyfully now to our princess we come, bringing...\n",
      "4        narrator  fondly had these monarchs dreamed one day thei...\n",
      "7           flora  each of us the child may bless with a single g...\n",
      "8           flora  little princess, my gift shall be the gift of ...\n",
      "9           choir  one gift, beauty rare full of sunshine in her ...\n",
      "10          fauna  tiny princess, my gift shall be the gift of so...\n",
      "11          choir  one gift, the gift of song melody her whole li...\n",
      "12   merryweather              sweet princess, my gift shall be ... \n",
      "21     maleficent  why no, your majesty. and to show i bear no il...\n",
      "27          flora  don't despair, your majesties. merryweather st...\n",
      "35   merryweather  sweet princess, if through this wicked witches...\n",
      "375         flora  lock the door, merryweather! fauna, pull the d...\n",
      "          Speaker                                               Text\n",
      "145  merryweather                         i wonder if she suspects. \n",
      "195  merryweather                          sixteen wonderful years. \n",
      "200    briar rose  i wonder, i wonder, i wonder why each little b...\n",
      "272    briar rose  oh you darlings, this is the happiest day of m...\n",
      "        Speaker                                               Text\n",
      "211  briar rose  and i know it's true that visions are seldom a...\n",
      "214     phillip                                 once upon a dream \n",
      "223     phillip  of course, you said so yourself, once upon a d...\n",
      "224     phillip  i know you i walked with you once upon a dream...\n",
      "225       choir  and i know it's true that visions are seldom a...\n",
      "279  briar rose                                once upon a dream! \n",
      "280  briar rose  i know you i walked with you once upon a dream...\n",
      "358     phillip                                once upon a dream. \n",
      "414      hubert                                once upon a dream. \n",
      "415       flora           once upon a dr... rose! prince phillip! \n",
      "457       choir   i know you, i walked with you once upon a dream \n",
      "461       choir  you'll love me at once the way you did once up...\n",
      "    Speaker                                               Text\n",
      "305  hubert                                           skumps! \n",
      "306  stefan                                            skumps \n",
      "310    both  our children will marry our kingdoms unite sku...\n",
      "315  hubert                   of course. to the home! skumps! \n",
      "316  stefan                                           skumps! \n",
      "320    both                           skumps, skumps, skumps! \n"
     ]
    }
   ],
   "source": [
    "s_b_song_words = ['gift', 'wonder', 'once upon', 'skumps']\n",
    "for line in s_b_song_words:\n",
    "    print(s_b[[\"Speaker\", \"Text\"]][s_b.Text.str.contains(line, regex = False)])"
   ]
  },
  {
   "cell_type": "code",
   "execution_count": 297,
   "metadata": {},
   "outputs": [
    {
     "data": {
      "text/plain": [
       "198                                               ohhh! \n",
       "199                                         no carrots! \n",
       "200    i wonder, i wonder, i wonder why each little b...\n",
       "201    oh dear, why do they still treat me like a chi...\n",
       "202                                                who? \n",
       "203    why, flora and fauna and merryweather. they ne...\n",
       "204    but you know something? i fooled 'em. i have m...\n",
       "Name: Text, dtype: object"
      ]
     },
     "execution_count": 297,
     "metadata": {},
     "output_type": "execute_result"
    }
   ],
   "source": [
    "s_b.Text.iloc[198:205]"
   ]
  },
  {
   "cell_type": "code",
   "execution_count": 300,
   "metadata": {},
   "outputs": [
    {
     "name": "stdout",
     "output_type": "stream",
     "text": [
      "who? who? who? \n",
      "\n",
      "\n",
      "oh, a prince. well, he's tall and handsome and ... and so romantic. oh we walked together, and talked together, and just before we say goodbye, he takes me in his arms, and then ... i wake up. \n",
      "\n",
      "\n",
      "yes, it's only in my dreams. but they say if you dream a thing more than once, it's sure to come true. and i've seen him so many times! \n",
      "\n",
      "\n",
      "you know samson, there was something strange about that voice. too beautiful to be real. maybe it was a mysterious being, a wood sprite ... \n",
      "\n",
      "\n",
      "there, stop! \n",
      "\n",
      "\n",
      "oh, why, it's my dream prince! \n",
      "\n",
      "\n",
      "and i know it's true that visions are seldom all they seem but if i know you i know what you'll do you'll love me at once the way you did once upon a dream \n",
      "\n",
      "\n",
      "but if i know you i know what you'll do you'll love me at once \n",
      "\n",
      "\n",
      "the way you did \n",
      "\n",
      "\n",
      "once upon a dream \n",
      "\n",
      "\n",
      "oh? \n",
      "\n",
      "\n",
      "oh! \n",
      "\n",
      "\n",
      "i'm awfully sorry. i didn't mean to frighten you. \n",
      "\n",
      "\n",
      "oh it wasn't that. it's just that you're a, a ... \n",
      "\n",
      "\n",
      "a stranger? \n",
      "\n",
      "\n",
      "hmmhmm. \n",
      "\n",
      "\n",
      "but don't you remember? we've met before! \n",
      "\n",
      "\n",
      "we, we have? \n",
      "\n",
      "\n",
      "of course, you said so yourself, once upon a dream! \n",
      "\n",
      "\n",
      "i know you i walked with you once upon a dream i know you the gleam in your eyes is so familiar a gleam \n",
      "\n",
      "\n",
      "and i know it's true that visions are seldom all they seem but if i know you i know what you'll do you'll love me at once the way you did once upon a dream \n",
      "\n",
      "\n",
      "who are you, what's your name? \n",
      "\n",
      "\n",
      "hmm? oh, my name. why, it's, it's ... oh no, no, i can't, i ... goodbye! \n",
      "\n",
      "\n",
      "but when will i see you again? \n",
      "\n",
      "\n",
      "oh never, never! \n",
      "\n",
      "\n"
     ]
    }
   ],
   "source": [
    "#200, 211, 212, 213, 214, 224, 225(which is part of choir lines)\n",
    "for line in s_b.Text.iloc[205:230]:\n",
    "    print(line)\n",
    "    print('\\n')"
   ]
  },
  {
   "cell_type": "code",
   "execution_count": 301,
   "metadata": {},
   "outputs": [
    {
     "name": "stdout",
     "output_type": "stream",
     "text": [
      "ah, excellent bird! \n",
      "\n",
      "\n",
      "i'm sorry, hubert, but after sixteen years of worrying, never knowing ... \n",
      "\n",
      "\n",
      "the past, all in the past. \n",
      "\n",
      "\n",
      "arrives with a bottle of wine\n",
      "\n",
      "\n",
      "right, hubert, to the future! \n",
      "\n",
      "\n",
      "skumps! \n",
      "\n",
      "\n",
      "skumps \n",
      "\n",
      "\n",
      "a toast to this knight \n",
      "\n",
      "\n",
      "the outlook is rosy \n",
      "\n",
      "\n",
      "the future is bright \n",
      "\n",
      "\n",
      "our children will marry our kingdoms unite skumps, skumps, skumps! \n",
      "\n",
      "\n",
      "ah, excellent vintage. and now, to the new home, ey? \n",
      "\n",
      "\n",
      "new home? \n",
      "\n",
      "\n",
      "children need a nest of their own, what? place to raise their little brood, ey? \n",
      "\n",
      "\n",
      "well, i suppose in time ... \n",
      "\n",
      "\n",
      "of course. to the home! skumps! \n",
      "\n",
      "\n",
      "skumps! \n",
      "\n",
      "\n",
      "a toast to the home \n",
      "\n",
      "\n",
      "one grander by far than a palace in rome \n",
      "\n",
      "\n",
      "let me fill up your glass, that glass was all foam. \n",
      "\n",
      "\n",
      "skumps, skumps, skumps! \n",
      "\n",
      "\n",
      "the plans! \n",
      "\n",
      "\n",
      "you mean, you're building it already? \n",
      "\n",
      "\n",
      "built man! finished. the lovebirds can move in tomorrow. \n",
      "\n",
      "\n",
      "tomorrow? but hubert, they're not even married yet. \n",
      "\n",
      "\n",
      "take care of that tonight. to the wedding! \n",
      "\n",
      "\n",
      "now hold on, hubert. i haven't even seen my daughter yet, and you're taking her away from me. \n",
      "\n",
      "\n",
      "getting my phillip aren't you? \n",
      "\n",
      "\n",
      "yes, but ... \n",
      "\n",
      "\n",
      "want to see our grandchildren, don't we? \n",
      "\n",
      "\n"
     ]
    }
   ],
   "source": [
    "#305-310, 315-320\n",
    "for line in s_b.Text.iloc[300:330]:\n",
    "    print(line)\n",
    "    print('\\n')\n",
    "#303 is a typo"
   ]
  },
  {
   "cell_type": "code",
   "execution_count": 302,
   "metadata": {},
   "outputs": [
    {
     "data": {
      "text/html": [
       "<div>\n",
       "<style scoped>\n",
       "    .dataframe tbody tr th:only-of-type {\n",
       "        vertical-align: middle;\n",
       "    }\n",
       "\n",
       "    .dataframe tbody tr th {\n",
       "        vertical-align: top;\n",
       "    }\n",
       "\n",
       "    .dataframe thead th {\n",
       "        text-align: right;\n",
       "    }\n",
       "</style>\n",
       "<table border=\"1\" class=\"dataframe\">\n",
       "  <thead>\n",
       "    <tr style=\"text-align: right;\">\n",
       "      <th></th>\n",
       "      <th>Speaker</th>\n",
       "      <th>Text</th>\n",
       "    </tr>\n",
       "  </thead>\n",
       "  <tbody>\n",
       "    <tr>\n",
       "      <th>1</th>\n",
       "      <td>choir</td>\n",
       "      <td>joyfully now to our princess we come, bringing...</td>\n",
       "    </tr>\n",
       "    <tr>\n",
       "      <th>9</th>\n",
       "      <td>choir</td>\n",
       "      <td>one gift, beauty rare full of sunshine in her ...</td>\n",
       "    </tr>\n",
       "    <tr>\n",
       "      <th>11</th>\n",
       "      <td>choir</td>\n",
       "      <td>one gift, the gift of song melody her whole li...</td>\n",
       "    </tr>\n",
       "    <tr>\n",
       "      <th>36</th>\n",
       "      <td>choir</td>\n",
       "      <td>for true love conquers all</td>\n",
       "    </tr>\n",
       "    <tr>\n",
       "      <th>225</th>\n",
       "      <td>choir</td>\n",
       "      <td>and i know it's true that visions are seldom a...</td>\n",
       "    </tr>\n",
       "    <tr>\n",
       "      <th>457</th>\n",
       "      <td>choir</td>\n",
       "      <td>i know you, i walked with you once upon a dream</td>\n",
       "    </tr>\n",
       "    <tr>\n",
       "      <th>459</th>\n",
       "      <td>choir</td>\n",
       "      <td>i know you, the gleam in your eyes is so famil...</td>\n",
       "    </tr>\n",
       "    <tr>\n",
       "      <th>460</th>\n",
       "      <td>choir</td>\n",
       "      <td>and i know it's true that visions are seldom a...</td>\n",
       "    </tr>\n",
       "    <tr>\n",
       "      <th>461</th>\n",
       "      <td>choir</td>\n",
       "      <td>you'll love me at once the way you did once up...</td>\n",
       "    </tr>\n",
       "  </tbody>\n",
       "</table>\n",
       "</div>"
      ],
      "text/plain": [
       "    Speaker                                               Text\n",
       "1     choir  joyfully now to our princess we come, bringing...\n",
       "9     choir  one gift, beauty rare full of sunshine in her ...\n",
       "11    choir  one gift, the gift of song melody her whole li...\n",
       "36    choir                        for true love conquers all \n",
       "225   choir  and i know it's true that visions are seldom a...\n",
       "457   choir   i know you, i walked with you once upon a dream \n",
       "459   choir  i know you, the gleam in your eyes is so famil...\n",
       "460   choir  and i know it's true that visions are seldom a...\n",
       "461   choir  you'll love me at once the way you did once up..."
      ]
     },
     "execution_count": 302,
     "metadata": {},
     "output_type": "execute_result"
    }
   ],
   "source": [
    "#find choir lines\n",
    "s_b[[\"Speaker\", \"Text\"]][s_b.Speaker == 'choir']"
   ]
  },
  {
   "cell_type": "code",
   "execution_count": 304,
   "metadata": {},
   "outputs": [],
   "source": [
    "#1, 9, 11, 36, 225, 457, 459, 460, 461\n",
    "#305-310, 315-320\n",
    "#200, 211, 212, 213, 214, 224,\n",
    "s_b_songs = [1,9,11,36,200, 211, 212, 213, 214, 224, 225, 305, 306, 307, 308, 309, 310, 315, 316, 317, 318, 319, 320,\n",
    "            457, 459, 460, 461]"
   ]
  },
  {
   "cell_type": "code",
   "execution_count": 305,
   "metadata": {},
   "outputs": [
    {
     "name": "stderr",
     "output_type": "stream",
     "text": [
      "c:\\users\\cassi\\appdata\\local\\programs\\python\\python36-32\\lib\\site-packages\\ipykernel_launcher.py:2: SettingWithCopyWarning: \n",
      "A value is trying to be set on a copy of a slice from a DataFrame.\n",
      "Try using .loc[row_indexer,col_indexer] = value instead\n",
      "\n",
      "See the caveats in the documentation: http://pandas.pydata.org/pandas-docs/stable/indexing.html#indexing-view-versus-copy\n",
      "  \n"
     ]
    }
   ],
   "source": [
    "song_func = partial(is_dialogue, song=s_b_songs)\n",
    "s_b[\"Song\"] = s_b.index.map(song_func)"
   ]
  },
  {
   "cell_type": "code",
   "execution_count": 306,
   "metadata": {},
   "outputs": [
    {
     "data": {
      "text/html": [
       "<div>\n",
       "<style scoped>\n",
       "    .dataframe tbody tr th:only-of-type {\n",
       "        vertical-align: middle;\n",
       "    }\n",
       "\n",
       "    .dataframe tbody tr th {\n",
       "        vertical-align: top;\n",
       "    }\n",
       "\n",
       "    .dataframe thead th {\n",
       "        text-align: right;\n",
       "    }\n",
       "</style>\n",
       "<table border=\"1\" class=\"dataframe\">\n",
       "  <thead>\n",
       "    <tr style=\"text-align: right;\">\n",
       "      <th></th>\n",
       "      <th>Disney_Period</th>\n",
       "      <th>Gender</th>\n",
       "      <th>Movie</th>\n",
       "      <th>Role</th>\n",
       "      <th>Song</th>\n",
       "      <th>Speaker</th>\n",
       "      <th>Speaker_Status</th>\n",
       "      <th>Start_Scene</th>\n",
       "      <th>Text</th>\n",
       "      <th>UTTERANCE_NUMBER</th>\n",
       "      <th>Year</th>\n",
       "    </tr>\n",
       "  </thead>\n",
       "  <tbody>\n",
       "    <tr>\n",
       "      <th>0</th>\n",
       "      <td>EARLY</td>\n",
       "      <td>m</td>\n",
       "      <td>Sleeping Beauty</td>\n",
       "      <td>N</td>\n",
       "      <td>D</td>\n",
       "      <td>narrator</td>\n",
       "      <td>NON-P</td>\n",
       "      <td>NaN</td>\n",
       "      <td>in a far away land, long ago, lived a king and...</td>\n",
       "      <td>1</td>\n",
       "      <td>1959</td>\n",
       "    </tr>\n",
       "    <tr>\n",
       "      <th>1</th>\n",
       "      <td>EARLY</td>\n",
       "      <td>n</td>\n",
       "      <td>Sleeping Beauty</td>\n",
       "      <td>N</td>\n",
       "      <td>S</td>\n",
       "      <td>choir</td>\n",
       "      <td>NON-P</td>\n",
       "      <td>NaN</td>\n",
       "      <td>joyfully now to our princess we come, bringing...</td>\n",
       "      <td>2</td>\n",
       "      <td>1959</td>\n",
       "    </tr>\n",
       "    <tr>\n",
       "      <th>2</th>\n",
       "      <td>EARLY</td>\n",
       "      <td>m</td>\n",
       "      <td>Sleeping Beauty</td>\n",
       "      <td>N</td>\n",
       "      <td>D</td>\n",
       "      <td>narrator</td>\n",
       "      <td>NON-P</td>\n",
       "      <td>NaN</td>\n",
       "      <td>thus on this great and joyous day did all the ...</td>\n",
       "      <td>3</td>\n",
       "      <td>1959</td>\n",
       "    </tr>\n",
       "    <tr>\n",
       "      <th>3</th>\n",
       "      <td>EARLY</td>\n",
       "      <td>m</td>\n",
       "      <td>Sleeping Beauty</td>\n",
       "      <td>N</td>\n",
       "      <td>D</td>\n",
       "      <td>announcer</td>\n",
       "      <td>NON-P</td>\n",
       "      <td>NaN</td>\n",
       "      <td>their royal highnesses, king hubert and prince...</td>\n",
       "      <td>4</td>\n",
       "      <td>1959</td>\n",
       "    </tr>\n",
       "    <tr>\n",
       "      <th>4</th>\n",
       "      <td>EARLY</td>\n",
       "      <td>m</td>\n",
       "      <td>Sleeping Beauty</td>\n",
       "      <td>N</td>\n",
       "      <td>D</td>\n",
       "      <td>narrator</td>\n",
       "      <td>NON-P</td>\n",
       "      <td>NaN</td>\n",
       "      <td>fondly had these monarchs dreamed one day thei...</td>\n",
       "      <td>5</td>\n",
       "      <td>1959</td>\n",
       "    </tr>\n",
       "  </tbody>\n",
       "</table>\n",
       "</div>"
      ],
      "text/plain": [
       "  Disney_Period Gender            Movie Role Song    Speaker Speaker_Status  \\\n",
       "0         EARLY      m  Sleeping Beauty    N    D   narrator          NON-P   \n",
       "1         EARLY      n  Sleeping Beauty    N    S      choir          NON-P   \n",
       "2         EARLY      m  Sleeping Beauty    N    D   narrator          NON-P   \n",
       "3         EARLY      m  Sleeping Beauty    N    D  announcer          NON-P   \n",
       "4         EARLY      m  Sleeping Beauty    N    D   narrator          NON-P   \n",
       "\n",
       "  Start_Scene                                               Text  \\\n",
       "0         NaN  in a far away land, long ago, lived a king and...   \n",
       "1         NaN  joyfully now to our princess we come, bringing...   \n",
       "2         NaN  thus on this great and joyous day did all the ...   \n",
       "3         NaN  their royal highnesses, king hubert and prince...   \n",
       "4         NaN  fondly had these monarchs dreamed one day thei...   \n",
       "\n",
       "   UTTERANCE_NUMBER  Year  \n",
       "0                 1  1959  \n",
       "1                 2  1959  \n",
       "2                 3  1959  \n",
       "3                 4  1959  \n",
       "4                 5  1959  "
      ]
     },
     "execution_count": 306,
     "metadata": {},
     "output_type": "execute_result"
    }
   ],
   "source": [
    "s_b.head()"
   ]
  },
  {
   "cell_type": "code",
   "execution_count": 307,
   "metadata": {},
   "outputs": [
    {
     "name": "stdout",
     "output_type": "stream",
     "text": [
      "<class 'pandas.core.frame.DataFrame'>\n",
      "RangeIndex: 462 entries, 0 to 461\n",
      "Data columns (total 11 columns):\n",
      "Disney_Period       462 non-null object\n",
      "Gender              462 non-null object\n",
      "Movie               462 non-null object\n",
      "Role                462 non-null object\n",
      "Song                462 non-null object\n",
      "Speaker             462 non-null object\n",
      "Speaker_Status      462 non-null object\n",
      "Start_Scene         0 non-null object\n",
      "Text                462 non-null object\n",
      "UTTERANCE_NUMBER    462 non-null int64\n",
      "Year                462 non-null int64\n",
      "dtypes: int64(2), object(9)\n",
      "memory usage: 23.5+ KB\n"
     ]
    }
   ],
   "source": [
    "s_b.info()"
   ]
  },
  {
   "cell_type": "code",
   "execution_count": 308,
   "metadata": {},
   "outputs": [
    {
     "data": {
      "text/plain": [
       "Disney_Period                               EARLY\n",
       "Gender                                          m\n",
       "Movie                             Sleeping Beauty\n",
       "Role                                            N\n",
       "Song                                            D\n",
       "Speaker                                    hubert\n",
       "Speaker_Status                              NON-P\n",
       "Start_Scene                                   NaN\n",
       "Text                arrives with a bottle of wine\n",
       "UTTERANCE_NUMBER                              304\n",
       "Year                                         1959\n",
       "Name: 303, dtype: object"
      ]
     },
     "execution_count": 308,
     "metadata": {},
     "output_type": "execute_result"
    }
   ],
   "source": [
    "#quickly fixing 303\n",
    "s_b.iloc[303]"
   ]
  },
  {
   "cell_type": "code",
   "execution_count": 309,
   "metadata": {},
   "outputs": [
    {
     "name": "stderr",
     "output_type": "stream",
     "text": [
      "c:\\users\\cassi\\appdata\\local\\programs\\python\\python36-32\\lib\\site-packages\\pandas\\core\\frame.py:3697: SettingWithCopyWarning: \n",
      "A value is trying to be set on a copy of a slice from a DataFrame\n",
      "\n",
      "See the caveats in the documentation: http://pandas.pydata.org/pandas-docs/stable/indexing.html#indexing-view-versus-copy\n",
      "  errors=errors)\n"
     ]
    }
   ],
   "source": [
    "s_b.drop(index =303, inplace=True)"
   ]
  },
  {
   "cell_type": "code",
   "execution_count": 310,
   "metadata": {},
   "outputs": [
    {
     "name": "stdout",
     "output_type": "stream",
     "text": [
      "<class 'pandas.core.frame.DataFrame'>\n",
      "Int64Index: 461 entries, 0 to 461\n",
      "Data columns (total 11 columns):\n",
      "Disney_Period       461 non-null object\n",
      "Gender              461 non-null object\n",
      "Movie               461 non-null object\n",
      "Role                461 non-null object\n",
      "Song                461 non-null object\n",
      "Speaker             461 non-null object\n",
      "Speaker_Status      461 non-null object\n",
      "Start_Scene         0 non-null object\n",
      "Text                461 non-null object\n",
      "UTTERANCE_NUMBER    461 non-null int64\n",
      "Year                461 non-null int64\n",
      "dtypes: int64(2), object(9)\n",
      "memory usage: 27.0+ KB\n"
     ]
    }
   ],
   "source": [
    "s_b.info()"
   ]
  },
  {
   "cell_type": "code",
   "execution_count": 311,
   "metadata": {},
   "outputs": [],
   "source": [
    "s_b.reset_index(drop=True, inplace = True)"
   ]
  },
  {
   "cell_type": "code",
   "execution_count": 312,
   "metadata": {},
   "outputs": [
    {
     "data": {
      "text/plain": [
       "Disney_Period                                EARLY\n",
       "Gender                                           m\n",
       "Movie                              Sleeping Beauty\n",
       "Role                                             N\n",
       "Song                                             D\n",
       "Speaker                                     stefan\n",
       "Speaker_Status                               NON-P\n",
       "Start_Scene                                    NaN\n",
       "Text                right, hubert, to the future! \n",
       "UTTERANCE_NUMBER                               305\n",
       "Year                                          1959\n",
       "Name: 303, dtype: object"
      ]
     },
     "execution_count": 312,
     "metadata": {},
     "output_type": "execute_result"
    }
   ],
   "source": [
    "s_b.iloc[303]"
   ]
  },
  {
   "cell_type": "markdown",
   "metadata": {},
   "source": [
    "## Little Mermaid\n",
    "### 1) Gender"
   ]
  },
  {
   "cell_type": "code",
   "execution_count": 313,
   "metadata": {},
   "outputs": [],
   "source": [
    "l_m = disney[disney.Movie == 'The Little Mermaid']"
   ]
  },
  {
   "cell_type": "code",
   "execution_count": 314,
   "metadata": {},
   "outputs": [
    {
     "data": {
      "text/html": [
       "<div>\n",
       "<style scoped>\n",
       "    .dataframe tbody tr th:only-of-type {\n",
       "        vertical-align: middle;\n",
       "    }\n",
       "\n",
       "    .dataframe tbody tr th {\n",
       "        vertical-align: top;\n",
       "    }\n",
       "\n",
       "    .dataframe thead th {\n",
       "        text-align: right;\n",
       "    }\n",
       "</style>\n",
       "<table border=\"1\" class=\"dataframe\">\n",
       "  <thead>\n",
       "    <tr style=\"text-align: right;\">\n",
       "      <th></th>\n",
       "      <th>Disney_Period</th>\n",
       "      <th>Gender</th>\n",
       "      <th>Movie</th>\n",
       "      <th>Role</th>\n",
       "      <th>Song</th>\n",
       "      <th>Speaker</th>\n",
       "      <th>Speaker_Status</th>\n",
       "      <th>Start_Scene</th>\n",
       "      <th>Text</th>\n",
       "      <th>UTTERANCE_NUMBER</th>\n",
       "      <th>Year</th>\n",
       "    </tr>\n",
       "  </thead>\n",
       "  <tbody>\n",
       "    <tr>\n",
       "      <th>1325</th>\n",
       "      <td>MID</td>\n",
       "      <td>NaN</td>\n",
       "      <td>The Little Mermaid</td>\n",
       "      <td>NaN</td>\n",
       "      <td>NaN</td>\n",
       "      <td>sailors</td>\n",
       "      <td>NON-P</td>\n",
       "      <td>NaN</td>\n",
       "      <td>i'll tell you a tale of the bottomless blue an...</td>\n",
       "      <td>1</td>\n",
       "      <td>1989</td>\n",
       "    </tr>\n",
       "    <tr>\n",
       "      <th>1326</th>\n",
       "      <td>MID</td>\n",
       "      <td>NaN</td>\n",
       "      <td>The Little Mermaid</td>\n",
       "      <td>NaN</td>\n",
       "      <td>NaN</td>\n",
       "      <td>eric</td>\n",
       "      <td>PRINCE</td>\n",
       "      <td>NaN</td>\n",
       "      <td>isn't this great? the salty sea air, the wind ...</td>\n",
       "      <td>2</td>\n",
       "      <td>1989</td>\n",
       "    </tr>\n",
       "    <tr>\n",
       "      <th>1327</th>\n",
       "      <td>MID</td>\n",
       "      <td>NaN</td>\n",
       "      <td>The Little Mermaid</td>\n",
       "      <td>NaN</td>\n",
       "      <td>NaN</td>\n",
       "      <td>grimsby</td>\n",
       "      <td>NON-P</td>\n",
       "      <td>NaN</td>\n",
       "      <td>oh yes . . . delightful . . . .</td>\n",
       "      <td>3</td>\n",
       "      <td>1989</td>\n",
       "    </tr>\n",
       "    <tr>\n",
       "      <th>1328</th>\n",
       "      <td>MID</td>\n",
       "      <td>NaN</td>\n",
       "      <td>The Little Mermaid</td>\n",
       "      <td>NaN</td>\n",
       "      <td>NaN</td>\n",
       "      <td>sailor 1</td>\n",
       "      <td>NON-P</td>\n",
       "      <td>NaN</td>\n",
       "      <td>a fine strong wind and a following sea. king t...</td>\n",
       "      <td>4</td>\n",
       "      <td>1989</td>\n",
       "    </tr>\n",
       "    <tr>\n",
       "      <th>1329</th>\n",
       "      <td>MID</td>\n",
       "      <td>NaN</td>\n",
       "      <td>The Little Mermaid</td>\n",
       "      <td>NaN</td>\n",
       "      <td>NaN</td>\n",
       "      <td>eric</td>\n",
       "      <td>PRINCE</td>\n",
       "      <td>NaN</td>\n",
       "      <td>king triton?</td>\n",
       "      <td>5</td>\n",
       "      <td>1989</td>\n",
       "    </tr>\n",
       "  </tbody>\n",
       "</table>\n",
       "</div>"
      ],
      "text/plain": [
       "     Disney_Period Gender               Movie Role Song   Speaker  \\\n",
       "1325           MID    NaN  The Little Mermaid  NaN  NaN   sailors   \n",
       "1326           MID    NaN  The Little Mermaid  NaN  NaN      eric   \n",
       "1327           MID    NaN  The Little Mermaid  NaN  NaN   grimsby   \n",
       "1328           MID    NaN  The Little Mermaid  NaN  NaN  sailor 1   \n",
       "1329           MID    NaN  The Little Mermaid  NaN  NaN      eric   \n",
       "\n",
       "     Speaker_Status Start_Scene  \\\n",
       "1325          NON-P         NaN   \n",
       "1326         PRINCE         NaN   \n",
       "1327          NON-P         NaN   \n",
       "1328          NON-P         NaN   \n",
       "1329         PRINCE         NaN   \n",
       "\n",
       "                                                   Text  UTTERANCE_NUMBER  \\\n",
       "1325  i'll tell you a tale of the bottomless blue an...                 1   \n",
       "1326  isn't this great? the salty sea air, the wind ...                 2   \n",
       "1327                   oh yes . . . delightful . . . .                  3   \n",
       "1328  a fine strong wind and a following sea. king t...                 4   \n",
       "1329                                      king triton?                  5   \n",
       "\n",
       "      Year  \n",
       "1325  1989  \n",
       "1326  1989  \n",
       "1327  1989  \n",
       "1328  1989  \n",
       "1329  1989  "
      ]
     },
     "execution_count": 314,
     "metadata": {},
     "output_type": "execute_result"
    }
   ],
   "source": [
    "l_m.head()"
   ]
  },
  {
   "cell_type": "code",
   "execution_count": 315,
   "metadata": {},
   "outputs": [
    {
     "data": {
      "text/plain": [
       "array(['sailors', 'eric', 'grimsby', 'sailor 1', 'sailor 2', 'seahorse',\n",
       "       'triton', 'sebastian', \"triton's daughters\", 'flounder', 'ariel',\n",
       "       'scuttle', 'ariel and flounder', 'ursula', 'sailor', 'andrina',\n",
       "       'atina', 'flotsam', 'jetsam', 'flotsam and jetsam', 'carlotta',\n",
       "       'woman 1', 'woman 2', 'louis', 'vanessa', 'priest', 'all'],\n",
       "      dtype=object)"
      ]
     },
     "execution_count": 315,
     "metadata": {},
     "output_type": "execute_result"
    }
   ],
   "source": [
    "l_m.Speaker.unique()"
   ]
  },
  {
   "cell_type": "code",
   "execution_count": 318,
   "metadata": {},
   "outputs": [
    {
     "data": {
      "text/plain": [
       "27"
      ]
     },
     "execution_count": 318,
     "metadata": {},
     "output_type": "execute_result"
    }
   ],
   "source": [
    "len(l_m.Speaker.unique())"
   ]
  },
  {
   "cell_type": "code",
   "execution_count": 316,
   "metadata": {},
   "outputs": [],
   "source": [
    "l_m_female = [\"triton's daughters\", 'ariel', 'ursula', 'andrina', 'atina', 'carlotta', 'woman 1', 'woman 2', 'vanessa']\n",
    "l_m_male = ['sailors', 'eric', 'grimsby', 'sailor 1', 'sailor 2', 'seahorse', 'triton', 'sebastian', 'flounder', 'scuttle',\n",
    "           'sailor', 'flotsam', 'jetsam', 'flotsam and jetsam', 'louis', 'priest']"
   ]
  },
  {
   "cell_type": "code",
   "execution_count": 317,
   "metadata": {},
   "outputs": [
    {
     "data": {
      "text/plain": [
       "25"
      ]
     },
     "execution_count": 317,
     "metadata": {},
     "output_type": "execute_result"
    }
   ],
   "source": [
    "len(l_m_female) + len(l_m_male) #'ariel and flounder' and 'all' are neutral"
   ]
  },
  {
   "cell_type": "code",
   "execution_count": 319,
   "metadata": {},
   "outputs": [
    {
     "name": "stderr",
     "output_type": "stream",
     "text": [
      "c:\\users\\cassi\\appdata\\local\\programs\\python\\python36-32\\lib\\site-packages\\ipykernel_launcher.py:2: SettingWithCopyWarning: \n",
      "A value is trying to be set on a copy of a slice from a DataFrame.\n",
      "Try using .loc[row_indexer,col_indexer] = value instead\n",
      "\n",
      "See the caveats in the documentation: http://pandas.pydata.org/pandas-docs/stable/indexing.html#indexing-view-versus-copy\n",
      "  \n"
     ]
    }
   ],
   "source": [
    "gender_func = partial(whichgen, female = l_m_female, male=l_m_male)\n",
    "l_m[\"Gender\"] = l_m.Speaker.map(gender_func)"
   ]
  },
  {
   "cell_type": "code",
   "execution_count": 321,
   "metadata": {},
   "outputs": [
    {
     "data": {
      "text/html": [
       "<div>\n",
       "<style scoped>\n",
       "    .dataframe tbody tr th:only-of-type {\n",
       "        vertical-align: middle;\n",
       "    }\n",
       "\n",
       "    .dataframe tbody tr th {\n",
       "        vertical-align: top;\n",
       "    }\n",
       "\n",
       "    .dataframe thead th {\n",
       "        text-align: right;\n",
       "    }\n",
       "</style>\n",
       "<table border=\"1\" class=\"dataframe\">\n",
       "  <thead>\n",
       "    <tr style=\"text-align: right;\">\n",
       "      <th></th>\n",
       "      <th>Disney_Period</th>\n",
       "      <th>Gender</th>\n",
       "      <th>Movie</th>\n",
       "      <th>Role</th>\n",
       "      <th>Song</th>\n",
       "      <th>Speaker</th>\n",
       "      <th>Speaker_Status</th>\n",
       "      <th>Start_Scene</th>\n",
       "      <th>Text</th>\n",
       "      <th>UTTERANCE_NUMBER</th>\n",
       "      <th>Year</th>\n",
       "    </tr>\n",
       "  </thead>\n",
       "  <tbody>\n",
       "    <tr>\n",
       "      <th>1423</th>\n",
       "      <td>MID</td>\n",
       "      <td>f</td>\n",
       "      <td>The Little Mermaid</td>\n",
       "      <td>NaN</td>\n",
       "      <td>NaN</td>\n",
       "      <td>ariel</td>\n",
       "      <td>PRINCESS</td>\n",
       "      <td>NaN</td>\n",
       "      <td>street up where they walk up where they run up...</td>\n",
       "      <td>99</td>\n",
       "      <td>1989</td>\n",
       "    </tr>\n",
       "    <tr>\n",
       "      <th>1473</th>\n",
       "      <td>MID</td>\n",
       "      <td>f</td>\n",
       "      <td>The Little Mermaid</td>\n",
       "      <td>NaN</td>\n",
       "      <td>NaN</td>\n",
       "      <td>andrina</td>\n",
       "      <td>NON-P</td>\n",
       "      <td>NaN</td>\n",
       "      <td>isn't it obvious, daddy? ariel's in love.</td>\n",
       "      <td>149</td>\n",
       "      <td>1989</td>\n",
       "    </tr>\n",
       "    <tr>\n",
       "      <th>1550</th>\n",
       "      <td>MID</td>\n",
       "      <td>m</td>\n",
       "      <td>The Little Mermaid</td>\n",
       "      <td>NaN</td>\n",
       "      <td>NaN</td>\n",
       "      <td>sebastian</td>\n",
       "      <td>NON-P</td>\n",
       "      <td>NaN</td>\n",
       "      <td>come on.</td>\n",
       "      <td>226</td>\n",
       "      <td>1989</td>\n",
       "    </tr>\n",
       "    <tr>\n",
       "      <th>1499</th>\n",
       "      <td>MID</td>\n",
       "      <td>m</td>\n",
       "      <td>The Little Mermaid</td>\n",
       "      <td>NaN</td>\n",
       "      <td>NaN</td>\n",
       "      <td>triton</td>\n",
       "      <td>NON-P</td>\n",
       "      <td>NaN</td>\n",
       "      <td>about ariel?</td>\n",
       "      <td>175</td>\n",
       "      <td>1989</td>\n",
       "    </tr>\n",
       "    <tr>\n",
       "      <th>1685</th>\n",
       "      <td>MID</td>\n",
       "      <td>f</td>\n",
       "      <td>The Little Mermaid</td>\n",
       "      <td>NaN</td>\n",
       "      <td>NaN</td>\n",
       "      <td>ursula</td>\n",
       "      <td>NON-P</td>\n",
       "      <td>NaN</td>\n",
       "      <td>why, king triton! ha ha ha how are you?</td>\n",
       "      <td>361</td>\n",
       "      <td>1989</td>\n",
       "    </tr>\n",
       "  </tbody>\n",
       "</table>\n",
       "</div>"
      ],
      "text/plain": [
       "     Disney_Period Gender               Movie Role Song    Speaker  \\\n",
       "1423           MID      f  The Little Mermaid  NaN  NaN      ariel   \n",
       "1473           MID      f  The Little Mermaid  NaN  NaN    andrina   \n",
       "1550           MID      m  The Little Mermaid  NaN  NaN  sebastian   \n",
       "1499           MID      m  The Little Mermaid  NaN  NaN     triton   \n",
       "1685           MID      f  The Little Mermaid  NaN  NaN     ursula   \n",
       "\n",
       "     Speaker_Status Start_Scene  \\\n",
       "1423       PRINCESS         NaN   \n",
       "1473          NON-P         NaN   \n",
       "1550          NON-P         NaN   \n",
       "1499          NON-P         NaN   \n",
       "1685          NON-P         NaN   \n",
       "\n",
       "                                                   Text  UTTERANCE_NUMBER  \\\n",
       "1423  street up where they walk up where they run up...                99   \n",
       "1473         isn't it obvious, daddy? ariel's in love.                149   \n",
       "1550                                          come on.                226   \n",
       "1499                                      about ariel?                175   \n",
       "1685           why, king triton! ha ha ha how are you?                361   \n",
       "\n",
       "      Year  \n",
       "1423  1989  \n",
       "1473  1989  \n",
       "1550  1989  \n",
       "1499  1989  \n",
       "1685  1989  "
      ]
     },
     "execution_count": 321,
     "metadata": {},
     "output_type": "execute_result"
    }
   ],
   "source": [
    "l_m.sample(5)"
   ]
  },
  {
   "cell_type": "markdown",
   "metadata": {},
   "source": [
    "### 2) Role\n",
    "Note: King Triton tries to prevent Ariel from pursuing her goals in the first half of the movie. He doesn't play as big a role later on in the movie. I may change his role to neutral later in my analysis."
   ]
  },
  {
   "cell_type": "code",
   "execution_count": 324,
   "metadata": {},
   "outputs": [],
   "source": [
    "l_m.reset_index(drop = True, inplace = True)"
   ]
  },
  {
   "cell_type": "code",
   "execution_count": 322,
   "metadata": {},
   "outputs": [],
   "source": [
    "l_m_pro = ['ariel', 'eric']\n",
    "l_m_ant = ['ursula', 'flotsam', 'jetsam', 'flotsam and jetsam', 'vanessa', 'triton']\n",
    "l_m_helper = ['flounder', 'sebastian', 'scuttle', 'grimsby']"
   ]
  },
  {
   "cell_type": "code",
   "execution_count": 326,
   "metadata": {},
   "outputs": [
    {
     "name": "stderr",
     "output_type": "stream",
     "text": [
      "c:\\users\\cassi\\appdata\\local\\programs\\python\\python36-32\\lib\\site-packages\\ipykernel_launcher.py:2: SettingWithCopyWarning: \n",
      "A value is trying to be set on a copy of a slice from a DataFrame.\n",
      "Try using .loc[row_indexer,col_indexer] = value instead\n",
      "\n",
      "See the caveats in the documentation: http://pandas.pydata.org/pandas-docs/stable/indexing.html#indexing-view-versus-copy\n",
      "  \n"
     ]
    }
   ],
   "source": [
    "role_func = partial(whichrole, pro = l_m_pro, ant = l_m_ant, helper = l_m_helper)\n",
    "l_m[\"Role\"] = l_m.Speaker.map(role_func)"
   ]
  },
  {
   "cell_type": "markdown",
   "metadata": {},
   "source": [
    "### 3) Songs"
   ]
  },
  {
   "cell_type": "code",
   "execution_count": 327,
   "metadata": {},
   "outputs": [],
   "source": [
    "#finding commong words in the songs: Fathoms Below, Daughters of Triton, Part of Your World, Under the Sea, Poor Unfortunate Souls,\n",
    "# Kiss the Girl\n",
    "l_m_song_words = ['fathoms', 'musical', 'world', 'under the sea', 'unfortunate','poissons', 'kiss the girl' ]"
   ]
  },
  {
   "cell_type": "code",
   "execution_count": 330,
   "metadata": {},
   "outputs": [
    {
     "name": "stdout",
     "output_type": "stream",
     "text": [
      "fathoms\n",
      "   Speaker                                               Text\n",
      "0  sailors  i'll tell you a tale of the bottomless blue an...\n",
      "8  sailors  heave. ho. heave, ho. in mysterious fathoms be...\n",
      "\n",
      "\n",
      "musical\n",
      "               Speaker                                               Text\n",
      "16  triton's daughters  ah, we are the daughters of triton. great fath...\n",
      "\n",
      "\n",
      "world\n",
      "       Speaker                                               Text\n",
      "95       ariel  if only i could make him understand. i just do...\n",
      "98       ariel  street up where they walk up where they run up...\n",
      "136      ariel  what would i give to live where you are? what ...\n",
      "141      ariel  i don't know when i don't know how but i know ...\n",
      "156  sebastian  down here is your home! ariel listen to me. th...\n",
      "157  sebastian  the seaweed is always greener in somebody else...\n",
      "187     triton  contact between the human world and the merwor...\n",
      "396        all  now we can walk, now we can run, now we can st...\n",
      "\n",
      "\n",
      "under the sea\n",
      "       Speaker                                               Text\n",
      "156  sebastian  down here is your home! ariel listen to me. th...\n",
      "157  sebastian  the seaweed is always greener in somebody else...\n",
      "\n",
      "\n",
      "unfortunate\n",
      "    Speaker                                               Text\n",
      "229  ursula  my dear, sweet child. that's what i do it's wh...\n",
      "231  ursula  poor unfortunate souls in pain in need this on...\n",
      "242  ursula  the men up there don't like a lot of blabber t...\n",
      "\n",
      "\n",
      "poissons\n",
      "    Speaker                                               Text\n",
      "278   louis  les poissons les poissons how i love les poiss...\n",
      "\n",
      "\n",
      "kiss the girl\n",
      "       Speaker                                               Text\n",
      "310  sebastian  there you see her sitting there across the way...\n",
      "312  sebastian  yes, you want her look at her, you know you do...\n",
      "316  sebastian  now's your moment floating in a blue lagoon bo...\n",
      "\n",
      "\n"
     ]
    }
   ],
   "source": [
    "for line in l_m_song_words:\n",
    "    print(line)\n",
    "    print(l_m[[\"Speaker\", \"Text\"]][l_m.Text.str.contains(line, regex = False)])\n",
    "    print('\\n')"
   ]
  },
  {
   "cell_type": "code",
   "execution_count": 331,
   "metadata": {},
   "outputs": [
    {
     "name": "stdout",
     "output_type": "stream",
     "text": [
      "i'll tell you a tale of the bottomless blue and it's hey to the starboard, heave ho look out, lad, a mermaid be waitin' for you in mysterious fathoms below. \n",
      "\n",
      "\n",
      "isn't this great? the salty sea air, the wind blowing in your face . . . a perfect day to be at sea! \n",
      "\n",
      "\n",
      "oh yes . . . delightful . . . . \n",
      "\n",
      "\n",
      "a fine strong wind and a following sea. king triton must be in a friendlytype mood. \n",
      "\n",
      "\n",
      "king triton? \n",
      "\n",
      "\n",
      "why, ruler of the merpeople, lad. thought every good sailor knew about him. \n",
      "\n",
      "\n",
      "merpeople! eric, pay no attention to this nautical nonsense. \n",
      "\n",
      "\n",
      "but it ain't nonsense, it's the truth! i'm tellin' you, down in the depths o' the ocean they live. \n",
      "\n",
      "\n",
      "heave. ho. heave, ho. in mysterious fathoms below. \n",
      "\n",
      "\n",
      "ahem . . . his royal highness, king triton! \n",
      "\n",
      "\n"
     ]
    }
   ],
   "source": [
    "#Fathoms Below\n",
    "#just lines 0 and 8\n",
    "for line in l_m.Text.iloc[:10]:\n",
    "    print(line)\n",
    "    print('\\n')"
   ]
  },
  {
   "cell_type": "code",
   "execution_count": 332,
   "metadata": {},
   "outputs": [],
   "source": [
    "l_m_songs = [0,8]"
   ]
  },
  {
   "cell_type": "code",
   "execution_count": 333,
   "metadata": {},
   "outputs": [
    {
     "name": "stdout",
     "output_type": "stream",
     "text": [
      "yes, yes, she has the most beautiful voice. . . . \n",
      "\n",
      "\n",
      "if only she'd show up for rehearsals once in a while. . . . \n",
      "\n",
      "\n",
      "ah, we are the daughters of triton. great father who loves us and named us well aquata, andrina, arista, atina, adella, allana. and then there is the est in her musical debut, our seventh little sister, we're presenting her to you, to sing a song sebastian wrote, her voice is like a bell, she's our sister, ari . . . shell opens to reveal that ariel is absent. \n",
      "\n",
      "\n",
      "ariel!! cut to ariel looking at sunken ship. \n",
      "\n",
      "\n"
     ]
    }
   ],
   "source": [
    "#Daughters of Triton\n",
    "# 16\n",
    "for line in l_m.Text.iloc[14:18]:\n",
    "    print(line)\n",
    "    print('\\n')"
   ]
  },
  {
   "cell_type": "code",
   "execution_count": 334,
   "metadata": {},
   "outputs": [],
   "source": [
    "l_m_songs.append(16)"
   ]
  },
  {
   "cell_type": "code",
   "execution_count": 335,
   "metadata": {},
   "outputs": [
    {
     "name": "stderr",
     "output_type": "stream",
     "text": [
      "c:\\users\\cassi\\appdata\\local\\programs\\python\\python36-32\\lib\\site-packages\\pandas\\core\\indexing.py:189: SettingWithCopyWarning: \n",
      "A value is trying to be set on a copy of a slice from a DataFrame\n",
      "\n",
      "See the caveats in the documentation: http://pandas.pydata.org/pandas-docs/stable/indexing.html#indexing-view-versus-copy\n",
      "  self._setitem_with_indexer(indexer, value)\n",
      "c:\\users\\cassi\\appdata\\local\\programs\\python\\python36-32\\lib\\site-packages\\ipykernel_launcher.py:2: SettingWithCopyWarning: \n",
      "A value is trying to be set on a copy of a slice from a DataFrame\n",
      "\n",
      "See the caveats in the documentation: http://pandas.pydata.org/pandas-docs/stable/indexing.html#indexing-view-versus-copy\n",
      "  \n",
      "c:\\users\\cassi\\appdata\\local\\programs\\python\\python36-32\\lib\\site-packages\\ipykernel_launcher.py:3: SettingWithCopyWarning: \n",
      "A value is trying to be set on a copy of a slice from a DataFrame\n",
      "\n",
      "See the caveats in the documentation: http://pandas.pydata.org/pandas-docs/stable/indexing.html#indexing-view-versus-copy\n",
      "  This is separate from the ipykernel package so we can avoid doing imports until\n"
     ]
    }
   ],
   "source": [
    "#quick edit of these lines\n",
    "l_m.Text.iloc[16] = \"ah, we are the daughters of triton. great father who loves us and named us well aquata, andrina, arista, atina, adella, allana. and then there is the est in her musical debut, our seventh little sister, we're presenting her to you, to sing a song sebastian wrote, her voice is like a bell, she's our sister, ari . . .\"\n",
    "l_m.Text.iloc[17] = 'ariel!!'"
   ]
  },
  {
   "cell_type": "code",
   "execution_count": 339,
   "metadata": {},
   "outputs": [
    {
     "name": "stdout",
     "output_type": "stream",
     "text": [
      "ariel, are you okay? \n",
      "\n",
      "\n",
      "if only i could make him understand. i just don't see things the way he does. i don't see how a world that makes such wonderful things could be bad. \n",
      "\n",
      "\n",
      "look at this stuff isn't it neat? wouldn't you think my collection's complete? wouldn't you think i'm the girl the girl who has ev'rything? look at this trove treasures untold how many wonders can one cavern hold? lookin' around here you'd think sure, she's got everything i've got gadgets and gizmos aplenty i've got whozits and whatzits galore you want thingamabobs? i got twenty but who cares? no big deal i want more i wanna be where the people are i wanna see wanna see 'em dancin' walkin' around on those \n",
      "\n",
      "\n",
      "flippin' your fins you don't get too far legs are required for jumpin', dancin' strollin' along down a \n",
      "\n",
      "\n",
      "street up where they walk up where they run up where they stay all day in the sun wanderin' free wish i could be part of that world what would i give if i could live outta these waters? what would i pay to spend a day warm on the sand? betcha on land they understand bet they don't reprimand their daughters bright women sick o' swimmin' ready to stand and ready to know what the people know ask 'em my questions and get some answers what's a fire and why does it what's the word? burn? when's it my turn? wouldn't i love love to explore that shore above? out of the sea wish i could be part of that world sebastian has been struggling around and now comes crashing down making a lot of noise. \n",
      "\n",
      "\n",
      "sebastian!? \n",
      "\n",
      "\n"
     ]
    }
   ],
   "source": [
    "# Part of Your World\n",
    "#96, 97, 98\n",
    "for line in l_m.Text.iloc[94:100]:\n",
    "    print(line)\n",
    "    print('\\n')"
   ]
  },
  {
   "cell_type": "code",
   "execution_count": 341,
   "metadata": {},
   "outputs": [
    {
     "name": "stderr",
     "output_type": "stream",
     "text": [
      "c:\\users\\cassi\\appdata\\local\\programs\\python\\python36-32\\lib\\site-packages\\ipykernel_launcher.py:2: SettingWithCopyWarning: \n",
      "A value is trying to be set on a copy of a slice from a DataFrame\n",
      "\n",
      "See the caveats in the documentation: http://pandas.pydata.org/pandas-docs/stable/indexing.html#indexing-view-versus-copy\n",
      "  \n"
     ]
    }
   ],
   "source": [
    "#quick edit of 98\n",
    "l_m.Text.iloc[98] = \"street up where they walk up where they run up where they stay all day in the sun wanderin' free wish i could be part of that world what would i give if i could live outta these waters? what would i pay to spend a day warm on the sand? betcha on land they understand bet they don't reprimand their daughters bright women sick o' swimmin' ready to stand and ready to know what the people know ask 'em my questions and get some answers what's a fire and why does it what's the word? burn? when's it my turn? wouldn't i love love to explore that shore above? out of the sea wish i could be part of that world.\""
   ]
  },
  {
   "cell_type": "code",
   "execution_count": 342,
   "metadata": {},
   "outputs": [],
   "source": [
    "l_m_songs.extend([96, 97, 98])"
   ]
  },
  {
   "cell_type": "code",
   "execution_count": 344,
   "metadata": {},
   "outputs": [
    {
     "name": "stdout",
     "output_type": "stream",
     "text": [
      "is he dead? \n",
      "\n",
      "\n",
      "it's hard to say. \n",
      "\n",
      "\n",
      "no, look! he's breathing. he's so, beautiful. \n",
      "\n",
      "\n",
      "what would i give to live where you are? what would i pay to stay here beside you? what would i do to see you smiling at me? where would we walk? where would we run? if we could stay all day in the sun? just you and me and i could be part of your world sebastian and flounder have washed up and are watching scene. max and grimsby approach. ariel hurries away. \n",
      "\n",
      "\n",
      "eric! oh, eric. you really delight in these sadistic strains on my blood pressure, don't you? \n",
      "\n",
      "\n",
      "a girl rescued me. . . . she was singing . . . she had the most beautiful voice. \n",
      "\n",
      "\n",
      "ah, eric, i think you've swallowed a bit too much seawater. off we go. come on, max. \n",
      "\n",
      "\n",
      "we just gotta forget this whole thing ever happened. the sea king will never know. you won't tell him, i won't tell him. i will stay in one piece. \n",
      "\n",
      "\n",
      "i don't know when i don't know how but i know something's starting right now watch and you'll see some day i'll be part of your world \n",
      "\n",
      "\n",
      "oh, no, no, no, no, no, no. i can't stand it it's too easy. the child is in love with a human. and not just any human a prince! her daddy'll love that. king triton's headstrong, lovesick girl would make a charming addition to my little garden. \n",
      "\n",
      "\n",
      "ariel, dear, time to come out. you've been in there all morning. \n",
      "\n",
      "\n",
      "what is with her lately? \n",
      "\n",
      "\n",
      "morning, daddy. \n",
      "\n",
      "\n",
      "oh, she's got it bad. \n",
      "\n",
      "\n",
      "what? what has she got? \n",
      "\n",
      "\n",
      "isn't it obvious, daddy? ariel's in love. \n",
      "\n",
      "\n",
      "ariel? in love? \n",
      "\n",
      "\n"
     ]
    }
   ],
   "source": [
    "#Part of Your World Reprise\n",
    "#136, 141\n",
    "for line in l_m.Text.iloc[133:150]:\n",
    "    print(line)\n",
    "    print('\\n')"
   ]
  },
  {
   "cell_type": "code",
   "execution_count": 346,
   "metadata": {},
   "outputs": [
    {
     "name": "stderr",
     "output_type": "stream",
     "text": [
      "c:\\users\\cassi\\appdata\\local\\programs\\python\\python36-32\\lib\\site-packages\\pandas\\core\\indexing.py:189: SettingWithCopyWarning: \n",
      "A value is trying to be set on a copy of a slice from a DataFrame\n",
      "\n",
      "See the caveats in the documentation: http://pandas.pydata.org/pandas-docs/stable/indexing.html#indexing-view-versus-copy\n",
      "  self._setitem_with_indexer(indexer, value)\n",
      "c:\\users\\cassi\\appdata\\local\\programs\\python\\python36-32\\lib\\site-packages\\ipykernel_launcher.py:2: SettingWithCopyWarning: \n",
      "A value is trying to be set on a copy of a slice from a DataFrame\n",
      "\n",
      "See the caveats in the documentation: http://pandas.pydata.org/pandas-docs/stable/indexing.html#indexing-view-versus-copy\n",
      "  \n"
     ]
    }
   ],
   "source": [
    "#quick edit to 136\n",
    "l_m.Text.iloc[136] = \"what would i give to live where you are? what would i pay to stay here beside you? what would i do to see you smiling at me? where would we walk? where would we run? if we could stay all day in the sun? just you and me and i could be part of your world.\""
   ]
  },
  {
   "cell_type": "code",
   "execution_count": 347,
   "metadata": {},
   "outputs": [],
   "source": [
    "l_m_songs.extend([136, 141])"
   ]
  },
  {
   "cell_type": "code",
   "execution_count": 349,
   "metadata": {},
   "outputs": [
    {
     "name": "stdout",
     "output_type": "stream",
     "text": [
      "i'll swim up to his castle. then flounder will splash around to get his attention, and then with \n",
      "\n",
      "\n",
      "down here is your home! ariel listen to me. the human world it's a mess. life under the sea is better than anything they got up there. \n",
      "\n",
      "\n",
      "the seaweed is always greener in somebody else's lake you dream about going up there but that is a big mistake just look at the world around you right here on the ocean floor such wonderful things surround you what more is you lookin' for? under the sea under the sea darling it's better down where it's wetter take it from me up on the shore they work all day out in the sun they slave away while we devotin' full time to floatin' under the sea down here all the fish is happy as off through the waves they roll the fish on the land ain't happy they sad 'cause they in their bowl but fish in the bowl is lucky they in for a worser fate one day when the boss get hungry guess who's gon' be on the plate under the sea under the sea nobody beat us fry us and eat us in fricassee we what the land folks loves to cook under the sea we off the hook we got no troubles life is the bubbles under the sea under the sea since life is sweet here we got the beat here naturally even the sturgeon an' the ray they get the urge 'n' start to play we got the spirit you got to hear it under the sea the newt play the flute the carp play the harp the plaice play the bass and they soundin' sharp the bass play the brass the chub play the tub the fluke is the duke of soul yeah the ray he can play the lings on the strings the trout rockin' out the blackfish she sings the smelt and the sprat they know where it's at an' oh that blowfish blow under the sea under the sea when the sardine begin the beguine it's music to me what do they got? a lot of sand we got a hot crustacean band each little clam here know how to jam here under the sea each little slug here cuttin' a rug here under the sea each little snail here know how to wail here that's why it's hotter under the water ya we in luck here down in the muck here under the sea \n",
      "\n",
      "\n",
      "ariel? ariel? oh . . . somebody's got to nail that girl's fins to the floor. \n",
      "\n",
      "\n",
      "sebastian! sebastian, i've been looking all over for you. i've got an urgent message from the sea king. \n",
      "\n",
      "\n"
     ]
    }
   ],
   "source": [
    "#Under the Sea\n",
    "#157\n",
    "for line in l_m.Text.iloc[155:160]:\n",
    "    print(line)\n",
    "    print('\\n')"
   ]
  },
  {
   "cell_type": "code",
   "execution_count": 350,
   "metadata": {},
   "outputs": [],
   "source": [
    "l_m_songs.append(157)"
   ]
  },
  {
   "cell_type": "code",
   "execution_count": 353,
   "metadata": {},
   "outputs": [
    {
     "name": "stdout",
     "output_type": "stream",
     "text": [
      "can you do that? \n",
      "\n",
      "\n",
      "my dear, sweet child. that's what i do it's what i live for. to help unfortunate merfolk like yourself. poor souls with no one else to turn to. \n",
      "\n",
      "\n",
      "i admit that in the past i've been a nasty they weren't kidding when they called me, well, a witch but you'll find that nowadays i've mended all my ways repented, seen the light and made a switch true? yes and i fortunately know a little magic it's a talent that i always have possessed and here lately, please don't laugh i use it on behalf of the miserable, lonely and depressed \n",
      "\n",
      "\n",
      "poor unfortunate souls in pain in need this one longing to be thinner that one wants to get the girl and do i help them? yes, indeed those poor unfortunate souls so sad so true they come flocking to my cauldron crying, \"spells, ursula please!\" and i help them? yes, i do now it's happened once or twice someone couldn't pay the price and i'm afraid i had to rake 'em 'cross the coals yes, i've had the odd complaint but on the whole i've been a saint to those poor unfortunate souls now, here's the deal. i will make you a potion that will turn you into a human for three days. got that? three days. now listen, this is important. before the sun sets on the third day, you've got to get dear ol' princey to fall in love with you. that is, he's got to kiss you. not just any kiss the kiss of true love. if he does kiss you before the sun sets on the third day, you'll remain human, permanently, but if he doesn't, you turn back into a mermaid, and you belong to me. \n",
      "\n",
      "\n",
      "no ariel! \n",
      "\n",
      "\n",
      "have we got a deal? \n",
      "\n",
      "\n",
      "if i become human, i'll never be with my father or sisters again. \n",
      "\n",
      "\n",
      "that's right. . . . but you'll have your man. life's full of tough choices, innit? oh and there is one more thing. we haven't discussed the subject of payment. you can't get something for nothing, you know. \n",
      "\n",
      "\n",
      "but i don't have any \n",
      "\n",
      "\n",
      "i'm not asking much. just a token, really, a trifle. you'll never even miss it. what i want from you is . . . your voice. \n",
      "\n",
      "\n",
      "my voice? \n",
      "\n",
      "\n",
      "you've got it, sweetcakes. no more talking, singing, zip. \n",
      "\n",
      "\n",
      "but without my voice, how can i \n",
      "\n",
      "\n",
      "you'll have your looks! your pretty face! and don't underestimate the importance of body language! ha! \n",
      "\n",
      "\n",
      "the men up there don't like a lot of blabber they think a girl who gossips is a bore yes, on land it's much preferred for ladies not to say a word and after all, dear, what is idle prattle for? come on, they're not all that impressed with conversation true gentlemen avoid it when they can but they dote and swoon and fawn on a lady who's withdrawn it's she who holds her tongue who gets her man come on, you poor unfortunate soul go ahead! make your choice! i'm a very busy woman and i haven't got all day it won't cost much just your voice! you poor unfortunate soul it's sad but true if you want to cross a bridge, my sweet you've got to pay the toll take a gulp and take a breath and go ahead and sign the scroll! flotsam, jetsam, now i've got her, boys the boss is on a roll this poor unfortunate soul. \n",
      "\n",
      "\n",
      "paluga, sarruga, come winds of the caspian sea. now rings us glossitis and max laryngitis, la voce to me! now . . . sing! \n",
      "\n",
      "\n",
      "keep singing! \n",
      "\n",
      "\n",
      "fade to beach. eric and max are walking near castle. \n",
      "\n",
      "\n"
     ]
    }
   ],
   "source": [
    "#Poor Unfortunate Souls\n",
    "#230, 231, 242, 243\n",
    "for line in l_m.Text.iloc[228:246]:\n",
    "    print(line)\n",
    "    print('\\n')"
   ]
  },
  {
   "cell_type": "code",
   "execution_count": 355,
   "metadata": {},
   "outputs": [],
   "source": [
    "l_m_songs.extend([230, 231, 242, 243])"
   ]
  },
  {
   "cell_type": "code",
   "execution_count": 358,
   "metadata": {},
   "outputs": [
    {
     "name": "stdout",
     "output_type": "stream",
     "text": [
      "oooh, you're gonna love it. chef's been fixing his specialty, stuffed crab. \n",
      "\n",
      "\n",
      "les poissons les poissons how i love les poissons love to chop and to serve little fish first i cut off their heads then i pull out the bones ah mais oui ca c'est toujours delish les poissons les poissons hee hee hee hah hah hah with the cleaver i hack them in two i pull out what's inside and i serve it up fried god, i love little fishes don't you? here's something for tempting the palate prepared in the classic technique first you pound the fish flat with a mallet then you slash through the skin give the belly a slice then you rub some salt in 'cause that makes it taste nice zut alors, i have missed one! sacre bleu what is this? how on earth could i miss such a sweet little succulent crab? quel dommage what a loss here we go in the sauce now some flour, i think just a dab now i stuff you with bread it don't hurt 'cause you're dead and you're certainly lucky you are 'cause it's gonna be hot in my big silver pot toodle loo mon poisson au revoir! \n",
      "\n",
      "\n",
      "what is this? \n",
      "\n",
      "\n",
      "cut to dining room. huge crash is heard. \n",
      "\n",
      "\n",
      "i think i'd better go see what louis is up to. back to kitchen. louis is trashing the place. \n",
      "\n",
      "\n",
      "come out you little pipsqueak and fight like a man! \n",
      "\n",
      "\n"
     ]
    }
   ],
   "source": [
    "#Les Poissons\n",
    "#278\n",
    "for line in l_m.Text.iloc[277:283]:\n",
    "    print(line)\n",
    "    print('\\n')"
   ]
  },
  {
   "cell_type": "code",
   "execution_count": 360,
   "metadata": {},
   "outputs": [],
   "source": [
    "l_m_songs.append(278)"
   ]
  },
  {
   "cell_type": "code",
   "execution_count": 365,
   "metadata": {},
   "outputs": [
    {
     "name": "stderr",
     "output_type": "stream",
     "text": [
      "c:\\users\\cassi\\appdata\\local\\programs\\python\\python36-32\\lib\\site-packages\\ipykernel_launcher.py:1: SettingWithCopyWarning: \n",
      "A value is trying to be set on a copy of a slice from a DataFrame\n",
      "\n",
      "See the caveats in the documentation: http://pandas.pydata.org/pandas-docs/stable/indexing.html#indexing-view-versus-copy\n",
      "  \"\"\"Entry point for launching an IPython kernel.\n"
     ]
    }
   ],
   "source": [
    "l_m.Text.iloc[281] = \"i think i'd better go see what louis is up to.\""
   ]
  },
  {
   "cell_type": "code",
   "execution_count": 366,
   "metadata": {},
   "outputs": [
    {
     "name": "stdout",
     "output_type": "stream",
     "text": [
      "jeez, man, i'm surrounded by amateurs! you want something done, you've got to do it yourself. first, we got to create the mood. percussion. . . . strings. . . . winds. . . . words. . . . \n",
      "\n",
      "\n",
      "there you see her sitting there across the way she don't got a lot to say but there's something about her and you don't know why but you're dying to try you wanna kiss the girl \n",
      "\n",
      "\n",
      "did you hear something? \n",
      "\n",
      "\n",
      "yes, you want her look at her, you know you do possible she wants you too there is one way to ask her it don't take a word not a single word go on and kiss the girl sha la la la la la my oh my look like the boy too shy ain't gonna kiss the girl sha la la la la la ain't that sad? ain't it a shame? too bad, he gonna miss the girl \n",
      "\n",
      "\n",
      "you know, i feel really bad not knowing your name. heh maybe i could guess. is it, err, mildred? o.k., no. how 'bout diana? rachel? \n",
      "\n",
      "\n",
      "ariel. her name is ariel. \n",
      "\n",
      "\n",
      "ariel? ariel? well, that's kinda pretty. o.k. ariel. . . \n",
      "\n",
      "\n",
      "now's your moment floating in a blue lagoon boy you better do it soon no time will be better she don't say a word and she won't say a word until you kiss the girl sha la la la la la don't be scared you got the mood prepared go on and kiss the girl sha la la la la la don't stop now don't try to hide it how you want to kiss the girl sha la la la la la float along and listen to the song the song say kiss the girl sha la la la la the music play do what the music say you got to kiss the girl you've got to kiss the girl you wanna kiss the girl you've gotta kiss the girl go on and kiss the girl the boat tips over. \n",
      "\n",
      "\n",
      "whoa, hang on i've gotcha. \n",
      "\n",
      "\n"
     ]
    }
   ],
   "source": [
    "#Kiss the Girl\n",
    "#310, 312, 316\n",
    "for line in l_m.Text.iloc[309:318]:\n",
    "    print(line)\n",
    "    print('\\n')"
   ]
  },
  {
   "cell_type": "code",
   "execution_count": 367,
   "metadata": {},
   "outputs": [],
   "source": [
    "l_m_songs.extend([310, 312, 316])"
   ]
  },
  {
   "cell_type": "code",
   "execution_count": 369,
   "metadata": {},
   "outputs": [
    {
     "name": "stderr",
     "output_type": "stream",
     "text": [
      "c:\\users\\cassi\\appdata\\local\\programs\\python\\python36-32\\lib\\site-packages\\ipykernel_launcher.py:1: SettingWithCopyWarning: \n",
      "A value is trying to be set on a copy of a slice from a DataFrame\n",
      "\n",
      "See the caveats in the documentation: http://pandas.pydata.org/pandas-docs/stable/indexing.html#indexing-view-versus-copy\n",
      "  \"\"\"Entry point for launching an IPython kernel.\n"
     ]
    }
   ],
   "source": [
    "l_m.Text.iloc[316] = \"now's your moment floating in a blue lagoon boy you better do it soon no time will be better she don't say a word and she won't say a word until you kiss the girl sha la la la la la don't be scared you got the mood prepared go on and kiss the girl sha la la la la la don't stop now don't try to hide it how you want to kiss the girl sha la la la la la float along and listen to the song the song say kiss the girl sha la la la la the music play do what the music say you got to kiss the girl you've got to kiss the girl you wanna kiss the girl you've gotta kiss the girl go on and kiss the girl.\""
   ]
  },
  {
   "cell_type": "code",
   "execution_count": 370,
   "metadata": {},
   "outputs": [
    {
     "data": {
      "text/html": [
       "<div>\n",
       "<style scoped>\n",
       "    .dataframe tbody tr th:only-of-type {\n",
       "        vertical-align: middle;\n",
       "    }\n",
       "\n",
       "    .dataframe tbody tr th {\n",
       "        vertical-align: top;\n",
       "    }\n",
       "\n",
       "    .dataframe thead th {\n",
       "        text-align: right;\n",
       "    }\n",
       "</style>\n",
       "<table border=\"1\" class=\"dataframe\">\n",
       "  <thead>\n",
       "    <tr style=\"text-align: right;\">\n",
       "      <th></th>\n",
       "      <th>Speaker</th>\n",
       "      <th>Text</th>\n",
       "    </tr>\n",
       "  </thead>\n",
       "  <tbody>\n",
       "    <tr>\n",
       "      <th>396</th>\n",
       "      <td>all</td>\n",
       "      <td>now we can walk, now we can run, now we can st...</td>\n",
       "    </tr>\n",
       "  </tbody>\n",
       "</table>\n",
       "</div>"
      ],
      "text/plain": [
       "    Speaker                                               Text\n",
       "396     all  now we can walk, now we can run, now we can st..."
      ]
     },
     "execution_count": 370,
     "metadata": {},
     "output_type": "execute_result"
    }
   ],
   "source": [
    "# Final reprise: earlier, you can see it's sung by \"all\"\n",
    "l_m[[\"Speaker\", \"Text\"]][l_m.Speaker == 'all']"
   ]
  },
  {
   "cell_type": "code",
   "execution_count": 371,
   "metadata": {},
   "outputs": [
    {
     "data": {
      "text/plain": [
       "'now we can walk, now we can run, now we can stay all day in the sun. just you and me, and i can be, part of your world. '"
      ]
     },
     "execution_count": 371,
     "metadata": {},
     "output_type": "execute_result"
    }
   ],
   "source": [
    "l_m.Text[396]"
   ]
  },
  {
   "cell_type": "code",
   "execution_count": 372,
   "metadata": {},
   "outputs": [],
   "source": [
    "l_m_songs.append(396)"
   ]
  },
  {
   "cell_type": "code",
   "execution_count": 374,
   "metadata": {},
   "outputs": [
    {
     "name": "stdout",
     "output_type": "stream",
     "text": [
      "Pretty printing has been turned OFF\n"
     ]
    }
   ],
   "source": [
    "%pprint"
   ]
  },
  {
   "cell_type": "code",
   "execution_count": 375,
   "metadata": {},
   "outputs": [
    {
     "data": {
      "text/plain": [
       "[0, 8, 16, 96, 97, 98, 136, 141, 157, 230, 231, 242, 243, 278, 310, 312, 316, 396]"
      ]
     },
     "execution_count": 375,
     "metadata": {},
     "output_type": "execute_result"
    }
   ],
   "source": [
    "#labeling songs\n",
    "l_m_songs"
   ]
  },
  {
   "cell_type": "code",
   "execution_count": 376,
   "metadata": {},
   "outputs": [
    {
     "name": "stderr",
     "output_type": "stream",
     "text": [
      "c:\\users\\cassi\\appdata\\local\\programs\\python\\python36-32\\lib\\site-packages\\ipykernel_launcher.py:2: SettingWithCopyWarning: \n",
      "A value is trying to be set on a copy of a slice from a DataFrame.\n",
      "Try using .loc[row_indexer,col_indexer] = value instead\n",
      "\n",
      "See the caveats in the documentation: http://pandas.pydata.org/pandas-docs/stable/indexing.html#indexing-view-versus-copy\n",
      "  \n"
     ]
    }
   ],
   "source": [
    "song_func = partial(is_dialogue, song=l_m_songs)\n",
    "l_m[\"Song\"] = l_m.index.map(song_func)"
   ]
  },
  {
   "cell_type": "code",
   "execution_count": 377,
   "metadata": {},
   "outputs": [
    {
     "name": "stdout",
     "output_type": "stream",
     "text": [
      "<class 'pandas.core.frame.DataFrame'>\n",
      "RangeIndex: 397 entries, 0 to 396\n",
      "Data columns (total 11 columns):\n",
      "Disney_Period       397 non-null object\n",
      "Gender              397 non-null object\n",
      "Movie               397 non-null object\n",
      "Role                397 non-null object\n",
      "Song                397 non-null object\n",
      "Speaker             397 non-null object\n",
      "Speaker_Status      397 non-null object\n",
      "Start_Scene         0 non-null object\n",
      "Text                397 non-null object\n",
      "UTTERANCE_NUMBER    397 non-null int64\n",
      "Year                397 non-null int64\n",
      "dtypes: int64(2), object(9)\n",
      "memory usage: 20.2+ KB\n"
     ]
    }
   ],
   "source": [
    "l_m.info() #no null's in the categories we modified"
   ]
  },
  {
   "cell_type": "code",
   "execution_count": 378,
   "metadata": {},
   "outputs": [
    {
     "data": {
      "text/html": [
       "<div>\n",
       "<style scoped>\n",
       "    .dataframe tbody tr th:only-of-type {\n",
       "        vertical-align: middle;\n",
       "    }\n",
       "\n",
       "    .dataframe tbody tr th {\n",
       "        vertical-align: top;\n",
       "    }\n",
       "\n",
       "    .dataframe thead th {\n",
       "        text-align: right;\n",
       "    }\n",
       "</style>\n",
       "<table border=\"1\" class=\"dataframe\">\n",
       "  <thead>\n",
       "    <tr style=\"text-align: right;\">\n",
       "      <th></th>\n",
       "      <th>Disney_Period</th>\n",
       "      <th>Gender</th>\n",
       "      <th>Movie</th>\n",
       "      <th>Role</th>\n",
       "      <th>Song</th>\n",
       "      <th>Speaker</th>\n",
       "      <th>Speaker_Status</th>\n",
       "      <th>Start_Scene</th>\n",
       "      <th>Text</th>\n",
       "      <th>UTTERANCE_NUMBER</th>\n",
       "      <th>Year</th>\n",
       "    </tr>\n",
       "  </thead>\n",
       "  <tbody>\n",
       "    <tr>\n",
       "      <th>212</th>\n",
       "      <td>MID</td>\n",
       "      <td>m</td>\n",
       "      <td>The Little Mermaid</td>\n",
       "      <td>ANT</td>\n",
       "      <td>D</td>\n",
       "      <td>jetsam</td>\n",
       "      <td>NON-P</td>\n",
       "      <td>NaN</td>\n",
       "      <td>ursula has great powers</td>\n",
       "      <td>213</td>\n",
       "      <td>1989</td>\n",
       "    </tr>\n",
       "    <tr>\n",
       "      <th>194</th>\n",
       "      <td>MID</td>\n",
       "      <td>f</td>\n",
       "      <td>The Little Mermaid</td>\n",
       "      <td>PRO</td>\n",
       "      <td>D</td>\n",
       "      <td>ariel</td>\n",
       "      <td>PRINCESS</td>\n",
       "      <td>NaN</td>\n",
       "      <td>i don't care.</td>\n",
       "      <td>195</td>\n",
       "      <td>1989</td>\n",
       "    </tr>\n",
       "    <tr>\n",
       "      <th>219</th>\n",
       "      <td>MID</td>\n",
       "      <td>m</td>\n",
       "      <td>The Little Mermaid</td>\n",
       "      <td>HELPER</td>\n",
       "      <td>D</td>\n",
       "      <td>sebastian</td>\n",
       "      <td>NON-P</td>\n",
       "      <td>NaN</td>\n",
       "      <td>i didn't mean to tell, it was an accident.</td>\n",
       "      <td>220</td>\n",
       "      <td>1989</td>\n",
       "    </tr>\n",
       "    <tr>\n",
       "      <th>30</th>\n",
       "      <td>MID</td>\n",
       "      <td>f</td>\n",
       "      <td>The Little Mermaid</td>\n",
       "      <td>PRO</td>\n",
       "      <td>D</td>\n",
       "      <td>ariel</td>\n",
       "      <td>PRINCESS</td>\n",
       "      <td>NaN</td>\n",
       "      <td>flounder, don't be such a guppy.</td>\n",
       "      <td>31</td>\n",
       "      <td>1989</td>\n",
       "    </tr>\n",
       "    <tr>\n",
       "      <th>335</th>\n",
       "      <td>MID</td>\n",
       "      <td>m</td>\n",
       "      <td>The Little Mermaid</td>\n",
       "      <td>HELPER</td>\n",
       "      <td>D</td>\n",
       "      <td>sebastian</td>\n",
       "      <td>NON-P</td>\n",
       "      <td>NaN</td>\n",
       "      <td>ariel, grab on to that. flounder, get her to t...</td>\n",
       "      <td>336</td>\n",
       "      <td>1989</td>\n",
       "    </tr>\n",
       "  </tbody>\n",
       "</table>\n",
       "</div>"
      ],
      "text/plain": [
       "    Disney_Period Gender               Movie    Role Song    Speaker  \\\n",
       "212           MID      m  The Little Mermaid     ANT    D     jetsam   \n",
       "194           MID      f  The Little Mermaid     PRO    D      ariel   \n",
       "219           MID      m  The Little Mermaid  HELPER    D  sebastian   \n",
       "30            MID      f  The Little Mermaid     PRO    D      ariel   \n",
       "335           MID      m  The Little Mermaid  HELPER    D  sebastian   \n",
       "\n",
       "    Speaker_Status Start_Scene  \\\n",
       "212          NON-P         NaN   \n",
       "194       PRINCESS         NaN   \n",
       "219          NON-P         NaN   \n",
       "30        PRINCESS         NaN   \n",
       "335          NON-P         NaN   \n",
       "\n",
       "                                                  Text  UTTERANCE_NUMBER  Year  \n",
       "212                           ursula has great powers                213  1989  \n",
       "194                                     i don't care.                195  1989  \n",
       "219        i didn't mean to tell, it was an accident.                220  1989  \n",
       "30                   flounder, don't be such a guppy.                 31  1989  \n",
       "335  ariel, grab on to that. flounder, get her to t...               336  1989  "
      ]
     },
     "execution_count": 378,
     "metadata": {},
     "output_type": "execute_result"
    }
   ],
   "source": [
    "l_m.sample(5)"
   ]
  },
  {
   "cell_type": "code",
   "execution_count": 379,
   "metadata": {},
   "outputs": [
    {
     "data": {
      "text/plain": [
       "'fade to beach. eric and max are walking near castle. '"
      ]
     },
     "execution_count": 379,
     "metadata": {},
     "output_type": "execute_result"
    }
   ],
   "source": [
    "#Some fake lines: 245, 280\n",
    "l_m.Text.iloc[245]"
   ]
  },
  {
   "cell_type": "code",
   "execution_count": 380,
   "metadata": {},
   "outputs": [],
   "source": [
    "def cut_line(dataframe, index_num):\n",
    "    dataframe.drop(index = index_num, inplace = True)"
   ]
  },
  {
   "cell_type": "code",
   "execution_count": 382,
   "metadata": {},
   "outputs": [
    {
     "name": "stderr",
     "output_type": "stream",
     "text": [
      "c:\\users\\cassi\\appdata\\local\\programs\\python\\python36-32\\lib\\site-packages\\pandas\\core\\frame.py:3697: SettingWithCopyWarning: \n",
      "A value is trying to be set on a copy of a slice from a DataFrame\n",
      "\n",
      "See the caveats in the documentation: http://pandas.pydata.org/pandas-docs/stable/indexing.html#indexing-view-versus-copy\n",
      "  errors=errors)\n"
     ]
    }
   ],
   "source": [
    "cut_line(l_m, 245)"
   ]
  },
  {
   "cell_type": "code",
   "execution_count": 383,
   "metadata": {},
   "outputs": [
    {
     "data": {
      "text/html": [
       "<div>\n",
       "<style scoped>\n",
       "    .dataframe tbody tr th:only-of-type {\n",
       "        vertical-align: middle;\n",
       "    }\n",
       "\n",
       "    .dataframe tbody tr th {\n",
       "        vertical-align: top;\n",
       "    }\n",
       "\n",
       "    .dataframe thead th {\n",
       "        text-align: right;\n",
       "    }\n",
       "</style>\n",
       "<table border=\"1\" class=\"dataframe\">\n",
       "  <thead>\n",
       "    <tr style=\"text-align: right;\">\n",
       "      <th></th>\n",
       "      <th>Speaker</th>\n",
       "      <th>Text</th>\n",
       "    </tr>\n",
       "  </thead>\n",
       "  <tbody>\n",
       "    <tr>\n",
       "      <th>244</th>\n",
       "      <td>ursula</td>\n",
       "      <td>keep singing!</td>\n",
       "    </tr>\n",
       "    <tr>\n",
       "      <th>246</th>\n",
       "      <td>eric</td>\n",
       "      <td>that voice. i can't get it out of my head. i'v...</td>\n",
       "    </tr>\n",
       "    <tr>\n",
       "      <th>247</th>\n",
       "      <td>scuttle</td>\n",
       "      <td>well, look at what the catfish dragged in! loo...</td>\n",
       "    </tr>\n",
       "  </tbody>\n",
       "</table>\n",
       "</div>"
      ],
      "text/plain": [
       "     Speaker                                               Text\n",
       "244   ursula                                     keep singing! \n",
       "246     eric  that voice. i can't get it out of my head. i'v...\n",
       "247  scuttle  well, look at what the catfish dragged in! loo..."
      ]
     },
     "execution_count": 383,
     "metadata": {},
     "output_type": "execute_result"
    }
   ],
   "source": [
    "l_m[[\"Speaker\", \"Text\"]].iloc[244:247]"
   ]
  },
  {
   "cell_type": "code",
   "execution_count": 384,
   "metadata": {},
   "outputs": [],
   "source": [
    "cut_line(l_m, 280)"
   ]
  },
  {
   "cell_type": "code",
   "execution_count": 386,
   "metadata": {},
   "outputs": [
    {
     "data": {
      "text/html": [
       "<div>\n",
       "<style scoped>\n",
       "    .dataframe tbody tr th:only-of-type {\n",
       "        vertical-align: middle;\n",
       "    }\n",
       "\n",
       "    .dataframe tbody tr th {\n",
       "        vertical-align: top;\n",
       "    }\n",
       "\n",
       "    .dataframe thead th {\n",
       "        text-align: right;\n",
       "    }\n",
       "</style>\n",
       "<table border=\"1\" class=\"dataframe\">\n",
       "  <thead>\n",
       "    <tr style=\"text-align: right;\">\n",
       "      <th></th>\n",
       "      <th>Speaker</th>\n",
       "      <th>Text</th>\n",
       "    </tr>\n",
       "  </thead>\n",
       "  <tbody>\n",
       "    <tr>\n",
       "      <th>279</th>\n",
       "      <td>louis</td>\n",
       "      <td>what is this?</td>\n",
       "    </tr>\n",
       "    <tr>\n",
       "      <th>281</th>\n",
       "      <td>carlotta</td>\n",
       "      <td>i think i'd better go see what louis is up to.</td>\n",
       "    </tr>\n",
       "    <tr>\n",
       "      <th>282</th>\n",
       "      <td>louis</td>\n",
       "      <td>come out you little pipsqueak and fight like a...</td>\n",
       "    </tr>\n",
       "    <tr>\n",
       "      <th>283</th>\n",
       "      <td>carlotta</td>\n",
       "      <td>louis! what are you doing?</td>\n",
       "    </tr>\n",
       "  </tbody>\n",
       "</table>\n",
       "</div>"
      ],
      "text/plain": [
       "      Speaker                                               Text\n",
       "279     louis                                     what is this? \n",
       "281  carlotta     i think i'd better go see what louis is up to.\n",
       "282     louis  come out you little pipsqueak and fight like a...\n",
       "283  carlotta                        louis! what are you doing? "
      ]
     },
     "execution_count": 386,
     "metadata": {},
     "output_type": "execute_result"
    }
   ],
   "source": [
    "l_m[[\"Speaker\", \"Text\"]].iloc[278:282]"
   ]
  },
  {
   "cell_type": "code",
   "execution_count": 387,
   "metadata": {},
   "outputs": [],
   "source": [
    "l_m.reset_index(drop=True, inplace=True)"
   ]
  },
  {
   "cell_type": "markdown",
   "metadata": {},
   "source": [
    "## Aladdin"
   ]
  },
  {
   "cell_type": "markdown",
   "metadata": {},
   "source": [
    "## Beauty and the Beast"
   ]
  },
  {
   "cell_type": "markdown",
   "metadata": {},
   "source": [
    "## Pocahontas"
   ]
  },
  {
   "cell_type": "markdown",
   "metadata": {},
   "source": [
    "## Mulan"
   ]
  },
  {
   "cell_type": "markdown",
   "metadata": {},
   "source": [
    "## Princess and the Frog"
   ]
  },
  {
   "cell_type": "markdown",
   "metadata": {},
   "source": [
    "## Tangled"
   ]
  },
  {
   "cell_type": "markdown",
   "metadata": {},
   "source": [
    "## Brave"
   ]
  },
  {
   "cell_type": "markdown",
   "metadata": {},
   "source": [
    "## Frozen"
   ]
  },
  {
   "cell_type": "code",
   "execution_count": null,
   "metadata": {},
   "outputs": [],
   "source": []
  }
 ],
 "metadata": {
  "kernelspec": {
   "display_name": "Python 3",
   "language": "python",
   "name": "python3"
  },
  "language_info": {
   "codemirror_mode": {
    "name": "ipython",
    "version": 3
   },
   "file_extension": ".py",
   "mimetype": "text/x-python",
   "name": "python",
   "nbconvert_exporter": "python",
   "pygments_lexer": "ipython3",
   "version": "3.6.4"
  }
 },
 "nbformat": 4,
 "nbformat_minor": 2
}
