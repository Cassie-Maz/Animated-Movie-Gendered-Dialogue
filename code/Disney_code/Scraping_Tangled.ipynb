{
 "cells": [
  {
   "cell_type": "markdown",
   "metadata": {},
   "source": [
    "NEW CONTINUING: after [finding errors](https://github.com/Data-Science-for-Linguists-2019/Animated-Movie-Gendered-Dialogue/blob/master/code/Disney_code/Messy_Disney_Movies.ipynb) in Tangled and Frozen, I attempt using BS4.\n",
    "\n",
    "## An Attempt at Web Scraping"
   ]
  },
  {
   "cell_type": "code",
   "execution_count": 1,
   "metadata": {},
   "outputs": [],
   "source": [
    "from bs4 import BeautifulSoup"
   ]
  },
  {
   "cell_type": "code",
   "execution_count": 2,
   "metadata": {},
   "outputs": [],
   "source": [
    "import re"
   ]
  },
  {
   "cell_type": "code",
   "execution_count": 3,
   "metadata": {},
   "outputs": [],
   "source": [
    "import requests"
   ]
  },
  {
   "cell_type": "code",
   "execution_count": 4,
   "metadata": {},
   "outputs": [],
   "source": [
    "link = \"https://imeldasanders123.wordpress.com/disney-tangled-script/\""
   ]
  },
  {
   "cell_type": "code",
   "execution_count": 5,
   "metadata": {},
   "outputs": [],
   "source": [
    "page_response = requests.get(link, timeout=5)"
   ]
  },
  {
   "cell_type": "code",
   "execution_count": 6,
   "metadata": {},
   "outputs": [
    {
     "data": {
      "text/plain": [
       "<Response [200]>"
      ]
     },
     "execution_count": 6,
     "metadata": {},
     "output_type": "execute_result"
    }
   ],
   "source": [
    "page_response"
   ]
  },
  {
   "cell_type": "code",
   "execution_count": 7,
   "metadata": {},
   "outputs": [],
   "source": [
    "page_content = BeautifulSoup(page_response.content, \"html.parser\")"
   ]
  },
  {
   "cell_type": "code",
   "execution_count": 8,
   "metadata": {},
   "outputs": [],
   "source": [
    "#print(page_content)"
   ]
  },
  {
   "cell_type": "code",
   "execution_count": 9,
   "metadata": {},
   "outputs": [
    {
     "data": {
      "text/plain": [
       "bs4.BeautifulSoup"
      ]
     },
     "execution_count": 9,
     "metadata": {},
     "output_type": "execute_result"
    }
   ],
   "source": [
    "type(page_content)"
   ]
  },
  {
   "cell_type": "code",
   "execution_count": 10,
   "metadata": {},
   "outputs": [],
   "source": [
    "#page_content.body.div id"
   ]
  },
  {
   "cell_type": "code",
   "execution_count": 11,
   "metadata": {},
   "outputs": [],
   "source": [
    "new_html = page_content.find(\"div\", {\"class\": \"entry-content\"}) #this is the script portion!"
   ]
  },
  {
   "cell_type": "code",
   "execution_count": 12,
   "metadata": {},
   "outputs": [],
   "source": [
    "#new_html"
   ]
  },
  {
   "cell_type": "code",
   "execution_count": 13,
   "metadata": {},
   "outputs": [],
   "source": [
    "#This gets rid of all the embedded videos in the middle of the script\n",
    "for span in new_html.find_all('span'):\n",
    "    span.replace_with('')"
   ]
  },
  {
   "cell_type": "code",
   "execution_count": 14,
   "metadata": {},
   "outputs": [],
   "source": [
    "#new_html"
   ]
  },
  {
   "cell_type": "markdown",
   "metadata": {},
   "source": [
    "I'm really not familiar with webscraping or beautiful soup objects... but I know how to work with strings, so I'm gonna turn this into one."
   ]
  },
  {
   "cell_type": "code",
   "execution_count": 15,
   "metadata": {},
   "outputs": [],
   "source": [
    "tangled_string = str(new_html)"
   ]
  },
  {
   "cell_type": "code",
   "execution_count": 16,
   "metadata": {},
   "outputs": [
    {
     "data": {
      "text/plain": [
       "'<div class=\"entry-content\">\\n<p>—Key—<br/>\\nR:Rapunzel, Mandy Moore<br/>\\nF:Eugene Fitzherbert/Flynn Rider, Zachary Levi<br/>\\nG:Mother Gothel, Donna Murphy<br/>\\nHook:Hook-Hand Thug, Brad Garrett<br/>\\nBig:Big Nose Thug, Jeffrey Tambor<br/>\\nSt:The Stabbington Brothers, Ron Perlman (only the speaking one; the\\xa0one without the eye-patch)<br/>\\nVlad:Vladamir, Richard Kiel<br/>\\nShorty:Shorty Thug, Paul F. Tompkins<br/>\\nYoung R:Young Rapunzel, Delaney Rose Stein<br/>\\nCapt:Captain of the Guard, M. C. Gainey<'"
      ]
     },
     "execution_count": 16,
     "metadata": {},
     "output_type": "execute_result"
    }
   ],
   "source": [
    "tangled_string[:500]"
   ]
  },
  {
   "cell_type": "code",
   "execution_count": 17,
   "metadata": {},
   "outputs": [
    {
     "data": {
      "text/plain": [
       "'wrapper jetpack-likes-widget-unloaded\" data-name=\"like-post-frame-14362632-3055-5ca7fadaecec7\" data-src=\"//widgets.wp.com/likes/index.html?ver=20190321#blog_id=14362632&amp;post_id=3055&amp;origin=imeldasanders123.wordpress.com&amp;obj_id=14362632-3055-5ca7fadaecec7\" id=\"like-post-wrapper-14362632-3055-5ca7fadaecec7\"><h3 class=\"sd-title\">Like this:</h3><div class=\"likes-widget-placeholder post-likes-widget-placeholder\" style=\"height: 55px;\"> </div><a class=\"sd-link-color\"></a></div></div> </div>'"
      ]
     },
     "execution_count": 17,
     "metadata": {},
     "output_type": "execute_result"
    }
   ],
   "source": [
    "tangled_string[-500:]"
   ]
  },
  {
   "cell_type": "code",
   "execution_count": 18,
   "metadata": {},
   "outputs": [],
   "source": [
    "splitting = tangled_string.split(\"BEGIN\")"
   ]
  },
  {
   "cell_type": "code",
   "execution_count": 19,
   "metadata": {},
   "outputs": [],
   "source": [
    "rough_script = splitting[1] #gets rid of jargon before script"
   ]
  },
  {
   "cell_type": "code",
   "execution_count": 20,
   "metadata": {},
   "outputs": [],
   "source": [
    "new_split = rough_script.split(\"THE END\")"
   ]
  },
  {
   "cell_type": "code",
   "execution_count": 21,
   "metadata": {},
   "outputs": [],
   "source": [
    "script = new_split[0] #gets ride of jargon after script"
   ]
  },
  {
   "cell_type": "code",
   "execution_count": 22,
   "metadata": {},
   "outputs": [
    {
     "data": {
      "text/plain": [
       "'—<br/>\\nF: This is the story of how I died.<br/>\\nDon’t worry, this is actually a very fun story and the truth is, it\\xa0isn’t even mine.<br/>\\nThis is the story of a girl named Rapunzel and it starts with the\\xa0sun.</p>\\n<p>Now, once upon a time, a single drop of sunlight fell from the\\xa0heavens and from this small drop of sun, grew a magic, golden flower. It\\xa0had the\\xa0ability to heal the sick and injured.<br/>\\nOh, you see that old woman over there? You might want to remember<br/>\\nher. She’s kind of importa'"
      ]
     },
     "execution_count": 22,
     "metadata": {},
     "output_type": "execute_result"
    }
   ],
   "source": [
    "script[:500]"
   ]
  },
  {
   "cell_type": "code",
   "execution_count": 23,
   "metadata": {},
   "outputs": [],
   "source": [
    "script = script.replace('\\xa0', ' ')"
   ]
  },
  {
   "cell_type": "code",
   "execution_count": 24,
   "metadata": {},
   "outputs": [],
   "source": [
    "script = script.replace('&amp', '')"
   ]
  },
  {
   "cell_type": "code",
   "execution_count": 25,
   "metadata": {},
   "outputs": [],
   "source": [
    "script = re.sub(r\"\\n\", '', script)"
   ]
  },
  {
   "cell_type": "code",
   "execution_count": 26,
   "metadata": {},
   "outputs": [],
   "source": [
    "action = re.findall(r\"\\[[^\\]]*\\]\", script)"
   ]
  },
  {
   "cell_type": "code",
   "execution_count": 27,
   "metadata": {},
   "outputs": [
    {
     "data": {
      "text/plain": [
       "297"
      ]
     },
     "execution_count": 27,
     "metadata": {},
     "output_type": "execute_result"
    }
   ],
   "source": [
    "len(action)"
   ]
  },
  {
   "cell_type": "code",
   "execution_count": 28,
   "metadata": {},
   "outputs": [
    {
     "name": "stdout",
     "output_type": "stream",
     "text": [
      "[gasps at cut hair]\n",
      "[Pascal flees window to hide]\n",
      "[Pascal sniggers. R finds it]\n",
      "[Pascal frowns]\n",
      "[Pascal motions to go outside]\n",
      "[Pascal sticks out tongue]\n",
      "[leaves window]\n",
      "[paints lights]\n",
      "[back to window]\n",
      "[St lower F to steal crown. A guard sneezes]\n"
     ]
    }
   ],
   "source": [
    "for bracket in action[:10]:\n",
    "    print(bracket)"
   ]
  },
  {
   "cell_type": "code",
   "execution_count": 29,
   "metadata": {},
   "outputs": [],
   "source": [
    "script = re.sub(r\"\\[[^\\]]*\\]\", '', script)"
   ]
  },
  {
   "cell_type": "code",
   "execution_count": 30,
   "metadata": {},
   "outputs": [],
   "source": [
    "script_test = re.sub(r\"(<br/>|<p>|</p>)(([A-Z][a-z]* )?[A-Z][a-z]*:)\", r\"_NEWLINE_\\2_START\", script)"
   ]
  },
  {
   "cell_type": "code",
   "execution_count": 31,
   "metadata": {},
   "outputs": [
    {
     "data": {
      "text/plain": [
       "'—_NEWLINE_F:_START This is the story of how I died.<br/>Don’t worry, this is actually a very fun story and the truth is, it isn’t even mine.<br/>This is the story of a girl named Rapunzel and it starts with the sun.</p><p>Now, once upon a time, a single drop of sunlight fell from the heavens and from this small drop of sun, grew a magic, golden flower. It had the ability to heal the sick and injured.<br/>Oh, you see that old woman over there? You might want to remember<br/>her. She’s kind of imp'"
      ]
     },
     "execution_count": 31,
     "metadata": {},
     "output_type": "execute_result"
    }
   ],
   "source": [
    "script_test[:500]"
   ]
  },
  {
   "cell_type": "code",
   "execution_count": 32,
   "metadata": {},
   "outputs": [],
   "source": [
    "script_only = script_test.replace(\"<br/>\", ' ').replace(\"<p>\", ' ').replace('</p>', ' ')"
   ]
  },
  {
   "cell_type": "code",
   "execution_count": 33,
   "metadata": {},
   "outputs": [
    {
     "data": {
      "text/plain": [
       "'—_NEWLINE_F:_START This is the story of how I died. Don’t worry, this is actually a very fun story and the truth is, it isn’t even mine. This is the story of a girl named Rapunzel and it starts with the sun.  Now, once upon a time, a single drop of sunlight fell from the heavens and from this small drop of sun, grew a magic, golden flower. It had the ability to heal the sick and injured. Oh, you see that old woman over there? You might want to remember her. She’s kind of important.  Well, centur'"
      ]
     },
     "execution_count": 33,
     "metadata": {},
     "output_type": "execute_result"
    }
   ],
   "source": [
    "script_only[:500]"
   ]
  },
  {
   "cell_type": "code",
   "execution_count": 34,
   "metadata": {},
   "outputs": [],
   "source": [
    "script_lines = script_only.split('_NEWLINE_')"
   ]
  },
  {
   "cell_type": "code",
   "execution_count": 35,
   "metadata": {},
   "outputs": [],
   "source": [
    "script_lines = script_lines[1:]"
   ]
  },
  {
   "cell_type": "code",
   "execution_count": 36,
   "metadata": {},
   "outputs": [
    {
     "data": {
      "text/plain": [
       "['F:_START This is the story of how I died. Don’t worry, this is actually a very fun story and the truth is, it isn’t even mine. This is the story of a girl named Rapunzel and it starts with the sun.  Now, once upon a time, a single drop of sunlight fell from the heavens and from this small drop of sun, grew a magic, golden flower. It had the ability to heal the sick and injured. Oh, you see that old woman over there? You might want to remember her. She’s kind of important.  Well, centuries passed, and a hop skip and a boat ride away there grew a kingdom. The kingdom was ruled by a beloved King and Queen. And the Queen, (well,) she was about to have a baby. She got sick. Really, sick. She was running out of time, and that’s when people usually start to look for a miracle. Or in this case, a magic golden flower.  Ah, I told you she’d be important. You see, instead of sharing the sun’s gift, this woman, Mother Gothel, hoarded its healing power and used it to keep herself young for hundreds of years, and all she had to do was sing a special song.',\n",
       " 'G:_START Flower, gleam and glow Let your power shine Make the clock reverse Bring back what once was mine What once was mine',\n",
       " 'F:_START All right, you get the gist. She sings to it, she turns young, creepy, right?',\n",
       " 'Guards:_START We’ve found it! ',\n",
       " 'F:_START The magic of the golden flower healed the queen. A healthy baby girl, a princess was born, with beautiful golden hair. I’ll give you a hint: that’s Rapunzel. To celebrate her birth, the King and Queen launched a flying lantern into the sky. And for that one moment, everything was perfect.  And then that moment ended.',\n",
       " 'G:_START Flower, gleam and glow Let your power shine Make the clock re- ',\n",
       " 'F:_START Gothel broke into the castle, stole the child and just like that– gone.  The kingdom searched and searched but they could not find the princess. For deep within the forest, in a hidden tower, Gothel raised the child as her own.',\n",
       " 'Young R:_START(Heal what has been hurt) (Change the fate’s design) Save what has been lost Bring back what once was mine What once was mine',\n",
       " 'F:_START Gothel had found her new magic flower, but this time she was determined to keep it hidden.',\n",
       " 'Young R:_START Why can’t I go outside?']"
      ]
     },
     "execution_count": 36,
     "metadata": {},
     "output_type": "execute_result"
    }
   ],
   "source": [
    "script_lines[:10]"
   ]
  },
  {
   "cell_type": "code",
   "execution_count": 37,
   "metadata": {},
   "outputs": [],
   "source": [
    "script_line_tuple = []\n",
    "for line in script_lines:\n",
    "    script_line_tuple.append(tuple(line.split(\":_START\")))"
   ]
  },
  {
   "cell_type": "code",
   "execution_count": 38,
   "metadata": {},
   "outputs": [
    {
     "data": {
      "text/plain": [
       "[('F',\n",
       "  ' This is the story of how I died. Don’t worry, this is actually a very fun story and the truth is, it isn’t even mine. This is the story of a girl named Rapunzel and it starts with the sun.  Now, once upon a time, a single drop of sunlight fell from the heavens and from this small drop of sun, grew a magic, golden flower. It had the ability to heal the sick and injured. Oh, you see that old woman over there? You might want to remember her. She’s kind of important.  Well, centuries passed, and a hop skip and a boat ride away there grew a kingdom. The kingdom was ruled by a beloved King and Queen. And the Queen, (well,) she was about to have a baby. She got sick. Really, sick. She was running out of time, and that’s when people usually start to look for a miracle. Or in this case, a magic golden flower.  Ah, I told you she’d be important. You see, instead of sharing the sun’s gift, this woman, Mother Gothel, hoarded its healing power and used it to keep herself young for hundreds of years, and all she had to do was sing a special song.'),\n",
       " ('G',\n",
       "  ' Flower, gleam and glow Let your power shine Make the clock reverse Bring back what once was mine What once was mine'),\n",
       " ('F',\n",
       "  ' All right, you get the gist. She sings to it, she turns young, creepy, right?'),\n",
       " ('Guards', ' We’ve found it! '),\n",
       " ('F',\n",
       "  ' The magic of the golden flower healed the queen. A healthy baby girl, a princess was born, with beautiful golden hair. I’ll give you a hint: that’s Rapunzel. To celebrate her birth, the King and Queen launched a flying lantern into the sky. And for that one moment, everything was perfect.  And then that moment ended.'),\n",
       " ('G', ' Flower, gleam and glow Let your power shine Make the clock re- '),\n",
       " ('F',\n",
       "  ' Gothel broke into the castle, stole the child and just like that– gone.  The kingdom searched and searched but they could not find the princess. For deep within the forest, in a hidden tower, Gothel raised the child as her own.'),\n",
       " ('Young R',\n",
       "  '(Heal what has been hurt) (Change the fate’s design) Save what has been lost Bring back what once was mine What once was mine'),\n",
       " ('F',\n",
       "  ' Gothel had found her new magic flower, but this time she was determined to keep it hidden.'),\n",
       " ('Young R', ' Why can’t I go outside?')]"
      ]
     },
     "execution_count": 38,
     "metadata": {},
     "output_type": "execute_result"
    }
   ],
   "source": [
    "script_line_tuple[:10]"
   ]
  },
  {
   "cell_type": "code",
   "execution_count": 39,
   "metadata": {},
   "outputs": [],
   "source": [
    "import pandas as pd"
   ]
  },
  {
   "cell_type": "code",
   "execution_count": 40,
   "metadata": {},
   "outputs": [],
   "source": [
    "tangled = pd.DataFrame(script_line_tuple, columns=[\"Speaker\", \"Text\"])"
   ]
  },
  {
   "cell_type": "code",
   "execution_count": 41,
   "metadata": {},
   "outputs": [
    {
     "data": {
      "text/html": [
       "<div>\n",
       "<style scoped>\n",
       "    .dataframe tbody tr th:only-of-type {\n",
       "        vertical-align: middle;\n",
       "    }\n",
       "\n",
       "    .dataframe tbody tr th {\n",
       "        vertical-align: top;\n",
       "    }\n",
       "\n",
       "    .dataframe thead th {\n",
       "        text-align: right;\n",
       "    }\n",
       "</style>\n",
       "<table border=\"1\" class=\"dataframe\">\n",
       "  <thead>\n",
       "    <tr style=\"text-align: right;\">\n",
       "      <th></th>\n",
       "      <th>Speaker</th>\n",
       "      <th>Text</th>\n",
       "    </tr>\n",
       "  </thead>\n",
       "  <tbody>\n",
       "    <tr>\n",
       "      <th>0</th>\n",
       "      <td>F</td>\n",
       "      <td>This is the story of how I died. Don’t worry,...</td>\n",
       "    </tr>\n",
       "    <tr>\n",
       "      <th>1</th>\n",
       "      <td>G</td>\n",
       "      <td>Flower, gleam and glow Let your power shine M...</td>\n",
       "    </tr>\n",
       "    <tr>\n",
       "      <th>2</th>\n",
       "      <td>F</td>\n",
       "      <td>All right, you get the gist. She sings to it,...</td>\n",
       "    </tr>\n",
       "    <tr>\n",
       "      <th>3</th>\n",
       "      <td>Guards</td>\n",
       "      <td>We’ve found it!</td>\n",
       "    </tr>\n",
       "    <tr>\n",
       "      <th>4</th>\n",
       "      <td>F</td>\n",
       "      <td>The magic of the golden flower healed the que...</td>\n",
       "    </tr>\n",
       "  </tbody>\n",
       "</table>\n",
       "</div>"
      ],
      "text/plain": [
       "  Speaker                                               Text\n",
       "0       F   This is the story of how I died. Don’t worry,...\n",
       "1       G   Flower, gleam and glow Let your power shine M...\n",
       "2       F   All right, you get the gist. She sings to it,...\n",
       "3  Guards                                   We’ve found it! \n",
       "4       F   The magic of the golden flower healed the que..."
      ]
     },
     "execution_count": 41,
     "metadata": {},
     "output_type": "execute_result"
    }
   ],
   "source": [
    "tangled.head()"
   ]
  },
  {
   "cell_type": "markdown",
   "metadata": {},
   "source": [
    "### Awesome!\n",
    "Just a couple more things to do: Replace abbreviations with full names of characters, lower/strip all the text, and add labels found in the other Disney Data."
   ]
  },
  {
   "cell_type": "code",
   "execution_count": 42,
   "metadata": {},
   "outputs": [],
   "source": [
    "tangled.Speaker = tangled.Speaker.map(lambda x: x.strip())"
   ]
  },
  {
   "cell_type": "code",
   "execution_count": 43,
   "metadata": {},
   "outputs": [],
   "source": [
    "tangled.Text = tangled.Text.map(lambda x: x.strip().lower())"
   ]
  },
  {
   "cell_type": "code",
   "execution_count": 44,
   "metadata": {},
   "outputs": [
    {
     "data": {
      "text/plain": [
       "'this is the story of how i died. don’t worry, this is actually a very fun story and the truth is, it isn’t even mine. this is the story of a girl named rapunzel and it starts with the sun.  now, once upon a time, a single drop of sunlight fell from the heavens and from this small drop of sun, grew a magic, golden flower. it had the ability to heal the sick and injured. oh, you see that old woman over there? you might want to remember her. she’s kind of important.  well, centuries passed, and a hop skip and a boat ride away there grew a kingdom. the kingdom was ruled by a beloved king and queen. and the queen, (well,) she was about to have a baby. she got sick. really, sick. she was running out of time, and that’s when people usually start to look for a miracle. or in this case, a magic golden flower.  ah, i told you she’d be important. you see, instead of sharing the sun’s gift, this woman, mother gothel, hoarded its healing power and used it to keep herself young for hundreds of years, and all she had to do was sing a special song.'"
      ]
     },
     "execution_count": 44,
     "metadata": {},
     "output_type": "execute_result"
    }
   ],
   "source": [
    "tangled.Text[0] #sweet! It worked!!"
   ]
  },
  {
   "cell_type": "code",
   "execution_count": 45,
   "metadata": {},
   "outputs": [
    {
     "data": {
      "text/plain": [
       "array(['F', 'G', 'Guards', 'Young R', 'R', 'St', 'Guard', 'Capt', 'Thug',\n",
       "       'Vlad', 'Hook', 'Attila', 'Thugs', 'Big', 'Thug Chorus', 'All',\n",
       "       'Greno', 'Shorty', 'Girl', 'Citizen'], dtype=object)"
      ]
     },
     "execution_count": 45,
     "metadata": {},
     "output_type": "execute_result"
    }
   ],
   "source": [
    "tangled.Speaker.unique()"
   ]
  },
  {
   "cell_type": "code",
   "execution_count": 46,
   "metadata": {},
   "outputs": [],
   "source": [
    "#replacing character names\n",
    "char_names = {'F':'flynn', 'Young R': 'young rapunzel', 'R': 'rapunzel', 'St': 'stabbington brothers', 'G': 'gothel'}\n"
   ]
  },
  {
   "cell_type": "code",
   "execution_count": 47,
   "metadata": {},
   "outputs": [
    {
     "data": {
      "text/plain": [
       "'flynn'"
      ]
     },
     "execution_count": 47,
     "metadata": {},
     "output_type": "execute_result"
    }
   ],
   "source": [
    "char_names['F']"
   ]
  },
  {
   "cell_type": "code",
   "execution_count": 48,
   "metadata": {},
   "outputs": [],
   "source": [
    "for item in tangled.itertuples():\n",
    "    if item[1] in char_names.keys():\n",
    "        tangled.Speaker.iloc[item[0]] = char_names[item[1]]\n",
    "    else:\n",
    "        tangled.Speaker.iloc[item[0]] = tangled.Speaker.iloc[item[0]].lower()"
   ]
  },
  {
   "cell_type": "code",
   "execution_count": 49,
   "metadata": {},
   "outputs": [
    {
     "data": {
      "text/html": [
       "<div>\n",
       "<style scoped>\n",
       "    .dataframe tbody tr th:only-of-type {\n",
       "        vertical-align: middle;\n",
       "    }\n",
       "\n",
       "    .dataframe tbody tr th {\n",
       "        vertical-align: top;\n",
       "    }\n",
       "\n",
       "    .dataframe thead th {\n",
       "        text-align: right;\n",
       "    }\n",
       "</style>\n",
       "<table border=\"1\" class=\"dataframe\">\n",
       "  <thead>\n",
       "    <tr style=\"text-align: right;\">\n",
       "      <th></th>\n",
       "      <th>Speaker</th>\n",
       "      <th>Text</th>\n",
       "    </tr>\n",
       "  </thead>\n",
       "  <tbody>\n",
       "    <tr>\n",
       "      <th>0</th>\n",
       "      <td>flynn</td>\n",
       "      <td>this is the story of how i died. don’t worry, ...</td>\n",
       "    </tr>\n",
       "    <tr>\n",
       "      <th>1</th>\n",
       "      <td>gothel</td>\n",
       "      <td>flower, gleam and glow let your power shine ma...</td>\n",
       "    </tr>\n",
       "    <tr>\n",
       "      <th>2</th>\n",
       "      <td>flynn</td>\n",
       "      <td>all right, you get the gist. she sings to it, ...</td>\n",
       "    </tr>\n",
       "    <tr>\n",
       "      <th>3</th>\n",
       "      <td>guards</td>\n",
       "      <td>we’ve found it!</td>\n",
       "    </tr>\n",
       "    <tr>\n",
       "      <th>4</th>\n",
       "      <td>flynn</td>\n",
       "      <td>the magic of the golden flower healed the quee...</td>\n",
       "    </tr>\n",
       "    <tr>\n",
       "      <th>5</th>\n",
       "      <td>gothel</td>\n",
       "      <td>flower, gleam and glow let your power shine ma...</td>\n",
       "    </tr>\n",
       "    <tr>\n",
       "      <th>6</th>\n",
       "      <td>flynn</td>\n",
       "      <td>gothel broke into the castle, stole the child ...</td>\n",
       "    </tr>\n",
       "    <tr>\n",
       "      <th>7</th>\n",
       "      <td>young rapunzel</td>\n",
       "      <td>(heal what has been hurt) (change the fate’s d...</td>\n",
       "    </tr>\n",
       "    <tr>\n",
       "      <th>8</th>\n",
       "      <td>flynn</td>\n",
       "      <td>gothel had found her new magic flower, but thi...</td>\n",
       "    </tr>\n",
       "    <tr>\n",
       "      <th>9</th>\n",
       "      <td>young rapunzel</td>\n",
       "      <td>why can’t i go outside?</td>\n",
       "    </tr>\n",
       "  </tbody>\n",
       "</table>\n",
       "</div>"
      ],
      "text/plain": [
       "          Speaker                                               Text\n",
       "0           flynn  this is the story of how i died. don’t worry, ...\n",
       "1          gothel  flower, gleam and glow let your power shine ma...\n",
       "2           flynn  all right, you get the gist. she sings to it, ...\n",
       "3          guards                                    we’ve found it!\n",
       "4           flynn  the magic of the golden flower healed the quee...\n",
       "5          gothel  flower, gleam and glow let your power shine ma...\n",
       "6           flynn  gothel broke into the castle, stole the child ...\n",
       "7  young rapunzel  (heal what has been hurt) (change the fate’s d...\n",
       "8           flynn  gothel had found her new magic flower, but thi...\n",
       "9  young rapunzel                            why can’t i go outside?"
      ]
     },
     "execution_count": 49,
     "metadata": {},
     "output_type": "execute_result"
    }
   ],
   "source": [
    "tangled.head(10)"
   ]
  },
  {
   "cell_type": "markdown",
   "metadata": {},
   "source": [
    "# We GUCCHI!!!!\n",
    "Let's save this dude as a pickle!"
   ]
  },
  {
   "cell_type": "code",
   "execution_count": 50,
   "metadata": {},
   "outputs": [],
   "source": [
    "tangled.to_pickle(r'..\\..\\Animated-Movie-Gendered-Dialogue\\private\\tangled_lines.pkl')"
   ]
  },
  {
   "cell_type": "code",
   "execution_count": null,
   "metadata": {},
   "outputs": [],
   "source": []
  }
 ],
 "metadata": {
  "kernelspec": {
   "display_name": "Python 3",
   "language": "python",
   "name": "python3"
  },
  "language_info": {
   "codemirror_mode": {
    "name": "ipython",
    "version": 3
   },
   "file_extension": ".py",
   "mimetype": "text/x-python",
   "name": "python",
   "nbconvert_exporter": "python",
   "pygments_lexer": "ipython3",
   "version": "3.6.4"
  }
 },
 "nbformat": 4,
 "nbformat_minor": 2
}
