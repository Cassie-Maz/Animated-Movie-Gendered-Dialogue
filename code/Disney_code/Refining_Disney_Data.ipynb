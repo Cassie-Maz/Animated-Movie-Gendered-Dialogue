{
 "cells": [
  {
   "cell_type": "markdown",
   "metadata": {},
   "source": [
    "# Refining My Disney Data\n",
    "This code will accomplish several things, including\n",
    "* Clearly outlining what the disney script corpus includes\n",
    "    * What columns?\n",
    "    * How are songs treated compared to normal dialogue?\n",
    "* Separating out movies I do not wish to analyze\n",
    "    * Removing the Lion King\n",
    "* Adding Moana, complete with gender, role, and song vs dialogue annotations\n"
   ]
  },
  {
   "cell_type": "code",
   "execution_count": 1,
   "metadata": {},
   "outputs": [],
   "source": [
    "#import necessary modules\n",
    "import numpy as np\n",
    "import pandas as pd"
   ]
  },
  {
   "cell_type": "code",
   "execution_count": 2,
   "metadata": {},
   "outputs": [],
   "source": [
    "#import csv as a dataframe\n",
    "disney = pd.read_csv(r'C:\\Users\\cassi\\Desktop\\Disney_Corpus.csv')"
   ]
  },
  {
   "cell_type": "code",
   "execution_count": 3,
   "metadata": {},
   "outputs": [
    {
     "data": {
      "text/html": [
       "<div>\n",
       "<style scoped>\n",
       "    .dataframe tbody tr th:only-of-type {\n",
       "        vertical-align: middle;\n",
       "    }\n",
       "\n",
       "    .dataframe tbody tr th {\n",
       "        vertical-align: top;\n",
       "    }\n",
       "\n",
       "    .dataframe thead th {\n",
       "        text-align: right;\n",
       "    }\n",
       "</style>\n",
       "<table border=\"1\" class=\"dataframe\">\n",
       "  <thead>\n",
       "    <tr style=\"text-align: right;\">\n",
       "      <th></th>\n",
       "      <th>Disney_Period</th>\n",
       "      <th>Text</th>\n",
       "      <th>Speaker_Status</th>\n",
       "      <th>Movie</th>\n",
       "      <th>Speaker</th>\n",
       "      <th>Year</th>\n",
       "      <th>UTTERANCE_NUMBER</th>\n",
       "    </tr>\n",
       "  </thead>\n",
       "  <tbody>\n",
       "    <tr>\n",
       "      <th>0</th>\n",
       "      <td>EARLY</td>\n",
       "      <td>slave in the magic mirror come from the farthe...</td>\n",
       "      <td>NON-P</td>\n",
       "      <td>Snow White</td>\n",
       "      <td>queen</td>\n",
       "      <td>1937</td>\n",
       "      <td>1</td>\n",
       "    </tr>\n",
       "    <tr>\n",
       "      <th>1</th>\n",
       "      <td>EARLY</td>\n",
       "      <td>what wouldst thou know, my queen ?</td>\n",
       "      <td>NON-P</td>\n",
       "      <td>Snow White</td>\n",
       "      <td>mirror</td>\n",
       "      <td>1937</td>\n",
       "      <td>2</td>\n",
       "    </tr>\n",
       "    <tr>\n",
       "      <th>2</th>\n",
       "      <td>EARLY</td>\n",
       "      <td>magic mirror on the wall, who is the fairest o...</td>\n",
       "      <td>NON-P</td>\n",
       "      <td>Snow White</td>\n",
       "      <td>queen</td>\n",
       "      <td>1937</td>\n",
       "      <td>3</td>\n",
       "    </tr>\n",
       "    <tr>\n",
       "      <th>3</th>\n",
       "      <td>EARLY</td>\n",
       "      <td>famed is thy beauty, majesty. but hold, a love...</td>\n",
       "      <td>NON-P</td>\n",
       "      <td>Snow White</td>\n",
       "      <td>mirror</td>\n",
       "      <td>1937</td>\n",
       "      <td>4</td>\n",
       "    </tr>\n",
       "    <tr>\n",
       "      <th>4</th>\n",
       "      <td>EARLY</td>\n",
       "      <td>alas for her ! reveal her name.</td>\n",
       "      <td>NON-P</td>\n",
       "      <td>Snow White</td>\n",
       "      <td>queen</td>\n",
       "      <td>1937</td>\n",
       "      <td>5</td>\n",
       "    </tr>\n",
       "  </tbody>\n",
       "</table>\n",
       "</div>"
      ],
      "text/plain": [
       "  Disney_Period                                               Text  \\\n",
       "0         EARLY  slave in the magic mirror come from the farthe...   \n",
       "1         EARLY                what wouldst thou know, my queen ?    \n",
       "2         EARLY  magic mirror on the wall, who is the fairest o...   \n",
       "3         EARLY  famed is thy beauty, majesty. but hold, a love...   \n",
       "4         EARLY                   alas for her ! reveal her name.    \n",
       "\n",
       "  Speaker_Status        Movie Speaker  Year  UTTERANCE_NUMBER  \n",
       "0          NON-P  Snow White    queen  1937                 1  \n",
       "1          NON-P  Snow White   mirror  1937                 2  \n",
       "2          NON-P  Snow White    queen  1937                 3  \n",
       "3          NON-P  Snow White   mirror  1937                 4  \n",
       "4          NON-P  Snow White    queen  1937                 5  "
      ]
     },
     "execution_count": 3,
     "metadata": {},
     "output_type": "execute_result"
    }
   ],
   "source": [
    "disney.head()"
   ]
  },
  {
   "cell_type": "code",
   "execution_count": 4,
   "metadata": {},
   "outputs": [
    {
     "data": {
      "text/html": [
       "<div>\n",
       "<style scoped>\n",
       "    .dataframe tbody tr th:only-of-type {\n",
       "        vertical-align: middle;\n",
       "    }\n",
       "\n",
       "    .dataframe tbody tr th {\n",
       "        vertical-align: top;\n",
       "    }\n",
       "\n",
       "    .dataframe thead th {\n",
       "        text-align: right;\n",
       "    }\n",
       "</style>\n",
       "<table border=\"1\" class=\"dataframe\">\n",
       "  <thead>\n",
       "    <tr style=\"text-align: right;\">\n",
       "      <th></th>\n",
       "      <th>Disney_Period</th>\n",
       "      <th>Text</th>\n",
       "      <th>Speaker_Status</th>\n",
       "      <th>Movie</th>\n",
       "      <th>Speaker</th>\n",
       "      <th>Year</th>\n",
       "      <th>UTTERANCE_NUMBER</th>\n",
       "    </tr>\n",
       "  </thead>\n",
       "  <tbody>\n",
       "    <tr>\n",
       "      <th>7743</th>\n",
       "      <td>LATE</td>\n",
       "      <td>we are never closing them again.</td>\n",
       "      <td>PRINCESS</td>\n",
       "      <td>Frozen</td>\n",
       "      <td>elsa</td>\n",
       "      <td>2013</td>\n",
       "      <td>984</td>\n",
       "    </tr>\n",
       "    <tr>\n",
       "      <th>7744</th>\n",
       "      <td>LATE</td>\n",
       "      <td>form on anna's boots.</td>\n",
       "      <td>PRINCESS</td>\n",
       "      <td>Frozen</td>\n",
       "      <td>elsa</td>\n",
       "      <td>2013</td>\n",
       "      <td>985</td>\n",
       "    </tr>\n",
       "    <tr>\n",
       "      <th>7745</th>\n",
       "      <td>LATE</td>\n",
       "      <td>what? oh, elsa, they're beautiful, but you kno...</td>\n",
       "      <td>PRINCESS</td>\n",
       "      <td>Frozen</td>\n",
       "      <td>anna</td>\n",
       "      <td>2013</td>\n",
       "      <td>986</td>\n",
       "    </tr>\n",
       "    <tr>\n",
       "      <th>7746</th>\n",
       "      <td>LATE</td>\n",
       "      <td>look out. reindeer coming through!</td>\n",
       "      <td>NON-P</td>\n",
       "      <td>Frozen</td>\n",
       "      <td>kristoff</td>\n",
       "      <td>2013</td>\n",
       "      <td>987</td>\n",
       "    </tr>\n",
       "    <tr>\n",
       "      <th>7747</th>\n",
       "      <td>LATE</td>\n",
       "      <td>that's it. glide and pivot and glide and pivot.</td>\n",
       "      <td>NON-P</td>\n",
       "      <td>Frozen</td>\n",
       "      <td>olaf</td>\n",
       "      <td>2013</td>\n",
       "      <td>988</td>\n",
       "    </tr>\n",
       "  </tbody>\n",
       "</table>\n",
       "</div>"
      ],
      "text/plain": [
       "     Disney_Period                                               Text  \\\n",
       "7743          LATE                  we are never closing them again.    \n",
       "7744          LATE                              form on anna's boots.   \n",
       "7745          LATE  what? oh, elsa, they're beautiful, but you kno...   \n",
       "7746          LATE                look out. reindeer coming through!    \n",
       "7747          LATE   that's it. glide and pivot and glide and pivot.    \n",
       "\n",
       "     Speaker_Status    Movie    Speaker  Year  UTTERANCE_NUMBER  \n",
       "7743       PRINCESS  Frozen        elsa  2013               984  \n",
       "7744       PRINCESS  Frozen        elsa  2013               985  \n",
       "7745       PRINCESS  Frozen        anna  2013               986  \n",
       "7746          NON-P  Frozen   kristoff   2013               987  \n",
       "7747          NON-P  Frozen       olaf   2013               988  "
      ]
     },
     "execution_count": 4,
     "metadata": {},
     "output_type": "execute_result"
    }
   ],
   "source": [
    "disney.tail()"
   ]
  },
  {
   "cell_type": "code",
   "execution_count": 5,
   "metadata": {},
   "outputs": [
    {
     "name": "stdout",
     "output_type": "stream",
     "text": [
      "<class 'pandas.core.frame.DataFrame'>\n",
      "RangeIndex: 7748 entries, 0 to 7747\n",
      "Data columns (total 7 columns):\n",
      "Disney_Period       7748 non-null object\n",
      "Text                7748 non-null object\n",
      "Speaker_Status      7748 non-null object\n",
      "Movie               7748 non-null object\n",
      "Speaker             7748 non-null object\n",
      "Year                7748 non-null int64\n",
      "UTTERANCE_NUMBER    7748 non-null int64\n",
      "dtypes: int64(2), object(5)\n",
      "memory usage: 272.4+ KB\n"
     ]
    }
   ],
   "source": [
    "disney.info()"
   ]
  },
  {
   "cell_type": "markdown",
   "metadata": {},
   "source": [
    "There are no null objects here! The corpus includes\n",
    "* Which time period the movie was made in\n",
    "* Lines of Dialogue (in Text)\n",
    "* If the speaker is a princess, prince, or neither (in Speaker_Status)\n",
    "* Which movie the line of dialogue is from (in Movie)\n",
    "* Who uttered the line of dialogue (In Speaker)\n",
    "* The year the movie was made (in Year)\n",
    "* When the line was said in the movie (in UTTERANCE_NUMBER) \n",
    "\n",
    "This is good, but I need to double check that there aren't any typos in the categories.\n",
    "\n",
    "1) What Periods are included?"
   ]
  },
  {
   "cell_type": "code",
   "execution_count": 6,
   "metadata": {},
   "outputs": [
    {
     "data": {
      "text/plain": [
       "MID      4155\n",
       "LATE     2268\n",
       "EARLY    1325\n",
       "Name: Disney_Period, dtype: int64"
      ]
     },
     "execution_count": 6,
     "metadata": {},
     "output_type": "execute_result"
    }
   ],
   "source": [
    "disney.Disney_Period.value_counts()"
   ]
  },
  {
   "cell_type": "markdown",
   "metadata": {},
   "source": [
    "Okay, three categories: MID, LATE, EARLY. No typos."
   ]
  },
  {
   "cell_type": "markdown",
   "metadata": {},
   "source": [
    "2) What status can a speaker have?"
   ]
  },
  {
   "cell_type": "code",
   "execution_count": 7,
   "metadata": {},
   "outputs": [
    {
     "data": {
      "text/plain": [
       "NON-P       4925\n",
       "PRINCESS    1793\n",
       "PRINCE      1030\n",
       "Name: Speaker_Status, dtype: int64"
      ]
     },
     "execution_count": 7,
     "metadata": {},
     "output_type": "execute_result"
    }
   ],
   "source": [
    "disney.Speaker_Status.value_counts()"
   ]
  },
  {
   "cell_type": "markdown",
   "metadata": {},
   "source": [
    "Looks like characters can be a princess, prince, or non-princess. This does not account for gender or for role in the story. Gender and Role columns will need to be added down the line."
   ]
  },
  {
   "cell_type": "markdown",
   "metadata": {},
   "source": [
    "3) What speakers are there?"
   ]
  },
  {
   "cell_type": "code",
   "execution_count": 8,
   "metadata": {},
   "outputs": [
    {
     "data": {
      "text/plain": [
       "anna                                    335\n",
       "simba                                   241\n",
       "aladdin                                 238\n",
       "merida                                  181\n",
       "tiana                                   176\n",
       "kristoff                                159\n",
       "belle                                   150\n",
       "pocahontas                              142\n",
       "john smith                              125\n",
       "prince naveen                           125\n",
       "jasmine                                 117\n",
       "mulan                                   116\n",
       "mushu                                   114\n",
       "scar                                    114\n",
       "genie                                   113\n",
       "timon                                   112\n",
       "cinderella                              112\n",
       "elsa                                    111\n",
       "jafar                                   111\n",
       "flora                                   106\n",
       "queen elinor                            103\n",
       "olaf                                     93\n",
       "snow white                               88\n",
       "beast                                    88\n",
       "rapunzel                                 84\n",
       "gaston                                   78\n",
       "merryweather                             77\n",
       "hans                                     77\n",
       "cogsworth                                77\n",
       "nala                                     74\n",
       "                                       ... \n",
       "shopkeeper 3                              1\n",
       "int. hallway, elsa                        1\n",
       " lawrence                                 1\n",
       "bowing townsman                           1\n",
       "ancestor #7                               1\n",
       "son                                       1\n",
       "girl trolls                               1\n",
       "2nd servant                               1\n",
       "hun                                       1\n",
       "lumiere                                   1\n",
       "englishmen & john smith                   1\n",
       "soldier #1                                1\n",
       "chorus of women                           1\n",
       " scar                                     1\n",
       "geogria                                   1\n",
       "sweep again, and by then it's like 7      1\n",
       "dock master                               1\n",
       "prinve naveen                             1\n",
       "stove                                     1\n",
       "lefou,                                    1\n",
       "shopkeeper 4                              1\n",
       "birds                                     1\n",
       "soldier #2                                1\n",
       "servants                                  1\n",
       "all (even ed)                             1\n",
       "sarafina                                  1\n",
       "boat guest                                1\n",
       "    girls                                 1\n",
       " hunter 1                                 1\n",
       "thug                                      1\n",
       "Name: Speaker, Length: 424, dtype: int64"
      ]
     },
     "execution_count": 8,
     "metadata": {},
     "output_type": "execute_result"
    }
   ],
   "source": [
    "disney.Speaker.value_counts()"
   ]
  },
  {
   "cell_type": "code",
   "execution_count": 9,
   "metadata": {},
   "outputs": [
    {
     "data": {
      "text/plain": [
       "count     7748\n",
       "unique     424\n",
       "top       anna\n",
       "freq       335\n",
       "Name: Speaker, dtype: object"
      ]
     },
     "execution_count": 9,
     "metadata": {},
     "output_type": "execute_result"
    }
   ],
   "source": [
    "disney.Speaker.describe()"
   ]
  },
  {
   "cell_type": "markdown",
   "metadata": {},
   "source": [
    "424 unique speakers. Yikes. These might be easier to go through movie by movie, where character names will be easier to parse through. Also, look! A typo! \"Sweep again and by then it's like 7\" is a lyric Rapunzel sings, not a speaker! It looks like this data is not as neat as I'd originally hoped!"
   ]
  },
  {
   "cell_type": "markdown",
   "metadata": {},
   "source": [
    "4) What Years are inlcuded?"
   ]
  },
  {
   "cell_type": "code",
   "execution_count": 10,
   "metadata": {},
   "outputs": [
    {
     "data": {
      "text/plain": [
       "2013    988\n",
       "1994    952\n",
       "1992    842\n",
       "1991    772\n",
       "2009    676\n",
       "1995    638\n",
       "1998    554\n",
       "1950    497\n",
       "1959    462\n",
       "2012    411\n",
       "1989    397\n",
       "1937    366\n",
       "2010    193\n",
       "Name: Year, dtype: int64"
      ]
     },
     "execution_count": 10,
     "metadata": {},
     "output_type": "execute_result"
    }
   ],
   "source": [
    "disney.Year.value_counts()"
   ]
  },
  {
   "cell_type": "markdown",
   "metadata": {},
   "source": [
    "These are all accurate and without typos."
   ]
  },
  {
   "cell_type": "code",
   "execution_count": 11,
   "metadata": {},
   "outputs": [
    {
     "data": {
      "text/plain": [
       "Frozen                        988\n",
       "The Lion King                 952\n",
       "Aladdin                       842\n",
       "Beauty and the Beast          772\n",
       "The Princess and the Frog     676\n",
       "Pocahontas                    638\n",
       "Mulan                         554\n",
       "Cinderella                    497\n",
       "Sleeping Beauty               462\n",
       "Brave                         411\n",
       "The Little Mermaid            397\n",
       "Snow White                    366\n",
       "Tangled                       193\n",
       "Name: Movie, dtype: int64"
      ]
     },
     "execution_count": 11,
     "metadata": {},
     "output_type": "execute_result"
    }
   ],
   "source": [
    "disney.Movie.value_counts()"
   ]
  },
  {
   "cell_type": "markdown",
   "metadata": {},
   "source": [
    "These columns look good, and all their counts line up! Sweet! (These counts should line up with the utterance numbers for each film). Let's take a look at Tangled, since it's a little hairy."
   ]
  },
  {
   "cell_type": "code",
   "execution_count": 12,
   "metadata": {},
   "outputs": [],
   "source": [
    "disney_tangled = disney.loc[disney.Movie == 'Tangled']"
   ]
  },
  {
   "cell_type": "code",
   "execution_count": 13,
   "metadata": {},
   "outputs": [
    {
     "data": {
      "text/html": [
       "<div>\n",
       "<style scoped>\n",
       "    .dataframe tbody tr th:only-of-type {\n",
       "        vertical-align: middle;\n",
       "    }\n",
       "\n",
       "    .dataframe tbody tr th {\n",
       "        vertical-align: top;\n",
       "    }\n",
       "\n",
       "    .dataframe thead th {\n",
       "        text-align: right;\n",
       "    }\n",
       "</style>\n",
       "<table border=\"1\" class=\"dataframe\">\n",
       "  <thead>\n",
       "    <tr style=\"text-align: right;\">\n",
       "      <th></th>\n",
       "      <th>Disney_Period</th>\n",
       "      <th>Text</th>\n",
       "      <th>Speaker_Status</th>\n",
       "      <th>Movie</th>\n",
       "      <th>Speaker</th>\n",
       "      <th>Year</th>\n",
       "      <th>UTTERANCE_NUMBER</th>\n",
       "    </tr>\n",
       "  </thead>\n",
       "  <tbody>\n",
       "  </tbody>\n",
       "</table>\n",
       "</div>"
      ],
      "text/plain": [
       "Empty DataFrame\n",
       "Columns: [Disney_Period, Text, Speaker_Status, Movie, Speaker, Year, UTTERANCE_NUMBER]\n",
       "Index: []"
      ]
     },
     "execution_count": 13,
     "metadata": {},
     "output_type": "execute_result"
    }
   ],
   "source": [
    "disney_tangled.head()"
   ]
  },
  {
   "cell_type": "markdown",
   "metadata": {},
   "source": [
    "Uh-oh. We have a problem. Apparently Tangled isn't a movie name? Something's up with that column"
   ]
  },
  {
   "cell_type": "code",
   "execution_count": 14,
   "metadata": {},
   "outputs": [
    {
     "name": "stdout",
     "output_type": "stream",
     "text": [
      "hiSnow White hi\n",
      "hiSnow White hi\n",
      "hiSnow White hi\n",
      "hiSnow White hi\n",
      "hiSnow White hi\n",
      "hiSnow White hi\n",
      "hiSnow White hi\n",
      "hiSnow White hi\n",
      "hiSnow White hi\n",
      "hiSnow White hi\n"
     ]
    }
   ],
   "source": [
    "for m in disney.Movie[:10]:\n",
    "    print('hi'+m+'hi')"
   ]
  },
  {
   "cell_type": "markdown",
   "metadata": {},
   "source": [
    "HAHA! So there's a ghost space that's messing things up.(this was actually in all entries, I just didn't want to flash all of it.) Okay, let's fix that."
   ]
  },
  {
   "cell_type": "code",
   "execution_count": 15,
   "metadata": {},
   "outputs": [],
   "source": [
    "disney.Movie = disney.Movie.map(lambda x: x.strip())"
   ]
  },
  {
   "cell_type": "code",
   "execution_count": 16,
   "metadata": {},
   "outputs": [
    {
     "name": "stdout",
     "output_type": "stream",
     "text": [
      "hiSnow Whitehi\n",
      "hiSnow Whitehi\n",
      "hiSnow Whitehi\n",
      "hiSnow Whitehi\n",
      "hiSnow Whitehi\n",
      "hiSnow Whitehi\n",
      "hiSnow Whitehi\n",
      "hiSnow Whitehi\n",
      "hiSnow Whitehi\n",
      "hiSnow Whitehi\n"
     ]
    }
   ],
   "source": [
    "for m in disney.Movie[:10]:\n",
    "    print('hi'+m+'hi')"
   ]
  },
  {
   "cell_type": "markdown",
   "metadata": {},
   "source": [
    "Yay! Fixed! (I hope)"
   ]
  },
  {
   "cell_type": "code",
   "execution_count": 17,
   "metadata": {},
   "outputs": [],
   "source": [
    "disney_frozen = disney[disney.Movie == 'Frozen']"
   ]
  },
  {
   "cell_type": "code",
   "execution_count": 18,
   "metadata": {},
   "outputs": [
    {
     "data": {
      "text/html": [
       "<div>\n",
       "<style scoped>\n",
       "    .dataframe tbody tr th:only-of-type {\n",
       "        vertical-align: middle;\n",
       "    }\n",
       "\n",
       "    .dataframe tbody tr th {\n",
       "        vertical-align: top;\n",
       "    }\n",
       "\n",
       "    .dataframe thead th {\n",
       "        text-align: right;\n",
       "    }\n",
       "</style>\n",
       "<table border=\"1\" class=\"dataframe\">\n",
       "  <thead>\n",
       "    <tr style=\"text-align: right;\">\n",
       "      <th></th>\n",
       "      <th>Disney_Period</th>\n",
       "      <th>Text</th>\n",
       "      <th>Speaker_Status</th>\n",
       "      <th>Movie</th>\n",
       "      <th>Speaker</th>\n",
       "      <th>Year</th>\n",
       "      <th>UTTERANCE_NUMBER</th>\n",
       "    </tr>\n",
       "  </thead>\n",
       "  <tbody>\n",
       "    <tr>\n",
       "      <th>6760</th>\n",
       "      <td>LATE</td>\n",
       "      <td>born of cold and winter air and mountain rain ...</td>\n",
       "      <td>NON-P</td>\n",
       "      <td>Frozen</td>\n",
       "      <td>ice harvesters</td>\n",
       "      <td>2013</td>\n",
       "      <td>1</td>\n",
       "    </tr>\n",
       "    <tr>\n",
       "      <th>6761</th>\n",
       "      <td>LATE</td>\n",
       "      <td>, and his reindeer calf, sven, share a carrot ...</td>\n",
       "      <td>NON-P</td>\n",
       "      <td>Frozen</td>\n",
       "      <td>ice harvesters</td>\n",
       "      <td>2013</td>\n",
       "      <td>2</td>\n",
       "    </tr>\n",
       "    <tr>\n",
       "      <th>6762</th>\n",
       "      <td>LATE</td>\n",
       "      <td>ice harvesters hup! ho! watch your step! let i...</td>\n",
       "      <td>NON-P</td>\n",
       "      <td>Frozen</td>\n",
       "      <td>ice harvesters</td>\n",
       "      <td>2013</td>\n",
       "      <td>3</td>\n",
       "    </tr>\n",
       "    <tr>\n",
       "      <th>6763</th>\n",
       "      <td>LATE</td>\n",
       "      <td>ice harvesters stronger than one, stronger tha...</td>\n",
       "      <td>NON-P</td>\n",
       "      <td>Frozen</td>\n",
       "      <td>ice harvesters</td>\n",
       "      <td>2013</td>\n",
       "      <td>4</td>\n",
       "    </tr>\n",
       "    <tr>\n",
       "      <th>6764</th>\n",
       "      <td>LATE</td>\n",
       "      <td>ice harvesters born of cold and winter air and...</td>\n",
       "      <td>NON-P</td>\n",
       "      <td>Frozen</td>\n",
       "      <td>ice harvesters</td>\n",
       "      <td>2013</td>\n",
       "      <td>5</td>\n",
       "    </tr>\n",
       "  </tbody>\n",
       "</table>\n",
       "</div>"
      ],
      "text/plain": [
       "     Disney_Period                                               Text  \\\n",
       "6760          LATE  born of cold and winter air and mountain rain ...   \n",
       "6761          LATE  , and his reindeer calf, sven, share a carrot ...   \n",
       "6762          LATE  ice harvesters hup! ho! watch your step! let i...   \n",
       "6763          LATE  ice harvesters stronger than one, stronger tha...   \n",
       "6764          LATE  ice harvesters born of cold and winter air and...   \n",
       "\n",
       "     Speaker_Status   Movie          Speaker  Year  UTTERANCE_NUMBER  \n",
       "6760          NON-P  Frozen  ice harvesters   2013                 1  \n",
       "6761          NON-P  Frozen  ice harvesters   2013                 2  \n",
       "6762          NON-P  Frozen  ice harvesters   2013                 3  \n",
       "6763          NON-P  Frozen  ice harvesters   2013                 4  \n",
       "6764          NON-P  Frozen  ice harvesters   2013                 5  "
      ]
     },
     "execution_count": 18,
     "metadata": {},
     "output_type": "execute_result"
    }
   ],
   "source": [
    "disney_frozen.head()"
   ]
  },
  {
   "cell_type": "code",
   "execution_count": 19,
   "metadata": {},
   "outputs": [
    {
     "name": "stdout",
     "output_type": "stream",
     "text": [
      "<class 'pandas.core.frame.DataFrame'>\n",
      "Int64Index: 988 entries, 6760 to 7747\n",
      "Data columns (total 7 columns):\n",
      "Disney_Period       988 non-null object\n",
      "Text                988 non-null object\n",
      "Speaker_Status      988 non-null object\n",
      "Movie               988 non-null object\n",
      "Speaker             988 non-null object\n",
      "Year                988 non-null int64\n",
      "UTTERANCE_NUMBER    988 non-null int64\n",
      "dtypes: int64(2), object(5)\n",
      "memory usage: 42.5+ KB\n"
     ]
    }
   ],
   "source": [
    "disney_frozen.info()"
   ]
  },
  {
   "cell_type": "markdown",
   "metadata": {},
   "source": [
    "No null objects, which is good, but look at utterance number 2: that looks like a scene heading, NOT a line of dialogue!"
   ]
  },
  {
   "cell_type": "markdown",
   "metadata": {},
   "source": [
    "## Song Lyrics\n",
    "How are song lyrics treated in this data set? Is there an easy way to separate them out? The opening of Frozen is a song, so let's see what we have there"
   ]
  },
  {
   "cell_type": "code",
   "execution_count": 20,
   "metadata": {},
   "outputs": [
    {
     "data": {
      "text/plain": [
       "6760    born of cold and winter air and mountain rain ...\n",
       "6761    , and his reindeer calf, sven, share a carrot ...\n",
       "6762    ice harvesters hup! ho! watch your step! let i...\n",
       "6763    ice harvesters stronger than one, stronger tha...\n",
       "6764    ice harvesters born of cold and winter air and...\n",
       "6765    ice harvesters this icy force both foul and fa...\n",
       "6766               ext. the kingdom of arendelle — night \n",
       "6767    sleeps in her bed. her little sister anna: (5)...\n",
       "6768    elsa. psst. elsa! psst. elsa doesn't stir. ann...\n",
       "6769                          wake up. wake up. wake up. \n",
       "Name: Text, dtype: object"
      ]
     },
     "execution_count": 20,
     "metadata": {},
     "output_type": "execute_result"
    }
   ],
   "source": [
    "disney_frozen.Text.iloc[:10]"
   ]
  },
  {
   "cell_type": "code",
   "execution_count": 21,
   "metadata": {},
   "outputs": [
    {
     "data": {
      "text/plain": [
       "'born of cold and winter air and mountain rain combining, this icy force both foul and fair has a frozen heart worth mining. the men drag giant ice blocks through channels of water. ice harvesters cut through the heart, cold and clear. strike for love and strike for fear. see the beauty sharp and sheer. split the ice apart! and break the frozen heart. hup! ho! watch your step! let it go! '"
      ]
     },
     "execution_count": 21,
     "metadata": {},
     "output_type": "execute_result"
    }
   ],
   "source": [
    "disney_frozen.Text.iloc[0]"
   ]
  },
  {
   "cell_type": "code",
   "execution_count": 22,
   "metadata": {},
   "outputs": [
    {
     "data": {
      "text/plain": [
       "', and his reindeer calf, sven, share a carrot as they try to keep up with the men.'"
      ]
     },
     "execution_count": 22,
     "metadata": {},
     "output_type": "execute_result"
    }
   ],
   "source": [
    "disney_frozen.Text.iloc[1] #Here's that pesky scene heading!"
   ]
  },
  {
   "cell_type": "code",
   "execution_count": 23,
   "metadata": {},
   "outputs": [
    {
     "name": "stdout",
     "output_type": "stream",
     "text": [
      "born of cold and winter air and mountain rain combining, this icy force both foul and fair has a frozen heart worth mining. the men drag giant ice blocks through channels of water. ice harvesters cut through the heart, cold and clear. strike for love and strike for fear. see the beauty sharp and sheer. split the ice apart! and break the frozen heart. hup! ho! watch your step! let it go! \n",
      ", and his reindeer calf, sven, share a carrot as they try to keep up with the men.\n",
      "ice harvesters hup! ho! watch your step! let it go! kristoff struggles to get a block of ice out of the water. he fails, ends up soaked. sven licks his wet cheek. ice harvesters beautiful! powerful! dangerous! cold! ice has a magic can't be controlled. \n",
      "ice harvesters stronger than one, stronger than ten stronger than a hundred men! \n",
      "ice harvesters born of cold and winter air and mountain rain combining \n",
      "ice harvesters this icy force both foul and fair has a frozen heart worth mining. cut through the heart, cold and clear. in the dark, kristoff and sven finally manage to get a single block of ice out of the water. ice harvesters strike for love and strike for fear. there's beauty and there's danger here. split the ice apart! beware the frozen heart. \n",
      "ext. the kingdom of arendelle — night \n",
      "sleeps in her bed. her little sister anna: (5) pops up beside her.\n",
      "elsa. psst. elsa! psst. elsa doesn't stir. anna sits on elsa and bounces. \n",
      "wake up. wake up. wake up. \n"
     ]
    }
   ],
   "source": [
    "for line in disney_frozen.Text[:10]:\n",
    "    print(line)"
   ]
  },
  {
   "cell_type": "markdown",
   "metadata": {},
   "source": [
    "WOW! A closer look at this data very quickly reveals that the utterances aren't really utterances--they're parts of a script, including scene headers! This data is all lowercase text, too, unlike the shrek script (for that code, refer to my progress report). Here we'll just run a quick example of what might not be considered dialogue."
   ]
  },
  {
   "cell_type": "code",
   "execution_count": 24,
   "metadata": {},
   "outputs": [],
   "source": [
    "not_line = [i for i in disney_frozen.Text if 'ext.' in i]"
   ]
  },
  {
   "cell_type": "code",
   "execution_count": 25,
   "metadata": {},
   "outputs": [
    {
     "data": {
      "text/plain": [
       "4"
      ]
     },
     "execution_count": 25,
     "metadata": {},
     "output_type": "execute_result"
    }
   ],
   "source": [
    "len(not_line)"
   ]
  },
  {
   "cell_type": "code",
   "execution_count": 26,
   "metadata": {},
   "outputs": [
    {
     "name": "stdout",
     "output_type": "stream",
     "text": [
      "['ext. the kingdom of arendelle — night ', 'faster, sven! ext. the valley of the living rock — night ', 'ext. mountain forest clearing — day', \"olaf oh, look at that. i've been impaled. he laughs it off. ext. steep mountain face — day\"]\n"
     ]
    }
   ],
   "source": [
    "print(not_line)"
   ]
  },
  {
   "cell_type": "markdown",
   "metadata": {},
   "source": [
    "Is this true for all the movies?"
   ]
  },
  {
   "cell_type": "code",
   "execution_count": 27,
   "metadata": {},
   "outputs": [
    {
     "data": {
      "text/html": [
       "<div>\n",
       "<style scoped>\n",
       "    .dataframe tbody tr th:only-of-type {\n",
       "        vertical-align: middle;\n",
       "    }\n",
       "\n",
       "    .dataframe tbody tr th {\n",
       "        vertical-align: top;\n",
       "    }\n",
       "\n",
       "    .dataframe thead th {\n",
       "        text-align: right;\n",
       "    }\n",
       "</style>\n",
       "<table border=\"1\" class=\"dataframe\">\n",
       "  <thead>\n",
       "    <tr style=\"text-align: right;\">\n",
       "      <th></th>\n",
       "      <th>Disney_Period</th>\n",
       "      <th>Text</th>\n",
       "      <th>Speaker_Status</th>\n",
       "      <th>Movie</th>\n",
       "      <th>Speaker</th>\n",
       "      <th>Year</th>\n",
       "      <th>UTTERANCE_NUMBER</th>\n",
       "    </tr>\n",
       "  </thead>\n",
       "  <tbody>\n",
       "    <tr>\n",
       "      <th>863</th>\n",
       "      <td>EARLY</td>\n",
       "      <td>in a far away land, long ago, lived a king and...</td>\n",
       "      <td>NON-P</td>\n",
       "      <td>Sleeping Beauty</td>\n",
       "      <td>narrator</td>\n",
       "      <td>1959</td>\n",
       "      <td>1</td>\n",
       "    </tr>\n",
       "    <tr>\n",
       "      <th>864</th>\n",
       "      <td>EARLY</td>\n",
       "      <td>joyfully now to our princess we come, bringing...</td>\n",
       "      <td>NON-P</td>\n",
       "      <td>Sleeping Beauty</td>\n",
       "      <td>choir</td>\n",
       "      <td>1959</td>\n",
       "      <td>2</td>\n",
       "    </tr>\n",
       "    <tr>\n",
       "      <th>865</th>\n",
       "      <td>EARLY</td>\n",
       "      <td>thus on this great and joyous day did all the ...</td>\n",
       "      <td>NON-P</td>\n",
       "      <td>Sleeping Beauty</td>\n",
       "      <td>narrator</td>\n",
       "      <td>1959</td>\n",
       "      <td>3</td>\n",
       "    </tr>\n",
       "    <tr>\n",
       "      <th>866</th>\n",
       "      <td>EARLY</td>\n",
       "      <td>their royal highnesses, king hubert and prince...</td>\n",
       "      <td>NON-P</td>\n",
       "      <td>Sleeping Beauty</td>\n",
       "      <td>announcer</td>\n",
       "      <td>1959</td>\n",
       "      <td>4</td>\n",
       "    </tr>\n",
       "    <tr>\n",
       "      <th>867</th>\n",
       "      <td>EARLY</td>\n",
       "      <td>fondly had these monarchs dreamed one day thei...</td>\n",
       "      <td>NON-P</td>\n",
       "      <td>Sleeping Beauty</td>\n",
       "      <td>narrator</td>\n",
       "      <td>1959</td>\n",
       "      <td>5</td>\n",
       "    </tr>\n",
       "  </tbody>\n",
       "</table>\n",
       "</div>"
      ],
      "text/plain": [
       "    Disney_Period                                               Text  \\\n",
       "863         EARLY  in a far away land, long ago, lived a king and...   \n",
       "864         EARLY  joyfully now to our princess we come, bringing...   \n",
       "865         EARLY  thus on this great and joyous day did all the ...   \n",
       "866         EARLY  their royal highnesses, king hubert and prince...   \n",
       "867         EARLY  fondly had these monarchs dreamed one day thei...   \n",
       "\n",
       "    Speaker_Status            Movie    Speaker  Year  UTTERANCE_NUMBER  \n",
       "863          NON-P  Sleeping Beauty   narrator  1959                 1  \n",
       "864          NON-P  Sleeping Beauty      choir  1959                 2  \n",
       "865          NON-P  Sleeping Beauty   narrator  1959                 3  \n",
       "866          NON-P  Sleeping Beauty  announcer  1959                 4  \n",
       "867          NON-P  Sleeping Beauty   narrator  1959                 5  "
      ]
     },
     "execution_count": 27,
     "metadata": {},
     "output_type": "execute_result"
    }
   ],
   "source": [
    "disney_sb = disney[disney.Movie == 'Sleeping Beauty']\n",
    "disney_sb.head()"
   ]
  },
  {
   "cell_type": "code",
   "execution_count": 28,
   "metadata": {},
   "outputs": [
    {
     "data": {
      "text/html": [
       "<div>\n",
       "<style scoped>\n",
       "    .dataframe tbody tr th:only-of-type {\n",
       "        vertical-align: middle;\n",
       "    }\n",
       "\n",
       "    .dataframe tbody tr th {\n",
       "        vertical-align: top;\n",
       "    }\n",
       "\n",
       "    .dataframe thead th {\n",
       "        text-align: right;\n",
       "    }\n",
       "</style>\n",
       "<table border=\"1\" class=\"dataframe\">\n",
       "  <thead>\n",
       "    <tr style=\"text-align: right;\">\n",
       "      <th></th>\n",
       "      <th>Disney_Period</th>\n",
       "      <th>Text</th>\n",
       "      <th>Speaker_Status</th>\n",
       "      <th>Movie</th>\n",
       "      <th>Speaker</th>\n",
       "      <th>Year</th>\n",
       "      <th>UTTERANCE_NUMBER</th>\n",
       "    </tr>\n",
       "  </thead>\n",
       "  <tbody>\n",
       "    <tr>\n",
       "      <th>1320</th>\n",
       "      <td>EARLY</td>\n",
       "      <td>i know you, i walked with you once upon a dream</td>\n",
       "      <td>NON-P</td>\n",
       "      <td>Sleeping Beauty</td>\n",
       "      <td>choir</td>\n",
       "      <td>1959</td>\n",
       "      <td>458</td>\n",
       "    </tr>\n",
       "    <tr>\n",
       "      <th>1321</th>\n",
       "      <td>EARLY</td>\n",
       "      <td>blue!</td>\n",
       "      <td>NON-P</td>\n",
       "      <td>Sleeping Beauty</td>\n",
       "      <td>merryweather</td>\n",
       "      <td>1959</td>\n",
       "      <td>459</td>\n",
       "    </tr>\n",
       "    <tr>\n",
       "      <th>1322</th>\n",
       "      <td>EARLY</td>\n",
       "      <td>i know you, the gleam in your eyes is so famil...</td>\n",
       "      <td>NON-P</td>\n",
       "      <td>Sleeping Beauty</td>\n",
       "      <td>choir</td>\n",
       "      <td>1959</td>\n",
       "      <td>460</td>\n",
       "    </tr>\n",
       "    <tr>\n",
       "      <th>1323</th>\n",
       "      <td>EARLY</td>\n",
       "      <td>and i know it's true that visions are seldom a...</td>\n",
       "      <td>NON-P</td>\n",
       "      <td>Sleeping Beauty</td>\n",
       "      <td>choir</td>\n",
       "      <td>1959</td>\n",
       "      <td>461</td>\n",
       "    </tr>\n",
       "    <tr>\n",
       "      <th>1324</th>\n",
       "      <td>EARLY</td>\n",
       "      <td>you'll love me at once the way you did once up...</td>\n",
       "      <td>NON-P</td>\n",
       "      <td>Sleeping Beauty</td>\n",
       "      <td>choir</td>\n",
       "      <td>1959</td>\n",
       "      <td>462</td>\n",
       "    </tr>\n",
       "  </tbody>\n",
       "</table>\n",
       "</div>"
      ],
      "text/plain": [
       "     Disney_Period                                               Text  \\\n",
       "1320         EARLY   i know you, i walked with you once upon a dream    \n",
       "1321         EARLY                                             blue!    \n",
       "1322         EARLY  i know you, the gleam in your eyes is so famil...   \n",
       "1323         EARLY  and i know it's true that visions are seldom a...   \n",
       "1324         EARLY  you'll love me at once the way you did once up...   \n",
       "\n",
       "     Speaker_Status            Movie       Speaker  Year  UTTERANCE_NUMBER  \n",
       "1320          NON-P  Sleeping Beauty         choir  1959               458  \n",
       "1321          NON-P  Sleeping Beauty  merryweather  1959               459  \n",
       "1322          NON-P  Sleeping Beauty         choir  1959               460  \n",
       "1323          NON-P  Sleeping Beauty         choir  1959               461  \n",
       "1324          NON-P  Sleeping Beauty         choir  1959               462  "
      ]
     },
     "execution_count": 28,
     "metadata": {},
     "output_type": "execute_result"
    }
   ],
   "source": [
    "disney_sb.tail()"
   ]
  },
  {
   "cell_type": "code",
   "execution_count": 29,
   "metadata": {},
   "outputs": [
    {
     "data": {
      "text/plain": [
       "1038                               but i wanted it blue. \n",
       "1039           now, dear, we decided pink was her color. \n",
       "1040                                        you decided! \n",
       "1041             two eggs, fold in gently fold? oh well. \n",
       "1042                                    i can't breathe! \n",
       "1043                                     it looks awful. \n",
       "1044                   that's because it's on you, dear. \n",
       "1045                            now yeast, one tsp. tsp? \n",
       "1046                                       one teaspoon! \n",
       "1047                            one teaspoon, of course. \n",
       "1048                oh gracious how the child has grown. \n",
       "1049    oh, it seems only yesterday we brought her here. \n",
       "1050                                   just a tiny baby. \n",
       "1051                                   why merryweather! \n",
       "1052                        whatever's the matter, dear? \n",
       "1053    after the day she'll be a princess, and we won...\n",
       "1054                                           oh flora! \n",
       "1055                   we all knew this day had to come. \n",
       "1056                but why did it have to come so soon? \n",
       "1057         after all, we've had her for sixteen years. \n",
       "1058                            sixteen wonderful years. \n",
       "1059    good gracious, we're acting like a lot of ninn...\n",
       "1060    hear that, samson? beautiful! what is it? come...\n",
       "1061                                               ohhh! \n",
       "1062                                         no carrots! \n",
       "1063    i wonder, i wonder, i wonder why each little b...\n",
       "1064    oh dear, why do they still treat me like a chi...\n",
       "1065                                                who? \n",
       "1066    why, flora and fauna and merryweather. they ne...\n",
       "1067    but you know something? i fooled 'em. i have m...\n",
       "1068                                      who? who? who? \n",
       "1069    oh, a prince. well, he's tall and handsome and...\n",
       "1070    yes, it's only in my dreams. but they say if y...\n",
       "1071    you know samson, there was something strange a...\n",
       "1072                                        there, stop! \n",
       "1073                      oh, why, it's my dream prince! \n",
       "1074    and i know it's true that visions are seldom a...\n",
       "1075    but if i know you i know what you'll do you'll...\n",
       "1076                                     the way you did \n",
       "1077                                   once upon a dream \n",
       "1078                                                 oh? \n",
       "1079                                                 oh! \n",
       "1080    i'm awfully sorry. i didn't mean to frighten y...\n",
       "1081    oh it wasn't that. it's just that you're a, a ...\n",
       "1082                                         a stranger? \n",
       "1083                                             hmmhmm. \n",
       "1084           but don't you remember? we've met before! \n",
       "1085                                        we, we have? \n",
       "1086    of course, you said so yourself, once upon a d...\n",
       "1087    i know you i walked with you once upon a dream...\n",
       "Name: Text, dtype: object"
      ]
     },
     "execution_count": 29,
     "metadata": {},
     "output_type": "execute_result"
    }
   ],
   "source": [
    "disney_sb.Text.iloc[175:225]"
   ]
  },
  {
   "cell_type": "markdown",
   "metadata": {},
   "source": [
    "At first glance, Sleeping Beauty doesn't appear to have screenplay annotations like Frozen. So this data is VERY varying in accuracy. However, it looks like song lyrics are included (See entry 1063)! These will have to be marked up. (These should be quick finds, just a matter of marking up rows that contain lyrics.)"
   ]
  },
  {
   "cell_type": "markdown",
   "metadata": {},
   "source": [
    "# Moana\n",
    "I have to create my own csv file for Moana. I don't need to include Movie, Year, or Disney_Period labels for this one because I can easily add that to a dataframe! But, I will initially include text, speaker, if the line is dialogue (D) or a song (S), and if the line marks the beginning of a scene. Then, I can add role, gender, speaker_status, etc! I have to say, gathering the data to create the csv file in the first place was probably the most time consuming part of this process!"
   ]
  },
  {
   "cell_type": "code",
   "execution_count": 30,
   "metadata": {},
   "outputs": [],
   "source": [
    "moana = pd.read_csv(r'C:\\Users\\cassi\\Desktop\\moana.csv') #importing my personal csv file"
   ]
  },
  {
   "cell_type": "code",
   "execution_count": 31,
   "metadata": {},
   "outputs": [
    {
     "data": {
      "text/html": [
       "<div>\n",
       "<style scoped>\n",
       "    .dataframe tbody tr th:only-of-type {\n",
       "        vertical-align: middle;\n",
       "    }\n",
       "\n",
       "    .dataframe tbody tr th {\n",
       "        vertical-align: top;\n",
       "    }\n",
       "\n",
       "    .dataframe thead th {\n",
       "        text-align: right;\n",
       "    }\n",
       "</style>\n",
       "<table border=\"1\" class=\"dataframe\">\n",
       "  <thead>\n",
       "    <tr style=\"text-align: right;\">\n",
       "      <th></th>\n",
       "      <th>Text</th>\n",
       "      <th>Speaker</th>\n",
       "      <th>Song</th>\n",
       "      <th>Start_Scene</th>\n",
       "    </tr>\n",
       "  </thead>\n",
       "  <tbody>\n",
       "    <tr>\n",
       "      <th>0</th>\n",
       "      <td>in the beginning, there was only ocean until t...</td>\n",
       "      <td>tala</td>\n",
       "      <td>D</td>\n",
       "      <td>Y</td>\n",
       "    </tr>\n",
       "    <tr>\n",
       "      <th>1</th>\n",
       "      <td>Whoa, whoa, whoa! mother, that's enough.</td>\n",
       "      <td>tui</td>\n",
       "      <td>D</td>\n",
       "      <td>NaN</td>\n",
       "    </tr>\n",
       "    <tr>\n",
       "      <th>2</th>\n",
       "      <td>papa!</td>\n",
       "      <td>young moana</td>\n",
       "      <td>D</td>\n",
       "      <td>NaN</td>\n",
       "    </tr>\n",
       "    <tr>\n",
       "      <th>3</th>\n",
       "      <td>No one goes outside the reef. We are safe here...</td>\n",
       "      <td>tui</td>\n",
       "      <td>D</td>\n",
       "      <td>NaN</td>\n",
       "    </tr>\n",
       "    <tr>\n",
       "      <th>4</th>\n",
       "      <td>Monsters! Monsters! Monsters!</td>\n",
       "      <td>children</td>\n",
       "      <td>D</td>\n",
       "      <td>NaN</td>\n",
       "    </tr>\n",
       "  </tbody>\n",
       "</table>\n",
       "</div>"
      ],
      "text/plain": [
       "                                                Text      Speaker Song  \\\n",
       "0  in the beginning, there was only ocean until t...         tala    D   \n",
       "1           Whoa, whoa, whoa! mother, that's enough.          tui    D   \n",
       "2                                              papa!  young moana    D   \n",
       "3  No one goes outside the reef. We are safe here...          tui    D   \n",
       "4                      Monsters! Monsters! Monsters!     children    D   \n",
       "\n",
       "  Start_Scene  \n",
       "0           Y  \n",
       "1         NaN  \n",
       "2         NaN  \n",
       "3         NaN  \n",
       "4         NaN  "
      ]
     },
     "execution_count": 31,
     "metadata": {},
     "output_type": "execute_result"
    }
   ],
   "source": [
    "moana.head() #a glimpse at the data"
   ]
  },
  {
   "cell_type": "code",
   "execution_count": 32,
   "metadata": {},
   "outputs": [
    {
     "name": "stdout",
     "output_type": "stream",
     "text": [
      "<class 'pandas.core.frame.DataFrame'>\n",
      "RangeIndex: 382 entries, 0 to 381\n",
      "Data columns (total 4 columns):\n",
      "Text           382 non-null object\n",
      "Speaker        382 non-null object\n",
      "Song           382 non-null object\n",
      "Start_Scene    21 non-null object\n",
      "dtypes: object(4)\n",
      "memory usage: 6.0+ KB\n"
     ]
    }
   ],
   "source": [
    "moana.info() #checking for null entries"
   ]
  },
  {
   "cell_type": "markdown",
   "metadata": {},
   "source": [
    "Based on how I divied up the data, there are 21 scenes. I marked the first line in the scene so that when I eventually analyze my data, any kind of dialogue interaction analysis won't include lines that overlap scenes (which would lead to inaccurate results). This is why there are so many null objects in Start_Scene -- i didn't bother marking the line of dialogue if it didn't begin a movie scene.\n",
    "\n",
    "## Marking Gander, Speaker_Status, and Role\n",
    "### Gender"
   ]
  },
  {
   "cell_type": "code",
   "execution_count": 33,
   "metadata": {},
   "outputs": [
    {
     "data": {
      "text/plain": [
       "count       382\n",
       "unique       20\n",
       "top       moana\n",
       "freq        167\n",
       "Name: Speaker, dtype: object"
      ]
     },
     "execution_count": 33,
     "metadata": {},
     "output_type": "execute_result"
    }
   ],
   "source": [
    "moana.Speaker.describe() #20 speakers in Moana"
   ]
  },
  {
   "cell_type": "code",
   "execution_count": 34,
   "metadata": {},
   "outputs": [
    {
     "data": {
      "text/plain": [
       "moana                167\n",
       "maui                 108\n",
       "tui                   36\n",
       "tala                  24\n",
       "tamatoa                9\n",
       "sina                   8\n",
       "male villager 3        5\n",
       "young moana            5\n",
       "chorus                 4\n",
       "children               3\n",
       "female villager 1      2\n",
       "male villager 2        2\n",
       "male villager 1        2\n",
       "old male villager      1\n",
       "male villager 7        1\n",
       "male villager 5        1\n",
       "male villager 8        1\n",
       "male villager 4        1\n",
       "male villager 6        1\n",
       "female villager        1\n",
       "Name: Speaker, dtype: int64"
      ]
     },
     "execution_count": 34,
     "metadata": {},
     "output_type": "execute_result"
    }
   ],
   "source": [
    "moana.Speaker.value_counts() #all their names--no repeats!"
   ]
  },
  {
   "cell_type": "markdown",
   "metadata": {},
   "source": [
    "I'm constructing lists of characters based on gender. The same process will be used for other movies, and then those films can all use the generic function found below "
   ]
  },
  {
   "cell_type": "code",
   "execution_count": 35,
   "metadata": {},
   "outputs": [
    {
     "data": {
      "text/plain": [
       "20"
      ]
     },
     "execution_count": 35,
     "metadata": {},
     "output_type": "execute_result"
    }
   ],
   "source": [
    "female = ['moana', 'tala', 'sina', 'young moana', 'female villager 1', 'female villager']\n",
    "male = ['maui', 'tui', 'tamatoa', 'male villager 1', 'male villager 2', 'male villager 3', 'male villager 4',\n",
    "       'male villager 5', 'male villager 6', 'male villager 7', 'male villager 8', 'old male villager']\n",
    "neutral = ['children', 'chorus']\n",
    "len(set(female+male+neutral)) #a quick check that this is 20 people"
   ]
  },
  {
   "cell_type": "code",
   "execution_count": 36,
   "metadata": {},
   "outputs": [],
   "source": [
    "def whichgen(name):\n",
    "    if name in female: return 'f'\n",
    "    elif name in male: return 'm'\n",
    "    else: return 'n'\n",
    "moana[\"Gender\"] = moana.Speaker.map(whichgen)"
   ]
  },
  {
   "cell_type": "code",
   "execution_count": 37,
   "metadata": {},
   "outputs": [
    {
     "data": {
      "text/html": [
       "<div>\n",
       "<style scoped>\n",
       "    .dataframe tbody tr th:only-of-type {\n",
       "        vertical-align: middle;\n",
       "    }\n",
       "\n",
       "    .dataframe tbody tr th {\n",
       "        vertical-align: top;\n",
       "    }\n",
       "\n",
       "    .dataframe thead th {\n",
       "        text-align: right;\n",
       "    }\n",
       "</style>\n",
       "<table border=\"1\" class=\"dataframe\">\n",
       "  <thead>\n",
       "    <tr style=\"text-align: right;\">\n",
       "      <th></th>\n",
       "      <th>Text</th>\n",
       "      <th>Speaker</th>\n",
       "      <th>Song</th>\n",
       "      <th>Start_Scene</th>\n",
       "      <th>Gender</th>\n",
       "    </tr>\n",
       "  </thead>\n",
       "  <tbody>\n",
       "    <tr>\n",
       "      <th>0</th>\n",
       "      <td>in the beginning, there was only ocean until t...</td>\n",
       "      <td>tala</td>\n",
       "      <td>D</td>\n",
       "      <td>Y</td>\n",
       "      <td>f</td>\n",
       "    </tr>\n",
       "    <tr>\n",
       "      <th>1</th>\n",
       "      <td>Whoa, whoa, whoa! mother, that's enough.</td>\n",
       "      <td>tui</td>\n",
       "      <td>D</td>\n",
       "      <td>NaN</td>\n",
       "      <td>m</td>\n",
       "    </tr>\n",
       "    <tr>\n",
       "      <th>2</th>\n",
       "      <td>papa!</td>\n",
       "      <td>young moana</td>\n",
       "      <td>D</td>\n",
       "      <td>NaN</td>\n",
       "      <td>f</td>\n",
       "    </tr>\n",
       "    <tr>\n",
       "      <th>3</th>\n",
       "      <td>No one goes outside the reef. We are safe here...</td>\n",
       "      <td>tui</td>\n",
       "      <td>D</td>\n",
       "      <td>NaN</td>\n",
       "      <td>m</td>\n",
       "    </tr>\n",
       "    <tr>\n",
       "      <th>4</th>\n",
       "      <td>Monsters! Monsters! Monsters!</td>\n",
       "      <td>children</td>\n",
       "      <td>D</td>\n",
       "      <td>NaN</td>\n",
       "      <td>n</td>\n",
       "    </tr>\n",
       "  </tbody>\n",
       "</table>\n",
       "</div>"
      ],
      "text/plain": [
       "                                                Text      Speaker Song  \\\n",
       "0  in the beginning, there was only ocean until t...         tala    D   \n",
       "1           Whoa, whoa, whoa! mother, that's enough.          tui    D   \n",
       "2                                              papa!  young moana    D   \n",
       "3  No one goes outside the reef. We are safe here...          tui    D   \n",
       "4                      Monsters! Monsters! Monsters!     children    D   \n",
       "\n",
       "  Start_Scene Gender  \n",
       "0           Y      f  \n",
       "1         NaN      m  \n",
       "2         NaN      f  \n",
       "3         NaN      m  \n",
       "4         NaN      n  "
      ]
     },
     "execution_count": 37,
     "metadata": {},
     "output_type": "execute_result"
    }
   ],
   "source": [
    "moana.head()"
   ]
  },
  {
   "cell_type": "markdown",
   "metadata": {},
   "source": [
    "### Speaker_Status\n",
    "in this film, the only princess is moana, and everyone else is a NON-P. Again, I'm using a generic function in case I want to use it again (although the movies outside disney I'm looking at don't usually involve princesses)."
   ]
  },
  {
   "cell_type": "code",
   "execution_count": 38,
   "metadata": {},
   "outputs": [],
   "source": [
    "def whichstat(name):\n",
    "    if name == 'moana' or name == 'young moana': return 'PRINCESS'\n",
    "    else: return 'NON-P'\n",
    "\n",
    "moana['Speaker_Status'] = moana.Speaker.map(whichstat)"
   ]
  },
  {
   "cell_type": "code",
   "execution_count": 39,
   "metadata": {},
   "outputs": [
    {
     "data": {
      "text/html": [
       "<div>\n",
       "<style scoped>\n",
       "    .dataframe tbody tr th:only-of-type {\n",
       "        vertical-align: middle;\n",
       "    }\n",
       "\n",
       "    .dataframe tbody tr th {\n",
       "        vertical-align: top;\n",
       "    }\n",
       "\n",
       "    .dataframe thead th {\n",
       "        text-align: right;\n",
       "    }\n",
       "</style>\n",
       "<table border=\"1\" class=\"dataframe\">\n",
       "  <thead>\n",
       "    <tr style=\"text-align: right;\">\n",
       "      <th></th>\n",
       "      <th>Text</th>\n",
       "      <th>Speaker</th>\n",
       "      <th>Song</th>\n",
       "      <th>Start_Scene</th>\n",
       "      <th>Gender</th>\n",
       "      <th>Speaker_Status</th>\n",
       "    </tr>\n",
       "  </thead>\n",
       "  <tbody>\n",
       "    <tr>\n",
       "      <th>0</th>\n",
       "      <td>in the beginning, there was only ocean until t...</td>\n",
       "      <td>tala</td>\n",
       "      <td>D</td>\n",
       "      <td>Y</td>\n",
       "      <td>f</td>\n",
       "      <td>NON-P</td>\n",
       "    </tr>\n",
       "    <tr>\n",
       "      <th>1</th>\n",
       "      <td>Whoa, whoa, whoa! mother, that's enough.</td>\n",
       "      <td>tui</td>\n",
       "      <td>D</td>\n",
       "      <td>NaN</td>\n",
       "      <td>m</td>\n",
       "      <td>NON-P</td>\n",
       "    </tr>\n",
       "    <tr>\n",
       "      <th>2</th>\n",
       "      <td>papa!</td>\n",
       "      <td>young moana</td>\n",
       "      <td>D</td>\n",
       "      <td>NaN</td>\n",
       "      <td>f</td>\n",
       "      <td>PRINCESS</td>\n",
       "    </tr>\n",
       "    <tr>\n",
       "      <th>3</th>\n",
       "      <td>No one goes outside the reef. We are safe here...</td>\n",
       "      <td>tui</td>\n",
       "      <td>D</td>\n",
       "      <td>NaN</td>\n",
       "      <td>m</td>\n",
       "      <td>NON-P</td>\n",
       "    </tr>\n",
       "    <tr>\n",
       "      <th>4</th>\n",
       "      <td>Monsters! Monsters! Monsters!</td>\n",
       "      <td>children</td>\n",
       "      <td>D</td>\n",
       "      <td>NaN</td>\n",
       "      <td>n</td>\n",
       "      <td>NON-P</td>\n",
       "    </tr>\n",
       "  </tbody>\n",
       "</table>\n",
       "</div>"
      ],
      "text/plain": [
       "                                                Text      Speaker Song  \\\n",
       "0  in the beginning, there was only ocean until t...         tala    D   \n",
       "1           Whoa, whoa, whoa! mother, that's enough.          tui    D   \n",
       "2                                              papa!  young moana    D   \n",
       "3  No one goes outside the reef. We are safe here...          tui    D   \n",
       "4                      Monsters! Monsters! Monsters!     children    D   \n",
       "\n",
       "  Start_Scene Gender Speaker_Status  \n",
       "0           Y      f          NON-P  \n",
       "1         NaN      m          NON-P  \n",
       "2         NaN      f       PRINCESS  \n",
       "3         NaN      m          NON-P  \n",
       "4         NaN      n          NON-P  "
      ]
     },
     "execution_count": 39,
     "metadata": {},
     "output_type": "execute_result"
    }
   ],
   "source": [
    "moana.head()"
   ]
  },
  {
   "cell_type": "markdown",
   "metadata": {},
   "source": [
    "### Role\n",
    "Is the speaker a protagonist, antagonist, helper, or neutral. I'm listing Tui, Moana's father, as an antagonist along with tamatoa, since he prevents her from going on her journey at the start of the film. Moana and Maui are going to be listed as protagonists, while tala and sina can be listed as helpers who aid Moana and Maui on their journey. Perhaps later on I may refine this (Maui is arguably a helper, and towards the beginning he acts more like an antagonist). That will be an easy edit, as long as I have editable code down. Again, I will craft lists and a generic function."
   ]
  },
  {
   "cell_type": "code",
   "execution_count": 40,
   "metadata": {},
   "outputs": [],
   "source": [
    "pro = ['young moana','moana', 'maui']\n",
    "ant = ['tui', 'tamatoa']\n",
    "helper = ['sina', 'tala']\n"
   ]
  },
  {
   "cell_type": "code",
   "execution_count": 41,
   "metadata": {},
   "outputs": [],
   "source": [
    "def whichrole(name):\n",
    "    if name in pro: return 'PRO'\n",
    "    if name in ant: return 'ANT'\n",
    "    if name in helper: return 'HELPER'\n",
    "    else: return \"N\" #for neutral"
   ]
  },
  {
   "cell_type": "code",
   "execution_count": 42,
   "metadata": {},
   "outputs": [],
   "source": [
    "moana['Role'] = moana.Speaker.map(whichrole)"
   ]
  },
  {
   "cell_type": "code",
   "execution_count": 43,
   "metadata": {},
   "outputs": [
    {
     "data": {
      "text/html": [
       "<div>\n",
       "<style scoped>\n",
       "    .dataframe tbody tr th:only-of-type {\n",
       "        vertical-align: middle;\n",
       "    }\n",
       "\n",
       "    .dataframe tbody tr th {\n",
       "        vertical-align: top;\n",
       "    }\n",
       "\n",
       "    .dataframe thead th {\n",
       "        text-align: right;\n",
       "    }\n",
       "</style>\n",
       "<table border=\"1\" class=\"dataframe\">\n",
       "  <thead>\n",
       "    <tr style=\"text-align: right;\">\n",
       "      <th></th>\n",
       "      <th>Text</th>\n",
       "      <th>Speaker</th>\n",
       "      <th>Song</th>\n",
       "      <th>Start_Scene</th>\n",
       "      <th>Gender</th>\n",
       "      <th>Speaker_Status</th>\n",
       "      <th>Role</th>\n",
       "    </tr>\n",
       "  </thead>\n",
       "  <tbody>\n",
       "    <tr>\n",
       "      <th>0</th>\n",
       "      <td>in the beginning, there was only ocean until t...</td>\n",
       "      <td>tala</td>\n",
       "      <td>D</td>\n",
       "      <td>Y</td>\n",
       "      <td>f</td>\n",
       "      <td>NON-P</td>\n",
       "      <td>HELPER</td>\n",
       "    </tr>\n",
       "    <tr>\n",
       "      <th>1</th>\n",
       "      <td>Whoa, whoa, whoa! mother, that's enough.</td>\n",
       "      <td>tui</td>\n",
       "      <td>D</td>\n",
       "      <td>NaN</td>\n",
       "      <td>m</td>\n",
       "      <td>NON-P</td>\n",
       "      <td>ANT</td>\n",
       "    </tr>\n",
       "    <tr>\n",
       "      <th>2</th>\n",
       "      <td>papa!</td>\n",
       "      <td>young moana</td>\n",
       "      <td>D</td>\n",
       "      <td>NaN</td>\n",
       "      <td>f</td>\n",
       "      <td>PRINCESS</td>\n",
       "      <td>PRO</td>\n",
       "    </tr>\n",
       "    <tr>\n",
       "      <th>3</th>\n",
       "      <td>No one goes outside the reef. We are safe here...</td>\n",
       "      <td>tui</td>\n",
       "      <td>D</td>\n",
       "      <td>NaN</td>\n",
       "      <td>m</td>\n",
       "      <td>NON-P</td>\n",
       "      <td>ANT</td>\n",
       "    </tr>\n",
       "    <tr>\n",
       "      <th>4</th>\n",
       "      <td>Monsters! Monsters! Monsters!</td>\n",
       "      <td>children</td>\n",
       "      <td>D</td>\n",
       "      <td>NaN</td>\n",
       "      <td>n</td>\n",
       "      <td>NON-P</td>\n",
       "      <td>N</td>\n",
       "    </tr>\n",
       "  </tbody>\n",
       "</table>\n",
       "</div>"
      ],
      "text/plain": [
       "                                                Text      Speaker Song  \\\n",
       "0  in the beginning, there was only ocean until t...         tala    D   \n",
       "1           Whoa, whoa, whoa! mother, that's enough.          tui    D   \n",
       "2                                              papa!  young moana    D   \n",
       "3  No one goes outside the reef. We are safe here...          tui    D   \n",
       "4                      Monsters! Monsters! Monsters!     children    D   \n",
       "\n",
       "  Start_Scene Gender Speaker_Status    Role  \n",
       "0           Y      f          NON-P  HELPER  \n",
       "1         NaN      m          NON-P     ANT  \n",
       "2         NaN      f       PRINCESS     PRO  \n",
       "3         NaN      m          NON-P     ANT  \n",
       "4         NaN      n          NON-P       N  "
      ]
     },
     "execution_count": 43,
     "metadata": {},
     "output_type": "execute_result"
    }
   ],
   "source": [
    "moana.head()"
   ]
  },
  {
   "cell_type": "markdown",
   "metadata": {},
   "source": [
    "## Adding pre-existing columns\n",
    "Cool! Now, let's annotate this Moana data with data from the original corpus!\n",
    "\n",
    "First, let's make all the text lower case. This will make it easier to parse through, and it makes the text formatting identical to that in the original corpus"
   ]
  },
  {
   "cell_type": "code",
   "execution_count": 44,
   "metadata": {},
   "outputs": [],
   "source": [
    "moana.Text = moana.Text.map(lambda x: x.lower())"
   ]
  },
  {
   "cell_type": "code",
   "execution_count": 45,
   "metadata": {},
   "outputs": [
    {
     "data": {
      "text/html": [
       "<div>\n",
       "<style scoped>\n",
       "    .dataframe tbody tr th:only-of-type {\n",
       "        vertical-align: middle;\n",
       "    }\n",
       "\n",
       "    .dataframe tbody tr th {\n",
       "        vertical-align: top;\n",
       "    }\n",
       "\n",
       "    .dataframe thead th {\n",
       "        text-align: right;\n",
       "    }\n",
       "</style>\n",
       "<table border=\"1\" class=\"dataframe\">\n",
       "  <thead>\n",
       "    <tr style=\"text-align: right;\">\n",
       "      <th></th>\n",
       "      <th>Text</th>\n",
       "      <th>Speaker</th>\n",
       "      <th>Song</th>\n",
       "      <th>Start_Scene</th>\n",
       "      <th>Gender</th>\n",
       "      <th>Speaker_Status</th>\n",
       "      <th>Role</th>\n",
       "    </tr>\n",
       "  </thead>\n",
       "  <tbody>\n",
       "    <tr>\n",
       "      <th>0</th>\n",
       "      <td>in the beginning, there was only ocean until t...</td>\n",
       "      <td>tala</td>\n",
       "      <td>D</td>\n",
       "      <td>Y</td>\n",
       "      <td>f</td>\n",
       "      <td>NON-P</td>\n",
       "      <td>HELPER</td>\n",
       "    </tr>\n",
       "    <tr>\n",
       "      <th>1</th>\n",
       "      <td>whoa, whoa, whoa! mother, that's enough.</td>\n",
       "      <td>tui</td>\n",
       "      <td>D</td>\n",
       "      <td>NaN</td>\n",
       "      <td>m</td>\n",
       "      <td>NON-P</td>\n",
       "      <td>ANT</td>\n",
       "    </tr>\n",
       "    <tr>\n",
       "      <th>2</th>\n",
       "      <td>papa!</td>\n",
       "      <td>young moana</td>\n",
       "      <td>D</td>\n",
       "      <td>NaN</td>\n",
       "      <td>f</td>\n",
       "      <td>PRINCESS</td>\n",
       "      <td>PRO</td>\n",
       "    </tr>\n",
       "    <tr>\n",
       "      <th>3</th>\n",
       "      <td>no one goes outside the reef. we are safe here...</td>\n",
       "      <td>tui</td>\n",
       "      <td>D</td>\n",
       "      <td>NaN</td>\n",
       "      <td>m</td>\n",
       "      <td>NON-P</td>\n",
       "      <td>ANT</td>\n",
       "    </tr>\n",
       "    <tr>\n",
       "      <th>4</th>\n",
       "      <td>monsters! monsters! monsters!</td>\n",
       "      <td>children</td>\n",
       "      <td>D</td>\n",
       "      <td>NaN</td>\n",
       "      <td>n</td>\n",
       "      <td>NON-P</td>\n",
       "      <td>N</td>\n",
       "    </tr>\n",
       "  </tbody>\n",
       "</table>\n",
       "</div>"
      ],
      "text/plain": [
       "                                                Text      Speaker Song  \\\n",
       "0  in the beginning, there was only ocean until t...         tala    D   \n",
       "1           whoa, whoa, whoa! mother, that's enough.          tui    D   \n",
       "2                                              papa!  young moana    D   \n",
       "3  no one goes outside the reef. we are safe here...          tui    D   \n",
       "4                      monsters! monsters! monsters!     children    D   \n",
       "\n",
       "  Start_Scene Gender Speaker_Status    Role  \n",
       "0           Y      f          NON-P  HELPER  \n",
       "1         NaN      m          NON-P     ANT  \n",
       "2         NaN      f       PRINCESS     PRO  \n",
       "3         NaN      m          NON-P     ANT  \n",
       "4         NaN      n          NON-P       N  "
      ]
     },
     "execution_count": 45,
     "metadata": {},
     "output_type": "execute_result"
    }
   ],
   "source": [
    "moana.head()"
   ]
  },
  {
   "cell_type": "code",
   "execution_count": 46,
   "metadata": {},
   "outputs": [],
   "source": [
    "moana[\"Movie\"] = 'Moana'\n",
    "moana['Year'] = 2016\n",
    "moana['Disney_Period'] = 'LATE'"
   ]
  },
  {
   "cell_type": "code",
   "execution_count": 47,
   "metadata": {},
   "outputs": [
    {
     "data": {
      "text/html": [
       "<div>\n",
       "<style scoped>\n",
       "    .dataframe tbody tr th:only-of-type {\n",
       "        vertical-align: middle;\n",
       "    }\n",
       "\n",
       "    .dataframe tbody tr th {\n",
       "        vertical-align: top;\n",
       "    }\n",
       "\n",
       "    .dataframe thead th {\n",
       "        text-align: right;\n",
       "    }\n",
       "</style>\n",
       "<table border=\"1\" class=\"dataframe\">\n",
       "  <thead>\n",
       "    <tr style=\"text-align: right;\">\n",
       "      <th></th>\n",
       "      <th>Text</th>\n",
       "      <th>Speaker</th>\n",
       "      <th>Song</th>\n",
       "      <th>Start_Scene</th>\n",
       "      <th>Gender</th>\n",
       "      <th>Speaker_Status</th>\n",
       "      <th>Role</th>\n",
       "      <th>Movie</th>\n",
       "      <th>Year</th>\n",
       "      <th>Disney_Period</th>\n",
       "    </tr>\n",
       "  </thead>\n",
       "  <tbody>\n",
       "    <tr>\n",
       "      <th>0</th>\n",
       "      <td>in the beginning, there was only ocean until t...</td>\n",
       "      <td>tala</td>\n",
       "      <td>D</td>\n",
       "      <td>Y</td>\n",
       "      <td>f</td>\n",
       "      <td>NON-P</td>\n",
       "      <td>HELPER</td>\n",
       "      <td>Moana</td>\n",
       "      <td>2016</td>\n",
       "      <td>LATE</td>\n",
       "    </tr>\n",
       "    <tr>\n",
       "      <th>1</th>\n",
       "      <td>whoa, whoa, whoa! mother, that's enough.</td>\n",
       "      <td>tui</td>\n",
       "      <td>D</td>\n",
       "      <td>NaN</td>\n",
       "      <td>m</td>\n",
       "      <td>NON-P</td>\n",
       "      <td>ANT</td>\n",
       "      <td>Moana</td>\n",
       "      <td>2016</td>\n",
       "      <td>LATE</td>\n",
       "    </tr>\n",
       "    <tr>\n",
       "      <th>2</th>\n",
       "      <td>papa!</td>\n",
       "      <td>young moana</td>\n",
       "      <td>D</td>\n",
       "      <td>NaN</td>\n",
       "      <td>f</td>\n",
       "      <td>PRINCESS</td>\n",
       "      <td>PRO</td>\n",
       "      <td>Moana</td>\n",
       "      <td>2016</td>\n",
       "      <td>LATE</td>\n",
       "    </tr>\n",
       "    <tr>\n",
       "      <th>3</th>\n",
       "      <td>no one goes outside the reef. we are safe here...</td>\n",
       "      <td>tui</td>\n",
       "      <td>D</td>\n",
       "      <td>NaN</td>\n",
       "      <td>m</td>\n",
       "      <td>NON-P</td>\n",
       "      <td>ANT</td>\n",
       "      <td>Moana</td>\n",
       "      <td>2016</td>\n",
       "      <td>LATE</td>\n",
       "    </tr>\n",
       "    <tr>\n",
       "      <th>4</th>\n",
       "      <td>monsters! monsters! monsters!</td>\n",
       "      <td>children</td>\n",
       "      <td>D</td>\n",
       "      <td>NaN</td>\n",
       "      <td>n</td>\n",
       "      <td>NON-P</td>\n",
       "      <td>N</td>\n",
       "      <td>Moana</td>\n",
       "      <td>2016</td>\n",
       "      <td>LATE</td>\n",
       "    </tr>\n",
       "  </tbody>\n",
       "</table>\n",
       "</div>"
      ],
      "text/plain": [
       "                                                Text      Speaker Song  \\\n",
       "0  in the beginning, there was only ocean until t...         tala    D   \n",
       "1           whoa, whoa, whoa! mother, that's enough.          tui    D   \n",
       "2                                              papa!  young moana    D   \n",
       "3  no one goes outside the reef. we are safe here...          tui    D   \n",
       "4                      monsters! monsters! monsters!     children    D   \n",
       "\n",
       "  Start_Scene Gender Speaker_Status    Role  Movie  Year Disney_Period  \n",
       "0           Y      f          NON-P  HELPER  Moana  2016          LATE  \n",
       "1         NaN      m          NON-P     ANT  Moana  2016          LATE  \n",
       "2         NaN      f       PRINCESS     PRO  Moana  2016          LATE  \n",
       "3         NaN      m          NON-P     ANT  Moana  2016          LATE  \n",
       "4         NaN      n          NON-P       N  Moana  2016          LATE  "
      ]
     },
     "execution_count": 47,
     "metadata": {},
     "output_type": "execute_result"
    }
   ],
   "source": [
    "moana.head()"
   ]
  },
  {
   "cell_type": "code",
   "execution_count": 48,
   "metadata": {},
   "outputs": [],
   "source": [
    "moana[\"UTTERANCE_NUMBER\"] = moana.Text.index + 1 #just adding one to its spot in the dataframe!\n"
   ]
  },
  {
   "cell_type": "code",
   "execution_count": 49,
   "metadata": {},
   "outputs": [
    {
     "data": {
      "text/html": [
       "<div>\n",
       "<style scoped>\n",
       "    .dataframe tbody tr th:only-of-type {\n",
       "        vertical-align: middle;\n",
       "    }\n",
       "\n",
       "    .dataframe tbody tr th {\n",
       "        vertical-align: top;\n",
       "    }\n",
       "\n",
       "    .dataframe thead th {\n",
       "        text-align: right;\n",
       "    }\n",
       "</style>\n",
       "<table border=\"1\" class=\"dataframe\">\n",
       "  <thead>\n",
       "    <tr style=\"text-align: right;\">\n",
       "      <th></th>\n",
       "      <th>Text</th>\n",
       "      <th>Speaker</th>\n",
       "      <th>Song</th>\n",
       "      <th>Start_Scene</th>\n",
       "      <th>Gender</th>\n",
       "      <th>Speaker_Status</th>\n",
       "      <th>Role</th>\n",
       "      <th>Movie</th>\n",
       "      <th>Year</th>\n",
       "      <th>Disney_Period</th>\n",
       "      <th>UTTERANCE_NUMBER</th>\n",
       "    </tr>\n",
       "  </thead>\n",
       "  <tbody>\n",
       "    <tr>\n",
       "      <th>0</th>\n",
       "      <td>in the beginning, there was only ocean until t...</td>\n",
       "      <td>tala</td>\n",
       "      <td>D</td>\n",
       "      <td>Y</td>\n",
       "      <td>f</td>\n",
       "      <td>NON-P</td>\n",
       "      <td>HELPER</td>\n",
       "      <td>Moana</td>\n",
       "      <td>2016</td>\n",
       "      <td>LATE</td>\n",
       "      <td>1</td>\n",
       "    </tr>\n",
       "    <tr>\n",
       "      <th>1</th>\n",
       "      <td>whoa, whoa, whoa! mother, that's enough.</td>\n",
       "      <td>tui</td>\n",
       "      <td>D</td>\n",
       "      <td>NaN</td>\n",
       "      <td>m</td>\n",
       "      <td>NON-P</td>\n",
       "      <td>ANT</td>\n",
       "      <td>Moana</td>\n",
       "      <td>2016</td>\n",
       "      <td>LATE</td>\n",
       "      <td>2</td>\n",
       "    </tr>\n",
       "    <tr>\n",
       "      <th>2</th>\n",
       "      <td>papa!</td>\n",
       "      <td>young moana</td>\n",
       "      <td>D</td>\n",
       "      <td>NaN</td>\n",
       "      <td>f</td>\n",
       "      <td>PRINCESS</td>\n",
       "      <td>PRO</td>\n",
       "      <td>Moana</td>\n",
       "      <td>2016</td>\n",
       "      <td>LATE</td>\n",
       "      <td>3</td>\n",
       "    </tr>\n",
       "    <tr>\n",
       "      <th>3</th>\n",
       "      <td>no one goes outside the reef. we are safe here...</td>\n",
       "      <td>tui</td>\n",
       "      <td>D</td>\n",
       "      <td>NaN</td>\n",
       "      <td>m</td>\n",
       "      <td>NON-P</td>\n",
       "      <td>ANT</td>\n",
       "      <td>Moana</td>\n",
       "      <td>2016</td>\n",
       "      <td>LATE</td>\n",
       "      <td>4</td>\n",
       "    </tr>\n",
       "    <tr>\n",
       "      <th>4</th>\n",
       "      <td>monsters! monsters! monsters!</td>\n",
       "      <td>children</td>\n",
       "      <td>D</td>\n",
       "      <td>NaN</td>\n",
       "      <td>n</td>\n",
       "      <td>NON-P</td>\n",
       "      <td>N</td>\n",
       "      <td>Moana</td>\n",
       "      <td>2016</td>\n",
       "      <td>LATE</td>\n",
       "      <td>5</td>\n",
       "    </tr>\n",
       "  </tbody>\n",
       "</table>\n",
       "</div>"
      ],
      "text/plain": [
       "                                                Text      Speaker Song  \\\n",
       "0  in the beginning, there was only ocean until t...         tala    D   \n",
       "1           whoa, whoa, whoa! mother, that's enough.          tui    D   \n",
       "2                                              papa!  young moana    D   \n",
       "3  no one goes outside the reef. we are safe here...          tui    D   \n",
       "4                      monsters! monsters! monsters!     children    D   \n",
       "\n",
       "  Start_Scene Gender Speaker_Status    Role  Movie  Year Disney_Period  \\\n",
       "0           Y      f          NON-P  HELPER  Moana  2016          LATE   \n",
       "1         NaN      m          NON-P     ANT  Moana  2016          LATE   \n",
       "2         NaN      f       PRINCESS     PRO  Moana  2016          LATE   \n",
       "3         NaN      m          NON-P     ANT  Moana  2016          LATE   \n",
       "4         NaN      n          NON-P       N  Moana  2016          LATE   \n",
       "\n",
       "   UTTERANCE_NUMBER  \n",
       "0                 1  \n",
       "1                 2  \n",
       "2                 3  \n",
       "3                 4  \n",
       "4                 5  "
      ]
     },
     "execution_count": 49,
     "metadata": {},
     "output_type": "execute_result"
    }
   ],
   "source": [
    "moana.head()"
   ]
  },
  {
   "cell_type": "markdown",
   "metadata": {},
   "source": [
    "## Taking out Lion King\n",
    "Right now, I don't want to look at the film \"The Lion King\". However, I might want to look at it later. I'll take it out of this dataframe and save it for later."
   ]
  },
  {
   "cell_type": "code",
   "execution_count": 50,
   "metadata": {},
   "outputs": [],
   "source": [
    "lk = disney[disney.Movie == \"The Lion King\"]"
   ]
  },
  {
   "cell_type": "code",
   "execution_count": 51,
   "metadata": {},
   "outputs": [
    {
     "name": "stdout",
     "output_type": "stream",
     "text": [
      "<class 'pandas.core.frame.DataFrame'>\n",
      "Int64Index: 952 entries, 3336 to 4287\n",
      "Data columns (total 7 columns):\n",
      "Disney_Period       952 non-null object\n",
      "Text                952 non-null object\n",
      "Speaker_Status      952 non-null object\n",
      "Movie               952 non-null object\n",
      "Speaker             952 non-null object\n",
      "Year                952 non-null int64\n",
      "UTTERANCE_NUMBER    952 non-null int64\n",
      "dtypes: int64(2), object(5)\n",
      "memory usage: 40.9+ KB\n"
     ]
    }
   ],
   "source": [
    "lk.info()"
   ]
  },
  {
   "cell_type": "code",
   "execution_count": 52,
   "metadata": {},
   "outputs": [
    {
     "data": {
      "text/html": [
       "<div>\n",
       "<style scoped>\n",
       "    .dataframe tbody tr th:only-of-type {\n",
       "        vertical-align: middle;\n",
       "    }\n",
       "\n",
       "    .dataframe tbody tr th {\n",
       "        vertical-align: top;\n",
       "    }\n",
       "\n",
       "    .dataframe thead th {\n",
       "        text-align: right;\n",
       "    }\n",
       "</style>\n",
       "<table border=\"1\" class=\"dataframe\">\n",
       "  <thead>\n",
       "    <tr style=\"text-align: right;\">\n",
       "      <th></th>\n",
       "      <th>Disney_Period</th>\n",
       "      <th>Text</th>\n",
       "      <th>Speaker_Status</th>\n",
       "      <th>Movie</th>\n",
       "      <th>Speaker</th>\n",
       "      <th>Year</th>\n",
       "      <th>UTTERANCE_NUMBER</th>\n",
       "    </tr>\n",
       "  </thead>\n",
       "  <tbody>\n",
       "    <tr>\n",
       "      <th>3336</th>\n",
       "      <td>MID</td>\n",
       "      <td>background singer</td>\n",
       "      <td>NON-P</td>\n",
       "      <td>The Lion King</td>\n",
       "      <td>background singers</td>\n",
       "      <td>1994</td>\n",
       "      <td>1</td>\n",
       "    </tr>\n",
       "    <tr>\n",
       "      <th>3337</th>\n",
       "      <td>MID</td>\n",
       "      <td>nants ingonyama bagithi baba</td>\n",
       "      <td>NON-P</td>\n",
       "      <td>The Lion King</td>\n",
       "      <td>male singer</td>\n",
       "      <td>1994</td>\n",
       "      <td>2</td>\n",
       "    </tr>\n",
       "    <tr>\n",
       "      <th>3338</th>\n",
       "      <td>MID</td>\n",
       "      <td>sithi uhhmm ingonyama</td>\n",
       "      <td>NON-P</td>\n",
       "      <td>The Lion King</td>\n",
       "      <td>background singers</td>\n",
       "      <td>1994</td>\n",
       "      <td>3</td>\n",
       "    </tr>\n",
       "    <tr>\n",
       "      <th>3339</th>\n",
       "      <td>MID</td>\n",
       "      <td>nants ingonyama bagithi baba</td>\n",
       "      <td>NON-P</td>\n",
       "      <td>The Lion King</td>\n",
       "      <td>male singer</td>\n",
       "      <td>1994</td>\n",
       "      <td>4</td>\n",
       "    </tr>\n",
       "    <tr>\n",
       "      <th>3340</th>\n",
       "      <td>MID</td>\n",
       "      <td>sithi uhm ingonyama ingonyama</td>\n",
       "      <td>NON-P</td>\n",
       "      <td>The Lion King</td>\n",
       "      <td>background singers</td>\n",
       "      <td>1994</td>\n",
       "      <td>5</td>\n",
       "    </tr>\n",
       "  </tbody>\n",
       "</table>\n",
       "</div>"
      ],
      "text/plain": [
       "     Disney_Period                            Text Speaker_Status  \\\n",
       "3336           MID              background singer           NON-P   \n",
       "3337           MID   nants ingonyama bagithi baba           NON-P   \n",
       "3338           MID          sithi uhhmm ingonyama           NON-P   \n",
       "3339           MID   nants ingonyama bagithi baba           NON-P   \n",
       "3340           MID  sithi uhm ingonyama ingonyama           NON-P   \n",
       "\n",
       "              Movie             Speaker  Year  UTTERANCE_NUMBER  \n",
       "3336  The Lion King  background singers  1994                 1  \n",
       "3337  The Lion King         male singer  1994                 2  \n",
       "3338  The Lion King  background singers  1994                 3  \n",
       "3339  The Lion King         male singer  1994                 4  \n",
       "3340  The Lion King  background singers  1994                 5  "
      ]
     },
     "execution_count": 52,
     "metadata": {},
     "output_type": "execute_result"
    }
   ],
   "source": [
    "lk.head()"
   ]
  },
  {
   "cell_type": "code",
   "execution_count": 53,
   "metadata": {
    "scrolled": true
   },
   "outputs": [
    {
     "data": {
      "text/html": [
       "<div>\n",
       "<style scoped>\n",
       "    .dataframe tbody tr th:only-of-type {\n",
       "        vertical-align: middle;\n",
       "    }\n",
       "\n",
       "    .dataframe tbody tr th {\n",
       "        vertical-align: top;\n",
       "    }\n",
       "\n",
       "    .dataframe thead th {\n",
       "        text-align: right;\n",
       "    }\n",
       "</style>\n",
       "<table border=\"1\" class=\"dataframe\">\n",
       "  <thead>\n",
       "    <tr style=\"text-align: right;\">\n",
       "      <th></th>\n",
       "      <th>Disney_Period</th>\n",
       "      <th>Text</th>\n",
       "      <th>Speaker_Status</th>\n",
       "      <th>Movie</th>\n",
       "      <th>Speaker</th>\n",
       "      <th>Year</th>\n",
       "      <th>UTTERANCE_NUMBER</th>\n",
       "    </tr>\n",
       "  </thead>\n",
       "  <tbody>\n",
       "    <tr>\n",
       "      <th>4283</th>\n",
       "      <td>MID</td>\n",
       "      <td>ubuse ngo thando</td>\n",
       "      <td>NON-P</td>\n",
       "      <td>The Lion King</td>\n",
       "      <td>male singer</td>\n",
       "      <td>1994</td>\n",
       "      <td>948</td>\n",
       "    </tr>\n",
       "    <tr>\n",
       "      <th>4284</th>\n",
       "      <td>MID</td>\n",
       "      <td>ubuse ngo xolo</td>\n",
       "      <td>NON-P</td>\n",
       "      <td>The Lion King</td>\n",
       "      <td>male singer</td>\n",
       "      <td>1994</td>\n",
       "      <td>949</td>\n",
       "    </tr>\n",
       "    <tr>\n",
       "      <th>4285</th>\n",
       "      <td>MID</td>\n",
       "      <td>ingonyama nengw' enamabala ingonyama nengw' en...</td>\n",
       "      <td>NON-P</td>\n",
       "      <td>The Lion King</td>\n",
       "      <td>background singer</td>\n",
       "      <td>1994</td>\n",
       "      <td>950</td>\n",
       "    </tr>\n",
       "    <tr>\n",
       "      <th>4286</th>\n",
       "      <td>MID</td>\n",
       "      <td>(ngw' enamabalawa)</td>\n",
       "      <td>NON-P</td>\n",
       "      <td>The Lion King</td>\n",
       "      <td>male singer</td>\n",
       "      <td>1994</td>\n",
       "      <td>951</td>\n",
       "    </tr>\n",
       "    <tr>\n",
       "      <th>4287</th>\n",
       "      <td>MID</td>\n",
       "      <td>till we find our place on the path unwinding i...</td>\n",
       "      <td>NON-P</td>\n",
       "      <td>The Lion King</td>\n",
       "      <td>full chorus</td>\n",
       "      <td>1994</td>\n",
       "      <td>952</td>\n",
       "    </tr>\n",
       "  </tbody>\n",
       "</table>\n",
       "</div>"
      ],
      "text/plain": [
       "     Disney_Period                                               Text  \\\n",
       "4283           MID                                  ubuse ngo thando    \n",
       "4284           MID                                    ubuse ngo xolo    \n",
       "4285           MID  ingonyama nengw' enamabala ingonyama nengw' en...   \n",
       "4286           MID                                (ngw' enamabalawa)    \n",
       "4287           MID  till we find our place on the path unwinding i...   \n",
       "\n",
       "     Speaker_Status          Movie            Speaker  Year  UTTERANCE_NUMBER  \n",
       "4283          NON-P  The Lion King        male singer  1994               948  \n",
       "4284          NON-P  The Lion King        male singer  1994               949  \n",
       "4285          NON-P  The Lion King  background singer  1994               950  \n",
       "4286          NON-P  The Lion King        male singer  1994               951  \n",
       "4287          NON-P  The Lion King        full chorus  1994               952  "
      ]
     },
     "execution_count": 53,
     "metadata": {},
     "output_type": "execute_result"
    }
   ],
   "source": [
    "lk.tail()"
   ]
  },
  {
   "cell_type": "code",
   "execution_count": 54,
   "metadata": {},
   "outputs": [],
   "source": [
    "lk.to_csv('lion_king.csv') #writing to a csv file to be referenced later"
   ]
  },
  {
   "cell_type": "code",
   "execution_count": 55,
   "metadata": {},
   "outputs": [],
   "source": [
    "disney_princess = disney[disney.Movie != 'The Lion King'] #removing lion king"
   ]
  },
  {
   "cell_type": "code",
   "execution_count": 56,
   "metadata": {},
   "outputs": [
    {
     "name": "stdout",
     "output_type": "stream",
     "text": [
      "<class 'pandas.core.frame.DataFrame'>\n",
      "Int64Index: 6796 entries, 0 to 7747\n",
      "Data columns (total 7 columns):\n",
      "Disney_Period       6796 non-null object\n",
      "Text                6796 non-null object\n",
      "Speaker_Status      6796 non-null object\n",
      "Movie               6796 non-null object\n",
      "Speaker             6796 non-null object\n",
      "Year                6796 non-null int64\n",
      "UTTERANCE_NUMBER    6796 non-null int64\n",
      "dtypes: int64(2), object(5)\n",
      "memory usage: 292.0+ KB\n"
     ]
    }
   ],
   "source": [
    "disney_princess.info()"
   ]
  },
  {
   "cell_type": "markdown",
   "metadata": {},
   "source": [
    "The data is missing the correct number of entries! Now all that there's left to do is add moana to the existing data frame, and export it to a new csv file! Because Moana currently has Scene, gender, song, and role markers, a merger may result in a lot of null entries! These nullities will be revised when the existing data is modified."
   ]
  },
  {
   "cell_type": "code",
   "execution_count": 57,
   "metadata": {},
   "outputs": [],
   "source": [
    "disney_princess_new = disney_princess.append(moana, ignore_index=True, sort=True) #reindexes and lines up columns"
   ]
  },
  {
   "cell_type": "code",
   "execution_count": 58,
   "metadata": {},
   "outputs": [
    {
     "name": "stdout",
     "output_type": "stream",
     "text": [
      "<class 'pandas.core.frame.DataFrame'>\n",
      "RangeIndex: 7178 entries, 0 to 7177\n",
      "Data columns (total 11 columns):\n",
      "Disney_Period       7178 non-null object\n",
      "Gender              382 non-null object\n",
      "Movie               7178 non-null object\n",
      "Role                382 non-null object\n",
      "Song                382 non-null object\n",
      "Speaker             7178 non-null object\n",
      "Speaker_Status      7178 non-null object\n",
      "Start_Scene         21 non-null object\n",
      "Text                7178 non-null object\n",
      "UTTERANCE_NUMBER    7178 non-null int64\n",
      "Year                7178 non-null int64\n",
      "dtypes: int64(2), object(9)\n",
      "memory usage: 364.5+ KB\n"
     ]
    }
   ],
   "source": [
    "disney_princess_new.info() #should have 7178 entries: 6796 (Disney data) + 382 (Moana)"
   ]
  },
  {
   "cell_type": "code",
   "execution_count": 59,
   "metadata": {},
   "outputs": [
    {
     "data": {
      "text/html": [
       "<div>\n",
       "<style scoped>\n",
       "    .dataframe tbody tr th:only-of-type {\n",
       "        vertical-align: middle;\n",
       "    }\n",
       "\n",
       "    .dataframe tbody tr th {\n",
       "        vertical-align: top;\n",
       "    }\n",
       "\n",
       "    .dataframe thead th {\n",
       "        text-align: right;\n",
       "    }\n",
       "</style>\n",
       "<table border=\"1\" class=\"dataframe\">\n",
       "  <thead>\n",
       "    <tr style=\"text-align: right;\">\n",
       "      <th></th>\n",
       "      <th>Disney_Period</th>\n",
       "      <th>Gender</th>\n",
       "      <th>Movie</th>\n",
       "      <th>Role</th>\n",
       "      <th>Song</th>\n",
       "      <th>Speaker</th>\n",
       "      <th>Speaker_Status</th>\n",
       "      <th>Start_Scene</th>\n",
       "      <th>Text</th>\n",
       "      <th>UTTERANCE_NUMBER</th>\n",
       "      <th>Year</th>\n",
       "    </tr>\n",
       "  </thead>\n",
       "  <tbody>\n",
       "    <tr>\n",
       "      <th>7173</th>\n",
       "      <td>LATE</td>\n",
       "      <td>m</td>\n",
       "      <td>Moana</td>\n",
       "      <td>ANT</td>\n",
       "      <td>D</td>\n",
       "      <td>tui</td>\n",
       "      <td>NON-P</td>\n",
       "      <td>NaN</td>\n",
       "      <td>it suits you.</td>\n",
       "      <td>378</td>\n",
       "      <td>2016</td>\n",
       "    </tr>\n",
       "    <tr>\n",
       "      <th>7174</th>\n",
       "      <td>LATE</td>\n",
       "      <td>m</td>\n",
       "      <td>Moana</td>\n",
       "      <td>N</td>\n",
       "      <td>D</td>\n",
       "      <td>male villager 8</td>\n",
       "      <td>NON-P</td>\n",
       "      <td>NaN</td>\n",
       "      <td>she's back!</td>\n",
       "      <td>379</td>\n",
       "      <td>2016</td>\n",
       "    </tr>\n",
       "    <tr>\n",
       "      <th>7175</th>\n",
       "      <td>LATE</td>\n",
       "      <td>f</td>\n",
       "      <td>Moana</td>\n",
       "      <td>N</td>\n",
       "      <td>D</td>\n",
       "      <td>female villager</td>\n",
       "      <td>NON-P</td>\n",
       "      <td>NaN</td>\n",
       "      <td>moana!</td>\n",
       "      <td>380</td>\n",
       "      <td>2016</td>\n",
       "    </tr>\n",
       "    <tr>\n",
       "      <th>7176</th>\n",
       "      <td>LATE</td>\n",
       "      <td>f</td>\n",
       "      <td>Moana</td>\n",
       "      <td>PRO</td>\n",
       "      <td>D</td>\n",
       "      <td>moana</td>\n",
       "      <td>PRINCESS</td>\n",
       "      <td>NaN</td>\n",
       "      <td>pua!</td>\n",
       "      <td>381</td>\n",
       "      <td>2016</td>\n",
       "    </tr>\n",
       "    <tr>\n",
       "      <th>7177</th>\n",
       "      <td>LATE</td>\n",
       "      <td>n</td>\n",
       "      <td>Moana</td>\n",
       "      <td>N</td>\n",
       "      <td>S</td>\n",
       "      <td>chorus</td>\n",
       "      <td>NON-P</td>\n",
       "      <td>NaN</td>\n",
       "      <td>we set a course to find a brand new island eve...</td>\n",
       "      <td>382</td>\n",
       "      <td>2016</td>\n",
       "    </tr>\n",
       "  </tbody>\n",
       "</table>\n",
       "</div>"
      ],
      "text/plain": [
       "     Disney_Period Gender  Movie Role Song          Speaker Speaker_Status  \\\n",
       "7173          LATE      m  Moana  ANT    D              tui          NON-P   \n",
       "7174          LATE      m  Moana    N    D  male villager 8          NON-P   \n",
       "7175          LATE      f  Moana    N    D  female villager          NON-P   \n",
       "7176          LATE      f  Moana  PRO    D            moana       PRINCESS   \n",
       "7177          LATE      n  Moana    N    S           chorus          NON-P   \n",
       "\n",
       "     Start_Scene                                               Text  \\\n",
       "7173         NaN                                      it suits you.   \n",
       "7174         NaN                                        she's back!   \n",
       "7175         NaN                                             moana!   \n",
       "7176         NaN                                               pua!   \n",
       "7177         NaN  we set a course to find a brand new island eve...   \n",
       "\n",
       "      UTTERANCE_NUMBER  Year  \n",
       "7173               378  2016  \n",
       "7174               379  2016  \n",
       "7175               380  2016  \n",
       "7176               381  2016  \n",
       "7177               382  2016  "
      ]
     },
     "execution_count": 59,
     "metadata": {},
     "output_type": "execute_result"
    }
   ],
   "source": [
    "disney_princess_new.tail() #checking that reindexing worked"
   ]
  },
  {
   "cell_type": "code",
   "execution_count": 62,
   "metadata": {},
   "outputs": [],
   "source": [
    "disney_princess_new.to_csv(r\"C:\\Users\\cassi\\Desktop\\Data_Science\\Animated-Movie-Gendered-Dialogue\\private\\Disney_1938_2016.csv\") #a new csv file with all disney princess movies!"
   ]
  },
  {
   "cell_type": "code",
   "execution_count": null,
   "metadata": {},
   "outputs": [],
   "source": []
  }
 ],
 "metadata": {
  "kernelspec": {
   "display_name": "Python 3",
   "language": "python",
   "name": "python3"
  },
  "language_info": {
   "codemirror_mode": {
    "name": "ipython",
    "version": 3
   },
   "file_extension": ".py",
   "mimetype": "text/x-python",
   "name": "python",
   "nbconvert_exporter": "python",
   "pygments_lexer": "ipython3",
   "version": "3.6.4"
  }
 },
 "nbformat": 4,
 "nbformat_minor": 2
}
