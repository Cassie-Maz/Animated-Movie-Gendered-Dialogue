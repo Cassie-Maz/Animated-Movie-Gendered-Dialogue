{
 "cells": [
  {
   "cell_type": "markdown",
   "metadata": {},
   "source": [
    "NEW CONTINUING: After [finding errors](https://github.com/Data-Science-for-Linguists-2019/Animated-Movie-Gendered-Dialogue/blob/master/code/Disney_code/Messy_Disney_Movies.ipynb) in Frozen and a successful [scraping of Tangled](https://github.com/Data-Science-for-Linguists-2019/Animated-Movie-Gendered-Dialogue/blob/master/code/Disney_code/Scraping_Tangled.ipynb), I've done the same for Frozen.\n",
    "\n",
    "# Scraping Frozen\n",
    "Basically, I lost my patience with the Frozen dataframe. I'm doing this myself. (I guess I couldn't *let it go*...sorry, sleep-deprived me lives for puns)\n",
    "\n",
    "This webpage (link below in code) is actually formatted much more neatly than Tangled's was. Because of this, it was pretty easy to for loop through the html file, make a string out of each line, and go from there!"
   ]
  },
  {
   "cell_type": "code",
   "execution_count": 1,
   "metadata": {},
   "outputs": [],
   "source": [
    "from bs4 import BeautifulSoup"
   ]
  },
  {
   "cell_type": "code",
   "execution_count": 2,
   "metadata": {},
   "outputs": [],
   "source": [
    "import requests"
   ]
  },
  {
   "cell_type": "code",
   "execution_count": 3,
   "metadata": {},
   "outputs": [],
   "source": [
    "import re"
   ]
  },
  {
   "cell_type": "code",
   "execution_count": 4,
   "metadata": {},
   "outputs": [
    {
     "name": "stdout",
     "output_type": "stream",
     "text": [
      "Pretty printing has been turned OFF\n"
     ]
    }
   ],
   "source": [
    "%pprint"
   ]
  },
  {
   "cell_type": "code",
   "execution_count": 5,
   "metadata": {},
   "outputs": [],
   "source": [
    "link = \"https://transcripts.fandom.com/wiki/Frozen\""
   ]
  },
  {
   "cell_type": "code",
   "execution_count": 6,
   "metadata": {},
   "outputs": [],
   "source": [
    "page_response = requests.get(link, timeout=5)"
   ]
  },
  {
   "cell_type": "code",
   "execution_count": 7,
   "metadata": {},
   "outputs": [],
   "source": [
    "page_content = BeautifulSoup(page_response.content, \"html.parser\")"
   ]
  },
  {
   "cell_type": "code",
   "execution_count": 8,
   "metadata": {},
   "outputs": [],
   "source": [
    "#I did this to help find where the script was located, but I can't flash the whole thing\n",
    "#page_content"
   ]
  },
  {
   "cell_type": "code",
   "execution_count": 9,
   "metadata": {},
   "outputs": [],
   "source": [
    "script_html = page_content.find(\"div\", {\"class\": \"mw-content-ltr mw-content-text\"} ) \n",
    "#this portion contains the actual script!!"
   ]
  },
  {
   "cell_type": "code",
   "execution_count": 10,
   "metadata": {},
   "outputs": [],
   "source": [
    "#I looked at this to see how things were formatted, but I can't show you the whole script\n",
    "# or else Disney might get angry!\n",
    "#script_html"
   ]
  },
  {
   "cell_type": "code",
   "execution_count": 11,
   "metadata": {},
   "outputs": [],
   "source": [
    "#The script is split up at random points, so this is kind of annoying.\n",
    "# At first I thought that meant I had to for loop through each of these, but that\n",
    "# actually gave me 5 copies of my script! YIKES!\n",
    "script_chunks = script_html.find_all(\"ul\")"
   ]
  },
  {
   "cell_type": "code",
   "execution_count": 12,
   "metadata": {},
   "outputs": [
    {
     "data": {
      "text/plain": [
       "5"
      ]
     },
     "execution_count": 12,
     "metadata": {},
     "output_type": "execute_result"
    }
   ],
   "source": [
    "len(script_chunks)"
   ]
  },
  {
   "cell_type": "code",
   "execution_count": 13,
   "metadata": {},
   "outputs": [
    {
     "data": {
      "text/plain": [
       "<ul><li> <b>Anna</b>: That's nice. But... \n",
       "</li><li> <b>Bulda and Troll#1</b>: So he's a bit of a fixer upper. So he's got a few flaws.\n",
       "</li><li><b>Troll #4</b>: Like his peculiar brain, dear.\n",
       "</li><li><b>Troll #5</b>: His thing for the reindeer.\n",
       "</li><li><b>Troll #4 and Troll #5</b>: That's a little outside of nature's laws.\n",
       "</li><li><b>Kristoff</b>: This is not about me!\n",
       "</li><li><b>All Trolls:</b> So he's a bit of a fixer upper, but this we're certain of. You can fix this fixer upper up with a little bit of love. [they push Kristoff towards Anna and they both look embarrassed]\n",
       "</li><li><b>Anna</b>: Um...\n",
       "</li><li><b>Kristoff</b>: [to the trolls as they continue to sing] Can we please just stop talking about this? We've got a real, actual problem here.\n",
       "</li><li><b>Kristoff</b>: Can we please just stop talking about this? We've got a real, actual problem here.\n",
       "</li><li><b>Bulda</b>: I'll say. So tell me dear, is it the way that he runs scared?\n",
       "</li><li><b>Troll #5</b>: Or that he's socially impaired?\n",
       "</li><li><b>Kid Troll #3</b>: Or that he only likes to tinkle in the woods?\n",
       "</li><li><b>Anna</b>: I did not need to know that.\n",
       "</li><li><b>Troll #1</b>: Are you holding back your fondness due to his unmanly blondness? [Anna laughs]\n",
       "</li><li><b>All Trolls</b>: Or the way he covers up that he's the honest goods? He's just a bit of a fixer upper. He's got a couple of' bugs.\n",
       "</li><li><b>Kristoff:</b> No, I don't!\n",
       "</li><li><b>All Trolls</b>: His isolation is confirmation of his desperation for healing hugs. [they all hug Kristoff] So he's a bit of a fixer upper, but we know what to do. The way to fix up this fixer upper is to fix him up with you. [the girl trolls pulls Anna away and the boy trolls pull Kristoff away in the opposite direction]\n",
       "</li><li><b>Kristoff</b>: Stop it. Stop it. Stop it. Enough! She's engaged to someone else. Okay?! [the trolls stare at him, blink and then they huddle together]\n",
       "</li><li><b>Boy Troll #1</b>: So she's a bit of a fixer upper.\n",
       "</li><li><b>Boy Troll #2</b>: That's a minor thing.\n",
       "</li><li><b>Boy Troll #3</b>: Her quote \"engagement\" is a flex arrangement.\n",
       "</li><li><b>Kid Troll</b>: And by the way, I don't see no ring.\n",
       "</li><li><b>All Boy Trolls</b>: So she's a bit of a fixer upper, her brain's a bit betwixt. Get the fiance out of the way and the whole thing will be fixed! [Kristoff puts his face in his hands in frustration] [the girls trolls continue to sing to Anna]\n",
       "</li><li><b>Bulda</b>: We aren't saying you can change him cause people don't really change. We're only saying that love's a force that's powerful and strange. People make bad choices if they're mad or scared or stressed. But throw a little love their way...\n",
       "</li></ul>"
      ]
     },
     "execution_count": 13,
     "metadata": {},
     "output_type": "execute_result"
    }
   ],
   "source": [
    "#here's the smallest chunk in the bunch, so you can see what this formatting looks like!\n",
    "script_chunks[3]"
   ]
  },
  {
   "cell_type": "markdown",
   "metadata": {},
   "source": [
    "### Building a list of tuples\n",
    "Here, I for loop through each next element in my first chunk (which goes through the whole script), turn each line in the chunk into a string, take out all those html characters, and split on the colons (unlike Tangled, I can do this becauce colons only appear after actual lines!!)"
   ]
  },
  {
   "cell_type": "code",
   "execution_count": 14,
   "metadata": {},
   "outputs": [],
   "source": [
    "just_lines_list = []\n",
    "for line in script_chunks[0].next_elements:\n",
    "    line_str = str(line)\n",
    "    if line_str.startswith(\"<li><b>\") or line_str.startswith(\"<li> <b>\"): #all lines start with these\n",
    "        line_str = re.sub(r\"<li> ?<b>\", '', line_str)\n",
    "        line_str = line_str.replace(\"\\n</li>\", '', 1).replace('\"', '').replace(\"</b>\", '')\n",
    "        line_str_real = re.sub(r\"\\[[^\\]]*\\]\", '', line_str)\n",
    "        speaker_line = line_str_real.split(\":\")\n",
    "        speaker_line[0] = speaker_line[0].strip().lower()\n",
    "        speaker_line[1] = speaker_line[1].strip().lower()   \n",
    "        just_lines_list.append(tuple(speaker_line))"
   ]
  },
  {
   "cell_type": "code",
   "execution_count": 15,
   "metadata": {},
   "outputs": [
    {
     "data": {
      "text/plain": [
       "854"
      ]
     },
     "execution_count": 15,
     "metadata": {},
     "output_type": "execute_result"
    }
   ],
   "source": [
    "len(just_lines_list)"
   ]
  },
  {
   "cell_type": "code",
   "execution_count": 16,
   "metadata": {},
   "outputs": [
    {
     "data": {
      "text/plain": [
       "('olaf', 'glide and pivot and glide and pivot...')"
      ]
     },
     "execution_count": 16,
     "metadata": {},
     "output_type": "execute_result"
    }
   ],
   "source": [
    "just_lines_list[-1]"
   ]
  },
  {
   "cell_type": "code",
   "execution_count": 17,
   "metadata": {},
   "outputs": [
    {
     "data": {
      "text/plain": [
       "('ice harvesters', \"born of cold and winter air and mountain rain combining. this icy force both foul and fair has a frozen heart worth mining. so cut through the heart, cold and clear.  strike for love and strike for fear. see the beauty sharp and sheer. split the ice apart and break the frozen heart.  ho! watch your step! let it go! ho! watch your step! let it go! beautiful! powerful! dangerous! cold! ice has a magic can't be controlled. stronger than one, stronger than ten, stronger than a hundred men!  born of cold and winter air and mountain rain combining. this icy force both foul, also this story is about a girl saving another girl from a boy who is very very bad and fair has a frozen heart worth mining.  cut through the heart, cold and clear. strike for love and strike for fear.  there's beauty and there's danger here. split the ice apart! beware the frozen heart.\")"
      ]
     },
     "execution_count": 17,
     "metadata": {},
     "output_type": "execute_result"
    }
   ],
   "source": [
    "just_lines_list[0]"
   ]
  },
  {
   "cell_type": "markdown",
   "metadata": {},
   "source": [
    "### List of tuples created! Time to create a dataframe!!"
   ]
  },
  {
   "cell_type": "code",
   "execution_count": 18,
   "metadata": {},
   "outputs": [],
   "source": [
    "import pandas as pd"
   ]
  },
  {
   "cell_type": "code",
   "execution_count": 19,
   "metadata": {},
   "outputs": [],
   "source": [
    "frozen = pd.DataFrame(just_lines_list, columns=[\"Speaker\", \"Text\"])"
   ]
  },
  {
   "cell_type": "code",
   "execution_count": 20,
   "metadata": {},
   "outputs": [
    {
     "data": {
      "text/html": [
       "<div>\n",
       "<style scoped>\n",
       "    .dataframe tbody tr th:only-of-type {\n",
       "        vertical-align: middle;\n",
       "    }\n",
       "\n",
       "    .dataframe tbody tr th {\n",
       "        vertical-align: top;\n",
       "    }\n",
       "\n",
       "    .dataframe thead th {\n",
       "        text-align: right;\n",
       "    }\n",
       "</style>\n",
       "<table border=\"1\" class=\"dataframe\">\n",
       "  <thead>\n",
       "    <tr style=\"text-align: right;\">\n",
       "      <th></th>\n",
       "      <th>Speaker</th>\n",
       "      <th>Text</th>\n",
       "    </tr>\n",
       "  </thead>\n",
       "  <tbody>\n",
       "    <tr>\n",
       "      <th>0</th>\n",
       "      <td>ice harvesters</td>\n",
       "      <td>born of cold and winter air and mountain rain ...</td>\n",
       "    </tr>\n",
       "    <tr>\n",
       "      <th>1</th>\n",
       "      <td>young kristoff</td>\n",
       "      <td>come on, sven!</td>\n",
       "    </tr>\n",
       "    <tr>\n",
       "      <th>2</th>\n",
       "      <td>young anna</td>\n",
       "      <td>elsa. psst. elsa!  wake up. wake up. wake up. ...</td>\n",
       "    </tr>\n",
       "    <tr>\n",
       "      <th>3</th>\n",
       "      <td>young elsa</td>\n",
       "      <td>go play by yourself.</td>\n",
       "    </tr>\n",
       "    <tr>\n",
       "      <th>4</th>\n",
       "      <td>young anna</td>\n",
       "      <td>do you want to build a snowman?  come on, come...</td>\n",
       "    </tr>\n",
       "  </tbody>\n",
       "</table>\n",
       "</div>"
      ],
      "text/plain": [
       "          Speaker                                               Text\n",
       "0  ice harvesters  born of cold and winter air and mountain rain ...\n",
       "1  young kristoff                                     come on, sven!\n",
       "2      young anna  elsa. psst. elsa!  wake up. wake up. wake up. ...\n",
       "3      young elsa                               go play by yourself.\n",
       "4      young anna  do you want to build a snowman?  come on, come..."
      ]
     },
     "execution_count": 20,
     "metadata": {},
     "output_type": "execute_result"
    }
   ],
   "source": [
    "frozen.head()"
   ]
  },
  {
   "cell_type": "code",
   "execution_count": 21,
   "metadata": {},
   "outputs": [
    {
     "name": "stdout",
     "output_type": "stream",
     "text": [
      "<class 'pandas.core.frame.DataFrame'>\n",
      "RangeIndex: 854 entries, 0 to 853\n",
      "Data columns (total 2 columns):\n",
      "Speaker    854 non-null object\n",
      "Text       854 non-null object\n",
      "dtypes: object(2)\n",
      "memory usage: 6.7+ KB\n"
     ]
    }
   ],
   "source": [
    "frozen.info()"
   ]
  },
  {
   "cell_type": "markdown",
   "metadata": {},
   "source": [
    "## Sweet, sweet victory!!!!!\n",
    "For those of you who are curious, the actual webpage has 856 lines...I tried to capture as many as possible, and I'm still not sure where those last two lines got to. But I figure this data is better than what I had, so I think I can live with two missing lines!\n",
    "\n",
    "Let's pickle it!"
   ]
  },
  {
   "cell_type": "code",
   "execution_count": 22,
   "metadata": {},
   "outputs": [],
   "source": [
    "frozen.to_pickle((r'..\\..\\Animated-Movie-Gendered-Dialogue\\private\\frozen_lines.pkl'))"
   ]
  },
  {
   "cell_type": "code",
   "execution_count": 24,
   "metadata": {},
   "outputs": [
    {
     "data": {
      "text/plain": [
       "['all boy trolls', 'all girl trolls', 'all trolls', 'anna', 'anna and elsa', 'anna and hans', 'bishop', 'boy', 'boy troll', 'boy troll #1', 'boy troll #2', 'boy troll #3', 'bulda', 'bulda and troll #1', 'bulda and troll#1', 'crowd', 'dock master', 'duke', \"duke's guard #1\", \"duke's guard #2\", 'elsa', 'family', 'french dignitary', 'gerda', 'girl troll', 'grand pabbie', 'guard', 'guard #1', 'guard #2', 'guard #3', 'guard #4', 'hans', 'ice harvesters', 'irish dignitary', 'kai', 'kid troll', 'kid troll #1', 'kid troll #2', 'kid troll #3', 'king', 'kristoff', 'man #1', 'man #2', 'man in crowd', 'marshmallow', 'men', 'mother', 'oaken', 'olaf', 'persi', \"persi's wife\", 'queen', 'spanish dignitary', 'teen elsa', 'townswoman', 'troll', 'troll #1', 'troll #2', 'troll #3', 'troll #4', 'troll #4 and troll #5', 'troll #5', 'troll priest', 'voice of man', 'voice of woman', 'woman', 'woman holding baby', 'woman in crowd', 'woman in crowd #1', 'woman in crowd #2', 'young anna', 'young elsa', 'young elsa and king', 'young kristoff']"
      ]
     },
     "execution_count": 24,
     "metadata": {},
     "output_type": "execute_result"
    }
   ],
   "source": [
    "sorted(frozen.Speaker.unique())"
   ]
  },
  {
   "cell_type": "code",
   "execution_count": null,
   "metadata": {},
   "outputs": [],
   "source": []
  }
 ],
 "metadata": {
  "kernelspec": {
   "display_name": "Python 3",
   "language": "python",
   "name": "python3"
  },
  "language_info": {
   "codemirror_mode": {
    "name": "ipython",
    "version": 3
   },
   "file_extension": ".py",
   "mimetype": "text/x-python",
   "name": "python",
   "nbconvert_exporter": "python",
   "pygments_lexer": "ipython3",
   "version": "3.6.4"
  }
 },
 "nbformat": 4,
 "nbformat_minor": 2
}
