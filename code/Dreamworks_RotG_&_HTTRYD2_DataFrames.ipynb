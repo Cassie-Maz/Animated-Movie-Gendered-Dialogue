{
 "cells": [
  {
   "cell_type": "markdown",
   "metadata": {},
   "source": [
    "# Streamlining the Line Extraction Process for two scripts\n",
    "In this code I will...\n",
    "* further analyze the white space in How To Train Your Dragon 2 and Rise of the Guardians\n",
    "* I will see if the white space patterns match in each script\n",
    "* I will write a general code that can be applied to both scripts to extract character dialogue line by line\n"
   ]
  },
  {
   "cell_type": "markdown",
   "metadata": {},
   "source": [
    "## 1) Importing Scripts"
   ]
  },
  {
   "cell_type": "code",
   "execution_count": 1,
   "metadata": {},
   "outputs": [],
   "source": [
    "#importing each script\n",
    "httyd2 = open(r'C:\\Users\\cassi\\Desktop\\Data_Science\\Animated-Movie-Gendered-Dialogue\\private\\imsdb_raw_nov_2015\\Animation\\howtotrainyourdragon2.txt')\n",
    "httyd2_script = httyd2.read()\n",
    "httyd2.close()\n",
    "\n",
    "rotg = open(r'C:\\Users\\cassi\\Desktop\\Data_Science\\Animated-Movie-Gendered-Dialogue\\private\\imsdb_raw_nov_2015\\Animation\\riseoftheguardians.txt')\n",
    "rotg_script = rotg.read()\n",
    "rotg.close()\n",
    "\n",
    "croods = open(r'C:\\Users\\cassi\\Desktop\\Data_Science\\Animated-Movie-Gendered-Dialogue\\private\\imsdb_raw_nov_2015\\Animation\\croodsthe.txt')\n",
    "croods_script = croods.read()\n",
    "croods.close()"
   ]
  },
  {
   "cell_type": "code",
   "execution_count": 4,
   "metadata": {},
   "outputs": [
    {
     "name": "stdout",
     "output_type": "stream",
     "text": [
      "Pretty printing has been turned OFF\n"
     ]
    }
   ],
   "source": [
    "%pprint"
   ]
  },
  {
   "cell_type": "code",
   "execution_count": 12,
   "metadata": {},
   "outputs": [
    {
     "data": {
      "text/plain": [
       "'                     HOW TO TRAIN YOUR DRAGON 2\\n\\n                             Written by\\n\\n                            Dean DeBlois\\n\\n                      Inspired by the novels by\\n\\n                           Cressida Cowell\\n\\n                                                   Final Draft\\n\\n                                                 May 5th, 2014'"
      ]
     },
     "execution_count": 12,
     "metadata": {},
     "output_type": "execute_result"
    }
   ],
   "source": [
    "#Shaving off excess at beginning of each script\n",
    "httyd2_script[:351]"
   ]
  },
  {
   "cell_type": "code",
   "execution_count": 13,
   "metadata": {},
   "outputs": [],
   "source": [
    "httyd2_script = httyd2_script[351:]"
   ]
  },
  {
   "cell_type": "code",
   "execution_count": 25,
   "metadata": {},
   "outputs": [
    {
     "data": {
      "text/plain": [
       "'                              RISE OF THE GUARDIANS\\n\\n                                   Written by\\n\\n                              David Lindsay-Abaire\\n\\n                                               Screening script 9/6/12'"
      ]
     },
     "execution_count": 25,
     "metadata": {},
     "output_type": "execute_result"
    }
   ],
   "source": [
    "rotg_script[:222]"
   ]
  },
  {
   "cell_type": "code",
   "execution_count": 26,
   "metadata": {},
   "outputs": [],
   "source": [
    "rotg_script = rotg_script[222:]"
   ]
  },
  {
   "cell_type": "code",
   "execution_count": 36,
   "metadata": {},
   "outputs": [
    {
     "data": {
      "text/plain": [
       "'                           THE CROODS\\n\\n                           Written by\\n\\n                 Kirk DeMicco & Chris Sanders\\n\\n                                                       12.12.2012'"
      ]
     },
     "execution_count": 36,
     "metadata": {},
     "output_type": "execute_result"
    }
   ],
   "source": [
    "croods_script[:190]"
   ]
  },
  {
   "cell_type": "code",
   "execution_count": 37,
   "metadata": {},
   "outputs": [],
   "source": [
    "croods_script = croods_script[190:]"
   ]
  },
  {
   "cell_type": "code",
   "execution_count": 38,
   "metadata": {},
   "outputs": [
    {
     "name": "stdout",
     "output_type": "stream",
     "text": [
      "\n",
      "\n",
      "           EXT. OPEN SEA - DAY\n",
      "\n",
      "           Hiccup and Toothless BLUR PAST, leaving a wake that leads...                         \n",
      "\n",
      "           EXT. BERK - DAY\n",
      "\n",
      "           (Sequence 0200 - New Berk)\n",
      "\n",
      "           To the island village of Berk, festively adorned with flags\n",
      "\n",
      "           and banners. Major new additions alter its familiar skyline.\n",
      "\n",
      "           HICCUP (V.O.)\n",
      "\n",
      "           This... is Berk. The best kept\n",
      "\n",
      "           secret this side of, well,\n",
      "\n",
      "           anywhere. Granted, it may not look\n",
      "\n",
      " \n",
      "\n",
      "\n",
      "\n",
      "\n",
      "          SEQ. 125 - ALONE IN THE WORLD\n",
      "\n",
      "                         DARKNESS\n",
      "\n",
      "           JACK (V.O.)\n",
      "\n",
      "           Darkness. That's the first thing I\n",
      "\n",
      "           remember. It was dark, and it was\n",
      "\n",
      "           cold. And I was scared.\n",
      "\n",
      "          The silhouette of a body appears as it drifts into a ray of\n",
      "\n",
      "          light, refracted through water, which turns into...\n",
      "\n",
      "          A MOON - SEEN IN REFLECTION ON A SHEET OF ICE\n",
      "\n",
      "          The moonlight intensifies almost magically, and the ice above\n",
      "\n",
      "     \n",
      "\n",
      "\n",
      "\n",
      "\n",
      "          SEQ. 75 - PROLOGUE\n",
      "\n",
      "                         FADE IN:\n",
      "\n",
      "          A cave painting of the Dreamworks logo. Push past the\n",
      "\n",
      "          moon to the sun. Bright. Beautiful. The sun DISSOLVES\n",
      "\n",
      "                         TO:\n",
      "\n",
      "          Cave paintings of a family of cavemen -- we will come to\n",
      "\n",
      "          know them as The Croods.\n",
      "\n",
      "                          EEP (V.O.)\n",
      "\n",
      "           With every sun comes a new day. A new\n",
      "\n",
      "           beginning. A hope that things will be\n",
      "\n",
      "           better today than th\n"
     ]
    }
   ],
   "source": [
    "print(httyd2_script[:500])\n",
    "print('\\n')\n",
    "print(rotg_script[:500])\n",
    "print('\\n')\n",
    "print(croods_script[:500])"
   ]
  },
  {
   "cell_type": "code",
   "execution_count": 40,
   "metadata": {},
   "outputs": [],
   "source": [
    "import re"
   ]
  },
  {
   "cell_type": "code",
   "execution_count": 46,
   "metadata": {},
   "outputs": [
    {
     "data": {
      "text/plain": [
       "['HTTYD 2 (D. DeBlois) - FINAL DRAFT - 05/05/14 2.', 'HTTYD 2 (D. DeBlois) - FINAL DRAFT - 05/05/14 3.', 'HTTYD 2 (D. DeBlois) - FINAL DRAFT - 05/05/14 4.', 'HTTYD 2 (D. DeBlois) - FINAL DRAFT - 05/05/14 5.', 'HTTYD 2 (D. DeBlois) - FINAL DRAFT - 05/05/14 6.', 'HTTYD 2 (D. DeBlois) - FINAL DRAFT - 05/05/14 7.', 'HTTYD 2 (D. DeBlois) - FINAL DRAFT - 05/05/14 8.', 'HTTYD 2 (D. DeBlois) - FINAL DRAFT - 05/05/14 9.', 'HTTYD 2 (D. DeBlois) - FINAL DRAFT - 05/05/14 10', 'HTTYD 2 (D. DeBlois) - FINAL DRAFT - 05/05/14 11', 'HTTYD 2 (D. DeBlois) - FINAL DRAFT - 05/05/14 12', 'HTTYD 2 (D. DeBlois) - FINAL DRAFT - 05/05/14 13', 'HTTYD 2 (D. DeBlois) - FINAL DRAFT - 05/05/14 14', 'HTTYD 2 (D. DeBlois) - FINAL DRAFT - 05/05/14 15', 'HTTYD 2 (D. DeBlois) - FINAL DRAFT - 05/05/14 16', 'HTTYD 2 (D. DeBlois) - FINAL DRAFT - 05/05/14 17', 'HTTYD 2 (D. DeBlois) - FINAL DRAFT - 05/05/14 18', 'HTTYD 2 (D. DeBlois) - FINAL DRAFT - 05/05/14 19', 'HTTYD 2 (D. DeBlois) - FINAL DRAFT - 05/05/14 20', 'HTTYD 2 (D. DeBlois) - FINAL DRAFT - 05/05/14 21', 'HTTYD 2 (D. DeBlois) - FINAL DRAFT - 05/05/14 22', 'HTTYD 2 (D. DeBlois) - FINAL DRAFT - 05/05/14 23', 'HTTYD 2 (D. DeBlois) - FINAL DRAFT - 05/05/14 24', 'HTTYD 2 (D. DeBlois) - FINAL DRAFT - 05/05/14 25', 'HTTYD 2 (D. DeBlois) - FINAL DRAFT - 05/05/14 26', 'HTTYD 2 (D. DeBlois) - FINAL DRAFT - 05/05/14 27', 'HTTYD 2 (D. DeBlois) - FINAL DRAFT - 05/05/14 28', 'HTTYD 2 (D. DeBlois) - FINAL DRAFT - 05/05/14 29', 'HTTYD 2 (D. DeBlois) - FINAL DRAFT - 05/05/14 30', 'HTTYD 2 (D. DeBlois) - FINAL DRAFT - 05/05/14 31', 'HTTYD 2 (D. DeBlois) - FINAL DRAFT - 05/05/14 32', 'HTTYD 2 (D. DeBlois) - FINAL DRAFT - 05/05/14 33', 'HTTYD 2 (D. DeBlois) - FINAL DRAFT - 05/05/14 34', 'HTTYD 2 (D. DeBlois) - FINAL DRAFT - 05/05/14 35', 'HTTYD 2 (D. DeBlois) - FINAL DRAFT - 05/05/14 36', 'HTTYD 2 (D. DeBlois) - FINAL DRAFT - 05/05/14 37', 'HTTYD 2 (D. DeBlois) - FINAL DRAFT - 05/05/14 38', 'HTTYD 2 (D. DeBlois) - FINAL DRAFT - 05/05/14 39', 'HTTYD 2 (D. DeBlois) - FINAL DRAFT - 05/05/14 40', 'HTTYD 2 (D. DeBlois) - FINAL DRAFT - 05/05/14 41', 'HTTYD 2 (D. DeBlois) - FINAL DRAFT - 05/05/14 42', 'HTTYD 2 (D. DeBlois) - FINAL DRAFT - 05/05/14 43', 'HTTYD 2 (D. DeBlois) - FINAL DRAFT - 05/05/14 44', 'HTTYD 2 (D. DeBlois) - FINAL DRAFT - 05/05/14 45', 'HTTYD 2 (D. DeBlois) - FINAL DRAFT - 05/05/14 46', 'HTTYD 2 (D. DeBlois) - FINAL DRAFT - 05/05/14 47', 'HTTYD 2 (D. DeBlois) - FINAL DRAFT - 05/05/14 48', 'HTTYD 2 (D. DeBlois) - FINAL DRAFT - 05/05/14 49', 'HTTYD 2 (D. DeBlois) - FINAL DRAFT - 05/05/14 50', 'HTTYD 2 (D. DeBlois) - FINAL DRAFT - 05/05/14 51', 'HTTYD 2 (D. DeBlois) - FINAL DRAFT - 05/05/14 52', 'HTTYD 2 (D. DeBlois) - FINAL DRAFT - 05/05/14 53', 'HTTYD 2 (D. DeBlois) - FINAL DRAFT - 05/05/14 54', 'HTTYD 2 (D. DeBlois) - FINAL DRAFT - 05/05/14 55', 'HTTYD 2 (D. DeBlois) - FINAL DRAFT - 05/05/14 56', 'HTTYD 2 (D. DeBlois) - FINAL DRAFT - 05/05/14 57', 'HTTYD 2 (D. DeBlois) - FINAL DRAFT - 05/05/14 58', 'HTTYD 2 (D. DeBlois) - FINAL DRAFT - 05/05/14 59', 'HTTYD 2 (D. DeBlois) - FINAL DRAFT - 05/05/14 60', 'HTTYD 2 (D. DeBlois) - FINAL DRAFT - 05/05/14 61', 'HTTYD 2 (D. DeBlois) - FINAL DRAFT - 05/05/14 62', 'HTTYD 2 (D. DeBlois) - FINAL DRAFT - 05/05/14 63', 'HTTYD 2 (D. DeBlois) - FINAL DRAFT - 05/05/14 64', 'HTTYD 2 (D. DeBlois) - FINAL DRAFT - 05/05/14 65', 'HTTYD 2 (D. DeBlois) - FINAL DRAFT - 05/05/14 66', 'HTTYD 2 (D. DeBlois) - FINAL DRAFT - 05/05/14 67', 'HTTYD 2 (D. DeBlois) - FINAL DRAFT - 05/05/14 68', 'HTTYD 2 (D. DeBlois) - FINAL DRAFT - 05/05/14 69', 'HTTYD 2 (D. DeBlois) - FINAL DRAFT - 05/05/14 70', 'HTTYD 2 (D. DeBlois) - FINAL DRAFT - 05/05/14 71', 'HTTYD 2 (D. DeBlois) - FINAL DRAFT - 05/05/14 72', 'HTTYD 2 (D. DeBlois) - FINAL DRAFT - 05/05/14 73', 'HTTYD 2 (D. DeBlois) - FINAL DRAFT - 05/05/14 74', 'HTTYD 2 (D. DeBlois) - FINAL DRAFT - 05/05/14 75', 'HTTYD 2 (D. DeBlois) - FINAL DRAFT - 05/05/14 76', 'HTTYD 2 (D. DeBlois) - FINAL DRAFT - 05/05/14 77', 'HTTYD 2 (D. DeBlois) - FINAL DRAFT - 05/05/14 78', 'HTTYD 2 (D. DeBlois) - FINAL DRAFT - 05/05/14 79', 'HTTYD 2 (D. DeBlois) - FINAL DRAFT - 05/05/14 80', 'HTTYD 2 (D. DeBlois) - FINAL DRAFT - 05/05/14 81', 'HTTYD 2 (D. DeBlois) - FINAL DRAFT - 05/05/14 82', 'HTTYD 2 (D. DeBlois) - FINAL DRAFT - 05/05/14 83', 'HTTYD 2 (D. DeBlois) - FINAL DRAFT - 05/05/14 84', 'HTTYD 2 (D. DeBlois) - FINAL DRAFT - 05/05/14 85', 'HTTYD 2 (D. DeBlois) - FINAL DRAFT - 05/05/14 86', 'HTTYD 2 (D. DeBlois) - FINAL DRAFT - 05/05/14 87', 'HTTYD 2 (D. DeBlois) - FINAL DRAFT - 05/05/14 88', 'HTTYD 2 (D. DeBlois) - FINAL DRAFT - 05/05/14 89', 'HTTYD 2 (D. DeBlois) - FINAL DRAFT - 05/05/14 90', 'HTTYD 2 (D. DeBlois) - FINAL DRAFT - 05/05/14 91', 'HTTYD 2 (D. DeBlois) - FINAL DRAFT - 05/05/14 92', 'HTTYD 2 (D. DeBlois) - FINAL DRAFT - 05/05/14 93', 'HTTYD 2 (D. DeBlois) - FINAL DRAFT - 05/05/14 94', 'HTTYD 2 (D. DeBlois) - FINAL DRAFT - 05/05/14 95', 'HTTYD 2 (D. DeBlois) - FINAL DRAFT - 05/05/14 96', 'HTTYD 2 (D. DeBlois) - FINAL DRAFT - 05/05/14 97', 'HTTYD 2 (D. DeBlois) - FINAL DRAFT - 05/05/14 98']"
      ]
     },
     "execution_count": 46,
     "metadata": {},
     "output_type": "execute_result"
    }
   ],
   "source": [
    "#something weird to keep an eye one\n",
    "re.findall(r\"HTTYD 2 \\(D. DeBlois\\) - FINAL DRAFT - 05/05/14 [0-9].\", httyd2_script)"
   ]
  },
  {
   "cell_type": "markdown",
   "metadata": {},
   "source": [
    "# 2) Analyzing White Space\n",
    "Here, we'll see how consistent the space distribution is in each of these scripts\n"
   ]
  },
  {
   "cell_type": "code",
   "execution_count": 56,
   "metadata": {},
   "outputs": [],
   "source": [
    "# A general function for white space analysis\n",
    "def white_space_count(script_name):\n",
    "    white_space = re.findall(\" {3,}\", script_name)\n",
    "    len_w_s = [len(x) for x in white_space]\n",
    "    print(len_w_s[:100])\n",
    "    print(set(len_w_s))\n",
    "    for num in set(len_w_s):\n",
    "        print(num, \"white spaces appear\", len_w_s.count(num), \"times\")"
   ]
  },
  {
   "cell_type": "code",
   "execution_count": 57,
   "metadata": {},
   "outputs": [
    {
     "name": "stdout",
     "output_type": "stream",
     "text": [
      "[11, 11, 25, 11, 11, 11, 11, 11, 11, 11, 11, 11, 11, 11, 10, 10, 10, 10, 11, 11, 11, 11, 11, 11, 10, 10, 10, 10, 11, 11, 10, 10, 10, 10, 10, 10, 10, 11, 26, 11, 11, 26, 11, 10, 10, 26, 11, 10, 10, 26, 11, 11, 26, 11, 11, 10, 10, 26, 11, 11, 10, 10, 10, 10, 10, 10, 10, 26, 11, 11, 11, 10, 10, 26, 11, 11, 11, 26, 11, 11, 10, 10, 10, 10, 26, 11, 11, 26, 11, 11, 26, 11, 11, 26, 11, 10, 11, 11, 11, 11]\n",
      "{26, 25, 10, 11}\n",
      "26 white spaces appear 760 times\n",
      "25 white spaces appear 9 times\n",
      "10 white spaces appear 1571 times\n",
      "11 white spaces appear 1440 times\n"
     ]
    }
   ],
   "source": [
    "#HTTYD2\n",
    "white_space_count(httyd2_script)"
   ]
  },
  {
   "cell_type": "code",
   "execution_count": 53,
   "metadata": {},
   "outputs": [
    {
     "data": {
      "text/plain": [
       "\"\\n\\n           EXT. OPEN SEA - DAY\\n\\n           Hiccup and Toothless BLUR PAST, leaving a wake that leads...                         \\n\\n           EXT. BERK - DAY\\n\\n           (Sequence 0200 - New Berk)\\n\\n           To the island village of Berk, festively adorned with flags\\n\\n           and banners. Major new additions alter its familiar skyline.\\n\\n           HICCUP (V.O.)\\n\\n           This... is Berk. The best kept\\n\\n           secret this side of, well,\\n\\n           anywhere. Granted, it may not look\\n\\n           like much, but this wet heap of\\n\\n           rock packs more than a few\\n\\n           surprises.\\n\\n          ON A CLUSTER OF SHEEP, hiding nervously between buildings as\\n\\n          shadows of passing dragons race by. The group moves as one,\\n\\n          receding into a shadowy alley, pushing one sheep out into the\\n\\n          light. It's suddenly snatched and carried into the air!\\n\\n           HICCUP (V.O.)\\n\\n           Life here is amazing, just not for\\n\\n           the faint of heart. See, whe\""
      ]
     },
     "execution_count": 53,
     "metadata": {},
     "output_type": "execute_result"
    }
   ],
   "source": [
    "httyd2_script[:1000]"
   ]
  },
  {
   "cell_type": "code",
   "execution_count": 58,
   "metadata": {},
   "outputs": [],
   "source": [
    "# 11 before the first scene header\n",
    "# 11 after a scene header and before scene description\n",
    "# 25 before a two new line chars\n",
    "# 11 before hiccup's character name\n",
    "# 11 between hiccup's lines\n",
    "# 11 before next scene header\n",
    "# 10 between scene descriptions\n",
    "# 10 before hiccups next line\n",
    "# 10 between hiccup's lines"
   ]
  },
  {
   "cell_type": "code",
   "execution_count": 59,
   "metadata": {},
   "outputs": [
    {
     "name": "stdout",
     "output_type": "stream",
     "text": [
      "[10, 25, 11, 11, 11, 11, 10, 10, 10, 10, 10, 10, 10, 10, 10, 10, 10, 11, 11, 11, 11, 11, 11, 10, 10, 11, 11, 11, 11, 11, 10, 10, 10, 10, 10, 10, 11, 10, 10, 10, 10, 10, 10, 10, 10, 10, 10, 10, 10, 10, 10, 10, 10, 26, 11, 11, 11, 26, 11, 10, 10, 26, 11, 11, 10, 10, 10, 26, 11, 10, 10, 11, 11, 11, 11, 11, 11, 10, 10, 26, 10, 10, 10, 10, 10, 10, 10, 10, 10, 10, 10, 10, 10, 10, 11, 11, 10, 10, 10, 10]\n",
      "{26, 25, 10, 11}\n",
      "26 white spaces appear 1075 times\n",
      "25 white spaces appear 39 times\n",
      "10 white spaces appear 2125 times\n",
      "11 white spaces appear 1873 times\n"
     ]
    }
   ],
   "source": [
    "#RotG\n",
    "white_space_count(rotg_script)"
   ]
  },
  {
   "cell_type": "code",
   "execution_count": 62,
   "metadata": {},
   "outputs": [
    {
     "data": {
      "text/plain": [
       "\"\\n\\n          SEQ. 125 - ALONE IN THE WORLD\\n\\n                         DARKNESS\\n\\n           JACK (V.O.)\\n\\n           Darkness. That's the first thing I\\n\\n           remember. It was dark, and it was\\n\\n           cold. And I was scared.\\n\\n          The silhouette of a body appears as it drifts into a ray of\\n\\n          light, refracted through water, which turns into...\\n\\n          A MOON - SEEN IN REFLECTION ON A SHEET OF ICE\\n\\n          The moonlight intensifies almost magically, and the ice above\\n\\n          begins to spider-web and crack.\\n\\n          EXT. FROZEN POND - NIGHT\\n\\n          Snow-covered trees in every direction. The ice in the pond\\n\\n          continues to crack, until finally a hole splinters open. A\\n\\n          young man floats out of the water, bathed in the intense\\n\\n          moonlight. This is JACK FROST - thin, pale, barefoot, his\\n\\n          tousled hair frosted white.\\n\\n           JACK (V.O.)\\n\\n           But then...then I saw the moon. It\\n\\n           was so big and it was so bri\""
      ]
     },
     "execution_count": 62,
     "metadata": {},
     "output_type": "execute_result"
    }
   ],
   "source": [
    "rotg_script[:1000]"
   ]
  },
  {
   "cell_type": "code",
   "execution_count": 72,
   "metadata": {},
   "outputs": [
    {
     "data": {
      "text/plain": [
       "\"\\n\\n          SEQ. 125 - ALONE IN THE WORLD\\n\\n                         DARKNESS\\n\\n           JACK (V.O.)\\n\\n           Darkness. That's the first thing I\\n\\n           remember. It was dark, and it was\\n\\n           cold. And I was scared.\\n\\n          The silhouette of a body appears as it drifts into a ray of\\n\\n          light, refracted through water, which turns into...\\n\\n          A MOON - SEEN IN REFLECTION ON A SHEET OF ICE\\n\\n          The moonlight intensifies almost magically, and the ice above\\n\\n          begins to spider-web and crack.\\n\\n          EXT. FROZEN POND - NIGHT\\n\\n          Snow-covered trees in every direction. The ice in the pond\\n\\n          continues to crack, until finally a hole splinters open. A\\n\\n          young man floats out of the water, bathed in the intense\\n\\n          moonlight. This is JACK FROST - thin, pale, barefoot, his\\n\\n          tousled hair frosted white.\\n\\n           JACK (V.O.)\\n\\n           But then...then I saw the moon. It\\n\\n           was so big and it was so bright,\\n\\n           and it seemed to chase the darkness\\n\\n           away. And when it did...I wasn't\\n\\n           scared anymore.\\n\\n          Jack floats back down onto the ice as the hole closes up\\n\\n          underneath him.\\n\\n           JACK (V.O.)\\n\\n           Why I was there, and what I was\\n\\n           meant to do - that I've never\\n\\n           known. And a part of me wonders if\\n\\n           I ever will.\\n\\n          Jack looks around, confused, then turns toward the moonlight\\n\\n          as it dims a bit.\\n\\n          Jack carefully treads across the ice until he hits something\\n\\n          with his feet. He looks down, and at his feet is a wooden\\n\\n          staff. Curious, he picks it up. Almost immediately the\\n\\n          staff begins to glow a cold blue in his hands. Odd.\\n\\n           Guardians Screening Script 9/6/12 Avid 2.\\n\\n          Jack almost drops it as the base of the staff comes in\\n\\n          contact with the ground. Frost shoots out and spreads across\\n\\n          the ice. Jack is visibly confused.\\n\\n          He touches a few trees with his staff sending frost up their\\n\\n          trunks. Then he swings the staff again, more confident, as\\n\\n          he begins to run across the frozen pond.\\n\\n          Another swing, and a gust of wind swirls him high up into the\\n\\n          air. Jack floats for a moment only to fall back down to\\n\\n          earth and into the trees. Jack grabs hold of a tree branch\\n\\n          and pulls himself up to see a small town off in the distance.\\n\\n          EXT. BURGESS SETTLEMENT - TOWN CENTER - CONTINUOUS\\n\\n          A collection of simple timber houses with thatched roofs.\\n\\n          Jack comes in for a landing, and it's a rocky one. He stands\\n\\n          up, still elated, and brushes himself off.\\n\\n          As Jack makes his way into town, settlers are warming their\\n\\n          hands by campfire. Jack doesn't recognize anyone.\\n\\n                          JACK\\n\\n           (to the townsfolk)\\n\\n           Hello. Hello. Good evening,\\n\\n           ma'am.\\n\\n                          (BEAT)\\n\\n           Ma'am?\\n\\n          The settlers walk past Jack, not noticing him. Jack crouches\\n\\n          down as a YOUNG BOY runs toward him.\\n\\n                          JACK\\n\\n           Oh, ah, excuse me, can you tell me\\n\\n           where I am?\\n\\n          The boy runs right through Jack, as if he were a ghost. Jack\\n\\n          staggers back in shock. He's speechless, as if the wind had\\n\\n          been knocked out him. His emotions causing it to snow.\\n\\n              \""
      ]
     },
     "execution_count": 72,
     "metadata": {},
     "output_type": "execute_result"
    }
   ],
   "source": [
    "rotg_script[:3500]"
   ]
  },
  {
   "cell_type": "code",
   "execution_count": 69,
   "metadata": {},
   "outputs": [],
   "source": [
    "# 10 before a sequence\n",
    "# 25 after sequence/before scene header\n",
    "# 11 after scene header/before char name\n",
    "# 11 after char name/before line\n",
    "# 11 between char lines\n",
    "#10 at the end of Jack's first lines/before scene description\n",
    "#10 between scene description lines/before Jack's next line\n",
    "# 11 after char name and after each line\n",
    "#26 before some lines.\n",
    "# 11 before a \n",
    "\n",
    "#10 at the end of a line of dialogue\n",
    "#11 or 26 before a speakername\n",
    "#11 before this strange chunk: \"\\n\\n           Guardians Screening Script 9/6/12 Avid 2.\"\n"
   ]
  },
  {
   "cell_type": "code",
   "execution_count": 70,
   "metadata": {},
   "outputs": [
    {
     "data": {
      "text/plain": [
       "34"
      ]
     },
     "execution_count": 70,
     "metadata": {},
     "output_type": "execute_result"
    }
   ],
   "source": [
    "line = \"\\n\\n                          JACK\\n\\n\"\n",
    "len(line)"
   ]
  },
  {
   "cell_type": "code",
   "execution_count": 71,
   "metadata": {},
   "outputs": [
    {
     "data": {
      "text/plain": [
       "26"
      ]
     },
     "execution_count": 71,
     "metadata": {},
     "output_type": "execute_result"
    }
   ],
   "source": [
    "len(line[2:-6])"
   ]
  },
  {
   "cell_type": "code",
   "execution_count": 76,
   "metadata": {},
   "outputs": [
    {
     "data": {
      "text/plain": [
       "134"
      ]
     },
     "execution_count": 76,
     "metadata": {},
     "output_type": "execute_result"
    }
   ],
   "source": [
    "titles = re.findall(r\"\\n\\n           Guardians Screening Script 9/6/12 Avid [0-9]+\\.\", rotg_script)\n",
    "len(titles)"
   ]
  },
  {
   "cell_type": "code",
   "execution_count": 75,
   "metadata": {},
   "outputs": [],
   "source": [
    "#remove the weird chunk\n",
    "rotg_script_2 = re.sub(r\"\\n\\n           Guardians Screening Script 9/6/12 Avid [0-9]+\\.\", '', rotg_script)"
   ]
  },
  {
   "cell_type": "code",
   "execution_count": 77,
   "metadata": {},
   "outputs": [
    {
     "name": "stdout",
     "output_type": "stream",
     "text": [
      "[10, 25, 11, 11, 11, 11, 10, 10, 10, 10, 10, 10, 10, 10, 10, 10, 10, 11, 11, 11, 11, 11, 11, 10, 10, 11, 11, 11, 11, 11, 10, 10, 10, 10, 10, 10, 10, 10, 10, 10, 10, 10, 10, 10, 10, 10, 10, 10, 10, 10, 10, 10, 26, 11, 11, 11, 26, 11, 10, 10, 26, 11, 11, 10, 10, 10, 26, 11, 10, 10, 11, 11, 11, 11, 11, 10, 10, 26, 10, 10, 10, 10, 10, 10, 10, 10, 10, 10, 10, 10, 10, 10, 11, 11, 10, 10, 10, 10, 10, 10]\n",
      "{26, 25, 10, 11}\n",
      "26 white spaces appear 1075 times\n",
      "25 white spaces appear 39 times\n",
      "10 white spaces appear 2125 times\n",
      "11 white spaces appear 1739 times\n"
     ]
    }
   ],
   "source": [
    "#analyze white space again, see if 11 white spaces went down by 134\n",
    "white_space_count(rotg_script_2)"
   ]
  },
  {
   "cell_type": "code",
   "execution_count": 78,
   "metadata": {},
   "outputs": [
    {
     "data": {
      "text/plain": [
       "134"
      ]
     },
     "execution_count": 78,
     "metadata": {},
     "output_type": "execute_result"
    }
   ],
   "source": [
    "1873 - 1739 #Yay!"
   ]
  },
  {
   "cell_type": "code",
   "execution_count": null,
   "metadata": {},
   "outputs": [],
   "source": []
  }
 ],
 "metadata": {
  "kernelspec": {
   "display_name": "Python 3",
   "language": "python",
   "name": "python3"
  },
  "language_info": {
   "codemirror_mode": {
    "name": "ipython",
    "version": 3
   },
   "file_extension": ".py",
   "mimetype": "text/x-python",
   "name": "python",
   "nbconvert_exporter": "python",
   "pygments_lexer": "ipython3",
   "version": "3.6.4"
  }
 },
 "nbformat": 4,
 "nbformat_minor": 2
}
