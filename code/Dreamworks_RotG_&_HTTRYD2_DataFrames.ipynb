{
 "cells": [
  {
   "cell_type": "markdown",
   "metadata": {},
   "source": [
    "# Attempt at Streamlining the Line Extraction Process for two scripts\n",
    "In this code I will...\n",
    "* further analyze the white space in How To Train Your Dragon 2 and Rise of the Guardians\n",
    "* I will see if the white space patterns match in each script\n",
    "* Develop a general code that can be applied to both scripts to extract character dialogue line by line\n",
    "\n",
    "The final, neat code for the streamline can be found [here](https://github.com/Data-Science-for-Linguists-2019/Animated-Movie-Gendered-Dialogue/blob/master/code/DreamWorks_code/Streamline_RotG_HTTYD2_Croods_DataFrames.ipynb)\n"
   ]
  },
  {
   "cell_type": "code",
   "execution_count": 332,
   "metadata": {},
   "outputs": [],
   "source": [
    "import pandas as pd"
   ]
  },
  {
   "cell_type": "markdown",
   "metadata": {},
   "source": [
    "## 1) Importing Scripts"
   ]
  },
  {
   "cell_type": "code",
   "execution_count": 1,
   "metadata": {},
   "outputs": [],
   "source": [
    "#importing each script\n",
    "httyd2 = open(r'C:\\Users\\cassi\\Desktop\\Data_Science\\Animated-Movie-Gendered-Dialogue\\private\\imsdb_raw_nov_2015\\Animation\\howtotrainyourdragon2.txt')\n",
    "httyd2_script = httyd2.read()\n",
    "httyd2.close()\n",
    "\n",
    "rotg = open(r'C:\\Users\\cassi\\Desktop\\Data_Science\\Animated-Movie-Gendered-Dialogue\\private\\imsdb_raw_nov_2015\\Animation\\riseoftheguardians.txt')\n",
    "rotg_script = rotg.read()\n",
    "rotg.close()\n",
    "\n",
    "croods = open(r'C:\\Users\\cassi\\Desktop\\Data_Science\\Animated-Movie-Gendered-Dialogue\\private\\imsdb_raw_nov_2015\\Animation\\croodsthe.txt')\n",
    "croods_script = croods.read()\n",
    "croods.close()"
   ]
  },
  {
   "cell_type": "code",
   "execution_count": 4,
   "metadata": {},
   "outputs": [
    {
     "name": "stdout",
     "output_type": "stream",
     "text": [
      "Pretty printing has been turned OFF\n"
     ]
    }
   ],
   "source": [
    "%pprint"
   ]
  },
  {
   "cell_type": "code",
   "execution_count": 12,
   "metadata": {},
   "outputs": [
    {
     "data": {
      "text/plain": [
       "'                     HOW TO TRAIN YOUR DRAGON 2\\n\\n                             Written by\\n\\n                            Dean DeBlois\\n\\n                      Inspired by the novels by\\n\\n                           Cressida Cowell\\n\\n                                                   Final Draft\\n\\n                                                 May 5th, 2014'"
      ]
     },
     "execution_count": 12,
     "metadata": {},
     "output_type": "execute_result"
    }
   ],
   "source": [
    "#Shaving off excess at beginning of each script\n",
    "httyd2_script[:351]"
   ]
  },
  {
   "cell_type": "code",
   "execution_count": 13,
   "metadata": {},
   "outputs": [],
   "source": [
    "httyd2_script = httyd2_script[351:]"
   ]
  },
  {
   "cell_type": "code",
   "execution_count": 25,
   "metadata": {},
   "outputs": [
    {
     "data": {
      "text/plain": [
       "'                              RISE OF THE GUARDIANS\\n\\n                                   Written by\\n\\n                              David Lindsay-Abaire\\n\\n                                               Screening script 9/6/12'"
      ]
     },
     "execution_count": 25,
     "metadata": {},
     "output_type": "execute_result"
    }
   ],
   "source": [
    "rotg_script[:222]"
   ]
  },
  {
   "cell_type": "code",
   "execution_count": 26,
   "metadata": {},
   "outputs": [],
   "source": [
    "rotg_script = rotg_script[222:]"
   ]
  },
  {
   "cell_type": "code",
   "execution_count": 36,
   "metadata": {},
   "outputs": [
    {
     "data": {
      "text/plain": [
       "'                           THE CROODS\\n\\n                           Written by\\n\\n                 Kirk DeMicco & Chris Sanders\\n\\n                                                       12.12.2012'"
      ]
     },
     "execution_count": 36,
     "metadata": {},
     "output_type": "execute_result"
    }
   ],
   "source": [
    "croods_script[:190]"
   ]
  },
  {
   "cell_type": "code",
   "execution_count": 37,
   "metadata": {},
   "outputs": [],
   "source": [
    "croods_script = croods_script[190:]"
   ]
  },
  {
   "cell_type": "code",
   "execution_count": 38,
   "metadata": {},
   "outputs": [
    {
     "name": "stdout",
     "output_type": "stream",
     "text": [
      "\n",
      "\n",
      "           EXT. OPEN SEA - DAY\n",
      "\n",
      "           Hiccup and Toothless BLUR PAST, leaving a wake that leads...                         \n",
      "\n",
      "           EXT. BERK - DAY\n",
      "\n",
      "           (Sequence 0200 - New Berk)\n",
      "\n",
      "           To the island village of Berk, festively adorned with flags\n",
      "\n",
      "           and banners. Major new additions alter its familiar skyline.\n",
      "\n",
      "           HICCUP (V.O.)\n",
      "\n",
      "           This... is Berk. The best kept\n",
      "\n",
      "           secret this side of, well,\n",
      "\n",
      "           anywhere. Granted, it may not look\n",
      "\n",
      " \n",
      "\n",
      "\n",
      "\n",
      "\n",
      "          SEQ. 125 - ALONE IN THE WORLD\n",
      "\n",
      "                         DARKNESS\n",
      "\n",
      "           JACK (V.O.)\n",
      "\n",
      "           Darkness. That's the first thing I\n",
      "\n",
      "           remember. It was dark, and it was\n",
      "\n",
      "           cold. And I was scared.\n",
      "\n",
      "          The silhouette of a body appears as it drifts into a ray of\n",
      "\n",
      "          light, refracted through water, which turns into...\n",
      "\n",
      "          A MOON - SEEN IN REFLECTION ON A SHEET OF ICE\n",
      "\n",
      "          The moonlight intensifies almost magically, and the ice above\n",
      "\n",
      "     \n",
      "\n",
      "\n",
      "\n",
      "\n",
      "          SEQ. 75 - PROLOGUE\n",
      "\n",
      "                         FADE IN:\n",
      "\n",
      "          A cave painting of the Dreamworks logo. Push past the\n",
      "\n",
      "          moon to the sun. Bright. Beautiful. The sun DISSOLVES\n",
      "\n",
      "                         TO:\n",
      "\n",
      "          Cave paintings of a family of cavemen -- we will come to\n",
      "\n",
      "          know them as The Croods.\n",
      "\n",
      "                          EEP (V.O.)\n",
      "\n",
      "           With every sun comes a new day. A new\n",
      "\n",
      "           beginning. A hope that things will be\n",
      "\n",
      "           better today than th\n"
     ]
    }
   ],
   "source": [
    "print(httyd2_script[:500])\n",
    "print('\\n')\n",
    "print(rotg_script[:500])\n",
    "print('\\n')\n",
    "print(croods_script[:500])"
   ]
  },
  {
   "cell_type": "code",
   "execution_count": 40,
   "metadata": {},
   "outputs": [],
   "source": [
    "import re"
   ]
  },
  {
   "cell_type": "markdown",
   "metadata": {},
   "source": [
    "# 2) Analyzing White Space\n",
    "Here, we'll see how consistent the space distribution is in each of these scripts\n"
   ]
  },
  {
   "cell_type": "code",
   "execution_count": 56,
   "metadata": {},
   "outputs": [],
   "source": [
    "# A general function for white space analysis\n",
    "def white_space_count(script_name):\n",
    "    white_space = re.findall(\" {3,}\", script_name)\n",
    "    len_w_s = [len(x) for x in white_space]\n",
    "    print(len_w_s[:100])\n",
    "    print(set(len_w_s))\n",
    "    for num in set(len_w_s):\n",
    "        print(num, \"white spaces appear\", len_w_s.count(num), \"times\")"
   ]
  },
  {
   "cell_type": "markdown",
   "metadata": {},
   "source": [
    "#### HTTYD2 White Space Clean Up"
   ]
  },
  {
   "cell_type": "code",
   "execution_count": 57,
   "metadata": {},
   "outputs": [
    {
     "name": "stdout",
     "output_type": "stream",
     "text": [
      "[11, 11, 25, 11, 11, 11, 11, 11, 11, 11, 11, 11, 11, 11, 10, 10, 10, 10, 11, 11, 11, 11, 11, 11, 10, 10, 10, 10, 11, 11, 10, 10, 10, 10, 10, 10, 10, 11, 26, 11, 11, 26, 11, 10, 10, 26, 11, 10, 10, 26, 11, 11, 26, 11, 11, 10, 10, 26, 11, 11, 10, 10, 10, 10, 10, 10, 10, 26, 11, 11, 11, 10, 10, 26, 11, 11, 11, 26, 11, 11, 10, 10, 10, 10, 26, 11, 11, 26, 11, 11, 26, 11, 11, 26, 11, 10, 11, 11, 11, 11]\n",
      "{26, 25, 10, 11}\n",
      "26 white spaces appear 760 times\n",
      "25 white spaces appear 9 times\n",
      "10 white spaces appear 1571 times\n",
      "11 white spaces appear 1440 times\n"
     ]
    }
   ],
   "source": [
    "#HTTYD2\n",
    "white_space_count(httyd2_script)"
   ]
  },
  {
   "cell_type": "code",
   "execution_count": 79,
   "metadata": {},
   "outputs": [
    {
     "data": {
      "text/plain": [
       "\"\\n\\n           EXT. OPEN SEA - DAY\\n\\n           Hiccup and Toothless BLUR PAST, leaving a wake that leads...                         \\n\\n           EXT. BERK - DAY\\n\\n           (Sequence 0200 - New Berk)\\n\\n           To the island village of Berk, festively adorned with flags\\n\\n           and banners. Major new additions alter its familiar skyline.\\n\\n           HICCUP (V.O.)\\n\\n           This... is Berk. The best kept\\n\\n           secret this side of, well,\\n\\n           anywhere. Granted, it may not look\\n\\n           like much, but this wet heap of\\n\\n           rock packs more than a few\\n\\n           surprises.\\n\\n          ON A CLUSTER OF SHEEP, hiding nervously between buildings as\\n\\n          shadows of passing dragons race by. The group moves as one,\\n\\n          receding into a shadowy alley, pushing one sheep out into the\\n\\n          light. It's suddenly snatched and carried into the air!\\n\\n           HICCUP (V.O.)\\n\\n           Life here is amazing, just not for\\n\\n           the faint of heart. See, where most\\n\\n           folks enjoy hobbies like whittling\\n\\n           or needlepoint, we Berkians prefer\\n\\n           a little something we like to call--\\n\\n          WHOOSH, WHOOSH, WHOOSH! A wash of VIBRANT COLORS blurs by.\\n\\n          DRAGONS BARREL PAST at a dizzying speed. Their RIDERS SWIPE,\\n\\n          KICK, and ROLL into one another while they WEAVE neck in neck\\n\\n          between the houses, docks, and revamped structures of Berk.\\n\\n           HICCUP (V.O.)\\n\\n           DRAGON RACING!\\n\\n          It's like an aerial version of the Monte Carlo race.\\n\\n          Spectators ROAR from wooden bleachers, fastened to cliff\\n\\n          faces and perched over the sea.\\n\\n          FISHLEGS, now 20 and even larger, rides his gronkle, MEATLUG,\\n\\n          who carries the sheep in her claws, until...\\n\\n          SNOTLOUT, also 20, but every bit as juvenile, and his\\n\\n          Monstrous Nightmare, HOOKFANG, steal the sheep from them.\\n\\n           HTTYD 2 (D. DeBlois) - FINAL DRAFT - 05/05/14 2.\\n\\n          \""
      ]
     },
     "execution_count": 79,
     "metadata": {},
     "output_type": "execute_result"
    }
   ],
   "source": [
    "httyd2_script[:2000]"
   ]
  },
  {
   "cell_type": "code",
   "execution_count": 58,
   "metadata": {},
   "outputs": [],
   "source": [
    "# 11 before the first scene header\n",
    "# 11 after a scene header and before scene description\n",
    "# 25 before a two new line chars\n",
    "# 11 before hiccup's character name\n",
    "# 11 between hiccup's lines\n",
    "# 10 after hiccup's lines end\n",
    "# 11 before next scene header\n",
    "# 10 between scene descriptions\n",
    "# 10 before hiccups next line\n",
    "# 10 between hiccup's lines"
   ]
  },
  {
   "cell_type": "markdown",
   "metadata": {},
   "source": [
    "HTTYD2 has these pesky random \"FINAL DRAFT\" Lines that aren't necessary. And they're preceded by the same number of white space characters as actual lines. So, it's best to get rid of them."
   ]
  },
  {
   "cell_type": "code",
   "execution_count": 85,
   "metadata": {},
   "outputs": [],
   "source": [
    "httyd2_titles = re.findall(r\"\\n\\n           HTTYD 2 \\(D. DeBlois\\) - FINAL DRAFT - 05/05/14 [0-9]+\\.\", httyd2_script)"
   ]
  },
  {
   "cell_type": "code",
   "execution_count": 86,
   "metadata": {},
   "outputs": [
    {
     "data": {
      "text/plain": [
       "97"
      ]
     },
     "execution_count": 86,
     "metadata": {},
     "output_type": "execute_result"
    }
   ],
   "source": [
    "len(httyd2_titles)"
   ]
  },
  {
   "cell_type": "code",
   "execution_count": 89,
   "metadata": {},
   "outputs": [
    {
     "data": {
      "text/plain": [
       "['\\n\\n           HTTYD 2 (D. DeBlois) - FINAL DRAFT - 05/05/14 2.', '\\n\\n           HTTYD 2 (D. DeBlois) - FINAL DRAFT - 05/05/14 3.', '\\n\\n           HTTYD 2 (D. DeBlois) - FINAL DRAFT - 05/05/14 4.', '\\n\\n           HTTYD 2 (D. DeBlois) - FINAL DRAFT - 05/05/14 5.', '\\n\\n           HTTYD 2 (D. DeBlois) - FINAL DRAFT - 05/05/14 6.', '\\n\\n           HTTYD 2 (D. DeBlois) - FINAL DRAFT - 05/05/14 7.', '\\n\\n           HTTYD 2 (D. DeBlois) - FINAL DRAFT - 05/05/14 8.', '\\n\\n           HTTYD 2 (D. DeBlois) - FINAL DRAFT - 05/05/14 9.', '\\n\\n           HTTYD 2 (D. DeBlois) - FINAL DRAFT - 05/05/14 10.', '\\n\\n           HTTYD 2 (D. DeBlois) - FINAL DRAFT - 05/05/14 11.']"
      ]
     },
     "execution_count": 89,
     "metadata": {},
     "output_type": "execute_result"
    }
   ],
   "source": [
    "httyd2_titles[:10]"
   ]
  },
  {
   "cell_type": "code",
   "execution_count": 99,
   "metadata": {},
   "outputs": [],
   "source": [
    "httyd2_script = re.sub(r\"\\n\\n           HTTYD 2 \\(D. DeBlois\\) - FINAL DRAFT - 05/05/14 [0-9]+\\.\",'', httyd2_script)"
   ]
  },
  {
   "cell_type": "code",
   "execution_count": 100,
   "metadata": {},
   "outputs": [
    {
     "name": "stdout",
     "output_type": "stream",
     "text": [
      "[11, 11, 25, 11, 11, 11, 11, 11, 11, 11, 11, 11, 11, 11, 10, 10, 10, 10, 11, 11, 11, 11, 11, 11, 10, 10, 10, 10, 11, 11, 10, 10, 10, 10, 10, 10, 10, 26, 11, 11, 26, 11, 10, 10, 26, 11, 10, 10, 26, 11, 11, 26, 11, 11, 10, 10, 26, 11, 11, 10, 10, 10, 10, 10, 10, 10, 26, 11, 11, 11, 10, 10, 26, 11, 11, 26, 11, 11, 10, 10, 10, 10, 26, 11, 11, 26, 11, 11, 26, 11, 11, 26, 11, 10, 11, 11, 11, 11, 11, 10]\n",
      "{26, 25, 10, 11}\n",
      "26 white spaces appear 760 times\n",
      "25 white spaces appear 9 times\n",
      "10 white spaces appear 1571 times\n",
      "11 white spaces appear 1343 times\n"
     ]
    }
   ],
   "source": [
    "#reanalyze white space\n",
    "white_space_count(httyd2_script)"
   ]
  },
  {
   "cell_type": "code",
   "execution_count": 101,
   "metadata": {},
   "outputs": [
    {
     "data": {
      "text/plain": [
       "97"
      ]
     },
     "execution_count": 101,
     "metadata": {},
     "output_type": "execute_result"
    }
   ],
   "source": [
    "1440 - 1343 #Yay! matched the 97 not-lines"
   ]
  },
  {
   "cell_type": "markdown",
   "metadata": {},
   "source": [
    "#### RotG White Space Clean Up"
   ]
  },
  {
   "cell_type": "code",
   "execution_count": 59,
   "metadata": {},
   "outputs": [
    {
     "name": "stdout",
     "output_type": "stream",
     "text": [
      "[10, 25, 11, 11, 11, 11, 10, 10, 10, 10, 10, 10, 10, 10, 10, 10, 10, 11, 11, 11, 11, 11, 11, 10, 10, 11, 11, 11, 11, 11, 10, 10, 10, 10, 10, 10, 11, 10, 10, 10, 10, 10, 10, 10, 10, 10, 10, 10, 10, 10, 10, 10, 10, 26, 11, 11, 11, 26, 11, 10, 10, 26, 11, 11, 10, 10, 10, 26, 11, 10, 10, 11, 11, 11, 11, 11, 11, 10, 10, 26, 10, 10, 10, 10, 10, 10, 10, 10, 10, 10, 10, 10, 10, 10, 11, 11, 10, 10, 10, 10]\n",
      "{26, 25, 10, 11}\n",
      "26 white spaces appear 1075 times\n",
      "25 white spaces appear 39 times\n",
      "10 white spaces appear 2125 times\n",
      "11 white spaces appear 1873 times\n"
     ]
    }
   ],
   "source": [
    "#RotG\n",
    "white_space_count(rotg_script)"
   ]
  },
  {
   "cell_type": "code",
   "execution_count": 62,
   "metadata": {},
   "outputs": [
    {
     "data": {
      "text/plain": [
       "\"\\n\\n          SEQ. 125 - ALONE IN THE WORLD\\n\\n                         DARKNESS\\n\\n           JACK (V.O.)\\n\\n           Darkness. That's the first thing I\\n\\n           remember. It was dark, and it was\\n\\n           cold. And I was scared.\\n\\n          The silhouette of a body appears as it drifts into a ray of\\n\\n          light, refracted through water, which turns into...\\n\\n          A MOON - SEEN IN REFLECTION ON A SHEET OF ICE\\n\\n          The moonlight intensifies almost magically, and the ice above\\n\\n          begins to spider-web and crack.\\n\\n          EXT. FROZEN POND - NIGHT\\n\\n          Snow-covered trees in every direction. The ice in the pond\\n\\n          continues to crack, until finally a hole splinters open. A\\n\\n          young man floats out of the water, bathed in the intense\\n\\n          moonlight. This is JACK FROST - thin, pale, barefoot, his\\n\\n          tousled hair frosted white.\\n\\n           JACK (V.O.)\\n\\n           But then...then I saw the moon. It\\n\\n           was so big and it was so bri\""
      ]
     },
     "execution_count": 62,
     "metadata": {},
     "output_type": "execute_result"
    }
   ],
   "source": [
    "rotg_script[:1000]"
   ]
  },
  {
   "cell_type": "code",
   "execution_count": 72,
   "metadata": {},
   "outputs": [
    {
     "data": {
      "text/plain": [
       "\"\\n\\n          SEQ. 125 - ALONE IN THE WORLD\\n\\n                         DARKNESS\\n\\n           JACK (V.O.)\\n\\n           Darkness. That's the first thing I\\n\\n           remember. It was dark, and it was\\n\\n           cold. And I was scared.\\n\\n          The silhouette of a body appears as it drifts into a ray of\\n\\n          light, refracted through water, which turns into...\\n\\n          A MOON - SEEN IN REFLECTION ON A SHEET OF ICE\\n\\n          The moonlight intensifies almost magically, and the ice above\\n\\n          begins to spider-web and crack.\\n\\n          EXT. FROZEN POND - NIGHT\\n\\n          Snow-covered trees in every direction. The ice in the pond\\n\\n          continues to crack, until finally a hole splinters open. A\\n\\n          young man floats out of the water, bathed in the intense\\n\\n          moonlight. This is JACK FROST - thin, pale, barefoot, his\\n\\n          tousled hair frosted white.\\n\\n           JACK (V.O.)\\n\\n           But then...then I saw the moon. It\\n\\n           was so big and it was so bright,\\n\\n           and it seemed to chase the darkness\\n\\n           away. And when it did...I wasn't\\n\\n           scared anymore.\\n\\n          Jack floats back down onto the ice as the hole closes up\\n\\n          underneath him.\\n\\n           JACK (V.O.)\\n\\n           Why I was there, and what I was\\n\\n           meant to do - that I've never\\n\\n           known. And a part of me wonders if\\n\\n           I ever will.\\n\\n          Jack looks around, confused, then turns toward the moonlight\\n\\n          as it dims a bit.\\n\\n          Jack carefully treads across the ice until he hits something\\n\\n          with his feet. He looks down, and at his feet is a wooden\\n\\n          staff. Curious, he picks it up. Almost immediately the\\n\\n          staff begins to glow a cold blue in his hands. Odd.\\n\\n           Guardians Screening Script 9/6/12 Avid 2.\\n\\n          Jack almost drops it as the base of the staff comes in\\n\\n          contact with the ground. Frost shoots out and spreads across\\n\\n          the ice. Jack is visibly confused.\\n\\n          He touches a few trees with his staff sending frost up their\\n\\n          trunks. Then he swings the staff again, more confident, as\\n\\n          he begins to run across the frozen pond.\\n\\n          Another swing, and a gust of wind swirls him high up into the\\n\\n          air. Jack floats for a moment only to fall back down to\\n\\n          earth and into the trees. Jack grabs hold of a tree branch\\n\\n          and pulls himself up to see a small town off in the distance.\\n\\n          EXT. BURGESS SETTLEMENT - TOWN CENTER - CONTINUOUS\\n\\n          A collection of simple timber houses with thatched roofs.\\n\\n          Jack comes in for a landing, and it's a rocky one. He stands\\n\\n          up, still elated, and brushes himself off.\\n\\n          As Jack makes his way into town, settlers are warming their\\n\\n          hands by campfire. Jack doesn't recognize anyone.\\n\\n                          JACK\\n\\n           (to the townsfolk)\\n\\n           Hello. Hello. Good evening,\\n\\n           ma'am.\\n\\n                          (BEAT)\\n\\n           Ma'am?\\n\\n          The settlers walk past Jack, not noticing him. Jack crouches\\n\\n          down as a YOUNG BOY runs toward him.\\n\\n                          JACK\\n\\n           Oh, ah, excuse me, can you tell me\\n\\n           where I am?\\n\\n          The boy runs right through Jack, as if he were a ghost. Jack\\n\\n          staggers back in shock. He's speechless, as if the wind had\\n\\n          been knocked out him. His emotions causing it to snow.\\n\\n              \""
      ]
     },
     "execution_count": 72,
     "metadata": {},
     "output_type": "execute_result"
    }
   ],
   "source": [
    "rotg_script[:3500]"
   ]
  },
  {
   "cell_type": "code",
   "execution_count": 69,
   "metadata": {},
   "outputs": [],
   "source": [
    "# 10 before a sequence\n",
    "# 25 after sequence/before scene header\n",
    "# 11 after scene header/before char name\n",
    "# 11 after char name/before line\n",
    "# 11 between char lines\n",
    "#10 at the end of Jack's first lines/before scene description\n",
    "#10 between scene description lines/before Jack's next line\n",
    "# 11 after char name and after each line\n",
    "#26 before some lines.\n",
    "# 11 before a \n",
    "\n",
    "#10 at the end of a line of dialogue\n",
    "#11 or 26 before a speakername\n",
    "#11 before this strange chunk: \"\\n\\n           Guardians Screening Script 9/6/12 Avid 2.\"\n"
   ]
  },
  {
   "cell_type": "code",
   "execution_count": 70,
   "metadata": {},
   "outputs": [
    {
     "data": {
      "text/plain": [
       "34"
      ]
     },
     "execution_count": 70,
     "metadata": {},
     "output_type": "execute_result"
    }
   ],
   "source": [
    "line = \"\\n\\n                          JACK\\n\\n\"\n",
    "len(line)"
   ]
  },
  {
   "cell_type": "code",
   "execution_count": 71,
   "metadata": {},
   "outputs": [
    {
     "data": {
      "text/plain": [
       "26"
      ]
     },
     "execution_count": 71,
     "metadata": {},
     "output_type": "execute_result"
    }
   ],
   "source": [
    "len(line[2:-6])"
   ]
  },
  {
   "cell_type": "code",
   "execution_count": 88,
   "metadata": {},
   "outputs": [
    {
     "name": "stdout",
     "output_type": "stream",
     "text": [
      "134\n",
      "['\\n\\n           Guardians Screening Script 9/6/12 Avid 2.', '\\n\\n           Guardians Screening Script 9/6/12 Avid 3.', '\\n\\n           Guardians Screening Script 9/6/12 Avid 4.', '\\n\\n           Guardians Screening Script 9/6/12 Avid 5.', '\\n\\n           Guardians Screening Script 9/6/12 Avid 6.', '\\n\\n           Guardians Screening Script 9/6/12 Avid 7.', '\\n\\n           Guardians Screening Script 9/6/12 Avid 8.', '\\n\\n           Guardians Screening Script 9/6/12 Avid 9.', '\\n\\n           Guardians Screening Script 9/6/12 Avid 10.', '\\n\\n           Guardians Screening Script 9/6/12 Avid 11.']\n"
     ]
    }
   ],
   "source": [
    "titles = re.findall(r\"\\n\\n           Guardians Screening Script 9/6/12 Avid [0-9]+\\.\", rotg_script)\n",
    "print(len(titles))\n",
    "print(titles[:10])"
   ]
  },
  {
   "cell_type": "code",
   "execution_count": 75,
   "metadata": {},
   "outputs": [],
   "source": [
    "#remove the weird chunk\n",
    "rotg_script_2 = re.sub(r\"\\n\\n           Guardians Screening Script 9/6/12 Avid [0-9]+\\.\", '', rotg_script)"
   ]
  },
  {
   "cell_type": "code",
   "execution_count": 77,
   "metadata": {},
   "outputs": [
    {
     "name": "stdout",
     "output_type": "stream",
     "text": [
      "[10, 25, 11, 11, 11, 11, 10, 10, 10, 10, 10, 10, 10, 10, 10, 10, 10, 11, 11, 11, 11, 11, 11, 10, 10, 11, 11, 11, 11, 11, 10, 10, 10, 10, 10, 10, 10, 10, 10, 10, 10, 10, 10, 10, 10, 10, 10, 10, 10, 10, 10, 10, 26, 11, 11, 11, 26, 11, 10, 10, 26, 11, 11, 10, 10, 10, 26, 11, 10, 10, 11, 11, 11, 11, 11, 10, 10, 26, 10, 10, 10, 10, 10, 10, 10, 10, 10, 10, 10, 10, 10, 10, 11, 11, 10, 10, 10, 10, 10, 10]\n",
      "{26, 25, 10, 11}\n",
      "26 white spaces appear 1075 times\n",
      "25 white spaces appear 39 times\n",
      "10 white spaces appear 2125 times\n",
      "11 white spaces appear 1739 times\n"
     ]
    }
   ],
   "source": [
    "#analyze white space again, see if 11 white spaces went down by 134\n",
    "white_space_count(rotg_script_2)"
   ]
  },
  {
   "cell_type": "code",
   "execution_count": 78,
   "metadata": {},
   "outputs": [
    {
     "data": {
      "text/plain": [
       "134"
      ]
     },
     "execution_count": 78,
     "metadata": {},
     "output_type": "execute_result"
    }
   ],
   "source": [
    "1873 - 1739 #Yay!"
   ]
  },
  {
   "cell_type": "markdown",
   "metadata": {},
   "source": [
    "#### Croods White Space Clean Up"
   ]
  },
  {
   "cell_type": "code",
   "execution_count": 94,
   "metadata": {},
   "outputs": [
    {
     "name": "stdout",
     "output_type": "stream",
     "text": [
      "[10, 25, 10, 10, 25, 10, 10, 26, 11, 11, 11, 10, 10, 10, 10, 26, 11, 11, 11, 11, 11, 11, 11, 11, 11, 11, 10, 10, 26, 11, 11, 11, 11, 11, 11, 10, 26, 11, 11, 10, 10, 10, 26, 11, 11, 11, 11, 11, 10, 10, 10, 10, 26, 11, 11, 10, 10, 10, 26, 11, 11, 11, 11, 10, 10, 26, 10, 10, 10, 10, 10, 26, 11, 11, 10, 10, 10, 10, 10, 10, 26, 11, 11, 10, 10, 10, 26, 11, 26, 11, 26, 11, 26, 11, 11, 10, 10, 26, 11, 11]\n",
      "{11, 25, 10, 26}\n",
      "11 white spaces appear 1156 times\n",
      "25 white spaces appear 23 times\n",
      "10 white spaces appear 1364 times\n",
      "26 white spaces appear 860 times\n"
     ]
    }
   ],
   "source": [
    "white_space_count(croods_script)"
   ]
  },
  {
   "cell_type": "code",
   "execution_count": 97,
   "metadata": {},
   "outputs": [
    {
     "data": {
      "text/plain": [
       "\"\\n\\n          SEQ. 75 - PROLOGUE\\n\\n                         FADE IN:\\n\\n          A cave painting of the Dreamworks logo. Push past the\\n\\n          moon to the sun. Bright. Beautiful. The sun DISSOLVES\\n\\n                         TO:\\n\\n          Cave paintings of a family of cavemen -- we will come to\\n\\n          know them as The Croods.\\n\\n                          EEP (V.O.)\\n\\n           With every sun comes a new day. A new\\n\\n           beginning. A hope that things will be\\n\\n           better today than they were yesterday.\\n\\n          The Croods scurry out of their cave like mice looking for\\n\\n          food. Scared. Fast.\\n\\n          The Croods are chased by beasts across the desert. They\\n\\n          escape from creatures up trees. They hide behind rocks.\\n\\n                          EEP (V.O.)\\n\\n           But not for me. My name's Eep. This, is\\n\\n           my family, the Croods. If you weren't\\n\\n           clued in already by the animal skins and\\n\\n           sloping foreheads - we're cavemen. Most\\n\\n           days we spend in our cave, in the dark.\\n\\n           Night after night, day after day. Yep.\\n\\n           Home sweet home. When we did go out, we\\n\\n           struggled to find food in a harsh and\\n\\n           hostile world. And I struggled to\\n\\n           survive my family.\\n\\n          The Croods are chased by beasts across the desert. They\\n\\n          escape from creatures up trees. They hide behind rocks.\\n\\n                          EEP (V.O.)\\n\\n           We were the last ones around. There used\\n\\n           to be neighbors. The Gorts, smashed by a\\n\\n           mammoth. The Horks, swallowed by a sand\\n\\n           snake. The Erfs, mosquito bite. Throgs,\\n\\n           common cold. And, the Croods. That's\\n\\n           us. The Croods made it...\\n\\n          Grug protects his family from a GIANT BEAR OWL.\\n\\n                          EEP (V.O.)\\n\\n           Because of my Dad. He was strong... and\\n\\n           he followed the rules.\\n\\n          A shadow falls across their feet and Grug ushers his\\n\\n          family home.\\n\\n          2.\\n\\n                          EEP (V.O.)\\n\\n           ... the ones painted on the cave walls.\\n\\n           Anything new is bad, curiosity is bad,\\n\\n           going out at night is bad. Basically,\\n\\n           anything fun is bad. Welcome to my\\n\\n           world.\\n\\n          They all run back into the cave where Grug slams the rock\\n\\n          door closed.\\n\\n          SLOWLY LIGHT ON CAVE PAINTINGS COMES UP AGAIN. But this\\n\\n          time the light casts an ominous tone.\""
      ]
     },
     "execution_count": 97,
     "metadata": {},
     "output_type": "execute_result"
    }
   ],
   "source": [
    "croods_script[:2500]"
   ]
  },
  {
   "cell_type": "code",
   "execution_count": 98,
   "metadata": {},
   "outputs": [],
   "source": [
    "# 10 before SEQ\n",
    "# 25 before FADE IN\n",
    "# 25 before TO\n",
    "# 26 before Eep's line\n",
    "# 11 between Eep's lines\n",
    "# 10 before scene descriptions"
   ]
  },
  {
   "cell_type": "markdown",
   "metadata": {},
   "source": [
    "It seems that, in general,\n",
    "* 11 or 26 spaces precede a speaker's name\n",
    "* 10 spaces or 25 spaces precede things that aren't actual lines\n"
   ]
  },
  {
   "cell_type": "markdown",
   "metadata": {},
   "source": [
    "## 3) Testing This spacing method"
   ]
  },
  {
   "cell_type": "code",
   "execution_count": 284,
   "metadata": {},
   "outputs": [],
   "source": [
    "#try to remove parentheticals\n",
    "httyd2_par = re.findall(r\" *\\([^\\)]*\\)\", httyd2_script)"
   ]
  },
  {
   "cell_type": "code",
   "execution_count": 286,
   "metadata": {},
   "outputs": [
    {
     "data": {
      "text/plain": [
       "237"
      ]
     },
     "execution_count": 286,
     "metadata": {},
     "output_type": "execute_result"
    }
   ],
   "source": [
    "croods_par = re.findall(r\" *\\([^\\)]*\\)\", croods_script)\n",
    "len(croods_par)"
   ]
  },
  {
   "cell_type": "code",
   "execution_count": 285,
   "metadata": {},
   "outputs": [
    {
     "data": {
      "text/plain": [
       "321"
      ]
     },
     "execution_count": 285,
     "metadata": {},
     "output_type": "execute_result"
    }
   ],
   "source": [
    "len(httyd2_par)"
   ]
  },
  {
   "cell_type": "code",
   "execution_count": 288,
   "metadata": {},
   "outputs": [
    {
     "data": {
      "text/plain": [
       "235"
      ]
     },
     "execution_count": 288,
     "metadata": {},
     "output_type": "execute_result"
    }
   ],
   "source": [
    "croods_par_2 = re.findall(r\" {1,}\\([^\\)]*\\)\", croods_script)\n",
    "len(croods_par_2)"
   ]
  },
  {
   "cell_type": "code",
   "execution_count": 135,
   "metadata": {},
   "outputs": [
    {
     "data": {
      "text/plain": [
       "['           (Sequence 0200 - New Berk)', ' (V.O.)', ' (V.O.)', ' (V.O.)', \" (CONT'D)\", \" (CONT'D)\", ' (V.O.)', ' (V.O.)', ' (V.O.)', '           (aloud, to the crowd)', \" (CONT'D)\", \" (CONT'D)\", \" (CONT'D)\", '           (gloating, to the crowd)', ' (V.O.)', '          (Scene 0300 - AWOL Part One)', \" (CONT'D)\", \" (CONT'D)\", \" (CONT'D)\", \" (CONT'D)\", \" (CONT'D)\", \" (CONT'D)\", \" (CONT'D)\", \" (CONT'D)\", \" (CONT'D)\", \" (CONT'D)\", \" (CONT'D)\", \" (CONT'D)\", \" (CONT'D)\", \" (CONT'D)\", \" (CONT'D)\", \" (CONT'D)\", \" (CONT'D)\", \" (CONT'D)\", \" (CONT'D)\", '                          (BEAT)', '                          (BURDENED)', '          (Scene 0325 - AWOL Part Two)', \" (CONT'D)\", '                          (APING STOICK)', '                          (APING HICCUP)', \" (CONT'D)\", \"           (resuming Stoick's brogue)\", '           (continuing her impression\\n\\n                          OF HICCUP)', '           (holding her arms, mock-\\n\\n                          STERN)', \" (CONT'D)\", \"           (resuming Stoick's brogue)\", \" (CONT'D)\", \" (CONT'D)\", '                          (EXCITED)', \" (CONT'D)\", \" (CONT'D)\", '                          (BEAT)', '                          (EXASPERATED)', '          (Scene 0400 - Shot Down!)', \" (CONT'D)\", \" (CONT'D)\", ' (O.S.)', \" (CONT'D)\", \" (CONT'D)\", '           (to the trappers)', \" (CONT'D)\", '           (to his fellow trappers)', \" (CONT'D)\", '                          (EXASPERATED)', '                          (MORE)', \" (CONT'D)\", \" (CONT'D)\", '                          (BEAT)', '          (Sequence 0500 - Lock-Down!)', \" (CONT'D)\", '           (to Gobber, proving his\\n\\n                          POINT)', '           (privately, to Stoick)', \" (CONT'D)\", '           (pushing his way through)', \" (CONT'D)\", \" (CONT'D)\", \" (CONT'D)\", '           (sing-songy, under his\\n\\n                          BREATH)', \" (CONT'D)\", \" (CONT'D)\", '                          (BEAT)', \" (CONT'D)\", \" (CONT'D)\", \"          (Scene 0700 - Eret's Lesson)\", \" (CONT'D)\", \" (CONT'D)\", \" (CONT'D)\", \" (CONT'D)\", \" (CONT'D)\", \" (CONT'D)\", \" (CONT'D)\", \" (CONT'D)\", \" (CONT'D)\", \" (CONT'D)\", \" (CONT'D)\", \" (CONT'D)\", '          (Scene 1000 - Botched Rescue)', \" (CONT'D)\", \" (CONT'D)\", \" (CONT'D)\", ' (O.S.)', \" (CONT'D)\", '           (panting, suffocated)', \" (CONT'D)\", '                          (TO HICCUP)', \" (CONT'D)\", ' (V.O.)', ' (V.O.)', \" (CONT'D)\", ' (V.O.)', '                          (STINGING REGRET)', \" (CONT'D)\", '                          (TO HICCUP)', \" (CONT'D)\", '                          (TO TOOTHLESS)', '                          (PETULANT)', '          (Scene 1100 - Ambushed!)', \" (CONT'D)\", \" (CONT'D)\", '                          (ALARMED)', '                          (TO TOOTHLESS)', \" (CONT'D)\", \" (CONT'D)\", ' (MIDNIGHT SUN)', '          (Scene 1300 - Dragon Lady)', \" (CONT'D)\", \" (CONT'D)\", \" (CONT'D)\", \" (CONT'D)\", '           (whispered, shaken)', '                          (BEAT)', \" (CONT'D)\", ' (MIDNIGHT SUN)', '          (Sequence 1325 - Searching)', '          (Scene 1400 - A New Family)', '                          (BEAT)', \" (CONT'D)\", \" (CONT'D)\", \" (CONT'D)\", '           (feeble, trailing off)', \" (CONT'D)\", \" (CONT'D)\", \" (CONT'D)\", \"           (re: Toothless' tail)\", \" (CONT'D)\", '           (playfully, to Toothless)', \" (CONT'D)\", ' (V.O.)', ' (V.O.)', ' (Cloudjumper)', ' (V.O.)', ' (V.O.)', ' (V.O.)', ' (O.S.)', '                          (DISTANT)', \" (CONT'D)\", '                          (BEAT)', \" (CONT'D)\", \" (CONT'D)\", \" (CONT'D)\", \" (CONT'D)\", \" (CONT'D)\", '          (Scene 1200 - Astrid Takes Charge)', '                          (RESOLUTE)', '                          (NERVOUSLY)', ' (O.S.)', \" (CONT'D)\", \"          (Scene 1600 - Momma's Boy)\", '           (with a mischievous grin)', \" (CONT'D)\", \" (CONT'D)\", \" (CONT'D)\", '                          (REMORSEFUL)', \" (CONT'D)\", \" (CONT'D)\", \" (CONT'D)\", '                          (BEAT)', \" (CONT'D)\", \" (CONT'D)\", '          (Scene 1350 - Meet Drago)', '                          (STRAINED)', ' (O.S.)', \" (CONT'D)\", \" (CONT'D)\", \" (CONT'D)\", '           (quiet, to the dragon)', \" (CONT'D)\", \" (CONT'D)\", '                          (TO ERET)', '                          (SAVORING IT)', \" (CONT'D)\", '          (Scene 1800 - Family Reunion)', '                          (DETERMINED)', '                          (RATTLED)', \" (CONT'D)\", '                          (MORE)', \" (CONT'D)\", '                          (BEAT)', '                          (TEARFUL)', \" (CONT'D)\", \"          (Scene 1750 - Eret's Turn)\", \" (CONT'D)\", \" (CONT'D)\", \" (CONT'D)\", '                          (BEAT)', '          (Scene 1850 - The Last Dance)', '                          (SWEETLY)', '           (to Hiccup and Grump)', '                          (MORE)', \" (CONT'D)\", '                          (WHISPERED)', \" (CONT'D)\", '                          (SINGING SOFTLY)', \" (CONT'D)\", '                          (SINGING)', '                          (SINGING)', '           (catching himself,\\n\\n                          EMBARRASSED)', '                          (SINGING)', \" (CONT'D)\", '                          (SINGING)', \" (CONT'D)\", '                          (SINGING)', '                          (SINGING)', '                          (MORE)', \" (CONT'D)\", '                          (SINGING)', '                          (SINGING)', \" (CONT'D)\", '                          (SINGING)', '                          (SINGING)', \" (CONT'D)\", \" (CONT'D)\", \" (CONT'D)\", '          (Scene 1900 - Surprise Guests)', '                          (BEAT)', '                          (DETERMINED)', \" (CONT'D)\", \" (CONT'D)\", ' (riding Meatlug,\\n\\n          along with Fishlegs)', \" (CONT'D)\", \" (CONT'D)\", '                          (SMUG)', '                          (HORRIFIED)', \" (CONT'D)\", \" (CONT'D)\", \" (CONT'D)\", \" (CONT'D)\", \"          (Scene 2000 - Stoick's Sacrifice)\", \" (CONT'D)\", \" (CONT'D)\", \" (CONT'D)\", '           (grinning, smug)', '                          (BEAT)', \" (CONT'D)\", '                          (PANICKED)', \" (CONT'D)\", \" (CONT'D)\", \" (CONT'D)\", \" (CONT'D)\", \" (CONT'D)\", \" (CONT'D)\", \" (CONT'D)\", ' (O.S.)', \" (CONT'D)\", '          (Scene 2100 - Viking Funeral)', ' (V.O.)', ' (V.O.)', \" (CONT'D)\", \" (CONT'D)\", '                          (BEAT)', '                          (BEAT)', '                          (BEAT)', '           (to the others)', '          (Scene 2200 - Hatchlings to the Rescue)', \" (CONT'D)\", '          (Scene 2450 - Hiccup Vs. Toothless)', \" (CONT'D)\", \" (CONT'D)\", '                          (FUMING)', \" (CONT'D)\", \" (CONT'D)\", \" (CONT'D)\", \" (CONT'D)\", \" (CONT'D)\", \" (CONT'D)\", '                          (BEAT)', \" (CONT'D)\", \" (CONT'D)\", \" (CONT'D)\", \" (CONT'D)\", '          (Scene 2500 - One True Alpha)', \" (CONT'D)\", \" (CONT'D)\", \" (CONT'D)\", \" (CONT'D)\", '                          (BEAT)', \" (CONT'D)\", \" (CONT'D)\", \" (CONT'D)\", \" (CONT'D)\", '                          (GRINNING KNOWINGLY)', \" (CONT'D)\", '           (to the defecting dragons)', '                          (BEAT)', \" (CONT'D)\", \" (CONT'D)\", \" (CONT'D)\", \" (CONT'D)\", \" (CONT'D)\", \" (CONT'D)\", '                          (THEN)', \" (CONT'D)\", '          (Scene 2700 - A New Beginning)', ' (V.O.)', ' (V.O.)', ' (V.O.)', ' (V.O.)', ' (V.O.)', ' (V.O.)', ' (V.O.)']"
      ]
     },
     "execution_count": 135,
     "metadata": {},
     "output_type": "execute_result"
    }
   ],
   "source": [
    "httyd2_par"
   ]
  },
  {
   "cell_type": "code",
   "execution_count": 153,
   "metadata": {},
   "outputs": [],
   "source": [
    "httyd2_script_2 = re.sub(r\" {1,}\\([^\\)]*\\)\", '', httyd2_script)"
   ]
  },
  {
   "cell_type": "code",
   "execution_count": 154,
   "metadata": {},
   "outputs": [
    {
     "name": "stdout",
     "output_type": "stream",
     "text": [
      "[11, 11, 25, 11, 11, 11, 11, 11, 11, 11, 11, 11, 11, 10, 10, 10, 10, 11, 11, 11, 11, 11, 11, 10, 10, 10, 10, 11, 11, 10, 10, 10, 10, 10, 10, 10, 26, 11, 11, 26, 11, 10, 10, 26, 11, 10, 10, 26, 11, 11, 26, 11, 11, 10, 10, 26, 11, 11, 10, 10, 10, 10, 10, 10, 10, 26, 11, 11, 11, 10, 10, 26, 11, 11, 26, 11, 11, 10, 10, 10, 10, 26, 11, 11, 26, 11, 11, 26, 11, 11, 26, 11, 10, 11, 11, 11, 11, 11, 10, 10]\n",
      "{26, 25, 10, 11}\n",
      "26 white spaces appear 690 times\n",
      "25 white spaces appear 9 times\n",
      "10 white spaces appear 1547 times\n",
      "11 white spaces appear 1318 times\n"
     ]
    }
   ],
   "source": [
    "white_space_count(httyd2_script_2)"
   ]
  },
  {
   "cell_type": "code",
   "execution_count": 155,
   "metadata": {},
   "outputs": [
    {
     "data": {
      "text/plain": [
       "119"
      ]
     },
     "execution_count": 155,
     "metadata": {},
     "output_type": "execute_result"
    }
   ],
   "source": [
    "(760-690) + (1571-1547) + (1343-1318)"
   ]
  },
  {
   "cell_type": "code",
   "execution_count": 156,
   "metadata": {},
   "outputs": [
    {
     "data": {
      "text/plain": [
       "119"
      ]
     },
     "execution_count": 156,
     "metadata": {},
     "output_type": "execute_result"
    }
   ],
   "source": [
    "24 + 70 + 25"
   ]
  },
  {
   "cell_type": "code",
   "execution_count": 157,
   "metadata": {},
   "outputs": [
    {
     "data": {
      "text/plain": [
       "'\\n\\n           EXT. OPEN SEA - DAY\\n\\n           Hiccup and Toothless BLUR PAST, leaving a wake that leads...                         \\n\\n           EXT. BERK - DAY\\n\\n\\n\\n           To the island village of Berk, festively adorned with flags\\n\\n           and banners. Major new additions alter its familiar skyline.\\n\\n           HICCUP\\n\\n           This... is Berk. The best kept\\n\\n           secret this side of, well,\\n\\n           anywhere. Granted, it may not look\\n\\n           like much, but this wet heap of\\n\\n '"
      ]
     },
     "execution_count": 157,
     "metadata": {},
     "output_type": "execute_result"
    }
   ],
   "source": [
    "httyd2_script_2[:500]"
   ]
  },
  {
   "cell_type": "code",
   "execution_count": 162,
   "metadata": {},
   "outputs": [],
   "source": [
    "httyd2_lines = re.findall(r\"\\n\\n {26}(\\b[A-Z]['A-Z ]{1,})+\\n\\n\", httyd2_script_2) #THIS IS GOOD!!!!"
   ]
  },
  {
   "cell_type": "code",
   "execution_count": 163,
   "metadata": {},
   "outputs": [
    {
     "name": "stdout",
     "output_type": "stream",
     "text": [
      "678\n",
      "{'STOICK', 'TUFFNUT RUFFNUT', 'ASTRID', 'TEENY', 'WARRIOR', 'GOBBER', 'FISHLEGS', 'SNOTLOUT', 'HICCUP', 'STARKARD', 'DRAGO', 'ARCHER', 'HOARK', 'RUFFNUT', 'UG', 'TUFFNUT', 'VALKA', 'SOLDIER', 'ERET'}\n"
     ]
    }
   ],
   "source": [
    "print(len(httyd2_lines))\n",
    "print(set(httyd2_lines))"
   ]
  },
  {
   "cell_type": "code",
   "execution_count": 246,
   "metadata": {},
   "outputs": [],
   "source": [
    "httyd2_morelines = re.findall(r\"(\\n\\n {11}([A-Z]['A-Z]{1,}[ ]?){1,4}\\n\\n)\", httyd2_script_2) "
   ]
  },
  {
   "cell_type": "code",
   "execution_count": 247,
   "metadata": {},
   "outputs": [
    {
     "name": "stdout",
     "output_type": "stream",
     "text": [
      "30\n"
     ]
    }
   ],
   "source": [
    "print(len(httyd2_morelines))"
   ]
  },
  {
   "cell_type": "code",
   "execution_count": 248,
   "metadata": {},
   "outputs": [
    {
     "name": "stdout",
     "output_type": "stream",
     "text": [
      "{('\\n\\n           VALKA\\n\\n', 'VALKA'), ('\\n\\n           GOBBER\\n\\n', 'GOBBER'), ('\\n\\n           STOICK\\n\\n', 'STOICK'), ('\\n\\n           HICCUP\\n\\n', 'HICCUP'), ('\\n\\n           UG\\n\\n', 'UG'), ('\\n\\n           ERET\\n\\n', 'ERET')}\n"
     ]
    }
   ],
   "source": [
    "print(set(httyd2_morelines))"
   ]
  },
  {
   "cell_type": "markdown",
   "metadata": {},
   "source": [
    "Let's try to write a function that will do this for all three movies, and see how well it works"
   ]
  },
  {
   "cell_type": "code",
   "execution_count": 290,
   "metadata": {},
   "outputs": [],
   "source": [
    "def line_identifier(script):\n",
    "    script_lines = re.findall(r\"\\n\\n {26}(\\b[A-Z]['A-Z ]{1,})+\\n\\n\", script)\n",
    "    more_lines = re.findall(r\"(\\n\\n {11}([A-Z]['A-Z]{1,}[ ]?){1,4}\\n\\n)\", script)\n",
    "    return len(script_lines), set(script_lines), len(more_lines), set(more_lines)"
   ]
  },
  {
   "cell_type": "code",
   "execution_count": 289,
   "metadata": {},
   "outputs": [],
   "source": [
    "#First, take out parentheticals of other scripts:\n",
    "def no_parentheses(script):\n",
    "    new_script = re.sub(r\" *\\([^\\)]*\\)\", '', script)\n",
    "    return new_script"
   ]
  },
  {
   "cell_type": "code",
   "execution_count": 291,
   "metadata": {},
   "outputs": [],
   "source": [
    "croods_updated = no_parentheses(croods_script)"
   ]
  },
  {
   "cell_type": "code",
   "execution_count": 292,
   "metadata": {},
   "outputs": [
    {
     "data": {
      "text/plain": [
       "'\\n\\n          SEQ. 75 - PROLOGUE\\n\\n                         FADE IN:\\n\\n          A cave painting of the Dreamworks logo. Push past the\\n\\n          moon to the sun. Bright. Beautiful. The sun DISSOLVES\\n\\n                         TO:\\n\\n          Cave paintings of a family of cavemen -- we will come to\\n\\n          know them as The Croods.\\n\\n                          EEP (V.O.)\\n\\n           With every sun comes a new day. A new\\n\\n           beginning. A hope that things will be\\n\\n           better today than th'"
      ]
     },
     "execution_count": 292,
     "metadata": {},
     "output_type": "execute_result"
    }
   ],
   "source": [
    "croods_script[:500]"
   ]
  },
  {
   "cell_type": "code",
   "execution_count": 293,
   "metadata": {},
   "outputs": [
    {
     "data": {
      "text/plain": [
       "'\\n\\n          SEQ. 75 - PROLOGUE\\n\\n                         FADE IN:\\n\\n          A cave painting of the Dreamworks logo. Push past the\\n\\n          moon to the sun. Bright. Beautiful. The sun DISSOLVES\\n\\n                         TO:\\n\\n          Cave paintings of a family of cavemen -- we will come to\\n\\n          know them as The Croods.\\n\\n                          EEP\\n\\n           With every sun comes a new day. A new\\n\\n           beginning. A hope that things will be\\n\\n           better today than they were'"
      ]
     },
     "execution_count": 293,
     "metadata": {},
     "output_type": "execute_result"
    }
   ],
   "source": [
    "croods_updated[:500]"
   ]
  },
  {
   "cell_type": "code",
   "execution_count": 294,
   "metadata": {},
   "outputs": [
    {
     "name": "stdout",
     "output_type": "stream",
     "text": [
      "[10, 25, 10, 10, 25, 10, 10, 26, 11, 11, 11, 10, 10, 10, 10, 26, 11, 11, 11, 11, 11, 11, 11, 11, 11, 11, 10, 10, 26, 11, 11, 11, 11, 11, 11, 10, 26, 11, 11, 10, 10, 10, 26, 11, 11, 11, 11, 11, 10, 10, 10, 10, 26, 11, 11, 10, 10, 10, 26, 11, 11, 11, 11, 10, 10, 26, 10, 10, 10, 10, 10, 26, 11, 11, 10, 10, 10, 10, 10, 10, 26, 11, 11, 10, 10, 10, 26, 11, 26, 11, 26, 11, 26, 11, 11, 10, 10, 26, 11, 11]\n",
      "{11, 25, 10, 26}\n",
      "11 white spaces appear 1125 times\n",
      "25 white spaces appear 23 times\n",
      "10 white spaces appear 1361 times\n",
      "26 white spaces appear 802 times\n"
     ]
    }
   ],
   "source": [
    "white_space_count(croods_updated)"
   ]
  },
  {
   "cell_type": "code",
   "execution_count": 295,
   "metadata": {},
   "outputs": [],
   "source": [
    "len_croods_lines, set_croods_lines, len_more_lines, set_more_lines = line_identifier(croods_updated)"
   ]
  },
  {
   "cell_type": "code",
   "execution_count": 296,
   "metadata": {},
   "outputs": [
    {
     "name": "stdout",
     "output_type": "stream",
     "text": [
      "762\n",
      "{'THUNK', 'CREATURE', 'EEP', 'ERF ERF', 'SANDY', 'UGGA', 'CROODS', 'BELT', 'GUY', 'MACAWNIVORE', 'GRAN', 'GRUG', 'CHUNKY', 'UGA'}\n",
      "10\n",
      "{('\\n\\n           EEP\\n\\n', 'EEP'), ('\\n\\n           UGGA\\n\\n', 'UGGA'), ('\\n\\n           THUNK\\n\\n', 'THUNK'), ('\\n\\n           THUNK GRAN SANDY BELT\\n\\n', 'BELT'), ('\\n\\n           GRUG\\n\\n', 'GRUG'), ('\\n\\n           GUY\\n\\n', 'GUY')}\n"
     ]
    }
   ],
   "source": [
    "print(len_croods_lines)\n",
    "print(set_croods_lines)\n",
    "print(len_more_lines)\n",
    "print(set_more_lines)"
   ]
  },
  {
   "cell_type": "code",
   "execution_count": 297,
   "metadata": {},
   "outputs": [],
   "source": [
    "#double check this\n",
    "more_lines = re.findall(r\"\\n\\n {11}\\b[A-Z]['A-Z ]{1,}\\n\\n\", croods_updated)\n",
    "#we can live without the collective line\n",
    "#need to tweek the spacing here"
   ]
  },
  {
   "cell_type": "code",
   "execution_count": 298,
   "metadata": {},
   "outputs": [
    {
     "data": {
      "text/plain": [
       "{'\\n\\n           THUNK GRAN SANDY BELT\\n\\n', '\\n\\n           GUY\\n\\n', '\\n\\n           GRUG\\n\\n', '\\n\\n           THUNK\\n\\n', '\\n\\n           EEP\\n\\n', '\\n\\n           UGGA\\n\\n'}"
      ]
     },
     "execution_count": 298,
     "metadata": {},
     "output_type": "execute_result"
    }
   ],
   "source": [
    "set(more_lines)"
   ]
  },
  {
   "cell_type": "code",
   "execution_count": 299,
   "metadata": {},
   "outputs": [],
   "source": [
    "rotg_updated = no_parentheses(rotg_script)"
   ]
  },
  {
   "cell_type": "code",
   "execution_count": 300,
   "metadata": {},
   "outputs": [
    {
     "data": {
      "text/plain": [
       "\"\\n\\n          SEQ. 125 - ALONE IN THE WORLD\\n\\n                         DARKNESS\\n\\n           JACK\\n\\n           Darkness. That's the first thing I\\n\\n           remember. It was dark, and it was\\n\\n           cold. And I was scared.\\n\\n          The silhouette of a body appears as it drifts into a ray of\\n\\n          light, refracted through water, which turns into...\\n\\n          A MOON - SEEN IN REFLECTION ON A SHEET OF ICE\\n\\n          The moonlight intensifies almost magically, and the ice above\\n\\n          be\""
      ]
     },
     "execution_count": 300,
     "metadata": {},
     "output_type": "execute_result"
    }
   ],
   "source": [
    "rotg_updated[:500]"
   ]
  },
  {
   "cell_type": "code",
   "execution_count": 301,
   "metadata": {},
   "outputs": [
    {
     "data": {
      "text/plain": [
       "\"\\n\\n          SEQ. 125 - ALONE IN THE WORLD\\n\\n                         DARKNESS\\n\\n           JACK (V.O.)\\n\\n           Darkness. That's the first thing I\\n\\n           remember. It was dark, and it was\\n\\n           cold. And I was scared.\\n\\n          The silhouette of a body appears as it drifts into a ray of\\n\\n          light, refracted through water, which turns into...\\n\\n          A MOON - SEEN IN REFLECTION ON A SHEET OF ICE\\n\\n          The moonlight intensifies almost magically, and the ice above\\n\\n     \""
      ]
     },
     "execution_count": 301,
     "metadata": {},
     "output_type": "execute_result"
    }
   ],
   "source": [
    "rotg_script[:500]"
   ]
  },
  {
   "cell_type": "code",
   "execution_count": 302,
   "metadata": {},
   "outputs": [
    {
     "name": "stdout",
     "output_type": "stream",
     "text": [
      "[10, 25, 11, 11, 11, 11, 10, 10, 10, 10, 10, 10, 10, 10, 10, 10, 10, 11, 11, 11, 11, 11, 11, 10, 10, 11, 11, 11, 11, 11, 10, 10, 10, 10, 10, 10, 11, 10, 10, 10, 10, 10, 10, 10, 10, 10, 10, 10, 10, 10, 10, 10, 10, 26, 11, 11, 11, 10, 10, 26, 11, 11, 10, 10, 10, 26, 11, 10, 10, 11, 11, 11, 11, 11, 11, 10, 10, 26, 10, 10, 10, 10, 10, 10, 10, 10, 10, 10, 10, 10, 10, 10, 11, 11, 10, 10, 10, 10, 10, 10]\n",
      "{26, 25, 10, 11}\n",
      "26 white spaces appear 889 times\n",
      "25 white spaces appear 39 times\n",
      "10 white spaces appear 2123 times\n",
      "11 white spaces appear 1796 times\n"
     ]
    }
   ],
   "source": [
    "white_space_count(rotg_updated)"
   ]
  },
  {
   "cell_type": "code",
   "execution_count": 303,
   "metadata": {},
   "outputs": [],
   "source": [
    "len_rotg_lines, set_rotg_lines, len_more_rotg_lines, set_more_rotg_lines = line_identifier(rotg_updated)"
   ]
  },
  {
   "cell_type": "code",
   "execution_count": 304,
   "metadata": {},
   "outputs": [
    {
     "name": "stdout",
     "output_type": "stream",
     "text": [
      "846\n",
      "{'PITCH', 'BUNNYMUND', 'PIPPA', \"JACK'S SISTER\", \"JACK'S MOTHER\", 'SOPHIE', 'KIDS', 'BRITISH KIDS', 'YETIS', 'MONTY', 'BABY TOOTH', 'TOOTH', 'YETI', 'RUSSIAN BOY', 'BRITISH BOY', 'BRITISH GIRL', 'BUNNY', 'NORTH', 'CUPCAKE', 'JACK', 'CLAUDE', 'CALEB', 'JAMIE', \"JAMIE'S MOM\"}\n",
      "84\n",
      "{('\\n\\n           PITCH\\n\\n', 'PITCH'), ('\\n\\n           CALEB\\n\\n', 'CALEB'), ('\\n\\n           COLONIAL BOY\\n\\n', 'BOY'), ('\\n\\n           TOOTH\\n\\n', 'TOOTH'), (\"\\n\\n           JACK'S SISTER\\n\\n\", 'SISTER'), ('\\n\\n           FADE TO WHITE\\n\\n', 'WHITE'), ('\\n\\n           KIDS\\n\\n', 'KIDS'), ('\\n\\n           MONTY\\n\\n', 'MONTY'), ('\\n\\n           RESIDENTS\\n\\n', 'RESIDENTS'), ('\\n\\n           NORTH\\n\\n', 'NORTH'), ('\\n\\n           DOG WALKER\\n\\n', 'WALKER'), ('\\n\\n           PIPPA\\n\\n', 'PIPPA'), ('\\n\\n           BRITISH KIDS\\n\\n', 'KIDS'), ('\\n\\n           JACK\\n\\n', 'JACK'), ('\\n\\n           BUNNYMUND\\n\\n', 'BUNNYMUND'), ('\\n\\n           CALEB AND CLAUDE\\n\\n', 'CLAUDE'), ('\\n\\n           CLAUDE AND CALEB\\n\\n', 'CALEB'), ('\\n\\n           JAMIE\\n\\n', 'JAMIE'), (\"\\n\\n           JAMIE'S MOM\\n\\n\", 'MOM')}\n"
     ]
    }
   ],
   "source": [
    "print(len_rotg_lines)\n",
    "print(set_rotg_lines)\n",
    "print(len_more_rotg_lines)\n",
    "print(set_more_rotg_lines)"
   ]
  },
  {
   "cell_type": "code",
   "execution_count": 305,
   "metadata": {},
   "outputs": [],
   "source": [
    "#test that this is okay:\n",
    "more_lines_rotg = re.findall(r\"\\n\\n {11}\\b[A-Z]['A-Z ]{1,}\\n\\n\", rotg_updated)\n",
    "more_lines_rotg = re.findall(r\"(\\n\\n {11}([A-Z]['A-Z]{1,}[ ]?){1,4}\\n\\n)\", rotg_updated)"
   ]
  },
  {
   "cell_type": "code",
   "execution_count": 306,
   "metadata": {},
   "outputs": [
    {
     "name": "stdout",
     "output_type": "stream",
     "text": [
      "84\n",
      "{('\\n\\n           PITCH\\n\\n', 'PITCH'), ('\\n\\n           CALEB\\n\\n', 'CALEB'), ('\\n\\n           COLONIAL BOY\\n\\n', 'BOY'), ('\\n\\n           TOOTH\\n\\n', 'TOOTH'), (\"\\n\\n           JACK'S SISTER\\n\\n\", 'SISTER'), ('\\n\\n           FADE TO WHITE\\n\\n', 'WHITE'), ('\\n\\n           KIDS\\n\\n', 'KIDS'), ('\\n\\n           MONTY\\n\\n', 'MONTY'), ('\\n\\n           RESIDENTS\\n\\n', 'RESIDENTS'), ('\\n\\n           NORTH\\n\\n', 'NORTH'), ('\\n\\n           DOG WALKER\\n\\n', 'WALKER'), ('\\n\\n           PIPPA\\n\\n', 'PIPPA'), ('\\n\\n           BRITISH KIDS\\n\\n', 'KIDS'), ('\\n\\n           JACK\\n\\n', 'JACK'), ('\\n\\n           BUNNYMUND\\n\\n', 'BUNNYMUND'), ('\\n\\n           CALEB AND CLAUDE\\n\\n', 'CLAUDE'), ('\\n\\n           CLAUDE AND CALEB\\n\\n', 'CALEB'), ('\\n\\n           JAMIE\\n\\n', 'JAMIE'), (\"\\n\\n           JAMIE'S MOM\\n\\n\", 'MOM')}\n"
     ]
    }
   ],
   "source": [
    "print(len(more_lines_rotg))\n",
    "print(set(more_lines_rotg))"
   ]
  },
  {
   "cell_type": "code",
   "execution_count": 307,
   "metadata": {},
   "outputs": [
    {
     "data": {
      "text/plain": [
       "{'\\n\\n           MONTY\\n\\n', '\\n\\n           PITCH\\n\\n', '\\n\\n           CLAUDE AND CALEB\\n\\n', \"\\n\\n           JACK'S SISTER\\n\\n\", '\\n\\n           CALEB AND CLAUDE\\n\\n', '\\n\\n           RESIDENTS\\n\\n', '\\n\\n           BUNNYMUND\\n\\n', '\\n\\n           CALEB\\n\\n', '\\n\\n           FADE TO WHITE\\n\\n', '\\n\\n           KIDS\\n\\n', '\\n\\n           JAMIE\\n\\n', '\\n\\n           PIPPA\\n\\n', '\\n\\n           COLONIAL BOY\\n\\n', '\\n\\n           TOOTH\\n\\n', \"\\n\\n           JAMIE'S MOM\\n\\n\", '\\n\\n           JACK\\n\\n', '\\n\\n           NORTH\\n\\n', '\\n\\n           BRITISH KIDS\\n\\n', '\\n\\n           DOG WALKER\\n\\n'}"
      ]
     },
     "execution_count": 307,
     "metadata": {},
     "output_type": "execute_result"
    }
   ],
   "source": [
    "set([x[0] for x in set(more_lines_rotg)]) - set_more_rotg_lines"
   ]
  },
  {
   "cell_type": "code",
   "execution_count": 308,
   "metadata": {},
   "outputs": [],
   "source": [
    "#FADE TO WHITE IS THE ONLY PROBLEM HERE!!!\n",
    "#This can be found later in, when dealing with the dataframe"
   ]
  },
  {
   "cell_type": "code",
   "execution_count": 309,
   "metadata": {},
   "outputs": [
    {
     "data": {
      "text/plain": [
       "['\\n\\n                         FADE', '\\n\\n                         TO:', '\\n\\n                         ON', '\\n\\n                         ON', '\\n\\n                         ON', '\\n\\n                         X-DISS', '\\n\\n                         THUNK', '\\n\\n                         X-DISS', '\\n\\n                         X-DISS', '\\n\\n                         ON', '\\n\\n                         THE', '\\n\\n                         ON', '\\n\\n                         TREE', '\\n\\n                         ON', '\\n\\n                         ON', '\\n\\n                         ON', '\\n\\n                         ON', '\\n\\n                         ON', '\\n\\n                         ON', '\\n\\n                         BEAT', '\\n\\n                         BEAT', '\\n\\n                         ON', '\\n\\n                         BEAT']"
      ]
     },
     "execution_count": 309,
     "metadata": {},
     "output_type": "execute_result"
    }
   ],
   "source": [
    "re.findall(r\"\\n\\n {25}[\\S]+\", croods_updated)"
   ]
  },
  {
   "cell_type": "code",
   "execution_count": 310,
   "metadata": {},
   "outputs": [],
   "source": [
    "#creating a function to replace these lines!!!\n",
    "def create_lines(script):\n",
    "    id_lines = re.sub(r\"\\n\\n {26}(\\b[A-Z]['A-Z ]{1,})+\\n\\n\", r\"_NEWLINE_\\1_\", script)\n",
    "    id_more_lines = re.sub(r\"\\n\\n {11}([A-Z]['A-Z]{1,}[ ]?){1,4}\\n\\n\", r\"_NEWLINE_\\1_\", id_lines)\n",
    "    script_lines = id_more_lines.split(\"_NEWLINE_\")\n",
    "    return script_lines"
   ]
  },
  {
   "cell_type": "code",
   "execution_count": 311,
   "metadata": {},
   "outputs": [],
   "source": [
    "#test on croods\n",
    "crood_lines = create_lines(croods_updated)"
   ]
  },
  {
   "cell_type": "code",
   "execution_count": 312,
   "metadata": {},
   "outputs": [
    {
     "data": {
      "text/plain": [
       "773"
      ]
     },
     "execution_count": 312,
     "metadata": {},
     "output_type": "execute_result"
    }
   ],
   "source": [
    "len(crood_lines)"
   ]
  },
  {
   "cell_type": "code",
   "execution_count": 313,
   "metadata": {},
   "outputs": [
    {
     "data": {
      "text/plain": [
       "['\\n\\n          SEQ. 75 - PROLOGUE\\n\\n                         FADE IN:\\n\\n          A cave painting of the Dreamworks logo. Push past the\\n\\n          moon to the sun. Bright. Beautiful. The sun DISSOLVES\\n\\n                         TO:\\n\\n          Cave paintings of a family of cavemen -- we will come to\\n\\n          know them as The Croods.', 'EEP_           With every sun comes a new day. A new\\n\\n           beginning. A hope that things will be\\n\\n           better today than they were yesterday.\\n\\n          The Croods scurry out of their cave like mice looking for\\n\\n          food. Scared. Fast.\\n\\n          The Croods are chased by beasts across the desert. They\\n\\n          escape from creatures up trees. They hide behind rocks.', \"EEP_           But not for me. My name's Eep. This, is\\n\\n           my family, the Croods. If you weren't\\n\\n           clued in already by the animal skins and\\n\\n           sloping foreheads - we're cavemen. Most\\n\\n           days we spend in our cave, in the dark.\\n\\n           Night after night, day after day. Yep.\\n\\n           Home sweet home. When we did go out, we\\n\\n           struggled to find food in a harsh and\\n\\n           hostile world. And I struggled to\\n\\n           survive my family.\\n\\n          The Croods are chased by beasts across the desert. They\\n\\n          escape from creatures up trees. They hide behind rocks.\", \"EEP_           We were the last ones around. There used\\n\\n           to be neighbors. The Gorts, smashed by a\\n\\n           mammoth. The Horks, swallowed by a sand\\n\\n           snake. The Erfs, mosquito bite. Throgs,\\n\\n           common cold. And, the Croods. That's\\n\\n           us. The Croods made it...\\n\\n          Grug protects his family from a GIANT BEAR OWL.\", 'EEP_           Because of my Dad. He was strong... and\\n\\n           he followed the rules.\\n\\n          A shadow falls across their feet and Grug ushers his\\n\\n          family home.\\n\\n          2.', 'EEP_           ... the ones painted on the cave walls.\\n\\n           Anything new is bad, curiosity is bad,\\n\\n           going out at night is bad. Basically,\\n\\n           anything fun is bad. Welcome to my\\n\\n           world.\\n\\n          They all run back into the cave where Grug slams the rock\\n\\n          door closed.\\n\\n          SLOWLY LIGHT ON CAVE PAINTINGS COMES UP AGAIN. But this\\n\\n          time the light casts an ominous tone.', 'EEP_           But this is a story about how all that\\n\\n           changed in an instant.\\n\\n          RAPID SHOTS OF THE GREAT SPLIT CUTTING THROUGH THE LAND.\\n\\n          HEADED TOWARDS CROOD VALLEY.\\n\\n          SHOTS OF CATACLYSM. CUT FASTER AND FASTER UNTIL...', \"EEP_           Because what we didn't know, was that our\\n\\n           world was about to come to an end. And\\n\\n           there were no rules on our cave walls to\\n\\n           prepare us for that.\\n\\n          CAVEMAN HANDS PRESS against the rock wall. They PUSH. A\\n\\n          BLINDING LIGHT FLOODS the screen.\\n\\n                          CUT TO:\\n\\n          SEQ. 100 - MEET THE CROODS\\n\\n          A HUGE CAVEMAN, GRUG, RUSHES forward, screaming,\\n\\n          growling, and throwing handfuls of dirt in a THREAT\\n\\n          DISPLAY. He BLINKS in the bright morning light. He\\n\\n          LIFTS and HURLS a large boulder.\", 'GRUG_           Raaaaar grooooOOOOoooowwwll ERF ERF\\n\\n           Glaaaaaabbbbllllllllthhhh!\\n\\n          As suddenly as he began, Grug stops. Panting, he waits\\n\\n          for the echoes of his outburst to fade.\\n\\n          Grug TURNS to the cave entrance, he prepares to BELLOW a\\n\\n          signal, but before any sound escapes his lips--\\n\\n          A CAVE GIRL, EEP, bursts from the cave.\\n\\n          3.', \"GRUG_           You're supposed to wait for my signal\\n\\n           Eep. Eep?\\n\\n          Eep scares a pack of nearby Liyotes away. They pounce on\\n\\n          Grug briefly before scampering off. Eep spreads out on\\n\\n          an overhanging rock. She BASKS IN THE SUN.\"]"
      ]
     },
     "execution_count": 313,
     "metadata": {},
     "output_type": "execute_result"
    }
   ],
   "source": [
    "crood_lines[:10]"
   ]
  },
  {
   "cell_type": "code",
   "execution_count": 314,
   "metadata": {},
   "outputs": [
    {
     "name": "stdout",
     "output_type": "stream",
     "text": [
      "\n",
      "\n",
      "          SEQ. 75 - PROLOGUE\n",
      "\n",
      "                         FADE IN:\n",
      "\n",
      "          A cave painting of the Dreamworks logo. Push past the\n",
      "\n",
      "          moon to the sun. Bright. Beautiful. The sun DISSOLVES\n",
      "\n",
      "                         TO:\n",
      "\n",
      "          Cave paintings of a family of cavemen -- we will come to\n",
      "\n",
      "          know them as The Croods.\n",
      "EEP_           Because what we didn't know, was that our\n",
      "\n",
      "           world was about to come to an end. And\n",
      "\n",
      "           there were no rules on our cave walls to\n",
      "\n",
      "           prepare us for that.\n",
      "\n",
      "          CAVEMAN HANDS PRESS against the rock wall. They PUSH. A\n",
      "\n",
      "          BLINDING LIGHT FLOODS the screen.\n",
      "\n",
      "                          CUT TO:\n",
      "\n",
      "          SEQ. 100 - MEET THE CROODS\n",
      "\n",
      "          A HUGE CAVEMAN, GRUG, RUSHES forward, screaming,\n",
      "\n",
      "          growling, and throwing handfuls of dirt in a THREAT\n",
      "\n",
      "          DISPLAY. He BLINKS in the bright morning light. He\n",
      "\n",
      "          LIFTS and HURLS a large boulder.\n",
      "THUNK_           YAY, BREAKFAST!!!!\n",
      "\n",
      "          COMPRESSED TIME - The Croods RUN out of Crood canyon,\n",
      "\n",
      "          across the wide expanses of desert.\n",
      "\n",
      "                          CUT TO:\n",
      "\n",
      "          SEQ. 150 - SMASH & GRAB\n",
      "\n",
      "          EXT. MOUTH OF CROOD CANYON - MORNING\n",
      "\n",
      "          Grug and the Croods come to a stop at the HUNTING\n",
      "\n",
      "          GROUNDS. They are spent from a fifteen-mile run.\n",
      "UGGA_           Get um Mom! Do it for the Croods!\n",
      "\n",
      "          Gran's cane HOOKS the gerbils in the middle of their tail\n",
      "\n",
      "          and WHIPS them up and over her shoulder.\n",
      "\n",
      "                         ON GRAN\n",
      "\n",
      "          DRIBBLING the egg down-range with her cane like a hockey\n",
      "\n",
      "          player. LIYOTES POP UP from behind hoodoos. They SWARM\n",
      "\n",
      "          in behind her.\n",
      "\n",
      "          The Liyotes TRIP Gran. They steal the egg, and HIT THE\n",
      "\n",
      "          GAS. They are INCREDIBLY FAST.\n",
      "GRAN_           Old lady down! Eep, avenge me.\n",
      "\n",
      "          7.\n",
      "\n",
      "                         ON EEP\n",
      "\n",
      "          Crouched in the shade of a scrubby bush, like a runner on\n",
      "\n",
      "          the blocks - she has the Liyotes in her sights. Eep\n",
      "\n",
      "          LAUNCHES.\n",
      "\n",
      "          Eep runs after the Liyote with the egg, cutting him off\n",
      "\n",
      "          in his tracks he slams into a cactus launching the egg\n",
      "\n",
      "          into the air. Eep leaps into the air taking back the egg.\n",
      "UGGA_           Come on Croods. Go, go, go.\n",
      "\n",
      "                          CUT TO:\n",
      "\n",
      "          9.\n",
      "\n",
      "          SEQ. 200 - WELCOME TO CROOD CAVE\n",
      "\n",
      "          INT. CROOD CAVE - EVENING\n",
      "GRUG_                          SIGH \n",
      "\n",
      "                          CUT TO:\n",
      "\n",
      "          SEQ. 210 - BEDTIME STORY\n",
      "\n",
      "          The Bear Owl PUSHES his paw through the narrow opening,\n",
      "\n",
      "          and FEELS around for the Croods. The Croods are like\n",
      "\n",
      "          mice in this world.\n",
      "CROODS_                          GROAN \n",
      "UGGA_           Alright, everyone sharpen your teeth and\n",
      "\n",
      "           let's pile up.\n",
      "\n",
      "          All their worst fears confirmed, the Croods snuggle into\n",
      "\n",
      "          one big heap, warm and comfy. Grug casts a glance to\n",
      "\n",
      "          Eep's ledge. She doesn't budge.\n",
      "\n",
      "           FADE TO BLACK:\n",
      "\n",
      "          SEQ. 500 - FOLLOW THE LIGHT\n",
      "\n",
      "          15.\n",
      "\n",
      "          INT. CROOD CAVE - NIGHT\n",
      "\n",
      "          The Croods sleep peacefully in their pile. Except Eep,\n",
      "\n",
      "          who tosses restlessly on her LEDGE. Outside, we hear the\n",
      "\n",
      "          ROARS and HOWLS of prehistoric creatures fighting.\n",
      "\n",
      "          But then, SILENCE.\n",
      "\n",
      "          And then cutting through the primordial night is a\n",
      "\n",
      "          MUSICAL SOUND. Unsettling. Unearthly. Eep creeps\n",
      "\n",
      "          around her sleeping family and cautiously approaches the\n",
      "\n",
      "          \"door\" to peer outside, when suddenly--\n",
      "\n",
      "          WHOOSH! A bright light blazes through the gaps around\n",
      "\n",
      "          the boulder door, bathing Eep in an OTHER-WORLDLY GLOW.\n",
      "\n",
      "          She chases the flash of light around the cave trying to\n",
      "\n",
      "          catch it in her hands.\n",
      "\n",
      "          Eep presses her face against the cold boulder, trying to\n",
      "\n",
      "          get a look at what is outside, but she can't get more\n",
      "\n",
      "          than a blurred glimpse of the canyon beyond - and the\n",
      "\n",
      "          disappearing light.\n",
      "\n",
      "          Desperate to see more, Eep braces her back against the\n",
      "\n",
      "          cave and PUSHES the plug rock with her legs. Slowly, she\n",
      "\n",
      "          shifts the rock, careful not to wake her father. It takes\n",
      "\n",
      "          all of her strength, but she manages to move it just\n",
      "\n",
      "          enough for her to BARELY SQUEEZE out.\n",
      "\n",
      "          EXT. CROOD CANYON - CONTINUOUS\n",
      "\n",
      "          Eep stands outside at night for the first time ever. Her\n",
      "\n",
      "          heart races. The hot night wind blows against her face\n",
      "\n",
      "          and through her hair. The forbidden sensation is\n",
      "\n",
      "          exhilarating.\n",
      "\n",
      "          The canyon beyond is quickly swallowing the light - it\n",
      "\n",
      "          will be gone in another few seconds. With one of her\n",
      "\n",
      "          hands pressed tightly to the cave `door', she steels\n",
      "\n",
      "          herself.\n",
      "\n",
      "          Eep LETS GO and DASHES after the light, SCRAMBLING\n",
      "\n",
      "          through the SANDSTONE NARROWS, bounding from side to\n",
      "\n",
      "          side. As she disappears into the darkness of the canyon,\n",
      "\n",
      "          we...\n",
      "\n",
      "                          CUT TO:\n",
      "\n",
      "          EXT. CANYON\n",
      "\n",
      "          The light ahead is growing brighter. Eep is closing on\n",
      "\n",
      "          it. In her excitement, she missteps and SNAPS a stick\n",
      "\n",
      "          underfoot.\n",
      "\n",
      "          16.\n",
      "\n",
      "          It was barely audible. Eep instinctively FREEZES.\n",
      "\n",
      "          A huge SHADOW of a TUSKED CREATURE is cast on the wall\n",
      "\n",
      "          above her. Eep throws a rock at the shadow.\n",
      "\n",
      "          She POWERS STRAIGHT UP the stone wall with unexpected\n",
      "\n",
      "          speed.\n",
      "\n",
      "          The Creature RUNS. Eep tops the wall and...\n",
      "\n",
      "                          CUT TO:\n",
      "\n",
      "          SEQ. 550 - CLOSE ENCOUNTERS\n",
      "\n",
      "          EXT. ROCK ARCH - NIGHT\n",
      "\n",
      "          Eep steps into a small clearing. Stuck in the ground, is\n",
      "\n",
      "          a TORCH. As far as Eep knows, this is the thing she was\n",
      "\n",
      "          following. Eep crouches down and cautiously approaches.\n",
      "\n",
      "          REVERSE ANGLE - Eep can feel the heat from the fire on\n",
      "\n",
      "          the palms of her hands and her face. TENSE. EXCITING.\n",
      "\n",
      "          But camouflaged against the rock wall behind her,\n",
      "\n",
      "          something MOVES. A WARTHOG CREATURE stands upright and\n",
      "\n",
      "          creeps up behind her.\n",
      "\n",
      "          Eep reaches out to TOUCH the flame. The torch blows away\n",
      "\n",
      "          from her. The wind has changed direction. The breeze at\n",
      "\n",
      "          her back, Eep smells the Creature behind her. On her\n",
      "\n",
      "          face, awe turns to determination as she wheels and grabs\n",
      "\n",
      "          the creature. She THROWS and FLIPS it over her shoulder.\n",
      "\n",
      "          It hits the torch, knocking it to the ground. Eep jumps\n",
      "\n",
      "          back, GRABBING a good-sized rock - she's poised to bash\n",
      "\n",
      "          the Creature's brains in.\n",
      "EEP_           OW!\n",
      "\n",
      "          She KICKS Guy in the stomach. He ROLLS sideways. Guy is\n",
      "\n",
      "          getting the worst of this encounter. Eep kicks Guy off-\n",
      "\n",
      "          frame. We HEAR the fight continuing.\n",
      "\n",
      "                          CUT TO:\n",
      "\n",
      "          INT. CROOD CAVE\n",
      "\n",
      "          Grug is awakened by wind coming from the cave opening.\n",
      "\n",
      "          He pushes the \"sleep pile\" off of him. Checks Eep's\n",
      "\n",
      "          ledge... but she is gone.\n",
      "GRUG_           Stay in the cave!\n",
      "\n",
      "          Grug stands outside the entrance to the cave. Peering\n",
      "\n",
      "          into utter darkness. He steels himself... and then\n",
      "\n",
      "          releases his hand from the \"door.\"\n",
      "\n",
      "                          CUT TO:\n",
      "\n",
      "          SEQ. 560 - CLOSE ENCOUNTERS\n",
      "\n",
      "          EXT. ROCK ARCH\n",
      "\n",
      "          Guy is still on his knees.\n",
      "GRUG_           You're grounded.\n",
      "\n",
      "                          CUT TO:\n",
      "\n",
      "          23.\n",
      "\n",
      "          SEQ. 610 - EARTHQUAKE\n",
      "\n",
      "          EXT. CANYON - OUTSIDE THE KEYHOLE - MORNING\n",
      "\n",
      "          Grug and Eep move up the canyon. Eep furiously kicks a\n",
      "\n",
      "          rock, it nearly hits Grug.\n",
      "GRUG_           Look out! Stop!\n",
      "\n",
      "          Grug leaps and tackles his family, protecting them from\n",
      "\n",
      "          the mass of rocks crashing down.\n",
      "\n",
      "          The top of the canyon collapses and the Crood's cave is\n",
      "\n",
      "          destroyed. Everything is engulfed by dust. The earth\n",
      "\n",
      "          settles.\n",
      "\n",
      "                          DISSOLVE TO:\n",
      "\n",
      "          SEQ. 710 - CROSSING OVER\n",
      "\n",
      "          The dust clears a bit - the Croods are in a tight ball,\n",
      "\n",
      "          covered by Grug. Grug stands, all Croods were sheltered\n",
      "\n",
      "          and safe under his mighty arms.\n",
      "GRUG_           Just go! Go! Go!\n",
      "\n",
      "          The Croods run towards the precipice with the Bear Owl\n",
      "\n",
      "          closing in.\n",
      "\n",
      "          They reach the edge. The Bear Owl dives.\n",
      "\n",
      "          The Croods LEAP. They hang for a moment and begin\n",
      "\n",
      "          tumbling down a steep jungle hill.\n",
      "\n",
      "                          CUT TO:\n",
      "\n",
      "          SEQ. 776 - NEW WORLD\n",
      "\n",
      "          EXT. NEW WORLD. DAY\n",
      "\n",
      "          The Croods tumble through a twisty mess of giant roots\n",
      "\n",
      "          and strange plants and land in a heap. They all lie on\n",
      "\n",
      "          their backs, disoriented, but momentarily calm.\n",
      "\n",
      "          Grug sits up first. He turns to the high, high, cliff\n",
      "\n",
      "          above them -- to the top, where they have lived all their\n",
      "\n",
      "          lives up to this moment. A few loose pebbles continue to\n",
      "\n",
      "          tumble down. There is no sign of the BEAR OWL.\n",
      "\n",
      "          The others stand up, and they take in this new place.\n",
      "\n",
      "          Grug takes a deep breath and then quickly counts:\n",
      "GRUG_           I don't know, I'm not sure. Down. In a\n",
      "\n",
      "           lower place. One thing's for sure, we\n",
      "\n",
      "           can't go back the way we came.\n",
      "\n",
      "          28.\n",
      "\n",
      "          The Croods SIT UP. They are disoriented.\n",
      "\n",
      "                         ON SANDY\n",
      "CROODS_                          GASPS \n",
      "THUNK_           Hey look! This cave has a tongue.\n",
      "\n",
      "           Awesome!\n",
      "\n",
      "                          CUT TO:\n",
      "\n",
      "          SEQ. 1250 - GUY TO THE RESCUE\n",
      "\n",
      "          The Land Whale stands up and then SPITS the Croods out\n",
      "\n",
      "          through its blow hole. The Croods land in a heap.\n",
      "UGGA_           Ooh, more fire babies.\n",
      "\n",
      "          While Gran tries desperately to save her cane, Ugga\n",
      "\n",
      "          starts throwing sticks on the small fires, which begin to\n",
      "\n",
      "          grow in size.\n",
      "\n",
      "                          CUT TO:\n",
      "\n",
      "          EEP AND GUY.\n",
      "EEP_           Yeah. But I won't let him.\n",
      "\n",
      "                          CUT TO:\n",
      "\n",
      "          Eep and Guy witness the FIERY MAYHEM:\n",
      "GRUG_           Don't eat it, it's new.\n",
      "\n",
      "                          DISSOLVE TO:\n",
      "\n",
      "          SEQ. 1425 - THE GOAL IS SET\n",
      "\n",
      "          The Croods burst out of a mountain of popcorn.\n",
      "GRUG_           Do you want me to turn this family\n",
      "\n",
      "           around? Do you?! Because I will turn\n",
      "\n",
      "           this family around so fast!\n",
      "\n",
      "          The camera slowly pulls out from the family in chaos as\n",
      "\n",
      "          they walk across the burned out landscape.\n",
      "\n",
      "                         X-DISS TO:\n",
      "\n",
      "          The Croods are traveling across the dry land. The camera\n",
      "\n",
      "          has pulled out from the family as they travel. Family\n",
      "\n",
      "          chaos continues.\n",
      "THUNK_           I don't think so.\n",
      "\n",
      "                         THUNK MOANS\n",
      "UGGA_           Maybe we should have stopped for water.\n",
      "\n",
      "                         X-DISS TO:\n",
      "\n",
      "          A Liyote turns to watch the Croods as they travel.\n",
      "GRUG_           I can do this all day long. No, no, no,\n",
      "\n",
      "           and still no.\n",
      "\n",
      "                         X-DISS TO:\n",
      "\n",
      "          44.\n",
      "\n",
      "          Oh yeah, more traveling. Now we are in the Turkeyfish\n",
      "\n",
      "          hunting grounds. The camera is so far away the Croods\n",
      "\n",
      "          are only a speck in the frame.\n",
      "\n",
      "          SMASH CUT TO:\n",
      "\n",
      "          Grug, exhausted, in the foreground with family chaos over\n",
      "\n",
      "          his shoulder.\n",
      "GRUG_           Not that. That.\n",
      "\n",
      "                          CUT TO:\n",
      "\n",
      "          SEQ. 1075 - FOOD FIXES EVERYTHING\n",
      "\n",
      "          A WHOOPING sound comes from the grasses ahead. A giant\n",
      "\n",
      "          TURKEY FISH raises its toothy head.\n",
      "THUNK_           My feet hurt.\n",
      "\n",
      "                         ON GUY\n",
      "\n",
      "          Leaning against a rock next to Gran, Sandy, Eep and Ugga.\n",
      "\n",
      "          Guy notices Eep is agitated. She STARES in the direction\n",
      "\n",
      "          the men went.\n",
      "EEP_           Dad, no!\n",
      "\n",
      "          She LEAPS the snare, PUSHING Grug DOWN.\n",
      "\n",
      "          The Turkey Fish HITS the trigger. The snare TRIPS. The\n",
      "\n",
      "          bird BITES at the cavemen, but comes up short. The\n",
      "\n",
      "          Turkey Fish WHOOSHES BACKWARDS into the air. He FLIES a\n",
      "\n",
      "          couple hundred feet up...\n",
      "\n",
      "          ... and CRASHES down in a cloud of feathers.\n",
      "\n",
      "                          DISSOLVE TO:\n",
      "\n",
      "          SEQ. 900 - BBQ/CAPTIVATING CAPTIVE\n",
      "\n",
      "          EXT. BARBECUE\n",
      "\n",
      "          ON THE TURKEY ROASTING over an open fire. It looks golden\n",
      "\n",
      "          and juicy. Grug is agitated. The Croods are devouring\n",
      "\n",
      "          the Turkey Fish.\n",
      "CROODS_                          GASP \n",
      "GRUG_           A cave.\n",
      "\n",
      "          Grug stuffs Guy neatly back inside the log. Grug CURLS\n",
      "\n",
      "          UP by the fire with the LOG TUCKED UNDER HIS ARM far away\n",
      "\n",
      "          from Eep.\n",
      "\n",
      "                          DISSOLVE TO:\n",
      "\n",
      "          ON GRUG'S FACE.\n",
      "GUY_           AAAAAAAAAAAAAAAAAAAAUGHHHHH.\n",
      "\n",
      "           SMASH CUT TO:\n",
      "\n",
      "          SEQ. 1600 - CROODS GET SHOES\n",
      "\n",
      "          EXT. CORAL FIELDS - MORNING\n",
      "\n",
      "          The Croods trudge behind Grug as he cautiously makes his\n",
      "\n",
      "          way to the mountain. Grug SNIFFS, and TESTS the ground -\n",
      "\n",
      "          he moves like a man in a mine field. Meaning SLOWLY.\n",
      "\n",
      "                         THE LOG\n",
      "\n",
      "          Eep walks alongside Guy, who is still being carried by\n",
      "\n",
      "          Grug in the log.\n",
      "GRUG_           Now, let's get to that mountain.\n",
      "\n",
      "          Ugga and Eep notice each other's shoes.\n",
      "\n",
      "                          UGGA/EEP\n",
      "\n",
      "           Oh wow. I love those!\n",
      "THUNK_           Good fish. Don't eat my feet.\n",
      "\n",
      "                          CUT TO:\n",
      "\n",
      "          SEQ. 1710 - GOING GUY'S WAY\n",
      "\n",
      "          59.\n",
      "\n",
      "          The Croods run, slowly at first, then faster. And\n",
      "\n",
      "          faster. The shoes make the difference.\n",
      "\n",
      "          ON THE CROODS\n",
      "\n",
      "          Grug encounters a bunch of Punch Monkeys again. He\n",
      "\n",
      "          readies himself for a fight.\n",
      "\n",
      "          Guy hands out bananas.\n",
      "\n",
      "          Grug throws his banana to the ground only to slip on it.\n",
      "\n",
      "          ON THE CROODS\n",
      "\n",
      "          Grug sees the Macawnivore down below in the crevasse\n",
      "\n",
      "          waiting for his Croods dinner.\n",
      "\n",
      "          Grug sees Guy making something out of sticks.\n",
      "\n",
      "          Traveling by stilts over a crevasse.\n",
      "\n",
      "          The family hobbles across a canyon on their stilts. Guy\n",
      "\n",
      "          helps Eep from falling.\n",
      "THUNK_           Hi dad! Bye dad!\n",
      "\n",
      "                          CUT TO:\n",
      "\n",
      "          BOOM! A FLASH POPS against the Croods. SWING THE CAMERA\n",
      "\n",
      "          AROUND to reveal A HUGE STORM hanging like a purple\n",
      "\n",
      "          curtain before them. The Croods stop dead.\n",
      "\n",
      "          The rain line BEARS DOWN on them.\n",
      "\n",
      "          Grug tries to PUNCH the drops.\n",
      "\n",
      "          ON EEP AND GUY\n",
      "GRUG_           Augh! No no no! Not cool. Not cool.\n",
      "\n",
      "           Not cool.\n",
      "\n",
      "          Grug DIVES IN to put a stop to any potential shenanigans.\n",
      "\n",
      "          Grug's huge tidal wave SWAMPS Guy and Eep. Grug SINKS to\n",
      "\n",
      "          the bottom.\n",
      "\n",
      "          ON GRUG laying on the bottom. His family SWIMS above him\n",
      "\n",
      "          on the tails of Fishcats, confident and free and buoyant.\n",
      "\n",
      "          A lone bubble escapes Grug's nose, like oil oozing from a\n",
      "\n",
      "          sunken wreck. He's feeling mighty extraneous.\n",
      "\n",
      "          Grug sees the Macawnivore swimming towards him. Grug\n",
      "\n",
      "          swims for his life. Ends in a big splash.\n",
      "\n",
      "                          DISSOLVE TO:\n",
      "\n",
      "          SEQ. 1725 - MAZE\n",
      "\n",
      "          PAN UP TO THE ENTRANCES TO THE MAZE\n",
      "\n",
      "          62.\n",
      "GRAN_           Hah, I don't get it.\n",
      "\n",
      "                          CUT TO:\n",
      "\n",
      "          EXT. TUFA MAZE - AFTERNOON\n",
      "\n",
      "          The Croods stand motionless before an open plain, deeply\n",
      "\n",
      "          sculpted with meandering grooves which form a massive\n",
      "\n",
      "          MAZE.\n",
      "\n",
      "          Guy is handing out SHELLS to the Croods.\n",
      "GRUG_\n",
      "\n",
      "           Yeah. Okay.\n",
      "\n",
      "                         ON THUNK\n",
      "\n",
      "          Looking very frightened.\n",
      "UGGA_           I'll go get him.\n",
      "\n",
      "          ON GRUG still stuck in the maze. He holds his head in\n",
      "\n",
      "          defeat, and TOSSES the shell down.\n",
      "\n",
      "          TRUCK-IN on Grug.\n",
      "\n",
      "                          CUT TO:\n",
      "\n",
      "          SEQ. 1175 - UNDER THE STARS\n",
      "\n",
      "          PAN UP a giant redwood tree. The Croods are gathered in\n",
      "\n",
      "          a cozy crook of the tree.\n",
      "\n",
      "          Belt mixes drinks while Gran relaxes in a hammock. Thunk\n",
      "\n",
      "          is playing with his new pet.\n",
      "GRUG_           Sleep pile? How about a story, huh?\n",
      "\n",
      "           Anyone?\n",
      "\n",
      "          Grug listens intently. All he hears is laughter.\n",
      "\n",
      "                         TREE TOP\n",
      "\n",
      "          Thunk, Sandy Belt and Gran are sitting around a torch,\n",
      "\n",
      "          listening to one of Gran's stories.\n",
      "GRAN_           Face it! If he actually had an idea of\n",
      "\n",
      "           his own I'd, I'd have a heart attack and\n",
      "\n",
      "           die!\n",
      "\n",
      "                         ON GRUG\n",
      "\n",
      "          Grug smiles to himself.\n",
      "\n",
      "                          CUT TO:\n",
      "\n",
      "          SEQ. 1550 - GRUG TRIES TO CHANGE\n",
      "\n",
      "          EXT. TREE - SUNRISE\n",
      "\n",
      "                         ON UGGA\n",
      "THUNK_           I wish I had a ride.\n",
      "\n",
      "                         ON THUNK\n",
      "\n",
      "          His face SLATHERED with reddish mud.\n",
      "GUY_           Grug. We have to keep moving.\n",
      "\n",
      "                         ON GRUG\n",
      "GRUG_           Like this. I call it a \"mobile home.\"\n",
      "\n",
      "           Isn't that something?\n",
      "\n",
      "          A huge BEAST BUNNY JUMPS into the opening of the rock.\n",
      "\n",
      "          Grug is smashed flat.\n",
      "\n",
      "                         ON GRUG\n",
      "\n",
      "          Standing on one side of a primitive Teeter-Totter.\n",
      "GRAN_           Hah, no I don't.\n",
      "\n",
      "                          DISSOLVE TO:\n",
      "\n",
      "          SEQ. 1950 - TRUTH REVEALED\n",
      "\n",
      "          Guy is rowing a SHELL BOAT with everyone inside.\n",
      "UGGA_           What are you trying to do Grug?\n",
      "\n",
      "                         ON GRUG\n",
      "\n",
      "          Burned and battered, laying in the bottom of a turtle\n",
      "\n",
      "          shell boat.\n",
      "\n",
      "          Ugga is attending to his injuries.\n",
      "GRUG_           AAAAAAAAAAUGHHHHHHHHHHHHH!!!!\n",
      "\n",
      "          Grug ATTACKS Guy - they fall down an embankment.\n",
      "\n",
      "                          CUT TO:\n",
      "\n",
      "          SEQ. 2100 - TAR PIT\n",
      "\n",
      "          Grug CHASES Guy across a TREMBLING landscape.\n",
      "GUY_           Ow!\n",
      "\n",
      "\n",
      "\n",
      "           I've got it!\n",
      "\n",
      "                          CUT TO:\n",
      "\n",
      "          SEQ. 2250 - GRUG & GUY ESCAPE\n",
      "\n",
      "          We are tracking with the MACAWNIVORE. Suddenly, the big\n",
      "\n",
      "          cat stops. His eyebrows raise.\n",
      "\n",
      "          MACAWNIVORE'S POV - a FEMALE MACAWNIVORE PUPPET.\n",
      "BELT_                          TA-DAAAAA\n",
      "GRUG_           Take us to Tomorrow.\n",
      "\n",
      "                          CUT TO:\n",
      "\n",
      "          SEQ. 2925 - TO TOMORROW\n",
      "\n",
      "          EXT. EDGE OF THE WORLD - EARLY EVENING.\n",
      "\n",
      "          ON THE CROODS\n",
      "\n",
      "          RUSHING up the gun-sight into the bright rays of the sun.\n",
      "GRUG_           No more dark. No more hiding. No more\n",
      "\n",
      "           caves.\n",
      "\n",
      "                         BEAT\n",
      "GRUG_           What's the point of all this?\n",
      "\n",
      "                         BEAT\n",
      "GUY_           There. I see him!\n",
      "\n",
      "          The family waves to Grug to let him know they are okay.\n",
      "\n",
      "                          CUT TO:\n",
      "\n",
      "          SEQ. 2750 - FAMILY PORTRAIT\n",
      "\n",
      "          EXT. CLIFFSIDE\n",
      "\n",
      "          Grug is startled by another earthquake. The ground is\n",
      "\n",
      "          ripping itself apart as meteors begin to fall around him.\n",
      "\n",
      "          Grug dodges falling debris and lighting and manages to\n",
      "\n",
      "          crawl into a nearby cave-- a familiar place for him.\n",
      "\n",
      "          85.\n",
      "\n",
      "          INT. CAVE\n",
      "\n",
      "          Grug grabs two pieces of flint and starts clicking them\n",
      "\n",
      "          together, just as Guy did earlier. They ignite. Grug\n",
      "\n",
      "          has created his very first fire.\n",
      "MACAWNIVORE_           Erm?\n",
      "\n",
      "                          CUT TO:\n",
      "\n",
      "          SEQ. 2975 - GRUG CROSSES THE DIVIDE\n",
      "\n",
      "          EXT. FIELD\n",
      "\n",
      "          Grug uses a log to wipe tar all over a giant rib cage.\n",
      "\n",
      "          Grug runs out of the cave and into a nearby field and\n",
      "\n",
      "          startles a pack of nesting PIRANHA OWLS. He turns back\n",
      "\n",
      "          to the Macawnivore.\n",
      "\n",
      "          The meat-eating birds begin to chase Grug.\n",
      "GRUG_           Hold on.\n",
      "\n",
      "          The pyroclastic cloud BLASTS up the narrow passage.\n",
      "\n",
      "          Finally, with Grug's strength, the cage CLEARS the edge\n",
      "\n",
      "          of the cliff.\n",
      "\n",
      "          The CLOUD HITS them all, SWALLOWING the Cage like a\n",
      "\n",
      "          speck.\n",
      "\n",
      "                          CUT TO:\n",
      "\n",
      "          SQ 3000 REUNITED - 05.16.2012\n",
      "\n",
      "          EXT. \"TOMORROW\"\n",
      "\n",
      "                         ON EEP\n",
      "\n",
      "          Standing at the edge of the cliff alone, BLOWING her\n",
      "\n",
      "          shell horn. Behind her, Sandy HOWLS. Gran puts a\n",
      "\n",
      "          comforting arm around her grandchildren, even she has a\n",
      "\n",
      "          tear in her eye.\n",
      "\n",
      "          The ground begins to shake softly.\n",
      "UGGA_           Eep, if your Dad were here, he would tell\n",
      "\n",
      "                          YOU TO--\n",
      "GRUG_           We should go there.\n",
      "\n",
      "                          DISSOLVE TO:\n",
      "\n",
      "          SEQ. 3500 - EPILOGUE\n",
      "\n",
      "          RUSHING TOWARD A SHORELINE covered in dense palms, gentle\n",
      "\n",
      "          waves lapping at the sand.\n",
      "\n",
      "          On Eep, fixing her hair. We PULL OUT to see the whole\n",
      "\n",
      "          family preparing for a family photo.\n",
      "EEP_           Where we can follow the light.\n",
      "\n",
      "          FLARE TO WHITE\n",
      "\n",
      "                         BEAT\n",
      "\n",
      "          Belt and Sandy poke their heads up at the base of the\n",
      "\n",
      "          screen.\n",
      "\n",
      "                          BELT/SANDY\n",
      "\n",
      "           Da da daaaaaaaaaaa.\n",
      "\n",
      "\n"
     ]
    }
   ],
   "source": [
    "#now, the end of a line should be \\n\\n {10}\n",
    "#and, we still need to deal with 25 white spaces\n",
    "for line in crood_lines:\n",
    "    if r\"                         \" in line:\n",
    "        print(line)"
   ]
  },
  {
   "cell_type": "code",
   "execution_count": 320,
   "metadata": {},
   "outputs": [],
   "source": [
    "def remove_not_lines(script_lines):\n",
    "    new_script_lines = []\n",
    "    for line in script_lines:\n",
    "        new_line = re.sub(r\" {25}([A-Z]{3,} )+\", r\"_NOTLINE_\", line)\n",
    "        if \"_NOTLINE_\" in new_line:\n",
    "            new_line = new_line.split(\"_NOTLINE_\")\n",
    "            new_line = new_line[0]\n",
    "            new_script_lines.append(new_line)\n",
    "        else:\n",
    "            new_script_lines.append(new_line)\n",
    "    new_new_script_lines = []\n",
    "    for line in new_script_lines:\n",
    "        new_line = re.sub(\"\\n\\n {10}[\\S]\", '_HEADER_', line)\n",
    "        real_line = new_line.split('_HEADER_')[0]\n",
    "        real_line = re.sub(\"\\n\\n\", ' ', real_line)\n",
    "        final_line = re.sub(\" {3,}\", ' ', real_line)\n",
    "        new_new_script_lines.append(final_line)\n",
    "    final_lines = new_new_script_lines[1:]\n",
    "    return final_lines\n"
   ]
  },
  {
   "cell_type": "code",
   "execution_count": 321,
   "metadata": {},
   "outputs": [],
   "source": [
    "final_crood_lines = remove_not_lines(crood_lines)"
   ]
  },
  {
   "cell_type": "code",
   "execution_count": 322,
   "metadata": {},
   "outputs": [
    {
     "data": {
      "text/plain": [
       "772"
      ]
     },
     "execution_count": 322,
     "metadata": {},
     "output_type": "execute_result"
    }
   ],
   "source": [
    "len(final_crood_lines)"
   ]
  },
  {
   "cell_type": "code",
   "execution_count": 333,
   "metadata": {},
   "outputs": [],
   "source": [
    "#create the dataframe!\n",
    "def create_DF(final_lines):\n",
    "    lines_list = []\n",
    "    for line in final_lines:\n",
    "        speaker_text_tu = tuple(re.split('_ ', line))\n",
    "        lines_list.append(speaker_text_tu)\n",
    "    script_DF = pd.DataFrame(lines_list, columns=[\"Speaker\", \"Text\"])\n",
    "    return script_DF"
   ]
  },
  {
   "cell_type": "code",
   "execution_count": 334,
   "metadata": {},
   "outputs": [],
   "source": [
    "test_croods_DF = create_DF(final_crood_lines)"
   ]
  },
  {
   "cell_type": "code",
   "execution_count": 335,
   "metadata": {},
   "outputs": [
    {
     "data": {
      "text/html": [
       "<div>\n",
       "<style scoped>\n",
       "    .dataframe tbody tr th:only-of-type {\n",
       "        vertical-align: middle;\n",
       "    }\n",
       "\n",
       "    .dataframe tbody tr th {\n",
       "        vertical-align: top;\n",
       "    }\n",
       "\n",
       "    .dataframe thead th {\n",
       "        text-align: right;\n",
       "    }\n",
       "</style>\n",
       "<table border=\"1\" class=\"dataframe\">\n",
       "  <thead>\n",
       "    <tr style=\"text-align: right;\">\n",
       "      <th></th>\n",
       "      <th>Speaker</th>\n",
       "      <th>Text</th>\n",
       "    </tr>\n",
       "  </thead>\n",
       "  <tbody>\n",
       "    <tr>\n",
       "      <th>0</th>\n",
       "      <td>EEP</td>\n",
       "      <td>With every sun comes a new day. A new beginnin...</td>\n",
       "    </tr>\n",
       "    <tr>\n",
       "      <th>1</th>\n",
       "      <td>EEP</td>\n",
       "      <td>But not for me. My name's Eep. This, is my fam...</td>\n",
       "    </tr>\n",
       "    <tr>\n",
       "      <th>2</th>\n",
       "      <td>EEP</td>\n",
       "      <td>We were the last ones around. There used to be...</td>\n",
       "    </tr>\n",
       "    <tr>\n",
       "      <th>3</th>\n",
       "      <td>EEP</td>\n",
       "      <td>Because of my Dad. He was strong... and he fol...</td>\n",
       "    </tr>\n",
       "    <tr>\n",
       "      <th>4</th>\n",
       "      <td>EEP</td>\n",
       "      <td>... the ones painted on the cave walls. Anythi...</td>\n",
       "    </tr>\n",
       "  </tbody>\n",
       "</table>\n",
       "</div>"
      ],
      "text/plain": [
       "  Speaker                                               Text\n",
       "0     EEP  With every sun comes a new day. A new beginnin...\n",
       "1     EEP  But not for me. My name's Eep. This, is my fam...\n",
       "2     EEP  We were the last ones around. There used to be...\n",
       "3     EEP  Because of my Dad. He was strong... and he fol...\n",
       "4     EEP  ... the ones painted on the cave walls. Anythi..."
      ]
     },
     "execution_count": 335,
     "metadata": {},
     "output_type": "execute_result"
    }
   ],
   "source": [
    "test_croods_DF.head()"
   ]
  },
  {
   "cell_type": "code",
   "execution_count": 336,
   "metadata": {},
   "outputs": [
    {
     "data": {
      "text/html": [
       "<div>\n",
       "<style scoped>\n",
       "    .dataframe tbody tr th:only-of-type {\n",
       "        vertical-align: middle;\n",
       "    }\n",
       "\n",
       "    .dataframe tbody tr th {\n",
       "        vertical-align: top;\n",
       "    }\n",
       "\n",
       "    .dataframe thead th {\n",
       "        text-align: right;\n",
       "    }\n",
       "</style>\n",
       "<table border=\"1\" class=\"dataframe\">\n",
       "  <thead>\n",
       "    <tr style=\"text-align: right;\">\n",
       "      <th></th>\n",
       "      <th>Speaker</th>\n",
       "      <th>Text</th>\n",
       "    </tr>\n",
       "  </thead>\n",
       "  <tbody>\n",
       "    <tr>\n",
       "      <th>767</th>\n",
       "      <td>EEP</td>\n",
       "      <td>And because of my dad, who taught us that anyo...</td>\n",
       "    </tr>\n",
       "    <tr>\n",
       "      <th>768</th>\n",
       "      <td>GRUG</td>\n",
       "      <td>Release the baby!</td>\n",
       "    </tr>\n",
       "    <tr>\n",
       "      <th>769</th>\n",
       "      <td>EEP</td>\n",
       "      <td>Well, sort of.</td>\n",
       "    </tr>\n",
       "    <tr>\n",
       "      <th>770</th>\n",
       "      <td>EEP</td>\n",
       "      <td>So from now on we'll stay out here.</td>\n",
       "    </tr>\n",
       "    <tr>\n",
       "      <th>771</th>\n",
       "      <td>EEP</td>\n",
       "      <td>Where we can follow the light.</td>\n",
       "    </tr>\n",
       "  </tbody>\n",
       "</table>\n",
       "</div>"
      ],
      "text/plain": [
       "    Speaker                                               Text\n",
       "767     EEP  And because of my dad, who taught us that anyo...\n",
       "768    GRUG                                  Release the baby!\n",
       "769     EEP                                     Well, sort of.\n",
       "770     EEP                So from now on we'll stay out here.\n",
       "771     EEP                     Where we can follow the light."
      ]
     },
     "execution_count": 336,
     "metadata": {},
     "output_type": "execute_result"
    }
   ],
   "source": [
    "test_croods_DF.tail()"
   ]
  },
  {
   "cell_type": "markdown",
   "metadata": {},
   "source": [
    "## PRAISE THE LORD JESUS I AM NOT RELIGIOUS BUT THE FACT THAT I MANAGED TO DO THIS PROVES THERE IS A GOD!!!!"
   ]
  },
  {
   "cell_type": "code",
   "execution_count": null,
   "metadata": {},
   "outputs": [],
   "source": []
  }
 ],
 "metadata": {
  "kernelspec": {
   "display_name": "Python 3",
   "language": "python",
   "name": "python3"
  },
  "language_info": {
   "codemirror_mode": {
    "name": "ipython",
    "version": 3
   },
   "file_extension": ".py",
   "mimetype": "text/x-python",
   "name": "python",
   "nbconvert_exporter": "python",
   "pygments_lexer": "ipython3",
   "version": "3.6.4"
  }
 },
 "nbformat": 4,
 "nbformat_minor": 2
}
