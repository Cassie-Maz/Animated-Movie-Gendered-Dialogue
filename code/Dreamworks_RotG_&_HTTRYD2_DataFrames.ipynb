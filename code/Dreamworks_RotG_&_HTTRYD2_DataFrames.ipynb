{
 "cells": [
  {
   "cell_type": "markdown",
   "metadata": {},
   "source": [
    "# Streamlining the Line Extraction Process for two scripts\n",
    "In this code I will...\n",
    "* further analyze the white space in How To Train Your Dragon 2 and Rise of the Guardians\n",
    "* I will see if the white space patterns match in each script\n",
    "* I will write a general code that can be applied to both scripts to extract character dialogue line by line\n"
   ]
  },
  {
   "cell_type": "markdown",
   "metadata": {},
   "source": [
    "## 1) Importing Scripts"
   ]
  },
  {
   "cell_type": "code",
   "execution_count": 1,
   "metadata": {},
   "outputs": [],
   "source": [
    "#importing each script\n",
    "httyd2 = open(r'C:\\Users\\cassi\\Desktop\\Data_Science\\Animated-Movie-Gendered-Dialogue\\private\\imsdb_raw_nov_2015\\Animation\\howtotrainyourdragon2.txt')\n",
    "httyd2_script = httyd2.read()\n",
    "httyd2.close()\n",
    "\n",
    "rotg = open(r'C:\\Users\\cassi\\Desktop\\Data_Science\\Animated-Movie-Gendered-Dialogue\\private\\imsdb_raw_nov_2015\\Animation\\riseoftheguardians.txt')\n",
    "rotg_script = rotg.read()\n",
    "rotg.close()\n",
    "\n",
    "croods = open(r'C:\\Users\\cassi\\Desktop\\Data_Science\\Animated-Movie-Gendered-Dialogue\\private\\imsdb_raw_nov_2015\\Animation\\croodsthe.txt')\n",
    "croods_script = croods.read()\n",
    "croods.close()"
   ]
  },
  {
   "cell_type": "code",
   "execution_count": 4,
   "metadata": {},
   "outputs": [
    {
     "name": "stdout",
     "output_type": "stream",
     "text": [
      "Pretty printing has been turned OFF\n"
     ]
    }
   ],
   "source": [
    "%pprint"
   ]
  },
  {
   "cell_type": "code",
   "execution_count": 12,
   "metadata": {},
   "outputs": [
    {
     "data": {
      "text/plain": [
       "'                     HOW TO TRAIN YOUR DRAGON 2\\n\\n                             Written by\\n\\n                            Dean DeBlois\\n\\n                      Inspired by the novels by\\n\\n                           Cressida Cowell\\n\\n                                                   Final Draft\\n\\n                                                 May 5th, 2014'"
      ]
     },
     "execution_count": 12,
     "metadata": {},
     "output_type": "execute_result"
    }
   ],
   "source": [
    "#Shaving off excess at beginning of each script\n",
    "httyd2_script[:351]"
   ]
  },
  {
   "cell_type": "code",
   "execution_count": 13,
   "metadata": {},
   "outputs": [],
   "source": [
    "httyd2_script = httyd2_script[351:]"
   ]
  },
  {
   "cell_type": "code",
   "execution_count": 25,
   "metadata": {},
   "outputs": [
    {
     "data": {
      "text/plain": [
       "'                              RISE OF THE GUARDIANS\\n\\n                                   Written by\\n\\n                              David Lindsay-Abaire\\n\\n                                               Screening script 9/6/12'"
      ]
     },
     "execution_count": 25,
     "metadata": {},
     "output_type": "execute_result"
    }
   ],
   "source": [
    "rotg_script[:222]"
   ]
  },
  {
   "cell_type": "code",
   "execution_count": 26,
   "metadata": {},
   "outputs": [],
   "source": [
    "rotg_script = rotg_script[222:]"
   ]
  },
  {
   "cell_type": "code",
   "execution_count": 36,
   "metadata": {},
   "outputs": [
    {
     "data": {
      "text/plain": [
       "'                           THE CROODS\\n\\n                           Written by\\n\\n                 Kirk DeMicco & Chris Sanders\\n\\n                                                       12.12.2012'"
      ]
     },
     "execution_count": 36,
     "metadata": {},
     "output_type": "execute_result"
    }
   ],
   "source": [
    "croods_script[:190]"
   ]
  },
  {
   "cell_type": "code",
   "execution_count": 37,
   "metadata": {},
   "outputs": [],
   "source": [
    "croods_script = croods_script[190:]"
   ]
  },
  {
   "cell_type": "code",
   "execution_count": 38,
   "metadata": {},
   "outputs": [
    {
     "name": "stdout",
     "output_type": "stream",
     "text": [
      "\n",
      "\n",
      "           EXT. OPEN SEA - DAY\n",
      "\n",
      "           Hiccup and Toothless BLUR PAST, leaving a wake that leads...                         \n",
      "\n",
      "           EXT. BERK - DAY\n",
      "\n",
      "           (Sequence 0200 - New Berk)\n",
      "\n",
      "           To the island village of Berk, festively adorned with flags\n",
      "\n",
      "           and banners. Major new additions alter its familiar skyline.\n",
      "\n",
      "           HICCUP (V.O.)\n",
      "\n",
      "           This... is Berk. The best kept\n",
      "\n",
      "           secret this side of, well,\n",
      "\n",
      "           anywhere. Granted, it may not look\n",
      "\n",
      " \n",
      "\n",
      "\n",
      "\n",
      "\n",
      "          SEQ. 125 - ALONE IN THE WORLD\n",
      "\n",
      "                         DARKNESS\n",
      "\n",
      "           JACK (V.O.)\n",
      "\n",
      "           Darkness. That's the first thing I\n",
      "\n",
      "           remember. It was dark, and it was\n",
      "\n",
      "           cold. And I was scared.\n",
      "\n",
      "          The silhouette of a body appears as it drifts into a ray of\n",
      "\n",
      "          light, refracted through water, which turns into...\n",
      "\n",
      "          A MOON - SEEN IN REFLECTION ON A SHEET OF ICE\n",
      "\n",
      "          The moonlight intensifies almost magically, and the ice above\n",
      "\n",
      "     \n",
      "\n",
      "\n",
      "\n",
      "\n",
      "          SEQ. 75 - PROLOGUE\n",
      "\n",
      "                         FADE IN:\n",
      "\n",
      "          A cave painting of the Dreamworks logo. Push past the\n",
      "\n",
      "          moon to the sun. Bright. Beautiful. The sun DISSOLVES\n",
      "\n",
      "                         TO:\n",
      "\n",
      "          Cave paintings of a family of cavemen -- we will come to\n",
      "\n",
      "          know them as The Croods.\n",
      "\n",
      "                          EEP (V.O.)\n",
      "\n",
      "           With every sun comes a new day. A new\n",
      "\n",
      "           beginning. A hope that things will be\n",
      "\n",
      "           better today than th\n"
     ]
    }
   ],
   "source": [
    "print(httyd2_script[:500])\n",
    "print('\\n')\n",
    "print(rotg_script[:500])\n",
    "print('\\n')\n",
    "print(croods_script[:500])"
   ]
  },
  {
   "cell_type": "code",
   "execution_count": 40,
   "metadata": {},
   "outputs": [],
   "source": [
    "import re"
   ]
  },
  {
   "cell_type": "markdown",
   "metadata": {},
   "source": [
    "# 2) Analyzing White Space\n",
    "Here, we'll see how consistent the space distribution is in each of these scripts\n"
   ]
  },
  {
   "cell_type": "code",
   "execution_count": 56,
   "metadata": {},
   "outputs": [],
   "source": [
    "# A general function for white space analysis\n",
    "def white_space_count(script_name):\n",
    "    white_space = re.findall(\" {3,}\", script_name)\n",
    "    len_w_s = [len(x) for x in white_space]\n",
    "    print(len_w_s[:100])\n",
    "    print(set(len_w_s))\n",
    "    for num in set(len_w_s):\n",
    "        print(num, \"white spaces appear\", len_w_s.count(num), \"times\")"
   ]
  },
  {
   "cell_type": "markdown",
   "metadata": {},
   "source": [
    "#### HTTYD2 White Space Clean Up"
   ]
  },
  {
   "cell_type": "code",
   "execution_count": 57,
   "metadata": {},
   "outputs": [
    {
     "name": "stdout",
     "output_type": "stream",
     "text": [
      "[11, 11, 25, 11, 11, 11, 11, 11, 11, 11, 11, 11, 11, 11, 10, 10, 10, 10, 11, 11, 11, 11, 11, 11, 10, 10, 10, 10, 11, 11, 10, 10, 10, 10, 10, 10, 10, 11, 26, 11, 11, 26, 11, 10, 10, 26, 11, 10, 10, 26, 11, 11, 26, 11, 11, 10, 10, 26, 11, 11, 10, 10, 10, 10, 10, 10, 10, 26, 11, 11, 11, 10, 10, 26, 11, 11, 11, 26, 11, 11, 10, 10, 10, 10, 26, 11, 11, 26, 11, 11, 26, 11, 11, 26, 11, 10, 11, 11, 11, 11]\n",
      "{26, 25, 10, 11}\n",
      "26 white spaces appear 760 times\n",
      "25 white spaces appear 9 times\n",
      "10 white spaces appear 1571 times\n",
      "11 white spaces appear 1440 times\n"
     ]
    }
   ],
   "source": [
    "#HTTYD2\n",
    "white_space_count(httyd2_script)"
   ]
  },
  {
   "cell_type": "code",
   "execution_count": 79,
   "metadata": {},
   "outputs": [
    {
     "data": {
      "text/plain": [
       "\"\\n\\n           EXT. OPEN SEA - DAY\\n\\n           Hiccup and Toothless BLUR PAST, leaving a wake that leads...                         \\n\\n           EXT. BERK - DAY\\n\\n           (Sequence 0200 - New Berk)\\n\\n           To the island village of Berk, festively adorned with flags\\n\\n           and banners. Major new additions alter its familiar skyline.\\n\\n           HICCUP (V.O.)\\n\\n           This... is Berk. The best kept\\n\\n           secret this side of, well,\\n\\n           anywhere. Granted, it may not look\\n\\n           like much, but this wet heap of\\n\\n           rock packs more than a few\\n\\n           surprises.\\n\\n          ON A CLUSTER OF SHEEP, hiding nervously between buildings as\\n\\n          shadows of passing dragons race by. The group moves as one,\\n\\n          receding into a shadowy alley, pushing one sheep out into the\\n\\n          light. It's suddenly snatched and carried into the air!\\n\\n           HICCUP (V.O.)\\n\\n           Life here is amazing, just not for\\n\\n           the faint of heart. See, where most\\n\\n           folks enjoy hobbies like whittling\\n\\n           or needlepoint, we Berkians prefer\\n\\n           a little something we like to call--\\n\\n          WHOOSH, WHOOSH, WHOOSH! A wash of VIBRANT COLORS blurs by.\\n\\n          DRAGONS BARREL PAST at a dizzying speed. Their RIDERS SWIPE,\\n\\n          KICK, and ROLL into one another while they WEAVE neck in neck\\n\\n          between the houses, docks, and revamped structures of Berk.\\n\\n           HICCUP (V.O.)\\n\\n           DRAGON RACING!\\n\\n          It's like an aerial version of the Monte Carlo race.\\n\\n          Spectators ROAR from wooden bleachers, fastened to cliff\\n\\n          faces and perched over the sea.\\n\\n          FISHLEGS, now 20 and even larger, rides his gronkle, MEATLUG,\\n\\n          who carries the sheep in her claws, until...\\n\\n          SNOTLOUT, also 20, but every bit as juvenile, and his\\n\\n          Monstrous Nightmare, HOOKFANG, steal the sheep from them.\\n\\n           HTTYD 2 (D. DeBlois) - FINAL DRAFT - 05/05/14 2.\\n\\n          \""
      ]
     },
     "execution_count": 79,
     "metadata": {},
     "output_type": "execute_result"
    }
   ],
   "source": [
    "httyd2_script[:2000]"
   ]
  },
  {
   "cell_type": "code",
   "execution_count": 58,
   "metadata": {},
   "outputs": [],
   "source": [
    "# 11 before the first scene header\n",
    "# 11 after a scene header and before scene description\n",
    "# 25 before a two new line chars\n",
    "# 11 before hiccup's character name\n",
    "# 11 between hiccup's lines\n",
    "# 10 after hiccup's lines end\n",
    "# 11 before next scene header\n",
    "# 10 between scene descriptions\n",
    "# 10 before hiccups next line\n",
    "# 10 between hiccup's lines"
   ]
  },
  {
   "cell_type": "markdown",
   "metadata": {},
   "source": [
    "HTTYD2 has these pesky random \"FINAL DRAFT\" Lines that aren't necessary. And they're preceded by the same number of white space characters as actual lines. So, it's best to get rid of them."
   ]
  },
  {
   "cell_type": "code",
   "execution_count": 85,
   "metadata": {},
   "outputs": [],
   "source": [
    "httyd2_titles = re.findall(r\"\\n\\n           HTTYD 2 \\(D. DeBlois\\) - FINAL DRAFT - 05/05/14 [0-9]+\\.\", httyd2_script)"
   ]
  },
  {
   "cell_type": "code",
   "execution_count": 86,
   "metadata": {},
   "outputs": [
    {
     "data": {
      "text/plain": [
       "97"
      ]
     },
     "execution_count": 86,
     "metadata": {},
     "output_type": "execute_result"
    }
   ],
   "source": [
    "len(httyd2_titles)"
   ]
  },
  {
   "cell_type": "code",
   "execution_count": 89,
   "metadata": {},
   "outputs": [
    {
     "data": {
      "text/plain": [
       "['\\n\\n           HTTYD 2 (D. DeBlois) - FINAL DRAFT - 05/05/14 2.', '\\n\\n           HTTYD 2 (D. DeBlois) - FINAL DRAFT - 05/05/14 3.', '\\n\\n           HTTYD 2 (D. DeBlois) - FINAL DRAFT - 05/05/14 4.', '\\n\\n           HTTYD 2 (D. DeBlois) - FINAL DRAFT - 05/05/14 5.', '\\n\\n           HTTYD 2 (D. DeBlois) - FINAL DRAFT - 05/05/14 6.', '\\n\\n           HTTYD 2 (D. DeBlois) - FINAL DRAFT - 05/05/14 7.', '\\n\\n           HTTYD 2 (D. DeBlois) - FINAL DRAFT - 05/05/14 8.', '\\n\\n           HTTYD 2 (D. DeBlois) - FINAL DRAFT - 05/05/14 9.', '\\n\\n           HTTYD 2 (D. DeBlois) - FINAL DRAFT - 05/05/14 10.', '\\n\\n           HTTYD 2 (D. DeBlois) - FINAL DRAFT - 05/05/14 11.']"
      ]
     },
     "execution_count": 89,
     "metadata": {},
     "output_type": "execute_result"
    }
   ],
   "source": [
    "httyd2_titles[:10]"
   ]
  },
  {
   "cell_type": "code",
   "execution_count": 99,
   "metadata": {},
   "outputs": [],
   "source": [
    "httyd2_script = re.sub(r\"\\n\\n           HTTYD 2 \\(D. DeBlois\\) - FINAL DRAFT - 05/05/14 [0-9]+\\.\",'', httyd2_script)"
   ]
  },
  {
   "cell_type": "code",
   "execution_count": 100,
   "metadata": {},
   "outputs": [
    {
     "name": "stdout",
     "output_type": "stream",
     "text": [
      "[11, 11, 25, 11, 11, 11, 11, 11, 11, 11, 11, 11, 11, 11, 10, 10, 10, 10, 11, 11, 11, 11, 11, 11, 10, 10, 10, 10, 11, 11, 10, 10, 10, 10, 10, 10, 10, 26, 11, 11, 26, 11, 10, 10, 26, 11, 10, 10, 26, 11, 11, 26, 11, 11, 10, 10, 26, 11, 11, 10, 10, 10, 10, 10, 10, 10, 26, 11, 11, 11, 10, 10, 26, 11, 11, 26, 11, 11, 10, 10, 10, 10, 26, 11, 11, 26, 11, 11, 26, 11, 11, 26, 11, 10, 11, 11, 11, 11, 11, 10]\n",
      "{26, 25, 10, 11}\n",
      "26 white spaces appear 760 times\n",
      "25 white spaces appear 9 times\n",
      "10 white spaces appear 1571 times\n",
      "11 white spaces appear 1343 times\n"
     ]
    }
   ],
   "source": [
    "#reanalyze white space\n",
    "white_space_count(httyd2_script)"
   ]
  },
  {
   "cell_type": "code",
   "execution_count": 101,
   "metadata": {},
   "outputs": [
    {
     "data": {
      "text/plain": [
       "97"
      ]
     },
     "execution_count": 101,
     "metadata": {},
     "output_type": "execute_result"
    }
   ],
   "source": [
    "1440 - 1343 #Yay! matched the 97 not-lines"
   ]
  },
  {
   "cell_type": "markdown",
   "metadata": {},
   "source": [
    "#### RotG White Space Clean Up"
   ]
  },
  {
   "cell_type": "code",
   "execution_count": 59,
   "metadata": {},
   "outputs": [
    {
     "name": "stdout",
     "output_type": "stream",
     "text": [
      "[10, 25, 11, 11, 11, 11, 10, 10, 10, 10, 10, 10, 10, 10, 10, 10, 10, 11, 11, 11, 11, 11, 11, 10, 10, 11, 11, 11, 11, 11, 10, 10, 10, 10, 10, 10, 11, 10, 10, 10, 10, 10, 10, 10, 10, 10, 10, 10, 10, 10, 10, 10, 10, 26, 11, 11, 11, 26, 11, 10, 10, 26, 11, 11, 10, 10, 10, 26, 11, 10, 10, 11, 11, 11, 11, 11, 11, 10, 10, 26, 10, 10, 10, 10, 10, 10, 10, 10, 10, 10, 10, 10, 10, 10, 11, 11, 10, 10, 10, 10]\n",
      "{26, 25, 10, 11}\n",
      "26 white spaces appear 1075 times\n",
      "25 white spaces appear 39 times\n",
      "10 white spaces appear 2125 times\n",
      "11 white spaces appear 1873 times\n"
     ]
    }
   ],
   "source": [
    "#RotG\n",
    "white_space_count(rotg_script)"
   ]
  },
  {
   "cell_type": "code",
   "execution_count": 62,
   "metadata": {},
   "outputs": [
    {
     "data": {
      "text/plain": [
       "\"\\n\\n          SEQ. 125 - ALONE IN THE WORLD\\n\\n                         DARKNESS\\n\\n           JACK (V.O.)\\n\\n           Darkness. That's the first thing I\\n\\n           remember. It was dark, and it was\\n\\n           cold. And I was scared.\\n\\n          The silhouette of a body appears as it drifts into a ray of\\n\\n          light, refracted through water, which turns into...\\n\\n          A MOON - SEEN IN REFLECTION ON A SHEET OF ICE\\n\\n          The moonlight intensifies almost magically, and the ice above\\n\\n          begins to spider-web and crack.\\n\\n          EXT. FROZEN POND - NIGHT\\n\\n          Snow-covered trees in every direction. The ice in the pond\\n\\n          continues to crack, until finally a hole splinters open. A\\n\\n          young man floats out of the water, bathed in the intense\\n\\n          moonlight. This is JACK FROST - thin, pale, barefoot, his\\n\\n          tousled hair frosted white.\\n\\n           JACK (V.O.)\\n\\n           But then...then I saw the moon. It\\n\\n           was so big and it was so bri\""
      ]
     },
     "execution_count": 62,
     "metadata": {},
     "output_type": "execute_result"
    }
   ],
   "source": [
    "rotg_script[:1000]"
   ]
  },
  {
   "cell_type": "code",
   "execution_count": 72,
   "metadata": {},
   "outputs": [
    {
     "data": {
      "text/plain": [
       "\"\\n\\n          SEQ. 125 - ALONE IN THE WORLD\\n\\n                         DARKNESS\\n\\n           JACK (V.O.)\\n\\n           Darkness. That's the first thing I\\n\\n           remember. It was dark, and it was\\n\\n           cold. And I was scared.\\n\\n          The silhouette of a body appears as it drifts into a ray of\\n\\n          light, refracted through water, which turns into...\\n\\n          A MOON - SEEN IN REFLECTION ON A SHEET OF ICE\\n\\n          The moonlight intensifies almost magically, and the ice above\\n\\n          begins to spider-web and crack.\\n\\n          EXT. FROZEN POND - NIGHT\\n\\n          Snow-covered trees in every direction. The ice in the pond\\n\\n          continues to crack, until finally a hole splinters open. A\\n\\n          young man floats out of the water, bathed in the intense\\n\\n          moonlight. This is JACK FROST - thin, pale, barefoot, his\\n\\n          tousled hair frosted white.\\n\\n           JACK (V.O.)\\n\\n           But then...then I saw the moon. It\\n\\n           was so big and it was so bright,\\n\\n           and it seemed to chase the darkness\\n\\n           away. And when it did...I wasn't\\n\\n           scared anymore.\\n\\n          Jack floats back down onto the ice as the hole closes up\\n\\n          underneath him.\\n\\n           JACK (V.O.)\\n\\n           Why I was there, and what I was\\n\\n           meant to do - that I've never\\n\\n           known. And a part of me wonders if\\n\\n           I ever will.\\n\\n          Jack looks around, confused, then turns toward the moonlight\\n\\n          as it dims a bit.\\n\\n          Jack carefully treads across the ice until he hits something\\n\\n          with his feet. He looks down, and at his feet is a wooden\\n\\n          staff. Curious, he picks it up. Almost immediately the\\n\\n          staff begins to glow a cold blue in his hands. Odd.\\n\\n           Guardians Screening Script 9/6/12 Avid 2.\\n\\n          Jack almost drops it as the base of the staff comes in\\n\\n          contact with the ground. Frost shoots out and spreads across\\n\\n          the ice. Jack is visibly confused.\\n\\n          He touches a few trees with his staff sending frost up their\\n\\n          trunks. Then he swings the staff again, more confident, as\\n\\n          he begins to run across the frozen pond.\\n\\n          Another swing, and a gust of wind swirls him high up into the\\n\\n          air. Jack floats for a moment only to fall back down to\\n\\n          earth and into the trees. Jack grabs hold of a tree branch\\n\\n          and pulls himself up to see a small town off in the distance.\\n\\n          EXT. BURGESS SETTLEMENT - TOWN CENTER - CONTINUOUS\\n\\n          A collection of simple timber houses with thatched roofs.\\n\\n          Jack comes in for a landing, and it's a rocky one. He stands\\n\\n          up, still elated, and brushes himself off.\\n\\n          As Jack makes his way into town, settlers are warming their\\n\\n          hands by campfire. Jack doesn't recognize anyone.\\n\\n                          JACK\\n\\n           (to the townsfolk)\\n\\n           Hello. Hello. Good evening,\\n\\n           ma'am.\\n\\n                          (BEAT)\\n\\n           Ma'am?\\n\\n          The settlers walk past Jack, not noticing him. Jack crouches\\n\\n          down as a YOUNG BOY runs toward him.\\n\\n                          JACK\\n\\n           Oh, ah, excuse me, can you tell me\\n\\n           where I am?\\n\\n          The boy runs right through Jack, as if he were a ghost. Jack\\n\\n          staggers back in shock. He's speechless, as if the wind had\\n\\n          been knocked out him. His emotions causing it to snow.\\n\\n              \""
      ]
     },
     "execution_count": 72,
     "metadata": {},
     "output_type": "execute_result"
    }
   ],
   "source": [
    "rotg_script[:3500]"
   ]
  },
  {
   "cell_type": "code",
   "execution_count": 69,
   "metadata": {},
   "outputs": [],
   "source": [
    "# 10 before a sequence\n",
    "# 25 after sequence/before scene header\n",
    "# 11 after scene header/before char name\n",
    "# 11 after char name/before line\n",
    "# 11 between char lines\n",
    "#10 at the end of Jack's first lines/before scene description\n",
    "#10 between scene description lines/before Jack's next line\n",
    "# 11 after char name and after each line\n",
    "#26 before some lines.\n",
    "# 11 before a \n",
    "\n",
    "#10 at the end of a line of dialogue\n",
    "#11 or 26 before a speakername\n",
    "#11 before this strange chunk: \"\\n\\n           Guardians Screening Script 9/6/12 Avid 2.\"\n"
   ]
  },
  {
   "cell_type": "code",
   "execution_count": 70,
   "metadata": {},
   "outputs": [
    {
     "data": {
      "text/plain": [
       "34"
      ]
     },
     "execution_count": 70,
     "metadata": {},
     "output_type": "execute_result"
    }
   ],
   "source": [
    "line = \"\\n\\n                          JACK\\n\\n\"\n",
    "len(line)"
   ]
  },
  {
   "cell_type": "code",
   "execution_count": 71,
   "metadata": {},
   "outputs": [
    {
     "data": {
      "text/plain": [
       "26"
      ]
     },
     "execution_count": 71,
     "metadata": {},
     "output_type": "execute_result"
    }
   ],
   "source": [
    "len(line[2:-6])"
   ]
  },
  {
   "cell_type": "code",
   "execution_count": 88,
   "metadata": {},
   "outputs": [
    {
     "name": "stdout",
     "output_type": "stream",
     "text": [
      "134\n",
      "['\\n\\n           Guardians Screening Script 9/6/12 Avid 2.', '\\n\\n           Guardians Screening Script 9/6/12 Avid 3.', '\\n\\n           Guardians Screening Script 9/6/12 Avid 4.', '\\n\\n           Guardians Screening Script 9/6/12 Avid 5.', '\\n\\n           Guardians Screening Script 9/6/12 Avid 6.', '\\n\\n           Guardians Screening Script 9/6/12 Avid 7.', '\\n\\n           Guardians Screening Script 9/6/12 Avid 8.', '\\n\\n           Guardians Screening Script 9/6/12 Avid 9.', '\\n\\n           Guardians Screening Script 9/6/12 Avid 10.', '\\n\\n           Guardians Screening Script 9/6/12 Avid 11.']\n"
     ]
    }
   ],
   "source": [
    "titles = re.findall(r\"\\n\\n           Guardians Screening Script 9/6/12 Avid [0-9]+\\.\", rotg_script)\n",
    "print(len(titles))\n",
    "print(titles[:10])"
   ]
  },
  {
   "cell_type": "code",
   "execution_count": 75,
   "metadata": {},
   "outputs": [],
   "source": [
    "#remove the weird chunk\n",
    "rotg_script_2 = re.sub(r\"\\n\\n           Guardians Screening Script 9/6/12 Avid [0-9]+\\.\", '', rotg_script)"
   ]
  },
  {
   "cell_type": "code",
   "execution_count": 77,
   "metadata": {},
   "outputs": [
    {
     "name": "stdout",
     "output_type": "stream",
     "text": [
      "[10, 25, 11, 11, 11, 11, 10, 10, 10, 10, 10, 10, 10, 10, 10, 10, 10, 11, 11, 11, 11, 11, 11, 10, 10, 11, 11, 11, 11, 11, 10, 10, 10, 10, 10, 10, 10, 10, 10, 10, 10, 10, 10, 10, 10, 10, 10, 10, 10, 10, 10, 10, 26, 11, 11, 11, 26, 11, 10, 10, 26, 11, 11, 10, 10, 10, 26, 11, 10, 10, 11, 11, 11, 11, 11, 10, 10, 26, 10, 10, 10, 10, 10, 10, 10, 10, 10, 10, 10, 10, 10, 10, 11, 11, 10, 10, 10, 10, 10, 10]\n",
      "{26, 25, 10, 11}\n",
      "26 white spaces appear 1075 times\n",
      "25 white spaces appear 39 times\n",
      "10 white spaces appear 2125 times\n",
      "11 white spaces appear 1739 times\n"
     ]
    }
   ],
   "source": [
    "#analyze white space again, see if 11 white spaces went down by 134\n",
    "white_space_count(rotg_script_2)"
   ]
  },
  {
   "cell_type": "code",
   "execution_count": 78,
   "metadata": {},
   "outputs": [
    {
     "data": {
      "text/plain": [
       "134"
      ]
     },
     "execution_count": 78,
     "metadata": {},
     "output_type": "execute_result"
    }
   ],
   "source": [
    "1873 - 1739 #Yay!"
   ]
  },
  {
   "cell_type": "markdown",
   "metadata": {},
   "source": [
    "#### Croods White Space Clean Up"
   ]
  },
  {
   "cell_type": "code",
   "execution_count": 94,
   "metadata": {},
   "outputs": [
    {
     "name": "stdout",
     "output_type": "stream",
     "text": [
      "[10, 25, 10, 10, 25, 10, 10, 26, 11, 11, 11, 10, 10, 10, 10, 26, 11, 11, 11, 11, 11, 11, 11, 11, 11, 11, 10, 10, 26, 11, 11, 11, 11, 11, 11, 10, 26, 11, 11, 10, 10, 10, 26, 11, 11, 11, 11, 11, 10, 10, 10, 10, 26, 11, 11, 10, 10, 10, 26, 11, 11, 11, 11, 10, 10, 26, 10, 10, 10, 10, 10, 26, 11, 11, 10, 10, 10, 10, 10, 10, 26, 11, 11, 10, 10, 10, 26, 11, 26, 11, 26, 11, 26, 11, 11, 10, 10, 26, 11, 11]\n",
      "{11, 25, 10, 26}\n",
      "11 white spaces appear 1156 times\n",
      "25 white spaces appear 23 times\n",
      "10 white spaces appear 1364 times\n",
      "26 white spaces appear 860 times\n"
     ]
    }
   ],
   "source": [
    "white_space_count(croods_script)"
   ]
  },
  {
   "cell_type": "code",
   "execution_count": 97,
   "metadata": {},
   "outputs": [
    {
     "data": {
      "text/plain": [
       "\"\\n\\n          SEQ. 75 - PROLOGUE\\n\\n                         FADE IN:\\n\\n          A cave painting of the Dreamworks logo. Push past the\\n\\n          moon to the sun. Bright. Beautiful. The sun DISSOLVES\\n\\n                         TO:\\n\\n          Cave paintings of a family of cavemen -- we will come to\\n\\n          know them as The Croods.\\n\\n                          EEP (V.O.)\\n\\n           With every sun comes a new day. A new\\n\\n           beginning. A hope that things will be\\n\\n           better today than they were yesterday.\\n\\n          The Croods scurry out of their cave like mice looking for\\n\\n          food. Scared. Fast.\\n\\n          The Croods are chased by beasts across the desert. They\\n\\n          escape from creatures up trees. They hide behind rocks.\\n\\n                          EEP (V.O.)\\n\\n           But not for me. My name's Eep. This, is\\n\\n           my family, the Croods. If you weren't\\n\\n           clued in already by the animal skins and\\n\\n           sloping foreheads - we're cavemen. Most\\n\\n           days we spend in our cave, in the dark.\\n\\n           Night after night, day after day. Yep.\\n\\n           Home sweet home. When we did go out, we\\n\\n           struggled to find food in a harsh and\\n\\n           hostile world. And I struggled to\\n\\n           survive my family.\\n\\n          The Croods are chased by beasts across the desert. They\\n\\n          escape from creatures up trees. They hide behind rocks.\\n\\n                          EEP (V.O.)\\n\\n           We were the last ones around. There used\\n\\n           to be neighbors. The Gorts, smashed by a\\n\\n           mammoth. The Horks, swallowed by a sand\\n\\n           snake. The Erfs, mosquito bite. Throgs,\\n\\n           common cold. And, the Croods. That's\\n\\n           us. The Croods made it...\\n\\n          Grug protects his family from a GIANT BEAR OWL.\\n\\n                          EEP (V.O.)\\n\\n           Because of my Dad. He was strong... and\\n\\n           he followed the rules.\\n\\n          A shadow falls across their feet and Grug ushers his\\n\\n          family home.\\n\\n          2.\\n\\n                          EEP (V.O.)\\n\\n           ... the ones painted on the cave walls.\\n\\n           Anything new is bad, curiosity is bad,\\n\\n           going out at night is bad. Basically,\\n\\n           anything fun is bad. Welcome to my\\n\\n           world.\\n\\n          They all run back into the cave where Grug slams the rock\\n\\n          door closed.\\n\\n          SLOWLY LIGHT ON CAVE PAINTINGS COMES UP AGAIN. But this\\n\\n          time the light casts an ominous tone.\""
      ]
     },
     "execution_count": 97,
     "metadata": {},
     "output_type": "execute_result"
    }
   ],
   "source": [
    "croods_script[:2500]"
   ]
  },
  {
   "cell_type": "code",
   "execution_count": 98,
   "metadata": {},
   "outputs": [],
   "source": [
    "# 10 before SEQ\n",
    "# 25 before FADE IN\n",
    "# 25 before TO\n",
    "# 26 before Eep's line\n",
    "# 11 between Eep's lines\n",
    "# 10 before scene descriptions"
   ]
  },
  {
   "cell_type": "markdown",
   "metadata": {},
   "source": [
    "It seems that, in general,\n",
    "* 11 or 26 spaces precede a speaker's name\n",
    "* 10 spaces or 25 spaces precede things that aren't actual lines\n"
   ]
  },
  {
   "cell_type": "markdown",
   "metadata": {},
   "source": [
    "## 3) Testing This spacing method"
   ]
  },
  {
   "cell_type": "code",
   "execution_count": 144,
   "metadata": {},
   "outputs": [],
   "source": [
    "#try to remove parentheticals\n",
    "httyd2_par = re.findall(r\" {1,}\\([^\\)]*\\)\", httyd2_script)"
   ]
  },
  {
   "cell_type": "code",
   "execution_count": 145,
   "metadata": {},
   "outputs": [
    {
     "data": {
      "text/plain": [
       "321"
      ]
     },
     "execution_count": 145,
     "metadata": {},
     "output_type": "execute_result"
    }
   ],
   "source": [
    "len(httyd2_par)"
   ]
  },
  {
   "cell_type": "code",
   "execution_count": 135,
   "metadata": {},
   "outputs": [
    {
     "data": {
      "text/plain": [
       "['           (Sequence 0200 - New Berk)', ' (V.O.)', ' (V.O.)', ' (V.O.)', \" (CONT'D)\", \" (CONT'D)\", ' (V.O.)', ' (V.O.)', ' (V.O.)', '           (aloud, to the crowd)', \" (CONT'D)\", \" (CONT'D)\", \" (CONT'D)\", '           (gloating, to the crowd)', ' (V.O.)', '          (Scene 0300 - AWOL Part One)', \" (CONT'D)\", \" (CONT'D)\", \" (CONT'D)\", \" (CONT'D)\", \" (CONT'D)\", \" (CONT'D)\", \" (CONT'D)\", \" (CONT'D)\", \" (CONT'D)\", \" (CONT'D)\", \" (CONT'D)\", \" (CONT'D)\", \" (CONT'D)\", \" (CONT'D)\", \" (CONT'D)\", \" (CONT'D)\", \" (CONT'D)\", \" (CONT'D)\", \" (CONT'D)\", '                          (BEAT)', '                          (BURDENED)', '          (Scene 0325 - AWOL Part Two)', \" (CONT'D)\", '                          (APING STOICK)', '                          (APING HICCUP)', \" (CONT'D)\", \"           (resuming Stoick's brogue)\", '           (continuing her impression\\n\\n                          OF HICCUP)', '           (holding her arms, mock-\\n\\n                          STERN)', \" (CONT'D)\", \"           (resuming Stoick's brogue)\", \" (CONT'D)\", \" (CONT'D)\", '                          (EXCITED)', \" (CONT'D)\", \" (CONT'D)\", '                          (BEAT)', '                          (EXASPERATED)', '          (Scene 0400 - Shot Down!)', \" (CONT'D)\", \" (CONT'D)\", ' (O.S.)', \" (CONT'D)\", \" (CONT'D)\", '           (to the trappers)', \" (CONT'D)\", '           (to his fellow trappers)', \" (CONT'D)\", '                          (EXASPERATED)', '                          (MORE)', \" (CONT'D)\", \" (CONT'D)\", '                          (BEAT)', '          (Sequence 0500 - Lock-Down!)', \" (CONT'D)\", '           (to Gobber, proving his\\n\\n                          POINT)', '           (privately, to Stoick)', \" (CONT'D)\", '           (pushing his way through)', \" (CONT'D)\", \" (CONT'D)\", \" (CONT'D)\", '           (sing-songy, under his\\n\\n                          BREATH)', \" (CONT'D)\", \" (CONT'D)\", '                          (BEAT)', \" (CONT'D)\", \" (CONT'D)\", \"          (Scene 0700 - Eret's Lesson)\", \" (CONT'D)\", \" (CONT'D)\", \" (CONT'D)\", \" (CONT'D)\", \" (CONT'D)\", \" (CONT'D)\", \" (CONT'D)\", \" (CONT'D)\", \" (CONT'D)\", \" (CONT'D)\", \" (CONT'D)\", \" (CONT'D)\", '          (Scene 1000 - Botched Rescue)', \" (CONT'D)\", \" (CONT'D)\", \" (CONT'D)\", ' (O.S.)', \" (CONT'D)\", '           (panting, suffocated)', \" (CONT'D)\", '                          (TO HICCUP)', \" (CONT'D)\", ' (V.O.)', ' (V.O.)', \" (CONT'D)\", ' (V.O.)', '                          (STINGING REGRET)', \" (CONT'D)\", '                          (TO HICCUP)', \" (CONT'D)\", '                          (TO TOOTHLESS)', '                          (PETULANT)', '          (Scene 1100 - Ambushed!)', \" (CONT'D)\", \" (CONT'D)\", '                          (ALARMED)', '                          (TO TOOTHLESS)', \" (CONT'D)\", \" (CONT'D)\", ' (MIDNIGHT SUN)', '          (Scene 1300 - Dragon Lady)', \" (CONT'D)\", \" (CONT'D)\", \" (CONT'D)\", \" (CONT'D)\", '           (whispered, shaken)', '                          (BEAT)', \" (CONT'D)\", ' (MIDNIGHT SUN)', '          (Sequence 1325 - Searching)', '          (Scene 1400 - A New Family)', '                          (BEAT)', \" (CONT'D)\", \" (CONT'D)\", \" (CONT'D)\", '           (feeble, trailing off)', \" (CONT'D)\", \" (CONT'D)\", \" (CONT'D)\", \"           (re: Toothless' tail)\", \" (CONT'D)\", '           (playfully, to Toothless)', \" (CONT'D)\", ' (V.O.)', ' (V.O.)', ' (Cloudjumper)', ' (V.O.)', ' (V.O.)', ' (V.O.)', ' (O.S.)', '                          (DISTANT)', \" (CONT'D)\", '                          (BEAT)', \" (CONT'D)\", \" (CONT'D)\", \" (CONT'D)\", \" (CONT'D)\", \" (CONT'D)\", '          (Scene 1200 - Astrid Takes Charge)', '                          (RESOLUTE)', '                          (NERVOUSLY)', ' (O.S.)', \" (CONT'D)\", \"          (Scene 1600 - Momma's Boy)\", '           (with a mischievous grin)', \" (CONT'D)\", \" (CONT'D)\", \" (CONT'D)\", '                          (REMORSEFUL)', \" (CONT'D)\", \" (CONT'D)\", \" (CONT'D)\", '                          (BEAT)', \" (CONT'D)\", \" (CONT'D)\", '          (Scene 1350 - Meet Drago)', '                          (STRAINED)', ' (O.S.)', \" (CONT'D)\", \" (CONT'D)\", \" (CONT'D)\", '           (quiet, to the dragon)', \" (CONT'D)\", \" (CONT'D)\", '                          (TO ERET)', '                          (SAVORING IT)', \" (CONT'D)\", '          (Scene 1800 - Family Reunion)', '                          (DETERMINED)', '                          (RATTLED)', \" (CONT'D)\", '                          (MORE)', \" (CONT'D)\", '                          (BEAT)', '                          (TEARFUL)', \" (CONT'D)\", \"          (Scene 1750 - Eret's Turn)\", \" (CONT'D)\", \" (CONT'D)\", \" (CONT'D)\", '                          (BEAT)', '          (Scene 1850 - The Last Dance)', '                          (SWEETLY)', '           (to Hiccup and Grump)', '                          (MORE)', \" (CONT'D)\", '                          (WHISPERED)', \" (CONT'D)\", '                          (SINGING SOFTLY)', \" (CONT'D)\", '                          (SINGING)', '                          (SINGING)', '           (catching himself,\\n\\n                          EMBARRASSED)', '                          (SINGING)', \" (CONT'D)\", '                          (SINGING)', \" (CONT'D)\", '                          (SINGING)', '                          (SINGING)', '                          (MORE)', \" (CONT'D)\", '                          (SINGING)', '                          (SINGING)', \" (CONT'D)\", '                          (SINGING)', '                          (SINGING)', \" (CONT'D)\", \" (CONT'D)\", \" (CONT'D)\", '          (Scene 1900 - Surprise Guests)', '                          (BEAT)', '                          (DETERMINED)', \" (CONT'D)\", \" (CONT'D)\", ' (riding Meatlug,\\n\\n          along with Fishlegs)', \" (CONT'D)\", \" (CONT'D)\", '                          (SMUG)', '                          (HORRIFIED)', \" (CONT'D)\", \" (CONT'D)\", \" (CONT'D)\", \" (CONT'D)\", \"          (Scene 2000 - Stoick's Sacrifice)\", \" (CONT'D)\", \" (CONT'D)\", \" (CONT'D)\", '           (grinning, smug)', '                          (BEAT)', \" (CONT'D)\", '                          (PANICKED)', \" (CONT'D)\", \" (CONT'D)\", \" (CONT'D)\", \" (CONT'D)\", \" (CONT'D)\", \" (CONT'D)\", \" (CONT'D)\", ' (O.S.)', \" (CONT'D)\", '          (Scene 2100 - Viking Funeral)', ' (V.O.)', ' (V.O.)', \" (CONT'D)\", \" (CONT'D)\", '                          (BEAT)', '                          (BEAT)', '                          (BEAT)', '           (to the others)', '          (Scene 2200 - Hatchlings to the Rescue)', \" (CONT'D)\", '          (Scene 2450 - Hiccup Vs. Toothless)', \" (CONT'D)\", \" (CONT'D)\", '                          (FUMING)', \" (CONT'D)\", \" (CONT'D)\", \" (CONT'D)\", \" (CONT'D)\", \" (CONT'D)\", \" (CONT'D)\", '                          (BEAT)', \" (CONT'D)\", \" (CONT'D)\", \" (CONT'D)\", \" (CONT'D)\", '          (Scene 2500 - One True Alpha)', \" (CONT'D)\", \" (CONT'D)\", \" (CONT'D)\", \" (CONT'D)\", '                          (BEAT)', \" (CONT'D)\", \" (CONT'D)\", \" (CONT'D)\", \" (CONT'D)\", '                          (GRINNING KNOWINGLY)', \" (CONT'D)\", '           (to the defecting dragons)', '                          (BEAT)', \" (CONT'D)\", \" (CONT'D)\", \" (CONT'D)\", \" (CONT'D)\", \" (CONT'D)\", \" (CONT'D)\", '                          (THEN)', \" (CONT'D)\", '          (Scene 2700 - A New Beginning)', ' (V.O.)', ' (V.O.)', ' (V.O.)', ' (V.O.)', ' (V.O.)', ' (V.O.)', ' (V.O.)']"
      ]
     },
     "execution_count": 135,
     "metadata": {},
     "output_type": "execute_result"
    }
   ],
   "source": [
    "httyd2_par"
   ]
  },
  {
   "cell_type": "code",
   "execution_count": 153,
   "metadata": {},
   "outputs": [],
   "source": [
    "httyd2_script_2 = re.sub(r\" {1,}\\([^\\)]*\\)\", '', httyd2_script)"
   ]
  },
  {
   "cell_type": "code",
   "execution_count": 154,
   "metadata": {},
   "outputs": [
    {
     "name": "stdout",
     "output_type": "stream",
     "text": [
      "[11, 11, 25, 11, 11, 11, 11, 11, 11, 11, 11, 11, 11, 10, 10, 10, 10, 11, 11, 11, 11, 11, 11, 10, 10, 10, 10, 11, 11, 10, 10, 10, 10, 10, 10, 10, 26, 11, 11, 26, 11, 10, 10, 26, 11, 10, 10, 26, 11, 11, 26, 11, 11, 10, 10, 26, 11, 11, 10, 10, 10, 10, 10, 10, 10, 26, 11, 11, 11, 10, 10, 26, 11, 11, 26, 11, 11, 10, 10, 10, 10, 26, 11, 11, 26, 11, 11, 26, 11, 11, 26, 11, 10, 11, 11, 11, 11, 11, 10, 10]\n",
      "{26, 25, 10, 11}\n",
      "26 white spaces appear 690 times\n",
      "25 white spaces appear 9 times\n",
      "10 white spaces appear 1547 times\n",
      "11 white spaces appear 1318 times\n"
     ]
    }
   ],
   "source": [
    "white_space_count(httyd2_script_2)"
   ]
  },
  {
   "cell_type": "code",
   "execution_count": 155,
   "metadata": {},
   "outputs": [
    {
     "data": {
      "text/plain": [
       "119"
      ]
     },
     "execution_count": 155,
     "metadata": {},
     "output_type": "execute_result"
    }
   ],
   "source": [
    "(760-690) + (1571-1547) + (1343-1318)"
   ]
  },
  {
   "cell_type": "code",
   "execution_count": 156,
   "metadata": {},
   "outputs": [
    {
     "data": {
      "text/plain": [
       "119"
      ]
     },
     "execution_count": 156,
     "metadata": {},
     "output_type": "execute_result"
    }
   ],
   "source": [
    "24 + 70 + 25"
   ]
  },
  {
   "cell_type": "code",
   "execution_count": 157,
   "metadata": {},
   "outputs": [
    {
     "data": {
      "text/plain": [
       "'\\n\\n           EXT. OPEN SEA - DAY\\n\\n           Hiccup and Toothless BLUR PAST, leaving a wake that leads...                         \\n\\n           EXT. BERK - DAY\\n\\n\\n\\n           To the island village of Berk, festively adorned with flags\\n\\n           and banners. Major new additions alter its familiar skyline.\\n\\n           HICCUP\\n\\n           This... is Berk. The best kept\\n\\n           secret this side of, well,\\n\\n           anywhere. Granted, it may not look\\n\\n           like much, but this wet heap of\\n\\n '"
      ]
     },
     "execution_count": 157,
     "metadata": {},
     "output_type": "execute_result"
    }
   ],
   "source": [
    "httyd2_script_2[:500]"
   ]
  },
  {
   "cell_type": "code",
   "execution_count": 162,
   "metadata": {},
   "outputs": [],
   "source": [
    "httyd2_lines = re.findall(r\"\\n\\n {26}(\\b[A-Z]['A-Z ]{1,})+\\n\\n\", httyd2_script_2) #THIS IS GOOD!!!!"
   ]
  },
  {
   "cell_type": "code",
   "execution_count": 163,
   "metadata": {},
   "outputs": [
    {
     "name": "stdout",
     "output_type": "stream",
     "text": [
      "678\n",
      "{'STOICK', 'TUFFNUT RUFFNUT', 'ASTRID', 'TEENY', 'WARRIOR', 'GOBBER', 'FISHLEGS', 'SNOTLOUT', 'HICCUP', 'STARKARD', 'DRAGO', 'ARCHER', 'HOARK', 'RUFFNUT', 'UG', 'TUFFNUT', 'VALKA', 'SOLDIER', 'ERET'}\n"
     ]
    }
   ],
   "source": [
    "print(len(httyd2_lines))\n",
    "print(set(httyd2_lines))"
   ]
  },
  {
   "cell_type": "code",
   "execution_count": 200,
   "metadata": {},
   "outputs": [],
   "source": [
    "httyd2_morelines = re.findall(r\"\\n\\n {11}(\\b[A-Z]['A-Z]{1,}){1,4}\\n\\n\", httyd2_script_2) \n",
    "#this only works for characters whose names are one word"
   ]
  },
  {
   "cell_type": "code",
   "execution_count": 201,
   "metadata": {},
   "outputs": [
    {
     "name": "stdout",
     "output_type": "stream",
     "text": [
      "30\n"
     ]
    }
   ],
   "source": [
    "print(len(httyd2_morelines))"
   ]
  },
  {
   "cell_type": "code",
   "execution_count": 202,
   "metadata": {},
   "outputs": [
    {
     "name": "stdout",
     "output_type": "stream",
     "text": [
      "{'STOICK', 'GOBBER', 'HICCUP', 'UG', 'VALKA', 'ERET'}\n"
     ]
    }
   ],
   "source": [
    "print(set(httyd2_morelines))"
   ]
  },
  {
   "cell_type": "markdown",
   "metadata": {},
   "source": [
    "Let's try to write a function that will do this for all three movies, and see how well it works"
   ]
  },
  {
   "cell_type": "code",
   "execution_count": 180,
   "metadata": {},
   "outputs": [],
   "source": [
    "def line_identifier(script):\n",
    "    script_lines = re.findall(r\"\\n\\n {26}(\\b[A-Z]['A-Z ]{1,})+\\n\\n\", script)\n",
    "    more_lines = re.findall(r\"\\n\\n {11}\\b[A-Z]['A-Z]{1,}\\n\\n\", script)\n",
    "    return len(script_lines), set(script_lines), len(more_lines), set(more_lines)"
   ]
  },
  {
   "cell_type": "code",
   "execution_count": 175,
   "metadata": {},
   "outputs": [],
   "source": [
    "#First, take out parentheticals of other scripts:\n",
    "def no_parentheses(script):\n",
    "    new_script = re.sub(r\" {1,}\\([^\\)]*\\)\", '', script)\n",
    "    return new_script"
   ]
  },
  {
   "cell_type": "code",
   "execution_count": 176,
   "metadata": {},
   "outputs": [],
   "source": [
    "croods_updated = no_parentheses(croods_script)"
   ]
  },
  {
   "cell_type": "code",
   "execution_count": 177,
   "metadata": {},
   "outputs": [
    {
     "data": {
      "text/plain": [
       "'\\n\\n          SEQ. 75 - PROLOGUE\\n\\n                         FADE IN:\\n\\n          A cave painting of the Dreamworks logo. Push past the\\n\\n          moon to the sun. Bright. Beautiful. The sun DISSOLVES\\n\\n                         TO:\\n\\n          Cave paintings of a family of cavemen -- we will come to\\n\\n          know them as The Croods.\\n\\n                          EEP (V.O.)\\n\\n           With every sun comes a new day. A new\\n\\n           beginning. A hope that things will be\\n\\n           better today than th'"
      ]
     },
     "execution_count": 177,
     "metadata": {},
     "output_type": "execute_result"
    }
   ],
   "source": [
    "croods_script[:500]"
   ]
  },
  {
   "cell_type": "code",
   "execution_count": 178,
   "metadata": {},
   "outputs": [
    {
     "data": {
      "text/plain": [
       "'\\n\\n          SEQ. 75 - PROLOGUE\\n\\n                         FADE IN:\\n\\n          A cave painting of the Dreamworks logo. Push past the\\n\\n          moon to the sun. Bright. Beautiful. The sun DISSOLVES\\n\\n                         TO:\\n\\n          Cave paintings of a family of cavemen -- we will come to\\n\\n          know them as The Croods.\\n\\n                          EEP\\n\\n           With every sun comes a new day. A new\\n\\n           beginning. A hope that things will be\\n\\n           better today than they were'"
      ]
     },
     "execution_count": 178,
     "metadata": {},
     "output_type": "execute_result"
    }
   ],
   "source": [
    "croods_updated[:500]"
   ]
  },
  {
   "cell_type": "code",
   "execution_count": 179,
   "metadata": {},
   "outputs": [
    {
     "name": "stdout",
     "output_type": "stream",
     "text": [
      "[10, 25, 10, 10, 25, 10, 10, 26, 11, 11, 11, 10, 10, 10, 10, 26, 11, 11, 11, 11, 11, 11, 11, 11, 11, 11, 10, 10, 26, 11, 11, 11, 11, 11, 11, 10, 26, 11, 11, 10, 10, 10, 26, 11, 11, 11, 11, 11, 10, 10, 10, 10, 26, 11, 11, 10, 10, 10, 26, 11, 11, 11, 11, 10, 10, 26, 10, 10, 10, 10, 10, 26, 11, 11, 10, 10, 10, 10, 10, 10, 26, 11, 11, 10, 10, 10, 26, 11, 26, 11, 26, 11, 26, 11, 11, 10, 10, 26, 11, 11]\n",
      "{11, 25, 10, 26}\n",
      "11 white spaces appear 1125 times\n",
      "25 white spaces appear 23 times\n",
      "10 white spaces appear 1361 times\n",
      "26 white spaces appear 802 times\n"
     ]
    }
   ],
   "source": [
    "white_space_count(croods_updated)"
   ]
  },
  {
   "cell_type": "code",
   "execution_count": 181,
   "metadata": {},
   "outputs": [],
   "source": [
    "len_croods_lines, set_croods_lines, len_more_lines, set_more_lines = line_identifier(croods_updated)"
   ]
  },
  {
   "cell_type": "code",
   "execution_count": 182,
   "metadata": {},
   "outputs": [
    {
     "name": "stdout",
     "output_type": "stream",
     "text": [
      "760\n",
      "{'THUNK', 'CREATURE', 'EEP', 'ERF ERF', 'SANDY', 'UGGA', 'CROODS', 'BELT', 'GUY', 'MACAWNIVORE', 'GRAN', 'GRUG', 'CHUNKY', 'UGA'}\n",
      "9\n",
      "{'\\n\\n           GUY\\n\\n', '\\n\\n           GRUG\\n\\n', '\\n\\n           THUNK\\n\\n', '\\n\\n           EEP\\n\\n', '\\n\\n           UGGA\\n\\n'}\n"
     ]
    }
   ],
   "source": [
    "print(len_croods_lines)\n",
    "print(set_croods_lines)\n",
    "print(len_more_lines)\n",
    "print(set_more_lines)"
   ]
  },
  {
   "cell_type": "code",
   "execution_count": 207,
   "metadata": {},
   "outputs": [],
   "source": [
    "#double check this\n",
    "more_lines = re.findall(r\"\\n\\n {11}(\\b[A-Z]['A-Z]{1,}){1,5}\\n\\n\", croods_updated)\n",
    "#we can live without the collective line\n",
    "#need to tweek the spacing here"
   ]
  },
  {
   "cell_type": "code",
   "execution_count": 208,
   "metadata": {},
   "outputs": [
    {
     "data": {
      "text/plain": [
       "set()"
      ]
     },
     "execution_count": 208,
     "metadata": {},
     "output_type": "execute_result"
    }
   ],
   "source": [
    "set(more_lines)"
   ]
  },
  {
   "cell_type": "code",
   "execution_count": null,
   "metadata": {},
   "outputs": [],
   "source": []
  }
 ],
 "metadata": {
  "kernelspec": {
   "display_name": "Python 3",
   "language": "python",
   "name": "python3"
  },
  "language_info": {
   "codemirror_mode": {
    "name": "ipython",
    "version": 3
   },
   "file_extension": ".py",
   "mimetype": "text/x-python",
   "name": "python",
   "nbconvert_exporter": "python",
   "pygments_lexer": "ipython3",
   "version": "3.6.4"
  }
 },
 "nbformat": 4,
 "nbformat_minor": 2
}
