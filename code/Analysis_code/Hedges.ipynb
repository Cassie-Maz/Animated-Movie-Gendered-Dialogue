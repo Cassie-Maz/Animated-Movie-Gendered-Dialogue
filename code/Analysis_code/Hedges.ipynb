{
 "cells": [
  {
   "cell_type": "markdown",
   "metadata": {},
   "source": [
    "# Hedges\n",
    "Do female characters really use more hedges? Let's find out!\n",
    "\n",
    "# Table of Contents\n",
    "1. [Finding Hedges](#findhedge)\n",
    "2. [Graphs](#graphs)\n",
    "3. [Statistical Tests](#sig)"
   ]
  },
  {
   "cell_type": "markdown",
   "metadata": {},
   "source": [
    "## Finding Hedges<a name='findhedge'></a>"
   ]
  },
  {
   "cell_type": "code",
   "execution_count": 1,
   "metadata": {},
   "outputs": [],
   "source": [
    "import pandas as pd"
   ]
  },
  {
   "cell_type": "code",
   "execution_count": 2,
   "metadata": {},
   "outputs": [],
   "source": [
    "movies_df = pd.read_pickle(r\"C:/Users/cassi/Desktop/Data_Science/Animated-Movie-Gendered-Dialogue/private/all_tagged_dialogue.pkl\")"
   ]
  },
  {
   "cell_type": "code",
   "execution_count": 3,
   "metadata": {},
   "outputs": [
    {
     "name": "stdout",
     "output_type": "stream",
     "text": [
      "<class 'pandas.core.frame.DataFrame'>\n",
      "RangeIndex: 13442 entries, 0 to 13441\n",
      "Data columns (total 18 columns):\n",
      "Disney_Period       13442 non-null object\n",
      "Gender              13442 non-null object\n",
      "Movie               13442 non-null object\n",
      "Role                13442 non-null object\n",
      "Song                13442 non-null object\n",
      "Speaker             13442 non-null object\n",
      "Speaker_Status      13442 non-null object\n",
      "Text                13442 non-null object\n",
      "UTTERANCE_NUMBER    13442 non-null int64\n",
      "Year                13442 non-null int64\n",
      "Tokens              13442 non-null object\n",
      "Types               13442 non-null object\n",
      "Token_Count         13442 non-null int64\n",
      "Type_Count          13442 non-null int64\n",
      "POS                 13442 non-null object\n",
      "Tag_Freq            13442 non-null object\n",
      "Adj_Count           13442 non-null int64\n",
      "Adj_over_Tokens     13442 non-null float64\n",
      "dtypes: float64(1), int64(5), object(12)\n",
      "memory usage: 1.2+ MB\n"
     ]
    }
   ],
   "source": [
    "movies_df.info()"
   ]
  },
  {
   "cell_type": "code",
   "execution_count": 4,
   "metadata": {},
   "outputs": [],
   "source": [
    "#First, make a list of hedges\n",
    "hedge_list = ['i believe', 'i guess', 'i suppose', 'maybe', 'might', 'may', \n",
    "         'possibly', 'perhaps', \"i don't know\",\"i do not know\",\n",
    "         \"i'm not sure\", \"i am not sure\", \"i think\",\"i don't think\", \"i do not think\", 'seems', 'kind of',\n",
    "        'in my opinion', 'sort of', 'would', 'could', 'well', 'a bit',\n",
    "             'a little', 'almost', 'actually', 'apparently', 'somewhat']"
   ]
  },
  {
   "cell_type": "code",
   "execution_count": 5,
   "metadata": {},
   "outputs": [],
   "source": [
    "def find_hedges(line):\n",
    "    hedge_count = 0\n",
    "    for hedge in hedge_list:\n",
    "        if hedge in line:\n",
    "            hedge_count += 1\n",
    "    return hedge_count"
   ]
  },
  {
   "cell_type": "code",
   "execution_count": 6,
   "metadata": {},
   "outputs": [],
   "source": [
    "movies_df['Hedges'] = movies_df.Text.map(lambda x: find_hedges(x))"
   ]
  },
  {
   "cell_type": "code",
   "execution_count": 7,
   "metadata": {},
   "outputs": [
    {
     "data": {
      "text/plain": [
       "count    13442.00000\n",
       "mean         0.13495\n",
       "std          0.42861\n",
       "min          0.00000\n",
       "25%          0.00000\n",
       "50%          0.00000\n",
       "75%          0.00000\n",
       "max          4.00000\n",
       "Name: Hedges, dtype: float64"
      ]
     },
     "execution_count": 7,
     "metadata": {},
     "output_type": "execute_result"
    }
   ],
   "source": [
    "movies_df.Hedges.describe()"
   ]
  },
  {
   "cell_type": "code",
   "execution_count": 8,
   "metadata": {},
   "outputs": [
    {
     "data": {
      "text/html": [
       "<div>\n",
       "<style scoped>\n",
       "    .dataframe tbody tr th:only-of-type {\n",
       "        vertical-align: middle;\n",
       "    }\n",
       "\n",
       "    .dataframe tbody tr th {\n",
       "        vertical-align: top;\n",
       "    }\n",
       "\n",
       "    .dataframe thead th {\n",
       "        text-align: right;\n",
       "    }\n",
       "</style>\n",
       "<table border=\"1\" class=\"dataframe\">\n",
       "  <thead>\n",
       "    <tr style=\"text-align: right;\">\n",
       "      <th></th>\n",
       "      <th>count</th>\n",
       "      <th>mean</th>\n",
       "      <th>std</th>\n",
       "      <th>min</th>\n",
       "      <th>25%</th>\n",
       "      <th>50%</th>\n",
       "      <th>75%</th>\n",
       "      <th>max</th>\n",
       "    </tr>\n",
       "    <tr>\n",
       "      <th>Gender</th>\n",
       "      <th></th>\n",
       "      <th></th>\n",
       "      <th></th>\n",
       "      <th></th>\n",
       "      <th></th>\n",
       "      <th></th>\n",
       "      <th></th>\n",
       "      <th></th>\n",
       "    </tr>\n",
       "  </thead>\n",
       "  <tbody>\n",
       "    <tr>\n",
       "      <th>f</th>\n",
       "      <td>4216.0</td>\n",
       "      <td>0.135436</td>\n",
       "      <td>0.429534</td>\n",
       "      <td>0.0</td>\n",
       "      <td>0.0</td>\n",
       "      <td>0.0</td>\n",
       "      <td>0.0</td>\n",
       "      <td>4.0</td>\n",
       "    </tr>\n",
       "    <tr>\n",
       "      <th>m</th>\n",
       "      <td>8914.0</td>\n",
       "      <td>0.137424</td>\n",
       "      <td>0.432944</td>\n",
       "      <td>0.0</td>\n",
       "      <td>0.0</td>\n",
       "      <td>0.0</td>\n",
       "      <td>0.0</td>\n",
       "      <td>4.0</td>\n",
       "    </tr>\n",
       "    <tr>\n",
       "      <th>n</th>\n",
       "      <td>312.0</td>\n",
       "      <td>0.057692</td>\n",
       "      <td>0.246920</td>\n",
       "      <td>0.0</td>\n",
       "      <td>0.0</td>\n",
       "      <td>0.0</td>\n",
       "      <td>0.0</td>\n",
       "      <td>2.0</td>\n",
       "    </tr>\n",
       "  </tbody>\n",
       "</table>\n",
       "</div>"
      ],
      "text/plain": [
       "         count      mean       std  min  25%  50%  75%  max\n",
       "Gender                                                     \n",
       "f       4216.0  0.135436  0.429534  0.0  0.0  0.0  0.0  4.0\n",
       "m       8914.0  0.137424  0.432944  0.0  0.0  0.0  0.0  4.0\n",
       "n        312.0  0.057692  0.246920  0.0  0.0  0.0  0.0  2.0"
      ]
     },
     "execution_count": 8,
     "metadata": {},
     "output_type": "execute_result"
    }
   ],
   "source": [
    "movies_df.groupby('Gender')['Hedges'].describe()"
   ]
  },
  {
   "cell_type": "markdown",
   "metadata": {},
   "source": [
    "## Graphs<a name='graphs'></a>"
   ]
  },
  {
   "cell_type": "code",
   "execution_count": 9,
   "metadata": {},
   "outputs": [],
   "source": [
    "from matplotlib import pyplot as plt"
   ]
  },
  {
   "cell_type": "code",
   "execution_count": 10,
   "metadata": {},
   "outputs": [],
   "source": [
    "#only comparing male female, pro, ant, and helpers\n",
    "movies_gen_df = movies_df[movies_df.Gender != 'n']\n",
    "movies_role_df = movies_df[movies_df.Role != 'N']"
   ]
  },
  {
   "cell_type": "code",
   "execution_count": 11,
   "metadata": {},
   "outputs": [],
   "source": [
    "movies_gen_role_df = movies_df[(movies_df.Gender != 'n') & (movies_df.Role != 'N')]"
   ]
  },
  {
   "cell_type": "code",
   "execution_count": 12,
   "metadata": {},
   "outputs": [
    {
     "data": {
      "text/plain": [
       "<matplotlib.axes._subplots.AxesSubplot at 0x113c3dd0>"
      ]
     },
     "execution_count": 12,
     "metadata": {},
     "output_type": "execute_result"
    },
    {
     "data": {
      "image/png": "[encoded data removed]",
      "text/plain": [
       "<Figure size 432x288 with 1 Axes>"
      ]
     },
     "metadata": {
      "needs_background": "light"
     },
     "output_type": "display_data"
    }
   ],
   "source": [
    "hedge_by_gen = movies_gen_df.groupby('Gender')['Hedges'].describe()['mean']\n",
    "hedge_by_gen.plot.bar(color=['magenta', 'blue'])"
   ]
  },
  {
   "cell_type": "code",
   "execution_count": 13,
   "metadata": {},
   "outputs": [
    {
     "data": {
      "text/plain": [
       "<matplotlib.axes._subplots.AxesSubplot at 0x127f8db0>"
      ]
     },
     "execution_count": 13,
     "metadata": {},
     "output_type": "execute_result"
    },
    {
     "data": {
      "image/png": "[encoded data removed]",
      "text/plain": [
       "<Figure size 432x288 with 1 Axes>"
      ]
     },
     "metadata": {
      "needs_background": "light"
     },
     "output_type": "display_data"
    }
   ],
   "source": [
    "hedge_by_role = movies_role_df.groupby('Role')['Hedges'].describe()['mean']\n",
    "hedge_by_role.plot.bar(color=['red', 'purple', 'blue'])"
   ]
  },
  {
   "cell_type": "code",
   "execution_count": 14,
   "metadata": {},
   "outputs": [
    {
     "data": {
      "image/png": "[encoded data removed]",
      "text/plain": [
       "<Figure size 1080x432 with 1 Axes>"
      ]
     },
     "metadata": {
      "needs_background": "light"
     },
     "output_type": "display_data"
    }
   ],
   "source": [
    "hedge_by_role_gen = movies_gen_role_df.groupby(['Gender', 'Role'])['Hedges'].describe()['mean']\n",
    "hedge_by_role_gen.unstack().plot.bar(color = ['red', 'purple', 'blue'], figsize=(15,6))\n",
    "plt.title(\"Avg Hedge Count per Line by Gender and Role\")\n",
    "plt.savefig(r\"C:\\Users\\cassi\\Desktop\\Data_Science\\Animated-Movie-Gendered-Dialogue\\images\\hedges_by_gen_role.png\")"
   ]
  },
  {
   "cell_type": "code",
   "execution_count": 15,
   "metadata": {},
   "outputs": [
    {
     "data": {
      "text/plain": [
       "<matplotlib.axes._subplots.AxesSubplot at 0x12a7cdb0>"
      ]
     },
     "execution_count": 15,
     "metadata": {},
     "output_type": "execute_result"
    },
    {
     "data": {
      "image/png": "[encoded data removed]",
      "text/plain": [
       "<Figure size 1080x432 with 1 Axes>"
      ]
     },
     "metadata": {
      "needs_background": "light"
     },
     "output_type": "display_data"
    }
   ],
   "source": [
    "hedge_by_role_gen = movies_gen_role_df.groupby(['Disney_Period','Gender', 'Role'], sort=False)['Hedges'].describe()['mean']\n",
    "hedge_by_role_gen.unstack().plot.bar(color = ['red', 'blue', 'purple'], figsize = (15, 6))"
   ]
  },
  {
   "cell_type": "code",
   "execution_count": 16,
   "metadata": {},
   "outputs": [
    {
     "data": {
      "image/png": "[encoded data removed]",
      "text/plain": [
       "<Figure size 1080x432 with 1 Axes>"
      ]
     },
     "metadata": {
      "needs_background": "light"
     },
     "output_type": "display_data"
    }
   ],
   "source": [
    "hedge_by_era_gen = movies_gen_role_df.groupby(['Disney_Period','Gender'], sort=False)['Hedges'].describe()['mean']\n",
    "hedge_by_era_gen.unstack().plot.bar(color = ['magenta', 'blue'], figsize = (15, 6))\n",
    "plt.title('Avg Hedge Count over Time by Gender')\n",
    "plt.savefig(r\"C:\\Users\\cassi\\Desktop\\Data_Science\\Animated-Movie-Gendered-Dialogue\\images\\hedge_over_era_gen.png\")"
   ]
  },
  {
   "cell_type": "code",
   "execution_count": 17,
   "metadata": {},
   "outputs": [
    {
     "data": {
      "text/plain": [
       "<matplotlib.axes._subplots.AxesSubplot at 0x129041b0>"
      ]
     },
     "execution_count": 17,
     "metadata": {},
     "output_type": "execute_result"
    },
    {
     "data": {
      "image/png": "[encoded data removed]",
      "text/plain": [
       "<Figure size 1080x432 with 1 Axes>"
      ]
     },
     "metadata": {
      "needs_background": "light"
     },
     "output_type": "display_data"
    }
   ],
   "source": [
    "hedge_by_era_role = movies_gen_role_df.groupby(['Disney_Period','Role'], sort=False)['Hedges'].describe()['mean']\n",
    "hedge_by_era_role.unstack().plot.bar(color = ['red', 'blue', 'purple'], figsize = (15, 6))"
   ]
  },
  {
   "cell_type": "markdown",
   "metadata": {},
   "source": [
    "## Statistical Tests<a name='sig'></a>"
   ]
  },
  {
   "cell_type": "code",
   "execution_count": 18,
   "metadata": {},
   "outputs": [],
   "source": [
    "from scipy import stats"
   ]
  },
  {
   "cell_type": "code",
   "execution_count": 19,
   "metadata": {},
   "outputs": [],
   "source": [
    "f_movies = movies_df[movies_df.Gender == 'f']\n",
    "m_movies = movies_df[movies_df.Gender == 'm']"
   ]
  },
  {
   "cell_type": "code",
   "execution_count": 20,
   "metadata": {},
   "outputs": [],
   "source": [
    "pro_movies = movies_df[movies_df.Role == 'PRO']\n",
    "ant_movies = movies_df[movies_df.Role == 'ANT']\n",
    "helper_movies = movies_df[movies_df.Role == 'HELPER']"
   ]
  },
  {
   "cell_type": "markdown",
   "metadata": {},
   "source": [
    "### Gender\n",
    "#### Overall"
   ]
  },
  {
   "cell_type": "code",
   "execution_count": 21,
   "metadata": {},
   "outputs": [
    {
     "data": {
      "text/plain": [
       "Ttest_indResult(statistic=0.2469620927809358, pvalue=0.8049436474853342)"
      ]
     },
     "execution_count": 21,
     "metadata": {},
     "output_type": "execute_result"
    }
   ],
   "source": [
    "#Between male and female characters overall\n",
    "stats.ttest_ind(m_movies.Hedges, f_movies.Hedges, equal_var=False) #no significant difference!"
   ]
  },
  {
   "cell_type": "markdown",
   "metadata": {},
   "source": [
    "Overall, female speakers actually use slightly fewer hedges than male characters, but this difference isn't signficant."
   ]
  },
  {
   "cell_type": "code",
   "execution_count": 22,
   "metadata": {},
   "outputs": [],
   "source": [
    "#female lines in each era\n",
    "f_movies_early = f_movies[f_movies.Disney_Period == 'EARLY']\n",
    "f_movies_mid = f_movies[f_movies.Disney_Period == 'MID']\n",
    "f_movies_late = f_movies[f_movies.Disney_Period == 'LATE']"
   ]
  },
  {
   "cell_type": "code",
   "execution_count": 23,
   "metadata": {},
   "outputs": [],
   "source": [
    "#male lines in each era\n",
    "m_movies_early = m_movies[m_movies.Disney_Period == 'EARLY']\n",
    "m_movies_mid = m_movies[m_movies.Disney_Period == 'MID']\n",
    "m_movies_late = m_movies[m_movies.Disney_Period == 'LATE']"
   ]
  },
  {
   "cell_type": "markdown",
   "metadata": {},
   "source": [
    "#### Female Hedges over Time"
   ]
  },
  {
   "cell_type": "code",
   "execution_count": 24,
   "metadata": {},
   "outputs": [
    {
     "data": {
      "text/plain": [
       "F_onewayResult(statistic=5.6595407963416315, pvalue=0.003522764212710435)"
      ]
     },
     "execution_count": 24,
     "metadata": {},
     "output_type": "execute_result"
    }
   ],
   "source": [
    "stats.f_oneway(f_movies_early.Hedges, f_movies_mid.Hedges, f_movies_late.Hedges)"
   ]
  },
  {
   "cell_type": "code",
   "execution_count": 25,
   "metadata": {},
   "outputs": [
    {
     "data": {
      "text/plain": [
       "Ttest_indResult(statistic=2.2384771375980987, pvalue=0.025353734146271602)"
      ]
     },
     "execution_count": 25,
     "metadata": {},
     "output_type": "execute_result"
    }
   ],
   "source": [
    "stats.ttest_ind(f_movies_early.Hedges, f_movies_mid.Hedges, equal_var=False)"
   ]
  },
  {
   "cell_type": "code",
   "execution_count": 26,
   "metadata": {},
   "outputs": [
    {
     "data": {
      "text/plain": [
       "Ttest_indResult(statistic=3.016712773628267, pvalue=0.002611403475179962)"
      ]
     },
     "execution_count": 26,
     "metadata": {},
     "output_type": "execute_result"
    }
   ],
   "source": [
    "stats.ttest_ind(f_movies_early.Hedges, f_movies_late.Hedges, equal_var=False)"
   ]
  },
  {
   "cell_type": "code",
   "execution_count": 27,
   "metadata": {},
   "outputs": [
    {
     "data": {
      "text/plain": [
       "Ttest_indResult(statistic=0.6795108932552569, pvalue=0.4969138536364116)"
      ]
     },
     "execution_count": 27,
     "metadata": {},
     "output_type": "execute_result"
    }
   ],
   "source": [
    "stats.ttest_ind(f_movies_mid.Hedges, f_movies_late.Hedges, equal_var=False)"
   ]
  },
  {
   "cell_type": "markdown",
   "metadata": {},
   "source": [
    "Overall, there appears to be a significant difference between hedge counts over time (saving between the middle era and the late era). In all two-way comparisons, the previous era's women used more hedges than the next era's women. This difference is signifcant between the early and late eras, and between the early and mid eras."
   ]
  },
  {
   "cell_type": "markdown",
   "metadata": {},
   "source": [
    "#### Male Hedges over Time"
   ]
  },
  {
   "cell_type": "code",
   "execution_count": 28,
   "metadata": {},
   "outputs": [
    {
     "data": {
      "text/plain": [
       "F_onewayResult(statistic=0.2221677266945154, pvalue=0.80079144959515)"
      ]
     },
     "execution_count": 28,
     "metadata": {},
     "output_type": "execute_result"
    }
   ],
   "source": [
    "stats.f_oneway(m_movies_early.Hedges, m_movies_mid.Hedges, m_movies_late.Hedges)"
   ]
  },
  {
   "cell_type": "markdown",
   "metadata": {},
   "source": [
    "No siginificant three way difference. Let's narrow this."
   ]
  },
  {
   "cell_type": "code",
   "execution_count": 29,
   "metadata": {},
   "outputs": [
    {
     "data": {
      "text/plain": [
       "Ttest_indResult(statistic=-0.7072785026779612, pvalue=0.4795860133720917)"
      ]
     },
     "execution_count": 29,
     "metadata": {},
     "output_type": "execute_result"
    }
   ],
   "source": [
    "stats.ttest_ind(m_movies_early.Hedges, m_movies_mid.Hedges, equal_var=False)"
   ]
  },
  {
   "cell_type": "code",
   "execution_count": 30,
   "metadata": {},
   "outputs": [
    {
     "data": {
      "text/plain": [
       "Ttest_indResult(statistic=-0.5958435607406146, pvalue=0.5513981572426254)"
      ]
     },
     "execution_count": 30,
     "metadata": {},
     "output_type": "execute_result"
    }
   ],
   "source": [
    "stats.ttest_ind(m_movies_early.Hedges, m_movies_late.Hedges, equal_var=False)"
   ]
  },
  {
   "cell_type": "code",
   "execution_count": 31,
   "metadata": {},
   "outputs": [
    {
     "data": {
      "text/plain": [
       "Ttest_indResult(statistic=0.059293316253933206, pvalue=0.9527234295015778)"
      ]
     },
     "execution_count": 31,
     "metadata": {},
     "output_type": "execute_result"
    }
   ],
   "source": [
    "stats.ttest_ind(m_movies_mid.Hedges, m_movies_late.Hedges, equal_var=False)"
   ]
  },
  {
   "cell_type": "markdown",
   "metadata": {},
   "source": [
    "So, there is a significant difference between female hedge counts overtime, but not between male hedges over time."
   ]
  },
  {
   "cell_type": "markdown",
   "metadata": {},
   "source": [
    "#### Male vs Female Hedges Over Time"
   ]
  },
  {
   "cell_type": "code",
   "execution_count": 32,
   "metadata": {},
   "outputs": [
    {
     "data": {
      "text/plain": [
       "Ttest_indResult(statistic=-2.7253914583319436, pvalue=0.006514319527192338)"
      ]
     },
     "execution_count": 32,
     "metadata": {},
     "output_type": "execute_result"
    }
   ],
   "source": [
    "stats.ttest_ind(m_movies_early.Hedges, f_movies_early.Hedges, equal_var=False)"
   ]
  },
  {
   "cell_type": "code",
   "execution_count": 33,
   "metadata": {},
   "outputs": [
    {
     "data": {
      "text/plain": [
       "Ttest_indResult(statistic=-0.09928578156072795, pvalue=0.9209256989829391)"
      ]
     },
     "execution_count": 33,
     "metadata": {},
     "output_type": "execute_result"
    }
   ],
   "source": [
    "stats.ttest_ind(m_movies_mid.Hedges, f_movies_mid.Hedges, equal_var=False)"
   ]
  },
  {
   "cell_type": "code",
   "execution_count": 34,
   "metadata": {},
   "outputs": [
    {
     "data": {
      "text/plain": [
       "Ttest_indResult(statistic=0.5861560626639634, pvalue=0.5578236553283782)"
      ]
     },
     "execution_count": 34,
     "metadata": {},
     "output_type": "execute_result"
    }
   ],
   "source": [
    "stats.ttest_ind(m_movies_late.Hedges, f_movies_late.Hedges, equal_var=False)"
   ]
  },
  {
   "cell_type": "markdown",
   "metadata": {},
   "source": [
    "Here, we see that the difference between how genders use hedges has changed over time. While men used signficantly fewer hedges than women in Disney's early period, this difference isn't significant in the mid and late periods."
   ]
  },
  {
   "cell_type": "markdown",
   "metadata": {},
   "source": [
    "### Role\n",
    "#### Role Overall"
   ]
  },
  {
   "cell_type": "code",
   "execution_count": 35,
   "metadata": {},
   "outputs": [
    {
     "data": {
      "text/plain": [
       "F_onewayResult(statistic=3.6756230461575, pvalue=0.025363790083959573)"
      ]
     },
     "execution_count": 35,
     "metadata": {},
     "output_type": "execute_result"
    }
   ],
   "source": [
    "stats.f_oneway(pro_movies.Hedges, ant_movies.Hedges, helper_movies.Hedges) #hardly"
   ]
  },
  {
   "cell_type": "code",
   "execution_count": 36,
   "metadata": {},
   "outputs": [
    {
     "data": {
      "text/plain": [
       "F_onewayResult(statistic=7.307846028743817, pvalue=0.006880299468160047)"
      ]
     },
     "execution_count": 36,
     "metadata": {},
     "output_type": "execute_result"
    }
   ],
   "source": [
    "stats.f_oneway(pro_movies.Hedges, ant_movies.Hedges) #yep!"
   ]
  },
  {
   "cell_type": "code",
   "execution_count": 37,
   "metadata": {},
   "outputs": [
    {
     "data": {
      "text/plain": [
       "F_onewayResult(statistic=0.16605292893885215, pvalue=0.6836531567434658)"
      ]
     },
     "execution_count": 37,
     "metadata": {},
     "output_type": "execute_result"
    }
   ],
   "source": [
    "stats.f_oneway(pro_movies.Hedges, helper_movies.Hedges) #nope!"
   ]
  },
  {
   "cell_type": "code",
   "execution_count": 38,
   "metadata": {},
   "outputs": [
    {
     "data": {
      "text/plain": [
       "F_onewayResult(statistic=5.004835701407097, pvalue=0.025315906624021504)"
      ]
     },
     "execution_count": 38,
     "metadata": {},
     "output_type": "execute_result"
    }
   ],
   "source": [
    "stats.f_oneway(helper_movies.Hedges, ant_movies.Hedges) #hardly"
   ]
  },
  {
   "cell_type": "markdown",
   "metadata": {},
   "source": [
    "Overall, it seems that a characters role DOES factor into how hedges are used. This difference is most significant between protagonists and antagonists. Protagonists use WAY more hedges than antagonists do. There's a slight significant difference between how helpers and antagonists use hedges."
   ]
  },
  {
   "cell_type": "markdown",
   "metadata": {},
   "source": [
    "#### Antagonist Hedges Over Time"
   ]
  },
  {
   "cell_type": "code",
   "execution_count": 39,
   "metadata": {},
   "outputs": [],
   "source": [
    "ant_movies_early = ant_movies[ant_movies.Disney_Period == 'EARLY']\n",
    "ant_movies_mid = ant_movies[ant_movies.Disney_Period == 'MID']\n",
    "ant_movies_late = ant_movies[ant_movies.Disney_Period == 'LATE']\n",
    "\n",
    "pro_movies_early = pro_movies[pro_movies.Disney_Period == 'EARLY']\n",
    "pro_movies_mid = pro_movies[pro_movies.Disney_Period == 'MID']\n",
    "pro_movies_late = pro_movies[pro_movies.Disney_Period == 'LATE']"
   ]
  },
  {
   "cell_type": "code",
   "execution_count": 40,
   "metadata": {},
   "outputs": [
    {
     "data": {
      "text/plain": [
       "F_onewayResult(statistic=3.094019776389704, pvalue=0.04569721091887875)"
      ]
     },
     "execution_count": 40,
     "metadata": {},
     "output_type": "execute_result"
    }
   ],
   "source": [
    "stats.f_oneway(ant_movies_early.Hedges, ant_movies_mid.Hedges, ant_movies_late.Hedges) #hardly"
   ]
  },
  {
   "cell_type": "markdown",
   "metadata": {},
   "source": [
    "A barely siginificant three way difference. Let's narrow this."
   ]
  },
  {
   "cell_type": "code",
   "execution_count": 41,
   "metadata": {},
   "outputs": [
    {
     "data": {
      "text/plain": [
       "Ttest_indResult(statistic=1.9028693774936443, pvalue=0.05793014637492616)"
      ]
     },
     "execution_count": 41,
     "metadata": {},
     "output_type": "execute_result"
    }
   ],
   "source": [
    "stats.ttest_ind(ant_movies_early.Hedges, ant_movies_mid.Hedges, equal_var=False) #nope"
   ]
  },
  {
   "cell_type": "code",
   "execution_count": 42,
   "metadata": {},
   "outputs": [
    {
     "data": {
      "text/plain": [
       "Ttest_indResult(statistic=2.117931681012448, pvalue=0.03488583820111598)"
      ]
     },
     "execution_count": 42,
     "metadata": {},
     "output_type": "execute_result"
    }
   ],
   "source": [
    "stats.ttest_ind(ant_movies_early.Hedges, ant_movies_late.Hedges, equal_var=False) #hardly"
   ]
  },
  {
   "cell_type": "code",
   "execution_count": 43,
   "metadata": {},
   "outputs": [
    {
     "data": {
      "text/plain": [
       "Ttest_indResult(statistic=0.3877004825746063, pvalue=0.6983308660519401)"
      ]
     },
     "execution_count": 43,
     "metadata": {},
     "output_type": "execute_result"
    }
   ],
   "source": [
    "stats.ttest_ind(ant_movies_mid.Hedges, ant_movies_late.Hedges, equal_var=False)"
   ]
  },
  {
   "cell_type": "markdown",
   "metadata": {},
   "source": [
    "The only significant difference here is between the early and late periods. Between the early and late Disney Eras, an antagonist's use of hedges has gone down."
   ]
  },
  {
   "cell_type": "markdown",
   "metadata": {},
   "source": [
    "#### Protagonist Hedges Over Time"
   ]
  },
  {
   "cell_type": "code",
   "execution_count": 44,
   "metadata": {},
   "outputs": [
    {
     "data": {
      "text/plain": [
       "F_onewayResult(statistic=9.444192562649363, pvalue=8.150321171548169e-05)"
      ]
     },
     "execution_count": 44,
     "metadata": {},
     "output_type": "execute_result"
    }
   ],
   "source": [
    "stats.f_oneway(pro_movies_early.Hedges, pro_movies_mid.Hedges, pro_movies_late.Hedges) #way more significant"
   ]
  },
  {
   "cell_type": "markdown",
   "metadata": {},
   "source": [
    "Looks like in general, there's a significant difference between how protagonists use hedges over time"
   ]
  },
  {
   "cell_type": "code",
   "execution_count": 45,
   "metadata": {},
   "outputs": [
    {
     "data": {
      "text/plain": [
       "Ttest_indResult(statistic=3.0252979699324833, pvalue=0.002699377171164294)"
      ]
     },
     "execution_count": 45,
     "metadata": {},
     "output_type": "execute_result"
    }
   ],
   "source": [
    "stats.ttest_ind(pro_movies_early.Hedges, pro_movies_mid.Hedges, equal_var=False) #yep!"
   ]
  },
  {
   "cell_type": "code",
   "execution_count": 46,
   "metadata": {},
   "outputs": [
    {
     "data": {
      "text/plain": [
       "Ttest_indResult(statistic=3.0646434604844344, pvalue=0.002385066649681018)"
      ]
     },
     "execution_count": 46,
     "metadata": {},
     "output_type": "execute_result"
    }
   ],
   "source": [
    "stats.ttest_ind(pro_movies_early.Hedges, pro_movies_late.Hedges, equal_var=False) #yep!"
   ]
  },
  {
   "cell_type": "code",
   "execution_count": 47,
   "metadata": {},
   "outputs": [
    {
     "data": {
      "text/plain": [
       "Ttest_indResult(statistic=0.030737401891905363, pvalue=0.9754813625233696)"
      ]
     },
     "execution_count": 47,
     "metadata": {},
     "output_type": "execute_result"
    }
   ],
   "source": [
    "stats.ttest_ind(pro_movies_mid.Hedges, pro_movies_late.Hedges, equal_var=False) #NOPE!"
   ]
  },
  {
   "cell_type": "markdown",
   "metadata": {},
   "source": [
    "While protagonists' use of hedges over time has decreased, there's no significant difference between the mid and late periods."
   ]
  },
  {
   "cell_type": "markdown",
   "metadata": {},
   "source": [
    "#### Antagonists vs Protagonists Over Time"
   ]
  },
  {
   "cell_type": "code",
   "execution_count": 48,
   "metadata": {},
   "outputs": [
    {
     "data": {
      "text/plain": [
       "Ttest_indResult(statistic=1.3772703300759517, pvalue=0.1691056541760526)"
      ]
     },
     "execution_count": 48,
     "metadata": {},
     "output_type": "execute_result"
    }
   ],
   "source": [
    "stats.ttest_ind(pro_movies_early.Hedges, ant_movies_early.Hedges, equal_var=False) #nope"
   ]
  },
  {
   "cell_type": "code",
   "execution_count": 49,
   "metadata": {},
   "outputs": [
    {
     "data": {
      "text/plain": [
       "Ttest_indResult(statistic=0.5404663225220979, pvalue=0.5889807618852014)"
      ]
     },
     "execution_count": 49,
     "metadata": {},
     "output_type": "execute_result"
    }
   ],
   "source": [
    "stats.ttest_ind(pro_movies_mid.Hedges, ant_movies_mid.Hedges, equal_var=False) #nope"
   ]
  },
  {
   "cell_type": "code",
   "execution_count": 50,
   "metadata": {},
   "outputs": [
    {
     "data": {
      "text/plain": [
       "Ttest_indResult(statistic=0.9488262147956816, pvalue=0.3430218543787952)"
      ]
     },
     "execution_count": 50,
     "metadata": {},
     "output_type": "execute_result"
    }
   ],
   "source": [
    "stats.ttest_ind(pro_movies_late.Hedges, ant_movies_late.Hedges, equal_var=False) #nope"
   ]
  },
  {
   "cell_type": "markdown",
   "metadata": {},
   "source": [
    "Within each period, there is no significant difference between how often protagonists and antagonists use hedges."
   ]
  },
  {
   "cell_type": "markdown",
   "metadata": {},
   "source": [
    "#### By Gender and Role Overall"
   ]
  },
  {
   "cell_type": "code",
   "execution_count": 51,
   "metadata": {},
   "outputs": [],
   "source": [
    "pro_f = movies_gen_role_df[(movies_gen_role_df.Gender == 'f') & (movies_gen_role_df.Role == 'PRO')]\n",
    "pro_m = movies_gen_role_df[(movies_gen_role_df.Gender == 'm') & (movies_gen_role_df.Role == 'PRO')]\n",
    "ant_f = movies_gen_role_df[(movies_gen_role_df.Gender == 'f') & (movies_gen_role_df.Role == 'ANT')]\n",
    "ant_m = movies_gen_role_df[(movies_gen_role_df.Gender == 'm') & (movies_gen_role_df.Role == 'ANT')]"
   ]
  },
  {
   "cell_type": "code",
   "execution_count": 52,
   "metadata": {},
   "outputs": [
    {
     "data": {
      "text/plain": [
       "Ttest_indResult(statistic=-2.657857935520071, pvalue=0.00788654862209923)"
      ]
     },
     "execution_count": 52,
     "metadata": {},
     "output_type": "execute_result"
    }
   ],
   "source": [
    "stats.ttest_ind(pro_f.Hedges, pro_m.Hedges, equal_var=False) \n",
    "#female protagonists actually significantly fewer hedges than male protagonists"
   ]
  },
  {
   "cell_type": "code",
   "execution_count": 53,
   "metadata": {},
   "outputs": [
    {
     "data": {
      "text/plain": [
       "Ttest_indResult(statistic=2.8235126674682194, pvalue=0.004906077892619274)"
      ]
     },
     "execution_count": 53,
     "metadata": {},
     "output_type": "execute_result"
    }
   ],
   "source": [
    "stats.ttest_ind(ant_f.Hedges, ant_m.Hedges, equal_var=False)\n",
    "#female antagonists use significantly more hedges than male antagonists"
   ]
  },
  {
   "cell_type": "code",
   "execution_count": 54,
   "metadata": {},
   "outputs": [
    {
     "data": {
      "text/plain": [
       "Ttest_indResult(statistic=-1.6810711203041597, pvalue=0.09326552118381613)"
      ]
     },
     "execution_count": 54,
     "metadata": {},
     "output_type": "execute_result"
    }
   ],
   "source": [
    "stats.ttest_ind(pro_f.Hedges, ant_f.Hedges, equal_var=False)"
   ]
  },
  {
   "cell_type": "code",
   "execution_count": 55,
   "metadata": {},
   "outputs": [
    {
     "data": {
      "text/plain": [
       "Ttest_indResult(statistic=4.852799960275065, pvalue=1.2626701770944547e-06)"
      ]
     },
     "execution_count": 55,
     "metadata": {},
     "output_type": "execute_result"
    }
   ],
   "source": [
    "stats.ttest_ind(pro_m.Hedges, ant_m.Hedges, equal_var=False)"
   ]
  },
  {
   "cell_type": "markdown",
   "metadata": {},
   "source": [
    "The most significant difference here is between male protagonists and antagonists, with male protagonists using significantly more hedges than male antagonists. Unlike what I predicted, female protagonists use fewer hedges than male protagonists, but female antagonists use more hedges than male antagonists. "
   ]
  },
  {
   "cell_type": "markdown",
   "metadata": {},
   "source": [
    "#### Across Companies"
   ]
  },
  {
   "cell_type": "code",
   "execution_count": 56,
   "metadata": {},
   "outputs": [],
   "source": [
    "#### Across Companies\n",
    "disney_f = movies_gen_df[(movies_gen_df.Gender == 'f') & (movies_gen_df.Disney_Period != 'DREAMWORKS')]\n",
    "disney_m = movies_gen_df[(movies_gen_df.Gender == 'm') & (movies_gen_df.Disney_Period != 'DREAMWORKS')]\n",
    "dw_f = movies_gen_df[(movies_gen_df.Gender == 'f') & (movies_gen_df.Disney_Period == 'DREAMWORKS')]\n",
    "dw_m = movies_gen_df[(movies_gen_df.Gender == 'm') & (movies_gen_df.Disney_Period == 'DREAMWORKS')]"
   ]
  },
  {
   "cell_type": "code",
   "execution_count": 57,
   "metadata": {},
   "outputs": [
    {
     "data": {
      "text/plain": [
       "Ttest_indResult(statistic=-1.0317972731113227, pvalue=0.30220807795419546)"
      ]
     },
     "execution_count": 57,
     "metadata": {},
     "output_type": "execute_result"
    }
   ],
   "source": [
    "stats.ttest_ind(disney_m.Hedges, disney_f.Hedges, equal_var=False) # no significant difference"
   ]
  },
  {
   "cell_type": "code",
   "execution_count": 58,
   "metadata": {},
   "outputs": [
    {
     "data": {
      "text/plain": [
       "Ttest_indResult(statistic=1.7994150694838413, pvalue=0.0720606462571984)"
      ]
     },
     "execution_count": 58,
     "metadata": {},
     "output_type": "execute_result"
    }
   ],
   "source": [
    "stats.ttest_ind(disney_f.Hedges, dw_f.Hedges, equal_var=False) #nope"
   ]
  },
  {
   "cell_type": "code",
   "execution_count": 59,
   "metadata": {},
   "outputs": [
    {
     "data": {
      "text/plain": [
       "Ttest_indResult(statistic=-1.0057762192837578, pvalue=0.3145523594115714)"
      ]
     },
     "execution_count": 59,
     "metadata": {},
     "output_type": "execute_result"
    }
   ],
   "source": [
    "stats.ttest_ind(disney_m.Hedges, dw_m.Hedges, equal_var=False) #nope"
   ]
  },
  {
   "cell_type": "code",
   "execution_count": 60,
   "metadata": {},
   "outputs": [
    {
     "data": {
      "text/plain": [
       "Ttest_indResult(statistic=1.8193724786492282, pvalue=0.06898961209844319)"
      ]
     },
     "execution_count": 60,
     "metadata": {},
     "output_type": "execute_result"
    }
   ],
   "source": [
    "stats.ttest_ind(dw_m.Hedges, dw_f.Hedges, equal_var=False) #nope (but closer)\n",
    "#slightly fewer hedges for female Dreamworks characters"
   ]
  },
  {
   "cell_type": "markdown",
   "metadata": {},
   "source": [
    "There are no significant differences based on gender across companies. What about role across companies?"
   ]
  },
  {
   "cell_type": "code",
   "execution_count": 61,
   "metadata": {},
   "outputs": [],
   "source": [
    "disney_pro = movies_role_df[(movies_role_df.Role == 'PRO') & (movies_role_df.Disney_Period != 'DREAMWORKS')]\n",
    "disney_ant = movies_role_df[(movies_role_df.Role == 'ANT') & (movies_role_df.Disney_Period != 'DREAMWORKS')]\n",
    "dw_pro = movies_role_df[(movies_role_df.Role == 'PRO') & (movies_role_df.Disney_Period == 'DREAMWORKS')]\n",
    "dw_ant = movies_role_df[(movies_role_df.Role == 'ANT') & (movies_role_df.Disney_Period == 'DREAMWORKS')]"
   ]
  },
  {
   "cell_type": "code",
   "execution_count": 62,
   "metadata": {},
   "outputs": [
    {
     "data": {
      "text/plain": [
       "Ttest_indResult(statistic=0.8490117171303687, pvalue=0.39595950024822624)"
      ]
     },
     "execution_count": 62,
     "metadata": {},
     "output_type": "execute_result"
    }
   ],
   "source": [
    "stats.ttest_ind(disney_pro.Hedges, disney_ant.Hedges, equal_var=False) # no significant difference"
   ]
  },
  {
   "cell_type": "code",
   "execution_count": 63,
   "metadata": {},
   "outputs": [
    {
     "data": {
      "text/plain": [
       "Ttest_indResult(statistic=-1.5261224931344504, pvalue=0.12703518983467532)"
      ]
     },
     "execution_count": 63,
     "metadata": {},
     "output_type": "execute_result"
    }
   ],
   "source": [
    "stats.ttest_ind(disney_pro.Hedges, dw_pro.Hedges, equal_var=False) #nope"
   ]
  },
  {
   "cell_type": "code",
   "execution_count": 64,
   "metadata": {},
   "outputs": [
    {
     "data": {
      "text/plain": [
       "Ttest_indResult(statistic=1.3526068416036885, pvalue=0.1763372836862861)"
      ]
     },
     "execution_count": 64,
     "metadata": {},
     "output_type": "execute_result"
    }
   ],
   "source": [
    "stats.ttest_ind(disney_ant.Hedges, dw_ant.Hedges, equal_var=False) #nope"
   ]
  },
  {
   "cell_type": "code",
   "execution_count": 65,
   "metadata": {},
   "outputs": [
    {
     "data": {
      "text/plain": [
       "Ttest_indResult(statistic=3.5173173882639257, pvalue=0.0004461956874139189)"
      ]
     },
     "execution_count": 65,
     "metadata": {},
     "output_type": "execute_result"
    }
   ],
   "source": [
    "stats.ttest_ind(dw_pro.Hedges, dw_ant.Hedges, equal_var=False) #YES!\n",
    "#Dreamworks antagonists use fewer hedges than Dreamworks protagonists"
   ]
  },
  {
   "cell_type": "markdown",
   "metadata": {},
   "source": [
    "Overall, disney antagonists use fewer hedges than dreamworks protagonists!"
   ]
  },
  {
   "cell_type": "markdown",
   "metadata": {},
   "source": [
    "#### Gender and Role Over Time?"
   ]
  },
  {
   "cell_type": "code",
   "execution_count": 66,
   "metadata": {},
   "outputs": [],
   "source": [
    "early_pro_f = pro_f[pro_f.Disney_Period == 'EARLY']\n",
    "early_pro_m = pro_m[pro_m.Disney_Period == 'EARLY']\n",
    "early_ant_f = ant_f[ant_f.Disney_Period == 'EARLY']\n",
    "early_ant_m = ant_m[ant_m.Disney_Period == 'EARLY']\n",
    "mid_pro_f = pro_f[pro_f.Disney_Period == 'MID']\n",
    "mid_pro_m = pro_m[pro_m.Disney_Period == 'MID']\n",
    "mid_ant_f = ant_f[ant_f.Disney_Period == 'MID']\n",
    "mid_ant_m = ant_m[ant_m.Disney_Period == 'MID']\n",
    "late_pro_f = pro_f[pro_f.Disney_Period == 'LATE']\n",
    "late_pro_m = pro_m[pro_m.Disney_Period == 'LATE']\n",
    "late_ant_f = ant_f[ant_f.Disney_Period == 'LATE']\n",
    "late_ant_m = ant_m[ant_m.Disney_Period == 'LATE']"
   ]
  },
  {
   "cell_type": "code",
   "execution_count": 67,
   "metadata": {},
   "outputs": [
    {
     "data": {
      "text/plain": [
       "F_onewayResult(statistic=12.652822801092597, pvalue=3.484117574777012e-06)"
      ]
     },
     "execution_count": 67,
     "metadata": {},
     "output_type": "execute_result"
    }
   ],
   "source": [
    "#Female protagonists over time\n",
    "stats.f_oneway(early_pro_f.Hedges, mid_pro_f.Hedges, late_pro_f.Hedges) #BIG DIFF!"
   ]
  },
  {
   "cell_type": "code",
   "execution_count": 68,
   "metadata": {},
   "outputs": [
    {
     "data": {
      "text/plain": [
       "Ttest_indResult(statistic=3.0121236492995873, pvalue=0.0028262890432808204)"
      ]
     },
     "execution_count": 68,
     "metadata": {},
     "output_type": "execute_result"
    }
   ],
   "source": [
    "stats.ttest_ind(early_pro_f.Hedges, mid_pro_f.Hedges, equal_var=False) #yep!"
   ]
  },
  {
   "cell_type": "code",
   "execution_count": 69,
   "metadata": {},
   "outputs": [
    {
     "data": {
      "text/plain": [
       "Ttest_indResult(statistic=3.5239181720715123, pvalue=0.0005048151598806205)"
      ]
     },
     "execution_count": 69,
     "metadata": {},
     "output_type": "execute_result"
    }
   ],
   "source": [
    "stats.ttest_ind(early_pro_f.Hedges, late_pro_f.Hedges, equal_var=False) #yep!"
   ]
  },
  {
   "cell_type": "code",
   "execution_count": 70,
   "metadata": {},
   "outputs": [
    {
     "data": {
      "text/plain": [
       "Ttest_indResult(statistic=0.9029935180295494, pvalue=0.3667234514687845)"
      ]
     },
     "execution_count": 70,
     "metadata": {},
     "output_type": "execute_result"
    }
   ],
   "source": [
    "stats.ttest_ind(mid_pro_f.Hedges, late_pro_f.Hedges, equal_var=False) #no significant difference"
   ]
  },
  {
   "cell_type": "markdown",
   "metadata": {},
   "source": [
    "Female protagonists have used fewer hedges over time"
   ]
  },
  {
   "cell_type": "code",
   "execution_count": 71,
   "metadata": {},
   "outputs": [
    {
     "data": {
      "text/plain": [
       "F_onewayResult(statistic=0.8258404676582642, pvalue=0.4381216813491221)"
      ]
     },
     "execution_count": 71,
     "metadata": {},
     "output_type": "execute_result"
    }
   ],
   "source": [
    "#Now looking at Male Protagonists over Time\n",
    "stats.f_oneway(early_pro_m.Hedges, mid_pro_m.Hedges, late_pro_m.Hedges) #nope!"
   ]
  },
  {
   "cell_type": "code",
   "execution_count": 72,
   "metadata": {},
   "outputs": [
    {
     "data": {
      "text/plain": [
       "Ttest_indResult(statistic=0.2472625465275367, pvalue=0.8061697898537192)"
      ]
     },
     "execution_count": 72,
     "metadata": {},
     "output_type": "execute_result"
    }
   ],
   "source": [
    "stats.ttest_ind(early_pro_m.Hedges, mid_pro_m.Hedges, equal_var=False) #nope!"
   ]
  },
  {
   "cell_type": "code",
   "execution_count": 73,
   "metadata": {},
   "outputs": [
    {
     "data": {
      "text/plain": [
       "Ttest_indResult(statistic=-0.14346358227971812, pvalue=0.8867271246350118)"
      ]
     },
     "execution_count": 73,
     "metadata": {},
     "output_type": "execute_result"
    }
   ],
   "source": [
    "stats.ttest_ind(early_pro_m.Hedges, late_pro_m.Hedges, equal_var=False) #nope!"
   ]
  },
  {
   "cell_type": "code",
   "execution_count": 74,
   "metadata": {},
   "outputs": [
    {
     "data": {
      "text/plain": [
       "Ttest_indResult(statistic=-1.2802018327567484, pvalue=0.20074947382480068)"
      ]
     },
     "execution_count": 74,
     "metadata": {},
     "output_type": "execute_result"
    }
   ],
   "source": [
    "stats.ttest_ind(mid_pro_m.Hedges, late_pro_m.Hedges, equal_var=False) #nope!"
   ]
  },
  {
   "cell_type": "markdown",
   "metadata": {},
   "source": [
    "Male protagonists have not changed how often they use hedges over time"
   ]
  },
  {
   "cell_type": "code",
   "execution_count": 75,
   "metadata": {},
   "outputs": [
    {
     "data": {
      "text/plain": [
       "Ttest_indResult(statistic=1.2250333335790506, pvalue=0.2263169199387521)"
      ]
     },
     "execution_count": 75,
     "metadata": {},
     "output_type": "execute_result"
    }
   ],
   "source": [
    "#Between male and female protagonists in each era!\n",
    "stats.ttest_ind(early_pro_f.Hedges, early_pro_m.Hedges, equal_var=False) #nope!"
   ]
  },
  {
   "cell_type": "code",
   "execution_count": 76,
   "metadata": {},
   "outputs": [
    {
     "data": {
      "text/plain": [
       "Ttest_indResult(statistic=-0.011337807706137355, pvalue=0.990955895187666)"
      ]
     },
     "execution_count": 76,
     "metadata": {},
     "output_type": "execute_result"
    }
   ],
   "source": [
    "stats.ttest_ind(mid_pro_f.Hedges, mid_pro_m.Hedges, equal_var=False) #nope!"
   ]
  },
  {
   "cell_type": "code",
   "execution_count": 77,
   "metadata": {},
   "outputs": [
    {
     "data": {
      "text/plain": [
       "Ttest_indResult(statistic=-2.216523936380611, pvalue=0.026902136906228856)"
      ]
     },
     "execution_count": 77,
     "metadata": {},
     "output_type": "execute_result"
    }
   ],
   "source": [
    "stats.ttest_ind(late_pro_f.Hedges, late_pro_m.Hedges, equal_var=False) #yep!"
   ]
  },
  {
   "cell_type": "markdown",
   "metadata": {},
   "source": [
    "Within each era, whether the protagonists are male or female makes no significant difference in their use of hedges EXCEPT for the late era! In the late era, female protagonists use significantly fewer hedges than male protagonists"
   ]
  },
  {
   "cell_type": "markdown",
   "metadata": {},
   "source": [
    "Between Female Antagonists over Time"
   ]
  },
  {
   "cell_type": "code",
   "execution_count": 78,
   "metadata": {},
   "outputs": [
    {
     "data": {
      "text/plain": [
       "F_onewayResult(statistic=1.3037643965792944, pvalue=0.2725739208439333)"
      ]
     },
     "execution_count": 78,
     "metadata": {},
     "output_type": "execute_result"
    }
   ],
   "source": [
    "#Female antagonists over time\n",
    "stats.f_oneway(early_ant_f.Hedges, mid_ant_f.Hedges, late_ant_f.Hedges) #NO DIFF!"
   ]
  },
  {
   "cell_type": "code",
   "execution_count": 79,
   "metadata": {},
   "outputs": [
    {
     "data": {
      "text/plain": [
       "Ttest_indResult(statistic=-0.31595171401140276, pvalue=0.7531958604556679)"
      ]
     },
     "execution_count": 79,
     "metadata": {},
     "output_type": "execute_result"
    }
   ],
   "source": [
    "stats.ttest_ind(early_ant_f.Hedges, mid_ant_f.Hedges, equal_var=False) #NO!"
   ]
  },
  {
   "cell_type": "code",
   "execution_count": 80,
   "metadata": {},
   "outputs": [
    {
     "data": {
      "text/plain": [
       "Ttest_indResult(statistic=1.4474993879594127, pvalue=0.14857302364450664)"
      ]
     },
     "execution_count": 80,
     "metadata": {},
     "output_type": "execute_result"
    }
   ],
   "source": [
    "stats.ttest_ind(early_ant_f.Hedges, late_ant_f.Hedges, equal_var=False) #NO!"
   ]
  },
  {
   "cell_type": "code",
   "execution_count": 81,
   "metadata": {},
   "outputs": [
    {
     "data": {
      "text/plain": [
       "Ttest_indResult(statistic=1.00076203073948, pvalue=0.3214449536053082)"
      ]
     },
     "execution_count": 81,
     "metadata": {},
     "output_type": "execute_result"
    }
   ],
   "source": [
    "stats.ttest_ind(mid_ant_f.Hedges, late_ant_f.Hedges, equal_var=False) #no significant difference"
   ]
  },
  {
   "cell_type": "markdown",
   "metadata": {},
   "source": [
    "Between Male Antagonists over Time"
   ]
  },
  {
   "cell_type": "code",
   "execution_count": 82,
   "metadata": {},
   "outputs": [
    {
     "data": {
      "text/plain": [
       "F_onewayResult(statistic=0.20189019254829482, pvalue=0.8172312898153247)"
      ]
     },
     "execution_count": 82,
     "metadata": {},
     "output_type": "execute_result"
    }
   ],
   "source": [
    "#Male protagonists over time\n",
    "stats.f_oneway(early_ant_m.Hedges, mid_ant_m.Hedges, late_ant_m.Hedges) #NO DIFF!"
   ]
  },
  {
   "cell_type": "code",
   "execution_count": 83,
   "metadata": {},
   "outputs": [
    {
     "data": {
      "text/plain": [
       "Ttest_indResult(statistic=-0.29815205178739274, pvalue=0.7707822031695627)"
      ]
     },
     "execution_count": 83,
     "metadata": {},
     "output_type": "execute_result"
    }
   ],
   "source": [
    "stats.ttest_ind(early_ant_m.Hedges, mid_ant_m.Hedges, equal_var=False) #NO!"
   ]
  },
  {
   "cell_type": "code",
   "execution_count": 84,
   "metadata": {},
   "outputs": [
    {
     "data": {
      "text/plain": [
       "Ttest_indResult(statistic=-0.10255770838011026, pvalue=0.9199351442931645)"
      ]
     },
     "execution_count": 84,
     "metadata": {},
     "output_type": "execute_result"
    }
   ],
   "source": [
    "stats.ttest_ind(early_ant_m.Hedges, late_ant_m.Hedges, equal_var=False) #NO!"
   ]
  },
  {
   "cell_type": "code",
   "execution_count": 85,
   "metadata": {},
   "outputs": [
    {
     "data": {
      "text/plain": [
       "Ttest_indResult(statistic=0.61545953202014, pvalue=0.5385684922465015)"
      ]
     },
     "execution_count": 85,
     "metadata": {},
     "output_type": "execute_result"
    }
   ],
   "source": [
    "stats.ttest_ind(mid_ant_m.Hedges, late_ant_m.Hedges, equal_var=False) #no significant difference"
   ]
  },
  {
   "cell_type": "markdown",
   "metadata": {},
   "source": [
    "Between Male Antagonists and Protagonists over Time"
   ]
  },
  {
   "cell_type": "code",
   "execution_count": 86,
   "metadata": {},
   "outputs": [
    {
     "data": {
      "text/plain": [
       "Ttest_indResult(statistic=0.5614045753966249, pvalue=0.578140304076032)"
      ]
     },
     "execution_count": 86,
     "metadata": {},
     "output_type": "execute_result"
    }
   ],
   "source": [
    "#Differences in Hedge Use by Male Role Over Time\n",
    "stats.ttest_ind(early_pro_m.Hedges, early_ant_m.Hedges, equal_var=False) #NO DIFF!"
   ]
  },
  {
   "cell_type": "code",
   "execution_count": 87,
   "metadata": {},
   "outputs": [
    {
     "data": {
      "text/plain": [
       "Ttest_indResult(statistic=0.8862176418871234, pvalue=0.37569871882651207)"
      ]
     },
     "execution_count": 87,
     "metadata": {},
     "output_type": "execute_result"
    }
   ],
   "source": [
    "stats.ttest_ind(mid_pro_m.Hedges, mid_ant_m.Hedges, equal_var=False) #NO!"
   ]
  },
  {
   "cell_type": "code",
   "execution_count": 88,
   "metadata": {},
   "outputs": [
    {
     "data": {
      "text/plain": [
       "Ttest_indResult(statistic=2.3719856463463365, pvalue=0.018000706458107793)"
      ]
     },
     "execution_count": 88,
     "metadata": {},
     "output_type": "execute_result"
    }
   ],
   "source": [
    "stats.ttest_ind(late_pro_m.Hedges, late_ant_m.Hedges, equal_var=False) #yep!"
   ]
  },
  {
   "cell_type": "markdown",
   "metadata": {},
   "source": [
    "Male protagonists are hedging way more than male antagonists in the late period"
   ]
  },
  {
   "cell_type": "markdown",
   "metadata": {},
   "source": [
    "Between Female Antagonists and Protagonists Over Time"
   ]
  },
  {
   "cell_type": "code",
   "execution_count": 89,
   "metadata": {},
   "outputs": [
    {
     "data": {
      "text/plain": [
       "Ttest_indResult(statistic=1.4490076617766339, pvalue=0.14812366167355862)"
      ]
     },
     "execution_count": 89,
     "metadata": {},
     "output_type": "execute_result"
    }
   ],
   "source": [
    "#Differences in Hedge Use by Female Role Over Time\n",
    "stats.ttest_ind(early_pro_f.Hedges, early_ant_f.Hedges, equal_var=False) #NO DIFF!"
   ]
  },
  {
   "cell_type": "code",
   "execution_count": 90,
   "metadata": {},
   "outputs": [
    {
     "data": {
      "text/plain": [
       "Ttest_indResult(statistic=-1.0259178734335812, pvalue=0.31015000881579863)"
      ]
     },
     "execution_count": 90,
     "metadata": {},
     "output_type": "execute_result"
    }
   ],
   "source": [
    "stats.ttest_ind(mid_pro_f.Hedges, mid_ant_f.Hedges, equal_var=False) #NO!"
   ]
  },
  {
   "cell_type": "code",
   "execution_count": 91,
   "metadata": {},
   "outputs": [
    {
     "data": {
      "text/plain": [
       "Ttest_indResult(statistic=-0.5844555435884148, pvalue=0.55942973446435)"
      ]
     },
     "execution_count": 91,
     "metadata": {},
     "output_type": "execute_result"
    }
   ],
   "source": [
    "stats.ttest_ind(late_pro_f.Hedges, late_ant_f.Hedges, equal_var=False) #NO!"
   ]
  },
  {
   "cell_type": "markdown",
   "metadata": {},
   "source": [
    "Between Female Antagonists and Male Antagonists over Time:"
   ]
  },
  {
   "cell_type": "code",
   "execution_count": 92,
   "metadata": {},
   "outputs": [
    {
     "data": {
      "text/plain": [
       "Ttest_indResult(statistic=1.2121514634083763, pvalue=0.24448107546200057)"
      ]
     },
     "execution_count": 92,
     "metadata": {},
     "output_type": "execute_result"
    }
   ],
   "source": [
    "#Between male and female antagonists in each era!\n",
    "stats.ttest_ind(early_ant_f.Hedges, early_ant_m.Hedges, equal_var=False) #nope!"
   ]
  },
  {
   "cell_type": "code",
   "execution_count": 93,
   "metadata": {},
   "outputs": [
    {
     "data": {
      "text/plain": [
       "Ttest_indResult(statistic=1.2539533031171692, pvalue=0.21610027210517013)"
      ]
     },
     "execution_count": 93,
     "metadata": {},
     "output_type": "execute_result"
    }
   ],
   "source": [
    "stats.ttest_ind(mid_ant_f.Hedges, mid_ant_m.Hedges, equal_var=False) #nope!"
   ]
  },
  {
   "cell_type": "code",
   "execution_count": 94,
   "metadata": {},
   "outputs": [
    {
     "data": {
      "text/plain": [
       "Ttest_indResult(statistic=1.0017480871923357, pvalue=0.3171419240973086)"
      ]
     },
     "execution_count": 94,
     "metadata": {},
     "output_type": "execute_result"
    }
   ],
   "source": [
    "stats.ttest_ind(late_ant_f.Hedges, late_ant_m.Hedges, equal_var=False) #NOPE!"
   ]
  },
  {
   "cell_type": "markdown",
   "metadata": {},
   "source": [
    "Within each era, whether the antagonist is male or female makes no difference in hedge use."
   ]
  },
  {
   "cell_type": "code",
   "execution_count": null,
   "metadata": {},
   "outputs": [],
   "source": []
  }
 ],
 "metadata": {
  "kernelspec": {
   "display_name": "Python 3",
   "language": "python",
   "name": "python3"
  },
  "language_info": {
   "codemirror_mode": {
    "name": "ipython",
    "version": 3
   },
   "file_extension": ".py",
   "mimetype": "text/x-python",
   "name": "python",
   "nbconvert_exporter": "python",
   "pygments_lexer": "ipython3",
   "version": "3.6.4"
  }
 },
 "nbformat": 4,
 "nbformat_minor": 2
}
