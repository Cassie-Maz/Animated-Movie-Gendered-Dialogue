{
 "cells": [
  {
   "cell_type": "markdown",
   "metadata": {},
   "source": [
    "## Total Token/Type Stats per Character\n",
    "Because lines are so short, and therefore not necessarily informative in terms of ttr and k-band, here I will group together a characters total token/type count (in terms of dialogue only)\n",
    "\n",
    "Note: this code uses the pkl file created [here](https://github.com/Data-Science-for-Linguists-2019/Animated-Movie-Gendered-Dialogue/blob/master/code/Analysis_code/All_Movies_Analysis_Basic.ipynb)\n",
    "\n",
    "This file creates a new dataframe, which is marked with TTR and further analyzed [here](https://github.com/Data-Science-for-Linguists-2019/Animated-Movie-Gendered-Dialogue/blob/master/code/Analysis_code/Tok_Type_TTR_Analysis.ipynb)"
   ]
  },
  {
   "cell_type": "code",
   "execution_count": 1,
   "metadata": {},
   "outputs": [],
   "source": [
    "#importing my pickle file\n",
    "import pandas as pd"
   ]
  },
  {
   "cell_type": "code",
   "execution_count": 2,
   "metadata": {},
   "outputs": [],
   "source": [
    "movie_df = pd.read_pickle(r\"C:/Users/cassi/Desktop/Data_Science/Animated-Movie-Gendered-Dialogue/private/all_movies_toktype.pkl\")"
   ]
  },
  {
   "cell_type": "code",
   "execution_count": 3,
   "metadata": {},
   "outputs": [
    {
     "name": "stdout",
     "output_type": "stream",
     "text": [
      "<class 'pandas.core.frame.DataFrame'>\n",
      "RangeIndex: 14096 entries, 0 to 14095\n",
      "Data columns (total 14 columns):\n",
      "Disney_Period       14096 non-null object\n",
      "Gender              14096 non-null object\n",
      "Movie               14096 non-null object\n",
      "Role                14096 non-null object\n",
      "Song                14096 non-null object\n",
      "Speaker             14096 non-null object\n",
      "Speaker_Status      14096 non-null object\n",
      "Text                14096 non-null object\n",
      "UTTERANCE_NUMBER    14096 non-null int64\n",
      "Year                14096 non-null int64\n",
      "Tokens              14096 non-null object\n",
      "Types               14096 non-null object\n",
      "Token_Count         14096 non-null int64\n",
      "Type_Count          14096 non-null int64\n",
      "dtypes: int64(4), object(10)\n",
      "memory usage: 991.2+ KB\n"
     ]
    }
   ],
   "source": [
    "movie_df.info()"
   ]
  },
  {
   "cell_type": "code",
   "execution_count": 4,
   "metadata": {},
   "outputs": [],
   "source": [
    "movie_df = movie_df[movie_df.Song == 'D']"
   ]
  },
  {
   "cell_type": "code",
   "execution_count": 5,
   "metadata": {},
   "outputs": [
    {
     "name": "stdout",
     "output_type": "stream",
     "text": [
      "<class 'pandas.core.frame.DataFrame'>\n",
      "Int64Index: 13450 entries, 0 to 14095\n",
      "Data columns (total 14 columns):\n",
      "Disney_Period       13450 non-null object\n",
      "Gender              13450 non-null object\n",
      "Movie               13450 non-null object\n",
      "Role                13450 non-null object\n",
      "Song                13450 non-null object\n",
      "Speaker             13450 non-null object\n",
      "Speaker_Status      13450 non-null object\n",
      "Text                13450 non-null object\n",
      "UTTERANCE_NUMBER    13450 non-null int64\n",
      "Year                13450 non-null int64\n",
      "Tokens              13450 non-null object\n",
      "Types               13450 non-null object\n",
      "Token_Count         13450 non-null int64\n",
      "Type_Count          13450 non-null int64\n",
      "dtypes: int64(4), object(10)\n",
      "memory usage: 1.0+ MB\n"
     ]
    }
   ],
   "source": [
    "movie_df.info()"
   ]
  },
  {
   "cell_type": "code",
   "execution_count": 6,
   "metadata": {},
   "outputs": [
    {
     "name": "stdout",
     "output_type": "stream",
     "text": [
      "Movie:Snow White\n",
      "Snow White complete!\n",
      "This many characters captured! 15\n",
      "1\n",
      "Movie:Cinderella\n",
      "Cinderella complete!\n",
      "This many characters captured! 24\n",
      "2\n",
      "Movie:Sleeping Beauty\n",
      "Sleeping Beauty complete!\n",
      "This many characters captured! 16\n",
      "3\n",
      "Movie:The Little Mermaid\n",
      "The Little Mermaid complete!\n",
      "This many characters captured! 24\n",
      "4\n",
      "Movie:Aladdin\n",
      "Aladdin complete!\n",
      "This many characters captured! 28\n",
      "5\n",
      "Movie:Beauty and the Beast\n",
      "Beauty and the Beast complete!\n",
      "This many characters captured! 28\n",
      "6\n",
      "Movie:Pocahontas\n",
      "Pocahontas complete!\n",
      "This many characters captured! 17\n",
      "7\n",
      "Movie:Mulan\n",
      "Mulan complete!\n",
      "This many characters captured! 42\n",
      "8\n",
      "Movie:The Princess and the Frog\n",
      "The Princess and the Frog complete!\n",
      "This many characters captured! 39\n",
      "9\n",
      "Movie:Brave\n",
      "Brave complete!\n",
      "This many characters captured! 12\n",
      "10\n",
      "Movie:Moana\n",
      "Moana complete!\n",
      "This many characters captured! 19\n",
      "11\n",
      "Movie:Tangled\n",
      "Tangled complete!\n",
      "This many characters captured! 16\n",
      "12\n",
      "Movie:Frozen\n",
      "Frozen complete!\n",
      "This many characters captured! 60\n",
      "13\n",
      "Movie:Antz\n",
      "Antz complete!\n",
      "This many characters captured! 56\n",
      "14\n",
      "Movie:Shrek\n",
      "Shrek complete!\n",
      "This many characters captured! 36\n",
      "15\n",
      "Movie:Shrek 3\n",
      "Shrek 3 complete!\n",
      "This many characters captured! 70\n",
      "16\n",
      "Movie:Kung Fu Panda\n",
      "Kung Fu Panda complete!\n",
      "This many characters captured! 30\n",
      "17\n",
      "Movie:How to Train Your Dragon\n",
      "How to Train Your Dragon complete!\n",
      "This many characters captured! 27\n",
      "18\n",
      "Movie:Megamind\n",
      "Megamind complete!\n",
      "This many characters captured! 14\n",
      "19\n",
      "Movie:Rise of the Guardians\n",
      "Rise of the Guardians complete!\n",
      "This many characters captured! 28\n",
      "20\n",
      "Movie:The Croods\n",
      "The Croods complete!\n",
      "This many characters captured! 12\n",
      "21\n",
      "Movie:How to Train Your Dragon 2\n",
      "How to Train Your Dragon 2 complete!\n",
      "This many characters captured! 19\n",
      "22\n"
     ]
    }
   ],
   "source": [
    "char_toks_df = pd.DataFrame(columns=[\"Disney_Period\", \"Gender\", \"Movie\", \"Role\", \"Speaker\", \"Speaker_Status\", \"Year\"])\n",
    "counter = 0\n",
    "for movie in movie_df.Movie.unique():\n",
    "    movie_data = movie_df[movie_df.Movie == movie]\n",
    "    print(\"Movie:\"+movie)\n",
    "    char_count = 0\n",
    "    for char in movie_data.Speaker.unique():\n",
    "        char_data = movie_data[movie_data.Speaker == char]\n",
    "        all_toks = char_data['Tokens']\n",
    "        all_toks_count = char_data['Token_Count'].sum()\n",
    "        total_toks_list = all_toks.sum()\n",
    "        char_movie_data = pd.DataFrame([char_data.iloc[0]])\n",
    "        char_movie_data['Total_Toks'] = [total_toks_list]\n",
    "        char_movie_data['Total_Tok_Count'] = all_toks_count\n",
    "        #Now for Types--just create a set of the big list instead of combining all sets\n",
    "        char_movie_data['Total_Types'] = [set(total_toks_list)]\n",
    "        char_movie_data['Total_Type_Count'] = len(set(total_toks_list))\n",
    "        char_movie_data.drop(labels=['Song', 'Text', 'UTTERANCE_NUMBER', 'Tokens', 'Token_Count', 'Types', 'Type_Count'],\n",
    "                             axis=1, inplace=True)\n",
    "        char_toks_df = pd.concat([char_toks_df, char_movie_data], axis=0, sort=True, ignore_index = True)\n",
    "        char_count+=1\n",
    "    counter +=1    \n",
    "    print(movie, 'complete!')\n",
    "    print(\"This many characters captured!\", char_count)\n",
    "    print(counter)"
   ]
  },
  {
   "cell_type": "code",
   "execution_count": 7,
   "metadata": {},
   "outputs": [
    {
     "data": {
      "text/plain": [
       "22"
      ]
     },
     "execution_count": 7,
     "metadata": {},
     "output_type": "execute_result"
    }
   ],
   "source": [
    "len(movie_df.Movie.unique()) #all movies done!"
   ]
  },
  {
   "cell_type": "code",
   "execution_count": 8,
   "metadata": {},
   "outputs": [
    {
     "data": {
      "text/plain": [
       "Movie\n",
       "Snow White                    15\n",
       "Cinderella                    24\n",
       "Sleeping Beauty               16\n",
       "The Little Mermaid            24\n",
       "Aladdin                       28\n",
       "Beauty and the Beast          28\n",
       "Pocahontas                    17\n",
       "Mulan                         42\n",
       "The Princess and the Frog     39\n",
       "Brave                         12\n",
       "Moana                         19\n",
       "Tangled                       16\n",
       "Frozen                        60\n",
       "Antz                          56\n",
       "Shrek                         36\n",
       "Shrek 3                       70\n",
       "Kung Fu Panda                 30\n",
       "How to Train Your Dragon      27\n",
       "Megamind                      14\n",
       "Rise of the Guardians         28\n",
       "The Croods                    12\n",
       "How to Train Your Dragon 2    19\n",
       "Name: Speaker, dtype: int64"
      ]
     },
     "execution_count": 8,
     "metadata": {},
     "output_type": "execute_result"
    }
   ],
   "source": [
    "#did we get all the characters?\n",
    "movie_df.groupby('Movie', sort=False)['Speaker'].unique().map(len)\n",
    "#number match up!!!"
   ]
  },
  {
   "cell_type": "markdown",
   "metadata": {},
   "source": [
    "Now that we have this info by character, let's save it!"
   ]
  },
  {
   "cell_type": "code",
   "execution_count": 9,
   "metadata": {},
   "outputs": [
    {
     "data": {
      "text/plain": [
       "(632, 11)"
      ]
     },
     "execution_count": 9,
     "metadata": {},
     "output_type": "execute_result"
    }
   ],
   "source": [
    "char_toks_df.shape #total number of unique characters = 632"
   ]
  },
  {
   "cell_type": "code",
   "execution_count": 10,
   "metadata": {},
   "outputs": [
    {
     "data": {
      "text/plain": [
       "632"
      ]
     },
     "execution_count": 10,
     "metadata": {},
     "output_type": "execute_result"
    }
   ],
   "source": [
    "movie_df.groupby('Movie', sort=False)['Speaker'].unique().map(len).sum() #lol, double-double check!"
   ]
  },
  {
   "cell_type": "code",
   "execution_count": 11,
   "metadata": {},
   "outputs": [],
   "source": [
    "char_toks_df.to_pickle(r\"C:\\Users\\cassi\\Desktop\\Data_Science\\Animated-Movie-Gendered-Dialogue\\private\\char_toks.pkl\")"
   ]
  },
  {
   "cell_type": "code",
   "execution_count": null,
   "metadata": {},
   "outputs": [],
   "source": []
  }
 ],
 "metadata": {
  "kernelspec": {
   "display_name": "Python 3",
   "language": "python",
   "name": "python3"
  },
  "language_info": {
   "codemirror_mode": {
    "name": "ipython",
    "version": 3
   },
   "file_extension": ".py",
   "mimetype": "text/x-python",
   "name": "python",
   "nbconvert_exporter": "python",
   "pygments_lexer": "ipython3",
   "version": "3.6.4"
  }
 },
 "nbformat": 4,
 "nbformat_minor": 2
}
