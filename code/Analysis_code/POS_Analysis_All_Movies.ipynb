{
 "cells": [
  {
   "cell_type": "markdown",
   "metadata": {},
   "source": [
    "# Parts of Speech\n",
    "Parts of Speech will play a big role in how several questions I'm exploring--like adjective counts and command counts. In the code below, I tag every line with parts of speech and add an adjectives column.\n",
    "Do female speakers really tend to use more adjectives (flowery language)? How many commands do they use.\n",
    "\n",
    "For this analysis, I use the [PennTreebank POS Tagger](https://www.ling.upenn.edu/courses/Fall_2003/ling001/penn_treebank_pos.html)."
   ]
  },
  {
   "cell_type": "code",
   "execution_count": 1,
   "metadata": {},
   "outputs": [],
   "source": [
    "import pandas as pd\n",
    "import nltk"
   ]
  },
  {
   "cell_type": "code",
   "execution_count": 2,
   "metadata": {},
   "outputs": [],
   "source": [
    "from matplotlib import pyplot as plt"
   ]
  },
  {
   "cell_type": "code",
   "execution_count": 3,
   "metadata": {},
   "outputs": [
    {
     "name": "stdout",
     "output_type": "stream",
     "text": [
      "Pretty printing has been turned OFF\n"
     ]
    }
   ],
   "source": [
    "%pprint"
   ]
  },
  {
   "cell_type": "code",
   "execution_count": 4,
   "metadata": {},
   "outputs": [],
   "source": [
    "movie_df = pd.read_pickle(r\"C:/Users/cassi/Desktop/Data_Science/Animated-Movie-Gendered-Dialogue/private/all_dialogue_toktypes.pkl\")"
   ]
  },
  {
   "cell_type": "code",
   "execution_count": 5,
   "metadata": {},
   "outputs": [
    {
     "name": "stdout",
     "output_type": "stream",
     "text": [
      "<class 'pandas.core.frame.DataFrame'>\n",
      "RangeIndex: 13442 entries, 0 to 13441\n",
      "Data columns (total 14 columns):\n",
      "Disney_Period       13442 non-null object\n",
      "Gender              13442 non-null object\n",
      "Movie               13442 non-null object\n",
      "Role                13442 non-null object\n",
      "Song                13442 non-null object\n",
      "Speaker             13442 non-null object\n",
      "Speaker_Status      13442 non-null object\n",
      "Text                13442 non-null object\n",
      "UTTERANCE_NUMBER    13442 non-null int64\n",
      "Year                13442 non-null int64\n",
      "Tokens              13442 non-null object\n",
      "Types               13442 non-null object\n",
      "Token_Count         13442 non-null int64\n",
      "Type_Count          13442 non-null int64\n",
      "dtypes: int64(4), object(10)\n",
      "memory usage: 945.2+ KB\n"
     ]
    }
   ],
   "source": [
    "movie_df.info()"
   ]
  },
  {
   "cell_type": "code",
   "execution_count": 6,
   "metadata": {},
   "outputs": [],
   "source": [
    "movie_df['POS'] = movie_df[\"Tokens\"].map(nltk.pos_tag)"
   ]
  },
  {
   "cell_type": "code",
   "execution_count": 7,
   "metadata": {},
   "outputs": [
    {
     "data": {
      "text/html": [
       "<div>\n",
       "<style scoped>\n",
       "    .dataframe tbody tr th:only-of-type {\n",
       "        vertical-align: middle;\n",
       "    }\n",
       "\n",
       "    .dataframe tbody tr th {\n",
       "        vertical-align: top;\n",
       "    }\n",
       "\n",
       "    .dataframe thead th {\n",
       "        text-align: right;\n",
       "    }\n",
       "</style>\n",
       "<table border=\"1\" class=\"dataframe\">\n",
       "  <thead>\n",
       "    <tr style=\"text-align: right;\">\n",
       "      <th></th>\n",
       "      <th>Disney_Period</th>\n",
       "      <th>Gender</th>\n",
       "      <th>Movie</th>\n",
       "      <th>Role</th>\n",
       "      <th>Song</th>\n",
       "      <th>Speaker</th>\n",
       "      <th>Speaker_Status</th>\n",
       "      <th>Text</th>\n",
       "      <th>UTTERANCE_NUMBER</th>\n",
       "      <th>Year</th>\n",
       "      <th>Tokens</th>\n",
       "      <th>Types</th>\n",
       "      <th>Token_Count</th>\n",
       "      <th>Type_Count</th>\n",
       "      <th>POS</th>\n",
       "    </tr>\n",
       "  </thead>\n",
       "  <tbody>\n",
       "    <tr>\n",
       "      <th>0</th>\n",
       "      <td>EARLY</td>\n",
       "      <td>f</td>\n",
       "      <td>Snow White</td>\n",
       "      <td>ANT</td>\n",
       "      <td>D</td>\n",
       "      <td>queen</td>\n",
       "      <td>NON-P</td>\n",
       "      <td>slave in the magic mirror come from the farthe...</td>\n",
       "      <td>1</td>\n",
       "      <td>1937</td>\n",
       "      <td>[slave, in, the, magic, mirror, come, from, th...</td>\n",
       "      <td>{!, and, speak, let, from, come, summon, me, f...</td>\n",
       "      <td>26</td>\n",
       "      <td>24</td>\n",
       "      <td>[(slave, NN), (in, IN), (the, DT), (magic, JJ)...</td>\n",
       "    </tr>\n",
       "    <tr>\n",
       "      <th>1</th>\n",
       "      <td>EARLY</td>\n",
       "      <td>m</td>\n",
       "      <td>Snow White</td>\n",
       "      <td>ANT</td>\n",
       "      <td>D</td>\n",
       "      <td>mirror</td>\n",
       "      <td>NON-P</td>\n",
       "      <td>what wouldst thou know, my queen ?</td>\n",
       "      <td>2</td>\n",
       "      <td>1937</td>\n",
       "      <td>[what, wouldst, thou, know, ,, my, queen, ?]</td>\n",
       "      <td>{queen, know, what, wouldst, ?, my, thou, ,}</td>\n",
       "      <td>8</td>\n",
       "      <td>8</td>\n",
       "      <td>[(what, WP), (wouldst, VBZ), (thou, NN), (know...</td>\n",
       "    </tr>\n",
       "    <tr>\n",
       "      <th>2</th>\n",
       "      <td>EARLY</td>\n",
       "      <td>f</td>\n",
       "      <td>Snow White</td>\n",
       "      <td>ANT</td>\n",
       "      <td>D</td>\n",
       "      <td>queen</td>\n",
       "      <td>NON-P</td>\n",
       "      <td>magic mirror on the wall, who is the fairest o...</td>\n",
       "      <td>3</td>\n",
       "      <td>1937</td>\n",
       "      <td>[magic, mirror, on, the, wall, ,, who, is, the...</td>\n",
       "      <td>{wall, one, fairest, mirror, the, magic, who, ...</td>\n",
       "      <td>14</td>\n",
       "      <td>13</td>\n",
       "      <td>[(magic, JJ), (mirror, NN), (on, IN), (the, DT...</td>\n",
       "    </tr>\n",
       "    <tr>\n",
       "      <th>3</th>\n",
       "      <td>EARLY</td>\n",
       "      <td>m</td>\n",
       "      <td>Snow White</td>\n",
       "      <td>ANT</td>\n",
       "      <td>D</td>\n",
       "      <td>mirror</td>\n",
       "      <td>NON-P</td>\n",
       "      <td>famed is thy beauty, majesty. but hold, a love...</td>\n",
       "      <td>4</td>\n",
       "      <td>1937</td>\n",
       "      <td>[famed, is, thy, beauty, ,, majesty, ., but, h...</td>\n",
       "      <td>{maid, alas, fair, famed, her, gentle, is, hid...</td>\n",
       "      <td>33</td>\n",
       "      <td>27</td>\n",
       "      <td>[(famed, VBN), (is, VBZ), (thy, JJ), (beauty, ...</td>\n",
       "    </tr>\n",
       "    <tr>\n",
       "      <th>4</th>\n",
       "      <td>EARLY</td>\n",
       "      <td>f</td>\n",
       "      <td>Snow White</td>\n",
       "      <td>ANT</td>\n",
       "      <td>D</td>\n",
       "      <td>queen</td>\n",
       "      <td>NON-P</td>\n",
       "      <td>alas for her ! reveal her name.</td>\n",
       "      <td>5</td>\n",
       "      <td>1937</td>\n",
       "      <td>[alas, for, her, !, reveal, her, name, .]</td>\n",
       "      <td>{!, alas, name, her, reveal, ., for}</td>\n",
       "      <td>8</td>\n",
       "      <td>7</td>\n",
       "      <td>[(alas, NN), (for, IN), (her, PRP$), (!, .), (...</td>\n",
       "    </tr>\n",
       "  </tbody>\n",
       "</table>\n",
       "</div>"
      ],
      "text/plain": [
       "  Disney_Period Gender       Movie Role Song Speaker Speaker_Status  \\\n",
       "0         EARLY      f  Snow White  ANT    D   queen          NON-P   \n",
       "1         EARLY      m  Snow White  ANT    D  mirror          NON-P   \n",
       "2         EARLY      f  Snow White  ANT    D   queen          NON-P   \n",
       "3         EARLY      m  Snow White  ANT    D  mirror          NON-P   \n",
       "4         EARLY      f  Snow White  ANT    D   queen          NON-P   \n",
       "\n",
       "                                                Text  UTTERANCE_NUMBER  Year  \\\n",
       "0  slave in the magic mirror come from the farthe...                 1  1937   \n",
       "1                what wouldst thou know, my queen ?                  2  1937   \n",
       "2  magic mirror on the wall, who is the fairest o...                 3  1937   \n",
       "3  famed is thy beauty, majesty. but hold, a love...                 4  1937   \n",
       "4                   alas for her ! reveal her name.                  5  1937   \n",
       "\n",
       "                                              Tokens  \\\n",
       "0  [slave, in, the, magic, mirror, come, from, th...   \n",
       "1       [what, wouldst, thou, know, ,, my, queen, ?]   \n",
       "2  [magic, mirror, on, the, wall, ,, who, is, the...   \n",
       "3  [famed, is, thy, beauty, ,, majesty, ., but, h...   \n",
       "4          [alas, for, her, !, reveal, her, name, .]   \n",
       "\n",
       "                                               Types  Token_Count  Type_Count  \\\n",
       "0  {!, and, speak, let, from, come, summon, me, f...           26          24   \n",
       "1       {queen, know, what, wouldst, ?, my, thou, ,}            8           8   \n",
       "2  {wall, one, fairest, mirror, the, magic, who, ...           14          13   \n",
       "3  {maid, alas, fair, famed, her, gentle, is, hid...           33          27   \n",
       "4               {!, alas, name, her, reveal, ., for}            8           7   \n",
       "\n",
       "                                                 POS  \n",
       "0  [(slave, NN), (in, IN), (the, DT), (magic, JJ)...  \n",
       "1  [(what, WP), (wouldst, VBZ), (thou, NN), (know...  \n",
       "2  [(magic, JJ), (mirror, NN), (on, IN), (the, DT...  \n",
       "3  [(famed, VBN), (is, VBZ), (thy, JJ), (beauty, ...  \n",
       "4  [(alas, NN), (for, IN), (her, PRP$), (!, .), (...  "
      ]
     },
     "execution_count": 7,
     "metadata": {},
     "output_type": "execute_result"
    }
   ],
   "source": [
    "movie_df.head()"
   ]
  },
  {
   "cell_type": "code",
   "execution_count": 8,
   "metadata": {},
   "outputs": [],
   "source": [
    "movie_df['Tag_Freq'] = movie_df['POS'].map(lambda x: nltk.FreqDist(tag for (word, tag) in x))"
   ]
  },
  {
   "cell_type": "code",
   "execution_count": 9,
   "metadata": {
    "scrolled": true
   },
   "outputs": [
    {
     "data": {
      "text/html": [
       "<div>\n",
       "<style scoped>\n",
       "    .dataframe tbody tr th:only-of-type {\n",
       "        vertical-align: middle;\n",
       "    }\n",
       "\n",
       "    .dataframe tbody tr th {\n",
       "        vertical-align: top;\n",
       "    }\n",
       "\n",
       "    .dataframe thead th {\n",
       "        text-align: right;\n",
       "    }\n",
       "</style>\n",
       "<table border=\"1\" class=\"dataframe\">\n",
       "  <thead>\n",
       "    <tr style=\"text-align: right;\">\n",
       "      <th></th>\n",
       "      <th>Disney_Period</th>\n",
       "      <th>Gender</th>\n",
       "      <th>Movie</th>\n",
       "      <th>Role</th>\n",
       "      <th>Song</th>\n",
       "      <th>Speaker</th>\n",
       "      <th>Speaker_Status</th>\n",
       "      <th>Text</th>\n",
       "      <th>UTTERANCE_NUMBER</th>\n",
       "      <th>Year</th>\n",
       "      <th>Tokens</th>\n",
       "      <th>Types</th>\n",
       "      <th>Token_Count</th>\n",
       "      <th>Type_Count</th>\n",
       "      <th>POS</th>\n",
       "      <th>Tag_Freq</th>\n",
       "    </tr>\n",
       "  </thead>\n",
       "  <tbody>\n",
       "    <tr>\n",
       "      <th>0</th>\n",
       "      <td>EARLY</td>\n",
       "      <td>f</td>\n",
       "      <td>Snow White</td>\n",
       "      <td>ANT</td>\n",
       "      <td>D</td>\n",
       "      <td>queen</td>\n",
       "      <td>NON-P</td>\n",
       "      <td>slave in the magic mirror come from the farthe...</td>\n",
       "      <td>1</td>\n",
       "      <td>1937</td>\n",
       "      <td>[slave, in, the, magic, mirror, come, from, th...</td>\n",
       "      <td>{!, and, speak, let, from, come, summon, me, f...</td>\n",
       "      <td>26</td>\n",
       "      <td>24</td>\n",
       "      <td>[(slave, NN), (in, IN), (the, DT), (magic, JJ)...</td>\n",
       "      <td>{'NN': 9, 'IN': 3, 'DT': 2, 'JJ': 2, 'VBN': 1,...</td>\n",
       "    </tr>\n",
       "    <tr>\n",
       "      <th>1</th>\n",
       "      <td>EARLY</td>\n",
       "      <td>m</td>\n",
       "      <td>Snow White</td>\n",
       "      <td>ANT</td>\n",
       "      <td>D</td>\n",
       "      <td>mirror</td>\n",
       "      <td>NON-P</td>\n",
       "      <td>what wouldst thou know, my queen ?</td>\n",
       "      <td>2</td>\n",
       "      <td>1937</td>\n",
       "      <td>[what, wouldst, thou, know, ,, my, queen, ?]</td>\n",
       "      <td>{queen, know, what, wouldst, ?, my, thou, ,}</td>\n",
       "      <td>8</td>\n",
       "      <td>8</td>\n",
       "      <td>[(what, WP), (wouldst, VBZ), (thou, NN), (know...</td>\n",
       "      <td>{'WP': 1, 'VBZ': 1, 'NN': 3, ',': 1, 'PRP$': 1...</td>\n",
       "    </tr>\n",
       "    <tr>\n",
       "      <th>2</th>\n",
       "      <td>EARLY</td>\n",
       "      <td>f</td>\n",
       "      <td>Snow White</td>\n",
       "      <td>ANT</td>\n",
       "      <td>D</td>\n",
       "      <td>queen</td>\n",
       "      <td>NON-P</td>\n",
       "      <td>magic mirror on the wall, who is the fairest o...</td>\n",
       "      <td>3</td>\n",
       "      <td>1937</td>\n",
       "      <td>[magic, mirror, on, the, wall, ,, who, is, the...</td>\n",
       "      <td>{wall, one, fairest, mirror, the, magic, who, ...</td>\n",
       "      <td>14</td>\n",
       "      <td>13</td>\n",
       "      <td>[(magic, JJ), (mirror, NN), (on, IN), (the, DT...</td>\n",
       "      <td>{'JJ': 1, 'NN': 2, 'IN': 2, 'DT': 3, ',': 1, '...</td>\n",
       "    </tr>\n",
       "    <tr>\n",
       "      <th>3</th>\n",
       "      <td>EARLY</td>\n",
       "      <td>m</td>\n",
       "      <td>Snow White</td>\n",
       "      <td>ANT</td>\n",
       "      <td>D</td>\n",
       "      <td>mirror</td>\n",
       "      <td>NON-P</td>\n",
       "      <td>famed is thy beauty, majesty. but hold, a love...</td>\n",
       "      <td>4</td>\n",
       "      <td>1937</td>\n",
       "      <td>[famed, is, thy, beauty, ,, majesty, ., but, h...</td>\n",
       "      <td>{maid, alas, fair, famed, her, gentle, is, hid...</td>\n",
       "      <td>33</td>\n",
       "      <td>27</td>\n",
       "      <td>[(famed, VBN), (is, VBZ), (thy, JJ), (beauty, ...</td>\n",
       "      <td>{'VBN': 1, 'VBZ': 2, 'JJ': 3, 'NN': 7, ',': 3,...</td>\n",
       "    </tr>\n",
       "    <tr>\n",
       "      <th>4</th>\n",
       "      <td>EARLY</td>\n",
       "      <td>f</td>\n",
       "      <td>Snow White</td>\n",
       "      <td>ANT</td>\n",
       "      <td>D</td>\n",
       "      <td>queen</td>\n",
       "      <td>NON-P</td>\n",
       "      <td>alas for her ! reveal her name.</td>\n",
       "      <td>5</td>\n",
       "      <td>1937</td>\n",
       "      <td>[alas, for, her, !, reveal, her, name, .]</td>\n",
       "      <td>{!, alas, name, her, reveal, ., for}</td>\n",
       "      <td>8</td>\n",
       "      <td>7</td>\n",
       "      <td>[(alas, NN), (for, IN), (her, PRP$), (!, .), (...</td>\n",
       "      <td>{'NN': 3, 'IN': 1, 'PRP$': 2, '.': 2}</td>\n",
       "    </tr>\n",
       "  </tbody>\n",
       "</table>\n",
       "</div>"
      ],
      "text/plain": [
       "  Disney_Period Gender       Movie Role Song Speaker Speaker_Status  \\\n",
       "0         EARLY      f  Snow White  ANT    D   queen          NON-P   \n",
       "1         EARLY      m  Snow White  ANT    D  mirror          NON-P   \n",
       "2         EARLY      f  Snow White  ANT    D   queen          NON-P   \n",
       "3         EARLY      m  Snow White  ANT    D  mirror          NON-P   \n",
       "4         EARLY      f  Snow White  ANT    D   queen          NON-P   \n",
       "\n",
       "                                                Text  UTTERANCE_NUMBER  Year  \\\n",
       "0  slave in the magic mirror come from the farthe...                 1  1937   \n",
       "1                what wouldst thou know, my queen ?                  2  1937   \n",
       "2  magic mirror on the wall, who is the fairest o...                 3  1937   \n",
       "3  famed is thy beauty, majesty. but hold, a love...                 4  1937   \n",
       "4                   alas for her ! reveal her name.                  5  1937   \n",
       "\n",
       "                                              Tokens  \\\n",
       "0  [slave, in, the, magic, mirror, come, from, th...   \n",
       "1       [what, wouldst, thou, know, ,, my, queen, ?]   \n",
       "2  [magic, mirror, on, the, wall, ,, who, is, the...   \n",
       "3  [famed, is, thy, beauty, ,, majesty, ., but, h...   \n",
       "4          [alas, for, her, !, reveal, her, name, .]   \n",
       "\n",
       "                                               Types  Token_Count  Type_Count  \\\n",
       "0  {!, and, speak, let, from, come, summon, me, f...           26          24   \n",
       "1       {queen, know, what, wouldst, ?, my, thou, ,}            8           8   \n",
       "2  {wall, one, fairest, mirror, the, magic, who, ...           14          13   \n",
       "3  {maid, alas, fair, famed, her, gentle, is, hid...           33          27   \n",
       "4               {!, alas, name, her, reveal, ., for}            8           7   \n",
       "\n",
       "                                                 POS  \\\n",
       "0  [(slave, NN), (in, IN), (the, DT), (magic, JJ)...   \n",
       "1  [(what, WP), (wouldst, VBZ), (thou, NN), (know...   \n",
       "2  [(magic, JJ), (mirror, NN), (on, IN), (the, DT...   \n",
       "3  [(famed, VBN), (is, VBZ), (thy, JJ), (beauty, ...   \n",
       "4  [(alas, NN), (for, IN), (her, PRP$), (!, .), (...   \n",
       "\n",
       "                                            Tag_Freq  \n",
       "0  {'NN': 9, 'IN': 3, 'DT': 2, 'JJ': 2, 'VBN': 1,...  \n",
       "1  {'WP': 1, 'VBZ': 1, 'NN': 3, ',': 1, 'PRP$': 1...  \n",
       "2  {'JJ': 1, 'NN': 2, 'IN': 2, 'DT': 3, ',': 1, '...  \n",
       "3  {'VBN': 1, 'VBZ': 2, 'JJ': 3, 'NN': 7, ',': 3,...  \n",
       "4              {'NN': 3, 'IN': 1, 'PRP$': 2, '.': 2}  "
      ]
     },
     "execution_count": 9,
     "metadata": {},
     "output_type": "execute_result"
    }
   ],
   "source": [
    "movie_df.head()"
   ]
  },
  {
   "cell_type": "code",
   "execution_count": 10,
   "metadata": {},
   "outputs": [
    {
     "data": {
      "text/plain": [
       "[('slave', 'NN'), ('in', 'IN'), ('the', 'DT'), ('magic', 'JJ'), ('mirror', 'NN'), ('come', 'VBN'), ('from', 'IN'), ('the', 'DT'), ('farthest', 'JJS'), ('space', 'NN'), ('through', 'IN'), ('wind', 'NN'), ('and', 'CC'), ('darkness', 'NN'), ('i', 'NN'), ('summon', 'VBP'), ('thee', 'NN'), ('.', '.'), ('speak', 'NN'), ('!', '.'), ('let', 'VB'), ('me', 'PRP'), ('see', 'VB'), ('thy', 'JJ'), ('face', 'NN'), ('.', '.')]"
      ]
     },
     "execution_count": 10,
     "metadata": {},
     "output_type": "execute_result"
    }
   ],
   "source": [
    "movie_df['POS'].iloc[0] #not all that accurate"
   ]
  },
  {
   "cell_type": "code",
   "execution_count": 11,
   "metadata": {},
   "outputs": [],
   "source": [
    "movie_df['Adj_Count'] = movie_df['Tag_Freq'].map(lambda x: x['JJ']+x['JJR']+x['JJS'])"
   ]
  },
  {
   "cell_type": "code",
   "execution_count": 12,
   "metadata": {},
   "outputs": [],
   "source": [
    "adj_by_gen = movie_df.groupby('Gender')['Adj_Count'].describe()['mean']"
   ]
  },
  {
   "cell_type": "code",
   "execution_count": 13,
   "metadata": {},
   "outputs": [
    {
     "data": {
      "text/plain": [
       "<matplotlib.axes._subplots.AxesSubplot object at 0x124F1710>"
      ]
     },
     "execution_count": 13,
     "metadata": {},
     "output_type": "execute_result"
    },
    {
     "data": {
      "image/png": "[encoded data removed]",
      "text/plain": [
       "<Figure size 432x288 with 1 Axes>"
      ]
     },
     "metadata": {
      "needs_background": "light"
     },
     "output_type": "display_data"
    }
   ],
   "source": [
    "adj_by_gen.plot.bar()"
   ]
  },
  {
   "cell_type": "code",
   "execution_count": 14,
   "metadata": {},
   "outputs": [
    {
     "data": {
      "text/plain": [
       "<matplotlib.axes._subplots.AxesSubplot object at 0x13650E10>"
      ]
     },
     "execution_count": 14,
     "metadata": {},
     "output_type": "execute_result"
    },
    {
     "data": {
      "image/png": "[encoded data removed]",
      "text/plain": [
       "<Figure size 1080x432 with 1 Axes>"
      ]
     },
     "metadata": {
      "needs_background": "light"
     },
     "output_type": "display_data"
    }
   ],
   "source": [
    "#let's take a look by movie....\n",
    "adj_by_gen_all = movie_df.groupby(['Year','Movie','Gender'])[\"Adj_Count\"].describe()['mean']\n",
    "adj_by_gen_all.unstack().plot.bar(color = ['magenta', 'blue', 'green'], figsize = (15,6))"
   ]
  },
  {
   "cell_type": "code",
   "execution_count": 15,
   "metadata": {},
   "outputs": [
    {
     "data": {
      "text/plain": [
       "<matplotlib.axes._subplots.AxesSubplot object at 0x136D7330>"
      ]
     },
     "execution_count": 15,
     "metadata": {},
     "output_type": "execute_result"
    },
    {
     "data": {
      "image/png": "[encoded data removed]",
      "text/plain": [
       "<Figure size 1080x432 with 1 Axes>"
      ]
     },
     "metadata": {
      "needs_background": "light"
     },
     "output_type": "display_data"
    }
   ],
   "source": [
    "adj_by_gen_all = movie_df.groupby(['Disney_Period','Gender'])[\"Adj_Count\"].describe()['mean']\n",
    "adj_by_gen_all.unstack().plot.bar(color = ['magenta', 'blue', 'green'], figsize = (15,6))"
   ]
  },
  {
   "cell_type": "markdown",
   "metadata": {},
   "source": [
    "I really feel like these results are being skewed by the number of lines a character has.... or how long they are..."
   ]
  },
  {
   "cell_type": "code",
   "execution_count": 16,
   "metadata": {},
   "outputs": [
    {
     "data": {
      "text/plain": [
       "<matplotlib.axes._subplots.AxesSubplot object at 0x137178B0>"
      ]
     },
     "execution_count": 16,
     "metadata": {},
     "output_type": "execute_result"
    },
    {
     "data": {
      "image/png": "[encoded data removed]",
      "text/plain": [
       "<Figure size 1080x432 with 1 Axes>"
      ]
     },
     "metadata": {
      "needs_background": "light"
     },
     "output_type": "display_data"
    }
   ],
   "source": [
    "adj_by_role = movie_df.groupby(['Disney_Period','Role'], sort=False)[\"Adj_Count\"].describe()['mean']\n",
    "adj_by_role.unstack().plot.bar(color = ['red','purple', 'blue', 'green'], figsize = (15,6))"
   ]
  },
  {
   "cell_type": "code",
   "execution_count": 17,
   "metadata": {},
   "outputs": [],
   "source": [
    "#only looking at male of female\n",
    "movie_gen_df = movie_df[movie_df.Gender != 'n']"
   ]
  },
  {
   "cell_type": "code",
   "execution_count": 18,
   "metadata": {},
   "outputs": [
    {
     "data": {
      "image/png": "[encoded data removed]",
      "text/plain": [
       "<Figure size 432x288 with 1 Axes>"
      ]
     },
     "metadata": {
      "needs_background": "light"
     },
     "output_type": "display_data"
    }
   ],
   "source": [
    "adj_by_gen = movie_gen_df.groupby('Gender')['Adj_Count'].describe()['mean']\n",
    "adj_by_gen.plot.bar(color = ['magenta', 'blue'])\n",
    "plt.title('Avg Adjective Count per Line by Gender')\n",
    "plt.savefig(r\"C:\\Users\\cassi\\Desktop\\Data_Science\\Animated-Movie-Gendered-Dialogue\\images\\adj_gen.png\")"
   ]
  },
  {
   "cell_type": "code",
   "execution_count": 19,
   "metadata": {},
   "outputs": [],
   "source": [
    "#looking only at marked roles\n",
    "movie_role_df = movie_df[movie_df.Role != 'N']"
   ]
  },
  {
   "cell_type": "code",
   "execution_count": 20,
   "metadata": {},
   "outputs": [
    {
     "data": {
      "image/png": "[encoded data removed]",
      "text/plain": [
       "<Figure size 432x288 with 1 Axes>"
      ]
     },
     "metadata": {
      "needs_background": "light"
     },
     "output_type": "display_data"
    }
   ],
   "source": [
    "adj_by_role = movie_role_df.groupby('Role')['Adj_Count'].describe()['mean']\n",
    "adj_by_role.plot.bar(color = ['red','purple', 'blue'])\n",
    "plt.title('Avg Adjective Count per Line by Role')\n",
    "plt.savefig(r\"C:\\Users\\cassi\\Desktop\\Data_Science\\Animated-Movie-Gendered-Dialogue\\images\\adj_role.png\")"
   ]
  },
  {
   "cell_type": "code",
   "execution_count": 21,
   "metadata": {},
   "outputs": [],
   "source": [
    "movie_gen_role_df = movie_df[(movie_df.Gender != 'n') & (movie_df.Role != 'N')]"
   ]
  },
  {
   "cell_type": "code",
   "execution_count": 22,
   "metadata": {},
   "outputs": [
    {
     "data": {
      "image/png": "[encoded data removed]",
      "text/plain": [
       "<Figure size 720x432 with 1 Axes>"
      ]
     },
     "metadata": {
      "needs_background": "light"
     },
     "output_type": "display_data"
    }
   ],
   "source": [
    "adj_by_role = movie_gen_role_df.groupby(['Gender','Role'], sort=False)[\"Adj_Count\"].describe()['mean']\n",
    "adj_by_role.unstack().plot.bar(color = ['red','blue', 'purple'], figsize = (10,6))\n",
    "plt.title('Avg Adjective Count per Line by Role and Gender')\n",
    "plt.savefig(r\"C:\\Users\\cassi\\Desktop\\Data_Science\\Animated-Movie-Gendered-Dialogue\\images\\adj_role_gen.png\")"
   ]
  },
  {
   "cell_type": "markdown",
   "metadata": {},
   "source": [
    "## Refining Adjective Counts\n",
    "These are just overall adjective counts per line. But we already saw that in general men tend to have longer lines. It's reasonable to assume that a longer line may have more adjectives. To keep line length from influencing our data, let's create a new column, which looks at adjective count normalized over token count per line."
   ]
  },
  {
   "cell_type": "code",
   "execution_count": 23,
   "metadata": {},
   "outputs": [],
   "source": [
    "movie_df['Adj_over_Tokens'] = movie_df.Adj_Count / movie_df.Token_Count"
   ]
  },
  {
   "cell_type": "code",
   "execution_count": 24,
   "metadata": {},
   "outputs": [
    {
     "data": {
      "text/plain": [
       "count    13442.000000\n",
       "mean         0.048808\n",
       "std          0.079000\n",
       "min          0.000000\n",
       "25%          0.000000\n",
       "50%          0.000000\n",
       "75%          0.083333\n",
       "max          1.000000\n",
       "Name: Adj_over_Tokens, dtype: float64"
      ]
     },
     "execution_count": 24,
     "metadata": {},
     "output_type": "execute_result"
    }
   ],
   "source": [
    "movie_df.Adj_over_Tokens.describe() #some REALLY small numbers here"
   ]
  },
  {
   "cell_type": "code",
   "execution_count": 25,
   "metadata": {},
   "outputs": [],
   "source": [
    "#only looking at male of female\n",
    "movie_gen_df = movie_df[movie_df.Gender != 'n']\n",
    "movie_role_df = movie_df[movie_df.Role != 'N']\n",
    "movie_gen_role_df = movie_df[(movie_df.Gender != 'n') & (movie_df.Role != 'N')]"
   ]
  },
  {
   "cell_type": "code",
   "execution_count": 26,
   "metadata": {},
   "outputs": [
    {
     "data": {
      "image/png": "[encoded data removed]",
      "text/plain": [
       "<Figure size 432x288 with 1 Axes>"
      ]
     },
     "metadata": {
      "needs_background": "light"
     },
     "output_type": "display_data"
    }
   ],
   "source": [
    "adj_by_gen = movie_gen_df.groupby('Gender')['Adj_over_Tokens'].describe()['mean']\n",
    "adj_by_gen.plot.bar(color = ['magenta', 'blue'])\n",
    "plt.title('Avg Adjective Count Over Token Count per Line by Gender')\n",
    "plt.savefig(r\"C:\\Users\\cassi\\Desktop\\Data_Science\\Animated-Movie-Gendered-Dialogue\\images\\adj_over_tok_gen.png\")"
   ]
  },
  {
   "cell_type": "code",
   "execution_count": 27,
   "metadata": {},
   "outputs": [
    {
     "data": {
      "image/png": "[encoded data removed]",
      "text/plain": [
       "<Figure size 432x288 with 1 Axes>"
      ]
     },
     "metadata": {
      "needs_background": "light"
     },
     "output_type": "display_data"
    }
   ],
   "source": [
    "adj_by_role = movie_role_df.groupby('Role')['Adj_over_Tokens'].describe()['mean']\n",
    "adj_by_role.plot.bar(color = ['red','purple', 'blue'])\n",
    "plt.title('Avg Adjective Count over Token Count per Line by Role')\n",
    "plt.savefig(r\"C:\\Users\\cassi\\Desktop\\Data_Science\\Animated-Movie-Gendered-Dialogue\\images\\adj_over_tok_role.png\")"
   ]
  },
  {
   "cell_type": "code",
   "execution_count": 28,
   "metadata": {},
   "outputs": [
    {
     "data": {
      "image/png": "[encoded data removed]",
      "text/plain": [
       "<Figure size 720x432 with 1 Axes>"
      ]
     },
     "metadata": {
      "needs_background": "light"
     },
     "output_type": "display_data"
    }
   ],
   "source": [
    "adj_by_role = movie_gen_role_df.groupby(['Gender','Role'], sort=False)[\"Adj_over_Tokens\"].describe()['mean']\n",
    "adj_by_role.unstack().plot.bar(color = ['red','blue', 'purple'], figsize = (10,6))\n",
    "plt.title('Avg Adjective Count over Token Count per Line by Role and Gender')\n",
    "plt.savefig(r\"C:\\Users\\cassi\\Desktop\\Data_Science\\Animated-Movie-Gendered-Dialogue\\images\\adj_over_tok_role_gen.png\")"
   ]
  },
  {
   "cell_type": "markdown",
   "metadata": {},
   "source": [
    "When averaged over token count in the line, we see that the difference between female protagonist and antagonist adjective counts decreases, while the difference between male protagonist and antagonist adjective counts increases."
   ]
  },
  {
   "cell_type": "code",
   "execution_count": 29,
   "metadata": {},
   "outputs": [],
   "source": [
    "#saving this to a pickle to analyze later...\n",
    "movie_df.to_pickle(r\"C:\\Users\\cassi\\Desktop\\Data_Science\\Animated-Movie-Gendered-Dialogue\\private\\all_tagged_dialogue.pkl\")"
   ]
  },
  {
   "cell_type": "markdown",
   "metadata": {},
   "source": [
    "# Significance Tests"
   ]
  },
  {
   "cell_type": "code",
   "execution_count": 34,
   "metadata": {},
   "outputs": [],
   "source": [
    "from scipy import stats"
   ]
  },
  {
   "cell_type": "markdown",
   "metadata": {},
   "source": [
    "## Gender\n",
    "\n",
    "### Gender Overall"
   ]
  },
  {
   "cell_type": "code",
   "execution_count": 32,
   "metadata": {},
   "outputs": [],
   "source": [
    "f_movies = movie_df[movie_df.Gender == 'f']\n",
    "m_movies = movie_df[movie_df.Gender == 'm']"
   ]
  },
  {
   "cell_type": "code",
   "execution_count": 35,
   "metadata": {},
   "outputs": [
    {
     "data": {
      "text/plain": [
       "Ttest_indResult(statistic=2.576002693433929, pvalue=0.010012417845185721)"
      ]
     },
     "execution_count": 35,
     "metadata": {},
     "output_type": "execute_result"
    }
   ],
   "source": [
    "stats.ttest_ind(m_movies.Adj_over_Tokens, f_movies.Adj_over_Tokens, equal_var=False)"
   ]
  },
  {
   "cell_type": "markdown",
   "metadata": {},
   "source": [
    "There's a significant difference, even when normalized over token count!"
   ]
  },
  {
   "cell_type": "markdown",
   "metadata": {},
   "source": [
    "### Gender Over Time"
   ]
  },
  {
   "cell_type": "code",
   "execution_count": 36,
   "metadata": {},
   "outputs": [],
   "source": [
    "f_movies_early = f_movies[f_movies.Disney_Period == 'EARLY']\n",
    "m_movies_early = m_movies[m_movies.Disney_Period == 'EARLY']\n",
    "\n",
    "f_movies_mid = f_movies[f_movies.Disney_Period == 'MID']\n",
    "m_movies_mid = m_movies[m_movies.Disney_Period == 'MID']\n",
    "\n",
    "f_movies_late = f_movies[f_movies.Disney_Period == 'LATE']\n",
    "m_movies_late = m_movies[m_movies.Disney_Period == 'LATE']"
   ]
  },
  {
   "cell_type": "code",
   "execution_count": 37,
   "metadata": {},
   "outputs": [
    {
     "data": {
      "text/plain": [
       "F_onewayResult(statistic=3.5044187110847544, pvalue=0.030191801013283774)"
      ]
     },
     "execution_count": 37,
     "metadata": {},
     "output_type": "execute_result"
    }
   ],
   "source": [
    "#female adj over time\n",
    "stats.f_oneway(f_movies_early.Adj_over_Tokens, f_movies_mid.Adj_over_Tokens, f_movies_late.Adj_over_Tokens)"
   ]
  },
  {
   "cell_type": "code",
   "execution_count": 38,
   "metadata": {},
   "outputs": [
    {
     "data": {
      "text/plain": [
       "Ttest_indResult(statistic=0.5474534038609541, pvalue=0.5841510240860311)"
      ]
     },
     "execution_count": 38,
     "metadata": {},
     "output_type": "execute_result"
    }
   ],
   "source": [
    "stats.ttest_ind(f_movies_early.Adj_over_Tokens, f_movies_mid.Adj_over_Tokens, equal_var=False)"
   ]
  },
  {
   "cell_type": "code",
   "execution_count": 39,
   "metadata": {},
   "outputs": [
    {
     "data": {
      "text/plain": [
       "Ttest_indResult(statistic=2.3640607911028026, pvalue=0.018236308092984602)"
      ]
     },
     "execution_count": 39,
     "metadata": {},
     "output_type": "execute_result"
    }
   ],
   "source": [
    "stats.ttest_ind(f_movies_early.Adj_over_Tokens, f_movies_late.Adj_over_Tokens, equal_var=False)"
   ]
  },
  {
   "cell_type": "code",
   "execution_count": 40,
   "metadata": {},
   "outputs": [
    {
     "data": {
      "text/plain": [
       "Ttest_indResult(statistic=1.764617870789123, pvalue=0.07785501400280985)"
      ]
     },
     "execution_count": 40,
     "metadata": {},
     "output_type": "execute_result"
    }
   ],
   "source": [
    "stats.ttest_ind(f_movies_mid.Adj_over_Tokens, f_movies_late.Adj_over_Tokens, equal_var=False)"
   ]
  },
  {
   "cell_type": "markdown",
   "metadata": {},
   "source": [
    "Overall, a significant different, but between each era only early vs late is significant."
   ]
  },
  {
   "cell_type": "code",
   "execution_count": 41,
   "metadata": {},
   "outputs": [
    {
     "data": {
      "text/plain": [
       "F_onewayResult(statistic=0.30012088908497075, pvalue=0.740746239202817)"
      ]
     },
     "execution_count": 41,
     "metadata": {},
     "output_type": "execute_result"
    }
   ],
   "source": [
    "#male adj over time\n",
    "stats.f_oneway(m_movies_early.Adj_over_Tokens, m_movies_mid.Adj_over_Tokens, m_movies_late.Adj_over_Tokens)"
   ]
  },
  {
   "cell_type": "code",
   "execution_count": 42,
   "metadata": {},
   "outputs": [
    {
     "data": {
      "text/plain": [
       "Ttest_indResult(statistic=-0.35058477740539357, pvalue=0.7259949886649326)"
      ]
     },
     "execution_count": 42,
     "metadata": {},
     "output_type": "execute_result"
    }
   ],
   "source": [
    "stats.ttest_ind(m_movies_early.Adj_over_Tokens, m_movies_mid.Adj_over_Tokens, equal_var=False)"
   ]
  },
  {
   "cell_type": "code",
   "execution_count": 43,
   "metadata": {},
   "outputs": [
    {
     "data": {
      "text/plain": [
       "Ttest_indResult(statistic=0.1707708977275944, pvalue=0.8644426732128025)"
      ]
     },
     "execution_count": 43,
     "metadata": {},
     "output_type": "execute_result"
    }
   ],
   "source": [
    "stats.ttest_ind(m_movies_early.Adj_over_Tokens, m_movies_late.Adj_over_Tokens, equal_var=False)"
   ]
  },
  {
   "cell_type": "code",
   "execution_count": 44,
   "metadata": {},
   "outputs": [
    {
     "data": {
      "text/plain": [
       "Ttest_indResult(statistic=0.7774769894170559, pvalue=0.43694597447987615)"
      ]
     },
     "execution_count": 44,
     "metadata": {},
     "output_type": "execute_result"
    }
   ],
   "source": [
    "stats.ttest_ind(m_movies_mid.Adj_over_Tokens, m_movies_late.Adj_over_Tokens, equal_var=False)"
   ]
  },
  {
   "cell_type": "markdown",
   "metadata": {},
   "source": [
    "No significant differences in male adjective use over time."
   ]
  },
  {
   "cell_type": "code",
   "execution_count": 75,
   "metadata": {},
   "outputs": [
    {
     "data": {
      "text/plain": [
       "Ttest_indResult(statistic=-0.15598881619223254, pvalue=0.8760697674071154)"
      ]
     },
     "execution_count": 75,
     "metadata": {},
     "output_type": "execute_result"
    }
   ],
   "source": [
    "# M v F w/in each Era\n",
    "stats.ttest_ind(m_movies_early.Adj_over_Tokens, f_movies_early.Adj_over_Tokens, equal_var=False)"
   ]
  },
  {
   "cell_type": "code",
   "execution_count": 76,
   "metadata": {},
   "outputs": [
    {
     "data": {
      "text/plain": [
       "Ttest_indResult(statistic=0.8758899733582742, pvalue=0.38125038762402463)"
      ]
     },
     "execution_count": 76,
     "metadata": {},
     "output_type": "execute_result"
    }
   ],
   "source": [
    "stats.ttest_ind(m_movies_mid.Adj_over_Tokens, f_movies_mid.Adj_over_Tokens, equal_var=False)"
   ]
  },
  {
   "cell_type": "code",
   "execution_count": 77,
   "metadata": {},
   "outputs": [
    {
     "data": {
      "text/plain": [
       "Ttest_indResult(statistic=2.557729649409128, pvalue=0.010593976933940734)"
      ]
     },
     "execution_count": 77,
     "metadata": {},
     "output_type": "execute_result"
    }
   ],
   "source": [
    "stats.ttest_ind(m_movies_late.Adj_over_Tokens, f_movies_late.Adj_over_Tokens, equal_var=False)"
   ]
  },
  {
   "cell_type": "markdown",
   "metadata": {},
   "source": [
    "This is only significant in the late period, when females actually use fewer adjectivest than males."
   ]
  },
  {
   "cell_type": "markdown",
   "metadata": {},
   "source": [
    "### Gender Across Companies"
   ]
  },
  {
   "cell_type": "code",
   "execution_count": 49,
   "metadata": {},
   "outputs": [],
   "source": [
    "f_movies_disney = f_movies[f_movies.Disney_Period != 'DREAMWORKS']\n",
    "f_movies_dw = f_movies[f_movies.Disney_Period == 'DREAMWORKS']\n",
    "\n",
    "m_movies_disney = m_movies[m_movies.Disney_Period != 'DREAMWORKS']\n",
    "m_movies_dw = m_movies[m_movies.Disney_Period == 'DREAMWORKS']"
   ]
  },
  {
   "cell_type": "code",
   "execution_count": 50,
   "metadata": {},
   "outputs": [
    {
     "data": {
      "text/plain": [
       "Ttest_indResult(statistic=2.4464073974542173, pvalue=0.014456071770492563)"
      ]
     },
     "execution_count": 50,
     "metadata": {},
     "output_type": "execute_result"
    }
   ],
   "source": [
    "## Between male and female characters is disney films\n",
    "stats.ttest_ind(m_movies_disney.Adj_over_Tokens, f_movies_disney.Adj_over_Tokens, equal_var=False)"
   ]
  },
  {
   "cell_type": "code",
   "execution_count": 51,
   "metadata": {},
   "outputs": [
    {
     "data": {
      "text/plain": [
       "Ttest_indResult(statistic=1.0477278220072108, pvalue=0.2948922456187276)"
      ]
     },
     "execution_count": 51,
     "metadata": {},
     "output_type": "execute_result"
    }
   ],
   "source": [
    "## Between male and female characters in Dreamworks Films\n",
    "stats.ttest_ind(m_movies_dw.Adj_over_Tokens, f_movies_dw.Adj_over_Tokens, equal_var=False)"
   ]
  },
  {
   "cell_type": "code",
   "execution_count": 52,
   "metadata": {},
   "outputs": [
    {
     "data": {
      "text/plain": [
       "Ttest_indResult(statistic=0.6441247626259194, pvalue=0.5195128538208997)"
      ]
     },
     "execution_count": 52,
     "metadata": {},
     "output_type": "execute_result"
    }
   ],
   "source": [
    "## Between male characters in Dreamworks and Disney\n",
    "stats.ttest_ind(m_movies_disney.Adj_over_Tokens, m_movies_dw.Adj_over_Tokens, equal_var=False)"
   ]
  },
  {
   "cell_type": "code",
   "execution_count": 53,
   "metadata": {},
   "outputs": [
    {
     "data": {
      "text/plain": [
       "Ttest_indResult(statistic=-0.40273488674279234, pvalue=0.6871780980571632)"
      ]
     },
     "execution_count": 53,
     "metadata": {},
     "output_type": "execute_result"
    }
   ],
   "source": [
    "## Between female charactres in Dreamworks and Disney\n",
    "stats.ttest_ind(f_movies_disney.Adj_over_Tokens, f_movies_dw.Adj_over_Tokens, equal_var=False)"
   ]
  },
  {
   "cell_type": "markdown",
   "metadata": {},
   "source": [
    "The only significant difference here is male and female characers in Disney films. Whether or not one uses more adjectives in Disney seems to be more closely linked to gender, but surprisingly, men use more."
   ]
  },
  {
   "cell_type": "markdown",
   "metadata": {},
   "source": [
    "## Role\n",
    "### Role Overall"
   ]
  },
  {
   "cell_type": "code",
   "execution_count": 54,
   "metadata": {},
   "outputs": [],
   "source": [
    "pro_movies = movie_df[movie_df.Role == 'PRO']\n",
    "ant_movies = movie_df[movie_df.Role == 'ANT']\n",
    "helper_movies = movie_df[movie_df.Role == 'HELPER']"
   ]
  },
  {
   "cell_type": "code",
   "execution_count": 56,
   "metadata": {},
   "outputs": [
    {
     "data": {
      "text/plain": [
       "F_onewayResult(statistic=7.016320477689933, pvalue=0.0009010184657044346)"
      ]
     },
     "execution_count": 56,
     "metadata": {},
     "output_type": "execute_result"
    }
   ],
   "source": [
    "stats.f_oneway(pro_movies.Adj_over_Tokens, ant_movies.Adj_over_Tokens, helper_movies.Adj_over_Tokens)"
   ]
  },
  {
   "cell_type": "code",
   "execution_count": 57,
   "metadata": {},
   "outputs": [
    {
     "data": {
      "text/plain": [
       "Ttest_indResult(statistic=-2.988149009179624, pvalue=0.0028265805054006232)"
      ]
     },
     "execution_count": 57,
     "metadata": {},
     "output_type": "execute_result"
    }
   ],
   "source": [
    "stats.ttest_ind(pro_movies.Adj_over_Tokens, ant_movies.Adj_over_Tokens, equal_var=False)"
   ]
  },
  {
   "cell_type": "code",
   "execution_count": 58,
   "metadata": {},
   "outputs": [
    {
     "data": {
      "text/plain": [
       "Ttest_indResult(statistic=-3.036837432233819, pvalue=0.0023989891105743654)"
      ]
     },
     "execution_count": 58,
     "metadata": {},
     "output_type": "execute_result"
    }
   ],
   "source": [
    "stats.ttest_ind(pro_movies.Adj_over_Tokens, helper_movies.Adj_over_Tokens, equal_var=False)"
   ]
  },
  {
   "cell_type": "code",
   "execution_count": 60,
   "metadata": {},
   "outputs": [
    {
     "data": {
      "text/plain": [
       "Ttest_indResult(statistic=0.50869443061451, pvalue=0.610993733510608)"
      ]
     },
     "execution_count": 60,
     "metadata": {},
     "output_type": "execute_result"
    }
   ],
   "source": [
    "stats.ttest_ind(ant_movies.Adj_over_Tokens, helper_movies.Adj_over_Tokens, equal_var=False)"
   ]
  },
  {
   "cell_type": "markdown",
   "metadata": {},
   "source": [
    "Protagonists use far fewer adjectives than antagonists do!"
   ]
  },
  {
   "cell_type": "markdown",
   "metadata": {},
   "source": [
    "### Role Across Companies"
   ]
  },
  {
   "cell_type": "code",
   "execution_count": 61,
   "metadata": {},
   "outputs": [],
   "source": [
    "ant_movies_disney = ant_movies[ant_movies.Disney_Period != 'DREAMWORKS']\n",
    "ant_movies_dw = ant_movies[ant_movies.Disney_Period == 'DREAMWORKS']\n",
    "\n",
    "pro_movies_disney = pro_movies[pro_movies.Disney_Period != 'DREAMWORKS']\n",
    "pro_movies_dw = pro_movies[pro_movies.Disney_Period == 'DREAMWORKS']"
   ]
  },
  {
   "cell_type": "code",
   "execution_count": 62,
   "metadata": {},
   "outputs": [
    {
     "data": {
      "text/plain": [
       "Ttest_indResult(statistic=1.4104328323628852, pvalue=0.1585697952065037)"
      ]
     },
     "execution_count": 62,
     "metadata": {},
     "output_type": "execute_result"
    }
   ],
   "source": [
    "## Antagonists across Companies\n",
    "stats.ttest_ind(ant_movies_disney.Adj_over_Tokens, ant_movies_dw.Adj_over_Tokens, equal_var=False)"
   ]
  },
  {
   "cell_type": "code",
   "execution_count": 63,
   "metadata": {},
   "outputs": [
    {
     "data": {
      "text/plain": [
       "Ttest_indResult(statistic=-2.2848849436747214, pvalue=0.022356419935735897)"
      ]
     },
     "execution_count": 63,
     "metadata": {},
     "output_type": "execute_result"
    }
   ],
   "source": [
    "## Protagonists across Companies\n",
    "stats.ttest_ind(pro_movies_disney.Adj_over_Tokens, pro_movies_dw.Adj_over_Tokens, equal_var=False)"
   ]
  },
  {
   "cell_type": "markdown",
   "metadata": {},
   "source": [
    "Antagonists across companies don't use adjectives differently, but protagonists do, with disney protagonists using fewer adjectives."
   ]
  },
  {
   "cell_type": "code",
   "execution_count": 64,
   "metadata": {},
   "outputs": [
    {
     "data": {
      "text/plain": [
       "Ttest_indResult(statistic=-3.735406680531785, pvalue=0.00019288667257798796)"
      ]
     },
     "execution_count": 64,
     "metadata": {},
     "output_type": "execute_result"
    }
   ],
   "source": [
    "## Antagonists vs Protagonists in Disney\n",
    "stats.ttest_ind(pro_movies_disney.Adj_over_Tokens, ant_movies_disney.Adj_over_Tokens, equal_var=False)"
   ]
  },
  {
   "cell_type": "code",
   "execution_count": 65,
   "metadata": {},
   "outputs": [
    {
     "data": {
      "text/plain": [
       "Ttest_indResult(statistic=-0.28454522493846074, pvalue=0.776031258245904)"
      ]
     },
     "execution_count": 65,
     "metadata": {},
     "output_type": "execute_result"
    }
   ],
   "source": [
    "## Antagonists vs Protagonists in DreamWorks\n",
    "stats.ttest_ind(pro_movies_dw.Adj_over_Tokens, ant_movies_dw.Adj_over_Tokens, equal_var=False)"
   ]
  },
  {
   "cell_type": "markdown",
   "metadata": {},
   "source": [
    "So this is pretty interesting. Disney protagonists use significantly fewer adjectives per line than Dreamworks protagonists, and Disney antagonists use a ton compared to Disney protagonists, but overall antagonists across companies aren't much different."
   ]
  },
  {
   "cell_type": "markdown",
   "metadata": {},
   "source": [
    "### Gender and Role"
   ]
  },
  {
   "cell_type": "code",
   "execution_count": 67,
   "metadata": {},
   "outputs": [],
   "source": [
    "movies_gen_role = movie_df[(movie_df.Gender != 'n') & (movie_df.Role != 'N')]"
   ]
  },
  {
   "cell_type": "code",
   "execution_count": 68,
   "metadata": {},
   "outputs": [],
   "source": [
    "pro_f_movies = movies_gen_role[(movies_gen_role.Gender == 'f') & (movies_gen_role.Role == 'PRO')]\n",
    "pro_m_movies = movies_gen_role[(movies_gen_role.Gender == 'm') & (movies_gen_role.Role == 'PRO')]\n",
    "\n",
    "ant_f_movies = movies_gen_role[(movies_gen_role.Gender == 'f') & (movies_gen_role.Role == 'ANT')]\n",
    "ant_m_movies = movies_gen_role[(movies_gen_role.Gender == 'm') & (movies_gen_role.Role == 'ANT')]"
   ]
  },
  {
   "cell_type": "code",
   "execution_count": 69,
   "metadata": {},
   "outputs": [
    {
     "data": {
      "text/plain": [
       "Ttest_indResult(statistic=-2.256924888974048, pvalue=0.024053955232044982)"
      ]
     },
     "execution_count": 69,
     "metadata": {},
     "output_type": "execute_result"
    }
   ],
   "source": [
    "# F v M protagonists\n",
    "stats.ttest_ind(pro_f_movies.Adj_over_Tokens, pro_m_movies.Adj_over_Tokens, equal_var=False)"
   ]
  },
  {
   "cell_type": "code",
   "execution_count": 70,
   "metadata": {},
   "outputs": [
    {
     "data": {
      "text/plain": [
       "Ttest_indResult(statistic=0.18844233473718944, pvalue=0.8505864601411948)"
      ]
     },
     "execution_count": 70,
     "metadata": {},
     "output_type": "execute_result"
    }
   ],
   "source": [
    "# F v M antagonists\n",
    "stats.ttest_ind(ant_f_movies.Adj_over_Tokens, ant_m_movies.Adj_over_Tokens, equal_var=False)"
   ]
  },
  {
   "cell_type": "markdown",
   "metadata": {},
   "source": [
    "Not a big difference between antagonists, but a significant difference between female and male antagonists, with males actually using more."
   ]
  },
  {
   "cell_type": "code",
   "execution_count": 74,
   "metadata": {},
   "outputs": [
    {
     "data": {
      "text/plain": [
       "Ttest_indResult(statistic=-2.174615053636009, pvalue=0.030055163479853753)"
      ]
     },
     "execution_count": 74,
     "metadata": {},
     "output_type": "execute_result"
    }
   ],
   "source": [
    "stats.ttest_ind(pro_f_movies.Adj_over_Tokens, ant_f_movies.Adj_over_Tokens, equal_var=False)"
   ]
  },
  {
   "cell_type": "code",
   "execution_count": 73,
   "metadata": {},
   "outputs": [
    {
     "data": {
      "text/plain": [
       "Ttest_indResult(statistic=-1.6739488199202381, pvalue=0.09424368527803735)"
      ]
     },
     "execution_count": 73,
     "metadata": {},
     "output_type": "execute_result"
    }
   ],
   "source": [
    "stats.ttest_ind(pro_m_movies.Adj_over_Tokens, ant_m_movies.Adj_over_Tokens, equal_var=False)"
   ]
  },
  {
   "cell_type": "markdown",
   "metadata": {},
   "source": [
    "While female protagonists use significantly fewer adjectives than female antagonists, the same is not true for male protagonists and antagonists. Though male antagonists use more, the difference is not significant"
   ]
  },
  {
   "cell_type": "code",
   "execution_count": null,
   "metadata": {},
   "outputs": [],
   "source": []
  }
 ],
 "metadata": {
  "kernelspec": {
   "display_name": "Python 3",
   "language": "python",
   "name": "python3"
  },
  "language_info": {
   "codemirror_mode": {
    "name": "ipython",
    "version": 3
   },
   "file_extension": ".py",
   "mimetype": "text/x-python",
   "name": "python",
   "nbconvert_exporter": "python",
   "pygments_lexer": "ipython3",
   "version": "3.6.4"
  }
 },
 "nbformat": 4,
 "nbformat_minor": 2
}
