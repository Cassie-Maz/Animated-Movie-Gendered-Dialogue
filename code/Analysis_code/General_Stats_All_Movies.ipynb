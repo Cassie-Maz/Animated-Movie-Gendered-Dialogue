{
 "cells": [
  {
   "cell_type": "markdown",
   "metadata": {},
   "source": [
    "# General Stats\n",
    "This notebook uses the pkl file created in [All Movies Analysis Basic](https://github.com/Data-Science-for-Linguists-2019/Animated-Movie-Gendered-Dialogue/blob/master/code/Analysis_code/All_Movies_Analysis_Basic.ipynb). In this file, character distributions by role and be gender are explored.\n",
    "\n",
    "This file creates a pkl file which will be used in [POS Tags/Adj_Analysis](https://github.com/Data-Science-for-Linguists-2019/Animated-Movie-Gendered-Dialogue/blob/master/code/Analysis_code/POS_Analysis_All_Movies.ipynb)"
   ]
  },
  {
   "cell_type": "code",
   "execution_count": 1,
   "metadata": {},
   "outputs": [],
   "source": [
    "import pandas as pd"
   ]
  },
  {
   "cell_type": "code",
   "execution_count": 2,
   "metadata": {},
   "outputs": [],
   "source": [
    "from matplotlib import pyplot as plt"
   ]
  },
  {
   "cell_type": "code",
   "execution_count": 3,
   "metadata": {},
   "outputs": [],
   "source": [
    "all_char_df = pd.read_pickle(r\"C:\\Users\\cassi\\Desktop\\Data_Science\\Animated-Movie-Gendered-Dialogue\\private\\char_toks.pkl\")"
   ]
  },
  {
   "cell_type": "code",
   "execution_count": 4,
   "metadata": {},
   "outputs": [],
   "source": [
    "all_lines_df = pd.read_pickle(r\"C:/Users/cassi/Desktop/Data_Science/Animated-Movie-Gendered-Dialogue/private/all_movies_toktype.pkl\")"
   ]
  },
  {
   "cell_type": "code",
   "execution_count": 5,
   "metadata": {},
   "outputs": [
    {
     "name": "stdout",
     "output_type": "stream",
     "text": [
      "<class 'pandas.core.frame.DataFrame'>\n",
      "RangeIndex: 14096 entries, 0 to 14095\n",
      "Data columns (total 14 columns):\n",
      "Disney_Period       14096 non-null object\n",
      "Gender              14096 non-null object\n",
      "Movie               14096 non-null object\n",
      "Role                14096 non-null object\n",
      "Song                14096 non-null object\n",
      "Speaker             14096 non-null object\n",
      "Speaker_Status      14096 non-null object\n",
      "Text                14096 non-null object\n",
      "UTTERANCE_NUMBER    14096 non-null int64\n",
      "Year                14096 non-null int64\n",
      "Tokens              14096 non-null object\n",
      "Types               14096 non-null object\n",
      "Token_Count         14096 non-null int64\n",
      "Type_Count          14096 non-null int64\n",
      "dtypes: int64(4), object(10)\n",
      "memory usage: 991.2+ KB\n"
     ]
    }
   ],
   "source": [
    "all_lines_df.info()"
   ]
  },
  {
   "cell_type": "code",
   "execution_count": 6,
   "metadata": {},
   "outputs": [],
   "source": [
    "all_lines_df = all_lines_df[(all_lines_df.Song == 'D') & (all_lines_df.Token_Count > 0)]"
   ]
  },
  {
   "cell_type": "code",
   "execution_count": 7,
   "metadata": {},
   "outputs": [
    {
     "name": "stdout",
     "output_type": "stream",
     "text": [
      "<class 'pandas.core.frame.DataFrame'>\n",
      "Int64Index: 13442 entries, 0 to 14095\n",
      "Data columns (total 14 columns):\n",
      "Disney_Period       13442 non-null object\n",
      "Gender              13442 non-null object\n",
      "Movie               13442 non-null object\n",
      "Role                13442 non-null object\n",
      "Song                13442 non-null object\n",
      "Speaker             13442 non-null object\n",
      "Speaker_Status      13442 non-null object\n",
      "Text                13442 non-null object\n",
      "UTTERANCE_NUMBER    13442 non-null int64\n",
      "Year                13442 non-null int64\n",
      "Tokens              13442 non-null object\n",
      "Types               13442 non-null object\n",
      "Token_Count         13442 non-null int64\n",
      "Type_Count          13442 non-null int64\n",
      "dtypes: int64(4), object(10)\n",
      "memory usage: 1.0+ MB\n"
     ]
    }
   ],
   "source": [
    "all_lines_df.info() #13442! Should really save this...."
   ]
  },
  {
   "cell_type": "code",
   "execution_count": 8,
   "metadata": {},
   "outputs": [],
   "source": [
    "all_lines_df.reset_index(drop=True, inplace=True)"
   ]
  },
  {
   "cell_type": "code",
   "execution_count": 9,
   "metadata": {},
   "outputs": [],
   "source": [
    "#saving this....\n",
    "all_lines_df.to_pickle(r\"C:\\Users\\cassi\\Desktop\\Data_Science\\Animated-Movie-Gendered-Dialogue\\private\\all_dialogue_toktypes.pkl\")"
   ]
  },
  {
   "cell_type": "code",
   "execution_count": 10,
   "metadata": {},
   "outputs": [
    {
     "name": "stdout",
     "output_type": "stream",
     "text": [
      "<class 'pandas.core.frame.DataFrame'>\n",
      "RangeIndex: 632 entries, 0 to 631\n",
      "Data columns (total 11 columns):\n",
      "Disney_Period       632 non-null object\n",
      "Gender              632 non-null object\n",
      "Movie               632 non-null object\n",
      "Role                632 non-null object\n",
      "Speaker             632 non-null object\n",
      "Speaker_Status      632 non-null object\n",
      "Total_Tok_Count     632 non-null float64\n",
      "Total_Toks          632 non-null object\n",
      "Total_Type_Count    632 non-null float64\n",
      "Total_Types         632 non-null object\n",
      "Year                632 non-null object\n",
      "dtypes: float64(2), object(9)\n",
      "memory usage: 32.1+ KB\n"
     ]
    }
   ],
   "source": [
    "all_char_df.info()"
   ]
  },
  {
   "cell_type": "markdown",
   "metadata": {},
   "source": [
    "# Number of Characters\n",
    "There are 632 characters total. How are they distributed?\n",
    "## By Gender"
   ]
  },
  {
   "cell_type": "code",
   "execution_count": 11,
   "metadata": {},
   "outputs": [
    {
     "data": {
      "text/plain": [
       "m    354\n",
       "f    139\n",
       "n    139\n",
       "Name: Gender, dtype: int64"
      ]
     },
     "execution_count": 11,
     "metadata": {},
     "output_type": "execute_result"
    }
   ],
   "source": [
    "all_char_df['Gender'].value_counts()"
   ]
  },
  {
   "cell_type": "code",
   "execution_count": 12,
   "metadata": {},
   "outputs": [],
   "source": [
    "char_by_gen = all_char_df['Gender'].value_counts()"
   ]
  },
  {
   "cell_type": "code",
   "execution_count": 13,
   "metadata": {},
   "outputs": [
    {
     "data": {
      "text/plain": [
       "632"
      ]
     },
     "execution_count": 13,
     "metadata": {},
     "output_type": "execute_result"
    }
   ],
   "source": [
    "tot = char_by_gen.sum()\n",
    "tot"
   ]
  },
  {
   "cell_type": "code",
   "execution_count": 14,
   "metadata": {},
   "outputs": [
    {
     "data": {
      "image/png": "[encoded data removed]",
      "text/plain": [
       "<Figure size 432x288 with 1 Axes>"
      ]
     },
     "metadata": {},
     "output_type": "display_data"
    }
   ],
   "source": [
    "plt.pie(char_by_gen, labels = ['male', 'n/a', 'female'], colors=['blue', 'green', 'magenta'],\n",
    "        autopct=lambda pct:'{:.0f}'.format((pct/100)*tot))\n",
    "plt.title(\"Number of Characters by Gender\")\n",
    "plt.savefig(r\"C:\\Users\\cassi\\Desktop\\Data_Science\\Animated-Movie-Gendered-Dialogue\\images\\num_char_by_gen\")"
   ]
  },
  {
   "cell_type": "code",
   "execution_count": 15,
   "metadata": {},
   "outputs": [
    {
     "data": {
      "text/plain": [
       "m    8914\n",
       "f    4216\n",
       "n     312\n",
       "Name: Gender, dtype: int64"
      ]
     },
     "execution_count": 15,
     "metadata": {},
     "output_type": "execute_result"
    }
   ],
   "source": [
    "#okay, so that's a general distribution. What about by line?\n",
    "all_lines_df['Gender'].value_counts()"
   ]
  },
  {
   "cell_type": "code",
   "execution_count": 16,
   "metadata": {},
   "outputs": [
    {
     "data": {
      "text/plain": [
       "13442"
      ]
     },
     "execution_count": 16,
     "metadata": {},
     "output_type": "execute_result"
    }
   ],
   "source": [
    "tot = all_lines_df['Gender'].value_counts().sum()\n",
    "tot"
   ]
  },
  {
   "cell_type": "code",
   "execution_count": 17,
   "metadata": {},
   "outputs": [
    {
     "data": {
      "image/png": "[encoded data removed]",
      "text/plain": [
       "<Figure size 432x288 with 1 Axes>"
      ]
     },
     "metadata": {},
     "output_type": "display_data"
    }
   ],
   "source": [
    "plt.pie(all_lines_df['Gender'].value_counts(), labels = ['male', 'female', 'n/a'], colors=['blue', 'magenta', 'green'],\n",
    "       autopct=lambda pct:'{:.0f}'.format((pct/100)*tot), radius=1)\n",
    "plt.title('Total Number of Lines by Gender')\n",
    "plt.savefig(r\"C:\\Users\\cassi\\Desktop\\Data_Science\\Animated-Movie-Gendered-Dialogue\\images\\tot_lines_by_gen.png\")"
   ]
  },
  {
   "cell_type": "code",
   "execution_count": 18,
   "metadata": {},
   "outputs": [
    {
     "data": {
      "text/plain": [
       "m    25.180791\n",
       "f    30.330935\n",
       "n     2.244604\n",
       "Name: Gender, dtype: float64"
      ]
     },
     "execution_count": 18,
     "metadata": {},
     "output_type": "execute_result"
    }
   ],
   "source": [
    "avg_lines_by_gen = all_lines_df['Gender'].value_counts() / all_char_df['Gender'].value_counts()\n",
    "avg_lines_by_gen"
   ]
  },
  {
   "cell_type": "code",
   "execution_count": 19,
   "metadata": {},
   "outputs": [
    {
     "data": {
      "text/plain": [
       "57.7563305287973"
      ]
     },
     "execution_count": 19,
     "metadata": {},
     "output_type": "execute_result"
    }
   ],
   "source": [
    "tot = avg_lines_by_gen.sum()\n",
    "tot"
   ]
  },
  {
   "cell_type": "code",
   "execution_count": 20,
   "metadata": {},
   "outputs": [],
   "source": [
    "import numpy as np"
   ]
  },
  {
   "cell_type": "code",
   "execution_count": 21,
   "metadata": {},
   "outputs": [
    {
     "data": {
      "image/png": "[encoded data removed]",
      "text/plain": [
       "<Figure size 432x288 with 1 Axes>"
      ]
     },
     "metadata": {
      "needs_background": "light"
     },
     "output_type": "display_data"
    }
   ],
   "source": [
    "#plt.pie(avg_lines_by_gen, labels = ['female', 'male', 'n/a'], colors=['magenta', 'blue', 'green'], autopct=lambda pct:'{:.1f}'.format((pct/100)*tot)\n",
    "avg_lines_by_gen.plot(kind='bar', color=['blue', 'magenta', 'green'])\n",
    "plt.title(\"Overall Average Number of Lines by Gender\")\n",
    "plt.savefig(r\"C:\\Users\\cassi\\Desktop\\Data_Science\\Animated-Movie-Gendered-Dialogue\\images\\overall_avg_num_lines_by_gen.png\")\n",
    "#in general, female characters average more lines"
   ]
  },
  {
   "cell_type": "code",
   "execution_count": 22,
   "metadata": {},
   "outputs": [
    {
     "data": {
      "text/plain": [
       "21.268987341772153"
      ]
     },
     "execution_count": 22,
     "metadata": {},
     "output_type": "execute_result"
    }
   ],
   "source": [
    "13442/632 #actual average number of lines"
   ]
  },
  {
   "cell_type": "code",
   "execution_count": 23,
   "metadata": {},
   "outputs": [
    {
     "data": {
      "text/html": [
       "<div>\n",
       "<style scoped>\n",
       "    .dataframe tbody tr th:only-of-type {\n",
       "        vertical-align: middle;\n",
       "    }\n",
       "\n",
       "    .dataframe tbody tr th {\n",
       "        vertical-align: top;\n",
       "    }\n",
       "\n",
       "    .dataframe thead th {\n",
       "        text-align: right;\n",
       "    }\n",
       "</style>\n",
       "<table border=\"1\" class=\"dataframe\">\n",
       "  <thead>\n",
       "    <tr style=\"text-align: right;\">\n",
       "      <th></th>\n",
       "      <th>count</th>\n",
       "      <th>mean</th>\n",
       "      <th>std</th>\n",
       "      <th>min</th>\n",
       "      <th>25%</th>\n",
       "      <th>50%</th>\n",
       "      <th>75%</th>\n",
       "      <th>max</th>\n",
       "    </tr>\n",
       "    <tr>\n",
       "      <th>Gender</th>\n",
       "      <th></th>\n",
       "      <th></th>\n",
       "      <th></th>\n",
       "      <th></th>\n",
       "      <th></th>\n",
       "      <th></th>\n",
       "      <th></th>\n",
       "      <th></th>\n",
       "    </tr>\n",
       "  </thead>\n",
       "  <tbody>\n",
       "    <tr>\n",
       "      <th>f</th>\n",
       "      <td>4216.0</td>\n",
       "      <td>11.462049</td>\n",
       "      <td>13.554476</td>\n",
       "      <td>1.0</td>\n",
       "      <td>4.0</td>\n",
       "      <td>8.0</td>\n",
       "      <td>14.0</td>\n",
       "      <td>300.0</td>\n",
       "    </tr>\n",
       "    <tr>\n",
       "      <th>m</th>\n",
       "      <td>8914.0</td>\n",
       "      <td>12.481714</td>\n",
       "      <td>12.819819</td>\n",
       "      <td>1.0</td>\n",
       "      <td>5.0</td>\n",
       "      <td>9.0</td>\n",
       "      <td>16.0</td>\n",
       "      <td>290.0</td>\n",
       "    </tr>\n",
       "    <tr>\n",
       "      <th>n</th>\n",
       "      <td>312.0</td>\n",
       "      <td>9.333333</td>\n",
       "      <td>8.047554</td>\n",
       "      <td>1.0</td>\n",
       "      <td>4.0</td>\n",
       "      <td>7.0</td>\n",
       "      <td>12.0</td>\n",
       "      <td>48.0</td>\n",
       "    </tr>\n",
       "  </tbody>\n",
       "</table>\n",
       "</div>"
      ],
      "text/plain": [
       "         count       mean        std  min  25%  50%   75%    max\n",
       "Gender                                                          \n",
       "f       4216.0  11.462049  13.554476  1.0  4.0  8.0  14.0  300.0\n",
       "m       8914.0  12.481714  12.819819  1.0  5.0  9.0  16.0  290.0\n",
       "n        312.0   9.333333   8.047554  1.0  4.0  7.0  12.0   48.0"
      ]
     },
     "execution_count": 23,
     "metadata": {},
     "output_type": "execute_result"
    }
   ],
   "source": [
    "all_lines_df.groupby('Gender')['Token_Count'].describe()"
   ]
  },
  {
   "cell_type": "code",
   "execution_count": 24,
   "metadata": {},
   "outputs": [],
   "source": [
    "from scipy import stats"
   ]
  },
  {
   "cell_type": "code",
   "execution_count": 25,
   "metadata": {},
   "outputs": [
    {
     "data": {
      "text/plain": [
       "array([ 0.28184979,  1.05925031, -1.3411001 ])"
      ]
     },
     "execution_count": 25,
     "metadata": {},
     "output_type": "execute_result"
    }
   ],
   "source": [
    "stats.zscore(all_lines_df.groupby('Gender')['Token_Count'].mean())"
   ]
  },
  {
   "cell_type": "code",
   "execution_count": 26,
   "metadata": {},
   "outputs": [
    {
     "data": {
      "text/plain": [
       "Gender\n",
       "f    11.462049\n",
       "m    12.481714\n",
       "Name: Token_Count, dtype: float64"
      ]
     },
     "execution_count": 26,
     "metadata": {},
     "output_type": "execute_result"
    }
   ],
   "source": [
    "#just male/female\n",
    "all_lines_df[all_lines_df.Gender != 'n'].groupby('Gender')['Token_Count'].mean()"
   ]
  },
  {
   "cell_type": "code",
   "execution_count": 27,
   "metadata": {},
   "outputs": [
    {
     "data": {
      "text/plain": [
       "array([ 0.48561776,  0.90746567, -1.39308343])"
      ]
     },
     "execution_count": 27,
     "metadata": {},
     "output_type": "execute_result"
    }
   ],
   "source": [
    "stats.zscore(avg_lines_by_gen) #not to big of a difference"
   ]
  },
  {
   "cell_type": "markdown",
   "metadata": {},
   "source": [
    "## By Role\n",
    "How are characters distributed by role?"
   ]
  },
  {
   "cell_type": "code",
   "execution_count": 28,
   "metadata": {},
   "outputs": [
    {
     "data": {
      "text/plain": [
       "N         406\n",
       "HELPER    106\n",
       "ANT        67\n",
       "PRO        53\n",
       "Name: Role, dtype: int64"
      ]
     },
     "execution_count": 28,
     "metadata": {},
     "output_type": "execute_result"
    }
   ],
   "source": [
    "all_char_df['Role'].value_counts()"
   ]
  },
  {
   "cell_type": "code",
   "execution_count": 29,
   "metadata": {},
   "outputs": [],
   "source": [
    "char_by_role = all_char_df['Role'].value_counts()"
   ]
  },
  {
   "cell_type": "code",
   "execution_count": 30,
   "metadata": {},
   "outputs": [
    {
     "data": {
      "text/plain": [
       "632"
      ]
     },
     "execution_count": 30,
     "metadata": {},
     "output_type": "execute_result"
    }
   ],
   "source": [
    "tot = char_by_role.sum()\n",
    "tot"
   ]
  },
  {
   "cell_type": "code",
   "execution_count": 31,
   "metadata": {},
   "outputs": [
    {
     "data": {
      "image/png": "[encoded data removed]",
      "text/plain": [
       "<Figure size 432x288 with 1 Axes>"
      ]
     },
     "metadata": {},
     "output_type": "display_data"
    }
   ],
   "source": [
    "plt.pie(char_by_role, labels = ['Neutral', 'Helper', 'Antagonist', 'Protagonist'], colors=['green', 'purple', 'red', 'blue'],\n",
    "        autopct=lambda pct:'{:.0f}'.format((pct/100)*tot))\n",
    "plt.title(\"Number of Characters by Role\")\n",
    "plt.savefig(r\"C:\\Users\\cassi\\Desktop\\Data_Science\\Animated-Movie-Gendered-Dialogue\\images\\num_char_by_role.png\")"
   ]
  },
  {
   "cell_type": "code",
   "execution_count": 32,
   "metadata": {},
   "outputs": [
    {
     "data": {
      "text/plain": [
       "PRO       5762\n",
       "HELPER    3549\n",
       "N         2094\n",
       "ANT       2037\n",
       "Name: Role, dtype: int64"
      ]
     },
     "execution_count": 32,
     "metadata": {},
     "output_type": "execute_result"
    }
   ],
   "source": [
    "#okay, so that's a general distribution. Most characters are neutral. What about by line?\n",
    "all_lines_df['Role'].value_counts()"
   ]
  },
  {
   "cell_type": "code",
   "execution_count": 33,
   "metadata": {},
   "outputs": [
    {
     "data": {
      "text/plain": [
       "13442"
      ]
     },
     "execution_count": 33,
     "metadata": {},
     "output_type": "execute_result"
    }
   ],
   "source": [
    "tot = all_lines_df['Role'].value_counts().sum()\n",
    "tot"
   ]
  },
  {
   "cell_type": "code",
   "execution_count": 34,
   "metadata": {},
   "outputs": [
    {
     "data": {
      "image/png": "[encoded data removed]",
      "text/plain": [
       "<Figure size 432x288 with 1 Axes>"
      ]
     },
     "metadata": {},
     "output_type": "display_data"
    }
   ],
   "source": [
    "plt.pie(all_lines_df['Role'].value_counts(), labels = ['Protagonist', 'Helper', 'Neutral', 'Antagonist'], colors=['blue', 'purple', 'green', 'red'],\n",
    "       autopct=lambda pct:'{:.0f}'.format((pct/100)*tot), radius=1)\n",
    "plt.title('Total Number of Lines by Role')\n",
    "plt.savefig(r\"C:\\Users\\cassi\\Desktop\\Data_Science\\Animated-Movie-Gendered-Dialogue\\images\\tot_lines_by_role.png\")"
   ]
  },
  {
   "cell_type": "code",
   "execution_count": 35,
   "metadata": {},
   "outputs": [],
   "source": [
    "#antagonists overall have the fewest lines..."
   ]
  },
  {
   "cell_type": "code",
   "execution_count": 36,
   "metadata": {},
   "outputs": [
    {
     "data": {
      "text/plain": [
       "ANT        30.402985\n",
       "HELPER     33.481132\n",
       "N           5.157635\n",
       "PRO       108.716981\n",
       "Name: Role, dtype: float64"
      ]
     },
     "execution_count": 36,
     "metadata": {},
     "output_type": "execute_result"
    }
   ],
   "source": [
    "avg_lines_by_role = all_lines_df['Role'].value_counts() / all_char_df['Role'].value_counts()\n",
    "avg_lines_by_role"
   ]
  },
  {
   "cell_type": "code",
   "execution_count": 37,
   "metadata": {},
   "outputs": [
    {
     "name": "stdout",
     "output_type": "stream",
     "text": [
      "177.75873375015433\n",
      "44.439683437538584\n"
     ]
    }
   ],
   "source": [
    "tot = avg_lines_by_role.sum()\n",
    "print(tot)\n",
    "print(tot/4)"
   ]
  },
  {
   "cell_type": "code",
   "execution_count": 38,
   "metadata": {},
   "outputs": [
    {
     "data": {
      "image/png": "[encoded data removed]",
      "text/plain": [
       "<Figure size 432x288 with 1 Axes>"
      ]
     },
     "metadata": {
      "needs_background": "light"
     },
     "output_type": "display_data"
    }
   ],
   "source": [
    "#plt.pie(avg_lines_by_role, labels = ['Antagonist', 'Helper', 'Neutral', 'Protagonist'], colors=['red','purple', 'green', 'blue'], autopct=lambda pct:'{:.1f}'.format((pct/100)*tot))\n",
    "avg_lines_by_role.plot(kind='bar', color=['red', 'purple', 'green', 'blue'])\n",
    "plt.title(\"Average Number of Lines by Role\")\n",
    "plt.savefig(r\"C:\\Users\\cassi\\Desktop\\Data_Science\\Animated-Movie-Gendered-Dialogue\\images\\overall_avg_num_lines_by_role.png\")"
   ]
  },
  {
   "cell_type": "markdown",
   "metadata": {},
   "source": [
    "Overall, protagonists are getting the bulk of the lines...not really surprising"
   ]
  },
  {
   "cell_type": "code",
   "execution_count": 39,
   "metadata": {},
   "outputs": [
    {
     "data": {
      "text/plain": [
       "Gender  Role  \n",
       "f       N          70\n",
       "        HELPER     30\n",
       "        PRO        27\n",
       "        ANT        12\n",
       "m       N         207\n",
       "        HELPER     68\n",
       "        ANT        54\n",
       "        PRO        25\n",
       "n       N         129\n",
       "        HELPER      8\n",
       "        ANT         1\n",
       "        PRO         1\n",
       "Name: Role, dtype: int64"
      ]
     },
     "execution_count": 39,
     "metadata": {},
     "output_type": "execute_result"
    }
   ],
   "source": [
    "##can we do a double donut on role/gender distributions????\n",
    "all_char_df.groupby('Gender')['Role'].value_counts(sort=True)"
   ]
  },
  {
   "cell_type": "code",
   "execution_count": 40,
   "metadata": {},
   "outputs": [
    {
     "data": {
      "text/plain": [
       "f    139\n",
       "m    354\n",
       "n    139\n",
       "Name: Gender, dtype: int64"
      ]
     },
     "execution_count": 40,
     "metadata": {},
     "output_type": "execute_result"
    }
   ],
   "source": [
    "vals2 = all_char_df['Gender'].value_counts().reindex(index = ['f', 'm', 'n'])\n",
    "vals2"
   ]
  },
  {
   "cell_type": "code",
   "execution_count": 41,
   "metadata": {},
   "outputs": [
    {
     "data": {
      "text/plain": [
       "Gender  Role  \n",
       "f       N          70\n",
       "        HELPER     30\n",
       "        PRO        27\n",
       "        ANT        12\n",
       "m       N         207\n",
       "        HELPER     68\n",
       "        ANT        54\n",
       "        PRO        25\n",
       "n       N         129\n",
       "        HELPER      8\n",
       "        ANT         1\n",
       "        PRO         1\n",
       "Name: Role, dtype: int64"
      ]
     },
     "execution_count": 41,
     "metadata": {},
     "output_type": "execute_result"
    }
   ],
   "source": [
    "vals = all_char_df.groupby('Gender')['Role'].value_counts()\n",
    "vals"
   ]
  },
  {
   "cell_type": "code",
   "execution_count": 42,
   "metadata": {},
   "outputs": [],
   "source": [
    "import numpy as np"
   ]
  },
  {
   "cell_type": "code",
   "execution_count": 43,
   "metadata": {},
   "outputs": [
    {
     "name": "stderr",
     "output_type": "stream",
     "text": [
      "c:\\users\\cassi\\appdata\\local\\programs\\python\\python36-32\\lib\\site-packages\\pandas\\plotting\\_core.py:194: UserWarning: 'colors' is being deprecated. Please use 'color'instead of 'colors'\n",
      "  warnings.warn((\"'colors' is being deprecated. Please use 'color'\"\n"
     ]
    },
    {
     "data": {
      "image/png": "[encoded data removed]",
      "text/plain": [
       "<Figure size 576x432 with 1 Axes>"
      ]
     },
     "metadata": {
      "needs_background": "light"
     },
     "output_type": "display_data"
    },
    {
     "data": {
      "text/plain": [
       "<Figure size 432x288 with 0 Axes>"
      ]
     },
     "metadata": {},
     "output_type": "display_data"
    }
   ],
   "source": [
    "roles_by_gender = all_lines_df.groupby('Gender').Role.value_counts(normalize=True)\n",
    "roles_by_gender.unstack(level=1).plot.barh(figsize=(8,6), stacked=True, title=\"Speaker Role by gender\",\n",
    "                                           colors=['red', 'purple', 'green', 'blue'])\n",
    "plt.legend(loc='center left', bbox_to_anchor=(1, 0.5))\n",
    "plt.show()\n",
    "plt.savefig(r\"C:\\Users\\cassi\\Desktop\\Data_Science\\Animated-Movie-Gendered-Dialogue\\images\\speaker_role_by_gen.png\")"
   ]
  },
  {
   "cell_type": "code",
   "execution_count": 44,
   "metadata": {},
   "outputs": [],
   "source": [
    "all_dialogue_by_gender_role = all_lines_df[(all_lines_df.Gender != 'n') & (all_lines_df.Role != 'N')]"
   ]
  },
  {
   "cell_type": "code",
   "execution_count": 45,
   "metadata": {},
   "outputs": [
    {
     "name": "stdout",
     "output_type": "stream",
     "text": [
      "<class 'pandas.core.frame.DataFrame'>\n",
      "Int64Index: 11320 entries, 0 to 13441\n",
      "Data columns (total 14 columns):\n",
      "Disney_Period       11320 non-null object\n",
      "Gender              11320 non-null object\n",
      "Movie               11320 non-null object\n",
      "Role                11320 non-null object\n",
      "Song                11320 non-null object\n",
      "Speaker             11320 non-null object\n",
      "Speaker_Status      11320 non-null object\n",
      "Text                11320 non-null object\n",
      "UTTERANCE_NUMBER    11320 non-null int64\n",
      "Year                11320 non-null int64\n",
      "Tokens              11320 non-null object\n",
      "Types               11320 non-null object\n",
      "Token_Count         11320 non-null int64\n",
      "Type_Count          11320 non-null int64\n",
      "dtypes: int64(4), object(10)\n",
      "memory usage: 884.4+ KB\n"
     ]
    }
   ],
   "source": [
    "all_dialogue_by_gender_role.info() #now only 11320 entries!!!"
   ]
  },
  {
   "cell_type": "code",
   "execution_count": 46,
   "metadata": {},
   "outputs": [],
   "source": [
    "all_char_by_gen_role = all_char_df[(all_char_df.Gender != 'n') & (all_char_df.Role != 'N')]"
   ]
  },
  {
   "cell_type": "code",
   "execution_count": 47,
   "metadata": {},
   "outputs": [
    {
     "name": "stdout",
     "output_type": "stream",
     "text": [
      "<class 'pandas.core.frame.DataFrame'>\n",
      "Int64Index: 216 entries, 0 to 631\n",
      "Data columns (total 11 columns):\n",
      "Disney_Period       216 non-null object\n",
      "Gender              216 non-null object\n",
      "Movie               216 non-null object\n",
      "Role                216 non-null object\n",
      "Speaker             216 non-null object\n",
      "Speaker_Status      216 non-null object\n",
      "Total_Tok_Count     216 non-null float64\n",
      "Total_Toks          216 non-null object\n",
      "Total_Type_Count    216 non-null float64\n",
      "Total_Types         216 non-null object\n",
      "Year                216 non-null object\n",
      "dtypes: float64(2), object(9)\n",
      "memory usage: 12.7+ KB\n"
     ]
    }
   ],
   "source": [
    "all_char_by_gen_role.info() #now only 216 characters!"
   ]
  },
  {
   "cell_type": "code",
   "execution_count": 48,
   "metadata": {},
   "outputs": [
    {
     "data": {
      "image/png": "[encoded data removed]",
      "text/plain": [
       "<Figure size 576x432 with 1 Axes>"
      ]
     },
     "metadata": {
      "needs_background": "light"
     },
     "output_type": "display_data"
    },
    {
     "data": {
      "text/plain": [
       "<Figure size 432x288 with 0 Axes>"
      ]
     },
     "metadata": {},
     "output_type": "display_data"
    }
   ],
   "source": [
    "roles_by_gender = all_char_by_gen_role.groupby('Gender').Role.value_counts(normalize=True)\n",
    "roles_by_gender.unstack(level=1).plot.barh(figsize=(8,6), stacked=True, title=\"Speaker Role by Gender\",\n",
    "                                           colors=['red', 'purple', 'blue'])\n",
    "plt.legend(loc='center left', bbox_to_anchor=(1, 0.5))\n",
    "plt.show()\n",
    "plt.savefig(r\"C:\\Users\\cassi\\Desktop\\Data_Science\\Animated-Movie-Gendered-Dialogue\\images\\speaker_role_by_gen_2\")"
   ]
  },
  {
   "cell_type": "code",
   "execution_count": 49,
   "metadata": {},
   "outputs": [
    {
     "data": {
      "image/png": "[encoded data removed]",
      "text/plain": [
       "<Figure size 576x432 with 1 Axes>"
      ]
     },
     "metadata": {
      "needs_background": "light"
     },
     "output_type": "display_data"
    },
    {
     "data": {
      "text/plain": [
       "<Figure size 432x288 with 0 Axes>"
      ]
     },
     "metadata": {},
     "output_type": "display_data"
    }
   ],
   "source": [
    "roles_by_gender = all_char_by_gen_role.groupby('Role').Gender.value_counts(normalize=True)\n",
    "roles_by_gender.unstack(level=1).plot.barh(figsize=(8,6), stacked=True, title=\"Speaker Role by Gender: All Movies\",\n",
    "                                           colors=['magenta', 'blue'])\n",
    "plt.legend(loc='center left', bbox_to_anchor=(1, 0.5))\n",
    "plt.show()\n",
    "plt.savefig(r\"C:\\Users\\cassi\\Desktop\\Data_Science\\Animated-Movie-Gendered-Dialogue\\images\\speaker_role_by_gen_all.png\")"
   ]
  },
  {
   "cell_type": "code",
   "execution_count": 50,
   "metadata": {},
   "outputs": [
    {
     "data": {
      "image/png": "[encoded data removed]",
      "text/plain": [
       "<Figure size 576x432 with 1 Axes>"
      ]
     },
     "metadata": {
      "needs_background": "light"
     },
     "output_type": "display_data"
    }
   ],
   "source": [
    "roles_by_gender = all_dialogue_by_gender_role.groupby(['Role']).Gender.value_counts(normalize=True)\n",
    "roles_by_gender.unstack(level=1).plot.barh(figsize=(8,6), stacked=True, title=\"Speaker Role by Gender: All Movies\",\n",
    "                                           colors=['magenta','blue'])\n",
    "plt.legend(loc='center left', bbox_to_anchor=(1, 0.5))\n",
    "plt.show()"
   ]
  },
  {
   "cell_type": "code",
   "execution_count": 51,
   "metadata": {},
   "outputs": [],
   "source": [
    "#let's split this by production company"
   ]
  },
  {
   "cell_type": "code",
   "execution_count": 52,
   "metadata": {},
   "outputs": [],
   "source": [
    "dis_all_dialogue_by_gen_role = all_dialogue_by_gender_role[all_dialogue_by_gender_role.Disney_Period != 'DREAMWORKS']\n",
    "dw_all_dialogue_by_gen_role = all_dialogue_by_gender_role[all_dialogue_by_gender_role.Disney_Period == 'DREAMWORKS']"
   ]
  },
  {
   "cell_type": "code",
   "execution_count": 53,
   "metadata": {},
   "outputs": [
    {
     "name": "stdout",
     "output_type": "stream",
     "text": [
      "<class 'pandas.core.frame.DataFrame'>\n",
      "Int64Index: 5740 entries, 0 to 6785\n",
      "Data columns (total 14 columns):\n",
      "Disney_Period       5740 non-null object\n",
      "Gender              5740 non-null object\n",
      "Movie               5740 non-null object\n",
      "Role                5740 non-null object\n",
      "Song                5740 non-null object\n",
      "Speaker             5740 non-null object\n",
      "Speaker_Status      5740 non-null object\n",
      "Text                5740 non-null object\n",
      "UTTERANCE_NUMBER    5740 non-null int64\n",
      "Year                5740 non-null int64\n",
      "Tokens              5740 non-null object\n",
      "Types               5740 non-null object\n",
      "Token_Count         5740 non-null int64\n",
      "Type_Count          5740 non-null int64\n",
      "dtypes: int64(4), object(10)\n",
      "memory usage: 448.4+ KB\n",
      "None\n",
      "<class 'pandas.core.frame.DataFrame'>\n",
      "Int64Index: 5580 entries, 6786 to 13441\n",
      "Data columns (total 14 columns):\n",
      "Disney_Period       5580 non-null object\n",
      "Gender              5580 non-null object\n",
      "Movie               5580 non-null object\n",
      "Role                5580 non-null object\n",
      "Song                5580 non-null object\n",
      "Speaker             5580 non-null object\n",
      "Speaker_Status      5580 non-null object\n",
      "Text                5580 non-null object\n",
      "UTTERANCE_NUMBER    5580 non-null int64\n",
      "Year                5580 non-null int64\n",
      "Tokens              5580 non-null object\n",
      "Types               5580 non-null object\n",
      "Token_Count         5580 non-null int64\n",
      "Type_Count          5580 non-null int64\n",
      "dtypes: int64(4), object(10)\n",
      "memory usage: 435.9+ KB\n",
      "None\n"
     ]
    }
   ],
   "source": [
    "print(dis_all_dialogue_by_gen_role.info())\n",
    "print(dw_all_dialogue_by_gen_role.info())"
   ]
  },
  {
   "cell_type": "code",
   "execution_count": 54,
   "metadata": {},
   "outputs": [
    {
     "data": {
      "image/png": "[encoded data removed]",
      "text/plain": [
       "<Figure size 576x432 with 1 Axes>"
      ]
     },
     "metadata": {
      "needs_background": "light"
     },
     "output_type": "display_data"
    },
    {
     "data": {
      "text/plain": [
       "<Figure size 432x288 with 0 Axes>"
      ]
     },
     "metadata": {},
     "output_type": "display_data"
    }
   ],
   "source": [
    "dis_roles_by_gender = dis_all_dialogue_by_gen_role.groupby(['Role']).Gender.value_counts(normalize=True)\n",
    "dis_roles_by_gender.unstack(level=1).plot.barh(figsize=(8,6), stacked=True, title=\"Speaker Role by Gender: Disney\",\n",
    "                                           colors=['magenta','blue'])\n",
    "plt.legend(loc='center left', bbox_to_anchor=(1, 1))\n",
    "plt.show()\n",
    "plt.savefig(r\"C:\\Users\\cassi\\Desktop\\Data_Science\\Animated-Movie-Gendered-Dialogue\\images\\speaker_role_by_gen_dis.png\")"
   ]
  },
  {
   "cell_type": "code",
   "execution_count": 55,
   "metadata": {},
   "outputs": [
    {
     "data": {
      "image/png": "[encoded data removed]",
      "text/plain": [
       "<Figure size 576x432 with 1 Axes>"
      ]
     },
     "metadata": {
      "needs_background": "light"
     },
     "output_type": "display_data"
    },
    {
     "data": {
      "text/plain": [
       "<Figure size 432x288 with 0 Axes>"
      ]
     },
     "metadata": {},
     "output_type": "display_data"
    }
   ],
   "source": [
    "dw_roles_by_gender = dw_all_dialogue_by_gen_role.groupby(['Role']).Gender.value_counts(normalize=True)\n",
    "dw_roles_by_gender.unstack(level=1).plot.barh(figsize=(8,6), stacked=True, title=\"Speaker Role by Gender: Dreamworks\",\n",
    "                                           colors=['magenta','blue'])\n",
    "plt.legend(loc='center left', bbox_to_anchor=(1, 0.5))\n",
    "plt.show()\n",
    "plt.savefig(r\"C:\\Users\\cassi\\Desktop\\Data_Science\\Animated-Movie-Gendered-Dialogue\\images\\speaker_role_by_gen_dw.png\")"
   ]
  },
  {
   "cell_type": "code",
   "execution_count": null,
   "metadata": {},
   "outputs": [],
   "source": []
  }
 ],
 "metadata": {
  "kernelspec": {
   "display_name": "Python 3",
   "language": "python",
   "name": "python3"
  },
  "language_info": {
   "codemirror_mode": {
    "name": "ipython",
    "version": 3
   },
   "file_extension": ".py",
   "mimetype": "text/x-python",
   "name": "python",
   "nbconvert_exporter": "python",
   "pygments_lexer": "ipython3",
   "version": "3.6.4"
  }
 },
 "nbformat": 4,
 "nbformat_minor": 2
}
