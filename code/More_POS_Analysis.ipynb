{
 "cells": [
  {
   "cell_type": "markdown",
   "metadata": {},
   "source": [
    "# More POS Analysis\n",
    "Here, I will look at POS frequencies and add some columns to my data"
   ]
  },
  {
   "cell_type": "code",
   "execution_count": 1,
   "metadata": {},
   "outputs": [],
   "source": [
    "import pandas as pd"
   ]
  },
  {
   "cell_type": "code",
   "execution_count": 2,
   "metadata": {},
   "outputs": [],
   "source": [
    "movie_df = pd.read_pickle(r'C:/Users/cassi/Desktop/Data_Science/Animated-Movie-Gendered-Dialogue/private/all_tagged_dialogue.pkl')"
   ]
  },
  {
   "cell_type": "code",
   "execution_count": 3,
   "metadata": {},
   "outputs": [
    {
     "name": "stdout",
     "output_type": "stream",
     "text": [
      "<class 'pandas.core.frame.DataFrame'>\n",
      "Int64Index: 13442 entries, 0 to 14095\n",
      "Data columns (total 17 columns):\n",
      "Disney_Period       13442 non-null object\n",
      "Gender              13442 non-null object\n",
      "Movie               13442 non-null object\n",
      "Role                13442 non-null object\n",
      "Song                13442 non-null object\n",
      "Speaker             13442 non-null object\n",
      "Speaker_Status      13442 non-null object\n",
      "Text                13442 non-null object\n",
      "UTTERANCE_NUMBER    13442 non-null int64\n",
      "Year                13442 non-null int64\n",
      "Tokens              13442 non-null object\n",
      "Types               13442 non-null object\n",
      "Token_Count         13442 non-null int64\n",
      "Type_Count          13442 non-null int64\n",
      "POS                 13442 non-null object\n",
      "Tag_Freq            13442 non-null object\n",
      "Command_Count       13442 non-null int64\n",
      "dtypes: int64(5), object(12)\n",
      "memory usage: 1.2+ MB\n"
     ]
    }
   ],
   "source": [
    "movie_df.info()"
   ]
  },
  {
   "cell_type": "markdown",
   "metadata": {},
   "source": [
    "## Tag Frequencies\n",
    "What are the top POS tags by gender and role?"
   ]
  },
  {
   "cell_type": "code",
   "execution_count": 24,
   "metadata": {},
   "outputs": [
    {
     "data": {
      "text/plain": [
       "[('NN', 9),\n",
       " ('IN', 3),\n",
       " ('.', 3),\n",
       " ('DT', 2),\n",
       " ('JJ', 2),\n",
       " ('VB', 2),\n",
       " ('VBN', 1),\n",
       " ('JJS', 1),\n",
       " ('CC', 1),\n",
       " ('VBP', 1),\n",
       " ('PRP', 1)]"
      ]
     },
     "execution_count": 24,
     "metadata": {},
     "output_type": "execute_result"
    }
   ],
   "source": [
    "movie_df['Tag_Freq'].iloc[0].most_common(1)[0][0]"
   ]
  },
  {
   "cell_type": "code",
   "execution_count": 15,
   "metadata": {},
   "outputs": [],
   "source": [
    "movie_df['Top_Tag'] = movie_df.Tag_Freq.map(lambda x: x.most_common(1)[0][0])"
   ]
  },
  {
   "cell_type": "code",
   "execution_count": 16,
   "metadata": {},
   "outputs": [
    {
     "data": {
      "text/plain": [
       "NN      5285\n",
       ".       1475\n",
       "PRP     1338\n",
       "RB      1003\n",
       "DT       782\n",
       "VB       687\n",
       "JJ       501\n",
       "IN       309\n",
       "WP       281\n",
       "NNS      258\n",
       "VBP      236\n",
       "UH       227\n",
       ",        220\n",
       "CC       173\n",
       ":        104\n",
       "WRB       90\n",
       "VBZ       74\n",
       "VBD       73\n",
       "PRP$      66\n",
       "VBN       59\n",
       "VBG       40\n",
       "CD        39\n",
       "MD        33\n",
       "TO        22\n",
       "WDT       21\n",
       "EX        19\n",
       "RP         6\n",
       "``         6\n",
       "RBR        5\n",
       "FW         2\n",
       "JJR        2\n",
       "PDT        2\n",
       "JJS        2\n",
       "''         1\n",
       "RBS        1\n",
       "Name: Top_Tag, dtype: int64"
      ]
     },
     "execution_count": 16,
     "metadata": {},
     "output_type": "execute_result"
    }
   ],
   "source": [
    "movie_df.Top_Tag.value_counts()"
   ]
  },
  {
   "cell_type": "code",
   "execution_count": 17,
   "metadata": {},
   "outputs": [
    {
     "data": {
      "text/plain": [
       "array(['NN', 'DT', 'JJ', 'UH', 'VB', ',', '.', 'NNS', 'PRP', 'CC', 'IN',\n",
       "       'VBN', 'VBP', 'VBZ', 'RB', 'WP', 'WDT', 'WRB', \"''\", 'RP', 'MD',\n",
       "       'VBD', 'PRP$', 'CD', 'VBG', 'FW', ':', 'EX', 'TO', 'PDT', 'RBR',\n",
       "       'RBS', 'JJR', '``', 'JJS'], dtype=object)"
      ]
     },
     "execution_count": 17,
     "metadata": {},
     "output_type": "execute_result"
    }
   ],
   "source": [
    "movie_df.Top_Tag.unique()"
   ]
  },
  {
   "cell_type": "code",
   "execution_count": 21,
   "metadata": {},
   "outputs": [
    {
     "data": {
      "text/plain": [
       "Gender  Top_Tag\n",
       "f       NN         1596\n",
       "        .           463\n",
       "        PRP         425\n",
       "        RB          326\n",
       "        DT          254\n",
       "        VB          214\n",
       "        JJ          148\n",
       "        WP          106\n",
       "        UH           92\n",
       "        NNS          89\n",
       "        IN           81\n",
       "        CC           78\n",
       "        VBP          70\n",
       "        ,            60\n",
       "        WRB          35\n",
       "        :            28\n",
       "        VBD          26\n",
       "        PRP$         24\n",
       "        VBZ          21\n",
       "        VBN          20\n",
       "        MD           15\n",
       "        WDT          10\n",
       "        VBG           9\n",
       "        EX            7\n",
       "        TO            7\n",
       "        CD            6\n",
       "        RBR           2\n",
       "        RP            2\n",
       "        FW            1\n",
       "        ``            1\n",
       "                   ... \n",
       "m       WDT          11\n",
       "        ``            5\n",
       "        RP            4\n",
       "        RBR           3\n",
       "        JJR           2\n",
       "        JJS           2\n",
       "        PDT           2\n",
       "        ''            1\n",
       "        FW            1\n",
       "        RBS           1\n",
       "n       NN          153\n",
       "        .            33\n",
       "        PRP          23\n",
       "        VB           17\n",
       "        JJ           16\n",
       "        RB           15\n",
       "        DT           11\n",
       "        IN           10\n",
       "        VBP           7\n",
       "        NNS           6\n",
       "        :             3\n",
       "        CC            3\n",
       "        VBN           3\n",
       "        WP            3\n",
       "        ,             2\n",
       "        CD            2\n",
       "        WRB           2\n",
       "        UH            1\n",
       "        VBD           1\n",
       "        VBZ           1\n",
       "Name: Top_Tag, Length: 85, dtype: int64"
      ]
     },
     "execution_count": 21,
     "metadata": {},
     "output_type": "execute_result"
    }
   ],
   "source": [
    "movie_df.groupby('Gender')['Top_Tag'].value_counts()"
   ]
  },
  {
   "cell_type": "code",
   "execution_count": 22,
   "metadata": {},
   "outputs": [
    {
     "data": {
      "text/plain": [
       "Role    Top_Tag\n",
       "ANT     NN          759\n",
       "        .           242\n",
       "        PRP         200\n",
       "        RB          141\n",
       "        VB          135\n",
       "        DT          130\n",
       "        JJ           82\n",
       "        IN           59\n",
       "        NNS          40\n",
       "        WP           35\n",
       "        VBP          32\n",
       "        ,            27\n",
       "        CC           24\n",
       "        UH           22\n",
       "        :            16\n",
       "        PRP$         16\n",
       "        VBZ          16\n",
       "        WRB          13\n",
       "        CD           10\n",
       "        VBD           8\n",
       "        VBN           8\n",
       "        VBG           6\n",
       "        TO            5\n",
       "        WDT           3\n",
       "        ``            3\n",
       "        MD            2\n",
       "        RBR           2\n",
       "        EX            1\n",
       "HELPER  NN         1425\n",
       "        .           378\n",
       "                   ... \n",
       "PRO     NN         2169\n",
       "        .           654\n",
       "        PRP         601\n",
       "        RB          439\n",
       "        DT          373\n",
       "        VB          287\n",
       "        JJ          205\n",
       "        WP          153\n",
       "        IN          124\n",
       "        NNS         122\n",
       "        UH          102\n",
       "        VBP          97\n",
       "        ,            83\n",
       "        CC           65\n",
       "        :            54\n",
       "        WRB          40\n",
       "        VBD          34\n",
       "        PRP$         29\n",
       "        VBN          25\n",
       "        VBZ          23\n",
       "        VBG          17\n",
       "        MD           15\n",
       "        CD           14\n",
       "        TO           11\n",
       "        WDT          11\n",
       "        EX            7\n",
       "        RBR           3\n",
       "        RP            3\n",
       "        FW            1\n",
       "        ``            1\n",
       "Name: Top_Tag, Length: 120, dtype: int64"
      ]
     },
     "execution_count": 22,
     "metadata": {},
     "output_type": "execute_result"
    }
   ],
   "source": [
    "movie_df.groupby('Role')['Top_Tag'].value_counts()"
   ]
  },
  {
   "cell_type": "code",
   "execution_count": 26,
   "metadata": {},
   "outputs": [
    {
     "data": {
      "text/plain": [
       "NN      3536\n",
       ".        979\n",
       "PRP      890\n",
       "RB       662\n",
       "DT       517\n",
       "VB       456\n",
       "JJ       337\n",
       "IN       218\n",
       "WP       172\n",
       "NNS      163\n",
       "VBP      159\n",
       ",        158\n",
       "UH       134\n",
       "CC        92\n",
       ":         73\n",
       "WRB       53\n",
       "VBZ       52\n",
       "VBD       46\n",
       "PRP$      42\n",
       "VBN       36\n",
       "VBG       31\n",
       "CD        31\n",
       "MD        18\n",
       "TO        15\n",
       "EX        12\n",
       "WDT       11\n",
       "``         5\n",
       "RP         4\n",
       "RBR        3\n",
       "JJS        2\n",
       "JJR        2\n",
       "PDT        2\n",
       "RBS        1\n",
       "''         1\n",
       "FW         1\n",
       "Name: Top_Tag, dtype: int64"
      ]
     },
     "execution_count": 26,
     "metadata": {},
     "output_type": "execute_result"
    }
   ],
   "source": [
    "movie_df[movie_df.Gender == 'm']['Top_Tag'].value_counts()"
   ]
  },
  {
   "cell_type": "markdown",
   "metadata": {},
   "source": [
    "## Adjectives\n",
    "First, let's add a column of adjective count by line. Then we'll add a column for adjective count divided by the total token count of the line"
   ]
  },
  {
   "cell_type": "code",
   "execution_count": 27,
   "metadata": {},
   "outputs": [],
   "source": [
    "movie_df['Adj_Count'] = movie_df['Tag_Freq'].map(lambda x: x['JJ']+x['JJR']+x['JJS'])"
   ]
  },
  {
   "cell_type": "code",
   "execution_count": 28,
   "metadata": {},
   "outputs": [],
   "source": [
    "movie_df['Adj_over_Tokens'] = movie_df.Adj_Count / movie_df.Token_Count"
   ]
  },
  {
   "cell_type": "code",
   "execution_count": 29,
   "metadata": {},
   "outputs": [
    {
     "data": {
      "text/plain": [
       "count    13442.000000\n",
       "mean         0.048808\n",
       "std          0.079000\n",
       "min          0.000000\n",
       "25%          0.000000\n",
       "50%          0.000000\n",
       "75%          0.083333\n",
       "max          1.000000\n",
       "Name: Adj_over_Tokens, dtype: float64"
      ]
     },
     "execution_count": 29,
     "metadata": {},
     "output_type": "execute_result"
    }
   ],
   "source": [
    "movie_df.Adj_over_Tokens.describe() #some REALLY small numbers here"
   ]
  },
  {
   "cell_type": "code",
   "execution_count": 32,
   "metadata": {},
   "outputs": [],
   "source": [
    "from matplotlib import pyplot as plt"
   ]
  },
  {
   "cell_type": "code",
   "execution_count": 30,
   "metadata": {},
   "outputs": [],
   "source": [
    "adj_by_gen = movie_df.groupby('Gender')['Adj_Count'].describe()['mean']"
   ]
  },
  {
   "cell_type": "code",
   "execution_count": 33,
   "metadata": {},
   "outputs": [
    {
     "data": {
      "text/plain": [
       "<matplotlib.axes._subplots.AxesSubplot at 0x10a1df0>"
      ]
     },
     "execution_count": 33,
     "metadata": {},
     "output_type": "execute_result"
    },
    {
     "data": {
      "image/png": "[encoded data removed]",
      "text/plain": [
       "<Figure size 432x288 with 1 Axes>"
      ]
     },
     "metadata": {
      "needs_background": "light"
     },
     "output_type": "display_data"
    }
   ],
   "source": [
    "adj_by_gen.plot.bar()"
   ]
  },
  {
   "cell_type": "code",
   "execution_count": 34,
   "metadata": {},
   "outputs": [],
   "source": [
    "adj_av_by_gen = movie_df.groupby('Gender')['Adj_over_Tokens'].describe()['mean']"
   ]
  },
  {
   "cell_type": "code",
   "execution_count": 35,
   "metadata": {},
   "outputs": [
    {
     "data": {
      "text/plain": [
       "<matplotlib.axes._subplots.AxesSubplot at 0x1232310>"
      ]
     },
     "execution_count": 35,
     "metadata": {},
     "output_type": "execute_result"
    },
    {
     "data": {
      "image/png": "[encoded data removed]",
      "text/plain": [
       "<Figure size 432x288 with 1 Axes>"
      ]
     },
     "metadata": {
      "needs_background": "light"
     },
     "output_type": "display_data"
    }
   ],
   "source": [
    "adj_av_by_gen.plot.bar()"
   ]
  },
  {
   "cell_type": "code",
   "execution_count": 37,
   "metadata": {},
   "outputs": [],
   "source": [
    "adj_by_role = movie_df.groupby('Role')['Adj_Count'].describe()['mean']"
   ]
  },
  {
   "cell_type": "code",
   "execution_count": 38,
   "metadata": {},
   "outputs": [
    {
     "data": {
      "text/plain": [
       "<matplotlib.axes._subplots.AxesSubplot at 0x12314b0>"
      ]
     },
     "execution_count": 38,
     "metadata": {},
     "output_type": "execute_result"
    },
    {
     "data": {
      "image/png": "[encoded data removed]",
      "text/plain": [
       "<Figure size 432x288 with 1 Axes>"
      ]
     },
     "metadata": {
      "needs_background": "light"
     },
     "output_type": "display_data"
    }
   ],
   "source": [
    "adj_by_role.plot.bar()"
   ]
  },
  {
   "cell_type": "code",
   "execution_count": 39,
   "metadata": {},
   "outputs": [
    {
     "data": {
      "text/plain": [
       "<matplotlib.axes._subplots.AxesSubplot at 0xbefc090>"
      ]
     },
     "execution_count": 39,
     "metadata": {},
     "output_type": "execute_result"
    },
    {
     "data": {
      "image/png": "[encoded data removed]",
      "text/plain": [
       "<Figure size 432x288 with 1 Axes>"
      ]
     },
     "metadata": {
      "needs_background": "light"
     },
     "output_type": "display_data"
    }
   ],
   "source": [
    "adj_av_by_role = movie_df.groupby('Role')['Adj_over_Tokens'].describe()['mean']\n",
    "adj_av_by_role.plot.bar()"
   ]
  },
  {
   "cell_type": "code",
   "execution_count": 41,
   "metadata": {},
   "outputs": [
    {
     "data": {
      "text/plain": [
       "<matplotlib.axes._subplots.AxesSubplot at 0xbf009d0>"
      ]
     },
     "execution_count": 41,
     "metadata": {},
     "output_type": "execute_result"
    },
    {
     "data": {
      "image/png": "[encoded data removed]",
      "text/plain": [
       "<Figure size 720x432 with 1 Axes>"
      ]
     },
     "metadata": {
      "needs_background": "light"
     },
     "output_type": "display_data"
    }
   ],
   "source": [
    "adj_by_gen_role = movie_df.groupby(['Gender','Role'], sort=False)[\"Adj_Count\"].describe()['mean']\n",
    "adj_by_gen_role.unstack().plot.bar(color = ['red','purple', 'blue', 'green'], figsize = (10,6))"
   ]
  },
  {
   "cell_type": "code",
   "execution_count": 42,
   "metadata": {},
   "outputs": [
    {
     "data": {
      "text/plain": [
       "<matplotlib.axes._subplots.AxesSubplot at 0xbf08f10>"
      ]
     },
     "execution_count": 42,
     "metadata": {},
     "output_type": "execute_result"
    },
    {
     "data": {
      "image/png": "[encoded data removed]",
      "text/plain": [
       "<Figure size 720x432 with 1 Axes>"
      ]
     },
     "metadata": {
      "needs_background": "light"
     },
     "output_type": "display_data"
    }
   ],
   "source": [
    "adj_av_by_gen_role = movie_df.groupby(['Gender','Role'], sort=False)[\"Adj_over_Tokens\"].describe()['mean']\n",
    "adj_av_by_gen_role.unstack().plot.bar(color = ['red','purple', 'blue', 'green'], figsize = (10,6))"
   ]
  },
  {
   "cell_type": "code",
   "execution_count": 43,
   "metadata": {},
   "outputs": [
    {
     "data": {
      "text/plain": [
       "<matplotlib.axes._subplots.AxesSubplot at 0x11f43eb0>"
      ]
     },
     "execution_count": 43,
     "metadata": {},
     "output_type": "execute_result"
    },
    {
     "data": {
      "image/png": "[encoded data removed]",
      "text/plain": [
       "<Figure size 720x432 with 1 Axes>"
      ]
     },
     "metadata": {
      "needs_background": "light"
     },
     "output_type": "display_data"
    }
   ],
   "source": [
    "adj_av_by_gen_era = movie_df.groupby(['Disney_Period','Gender'], sort=False)[\"Adj_over_Tokens\"].describe()['mean']\n",
    "adj_av_by_gen_era.unstack().plot.bar(color = ['magenta', 'blue'], figsize = (10,6))"
   ]
  },
  {
   "cell_type": "code",
   "execution_count": 44,
   "metadata": {},
   "outputs": [
    {
     "data": {
      "text/plain": [
       "<matplotlib.axes._subplots.AxesSubplot at 0x11f312d0>"
      ]
     },
     "execution_count": 44,
     "metadata": {},
     "output_type": "execute_result"
    },
    {
     "data": {
      "image/png": "[encoded data removed]",
      "text/plain": [
       "<Figure size 720x432 with 1 Axes>"
      ]
     },
     "metadata": {
      "needs_background": "light"
     },
     "output_type": "display_data"
    }
   ],
   "source": [
    "adj_by_gen_era = movie_df.groupby(['Disney_Period','Gender'], sort=False)[\"Adj_Count\"].describe()['mean']\n",
    "adj_by_gen_era.unstack().plot.bar(color = ['magenta', 'blue'], figsize = (10,6))"
   ]
  },
  {
   "cell_type": "code",
   "execution_count": 46,
   "metadata": {},
   "outputs": [
    {
     "data": {
      "text/plain": [
       "<matplotlib.axes._subplots.AxesSubplot at 0x121c7f30>"
      ]
     },
     "execution_count": 46,
     "metadata": {},
     "output_type": "execute_result"
    },
    {
     "data": {
      "image/png": "[encoded data removed]",
      "text/plain": [
       "<Figure size 720x432 with 1 Axes>"
      ]
     },
     "metadata": {
      "needs_background": "light"
     },
     "output_type": "display_data"
    }
   ],
   "source": [
    "adj_av_by_role_era = movie_df.groupby(['Disney_Period','Role'], sort=False)[\"Adj_over_Tokens\"].describe()['mean']\n",
    "adj_av_by_role_era.unstack().plot.bar(color = ['red', 'blue', 'purple'], figsize = (10,6))"
   ]
  },
  {
   "cell_type": "code",
   "execution_count": null,
   "metadata": {},
   "outputs": [],
   "source": []
  },
  {
   "cell_type": "code",
   "execution_count": null,
   "metadata": {},
   "outputs": [],
   "source": []
  },
  {
   "cell_type": "code",
   "execution_count": null,
   "metadata": {},
   "outputs": [],
   "source": []
  },
  {
   "cell_type": "code",
   "execution_count": null,
   "metadata": {},
   "outputs": [],
   "source": []
  },
  {
   "cell_type": "markdown",
   "metadata": {},
   "source": [
    "## Interjections\n",
    "Perhaps interjections could be a sign of confidence? First, let's see what kinds of interjections we've got"
   ]
  },
  {
   "cell_type": "code",
   "execution_count": 47,
   "metadata": {},
   "outputs": [
    {
     "data": {
      "text/plain": [
       "[('slave', 'NN'),\n",
       " ('in', 'IN'),\n",
       " ('the', 'DT'),\n",
       " ('magic', 'JJ'),\n",
       " ('mirror', 'NN'),\n",
       " ('come', 'VBN'),\n",
       " ('from', 'IN'),\n",
       " ('the', 'DT'),\n",
       " ('farthest', 'JJS'),\n",
       " ('space', 'NN'),\n",
       " ('through', 'IN'),\n",
       " ('wind', 'NN'),\n",
       " ('and', 'CC'),\n",
       " ('darkness', 'NN'),\n",
       " ('i', 'NN'),\n",
       " ('summon', 'VBP'),\n",
       " ('thee', 'NN'),\n",
       " ('.', '.'),\n",
       " ('speak', 'NN'),\n",
       " ('!', '.'),\n",
       " ('let', 'VB'),\n",
       " ('me', 'PRP'),\n",
       " ('see', 'VB'),\n",
       " ('thy', 'JJ'),\n",
       " ('face', 'NN'),\n",
       " ('.', '.')]"
      ]
     },
     "execution_count": 47,
     "metadata": {},
     "output_type": "execute_result"
    }
   ],
   "source": [
    "movie_df['POS'].iloc[0]"
   ]
  },
  {
   "cell_type": "code",
   "execution_count": 48,
   "metadata": {},
   "outputs": [],
   "source": [
    "movie_df['Interjection_Count'] = movie_df['Tag_Freq'].map(lambda x: x['UH'])"
   ]
  },
  {
   "cell_type": "code",
   "execution_count": 49,
   "metadata": {},
   "outputs": [],
   "source": [
    "movie_df['Inter_over_Tokens'] = movie_df.Interjection_Count / movie_df.Token_Count"
   ]
  },
  {
   "cell_type": "code",
   "execution_count": 53,
   "metadata": {},
   "outputs": [
    {
     "data": {
      "text/plain": [
       "(1072, 22)"
      ]
     },
     "execution_count": 53,
     "metadata": {},
     "output_type": "execute_result"
    }
   ],
   "source": [
    "movie_df[movie_df.Interjection_Count >= 1].shape"
   ]
  },
  {
   "cell_type": "code",
   "execution_count": 55,
   "metadata": {},
   "outputs": [
    {
     "data": {
      "text/html": [
       "<div>\n",
       "<style scoped>\n",
       "    .dataframe tbody tr th:only-of-type {\n",
       "        vertical-align: middle;\n",
       "    }\n",
       "\n",
       "    .dataframe tbody tr th {\n",
       "        vertical-align: top;\n",
       "    }\n",
       "\n",
       "    .dataframe thead th {\n",
       "        text-align: right;\n",
       "    }\n",
       "</style>\n",
       "<table border=\"1\" class=\"dataframe\">\n",
       "  <thead>\n",
       "    <tr style=\"text-align: right;\">\n",
       "      <th></th>\n",
       "      <th>Speaker</th>\n",
       "      <th>POS</th>\n",
       "    </tr>\n",
       "  </thead>\n",
       "  <tbody>\n",
       "    <tr>\n",
       "      <th>9</th>\n",
       "      <td>snow white</td>\n",
       "      <td>[(oh, UH), (!, .)]</td>\n",
       "    </tr>\n",
       "    <tr>\n",
       "      <th>11</th>\n",
       "      <td>snow white</td>\n",
       "      <td>[(oh, UH), (., .)]</td>\n",
       "    </tr>\n",
       "    <tr>\n",
       "      <th>14</th>\n",
       "      <td>guard</td>\n",
       "      <td>[(yes, UH), (,, ,), (your, PRP$), (majesty, NN...</td>\n",
       "    </tr>\n",
       "    <tr>\n",
       "      <th>18</th>\n",
       "      <td>guard</td>\n",
       "      <td>[(yes, UH), (,, ,), (your, PRP$), (majesty, NN...</td>\n",
       "    </tr>\n",
       "    <tr>\n",
       "      <th>21</th>\n",
       "      <td>snow white</td>\n",
       "      <td>[(hello, NN), (there, RB), (., .), (what, WP),...</td>\n",
       "    </tr>\n",
       "    <tr>\n",
       "      <th>29</th>\n",
       "      <td>snow white</td>\n",
       "      <td>[(oh, UH), (!, .), (please, NN), (,, ,), (do, ...</td>\n",
       "    </tr>\n",
       "    <tr>\n",
       "      <th>37</th>\n",
       "      <td>snow white</td>\n",
       "      <td>[(will, MD), (you, PRP), (take, VB), (me, PRP)...</td>\n",
       "    </tr>\n",
       "    <tr>\n",
       "      <th>38</th>\n",
       "      <td>snow white</td>\n",
       "      <td>[(hello, NNS), (?, .), (may, MD), (i, VB), (co...</td>\n",
       "    </tr>\n",
       "    <tr>\n",
       "      <th>55</th>\n",
       "      <td>snow white</td>\n",
       "      <td>[(oh, UH), (,, ,), (what, WP), (adorable, JJ),...</td>\n",
       "    </tr>\n",
       "    <tr>\n",
       "      <th>56</th>\n",
       "      <td>snow white</td>\n",
       "      <td>[(what, WP), (funny, VBZ), (names, NNS), (for,...</td>\n",
       "    </tr>\n",
       "    <tr>\n",
       "      <th>67</th>\n",
       "      <td>doc</td>\n",
       "      <td>[(yes, RB), (., .), (ahem, NN), (,, ,), (we, P...</td>\n",
       "    </tr>\n",
       "    <tr>\n",
       "      <th>86</th>\n",
       "      <td>sneezy</td>\n",
       "      <td>[(do, VBP), (n't, RB), (do, VB), (it, PRP), (....</td>\n",
       "    </tr>\n",
       "    <tr>\n",
       "      <th>91</th>\n",
       "      <td>sneezy</td>\n",
       "      <td>[(oh, UH), (,, ,), (ahahah, JJ)]</td>\n",
       "    </tr>\n",
       "    <tr>\n",
       "      <th>99</th>\n",
       "      <td>doc</td>\n",
       "      <td>[(one, CD), (of, IN), (us, PRP), (has, VBZ), (...</td>\n",
       "    </tr>\n",
       "    <tr>\n",
       "      <th>101</th>\n",
       "      <td>all dwarfs</td>\n",
       "      <td>[(yes, UH), (,, ,), (right, JJ), (behind, IN),...</td>\n",
       "    </tr>\n",
       "    <tr>\n",
       "      <th>109</th>\n",
       "      <td>all dwarfs</td>\n",
       "      <td>[(yeah, UH), (,, ,), (while, IN), (it, PRP), (...</td>\n",
       "    </tr>\n",
       "    <tr>\n",
       "      <th>116</th>\n",
       "      <td>doc</td>\n",
       "      <td>[(well, RB), (,, ,), (uh, UH), (,, ,), (uh, JJ)]</td>\n",
       "    </tr>\n",
       "    <tr>\n",
       "      <th>130</th>\n",
       "      <td>snow white</td>\n",
       "      <td>[(oh, UH), (,, ,), (dear, JJ), (!, .), (i, JJ)...</td>\n",
       "    </tr>\n",
       "    <tr>\n",
       "      <th>132</th>\n",
       "      <td>snow white</td>\n",
       "      <td>[(oh, UH), (,, ,), (you, PRP), (can, MD), (tal...</td>\n",
       "    </tr>\n",
       "    <tr>\n",
       "      <th>133</th>\n",
       "      <td>doc</td>\n",
       "      <td>[(whywhywhy, NN), (,, ,), (yes, UH), (!, .), (...</td>\n",
       "    </tr>\n",
       "    <tr>\n",
       "      <th>135</th>\n",
       "      <td>bashful</td>\n",
       "      <td>[(oh, UH), (,, ,), (gosh, JJ), (!, .)]</td>\n",
       "    </tr>\n",
       "    <tr>\n",
       "      <th>142</th>\n",
       "      <td>snow white</td>\n",
       "      <td>[(yes, UH), (,, ,), (and, CC), (you, PRP), (mu...</td>\n",
       "    </tr>\n",
       "    <tr>\n",
       "      <th>146</th>\n",
       "      <td>snow white</td>\n",
       "      <td>[(oh, UH), (,, ,), (that, DT), ('s, VBZ), (too...</td>\n",
       "    </tr>\n",
       "    <tr>\n",
       "      <th>147</th>\n",
       "      <td>snow white</td>\n",
       "      <td>[(oh, UH), (,, ,), (you, PRP), (must, MD), (be...</td>\n",
       "    </tr>\n",
       "    <tr>\n",
       "      <th>148</th>\n",
       "      <td>doc</td>\n",
       "      <td>[(oh, UH), (,, ,), (yeah, UH), (., .)]</td>\n",
       "    </tr>\n",
       "    <tr>\n",
       "      <th>150</th>\n",
       "      <td>doc</td>\n",
       "      <td>[(hmph, NN), (!, .), (yes, UH), (!, .), (what,...</td>\n",
       "    </tr>\n",
       "    <tr>\n",
       "      <th>151</th>\n",
       "      <td>snow white</td>\n",
       "      <td>[(oh, UH), (,, ,), (how, WRB), (silly, RB), (o...</td>\n",
       "    </tr>\n",
       "    <tr>\n",
       "      <th>154</th>\n",
       "      <td>doc</td>\n",
       "      <td>[(well, RB), (,, ,), (my, PRP$), (dear, JJ), (...</td>\n",
       "    </tr>\n",
       "    <tr>\n",
       "      <th>158</th>\n",
       "      <td>doc</td>\n",
       "      <td>[(who, WP), ('s, VBZ), (butterin, NN), (', '')...</td>\n",
       "    </tr>\n",
       "    <tr>\n",
       "      <th>162</th>\n",
       "      <td>various dwarfs</td>\n",
       "      <td>[(who, WP), (will, MD), (?, .), (yes, UH), (,,...</td>\n",
       "    </tr>\n",
       "    <tr>\n",
       "      <th>...</th>\n",
       "      <td>...</td>\n",
       "      <td>...</td>\n",
       "    </tr>\n",
       "    <tr>\n",
       "      <th>13458</th>\n",
       "      <td>hiccup</td>\n",
       "      <td>[(oh, UH), (,, ,), (you, PRP), ('re, VBP), (go...</td>\n",
       "    </tr>\n",
       "    <tr>\n",
       "      <th>13468</th>\n",
       "      <td>astrid</td>\n",
       "      <td>[(--, :), (to, TO), (make, VB), (you, PRP), (c...</td>\n",
       "    </tr>\n",
       "    <tr>\n",
       "      <th>13512</th>\n",
       "      <td>eret</td>\n",
       "      <td>[(oh, UH), (,, ,), (where, WRB), (are, VBP), (...</td>\n",
       "    </tr>\n",
       "    <tr>\n",
       "      <th>13520</th>\n",
       "      <td>stoick</td>\n",
       "      <td>[(oh, UH), (,, ,), (he, PRP), ('s, VBZ), (read...</td>\n",
       "    </tr>\n",
       "    <tr>\n",
       "      <th>13525</th>\n",
       "      <td>hiccup</td>\n",
       "      <td>[(not, RB), (quite, RB), (the, DT), (itch, NN)...</td>\n",
       "    </tr>\n",
       "    <tr>\n",
       "      <th>13543</th>\n",
       "      <td>gobber</td>\n",
       "      <td>[(oh, UH), (,, ,), (really, RB), (?, .), (your...</td>\n",
       "    </tr>\n",
       "    <tr>\n",
       "      <th>13558</th>\n",
       "      <td>hiccup</td>\n",
       "      <td>[(uh, NN), (,, ,), (yeah, UH), (., .), (wait, ...</td>\n",
       "    </tr>\n",
       "    <tr>\n",
       "      <th>13598</th>\n",
       "      <td>hiccup</td>\n",
       "      <td>[(oh, UH), (,, ,), (yeah, UH), (,, ,), (there,...</td>\n",
       "    </tr>\n",
       "    <tr>\n",
       "      <th>13615</th>\n",
       "      <td>ruffnut</td>\n",
       "      <td>[(oh, UH), (,, ,), (my, PRP$), (., .)]</td>\n",
       "    </tr>\n",
       "    <tr>\n",
       "      <th>13716</th>\n",
       "      <td>hiccup</td>\n",
       "      <td>[(yeah, UH), (,, ,), (it, PRP), (runs, VBZ), (...</td>\n",
       "    </tr>\n",
       "    <tr>\n",
       "      <th>13719</th>\n",
       "      <td>valka</td>\n",
       "      <td>[(oh, UH), (,, ,), (cloudjumper, JJ), (never, ...</td>\n",
       "    </tr>\n",
       "    <tr>\n",
       "      <th>13730</th>\n",
       "      <td>hiccup</td>\n",
       "      <td>[(uh, NN), (,, ,), (yeah, UH), (., .), (i, NN)...</td>\n",
       "    </tr>\n",
       "    <tr>\n",
       "      <th>13752</th>\n",
       "      <td>valka</td>\n",
       "      <td>[(oh, UH), (,, ,), (we, PRP), (are, VBP), (., .)]</td>\n",
       "    </tr>\n",
       "    <tr>\n",
       "      <th>13799</th>\n",
       "      <td>astrid</td>\n",
       "      <td>[(oh, UH), (,, ,), (yes, UH), (they, PRP), (wi...</td>\n",
       "    </tr>\n",
       "    <tr>\n",
       "      <th>13829</th>\n",
       "      <td>stoick</td>\n",
       "      <td>[(yeah, NN), (,, ,), (yeah, UH), (,, ,), (tell...</td>\n",
       "    </tr>\n",
       "    <tr>\n",
       "      <th>13833</th>\n",
       "      <td>stoick</td>\n",
       "      <td>[(yeah, UH), (,, ,), (just, RB), (add, VB), (i...</td>\n",
       "    </tr>\n",
       "    <tr>\n",
       "      <th>13835</th>\n",
       "      <td>gobber</td>\n",
       "      <td>[(uh, NN), (,, ,), (you, PRP), (might, MD), (w...</td>\n",
       "    </tr>\n",
       "    <tr>\n",
       "      <th>13845</th>\n",
       "      <td>tuffnut</td>\n",
       "      <td>[(uh, UH), (,, ,), (let, VB), (me, PRP), (see,...</td>\n",
       "    </tr>\n",
       "    <tr>\n",
       "      <th>13869</th>\n",
       "      <td>hiccup</td>\n",
       "      <td>[(oh, UH), (., .), (gotcha, NN), (., .)]</td>\n",
       "    </tr>\n",
       "    <tr>\n",
       "      <th>13870</th>\n",
       "      <td>gobber</td>\n",
       "      <td>[(oh, UH), (,, ,), (i, JJ), (love, VBP), (this...</td>\n",
       "    </tr>\n",
       "    <tr>\n",
       "      <th>13891</th>\n",
       "      <td>valka</td>\n",
       "      <td>[(yes, UH), (!, .)]</td>\n",
       "    </tr>\n",
       "    <tr>\n",
       "      <th>13896</th>\n",
       "      <td>hiccup</td>\n",
       "      <td>[(oh, UH), (,, ,), (no, DT), (..., :)]</td>\n",
       "    </tr>\n",
       "    <tr>\n",
       "      <th>13903</th>\n",
       "      <td>tuffnut</td>\n",
       "      <td>[(surprise, NN), (!, .), (yeah, UH), (!, .)]</td>\n",
       "    </tr>\n",
       "    <tr>\n",
       "      <th>13917</th>\n",
       "      <td>hiccup</td>\n",
       "      <td>[(oh, UH), (,, ,), (y'know, JJ), (., .), (catc...</td>\n",
       "    </tr>\n",
       "    <tr>\n",
       "      <th>14000</th>\n",
       "      <td>tuffnut</td>\n",
       "      <td>[(yeah, UH), (,, ,), (just, RB), (like, IN), (...</td>\n",
       "    </tr>\n",
       "    <tr>\n",
       "      <th>14029</th>\n",
       "      <td>drago</td>\n",
       "      <td>[(but, CC), (,, ,), (please, VB), (,, ,), (oh,...</td>\n",
       "    </tr>\n",
       "    <tr>\n",
       "      <th>14059</th>\n",
       "      <td>hiccup</td>\n",
       "      <td>[(oh, UH), (,, ,), (no, DT), (!, .)]</td>\n",
       "    </tr>\n",
       "    <tr>\n",
       "      <th>14072</th>\n",
       "      <td>gobber</td>\n",
       "      <td>[(oh, UH), (,, ,), (give, VB), (me, PRP), (a, ...</td>\n",
       "    </tr>\n",
       "    <tr>\n",
       "      <th>14076</th>\n",
       "      <td>ruffnut</td>\n",
       "      <td>[(oh, UH), (barf, NN), (!, .)]</td>\n",
       "    </tr>\n",
       "    <tr>\n",
       "      <th>14090</th>\n",
       "      <td>hiccup</td>\n",
       "      <td>[(those, DT), (who, WP), (attacked, VBD), (us,...</td>\n",
       "    </tr>\n",
       "  </tbody>\n",
       "</table>\n",
       "<p>1072 rows × 2 columns</p>\n",
       "</div>"
      ],
      "text/plain": [
       "              Speaker                                                POS\n",
       "9          snow white                                 [(oh, UH), (!, .)]\n",
       "11         snow white                                 [(oh, UH), (., .)]\n",
       "14              guard  [(yes, UH), (,, ,), (your, PRP$), (majesty, NN...\n",
       "18              guard  [(yes, UH), (,, ,), (your, PRP$), (majesty, NN...\n",
       "21         snow white  [(hello, NN), (there, RB), (., .), (what, WP),...\n",
       "29         snow white  [(oh, UH), (!, .), (please, NN), (,, ,), (do, ...\n",
       "37         snow white  [(will, MD), (you, PRP), (take, VB), (me, PRP)...\n",
       "38         snow white  [(hello, NNS), (?, .), (may, MD), (i, VB), (co...\n",
       "55         snow white  [(oh, UH), (,, ,), (what, WP), (adorable, JJ),...\n",
       "56         snow white  [(what, WP), (funny, VBZ), (names, NNS), (for,...\n",
       "67                doc  [(yes, RB), (., .), (ahem, NN), (,, ,), (we, P...\n",
       "86             sneezy  [(do, VBP), (n't, RB), (do, VB), (it, PRP), (....\n",
       "91             sneezy                   [(oh, UH), (,, ,), (ahahah, JJ)]\n",
       "99                doc  [(one, CD), (of, IN), (us, PRP), (has, VBZ), (...\n",
       "101        all dwarfs  [(yes, UH), (,, ,), (right, JJ), (behind, IN),...\n",
       "109        all dwarfs  [(yeah, UH), (,, ,), (while, IN), (it, PRP), (...\n",
       "116               doc   [(well, RB), (,, ,), (uh, UH), (,, ,), (uh, JJ)]\n",
       "130        snow white  [(oh, UH), (,, ,), (dear, JJ), (!, .), (i, JJ)...\n",
       "132        snow white  [(oh, UH), (,, ,), (you, PRP), (can, MD), (tal...\n",
       "133               doc  [(whywhywhy, NN), (,, ,), (yes, UH), (!, .), (...\n",
       "135           bashful             [(oh, UH), (,, ,), (gosh, JJ), (!, .)]\n",
       "142        snow white  [(yes, UH), (,, ,), (and, CC), (you, PRP), (mu...\n",
       "146        snow white  [(oh, UH), (,, ,), (that, DT), ('s, VBZ), (too...\n",
       "147        snow white  [(oh, UH), (,, ,), (you, PRP), (must, MD), (be...\n",
       "148               doc             [(oh, UH), (,, ,), (yeah, UH), (., .)]\n",
       "150               doc  [(hmph, NN), (!, .), (yes, UH), (!, .), (what,...\n",
       "151        snow white  [(oh, UH), (,, ,), (how, WRB), (silly, RB), (o...\n",
       "154               doc  [(well, RB), (,, ,), (my, PRP$), (dear, JJ), (...\n",
       "158               doc  [(who, WP), ('s, VBZ), (butterin, NN), (', '')...\n",
       "162    various dwarfs  [(who, WP), (will, MD), (?, .), (yes, UH), (,,...\n",
       "...               ...                                                ...\n",
       "13458          hiccup  [(oh, UH), (,, ,), (you, PRP), ('re, VBP), (go...\n",
       "13468          astrid  [(--, :), (to, TO), (make, VB), (you, PRP), (c...\n",
       "13512            eret  [(oh, UH), (,, ,), (where, WRB), (are, VBP), (...\n",
       "13520          stoick  [(oh, UH), (,, ,), (he, PRP), ('s, VBZ), (read...\n",
       "13525          hiccup  [(not, RB), (quite, RB), (the, DT), (itch, NN)...\n",
       "13543          gobber  [(oh, UH), (,, ,), (really, RB), (?, .), (your...\n",
       "13558          hiccup  [(uh, NN), (,, ,), (yeah, UH), (., .), (wait, ...\n",
       "13598          hiccup  [(oh, UH), (,, ,), (yeah, UH), (,, ,), (there,...\n",
       "13615         ruffnut             [(oh, UH), (,, ,), (my, PRP$), (., .)]\n",
       "13716          hiccup  [(yeah, UH), (,, ,), (it, PRP), (runs, VBZ), (...\n",
       "13719           valka  [(oh, UH), (,, ,), (cloudjumper, JJ), (never, ...\n",
       "13730          hiccup  [(uh, NN), (,, ,), (yeah, UH), (., .), (i, NN)...\n",
       "13752           valka  [(oh, UH), (,, ,), (we, PRP), (are, VBP), (., .)]\n",
       "13799          astrid  [(oh, UH), (,, ,), (yes, UH), (they, PRP), (wi...\n",
       "13829          stoick  [(yeah, NN), (,, ,), (yeah, UH), (,, ,), (tell...\n",
       "13833          stoick  [(yeah, UH), (,, ,), (just, RB), (add, VB), (i...\n",
       "13835          gobber  [(uh, NN), (,, ,), (you, PRP), (might, MD), (w...\n",
       "13845         tuffnut  [(uh, UH), (,, ,), (let, VB), (me, PRP), (see,...\n",
       "13869          hiccup           [(oh, UH), (., .), (gotcha, NN), (., .)]\n",
       "13870          gobber  [(oh, UH), (,, ,), (i, JJ), (love, VBP), (this...\n",
       "13891           valka                                [(yes, UH), (!, .)]\n",
       "13896          hiccup             [(oh, UH), (,, ,), (no, DT), (..., :)]\n",
       "13903         tuffnut       [(surprise, NN), (!, .), (yeah, UH), (!, .)]\n",
       "13917          hiccup  [(oh, UH), (,, ,), (y'know, JJ), (., .), (catc...\n",
       "14000         tuffnut  [(yeah, UH), (,, ,), (just, RB), (like, IN), (...\n",
       "14029           drago  [(but, CC), (,, ,), (please, VB), (,, ,), (oh,...\n",
       "14059          hiccup               [(oh, UH), (,, ,), (no, DT), (!, .)]\n",
       "14072          gobber  [(oh, UH), (,, ,), (give, VB), (me, PRP), (a, ...\n",
       "14076         ruffnut                     [(oh, UH), (barf, NN), (!, .)]\n",
       "14090          hiccup  [(those, DT), (who, WP), (attacked, VBD), (us,...\n",
       "\n",
       "[1072 rows x 2 columns]"
      ]
     },
     "execution_count": 55,
     "metadata": {},
     "output_type": "execute_result"
    }
   ],
   "source": [
    "movie_df[movie_df.Interjection_Count >= 1][['Speaker','POS']]"
   ]
  },
  {
   "cell_type": "code",
   "execution_count": 56,
   "metadata": {},
   "outputs": [],
   "source": [
    "inter_av_by_gen = movie_df.groupby('Gender')['Inter_over_Tokens'].describe()['mean']"
   ]
  },
  {
   "cell_type": "code",
   "execution_count": 57,
   "metadata": {},
   "outputs": [
    {
     "data": {
      "text/plain": [
       "<matplotlib.axes._subplots.AxesSubplot at 0x122179f0>"
      ]
     },
     "execution_count": 57,
     "metadata": {},
     "output_type": "execute_result"
    },
    {
     "data": {
      "image/png": "[encoded data removed]",
      "text/plain": [
       "<Figure size 432x288 with 1 Axes>"
      ]
     },
     "metadata": {
      "needs_background": "light"
     },
     "output_type": "display_data"
    }
   ],
   "source": [
    "inter_av_by_gen.plot.bar()"
   ]
  },
  {
   "cell_type": "code",
   "execution_count": 59,
   "metadata": {},
   "outputs": [],
   "source": [
    "inter = []\n",
    "for line in movie_df.POS:\n",
    "    for word in line:\n",
    "        if word[1] == 'UH':\n",
    "            inter.append(word[0])"
   ]
  },
  {
   "cell_type": "code",
   "execution_count": 60,
   "metadata": {},
   "outputs": [
    {
     "data": {
      "text/plain": [
       "1256"
      ]
     },
     "execution_count": 60,
     "metadata": {},
     "output_type": "execute_result"
    }
   ],
   "source": [
    "len(inter)"
   ]
  },
  {
   "cell_type": "code",
   "execution_count": 61,
   "metadata": {},
   "outputs": [
    {
     "data": {
      "text/plain": [
       "28"
      ]
     },
     "execution_count": 61,
     "metadata": {},
     "output_type": "execute_result"
    }
   ],
   "source": [
    "len(set(inter))"
   ]
  },
  {
   "cell_type": "code",
   "execution_count": 62,
   "metadata": {},
   "outputs": [
    {
     "data": {
      "text/plain": [
       "{\"'please\",\n",
       " '.stop',\n",
       " 'ah',\n",
       " 'boy',\n",
       " 'brah',\n",
       " 'em',\n",
       " 'hello',\n",
       " 'hey',\n",
       " 'hi',\n",
       " 'hubert',\n",
       " 'kitty',\n",
       " 'listen',\n",
       " 'mama',\n",
       " 'no',\n",
       " 'o.k.',\n",
       " 'oh',\n",
       " 'ok',\n",
       " 'okay',\n",
       " 'olaf',\n",
       " 'ooh',\n",
       " 'oooh',\n",
       " 'ow',\n",
       " 'uh',\n",
       " 'well',\n",
       " 'yeah',\n",
       " 'yes',\n",
       " 'yow',\n",
       " 'z'}"
      ]
     },
     "execution_count": 62,
     "metadata": {},
     "output_type": "execute_result"
    }
   ],
   "source": [
    "set(inter)"
   ]
  },
  {
   "cell_type": "markdown",
   "metadata": {},
   "source": [
    "Pretty cool that it was able to label some character names as interjections. But looking at them, they're such a mix of things that they don't really tell much about confidence of the speaker. "
   ]
  }
 ],
 "metadata": {
  "kernelspec": {
   "display_name": "Python 3",
   "language": "python",
   "name": "python3"
  },
  "language_info": {
   "codemirror_mode": {
    "name": "ipython",
    "version": 3
   },
   "file_extension": ".py",
   "mimetype": "text/x-python",
   "name": "python",
   "nbconvert_exporter": "python",
   "pygments_lexer": "ipython3",
   "version": "3.6.4"
  }
 },
 "nbformat": 4,
 "nbformat_minor": 2
}
